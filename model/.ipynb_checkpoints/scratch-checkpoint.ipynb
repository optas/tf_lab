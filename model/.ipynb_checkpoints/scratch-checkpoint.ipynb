{
 "cells": [
  {
   "cell_type": "code",
   "execution_count": 1,
   "metadata": {
    "collapsed": false
   },
   "outputs": [],
   "source": [
    "import sys\n",
    "import numpy as np\n",
    "import os.path as osp\n",
    "import tensorflow as tf\n",
    "from scipy import spatial\n",
    "from scipy.sparse.linalg import eigs\n",
    "import matplotlib.pyplot as plt\n",
    "%matplotlib inline\n",
    "\n",
    "git_path = '/Users/optas/Documents/Git_Repos/'\n",
    "sys.path.insert(0, git_path)\n",
    "import autopredictors.tf_wrapper.basics as basics\n",
    "from autopredictors import *"
   ]
  },
  {
   "cell_type": "code",
   "execution_count": 2,
   "metadata": {
    "collapsed": true
   },
   "outputs": [],
   "source": [
    "from tensorflow.models.image.cifar10 import cifar10\n",
    "cifar10.FLAGS.data_dir = '/Users/optas/DATA/CIFAR_10/'\n",
    "cifar10.maybe_download_and_extract()\n",
    "NUM_CLASSES = 10"
   ]
  },
  {
   "cell_type": "code",
   "execution_count": 3,
   "metadata": {
    "collapsed": false
   },
   "outputs": [
    {
     "name": "stdout",
     "output_type": "stream",
     "text": [
      "Filling queue with 20000 CIFAR images before starting to train. This will take a few minutes.\n"
     ]
    }
   ],
   "source": [
    "images, labels = cifar10.distorted_inputs()\n",
    "paddings = [[0,0], [50, 50,], [50, 50], [0,0]]\n",
    "images_big = tf.pad(images, paddings, \"CONSTANT\")\n"
   ]
  },
  {
   "cell_type": "code",
   "execution_count": 4,
   "metadata": {
    "collapsed": false
   },
   "outputs": [],
   "source": [
    "# g = tf.get_default_graph()\n",
    "\n",
    "def test_vgg_m_conv(in_signal, keep_prob, g, stddev=5e-2):\n",
    "    '''\n",
    "    DOI: Return of the Devil in the Details: Delving Deep into Convolutional Nets: Ken Chatfield et al.    \n",
    "    '''    \n",
    "    with tf.variable_scope('test_vgg') as scope:\n",
    "\n",
    "#         scope.reuse_variables()\n",
    "                \n",
    "        conv = convolutional_layer\n",
    "\n",
    "        layer = conv(in_signal, n_filters=96, filter_size=[7,7], stride=2, padding='SAME', stddev=stddev, name=\"conv_1\")\n",
    "        layer = max_pool(relu(layer), ksize=(3,3), stride=(2,2), name='max_pool_1')\n",
    "\n",
    "        layer = conv(layer, n_filters=256, filter_size=[5,5], stride=2, padding='SAME', stddev=stddev, name=\"conv_2\")\n",
    "        layer = max_pool(relu(layer), ksize=(3,3), stride=(2,2), name='max_pool_2')\n",
    "\n",
    "        layer = conv(layer, n_filters=512, filter_size=[3,3], stride=1, padding='SAME', stddev=stddev, name=\"conv_3\")\n",
    "        layer = relu(layer)\n",
    "\n",
    "        layer = conv(layer, n_filters=512, filter_size=[3,3], stride=1, padding='SAME', stddev=stddev, name=\"conv_4\")\n",
    "        layer = relu(layer)\n",
    "\n",
    "        layer = conv(layer, n_filters=512, filter_size=[3,3], stride=1, padding='SAME', stddev=stddev, name=\"conv_5\")\n",
    "        layer = max_pool(relu(layer), ksize=(3,3), stride=(2,2), name='max_pool_3')\n",
    "\n",
    "        out_dim = 30\n",
    "    \n",
    "        fc = fully_connected_layer(layer, out_dim, stddev, init_bias=0, name='fc')        \n",
    "        fc_w = g.get_tensor_by_name('test_vgg/fc/weights:0')\n",
    "        fc_cv = basics.fully_conected_via_convolutions(layer, out_dim, fc_w, init_bias=0, name='convolutional_fc')\n",
    "        \n",
    "    return fc_cv, fc\n",
    "    \n",
    "    \n"
   ]
  },
  {
   "cell_type": "code",
   "execution_count": 5,
   "metadata": {
    "collapsed": false
   },
   "outputs": [
    {
     "name": "stdout",
     "output_type": "stream",
     "text": [
      "Filling queue with 20000 CIFAR images before starting to train. This will take a few minutes.\n"
     ]
    }
   ],
   "source": [
    "with tf.Graph().as_default() as g:\n",
    "    \n",
    "        # Get images and labels for CIFAR-10.\n",
    "    images, labels = cifar10.distorted_inputs()\n",
    "    fc_cv, fc = test_vgg_m_conv(images, 1, g)\n",
    "    init = tf.initialize_all_variables()    \n",
    "    \n",
    "    sess = tf.Session(config=tf.ConfigProto(log_device_placement=False))\n",
    "    sess.run(init)\n",
    "#     # Start the queue runners.\n",
    "    tf.train.start_queue_runners(sess=sess)\n",
    "    \n",
    "    a,b= sess.run([fc_cv, fc])\n",
    "    \n",
    "\n",
    "    \n",
    "    \n",
    "\n"
   ]
  },
  {
   "cell_type": "code",
   "execution_count": 6,
   "metadata": {
    "collapsed": false
   },
   "outputs": [
    {
     "name": "stdout",
     "output_type": "stream",
     "text": [
      "[ -1.30178356  -2.7587359   -0.44003224  -6.17802811   1.33856463\n",
      "  -9.67213631  -9.85153961   9.35548592   5.58368778   3.49283624\n",
      "  -0.34546149  -6.26285458  -0.34403253   0.32118249  -8.02108479\n",
      "  -1.41228414   7.51557875   3.7451005   -5.10937595  -5.73066807\n",
      "   3.69846463  -3.89975119  -5.92798758  -2.59158468   1.22215366\n",
      " -10.55830383  -1.220366     0.48510283   5.70372391  -5.0838995 ]\n",
      "[  3.13292813  -4.38122225   1.21818638   6.56720257  -8.26295376\n",
      "   3.89810872   0.41413975  13.47775364   6.7143178    0.09132379\n",
      "  -2.93340921  -2.87598729  -1.33802533  -8.54172134  -2.40232944\n",
      "  10.08685207  -1.96702731  -3.38697076   2.21950555  -1.35389376\n",
      "   1.10876524   4.52778578   4.26267433   2.21499157  -2.66003442\n",
      "   1.46328354   4.30858421  10.74524879   5.20204735   4.78662395]\n"
     ]
    }
   ],
   "source": [
    "print a[1,:]\n",
    "print b[1,:]"
   ]
  }
 ],
 "metadata": {
  "kernelspec": {
   "display_name": "Python 2",
   "language": "python",
   "name": "python2"
  },
  "language_info": {
   "codemirror_mode": {
    "name": "ipython",
    "version": 2
   },
   "file_extension": ".py",
   "mimetype": "text/x-python",
   "name": "python",
   "nbconvert_exporter": "python",
   "pygments_lexer": "ipython2",
   "version": "2.7.12"
  }
 },
 "nbformat": 4,
 "nbformat_minor": 1
}
