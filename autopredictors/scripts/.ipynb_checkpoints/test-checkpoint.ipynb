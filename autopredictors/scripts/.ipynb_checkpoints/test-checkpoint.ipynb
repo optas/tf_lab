{
 "cells": [
  {
   "cell_type": "code",
   "execution_count": 1,
   "metadata": {
    "collapsed": false
   },
   "outputs": [],
   "source": [
    "import prepare_data_for_torch as pdt\n",
    "\n",
    "pdt.enumerate_all_segments('../torch/sectors_in_out/chairlist_10000.txt', '/Users/optas/Desktop/all_chairs_10k_pts_segs_enumerated.txt')\n",
    "pdt.shuffle_lines_of_file('/Users/optas/Desktop/all_chairs_10k_pts_segs_enumerated.txt', '/Users/optas/Desktop/all_chairs_10k_pts_segs_enumerated_shuffled.txt')                      "
   ]
  }
 ],
 "metadata": {
  "anaconda-cloud": {},
  "kernelspec": {
   "display_name": "Python [conda root]",
   "language": "python",
   "name": "conda-root-py"
  },
  "language_info": {
   "codemirror_mode": {
    "name": "ipython",
    "version": 2
   },
   "file_extension": ".py",
   "mimetype": "text/x-python",
   "name": "python",
   "nbconvert_exporter": "python",
   "pygments_lexer": "ipython2",
   "version": "2.7.12"
  }
 },
 "nbformat": 4,
 "nbformat_minor": 1
}
