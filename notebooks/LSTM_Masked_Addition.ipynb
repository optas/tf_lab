{
 "cells": [
  {
   "cell_type": "code",
   "execution_count": 1,
   "metadata": {
    "collapsed": false
   },
   "outputs": [],
   "source": [
    "import tensorflow as tf\n",
    "import numpy as np\n",
    "from tensorflow.python.ops import rnn, rnn_cell"
   ]
  },
  {
   "cell_type": "code",
   "execution_count": 2,
   "metadata": {
    "collapsed": false
   },
   "outputs": [],
   "source": [
    "#Defining some hyper-params\n",
    "n_input = 2     # this is the parameter for input_size in the basic LSTM cell\n",
    "n_hidden = 40    # num_units and input_size will be the same\n",
    "n_out = 1\n",
    "batch_size = 100\n",
    "n_steps = 55\n",
    "min_sequence_len = 45\n",
    "max_sequence_len = n_steps"
   ]
  },
  {
   "cell_type": "code",
   "execution_count": 3,
   "metadata": {
    "collapsed": true
   },
   "outputs": [],
   "source": [
    "def gen_data(min_length=50, max_length=55, n_batch=5):    \n",
    "    '''\n",
    "    Generate a batch of sequences for the \"add\" task, e.g. the target for the following\n",
    "    | 0.5 | 0.7 | 0.3 | 0.1 | 0.2 | ... | 0.5 | 0.9 | ... | 0.8 | 0.2 |\n",
    "    |  0  |  0  |  1  |  0  |  0  |     |  0  |  1  |     |  0  |  0  |\n",
    "    would be 0.3 + .9 = 1.2. \n",
    "    \n",
    "    Parameters\n",
    "    ----------\n",
    "    min_length : int\n",
    "        Minimum sequence length.\n",
    "    max_length : int\n",
    "        Maximum sequence length.\n",
    "    n_batch : int\n",
    "        Number of samples (sequences) in the batch.\n",
    "    Returns\n",
    "    -------\n",
    "    X : Input to the network, of shape (n_batch, max_length, 2), where the last\n",
    "        dimensions corresponds to the two sequences shown above.\n",
    "    y : Correct output for each sample, of shape (n_batch,)\n",
    "    '''\n",
    "    \n",
    "    X = np.concatenate([np.random.uniform(size=(n_batch, max_length, 1)),\n",
    "                        np.zeros((n_batch, max_length, 1))], axis=-1)\n",
    "    y = np.zeros((n_batch,))\n",
    "    # Compute masks and correct values\n",
    "    for n in range(n_batch):\n",
    "        # Randomly choose the sequence length\n",
    "        length = np.random.randint(min_length, max_length)\n",
    "        # Zero out X after the end of the sequence\n",
    "        X[n, length:, 0] = 0\n",
    "        # Set the second dimension to 1 at the indices to add\n",
    "        X[n, np.random.randint(length/2-1), 1] = 1\n",
    "        X[n, np.random.randint(length/2, length), 1] = 1\n",
    "        # Multiply and sum the dimensions of X to get the target value\n",
    "        y[n] = np.sum(X[n, :, 0]*X[n, :, 1])\n",
    "    return (X,y)    "
   ]
  },
  {
   "cell_type": "code",
   "execution_count": 4,
   "metadata": {
    "collapsed": false
   },
   "outputs": [],
   "source": [
    "# tf Graph input\n",
    "x = tf.placeholder(\"float\", [None, n_steps, n_input])\n",
    "y = tf.placeholder(\"float\", [None])\n",
    "\n",
    "def RNN(x):\n",
    "    # Prepare data shape to match `rnn` function requirements\n",
    "    # Current data input shape: (batch_size, n_steps, n_input)\n",
    "    # Required shape: 'n_steps' tensors list of shape (batch_size, n_input)\n",
    "    \n",
    "    # Permuting batch_size and n_steps\n",
    "    x = tf.transpose(x, [1, 0, 2])\n",
    "    # Reshaping to (n_steps*batch_size, n_input)\n",
    "    x = tf.reshape(x, [-1, n_input])\n",
    "    # Split to get a list of 'n_steps' tensors of shape (batch_size, n_input)\n",
    "    x = tf.split(0, n_steps, x)\n",
    "\n",
    "    # Define an lstm cell with tensorflow\n",
    "    lstm_cell = rnn_cell.BasicLSTMCell(n_hidden, forget_bias=1.0)\n",
    "\n",
    "    # Get lstm cell output\n",
    "    outputs, states = rnn.rnn(lstm_cell, x, dtype=tf.float32)\n",
    "\n",
    "    weights = tf.Variable(tf.random_normal([n_hidden, n_out], stddev=0.01))\n",
    "    biases = tf.Variable(tf.random_normal([n_out], stddev=0.01))\n",
    "    # Linear activation, using rnn inner loop last output\n",
    "    return tf.matmul(outputs[-1], weights) + biases\n",
    "\n",
    "pred = RNN(x)\n",
    "\n",
    "# Compute the cost for this batch of data via L2\n",
    "cost = tf.reduce_mean(tf.pow(pred-y, 2))    \n",
    "# compute updates to parameters in order to minimize cost\n",
    "train_op = tf.train.RMSPropOptimizer(0.005, 0.2).minimize(cost)"
   ]
  },
  {
   "cell_type": "code",
   "execution_count": null,
   "metadata": {
    "collapsed": false
   },
   "outputs": [
    {
     "name": "stdout",
     "output_type": "stream",
     "text": [
      "[-0.99700838]\n",
      "[-0.11385787]\n",
      "[0.038903829]\n",
      "[-0.13637443]\n",
      "[-0.065999694]\n",
      "[0.050550047]\n",
      "[-0.017763291]\n",
      "[-0.071639508]\n",
      "[0.1066631]\n",
      "[-0.11529452]\n",
      "[-0.089304686]\n",
      "[0.061037645]\n",
      "[-0.022104749]\n"
     ]
    }
   ],
   "source": [
    "#Defining some hyper-params\n",
    "num_iter = 50000\n",
    "print_step = 100\n",
    "validation_x, validation_y = gen_data(min_sequence_len, max_sequence_len, batch_size)        \n",
    "validation = tf.reduce_mean(pred-y)\n",
    "with tf.Session() as sess:\n",
    "    tf.initialize_all_variables().run()     # Initialize all variables in the model.\n",
    "    for i in range(num_iter):\n",
    "        batch_x, batch_y = gen_data(min_sequence_len, max_sequence_len, batch_size)        \n",
    "#         batch_y = np.reshape(batch_y, [batch_size, 1])        \n",
    "        sess.run([train_op], feed_dict={x:batch_x, y:batch_y})\n",
    "        if i % print_step == 0:\n",
    "            print sess.run([validation], feed_dict={x:validation_x, y:validation_y})\n",
    "\n",
    "        "
   ]
  }
 ],
 "metadata": {
  "kernelspec": {
   "display_name": "Python 2",
   "language": "python",
   "name": "python2"
  },
  "language_info": {
   "codemirror_mode": {
    "name": "ipython",
    "version": 2
   },
   "file_extension": ".py",
   "mimetype": "text/x-python",
   "name": "python",
   "nbconvert_exporter": "python",
   "pygments_lexer": "ipython2",
   "version": "2.7.12"
  }
 },
 "nbformat": 4,
 "nbformat_minor": 1
}
