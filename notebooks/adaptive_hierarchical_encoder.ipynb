{
 "cells": [
  {
   "cell_type": "code",
   "execution_count": 2,
   "metadata": {
    "collapsed": false
   },
   "outputs": [],
   "source": [
    "import sys\n",
    "import numpy as np\n",
    "import os.path as osp\n",
    "import tensorflow as tf\n",
    "import matplotlib.pyplot as plt\n",
    "from functools import partial\n",
    "\n",
    "from general_tools.notebook.tf import reset_tf_graph\n",
    "from general_tools.in_out import create_dir\n",
    "from general_tools.in_out.basics import create_dir, delete_files_in_directory, files_in_subdirs\n",
    "\n",
    "from geo_tool import Point_Cloud\n",
    "\n",
    "from tf_lab.in_out.basics import Data_Splitter\n",
    "from tf_lab.point_clouds.ae_templates import mlp_architecture_ala_iclr_18, default_train_params\n",
    "\n",
    "from tf_lab.point_clouds.autoencoder import Configuration as Conf\n",
    "from tf_lab.point_clouds.point_net_ae import PointNetAutoEncoder\n",
    "\n",
    "from tf_lab.point_clouds.in_out import load_point_clouds_from_filenames, PointCloudDataSet\n",
    "from tf_lab.data_sets.shape_net import pc_loader as snc_loader\n",
    "from tf_lab.data_sets.shape_net import snc_category_to_synth_id\n",
    "\n",
    "from tf_lab.iclr.helper import load_multiple_version_of_pcs, find_best_validation_epoch_from_train_stats"
   ]
  },
  {
   "cell_type": "code",
   "execution_count": 3,
   "metadata": {
    "collapsed": true
   },
   "outputs": [],
   "source": [
    "import tensorflow as tf\n",
    "import numpy as np\n",
    "import warnings\n",
    "\n",
    "from tflearn.layers.core import fully_connected, dropout\n",
    "from tflearn.layers.conv import conv_1d, avg_pool_1d, highway_conv_1d\n",
    "from tflearn.layers.normalization import batch_normalization\n",
    "from tflearn.layers.core import fully_connected\n",
    "\n",
    "from tf_lab.fundamentals.layers import conv_1d_tranpose\n",
    "from tf_lab.fundamentals.utils import expand_scope_by_name, replicate_parameter_for_all_layers"
   ]
  },
  {
   "cell_type": "code",
   "execution_count": 4,
   "metadata": {
    "collapsed": true
   },
   "outputs": [],
   "source": [
    "%load_ext autoreload\n",
    "%autoreload 2\n",
    "%matplotlib inline"
   ]
  },
  {
   "cell_type": "code",
   "execution_count": 5,
   "metadata": {
    "collapsed": true
   },
   "outputs": [],
   "source": [
    "dropout = tf.nn.dropout\n",
    "# from tflearn.layers.core import fully_connected, dropout\n"
   ]
  },
  {
   "cell_type": "code",
   "execution_count": 6,
   "metadata": {
    "collapsed": false
   },
   "outputs": [
    {
     "name": "stdout",
     "output_type": "stream",
     "text": [
      "Give me the class type: chair\n"
     ]
    }
   ],
   "source": [
    "top_data_dir = '/orions4-zfs/projects/optas/DATA/'\n",
    "# experiment_tag = 'mlp_with_split_1pc_usampled_bnorm_on_encoder_only'\n",
    "loss = 'chamfer'\n",
    "n_pc_points = 2048\n",
    "random_seed = 42\n",
    "# bneck_list = [128]\n",
    "class_name = raw_input('Give me the class type: ').lower()"
   ]
  },
  {
   "cell_type": "code",
   "execution_count": 7,
   "metadata": {
    "collapsed": false
   },
   "outputs": [
    {
     "name": "stdout",
     "output_type": "stream",
     "text": [
      "679 pclouds were loaded. They belong in 1 shape-classes.\n",
      "5761 pclouds were loaded. They belong in 1 shape-classes.\n",
      "338 pclouds were loaded. They belong in 1 shape-classes.\n"
     ]
    }
   ],
   "source": [
    "syn_id = snc_category_to_synth_id()[class_name]\n",
    "in_data = load_multiple_version_of_pcs('uniform_one', syn_id, n_classes=1, n_pc_points=2048)"
   ]
  },
  {
   "cell_type": "code",
   "execution_count": 8,
   "metadata": {
    "collapsed": true
   },
   "outputs": [],
   "source": [
    "def adaptive_hierarchical_encoder(in_signal, n_filters=[64, 128, 256, 1024], filter_sizes=[1], strides=[1],\n",
    "                                        b_norm=True, spn=False, non_linearity=tf.nn.relu, regularizer=None, weight_decay=0.001,\n",
    "                                        symmetry=tf.reduce_max, dropout_prob=None, pool=avg_pool_1d, pool_sizes=None, scope=None,\n",
    "                                        reuse=False, padding='same', verbose=False, closing=None, conv_op=conv_1d):\n",
    "    '''An Encoder (recognition network), which maps inputs onto a latent space.\n",
    "    '''\n",
    "\n",
    "    if verbose:\n",
    "        print 'Building Encoder'\n",
    "\n",
    "    n_pc_points = int(in_signal.shape[1])\n",
    "    batch_size = tf.shape(in_signal)[0]\n",
    "    \n",
    "#     with tf.name_scope(\"coupling_weights\"):\n",
    "#         W_couple = tf.random_normal(shape=(1, n_pc_points, n_pc_points), stddev=0.0001, dtype=tf.float32, name=\"W_coupling\")        \n",
    "#         W = tf.Variable(W_couple, name=\"W_couple\")\n",
    "#         coupler = tf.nn.softmax(W, dim=2, name=\"soft-max-coupling\")\n",
    "#         coupler = tf.tile(coupler, [batch_size, 1, 1])\n",
    "    \n",
    "\n",
    "    \n",
    "    n_layers = len(n_filters)\n",
    "    filter_sizes = replicate_parameter_for_all_layers(filter_sizes, n_layers)\n",
    "    strides = replicate_parameter_for_all_layers(strides, n_layers)\n",
    "#     dropout_prob = replicate_parameter_for_all_layers(dropout_prob, n_layers)\n",
    "\n",
    "    if n_layers < 2:\n",
    "        raise ValueError('More than 1 layers are expected.')\n",
    "\n",
    "    if spn:\n",
    "        transformer = pcloud_spn(in_signal)\n",
    "        in_signal = tf.batch_matmul(in_signal, transformer)\n",
    "        print 'Spatial transformer was activated.'\n",
    "    \n",
    "    codes = []\n",
    "    for i in xrange(n_layers):\n",
    "        if i == 0:\n",
    "            layer = in_signal\n",
    "\n",
    "        name = 'encoder_conv_layer_' + str(i)\n",
    "        scope_i = expand_scope_by_name(scope, name)\n",
    "        layer = conv_op(layer, nb_filter=n_filters[i], filter_size=filter_sizes[i], strides=strides[i], regularizer=regularizer,\n",
    "                        weight_decay=weight_decay, name=name, reuse=reuse, scope=scope_i, padding=padding)\n",
    "        \n",
    "        if verbose:\n",
    "            print name, 'conv params = ', np.prod(layer.W.get_shape().as_list()) + np.prod(layer.b.get_shape().as_list()),\n",
    "\n",
    "        if b_norm:\n",
    "            name += '_bnorm'\n",
    "            scope_i = expand_scope_by_name(scope, name)\n",
    "            layer = batch_normalization(layer, name=name, reuse=reuse, scope=scope_i)\n",
    "            if verbose:\n",
    "                print 'bnorm params = ', np.prod(layer.beta.get_shape().as_list()) + np.prod(layer.gamma.get_shape().as_list())\n",
    "\n",
    "        \n",
    "            layer = layer - tf.reduce_mean(layer, axis=[1], keep_dims=True)\n",
    "            cov_layer_i = tf.matmul(layer, layer, transpose_b=True)            \n",
    "            cov_layer_i = tf.nn.softmax(cov_layer_i, dim=1, name=\"soft-max-coupling\")            \n",
    "            cov_layer_i = tf.matrix_set_diag(cov_layer_i, tf.zeros(shape=(batch_size, n_pc_points)))                    \n",
    "            layer = tf.matmul(cov_layer_i, layer)\n",
    "            \n",
    "            \n",
    "        if non_linearity is not None:\n",
    "            layer = non_linearity(layer)\n",
    "\n",
    "        if pool is not None and pool_sizes is not None:\n",
    "            if pool_sizes[i] is not None:\n",
    "                layer = pool(layer, kernel_size=pool_sizes[i])\n",
    "\n",
    "#         layer = tf.matmul(coupler, layer)\n",
    "        codes.append(tf.reduce_max(layer, axis=1))\n",
    "        \n",
    "        if dropout_prob is not None and dropout_prob[i] != 0:\n",
    "            layer = dropout(layer, 1.0 - dropout_prob[i])\n",
    "\n",
    "        if verbose:\n",
    "            print layer\n",
    "            print 'output size:', np.prod(layer.get_shape().as_list()[1:]), '\\n'\n",
    "\n",
    "#     if symmetry is not None:\n",
    "#         layer = symmetry(layer, axis=1)\n",
    "#         if verbose:\n",
    "#             print layer\n",
    "\n",
    "#     if closing is not None:\n",
    "#         layer = closing(layer)\n",
    "#         print layer\n",
    "\n",
    "    return tf.concat(codes, axis=1)"
   ]
  },
  {
   "cell_type": "code",
   "execution_count": 9,
   "metadata": {
    "collapsed": true
   },
   "outputs": [],
   "source": [
    "conv_op = conv_1d\n",
    "n_filters = [32, 64, 64]\n",
    "filter_sizes = [1]\n",
    "strides = [1]\n",
    "bneck = 128\n",
    "encoder, decoder, enc_args, dec_args = mlp_architecture_ala_iclr_18(n_pc_points, bneck)\n",
    "\n",
    "enc_args = {'n_filters': n_filters}\n",
    "# in_signal = tf.placeholder(tf.float32, shape=(None, 2048, 3))"
   ]
  },
  {
   "cell_type": "code",
   "execution_count": null,
   "metadata": {
    "collapsed": true
   },
   "outputs": [],
   "source": [
    "# Try 32-32-32-32: to also be de-corelated"
   ]
  },
  {
   "cell_type": "code",
   "execution_count": 10,
   "metadata": {
    "collapsed": false
   },
   "outputs": [
    {
     "name": "stdout",
     "output_type": "stream",
     "text": [
      "                    batch_size: 50\n",
      "                 consistent_io: None\n",
      "                         debug: False\n",
      "                       decoder: decoder_with_fc_only\n",
      "                  decoder_args: {'b_norm_finish': False, 'verbose': True, 'b_norm': False, 'layer_sizes': [256, 256, 6144]}\n",
      "                       encoder: adaptive_hierarchical_encoder\n",
      "                  encoder_args: {'n_filters': [32, 64, 64]}\n",
      "                 gauss_augment: None\n",
      "                  is_denoising: False\n",
      "               latent_vs_recon: 1.0\n",
      "                 learning_rate: 0.0005\n",
      "                          loss: chamfer\n",
      "             loss_display_step: 1\n",
      "                       n_input: [2048, 3]\n",
      "                      n_output: [2048, 3]\n",
      "                           n_z: None\n",
      "             saver_max_to_keep: None\n",
      "                    saver_step: 10\n",
      "                     train_dir: /orions4-zfs/projects/optas/DATA/OUT/temp/1\n",
      "               training_epochs: 500\n",
      "                      z_rotate: False\n",
      "\n",
      "Building Decoder\n",
      "decoder_fc_0 FC params =  41216 Tensor(\"experiment_1_2/Relu_3:0\", shape=(?, 256), dtype=float32)\n",
      "output size: 256 \n",
      "\n",
      "decoder_fc_1 FC params =  65792 Tensor(\"experiment_1_2/Relu_4:0\", shape=(?, 256), dtype=float32)\n",
      "output size: 256 \n",
      "\n",
      "decoder_fc_2 FC params =  1579008 Tensor(\"experiment_1_2/decoder_fc_2/BiasAdd:0\", shape=(?, 6144), dtype=float32)\n",
      "output size: 6144 \n",
      "\n"
     ]
    }
   ],
   "source": [
    "train_params = default_train_params()\n",
    "# experiment_id = '_'.join(['ae', class_name, experiment_tag, str(n_pc_points), 'pts', str(bneck), 'bneck', loss])\n",
    "experiment_id = '1'\n",
    "train_dir = osp.join(top_data_dir, 'OUT/temp/', experiment_id)\n",
    "create_dir(train_dir)\n",
    "\n",
    "reset_tf_graph()\n",
    "\n",
    "conf = Conf(n_input = [n_pc_points, 3],\n",
    "            loss = loss,\n",
    "            training_epochs = 500,\n",
    "            batch_size = train_params['batch_size'],\n",
    "            denoising = False,\n",
    "            learning_rate = train_params['learning_rate'],\n",
    "            train_dir = train_dir,\n",
    "            loss_display_step = 1,\n",
    "            saver_step = train_params['saver_step'],\n",
    "            z_rotate = False,\n",
    "            encoder = adaptive_hierarchical_encoder,\n",
    "            decoder = decoder,\n",
    "            encoder_args = enc_args,\n",
    "            decoder_args = dec_args\n",
    "           )\n",
    "print conf\n",
    "conf.experiment_name = 'experiment_' + str(experiment_id)\n",
    "conf.held_out_step = 5\n",
    "conf.save(osp.join(train_dir, 'configuration'))\n",
    "ae = PointNetAutoEncoder(conf.experiment_name, conf)"
   ]
  },
  {
   "cell_type": "code",
   "execution_count": 11,
   "metadata": {
    "collapsed": false
   },
   "outputs": [
    {
     "name": "stdout",
     "output_type": "stream",
     "text": [
      "('Epoch:', '0001', 'training time (minutes)=', '0.7761', 'loss=', '4.347228478')\n",
      "INFO:tensorflow:/orions4-zfs/projects/optas/DATA/OUT/temp/1/models.ckpt-1 is not in all_model_checkpoint_paths. Manually adding it.\n"
     ]
    },
    {
     "name": "stderr",
     "output_type": "stream",
     "text": [
      "INFO:tensorflow:/orions4-zfs/projects/optas/DATA/OUT/temp/1/models.ckpt-1 is not in all_model_checkpoint_paths. Manually adding it.\n"
     ]
    },
    {
     "name": "stdout",
     "output_type": "stream",
     "text": [
      "('Epoch:', '0002', 'training time (minutes)=', '0.7839', 'loss=', '0.009512041')\n",
      "('Epoch:', '0003', 'training time (minutes)=', '0.7812', 'loss=', '0.005312244')\n",
      "('Epoch:', '0004', 'training time (minutes)=', '0.7843', 'loss=', '0.004636527')\n",
      "('Epoch:', '0005', 'training time (minutes)=', '0.7840', 'loss=', '0.004290106')\n",
      "('Held Out Data :', 'forward time (minutes)=', '0.0187', 'loss=', '0.004317523')\n",
      "('Epoch:', '0006', 'training time (minutes)=', '0.7868', 'loss=', '0.004175481')\n",
      "('Epoch:', '0007', 'training time (minutes)=', '0.7852', 'loss=', '0.004079544')\n",
      "('Epoch:', '0008', 'training time (minutes)=', '0.7845', 'loss=', '0.003960764')\n",
      "('Epoch:', '0009', 'training time (minutes)=', '0.7819', 'loss=', '0.003927543')\n",
      "('Epoch:', '0010', 'training time (minutes)=', '0.7834', 'loss=', '0.003848095')\n",
      "INFO:tensorflow:/orions4-zfs/projects/optas/DATA/OUT/temp/1/models.ckpt-10 is not in all_model_checkpoint_paths. Manually adding it.\n"
     ]
    },
    {
     "name": "stderr",
     "output_type": "stream",
     "text": [
      "INFO:tensorflow:/orions4-zfs/projects/optas/DATA/OUT/temp/1/models.ckpt-10 is not in all_model_checkpoint_paths. Manually adding it.\n"
     ]
    },
    {
     "name": "stdout",
     "output_type": "stream",
     "text": [
      "('Held Out Data :', 'forward time (minutes)=', '0.0182', 'loss=', '0.003835957')\n",
      "('Epoch:', '0011', 'training time (minutes)=', '0.7819', 'loss=', '0.003789509')\n",
      "('Epoch:', '0012', 'training time (minutes)=', '0.7816', 'loss=', '0.003805181')\n",
      "('Epoch:', '0013', 'training time (minutes)=', '0.7846', 'loss=', '0.003722762')\n",
      "('Epoch:', '0014', 'training time (minutes)=', '0.7810', 'loss=', '0.003672824')\n",
      "('Epoch:', '0015', 'training time (minutes)=', '0.7837', 'loss=', '0.003637800')\n",
      "('Held Out Data :', 'forward time (minutes)=', '0.0181', 'loss=', '0.003697135')\n",
      "('Epoch:', '0016', 'training time (minutes)=', '0.7795', 'loss=', '0.003616723')\n",
      "('Epoch:', '0017', 'training time (minutes)=', '0.7856', 'loss=', '0.003591503')\n",
      "('Epoch:', '0018', 'training time (minutes)=', '0.7827', 'loss=', '0.003585057')\n",
      "('Epoch:', '0019', 'training time (minutes)=', '0.7846', 'loss=', '0.003563007')\n",
      "('Epoch:', '0020', 'training time (minutes)=', '0.7803', 'loss=', '0.003512099')\n",
      "INFO:tensorflow:/orions4-zfs/projects/optas/DATA/OUT/temp/1/models.ckpt-20 is not in all_model_checkpoint_paths. Manually adding it.\n"
     ]
    },
    {
     "name": "stderr",
     "output_type": "stream",
     "text": [
      "INFO:tensorflow:/orions4-zfs/projects/optas/DATA/OUT/temp/1/models.ckpt-20 is not in all_model_checkpoint_paths. Manually adding it.\n"
     ]
    },
    {
     "name": "stdout",
     "output_type": "stream",
     "text": [
      "('Held Out Data :', 'forward time (minutes)=', '0.0182', 'loss=', '0.003638299')\n",
      "('Epoch:', '0021', 'training time (minutes)=', '0.7821', 'loss=', '0.003475786')\n",
      "('Epoch:', '0022', 'training time (minutes)=', '0.7809', 'loss=', '0.003470645')\n",
      "('Epoch:', '0023', 'training time (minutes)=', '0.7841', 'loss=', '0.003439170')\n",
      "('Epoch:', '0024', 'training time (minutes)=', '0.7818', 'loss=', '0.003470088')\n",
      "('Epoch:', '0025', 'training time (minutes)=', '0.7817', 'loss=', '0.003472187')\n",
      "('Held Out Data :', 'forward time (minutes)=', '0.0180', 'loss=', '0.003591115')\n",
      "('Epoch:', '0026', 'training time (minutes)=', '0.7816', 'loss=', '0.003414142')\n",
      "('Epoch:', '0027', 'training time (minutes)=', '0.7838', 'loss=', '0.003364596')\n",
      "('Epoch:', '0028', 'training time (minutes)=', '0.7819', 'loss=', '0.003377361')\n",
      "('Epoch:', '0029', 'training time (minutes)=', '0.7808', 'loss=', '0.003338949')\n",
      "('Epoch:', '0030', 'training time (minutes)=', '0.7859', 'loss=', '0.003314152')\n",
      "INFO:tensorflow:/orions4-zfs/projects/optas/DATA/OUT/temp/1/models.ckpt-30 is not in all_model_checkpoint_paths. Manually adding it.\n"
     ]
    },
    {
     "name": "stderr",
     "output_type": "stream",
     "text": [
      "INFO:tensorflow:/orions4-zfs/projects/optas/DATA/OUT/temp/1/models.ckpt-30 is not in all_model_checkpoint_paths. Manually adding it.\n"
     ]
    },
    {
     "name": "stdout",
     "output_type": "stream",
     "text": [
      "('Held Out Data :', 'forward time (minutes)=', '0.0180', 'loss=', '0.003380155')\n",
      "('Epoch:', '0031', 'training time (minutes)=', '0.7855', 'loss=', '0.003293955')\n",
      "('Epoch:', '0032', 'training time (minutes)=', '0.7868', 'loss=', '0.003299148')\n",
      "('Epoch:', '0033', 'training time (minutes)=', '0.7803', 'loss=', '0.003289762')\n",
      "('Epoch:', '0034', 'training time (minutes)=', '0.7819', 'loss=', '0.003254069')\n",
      "('Epoch:', '0035', 'training time (minutes)=', '0.7808', 'loss=', '0.003234351')\n",
      "('Held Out Data :', 'forward time (minutes)=', '0.0186', 'loss=', '0.003458057')\n",
      "('Epoch:', '0036', 'training time (minutes)=', '0.7831', 'loss=', '0.003237688')\n",
      "('Epoch:', '0037', 'training time (minutes)=', '0.7789', 'loss=', '0.003226528')\n",
      "('Epoch:', '0038', 'training time (minutes)=', '0.7800', 'loss=', '0.003199252')\n",
      "('Epoch:', '0039', 'training time (minutes)=', '0.7821', 'loss=', '0.003184653')\n",
      "('Epoch:', '0040', 'training time (minutes)=', '0.7819', 'loss=', '0.003164813')\n",
      "INFO:tensorflow:/orions4-zfs/projects/optas/DATA/OUT/temp/1/models.ckpt-40 is not in all_model_checkpoint_paths. Manually adding it.\n"
     ]
    },
    {
     "name": "stderr",
     "output_type": "stream",
     "text": [
      "INFO:tensorflow:/orions4-zfs/projects/optas/DATA/OUT/temp/1/models.ckpt-40 is not in all_model_checkpoint_paths. Manually adding it.\n"
     ]
    },
    {
     "name": "stdout",
     "output_type": "stream",
     "text": [
      "('Held Out Data :', 'forward time (minutes)=', '0.0180', 'loss=', '0.003396996')\n",
      "('Epoch:', '0041', 'training time (minutes)=', '0.7811', 'loss=', '0.003179506')\n",
      "('Epoch:', '0042', 'training time (minutes)=', '0.7818', 'loss=', '0.003144486')\n",
      "('Epoch:', '0043', 'training time (minutes)=', '0.7829', 'loss=', '0.003158143')\n",
      "('Epoch:', '0044', 'training time (minutes)=', '0.7801', 'loss=', '0.003139580')\n",
      "('Epoch:', '0045', 'training time (minutes)=', '0.7793', 'loss=', '0.003111395')\n",
      "('Held Out Data :', 'forward time (minutes)=', '0.0181', 'loss=', '0.003069802')\n",
      "('Epoch:', '0046', 'training time (minutes)=', '0.7831', 'loss=', '0.003085191')\n",
      "('Epoch:', '0047', 'training time (minutes)=', '0.7778', 'loss=', '0.003075235')\n",
      "('Epoch:', '0048', 'training time (minutes)=', '0.7806', 'loss=', '0.003077216')\n",
      "('Epoch:', '0049', 'training time (minutes)=', '0.7820', 'loss=', '0.003047635')\n",
      "('Epoch:', '0050', 'training time (minutes)=', '0.7820', 'loss=', '0.003096034')\n",
      "INFO:tensorflow:/orions4-zfs/projects/optas/DATA/OUT/temp/1/models.ckpt-50 is not in all_model_checkpoint_paths. Manually adding it.\n"
     ]
    },
    {
     "name": "stderr",
     "output_type": "stream",
     "text": [
      "INFO:tensorflow:/orions4-zfs/projects/optas/DATA/OUT/temp/1/models.ckpt-50 is not in all_model_checkpoint_paths. Manually adding it.\n"
     ]
    },
    {
     "name": "stdout",
     "output_type": "stream",
     "text": [
      "('Held Out Data :', 'forward time (minutes)=', '0.0181', 'loss=', '0.003320772')\n",
      "('Epoch:', '0051', 'training time (minutes)=', '0.7795', 'loss=', '0.003055434')\n",
      "('Epoch:', '0052', 'training time (minutes)=', '0.7848', 'loss=', '0.003049682')\n",
      "('Epoch:', '0053', 'training time (minutes)=', '0.7813', 'loss=', '0.003033042')\n",
      "('Epoch:', '0054', 'training time (minutes)=', '0.7829', 'loss=', '0.003043311')\n",
      "('Epoch:', '0055', 'training time (minutes)=', '0.7814', 'loss=', '0.003037758')\n",
      "('Held Out Data :', 'forward time (minutes)=', '0.0185', 'loss=', '0.003223051')\n",
      "('Epoch:', '0056', 'training time (minutes)=', '0.7810', 'loss=', '0.003040259')\n",
      "('Epoch:', '0057', 'training time (minutes)=', '0.7831', 'loss=', '0.003003834')\n",
      "('Epoch:', '0058', 'training time (minutes)=', '0.7819', 'loss=', '0.003025718')\n",
      "('Epoch:', '0059', 'training time (minutes)=', '0.7799', 'loss=', '0.002998102')\n",
      "('Epoch:', '0060', 'training time (minutes)=', '0.7785', 'loss=', '0.002998212')\n",
      "INFO:tensorflow:/orions4-zfs/projects/optas/DATA/OUT/temp/1/models.ckpt-60 is not in all_model_checkpoint_paths. Manually adding it.\n"
     ]
    },
    {
     "name": "stderr",
     "output_type": "stream",
     "text": [
      "INFO:tensorflow:/orions4-zfs/projects/optas/DATA/OUT/temp/1/models.ckpt-60 is not in all_model_checkpoint_paths. Manually adding it.\n"
     ]
    },
    {
     "name": "stdout",
     "output_type": "stream",
     "text": [
      "('Held Out Data :', 'forward time (minutes)=', '0.0182', 'loss=', '0.003246646')\n",
      "('Epoch:', '0061', 'training time (minutes)=', '0.7809', 'loss=', '0.002990812')\n",
      "('Epoch:', '0062', 'training time (minutes)=', '0.7809', 'loss=', '0.002999230')\n",
      "('Epoch:', '0063', 'training time (minutes)=', '0.7866', 'loss=', '0.002988516')\n",
      "('Epoch:', '0064', 'training time (minutes)=', '0.7815', 'loss=', '0.002988762')\n",
      "('Epoch:', '0065', 'training time (minutes)=', '0.7794', 'loss=', '0.002982031')\n",
      "('Held Out Data :', 'forward time (minutes)=', '0.0182', 'loss=', '0.003059974')\n",
      "('Epoch:', '0066', 'training time (minutes)=', '0.7830', 'loss=', '0.002962818')\n",
      "('Epoch:', '0067', 'training time (minutes)=', '0.7855', 'loss=', '0.002940032')\n",
      "('Epoch:', '0068', 'training time (minutes)=', '0.7841', 'loss=', '0.002954932')\n",
      "('Epoch:', '0069', 'training time (minutes)=', '0.7824', 'loss=', '0.002955107')\n",
      "('Epoch:', '0070', 'training time (minutes)=', '0.7808', 'loss=', '0.002963833')\n",
      "INFO:tensorflow:/orions4-zfs/projects/optas/DATA/OUT/temp/1/models.ckpt-70 is not in all_model_checkpoint_paths. Manually adding it.\n"
     ]
    },
    {
     "name": "stderr",
     "output_type": "stream",
     "text": [
      "INFO:tensorflow:/orions4-zfs/projects/optas/DATA/OUT/temp/1/models.ckpt-70 is not in all_model_checkpoint_paths. Manually adding it.\n"
     ]
    },
    {
     "name": "stdout",
     "output_type": "stream",
     "text": [
      "('Held Out Data :', 'forward time (minutes)=', '0.0185', 'loss=', '0.003238136')\n",
      "('Epoch:', '0071', 'training time (minutes)=', '0.7847', 'loss=', '0.002935405')\n",
      "('Epoch:', '0072', 'training time (minutes)=', '0.7818', 'loss=', '0.002960563')\n",
      "('Epoch:', '0073', 'training time (minutes)=', '0.7801', 'loss=', '0.003010393')\n",
      "('Epoch:', '0074', 'training time (minutes)=', '0.7823', 'loss=', '0.002917455')\n",
      "('Epoch:', '0075', 'training time (minutes)=', '0.7802', 'loss=', '0.002943933')\n",
      "('Held Out Data :', 'forward time (minutes)=', '0.0184', 'loss=', '0.003265606')\n",
      "('Epoch:', '0076', 'training time (minutes)=', '0.7873', 'loss=', '0.002945900')\n",
      "('Epoch:', '0077', 'training time (minutes)=', '0.7840', 'loss=', '0.002928250')\n",
      "('Epoch:', '0078', 'training time (minutes)=', '0.7846', 'loss=', '0.002923530')\n",
      "('Epoch:', '0079', 'training time (minutes)=', '0.7833', 'loss=', '0.002914809')\n",
      "('Epoch:', '0080', 'training time (minutes)=', '0.7832', 'loss=', '0.002940385')\n",
      "INFO:tensorflow:/orions4-zfs/projects/optas/DATA/OUT/temp/1/models.ckpt-80 is not in all_model_checkpoint_paths. Manually adding it.\n"
     ]
    },
    {
     "name": "stderr",
     "output_type": "stream",
     "text": [
      "INFO:tensorflow:/orions4-zfs/projects/optas/DATA/OUT/temp/1/models.ckpt-80 is not in all_model_checkpoint_paths. Manually adding it.\n"
     ]
    },
    {
     "name": "stdout",
     "output_type": "stream",
     "text": [
      "('Held Out Data :', 'forward time (minutes)=', '0.0185', 'loss=', '0.003230557')\n",
      "('Epoch:', '0081', 'training time (minutes)=', '0.7818', 'loss=', '0.002922130')\n",
      "('Epoch:', '0082', 'training time (minutes)=', '0.7800', 'loss=', '0.003004718')\n",
      "('Epoch:', '0083', 'training time (minutes)=', '0.7835', 'loss=', '0.002934772')\n",
      "('Epoch:', '0084', 'training time (minutes)=', '0.7820', 'loss=', '0.002897792')\n",
      "('Epoch:', '0085', 'training time (minutes)=', '0.7808', 'loss=', '0.002905121')\n",
      "('Held Out Data :', 'forward time (minutes)=', '0.0180', 'loss=', '0.002937309')\n",
      "('Epoch:', '0086', 'training time (minutes)=', '0.7816', 'loss=', '0.002913567')\n",
      "('Epoch:', '0087', 'training time (minutes)=', '0.7829', 'loss=', '0.002983211')\n",
      "('Epoch:', '0088', 'training time (minutes)=', '0.7818', 'loss=', '0.002952285')\n",
      "('Epoch:', '0089', 'training time (minutes)=', '0.7781', 'loss=', '0.002901172')\n",
      "('Epoch:', '0090', 'training time (minutes)=', '0.7826', 'loss=', '0.002910981')\n",
      "INFO:tensorflow:/orions4-zfs/projects/optas/DATA/OUT/temp/1/models.ckpt-90 is not in all_model_checkpoint_paths. Manually adding it.\n"
     ]
    },
    {
     "name": "stderr",
     "output_type": "stream",
     "text": [
      "INFO:tensorflow:/orions4-zfs/projects/optas/DATA/OUT/temp/1/models.ckpt-90 is not in all_model_checkpoint_paths. Manually adding it.\n"
     ]
    },
    {
     "name": "stdout",
     "output_type": "stream",
     "text": [
      "('Held Out Data :', 'forward time (minutes)=', '0.0183', 'loss=', '0.003015211')\n",
      "('Epoch:', '0091', 'training time (minutes)=', '0.7815', 'loss=', '0.002887442')\n",
      "('Epoch:', '0092', 'training time (minutes)=', '0.7815', 'loss=', '0.002877885')\n",
      "('Epoch:', '0093', 'training time (minutes)=', '0.7800', 'loss=', '0.002902017')\n",
      "('Epoch:', '0094', 'training time (minutes)=', '0.7809', 'loss=', '0.002910750')\n",
      "('Epoch:', '0095', 'training time (minutes)=', '0.7804', 'loss=', '0.002906002')\n",
      "('Held Out Data :', 'forward time (minutes)=', '0.0182', 'loss=', '0.003073532')\n",
      "('Epoch:', '0096', 'training time (minutes)=', '0.7811', 'loss=', '0.002904551')\n",
      "('Epoch:', '0097', 'training time (minutes)=', '0.7812', 'loss=', '0.002876838')\n",
      "('Epoch:', '0098', 'training time (minutes)=', '0.7818', 'loss=', '0.002929727')\n",
      "('Epoch:', '0099', 'training time (minutes)=', '0.7800', 'loss=', '0.002898823')\n",
      "('Epoch:', '0100', 'training time (minutes)=', '0.7817', 'loss=', '0.002882997')\n",
      "INFO:tensorflow:/orions4-zfs/projects/optas/DATA/OUT/temp/1/models.ckpt-100 is not in all_model_checkpoint_paths. Manually adding it.\n"
     ]
    },
    {
     "name": "stderr",
     "output_type": "stream",
     "text": [
      "INFO:tensorflow:/orions4-zfs/projects/optas/DATA/OUT/temp/1/models.ckpt-100 is not in all_model_checkpoint_paths. Manually adding it.\n"
     ]
    },
    {
     "name": "stdout",
     "output_type": "stream",
     "text": [
      "('Held Out Data :', 'forward time (minutes)=', '0.0182', 'loss=', '0.003063129')\n",
      "('Epoch:', '0101', 'training time (minutes)=', '0.7822', 'loss=', '0.002872543')\n",
      "('Epoch:', '0102', 'training time (minutes)=', '0.7857', 'loss=', '0.002909644')\n",
      "('Epoch:', '0103', 'training time (minutes)=', '0.7836', 'loss=', '0.002868585')\n",
      "('Epoch:', '0104', 'training time (minutes)=', '0.7851', 'loss=', '0.002890358')\n",
      "('Epoch:', '0105', 'training time (minutes)=', '0.7847', 'loss=', '0.002927707')\n",
      "('Held Out Data :', 'forward time (minutes)=', '0.0181', 'loss=', '0.003058616')\n",
      "('Epoch:', '0106', 'training time (minutes)=', '0.7901', 'loss=', '0.002903953')\n",
      "('Epoch:', '0107', 'training time (minutes)=', '0.7828', 'loss=', '0.003040317')\n",
      "('Epoch:', '0108', 'training time (minutes)=', '0.7818', 'loss=', '0.002901136')\n",
      "('Epoch:', '0109', 'training time (minutes)=', '0.7843', 'loss=', '0.002980003')\n",
      "('Epoch:', '0110', 'training time (minutes)=', '0.7851', 'loss=', '0.002942618')\n",
      "INFO:tensorflow:/orions4-zfs/projects/optas/DATA/OUT/temp/1/models.ckpt-110 is not in all_model_checkpoint_paths. Manually adding it.\n"
     ]
    },
    {
     "name": "stderr",
     "output_type": "stream",
     "text": [
      "INFO:tensorflow:/orions4-zfs/projects/optas/DATA/OUT/temp/1/models.ckpt-110 is not in all_model_checkpoint_paths. Manually adding it.\n"
     ]
    },
    {
     "name": "stdout",
     "output_type": "stream",
     "text": [
      "('Held Out Data :', 'forward time (minutes)=', '0.0181', 'loss=', '0.003095652')\n",
      "('Epoch:', '0111', 'training time (minutes)=', '0.7814', 'loss=', '0.002905327')\n",
      "('Epoch:', '0112', 'training time (minutes)=', '0.7828', 'loss=', '0.002869959')\n",
      "('Epoch:', '0113', 'training time (minutes)=', '0.7801', 'loss=', '0.002866160')\n",
      "('Epoch:', '0114', 'training time (minutes)=', '0.7811', 'loss=', '0.002898379')\n",
      "('Epoch:', '0115', 'training time (minutes)=', '0.7812', 'loss=', '0.002865578')\n",
      "('Held Out Data :', 'forward time (minutes)=', '0.0183', 'loss=', '0.003038573')\n",
      "('Epoch:', '0116', 'training time (minutes)=', '0.7830', 'loss=', '0.002875580')\n",
      "('Epoch:', '0117', 'training time (minutes)=', '0.7796', 'loss=', '0.002877388')\n",
      "('Epoch:', '0118', 'training time (minutes)=', '0.7827', 'loss=', '0.002876228')\n",
      "('Epoch:', '0119', 'training time (minutes)=', '0.7830', 'loss=', '0.002865110')\n",
      "('Epoch:', '0120', 'training time (minutes)=', '0.7844', 'loss=', '0.002877285')\n",
      "INFO:tensorflow:/orions4-zfs/projects/optas/DATA/OUT/temp/1/models.ckpt-120 is not in all_model_checkpoint_paths. Manually adding it.\n"
     ]
    },
    {
     "name": "stderr",
     "output_type": "stream",
     "text": [
      "INFO:tensorflow:/orions4-zfs/projects/optas/DATA/OUT/temp/1/models.ckpt-120 is not in all_model_checkpoint_paths. Manually adding it.\n"
     ]
    },
    {
     "name": "stdout",
     "output_type": "stream",
     "text": [
      "('Held Out Data :', 'forward time (minutes)=', '0.0181', 'loss=', '0.003071233')\n",
      "('Epoch:', '0121', 'training time (minutes)=', '0.7828', 'loss=', '0.002871649')\n",
      "('Epoch:', '0122', 'training time (minutes)=', '0.7809', 'loss=', '0.002892002')\n",
      "('Epoch:', '0123', 'training time (minutes)=', '0.7839', 'loss=', '0.002879017')\n",
      "('Epoch:', '0124', 'training time (minutes)=', '0.7796', 'loss=', '0.002893978')\n",
      "('Epoch:', '0125', 'training time (minutes)=', '0.7818', 'loss=', '0.002883885')\n",
      "('Held Out Data :', 'forward time (minutes)=', '0.0180', 'loss=', '0.002994052')\n",
      "('Epoch:', '0126', 'training time (minutes)=', '0.7824', 'loss=', '0.002859710')\n",
      "('Epoch:', '0127', 'training time (minutes)=', '0.7846', 'loss=', '0.002855167')\n",
      "('Epoch:', '0128', 'training time (minutes)=', '0.7808', 'loss=', '0.002852554')\n"
     ]
    },
    {
     "ename": "KeyboardInterrupt",
     "evalue": "",
     "output_type": "error",
     "traceback": [
      "\u001b[1;31m---------------------------------------------------------------------------\u001b[0m",
      "\u001b[1;31mKeyboardInterrupt\u001b[0m                         Traceback (most recent call last)",
      "\u001b[1;32m<ipython-input-11-ebc4830e670a>\u001b[0m in \u001b[0;36m<module>\u001b[1;34m()\u001b[0m\n\u001b[0;32m      1\u001b[0m \u001b[0mbuf_size\u001b[0m \u001b[1;33m=\u001b[0m \u001b[1;36m1\u001b[0m \u001b[1;31m# flush each line\u001b[0m\u001b[1;33m\u001b[0m\u001b[0m\n\u001b[0;32m      2\u001b[0m \u001b[0mfout\u001b[0m \u001b[1;33m=\u001b[0m \u001b[0mopen\u001b[0m\u001b[1;33m(\u001b[0m\u001b[0mosp\u001b[0m\u001b[1;33m.\u001b[0m\u001b[0mjoin\u001b[0m\u001b[1;33m(\u001b[0m\u001b[0mconf\u001b[0m\u001b[1;33m.\u001b[0m\u001b[0mtrain_dir\u001b[0m\u001b[1;33m,\u001b[0m \u001b[1;34m'train_stats.txt'\u001b[0m\u001b[1;33m)\u001b[0m\u001b[1;33m,\u001b[0m \u001b[1;34m'a'\u001b[0m\u001b[1;33m,\u001b[0m \u001b[0mbuf_size\u001b[0m\u001b[1;33m)\u001b[0m\u001b[1;33m\u001b[0m\u001b[0m\n\u001b[1;32m----> 3\u001b[1;33m \u001b[0mtrain_stats\u001b[0m \u001b[1;33m=\u001b[0m \u001b[0mae\u001b[0m\u001b[1;33m.\u001b[0m\u001b[0mtrain\u001b[0m\u001b[1;33m(\u001b[0m\u001b[0min_data\u001b[0m\u001b[1;33m[\u001b[0m\u001b[1;34m'train'\u001b[0m\u001b[1;33m]\u001b[0m\u001b[1;33m,\u001b[0m \u001b[0mconf\u001b[0m\u001b[1;33m,\u001b[0m \u001b[0mlog_file\u001b[0m\u001b[1;33m=\u001b[0m\u001b[0mfout\u001b[0m\u001b[1;33m,\u001b[0m \u001b[0mheld_out_data\u001b[0m\u001b[1;33m=\u001b[0m\u001b[0min_data\u001b[0m\u001b[1;33m[\u001b[0m\u001b[1;34m'val'\u001b[0m\u001b[1;33m]\u001b[0m\u001b[1;33m)\u001b[0m\u001b[1;33m\u001b[0m\u001b[0m\n\u001b[0m\u001b[0;32m      4\u001b[0m \u001b[0mfout\u001b[0m\u001b[1;33m.\u001b[0m\u001b[0mclose\u001b[0m\u001b[1;33m(\u001b[0m\u001b[1;33m)\u001b[0m\u001b[1;33m\u001b[0m\u001b[0m\n",
      "\u001b[1;32m/orions4-zfs/projects/optas/Git_Repos/tf_lab/point_clouds/autoencoder.pyc\u001b[0m in \u001b[0;36mtrain\u001b[1;34m(self, train_data, configuration, log_file, held_out_data)\u001b[0m\n\u001b[0;32m    178\u001b[0m \u001b[1;33m\u001b[0m\u001b[0m\n\u001b[0;32m    179\u001b[0m         \u001b[1;32mfor\u001b[0m \u001b[0m_\u001b[0m \u001b[1;32min\u001b[0m \u001b[0mxrange\u001b[0m\u001b[1;33m(\u001b[0m\u001b[0mc\u001b[0m\u001b[1;33m.\u001b[0m\u001b[0mtraining_epochs\u001b[0m\u001b[1;33m)\u001b[0m\u001b[1;33m:\u001b[0m\u001b[1;33m\u001b[0m\u001b[0m\n\u001b[1;32m--> 180\u001b[1;33m             \u001b[0mloss\u001b[0m\u001b[1;33m,\u001b[0m \u001b[0mduration\u001b[0m \u001b[1;33m=\u001b[0m \u001b[0mself\u001b[0m\u001b[1;33m.\u001b[0m\u001b[0m_single_epoch_train\u001b[0m\u001b[1;33m(\u001b[0m\u001b[0mtrain_data\u001b[0m\u001b[1;33m,\u001b[0m \u001b[0mc\u001b[0m\u001b[1;33m)\u001b[0m\u001b[1;33m\u001b[0m\u001b[0m\n\u001b[0m\u001b[0;32m    181\u001b[0m             \u001b[0mepoch\u001b[0m \u001b[1;33m=\u001b[0m \u001b[0mint\u001b[0m\u001b[1;33m(\u001b[0m\u001b[0mself\u001b[0m\u001b[1;33m.\u001b[0m\u001b[0msess\u001b[0m\u001b[1;33m.\u001b[0m\u001b[0mrun\u001b[0m\u001b[1;33m(\u001b[0m\u001b[0mself\u001b[0m\u001b[1;33m.\u001b[0m\u001b[0mepoch\u001b[0m\u001b[1;33m.\u001b[0m\u001b[0massign_add\u001b[0m\u001b[1;33m(\u001b[0m\u001b[0mtf\u001b[0m\u001b[1;33m.\u001b[0m\u001b[0mconstant\u001b[0m\u001b[1;33m(\u001b[0m\u001b[1;36m1.0\u001b[0m\u001b[1;33m)\u001b[0m\u001b[1;33m)\u001b[0m\u001b[1;33m)\u001b[0m\u001b[1;33m)\u001b[0m\u001b[1;33m\u001b[0m\u001b[0m\n\u001b[0;32m    182\u001b[0m             \u001b[0mstats\u001b[0m\u001b[1;33m.\u001b[0m\u001b[0mappend\u001b[0m\u001b[1;33m(\u001b[0m\u001b[1;33m(\u001b[0m\u001b[0mepoch\u001b[0m\u001b[1;33m,\u001b[0m \u001b[0mloss\u001b[0m\u001b[1;33m,\u001b[0m \u001b[0mduration\u001b[0m\u001b[1;33m)\u001b[0m\u001b[1;33m)\u001b[0m\u001b[1;33m\u001b[0m\u001b[0m\n",
      "\u001b[1;32m/orions4-zfs/projects/optas/Git_Repos/tf_lab/point_clouds/point_net_ae.pyc\u001b[0m in \u001b[0;36m_single_epoch_train\u001b[1;34m(self, train_data, configuration, only_fw)\u001b[0m\n\u001b[0;32m    145\u001b[0m                 \u001b[0m_\u001b[0m\u001b[1;33m,\u001b[0m \u001b[0mloss\u001b[0m \u001b[1;33m=\u001b[0m \u001b[0mfit\u001b[0m\u001b[1;33m(\u001b[0m\u001b[0mbatch_i\u001b[0m\u001b[1;33m,\u001b[0m \u001b[0moriginal_data\u001b[0m\u001b[1;33m)\u001b[0m\u001b[1;33m\u001b[0m\u001b[0m\n\u001b[0;32m    146\u001b[0m             \u001b[1;32melse\u001b[0m\u001b[1;33m:\u001b[0m\u001b[1;33m\u001b[0m\u001b[0m\n\u001b[1;32m--> 147\u001b[1;33m                 \u001b[0m_\u001b[0m\u001b[1;33m,\u001b[0m \u001b[0mloss\u001b[0m \u001b[1;33m=\u001b[0m \u001b[0mfit\u001b[0m\u001b[1;33m(\u001b[0m\u001b[0mbatch_i\u001b[0m\u001b[1;33m)\u001b[0m\u001b[1;33m\u001b[0m\u001b[0m\n\u001b[0m\u001b[0;32m    148\u001b[0m \u001b[1;33m\u001b[0m\u001b[0m\n\u001b[0;32m    149\u001b[0m             \u001b[1;31m# Compute average loss\u001b[0m\u001b[1;33m\u001b[0m\u001b[1;33m\u001b[0m\u001b[0m\n",
      "\u001b[1;32m/orions4-zfs/projects/optas/Git_Repos/tf_lab/point_clouds/autoencoder.pyc\u001b[0m in \u001b[0;36mpartial_fit\u001b[1;34m(self, X, GT, ret_reconstruction)\u001b[0m\n\u001b[0;32m    126\u001b[0m                 \u001b[0m_\u001b[0m\u001b[1;33m,\u001b[0m \u001b[0mloss\u001b[0m\u001b[1;33m,\u001b[0m \u001b[0mrecon\u001b[0m \u001b[1;33m=\u001b[0m \u001b[0mself\u001b[0m\u001b[1;33m.\u001b[0m\u001b[0msess\u001b[0m\u001b[1;33m.\u001b[0m\u001b[0mrun\u001b[0m\u001b[1;33m(\u001b[0m\u001b[1;33m(\u001b[0m\u001b[0mself\u001b[0m\u001b[1;33m.\u001b[0m\u001b[0mtrain_step\u001b[0m\u001b[1;33m,\u001b[0m \u001b[0mself\u001b[0m\u001b[1;33m.\u001b[0m\u001b[0mloss\u001b[0m\u001b[1;33m,\u001b[0m \u001b[0mx_recon\u001b[0m\u001b[1;33m)\u001b[0m\u001b[1;33m,\u001b[0m \u001b[0mfeed_dict\u001b[0m\u001b[1;33m=\u001b[0m\u001b[1;33m{\u001b[0m\u001b[0mself\u001b[0m\u001b[1;33m.\u001b[0m\u001b[0mx\u001b[0m\u001b[1;33m:\u001b[0m \u001b[0mX\u001b[0m\u001b[1;33m,\u001b[0m \u001b[0mself\u001b[0m\u001b[1;33m.\u001b[0m\u001b[0mgt\u001b[0m\u001b[1;33m:\u001b[0m \u001b[0mGT\u001b[0m\u001b[1;33m}\u001b[0m\u001b[1;33m)\u001b[0m\u001b[1;33m\u001b[0m\u001b[0m\n\u001b[0;32m    127\u001b[0m             \u001b[1;32melse\u001b[0m\u001b[1;33m:\u001b[0m\u001b[1;33m\u001b[0m\u001b[0m\n\u001b[1;32m--> 128\u001b[1;33m                 \u001b[0m_\u001b[0m\u001b[1;33m,\u001b[0m \u001b[0mloss\u001b[0m\u001b[1;33m,\u001b[0m \u001b[0mrecon\u001b[0m \u001b[1;33m=\u001b[0m \u001b[0mself\u001b[0m\u001b[1;33m.\u001b[0m\u001b[0msess\u001b[0m\u001b[1;33m.\u001b[0m\u001b[0mrun\u001b[0m\u001b[1;33m(\u001b[0m\u001b[1;33m(\u001b[0m\u001b[0mself\u001b[0m\u001b[1;33m.\u001b[0m\u001b[0mtrain_step\u001b[0m\u001b[1;33m,\u001b[0m \u001b[0mself\u001b[0m\u001b[1;33m.\u001b[0m\u001b[0mloss\u001b[0m\u001b[1;33m,\u001b[0m \u001b[0mx_recon\u001b[0m\u001b[1;33m)\u001b[0m\u001b[1;33m,\u001b[0m \u001b[0mfeed_dict\u001b[0m\u001b[1;33m=\u001b[0m\u001b[1;33m{\u001b[0m\u001b[0mself\u001b[0m\u001b[1;33m.\u001b[0m\u001b[0mx\u001b[0m\u001b[1;33m:\u001b[0m \u001b[0mX\u001b[0m\u001b[1;33m}\u001b[0m\u001b[1;33m)\u001b[0m\u001b[1;33m\u001b[0m\u001b[0m\n\u001b[0m\u001b[0;32m    129\u001b[0m \u001b[1;33m\u001b[0m\u001b[0m\n\u001b[0;32m    130\u001b[0m             \u001b[0mis_training\u001b[0m\u001b[1;33m(\u001b[0m\u001b[0mFalse\u001b[0m\u001b[1;33m,\u001b[0m \u001b[0msession\u001b[0m\u001b[1;33m=\u001b[0m\u001b[0mself\u001b[0m\u001b[1;33m.\u001b[0m\u001b[0msess\u001b[0m\u001b[1;33m)\u001b[0m\u001b[1;33m\u001b[0m\u001b[0m\n",
      "\u001b[1;32m/orions4-zfs/projects/optas/Virt_Env/tf_1.3/local/lib/python2.7/site-packages/tensorflow/python/client/session.pyc\u001b[0m in \u001b[0;36mrun\u001b[1;34m(self, fetches, feed_dict, options, run_metadata)\u001b[0m\n\u001b[0;32m    893\u001b[0m     \u001b[1;32mtry\u001b[0m\u001b[1;33m:\u001b[0m\u001b[1;33m\u001b[0m\u001b[0m\n\u001b[0;32m    894\u001b[0m       result = self._run(None, fetches, feed_dict, options_ptr,\n\u001b[1;32m--> 895\u001b[1;33m                          run_metadata_ptr)\n\u001b[0m\u001b[0;32m    896\u001b[0m       \u001b[1;32mif\u001b[0m \u001b[0mrun_metadata\u001b[0m\u001b[1;33m:\u001b[0m\u001b[1;33m\u001b[0m\u001b[0m\n\u001b[0;32m    897\u001b[0m         \u001b[0mproto_data\u001b[0m \u001b[1;33m=\u001b[0m \u001b[0mtf_session\u001b[0m\u001b[1;33m.\u001b[0m\u001b[0mTF_GetBuffer\u001b[0m\u001b[1;33m(\u001b[0m\u001b[0mrun_metadata_ptr\u001b[0m\u001b[1;33m)\u001b[0m\u001b[1;33m\u001b[0m\u001b[0m\n",
      "\u001b[1;32m/orions4-zfs/projects/optas/Virt_Env/tf_1.3/local/lib/python2.7/site-packages/tensorflow/python/client/session.pyc\u001b[0m in \u001b[0;36m_run\u001b[1;34m(self, handle, fetches, feed_dict, options, run_metadata)\u001b[0m\n\u001b[0;32m   1122\u001b[0m     \u001b[1;32mif\u001b[0m \u001b[0mfinal_fetches\u001b[0m \u001b[1;32mor\u001b[0m \u001b[0mfinal_targets\u001b[0m \u001b[1;32mor\u001b[0m \u001b[1;33m(\u001b[0m\u001b[0mhandle\u001b[0m \u001b[1;32mand\u001b[0m \u001b[0mfeed_dict_tensor\u001b[0m\u001b[1;33m)\u001b[0m\u001b[1;33m:\u001b[0m\u001b[1;33m\u001b[0m\u001b[0m\n\u001b[0;32m   1123\u001b[0m       results = self._do_run(handle, final_targets, final_fetches,\n\u001b[1;32m-> 1124\u001b[1;33m                              feed_dict_tensor, options, run_metadata)\n\u001b[0m\u001b[0;32m   1125\u001b[0m     \u001b[1;32melse\u001b[0m\u001b[1;33m:\u001b[0m\u001b[1;33m\u001b[0m\u001b[0m\n\u001b[0;32m   1126\u001b[0m       \u001b[0mresults\u001b[0m \u001b[1;33m=\u001b[0m \u001b[1;33m[\u001b[0m\u001b[1;33m]\u001b[0m\u001b[1;33m\u001b[0m\u001b[0m\n",
      "\u001b[1;32m/orions4-zfs/projects/optas/Virt_Env/tf_1.3/local/lib/python2.7/site-packages/tensorflow/python/client/session.pyc\u001b[0m in \u001b[0;36m_do_run\u001b[1;34m(self, handle, target_list, fetch_list, feed_dict, options, run_metadata)\u001b[0m\n\u001b[0;32m   1319\u001b[0m     \u001b[1;32mif\u001b[0m \u001b[0mhandle\u001b[0m \u001b[1;32mis\u001b[0m \u001b[0mNone\u001b[0m\u001b[1;33m:\u001b[0m\u001b[1;33m\u001b[0m\u001b[0m\n\u001b[0;32m   1320\u001b[0m       return self._do_call(_run_fn, self._session, feeds, fetches, targets,\n\u001b[1;32m-> 1321\u001b[1;33m                            options, run_metadata)\n\u001b[0m\u001b[0;32m   1322\u001b[0m     \u001b[1;32melse\u001b[0m\u001b[1;33m:\u001b[0m\u001b[1;33m\u001b[0m\u001b[0m\n\u001b[0;32m   1323\u001b[0m       \u001b[1;32mreturn\u001b[0m \u001b[0mself\u001b[0m\u001b[1;33m.\u001b[0m\u001b[0m_do_call\u001b[0m\u001b[1;33m(\u001b[0m\u001b[0m_prun_fn\u001b[0m\u001b[1;33m,\u001b[0m \u001b[0mself\u001b[0m\u001b[1;33m.\u001b[0m\u001b[0m_session\u001b[0m\u001b[1;33m,\u001b[0m \u001b[0mhandle\u001b[0m\u001b[1;33m,\u001b[0m \u001b[0mfeeds\u001b[0m\u001b[1;33m,\u001b[0m \u001b[0mfetches\u001b[0m\u001b[1;33m)\u001b[0m\u001b[1;33m\u001b[0m\u001b[0m\n",
      "\u001b[1;32m/orions4-zfs/projects/optas/Virt_Env/tf_1.3/local/lib/python2.7/site-packages/tensorflow/python/client/session.pyc\u001b[0m in \u001b[0;36m_do_call\u001b[1;34m(self, fn, *args)\u001b[0m\n\u001b[0;32m   1325\u001b[0m   \u001b[1;32mdef\u001b[0m \u001b[0m_do_call\u001b[0m\u001b[1;33m(\u001b[0m\u001b[0mself\u001b[0m\u001b[1;33m,\u001b[0m \u001b[0mfn\u001b[0m\u001b[1;33m,\u001b[0m \u001b[1;33m*\u001b[0m\u001b[0margs\u001b[0m\u001b[1;33m)\u001b[0m\u001b[1;33m:\u001b[0m\u001b[1;33m\u001b[0m\u001b[0m\n\u001b[0;32m   1326\u001b[0m     \u001b[1;32mtry\u001b[0m\u001b[1;33m:\u001b[0m\u001b[1;33m\u001b[0m\u001b[0m\n\u001b[1;32m-> 1327\u001b[1;33m       \u001b[1;32mreturn\u001b[0m \u001b[0mfn\u001b[0m\u001b[1;33m(\u001b[0m\u001b[1;33m*\u001b[0m\u001b[0margs\u001b[0m\u001b[1;33m)\u001b[0m\u001b[1;33m\u001b[0m\u001b[0m\n\u001b[0m\u001b[0;32m   1328\u001b[0m     \u001b[1;32mexcept\u001b[0m \u001b[0merrors\u001b[0m\u001b[1;33m.\u001b[0m\u001b[0mOpError\u001b[0m \u001b[1;32mas\u001b[0m \u001b[0me\u001b[0m\u001b[1;33m:\u001b[0m\u001b[1;33m\u001b[0m\u001b[0m\n\u001b[0;32m   1329\u001b[0m       \u001b[0mmessage\u001b[0m \u001b[1;33m=\u001b[0m \u001b[0mcompat\u001b[0m\u001b[1;33m.\u001b[0m\u001b[0mas_text\u001b[0m\u001b[1;33m(\u001b[0m\u001b[0me\u001b[0m\u001b[1;33m.\u001b[0m\u001b[0mmessage\u001b[0m\u001b[1;33m)\u001b[0m\u001b[1;33m\u001b[0m\u001b[0m\n",
      "\u001b[1;32m/orions4-zfs/projects/optas/Virt_Env/tf_1.3/local/lib/python2.7/site-packages/tensorflow/python/client/session.pyc\u001b[0m in \u001b[0;36m_run_fn\u001b[1;34m(session, feed_dict, fetch_list, target_list, options, run_metadata)\u001b[0m\n\u001b[0;32m   1304\u001b[0m           return tf_session.TF_Run(session, options,\n\u001b[0;32m   1305\u001b[0m                                    \u001b[0mfeed_dict\u001b[0m\u001b[1;33m,\u001b[0m \u001b[0mfetch_list\u001b[0m\u001b[1;33m,\u001b[0m \u001b[0mtarget_list\u001b[0m\u001b[1;33m,\u001b[0m\u001b[1;33m\u001b[0m\u001b[0m\n\u001b[1;32m-> 1306\u001b[1;33m                                    status, run_metadata)\n\u001b[0m\u001b[0;32m   1307\u001b[0m \u001b[1;33m\u001b[0m\u001b[0m\n\u001b[0;32m   1308\u001b[0m     \u001b[1;32mdef\u001b[0m \u001b[0m_prun_fn\u001b[0m\u001b[1;33m(\u001b[0m\u001b[0msession\u001b[0m\u001b[1;33m,\u001b[0m \u001b[0mhandle\u001b[0m\u001b[1;33m,\u001b[0m \u001b[0mfeed_dict\u001b[0m\u001b[1;33m,\u001b[0m \u001b[0mfetch_list\u001b[0m\u001b[1;33m)\u001b[0m\u001b[1;33m:\u001b[0m\u001b[1;33m\u001b[0m\u001b[0m\n",
      "\u001b[1;31mKeyboardInterrupt\u001b[0m: "
     ]
    }
   ],
   "source": [
    "buf_size = 1 # flush each line\n",
    "fout = open(osp.join(conf.train_dir, 'train_stats.txt'), 'a', buf_size)\n",
    "train_stats = ae.train(in_data['train'], conf, log_file=fout, held_out_data=in_data['val'])\n",
    "fout.close()"
   ]
  },
  {
   "cell_type": "code",
   "execution_count": 15,
   "metadata": {
    "collapsed": false
   },
   "outputs": [
    {
     "data": {
      "image/png": "[encoded data removed]",
      "text/plain": [
       "<matplotlib.figure.Figure at 0x7f1ed8238a10>"
      ]
     },
     "metadata": {},
     "output_type": "display_data"
    },
    {
     "data": {
      "image/png": "[encoded data removed]",
      "text/plain": [
       "<matplotlib.figure.Figure at 0x7f1ed8238a10>"
      ]
     },
     "execution_count": 15,
     "metadata": {},
     "output_type": "execute_result"
    }
   ],
   "source": [
    "Point_Cloud(ae.reconstruct(in_data['test'].next_batch(1)[0])[0][0]).plot()"
   ]
  },
  {
   "cell_type": "code",
   "execution_count": 74,
   "metadata": {
    "collapsed": true
   },
   "outputs": [],
   "source": [
    "g = tf.get_default_graph()\n",
    "# g.get_all_collection_keys()\n",
    "v = g.get_collection('trainable_variables')[0]"
   ]
  },
  {
   "cell_type": "code",
   "execution_count": 75,
   "metadata": {
    "collapsed": false
   },
   "outputs": [
    {
     "data": {
      "text/plain": [
       "array([ 1.        ,  1.        ,  0.99999982, ...,  0.99999988,\n",
       "        1.        ,  0.99999976], dtype=float32)"
      ]
     },
     "execution_count": 75,
     "metadata": {},
     "output_type": "execute_result"
    }
   ],
   "source": [
    "lala = ae.sess.run(tf.nn.softmax(v, dim=2), feed_dict={ae.x:in_data['train'].next_batch(50)[0]})[0]\n",
    "np.sum(lala, axis=1)"
   ]
  },
  {
   "cell_type": "code",
   "execution_count": null,
   "metadata": {
    "collapsed": false
   },
   "outputs": [],
   "source": [
    "plt.plot(lala[:,4])\n",
    "plt.plot(lala[:,100])"
   ]
  },
  {
   "cell_type": "code",
   "execution_count": null,
   "metadata": {
    "collapsed": true
   },
   "outputs": [],
   "source": [
    "# out = adaptive_hierarchical_encoder(in_signal, n_filters=n_filters, filter_sizes=[1], strides=[1],\n",
    "#                               b_norm=True, spn=False, non_linearity=tf.nn.relu, regularizer=None, weight_decay=0.001,\n",
    "#                               symmetry=tf.reduce_max, dropout_prob=None, pool=avg_pool_1d, pool_sizes=None, scope=None,\n",
    "#                               reuse=False, padding='same', verbose=False, closing=None, conv_op=conv_1d)"
   ]
  }
 ],
 "metadata": {
  "kernelspec": {
   "display_name": "TensorFlow1",
   "language": "python",
   "name": "tf1"
  },
  "language_info": {
   "codemirror_mode": {
    "name": "ipython",
    "version": 2
   },
   "file_extension": ".py",
   "mimetype": "text/x-python",
   "name": "python",
   "nbconvert_exporter": "python",
   "pygments_lexer": "ipython2",
   "version": "2.7.6"
  }
 },
 "nbformat": 4,
 "nbformat_minor": 0
}
