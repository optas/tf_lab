{
 "cells": [
  {
   "cell_type": "code",
   "execution_count": 1,
   "metadata": {
    "collapsed": false,
    "deletable": true,
    "editable": true
   },
   "outputs": [
    {
     "name": "stderr",
     "output_type": "stream",
     "text": [
      "/usr/local/lib/python2.7/dist-packages/matplotlib/font_manager.py:273: UserWarning: Matplotlib is building the font cache using fc-list. This may take a moment.\n",
      "  warnings.warn('Matplotlib is building the font cache using fc-list. This may take a moment.')\n",
      "/orions4-zfs/projects/lins2/Jingwei_Space/Git_Repos/geo_tool/solids/mesh.py:26: UserWarning: Mayavi library was not found. Some graphics utilities will be disabled.\n",
      "  warnings.warn('Mayavi library was not found. Some graphics utilities will be disabled.')\n"
     ]
    }
   ],
   "source": [
    "from functools import partial\n",
    "from multiprocessing.dummy import Pool\n",
    "from subprocess import call\n",
    "import os.path as osp\n",
    "from general_tools.in_out.basics import files_in_subdirs, create_dir\n",
    "from tf_lab.autopredictors.scripts.helper import shape_net_category_to_synth_id\n",
    "from geo_tool.in_out.soup import load_wavefront_obj, write_wavefront_obj"
   ]
  },
  {
   "cell_type": "code",
   "execution_count": 2,
   "metadata": {
    "collapsed": true,
    "deletable": true,
    "editable": true
   },
   "outputs": [],
   "source": [
    "# Parameters\n",
    "\n",
    "binary = '/orions-zfs/software/blender-2.71/blender '\n",
    "binary_arg1 = '/orions4-zfs/projects/lins2/Panos_Space/Testing/Hao/blank.blend '\n",
    "#binary_arg2 = '--background --python /orions4-zfs/projects/lins2/Panos_Space/Testing/Hao/render.py '\n",
    "binary_arg2 = '--background --python /orions4-zfs/projects/lins2/Jingwei_Space/Testing/Hao/render.py'\n",
    "binary = binary + binary_arg1 + binary_arg2\n",
    "\n",
    "#top_out_image_dir = '/orions4-zfs/projects/lins2/Panos_Space/DATA/Meshes/Shape_Net_Core/2015_Summer_OUT/Images/'\n",
    "top_out_image_dir = '/orions4-zfs/projects/lins2/Jingwei_Space/Jingwei_DATA/Meshes/Shape_Net_Core/2015_Summer_OUT/Images'\n",
    "thread_num = 40"
   ]
  },
  {
   "cell_type": "code",
   "execution_count": 3,
   "metadata": {
    "collapsed": false,
    "deletable": true,
    "editable": true
   },
   "outputs": [
    {
     "name": "stdout",
     "output_type": "stream",
     "text": [
      "Give me the class type.\n",
      "chair\n",
      "03001627\n"
     ]
    }
   ],
   "source": [
    "class_name = raw_input('Give me the class type.\\n').lower()\n",
    "syn_id = shape_net_category_to_synth_id()[class_name]\n",
    "print syn_id\n",
    "\n",
    "top_in_dir = '/orions4-zfs/projects/lins2/Panos_Space/DATA/Meshes/Shape_Net_Core/2015_Summer/' \n",
    "top_in_dir = osp.join(top_in_dir, syn_id)\n",
    "\n",
    "top_out_dir = osp.join(top_out_image_dir, syn_id)"
   ]
  },
  {
   "cell_type": "code",
   "execution_count": 4,
   "metadata": {
    "collapsed": false,
    "deletable": true,
    "editable": true
   },
   "outputs": [
    {
     "name": "stdout",
     "output_type": "stream",
     "text": [
      "6778\n"
     ]
    }
   ],
   "source": [
    "search_pattern = '.obj$'\n",
    "all_in_files = [f for f in files_in_subdirs(top_in_dir, search_pattern)]\n",
    "print len(all_in_files)"
   ]
  },
  {
   "cell_type": "code",
   "execution_count": 25,
   "metadata": {
    "collapsed": false,
    "deletable": true,
    "editable": true
   },
   "outputs": [
    {
     "name": "stdout",
     "output_type": "stream",
     "text": [
      "generating obj 0\n",
      "generating obj 1000\n",
      "generating obj 2000\n",
      "generating obj 3000\n",
      "generating obj 4000\n",
      "generating obj 5000\n",
      "generating obj 6000\n",
      "/orions-zfs/software/blender-2.71/blender /orions4-zfs/projects/lins2/Panos_Space/Testing/Hao/blank.blend --background --python /orions4-zfs/projects/lins2/Jingwei_Space/Testing/Hao/render.py /orions4-zfs/projects/lins2/Jingwei_Space/Jingwei_DATA/Meshes/Shape_Net_Core/2015_Summer_OUT/Images/03001627/df8374d8f3563be8f1783a44a88d6274/model.obj /orions4-zfs/projects/lins2/Jingwei_Space/Jingwei_DATA/Meshes/Shape_Net_Core/2015_Summer_OUT/Images/03001627/df8374d8f3563be8f1783a44a88d6274\n",
      "\n",
      "Total number of commands is 6778\n"
     ]
    }
   ],
   "source": [
    "commands = []\n",
    "for i, in_f in enumerate(all_in_files):\n",
    "    if i % 1000 == 0:\n",
    "        print 'generating obj', i\n",
    "    model_name = in_f.split('/')[-2]\n",
    "    out_dir = create_dir(osp.join(top_out_dir, model_name))\n",
    "    \n",
    "    vertices, faces, normals = load_wavefront_obj(in_f)\n",
    "    out_obj = osp.join(out_dir, 'model.obj')\n",
    "    write_wavefront_obj(out_obj, vertices, faces, normals)\n",
    "    \n",
    "    command = '%s %s %s' % (binary, out_obj, out_dir)\n",
    "    commands.append(command)\n",
    "\n",
    "print commands[0]\n",
    "print ('\\nTotal number of commands is %d' % (len(commands)))"
   ]
  },
  {
   "cell_type": "code",
   "execution_count": 27,
   "metadata": {
    "collapsed": false,
    "deletable": true,
    "editable": true
   },
   "outputs": [
    {
     "name": "stdout",
     "output_type": "stream",
     "text": [
      "rendering 0\n",
      "rendering 1000\n",
      "rendering 2000\n",
      "rendering 3000\n",
      "rendering 4000\n",
      "rendering 5000\n",
      "rendering 6000\n"
     ]
    }
   ],
   "source": [
    "pool = Pool(thread_num)\n",
    "for idx, return_code in enumerate(pool.imap(partial(call, shell=True), commands)):\n",
    "    if idx % 1000 == 0:\n",
    "        print 'rendering', idx\n",
    "    if return_code != 0:\n",
    "        print('command %d of %s failed' % (idx, commands[idx]))"
   ]
  },
  {
   "cell_type": "code",
   "execution_count": 21,
   "metadata": {
    "collapsed": false,
    "deletable": true,
    "editable": true
   },
   "outputs": [
    {
     "name": "stdout",
     "output_type": "stream",
     "text": [
      "The autoreload extension is already loaded. To reload it, use:\n",
      "  %reload_ext autoreload\n"
     ]
    }
   ],
   "source": [
    "import matplotlib.pyplot as plt\n",
    "\n",
    "%load_ext autoreload\n",
    "%autoreload 2\n",
    "%matplotlib inline"
   ]
  },
  {
   "cell_type": "code",
   "execution_count": 23,
   "metadata": {
    "collapsed": false
   },
   "outputs": [
    {
     "data": {
      "text/plain": [
       "<matplotlib.image.AxesImage at 0x7fb2ef040d50>"
      ]
     },
     "execution_count": 23,
     "metadata": {},
     "output_type": "execute_result"
    },
    {
     "data": {
      "image/png": "[encoded data removed]",
      "text/plain": [
       "<matplotlib.figure.Figure at 0x7fb2ece51750>"
      ]
     },
     "metadata": {},
     "output_type": "display_data"
    }
   ],
   "source": [
    "img_path = osp.join(top_out_dir, 'df8374d8f3563be8f1783a44a88d6274', 'image_p020_t067_r005.png')\n",
    "img = plt.imread(img_path)\n",
    "plt.imshow(img)"
   ]
  }
 ],
 "metadata": {
  "kernelspec": {
   "display_name": "Python 2",
   "language": "python",
   "name": "python2"
  },
  "language_info": {
   "codemirror_mode": {
    "name": "ipython",
    "version": 2
   },
   "file_extension": ".py",
   "mimetype": "text/x-python",
   "name": "python",
   "nbconvert_exporter": "python",
   "pygments_lexer": "ipython2",
   "version": "2.7.6"
  }
 },
 "nbformat": 4,
 "nbformat_minor": 2
}
