{
 "cells": [
  {
   "cell_type": "code",
   "execution_count": 1,
   "metadata": {
    "collapsed": false,
    "deletable": true,
    "editable": true
   },
   "outputs": [
    {
     "name": "stderr",
     "output_type": "stream",
     "text": [
      "/usr/local/lib/python2.7/dist-packages/matplotlib/font_manager.py:273: UserWarning: Matplotlib is building the font cache using fc-list. This may take a moment.\n",
      "  warnings.warn('Matplotlib is building the font cache using fc-list. This may take a moment.')\n",
      "/orions4-zfs/projects/lins2/Panos_Space/Git_Repos/geo_tool/solids/mesh.py:26: UserWarning: Mayavi library was not found. Some graphics utilities will be disabled.\n",
      "  warnings.warn('Mayavi library was not found. Some graphics utilities will be disabled.')\n"
     ]
    }
   ],
   "source": [
    "import sys\n",
    "import time\n",
    "import numpy as np\n",
    "import os.path as osp\n",
    "import tensorflow as tf\n",
    "import matplotlib.pyplot as plt\n",
    "\n",
    "from tf_lab.fundamentals.utils import set_visible_GPUs, reset_tf_graph\n",
    "\n",
    "import tf_lab.point_clouds.in_out as pio\n",
    "from tf_lab.point_clouds.in_out import PointCloudDataSet, write_model_ids_of_datasets\n",
    "from tf_lab.point_clouds.point_net_ae import PointNetAutoEncoder\n",
    "from tf_lab.point_clouds.autoencoder import Configuration as Conf\n",
    "import tf_lab.point_clouds.encoders_decoders as enc_dec\n",
    "\n",
    "from tf_lab.autopredictors.scripts.helper import shape_net_category_to_synth_id, match_incomplete_to_complete_data\n",
    "\n",
    "from tf_lab.autopredictors.plotting import plot_original_pclouds_vs_reconstructed, \\\n",
    "                                           plot_train_val_test_curves, plot_reconstructions_at_epoch, \\\n",
    "                                           plot_interpolations\n",
    "\n",
    "from tf_lab.autopredictors.evaluate import eval_model, read_saved_epochs\n",
    "                                                  \n",
    "from general_tools.in_out.basics import create_dir, delete_files_in_directory, files_in_subdirs\n",
    "from general_tools.simpletons import select_first_last_and_k\n",
    "from geo_tool import Point_Cloud\n",
    "\n",
    "from tf_lab.autopredictors.scripts.virt_scan_data import load_partial_pointclouds"
   ]
  },
  {
   "cell_type": "code",
   "execution_count": 2,
   "metadata": {
    "collapsed": false,
    "deletable": true,
    "editable": true
   },
   "outputs": [],
   "source": [
    "%load_ext autoreload\n",
    "%autoreload 2\n",
    "%matplotlib inline"
   ]
  },
  {
   "cell_type": "code",
   "execution_count": 3,
   "metadata": {
    "collapsed": true,
    "deletable": true,
    "editable": true
   },
   "outputs": [],
   "source": [
    "n_pc_samples = 2048\n",
    "do_training = False\n",
    "do_plotting = True\n",
    "first_time_running = False\n",
    "load_model = True\n",
    "seed = 42\n",
    "GPU = 0\n",
    "max_training_epochs = 1000\n",
    "loss = 'chamfer'\n",
    "experiment_name = '1_angela_train_3dec_z_rotate_and_spn'"
   ]
  },
  {
   "cell_type": "code",
   "execution_count": 4,
   "metadata": {
    "collapsed": false,
    "deletable": true,
    "editable": true
   },
   "outputs": [
    {
     "data": {
      "text/plain": [
       "'/orions4-zfs/projects/lins2/Panos_Space/DATA/OUT/models/nips/vanilla_ae/partial_clouds/1_angela_train_3dec_z_rotate_and_spn'"
      ]
     },
     "execution_count": 4,
     "metadata": {},
     "output_type": "execute_result"
    }
   ],
   "source": [
    "top_data_dir = '/orions4-zfs/projects/lins2/Panos_Space/DATA'\n",
    "partial_pclouds_path = osp.join(top_data_dir, 'Point_Clouds/Partial_PCs/Angela_synthetic', str(n_pc_samples))\n",
    "train_dir = osp.join(top_data_dir, 'OUT/models/nips/vanilla_ae/partial_clouds')\n",
    "train_dir = osp.join(train_dir, experiment_name)\n",
    "create_dir(train_dir)"
   ]
  },
  {
   "cell_type": "code",
   "execution_count": 5,
   "metadata": {
    "collapsed": false,
    "deletable": true,
    "editable": true
   },
   "outputs": [
    {
     "name": "stdout",
     "output_type": "stream",
     "text": [
      "153540 partial point clouds were loaded.\n"
     ]
    },
    {
     "name": "stderr",
     "output_type": "stream",
     "text": [
      "/orions4-zfs/projects/lins2/Panos_Space/Git_Repos/tf_lab/point_clouds/in_out.py:56: UserWarning: Point clouds with the same model name were loaded.\n",
      "  warnings.warn('Point clouds with the same model name were loaded.')\n"
     ]
    }
   ],
   "source": [
    "train_list = '/orions4-zfs/projects/lins2/Panos_Space/DATA/From_Matthias/train_test_splits/train_models_with_scan_id.txt'\n",
    "pclouds, model_ids, syn_ids = load_partial_pointclouds(train_list, partial_pclouds_path, 50)"
   ]
  },
  {
   "cell_type": "code",
   "execution_count": 6,
   "metadata": {
    "collapsed": false,
    "deletable": true,
    "editable": true
   },
   "outputs": [],
   "source": [
    "model_names = np.array([i[0] for i in model_ids], dtype=object)\n",
    "scan_ids = np.array([i[1] for i in model_ids], dtype=object)\n",
    "model_unames = np.array(model_names + '.' + scan_ids + '.' + syn_ids, dtype=object)\n",
    "train_data = PointCloudDataSet(pclouds, labels=model_unames)"
   ]
  },
  {
   "cell_type": "code",
   "execution_count": 7,
   "metadata": {
    "collapsed": false,
    "deletable": true,
    "editable": true
   },
   "outputs": [
    {
     "name": "stdout",
     "output_type": "stream",
     "text": [
      "                    batch_size: 50\n",
      "                 consistent_io: None\n",
      "                         debug: False\n",
      "                       decoder: decoder_with_fc_only\n",
      "                  decoder_args: {'non_linearity': <function relu at 0x7feff80bde60>, 'layer_sizes': [512, 1024, 6144]}\n",
      "                       encoder: encoder_with_convs_and_symmetry\n",
      "                  encoder_args: {'spn': True}\n",
      "               experiment_name: 1_angela_train_3dec_z_rotate_and_spn\n",
      "                 gauss_augment: None\n",
      "                  is_denoising: False\n",
      "               latent_vs_recon: 1.0\n",
      "                 learning_rate: 0.0005\n",
      "                          loss: chamfer\n",
      "             loss_display_step: 1\n",
      "                       n_input: [2048, 3]\n",
      "                      n_output: [2048, 3]\n",
      "                           n_z: None\n",
      "             saver_max_to_keep: None\n",
      "                    saver_step: 10\n",
      "                     train_dir: /orions4-zfs/projects/lins2/Panos_Space/DATA/OUT/models/nips/vanilla_ae/partial_clouds/1_angela_train_3dec_z_rotate_and_spn\n",
      "               training_epochs: 1000\n",
      "                      z_rotate: True\n",
      "\n",
      "Spatial transformer was activated.\n",
      "Model restored in epoch 660.\n"
     ]
    }
   ],
   "source": [
    "if load_model:\n",
    "    conf = Conf.load(osp.join(train_dir, 'configuration'))\n",
    "    print conf\n",
    "else:\n",
    "    n_input = [n_pc_samples, 3] \n",
    "    \n",
    "    encoder_args = {'spn': True}\n",
    "    \n",
    "    decoder_args = {'layer_sizes': [512, 1024, np.prod(n_input)], \n",
    "                    'non_linearity': tf.nn.relu\n",
    "                   }\n",
    "\n",
    "    conf = Conf(\n",
    "                n_input = n_input,\n",
    "                training_epochs = max_training_epochs,\n",
    "                batch_size = 50,\n",
    "                loss = loss,\n",
    "                denoising = False,\n",
    "                train_dir = train_dir,\n",
    "                loss_display_step = 1,\n",
    "                saver_step = 10,\n",
    "                learning_rate = 0.0005,\n",
    "                z_rotate = True,\n",
    "                encoder = enc_dec.encoder_with_convs_and_symmetry,\n",
    "                decoder = enc_dec.decoder_with_fc_only,\n",
    "                decoder_args = decoder_args,\n",
    "                encoder_args = encoder_args\n",
    "               )\n",
    "\n",
    "    conf.experiment_name = experiment_name\n",
    "    conf.save(osp.join(conf.train_dir, 'configuration'))\n",
    "    \n",
    "reset_tf_graph()\n",
    "set_visible_GPUs([GPU])\n",
    "ae = PointNetAutoEncoder(experiment_name, conf)\n",
    "\n",
    "if load_model:\n",
    "    saved_epochs = read_saved_epochs(conf.train_dir)\n",
    "    last_epoch = saved_epochs[-1]\n",
    "    ae.restore_model(conf.train_dir, last_epoch, verbose=True)"
   ]
  },
  {
   "cell_type": "code",
   "execution_count": 8,
   "metadata": {
    "collapsed": false,
    "deletable": true,
    "editable": true
   },
   "outputs": [],
   "source": [
    "if do_training:\n",
    "    training_stats = []\n",
    "    training_stats.append(ae.train(train_data, conf))    \n",
    "    with open(osp.join(conf.train_dir, 'train_stats.txt'), 'a') as fout:\n",
    "        np.savetxt(fout, np.array(training_stats)[0])"
   ]
  },
  {
   "cell_type": "code",
   "execution_count": 13,
   "metadata": {
    "collapsed": true,
    "deletable": true,
    "editable": true
   },
   "outputs": [],
   "source": [
    "# TSNE PLOTTING\n",
    "from tf_lab.autopredictors.scripts.virt_scan_data import plotting_default_params\n",
    "from tf_lab.autopredictors.scripts.virt_scan_data import pc_loader as vscan_loader\n",
    "from tf_lab.autopredictors.scripts.helper import shape_net_core_synth_id_to_category\n",
    "from general_tools.clustering.plt import plot_2d_embedding_in_grid_greedy_way, plot_2d_embedding_in_grid_forceful\n",
    "\n",
    "top_image_dir = osp.join(partial_pclouds_path, 'images')\n",
    "\n",
    "samples_per_class = 200\n",
    "selected = []\n",
    "for syn_id in np.unique(syn_ids):\n",
    "    in_class = np.where(syn_ids == syn_id)[0]\n",
    "    selected += np.ndarray.tolist(np.random.choice(in_class, samples_per_class, replace=False))\n",
    "\n",
    "plt.ioff()    \n",
    "for i in selected:\n",
    "    in_f = osp.join(partial_pclouds_path, syn_ids[i], model_names[i] + scan_ids[i] + '.ply')\n",
    "    points = vscan_loader(in_f)[0]\n",
    "    category_i = shape_net_core_synth_id_to_category[syn_ids[i]]\n",
    "    params = plotting_default_params(category_i)\n",
    "    save_name = syn_ids[i] + '.' + model_names[i] + '.' + scan_ids[i] + '.png'\n",
    "    fig = Point_Cloud(points=points).plot(show=False, show_axis=False, **params);\n",
    "    fig.savefig(osp.join(top_image_dir, save_name))\n",
    "    plt.close()"
   ]
  },
  {
   "cell_type": "code",
   "execution_count": 14,
   "metadata": {
    "collapsed": false,
    "deletable": true,
    "editable": true
   },
   "outputs": [
    {
     "name": "stdout",
     "output_type": "stream",
     "text": [
      "[t-SNE] Computing pairwise distances...\n",
      "[t-SNE] Computing 91 nearest neighbors...\n",
      "[t-SNE] Computed conditional probabilities for sample 1000 / 1600\n",
      "[t-SNE] Computed conditional probabilities for sample 1600 / 1600\n",
      "[t-SNE] Mean sigma: 2.233930\n",
      "[t-SNE] KL divergence after 75 iterations with early exaggeration: 0.717674\n",
      "[t-SNE] Error after 100 iterations: 0.717674\n"
     ]
    }
   ],
   "source": [
    "from tf_lab.autopredictors.exploration import latent_embedding_of_entire_dataset\n",
    "from sklearn.manifold import TSNE\n",
    "tsne_dataset = PointCloudDataSet(pclouds[selected], labels=model_unames[selected], init_shuffle=False)\n",
    "feed, latent_codes, ids = latent_embedding_of_entire_dataset(tsne_dataset, ae, conf)\n",
    "model = TSNE(n_components=2, random_state=seed, init='pca', verbose=True)\n",
    "tsne_small = model.fit_transform(latent_codes)"
   ]
  },
  {
   "cell_type": "code",
   "execution_count": 15,
   "metadata": {
    "collapsed": true,
    "deletable": true,
    "editable": true
   },
   "outputs": [],
   "source": [
    "# Make a list with the file-names of all to be used images.\n",
    "image_files = []\n",
    "for i in selected:\n",
    "    save_name = syn_ids[i] + '.' + model_names[i] + '.' + scan_ids[i] + '.png'\n",
    "    image_files.append(osp.join(top_image_dir, save_name))"
   ]
  },
  {
   "cell_type": "code",
   "execution_count": 16,
   "metadata": {
    "collapsed": false,
    "deletable": true,
    "editable": true
   },
   "outputs": [],
   "source": [
    "plot_2d_embedding_in_grid_forceful(tsne_small, image_files, big_dim=8000, small_dim=200, save_file='tsne_incomplete_ae.png');\n",
    "# plot_2d_embedding_in_grid_greedy_way(tsne_small, image_files, big_dim=8000, small_dim=200, save_file='tsne_partial_ae.png');"
   ]
  }
 ],
 "metadata": {
  "kernelspec": {
   "display_name": "Python 2",
   "language": "python",
   "name": "python2"
  },
  "language_info": {
   "codemirror_mode": {
    "name": "ipython",
    "version": 2
   },
   "file_extension": ".py",
   "mimetype": "text/x-python",
   "name": "python",
   "nbconvert_exporter": "python",
   "pygments_lexer": "ipython2",
   "version": "2.7.6"
  }
 },
 "nbformat": 4,
 "nbformat_minor": 0
}
