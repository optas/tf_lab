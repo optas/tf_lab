{
 "cells": [
  {
   "cell_type": "code",
   "execution_count": 1,
   "metadata": {
    "collapsed": false,
    "deletable": true,
    "editable": true
   },
   "outputs": [
    {
     "name": "stdout",
     "output_type": "stream",
     "text": [
      "Picking GPU 2\n"
     ]
    }
   ],
   "source": [
    "from general_tools.notebook import gpu_utils\n",
    "GPU = 2\n",
    "gpu_utils.setup_one_gpu(GPU)"
   ]
  },
  {
   "cell_type": "code",
   "execution_count": 2,
   "metadata": {
    "collapsed": false,
    "deletable": true,
    "editable": true
   },
   "outputs": [
    {
     "name": "stderr",
     "output_type": "stream",
     "text": [
      "/orions4-zfs/projects/lins2/Jingwei_Space/Git_Repos/geo_tool/solids/mesh.py:26: UserWarning: Mayavi library was not found. Some graphics utilities will be disabled.\n",
      "  warnings.warn('Mayavi library was not found. Some graphics utilities will be disabled.')\n"
     ]
    }
   ],
   "source": [
    "import sys\n",
    "import numpy as np\n",
    "import os.path as osp\n",
    "import tensorflow as tf\n",
    "import glob\n",
    "import matplotlib.pylab as plt\n",
    "\n",
    "import tf_lab.point_clouds.in_out as pio\n",
    "from tf_lab.point_clouds.in_out import PointCloudDataSet, write_model_ids_of_datasets\n",
    "from tf_lab.point_clouds.point_net_ae import PointNetAutoEncoder\n",
    "from tf_lab.point_clouds.autoencoder import Configuration as Conf\n",
    "\n",
    "\n",
    "from tf_lab.autopredictors.scripts.helper import shape_net_category_to_synth_id, match_incomplete_to_complete_data\n",
    "from tf_lab.autopredictors.scripts.virt_scan_data import plotting_default_params\n",
    "\n",
    "\n",
    "from general_tools.notebook.tf import reset_tf_graph                                                  \n",
    "from general_tools.in_out.basics import create_dir, delete_files_in_directory, files_in_subdirs\n",
    "from general_tools.simpletons import select_first_last_and_k, indices_in_iterable\n",
    "\n",
    "\n",
    "from geo_tool import Point_Cloud\n",
    "\n",
    "from tf_lab.nips.shape_net import pc_loader as sn_pc_loader\n",
    "\n",
    "from tf_lab.autopredictors.exploration import latent_embedding_of_entire_dataset\n",
    "\n",
    "from tf_lab.autopredictors.evaluate import eval_model, read_saved_epochs"
   ]
  },
  {
   "cell_type": "code",
   "execution_count": 6,
   "metadata": {
    "collapsed": false,
    "deletable": true,
    "editable": true
   },
   "outputs": [
    {
     "name": "stdout",
     "output_type": "stream",
     "text": [
      "1_three_fc_dec_with_spn_2048pts_chamfer\n"
     ]
    }
   ],
   "source": [
    "'all_snc_rotated_conv_arch_2048pts_chamfer'\n",
    "print experiment_name\n",
    "\n",
    "top_data_dir = '/orions4-zfs/projects/lins2/Panos_Space/DATA/'\n",
    "train_dir = osp.join(top_data_dir, 'OUT/models/nips/vanilla_ae/')\n",
    "train_dir = osp.join(train_dir, experiment_name)"
   ]
  },
  {
   "cell_type": "code",
   "execution_count": 7,
   "metadata": {
    "collapsed": false,
    "deletable": true,
    "editable": true
   },
   "outputs": [
    {
     "name": "stdout",
     "output_type": "stream",
     "text": [
      "                    batch_size: 50\n",
      "                 consistent_io: None\n",
      "                         debug: False\n",
      "                       decoder: decoder_with_fc_only\n",
      "                  decoder_args: {'non_linearity': <function relu at 0x7fdf05d7b320>, 'layer_sizes': [512, 1024, 6144]}\n",
      "                       encoder: encoder_with_convs_and_symmetry\n",
      "                  encoder_args: {}\n",
      "               experiment_name: 1_three_fc_dec_with_spn_2048pts_chamfer\n",
      "                 gauss_augment: None\n",
      "                  is_denoising: False\n",
      "               latent_vs_recon: 1.0\n",
      "                 learning_rate: 0.0005\n",
      "                          loss: chamfer\n",
      "             loss_display_step: 1\n",
      "                       n_input: [2048, 3]\n",
      "                      n_output: [2048, 3]\n",
      "                           n_z: None\n",
      "             saver_max_to_keep: None\n",
      "                    saver_step: 10\n",
      "                     train_dir: /orions4-zfs/projects/lins2/Panos_Space/DATA/OUT/models/nips/vanilla_ae/1_three_fc_dec_with_spn_2048pts_chamfer\n",
      "               training_epochs: 1000\n",
      "                      z_rotate: True\n",
      "\n"
     ]
    }
   ],
   "source": [
    "conf = Conf.load(osp.join(train_dir, 'configuration'))\n",
    "print conf\n",
    "conf.n_output = conf.n_input"
   ]
  },
  {
   "cell_type": "code",
   "execution_count": 8,
   "metadata": {
    "collapsed": true,
    "deletable": true,
    "editable": true
   },
   "outputs": [],
   "source": [
    "reset_tf_graph()\n",
    "ae = PointNetAutoEncoder(experiment_name, conf)"
   ]
  },
  {
   "cell_type": "code",
   "execution_count": 15,
   "metadata": {
    "collapsed": true,
    "deletable": true,
    "editable": true
   },
   "outputs": [],
   "source": [
    "saved_epochs = read_saved_epochs(conf.train_dir)"
   ]
  },
  {
   "cell_type": "code",
   "execution_count": 16,
   "metadata": {
    "collapsed": false,
    "deletable": true,
    "editable": true
   },
   "outputs": [
    {
     "name": "stdout",
     "output_type": "stream",
     "text": [
      "Model restored in epoch 1000.\n"
     ]
    }
   ],
   "source": [
    "last_epoch = saved_epochs[-1]\n",
    "ae.restore_model(conf.train_dir, last_epoch, verbose=True)"
   ]
  },
  {
   "cell_type": "markdown",
   "metadata": {
    "deletable": true,
    "editable": true
   },
   "source": [
    "# top_data_dir = '/orions4-zfs/projects/lins2/Panos_Space/DATA/'\n",
    "full_pclouds_path = osp.join(top_data_dir, 'Point_Clouds/Shape_Net/Core/from_manifold_meshes/centered/', str(n_pc_samples))\n",
    "train_dir = osp.join(top_data_dir, 'OUT/models/nips/vanilla_ae/')\n",
    "train_dir = osp.join(train_dir, experiment_name)\n",
    "create_dir(train_dir)"
   ]
  },
  {
   "cell_type": "code",
   "execution_count": 13,
   "metadata": {
    "collapsed": false,
    "deletable": true,
    "editable": true
   },
   "outputs": [
    {
     "data": {
      "text/plain": [
       "array([[[  1.55409873e-01,  -1.95148841e-01,  -4.17097002e-01],\n",
       "        [ -1.24767587e-01,  -1.94777861e-01,  -4.17097002e-01],\n",
       "        [ -1.23644404e-01,  -1.91788822e-01,  -4.17097002e-01],\n",
       "        ..., \n",
       "        [ -1.45030037e-01,  -2.74109747e-02,   4.14879888e-01],\n",
       "        [ -1.33941725e-01,  -2.53829565e-02,   4.15186822e-01],\n",
       "        [ -1.68545783e-01,   1.31114684e-02,   4.15194035e-01]],\n",
       "\n",
       "       [[  1.52039647e-01,  -1.56266913e-01,  -4.39168990e-01],\n",
       "        [  1.29050985e-01,  -1.53674230e-01,  -4.39168990e-01],\n",
       "        [ -1.48278281e-01,  -1.50924847e-01,  -4.39168990e-01],\n",
       "        ..., \n",
       "        [ -1.35444418e-01,   1.28694996e-02,   4.38588619e-01],\n",
       "        [ -1.56956941e-01,   7.24414270e-03,   4.38841820e-01],\n",
       "        [ -1.18339039e-01,   3.23241809e-04,   4.38997537e-01]],\n",
       "\n",
       "       [[  1.76675156e-01,  -1.78966939e-01,  -3.95767123e-01],\n",
       "        [ -1.43649906e-01,  -1.71165943e-01,  -3.95767123e-01],\n",
       "        [  1.91921726e-01,  -1.68778956e-01,  -3.95767123e-01],\n",
       "        ..., \n",
       "        [ -1.70912892e-01,   1.31314009e-01,   3.95317018e-01],\n",
       "        [ -1.65527835e-01,   1.13421462e-01,   3.95413935e-01],\n",
       "        [ -1.68205261e-01,  -1.29317731e-01,   3.95767123e-01]],\n",
       "\n",
       "       ..., \n",
       "       [[  1.64835319e-01,  -1.98824450e-01,  -3.98315012e-01],\n",
       "        [ -1.66912839e-01,  -1.78437561e-01,  -3.98315012e-01],\n",
       "        [  1.66396141e-01,   1.84285596e-01,  -3.98315012e-01],\n",
       "        ..., \n",
       "        [ -1.76683173e-01,   1.96035564e-01,   3.98315012e-01],\n",
       "        [ -1.85686812e-01,   1.52154580e-01,   3.98315340e-01],\n",
       "        [ -1.87703833e-01,  -1.16541497e-01,   3.98315817e-01]],\n",
       "\n",
       "       [[ -1.06065586e-01,  -8.37413147e-02,  -2.65522957e-01],\n",
       "        [ -1.06349692e-01,  -2.13300005e-01,  -2.65501857e-01],\n",
       "        [ -1.05212122e-01,  -4.34628949e-02,  -2.65365839e-01],\n",
       "        ..., \n",
       "        [ -3.11045825e-01,  -1.13878489e-01,   2.65182137e-01],\n",
       "        [ -3.14897418e-01,  -1.02622330e-01,   2.65230656e-01],\n",
       "        [ -3.11011672e-01,   1.56824617e-03,   2.65257359e-01]],\n",
       "\n",
       "       [[  2.19600201e-01,  -2.35679895e-01,  -3.46649617e-01],\n",
       "        [ -2.15524554e-01,   2.48338327e-01,  -3.45614076e-01],\n",
       "        [ -2.19173491e-01,   2.35402212e-01,  -3.45561981e-01],\n",
       "        ..., \n",
       "        [ -2.29213595e-01,  -1.62836269e-01,   3.46649617e-01],\n",
       "        [ -2.25040913e-01,  -1.02160498e-01,   3.46649617e-01],\n",
       "        [ -2.10158616e-01,   2.16075972e-01,   3.46649617e-01]]], dtype=float32)"
      ]
     },
     "execution_count": 13,
     "metadata": {},
     "output_type": "execute_result"
    }
   ],
   "source": [
    "full_file_names = pio.load_filenames_of_input_data(full_pclouds_path, '.ply')\n",
    "full_pclouds, full_model_names, full_syn_ids = pio.load_crude_point_clouds(file_names=full_file_names,\\\n",
    "                                                                           n_threads=50, loader=sn_pc_loader)\n",
    "print '%d files containing complete point clouds were found.' % (len(full_pclouds), )"
   ]
  },
  {
   "cell_type": "code",
   "execution_count": null,
   "metadata": {
    "collapsed": true,
    "deletable": true,
    "editable": true
   },
   "outputs": [],
   "source": [
    "ae.interpolate()"
   ]
  }
 ],
 "metadata": {
  "kernelspec": {
   "display_name": "Python 2",
   "language": "python",
   "name": "python2"
  },
  "language_info": {
   "codemirror_mode": {
    "name": "ipython",
    "version": 2
   },
   "file_extension": ".py",
   "mimetype": "text/x-python",
   "name": "python",
   "nbconvert_exporter": "python",
   "pygments_lexer": "ipython2",
   "version": "2.7.6"
  }
 },
 "nbformat": 4,
 "nbformat_minor": 2
}
