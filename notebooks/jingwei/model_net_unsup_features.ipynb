{
 "cells": [
  {
   "cell_type": "code",
   "execution_count": 1,
   "metadata": {
    "collapsed": false,
    "deletable": true,
    "editable": true
   },
   "outputs": [
    {
     "name": "stdout",
     "output_type": "stream",
     "text": [
      "Picking GPU 2\n"
     ]
    }
   ],
   "source": [
    "from general_tools.notebook import gpu_utils\n",
    "GPU = 2\n",
    "gpu_utils.setup_one_gpu(GPU)"
   ]
  },
  {
   "cell_type": "code",
   "execution_count": 2,
   "metadata": {
    "collapsed": false,
    "deletable": true,
    "editable": true
   },
   "outputs": [
    {
     "name": "stderr",
     "output_type": "stream",
     "text": [
      "/usr/local/lib/python2.7/dist-packages/matplotlib/font_manager.py:273: UserWarning: Matplotlib is building the font cache using fc-list. This may take a moment.\n",
      "  warnings.warn('Matplotlib is building the font cache using fc-list. This may take a moment.')\n",
      "/orions4-zfs/projects/lins2/Jingwei_Space/Git_Repos/geo_tool/solids/mesh.py:26: UserWarning: Mayavi library was not found. Some graphics utilities will be disabled.\n",
      "  warnings.warn('Mayavi library was not found. Some graphics utilities will be disabled.')\n"
     ]
    }
   ],
   "source": [
    "import sys\n",
    "import time\n",
    "import numpy as np\n",
    "import os.path as osp\n",
    "import tensorflow as tf\n",
    "import matplotlib.pyplot as plt\n",
    "from scipy.stats import hmean\n",
    "from sklearn.manifold import TSNE\n",
    "\n",
    "from general_tools.notebook.tf import reset_tf_graph\n",
    "\n",
    "import tf_lab.point_clouds.in_out as pio\n",
    "from tf_lab.point_clouds.in_out import PointCloudDataSet, write_model_ids_of_datasets\n",
    "from tf_lab.point_clouds.point_net_ae import PointNetAutoEncoder\n",
    "from tf_lab.point_clouds.autoencoder import Configuration as Conf\n",
    "import tf_lab.point_clouds.encoders_decoders as enc_dec\n",
    "\n",
    "\n",
    "from tf_lab.autopredictors.scripts.helper import shape_net_category_to_synth_id, points_extension, \\\n",
    "                                                 shape_net_core_synth_id_to_category\n",
    "\n",
    "\n",
    "from tf_lab.autopredictors.plotting import plot_original_pclouds_vs_reconstructed, \\\n",
    "                                           plot_train_val_test_curves, plot_reconstructions_at_epoch\n",
    "        \n",
    "from tf_lab.autopredictors.evaluate import eval_model, read_saved_epochs, accuracy_of_completion, \\\n",
    "                                           coverage_of_completion, save_reconstructions, \\\n",
    "                                           save_pc_prediction_stats, save_stats_of_multi_class_experiments, \\\n",
    "                                           paper_pc_completion_experiment_id_best_epoch\n",
    "                                                  \n",
    "from tf_lab.autopredictors.exploration import latent_embedding_of_entire_dataset, \\\n",
    "                                              embedding_of_entire_dataset_at_tensor\n",
    "\n",
    "from general_tools.in_out.basics import create_dir, delete_files_in_directory, files_in_subdirs\n",
    "from general_tools.simpletons import select_first_last_and_k\n",
    "from geo_tool import Point_Cloud\n",
    "\n",
    "from tf_lab.nips.data_sets.model_net import pc_loader, classes_to_integers\n",
    "\n",
    "\n",
    "from tf_lab.point_clouds.encoders_decoders import decoder_with_fc_only\n",
    "from tf_lab.point_clouds.encoders_decoders import encoder_with_convs_and_symmetry\n",
    "from sklearn.svm import LinearSVC"
   ]
  },
  {
   "cell_type": "code",
   "execution_count": 3,
   "metadata": {
    "collapsed": false,
    "deletable": true,
    "editable": true
   },
   "outputs": [],
   "source": [
    "%load_ext autoreload\n",
    "%autoreload 2\n",
    "%matplotlib inline"
   ]
  },
  {
   "cell_type": "code",
   "execution_count": 4,
   "metadata": {
    "collapsed": true,
    "deletable": true,
    "editable": true
   },
   "outputs": [],
   "source": [
    "%reload_ext autoreload"
   ]
  },
  {
   "cell_type": "code",
   "execution_count": 5,
   "metadata": {
    "collapsed": true,
    "deletable": true,
    "editable": true
   },
   "outputs": [],
   "source": [
    "loss = 'chamfer'\n",
    "# loss = 'emd'\n",
    "n_pc_samples = 2048\n",
    "model_net = '40'"
   ]
  },
  {
   "cell_type": "code",
   "execution_count": 6,
   "metadata": {
    "collapsed": false,
    "deletable": true,
    "editable": true
   },
   "outputs": [
    {
     "name": "stdout",
     "output_type": "stream",
     "text": [
      "1_three_fc_dec_with_spn_2048pts_chamfer\n"
     ]
    }
   ],
   "source": [
    "experiment_name = '2_three_fc_dec_dropout2048pts_chamfer'\n",
    "experiment_name = 'four_fc_dec_2048pts_emd'\n",
    "experiment_name = 'three_fc_dec_longer_2048pts_emd'\n",
    "experiment_name = '1_three_fc_dec_with_spn_2048pts_chamfer'\n",
    "\n",
    "print experiment_name\n",
    "\n",
    "top_data_dir = '/orions4-zfs/projects/lins2/Panos_Space/DATA/'\n",
    "train_dir = osp.join(top_data_dir, 'OUT/models/nips/vanilla_ae/')\n",
    "train_dir = osp.join(train_dir, experiment_name)"
   ]
  },
  {
   "cell_type": "code",
   "execution_count": 7,
   "metadata": {
    "collapsed": false,
    "deletable": true,
    "editable": true
   },
   "outputs": [
    {
     "name": "stdout",
     "output_type": "stream",
     "text": [
      "                    batch_size: 50\n",
      "                 consistent_io: None\n",
      "                         debug: False\n",
      "                       decoder: decoder_with_fc_only\n",
      "                  decoder_args: {'non_linearity': <function relu at 0x7f8ca565fa28>, 'layer_sizes': [512, 1024, 6144]}\n",
      "                       encoder: encoder_with_convs_and_symmetry\n",
      "                  encoder_args: {}\n",
      "               experiment_name: 1_three_fc_dec_with_spn_2048pts_chamfer\n",
      "                 gauss_augment: None\n",
      "                  is_denoising: False\n",
      "               latent_vs_recon: 1.0\n",
      "                 learning_rate: 0.0005\n",
      "                          loss: chamfer\n",
      "             loss_display_step: 1\n",
      "                       n_input: [2048, 3]\n",
      "                      n_output: [2048, 3]\n",
      "                           n_z: None\n",
      "             saver_max_to_keep: None\n",
      "                    saver_step: 10\n",
      "                     train_dir: /orions4-zfs/projects/lins2/Panos_Space/DATA/OUT/models/nips/vanilla_ae/1_three_fc_dec_with_spn_2048pts_chamfer\n",
      "               training_epochs: 1000\n",
      "                      z_rotate: True\n",
      "\n"
     ]
    }
   ],
   "source": [
    "conf = Conf.load(osp.join(train_dir, 'configuration'))\n",
    "print conf\n",
    "conf.n_output = conf.n_input"
   ]
  },
  {
   "cell_type": "code",
   "execution_count": 8,
   "metadata": {
    "collapsed": false,
    "deletable": true,
    "editable": true
   },
   "outputs": [],
   "source": [
    "reset_tf_graph()\n",
    "ae = PointNetAutoEncoder(experiment_name, conf)"
   ]
  },
  {
   "cell_type": "code",
   "execution_count": 9,
   "metadata": {
    "collapsed": false,
    "deletable": true,
    "editable": true
   },
   "outputs": [],
   "source": [
    "saved_epochs = read_saved_epochs(conf.train_dir)"
   ]
  },
  {
   "cell_type": "code",
   "execution_count": 10,
   "metadata": {
    "collapsed": false,
    "deletable": true,
    "editable": true
   },
   "outputs": [
    {
     "name": "stdout",
     "output_type": "stream",
     "text": [
      "Model restored in epoch 1000.\n"
     ]
    }
   ],
   "source": [
    "#last_epoch = saved_epochs[-1]\n",
    "ae.restore_model(conf.train_dir, 1000, verbose=True)"
   ]
  },
  {
   "cell_type": "code",
   "execution_count": 11,
   "metadata": {
    "collapsed": false,
    "deletable": true,
    "editable": true
   },
   "outputs": [],
   "source": [
    "model_net_dir = '/orions4-zfs/projects/lins2/Panos_Space/DATA/Point_Clouds/Model_Net_' + model_net +  '/from_manifold/' \n",
    "model_net_dir = osp.join(model_net_dir, str(n_pc_samples))\n",
    "\n",
    "search_pattern = '(.*)train(.*)\\.ply$'\n",
    "train_pc_files = [f for f in files_in_subdirs(model_net_dir, search_pattern)]\n",
    "\n",
    "search_pattern = '(.*)test(.*)\\.ply$'\n",
    "test_pc_files = [f for f in files_in_subdirs(model_net_dir, search_pattern)]"
   ]
  },
  {
   "cell_type": "code",
   "execution_count": 12,
   "metadata": {
    "collapsed": false,
    "deletable": true,
    "editable": true
   },
   "outputs": [
    {
     "name": "stdout",
     "output_type": "stream",
     "text": [
      "9841 pclouds were loaded. They belong in 40 shape-classes.\n",
      "2467 pclouds were loaded. They belong in 40 shape-classes.\n"
     ]
    }
   ],
   "source": [
    "pc, model_names, labels = pio.load_crude_point_clouds(train_pc_files, loader=pc_loader, n_threads=10, verbose=True)\n",
    "\n",
    "train_data = PointCloudDataSet(pc, labels=labels)\n",
    "pc, model_names, labels = pio.load_crude_point_clouds(test_pc_files, loader=pc_loader, n_threads=10, verbose=True)\n",
    "\n",
    "test_data = PointCloudDataSet(pc, labels=labels)"
   ]
  },
  {
   "cell_type": "code",
   "execution_count": 13,
   "metadata": {
    "collapsed": true,
    "deletable": true,
    "editable": true
   },
   "outputs": [],
   "source": [
    "train_feed, train_latent, train_classes = latent_embedding_of_entire_dataset(train_data, ae, conf)\n",
    "cids = classes_to_integers(int(model_net), train_classes)[1]"
   ]
  },
  {
   "cell_type": "code",
   "execution_count": 14,
   "metadata": {
    "collapsed": false,
    "deletable": true,
    "editable": true
   },
   "outputs": [
    {
     "name": "stdout",
     "output_type": "stream",
     "text": [
      "(9841, 1024)\n",
      "(9841,)\n",
      "['airplane' 'bathtub' 'bed' 'bench' 'bookshelf' 'bottle' 'bowl' 'car'\n",
      " 'chair' 'cone' 'cup' 'curtain' 'desk' 'door' 'dresser' 'flower_pot'\n",
      " 'glass_box' 'guitar' 'keyboard' 'lamp' 'laptop' 'mantel' 'monitor'\n",
      " 'night_stand' 'person' 'piano' 'plant' 'radio' 'range_hood' 'sink' 'sofa'\n",
      " 'stairs' 'stool' 'table' 'tent' 'toilet' 'tv_stand' 'vase' 'wardrobe'\n",
      " 'xbox']\n"
     ]
    },
    {
     "data": {
      "text/plain": [
       "(array([626, 106, 515, 173, 572, 335,  64, 197, 889, 167,  79, 138, 200,\n",
       "        108, 200, 149, 171, 155, 145, 124, 149, 284, 465, 200,  88, 231,\n",
       "        239, 104, 115, 128, 680, 124,  90, 392, 163, 344, 267, 475, 190]),\n",
       " array([  0.,   1.,   2.,   3.,   4.,   5.,   6.,   7.,   8.,   9.,  10.,\n",
       "         11.,  12.,  13.,  14.,  15.,  16.,  17.,  18.,  19.,  20.,  21.,\n",
       "         22.,  23.,  24.,  25.,  26.,  27.,  28.,  29.,  30.,  31.,  32.,\n",
       "         33.,  34.,  35.,  36.,  37.,  38.,  39.]))"
      ]
     },
     "execution_count": 14,
     "metadata": {},
     "output_type": "execute_result"
    }
   ],
   "source": [
    "print train_latent.shape\n",
    "print train_classes.shape\n",
    "print np.unique(train_classes)\n",
    "train_classes[0]\n",
    "train_classes\n",
    "np.histogram(cids, bins=max(cids))"
   ]
  },
  {
   "cell_type": "code",
   "execution_count": 15,
   "metadata": {
    "collapsed": false,
    "deletable": true,
    "editable": true
   },
   "outputs": [],
   "source": [
    "\"\"\" \n",
    "a list of lsvc dicts.\n",
    "Every lsvc dict is organized as {'C': xxx, 'loss': xxx, 'penalty': xxx, 'dual': xxx, 'max_iter': xxx, 'tol': xxx}    \n",
    "\"\"\"\n",
    "lsvc_list = []\n",
    "C = [0.1, 0.5, 1.0, 5.0, 10.0]\n",
    "Loss = ['squared_hinge', 'hinge']\n",
    "Penalty = ['l2', 'l1']\n",
    "Dual = [True, False]\n",
    "Intercept_scaling = [1, 5]"
   ]
  },
  {
   "cell_type": "code",
   "execution_count": 16,
   "metadata": {
    "collapsed": true,
    "deletable": true,
    "editable": true
   },
   "outputs": [],
   "source": [
    "test_feed, test_latent, test_classes = latent_embedding_of_entire_dataset(test_data, ae, conf)\n",
    "cids_ = classes_to_integers(int(model_net), test_classes)[1]"
   ]
  },
  {
   "cell_type": "code",
   "execution_count": 17,
   "metadata": {
    "collapsed": false,
    "deletable": true,
    "editable": true
   },
   "outputs": [
    {
     "name": "stdout",
     "output_type": "stream",
     "text": [
      "C: 0.1, loss: squared_hinge, penalty: l2, dual: True, intercept scaling: 1.0\n",
      "SCORE: 0.8245\n",
      "C: 0.1, loss: squared_hinge, penalty: l2, dual: True, intercept scaling: 5.0\n",
      "SCORE: 0.8273\n",
      "C: 0.1, loss: squared_hinge, penalty: l2, dual: False, intercept scaling: 1.0\n",
      "SCORE: 0.8257\n",
      "C: 0.1, loss: squared_hinge, penalty: l2, dual: False, intercept scaling: 5.0\n",
      "SCORE: 0.8277\n",
      "C: 0.1, loss: squared_hinge, penalty: l1, dual: True, intercept scaling: 1.0\n",
      "ERROR: conflict params!\n",
      "C: 0.1, loss: squared_hinge, penalty: l1, dual: True, intercept scaling: 5.0\n",
      "ERROR: conflict params!\n",
      "C: 0.1, loss: squared_hinge, penalty: l1, dual: False, intercept scaling: 1.0\n",
      "SCORE: 0.7669\n",
      "C: 0.1, loss: squared_hinge, penalty: l1, dual: False, intercept scaling: 5.0\n",
      "SCORE: 0.7698\n",
      "C: 0.1, loss: hinge, penalty: l2, dual: True, intercept scaling: 1.0\n",
      "SCORE: 0.7921\n",
      "C: 0.1, loss: hinge, penalty: l2, dual: True, intercept scaling: 5.0\n",
      "SCORE: 0.7953\n",
      "C: 0.1, loss: hinge, penalty: l2, dual: False, intercept scaling: 1.0\n",
      "ERROR: conflict params!\n",
      "C: 0.1, loss: hinge, penalty: l2, dual: False, intercept scaling: 5.0\n",
      "ERROR: conflict params!\n",
      "C: 0.1, loss: hinge, penalty: l1, dual: True, intercept scaling: 1.0\n",
      "ERROR: conflict params!\n",
      "C: 0.1, loss: hinge, penalty: l1, dual: True, intercept scaling: 5.0\n",
      "ERROR: conflict params!\n",
      "C: 0.1, loss: hinge, penalty: l1, dual: False, intercept scaling: 1.0\n",
      "ERROR: conflict params!\n",
      "C: 0.1, loss: hinge, penalty: l1, dual: False, intercept scaling: 5.0\n",
      "ERROR: conflict params!\n",
      "C: 0.5, loss: squared_hinge, penalty: l2, dual: True, intercept scaling: 1.0\n",
      "SCORE: 0.8460\n",
      "C: 0.5, loss: squared_hinge, penalty: l2, dual: True, intercept scaling: 5.0\n",
      "SCORE: 0.8508\n",
      "C: 0.5, loss: squared_hinge, penalty: l2, dual: False, intercept scaling: 1.0\n",
      "SCORE: 0.8508\n",
      "C: 0.5, loss: squared_hinge, penalty: l2, dual: False, intercept scaling: 5.0\n",
      "SCORE: 0.8525\n",
      "C: 0.5, loss: squared_hinge, penalty: l1, dual: True, intercept scaling: 1.0\n",
      "ERROR: conflict params!\n",
      "C: 0.5, loss: squared_hinge, penalty: l1, dual: True, intercept scaling: 5.0\n",
      "ERROR: conflict params!\n",
      "C: 0.5, loss: squared_hinge, penalty: l1, dual: False, intercept scaling: 1.0\n",
      "SCORE: 0.8306\n",
      "C: 0.5, loss: squared_hinge, penalty: l1, dual: False, intercept scaling: 5.0\n",
      "SCORE: 0.8285\n",
      "C: 0.5, loss: hinge, penalty: l2, dual: True, intercept scaling: 1.0\n",
      "SCORE: 0.8318\n",
      "C: 0.5, loss: hinge, penalty: l2, dual: True, intercept scaling: 5.0\n",
      "SCORE: 0.8391\n",
      "C: 0.5, loss: hinge, penalty: l2, dual: False, intercept scaling: 1.0\n",
      "ERROR: conflict params!\n",
      "C: 0.5, loss: hinge, penalty: l2, dual: False, intercept scaling: 5.0\n",
      "ERROR: conflict params!\n",
      "C: 0.5, loss: hinge, penalty: l1, dual: True, intercept scaling: 1.0\n",
      "ERROR: conflict params!\n",
      "C: 0.5, loss: hinge, penalty: l1, dual: True, intercept scaling: 5.0\n",
      "ERROR: conflict params!\n",
      "C: 0.5, loss: hinge, penalty: l1, dual: False, intercept scaling: 1.0\n",
      "ERROR: conflict params!\n",
      "C: 0.5, loss: hinge, penalty: l1, dual: False, intercept scaling: 5.0\n",
      "ERROR: conflict params!\n",
      "C: 1.0, loss: squared_hinge, penalty: l2, dual: True, intercept scaling: 1.0\n",
      "SCORE: 0.8569\n",
      "C: 1.0, loss: squared_hinge, penalty: l2, dual: True, intercept scaling: 5.0\n",
      "SCORE: 0.8561\n",
      "C: 1.0, loss: squared_hinge, penalty: l2, dual: False, intercept scaling: 1.0\n",
      "SCORE: 0.8569\n",
      "C: 1.0, loss: squared_hinge, penalty: l2, dual: False, intercept scaling: 5.0\n",
      "SCORE: 0.8573\n",
      "C: 1.0, loss: squared_hinge, penalty: l1, dual: True, intercept scaling: 1.0\n",
      "ERROR: conflict params!\n",
      "C: 1.0, loss: squared_hinge, penalty: l1, dual: True, intercept scaling: 5.0\n",
      "ERROR: conflict params!\n",
      "C: 1.0, loss: squared_hinge, penalty: l1, dual: False, intercept scaling: 1.0\n",
      "SCORE: 0.8431\n",
      "C: 1.0, loss: squared_hinge, penalty: l1, dual: False, intercept scaling: 5.0\n",
      "SCORE: 0.8448\n",
      "C: 1.0, loss: hinge, penalty: l2, dual: True, intercept scaling: 1.0\n",
      "SCORE: 0.8379\n",
      "C: 1.0, loss: hinge, penalty: l2, dual: True, intercept scaling: 5.0\n",
      "SCORE: 0.8452\n",
      "C: 1.0, loss: hinge, penalty: l2, dual: False, intercept scaling: 1.0\n",
      "ERROR: conflict params!\n",
      "C: 1.0, loss: hinge, penalty: l2, dual: False, intercept scaling: 5.0\n",
      "ERROR: conflict params!\n",
      "C: 1.0, loss: hinge, penalty: l1, dual: True, intercept scaling: 1.0\n",
      "ERROR: conflict params!\n",
      "C: 1.0, loss: hinge, penalty: l1, dual: True, intercept scaling: 5.0\n",
      "ERROR: conflict params!\n",
      "C: 1.0, loss: hinge, penalty: l1, dual: False, intercept scaling: 1.0\n",
      "ERROR: conflict params!\n",
      "C: 1.0, loss: hinge, penalty: l1, dual: False, intercept scaling: 5.0\n",
      "ERROR: conflict params!\n",
      "C: 5.0, loss: squared_hinge, penalty: l2, dual: True, intercept scaling: 1.0\n",
      "SCORE: 0.8439\n",
      "C: 5.0, loss: squared_hinge, penalty: l2, dual: True, intercept scaling: 5.0\n",
      "SCORE: 0.8383\n",
      "C: 5.0, loss: squared_hinge, penalty: l2, dual: False, intercept scaling: 1.0\n",
      "SCORE: 0.8533\n",
      "C: 5.0, loss: squared_hinge, penalty: l2, dual: False, intercept scaling: 5.0\n",
      "SCORE: 0.8529\n",
      "C: 5.0, loss: squared_hinge, penalty: l1, dual: True, intercept scaling: 1.0\n",
      "ERROR: conflict params!\n",
      "C: 5.0, loss: squared_hinge, penalty: l1, dual: True, intercept scaling: 5.0\n",
      "ERROR: conflict params!\n",
      "C: 5.0, loss: squared_hinge, penalty: l1, dual: False, intercept scaling: 1.0\n",
      "SCORE: 0.8423\n",
      "C: 5.0, loss: squared_hinge, penalty: l1, dual: False, intercept scaling: 5.0\n",
      "SCORE: 0.8435\n",
      "C: 5.0, loss: hinge, penalty: l2, dual: True, intercept scaling: 1.0\n",
      "SCORE: 0.8358\n",
      "C: 5.0, loss: hinge, penalty: l2, dual: True, intercept scaling: 5.0\n",
      "SCORE: 0.8411\n",
      "C: 5.0, loss: hinge, penalty: l2, dual: False, intercept scaling: 1.0\n",
      "ERROR: conflict params!\n",
      "C: 5.0, loss: hinge, penalty: l2, dual: False, intercept scaling: 5.0\n",
      "ERROR: conflict params!\n",
      "C: 5.0, loss: hinge, penalty: l1, dual: True, intercept scaling: 1.0\n",
      "ERROR: conflict params!\n",
      "C: 5.0, loss: hinge, penalty: l1, dual: True, intercept scaling: 5.0\n",
      "ERROR: conflict params!\n",
      "C: 5.0, loss: hinge, penalty: l1, dual: False, intercept scaling: 1.0\n",
      "ERROR: conflict params!\n",
      "C: 5.0, loss: hinge, penalty: l1, dual: False, intercept scaling: 5.0\n",
      "ERROR: conflict params!\n",
      "C: 10.0, loss: squared_hinge, penalty: l2, dual: True, intercept scaling: 1.0\n",
      "SCORE: 0.8500\n",
      "C: 10.0, loss: squared_hinge, penalty: l2, dual: True, intercept scaling: 5.0\n",
      "SCORE: 0.8415\n",
      "C: 10.0, loss: squared_hinge, penalty: l2, dual: False, intercept scaling: 1.0\n",
      "SCORE: 0.8464\n",
      "C: 10.0, loss: squared_hinge, penalty: l2, dual: False, intercept scaling: 5.0\n",
      "SCORE: 0.8468\n",
      "C: 10.0, loss: squared_hinge, penalty: l1, dual: True, intercept scaling: 1.0\n",
      "ERROR: conflict params!\n",
      "C: 10.0, loss: squared_hinge, penalty: l1, dual: True, intercept scaling: 5.0\n",
      "ERROR: conflict params!\n",
      "C: 10.0, loss: squared_hinge, penalty: l1, dual: False, intercept scaling: 1.0\n",
      "SCORE: 0.8387\n",
      "C: 10.0, loss: squared_hinge, penalty: l1, dual: False, intercept scaling: 5.0\n",
      "SCORE: 0.8370\n",
      "C: 10.0, loss: hinge, penalty: l2, dual: True, intercept scaling: 1.0\n",
      "SCORE: 0.8212\n",
      "C: 10.0, loss: hinge, penalty: l2, dual: True, intercept scaling: 5.0\n",
      "SCORE: 0.8496\n",
      "C: 10.0, loss: hinge, penalty: l2, dual: False, intercept scaling: 1.0\n",
      "ERROR: conflict params!\n",
      "C: 10.0, loss: hinge, penalty: l2, dual: False, intercept scaling: 5.0\n",
      "ERROR: conflict params!\n",
      "C: 10.0, loss: hinge, penalty: l1, dual: True, intercept scaling: 1.0\n",
      "ERROR: conflict params!\n",
      "C: 10.0, loss: hinge, penalty: l1, dual: True, intercept scaling: 5.0\n",
      "ERROR: conflict params!\n",
      "C: 10.0, loss: hinge, penalty: l1, dual: False, intercept scaling: 1.0\n",
      "ERROR: conflict params!\n",
      "C: 10.0, loss: hinge, penalty: l1, dual: False, intercept scaling: 5.0\n",
      "ERROR: conflict params!\n"
     ]
    }
   ],
   "source": [
    "# dual is suggested to be False when n_samples>n_features\n",
    "# dual=False\n",
    "# loss = 'hinge'\n",
    "for c in C:\n",
    "    for loss in Loss:\n",
    "        for penalty in Penalty:\n",
    "            for dual in Dual:\n",
    "                for intercept_scaling in Intercept_scaling:\n",
    "                    print 'C: %.1f, loss: %s, penalty: %s, dual: %r, intercept scaling: %.1f' % (c, loss, penalty, dual, intercept_scaling)\n",
    "                    try:\n",
    "                        curr_lsvc = LinearSVC(C=c, loss=loss, penalty=penalty, dual=dual, intercept_scaling=intercept_scaling)\n",
    "                        curr_lsvc.fit(train_latent, cids)\n",
    "                        curr_score = curr_lsvc.score(test_latent, cids_)\n",
    "                        print 'SCORE: %.4f' % curr_score\n",
    "                        lsvc_list.append({'lsvc': curr_lsvc, \n",
    "                                          'C': c, \n",
    "                                          'loss': loss,\n",
    "                                          'penalty': penalty,\n",
    "                                          'dual': dual,\n",
    "                                          'intercept_scaling': intercept_scaling,\n",
    "                                          'score': curr_score\n",
    "                                        })\n",
    "                    except:\n",
    "                        print 'ERROR: conflict params!'\n",
    "#lsvc = LinearSVC(C=0.5, penalty='l2', intercept_scaling=1) \n",
    "#lsvc.fit(train_latent, cids)"
   ]
  },
  {
   "cell_type": "code",
   "execution_count": 23,
   "metadata": {
    "collapsed": false,
    "deletable": true,
    "editable": true
   },
   "outputs": [
    {
     "name": "stdout",
     "output_type": "stream",
     "text": [
      "0.854073773814\n"
     ]
    }
   ],
   "source": [
    "curr_lsvc = LinearSVC(C=0.5, loss='squared_hinge', penalty='l2', dual=True, intercept_scaling=3)\n",
    "curr_lsvc.fit(train_latent, cids)\n",
    "curr_score = curr_lsvc.score(test_latent, cids_)\n",
    "print curr_score"
   ]
  },
  {
   "cell_type": "code",
   "execution_count": 18,
   "metadata": {
    "collapsed": false,
    "deletable": true,
    "editable": true
   },
   "outputs": [
    {
     "data": {
      "text/plain": [
       "[{'C': 0.1,\n",
       "  'dual': True,\n",
       "  'intercept_scaling': 1,\n",
       "  'loss': 'squared_hinge',\n",
       "  'lsvc': LinearSVC(C=0.1, class_weight=None, dual=True, fit_intercept=True,\n",
       "       intercept_scaling=1, loss='squared_hinge', max_iter=1000,\n",
       "       multi_class='ovr', penalty='l2', random_state=None, tol=0.0001,\n",
       "       verbose=0),\n",
       "  'penalty': 'l2',\n",
       "  'score': 0.83826509931090398},\n",
       " {'C': 0.1,\n",
       "  'dual': True,\n",
       "  'intercept_scaling': 5,\n",
       "  'loss': 'squared_hinge',\n",
       "  'lsvc': LinearSVC(C=0.1, class_weight=None, dual=True, fit_intercept=True,\n",
       "       intercept_scaling=5, loss='squared_hinge', max_iter=1000,\n",
       "       multi_class='ovr', penalty='l2', random_state=None, tol=0.0001,\n",
       "       verbose=0),\n",
       "  'penalty': 'l2',\n",
       "  'score': 0.83948115119578437},\n",
       " {'C': 0.1,\n",
       "  'dual': False,\n",
       "  'intercept_scaling': 1,\n",
       "  'loss': 'squared_hinge',\n",
       "  'lsvc': LinearSVC(C=0.1, class_weight=None, dual=False, fit_intercept=True,\n",
       "       intercept_scaling=1, loss='squared_hinge', max_iter=1000,\n",
       "       multi_class='ovr', penalty='l2', random_state=None, tol=0.0001,\n",
       "       verbose=0),\n",
       "  'penalty': 'l2',\n",
       "  'score': 0.83826509931090398},\n",
       " {'C': 0.1,\n",
       "  'dual': False,\n",
       "  'intercept_scaling': 5,\n",
       "  'loss': 'squared_hinge',\n",
       "  'lsvc': LinearSVC(C=0.1, class_weight=None, dual=False, fit_intercept=True,\n",
       "       intercept_scaling=5, loss='squared_hinge', max_iter=1000,\n",
       "       multi_class='ovr', penalty='l2', random_state=None, tol=0.0001,\n",
       "       verbose=0),\n",
       "  'penalty': 'l2',\n",
       "  'score': 0.83907580056749087},\n",
       " {'C': 0.1,\n",
       "  'dual': False,\n",
       "  'intercept_scaling': 1,\n",
       "  'loss': 'squared_hinge',\n",
       "  'lsvc': LinearSVC(C=0.1, class_weight=None, dual=False, fit_intercept=True,\n",
       "       intercept_scaling=1, loss='squared_hinge', max_iter=1000,\n",
       "       multi_class='ovr', penalty='l1', random_state=None, tol=0.0001,\n",
       "       verbose=0),\n",
       "  'penalty': 'l1',\n",
       "  'score': 0.7851641670044589},\n",
       " {'C': 0.1,\n",
       "  'dual': False,\n",
       "  'intercept_scaling': 5,\n",
       "  'loss': 'squared_hinge',\n",
       "  'lsvc': LinearSVC(C=0.1, class_weight=None, dual=False, fit_intercept=True,\n",
       "       intercept_scaling=5, loss='squared_hinge', max_iter=1000,\n",
       "       multi_class='ovr', penalty='l1', random_state=None, tol=0.0001,\n",
       "       verbose=0),\n",
       "  'penalty': 'l1',\n",
       "  'score': 0.78962302391568706},\n",
       " {'C': 0.1,\n",
       "  'dual': True,\n",
       "  'intercept_scaling': 1,\n",
       "  'loss': 'hinge',\n",
       "  'lsvc': LinearSVC(C=0.1, class_weight=None, dual=True, fit_intercept=True,\n",
       "       intercept_scaling=1, loss='hinge', max_iter=1000, multi_class='ovr',\n",
       "       penalty='l2', random_state=None, tol=0.0001, verbose=0),\n",
       "  'penalty': 'l2',\n",
       "  'score': 0.81475476286988247},\n",
       " {'C': 0.1,\n",
       "  'dual': True,\n",
       "  'intercept_scaling': 5,\n",
       "  'loss': 'hinge',\n",
       "  'lsvc': LinearSVC(C=0.1, class_weight=None, dual=True, fit_intercept=True,\n",
       "       intercept_scaling=5, loss='hinge', max_iter=1000, multi_class='ovr',\n",
       "       penalty='l2', random_state=None, tol=0.0001, verbose=0),\n",
       "  'penalty': 'l2',\n",
       "  'score': 0.81880826915281724},\n",
       " {'C': 0.5,\n",
       "  'dual': True,\n",
       "  'intercept_scaling': 1,\n",
       "  'loss': 'squared_hinge',\n",
       "  'lsvc': LinearSVC(C=0.5, class_weight=None, dual=True, fit_intercept=True,\n",
       "       intercept_scaling=1, loss='squared_hinge', max_iter=1000,\n",
       "       multi_class='ovr', penalty='l2', random_state=None, tol=0.0001,\n",
       "       verbose=0),\n",
       "  'penalty': 'l2',\n",
       "  'score': 0.85002026753141469},\n",
       " {'C': 0.5,\n",
       "  'dual': True,\n",
       "  'intercept_scaling': 5,\n",
       "  'loss': 'squared_hinge',\n",
       "  'lsvc': LinearSVC(C=0.5, class_weight=None, dual=True, fit_intercept=True,\n",
       "       intercept_scaling=5, loss='squared_hinge', max_iter=1000,\n",
       "       multi_class='ovr', penalty='l2', random_state=None, tol=0.0001,\n",
       "       verbose=0),\n",
       "  'penalty': 'l2',\n",
       "  'score': 0.84920956627482769},\n",
       " {'C': 0.5,\n",
       "  'dual': False,\n",
       "  'intercept_scaling': 1,\n",
       "  'loss': 'squared_hinge',\n",
       "  'lsvc': LinearSVC(C=0.5, class_weight=None, dual=False, fit_intercept=True,\n",
       "       intercept_scaling=1, loss='squared_hinge', max_iter=1000,\n",
       "       multi_class='ovr', penalty='l2', random_state=None, tol=0.0001,\n",
       "       verbose=0),\n",
       "  'penalty': 'l2',\n",
       "  'score': 0.85002026753141469},\n",
       " {'C': 0.5,\n",
       "  'dual': False,\n",
       "  'intercept_scaling': 5,\n",
       "  'loss': 'squared_hinge',\n",
       "  'lsvc': LinearSVC(C=0.5, class_weight=None, dual=False, fit_intercept=True,\n",
       "       intercept_scaling=5, loss='squared_hinge', max_iter=1000,\n",
       "       multi_class='ovr', penalty='l2', random_state=None, tol=0.0001,\n",
       "       verbose=0),\n",
       "  'penalty': 'l2',\n",
       "  'score': 0.8488042156465343},\n",
       " {'C': 0.5,\n",
       "  'dual': False,\n",
       "  'intercept_scaling': 1,\n",
       "  'loss': 'squared_hinge',\n",
       "  'lsvc': LinearSVC(C=0.5, class_weight=None, dual=False, fit_intercept=True,\n",
       "       intercept_scaling=1, loss='squared_hinge', max_iter=1000,\n",
       "       multi_class='ovr', penalty='l1', random_state=None, tol=0.0001,\n",
       "       verbose=0),\n",
       "  'penalty': 'l1',\n",
       "  'score': 0.83421159302796921},\n",
       " {'C': 0.5,\n",
       "  'dual': False,\n",
       "  'intercept_scaling': 5,\n",
       "  'loss': 'squared_hinge',\n",
       "  'lsvc': LinearSVC(C=0.5, class_weight=None, dual=False, fit_intercept=True,\n",
       "       intercept_scaling=5, loss='squared_hinge', max_iter=1000,\n",
       "       multi_class='ovr', penalty='l1', random_state=None, tol=0.0001,\n",
       "       verbose=0),\n",
       "  'penalty': 'l1',\n",
       "  'score': 0.83907580056749087},\n",
       " {'C': 0.5,\n",
       "  'dual': True,\n",
       "  'intercept_scaling': 1,\n",
       "  'loss': 'hinge',\n",
       "  'lsvc': LinearSVC(C=0.5, class_weight=None, dual=True, fit_intercept=True,\n",
       "       intercept_scaling=1, loss='hinge', max_iter=1000, multi_class='ovr',\n",
       "       penalty='l2', random_state=None, tol=0.0001, verbose=0),\n",
       "  'penalty': 'l2',\n",
       "  'score': 0.8475881637616538},\n",
       " {'C': 0.5,\n",
       "  'dual': True,\n",
       "  'intercept_scaling': 5,\n",
       "  'loss': 'hinge',\n",
       "  'lsvc': LinearSVC(C=0.5, class_weight=None, dual=True, fit_intercept=True,\n",
       "       intercept_scaling=5, loss='hinge', max_iter=1000, multi_class='ovr',\n",
       "       penalty='l2', random_state=None, tol=0.0001, verbose=0),\n",
       "  'penalty': 'l2',\n",
       "  'score': 0.8475881637616538},\n",
       " {'C': 1.0,\n",
       "  'dual': True,\n",
       "  'intercept_scaling': 1,\n",
       "  'loss': 'squared_hinge',\n",
       "  'lsvc': LinearSVC(C=1.0, class_weight=None, dual=True, fit_intercept=True,\n",
       "       intercept_scaling=1, loss='squared_hinge', max_iter=1000,\n",
       "       multi_class='ovr', penalty='l2', random_state=None, tol=0.0001,\n",
       "       verbose=0),\n",
       "  'penalty': 'l2',\n",
       "  'score': 0.8483988650182408},\n",
       " {'C': 1.0,\n",
       "  'dual': True,\n",
       "  'intercept_scaling': 5,\n",
       "  'loss': 'squared_hinge',\n",
       "  'lsvc': LinearSVC(C=1.0, class_weight=None, dual=True, fit_intercept=True,\n",
       "       intercept_scaling=5, loss='squared_hinge', max_iter=1000,\n",
       "       multi_class='ovr', penalty='l2', random_state=None, tol=0.0001,\n",
       "       verbose=0),\n",
       "  'penalty': 'l2',\n",
       "  'score': 0.8488042156465343},\n",
       " {'C': 1.0,\n",
       "  'dual': False,\n",
       "  'intercept_scaling': 1,\n",
       "  'loss': 'squared_hinge',\n",
       "  'lsvc': LinearSVC(C=1.0, class_weight=None, dual=False, fit_intercept=True,\n",
       "       intercept_scaling=1, loss='squared_hinge', max_iter=1000,\n",
       "       multi_class='ovr', penalty='l2', random_state=None, tol=0.0001,\n",
       "       verbose=0),\n",
       "  'penalty': 'l2',\n",
       "  'score': 0.84920956627482769},\n",
       " {'C': 1.0,\n",
       "  'dual': False,\n",
       "  'intercept_scaling': 5,\n",
       "  'loss': 'squared_hinge',\n",
       "  'lsvc': LinearSVC(C=1.0, class_weight=None, dual=False, fit_intercept=True,\n",
       "       intercept_scaling=5, loss='squared_hinge', max_iter=1000,\n",
       "       multi_class='ovr', penalty='l2', random_state=None, tol=0.0001,\n",
       "       verbose=0),\n",
       "  'penalty': 'l2',\n",
       "  'score': 0.84961491690312119},\n",
       " {'C': 1.0,\n",
       "  'dual': False,\n",
       "  'intercept_scaling': 1,\n",
       "  'loss': 'squared_hinge',\n",
       "  'lsvc': LinearSVC(C=1.0, class_weight=None, dual=False, fit_intercept=True,\n",
       "       intercept_scaling=1, loss='squared_hinge', max_iter=1000,\n",
       "       multi_class='ovr', penalty='l1', random_state=None, tol=0.0001,\n",
       "       verbose=0),\n",
       "  'penalty': 'l1',\n",
       "  'score': 0.83948115119578437},\n",
       " {'C': 1.0,\n",
       "  'dual': False,\n",
       "  'intercept_scaling': 5,\n",
       "  'loss': 'squared_hinge',\n",
       "  'lsvc': LinearSVC(C=1.0, class_weight=None, dual=False, fit_intercept=True,\n",
       "       intercept_scaling=5, loss='squared_hinge', max_iter=1000,\n",
       "       multi_class='ovr', penalty='l1', random_state=None, tol=0.0001,\n",
       "       verbose=0),\n",
       "  'penalty': 'l1',\n",
       "  'score': 0.84231860559383864},\n",
       " {'C': 1.0,\n",
       "  'dual': True,\n",
       "  'intercept_scaling': 1,\n",
       "  'loss': 'hinge',\n",
       "  'lsvc': LinearSVC(C=1.0, class_weight=None, dual=True, fit_intercept=True,\n",
       "       intercept_scaling=1, loss='hinge', max_iter=1000, multi_class='ovr',\n",
       "       penalty='l2', random_state=None, tol=0.0001, verbose=0),\n",
       "  'penalty': 'l2',\n",
       "  'score': 0.8483988650182408},\n",
       " {'C': 1.0,\n",
       "  'dual': True,\n",
       "  'intercept_scaling': 5,\n",
       "  'loss': 'hinge',\n",
       "  'lsvc': LinearSVC(C=1.0, class_weight=None, dual=True, fit_intercept=True,\n",
       "       intercept_scaling=5, loss='hinge', max_iter=1000, multi_class='ovr',\n",
       "       penalty='l2', random_state=None, tol=0.0001, verbose=0),\n",
       "  'penalty': 'l2',\n",
       "  'score': 0.84961491690312119},\n",
       " {'C': 5.0,\n",
       "  'dual': True,\n",
       "  'intercept_scaling': 1,\n",
       "  'loss': 'squared_hinge',\n",
       "  'lsvc': LinearSVC(C=5.0, class_weight=None, dual=True, fit_intercept=True,\n",
       "       intercept_scaling=1, loss='squared_hinge', max_iter=1000,\n",
       "       multi_class='ovr', penalty='l2', random_state=None, tol=0.0001,\n",
       "       verbose=0),\n",
       "  'penalty': 'l2',\n",
       "  'score': 0.83785974868261048},\n",
       " {'C': 5.0,\n",
       "  'dual': True,\n",
       "  'intercept_scaling': 5,\n",
       "  'loss': 'squared_hinge',\n",
       "  'lsvc': LinearSVC(C=5.0, class_weight=None, dual=True, fit_intercept=True,\n",
       "       intercept_scaling=5, loss='squared_hinge', max_iter=1000,\n",
       "       multi_class='ovr', penalty='l2', random_state=None, tol=0.0001,\n",
       "       verbose=0),\n",
       "  'penalty': 'l2',\n",
       "  'score': 0.83948115119578437},\n",
       " {'C': 5.0,\n",
       "  'dual': False,\n",
       "  'intercept_scaling': 1,\n",
       "  'loss': 'squared_hinge',\n",
       "  'lsvc': LinearSVC(C=5.0, class_weight=None, dual=False, fit_intercept=True,\n",
       "       intercept_scaling=1, loss='squared_hinge', max_iter=1000,\n",
       "       multi_class='ovr', penalty='l2', random_state=None, tol=0.0001,\n",
       "       verbose=0),\n",
       "  'penalty': 'l2',\n",
       "  'score': 0.83745439805431698},\n",
       " {'C': 5.0,\n",
       "  'dual': False,\n",
       "  'intercept_scaling': 5,\n",
       "  'loss': 'squared_hinge',\n",
       "  'lsvc': LinearSVC(C=5.0, class_weight=None, dual=False, fit_intercept=True,\n",
       "       intercept_scaling=5, loss='squared_hinge', max_iter=1000,\n",
       "       multi_class='ovr', penalty='l2', random_state=None, tol=0.0001,\n",
       "       verbose=0),\n",
       "  'penalty': 'l2',\n",
       "  'score': 0.84110255370895826},\n",
       " {'C': 5.0,\n",
       "  'dual': False,\n",
       "  'intercept_scaling': 1,\n",
       "  'loss': 'squared_hinge',\n",
       "  'lsvc': LinearSVC(C=5.0, class_weight=None, dual=False, fit_intercept=True,\n",
       "       intercept_scaling=1, loss='squared_hinge', max_iter=1000,\n",
       "       multi_class='ovr', penalty='l1', random_state=None, tol=0.0001,\n",
       "       verbose=0),\n",
       "  'penalty': 'l1',\n",
       "  'score': 0.83056343737332794},\n",
       " {'C': 5.0,\n",
       "  'dual': False,\n",
       "  'intercept_scaling': 5,\n",
       "  'loss': 'squared_hinge',\n",
       "  'lsvc': LinearSVC(C=5.0, class_weight=None, dual=False, fit_intercept=True,\n",
       "       intercept_scaling=5, loss='squared_hinge', max_iter=1000,\n",
       "       multi_class='ovr', penalty='l1', random_state=None, tol=0.0001,\n",
       "       verbose=0),\n",
       "  'penalty': 'l1',\n",
       "  'score': 0.82772598297527367},\n",
       " {'C': 5.0,\n",
       "  'dual': True,\n",
       "  'intercept_scaling': 1,\n",
       "  'loss': 'hinge',\n",
       "  'lsvc': LinearSVC(C=5.0, class_weight=None, dual=True, fit_intercept=True,\n",
       "       intercept_scaling=1, loss='hinge', max_iter=1000, multi_class='ovr',\n",
       "       penalty='l2', random_state=None, tol=0.0001, verbose=0),\n",
       "  'penalty': 'l2',\n",
       "  'score': 0.84110255370895826},\n",
       " {'C': 5.0,\n",
       "  'dual': True,\n",
       "  'intercept_scaling': 5,\n",
       "  'loss': 'hinge',\n",
       "  'lsvc': LinearSVC(C=5.0, class_weight=None, dual=True, fit_intercept=True,\n",
       "       intercept_scaling=5, loss='hinge', max_iter=1000, multi_class='ovr',\n",
       "       penalty='l2', random_state=None, tol=0.0001, verbose=0),\n",
       "  'penalty': 'l2',\n",
       "  'score': 0.84312930685042564},\n",
       " {'C': 10.0,\n",
       "  'dual': True,\n",
       "  'intercept_scaling': 1,\n",
       "  'loss': 'squared_hinge',\n",
       "  'lsvc': LinearSVC(C=10.0, class_weight=None, dual=True, fit_intercept=True,\n",
       "       intercept_scaling=1, loss='squared_hinge', max_iter=1000,\n",
       "       multi_class='ovr', penalty='l2', random_state=None, tol=0.0001,\n",
       "       verbose=0),\n",
       "  'penalty': 'l2',\n",
       "  'score': 0.83340089177138221},\n",
       " {'C': 10.0,\n",
       "  'dual': True,\n",
       "  'intercept_scaling': 5,\n",
       "  'loss': 'squared_hinge',\n",
       "  'lsvc': LinearSVC(C=10.0, class_weight=None, dual=True, fit_intercept=True,\n",
       "       intercept_scaling=5, loss='squared_hinge', max_iter=1000,\n",
       "       multi_class='ovr', penalty='l2', random_state=None, tol=0.0001,\n",
       "       verbose=0),\n",
       "  'penalty': 'l2',\n",
       "  'score': 0.83056343737332794},\n",
       " {'C': 10.0,\n",
       "  'dual': False,\n",
       "  'intercept_scaling': 1,\n",
       "  'loss': 'squared_hinge',\n",
       "  'lsvc': LinearSVC(C=10.0, class_weight=None, dual=False, fit_intercept=True,\n",
       "       intercept_scaling=1, loss='squared_hinge', max_iter=1000,\n",
       "       multi_class='ovr', penalty='l2', random_state=None, tol=0.0001,\n",
       "       verbose=0),\n",
       "  'penalty': 'l2',\n",
       "  'score': 0.83177948925820833},\n",
       " {'C': 10.0,\n",
       "  'dual': False,\n",
       "  'intercept_scaling': 5,\n",
       "  'loss': 'squared_hinge',\n",
       "  'lsvc': LinearSVC(C=10.0, class_weight=None, dual=False, fit_intercept=True,\n",
       "       intercept_scaling=5, loss='squared_hinge', max_iter=1000,\n",
       "       multi_class='ovr', penalty='l2', random_state=None, tol=0.0001,\n",
       "       verbose=0),\n",
       "  'penalty': 'l2',\n",
       "  'score': 0.83137413862991483},\n",
       " {'C': 10.0,\n",
       "  'dual': False,\n",
       "  'intercept_scaling': 1,\n",
       "  'loss': 'squared_hinge',\n",
       "  'lsvc': LinearSVC(C=10.0, class_weight=None, dual=False, fit_intercept=True,\n",
       "       intercept_scaling=1, loss='squared_hinge', max_iter=1000,\n",
       "       multi_class='ovr', penalty='l1', random_state=None, tol=0.0001,\n",
       "       verbose=0),\n",
       "  'penalty': 'l1',\n",
       "  'score': 0.8228617754357519},\n",
       " {'C': 10.0,\n",
       "  'dual': False,\n",
       "  'intercept_scaling': 5,\n",
       "  'loss': 'squared_hinge',\n",
       "  'lsvc': LinearSVC(C=10.0, class_weight=None, dual=False, fit_intercept=True,\n",
       "       intercept_scaling=5, loss='squared_hinge', max_iter=1000,\n",
       "       multi_class='ovr', penalty='l1', random_state=None, tol=0.0001,\n",
       "       verbose=0),\n",
       "  'penalty': 'l1',\n",
       "  'score': 0.82407782732063239},\n",
       " {'C': 10.0,\n",
       "  'dual': True,\n",
       "  'intercept_scaling': 1,\n",
       "  'loss': 'hinge',\n",
       "  'lsvc': LinearSVC(C=10.0, class_weight=None, dual=True, fit_intercept=True,\n",
       "       intercept_scaling=1, loss='hinge', max_iter=1000, multi_class='ovr',\n",
       "       penalty='l2', random_state=None, tol=0.0001, verbose=0),\n",
       "  'penalty': 'l2',\n",
       "  'score': 0.84029185245237126},\n",
       " {'C': 10.0,\n",
       "  'dual': True,\n",
       "  'intercept_scaling': 5,\n",
       "  'loss': 'hinge',\n",
       "  'lsvc': LinearSVC(C=10.0, class_weight=None, dual=True, fit_intercept=True,\n",
       "       intercept_scaling=5, loss='hinge', max_iter=1000, multi_class='ovr',\n",
       "       penalty='l2', random_state=None, tol=0.0001, verbose=0),\n",
       "  'penalty': 'l2',\n",
       "  'score': 0.83745439805431698}]"
      ]
     },
     "execution_count": 18,
     "metadata": {},
     "output_type": "execute_result"
    }
   ],
   "source": [
    "lsvc_list"
   ]
  },
  {
   "cell_type": "code",
   "execution_count": 15,
   "metadata": {
    "collapsed": false,
    "deletable": true,
    "editable": true
   },
   "outputs": [
    {
     "data": {
      "text/plain": [
       "0.83015808674503444"
      ]
     },
     "execution_count": 15,
     "metadata": {},
     "output_type": "execute_result"
    }
   ],
   "source": [
    "## last time without bn\n",
    "#test_feed, test_latent, test_classes = latent_embedding_of_entire_dataset(test_data, ae, conf)\n",
    "#cids_ = classes_to_integers(int(model_net), test_classes)[1]\n",
    "#lsvc.score(test_latent, cids_)"
   ]
  },
  {
   "cell_type": "code",
   "execution_count": 17,
   "metadata": {
    "collapsed": false,
    "deletable": true,
    "editable": true
   },
   "outputs": [
    {
     "data": {
      "text/plain": [
       "0.82407782732063239"
      ]
     },
     "execution_count": 17,
     "metadata": {},
     "output_type": "execute_result"
    }
   ],
   "source": [
    "# with bn\n",
    "test_feed, test_latent, test_classes = latent_embedding_of_entire_dataset(test_data, ae, conf,\n",
    "                                                                             ae.name+'_1/BatchNormalization_3/batchnorm/add_1:0')\n",
    "cids_ = classes_to_integers(int(model_net), test_classes)[1]\n",
    "lsvc.score(test_latent, cids_)"
   ]
  },
  {
   "cell_type": "code",
   "execution_count": 15,
   "metadata": {
    "collapsed": false,
    "deletable": true,
    "editable": true
   },
   "outputs": [
    {
     "name": "stdout",
     "output_type": "stream",
     "text": [
      "(2467, 512)\n"
     ]
    }
   ],
   "source": [
    "print test_latent.shape"
   ]
  },
  {
   "cell_type": "code",
   "execution_count": null,
   "metadata": {
    "collapsed": true,
    "deletable": true,
    "editable": true
   },
   "outputs": [],
   "source": [
    "# DO GRID Search of the LinearSVC parameter space:"
   ]
  }
 ],
 "metadata": {
  "kernelspec": {
   "display_name": "Python 2",
   "language": "python",
   "name": "python2"
  },
  "language_info": {
   "codemirror_mode": {
    "name": "ipython",
    "version": 2
   },
   "file_extension": ".py",
   "mimetype": "text/x-python",
   "name": "python",
   "nbconvert_exporter": "python",
   "pygments_lexer": "ipython2",
   "version": "2.7.6"
  }
 },
 "nbformat": 4,
 "nbformat_minor": 2
}
