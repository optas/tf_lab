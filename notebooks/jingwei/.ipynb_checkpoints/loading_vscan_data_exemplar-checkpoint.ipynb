{
 "cells": [
  {
   "cell_type": "code",
   "execution_count": 5,
   "metadata": {
    "collapsed": false
   },
   "outputs": [],
   "source": [
    "import os.path as osp\n",
    "import numpy as np\n",
    "from tf_lab.autopredictors.scripts.helper import points_extension\n",
    "import tf_lab.point_clouds.in_out as pio\n",
    "from tf_lab.point_clouds.in_out import PointCloudDataSet\n",
    "import tf_lab.autopredictors.scripts.virt_scan_data as vscan\n",
    "\n",
    "\n",
    "top_data_dir = '/orions4-zfs/projects/lins2/Panos_Space/DATA/'\n",
    "\n",
    "def load_train_val_test_vscan(class_syn_id, n_threads, complete_n_samples=4096, incomplete_n_samples=2048, val_percent=0.10):\n",
    "    \n",
    "    complete_pclouds_path = osp.join(top_data_dir, 'ShapeNetPointClouds/from_manifold_meshes/not_scaled', \\\n",
    "                             str(complete_n_samples), class_syn_id)\n",
    "    \n",
    "    cmpl_file_names = pio.load_filenames_of_input_data(complete_pclouds_path, points_extension)\n",
    "    cmpl_pclouds, cmpl_model_names, syn_ids = pio.load_crude_point_clouds(file_names=cmpl_file_names, n_threads=n_threads)\n",
    "    assert(len(np.unique(syn_ids)) == 1)\n",
    "    print '%d files containing complete point clouds were found.' % (len(cmpl_pclouds), )\n",
    "\n",
    "\n",
    "    v_scan_top_dir = osp.join(top_data_dir, 'From_Matthias/shapenet_dim32_sdf_pc', class_syn_id)\n",
    "    train_id_file = osp.join(top_data_dir, 'From_Matthias/train_test_models/train_models_with_scan_id.txt')\n",
    "\n",
    "    train_data = vscan.load_single_class_incomplete_dataset(v_scan_top_dir, train_id_file, class_syn_id,\n",
    "                                                      cmpl_pclouds, cmpl_model_names, n_threads=n_threads,\n",
    "                                                      n_samples=incomplete_n_samples)\n",
    "    val_data = None\n",
    "    if val_percent > 0:\n",
    "        train_data, val_data = vscan.make_validation_from_train_data(train_data, val_percent)\n",
    "    \n",
    "\n",
    "    test_id_file = osp.join(top_data_dir, 'From_Matthias/train_test_models/test_models_with_scan_id.txt')\n",
    "    test_data = vscan.load_single_class_incomplete_dataset(v_scan_top_dir, test_id_file, class_syn_id,\n",
    "                                                  cmpl_pclouds, cmpl_model_names, n_threads=n_threads,\n",
    "                                                  n_samples=incomplete_n_samples)\n",
    "    \n",
    "    \n",
    "    \n",
    "    return train_data, val_data, test_data"
   ]
  },
  {
   "cell_type": "code",
   "execution_count": 10,
   "metadata": {
    "collapsed": false
   },
   "outputs": [
    {
     "name": "stdout",
     "output_type": "stream",
     "text": [
      "17820 1980 4470\n",
      "19800\n"
     ]
    }
   ],
   "source": [
    "class_syn_id = '02691156'\n",
    "train_data, val_data, test_data = load_train_val_test_vscan(class_syn_id, 30)\n",
    "\n",
    "\n",
    "print train_data.num_examples, val_data.num_examples, test_data.num_examples\n",
    "print val_data.num_examples + train_data.num_examples\n",
    "\n",
    "tr = train_data.full_epoch_data(shuffle=False)\n",
    "va = val_data.full_epoch_data(shuffle=False)\n",
    "te = test_data.full_epoch_data(shuffle=False)\n"
   ]
  },
  {
   "cell_type": "code",
   "execution_count": 14,
   "metadata": {
    "collapsed": false
   },
   "outputs": [],
   "source": [
    "train_set = set([i[:-6] for i in tr[1]])\n",
    "val_set = set([i[:-6] for i in va[1]])\n",
    "test_set = set([i[:-6] for i in te[1]])\n",
    "\n",
    "c1 = len(test_set.intersection(train_set)) == 0\n",
    "c2 = len(test_set.intersection(val_set)) == 0\n",
    "c3 = len(train_set.intersection(val_set)) == 0\n",
    "\n",
    "assert(c1 and c2 and c3)\n",
    "\n"
   ]
  }
 ],
 "metadata": {
  "kernelspec": {
   "display_name": "Python 2",
   "language": "python",
   "name": "python2"
  },
  "language_info": {
   "codemirror_mode": {
    "name": "ipython",
    "version": 2
   },
   "file_extension": ".py",
   "mimetype": "text/x-python",
   "name": "python",
   "nbconvert_exporter": "python",
   "pygments_lexer": "ipython2",
   "version": "2.7.6"
  }
 },
 "nbformat": 4,
 "nbformat_minor": 2
}
