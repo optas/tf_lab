{
 "cells": [
  {
   "cell_type": "code",
   "execution_count": 1,
   "metadata": {
    "collapsed": false
   },
   "outputs": [
    {
     "name": "stderr",
     "output_type": "stream",
     "text": [
      "/orions4-zfs/projects/lins2/Panos_Space/Git_Repos/geo_tool/solids/mesh.py:26: UserWarning: Mayavi library was not found. Some graphics utilities will be disabled.\n",
      "  warnings.warn('Mayavi library was not found. Some graphics utilities will be disabled.')\n"
     ]
    }
   ],
   "source": [
    "import sys\n",
    "import time\n",
    "import numpy as np\n",
    "import os.path as osp\n",
    "import tensorflow as tf\n",
    "import matplotlib.pyplot as plt\n",
    "\n",
    "from tf_lab.fundamentals.utils import set_visible_GPUs, reset_tf_graph\n",
    "\n",
    "import tf_lab.point_clouds.in_out as pio\n",
    "from tf_lab.point_clouds.in_out import PointCloudDataSet, write_model_ids_of_datasets\n",
    "from tf_lab.point_clouds.point_net_ae import PointNetAutoEncoder\n",
    "from tf_lab.point_clouds.autoencoder import Configuration as Conf\n",
    "import tf_lab.point_clouds.encoders_decoders as enc_dec\n",
    "\n",
    "from tf_lab.autopredictors.evaluate.basics import eval_model, read_saved_epochs\n",
    "from tf_lab.autopredictors.scripts.helper import shape_net_category_to_synth_id, match_incomplete_to_complete_data\n",
    "from tf_lab.autopredictors.plotting.basics import plot_original_pclouds_vs_reconstructed,\\\n",
    "                                                  plot_train_val_test_curves, plot_reconstructions_at_epoch\n",
    "\n",
    "\n",
    "\n",
    "\n",
    "from general_tools.in_out.basics import create_dir, delete_files_in_directory, files_in_subdirs\n",
    "from geo_tool import Point_Cloud"
   ]
  },
  {
   "cell_type": "code",
   "execution_count": 2,
   "metadata": {
    "collapsed": false
   },
   "outputs": [],
   "source": [
    "%load_ext autoreload\n",
    "%autoreload 2\n",
    "%matplotlib inline"
   ]
  },
  {
   "cell_type": "code",
   "execution_count": 3,
   "metadata": {
    "collapsed": false
   },
   "outputs": [
    {
     "name": "stdout",
     "output_type": "stream",
     "text": [
      "Give me the class type.\n",
      "chair\n"
     ]
    },
    {
     "data": {
      "text/plain": [
       "'/orions4-zfs/projects/lins2/Panos_Space/DATA/OUT/models/vanilla_ae/03001627/2_2_fc_decoder_1024pts'"
      ]
     },
     "execution_count": 3,
     "metadata": {},
     "output_type": "execute_result"
    }
   ],
   "source": [
    "class_type = raw_input('Give me the class type.\\n').lower()\n",
    "class_syn_id = shape_net_category_to_synth_id()[class_type]\n",
    "\n",
    "experiment_name = '2_2_fc_decoder_1024pts'\n",
    "do_training = True\n",
    "\n",
    "seed = 42\n",
    "np.random.seed(seed)\n",
    "tf.set_random_seed(seed)\n",
    "\n",
    "top_data_dir = '/orions4-zfs/projects/lins2/Panos_Space/DATA/'\n",
    "full_pclouds_path = osp.join(top_data_dir, 'ShapeNetPointClouds/from_manifold_meshes/1024/', class_syn_id)\n",
    "\n",
    "train_dir = osp.join(top_data_dir, 'OUT/models/vanilla_ae/', class_syn_id)\n",
    "train_dir = osp.join(train_dir, experiment_name)\n",
    "create_dir(train_dir)"
   ]
  },
  {
   "cell_type": "code",
   "execution_count": 4,
   "metadata": {
    "collapsed": false
   },
   "outputs": [
    {
     "name": "stdout",
     "output_type": "stream",
     "text": [
      "6778 files containing complete point clouds were found.\n"
     ]
    }
   ],
   "source": [
    "full_file_names = pio.load_filenames_of_input_data(full_pclouds_path)\n",
    "full_pclouds, full_model_names, full_syn_ids = pio.load_crude_point_clouds(file_names=full_file_names, n_threads=15)\n",
    "print '%d files containing complete point clouds were found.' % (len(full_pclouds), )"
   ]
  },
  {
   "cell_type": "code",
   "execution_count": 5,
   "metadata": {
    "collapsed": false
   },
   "outputs": [],
   "source": [
    "train_data_, val_data_, test_data_, r_indices = pio.train_validate_test_split([full_pclouds, \n",
    "                                                                    full_model_names],\n",
    "                                                                    train_perc=0.85,\n",
    "                                                                    validate_perc=0.05,\n",
    "                                                                    test_perc=0.1,                                                                   \n",
    "                                                                    seed=seed)\n",
    "\n",
    "model_ids = np.vstack((full_model_names, full_syn_ids)).T\n",
    "write_model_ids_of_datasets(train_dir, model_ids, r_indices)\n",
    "\n",
    "train_data = PointCloudDataSet(train_data_[0], labels=train_data_[1])\n",
    "val_data = PointCloudDataSet(val_data_[0], labels=val_data_[1])\n",
    "test_data = PointCloudDataSet(test_data_[0], labels=test_data_[1])"
   ]
  },
  {
   "cell_type": "code",
   "execution_count": 6,
   "metadata": {
    "collapsed": false
   },
   "outputs": [],
   "source": [
    "n_input = [1024, 3]\n",
    "\n",
    "decoder_args = {'layer_sizes': [1024, np.prod(n_input)], \n",
    "                'non_linearity': tf.nn.tanh\n",
    "               }\n",
    " \n",
    "conf = Conf(\n",
    "            n_input = n_input,\n",
    "            training_epochs = 1000,\n",
    "            batch_size = 50,\n",
    "            loss = 'chamfer',\n",
    "            train_dir = train_dir,\n",
    "            loss_display_step = 1,\n",
    "            saver_step = 10,\n",
    "            learning_rate = 0.00002,\n",
    "            saver_max_to_keep = 100,\n",
    "            gauss_augment = {'mu': 0, 'sigma': 0.02},            \n",
    "            encoder = enc_dec.encoder_with_convs_and_symmetry,\n",
    "            decoder = enc_dec.decoder_with_fc_only,\n",
    "            decoder_args = decoder_args,\n",
    "           )\n",
    "\n",
    "conf.experiment_name = experiment_name\n",
    "conf.save(osp.join(conf.train_dir, 'configuration'))"
   ]
  },
  {
   "cell_type": "code",
   "execution_count": null,
   "metadata": {
    "collapsed": false
   },
   "outputs": [
    {
     "name": "stdout",
     "output_type": "stream",
     "text": [
      "('Epoch:', '0001', 'training time (minutes)=', '0.2407', 'loss=', '0.003725862')\n",
      "('Epoch:', '0002', 'training time (minutes)=', '0.2307', 'loss=', '0.002983218')\n",
      "('Epoch:', '0003', 'training time (minutes)=', '0.2402', 'loss=', '0.002723909')\n",
      "('Epoch:', '0004', 'training time (minutes)=', '0.2393', 'loss=', '0.002551913')"
     ]
    }
   ],
   "source": [
    "reset_tf_graph()\n",
    "set_visible_GPUs([2])\n",
    "ae = PointNetAutoEncoder(experiment_name, conf)\n",
    "\n",
    "if do_training:\n",
    "    ae.train(train_data, conf)\n",
    "\n",
    "else:\n",
    "    saved_epochs = read_saved_epochs(conf.train_dir)\n",
    "    ae.restore_model(train_dir, saved_epochs[-1])"
   ]
  },
  {
   "cell_type": "code",
   "execution_count": null,
   "metadata": {
    "collapsed": false
   },
   "outputs": [],
   "source": [
    "# plot_epochs = saved_epochs[::len(saved_epochs)/10]\n",
    "# stats = eval_model(vae, conf, [train_data, val_data, test_data], epochs=plot_epochs, verbose=True)\n",
    "# top_save_dir = osp.join(top_data_dir, 'OUT/model_evaluation/?/', experiment_name)\n",
    "# plot_train_val_test_curves(stats, top_save_dir, has_validation=True, best_epoch=None, show=True)"
   ]
  }
 ],
 "metadata": {
  "kernelspec": {
   "display_name": "Python 2",
   "language": "python",
   "name": "python2"
  },
  "language_info": {
   "codemirror_mode": {
    "name": "ipython",
    "version": 2
   },
   "file_extension": ".py",
   "mimetype": "text/x-python",
   "name": "python",
   "nbconvert_exporter": "python",
   "pygments_lexer": "ipython2",
   "version": "2.7.6"
  }
 },
 "nbformat": 4,
 "nbformat_minor": 0
}
