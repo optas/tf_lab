{
 "cells": [
  {
   "cell_type": "code",
   "execution_count": 2,
   "metadata": {
    "collapsed": false
   },
   "outputs": [
    {
     "name": "stderr",
     "output_type": "stream",
     "text": [
      "/orions4-zfs/projects/lins2/Panos_Space/Git_Repos/geo_tool/solids/mesh.py:26: UserWarning: Mayavi library was not found. Some graphics utilities will be disabled.\n",
      "  warnings.warn('Mayavi library was not found. Some graphics utilities will be disabled.')\n"
     ]
    }
   ],
   "source": [
    "import sys\n",
    "import time\n",
    "import numpy as np\n",
    "import os.path as osp\n",
    "import tensorflow as tf\n",
    "import matplotlib.pyplot as plt\n",
    "\n",
    "import tf_lab.point_clouds.in_out as pio\n",
    "from tf_lab.point_clouds.in_out import PointCloudDataSet\n",
    "from tf_lab.point_clouds.vae import VariationalAutoencoder\n",
    "from tf_lab.point_clouds.autoencoder import Configuration as Conf\n",
    "import tf_lab.models.point_net_based_AE as pnAE\n",
    "from tf_lab.fundamentals.utils import set_visible_GPUs\n",
    "\n",
    "from general_tools.in_out.basics import create_dir, delete_files_in_directory\n",
    "from geo_tool import Point_Cloud\n",
    "\n",
    "from general_tools.in_out.basics import files_in_subdirs\n",
    "from tf_lab.autopredictors.scripts.helper import shape_net_category_to_synth_id"
   ]
  },
  {
   "cell_type": "code",
   "execution_count": 8,
   "metadata": {
    "collapsed": false
   },
   "outputs": [
    {
     "name": "stdout",
     "output_type": "stream",
     "text": [
      "The autoreload extension is already loaded. To reload it, use:\n",
      "  %reload_ext autoreload\n"
     ]
    }
   ],
   "source": [
    "%load_ext autoreload\n",
    "%autoreload 2\n",
    "%matplotlib inline"
   ]
  },
  {
   "cell_type": "code",
   "execution_count": 4,
   "metadata": {
    "collapsed": false
   },
   "outputs": [
    {
     "data": {
      "text/plain": [
       "'/orions4-zfs/projects/lins2/Panos_Space/DATA/OUT/models/variational/chamfer_full_shapes_all_SN_vae'"
      ]
     },
     "execution_count": 4,
     "metadata": {},
     "output_type": "execute_result"
    }
   ],
   "source": [
    "experiment_name = 'chamfer_full_shapes_all_SN_vae'\n",
    "\n",
    "seed = 42\n",
    "np.random.seed(seed)\n",
    "tf.set_random_seed(seed)\n",
    "\n",
    "top_data_dir = '/orions4-zfs/projects/lins2/Panos_Space/DATA/'\n",
    "full_pclouds_path = osp.join(top_data_dir, 'ShapeNetPointClouds/from_manifold_meshes/1024/')\n",
    "\n",
    "train_dir = osp.join(top_data_dir, 'OUT/models/variational')\n",
    "train_dir = osp.join(train_dir, experiment_name)\n",
    "create_dir(train_dir)"
   ]
  },
  {
   "cell_type": "code",
   "execution_count": 5,
   "metadata": {
    "collapsed": false
   },
   "outputs": [
    {
     "name": "stdout",
     "output_type": "stream",
     "text": [
      "52103 files containing complete point clouds were found.\n"
     ]
    }
   ],
   "source": [
    "full_file_names = pio.load_filenames_of_input_data(full_pclouds_path)\n",
    "full_pclouds, full_model_names, class_ids = pio.load_crude_point_clouds(file_names=full_file_names, n_threads=11)\n",
    "print '%d files containing complete point clouds were found.' % (len(full_pclouds), )"
   ]
  },
  {
   "cell_type": "code",
   "execution_count": 6,
   "metadata": {
    "collapsed": false
   },
   "outputs": [],
   "source": [
    "train_data_, val_data_, test_data_ = pio.train_validate_test_split([full_pclouds, \n",
    "                                                                    full_model_names],\n",
    "                                                                    train_perc=0.95,\n",
    "                                                                    validate_perc=0.0,\n",
    "                                                                    test_perc=0.05,                                                                   \n",
    "                                                                    seed=seed)\n",
    "\n",
    "train_data = PointCloudDataSet(train_data_[0], labels=train_data_[1])\n",
    "test_data = PointCloudDataSet(test_data_[0], labels=test_data_[1])"
   ]
  },
  {
   "cell_type": "code",
   "execution_count": null,
   "metadata": {
    "collapsed": false
   },
   "outputs": [
    {
     "name": "stdout",
     "output_type": "stream",
     "text": [
      "('Epoch:', '0001', 'training time (minutes)=', '1.9959', 'loss=', '13.434676707')\n",
      "('Epoch:', '0002', 'training time (minutes)=', '1.9957', 'loss=', '0.008600579')\n",
      "('Epoch:', '0003', 'training time (minutes)=', '2.0012', 'loss=', '0.008249746')\n",
      "('Epoch:', '0004', 'training time (minutes)=', '2.0025', 'loss=', '0.008151806')\n",
      "('Epoch:', '0005', 'training time (minutes)=', '2.0067', 'loss=', '0.008115648')\n",
      "('Epoch:', '0006', 'training time (minutes)=', '2.0008', 'loss=', '0.008099382')\n",
      "('Epoch:', '0007', 'training time (minutes)=', '2.0034', 'loss=', '0.008085662')\n",
      "('Epoch:', '0008', 'training time (minutes)=', '2.0043', 'loss=', '0.008075480')\n",
      "('Epoch:', '0009', 'training time (minutes)=', '2.0019', 'loss=', '0.008052266')\n",
      "('Epoch:', '0010', 'training time (minutes)=', '2.0101', 'loss=', '0.008046586')\n",
      "('Epoch:', '0011', 'training time (minutes)=', '1.9992', 'loss=', '0.008033528')"
     ]
    }
   ],
   "source": [
    "def reset_graph():\n",
    "    if 'sess' in globals() and sess:\n",
    "        sess.close()\n",
    "    tf.reset_default_graph()\n",
    "\n",
    "set_visible_GPUs([0])\n",
    "\n",
    "conf = Conf(n_input = [1024, 3],\n",
    "            training_epochs = 1000,\n",
    "            batch_size = 45,\n",
    "            loss = 'chamfer',\n",
    "            train_dir = train_dir,\n",
    "            loss_display_step = 1,\n",
    "            saver_step = 5,\n",
    "            learning_rate = 0.00005,\n",
    "            saver_max_to_keep = 500,\n",
    "            gauss_augment = {'mu': 0, 'sigma': 0.02},\n",
    "            encoder = pnAE.encoder,\n",
    "            decoder = pnAE.decoder,\n",
    "            spatial_trans = True,\n",
    "            denoising = False,\n",
    "            n_z = 1024,\n",
    "            latent_vs_recon = 100,\n",
    "            z_rotate = True\n",
    "           )\n",
    "\n",
    "reset_graph()\n",
    "\n",
    "vae = VariationalAutoencoder(experiment_name, conf)\n",
    "vae.train(train_data, conf)"
   ]
  }
 ],
 "metadata": {
  "kernelspec": {
   "display_name": "Python 2",
   "language": "python",
   "name": "python2"
  },
  "language_info": {
   "codemirror_mode": {
    "name": "ipython",
    "version": 2
   },
   "file_extension": ".py",
   "mimetype": "text/x-python",
   "name": "python",
   "nbconvert_exporter": "python",
   "pygments_lexer": "ipython2",
   "version": "2.7.6"
  }
 },
 "nbformat": 4,
 "nbformat_minor": 0
}
