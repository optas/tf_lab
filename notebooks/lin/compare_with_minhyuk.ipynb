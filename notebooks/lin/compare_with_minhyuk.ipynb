{
 "cells": [
  {
   "cell_type": "code",
   "execution_count": 1,
   "metadata": {
    "collapsed": false,
    "deletable": true,
    "editable": true
   },
   "outputs": [
    {
     "name": "stdout",
     "output_type": "stream",
     "text": [
      "Picking GPU 1\n"
     ]
    }
   ],
   "source": [
    "import sys\n",
    "\n",
    "sys.path.append('/orions4-zfs/projects/lins2/Lin_Space/Git_Repos')\n",
    "\n",
    "from general_tools.notebook.gpu_utils import setup_one_gpu\n",
    "GPU = 1\n",
    "setup_one_gpu(GPU)"
   ]
  },
  {
   "cell_type": "code",
   "execution_count": 22,
   "metadata": {
    "collapsed": false,
    "deletable": true,
    "editable": true,
    "scrolled": true
   },
   "outputs": [],
   "source": [
    "import sys\n",
    "import time\n",
    "import numpy as np\n",
    "import os.path as osp\n",
    "import tensorflow as tf\n",
    "import matplotlib.pyplot as plt\n",
    "from scipy.stats import hmean\n",
    "\n",
    "sys.path.append('/orions4-zfs/projects/lins2/Lin_Space/Git_Repos')\n",
    "\n",
    "import tf_lab.point_clouds.in_out as pio\n",
    "from tf_lab.point_clouds.in_out import PointCloudDataSet, write_model_ids_of_datasets\n",
    "from tf_lab.point_clouds.point_net_ae import PointNetAutoEncoder\n",
    "from tf_lab.point_clouds.autoencoder import Configuration as Conf\n",
    "import tf_lab.point_clouds.encoders_decoders as enc_dec\n",
    "\n",
    "\n",
    "import tf_lab.autopredictors.scripts.virt_scan_data as vscan\n",
    "\n",
    "from tf_lab.autopredictors.scripts.helper import shape_net_category_to_synth_id, points_extension, \\\n",
    "                                                 shape_net_core_synth_id_to_category\n",
    "\n",
    "from tf_lab.autopredictors.scripts import minhyuk_data as minhyuk_loader\n",
    "\n",
    "from tf_lab.autopredictors.plotting import plot_original_pclouds_vs_reconstructed, \\\n",
    "                                           plot_train_val_test_curves, plot_reconstructions_at_epoch#,\\\n",
    "                                          \n",
    "            \n",
    "from tf_lab.autopredictors.evaluate import eval_model, read_saved_epochs, accuracy_of_completion, \\\n",
    "                                           coverage_of_completion, save_reconstructions, \\\n",
    "                                           save_pc_prediction_stats, paper_pc_completion_experiment_id_best_epoch\n",
    "                                                  \n",
    "from geo_tool.fundamentals.cuboid import Cuboid\n",
    "from general_tools.in_out.basics import create_dir, delete_files_in_directory, files_in_subdirs\n",
    "from general_tools.simpletons import select_first_last_and_k\n",
    "from geo_tool import Point_Cloud"
   ]
  },
  {
   "cell_type": "code",
   "execution_count": 23,
   "metadata": {
    "collapsed": false,
    "deletable": true,
    "editable": true
   },
   "outputs": [
    {
     "name": "stdout",
     "output_type": "stream",
     "text": [
      "The autoreload extension is already loaded. To reload it, use:\n",
      "  %reload_ext autoreload\n"
     ]
    }
   ],
   "source": [
    "%load_ext autoreload\n",
    "%autoreload 2\n",
    "%matplotlib inline"
   ]
  },
  {
   "cell_type": "code",
   "execution_count": 45,
   "metadata": {
    "collapsed": false,
    "deletable": true,
    "editable": true
   },
   "outputs": [
    {
     "name": "stdout",
     "output_type": "stream",
     "text": [
      "['assembly_airplanes', 'assembly_bicycles', 'assembly_chairs', 'coseg_chairs', 'shapenet_tables']\n"
     ]
    }
   ],
   "source": [
    "print minhyuk_loader.test_categories\n",
    "incomplete_n_samples = 2048\n",
    "complete_n_samples = 4096\n",
    "\n",
    "from_manifold = False\n",
    "\n",
    "category_id = 4\n",
    "np.random.seed(42)\n",
    "min_categ_name = minhyuk_loader.test_categories[category_id]\n",
    "minhyuk_data, accuracies = minhyuk_loader.dataset_of_category(category_id, incomplete_n_samples, complete_n_samples, from_manifold)"
   ]
  },
  {
   "cell_type": "code",
   "execution_count": 44,
   "metadata": {
    "collapsed": false,
    "deletable": true,
    "editable": true
   },
   "outputs": [
    {
     "name": "stdout",
     "output_type": "stream",
     "text": [
      "37\n"
     ]
    }
   ],
   "source": [
    "l2_norm = np.linalg.norm\n",
    "\n",
    "def center_axis(points, axis):\n",
    "    res = points.copy()\n",
    "    r_max = np.max(res[:, axis])\n",
    "    r_min = np.min(res[:, axis])\n",
    "    gap = (r_max + r_min) / 2.0    \n",
    "    res[:, axis] -= gap\n",
    "    return res, gap\n",
    "\n",
    "def z_rotation_by_theta(theta):\n",
    "    cos_t = np.cos(theta);\n",
    "    sin_t = np.sin(theta)\n",
    "    R = np.array([[cos_t, -sin_t, 0], \n",
    "                  [sin_t, cos_t, 0],\n",
    "                  [0, 0, 1]]\n",
    "                )\n",
    "    return R\n",
    "\n",
    "def bounding_box_of_3d_points(points):\n",
    "    xmin = np.min(points[:, 0])\n",
    "    xmax = np.max(points[:, 0])\n",
    "    ymin = np.min(points[:, 1])\n",
    "    ymax = np.max(points[:, 1])\n",
    "    zmin = np.min(points[:, 2])\n",
    "    zmax = np.max(points[:, 2])\n",
    "    return xmin, ymin, zmin\n",
    "\n",
    "minh_full_pc, minh_labels, minh_pc_inc = minhyuk_data.full_epoch_data()\n",
    "n_examples = minhyuk_data.num_examples\n",
    "\n",
    "\n",
    "new_normalization = True\n",
    "\n",
    "if category_id == 0:\n",
    "    shrinks = np.zeros(n_examples)\n",
    "    shrinkage_multiplier = 3\n",
    "    for i in xrange(n_examples):\n",
    "        full_centered, gap = center_axis(minh_full_pc[i], 2)\n",
    "        minh_full_pc[i] = full_centered\n",
    "        minh_pc_inc[i][:,2] = minh_pc_inc[i][:,2] - gap\n",
    "\n",
    "        full_centered, gap = center_axis(minh_full_pc[i], 1)\n",
    "        minh_full_pc[i] = full_centered\n",
    "        minh_pc_inc[i][:,1] = minh_pc_inc[i][:,1] - gap\n",
    "\n",
    "        full_centered, gap = center_axis(minh_full_pc[i], 0)\n",
    "        minh_full_pc[i] = full_centered\n",
    "        minh_pc_inc[i][:,0] = minh_pc_inc[i][:,0] - gap\n",
    "\n",
    "        minh_pc_inc[i] = minh_pc_inc[i].dot(z_rotation_by_theta(0))\n",
    "        minh_full_pc[i] = minh_full_pc[i].dot(z_rotation_by_theta(0))\n",
    "        \n",
    "        xmin, ymin, zmin = bounding_box_of_3d_points(minh_full_pc[i])        \n",
    "        max_dist = np.max(l2_norm(minh_pc_inc[i], axis=1))\n",
    "        \n",
    "        if new_normalization:\n",
    "            shrinks[i] = np.sqrt(xmin ** 2 + ymin ** 2 + zmin ** 2) * 2\n",
    "        else:\n",
    "            shrinks[i] = max_dist * shrinkage_multiplier\n",
    "       \n",
    "        print(max_dist * shrinkage_multiplier)\n",
    "        print(np.sqrt(xmin ** 2 + ymin ** 2 + zmin ** 2) * 2)\n",
    "        minh_pc_inc[i] /= shrinks[i] \n",
    "        minh_full_pc[i] /= shrinks[i]\n",
    "\n",
    "\n",
    "if category_id == 2:\n",
    "    shrinks = np.zeros(n_examples)\n",
    "    shrinkage_multiplier = 2.5\n",
    "    for i in xrange(n_examples):\n",
    "        full_centered, gap = center_axis(minh_full_pc[i], 2)\n",
    "        minh_full_pc[i] = full_centered\n",
    "        minh_pc_inc[i][:,2] = minh_pc_inc[i][:,2] - gap\n",
    "\n",
    "        full_centered, gap = center_axis(minh_full_pc[i], 1)\n",
    "        minh_full_pc[i] = full_centered\n",
    "        minh_pc_inc[i][:,1] = minh_pc_inc[i][:,1] - gap\n",
    "\n",
    "        full_centered, gap = center_axis(minh_full_pc[i], 0)\n",
    "        minh_full_pc[i] = full_centered\n",
    "        minh_pc_inc[i][:,0] = minh_pc_inc[i][:,0] - gap\n",
    "        \n",
    "        #minh_pc_inc[i] = minh_pc_inc[i].dot(z_rotation_by_theta(np.pi / 2 * -1.0 + 0.02))\n",
    "        #minh_full_pc[i] = minh_full_pc[i].dot(z_rotation_by_theta(np.pi / 2 * -1.0 + 0.02))\n",
    "        \n",
    "        if i == 14:\n",
    "             minh_pc_inc[i] = minh_pc_inc[i].dot(z_rotation_by_theta(np.pi / 2 * -1.0 + 0.02))\n",
    "             minh_full_pc[i] = minh_full_pc[i].dot(z_rotation_by_theta(np.pi / 2 * -1.0 + 0.02))\n",
    "        else:\n",
    "             minh_pc_inc[i] = minh_pc_inc[i].dot(z_rotation_by_theta(np.pi / 2 * -1.0 + 0.02))\n",
    "             minh_full_pc[i] = minh_full_pc[i].dot(z_rotation_by_theta(np.pi / 2 * -1.0 + 0.02))\n",
    "        xmin, ymin, zmin = bounding_box_of_3d_points(minh_full_pc[i])\n",
    "        shrinks[i] = np.sqrt(xmin ** 2 + ymin ** 2 + zmin ** 2) * 2\n",
    "        \n",
    "        max_dist = np.max(l2_norm(minh_pc_inc[i], axis=1))\n",
    "        if new_normalization:\n",
    "            shrinks[i] = np.sqrt(xmin ** 2 + ymin ** 2 + zmin ** 2) * 2\n",
    "        else:\n",
    "            shrinks[i] = max_dist * shrinkage_multiplier\n",
    "       \n",
    "        print(max_dist * shrinkage_multiplier)\n",
    "        print(np.sqrt(xmin ** 2 + ymin ** 2 + zmin ** 2) * 2)\n",
    "        minh_pc_inc[i] /= shrinks[i] \n",
    "        minh_full_pc[i] /= shrinks[i]\n",
    "\n",
    "\n",
    "if category_id == 3:\n",
    "    shrinks = np.zeros(n_examples)\n",
    "    shrinkage_multiplier = 2.2\n",
    "    for i in xrange(n_examples):\n",
    "        full_centered, gap = center_axis(minh_full_pc[i], 2)\n",
    "        minh_full_pc[i] = full_centered\n",
    "        minh_pc_inc[i][:,2] = minh_pc_inc[i][:,2] - gap\n",
    "\n",
    "        full_centered, gap = center_axis(minh_full_pc[i], 1)\n",
    "        minh_full_pc[i] = full_centered\n",
    "        minh_pc_inc[i][:,1] = minh_pc_inc[i][:,1] - gap\n",
    "\n",
    "        full_centered, gap = center_axis(minh_full_pc[i], 0)\n",
    "        minh_full_pc[i] = full_centered\n",
    "        minh_pc_inc[i][:,0] = minh_pc_inc[i][:,0] - gap\n",
    "\n",
    "        minh_pc_inc[i] = minh_pc_inc[i].dot(z_rotation_by_theta(np.pi/2*-1.0))\n",
    "        minh_full_pc[i] = minh_full_pc[i].dot(z_rotation_by_theta(np.pi/2*-1.0))\n",
    "        \n",
    "        xmin, ymin, zmin = bounding_box_of_3d_points(minh_full_pc[i])\n",
    "        shrinks[i] = np.sqrt(xmin ** 2 + ymin ** 2 + zmin ** 2) * 2\n",
    "        \n",
    "        max_dist = np.max(l2_norm(minh_pc_inc[i], axis=1))\n",
    "        \n",
    "        if new_normalization:\n",
    "            shrinks[i] = np.sqrt(xmin ** 2 + ymin ** 2 + zmin ** 2) * 2\n",
    "        else:\n",
    "            shrinks[i] = max_dist * shrinkage_multiplier\n",
    "       \n",
    "        print(max_dist * shrinkage_multiplier)\n",
    "        print(np.sqrt(xmin ** 2 + ymin ** 2 + zmin ** 2) * 2)\n",
    "      \n",
    "        minh_pc_inc[i] /= shrinks[i] \n",
    "        minh_full_pc[i] /= shrinks[i]\n",
    "\n",
    "        \n",
    "if category_id == 4:\n",
    "    for i in xrange(n_examples):\n",
    "        full_centered, gap = center_axis(minh_full_pc[i], 2)\n",
    "        minh_full_pc[i] = full_centered\n",
    "        minh_full_pc[i] = minh_full_pc[i].dot(z_rotation_by_theta(np.pi / 2.0))    \n",
    "        minh_pc_inc[i][:,2] = minh_pc_inc[i][:,2] - gap\n",
    "        minh_pc_inc[i] = minh_pc_inc[i].dot(z_rotation_by_theta(np.pi / 2.0))        \n",
    "\n",
    "\n",
    "\n",
    "# Optionally keep input with high default-accuracy:\n",
    "keep_high_accuracy_only = False\n",
    "if keep_high_accuracy_only:\n",
    "    mask = np.array(accuracies) >= 0.99\n",
    "    minh_full_pc = minh_full_pc[mask]\n",
    "    minh_labels = minh_labels[mask]\n",
    "    minh_pc_inc = minh_pc_inc[mask]\n",
    "    \n",
    "minhyuk_data_transformed = PointCloudDataSet(minh_full_pc, labels=minh_labels, noise=minh_pc_inc)\n",
    "\n",
    "print(n_examples)\n"
   ]
  },
  {
   "cell_type": "code",
   "execution_count": 13,
   "metadata": {
    "collapsed": false,
    "deletable": true,
    "editable": true
   },
   "outputs": [
    {
     "name": "stdout",
     "output_type": "stream",
     "text": [
      "Give me the class type.\n",
      "chair\n"
     ]
    }
   ],
   "source": [
    "GPU = 2\n",
    "\n",
    "class_type = raw_input('Give me the class type.\\n').lower()\n",
    "class_syn_id = shape_net_category_to_synth_id()[class_type]\n",
    "\n",
    "loss = 'chamfer'\n",
    "\n",
    "experiment_id, best_epoch = paper_pc_completion_experiment_id_best_epoch(class_type, loss)\n",
    "\n",
    "load_model_conf = True\n",
    "do_evaluation = True\n",
    "\n",
    "experiment_name = str(experiment_id) + '_' + class_type + '_' + str(incomplete_n_samples) + '_' \\\n",
    "                  + str(complete_n_samples) + 'pts_' + loss\n",
    "\n",
    "top_data_dir = '/orions4-zfs/projects/lins2/Panos_Space/DATA/'\n",
    "train_dir = osp.join(top_data_dir, 'OUT/models/incomplete_pclouds/paper_vanilla_vscan')\n",
    "train_dir = osp.join(train_dir, experiment_name)"
   ]
  },
  {
   "cell_type": "code",
   "execution_count": 14,
   "metadata": {
    "collapsed": false,
    "deletable": true,
    "editable": true,
    "scrolled": true
   },
   "outputs": [
    {
     "name": "stdout",
     "output_type": "stream",
     "text": [
      "                    batch_size: 50\n",
      "                 consistent_io: None\n",
      "                         debug: False\n",
      "                       decoder: decoder_with_fc_only\n",
      "                  decoder_args: {'non_linearity': <function relu at 0x7fd337055f50>, 'layer_sizes': [1024, 12288]}\n",
      "                       encoder: encoder_with_convs_and_symmetry\n",
      "                  encoder_args: {'dropout_prob': 1.0}\n",
      "               experiment_name: 2_chair_2048_4096pts_chamfer\n",
      "                 gauss_augment: None\n",
      "                  is_denoising: True\n",
      "               latent_vs_recon: 1.0\n",
      "                 learning_rate: 0.0005\n",
      "                          loss: chamfer\n",
      "             loss_display_step: 1\n",
      "                       n_input: [2048, 3]\n",
      "                      n_output: [4096, 3]\n",
      "                           n_z: None\n",
      "             saver_max_to_keep: None\n",
      "                    saver_step: 2\n",
      "                     train_dir: /orions4-zfs/projects/lins2/Panos_Space/DATA/OUT/models/incomplete_pclouds/paper_vanilla_vscan/2_chair_2048_4096pts_chamfer\n",
      "               training_epochs: 500\n",
      "                      z_rotate: False\n",
      "\n"
     ]
    },
    {
     "ename": "NameError",
     "evalue": "name 'reset_tf_graph' is not defined",
     "output_type": "error",
     "traceback": [
      "\u001b[0;31m---------------------------------------------------------------------------\u001b[0m",
      "\u001b[0;31mNameError\u001b[0m                                 Traceback (most recent call last)",
      "\u001b[0;32m<ipython-input-14-1d56f165c2f1>\u001b[0m in \u001b[0;36m<module>\u001b[0;34m()\u001b[0m\n\u001b[1;32m     31\u001b[0m     \u001b[0mconf\u001b[0m\u001b[0;34m.\u001b[0m\u001b[0msave\u001b[0m\u001b[0;34m(\u001b[0m\u001b[0mosp\u001b[0m\u001b[0;34m.\u001b[0m\u001b[0mjoin\u001b[0m\u001b[0;34m(\u001b[0m\u001b[0mconf\u001b[0m\u001b[0;34m.\u001b[0m\u001b[0mtrain_dir\u001b[0m\u001b[0;34m,\u001b[0m \u001b[0;34m'configuration'\u001b[0m\u001b[0;34m)\u001b[0m\u001b[0;34m)\u001b[0m\u001b[0;34m\u001b[0m\u001b[0m\n\u001b[1;32m     32\u001b[0m \u001b[0;34m\u001b[0m\u001b[0m\n\u001b[0;32m---> 33\u001b[0;31m \u001b[0mreset_tf_graph\u001b[0m\u001b[0;34m(\u001b[0m\u001b[0;34m)\u001b[0m\u001b[0;34m\u001b[0m\u001b[0m\n\u001b[0m\u001b[1;32m     34\u001b[0m \u001b[0mset_visible_GPUs\u001b[0m\u001b[0;34m(\u001b[0m\u001b[0;34m[\u001b[0m\u001b[0mGPU\u001b[0m\u001b[0;34m]\u001b[0m\u001b[0;34m)\u001b[0m\u001b[0;34m\u001b[0m\u001b[0m\n\u001b[1;32m     35\u001b[0m \u001b[0mae\u001b[0m \u001b[0;34m=\u001b[0m \u001b[0mPointNetAutoEncoder\u001b[0m\u001b[0;34m(\u001b[0m\u001b[0mexperiment_name\u001b[0m\u001b[0;34m,\u001b[0m \u001b[0mconf\u001b[0m\u001b[0;34m)\u001b[0m\u001b[0;34m\u001b[0m\u001b[0m\n",
      "\u001b[0;31mNameError\u001b[0m: name 'reset_tf_graph' is not defined"
     ]
    }
   ],
   "source": [
    "if load_model_conf:\n",
    "    conf = Conf.load(osp.join(train_dir, 'configuration'))\n",
    "    conf.consistent_io = None\n",
    "    conf.encoder_args = {'dropout_prob': 1.0}\n",
    "    print conf\n",
    "else:\n",
    "    decoder_args = {'layer_sizes': [1024, np.prod(n_output)],\n",
    "                    'non_linearity': tf.nn.relu\n",
    "                   }\n",
    "\n",
    "    encoder_args = {'dropout_prob': 0.5}\n",
    "    \n",
    "    conf = Conf(\n",
    "                n_input = n_input,\n",
    "                n_output = n_output,\n",
    "                denoising = True,\n",
    "                training_epochs = max_training_epochs,\n",
    "                batch_size = 50,\n",
    "                loss = loss,\n",
    "                train_dir = train_dir,\n",
    "                loss_display_step = 1,\n",
    "                saver_step = 2,\n",
    "                learning_rate = 0.0005,\n",
    "                encoder = enc_dec.encoder_with_convs_and_symmetry,\n",
    "                encoder_args = encoder_args,\n",
    "                decoder = enc_dec.decoder_with_fc_only,\n",
    "                decoder_args = decoder_args\n",
    "               )\n",
    "    \n",
    "    conf.experiment_name = experiment_name\n",
    "    conf.save(osp.join(conf.train_dir, 'configuration'))\n",
    "    \n",
    "reset_tf_graph()\n",
    "set_visible_GPUs([GPU])\n",
    "ae = PointNetAutoEncoder(experiment_name, conf)"
   ]
  },
  {
   "cell_type": "code",
   "execution_count": 15,
   "metadata": {
    "collapsed": false,
    "deletable": true,
    "editable": true
   },
   "outputs": [
    {
     "ename": "NameError",
     "evalue": "name 'ae' is not defined",
     "output_type": "error",
     "traceback": [
      "\u001b[0;31m---------------------------------------------------------------------------\u001b[0m",
      "\u001b[0;31mNameError\u001b[0m                                 Traceback (most recent call last)",
      "\u001b[0;32m<ipython-input-15-0551325e43dc>\u001b[0m in \u001b[0;36m<module>\u001b[0;34m()\u001b[0m\n\u001b[1;32m      1\u001b[0m \u001b[0;31m# Evaluate Minhyuk\u001b[0m\u001b[0;34m\u001b[0m\u001b[0;34m\u001b[0m\u001b[0m\n\u001b[1;32m      2\u001b[0m \u001b[0mtesting_data\u001b[0m \u001b[0;34m=\u001b[0m \u001b[0mminhyuk_data_transformed\u001b[0m\u001b[0;34m\u001b[0m\u001b[0m\n\u001b[0;32m----> 3\u001b[0;31m \u001b[0mae\u001b[0m\u001b[0;34m.\u001b[0m\u001b[0mrestore_model\u001b[0m\u001b[0;34m(\u001b[0m\u001b[0mconf\u001b[0m\u001b[0;34m.\u001b[0m\u001b[0mtrain_dir\u001b[0m\u001b[0;34m,\u001b[0m \u001b[0mbest_epoch\u001b[0m\u001b[0;34m,\u001b[0m \u001b[0mverbose\u001b[0m\u001b[0;34m=\u001b[0m\u001b[0mTrue\u001b[0m\u001b[0;34m)\u001b[0m\u001b[0;34m\u001b[0m\u001b[0m\n\u001b[0m\u001b[1;32m      4\u001b[0m \u001b[0mtop_save_dir\u001b[0m \u001b[0;34m=\u001b[0m \u001b[0mosp\u001b[0m\u001b[0;34m.\u001b[0m\u001b[0mjoin\u001b[0m\u001b[0;34m(\u001b[0m\u001b[0mconf\u001b[0m\u001b[0;34m.\u001b[0m\u001b[0mtrain_dir\u001b[0m\u001b[0;34m,\u001b[0m \u001b[0;34m'output'\u001b[0m\u001b[0;34m,\u001b[0m \u001b[0;34m'epoch_'\u001b[0m \u001b[0;34m+\u001b[0m \u001b[0mstr\u001b[0m\u001b[0;34m(\u001b[0m\u001b[0mbest_epoch\u001b[0m\u001b[0;34m)\u001b[0m\u001b[0;34m)\u001b[0m\u001b[0;34m\u001b[0m\u001b[0m\n\u001b[1;32m      5\u001b[0m \u001b[0msave_dir\u001b[0m \u001b[0;34m=\u001b[0m \u001b[0mosp\u001b[0m\u001b[0;34m.\u001b[0m\u001b[0mjoin\u001b[0m\u001b[0;34m(\u001b[0m\u001b[0mtop_save_dir\u001b[0m\u001b[0;34m,\u001b[0m \u001b[0;34m'test_predictions'\u001b[0m\u001b[0;34m)\u001b[0m\u001b[0;34m\u001b[0m\u001b[0m\n",
      "\u001b[0;31mNameError\u001b[0m: name 'ae' is not defined"
     ]
    }
   ],
   "source": [
    "# Evaluate Minhyuk\n",
    "testing_data = minhyuk_data_transformed\n",
    "ae.restore_model(conf.train_dir, best_epoch, verbose=True) \n",
    "top_save_dir = osp.join(conf.train_dir, 'output', 'epoch_' + str(best_epoch))\n",
    "save_dir = osp.join(top_save_dir, 'test_predictions')    \n",
    "\n",
    "test_recon, test_loss, test_feed, test_ids, test_gt = ae.evaluate(testing_data, conf)\n",
    "\n",
    "division = True\n",
    "# Report Accuracy and Coverage of test data.\n",
    "#n_examples = len(test_recon)\n",
    "pred_scores = np.zeros((n_examples, 2))\n",
    "for i in xrange(n_examples):    \n",
    "    gt = test_gt[i]\n",
    "    pred = test_recon[i]\n",
    "    if division:\n",
    "        pred_scores[i, 0] = accuracy_of_completion(pred , gt , thres=0.02 / shrinks[i], ret_dists=False)\n",
    "        pred_scores[i, 1] = coverage_of_completion(gt, pred, thres=0.02 / shrinks[i], ret_dists=False)\n",
    "    else:\n",
    "        pred_scores[i, 0] = accuracy_of_completion(pred, gt, thres=0.02, ret_dists=False)\n",
    "        pred_scores[i, 1] = coverage_of_completion(gt, pred, thres=0.02, ret_dists=False)\n",
    "\n",
    "print 'Test Mean-Median Accuracy:', np.mean(pred_scores[:, 0]), np.median(pred_scores[:, 0])\n",
    "print 'Test Mean-Median Coverage:', np.mean(pred_scores[:, 1]), np.median(pred_scores[:, 1])\n",
    "\n",
    "print 'shrinkage_mulitplier ', shrinkage_multiplier\n",
    "\n",
    "print test_ids\n",
    "print pred_scores"
   ]
  },
  {
   "cell_type": "code",
   "execution_count": 74,
   "metadata": {
    "collapsed": false,
    "deletable": true,
    "editable": true
   },
   "outputs": [
    {
     "ename": "NameError",
     "evalue": "name 'plot_3d_point_cloud_paper' is not defined",
     "output_type": "error",
     "traceback": [
      "\u001b[0;31m---------------------------------------------------------------------------\u001b[0m",
      "\u001b[0;31mNameError\u001b[0m                                 Traceback (most recent call last)",
      "\u001b[0;32m<ipython-input-74-2834ac20099e>\u001b[0m in \u001b[0;36m<module>\u001b[0;34m()\u001b[0m\n\u001b[1;32m     15\u001b[0m     \u001b[0mcov_col\u001b[0m\u001b[0;34m[\u001b[0m\u001b[0mcov_col\u001b[0m \u001b[0;34m<=\u001b[0m \u001b[0;36m0.02\u001b[0m\u001b[0;34m]\u001b[0m \u001b[0;34m=\u001b[0m \u001b[0;36m0.021\u001b[0m\u001b[0;34m\u001b[0m\u001b[0m\n\u001b[1;32m     16\u001b[0m \u001b[0;34m\u001b[0m\u001b[0m\n\u001b[0;32m---> 17\u001b[0;31m     \u001b[0mfeed_fig\u001b[0m \u001b[0;34m=\u001b[0m \u001b[0mplot_3d_point_cloud_paper\u001b[0m\u001b[0;34m(\u001b[0m\u001b[0mPoint_Cloud\u001b[0m\u001b[0;34m(\u001b[0m\u001b[0mpoints\u001b[0m\u001b[0;34m=\u001b[0m\u001b[0mfeed\u001b[0m\u001b[0;34m)\u001b[0m\u001b[0;34m,\u001b[0m \u001b[0min_u_sphere\u001b[0m\u001b[0;34m=\u001b[0m\u001b[0mTrue\u001b[0m\u001b[0;34m,\u001b[0m \u001b[0mshow\u001b[0m\u001b[0;34m=\u001b[0m\u001b[0mFalse\u001b[0m\u001b[0;34m)\u001b[0m\u001b[0;34m;\u001b[0m\u001b[0;34m\u001b[0m\u001b[0m\n\u001b[0m\u001b[1;32m     18\u001b[0m     \u001b[0mfeed_fig\u001b[0m\u001b[0;34m.\u001b[0m\u001b[0msavefig\u001b[0m\u001b[0;34m(\u001b[0m\u001b[0mosp\u001b[0m\u001b[0;34m.\u001b[0m\u001b[0mjoin\u001b[0m\u001b[0;34m(\u001b[0m\u001b[0msave_dir\u001b[0m\u001b[0;34m,\u001b[0m  \u001b[0mmodel_name\u001b[0m \u001b[0;34m+\u001b[0m \u001b[0;34m'.feed.png'\u001b[0m\u001b[0;34m)\u001b[0m\u001b[0;34m)\u001b[0m\u001b[0;34m;\u001b[0m \u001b[0mplt\u001b[0m\u001b[0;34m.\u001b[0m\u001b[0mclose\u001b[0m\u001b[0;34m(\u001b[0m\u001b[0;34m)\u001b[0m\u001b[0;34m\u001b[0m\u001b[0m\n\u001b[1;32m     19\u001b[0m \u001b[0;34m\u001b[0m\u001b[0m\n",
      "\u001b[0;31mNameError\u001b[0m: name 'plot_3d_point_cloud_paper' is not defined"
     ]
    }
   ],
   "source": [
    "plt.ioff()\n",
    "save_dir = osp.join(top_data_dir, 'OUT', 'cmp_minhyuk', loss, min_categ_name)\n",
    "create_dir(save_dir)\n",
    "\n",
    "for i in xrange(n_examples):\n",
    "    gt = test_gt[i]\n",
    "    pred = test_recon[i]\n",
    "    feed = test_feed[i]\n",
    "    model_name = test_ids[i]\n",
    "    \n",
    "    ac_meas, ac_col = accuracy_of_completion(pred, gt, thres=0.02, ret_dists=True)\n",
    "    cov_meas, cov_col = coverage_of_completion(gt, pred, thres=0.02, ret_dists=True)\n",
    "                    \n",
    "    ac_col[ac_col <= 0.02] = 0.021\n",
    "    cov_col[cov_col <= 0.02] = 0.021\n",
    "\n",
    "    feed_fig = plot_3d_point_cloud_paper(Point_Cloud(points=feed), in_u_sphere=True, show=False);        \n",
    "    feed_fig.savefig(osp.join(save_dir,  model_name + '.feed.png')); plt.close()\n",
    "\n",
    "    c = ac_col\n",
    "    pred_fig = plot_3d_point_cloud_paper(Point_Cloud(points=pred), c=c, in_u_sphere=True, show=False);\n",
    "    pred_fig.savefig(osp.join(save_dir, model_name + '.prediction.png')); plt.close()\n",
    "\n",
    "    c = cov_col\n",
    "    gt_fig = plot_3d_point_cloud_paper(Point_Cloud(points=gt), c=c, in_u_sphere=True, show=False);\n",
    "    gt_fig.savefig(osp.join(save_dir, model_name + '.gt.png')); plt.close()"
   ]
  },
  {
   "cell_type": "code",
   "execution_count": null,
   "metadata": {
    "collapsed": true,
    "deletable": true,
    "editable": true
   },
   "outputs": [],
   "source": []
  }
 ],
 "metadata": {
  "kernelspec": {
   "display_name": "Python 2",
   "language": "python",
   "name": "python2"
  },
  "language_info": {
   "codemirror_mode": {
    "name": "ipython",
    "version": 2
   },
   "file_extension": ".py",
   "mimetype": "text/x-python",
   "name": "python",
   "nbconvert_exporter": "python",
   "pygments_lexer": "ipython2",
   "version": "2.7.6"
  }
 },
 "nbformat": 4,
 "nbformat_minor": 0
}
