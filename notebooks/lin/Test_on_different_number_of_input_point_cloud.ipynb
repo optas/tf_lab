{
 "cells": [
  {
   "cell_type": "code",
   "execution_count": 1,
   "metadata": {
    "collapsed": false,
    "deletable": true,
    "editable": true
   },
   "outputs": [
    {
     "name": "stdout",
     "output_type": "stream",
     "text": [
      "Picking GPU 2\n"
     ]
    }
   ],
   "source": [
    "import sys\n",
    "sys.path.append('/orions4-zfs/projects/lins2/Lin_Space/Git_Repos')\n",
    "from general_tools.notebook.gpu_utils import setup_one_gpu\n",
    "GPU = 2\n",
    "setup_one_gpu(GPU)"
   ]
  },
  {
   "cell_type": "code",
   "execution_count": 2,
   "metadata": {
    "collapsed": false,
    "deletable": true,
    "editable": true
   },
   "outputs": [
    {
     "name": "stderr",
     "output_type": "stream",
     "text": [
      "/usr/local/lib/python2.7/dist-packages/matplotlib/font_manager.py:273: UserWarning: Matplotlib is building the font cache using fc-list. This may take a moment.\n",
      "  warnings.warn('Matplotlib is building the font cache using fc-list. This may take a moment.')\n"
     ]
    }
   ],
   "source": [
    "import sys\n",
    "import time\n",
    "import numpy as np\n",
    "import os.path as osp\n",
    "import tensorflow as tf\n",
    "import matplotlib.pyplot as plt\n",
    "from scipy.stats import hmean\n",
    "\n",
    "from general_tools.notebook.tf import reset_tf_graph\n",
    "\n",
    "import tf_lab.point_clouds.in_out as pio\n",
    "from tf_lab.point_clouds.in_out import PointCloudDataSet, write_model_ids_of_datasets\n",
    "from tf_lab.point_clouds.point_net_ae import PointNetAutoEncoder\n",
    "from tf_lab.point_clouds.autoencoder import Configuration as Conf\n",
    "import tf_lab.point_clouds.encoders_decoders as enc_dec\n",
    "\n",
    "\n",
    "from tf_lab.autopredictors.scripts.helper import shape_net_category_to_synth_id, points_extension, \\\n",
    "                                                 shape_net_core_synth_id_to_category\n",
    "\n",
    "from tf_lab.autopredictors.plotting import plot_original_pclouds_vs_reconstructed, \\\n",
    "                                           plot_train_val_test_curves, plot_reconstructions_at_epoch\n",
    "\n",
    "from tf_lab.autopredictors.evaluate import eval_model, read_saved_epochs, accuracy_of_completion, \\\n",
    "                                           coverage_of_completion, save_reconstructions, \\\n",
    "                                           save_pc_prediction_stats\n",
    "                                           \n",
    "                                                  \n",
    "from general_tools.in_out.basics import create_dir, delete_files_in_directory, files_in_subdirs\n",
    "from general_tools.simpletons import select_first_last_and_k\n",
    "from geo_tool import Point_Cloud\n",
    "\n",
    "\n",
    "from tf_lab.autopredictors.scripts.virt_scan_data import load_partial_pointclouds\n",
    "import tf_lab.autopredictors.scripts.virt_scan_data as vscan\n",
    "from general_tools.simpletons import indices_in_iterable"
   ]
  },
  {
   "cell_type": "code",
   "execution_count": 3,
   "metadata": {
    "collapsed": true,
    "deletable": true,
    "editable": true
   },
   "outputs": [],
   "source": [
    "%load_ext autoreload\n",
    "%autoreload 2\n",
    "%matplotlib inline"
   ]
  },
  {
   "cell_type": "code",
   "execution_count": 4,
   "metadata": {
    "collapsed": false,
    "deletable": true,
    "editable": true
   },
   "outputs": [
    {
     "name": "stdout",
     "output_type": "stream",
     "text": [
      "Give me the class type: chair\n",
      "Give an experiment tag-IDorigin\n"
     ]
    }
   ],
   "source": [
    "class_type = raw_input('Give me the class type: ').lower()\n",
    "class_syn_id = shape_net_category_to_synth_id()[class_type]\n",
    "\n",
    "loss = 'chamfer'\n",
    "incomplete_n_samples = 2048\n",
    "complete_n_samples = 4096\n",
    "max_training_epochs = 100\n",
    "\n",
    "do_training = False\n",
    "load_model = True\n",
    "do_evaluation = False\n",
    "do_detailed_plotting = False\n",
    "\n",
    "#experiment_id = int(raw_input('Give the experiment ID: '))\n",
    "experiment_tag = raw_input('Give an experiment tag-ID')\n",
    "\n",
    "experiment_name = class_type + '_' + str(incomplete_n_samples) + '_' \\\n",
    "                  + str(complete_n_samples) + 'pts_' + loss + '_' + experiment_tag\n",
    "\n",
    "top_data_dir = '/orions4-zfs/projects/lins2/Panos_Space/DATA/'\n",
    "\n",
    "complete_pclouds_path = osp.join(top_data_dir, 'Point_Clouds/Shape_Net/Core/from_manifold_meshes/raw', \\\n",
    "                             str(complete_n_samples), class_syn_id)\n",
    "\n",
    "\n",
    "n_input = [incomplete_n_samples, 3]\n",
    "n_output = [complete_n_samples, 3]\n",
    "\n",
    "train_dir = osp.join(top_data_dir, 'OUT/iccv/nn_models/chair_2048_4096pts_chamfer_original')\n",
    "train_dir = osp.join(train_dir, experiment_name)\n",
    "create_dir(train_dir)\n",
    "\n",
    "max_evaluation_epochs = max_training_epochs"
   ]
  },
  {
   "cell_type": "code",
   "execution_count": 5,
   "metadata": {
    "collapsed": true,
    "deletable": true,
    "editable": true
   },
   "outputs": [],
   "source": [
    "partial_pclouds_path = osp.join(top_data_dir, 'Point_Clouds/Partial_PCs/Angela_synthetic','2048')"
   ]
  },
  {
   "cell_type": "code",
   "execution_count": 6,
   "metadata": {
    "collapsed": true,
    "deletable": true,
    "editable": true
   },
   "outputs": [],
   "source": [
    "seed = 42\n",
    "np.random.seed(seed)\n",
    "tf.set_random_seed(seed)"
   ]
  },
  {
   "cell_type": "code",
   "execution_count": 7,
   "metadata": {
    "collapsed": false,
    "deletable": true,
    "editable": true
   },
   "outputs": [
    {
     "name": "stdout",
     "output_type": "stream",
     "text": [
      "6778 files containing complete point clouds were found.\n"
     ]
    }
   ],
   "source": [
    "cmpl_file_names = pio.load_filenames_of_input_data(complete_pclouds_path, points_extension)\n",
    "cmpl_pclouds, cmpl_model_names, cmpl_syn_ids = pio.load_crude_point_clouds(file_names=cmpl_file_names, n_threads=40)\n",
    "assert(len(np.unique(cmpl_syn_ids)) == 1)\n",
    "print '%d files containing complete point clouds were found.' % (len(cmpl_pclouds), )"
   ]
  },
  {
   "cell_type": "code",
   "execution_count": 8,
   "metadata": {
    "collapsed": false,
    "deletable": true,
    "editable": true
   },
   "outputs": [
    {
     "name": "stdout",
     "output_type": "stream",
     "text": [
      "6000 partial point clouds were loaded.\n"
     ]
    }
   ],
   "source": [
    "test_list = '/orions4-zfs/projects/lins2/Panos_Space/DATA/Point_Clouds/Partial_PCs/Angela_synthetic/train_test_splits/test_models_small_with_scan_id.txt'\n",
    "test_pclouds, test_model_ids, test_syn_ids = load_partial_pointclouds(test_list, partial_pclouds_path, \n",
    "                                                                               50, class_restriction=class_syn_id)\n",
    "test_model_names = np.array([i[0] for i in test_model_ids], dtype=object)\n",
    "test_scan_ids = np.array([i[1] for i in test_model_ids], dtype=object)\n",
    "test_unames = np.array(test_model_names + '.' + test_scan_ids + '.' + test_syn_ids, dtype=object)\n",
    "matching_index = indices_in_iterable(cmpl_model_names, test_model_names)\n",
    "assert(np.alltrue(matching_index != -1))\n",
    "test_data = PointCloudDataSet(cmpl_pclouds[matching_index], noise=test_pclouds, labels=test_unames)"
   ]
  },
  {
   "cell_type": "code",
   "execution_count": 10,
   "metadata": {
    "collapsed": false,
    "deletable": true,
    "editable": true
   },
   "outputs": [
    {
     "name": "stdout",
     "output_type": "stream",
     "text": [
      "/orions4-zfs/projects/lins2/Panos_Space/DATA/OUT/iccv/nn_models/chair_2048_4096pts_chamfer_original/configuration\n",
      "/orions4-zfs/projects/lins2/Panos_Space/DATA/OUT/iccv/nn_models/chair_2048_4096pts_chamfer_original\n",
      "                    batch_size: 50\n",
      "                 consistent_io: None\n",
      "                         debug: False\n",
      "                       decoder: decoder_with_fc_only\n",
      "                  decoder_args: {'layer_sizes': [1024, 12288]}\n",
      "                       encoder: encoder_with_convs_and_symmetry\n",
      "                  encoder_args: {'filter_sizes': [1, 1, 1], 'n_filters': [64, 128, 1024], 'dropout_prob': 0.5, 'strides': [1, 1, 1]}\n",
      "               experiment_name: chair_2048_4096pts_chamfer_original\n",
      "                 gauss_augment: None\n",
      "                  is_denoising: True\n",
      "               latent_vs_recon: 1.0\n",
      "                 learning_rate: 0.0005\n",
      "                          loss: chamfer\n",
      "             loss_display_step: 1\n",
      "                       n_input: [2048, 3]\n",
      "                      n_output: [4096, 3]\n",
      "                           n_z: None\n",
      "             saver_max_to_keep: None\n",
      "                    saver_step: 1\n",
      "                     train_dir: /orions4-zfs/projects/lins2/Panos_Space/DATA/OUT/iccv/nn_models/chair_2048_4096pts_chamfer_original\n",
      "               training_epochs: 100\n",
      "                      z_rotate: False\n",
      "\n"
     ]
    },
    {
     "ename": "NotFoundError",
     "evalue": "Key chair_2048_4096pts_chamfer_origin/decoder_fc_0_bnorm/beta not found in checkpoint\n\t [[Node: chair_2048_4096pts_chamfer_origin_1/save/RestoreV2_2 = RestoreV2[dtypes=[DT_FLOAT], _device=\"/job:localhost/replica:0/task:0/cpu:0\"](_recv_chair_2048_4096pts_chamfer_origin_1/save/Const_0, chair_2048_4096pts_chamfer_origin_1/save/RestoreV2_2/tensor_names, chair_2048_4096pts_chamfer_origin_1/save/RestoreV2_2/shape_and_slices)]]\n\t [[Node: chair_2048_4096pts_chamfer_origin_1/save/RestoreV2_15/_47 = _Recv[client_terminated=false, recv_device=\"/job:localhost/replica:0/task:0/gpu:0\", send_device=\"/job:localhost/replica:0/task:0/cpu:0\", send_device_incarnation=1, tensor_name=\"edge_212_chair_2048_4096pts_chamfer_origin_1/save/RestoreV2_15\", tensor_type=DT_FLOAT, _device=\"/job:localhost/replica:0/task:0/gpu:0\"]()]]\n\nCaused by op u'chair_2048_4096pts_chamfer_origin_1/save/RestoreV2_2', defined at:\n  File \"/usr/lib/python2.7/runpy.py\", line 162, in _run_module_as_main\n    \"__main__\", fname, loader, pkg_name)\n  File \"/usr/lib/python2.7/runpy.py\", line 72, in _run_code\n    exec code in run_globals\n  File \"/orions4-zfs/projects/lins2/.local/lib/python2.7/site-packages/ipykernel/__main__.py\", line 3, in <module>\n    app.launch_new_instance()\n  File \"/orions4-zfs/projects/lins2/.local/lib/python2.7/site-packages/traitlets/config/application.py\", line 658, in launch_instance\n    app.start()\n  File \"/orions4-zfs/projects/lins2/.local/lib/python2.7/site-packages/ipykernel/kernelapp.py\", line 474, in start\n    ioloop.IOLoop.instance().start()\n  File \"/usr/local/lib/python2.7/dist-packages/zmq/eventloop/ioloop.py\", line 162, in start\n    super(ZMQIOLoop, self).start()\n  File \"/orions4-zfs/projects/lins2/.local/lib/python2.7/site-packages/tornado/ioloop.py\", line 887, in start\n    handler_func(fd_obj, events)\n  File \"/orions4-zfs/projects/lins2/.local/lib/python2.7/site-packages/tornado/stack_context.py\", line 275, in null_wrapper\n    return fn(*args, **kwargs)\n  File \"/usr/local/lib/python2.7/dist-packages/zmq/eventloop/zmqstream.py\", line 440, in _handle_events\n    self._handle_recv()\n  File \"/usr/local/lib/python2.7/dist-packages/zmq/eventloop/zmqstream.py\", line 472, in _handle_recv\n    self._run_callback(callback, msg)\n  File \"/usr/local/lib/python2.7/dist-packages/zmq/eventloop/zmqstream.py\", line 414, in _run_callback\n    callback(*args, **kwargs)\n  File \"/orions4-zfs/projects/lins2/.local/lib/python2.7/site-packages/tornado/stack_context.py\", line 275, in null_wrapper\n    return fn(*args, **kwargs)\n  File \"/orions4-zfs/projects/lins2/.local/lib/python2.7/site-packages/ipykernel/kernelbase.py\", line 276, in dispatcher\n    return self.dispatch_shell(stream, msg)\n  File \"/orions4-zfs/projects/lins2/.local/lib/python2.7/site-packages/ipykernel/kernelbase.py\", line 228, in dispatch_shell\n    handler(stream, idents, msg)\n  File \"/orions4-zfs/projects/lins2/.local/lib/python2.7/site-packages/ipykernel/kernelbase.py\", line 390, in execute_request\n    user_expressions, allow_stdin)\n  File \"/orions4-zfs/projects/lins2/.local/lib/python2.7/site-packages/ipykernel/ipkernel.py\", line 196, in do_execute\n    res = shell.run_cell(code, store_history=store_history, silent=silent)\n  File \"/orions4-zfs/projects/lins2/.local/lib/python2.7/site-packages/ipykernel/zmqshell.py\", line 501, in run_cell\n    return super(ZMQInteractiveShell, self).run_cell(*args, **kwargs)\n  File \"/orions4-zfs/projects/lins2/.local/lib/python2.7/site-packages/IPython/core/interactiveshell.py\", line 2717, in run_cell\n    interactivity=interactivity, compiler=compiler, result=result)\n  File \"/orions4-zfs/projects/lins2/.local/lib/python2.7/site-packages/IPython/core/interactiveshell.py\", line 2821, in run_ast_nodes\n    if self.run_code(code, result):\n  File \"/orions4-zfs/projects/lins2/.local/lib/python2.7/site-packages/IPython/core/interactiveshell.py\", line 2881, in run_code\n    exec(code_obj, self.user_global_ns, self.user_ns)\n  File \"<ipython-input-10-bd28e421bf62>\", line 35, in <module>\n    ae = PointNetAutoEncoder(experiment_name, conf)\n  File \"/orions4-zfs/projects/lins2/Lin_Space/Git_Repos/tf_lab/point_clouds/point_net_ae.py\", line 53, in __init__\n    self.saver = tf.train.Saver(tf.global_variables(), max_to_keep=c.saver_max_to_keep)\n  File \"/orions4-zfs/projects/lins2/.local/lib/python2.7/site-packages/tensorflow/python/training/saver.py\", line 1000, in __init__\n    self.build()\n  File \"/orions4-zfs/projects/lins2/.local/lib/python2.7/site-packages/tensorflow/python/training/saver.py\", line 1030, in build\n    restore_sequentially=self._restore_sequentially)\n  File \"/orions4-zfs/projects/lins2/.local/lib/python2.7/site-packages/tensorflow/python/training/saver.py\", line 624, in build\n    restore_sequentially, reshape)\n  File \"/orions4-zfs/projects/lins2/.local/lib/python2.7/site-packages/tensorflow/python/training/saver.py\", line 361, in _AddRestoreOps\n    tensors = self.restore_op(filename_tensor, saveable, preferred_shard)\n  File \"/orions4-zfs/projects/lins2/.local/lib/python2.7/site-packages/tensorflow/python/training/saver.py\", line 200, in restore_op\n    [spec.tensor.dtype])[0])\n  File \"/orions4-zfs/projects/lins2/.local/lib/python2.7/site-packages/tensorflow/python/ops/gen_io_ops.py\", line 441, in restore_v2\n    dtypes=dtypes, name=name)\n  File \"/orions4-zfs/projects/lins2/.local/lib/python2.7/site-packages/tensorflow/python/framework/op_def_library.py\", line 759, in apply_op\n    op_def=op_def)\n  File \"/orions4-zfs/projects/lins2/.local/lib/python2.7/site-packages/tensorflow/python/framework/ops.py\", line 2240, in create_op\n    original_op=self._default_original_op, op_def=op_def)\n  File \"/orions4-zfs/projects/lins2/.local/lib/python2.7/site-packages/tensorflow/python/framework/ops.py\", line 1128, in __init__\n    self._traceback = _extract_stack()\n\nNotFoundError (see above for traceback): Key chair_2048_4096pts_chamfer_origin/decoder_fc_0_bnorm/beta not found in checkpoint\n\t [[Node: chair_2048_4096pts_chamfer_origin_1/save/RestoreV2_2 = RestoreV2[dtypes=[DT_FLOAT], _device=\"/job:localhost/replica:0/task:0/cpu:0\"](_recv_chair_2048_4096pts_chamfer_origin_1/save/Const_0, chair_2048_4096pts_chamfer_origin_1/save/RestoreV2_2/tensor_names, chair_2048_4096pts_chamfer_origin_1/save/RestoreV2_2/shape_and_slices)]]\n\t [[Node: chair_2048_4096pts_chamfer_origin_1/save/RestoreV2_15/_47 = _Recv[client_terminated=false, recv_device=\"/job:localhost/replica:0/task:0/gpu:0\", send_device=\"/job:localhost/replica:0/task:0/cpu:0\", send_device_incarnation=1, tensor_name=\"edge_212_chair_2048_4096pts_chamfer_origin_1/save/RestoreV2_15\", tensor_type=DT_FLOAT, _device=\"/job:localhost/replica:0/task:0/gpu:0\"]()]]\n",
     "output_type": "error",
     "traceback": [
      "\u001b[0;31m---------------------------------------------------------------------------\u001b[0m",
      "\u001b[0;31mNotFoundError\u001b[0m                             Traceback (most recent call last)",
      "\u001b[0;32m<ipython-input-10-bd28e421bf62>\u001b[0m in \u001b[0;36m<module>\u001b[0;34m()\u001b[0m\n\u001b[1;32m     40\u001b[0m     \u001b[0;32mprint\u001b[0m\u001b[0;34m(\u001b[0m\u001b[0mconf\u001b[0m\u001b[0;34m)\u001b[0m\u001b[0;34m\u001b[0m\u001b[0m\n\u001b[1;32m     41\u001b[0m     \u001b[0mlast_epoch\u001b[0m \u001b[0;34m=\u001b[0m \u001b[0;36m56\u001b[0m\u001b[0;34m\u001b[0m\u001b[0m\n\u001b[0;32m---> 42\u001b[0;31m     \u001b[0mae\u001b[0m\u001b[0;34m.\u001b[0m\u001b[0mrestore_model\u001b[0m\u001b[0;34m(\u001b[0m\u001b[0mconf\u001b[0m\u001b[0;34m.\u001b[0m\u001b[0mtrain_dir\u001b[0m\u001b[0;34m,\u001b[0m\u001b[0mlast_epoch\u001b[0m\u001b[0;34m,\u001b[0m \u001b[0mverbose\u001b[0m\u001b[0;34m=\u001b[0m\u001b[0mTrue\u001b[0m\u001b[0;34m)\u001b[0m\u001b[0;34m\u001b[0m\u001b[0m\n\u001b[0m",
      "\u001b[0;32m/orions4-zfs/projects/lins2/Lin_Space/Git_Repos/tf_lab/point_clouds/autoencoder.pyc\u001b[0m in \u001b[0;36mrestore_model\u001b[0;34m(self, model_path, epoch, verbose)\u001b[0m\n\u001b[1;32m    109\u001b[0m         '''Restore all the variables of a saved auto-encoder model.\n\u001b[1;32m    110\u001b[0m         '''\n\u001b[0;32m--> 111\u001b[0;31m         \u001b[0mself\u001b[0m\u001b[0;34m.\u001b[0m\u001b[0msaver\u001b[0m\u001b[0;34m.\u001b[0m\u001b[0mrestore\u001b[0m\u001b[0;34m(\u001b[0m\u001b[0mself\u001b[0m\u001b[0;34m.\u001b[0m\u001b[0msess\u001b[0m\u001b[0;34m,\u001b[0m \u001b[0mosp\u001b[0m\u001b[0;34m.\u001b[0m\u001b[0mjoin\u001b[0m\u001b[0;34m(\u001b[0m\u001b[0mmodel_path\u001b[0m\u001b[0;34m,\u001b[0m \u001b[0mmodel_saver_id\u001b[0m \u001b[0;34m+\u001b[0m \u001b[0;34m'-'\u001b[0m \u001b[0;34m+\u001b[0m \u001b[0mstr\u001b[0m\u001b[0;34m(\u001b[0m\u001b[0mint\u001b[0m\u001b[0;34m(\u001b[0m\u001b[0mepoch\u001b[0m\u001b[0;34m)\u001b[0m\u001b[0;34m)\u001b[0m\u001b[0;34m)\u001b[0m\u001b[0;34m)\u001b[0m\u001b[0;34m\u001b[0m\u001b[0m\n\u001b[0m\u001b[1;32m    112\u001b[0m \u001b[0;34m\u001b[0m\u001b[0m\n\u001b[1;32m    113\u001b[0m         \u001b[0;32mif\u001b[0m \u001b[0mself\u001b[0m\u001b[0;34m.\u001b[0m\u001b[0mepoch\u001b[0m\u001b[0;34m.\u001b[0m\u001b[0meval\u001b[0m\u001b[0;34m(\u001b[0m\u001b[0msession\u001b[0m\u001b[0;34m=\u001b[0m\u001b[0mself\u001b[0m\u001b[0;34m.\u001b[0m\u001b[0msess\u001b[0m\u001b[0;34m)\u001b[0m \u001b[0;34m!=\u001b[0m \u001b[0mepoch\u001b[0m\u001b[0;34m:\u001b[0m\u001b[0;34m\u001b[0m\u001b[0m\n",
      "\u001b[0;32m/orions4-zfs/projects/lins2/.local/lib/python2.7/site-packages/tensorflow/python/training/saver.pyc\u001b[0m in \u001b[0;36mrestore\u001b[0;34m(self, sess, save_path)\u001b[0m\n\u001b[1;32m   1386\u001b[0m       \u001b[0;32mreturn\u001b[0m\u001b[0;34m\u001b[0m\u001b[0m\n\u001b[1;32m   1387\u001b[0m     sess.run(self.saver_def.restore_op_name,\n\u001b[0;32m-> 1388\u001b[0;31m              {self.saver_def.filename_tensor_name: save_path})\n\u001b[0m\u001b[1;32m   1389\u001b[0m \u001b[0;34m\u001b[0m\u001b[0m\n\u001b[1;32m   1390\u001b[0m   \u001b[0;34m@\u001b[0m\u001b[0mstaticmethod\u001b[0m\u001b[0;34m\u001b[0m\u001b[0m\n",
      "\u001b[0;32m/orions4-zfs/projects/lins2/.local/lib/python2.7/site-packages/tensorflow/python/client/session.pyc\u001b[0m in \u001b[0;36mrun\u001b[0;34m(self, fetches, feed_dict, options, run_metadata)\u001b[0m\n\u001b[1;32m    764\u001b[0m     \u001b[0;32mtry\u001b[0m\u001b[0;34m:\u001b[0m\u001b[0;34m\u001b[0m\u001b[0m\n\u001b[1;32m    765\u001b[0m       result = self._run(None, fetches, feed_dict, options_ptr,\n\u001b[0;32m--> 766\u001b[0;31m                          run_metadata_ptr)\n\u001b[0m\u001b[1;32m    767\u001b[0m       \u001b[0;32mif\u001b[0m \u001b[0mrun_metadata\u001b[0m\u001b[0;34m:\u001b[0m\u001b[0;34m\u001b[0m\u001b[0m\n\u001b[1;32m    768\u001b[0m         \u001b[0mproto_data\u001b[0m \u001b[0;34m=\u001b[0m \u001b[0mtf_session\u001b[0m\u001b[0;34m.\u001b[0m\u001b[0mTF_GetBuffer\u001b[0m\u001b[0;34m(\u001b[0m\u001b[0mrun_metadata_ptr\u001b[0m\u001b[0;34m)\u001b[0m\u001b[0;34m\u001b[0m\u001b[0m\n",
      "\u001b[0;32m/orions4-zfs/projects/lins2/.local/lib/python2.7/site-packages/tensorflow/python/client/session.pyc\u001b[0m in \u001b[0;36m_run\u001b[0;34m(self, handle, fetches, feed_dict, options, run_metadata)\u001b[0m\n\u001b[1;32m    962\u001b[0m     \u001b[0;32mif\u001b[0m \u001b[0mfinal_fetches\u001b[0m \u001b[0;32mor\u001b[0m \u001b[0mfinal_targets\u001b[0m\u001b[0;34m:\u001b[0m\u001b[0;34m\u001b[0m\u001b[0m\n\u001b[1;32m    963\u001b[0m       results = self._do_run(handle, final_targets, final_fetches,\n\u001b[0;32m--> 964\u001b[0;31m                              feed_dict_string, options, run_metadata)\n\u001b[0m\u001b[1;32m    965\u001b[0m     \u001b[0;32melse\u001b[0m\u001b[0;34m:\u001b[0m\u001b[0;34m\u001b[0m\u001b[0m\n\u001b[1;32m    966\u001b[0m       \u001b[0mresults\u001b[0m \u001b[0;34m=\u001b[0m \u001b[0;34m[\u001b[0m\u001b[0;34m]\u001b[0m\u001b[0;34m\u001b[0m\u001b[0m\n",
      "\u001b[0;32m/orions4-zfs/projects/lins2/.local/lib/python2.7/site-packages/tensorflow/python/client/session.pyc\u001b[0m in \u001b[0;36m_do_run\u001b[0;34m(self, handle, target_list, fetch_list, feed_dict, options, run_metadata)\u001b[0m\n\u001b[1;32m   1012\u001b[0m     \u001b[0;32mif\u001b[0m \u001b[0mhandle\u001b[0m \u001b[0;32mis\u001b[0m \u001b[0mNone\u001b[0m\u001b[0;34m:\u001b[0m\u001b[0;34m\u001b[0m\u001b[0m\n\u001b[1;32m   1013\u001b[0m       return self._do_call(_run_fn, self._session, feed_dict, fetch_list,\n\u001b[0;32m-> 1014\u001b[0;31m                            target_list, options, run_metadata)\n\u001b[0m\u001b[1;32m   1015\u001b[0m     \u001b[0;32melse\u001b[0m\u001b[0;34m:\u001b[0m\u001b[0;34m\u001b[0m\u001b[0m\n\u001b[1;32m   1016\u001b[0m       return self._do_call(_prun_fn, self._session, handle, feed_dict,\n",
      "\u001b[0;32m/orions4-zfs/projects/lins2/.local/lib/python2.7/site-packages/tensorflow/python/client/session.pyc\u001b[0m in \u001b[0;36m_do_call\u001b[0;34m(self, fn, *args)\u001b[0m\n\u001b[1;32m   1032\u001b[0m         \u001b[0;32mexcept\u001b[0m \u001b[0mKeyError\u001b[0m\u001b[0;34m:\u001b[0m\u001b[0;34m\u001b[0m\u001b[0m\n\u001b[1;32m   1033\u001b[0m           \u001b[0;32mpass\u001b[0m\u001b[0;34m\u001b[0m\u001b[0m\n\u001b[0;32m-> 1034\u001b[0;31m       \u001b[0;32mraise\u001b[0m \u001b[0mtype\u001b[0m\u001b[0;34m(\u001b[0m\u001b[0me\u001b[0m\u001b[0;34m)\u001b[0m\u001b[0;34m(\u001b[0m\u001b[0mnode_def\u001b[0m\u001b[0;34m,\u001b[0m \u001b[0mop\u001b[0m\u001b[0;34m,\u001b[0m \u001b[0mmessage\u001b[0m\u001b[0;34m)\u001b[0m\u001b[0;34m\u001b[0m\u001b[0m\n\u001b[0m\u001b[1;32m   1035\u001b[0m \u001b[0;34m\u001b[0m\u001b[0m\n\u001b[1;32m   1036\u001b[0m   \u001b[0;32mdef\u001b[0m \u001b[0m_extend_graph\u001b[0m\u001b[0;34m(\u001b[0m\u001b[0mself\u001b[0m\u001b[0;34m)\u001b[0m\u001b[0;34m:\u001b[0m\u001b[0;34m\u001b[0m\u001b[0m\n",
      "\u001b[0;31mNotFoundError\u001b[0m: Key chair_2048_4096pts_chamfer_origin/decoder_fc_0_bnorm/beta not found in checkpoint\n\t [[Node: chair_2048_4096pts_chamfer_origin_1/save/RestoreV2_2 = RestoreV2[dtypes=[DT_FLOAT], _device=\"/job:localhost/replica:0/task:0/cpu:0\"](_recv_chair_2048_4096pts_chamfer_origin_1/save/Const_0, chair_2048_4096pts_chamfer_origin_1/save/RestoreV2_2/tensor_names, chair_2048_4096pts_chamfer_origin_1/save/RestoreV2_2/shape_and_slices)]]\n\t [[Node: chair_2048_4096pts_chamfer_origin_1/save/RestoreV2_15/_47 = _Recv[client_terminated=false, recv_device=\"/job:localhost/replica:0/task:0/gpu:0\", send_device=\"/job:localhost/replica:0/task:0/cpu:0\", send_device_incarnation=1, tensor_name=\"edge_212_chair_2048_4096pts_chamfer_origin_1/save/RestoreV2_15\", tensor_type=DT_FLOAT, _device=\"/job:localhost/replica:0/task:0/gpu:0\"]()]]\n\nCaused by op u'chair_2048_4096pts_chamfer_origin_1/save/RestoreV2_2', defined at:\n  File \"/usr/lib/python2.7/runpy.py\", line 162, in _run_module_as_main\n    \"__main__\", fname, loader, pkg_name)\n  File \"/usr/lib/python2.7/runpy.py\", line 72, in _run_code\n    exec code in run_globals\n  File \"/orions4-zfs/projects/lins2/.local/lib/python2.7/site-packages/ipykernel/__main__.py\", line 3, in <module>\n    app.launch_new_instance()\n  File \"/orions4-zfs/projects/lins2/.local/lib/python2.7/site-packages/traitlets/config/application.py\", line 658, in launch_instance\n    app.start()\n  File \"/orions4-zfs/projects/lins2/.local/lib/python2.7/site-packages/ipykernel/kernelapp.py\", line 474, in start\n    ioloop.IOLoop.instance().start()\n  File \"/usr/local/lib/python2.7/dist-packages/zmq/eventloop/ioloop.py\", line 162, in start\n    super(ZMQIOLoop, self).start()\n  File \"/orions4-zfs/projects/lins2/.local/lib/python2.7/site-packages/tornado/ioloop.py\", line 887, in start\n    handler_func(fd_obj, events)\n  File \"/orions4-zfs/projects/lins2/.local/lib/python2.7/site-packages/tornado/stack_context.py\", line 275, in null_wrapper\n    return fn(*args, **kwargs)\n  File \"/usr/local/lib/python2.7/dist-packages/zmq/eventloop/zmqstream.py\", line 440, in _handle_events\n    self._handle_recv()\n  File \"/usr/local/lib/python2.7/dist-packages/zmq/eventloop/zmqstream.py\", line 472, in _handle_recv\n    self._run_callback(callback, msg)\n  File \"/usr/local/lib/python2.7/dist-packages/zmq/eventloop/zmqstream.py\", line 414, in _run_callback\n    callback(*args, **kwargs)\n  File \"/orions4-zfs/projects/lins2/.local/lib/python2.7/site-packages/tornado/stack_context.py\", line 275, in null_wrapper\n    return fn(*args, **kwargs)\n  File \"/orions4-zfs/projects/lins2/.local/lib/python2.7/site-packages/ipykernel/kernelbase.py\", line 276, in dispatcher\n    return self.dispatch_shell(stream, msg)\n  File \"/orions4-zfs/projects/lins2/.local/lib/python2.7/site-packages/ipykernel/kernelbase.py\", line 228, in dispatch_shell\n    handler(stream, idents, msg)\n  File \"/orions4-zfs/projects/lins2/.local/lib/python2.7/site-packages/ipykernel/kernelbase.py\", line 390, in execute_request\n    user_expressions, allow_stdin)\n  File \"/orions4-zfs/projects/lins2/.local/lib/python2.7/site-packages/ipykernel/ipkernel.py\", line 196, in do_execute\n    res = shell.run_cell(code, store_history=store_history, silent=silent)\n  File \"/orions4-zfs/projects/lins2/.local/lib/python2.7/site-packages/ipykernel/zmqshell.py\", line 501, in run_cell\n    return super(ZMQInteractiveShell, self).run_cell(*args, **kwargs)\n  File \"/orions4-zfs/projects/lins2/.local/lib/python2.7/site-packages/IPython/core/interactiveshell.py\", line 2717, in run_cell\n    interactivity=interactivity, compiler=compiler, result=result)\n  File \"/orions4-zfs/projects/lins2/.local/lib/python2.7/site-packages/IPython/core/interactiveshell.py\", line 2821, in run_ast_nodes\n    if self.run_code(code, result):\n  File \"/orions4-zfs/projects/lins2/.local/lib/python2.7/site-packages/IPython/core/interactiveshell.py\", line 2881, in run_code\n    exec(code_obj, self.user_global_ns, self.user_ns)\n  File \"<ipython-input-10-bd28e421bf62>\", line 35, in <module>\n    ae = PointNetAutoEncoder(experiment_name, conf)\n  File \"/orions4-zfs/projects/lins2/Lin_Space/Git_Repos/tf_lab/point_clouds/point_net_ae.py\", line 53, in __init__\n    self.saver = tf.train.Saver(tf.global_variables(), max_to_keep=c.saver_max_to_keep)\n  File \"/orions4-zfs/projects/lins2/.local/lib/python2.7/site-packages/tensorflow/python/training/saver.py\", line 1000, in __init__\n    self.build()\n  File \"/orions4-zfs/projects/lins2/.local/lib/python2.7/site-packages/tensorflow/python/training/saver.py\", line 1030, in build\n    restore_sequentially=self._restore_sequentially)\n  File \"/orions4-zfs/projects/lins2/.local/lib/python2.7/site-packages/tensorflow/python/training/saver.py\", line 624, in build\n    restore_sequentially, reshape)\n  File \"/orions4-zfs/projects/lins2/.local/lib/python2.7/site-packages/tensorflow/python/training/saver.py\", line 361, in _AddRestoreOps\n    tensors = self.restore_op(filename_tensor, saveable, preferred_shard)\n  File \"/orions4-zfs/projects/lins2/.local/lib/python2.7/site-packages/tensorflow/python/training/saver.py\", line 200, in restore_op\n    [spec.tensor.dtype])[0])\n  File \"/orions4-zfs/projects/lins2/.local/lib/python2.7/site-packages/tensorflow/python/ops/gen_io_ops.py\", line 441, in restore_v2\n    dtypes=dtypes, name=name)\n  File \"/orions4-zfs/projects/lins2/.local/lib/python2.7/site-packages/tensorflow/python/framework/op_def_library.py\", line 759, in apply_op\n    op_def=op_def)\n  File \"/orions4-zfs/projects/lins2/.local/lib/python2.7/site-packages/tensorflow/python/framework/ops.py\", line 2240, in create_op\n    original_op=self._default_original_op, op_def=op_def)\n  File \"/orions4-zfs/projects/lins2/.local/lib/python2.7/site-packages/tensorflow/python/framework/ops.py\", line 1128, in __init__\n    self._traceback = _extract_stack()\n\nNotFoundError (see above for traceback): Key chair_2048_4096pts_chamfer_origin/decoder_fc_0_bnorm/beta not found in checkpoint\n\t [[Node: chair_2048_4096pts_chamfer_origin_1/save/RestoreV2_2 = RestoreV2[dtypes=[DT_FLOAT], _device=\"/job:localhost/replica:0/task:0/cpu:0\"](_recv_chair_2048_4096pts_chamfer_origin_1/save/Const_0, chair_2048_4096pts_chamfer_origin_1/save/RestoreV2_2/tensor_names, chair_2048_4096pts_chamfer_origin_1/save/RestoreV2_2/shape_and_slices)]]\n\t [[Node: chair_2048_4096pts_chamfer_origin_1/save/RestoreV2_15/_47 = _Recv[client_terminated=false, recv_device=\"/job:localhost/replica:0/task:0/gpu:0\", send_device=\"/job:localhost/replica:0/task:0/cpu:0\", send_device_incarnation=1, tensor_name=\"edge_212_chair_2048_4096pts_chamfer_origin_1/save/RestoreV2_15\", tensor_type=DT_FLOAT, _device=\"/job:localhost/replica:0/task:0/gpu:0\"]()]]\n"
     ]
    }
   ],
   "source": [
    "if load_model:\n",
    "    print(osp.join('/orions4-zfs/projects/lins2/Panos_Space/DATA/OUT/iccv/nn_models/chair_2048_4096pts_chamfer_original', 'configuration'))\n",
    "    conf = Conf.load(osp.join('/orions4-zfs/projects/lins2/Panos_Space/DATA/OUT/iccv/nn_models/chair_2048_4096pts_chamfer_original', 'configuration'))\n",
    "else:    \n",
    "    encoder_args = {'n_filters': [64, 128, 512],\n",
    "                    'filter_sizes': [1, 1, 1],\n",
    "                    'strides': [1, 1, 1],\n",
    "                    'dropout_prob': 0.5\n",
    "                   }\n",
    "    \n",
    "    decoder_args = {'layer_sizes': [1024, np.prod(n_output)]}\n",
    "    \n",
    "    conf = Conf(\n",
    "                n_input = n_input,\n",
    "                n_output = n_output,\n",
    "                denoising = True,\n",
    "                training_epochs = 1,#max_training_epochs,\n",
    "                batch_size = 50,\n",
    "                loss = loss,\n",
    "                train_dir = train_dir,\n",
    "                loss_display_step = 1,\n",
    "                saver_step = 1,\n",
    "                learning_rate = 0.0005,\n",
    "                z_rotate = z_rotate,\n",
    "                encoder = enc_dec.encoder_with_convs_and_symmetry,\n",
    "                encoder_args = encoder_args,\n",
    "                decoder = enc_dec.decoder_with_fc_only,\n",
    "                decoder_args = decoder_args\n",
    "               )\n",
    "    \n",
    "    conf.experiment_name = experiment_name\n",
    "    conf.save(osp.join(conf.train_dir, 'configuration'))\n",
    "    \n",
    "reset_tf_graph()\n",
    "ae = PointNetAutoEncoder(experiment_name, conf)\n",
    "\n",
    "if load_model:\n",
    "    saved_epochs = read_saved_epochs(conf.train_dir)\n",
    "    print(conf.train_dir)\n",
    "    print(conf)\n",
    "    last_epoch = 56\n",
    "    ae.restore_model(conf.train_dir,last_epoch, verbose=True)"
   ]
  },
  {
   "cell_type": "code",
   "execution_count": 80,
   "metadata": {
    "collapsed": false,
    "deletable": true,
    "editable": true
   },
   "outputs": [],
   "source": [
    "#a = test_data.noisy_point_clouds.copy()\n",
    "#test_data.noisy_point_clouds =  np.hstack((a,a))"
   ]
  },
  {
   "cell_type": "code",
   "execution_count": 84,
   "metadata": {
    "collapsed": false,
    "deletable": true,
    "editable": true
   },
   "outputs": [
    {
     "name": "stdout",
     "output_type": "stream",
     "text": [
      "Best epoch = 56.\n",
      "0.000689921367545\n"
     ]
    }
   ],
   "source": [
    "best_epoch = 56\n",
    "\n",
    "do_evaluation = True\n",
    "if do_evaluation:    \n",
    "    print 'Best epoch = %d.' % (best_epoch, )\n",
    "    ae.restore_model(conf.train_dir, best_epoch)\n",
    "    top_save_dir = osp.join(conf.train_dir, 'output', 'epoch_' + str(best_epoch))\n",
    "    test_recon, test_loss, test_feed, test_ids, test_gt = ae.evaluate(test_data, conf)\n",
    "    print(test_loss)"
   ]
  },
  {
   "cell_type": "code",
   "execution_count": 85,
   "metadata": {
    "collapsed": false,
    "deletable": true,
    "editable": true
   },
   "outputs": [
    {
     "name": "stdout",
     "output_type": "stream",
     "text": [
      "Test Median Accuracy-Coverage: 0.904541015625 0.775146484375\n",
      "Test Median H-Measure: 0.832823572942\n"
     ]
    }
   ],
   "source": [
    "report_cov_and_acc = True\n",
    "if report_cov_and_acc:\n",
    "    test_recon, test_loss, test_feed, test_ids, test_gt = ae.evaluate(test_data, conf)\n",
    "\n",
    "#     top_save_dir = osp.join(conf.train_dir, 'output', 'epoch_' + str(best_epoch))\n",
    "\n",
    "#     save_dir = osp.join(top_save_dir, 'test_predictions')\n",
    "#     save_reconstructions(save_dir, test_recon, test_gt, test_feed, test_ids) # save ply files of test data.    \n",
    "#     train_loss = ae.evaluate(train_data, conf)[1]\n",
    "    \n",
    "    # Report Accuracy and Coverage of test data.\n",
    "    n_examples = len(test_recon)\n",
    "    pred_scores = np.zeros((n_examples, 2))\n",
    "    for i in xrange(n_examples):\n",
    "        gt = test_gt[i]\n",
    "        pred = test_recon[i] \n",
    "        pred_scores[i, 0] = accuracy_of_completion(pred, gt, thres=0.02, ret_dists=False)\n",
    "        pred_scores[i, 1] = coverage_of_completion(gt, pred, thres=0.02, ret_dists=False)\n",
    "                \n",
    "    print 'Test Median Accuracy-Coverage:', np.median(pred_scores[:, 0]), np.median(pred_scores[:, 1])\n",
    "    print 'Test Median H-Measure:', np.median(hmean(pred_scores, axis=1))"
   ]
  },
  {
   "cell_type": "code",
   "execution_count": null,
   "metadata": {
    "collapsed": true,
    "deletable": true,
    "editable": true
   },
   "outputs": [],
   "source": []
  }
 ],
 "metadata": {
  "kernelspec": {
   "display_name": "Python 2",
   "language": "python",
   "name": "python2"
  },
  "language_info": {
   "codemirror_mode": {
    "name": "ipython",
    "version": 2
   },
   "file_extension": ".py",
   "mimetype": "text/x-python",
   "name": "python",
   "nbconvert_exporter": "python",
   "pygments_lexer": "ipython2",
   "version": "2.7.6"
  }
 },
 "nbformat": 4,
 "nbformat_minor": 2
}
