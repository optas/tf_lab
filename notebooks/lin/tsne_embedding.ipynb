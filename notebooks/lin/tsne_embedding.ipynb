{
 "cells": [
  {
   "cell_type": "code",
   "execution_count": 50,
   "metadata": {
    "collapsed": false,
    "deletable": true,
    "editable": true
   },
   "outputs": [
    {
     "name": "stdout",
     "output_type": "stream",
     "text": [
      "The autoreload extension is already loaded. To reload it, use:\n",
      "  %reload_ext autoreload\n"
     ]
    }
   ],
   "source": [
    "%load_ext autoreload\n",
    "%autoreload 2\n",
    "%matplotlib inline"
   ]
  },
  {
   "cell_type": "code",
   "execution_count": 51,
   "metadata": {
    "collapsed": false,
    "deletable": true,
    "editable": true
   },
   "outputs": [],
   "source": [
    "import numpy as np\n",
    "import os.path as osp\n",
    "import matplotlib.pylab as plt\n",
    "from sklearn.manifold import TSNE\n",
    "import sys\n",
    "sys.path.append('/orions4-zfs/projects/lins2/Lin_Space/Git_Repos')\n",
    "from general_tools.in_out.basics import unpickle_data\n",
    "from general_tools.clustering.plt import plot_2d_embedding_in_grid_greedy_way, plot_2d_embedding_in_grid_forceful\n",
    "from general_tools.in_out import create_dir\n",
    "from geo_tool import Point_Cloud\n",
    "\n",
    "from tf_lab.autopredictors.scripts.virt_scan_data import plotting_default_params, pc_sampler, pc_loader\n",
    "from tf_lab.autopredictors.scripts.helper import shape_net_core_synth_id_to_category"
   ]
  },
  {
   "cell_type": "code",
   "execution_count": 52,
   "metadata": {
    "collapsed": false,
    "deletable": true,
    "editable": true
   },
   "outputs": [],
   "source": [
    "tsne_saved_data = '/orions4-zfs/projects/lins2/Panos_Space/DATA/OUT/iccv/tsne_stats/chamfer-tsne-data.pkl'\n",
    "ids, latent_emb = unpickle_data(tsne_saved_data)"
   ]
  },
  {
   "cell_type": "code",
   "execution_count": 40,
   "metadata": {
    "collapsed": false,
    "deletable": true,
    "editable": true
   },
   "outputs": [],
   "source": [
    "tokens = [i.split('.') for i in ids]\n",
    "syn_ids = np.array([token[0] for token in tokens], dtype=object)\n",
    "model_names = np.array([token[1] for token in tokens], dtype=object)\n",
    "scan_ids = np.array([token[2] for token in tokens], dtype=object)"
   ]
  },
  {
   "cell_type": "code",
   "execution_count": 41,
   "metadata": {
    "collapsed": false,
    "deletable": true,
    "editable": true
   },
   "outputs": [],
   "source": [
    "# Generate 'some' randomly chosen images per class of objects (will be used as thumbnail in TSNE plot)\n",
    "top_in_dir = '/orions4-zfs/projects/lins2/Panos_Space/DATA/Point_Clouds/Partial_PCs/Angela_synthetic/2048/'\n",
    "top_image_dir = '/orions4-zfs/projects/lins2/Panos_Space/DATA/Point_Clouds/Partial_PCs/Angela_synthetic/2048/images'\n",
    "create_dir(top_image_dir)\n",
    "\n",
    "u_syn_ids = np.unique(syn_ids)\n",
    "samples_per_class = 50\n",
    "selected = []\n",
    "for syn_id in np.unique(syn_ids):\n",
    "    in_class = np.where(syn_ids == syn_id)[0]\n",
    "    selected += np.ndarray.tolist(np.random.choice(in_class, samples_per_class, replace=False))\n",
    "\n",
    "plt.ioff()    \n",
    "for i in selected:\n",
    "    in_f = osp.join(top_in_dir, syn_ids[i], model_names[i] + scan_ids[i] + '.ply')\n",
    "    points = pc_loader(in_f)[0]\n",
    "    category_i = shape_net_core_synth_id_to_category[syn_ids[i]]\n",
    "    params = plotting_default_params(category_i)\n",
    "    save_name = syn_ids[i] + '.' + model_names[i] + '.' + scan_ids[i] + '.png'\n",
    "    fig = Point_Cloud(points=points).plot(show=False, show_axis=False, **params);\n",
    "    fig.savefig(osp.join(top_image_dir, save_name))\n",
    "    plt.close()"
   ]
  },
  {
   "cell_type": "code",
   "execution_count": 42,
   "metadata": {
    "collapsed": false,
    "deletable": true,
    "editable": true
   },
   "outputs": [
    {
     "name": "stdout",
     "output_type": "stream",
     "text": [
      "[t-SNE] Computing pairwise distances...\n",
      "[t-SNE] Computing 91 nearest neighbors...\n",
      "[t-SNE] Computed conditional probabilities for sample 400 / 400\n",
      "[t-SNE] Mean sigma: 0.573253\n",
      "[t-SNE] KL divergence after 100 iterations with early exaggeration: 0.635495\n",
      "[t-SNE] Error after 175 iterations: 0.635495\n"
     ]
    }
   ],
   "source": [
    "# Find TSNE of sub-selected objects.\n",
    "seed = 42\n",
    "model = TSNE(n_components=2, random_state=seed, init='pca', verbose=True)\n",
    "tsne_small = model.fit_transform(latent_emb[selected])"
   ]
  },
  {
   "cell_type": "code",
   "execution_count": 43,
   "metadata": {
    "collapsed": false,
    "deletable": true,
    "editable": true
   },
   "outputs": [],
   "source": [
    "# Make a list with the file-names of all to be used images.\n",
    "image_files = []\n",
    "for i in selected:\n",
    "    save_name = syn_ids[i] + '.' + model_names[i] + '.' + scan_ids[i] + '.png'\n",
    "    image_files.append(osp.join(top_image_dir, save_name))"
   ]
  },
  {
   "cell_type": "code",
   "execution_count": 44,
   "metadata": {
    "collapsed": false,
    "deletable": true,
    "editable": true
   },
   "outputs": [],
   "source": [
    "plot_2d_embedding_in_grid_greedy_way(tsne_small, image_files, big_dim=2500, small_dim=200, save_file='tsne_1.png');"
   ]
  },
  {
   "cell_type": "code",
   "execution_count": 53,
   "metadata": {
    "collapsed": false,
    "deletable": true,
    "editable": true,
    "scrolled": true
   },
   "outputs": [],
   "source": [
    "# LIN try your implementation here:\n",
    "plot_2d_embedding_in_grid_forceful(tsne_small, image_files, big_dim=2500, small_dim=200, save_file='tsne_test.png');"
   ]
  },
  {
   "cell_type": "code",
   "execution_count": 49,
   "metadata": {
    "collapsed": false,
    "deletable": true,
    "editable": true
   },
   "outputs": [
    {
     "data": {
      "image/png": "[encoded data removed]",
      "text/plain": [
       "<IPython.core.display.Image object>"
      ]
     },
     "metadata": {},
     "output_type": "display_data"
    },
    {
     "name": "stdout",
     "output_type": "stream",
     "text": [
      "/orions4-zfs/projects/lins2/Panos_Space/DATA/Point_Clouds/Partial_PCs/Angela_synthetic/2048/images/02691156.3db61220251b3c9de719b5362fe06bbb.__5__.png\n"
     ]
    }
   ],
   "source": [
    "from IPython.display import Image,display\n",
    "display(Image(image_files[1]))\n",
    "print(image_files[3])\n",
    "plt.show(image_files[0])"
   ]
  },
  {
   "cell_type": "code",
   "execution_count": null,
   "metadata": {
    "collapsed": true
   },
   "outputs": [],
   "source": []
  },
  {
   "cell_type": "code",
   "execution_count": null,
   "metadata": {
    "collapsed": true
   },
   "outputs": [],
   "source": []
  }
 ],
 "metadata": {
  "kernelspec": {
   "display_name": "Python 2",
   "language": "python",
   "name": "python2"
  },
  "language_info": {
   "codemirror_mode": {
    "name": "ipython",
    "version": 2
   },
   "file_extension": ".py",
   "mimetype": "text/x-python",
   "name": "python",
   "nbconvert_exporter": "python",
   "pygments_lexer": "ipython2",
   "version": "2.7.6"
  }
 },
 "nbformat": 4,
 "nbformat_minor": 2
}
