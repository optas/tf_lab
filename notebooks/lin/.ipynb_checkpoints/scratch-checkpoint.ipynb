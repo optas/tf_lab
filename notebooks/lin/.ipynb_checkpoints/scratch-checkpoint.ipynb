{
 "cells": [
  {
   "cell_type": "code",
   "execution_count": 1,
   "metadata": {
    "collapsed": false
   },
   "outputs": [],
   "source": [
    "def set_visible_GPUs(accessible=[0]):\n",
    "    os.environ[\"CUDA_DEVICE_ORDER\"] = \"PCI_BUS_ID\"   # See issue #152 stack-overflow.\n",
    "    accessible = '\"' + ','.join(str(e) for e in accessible) + '\"'\n",
    "    os.environ[\"CUDA_VISIBLE_DEVICES\"] = accessible\n",
    "\n",
    "\n",
    "set_visible_GPUs([1])"
   ]
  },
  {
   "cell_type": "code",
   "execution_count": null,
   "metadata": {
    "collapsed": true
   },
   "outputs": [],
   "source": []
  },
  {
   "cell_type": "code",
   "execution_count": 2,
   "metadata": {
    "collapsed": true
   },
   "outputs": [],
   "source": []
  },
  {
   "cell_type": "code",
   "execution_count": 3,
   "metadata": {
    "collapsed": false
   },
   "outputs": [
    {
     "name": "stdout",
     "output_type": "stream",
     "text": [
      "Filling queue with 20000 CIFAR images before starting to train. This will take a few minutes.\n"
     ]
    }
   ],
   "source": []
  },
  {
   "cell_type": "code",
   "execution_count": 4,
   "metadata": {
    "collapsed": false
   },
   "outputs": [],
   "source": []
  },
  {
   "cell_type": "code",
   "execution_count": 5,
   "metadata": {
    "collapsed": false
   },
   "outputs": [
    {
     "name": "stdout",
     "output_type": "stream",
     "text": [
      "Filling queue with 20000 CIFAR images before starting to train. This will take a few minutes.\n"
     ]
    }
   ],
   "source": []
  },
  {
   "cell_type": "code",
   "execution_count": 7,
   "metadata": {
    "collapsed": false
   },
   "outputs": [
    {
     "name": "stdout",
     "output_type": "stream",
     "text": [
      "[-4.82317972  7.56947613  2.45779705 -1.21228302  5.42072678 -5.22100878\n",
      " -1.47143781  5.10664082  4.20103455 -0.52912915 -3.39429331  1.91564465\n",
      "  1.12573886 -1.36975384 -2.57543731  3.38702774 -1.90229058 -7.67551136\n",
      "  0.73936599 -1.94913518  3.53006053  0.15869325  5.00703335 -0.71717119\n",
      "  4.98837757  0.75052369  1.19316506 -1.38610315 -2.14804769 -0.78406906]\n",
      "[-4.82317972  7.56947613  2.45779705 -1.21228302  5.42072678 -5.22100878\n",
      " -1.47143781  5.10664082  4.20103455 -0.52912915 -3.39429331  1.91564465\n",
      "  1.12573886 -1.36975384 -2.57543731  3.38702774 -1.90229058 -7.67551136\n",
      "  0.73936599 -1.94913518  3.53006053  0.15869325  5.00703335 -0.71717119\n",
      "  4.98837757  0.75052369  1.19316506 -1.38610315 -2.14804769 -0.78406906]\n"
     ]
    }
   ],
   "source": []
  }
 ],
 "metadata": {
  "kernelspec": {
   "display_name": "Python 2",
   "language": "python",
   "name": "python2"
  },
  "language_info": {
   "codemirror_mode": {
    "name": "ipython",
    "version": 2
   },
   "file_extension": ".py",
   "mimetype": "text/x-python",
   "name": "python",
   "nbconvert_exporter": "python",
   "pygments_lexer": "ipython2",
   "version": "2.7.6"
  }
 },
 "nbformat": 4,
 "nbformat_minor": 1
}
