{
 "cells": [
  {
   "cell_type": "code",
   "execution_count": 1,
   "metadata": {
    "collapsed": false,
    "deletable": true,
    "editable": true
   },
   "outputs": [
    {
     "name": "stdout",
     "output_type": "stream",
     "text": [
      "Picking GPU 0\n"
     ]
    }
   ],
   "source": [
    "from general_tools.notebook import gpu_utils\n",
    "GPU = 0\n",
    "gpu_utils.setup_one_gpu(GPU)"
   ]
  },
  {
   "cell_type": "code",
   "execution_count": 13,
   "metadata": {
    "collapsed": false,
    "deletable": true,
    "editable": true
   },
   "outputs": [],
   "source": [
    "import sys\n",
    "import time\n",
    "import numpy as np\n",
    "import os.path as osp\n",
    "import tensorflow as tf\n",
    "import matplotlib.pyplot as plt\n",
    "from scipy.stats import hmean\n",
    "from sklearn.manifold import TSNE\n",
    "\n",
    "from general_tools.notebook.tf import reset_tf_graph\n",
    "\n",
    "import tf_lab.point_clouds.in_out as pio\n",
    "\n",
    "from tf_lab.point_clouds.in_out import load_point_clouds_from_filenames, PointCloudDataSet\n",
    "from tf_lab.point_clouds.point_net_ae import PointNetAutoEncoder\n",
    "from tf_lab.point_clouds.autoencoder import Configuration as Conf\n",
    "\n",
    "from tf_lab.in_out.basics import read_saved_epochs\n",
    "                                                  \n",
    "from general_tools.in_out.basics import create_dir, delete_files_in_directory, files_in_subdirs\n",
    "\n",
    "from geo_tool import Point_Cloud\n",
    "\n",
    "from tf_lab.data_sets.model_net import pc_loader, classes_to_integers\n",
    "from tf_lab.nips.helper import center_pclouds_in_unit_sphere, average_per_class, zero_mean_half_sphere\n",
    "\n",
    "from sklearn.svm import LinearSVC"
   ]
  },
  {
   "cell_type": "code",
   "execution_count": 3,
   "metadata": {
    "collapsed": false,
    "deletable": true,
    "editable": true
   },
   "outputs": [],
   "source": [
    "%load_ext autoreload\n",
    "%autoreload 2\n",
    "%matplotlib inline"
   ]
  },
  {
   "cell_type": "code",
   "execution_count": 24,
   "metadata": {
    "collapsed": false,
    "deletable": true,
    "editable": true
   },
   "outputs": [],
   "source": [
    "n_pc_samples = 2048\n",
    "put_in_usphere = True\n",
    "model_net = '40'\n",
    "top_data_dir = '/orions4-zfs/projects/optas/DATA/'\n",
    "\n",
    "# experiment_name ='all_snc_rotated_conv_arch_2048pts_chamfer'\n",
    "# experiment_name ='all_snc_rotated_conv_arch_2048pts_emd'\n",
    "# experiment_name ='wu_classes_rotated_convolutional_arch_2048pts_chamfer'\n",
    "# experiment_name ='wu_classes_rotated_convolutional_arch_2048pts_emd'\n",
    "\n",
    "experiment_name = '1_all_snc_rotated_mlp_arch_with_bnorm_2048pts_chamfer'\n",
    "\n",
    "# middle_dir = 'OUT/nips/nn_models/vanilla_ae/'\n",
    "middle_dir = 'OUT/iclr/nn_models/all_snc'"
   ]
  },
  {
   "cell_type": "code",
   "execution_count": 25,
   "metadata": {
    "collapsed": false,
    "deletable": true,
    "editable": true
   },
   "outputs": [
    {
     "name": "stdout",
     "output_type": "stream",
     "text": [
      "              allow_gpu_growth: False\n",
      "                    batch_size: 50\n",
      "                 consistent_io: None\n",
      "                         debug: False\n",
      "                       decoder: decoder_with_fc_only\n",
      "                  decoder_args: {'b_norm': True, 'layer_sizes': [512, 1024, 6144]}\n",
      "                       encoder: encoder_with_convs_and_symmetry\n",
      "                  encoder_args: {'filter_sizes': [1, 1, 1, 1, 1], 'strides': [1, 1, 1, 1, 1], 'n_filters': [64, 128, 128, 256, 512], 'dropout_prob': [0, 0, 0, 0, 0.5], 'b_norm': True}\n",
      "               experiment_name: 1_all_snc_rotated_mlp_arch_with_bnorm_2048pts_chamfer\n",
      "                 gauss_augment: None\n",
      "                  is_denoising: False\n",
      "               latent_vs_recon: 1.0\n",
      "                 learning_rate: 0.0005\n",
      "                          loss: chamfer\n",
      "             loss_display_step: 1\n",
      "                       n_input: [2048, 3]\n",
      "                      n_output: [2048, 3]\n",
      "                           n_z: None\n",
      "             saver_max_to_keep: None\n",
      "                    saver_step: 10\n",
      "                     train_dir: /orions4-zfs/projects/optas/DATA/OUT/iclr/nn_models/all_snc/1_all_snc_rotated_mlp_arch_with_bnorm_2048pts_chamfer\n",
      "               training_epochs: 2000\n",
      "                      z_rotate: True\n",
      "\n"
     ]
    }
   ],
   "source": [
    "train_dir = osp.join(top_data_dir, middle_dir, experiment_name)\n",
    "\n",
    "conf = Conf.load(osp.join(train_dir, 'configuration'))\n",
    "\n",
    "if conf.train_dir != train_dir: # added to address moving training-folder to other location\n",
    "    conf.train_dir = train_dir\n",
    "    conf.save(osp.join(conf.train_dir, 'configuration'))\n",
    "\n",
    "print conf\n",
    "conf.n_output = conf.n_input"
   ]
  },
  {
   "cell_type": "code",
   "execution_count": 26,
   "metadata": {
    "collapsed": false,
    "deletable": true,
    "editable": true
   },
   "outputs": [
    {
     "name": "stdout",
     "output_type": "stream",
     "text": [
      "Model restored in epoch 980.\n"
     ]
    }
   ],
   "source": [
    "reset_tf_graph()\n",
    "ae = PointNetAutoEncoder(experiment_name, conf)\n",
    "saved_epochs = read_saved_epochs(conf.train_dir)\n",
    "last_epoch = saved_epochs[-1]\n",
    "ae.restore_model(conf.train_dir, last_epoch, verbose=True)"
   ]
  },
  {
   "cell_type": "code",
   "execution_count": 27,
   "metadata": {
    "collapsed": false,
    "deletable": true,
    "editable": true
   },
   "outputs": [],
   "source": [
    "model_net_dir = '/orions4-zfs/projects/optas/DATA/Point_Clouds/Model_Net_' + model_net +  '/from_manifold/'\n",
    "model_net_dir = osp.join(model_net_dir, str(n_pc_samples))\n",
    "\n",
    "search_pattern = '(.*)train(.*)\\.ply$'\n",
    "train_pc_files = [f for f in files_in_subdirs(model_net_dir, search_pattern)]\n",
    "\n",
    "search_pattern = '(.*)test(.*)\\.ply$'\n",
    "test_pc_files = [f for f in files_in_subdirs(model_net_dir, search_pattern)]"
   ]
  },
  {
   "cell_type": "code",
   "execution_count": 28,
   "metadata": {
    "collapsed": false,
    "deletable": true,
    "editable": true
   },
   "outputs": [
    {
     "name": "stdout",
     "output_type": "stream",
     "text": [
      "9841 pclouds were loaded. They belong in 40 shape-classes.\n",
      "2467 pclouds were loaded. They belong in 40 shape-classes.\n"
     ]
    }
   ],
   "source": [
    "verbose = True\n",
    "n_threads = 20\n",
    "pc, model_names, labels = load_point_clouds_from_filenames(train_pc_files, n_threads, pc_loader, verbose)\n",
    "\n",
    "if put_in_usphere:\n",
    "#     pc = center_pclouds_in_unit_sphere(pc)\n",
    "    pc = zero_mean_half_sphere(pc)\n",
    "    \n",
    "train_data = PointCloudDataSet(pc, labels=labels)\n",
    "\n",
    "pc, model_names, labels = load_point_clouds_from_filenames(test_pc_files, n_threads, pc_loader, verbose)\n",
    "\n",
    "if put_in_usphere:\n",
    "#     pc = center_pclouds_in_unit_sphere(pc)\n",
    "    pc = zero_mean_half_sphere(pc)\n",
    "    \n",
    "test_data = PointCloudDataSet(pc, labels=labels)"
   ]
  },
  {
   "cell_type": "code",
   "execution_count": 29,
   "metadata": {
    "collapsed": false,
    "deletable": true,
    "editable": true
   },
   "outputs": [],
   "source": [
    "train_feed, train_latent, train_classes = ae.embedding_at_tensor(train_data, conf, tensor_name='bottleneck')\n",
    "cids = classes_to_integers(int(model_net), train_classes)[1]\n",
    "\n",
    "test_feed, test_latent, test_classes = ae.embedding_at_tensor(test_data, conf, tensor_name='bottleneck')\n",
    "cids_ = classes_to_integers(int(model_net), test_classes)[1]"
   ]
  },
  {
   "cell_type": "code",
   "execution_count": null,
   "metadata": {
    "collapsed": false,
    "deletable": true,
    "editable": true
   },
   "outputs": [
    {
     "name": "stdout",
     "output_type": "stream",
     "text": [
      "0.873935954601\n",
      "0.833395654835\n"
     ]
    }
   ],
   "source": [
    "lsvc = LinearSVC(C=0.7, loss='squared_hinge', intercept_scaling=1.0, dual=False)\n",
    "lsvc.fit(train_latent, cids)\n",
    "print lsvc.score(test_latent, cids_)\n",
    "print average_per_class(lsvc, test_latent, cids_)"
   ]
  },
  {
   "cell_type": "code",
   "execution_count": null,
   "metadata": {
    "collapsed": false,
    "deletable": true,
    "editable": true
   },
   "outputs": [
    {
     "name": "stdout",
     "output_type": "stream",
     "text": [
      "0.1 0.5 False squared_hinge\n",
      "0.836517747858\n",
      "0.1 0.5 True hinge\n",
      "0.825042839657\n",
      "0.1 0.5 True squared_hinge\n",
      "0.82216126071\n",
      "0.1 1 False squared_hinge\n",
      "0.836227050184\n",
      "0.1 1 True hinge\n",
      "0.825364443084\n",
      "0.1 1 True squared_hinge\n",
      "0.828139840881\n",
      "0.1 2 False squared_hinge\n",
      "0.836267747858\n"
     ]
    }
   ],
   "source": [
    "c_space = [0.1, 0.2, 0.3, 0.4, 0.5, 0.6, 0.7, 0.8, 0.9, 1.0]\n",
    "intercept_scaling_space = [0.5, 1, 2, 3, 4]\n",
    "dual_space = [False, True]\n",
    "loss_space = ['hinge', 'squared_hinge']\n",
    "\n",
    "for c in c_space:\n",
    "    for intercept in intercept_scaling_space:\n",
    "        for dual in dual_space:\n",
    "            for loss in loss_space:\n",
    "                try:\n",
    "                    lsvc = LinearSVC(C=c, loss=loss, intercept_scaling=intercept, dual=dual)\n",
    "                    lsvc.fit(train_latent, cids)\n",
    "                    print c, intercept, dual, loss\n",
    "                    print average_per_class(lsvc, test_latent, cids_)                \n",
    "                except:\n",
    "                    continue"
   ]
  },
  {
   "cell_type": "code",
   "execution_count": null,
   "metadata": {
    "collapsed": true,
    "deletable": true,
    "editable": true
   },
   "outputs": [],
   "source": [
    "# With WU 7 Classes:\n",
    "\n",
    "# M10, CD, 2K epochs\n",
    "# 0.4 4 True hinge\n",
    "# 0.95176744186\n",
    "\n",
    "# M40, CD, 2K epochs\n",
    "# 1.0 1 True hinge\n",
    "# 0.84410495716\n",
    "\n",
    "# M10, EMD, ~2.5K epochs\n",
    "# about 0.94\n",
    "\n",
    "# M40, EMD, ~2.5K epochs\n",
    "# about 0.83"
   ]
  },
  {
   "cell_type": "code",
   "execution_count": null,
   "metadata": {
    "collapsed": true,
    "deletable": true,
    "editable": true
   },
   "outputs": [],
   "source": [
    "\n",
    "# USING ALL ShapeNetCore DATA : ~57K models.\n",
    "# Training at (max) 2K epochs.\n",
    "\n",
    "# EMD, 2K, model_net_40\n",
    "# 1.0 3 False squared_hinge\n",
    "# 0.844814259486\n",
    "# 1.0 3 True squared_hinge\n",
    "# 0.844814259486\n",
    "\n",
    "# EMD, 2K, model_net_10\n",
    "# 0.4 2 True hinge\n",
    "# 0.953279069767\n",
    "\n",
    "\n",
    "# Chamfer, 2K model_net_40\n",
    "# 0.3 4 False squared_hinge\n",
    "# 0.856074051408\n",
    "# 0.3 4 True squared_hinge\n",
    "# 0.856074051408\n",
    "# 0.6 1 False squared_hinge\n",
    "# 0.856264075887\n",
    "# 0.3 4 False squared_hinge\n",
    "# 0.856074051408\n",
    "# 0.6 1 False squared_hinge\n",
    "# 0.856264075887\n",
    "# 0.6 1 True squared_hinge\n",
    "# 0.856264075887\n",
    "# 0.7 1 False squared_hinge\n",
    "# 0.856764075887\n",
    "\n",
    "# Chamfer, 2K model_net_10\n",
    "# 0.9 4 True hinge\n",
    "# 0.950790697674\n",
    "# 0.950790697674\n",
    "# 0.8 0.5 False squared_hinge\n",
    "\n",
    "# 1.0 4 True hinge\n",
    "# 0.950790697674\n",
    "# 1.0 3 True hinge\n",
    "# 0.950790697674\n",
    "# 0.9 4 True hinge\n",
    "# 0.950790697674\n",
    "\n",
    "# 0.7 4 True hinge\n",
    "# 0.950790697674\n",
    "\n",
    "\n"
   ]
  },
  {
   "cell_type": "code",
   "execution_count": null,
   "metadata": {
    "collapsed": true
   },
   "outputs": [],
   "source": [
    "# New stuff for ICLR\n",
    "# 1.  Chamfer\n",
    "# encoder_args: {'filter_sizes': [1, 1, 1, 1, 1], 'strides': [1, 1, 1, 1, 1], 'n_filters': [64, 128, 128, 256, 512], 'dropout_prob': [0, 0, 0, 0, 0.5], 'b_norm': False}\n",
    "# decoder_args: {'b_norm': False, 'layer_sizes': [512, 1024, 6144]}\n",
    "# -> @ 1470 epochs of training: best was on model-net40: 60\n",
    "# 1.0 3 False squared_hinge 0.600047735618"
   ]
  }
 ],
 "metadata": {
  "kernelspec": {
   "display_name": "Python 2",
   "language": "python",
   "name": "python2"
  },
  "language_info": {
   "codemirror_mode": {
    "name": "ipython",
    "version": 2
   },
   "file_extension": ".py",
   "mimetype": "text/x-python",
   "name": "python",
   "nbconvert_exporter": "python",
   "pygments_lexer": "ipython2",
   "version": "2.7.6"
  }
 },
 "nbformat": 4,
 "nbformat_minor": 2
}
