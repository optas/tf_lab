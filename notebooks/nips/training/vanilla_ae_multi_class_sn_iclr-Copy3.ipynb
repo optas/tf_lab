{
 "cells": [
  {
   "cell_type": "code",
   "execution_count": 1,
   "metadata": {
    "collapsed": false,
    "deletable": true,
    "editable": true
   },
   "outputs": [
    {
     "name": "stdout",
     "output_type": "stream",
     "text": [
      "Picking GPU 3\n"
     ]
    }
   ],
   "source": [
    "from general_tools.notebook.gpu_utils import setup_one_gpu\n",
    "GPU = 3\n",
    "setup_one_gpu(GPU)"
   ]
  },
  {
   "cell_type": "code",
   "execution_count": 2,
   "metadata": {
    "collapsed": false,
    "deletable": true,
    "editable": true
   },
   "outputs": [],
   "source": [
    "import sys\n",
    "import time\n",
    "import numpy as np\n",
    "import os.path as osp\n",
    "import tensorflow as tf\n",
    "import matplotlib.pyplot as plt\n",
    "\n",
    "from general_tools.notebook.tf import reset_tf_graph\n",
    "from general_tools.in_out import create_dir\n",
    "from general_tools.in_out.basics import create_dir, delete_files_in_directory, files_in_subdirs\n",
    "\n",
    "from geo_tool import Point_Cloud\n",
    "\n",
    "from tf_lab.in_out.basics import Data_Splitter, read_saved_epochs\n",
    "from tf_lab.point_clouds.ae_templates import conv_architecture_ala_nips_17, default_train_params_ala_nips_17\n",
    "from tf_lab.point_clouds.encoders_decoders import encoder_with_convs_and_symmetry, decoder_with_fc_only\n",
    "from tf_lab.point_clouds.point_net_ae import PointNetAutoEncoder\n",
    "from tf_lab.point_clouds.autoencoder import Configuration as Conf\n",
    "from tf_lab.point_clouds.in_out import load_point_clouds_from_filenames, PointCloudDataSet\n",
    "from tf_lab.data_sets.shape_net import pc_loader as snc_loader\n",
    "from tf_lab.data_sets.shape_net import snc_category_to_synth_id\n",
    "\n",
    "from pc_completions.evaluation import basic_comletion_measures"
   ]
  },
  {
   "cell_type": "code",
   "execution_count": 3,
   "metadata": {
    "collapsed": false,
    "deletable": true,
    "editable": true
   },
   "outputs": [],
   "source": [
    "%load_ext autoreload\n",
    "%autoreload 2\n",
    "%matplotlib inline"
   ]
  },
  {
   "cell_type": "code",
   "execution_count": 4,
   "metadata": {
    "collapsed": true,
    "deletable": true,
    "editable": true
   },
   "outputs": [],
   "source": [
    "n_pc_samples = 2048\n",
    "do_training = True\n",
    "first_time_running = False\n",
    "load_model = True\n",
    "seed = 42\n",
    "max_training_epochs = 2000\n",
    "loss = 'chamfer'\n",
    "z_rotate = True\n",
    "experiment_name = '1_all_snc_rotated_mlp_arch_no_bnorm_' + str(n_pc_samples) +  'pts_' + loss"
   ]
  },
  {
   "cell_type": "code",
   "execution_count": 5,
   "metadata": {
    "collapsed": false,
    "deletable": true,
    "editable": true
   },
   "outputs": [
    {
     "data": {
      "text/plain": [
       "'/orions4-zfs/projects/optas/DATA/OUT/iclr/nn_models/all_snc/1_all_snc_rotated_mlp_arch_no_bnorm_2048pts_chamfer'"
      ]
     },
     "execution_count": 5,
     "metadata": {},
     "output_type": "execute_result"
    }
   ],
   "source": [
    "top_data_dir = '/orions4-zfs/projects/optas/DATA/'\n",
    "full_pclouds_path = osp.join(top_data_dir, 'Point_Clouds/Shape_Net/Core/from_manifold_meshes/centered/', str(n_pc_samples))\n",
    "train_dir = osp.join(top_data_dir, 'OUT/iclr/nn_models/all_snc', experiment_name)\n",
    "create_dir(train_dir)"
   ]
  },
  {
   "cell_type": "code",
   "execution_count": 6,
   "metadata": {
    "collapsed": false,
    "deletable": true,
    "editable": true,
    "scrolled": true
   },
   "outputs": [
    {
     "name": "stderr",
     "output_type": "stream",
     "text": [
      "/orions4-zfs/projects/optas/Git_Repos/tf_lab/point_clouds/in_out.py:38: UserWarning: Point clouds with the same model name were loaded.\n",
      "  warnings.warn('Point clouds with the same model name were loaded.')\n"
     ]
    },
    {
     "name": "stdout",
     "output_type": "stream",
     "text": [
      "57449 pclouds were loaded. They belong in 57 shape-classes.\n"
     ]
    }
   ],
   "source": [
    "n_threads = 40\n",
    "verbose = True\n",
    "full_file_names = [f for f in files_in_subdirs(full_pclouds_path, '.ply')]\n",
    "pclouds, model_names, syn_ids = load_point_clouds_from_filenames(full_file_names, n_threads, snc_loader, verbose)\n",
    "model_unames = model_names + '.' + syn_ids\n",
    "train_data = PointCloudDataSet(pclouds, labels=model_unames)"
   ]
  },
  {
   "cell_type": "code",
   "execution_count": 10,
   "metadata": {
    "collapsed": false,
    "deletable": true,
    "editable": true
   },
   "outputs": [],
   "source": [
    "n_input = [n_pc_samples, 3]\n",
    "\n",
    "encoder_args = {'n_filters': [64, 128, 128, 256, 512],\n",
    "                'filter_sizes': [1, 1, 1, 1, 1],\n",
    "                'strides': [1, 1, 1, 1, 1],\n",
    "                'b_norm': False,\n",
    "                'dropout_prob': None\n",
    "               }\n",
    "\n",
    "decoder_args = {'layer_sizes': [512, 1024, np.prod(n_input)],\n",
    "                'b_norm': False\n",
    "               }\n",
    "\n",
    "if load_model:\n",
    "    conf = Conf.load(osp.join(train_dir, 'configuration'))\n",
    "    print conf\n",
    "    \n",
    "else:    \n",
    "    conf = Conf(\n",
    "                n_input = n_input,\n",
    "                training_epochs = max_training_epochs,\n",
    "                batch_size = 50,\n",
    "                loss = loss,\n",
    "                denoising = False,\n",
    "                train_dir = train_dir,\n",
    "                loss_display_step = 1,\n",
    "                saver_step = 10,\n",
    "                learning_rate = 0.0005,\n",
    "                z_rotate = z_rotate,\n",
    "                encoder = encoder_with_convs_and_symmetry,\n",
    "                encoder_args = encoder_args,\n",
    "                decoder = decoder_with_fc_only,\n",
    "                decoder_args = decoder_args,            \n",
    "               )\n",
    "    conf.allow_gpu_growth = False\n",
    "    conf.experiment_name = experiment_name\n",
    "    conf.save(osp.join(conf.train_dir, 'configuration'))"
   ]
  },
  {
   "cell_type": "code",
   "execution_count": null,
   "metadata": {
    "collapsed": false
   },
   "outputs": [],
   "source": [
    "reset_tf_graph()\n",
    "ae = PointNetAutoEncoder(experiment_name, conf)\n",
    "\n",
    "if load_model:\n",
    "    saved_epochs = read_saved_epochs(conf.train_dir)\n",
    "    last_epoch = saved_epochs[-1]\n",
    "    ae.restore_model(conf.train_dir, last_epoch, verbose=True)"
   ]
  },
  {
   "cell_type": "code",
   "execution_count": null,
   "metadata": {
    "collapsed": false,
    "deletable": true,
    "editable": true
   },
   "outputs": [
    {
     "name": "stdout",
     "output_type": "stream",
     "text": [
      "('Epoch:', '0001', 'training time (minutes)=', '2.2906', 'loss=', '0.002648019')\n",
      "INFO:tensorflow:/orions4-zfs/projects/optas/DATA/OUT/iclr/nn_models/all_snc/1_all_snc_rotated_mlp_arch_no_bnorm_2048pts_chamfer/models.ckpt-1 is not in all_model_checkpoint_paths. Manually adding it.\n",
      "('Epoch:', '0002', 'training time (minutes)=', '2.2966', 'loss=', '0.001188365')\n",
      "('Epoch:', '0003', 'training time (minutes)=', '2.2893', 'loss=', '0.001004924')\n",
      "('Epoch:', '0004', 'training time (minutes)=', '2.2912', 'loss=', '0.000912119')\n",
      "('Epoch:', '0005', 'training time (minutes)=', '2.2943', 'loss=', '0.000843405')\n",
      "('Epoch:', '0006', 'training time (minutes)=', '2.2809', 'loss=', '0.000841045')\n",
      "('Epoch:', '0007', 'training time (minutes)=', '2.2877', 'loss=', '0.000763917')\n",
      "('Epoch:', '0008', 'training time (minutes)=', '2.2857', 'loss=', '0.000752470')\n",
      "('Epoch:', '0009', 'training time (minutes)=', '2.2946', 'loss=', '0.000722025')\n",
      "('Epoch:', '0010', 'training time (minutes)=', '2.2839', 'loss=', '0.000699478')\n",
      "INFO:tensorflow:/orions4-zfs/projects/optas/DATA/OUT/iclr/nn_models/all_snc/1_all_snc_rotated_mlp_arch_no_bnorm_2048pts_chamfer/models.ckpt-10 is not in all_model_checkpoint_paths. Manually adding it.\n",
      "('Epoch:', '0011', 'training time (minutes)=', '2.2875', 'loss=', '0.000682993')\n",
      "('Epoch:', '0012', 'training time (minutes)=', '2.2846', 'loss=', '0.000674709')\n",
      "('Epoch:', '0013', 'training time (minutes)=', '2.2846', 'loss=', '0.000657857')\n",
      "('Epoch:', '0014', 'training time (minutes)=', '2.2931', 'loss=', '0.000665897')\n",
      "('Epoch:', '0015', 'training time (minutes)=', '2.3023', 'loss=', '0.000631152')\n",
      "('Epoch:', '0016', 'training time (minutes)=', '2.2779', 'loss=', '0.000639110')\n",
      "('Epoch:', '0017', 'training time (minutes)=', '2.2883', 'loss=', '0.000622038')\n",
      "('Epoch:', '0018', 'training time (minutes)=', '2.2876', 'loss=', '0.000611856')\n",
      "('Epoch:', '0019', 'training time (minutes)=', '2.2873', 'loss=', '0.000598489')\n",
      "('Epoch:', '0020', 'training time (minutes)=', '2.2903', 'loss=', '0.000608569')\n",
      "INFO:tensorflow:/orions4-zfs/projects/optas/DATA/OUT/iclr/nn_models/all_snc/1_all_snc_rotated_mlp_arch_no_bnorm_2048pts_chamfer/models.ckpt-20 is not in all_model_checkpoint_paths. Manually adding it.\n",
      "('Epoch:', '0021', 'training time (minutes)=', '2.2806', 'loss=', '0.000593250')\n",
      "('Epoch:', '0022', 'training time (minutes)=', '2.2920', 'loss=', '0.000586060')\n",
      "('Epoch:', '0023', 'training time (minutes)=', '2.2662', 'loss=', '0.000582318')\n",
      "('Epoch:', '0024', 'training time (minutes)=', '3.3574', 'loss=', '0.000580839')\n",
      "('Epoch:', '0025', 'training time (minutes)=', '3.3461', 'loss=', '0.000579705')\n",
      "('Epoch:', '0026', 'training time (minutes)=', '3.6702', 'loss=', '0.000559795')\n",
      "('Epoch:', '0027', 'training time (minutes)=', '2.7251', 'loss=', '0.000586937')\n",
      "('Epoch:', '0028', 'training time (minutes)=', '2.2804', 'loss=', '0.000552320')\n",
      "('Epoch:', '0029', 'training time (minutes)=', '3.9902', 'loss=', '0.000549126')\n",
      "('Epoch:', '0030', 'training time (minutes)=', '2.5797', 'loss=', '0.000547450')\n",
      "INFO:tensorflow:/orions4-zfs/projects/optas/DATA/OUT/iclr/nn_models/all_snc/1_all_snc_rotated_mlp_arch_no_bnorm_2048pts_chamfer/models.ckpt-30 is not in all_model_checkpoint_paths. Manually adding it.\n",
      "('Epoch:', '0031', 'training time (minutes)=', '2.2757', 'loss=', '0.000548560')\n",
      "('Epoch:', '0032', 'training time (minutes)=', '2.2723', 'loss=', '0.000548016')\n",
      "('Epoch:', '0033', 'training time (minutes)=', '2.2767', 'loss=', '0.000546440')\n",
      "('Epoch:', '0034', 'training time (minutes)=', '2.2795', 'loss=', '0.000541045')\n",
      "('Epoch:', '0035', 'training time (minutes)=', '3.6762', 'loss=', '0.000545044')\n",
      "('Epoch:', '0036', 'training time (minutes)=', '3.4366', 'loss=', '0.000541229')\n",
      "('Epoch:', '0037', 'training time (minutes)=', '3.1503', 'loss=', '0.000529922')\n",
      "('Epoch:', '0038', 'training time (minutes)=', '3.4028', 'loss=', '0.000538268')\n",
      "('Epoch:', '0039', 'training time (minutes)=', '2.8863', 'loss=', '0.000525673')\n",
      "('Epoch:', '0040', 'training time (minutes)=', '3.1055', 'loss=', '0.000542861')\n",
      "INFO:tensorflow:/orions4-zfs/projects/optas/DATA/OUT/iclr/nn_models/all_snc/1_all_snc_rotated_mlp_arch_no_bnorm_2048pts_chamfer/models.ckpt-40 is not in all_model_checkpoint_paths. Manually adding it.\n",
      "('Epoch:', '0041', 'training time (minutes)=', '3.5831', 'loss=', '0.000523361')\n",
      "('Epoch:', '0042', 'training time (minutes)=', '3.0167', 'loss=', '0.000528494')\n",
      "('Epoch:', '0043', 'training time (minutes)=', '2.9630', 'loss=', '0.000521756')\n",
      "('Epoch:', '0044', 'training time (minutes)=', '3.0076', 'loss=', '0.000515440')\n",
      "('Epoch:', '0045', 'training time (minutes)=', '3.1266', 'loss=', '0.000516127')\n",
      "('Epoch:', '0046', 'training time (minutes)=', '2.9181', 'loss=', '0.000520826')\n",
      "('Epoch:', '0047', 'training time (minutes)=', '2.9987', 'loss=', '0.000509383')\n",
      "('Epoch:', '0048', 'training time (minutes)=', '3.2283', 'loss=', '0.000508906')\n",
      "('Epoch:', '0049', 'training time (minutes)=', '3.4194', 'loss=', '0.000512496')\n",
      "('Epoch:', '0050', 'training time (minutes)=', '2.2676', 'loss=', '0.000498306')\n",
      "INFO:tensorflow:/orions4-zfs/projects/optas/DATA/OUT/iclr/nn_models/all_snc/1_all_snc_rotated_mlp_arch_no_bnorm_2048pts_chamfer/models.ckpt-50 is not in all_model_checkpoint_paths. Manually adding it.\n",
      "('Epoch:', '0051', 'training time (minutes)=', '2.2668', 'loss=', '0.000506248')\n",
      "('Epoch:', '0052', 'training time (minutes)=', '2.2585', 'loss=', '0.000508734')\n",
      "('Epoch:', '0053', 'training time (minutes)=', '2.2586', 'loss=', '0.000502839')\n",
      "('Epoch:', '0054', 'training time (minutes)=', '2.2596', 'loss=', '0.000505284')\n",
      "('Epoch:', '0055', 'training time (minutes)=', '2.7997', 'loss=', '0.000499033')\n",
      "('Epoch:', '0056', 'training time (minutes)=', '2.3766', 'loss=', '0.000501056')\n",
      "('Epoch:', '0057', 'training time (minutes)=', '2.2757', 'loss=', '0.000500670')\n",
      "('Epoch:', '0058', 'training time (minutes)=', '4.3215', 'loss=', '0.000485768')\n",
      "('Epoch:', '0059', 'training time (minutes)=', '2.2610', 'loss=', '0.000489271')\n",
      "('Epoch:', '0060', 'training time (minutes)=', '2.2628', 'loss=', '0.000494444')\n",
      "INFO:tensorflow:/orions4-zfs/projects/optas/DATA/OUT/iclr/nn_models/all_snc/1_all_snc_rotated_mlp_arch_no_bnorm_2048pts_chamfer/models.ckpt-60 is not in all_model_checkpoint_paths. Manually adding it.\n",
      "('Epoch:', '0061', 'training time (minutes)=', '2.2567', 'loss=', '0.000487201')\n",
      "('Epoch:', '0062', 'training time (minutes)=', '2.2550', 'loss=', '0.000488596')\n",
      "('Epoch:', '0063', 'training time (minutes)=', '2.2560', 'loss=', '0.000486243')\n",
      "('Epoch:', '0064', 'training time (minutes)=', '2.2597', 'loss=', '0.000493046')\n",
      "('Epoch:', '0065', 'training time (minutes)=', '2.2628', 'loss=', '0.000481805')\n",
      "('Epoch:', '0066', 'training time (minutes)=', '2.2617', 'loss=', '0.000489126')\n",
      "('Epoch:', '0067', 'training time (minutes)=', '2.2738', 'loss=', '0.000485785')\n",
      "('Epoch:', '0068', 'training time (minutes)=', '2.2769', 'loss=', '0.000479331')\n",
      "('Epoch:', '0069', 'training time (minutes)=', '2.2813', 'loss=', '0.000479061')\n",
      "('Epoch:', '0070', 'training time (minutes)=', '2.2792', 'loss=', '0.000483429')\n",
      "INFO:tensorflow:/orions4-zfs/projects/optas/DATA/OUT/iclr/nn_models/all_snc/1_all_snc_rotated_mlp_arch_no_bnorm_2048pts_chamfer/models.ckpt-70 is not in all_model_checkpoint_paths. Manually adding it.\n",
      "('Epoch:', '0071', 'training time (minutes)=', '2.2801', 'loss=', '0.000491889')\n",
      "('Epoch:', '0072', 'training time (minutes)=', '2.2793', 'loss=', '0.000482283')\n",
      "('Epoch:', '0073', 'training time (minutes)=', '2.2740', 'loss=', '0.000487916')\n",
      "('Epoch:', '0074', 'training time (minutes)=', '2.2787', 'loss=', '0.000476071')\n",
      "('Epoch:', '0075', 'training time (minutes)=', '2.2715', 'loss=', '0.000471516')\n",
      "('Epoch:', '0076', 'training time (minutes)=', '2.2795', 'loss=', '0.000467189')\n",
      "('Epoch:', '0077', 'training time (minutes)=', '2.2777', 'loss=', '0.000479953')\n",
      "('Epoch:', '0078', 'training time (minutes)=', '2.2775', 'loss=', '0.000472231')\n",
      "('Epoch:', '0079', 'training time (minutes)=', '2.2808', 'loss=', '0.000478236')\n",
      "('Epoch:', '0080', 'training time (minutes)=', '2.2709', 'loss=', '0.000478168')\n",
      "INFO:tensorflow:/orions4-zfs/projects/optas/DATA/OUT/iclr/nn_models/all_snc/1_all_snc_rotated_mlp_arch_no_bnorm_2048pts_chamfer/models.ckpt-80 is not in all_model_checkpoint_paths. Manually adding it.\n",
      "('Epoch:', '0081', 'training time (minutes)=', '2.2784', 'loss=', '0.000463658')\n",
      "('Epoch:', '0082', 'training time (minutes)=', '2.2727', 'loss=', '0.000472168')\n",
      "('Epoch:', '0083', 'training time (minutes)=', '2.2737', 'loss=', '0.000468030')\n",
      "('Epoch:', '0084', 'training time (minutes)=', '2.2700', 'loss=', '0.000463857')\n",
      "('Epoch:', '0085', 'training time (minutes)=', '2.2692', 'loss=', '0.000469959')\n",
      "('Epoch:', '0086', 'training time (minutes)=', '2.2797', 'loss=', '0.000469581')\n",
      "('Epoch:', '0087', 'training time (minutes)=', '2.2712', 'loss=', '0.000462741')\n",
      "('Epoch:', '0088', 'training time (minutes)=', '2.2737', 'loss=', '0.000470453')\n",
      "('Epoch:', '0089', 'training time (minutes)=', '2.2719', 'loss=', '0.000457812')\n",
      "('Epoch:', '0090', 'training time (minutes)=', '2.2718', 'loss=', '0.000461318')\n",
      "INFO:tensorflow:/orions4-zfs/projects/optas/DATA/OUT/iclr/nn_models/all_snc/1_all_snc_rotated_mlp_arch_no_bnorm_2048pts_chamfer/models.ckpt-90 is not in all_model_checkpoint_paths. Manually adding it.\n",
      "('Epoch:', '0091', 'training time (minutes)=', '2.2731', 'loss=', '0.000473392')\n",
      "('Epoch:', '0092', 'training time (minutes)=', '2.2737', 'loss=', '0.000457789')\n",
      "('Epoch:', '0093', 'training time (minutes)=', '2.2676', 'loss=', '0.000462846')\n",
      "('Epoch:', '0094', 'training time (minutes)=', '2.2704', 'loss=', '0.000457988')\n",
      "('Epoch:', '0095', 'training time (minutes)=', '2.2685', 'loss=', '0.000459853')\n",
      "('Epoch:', '0096', 'training time (minutes)=', '2.2772', 'loss=', '0.000457193')\n",
      "('Epoch:', '0097', 'training time (minutes)=', '2.2748', 'loss=', '0.000459478')\n",
      "('Epoch:', '0098', 'training time (minutes)=', '2.2761', 'loss=', '0.000462413')\n",
      "('Epoch:', '0099', 'training time (minutes)=', '2.2711', 'loss=', '0.000456450')\n",
      "('Epoch:', '0100', 'training time (minutes)=', '2.2630', 'loss=', '0.000460340')\n",
      "INFO:tensorflow:/orions4-zfs/projects/optas/DATA/OUT/iclr/nn_models/all_snc/1_all_snc_rotated_mlp_arch_no_bnorm_2048pts_chamfer/models.ckpt-100 is not in all_model_checkpoint_paths. Manually adding it.\n",
      "('Epoch:', '0101', 'training time (minutes)=', '2.2630', 'loss=', '0.000459163')\n",
      "('Epoch:', '0102', 'training time (minutes)=', '2.2568', 'loss=', '0.000461134')\n",
      "('Epoch:', '0103', 'training time (minutes)=', '2.2604', 'loss=', '0.000455928')\n",
      "('Epoch:', '0104', 'training time (minutes)=', '2.2599', 'loss=', '0.000457255')\n",
      "('Epoch:', '0105', 'training time (minutes)=', '2.2587', 'loss=', '0.000448874')\n",
      "('Epoch:', '0106', 'training time (minutes)=', '2.2643', 'loss=', '0.000447574')\n",
      "('Epoch:', '0107', 'training time (minutes)=', '2.2703', 'loss=', '0.000458697')\n",
      "('Epoch:', '0108', 'training time (minutes)=', '2.2615', 'loss=', '0.000457553')\n",
      "('Epoch:', '0109', 'training time (minutes)=', '2.2602', 'loss=', '0.000449678')\n",
      "('Epoch:', '0110', 'training time (minutes)=', '2.2544', 'loss=', '0.000451609')\n",
      "INFO:tensorflow:/orions4-zfs/projects/optas/DATA/OUT/iclr/nn_models/all_snc/1_all_snc_rotated_mlp_arch_no_bnorm_2048pts_chamfer/models.ckpt-110 is not in all_model_checkpoint_paths. Manually adding it.\n",
      "('Epoch:', '0111', 'training time (minutes)=', '2.2684', 'loss=', '0.000456800')\n",
      "('Epoch:', '0112', 'training time (minutes)=', '2.2707', 'loss=', '0.000450535')\n",
      "('Epoch:', '0113', 'training time (minutes)=', '2.2643', 'loss=', '0.000448112')\n",
      "('Epoch:', '0114', 'training time (minutes)=', '2.2659', 'loss=', '0.000451230')\n",
      "('Epoch:', '0115', 'training time (minutes)=', '2.2580', 'loss=', '0.000450536')\n",
      "('Epoch:', '0116', 'training time (minutes)=', '2.2684', 'loss=', '0.000452823')\n",
      "('Epoch:', '0117', 'training time (minutes)=', '2.2570', 'loss=', '0.000442123')\n",
      "('Epoch:', '0118', 'training time (minutes)=', '2.2406', 'loss=', '0.000450957')\n",
      "('Epoch:', '0119', 'training time (minutes)=', '2.2445', 'loss=', '0.000458374')\n",
      "('Epoch:', '0120', 'training time (minutes)=', '2.2476', 'loss=', '0.000444680')\n",
      "INFO:tensorflow:/orions4-zfs/projects/optas/DATA/OUT/iclr/nn_models/all_snc/1_all_snc_rotated_mlp_arch_no_bnorm_2048pts_chamfer/models.ckpt-120 is not in all_model_checkpoint_paths. Manually adding it.\n",
      "('Epoch:', '0121', 'training time (minutes)=', '2.2509', 'loss=', '0.000448591')\n",
      "('Epoch:', '0122', 'training time (minutes)=', '2.2480', 'loss=', '0.000441542')\n",
      "('Epoch:', '0123', 'training time (minutes)=', '2.2475', 'loss=', '0.000445475')\n",
      "('Epoch:', '0124', 'training time (minutes)=', '2.2442', 'loss=', '0.000448393')\n",
      "('Epoch:', '0125', 'training time (minutes)=', '2.2497', 'loss=', '0.000442319')\n",
      "('Epoch:', '0126', 'training time (minutes)=', '2.2539', 'loss=', '0.000457112')\n",
      "('Epoch:', '0127', 'training time (minutes)=', '2.2561', 'loss=', '0.000449481')\n",
      "('Epoch:', '0128', 'training time (minutes)=', '2.2468', 'loss=', '0.000446291')\n",
      "('Epoch:', '0129', 'training time (minutes)=', '2.2411', 'loss=', '0.000446771')\n",
      "('Epoch:', '0130', 'training time (minutes)=', '2.2445', 'loss=', '0.000445818')\n",
      "INFO:tensorflow:/orions4-zfs/projects/optas/DATA/OUT/iclr/nn_models/all_snc/1_all_snc_rotated_mlp_arch_no_bnorm_2048pts_chamfer/models.ckpt-130 is not in all_model_checkpoint_paths. Manually adding it.\n",
      "('Epoch:', '0131', 'training time (minutes)=', '2.2450', 'loss=', '0.000451154')\n",
      "('Epoch:', '0132', 'training time (minutes)=', '2.2174', 'loss=', '0.000439834')\n",
      "('Epoch:', '0133', 'training time (minutes)=', '2.2237', 'loss=', '0.000438726')\n",
      "('Epoch:', '0134', 'training time (minutes)=', '2.2154', 'loss=', '0.000442107')\n",
      "('Epoch:', '0135', 'training time (minutes)=', '2.2180', 'loss=', '0.000436170')\n",
      "('Epoch:', '0136', 'training time (minutes)=', '2.2156', 'loss=', '0.000446485')\n",
      "('Epoch:', '0137', 'training time (minutes)=', '2.2145', 'loss=', '0.000448798')\n",
      "('Epoch:', '0138', 'training time (minutes)=', '2.2200', 'loss=', '0.000443793')\n",
      "('Epoch:', '0139', 'training time (minutes)=', '2.2248', 'loss=', '0.000440080')\n",
      "('Epoch:', '0140', 'training time (minutes)=', '2.2221', 'loss=', '0.000447276')\n",
      "INFO:tensorflow:/orions4-zfs/projects/optas/DATA/OUT/iclr/nn_models/all_snc/1_all_snc_rotated_mlp_arch_no_bnorm_2048pts_chamfer/models.ckpt-140 is not in all_model_checkpoint_paths. Manually adding it.\n",
      "('Epoch:', '0141', 'training time (minutes)=', '2.2285', 'loss=', '0.000432792')\n",
      "('Epoch:', '0142', 'training time (minutes)=', '2.2293', 'loss=', '0.000441053')\n",
      "('Epoch:', '0143', 'training time (minutes)=', '2.2257', 'loss=', '0.000438556')\n",
      "('Epoch:', '0144', 'training time (minutes)=', '2.2197', 'loss=', '0.000443276')\n",
      "('Epoch:', '0145', 'training time (minutes)=', '2.2177', 'loss=', '0.000439843')\n",
      "('Epoch:', '0146', 'training time (minutes)=', '2.2236', 'loss=', '0.000430971')\n",
      "('Epoch:', '0147', 'training time (minutes)=', '2.2233', 'loss=', '0.000435653')\n",
      "('Epoch:', '0148', 'training time (minutes)=', '2.2231', 'loss=', '0.000440704')\n",
      "('Epoch:', '0149', 'training time (minutes)=', '2.2268', 'loss=', '0.000438940')\n",
      "('Epoch:', '0150', 'training time (minutes)=', '2.2219', 'loss=', '0.000440340')\n",
      "INFO:tensorflow:/orions4-zfs/projects/optas/DATA/OUT/iclr/nn_models/all_snc/1_all_snc_rotated_mlp_arch_no_bnorm_2048pts_chamfer/models.ckpt-150 is not in all_model_checkpoint_paths. Manually adding it.\n",
      "('Epoch:', '0151', 'training time (minutes)=', '2.2205', 'loss=', '0.000430809')\n",
      "('Epoch:', '0152', 'training time (minutes)=', '2.2249', 'loss=', '0.000440704')\n",
      "('Epoch:', '0153', 'training time (minutes)=', '2.2201', 'loss=', '0.000433581')\n",
      "('Epoch:', '0154', 'training time (minutes)=', '2.2185', 'loss=', '0.000442159')\n",
      "('Epoch:', '0155', 'training time (minutes)=', '2.2250', 'loss=', '0.000434241')\n",
      "('Epoch:', '0156', 'training time (minutes)=', '2.2163', 'loss=', '0.000436405')\n",
      "('Epoch:', '0157', 'training time (minutes)=', '2.2236', 'loss=', '0.000429504')\n",
      "('Epoch:', '0158', 'training time (minutes)=', '2.2206', 'loss=', '0.000432179')\n",
      "('Epoch:', '0159', 'training time (minutes)=', '2.2232', 'loss=', '0.000435806')\n",
      "('Epoch:', '0160', 'training time (minutes)=', '2.2201', 'loss=', '0.000436759')\n",
      "INFO:tensorflow:/orions4-zfs/projects/optas/DATA/OUT/iclr/nn_models/all_snc/1_all_snc_rotated_mlp_arch_no_bnorm_2048pts_chamfer/models.ckpt-160 is not in all_model_checkpoint_paths. Manually adding it.\n",
      "('Epoch:', '0161', 'training time (minutes)=', '2.2204', 'loss=', '0.000424424')\n",
      "('Epoch:', '0162', 'training time (minutes)=', '2.2201', 'loss=', '0.000430878')\n",
      "('Epoch:', '0163', 'training time (minutes)=', '2.2201', 'loss=', '0.000429431')\n",
      "('Epoch:', '0164', 'training time (minutes)=', '2.2208', 'loss=', '0.000436841')\n",
      "('Epoch:', '0165', 'training time (minutes)=', '2.2180', 'loss=', '0.000428547')\n",
      "('Epoch:', '0166', 'training time (minutes)=', '2.2171', 'loss=', '0.000430849')\n",
      "('Epoch:', '0167', 'training time (minutes)=', '2.2217', 'loss=', '0.000442018')\n",
      "('Epoch:', '0168', 'training time (minutes)=', '2.2182', 'loss=', '0.000436173')\n",
      "('Epoch:', '0169', 'training time (minutes)=', '2.2208', 'loss=', '0.000436956')\n",
      "('Epoch:', '0170', 'training time (minutes)=', '2.2232', 'loss=', '0.000435410')\n",
      "INFO:tensorflow:/orions4-zfs/projects/optas/DATA/OUT/iclr/nn_models/all_snc/1_all_snc_rotated_mlp_arch_no_bnorm_2048pts_chamfer/models.ckpt-170 is not in all_model_checkpoint_paths. Manually adding it.\n",
      "('Epoch:', '0171', 'training time (minutes)=', '2.2244', 'loss=', '0.000435901')\n",
      "('Epoch:', '0172', 'training time (minutes)=', '2.2195', 'loss=', '0.000421041')\n",
      "('Epoch:', '0173', 'training time (minutes)=', '2.2184', 'loss=', '0.000424691')\n",
      "('Epoch:', '0174', 'training time (minutes)=', '2.2141', 'loss=', '0.000432419')\n",
      "('Epoch:', '0175', 'training time (minutes)=', '2.2160', 'loss=', '0.000433624')\n",
      "('Epoch:', '0176', 'training time (minutes)=', '2.2141', 'loss=', '0.000438613')\n",
      "('Epoch:', '0177', 'training time (minutes)=', '2.2140', 'loss=', '0.000431238')\n",
      "('Epoch:', '0178', 'training time (minutes)=', '2.2189', 'loss=', '0.000430255')\n",
      "('Epoch:', '0179', 'training time (minutes)=', '2.2196', 'loss=', '0.000432280')\n",
      "('Epoch:', '0180', 'training time (minutes)=', '2.2179', 'loss=', '0.000425262')\n",
      "INFO:tensorflow:/orions4-zfs/projects/optas/DATA/OUT/iclr/nn_models/all_snc/1_all_snc_rotated_mlp_arch_no_bnorm_2048pts_chamfer/models.ckpt-180 is not in all_model_checkpoint_paths. Manually adding it.\n",
      "('Epoch:', '0181', 'training time (minutes)=', '2.2167', 'loss=', '0.000425367')\n",
      "('Epoch:', '0182', 'training time (minutes)=', '2.2117', 'loss=', '0.000429531')\n",
      "('Epoch:', '0183', 'training time (minutes)=', '2.2186', 'loss=', '0.000428354')\n",
      "('Epoch:', '0184', 'training time (minutes)=', '2.2161', 'loss=', '0.000423261')\n",
      "('Epoch:', '0185', 'training time (minutes)=', '2.2222', 'loss=', '0.000431446')\n",
      "('Epoch:', '0186', 'training time (minutes)=', '2.2171', 'loss=', '0.000429415')\n",
      "('Epoch:', '0187', 'training time (minutes)=', '2.2159', 'loss=', '0.000439540')\n",
      "('Epoch:', '0188', 'training time (minutes)=', '2.2172', 'loss=', '0.000437014')\n"
     ]
    }
   ],
   "source": [
    "if do_training:\n",
    "    buf_size = 1 # flush each line\n",
    "    fout = open(osp.join(conf.train_dir, 'train_stats.txt'), 'a', buf_size)    \n",
    "    train_stats = ae.train(train_data, conf, log_file=fout)\n",
    "    fout.close()"
   ]
  }
 ],
 "metadata": {
  "kernelspec": {
   "display_name": "Python 2",
   "language": "python",
   "name": "python2"
  },
  "language_info": {
   "codemirror_mode": {
    "name": "ipython",
    "version": 2
   },
   "file_extension": ".py",
   "mimetype": "text/x-python",
   "name": "python",
   "nbconvert_exporter": "python",
   "pygments_lexer": "ipython2",
   "version": "2.7.6"
  }
 },
 "nbformat": 4,
 "nbformat_minor": 0
}
