{
 "cells": [
  {
   "cell_type": "code",
   "execution_count": 1,
   "metadata": {
    "collapsed": false,
    "deletable": true,
    "editable": true
   },
   "outputs": [
    {
     "name": "stdout",
     "output_type": "stream",
     "text": [
      "Picking GPU 0\n"
     ]
    }
   ],
   "source": [
    "from general_tools.notebook.gpu_utils import setup_one_gpu\n",
    "GPU = 0\n",
    "setup_one_gpu(GPU)"
   ]
  },
  {
   "cell_type": "code",
   "execution_count": 2,
   "metadata": {
    "collapsed": false,
    "deletable": true,
    "editable": true
   },
   "outputs": [],
   "source": [
    "import sys\n",
    "import time\n",
    "import numpy as np\n",
    "import os.path as osp\n",
    "import tensorflow as tf\n",
    "import matplotlib.pyplot as plt\n",
    "\n",
    "from general_tools.notebook.tf import reset_tf_graph\n",
    "from general_tools.in_out import create_dir\n",
    "from general_tools.in_out.basics import create_dir, delete_files_in_directory, files_in_subdirs\n",
    "\n",
    "from geo_tool import Point_Cloud\n",
    "\n",
    "from tf_lab.in_out.basics import Data_Splitter, read_saved_epochs\n",
    "from tf_lab.point_clouds.ae_templates import conv_architecture_ala_nips_17, default_train_params_ala_nips_17\n",
    "from tf_lab.point_clouds.encoders_decoders import encoder_with_convs_and_symmetry, decoder_with_fc_only\n",
    "from tf_lab.point_clouds.point_net_ae import PointNetAutoEncoder\n",
    "from tf_lab.point_clouds.autoencoder import Configuration as Conf\n",
    "from tf_lab.point_clouds.in_out import load_point_clouds_from_filenames, PointCloudDataSet\n",
    "from tf_lab.data_sets.shape_net import pc_loader as snc_loader\n",
    "from tf_lab.data_sets.shape_net import snc_category_to_synth_id\n",
    "\n",
    "from pc_completions.evaluation import basic_comletion_measures"
   ]
  },
  {
   "cell_type": "code",
   "execution_count": 3,
   "metadata": {
    "collapsed": false,
    "deletable": true,
    "editable": true
   },
   "outputs": [],
   "source": [
    "%load_ext autoreload\n",
    "%autoreload 2\n",
    "%matplotlib inline"
   ]
  },
  {
   "cell_type": "code",
   "execution_count": 4,
   "metadata": {
    "collapsed": true,
    "deletable": true,
    "editable": true
   },
   "outputs": [],
   "source": [
    "n_pc_samples = 2048\n",
    "do_training = True\n",
    "first_time_running = False\n",
    "load_model = True\n",
    "seed = 42\n",
    "max_training_epochs = 2000\n",
    "loss = 'chamfer'\n",
    "z_rotate = True\n",
    "experiment_name = '1_all_snc_rotated_mlp_arch_with_bnorm_' + str(n_pc_samples) +  'pts_' + loss"
   ]
  },
  {
   "cell_type": "code",
   "execution_count": 5,
   "metadata": {
    "collapsed": false,
    "deletable": true,
    "editable": true
   },
   "outputs": [
    {
     "data": {
      "text/plain": [
       "'/orions4-zfs/projects/optas/DATA/OUT/iclr/nn_models/all_snc/1_all_snc_rotated_mlp_arch_with_bnorm_2048pts_chamfer'"
      ]
     },
     "execution_count": 5,
     "metadata": {},
     "output_type": "execute_result"
    }
   ],
   "source": [
    "top_data_dir = '/orions4-zfs/projects/optas/DATA/'\n",
    "full_pclouds_path = osp.join(top_data_dir, 'Point_Clouds/Shape_Net/Core/from_manifold_meshes/centered/', str(n_pc_samples))\n",
    "train_dir = osp.join(top_data_dir, 'OUT/iclr/nn_models/all_snc', experiment_name)\n",
    "create_dir(train_dir)"
   ]
  },
  {
   "cell_type": "code",
   "execution_count": 6,
   "metadata": {
    "collapsed": false,
    "deletable": true,
    "editable": true,
    "scrolled": true
   },
   "outputs": [
    {
     "name": "stderr",
     "output_type": "stream",
     "text": [
      "/orions4-zfs/projects/optas/Git_Repos/tf_lab/point_clouds/in_out.py:38: UserWarning: Point clouds with the same model name were loaded.\n",
      "  warnings.warn('Point clouds with the same model name were loaded.')\n"
     ]
    },
    {
     "name": "stdout",
     "output_type": "stream",
     "text": [
      "57449 pclouds were loaded. They belong in 57 shape-classes.\n"
     ]
    }
   ],
   "source": [
    "n_threads = 40\n",
    "verbose = True\n",
    "full_file_names = [f for f in files_in_subdirs(full_pclouds_path, '.ply')]\n",
    "pclouds, model_names, syn_ids = load_point_clouds_from_filenames(full_file_names, n_threads, snc_loader, verbose)\n",
    "model_unames = model_names + '.' + syn_ids\n",
    "train_data = PointCloudDataSet(pclouds, labels=model_unames)"
   ]
  },
  {
   "cell_type": "code",
   "execution_count": 7,
   "metadata": {
    "collapsed": false,
    "deletable": true,
    "editable": true
   },
   "outputs": [
    {
     "name": "stdout",
     "output_type": "stream",
     "text": [
      "              allow_gpu_growth: False\n",
      "                    batch_size: 50\n",
      "                 consistent_io: None\n",
      "                         debug: False\n",
      "                       decoder: decoder_with_fc_only\n",
      "                  decoder_args: {'b_norm': True, 'layer_sizes': [512, 1024, 6144]}\n",
      "                       encoder: encoder_with_convs_and_symmetry\n",
      "                  encoder_args: {'filter_sizes': [1, 1, 1, 1, 1], 'strides': [1, 1, 1, 1, 1], 'n_filters': [64, 128, 128, 256, 512], 'dropout_prob': [0, 0, 0, 0, 0.5], 'b_norm': True}\n",
      "               experiment_name: 1_all_snc_rotated_mlp_arch_with_bnorm_2048pts_chamfer\n",
      "                 gauss_augment: None\n",
      "                  is_denoising: False\n",
      "               latent_vs_recon: 1.0\n",
      "                 learning_rate: 0.0005\n",
      "                          loss: chamfer\n",
      "             loss_display_step: 1\n",
      "                       n_input: [2048, 3]\n",
      "                      n_output: [2048, 3]\n",
      "                           n_z: None\n",
      "             saver_max_to_keep: None\n",
      "                    saver_step: 10\n",
      "                     train_dir: /orions4-zfs/projects/optas/DATA/OUT/iclr/nn_models/all_snc/1_all_snc_rotated_mlp_arch_with_bnorm_2048pts_chamfer\n",
      "               training_epochs: 2000\n",
      "                      z_rotate: True\n",
      "\n"
     ]
    }
   ],
   "source": [
    "n_input = [n_pc_samples, 3]\n",
    "\n",
    "encoder_args = {'n_filters': [64, 128, 128, 256, 512],\n",
    "                'filter_sizes': [1, 1, 1, 1, 1],\n",
    "                'strides': [1, 1, 1, 1, 1],\n",
    "                'b_norm': True,\n",
    "                'dropout_prob': [0, 0, 0, 0, 0.5]\n",
    "               }\n",
    "\n",
    "decoder_args = {'layer_sizes': [512, 1024, np.prod(n_input)],\n",
    "                'b_norm': True\n",
    "               }\n",
    "\n",
    "if load_model:\n",
    "    conf = Conf.load(osp.join(train_dir, 'configuration'))\n",
    "    print conf\n",
    "    \n",
    "else:    \n",
    "    conf = Conf(\n",
    "                n_input = n_input,\n",
    "                training_epochs = max_training_epochs,\n",
    "                batch_size = 50,\n",
    "                loss = loss,\n",
    "                denoising = False,\n",
    "                train_dir = train_dir,\n",
    "                loss_display_step = 1,\n",
    "                saver_step = 10,\n",
    "                learning_rate = 0.0005,\n",
    "                z_rotate = z_rotate,\n",
    "                encoder = encoder_with_convs_and_symmetry,\n",
    "                encoder_args = encoder_args,\n",
    "                decoder = decoder_with_fc_only,\n",
    "                decoder_args = decoder_args,            \n",
    "               )\n",
    "    conf.allow_gpu_growth = False\n",
    "    conf.experiment_name = experiment_name\n",
    "    conf.save(osp.join(conf.train_dir, 'configuration'))"
   ]
  },
  {
   "cell_type": "code",
   "execution_count": null,
   "metadata": {
    "collapsed": false
   },
   "outputs": [
    {
     "name": "stdout",
     "output_type": "stream",
     "text": [
      "Model restored in epoch 1620.\n"
     ]
    }
   ],
   "source": [
    "reset_tf_graph()\n",
    "ae = PointNetAutoEncoder(experiment_name, conf)\n",
    "\n",
    "if load_model:\n",
    "    saved_epochs = read_saved_epochs(conf.train_dir)\n",
    "    last_epoch = saved_epochs[-1]\n",
    "    ae.restore_model(conf.train_dir, last_epoch, verbose=True)"
   ]
  },
  {
   "cell_type": "code",
   "execution_count": null,
   "metadata": {
    "collapsed": false,
    "deletable": true,
    "editable": true
   },
   "outputs": [
    {
     "name": "stdout",
     "output_type": "stream",
     "text": [
      "('Epoch:', '1621', 'training time (minutes)=', '2.3675', 'loss=', '0.000397231')\n",
      "('Epoch:', '1622', 'training time (minutes)=', '2.3976', 'loss=', '0.000392704')\n",
      "('Epoch:', '1623', 'training time (minutes)=', '2.4044', 'loss=', '0.000407782')\n",
      "('Epoch:', '1624', 'training time (minutes)=', '2.4173', 'loss=', '0.000397902')\n",
      "('Epoch:', '1625', 'training time (minutes)=', '2.4106', 'loss=', '0.000391892')\n",
      "('Epoch:', '1626', 'training time (minutes)=', '2.4098', 'loss=', '0.000394281')\n",
      "('Epoch:', '1627', 'training time (minutes)=', '2.4165', 'loss=', '0.000392725')\n",
      "('Epoch:', '1628', 'training time (minutes)=', '2.4112', 'loss=', '0.000391491')\n",
      "('Epoch:', '1629', 'training time (minutes)=', '2.4078', 'loss=', '0.000394983')\n",
      "('Epoch:', '1630', 'training time (minutes)=', '2.4172', 'loss=', '0.000404344')\n",
      "INFO:tensorflow:/orions4-zfs/projects/optas/DATA/OUT/iclr/nn_models/all_snc/1_all_snc_rotated_mlp_arch_with_bnorm_2048pts_chamfer/models.ckpt-1630 is not in all_model_checkpoint_paths. Manually adding it.\n",
      "('Epoch:', '1631', 'training time (minutes)=', '2.3927', 'loss=', '0.000396942')\n",
      "('Epoch:', '1632', 'training time (minutes)=', '2.3882', 'loss=', '0.000394337')\n",
      "('Epoch:', '1633', 'training time (minutes)=', '2.3899', 'loss=', '0.000396911')\n",
      "('Epoch:', '1634', 'training time (minutes)=', '2.3799', 'loss=', '0.000400932')\n",
      "('Epoch:', '1635', 'training time (minutes)=', '2.3803', 'loss=', '0.000396568')\n",
      "('Epoch:', '1636', 'training time (minutes)=', '2.3781', 'loss=', '0.000392700')\n",
      "('Epoch:', '1637', 'training time (minutes)=', '2.3828', 'loss=', '0.000391005')\n",
      "('Epoch:', '1638', 'training time (minutes)=', '2.3824', 'loss=', '0.000421861')\n",
      "('Epoch:', '1639', 'training time (minutes)=', '2.3816', 'loss=', '0.000403582')\n",
      "('Epoch:', '1640', 'training time (minutes)=', '2.3800', 'loss=', '0.000398352')\n",
      "INFO:tensorflow:/orions4-zfs/projects/optas/DATA/OUT/iclr/nn_models/all_snc/1_all_snc_rotated_mlp_arch_with_bnorm_2048pts_chamfer/models.ckpt-1640 is not in all_model_checkpoint_paths. Manually adding it.\n",
      "('Epoch:', '1641', 'training time (minutes)=', '2.3757', 'loss=', '0.000391566')\n",
      "('Epoch:', '1642', 'training time (minutes)=', '2.3799', 'loss=', '0.000404152')\n",
      "('Epoch:', '1643', 'training time (minutes)=', '2.3838', 'loss=', '0.000400924')\n",
      "('Epoch:', '1644', 'training time (minutes)=', '2.3758', 'loss=', '0.000402616')\n",
      "('Epoch:', '1645', 'training time (minutes)=', '2.3664', 'loss=', '0.000386133')\n",
      "('Epoch:', '1646', 'training time (minutes)=', '2.3662', 'loss=', '0.000401410')\n",
      "('Epoch:', '1647', 'training time (minutes)=', '2.3722', 'loss=', '0.000396222')\n",
      "('Epoch:', '1648', 'training time (minutes)=', '2.3669', 'loss=', '0.000396316')\n",
      "('Epoch:', '1649', 'training time (minutes)=', '2.3614', 'loss=', '0.000393194')\n",
      "('Epoch:', '1650', 'training time (minutes)=', '2.3658', 'loss=', '0.000388897')\n",
      "INFO:tensorflow:/orions4-zfs/projects/optas/DATA/OUT/iclr/nn_models/all_snc/1_all_snc_rotated_mlp_arch_with_bnorm_2048pts_chamfer/models.ckpt-1650 is not in all_model_checkpoint_paths. Manually adding it.\n",
      "('Epoch:', '1651', 'training time (minutes)=', '2.3624', 'loss=', '0.000398773')\n",
      "('Epoch:', '1652', 'training time (minutes)=', '2.3698', 'loss=', '0.000393331')\n",
      "('Epoch:', '1653', 'training time (minutes)=', '2.3688', 'loss=', '0.000399138')\n",
      "('Epoch:', '1654', 'training time (minutes)=', '2.3679', 'loss=', '0.000409497')\n",
      "('Epoch:', '1655', 'training time (minutes)=', '2.3721', 'loss=', '0.000402626')\n",
      "('Epoch:', '1656', 'training time (minutes)=', '2.3729', 'loss=', '0.000390411')\n",
      "('Epoch:', '1657', 'training time (minutes)=', '2.3768', 'loss=', '0.000394922')\n",
      "('Epoch:', '1658', 'training time (minutes)=', '4.2709', 'loss=', '0.000396632')\n",
      "('Epoch:', '1659', 'training time (minutes)=', '3.3752', 'loss=', '0.000394533')\n",
      "('Epoch:', '1660', 'training time (minutes)=', '3.9110', 'loss=', '0.000394333')\n",
      "INFO:tensorflow:/orions4-zfs/projects/optas/DATA/OUT/iclr/nn_models/all_snc/1_all_snc_rotated_mlp_arch_with_bnorm_2048pts_chamfer/models.ckpt-1660 is not in all_model_checkpoint_paths. Manually adding it.\n",
      "('Epoch:', '1661', 'training time (minutes)=', '2.7454', 'loss=', '0.000398118')\n",
      "('Epoch:', '1662', 'training time (minutes)=', '2.3023', 'loss=', '0.000395558')\n",
      "('Epoch:', '1663', 'training time (minutes)=', '3.6724', 'loss=', '0.000397647')\n",
      "('Epoch:', '1664', 'training time (minutes)=', '2.5912', 'loss=', '0.000395791')\n",
      "('Epoch:', '1665', 'training time (minutes)=', '2.2945', 'loss=', '0.000395556')\n",
      "('Epoch:', '1666', 'training time (minutes)=', '2.2958', 'loss=', '0.000392727')\n",
      "('Epoch:', '1667', 'training time (minutes)=', '2.2934', 'loss=', '0.000396202')\n",
      "('Epoch:', '1668', 'training time (minutes)=', '2.3012', 'loss=', '0.000391043')\n",
      "('Epoch:', '1669', 'training time (minutes)=', '3.6228', 'loss=', '0.000402782')\n",
      "('Epoch:', '1670', 'training time (minutes)=', '3.5129', 'loss=', '0.000397950')\n",
      "INFO:tensorflow:/orions4-zfs/projects/optas/DATA/OUT/iclr/nn_models/all_snc/1_all_snc_rotated_mlp_arch_with_bnorm_2048pts_chamfer/models.ckpt-1670 is not in all_model_checkpoint_paths. Manually adding it.\n",
      "('Epoch:', '1671', 'training time (minutes)=', '3.0138', 'loss=', '0.000398446')\n",
      "('Epoch:', '1672', 'training time (minutes)=', '3.0347', 'loss=', '0.000393057')\n",
      "('Epoch:', '1673', 'training time (minutes)=', '3.0073', 'loss=', '0.000397132')\n",
      "('Epoch:', '1674', 'training time (minutes)=', '3.5526', 'loss=', '0.000399050')\n",
      "('Epoch:', '1675', 'training time (minutes)=', '2.9568', 'loss=', '0.000395756')\n",
      "('Epoch:', '1676', 'training time (minutes)=', '3.0378', 'loss=', '0.000400161')\n",
      "('Epoch:', '1677', 'training time (minutes)=', '2.7330', 'loss=', '0.000392177')\n",
      "('Epoch:', '1678', 'training time (minutes)=', '3.0169', 'loss=', '0.000390218')\n",
      "('Epoch:', '1679', 'training time (minutes)=', '3.0448', 'loss=', '0.000391514')\n",
      "('Epoch:', '1680', 'training time (minutes)=', '3.1294', 'loss=', '0.000387575')\n",
      "INFO:tensorflow:/orions4-zfs/projects/optas/DATA/OUT/iclr/nn_models/all_snc/1_all_snc_rotated_mlp_arch_with_bnorm_2048pts_chamfer/models.ckpt-1680 is not in all_model_checkpoint_paths. Manually adding it.\n",
      "('Epoch:', '1681', 'training time (minutes)=', '2.7967', 'loss=', '0.000403118')\n",
      "('Epoch:', '1682', 'training time (minutes)=', '2.7012', 'loss=', '0.000403355')\n",
      "('Epoch:', '1683', 'training time (minutes)=', '3.0064', 'loss=', '0.000404450')\n",
      "('Epoch:', '1684', 'training time (minutes)=', '3.0153', 'loss=', '0.000392358')\n",
      "('Epoch:', '1685', 'training time (minutes)=', '2.2903', 'loss=', '0.000390272')\n",
      "('Epoch:', '1686', 'training time (minutes)=', '2.2870', 'loss=', '0.000390077')\n",
      "('Epoch:', '1687', 'training time (minutes)=', '2.2856', 'loss=', '0.000396144')\n",
      "('Epoch:', '1688', 'training time (minutes)=', '2.2855', 'loss=', '0.000390389')\n",
      "('Epoch:', '1689', 'training time (minutes)=', '2.2885', 'loss=', '0.000397880')\n",
      "('Epoch:', '1690', 'training time (minutes)=', '2.6294', 'loss=', '0.000393502')\n",
      "INFO:tensorflow:/orions4-zfs/projects/optas/DATA/OUT/iclr/nn_models/all_snc/1_all_snc_rotated_mlp_arch_with_bnorm_2048pts_chamfer/models.ckpt-1690 is not in all_model_checkpoint_paths. Manually adding it.\n",
      "('Epoch:', '1691', 'training time (minutes)=', '2.2902', 'loss=', '0.000402230')\n",
      "('Epoch:', '1692', 'training time (minutes)=', '2.2907', 'loss=', '0.000396472')\n",
      "('Epoch:', '1693', 'training time (minutes)=', '3.0021', 'loss=', '0.000394374')\n",
      "('Epoch:', '1694', 'training time (minutes)=', '2.2880', 'loss=', '0.000395055')\n",
      "('Epoch:', '1695', 'training time (minutes)=', '2.2825', 'loss=', '0.000398055')\n",
      "('Epoch:', '1696', 'training time (minutes)=', '2.2827', 'loss=', '0.000388986')\n",
      "('Epoch:', '1697', 'training time (minutes)=', '2.2873', 'loss=', '0.000400447')\n",
      "('Epoch:', '1698', 'training time (minutes)=', '2.2821', 'loss=', '0.000394874')\n",
      "('Epoch:', '1699', 'training time (minutes)=', '2.2883', 'loss=', '0.000395165')\n",
      "('Epoch:', '1700', 'training time (minutes)=', '2.2870', 'loss=', '0.000391620')\n",
      "INFO:tensorflow:/orions4-zfs/projects/optas/DATA/OUT/iclr/nn_models/all_snc/1_all_snc_rotated_mlp_arch_with_bnorm_2048pts_chamfer/models.ckpt-1700 is not in all_model_checkpoint_paths. Manually adding it.\n",
      "('Epoch:', '1701', 'training time (minutes)=', '2.2878', 'loss=', '0.000395796')\n",
      "('Epoch:', '1702', 'training time (minutes)=', '2.2796', 'loss=', '0.000401089')\n",
      "('Epoch:', '1703', 'training time (minutes)=', '2.2896', 'loss=', '0.000389324')\n",
      "('Epoch:', '1704', 'training time (minutes)=', '2.2810', 'loss=', '0.000401315')\n",
      "('Epoch:', '1705', 'training time (minutes)=', '2.2822', 'loss=', '0.000391009')\n",
      "('Epoch:', '1706', 'training time (minutes)=', '2.2880', 'loss=', '0.000393526')\n",
      "('Epoch:', '1707', 'training time (minutes)=', '2.2855', 'loss=', '0.000399677')\n",
      "('Epoch:', '1708', 'training time (minutes)=', '2.2861', 'loss=', '0.000397522')\n",
      "('Epoch:', '1709', 'training time (minutes)=', '2.2886', 'loss=', '0.000398157')\n",
      "('Epoch:', '1710', 'training time (minutes)=', '2.2843', 'loss=', '0.000399216')\n",
      "INFO:tensorflow:/orions4-zfs/projects/optas/DATA/OUT/iclr/nn_models/all_snc/1_all_snc_rotated_mlp_arch_with_bnorm_2048pts_chamfer/models.ckpt-1710 is not in all_model_checkpoint_paths. Manually adding it.\n",
      "('Epoch:', '1711', 'training time (minutes)=', '2.2850', 'loss=', '0.000398041')\n",
      "('Epoch:', '1712', 'training time (minutes)=', '2.2812', 'loss=', '0.000390510')\n",
      "('Epoch:', '1713', 'training time (minutes)=', '2.2800', 'loss=', '0.000392304')\n",
      "('Epoch:', '1714', 'training time (minutes)=', '2.2821', 'loss=', '0.000392017')\n",
      "('Epoch:', '1715', 'training time (minutes)=', '2.2886', 'loss=', '0.000394237')\n",
      "('Epoch:', '1716', 'training time (minutes)=', '2.2860', 'loss=', '0.000392854')\n",
      "('Epoch:', '1717', 'training time (minutes)=', '2.2833', 'loss=', '0.000390867')\n",
      "('Epoch:', '1718', 'training time (minutes)=', '2.2856', 'loss=', '0.000398831')\n",
      "('Epoch:', '1719', 'training time (minutes)=', '2.2832', 'loss=', '0.000402054')\n",
      "('Epoch:', '1720', 'training time (minutes)=', '2.2862', 'loss=', '0.000392821')\n",
      "INFO:tensorflow:/orions4-zfs/projects/optas/DATA/OUT/iclr/nn_models/all_snc/1_all_snc_rotated_mlp_arch_with_bnorm_2048pts_chamfer/models.ckpt-1720 is not in all_model_checkpoint_paths. Manually adding it.\n",
      "('Epoch:', '1721', 'training time (minutes)=', '2.2849', 'loss=', '0.000395758')\n",
      "('Epoch:', '1722', 'training time (minutes)=', '2.2840', 'loss=', '0.000406555')\n",
      "('Epoch:', '1723', 'training time (minutes)=', '2.2842', 'loss=', '0.000395656')\n",
      "('Epoch:', '1724', 'training time (minutes)=', '2.2863', 'loss=', '0.000390019')\n",
      "('Epoch:', '1725', 'training time (minutes)=', '2.2849', 'loss=', '0.000399997')\n",
      "('Epoch:', '1726', 'training time (minutes)=', '2.2856', 'loss=', '0.000391966')\n",
      "('Epoch:', '1727', 'training time (minutes)=', '2.2864', 'loss=', '0.000394184')\n",
      "('Epoch:', '1728', 'training time (minutes)=', '2.2858', 'loss=', '0.000391023')\n",
      "('Epoch:', '1729', 'training time (minutes)=', '2.2822', 'loss=', '0.000392774')\n",
      "('Epoch:', '1730', 'training time (minutes)=', '2.2857', 'loss=', '0.000392272')\n",
      "INFO:tensorflow:/orions4-zfs/projects/optas/DATA/OUT/iclr/nn_models/all_snc/1_all_snc_rotated_mlp_arch_with_bnorm_2048pts_chamfer/models.ckpt-1730 is not in all_model_checkpoint_paths. Manually adding it.\n",
      "('Epoch:', '1731', 'training time (minutes)=', '2.2843', 'loss=', '0.000401724')\n",
      "('Epoch:', '1732', 'training time (minutes)=', '2.2882', 'loss=', '0.000400374')\n",
      "('Epoch:', '1733', 'training time (minutes)=', '2.2868', 'loss=', '0.000393409')\n",
      "('Epoch:', '1734', 'training time (minutes)=', '2.2873', 'loss=', '0.000394369')\n",
      "('Epoch:', '1735', 'training time (minutes)=', '2.2859', 'loss=', '0.000391131')\n",
      "('Epoch:', '1736', 'training time (minutes)=', '2.2835', 'loss=', '0.000400064')\n",
      "('Epoch:', '1737', 'training time (minutes)=', '2.2870', 'loss=', '0.000399675')\n",
      "('Epoch:', '1738', 'training time (minutes)=', '2.2872', 'loss=', '0.000393311')\n",
      "('Epoch:', '1739', 'training time (minutes)=', '2.2871', 'loss=', '0.000393040')\n",
      "('Epoch:', '1740', 'training time (minutes)=', '2.2814', 'loss=', '0.000399525')\n",
      "INFO:tensorflow:/orions4-zfs/projects/optas/DATA/OUT/iclr/nn_models/all_snc/1_all_snc_rotated_mlp_arch_with_bnorm_2048pts_chamfer/models.ckpt-1740 is not in all_model_checkpoint_paths. Manually adding it.\n",
      "('Epoch:', '1741', 'training time (minutes)=', '2.2872', 'loss=', '0.000392469')\n",
      "('Epoch:', '1742', 'training time (minutes)=', '2.2851', 'loss=', '0.000400379')\n",
      "('Epoch:', '1743', 'training time (minutes)=', '2.2870', 'loss=', '0.000399054')\n",
      "('Epoch:', '1744', 'training time (minutes)=', '2.2867', 'loss=', '0.000396299')\n",
      "('Epoch:', '1745', 'training time (minutes)=', '2.2867', 'loss=', '0.000389876')\n",
      "('Epoch:', '1746', 'training time (minutes)=', '2.2866', 'loss=', '0.000396586')\n",
      "('Epoch:', '1747', 'training time (minutes)=', '2.2878', 'loss=', '0.000395171')\n",
      "('Epoch:', '1748', 'training time (minutes)=', '2.2828', 'loss=', '0.000388240')\n",
      "('Epoch:', '1749', 'training time (minutes)=', '2.2853', 'loss=', '0.000390948')\n",
      "('Epoch:', '1750', 'training time (minutes)=', '2.2816', 'loss=', '0.000395157')\n",
      "INFO:tensorflow:/orions4-zfs/projects/optas/DATA/OUT/iclr/nn_models/all_snc/1_all_snc_rotated_mlp_arch_with_bnorm_2048pts_chamfer/models.ckpt-1750 is not in all_model_checkpoint_paths. Manually adding it.\n",
      "('Epoch:', '1751', 'training time (minutes)=', '2.2789', 'loss=', '0.000396158')\n",
      "('Epoch:', '1752', 'training time (minutes)=', '2.2809', 'loss=', '0.000394535')\n",
      "('Epoch:', '1753', 'training time (minutes)=', '2.2836', 'loss=', '0.000396756')\n",
      "('Epoch:', '1754', 'training time (minutes)=', '2.2863', 'loss=', '0.000398501')\n",
      "('Epoch:', '1755', 'training time (minutes)=', '2.2831', 'loss=', '0.000389670')\n",
      "('Epoch:', '1756', 'training time (minutes)=', '2.2821', 'loss=', '0.000398939')\n",
      "('Epoch:', '1757', 'training time (minutes)=', '2.2834', 'loss=', '0.000390931')\n",
      "('Epoch:', '1758', 'training time (minutes)=', '2.2858', 'loss=', '0.000397796')\n",
      "('Epoch:', '1759', 'training time (minutes)=', '2.2875', 'loss=', '0.000399870')\n",
      "('Epoch:', '1760', 'training time (minutes)=', '2.2831', 'loss=', '0.000392851')\n",
      "INFO:tensorflow:/orions4-zfs/projects/optas/DATA/OUT/iclr/nn_models/all_snc/1_all_snc_rotated_mlp_arch_with_bnorm_2048pts_chamfer/models.ckpt-1760 is not in all_model_checkpoint_paths. Manually adding it.\n",
      "('Epoch:', '1761', 'training time (minutes)=', '2.2855', 'loss=', '0.000393555')\n",
      "('Epoch:', '1762', 'training time (minutes)=', '2.2846', 'loss=', '0.000398578')\n",
      "('Epoch:', '1763', 'training time (minutes)=', '2.2869', 'loss=', '0.000398168')\n",
      "('Epoch:', '1764', 'training time (minutes)=', '2.2829', 'loss=', '0.000387527')\n",
      "('Epoch:', '1765', 'training time (minutes)=', '2.2846', 'loss=', '0.000399838')\n",
      "('Epoch:', '1766', 'training time (minutes)=', '2.2865', 'loss=', '0.000395549')\n",
      "('Epoch:', '1767', 'training time (minutes)=', '2.2826', 'loss=', '0.000397113')\n",
      "('Epoch:', '1768', 'training time (minutes)=', '2.2827', 'loss=', '0.000392109')\n",
      "('Epoch:', '1769', 'training time (minutes)=', '2.2873', 'loss=', '0.000396552')\n",
      "('Epoch:', '1770', 'training time (minutes)=', '2.2872', 'loss=', '0.000394044')\n",
      "INFO:tensorflow:/orions4-zfs/projects/optas/DATA/OUT/iclr/nn_models/all_snc/1_all_snc_rotated_mlp_arch_with_bnorm_2048pts_chamfer/models.ckpt-1770 is not in all_model_checkpoint_paths. Manually adding it.\n",
      "('Epoch:', '1771', 'training time (minutes)=', '2.2868', 'loss=', '0.000392796')\n",
      "('Epoch:', '1772', 'training time (minutes)=', '2.2887', 'loss=', '0.000394888')\n",
      "('Epoch:', '1773', 'training time (minutes)=', '2.2852', 'loss=', '0.000397267')\n",
      "('Epoch:', '1774', 'training time (minutes)=', '2.2851', 'loss=', '0.000429009')\n",
      "('Epoch:', '1775', 'training time (minutes)=', '2.2914', 'loss=', '0.000399774')\n",
      "('Epoch:', '1776', 'training time (minutes)=', '2.2825', 'loss=', '0.000388583')\n",
      "('Epoch:', '1777', 'training time (minutes)=', '2.2891', 'loss=', '0.000389686')\n",
      "('Epoch:', '1778', 'training time (minutes)=', '2.2855', 'loss=', '0.000394566')\n",
      "('Epoch:', '1779', 'training time (minutes)=', '2.2847', 'loss=', '0.000397478')\n",
      "('Epoch:', '1780', 'training time (minutes)=', '2.2860', 'loss=', '0.000393156')\n",
      "INFO:tensorflow:/orions4-zfs/projects/optas/DATA/OUT/iclr/nn_models/all_snc/1_all_snc_rotated_mlp_arch_with_bnorm_2048pts_chamfer/models.ckpt-1780 is not in all_model_checkpoint_paths. Manually adding it.\n",
      "('Epoch:', '1781', 'training time (minutes)=', '2.2848', 'loss=', '0.000390073')\n",
      "('Epoch:', '1782', 'training time (minutes)=', '2.2877', 'loss=', '0.000396456')\n",
      "('Epoch:', '1783', 'training time (minutes)=', '2.2875', 'loss=', '0.000393980')\n",
      "('Epoch:', '1784', 'training time (minutes)=', '2.2857', 'loss=', '0.000396607')\n",
      "('Epoch:', '1785', 'training time (minutes)=', '2.2815', 'loss=', '0.000397487')\n",
      "('Epoch:', '1786', 'training time (minutes)=', '2.2846', 'loss=', '0.000400244')\n",
      "('Epoch:', '1787', 'training time (minutes)=', '2.2847', 'loss=', '0.000389536')\n",
      "('Epoch:', '1788', 'training time (minutes)=', '2.2852', 'loss=', '0.000395093')\n",
      "('Epoch:', '1789', 'training time (minutes)=', '2.2818', 'loss=', '0.000391767')\n",
      "('Epoch:', '1790', 'training time (minutes)=', '2.2825', 'loss=', '0.000392818')\n",
      "INFO:tensorflow:/orions4-zfs/projects/optas/DATA/OUT/iclr/nn_models/all_snc/1_all_snc_rotated_mlp_arch_with_bnorm_2048pts_chamfer/models.ckpt-1790 is not in all_model_checkpoint_paths. Manually adding it.\n",
      "('Epoch:', '1791', 'training time (minutes)=', '2.2851', 'loss=', '0.000390628')\n",
      "('Epoch:', '1792', 'training time (minutes)=', '2.2866', 'loss=', '0.000397288')\n",
      "('Epoch:', '1793', 'training time (minutes)=', '2.2891', 'loss=', '0.000395560')\n",
      "('Epoch:', '1794', 'training time (minutes)=', '2.2846', 'loss=', '0.000396042')\n",
      "('Epoch:', '1795', 'training time (minutes)=', '2.2826', 'loss=', '0.000394136')\n",
      "('Epoch:', '1796', 'training time (minutes)=', '2.2850', 'loss=', '0.000395297')\n",
      "('Epoch:', '1797', 'training time (minutes)=', '2.2808', 'loss=', '0.000395047')\n",
      "('Epoch:', '1798', 'training time (minutes)=', '2.2866', 'loss=', '0.000395073')\n",
      "('Epoch:', '1799', 'training time (minutes)=', '2.2860', 'loss=', '0.000392908')\n",
      "('Epoch:', '1800', 'training time (minutes)=', '2.2889', 'loss=', '0.000393773')\n",
      "INFO:tensorflow:/orions4-zfs/projects/optas/DATA/OUT/iclr/nn_models/all_snc/1_all_snc_rotated_mlp_arch_with_bnorm_2048pts_chamfer/models.ckpt-1800 is not in all_model_checkpoint_paths. Manually adding it.\n",
      "('Epoch:', '1801', 'training time (minutes)=', '2.2835', 'loss=', '0.000390232')\n",
      "('Epoch:', '1802', 'training time (minutes)=', '2.2882', 'loss=', '0.000395534')\n",
      "('Epoch:', '1803', 'training time (minutes)=', '2.2813', 'loss=', '0.000392193')\n",
      "('Epoch:', '1804', 'training time (minutes)=', '2.2852', 'loss=', '0.000398585')\n",
      "('Epoch:', '1805', 'training time (minutes)=', '2.2883', 'loss=', '0.000400320')\n",
      "('Epoch:', '1806', 'training time (minutes)=', '2.2854', 'loss=', '0.000392511')\n",
      "('Epoch:', '1807', 'training time (minutes)=', '2.2843', 'loss=', '0.000389828')\n",
      "('Epoch:', '1808', 'training time (minutes)=', '2.2814', 'loss=', '0.000391373')\n",
      "('Epoch:', '1809', 'training time (minutes)=', '2.2823', 'loss=', '0.000392568')\n",
      "('Epoch:', '1810', 'training time (minutes)=', '2.2804', 'loss=', '0.000397389')\n",
      "INFO:tensorflow:/orions4-zfs/projects/optas/DATA/OUT/iclr/nn_models/all_snc/1_all_snc_rotated_mlp_arch_with_bnorm_2048pts_chamfer/models.ckpt-1810 is not in all_model_checkpoint_paths. Manually adding it.\n",
      "('Epoch:', '1811', 'training time (minutes)=', '2.2841', 'loss=', '0.000397411')\n",
      "('Epoch:', '1812', 'training time (minutes)=', '2.2887', 'loss=', '0.000391262')\n",
      "('Epoch:', '1813', 'training time (minutes)=', '2.2871', 'loss=', '0.000399737')\n",
      "('Epoch:', '1814', 'training time (minutes)=', '2.2852', 'loss=', '0.000396395')\n",
      "('Epoch:', '1815', 'training time (minutes)=', '2.2820', 'loss=', '0.000397763')\n",
      "('Epoch:', '1816', 'training time (minutes)=', '2.2860', 'loss=', '0.000392437')\n",
      "('Epoch:', '1817', 'training time (minutes)=', '2.2860', 'loss=', '0.000391784')\n",
      "('Epoch:', '1818', 'training time (minutes)=', '2.2859', 'loss=', '0.000395697')\n",
      "('Epoch:', '1819', 'training time (minutes)=', '2.2870', 'loss=', '0.000401543')\n",
      "('Epoch:', '1820', 'training time (minutes)=', '2.2848', 'loss=', '0.000393588')\n",
      "INFO:tensorflow:/orions4-zfs/projects/optas/DATA/OUT/iclr/nn_models/all_snc/1_all_snc_rotated_mlp_arch_with_bnorm_2048pts_chamfer/models.ckpt-1820 is not in all_model_checkpoint_paths. Manually adding it.\n",
      "('Epoch:', '1821', 'training time (minutes)=', '2.2864', 'loss=', '0.000392123')\n"
     ]
    }
   ],
   "source": [
    "if do_training:\n",
    "    buf_size = 1 # flush each line\n",
    "    fout = open(osp.join(conf.train_dir, 'train_stats.txt'), 'a', buf_size)    \n",
    "    train_stats = ae.train(train_data, conf, log_file=fout)\n",
    "    fout.close()"
   ]
  }
 ],
 "metadata": {
  "kernelspec": {
   "display_name": "Python 2",
   "language": "python",
   "name": "python2"
  },
  "language_info": {
   "codemirror_mode": {
    "name": "ipython",
    "version": 2
   },
   "file_extension": ".py",
   "mimetype": "text/x-python",
   "name": "python",
   "nbconvert_exporter": "python",
   "pygments_lexer": "ipython2",
   "version": "2.7.6"
  }
 },
 "nbformat": 4,
 "nbformat_minor": 0
}
