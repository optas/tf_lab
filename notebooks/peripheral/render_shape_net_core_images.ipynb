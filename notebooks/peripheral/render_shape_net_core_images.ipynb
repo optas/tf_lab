{
 "cells": [
  {
   "cell_type": "code",
   "execution_count": 1,
   "metadata": {
    "collapsed": false,
    "deletable": true,
    "editable": true
   },
   "outputs": [],
   "source": [
    "from functools import partial\n",
    "from multiprocessing.dummy import Pool\n",
    "from subprocess import call\n",
    "import os.path as osp\n",
    "from general_tools.in_out.basics import files_in_subdirs, create_dir\n",
    "\n",
    "from tf_lab.data_sets.shape_net import snc_category_to_synth_id\n",
    "\n",
    "from geo_tool.in_out.soup import load_wavefront_obj, write_wavefront_obj"
   ]
  },
  {
   "cell_type": "code",
   "execution_count": 2,
   "metadata": {
    "collapsed": true,
    "deletable": true,
    "editable": true
   },
   "outputs": [],
   "source": [
    "# Parameters\n",
    "binary = '/orions3-zfs/software/blender-2.74/blender '\n",
    "binary_arg1 = '/orions4-zfs/projects/optas/Testing/Hao/blank.blend '\n",
    "binary_arg2 = '--background --python /orions4-zfs/projects/optas/Testing/Hao/render.py '\n",
    "\n",
    "binary = binary + binary_arg1 + binary_arg2\n",
    "\n",
    "top_out_image_dir = '/orions4-zfs/projects/optas/DATA/Images/Shape_Net_Core/2015_Summer_OUT/Rendered_Images/'\n",
    "create_dir(top_out_image_dir)\n",
    "thread_num = 20"
   ]
  },
  {
   "cell_type": "code",
   "execution_count": 3,
   "metadata": {
    "collapsed": false,
    "deletable": true,
    "editable": true
   },
   "outputs": [
    {
     "name": "stdout",
     "output_type": "stream",
     "text": [
      "Give me the class type.\n",
      "car\n",
      "02958343\n"
     ]
    }
   ],
   "source": [
    "class_name = raw_input('Give me the class type.\\n').lower()\n",
    "syn_id = snc_category_to_synth_id()[class_name]\n",
    "print syn_id\n",
    "\n",
    "top_in_dir = '/orions4-zfs/projects/optas/DATA/Meshes/Shape_Net_Core/2015_Summer/' \n",
    "top_in_dir = osp.join(top_in_dir, syn_id)\n",
    "\n",
    "top_out_dir = osp.join(top_out_image_dir, syn_id)"
   ]
  },
  {
   "cell_type": "code",
   "execution_count": 4,
   "metadata": {
    "collapsed": false,
    "deletable": true,
    "editable": true
   },
   "outputs": [
    {
     "name": "stdout",
     "output_type": "stream",
     "text": [
      "7497\n"
     ]
    }
   ],
   "source": [
    "search_pattern = '.obj$'\n",
    "all_in_files = [f for f in files_in_subdirs(top_in_dir, search_pattern)]\n",
    "print len(all_in_files)"
   ]
  },
  {
   "cell_type": "code",
   "execution_count": null,
   "metadata": {
    "collapsed": false,
    "deletable": true,
    "editable": true
   },
   "outputs": [],
   "source": [
    "commands = []\n",
    "for in_f in all_in_files:\n",
    "    model_name = in_f.split('/')[-2]\n",
    "    out_dir = create_dir(osp.join(top_out_dir, model_name))\n",
    "    \n",
    "    vertices, faces, normals = load_wavefront_obj(in_f) # this is sequential now\n",
    "    out_obj = osp.join(out_dir, 'model.obj')\n",
    "    write_wavefront_obj(out_obj, vertices, faces, normals)\n",
    "    \n",
    "    command = '%s %s %s' % (binary, out_obj, out_dir) # Use the new obj to avoid plotting the material.\n",
    "    commands.append(command)\n",
    "    \n",
    "print ('\\nTotal number of commands is %d' % (len(commands)))"
   ]
  },
  {
   "cell_type": "code",
   "execution_count": null,
   "metadata": {
    "collapsed": false,
    "deletable": true,
    "editable": true
   },
   "outputs": [],
   "source": [
    "pool = Pool(thread_num)\n",
    "for idx, return_code in enumerate(pool.imap(partial(call, shell=True), commands)):\n",
    "    if return_code != 0:\n",
    "        print('command %d of %s failed' % (idx, commands[idx]))"
   ]
  },
  {
   "cell_type": "code",
   "execution_count": 28,
   "metadata": {
    "collapsed": false
   },
   "outputs": [
    {
     "name": "stdout",
     "output_type": "stream",
     "text": [
      "rm -rf /scr/optas/DATA/Meshes/Shape_Net_Core/2015_Summer_OUT/Images/04379243/28f702b5c6ccffe7fcf9154182ccb5a4/model.obj\n",
      "\n",
      "Total number of commands is 8509\n"
     ]
    }
   ],
   "source": [
    "# Delete new obj.\n",
    "commands = []\n",
    "for in_f in all_in_files:\n",
    "    model_name = in_f.split('/')[-2]\n",
    "    out_dir = create_dir(osp.join(top_out_dir, model_name))\n",
    "    out_obj = osp.join(out_dir, 'model.obj')        \n",
    "    command = 'rm -rf %s' % (out_obj)\n",
    "    commands.append(command)\n",
    "    \n",
    "print commands[0]\n",
    "print ('\\nTotal number of commands is %d' % (len(commands)))"
   ]
  }
 ],
 "metadata": {
  "kernelspec": {
   "display_name": "Python 2",
   "language": "python",
   "name": "python2"
  },
  "language_info": {
   "codemirror_mode": {
    "name": "ipython",
    "version": 2
   },
   "file_extension": ".py",
   "mimetype": "text/x-python",
   "name": "python",
   "nbconvert_exporter": "python",
   "pygments_lexer": "ipython2",
   "version": "2.7.6"
  }
 },
 "nbformat": 4,
 "nbformat_minor": 2
}
