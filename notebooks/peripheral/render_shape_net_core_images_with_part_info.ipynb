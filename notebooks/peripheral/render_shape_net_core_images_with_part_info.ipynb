{
 "cells": [
  {
   "cell_type": "code",
   "execution_count": 1,
   "metadata": {
    "collapsed": false,
    "deletable": true,
    "editable": true
   },
   "outputs": [],
   "source": [
    "from functools import partial\n",
    "from multiprocessing.dummy import Pool\n",
    "from subprocess import call\n",
    "import os.path as osp\n",
    "from general_tools.in_out.basics import files_in_subdirs, create_dir\n",
    "from tf_lab.data_sets.shape_net import snc_category_to_synth_id\n",
    "from general_tools.plotting import read_transparent_png\n",
    "import numpy as np"
   ]
  },
  {
   "cell_type": "code",
   "execution_count": 3,
   "metadata": {
    "collapsed": false
   },
   "outputs": [],
   "source": [
    "%matplotlib nbagg"
   ]
  },
  {
   "cell_type": "code",
   "execution_count": 8,
   "metadata": {
    "collapsed": false,
    "deletable": true,
    "editable": true
   },
   "outputs": [],
   "source": [
    "# Parameters\n",
    "binary = '/orions3-zfs/software/blender-2.74/blender '\n",
    "binary_arg1 = '/orions4-zfs/projects/optas/Testing/Hao/blank.blend '\n",
    "\n",
    "# Next arg is special for parts\n",
    "binary_arg2 = '--background --python /orions4-zfs/projects/optas/Testing/Hao/render_adapted_for_part_annotations.py '\n",
    "\n",
    "binary = binary + binary_arg1 + binary_arg2\n",
    "\n",
    "top_out_image_dir = '/orions4-zfs/projects/optas/DATA/Images/Shape_Net_Core/2015_Summer_OUT/Rendered_Images/with_part_info'\n",
    "create_dir(top_out_image_dir)\n",
    "thread_num = 20"
   ]
  },
  {
   "cell_type": "code",
   "execution_count": 5,
   "metadata": {
    "collapsed": false,
    "deletable": true,
    "editable": true
   },
   "outputs": [
    {
     "name": "stdout",
     "output_type": "stream",
     "text": [
      "03001627\n"
     ]
    }
   ],
   "source": [
    "class_name = 'chair'\n",
    "syn_id = snc_category_to_synth_id()[class_name]\n",
    "top_in_dir = '/orions4-zfs/projects/optas/DATA/Meshes/Shape_Net_Core/chairs_with_parts/03001627/'\n",
    "top_out_dir = osp.join(top_out_image_dir, syn_id)"
   ]
  },
  {
   "cell_type": "code",
   "execution_count": 6,
   "metadata": {
    "collapsed": false,
    "deletable": true,
    "editable": true
   },
   "outputs": [
    {
     "name": "stdout",
     "output_type": "stream",
     "text": [
      "3745\n"
     ]
    }
   ],
   "source": [
    "search_pattern = '.obj$'\n",
    "all_in_files = [f for f in files_in_subdirs(top_in_dir, search_pattern)]\n",
    "print len(all_in_files)"
   ]
  },
  {
   "cell_type": "code",
   "execution_count": 11,
   "metadata": {
    "collapsed": false
   },
   "outputs": [
    {
     "name": "stdout",
     "output_type": "stream",
     "text": [
      "\n",
      "Total number of commands is 3745\n"
     ]
    }
   ],
   "source": [
    "commands = []\n",
    "for in_f in all_in_files:\n",
    "    model_name = in_f.split('/')[-1].replace('.obj',  '')    \n",
    "    out_dir = create_dir(osp.join(top_out_dir, model_name))    \n",
    "    command = '%s %s %s' % (binary, in_f, out_dir)\n",
    "    commands.append(command)    \n",
    "print ('\\nTotal number of commands is %d' % (len(commands)))"
   ]
  },
  {
   "cell_type": "code",
   "execution_count": 18,
   "metadata": {
    "collapsed": true
   },
   "outputs": [],
   "source": [
    "pool = Pool(thread_num)\n",
    "for idx, return_code in enumerate(pool.imap(partial(call, shell=True), commands)):\n",
    "    if return_code != 0:\n",
    "        print('command %d of %s failed' % (idx, commands[idx]))"
   ]
  },
  {
   "cell_type": "code",
   "execution_count": 62,
   "metadata": {
    "collapsed": false
   },
   "outputs": [],
   "source": [
    "def make_part_pixel_mask(raw_im):\n",
    "    float_to_part = {66050: 'arms', 65795: 'legs', 66305: 'sit', 131585: 'back'}\n",
    "    part_to_int = {'legs':1, 'seatt':2, 'back':3, 'arms':4}\n",
    "    background = 131840\n",
    "    \n",
    "    im_temp = raw_im.astype(np.float)\n",
    "    float_mask = im_temp[:,:,0] + (im_temp[:,:,1] + 1)**2 + (im_temp[:,:,2] + 2)**2\n",
    "    uvals = np.unique(float_mask).astype(int)    \n",
    "    dim_x, dim_y, _ = raw_im.shape\n",
    "    part_mask = np.zeros(shape=(dim_x, dim_y), dtype=np.float32)        \n",
    "    for i in uvals:\n",
    "        if i == background:\n",
    "            pass\n",
    "        else:\n",
    "            part_id = part_to_int[float_to_part[i]]\n",
    "            part_mask[ np.where(float_mask==i) ] = part_id\n",
    "    return part_mask"
   ]
  },
  {
   "cell_type": "code",
   "execution_count": 76,
   "metadata": {
    "collapsed": false
   },
   "outputs": [],
   "source": [
    "for in_f in all_in_files:\n",
    "    model_name = in_f.split('/')[-1].replace('.obj',  '')    \n",
    "    out_dir = osp.join(top_out_dir, model_name)\n",
    "    in_f = osp.join(out_dir, view)\n",
    "    raw_im = read_transparent_png(in_f)\n",
    "    part_mask = make_part_pixel_mask(raw_im)\n",
    "    np.save(osp.join(out_dir, 'mask'), part_mask)"
   ]
  }
 ],
 "metadata": {
  "kernelspec": {
   "display_name": "TensorFlow1",
   "language": "python",
   "name": "tf1"
  },
  "language_info": {
   "codemirror_mode": {
    "name": "ipython",
    "version": 2
   },
   "file_extension": ".py",
   "mimetype": "text/x-python",
   "name": "python",
   "nbconvert_exporter": "python",
   "pygments_lexer": "ipython2",
   "version": "2.7.6"
  }
 },
 "nbformat": 4,
 "nbformat_minor": 2
}
