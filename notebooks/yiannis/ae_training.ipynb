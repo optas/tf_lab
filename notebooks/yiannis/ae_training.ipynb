{
 "cells": [
  {
   "cell_type": "code",
   "execution_count": 1,
   "metadata": {
    "collapsed": false
   },
   "outputs": [
    {
     "name": "stdout",
     "output_type": "stream",
     "text": [
      "Picking GPU 1\n"
     ]
    }
   ],
   "source": [
    "from general_tools.notebook.gpu_utils import setup_one_gpu\n",
    "GPU = 1\n",
    "setup_one_gpu(GPU)"
   ]
  },
  {
   "cell_type": "code",
   "execution_count": 2,
   "metadata": {
    "collapsed": false
   },
   "outputs": [],
   "source": [
    "import sys\n",
    "import time\n",
    "import numpy as np\n",
    "import os.path as osp\n",
    "import tensorflow as tf\n",
    "import matplotlib.pyplot as plt\n",
    "\n",
    "from general_tools.notebook.tf import reset_tf_graph\n",
    "from general_tools.in_out import create_dir\n",
    "from general_tools.in_out.basics import create_dir, delete_files_in_directory, files_in_subdirs\n",
    "\n",
    "from geo_tool import Point_Cloud\n",
    "\n",
    "from tf_lab.in_out.basics import Data_Splitter\n",
    "from tf_lab.point_clouds.ae_templates import conv_architecture_ala_nips_17, default_train_params_ala_nips_17\n",
    "from tf_lab.point_clouds.encoders_decoders import encoder_with_convs_and_symmetry, decoder_with_fc_only\n",
    "from tf_lab.point_clouds.point_net_ae import PointNetAutoEncoder\n",
    "from tf_lab.point_clouds.autoencoder import Configuration as Conf\n",
    "from tf_lab.point_clouds.in_out import load_point_clouds_from_filenames, PointCloudDataSet\n",
    "from tf_lab.data_sets.shape_net import pc_loader as snc_loader\n",
    "from tf_lab.data_sets.shape_net import snc_category_to_synth_id"
   ]
  },
  {
   "cell_type": "code",
   "execution_count": 3,
   "metadata": {
    "collapsed": false
   },
   "outputs": [],
   "source": [
    "%load_ext autoreload\n",
    "%autoreload 2\n",
    "%matplotlib inline"
   ]
  },
  {
   "cell_type": "code",
   "execution_count": 4,
   "metadata": {
    "collapsed": true
   },
   "outputs": [],
   "source": [
    "n_pc_points = 2048\n",
    "top_data_dir = '/orions4-zfs/projects/optas/DATA/'\n",
    "top_pclouds_path = osp.join(top_data_dir, 'Point_Clouds/Shape_Net/Core/from_manifold_meshes/centered/', str(n_pc_points))"
   ]
  },
  {
   "cell_type": "code",
   "execution_count": 5,
   "metadata": {
    "collapsed": true
   },
   "outputs": [],
   "source": [
    "train_split = osp.join(top_data_dir, 'Point_Clouds/Shape_Net/Splits/single_class_splits/03001627/85_5_10/train.txt')\n",
    "val_split = osp.join(top_data_dir, 'Point_Clouds/Shape_Net/Splits/single_class_splits/03001627/85_5_10/val.txt')\n",
    "test_split = osp.join(top_data_dir, 'Point_Clouds/Shape_Net/Splits/single_class_splits/03001627/85_5_10/test.txt')"
   ]
  },
  {
   "cell_type": "code",
   "execution_count": 6,
   "metadata": {
    "collapsed": true
   },
   "outputs": [],
   "source": [
    "do_training = True\n",
    "load_pretrained_model = False\n",
    "load_epoch = None\n",
    "random_seed = 42\n",
    "splitter = Data_Splitter(top_pclouds_path, data_file_ending='.ply', random_seed=random_seed)"
   ]
  },
  {
   "cell_type": "code",
   "execution_count": 7,
   "metadata": {
    "collapsed": false
   },
   "outputs": [],
   "source": [
    "bneck_size = 32\n",
    "loss = 'chamfer'"
   ]
  },
  {
   "cell_type": "code",
   "execution_count": 20,
   "metadata": {
    "collapsed": false
   },
   "outputs": [
    {
     "name": "stdout",
     "output_type": "stream",
     "text": [
      "5761 pclouds were loaded. They belong in 1 shape-classes.\n",
      "338 pclouds were loaded. They belong in 1 shape-classes.\n",
      "679 pclouds were loaded. They belong in 1 shape-classes.\n"
     ]
    }
   ],
   "source": [
    "tr_files = splitter.load_splits(train_split)\n",
    "pclouds, model_ids, syn_ids = load_point_clouds_from_filenames(tr_files, n_threads=20, loader=snc_loader, verbose=True)\n",
    "train_data = PointCloudDataSet(pclouds, labels=syn_ids + '_' + model_ids)\n",
    "\n",
    "val_files = splitter.load_splits(val_split)\n",
    "pclouds, model_ids, syn_ids = load_point_clouds_from_filenames(val_files, n_threads=20, loader=snc_loader, verbose=True)\n",
    "val_data = PointCloudDataSet(pclouds, labels=syn_ids + '_' + model_ids)\n",
    "\n",
    "test_files = splitter.load_splits(test_split)\n",
    "pclouds, model_ids, syn_ids = load_point_clouds_from_filenames(test_files, n_threads=20, loader=snc_loader, verbose=True)\n",
    "val_data = PointCloudDataSet(pclouds, labels=syn_ids + '_' + model_ids)"
   ]
  },
  {
   "cell_type": "code",
   "execution_count": 43,
   "metadata": {
    "collapsed": false
   },
   "outputs": [],
   "source": [
    "b_norm = False\n",
    "\n",
    "encoder_args = {'n_filters': [64, 128, 128, 256],\n",
    "                'filter_sizes': [16, 8, 8, 5],\n",
    "                'strides': [2, 2, 1, 1],\n",
    "                'b_norm': b_norm,\n",
    "                }\n",
    "\n",
    "decoder_args = {'layer_sizes': [bneck_size, 512, 1024, n_pc_points*3], 'b_norm': b_norm}"
   ]
  },
  {
   "cell_type": "code",
   "execution_count": 45,
   "metadata": {
    "collapsed": false
   },
   "outputs": [
    {
     "data": {
      "text/plain": [
       "'/orions4-zfs/projects/optas/DATA/OUT/iclr/nn_models/testing_ae_settings/chair_exp_neighborhood_size_v_1_4096_pts_bneck_32_chamfer'"
      ]
     },
     "execution_count": 45,
     "metadata": {},
     "output_type": "execute_result"
    }
   ],
   "source": [
    "#OUT DIR to save models\n",
    "v = 1\n",
    "v = str(v)\n",
    "experiment_id = 'neighborhood_size_v_' + v\n",
    "experiment_name = '_'.join(['chair', 'exp', experiment_id, str(n_pc_points),\n",
    "                            'pts_bneck', str(bneck_size), loss\n",
    "                           ])\n",
    "\n",
    "train_dir = osp.join(top_data_dir, 'OUT/iclr/nn_models/testing_ae_settings', experiment_name)\n",
    "create_dir(train_dir)"
   ]
  },
  {
   "cell_type": "code",
   "execution_count": 46,
   "metadata": {
    "collapsed": false
   },
   "outputs": [],
   "source": [
    "if load_pretrained_model:\n",
    "    conf = Conf.load(osp.join(train_dir, 'configuration'))\n",
    "    print conf\n",
    "    if conf.train_dir != train_dir:\n",
    "        conf.train_dir = train_dir\n",
    "    conf.save(osp.join(train_dir, 'configuration'))\n",
    "else:\n",
    "    conf = Conf(\n",
    "                n_input = [n_pc_points, 3],\n",
    "                loss = loss,\n",
    "                training_epochs = 100,\n",
    "                batch_size = 50,\n",
    "                denoising = False,\n",
    "                learning_rate = 0.0005,\n",
    "                train_dir = train_dir,             \n",
    "                loss_display_step = 1,\n",
    "                saver_step = 10,  # save every 10 epochs\n",
    "                z_rotate = False,\n",
    "                encoder = encoder_with_convs_and_symmetry, \n",
    "                decoder = decoder_with_fc_only,\n",
    "                encoder_args = encoder_args,\n",
    "                decoder_args = decoder_args\n",
    "               )\n",
    "    \n",
    "    conf.experiment_name = experiment_name\n",
    "    conf.held_out_step = 5\n",
    "    conf.save(osp.join(conf.train_dir, 'configuration'))"
   ]
  },
  {
   "cell_type": "code",
   "execution_count": 47,
   "metadata": {
    "collapsed": false
   },
   "outputs": [
    {
     "name": "stdout",
     "output_type": "stream",
     "text": [
      "[64, 128, 128, 256]\n",
      "[16, 8, 8, 5]\n",
      "[2, None, 2, None]\n",
      "Tensor(\"chair_exp_neighborhood_size_v_1_4096_pts_bneck_32_chamfer_1/AvgPool1D/Squeeze:0\", shape=(?, 1024, 64), dtype=float32) 65536\n",
      "Tensor(\"chair_exp_neighborhood_size_v_1_4096_pts_bneck_32_chamfer_1/Relu_1:0\", shape=(?, 512, 128), dtype=float32) 65536\n",
      "Tensor(\"chair_exp_neighborhood_size_v_1_4096_pts_bneck_32_chamfer_1/AvgPool1D_1/Squeeze:0\", shape=(?, 256, 128), dtype=float32) 32768\n",
      "Tensor(\"chair_exp_neighborhood_size_v_1_4096_pts_bneck_32_chamfer_1/Relu_3:0\", shape=(?, 256, 256), dtype=float32) 65536\n",
      "Tensor(\"chair_exp_neighborhood_size_v_1_4096_pts_bneck_32_chamfer_1/Max:0\", shape=(?, 256), dtype=float32) 256\n",
      "13514016\n"
     ]
    }
   ],
   "source": [
    "reset_tf_graph()\n",
    "ae = PointNetAutoEncoder(conf.experiment_name, conf)\n",
    "print ae.trainable_parameters()"
   ]
  },
  {
   "cell_type": "code",
   "execution_count": 48,
   "metadata": {
    "collapsed": false,
    "scrolled": false
   },
   "outputs": [
    {
     "name": "stdout",
     "output_type": "stream",
     "text": [
      "('Epoch:', '0001', 'training time (minutes)=', '0.0671', 'loss=', '0.006659985')\n",
      "('Epoch:', '0002', 'training time (minutes)=', '0.0641', 'loss=', '0.003197135')\n",
      "('Epoch:', '0003', 'training time (minutes)=', '0.0649', 'loss=', '0.003309099')\n",
      "('Epoch:', '0004', 'training time (minutes)=', '0.0651', 'loss=', '0.003315851')\n",
      "('Epoch:', '0005', 'training time (minutes)=', '0.0660', 'loss=', '0.003068441')\n",
      "('Held Out Data :', 'forward time (minutes)=', '0.0034', 'loss=', '0.002471049')\n",
      "('Epoch:', '0006', 'training time (minutes)=', '0.0649', 'loss=', '0.002694160')\n",
      "('Epoch:', '0007', 'training time (minutes)=', '0.0647', 'loss=', '0.002723398')\n",
      "('Epoch:', '0008', 'training time (minutes)=', '0.0648', 'loss=', '0.002392891')\n",
      "('Epoch:', '0009', 'training time (minutes)=', '0.0662', 'loss=', '0.002083382')\n",
      "('Epoch:', '0010', 'training time (minutes)=', '0.0656', 'loss=', '0.001965301')\n",
      "('Held Out Data :', 'forward time (minutes)=', '0.0031', 'loss=', '0.001821794')\n",
      "('Epoch:', '0011', 'training time (minutes)=', '0.0647', 'loss=', '0.001768962')\n",
      "('Epoch:', '0012', 'training time (minutes)=', '0.0647', 'loss=', '0.001688638')\n",
      "('Epoch:', '0013', 'training time (minutes)=', '0.0651', 'loss=', '0.001606205')\n",
      "('Epoch:', '0014', 'training time (minutes)=', '0.0647', 'loss=', '0.001560785')\n",
      "('Epoch:', '0015', 'training time (minutes)=', '0.0651', 'loss=', '0.001480699')\n",
      "('Held Out Data :', 'forward time (minutes)=', '0.0027', 'loss=', '0.001399403')\n",
      "('Epoch:', '0016', 'training time (minutes)=', '0.0651', 'loss=', '0.001499272')\n",
      "('Epoch:', '0017', 'training time (minutes)=', '0.0652', 'loss=', '0.001493132')\n",
      "('Epoch:', '0018', 'training time (minutes)=', '0.0652', 'loss=', '0.001450409')\n",
      "('Epoch:', '0019', 'training time (minutes)=', '0.0668', 'loss=', '0.001396510')\n",
      "('Epoch:', '0020', 'training time (minutes)=', '0.0663', 'loss=', '0.001356905')\n",
      "('Held Out Data :', 'forward time (minutes)=', '0.0028', 'loss=', '0.001236177')\n",
      "('Epoch:', '0021', 'training time (minutes)=', '0.0661', 'loss=', '0.001362185')\n",
      "('Epoch:', '0022', 'training time (minutes)=', '0.0656', 'loss=', '0.001292526')\n",
      "('Epoch:', '0023', 'training time (minutes)=', '0.0653', 'loss=', '0.001310290')\n",
      "('Epoch:', '0024', 'training time (minutes)=', '0.0660', 'loss=', '0.001289909')\n",
      "('Epoch:', '0025', 'training time (minutes)=', '0.0657', 'loss=', '0.001236814')\n",
      "('Held Out Data :', 'forward time (minutes)=', '0.0026', 'loss=', '0.001231531')\n",
      "('Epoch:', '0026', 'training time (minutes)=', '0.0651', 'loss=', '0.001697808')\n",
      "('Epoch:', '0027', 'training time (minutes)=', '0.0653', 'loss=', '0.001639731')\n",
      "('Epoch:', '0028', 'training time (minutes)=', '0.0679', 'loss=', '0.001382828')\n",
      "('Epoch:', '0029', 'training time (minutes)=', '0.0678', 'loss=', '0.001295805')\n",
      "('Epoch:', '0030', 'training time (minutes)=', '0.0676', 'loss=', '0.001242863')\n",
      "('Held Out Data :', 'forward time (minutes)=', '0.0027', 'loss=', '0.001149019')\n",
      "('Epoch:', '0031', 'training time (minutes)=', '0.0668', 'loss=', '0.001241475')\n",
      "('Epoch:', '0032', 'training time (minutes)=', '0.0699', 'loss=', '0.001224394')\n",
      "('Epoch:', '0033', 'training time (minutes)=', '0.0667', 'loss=', '0.001228205')\n",
      "('Epoch:', '0034', 'training time (minutes)=', '0.0652', 'loss=', '0.001171686')\n",
      "('Epoch:', '0035', 'training time (minutes)=', '0.0684', 'loss=', '0.001146088')\n",
      "('Held Out Data :', 'forward time (minutes)=', '0.0029', 'loss=', '0.001035552')\n",
      "('Epoch:', '0036', 'training time (minutes)=', '0.0662', 'loss=', '0.001104887')\n",
      "('Epoch:', '0037', 'training time (minutes)=', '0.0664', 'loss=', '0.001087793')\n",
      "('Epoch:', '0038', 'training time (minutes)=', '0.0667', 'loss=', '0.001061263')\n",
      "('Epoch:', '0039', 'training time (minutes)=', '0.0680', 'loss=', '0.001071705')\n",
      "('Epoch:', '0040', 'training time (minutes)=', '0.0670', 'loss=', '0.001037426')\n",
      "('Held Out Data :', 'forward time (minutes)=', '0.0029', 'loss=', '0.001005788')\n",
      "('Epoch:', '0041', 'training time (minutes)=', '0.0670', 'loss=', '0.001040186')\n",
      "('Epoch:', '0042', 'training time (minutes)=', '0.0675', 'loss=', '0.001005039')\n",
      "('Epoch:', '0043', 'training time (minutes)=', '0.0653', 'loss=', '0.000997450')\n",
      "('Epoch:', '0044', 'training time (minutes)=', '0.0694', 'loss=', '0.000984757')\n",
      "('Epoch:', '0045', 'training time (minutes)=', '0.0664', 'loss=', '0.001037520')\n",
      "('Held Out Data :', 'forward time (minutes)=', '0.0027', 'loss=', '0.001809132')\n",
      "('Epoch:', '0046', 'training time (minutes)=', '0.0659', 'loss=', '0.001114023')\n",
      "('Epoch:', '0047', 'training time (minutes)=', '0.0690', 'loss=', '0.001031294')\n",
      "('Epoch:', '0048', 'training time (minutes)=', '0.0659', 'loss=', '0.001025467')\n",
      "('Epoch:', '0049', 'training time (minutes)=', '0.0655', 'loss=', '0.000978162')\n",
      "('Epoch:', '0050', 'training time (minutes)=', '0.0689', 'loss=', '0.000956998')\n",
      "('Held Out Data :', 'forward time (minutes)=', '0.0026', 'loss=', '0.000896296')\n",
      "('Epoch:', '0051', 'training time (minutes)=', '0.0662', 'loss=', '0.000959079')\n",
      "('Epoch:', '0052', 'training time (minutes)=', '0.0685', 'loss=', '0.000954961')\n",
      "('Epoch:', '0053', 'training time (minutes)=', '0.0653', 'loss=', '0.000940498')\n",
      "('Epoch:', '0054', 'training time (minutes)=', '0.0672', 'loss=', '0.000918039')\n",
      "('Epoch:', '0055', 'training time (minutes)=', '0.0668', 'loss=', '0.000927775')\n",
      "('Held Out Data :', 'forward time (minutes)=', '0.0029', 'loss=', '0.000917932')\n",
      "('Epoch:', '0056', 'training time (minutes)=', '0.0668', 'loss=', '0.000901875')\n",
      "('Epoch:', '0057', 'training time (minutes)=', '0.0662', 'loss=', '0.000894809')\n",
      "('Epoch:', '0058', 'training time (minutes)=', '0.0688', 'loss=', '0.000863305')\n",
      "('Epoch:', '0059', 'training time (minutes)=', '0.0664', 'loss=', '0.000853931')\n",
      "('Epoch:', '0060', 'training time (minutes)=', '0.0670', 'loss=', '0.000862539')\n",
      "('Held Out Data :', 'forward time (minutes)=', '0.0032', 'loss=', '0.000869662')\n",
      "('Epoch:', '0061', 'training time (minutes)=', '0.0674', 'loss=', '0.000869127')\n",
      "('Epoch:', '0062', 'training time (minutes)=', '0.0678', 'loss=', '0.000863614')\n",
      "('Epoch:', '0063', 'training time (minutes)=', '0.0696', 'loss=', '0.000866796')\n",
      "('Epoch:', '0064', 'training time (minutes)=', '0.0671', 'loss=', '0.000836274')\n",
      "('Epoch:', '0065', 'training time (minutes)=', '0.0700', 'loss=', '0.000831482')\n",
      "('Held Out Data :', 'forward time (minutes)=', '0.0027', 'loss=', '0.000839062')\n",
      "('Epoch:', '0066', 'training time (minutes)=', '0.0648', 'loss=', '0.000831679')\n",
      "('Epoch:', '0067', 'training time (minutes)=', '0.0662', 'loss=', '0.000831008')\n",
      "('Epoch:', '0068', 'training time (minutes)=', '0.0655', 'loss=', '0.000822459')\n",
      "('Epoch:', '0069', 'training time (minutes)=', '0.0672', 'loss=', '0.000825438')\n",
      "('Epoch:', '0070', 'training time (minutes)=', '0.0662', 'loss=', '0.000809138')\n",
      "('Held Out Data :', 'forward time (minutes)=', '0.0029', 'loss=', '0.000844368')\n",
      "('Epoch:', '0071', 'training time (minutes)=', '0.0696', 'loss=', '0.000797852')\n",
      "('Epoch:', '0072', 'training time (minutes)=', '0.0667', 'loss=', '0.000796055')\n",
      "('Epoch:', '0073', 'training time (minutes)=', '0.0668', 'loss=', '0.000816754')\n",
      "('Epoch:', '0074', 'training time (minutes)=', '0.0691', 'loss=', '0.000787662')\n",
      "('Epoch:', '0075', 'training time (minutes)=', '0.0651', 'loss=', '0.000774662')\n",
      "('Held Out Data :', 'forward time (minutes)=', '0.0027', 'loss=', '0.000804024')\n",
      "('Epoch:', '0076', 'training time (minutes)=', '0.0699', 'loss=', '0.000775544')\n",
      "('Epoch:', '0077', 'training time (minutes)=', '0.0676', 'loss=', '0.000764737')\n",
      "('Epoch:', '0078', 'training time (minutes)=', '0.0665', 'loss=', '0.000763889')\n",
      "('Epoch:', '0079', 'training time (minutes)=', '0.0691', 'loss=', '0.000774810')\n",
      "('Epoch:', '0080', 'training time (minutes)=', '0.0651', 'loss=', '0.000768368')\n",
      "('Held Out Data :', 'forward time (minutes)=', '0.0028', 'loss=', '0.000813317')\n",
      "('Epoch:', '0081', 'training time (minutes)=', '0.0682', 'loss=', '0.000766540')\n",
      "('Epoch:', '0082', 'training time (minutes)=', '0.0670', 'loss=', '0.000791417')\n",
      "('Epoch:', '0083', 'training time (minutes)=', '0.0661', 'loss=', '0.000780283')\n",
      "('Epoch:', '0084', 'training time (minutes)=', '0.0680', 'loss=', '0.000759682')\n",
      "('Epoch:', '0085', 'training time (minutes)=', '0.0674', 'loss=', '0.000736734')\n",
      "('Held Out Data :', 'forward time (minutes)=', '0.0029', 'loss=', '0.001436477')\n",
      "('Epoch:', '0086', 'training time (minutes)=', '0.0670', 'loss=', '0.000812811')\n",
      "('Epoch:', '0087', 'training time (minutes)=', '0.0701', 'loss=', '0.000744472')\n",
      "('Epoch:', '0088', 'training time (minutes)=', '0.0685', 'loss=', '0.000733189')\n",
      "('Epoch:', '0089', 'training time (minutes)=', '0.0661', 'loss=', '0.000720032')\n",
      "('Epoch:', '0090', 'training time (minutes)=', '0.0662', 'loss=', '0.000734160')\n",
      "('Held Out Data :', 'forward time (minutes)=', '0.0032', 'loss=', '0.000787558')\n",
      "('Epoch:', '0091', 'training time (minutes)=', '0.0656', 'loss=', '0.000713425')\n",
      "('Epoch:', '0092', 'training time (minutes)=', '0.0682', 'loss=', '0.000706169')\n",
      "('Epoch:', '0093', 'training time (minutes)=', '0.0691', 'loss=', '0.000702967')\n",
      "('Epoch:', '0094', 'training time (minutes)=', '0.0690', 'loss=', '0.000711192')\n",
      "('Epoch:', '0095', 'training time (minutes)=', '0.0676', 'loss=', '0.000717368')\n",
      "('Held Out Data :', 'forward time (minutes)=', '0.0028', 'loss=', '0.000777610')\n",
      "('Epoch:', '0096', 'training time (minutes)=', '0.0692', 'loss=', '0.000699065')\n",
      "('Epoch:', '0097', 'training time (minutes)=', '0.0660', 'loss=', '0.000709115')\n",
      "('Epoch:', '0098', 'training time (minutes)=', '0.0673', 'loss=', '0.000674258')\n",
      "('Epoch:', '0099', 'training time (minutes)=', '0.0660', 'loss=', '0.000687207')\n",
      "('Epoch:', '0100', 'training time (minutes)=', '0.0690', 'loss=', '0.000680628')\n",
      "('Held Out Data :', 'forward time (minutes)=', '0.0027', 'loss=', '0.000747262')\n"
     ]
    }
   ],
   "source": [
    "if do_training:\n",
    "    buf_size = 1 # flush each line\n",
    "    fout = open(osp.join(conf.train_dir, 'train_stats.txt'), 'a', buf_size)    \n",
    "    train_stats = ae.train(train_data, conf, log_file=fout, held_out_data=val_data)\n",
    "    fout.close()"
   ]
  },
  {
   "cell_type": "code",
   "execution_count": null,
   "metadata": {
    "collapsed": true
   },
   "outputs": [],
   "source": [
    "lala = ae.reconstruct(\"give_input\")\n",
    "Point_Clouds(\"lala=2048x3 points\").plot()  # to see."
   ]
  }
 ],
 "metadata": {
  "kernelspec": {
   "display_name": "Python 2",
   "language": "python",
   "name": "python2"
  },
  "language_info": {
   "codemirror_mode": {
    "name": "ipython",
    "version": 2
   },
   "file_extension": ".py",
   "mimetype": "text/x-python",
   "name": "python",
   "nbconvert_exporter": "python",
   "pygments_lexer": "ipython2",
   "version": "2.7.6"
  }
 },
 "nbformat": 4,
 "nbformat_minor": 0
}
