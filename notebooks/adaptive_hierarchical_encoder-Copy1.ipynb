{
 "cells": [
  {
   "cell_type": "code",
   "execution_count": 1,
   "metadata": {
    "collapsed": false
   },
   "outputs": [
    {
     "name": "stdout",
     "output_type": "stream",
     "text": [
      "Picking GPU 3\n"
     ]
    }
   ],
   "source": [
    "from general_tools.notebook.gpu_utils import setup_one_gpu\n",
    "GPU = 3\n",
    "setup_one_gpu(GPU)"
   ]
  },
  {
   "cell_type": "code",
   "execution_count": 2,
   "metadata": {
    "collapsed": false
   },
   "outputs": [],
   "source": [
    "import sys\n",
    "import numpy as np\n",
    "import os.path as osp\n",
    "import tensorflow as tf\n",
    "import matplotlib.pyplot as plt\n",
    "from functools import partial\n",
    "\n",
    "from general_tools.notebook.tf import reset_tf_graph\n",
    "from general_tools.in_out import create_dir\n",
    "from general_tools.in_out.basics import create_dir, delete_files_in_directory, files_in_subdirs\n",
    "\n",
    "from geo_tool import Point_Cloud\n",
    "\n",
    "from tf_lab.in_out.basics import Data_Splitter\n",
    "from tf_lab.point_clouds.ae_templates import mlp_architecture_ala_iclr_18, default_train_params\n",
    "\n",
    "from tf_lab.point_clouds.autoencoder import Configuration as Conf\n",
    "from tf_lab.point_clouds.point_net_ae import PointNetAutoEncoder\n",
    "\n",
    "from tf_lab.point_clouds.in_out import load_point_clouds_from_filenames, PointCloudDataSet\n",
    "from tf_lab.data_sets.shape_net import pc_loader as snc_loader\n",
    "from tf_lab.data_sets.shape_net import snc_category_to_synth_id\n",
    "\n",
    "from tf_lab.iclr.helper import load_multiple_version_of_pcs, find_best_validation_epoch_from_train_stats"
   ]
  },
  {
   "cell_type": "code",
   "execution_count": 3,
   "metadata": {
    "collapsed": true
   },
   "outputs": [],
   "source": [
    "import tensorflow as tf\n",
    "import numpy as np\n",
    "import warnings\n",
    "\n",
    "from tflearn.layers.core import fully_connected, dropout\n",
    "from tflearn.layers.conv import conv_1d, avg_pool_1d, highway_conv_1d\n",
    "from tflearn.layers.normalization import batch_normalization\n",
    "from tflearn.layers.core import fully_connected\n",
    "\n",
    "from tf_lab.fundamentals.layers import conv_1d_tranpose\n",
    "from tf_lab.fundamentals.utils import expand_scope_by_name, replicate_parameter_for_all_layers"
   ]
  },
  {
   "cell_type": "code",
   "execution_count": 4,
   "metadata": {
    "collapsed": true
   },
   "outputs": [],
   "source": [
    "%load_ext autoreload\n",
    "%autoreload 2\n",
    "%matplotlib inline"
   ]
  },
  {
   "cell_type": "code",
   "execution_count": 5,
   "metadata": {
    "collapsed": true
   },
   "outputs": [],
   "source": [
    "dropout = tf.nn.dropout\n",
    "# from tflearn.layers.core import fully_connected, dropout\n"
   ]
  },
  {
   "cell_type": "code",
   "execution_count": 6,
   "metadata": {
    "collapsed": false
   },
   "outputs": [
    {
     "name": "stdout",
     "output_type": "stream",
     "text": [
      "Give me the class type: chair\n"
     ]
    }
   ],
   "source": [
    "top_data_dir = '/orions4-zfs/projects/optas/DATA/'\n",
    "# experiment_tag = 'mlp_with_split_1pc_usampled_bnorm_on_encoder_only'\n",
    "loss = 'chamfer'\n",
    "n_pc_points = 2048\n",
    "random_seed = 42\n",
    "# bneck_list = [128]\n",
    "class_name = raw_input('Give me the class type: ').lower()"
   ]
  },
  {
   "cell_type": "code",
   "execution_count": 7,
   "metadata": {
    "collapsed": false
   },
   "outputs": [
    {
     "name": "stdout",
     "output_type": "stream",
     "text": [
      "679 pclouds were loaded. They belong in 1 shape-classes.\n",
      "5761 pclouds were loaded. They belong in 1 shape-classes.\n",
      "338 pclouds were loaded. They belong in 1 shape-classes.\n"
     ]
    }
   ],
   "source": [
    "syn_id = snc_category_to_synth_id()[class_name]\n",
    "in_data = load_multiple_version_of_pcs('uniform_one', syn_id, n_classes=1, n_pc_points=2048)"
   ]
  },
  {
   "cell_type": "code",
   "execution_count": 61,
   "metadata": {
    "collapsed": true
   },
   "outputs": [],
   "source": [
    "def adaptive_hierarchical_encoder(in_signal, n_filters=[64, 128, 256, 1024], filter_sizes=[1], strides=[1],\n",
    "                                        b_norm=True, spn=False, non_linearity=tf.nn.relu, regularizer=None, weight_decay=0.001,\n",
    "                                        symmetry=tf.reduce_max, dropout_prob=None, pool=avg_pool_1d, pool_sizes=None, scope=None,\n",
    "                                        reuse=False, padding='same', verbose=False, closing=None, conv_op=conv_1d):\n",
    "    '''An Encoder (recognition network), which maps inputs onto a latent space.\n",
    "    '''\n",
    "\n",
    "    if verbose:\n",
    "        print 'Building Encoder'\n",
    "\n",
    "    n_pc_points = int(in_signal.shape[1])\n",
    "#     batch_size = tf.shape(in_signal)[0]\n",
    "    batch_size = 50\n",
    "    \n",
    "    print batch_size\n",
    "        \n",
    "    n_layers = len(n_filters)\n",
    "    filter_sizes = replicate_parameter_for_all_layers(filter_sizes, n_layers)\n",
    "    strides = replicate_parameter_for_all_layers(strides, n_layers)\n",
    "#     dropout_prob = replicate_parameter_for_all_layers(dropout_prob, n_layers)\n",
    "\n",
    "    if n_layers < 2:\n",
    "        raise ValueError('More than 1 layers are expected.')\n",
    "\n",
    "    if spn:\n",
    "        transformer = pcloud_spn(in_signal)\n",
    "        in_signal = tf.batch_matmul(in_signal, transformer)\n",
    "        print 'Spatial transformer was activated.'\n",
    "    \n",
    "    covariances = []\n",
    "    for i in xrange(n_layers):\n",
    "        if i == 0:\n",
    "            layer = in_signal\n",
    "\n",
    "        name = 'encoder_conv_layer_' + str(i)\n",
    "        scope_i = expand_scope_by_name(scope, name)\n",
    "        layer = conv_op(layer, nb_filter=n_filters[i], filter_size=filter_sizes[i], strides=strides[i], regularizer=regularizer,\n",
    "                        weight_decay=weight_decay, name=name, reuse=reuse, scope=scope_i, padding=padding)\n",
    "        \n",
    "        if verbose:\n",
    "            print name, 'conv params = ', np.prod(layer.W.get_shape().as_list()) + np.prod(layer.b.get_shape().as_list()),\n",
    "\n",
    "        if b_norm:\n",
    "            name += '_bnorm'\n",
    "            scope_i = expand_scope_by_name(scope, name)\n",
    "            layer = batch_normalization(layer, name=name, reuse=reuse, scope=scope_i)\n",
    "            if verbose:\n",
    "                print 'bnorm params = ', np.prod(layer.beta.get_shape().as_list()) + np.prod(layer.gamma.get_shape().as_list())\n",
    "\n",
    "        if non_linearity is not None:\n",
    "            layer = non_linearity(layer)\n",
    "\n",
    "        if pool is not None and pool_sizes is not None:\n",
    "            if pool_sizes[i] is not None:\n",
    "                layer = pool(layer, kernel_size=pool_sizes[i])\n",
    "\n",
    "        cov_layer_i = tf.matmul(layer, layer, transpose_b=True)\n",
    "        cov_layer_i = tf.nn.softmax(cov_layer_i, dim=1, name=\"soft-max-coupling\")\n",
    "#         cov_layer_i = tf.expand_dims(cov_layer_i, 0)\n",
    "#         cov_layer_i = tf.tile(cov_layer_i, [batch_size, 1, 1])\n",
    "        layer = tf.matmul(cov_layer_i, layer)\n",
    "#         print layer \n",
    "        \n",
    "    \n",
    "        if dropout_prob is not None and dropout_prob[i] != 0:\n",
    "            layer = dropout(layer, 1.0 - dropout_prob[i])\n",
    "\n",
    "        if verbose:\n",
    "            print layer\n",
    "            print 'output size:', np.prod(layer.get_shape().as_list()[1:]), '\\n'\n",
    "\n",
    "    if symmetry is not None:\n",
    "        layer = symmetry(layer, axis=1)\n",
    "        if verbose:\n",
    "            print layer\n",
    "\n",
    "    if closing is not None:\n",
    "        layer = closing(layer)\n",
    "        print layer\n",
    "    \n",
    "    return layer"
   ]
  },
  {
   "cell_type": "code",
   "execution_count": 66,
   "metadata": {
    "collapsed": true
   },
   "outputs": [],
   "source": [
    "conv_op = conv_1d\n",
    "n_filters = [32, 32, 64]\n",
    "filter_sizes = [1]\n",
    "strides = [1]\n",
    "bneck = 128\n",
    "encoder, decoder, enc_args, dec_args = mlp_architecture_ala_iclr_18(n_pc_points, bneck)\n",
    "\n",
    "enc_args = {'n_filters': n_filters}\n",
    "# in_signal = tf.placeholder(tf.float32, shape=(None, 2048, 3))"
   ]
  },
  {
   "cell_type": "code",
   "execution_count": 38,
   "metadata": {
    "collapsed": true
   },
   "outputs": [],
   "source": [
    "# Try 32-32-32-32: to also be de-corelated"
   ]
  },
  {
   "cell_type": "code",
   "execution_count": 67,
   "metadata": {
    "collapsed": false
   },
   "outputs": [
    {
     "name": "stdout",
     "output_type": "stream",
     "text": [
      "                    batch_size: 50\n",
      "                 consistent_io: None\n",
      "                         debug: False\n",
      "                       decoder: decoder_with_fc_only\n",
      "                  decoder_args: {'b_norm_finish': False, 'verbose': True, 'b_norm': False, 'layer_sizes': [256, 256, 6144]}\n",
      "                       encoder: adaptive_hierarchical_encoder\n",
      "                  encoder_args: {'n_filters': [32, 32, 64]}\n",
      "                 gauss_augment: None\n",
      "                  is_denoising: False\n",
      "               latent_vs_recon: 1.0\n",
      "                 learning_rate: 0.0005\n",
      "                          loss: chamfer\n",
      "             loss_display_step: 1\n",
      "                       n_input: [2048, 3]\n",
      "                      n_output: [2048, 3]\n",
      "                           n_z: None\n",
      "             saver_max_to_keep: None\n",
      "                    saver_step: 10\n",
      "                     train_dir: /orions4-zfs/projects/optas/DATA/OUT/temp/1\n",
      "               training_epochs: 500\n",
      "                      z_rotate: False\n",
      "\n",
      "50\n",
      "Building Decoder\n",
      "decoder_fc_0 FC params =  16640 Tensor(\"experiment_1_2/Relu_3:0\", shape=(?, 256), dtype=float32)\n",
      "output size: 256 \n",
      "\n",
      "decoder_fc_1 FC params =  65792 Tensor(\"experiment_1_2/Relu_4:0\", shape=(?, 256), dtype=float32)\n",
      "output size: 256 \n",
      "\n",
      "decoder_fc_2 FC params =  1579008 Tensor(\"experiment_1_2/decoder_fc_2/BiasAdd:0\", shape=(?, 6144), dtype=float32)\n",
      "output size: 6144 \n",
      "\n"
     ]
    }
   ],
   "source": [
    "train_params = default_train_params()\n",
    "# experiment_id = '_'.join(['ae', class_name, experiment_tag, str(n_pc_points), 'pts', str(bneck), 'bneck', loss])\n",
    "experiment_id = '1'\n",
    "train_dir = osp.join(top_data_dir, 'OUT/temp/', experiment_id)\n",
    "create_dir(train_dir)\n",
    "\n",
    "reset_tf_graph()\n",
    "\n",
    "conf = Conf(n_input = [n_pc_points, 3],\n",
    "            loss = loss,\n",
    "            training_epochs = 500,\n",
    "            batch_size = train_params['batch_size'],\n",
    "            denoising = False,\n",
    "            learning_rate = 0.0005,\n",
    "            train_dir = train_dir,\n",
    "            loss_display_step = 1,\n",
    "            saver_step = train_params['saver_step'],\n",
    "            z_rotate = False,\n",
    "            encoder = adaptive_hierarchical_encoder,\n",
    "            decoder = decoder,\n",
    "            encoder_args = enc_args,\n",
    "            decoder_args = dec_args\n",
    "           )\n",
    "print conf\n",
    "conf.experiment_name = 'experiment_' + str(experiment_id)\n",
    "conf.held_out_step = 5\n",
    "conf.save(osp.join(train_dir, 'configuration'))\n",
    "ae = PointNetAutoEncoder(conf.experiment_name, conf)"
   ]
  },
  {
   "cell_type": "code",
   "execution_count": 68,
   "metadata": {
    "collapsed": false
   },
   "outputs": [
    {
     "data": {
      "text/plain": [
       "1664992"
      ]
     },
     "execution_count": 68,
     "metadata": {},
     "output_type": "execute_result"
    }
   ],
   "source": [
    "ae.trainable_parameters()"
   ]
  },
  {
   "cell_type": "code",
   "execution_count": null,
   "metadata": {
    "collapsed": false
   },
   "outputs": [],
   "source": [
    "buf_size = 1 # flush each line\n",
    "fout = open(osp.join(conf.train_dir, 'train_stats.txt'), 'a', buf_size)\n",
    "train_stats = ae.train(in_data['train'], conf, log_file=fout, held_out_data=in_data['val'])\n",
    "fout.close()"
   ]
  },
  {
   "cell_type": "code",
   "execution_count": 64,
   "metadata": {
    "collapsed": false
   },
   "outputs": [
    {
     "data": {
      "image/png": "[encoded data removed]",
      "text/plain": [
       "<matplotlib.figure.Figure at 0x7ff0dec47310>"
      ]
     },
     "metadata": {},
     "output_type": "display_data"
    },
    {
     "data": {
      "image/png": "[encoded data removed]",
      "text/plain": [
       "<matplotlib.figure.Figure at 0x7ff0dec47310>"
      ]
     },
     "execution_count": 64,
     "metadata": {},
     "output_type": "execute_result"
    }
   ],
   "source": [
    "# Point_Cloud(ae.reconstruct(in_data['test'].next_batch(1)[0])[0][0]).plot()"
   ]
  },
  {
   "cell_type": "code",
   "execution_count": null,
   "metadata": {
    "collapsed": false
   },
   "outputs": [],
   "source": [
    "# g = tf.get_default_graph()\n",
    "# g.get_all_collection_keys()\n",
    "# v = g.get_collection('trainable_variables')[0]"
   ]
  },
  {
   "cell_type": "code",
   "execution_count": 41,
   "metadata": {
    "collapsed": false
   },
   "outputs": [],
   "source": [
    "lala = ae.sess.run(tf.nn.softmax(v, dim=1), feed_dict={ae.x:in_data['train'].next_batch(50)[0]})\n",
    "np.sum(lala, axis=1)"
   ]
  },
  {
   "cell_type": "code",
   "execution_count": 42,
   "metadata": {
    "collapsed": false
   },
   "outputs": [
    {
     "name": "stdout",
     "output_type": "stream",
     "text": [
      "50\n"
     ]
    }
   ],
   "source": [
    "in_signal = tf.placeholder(tf.float32, [None, 2048, 3])\n",
    "out = adaptive_hierarchical_encoder(in_signal, n_filters=n_filters, filter_sizes=[1], strides=[1],\n",
    "                              b_norm=True, spn=False, non_linearity=tf.nn.relu, regularizer=None, weight_decay=0.001,\n",
    "                              symmetry=tf.reduce_max, dropout_prob=None, pool=avg_pool_1d, pool_sizes=None, scope=None,\n",
    "                              reuse=False, padding='same', verbose=False, closing=None, conv_op=conv_1d)"
   ]
  },
  {
   "cell_type": "code",
   "execution_count": 43,
   "metadata": {
    "collapsed": false
   },
   "outputs": [
    {
     "data": {
      "text/plain": [
       "<tf.Tensor 'Max:0' shape=(?, 128) dtype=float32>"
      ]
     },
     "execution_count": 43,
     "metadata": {},
     "output_type": "execute_result"
    }
   ],
   "source": [
    "out"
   ]
  }
 ],
 "metadata": {
  "kernelspec": {
   "display_name": "TensorFlow1",
   "language": "python",
   "name": "tf1"
  },
  "language_info": {
   "codemirror_mode": {
    "name": "ipython",
    "version": 2
   },
   "file_extension": ".py",
   "mimetype": "text/x-python",
   "name": "python",
   "nbconvert_exporter": "python",
   "pygments_lexer": "ipython2",
   "version": "2.7.6"
  }
 },
 "nbformat": 4,
 "nbformat_minor": 0
}
