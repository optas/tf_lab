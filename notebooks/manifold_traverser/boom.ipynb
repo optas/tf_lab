{
 "cells": [
  {
   "cell_type": "code",
   "execution_count": 1,
   "metadata": {
    "collapsed": false
   },
   "outputs": [
    {
     "name": "stdout",
     "output_type": "stream",
     "text": [
      "Picking GPU 2\n"
     ]
    }
   ],
   "source": [
    "from general_tools.notebook.gpu_utils import setup_one_gpu\n",
    "GPU = 2\n",
    "setup_one_gpu(GPU)"
   ]
  },
  {
   "cell_type": "code",
   "execution_count": 2,
   "metadata": {
    "collapsed": true
   },
   "outputs": [],
   "source": [
    "import sys\n",
    "import time\n",
    "import numpy as np\n",
    "import os.path as osp\n",
    "import tensorflow as tf\n",
    "import matplotlib.pyplot as plt\n",
    "\n",
    "from general_tools.notebook.tf import reset_tf_graph\n",
    "from general_tools.in_out.basics import create_dir, files_in_subdirs\n",
    "\n",
    "from geo_tool import Point_Cloud\n",
    "\n",
    "from tf_lab.point_clouds.point_net_ae import PointNetAutoEncoder\n",
    "from tf_lab.point_clouds.autoencoder import Configuration as Conf\n",
    "from tf_lab.point_clouds.in_out import PointCloudDataSet, load_point_clouds_from_filenames\n",
    "from tf_lab.point_clouds.encoders_decoders import encoder_with_convs_and_symmetry, decoder_with_fc_only,\\\n",
    "encoder_with_convs_and_symmetry_and_fc\n",
    "\n",
    "from tf_lab.in_out.basics import read_saved_epochs\n",
    "from tf_lab.data_sets.articulated_human_poses import pc_loader\n",
    "from tf_lab.point_clouds.convenience import reconstruct_pclouds\n",
    "from tf_lab.data_sets.shape_net import snc_category_to_synth_id, load_all_point_clouds_under_folder"
   ]
  },
  {
   "cell_type": "code",
   "execution_count": 3,
   "metadata": {
    "collapsed": true
   },
   "outputs": [],
   "source": [
    "%load_ext autoreload\n",
    "%autoreload 2\n",
    "%matplotlib inline"
   ]
  },
  {
   "cell_type": "code",
   "execution_count": 4,
   "metadata": {
    "collapsed": false
   },
   "outputs": [],
   "source": [
    "n_pc_points = 2048\n",
    "do_training = True\n",
    "first_time_running = True\n",
    "seed = 42\n",
    "class_name = 'chair'\n",
    "ae_loss = 'emd'\n",
    "top_data_dir = '/orions4-zfs/projects/optas/DATA/'\n",
    "syn_id = snc_category_to_synth_id()[class_name]"
   ]
  },
  {
   "cell_type": "code",
   "execution_count": 5,
   "metadata": {
    "collapsed": false
   },
   "outputs": [],
   "source": [
    "pclouds_path = osp.join(top_data_dir, 'Point_Clouds/Shape_Net/Core/from_manifold_meshes/centered/', str(n_pc_points))\n",
    "pclouds_path = osp.join(pclouds_path, syn_id)\n",
    "pcloud_data = load_all_point_clouds_under_folder(pclouds_path)"
   ]
  },
  {
   "cell_type": "code",
   "execution_count": 9,
   "metadata": {
    "collapsed": false
   },
   "outputs": [
    {
     "name": "stdout",
     "output_type": "stream",
     "text": [
      "                    batch_size: 50\n",
      "                 consistent_io: None\n",
      "                         debug: False\n",
      "                       decoder: decoder_with_fc_only\n",
      "                  decoder_args: {'layer_sizes': [1024, 2048, 6144]}\n",
      "                       encoder: encoder_with_convs_and_symmetry\n",
      "                  encoder_args: {'filter_sizes': [40, 20, 10, 10], 'n_filters': [128, 128, 256, 64], 'strides': [1, 2, 2, 1]}\n",
      "               experiment_name: ae_farm_chair_conv_arch_11_2048pts_emd\n",
      "                 gauss_augment: None\n",
      "                  is_denoising: False\n",
      "               latent_vs_recon: 1.0\n",
      "                 learning_rate: 0.0005\n",
      "                          loss: emd\n",
      "             loss_display_step: 1\n",
      "                       n_input: [2048, 3]\n",
      "                      n_output: [2048, 3]\n",
      "                           n_z: None\n",
      "             saver_max_to_keep: None\n",
      "                    saver_step: 10\n",
      "                     train_dir: /orions4-zfs/projects/optas/DATA/OUT/icml/nn_models/ae_farming/ae_farm_chair_conv_arch_11_2048pts_emd\n",
      "               training_epochs: 1000\n",
      "                      z_rotate: False\n",
      "\n"
     ]
    }
   ],
   "source": [
    "print ae_conf"
   ]
  },
  {
   "cell_type": "code",
   "execution_count": 6,
   "metadata": {
    "collapsed": false
   },
   "outputs": [
    {
     "name": "stdout",
     "output_type": "stream",
     "text": [
      "Model restored in epoch 1000.\n",
      "Bottleneck =  64\n",
      "Loss of reconstructed data  20730.5284926\n"
     ]
    }
   ],
   "source": [
    "# Load AE model\n",
    "ae_id = '11' # 64 bottleneck for emd\n",
    "ae_net_name = 'ae_farm_' + class_name + '_conv_arch_' + ae_id + '_' + str(n_pc_points)\\\n",
    "+ 'pts_' + ae_loss\n",
    "\n",
    "ae_net_dir = osp.join(top_data_dir, 'OUT/icml/nn_models/ae_farming', ae_net_name)\n",
    "ae_conf = Conf.load(osp.join(ae_net_dir, 'configuration'))\n",
    "\n",
    "if ae_conf.train_dir != ae_net_dir:\n",
    "    ae_conf.train_dir = ae_net_dir\n",
    "    ae_conf.save(osp.join(ae_conf.train_dir, 'configuration'))\n",
    "    \n",
    "reset_tf_graph()\n",
    "\n",
    "ae = PointNetAutoEncoder(ae_net_name, ae_conf)\n",
    "saved_epochs = read_saved_epochs(ae_conf.train_dir)\n",
    "# load_epoch = saved_epochs[-1]\n",
    "# ae.restore_model(ae_conf.train_dir, load_epoch, verbose=True)\n",
    "# print 'Bottleneck = ', ae.bottleneck_size\n",
    "# recon_pclouds, loss_val = reconstruct_pclouds(ae, pcloud_data.point_clouds, 100)\n",
    "# print 'Loss of reconstructed data ', loss_val"
   ]
  },
  {
   "cell_type": "code",
   "execution_count": 25,
   "metadata": {
    "collapsed": true
   },
   "outputs": [],
   "source": [
    "_, latent_codes, temp_names = ae.embedding_at_tensor(pcloud_data, ae_conf, tensor_name='bottleneck')\n",
    "assert(np.alltrue(temp_names==pcloud_data.labels))\n",
    "model_ids = np.array([i.split('_')[1] for i in pcloud_data.labels], dtype=object)"
   ]
  },
  {
   "cell_type": "code",
   "execution_count": null,
   "metadata": {
    "collapsed": true
   },
   "outputs": [],
   "source": []
  }
 ],
 "metadata": {
  "kernelspec": {
   "display_name": "Python 2",
   "language": "python",
   "name": "python2"
  },
  "language_info": {
   "codemirror_mode": {
    "name": "ipython",
    "version": 2
   },
   "file_extension": ".py",
   "mimetype": "text/x-python",
   "name": "python",
   "nbconvert_exporter": "python",
   "pygments_lexer": "ipython2",
   "version": "2.7.6"
  }
 },
 "nbformat": 4,
 "nbformat_minor": 2
}
