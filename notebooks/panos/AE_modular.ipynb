{
 "cells": [
  {
   "cell_type": "markdown",
   "metadata": {},
   "source": [
    "## AutoEncoders on PointClouds - Modular Code"
   ]
  },
  {
   "cell_type": "code",
   "execution_count": 1,
   "metadata": {
    "collapsed": false
   },
   "outputs": [],
   "source": [
    "import sys\n",
    "import time\n",
    "import numpy as np\n",
    "import os.path as osp\n",
    "import tensorflow as tf\n",
    "import matplotlib.pyplot as plt\n",
    "\n",
    "import tf_lab.point_clouds.in_out as pio\n",
    "from tf_lab.point_clouds.in_out import PointCloudDataSet\n",
    "\n",
    "from tf_lab.point_clouds.point_net_ae import PointNetAutoEncoder\n",
    "from tf_lab.point_clouds.point_net_ae import Configuration as PN_Conf\n",
    "\n",
    "# import tf_lab.point_clouds.various_encoders_decoders as enc_dec\n",
    "# import tf_lab.models.point_net_based_AE as pnAE\n",
    "\n",
    "from general_tools.in_out import create_dir\n",
    "from geo_tool import Point_Cloud"
   ]
  },
  {
   "cell_type": "code",
   "execution_count": 2,
   "metadata": {
    "collapsed": false
   },
   "outputs": [],
   "source": [
    "%load_ext autoreload\n",
    "%autoreload 2\n",
    "%matplotlib inline\n",
    "\n",
    "seed = None\n",
    "# seed = 42\n",
    "# np.random.seed(seed)\n",
    "# tf.set_random_seed(seed)"
   ]
  },
  {
   "cell_type": "code",
   "execution_count": 3,
   "metadata": {
    "collapsed": false
   },
   "outputs": [
    {
     "data": {
      "text/plain": [
       "'/Users/optas/DATA/Neural_Nets/Models/Point_Cloud_AE/scratch'"
      ]
     },
     "execution_count": 3,
     "metadata": {},
     "output_type": "execute_result"
    }
   ],
   "source": [
    "data_path = '/Users/optas/DATA/Point_Clouds/Shape_Net_Core/from_manifold_meshes/1024/03001627'\n",
    "train_dir = '/Users/optas/DATA/Neural_Nets/Models/Point_Cloud_AE/'\n",
    "\n",
    "experiment_name = 'scratch'\n",
    "train_dir = osp.join(train_dir, experiment_name)\n",
    "\n",
    "create_dir(train_dir)"
   ]
  },
  {
   "cell_type": "code",
   "execution_count": 7,
   "metadata": {
    "collapsed": false
   },
   "outputs": [
    {
     "name": "stdout",
     "output_type": "stream",
     "text": [
      "6778 files containing  point clouds were found.\n"
     ]
    }
   ],
   "source": [
    "file_names = pio.load_filenames_of_input_data(data_path)\n",
    "file_names = file_names[:1000]\n",
    "\n",
    "pclouds, model_names = pio.load_crude_point_clouds(file_names=file_names, n_threads=11)\n",
    "\n",
    "\n",
    "\n",
    "\n",
    "train_data_, val_data_, test_data_ = pio.train_validate_test_split([pclouds, model_names],\n",
    "                                                                   train_perc=0.8,\n",
    "                                                                   validate_perc=0.1,\n",
    "                                                                   test_perc=0.1,\n",
    "                                                                   seed=seed)\n",
    "\n",
    "train_data = PointCloudDataSet(train_data_[0], labels=train_data_[1])\n",
    "val_data = PointCloudDataSet(val_data_[0], labels=val_data_[1])\n",
    "test_data = PointCloudDataSet(test_data_[0], labels=test_data_[1])\n",
    "\n",
    "# train_data = PointCloudDataSet(train_data_[0], noise={'frac':0.20, 'filler':0.0})\n",
    "# val_data = PointCloudDataSet(val_data_[0], noise={'frac':0.20, 'filler':0.0})\n",
    "# test_data = PointCloudDataSet(test_data_[0], noise={'frac':0.20, 'filler':0.0})"
   ]
  },
  {
   "cell_type": "code",
   "execution_count": 1,
   "metadata": {
    "collapsed": false
   },
   "outputs": [],
   "source": [
    "# def reset_graph():\n",
    "#     if 'sess' in globals() and sess:\n",
    "#         sess.close()\n",
    "#     tf.reset_default_graph()\n",
    "\n",
    "\n",
    "# conf = PN_Conf(n_input = [1024, 3],\n",
    "#                training_epochs = 16,\n",
    "#                batch_size = 20,\n",
    "#                loss = 'l2',\n",
    "#                train_dir = train_dir,\n",
    "#                loss_display_step = 1,               \n",
    "#                saver_step = 2,\n",
    "#                learning_rate = 0.0002,\n",
    "#               )\n",
    "\n",
    "# reset_graph()\n",
    "# ae = PointNetAutoEncoder(experiment_name, conf)\n",
    "# ae.train_names = set(train_data_[1])\n",
    "# ae.train(train_data, conf)"
   ]
  },
  {
   "cell_type": "code",
   "execution_count": 38,
   "metadata": {
    "collapsed": false
   },
   "outputs": [
    {
     "name": "stdout",
     "output_type": "stream",
     "text": [
      "val winner\n"
     ]
    }
   ],
   "source": [
    "_, loss_tes, _ = ae.evaluate(test_data, conf)\n",
    "_, loss_val, _ = ae.evaluate(val_data, conf)\n",
    "if loss_val < loss_tes:\n",
    "    print 'val winner'\n",
    "else:\n",
    "    print 'test winner'"
   ]
  },
  {
   "cell_type": "code",
   "execution_count": null,
   "metadata": {
    "collapsed": false
   },
   "outputs": [],
   "source": [
    "\n",
    "\n",
    "\n",
    "# reset_graph()\n",
    "# ae = PointNetAutoEncoder(experiment_name, conf)\n",
    "# ae.restore_model(conf.train_dir, 64)\n",
    "# conf.training_epochs = 50\n",
    "# ae.train(train_data, conf)"
   ]
  }
 ],
 "metadata": {
  "anaconda-cloud": {},
  "kernelspec": {
   "display_name": "Python [default]",
   "language": "python",
   "name": "python2"
  },
  "language_info": {
   "codemirror_mode": {
    "name": "ipython",
    "version": 2
   },
   "file_extension": ".py",
   "mimetype": "text/x-python",
   "name": "python",
   "nbconvert_exporter": "python",
   "pygments_lexer": "ipython2",
   "version": "2.7.12"
  }
 },
 "nbformat": 4,
 "nbformat_minor": 1
}
