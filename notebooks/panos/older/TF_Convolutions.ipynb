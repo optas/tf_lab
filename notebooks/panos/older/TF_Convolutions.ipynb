{
 "cells": [
  {
   "cell_type": "code",
   "execution_count": 3,
   "metadata": {
    "collapsed": true
   },
   "outputs": [],
   "source": [
    "import tensorflow as tf\n",
    "input  = tf.ones([1, 4, 4, 1])\n",
    "filter = tf.ones([3, 3, 1, 1])\n",
    "output = tf.nn.conv2d(input, filter, [1, 1, 1, 1], 'SAME')\n"
   ]
  },
  {
   "cell_type": "code",
   "execution_count": 4,
   "metadata": {
    "collapsed": false
   },
   "outputs": [
    {
     "data": {
      "text/plain": [
       "<tf.Tensor 'Conv2D:0' shape=(1, 4, 4, 1) dtype=float32>"
      ]
     },
     "execution_count": 4,
     "metadata": {},
     "output_type": "execute_result"
    }
   ],
   "source": [
    "output"
   ]
  },
  {
   "cell_type": "code",
   "execution_count": 5,
   "metadata": {
    "collapsed": false
   },
   "outputs": [
    {
     "name": "stdout",
     "output_type": "stream",
     "text": [
      "[[ 1.  1.  1.  1.]\n",
      " [ 1.  1.  1.  1.]\n",
      " [ 1.  1.  1.  1.]\n",
      " [ 1.  1.  1.  1.]]\n",
      "[[ 4.  6.  6.  4.]\n",
      " [ 6.  9.  9.  6.]\n",
      " [ 6.  9.  9.  6.]\n",
      " [ 4.  6.  6.  4.]]\n"
     ]
    }
   ],
   "source": [
    "import numpy as np\n",
    "grad_output = np.ones((1, 4, 4, 1), dtype=np.float32)\n",
    "grad_output[0, 1, 1, 0] = 1       # Selecvt gradients you care for.\n",
    "print grad_output.reshape((4,4))\n",
    "grads = tf.gradients(output, input, grad_output)\n",
    "sess = tf.Session()\n",
    "print sess.run(grads[0]).reshape((4,4))"
   ]
  }
 ],
 "metadata": {
  "kernelspec": {
   "display_name": "Python 2",
   "language": "python",
   "name": "python2"
  },
  "language_info": {
   "codemirror_mode": {
    "name": "ipython",
    "version": 2
   },
   "file_extension": ".py",
   "mimetype": "text/x-python",
   "name": "python",
   "nbconvert_exporter": "python",
   "pygments_lexer": "ipython2",
   "version": "2.7.11"
  }
 },
 "nbformat": 4,
 "nbformat_minor": 0
}
