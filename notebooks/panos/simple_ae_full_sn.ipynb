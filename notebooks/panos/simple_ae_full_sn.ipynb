{
 "cells": [
  {
   "cell_type": "code",
   "execution_count": 1,
   "metadata": {
    "collapsed": false
   },
   "outputs": [
    {
     "name": "stderr",
     "output_type": "stream",
     "text": [
      "/orions4-zfs/projects/lins2/Panos_Space/Git_Repos/geo_tool/solids/mesh.py:26: UserWarning: Mayavi library was not found. Some graphics utilities will be disabled.\n",
      "  warnings.warn('Mayavi library was not found. Some graphics utilities will be disabled.')\n"
     ]
    }
   ],
   "source": [
    "import sys\n",
    "import time\n",
    "import numpy as np\n",
    "import os.path as osp\n",
    "import tensorflow as tf\n",
    "import matplotlib.pyplot as plt\n",
    "\n",
    "from tf_lab.fundamentals.utils import set_visible_GPUs\n",
    "import tf_lab.point_clouds.in_out as pio\n",
    "import tf_lab.models.point_net_based_AE as pnAE\n",
    "from tf_lab.autopredictors.scripts.helper import shape_net_category_to_synth_id\n",
    "from tf_lab.point_clouds.in_out import PointCloudDataSet\n",
    "from tf_lab.point_clouds.point_net_ae import PointNetAutoEncoder\n",
    "from tf_lab.point_clouds.autoencoder import Configuration as Conf\n",
    "\n",
    "from tf_lab.autopredictors.evaluate.basics import eval_model, read_saved_epochs\n",
    "from tf_lab.autopredictors.plotting.basics import plot_original_pclouds_vs_reconstructed,\\\n",
    "                                                  plot_train_val_test_curves, plot_reconstructions_at_epoch\n",
    "\n",
    "\n",
    "from general_tools.in_out.basics import create_dir, delete_files_in_directory, files_in_subdirs\n",
    "from geo_tool import Point_Cloud\n"
   ]
  },
  {
   "cell_type": "code",
   "execution_count": 2,
   "metadata": {
    "collapsed": false
   },
   "outputs": [],
   "source": [
    "%load_ext autoreload\n",
    "%autoreload 2\n",
    "%matplotlib inline"
   ]
  },
  {
   "cell_type": "code",
   "execution_count": 3,
   "metadata": {
    "collapsed": false
   },
   "outputs": [
    {
     "data": {
      "text/plain": [
       "'/orions4-zfs/projects/lins2/Panos_Space/DATA/OUT/models/vanilla_ae/enc_filter_1_complex_decode_full_SN'"
      ]
     },
     "execution_count": 3,
     "metadata": {},
     "output_type": "execute_result"
    }
   ],
   "source": [
    "seed = 42\n",
    "np.random.seed(seed)\n",
    "tf.set_random_seed(seed)\n",
    "\n",
    "top_data_dir = '/orions4-zfs/projects/lins2/Panos_Space/DATA/'\n",
    "full_pclouds_path = osp.join(top_data_dir, 'ShapeNetPointClouds/from_manifold_meshes/1024/')\n",
    "\n",
    "experiment_name = 'enc_filter_1_complex_decode_full_SN'\n",
    "train_dir = osp.join(top_data_dir, 'OUT/models/vanilla_ae')\n",
    "train_dir = osp.join(train_dir, experiment_name)\n",
    "create_dir(train_dir)"
   ]
  },
  {
   "cell_type": "code",
   "execution_count": 4,
   "metadata": {
    "collapsed": false
   },
   "outputs": [
    {
     "name": "stdout",
     "output_type": "stream",
     "text": [
      "52103 files containing complete point clouds were found.\n"
     ]
    }
   ],
   "source": [
    "full_file_names = pio.load_filenames_of_input_data(full_pclouds_path)\n",
    "full_pclouds, full_model_names, class_ids = pio.load_crude_point_clouds(file_names=full_file_names, n_threads=11)\n",
    "print '%d files containing complete point clouds were found.' % (len(full_pclouds), )"
   ]
  },
  {
   "cell_type": "code",
   "execution_count": 5,
   "metadata": {
    "collapsed": false
   },
   "outputs": [],
   "source": [
    "train_data_, val_data_, test_data_ = pio.train_validate_test_split([full_pclouds,                                                             \n",
    "                                                            full_model_names],\n",
    "                                                            train_perc=0.8,\n",
    "                                                            validate_perc=0.1,\n",
    "                                                            test_perc=0.1,\n",
    "                                                            seed=seed)\n",
    "\n",
    "train_data = PointCloudDataSet(train_data_[0], labels=train_data_[1])\n",
    "val_data = PointCloudDataSet(val_data_[0], labels=val_data_[1])\n",
    "test_data = PointCloudDataSet(test_data_[0], labels=test_data_[1])"
   ]
  },
  {
   "cell_type": "code",
   "execution_count": null,
   "metadata": {
    "collapsed": false
   },
   "outputs": [],
   "source": [
    "def reset_graph():\n",
    "    if 'sess' in globals() and sess:\n",
    "        sess.close()\n",
    "    tf.reset_default_graph()\n",
    "\n",
    "set_visible_GPUs([3])\n",
    "\n",
    "conf = Conf(n_input = [1024, 3],\n",
    "               training_epochs = 1000,\n",
    "               batch_size = 80,\n",
    "               loss = 'Chamfer',\n",
    "               train_dir = train_dir,\n",
    "               loss_display_step = 1,\n",
    "               saver_step = 5,\n",
    "               learning_rate = 0.00002,\n",
    "               saver_max_to_keep = 200,\n",
    "               gauss_augment = {'mu': 0,'sigma': 0.02},\n",
    "               encoder = pnAE.encoder,\n",
    "               decoder = pnAE.decoder\n",
    "               )\n",
    "\n",
    "reset_graph()\n",
    "ae = PointNetAutoEncoder(experiment_name, conf)"
   ]
  },
  {
   "cell_type": "code",
   "execution_count": null,
   "metadata": {
    "collapsed": false
   },
   "outputs": [
    {
     "name": "stdout",
     "output_type": "stream",
     "text": [
      "('Epoch:', '0001', 'training time (minutes)=', '1.7306', 'loss=', '0.019921639')\n",
      "('Epoch:', '0002', 'training time (minutes)=', '1.6612', 'loss=', '0.006708828')"
     ]
    }
   ],
   "source": [
    "ae.train(train_data, conf)"
   ]
  },
  {
   "cell_type": "code",
   "execution_count": 11,
   "metadata": {
    "collapsed": false
   },
   "outputs": [
    {
     "data": {
      "text/plain": [
       "'/orions4-zfs/projects/lins2/Panos_Space/DATA/OUT/models/vanilla_ae/enc_filter_1_complex_decoder_full_SN'"
      ]
     },
     "execution_count": 11,
     "metadata": {},
     "output_type": "execute_result"
    }
   ],
   "source": [
    "saved_epochs = read_saved_epochs(conf.train_dir)\n",
    "epochs = saved_epochs[::len(saved_epochs)/20]\n",
    "stats = eval_model(ae, conf, [train_data, test_data, val_data], epochs=epochs, verbose=True)"
   ]
  },
  {
   "cell_type": "code",
   "execution_count": 35,
   "metadata": {
    "collapsed": false
   },
   "outputs": [
    {
     "data": {
      "image/png": "[encoded data removed]",
      "text/plain": [
       "<matplotlib.figure.Figure at 0x7fb58c117f90>"
      ]
     },
     "metadata": {},
     "output_type": "display_data"
    }
   ],
   "source": [
    "# top_save_dir = osp.join(top_data_dir, 'OUT/model_evaluation/incomplete_pclouds/virt_scan_03001627_only_ae/')\n",
    "\n",
    "top_save_dir = osp.join(top_data_dir, 'OUT/model_evaluation/incomplete_pclouds/blensor_data/')\n",
    "plot_train_val_test_curves(stats, top_save_dir, has_validation=False, best_epoch=None, show=True)"
   ]
  },
  {
   "cell_type": "code",
   "execution_count": 52,
   "metadata": {
    "collapsed": false
   },
   "outputs": [],
   "source": [
    "best_epoch = 185\n",
    "save_dir = osp.join(top_save_dir, 'test_images_epoch_' + str(best_epoch))\n",
    "plot_reconstructions_at_epoch(best_epoch, ae, test_data, conf, save_dir=save_dir, max_plot=200)\n",
    "\n",
    "last_epoch = saved_epochs[-1]\n",
    "save_dir = osp.join(top_save_dir, 'train_images_epoch_' + str(last_epoch))\n",
    "plot_reconstructions_at_epoch(last_epoch, ae, train_data, conf, save_dir=save_dir, max_plot=200)"
   ]
  }
 ],
 "metadata": {
  "kernelspec": {
   "display_name": "Python 2",
   "language": "python",
   "name": "python2"
  },
  "language_info": {
   "codemirror_mode": {
    "name": "ipython",
    "version": 2
   },
   "file_extension": ".py",
   "mimetype": "text/x-python",
   "name": "python",
   "nbconvert_exporter": "python",
   "pygments_lexer": "ipython2",
   "version": "2.7.6"
  }
 },
 "nbformat": 4,
 "nbformat_minor": 0
}
