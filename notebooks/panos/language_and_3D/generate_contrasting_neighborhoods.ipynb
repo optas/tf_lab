{
 "cells": [
  {
   "cell_type": "code",
   "execution_count": 1,
   "metadata": {
    "collapsed": false,
    "deletable": true,
    "editable": true
   },
   "outputs": [
    {
     "name": "stdout",
     "output_type": "stream",
     "text": [
      "Picking GPU 3\n"
     ]
    }
   ],
   "source": [
    "from general_tools.notebook.gpu_utils import setup_one_gpu\n",
    "GPU = 3\n",
    "setup_one_gpu(GPU)"
   ]
  },
  {
   "cell_type": "code",
   "execution_count": 2,
   "metadata": {
    "collapsed": false,
    "deletable": true,
    "editable": true
   },
   "outputs": [],
   "source": [
    "import numpy as np\n",
    "import os.path as osp\n",
    "import matplotlib.pylab as plt\n",
    "from sklearn.manifold import TSNE\n",
    "\n",
    "from general_tools.in_out.basics import unpickle_data\n",
    "from general_tools.in_out import create_dir\n",
    "from general_tools.notebook.tf import reset_tf_graph\n",
    "\n",
    "from general_tools.plotting import stack_images_horizontally, stack_images_in_square_grid\n",
    "from general_tools.clustering.plt import plot_2d_embedding_in_grid_greedy_way, plot_2d_embedding_in_grid_forceful\n",
    "\n",
    "from geo_tool import Point_Cloud\n",
    "\n",
    "import tf_lab.point_clouds.in_out as pio\n",
    "\n",
    "from tf_lab.data_sets.shape_net import  pc_loader as sn_pc_loader\n",
    "\n",
    "from tf_lab.point_clouds.point_net_ae import PointNetAutoEncoder\n",
    "from tf_lab.point_clouds.autoencoder import Configuration as Conf\n",
    "from tf_lab.point_clouds.in_out import PointCloudDataSet\n",
    "\n",
    "from tf_lab.in_out.basics import read_saved_epochs\n",
    "from tf_lab.data_sets.shape_net import snc_category_to_synth_id\n",
    "\n",
    "from sklearn.ensemble import IsolationForest\n",
    "from sklearn.metrics.pairwise import pairwise_distances\n",
    "\n",
    "from general_tools.clustering.dist import incremental_farthest_sampling, evaluate_solution\n",
    "from general_tools.in_out.basics import files_in_subdirs\n",
    "\n",
    "from harnessing_geometric_triplets import make_triplets, save_triplets, plot_triplets\n",
    "from general_tools.clustering.convenience import find_nearest_neighbors\n",
    "from collections import Counter"
   ]
  },
  {
   "cell_type": "code",
   "execution_count": 3,
   "metadata": {
    "collapsed": false
   },
   "outputs": [],
   "source": [
    "%load_ext autoreload\n",
    "%autoreload 2\n",
    "%matplotlib inline"
   ]
  },
  {
   "cell_type": "code",
   "execution_count": 167,
   "metadata": {
    "collapsed": false
   },
   "outputs": [],
   "source": [
    "def detect_outliers(features, outlier_fraction, random_seed):\n",
    "    clf = IsolationForest(max_samples=100, max_features=64, random_state=random_seed, contamination=outlier_fraction)\n",
    "    clf.fit(features)\n",
    "    y_pred = clf.predict(features)\n",
    "    outliers = np.where(y_pred == -1)[0]\n",
    "    print 'Outliers detected = ', len(outliers)\n",
    "    return outliers\n",
    "\n",
    "def pick_exemplars(all_pdists, n_exmplars, method='random', exclude=[], random_seed=None, latent_codes=None):\n",
    "    n = all_pdists.shape[0]\n",
    "    \n",
    "    if random_seed is not None:\n",
    "        np.random.seed(random_seed)\n",
    "        \n",
    "    available_pop = np.setdiff1d(np.arange(n), exclude)\n",
    "    \n",
    "    if method == 'random':\n",
    "        exemplars = np.random.choice(available_pop, n_exmplars, replace=False)\n",
    "    \n",
    "    elif method == 'max_deg':            \n",
    "        index, _ = find_nearest_neighbors(latent_codes[available_pop], k=2)\n",
    "        index = available_pop[index]\n",
    "        count = Counter(index.flatten())\n",
    "        exemplars = [i[0] for i in count.most_common(n_exmplars)]\n",
    "        \n",
    "    elif method == 'fps':                    \n",
    "        exemplars = incremental_farthest_sampling(all_pdists, n_exemplars, exclude, random_seed)\n",
    "        print 'Average Min Distance of FPS exemplars:', evaluate_solution(latent_codes[exemplars])\n",
    "    else:\n",
    "        assert(False)\n",
    "    assert(len(np.unique(exemplars)) == n_exmplars)\n",
    "    return exemplars\n",
    "\n",
    "def tsne_exemplars(exemplars, latent_codes, save_file, random_seed=None):    \n",
    "    # Plot TSNE of examplars.\n",
    "    model = TSNE(n_components=2, random_state=random_seed, init='pca')\n",
    "    tsne_coords = model.fit_transform(latent_codes[exemplars])\n",
    "\n",
    "    # Make a list with the file-names of all to be used images.\n",
    "    image_files = []\n",
    "    for i in exemplars:\n",
    "        image_files.append(osp.join(top_image_dir, model_ids[i], image_view_tag))\n",
    "        \n",
    "    small_dim = 400\n",
    "    big_dim = int(np.ceil(np.sqrt(len(exemplars)))) * small_dim\n",
    "    plot_2d_embedding_in_grid_forceful(tsne_coords, image_files, big_dim, small_dim, save_file);\n",
    "    \n",
    "def visualize_shapes_generator(data_to_vis, model_ids, top_image_dir, image_view_tag):\n",
    "    for i in data_to_vis:\n",
    "        image_files = []\n",
    "        try:\n",
    "            for j in i:\n",
    "                image_files.append(osp.join(top_image_dir, model_ids[j], image_view_tag))\n",
    "        except:\n",
    "            image_files.append(osp.join(top_image_dir, model_ids[i], image_view_tag))\n",
    "            \n",
    "        yield stack_images_horizontally(image_files)\n",
    "\n",
    "        \n",
    "def close_triplets_gen(all_pdists, exclude_list, min_dist=0, vis=False):\n",
    "    exclude_list = np.unique(exclude_list)\n",
    "    n = all_pdists.shape[0]    \n",
    "    targets = np.setdiff1d(np.arange(n), exclude_list)\n",
    "    for i in targets:            \n",
    "        candidates = np.arange(n)\n",
    "        candidates = np.setdiff1d(candidates, exclude_list, assume_unique=True)\n",
    "        candidates = np.setdiff1d(candidates, i, assume_unique=True)\n",
    "        relevant_dists = all_pdists[i, candidates]\n",
    "        big_enough = relevant_dists > min_dist\n",
    "        relevant_dists = relevant_dists[big_enough]\n",
    "        candidates = candidates[big_enough]        \n",
    "        aso = np.argsort(relevant_dists)\n",
    "        aso = candidates[aso]\n",
    "        triplet = [i, aso[0], aso[1]]        \n",
    "        if vis:            \n",
    "            image_files = []\n",
    "            image_files.append(osp.join(top_image_dir, model_ids[triplet[0]], image_view_tag))\n",
    "            image_files.append(osp.join(top_image_dir, model_ids[triplet[1]], image_view_tag))\n",
    "            image_files.append(osp.join(top_image_dir, model_ids[triplet[2]], image_view_tag))\n",
    "            yield triplet, stack_images_horizontally(image_files)\n",
    "        else:\n",
    "            yield triplet\n",
    "\n",
    "            \n",
    "def far_triplets_gen(all_pdists, exclude_list, max_dist=np.inf):\n",
    "    exclude_list = np.unique(exclude_list)\n",
    "    n = all_pdists.shape[0]\n",
    "    for i in range(n):\n",
    "        candidates = np.arange(n)\n",
    "        candidates = np.setdiff1d(candidates, exclude_list, assume_unique=True)\n",
    "        candidates = np.setdiff1d(candidates, i, assume_unique=True)\n",
    "        relevant_dists = all_pdists[i, candidates]\n",
    "        small_enough = relevant_dists < max_dist\n",
    "        relevant_dists = relevant_dists[small_enough]\n",
    "        candidates = candidates[small_enough]\n",
    "        aso = np.argsort(relevant_dists)\n",
    "        aso = candidates[aso]\n",
    "        image_files = []\n",
    "        image_files.append(osp.join(top_image_dir, model_ids[i], image_view_tag))\n",
    "        image_files.append(osp.join(top_image_dir, model_ids[aso[-2]], image_view_tag))\n",
    "        image_files.append(osp.join(top_image_dir, model_ids[aso[-1]], image_view_tag))\n",
    "        yield stack_images_horizontally(image_files)\n",
    "        \n",
    "def proximity_bounds(all_pdists, exemplars, lb=0.01, rb=50):\n",
    "    pdists_ = all_pdists[exemplars]\n",
    "    pdists_ = np.triu(pdists_, 0) \n",
    "    pdists_ = pdists_[pdists_ > 0]\n",
    "    too_close_threr = np.percentile(pdists_, lb)\n",
    "    too_far_thres = np.percentile(pdists_, rb)\n",
    "    return too_close_threr, too_far_thres\n",
    "\n",
    "\n",
    "def find_duplicates(all_pdists, exemplars, thres):\n",
    "    res = dict()\n",
    "    exemplars = np.array(exemplars)\n",
    "    for ex in exemplars:\n",
    "        collisions = np.where(all_pdists[ex, exemplars] < thres)[0]\n",
    "        if len(collisions) > 1:\n",
    "            collisions = exemplars[collisions]\n",
    "            collisions = np.setdiff1d(collisions, ex) \n",
    "            if len(collisions) > 0:\n",
    "                res[ex] = collisions            \n",
    "    return res\n",
    "\n",
    "def keep_one_from_duplicates(duplicate_dict):\n",
    "    excluded = set()\n",
    "    res = set()\n",
    "    for key in duplicate_dict.keys():\n",
    "        if key not in excluded:\n",
    "            res.add(key)\n",
    "        excluded.update(duplicate_dict[key])        \n",
    "        \n",
    "    excluded.difference_update(res)\n",
    "    return list(res), list(excluded)"
   ]
  },
  {
   "cell_type": "code",
   "execution_count": 191,
   "metadata": {
    "collapsed": true,
    "deletable": true,
    "editable": true
   },
   "outputs": [],
   "source": [
    "random_seed = 42\n",
    "outlier_fraction = 0.01  # Percent of data instances that will be automatically disreguarded.\n",
    "n_exemplars = 1000      # Shapes that will be used to create contrasting triplets.\n",
    "top_data_dir = top_data_dir = '/orions4-zfs/projects/optas/DATA/'"
   ]
  },
  {
   "cell_type": "code",
   "execution_count": 6,
   "metadata": {
    "collapsed": false,
    "deletable": true,
    "editable": true
   },
   "outputs": [
    {
     "name": "stdout",
     "output_type": "stream",
     "text": [
      "Model restored in epoch 1000.\n"
     ]
    }
   ],
   "source": [
    "# load AE model\n",
    "class_name = 'chair'\n",
    "syn_id = snc_category_to_synth_id()[class_name]\n",
    "ae_loss = 'emd'\n",
    "ae_id = '12' # 128 bottleneck\n",
    "\n",
    "ae_net_name = 'ae_farm_' + class_name + '_conv_arch_' + ae_id + '_2048pts_' + ae_loss\n",
    "ae_net_dir = osp.join(top_data_dir, 'OUT/icml/nn_models/ae_farming', ae_net_name)\n",
    "ae_conf = Conf.load(osp.join(ae_net_dir, 'configuration'))\n",
    "\n",
    "if ae_conf.train_dir != ae_net_dir:\n",
    "    ae_conf.train_dir = ae_net_dir\n",
    "    ae_conf.save(osp.join(ae_conf.train_dir, 'configuration'))\n",
    "    \n",
    "reset_tf_graph()\n",
    "ae = PointNetAutoEncoder(ae_net_name, ae_conf)\n",
    "\n",
    "saved_epochs = read_saved_epochs(ae_conf.train_dir)\n",
    "load_epoch = saved_epochs[-1]\n",
    "ae.restore_model(ae_conf.train_dir, load_epoch, verbose=True)"
   ]
  },
  {
   "cell_type": "code",
   "execution_count": 7,
   "metadata": {
    "collapsed": false,
    "deletable": true,
    "editable": true
   },
   "outputs": [
    {
     "name": "stdout",
     "output_type": "stream",
     "text": [
      "6778 files containing complete point clouds were found.\n"
     ]
    }
   ],
   "source": [
    "# Load Raw Point-Clouds of class\n",
    "n_pc_samples = 2048\n",
    "pclouds_path = osp.join(top_data_dir, 'Point_Clouds/Shape_Net/Core/from_manifold_meshes/centered/', str(n_pc_samples))\n",
    "\n",
    "pclouds_path = osp.join(pclouds_path, syn_id)\n",
    "file_names = [f for f in files_in_subdirs(pclouds_path, '.ply')]\n",
    "pclouds, model_ids, syn_ids = pio.load_crude_point_clouds(file_names=file_names, n_threads=50, loader=sn_pc_loader)\n",
    "print '%d files containing complete point clouds were found.' % (len(pclouds), )"
   ]
  },
  {
   "cell_type": "code",
   "execution_count": 8,
   "metadata": {
    "collapsed": false,
    "deletable": true,
    "editable": true
   },
   "outputs": [],
   "source": [
    "pcloud_data = PointCloudDataSet(pclouds, labels=model_ids, init_shuffle=False)\n",
    "_, latent_codes, temp_names = ae.embedding_at_tensor(pcloud_data, ae_conf, tensor_name='bottleneck')\n",
    "assert(np.alltrue(temp_names==model_ids))"
   ]
  },
  {
   "cell_type": "code",
   "execution_count": 9,
   "metadata": {
    "collapsed": false,
    "deletable": true,
    "editable": true
   },
   "outputs": [
    {
     "data": {
      "text/plain": [
       "'/orions4-zfs/projects/optas/DATA/OUT/3d_neighbs_as_context/pilot_triplets_3/outlier_frac_20'"
      ]
     },
     "execution_count": 9,
     "metadata": {},
     "output_type": "execute_result"
    }
   ],
   "source": [
    "top_image_dir = '/orions4-zfs/projects/optas/DATA/Meshes/Shape_Net_Core/2015_Summer_OUT/Images/'\n",
    "top_image_dir = osp.join(top_image_dir, syn_id)\n",
    "image_view_tag = 'image_p020_t337_r005.png'\n",
    "\n",
    "top_out_dir = '/orions4-zfs/projects/optas/DATA/OUT/3d_neighbs_as_context/pilot_triplets_3/'\n",
    "top_out_dir = osp.join(top_out_dir, 'outlier_frac_' + str(int(outlier_fraction * 100)))\n",
    "create_dir(top_out_dir)"
   ]
  },
  {
   "cell_type": "code",
   "execution_count": 192,
   "metadata": {
    "collapsed": false
   },
   "outputs": [
    {
     "name": "stdout",
     "output_type": "stream",
     "text": [
      "Outliers detected =  68\n"
     ]
    }
   ],
   "source": [
    "all_pdists = pairwise_distances(latent_codes)\n",
    "outliers = detect_outliers(latent_codes, outlier_fraction, random_seed)"
   ]
  },
  {
   "cell_type": "code",
   "execution_count": 193,
   "metadata": {
    "collapsed": true
   },
   "outputs": [],
   "source": [
    "# vg = visualize_shapes_generator(outliers, model_ids, top_image_dir, image_view_tag)"
   ]
  },
  {
   "cell_type": "code",
   "execution_count": 263,
   "metadata": {
    "collapsed": false
   },
   "outputs": [
    {
     "ename": "StopIteration",
     "evalue": "",
     "output_type": "error",
     "traceback": [
      "\u001b[1;31m---------------------------------------------------------------------------\u001b[0m",
      "\u001b[1;31mStopIteration\u001b[0m                             Traceback (most recent call last)",
      "\u001b[1;32m<ipython-input-263-d9e0b54b8fa4>\u001b[0m in \u001b[0;36m<module>\u001b[1;34m()\u001b[0m\n\u001b[1;32m----> 1\u001b[1;33m \u001b[0mvg\u001b[0m\u001b[1;33m.\u001b[0m\u001b[0mnext\u001b[0m\u001b[1;33m(\u001b[0m\u001b[1;33m)\u001b[0m\u001b[1;33m\u001b[0m\u001b[0m\n\u001b[0m",
      "\u001b[1;31mStopIteration\u001b[0m: "
     ]
    }
   ],
   "source": [
    "# vg.next()"
   ]
  },
  {
   "cell_type": "code",
   "execution_count": 73,
   "metadata": {
    "collapsed": false
   },
   "outputs": [],
   "source": [
    "n_chairs = len(latent_codes)\n",
    "entire_pop = np.arange(n_chairs)\n",
    "min_bound, max_bound = proximity_bounds(all_pdists, entire_pop, lb=0.005, rb=50)"
   ]
  },
  {
   "cell_type": "code",
   "execution_count": 74,
   "metadata": {
    "collapsed": false
   },
   "outputs": [],
   "source": [
    "dups = find_duplicates(all_pdists, entire_pop, min_bound)"
   ]
  },
  {
   "cell_type": "code",
   "execution_count": 75,
   "metadata": {
    "collapsed": true
   },
   "outputs": [],
   "source": [
    "data_to_vis = []\n",
    "for k, v in dups.iteritems():\n",
    "    temp = v.tolist()\n",
    "    temp.append(k)\n",
    "    data_to_vis.append(temp)\n",
    "    \n",
    "vg = visualize_shapes_generator(data_to_vis, model_ids, top_image_dir, image_view_tag)"
   ]
  },
  {
   "cell_type": "code",
   "execution_count": 76,
   "metadata": {
    "collapsed": false
   },
   "outputs": [
    {
     "name": "stdout",
     "output_type": "stream",
     "text": [
      "356\n",
      "576\n"
     ]
    }
   ],
   "source": [
    "kept, duplicates = keep_one_from_duplicates(dups)\n",
    "print len(kept)\n",
    "print len(duplicates)"
   ]
  },
  {
   "cell_type": "code",
   "execution_count": 278,
   "metadata": {
    "collapsed": false
   },
   "outputs": [],
   "source": [
    "gen_method = 'max_deg'\n",
    "gen_method_tag = gen_method + '_sampling'\n",
    "rule = 'closest_nn'\n",
    "inlier_sampling = False\n",
    "sampling_tag = 'inlier_' if inlier_sampling else 'entire_collection_'"
   ]
  },
  {
   "cell_type": "code",
   "execution_count": 279,
   "metadata": {
    "collapsed": false
   },
   "outputs": [
    {
     "name": "stdout",
     "output_type": "stream",
     "text": [
      "Unique chairs:  1736\n"
     ]
    }
   ],
   "source": [
    "exemplars = pick_exemplars(all_pdists, n_exemplars, method=gen_method, exclude=duplicates, \\\n",
    "                           random_seed=random_seed, latent_codes=latent_codes)\n",
    "\n",
    "# tsne_exemplars(exemplars, latent_codes, 'max_deg_exlude_dups.png', random_seed)\n",
    "\n",
    "if inlier_sampling:\n",
    "    exclude_list = np.setdiff1d(entire_pop, exemplars)\n",
    "    close_gen = close_triplets_gen(all_pdists, exclude_list)\n",
    "    triplets = [t for t in close_gen]\n",
    "else:\n",
    "    triplets = make_triplets(exemplars, all_pdists, duplicates, rule)\n",
    "\n",
    "print 'Unique chairs: ', len(np.unique(np.array(triplets).flatten()))"
   ]
  },
  {
   "cell_type": "code",
   "execution_count": 280,
   "metadata": {
    "collapsed": false
   },
   "outputs": [],
   "source": [
    "# triplet_out_dir = create_dir(osp.join(top_out_dir, rule, sampling_tag + gen_method_tag, 'data'))\n",
    "# save_triplets(triplets, top_image_dir, triplet_out_dir, model_ids)\n",
    "\n",
    "triplet_out_dir = create_dir(osp.join(top_out_dir, rule, sampling_tag + gen_method_tag, 'images'))\n",
    "plot_triplets(triplets, top_image_dir, triplet_out_dir, model_ids)"
   ]
  },
  {
   "cell_type": "code",
   "execution_count": null,
   "metadata": {
    "collapsed": true
   },
   "outputs": [],
   "source": [
    "A = inlier_random\n",
    "B = inlier_max_deg\n",
    "C = entire_collection_random\n",
    "D = entire_collection_max_deg"
   ]
  },
  {
   "cell_type": "code",
   "execution_count": null,
   "metadata": {
    "collapsed": true
   },
   "outputs": [],
   "source": []
  },
  {
   "cell_type": "code",
   "execution_count": null,
   "metadata": {
    "collapsed": true
   },
   "outputs": [],
   "source": []
  },
  {
   "cell_type": "code",
   "execution_count": null,
   "metadata": {
    "collapsed": true
   },
   "outputs": [],
   "source": []
  },
  {
   "cell_type": "code",
   "execution_count": null,
   "metadata": {
    "collapsed": true
   },
   "outputs": [],
   "source": []
  },
  {
   "cell_type": "code",
   "execution_count": null,
   "metadata": {
    "collapsed": true
   },
   "outputs": [],
   "source": []
  },
  {
   "cell_type": "code",
   "execution_count": null,
   "metadata": {
    "collapsed": true
   },
   "outputs": [],
   "source": []
  },
  {
   "cell_type": "code",
   "execution_count": null,
   "metadata": {
    "collapsed": true
   },
   "outputs": [],
   "source": []
  },
  {
   "cell_type": "code",
   "execution_count": null,
   "metadata": {
    "collapsed": true
   },
   "outputs": [],
   "source": []
  },
  {
   "cell_type": "code",
   "execution_count": 395,
   "metadata": {
    "collapsed": false
   },
   "outputs": [],
   "source": [
    "v_kept = visualize_shapes_generator(kept, model_ids, top_image_dir, image_view_tag)"
   ]
  },
  {
   "cell_type": "code",
   "execution_count": 427,
   "metadata": {
    "collapsed": false
   },
   "outputs": [],
   "source": [
    "tsne_exemplars(list(kept), latent_codes, 'test.png', random_seed)\n"
   ]
  },
  {
   "cell_type": "code",
   "execution_count": 866,
   "metadata": {
    "collapsed": false
   },
   "outputs": [],
   "source": [
    "rule = 'closest_nn'\n",
    "triplets = make_triplets(exemplars, all_pdists, thrown, rule, far_threshold=0.5)"
   ]
  },
  {
   "cell_type": "code",
   "execution_count": 864,
   "metadata": {
    "collapsed": false
   },
   "outputs": [
    {
     "data": {
      "text/plain": [
       "1735"
      ]
     },
     "execution_count": 864,
     "metadata": {},
     "output_type": "execute_result"
    }
   ],
   "source": [
    "len(np.unique(triplets))"
   ]
  },
  {
   "cell_type": "code",
   "execution_count": 867,
   "metadata": {
    "collapsed": true
   },
   "outputs": [],
   "source": [
    "vis = visualize_shapes_generator(triplets, model_ids, top_image_dir, image_view_tag)"
   ]
  },
  {
   "cell_type": "code",
   "execution_count": 872,
   "metadata": {
    "collapsed": false
   },
   "outputs": [
    {
     "data": {
      "image/png": "[encoded data removed]",
      "text/plain": [
       "<PIL.Image.Image image mode=RGBA size=2880x540 at 0x7FB684339A10>"
      ]
     },
     "execution_count": 872,
     "metadata": {},
     "output_type": "execute_result"
    }
   ],
   "source": [
    "vis.next()"
   ]
  },
  {
   "cell_type": "code",
   "execution_count": null,
   "metadata": {
    "collapsed": true
   },
   "outputs": [],
   "source": []
  },
  {
   "cell_type": "code",
   "execution_count": null,
   "metadata": {
    "collapsed": true
   },
   "outputs": [],
   "source": []
  },
  {
   "cell_type": "code",
   "execution_count": null,
   "metadata": {
    "collapsed": true
   },
   "outputs": [],
   "source": []
  },
  {
   "cell_type": "code",
   "execution_count": 20,
   "metadata": {
    "collapsed": false,
    "deletable": true,
    "editable": true
   },
   "outputs": [],
   "source": [
    "\n"
   ]
  },
  {
   "cell_type": "code",
   "execution_count": 28,
   "metadata": {
    "collapsed": false,
    "deletable": true,
    "editable": true
   },
   "outputs": [],
   "source": [
    "triplet_out_dir = create_dir(osp.join(top_out_dir, rule))\n",
    "triplets = []\n",
    "for rule in ['closest_nn', 'one_far', 'both_far']:\n",
    "    triplets.append(make_triplets(fps_sol, all_pdists, outliers, rule))\n",
    "\n",
    "triplet_out_dir = create_dir(osp.join(top_out_dir, 'all_rules', 'images'))\n",
    "plot_triplets_in_multiple_contexts(triplets, top_image_dir, triplet_out_dir, model_ids)"
   ]
  }
 ],
 "metadata": {
  "kernelspec": {
   "display_name": "Python 2",
   "language": "python",
   "name": "python2"
  },
  "language_info": {
   "codemirror_mode": {
    "name": "ipython",
    "version": 2
   },
   "file_extension": ".py",
   "mimetype": "text/x-python",
   "name": "python",
   "nbconvert_exporter": "python",
   "pygments_lexer": "ipython2",
   "version": "2.7.6"
  }
 },
 "nbformat": 4,
 "nbformat_minor": 2
}
