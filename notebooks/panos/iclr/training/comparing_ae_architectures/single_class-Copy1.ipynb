{
 "cells": [
  {
   "cell_type": "code",
   "execution_count": 1,
   "metadata": {
    "collapsed": false,
    "deletable": true,
    "editable": true
   },
   "outputs": [
    {
     "name": "stdout",
     "output_type": "stream",
     "text": [
      "Picking GPU 3\n"
     ]
    }
   ],
   "source": [
    "from general_tools.notebook.gpu_utils import setup_one_gpu\n",
    "GPU = 3\n",
    "setup_one_gpu(GPU)"
   ]
  },
  {
   "cell_type": "code",
   "execution_count": 2,
   "metadata": {
    "collapsed": false,
    "deletable": true,
    "editable": true
   },
   "outputs": [],
   "source": [
    "import sys\n",
    "import time\n",
    "import numpy as np\n",
    "import os.path as osp\n",
    "import tensorflow as tf\n",
    "import matplotlib.pyplot as plt\n",
    "\n",
    "from general_tools.notebook.tf import reset_tf_graph\n",
    "from general_tools.in_out.basics import create_dir, files_in_subdirs\n",
    "\n",
    "from geo_tool import Point_Cloud\n",
    "\n",
    "from tf_lab.point_clouds.point_net_ae import PointNetAutoEncoder\n",
    "from tf_lab.point_clouds.autoencoder import Configuration as Conf\n",
    "from tf_lab.point_clouds.in_out import PointCloudDataSet\n",
    "\n",
    "from tf_lab.in_out.basics import read_saved_epochs          \n",
    "from tf_lab.data_sets.shape_net import snc_category_to_synth_id, load_all_point_clouds_under_folder"
   ]
  },
  {
   "cell_type": "code",
   "execution_count": 3,
   "metadata": {
    "collapsed": false,
    "deletable": true,
    "editable": true
   },
   "outputs": [],
   "source": [
    "%load_ext autoreload\n",
    "%autoreload 2\n",
    "%matplotlib inline"
   ]
  },
  {
   "cell_type": "code",
   "execution_count": 4,
   "metadata": {
    "collapsed": false,
    "deletable": true,
    "editable": true
   },
   "outputs": [],
   "source": [
    "n_pc_points = 2048\n",
    "do_training = True\n",
    "first_time_running = True\n",
    "load_pretrained_model = False\n",
    "load_epoch = None\n",
    "seed = 42"
   ]
  },
  {
   "cell_type": "code",
   "execution_count": 5,
   "metadata": {
    "collapsed": false
   },
   "outputs": [
    {
     "name": "stdout",
     "output_type": "stream",
     "text": [
      "Give me the class type: chair\n",
      "Give me the experiment ID:contrasting_neighborhoods\n"
     ]
    },
    {
     "data": {
      "text/plain": [
       "'/orions4-zfs/projects/optas/DATA/OUT/iclr/nn_models/testing_ae_settings/chair_contrasting_neighborhoods_2048_pts_bneck_64_EMD'"
      ]
     },
     "execution_count": 5,
     "metadata": {},
     "output_type": "execute_result"
    }
   ],
   "source": [
    "max_training_epochs = 1000\n",
    "loss = 'EMD'\n",
    "bneck_size = 64\n",
    "\n",
    "class_name = raw_input('Give me the class type: ').lower()\n",
    "syn_id = snc_category_to_synth_id()[class_name]\n",
    "\n",
    "experiment_id = raw_input('Give me the experiment ID:').lower()\n",
    "\n",
    "experiment_name = '_'.join([class_name, experiment_id, str(n_pc_points), \n",
    "                           'pts_bneck', str(bneck_size), loss\n",
    "                           ])\n",
    "\n",
    "top_data_dir = '/orions4-zfs/projects/optas/DATA/'\n",
    "train_dir = osp.join(top_data_dir, 'OUT/iclr/nn_models/testing_ae_settings', experiment_name)\n",
    "create_dir(train_dir)"
   ]
  },
  {
   "cell_type": "code",
   "execution_count": 6,
   "metadata": {
    "collapsed": false
   },
   "outputs": [
    {
     "name": "stdout",
     "output_type": "stream",
     "text": [
      "6778 pclouds were loaded. They belong in 1 shape-classes.\n"
     ]
    }
   ],
   "source": [
    "pclouds_path = osp.join(top_data_dir, 'Point_Clouds/Shape_Net/Core/from_manifold_meshes/centered/', str(n_pc_points))\n",
    "pclouds_path = osp.join(pclouds_path, syn_id)\n",
    "train_data = load_all_point_clouds_under_folder(pclouds_path, n_threads=40, verbose=True)"
   ]
  },
  {
   "cell_type": "code",
   "execution_count": 22,
   "metadata": {
    "collapsed": false
   },
   "outputs": [
    {
     "data": {
      "text/plain": [
       "array([ 214,  209,  194, ..., 2044, 2043, 2042])"
      ]
     },
     "execution_count": 22,
     "metadata": {},
     "output_type": "execute_result"
    }
   ],
   "source": [
    "from general_tools.rla.three_d_transforms import rand_rotation_matrix\n",
    "\n",
    "r_rotation = rand_rotation_matrix()\n",
    "r_rotation[0, 2] = 0\n",
    "r_rotation[2, 0] = 0\n",
    "r_rotation[1, 2] = 0\n",
    "r_rotation[2, 1] = 0\n",
    "r_rotation[2, 2] = 1\n",
    "\n",
    "Point_Cloud(train_data.point_clouds[0].dot(r_rotation)).lex_sort()[1]\n",
    "\n"
   ]
  },
  {
   "cell_type": "code",
   "execution_count": 122,
   "metadata": {
    "collapsed": false
   },
   "outputs": [],
   "source": [
    "encoder_args = { 'n_filters': [64, 128, 256, 512],\n",
    "                 'filter_sizes': [8, 6, 4, 4],\n",
    "                 'strides': [1, 1, 2, 2],\n",
    "                 'b_norm': False,               \n",
    "                }\n",
    "\n",
    "decoder_args = {'layer_sizes': [1024, 2048, n_pc_points*3], 'b_norm': False}"
   ]
  },
  {
   "cell_type": "code",
   "execution_count": 130,
   "metadata": {
    "collapsed": false
   },
   "outputs": [],
   "source": [
    "if load_pretrained_model:\n",
    "    conf = Conf.load(osp.join(train_dir, 'configuration'))\n",
    "    print conf\n",
    "    if conf.train_dir != train_dir:\n",
    "        conf.train_dir = train_dir\n",
    "    conf.save(osp.join(train_dir, 'configuration'))\n",
    "else:\n",
    "    conf = Conf(\n",
    "                n_input = [n_pc_points, 3],\n",
    "                loss = loss,\n",
    "                training_epochs = 1000,\n",
    "                batch_size = 50,\n",
    "                denoising = False,\n",
    "                learning_rate = 0.0005,\n",
    "                train_dir = train_dir,              \n",
    "                loss_display_step = 1,\n",
    "                saver_step = 20,\n",
    "                z_rotate = False,\n",
    "                encoder = encoder_with_convs_and_symmetry,\n",
    "                decoder = decoder_with_fc_only,\n",
    "                encoder_args = encoder_args,\n",
    "                decoder_args = decoder_args\n",
    "               )    \n",
    "    conf.experiment_name = experiment_name\n",
    "    conf.save(osp.join(conf.train_dir, 'configuration'))"
   ]
  },
  {
   "cell_type": "code",
   "execution_count": 131,
   "metadata": {
    "collapsed": false
   },
   "outputs": [],
   "source": [
    "reset_tf_graph()\n",
    "ae = PointNetAutoEncoder(conf.experiment_name, conf)"
   ]
  },
  {
   "cell_type": "code",
   "execution_count": 111,
   "metadata": {
    "collapsed": false
   },
   "outputs": [],
   "source": [
    "if load_pretrained_model:\n",
    "    if load_epoch is None: # load last saved.\n",
    "        saved_epochs = read_saved_epochs(conf.train_dir)\n",
    "        load_epoch = saved_epochs[-1]        \n",
    "    ae.restore_model(conf.train_dir, load_epoch, verbose=True)"
   ]
  },
  {
   "cell_type": "code",
   "execution_count": 127,
   "metadata": {
    "collapsed": false
   },
   "outputs": [],
   "source": [
    "p = Point_Cloud(train_data.point_clouds[1])\n",
    "_, ind = p.lex_sort()"
   ]
  },
  {
   "cell_type": "code",
   "execution_count": null,
   "metadata": {
    "collapsed": false
   },
   "outputs": [
    {
     "name": "stdout",
     "output_type": "stream",
     "text": [
      "('Epoch:', '0001', 'training time (minutes)=', '0.1888', 'loss=', '0.003647510')\n",
      "INFO:tensorflow:/orions4-zfs/projects/optas/DATA/OUT/iclr/nn_models/testing_ae_settings/chair_for_contrasting_neighbhors_2048_pts_bneck_64_chamfer/models.ckpt-1 is not in all_model_checkpoint_paths. Manually adding it.\n"
     ]
    },
    {
     "name": "stderr",
     "output_type": "stream",
     "text": [
      "INFO:tensorflow:/orions4-zfs/projects/optas/DATA/OUT/iclr/nn_models/testing_ae_settings/chair_for_contrasting_neighbhors_2048_pts_bneck_64_chamfer/models.ckpt-1 is not in all_model_checkpoint_paths. Manually adding it.\n"
     ]
    },
    {
     "name": "stdout",
     "output_type": "stream",
     "text": [
      "('Epoch:', '0002', 'training time (minutes)=', '0.1906', 'loss=', '0.002043176')\n",
      "('Epoch:', '0003', 'training time (minutes)=', '0.1818', 'loss=', '0.001700465')\n",
      "('Epoch:', '0004', 'training time (minutes)=', '0.1915', 'loss=', '0.001467570')"
     ]
    }
   ],
   "source": [
    "if do_training:\n",
    "    buf_size = 1 # flush each line\n",
    "    fout = open(osp.join(conf.train_dir, 'train_stats.txt'), 'a', buf_size)    \n",
    "    train_stats = ae.train(train_data, conf, log_file=fout)\n",
    "    fout.close()"
   ]
  }
 ],
 "metadata": {
  "kernelspec": {
   "display_name": "Python 2",
   "language": "python",
   "name": "python2"
  },
  "language_info": {
   "codemirror_mode": {
    "name": "ipython",
    "version": 2
   },
   "file_extension": ".py",
   "mimetype": "text/x-python",
   "name": "python",
   "nbconvert_exporter": "python",
   "pygments_lexer": "ipython2",
   "version": "2.7.6"
  }
 },
 "nbformat": 4,
 "nbformat_minor": 2
}
