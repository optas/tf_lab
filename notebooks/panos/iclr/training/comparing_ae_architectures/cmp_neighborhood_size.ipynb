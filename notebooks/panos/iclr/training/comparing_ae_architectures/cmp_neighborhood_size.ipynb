{
 "cells": [
  {
   "cell_type": "code",
   "execution_count": 1,
   "metadata": {
    "collapsed": false
   },
   "outputs": [
    {
     "name": "stdout",
     "output_type": "stream",
     "text": [
      "Picking GPU 0\n"
     ]
    }
   ],
   "source": [
    "from general_tools.notebook.gpu_utils import setup_one_gpu\n",
    "GPU = 0\n",
    "setup_one_gpu(GPU)"
   ]
  },
  {
   "cell_type": "code",
   "execution_count": 3,
   "metadata": {
    "collapsed": false
   },
   "outputs": [],
   "source": [
    "import sys\n",
    "import time\n",
    "import numpy as np\n",
    "import os.path as osp\n",
    "import tensorflow as tf\n",
    "import matplotlib.pyplot as plt\n",
    "\n",
    "from general_tools.notebook.tf import reset_tf_graph\n",
    "from general_tools.in_out import create_dir\n",
    "from general_tools.in_out.basics import create_dir, delete_files_in_directory, files_in_subdirs\n",
    "\n",
    "from geo_tool import Point_Cloud\n",
    "\n",
    "from tf_lab.in_out.basics import Data_Splitter\n",
    "from tf_lab.point_clouds.ae_templates import conv_architecture_ala_nips_17, default_train_params_ala_nips_17\n",
    "from tf_lab.point_clouds.encoders_decoders import encoder_with_convs_and_symmetry, decoder_with_fc_only\n",
    "from tf_lab.point_clouds.point_net_ae import PointNetAutoEncoder\n",
    "from tf_lab.point_clouds.autoencoder import Configuration as Conf\n",
    "from tf_lab.point_clouds.in_out import load_point_clouds_from_filenames, PointCloudDataSet\n",
    "from tf_lab.data_sets.shape_net import pc_loader as snc_loader\n",
    "from tf_lab.data_sets.shape_net import snc_category_to_synth_id\n",
    "\n",
    "from pc_completions.evaluation import basic_comletion_measures"
   ]
  },
  {
   "cell_type": "code",
   "execution_count": 4,
   "metadata": {
    "collapsed": false
   },
   "outputs": [],
   "source": [
    "%load_ext autoreload\n",
    "%autoreload 2\n",
    "%matplotlib inline"
   ]
  },
  {
   "cell_type": "code",
   "execution_count": 5,
   "metadata": {
    "collapsed": true
   },
   "outputs": [],
   "source": [
    "n_pc_points = 4096\n",
    "top_data_dir = '/orions4-zfs/projects/optas/DATA/'\n",
    "top_pclouds_path = osp.join(top_data_dir, 'Point_Clouds/Shape_Net/Core/from_manifold_meshes/centered/', str(n_pc_points))"
   ]
  },
  {
   "cell_type": "code",
   "execution_count": 6,
   "metadata": {
    "collapsed": true
   },
   "outputs": [],
   "source": [
    "# train_split = osp.join(top_data_dir, 'Point_Clouds/Shape_Net/Splits/wu_small_size_splits/train.txt')\n",
    "# val_split = osp.join(top_data_dir, 'Point_Clouds/Shape_Net/Splits/wu_small_size_splits/val.txt')\n",
    "train_split = osp.join(top_data_dir, 'Point_Clouds/Shape_Net/Splits/single_class_splits/03001627/85_5_10/train.txt')\n",
    "val_split = osp.join(top_data_dir, 'Point_Clouds/Shape_Net/Splits/single_class_splits/03001627/85_5_10/val.txt')"
   ]
  },
  {
   "cell_type": "code",
   "execution_count": 7,
   "metadata": {
    "collapsed": true
   },
   "outputs": [],
   "source": [
    "do_training = True\n",
    "load_pretrained_model = False\n",
    "load_epoch = None\n",
    "random_seed = 42\n",
    "splitter = Data_Splitter(top_pclouds_path, data_file_ending='.ply', random_seed=42)"
   ]
  },
  {
   "cell_type": "code",
   "execution_count": 8,
   "metadata": {
    "collapsed": false
   },
   "outputs": [],
   "source": [
    "bneck_size = 1024\n",
    "loss = 'chamfer'\n",
    "experiment_id = '1'"
   ]
  },
  {
   "cell_type": "code",
   "execution_count": 9,
   "metadata": {
    "collapsed": false
   },
   "outputs": [
    {
     "data": {
      "text/plain": [
       "'/orions4-zfs/projects/optas/DATA/OUT/iclr/nn_models/testing_ae_settings/wu__exp_1_4096_pts_bneck_1024_chamfer'"
      ]
     },
     "execution_count": 9,
     "metadata": {},
     "output_type": "execute_result"
    }
   ],
   "source": [
    "experiment_name = '_'.join(['wu_', 'exp', experiment_id, str(n_pc_points),\n",
    "                            'pts_bneck', str(bneck_size), loss\n",
    "                           ])\n",
    "\n",
    "train_dir = osp.join(top_data_dir, 'OUT/iclr/nn_models/testing_ae_settings', experiment_name)\n",
    "create_dir(train_dir)"
   ]
  },
  {
   "cell_type": "code",
   "execution_count": 10,
   "metadata": {
    "collapsed": false
   },
   "outputs": [
    {
     "name": "stdout",
     "output_type": "stream",
     "text": [
      "5761 pclouds were loaded. They belong in 1 shape-classes.\n",
      "338 pclouds were loaded. They belong in 1 shape-classes.\n"
     ]
    }
   ],
   "source": [
    "tr_files = splitter.load_splits(train_split)\n",
    "pclouds, model_ids, syn_ids = load_point_clouds_from_filenames(tr_files, n_threads=20, loader=snc_loader, verbose=True)\n",
    "train_data = PointCloudDataSet(pclouds, labels=syn_ids + '_' + model_ids)\n",
    "\n",
    "val_files = splitter.load_splits(val_split)\n",
    "pclouds, model_ids, syn_ids = load_point_clouds_from_filenames(val_files, n_threads=20, loader=snc_loader, verbose=True)\n",
    "val_data = PointCloudDataSet(pclouds, labels=syn_ids + '_' + model_ids)"
   ]
  },
  {
   "cell_type": "code",
   "execution_count": 12,
   "metadata": {
    "collapsed": false
   },
   "outputs": [],
   "source": [
    "def architectures_to_test(bneck, bnorm, neighborhood, n_pc_points):\n",
    "    res = dict()\n",
    "\n",
    "    res['encoder_args'] = {'filter_sizes': [neighborhood, min(neighborhood, 20), 10, 5],\n",
    "                           'n_filters': [64, 128, 256, bneck],\n",
    "                           'strides': [1, 1, 2, 2],\n",
    "                           'b_norm': bnorm\n",
    "                          }\n",
    "    \n",
    "    res['decoder_args'] = {'layer_sizes': [1024, 2048, n_pc_points*3],\n",
    "                           'b_norm': bnorm\n",
    "                          }\n",
    "    return res"
   ]
  },
  {
   "cell_type": "code",
   "execution_count": 13,
   "metadata": {
    "collapsed": false
   },
   "outputs": [],
   "source": [
    "b_norm = False\n",
    "neighb_size = 20\n",
    "arc_param = architectures_to_test(bneck_size, b_norm, neighb_size, n_pc_points)"
   ]
  },
  {
   "cell_type": "code",
   "execution_count": 14,
   "metadata": {
    "collapsed": false
   },
   "outputs": [],
   "source": [
    "if load_pretrained_model:\n",
    "    conf = Conf.load(osp.join(train_dir, 'configuration'))\n",
    "    print conf\n",
    "    if conf.train_dir != train_dir:\n",
    "        conf.train_dir = train_dir\n",
    "    conf.save(osp.join(train_dir, 'configuration'))\n",
    "else:\n",
    "    conf = Conf(\n",
    "                n_input = [n_pc_points, 3],\n",
    "                loss = loss,\n",
    "                training_epochs = 100,\n",
    "                batch_size = 50,\n",
    "                denoising = False,\n",
    "                learning_rate = 0.0005,\n",
    "                train_dir = train_dir,             \n",
    "                loss_display_step = 1,\n",
    "                saver_step = 10,\n",
    "                z_rotate = False,\n",
    "                encoder = encoder_with_convs_and_symmetry,\n",
    "                decoder = decoder_with_fc_only,\n",
    "                encoder_args = arc_param['encoder_args'],\n",
    "                decoder_args = arc_param['decoder_args'],\n",
    "               )\n",
    "    \n",
    "    conf.experiment_name = experiment_name\n",
    "    conf.held_out_step = 5\n",
    "    conf.save(osp.join(conf.train_dir, 'configuration'))"
   ]
  },
  {
   "cell_type": "code",
   "execution_count": 15,
   "metadata": {
    "collapsed": true
   },
   "outputs": [],
   "source": [
    "reset_tf_graph()\n",
    "ae = PointNetAutoEncoder(conf.experiment_name, conf)"
   ]
  },
  {
   "cell_type": "code",
   "execution_count": 16,
   "metadata": {
    "collapsed": true
   },
   "outputs": [],
   "source": [
    "if load_pretrained_model:\n",
    "    if load_epoch is None: # load last saved.\n",
    "        saved_epochs = read_saved_epochs(conf.train_dir)\n",
    "        load_epoch = saved_epochs[-1]        \n",
    "    ae.restore_model(conf.train_dir, load_epoch, verbose=True)"
   ]
  },
  {
   "cell_type": "code",
   "execution_count": 17,
   "metadata": {
    "collapsed": false
   },
   "outputs": [
    {
     "name": "stdout",
     "output_type": "stream",
     "text": [
      "('Epoch:', '0001', 'training time (minutes)=', '0.3366', 'loss=', '0.003380882')\n",
      "INFO:tensorflow:/orions4-zfs/projects/optas/DATA/OUT/iclr/nn_models/testing_ae_settings/wu__exp_1_4096_pts_bneck_1024_chamfer/models.ckpt-1 is not in all_model_checkpoint_paths. Manually adding it.\n"
     ]
    },
    {
     "name": "stderr",
     "output_type": "stream",
     "text": [
      "INFO:tensorflow:/orions4-zfs/projects/optas/DATA/OUT/iclr/nn_models/testing_ae_settings/wu__exp_1_4096_pts_bneck_1024_chamfer/models.ckpt-1 is not in all_model_checkpoint_paths. Manually adding it.\n"
     ]
    },
    {
     "name": "stdout",
     "output_type": "stream",
     "text": [
      "('Epoch:', '0002', 'training time (minutes)=', '0.3148', 'loss=', '0.001846131')\n",
      "('Epoch:', '0003', 'training time (minutes)=', '0.3214', 'loss=', '0.001615333')\n",
      "('Epoch:', '0004', 'training time (minutes)=', '0.3356', 'loss=', '0.001381883')\n",
      "('Epoch:', '0005', 'training time (minutes)=', '0.3279', 'loss=', '0.001241733')\n",
      "('Held Out Data :', 'forward time (minutes)=', '0.0050', 'loss=', '0.001258408')\n",
      "('Epoch:', '0006', 'training time (minutes)=', '0.3266', 'loss=', '0.001109748')\n",
      "('Epoch:', '0007', 'training time (minutes)=', '0.3307', 'loss=', '0.001035305')\n",
      "('Epoch:', '0008', 'training time (minutes)=', '0.3255', 'loss=', '0.000952491')\n",
      "('Epoch:', '0009', 'training time (minutes)=', '0.3275', 'loss=', '0.000880249')\n",
      "('Epoch:', '0010', 'training time (minutes)=', '0.3345', 'loss=', '0.000826131')\n",
      "INFO:tensorflow:/orions4-zfs/projects/optas/DATA/OUT/iclr/nn_models/testing_ae_settings/wu__exp_1_4096_pts_bneck_1024_chamfer/models.ckpt-10 is not in all_model_checkpoint_paths. Manually adding it.\n"
     ]
    },
    {
     "name": "stderr",
     "output_type": "stream",
     "text": [
      "INFO:tensorflow:/orions4-zfs/projects/optas/DATA/OUT/iclr/nn_models/testing_ae_settings/wu__exp_1_4096_pts_bneck_1024_chamfer/models.ckpt-10 is not in all_model_checkpoint_paths. Manually adding it.\n"
     ]
    },
    {
     "name": "stdout",
     "output_type": "stream",
     "text": [
      "('Held Out Data :', 'forward time (minutes)=', '0.0053', 'loss=', '0.000946144')\n",
      "('Epoch:', '0011', 'training time (minutes)=', '0.3248', 'loss=', '0.000789703')\n",
      "('Epoch:', '0012', 'training time (minutes)=', '0.3206', 'loss=', '0.000753506')\n",
      "('Epoch:', '0013', 'training time (minutes)=', '0.3424', 'loss=', '0.000729481')\n",
      "('Epoch:', '0014', 'training time (minutes)=', '0.3281', 'loss=', '0.000694345')\n",
      "('Epoch:', '0015', 'training time (minutes)=', '0.3342', 'loss=', '0.000720426')\n",
      "('Held Out Data :', 'forward time (minutes)=', '0.0049', 'loss=', '0.000925197')\n",
      "('Epoch:', '0016', 'training time (minutes)=', '0.3300', 'loss=', '0.000682521')\n",
      "('Epoch:', '0017', 'training time (minutes)=', '0.3284', 'loss=', '0.000646123')\n",
      "('Epoch:', '0018', 'training time (minutes)=', '0.3278', 'loss=', '0.000613741')\n",
      "('Epoch:', '0019', 'training time (minutes)=', '0.3329', 'loss=', '0.000597239')\n",
      "('Epoch:', '0020', 'training time (minutes)=', '0.3248', 'loss=', '0.000580694')\n",
      "INFO:tensorflow:/orions4-zfs/projects/optas/DATA/OUT/iclr/nn_models/testing_ae_settings/wu__exp_1_4096_pts_bneck_1024_chamfer/models.ckpt-20 is not in all_model_checkpoint_paths. Manually adding it.\n"
     ]
    },
    {
     "name": "stderr",
     "output_type": "stream",
     "text": [
      "INFO:tensorflow:/orions4-zfs/projects/optas/DATA/OUT/iclr/nn_models/testing_ae_settings/wu__exp_1_4096_pts_bneck_1024_chamfer/models.ckpt-20 is not in all_model_checkpoint_paths. Manually adding it.\n"
     ]
    },
    {
     "name": "stdout",
     "output_type": "stream",
     "text": [
      "('Held Out Data :', 'forward time (minutes)=', '0.0055', 'loss=', '0.000807113')\n",
      "('Epoch:', '0021', 'training time (minutes)=', '0.3269', 'loss=', '0.000570991')\n",
      "('Epoch:', '0022', 'training time (minutes)=', '0.3283', 'loss=', '0.000568392')\n",
      "('Epoch:', '0023', 'training time (minutes)=', '0.3306', 'loss=', '0.000556921')\n",
      "('Epoch:', '0024', 'training time (minutes)=', '0.3238', 'loss=', '0.000532802')\n",
      "('Epoch:', '0025', 'training time (minutes)=', '0.3284', 'loss=', '0.000525494')\n",
      "('Held Out Data :', 'forward time (minutes)=', '0.0050', 'loss=', '0.000794625')\n",
      "('Epoch:', '0026', 'training time (minutes)=', '0.3289', 'loss=', '0.000526770')\n",
      "('Epoch:', '0027', 'training time (minutes)=', '0.3286', 'loss=', '0.000512511')\n",
      "('Epoch:', '0028', 'training time (minutes)=', '0.3249', 'loss=', '0.000508717')\n",
      "('Epoch:', '0029', 'training time (minutes)=', '0.3232', 'loss=', '0.000500228')\n",
      "('Epoch:', '0030', 'training time (minutes)=', '0.3235', 'loss=', '0.000496937')\n",
      "INFO:tensorflow:/orions4-zfs/projects/optas/DATA/OUT/iclr/nn_models/testing_ae_settings/wu__exp_1_4096_pts_bneck_1024_chamfer/models.ckpt-30 is not in all_model_checkpoint_paths. Manually adding it.\n"
     ]
    },
    {
     "name": "stderr",
     "output_type": "stream",
     "text": [
      "INFO:tensorflow:/orions4-zfs/projects/optas/DATA/OUT/iclr/nn_models/testing_ae_settings/wu__exp_1_4096_pts_bneck_1024_chamfer/models.ckpt-30 is not in all_model_checkpoint_paths. Manually adding it.\n"
     ]
    },
    {
     "name": "stdout",
     "output_type": "stream",
     "text": [
      "('Held Out Data :', 'forward time (minutes)=', '0.0055', 'loss=', '0.000775254')\n",
      "('Epoch:', '0031', 'training time (minutes)=', '0.3225', 'loss=', '0.000495152')\n",
      "('Epoch:', '0032', 'training time (minutes)=', '0.3236', 'loss=', '0.000487385')\n",
      "('Epoch:', '0033', 'training time (minutes)=', '0.3225', 'loss=', '0.000472021')\n",
      "('Epoch:', '0034', 'training time (minutes)=', '0.3284', 'loss=', '0.000466775')\n",
      "('Epoch:', '0035', 'training time (minutes)=', '0.3232', 'loss=', '0.000455131')\n",
      "('Held Out Data :', 'forward time (minutes)=', '0.0049', 'loss=', '0.000780727')\n",
      "('Epoch:', '0036', 'training time (minutes)=', '0.3266', 'loss=', '0.000445644')\n",
      "('Epoch:', '0037', 'training time (minutes)=', '0.3222', 'loss=', '0.000449642')\n",
      "('Epoch:', '0038', 'training time (minutes)=', '0.3361', 'loss=', '0.000456020')\n",
      "('Epoch:', '0039', 'training time (minutes)=', '0.3229', 'loss=', '0.000432731')\n",
      "('Epoch:', '0040', 'training time (minutes)=', '0.3312', 'loss=', '0.000421089')\n",
      "INFO:tensorflow:/orions4-zfs/projects/optas/DATA/OUT/iclr/nn_models/testing_ae_settings/wu__exp_1_4096_pts_bneck_1024_chamfer/models.ckpt-40 is not in all_model_checkpoint_paths. Manually adding it.\n"
     ]
    },
    {
     "name": "stderr",
     "output_type": "stream",
     "text": [
      "INFO:tensorflow:/orions4-zfs/projects/optas/DATA/OUT/iclr/nn_models/testing_ae_settings/wu__exp_1_4096_pts_bneck_1024_chamfer/models.ckpt-40 is not in all_model_checkpoint_paths. Manually adding it.\n"
     ]
    },
    {
     "name": "stdout",
     "output_type": "stream",
     "text": [
      "('Held Out Data :', 'forward time (minutes)=', '0.0051', 'loss=', '0.000748909')\n",
      "('Epoch:', '0041', 'training time (minutes)=', '0.3251', 'loss=', '0.000414664')\n",
      "('Epoch:', '0042', 'training time (minutes)=', '0.3286', 'loss=', '0.000435642')\n",
      "('Epoch:', '0043', 'training time (minutes)=', '0.3255', 'loss=', '0.000412814')\n",
      "('Epoch:', '0044', 'training time (minutes)=', '0.3272', 'loss=', '0.000413225')\n",
      "('Epoch:', '0045', 'training time (minutes)=', '0.3285', 'loss=', '0.000418999')\n",
      "('Held Out Data :', 'forward time (minutes)=', '0.0052', 'loss=', '0.000743545')\n",
      "('Epoch:', '0046', 'training time (minutes)=', '0.3231', 'loss=', '0.000409780')\n",
      "('Epoch:', '0047', 'training time (minutes)=', '0.3234', 'loss=', '0.000413140')\n",
      "('Epoch:', '0048', 'training time (minutes)=', '0.3225', 'loss=', '0.000401614')\n",
      "('Epoch:', '0049', 'training time (minutes)=', '0.3224', 'loss=', '0.000390364')\n",
      "('Epoch:', '0050', 'training time (minutes)=', '0.3263', 'loss=', '0.000384325')\n",
      "INFO:tensorflow:/orions4-zfs/projects/optas/DATA/OUT/iclr/nn_models/testing_ae_settings/wu__exp_1_4096_pts_bneck_1024_chamfer/models.ckpt-50 is not in all_model_checkpoint_paths. Manually adding it.\n"
     ]
    },
    {
     "name": "stderr",
     "output_type": "stream",
     "text": [
      "INFO:tensorflow:/orions4-zfs/projects/optas/DATA/OUT/iclr/nn_models/testing_ae_settings/wu__exp_1_4096_pts_bneck_1024_chamfer/models.ckpt-50 is not in all_model_checkpoint_paths. Manually adding it.\n"
     ]
    },
    {
     "name": "stdout",
     "output_type": "stream",
     "text": [
      "('Held Out Data :', 'forward time (minutes)=', '0.0052', 'loss=', '0.000730725')\n",
      "('Epoch:', '0051', 'training time (minutes)=', '0.3252', 'loss=', '0.000384923')\n",
      "('Epoch:', '0052', 'training time (minutes)=', '0.3229', 'loss=', '0.000381082')\n",
      "('Epoch:', '0053', 'training time (minutes)=', '0.3282', 'loss=', '0.000374425')\n",
      "('Epoch:', '0054', 'training time (minutes)=', '0.3238', 'loss=', '0.000373968')\n",
      "('Epoch:', '0055', 'training time (minutes)=', '0.3256', 'loss=', '0.000376388')\n",
      "('Held Out Data :', 'forward time (minutes)=', '0.0050', 'loss=', '0.000767868')\n",
      "('Epoch:', '0056', 'training time (minutes)=', '0.3281', 'loss=', '0.000382435')\n",
      "('Epoch:', '0057', 'training time (minutes)=', '0.3237', 'loss=', '0.000372227')\n",
      "('Epoch:', '0058', 'training time (minutes)=', '0.3230', 'loss=', '0.000367514')\n",
      "('Epoch:', '0059', 'training time (minutes)=', '0.3255', 'loss=', '0.000358917')\n",
      "('Epoch:', '0060', 'training time (minutes)=', '0.3232', 'loss=', '0.000354713')\n",
      "INFO:tensorflow:/orions4-zfs/projects/optas/DATA/OUT/iclr/nn_models/testing_ae_settings/wu__exp_1_4096_pts_bneck_1024_chamfer/models.ckpt-60 is not in all_model_checkpoint_paths. Manually adding it.\n"
     ]
    },
    {
     "name": "stderr",
     "output_type": "stream",
     "text": [
      "INFO:tensorflow:/orions4-zfs/projects/optas/DATA/OUT/iclr/nn_models/testing_ae_settings/wu__exp_1_4096_pts_bneck_1024_chamfer/models.ckpt-60 is not in all_model_checkpoint_paths. Manually adding it.\n"
     ]
    },
    {
     "name": "stdout",
     "output_type": "stream",
     "text": [
      "('Held Out Data :', 'forward time (minutes)=', '0.0053', 'loss=', '0.000700989')\n",
      "('Epoch:', '0061', 'training time (minutes)=', '0.3266', 'loss=', '0.000364730')\n",
      "('Epoch:', '0062', 'training time (minutes)=', '0.3277', 'loss=', '0.000358370')\n",
      "('Epoch:', '0063', 'training time (minutes)=', '0.3232', 'loss=', '0.000348133')\n",
      "('Epoch:', '0064', 'training time (minutes)=', '0.3288', 'loss=', '0.000342780')\n",
      "('Epoch:', '0065', 'training time (minutes)=', '0.3315', 'loss=', '0.000351249')\n",
      "('Held Out Data :', 'forward time (minutes)=', '0.0049', 'loss=', '0.000734599')\n",
      "('Epoch:', '0066', 'training time (minutes)=', '0.3243', 'loss=', '0.000351536')\n",
      "('Epoch:', '0067', 'training time (minutes)=', '0.3307', 'loss=', '0.000344179')\n",
      "('Epoch:', '0068', 'training time (minutes)=', '0.3238', 'loss=', '0.000336846')\n",
      "('Epoch:', '0069', 'training time (minutes)=', '0.3234', 'loss=', '0.000335677')\n",
      "('Epoch:', '0070', 'training time (minutes)=', '0.3258', 'loss=', '0.000332953')\n",
      "INFO:tensorflow:/orions4-zfs/projects/optas/DATA/OUT/iclr/nn_models/testing_ae_settings/wu__exp_1_4096_pts_bneck_1024_chamfer/models.ckpt-70 is not in all_model_checkpoint_paths. Manually adding it.\n"
     ]
    },
    {
     "name": "stderr",
     "output_type": "stream",
     "text": [
      "INFO:tensorflow:/orions4-zfs/projects/optas/DATA/OUT/iclr/nn_models/testing_ae_settings/wu__exp_1_4096_pts_bneck_1024_chamfer/models.ckpt-70 is not in all_model_checkpoint_paths. Manually adding it.\n"
     ]
    },
    {
     "name": "stdout",
     "output_type": "stream",
     "text": [
      "('Held Out Data :', 'forward time (minutes)=', '0.0055', 'loss=', '0.000751548')\n",
      "('Epoch:', '0071', 'training time (minutes)=', '0.3214', 'loss=', '0.000328591')\n",
      "('Epoch:', '0072', 'training time (minutes)=', '0.3255', 'loss=', '0.000326604')\n",
      "('Epoch:', '0073', 'training time (minutes)=', '0.3227', 'loss=', '0.000323873')\n",
      "('Epoch:', '0074', 'training time (minutes)=', '0.3282', 'loss=', '0.000325194')\n",
      "('Epoch:', '0075', 'training time (minutes)=', '0.3244', 'loss=', '0.000322821')\n",
      "('Held Out Data :', 'forward time (minutes)=', '0.0047', 'loss=', '0.000757342')\n",
      "('Epoch:', '0076', 'training time (minutes)=', '0.3320', 'loss=', '0.000322788')\n",
      "('Epoch:', '0077', 'training time (minutes)=', '0.3258', 'loss=', '0.000317479')\n",
      "('Epoch:', '0078', 'training time (minutes)=', '0.3323', 'loss=', '0.000310879')\n",
      "('Epoch:', '0079', 'training time (minutes)=', '0.3283', 'loss=', '0.000307530')\n",
      "('Epoch:', '0080', 'training time (minutes)=', '0.3225', 'loss=', '0.000309738')\n",
      "INFO:tensorflow:/orions4-zfs/projects/optas/DATA/OUT/iclr/nn_models/testing_ae_settings/wu__exp_1_4096_pts_bneck_1024_chamfer/models.ckpt-80 is not in all_model_checkpoint_paths. Manually adding it.\n"
     ]
    },
    {
     "name": "stderr",
     "output_type": "stream",
     "text": [
      "INFO:tensorflow:/orions4-zfs/projects/optas/DATA/OUT/iclr/nn_models/testing_ae_settings/wu__exp_1_4096_pts_bneck_1024_chamfer/models.ckpt-80 is not in all_model_checkpoint_paths. Manually adding it.\n"
     ]
    },
    {
     "name": "stdout",
     "output_type": "stream",
     "text": [
      "('Held Out Data :', 'forward time (minutes)=', '0.0053', 'loss=', '0.000748870')\n",
      "('Epoch:', '0081', 'training time (minutes)=', '0.3249', 'loss=', '0.000309352')\n",
      "('Epoch:', '0082', 'training time (minutes)=', '0.3226', 'loss=', '0.000303970')\n",
      "('Epoch:', '0083', 'training time (minutes)=', '0.3281', 'loss=', '0.000298700')\n",
      "('Epoch:', '0084', 'training time (minutes)=', '0.3260', 'loss=', '0.000301767')\n",
      "('Epoch:', '0085', 'training time (minutes)=', '0.3291', 'loss=', '0.000298950')\n",
      "('Held Out Data :', 'forward time (minutes)=', '0.0053', 'loss=', '0.000731552')\n",
      "('Epoch:', '0086', 'training time (minutes)=', '0.3268', 'loss=', '0.000298772')\n",
      "('Epoch:', '0087', 'training time (minutes)=', '0.3302', 'loss=', '0.000302319')\n",
      "('Epoch:', '0088', 'training time (minutes)=', '0.3282', 'loss=', '0.000296602')\n",
      "('Epoch:', '0089', 'training time (minutes)=', '0.3246', 'loss=', '0.000294277')\n",
      "('Epoch:', '0090', 'training time (minutes)=', '0.3276', 'loss=', '0.000292981')\n",
      "INFO:tensorflow:/orions4-zfs/projects/optas/DATA/OUT/iclr/nn_models/testing_ae_settings/wu__exp_1_4096_pts_bneck_1024_chamfer/models.ckpt-90 is not in all_model_checkpoint_paths. Manually adding it.\n"
     ]
    },
    {
     "name": "stderr",
     "output_type": "stream",
     "text": [
      "INFO:tensorflow:/orions4-zfs/projects/optas/DATA/OUT/iclr/nn_models/testing_ae_settings/wu__exp_1_4096_pts_bneck_1024_chamfer/models.ckpt-90 is not in all_model_checkpoint_paths. Manually adding it.\n"
     ]
    },
    {
     "name": "stdout",
     "output_type": "stream",
     "text": [
      "('Held Out Data :', 'forward time (minutes)=', '0.0053', 'loss=', '0.000727372')\n",
      "('Epoch:', '0091', 'training time (minutes)=', '0.3269', 'loss=', '0.000288320')\n",
      "('Epoch:', '0092', 'training time (minutes)=', '0.3278', 'loss=', '0.000287931')\n",
      "('Epoch:', '0093', 'training time (minutes)=', '0.3244', 'loss=', '0.000284935')\n",
      "('Epoch:', '0094', 'training time (minutes)=', '0.3359', 'loss=', '0.000290867')\n",
      "('Epoch:', '0095', 'training time (minutes)=', '0.3226', 'loss=', '0.000286699')\n",
      "('Held Out Data :', 'forward time (minutes)=', '0.0053', 'loss=', '0.000723344')\n",
      "('Epoch:', '0096', 'training time (minutes)=', '0.3284', 'loss=', '0.000284524')\n",
      "('Epoch:', '0097', 'training time (minutes)=', '0.3284', 'loss=', '0.000284057')\n",
      "('Epoch:', '0098', 'training time (minutes)=', '0.3389', 'loss=', '0.000280941')\n",
      "('Epoch:', '0099', 'training time (minutes)=', '0.3270', 'loss=', '0.000274134')\n",
      "('Epoch:', '0100', 'training time (minutes)=', '0.3285', 'loss=', '0.000270106')\n",
      "INFO:tensorflow:/orions4-zfs/projects/optas/DATA/OUT/iclr/nn_models/testing_ae_settings/wu__exp_1_4096_pts_bneck_1024_chamfer/models.ckpt-100 is not in all_model_checkpoint_paths. Manually adding it.\n"
     ]
    },
    {
     "name": "stderr",
     "output_type": "stream",
     "text": [
      "INFO:tensorflow:/orions4-zfs/projects/optas/DATA/OUT/iclr/nn_models/testing_ae_settings/wu__exp_1_4096_pts_bneck_1024_chamfer/models.ckpt-100 is not in all_model_checkpoint_paths. Manually adding it.\n"
     ]
    },
    {
     "name": "stdout",
     "output_type": "stream",
     "text": [
      "('Held Out Data :', 'forward time (minutes)=', '0.0053', 'loss=', '0.000708920')\n"
     ]
    }
   ],
   "source": [
    "if do_training:\n",
    "    buf_size = 1 # flush each line\n",
    "    fout = open(osp.join(conf.train_dir, 'train_stats.txt'), 'a', buf_size)    \n",
    "    train_stats = ae.train(train_data, conf, log_file=fout, held_out_data=val_data)\n",
    "    fout.close()"
   ]
  },
  {
   "cell_type": "code",
   "execution_count": 19,
   "metadata": {
    "collapsed": false
   },
   "outputs": [
    {
     "name": "stdout",
     "output_type": "stream",
     "text": [
      "Medians of Accuracy=0.935, Coverage=0.969, H-mean=0.951.\n"
     ]
    }
   ],
   "source": [
    "some_pcs = train_data.next_batch(100)[0]\n",
    "recon_pcs = ae.reconstruct(some_pcs)[0]\n",
    "a, b, _ = basic_comletion_measures(some_pcs, recon_pcs)"
   ]
  },
  {
   "cell_type": "code",
   "execution_count": null,
   "metadata": {
    "collapsed": true
   },
   "outputs": [],
   "source": []
  },
  {
   "cell_type": "code",
   "execution_count": null,
   "metadata": {
    "collapsed": true
   },
   "outputs": [],
   "source": []
  },
  {
   "cell_type": "code",
   "execution_count": null,
   "metadata": {
    "collapsed": true
   },
   "outputs": [],
   "source": []
  }
 ],
 "metadata": {
  "kernelspec": {
   "display_name": "Python 2",
   "language": "python",
   "name": "python2"
  },
  "language_info": {
   "codemirror_mode": {
    "name": "ipython",
    "version": 2
   },
   "file_extension": ".py",
   "mimetype": "text/x-python",
   "name": "python",
   "nbconvert_exporter": "python",
   "pygments_lexer": "ipython2",
   "version": "2.7.6"
  }
 },
 "nbformat": 4,
 "nbformat_minor": 0
}
