{
 "cells": [
  {
   "cell_type": "code",
   "execution_count": 1,
   "metadata": {
    "collapsed": false
   },
   "outputs": [
    {
     "name": "stdout",
     "output_type": "stream",
     "text": [
      "Picking GPU 0\n"
     ]
    }
   ],
   "source": [
    "from general_tools.notebook.gpu_utils import setup_one_gpu\n",
    "GPU = 0\n",
    "setup_one_gpu(GPU)"
   ]
  },
  {
   "cell_type": "code",
   "execution_count": 1,
   "metadata": {
    "collapsed": false
   },
   "outputs": [],
   "source": [
    "import sys\n",
    "import time\n",
    "import numpy as np\n",
    "import os.path as osp\n",
    "import tensorflow as tf\n",
    "import matplotlib.pyplot as plt\n",
    "\n",
    "from general_tools.notebook.tf import reset_tf_graph\n",
    "from general_tools.in_out import create_dir\n",
    "from general_tools.in_out.basics import create_dir, delete_files_in_directory, files_in_subdirs\n",
    "\n",
    "from geo_tool import Point_Cloud\n",
    "\n",
    "from tf_lab.point_clouds.ae_templates import conv_architecture_ala_nips_17, default_train_params_ala_nips_17\n",
    "from tf_lab.point_clouds.encoders_decoders import encoder_with_convs_and_symmetry, decoder_with_fc_only\n",
    "from tf_lab.point_clouds.point_net_ae import PointNetAutoEncoder\n",
    "from tf_lab.point_clouds.autoencoder import Configuration as Conf\n",
    "\n",
    "from tf_lab.point_clouds.in_out import load_point_clouds_from_filenames, PointCloudDataSet\n",
    "\n",
    "from tf_lab.in_out.basics import Data_Splitter\n",
    "from tf_lab.data_sets.shape_net import pc_loader as snc_loader\n",
    "from tf_lab.data_sets.shape_net import snc_category_to_synth_id"
   ]
  },
  {
   "cell_type": "code",
   "execution_count": 2,
   "metadata": {
    "collapsed": false
   },
   "outputs": [],
   "source": [
    "%load_ext autoreload\n",
    "%autoreload 2\n",
    "%matplotlib inline"
   ]
  },
  {
   "cell_type": "code",
   "execution_count": 3,
   "metadata": {
    "collapsed": true
   },
   "outputs": [],
   "source": [
    "n_pc_points = 2048\n",
    "top_data_dir = '/orions4-zfs/projects/optas/DATA/'\n",
    "top_pclouds_path = osp.join(top_data_dir, 'Point_Clouds/Shape_Net/Core/from_manifold_meshes/centered/', str(n_pc_points))\n",
    "train_split = osp.join(top_data_dir, 'Point_Clouds/Shape_Net/Splits/wu_small_size_splits/train.txt')\n",
    "val_split = osp.join(top_data_dir, 'Point_Clouds/Shape_Net/Splits/wu_small_size_splits/val.txt')"
   ]
  },
  {
   "cell_type": "code",
   "execution_count": 4,
   "metadata": {
    "collapsed": true
   },
   "outputs": [],
   "source": [
    "do_training = True\n",
    "load_pretrained_model = False\n",
    "load_epoch = None\n",
    "random_seed = 42\n",
    "splitter = Data_Splitter(top_pclouds_path, data_file_ending='.ply', random_seed=42)"
   ]
  },
  {
   "cell_type": "code",
   "execution_count": 5,
   "metadata": {
    "collapsed": false
   },
   "outputs": [],
   "source": [
    "bneck_size = 256\n",
    "loss = 'chamfer'\n",
    "experiment_id = '1'"
   ]
  },
  {
   "cell_type": "code",
   "execution_count": 9,
   "metadata": {
    "collapsed": false
   },
   "outputs": [
    {
     "data": {
      "text/plain": [
       "'/orions4-zfs/projects/optas/DATA/OUT/iclr/nn_models/testing_ae_settings/wu_small_1_2048_pts_bneck_256_chamfer'"
      ]
     },
     "execution_count": 9,
     "metadata": {},
     "output_type": "execute_result"
    }
   ],
   "source": [
    "experiment_name = '_'.join(['wu_small', experiment_id, str(n_pc_points),\n",
    "                            'pts_bneck', str(bneck_size), loss\n",
    "                           ])\n",
    "\n",
    "train_dir = osp.join(top_data_dir, 'OUT/iclr/nn_models/testing_ae_settings', experiment_name)\n",
    "create_dir(train_dir)"
   ]
  },
  {
   "cell_type": "code",
   "execution_count": 10,
   "metadata": {
    "collapsed": false
   },
   "outputs": [
    {
     "name": "stdout",
     "output_type": "stream",
     "text": [
      "3500 pclouds were loaded. They belong in 7 shape-classes.\n",
      "350 pclouds were loaded. They belong in 7 shape-classes.\n"
     ]
    }
   ],
   "source": [
    "tr_files = splitter.load_splits(train_split)\n",
    "pclouds, model_ids, syn_ids = load_point_clouds_from_filenames(tr_files, n_threads=40, loader=snc_loader, verbose=True)\n",
    "train_data = PointCloudDataSet(pclouds, labels=syn_ids + '_' + model_ids)\n",
    "\n",
    "val_files = splitter.load_splits(val_split)\n",
    "pclouds, model_ids, syn_ids = load_point_clouds_from_filenames(val_files, n_threads=40, loader=snc_loader, verbose=True)\n",
    "val_data = PointCloudDataSet(pclouds, labels=syn_ids + '_' + model_ids)"
   ]
  },
  {
   "cell_type": "code",
   "execution_count": 29,
   "metadata": {
    "collapsed": false
   },
   "outputs": [],
   "source": [
    "default_train_params_ala_nips_17()\n",
    "\n",
    "def architectures_to_test(bneck, bnorm, neighborhood):\n",
    "    res = dict()\n",
    "\n",
    "    res['encoder_args'] = {'filter_sizes': [neighborhood, min(neighborhood, 20), 10, 5],\n",
    "                           'n_filters': [64, 128, 256, bneck],\n",
    "                           'strides': [1, 1, 2, 2],\n",
    "                           'b_norm': bnorm\n",
    "                          }\n",
    "    \n",
    "    res['decoder_args'] = {'layer_sizes': [1024, 2048, 6144],\n",
    "                           'b_norm': bnorm\n",
    "                          }\n",
    "    return res"
   ]
  },
  {
   "cell_type": "code",
   "execution_count": null,
   "metadata": {
    "collapsed": true
   },
   "outputs": [],
   "source": []
  },
  {
   "cell_type": "code",
   "execution_count": 30,
   "metadata": {
    "collapsed": false
   },
   "outputs": [],
   "source": [
    "arc_param = architectures_to_test(bneck_size, False, 10)"
   ]
  },
  {
   "cell_type": "code",
   "execution_count": 31,
   "metadata": {
    "collapsed": false
   },
   "outputs": [],
   "source": [
    "if load_pretrained_model:\n",
    "    conf = Conf.load(osp.join(train_dir, 'configuration'))\n",
    "    print conf\n",
    "    if conf.train_dir != train_dir:\n",
    "        conf.train_dir = train_dir\n",
    "    conf.save(osp.join(train_dir, 'configuration'))\n",
    "else:\n",
    "    conf = Conf(\n",
    "                n_input = [n_pc_points, 3],\n",
    "                loss = loss,\n",
    "                training_epochs = 100,\n",
    "                batch_size = 50,\n",
    "                denoising = False,\n",
    "                learning_rate = 0.0005,\n",
    "                train_dir = train_dir,             \n",
    "                loss_display_step = 1,\n",
    "                saver_step = 10,\n",
    "                z_rotate = False,\n",
    "                encoder = encoder_with_convs_and_symmetry,\n",
    "                decoder = decoder_with_fc_only,\n",
    "                encoder_args = arc_param['encoder_args'],\n",
    "                decoder_args = arc_param['decoder_args'],\n",
    "               )\n",
    "    \n",
    "    conf.experiment_name = experiment_name\n",
    "    conf.held_out_step = 5\n",
    "    conf.save(osp.join(conf.train_dir, 'configuration'))"
   ]
  },
  {
   "cell_type": "code",
   "execution_count": 32,
   "metadata": {
    "collapsed": true
   },
   "outputs": [],
   "source": [
    "reset_tf_graph()\n",
    "ae = PointNetAutoEncoder(conf.experiment_name, conf)"
   ]
  },
  {
   "cell_type": "code",
   "execution_count": 19,
   "metadata": {
    "collapsed": true
   },
   "outputs": [],
   "source": [
    "if load_pretrained_model:\n",
    "    if load_epoch is None: # load last saved.\n",
    "        saved_epochs = read_saved_epochs(conf.train_dir)\n",
    "        load_epoch = saved_epochs[-1]        \n",
    "    ae.restore_model(conf.train_dir, load_epoch, verbose=True)"
   ]
  },
  {
   "cell_type": "code",
   "execution_count": 33,
   "metadata": {
    "collapsed": false
   },
   "outputs": [
    {
     "name": "stdout",
     "output_type": "stream",
     "text": [
      "('Epoch:', '0001', 'training time (minutes)=', '0.0605', 'loss=', '0.007054574')\n",
      "INFO:tensorflow:/orions4-zfs/projects/optas/DATA/OUT/iclr/nn_models/testing_ae_settings/wu_small_1_2048_pts_bneck_256_chamfer/models.ckpt-1 is not in all_model_checkpoint_paths. Manually adding it.\n"
     ]
    },
    {
     "name": "stderr",
     "output_type": "stream",
     "text": [
      "INFO:tensorflow:/orions4-zfs/projects/optas/DATA/OUT/iclr/nn_models/testing_ae_settings/wu_small_1_2048_pts_bneck_256_chamfer/models.ckpt-1 is not in all_model_checkpoint_paths. Manually adding it.\n"
     ]
    },
    {
     "name": "stdout",
     "output_type": "stream",
     "text": [
      "('Epoch:', '0002', 'training time (minutes)=', '0.0592', 'loss=', '0.002501663')\n",
      "('Epoch:', '0003', 'training time (minutes)=', '0.0597', 'loss=', '0.001701769')\n",
      "('Epoch:', '0004', 'training time (minutes)=', '0.0592', 'loss=', '0.001516148')\n",
      "('Epoch:', '0005', 'training time (minutes)=', '0.0595', 'loss=', '0.001342192')\n",
      "('Held Out Data :', 'forward time (minutes)=', '0.0018', 'loss=', '0.001368445')\n",
      "('Epoch:', '0006', 'training time (minutes)=', '0.0597', 'loss=', '0.001233118')\n",
      "('Epoch:', '0007', 'training time (minutes)=', '0.0602', 'loss=', '0.001161133')\n",
      "('Epoch:', '0008', 'training time (minutes)=', '0.0597', 'loss=', '0.001114744')\n",
      "('Epoch:', '0009', 'training time (minutes)=', '0.0598', 'loss=', '0.001042674')\n",
      "('Epoch:', '0010', 'training time (minutes)=', '0.0601', 'loss=', '0.001001314')\n",
      "INFO:tensorflow:/orions4-zfs/projects/optas/DATA/OUT/iclr/nn_models/testing_ae_settings/wu_small_1_2048_pts_bneck_256_chamfer/models.ckpt-10 is not in all_model_checkpoint_paths. Manually adding it.\n"
     ]
    },
    {
     "name": "stderr",
     "output_type": "stream",
     "text": [
      "INFO:tensorflow:/orions4-zfs/projects/optas/DATA/OUT/iclr/nn_models/testing_ae_settings/wu_small_1_2048_pts_bneck_256_chamfer/models.ckpt-10 is not in all_model_checkpoint_paths. Manually adding it.\n"
     ]
    },
    {
     "name": "stdout",
     "output_type": "stream",
     "text": [
      "('Held Out Data :', 'forward time (minutes)=', '0.0018', 'loss=', '0.001132294')\n",
      "('Epoch:', '0011', 'training time (minutes)=', '0.0603', 'loss=', '0.000956231')\n",
      "('Epoch:', '0012', 'training time (minutes)=', '0.0606', 'loss=', '0.000976214')\n",
      "('Epoch:', '0013', 'training time (minutes)=', '0.0605', 'loss=', '0.000959531')\n",
      "('Epoch:', '0014', 'training time (minutes)=', '0.0611', 'loss=', '0.000932220')\n",
      "('Epoch:', '0015', 'training time (minutes)=', '0.0643', 'loss=', '0.000860587')\n",
      "('Held Out Data :', 'forward time (minutes)=', '0.0019', 'loss=', '0.001040511')\n",
      "('Epoch:', '0016', 'training time (minutes)=', '0.0640', 'loss=', '0.000845874')\n",
      "('Epoch:', '0017', 'training time (minutes)=', '0.0606', 'loss=', '0.000854680')\n",
      "('Epoch:', '0018', 'training time (minutes)=', '0.0613', 'loss=', '0.000834376')\n",
      "('Epoch:', '0019', 'training time (minutes)=', '0.0630', 'loss=', '0.000786827')\n",
      "('Epoch:', '0020', 'training time (minutes)=', '0.0642', 'loss=', '0.000781352')\n",
      "INFO:tensorflow:/orions4-zfs/projects/optas/DATA/OUT/iclr/nn_models/testing_ae_settings/wu_small_1_2048_pts_bneck_256_chamfer/models.ckpt-20 is not in all_model_checkpoint_paths. Manually adding it.\n"
     ]
    },
    {
     "name": "stderr",
     "output_type": "stream",
     "text": [
      "INFO:tensorflow:/orions4-zfs/projects/optas/DATA/OUT/iclr/nn_models/testing_ae_settings/wu_small_1_2048_pts_bneck_256_chamfer/models.ckpt-20 is not in all_model_checkpoint_paths. Manually adding it.\n"
     ]
    },
    {
     "name": "stdout",
     "output_type": "stream",
     "text": [
      "('Held Out Data :', 'forward time (minutes)=', '0.0021', 'loss=', '0.001008347')\n",
      "('Epoch:', '0021', 'training time (minutes)=', '0.0650', 'loss=', '0.000774619')\n",
      "('Epoch:', '0022', 'training time (minutes)=', '0.0660', 'loss=', '0.000775269')\n",
      "('Epoch:', '0023', 'training time (minutes)=', '0.0634', 'loss=', '0.000782700')\n",
      "('Epoch:', '0024', 'training time (minutes)=', '0.0657', 'loss=', '0.000743323')\n",
      "('Epoch:', '0025', 'training time (minutes)=', '0.0606', 'loss=', '0.000713507')\n",
      "('Held Out Data :', 'forward time (minutes)=', '0.0017', 'loss=', '0.001020196')\n",
      "('Epoch:', '0026', 'training time (minutes)=', '0.0618', 'loss=', '0.000697903')\n",
      "('Epoch:', '0027', 'training time (minutes)=', '0.0651', 'loss=', '0.000700617')\n",
      "('Epoch:', '0028', 'training time (minutes)=', '0.0610', 'loss=', '0.000685791')\n",
      "('Epoch:', '0029', 'training time (minutes)=', '0.0629', 'loss=', '0.000682376')\n",
      "('Epoch:', '0030', 'training time (minutes)=', '0.0649', 'loss=', '0.000671986')\n",
      "INFO:tensorflow:/orions4-zfs/projects/optas/DATA/OUT/iclr/nn_models/testing_ae_settings/wu_small_1_2048_pts_bneck_256_chamfer/models.ckpt-30 is not in all_model_checkpoint_paths. Manually adding it.\n"
     ]
    },
    {
     "name": "stderr",
     "output_type": "stream",
     "text": [
      "INFO:tensorflow:/orions4-zfs/projects/optas/DATA/OUT/iclr/nn_models/testing_ae_settings/wu_small_1_2048_pts_bneck_256_chamfer/models.ckpt-30 is not in all_model_checkpoint_paths. Manually adding it.\n"
     ]
    },
    {
     "name": "stdout",
     "output_type": "stream",
     "text": [
      "('Held Out Data :', 'forward time (minutes)=', '0.0019', 'loss=', '0.000962777')\n",
      "('Epoch:', '0031', 'training time (minutes)=', '0.0626', 'loss=', '0.000676017')\n",
      "('Epoch:', '0032', 'training time (minutes)=', '0.0612', 'loss=', '0.000674471')\n",
      "('Epoch:', '0033', 'training time (minutes)=', '0.0643', 'loss=', '0.000680858')\n",
      "('Epoch:', '0034', 'training time (minutes)=', '0.0639', 'loss=', '0.000694209')\n",
      "('Epoch:', '0035', 'training time (minutes)=', '0.0643', 'loss=', '0.000681398')\n",
      "('Held Out Data :', 'forward time (minutes)=', '0.0018', 'loss=', '0.000976407')\n",
      "('Epoch:', '0036', 'training time (minutes)=', '0.0640', 'loss=', '0.000653182')\n",
      "('Epoch:', '0037', 'training time (minutes)=', '0.0627', 'loss=', '0.000656546')\n",
      "('Epoch:', '0038', 'training time (minutes)=', '0.0646', 'loss=', '0.000652129')\n",
      "('Epoch:', '0039', 'training time (minutes)=', '0.0610', 'loss=', '0.000650335')\n",
      "('Epoch:', '0040', 'training time (minutes)=', '0.0627', 'loss=', '0.000653114')\n",
      "INFO:tensorflow:/orions4-zfs/projects/optas/DATA/OUT/iclr/nn_models/testing_ae_settings/wu_small_1_2048_pts_bneck_256_chamfer/models.ckpt-40 is not in all_model_checkpoint_paths. Manually adding it.\n"
     ]
    },
    {
     "name": "stderr",
     "output_type": "stream",
     "text": [
      "INFO:tensorflow:/orions4-zfs/projects/optas/DATA/OUT/iclr/nn_models/testing_ae_settings/wu_small_1_2048_pts_bneck_256_chamfer/models.ckpt-40 is not in all_model_checkpoint_paths. Manually adding it.\n"
     ]
    },
    {
     "name": "stdout",
     "output_type": "stream",
     "text": [
      "('Held Out Data :', 'forward time (minutes)=', '0.0019', 'loss=', '0.000985518')\n",
      "('Epoch:', '0041', 'training time (minutes)=', '0.0609', 'loss=', '0.000610717')\n",
      "('Epoch:', '0042', 'training time (minutes)=', '0.0660', 'loss=', '0.000601827')\n",
      "('Epoch:', '0043', 'training time (minutes)=', '0.0609', 'loss=', '0.000584940')\n",
      "('Epoch:', '0044', 'training time (minutes)=', '0.0634', 'loss=', '0.000624320')\n",
      "('Epoch:', '0045', 'training time (minutes)=', '0.0669', 'loss=', '0.000618708')\n",
      "('Held Out Data :', 'forward time (minutes)=', '0.0019', 'loss=', '0.000988964')\n",
      "('Epoch:', '0046', 'training time (minutes)=', '0.0638', 'loss=', '0.000580055')\n",
      "('Epoch:', '0047', 'training time (minutes)=', '0.0637', 'loss=', '0.000563903')\n",
      "('Epoch:', '0048', 'training time (minutes)=', '0.0608', 'loss=', '0.000550275')\n",
      "('Epoch:', '0049', 'training time (minutes)=', '0.0657', 'loss=', '0.000553588')\n",
      "('Epoch:', '0050', 'training time (minutes)=', '0.0624', 'loss=', '0.000550764')\n",
      "INFO:tensorflow:/orions4-zfs/projects/optas/DATA/OUT/iclr/nn_models/testing_ae_settings/wu_small_1_2048_pts_bneck_256_chamfer/models.ckpt-50 is not in all_model_checkpoint_paths. Manually adding it.\n"
     ]
    },
    {
     "name": "stderr",
     "output_type": "stream",
     "text": [
      "INFO:tensorflow:/orions4-zfs/projects/optas/DATA/OUT/iclr/nn_models/testing_ae_settings/wu_small_1_2048_pts_bneck_256_chamfer/models.ckpt-50 is not in all_model_checkpoint_paths. Manually adding it.\n"
     ]
    },
    {
     "name": "stdout",
     "output_type": "stream",
     "text": [
      "('Held Out Data :', 'forward time (minutes)=', '0.0018', 'loss=', '0.000953810')\n",
      "('Epoch:', '0051', 'training time (minutes)=', '0.0620', 'loss=', '0.000537097')\n",
      "('Epoch:', '0052', 'training time (minutes)=', '0.0673', 'loss=', '0.000538884')\n",
      "('Epoch:', '0053', 'training time (minutes)=', '0.0628', 'loss=', '0.000533880')\n",
      "('Epoch:', '0054', 'training time (minutes)=', '0.0643', 'loss=', '0.000553387')\n",
      "('Epoch:', '0055', 'training time (minutes)=', '0.0606', 'loss=', '0.000544950')\n",
      "('Held Out Data :', 'forward time (minutes)=', '0.0021', 'loss=', '0.000970720')\n",
      "('Epoch:', '0056', 'training time (minutes)=', '0.0607', 'loss=', '0.000535258')\n",
      "('Epoch:', '0057', 'training time (minutes)=', '0.0623', 'loss=', '0.000527093')\n",
      "('Epoch:', '0058', 'training time (minutes)=', '0.0678', 'loss=', '0.000512947')\n",
      "('Epoch:', '0059', 'training time (minutes)=', '0.0656', 'loss=', '0.000504251')\n",
      "('Epoch:', '0060', 'training time (minutes)=', '0.0627', 'loss=', '0.000510814')\n",
      "INFO:tensorflow:/orions4-zfs/projects/optas/DATA/OUT/iclr/nn_models/testing_ae_settings/wu_small_1_2048_pts_bneck_256_chamfer/models.ckpt-60 is not in all_model_checkpoint_paths. Manually adding it.\n"
     ]
    },
    {
     "name": "stderr",
     "output_type": "stream",
     "text": [
      "INFO:tensorflow:/orions4-zfs/projects/optas/DATA/OUT/iclr/nn_models/testing_ae_settings/wu_small_1_2048_pts_bneck_256_chamfer/models.ckpt-60 is not in all_model_checkpoint_paths. Manually adding it.\n"
     ]
    },
    {
     "name": "stdout",
     "output_type": "stream",
     "text": [
      "('Held Out Data :', 'forward time (minutes)=', '0.0018', 'loss=', '0.000937777')\n",
      "('Epoch:', '0061', 'training time (minutes)=', '0.0634', 'loss=', '0.000524498')\n",
      "('Epoch:', '0062', 'training time (minutes)=', '0.0609', 'loss=', '0.000517825')\n",
      "('Epoch:', '0063', 'training time (minutes)=', '0.0621', 'loss=', '0.000553481')\n",
      "('Epoch:', '0064', 'training time (minutes)=', '0.0622', 'loss=', '0.000508109')\n",
      "('Epoch:', '0065', 'training time (minutes)=', '0.0673', 'loss=', '0.000509550')\n",
      "('Held Out Data :', 'forward time (minutes)=', '0.0019', 'loss=', '0.000940734')\n",
      "('Epoch:', '0066', 'training time (minutes)=', '0.0649', 'loss=', '0.000499770')\n",
      "('Epoch:', '0067', 'training time (minutes)=', '0.0625', 'loss=', '0.000500493')\n",
      "('Epoch:', '0068', 'training time (minutes)=', '0.0644', 'loss=', '0.000496935')\n",
      "('Epoch:', '0069', 'training time (minutes)=', '0.0623', 'loss=', '0.000482624')\n",
      "('Epoch:', '0070', 'training time (minutes)=', '0.0610', 'loss=', '0.000490197')\n",
      "INFO:tensorflow:/orions4-zfs/projects/optas/DATA/OUT/iclr/nn_models/testing_ae_settings/wu_small_1_2048_pts_bneck_256_chamfer/models.ckpt-70 is not in all_model_checkpoint_paths. Manually adding it.\n"
     ]
    },
    {
     "name": "stderr",
     "output_type": "stream",
     "text": [
      "INFO:tensorflow:/orions4-zfs/projects/optas/DATA/OUT/iclr/nn_models/testing_ae_settings/wu_small_1_2048_pts_bneck_256_chamfer/models.ckpt-70 is not in all_model_checkpoint_paths. Manually adding it.\n"
     ]
    },
    {
     "name": "stdout",
     "output_type": "stream",
     "text": [
      "('Held Out Data :', 'forward time (minutes)=', '0.0019', 'loss=', '0.000963159')\n",
      "('Epoch:', '0071', 'training time (minutes)=', '0.0668', 'loss=', '0.000481841')\n",
      "('Epoch:', '0072', 'training time (minutes)=', '0.0618', 'loss=', '0.000466757')\n",
      "('Epoch:', '0073', 'training time (minutes)=', '0.0635', 'loss=', '0.000457043')\n",
      "('Epoch:', '0074', 'training time (minutes)=', '0.0670', 'loss=', '0.000459736')\n",
      "('Epoch:', '0075', 'training time (minutes)=', '0.0674', 'loss=', '0.000453240')\n",
      "('Held Out Data :', 'forward time (minutes)=', '0.0019', 'loss=', '0.000936817')\n",
      "('Epoch:', '0076', 'training time (minutes)=', '0.0626', 'loss=', '0.000444129')\n",
      "('Epoch:', '0077', 'training time (minutes)=', '0.0629', 'loss=', '0.000432899')\n",
      "('Epoch:', '0078', 'training time (minutes)=', '0.0605', 'loss=', '0.000422517')\n",
      "('Epoch:', '0079', 'training time (minutes)=', '0.0674', 'loss=', '0.000426903')\n",
      "('Epoch:', '0080', 'training time (minutes)=', '0.0646', 'loss=', '0.000451849')\n",
      "INFO:tensorflow:/orions4-zfs/projects/optas/DATA/OUT/iclr/nn_models/testing_ae_settings/wu_small_1_2048_pts_bneck_256_chamfer/models.ckpt-80 is not in all_model_checkpoint_paths. Manually adding it.\n"
     ]
    },
    {
     "name": "stderr",
     "output_type": "stream",
     "text": [
      "INFO:tensorflow:/orions4-zfs/projects/optas/DATA/OUT/iclr/nn_models/testing_ae_settings/wu_small_1_2048_pts_bneck_256_chamfer/models.ckpt-80 is not in all_model_checkpoint_paths. Manually adding it.\n"
     ]
    },
    {
     "name": "stdout",
     "output_type": "stream",
     "text": [
      "('Held Out Data :', 'forward time (minutes)=', '0.0019', 'loss=', '0.000960307')\n",
      "('Epoch:', '0081', 'training time (minutes)=', '0.0609', 'loss=', '0.000472315')\n",
      "('Epoch:', '0082', 'training time (minutes)=', '0.0618', 'loss=', '0.000445837')\n",
      "('Epoch:', '0083', 'training time (minutes)=', '0.0616', 'loss=', '0.000457885')\n",
      "('Epoch:', '0084', 'training time (minutes)=', '0.0684', 'loss=', '0.000469968')\n",
      "('Epoch:', '0085', 'training time (minutes)=', '0.0674', 'loss=', '0.000440367')\n",
      "('Held Out Data :', 'forward time (minutes)=', '0.0019', 'loss=', '0.000971852')\n",
      "('Epoch:', '0086', 'training time (minutes)=', '0.0642', 'loss=', '0.000443331')\n",
      "('Epoch:', '0087', 'training time (minutes)=', '0.0617', 'loss=', '0.000421544')\n",
      "('Epoch:', '0088', 'training time (minutes)=', '0.0626', 'loss=', '0.000467118')\n",
      "('Epoch:', '0089', 'training time (minutes)=', '0.0656', 'loss=', '0.000433889')\n",
      "('Epoch:', '0090', 'training time (minutes)=', '0.0610', 'loss=', '0.000421496')\n",
      "INFO:tensorflow:/orions4-zfs/projects/optas/DATA/OUT/iclr/nn_models/testing_ae_settings/wu_small_1_2048_pts_bneck_256_chamfer/models.ckpt-90 is not in all_model_checkpoint_paths. Manually adding it.\n"
     ]
    },
    {
     "name": "stderr",
     "output_type": "stream",
     "text": [
      "INFO:tensorflow:/orions4-zfs/projects/optas/DATA/OUT/iclr/nn_models/testing_ae_settings/wu_small_1_2048_pts_bneck_256_chamfer/models.ckpt-90 is not in all_model_checkpoint_paths. Manually adding it.\n"
     ]
    },
    {
     "name": "stdout",
     "output_type": "stream",
     "text": [
      "('Held Out Data :', 'forward time (minutes)=', '0.0018', 'loss=', '0.000951229')\n",
      "('Epoch:', '0091', 'training time (minutes)=', '0.0659', 'loss=', '0.000396336')\n",
      "('Epoch:', '0092', 'training time (minutes)=', '0.0636', 'loss=', '0.000393566')\n",
      "('Epoch:', '0093', 'training time (minutes)=', '0.0627', 'loss=', '0.000403425')\n",
      "('Epoch:', '0094', 'training time (minutes)=', '0.0632', 'loss=', '0.000397965')\n",
      "('Epoch:', '0095', 'training time (minutes)=', '0.0662', 'loss=', '0.000406779')\n",
      "('Held Out Data :', 'forward time (minutes)=', '0.0020', 'loss=', '0.000980583')\n",
      "('Epoch:', '0096', 'training time (minutes)=', '0.0639', 'loss=', '0.000393686')\n",
      "('Epoch:', '0097', 'training time (minutes)=', '0.0679', 'loss=', '0.000388394')\n",
      "('Epoch:', '0098', 'training time (minutes)=', '0.0626', 'loss=', '0.000402326')\n",
      "('Epoch:', '0099', 'training time (minutes)=', '0.0633', 'loss=', '0.000411435')\n",
      "('Epoch:', '0100', 'training time (minutes)=', '0.0642', 'loss=', '0.000413670')\n",
      "INFO:tensorflow:/orions4-zfs/projects/optas/DATA/OUT/iclr/nn_models/testing_ae_settings/wu_small_1_2048_pts_bneck_256_chamfer/models.ckpt-100 is not in all_model_checkpoint_paths. Manually adding it.\n"
     ]
    },
    {
     "name": "stderr",
     "output_type": "stream",
     "text": [
      "INFO:tensorflow:/orions4-zfs/projects/optas/DATA/OUT/iclr/nn_models/testing_ae_settings/wu_small_1_2048_pts_bneck_256_chamfer/models.ckpt-100 is not in all_model_checkpoint_paths. Manually adding it.\n"
     ]
    },
    {
     "name": "stdout",
     "output_type": "stream",
     "text": [
      "('Held Out Data :', 'forward time (minutes)=', '0.0020', 'loss=', '0.000991599')\n"
     ]
    }
   ],
   "source": [
    "if do_training:\n",
    "    buf_size = 1 # flush each line\n",
    "    fout = open(osp.join(conf.train_dir, 'train_stats.txt'), 'a', buf_size)    \n",
    "    train_stats = ae.train(train_data, conf, log_file=fout, held_out_data=val_data)\n",
    "    fout.close()"
   ]
  },
  {
   "cell_type": "code",
   "execution_count": 73,
   "metadata": {
    "collapsed": true
   },
   "outputs": [],
   "source": [
    "def count_cmp_to_value(in_tensor, bound_val, comparator=tf.equal, axis=None):\n",
    "    ''' count number of elements of tensors that are bigger/smaller etc. than a `bound_val`.\n",
    "    '''\n",
    "    elements_equal_to_value = comparator(in_tensor, bound_val)\n",
    "    as_ints = tf.cast(elements_equal_to_value, tf.int32)\n",
    "    count = tf.reduce_sum(as_ints, axis=axis)\n",
    "    count = tf.cast(count, tf.float32)\n",
    "    return count"
   ]
  },
  {
   "cell_type": "code",
   "execution_count": 119,
   "metadata": {
    "collapsed": false
   },
   "outputs": [],
   "source": [
    "\n",
    "from tf_lab.point_clouds.point_net_ae import nn_distance\n",
    "# from tf_lab.fundamentals.utils import count_cmp_to_value\n",
    "\n",
    "def accuracy_coverage(a, b, bound_val=0.02, sess=None):\n",
    "    \n",
    "    if sess is None:\n",
    "        sess = tf.Session()\n",
    "\n",
    "    a = tf.constant(a)\n",
    "    b = tf.constant(b)    \n",
    "    \n",
    "    cost_p1_p2, _, cost_p2_p1, _ = nn_distance(a, b)\n",
    "    \n",
    "#     elements_equal_to_value = tf.less_equal(in_tensor, bound_val)\n",
    "#     as_ints = tf.cast(elements_equal_to_value, tf.int32)\n",
    "#     count = tf.reduce_sum(as_ints)\n",
    "#     count = tf.cast(count, tf.float32)\n",
    "    \n",
    "    a = count_cmp_to_value(cost_p1_p2, bound_val, comparator=tf.less_equal, axis=1)    \n",
    "    \n",
    "    #     cost_p1_p2.eval()\n",
    "    ya, yaya = sess.run([cost_p1_p2, a])\n",
    "    print yaya / 2048.0\n",
    "    return ya, yaya\n",
    "    \n",
    "#     self.loss = tf.reduce_mean(cost_p1_p2) + tf.reduce_mean(cost_p2_p1)"
   ]
  },
  {
   "cell_type": "code",
   "execution_count": 121,
   "metadata": {
    "collapsed": false
   },
   "outputs": [
    {
     "name": "stdout",
     "output_type": "stream",
     "text": [
      "[ 1.          0.98535156  1.          1.          1.          0.99902344\n",
      "  1.          1.          1.          1.          1.          1.          1.\n",
      "  1.          1.          1.          1.          1.          1.          1.\n",
      "  1.          1.          1.          1.          1.          1.          1.\n",
      "  1.          1.          0.99951172  1.          1.          1.          1.\n",
      "  1.          1.          0.99707031  1.          1.          0.99755859\n",
      "  1.          1.          1.          1.          1.          1.          1.\n",
      "  1.          1.          1.          1.          1.          1.          1.\n",
      "  1.          1.          0.99902344  1.          1.          1.          1.\n",
      "  1.          1.          1.          1.          1.          1.          1.\n",
      "  1.          1.          1.          1.          1.          1.          1.\n",
      "  1.          1.          1.          0.99658203  1.          1.          1.\n",
      "  1.          1.          1.          1.          1.          1.\n",
      "  0.97314453  1.          1.          1.          1.          1.          1.\n",
      "  1.          1.          0.99365234  1.          1.        ]\n"
     ]
    }
   ],
   "source": [
    "dada = val_data.next_batch(100)[0]\n",
    "\n",
    "ya, yaya = yo(dada, ae.reconstruct(dada)[0])"
   ]
  },
  {
   "cell_type": "code",
   "execution_count": 112,
   "metadata": {
    "collapsed": false
   },
   "outputs": [
    {
     "data": {
      "text/plain": [
       "array([ 1.,  1.], dtype=float32)"
      ]
     },
     "execution_count": 112,
     "metadata": {},
     "output_type": "execute_result"
    }
   ],
   "source": [
    "yaya / 2048"
   ]
  },
  {
   "cell_type": "code",
   "execution_count": 113,
   "metadata": {
    "collapsed": false
   },
   "outputs": [
    {
     "data": {
      "text/plain": [
       "1.0"
      ]
     },
     "execution_count": 113,
     "metadata": {},
     "output_type": "execute_result"
    }
   ],
   "source": [
    "np.sum(ya[1] < 0.02) / 2048.0"
   ]
  },
  {
   "cell_type": "code",
   "execution_count": 45,
   "metadata": {
    "collapsed": false
   },
   "outputs": [
    {
     "data": {
      "image/png": "[encoded data removed]",
      "text/plain": [
       "<matplotlib.figure.Figure at 0x7ff8b401f8d0>"
      ]
     },
     "metadata": {},
     "output_type": "display_data"
    },
    {
     "data": {
      "image/png": "[encoded data removed]",
      "text/plain": [
       "<matplotlib.figure.Figure at 0x7ff8b401f8d0>"
      ]
     },
     "execution_count": 45,
     "metadata": {},
     "output_type": "execute_result"
    }
   ],
   "source": [
    "Point_Cloud(ae.reconstruct(train_data.next_batch(1)[0])[0][0]).plot()"
   ]
  }
 ],
 "metadata": {
  "kernelspec": {
   "display_name": "Python 2",
   "language": "python",
   "name": "python2"
  },
  "language_info": {
   "codemirror_mode": {
    "name": "ipython",
    "version": 2
   },
   "file_extension": ".py",
   "mimetype": "text/x-python",
   "name": "python",
   "nbconvert_exporter": "python",
   "pygments_lexer": "ipython2",
   "version": "2.7.6"
  }
 },
 "nbformat": 4,
 "nbformat_minor": 0
}
