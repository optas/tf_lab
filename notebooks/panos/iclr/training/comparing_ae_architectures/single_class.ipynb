{
 "cells": [
  {
   "cell_type": "code",
   "execution_count": 1,
   "metadata": {
    "collapsed": false,
    "deletable": true,
    "editable": true
   },
   "outputs": [
    {
     "name": "stdout",
     "output_type": "stream",
     "text": [
      "Picking GPU 0\n"
     ]
    }
   ],
   "source": [
    "from general_tools.notebook.gpu_utils import setup_one_gpu\n",
    "GPU = 0\n",
    "setup_one_gpu(GPU)"
   ]
  },
  {
   "cell_type": "code",
   "execution_count": 2,
   "metadata": {
    "collapsed": false,
    "deletable": true,
    "editable": true
   },
   "outputs": [],
   "source": [
    "import sys\n",
    "import time\n",
    "import numpy as np\n",
    "import os.path as osp\n",
    "import tensorflow as tf\n",
    "import matplotlib.pyplot as plt\n",
    "\n",
    "from general_tools.notebook.tf import reset_tf_graph\n",
    "from general_tools.in_out import create_dir\n",
    "from general_tools.in_out.basics import create_dir, delete_files_in_directory, files_in_subdirs\n",
    "\n",
    "from geo_tool import Point_Cloud\n",
    "\n",
    "from tf_lab.point_clouds.ae_templates import conv_architecture_ala_nips_17, default_train_params_ala_nips_17\n",
    "from tf_lab.point_clouds.point_net_ae import PointNetAutoEncoder\n",
    "from tf_lab.point_clouds.autoencoder import Configuration as Conf\n",
    "from tf_lab.point_clouds.in_out import load_crude_point_clouds, PointCloudDataSet\n",
    "\n",
    "from tf_lab.in_out.basics import read_saved_epochs          \n",
    "from tf_lab.data_sets.shape_net import pc_loader as snc_loader\n",
    "from tf_lab.data_sets.shape_net import snc_category_to_synth_id"
   ]
  },
  {
   "cell_type": "code",
   "execution_count": 3,
   "metadata": {
    "collapsed": false,
    "deletable": true,
    "editable": true
   },
   "outputs": [],
   "source": [
    "%load_ext autoreload\n",
    "%autoreload 2\n",
    "%matplotlib inline"
   ]
  },
  {
   "cell_type": "code",
   "execution_count": 5,
   "metadata": {
    "collapsed": false,
    "deletable": true,
    "editable": true
   },
   "outputs": [],
   "source": [
    "n_pc_points = 2048\n",
    "do_training = True\n",
    "first_time_running = True\n",
    "load_pretrained_model = False\n",
    "load_epoch = None\n",
    "seed = 42"
   ]
  },
  {
   "cell_type": "code",
   "execution_count": 8,
   "metadata": {
    "collapsed": false
   },
   "outputs": [
    {
     "name": "stdout",
     "output_type": "stream",
     "text": [
      "Give me the class type: chair\n",
      "Give me the experiment ID:213\n",
      "chair_213_2048_pts_bneck_64_chamfer\n"
     ]
    }
   ],
   "source": [
    "max_training_epochs = 300\n",
    "loss = 'chamfer'\n",
    "bneck_size = 64\n",
    "\n",
    "class_name = raw_input('Give me the class type: ').lower()\n",
    "syn_id = snc_category_to_synth_id()[class_name]\n",
    "\n",
    "experiment_id = raw_input('Give me the experiment ID:').lower()\n",
    "\n",
    "experiment_name = '_'.join([class_name, experiment_id, str(n_pc_points), \n",
    "                           'pts_bneck', str(bneck_size), loss\n",
    "                           ])\n",
    "\n",
    "print experiment_name\n",
    "\n",
    "# top_data_dir = '/orions4-zfs/projects/optas/DATA/'\n",
    "# train_dir = osp.join(top_data_dir, 'OUT/iclr/nn_models/testing_ae_settings', experiment_name)\n",
    "# create_dir(train_dir)"
   ]
  },
  {
   "cell_type": "code",
   "execution_count": 9,
   "metadata": {
    "collapsed": false,
    "deletable": true,
    "editable": true
   },
   "outputs": [
    {
     "name": "stdout",
     "output_type": "stream",
     "text": [
      "6778 files containing complete point clouds were found.\n"
     ]
    }
   ],
   "source": [
    "# Load complete Point-Clouds of single class\n",
    "pclouds_path = osp.join(top_data_dir, 'Point_Clouds/Shape_Net/Core/from_manifold_meshes/centered/', str(n_pc_points))\n",
    "pclouds_path = osp.join(pclouds_path, syn_id)\n",
    "file_names = [f for f in files_in_subdirs(pclouds_path, '.ply')]\n",
    "pclouds, model_ids, syn_ids = load_crude_point_clouds(file_names=file_names, n_threads=50, loader=snc_loader)\n",
    "assert(len(np.unique(syn_ids)) == 1)\n",
    "print '%d files containing complete point clouds were found.' % (len(pclouds), )\n",
    "train_data = PointCloudDataSet(pclouds, labels=model_ids)"
   ]
  },
  {
   "cell_type": "code",
   "execution_count": 2,
   "metadata": {
    "collapsed": false
   },
   "outputs": [
    {
     "ename": "NameError",
     "evalue": "name 'conv_architecture_ala_nips_17' is not defined",
     "output_type": "error",
     "traceback": [
      "\u001b[1;31m---------------------------------------------------------------------------\u001b[0m",
      "\u001b[1;31mNameError\u001b[0m                                 Traceback (most recent call last)",
      "\u001b[1;32m<ipython-input-2-a76ae470783a>\u001b[0m in \u001b[0;36m<module>\u001b[1;34m()\u001b[0m\n\u001b[1;32m----> 1\u001b[1;33m \u001b[0march_params\u001b[0m \u001b[1;33m=\u001b[0m \u001b[0mconv_architecture_ala_nips_17\u001b[0m\u001b[1;33m(\u001b[0m\u001b[0mn_pc_points\u001b[0m\u001b[1;33m)\u001b[0m\u001b[1;33m\u001b[0m\u001b[0m\n\u001b[0m\u001b[0;32m      2\u001b[0m \u001b[0mtrain_params\u001b[0m \u001b[1;33m=\u001b[0m \u001b[0mdefault_train_params_ala_nips_17\u001b[0m\u001b[1;33m(\u001b[0m\u001b[0mn_pc_points\u001b[0m\u001b[1;33m)\u001b[0m\u001b[1;33m\u001b[0m\u001b[0m\n",
      "\u001b[1;31mNameError\u001b[0m: name 'conv_architecture_ala_nips_17' is not defined"
     ]
    }
   ],
   "source": [
    "arch_params = conv_architecture_ala_nips_17(n_pc_points)\n",
    "train_params = default_train_params_ala_nips_17(n_pc_points)"
   ]
  },
  {
   "cell_type": "code",
   "execution_count": 218,
   "metadata": {
    "collapsed": false
   },
   "outputs": [],
   "source": [
    "arch_params['encoder_args']['n_filters'] = 128"
   ]
  },
  {
   "cell_type": "code",
   "execution_count": 219,
   "metadata": {
    "collapsed": true
   },
   "outputs": [],
   "source": [
    "train_dir = '/orions4-zfs/projects/optas/DATA/OUT/icml/nn_models/ae_farming/ae_farm_chair_conv_arch_8_2048pts_chamfer/'"
   ]
  },
  {
   "cell_type": "code",
   "execution_count": 220,
   "metadata": {
    "collapsed": true
   },
   "outputs": [],
   "source": [
    "load_pretrained_model = True"
   ]
  },
  {
   "cell_type": "code",
   "execution_count": null,
   "metadata": {
    "collapsed": true
   },
   "outputs": [],
   "source": []
  },
  {
   "cell_type": "code",
   "execution_count": 224,
   "metadata": {
    "collapsed": false
   },
   "outputs": [
    {
     "name": "stdout",
     "output_type": "stream",
     "text": [
      "                    batch_size: 50\n",
      "                 consistent_io: None\n",
      "                         debug: False\n",
      "                       decoder: decoder_with_fc_only\n",
      "                  decoder_args: {'layer_sizes': [1024, 2048, 6144]}\n",
      "                       encoder: encoder_with_convs_and_symmetry\n",
      "                  encoder_args: {'filter_sizes': [40, 20, 10, 10], 'n_filters': [128, 128, 256, 128], 'strides': [1, 2, 2, 1]}\n",
      "               experiment_name: ae_farm_chair_conv_arch_8_2048pts_chamfer\n",
      "                 gauss_augment: None\n",
      "                  is_denoising: False\n",
      "               latent_vs_recon: 1.0\n",
      "                 learning_rate: 0.0005\n",
      "                          loss: chamfer\n",
      "             loss_display_step: 1\n",
      "                       n_input: [2048, 3]\n",
      "                      n_output: [2048, 3]\n",
      "                           n_z: None\n",
      "             saver_max_to_keep: None\n",
      "                    saver_step: 10\n",
      "                     train_dir: /orions4-zfs/projects/optas/DATA/OUT/icml/nn_models/ae_farming/ae_farm_chair_conv_arch_8_2048pts_chamfer/\n",
      "               training_epochs: 1000\n",
      "                      z_rotate: False\n",
      "\n"
     ]
    }
   ],
   "source": [
    "if load_pretrained_model:\n",
    "    conf = Conf.load(osp.join(train_dir, 'configuration'))\n",
    "    print conf\n",
    "    if conf.train_dir != train_dir:\n",
    "        conf.train_dir = train_dir\n",
    "    conf.save(osp.join(train_dir, 'configuration'))\n",
    "else:\n",
    "    conf = Conf(\n",
    "                n_input = [n_pc_points, 3],\n",
    "                loss = loss,\n",
    "                training_epochs = train_params['training_epochs'],\n",
    "                batch_size = train_params['batch_size'],\n",
    "                denoising = train_params['denoising'],\n",
    "                learning_rate = train_params['learning_rate'],\n",
    "                train_dir = train_dir,              \n",
    "                loss_display_step = 1,\n",
    "                saver_step = None,\n",
    "                z_rotate = train_params['z_rotate'],\n",
    "                encoder = arch_params['encoder'],\n",
    "                decoder = arch_params['decoder'],                \n",
    "                encoder_args = arch_params['encoder_args'],\n",
    "                decoder_args = arch_params['decoder_args']               \n",
    "               )\n",
    "    \n",
    "    conf.experiment_name = experiment_name\n",
    "#     conf.save(osp.join(conf.train_dir, 'configuration'))"
   ]
  },
  {
   "cell_type": "code",
   "execution_count": 227,
   "metadata": {
    "collapsed": false
   },
   "outputs": [],
   "source": [
    "reset_tf_graph()\n",
    "ae = PointNetAutoEncoder(conf.experiment_name, conf)"
   ]
  },
  {
   "cell_type": "code",
   "execution_count": 3,
   "metadata": {
    "collapsed": false
   },
   "outputs": [
    {
     "ename": "NameError",
     "evalue": "name 'load_pretrained_model' is not defined",
     "output_type": "error",
     "traceback": [
      "\u001b[1;31m---------------------------------------------------------------------------\u001b[0m",
      "\u001b[1;31mNameError\u001b[0m                                 Traceback (most recent call last)",
      "\u001b[1;32m<ipython-input-3-9add6c0c7afb>\u001b[0m in \u001b[0;36m<module>\u001b[1;34m()\u001b[0m\n\u001b[1;32m----> 1\u001b[1;33m \u001b[1;32mif\u001b[0m \u001b[0mload_pretrained_model\u001b[0m\u001b[1;33m:\u001b[0m\u001b[1;33m\u001b[0m\u001b[0m\n\u001b[0m\u001b[0;32m      2\u001b[0m     \u001b[1;32mif\u001b[0m \u001b[0mload_epoch\u001b[0m \u001b[1;32mis\u001b[0m \u001b[0mNone\u001b[0m\u001b[1;33m:\u001b[0m \u001b[1;31m# load last saved.\u001b[0m\u001b[1;33m\u001b[0m\u001b[0m\n\u001b[0;32m      3\u001b[0m         \u001b[0msaved_epochs\u001b[0m \u001b[1;33m=\u001b[0m \u001b[0mread_saved_epochs\u001b[0m\u001b[1;33m(\u001b[0m\u001b[0mconf\u001b[0m\u001b[1;33m.\u001b[0m\u001b[0mtrain_dir\u001b[0m\u001b[1;33m)\u001b[0m\u001b[1;33m\u001b[0m\u001b[0m\n\u001b[0;32m      4\u001b[0m         \u001b[0mload_epoch\u001b[0m \u001b[1;33m=\u001b[0m \u001b[0msaved_epochs\u001b[0m\u001b[1;33m[\u001b[0m\u001b[1;33m-\u001b[0m\u001b[1;36m1\u001b[0m\u001b[1;33m]\u001b[0m\u001b[1;33m\u001b[0m\u001b[0m\n\u001b[0;32m      5\u001b[0m     \u001b[0mae\u001b[0m\u001b[1;33m.\u001b[0m\u001b[0mrestore_model\u001b[0m\u001b[1;33m(\u001b[0m\u001b[0mconf\u001b[0m\u001b[1;33m.\u001b[0m\u001b[0mtrain_dir\u001b[0m\u001b[1;33m,\u001b[0m \u001b[0mload_epoch\u001b[0m\u001b[1;33m,\u001b[0m \u001b[0mverbose\u001b[0m\u001b[1;33m=\u001b[0m\u001b[0mTrue\u001b[0m\u001b[1;33m)\u001b[0m\u001b[1;33m\u001b[0m\u001b[0m\n",
      "\u001b[1;31mNameError\u001b[0m: name 'load_pretrained_model' is not defined"
     ]
    }
   ],
   "source": [
    "if load_pretrained_model:\n",
    "    if load_epoch is None: # load last saved.\n",
    "        saved_epochs = read_saved_epochs(conf.train_dir)\n",
    "        load_epoch = saved_epochs[-1]        \n",
    "    ae.restore_model(conf.train_dir, load_epoch, verbose=True)"
   ]
  },
  {
   "cell_type": "code",
   "execution_count": null,
   "metadata": {
    "collapsed": true
   },
   "outputs": [],
   "source": []
  },
  {
   "cell_type": "code",
   "execution_count": null,
   "metadata": {
    "collapsed": true
   },
   "outputs": [],
   "source": []
  },
  {
   "cell_type": "code",
   "execution_count": null,
   "metadata": {
    "collapsed": true
   },
   "outputs": [],
   "source": []
  },
  {
   "cell_type": "code",
   "execution_count": null,
   "metadata": {
    "collapsed": true
   },
   "outputs": [],
   "source": []
  },
  {
   "cell_type": "code",
   "execution_count": 210,
   "metadata": {
    "collapsed": false
   },
   "outputs": [],
   "source": [
    "bind_new_method_to_instance(partial_fit, ae)"
   ]
  },
  {
   "cell_type": "code",
   "execution_count": 207,
   "metadata": {
    "collapsed": true
   },
   "outputs": [],
   "source": [
    "from tf_lab.point_clouds.convenience import reconstruct_pclouds"
   ]
  },
  {
   "cell_type": "code",
   "execution_count": 213,
   "metadata": {
    "collapsed": false
   },
   "outputs": [
    {
     "name": "stdout",
     "output_type": "stream",
     "text": [
      "0.00180301837036\n"
     ]
    }
   ],
   "source": [
    "rec, loss = reconstruct_pclouds(ae, train_data.point_clouds, 300)\n",
    "print loss"
   ]
  },
  {
   "cell_type": "code",
   "execution_count": null,
   "metadata": {
    "collapsed": true
   },
   "outputs": [],
   "source": []
  },
  {
   "cell_type": "code",
   "execution_count": 211,
   "metadata": {
    "collapsed": false
   },
   "outputs": [
    {
     "name": "stdout",
     "output_type": "stream",
     "text": [
      "('Epoch:', '0011', 'training time (minutes)=', '0.1979', 'loss=', '0.002349562')\n",
      "('Epoch:', '0012', 'training time (minutes)=', '0.1984', 'loss=', '0.002187133')\n",
      "('Epoch:', '0013', 'training time (minutes)=', '0.1993', 'loss=', '0.002074259')\n",
      "('Epoch:', '0014', 'training time (minutes)=', '0.2004', 'loss=', '0.001986993')\n",
      "('Epoch:', '0015', 'training time (minutes)=', '0.2072', 'loss=', '0.001884495')\n",
      "('Epoch:', '0016', 'training time (minutes)=', '0.2066', 'loss=', '0.001806534')\n"
     ]
    },
    {
     "ename": "UnboundLocalError",
     "evalue": "local variable 'recon' referenced before assignment",
     "output_type": "error",
     "traceback": [
      "\u001b[1;31m---------------------------------------------------------------------------\u001b[0m",
      "\u001b[1;31mUnboundLocalError\u001b[0m                         Traceback (most recent call last)",
      "\u001b[1;32m<ipython-input-211-b7c11ea53f05>\u001b[0m in \u001b[0;36m<module>\u001b[1;34m()\u001b[0m\n\u001b[0;32m      3\u001b[0m \u001b[1;33m\u001b[0m\u001b[0m\n\u001b[0;32m      4\u001b[0m     \u001b[0mfout\u001b[0m \u001b[1;33m=\u001b[0m \u001b[0mopen\u001b[0m\u001b[1;33m(\u001b[0m\u001b[0mosp\u001b[0m\u001b[1;33m.\u001b[0m\u001b[0mjoin\u001b[0m\u001b[1;33m(\u001b[0m\u001b[0mconf\u001b[0m\u001b[1;33m.\u001b[0m\u001b[0mtrain_dir\u001b[0m\u001b[1;33m,\u001b[0m \u001b[1;34m'train_stats.txt'\u001b[0m\u001b[1;33m)\u001b[0m\u001b[1;33m,\u001b[0m \u001b[1;34m'a'\u001b[0m\u001b[1;33m,\u001b[0m \u001b[0mbuf_size\u001b[0m\u001b[1;33m)\u001b[0m\u001b[1;33m\u001b[0m\u001b[0m\n\u001b[1;32m----> 5\u001b[1;33m     \u001b[0mtrain_stats\u001b[0m \u001b[1;33m=\u001b[0m \u001b[0mae\u001b[0m\u001b[1;33m.\u001b[0m\u001b[0mtrain\u001b[0m\u001b[1;33m(\u001b[0m\u001b[0mtrain_data\u001b[0m\u001b[1;33m,\u001b[0m \u001b[0mconf\u001b[0m\u001b[1;33m,\u001b[0m \u001b[0mlog_file\u001b[0m\u001b[1;33m=\u001b[0m\u001b[0mfout\u001b[0m\u001b[1;33m)\u001b[0m\u001b[1;33m\u001b[0m\u001b[0m\n\u001b[0m\u001b[0;32m      6\u001b[0m \u001b[1;33m\u001b[0m\u001b[0m\n\u001b[0;32m      7\u001b[0m     \u001b[0mfout\u001b[0m\u001b[1;33m.\u001b[0m\u001b[0mclose\u001b[0m\u001b[1;33m(\u001b[0m\u001b[1;33m)\u001b[0m\u001b[1;33m\u001b[0m\u001b[0m\n",
      "\u001b[1;32m/orions4-zfs/projects/optas/Git_Repos/tf_lab/point_clouds/autoencoder.pyc\u001b[0m in \u001b[0;36mtrain\u001b[1;34m(self, train_data, configuration, log_file, held_out_data)\u001b[0m\n\u001b[0;32m    183\u001b[0m \u001b[1;33m\u001b[0m\u001b[0m\n\u001b[0;32m    184\u001b[0m         \u001b[1;32mfor\u001b[0m \u001b[0m_\u001b[0m \u001b[1;32min\u001b[0m \u001b[0mxrange\u001b[0m\u001b[1;33m(\u001b[0m\u001b[0mc\u001b[0m\u001b[1;33m.\u001b[0m\u001b[0mtraining_epochs\u001b[0m\u001b[1;33m)\u001b[0m\u001b[1;33m:\u001b[0m\u001b[1;33m\u001b[0m\u001b[0m\n\u001b[1;32m--> 185\u001b[1;33m             \u001b[0mloss\u001b[0m\u001b[1;33m,\u001b[0m \u001b[0mduration\u001b[0m \u001b[1;33m=\u001b[0m \u001b[0mself\u001b[0m\u001b[1;33m.\u001b[0m\u001b[0m_single_epoch_train\u001b[0m\u001b[1;33m(\u001b[0m\u001b[0mtrain_data\u001b[0m\u001b[1;33m,\u001b[0m \u001b[0mc\u001b[0m\u001b[1;33m)\u001b[0m\u001b[1;33m\u001b[0m\u001b[0m\n\u001b[0m\u001b[0;32m    186\u001b[0m             \u001b[0mepoch\u001b[0m \u001b[1;33m=\u001b[0m \u001b[0mint\u001b[0m\u001b[1;33m(\u001b[0m\u001b[0mself\u001b[0m\u001b[1;33m.\u001b[0m\u001b[0msess\u001b[0m\u001b[1;33m.\u001b[0m\u001b[0mrun\u001b[0m\u001b[1;33m(\u001b[0m\u001b[0mself\u001b[0m\u001b[1;33m.\u001b[0m\u001b[0mepoch\u001b[0m\u001b[1;33m.\u001b[0m\u001b[0massign_add\u001b[0m\u001b[1;33m(\u001b[0m\u001b[0mtf\u001b[0m\u001b[1;33m.\u001b[0m\u001b[0mconstant\u001b[0m\u001b[1;33m(\u001b[0m\u001b[1;36m1.0\u001b[0m\u001b[1;33m)\u001b[0m\u001b[1;33m)\u001b[0m\u001b[1;33m)\u001b[0m\u001b[1;33m)\u001b[0m\u001b[1;33m\u001b[0m\u001b[0m\n\u001b[0;32m    187\u001b[0m             \u001b[0mstats\u001b[0m\u001b[1;33m.\u001b[0m\u001b[0mappend\u001b[0m\u001b[1;33m(\u001b[0m\u001b[1;33m(\u001b[0m\u001b[0mepoch\u001b[0m\u001b[1;33m,\u001b[0m \u001b[0mloss\u001b[0m\u001b[1;33m,\u001b[0m \u001b[0mduration\u001b[0m\u001b[1;33m)\u001b[0m\u001b[1;33m)\u001b[0m\u001b[1;33m\u001b[0m\u001b[0m\n",
      "\u001b[1;32m/orions4-zfs/projects/optas/Git_Repos/tf_lab/point_clouds/point_net_ae.py\u001b[0m in \u001b[0;36m_single_epoch_train\u001b[1;34m(self, train_data, configuration, only_fw)\u001b[0m\n\u001b[0;32m    148\u001b[0m                 \u001b[0m_\u001b[0m\u001b[1;33m,\u001b[0m \u001b[0mloss\u001b[0m \u001b[1;33m=\u001b[0m \u001b[0mfit\u001b[0m\u001b[1;33m(\u001b[0m\u001b[0mbatch_i\u001b[0m\u001b[1;33m,\u001b[0m \u001b[0moriginal_data\u001b[0m\u001b[1;33m)\u001b[0m\u001b[1;33m\u001b[0m\u001b[0m\n\u001b[0;32m    149\u001b[0m             \u001b[1;32melse\u001b[0m\u001b[1;33m:\u001b[0m\u001b[1;33m\u001b[0m\u001b[0m\n\u001b[1;32m--> 150\u001b[1;33m                 \u001b[0m_\u001b[0m\u001b[1;33m,\u001b[0m \u001b[0mloss\u001b[0m \u001b[1;33m=\u001b[0m \u001b[0mfit\u001b[0m\u001b[1;33m(\u001b[0m\u001b[0mbatch_i\u001b[0m\u001b[1;33m)\u001b[0m\u001b[1;33m\u001b[0m\u001b[0m\n\u001b[0m\u001b[0;32m    151\u001b[0m \u001b[1;33m\u001b[0m\u001b[0m\n\u001b[0;32m    152\u001b[0m             \u001b[1;31m# Compute average loss\u001b[0m\u001b[1;33m\u001b[0m\u001b[1;33m\u001b[0m\u001b[0m\n",
      "\u001b[1;32m<ipython-input-209-527fa06dbb9a>\u001b[0m in \u001b[0;36mpartial_fit\u001b[1;34m(self, X, GT)\u001b[0m\n\u001b[0;32m     23\u001b[0m             \u001b[0mis_training\u001b[0m\u001b[1;33m(\u001b[0m\u001b[0mFalse\u001b[0m\u001b[1;33m,\u001b[0m \u001b[0msession\u001b[0m\u001b[1;33m=\u001b[0m\u001b[0mself\u001b[0m\u001b[1;33m.\u001b[0m\u001b[0msess\u001b[0m\u001b[1;33m)\u001b[0m\u001b[1;33m\u001b[0m\u001b[0m\n\u001b[0;32m     24\u001b[0m \u001b[1;33m\u001b[0m\u001b[0m\n\u001b[1;32m---> 25\u001b[1;33m     \u001b[1;32mreturn\u001b[0m \u001b[0mrecon\u001b[0m\u001b[1;33m,\u001b[0m \u001b[0mloss\u001b[0m\u001b[1;33m\u001b[0m\u001b[0m\n\u001b[0m",
      "\u001b[1;31mUnboundLocalError\u001b[0m: local variable 'recon' referenced before assignment"
     ]
    }
   ],
   "source": [
    "if do_training:\n",
    "    buf_size = 1 # flush each line\n",
    "\n",
    "    fout = open(osp.join(conf.train_dir, 'train_stats.txt'), 'a', buf_size)    \n",
    "    train_stats = ae.train(train_data, conf, log_file=fout)\n",
    "\n",
    "    fout.close()"
   ]
  },
  {
   "cell_type": "code",
   "execution_count": 212,
   "metadata": {
    "collapsed": false
   },
   "outputs": [
    {
     "data": {
      "text/plain": [
       "False"
      ]
     },
     "execution_count": 212,
     "metadata": {},
     "output_type": "execute_result"
    }
   ],
   "source": [
    "ae.is_training()"
   ]
  },
  {
   "cell_type": "code",
   "execution_count": 194,
   "metadata": {
    "collapsed": false
   },
   "outputs": [
    {
     "name": "stdout",
     "output_type": "stream",
     "text": [
      "ae_farm_chair_increasing_stride_2048pts_bneck_128_chamfer/epoch:0 ()\n",
      "ae_farm_chair_increasing_stride_2048pts_bneck_128_chamfer/encoder_conv_layer_0/W:0 (40, 1, 3, 128)\n",
      "ae_farm_chair_increasing_stride_2048pts_bneck_128_chamfer/encoder_conv_layer_0/b:0 (128,)\n",
      "ae_farm_chair_increasing_stride_2048pts_bneck_128_chamfer/encoder_conv_layer_0_bnorm/beta:0 (128,)\n",
      "ae_farm_chair_increasing_stride_2048pts_bneck_128_chamfer/encoder_conv_layer_0_bnorm/gamma:0 (128,)\n",
      "ae_farm_chair_increasing_stride_2048pts_bneck_128_chamfer/encoder_conv_layer_0_bnorm/moving_mean:0 (128,)\n",
      "ae_farm_chair_increasing_stride_2048pts_bneck_128_chamfer/encoder_conv_layer_0_bnorm/moving_variance:0 (128,)\n",
      "ae_farm_chair_increasing_stride_2048pts_bneck_128_chamfer/encoder_conv_layer_0_bnorm/is_training:0 ()\n",
      "ae_farm_chair_increasing_stride_2048pts_bneck_128_chamfer/encoder_conv_layer_1/W:0 (20, 1, 128, 128)\n",
      "ae_farm_chair_increasing_stride_2048pts_bneck_128_chamfer/encoder_conv_layer_1/b:0 (128,)\n",
      "ae_farm_chair_increasing_stride_2048pts_bneck_128_chamfer/encoder_conv_layer_1_bnorm/beta:0 (128,)\n",
      "ae_farm_chair_increasing_stride_2048pts_bneck_128_chamfer/encoder_conv_layer_1_bnorm/gamma:0 (128,)\n",
      "ae_farm_chair_increasing_stride_2048pts_bneck_128_chamfer/encoder_conv_layer_1_bnorm/moving_mean:0 (128,)\n",
      "ae_farm_chair_increasing_stride_2048pts_bneck_128_chamfer/encoder_conv_layer_1_bnorm/moving_variance:0 (128,)\n",
      "ae_farm_chair_increasing_stride_2048pts_bneck_128_chamfer/encoder_conv_layer_2/W:0 (10, 1, 128, 256)\n",
      "ae_farm_chair_increasing_stride_2048pts_bneck_128_chamfer/encoder_conv_layer_2/b:0 (256,)\n",
      "ae_farm_chair_increasing_stride_2048pts_bneck_128_chamfer/encoder_conv_layer_2_bnorm/beta:0 (256,)\n",
      "ae_farm_chair_increasing_stride_2048pts_bneck_128_chamfer/encoder_conv_layer_2_bnorm/gamma:0 (256,)\n",
      "ae_farm_chair_increasing_stride_2048pts_bneck_128_chamfer/encoder_conv_layer_2_bnorm/moving_mean:0 (256,)\n",
      "ae_farm_chair_increasing_stride_2048pts_bneck_128_chamfer/encoder_conv_layer_2_bnorm/moving_variance:0 (256,)\n",
      "ae_farm_chair_increasing_stride_2048pts_bneck_128_chamfer/encoder_conv_layer_3/W:0 (10, 1, 256, 128)\n",
      "ae_farm_chair_increasing_stride_2048pts_bneck_128_chamfer/encoder_conv_layer_3/b:0 (128,)\n",
      "ae_farm_chair_increasing_stride_2048pts_bneck_128_chamfer/encoder_conv_layer_3_bnorm/beta:0 (128,)\n",
      "ae_farm_chair_increasing_stride_2048pts_bneck_128_chamfer/encoder_conv_layer_3_bnorm/gamma:0 (128,)\n",
      "ae_farm_chair_increasing_stride_2048pts_bneck_128_chamfer/encoder_conv_layer_3_bnorm/moving_mean:0 (128,)\n",
      "ae_farm_chair_increasing_stride_2048pts_bneck_128_chamfer/encoder_conv_layer_3_bnorm/moving_variance:0 (128,)\n",
      "ae_farm_chair_increasing_stride_2048pts_bneck_128_chamfer/decoder_fc_0/W:0 (128, 1024)\n",
      "ae_farm_chair_increasing_stride_2048pts_bneck_128_chamfer/decoder_fc_0/b:0 (1024,)\n",
      "ae_farm_chair_increasing_stride_2048pts_bneck_128_chamfer/decoder_fc_0_bnorm/beta:0 (1024,)\n",
      "ae_farm_chair_increasing_stride_2048pts_bneck_128_chamfer/decoder_fc_0_bnorm/gamma:0 (1024,)\n",
      "ae_farm_chair_increasing_stride_2048pts_bneck_128_chamfer/decoder_fc_0_bnorm/moving_mean:0 (1024,)\n",
      "ae_farm_chair_increasing_stride_2048pts_bneck_128_chamfer/decoder_fc_0_bnorm/moving_variance:0 (1024,)\n",
      "ae_farm_chair_increasing_stride_2048pts_bneck_128_chamfer/decoder_fc_1/W:0 (1024, 2048)\n",
      "ae_farm_chair_increasing_stride_2048pts_bneck_128_chamfer/decoder_fc_1/b:0 (2048,)\n",
      "ae_farm_chair_increasing_stride_2048pts_bneck_128_chamfer/decoder_fc_1_bnorm/beta:0 (2048,)\n",
      "ae_farm_chair_increasing_stride_2048pts_bneck_128_chamfer/decoder_fc_1_bnorm/gamma:0 (2048,)\n",
      "ae_farm_chair_increasing_stride_2048pts_bneck_128_chamfer/decoder_fc_1_bnorm/moving_mean:0 (2048,)\n",
      "ae_farm_chair_increasing_stride_2048pts_bneck_128_chamfer/decoder_fc_1_bnorm/moving_variance:0 (2048,)\n",
      "ae_farm_chair_increasing_stride_2048pts_bneck_128_chamfer/decoder_fc_2/W:0 (2048, 6144)\n",
      "ae_farm_chair_increasing_stride_2048pts_bneck_128_chamfer/decoder_fc_2/b:0 (6144,)\n",
      "ae_farm_chair_increasing_stride_2048pts_bneck_128_chamfer_1/beta1_power:0 ()\n",
      "ae_farm_chair_increasing_stride_2048pts_bneck_128_chamfer_1/beta2_power:0 ()\n",
      "ae_farm_chair_increasing_stride_2048pts_bneck_128_chamfer_1/ae_farm_chair_increasing_stride_2048pts_bneck_128_chamfer/encoder_conv_layer_0/W/Adam:0 (40, 1, 3, 128)\n",
      "ae_farm_chair_increasing_stride_2048pts_bneck_128_chamfer_1/ae_farm_chair_increasing_stride_2048pts_bneck_128_chamfer/encoder_conv_layer_0/W/Adam_1:0 (40, 1, 3, 128)\n",
      "ae_farm_chair_increasing_stride_2048pts_bneck_128_chamfer_1/ae_farm_chair_increasing_stride_2048pts_bneck_128_chamfer/encoder_conv_layer_0/b/Adam:0 (128,)\n",
      "ae_farm_chair_increasing_stride_2048pts_bneck_128_chamfer_1/ae_farm_chair_increasing_stride_2048pts_bneck_128_chamfer/encoder_conv_layer_0/b/Adam_1:0 (128,)\n",
      "ae_farm_chair_increasing_stride_2048pts_bneck_128_chamfer_1/ae_farm_chair_increasing_stride_2048pts_bneck_128_chamfer/encoder_conv_layer_0_bnorm/beta/Adam:0 (128,)\n",
      "ae_farm_chair_increasing_stride_2048pts_bneck_128_chamfer_1/ae_farm_chair_increasing_stride_2048pts_bneck_128_chamfer/encoder_conv_layer_0_bnorm/beta/Adam_1:0 (128,)\n",
      "ae_farm_chair_increasing_stride_2048pts_bneck_128_chamfer_1/ae_farm_chair_increasing_stride_2048pts_bneck_128_chamfer/encoder_conv_layer_0_bnorm/gamma/Adam:0 (128,)\n",
      "ae_farm_chair_increasing_stride_2048pts_bneck_128_chamfer_1/ae_farm_chair_increasing_stride_2048pts_bneck_128_chamfer/encoder_conv_layer_0_bnorm/gamma/Adam_1:0 (128,)\n",
      "ae_farm_chair_increasing_stride_2048pts_bneck_128_chamfer_1/ae_farm_chair_increasing_stride_2048pts_bneck_128_chamfer/encoder_conv_layer_1/W/Adam:0 (20, 1, 128, 128)\n",
      "ae_farm_chair_increasing_stride_2048pts_bneck_128_chamfer_1/ae_farm_chair_increasing_stride_2048pts_bneck_128_chamfer/encoder_conv_layer_1/W/Adam_1:0 (20, 1, 128, 128)\n",
      "ae_farm_chair_increasing_stride_2048pts_bneck_128_chamfer_1/ae_farm_chair_increasing_stride_2048pts_bneck_128_chamfer/encoder_conv_layer_1/b/Adam:0 (128,)\n",
      "ae_farm_chair_increasing_stride_2048pts_bneck_128_chamfer_1/ae_farm_chair_increasing_stride_2048pts_bneck_128_chamfer/encoder_conv_layer_1/b/Adam_1:0 (128,)\n",
      "ae_farm_chair_increasing_stride_2048pts_bneck_128_chamfer_1/ae_farm_chair_increasing_stride_2048pts_bneck_128_chamfer/encoder_conv_layer_1_bnorm/beta/Adam:0 (128,)\n",
      "ae_farm_chair_increasing_stride_2048pts_bneck_128_chamfer_1/ae_farm_chair_increasing_stride_2048pts_bneck_128_chamfer/encoder_conv_layer_1_bnorm/beta/Adam_1:0 (128,)\n",
      "ae_farm_chair_increasing_stride_2048pts_bneck_128_chamfer_1/ae_farm_chair_increasing_stride_2048pts_bneck_128_chamfer/encoder_conv_layer_1_bnorm/gamma/Adam:0 (128,)\n",
      "ae_farm_chair_increasing_stride_2048pts_bneck_128_chamfer_1/ae_farm_chair_increasing_stride_2048pts_bneck_128_chamfer/encoder_conv_layer_1_bnorm/gamma/Adam_1:0 (128,)\n",
      "ae_farm_chair_increasing_stride_2048pts_bneck_128_chamfer_1/ae_farm_chair_increasing_stride_2048pts_bneck_128_chamfer/encoder_conv_layer_2/W/Adam:0 (10, 1, 128, 256)\n",
      "ae_farm_chair_increasing_stride_2048pts_bneck_128_chamfer_1/ae_farm_chair_increasing_stride_2048pts_bneck_128_chamfer/encoder_conv_layer_2/W/Adam_1:0 (10, 1, 128, 256)\n",
      "ae_farm_chair_increasing_stride_2048pts_bneck_128_chamfer_1/ae_farm_chair_increasing_stride_2048pts_bneck_128_chamfer/encoder_conv_layer_2/b/Adam:0 (256,)\n",
      "ae_farm_chair_increasing_stride_2048pts_bneck_128_chamfer_1/ae_farm_chair_increasing_stride_2048pts_bneck_128_chamfer/encoder_conv_layer_2/b/Adam_1:0 (256,)\n",
      "ae_farm_chair_increasing_stride_2048pts_bneck_128_chamfer_1/ae_farm_chair_increasing_stride_2048pts_bneck_128_chamfer/encoder_conv_layer_2_bnorm/beta/Adam:0 (256,)\n",
      "ae_farm_chair_increasing_stride_2048pts_bneck_128_chamfer_1/ae_farm_chair_increasing_stride_2048pts_bneck_128_chamfer/encoder_conv_layer_2_bnorm/beta/Adam_1:0 (256,)\n",
      "ae_farm_chair_increasing_stride_2048pts_bneck_128_chamfer_1/ae_farm_chair_increasing_stride_2048pts_bneck_128_chamfer/encoder_conv_layer_2_bnorm/gamma/Adam:0 (256,)\n",
      "ae_farm_chair_increasing_stride_2048pts_bneck_128_chamfer_1/ae_farm_chair_increasing_stride_2048pts_bneck_128_chamfer/encoder_conv_layer_2_bnorm/gamma/Adam_1:0 (256,)\n",
      "ae_farm_chair_increasing_stride_2048pts_bneck_128_chamfer_1/ae_farm_chair_increasing_stride_2048pts_bneck_128_chamfer/encoder_conv_layer_3/W/Adam:0 (10, 1, 256, 128)\n",
      "ae_farm_chair_increasing_stride_2048pts_bneck_128_chamfer_1/ae_farm_chair_increasing_stride_2048pts_bneck_128_chamfer/encoder_conv_layer_3/W/Adam_1:0 (10, 1, 256, 128)\n",
      "ae_farm_chair_increasing_stride_2048pts_bneck_128_chamfer_1/ae_farm_chair_increasing_stride_2048pts_bneck_128_chamfer/encoder_conv_layer_3/b/Adam:0 (128,)\n",
      "ae_farm_chair_increasing_stride_2048pts_bneck_128_chamfer_1/ae_farm_chair_increasing_stride_2048pts_bneck_128_chamfer/encoder_conv_layer_3/b/Adam_1:0 (128,)\n",
      "ae_farm_chair_increasing_stride_2048pts_bneck_128_chamfer_1/ae_farm_chair_increasing_stride_2048pts_bneck_128_chamfer/encoder_conv_layer_3_bnorm/beta/Adam:0 (128,)\n",
      "ae_farm_chair_increasing_stride_2048pts_bneck_128_chamfer_1/ae_farm_chair_increasing_stride_2048pts_bneck_128_chamfer/encoder_conv_layer_3_bnorm/beta/Adam_1:0 (128,)\n",
      "ae_farm_chair_increasing_stride_2048pts_bneck_128_chamfer_1/ae_farm_chair_increasing_stride_2048pts_bneck_128_chamfer/encoder_conv_layer_3_bnorm/gamma/Adam:0 (128,)\n",
      "ae_farm_chair_increasing_stride_2048pts_bneck_128_chamfer_1/ae_farm_chair_increasing_stride_2048pts_bneck_128_chamfer/encoder_conv_layer_3_bnorm/gamma/Adam_1:0 (128,)\n",
      "ae_farm_chair_increasing_stride_2048pts_bneck_128_chamfer_1/ae_farm_chair_increasing_stride_2048pts_bneck_128_chamfer/decoder_fc_0/W/Adam:0 (128, 1024)\n",
      "ae_farm_chair_increasing_stride_2048pts_bneck_128_chamfer_1/ae_farm_chair_increasing_stride_2048pts_bneck_128_chamfer/decoder_fc_0/W/Adam_1:0 (128, 1024)\n",
      "ae_farm_chair_increasing_stride_2048pts_bneck_128_chamfer_1/ae_farm_chair_increasing_stride_2048pts_bneck_128_chamfer/decoder_fc_0/b/Adam:0 (1024,)\n",
      "ae_farm_chair_increasing_stride_2048pts_bneck_128_chamfer_1/ae_farm_chair_increasing_stride_2048pts_bneck_128_chamfer/decoder_fc_0/b/Adam_1:0 (1024,)\n",
      "ae_farm_chair_increasing_stride_2048pts_bneck_128_chamfer_1/ae_farm_chair_increasing_stride_2048pts_bneck_128_chamfer/decoder_fc_0_bnorm/beta/Adam:0 (1024,)\n",
      "ae_farm_chair_increasing_stride_2048pts_bneck_128_chamfer_1/ae_farm_chair_increasing_stride_2048pts_bneck_128_chamfer/decoder_fc_0_bnorm/beta/Adam_1:0 (1024,)\n",
      "ae_farm_chair_increasing_stride_2048pts_bneck_128_chamfer_1/ae_farm_chair_increasing_stride_2048pts_bneck_128_chamfer/decoder_fc_0_bnorm/gamma/Adam:0 (1024,)\n",
      "ae_farm_chair_increasing_stride_2048pts_bneck_128_chamfer_1/ae_farm_chair_increasing_stride_2048pts_bneck_128_chamfer/decoder_fc_0_bnorm/gamma/Adam_1:0 (1024,)\n",
      "ae_farm_chair_increasing_stride_2048pts_bneck_128_chamfer_1/ae_farm_chair_increasing_stride_2048pts_bneck_128_chamfer/decoder_fc_1/W/Adam:0 (1024, 2048)\n",
      "ae_farm_chair_increasing_stride_2048pts_bneck_128_chamfer_1/ae_farm_chair_increasing_stride_2048pts_bneck_128_chamfer/decoder_fc_1/W/Adam_1:0 (1024, 2048)\n",
      "ae_farm_chair_increasing_stride_2048pts_bneck_128_chamfer_1/ae_farm_chair_increasing_stride_2048pts_bneck_128_chamfer/decoder_fc_1/b/Adam:0 (2048,)\n",
      "ae_farm_chair_increasing_stride_2048pts_bneck_128_chamfer_1/ae_farm_chair_increasing_stride_2048pts_bneck_128_chamfer/decoder_fc_1/b/Adam_1:0 (2048,)\n",
      "ae_farm_chair_increasing_stride_2048pts_bneck_128_chamfer_1/ae_farm_chair_increasing_stride_2048pts_bneck_128_chamfer/decoder_fc_1_bnorm/beta/Adam:0 (2048,)\n",
      "ae_farm_chair_increasing_stride_2048pts_bneck_128_chamfer_1/ae_farm_chair_increasing_stride_2048pts_bneck_128_chamfer/decoder_fc_1_bnorm/beta/Adam_1:0 (2048,)\n",
      "ae_farm_chair_increasing_stride_2048pts_bneck_128_chamfer_1/ae_farm_chair_increasing_stride_2048pts_bneck_128_chamfer/decoder_fc_1_bnorm/gamma/Adam:0 (2048,)\n",
      "ae_farm_chair_increasing_stride_2048pts_bneck_128_chamfer_1/ae_farm_chair_increasing_stride_2048pts_bneck_128_chamfer/decoder_fc_1_bnorm/gamma/Adam_1:0 (2048,)\n",
      "ae_farm_chair_increasing_stride_2048pts_bneck_128_chamfer_1/ae_farm_chair_increasing_stride_2048pts_bneck_128_chamfer/decoder_fc_2/W/Adam:0 (2048, 6144)\n",
      "ae_farm_chair_increasing_stride_2048pts_bneck_128_chamfer_1/ae_farm_chair_increasing_stride_2048pts_bneck_128_chamfer/decoder_fc_2/W/Adam_1:0 (2048, 6144)\n",
      "ae_farm_chair_increasing_stride_2048pts_bneck_128_chamfer_1/ae_farm_chair_increasing_stride_2048pts_bneck_128_chamfer/decoder_fc_2/b/Adam:0 (6144,)\n",
      "ae_farm_chair_increasing_stride_2048pts_bneck_128_chamfer_1/ae_farm_chair_increasing_stride_2048pts_bneck_128_chamfer/decoder_fc_2/b/Adam_1:0 (6144,)\n"
     ]
    }
   ],
   "source": [
    "g = ae.graph\n",
    "for variable in g.get_collection('variables'):\n",
    "    print variable.name, variable.get_shape()"
   ]
  },
  {
   "cell_type": "code",
   "execution_count": 205,
   "metadata": {
    "collapsed": false
   },
   "outputs": [
    {
     "data": {
      "text/plain": [
       "True"
      ]
     },
     "execution_count": 205,
     "metadata": {},
     "output_type": "execute_result"
    }
   ],
   "source": [
    "from tflearn import get_training_mode, \n",
    "ae.sess.run(get_training_mode())"
   ]
  },
  {
   "cell_type": "code",
   "execution_count": 196,
   "metadata": {
    "collapsed": false
   },
   "outputs": [
    {
     "data": {
      "text/plain": [
       "array([ 1.,  1.,  1.,  1.,  1.,  1.,  1.,  1.,  1.,  1.,  1.,  1.,  1.,\n",
       "        1.,  1.,  1.,  1.,  1.,  1.,  1.,  1.,  1.,  1.,  1.,  1.,  1.,\n",
       "        1.,  1.,  1.,  1.,  1.,  1.,  1.,  1.,  1.,  1.,  1.,  1.,  1.,\n",
       "        1.,  1.,  1.,  1.,  1.,  1.,  1.,  1.,  1.,  1.,  1.,  1.,  1.,\n",
       "        1.,  1.,  1.,  1.,  1.,  1.,  1.,  1.,  1.,  1.,  1.,  1.,  1.,\n",
       "        1.,  1.,  1.,  1.,  1.,  1.,  1.,  1.,  1.,  1.,  1.,  1.,  1.,\n",
       "        1.,  1.,  1.,  1.,  1.,  1.,  1.,  1.,  1.,  1.,  1.,  1.,  1.,\n",
       "        1.,  1.,  1.,  1.,  1.,  1.,  1.,  1.,  1.,  1.,  1.,  1.,  1.,\n",
       "        1.,  1.,  1.,  1.,  1.,  1.,  1.,  1.,  1.,  1.,  1.,  1.,  1.,\n",
       "        1.,  1.,  1.,  1.,  1.,  1.,  1.,  1.,  1.,  1.,  1.], dtype=float32)"
      ]
     },
     "execution_count": 196,
     "metadata": {},
     "output_type": "execute_result"
    }
   ],
   "source": [
    "b_tensor_name = 'ae_farm_chair_increasing_stride_2048pts_bneck_128_chamfer/encoder_conv_layer_1_bnorm/moving_variance:0'\n",
    "ae.sess.run(g.get_tensor_by_name(b_tensor_name))\n"
   ]
  },
  {
   "cell_type": "code",
   "execution_count": null,
   "metadata": {
    "collapsed": true
   },
   "outputs": [],
   "source": []
  },
  {
   "cell_type": "code",
   "execution_count": null,
   "metadata": {
    "collapsed": true
   },
   "outputs": [],
   "source": []
  },
  {
   "cell_type": "code",
   "execution_count": 90,
   "metadata": {
    "collapsed": true
   },
   "outputs": [],
   "source": []
  },
  {
   "cell_type": "code",
   "execution_count": 91,
   "metadata": {
    "collapsed": false
   },
   "outputs": [
    {
     "data": {
      "text/plain": [
       "15822464"
      ]
     },
     "execution_count": 91,
     "metadata": {},
     "output_type": "execute_result"
    }
   ],
   "source": []
  },
  {
   "cell_type": "code",
   "execution_count": null,
   "metadata": {
    "collapsed": false,
    "deletable": true,
    "editable": true
   },
   "outputs": [],
   "source": [
    "# Plot Some feed-reconstruction pairs.\n",
    "feed = train_data.next_batch(1)[0]\n",
    "rec = ae.reconstruct(feed)[0]\n",
    "Point_Cloud(feed[0]).plot();\n",
    "Point_Cloud(rec[0]).plot();"
   ]
  },
  {
   "cell_type": "code",
   "execution_count": null,
   "metadata": {
    "collapsed": true,
    "deletable": true,
    "editable": true
   },
   "outputs": [],
   "source": []
  },
  {
   "cell_type": "code",
   "execution_count": null,
   "metadata": {
    "collapsed": true,
    "deletable": true,
    "editable": true
   },
   "outputs": [],
   "source": []
  },
  {
   "cell_type": "code",
   "execution_count": null,
   "metadata": {
    "collapsed": true,
    "deletable": true,
    "editable": true
   },
   "outputs": [],
   "source": [
    "# sys.path.append('/orions4-zfs/projects/optas/Git_Repos/external_tools/YellowFin/tuner_utils')\n",
    "# from yellowfin import YFOptimizer\n",
    "# ae.optimizer = YFOptimizer"
   ]
  }
 ],
 "metadata": {
  "kernelspec": {
   "display_name": "Python 2",
   "language": "python",
   "name": "python2"
  },
  "language_info": {
   "codemirror_mode": {
    "name": "ipython",
    "version": 2
   },
   "file_extension": ".py",
   "mimetype": "text/x-python",
   "name": "python",
   "nbconvert_exporter": "python",
   "pygments_lexer": "ipython2",
   "version": "2.7.6"
  }
 },
 "nbformat": 4,
 "nbformat_minor": 2
}
