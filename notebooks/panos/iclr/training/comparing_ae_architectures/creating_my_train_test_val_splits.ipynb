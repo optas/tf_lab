{
 "cells": [
  {
   "cell_type": "code",
   "execution_count": 73,
   "metadata": {
    "collapsed": false
   },
   "outputs": [],
   "source": [
    "import numpy as np\n",
    "import os.path as osp\n",
    "from general_tools.in_out.basics import create_dir\n",
    "from tf_lab.nips.helper import wu_nips_16_categories\n",
    "from tf_lab.data_sets.shape_net import snc_category_to_synth_id\n",
    "from tf_lab.in_out.basics import Data_Splitter"
   ]
  },
  {
   "cell_type": "code",
   "execution_count": 69,
   "metadata": {
    "collapsed": false
   },
   "outputs": [
    {
     "name": "stdout",
     "output_type": "stream",
     "text": [
      "The autoreload extension is already loaded. To reload it, use:\n",
      "  %reload_ext autoreload\n"
     ]
    }
   ],
   "source": [
    "%load_ext autoreload\n",
    "%autoreload 2\n",
    "%matplotlib inline"
   ]
  },
  {
   "cell_type": "code",
   "execution_count": 10,
   "metadata": {
    "collapsed": false
   },
   "outputs": [],
   "source": [
    "n_pc_points = 2048\n",
    "random_seed = 42\n",
    "top_data_dir = '/orions4-zfs/projects/optas/DATA/'\n",
    "top_pclouds_path = osp.join(top_data_dir, 'Point_Clouds/Shape_Net/Core/from_manifold_meshes/centered/', str(n_pc_points))"
   ]
  },
  {
   "cell_type": "code",
   "execution_count": 18,
   "metadata": {
    "collapsed": false
   },
   "outputs": [],
   "source": [
    "_, wu_syn_ids = wu_nips_16_categories()\n",
    "splitter = Data_Splitter(top_pclouds_path, data_file_ending='.ply', random_seed=42)\n",
    "splitter.generate_splits(wu_syn_ids, top_data_dir, [0.85, 0.05, 0.1], keep_only=[500, 50, 100], run_debug=True)"
   ]
  },
  {
   "cell_type": "code",
   "execution_count": 75,
   "metadata": {
    "collapsed": false
   },
   "outputs": [
    {
     "name": "stdout",
     "output_type": "stream",
     "text": [
      "Give me the class type: chair\n",
      "are disjoint sets? True\n",
      "distributions\n",
      "train Counter({'03001627': 5761})\n",
      "test Counter({'03001627': 679})\n",
      "val Counter({'03001627': 338})\n",
      "are unique? True\n"
     ]
    }
   ],
   "source": [
    "class_name = raw_input('Give me the class type: ').lower()\n",
    "syn_id = snc_category_to_synth_id()[class_name]\n",
    "out_dir = create_dir(osp.join(top_data_dir, syn_id, '85_5_10'))\n",
    "splitter.generate_splits([syn_id], out_dir, [0.85, 0.05, 0.1], run_debug=True)"
   ]
  }
 ],
 "metadata": {
  "kernelspec": {
   "display_name": "Python 2",
   "language": "python",
   "name": "python2"
  },
  "language_info": {
   "codemirror_mode": {
    "name": "ipython",
    "version": 2
   },
   "file_extension": ".py",
   "mimetype": "text/x-python",
   "name": "python",
   "nbconvert_exporter": "python",
   "pygments_lexer": "ipython2",
   "version": "2.7.6"
  }
 },
 "nbformat": 4,
 "nbformat_minor": 0
}
