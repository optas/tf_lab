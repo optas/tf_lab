{
 "cells": [
  {
   "cell_type": "code",
   "execution_count": 1,
   "metadata": {
    "collapsed": false
   },
   "outputs": [
    {
     "name": "stderr",
     "output_type": "stream",
     "text": [
      "/orions4-zfs/projects/lins2/Panos_Space/Git_Repos/geo_tool/solids/mesh.py:26: UserWarning: Mayavi library was not found. Some graphics utilities will be disabled.\n",
      "  warnings.warn('Mayavi library was not found. Some graphics utilities will be disabled.')\n"
     ]
    }
   ],
   "source": [
    "import sys\n",
    "import time\n",
    "import numpy as np\n",
    "import os.path as osp\n",
    "import tensorflow as tf\n",
    "import matplotlib.pyplot as plt\n",
    "\n",
    "from tf_lab.fundamentals.utils import set_visible_GPUs, reset_tf_graph\n",
    "\n",
    "import tf_lab.point_clouds.in_out as pio\n",
    "from tf_lab.point_clouds.in_out import PointCloudDataSet, write_model_ids_of_datasets\n",
    "from tf_lab.point_clouds.point_net_ae import PointNetAutoEncoder\n",
    "from tf_lab.point_clouds.autoencoder import Configuration as Conf\n",
    "import tf_lab.point_clouds.encoders_decoders as enc_dec\n",
    "\n",
    "\n",
    "import tf_lab.autopredictors.scripts.virt_scan_data as vscan\n",
    "\n",
    "from tf_lab.autopredictors.scripts.helper import shape_net_category_to_synth_id, points_extension\n",
    "\n",
    "\n",
    "from tf_lab.autopredictors.plotting import plot_original_pclouds_vs_reconstructed, \\\n",
    "                                           plot_train_val_test_curves, plot_reconstructions_at_epoch\n",
    "        \n",
    "from tf_lab.autopredictors.evaluate import eval_model, read_saved_epochs, accuracy_of_completion, \\\n",
    "                                           coverage_of_completion\n",
    "                                                  \n",
    "\n",
    "from general_tools.in_out.basics import create_dir, delete_files_in_directory, files_in_subdirs\n",
    "from general_tools.simpletons import select_first_last_and_k\n",
    "from geo_tool import Point_Cloud"
   ]
  },
  {
   "cell_type": "code",
   "execution_count": 2,
   "metadata": {
    "collapsed": false
   },
   "outputs": [],
   "source": [
    "%load_ext autoreload\n",
    "%autoreload 2\n",
    "%matplotlib inline"
   ]
  },
  {
   "cell_type": "code",
   "execution_count": 9,
   "metadata": {
    "collapsed": false
   },
   "outputs": [
    {
     "name": "stdout",
     "output_type": "stream",
     "text": [
      "Give me the class type.\n",
      "cabinet\n"
     ]
    },
    {
     "data": {
      "text/plain": [
       "'/orions4-zfs/projects/lins2/Panos_Space/DATA/OUT/models/incomplete_pclouds/paper_vanilla_vscan/8_cabinet_2048_4096pts_emd'"
      ]
     },
     "execution_count": 9,
     "metadata": {},
     "output_type": "execute_result"
    }
   ],
   "source": [
    "incomplete_n_samples = 2048\n",
    "complete_n_samples = 4096\n",
    "\n",
    "class_type = raw_input('Give me the class type.\\n').lower()\n",
    "class_syn_id = shape_net_category_to_synth_id()[class_type]\n",
    "\n",
    "GPU = 3\n",
    "exp_counter = '8'\n",
    "loss = 'emd'\n",
    "do_training = True\n",
    "first_time_running = True\n",
    "load_model = False\n",
    "do_test = False\n",
    "do_plotting = False\n",
    "training_epochs = 1000\n",
    "\n",
    "experiment_name = exp_counter + '_' + class_type + '_' + str(incomplete_n_samples) + '_' + str(complete_n_samples) + 'pts_' + loss\n",
    "top_data_dir = '/orions4-zfs/projects/lins2/Panos_Space/DATA/'\n",
    "complete_pclouds_path = osp.join(top_data_dir, 'ShapeNetPointClouds/from_manifold_meshes/', \\\n",
    "                             str(complete_n_samples), class_syn_id)\n",
    "    \n",
    "n_input = [incomplete_n_samples, 3]\n",
    "n_output = [complete_n_samples, 3] \n",
    "\n",
    "train_dir = osp.join(top_data_dir, 'OUT/models/incomplete_pclouds/paper_vanilla_vscan')\n",
    "train_dir = osp.join(train_dir, experiment_name)\n",
    "create_dir(train_dir)"
   ]
  },
  {
   "cell_type": "code",
   "execution_count": 10,
   "metadata": {
    "collapsed": false
   },
   "outputs": [],
   "source": [
    "seed = 42\n",
    "np.random.seed(seed)\n",
    "tf.set_random_seed(seed)"
   ]
  },
  {
   "cell_type": "code",
   "execution_count": 11,
   "metadata": {
    "collapsed": false
   },
   "outputs": [
    {
     "name": "stdout",
     "output_type": "stream",
     "text": [
      "1572 files containing complete point clouds  were found.\n"
     ]
    }
   ],
   "source": [
    "cmpl_file_names = pio.load_filenames_of_input_data(complete_pclouds_path, points_extension)\n",
    "cmpl_pclouds, cmpl_model_names, syn_ids = pio.load_crude_point_clouds(file_names=cmpl_file_names, n_threads=25)\n",
    "assert(len(np.unique(syn_ids)) == 1)\n",
    "print '%d files containing complete point clouds  were found.' % (len(cmpl_pclouds), )"
   ]
  },
  {
   "cell_type": "code",
   "execution_count": 12,
   "metadata": {
    "collapsed": false
   },
   "outputs": [
    {
     "name": "stdout",
     "output_type": "stream",
     "text": [
      "7800 incomplete point clouds were loaded.\n"
     ]
    }
   ],
   "source": [
    "v_scan_top_dir = osp.join(top_data_dir, 'From_Matthias/shapenet_dim32_sdf_pc', class_syn_id)\n",
    "if do_training:    \n",
    "    train_id_file = osp.join(top_data_dir, 'From_Matthias/train_test_models/train_models_with_scan_id.txt')\n",
    "    \n",
    "    train_data = vscan.load_single_class_incomplete_dataset(v_scan_top_dir, train_id_file, class_syn_id,\n",
    "                                                      cmpl_pclouds, cmpl_model_names, n_threads=25,\n",
    "                                                      n_samples=incomplete_n_samples)\n",
    "    \n",
    "    train_data, val_data = vscan.make_validation_from_train_data(train_data, 0.10)"
   ]
  },
  {
   "cell_type": "code",
   "execution_count": 13,
   "metadata": {
    "collapsed": false
   },
   "outputs": [],
   "source": [
    "if do_test:\n",
    "    test_id_file = osp.join(top_data_dir, 'From_Matthias/train_test_models/test_models_with_scan_id.txt')\n",
    "    test_data = vscan.load_single_class_incomplete_dataset(v_scan_top_dir, test_id_file, class_syn_id, \n",
    "                                                      cmpl_pclouds, cmpl_model_names, n_threads=25,\n",
    "                                                      n_samples=incomplete_n_samples, search_pattern=search_pattern)"
   ]
  },
  {
   "cell_type": "code",
   "execution_count": 14,
   "metadata": {
    "collapsed": false
   },
   "outputs": [],
   "source": [
    "if load_model:\n",
    "    conf = Conf.load(osp.join(train_dir, 'configuration'))\n",
    "    print conf\n",
    "else:\n",
    "    decoder_args = {'layer_sizes': [1024, np.prod(n_output)],\n",
    "                    'non_linearity': tf.nn.relu\n",
    "                   }\n",
    "    \n",
    "    conf = Conf(\n",
    "                n_input = n_input,\n",
    "                n_output = n_output,\n",
    "                denoising = True,\n",
    "                training_epochs = training_epochs,\n",
    "                batch_size = 50,\n",
    "                loss = loss,\n",
    "                train_dir = train_dir,\n",
    "                loss_display_step = 1,\n",
    "                saver_step = 5,\n",
    "                learning_rate = 0.0005,\n",
    "                gauss_augment = {'mu': 0, 'sigma': 0.02},\n",
    "                encoder = enc_dec.encoder_with_convs_and_symmetry,                \n",
    "                decoder = enc_dec.decoder_with_fc_only,\n",
    "                decoder_args = decoder_args\n",
    "               )\n",
    "    \n",
    "    conf.consistent_io = False\n",
    "    conf.experiment_name = experiment_name\n",
    "    conf.save(osp.join(conf.train_dir, 'configuration'))"
   ]
  },
  {
   "cell_type": "code",
   "execution_count": 15,
   "metadata": {
    "collapsed": false
   },
   "outputs": [
    {
     "name": "stdout",
     "output_type": "stream",
     "text": [
      "('Epoch:', '0001', 'training time (minutes)=', '1.3076', 'loss=', '308.976298632')\n",
      "INFO:tensorflow:/orions4-zfs/projects/lins2/Panos_Space/DATA/OUT/models/incomplete_pclouds/paper_vanilla_vscan/8_cabinet_2048_4096pts_emd/models.ckpt-1 is not in all_model_checkpoint_paths. Manually adding it.\n"
     ]
    },
    {
     "name": "stderr",
     "output_type": "stream",
     "text": [
      "INFO:tensorflow:/orions4-zfs/projects/lins2/Panos_Space/DATA/OUT/models/incomplete_pclouds/paper_vanilla_vscan/8_cabinet_2048_4096pts_emd/models.ckpt-1 is not in all_model_checkpoint_paths. Manually adding it.\n"
     ]
    },
    {
     "name": "stdout",
     "output_type": "stream",
     "text": [
      "('Epoch:', '0002', 'training time (minutes)=', '1.3273', 'loss=', '245.728862544')\n",
      "('Epoch:', '0003', 'training time (minutes)=', '1.3356', 'loss=', '238.248026167')\n",
      "('Epoch:', '0004', 'training time (minutes)=', '1.3311', 'loss=', '233.393596649')\n",
      "('Epoch:', '0005', 'training time (minutes)=', '1.3261', 'loss=', '229.423761640')\n",
      "INFO:tensorflow:/orions4-zfs/projects/lins2/Panos_Space/DATA/OUT/models/incomplete_pclouds/paper_vanilla_vscan/8_cabinet_2048_4096pts_emd/models.ckpt-5 is not in all_model_checkpoint_paths. Manually adding it.\n"
     ]
    },
    {
     "name": "stderr",
     "output_type": "stream",
     "text": [
      "INFO:tensorflow:/orions4-zfs/projects/lins2/Panos_Space/DATA/OUT/models/incomplete_pclouds/paper_vanilla_vscan/8_cabinet_2048_4096pts_emd/models.ckpt-5 is not in all_model_checkpoint_paths. Manually adding it.\n"
     ]
    },
    {
     "name": "stdout",
     "output_type": "stream",
     "text": [
      "('Epoch:', '0006', 'training time (minutes)=', '1.3286', 'loss=', '229.905786787')\n",
      "('Epoch:', '0007', 'training time (minutes)=', '1.3324', 'loss=', '225.068549129')\n",
      "('Epoch:', '0008', 'training time (minutes)=', '1.3251', 'loss=', '221.883856310')\n",
      "('Epoch:', '0009', 'training time (minutes)=', '1.3383', 'loss=', '224.151034001')\n",
      "('Epoch:', '0010', 'training time (minutes)=', '1.3345', 'loss=', '223.320398385')\n",
      "INFO:tensorflow:/orions4-zfs/projects/lins2/Panos_Space/DATA/OUT/models/incomplete_pclouds/paper_vanilla_vscan/8_cabinet_2048_4096pts_emd/models.ckpt-10 is not in all_model_checkpoint_paths. Manually adding it.\n"
     ]
    },
    {
     "name": "stderr",
     "output_type": "stream",
     "text": [
      "INFO:tensorflow:/orions4-zfs/projects/lins2/Panos_Space/DATA/OUT/models/incomplete_pclouds/paper_vanilla_vscan/8_cabinet_2048_4096pts_emd/models.ckpt-10 is not in all_model_checkpoint_paths. Manually adding it.\n"
     ]
    },
    {
     "name": "stdout",
     "output_type": "stream",
     "text": [
      "('Epoch:', '0011', 'training time (minutes)=', '1.3286', 'loss=', '220.390158953')\n",
      "('Epoch:', '0012', 'training time (minutes)=', '1.3293', 'loss=', '219.500991058')\n",
      "('Epoch:', '0013', 'training time (minutes)=', '1.3306', 'loss=', '219.001718794')\n",
      "('Epoch:', '0014', 'training time (minutes)=', '1.3328', 'loss=', '219.688739559')\n",
      "('Epoch:', '0015', 'training time (minutes)=', '1.3227', 'loss=', '216.184365954')\n",
      "INFO:tensorflow:/orions4-zfs/projects/lins2/Panos_Space/DATA/OUT/models/incomplete_pclouds/paper_vanilla_vscan/8_cabinet_2048_4096pts_emd/models.ckpt-15 is not in all_model_checkpoint_paths. Manually adding it.\n"
     ]
    },
    {
     "name": "stderr",
     "output_type": "stream",
     "text": [
      "INFO:tensorflow:/orions4-zfs/projects/lins2/Panos_Space/DATA/OUT/models/incomplete_pclouds/paper_vanilla_vscan/8_cabinet_2048_4096pts_emd/models.ckpt-15 is not in all_model_checkpoint_paths. Manually adding it.\n"
     ]
    },
    {
     "name": "stdout",
     "output_type": "stream",
     "text": [
      "('Epoch:', '0016', 'training time (minutes)=', '1.3319', 'loss=', '215.722194454')\n",
      "('Epoch:', '0017', 'training time (minutes)=', '1.3258', 'loss=', '217.229013606')\n",
      "('Epoch:', '0018', 'training time (minutes)=', '1.3399', 'loss=', '214.285056196')\n",
      "('Epoch:', '0019', 'training time (minutes)=', '1.3291', 'loss=', '214.786368343')\n",
      "('Epoch:', '0020', 'training time (minutes)=', '1.3290', 'loss=', '217.629592242')\n",
      "INFO:tensorflow:/orions4-zfs/projects/lins2/Panos_Space/DATA/OUT/models/incomplete_pclouds/paper_vanilla_vscan/8_cabinet_2048_4096pts_emd/models.ckpt-20 is not in all_model_checkpoint_paths. Manually adding it.\n"
     ]
    },
    {
     "name": "stderr",
     "output_type": "stream",
     "text": [
      "INFO:tensorflow:/orions4-zfs/projects/lins2/Panos_Space/DATA/OUT/models/incomplete_pclouds/paper_vanilla_vscan/8_cabinet_2048_4096pts_emd/models.ckpt-20 is not in all_model_checkpoint_paths. Manually adding it.\n"
     ]
    },
    {
     "name": "stdout",
     "output_type": "stream",
     "text": [
      "('Epoch:', '0021', 'training time (minutes)=', '1.3252', 'loss=', '212.798368726')\n",
      "('Epoch:', '0022', 'training time (minutes)=', '1.3229', 'loss=', '211.488654654')\n",
      "('Epoch:', '0023', 'training time (minutes)=', '1.3307', 'loss=', '212.983818926')\n",
      "('Epoch:', '0024', 'training time (minutes)=', '1.3211', 'loss=', '211.403419168')\n",
      "('Epoch:', '0025', 'training time (minutes)=', '1.3223', 'loss=', '210.864621953')\n",
      "INFO:tensorflow:/orions4-zfs/projects/lins2/Panos_Space/DATA/OUT/models/incomplete_pclouds/paper_vanilla_vscan/8_cabinet_2048_4096pts_emd/models.ckpt-25 is not in all_model_checkpoint_paths. Manually adding it.\n"
     ]
    },
    {
     "name": "stderr",
     "output_type": "stream",
     "text": [
      "INFO:tensorflow:/orions4-zfs/projects/lins2/Panos_Space/DATA/OUT/models/incomplete_pclouds/paper_vanilla_vscan/8_cabinet_2048_4096pts_emd/models.ckpt-25 is not in all_model_checkpoint_paths. Manually adding it.\n"
     ]
    },
    {
     "name": "stdout",
     "output_type": "stream",
     "text": [
      "('Epoch:', '0026', 'training time (minutes)=', '1.3325', 'loss=', '209.119060734')\n",
      "('Epoch:', '0027', 'training time (minutes)=', '1.3290', 'loss=', '209.179735020')\n",
      "('Epoch:', '0028', 'training time (minutes)=', '1.3300', 'loss=', '208.618019867')\n",
      "('Epoch:', '0029', 'training time (minutes)=', '1.3272', 'loss=', '208.947414289')\n",
      "('Epoch:', '0030', 'training time (minutes)=', '1.3292', 'loss=', '209.569110107')\n",
      "INFO:tensorflow:/orions4-zfs/projects/lins2/Panos_Space/DATA/OUT/models/incomplete_pclouds/paper_vanilla_vscan/8_cabinet_2048_4096pts_emd/models.ckpt-30 is not in all_model_checkpoint_paths. Manually adding it.\n"
     ]
    },
    {
     "name": "stderr",
     "output_type": "stream",
     "text": [
      "INFO:tensorflow:/orions4-zfs/projects/lins2/Panos_Space/DATA/OUT/models/incomplete_pclouds/paper_vanilla_vscan/8_cabinet_2048_4096pts_emd/models.ckpt-30 is not in all_model_checkpoint_paths. Manually adding it.\n"
     ]
    },
    {
     "name": "stdout",
     "output_type": "stream",
     "text": [
      "('Epoch:', '0031', 'training time (minutes)=', '1.3317', 'loss=', '207.378871264')\n",
      "('Epoch:', '0032', 'training time (minutes)=', '1.3214', 'loss=', '207.650708226')\n",
      "('Epoch:', '0033', 'training time (minutes)=', '1.3294', 'loss=', '206.819501495')\n",
      "('Epoch:', '0034', 'training time (minutes)=', '1.3239', 'loss=', '206.013796779')\n",
      "('Epoch:', '0035', 'training time (minutes)=', '1.3251', 'loss=', '205.660725948')\n",
      "INFO:tensorflow:/orions4-zfs/projects/lins2/Panos_Space/DATA/OUT/models/incomplete_pclouds/paper_vanilla_vscan/8_cabinet_2048_4096pts_emd/models.ckpt-35 is not in all_model_checkpoint_paths. Manually adding it.\n"
     ]
    },
    {
     "name": "stderr",
     "output_type": "stream",
     "text": [
      "INFO:tensorflow:/orions4-zfs/projects/lins2/Panos_Space/DATA/OUT/models/incomplete_pclouds/paper_vanilla_vscan/8_cabinet_2048_4096pts_emd/models.ckpt-35 is not in all_model_checkpoint_paths. Manually adding it.\n"
     ]
    },
    {
     "name": "stdout",
     "output_type": "stream",
     "text": [
      "('Epoch:', '0036', 'training time (minutes)=', '1.3201', 'loss=', '205.465233721')\n",
      "('Epoch:', '0037', 'training time (minutes)=', '1.3216', 'loss=', '203.266485269')\n",
      "('Epoch:', '0038', 'training time (minutes)=', '1.3208', 'loss=', '204.385229492')\n",
      "('Epoch:', '0039', 'training time (minutes)=', '1.3231', 'loss=', '203.908179147')\n",
      "('Epoch:', '0040', 'training time (minutes)=', '1.3232', 'loss=', '203.959072440')\n",
      "INFO:tensorflow:/orions4-zfs/projects/lins2/Panos_Space/DATA/OUT/models/incomplete_pclouds/paper_vanilla_vscan/8_cabinet_2048_4096pts_emd/models.ckpt-40 is not in all_model_checkpoint_paths. Manually adding it.\n"
     ]
    },
    {
     "name": "stderr",
     "output_type": "stream",
     "text": [
      "INFO:tensorflow:/orions4-zfs/projects/lins2/Panos_Space/DATA/OUT/models/incomplete_pclouds/paper_vanilla_vscan/8_cabinet_2048_4096pts_emd/models.ckpt-40 is not in all_model_checkpoint_paths. Manually adding it.\n"
     ]
    },
    {
     "name": "stdout",
     "output_type": "stream",
     "text": [
      "('Epoch:', '0041', 'training time (minutes)=', '1.3247', 'loss=', '203.418966130')\n",
      "('Epoch:', '0042', 'training time (minutes)=', '1.3315', 'loss=', '204.836320714')\n",
      "('Epoch:', '0043', 'training time (minutes)=', '1.3310', 'loss=', '203.043305533')\n",
      "('Epoch:', '0044', 'training time (minutes)=', '1.3276', 'loss=', '204.032153102')\n",
      "('Epoch:', '0045', 'training time (minutes)=', '1.3243', 'loss=', '203.061721148')\n",
      "INFO:tensorflow:/orions4-zfs/projects/lins2/Panos_Space/DATA/OUT/models/incomplete_pclouds/paper_vanilla_vscan/8_cabinet_2048_4096pts_emd/models.ckpt-45 is not in all_model_checkpoint_paths. Manually adding it.\n"
     ]
    },
    {
     "name": "stderr",
     "output_type": "stream",
     "text": [
      "INFO:tensorflow:/orions4-zfs/projects/lins2/Panos_Space/DATA/OUT/models/incomplete_pclouds/paper_vanilla_vscan/8_cabinet_2048_4096pts_emd/models.ckpt-45 is not in all_model_checkpoint_paths. Manually adding it.\n"
     ]
    },
    {
     "name": "stdout",
     "output_type": "stream",
     "text": [
      "('Epoch:', '0046', 'training time (minutes)=', '1.3253', 'loss=', '200.479293387')\n",
      "('Epoch:', '0047', 'training time (minutes)=', '1.3448', 'loss=', '201.977633667')\n",
      "('Epoch:', '0048', 'training time (minutes)=', '1.3272', 'loss=', '202.366742052')\n",
      "('Epoch:', '0049', 'training time (minutes)=', '1.3305', 'loss=', '200.304619271')\n",
      "('Epoch:', '0050', 'training time (minutes)=', '1.3273', 'loss=', '200.552777863')\n",
      "INFO:tensorflow:/orions4-zfs/projects/lins2/Panos_Space/DATA/OUT/models/incomplete_pclouds/paper_vanilla_vscan/8_cabinet_2048_4096pts_emd/models.ckpt-50 is not in all_model_checkpoint_paths. Manually adding it.\n"
     ]
    },
    {
     "name": "stderr",
     "output_type": "stream",
     "text": [
      "INFO:tensorflow:/orions4-zfs/projects/lins2/Panos_Space/DATA/OUT/models/incomplete_pclouds/paper_vanilla_vscan/8_cabinet_2048_4096pts_emd/models.ckpt-50 is not in all_model_checkpoint_paths. Manually adding it.\n"
     ]
    },
    {
     "name": "stdout",
     "output_type": "stream",
     "text": [
      "('Epoch:', '0051', 'training time (minutes)=', '1.3267', 'loss=', '200.048371996')\n",
      "('Epoch:', '0052', 'training time (minutes)=', '1.3335', 'loss=', '199.900583867')\n",
      "('Epoch:', '0053', 'training time (minutes)=', '1.3274', 'loss=', '199.011551557')\n",
      "('Epoch:', '0054', 'training time (minutes)=', '1.3272', 'loss=', '198.949623435')\n",
      "('Epoch:', '0055', 'training time (minutes)=', '1.3319', 'loss=', '198.224023546')\n",
      "INFO:tensorflow:/orions4-zfs/projects/lins2/Panos_Space/DATA/OUT/models/incomplete_pclouds/paper_vanilla_vscan/8_cabinet_2048_4096pts_emd/models.ckpt-55 is not in all_model_checkpoint_paths. Manually adding it.\n"
     ]
    },
    {
     "name": "stderr",
     "output_type": "stream",
     "text": [
      "INFO:tensorflow:/orions4-zfs/projects/lins2/Panos_Space/DATA/OUT/models/incomplete_pclouds/paper_vanilla_vscan/8_cabinet_2048_4096pts_emd/models.ckpt-55 is not in all_model_checkpoint_paths. Manually adding it.\n"
     ]
    },
    {
     "name": "stdout",
     "output_type": "stream",
     "text": [
      "('Epoch:', '0056', 'training time (minutes)=', '1.3274', 'loss=', '198.078687177')\n",
      "('Epoch:', '0057', 'training time (minutes)=', '1.3371', 'loss=', '199.312458692')\n",
      "('Epoch:', '0058', 'training time (minutes)=', '1.3458', 'loss=', '197.225063651')\n",
      "('Epoch:', '0059', 'training time (minutes)=', '1.3279', 'loss=', '198.421278054')\n",
      "('Epoch:', '0060', 'training time (minutes)=', '1.3320', 'loss=', '196.962306104')\n",
      "INFO:tensorflow:/orions4-zfs/projects/lins2/Panos_Space/DATA/OUT/models/incomplete_pclouds/paper_vanilla_vscan/8_cabinet_2048_4096pts_emd/models.ckpt-60 is not in all_model_checkpoint_paths. Manually adding it.\n"
     ]
    },
    {
     "name": "stderr",
     "output_type": "stream",
     "text": [
      "INFO:tensorflow:/orions4-zfs/projects/lins2/Panos_Space/DATA/OUT/models/incomplete_pclouds/paper_vanilla_vscan/8_cabinet_2048_4096pts_emd/models.ckpt-60 is not in all_model_checkpoint_paths. Manually adding it.\n"
     ]
    },
    {
     "name": "stdout",
     "output_type": "stream",
     "text": [
      "('Epoch:', '0061', 'training time (minutes)=', '1.3448', 'loss=', '195.320885468')\n",
      "('Epoch:', '0062', 'training time (minutes)=', '1.3256', 'loss=', '195.901781682')\n",
      "('Epoch:', '0063', 'training time (minutes)=', '1.3303', 'loss=', '196.749556296')\n",
      "('Epoch:', '0064', 'training time (minutes)=', '1.3288', 'loss=', '195.297955213')\n",
      "('Epoch:', '0065', 'training time (minutes)=', '1.3268', 'loss=', '196.078643145')\n",
      "INFO:tensorflow:/orions4-zfs/projects/lins2/Panos_Space/DATA/OUT/models/incomplete_pclouds/paper_vanilla_vscan/8_cabinet_2048_4096pts_emd/models.ckpt-65 is not in all_model_checkpoint_paths. Manually adding it.\n"
     ]
    },
    {
     "name": "stderr",
     "output_type": "stream",
     "text": [
      "INFO:tensorflow:/orions4-zfs/projects/lins2/Panos_Space/DATA/OUT/models/incomplete_pclouds/paper_vanilla_vscan/8_cabinet_2048_4096pts_emd/models.ckpt-65 is not in all_model_checkpoint_paths. Manually adding it.\n"
     ]
    },
    {
     "name": "stdout",
     "output_type": "stream",
     "text": [
      "('Epoch:', '0066', 'training time (minutes)=', '1.3301', 'loss=', '194.504279109')\n",
      "('Epoch:', '0067', 'training time (minutes)=', '1.3255', 'loss=', '194.115481567')\n",
      "('Epoch:', '0068', 'training time (minutes)=', '1.3281', 'loss=', '194.141336060')\n",
      "('Epoch:', '0069', 'training time (minutes)=', '1.3295', 'loss=', '194.518366786')\n",
      "('Epoch:', '0070', 'training time (minutes)=', '1.3317', 'loss=', '194.002940042')\n",
      "INFO:tensorflow:/orions4-zfs/projects/lins2/Panos_Space/DATA/OUT/models/incomplete_pclouds/paper_vanilla_vscan/8_cabinet_2048_4096pts_emd/models.ckpt-70 is not in all_model_checkpoint_paths. Manually adding it.\n"
     ]
    },
    {
     "name": "stderr",
     "output_type": "stream",
     "text": [
      "INFO:tensorflow:/orions4-zfs/projects/lins2/Panos_Space/DATA/OUT/models/incomplete_pclouds/paper_vanilla_vscan/8_cabinet_2048_4096pts_emd/models.ckpt-70 is not in all_model_checkpoint_paths. Manually adding it.\n"
     ]
    },
    {
     "name": "stdout",
     "output_type": "stream",
     "text": [
      "('Epoch:', '0071', 'training time (minutes)=', '1.3323', 'loss=', '194.061273193')\n",
      "('Epoch:', '0072', 'training time (minutes)=', '1.3296', 'loss=', '192.320228468')\n",
      "('Epoch:', '0073', 'training time (minutes)=', '1.3295', 'loss=', '194.169451141')\n",
      "('Epoch:', '0074', 'training time (minutes)=', '1.3274', 'loss=', '192.014083971')\n",
      "('Epoch:', '0075', 'training time (minutes)=', '1.3280', 'loss=', '192.067651912')\n",
      "INFO:tensorflow:/orions4-zfs/projects/lins2/Panos_Space/DATA/OUT/models/incomplete_pclouds/paper_vanilla_vscan/8_cabinet_2048_4096pts_emd/models.ckpt-75 is not in all_model_checkpoint_paths. Manually adding it.\n"
     ]
    },
    {
     "name": "stderr",
     "output_type": "stream",
     "text": [
      "INFO:tensorflow:/orions4-zfs/projects/lins2/Panos_Space/DATA/OUT/models/incomplete_pclouds/paper_vanilla_vscan/8_cabinet_2048_4096pts_emd/models.ckpt-75 is not in all_model_checkpoint_paths. Manually adding it.\n"
     ]
    },
    {
     "name": "stdout",
     "output_type": "stream",
     "text": [
      "('Epoch:', '0076', 'training time (minutes)=', '1.3295', 'loss=', '191.791319493')\n",
      "('Epoch:', '0077', 'training time (minutes)=', '1.3211', 'loss=', '191.164010402')\n",
      "('Epoch:', '0078', 'training time (minutes)=', '1.3289', 'loss=', '191.020853315')\n",
      "('Epoch:', '0079', 'training time (minutes)=', '1.3309', 'loss=', '190.308994402')\n",
      "('Epoch:', '0080', 'training time (minutes)=', '1.3306', 'loss=', '190.198800986')\n",
      "INFO:tensorflow:/orions4-zfs/projects/lins2/Panos_Space/DATA/OUT/models/incomplete_pclouds/paper_vanilla_vscan/8_cabinet_2048_4096pts_emd/models.ckpt-80 is not in all_model_checkpoint_paths. Manually adding it.\n"
     ]
    },
    {
     "name": "stderr",
     "output_type": "stream",
     "text": [
      "INFO:tensorflow:/orions4-zfs/projects/lins2/Panos_Space/DATA/OUT/models/incomplete_pclouds/paper_vanilla_vscan/8_cabinet_2048_4096pts_emd/models.ckpt-80 is not in all_model_checkpoint_paths. Manually adding it.\n"
     ]
    },
    {
     "name": "stdout",
     "output_type": "stream",
     "text": [
      "('Epoch:', '0081', 'training time (minutes)=', '1.3325', 'loss=', '189.879216984')\n",
      "('Epoch:', '0082', 'training time (minutes)=', '1.3273', 'loss=', '189.140042877')\n",
      "('Epoch:', '0083', 'training time (minutes)=', '1.3273', 'loss=', '189.260511017')\n",
      "('Epoch:', '0084', 'training time (minutes)=', '1.3518', 'loss=', '188.795118495')\n",
      "('Epoch:', '0085', 'training time (minutes)=', '1.3545', 'loss=', '187.863442448')\n",
      "INFO:tensorflow:/orions4-zfs/projects/lins2/Panos_Space/DATA/OUT/models/incomplete_pclouds/paper_vanilla_vscan/8_cabinet_2048_4096pts_emd/models.ckpt-85 is not in all_model_checkpoint_paths. Manually adding it.\n"
     ]
    },
    {
     "name": "stderr",
     "output_type": "stream",
     "text": [
      "INFO:tensorflow:/orions4-zfs/projects/lins2/Panos_Space/DATA/OUT/models/incomplete_pclouds/paper_vanilla_vscan/8_cabinet_2048_4096pts_emd/models.ckpt-85 is not in all_model_checkpoint_paths. Manually adding it.\n"
     ]
    },
    {
     "name": "stdout",
     "output_type": "stream",
     "text": [
      "('Epoch:', '0086', 'training time (minutes)=', '1.3304', 'loss=', '188.022301592')\n",
      "('Epoch:', '0087', 'training time (minutes)=', '1.3267', 'loss=', '187.870601109')\n",
      "('Epoch:', '0088', 'training time (minutes)=', '1.3245', 'loss=', '187.959907205')\n",
      "('Epoch:', '0089', 'training time (minutes)=', '1.3305', 'loss=', '186.895490047')\n",
      "('Epoch:', '0090', 'training time (minutes)=', '1.3294', 'loss=', '186.413764300')\n",
      "INFO:tensorflow:/orions4-zfs/projects/lins2/Panos_Space/DATA/OUT/models/incomplete_pclouds/paper_vanilla_vscan/8_cabinet_2048_4096pts_emd/models.ckpt-90 is not in all_model_checkpoint_paths. Manually adding it.\n"
     ]
    },
    {
     "name": "stderr",
     "output_type": "stream",
     "text": [
      "INFO:tensorflow:/orions4-zfs/projects/lins2/Panos_Space/DATA/OUT/models/incomplete_pclouds/paper_vanilla_vscan/8_cabinet_2048_4096pts_emd/models.ckpt-90 is not in all_model_checkpoint_paths. Manually adding it.\n"
     ]
    },
    {
     "name": "stdout",
     "output_type": "stream",
     "text": [
      "('Epoch:', '0091', 'training time (minutes)=', '1.3287', 'loss=', '187.812095969')\n",
      "('Epoch:', '0092', 'training time (minutes)=', '1.3304', 'loss=', '184.695971571')\n",
      "('Epoch:', '0093', 'training time (minutes)=', '1.3318', 'loss=', '186.829128374')\n",
      "('Epoch:', '0094', 'training time (minutes)=', '1.3325', 'loss=', '185.798700387')\n",
      "('Epoch:', '0095', 'training time (minutes)=', '1.3339', 'loss=', '184.270610155')\n",
      "INFO:tensorflow:/orions4-zfs/projects/lins2/Panos_Space/DATA/OUT/models/incomplete_pclouds/paper_vanilla_vscan/8_cabinet_2048_4096pts_emd/models.ckpt-95 is not in all_model_checkpoint_paths. Manually adding it.\n"
     ]
    },
    {
     "name": "stderr",
     "output_type": "stream",
     "text": [
      "INFO:tensorflow:/orions4-zfs/projects/lins2/Panos_Space/DATA/OUT/models/incomplete_pclouds/paper_vanilla_vscan/8_cabinet_2048_4096pts_emd/models.ckpt-95 is not in all_model_checkpoint_paths. Manually adding it.\n"
     ]
    },
    {
     "name": "stdout",
     "output_type": "stream",
     "text": [
      "('Epoch:', '0096', 'training time (minutes)=', '1.3252', 'loss=', '185.489444406')\n",
      "('Epoch:', '0097', 'training time (minutes)=', '1.3271', 'loss=', '184.336970084')\n",
      "('Epoch:', '0098', 'training time (minutes)=', '1.3329', 'loss=', '184.661713191')\n",
      "('Epoch:', '0099', 'training time (minutes)=', '1.3337', 'loss=', '184.560509164')\n",
      "('Epoch:', '0100', 'training time (minutes)=', '1.3300', 'loss=', '184.292878723')\n",
      "INFO:tensorflow:/orions4-zfs/projects/lins2/Panos_Space/DATA/OUT/models/incomplete_pclouds/paper_vanilla_vscan/8_cabinet_2048_4096pts_emd/models.ckpt-100 is not in all_model_checkpoint_paths. Manually adding it.\n"
     ]
    },
    {
     "name": "stderr",
     "output_type": "stream",
     "text": [
      "INFO:tensorflow:/orions4-zfs/projects/lins2/Panos_Space/DATA/OUT/models/incomplete_pclouds/paper_vanilla_vscan/8_cabinet_2048_4096pts_emd/models.ckpt-100 is not in all_model_checkpoint_paths. Manually adding it.\n"
     ]
    },
    {
     "name": "stdout",
     "output_type": "stream",
     "text": [
      "('Epoch:', '0101', 'training time (minutes)=', '1.3313', 'loss=', '183.535748945')\n",
      "('Epoch:', '0102', 'training time (minutes)=', '1.3315', 'loss=', '183.517018781')\n",
      "('Epoch:', '0103', 'training time (minutes)=', '1.3227', 'loss=', '182.862957437')\n",
      "('Epoch:', '0104', 'training time (minutes)=', '1.3229', 'loss=', '183.924286870')\n",
      "('Epoch:', '0105', 'training time (minutes)=', '1.3319', 'loss=', '183.400079673')\n",
      "INFO:tensorflow:/orions4-zfs/projects/lins2/Panos_Space/DATA/OUT/models/incomplete_pclouds/paper_vanilla_vscan/8_cabinet_2048_4096pts_emd/models.ckpt-105 is not in all_model_checkpoint_paths. Manually adding it.\n"
     ]
    },
    {
     "name": "stderr",
     "output_type": "stream",
     "text": [
      "INFO:tensorflow:/orions4-zfs/projects/lins2/Panos_Space/DATA/OUT/models/incomplete_pclouds/paper_vanilla_vscan/8_cabinet_2048_4096pts_emd/models.ckpt-105 is not in all_model_checkpoint_paths. Manually adding it.\n"
     ]
    },
    {
     "name": "stdout",
     "output_type": "stream",
     "text": [
      "('Epoch:', '0106', 'training time (minutes)=', '1.3298', 'loss=', '182.364095197')\n",
      "('Epoch:', '0107', 'training time (minutes)=', '1.3306', 'loss=', '181.399950409')\n",
      "('Epoch:', '0108', 'training time (minutes)=', '1.3202', 'loss=', '181.983069066')\n",
      "('Epoch:', '0109', 'training time (minutes)=', '1.3281', 'loss=', '182.342064885')\n",
      "('Epoch:', '0110', 'training time (minutes)=', '1.3230', 'loss=', '180.920782253')\n",
      "INFO:tensorflow:/orions4-zfs/projects/lins2/Panos_Space/DATA/OUT/models/incomplete_pclouds/paper_vanilla_vscan/8_cabinet_2048_4096pts_emd/models.ckpt-110 is not in all_model_checkpoint_paths. Manually adding it.\n"
     ]
    },
    {
     "name": "stderr",
     "output_type": "stream",
     "text": [
      "INFO:tensorflow:/orions4-zfs/projects/lins2/Panos_Space/DATA/OUT/models/incomplete_pclouds/paper_vanilla_vscan/8_cabinet_2048_4096pts_emd/models.ckpt-110 is not in all_model_checkpoint_paths. Manually adding it.\n"
     ]
    },
    {
     "name": "stdout",
     "output_type": "stream",
     "text": [
      "('Epoch:', '0111', 'training time (minutes)=', '1.3298', 'loss=', '180.341577039')\n",
      "('Epoch:', '0112', 'training time (minutes)=', '1.3303', 'loss=', '180.039533016')\n",
      "('Epoch:', '0113', 'training time (minutes)=', '1.3348', 'loss=', '180.322668893')\n",
      "('Epoch:', '0114', 'training time (minutes)=', '1.3225', 'loss=', '180.870378004')\n",
      "('Epoch:', '0115', 'training time (minutes)=', '1.3313', 'loss=', '179.986512429')\n",
      "INFO:tensorflow:/orions4-zfs/projects/lins2/Panos_Space/DATA/OUT/models/incomplete_pclouds/paper_vanilla_vscan/8_cabinet_2048_4096pts_emd/models.ckpt-115 is not in all_model_checkpoint_paths. Manually adding it.\n"
     ]
    },
    {
     "name": "stderr",
     "output_type": "stream",
     "text": [
      "INFO:tensorflow:/orions4-zfs/projects/lins2/Panos_Space/DATA/OUT/models/incomplete_pclouds/paper_vanilla_vscan/8_cabinet_2048_4096pts_emd/models.ckpt-115 is not in all_model_checkpoint_paths. Manually adding it.\n"
     ]
    },
    {
     "name": "stdout",
     "output_type": "stream",
     "text": [
      "('Epoch:', '0116', 'training time (minutes)=', '1.3273', 'loss=', '179.777552250')\n",
      "('Epoch:', '0117', 'training time (minutes)=', '1.3460', 'loss=', '179.395682853')\n",
      "('Epoch:', '0118', 'training time (minutes)=', '1.3321', 'loss=', '178.854630280')\n",
      "('Epoch:', '0119', 'training time (minutes)=', '1.3196', 'loss=', '179.737699672')\n",
      "('Epoch:', '0120', 'training time (minutes)=', '1.3281', 'loss=', '178.246810586')\n",
      "INFO:tensorflow:/orions4-zfs/projects/lins2/Panos_Space/DATA/OUT/models/incomplete_pclouds/paper_vanilla_vscan/8_cabinet_2048_4096pts_emd/models.ckpt-120 is not in all_model_checkpoint_paths. Manually adding it.\n"
     ]
    },
    {
     "name": "stderr",
     "output_type": "stream",
     "text": [
      "INFO:tensorflow:/orions4-zfs/projects/lins2/Panos_Space/DATA/OUT/models/incomplete_pclouds/paper_vanilla_vscan/8_cabinet_2048_4096pts_emd/models.ckpt-120 is not in all_model_checkpoint_paths. Manually adding it.\n"
     ]
    },
    {
     "name": "stdout",
     "output_type": "stream",
     "text": [
      "('Epoch:', '0121', 'training time (minutes)=', '1.3230', 'loss=', '178.037966265')\n",
      "('Epoch:', '0122', 'training time (minutes)=', '1.3316', 'loss=', '178.545575605')\n",
      "('Epoch:', '0123', 'training time (minutes)=', '1.3259', 'loss=', '177.490876334')\n",
      "('Epoch:', '0124', 'training time (minutes)=', '1.3459', 'loss=', '178.142822811')\n",
      "('Epoch:', '0125', 'training time (minutes)=', '1.3232', 'loss=', '178.202622441')\n",
      "INFO:tensorflow:/orions4-zfs/projects/lins2/Panos_Space/DATA/OUT/models/incomplete_pclouds/paper_vanilla_vscan/8_cabinet_2048_4096pts_emd/models.ckpt-125 is not in all_model_checkpoint_paths. Manually adding it.\n"
     ]
    },
    {
     "name": "stderr",
     "output_type": "stream",
     "text": [
      "INFO:tensorflow:/orions4-zfs/projects/lins2/Panos_Space/DATA/OUT/models/incomplete_pclouds/paper_vanilla_vscan/8_cabinet_2048_4096pts_emd/models.ckpt-125 is not in all_model_checkpoint_paths. Manually adding it.\n"
     ]
    },
    {
     "name": "stdout",
     "output_type": "stream",
     "text": [
      "('Epoch:', '0126', 'training time (minutes)=', '1.3278', 'loss=', '178.106109292')\n",
      "('Epoch:', '0127', 'training time (minutes)=', '1.3288', 'loss=', '177.098614502')\n",
      "('Epoch:', '0128', 'training time (minutes)=', '1.3237', 'loss=', '177.107054465')\n",
      "('Epoch:', '0129', 'training time (minutes)=', '1.3297', 'loss=', '176.613242013')\n",
      "('Epoch:', '0130', 'training time (minutes)=', '1.3402', 'loss=', '176.083360726')\n",
      "INFO:tensorflow:/orions4-zfs/projects/lins2/Panos_Space/DATA/OUT/models/incomplete_pclouds/paper_vanilla_vscan/8_cabinet_2048_4096pts_emd/models.ckpt-130 is not in all_model_checkpoint_paths. Manually adding it.\n"
     ]
    },
    {
     "name": "stderr",
     "output_type": "stream",
     "text": [
      "INFO:tensorflow:/orions4-zfs/projects/lins2/Panos_Space/DATA/OUT/models/incomplete_pclouds/paper_vanilla_vscan/8_cabinet_2048_4096pts_emd/models.ckpt-130 is not in all_model_checkpoint_paths. Manually adding it.\n"
     ]
    },
    {
     "name": "stdout",
     "output_type": "stream",
     "text": [
      "('Epoch:', '0131', 'training time (minutes)=', '1.3430', 'loss=', '176.192132895')\n",
      "('Epoch:', '0132', 'training time (minutes)=', '1.3304', 'loss=', '177.229614694')\n",
      "('Epoch:', '0133', 'training time (minutes)=', '1.3317', 'loss=', '175.609440504')\n",
      "('Epoch:', '0134', 'training time (minutes)=', '1.3276', 'loss=', '175.210361699')\n",
      "('Epoch:', '0135', 'training time (minutes)=', '1.3281', 'loss=', '175.359129007')\n",
      "INFO:tensorflow:/orions4-zfs/projects/lins2/Panos_Space/DATA/OUT/models/incomplete_pclouds/paper_vanilla_vscan/8_cabinet_2048_4096pts_emd/models.ckpt-135 is not in all_model_checkpoint_paths. Manually adding it.\n"
     ]
    },
    {
     "name": "stderr",
     "output_type": "stream",
     "text": [
      "INFO:tensorflow:/orions4-zfs/projects/lins2/Panos_Space/DATA/OUT/models/incomplete_pclouds/paper_vanilla_vscan/8_cabinet_2048_4096pts_emd/models.ckpt-135 is not in all_model_checkpoint_paths. Manually adding it.\n"
     ]
    },
    {
     "name": "stdout",
     "output_type": "stream",
     "text": [
      "('Epoch:', '0136', 'training time (minutes)=', '1.3260', 'loss=', '175.924732426')\n",
      "('Epoch:', '0137', 'training time (minutes)=', '1.3250', 'loss=', '175.095334734')\n",
      "('Epoch:', '0138', 'training time (minutes)=', '1.3305', 'loss=', '174.866806575')\n",
      "('Epoch:', '0139', 'training time (minutes)=', '1.3231', 'loss=', '174.344740731')\n",
      "('Epoch:', '0140', 'training time (minutes)=', '1.3304', 'loss=', '174.512778909')\n",
      "INFO:tensorflow:/orions4-zfs/projects/lins2/Panos_Space/DATA/OUT/models/incomplete_pclouds/paper_vanilla_vscan/8_cabinet_2048_4096pts_emd/models.ckpt-140 is not in all_model_checkpoint_paths. Manually adding it.\n"
     ]
    },
    {
     "name": "stderr",
     "output_type": "stream",
     "text": [
      "INFO:tensorflow:/orions4-zfs/projects/lins2/Panos_Space/DATA/OUT/models/incomplete_pclouds/paper_vanilla_vscan/8_cabinet_2048_4096pts_emd/models.ckpt-140 is not in all_model_checkpoint_paths. Manually adding it.\n"
     ]
    },
    {
     "name": "stdout",
     "output_type": "stream",
     "text": [
      "('Epoch:', '0141', 'training time (minutes)=', '1.3298', 'loss=', '174.692083849')\n",
      "('Epoch:', '0142', 'training time (minutes)=', '1.3295', 'loss=', '172.968057142')\n",
      "('Epoch:', '0143', 'training time (minutes)=', '1.3315', 'loss=', '174.462611389')\n",
      "('Epoch:', '0144', 'training time (minutes)=', '1.3195', 'loss=', '173.845671082')\n",
      "('Epoch:', '0145', 'training time (minutes)=', '1.3364', 'loss=', '172.923416138')\n",
      "INFO:tensorflow:/orions4-zfs/projects/lins2/Panos_Space/DATA/OUT/models/incomplete_pclouds/paper_vanilla_vscan/8_cabinet_2048_4096pts_emd/models.ckpt-145 is not in all_model_checkpoint_paths. Manually adding it.\n"
     ]
    },
    {
     "name": "stderr",
     "output_type": "stream",
     "text": [
      "INFO:tensorflow:/orions4-zfs/projects/lins2/Panos_Space/DATA/OUT/models/incomplete_pclouds/paper_vanilla_vscan/8_cabinet_2048_4096pts_emd/models.ckpt-145 is not in all_model_checkpoint_paths. Manually adding it.\n"
     ]
    },
    {
     "name": "stdout",
     "output_type": "stream",
     "text": [
      "('Epoch:', '0146', 'training time (minutes)=', '1.3215', 'loss=', '172.870732008')\n",
      "('Epoch:', '0147', 'training time (minutes)=', '1.3221', 'loss=', '173.650294059')\n",
      "('Epoch:', '0148', 'training time (minutes)=', '1.3302', 'loss=', '172.955364554')\n",
      "('Epoch:', '0149', 'training time (minutes)=', '1.3259', 'loss=', '172.685290200')\n",
      "('Epoch:', '0150', 'training time (minutes)=', '1.3261', 'loss=', '172.573585183')\n",
      "INFO:tensorflow:/orions4-zfs/projects/lins2/Panos_Space/DATA/OUT/models/incomplete_pclouds/paper_vanilla_vscan/8_cabinet_2048_4096pts_emd/models.ckpt-150 is not in all_model_checkpoint_paths. Manually adding it.\n"
     ]
    },
    {
     "name": "stderr",
     "output_type": "stream",
     "text": [
      "INFO:tensorflow:/orions4-zfs/projects/lins2/Panos_Space/DATA/OUT/models/incomplete_pclouds/paper_vanilla_vscan/8_cabinet_2048_4096pts_emd/models.ckpt-150 is not in all_model_checkpoint_paths. Manually adding it.\n"
     ]
    },
    {
     "name": "stdout",
     "output_type": "stream",
     "text": [
      "('Epoch:', '0151', 'training time (minutes)=', '1.3317', 'loss=', '172.688181741')\n",
      "('Epoch:', '0152', 'training time (minutes)=', '1.3346', 'loss=', '172.467984990')\n",
      "('Epoch:', '0153', 'training time (minutes)=', '1.3290', 'loss=', '172.983600725')\n",
      "('Epoch:', '0154', 'training time (minutes)=', '1.3253', 'loss=', '172.226438468')\n",
      "('Epoch:', '0155', 'training time (minutes)=', '1.3290', 'loss=', '171.838506535')\n",
      "INFO:tensorflow:/orions4-zfs/projects/lins2/Panos_Space/DATA/OUT/models/incomplete_pclouds/paper_vanilla_vscan/8_cabinet_2048_4096pts_emd/models.ckpt-155 is not in all_model_checkpoint_paths. Manually adding it.\n"
     ]
    },
    {
     "name": "stderr",
     "output_type": "stream",
     "text": [
      "INFO:tensorflow:/orions4-zfs/projects/lins2/Panos_Space/DATA/OUT/models/incomplete_pclouds/paper_vanilla_vscan/8_cabinet_2048_4096pts_emd/models.ckpt-155 is not in all_model_checkpoint_paths. Manually adding it.\n"
     ]
    },
    {
     "name": "stdout",
     "output_type": "stream",
     "text": [
      "('Epoch:', '0156', 'training time (minutes)=', '1.3287', 'loss=', '171.295630428')\n",
      "('Epoch:', '0157', 'training time (minutes)=', '1.3342', 'loss=', '171.399299949')\n",
      "('Epoch:', '0158', 'training time (minutes)=', '1.3321', 'loss=', '170.739005933')\n",
      "('Epoch:', '0159', 'training time (minutes)=', '1.3270', 'loss=', '171.245623888')\n",
      "('Epoch:', '0160', 'training time (minutes)=', '1.3277', 'loss=', '171.278510938')\n",
      "INFO:tensorflow:/orions4-zfs/projects/lins2/Panos_Space/DATA/OUT/models/incomplete_pclouds/paper_vanilla_vscan/8_cabinet_2048_4096pts_emd/models.ckpt-160 is not in all_model_checkpoint_paths. Manually adding it.\n"
     ]
    },
    {
     "name": "stderr",
     "output_type": "stream",
     "text": [
      "INFO:tensorflow:/orions4-zfs/projects/lins2/Panos_Space/DATA/OUT/models/incomplete_pclouds/paper_vanilla_vscan/8_cabinet_2048_4096pts_emd/models.ckpt-160 is not in all_model_checkpoint_paths. Manually adding it.\n"
     ]
    },
    {
     "name": "stdout",
     "output_type": "stream",
     "text": [
      "('Epoch:', '0161', 'training time (minutes)=', '1.3317', 'loss=', '170.895803833')\n",
      "('Epoch:', '0162', 'training time (minutes)=', '1.3249', 'loss=', '170.189664350')\n",
      "('Epoch:', '0163', 'training time (minutes)=', '1.3247', 'loss=', '170.277687182')\n",
      "('Epoch:', '0164', 'training time (minutes)=', '1.3337', 'loss=', '170.272383772')\n",
      "('Epoch:', '0165', 'training time (minutes)=', '1.3362', 'loss=', '170.415043967')\n",
      "INFO:tensorflow:/orions4-zfs/projects/lins2/Panos_Space/DATA/OUT/models/incomplete_pclouds/paper_vanilla_vscan/8_cabinet_2048_4096pts_emd/models.ckpt-165 is not in all_model_checkpoint_paths. Manually adding it.\n"
     ]
    },
    {
     "name": "stderr",
     "output_type": "stream",
     "text": [
      "INFO:tensorflow:/orions4-zfs/projects/lins2/Panos_Space/DATA/OUT/models/incomplete_pclouds/paper_vanilla_vscan/8_cabinet_2048_4096pts_emd/models.ckpt-165 is not in all_model_checkpoint_paths. Manually adding it.\n"
     ]
    },
    {
     "name": "stdout",
     "output_type": "stream",
     "text": [
      "('Epoch:', '0166', 'training time (minutes)=', '1.3223', 'loss=', '169.601352474')\n",
      "('Epoch:', '0167', 'training time (minutes)=', '1.3294', 'loss=', '169.675296565')\n",
      "('Epoch:', '0168', 'training time (minutes)=', '1.3242', 'loss=', '170.844573103')\n",
      "('Epoch:', '0169', 'training time (minutes)=', '1.3345', 'loss=', '169.418450492')\n",
      "('Epoch:', '0170', 'training time (minutes)=', '1.3276', 'loss=', '168.992865317')\n",
      "INFO:tensorflow:/orions4-zfs/projects/lins2/Panos_Space/DATA/OUT/models/incomplete_pclouds/paper_vanilla_vscan/8_cabinet_2048_4096pts_emd/models.ckpt-170 is not in all_model_checkpoint_paths. Manually adding it.\n"
     ]
    },
    {
     "name": "stderr",
     "output_type": "stream",
     "text": [
      "INFO:tensorflow:/orions4-zfs/projects/lins2/Panos_Space/DATA/OUT/models/incomplete_pclouds/paper_vanilla_vscan/8_cabinet_2048_4096pts_emd/models.ckpt-170 is not in all_model_checkpoint_paths. Manually adding it.\n"
     ]
    },
    {
     "name": "stdout",
     "output_type": "stream",
     "text": [
      "('Epoch:', '0171', 'training time (minutes)=', '1.3219', 'loss=', '168.872973524')\n",
      "('Epoch:', '0172', 'training time (minutes)=', '1.3324', 'loss=', '169.206280409')\n",
      "('Epoch:', '0173', 'training time (minutes)=', '1.3311', 'loss=', '169.164194489')\n",
      "('Epoch:', '0174', 'training time (minutes)=', '1.3270', 'loss=', '168.866035352')\n",
      "('Epoch:', '0175', 'training time (minutes)=', '1.3236', 'loss=', '168.707240404')\n",
      "INFO:tensorflow:/orions4-zfs/projects/lins2/Panos_Space/DATA/OUT/models/incomplete_pclouds/paper_vanilla_vscan/8_cabinet_2048_4096pts_emd/models.ckpt-175 is not in all_model_checkpoint_paths. Manually adding it.\n"
     ]
    },
    {
     "name": "stderr",
     "output_type": "stream",
     "text": [
      "INFO:tensorflow:/orions4-zfs/projects/lins2/Panos_Space/DATA/OUT/models/incomplete_pclouds/paper_vanilla_vscan/8_cabinet_2048_4096pts_emd/models.ckpt-175 is not in all_model_checkpoint_paths. Manually adding it.\n"
     ]
    },
    {
     "name": "stdout",
     "output_type": "stream",
     "text": [
      "('Epoch:', '0176', 'training time (minutes)=', '1.3256', 'loss=', '168.324148669')\n",
      "('Epoch:', '0177', 'training time (minutes)=', '1.3258', 'loss=', '167.939977264')\n",
      "('Epoch:', '0178', 'training time (minutes)=', '1.3326', 'loss=', '167.998029327')\n",
      "('Epoch:', '0179', 'training time (minutes)=', '1.3319', 'loss=', '167.662404851')\n",
      "('Epoch:', '0180', 'training time (minutes)=', '1.3251', 'loss=', '168.732721928')\n",
      "INFO:tensorflow:/orions4-zfs/projects/lins2/Panos_Space/DATA/OUT/models/incomplete_pclouds/paper_vanilla_vscan/8_cabinet_2048_4096pts_emd/models.ckpt-180 is not in all_model_checkpoint_paths. Manually adding it.\n"
     ]
    },
    {
     "name": "stderr",
     "output_type": "stream",
     "text": [
      "INFO:tensorflow:/orions4-zfs/projects/lins2/Panos_Space/DATA/OUT/models/incomplete_pclouds/paper_vanilla_vscan/8_cabinet_2048_4096pts_emd/models.ckpt-180 is not in all_model_checkpoint_paths. Manually adding it.\n"
     ]
    },
    {
     "name": "stdout",
     "output_type": "stream",
     "text": [
      "('Epoch:', '0181', 'training time (minutes)=', '1.3247', 'loss=', '167.266305760')\n",
      "('Epoch:', '0182', 'training time (minutes)=', '1.3221', 'loss=', '167.417006901')\n",
      "('Epoch:', '0183', 'training time (minutes)=', '1.3307', 'loss=', '167.717296600')\n",
      "('Epoch:', '0184', 'training time (minutes)=', '1.3283', 'loss=', '167.153459821')\n",
      "('Epoch:', '0185', 'training time (minutes)=', '1.3328', 'loss=', '166.736280060')\n",
      "INFO:tensorflow:/orions4-zfs/projects/lins2/Panos_Space/DATA/OUT/models/incomplete_pclouds/paper_vanilla_vscan/8_cabinet_2048_4096pts_emd/models.ckpt-185 is not in all_model_checkpoint_paths. Manually adding it.\n"
     ]
    },
    {
     "name": "stderr",
     "output_type": "stream",
     "text": [
      "INFO:tensorflow:/orions4-zfs/projects/lins2/Panos_Space/DATA/OUT/models/incomplete_pclouds/paper_vanilla_vscan/8_cabinet_2048_4096pts_emd/models.ckpt-185 is not in all_model_checkpoint_paths. Manually adding it.\n"
     ]
    },
    {
     "name": "stdout",
     "output_type": "stream",
     "text": [
      "('Epoch:', '0186', 'training time (minutes)=', '1.3231', 'loss=', '166.574369921')\n",
      "('Epoch:', '0187', 'training time (minutes)=', '1.3232', 'loss=', '166.562563869')\n",
      "('Epoch:', '0188', 'training time (minutes)=', '1.3458', 'loss=', '166.517089844')\n",
      "('Epoch:', '0189', 'training time (minutes)=', '1.3422', 'loss=', '166.137785884')\n",
      "('Epoch:', '0190', 'training time (minutes)=', '1.3454', 'loss=', '165.989900208')\n",
      "INFO:tensorflow:/orions4-zfs/projects/lins2/Panos_Space/DATA/OUT/models/incomplete_pclouds/paper_vanilla_vscan/8_cabinet_2048_4096pts_emd/models.ckpt-190 is not in all_model_checkpoint_paths. Manually adding it.\n"
     ]
    },
    {
     "name": "stderr",
     "output_type": "stream",
     "text": [
      "INFO:tensorflow:/orions4-zfs/projects/lins2/Panos_Space/DATA/OUT/models/incomplete_pclouds/paper_vanilla_vscan/8_cabinet_2048_4096pts_emd/models.ckpt-190 is not in all_model_checkpoint_paths. Manually adding it.\n"
     ]
    },
    {
     "name": "stdout",
     "output_type": "stream",
     "text": [
      "('Epoch:', '0191', 'training time (minutes)=', '1.3257', 'loss=', '166.140103694')\n",
      "('Epoch:', '0192', 'training time (minutes)=', '1.3214', 'loss=', '166.031720189')\n",
      "('Epoch:', '0193', 'training time (minutes)=', '1.3312', 'loss=', '165.961958531')\n",
      "('Epoch:', '0194', 'training time (minutes)=', '1.3280', 'loss=', '165.598580715')\n",
      "('Epoch:', '0195', 'training time (minutes)=', '1.3289', 'loss=', '165.782071032')\n",
      "INFO:tensorflow:/orions4-zfs/projects/lins2/Panos_Space/DATA/OUT/models/incomplete_pclouds/paper_vanilla_vscan/8_cabinet_2048_4096pts_emd/models.ckpt-195 is not in all_model_checkpoint_paths. Manually adding it.\n"
     ]
    },
    {
     "name": "stderr",
     "output_type": "stream",
     "text": [
      "INFO:tensorflow:/orions4-zfs/projects/lins2/Panos_Space/DATA/OUT/models/incomplete_pclouds/paper_vanilla_vscan/8_cabinet_2048_4096pts_emd/models.ckpt-195 is not in all_model_checkpoint_paths. Manually adding it.\n"
     ]
    },
    {
     "name": "stdout",
     "output_type": "stream",
     "text": [
      "('Epoch:', '0196', 'training time (minutes)=', '1.3316', 'loss=', '165.819101388')\n",
      "('Epoch:', '0197', 'training time (minutes)=', '1.3259', 'loss=', '165.958099256')\n",
      "('Epoch:', '0198', 'training time (minutes)=', '1.3264', 'loss=', '165.625124032')\n",
      "('Epoch:', '0199', 'training time (minutes)=', '1.3243', 'loss=', '166.417684719')\n",
      "('Epoch:', '0200', 'training time (minutes)=', '1.3382', 'loss=', '165.330830492')\n",
      "INFO:tensorflow:/orions4-zfs/projects/lins2/Panos_Space/DATA/OUT/models/incomplete_pclouds/paper_vanilla_vscan/8_cabinet_2048_4096pts_emd/models.ckpt-200 is not in all_model_checkpoint_paths. Manually adding it.\n"
     ]
    },
    {
     "name": "stderr",
     "output_type": "stream",
     "text": [
      "INFO:tensorflow:/orions4-zfs/projects/lins2/Panos_Space/DATA/OUT/models/incomplete_pclouds/paper_vanilla_vscan/8_cabinet_2048_4096pts_emd/models.ckpt-200 is not in all_model_checkpoint_paths. Manually adding it.\n"
     ]
    },
    {
     "name": "stdout",
     "output_type": "stream",
     "text": [
      "('Epoch:', '0201', 'training time (minutes)=', '1.3306', 'loss=', '165.031577192')\n",
      "('Epoch:', '0202', 'training time (minutes)=', '1.3394', 'loss=', '164.869983673')\n",
      "('Epoch:', '0203', 'training time (minutes)=', '1.3220', 'loss=', '164.978002494')\n",
      "('Epoch:', '0204', 'training time (minutes)=', '1.3234', 'loss=', '164.989948164')\n",
      "('Epoch:', '0205', 'training time (minutes)=', '1.3303', 'loss=', '164.667354584')\n",
      "INFO:tensorflow:/orions4-zfs/projects/lins2/Panos_Space/DATA/OUT/models/incomplete_pclouds/paper_vanilla_vscan/8_cabinet_2048_4096pts_emd/models.ckpt-205 is not in all_model_checkpoint_paths. Manually adding it.\n"
     ]
    },
    {
     "name": "stderr",
     "output_type": "stream",
     "text": [
      "INFO:tensorflow:/orions4-zfs/projects/lins2/Panos_Space/DATA/OUT/models/incomplete_pclouds/paper_vanilla_vscan/8_cabinet_2048_4096pts_emd/models.ckpt-205 is not in all_model_checkpoint_paths. Manually adding it.\n"
     ]
    },
    {
     "name": "stdout",
     "output_type": "stream",
     "text": [
      "('Epoch:', '0206', 'training time (minutes)=', '1.3263', 'loss=', '166.385907636')\n",
      "('Epoch:', '0207', 'training time (minutes)=', '1.3262', 'loss=', '164.961007908')\n",
      "('Epoch:', '0208', 'training time (minutes)=', '1.3225', 'loss=', '164.126473236')\n",
      "('Epoch:', '0209', 'training time (minutes)=', '1.3300', 'loss=', '164.028499167')\n",
      "('Epoch:', '0210', 'training time (minutes)=', '1.3210', 'loss=', '163.875250789')\n",
      "INFO:tensorflow:/orions4-zfs/projects/lins2/Panos_Space/DATA/OUT/models/incomplete_pclouds/paper_vanilla_vscan/8_cabinet_2048_4096pts_emd/models.ckpt-210 is not in all_model_checkpoint_paths. Manually adding it.\n"
     ]
    },
    {
     "name": "stderr",
     "output_type": "stream",
     "text": [
      "INFO:tensorflow:/orions4-zfs/projects/lins2/Panos_Space/DATA/OUT/models/incomplete_pclouds/paper_vanilla_vscan/8_cabinet_2048_4096pts_emd/models.ckpt-210 is not in all_model_checkpoint_paths. Manually adding it.\n"
     ]
    },
    {
     "name": "stdout",
     "output_type": "stream",
     "text": [
      "('Epoch:', '0211', 'training time (minutes)=', '1.3326', 'loss=', '163.798171888')\n",
      "('Epoch:', '0212', 'training time (minutes)=', '1.3195', 'loss=', '163.903090450')\n",
      "('Epoch:', '0213', 'training time (minutes)=', '1.3257', 'loss=', '164.444691140')\n",
      "('Epoch:', '0214', 'training time (minutes)=', '1.3267', 'loss=', '163.986935425')\n",
      "('Epoch:', '0215', 'training time (minutes)=', '1.3304', 'loss=', '163.561976297')\n",
      "INFO:tensorflow:/orions4-zfs/projects/lins2/Panos_Space/DATA/OUT/models/incomplete_pclouds/paper_vanilla_vscan/8_cabinet_2048_4096pts_emd/models.ckpt-215 is not in all_model_checkpoint_paths. Manually adding it.\n"
     ]
    },
    {
     "name": "stderr",
     "output_type": "stream",
     "text": [
      "INFO:tensorflow:/orions4-zfs/projects/lins2/Panos_Space/DATA/OUT/models/incomplete_pclouds/paper_vanilla_vscan/8_cabinet_2048_4096pts_emd/models.ckpt-215 is not in all_model_checkpoint_paths. Manually adding it.\n"
     ]
    },
    {
     "name": "stdout",
     "output_type": "stream",
     "text": [
      "('Epoch:', '0216', 'training time (minutes)=', '1.3356', 'loss=', '163.163710022')\n",
      "('Epoch:', '0217', 'training time (minutes)=', '1.3318', 'loss=', '163.827458191')\n",
      "('Epoch:', '0218', 'training time (minutes)=', '1.3306', 'loss=', '163.503719112')\n",
      "('Epoch:', '0219', 'training time (minutes)=', '1.3381', 'loss=', '163.083226122')\n",
      "('Epoch:', '0220', 'training time (minutes)=', '1.3289', 'loss=', '163.548323168')\n",
      "INFO:tensorflow:/orions4-zfs/projects/lins2/Panos_Space/DATA/OUT/models/incomplete_pclouds/paper_vanilla_vscan/8_cabinet_2048_4096pts_emd/models.ckpt-220 is not in all_model_checkpoint_paths. Manually adding it.\n"
     ]
    },
    {
     "name": "stderr",
     "output_type": "stream",
     "text": [
      "INFO:tensorflow:/orions4-zfs/projects/lins2/Panos_Space/DATA/OUT/models/incomplete_pclouds/paper_vanilla_vscan/8_cabinet_2048_4096pts_emd/models.ckpt-220 is not in all_model_checkpoint_paths. Manually adding it.\n"
     ]
    },
    {
     "name": "stdout",
     "output_type": "stream",
     "text": [
      "('Epoch:', '0221', 'training time (minutes)=', '1.3306', 'loss=', '163.311565726')\n",
      "('Epoch:', '0222', 'training time (minutes)=', '1.3276', 'loss=', '163.166208104')\n",
      "('Epoch:', '0223', 'training time (minutes)=', '1.3364', 'loss=', '163.122874887')\n",
      "('Epoch:', '0224', 'training time (minutes)=', '1.3386', 'loss=', '163.106612287')\n",
      "('Epoch:', '0225', 'training time (minutes)=', '1.3316', 'loss=', '163.476285989')\n",
      "INFO:tensorflow:/orions4-zfs/projects/lins2/Panos_Space/DATA/OUT/models/incomplete_pclouds/paper_vanilla_vscan/8_cabinet_2048_4096pts_emd/models.ckpt-225 is not in all_model_checkpoint_paths. Manually adding it.\n"
     ]
    },
    {
     "name": "stderr",
     "output_type": "stream",
     "text": [
      "INFO:tensorflow:/orions4-zfs/projects/lins2/Panos_Space/DATA/OUT/models/incomplete_pclouds/paper_vanilla_vscan/8_cabinet_2048_4096pts_emd/models.ckpt-225 is not in all_model_checkpoint_paths. Manually adding it.\n"
     ]
    },
    {
     "name": "stdout",
     "output_type": "stream",
     "text": [
      "('Epoch:', '0226', 'training time (minutes)=', '1.3292', 'loss=', '162.641484070')\n",
      "('Epoch:', '0227', 'training time (minutes)=', '1.3316', 'loss=', '162.783931514')\n",
      "('Epoch:', '0228', 'training time (minutes)=', '1.3218', 'loss=', '163.052350071')\n",
      "('Epoch:', '0229', 'training time (minutes)=', '1.3296', 'loss=', '163.353151267')\n",
      "('Epoch:', '0230', 'training time (minutes)=', '1.3242', 'loss=', '162.306164333')\n",
      "INFO:tensorflow:/orions4-zfs/projects/lins2/Panos_Space/DATA/OUT/models/incomplete_pclouds/paper_vanilla_vscan/8_cabinet_2048_4096pts_emd/models.ckpt-230 is not in all_model_checkpoint_paths. Manually adding it.\n"
     ]
    },
    {
     "name": "stderr",
     "output_type": "stream",
     "text": [
      "INFO:tensorflow:/orions4-zfs/projects/lins2/Panos_Space/DATA/OUT/models/incomplete_pclouds/paper_vanilla_vscan/8_cabinet_2048_4096pts_emd/models.ckpt-230 is not in all_model_checkpoint_paths. Manually adding it.\n"
     ]
    },
    {
     "name": "stdout",
     "output_type": "stream",
     "text": [
      "('Epoch:', '0231', 'training time (minutes)=', '1.3272', 'loss=', '162.327257647')\n",
      "('Epoch:', '0232', 'training time (minutes)=', '1.3282', 'loss=', '162.186704472')\n",
      "('Epoch:', '0233', 'training time (minutes)=', '1.3339', 'loss=', '161.439613669')\n",
      "('Epoch:', '0234', 'training time (minutes)=', '1.3371', 'loss=', '161.494953482')\n",
      "('Epoch:', '0235', 'training time (minutes)=', '1.3379', 'loss=', '161.795084926')\n",
      "INFO:tensorflow:/orions4-zfs/projects/lins2/Panos_Space/DATA/OUT/models/incomplete_pclouds/paper_vanilla_vscan/8_cabinet_2048_4096pts_emd/models.ckpt-235 is not in all_model_checkpoint_paths. Manually adding it.\n"
     ]
    },
    {
     "name": "stderr",
     "output_type": "stream",
     "text": [
      "INFO:tensorflow:/orions4-zfs/projects/lins2/Panos_Space/DATA/OUT/models/incomplete_pclouds/paper_vanilla_vscan/8_cabinet_2048_4096pts_emd/models.ckpt-235 is not in all_model_checkpoint_paths. Manually adding it.\n"
     ]
    },
    {
     "name": "stdout",
     "output_type": "stream",
     "text": [
      "('Epoch:', '0236', 'training time (minutes)=', '1.3388', 'loss=', '162.645566886')\n",
      "('Epoch:', '0237', 'training time (minutes)=', '1.3334', 'loss=', '161.910588946')\n",
      "('Epoch:', '0238', 'training time (minutes)=', '1.3309', 'loss=', '162.542281451')\n",
      "('Epoch:', '0239', 'training time (minutes)=', '1.3200', 'loss=', '161.826538304')\n",
      "('Epoch:', '0240', 'training time (minutes)=', '1.3284', 'loss=', '161.691022273')\n",
      "INFO:tensorflow:/orions4-zfs/projects/lins2/Panos_Space/DATA/OUT/models/incomplete_pclouds/paper_vanilla_vscan/8_cabinet_2048_4096pts_emd/models.ckpt-240 is not in all_model_checkpoint_paths. Manually adding it.\n"
     ]
    },
    {
     "name": "stderr",
     "output_type": "stream",
     "text": [
      "INFO:tensorflow:/orions4-zfs/projects/lins2/Panos_Space/DATA/OUT/models/incomplete_pclouds/paper_vanilla_vscan/8_cabinet_2048_4096pts_emd/models.ckpt-240 is not in all_model_checkpoint_paths. Manually adding it.\n"
     ]
    },
    {
     "name": "stdout",
     "output_type": "stream",
     "text": [
      "('Epoch:', '0241', 'training time (minutes)=', '1.3214', 'loss=', '161.419354902')\n",
      "('Epoch:', '0242', 'training time (minutes)=', '1.3325', 'loss=', '160.949878693')\n",
      "('Epoch:', '0243', 'training time (minutes)=', '1.3319', 'loss=', '160.606946564')\n",
      "('Epoch:', '0244', 'training time (minutes)=', '1.3305', 'loss=', '161.016968427')\n",
      "('Epoch:', '0245', 'training time (minutes)=', '1.3362', 'loss=', '160.765525600')\n",
      "INFO:tensorflow:/orions4-zfs/projects/lins2/Panos_Space/DATA/OUT/models/incomplete_pclouds/paper_vanilla_vscan/8_cabinet_2048_4096pts_emd/models.ckpt-245 is not in all_model_checkpoint_paths. Manually adding it.\n"
     ]
    },
    {
     "name": "stderr",
     "output_type": "stream",
     "text": [
      "INFO:tensorflow:/orions4-zfs/projects/lins2/Panos_Space/DATA/OUT/models/incomplete_pclouds/paper_vanilla_vscan/8_cabinet_2048_4096pts_emd/models.ckpt-245 is not in all_model_checkpoint_paths. Manually adding it.\n"
     ]
    },
    {
     "name": "stdout",
     "output_type": "stream",
     "text": [
      "('Epoch:', '0246', 'training time (minutes)=', '1.3268', 'loss=', '161.388034167')\n",
      "('Epoch:', '0247', 'training time (minutes)=', '1.3314', 'loss=', '161.375013188')\n",
      "('Epoch:', '0248', 'training time (minutes)=', '1.3296', 'loss=', '160.631873431')\n",
      "('Epoch:', '0249', 'training time (minutes)=', '1.3273', 'loss=', '160.708920833')\n",
      "('Epoch:', '0250', 'training time (minutes)=', '1.3313', 'loss=', '160.844015394')\n",
      "INFO:tensorflow:/orions4-zfs/projects/lins2/Panos_Space/DATA/OUT/models/incomplete_pclouds/paper_vanilla_vscan/8_cabinet_2048_4096pts_emd/models.ckpt-250 is not in all_model_checkpoint_paths. Manually adding it.\n"
     ]
    },
    {
     "name": "stderr",
     "output_type": "stream",
     "text": [
      "INFO:tensorflow:/orions4-zfs/projects/lins2/Panos_Space/DATA/OUT/models/incomplete_pclouds/paper_vanilla_vscan/8_cabinet_2048_4096pts_emd/models.ckpt-250 is not in all_model_checkpoint_paths. Manually adding it.\n"
     ]
    },
    {
     "name": "stdout",
     "output_type": "stream",
     "text": [
      "('Epoch:', '0251', 'training time (minutes)=', '1.3224', 'loss=', '160.401668767')\n",
      "('Epoch:', '0252', 'training time (minutes)=', '1.3246', 'loss=', '160.876396724')\n",
      "('Epoch:', '0253', 'training time (minutes)=', '1.3234', 'loss=', '160.233971514')\n",
      "('Epoch:', '0254', 'training time (minutes)=', '1.3406', 'loss=', '160.536786216')\n",
      "('Epoch:', '0255', 'training time (minutes)=', '1.3263', 'loss=', '160.416096933')\n",
      "INFO:tensorflow:/orions4-zfs/projects/lins2/Panos_Space/DATA/OUT/models/incomplete_pclouds/paper_vanilla_vscan/8_cabinet_2048_4096pts_emd/models.ckpt-255 is not in all_model_checkpoint_paths. Manually adding it.\n"
     ]
    },
    {
     "name": "stderr",
     "output_type": "stream",
     "text": [
      "INFO:tensorflow:/orions4-zfs/projects/lins2/Panos_Space/DATA/OUT/models/incomplete_pclouds/paper_vanilla_vscan/8_cabinet_2048_4096pts_emd/models.ckpt-255 is not in all_model_checkpoint_paths. Manually adding it.\n"
     ]
    },
    {
     "name": "stdout",
     "output_type": "stream",
     "text": [
      "('Epoch:', '0256', 'training time (minutes)=', '1.3397', 'loss=', '159.851937866')\n",
      "('Epoch:', '0257', 'training time (minutes)=', '1.3295', 'loss=', '159.624643925')\n",
      "('Epoch:', '0258', 'training time (minutes)=', '1.3287', 'loss=', '159.630432783')\n",
      "('Epoch:', '0259', 'training time (minutes)=', '1.3218', 'loss=', '159.857481493')\n",
      "('Epoch:', '0260', 'training time (minutes)=', '1.3278', 'loss=', '160.447045135')\n",
      "INFO:tensorflow:/orions4-zfs/projects/lins2/Panos_Space/DATA/OUT/models/incomplete_pclouds/paper_vanilla_vscan/8_cabinet_2048_4096pts_emd/models.ckpt-260 is not in all_model_checkpoint_paths. Manually adding it.\n"
     ]
    },
    {
     "name": "stderr",
     "output_type": "stream",
     "text": [
      "INFO:tensorflow:/orions4-zfs/projects/lins2/Panos_Space/DATA/OUT/models/incomplete_pclouds/paper_vanilla_vscan/8_cabinet_2048_4096pts_emd/models.ckpt-260 is not in all_model_checkpoint_paths. Manually adding it.\n"
     ]
    },
    {
     "name": "stdout",
     "output_type": "stream",
     "text": [
      "('Epoch:', '0261', 'training time (minutes)=', '1.3211', 'loss=', '160.218984331')\n",
      "('Epoch:', '0262', 'training time (minutes)=', '1.3240', 'loss=', '159.896092551')\n",
      "('Epoch:', '0263', 'training time (minutes)=', '1.3255', 'loss=', '159.416730172')\n",
      "('Epoch:', '0264', 'training time (minutes)=', '1.3232', 'loss=', '160.725815691')\n",
      "('Epoch:', '0265', 'training time (minutes)=', '1.3327', 'loss=', '159.194954790')\n",
      "INFO:tensorflow:/orions4-zfs/projects/lins2/Panos_Space/DATA/OUT/models/incomplete_pclouds/paper_vanilla_vscan/8_cabinet_2048_4096pts_emd/models.ckpt-265 is not in all_model_checkpoint_paths. Manually adding it.\n"
     ]
    },
    {
     "name": "stderr",
     "output_type": "stream",
     "text": [
      "INFO:tensorflow:/orions4-zfs/projects/lins2/Panos_Space/DATA/OUT/models/incomplete_pclouds/paper_vanilla_vscan/8_cabinet_2048_4096pts_emd/models.ckpt-265 is not in all_model_checkpoint_paths. Manually adding it.\n"
     ]
    },
    {
     "name": "stdout",
     "output_type": "stream",
     "text": [
      "('Epoch:', '0266', 'training time (minutes)=', '1.3227', 'loss=', '159.601167624')\n",
      "('Epoch:', '0267', 'training time (minutes)=', '1.3231', 'loss=', '159.317508698')\n",
      "('Epoch:', '0268', 'training time (minutes)=', '1.3242', 'loss=', '158.961131614')\n",
      "('Epoch:', '0269', 'training time (minutes)=', '1.3259', 'loss=', '158.889758301')\n",
      "('Epoch:', '0270', 'training time (minutes)=', '1.3252', 'loss=', '158.938075801')\n",
      "INFO:tensorflow:/orions4-zfs/projects/lins2/Panos_Space/DATA/OUT/models/incomplete_pclouds/paper_vanilla_vscan/8_cabinet_2048_4096pts_emd/models.ckpt-270 is not in all_model_checkpoint_paths. Manually adding it.\n"
     ]
    },
    {
     "name": "stderr",
     "output_type": "stream",
     "text": [
      "INFO:tensorflow:/orions4-zfs/projects/lins2/Panos_Space/DATA/OUT/models/incomplete_pclouds/paper_vanilla_vscan/8_cabinet_2048_4096pts_emd/models.ckpt-270 is not in all_model_checkpoint_paths. Manually adding it.\n"
     ]
    },
    {
     "name": "stdout",
     "output_type": "stream",
     "text": [
      "('Epoch:', '0271', 'training time (minutes)=', '1.3242', 'loss=', '159.105797141')\n",
      "('Epoch:', '0272', 'training time (minutes)=', '1.3304', 'loss=', '158.959430150')\n",
      "('Epoch:', '0273', 'training time (minutes)=', '1.3293', 'loss=', '158.877468763')\n",
      "('Epoch:', '0274', 'training time (minutes)=', '1.3278', 'loss=', '158.570942143')\n",
      "('Epoch:', '0275', 'training time (minutes)=', '1.3339', 'loss=', '158.845206669')\n",
      "INFO:tensorflow:/orions4-zfs/projects/lins2/Panos_Space/DATA/OUT/models/incomplete_pclouds/paper_vanilla_vscan/8_cabinet_2048_4096pts_emd/models.ckpt-275 is not in all_model_checkpoint_paths. Manually adding it.\n"
     ]
    },
    {
     "name": "stderr",
     "output_type": "stream",
     "text": [
      "INFO:tensorflow:/orions4-zfs/projects/lins2/Panos_Space/DATA/OUT/models/incomplete_pclouds/paper_vanilla_vscan/8_cabinet_2048_4096pts_emd/models.ckpt-275 is not in all_model_checkpoint_paths. Manually adding it.\n"
     ]
    },
    {
     "name": "stdout",
     "output_type": "stream",
     "text": [
      "('Epoch:', '0276', 'training time (minutes)=', '1.3310', 'loss=', '158.785045624')\n",
      "('Epoch:', '0277', 'training time (minutes)=', '1.3246', 'loss=', '158.735709490')\n",
      "('Epoch:', '0278', 'training time (minutes)=', '1.3257', 'loss=', '158.566724832')\n",
      "('Epoch:', '0279', 'training time (minutes)=', '1.3254', 'loss=', '159.162391118')\n",
      "('Epoch:', '0280', 'training time (minutes)=', '1.3422', 'loss=', '159.070209612')\n",
      "INFO:tensorflow:/orions4-zfs/projects/lins2/Panos_Space/DATA/OUT/models/incomplete_pclouds/paper_vanilla_vscan/8_cabinet_2048_4096pts_emd/models.ckpt-280 is not in all_model_checkpoint_paths. Manually adding it.\n"
     ]
    },
    {
     "name": "stderr",
     "output_type": "stream",
     "text": [
      "INFO:tensorflow:/orions4-zfs/projects/lins2/Panos_Space/DATA/OUT/models/incomplete_pclouds/paper_vanilla_vscan/8_cabinet_2048_4096pts_emd/models.ckpt-280 is not in all_model_checkpoint_paths. Manually adding it.\n"
     ]
    },
    {
     "name": "stdout",
     "output_type": "stream",
     "text": [
      "('Epoch:', '0281', 'training time (minutes)=', '1.3567', 'loss=', '158.336681148')\n",
      "('Epoch:', '0282', 'training time (minutes)=', '1.3292', 'loss=', '158.759256635')\n",
      "('Epoch:', '0283', 'training time (minutes)=', '1.3237', 'loss=', '157.778817858')\n",
      "('Epoch:', '0284', 'training time (minutes)=', '1.3241', 'loss=', '158.068641881')\n",
      "('Epoch:', '0285', 'training time (minutes)=', '1.3319', 'loss=', '158.417218999')\n",
      "INFO:tensorflow:/orions4-zfs/projects/lins2/Panos_Space/DATA/OUT/models/incomplete_pclouds/paper_vanilla_vscan/8_cabinet_2048_4096pts_emd/models.ckpt-285 is not in all_model_checkpoint_paths. Manually adding it.\n"
     ]
    },
    {
     "name": "stderr",
     "output_type": "stream",
     "text": [
      "INFO:tensorflow:/orions4-zfs/projects/lins2/Panos_Space/DATA/OUT/models/incomplete_pclouds/paper_vanilla_vscan/8_cabinet_2048_4096pts_emd/models.ckpt-285 is not in all_model_checkpoint_paths. Manually adding it.\n"
     ]
    },
    {
     "name": "stdout",
     "output_type": "stream",
     "text": [
      "('Epoch:', '0286', 'training time (minutes)=', '1.3257', 'loss=', '158.663628060')\n",
      "('Epoch:', '0287', 'training time (minutes)=', '1.3321', 'loss=', '158.546738870')\n",
      "('Epoch:', '0288', 'training time (minutes)=', '1.3224', 'loss=', '158.569130707')\n",
      "('Epoch:', '0289', 'training time (minutes)=', '1.3254', 'loss=', '157.512925502')\n",
      "('Epoch:', '0290', 'training time (minutes)=', '1.3221', 'loss=', '157.684247371')\n",
      "INFO:tensorflow:/orions4-zfs/projects/lins2/Panos_Space/DATA/OUT/models/incomplete_pclouds/paper_vanilla_vscan/8_cabinet_2048_4096pts_emd/models.ckpt-290 is not in all_model_checkpoint_paths. Manually adding it.\n"
     ]
    },
    {
     "name": "stderr",
     "output_type": "stream",
     "text": [
      "INFO:tensorflow:/orions4-zfs/projects/lins2/Panos_Space/DATA/OUT/models/incomplete_pclouds/paper_vanilla_vscan/8_cabinet_2048_4096pts_emd/models.ckpt-290 is not in all_model_checkpoint_paths. Manually adding it.\n"
     ]
    },
    {
     "name": "stdout",
     "output_type": "stream",
     "text": [
      "('Epoch:', '0291', 'training time (minutes)=', '1.3413', 'loss=', '157.601609693')\n",
      "('Epoch:', '0292', 'training time (minutes)=', '1.3291', 'loss=', '157.819002969')\n",
      "('Epoch:', '0293', 'training time (minutes)=', '1.3317', 'loss=', '157.971758379')\n",
      "('Epoch:', '0294', 'training time (minutes)=', '1.3213', 'loss=', '157.464310564')\n",
      "('Epoch:', '0295', 'training time (minutes)=', '1.3279', 'loss=', '157.706355613')\n",
      "INFO:tensorflow:/orions4-zfs/projects/lins2/Panos_Space/DATA/OUT/models/incomplete_pclouds/paper_vanilla_vscan/8_cabinet_2048_4096pts_emd/models.ckpt-295 is not in all_model_checkpoint_paths. Manually adding it.\n"
     ]
    },
    {
     "name": "stderr",
     "output_type": "stream",
     "text": [
      "INFO:tensorflow:/orions4-zfs/projects/lins2/Panos_Space/DATA/OUT/models/incomplete_pclouds/paper_vanilla_vscan/8_cabinet_2048_4096pts_emd/models.ckpt-295 is not in all_model_checkpoint_paths. Manually adding it.\n"
     ]
    },
    {
     "name": "stdout",
     "output_type": "stream",
     "text": [
      "('Epoch:', '0296', 'training time (minutes)=', '1.3201', 'loss=', '157.634854889')\n",
      "('Epoch:', '0297', 'training time (minutes)=', '1.3281', 'loss=', '157.011996460')\n",
      "('Epoch:', '0298', 'training time (minutes)=', '1.3223', 'loss=', '157.744373866')\n",
      "('Epoch:', '0299', 'training time (minutes)=', '1.3276', 'loss=', '156.901134709')\n",
      "('Epoch:', '0300', 'training time (minutes)=', '1.3232', 'loss=', '157.398653412')\n",
      "INFO:tensorflow:/orions4-zfs/projects/lins2/Panos_Space/DATA/OUT/models/incomplete_pclouds/paper_vanilla_vscan/8_cabinet_2048_4096pts_emd/models.ckpt-300 is not in all_model_checkpoint_paths. Manually adding it.\n"
     ]
    },
    {
     "name": "stderr",
     "output_type": "stream",
     "text": [
      "INFO:tensorflow:/orions4-zfs/projects/lins2/Panos_Space/DATA/OUT/models/incomplete_pclouds/paper_vanilla_vscan/8_cabinet_2048_4096pts_emd/models.ckpt-300 is not in all_model_checkpoint_paths. Manually adding it.\n"
     ]
    },
    {
     "name": "stdout",
     "output_type": "stream",
     "text": [
      "('Epoch:', '0301', 'training time (minutes)=', '1.3420', 'loss=', '156.865738133')\n",
      "('Epoch:', '0302', 'training time (minutes)=', '1.3433', 'loss=', '156.827421025')\n",
      "('Epoch:', '0303', 'training time (minutes)=', '1.3246', 'loss=', '156.733226231')\n",
      "('Epoch:', '0304', 'training time (minutes)=', '1.3262', 'loss=', '157.107382638')\n",
      "('Epoch:', '0305', 'training time (minutes)=', '1.3247', 'loss=', '156.985107422')\n",
      "INFO:tensorflow:/orions4-zfs/projects/lins2/Panos_Space/DATA/OUT/models/incomplete_pclouds/paper_vanilla_vscan/8_cabinet_2048_4096pts_emd/models.ckpt-305 is not in all_model_checkpoint_paths. Manually adding it.\n"
     ]
    },
    {
     "name": "stderr",
     "output_type": "stream",
     "text": [
      "INFO:tensorflow:/orions4-zfs/projects/lins2/Panos_Space/DATA/OUT/models/incomplete_pclouds/paper_vanilla_vscan/8_cabinet_2048_4096pts_emd/models.ckpt-305 is not in all_model_checkpoint_paths. Manually adding it.\n"
     ]
    },
    {
     "name": "stdout",
     "output_type": "stream",
     "text": [
      "('Epoch:', '0306', 'training time (minutes)=', '1.3286', 'loss=', '156.441911207')\n",
      "('Epoch:', '0307', 'training time (minutes)=', '1.3260', 'loss=', '156.958242471')\n",
      "('Epoch:', '0308', 'training time (minutes)=', '1.3300', 'loss=', '156.454780470')\n",
      "('Epoch:', '0309', 'training time (minutes)=', '1.3277', 'loss=', '156.812661634')\n",
      "('Epoch:', '0310', 'training time (minutes)=', '1.3235', 'loss=', '156.852676283')\n",
      "INFO:tensorflow:/orions4-zfs/projects/lins2/Panos_Space/DATA/OUT/models/incomplete_pclouds/paper_vanilla_vscan/8_cabinet_2048_4096pts_emd/models.ckpt-310 is not in all_model_checkpoint_paths. Manually adding it.\n"
     ]
    },
    {
     "name": "stderr",
     "output_type": "stream",
     "text": [
      "INFO:tensorflow:/orions4-zfs/projects/lins2/Panos_Space/DATA/OUT/models/incomplete_pclouds/paper_vanilla_vscan/8_cabinet_2048_4096pts_emd/models.ckpt-310 is not in all_model_checkpoint_paths. Manually adding it.\n"
     ]
    },
    {
     "name": "stdout",
     "output_type": "stream",
     "text": [
      "('Epoch:', '0311', 'training time (minutes)=', '1.3256', 'loss=', '156.668743461')\n",
      "('Epoch:', '0312', 'training time (minutes)=', '1.3248', 'loss=', '156.316012246')\n",
      "('Epoch:', '0313', 'training time (minutes)=', '1.3259', 'loss=', '156.745007978')\n",
      "('Epoch:', '0314', 'training time (minutes)=', '1.3298', 'loss=', '156.178283037')\n",
      "('Epoch:', '0315', 'training time (minutes)=', '1.3326', 'loss=', '156.330400957')\n",
      "INFO:tensorflow:/orions4-zfs/projects/lins2/Panos_Space/DATA/OUT/models/incomplete_pclouds/paper_vanilla_vscan/8_cabinet_2048_4096pts_emd/models.ckpt-315 is not in all_model_checkpoint_paths. Manually adding it.\n"
     ]
    },
    {
     "name": "stderr",
     "output_type": "stream",
     "text": [
      "INFO:tensorflow:/orions4-zfs/projects/lins2/Panos_Space/DATA/OUT/models/incomplete_pclouds/paper_vanilla_vscan/8_cabinet_2048_4096pts_emd/models.ckpt-315 is not in all_model_checkpoint_paths. Manually adding it.\n"
     ]
    },
    {
     "name": "stdout",
     "output_type": "stream",
     "text": [
      "('Epoch:', '0316', 'training time (minutes)=', '1.3326', 'loss=', '156.250807517')\n",
      "('Epoch:', '0317', 'training time (minutes)=', '1.3316', 'loss=', '155.667928750')\n",
      "('Epoch:', '0318', 'training time (minutes)=', '1.3292', 'loss=', '155.787429592')\n",
      "('Epoch:', '0319', 'training time (minutes)=', '1.3283', 'loss=', '156.826356070')\n",
      "('Epoch:', '0320', 'training time (minutes)=', '1.3263', 'loss=', '155.913319397')\n",
      "INFO:tensorflow:/orions4-zfs/projects/lins2/Panos_Space/DATA/OUT/models/incomplete_pclouds/paper_vanilla_vscan/8_cabinet_2048_4096pts_emd/models.ckpt-320 is not in all_model_checkpoint_paths. Manually adding it.\n"
     ]
    },
    {
     "name": "stderr",
     "output_type": "stream",
     "text": [
      "INFO:tensorflow:/orions4-zfs/projects/lins2/Panos_Space/DATA/OUT/models/incomplete_pclouds/paper_vanilla_vscan/8_cabinet_2048_4096pts_emd/models.ckpt-320 is not in all_model_checkpoint_paths. Manually adding it.\n"
     ]
    },
    {
     "name": "stdout",
     "output_type": "stream",
     "text": [
      "('Epoch:', '0321', 'training time (minutes)=', '1.3272', 'loss=', '156.508224814')\n",
      "('Epoch:', '0322', 'training time (minutes)=', '1.3306', 'loss=', '156.112041037')\n",
      "('Epoch:', '0323', 'training time (minutes)=', '1.3233', 'loss=', '155.266315569')\n",
      "('Epoch:', '0324', 'training time (minutes)=', '1.3255', 'loss=', '155.515980639')\n",
      "('Epoch:', '0325', 'training time (minutes)=', '1.3306', 'loss=', '155.763173676')\n",
      "INFO:tensorflow:/orions4-zfs/projects/lins2/Panos_Space/DATA/OUT/models/incomplete_pclouds/paper_vanilla_vscan/8_cabinet_2048_4096pts_emd/models.ckpt-325 is not in all_model_checkpoint_paths. Manually adding it.\n"
     ]
    },
    {
     "name": "stderr",
     "output_type": "stream",
     "text": [
      "INFO:tensorflow:/orions4-zfs/projects/lins2/Panos_Space/DATA/OUT/models/incomplete_pclouds/paper_vanilla_vscan/8_cabinet_2048_4096pts_emd/models.ckpt-325 is not in all_model_checkpoint_paths. Manually adding it.\n"
     ]
    },
    {
     "name": "stdout",
     "output_type": "stream",
     "text": [
      "('Epoch:', '0326', 'training time (minutes)=', '1.3297', 'loss=', '156.689472961')\n",
      "('Epoch:', '0327', 'training time (minutes)=', '1.3335', 'loss=', '156.091719164')\n",
      "('Epoch:', '0328', 'training time (minutes)=', '1.3330', 'loss=', '156.031759208')\n",
      "('Epoch:', '0329', 'training time (minutes)=', '1.3336', 'loss=', '155.167245047')\n",
      "('Epoch:', '0330', 'training time (minutes)=', '1.3298', 'loss=', '155.173850686')\n",
      "INFO:tensorflow:/orions4-zfs/projects/lins2/Panos_Space/DATA/OUT/models/incomplete_pclouds/paper_vanilla_vscan/8_cabinet_2048_4096pts_emd/models.ckpt-330 is not in all_model_checkpoint_paths. Manually adding it.\n"
     ]
    },
    {
     "name": "stderr",
     "output_type": "stream",
     "text": [
      "INFO:tensorflow:/orions4-zfs/projects/lins2/Panos_Space/DATA/OUT/models/incomplete_pclouds/paper_vanilla_vscan/8_cabinet_2048_4096pts_emd/models.ckpt-330 is not in all_model_checkpoint_paths. Manually adding it.\n"
     ]
    },
    {
     "name": "stdout",
     "output_type": "stream",
     "text": [
      "('Epoch:', '0331', 'training time (minutes)=', '1.3351', 'loss=', '155.634863608')\n",
      "('Epoch:', '0332', 'training time (minutes)=', '1.3309', 'loss=', '155.223354013')\n",
      "('Epoch:', '0333', 'training time (minutes)=', '1.3263', 'loss=', '155.286048889')\n",
      "('Epoch:', '0334', 'training time (minutes)=', '1.3323', 'loss=', '155.371244376')\n",
      "('Epoch:', '0335', 'training time (minutes)=', '1.3341', 'loss=', '154.977308982')\n",
      "INFO:tensorflow:/orions4-zfs/projects/lins2/Panos_Space/DATA/OUT/models/incomplete_pclouds/paper_vanilla_vscan/8_cabinet_2048_4096pts_emd/models.ckpt-335 is not in all_model_checkpoint_paths. Manually adding it.\n"
     ]
    },
    {
     "name": "stderr",
     "output_type": "stream",
     "text": [
      "INFO:tensorflow:/orions4-zfs/projects/lins2/Panos_Space/DATA/OUT/models/incomplete_pclouds/paper_vanilla_vscan/8_cabinet_2048_4096pts_emd/models.ckpt-335 is not in all_model_checkpoint_paths. Manually adding it.\n"
     ]
    },
    {
     "name": "stdout",
     "output_type": "stream",
     "text": [
      "('Epoch:', '0336', 'training time (minutes)=', '1.3238', 'loss=', '155.432455989')\n",
      "('Epoch:', '0337', 'training time (minutes)=', '1.3278', 'loss=', '154.857083566')\n",
      "('Epoch:', '0338', 'training time (minutes)=', '1.3264', 'loss=', '155.053753226')\n",
      "('Epoch:', '0339', 'training time (minutes)=', '1.3389', 'loss=', '155.415361023')\n",
      "('Epoch:', '0340', 'training time (minutes)=', '1.3330', 'loss=', '154.660309928')\n",
      "INFO:tensorflow:/orions4-zfs/projects/lins2/Panos_Space/DATA/OUT/models/incomplete_pclouds/paper_vanilla_vscan/8_cabinet_2048_4096pts_emd/models.ckpt-340 is not in all_model_checkpoint_paths. Manually adding it.\n"
     ]
    },
    {
     "name": "stderr",
     "output_type": "stream",
     "text": [
      "INFO:tensorflow:/orions4-zfs/projects/lins2/Panos_Space/DATA/OUT/models/incomplete_pclouds/paper_vanilla_vscan/8_cabinet_2048_4096pts_emd/models.ckpt-340 is not in all_model_checkpoint_paths. Manually adding it.\n"
     ]
    },
    {
     "name": "stdout",
     "output_type": "stream",
     "text": [
      "('Epoch:', '0341', 'training time (minutes)=', '1.3228', 'loss=', '154.782638005')\n",
      "('Epoch:', '0342', 'training time (minutes)=', '1.3502', 'loss=', '154.538630567')\n",
      "('Epoch:', '0343', 'training time (minutes)=', '1.3457', 'loss=', '155.037167358')\n",
      "('Epoch:', '0344', 'training time (minutes)=', '1.3443', 'loss=', '155.061560931')\n",
      "('Epoch:', '0345', 'training time (minutes)=', '1.3244', 'loss=', '155.547385298')\n",
      "INFO:tensorflow:/orions4-zfs/projects/lins2/Panos_Space/DATA/OUT/models/incomplete_pclouds/paper_vanilla_vscan/8_cabinet_2048_4096pts_emd/models.ckpt-345 is not in all_model_checkpoint_paths. Manually adding it.\n"
     ]
    },
    {
     "name": "stderr",
     "output_type": "stream",
     "text": [
      "INFO:tensorflow:/orions4-zfs/projects/lins2/Panos_Space/DATA/OUT/models/incomplete_pclouds/paper_vanilla_vscan/8_cabinet_2048_4096pts_emd/models.ckpt-345 is not in all_model_checkpoint_paths. Manually adding it.\n"
     ]
    },
    {
     "name": "stdout",
     "output_type": "stream",
     "text": [
      "('Epoch:', '0346', 'training time (minutes)=', '1.3262', 'loss=', '154.389765603')\n",
      "('Epoch:', '0347', 'training time (minutes)=', '1.3312', 'loss=', '154.468711417')\n",
      "('Epoch:', '0348', 'training time (minutes)=', '1.3314', 'loss=', '154.598809596')\n",
      "('Epoch:', '0349', 'training time (minutes)=', '1.3320', 'loss=', '154.863859231')\n",
      "('Epoch:', '0350', 'training time (minutes)=', '1.3237', 'loss=', '154.570360674')\n",
      "INFO:tensorflow:/orions4-zfs/projects/lins2/Panos_Space/DATA/OUT/models/incomplete_pclouds/paper_vanilla_vscan/8_cabinet_2048_4096pts_emd/models.ckpt-350 is not in all_model_checkpoint_paths. Manually adding it.\n"
     ]
    },
    {
     "name": "stderr",
     "output_type": "stream",
     "text": [
      "INFO:tensorflow:/orions4-zfs/projects/lins2/Panos_Space/DATA/OUT/models/incomplete_pclouds/paper_vanilla_vscan/8_cabinet_2048_4096pts_emd/models.ckpt-350 is not in all_model_checkpoint_paths. Manually adding it.\n"
     ]
    },
    {
     "name": "stdout",
     "output_type": "stream",
     "text": [
      "('Epoch:', '0351', 'training time (minutes)=', '1.3352', 'loss=', '154.500401524')\n",
      "('Epoch:', '0352', 'training time (minutes)=', '1.3277', 'loss=', '155.132870047')\n",
      "('Epoch:', '0353', 'training time (minutes)=', '1.3316', 'loss=', '154.097875977')\n",
      "('Epoch:', '0354', 'training time (minutes)=', '1.3319', 'loss=', '154.180672019')\n",
      "('Epoch:', '0355', 'training time (minutes)=', '1.3212', 'loss=', '154.777803258')\n",
      "INFO:tensorflow:/orions4-zfs/projects/lins2/Panos_Space/DATA/OUT/models/incomplete_pclouds/paper_vanilla_vscan/8_cabinet_2048_4096pts_emd/models.ckpt-355 is not in all_model_checkpoint_paths. Manually adding it.\n"
     ]
    },
    {
     "name": "stderr",
     "output_type": "stream",
     "text": [
      "INFO:tensorflow:/orions4-zfs/projects/lins2/Panos_Space/DATA/OUT/models/incomplete_pclouds/paper_vanilla_vscan/8_cabinet_2048_4096pts_emd/models.ckpt-355 is not in all_model_checkpoint_paths. Manually adding it.\n"
     ]
    },
    {
     "name": "stdout",
     "output_type": "stream",
     "text": [
      "('Epoch:', '0356', 'training time (minutes)=', '1.3515', 'loss=', '154.159145573')\n",
      "('Epoch:', '0357', 'training time (minutes)=', '1.3291', 'loss=', '154.141723415')\n",
      "('Epoch:', '0358', 'training time (minutes)=', '1.3215', 'loss=', '153.553732845')\n",
      "('Epoch:', '0359', 'training time (minutes)=', '1.3295', 'loss=', '154.015607234')\n",
      "('Epoch:', '0360', 'training time (minutes)=', '1.3237', 'loss=', '153.724333954')\n",
      "INFO:tensorflow:/orions4-zfs/projects/lins2/Panos_Space/DATA/OUT/models/incomplete_pclouds/paper_vanilla_vscan/8_cabinet_2048_4096pts_emd/models.ckpt-360 is not in all_model_checkpoint_paths. Manually adding it.\n"
     ]
    },
    {
     "name": "stderr",
     "output_type": "stream",
     "text": [
      "INFO:tensorflow:/orions4-zfs/projects/lins2/Panos_Space/DATA/OUT/models/incomplete_pclouds/paper_vanilla_vscan/8_cabinet_2048_4096pts_emd/models.ckpt-360 is not in all_model_checkpoint_paths. Manually adding it.\n"
     ]
    },
    {
     "name": "stdout",
     "output_type": "stream",
     "text": [
      "('Epoch:', '0361', 'training time (minutes)=', '1.3292', 'loss=', '153.834808568')\n",
      "('Epoch:', '0362', 'training time (minutes)=', '1.3283', 'loss=', '153.707489341')\n",
      "('Epoch:', '0363', 'training time (minutes)=', '1.3260', 'loss=', '154.508435931')\n",
      "('Epoch:', '0364', 'training time (minutes)=', '1.3258', 'loss=', '153.561950684')\n",
      "('Epoch:', '0365', 'training time (minutes)=', '1.3323', 'loss=', '154.086396681')\n",
      "INFO:tensorflow:/orions4-zfs/projects/lins2/Panos_Space/DATA/OUT/models/incomplete_pclouds/paper_vanilla_vscan/8_cabinet_2048_4096pts_emd/models.ckpt-365 is not in all_model_checkpoint_paths. Manually adding it.\n"
     ]
    },
    {
     "name": "stderr",
     "output_type": "stream",
     "text": [
      "INFO:tensorflow:/orions4-zfs/projects/lins2/Panos_Space/DATA/OUT/models/incomplete_pclouds/paper_vanilla_vscan/8_cabinet_2048_4096pts_emd/models.ckpt-365 is not in all_model_checkpoint_paths. Manually adding it.\n"
     ]
    },
    {
     "name": "stdout",
     "output_type": "stream",
     "text": [
      "('Epoch:', '0366', 'training time (minutes)=', '1.3217', 'loss=', '154.187267957')\n",
      "('Epoch:', '0367', 'training time (minutes)=', '1.3260', 'loss=', '153.441561563')\n",
      "('Epoch:', '0368', 'training time (minutes)=', '1.3240', 'loss=', '153.325402832')\n",
      "('Epoch:', '0369', 'training time (minutes)=', '1.3334', 'loss=', '153.028205109')\n",
      "('Epoch:', '0370', 'training time (minutes)=', '1.3281', 'loss=', '154.002497428')\n",
      "INFO:tensorflow:/orions4-zfs/projects/lins2/Panos_Space/DATA/OUT/models/incomplete_pclouds/paper_vanilla_vscan/8_cabinet_2048_4096pts_emd/models.ckpt-370 is not in all_model_checkpoint_paths. Manually adding it.\n"
     ]
    },
    {
     "name": "stderr",
     "output_type": "stream",
     "text": [
      "INFO:tensorflow:/orions4-zfs/projects/lins2/Panos_Space/DATA/OUT/models/incomplete_pclouds/paper_vanilla_vscan/8_cabinet_2048_4096pts_emd/models.ckpt-370 is not in all_model_checkpoint_paths. Manually adding it.\n"
     ]
    },
    {
     "name": "stdout",
     "output_type": "stream",
     "text": [
      "('Epoch:', '0371', 'training time (minutes)=', '1.3236', 'loss=', '153.571854401')\n",
      "('Epoch:', '0372', 'training time (minutes)=', '1.3298', 'loss=', '152.772000885')\n",
      "('Epoch:', '0373', 'training time (minutes)=', '1.3237', 'loss=', '153.248408290')\n",
      "('Epoch:', '0374', 'training time (minutes)=', '1.3291', 'loss=', '153.866280474')\n",
      "('Epoch:', '0375', 'training time (minutes)=', '1.3432', 'loss=', '152.994078173')\n",
      "INFO:tensorflow:/orions4-zfs/projects/lins2/Panos_Space/DATA/OUT/models/incomplete_pclouds/paper_vanilla_vscan/8_cabinet_2048_4096pts_emd/models.ckpt-375 is not in all_model_checkpoint_paths. Manually adding it.\n"
     ]
    },
    {
     "name": "stderr",
     "output_type": "stream",
     "text": [
      "INFO:tensorflow:/orions4-zfs/projects/lins2/Panos_Space/DATA/OUT/models/incomplete_pclouds/paper_vanilla_vscan/8_cabinet_2048_4096pts_emd/models.ckpt-375 is not in all_model_checkpoint_paths. Manually adding it.\n"
     ]
    },
    {
     "name": "stdout",
     "output_type": "stream",
     "text": [
      "('Epoch:', '0376', 'training time (minutes)=', '1.3277', 'loss=', '152.834049443')\n",
      "('Epoch:', '0377', 'training time (minutes)=', '1.3324', 'loss=', '153.887918745')\n",
      "('Epoch:', '0378', 'training time (minutes)=', '1.3378', 'loss=', '153.126671164')\n",
      "('Epoch:', '0379', 'training time (minutes)=', '1.3401', 'loss=', '153.070485033')\n",
      "('Epoch:', '0380', 'training time (minutes)=', '1.3539', 'loss=', '153.339455523')\n",
      "INFO:tensorflow:/orions4-zfs/projects/lins2/Panos_Space/DATA/OUT/models/incomplete_pclouds/paper_vanilla_vscan/8_cabinet_2048_4096pts_emd/models.ckpt-380 is not in all_model_checkpoint_paths. Manually adding it.\n"
     ]
    },
    {
     "name": "stderr",
     "output_type": "stream",
     "text": [
      "INFO:tensorflow:/orions4-zfs/projects/lins2/Panos_Space/DATA/OUT/models/incomplete_pclouds/paper_vanilla_vscan/8_cabinet_2048_4096pts_emd/models.ckpt-380 is not in all_model_checkpoint_paths. Manually adding it.\n"
     ]
    },
    {
     "name": "stdout",
     "output_type": "stream",
     "text": [
      "('Epoch:', '0381', 'training time (minutes)=', '1.3212', 'loss=', '153.407214791')\n",
      "('Epoch:', '0382', 'training time (minutes)=', '1.3333', 'loss=', '153.389539555')\n",
      "('Epoch:', '0383', 'training time (minutes)=', '1.3269', 'loss=', '153.596168518')\n",
      "('Epoch:', '0384', 'training time (minutes)=', '1.3293', 'loss=', '153.254065377')\n",
      "('Epoch:', '0385', 'training time (minutes)=', '1.3427', 'loss=', '153.177660806')\n",
      "INFO:tensorflow:/orions4-zfs/projects/lins2/Panos_Space/DATA/OUT/models/incomplete_pclouds/paper_vanilla_vscan/8_cabinet_2048_4096pts_emd/models.ckpt-385 is not in all_model_checkpoint_paths. Manually adding it.\n"
     ]
    },
    {
     "name": "stderr",
     "output_type": "stream",
     "text": [
      "INFO:tensorflow:/orions4-zfs/projects/lins2/Panos_Space/DATA/OUT/models/incomplete_pclouds/paper_vanilla_vscan/8_cabinet_2048_4096pts_emd/models.ckpt-385 is not in all_model_checkpoint_paths. Manually adding it.\n"
     ]
    },
    {
     "name": "stdout",
     "output_type": "stream",
     "text": [
      "('Epoch:', '0386', 'training time (minutes)=', '1.3304', 'loss=', '152.509523119')\n",
      "('Epoch:', '0387', 'training time (minutes)=', '1.3525', 'loss=', '152.608874621')\n",
      "('Epoch:', '0388', 'training time (minutes)=', '1.3339', 'loss=', '153.531370108')\n",
      "('Epoch:', '0389', 'training time (minutes)=', '1.3276', 'loss=', '153.437682670')\n",
      "('Epoch:', '0390', 'training time (minutes)=', '1.3277', 'loss=', '152.900731550')\n",
      "INFO:tensorflow:/orions4-zfs/projects/lins2/Panos_Space/DATA/OUT/models/incomplete_pclouds/paper_vanilla_vscan/8_cabinet_2048_4096pts_emd/models.ckpt-390 is not in all_model_checkpoint_paths. Manually adding it.\n"
     ]
    },
    {
     "name": "stderr",
     "output_type": "stream",
     "text": [
      "INFO:tensorflow:/orions4-zfs/projects/lins2/Panos_Space/DATA/OUT/models/incomplete_pclouds/paper_vanilla_vscan/8_cabinet_2048_4096pts_emd/models.ckpt-390 is not in all_model_checkpoint_paths. Manually adding it.\n"
     ]
    },
    {
     "name": "stdout",
     "output_type": "stream",
     "text": [
      "('Epoch:', '0391', 'training time (minutes)=', '1.3266', 'loss=', '152.265230233')\n",
      "('Epoch:', '0392', 'training time (minutes)=', '1.3330', 'loss=', '152.688838087')\n",
      "('Epoch:', '0393', 'training time (minutes)=', '1.3259', 'loss=', '152.674600765')\n",
      "('Epoch:', '0394', 'training time (minutes)=', '1.3535', 'loss=', '151.934723990')\n",
      "('Epoch:', '0395', 'training time (minutes)=', '1.3345', 'loss=', '152.252846309')\n",
      "INFO:tensorflow:/orions4-zfs/projects/lins2/Panos_Space/DATA/OUT/models/incomplete_pclouds/paper_vanilla_vscan/8_cabinet_2048_4096pts_emd/models.ckpt-395 is not in all_model_checkpoint_paths. Manually adding it.\n"
     ]
    },
    {
     "name": "stderr",
     "output_type": "stream",
     "text": [
      "INFO:tensorflow:/orions4-zfs/projects/lins2/Panos_Space/DATA/OUT/models/incomplete_pclouds/paper_vanilla_vscan/8_cabinet_2048_4096pts_emd/models.ckpt-395 is not in all_model_checkpoint_paths. Manually adding it.\n"
     ]
    },
    {
     "name": "stdout",
     "output_type": "stream",
     "text": [
      "('Epoch:', '0396', 'training time (minutes)=', '1.3325', 'loss=', '152.780959538')\n",
      "('Epoch:', '0397', 'training time (minutes)=', '1.3314', 'loss=', '152.655686515')\n",
      "('Epoch:', '0398', 'training time (minutes)=', '1.3248', 'loss=', '152.081878226')\n",
      "('Epoch:', '0399', 'training time (minutes)=', '1.3248', 'loss=', '151.896086339')\n",
      "('Epoch:', '0400', 'training time (minutes)=', '1.3339', 'loss=', '152.712325505')\n",
      "INFO:tensorflow:/orions4-zfs/projects/lins2/Panos_Space/DATA/OUT/models/incomplete_pclouds/paper_vanilla_vscan/8_cabinet_2048_4096pts_emd/models.ckpt-400 is not in all_model_checkpoint_paths. Manually adding it.\n"
     ]
    },
    {
     "name": "stderr",
     "output_type": "stream",
     "text": [
      "INFO:tensorflow:/orions4-zfs/projects/lins2/Panos_Space/DATA/OUT/models/incomplete_pclouds/paper_vanilla_vscan/8_cabinet_2048_4096pts_emd/models.ckpt-400 is not in all_model_checkpoint_paths. Manually adding it.\n"
     ]
    },
    {
     "name": "stdout",
     "output_type": "stream",
     "text": [
      "('Epoch:', '0401', 'training time (minutes)=', '1.3263', 'loss=', '151.957544708')\n",
      "('Epoch:', '0402', 'training time (minutes)=', '1.3300', 'loss=', '152.081265913')\n",
      "('Epoch:', '0403', 'training time (minutes)=', '1.3308', 'loss=', '152.397658757')\n",
      "('Epoch:', '0404', 'training time (minutes)=', '1.3285', 'loss=', '152.739966801')\n",
      "('Epoch:', '0405', 'training time (minutes)=', '1.3387', 'loss=', '151.700560107')\n",
      "INFO:tensorflow:/orions4-zfs/projects/lins2/Panos_Space/DATA/OUT/models/incomplete_pclouds/paper_vanilla_vscan/8_cabinet_2048_4096pts_emd/models.ckpt-405 is not in all_model_checkpoint_paths. Manually adding it.\n"
     ]
    },
    {
     "name": "stderr",
     "output_type": "stream",
     "text": [
      "INFO:tensorflow:/orions4-zfs/projects/lins2/Panos_Space/DATA/OUT/models/incomplete_pclouds/paper_vanilla_vscan/8_cabinet_2048_4096pts_emd/models.ckpt-405 is not in all_model_checkpoint_paths. Manually adding it.\n"
     ]
    },
    {
     "name": "stdout",
     "output_type": "stream",
     "text": [
      "('Epoch:', '0406', 'training time (minutes)=', '1.3260', 'loss=', '151.982915497')\n",
      "('Epoch:', '0407', 'training time (minutes)=', '1.3293', 'loss=', '152.786585454')\n",
      "('Epoch:', '0408', 'training time (minutes)=', '1.3262', 'loss=', '151.943078831')\n",
      "('Epoch:', '0409', 'training time (minutes)=', '1.3278', 'loss=', '152.873828888')\n",
      "('Epoch:', '0410', 'training time (minutes)=', '1.3318', 'loss=', '152.685684313')\n",
      "INFO:tensorflow:/orions4-zfs/projects/lins2/Panos_Space/DATA/OUT/models/incomplete_pclouds/paper_vanilla_vscan/8_cabinet_2048_4096pts_emd/models.ckpt-410 is not in all_model_checkpoint_paths. Manually adding it.\n"
     ]
    },
    {
     "name": "stderr",
     "output_type": "stream",
     "text": [
      "INFO:tensorflow:/orions4-zfs/projects/lins2/Panos_Space/DATA/OUT/models/incomplete_pclouds/paper_vanilla_vscan/8_cabinet_2048_4096pts_emd/models.ckpt-410 is not in all_model_checkpoint_paths. Manually adding it.\n"
     ]
    },
    {
     "name": "stdout",
     "output_type": "stream",
     "text": [
      "('Epoch:', '0411', 'training time (minutes)=', '1.3462', 'loss=', '151.320584433')\n",
      "('Epoch:', '0412', 'training time (minutes)=', '1.3498', 'loss=', '151.953070940')\n",
      "('Epoch:', '0413', 'training time (minutes)=', '1.3338', 'loss=', '152.121958487')\n",
      "('Epoch:', '0414', 'training time (minutes)=', '1.3317', 'loss=', '151.584789821')\n",
      "('Epoch:', '0415', 'training time (minutes)=', '1.3438', 'loss=', '151.315935952')\n",
      "INFO:tensorflow:/orions4-zfs/projects/lins2/Panos_Space/DATA/OUT/models/incomplete_pclouds/paper_vanilla_vscan/8_cabinet_2048_4096pts_emd/models.ckpt-415 is not in all_model_checkpoint_paths. Manually adding it.\n"
     ]
    },
    {
     "name": "stderr",
     "output_type": "stream",
     "text": [
      "INFO:tensorflow:/orions4-zfs/projects/lins2/Panos_Space/DATA/OUT/models/incomplete_pclouds/paper_vanilla_vscan/8_cabinet_2048_4096pts_emd/models.ckpt-415 is not in all_model_checkpoint_paths. Manually adding it.\n"
     ]
    },
    {
     "name": "stdout",
     "output_type": "stream",
     "text": [
      "('Epoch:', '0416', 'training time (minutes)=', '1.3370', 'loss=', '151.938728115')\n",
      "('Epoch:', '0417', 'training time (minutes)=', '1.3342', 'loss=', '151.606221662')\n",
      "('Epoch:', '0418', 'training time (minutes)=', '1.3346', 'loss=', '152.174055590')\n",
      "('Epoch:', '0419', 'training time (minutes)=', '1.3263', 'loss=', '151.882949066')\n",
      "('Epoch:', '0420', 'training time (minutes)=', '1.3298', 'loss=', '151.609158216')\n",
      "INFO:tensorflow:/orions4-zfs/projects/lins2/Panos_Space/DATA/OUT/models/incomplete_pclouds/paper_vanilla_vscan/8_cabinet_2048_4096pts_emd/models.ckpt-420 is not in all_model_checkpoint_paths. Manually adding it.\n"
     ]
    },
    {
     "name": "stderr",
     "output_type": "stream",
     "text": [
      "INFO:tensorflow:/orions4-zfs/projects/lins2/Panos_Space/DATA/OUT/models/incomplete_pclouds/paper_vanilla_vscan/8_cabinet_2048_4096pts_emd/models.ckpt-420 is not in all_model_checkpoint_paths. Manually adding it.\n"
     ]
    },
    {
     "name": "stdout",
     "output_type": "stream",
     "text": [
      "('Epoch:', '0421', 'training time (minutes)=', '1.3263', 'loss=', '151.271897234')\n",
      "('Epoch:', '0422', 'training time (minutes)=', '1.3308', 'loss=', '151.293140520')\n",
      "('Epoch:', '0423', 'training time (minutes)=', '1.3367', 'loss=', '151.591939545')\n",
      "('Epoch:', '0424', 'training time (minutes)=', '1.3249', 'loss=', '151.435949707')\n",
      "('Epoch:', '0425', 'training time (minutes)=', '1.3304', 'loss=', '151.412046487')\n",
      "INFO:tensorflow:/orions4-zfs/projects/lins2/Panos_Space/DATA/OUT/models/incomplete_pclouds/paper_vanilla_vscan/8_cabinet_2048_4096pts_emd/models.ckpt-425 is not in all_model_checkpoint_paths. Manually adding it.\n"
     ]
    },
    {
     "name": "stderr",
     "output_type": "stream",
     "text": [
      "INFO:tensorflow:/orions4-zfs/projects/lins2/Panos_Space/DATA/OUT/models/incomplete_pclouds/paper_vanilla_vscan/8_cabinet_2048_4096pts_emd/models.ckpt-425 is not in all_model_checkpoint_paths. Manually adding it.\n"
     ]
    },
    {
     "name": "stdout",
     "output_type": "stream",
     "text": [
      "('Epoch:', '0426', 'training time (minutes)=', '1.3324', 'loss=', '151.738982173')\n",
      "('Epoch:', '0427', 'training time (minutes)=', '1.3242', 'loss=', '151.195914895')\n",
      "('Epoch:', '0428', 'training time (minutes)=', '1.3293', 'loss=', '151.153327833')\n",
      "('Epoch:', '0429', 'training time (minutes)=', '1.3229', 'loss=', '151.452885110')\n",
      "('Epoch:', '0430', 'training time (minutes)=', '1.3307', 'loss=', '151.620122528')\n",
      "INFO:tensorflow:/orions4-zfs/projects/lins2/Panos_Space/DATA/OUT/models/incomplete_pclouds/paper_vanilla_vscan/8_cabinet_2048_4096pts_emd/models.ckpt-430 is not in all_model_checkpoint_paths. Manually adding it.\n"
     ]
    },
    {
     "name": "stderr",
     "output_type": "stream",
     "text": [
      "INFO:tensorflow:/orions4-zfs/projects/lins2/Panos_Space/DATA/OUT/models/incomplete_pclouds/paper_vanilla_vscan/8_cabinet_2048_4096pts_emd/models.ckpt-430 is not in all_model_checkpoint_paths. Manually adding it.\n"
     ]
    },
    {
     "name": "stdout",
     "output_type": "stream",
     "text": [
      "('Epoch:', '0431', 'training time (minutes)=', '1.3261', 'loss=', '150.973637935')\n",
      "('Epoch:', '0432', 'training time (minutes)=', '1.3260', 'loss=', '151.220744651')\n",
      "('Epoch:', '0433', 'training time (minutes)=', '1.3295', 'loss=', '150.668648093')\n",
      "('Epoch:', '0434', 'training time (minutes)=', '1.3276', 'loss=', '150.564089094')\n",
      "('Epoch:', '0435', 'training time (minutes)=', '1.3230', 'loss=', '151.134101323')\n",
      "INFO:tensorflow:/orions4-zfs/projects/lins2/Panos_Space/DATA/OUT/models/incomplete_pclouds/paper_vanilla_vscan/8_cabinet_2048_4096pts_emd/models.ckpt-435 is not in all_model_checkpoint_paths. Manually adding it.\n"
     ]
    },
    {
     "name": "stderr",
     "output_type": "stream",
     "text": [
      "INFO:tensorflow:/orions4-zfs/projects/lins2/Panos_Space/DATA/OUT/models/incomplete_pclouds/paper_vanilla_vscan/8_cabinet_2048_4096pts_emd/models.ckpt-435 is not in all_model_checkpoint_paths. Manually adding it.\n"
     ]
    },
    {
     "name": "stdout",
     "output_type": "stream",
     "text": [
      "('Epoch:', '0436', 'training time (minutes)=', '1.3288', 'loss=', '151.014199175')\n",
      "('Epoch:', '0437', 'training time (minutes)=', '1.3487', 'loss=', '151.014051710')\n",
      "('Epoch:', '0438', 'training time (minutes)=', '1.3322', 'loss=', '150.866877856')\n",
      "('Epoch:', '0439', 'training time (minutes)=', '1.3236', 'loss=', '150.480955396')\n",
      "('Epoch:', '0440', 'training time (minutes)=', '1.3593', 'loss=', '151.007422747')\n",
      "INFO:tensorflow:/orions4-zfs/projects/lins2/Panos_Space/DATA/OUT/models/incomplete_pclouds/paper_vanilla_vscan/8_cabinet_2048_4096pts_emd/models.ckpt-440 is not in all_model_checkpoint_paths. Manually adding it.\n"
     ]
    },
    {
     "name": "stderr",
     "output_type": "stream",
     "text": [
      "INFO:tensorflow:/orions4-zfs/projects/lins2/Panos_Space/DATA/OUT/models/incomplete_pclouds/paper_vanilla_vscan/8_cabinet_2048_4096pts_emd/models.ckpt-440 is not in all_model_checkpoint_paths. Manually adding it.\n"
     ]
    },
    {
     "name": "stdout",
     "output_type": "stream",
     "text": [
      "('Epoch:', '0441', 'training time (minutes)=', '1.3524', 'loss=', '151.113305228')\n",
      "('Epoch:', '0442', 'training time (minutes)=', '1.3303', 'loss=', '150.966148376')\n",
      "('Epoch:', '0443', 'training time (minutes)=', '1.3348', 'loss=', '150.567208753')\n",
      "('Epoch:', '0444', 'training time (minutes)=', '1.3343', 'loss=', '150.561334120')\n",
      "('Epoch:', '0445', 'training time (minutes)=', '1.3271', 'loss=', '149.789117541')\n",
      "INFO:tensorflow:/orions4-zfs/projects/lins2/Panos_Space/DATA/OUT/models/incomplete_pclouds/paper_vanilla_vscan/8_cabinet_2048_4096pts_emd/models.ckpt-445 is not in all_model_checkpoint_paths. Manually adding it.\n"
     ]
    },
    {
     "name": "stderr",
     "output_type": "stream",
     "text": [
      "INFO:tensorflow:/orions4-zfs/projects/lins2/Panos_Space/DATA/OUT/models/incomplete_pclouds/paper_vanilla_vscan/8_cabinet_2048_4096pts_emd/models.ckpt-445 is not in all_model_checkpoint_paths. Manually adding it.\n"
     ]
    },
    {
     "name": "stdout",
     "output_type": "stream",
     "text": [
      "('Epoch:', '0446', 'training time (minutes)=', '1.3230', 'loss=', '150.216785104')\n",
      "('Epoch:', '0447', 'training time (minutes)=', '1.3293', 'loss=', '150.790110452')\n",
      "('Epoch:', '0448', 'training time (minutes)=', '1.3293', 'loss=', '151.026557595')\n",
      "('Epoch:', '0449', 'training time (minutes)=', '1.3250', 'loss=', '150.611587524')\n",
      "('Epoch:', '0450', 'training time (minutes)=', '1.3210', 'loss=', '150.566840581')\n",
      "INFO:tensorflow:/orions4-zfs/projects/lins2/Panos_Space/DATA/OUT/models/incomplete_pclouds/paper_vanilla_vscan/8_cabinet_2048_4096pts_emd/models.ckpt-450 is not in all_model_checkpoint_paths. Manually adding it.\n"
     ]
    },
    {
     "name": "stderr",
     "output_type": "stream",
     "text": [
      "INFO:tensorflow:/orions4-zfs/projects/lins2/Panos_Space/DATA/OUT/models/incomplete_pclouds/paper_vanilla_vscan/8_cabinet_2048_4096pts_emd/models.ckpt-450 is not in all_model_checkpoint_paths. Manually adding it.\n"
     ]
    },
    {
     "name": "stdout",
     "output_type": "stream",
     "text": [
      "('Epoch:', '0451', 'training time (minutes)=', '1.3322', 'loss=', '150.478569031')\n",
      "('Epoch:', '0452', 'training time (minutes)=', '1.3471', 'loss=', '150.741709573')\n",
      "('Epoch:', '0453', 'training time (minutes)=', '1.3355', 'loss=', '150.679874747')\n",
      "('Epoch:', '0454', 'training time (minutes)=', '1.3339', 'loss=', '150.679185486')\n",
      "('Epoch:', '0455', 'training time (minutes)=', '1.3194', 'loss=', '150.930083902')\n",
      "INFO:tensorflow:/orions4-zfs/projects/lins2/Panos_Space/DATA/OUT/models/incomplete_pclouds/paper_vanilla_vscan/8_cabinet_2048_4096pts_emd/models.ckpt-455 is not in all_model_checkpoint_paths. Manually adding it.\n"
     ]
    },
    {
     "name": "stderr",
     "output_type": "stream",
     "text": [
      "INFO:tensorflow:/orions4-zfs/projects/lins2/Panos_Space/DATA/OUT/models/incomplete_pclouds/paper_vanilla_vscan/8_cabinet_2048_4096pts_emd/models.ckpt-455 is not in all_model_checkpoint_paths. Manually adding it.\n"
     ]
    },
    {
     "name": "stdout",
     "output_type": "stream",
     "text": [
      "('Epoch:', '0456', 'training time (minutes)=', '1.3238', 'loss=', '150.761656298')\n",
      "('Epoch:', '0457', 'training time (minutes)=', '1.3268', 'loss=', '149.963078090')\n",
      "('Epoch:', '0458', 'training time (minutes)=', '1.3314', 'loss=', '149.938142068')\n",
      "('Epoch:', '0459', 'training time (minutes)=', '1.3227', 'loss=', '149.899145726')\n",
      "('Epoch:', '0460', 'training time (minutes)=', '1.3218', 'loss=', '150.564445823')\n",
      "INFO:tensorflow:/orions4-zfs/projects/lins2/Panos_Space/DATA/OUT/models/incomplete_pclouds/paper_vanilla_vscan/8_cabinet_2048_4096pts_emd/models.ckpt-460 is not in all_model_checkpoint_paths. Manually adding it.\n"
     ]
    },
    {
     "name": "stderr",
     "output_type": "stream",
     "text": [
      "INFO:tensorflow:/orions4-zfs/projects/lins2/Panos_Space/DATA/OUT/models/incomplete_pclouds/paper_vanilla_vscan/8_cabinet_2048_4096pts_emd/models.ckpt-460 is not in all_model_checkpoint_paths. Manually adding it.\n"
     ]
    },
    {
     "name": "stdout",
     "output_type": "stream",
     "text": [
      "('Epoch:', '0461', 'training time (minutes)=', '1.3355', 'loss=', '150.063028826')\n",
      "('Epoch:', '0462', 'training time (minutes)=', '1.3320', 'loss=', '149.352113233')\n",
      "('Epoch:', '0463', 'training time (minutes)=', '1.3311', 'loss=', '150.127475085')\n",
      "('Epoch:', '0464', 'training time (minutes)=', '1.3205', 'loss=', '150.137333679')\n",
      "('Epoch:', '0465', 'training time (minutes)=', '1.3373', 'loss=', '149.610834067')\n",
      "INFO:tensorflow:/orions4-zfs/projects/lins2/Panos_Space/DATA/OUT/models/incomplete_pclouds/paper_vanilla_vscan/8_cabinet_2048_4096pts_emd/models.ckpt-465 is not in all_model_checkpoint_paths. Manually adding it.\n"
     ]
    },
    {
     "name": "stderr",
     "output_type": "stream",
     "text": [
      "INFO:tensorflow:/orions4-zfs/projects/lins2/Panos_Space/DATA/OUT/models/incomplete_pclouds/paper_vanilla_vscan/8_cabinet_2048_4096pts_emd/models.ckpt-465 is not in all_model_checkpoint_paths. Manually adding it.\n"
     ]
    },
    {
     "name": "stdout",
     "output_type": "stream",
     "text": [
      "('Epoch:', '0466', 'training time (minutes)=', '1.3314', 'loss=', '149.523578099')\n",
      "('Epoch:', '0467', 'training time (minutes)=', '1.3423', 'loss=', '150.094334630')\n",
      "('Epoch:', '0468', 'training time (minutes)=', '1.3464', 'loss=', '149.696435656')\n",
      "('Epoch:', '0469', 'training time (minutes)=', '1.3413', 'loss=', '150.511761257')\n",
      "('Epoch:', '0470', 'training time (minutes)=', '1.3213', 'loss=', '149.570123509')\n",
      "INFO:tensorflow:/orions4-zfs/projects/lins2/Panos_Space/DATA/OUT/models/incomplete_pclouds/paper_vanilla_vscan/8_cabinet_2048_4096pts_emd/models.ckpt-470 is not in all_model_checkpoint_paths. Manually adding it.\n"
     ]
    },
    {
     "name": "stderr",
     "output_type": "stream",
     "text": [
      "INFO:tensorflow:/orions4-zfs/projects/lins2/Panos_Space/DATA/OUT/models/incomplete_pclouds/paper_vanilla_vscan/8_cabinet_2048_4096pts_emd/models.ckpt-470 is not in all_model_checkpoint_paths. Manually adding it.\n"
     ]
    },
    {
     "name": "stdout",
     "output_type": "stream",
     "text": [
      "('Epoch:', '0471', 'training time (minutes)=', '1.3254', 'loss=', '149.942386736')\n",
      "('Epoch:', '0472', 'training time (minutes)=', '1.3257', 'loss=', '149.366007124')\n",
      "('Epoch:', '0473', 'training time (minutes)=', '1.3345', 'loss=', '149.921705300')\n",
      "('Epoch:', '0474', 'training time (minutes)=', '1.3208', 'loss=', '149.806645530')\n",
      "('Epoch:', '0475', 'training time (minutes)=', '1.3258', 'loss=', '149.921745736')\n",
      "INFO:tensorflow:/orions4-zfs/projects/lins2/Panos_Space/DATA/OUT/models/incomplete_pclouds/paper_vanilla_vscan/8_cabinet_2048_4096pts_emd/models.ckpt-475 is not in all_model_checkpoint_paths. Manually adding it.\n"
     ]
    },
    {
     "name": "stderr",
     "output_type": "stream",
     "text": [
      "INFO:tensorflow:/orions4-zfs/projects/lins2/Panos_Space/DATA/OUT/models/incomplete_pclouds/paper_vanilla_vscan/8_cabinet_2048_4096pts_emd/models.ckpt-475 is not in all_model_checkpoint_paths. Manually adding it.\n"
     ]
    },
    {
     "name": "stdout",
     "output_type": "stream",
     "text": [
      "('Epoch:', '0476', 'training time (minutes)=', '1.3240', 'loss=', '149.249834442')\n",
      "('Epoch:', '0477', 'training time (minutes)=', '1.3341', 'loss=', '149.511126600')\n",
      "('Epoch:', '0478', 'training time (minutes)=', '1.3324', 'loss=', '149.432045637')\n",
      "('Epoch:', '0479', 'training time (minutes)=', '1.3268', 'loss=', '149.982037571')\n",
      "('Epoch:', '0480', 'training time (minutes)=', '1.3304', 'loss=', '149.076209586')\n",
      "INFO:tensorflow:/orions4-zfs/projects/lins2/Panos_Space/DATA/OUT/models/incomplete_pclouds/paper_vanilla_vscan/8_cabinet_2048_4096pts_emd/models.ckpt-480 is not in all_model_checkpoint_paths. Manually adding it.\n"
     ]
    },
    {
     "name": "stderr",
     "output_type": "stream",
     "text": [
      "INFO:tensorflow:/orions4-zfs/projects/lins2/Panos_Space/DATA/OUT/models/incomplete_pclouds/paper_vanilla_vscan/8_cabinet_2048_4096pts_emd/models.ckpt-480 is not in all_model_checkpoint_paths. Manually adding it.\n"
     ]
    },
    {
     "name": "stdout",
     "output_type": "stream",
     "text": [
      "('Epoch:', '0481', 'training time (minutes)=', '1.3306', 'loss=', '149.601420702')\n",
      "('Epoch:', '0482', 'training time (minutes)=', '1.3284', 'loss=', '149.843552290')\n",
      "('Epoch:', '0483', 'training time (minutes)=', '1.3296', 'loss=', '149.603045872')\n",
      "('Epoch:', '0484', 'training time (minutes)=', '1.3290', 'loss=', '149.538455636')\n",
      "('Epoch:', '0485', 'training time (minutes)=', '1.3237', 'loss=', '149.469213213')\n",
      "INFO:tensorflow:/orions4-zfs/projects/lins2/Panos_Space/DATA/OUT/models/incomplete_pclouds/paper_vanilla_vscan/8_cabinet_2048_4096pts_emd/models.ckpt-485 is not in all_model_checkpoint_paths. Manually adding it.\n"
     ]
    },
    {
     "name": "stderr",
     "output_type": "stream",
     "text": [
      "INFO:tensorflow:/orions4-zfs/projects/lins2/Panos_Space/DATA/OUT/models/incomplete_pclouds/paper_vanilla_vscan/8_cabinet_2048_4096pts_emd/models.ckpt-485 is not in all_model_checkpoint_paths. Manually adding it.\n"
     ]
    },
    {
     "name": "stdout",
     "output_type": "stream",
     "text": [
      "('Epoch:', '0486', 'training time (minutes)=', '1.3285', 'loss=', '149.330596052')\n",
      "('Epoch:', '0487', 'training time (minutes)=', '1.3253', 'loss=', '149.109223720')\n",
      "('Epoch:', '0488', 'training time (minutes)=', '1.3310', 'loss=', '149.383850316')\n",
      "('Epoch:', '0489', 'training time (minutes)=', '1.3331', 'loss=', '149.241918945')\n",
      "('Epoch:', '0490', 'training time (minutes)=', '1.3306', 'loss=', '149.015894536')\n",
      "INFO:tensorflow:/orions4-zfs/projects/lins2/Panos_Space/DATA/OUT/models/incomplete_pclouds/paper_vanilla_vscan/8_cabinet_2048_4096pts_emd/models.ckpt-490 is not in all_model_checkpoint_paths. Manually adding it.\n"
     ]
    },
    {
     "name": "stderr",
     "output_type": "stream",
     "text": [
      "INFO:tensorflow:/orions4-zfs/projects/lins2/Panos_Space/DATA/OUT/models/incomplete_pclouds/paper_vanilla_vscan/8_cabinet_2048_4096pts_emd/models.ckpt-490 is not in all_model_checkpoint_paths. Manually adding it.\n"
     ]
    },
    {
     "name": "stdout",
     "output_type": "stream",
     "text": [
      "('Epoch:', '0491', 'training time (minutes)=', '1.3397', 'loss=', '149.689606694')\n",
      "('Epoch:', '0492', 'training time (minutes)=', '1.3288', 'loss=', '148.479379272')\n",
      "('Epoch:', '0493', 'training time (minutes)=', '1.3319', 'loss=', '149.229058293')\n",
      "('Epoch:', '0494', 'training time (minutes)=', '1.3282', 'loss=', '149.286156246')\n",
      "('Epoch:', '0495', 'training time (minutes)=', '1.3244', 'loss=', '148.582362366')\n",
      "INFO:tensorflow:/orions4-zfs/projects/lins2/Panos_Space/DATA/OUT/models/incomplete_pclouds/paper_vanilla_vscan/8_cabinet_2048_4096pts_emd/models.ckpt-495 is not in all_model_checkpoint_paths. Manually adding it.\n"
     ]
    },
    {
     "name": "stderr",
     "output_type": "stream",
     "text": [
      "INFO:tensorflow:/orions4-zfs/projects/lins2/Panos_Space/DATA/OUT/models/incomplete_pclouds/paper_vanilla_vscan/8_cabinet_2048_4096pts_emd/models.ckpt-495 is not in all_model_checkpoint_paths. Manually adding it.\n"
     ]
    },
    {
     "name": "stdout",
     "output_type": "stream",
     "text": [
      "('Epoch:', '0496', 'training time (minutes)=', '1.3282', 'loss=', '149.009983608')\n",
      "('Epoch:', '0497', 'training time (minutes)=', '1.3306', 'loss=', '149.271042306')\n",
      "('Epoch:', '0498', 'training time (minutes)=', '1.3326', 'loss=', '148.861832973')\n",
      "('Epoch:', '0499', 'training time (minutes)=', '1.3309', 'loss=', '148.793716867')\n",
      "('Epoch:', '0500', 'training time (minutes)=', '1.3282', 'loss=', '149.058219910')\n",
      "INFO:tensorflow:/orions4-zfs/projects/lins2/Panos_Space/DATA/OUT/models/incomplete_pclouds/paper_vanilla_vscan/8_cabinet_2048_4096pts_emd/models.ckpt-500 is not in all_model_checkpoint_paths. Manually adding it.\n"
     ]
    },
    {
     "name": "stderr",
     "output_type": "stream",
     "text": [
      "INFO:tensorflow:/orions4-zfs/projects/lins2/Panos_Space/DATA/OUT/models/incomplete_pclouds/paper_vanilla_vscan/8_cabinet_2048_4096pts_emd/models.ckpt-500 is not in all_model_checkpoint_paths. Manually adding it.\n"
     ]
    },
    {
     "name": "stdout",
     "output_type": "stream",
     "text": [
      "('Epoch:', '0501', 'training time (minutes)=', '1.3221', 'loss=', '149.032463183')\n",
      "('Epoch:', '0502', 'training time (minutes)=', '1.3330', 'loss=', '149.542240688')\n",
      "('Epoch:', '0503', 'training time (minutes)=', '1.3303', 'loss=', '149.481226567')\n",
      "('Epoch:', '0504', 'training time (minutes)=', '1.3335', 'loss=', '149.229421452')\n",
      "('Epoch:', '0505', 'training time (minutes)=', '1.3314', 'loss=', '148.788267735')\n",
      "INFO:tensorflow:/orions4-zfs/projects/lins2/Panos_Space/DATA/OUT/models/incomplete_pclouds/paper_vanilla_vscan/8_cabinet_2048_4096pts_emd/models.ckpt-505 is not in all_model_checkpoint_paths. Manually adding it.\n"
     ]
    },
    {
     "name": "stderr",
     "output_type": "stream",
     "text": [
      "INFO:tensorflow:/orions4-zfs/projects/lins2/Panos_Space/DATA/OUT/models/incomplete_pclouds/paper_vanilla_vscan/8_cabinet_2048_4096pts_emd/models.ckpt-505 is not in all_model_checkpoint_paths. Manually adding it.\n"
     ]
    },
    {
     "name": "stdout",
     "output_type": "stream",
     "text": [
      "('Epoch:', '0506', 'training time (minutes)=', '1.3235', 'loss=', '148.740161787')\n",
      "('Epoch:', '0507', 'training time (minutes)=', '1.3249', 'loss=', '148.947236415')\n",
      "('Epoch:', '0508', 'training time (minutes)=', '1.3360', 'loss=', '149.260319955')\n",
      "('Epoch:', '0509', 'training time (minutes)=', '1.3370', 'loss=', '148.612943922')\n",
      "('Epoch:', '0510', 'training time (minutes)=', '1.3235', 'loss=', '148.735435486')\n",
      "INFO:tensorflow:/orions4-zfs/projects/lins2/Panos_Space/DATA/OUT/models/incomplete_pclouds/paper_vanilla_vscan/8_cabinet_2048_4096pts_emd/models.ckpt-510 is not in all_model_checkpoint_paths. Manually adding it.\n"
     ]
    },
    {
     "name": "stderr",
     "output_type": "stream",
     "text": [
      "INFO:tensorflow:/orions4-zfs/projects/lins2/Panos_Space/DATA/OUT/models/incomplete_pclouds/paper_vanilla_vscan/8_cabinet_2048_4096pts_emd/models.ckpt-510 is not in all_model_checkpoint_paths. Manually adding it.\n"
     ]
    },
    {
     "name": "stdout",
     "output_type": "stream",
     "text": [
      "('Epoch:', '0511', 'training time (minutes)=', '1.3443', 'loss=', '148.851033783')\n",
      "('Epoch:', '0512', 'training time (minutes)=', '1.3561', 'loss=', '148.841090720')\n",
      "('Epoch:', '0513', 'training time (minutes)=', '1.3403', 'loss=', '148.514743260')\n",
      "('Epoch:', '0514', 'training time (minutes)=', '1.3489', 'loss=', '148.366994149')\n",
      "('Epoch:', '0515', 'training time (minutes)=', '1.3310', 'loss=', '148.089753723')\n",
      "INFO:tensorflow:/orions4-zfs/projects/lins2/Panos_Space/DATA/OUT/models/incomplete_pclouds/paper_vanilla_vscan/8_cabinet_2048_4096pts_emd/models.ckpt-515 is not in all_model_checkpoint_paths. Manually adding it.\n"
     ]
    },
    {
     "name": "stderr",
     "output_type": "stream",
     "text": [
      "INFO:tensorflow:/orions4-zfs/projects/lins2/Panos_Space/DATA/OUT/models/incomplete_pclouds/paper_vanilla_vscan/8_cabinet_2048_4096pts_emd/models.ckpt-515 is not in all_model_checkpoint_paths. Manually adding it.\n"
     ]
    },
    {
     "name": "stdout",
     "output_type": "stream",
     "text": [
      "('Epoch:', '0516', 'training time (minutes)=', '1.3342', 'loss=', '148.317374202')\n",
      "('Epoch:', '0517', 'training time (minutes)=', '1.3632', 'loss=', '148.911290959')\n",
      "('Epoch:', '0518', 'training time (minutes)=', '1.3372', 'loss=', '149.036336081')\n",
      "('Epoch:', '0519', 'training time (minutes)=', '1.3275', 'loss=', '148.409325627')\n",
      "('Epoch:', '0520', 'training time (minutes)=', '1.3306', 'loss=', '148.583939471')\n",
      "INFO:tensorflow:/orions4-zfs/projects/lins2/Panos_Space/DATA/OUT/models/incomplete_pclouds/paper_vanilla_vscan/8_cabinet_2048_4096pts_emd/models.ckpt-520 is not in all_model_checkpoint_paths. Manually adding it.\n"
     ]
    },
    {
     "name": "stderr",
     "output_type": "stream",
     "text": [
      "INFO:tensorflow:/orions4-zfs/projects/lins2/Panos_Space/DATA/OUT/models/incomplete_pclouds/paper_vanilla_vscan/8_cabinet_2048_4096pts_emd/models.ckpt-520 is not in all_model_checkpoint_paths. Manually adding it.\n"
     ]
    },
    {
     "name": "stdout",
     "output_type": "stream",
     "text": [
      "('Epoch:', '0521', 'training time (minutes)=', '1.3401', 'loss=', '148.545916857')\n",
      "('Epoch:', '0522', 'training time (minutes)=', '1.3331', 'loss=', '148.787855966')\n",
      "('Epoch:', '0523', 'training time (minutes)=', '1.3276', 'loss=', '148.304069628')\n",
      "('Epoch:', '0524', 'training time (minutes)=', '1.3257', 'loss=', '148.682339042')\n",
      "('Epoch:', '0525', 'training time (minutes)=', '1.3281', 'loss=', '148.719801222')\n",
      "INFO:tensorflow:/orions4-zfs/projects/lins2/Panos_Space/DATA/OUT/models/incomplete_pclouds/paper_vanilla_vscan/8_cabinet_2048_4096pts_emd/models.ckpt-525 is not in all_model_checkpoint_paths. Manually adding it.\n"
     ]
    },
    {
     "name": "stderr",
     "output_type": "stream",
     "text": [
      "INFO:tensorflow:/orions4-zfs/projects/lins2/Panos_Space/DATA/OUT/models/incomplete_pclouds/paper_vanilla_vscan/8_cabinet_2048_4096pts_emd/models.ckpt-525 is not in all_model_checkpoint_paths. Manually adding it.\n"
     ]
    },
    {
     "name": "stdout",
     "output_type": "stream",
     "text": [
      "('Epoch:', '0526', 'training time (minutes)=', '1.3263', 'loss=', '147.693187714')\n",
      "('Epoch:', '0527', 'training time (minutes)=', '1.3245', 'loss=', '147.845495496')\n",
      "('Epoch:', '0528', 'training time (minutes)=', '1.3239', 'loss=', '147.865537044')\n",
      "('Epoch:', '0529', 'training time (minutes)=', '1.3264', 'loss=', '148.520231301')\n",
      "('Epoch:', '0530', 'training time (minutes)=', '1.3246', 'loss=', '148.737240056')\n",
      "INFO:tensorflow:/orions4-zfs/projects/lins2/Panos_Space/DATA/OUT/models/incomplete_pclouds/paper_vanilla_vscan/8_cabinet_2048_4096pts_emd/models.ckpt-530 is not in all_model_checkpoint_paths. Manually adding it.\n"
     ]
    },
    {
     "name": "stderr",
     "output_type": "stream",
     "text": [
      "INFO:tensorflow:/orions4-zfs/projects/lins2/Panos_Space/DATA/OUT/models/incomplete_pclouds/paper_vanilla_vscan/8_cabinet_2048_4096pts_emd/models.ckpt-530 is not in all_model_checkpoint_paths. Manually adding it.\n"
     ]
    },
    {
     "name": "stdout",
     "output_type": "stream",
     "text": [
      "('Epoch:', '0531', 'training time (minutes)=', '1.3235', 'loss=', '148.171669224')\n",
      "('Epoch:', '0532', 'training time (minutes)=', '1.3397', 'loss=', '148.232099370')\n",
      "('Epoch:', '0533', 'training time (minutes)=', '1.3464', 'loss=', '148.240695517')\n",
      "('Epoch:', '0534', 'training time (minutes)=', '1.3414', 'loss=', '147.587169974')\n",
      "('Epoch:', '0535', 'training time (minutes)=', '1.3243', 'loss=', '148.185346985')\n",
      "INFO:tensorflow:/orions4-zfs/projects/lins2/Panos_Space/DATA/OUT/models/incomplete_pclouds/paper_vanilla_vscan/8_cabinet_2048_4096pts_emd/models.ckpt-535 is not in all_model_checkpoint_paths. Manually adding it.\n"
     ]
    },
    {
     "name": "stderr",
     "output_type": "stream",
     "text": [
      "INFO:tensorflow:/orions4-zfs/projects/lins2/Panos_Space/DATA/OUT/models/incomplete_pclouds/paper_vanilla_vscan/8_cabinet_2048_4096pts_emd/models.ckpt-535 is not in all_model_checkpoint_paths. Manually adding it.\n"
     ]
    },
    {
     "name": "stdout",
     "output_type": "stream",
     "text": [
      "('Epoch:', '0536', 'training time (minutes)=', '1.3328', 'loss=', '147.827212633')\n",
      "('Epoch:', '0537', 'training time (minutes)=', '1.3230', 'loss=', '148.107929230')\n",
      "('Epoch:', '0538', 'training time (minutes)=', '1.3357', 'loss=', '148.150769261')\n",
      "('Epoch:', '0539', 'training time (minutes)=', '1.3347', 'loss=', '148.421729170')\n",
      "('Epoch:', '0540', 'training time (minutes)=', '1.3310', 'loss=', '148.527175794')\n",
      "INFO:tensorflow:/orions4-zfs/projects/lins2/Panos_Space/DATA/OUT/models/incomplete_pclouds/paper_vanilla_vscan/8_cabinet_2048_4096pts_emd/models.ckpt-540 is not in all_model_checkpoint_paths. Manually adding it.\n"
     ]
    },
    {
     "name": "stderr",
     "output_type": "stream",
     "text": [
      "INFO:tensorflow:/orions4-zfs/projects/lins2/Panos_Space/DATA/OUT/models/incomplete_pclouds/paper_vanilla_vscan/8_cabinet_2048_4096pts_emd/models.ckpt-540 is not in all_model_checkpoint_paths. Manually adding it.\n"
     ]
    },
    {
     "name": "stdout",
     "output_type": "stream",
     "text": [
      "('Epoch:', '0541', 'training time (minutes)=', '1.3312', 'loss=', '147.682121713')\n",
      "('Epoch:', '0542', 'training time (minutes)=', '1.3281', 'loss=', '147.534823063')\n",
      "('Epoch:', '0543', 'training time (minutes)=', '1.3276', 'loss=', '148.242628588')\n",
      "('Epoch:', '0544', 'training time (minutes)=', '1.3362', 'loss=', '147.927054378')\n",
      "('Epoch:', '0545', 'training time (minutes)=', '1.3408', 'loss=', '147.560770961')\n",
      "INFO:tensorflow:/orions4-zfs/projects/lins2/Panos_Space/DATA/OUT/models/incomplete_pclouds/paper_vanilla_vscan/8_cabinet_2048_4096pts_emd/models.ckpt-545 is not in all_model_checkpoint_paths. Manually adding it.\n"
     ]
    },
    {
     "name": "stderr",
     "output_type": "stream",
     "text": [
      "INFO:tensorflow:/orions4-zfs/projects/lins2/Panos_Space/DATA/OUT/models/incomplete_pclouds/paper_vanilla_vscan/8_cabinet_2048_4096pts_emd/models.ckpt-545 is not in all_model_checkpoint_paths. Manually adding it.\n"
     ]
    },
    {
     "name": "stdout",
     "output_type": "stream",
     "text": [
      "('Epoch:', '0546', 'training time (minutes)=', '1.3295', 'loss=', '148.429363142')\n",
      "('Epoch:', '0547', 'training time (minutes)=', '1.3267', 'loss=', '147.394303240')\n",
      "('Epoch:', '0548', 'training time (minutes)=', '1.3385', 'loss=', '147.491112082')\n",
      "('Epoch:', '0549', 'training time (minutes)=', '1.3353', 'loss=', '146.923813302')\n",
      "('Epoch:', '0550', 'training time (minutes)=', '1.3253', 'loss=', '147.231211308')\n",
      "INFO:tensorflow:/orions4-zfs/projects/lins2/Panos_Space/DATA/OUT/models/incomplete_pclouds/paper_vanilla_vscan/8_cabinet_2048_4096pts_emd/models.ckpt-550 is not in all_model_checkpoint_paths. Manually adding it.\n"
     ]
    },
    {
     "name": "stderr",
     "output_type": "stream",
     "text": [
      "INFO:tensorflow:/orions4-zfs/projects/lins2/Panos_Space/DATA/OUT/models/incomplete_pclouds/paper_vanilla_vscan/8_cabinet_2048_4096pts_emd/models.ckpt-550 is not in all_model_checkpoint_paths. Manually adding it.\n"
     ]
    },
    {
     "name": "stdout",
     "output_type": "stream",
     "text": [
      "('Epoch:', '0551', 'training time (minutes)=', '1.3280', 'loss=', '147.591572026')\n",
      "('Epoch:', '0552', 'training time (minutes)=', '1.3305', 'loss=', '147.412127577')\n",
      "('Epoch:', '0553', 'training time (minutes)=', '1.3359', 'loss=', '147.771861812')\n",
      "('Epoch:', '0554', 'training time (minutes)=', '1.3314', 'loss=', '148.302317701')\n",
      "('Epoch:', '0555', 'training time (minutes)=', '1.3309', 'loss=', '147.560394396')\n",
      "INFO:tensorflow:/orions4-zfs/projects/lins2/Panos_Space/DATA/OUT/models/incomplete_pclouds/paper_vanilla_vscan/8_cabinet_2048_4096pts_emd/models.ckpt-555 is not in all_model_checkpoint_paths. Manually adding it.\n"
     ]
    },
    {
     "name": "stderr",
     "output_type": "stream",
     "text": [
      "INFO:tensorflow:/orions4-zfs/projects/lins2/Panos_Space/DATA/OUT/models/incomplete_pclouds/paper_vanilla_vscan/8_cabinet_2048_4096pts_emd/models.ckpt-555 is not in all_model_checkpoint_paths. Manually adding it.\n"
     ]
    },
    {
     "name": "stdout",
     "output_type": "stream",
     "text": [
      "('Epoch:', '0556', 'training time (minutes)=', '1.3390', 'loss=', '147.306664712')\n",
      "('Epoch:', '0557', 'training time (minutes)=', '1.3244', 'loss=', '146.945034463')\n",
      "('Epoch:', '0558', 'training time (minutes)=', '1.3314', 'loss=', '147.264246368')\n",
      "('Epoch:', '0559', 'training time (minutes)=', '1.3288', 'loss=', '147.688154057')\n",
      "('Epoch:', '0560', 'training time (minutes)=', '1.3371', 'loss=', '147.365564946')\n",
      "INFO:tensorflow:/orions4-zfs/projects/lins2/Panos_Space/DATA/OUT/models/incomplete_pclouds/paper_vanilla_vscan/8_cabinet_2048_4096pts_emd/models.ckpt-560 is not in all_model_checkpoint_paths. Manually adding it.\n"
     ]
    },
    {
     "name": "stderr",
     "output_type": "stream",
     "text": [
      "INFO:tensorflow:/orions4-zfs/projects/lins2/Panos_Space/DATA/OUT/models/incomplete_pclouds/paper_vanilla_vscan/8_cabinet_2048_4096pts_emd/models.ckpt-560 is not in all_model_checkpoint_paths. Manually adding it.\n"
     ]
    },
    {
     "name": "stdout",
     "output_type": "stream",
     "text": [
      "('Epoch:', '0561', 'training time (minutes)=', '1.3274', 'loss=', '147.592267500')\n",
      "('Epoch:', '0562', 'training time (minutes)=', '1.3274', 'loss=', '147.552405548')\n",
      "('Epoch:', '0563', 'training time (minutes)=', '1.3237', 'loss=', '147.707066236')\n",
      "('Epoch:', '0564', 'training time (minutes)=', '1.3361', 'loss=', '147.567442867')\n",
      "('Epoch:', '0565', 'training time (minutes)=', '1.3380', 'loss=', '147.403883471')\n",
      "INFO:tensorflow:/orions4-zfs/projects/lins2/Panos_Space/DATA/OUT/models/incomplete_pclouds/paper_vanilla_vscan/8_cabinet_2048_4096pts_emd/models.ckpt-565 is not in all_model_checkpoint_paths. Manually adding it.\n"
     ]
    },
    {
     "name": "stderr",
     "output_type": "stream",
     "text": [
      "INFO:tensorflow:/orions4-zfs/projects/lins2/Panos_Space/DATA/OUT/models/incomplete_pclouds/paper_vanilla_vscan/8_cabinet_2048_4096pts_emd/models.ckpt-565 is not in all_model_checkpoint_paths. Manually adding it.\n"
     ]
    },
    {
     "name": "stdout",
     "output_type": "stream",
     "text": [
      "('Epoch:', '0566', 'training time (minutes)=', '1.3288', 'loss=', '146.809415436')\n",
      "('Epoch:', '0567', 'training time (minutes)=', '1.3278', 'loss=', '147.552826473')\n",
      "('Epoch:', '0568', 'training time (minutes)=', '1.3286', 'loss=', '147.233267975')\n",
      "('Epoch:', '0569', 'training time (minutes)=', '1.3254', 'loss=', '146.967510332')\n",
      "('Epoch:', '0570', 'training time (minutes)=', '1.3331', 'loss=', '147.327378082')\n",
      "INFO:tensorflow:/orions4-zfs/projects/lins2/Panos_Space/DATA/OUT/models/incomplete_pclouds/paper_vanilla_vscan/8_cabinet_2048_4096pts_emd/models.ckpt-570 is not in all_model_checkpoint_paths. Manually adding it.\n"
     ]
    },
    {
     "name": "stderr",
     "output_type": "stream",
     "text": [
      "INFO:tensorflow:/orions4-zfs/projects/lins2/Panos_Space/DATA/OUT/models/incomplete_pclouds/paper_vanilla_vscan/8_cabinet_2048_4096pts_emd/models.ckpt-570 is not in all_model_checkpoint_paths. Manually adding it.\n"
     ]
    },
    {
     "name": "stdout",
     "output_type": "stream",
     "text": [
      "('Epoch:', '0571', 'training time (minutes)=', '1.3242', 'loss=', '147.207275282')\n",
      "('Epoch:', '0572', 'training time (minutes)=', '1.3257', 'loss=', '148.259195709')\n",
      "('Epoch:', '0573', 'training time (minutes)=', '1.3296', 'loss=', '147.168055943')\n",
      "('Epoch:', '0574', 'training time (minutes)=', '1.3311', 'loss=', '147.174908665')\n",
      "('Epoch:', '0575', 'training time (minutes)=', '1.3245', 'loss=', '147.204155077')\n",
      "INFO:tensorflow:/orions4-zfs/projects/lins2/Panos_Space/DATA/OUT/models/incomplete_pclouds/paper_vanilla_vscan/8_cabinet_2048_4096pts_emd/models.ckpt-575 is not in all_model_checkpoint_paths. Manually adding it.\n"
     ]
    },
    {
     "name": "stderr",
     "output_type": "stream",
     "text": [
      "INFO:tensorflow:/orions4-zfs/projects/lins2/Panos_Space/DATA/OUT/models/incomplete_pclouds/paper_vanilla_vscan/8_cabinet_2048_4096pts_emd/models.ckpt-575 is not in all_model_checkpoint_paths. Manually adding it.\n"
     ]
    },
    {
     "name": "stdout",
     "output_type": "stream",
     "text": [
      "('Epoch:', '0576', 'training time (minutes)=', '1.3243', 'loss=', '147.252976336')\n",
      "('Epoch:', '0577', 'training time (minutes)=', '1.3258', 'loss=', '146.996936035')\n",
      "('Epoch:', '0578', 'training time (minutes)=', '1.3342', 'loss=', '147.216312081')\n",
      "('Epoch:', '0579', 'training time (minutes)=', '1.3292', 'loss=', '146.840115683')\n",
      "('Epoch:', '0580', 'training time (minutes)=', '1.3285', 'loss=', '147.195302364')\n",
      "INFO:tensorflow:/orions4-zfs/projects/lins2/Panos_Space/DATA/OUT/models/incomplete_pclouds/paper_vanilla_vscan/8_cabinet_2048_4096pts_emd/models.ckpt-580 is not in all_model_checkpoint_paths. Manually adding it.\n"
     ]
    },
    {
     "name": "stderr",
     "output_type": "stream",
     "text": [
      "INFO:tensorflow:/orions4-zfs/projects/lins2/Panos_Space/DATA/OUT/models/incomplete_pclouds/paper_vanilla_vscan/8_cabinet_2048_4096pts_emd/models.ckpt-580 is not in all_model_checkpoint_paths. Manually adding it.\n"
     ]
    },
    {
     "name": "stdout",
     "output_type": "stream",
     "text": [
      "('Epoch:', '0581', 'training time (minutes)=', '1.3408', 'loss=', '146.948986816')\n",
      "('Epoch:', '0582', 'training time (minutes)=', '1.3345', 'loss=', '147.100845446')\n",
      "('Epoch:', '0583', 'training time (minutes)=', '1.3260', 'loss=', '146.361864362')\n",
      "('Epoch:', '0584', 'training time (minutes)=', '1.3241', 'loss=', '147.035180010')\n",
      "('Epoch:', '0585', 'training time (minutes)=', '1.3329', 'loss=', '146.372915431')\n",
      "INFO:tensorflow:/orions4-zfs/projects/lins2/Panos_Space/DATA/OUT/models/incomplete_pclouds/paper_vanilla_vscan/8_cabinet_2048_4096pts_emd/models.ckpt-585 is not in all_model_checkpoint_paths. Manually adding it.\n"
     ]
    },
    {
     "name": "stderr",
     "output_type": "stream",
     "text": [
      "INFO:tensorflow:/orions4-zfs/projects/lins2/Panos_Space/DATA/OUT/models/incomplete_pclouds/paper_vanilla_vscan/8_cabinet_2048_4096pts_emd/models.ckpt-585 is not in all_model_checkpoint_paths. Manually adding it.\n"
     ]
    },
    {
     "name": "stdout",
     "output_type": "stream",
     "text": [
      "('Epoch:', '0586', 'training time (minutes)=', '1.3358', 'loss=', '147.144566890')\n",
      "('Epoch:', '0587', 'training time (minutes)=', '1.3246', 'loss=', '146.711181968')\n",
      "('Epoch:', '0588', 'training time (minutes)=', '1.3246', 'loss=', '146.196605573')\n",
      "('Epoch:', '0589', 'training time (minutes)=', '1.3272', 'loss=', '146.734466880')\n",
      "('Epoch:', '0590', 'training time (minutes)=', '1.3287', 'loss=', '146.746127101')\n",
      "INFO:tensorflow:/orions4-zfs/projects/lins2/Panos_Space/DATA/OUT/models/incomplete_pclouds/paper_vanilla_vscan/8_cabinet_2048_4096pts_emd/models.ckpt-590 is not in all_model_checkpoint_paths. Manually adding it.\n"
     ]
    },
    {
     "name": "stderr",
     "output_type": "stream",
     "text": [
      "INFO:tensorflow:/orions4-zfs/projects/lins2/Panos_Space/DATA/OUT/models/incomplete_pclouds/paper_vanilla_vscan/8_cabinet_2048_4096pts_emd/models.ckpt-590 is not in all_model_checkpoint_paths. Manually adding it.\n"
     ]
    },
    {
     "name": "stdout",
     "output_type": "stream",
     "text": [
      "('Epoch:', '0591', 'training time (minutes)=', '1.3420', 'loss=', '146.528089687')\n",
      "('Epoch:', '0592', 'training time (minutes)=', '1.3335', 'loss=', '146.739065552')\n",
      "('Epoch:', '0593', 'training time (minutes)=', '1.3216', 'loss=', '146.997519684')\n",
      "('Epoch:', '0594', 'training time (minutes)=', '1.3329', 'loss=', '147.167634692')\n",
      "('Epoch:', '0595', 'training time (minutes)=', '1.3294', 'loss=', '146.647612871')\n",
      "INFO:tensorflow:/orions4-zfs/projects/lins2/Panos_Space/DATA/OUT/models/incomplete_pclouds/paper_vanilla_vscan/8_cabinet_2048_4096pts_emd/models.ckpt-595 is not in all_model_checkpoint_paths. Manually adding it.\n"
     ]
    },
    {
     "name": "stderr",
     "output_type": "stream",
     "text": [
      "INFO:tensorflow:/orions4-zfs/projects/lins2/Panos_Space/DATA/OUT/models/incomplete_pclouds/paper_vanilla_vscan/8_cabinet_2048_4096pts_emd/models.ckpt-595 is not in all_model_checkpoint_paths. Manually adding it.\n"
     ]
    },
    {
     "name": "stdout",
     "output_type": "stream",
     "text": [
      "('Epoch:', '0596', 'training time (minutes)=', '1.3234', 'loss=', '146.225172424')\n",
      "('Epoch:', '0597', 'training time (minutes)=', '1.3270', 'loss=', '145.954974038')\n",
      "('Epoch:', '0598', 'training time (minutes)=', '1.3290', 'loss=', '146.891744668')\n",
      "('Epoch:', '0599', 'training time (minutes)=', '1.3255', 'loss=', '146.174282074')\n",
      "('Epoch:', '0600', 'training time (minutes)=', '1.3325', 'loss=', '146.901226589')\n",
      "INFO:tensorflow:/orions4-zfs/projects/lins2/Panos_Space/DATA/OUT/models/incomplete_pclouds/paper_vanilla_vscan/8_cabinet_2048_4096pts_emd/models.ckpt-600 is not in all_model_checkpoint_paths. Manually adding it.\n"
     ]
    },
    {
     "name": "stderr",
     "output_type": "stream",
     "text": [
      "INFO:tensorflow:/orions4-zfs/projects/lins2/Panos_Space/DATA/OUT/models/incomplete_pclouds/paper_vanilla_vscan/8_cabinet_2048_4096pts_emd/models.ckpt-600 is not in all_model_checkpoint_paths. Manually adding it.\n"
     ]
    },
    {
     "name": "stdout",
     "output_type": "stream",
     "text": [
      "('Epoch:', '0601', 'training time (minutes)=', '1.3321', 'loss=', '146.204761178')\n",
      "('Epoch:', '0602', 'training time (minutes)=', '1.3228', 'loss=', '146.681432778')\n",
      "('Epoch:', '0603', 'training time (minutes)=', '1.3325', 'loss=', '146.659745026')\n",
      "('Epoch:', '0604', 'training time (minutes)=', '1.3354', 'loss=', '146.431137521')\n",
      "('Epoch:', '0605', 'training time (minutes)=', '1.3280', 'loss=', '146.186077663')\n",
      "INFO:tensorflow:/orions4-zfs/projects/lins2/Panos_Space/DATA/OUT/models/incomplete_pclouds/paper_vanilla_vscan/8_cabinet_2048_4096pts_emd/models.ckpt-605 is not in all_model_checkpoint_paths. Manually adding it.\n"
     ]
    },
    {
     "name": "stderr",
     "output_type": "stream",
     "text": [
      "INFO:tensorflow:/orions4-zfs/projects/lins2/Panos_Space/DATA/OUT/models/incomplete_pclouds/paper_vanilla_vscan/8_cabinet_2048_4096pts_emd/models.ckpt-605 is not in all_model_checkpoint_paths. Manually adding it.\n"
     ]
    },
    {
     "name": "stdout",
     "output_type": "stream",
     "text": [
      "('Epoch:', '0606', 'training time (minutes)=', '1.3236', 'loss=', '146.277571651')\n",
      "('Epoch:', '0607', 'training time (minutes)=', '1.3262', 'loss=', '146.266886139')\n",
      "('Epoch:', '0608', 'training time (minutes)=', '1.3364', 'loss=', '146.234939902')\n",
      "('Epoch:', '0609', 'training time (minutes)=', '1.3442', 'loss=', '146.051094382')\n",
      "('Epoch:', '0610', 'training time (minutes)=', '1.3378', 'loss=', '146.174208505')\n",
      "INFO:tensorflow:/orions4-zfs/projects/lins2/Panos_Space/DATA/OUT/models/incomplete_pclouds/paper_vanilla_vscan/8_cabinet_2048_4096pts_emd/models.ckpt-610 is not in all_model_checkpoint_paths. Manually adding it.\n"
     ]
    },
    {
     "name": "stderr",
     "output_type": "stream",
     "text": [
      "INFO:tensorflow:/orions4-zfs/projects/lins2/Panos_Space/DATA/OUT/models/incomplete_pclouds/paper_vanilla_vscan/8_cabinet_2048_4096pts_emd/models.ckpt-610 is not in all_model_checkpoint_paths. Manually adding it.\n"
     ]
    },
    {
     "name": "stdout",
     "output_type": "stream",
     "text": [
      "('Epoch:', '0611', 'training time (minutes)=', '1.3304', 'loss=', '146.254483468')\n",
      "('Epoch:', '0612', 'training time (minutes)=', '1.3218', 'loss=', '145.981731415')\n",
      "('Epoch:', '0613', 'training time (minutes)=', '1.3372', 'loss=', '146.305487170')\n",
      "('Epoch:', '0614', 'training time (minutes)=', '1.3376', 'loss=', '146.436769867')\n",
      "('Epoch:', '0615', 'training time (minutes)=', '1.3306', 'loss=', '146.591898782')\n",
      "INFO:tensorflow:/orions4-zfs/projects/lins2/Panos_Space/DATA/OUT/models/incomplete_pclouds/paper_vanilla_vscan/8_cabinet_2048_4096pts_emd/models.ckpt-615 is not in all_model_checkpoint_paths. Manually adding it.\n"
     ]
    },
    {
     "name": "stderr",
     "output_type": "stream",
     "text": [
      "INFO:tensorflow:/orions4-zfs/projects/lins2/Panos_Space/DATA/OUT/models/incomplete_pclouds/paper_vanilla_vscan/8_cabinet_2048_4096pts_emd/models.ckpt-615 is not in all_model_checkpoint_paths. Manually adding it.\n"
     ]
    },
    {
     "name": "stdout",
     "output_type": "stream",
     "text": [
      "('Epoch:', '0616', 'training time (minutes)=', '1.3349', 'loss=', '146.024646541')\n",
      "('Epoch:', '0617', 'training time (minutes)=', '1.3340', 'loss=', '146.127062334')\n",
      "('Epoch:', '0618', 'training time (minutes)=', '1.3510', 'loss=', '145.953916495')\n",
      "('Epoch:', '0619', 'training time (minutes)=', '1.3358', 'loss=', '145.892016711')\n",
      "('Epoch:', '0620', 'training time (minutes)=', '1.3342', 'loss=', '145.343094417')\n",
      "INFO:tensorflow:/orions4-zfs/projects/lins2/Panos_Space/DATA/OUT/models/incomplete_pclouds/paper_vanilla_vscan/8_cabinet_2048_4096pts_emd/models.ckpt-620 is not in all_model_checkpoint_paths. Manually adding it.\n"
     ]
    },
    {
     "name": "stderr",
     "output_type": "stream",
     "text": [
      "INFO:tensorflow:/orions4-zfs/projects/lins2/Panos_Space/DATA/OUT/models/incomplete_pclouds/paper_vanilla_vscan/8_cabinet_2048_4096pts_emd/models.ckpt-620 is not in all_model_checkpoint_paths. Manually adding it.\n"
     ]
    },
    {
     "name": "stdout",
     "output_type": "stream",
     "text": [
      "('Epoch:', '0621', 'training time (minutes)=', '1.3312', 'loss=', '146.448346383')\n",
      "('Epoch:', '0622', 'training time (minutes)=', '1.3360', 'loss=', '146.001069423')\n",
      "('Epoch:', '0623', 'training time (minutes)=', '1.3265', 'loss=', '145.774338314')\n",
      "('Epoch:', '0624', 'training time (minutes)=', '1.3377', 'loss=', '145.606405749')\n",
      "('Epoch:', '0625', 'training time (minutes)=', '1.3374', 'loss=', '145.866096606')\n",
      "INFO:tensorflow:/orions4-zfs/projects/lins2/Panos_Space/DATA/OUT/models/incomplete_pclouds/paper_vanilla_vscan/8_cabinet_2048_4096pts_emd/models.ckpt-625 is not in all_model_checkpoint_paths. Manually adding it.\n"
     ]
    },
    {
     "name": "stderr",
     "output_type": "stream",
     "text": [
      "INFO:tensorflow:/orions4-zfs/projects/lins2/Panos_Space/DATA/OUT/models/incomplete_pclouds/paper_vanilla_vscan/8_cabinet_2048_4096pts_emd/models.ckpt-625 is not in all_model_checkpoint_paths. Manually adding it.\n"
     ]
    },
    {
     "name": "stdout",
     "output_type": "stream",
     "text": [
      "('Epoch:', '0626', 'training time (minutes)=', '1.3318', 'loss=', '146.412897164')\n",
      "('Epoch:', '0627', 'training time (minutes)=', '1.3341', 'loss=', '146.032574681')\n",
      "('Epoch:', '0628', 'training time (minutes)=', '1.3420', 'loss=', '146.007896532')\n",
      "('Epoch:', '0629', 'training time (minutes)=', '1.3329', 'loss=', '146.087415532')\n",
      "('Epoch:', '0630', 'training time (minutes)=', '1.3306', 'loss=', '146.016234480')\n",
      "INFO:tensorflow:/orions4-zfs/projects/lins2/Panos_Space/DATA/OUT/models/incomplete_pclouds/paper_vanilla_vscan/8_cabinet_2048_4096pts_emd/models.ckpt-630 is not in all_model_checkpoint_paths. Manually adding it.\n"
     ]
    },
    {
     "name": "stderr",
     "output_type": "stream",
     "text": [
      "INFO:tensorflow:/orions4-zfs/projects/lins2/Panos_Space/DATA/OUT/models/incomplete_pclouds/paper_vanilla_vscan/8_cabinet_2048_4096pts_emd/models.ckpt-630 is not in all_model_checkpoint_paths. Manually adding it.\n"
     ]
    },
    {
     "name": "stdout",
     "output_type": "stream",
     "text": [
      "('Epoch:', '0631', 'training time (minutes)=', '1.3271', 'loss=', '145.728210231')\n",
      "('Epoch:', '0632', 'training time (minutes)=', '1.3345', 'loss=', '146.181950814')\n",
      "('Epoch:', '0633', 'training time (minutes)=', '1.3292', 'loss=', '145.873610360')\n",
      "('Epoch:', '0634', 'training time (minutes)=', '1.3298', 'loss=', '145.642263903')\n",
      "('Epoch:', '0635', 'training time (minutes)=', '1.3473', 'loss=', '145.920143236')\n",
      "INFO:tensorflow:/orions4-zfs/projects/lins2/Panos_Space/DATA/OUT/models/incomplete_pclouds/paper_vanilla_vscan/8_cabinet_2048_4096pts_emd/models.ckpt-635 is not in all_model_checkpoint_paths. Manually adding it.\n"
     ]
    },
    {
     "name": "stderr",
     "output_type": "stream",
     "text": [
      "INFO:tensorflow:/orions4-zfs/projects/lins2/Panos_Space/DATA/OUT/models/incomplete_pclouds/paper_vanilla_vscan/8_cabinet_2048_4096pts_emd/models.ckpt-635 is not in all_model_checkpoint_paths. Manually adding it.\n"
     ]
    },
    {
     "name": "stdout",
     "output_type": "stream",
     "text": [
      "('Epoch:', '0636', 'training time (minutes)=', '1.3523', 'loss=', '145.914403534')\n",
      "('Epoch:', '0637', 'training time (minutes)=', '1.3423', 'loss=', '146.273590524')\n",
      "('Epoch:', '0638', 'training time (minutes)=', '1.3458', 'loss=', '145.722754233')\n",
      "('Epoch:', '0639', 'training time (minutes)=', '1.3331', 'loss=', '145.351404572')\n",
      "('Epoch:', '0640', 'training time (minutes)=', '1.3262', 'loss=', '145.596534947')\n",
      "INFO:tensorflow:/orions4-zfs/projects/lins2/Panos_Space/DATA/OUT/models/incomplete_pclouds/paper_vanilla_vscan/8_cabinet_2048_4096pts_emd/models.ckpt-640 is not in all_model_checkpoint_paths. Manually adding it.\n"
     ]
    },
    {
     "name": "stderr",
     "output_type": "stream",
     "text": [
      "INFO:tensorflow:/orions4-zfs/projects/lins2/Panos_Space/DATA/OUT/models/incomplete_pclouds/paper_vanilla_vscan/8_cabinet_2048_4096pts_emd/models.ckpt-640 is not in all_model_checkpoint_paths. Manually adding it.\n"
     ]
    },
    {
     "name": "stdout",
     "output_type": "stream",
     "text": [
      "('Epoch:', '0641', 'training time (minutes)=', '1.3298', 'loss=', '145.784836905')\n",
      "('Epoch:', '0642', 'training time (minutes)=', '1.3344', 'loss=', '145.522412327')\n",
      "('Epoch:', '0643', 'training time (minutes)=', '1.3338', 'loss=', '146.279397038')\n",
      "('Epoch:', '0644', 'training time (minutes)=', '1.3397', 'loss=', '145.664023590')\n",
      "('Epoch:', '0645', 'training time (minutes)=', '1.3344', 'loss=', '146.212935529')\n",
      "INFO:tensorflow:/orions4-zfs/projects/lins2/Panos_Space/DATA/OUT/models/incomplete_pclouds/paper_vanilla_vscan/8_cabinet_2048_4096pts_emd/models.ckpt-645 is not in all_model_checkpoint_paths. Manually adding it.\n"
     ]
    },
    {
     "name": "stderr",
     "output_type": "stream",
     "text": [
      "INFO:tensorflow:/orions4-zfs/projects/lins2/Panos_Space/DATA/OUT/models/incomplete_pclouds/paper_vanilla_vscan/8_cabinet_2048_4096pts_emd/models.ckpt-645 is not in all_model_checkpoint_paths. Manually adding it.\n"
     ]
    },
    {
     "name": "stdout",
     "output_type": "stream",
     "text": [
      "('Epoch:', '0646', 'training time (minutes)=', '1.3293', 'loss=', '145.527981785')\n",
      "('Epoch:', '0647', 'training time (minutes)=', '1.3331', 'loss=', '145.808499908')\n",
      "('Epoch:', '0648', 'training time (minutes)=', '1.3326', 'loss=', '145.893302264')\n",
      "('Epoch:', '0649', 'training time (minutes)=', '1.3335', 'loss=', '145.411050088')\n",
      "('Epoch:', '0650', 'training time (minutes)=', '1.3433', 'loss=', '145.768434034')\n",
      "INFO:tensorflow:/orions4-zfs/projects/lins2/Panos_Space/DATA/OUT/models/incomplete_pclouds/paper_vanilla_vscan/8_cabinet_2048_4096pts_emd/models.ckpt-650 is not in all_model_checkpoint_paths. Manually adding it.\n"
     ]
    },
    {
     "name": "stderr",
     "output_type": "stream",
     "text": [
      "INFO:tensorflow:/orions4-zfs/projects/lins2/Panos_Space/DATA/OUT/models/incomplete_pclouds/paper_vanilla_vscan/8_cabinet_2048_4096pts_emd/models.ckpt-650 is not in all_model_checkpoint_paths. Manually adding it.\n"
     ]
    },
    {
     "name": "stdout",
     "output_type": "stream",
     "text": [
      "('Epoch:', '0651', 'training time (minutes)=', '1.3324', 'loss=', '146.019441441')\n",
      "('Epoch:', '0652', 'training time (minutes)=', '1.3427', 'loss=', '145.888670458')\n",
      "('Epoch:', '0653', 'training time (minutes)=', '1.3330', 'loss=', '145.514331164')\n",
      "('Epoch:', '0654', 'training time (minutes)=', '1.3430', 'loss=', '145.528607723')\n",
      "('Epoch:', '0655', 'training time (minutes)=', '1.3384', 'loss=', '145.553885215')\n",
      "INFO:tensorflow:/orions4-zfs/projects/lins2/Panos_Space/DATA/OUT/models/incomplete_pclouds/paper_vanilla_vscan/8_cabinet_2048_4096pts_emd/models.ckpt-655 is not in all_model_checkpoint_paths. Manually adding it.\n"
     ]
    },
    {
     "name": "stderr",
     "output_type": "stream",
     "text": [
      "INFO:tensorflow:/orions4-zfs/projects/lins2/Panos_Space/DATA/OUT/models/incomplete_pclouds/paper_vanilla_vscan/8_cabinet_2048_4096pts_emd/models.ckpt-655 is not in all_model_checkpoint_paths. Manually adding it.\n"
     ]
    },
    {
     "name": "stdout",
     "output_type": "stream",
     "text": [
      "('Epoch:', '0656', 'training time (minutes)=', '1.3333', 'loss=', '145.382221440')\n",
      "('Epoch:', '0657', 'training time (minutes)=', '1.3317', 'loss=', '144.940629905')\n",
      "('Epoch:', '0658', 'training time (minutes)=', '1.3519', 'loss=', '145.448065404')\n",
      "('Epoch:', '0659', 'training time (minutes)=', '1.3495', 'loss=', '144.951658303')\n",
      "('Epoch:', '0660', 'training time (minutes)=', '1.3332', 'loss=', '145.265527235')\n",
      "INFO:tensorflow:/orions4-zfs/projects/lins2/Panos_Space/DATA/OUT/models/incomplete_pclouds/paper_vanilla_vscan/8_cabinet_2048_4096pts_emd/models.ckpt-660 is not in all_model_checkpoint_paths. Manually adding it.\n"
     ]
    },
    {
     "name": "stderr",
     "output_type": "stream",
     "text": [
      "INFO:tensorflow:/orions4-zfs/projects/lins2/Panos_Space/DATA/OUT/models/incomplete_pclouds/paper_vanilla_vscan/8_cabinet_2048_4096pts_emd/models.ckpt-660 is not in all_model_checkpoint_paths. Manually adding it.\n"
     ]
    },
    {
     "name": "stdout",
     "output_type": "stream",
     "text": [
      "('Epoch:', '0661', 'training time (minutes)=', '1.3368', 'loss=', '145.238752856')\n",
      "('Epoch:', '0662', 'training time (minutes)=', '1.3393', 'loss=', '145.212332044')\n",
      "('Epoch:', '0663', 'training time (minutes)=', '1.3380', 'loss=', '145.462583160')\n",
      "('Epoch:', '0664', 'training time (minutes)=', '1.3432', 'loss=', '145.410804640')\n",
      "('Epoch:', '0665', 'training time (minutes)=', '1.3389', 'loss=', '145.143168640')\n",
      "INFO:tensorflow:/orions4-zfs/projects/lins2/Panos_Space/DATA/OUT/models/incomplete_pclouds/paper_vanilla_vscan/8_cabinet_2048_4096pts_emd/models.ckpt-665 is not in all_model_checkpoint_paths. Manually adding it.\n"
     ]
    },
    {
     "name": "stderr",
     "output_type": "stream",
     "text": [
      "INFO:tensorflow:/orions4-zfs/projects/lins2/Panos_Space/DATA/OUT/models/incomplete_pclouds/paper_vanilla_vscan/8_cabinet_2048_4096pts_emd/models.ckpt-665 is not in all_model_checkpoint_paths. Manually adding it.\n"
     ]
    },
    {
     "name": "stdout",
     "output_type": "stream",
     "text": [
      "('Epoch:', '0666', 'training time (minutes)=', '1.3325', 'loss=', '144.808588191')\n",
      "('Epoch:', '0667', 'training time (minutes)=', '1.3300', 'loss=', '145.265550341')\n",
      "('Epoch:', '0668', 'training time (minutes)=', '1.3326', 'loss=', '145.156047930')\n",
      "('Epoch:', '0669', 'training time (minutes)=', '1.3325', 'loss=', '145.082127162')\n",
      "('Epoch:', '0670', 'training time (minutes)=', '1.3372', 'loss=', '144.908104706')\n",
      "INFO:tensorflow:/orions4-zfs/projects/lins2/Panos_Space/DATA/OUT/models/incomplete_pclouds/paper_vanilla_vscan/8_cabinet_2048_4096pts_emd/models.ckpt-670 is not in all_model_checkpoint_paths. Manually adding it.\n"
     ]
    },
    {
     "name": "stderr",
     "output_type": "stream",
     "text": [
      "INFO:tensorflow:/orions4-zfs/projects/lins2/Panos_Space/DATA/OUT/models/incomplete_pclouds/paper_vanilla_vscan/8_cabinet_2048_4096pts_emd/models.ckpt-670 is not in all_model_checkpoint_paths. Manually adding it.\n"
     ]
    },
    {
     "name": "stdout",
     "output_type": "stream",
     "text": [
      "('Epoch:', '0671', 'training time (minutes)=', '1.3303', 'loss=', '145.370112828')\n",
      "('Epoch:', '0672', 'training time (minutes)=', '1.3319', 'loss=', '144.859737505')\n",
      "('Epoch:', '0673', 'training time (minutes)=', '1.3352', 'loss=', '144.949002511')\n",
      "('Epoch:', '0674', 'training time (minutes)=', '1.3314', 'loss=', '145.155344500')\n",
      "('Epoch:', '0675', 'training time (minutes)=', '1.3340', 'loss=', '144.984030696')\n",
      "INFO:tensorflow:/orions4-zfs/projects/lins2/Panos_Space/DATA/OUT/models/incomplete_pclouds/paper_vanilla_vscan/8_cabinet_2048_4096pts_emd/models.ckpt-675 is not in all_model_checkpoint_paths. Manually adding it.\n"
     ]
    },
    {
     "name": "stderr",
     "output_type": "stream",
     "text": [
      "INFO:tensorflow:/orions4-zfs/projects/lins2/Panos_Space/DATA/OUT/models/incomplete_pclouds/paper_vanilla_vscan/8_cabinet_2048_4096pts_emd/models.ckpt-675 is not in all_model_checkpoint_paths. Manually adding it.\n"
     ]
    },
    {
     "name": "stdout",
     "output_type": "stream",
     "text": [
      "('Epoch:', '0676', 'training time (minutes)=', '1.3247', 'loss=', '144.494277845')\n",
      "('Epoch:', '0677', 'training time (minutes)=', '1.3277', 'loss=', '145.091759055')\n",
      "('Epoch:', '0678', 'training time (minutes)=', '1.3280', 'loss=', '145.024216243')\n",
      "('Epoch:', '0679', 'training time (minutes)=', '1.3307', 'loss=', '144.508166286')\n",
      "('Epoch:', '0680', 'training time (minutes)=', '1.3301', 'loss=', '145.001555634')\n",
      "INFO:tensorflow:/orions4-zfs/projects/lins2/Panos_Space/DATA/OUT/models/incomplete_pclouds/paper_vanilla_vscan/8_cabinet_2048_4096pts_emd/models.ckpt-680 is not in all_model_checkpoint_paths. Manually adding it.\n"
     ]
    },
    {
     "name": "stderr",
     "output_type": "stream",
     "text": [
      "INFO:tensorflow:/orions4-zfs/projects/lins2/Panos_Space/DATA/OUT/models/incomplete_pclouds/paper_vanilla_vscan/8_cabinet_2048_4096pts_emd/models.ckpt-680 is not in all_model_checkpoint_paths. Manually adding it.\n"
     ]
    },
    {
     "name": "stdout",
     "output_type": "stream",
     "text": [
      "('Epoch:', '0681', 'training time (minutes)=', '1.3304', 'loss=', '144.590392303')\n",
      "('Epoch:', '0682', 'training time (minutes)=', '1.3334', 'loss=', '144.430659049')\n",
      "('Epoch:', '0683', 'training time (minutes)=', '1.3339', 'loss=', '144.923075540')\n",
      "('Epoch:', '0684', 'training time (minutes)=', '1.3249', 'loss=', '145.093932452')\n",
      "('Epoch:', '0685', 'training time (minutes)=', '1.3526', 'loss=', '144.694014086')\n",
      "INFO:tensorflow:/orions4-zfs/projects/lins2/Panos_Space/DATA/OUT/models/incomplete_pclouds/paper_vanilla_vscan/8_cabinet_2048_4096pts_emd/models.ckpt-685 is not in all_model_checkpoint_paths. Manually adding it.\n"
     ]
    },
    {
     "name": "stderr",
     "output_type": "stream",
     "text": [
      "INFO:tensorflow:/orions4-zfs/projects/lins2/Panos_Space/DATA/OUT/models/incomplete_pclouds/paper_vanilla_vscan/8_cabinet_2048_4096pts_emd/models.ckpt-685 is not in all_model_checkpoint_paths. Manually adding it.\n"
     ]
    },
    {
     "name": "stdout",
     "output_type": "stream",
     "text": [
      "('Epoch:', '0686', 'training time (minutes)=', '1.3345', 'loss=', '145.135872977')\n",
      "('Epoch:', '0687', 'training time (minutes)=', '1.3369', 'loss=', '144.925873784')\n",
      "('Epoch:', '0688', 'training time (minutes)=', '1.3314', 'loss=', '145.292585972')\n",
      "('Epoch:', '0689', 'training time (minutes)=', '1.3325', 'loss=', '145.036933572')\n",
      "('Epoch:', '0690', 'training time (minutes)=', '1.3284', 'loss=', '144.950861032')\n",
      "INFO:tensorflow:/orions4-zfs/projects/lins2/Panos_Space/DATA/OUT/models/incomplete_pclouds/paper_vanilla_vscan/8_cabinet_2048_4096pts_emd/models.ckpt-690 is not in all_model_checkpoint_paths. Manually adding it.\n"
     ]
    },
    {
     "name": "stderr",
     "output_type": "stream",
     "text": [
      "INFO:tensorflow:/orions4-zfs/projects/lins2/Panos_Space/DATA/OUT/models/incomplete_pclouds/paper_vanilla_vscan/8_cabinet_2048_4096pts_emd/models.ckpt-690 is not in all_model_checkpoint_paths. Manually adding it.\n"
     ]
    },
    {
     "name": "stdout",
     "output_type": "stream",
     "text": [
      "('Epoch:', '0691', 'training time (minutes)=', '1.3234', 'loss=', '144.963844408')\n",
      "('Epoch:', '0692', 'training time (minutes)=', '1.3370', 'loss=', '145.022215380')\n",
      "('Epoch:', '0693', 'training time (minutes)=', '1.3254', 'loss=', '144.450045558')\n",
      "('Epoch:', '0694', 'training time (minutes)=', '1.3282', 'loss=', '144.666322436')\n",
      "('Epoch:', '0695', 'training time (minutes)=', '1.3263', 'loss=', '144.830415671')\n",
      "INFO:tensorflow:/orions4-zfs/projects/lins2/Panos_Space/DATA/OUT/models/incomplete_pclouds/paper_vanilla_vscan/8_cabinet_2048_4096pts_emd/models.ckpt-695 is not in all_model_checkpoint_paths. Manually adding it.\n"
     ]
    },
    {
     "name": "stderr",
     "output_type": "stream",
     "text": [
      "INFO:tensorflow:/orions4-zfs/projects/lins2/Panos_Space/DATA/OUT/models/incomplete_pclouds/paper_vanilla_vscan/8_cabinet_2048_4096pts_emd/models.ckpt-695 is not in all_model_checkpoint_paths. Manually adding it.\n"
     ]
    },
    {
     "name": "stdout",
     "output_type": "stream",
     "text": [
      "('Epoch:', '0696', 'training time (minutes)=', '1.3205', 'loss=', '144.806505476')\n",
      "('Epoch:', '0697', 'training time (minutes)=', '1.3342', 'loss=', '144.760940879')\n",
      "('Epoch:', '0698', 'training time (minutes)=', '1.3304', 'loss=', '144.320429993')\n",
      "('Epoch:', '0699', 'training time (minutes)=', '1.3263', 'loss=', '144.734021323')\n",
      "('Epoch:', '0700', 'training time (minutes)=', '1.3337', 'loss=', '144.899331120')\n",
      "INFO:tensorflow:/orions4-zfs/projects/lins2/Panos_Space/DATA/OUT/models/incomplete_pclouds/paper_vanilla_vscan/8_cabinet_2048_4096pts_emd/models.ckpt-700 is not in all_model_checkpoint_paths. Manually adding it.\n"
     ]
    },
    {
     "name": "stderr",
     "output_type": "stream",
     "text": [
      "INFO:tensorflow:/orions4-zfs/projects/lins2/Panos_Space/DATA/OUT/models/incomplete_pclouds/paper_vanilla_vscan/8_cabinet_2048_4096pts_emd/models.ckpt-700 is not in all_model_checkpoint_paths. Manually adding it.\n"
     ]
    },
    {
     "name": "stdout",
     "output_type": "stream",
     "text": [
      "('Epoch:', '0701', 'training time (minutes)=', '1.3258', 'loss=', '144.559088244')\n",
      "('Epoch:', '0702', 'training time (minutes)=', '1.3243', 'loss=', '144.891747066')\n",
      "('Epoch:', '0703', 'training time (minutes)=', '1.3311', 'loss=', '144.377976772')\n",
      "('Epoch:', '0704', 'training time (minutes)=', '1.3447', 'loss=', '144.180104937')\n",
      "('Epoch:', '0705', 'training time (minutes)=', '1.3325', 'loss=', '144.526061794')\n",
      "INFO:tensorflow:/orions4-zfs/projects/lins2/Panos_Space/DATA/OUT/models/incomplete_pclouds/paper_vanilla_vscan/8_cabinet_2048_4096pts_emd/models.ckpt-705 is not in all_model_checkpoint_paths. Manually adding it.\n"
     ]
    },
    {
     "name": "stderr",
     "output_type": "stream",
     "text": [
      "INFO:tensorflow:/orions4-zfs/projects/lins2/Panos_Space/DATA/OUT/models/incomplete_pclouds/paper_vanilla_vscan/8_cabinet_2048_4096pts_emd/models.ckpt-705 is not in all_model_checkpoint_paths. Manually adding it.\n"
     ]
    },
    {
     "name": "stdout",
     "output_type": "stream",
     "text": [
      "('Epoch:', '0706', 'training time (minutes)=', '1.3227', 'loss=', '144.438178907')\n",
      "('Epoch:', '0707', 'training time (minutes)=', '1.3325', 'loss=', '144.786116246')\n",
      "('Epoch:', '0708', 'training time (minutes)=', '1.3336', 'loss=', '144.371430097')\n",
      "('Epoch:', '0709', 'training time (minutes)=', '1.3312', 'loss=', '144.435989271')\n",
      "('Epoch:', '0710', 'training time (minutes)=', '1.3236', 'loss=', '144.076230512')\n",
      "INFO:tensorflow:/orions4-zfs/projects/lins2/Panos_Space/DATA/OUT/models/incomplete_pclouds/paper_vanilla_vscan/8_cabinet_2048_4096pts_emd/models.ckpt-710 is not in all_model_checkpoint_paths. Manually adding it.\n"
     ]
    },
    {
     "name": "stderr",
     "output_type": "stream",
     "text": [
      "INFO:tensorflow:/orions4-zfs/projects/lins2/Panos_Space/DATA/OUT/models/incomplete_pclouds/paper_vanilla_vscan/8_cabinet_2048_4096pts_emd/models.ckpt-710 is not in all_model_checkpoint_paths. Manually adding it.\n"
     ]
    },
    {
     "name": "stdout",
     "output_type": "stream",
     "text": [
      "('Epoch:', '0711', 'training time (minutes)=', '1.3261', 'loss=', '144.666453007')\n",
      "('Epoch:', '0712', 'training time (minutes)=', '1.3237', 'loss=', '144.292579324')\n",
      "('Epoch:', '0713', 'training time (minutes)=', '1.3269', 'loss=', '144.260589273')\n",
      "('Epoch:', '0714', 'training time (minutes)=', '1.3236', 'loss=', '144.477612414')\n",
      "('Epoch:', '0715', 'training time (minutes)=', '1.3289', 'loss=', '144.331430926')\n",
      "INFO:tensorflow:/orions4-zfs/projects/lins2/Panos_Space/DATA/OUT/models/incomplete_pclouds/paper_vanilla_vscan/8_cabinet_2048_4096pts_emd/models.ckpt-715 is not in all_model_checkpoint_paths. Manually adding it.\n"
     ]
    },
    {
     "name": "stderr",
     "output_type": "stream",
     "text": [
      "INFO:tensorflow:/orions4-zfs/projects/lins2/Panos_Space/DATA/OUT/models/incomplete_pclouds/paper_vanilla_vscan/8_cabinet_2048_4096pts_emd/models.ckpt-715 is not in all_model_checkpoint_paths. Manually adding it.\n"
     ]
    },
    {
     "name": "stdout",
     "output_type": "stream",
     "text": [
      "('Epoch:', '0716', 'training time (minutes)=', '1.3255', 'loss=', '144.109553528')\n",
      "('Epoch:', '0717', 'training time (minutes)=', '1.3361', 'loss=', '144.428054701')\n",
      "('Epoch:', '0718', 'training time (minutes)=', '1.3386', 'loss=', '144.196088736')\n",
      "('Epoch:', '0719', 'training time (minutes)=', '1.3317', 'loss=', '144.445728956')\n",
      "('Epoch:', '0720', 'training time (minutes)=', '1.3429', 'loss=', '144.376196180')\n",
      "INFO:tensorflow:/orions4-zfs/projects/lins2/Panos_Space/DATA/OUT/models/incomplete_pclouds/paper_vanilla_vscan/8_cabinet_2048_4096pts_emd/models.ckpt-720 is not in all_model_checkpoint_paths. Manually adding it.\n"
     ]
    },
    {
     "name": "stderr",
     "output_type": "stream",
     "text": [
      "INFO:tensorflow:/orions4-zfs/projects/lins2/Panos_Space/DATA/OUT/models/incomplete_pclouds/paper_vanilla_vscan/8_cabinet_2048_4096pts_emd/models.ckpt-720 is not in all_model_checkpoint_paths. Manually adding it.\n"
     ]
    },
    {
     "name": "stdout",
     "output_type": "stream",
     "text": [
      "('Epoch:', '0721', 'training time (minutes)=', '1.3272', 'loss=', '144.730486734')\n",
      "('Epoch:', '0722', 'training time (minutes)=', '1.3292', 'loss=', '144.770867266')\n",
      "('Epoch:', '0723', 'training time (minutes)=', '1.3332', 'loss=', '144.232172067')\n",
      "('Epoch:', '0724', 'training time (minutes)=', '1.3314', 'loss=', '144.818567984')\n",
      "('Epoch:', '0725', 'training time (minutes)=', '1.3280', 'loss=', '144.134215110')\n",
      "INFO:tensorflow:/orions4-zfs/projects/lins2/Panos_Space/DATA/OUT/models/incomplete_pclouds/paper_vanilla_vscan/8_cabinet_2048_4096pts_emd/models.ckpt-725 is not in all_model_checkpoint_paths. Manually adding it.\n"
     ]
    },
    {
     "name": "stderr",
     "output_type": "stream",
     "text": [
      "INFO:tensorflow:/orions4-zfs/projects/lins2/Panos_Space/DATA/OUT/models/incomplete_pclouds/paper_vanilla_vscan/8_cabinet_2048_4096pts_emd/models.ckpt-725 is not in all_model_checkpoint_paths. Manually adding it.\n"
     ]
    },
    {
     "name": "stdout",
     "output_type": "stream",
     "text": [
      "('Epoch:', '0726', 'training time (minutes)=', '1.3735', 'loss=', '143.927626474')\n",
      "('Epoch:', '0727', 'training time (minutes)=', '1.3400', 'loss=', '143.639113072')\n"
     ]
    },
    {
     "ename": "KeyboardInterrupt",
     "evalue": "",
     "output_type": "error",
     "traceback": [
      "\u001b[1;31m---------------------------------------------------------------------------\u001b[0m",
      "\u001b[1;31mKeyboardInterrupt\u001b[0m                         Traceback (most recent call last)",
      "\u001b[1;32m<ipython-input-15-55be8089fccc>\u001b[0m in \u001b[0;36m<module>\u001b[1;34m()\u001b[0m\n\u001b[0;32m      4\u001b[0m \u001b[1;33m\u001b[0m\u001b[0m\n\u001b[0;32m      5\u001b[0m \u001b[1;32mif\u001b[0m \u001b[0mdo_training\u001b[0m\u001b[1;33m:\u001b[0m\u001b[1;33m\u001b[0m\u001b[0m\n\u001b[1;32m----> 6\u001b[1;33m     \u001b[0mae\u001b[0m\u001b[1;33m.\u001b[0m\u001b[0mtrain\u001b[0m\u001b[1;33m(\u001b[0m\u001b[0mtrain_data\u001b[0m\u001b[1;33m,\u001b[0m \u001b[0mconf\u001b[0m\u001b[1;33m)\u001b[0m\u001b[1;33m\u001b[0m\u001b[0m\n\u001b[0m\u001b[0;32m      7\u001b[0m \u001b[1;33m\u001b[0m\u001b[0m\n\u001b[0;32m      8\u001b[0m \u001b[1;32mif\u001b[0m \u001b[0mload_model\u001b[0m\u001b[1;33m:\u001b[0m\u001b[1;33m\u001b[0m\u001b[0m\n",
      "\u001b[1;32m/orions4-zfs/projects/lins2/Panos_Space/Git_Repos/tf_lab/point_clouds/autoencoder.pyc\u001b[0m in \u001b[0;36mtrain\u001b[1;34m(self, train_data, configuration)\u001b[0m\n\u001b[0;32m    164\u001b[0m             \u001b[0mcreate_dir\u001b[0m\u001b[1;33m(\u001b[0m\u001b[0mc\u001b[0m\u001b[1;33m.\u001b[0m\u001b[0mtrain_dir\u001b[0m\u001b[1;33m)\u001b[0m\u001b[1;33m\u001b[0m\u001b[0m\n\u001b[0;32m    165\u001b[0m \u001b[1;33m\u001b[0m\u001b[0m\n\u001b[1;32m--> 166\u001b[1;33m         \u001b[1;32mfor\u001b[0m \u001b[0m_\u001b[0m \u001b[1;32min\u001b[0m \u001b[0mxrange\u001b[0m\u001b[1;33m(\u001b[0m\u001b[0mc\u001b[0m\u001b[1;33m.\u001b[0m\u001b[0mtraining_epochs\u001b[0m\u001b[1;33m)\u001b[0m\u001b[1;33m:\u001b[0m\u001b[1;33m\u001b[0m\u001b[0m\n\u001b[0m\u001b[0;32m    167\u001b[0m             \u001b[0mloss\u001b[0m\u001b[1;33m,\u001b[0m \u001b[0mduration\u001b[0m \u001b[1;33m=\u001b[0m \u001b[0mself\u001b[0m\u001b[1;33m.\u001b[0m\u001b[0m_single_epoch_train\u001b[0m\u001b[1;33m(\u001b[0m\u001b[0mtrain_data\u001b[0m\u001b[1;33m,\u001b[0m \u001b[0mc\u001b[0m\u001b[1;33m)\u001b[0m\u001b[1;33m\u001b[0m\u001b[0m\n\u001b[0;32m    168\u001b[0m             \u001b[0mepoch\u001b[0m \u001b[1;33m=\u001b[0m \u001b[0mint\u001b[0m\u001b[1;33m(\u001b[0m\u001b[0mself\u001b[0m\u001b[1;33m.\u001b[0m\u001b[0msess\u001b[0m\u001b[1;33m.\u001b[0m\u001b[0mrun\u001b[0m\u001b[1;33m(\u001b[0m\u001b[0mself\u001b[0m\u001b[1;33m.\u001b[0m\u001b[0mepoch\u001b[0m\u001b[1;33m.\u001b[0m\u001b[0massign_add\u001b[0m\u001b[1;33m(\u001b[0m\u001b[0mtf\u001b[0m\u001b[1;33m.\u001b[0m\u001b[0mconstant\u001b[0m\u001b[1;33m(\u001b[0m\u001b[1;36m1.0\u001b[0m\u001b[1;33m)\u001b[0m\u001b[1;33m)\u001b[0m\u001b[1;33m)\u001b[0m\u001b[1;33m)\u001b[0m\u001b[1;33m\u001b[0m\u001b[0m\n",
      "\u001b[1;32m/orions4-zfs/projects/lins2/Panos_Space/Git_Repos/tf_lab/point_clouds/point_net_ae.pyc\u001b[0m in \u001b[0;36m_single_epoch_train\u001b[1;34m(self, train_data, configuration)\u001b[0m\n\u001b[0;32m     91\u001b[0m             \u001b[0mbatch_i\u001b[0m \u001b[1;33m=\u001b[0m \u001b[0mapply_augmentations\u001b[0m\u001b[1;33m(\u001b[0m\u001b[0mbatch_i\u001b[0m\u001b[1;33m,\u001b[0m \u001b[0mconfiguration\u001b[0m\u001b[1;33m)\u001b[0m   \u001b[1;31m# This is a new copy of the batch.\u001b[0m\u001b[1;33m\u001b[0m\u001b[0m\n\u001b[0;32m     92\u001b[0m \u001b[1;33m\u001b[0m\u001b[0m\n\u001b[1;32m---> 93\u001b[1;33m             \u001b[1;32mif\u001b[0m \u001b[0mself\u001b[0m\u001b[1;33m.\u001b[0m\u001b[0mis_denoising\u001b[0m\u001b[1;33m:\u001b[0m\u001b[1;33m\u001b[0m\u001b[0m\n\u001b[0m\u001b[0;32m     94\u001b[0m                 \u001b[0mloss\u001b[0m\u001b[1;33m,\u001b[0m \u001b[0m_\u001b[0m \u001b[1;33m=\u001b[0m \u001b[0mself\u001b[0m\u001b[1;33m.\u001b[0m\u001b[0mpartial_fit\u001b[0m\u001b[1;33m(\u001b[0m\u001b[0mbatch_i\u001b[0m\u001b[1;33m,\u001b[0m \u001b[0moriginal_data\u001b[0m\u001b[1;33m)\u001b[0m\u001b[1;33m\u001b[0m\u001b[0m\n\u001b[0;32m     95\u001b[0m             \u001b[1;32melse\u001b[0m\u001b[1;33m:\u001b[0m\u001b[1;33m\u001b[0m\u001b[0m\n",
      "\u001b[1;32m/orions4-zfs/projects/lins2/Panos_Space/Git_Repos/tf_lab/point_clouds/autoencoder.pyc\u001b[0m in \u001b[0;36mpartial_fit\u001b[1;34m(self, X, GT)\u001b[0m\n\u001b[0;32m    126\u001b[0m             \u001b[0mThe\u001b[0m \u001b[0mreconstructed\u001b[0m \u001b[1;33m(\u001b[0m\u001b[0moutput\u001b[0m\u001b[1;33m)\u001b[0m \u001b[0mpoint\u001b[0m\u001b[1;33m-\u001b[0m\u001b[0mclouds\u001b[0m\u001b[1;33m.\u001b[0m\u001b[1;33m\u001b[0m\u001b[0m\n\u001b[0;32m    127\u001b[0m         '''\n\u001b[1;32m--> 128\u001b[1;33m         \u001b[1;32mif\u001b[0m \u001b[0mGT\u001b[0m \u001b[1;32mis\u001b[0m \u001b[1;32mnot\u001b[0m \u001b[0mNone\u001b[0m\u001b[1;33m:\u001b[0m\u001b[1;33m\u001b[0m\u001b[0m\n\u001b[0m\u001b[0;32m    129\u001b[0m             \u001b[0m_\u001b[0m\u001b[1;33m,\u001b[0m \u001b[0mloss\u001b[0m\u001b[1;33m,\u001b[0m \u001b[0mrecon\u001b[0m \u001b[1;33m=\u001b[0m \u001b[0mself\u001b[0m\u001b[1;33m.\u001b[0m\u001b[0msess\u001b[0m\u001b[1;33m.\u001b[0m\u001b[0mrun\u001b[0m\u001b[1;33m(\u001b[0m\u001b[1;33m(\u001b[0m\u001b[0mself\u001b[0m\u001b[1;33m.\u001b[0m\u001b[0moptimizer\u001b[0m\u001b[1;33m,\u001b[0m \u001b[0mself\u001b[0m\u001b[1;33m.\u001b[0m\u001b[0mloss\u001b[0m\u001b[1;33m,\u001b[0m \u001b[0mself\u001b[0m\u001b[1;33m.\u001b[0m\u001b[0mx_reconstr\u001b[0m\u001b[1;33m)\u001b[0m\u001b[1;33m,\u001b[0m \u001b[0mfeed_dict\u001b[0m\u001b[1;33m=\u001b[0m\u001b[1;33m{\u001b[0m\u001b[0mself\u001b[0m\u001b[1;33m.\u001b[0m\u001b[0mx\u001b[0m\u001b[1;33m:\u001b[0m \u001b[0mX\u001b[0m\u001b[1;33m,\u001b[0m \u001b[0mself\u001b[0m\u001b[1;33m.\u001b[0m\u001b[0mgt\u001b[0m\u001b[1;33m:\u001b[0m \u001b[0mGT\u001b[0m\u001b[1;33m}\u001b[0m\u001b[1;33m)\u001b[0m\u001b[1;33m\u001b[0m\u001b[0m\n\u001b[0;32m    130\u001b[0m         \u001b[1;32melse\u001b[0m\u001b[1;33m:\u001b[0m\u001b[1;33m\u001b[0m\u001b[0m\n",
      "\u001b[1;32m/usr/local/lib/python2.7/dist-packages/tensorflow/python/client/session.pyc\u001b[0m in \u001b[0;36mrun\u001b[1;34m(self, fetches, feed_dict, options, run_metadata)\u001b[0m\n\u001b[0;32m    764\u001b[0m     \u001b[1;32mtry\u001b[0m\u001b[1;33m:\u001b[0m\u001b[1;33m\u001b[0m\u001b[0m\n\u001b[0;32m    765\u001b[0m       result = self._run(None, fetches, feed_dict, options_ptr,\n\u001b[1;32m--> 766\u001b[1;33m                          run_metadata_ptr)\n\u001b[0m\u001b[0;32m    767\u001b[0m       \u001b[1;32mif\u001b[0m \u001b[0mrun_metadata\u001b[0m\u001b[1;33m:\u001b[0m\u001b[1;33m\u001b[0m\u001b[0m\n\u001b[0;32m    768\u001b[0m         \u001b[0mproto_data\u001b[0m \u001b[1;33m=\u001b[0m \u001b[0mtf_session\u001b[0m\u001b[1;33m.\u001b[0m\u001b[0mTF_GetBuffer\u001b[0m\u001b[1;33m(\u001b[0m\u001b[0mrun_metadata_ptr\u001b[0m\u001b[1;33m)\u001b[0m\u001b[1;33m\u001b[0m\u001b[0m\n",
      "\u001b[1;32m/usr/local/lib/python2.7/dist-packages/tensorflow/python/client/session.pyc\u001b[0m in \u001b[0;36m_run\u001b[1;34m(self, handle, fetches, feed_dict, options, run_metadata)\u001b[0m\n\u001b[0;32m    962\u001b[0m     \u001b[1;32mif\u001b[0m \u001b[0mfinal_fetches\u001b[0m \u001b[1;32mor\u001b[0m \u001b[0mfinal_targets\u001b[0m\u001b[1;33m:\u001b[0m\u001b[1;33m\u001b[0m\u001b[0m\n\u001b[0;32m    963\u001b[0m       results = self._do_run(handle, final_targets, final_fetches,\n\u001b[1;32m--> 964\u001b[1;33m                              feed_dict_string, options, run_metadata)\n\u001b[0m\u001b[0;32m    965\u001b[0m     \u001b[1;32melse\u001b[0m\u001b[1;33m:\u001b[0m\u001b[1;33m\u001b[0m\u001b[0m\n\u001b[0;32m    966\u001b[0m       \u001b[0mresults\u001b[0m \u001b[1;33m=\u001b[0m \u001b[1;33m[\u001b[0m\u001b[1;33m]\u001b[0m\u001b[1;33m\u001b[0m\u001b[0m\n",
      "\u001b[1;32m/usr/local/lib/python2.7/dist-packages/tensorflow/python/client/session.pyc\u001b[0m in \u001b[0;36m_do_run\u001b[1;34m(self, handle, target_list, fetch_list, feed_dict, options, run_metadata)\u001b[0m\n\u001b[0;32m   1012\u001b[0m     \u001b[1;32mif\u001b[0m \u001b[0mhandle\u001b[0m \u001b[1;32mis\u001b[0m \u001b[0mNone\u001b[0m\u001b[1;33m:\u001b[0m\u001b[1;33m\u001b[0m\u001b[0m\n\u001b[0;32m   1013\u001b[0m       return self._do_call(_run_fn, self._session, feed_dict, fetch_list,\n\u001b[1;32m-> 1014\u001b[1;33m                            target_list, options, run_metadata)\n\u001b[0m\u001b[0;32m   1015\u001b[0m     \u001b[1;32melse\u001b[0m\u001b[1;33m:\u001b[0m\u001b[1;33m\u001b[0m\u001b[0m\n\u001b[0;32m   1016\u001b[0m       return self._do_call(_prun_fn, self._session, handle, feed_dict,\n",
      "\u001b[1;32m/usr/local/lib/python2.7/dist-packages/tensorflow/python/client/session.pyc\u001b[0m in \u001b[0;36m_do_call\u001b[1;34m(self, fn, *args)\u001b[0m\n\u001b[0;32m   1019\u001b[0m   \u001b[1;32mdef\u001b[0m \u001b[0m_do_call\u001b[0m\u001b[1;33m(\u001b[0m\u001b[0mself\u001b[0m\u001b[1;33m,\u001b[0m \u001b[0mfn\u001b[0m\u001b[1;33m,\u001b[0m \u001b[1;33m*\u001b[0m\u001b[0margs\u001b[0m\u001b[1;33m)\u001b[0m\u001b[1;33m:\u001b[0m\u001b[1;33m\u001b[0m\u001b[0m\n\u001b[0;32m   1020\u001b[0m     \u001b[1;32mtry\u001b[0m\u001b[1;33m:\u001b[0m\u001b[1;33m\u001b[0m\u001b[0m\n\u001b[1;32m-> 1021\u001b[1;33m       \u001b[1;32mreturn\u001b[0m \u001b[0mfn\u001b[0m\u001b[1;33m(\u001b[0m\u001b[1;33m*\u001b[0m\u001b[0margs\u001b[0m\u001b[1;33m)\u001b[0m\u001b[1;33m\u001b[0m\u001b[0m\n\u001b[0m\u001b[0;32m   1022\u001b[0m     \u001b[1;32mexcept\u001b[0m \u001b[0merrors\u001b[0m\u001b[1;33m.\u001b[0m\u001b[0mOpError\u001b[0m \u001b[1;32mas\u001b[0m \u001b[0me\u001b[0m\u001b[1;33m:\u001b[0m\u001b[1;33m\u001b[0m\u001b[0m\n\u001b[0;32m   1023\u001b[0m       \u001b[0mmessage\u001b[0m \u001b[1;33m=\u001b[0m \u001b[0mcompat\u001b[0m\u001b[1;33m.\u001b[0m\u001b[0mas_text\u001b[0m\u001b[1;33m(\u001b[0m\u001b[0me\u001b[0m\u001b[1;33m.\u001b[0m\u001b[0mmessage\u001b[0m\u001b[1;33m)\u001b[0m\u001b[1;33m\u001b[0m\u001b[0m\n",
      "\u001b[1;32m/usr/local/lib/python2.7/dist-packages/tensorflow/python/client/session.pyc\u001b[0m in \u001b[0;36m_run_fn\u001b[1;34m(session, feed_dict, fetch_list, target_list, options, run_metadata)\u001b[0m\n\u001b[0;32m   1001\u001b[0m         return tf_session.TF_Run(session, options,\n\u001b[0;32m   1002\u001b[0m                                  \u001b[0mfeed_dict\u001b[0m\u001b[1;33m,\u001b[0m \u001b[0mfetch_list\u001b[0m\u001b[1;33m,\u001b[0m \u001b[0mtarget_list\u001b[0m\u001b[1;33m,\u001b[0m\u001b[1;33m\u001b[0m\u001b[0m\n\u001b[1;32m-> 1003\u001b[1;33m                                  status, run_metadata)\n\u001b[0m\u001b[0;32m   1004\u001b[0m \u001b[1;33m\u001b[0m\u001b[0m\n\u001b[0;32m   1005\u001b[0m     \u001b[1;32mdef\u001b[0m \u001b[0m_prun_fn\u001b[0m\u001b[1;33m(\u001b[0m\u001b[0msession\u001b[0m\u001b[1;33m,\u001b[0m \u001b[0mhandle\u001b[0m\u001b[1;33m,\u001b[0m \u001b[0mfeed_dict\u001b[0m\u001b[1;33m,\u001b[0m \u001b[0mfetch_list\u001b[0m\u001b[1;33m)\u001b[0m\u001b[1;33m:\u001b[0m\u001b[1;33m\u001b[0m\u001b[0m\n",
      "\u001b[1;31mKeyboardInterrupt\u001b[0m: "
     ]
    }
   ],
   "source": [
    "reset_tf_graph()\n",
    "set_visible_GPUs([GPU])\n",
    "ae = PointNetAutoEncoder(experiment_name, conf)\n",
    "\n",
    "if do_training:\n",
    "    ae.train(train_data, conf)\n",
    "\n",
    "if load_model:\n",
    "    saved_epochs = read_saved_epochs(conf.train_dir)\n",
    "    ae.restore_model(train_dir, saved_epochs[-1], verbose=True)"
   ]
  }
 ],
 "metadata": {
  "kernelspec": {
   "display_name": "Python 2",
   "language": "python",
   "name": "python2"
  },
  "language_info": {
   "codemirror_mode": {
    "name": "ipython",
    "version": 2
   },
   "file_extension": ".py",
   "mimetype": "text/x-python",
   "name": "python",
   "nbconvert_exporter": "python",
   "pygments_lexer": "ipython2",
   "version": "2.7.6"
  }
 },
 "nbformat": 4,
 "nbformat_minor": 0
}
