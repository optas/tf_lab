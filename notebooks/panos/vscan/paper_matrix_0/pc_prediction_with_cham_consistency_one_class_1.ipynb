{
 "cells": [
  {
   "cell_type": "code",
   "execution_count": 1,
   "metadata": {
    "collapsed": false
   },
   "outputs": [
    {
     "name": "stderr",
     "output_type": "stream",
     "text": [
      "/usr/local/lib/python2.7/dist-packages/matplotlib/font_manager.py:273: UserWarning: Matplotlib is building the font cache using fc-list. This may take a moment.\n",
      "  warnings.warn('Matplotlib is building the font cache using fc-list. This may take a moment.')\n",
      "/orions4-zfs/projects/lins2/Panos_Space/Git_Repos/geo_tool/solids/mesh.py:26: UserWarning: Mayavi library was not found. Some graphics utilities will be disabled.\n",
      "  warnings.warn('Mayavi library was not found. Some graphics utilities will be disabled.')\n"
     ]
    }
   ],
   "source": [
    "import sys\n",
    "import time\n",
    "import numpy as np\n",
    "import os.path as osp\n",
    "import tensorflow as tf\n",
    "import matplotlib.pyplot as plt\n",
    "from scipy.stats import hmean\n",
    "\n",
    "from tf_lab.fundamentals.utils import set_visible_GPUs, reset_tf_graph\n",
    "\n",
    "import tf_lab.point_clouds.in_out as pio\n",
    "from tf_lab.point_clouds.in_out import PointCloudDataSet, write_model_ids_of_datasets\n",
    "from tf_lab.point_clouds.point_net_ae import PointNetAutoEncoder\n",
    "from tf_lab.point_clouds.autoencoder import Configuration as Conf\n",
    "import tf_lab.point_clouds.encoders_decoders as enc_dec\n",
    "\n",
    "\n",
    "import tf_lab.autopredictors.scripts.virt_scan_data as vscan\n",
    "\n",
    "from tf_lab.autopredictors.scripts.helper import shape_net_category_to_synth_id, points_extension\n",
    "\n",
    "\n",
    "from tf_lab.autopredictors.plotting import plot_original_pclouds_vs_reconstructed, \\\n",
    "                                           plot_train_val_test_curves, plot_reconstructions_at_epoch\n",
    "        \n",
    "from tf_lab.autopredictors.evaluate import eval_model, read_saved_epochs, accuracy_of_completion, \\\n",
    "                                           coverage_of_completion, save_reconstructions\n",
    "                                                  \n",
    "\n",
    "from general_tools.in_out.basics import create_dir, delete_files_in_directory, files_in_subdirs\n",
    "from general_tools.simpletons import select_first_last_and_k\n",
    "from geo_tool import Point_Cloud"
   ]
  },
  {
   "cell_type": "code",
   "execution_count": 3,
   "metadata": {
    "collapsed": false
   },
   "outputs": [
    {
     "name": "stdout",
     "output_type": "stream",
     "text": [
      "The autoreload extension is already loaded. To reload it, use:\n",
      "  %reload_ext autoreload\n"
     ]
    }
   ],
   "source": [
    "%load_ext autoreload\n",
    "%autoreload 2\n",
    "%matplotlib inline"
   ]
  },
  {
   "cell_type": "code",
   "execution_count": 4,
   "metadata": {
    "collapsed": false
   },
   "outputs": [
    {
     "name": "stdout",
     "output_type": "stream",
     "text": [
      "Give me the class type.\n",
      "lamp\n"
     ]
    }
   ],
   "source": [
    "incomplete_n_samples = 2048\n",
    "complete_n_samples = 4096\n",
    "\n",
    "class_type = raw_input('Give me the class type.\\n').lower()\n",
    "class_syn_id = shape_net_category_to_synth_id()[class_type]\n",
    "\n",
    "GPU = 0\n",
    "exp_counter = '6'\n",
    "loss = 'emd'\n",
    "do_training = True\n",
    "load_model_conf = False\n",
    "do_evaluation = True\n",
    "\n",
    "experiment_name = exp_counter + '_' + class_type + '_' + str(incomplete_n_samples) + '_' \\\n",
    "                  + str(complete_n_samples) + 'pts_with_consistency_' + loss\n",
    "\n",
    "top_data_dir = '/orions4-zfs/projects/lins2/Panos_Space/DATA/'\n",
    "complete_pclouds_path = osp.join(top_data_dir, 'ShapeNetPointClouds/from_manifold_meshes/not_scaled', \\\n",
    "                             str(complete_n_samples), class_syn_id)\n",
    "    \n",
    "n_input = [incomplete_n_samples, 3]\n",
    "n_output = [complete_n_samples, 3]\n",
    "\n",
    "train_dir = osp.join(top_data_dir, 'OUT/models/incomplete_pclouds/paper_vanilla_vscan')\n",
    "train_dir = osp.join(train_dir, experiment_name)\n",
    "create_dir(train_dir)\n",
    "\n",
    "if loss == 'emd':\n",
    "    max_training_epochs = 100\n",
    "elif loss == 'chamfer':\n",
    "    max_training_epochs = 100\n",
    "    \n",
    "max_evaluation_epochs = max_training_epochs"
   ]
  },
  {
   "cell_type": "code",
   "execution_count": 5,
   "metadata": {
    "collapsed": false
   },
   "outputs": [],
   "source": [
    "seed = 42\n",
    "np.random.seed(seed)\n",
    "tf.set_random_seed(seed)"
   ]
  },
  {
   "cell_type": "code",
   "execution_count": 6,
   "metadata": {
    "collapsed": false
   },
   "outputs": [
    {
     "name": "stdout",
     "output_type": "stream",
     "text": [
      "2318 files containing complete point clouds were found.\n"
     ]
    }
   ],
   "source": [
    "cmpl_file_names = pio.load_filenames_of_input_data(complete_pclouds_path, points_extension)\n",
    "cmpl_pclouds, cmpl_model_names, syn_ids = pio.load_crude_point_clouds(file_names=cmpl_file_names, n_threads=30)\n",
    "assert(len(np.unique(syn_ids)) == 1)\n",
    "print '%d files containing complete point clouds were found.' % (len(cmpl_pclouds), )"
   ]
  },
  {
   "cell_type": "code",
   "execution_count": 7,
   "metadata": {
    "collapsed": false
   },
   "outputs": [
    {
     "name": "stdout",
     "output_type": "stream",
     "text": [
      "11100 incomplete point clouds were loaded.\n",
      "2808 incomplete point clouds were loaded.\n"
     ]
    }
   ],
   "source": [
    "v_scan_top_dir = osp.join(top_data_dir, 'From_Matthias/shapenet_dim32_sdf_pc', class_syn_id)\n",
    "\n",
    "if do_training or do_evaluation:\n",
    "    train_id_file = osp.join(top_data_dir, 'From_Matthias/train_test_models/train_models_with_scan_id.txt')\n",
    "    \n",
    "    train_data = vscan.load_single_class_incomplete_dataset(v_scan_top_dir, train_id_file, class_syn_id,\n",
    "                                                      cmpl_pclouds, cmpl_model_names, n_threads=40,\n",
    "                                                      n_samples=incomplete_n_samples)\n",
    "    \n",
    "    train_data, val_data = vscan.make_validation_from_train_data(train_data, 0.10)\n",
    "    \n",
    "if do_evaluation:\n",
    "    test_id_file = osp.join(top_data_dir, 'From_Matthias/train_test_models/test_models_with_scan_id.txt')\n",
    "    test_data = vscan.load_single_class_incomplete_dataset(v_scan_top_dir, test_id_file, class_syn_id,\n",
    "                                                      cmpl_pclouds, cmpl_model_names, n_threads=40,\n",
    "                                                      n_samples=incomplete_n_samples)"
   ]
  },
  {
   "cell_type": "code",
   "execution_count": 8,
   "metadata": {
    "collapsed": false
   },
   "outputs": [],
   "source": [
    "if load_model_conf:\n",
    "    conf = Conf.load(osp.join(train_dir, 'configuration'))\n",
    "    print conf\n",
    "else:\n",
    "    decoder_args = {'layer_sizes': [1024, np.prod(n_output)],\n",
    "                    'non_linearity': tf.nn.relu\n",
    "                   }\n",
    "\n",
    "    encoder_args = {'dropout_prob': 0.5}\n",
    "    \n",
    "    conf = Conf(\n",
    "                n_input = n_input,\n",
    "                n_output = n_output,\n",
    "                denoising = True,\n",
    "                training_epochs = max_training_epochs,\n",
    "                batch_size = 50,\n",
    "                loss = loss,\n",
    "                train_dir = train_dir,\n",
    "                loss_display_step = 1,\n",
    "                saver_step = 2,\n",
    "                learning_rate = 0.0005,\n",
    "                encoder = enc_dec.encoder_with_convs_and_symmetry,\n",
    "                encoder_args = encoder_args,\n",
    "                decoder = enc_dec.decoder_with_fc_only,\n",
    "                decoder_args = decoder_args\n",
    "               )\n",
    "    \n",
    "    conf.consistent_io = True\n",
    "    conf.experiment_name = experiment_name\n",
    "    conf.save(osp.join(conf.train_dir, 'configuration'))\n",
    "    \n",
    "reset_tf_graph()\n",
    "set_visible_GPUs([GPU])\n",
    "ae = PointNetAutoEncoder(experiment_name, conf)"
   ]
  },
  {
   "cell_type": "code",
   "execution_count": 9,
   "metadata": {
    "collapsed": false
   },
   "outputs": [
    {
     "name": "stdout",
     "output_type": "stream",
     "text": [
      "('Epoch:', '0001', 'training time (minutes)=', '2.1819', 'loss=', '546.684998325')\n",
      "INFO:tensorflow:/orions4-zfs/projects/lins2/Panos_Space/DATA/OUT/models/incomplete_pclouds/paper_vanilla_vscan/6_lamp_2048_4096pts_with_consistency_emd/models.ckpt-1 is not in all_model_checkpoint_paths. Manually adding it.\n",
      "('Epoch:', '0002', 'training time (minutes)=', '1.9934', 'loss=', '439.229177810')\n",
      "INFO:tensorflow:/orions4-zfs/projects/lins2/Panos_Space/DATA/OUT/models/incomplete_pclouds/paper_vanilla_vscan/6_lamp_2048_4096pts_with_consistency_emd/models.ckpt-2 is not in all_model_checkpoint_paths. Manually adding it.\n",
      "('Epoch:', '0003', 'training time (minutes)=', '3.4970', 'loss=', '412.520500451')\n",
      "('Epoch:', '0004', 'training time (minutes)=', '3.6316', 'loss=', '393.717460441')\n",
      "INFO:tensorflow:/orions4-zfs/projects/lins2/Panos_Space/DATA/OUT/models/incomplete_pclouds/paper_vanilla_vscan/6_lamp_2048_4096pts_with_consistency_emd/models.ckpt-4 is not in all_model_checkpoint_paths. Manually adding it.\n",
      "('Epoch:', '0005', 'training time (minutes)=', '3.7091', 'loss=', '380.173756202')\n",
      "('Epoch:', '0006', 'training time (minutes)=', '2.8557', 'loss=', '368.871851322')\n",
      "INFO:tensorflow:/orions4-zfs/projects/lins2/Panos_Space/DATA/OUT/models/incomplete_pclouds/paper_vanilla_vscan/6_lamp_2048_4096pts_with_consistency_emd/models.ckpt-6 is not in all_model_checkpoint_paths. Manually adding it.\n",
      "('Epoch:', '0007', 'training time (minutes)=', '2.0454', 'loss=', '360.258881535')\n",
      "('Epoch:', '0008', 'training time (minutes)=', '3.8729', 'loss=', '351.166768596')\n",
      "INFO:tensorflow:/orions4-zfs/projects/lins2/Panos_Space/DATA/OUT/models/incomplete_pclouds/paper_vanilla_vscan/6_lamp_2048_4096pts_with_consistency_emd/models.ckpt-8 is not in all_model_checkpoint_paths. Manually adding it.\n",
      "('Epoch:', '0009', 'training time (minutes)=', '3.8627', 'loss=', '344.893473103')\n",
      "('Epoch:', '0010', 'training time (minutes)=', '3.5762', 'loss=', '335.895013090')\n",
      "INFO:tensorflow:/orions4-zfs/projects/lins2/Panos_Space/DATA/OUT/models/incomplete_pclouds/paper_vanilla_vscan/6_lamp_2048_4096pts_with_consistency_emd/models.ckpt-10 is not in all_model_checkpoint_paths. Manually adding it.\n",
      "('Epoch:', '0011', 'training time (minutes)=', '2.5209', 'loss=', '329.935227897')\n",
      "('Epoch:', '0012', 'training time (minutes)=', '2.1340', 'loss=', '324.777377641')\n",
      "INFO:tensorflow:/orions4-zfs/projects/lins2/Panos_Space/DATA/OUT/models/incomplete_pclouds/paper_vanilla_vscan/6_lamp_2048_4096pts_with_consistency_emd/models.ckpt-12 is not in all_model_checkpoint_paths. Manually adding it.\n",
      "('Epoch:', '0013', 'training time (minutes)=', '3.3172', 'loss=', '319.734664227')\n",
      "('Epoch:', '0014', 'training time (minutes)=', '3.6468', 'loss=', '314.273055187')\n",
      "INFO:tensorflow:/orions4-zfs/projects/lins2/Panos_Space/DATA/OUT/models/incomplete_pclouds/paper_vanilla_vscan/6_lamp_2048_4096pts_with_consistency_emd/models.ckpt-14 is not in all_model_checkpoint_paths. Manually adding it.\n",
      "('Epoch:', '0015', 'training time (minutes)=', '3.5855', 'loss=', '306.992876216')\n",
      "('Epoch:', '0016', 'training time (minutes)=', '3.2088', 'loss=', '305.161723075')\n",
      "INFO:tensorflow:/orions4-zfs/projects/lins2/Panos_Space/DATA/OUT/models/incomplete_pclouds/paper_vanilla_vscan/6_lamp_2048_4096pts_with_consistency_emd/models.ckpt-16 is not in all_model_checkpoint_paths. Manually adding it.\n",
      "('Epoch:', '0017', 'training time (minutes)=', '2.3046', 'loss=', '300.560686121')\n",
      "('Epoch:', '0018', 'training time (minutes)=', '3.6850', 'loss=', '295.677302068')\n",
      "INFO:tensorflow:/orions4-zfs/projects/lins2/Panos_Space/DATA/OUT/models/incomplete_pclouds/paper_vanilla_vscan/6_lamp_2048_4096pts_with_consistency_emd/models.ckpt-18 is not in all_model_checkpoint_paths. Manually adding it.\n",
      "('Epoch:', '0019', 'training time (minutes)=', '3.7202', 'loss=', '291.942046506')\n",
      "('Epoch:', '0020', 'training time (minutes)=', '3.6425', 'loss=', '288.262638341')\n",
      "INFO:tensorflow:/orions4-zfs/projects/lins2/Panos_Space/DATA/OUT/models/incomplete_pclouds/paper_vanilla_vscan/6_lamp_2048_4096pts_with_consistency_emd/models.ckpt-20 is not in all_model_checkpoint_paths. Manually adding it.\n",
      "('Epoch:', '0021', 'training time (minutes)=', '2.2341', 'loss=', '284.074722750')\n",
      "('Epoch:', '0022', 'training time (minutes)=', '2.5160', 'loss=', '280.216788364')\n",
      "INFO:tensorflow:/orions4-zfs/projects/lins2/Panos_Space/DATA/OUT/models/incomplete_pclouds/paper_vanilla_vscan/6_lamp_2048_4096pts_with_consistency_emd/models.ckpt-22 is not in all_model_checkpoint_paths. Manually adding it.\n",
      "('Epoch:', '0023', 'training time (minutes)=', '3.6962', 'loss=', '276.140776974')\n",
      "('Epoch:', '0024', 'training time (minutes)=', '3.6796', 'loss=', '272.753784486')\n",
      "INFO:tensorflow:/orions4-zfs/projects/lins2/Panos_Space/DATA/OUT/models/incomplete_pclouds/paper_vanilla_vscan/6_lamp_2048_4096pts_with_consistency_emd/models.ckpt-24 is not in all_model_checkpoint_paths. Manually adding it.\n",
      "('Epoch:', '0025', 'training time (minutes)=', '3.6424', 'loss=', '268.204103326')\n",
      "('Epoch:', '0026', 'training time (minutes)=', '2.0385', 'loss=', '266.123556012')\n",
      "INFO:tensorflow:/orions4-zfs/projects/lins2/Panos_Space/DATA/OUT/models/incomplete_pclouds/paper_vanilla_vscan/6_lamp_2048_4096pts_with_consistency_emd/models.ckpt-26 is not in all_model_checkpoint_paths. Manually adding it.\n",
      "('Epoch:', '0027', 'training time (minutes)=', '2.0923', 'loss=', '263.263389472')\n",
      "('Epoch:', '0028', 'training time (minutes)=', '3.3548', 'loss=', '260.653097948')\n",
      "INFO:tensorflow:/orions4-zfs/projects/lins2/Panos_Space/DATA/OUT/models/incomplete_pclouds/paper_vanilla_vscan/6_lamp_2048_4096pts_with_consistency_emd/models.ckpt-28 is not in all_model_checkpoint_paths. Manually adding it.\n",
      "('Epoch:', '0029', 'training time (minutes)=', '3.6331', 'loss=', '258.535777413')\n",
      "('Epoch:', '0030', 'training time (minutes)=', '3.6344', 'loss=', '255.464258165')\n",
      "INFO:tensorflow:/orions4-zfs/projects/lins2/Panos_Space/DATA/OUT/models/incomplete_pclouds/paper_vanilla_vscan/6_lamp_2048_4096pts_with_consistency_emd/models.ckpt-30 is not in all_model_checkpoint_paths. Manually adding it.\n",
      "('Epoch:', '0031', 'training time (minutes)=', '3.1104', 'loss=', '252.780669936')\n",
      "('Epoch:', '0032', 'training time (minutes)=', '2.1190', 'loss=', '249.059272728')\n",
      "INFO:tensorflow:/orions4-zfs/projects/lins2/Panos_Space/DATA/OUT/models/incomplete_pclouds/paper_vanilla_vscan/6_lamp_2048_4096pts_with_consistency_emd/models.ckpt-32 is not in all_model_checkpoint_paths. Manually adding it.\n",
      "('Epoch:', '0033', 'training time (minutes)=', '3.5737', 'loss=', '248.882377970')\n",
      "('Epoch:', '0034', 'training time (minutes)=', '3.6542', 'loss=', '245.718971751')\n",
      "INFO:tensorflow:/orions4-zfs/projects/lins2/Panos_Space/DATA/OUT/models/incomplete_pclouds/paper_vanilla_vscan/6_lamp_2048_4096pts_with_consistency_emd/models.ckpt-34 is not in all_model_checkpoint_paths. Manually adding it.\n",
      "('Epoch:', '0035', 'training time (minutes)=', '3.7303', 'loss=', '243.516627096')\n",
      "('Epoch:', '0036', 'training time (minutes)=', '2.7872', 'loss=', '238.069689037')\n",
      "INFO:tensorflow:/orions4-zfs/projects/lins2/Panos_Space/DATA/OUT/models/incomplete_pclouds/paper_vanilla_vscan/6_lamp_2048_4096pts_with_consistency_emd/models.ckpt-36 is not in all_model_checkpoint_paths. Manually adding it.\n",
      "('Epoch:', '0037', 'training time (minutes)=', '2.0896', 'loss=', '238.584994215')\n",
      "('Epoch:', '0038', 'training time (minutes)=', '3.7340', 'loss=', '237.085625193')\n",
      "INFO:tensorflow:/orions4-zfs/projects/lins2/Panos_Space/DATA/OUT/models/incomplete_pclouds/paper_vanilla_vscan/6_lamp_2048_4096pts_with_consistency_emd/models.ckpt-38 is not in all_model_checkpoint_paths. Manually adding it.\n",
      "('Epoch:', '0039', 'training time (minutes)=', '3.6819', 'loss=', '233.403217181')\n",
      "('Epoch:', '0040', 'training time (minutes)=', '3.5566', 'loss=', '229.913671216')\n",
      "INFO:tensorflow:/orions4-zfs/projects/lins2/Panos_Space/DATA/OUT/models/incomplete_pclouds/paper_vanilla_vscan/6_lamp_2048_4096pts_with_consistency_emd/models.ckpt-40 is not in all_model_checkpoint_paths. Manually adding it.\n",
      "('Epoch:', '0041', 'training time (minutes)=', '2.6732', 'loss=', '229.524560286')\n",
      "('Epoch:', '0042', 'training time (minutes)=', '2.3564', 'loss=', '227.228929759')\n",
      "INFO:tensorflow:/orions4-zfs/projects/lins2/Panos_Space/DATA/OUT/models/incomplete_pclouds/paper_vanilla_vscan/6_lamp_2048_4096pts_with_consistency_emd/models.ckpt-42 is not in all_model_checkpoint_paths. Manually adding it.\n",
      "('Epoch:', '0043', 'training time (minutes)=', '2.0350', 'loss=', '226.412481950')\n",
      "('Epoch:', '0044', 'training time (minutes)=', '3.5592', 'loss=', '224.814341713')\n",
      "INFO:tensorflow:/orions4-zfs/projects/lins2/Panos_Space/DATA/OUT/models/incomplete_pclouds/paper_vanilla_vscan/6_lamp_2048_4096pts_with_consistency_emd/models.ckpt-44 is not in all_model_checkpoint_paths. Manually adding it.\n",
      "('Epoch:', '0045', 'training time (minutes)=', '3.6284', 'loss=', '224.120840485')\n",
      "('Epoch:', '0046', 'training time (minutes)=', '3.6131', 'loss=', '222.339410446')\n",
      "INFO:tensorflow:/orions4-zfs/projects/lins2/Panos_Space/DATA/OUT/models/incomplete_pclouds/paper_vanilla_vscan/6_lamp_2048_4096pts_with_consistency_emd/models.ckpt-46 is not in all_model_checkpoint_paths. Manually adding it.\n",
      "('Epoch:', '0047', 'training time (minutes)=', '2.9380', 'loss=', '221.599573720')\n",
      "('Epoch:', '0048', 'training time (minutes)=', '2.0602', 'loss=', '219.441667950')\n",
      "INFO:tensorflow:/orions4-zfs/projects/lins2/Panos_Space/DATA/OUT/models/incomplete_pclouds/paper_vanilla_vscan/6_lamp_2048_4096pts_with_consistency_emd/models.ckpt-48 is not in all_model_checkpoint_paths. Manually adding it.\n",
      "('Epoch:', '0049', 'training time (minutes)=', '2.1083', 'loss=', '217.206904426')\n",
      "('Epoch:', '0050', 'training time (minutes)=', '3.2807', 'loss=', '216.416801644')\n",
      "INFO:tensorflow:/orions4-zfs/projects/lins2/Panos_Space/DATA/OUT/models/incomplete_pclouds/paper_vanilla_vscan/6_lamp_2048_4096pts_with_consistency_emd/models.ckpt-50 is not in all_model_checkpoint_paths. Manually adding it.\n",
      "('Epoch:', '0051', 'training time (minutes)=', '3.6626', 'loss=', '213.544308993')\n",
      "('Epoch:', '0052', 'training time (minutes)=', '3.6836', 'loss=', '211.943617241')\n",
      "INFO:tensorflow:/orions4-zfs/projects/lins2/Panos_Space/DATA/OUT/models/incomplete_pclouds/paper_vanilla_vscan/6_lamp_2048_4096pts_with_consistency_emd/models.ckpt-52 is not in all_model_checkpoint_paths. Manually adding it.\n",
      "('Epoch:', '0053', 'training time (minutes)=', '3.3537', 'loss=', '210.084655685')\n",
      "('Epoch:', '0054', 'training time (minutes)=', '2.4114', 'loss=', '209.880004499')\n",
      "INFO:tensorflow:/orions4-zfs/projects/lins2/Panos_Space/DATA/OUT/models/incomplete_pclouds/paper_vanilla_vscan/6_lamp_2048_4096pts_with_consistency_emd/models.ckpt-54 is not in all_model_checkpoint_paths. Manually adding it.\n",
      "('Epoch:', '0055', 'training time (minutes)=', '2.8987', 'loss=', '206.594970243')\n",
      "('Epoch:', '0056', 'training time (minutes)=', '3.6814', 'loss=', '207.192909892')\n",
      "INFO:tensorflow:/orions4-zfs/projects/lins2/Panos_Space/DATA/OUT/models/incomplete_pclouds/paper_vanilla_vscan/6_lamp_2048_4096pts_with_consistency_emd/models.ckpt-56 is not in all_model_checkpoint_paths. Manually adding it.\n",
      "('Epoch:', '0057', 'training time (minutes)=', '3.6447', 'loss=', '205.300578362')\n",
      "('Epoch:', '0058', 'training time (minutes)=', '3.5176', 'loss=', '207.753306250')\n",
      "INFO:tensorflow:/orions4-zfs/projects/lins2/Panos_Space/DATA/OUT/models/incomplete_pclouds/paper_vanilla_vscan/6_lamp_2048_4096pts_with_consistency_emd/models.ckpt-58 is not in all_model_checkpoint_paths. Manually adding it.\n",
      "('Epoch:', '0059', 'training time (minutes)=', '2.1274', 'loss=', '202.459066343')\n",
      "('Epoch:', '0060', 'training time (minutes)=', '3.6739', 'loss=', '200.562128958')\n",
      "INFO:tensorflow:/orions4-zfs/projects/lins2/Panos_Space/DATA/OUT/models/incomplete_pclouds/paper_vanilla_vscan/6_lamp_2048_4096pts_with_consistency_emd/models.ckpt-60 is not in all_model_checkpoint_paths. Manually adding it.\n",
      "('Epoch:', '0061', 'training time (minutes)=', '3.5938', 'loss=', '199.357965671')\n",
      "('Epoch:', '0062', 'training time (minutes)=', '3.7046', 'loss=', '200.060522262')\n",
      "INFO:tensorflow:/orions4-zfs/projects/lins2/Panos_Space/DATA/OUT/models/incomplete_pclouds/paper_vanilla_vscan/6_lamp_2048_4096pts_with_consistency_emd/models.ckpt-62 is not in all_model_checkpoint_paths. Manually adding it.\n",
      "('Epoch:', '0063', 'training time (minutes)=', '2.6181', 'loss=', '197.203444898')\n",
      "('Epoch:', '0064', 'training time (minutes)=', '2.0414', 'loss=', '197.582948004')\n",
      "INFO:tensorflow:/orions4-zfs/projects/lins2/Panos_Space/DATA/OUT/models/incomplete_pclouds/paper_vanilla_vscan/6_lamp_2048_4096pts_with_consistency_emd/models.ckpt-64 is not in all_model_checkpoint_paths. Manually adding it.\n",
      "('Epoch:', '0065', 'training time (minutes)=', '3.3789', 'loss=', '196.976056276')\n",
      "('Epoch:', '0066', 'training time (minutes)=', '3.6335', 'loss=', '195.864328279')\n",
      "INFO:tensorflow:/orions4-zfs/projects/lins2/Panos_Space/DATA/OUT/models/incomplete_pclouds/paper_vanilla_vscan/6_lamp_2048_4096pts_with_consistency_emd/models.ckpt-66 is not in all_model_checkpoint_paths. Manually adding it.\n",
      "('Epoch:', '0067', 'training time (minutes)=', '3.5489', 'loss=', '195.004206058')\n",
      "('Epoch:', '0068', 'training time (minutes)=', '3.1794', 'loss=', '193.245109060')\n",
      "INFO:tensorflow:/orions4-zfs/projects/lins2/Panos_Space/DATA/OUT/models/incomplete_pclouds/paper_vanilla_vscan/6_lamp_2048_4096pts_with_consistency_emd/models.ckpt-68 is not in all_model_checkpoint_paths. Manually adding it.\n",
      "('Epoch:', '0069', 'training time (minutes)=', '2.1335', 'loss=', '191.479062948')\n",
      "('Epoch:', '0070', 'training time (minutes)=', '3.7623', 'loss=', '190.468827521')\n",
      "INFO:tensorflow:/orions4-zfs/projects/lins2/Panos_Space/DATA/OUT/models/incomplete_pclouds/paper_vanilla_vscan/6_lamp_2048_4096pts_with_consistency_emd/models.ckpt-70 is not in all_model_checkpoint_paths. Manually adding it.\n",
      "('Epoch:', '0071', 'training time (minutes)=', '3.7641', 'loss=', '190.569090263')\n",
      "('Epoch:', '0072', 'training time (minutes)=', '3.6538', 'loss=', '191.161479087')\n",
      "INFO:tensorflow:/orions4-zfs/projects/lins2/Panos_Space/DATA/OUT/models/incomplete_pclouds/paper_vanilla_vscan/6_lamp_2048_4096pts_with_consistency_emd/models.ckpt-72 is not in all_model_checkpoint_paths. Manually adding it.\n",
      "('Epoch:', '0073', 'training time (minutes)=', '2.5125', 'loss=', '188.729057734')\n",
      "('Epoch:', '0074', 'training time (minutes)=', '3.2013', 'loss=', '188.611341544')\n",
      "INFO:tensorflow:/orions4-zfs/projects/lins2/Panos_Space/DATA/OUT/models/incomplete_pclouds/paper_vanilla_vscan/6_lamp_2048_4096pts_with_consistency_emd/models.ckpt-74 is not in all_model_checkpoint_paths. Manually adding it.\n",
      "('Epoch:', '0075', 'training time (minutes)=', '3.6815', 'loss=', '186.831031838')\n",
      "('Epoch:', '0076', 'training time (minutes)=', '3.6126', 'loss=', '186.619093929')\n",
      "INFO:tensorflow:/orions4-zfs/projects/lins2/Panos_Space/DATA/OUT/models/incomplete_pclouds/paper_vanilla_vscan/6_lamp_2048_4096pts_with_consistency_emd/models.ckpt-76 is not in all_model_checkpoint_paths. Manually adding it.\n",
      "('Epoch:', '0077', 'training time (minutes)=', '3.1441', 'loss=', '186.116558439')\n",
      "('Epoch:', '0078', 'training time (minutes)=', '2.1334', 'loss=', '185.163756404')\n",
      "INFO:tensorflow:/orions4-zfs/projects/lins2/Panos_Space/DATA/OUT/models/incomplete_pclouds/paper_vanilla_vscan/6_lamp_2048_4096pts_with_consistency_emd/models.ckpt-78 is not in all_model_checkpoint_paths. Manually adding it.\n",
      "('Epoch:', '0079', 'training time (minutes)=', '3.6312', 'loss=', '185.570178468')\n",
      "('Epoch:', '0080', 'training time (minutes)=', '3.7496', 'loss=', '183.335718126')\n",
      "INFO:tensorflow:/orions4-zfs/projects/lins2/Panos_Space/DATA/OUT/models/incomplete_pclouds/paper_vanilla_vscan/6_lamp_2048_4096pts_with_consistency_emd/models.ckpt-80 is not in all_model_checkpoint_paths. Manually adding it.\n",
      "('Epoch:', '0081', 'training time (minutes)=', '3.6121', 'loss=', '181.960552963')\n",
      "('Epoch:', '0082', 'training time (minutes)=', '2.4356', 'loss=', '183.444728219')\n",
      "INFO:tensorflow:/orions4-zfs/projects/lins2/Panos_Space/DATA/OUT/models/incomplete_pclouds/paper_vanilla_vscan/6_lamp_2048_4096pts_with_consistency_emd/models.ckpt-82 is not in all_model_checkpoint_paths. Manually adding it.\n",
      "('Epoch:', '0083', 'training time (minutes)=', '2.7371', 'loss=', '180.874823719')\n",
      "('Epoch:', '0084', 'training time (minutes)=', '3.6161', 'loss=', '180.830292668')\n",
      "INFO:tensorflow:/orions4-zfs/projects/lins2/Panos_Space/DATA/OUT/models/incomplete_pclouds/paper_vanilla_vscan/6_lamp_2048_4096pts_with_consistency_emd/models.ckpt-84 is not in all_model_checkpoint_paths. Manually adding it.\n",
      "('Epoch:', '0085', 'training time (minutes)=', '3.6138', 'loss=', '179.490928228')\n",
      "('Epoch:', '0086', 'training time (minutes)=', '3.5749', 'loss=', '180.799458183')\n",
      "INFO:tensorflow:/orions4-zfs/projects/lins2/Panos_Space/DATA/OUT/models/incomplete_pclouds/paper_vanilla_vscan/6_lamp_2048_4096pts_with_consistency_emd/models.ckpt-86 is not in all_model_checkpoint_paths. Manually adding it.\n",
      "('Epoch:', '0087', 'training time (minutes)=', '2.0033', 'loss=', '178.494105200')\n",
      "('Epoch:', '0088', 'training time (minutes)=', '2.3411', 'loss=', '177.062689240')\n",
      "INFO:tensorflow:/orions4-zfs/projects/lins2/Panos_Space/DATA/OUT/models/incomplete_pclouds/paper_vanilla_vscan/6_lamp_2048_4096pts_with_consistency_emd/models.ckpt-88 is not in all_model_checkpoint_paths. Manually adding it.\n",
      "('Epoch:', '0089', 'training time (minutes)=', '4.0817', 'loss=', '174.974709976')\n",
      "('Epoch:', '0090', 'training time (minutes)=', '3.5959', 'loss=', '176.222342640')\n",
      "INFO:tensorflow:/orions4-zfs/projects/lins2/Panos_Space/DATA/OUT/models/incomplete_pclouds/paper_vanilla_vscan/6_lamp_2048_4096pts_with_consistency_emd/models.ckpt-90 is not in all_model_checkpoint_paths. Manually adding it.\n",
      "('Epoch:', '0091', 'training time (minutes)=', '3.6145', 'loss=', '177.283896518')\n",
      "('Epoch:', '0092', 'training time (minutes)=', '1.9340', 'loss=', '175.125302569')\n",
      "INFO:tensorflow:/orions4-zfs/projects/lins2/Panos_Space/DATA/OUT/models/incomplete_pclouds/paper_vanilla_vscan/6_lamp_2048_4096pts_with_consistency_emd/models.ckpt-92 is not in all_model_checkpoint_paths. Manually adding it.\n",
      "('Epoch:', '0093', 'training time (minutes)=', '2.6347', 'loss=', '174.254397062')\n",
      "('Epoch:', '0094', 'training time (minutes)=', '3.9035', 'loss=', '174.826742278')\n",
      "INFO:tensorflow:/orions4-zfs/projects/lins2/Panos_Space/DATA/OUT/models/incomplete_pclouds/paper_vanilla_vscan/6_lamp_2048_4096pts_with_consistency_emd/models.ckpt-94 is not in all_model_checkpoint_paths. Manually adding it.\n",
      "('Epoch:', '0095', 'training time (minutes)=', '3.8622', 'loss=', '172.880788755')\n",
      "('Epoch:', '0096', 'training time (minutes)=', '3.3603', 'loss=', '171.955412668')\n",
      "INFO:tensorflow:/orions4-zfs/projects/lins2/Panos_Space/DATA/OUT/models/incomplete_pclouds/paper_vanilla_vscan/6_lamp_2048_4096pts_with_consistency_emd/models.ckpt-96 is not in all_model_checkpoint_paths. Manually adding it.\n",
      "('Epoch:', '0097', 'training time (minutes)=', '2.1651', 'loss=', '174.426339844')\n",
      "('Epoch:', '0098', 'training time (minutes)=', '2.3137', 'loss=', '172.006470493')\n",
      "INFO:tensorflow:/orions4-zfs/projects/lins2/Panos_Space/DATA/OUT/models/incomplete_pclouds/paper_vanilla_vscan/6_lamp_2048_4096pts_with_consistency_emd/models.ckpt-98 is not in all_model_checkpoint_paths. Manually adding it.\n",
      "('Epoch:', '0099', 'training time (minutes)=', '3.6489', 'loss=', '170.920054373')\n",
      "('Epoch:', '0100', 'training time (minutes)=', '3.6347', 'loss=', '169.969240198')\n",
      "INFO:tensorflow:/orions4-zfs/projects/lins2/Panos_Space/DATA/OUT/models/incomplete_pclouds/paper_vanilla_vscan/6_lamp_2048_4096pts_with_consistency_emd/models.ckpt-100 is not in all_model_checkpoint_paths. Manually adding it.\n"
     ]
    }
   ],
   "source": [
    "training_stats = []\n",
    "if do_training:\n",
    "    training_stats.append(ae.train(train_data, conf))"
   ]
  },
  {
   "cell_type": "code",
   "execution_count": 12,
   "metadata": {
    "collapsed": false
   },
   "outputs": [],
   "source": [
    "if do_training:\n",
    "    training_stats = []\n",
    "    training_stats.append(ae.train(train_data, conf))    \n",
    "    with open(osp.join(conf.train_dir, 'train_stats.txt'), 'a') as fout:\n",
    "        np.savetxt(fout, np.array(training_stats)[0])"
   ]
  },
  {
   "cell_type": "code",
   "execution_count": 23,
   "metadata": {
    "collapsed": false
   },
   "outputs": [
    {
     "name": "stdout",
     "output_type": "stream",
     "text": [
      "Test Median-Accuracy-Coverage: 0.623046875 0.849243164062\n",
      "Test Median H-Measure: 0.706043825921\n"
     ]
    }
   ],
   "source": [
    "if do_evaluation:\n",
    "    # Pick the epoch that minimizes the loss on the validation dataset.\n",
    "#     saved_epochs = np.array(read_saved_epochs(conf.train_dir))\n",
    "#     allowable_epochs = saved_epochs[saved_epochs <= max_evaluation_epochs]\n",
    "#     val_stats = eval_model(ae, conf, val_data, epochs=allowable_epochs, verbose=True)\n",
    "#     val_loss = np.min(val_stats[:,1])\n",
    "#     best_epoch = int(val_stats[np.argmin(val_stats[:,1]), 0])\n",
    "#     print 'Best epoch = %d.' % (best_epoch,) \n",
    "    best_epoch = 100\n",
    "        \n",
    "    ae.restore_model(conf.train_dir, best_epoch)\n",
    "#     top_save_dir = osp.join(conf.train_dir, 'output', 'epoch_' + str(best_epoch))\n",
    "#     save_dir = osp.join(top_save_dir, 'test_predictions')\n",
    "#     test_recon, test_loss, test_feed, test_ids, test_gt = ae.evaluate(test_data, conf)\n",
    "#     save_reconstructions(save_dir, test_recon, test_gt, test_feed, test_ids) # save ply files of test data.    \n",
    "#     train_loss = ae.evaluate(train_data, conf)[1]\n",
    "\n",
    "    test_gt, test_ids, test_feed = test_data.full_epoch_data()\n",
    "    n_examples = len(test_feed)\n",
    "    \n",
    "    test_recon = np.zeros([n_examples] + ae.n_output)\n",
    "    b = conf.batch_size\n",
    "    for i in xrange(0, n_examples, b):\n",
    "        test_recon[i:i + b] = ae.sess.run((ae.x_reconstr), feed_dict={ae.x: test_feed[i:i + b]})\n",
    "            \n",
    "    # Report Accuracy and Coverage of test data.    \n",
    "    pred_scores = np.zeros((n_examples, 2))\n",
    "    for i in xrange(n_examples):\n",
    "        gt = test_gt[i]\n",
    "        pred = test_recon[i]    \n",
    "        pred_scores[i, 0] = accuracy_of_completion(pred, gt, thres=0.02, ret_dists=False)\n",
    "        pred_scores[i, 1] = coverage_of_completion(gt, pred, thres=0.02, ret_dists=False)\n",
    "    \n",
    "    print 'Test Median-Accuracy-Coverage:', np.median(pred_scores[:, 0]), np.median(pred_scores[:, 1])\n",
    "    print 'Test Median H-Measure:',  np.median(hmean(pred_scores, 1))\n",
    "\n",
    "#     with open(osp.join(top_save_dir, 'stats.txt'), 'w') as fout:\n",
    "#         fout.write('Best Validation Epoch = %d\\n' % (best_epoch))\n",
    "#         fout.write('Validation loss = %f\\n' % (val_loss))\n",
    "#         fout.write('Train loss = %f\\n' % (train_loss))\n",
    "#         fout.write('Test loss = %f\\n' % (test_loss))\n",
    "#         fout.write('Gen. Error (abs, per) = %f %f\\n' % (abs(test_loss-train_loss),  abs(test_loss-train_loss) / train_loss ))\n",
    "#         fout.write('Test Median-Accuracy-Coverage = %f %f\\n' % (np.median(pred_scores[:, 0]), np.median(pred_scores[:, 1])))\n",
    "#         fout.write('Test Median Harmonic Mean = %f' % (np.median(hmean(pred_scores, 1))))"
   ]
  }
 ],
 "metadata": {
  "kernelspec": {
   "display_name": "Python 2",
   "language": "python",
   "name": "python2"
  },
  "language_info": {
   "codemirror_mode": {
    "name": "ipython",
    "version": 2
   },
   "file_extension": ".py",
   "mimetype": "text/x-python",
   "name": "python",
   "nbconvert_exporter": "python",
   "pygments_lexer": "ipython2",
   "version": "2.7.6"
  }
 },
 "nbformat": 4,
 "nbformat_minor": 0
}
