{
 "cells": [
  {
   "cell_type": "code",
   "execution_count": 10,
   "metadata": {
    "collapsed": false
   },
   "outputs": [],
   "source": [
    "import sys\n",
    "import time\n",
    "import numpy as np\n",
    "import os.path as osp\n",
    "import tensorflow as tf\n",
    "import matplotlib.pyplot as plt\n",
    "\n",
    "from tf_lab.fundamentals.utils import set_visible_GPUs, reset_tf_graph\n",
    "\n",
    "import tf_lab.point_clouds.in_out as pio\n",
    "from tf_lab.point_clouds.in_out import PointCloudDataSet, write_model_ids_of_datasets\n",
    "from tf_lab.point_clouds.point_net_ae import PointNetAutoEncoder\n",
    "from tf_lab.point_clouds.autoencoder import Configuration as Conf\n",
    "import tf_lab.point_clouds.encoders_decoders as enc_dec\n",
    "\n",
    "\n",
    "import tf_lab.autopredictors.scripts.virt_scan_data as vscan\n",
    "\n",
    "from tf_lab.autopredictors.scripts.helper import shape_net_category_to_synth_id, points_extension\n",
    "\n",
    "\n",
    "from tf_lab.autopredictors.plotting import plot_original_pclouds_vs_reconstructed, \\\n",
    "                                           plot_train_val_test_curves, plot_reconstructions_at_epoch\n",
    "        \n",
    "from tf_lab.autopredictors.evaluate import eval_model, read_saved_epochs, accuracy_of_completion, \\\n",
    "                                           coverage_of_completion\n",
    "                                                  \n",
    "\n",
    "from general_tools.in_out.basics import create_dir, delete_files_in_directory, files_in_subdirs\n",
    "from general_tools.simpletons import select_first_last_and_k\n",
    "from geo_tool import Point_Cloud"
   ]
  },
  {
   "cell_type": "code",
   "execution_count": 11,
   "metadata": {
    "collapsed": false
   },
   "outputs": [
    {
     "name": "stdout",
     "output_type": "stream",
     "text": [
      "The autoreload extension is already loaded. To reload it, use:\n",
      "  %reload_ext autoreload\n"
     ]
    }
   ],
   "source": [
    "%load_ext autoreload\n",
    "%autoreload 2\n",
    "%matplotlib inline"
   ]
  },
  {
   "cell_type": "code",
   "execution_count": 12,
   "metadata": {
    "collapsed": false
   },
   "outputs": [
    {
     "name": "stdout",
     "output_type": "stream",
     "text": [
      "Give me the class type.\n",
      "vessel\n"
     ]
    },
    {
     "data": {
      "text/plain": [
       "'/orions4-zfs/projects/lins2/Panos_Space/DATA/OUT/models/incomplete_pclouds/paper_vanilla_vscan/7_vessel_2048_4096pts_emd'"
      ]
     },
     "execution_count": 12,
     "metadata": {},
     "output_type": "execute_result"
    }
   ],
   "source": [
    "incomplete_n_samples = 2048\n",
    "complete_n_samples = 4096\n",
    "\n",
    "class_type = raw_input('Give me the class type.\\n').lower()\n",
    "class_syn_id = shape_net_category_to_synth_id()[class_type]\n",
    "\n",
    "GPU = 0\n",
    "exp_counter = '7'\n",
    "loss = 'emd'\n",
    "do_training = True\n",
    "first_time_running = True\n",
    "load_model = False\n",
    "do_test = False\n",
    "do_plotting = False\n",
    "training_epochs = 1000\n",
    "\n",
    "experiment_name = exp_counter + '_' + class_type + '_' + str(incomplete_n_samples) + '_' + str(complete_n_samples) + 'pts_' + loss\n",
    "top_data_dir = '/orions4-zfs/projects/lins2/Panos_Space/DATA/'\n",
    "complete_pclouds_path = osp.join(top_data_dir, 'ShapeNetPointClouds/from_manifold_meshes/', \\\n",
    "                             str(complete_n_samples), class_syn_id)\n",
    "    \n",
    "n_input = [incomplete_n_samples, 3]\n",
    "n_output = [complete_n_samples, 3] \n",
    "\n",
    "train_dir = osp.join(top_data_dir, 'OUT/models/incomplete_pclouds/paper_vanilla_vscan')\n",
    "train_dir = osp.join(train_dir, experiment_name)\n",
    "create_dir(train_dir)"
   ]
  },
  {
   "cell_type": "code",
   "execution_count": 13,
   "metadata": {
    "collapsed": false
   },
   "outputs": [],
   "source": [
    "seed = 42\n",
    "np.random.seed(seed)\n",
    "tf.set_random_seed(seed)"
   ]
  },
  {
   "cell_type": "code",
   "execution_count": 14,
   "metadata": {
    "collapsed": false
   },
   "outputs": [
    {
     "name": "stdout",
     "output_type": "stream",
     "text": [
      "1939 files containing complete point clouds were found.\n"
     ]
    }
   ],
   "source": [
    "cmpl_file_names = pio.load_filenames_of_input_data(complete_pclouds_path, points_extension)\n",
    "cmpl_pclouds, cmpl_model_names, syn_ids = pio.load_crude_point_clouds(file_names=cmpl_file_names, n_threads=25)\n",
    "assert(len(np.unique(syn_ids)) == 1)\n",
    "print '%d files containing complete point clouds were found.' % (len(cmpl_pclouds), )"
   ]
  },
  {
   "cell_type": "code",
   "execution_count": 15,
   "metadata": {
    "collapsed": false
   },
   "outputs": [
    {
     "name": "stdout",
     "output_type": "stream",
     "text": [
      "9600 incomplete point clouds were loaded.\n"
     ]
    }
   ],
   "source": [
    "v_scan_top_dir = osp.join(top_data_dir, 'From_Matthias/shapenet_dim32_sdf_pc', class_syn_id)\n",
    "if do_training:    \n",
    "    train_id_file = osp.join(top_data_dir, 'From_Matthias/train_test_models/train_models_with_scan_id.txt')\n",
    "    \n",
    "    train_data = vscan.load_single_class_incomplete_dataset(v_scan_top_dir, train_id_file, class_syn_id,\n",
    "                                                      cmpl_pclouds, cmpl_model_names, n_threads=25,\n",
    "                                                      n_samples=incomplete_n_samples)\n",
    "    \n",
    "    train_data, val_data = vscan.make_validation_from_train_data(train_data, 0.10)"
   ]
  },
  {
   "cell_type": "code",
   "execution_count": 16,
   "metadata": {
    "collapsed": false
   },
   "outputs": [],
   "source": [
    "if do_test:\n",
    "    test_id_file = osp.join(top_data_dir, 'From_Matthias/train_test_models/test_models_with_scan_id.txt')\n",
    "    test_data = vscan.load_single_class_incomplete_dataset(v_scan_top_dir, test_id_file, class_syn_id, \n",
    "                                                      cmpl_pclouds, cmpl_model_names, n_threads=25,\n",
    "                                                      n_samples=incomplete_n_samples, search_pattern=search_pattern)"
   ]
  },
  {
   "cell_type": "code",
   "execution_count": 17,
   "metadata": {
    "collapsed": false
   },
   "outputs": [],
   "source": [
    "if load_model:\n",
    "    conf = Conf.load(osp.join(train_dir, 'configuration'))\n",
    "    print conf\n",
    "else:\n",
    "    decoder_args = {'layer_sizes': [1024, np.prod(n_output)],\n",
    "                    'non_linearity': tf.nn.relu\n",
    "                   }\n",
    "    \n",
    "    conf = Conf(\n",
    "                n_input = n_input,\n",
    "                n_output = n_output,\n",
    "                denoising = True,\n",
    "                training_epochs = training_epochs,\n",
    "                batch_size = 50,\n",
    "                loss = loss,\n",
    "                train_dir = train_dir,\n",
    "                loss_display_step = 1,\n",
    "                saver_step = 5,\n",
    "                learning_rate = 0.0005,\n",
    "                gauss_augment = {'mu': 0, 'sigma': 0.02},\n",
    "                encoder = enc_dec.encoder_with_convs_and_symmetry,                \n",
    "                decoder = enc_dec.decoder_with_fc_only,\n",
    "                decoder_args = decoder_args\n",
    "               )\n",
    "    \n",
    "    conf.consistent_io = False\n",
    "    conf.experiment_name = experiment_name\n",
    "    conf.save(osp.join(conf.train_dir, 'configuration'))"
   ]
  },
  {
   "cell_type": "code",
   "execution_count": 18,
   "metadata": {
    "collapsed": false
   },
   "outputs": [
    {
     "name": "stdout",
     "output_type": "stream",
     "text": [
      "('Epoch:', '0001', 'training time (minutes)=', '1.5980', 'loss=', '244.335287582')\n",
      "INFO:tensorflow:/orions4-zfs/projects/lins2/Panos_Space/DATA/OUT/models/incomplete_pclouds/paper_vanilla_vscan/7_vessel_2048_4096pts_emd/models.ckpt-1 is not in all_model_checkpoint_paths. Manually adding it.\n"
     ]
    },
    {
     "name": "stderr",
     "output_type": "stream",
     "text": [
      "INFO:tensorflow:/orions4-zfs/projects/lins2/Panos_Space/DATA/OUT/models/incomplete_pclouds/paper_vanilla_vscan/7_vessel_2048_4096pts_emd/models.ckpt-1 is not in all_model_checkpoint_paths. Manually adding it.\n"
     ]
    },
    {
     "name": "stdout",
     "output_type": "stream",
     "text": [
      "('Epoch:', '0002', 'training time (minutes)=', '1.6370', 'loss=', '207.214178218')\n",
      "('Epoch:', '0003', 'training time (minutes)=', '1.6408', 'loss=', '197.224922091')\n",
      "('Epoch:', '0004', 'training time (minutes)=', '1.6557', 'loss=', '195.433295139')\n",
      "('Epoch:', '0005', 'training time (minutes)=', '1.6419', 'loss=', '192.907249096')\n",
      "INFO:tensorflow:/orions4-zfs/projects/lins2/Panos_Space/DATA/OUT/models/incomplete_pclouds/paper_vanilla_vscan/7_vessel_2048_4096pts_emd/models.ckpt-5 is not in all_model_checkpoint_paths. Manually adding it.\n"
     ]
    },
    {
     "name": "stderr",
     "output_type": "stream",
     "text": [
      "INFO:tensorflow:/orions4-zfs/projects/lins2/Panos_Space/DATA/OUT/models/incomplete_pclouds/paper_vanilla_vscan/7_vessel_2048_4096pts_emd/models.ckpt-5 is not in all_model_checkpoint_paths. Manually adding it.\n"
     ]
    },
    {
     "name": "stdout",
     "output_type": "stream",
     "text": [
      "('Epoch:', '0006', 'training time (minutes)=', '1.6367', 'loss=', '188.226490376')\n",
      "('Epoch:', '0007', 'training time (minutes)=', '1.6320', 'loss=', '186.047873120')\n",
      "('Epoch:', '0008', 'training time (minutes)=', '1.6587', 'loss=', '185.567661729')\n",
      "('Epoch:', '0009', 'training time (minutes)=', '1.6454', 'loss=', '182.904327215')\n",
      "('Epoch:', '0010', 'training time (minutes)=', '1.6545', 'loss=', '180.976632761')\n",
      "INFO:tensorflow:/orions4-zfs/projects/lins2/Panos_Space/DATA/OUT/models/incomplete_pclouds/paper_vanilla_vscan/7_vessel_2048_4096pts_emd/models.ckpt-10 is not in all_model_checkpoint_paths. Manually adding it.\n"
     ]
    },
    {
     "name": "stderr",
     "output_type": "stream",
     "text": [
      "INFO:tensorflow:/orions4-zfs/projects/lins2/Panos_Space/DATA/OUT/models/incomplete_pclouds/paper_vanilla_vscan/7_vessel_2048_4096pts_emd/models.ckpt-10 is not in all_model_checkpoint_paths. Manually adding it.\n"
     ]
    },
    {
     "name": "stdout",
     "output_type": "stream",
     "text": [
      "('Epoch:', '0011', 'training time (minutes)=', '1.6483', 'loss=', '181.496348181')\n",
      "('Epoch:', '0012', 'training time (minutes)=', '1.6461', 'loss=', '178.924349585')\n",
      "('Epoch:', '0013', 'training time (minutes)=', '1.6505', 'loss=', '176.786150999')\n",
      "('Epoch:', '0014', 'training time (minutes)=', '1.6380', 'loss=', '176.828552778')\n",
      "('Epoch:', '0015', 'training time (minutes)=', '1.6522', 'loss=', '175.748086353')\n",
      "INFO:tensorflow:/orions4-zfs/projects/lins2/Panos_Space/DATA/OUT/models/incomplete_pclouds/paper_vanilla_vscan/7_vessel_2048_4096pts_emd/models.ckpt-15 is not in all_model_checkpoint_paths. Manually adding it.\n"
     ]
    },
    {
     "name": "stderr",
     "output_type": "stream",
     "text": [
      "INFO:tensorflow:/orions4-zfs/projects/lins2/Panos_Space/DATA/OUT/models/incomplete_pclouds/paper_vanilla_vscan/7_vessel_2048_4096pts_emd/models.ckpt-15 is not in all_model_checkpoint_paths. Manually adding it.\n"
     ]
    },
    {
     "name": "stdout",
     "output_type": "stream",
     "text": [
      "('Epoch:', '0016', 'training time (minutes)=', '1.6495', 'loss=', '173.617610222')\n",
      "('Epoch:', '0017', 'training time (minutes)=', '1.6494', 'loss=', '174.529392420')\n",
      "('Epoch:', '0018', 'training time (minutes)=', '1.6362', 'loss=', '172.257741529')\n",
      "('Epoch:', '0019', 'training time (minutes)=', '1.6518', 'loss=', '172.644585011')\n",
      "('Epoch:', '0020', 'training time (minutes)=', '1.6424', 'loss=', '169.643952835')\n",
      "INFO:tensorflow:/orions4-zfs/projects/lins2/Panos_Space/DATA/OUT/models/incomplete_pclouds/paper_vanilla_vscan/7_vessel_2048_4096pts_emd/models.ckpt-20 is not in all_model_checkpoint_paths. Manually adding it.\n"
     ]
    },
    {
     "name": "stderr",
     "output_type": "stream",
     "text": [
      "INFO:tensorflow:/orions4-zfs/projects/lins2/Panos_Space/DATA/OUT/models/incomplete_pclouds/paper_vanilla_vscan/7_vessel_2048_4096pts_emd/models.ckpt-20 is not in all_model_checkpoint_paths. Manually adding it.\n"
     ]
    },
    {
     "name": "stdout",
     "output_type": "stream",
     "text": [
      "('Epoch:', '0021', 'training time (minutes)=', '1.6417', 'loss=', '170.697338193')\n",
      "('Epoch:', '0022', 'training time (minutes)=', '1.6339', 'loss=', '167.851071735')\n",
      "('Epoch:', '0023', 'training time (minutes)=', '1.6377', 'loss=', '167.445496315')\n",
      "('Epoch:', '0024', 'training time (minutes)=', '1.6557', 'loss=', '166.781175480')\n",
      "('Epoch:', '0025', 'training time (minutes)=', '1.6422', 'loss=', '165.914145714')\n",
      "INFO:tensorflow:/orions4-zfs/projects/lins2/Panos_Space/DATA/OUT/models/incomplete_pclouds/paper_vanilla_vscan/7_vessel_2048_4096pts_emd/models.ckpt-25 is not in all_model_checkpoint_paths. Manually adding it.\n"
     ]
    },
    {
     "name": "stderr",
     "output_type": "stream",
     "text": [
      "INFO:tensorflow:/orions4-zfs/projects/lins2/Panos_Space/DATA/OUT/models/incomplete_pclouds/paper_vanilla_vscan/7_vessel_2048_4096pts_emd/models.ckpt-25 is not in all_model_checkpoint_paths. Manually adding it.\n"
     ]
    },
    {
     "name": "stdout",
     "output_type": "stream",
     "text": [
      "('Epoch:', '0026', 'training time (minutes)=', '1.6359', 'loss=', '165.867105795')\n",
      "('Epoch:', '0027', 'training time (minutes)=', '1.6332', 'loss=', '164.390874818')\n",
      "('Epoch:', '0028', 'training time (minutes)=', '1.6521', 'loss=', '164.312866832')\n",
      "('Epoch:', '0029', 'training time (minutes)=', '1.6355', 'loss=', '163.551457339')\n",
      "('Epoch:', '0030', 'training time (minutes)=', '1.6340', 'loss=', '163.960090726')\n",
      "INFO:tensorflow:/orions4-zfs/projects/lins2/Panos_Space/DATA/OUT/models/incomplete_pclouds/paper_vanilla_vscan/7_vessel_2048_4096pts_emd/models.ckpt-30 is not in all_model_checkpoint_paths. Manually adding it.\n"
     ]
    },
    {
     "name": "stderr",
     "output_type": "stream",
     "text": [
      "INFO:tensorflow:/orions4-zfs/projects/lins2/Panos_Space/DATA/OUT/models/incomplete_pclouds/paper_vanilla_vscan/7_vessel_2048_4096pts_emd/models.ckpt-30 is not in all_model_checkpoint_paths. Manually adding it.\n"
     ]
    },
    {
     "name": "stdout",
     "output_type": "stream",
     "text": [
      "('Epoch:', '0031', 'training time (minutes)=', '1.6443', 'loss=', '162.653928269')\n",
      "('Epoch:', '0032', 'training time (minutes)=', '1.6294', 'loss=', '162.235906202')\n",
      "('Epoch:', '0033', 'training time (minutes)=', '1.6445', 'loss=', '160.982948658')\n",
      "('Epoch:', '0034', 'training time (minutes)=', '1.6338', 'loss=', '160.628935703')\n",
      "('Epoch:', '0035', 'training time (minutes)=', '1.6416', 'loss=', '158.800979259')\n",
      "INFO:tensorflow:/orions4-zfs/projects/lins2/Panos_Space/DATA/OUT/models/incomplete_pclouds/paper_vanilla_vscan/7_vessel_2048_4096pts_emd/models.ckpt-35 is not in all_model_checkpoint_paths. Manually adding it.\n"
     ]
    },
    {
     "name": "stderr",
     "output_type": "stream",
     "text": [
      "INFO:tensorflow:/orions4-zfs/projects/lins2/Panos_Space/DATA/OUT/models/incomplete_pclouds/paper_vanilla_vscan/7_vessel_2048_4096pts_emd/models.ckpt-35 is not in all_model_checkpoint_paths. Manually adding it.\n"
     ]
    },
    {
     "name": "stdout",
     "output_type": "stream",
     "text": [
      "('Epoch:', '0036', 'training time (minutes)=', '1.6411', 'loss=', '158.612657680')\n",
      "('Epoch:', '0037', 'training time (minutes)=', '1.6377', 'loss=', '157.444902464')\n",
      "('Epoch:', '0038', 'training time (minutes)=', '1.6420', 'loss=', '157.433456687')\n",
      "('Epoch:', '0039', 'training time (minutes)=', '1.6407', 'loss=', '157.083950043')\n",
      "('Epoch:', '0040', 'training time (minutes)=', '1.6457', 'loss=', '157.406660390')\n",
      "INFO:tensorflow:/orions4-zfs/projects/lins2/Panos_Space/DATA/OUT/models/incomplete_pclouds/paper_vanilla_vscan/7_vessel_2048_4096pts_emd/models.ckpt-40 is not in all_model_checkpoint_paths. Manually adding it.\n"
     ]
    },
    {
     "name": "stderr",
     "output_type": "stream",
     "text": [
      "INFO:tensorflow:/orions4-zfs/projects/lins2/Panos_Space/DATA/OUT/models/incomplete_pclouds/paper_vanilla_vscan/7_vessel_2048_4096pts_emd/models.ckpt-40 is not in all_model_checkpoint_paths. Manually adding it.\n"
     ]
    },
    {
     "name": "stdout",
     "output_type": "stream",
     "text": [
      "('Epoch:', '0041', 'training time (minutes)=', '1.6428', 'loss=', '156.076774597')\n",
      "('Epoch:', '0042', 'training time (minutes)=', '1.6332', 'loss=', '155.494758340')\n",
      "('Epoch:', '0043', 'training time (minutes)=', '1.6544', 'loss=', '154.940100470')\n",
      "('Epoch:', '0044', 'training time (minutes)=', '1.6348', 'loss=', '154.310975541')\n",
      "('Epoch:', '0045', 'training time (minutes)=', '1.6443', 'loss=', '154.270179571')\n",
      "INFO:tensorflow:/orions4-zfs/projects/lins2/Panos_Space/DATA/OUT/models/incomplete_pclouds/paper_vanilla_vscan/7_vessel_2048_4096pts_emd/models.ckpt-45 is not in all_model_checkpoint_paths. Manually adding it.\n"
     ]
    },
    {
     "name": "stderr",
     "output_type": "stream",
     "text": [
      "INFO:tensorflow:/orions4-zfs/projects/lins2/Panos_Space/DATA/OUT/models/incomplete_pclouds/paper_vanilla_vscan/7_vessel_2048_4096pts_emd/models.ckpt-45 is not in all_model_checkpoint_paths. Manually adding it.\n"
     ]
    },
    {
     "name": "stdout",
     "output_type": "stream",
     "text": [
      "('Epoch:', '0046', 'training time (minutes)=', '1.6416', 'loss=', '152.961901199')\n",
      "('Epoch:', '0047', 'training time (minutes)=', '1.6366', 'loss=', '153.009511726')\n",
      "('Epoch:', '0048', 'training time (minutes)=', '1.6398', 'loss=', '152.095638896')\n",
      "('Epoch:', '0049', 'training time (minutes)=', '1.6442', 'loss=', '152.462230328')\n",
      "('Epoch:', '0050', 'training time (minutes)=', '1.6388', 'loss=', '151.527005129')\n",
      "INFO:tensorflow:/orions4-zfs/projects/lins2/Panos_Space/DATA/OUT/models/incomplete_pclouds/paper_vanilla_vscan/7_vessel_2048_4096pts_emd/models.ckpt-50 is not in all_model_checkpoint_paths. Manually adding it.\n"
     ]
    },
    {
     "name": "stderr",
     "output_type": "stream",
     "text": [
      "INFO:tensorflow:/orions4-zfs/projects/lins2/Panos_Space/DATA/OUT/models/incomplete_pclouds/paper_vanilla_vscan/7_vessel_2048_4096pts_emd/models.ckpt-50 is not in all_model_checkpoint_paths. Manually adding it.\n"
     ]
    },
    {
     "name": "stdout",
     "output_type": "stream",
     "text": [
      "('Epoch:', '0051', 'training time (minutes)=', '1.6456', 'loss=', '150.811340687')\n",
      "('Epoch:', '0052', 'training time (minutes)=', '1.6344', 'loss=', '149.974568567')\n",
      "('Epoch:', '0053', 'training time (minutes)=', '1.6404', 'loss=', '151.722500025')\n",
      "('Epoch:', '0054', 'training time (minutes)=', '1.6385', 'loss=', '148.854321325')\n",
      "('Epoch:', '0055', 'training time (minutes)=', '1.6467', 'loss=', '149.742912913')\n",
      "INFO:tensorflow:/orions4-zfs/projects/lins2/Panos_Space/DATA/OUT/models/incomplete_pclouds/paper_vanilla_vscan/7_vessel_2048_4096pts_emd/models.ckpt-55 is not in all_model_checkpoint_paths. Manually adding it.\n"
     ]
    },
    {
     "name": "stderr",
     "output_type": "stream",
     "text": [
      "INFO:tensorflow:/orions4-zfs/projects/lins2/Panos_Space/DATA/OUT/models/incomplete_pclouds/paper_vanilla_vscan/7_vessel_2048_4096pts_emd/models.ckpt-55 is not in all_model_checkpoint_paths. Manually adding it.\n"
     ]
    },
    {
     "name": "stdout",
     "output_type": "stream",
     "text": [
      "('Epoch:', '0056', 'training time (minutes)=', '1.6472', 'loss=', '149.201380353')\n",
      "('Epoch:', '0057', 'training time (minutes)=', '1.6429', 'loss=', '148.578232078')\n",
      "('Epoch:', '0058', 'training time (minutes)=', '1.6451', 'loss=', '148.386361410')\n",
      "('Epoch:', '0059', 'training time (minutes)=', '1.6434', 'loss=', '148.646461753')\n",
      "('Epoch:', '0060', 'training time (minutes)=', '1.6425', 'loss=', '148.674409556')\n",
      "INFO:tensorflow:/orions4-zfs/projects/lins2/Panos_Space/DATA/OUT/models/incomplete_pclouds/paper_vanilla_vscan/7_vessel_2048_4096pts_emd/models.ckpt-60 is not in all_model_checkpoint_paths. Manually adding it.\n"
     ]
    },
    {
     "name": "stderr",
     "output_type": "stream",
     "text": [
      "INFO:tensorflow:/orions4-zfs/projects/lins2/Panos_Space/DATA/OUT/models/incomplete_pclouds/paper_vanilla_vscan/7_vessel_2048_4096pts_emd/models.ckpt-60 is not in all_model_checkpoint_paths. Manually adding it.\n"
     ]
    },
    {
     "name": "stdout",
     "output_type": "stream",
     "text": [
      "('Epoch:', '0061', 'training time (minutes)=', '1.6377', 'loss=', '146.670332620')\n",
      "('Epoch:', '0062', 'training time (minutes)=', '1.6592', 'loss=', '147.093435332')\n",
      "('Epoch:', '0063', 'training time (minutes)=', '1.6339', 'loss=', '146.011461746')\n",
      "('Epoch:', '0064', 'training time (minutes)=', '1.6390', 'loss=', '147.061591570')\n",
      "('Epoch:', '0065', 'training time (minutes)=', '1.6393', 'loss=', '145.600117439')\n",
      "INFO:tensorflow:/orions4-zfs/projects/lins2/Panos_Space/DATA/OUT/models/incomplete_pclouds/paper_vanilla_vscan/7_vessel_2048_4096pts_emd/models.ckpt-65 is not in all_model_checkpoint_paths. Manually adding it.\n"
     ]
    },
    {
     "name": "stderr",
     "output_type": "stream",
     "text": [
      "INFO:tensorflow:/orions4-zfs/projects/lins2/Panos_Space/DATA/OUT/models/incomplete_pclouds/paper_vanilla_vscan/7_vessel_2048_4096pts_emd/models.ckpt-65 is not in all_model_checkpoint_paths. Manually adding it.\n"
     ]
    },
    {
     "name": "stdout",
     "output_type": "stream",
     "text": [
      "('Epoch:', '0066', 'training time (minutes)=', '1.6357', 'loss=', '145.318437355')\n",
      "('Epoch:', '0067', 'training time (minutes)=', '1.6434', 'loss=', '146.018541380')\n",
      "('Epoch:', '0068', 'training time (minutes)=', '1.6396', 'loss=', '144.377235590')\n",
      "('Epoch:', '0069', 'training time (minutes)=', '1.6475', 'loss=', '144.815358539')\n",
      "('Epoch:', '0070', 'training time (minutes)=', '1.6428', 'loss=', '143.943822373')\n",
      "INFO:tensorflow:/orions4-zfs/projects/lins2/Panos_Space/DATA/OUT/models/incomplete_pclouds/paper_vanilla_vscan/7_vessel_2048_4096pts_emd/models.ckpt-70 is not in all_model_checkpoint_paths. Manually adding it.\n"
     ]
    },
    {
     "name": "stderr",
     "output_type": "stream",
     "text": [
      "INFO:tensorflow:/orions4-zfs/projects/lins2/Panos_Space/DATA/OUT/models/incomplete_pclouds/paper_vanilla_vscan/7_vessel_2048_4096pts_emd/models.ckpt-70 is not in all_model_checkpoint_paths. Manually adding it.\n"
     ]
    },
    {
     "name": "stdout",
     "output_type": "stream",
     "text": [
      "('Epoch:', '0071', 'training time (minutes)=', '1.6438', 'loss=', '144.131178834')\n",
      "('Epoch:', '0072', 'training time (minutes)=', '1.6420', 'loss=', '143.652001403')\n",
      "('Epoch:', '0073', 'training time (minutes)=', '1.6465', 'loss=', '143.046970367')\n",
      "('Epoch:', '0074', 'training time (minutes)=', '1.6318', 'loss=', '143.029945019')\n",
      "('Epoch:', '0075', 'training time (minutes)=', '1.6414', 'loss=', '142.297032378')\n",
      "INFO:tensorflow:/orions4-zfs/projects/lins2/Panos_Space/DATA/OUT/models/incomplete_pclouds/paper_vanilla_vscan/7_vessel_2048_4096pts_emd/models.ckpt-75 is not in all_model_checkpoint_paths. Manually adding it.\n"
     ]
    },
    {
     "name": "stderr",
     "output_type": "stream",
     "text": [
      "INFO:tensorflow:/orions4-zfs/projects/lins2/Panos_Space/DATA/OUT/models/incomplete_pclouds/paper_vanilla_vscan/7_vessel_2048_4096pts_emd/models.ckpt-75 is not in all_model_checkpoint_paths. Manually adding it.\n"
     ]
    },
    {
     "name": "stdout",
     "output_type": "stream",
     "text": [
      "('Epoch:', '0076', 'training time (minutes)=', '1.6375', 'loss=', '141.806803859')\n",
      "('Epoch:', '0077', 'training time (minutes)=', '1.6390', 'loss=', '141.968704401')\n",
      "('Epoch:', '0078', 'training time (minutes)=', '1.6384', 'loss=', '142.088668646')\n",
      "('Epoch:', '0079', 'training time (minutes)=', '1.6383', 'loss=', '141.204607054')\n",
      "('Epoch:', '0080', 'training time (minutes)=', '1.6481', 'loss=', '140.850205887')\n",
      "INFO:tensorflow:/orions4-zfs/projects/lins2/Panos_Space/DATA/OUT/models/incomplete_pclouds/paper_vanilla_vscan/7_vessel_2048_4096pts_emd/models.ckpt-80 is not in all_model_checkpoint_paths. Manually adding it.\n"
     ]
    },
    {
     "name": "stderr",
     "output_type": "stream",
     "text": [
      "INFO:tensorflow:/orions4-zfs/projects/lins2/Panos_Space/DATA/OUT/models/incomplete_pclouds/paper_vanilla_vscan/7_vessel_2048_4096pts_emd/models.ckpt-80 is not in all_model_checkpoint_paths. Manually adding it.\n"
     ]
    },
    {
     "name": "stdout",
     "output_type": "stream",
     "text": [
      "('Epoch:', '0081', 'training time (minutes)=', '1.6413', 'loss=', '140.973451925')\n",
      "('Epoch:', '0082', 'training time (minutes)=', '1.6480', 'loss=', '140.540201941')\n",
      "('Epoch:', '0083', 'training time (minutes)=', '1.6358', 'loss=', '140.361494907')\n",
      "('Epoch:', '0084', 'training time (minutes)=', '1.6438', 'loss=', '140.218814894')\n",
      "('Epoch:', '0085', 'training time (minutes)=', '1.6339', 'loss=', '139.822268020')\n",
      "INFO:tensorflow:/orions4-zfs/projects/lins2/Panos_Space/DATA/OUT/models/incomplete_pclouds/paper_vanilla_vscan/7_vessel_2048_4096pts_emd/models.ckpt-85 is not in all_model_checkpoint_paths. Manually adding it.\n"
     ]
    },
    {
     "name": "stderr",
     "output_type": "stream",
     "text": [
      "INFO:tensorflow:/orions4-zfs/projects/lins2/Panos_Space/DATA/OUT/models/incomplete_pclouds/paper_vanilla_vscan/7_vessel_2048_4096pts_emd/models.ckpt-85 is not in all_model_checkpoint_paths. Manually adding it.\n"
     ]
    },
    {
     "name": "stdout",
     "output_type": "stream",
     "text": [
      "('Epoch:', '0086', 'training time (minutes)=', '1.6389', 'loss=', '139.778268858')\n",
      "('Epoch:', '0087', 'training time (minutes)=', '1.6414', 'loss=', '139.149935079')\n",
      "('Epoch:', '0088', 'training time (minutes)=', '1.6388', 'loss=', '140.366053825')\n",
      "('Epoch:', '0089', 'training time (minutes)=', '1.6388', 'loss=', '139.473288691')\n",
      "('Epoch:', '0090', 'training time (minutes)=', '1.6292', 'loss=', '138.946815225')\n",
      "INFO:tensorflow:/orions4-zfs/projects/lins2/Panos_Space/DATA/OUT/models/incomplete_pclouds/paper_vanilla_vscan/7_vessel_2048_4096pts_emd/models.ckpt-90 is not in all_model_checkpoint_paths. Manually adding it.\n"
     ]
    },
    {
     "name": "stderr",
     "output_type": "stream",
     "text": [
      "INFO:tensorflow:/orions4-zfs/projects/lins2/Panos_Space/DATA/OUT/models/incomplete_pclouds/paper_vanilla_vscan/7_vessel_2048_4096pts_emd/models.ckpt-90 is not in all_model_checkpoint_paths. Manually adding it.\n"
     ]
    },
    {
     "name": "stdout",
     "output_type": "stream",
     "text": [
      "('Epoch:', '0091', 'training time (minutes)=', '1.6411', 'loss=', '138.312758335')\n",
      "('Epoch:', '0092', 'training time (minutes)=', '1.6481', 'loss=', '138.499161077')\n",
      "('Epoch:', '0093', 'training time (minutes)=', '1.6442', 'loss=', '138.333665182')\n",
      "('Epoch:', '0094', 'training time (minutes)=', '1.6451', 'loss=', '138.052403783')\n",
      "('Epoch:', '0095', 'training time (minutes)=', '1.6405', 'loss=', '137.715069039')\n",
      "INFO:tensorflow:/orions4-zfs/projects/lins2/Panos_Space/DATA/OUT/models/incomplete_pclouds/paper_vanilla_vscan/7_vessel_2048_4096pts_emd/models.ckpt-95 is not in all_model_checkpoint_paths. Manually adding it.\n"
     ]
    },
    {
     "name": "stderr",
     "output_type": "stream",
     "text": [
      "INFO:tensorflow:/orions4-zfs/projects/lins2/Panos_Space/DATA/OUT/models/incomplete_pclouds/paper_vanilla_vscan/7_vessel_2048_4096pts_emd/models.ckpt-95 is not in all_model_checkpoint_paths. Manually adding it.\n"
     ]
    },
    {
     "name": "stdout",
     "output_type": "stream",
     "text": [
      "('Epoch:', '0096', 'training time (minutes)=', '1.6461', 'loss=', '137.762295967')\n",
      "('Epoch:', '0097', 'training time (minutes)=', '1.6365', 'loss=', '137.339287070')\n",
      "('Epoch:', '0098', 'training time (minutes)=', '1.6458', 'loss=', '137.516754993')\n",
      "('Epoch:', '0099', 'training time (minutes)=', '1.6365', 'loss=', '137.359940418')\n",
      "('Epoch:', '0100', 'training time (minutes)=', '1.6437', 'loss=', '137.208561698')\n",
      "INFO:tensorflow:/orions4-zfs/projects/lins2/Panos_Space/DATA/OUT/models/incomplete_pclouds/paper_vanilla_vscan/7_vessel_2048_4096pts_emd/models.ckpt-100 is not in all_model_checkpoint_paths. Manually adding it.\n"
     ]
    },
    {
     "name": "stderr",
     "output_type": "stream",
     "text": [
      "INFO:tensorflow:/orions4-zfs/projects/lins2/Panos_Space/DATA/OUT/models/incomplete_pclouds/paper_vanilla_vscan/7_vessel_2048_4096pts_emd/models.ckpt-100 is not in all_model_checkpoint_paths. Manually adding it.\n"
     ]
    },
    {
     "name": "stdout",
     "output_type": "stream",
     "text": [
      "('Epoch:', '0101', 'training time (minutes)=', '1.6412', 'loss=', '136.804067967')\n",
      "('Epoch:', '0102', 'training time (minutes)=', '1.6409', 'loss=', '135.636853551')\n",
      "('Epoch:', '0103', 'training time (minutes)=', '1.6511', 'loss=', '136.029881544')\n",
      "('Epoch:', '0104', 'training time (minutes)=', '1.6429', 'loss=', '136.619737536')\n",
      "('Epoch:', '0105', 'training time (minutes)=', '1.6431', 'loss=', '135.838024051')\n",
      "INFO:tensorflow:/orions4-zfs/projects/lins2/Panos_Space/DATA/OUT/models/incomplete_pclouds/paper_vanilla_vscan/7_vessel_2048_4096pts_emd/models.ckpt-105 is not in all_model_checkpoint_paths. Manually adding it.\n"
     ]
    },
    {
     "name": "stderr",
     "output_type": "stream",
     "text": [
      "INFO:tensorflow:/orions4-zfs/projects/lins2/Panos_Space/DATA/OUT/models/incomplete_pclouds/paper_vanilla_vscan/7_vessel_2048_4096pts_emd/models.ckpt-105 is not in all_model_checkpoint_paths. Manually adding it.\n"
     ]
    },
    {
     "name": "stdout",
     "output_type": "stream",
     "text": [
      "('Epoch:', '0106', 'training time (minutes)=', '1.6458', 'loss=', '135.313728510')\n",
      "('Epoch:', '0107', 'training time (minutes)=', '1.6536', 'loss=', '136.340325289')\n",
      "('Epoch:', '0108', 'training time (minutes)=', '1.6479', 'loss=', '136.109920502')\n",
      "('Epoch:', '0109', 'training time (minutes)=', '1.6515', 'loss=', '134.761205585')\n",
      "('Epoch:', '0110', 'training time (minutes)=', '1.6400', 'loss=', '134.633435493')\n",
      "INFO:tensorflow:/orions4-zfs/projects/lins2/Panos_Space/DATA/OUT/models/incomplete_pclouds/paper_vanilla_vscan/7_vessel_2048_4096pts_emd/models.ckpt-110 is not in all_model_checkpoint_paths. Manually adding it.\n"
     ]
    },
    {
     "name": "stderr",
     "output_type": "stream",
     "text": [
      "INFO:tensorflow:/orions4-zfs/projects/lins2/Panos_Space/DATA/OUT/models/incomplete_pclouds/paper_vanilla_vscan/7_vessel_2048_4096pts_emd/models.ckpt-110 is not in all_model_checkpoint_paths. Manually adding it.\n"
     ]
    },
    {
     "name": "stdout",
     "output_type": "stream",
     "text": [
      "('Epoch:', '0111', 'training time (minutes)=', '1.6473', 'loss=', '134.595752228')\n",
      "('Epoch:', '0112', 'training time (minutes)=', '1.6476', 'loss=', '134.924027066')\n",
      "('Epoch:', '0113', 'training time (minutes)=', '1.6430', 'loss=', '134.751941947')\n",
      "('Epoch:', '0114', 'training time (minutes)=', '1.6462', 'loss=', '134.449330973')\n",
      "('Epoch:', '0115', 'training time (minutes)=', '1.6578', 'loss=', '133.871205663')\n",
      "INFO:tensorflow:/orions4-zfs/projects/lins2/Panos_Space/DATA/OUT/models/incomplete_pclouds/paper_vanilla_vscan/7_vessel_2048_4096pts_emd/models.ckpt-115 is not in all_model_checkpoint_paths. Manually adding it.\n"
     ]
    },
    {
     "name": "stderr",
     "output_type": "stream",
     "text": [
      "INFO:tensorflow:/orions4-zfs/projects/lins2/Panos_Space/DATA/OUT/models/incomplete_pclouds/paper_vanilla_vscan/7_vessel_2048_4096pts_emd/models.ckpt-115 is not in all_model_checkpoint_paths. Manually adding it.\n"
     ]
    },
    {
     "name": "stdout",
     "output_type": "stream",
     "text": [
      "('Epoch:', '0116', 'training time (minutes)=', '1.6440', 'loss=', '134.255287747')\n",
      "('Epoch:', '0117', 'training time (minutes)=', '1.6442', 'loss=', '134.194836328')\n",
      "('Epoch:', '0118', 'training time (minutes)=', '1.6442', 'loss=', '134.031350202')\n",
      "('Epoch:', '0119', 'training time (minutes)=', '1.6514', 'loss=', '134.040722293')\n",
      "('Epoch:', '0120', 'training time (minutes)=', '1.6444', 'loss=', '134.250220631')\n",
      "INFO:tensorflow:/orions4-zfs/projects/lins2/Panos_Space/DATA/OUT/models/incomplete_pclouds/paper_vanilla_vscan/7_vessel_2048_4096pts_emd/models.ckpt-120 is not in all_model_checkpoint_paths. Manually adding it.\n"
     ]
    },
    {
     "name": "stderr",
     "output_type": "stream",
     "text": [
      "INFO:tensorflow:/orions4-zfs/projects/lins2/Panos_Space/DATA/OUT/models/incomplete_pclouds/paper_vanilla_vscan/7_vessel_2048_4096pts_emd/models.ckpt-120 is not in all_model_checkpoint_paths. Manually adding it.\n"
     ]
    },
    {
     "name": "stdout",
     "output_type": "stream",
     "text": [
      "('Epoch:', '0121', 'training time (minutes)=', '1.6464', 'loss=', '133.634745088')\n",
      "('Epoch:', '0122', 'training time (minutes)=', '1.6423', 'loss=', '133.516863712')\n",
      "('Epoch:', '0123', 'training time (minutes)=', '1.6515', 'loss=', '133.399078147')\n",
      "('Epoch:', '0124', 'training time (minutes)=', '1.6532', 'loss=', '133.142862542')\n",
      "('Epoch:', '0125', 'training time (minutes)=', '1.6515', 'loss=', '132.860169921')\n",
      "INFO:tensorflow:/orions4-zfs/projects/lins2/Panos_Space/DATA/OUT/models/incomplete_pclouds/paper_vanilla_vscan/7_vessel_2048_4096pts_emd/models.ckpt-125 is not in all_model_checkpoint_paths. Manually adding it.\n"
     ]
    },
    {
     "name": "stderr",
     "output_type": "stream",
     "text": [
      "INFO:tensorflow:/orions4-zfs/projects/lins2/Panos_Space/DATA/OUT/models/incomplete_pclouds/paper_vanilla_vscan/7_vessel_2048_4096pts_emd/models.ckpt-125 is not in all_model_checkpoint_paths. Manually adding it.\n"
     ]
    },
    {
     "name": "stdout",
     "output_type": "stream",
     "text": [
      "('Epoch:', '0126', 'training time (minutes)=', '1.6413', 'loss=', '132.548023756')\n",
      "('Epoch:', '0127', 'training time (minutes)=', '1.6505', 'loss=', '133.582650828')\n",
      "('Epoch:', '0128', 'training time (minutes)=', '1.6499', 'loss=', '132.719428040')\n",
      "('Epoch:', '0129', 'training time (minutes)=', '1.6512', 'loss=', '132.782472389')\n",
      "('Epoch:', '0130', 'training time (minutes)=', '1.6557', 'loss=', '132.030460491')\n",
      "INFO:tensorflow:/orions4-zfs/projects/lins2/Panos_Space/DATA/OUT/models/incomplete_pclouds/paper_vanilla_vscan/7_vessel_2048_4096pts_emd/models.ckpt-130 is not in all_model_checkpoint_paths. Manually adding it.\n"
     ]
    },
    {
     "name": "stderr",
     "output_type": "stream",
     "text": [
      "INFO:tensorflow:/orions4-zfs/projects/lins2/Panos_Space/DATA/OUT/models/incomplete_pclouds/paper_vanilla_vscan/7_vessel_2048_4096pts_emd/models.ckpt-130 is not in all_model_checkpoint_paths. Manually adding it.\n"
     ]
    },
    {
     "name": "stdout",
     "output_type": "stream",
     "text": [
      "('Epoch:', '0131', 'training time (minutes)=', '1.6466', 'loss=', '132.010884352')\n",
      "('Epoch:', '0132', 'training time (minutes)=', '1.6535', 'loss=', '131.833287173')\n",
      "('Epoch:', '0133', 'training time (minutes)=', '1.6561', 'loss=', '131.899104717')\n",
      "('Epoch:', '0134', 'training time (minutes)=', '1.6537', 'loss=', '131.542886069')\n",
      "('Epoch:', '0135', 'training time (minutes)=', '1.6533', 'loss=', '131.517323782')\n",
      "INFO:tensorflow:/orions4-zfs/projects/lins2/Panos_Space/DATA/OUT/models/incomplete_pclouds/paper_vanilla_vscan/7_vessel_2048_4096pts_emd/models.ckpt-135 is not in all_model_checkpoint_paths. Manually adding it.\n"
     ]
    },
    {
     "name": "stderr",
     "output_type": "stream",
     "text": [
      "INFO:tensorflow:/orions4-zfs/projects/lins2/Panos_Space/DATA/OUT/models/incomplete_pclouds/paper_vanilla_vscan/7_vessel_2048_4096pts_emd/models.ckpt-135 is not in all_model_checkpoint_paths. Manually adding it.\n"
     ]
    },
    {
     "name": "stdout",
     "output_type": "stream",
     "text": [
      "('Epoch:', '0136', 'training time (minutes)=', '1.6462', 'loss=', '131.734475025')\n",
      "('Epoch:', '0137', 'training time (minutes)=', '1.6502', 'loss=', '131.460101416')\n",
      "('Epoch:', '0138', 'training time (minutes)=', '1.6540', 'loss=', '131.561601018')\n",
      "('Epoch:', '0139', 'training time (minutes)=', '1.6504', 'loss=', '131.047369846')\n",
      "('Epoch:', '0140', 'training time (minutes)=', '1.6442', 'loss=', '130.444597333')\n",
      "INFO:tensorflow:/orions4-zfs/projects/lins2/Panos_Space/DATA/OUT/models/incomplete_pclouds/paper_vanilla_vscan/7_vessel_2048_4096pts_emd/models.ckpt-140 is not in all_model_checkpoint_paths. Manually adding it.\n"
     ]
    },
    {
     "name": "stderr",
     "output_type": "stream",
     "text": [
      "INFO:tensorflow:/orions4-zfs/projects/lins2/Panos_Space/DATA/OUT/models/incomplete_pclouds/paper_vanilla_vscan/7_vessel_2048_4096pts_emd/models.ckpt-140 is not in all_model_checkpoint_paths. Manually adding it.\n"
     ]
    },
    {
     "name": "stdout",
     "output_type": "stream",
     "text": [
      "('Epoch:', '0141', 'training time (minutes)=', '1.6433', 'loss=', '131.058961647')\n",
      "('Epoch:', '0142', 'training time (minutes)=', '1.6529', 'loss=', '131.073740005')\n",
      "('Epoch:', '0143', 'training time (minutes)=', '1.6468', 'loss=', '130.739651347')\n",
      "('Epoch:', '0144', 'training time (minutes)=', '1.6565', 'loss=', '130.748235082')\n",
      "('Epoch:', '0145', 'training time (minutes)=', '1.6491', 'loss=', '130.690912247')\n",
      "INFO:tensorflow:/orions4-zfs/projects/lins2/Panos_Space/DATA/OUT/models/incomplete_pclouds/paper_vanilla_vscan/7_vessel_2048_4096pts_emd/models.ckpt-145 is not in all_model_checkpoint_paths. Manually adding it.\n"
     ]
    },
    {
     "name": "stderr",
     "output_type": "stream",
     "text": [
      "INFO:tensorflow:/orions4-zfs/projects/lins2/Panos_Space/DATA/OUT/models/incomplete_pclouds/paper_vanilla_vscan/7_vessel_2048_4096pts_emd/models.ckpt-145 is not in all_model_checkpoint_paths. Manually adding it.\n"
     ]
    },
    {
     "name": "stdout",
     "output_type": "stream",
     "text": [
      "('Epoch:', '0146', 'training time (minutes)=', '1.6502', 'loss=', '130.115939562')\n",
      "('Epoch:', '0147', 'training time (minutes)=', '1.6547', 'loss=', '130.530022688')\n",
      "('Epoch:', '0148', 'training time (minutes)=', '1.6490', 'loss=', '130.455241669')\n",
      "('Epoch:', '0149', 'training time (minutes)=', '1.6434', 'loss=', '130.224050566')\n",
      "('Epoch:', '0150', 'training time (minutes)=', '1.6543', 'loss=', '130.077941451')\n",
      "INFO:tensorflow:/orions4-zfs/projects/lins2/Panos_Space/DATA/OUT/models/incomplete_pclouds/paper_vanilla_vscan/7_vessel_2048_4096pts_emd/models.ckpt-150 is not in all_model_checkpoint_paths. Manually adding it.\n"
     ]
    },
    {
     "name": "stderr",
     "output_type": "stream",
     "text": [
      "INFO:tensorflow:/orions4-zfs/projects/lins2/Panos_Space/DATA/OUT/models/incomplete_pclouds/paper_vanilla_vscan/7_vessel_2048_4096pts_emd/models.ckpt-150 is not in all_model_checkpoint_paths. Manually adding it.\n"
     ]
    },
    {
     "name": "stdout",
     "output_type": "stream",
     "text": [
      "('Epoch:', '0151', 'training time (minutes)=', '1.6488', 'loss=', '130.262864667')\n",
      "('Epoch:', '0152', 'training time (minutes)=', '1.6424', 'loss=', '129.486846170')\n",
      "('Epoch:', '0153', 'training time (minutes)=', '1.6674', 'loss=', '129.099348689')\n",
      "('Epoch:', '0154', 'training time (minutes)=', '1.6563', 'loss=', '129.249786510')\n",
      "('Epoch:', '0155', 'training time (minutes)=', '1.6571', 'loss=', '129.199127907')\n",
      "INFO:tensorflow:/orions4-zfs/projects/lins2/Panos_Space/DATA/OUT/models/incomplete_pclouds/paper_vanilla_vscan/7_vessel_2048_4096pts_emd/models.ckpt-155 is not in all_model_checkpoint_paths. Manually adding it.\n"
     ]
    },
    {
     "name": "stderr",
     "output_type": "stream",
     "text": [
      "INFO:tensorflow:/orions4-zfs/projects/lins2/Panos_Space/DATA/OUT/models/incomplete_pclouds/paper_vanilla_vscan/7_vessel_2048_4096pts_emd/models.ckpt-155 is not in all_model_checkpoint_paths. Manually adding it.\n"
     ]
    },
    {
     "name": "stdout",
     "output_type": "stream",
     "text": [
      "('Epoch:', '0156', 'training time (minutes)=', '1.6508', 'loss=', '129.332998276')\n",
      "('Epoch:', '0157', 'training time (minutes)=', '1.6527', 'loss=', '129.280683340')\n",
      "('Epoch:', '0158', 'training time (minutes)=', '1.6513', 'loss=', '129.175049760')\n",
      "('Epoch:', '0159', 'training time (minutes)=', '1.6635', 'loss=', '129.030221850')\n",
      "('Epoch:', '0160', 'training time (minutes)=', '1.6471', 'loss=', '129.230860599')\n",
      "INFO:tensorflow:/orions4-zfs/projects/lins2/Panos_Space/DATA/OUT/models/incomplete_pclouds/paper_vanilla_vscan/7_vessel_2048_4096pts_emd/models.ckpt-160 is not in all_model_checkpoint_paths. Manually adding it.\n"
     ]
    },
    {
     "name": "stderr",
     "output_type": "stream",
     "text": [
      "INFO:tensorflow:/orions4-zfs/projects/lins2/Panos_Space/DATA/OUT/models/incomplete_pclouds/paper_vanilla_vscan/7_vessel_2048_4096pts_emd/models.ckpt-160 is not in all_model_checkpoint_paths. Manually adding it.\n"
     ]
    },
    {
     "name": "stdout",
     "output_type": "stream",
     "text": [
      "('Epoch:', '0161', 'training time (minutes)=', '1.6467', 'loss=', '129.637624519')\n",
      "('Epoch:', '0162', 'training time (minutes)=', '1.6379', 'loss=', '128.590232938')\n",
      "('Epoch:', '0163', 'training time (minutes)=', '1.6508', 'loss=', '128.412652393')\n",
      "('Epoch:', '0164', 'training time (minutes)=', '1.6600', 'loss=', '128.216977896')\n",
      "('Epoch:', '0165', 'training time (minutes)=', '1.6525', 'loss=', '127.945975459')\n",
      "INFO:tensorflow:/orions4-zfs/projects/lins2/Panos_Space/DATA/OUT/models/incomplete_pclouds/paper_vanilla_vscan/7_vessel_2048_4096pts_emd/models.ckpt-165 is not in all_model_checkpoint_paths. Manually adding it.\n"
     ]
    },
    {
     "name": "stderr",
     "output_type": "stream",
     "text": [
      "INFO:tensorflow:/orions4-zfs/projects/lins2/Panos_Space/DATA/OUT/models/incomplete_pclouds/paper_vanilla_vscan/7_vessel_2048_4096pts_emd/models.ckpt-165 is not in all_model_checkpoint_paths. Manually adding it.\n"
     ]
    },
    {
     "name": "stdout",
     "output_type": "stream",
     "text": [
      "('Epoch:', '0166', 'training time (minutes)=', '1.6451', 'loss=', '128.675141179')\n",
      "('Epoch:', '0167', 'training time (minutes)=', '1.6507', 'loss=', '128.755634574')\n",
      "('Epoch:', '0168', 'training time (minutes)=', '1.6543', 'loss=', '127.829035737')\n",
      "('Epoch:', '0169', 'training time (minutes)=', '1.6425', 'loss=', '127.912007798')\n",
      "('Epoch:', '0170', 'training time (minutes)=', '1.6474', 'loss=', '128.129451086')\n",
      "INFO:tensorflow:/orions4-zfs/projects/lins2/Panos_Space/DATA/OUT/models/incomplete_pclouds/paper_vanilla_vscan/7_vessel_2048_4096pts_emd/models.ckpt-170 is not in all_model_checkpoint_paths. Manually adding it.\n"
     ]
    },
    {
     "name": "stderr",
     "output_type": "stream",
     "text": [
      "INFO:tensorflow:/orions4-zfs/projects/lins2/Panos_Space/DATA/OUT/models/incomplete_pclouds/paper_vanilla_vscan/7_vessel_2048_4096pts_emd/models.ckpt-170 is not in all_model_checkpoint_paths. Manually adding it.\n"
     ]
    },
    {
     "name": "stdout",
     "output_type": "stream",
     "text": [
      "('Epoch:', '0171', 'training time (minutes)=', '1.6476', 'loss=', '128.312178723')\n",
      "('Epoch:', '0172', 'training time (minutes)=', '1.6478', 'loss=', '128.353594713')\n",
      "('Epoch:', '0173', 'training time (minutes)=', '1.6507', 'loss=', '128.158435777')\n",
      "('Epoch:', '0174', 'training time (minutes)=', '1.6523', 'loss=', '128.673280938')\n",
      "('Epoch:', '0175', 'training time (minutes)=', '1.6596', 'loss=', '127.648890296')\n",
      "INFO:tensorflow:/orions4-zfs/projects/lins2/Panos_Space/DATA/OUT/models/incomplete_pclouds/paper_vanilla_vscan/7_vessel_2048_4096pts_emd/models.ckpt-175 is not in all_model_checkpoint_paths. Manually adding it.\n"
     ]
    },
    {
     "name": "stderr",
     "output_type": "stream",
     "text": [
      "INFO:tensorflow:/orions4-zfs/projects/lins2/Panos_Space/DATA/OUT/models/incomplete_pclouds/paper_vanilla_vscan/7_vessel_2048_4096pts_emd/models.ckpt-175 is not in all_model_checkpoint_paths. Manually adding it.\n"
     ]
    },
    {
     "name": "stdout",
     "output_type": "stream",
     "text": [
      "('Epoch:', '0176', 'training time (minutes)=', '1.6556', 'loss=', '127.208504876')\n",
      "('Epoch:', '0177', 'training time (minutes)=', '1.6534', 'loss=', '127.214420629')\n",
      "('Epoch:', '0178', 'training time (minutes)=', '1.6697', 'loss=', '126.989516813')\n",
      "('Epoch:', '0179', 'training time (minutes)=', '1.6569', 'loss=', '127.397956671')\n",
      "('Epoch:', '0180', 'training time (minutes)=', '1.6582', 'loss=', '126.987045865')\n",
      "INFO:tensorflow:/orions4-zfs/projects/lins2/Panos_Space/DATA/OUT/models/incomplete_pclouds/paper_vanilla_vscan/7_vessel_2048_4096pts_emd/models.ckpt-180 is not in all_model_checkpoint_paths. Manually adding it.\n"
     ]
    },
    {
     "name": "stderr",
     "output_type": "stream",
     "text": [
      "INFO:tensorflow:/orions4-zfs/projects/lins2/Panos_Space/DATA/OUT/models/incomplete_pclouds/paper_vanilla_vscan/7_vessel_2048_4096pts_emd/models.ckpt-180 is not in all_model_checkpoint_paths. Manually adding it.\n"
     ]
    },
    {
     "name": "stdout",
     "output_type": "stream",
     "text": [
      "('Epoch:', '0181', 'training time (minutes)=', '1.6661', 'loss=', '126.907520294')\n",
      "('Epoch:', '0182', 'training time (minutes)=', '1.6674', 'loss=', '127.307123894')\n",
      "('Epoch:', '0183', 'training time (minutes)=', '1.6588', 'loss=', '126.596786854')\n",
      "('Epoch:', '0184', 'training time (minutes)=', '1.6645', 'loss=', '126.807536280')\n",
      "('Epoch:', '0185', 'training time (minutes)=', '1.6600', 'loss=', '126.661874815')\n",
      "INFO:tensorflow:/orions4-zfs/projects/lins2/Panos_Space/DATA/OUT/models/incomplete_pclouds/paper_vanilla_vscan/7_vessel_2048_4096pts_emd/models.ckpt-185 is not in all_model_checkpoint_paths. Manually adding it.\n"
     ]
    },
    {
     "name": "stderr",
     "output_type": "stream",
     "text": [
      "INFO:tensorflow:/orions4-zfs/projects/lins2/Panos_Space/DATA/OUT/models/incomplete_pclouds/paper_vanilla_vscan/7_vessel_2048_4096pts_emd/models.ckpt-185 is not in all_model_checkpoint_paths. Manually adding it.\n"
     ]
    },
    {
     "name": "stdout",
     "output_type": "stream",
     "text": [
      "('Epoch:', '0186', 'training time (minutes)=', '1.6482', 'loss=', '126.679800876')\n",
      "('Epoch:', '0187', 'training time (minutes)=', '1.6403', 'loss=', '126.327066333')\n",
      "('Epoch:', '0188', 'training time (minutes)=', '1.6438', 'loss=', '126.646348510')\n",
      "('Epoch:', '0189', 'training time (minutes)=', '1.6899', 'loss=', '126.287258414')\n",
      "('Epoch:', '0190', 'training time (minutes)=', '1.6574', 'loss=', '126.390771200')\n",
      "INFO:tensorflow:/orions4-zfs/projects/lins2/Panos_Space/DATA/OUT/models/incomplete_pclouds/paper_vanilla_vscan/7_vessel_2048_4096pts_emd/models.ckpt-190 is not in all_model_checkpoint_paths. Manually adding it.\n"
     ]
    },
    {
     "name": "stderr",
     "output_type": "stream",
     "text": [
      "INFO:tensorflow:/orions4-zfs/projects/lins2/Panos_Space/DATA/OUT/models/incomplete_pclouds/paper_vanilla_vscan/7_vessel_2048_4096pts_emd/models.ckpt-190 is not in all_model_checkpoint_paths. Manually adding it.\n"
     ]
    },
    {
     "name": "stdout",
     "output_type": "stream",
     "text": [
      "('Epoch:', '0191', 'training time (minutes)=', '1.6508', 'loss=', '126.709485298')\n",
      "('Epoch:', '0192', 'training time (minutes)=', '1.6528', 'loss=', '126.422747279')\n",
      "('Epoch:', '0193', 'training time (minutes)=', '1.6613', 'loss=', '126.245218632')\n",
      "('Epoch:', '0194', 'training time (minutes)=', '1.6413', 'loss=', '126.091832893')\n",
      "('Epoch:', '0195', 'training time (minutes)=', '1.6454', 'loss=', '126.418579235')\n",
      "INFO:tensorflow:/orions4-zfs/projects/lins2/Panos_Space/DATA/OUT/models/incomplete_pclouds/paper_vanilla_vscan/7_vessel_2048_4096pts_emd/models.ckpt-195 is not in all_model_checkpoint_paths. Manually adding it.\n"
     ]
    },
    {
     "name": "stderr",
     "output_type": "stream",
     "text": [
      "INFO:tensorflow:/orions4-zfs/projects/lins2/Panos_Space/DATA/OUT/models/incomplete_pclouds/paper_vanilla_vscan/7_vessel_2048_4096pts_emd/models.ckpt-195 is not in all_model_checkpoint_paths. Manually adding it.\n"
     ]
    },
    {
     "name": "stdout",
     "output_type": "stream",
     "text": [
      "('Epoch:', '0196', 'training time (minutes)=', '1.6463', 'loss=', '125.669481455')\n",
      "('Epoch:', '0197', 'training time (minutes)=', '1.6528', 'loss=', '125.978728627')\n",
      "('Epoch:', '0198', 'training time (minutes)=', '1.6540', 'loss=', '126.120001017')\n",
      "('Epoch:', '0199', 'training time (minutes)=', '1.6505', 'loss=', '125.740195607')\n",
      "('Epoch:', '0200', 'training time (minutes)=', '1.6505', 'loss=', '125.880215534')\n",
      "INFO:tensorflow:/orions4-zfs/projects/lins2/Panos_Space/DATA/OUT/models/incomplete_pclouds/paper_vanilla_vscan/7_vessel_2048_4096pts_emd/models.ckpt-200 is not in all_model_checkpoint_paths. Manually adding it.\n"
     ]
    },
    {
     "name": "stderr",
     "output_type": "stream",
     "text": [
      "INFO:tensorflow:/orions4-zfs/projects/lins2/Panos_Space/DATA/OUT/models/incomplete_pclouds/paper_vanilla_vscan/7_vessel_2048_4096pts_emd/models.ckpt-200 is not in all_model_checkpoint_paths. Manually adding it.\n"
     ]
    },
    {
     "name": "stdout",
     "output_type": "stream",
     "text": [
      "('Epoch:', '0201', 'training time (minutes)=', '1.6457', 'loss=', '125.832477924')\n",
      "('Epoch:', '0202', 'training time (minutes)=', '1.6410', 'loss=', '125.532422265')\n",
      "('Epoch:', '0203', 'training time (minutes)=', '1.6479', 'loss=', '125.143310946')\n",
      "('Epoch:', '0204', 'training time (minutes)=', '1.6480', 'loss=', '125.395690563')\n",
      "('Epoch:', '0205', 'training time (minutes)=', '1.6411', 'loss=', '125.868256769')\n",
      "INFO:tensorflow:/orions4-zfs/projects/lins2/Panos_Space/DATA/OUT/models/incomplete_pclouds/paper_vanilla_vscan/7_vessel_2048_4096pts_emd/models.ckpt-205 is not in all_model_checkpoint_paths. Manually adding it.\n"
     ]
    },
    {
     "name": "stderr",
     "output_type": "stream",
     "text": [
      "INFO:tensorflow:/orions4-zfs/projects/lins2/Panos_Space/DATA/OUT/models/incomplete_pclouds/paper_vanilla_vscan/7_vessel_2048_4096pts_emd/models.ckpt-205 is not in all_model_checkpoint_paths. Manually adding it.\n"
     ]
    },
    {
     "name": "stdout",
     "output_type": "stream",
     "text": [
      "('Epoch:', '0206', 'training time (minutes)=', '1.6536', 'loss=', '125.183262492')\n",
      "('Epoch:', '0207', 'training time (minutes)=', '1.6415', 'loss=', '125.221294714')\n",
      "('Epoch:', '0208', 'training time (minutes)=', '1.6453', 'loss=', '125.463054879')\n",
      "('Epoch:', '0209', 'training time (minutes)=', '1.6577', 'loss=', '125.286537614')\n",
      "('Epoch:', '0210', 'training time (minutes)=', '1.6434', 'loss=', '125.440611374')\n",
      "INFO:tensorflow:/orions4-zfs/projects/lins2/Panos_Space/DATA/OUT/models/incomplete_pclouds/paper_vanilla_vscan/7_vessel_2048_4096pts_emd/models.ckpt-210 is not in all_model_checkpoint_paths. Manually adding it.\n"
     ]
    },
    {
     "name": "stderr",
     "output_type": "stream",
     "text": [
      "INFO:tensorflow:/orions4-zfs/projects/lins2/Panos_Space/DATA/OUT/models/incomplete_pclouds/paper_vanilla_vscan/7_vessel_2048_4096pts_emd/models.ckpt-210 is not in all_model_checkpoint_paths. Manually adding it.\n"
     ]
    },
    {
     "name": "stdout",
     "output_type": "stream",
     "text": [
      "('Epoch:', '0211', 'training time (minutes)=', '1.6463', 'loss=', '124.365268485')\n",
      "('Epoch:', '0212', 'training time (minutes)=', '1.6509', 'loss=', '125.597101699')\n",
      "('Epoch:', '0213', 'training time (minutes)=', '1.6557', 'loss=', '125.006470924')\n",
      "('Epoch:', '0214', 'training time (minutes)=', '1.6521', 'loss=', '124.963446506')\n",
      "('Epoch:', '0215', 'training time (minutes)=', '1.6513', 'loss=', '125.040266081')\n",
      "INFO:tensorflow:/orions4-zfs/projects/lins2/Panos_Space/DATA/OUT/models/incomplete_pclouds/paper_vanilla_vscan/7_vessel_2048_4096pts_emd/models.ckpt-215 is not in all_model_checkpoint_paths. Manually adding it.\n"
     ]
    },
    {
     "name": "stderr",
     "output_type": "stream",
     "text": [
      "INFO:tensorflow:/orions4-zfs/projects/lins2/Panos_Space/DATA/OUT/models/incomplete_pclouds/paper_vanilla_vscan/7_vessel_2048_4096pts_emd/models.ckpt-215 is not in all_model_checkpoint_paths. Manually adding it.\n"
     ]
    },
    {
     "name": "stdout",
     "output_type": "stream",
     "text": [
      "('Epoch:', '0216', 'training time (minutes)=', '1.6455', 'loss=', '124.173827815')\n",
      "('Epoch:', '0217', 'training time (minutes)=', '1.6427', 'loss=', '124.558682153')\n",
      "('Epoch:', '0218', 'training time (minutes)=', '1.6524', 'loss=', '125.258455365')\n",
      "('Epoch:', '0219', 'training time (minutes)=', '1.6442', 'loss=', '124.334560394')\n",
      "('Epoch:', '0220', 'training time (minutes)=', '1.6477', 'loss=', '124.289580500')\n",
      "INFO:tensorflow:/orions4-zfs/projects/lins2/Panos_Space/DATA/OUT/models/incomplete_pclouds/paper_vanilla_vscan/7_vessel_2048_4096pts_emd/models.ckpt-220 is not in all_model_checkpoint_paths. Manually adding it.\n"
     ]
    },
    {
     "name": "stderr",
     "output_type": "stream",
     "text": [
      "INFO:tensorflow:/orions4-zfs/projects/lins2/Panos_Space/DATA/OUT/models/incomplete_pclouds/paper_vanilla_vscan/7_vessel_2048_4096pts_emd/models.ckpt-220 is not in all_model_checkpoint_paths. Manually adding it.\n"
     ]
    },
    {
     "name": "stdout",
     "output_type": "stream",
     "text": [
      "('Epoch:', '0221', 'training time (minutes)=', '1.6501', 'loss=', '124.478874251')\n",
      "('Epoch:', '0222', 'training time (minutes)=', '1.6469', 'loss=', '124.445985617')\n",
      "('Epoch:', '0223', 'training time (minutes)=', '1.6608', 'loss=', '124.744877483')\n",
      "('Epoch:', '0224', 'training time (minutes)=', '1.6566', 'loss=', '124.440509131')\n",
      "('Epoch:', '0225', 'training time (minutes)=', '1.6481', 'loss=', '123.996946069')\n",
      "INFO:tensorflow:/orions4-zfs/projects/lins2/Panos_Space/DATA/OUT/models/incomplete_pclouds/paper_vanilla_vscan/7_vessel_2048_4096pts_emd/models.ckpt-225 is not in all_model_checkpoint_paths. Manually adding it.\n"
     ]
    },
    {
     "name": "stderr",
     "output_type": "stream",
     "text": [
      "INFO:tensorflow:/orions4-zfs/projects/lins2/Panos_Space/DATA/OUT/models/incomplete_pclouds/paper_vanilla_vscan/7_vessel_2048_4096pts_emd/models.ckpt-225 is not in all_model_checkpoint_paths. Manually adding it.\n"
     ]
    },
    {
     "name": "stdout",
     "output_type": "stream",
     "text": [
      "('Epoch:', '0226', 'training time (minutes)=', '1.6475', 'loss=', '123.844403511')\n",
      "('Epoch:', '0227', 'training time (minutes)=', '1.6444', 'loss=', '124.152492257')\n",
      "('Epoch:', '0228', 'training time (minutes)=', '1.6569', 'loss=', '123.913454011')\n",
      "('Epoch:', '0229', 'training time (minutes)=', '1.6530', 'loss=', '123.940240594')\n",
      "('Epoch:', '0230', 'training time (minutes)=', '1.6425', 'loss=', '124.137754840')\n",
      "INFO:tensorflow:/orions4-zfs/projects/lins2/Panos_Space/DATA/OUT/models/incomplete_pclouds/paper_vanilla_vscan/7_vessel_2048_4096pts_emd/models.ckpt-230 is not in all_model_checkpoint_paths. Manually adding it.\n"
     ]
    },
    {
     "name": "stderr",
     "output_type": "stream",
     "text": [
      "INFO:tensorflow:/orions4-zfs/projects/lins2/Panos_Space/DATA/OUT/models/incomplete_pclouds/paper_vanilla_vscan/7_vessel_2048_4096pts_emd/models.ckpt-230 is not in all_model_checkpoint_paths. Manually adding it.\n"
     ]
    },
    {
     "name": "stdout",
     "output_type": "stream",
     "text": [
      "('Epoch:', '0231', 'training time (minutes)=', '1.6556', 'loss=', '123.943375876')\n",
      "('Epoch:', '0232', 'training time (minutes)=', '1.6536', 'loss=', '123.655444478')\n",
      "('Epoch:', '0233', 'training time (minutes)=', '1.6482', 'loss=', '123.749207608')\n",
      "('Epoch:', '0234', 'training time (minutes)=', '1.6450', 'loss=', '123.755055184')\n",
      "('Epoch:', '0235', 'training time (minutes)=', '1.6433', 'loss=', '123.367727413')\n",
      "INFO:tensorflow:/orions4-zfs/projects/lins2/Panos_Space/DATA/OUT/models/incomplete_pclouds/paper_vanilla_vscan/7_vessel_2048_4096pts_emd/models.ckpt-235 is not in all_model_checkpoint_paths. Manually adding it.\n"
     ]
    },
    {
     "name": "stderr",
     "output_type": "stream",
     "text": [
      "INFO:tensorflow:/orions4-zfs/projects/lins2/Panos_Space/DATA/OUT/models/incomplete_pclouds/paper_vanilla_vscan/7_vessel_2048_4096pts_emd/models.ckpt-235 is not in all_model_checkpoint_paths. Manually adding it.\n"
     ]
    },
    {
     "name": "stdout",
     "output_type": "stream",
     "text": [
      "('Epoch:', '0236', 'training time (minutes)=', '1.6477', 'loss=', '123.634984260')\n",
      "('Epoch:', '0237', 'training time (minutes)=', '1.6533', 'loss=', '123.355590554')\n",
      "('Epoch:', '0238', 'training time (minutes)=', '1.6431', 'loss=', '123.399000035')\n",
      "('Epoch:', '0239', 'training time (minutes)=', '1.6514', 'loss=', '123.130925289')\n",
      "('Epoch:', '0240', 'training time (minutes)=', '1.6528', 'loss=', '123.839403995')\n",
      "INFO:tensorflow:/orions4-zfs/projects/lins2/Panos_Space/DATA/OUT/models/incomplete_pclouds/paper_vanilla_vscan/7_vessel_2048_4096pts_emd/models.ckpt-240 is not in all_model_checkpoint_paths. Manually adding it.\n"
     ]
    },
    {
     "name": "stderr",
     "output_type": "stream",
     "text": [
      "INFO:tensorflow:/orions4-zfs/projects/lins2/Panos_Space/DATA/OUT/models/incomplete_pclouds/paper_vanilla_vscan/7_vessel_2048_4096pts_emd/models.ckpt-240 is not in all_model_checkpoint_paths. Manually adding it.\n"
     ]
    },
    {
     "name": "stdout",
     "output_type": "stream",
     "text": [
      "('Epoch:', '0241', 'training time (minutes)=', '1.6461', 'loss=', '123.434522540')\n",
      "('Epoch:', '0242', 'training time (minutes)=', '1.6464', 'loss=', '123.730725887')\n",
      "('Epoch:', '0243', 'training time (minutes)=', '1.6438', 'loss=', '123.434148434')\n",
      "('Epoch:', '0244', 'training time (minutes)=', '1.6693', 'loss=', '122.976418828')\n",
      "('Epoch:', '0245', 'training time (minutes)=', '1.6585', 'loss=', '123.246564688')\n",
      "INFO:tensorflow:/orions4-zfs/projects/lins2/Panos_Space/DATA/OUT/models/incomplete_pclouds/paper_vanilla_vscan/7_vessel_2048_4096pts_emd/models.ckpt-245 is not in all_model_checkpoint_paths. Manually adding it.\n"
     ]
    },
    {
     "name": "stderr",
     "output_type": "stream",
     "text": [
      "INFO:tensorflow:/orions4-zfs/projects/lins2/Panos_Space/DATA/OUT/models/incomplete_pclouds/paper_vanilla_vscan/7_vessel_2048_4096pts_emd/models.ckpt-245 is not in all_model_checkpoint_paths. Manually adding it.\n"
     ]
    },
    {
     "name": "stdout",
     "output_type": "stream",
     "text": [
      "('Epoch:', '0246', 'training time (minutes)=', '1.6384', 'loss=', '123.248014007')\n",
      "('Epoch:', '0247', 'training time (minutes)=', '1.6533', 'loss=', '123.238697407')\n",
      "('Epoch:', '0248', 'training time (minutes)=', '1.6479', 'loss=', '122.666062200')\n",
      "('Epoch:', '0249', 'training time (minutes)=', '1.6649', 'loss=', '123.421852822')\n",
      "('Epoch:', '0250', 'training time (minutes)=', '1.6510', 'loss=', '122.851372608')\n",
      "INFO:tensorflow:/orions4-zfs/projects/lins2/Panos_Space/DATA/OUT/models/incomplete_pclouds/paper_vanilla_vscan/7_vessel_2048_4096pts_emd/models.ckpt-250 is not in all_model_checkpoint_paths. Manually adding it.\n"
     ]
    },
    {
     "name": "stderr",
     "output_type": "stream",
     "text": [
      "INFO:tensorflow:/orions4-zfs/projects/lins2/Panos_Space/DATA/OUT/models/incomplete_pclouds/paper_vanilla_vscan/7_vessel_2048_4096pts_emd/models.ckpt-250 is not in all_model_checkpoint_paths. Manually adding it.\n"
     ]
    },
    {
     "name": "stdout",
     "output_type": "stream",
     "text": [
      "('Epoch:', '0251', 'training time (minutes)=', '1.6372', 'loss=', '122.705867723')\n",
      "('Epoch:', '0252', 'training time (minutes)=', '1.6526', 'loss=', '122.544782772')\n",
      "('Epoch:', '0253', 'training time (minutes)=', '1.6412', 'loss=', '122.845970109')\n",
      "('Epoch:', '0254', 'training time (minutes)=', '1.6556', 'loss=', '122.750192021')\n",
      "('Epoch:', '0255', 'training time (minutes)=', '1.6475', 'loss=', '122.674084508')\n",
      "INFO:tensorflow:/orions4-zfs/projects/lins2/Panos_Space/DATA/OUT/models/incomplete_pclouds/paper_vanilla_vscan/7_vessel_2048_4096pts_emd/models.ckpt-255 is not in all_model_checkpoint_paths. Manually adding it.\n"
     ]
    },
    {
     "name": "stderr",
     "output_type": "stream",
     "text": [
      "INFO:tensorflow:/orions4-zfs/projects/lins2/Panos_Space/DATA/OUT/models/incomplete_pclouds/paper_vanilla_vscan/7_vessel_2048_4096pts_emd/models.ckpt-255 is not in all_model_checkpoint_paths. Manually adding it.\n"
     ]
    },
    {
     "name": "stdout",
     "output_type": "stream",
     "text": [
      "('Epoch:', '0256', 'training time (minutes)=', '1.6538', 'loss=', '122.198739251')\n",
      "('Epoch:', '0257', 'training time (minutes)=', '1.6516', 'loss=', '122.337895948')\n",
      "('Epoch:', '0258', 'training time (minutes)=', '1.6544', 'loss=', '122.646709531')\n",
      "('Epoch:', '0259', 'training time (minutes)=', '1.6472', 'loss=', '122.343507811')\n",
      "('Epoch:', '0260', 'training time (minutes)=', '1.6445', 'loss=', '122.131048912')\n",
      "INFO:tensorflow:/orions4-zfs/projects/lins2/Panos_Space/DATA/OUT/models/incomplete_pclouds/paper_vanilla_vscan/7_vessel_2048_4096pts_emd/models.ckpt-260 is not in all_model_checkpoint_paths. Manually adding it.\n"
     ]
    },
    {
     "name": "stderr",
     "output_type": "stream",
     "text": [
      "INFO:tensorflow:/orions4-zfs/projects/lins2/Panos_Space/DATA/OUT/models/incomplete_pclouds/paper_vanilla_vscan/7_vessel_2048_4096pts_emd/models.ckpt-260 is not in all_model_checkpoint_paths. Manually adding it.\n"
     ]
    },
    {
     "name": "stdout",
     "output_type": "stream",
     "text": [
      "('Epoch:', '0261', 'training time (minutes)=', '1.6505', 'loss=', '122.432733003')\n",
      "('Epoch:', '0262', 'training time (minutes)=', '1.6505', 'loss=', '122.241304886')\n",
      "('Epoch:', '0263', 'training time (minutes)=', '1.6516', 'loss=', '122.131132259')\n",
      "('Epoch:', '0264', 'training time (minutes)=', '1.6524', 'loss=', '122.008626760')\n",
      "('Epoch:', '0265', 'training time (minutes)=', '1.6566', 'loss=', '122.050633896')\n",
      "INFO:tensorflow:/orions4-zfs/projects/lins2/Panos_Space/DATA/OUT/models/incomplete_pclouds/paper_vanilla_vscan/7_vessel_2048_4096pts_emd/models.ckpt-265 is not in all_model_checkpoint_paths. Manually adding it.\n"
     ]
    },
    {
     "name": "stderr",
     "output_type": "stream",
     "text": [
      "INFO:tensorflow:/orions4-zfs/projects/lins2/Panos_Space/DATA/OUT/models/incomplete_pclouds/paper_vanilla_vscan/7_vessel_2048_4096pts_emd/models.ckpt-265 is not in all_model_checkpoint_paths. Manually adding it.\n"
     ]
    },
    {
     "name": "stdout",
     "output_type": "stream",
     "text": [
      "('Epoch:', '0266', 'training time (minutes)=', '1.6615', 'loss=', '122.160510440')\n",
      "('Epoch:', '0267', 'training time (minutes)=', '1.6470', 'loss=', '122.146448135')\n",
      "('Epoch:', '0268', 'training time (minutes)=', '1.6511', 'loss=', '121.694317884')\n",
      "('Epoch:', '0269', 'training time (minutes)=', '1.6538', 'loss=', '121.761623338')\n",
      "('Epoch:', '0270', 'training time (minutes)=', '1.6553', 'loss=', '121.781962018')\n",
      "INFO:tensorflow:/orions4-zfs/projects/lins2/Panos_Space/DATA/OUT/models/incomplete_pclouds/paper_vanilla_vscan/7_vessel_2048_4096pts_emd/models.ckpt-270 is not in all_model_checkpoint_paths. Manually adding it.\n"
     ]
    },
    {
     "name": "stderr",
     "output_type": "stream",
     "text": [
      "INFO:tensorflow:/orions4-zfs/projects/lins2/Panos_Space/DATA/OUT/models/incomplete_pclouds/paper_vanilla_vscan/7_vessel_2048_4096pts_emd/models.ckpt-270 is not in all_model_checkpoint_paths. Manually adding it.\n"
     ]
    },
    {
     "name": "stdout",
     "output_type": "stream",
     "text": [
      "('Epoch:', '0271', 'training time (minutes)=', '1.6448', 'loss=', '121.608437516')\n",
      "('Epoch:', '0272', 'training time (minutes)=', '1.6577', 'loss=', '121.464721635')\n",
      "('Epoch:', '0273', 'training time (minutes)=', '1.6583', 'loss=', '121.817101456')\n",
      "('Epoch:', '0274', 'training time (minutes)=', '1.6566', 'loss=', '121.725072018')\n",
      "('Epoch:', '0275', 'training time (minutes)=', '1.6556', 'loss=', '121.598865864')\n",
      "INFO:tensorflow:/orions4-zfs/projects/lins2/Panos_Space/DATA/OUT/models/incomplete_pclouds/paper_vanilla_vscan/7_vessel_2048_4096pts_emd/models.ckpt-275 is not in all_model_checkpoint_paths. Manually adding it.\n"
     ]
    },
    {
     "name": "stderr",
     "output_type": "stream",
     "text": [
      "INFO:tensorflow:/orions4-zfs/projects/lins2/Panos_Space/DATA/OUT/models/incomplete_pclouds/paper_vanilla_vscan/7_vessel_2048_4096pts_emd/models.ckpt-275 is not in all_model_checkpoint_paths. Manually adding it.\n"
     ]
    },
    {
     "name": "stdout",
     "output_type": "stream",
     "text": [
      "('Epoch:', '0276', 'training time (minutes)=', '1.6442', 'loss=', '121.946826669')\n",
      "('Epoch:', '0277', 'training time (minutes)=', '1.6648', 'loss=', '121.560358447')\n",
      "('Epoch:', '0278', 'training time (minutes)=', '1.6593', 'loss=', '121.317795953')\n",
      "('Epoch:', '0279', 'training time (minutes)=', '1.6566', 'loss=', '121.231578738')\n",
      "('Epoch:', '0280', 'training time (minutes)=', '1.6538', 'loss=', '121.489774349')\n",
      "INFO:tensorflow:/orions4-zfs/projects/lins2/Panos_Space/DATA/OUT/models/incomplete_pclouds/paper_vanilla_vscan/7_vessel_2048_4096pts_emd/models.ckpt-280 is not in all_model_checkpoint_paths. Manually adding it.\n"
     ]
    },
    {
     "name": "stderr",
     "output_type": "stream",
     "text": [
      "INFO:tensorflow:/orions4-zfs/projects/lins2/Panos_Space/DATA/OUT/models/incomplete_pclouds/paper_vanilla_vscan/7_vessel_2048_4096pts_emd/models.ckpt-280 is not in all_model_checkpoint_paths. Manually adding it.\n"
     ]
    },
    {
     "name": "stdout",
     "output_type": "stream",
     "text": [
      "('Epoch:', '0281', 'training time (minutes)=', '1.6529', 'loss=', '121.511957967')\n",
      "('Epoch:', '0282', 'training time (minutes)=', '1.6747', 'loss=', '121.580057055')\n",
      "('Epoch:', '0283', 'training time (minutes)=', '1.6481', 'loss=', '121.161877122')\n",
      "('Epoch:', '0284', 'training time (minutes)=', '1.6565', 'loss=', '121.324921054')\n",
      "('Epoch:', '0285', 'training time (minutes)=', '1.6509', 'loss=', '121.396954692')\n",
      "INFO:tensorflow:/orions4-zfs/projects/lins2/Panos_Space/DATA/OUT/models/incomplete_pclouds/paper_vanilla_vscan/7_vessel_2048_4096pts_emd/models.ckpt-285 is not in all_model_checkpoint_paths. Manually adding it.\n"
     ]
    },
    {
     "name": "stderr",
     "output_type": "stream",
     "text": [
      "INFO:tensorflow:/orions4-zfs/projects/lins2/Panos_Space/DATA/OUT/models/incomplete_pclouds/paper_vanilla_vscan/7_vessel_2048_4096pts_emd/models.ckpt-285 is not in all_model_checkpoint_paths. Manually adding it.\n"
     ]
    },
    {
     "name": "stdout",
     "output_type": "stream",
     "text": [
      "('Epoch:', '0286', 'training time (minutes)=', '1.6442', 'loss=', '121.385682527')\n",
      "('Epoch:', '0287', 'training time (minutes)=', '1.6465', 'loss=', '120.684879747')\n",
      "('Epoch:', '0288', 'training time (minutes)=', '1.6423', 'loss=', '121.163713145')\n",
      "('Epoch:', '0289', 'training time (minutes)=', '1.6526', 'loss=', '121.088016111')\n",
      "('Epoch:', '0290', 'training time (minutes)=', '1.6670', 'loss=', '120.722326190')\n",
      "INFO:tensorflow:/orions4-zfs/projects/lins2/Panos_Space/DATA/OUT/models/incomplete_pclouds/paper_vanilla_vscan/7_vessel_2048_4096pts_emd/models.ckpt-290 is not in all_model_checkpoint_paths. Manually adding it.\n"
     ]
    },
    {
     "name": "stderr",
     "output_type": "stream",
     "text": [
      "INFO:tensorflow:/orions4-zfs/projects/lins2/Panos_Space/DATA/OUT/models/incomplete_pclouds/paper_vanilla_vscan/7_vessel_2048_4096pts_emd/models.ckpt-290 is not in all_model_checkpoint_paths. Manually adding it.\n"
     ]
    },
    {
     "name": "stdout",
     "output_type": "stream",
     "text": [
      "('Epoch:', '0291', 'training time (minutes)=', '1.6462', 'loss=', '121.264449541')\n",
      "('Epoch:', '0292', 'training time (minutes)=', '1.6484', 'loss=', '121.022881175')\n",
      "('Epoch:', '0293', 'training time (minutes)=', '1.6519', 'loss=', '120.659603163')\n",
      "('Epoch:', '0294', 'training time (minutes)=', '1.6524', 'loss=', '120.928705215')\n",
      "('Epoch:', '0295', 'training time (minutes)=', '1.6524', 'loss=', '121.099914950')\n",
      "INFO:tensorflow:/orions4-zfs/projects/lins2/Panos_Space/DATA/OUT/models/incomplete_pclouds/paper_vanilla_vscan/7_vessel_2048_4096pts_emd/models.ckpt-295 is not in all_model_checkpoint_paths. Manually adding it.\n"
     ]
    },
    {
     "name": "stderr",
     "output_type": "stream",
     "text": [
      "INFO:tensorflow:/orions4-zfs/projects/lins2/Panos_Space/DATA/OUT/models/incomplete_pclouds/paper_vanilla_vscan/7_vessel_2048_4096pts_emd/models.ckpt-295 is not in all_model_checkpoint_paths. Manually adding it.\n"
     ]
    },
    {
     "name": "stdout",
     "output_type": "stream",
     "text": [
      "('Epoch:', '0296', 'training time (minutes)=', '1.6467', 'loss=', '120.848019223')\n",
      "('Epoch:', '0297', 'training time (minutes)=', '1.6455', 'loss=', '120.911009766')\n",
      "('Epoch:', '0298', 'training time (minutes)=', '1.6447', 'loss=', '120.488034004')\n",
      "('Epoch:', '0299', 'training time (minutes)=', '1.6589', 'loss=', '120.759134692')\n",
      "('Epoch:', '0300', 'training time (minutes)=', '1.6572', 'loss=', '120.726071646')\n",
      "INFO:tensorflow:/orions4-zfs/projects/lins2/Panos_Space/DATA/OUT/models/incomplete_pclouds/paper_vanilla_vscan/7_vessel_2048_4096pts_emd/models.ckpt-300 is not in all_model_checkpoint_paths. Manually adding it.\n"
     ]
    },
    {
     "name": "stderr",
     "output_type": "stream",
     "text": [
      "INFO:tensorflow:/orions4-zfs/projects/lins2/Panos_Space/DATA/OUT/models/incomplete_pclouds/paper_vanilla_vscan/7_vessel_2048_4096pts_emd/models.ckpt-300 is not in all_model_checkpoint_paths. Manually adding it.\n"
     ]
    },
    {
     "name": "stdout",
     "output_type": "stream",
     "text": [
      "('Epoch:', '0301', 'training time (minutes)=', '1.6469', 'loss=', '120.553117708')\n",
      "('Epoch:', '0302', 'training time (minutes)=', '1.6545', 'loss=', '120.458406404')\n",
      "('Epoch:', '0303', 'training time (minutes)=', '1.6482', 'loss=', '120.931126306')\n",
      "('Epoch:', '0304', 'training time (minutes)=', '1.6542', 'loss=', '120.475213783')\n",
      "('Epoch:', '0305', 'training time (minutes)=', '1.6633', 'loss=', '120.412606173')\n",
      "INFO:tensorflow:/orions4-zfs/projects/lins2/Panos_Space/DATA/OUT/models/incomplete_pclouds/paper_vanilla_vscan/7_vessel_2048_4096pts_emd/models.ckpt-305 is not in all_model_checkpoint_paths. Manually adding it.\n"
     ]
    },
    {
     "name": "stderr",
     "output_type": "stream",
     "text": [
      "INFO:tensorflow:/orions4-zfs/projects/lins2/Panos_Space/DATA/OUT/models/incomplete_pclouds/paper_vanilla_vscan/7_vessel_2048_4096pts_emd/models.ckpt-305 is not in all_model_checkpoint_paths. Manually adding it.\n"
     ]
    },
    {
     "name": "stdout",
     "output_type": "stream",
     "text": [
      "('Epoch:', '0306', 'training time (minutes)=', '1.6572', 'loss=', '120.416778564')\n",
      "('Epoch:', '0307', 'training time (minutes)=', '1.6709', 'loss=', '120.318557074')\n",
      "('Epoch:', '0308', 'training time (minutes)=', '1.6516', 'loss=', '120.100723444')\n",
      "('Epoch:', '0309', 'training time (minutes)=', '1.6456', 'loss=', '120.244181788')\n",
      "('Epoch:', '0310', 'training time (minutes)=', '1.6603', 'loss=', '120.920029529')\n",
      "INFO:tensorflow:/orions4-zfs/projects/lins2/Panos_Space/DATA/OUT/models/incomplete_pclouds/paper_vanilla_vscan/7_vessel_2048_4096pts_emd/models.ckpt-310 is not in all_model_checkpoint_paths. Manually adding it.\n"
     ]
    },
    {
     "name": "stderr",
     "output_type": "stream",
     "text": [
      "INFO:tensorflow:/orions4-zfs/projects/lins2/Panos_Space/DATA/OUT/models/incomplete_pclouds/paper_vanilla_vscan/7_vessel_2048_4096pts_emd/models.ckpt-310 is not in all_model_checkpoint_paths. Manually adding it.\n"
     ]
    },
    {
     "name": "stdout",
     "output_type": "stream",
     "text": [
      "('Epoch:', '0311', 'training time (minutes)=', '1.6456', 'loss=', '119.741818406')\n",
      "('Epoch:', '0312', 'training time (minutes)=', '1.6496', 'loss=', '120.471154368')\n",
      "('Epoch:', '0313', 'training time (minutes)=', '1.6563', 'loss=', '119.625659233')\n",
      "('Epoch:', '0314', 'training time (minutes)=', '1.6619', 'loss=', '120.074858688')\n",
      "('Epoch:', '0315', 'training time (minutes)=', '1.6502', 'loss=', '120.363390856')\n",
      "INFO:tensorflow:/orions4-zfs/projects/lins2/Panos_Space/DATA/OUT/models/incomplete_pclouds/paper_vanilla_vscan/7_vessel_2048_4096pts_emd/models.ckpt-315 is not in all_model_checkpoint_paths. Manually adding it.\n"
     ]
    },
    {
     "name": "stderr",
     "output_type": "stream",
     "text": [
      "INFO:tensorflow:/orions4-zfs/projects/lins2/Panos_Space/DATA/OUT/models/incomplete_pclouds/paper_vanilla_vscan/7_vessel_2048_4096pts_emd/models.ckpt-315 is not in all_model_checkpoint_paths. Manually adding it.\n"
     ]
    },
    {
     "name": "stdout",
     "output_type": "stream",
     "text": [
      "('Epoch:', '0316', 'training time (minutes)=', '1.6476', 'loss=', '120.369017801')\n",
      "('Epoch:', '0317', 'training time (minutes)=', '1.6524', 'loss=', '120.079976814')\n",
      "('Epoch:', '0318', 'training time (minutes)=', '1.6560', 'loss=', '120.003328456')\n",
      "('Epoch:', '0319', 'training time (minutes)=', '1.6513', 'loss=', '119.792014721')\n",
      "('Epoch:', '0320', 'training time (minutes)=', '1.6616', 'loss=', '119.752412840')\n",
      "INFO:tensorflow:/orions4-zfs/projects/lins2/Panos_Space/DATA/OUT/models/incomplete_pclouds/paper_vanilla_vscan/7_vessel_2048_4096pts_emd/models.ckpt-320 is not in all_model_checkpoint_paths. Manually adding it.\n"
     ]
    },
    {
     "name": "stderr",
     "output_type": "stream",
     "text": [
      "INFO:tensorflow:/orions4-zfs/projects/lins2/Panos_Space/DATA/OUT/models/incomplete_pclouds/paper_vanilla_vscan/7_vessel_2048_4096pts_emd/models.ckpt-320 is not in all_model_checkpoint_paths. Manually adding it.\n"
     ]
    },
    {
     "name": "stdout",
     "output_type": "stream",
     "text": [
      "('Epoch:', '0321', 'training time (minutes)=', '1.6523', 'loss=', '119.794453155')\n",
      "('Epoch:', '0322', 'training time (minutes)=', '1.6528', 'loss=', '119.608630513')\n",
      "('Epoch:', '0323', 'training time (minutes)=', '1.6539', 'loss=', '119.395216964')\n",
      "('Epoch:', '0324', 'training time (minutes)=', '1.6533', 'loss=', '119.306395819')\n",
      "('Epoch:', '0325', 'training time (minutes)=', '1.6549', 'loss=', '119.683621961')\n",
      "INFO:tensorflow:/orions4-zfs/projects/lins2/Panos_Space/DATA/OUT/models/incomplete_pclouds/paper_vanilla_vscan/7_vessel_2048_4096pts_emd/models.ckpt-325 is not in all_model_checkpoint_paths. Manually adding it.\n"
     ]
    },
    {
     "name": "stderr",
     "output_type": "stream",
     "text": [
      "INFO:tensorflow:/orions4-zfs/projects/lins2/Panos_Space/DATA/OUT/models/incomplete_pclouds/paper_vanilla_vscan/7_vessel_2048_4096pts_emd/models.ckpt-325 is not in all_model_checkpoint_paths. Manually adding it.\n"
     ]
    },
    {
     "name": "stdout",
     "output_type": "stream",
     "text": [
      "('Epoch:', '0326', 'training time (minutes)=', '1.6444', 'loss=', '119.446234282')\n",
      "('Epoch:', '0327', 'training time (minutes)=', '1.6746', 'loss=', '119.564524007')\n",
      "('Epoch:', '0328', 'training time (minutes)=', '1.6484', 'loss=', '119.517124442')\n",
      "('Epoch:', '0329', 'training time (minutes)=', '1.6628', 'loss=', '119.150241985')\n",
      "('Epoch:', '0330', 'training time (minutes)=', '1.6449', 'loss=', '118.981210309')\n",
      "INFO:tensorflow:/orions4-zfs/projects/lins2/Panos_Space/DATA/OUT/models/incomplete_pclouds/paper_vanilla_vscan/7_vessel_2048_4096pts_emd/models.ckpt-330 is not in all_model_checkpoint_paths. Manually adding it.\n"
     ]
    },
    {
     "name": "stderr",
     "output_type": "stream",
     "text": [
      "INFO:tensorflow:/orions4-zfs/projects/lins2/Panos_Space/DATA/OUT/models/incomplete_pclouds/paper_vanilla_vscan/7_vessel_2048_4096pts_emd/models.ckpt-330 is not in all_model_checkpoint_paths. Manually adding it.\n"
     ]
    },
    {
     "name": "stdout",
     "output_type": "stream",
     "text": [
      "('Epoch:', '0331', 'training time (minutes)=', '1.6546', 'loss=', '119.583098877')\n",
      "('Epoch:', '0332', 'training time (minutes)=', '1.6615', 'loss=', '119.518577398')\n",
      "('Epoch:', '0333', 'training time (minutes)=', '1.6704', 'loss=', '119.541773508')\n",
      "('Epoch:', '0334', 'training time (minutes)=', '1.6727', 'loss=', '119.487856621')\n",
      "('Epoch:', '0335', 'training time (minutes)=', '1.6664', 'loss=', '119.451118159')\n",
      "INFO:tensorflow:/orions4-zfs/projects/lins2/Panos_Space/DATA/OUT/models/incomplete_pclouds/paper_vanilla_vscan/7_vessel_2048_4096pts_emd/models.ckpt-335 is not in all_model_checkpoint_paths. Manually adding it.\n"
     ]
    },
    {
     "name": "stderr",
     "output_type": "stream",
     "text": [
      "INFO:tensorflow:/orions4-zfs/projects/lins2/Panos_Space/DATA/OUT/models/incomplete_pclouds/paper_vanilla_vscan/7_vessel_2048_4096pts_emd/models.ckpt-335 is not in all_model_checkpoint_paths. Manually adding it.\n"
     ]
    },
    {
     "name": "stdout",
     "output_type": "stream",
     "text": [
      "('Epoch:', '0336', 'training time (minutes)=', '1.6546', 'loss=', '119.049740148')\n",
      "('Epoch:', '0337', 'training time (minutes)=', '1.6616', 'loss=', '119.164447518')\n",
      "('Epoch:', '0338', 'training time (minutes)=', '1.6543', 'loss=', '119.297110846')\n",
      "('Epoch:', '0339', 'training time (minutes)=', '1.6624', 'loss=', '119.015042194')\n",
      "('Epoch:', '0340', 'training time (minutes)=', '1.6534', 'loss=', '119.296580204')\n",
      "INFO:tensorflow:/orions4-zfs/projects/lins2/Panos_Space/DATA/OUT/models/incomplete_pclouds/paper_vanilla_vscan/7_vessel_2048_4096pts_emd/models.ckpt-340 is not in all_model_checkpoint_paths. Manually adding it.\n"
     ]
    },
    {
     "name": "stderr",
     "output_type": "stream",
     "text": [
      "INFO:tensorflow:/orions4-zfs/projects/lins2/Panos_Space/DATA/OUT/models/incomplete_pclouds/paper_vanilla_vscan/7_vessel_2048_4096pts_emd/models.ckpt-340 is not in all_model_checkpoint_paths. Manually adding it.\n"
     ]
    },
    {
     "name": "stdout",
     "output_type": "stream",
     "text": [
      "('Epoch:', '0341', 'training time (minutes)=', '1.6536', 'loss=', '118.673114599')\n",
      "('Epoch:', '0342', 'training time (minutes)=', '1.6669', 'loss=', '119.099769814')\n",
      "('Epoch:', '0343', 'training time (minutes)=', '1.6559', 'loss=', '119.225836953')\n",
      "('Epoch:', '0344', 'training time (minutes)=', '1.6456', 'loss=', '119.221679155')\n",
      "('Epoch:', '0345', 'training time (minutes)=', '1.6501', 'loss=', '119.184635961')\n",
      "INFO:tensorflow:/orions4-zfs/projects/lins2/Panos_Space/DATA/OUT/models/incomplete_pclouds/paper_vanilla_vscan/7_vessel_2048_4096pts_emd/models.ckpt-345 is not in all_model_checkpoint_paths. Manually adding it.\n"
     ]
    },
    {
     "name": "stderr",
     "output_type": "stream",
     "text": [
      "INFO:tensorflow:/orions4-zfs/projects/lins2/Panos_Space/DATA/OUT/models/incomplete_pclouds/paper_vanilla_vscan/7_vessel_2048_4096pts_emd/models.ckpt-345 is not in all_model_checkpoint_paths. Manually adding it.\n"
     ]
    },
    {
     "name": "stdout",
     "output_type": "stream",
     "text": [
      "('Epoch:', '0346', 'training time (minutes)=', '1.6509', 'loss=', '119.101275466')\n",
      "('Epoch:', '0347', 'training time (minutes)=', '1.6445', 'loss=', '118.806165606')\n",
      "('Epoch:', '0348', 'training time (minutes)=', '1.6603', 'loss=', '118.804224413')\n",
      "('Epoch:', '0349', 'training time (minutes)=', '1.6598', 'loss=', '118.715973477')\n",
      "('Epoch:', '0350', 'training time (minutes)=', '1.6486', 'loss=', '118.961543372')\n",
      "INFO:tensorflow:/orions4-zfs/projects/lins2/Panos_Space/DATA/OUT/models/incomplete_pclouds/paper_vanilla_vscan/7_vessel_2048_4096pts_emd/models.ckpt-350 is not in all_model_checkpoint_paths. Manually adding it.\n"
     ]
    },
    {
     "name": "stderr",
     "output_type": "stream",
     "text": [
      "INFO:tensorflow:/orions4-zfs/projects/lins2/Panos_Space/DATA/OUT/models/incomplete_pclouds/paper_vanilla_vscan/7_vessel_2048_4096pts_emd/models.ckpt-350 is not in all_model_checkpoint_paths. Manually adding it.\n"
     ]
    },
    {
     "name": "stdout",
     "output_type": "stream",
     "text": [
      "('Epoch:', '0351', 'training time (minutes)=', '1.6442', 'loss=', '118.480849599')\n",
      "('Epoch:', '0352', 'training time (minutes)=', '1.6446', 'loss=', '118.970206549')\n",
      "('Epoch:', '0353', 'training time (minutes)=', '1.6554', 'loss=', '118.377206314')\n",
      "('Epoch:', '0354', 'training time (minutes)=', '1.6696', 'loss=', '118.974823885')\n",
      "('Epoch:', '0355', 'training time (minutes)=', '1.6510', 'loss=', '118.773165370')\n",
      "INFO:tensorflow:/orions4-zfs/projects/lins2/Panos_Space/DATA/OUT/models/incomplete_pclouds/paper_vanilla_vscan/7_vessel_2048_4096pts_emd/models.ckpt-355 is not in all_model_checkpoint_paths. Manually adding it.\n"
     ]
    },
    {
     "name": "stderr",
     "output_type": "stream",
     "text": [
      "INFO:tensorflow:/orions4-zfs/projects/lins2/Panos_Space/DATA/OUT/models/incomplete_pclouds/paper_vanilla_vscan/7_vessel_2048_4096pts_emd/models.ckpt-355 is not in all_model_checkpoint_paths. Manually adding it.\n"
     ]
    },
    {
     "name": "stdout",
     "output_type": "stream",
     "text": [
      "('Epoch:', '0356', 'training time (minutes)=', '1.6644', 'loss=', '118.497739393')\n",
      "('Epoch:', '0357', 'training time (minutes)=', '1.6605', 'loss=', '118.791359125')\n",
      "('Epoch:', '0358', 'training time (minutes)=', '1.6554', 'loss=', '118.540110876')\n",
      "('Epoch:', '0359', 'training time (minutes)=', '1.6603', 'loss=', '118.745764976')\n",
      "('Epoch:', '0360', 'training time (minutes)=', '1.6504', 'loss=', '118.384964122')\n",
      "INFO:tensorflow:/orions4-zfs/projects/lins2/Panos_Space/DATA/OUT/models/incomplete_pclouds/paper_vanilla_vscan/7_vessel_2048_4096pts_emd/models.ckpt-360 is not in all_model_checkpoint_paths. Manually adding it.\n"
     ]
    },
    {
     "name": "stderr",
     "output_type": "stream",
     "text": [
      "INFO:tensorflow:/orions4-zfs/projects/lins2/Panos_Space/DATA/OUT/models/incomplete_pclouds/paper_vanilla_vscan/7_vessel_2048_4096pts_emd/models.ckpt-360 is not in all_model_checkpoint_paths. Manually adding it.\n"
     ]
    },
    {
     "name": "stdout",
     "output_type": "stream",
     "text": [
      "('Epoch:', '0361', 'training time (minutes)=', '1.6377', 'loss=', '118.453293601')\n",
      "('Epoch:', '0362', 'training time (minutes)=', '1.6522', 'loss=', '118.744789567')\n",
      "('Epoch:', '0363', 'training time (minutes)=', '1.6581', 'loss=', '118.294775675')\n",
      "('Epoch:', '0364', 'training time (minutes)=', '1.6449', 'loss=', '118.573703367')\n",
      "('Epoch:', '0365', 'training time (minutes)=', '1.6564', 'loss=', '118.449297351')\n",
      "INFO:tensorflow:/orions4-zfs/projects/lins2/Panos_Space/DATA/OUT/models/incomplete_pclouds/paper_vanilla_vscan/7_vessel_2048_4096pts_emd/models.ckpt-365 is not in all_model_checkpoint_paths. Manually adding it.\n"
     ]
    },
    {
     "name": "stderr",
     "output_type": "stream",
     "text": [
      "INFO:tensorflow:/orions4-zfs/projects/lins2/Panos_Space/DATA/OUT/models/incomplete_pclouds/paper_vanilla_vscan/7_vessel_2048_4096pts_emd/models.ckpt-365 is not in all_model_checkpoint_paths. Manually adding it.\n"
     ]
    },
    {
     "name": "stdout",
     "output_type": "stream",
     "text": [
      "('Epoch:', '0366', 'training time (minutes)=', '1.6597', 'loss=', '118.556873588')\n",
      "('Epoch:', '0367', 'training time (minutes)=', '1.6567', 'loss=', '118.613662232')\n",
      "('Epoch:', '0368', 'training time (minutes)=', '1.6518', 'loss=', '118.143251153')\n",
      "('Epoch:', '0369', 'training time (minutes)=', '1.6573', 'loss=', '118.281743826')\n",
      "('Epoch:', '0370', 'training time (minutes)=', '1.6550', 'loss=', '118.006934454')\n",
      "INFO:tensorflow:/orions4-zfs/projects/lins2/Panos_Space/DATA/OUT/models/incomplete_pclouds/paper_vanilla_vscan/7_vessel_2048_4096pts_emd/models.ckpt-370 is not in all_model_checkpoint_paths. Manually adding it.\n"
     ]
    },
    {
     "name": "stderr",
     "output_type": "stream",
     "text": [
      "INFO:tensorflow:/orions4-zfs/projects/lins2/Panos_Space/DATA/OUT/models/incomplete_pclouds/paper_vanilla_vscan/7_vessel_2048_4096pts_emd/models.ckpt-370 is not in all_model_checkpoint_paths. Manually adding it.\n"
     ]
    },
    {
     "name": "stdout",
     "output_type": "stream",
     "text": [
      "('Epoch:', '0371', 'training time (minutes)=', '1.6529', 'loss=', '117.709771622')\n",
      "('Epoch:', '0372', 'training time (minutes)=', '1.6476', 'loss=', '118.191291676')\n",
      "('Epoch:', '0373', 'training time (minutes)=', '1.6592', 'loss=', '118.275781365')\n",
      "('Epoch:', '0374', 'training time (minutes)=', '1.6718', 'loss=', '118.119610986')\n",
      "('Epoch:', '0375', 'training time (minutes)=', '1.6496', 'loss=', '118.315269958')\n",
      "INFO:tensorflow:/orions4-zfs/projects/lins2/Panos_Space/DATA/OUT/models/incomplete_pclouds/paper_vanilla_vscan/7_vessel_2048_4096pts_emd/models.ckpt-375 is not in all_model_checkpoint_paths. Manually adding it.\n"
     ]
    },
    {
     "name": "stderr",
     "output_type": "stream",
     "text": [
      "INFO:tensorflow:/orions4-zfs/projects/lins2/Panos_Space/DATA/OUT/models/incomplete_pclouds/paper_vanilla_vscan/7_vessel_2048_4096pts_emd/models.ckpt-375 is not in all_model_checkpoint_paths. Manually adding it.\n"
     ]
    },
    {
     "name": "stdout",
     "output_type": "stream",
     "text": [
      "('Epoch:', '0376', 'training time (minutes)=', '1.6481', 'loss=', '117.708428494')\n",
      "('Epoch:', '0377', 'training time (minutes)=', '1.6555', 'loss=', '117.779692140')\n",
      "('Epoch:', '0378', 'training time (minutes)=', '1.6847', 'loss=', '117.824780309')\n",
      "('Epoch:', '0379', 'training time (minutes)=', '1.6697', 'loss=', '117.850844805')\n",
      "('Epoch:', '0380', 'training time (minutes)=', '1.6593', 'loss=', '118.498674082')\n",
      "INFO:tensorflow:/orions4-zfs/projects/lins2/Panos_Space/DATA/OUT/models/incomplete_pclouds/paper_vanilla_vscan/7_vessel_2048_4096pts_emd/models.ckpt-380 is not in all_model_checkpoint_paths. Manually adding it.\n"
     ]
    },
    {
     "name": "stderr",
     "output_type": "stream",
     "text": [
      "INFO:tensorflow:/orions4-zfs/projects/lins2/Panos_Space/DATA/OUT/models/incomplete_pclouds/paper_vanilla_vscan/7_vessel_2048_4096pts_emd/models.ckpt-380 is not in all_model_checkpoint_paths. Manually adding it.\n"
     ]
    },
    {
     "name": "stdout",
     "output_type": "stream",
     "text": [
      "('Epoch:', '0381', 'training time (minutes)=', '1.6541', 'loss=', '118.053331907')\n",
      "('Epoch:', '0382', 'training time (minutes)=', '1.6584', 'loss=', '118.009129103')\n",
      "('Epoch:', '0383', 'training time (minutes)=', '1.6475', 'loss=', '117.465212090')\n",
      "('Epoch:', '0384', 'training time (minutes)=', '1.6512', 'loss=', '117.410129148')\n",
      "('Epoch:', '0385', 'training time (minutes)=', '1.6572', 'loss=', '117.660737282')\n",
      "INFO:tensorflow:/orions4-zfs/projects/lins2/Panos_Space/DATA/OUT/models/incomplete_pclouds/paper_vanilla_vscan/7_vessel_2048_4096pts_emd/models.ckpt-385 is not in all_model_checkpoint_paths. Manually adding it.\n"
     ]
    },
    {
     "name": "stderr",
     "output_type": "stream",
     "text": [
      "INFO:tensorflow:/orions4-zfs/projects/lins2/Panos_Space/DATA/OUT/models/incomplete_pclouds/paper_vanilla_vscan/7_vessel_2048_4096pts_emd/models.ckpt-385 is not in all_model_checkpoint_paths. Manually adding it.\n"
     ]
    },
    {
     "name": "stdout",
     "output_type": "stream",
     "text": [
      "('Epoch:', '0386', 'training time (minutes)=', '1.6594', 'loss=', '118.029930958')\n",
      "('Epoch:', '0387', 'training time (minutes)=', '1.6522', 'loss=', '117.996683564')\n",
      "('Epoch:', '0388', 'training time (minutes)=', '1.6537', 'loss=', '118.015996001')\n",
      "('Epoch:', '0389', 'training time (minutes)=', '1.6534', 'loss=', '117.212197193')\n",
      "('Epoch:', '0390', 'training time (minutes)=', '1.6566', 'loss=', '117.433903273')\n",
      "INFO:tensorflow:/orions4-zfs/projects/lins2/Panos_Space/DATA/OUT/models/incomplete_pclouds/paper_vanilla_vscan/7_vessel_2048_4096pts_emd/models.ckpt-390 is not in all_model_checkpoint_paths. Manually adding it.\n"
     ]
    },
    {
     "name": "stderr",
     "output_type": "stream",
     "text": [
      "INFO:tensorflow:/orions4-zfs/projects/lins2/Panos_Space/DATA/OUT/models/incomplete_pclouds/paper_vanilla_vscan/7_vessel_2048_4096pts_emd/models.ckpt-390 is not in all_model_checkpoint_paths. Manually adding it.\n"
     ]
    },
    {
     "name": "stdout",
     "output_type": "stream",
     "text": [
      "('Epoch:', '0391', 'training time (minutes)=', '1.6474', 'loss=', '118.115292704')\n",
      "('Epoch:', '0392', 'training time (minutes)=', '1.6458', 'loss=', '117.857203373')\n",
      "('Epoch:', '0393', 'training time (minutes)=', '1.6510', 'loss=', '117.573113996')\n",
      "('Epoch:', '0394', 'training time (minutes)=', '1.6581', 'loss=', '117.540319354')\n",
      "('Epoch:', '0395', 'training time (minutes)=', '1.6612', 'loss=', '118.075661460')\n",
      "INFO:tensorflow:/orions4-zfs/projects/lins2/Panos_Space/DATA/OUT/models/incomplete_pclouds/paper_vanilla_vscan/7_vessel_2048_4096pts_emd/models.ckpt-395 is not in all_model_checkpoint_paths. Manually adding it.\n"
     ]
    },
    {
     "name": "stderr",
     "output_type": "stream",
     "text": [
      "INFO:tensorflow:/orions4-zfs/projects/lins2/Panos_Space/DATA/OUT/models/incomplete_pclouds/paper_vanilla_vscan/7_vessel_2048_4096pts_emd/models.ckpt-395 is not in all_model_checkpoint_paths. Manually adding it.\n"
     ]
    },
    {
     "name": "stdout",
     "output_type": "stream",
     "text": [
      "('Epoch:', '0396', 'training time (minutes)=', '1.6469', 'loss=', '117.456855375')\n",
      "('Epoch:', '0397', 'training time (minutes)=', '1.6541', 'loss=', '117.292161143')\n",
      "('Epoch:', '0398', 'training time (minutes)=', '1.6565', 'loss=', '117.901001509')\n",
      "('Epoch:', '0399', 'training time (minutes)=', '1.6566', 'loss=', '117.556367031')\n",
      "('Epoch:', '0400', 'training time (minutes)=', '1.6474', 'loss=', '117.445946627')\n",
      "INFO:tensorflow:/orions4-zfs/projects/lins2/Panos_Space/DATA/OUT/models/incomplete_pclouds/paper_vanilla_vscan/7_vessel_2048_4096pts_emd/models.ckpt-400 is not in all_model_checkpoint_paths. Manually adding it.\n"
     ]
    },
    {
     "name": "stderr",
     "output_type": "stream",
     "text": [
      "INFO:tensorflow:/orions4-zfs/projects/lins2/Panos_Space/DATA/OUT/models/incomplete_pclouds/paper_vanilla_vscan/7_vessel_2048_4096pts_emd/models.ckpt-400 is not in all_model_checkpoint_paths. Manually adding it.\n"
     ]
    },
    {
     "name": "stdout",
     "output_type": "stream",
     "text": [
      "('Epoch:', '0401', 'training time (minutes)=', '1.6432', 'loss=', '117.150477254')\n",
      "('Epoch:', '0402', 'training time (minutes)=', '1.6502', 'loss=', '117.350174882')\n",
      "('Epoch:', '0403', 'training time (minutes)=', '1.6701', 'loss=', '117.476768982')\n",
      "('Epoch:', '0404', 'training time (minutes)=', '1.6551', 'loss=', '117.068105653')\n",
      "('Epoch:', '0405', 'training time (minutes)=', '1.6423', 'loss=', '117.187279590')\n",
      "INFO:tensorflow:/orions4-zfs/projects/lins2/Panos_Space/DATA/OUT/models/incomplete_pclouds/paper_vanilla_vscan/7_vessel_2048_4096pts_emd/models.ckpt-405 is not in all_model_checkpoint_paths. Manually adding it.\n"
     ]
    },
    {
     "name": "stderr",
     "output_type": "stream",
     "text": [
      "INFO:tensorflow:/orions4-zfs/projects/lins2/Panos_Space/DATA/OUT/models/incomplete_pclouds/paper_vanilla_vscan/7_vessel_2048_4096pts_emd/models.ckpt-405 is not in all_model_checkpoint_paths. Manually adding it.\n"
     ]
    },
    {
     "name": "stdout",
     "output_type": "stream",
     "text": [
      "('Epoch:', '0406', 'training time (minutes)=', '1.6514', 'loss=', '117.197442565')\n",
      "('Epoch:', '0407', 'training time (minutes)=', '1.6550', 'loss=', '117.275820133')\n",
      "('Epoch:', '0408', 'training time (minutes)=', '1.6647', 'loss=', '117.439298896')\n",
      "('Epoch:', '0409', 'training time (minutes)=', '1.6460', 'loss=', '117.496059906')\n",
      "('Epoch:', '0410', 'training time (minutes)=', '1.6430', 'loss=', '117.307695256')\n",
      "INFO:tensorflow:/orions4-zfs/projects/lins2/Panos_Space/DATA/OUT/models/incomplete_pclouds/paper_vanilla_vscan/7_vessel_2048_4096pts_emd/models.ckpt-410 is not in all_model_checkpoint_paths. Manually adding it.\n"
     ]
    },
    {
     "name": "stderr",
     "output_type": "stream",
     "text": [
      "INFO:tensorflow:/orions4-zfs/projects/lins2/Panos_Space/DATA/OUT/models/incomplete_pclouds/paper_vanilla_vscan/7_vessel_2048_4096pts_emd/models.ckpt-410 is not in all_model_checkpoint_paths. Manually adding it.\n"
     ]
    },
    {
     "name": "stdout",
     "output_type": "stream",
     "text": [
      "('Epoch:', '0411', 'training time (minutes)=', '1.6440', 'loss=', '116.910169956')\n",
      "('Epoch:', '0412', 'training time (minutes)=', '1.6436', 'loss=', '116.513683674')\n",
      "('Epoch:', '0413', 'training time (minutes)=', '1.6525', 'loss=', '116.775837255')\n",
      "('Epoch:', '0414', 'training time (minutes)=', '1.6699', 'loss=', '117.136735783')\n",
      "('Epoch:', '0415', 'training time (minutes)=', '1.6522', 'loss=', '116.970141433')\n",
      "INFO:tensorflow:/orions4-zfs/projects/lins2/Panos_Space/DATA/OUT/models/incomplete_pclouds/paper_vanilla_vscan/7_vessel_2048_4096pts_emd/models.ckpt-415 is not in all_model_checkpoint_paths. Manually adding it.\n"
     ]
    },
    {
     "name": "stderr",
     "output_type": "stream",
     "text": [
      "INFO:tensorflow:/orions4-zfs/projects/lins2/Panos_Space/DATA/OUT/models/incomplete_pclouds/paper_vanilla_vscan/7_vessel_2048_4096pts_emd/models.ckpt-415 is not in all_model_checkpoint_paths. Manually adding it.\n"
     ]
    },
    {
     "name": "stdout",
     "output_type": "stream",
     "text": [
      "('Epoch:', '0416', 'training time (minutes)=', '1.6507', 'loss=', '117.199194753')\n",
      "('Epoch:', '0417', 'training time (minutes)=', '1.6717', 'loss=', '117.298452466')\n",
      "('Epoch:', '0418', 'training time (minutes)=', '1.6723', 'loss=', '116.830644208')\n",
      "('Epoch:', '0419', 'training time (minutes)=', '1.6574', 'loss=', '116.808048470')\n",
      "('Epoch:', '0420', 'training time (minutes)=', '1.6467', 'loss=', '117.125874985')\n",
      "INFO:tensorflow:/orions4-zfs/projects/lins2/Panos_Space/DATA/OUT/models/incomplete_pclouds/paper_vanilla_vscan/7_vessel_2048_4096pts_emd/models.ckpt-420 is not in all_model_checkpoint_paths. Manually adding it.\n"
     ]
    },
    {
     "name": "stderr",
     "output_type": "stream",
     "text": [
      "INFO:tensorflow:/orions4-zfs/projects/lins2/Panos_Space/DATA/OUT/models/incomplete_pclouds/paper_vanilla_vscan/7_vessel_2048_4096pts_emd/models.ckpt-420 is not in all_model_checkpoint_paths. Manually adding it.\n"
     ]
    },
    {
     "name": "stdout",
     "output_type": "stream",
     "text": [
      "('Epoch:', '0421', 'training time (minutes)=', '1.6508', 'loss=', '116.993374714')\n",
      "('Epoch:', '0422', 'training time (minutes)=', '1.6674', 'loss=', '116.874038253')\n",
      "('Epoch:', '0423', 'training time (minutes)=', '1.6552', 'loss=', '116.386577251')\n",
      "('Epoch:', '0424', 'training time (minutes)=', '1.6516', 'loss=', '116.935178224')\n",
      "('Epoch:', '0425', 'training time (minutes)=', '1.6444', 'loss=', '116.585533630')\n",
      "INFO:tensorflow:/orions4-zfs/projects/lins2/Panos_Space/DATA/OUT/models/incomplete_pclouds/paper_vanilla_vscan/7_vessel_2048_4096pts_emd/models.ckpt-425 is not in all_model_checkpoint_paths. Manually adding it.\n"
     ]
    },
    {
     "name": "stderr",
     "output_type": "stream",
     "text": [
      "INFO:tensorflow:/orions4-zfs/projects/lins2/Panos_Space/DATA/OUT/models/incomplete_pclouds/paper_vanilla_vscan/7_vessel_2048_4096pts_emd/models.ckpt-425 is not in all_model_checkpoint_paths. Manually adding it.\n"
     ]
    },
    {
     "name": "stdout",
     "output_type": "stream",
     "text": [
      "('Epoch:', '0426', 'training time (minutes)=', '1.6502', 'loss=', '116.905005433')\n",
      "('Epoch:', '0427', 'training time (minutes)=', '1.6513', 'loss=', '116.502150513')\n",
      "('Epoch:', '0428', 'training time (minutes)=', '1.6499', 'loss=', '116.622488066')\n",
      "('Epoch:', '0429', 'training time (minutes)=', '1.6441', 'loss=', '116.520768809')\n",
      "('Epoch:', '0430', 'training time (minutes)=', '1.6560', 'loss=', '116.715228857')\n",
      "INFO:tensorflow:/orions4-zfs/projects/lins2/Panos_Space/DATA/OUT/models/incomplete_pclouds/paper_vanilla_vscan/7_vessel_2048_4096pts_emd/models.ckpt-430 is not in all_model_checkpoint_paths. Manually adding it.\n"
     ]
    },
    {
     "name": "stderr",
     "output_type": "stream",
     "text": [
      "INFO:tensorflow:/orions4-zfs/projects/lins2/Panos_Space/DATA/OUT/models/incomplete_pclouds/paper_vanilla_vscan/7_vessel_2048_4096pts_emd/models.ckpt-430 is not in all_model_checkpoint_paths. Manually adding it.\n"
     ]
    },
    {
     "name": "stdout",
     "output_type": "stream",
     "text": [
      "('Epoch:', '0431', 'training time (minutes)=', '1.6616', 'loss=', '116.804685814')\n",
      "('Epoch:', '0432', 'training time (minutes)=', '1.6447', 'loss=', '116.440982597')\n",
      "('Epoch:', '0433', 'training time (minutes)=', '1.6623', 'loss=', '116.315846998')\n",
      "('Epoch:', '0434', 'training time (minutes)=', '1.6547', 'loss=', '116.776075718')\n",
      "('Epoch:', '0435', 'training time (minutes)=', '1.6461', 'loss=', '116.389339669')\n",
      "INFO:tensorflow:/orions4-zfs/projects/lins2/Panos_Space/DATA/OUT/models/incomplete_pclouds/paper_vanilla_vscan/7_vessel_2048_4096pts_emd/models.ckpt-435 is not in all_model_checkpoint_paths. Manually adding it.\n"
     ]
    },
    {
     "name": "stderr",
     "output_type": "stream",
     "text": [
      "INFO:tensorflow:/orions4-zfs/projects/lins2/Panos_Space/DATA/OUT/models/incomplete_pclouds/paper_vanilla_vscan/7_vessel_2048_4096pts_emd/models.ckpt-435 is not in all_model_checkpoint_paths. Manually adding it.\n"
     ]
    },
    {
     "name": "stdout",
     "output_type": "stream",
     "text": [
      "('Epoch:', '0436', 'training time (minutes)=', '1.6447', 'loss=', '116.389080358')\n",
      "('Epoch:', '0437', 'training time (minutes)=', '1.6471', 'loss=', '116.930241119')\n",
      "('Epoch:', '0438', 'training time (minutes)=', '1.6532', 'loss=', '116.622597007')\n",
      "('Epoch:', '0439', 'training time (minutes)=', '1.6494', 'loss=', '116.193466408')\n",
      "('Epoch:', '0440', 'training time (minutes)=', '1.6642', 'loss=', '116.635806062')\n",
      "INFO:tensorflow:/orions4-zfs/projects/lins2/Panos_Space/DATA/OUT/models/incomplete_pclouds/paper_vanilla_vscan/7_vessel_2048_4096pts_emd/models.ckpt-440 is not in all_model_checkpoint_paths. Manually adding it.\n"
     ]
    },
    {
     "name": "stderr",
     "output_type": "stream",
     "text": [
      "INFO:tensorflow:/orions4-zfs/projects/lins2/Panos_Space/DATA/OUT/models/incomplete_pclouds/paper_vanilla_vscan/7_vessel_2048_4096pts_emd/models.ckpt-440 is not in all_model_checkpoint_paths. Manually adding it.\n"
     ]
    },
    {
     "name": "stdout",
     "output_type": "stream",
     "text": [
      "('Epoch:', '0441', 'training time (minutes)=', '1.6622', 'loss=', '116.790711913')\n",
      "('Epoch:', '0442', 'training time (minutes)=', '1.6477', 'loss=', '116.500871348')\n",
      "('Epoch:', '0443', 'training time (minutes)=', '1.6551', 'loss=', '116.311612861')\n",
      "('Epoch:', '0444', 'training time (minutes)=', '1.6603', 'loss=', '116.125523190')\n",
      "('Epoch:', '0445', 'training time (minutes)=', '1.6436', 'loss=', '116.664197478')\n",
      "INFO:tensorflow:/orions4-zfs/projects/lins2/Panos_Space/DATA/OUT/models/incomplete_pclouds/paper_vanilla_vscan/7_vessel_2048_4096pts_emd/models.ckpt-445 is not in all_model_checkpoint_paths. Manually adding it.\n"
     ]
    },
    {
     "name": "stderr",
     "output_type": "stream",
     "text": [
      "INFO:tensorflow:/orions4-zfs/projects/lins2/Panos_Space/DATA/OUT/models/incomplete_pclouds/paper_vanilla_vscan/7_vessel_2048_4096pts_emd/models.ckpt-445 is not in all_model_checkpoint_paths. Manually adding it.\n"
     ]
    },
    {
     "name": "stdout",
     "output_type": "stream",
     "text": [
      "('Epoch:', '0446', 'training time (minutes)=', '1.6576', 'loss=', '116.084408383')\n",
      "('Epoch:', '0447', 'training time (minutes)=', '1.6730', 'loss=', '116.369250098')\n",
      "('Epoch:', '0448', 'training time (minutes)=', '1.6491', 'loss=', '116.208484384')\n",
      "('Epoch:', '0449', 'training time (minutes)=', '1.6546', 'loss=', '116.244028136')\n",
      "('Epoch:', '0450', 'training time (minutes)=', '1.6584', 'loss=', '116.383501230')\n",
      "INFO:tensorflow:/orions4-zfs/projects/lins2/Panos_Space/DATA/OUT/models/incomplete_pclouds/paper_vanilla_vscan/7_vessel_2048_4096pts_emd/models.ckpt-450 is not in all_model_checkpoint_paths. Manually adding it.\n"
     ]
    },
    {
     "name": "stderr",
     "output_type": "stream",
     "text": [
      "INFO:tensorflow:/orions4-zfs/projects/lins2/Panos_Space/DATA/OUT/models/incomplete_pclouds/paper_vanilla_vscan/7_vessel_2048_4096pts_emd/models.ckpt-450 is not in all_model_checkpoint_paths. Manually adding it.\n"
     ]
    },
    {
     "name": "stdout",
     "output_type": "stream",
     "text": [
      "('Epoch:', '0451', 'training time (minutes)=', '1.6487', 'loss=', '116.434148788')\n",
      "('Epoch:', '0452', 'training time (minutes)=', '1.6878', 'loss=', '115.975805948')\n",
      "('Epoch:', '0453', 'training time (minutes)=', '1.6620', 'loss=', '116.055812037')\n",
      "('Epoch:', '0454', 'training time (minutes)=', '1.6569', 'loss=', '116.195388750')\n",
      "('Epoch:', '0455', 'training time (minutes)=', '1.6490', 'loss=', '116.076529436')\n",
      "INFO:tensorflow:/orions4-zfs/projects/lins2/Panos_Space/DATA/OUT/models/incomplete_pclouds/paper_vanilla_vscan/7_vessel_2048_4096pts_emd/models.ckpt-455 is not in all_model_checkpoint_paths. Manually adding it.\n"
     ]
    },
    {
     "name": "stderr",
     "output_type": "stream",
     "text": [
      "INFO:tensorflow:/orions4-zfs/projects/lins2/Panos_Space/DATA/OUT/models/incomplete_pclouds/paper_vanilla_vscan/7_vessel_2048_4096pts_emd/models.ckpt-455 is not in all_model_checkpoint_paths. Manually adding it.\n"
     ]
    },
    {
     "name": "stdout",
     "output_type": "stream",
     "text": [
      "('Epoch:', '0456', 'training time (minutes)=', '1.6642', 'loss=', '115.996691637')\n",
      "('Epoch:', '0457', 'training time (minutes)=', '1.6595', 'loss=', '115.621487418')\n",
      "('Epoch:', '0458', 'training time (minutes)=', '1.6494', 'loss=', '116.041795509')\n",
      "('Epoch:', '0459', 'training time (minutes)=', '1.6602', 'loss=', '116.104719472')\n",
      "('Epoch:', '0460', 'training time (minutes)=', '1.6589', 'loss=', '115.674315386')\n",
      "INFO:tensorflow:/orions4-zfs/projects/lins2/Panos_Space/DATA/OUT/models/incomplete_pclouds/paper_vanilla_vscan/7_vessel_2048_4096pts_emd/models.ckpt-460 is not in all_model_checkpoint_paths. Manually adding it.\n"
     ]
    },
    {
     "name": "stderr",
     "output_type": "stream",
     "text": [
      "INFO:tensorflow:/orions4-zfs/projects/lins2/Panos_Space/DATA/OUT/models/incomplete_pclouds/paper_vanilla_vscan/7_vessel_2048_4096pts_emd/models.ckpt-460 is not in all_model_checkpoint_paths. Manually adding it.\n"
     ]
    },
    {
     "name": "stdout",
     "output_type": "stream",
     "text": [
      "('Epoch:', '0461', 'training time (minutes)=', '1.6528', 'loss=', '116.141636028')\n",
      "('Epoch:', '0462', 'training time (minutes)=', '1.6577', 'loss=', '116.051759454')\n",
      "('Epoch:', '0463', 'training time (minutes)=', '1.6572', 'loss=', '115.882550484')\n",
      "('Epoch:', '0464', 'training time (minutes)=', '1.6583', 'loss=', '116.183263601')\n",
      "('Epoch:', '0465', 'training time (minutes)=', '1.6529', 'loss=', '115.872662167')\n",
      "INFO:tensorflow:/orions4-zfs/projects/lins2/Panos_Space/DATA/OUT/models/incomplete_pclouds/paper_vanilla_vscan/7_vessel_2048_4096pts_emd/models.ckpt-465 is not in all_model_checkpoint_paths. Manually adding it.\n"
     ]
    },
    {
     "name": "stderr",
     "output_type": "stream",
     "text": [
      "INFO:tensorflow:/orions4-zfs/projects/lins2/Panos_Space/DATA/OUT/models/incomplete_pclouds/paper_vanilla_vscan/7_vessel_2048_4096pts_emd/models.ckpt-465 is not in all_model_checkpoint_paths. Manually adding it.\n"
     ]
    },
    {
     "name": "stdout",
     "output_type": "stream",
     "text": [
      "('Epoch:', '0466', 'training time (minutes)=', '1.6446', 'loss=', '115.762044907')\n",
      "('Epoch:', '0467', 'training time (minutes)=', '1.6583', 'loss=', '115.969037256')\n",
      "('Epoch:', '0468', 'training time (minutes)=', '1.6607', 'loss=', '115.870980329')\n",
      "('Epoch:', '0469', 'training time (minutes)=', '1.6520', 'loss=', '115.615533296')\n",
      "('Epoch:', '0470', 'training time (minutes)=', '1.6535', 'loss=', '115.932719519')\n",
      "INFO:tensorflow:/orions4-zfs/projects/lins2/Panos_Space/DATA/OUT/models/incomplete_pclouds/paper_vanilla_vscan/7_vessel_2048_4096pts_emd/models.ckpt-470 is not in all_model_checkpoint_paths. Manually adding it.\n"
     ]
    },
    {
     "name": "stderr",
     "output_type": "stream",
     "text": [
      "INFO:tensorflow:/orions4-zfs/projects/lins2/Panos_Space/DATA/OUT/models/incomplete_pclouds/paper_vanilla_vscan/7_vessel_2048_4096pts_emd/models.ckpt-470 is not in all_model_checkpoint_paths. Manually adding it.\n"
     ]
    },
    {
     "name": "stdout",
     "output_type": "stream",
     "text": [
      "('Epoch:', '0471', 'training time (minutes)=', '1.6528', 'loss=', '115.611910620')\n",
      "('Epoch:', '0472', 'training time (minutes)=', '1.6452', 'loss=', '115.798637922')\n",
      "('Epoch:', '0473', 'training time (minutes)=', '1.6500', 'loss=', '115.753853510')\n",
      "('Epoch:', '0474', 'training time (minutes)=', '1.6508', 'loss=', '115.766196628')\n",
      "('Epoch:', '0475', 'training time (minutes)=', '1.6464', 'loss=', '115.785053475')\n",
      "INFO:tensorflow:/orions4-zfs/projects/lins2/Panos_Space/DATA/OUT/models/incomplete_pclouds/paper_vanilla_vscan/7_vessel_2048_4096pts_emd/models.ckpt-475 is not in all_model_checkpoint_paths. Manually adding it.\n"
     ]
    },
    {
     "name": "stderr",
     "output_type": "stream",
     "text": [
      "INFO:tensorflow:/orions4-zfs/projects/lins2/Panos_Space/DATA/OUT/models/incomplete_pclouds/paper_vanilla_vscan/7_vessel_2048_4096pts_emd/models.ckpt-475 is not in all_model_checkpoint_paths. Manually adding it.\n"
     ]
    },
    {
     "name": "stdout",
     "output_type": "stream",
     "text": [
      "('Epoch:', '0476', 'training time (minutes)=', '1.6577', 'loss=', '115.483710444')\n",
      "('Epoch:', '0477', 'training time (minutes)=', '1.6540', 'loss=', '115.708329622')\n",
      "('Epoch:', '0478', 'training time (minutes)=', '1.6509', 'loss=', '115.466238953')\n",
      "('Epoch:', '0479', 'training time (minutes)=', '1.6476', 'loss=', '115.789118345')\n",
      "('Epoch:', '0480', 'training time (minutes)=', '1.6569', 'loss=', '115.440013398')\n",
      "INFO:tensorflow:/orions4-zfs/projects/lins2/Panos_Space/DATA/OUT/models/incomplete_pclouds/paper_vanilla_vscan/7_vessel_2048_4096pts_emd/models.ckpt-480 is not in all_model_checkpoint_paths. Manually adding it.\n"
     ]
    },
    {
     "name": "stderr",
     "output_type": "stream",
     "text": [
      "INFO:tensorflow:/orions4-zfs/projects/lins2/Panos_Space/DATA/OUT/models/incomplete_pclouds/paper_vanilla_vscan/7_vessel_2048_4096pts_emd/models.ckpt-480 is not in all_model_checkpoint_paths. Manually adding it.\n"
     ]
    },
    {
     "name": "stdout",
     "output_type": "stream",
     "text": [
      "('Epoch:', '0481', 'training time (minutes)=', '1.6474', 'loss=', '115.577871500')\n",
      "('Epoch:', '0482', 'training time (minutes)=', '1.6495', 'loss=', '115.631251091')\n",
      "('Epoch:', '0483', 'training time (minutes)=', '1.6466', 'loss=', '115.562173577')\n",
      "('Epoch:', '0484', 'training time (minutes)=', '1.6492', 'loss=', '115.285684364')\n",
      "('Epoch:', '0485', 'training time (minutes)=', '1.6768', 'loss=', '115.543588904')\n",
      "INFO:tensorflow:/orions4-zfs/projects/lins2/Panos_Space/DATA/OUT/models/incomplete_pclouds/paper_vanilla_vscan/7_vessel_2048_4096pts_emd/models.ckpt-485 is not in all_model_checkpoint_paths. Manually adding it.\n"
     ]
    },
    {
     "name": "stderr",
     "output_type": "stream",
     "text": [
      "INFO:tensorflow:/orions4-zfs/projects/lins2/Panos_Space/DATA/OUT/models/incomplete_pclouds/paper_vanilla_vscan/7_vessel_2048_4096pts_emd/models.ckpt-485 is not in all_model_checkpoint_paths. Manually adding it.\n"
     ]
    },
    {
     "name": "stdout",
     "output_type": "stream",
     "text": [
      "('Epoch:', '0486', 'training time (minutes)=', '1.6507', 'loss=', '115.455472636')\n",
      "('Epoch:', '0487', 'training time (minutes)=', '1.6564', 'loss=', '115.228209606')\n",
      "('Epoch:', '0488', 'training time (minutes)=', '1.6708', 'loss=', '115.137152605')\n",
      "('Epoch:', '0489', 'training time (minutes)=', '1.6414', 'loss=', '115.533327236')\n",
      "('Epoch:', '0490', 'training time (minutes)=', '1.6649', 'loss=', '115.322438528')\n",
      "INFO:tensorflow:/orions4-zfs/projects/lins2/Panos_Space/DATA/OUT/models/incomplete_pclouds/paper_vanilla_vscan/7_vessel_2048_4096pts_emd/models.ckpt-490 is not in all_model_checkpoint_paths. Manually adding it.\n"
     ]
    },
    {
     "name": "stderr",
     "output_type": "stream",
     "text": [
      "INFO:tensorflow:/orions4-zfs/projects/lins2/Panos_Space/DATA/OUT/models/incomplete_pclouds/paper_vanilla_vscan/7_vessel_2048_4096pts_emd/models.ckpt-490 is not in all_model_checkpoint_paths. Manually adding it.\n"
     ]
    },
    {
     "name": "stdout",
     "output_type": "stream",
     "text": [
      "('Epoch:', '0491', 'training time (minutes)=', '1.6486', 'loss=', '115.013207103')\n",
      "('Epoch:', '0492', 'training time (minutes)=', '1.6607', 'loss=', '115.206592870')\n",
      "('Epoch:', '0493', 'training time (minutes)=', '1.6529', 'loss=', '115.434882319')\n",
      "('Epoch:', '0494', 'training time (minutes)=', '1.6526', 'loss=', '115.423247803')\n",
      "('Epoch:', '0495', 'training time (minutes)=', '1.6606', 'loss=', '115.201956505')\n",
      "INFO:tensorflow:/orions4-zfs/projects/lins2/Panos_Space/DATA/OUT/models/incomplete_pclouds/paper_vanilla_vscan/7_vessel_2048_4096pts_emd/models.ckpt-495 is not in all_model_checkpoint_paths. Manually adding it.\n"
     ]
    },
    {
     "name": "stderr",
     "output_type": "stream",
     "text": [
      "INFO:tensorflow:/orions4-zfs/projects/lins2/Panos_Space/DATA/OUT/models/incomplete_pclouds/paper_vanilla_vscan/7_vessel_2048_4096pts_emd/models.ckpt-495 is not in all_model_checkpoint_paths. Manually adding it.\n"
     ]
    },
    {
     "name": "stdout",
     "output_type": "stream",
     "text": [
      "('Epoch:', '0496', 'training time (minutes)=', '1.6614', 'loss=', '115.331860831')\n",
      "('Epoch:', '0497', 'training time (minutes)=', '1.6622', 'loss=', '115.361108824')\n",
      "('Epoch:', '0498', 'training time (minutes)=', '1.6672', 'loss=', '115.208957184')\n",
      "('Epoch:', '0499', 'training time (minutes)=', '1.6826', 'loss=', '115.291377267')\n",
      "('Epoch:', '0500', 'training time (minutes)=', '1.6545', 'loss=', '115.045389796')\n",
      "INFO:tensorflow:/orions4-zfs/projects/lins2/Panos_Space/DATA/OUT/models/incomplete_pclouds/paper_vanilla_vscan/7_vessel_2048_4096pts_emd/models.ckpt-500 is not in all_model_checkpoint_paths. Manually adding it.\n"
     ]
    },
    {
     "name": "stderr",
     "output_type": "stream",
     "text": [
      "INFO:tensorflow:/orions4-zfs/projects/lins2/Panos_Space/DATA/OUT/models/incomplete_pclouds/paper_vanilla_vscan/7_vessel_2048_4096pts_emd/models.ckpt-500 is not in all_model_checkpoint_paths. Manually adding it.\n"
     ]
    },
    {
     "name": "stdout",
     "output_type": "stream",
     "text": [
      "('Epoch:', '0501', 'training time (minutes)=', '1.6484', 'loss=', '115.023406849')\n",
      "('Epoch:', '0502', 'training time (minutes)=', '1.6539', 'loss=', '114.854030742')\n",
      "('Epoch:', '0503', 'training time (minutes)=', '1.6549', 'loss=', '115.236707865')\n",
      "('Epoch:', '0504', 'training time (minutes)=', '1.6781', 'loss=', '115.084660109')\n",
      "('Epoch:', '0505', 'training time (minutes)=', '1.6575', 'loss=', '115.133432433')\n",
      "INFO:tensorflow:/orions4-zfs/projects/lins2/Panos_Space/DATA/OUT/models/incomplete_pclouds/paper_vanilla_vscan/7_vessel_2048_4096pts_emd/models.ckpt-505 is not in all_model_checkpoint_paths. Manually adding it.\n"
     ]
    },
    {
     "name": "stderr",
     "output_type": "stream",
     "text": [
      "INFO:tensorflow:/orions4-zfs/projects/lins2/Panos_Space/DATA/OUT/models/incomplete_pclouds/paper_vanilla_vscan/7_vessel_2048_4096pts_emd/models.ckpt-505 is not in all_model_checkpoint_paths. Manually adding it.\n"
     ]
    },
    {
     "name": "stdout",
     "output_type": "stream",
     "text": [
      "('Epoch:', '0506', 'training time (minutes)=', '1.6567', 'loss=', '115.287765547')\n",
      "('Epoch:', '0507', 'training time (minutes)=', '1.6653', 'loss=', '115.465535408')\n",
      "('Epoch:', '0508', 'training time (minutes)=', '1.6644', 'loss=', '115.058575386')\n",
      "('Epoch:', '0509', 'training time (minutes)=', '1.6449', 'loss=', '114.881941197')\n",
      "('Epoch:', '0510', 'training time (minutes)=', '1.6415', 'loss=', '114.955819330')\n",
      "INFO:tensorflow:/orions4-zfs/projects/lins2/Panos_Space/DATA/OUT/models/incomplete_pclouds/paper_vanilla_vscan/7_vessel_2048_4096pts_emd/models.ckpt-510 is not in all_model_checkpoint_paths. Manually adding it.\n"
     ]
    },
    {
     "name": "stderr",
     "output_type": "stream",
     "text": [
      "INFO:tensorflow:/orions4-zfs/projects/lins2/Panos_Space/DATA/OUT/models/incomplete_pclouds/paper_vanilla_vscan/7_vessel_2048_4096pts_emd/models.ckpt-510 is not in all_model_checkpoint_paths. Manually adding it.\n"
     ]
    },
    {
     "name": "stdout",
     "output_type": "stream",
     "text": [
      "('Epoch:', '0511', 'training time (minutes)=', '1.6607', 'loss=', '114.765968545')\n",
      "('Epoch:', '0512', 'training time (minutes)=', '1.6535', 'loss=', '114.828988940')\n",
      "('Epoch:', '0513', 'training time (minutes)=', '1.6554', 'loss=', '115.183304144')\n",
      "('Epoch:', '0514', 'training time (minutes)=', '1.6547', 'loss=', '114.900567299')\n",
      "('Epoch:', '0515', 'training time (minutes)=', '1.6728', 'loss=', '115.089459264')\n",
      "INFO:tensorflow:/orions4-zfs/projects/lins2/Panos_Space/DATA/OUT/models/incomplete_pclouds/paper_vanilla_vscan/7_vessel_2048_4096pts_emd/models.ckpt-515 is not in all_model_checkpoint_paths. Manually adding it.\n"
     ]
    },
    {
     "name": "stderr",
     "output_type": "stream",
     "text": [
      "INFO:tensorflow:/orions4-zfs/projects/lins2/Panos_Space/DATA/OUT/models/incomplete_pclouds/paper_vanilla_vscan/7_vessel_2048_4096pts_emd/models.ckpt-515 is not in all_model_checkpoint_paths. Manually adding it.\n"
     ]
    },
    {
     "name": "stdout",
     "output_type": "stream",
     "text": [
      "('Epoch:', '0516', 'training time (minutes)=', '1.6752', 'loss=', '114.512101817')\n",
      "('Epoch:', '0517', 'training time (minutes)=', '1.6468', 'loss=', '115.241004145')\n",
      "('Epoch:', '0518', 'training time (minutes)=', '1.6488', 'loss=', '114.864267083')\n",
      "('Epoch:', '0519', 'training time (minutes)=', '1.6601', 'loss=', '114.661034030')\n",
      "('Epoch:', '0520', 'training time (minutes)=', '1.6486', 'loss=', '114.691180118')\n",
      "INFO:tensorflow:/orions4-zfs/projects/lins2/Panos_Space/DATA/OUT/models/incomplete_pclouds/paper_vanilla_vscan/7_vessel_2048_4096pts_emd/models.ckpt-520 is not in all_model_checkpoint_paths. Manually adding it.\n"
     ]
    },
    {
     "name": "stderr",
     "output_type": "stream",
     "text": [
      "INFO:tensorflow:/orions4-zfs/projects/lins2/Panos_Space/DATA/OUT/models/incomplete_pclouds/paper_vanilla_vscan/7_vessel_2048_4096pts_emd/models.ckpt-520 is not in all_model_checkpoint_paths. Manually adding it.\n"
     ]
    },
    {
     "name": "stdout",
     "output_type": "stream",
     "text": [
      "('Epoch:', '0521', 'training time (minutes)=', '1.6494', 'loss=', '114.719034860')\n",
      "('Epoch:', '0522', 'training time (minutes)=', '1.6494', 'loss=', '115.063195694')\n",
      "('Epoch:', '0523', 'training time (minutes)=', '1.6488', 'loss=', '114.808150003')\n",
      "('Epoch:', '0524', 'training time (minutes)=', '1.6505', 'loss=', '114.596032298')\n",
      "('Epoch:', '0525', 'training time (minutes)=', '1.6627', 'loss=', '115.200913318')\n",
      "INFO:tensorflow:/orions4-zfs/projects/lins2/Panos_Space/DATA/OUT/models/incomplete_pclouds/paper_vanilla_vscan/7_vessel_2048_4096pts_emd/models.ckpt-525 is not in all_model_checkpoint_paths. Manually adding it.\n"
     ]
    },
    {
     "name": "stderr",
     "output_type": "stream",
     "text": [
      "INFO:tensorflow:/orions4-zfs/projects/lins2/Panos_Space/DATA/OUT/models/incomplete_pclouds/paper_vanilla_vscan/7_vessel_2048_4096pts_emd/models.ckpt-525 is not in all_model_checkpoint_paths. Manually adding it.\n"
     ]
    },
    {
     "name": "stdout",
     "output_type": "stream",
     "text": [
      "('Epoch:', '0526', 'training time (minutes)=', '1.6509', 'loss=', '114.319360201')\n",
      "('Epoch:', '0527', 'training time (minutes)=', '1.6607', 'loss=', '114.545460768')\n",
      "('Epoch:', '0528', 'training time (minutes)=', '1.6698', 'loss=', '114.824106837')\n",
      "('Epoch:', '0529', 'training time (minutes)=', '1.6569', 'loss=', '114.683027977')\n",
      "('Epoch:', '0530', 'training time (minutes)=', '1.6574', 'loss=', '114.467290834')\n",
      "INFO:tensorflow:/orions4-zfs/projects/lins2/Panos_Space/DATA/OUT/models/incomplete_pclouds/paper_vanilla_vscan/7_vessel_2048_4096pts_emd/models.ckpt-530 is not in all_model_checkpoint_paths. Manually adding it.\n"
     ]
    },
    {
     "name": "stderr",
     "output_type": "stream",
     "text": [
      "INFO:tensorflow:/orions4-zfs/projects/lins2/Panos_Space/DATA/OUT/models/incomplete_pclouds/paper_vanilla_vscan/7_vessel_2048_4096pts_emd/models.ckpt-530 is not in all_model_checkpoint_paths. Manually adding it.\n"
     ]
    },
    {
     "name": "stdout",
     "output_type": "stream",
     "text": [
      "('Epoch:', '0531', 'training time (minutes)=', '1.6649', 'loss=', '114.796070188')\n",
      "('Epoch:', '0532', 'training time (minutes)=', '1.6847', 'loss=', '114.401101268')\n",
      "('Epoch:', '0533', 'training time (minutes)=', '1.6819', 'loss=', '114.460121510')\n",
      "('Epoch:', '0534', 'training time (minutes)=', '1.6649', 'loss=', '114.757368398')\n",
      "('Epoch:', '0535', 'training time (minutes)=', '1.6693', 'loss=', '114.662519544')\n",
      "INFO:tensorflow:/orions4-zfs/projects/lins2/Panos_Space/DATA/OUT/models/incomplete_pclouds/paper_vanilla_vscan/7_vessel_2048_4096pts_emd/models.ckpt-535 is not in all_model_checkpoint_paths. Manually adding it.\n"
     ]
    },
    {
     "name": "stderr",
     "output_type": "stream",
     "text": [
      "INFO:tensorflow:/orions4-zfs/projects/lins2/Panos_Space/DATA/OUT/models/incomplete_pclouds/paper_vanilla_vscan/7_vessel_2048_4096pts_emd/models.ckpt-535 is not in all_model_checkpoint_paths. Manually adding it.\n"
     ]
    },
    {
     "name": "stdout",
     "output_type": "stream",
     "text": [
      "('Epoch:', '0536', 'training time (minutes)=', '1.6551', 'loss=', '114.489906045')\n",
      "('Epoch:', '0537', 'training time (minutes)=', '1.6669', 'loss=', '114.895553899')\n",
      "('Epoch:', '0538', 'training time (minutes)=', '1.6726', 'loss=', '114.484006970')\n",
      "('Epoch:', '0539', 'training time (minutes)=', '1.6690', 'loss=', '114.900614539')\n",
      "('Epoch:', '0540', 'training time (minutes)=', '1.6529', 'loss=', '114.503980326')\n",
      "INFO:tensorflow:/orions4-zfs/projects/lins2/Panos_Space/DATA/OUT/models/incomplete_pclouds/paper_vanilla_vscan/7_vessel_2048_4096pts_emd/models.ckpt-540 is not in all_model_checkpoint_paths. Manually adding it.\n"
     ]
    },
    {
     "name": "stderr",
     "output_type": "stream",
     "text": [
      "INFO:tensorflow:/orions4-zfs/projects/lins2/Panos_Space/DATA/OUT/models/incomplete_pclouds/paper_vanilla_vscan/7_vessel_2048_4096pts_emd/models.ckpt-540 is not in all_model_checkpoint_paths. Manually adding it.\n"
     ]
    },
    {
     "name": "stdout",
     "output_type": "stream",
     "text": [
      "('Epoch:', '0541', 'training time (minutes)=', '1.6581', 'loss=', '114.282884908')\n",
      "('Epoch:', '0542', 'training time (minutes)=', '1.6530', 'loss=', '114.101421933')\n",
      "('Epoch:', '0543', 'training time (minutes)=', '1.6652', 'loss=', '114.654831953')\n",
      "('Epoch:', '0544', 'training time (minutes)=', '1.6579', 'loss=', '114.409170506')\n",
      "('Epoch:', '0545', 'training time (minutes)=', '1.6570', 'loss=', '114.126520157')\n",
      "INFO:tensorflow:/orions4-zfs/projects/lins2/Panos_Space/DATA/OUT/models/incomplete_pclouds/paper_vanilla_vscan/7_vessel_2048_4096pts_emd/models.ckpt-545 is not in all_model_checkpoint_paths. Manually adding it.\n"
     ]
    },
    {
     "name": "stderr",
     "output_type": "stream",
     "text": [
      "INFO:tensorflow:/orions4-zfs/projects/lins2/Panos_Space/DATA/OUT/models/incomplete_pclouds/paper_vanilla_vscan/7_vessel_2048_4096pts_emd/models.ckpt-545 is not in all_model_checkpoint_paths. Manually adding it.\n"
     ]
    },
    {
     "name": "stdout",
     "output_type": "stream",
     "text": [
      "('Epoch:', '0546', 'training time (minutes)=', '1.6459', 'loss=', '114.379843202')\n",
      "('Epoch:', '0547', 'training time (minutes)=', '1.6590', 'loss=', '114.288389206')\n",
      "('Epoch:', '0548', 'training time (minutes)=', '1.6621', 'loss=', '114.353031292')\n",
      "('Epoch:', '0549', 'training time (minutes)=', '1.6590', 'loss=', '114.269046207')\n",
      "('Epoch:', '0550', 'training time (minutes)=', '1.6546', 'loss=', '114.428277659')\n",
      "INFO:tensorflow:/orions4-zfs/projects/lins2/Panos_Space/DATA/OUT/models/incomplete_pclouds/paper_vanilla_vscan/7_vessel_2048_4096pts_emd/models.ckpt-550 is not in all_model_checkpoint_paths. Manually adding it.\n"
     ]
    },
    {
     "name": "stderr",
     "output_type": "stream",
     "text": [
      "INFO:tensorflow:/orions4-zfs/projects/lins2/Panos_Space/DATA/OUT/models/incomplete_pclouds/paper_vanilla_vscan/7_vessel_2048_4096pts_emd/models.ckpt-550 is not in all_model_checkpoint_paths. Manually adding it.\n"
     ]
    },
    {
     "name": "stdout",
     "output_type": "stream",
     "text": [
      "('Epoch:', '0551', 'training time (minutes)=', '1.6563', 'loss=', '114.249927920')\n",
      "('Epoch:', '0552', 'training time (minutes)=', '1.6504', 'loss=', '113.948456964')\n",
      "('Epoch:', '0553', 'training time (minutes)=', '1.6619', 'loss=', '114.464131333')\n",
      "('Epoch:', '0554', 'training time (minutes)=', '1.6608', 'loss=', '114.358516028')\n",
      "('Epoch:', '0555', 'training time (minutes)=', '1.6503', 'loss=', '114.208259272')\n",
      "INFO:tensorflow:/orions4-zfs/projects/lins2/Panos_Space/DATA/OUT/models/incomplete_pclouds/paper_vanilla_vscan/7_vessel_2048_4096pts_emd/models.ckpt-555 is not in all_model_checkpoint_paths. Manually adding it.\n"
     ]
    },
    {
     "name": "stderr",
     "output_type": "stream",
     "text": [
      "INFO:tensorflow:/orions4-zfs/projects/lins2/Panos_Space/DATA/OUT/models/incomplete_pclouds/paper_vanilla_vscan/7_vessel_2048_4096pts_emd/models.ckpt-555 is not in all_model_checkpoint_paths. Manually adding it.\n"
     ]
    },
    {
     "name": "stdout",
     "output_type": "stream",
     "text": [
      "('Epoch:', '0556', 'training time (minutes)=', '1.6565', 'loss=', '114.457493849')\n",
      "('Epoch:', '0557', 'training time (minutes)=', '1.6565', 'loss=', '114.505890159')\n",
      "('Epoch:', '0558', 'training time (minutes)=', '1.6481', 'loss=', '114.182190474')\n",
      "('Epoch:', '0559', 'training time (minutes)=', '1.6526', 'loss=', '113.802634838')\n",
      "('Epoch:', '0560', 'training time (minutes)=', '1.6403', 'loss=', '114.279437930')\n",
      "INFO:tensorflow:/orions4-zfs/projects/lins2/Panos_Space/DATA/OUT/models/incomplete_pclouds/paper_vanilla_vscan/7_vessel_2048_4096pts_emd/models.ckpt-560 is not in all_model_checkpoint_paths. Manually adding it.\n"
     ]
    },
    {
     "name": "stderr",
     "output_type": "stream",
     "text": [
      "INFO:tensorflow:/orions4-zfs/projects/lins2/Panos_Space/DATA/OUT/models/incomplete_pclouds/paper_vanilla_vscan/7_vessel_2048_4096pts_emd/models.ckpt-560 is not in all_model_checkpoint_paths. Manually adding it.\n"
     ]
    },
    {
     "name": "stdout",
     "output_type": "stream",
     "text": [
      "('Epoch:', '0561', 'training time (minutes)=', '1.6469', 'loss=', '114.033239320')\n",
      "('Epoch:', '0562', 'training time (minutes)=', '1.6404', 'loss=', '114.189196698')\n",
      "('Epoch:', '0563', 'training time (minutes)=', '1.6489', 'loss=', '113.953718097')\n",
      "('Epoch:', '0564', 'training time (minutes)=', '1.6475', 'loss=', '114.010162265')\n",
      "('Epoch:', '0565', 'training time (minutes)=', '1.6556', 'loss=', '113.739035096')\n",
      "INFO:tensorflow:/orions4-zfs/projects/lins2/Panos_Space/DATA/OUT/models/incomplete_pclouds/paper_vanilla_vscan/7_vessel_2048_4096pts_emd/models.ckpt-565 is not in all_model_checkpoint_paths. Manually adding it.\n"
     ]
    },
    {
     "name": "stderr",
     "output_type": "stream",
     "text": [
      "INFO:tensorflow:/orions4-zfs/projects/lins2/Panos_Space/DATA/OUT/models/incomplete_pclouds/paper_vanilla_vscan/7_vessel_2048_4096pts_emd/models.ckpt-565 is not in all_model_checkpoint_paths. Manually adding it.\n"
     ]
    },
    {
     "name": "stdout",
     "output_type": "stream",
     "text": [
      "('Epoch:', '0566', 'training time (minutes)=', '1.6525', 'loss=', '113.949747352')\n",
      "('Epoch:', '0567', 'training time (minutes)=', '1.6491', 'loss=', '114.166656893')\n",
      "('Epoch:', '0568', 'training time (minutes)=', '1.6653', 'loss=', '114.330450191')\n",
      "('Epoch:', '0569', 'training time (minutes)=', '1.6612', 'loss=', '114.516855329')\n",
      "('Epoch:', '0570', 'training time (minutes)=', '1.6525', 'loss=', '113.865578585')\n",
      "INFO:tensorflow:/orions4-zfs/projects/lins2/Panos_Space/DATA/OUT/models/incomplete_pclouds/paper_vanilla_vscan/7_vessel_2048_4096pts_emd/models.ckpt-570 is not in all_model_checkpoint_paths. Manually adding it.\n"
     ]
    },
    {
     "name": "stderr",
     "output_type": "stream",
     "text": [
      "INFO:tensorflow:/orions4-zfs/projects/lins2/Panos_Space/DATA/OUT/models/incomplete_pclouds/paper_vanilla_vscan/7_vessel_2048_4096pts_emd/models.ckpt-570 is not in all_model_checkpoint_paths. Manually adding it.\n"
     ]
    },
    {
     "name": "stdout",
     "output_type": "stream",
     "text": [
      "('Epoch:', '0571', 'training time (minutes)=', '1.6407', 'loss=', '113.996545215')\n",
      "('Epoch:', '0572', 'training time (minutes)=', '1.6547', 'loss=', '113.561737992')\n",
      "('Epoch:', '0573', 'training time (minutes)=', '1.6475', 'loss=', '113.869701652')\n",
      "('Epoch:', '0574', 'training time (minutes)=', '1.6445', 'loss=', '113.664749101')\n",
      "('Epoch:', '0575', 'training time (minutes)=', '1.6459', 'loss=', '114.173311677')\n",
      "INFO:tensorflow:/orions4-zfs/projects/lins2/Panos_Space/DATA/OUT/models/incomplete_pclouds/paper_vanilla_vscan/7_vessel_2048_4096pts_emd/models.ckpt-575 is not in all_model_checkpoint_paths. Manually adding it.\n"
     ]
    },
    {
     "name": "stderr",
     "output_type": "stream",
     "text": [
      "INFO:tensorflow:/orions4-zfs/projects/lins2/Panos_Space/DATA/OUT/models/incomplete_pclouds/paper_vanilla_vscan/7_vessel_2048_4096pts_emd/models.ckpt-575 is not in all_model_checkpoint_paths. Manually adding it.\n"
     ]
    },
    {
     "name": "stdout",
     "output_type": "stream",
     "text": [
      "('Epoch:', '0576', 'training time (minutes)=', '1.6584', 'loss=', '113.920095976')\n",
      "('Epoch:', '0577', 'training time (minutes)=', '1.6490', 'loss=', '113.842792821')\n",
      "('Epoch:', '0578', 'training time (minutes)=', '1.6507', 'loss=', '113.963966991')\n",
      "('Epoch:', '0579', 'training time (minutes)=', '1.6518', 'loss=', '113.680253894')\n",
      "('Epoch:', '0580', 'training time (minutes)=', '1.6525', 'loss=', '113.650098623')\n",
      "INFO:tensorflow:/orions4-zfs/projects/lins2/Panos_Space/DATA/OUT/models/incomplete_pclouds/paper_vanilla_vscan/7_vessel_2048_4096pts_emd/models.ckpt-580 is not in all_model_checkpoint_paths. Manually adding it.\n"
     ]
    },
    {
     "name": "stderr",
     "output_type": "stream",
     "text": [
      "INFO:tensorflow:/orions4-zfs/projects/lins2/Panos_Space/DATA/OUT/models/incomplete_pclouds/paper_vanilla_vscan/7_vessel_2048_4096pts_emd/models.ckpt-580 is not in all_model_checkpoint_paths. Manually adding it.\n"
     ]
    },
    {
     "name": "stdout",
     "output_type": "stream",
     "text": [
      "('Epoch:', '0581', 'training time (minutes)=', '1.6493', 'loss=', '113.600932454')\n",
      "('Epoch:', '0582', 'training time (minutes)=', '1.6490', 'loss=', '113.602641438')\n",
      "('Epoch:', '0583', 'training time (minutes)=', '1.6503', 'loss=', '113.796200996')\n",
      "('Epoch:', '0584', 'training time (minutes)=', '1.6505', 'loss=', '113.730197241')\n",
      "('Epoch:', '0585', 'training time (minutes)=', '1.6415', 'loss=', '113.882904541')\n",
      "INFO:tensorflow:/orions4-zfs/projects/lins2/Panos_Space/DATA/OUT/models/incomplete_pclouds/paper_vanilla_vscan/7_vessel_2048_4096pts_emd/models.ckpt-585 is not in all_model_checkpoint_paths. Manually adding it.\n"
     ]
    },
    {
     "name": "stderr",
     "output_type": "stream",
     "text": [
      "INFO:tensorflow:/orions4-zfs/projects/lins2/Panos_Space/DATA/OUT/models/incomplete_pclouds/paper_vanilla_vscan/7_vessel_2048_4096pts_emd/models.ckpt-585 is not in all_model_checkpoint_paths. Manually adding it.\n"
     ]
    },
    {
     "name": "stdout",
     "output_type": "stream",
     "text": [
      "('Epoch:', '0586', 'training time (minutes)=', '1.6609', 'loss=', '113.811986524')\n",
      "('Epoch:', '0587', 'training time (minutes)=', '1.6678', 'loss=', '113.646911932')\n",
      "('Epoch:', '0588', 'training time (minutes)=', '1.6676', 'loss=', '113.653525508')\n",
      "('Epoch:', '0589', 'training time (minutes)=', '1.6468', 'loss=', '113.679046897')\n",
      "('Epoch:', '0590', 'training time (minutes)=', '1.6385', 'loss=', '113.767763138')\n",
      "INFO:tensorflow:/orions4-zfs/projects/lins2/Panos_Space/DATA/OUT/models/incomplete_pclouds/paper_vanilla_vscan/7_vessel_2048_4096pts_emd/models.ckpt-590 is not in all_model_checkpoint_paths. Manually adding it.\n"
     ]
    },
    {
     "name": "stderr",
     "output_type": "stream",
     "text": [
      "INFO:tensorflow:/orions4-zfs/projects/lins2/Panos_Space/DATA/OUT/models/incomplete_pclouds/paper_vanilla_vscan/7_vessel_2048_4096pts_emd/models.ckpt-590 is not in all_model_checkpoint_paths. Manually adding it.\n"
     ]
    },
    {
     "name": "stdout",
     "output_type": "stream",
     "text": [
      "('Epoch:', '0591', 'training time (minutes)=', '1.6537', 'loss=', '113.327086914')\n",
      "('Epoch:', '0592', 'training time (minutes)=', '1.6558', 'loss=', '113.906124248')\n",
      "('Epoch:', '0593', 'training time (minutes)=', '1.6573', 'loss=', '113.651269780')\n",
      "('Epoch:', '0594', 'training time (minutes)=', '1.6532', 'loss=', '113.583959402')\n",
      "('Epoch:', '0595', 'training time (minutes)=', '1.6317', 'loss=', '113.533728932')\n",
      "INFO:tensorflow:/orions4-zfs/projects/lins2/Panos_Space/DATA/OUT/models/incomplete_pclouds/paper_vanilla_vscan/7_vessel_2048_4096pts_emd/models.ckpt-595 is not in all_model_checkpoint_paths. Manually adding it.\n"
     ]
    },
    {
     "name": "stderr",
     "output_type": "stream",
     "text": [
      "INFO:tensorflow:/orions4-zfs/projects/lins2/Panos_Space/DATA/OUT/models/incomplete_pclouds/paper_vanilla_vscan/7_vessel_2048_4096pts_emd/models.ckpt-595 is not in all_model_checkpoint_paths. Manually adding it.\n"
     ]
    },
    {
     "name": "stdout",
     "output_type": "stream",
     "text": [
      "('Epoch:', '0596', 'training time (minutes)=', '1.6339', 'loss=', '113.532178613')\n",
      "('Epoch:', '0597', 'training time (minutes)=', '1.6331', 'loss=', '113.379174610')\n",
      "('Epoch:', '0598', 'training time (minutes)=', '1.6319', 'loss=', '113.436569480')\n",
      "('Epoch:', '0599', 'training time (minutes)=', '1.6415', 'loss=', '113.860812209')\n",
      "('Epoch:', '0600', 'training time (minutes)=', '1.6336', 'loss=', '113.394934055')\n",
      "INFO:tensorflow:/orions4-zfs/projects/lins2/Panos_Space/DATA/OUT/models/incomplete_pclouds/paper_vanilla_vscan/7_vessel_2048_4096pts_emd/models.ckpt-600 is not in all_model_checkpoint_paths. Manually adding it.\n"
     ]
    },
    {
     "name": "stderr",
     "output_type": "stream",
     "text": [
      "INFO:tensorflow:/orions4-zfs/projects/lins2/Panos_Space/DATA/OUT/models/incomplete_pclouds/paper_vanilla_vscan/7_vessel_2048_4096pts_emd/models.ckpt-600 is not in all_model_checkpoint_paths. Manually adding it.\n"
     ]
    },
    {
     "name": "stdout",
     "output_type": "stream",
     "text": [
      "('Epoch:', '0601', 'training time (minutes)=', '1.6333', 'loss=', '113.525281063')\n",
      "('Epoch:', '0602', 'training time (minutes)=', '1.6315', 'loss=', '113.336690903')\n",
      "('Epoch:', '0603', 'training time (minutes)=', '1.6292', 'loss=', '113.674164262')\n",
      "('Epoch:', '0604', 'training time (minutes)=', '1.6346', 'loss=', '113.371795876')\n",
      "('Epoch:', '0605', 'training time (minutes)=', '1.6538', 'loss=', '113.649660377')\n",
      "INFO:tensorflow:/orions4-zfs/projects/lins2/Panos_Space/DATA/OUT/models/incomplete_pclouds/paper_vanilla_vscan/7_vessel_2048_4096pts_emd/models.ckpt-605 is not in all_model_checkpoint_paths. Manually adding it.\n"
     ]
    },
    {
     "name": "stderr",
     "output_type": "stream",
     "text": [
      "INFO:tensorflow:/orions4-zfs/projects/lins2/Panos_Space/DATA/OUT/models/incomplete_pclouds/paper_vanilla_vscan/7_vessel_2048_4096pts_emd/models.ckpt-605 is not in all_model_checkpoint_paths. Manually adding it.\n"
     ]
    },
    {
     "name": "stdout",
     "output_type": "stream",
     "text": [
      "('Epoch:', '0606', 'training time (minutes)=', '1.6360', 'loss=', '113.421497478')\n",
      "('Epoch:', '0607', 'training time (minutes)=', '1.6351', 'loss=', '113.699193245')\n",
      "('Epoch:', '0608', 'training time (minutes)=', '1.6290', 'loss=', '113.128228786')\n",
      "('Epoch:', '0609', 'training time (minutes)=', '1.6290', 'loss=', '113.313087020')\n",
      "('Epoch:', '0610', 'training time (minutes)=', '1.6274', 'loss=', '113.476217580')\n",
      "INFO:tensorflow:/orions4-zfs/projects/lins2/Panos_Space/DATA/OUT/models/incomplete_pclouds/paper_vanilla_vscan/7_vessel_2048_4096pts_emd/models.ckpt-610 is not in all_model_checkpoint_paths. Manually adding it.\n"
     ]
    },
    {
     "name": "stderr",
     "output_type": "stream",
     "text": [
      "INFO:tensorflow:/orions4-zfs/projects/lins2/Panos_Space/DATA/OUT/models/incomplete_pclouds/paper_vanilla_vscan/7_vessel_2048_4096pts_emd/models.ckpt-610 is not in all_model_checkpoint_paths. Manually adding it.\n"
     ]
    },
    {
     "name": "stdout",
     "output_type": "stream",
     "text": [
      "('Epoch:', '0611', 'training time (minutes)=', '1.6463', 'loss=', '113.154382927')\n",
      "('Epoch:', '0612', 'training time (minutes)=', '1.6344', 'loss=', '113.506565626')\n",
      "('Epoch:', '0613', 'training time (minutes)=', '1.6301', 'loss=', '113.396646988')\n",
      "('Epoch:', '0614', 'training time (minutes)=', '1.6257', 'loss=', '113.412970565')\n",
      "('Epoch:', '0615', 'training time (minutes)=', '1.6440', 'loss=', '113.364661727')\n",
      "INFO:tensorflow:/orions4-zfs/projects/lins2/Panos_Space/DATA/OUT/models/incomplete_pclouds/paper_vanilla_vscan/7_vessel_2048_4096pts_emd/models.ckpt-615 is not in all_model_checkpoint_paths. Manually adding it.\n"
     ]
    },
    {
     "name": "stderr",
     "output_type": "stream",
     "text": [
      "INFO:tensorflow:/orions4-zfs/projects/lins2/Panos_Space/DATA/OUT/models/incomplete_pclouds/paper_vanilla_vscan/7_vessel_2048_4096pts_emd/models.ckpt-615 is not in all_model_checkpoint_paths. Manually adding it.\n"
     ]
    },
    {
     "name": "stdout",
     "output_type": "stream",
     "text": [
      "('Epoch:', '0616', 'training time (minutes)=', '1.6263', 'loss=', '113.534656436')\n",
      "('Epoch:', '0617', 'training time (minutes)=', '1.6370', 'loss=', '113.424516190')\n",
      "('Epoch:', '0618', 'training time (minutes)=', '1.6418', 'loss=', '113.377317473')\n",
      "('Epoch:', '0619', 'training time (minutes)=', '1.6418', 'loss=', '113.275492956')\n",
      "('Epoch:', '0620', 'training time (minutes)=', '1.6403', 'loss=', '113.462402211')\n",
      "INFO:tensorflow:/orions4-zfs/projects/lins2/Panos_Space/DATA/OUT/models/incomplete_pclouds/paper_vanilla_vscan/7_vessel_2048_4096pts_emd/models.ckpt-620 is not in all_model_checkpoint_paths. Manually adding it.\n"
     ]
    },
    {
     "name": "stderr",
     "output_type": "stream",
     "text": [
      "INFO:tensorflow:/orions4-zfs/projects/lins2/Panos_Space/DATA/OUT/models/incomplete_pclouds/paper_vanilla_vscan/7_vessel_2048_4096pts_emd/models.ckpt-620 is not in all_model_checkpoint_paths. Manually adding it.\n"
     ]
    },
    {
     "name": "stdout",
     "output_type": "stream",
     "text": [
      "('Epoch:', '0621', 'training time (minutes)=', '1.6298', 'loss=', '113.279450173')\n",
      "('Epoch:', '0622', 'training time (minutes)=', '1.6290', 'loss=', '113.354533173')\n",
      "('Epoch:', '0623', 'training time (minutes)=', '1.6583', 'loss=', '112.998700785')\n",
      "('Epoch:', '0624', 'training time (minutes)=', '1.6524', 'loss=', '113.190259268')\n",
      "('Epoch:', '0625', 'training time (minutes)=', '1.6386', 'loss=', '113.153587474')\n",
      "INFO:tensorflow:/orions4-zfs/projects/lins2/Panos_Space/DATA/OUT/models/incomplete_pclouds/paper_vanilla_vscan/7_vessel_2048_4096pts_emd/models.ckpt-625 is not in all_model_checkpoint_paths. Manually adding it.\n"
     ]
    },
    {
     "name": "stderr",
     "output_type": "stream",
     "text": [
      "INFO:tensorflow:/orions4-zfs/projects/lins2/Panos_Space/DATA/OUT/models/incomplete_pclouds/paper_vanilla_vscan/7_vessel_2048_4096pts_emd/models.ckpt-625 is not in all_model_checkpoint_paths. Manually adding it.\n"
     ]
    },
    {
     "name": "stdout",
     "output_type": "stream",
     "text": [
      "('Epoch:', '0626', 'training time (minutes)=', '1.6585', 'loss=', '113.200364756')\n",
      "('Epoch:', '0627', 'training time (minutes)=', '1.6500', 'loss=', '112.957422212')\n",
      "('Epoch:', '0628', 'training time (minutes)=', '1.6307', 'loss=', '113.291339741')\n",
      "('Epoch:', '0629', 'training time (minutes)=', '1.6293', 'loss=', '113.092405718')\n",
      "('Epoch:', '0630', 'training time (minutes)=', '1.6296', 'loss=', '113.254427710')\n",
      "INFO:tensorflow:/orions4-zfs/projects/lins2/Panos_Space/DATA/OUT/models/incomplete_pclouds/paper_vanilla_vscan/7_vessel_2048_4096pts_emd/models.ckpt-630 is not in all_model_checkpoint_paths. Manually adding it.\n"
     ]
    },
    {
     "name": "stderr",
     "output_type": "stream",
     "text": [
      "INFO:tensorflow:/orions4-zfs/projects/lins2/Panos_Space/DATA/OUT/models/incomplete_pclouds/paper_vanilla_vscan/7_vessel_2048_4096pts_emd/models.ckpt-630 is not in all_model_checkpoint_paths. Manually adding it.\n"
     ]
    },
    {
     "name": "stdout",
     "output_type": "stream",
     "text": [
      "('Epoch:', '0631', 'training time (minutes)=', '1.6300', 'loss=', '112.844352146')\n",
      "('Epoch:', '0632', 'training time (minutes)=', '1.6420', 'loss=', '112.953164389')\n",
      "('Epoch:', '0633', 'training time (minutes)=', '1.6250', 'loss=', '112.872855209')\n",
      "('Epoch:', '0634', 'training time (minutes)=', '1.6297', 'loss=', '113.019114694')\n",
      "('Epoch:', '0635', 'training time (minutes)=', '1.6424', 'loss=', '113.179635425')\n",
      "INFO:tensorflow:/orions4-zfs/projects/lins2/Panos_Space/DATA/OUT/models/incomplete_pclouds/paper_vanilla_vscan/7_vessel_2048_4096pts_emd/models.ckpt-635 is not in all_model_checkpoint_paths. Manually adding it.\n"
     ]
    },
    {
     "name": "stderr",
     "output_type": "stream",
     "text": [
      "INFO:tensorflow:/orions4-zfs/projects/lins2/Panos_Space/DATA/OUT/models/incomplete_pclouds/paper_vanilla_vscan/7_vessel_2048_4096pts_emd/models.ckpt-635 is not in all_model_checkpoint_paths. Manually adding it.\n"
     ]
    },
    {
     "name": "stdout",
     "output_type": "stream",
     "text": [
      "('Epoch:', '0636', 'training time (minutes)=', '1.6366', 'loss=', '113.068523496')\n",
      "('Epoch:', '0637', 'training time (minutes)=', '1.6266', 'loss=', '113.025336820')\n",
      "('Epoch:', '0638', 'training time (minutes)=', '1.6341', 'loss=', '112.813597524')\n",
      "('Epoch:', '0639', 'training time (minutes)=', '1.6384', 'loss=', '113.125452751')\n",
      "('Epoch:', '0640', 'training time (minutes)=', '1.6329', 'loss=', '113.083745779')\n",
      "INFO:tensorflow:/orions4-zfs/projects/lins2/Panos_Space/DATA/OUT/models/incomplete_pclouds/paper_vanilla_vscan/7_vessel_2048_4096pts_emd/models.ckpt-640 is not in all_model_checkpoint_paths. Manually adding it.\n"
     ]
    },
    {
     "name": "stderr",
     "output_type": "stream",
     "text": [
      "INFO:tensorflow:/orions4-zfs/projects/lins2/Panos_Space/DATA/OUT/models/incomplete_pclouds/paper_vanilla_vscan/7_vessel_2048_4096pts_emd/models.ckpt-640 is not in all_model_checkpoint_paths. Manually adding it.\n"
     ]
    },
    {
     "name": "stdout",
     "output_type": "stream",
     "text": [
      "('Epoch:', '0641', 'training time (minutes)=', '1.6277', 'loss=', '113.122772217')\n",
      "('Epoch:', '0642', 'training time (minutes)=', '1.6405', 'loss=', '112.990899640')\n",
      "('Epoch:', '0643', 'training time (minutes)=', '1.6380', 'loss=', '112.975057291')\n",
      "('Epoch:', '0644', 'training time (minutes)=', '1.6299', 'loss=', '113.047031624')\n",
      "('Epoch:', '0645', 'training time (minutes)=', '1.6331', 'loss=', '112.909767062')\n",
      "INFO:tensorflow:/orions4-zfs/projects/lins2/Panos_Space/DATA/OUT/models/incomplete_pclouds/paper_vanilla_vscan/7_vessel_2048_4096pts_emd/models.ckpt-645 is not in all_model_checkpoint_paths. Manually adding it.\n"
     ]
    },
    {
     "name": "stderr",
     "output_type": "stream",
     "text": [
      "INFO:tensorflow:/orions4-zfs/projects/lins2/Panos_Space/DATA/OUT/models/incomplete_pclouds/paper_vanilla_vscan/7_vessel_2048_4096pts_emd/models.ckpt-645 is not in all_model_checkpoint_paths. Manually adding it.\n"
     ]
    },
    {
     "name": "stdout",
     "output_type": "stream",
     "text": [
      "('Epoch:', '0646', 'training time (minutes)=', '1.6381', 'loss=', '112.884168847')\n",
      "('Epoch:', '0647', 'training time (minutes)=', '1.6279', 'loss=', '112.947239809')\n",
      "('Epoch:', '0648', 'training time (minutes)=', '1.6393', 'loss=', '113.139863347')\n",
      "('Epoch:', '0649', 'training time (minutes)=', '1.6551', 'loss=', '112.915719986')\n",
      "('Epoch:', '0650', 'training time (minutes)=', '1.6335', 'loss=', '112.883707047')\n",
      "INFO:tensorflow:/orions4-zfs/projects/lins2/Panos_Space/DATA/OUT/models/incomplete_pclouds/paper_vanilla_vscan/7_vessel_2048_4096pts_emd/models.ckpt-650 is not in all_model_checkpoint_paths. Manually adding it.\n"
     ]
    },
    {
     "name": "stderr",
     "output_type": "stream",
     "text": [
      "INFO:tensorflow:/orions4-zfs/projects/lins2/Panos_Space/DATA/OUT/models/incomplete_pclouds/paper_vanilla_vscan/7_vessel_2048_4096pts_emd/models.ckpt-650 is not in all_model_checkpoint_paths. Manually adding it.\n"
     ]
    },
    {
     "name": "stdout",
     "output_type": "stream",
     "text": [
      "('Epoch:', '0651', 'training time (minutes)=', '1.6407', 'loss=', '112.865173295')\n",
      "('Epoch:', '0652', 'training time (minutes)=', '1.6443', 'loss=', '112.713316319')\n",
      "('Epoch:', '0653', 'training time (minutes)=', '1.6365', 'loss=', '112.995961744')\n",
      "('Epoch:', '0654', 'training time (minutes)=', '1.6286', 'loss=', '112.669504831')\n",
      "('Epoch:', '0655', 'training time (minutes)=', '1.6297', 'loss=', '112.897389523')\n",
      "INFO:tensorflow:/orions4-zfs/projects/lins2/Panos_Space/DATA/OUT/models/incomplete_pclouds/paper_vanilla_vscan/7_vessel_2048_4096pts_emd/models.ckpt-655 is not in all_model_checkpoint_paths. Manually adding it.\n"
     ]
    },
    {
     "name": "stderr",
     "output_type": "stream",
     "text": [
      "INFO:tensorflow:/orions4-zfs/projects/lins2/Panos_Space/DATA/OUT/models/incomplete_pclouds/paper_vanilla_vscan/7_vessel_2048_4096pts_emd/models.ckpt-655 is not in all_model_checkpoint_paths. Manually adding it.\n"
     ]
    },
    {
     "name": "stdout",
     "output_type": "stream",
     "text": [
      "('Epoch:', '0656', 'training time (minutes)=', '1.6291', 'loss=', '112.967625862')\n",
      "('Epoch:', '0657', 'training time (minutes)=', '1.6408', 'loss=', '112.872221126')\n",
      "('Epoch:', '0658', 'training time (minutes)=', '1.6203', 'loss=', '112.831248793')\n",
      "('Epoch:', '0659', 'training time (minutes)=', '1.6230', 'loss=', '112.505292937')\n",
      "('Epoch:', '0660', 'training time (minutes)=', '1.6279', 'loss=', '112.830122260')\n",
      "INFO:tensorflow:/orions4-zfs/projects/lins2/Panos_Space/DATA/OUT/models/incomplete_pclouds/paper_vanilla_vscan/7_vessel_2048_4096pts_emd/models.ckpt-660 is not in all_model_checkpoint_paths. Manually adding it.\n"
     ]
    },
    {
     "name": "stderr",
     "output_type": "stream",
     "text": [
      "INFO:tensorflow:/orions4-zfs/projects/lins2/Panos_Space/DATA/OUT/models/incomplete_pclouds/paper_vanilla_vscan/7_vessel_2048_4096pts_emd/models.ckpt-660 is not in all_model_checkpoint_paths. Manually adding it.\n"
     ]
    },
    {
     "name": "stdout",
     "output_type": "stream",
     "text": [
      "('Epoch:', '0661', 'training time (minutes)=', '1.6330', 'loss=', '112.925152801')\n",
      "('Epoch:', '0662', 'training time (minutes)=', '1.6325', 'loss=', '112.941123962')\n",
      "('Epoch:', '0663', 'training time (minutes)=', '1.6374', 'loss=', '112.796678321')\n",
      "('Epoch:', '0664', 'training time (minutes)=', '1.6407', 'loss=', '112.261791052')\n",
      "('Epoch:', '0665', 'training time (minutes)=', '1.6238', 'loss=', '112.285323298')\n",
      "INFO:tensorflow:/orions4-zfs/projects/lins2/Panos_Space/DATA/OUT/models/incomplete_pclouds/paper_vanilla_vscan/7_vessel_2048_4096pts_emd/models.ckpt-665 is not in all_model_checkpoint_paths. Manually adding it.\n"
     ]
    },
    {
     "name": "stderr",
     "output_type": "stream",
     "text": [
      "INFO:tensorflow:/orions4-zfs/projects/lins2/Panos_Space/DATA/OUT/models/incomplete_pclouds/paper_vanilla_vscan/7_vessel_2048_4096pts_emd/models.ckpt-665 is not in all_model_checkpoint_paths. Manually adding it.\n"
     ]
    },
    {
     "name": "stdout",
     "output_type": "stream",
     "text": [
      "('Epoch:', '0666', 'training time (minutes)=', '1.6337', 'loss=', '112.617083394')\n",
      "('Epoch:', '0667', 'training time (minutes)=', '1.6222', 'loss=', '112.473043442')\n",
      "('Epoch:', '0668', 'training time (minutes)=', '1.6172', 'loss=', '112.648880448')\n",
      "('Epoch:', '0669', 'training time (minutes)=', '1.6373', 'loss=', '112.845987453')\n",
      "('Epoch:', '0670', 'training time (minutes)=', '1.6204', 'loss=', '112.212753695')\n",
      "INFO:tensorflow:/orions4-zfs/projects/lins2/Panos_Space/DATA/OUT/models/incomplete_pclouds/paper_vanilla_vscan/7_vessel_2048_4096pts_emd/models.ckpt-670 is not in all_model_checkpoint_paths. Manually adding it.\n"
     ]
    },
    {
     "name": "stderr",
     "output_type": "stream",
     "text": [
      "INFO:tensorflow:/orions4-zfs/projects/lins2/Panos_Space/DATA/OUT/models/incomplete_pclouds/paper_vanilla_vscan/7_vessel_2048_4096pts_emd/models.ckpt-670 is not in all_model_checkpoint_paths. Manually adding it.\n"
     ]
    },
    {
     "name": "stdout",
     "output_type": "stream",
     "text": [
      "('Epoch:', '0671', 'training time (minutes)=', '1.6334', 'loss=', '112.258416287')\n",
      "('Epoch:', '0672', 'training time (minutes)=', '1.6438', 'loss=', '112.380014109')\n",
      "('Epoch:', '0673', 'training time (minutes)=', '1.6397', 'loss=', '112.516675018')\n",
      "('Epoch:', '0674', 'training time (minutes)=', '1.6321', 'loss=', '112.616953872')\n",
      "('Epoch:', '0675', 'training time (minutes)=', '1.6240', 'loss=', '112.838582105')\n",
      "INFO:tensorflow:/orions4-zfs/projects/lins2/Panos_Space/DATA/OUT/models/incomplete_pclouds/paper_vanilla_vscan/7_vessel_2048_4096pts_emd/models.ckpt-675 is not in all_model_checkpoint_paths. Manually adding it.\n"
     ]
    },
    {
     "name": "stderr",
     "output_type": "stream",
     "text": [
      "INFO:tensorflow:/orions4-zfs/projects/lins2/Panos_Space/DATA/OUT/models/incomplete_pclouds/paper_vanilla_vscan/7_vessel_2048_4096pts_emd/models.ckpt-675 is not in all_model_checkpoint_paths. Manually adding it.\n"
     ]
    },
    {
     "name": "stdout",
     "output_type": "stream",
     "text": [
      "('Epoch:', '0676', 'training time (minutes)=', '1.6244', 'loss=', '112.871487817')\n",
      "('Epoch:', '0677', 'training time (minutes)=', '1.6387', 'loss=', '112.380685052')\n",
      "('Epoch:', '0678', 'training time (minutes)=', '1.6346', 'loss=', '112.594693339')\n",
      "('Epoch:', '0679', 'training time (minutes)=', '1.6292', 'loss=', '112.372496716')\n",
      "('Epoch:', '0680', 'training time (minutes)=', '1.6386', 'loss=', '112.272482495')\n",
      "INFO:tensorflow:/orions4-zfs/projects/lins2/Panos_Space/DATA/OUT/models/incomplete_pclouds/paper_vanilla_vscan/7_vessel_2048_4096pts_emd/models.ckpt-680 is not in all_model_checkpoint_paths. Manually adding it.\n"
     ]
    },
    {
     "name": "stderr",
     "output_type": "stream",
     "text": [
      "INFO:tensorflow:/orions4-zfs/projects/lins2/Panos_Space/DATA/OUT/models/incomplete_pclouds/paper_vanilla_vscan/7_vessel_2048_4096pts_emd/models.ckpt-680 is not in all_model_checkpoint_paths. Manually adding it.\n"
     ]
    },
    {
     "name": "stdout",
     "output_type": "stream",
     "text": [
      "('Epoch:', '0681', 'training time (minutes)=', '1.6416', 'loss=', '112.425954020')\n",
      "('Epoch:', '0682', 'training time (minutes)=', '1.6526', 'loss=', '112.342275309')\n",
      "('Epoch:', '0683', 'training time (minutes)=', '1.6517', 'loss=', '112.664683675')\n",
      "('Epoch:', '0684', 'training time (minutes)=', '1.6534', 'loss=', '112.095120186')\n",
      "('Epoch:', '0685', 'training time (minutes)=', '1.6600', 'loss=', '112.619853441')\n",
      "INFO:tensorflow:/orions4-zfs/projects/lins2/Panos_Space/DATA/OUT/models/incomplete_pclouds/paper_vanilla_vscan/7_vessel_2048_4096pts_emd/models.ckpt-685 is not in all_model_checkpoint_paths. Manually adding it.\n"
     ]
    },
    {
     "name": "stderr",
     "output_type": "stream",
     "text": [
      "INFO:tensorflow:/orions4-zfs/projects/lins2/Panos_Space/DATA/OUT/models/incomplete_pclouds/paper_vanilla_vscan/7_vessel_2048_4096pts_emd/models.ckpt-685 is not in all_model_checkpoint_paths. Manually adding it.\n"
     ]
    },
    {
     "name": "stdout",
     "output_type": "stream",
     "text": [
      "('Epoch:', '0686', 'training time (minutes)=', '1.6438', 'loss=', '112.490060230')\n",
      "('Epoch:', '0687', 'training time (minutes)=', '1.6611', 'loss=', '112.605440894')\n",
      "('Epoch:', '0688', 'training time (minutes)=', '1.6678', 'loss=', '112.339415173')\n",
      "('Epoch:', '0689', 'training time (minutes)=', '1.6628', 'loss=', '112.675601161')\n",
      "('Epoch:', '0690', 'training time (minutes)=', '1.6645', 'loss=', '112.158026584')\n",
      "INFO:tensorflow:/orions4-zfs/projects/lins2/Panos_Space/DATA/OUT/models/incomplete_pclouds/paper_vanilla_vscan/7_vessel_2048_4096pts_emd/models.ckpt-690 is not in all_model_checkpoint_paths. Manually adding it.\n"
     ]
    },
    {
     "name": "stderr",
     "output_type": "stream",
     "text": [
      "INFO:tensorflow:/orions4-zfs/projects/lins2/Panos_Space/DATA/OUT/models/incomplete_pclouds/paper_vanilla_vscan/7_vessel_2048_4096pts_emd/models.ckpt-690 is not in all_model_checkpoint_paths. Manually adding it.\n"
     ]
    },
    {
     "name": "stdout",
     "output_type": "stream",
     "text": [
      "('Epoch:', '0691', 'training time (minutes)=', '1.6577', 'loss=', '112.167773934')\n",
      "('Epoch:', '0692', 'training time (minutes)=', '1.6510', 'loss=', '112.659684913')\n",
      "('Epoch:', '0693', 'training time (minutes)=', '1.6738', 'loss=', '112.285863655')\n",
      "('Epoch:', '0694', 'training time (minutes)=', '1.6929', 'loss=', '112.120675819')\n",
      "('Epoch:', '0695', 'training time (minutes)=', '1.6607', 'loss=', '112.382032927')\n",
      "INFO:tensorflow:/orions4-zfs/projects/lins2/Panos_Space/DATA/OUT/models/incomplete_pclouds/paper_vanilla_vscan/7_vessel_2048_4096pts_emd/models.ckpt-695 is not in all_model_checkpoint_paths. Manually adding it.\n"
     ]
    },
    {
     "name": "stderr",
     "output_type": "stream",
     "text": [
      "INFO:tensorflow:/orions4-zfs/projects/lins2/Panos_Space/DATA/OUT/models/incomplete_pclouds/paper_vanilla_vscan/7_vessel_2048_4096pts_emd/models.ckpt-695 is not in all_model_checkpoint_paths. Manually adding it.\n"
     ]
    },
    {
     "name": "stdout",
     "output_type": "stream",
     "text": [
      "('Epoch:', '0696', 'training time (minutes)=', '1.7306', 'loss=', '111.940260688')\n",
      "('Epoch:', '0697', 'training time (minutes)=', '1.6581', 'loss=', '112.150125548')\n",
      "('Epoch:', '0698', 'training time (minutes)=', '1.6537', 'loss=', '112.035398749')\n",
      "('Epoch:', '0699', 'training time (minutes)=', '1.6734', 'loss=', '112.472073843')\n",
      "('Epoch:', '0700', 'training time (minutes)=', '1.6751', 'loss=', '112.157991853')\n",
      "INFO:tensorflow:/orions4-zfs/projects/lins2/Panos_Space/DATA/OUT/models/incomplete_pclouds/paper_vanilla_vscan/7_vessel_2048_4096pts_emd/models.ckpt-700 is not in all_model_checkpoint_paths. Manually adding it.\n"
     ]
    },
    {
     "name": "stderr",
     "output_type": "stream",
     "text": [
      "INFO:tensorflow:/orions4-zfs/projects/lins2/Panos_Space/DATA/OUT/models/incomplete_pclouds/paper_vanilla_vscan/7_vessel_2048_4096pts_emd/models.ckpt-700 is not in all_model_checkpoint_paths. Manually adding it.\n"
     ]
    },
    {
     "name": "stdout",
     "output_type": "stream",
     "text": [
      "('Epoch:', '0701', 'training time (minutes)=', '1.6824', 'loss=', '112.438169391')\n",
      "('Epoch:', '0702', 'training time (minutes)=', '1.6567', 'loss=', '112.329709918')\n",
      "('Epoch:', '0703', 'training time (minutes)=', '1.6619', 'loss=', '112.266540749')\n",
      "('Epoch:', '0704', 'training time (minutes)=', '1.6647', 'loss=', '112.535852477')\n",
      "('Epoch:', '0705', 'training time (minutes)=', '1.7134', 'loss=', '112.084809370')\n",
      "INFO:tensorflow:/orions4-zfs/projects/lins2/Panos_Space/DATA/OUT/models/incomplete_pclouds/paper_vanilla_vscan/7_vessel_2048_4096pts_emd/models.ckpt-705 is not in all_model_checkpoint_paths. Manually adding it.\n"
     ]
    },
    {
     "name": "stderr",
     "output_type": "stream",
     "text": [
      "INFO:tensorflow:/orions4-zfs/projects/lins2/Panos_Space/DATA/OUT/models/incomplete_pclouds/paper_vanilla_vscan/7_vessel_2048_4096pts_emd/models.ckpt-705 is not in all_model_checkpoint_paths. Manually adding it.\n"
     ]
    },
    {
     "name": "stdout",
     "output_type": "stream",
     "text": [
      "('Epoch:', '0706', 'training time (minutes)=', '1.6623', 'loss=', '112.057199301')\n",
      "('Epoch:', '0707', 'training time (minutes)=', '1.6912', 'loss=', '112.005548034')\n",
      "('Epoch:', '0708', 'training time (minutes)=', '1.6725', 'loss=', '112.204972289')\n",
      "('Epoch:', '0709', 'training time (minutes)=', '1.6833', 'loss=', '112.057330242')\n",
      "('Epoch:', '0710', 'training time (minutes)=', '1.6648', 'loss=', '112.084174445')\n",
      "INFO:tensorflow:/orions4-zfs/projects/lins2/Panos_Space/DATA/OUT/models/incomplete_pclouds/paper_vanilla_vscan/7_vessel_2048_4096pts_emd/models.ckpt-710 is not in all_model_checkpoint_paths. Manually adding it.\n"
     ]
    },
    {
     "name": "stderr",
     "output_type": "stream",
     "text": [
      "INFO:tensorflow:/orions4-zfs/projects/lins2/Panos_Space/DATA/OUT/models/incomplete_pclouds/paper_vanilla_vscan/7_vessel_2048_4096pts_emd/models.ckpt-710 is not in all_model_checkpoint_paths. Manually adding it.\n"
     ]
    },
    {
     "name": "stdout",
     "output_type": "stream",
     "text": [
      "('Epoch:', '0711', 'training time (minutes)=', '1.6682', 'loss=', '111.998435397')\n",
      "('Epoch:', '0712', 'training time (minutes)=', '1.6597', 'loss=', '112.149035121')\n",
      "('Epoch:', '0713', 'training time (minutes)=', '1.6751', 'loss=', '111.678916266')\n",
      "('Epoch:', '0714', 'training time (minutes)=', '1.6635', 'loss=', '111.966431374')\n",
      "('Epoch:', '0715', 'training time (minutes)=', '1.6679', 'loss=', '111.956977933')\n",
      "INFO:tensorflow:/orions4-zfs/projects/lins2/Panos_Space/DATA/OUT/models/incomplete_pclouds/paper_vanilla_vscan/7_vessel_2048_4096pts_emd/models.ckpt-715 is not in all_model_checkpoint_paths. Manually adding it.\n"
     ]
    },
    {
     "name": "stderr",
     "output_type": "stream",
     "text": [
      "INFO:tensorflow:/orions4-zfs/projects/lins2/Panos_Space/DATA/OUT/models/incomplete_pclouds/paper_vanilla_vscan/7_vessel_2048_4096pts_emd/models.ckpt-715 is not in all_model_checkpoint_paths. Manually adding it.\n"
     ]
    },
    {
     "name": "stdout",
     "output_type": "stream",
     "text": [
      "('Epoch:', '0716', 'training time (minutes)=', '1.6741', 'loss=', '111.905339174')\n",
      "('Epoch:', '0717', 'training time (minutes)=', '1.6650', 'loss=', '111.865031087')\n",
      "('Epoch:', '0718', 'training time (minutes)=', '1.6640', 'loss=', '111.886776237')\n",
      "('Epoch:', '0719', 'training time (minutes)=', '1.6688', 'loss=', '112.001461384')\n",
      "('Epoch:', '0720', 'training time (minutes)=', '1.6618', 'loss=', '112.021809023')\n",
      "INFO:tensorflow:/orions4-zfs/projects/lins2/Panos_Space/DATA/OUT/models/incomplete_pclouds/paper_vanilla_vscan/7_vessel_2048_4096pts_emd/models.ckpt-720 is not in all_model_checkpoint_paths. Manually adding it.\n"
     ]
    },
    {
     "name": "stderr",
     "output_type": "stream",
     "text": [
      "INFO:tensorflow:/orions4-zfs/projects/lins2/Panos_Space/DATA/OUT/models/incomplete_pclouds/paper_vanilla_vscan/7_vessel_2048_4096pts_emd/models.ckpt-720 is not in all_model_checkpoint_paths. Manually adding it.\n"
     ]
    },
    {
     "name": "stdout",
     "output_type": "stream",
     "text": [
      "('Epoch:', '0721', 'training time (minutes)=', '1.6645', 'loss=', '112.015322619')\n",
      "('Epoch:', '0722', 'training time (minutes)=', '1.6492', 'loss=', '112.376922297')\n",
      "('Epoch:', '0723', 'training time (minutes)=', '1.6665', 'loss=', '112.123382968')\n",
      "('Epoch:', '0724', 'training time (minutes)=', '1.6604', 'loss=', '111.890818751')\n",
      "('Epoch:', '0725', 'training time (minutes)=', '1.6449', 'loss=', '111.684910042')\n",
      "INFO:tensorflow:/orions4-zfs/projects/lins2/Panos_Space/DATA/OUT/models/incomplete_pclouds/paper_vanilla_vscan/7_vessel_2048_4096pts_emd/models.ckpt-725 is not in all_model_checkpoint_paths. Manually adding it.\n"
     ]
    },
    {
     "name": "stderr",
     "output_type": "stream",
     "text": [
      "INFO:tensorflow:/orions4-zfs/projects/lins2/Panos_Space/DATA/OUT/models/incomplete_pclouds/paper_vanilla_vscan/7_vessel_2048_4096pts_emd/models.ckpt-725 is not in all_model_checkpoint_paths. Manually adding it.\n"
     ]
    },
    {
     "name": "stdout",
     "output_type": "stream",
     "text": [
      "('Epoch:', '0726', 'training time (minutes)=', '1.6754', 'loss=', '112.010395272')\n",
      "('Epoch:', '0727', 'training time (minutes)=', '1.6567', 'loss=', '112.238895860')\n",
      "('Epoch:', '0728', 'training time (minutes)=', '1.6591', 'loss=', '111.918654508')\n",
      "('Epoch:', '0729', 'training time (minutes)=', '1.6552', 'loss=', '111.657291767')\n",
      "('Epoch:', '0730', 'training time (minutes)=', '1.6566', 'loss=', '111.613135759')\n",
      "INFO:tensorflow:/orions4-zfs/projects/lins2/Panos_Space/DATA/OUT/models/incomplete_pclouds/paper_vanilla_vscan/7_vessel_2048_4096pts_emd/models.ckpt-730 is not in all_model_checkpoint_paths. Manually adding it.\n"
     ]
    },
    {
     "name": "stderr",
     "output_type": "stream",
     "text": [
      "INFO:tensorflow:/orions4-zfs/projects/lins2/Panos_Space/DATA/OUT/models/incomplete_pclouds/paper_vanilla_vscan/7_vessel_2048_4096pts_emd/models.ckpt-730 is not in all_model_checkpoint_paths. Manually adding it.\n"
     ]
    },
    {
     "name": "stdout",
     "output_type": "stream",
     "text": [
      "('Epoch:', '0731', 'training time (minutes)=', '1.6518', 'loss=', '111.961413095')\n",
      "('Epoch:', '0732', 'training time (minutes)=', '1.6398', 'loss=', '111.703635327')\n",
      "('Epoch:', '0733', 'training time (minutes)=', '1.6864', 'loss=', '112.066261602')\n",
      "('Epoch:', '0734', 'training time (minutes)=', '1.6564', 'loss=', '111.671989618')\n",
      "('Epoch:', '0735', 'training time (minutes)=', '1.6502', 'loss=', '111.982484684')\n",
      "INFO:tensorflow:/orions4-zfs/projects/lins2/Panos_Space/DATA/OUT/models/incomplete_pclouds/paper_vanilla_vscan/7_vessel_2048_4096pts_emd/models.ckpt-735 is not in all_model_checkpoint_paths. Manually adding it.\n"
     ]
    },
    {
     "name": "stderr",
     "output_type": "stream",
     "text": [
      "INFO:tensorflow:/orions4-zfs/projects/lins2/Panos_Space/DATA/OUT/models/incomplete_pclouds/paper_vanilla_vscan/7_vessel_2048_4096pts_emd/models.ckpt-735 is not in all_model_checkpoint_paths. Manually adding it.\n"
     ]
    },
    {
     "name": "stdout",
     "output_type": "stream",
     "text": [
      "('Epoch:', '0736', 'training time (minutes)=', '1.6486', 'loss=', '111.862894546')\n"
     ]
    },
    {
     "ename": "KeyboardInterrupt",
     "evalue": "",
     "output_type": "error",
     "traceback": [
      "\u001b[1;31m---------------------------------------------------------------------------\u001b[0m",
      "\u001b[1;31mKeyboardInterrupt\u001b[0m                         Traceback (most recent call last)",
      "\u001b[1;32m<ipython-input-18-55be8089fccc>\u001b[0m in \u001b[0;36m<module>\u001b[1;34m()\u001b[0m\n\u001b[0;32m      4\u001b[0m \u001b[1;33m\u001b[0m\u001b[0m\n\u001b[0;32m      5\u001b[0m \u001b[1;32mif\u001b[0m \u001b[0mdo_training\u001b[0m\u001b[1;33m:\u001b[0m\u001b[1;33m\u001b[0m\u001b[0m\n\u001b[1;32m----> 6\u001b[1;33m     \u001b[0mae\u001b[0m\u001b[1;33m.\u001b[0m\u001b[0mtrain\u001b[0m\u001b[1;33m(\u001b[0m\u001b[0mtrain_data\u001b[0m\u001b[1;33m,\u001b[0m \u001b[0mconf\u001b[0m\u001b[1;33m)\u001b[0m\u001b[1;33m\u001b[0m\u001b[0m\n\u001b[0m\u001b[0;32m      7\u001b[0m \u001b[1;33m\u001b[0m\u001b[0m\n\u001b[0;32m      8\u001b[0m \u001b[1;32mif\u001b[0m \u001b[0mload_model\u001b[0m\u001b[1;33m:\u001b[0m\u001b[1;33m\u001b[0m\u001b[0m\n",
      "\u001b[1;32m/orions4-zfs/projects/lins2/Panos_Space/Git_Repos/tf_lab/point_clouds/autoencoder.pyc\u001b[0m in \u001b[0;36mtrain\u001b[1;34m(self, train_data, configuration)\u001b[0m\n\u001b[0;32m    164\u001b[0m             \u001b[0mcreate_dir\u001b[0m\u001b[1;33m(\u001b[0m\u001b[0mc\u001b[0m\u001b[1;33m.\u001b[0m\u001b[0mtrain_dir\u001b[0m\u001b[1;33m)\u001b[0m\u001b[1;33m\u001b[0m\u001b[0m\n\u001b[0;32m    165\u001b[0m \u001b[1;33m\u001b[0m\u001b[0m\n\u001b[1;32m--> 166\u001b[1;33m         \u001b[1;32mfor\u001b[0m \u001b[0m_\u001b[0m \u001b[1;32min\u001b[0m \u001b[0mxrange\u001b[0m\u001b[1;33m(\u001b[0m\u001b[0mc\u001b[0m\u001b[1;33m.\u001b[0m\u001b[0mtraining_epochs\u001b[0m\u001b[1;33m)\u001b[0m\u001b[1;33m:\u001b[0m\u001b[1;33m\u001b[0m\u001b[0m\n\u001b[0m\u001b[0;32m    167\u001b[0m             \u001b[0mloss\u001b[0m\u001b[1;33m,\u001b[0m \u001b[0mduration\u001b[0m \u001b[1;33m=\u001b[0m \u001b[0mself\u001b[0m\u001b[1;33m.\u001b[0m\u001b[0m_single_epoch_train\u001b[0m\u001b[1;33m(\u001b[0m\u001b[0mtrain_data\u001b[0m\u001b[1;33m,\u001b[0m \u001b[0mc\u001b[0m\u001b[1;33m)\u001b[0m\u001b[1;33m\u001b[0m\u001b[0m\n\u001b[0;32m    168\u001b[0m             \u001b[0mepoch\u001b[0m \u001b[1;33m=\u001b[0m \u001b[0mint\u001b[0m\u001b[1;33m(\u001b[0m\u001b[0mself\u001b[0m\u001b[1;33m.\u001b[0m\u001b[0msess\u001b[0m\u001b[1;33m.\u001b[0m\u001b[0mrun\u001b[0m\u001b[1;33m(\u001b[0m\u001b[0mself\u001b[0m\u001b[1;33m.\u001b[0m\u001b[0mepoch\u001b[0m\u001b[1;33m.\u001b[0m\u001b[0massign_add\u001b[0m\u001b[1;33m(\u001b[0m\u001b[0mtf\u001b[0m\u001b[1;33m.\u001b[0m\u001b[0mconstant\u001b[0m\u001b[1;33m(\u001b[0m\u001b[1;36m1.0\u001b[0m\u001b[1;33m)\u001b[0m\u001b[1;33m)\u001b[0m\u001b[1;33m)\u001b[0m\u001b[1;33m)\u001b[0m\u001b[1;33m\u001b[0m\u001b[0m\n",
      "\u001b[1;32m/orions4-zfs/projects/lins2/Panos_Space/Git_Repos/tf_lab/point_clouds/point_net_ae.pyc\u001b[0m in \u001b[0;36m_single_epoch_train\u001b[1;34m(self, train_data, configuration)\u001b[0m\n\u001b[0;32m     91\u001b[0m             \u001b[0mbatch_i\u001b[0m \u001b[1;33m=\u001b[0m \u001b[0mapply_augmentations\u001b[0m\u001b[1;33m(\u001b[0m\u001b[0mbatch_i\u001b[0m\u001b[1;33m,\u001b[0m \u001b[0mconfiguration\u001b[0m\u001b[1;33m)\u001b[0m   \u001b[1;31m# This is a new copy of the batch.\u001b[0m\u001b[1;33m\u001b[0m\u001b[0m\n\u001b[0;32m     92\u001b[0m \u001b[1;33m\u001b[0m\u001b[0m\n\u001b[1;32m---> 93\u001b[1;33m             \u001b[1;32mif\u001b[0m \u001b[0mself\u001b[0m\u001b[1;33m.\u001b[0m\u001b[0mis_denoising\u001b[0m\u001b[1;33m:\u001b[0m\u001b[1;33m\u001b[0m\u001b[0m\n\u001b[0m\u001b[0;32m     94\u001b[0m                 \u001b[0mloss\u001b[0m\u001b[1;33m,\u001b[0m \u001b[0m_\u001b[0m \u001b[1;33m=\u001b[0m \u001b[0mself\u001b[0m\u001b[1;33m.\u001b[0m\u001b[0mpartial_fit\u001b[0m\u001b[1;33m(\u001b[0m\u001b[0mbatch_i\u001b[0m\u001b[1;33m,\u001b[0m \u001b[0moriginal_data\u001b[0m\u001b[1;33m)\u001b[0m\u001b[1;33m\u001b[0m\u001b[0m\n\u001b[0;32m     95\u001b[0m             \u001b[1;32melse\u001b[0m\u001b[1;33m:\u001b[0m\u001b[1;33m\u001b[0m\u001b[0m\n",
      "\u001b[1;32m/orions4-zfs/projects/lins2/Panos_Space/Git_Repos/tf_lab/point_clouds/autoencoder.pyc\u001b[0m in \u001b[0;36mpartial_fit\u001b[1;34m(self, X, GT)\u001b[0m\n\u001b[0;32m    126\u001b[0m             \u001b[0mThe\u001b[0m \u001b[0mreconstructed\u001b[0m \u001b[1;33m(\u001b[0m\u001b[0moutput\u001b[0m\u001b[1;33m)\u001b[0m \u001b[0mpoint\u001b[0m\u001b[1;33m-\u001b[0m\u001b[0mclouds\u001b[0m\u001b[1;33m.\u001b[0m\u001b[1;33m\u001b[0m\u001b[0m\n\u001b[0;32m    127\u001b[0m         '''\n\u001b[1;32m--> 128\u001b[1;33m         \u001b[1;32mif\u001b[0m \u001b[0mGT\u001b[0m \u001b[1;32mis\u001b[0m \u001b[1;32mnot\u001b[0m \u001b[0mNone\u001b[0m\u001b[1;33m:\u001b[0m\u001b[1;33m\u001b[0m\u001b[0m\n\u001b[0m\u001b[0;32m    129\u001b[0m             \u001b[0m_\u001b[0m\u001b[1;33m,\u001b[0m \u001b[0mloss\u001b[0m\u001b[1;33m,\u001b[0m \u001b[0mrecon\u001b[0m \u001b[1;33m=\u001b[0m \u001b[0mself\u001b[0m\u001b[1;33m.\u001b[0m\u001b[0msess\u001b[0m\u001b[1;33m.\u001b[0m\u001b[0mrun\u001b[0m\u001b[1;33m(\u001b[0m\u001b[1;33m(\u001b[0m\u001b[0mself\u001b[0m\u001b[1;33m.\u001b[0m\u001b[0moptimizer\u001b[0m\u001b[1;33m,\u001b[0m \u001b[0mself\u001b[0m\u001b[1;33m.\u001b[0m\u001b[0mloss\u001b[0m\u001b[1;33m,\u001b[0m \u001b[0mself\u001b[0m\u001b[1;33m.\u001b[0m\u001b[0mx_reconstr\u001b[0m\u001b[1;33m)\u001b[0m\u001b[1;33m,\u001b[0m \u001b[0mfeed_dict\u001b[0m\u001b[1;33m=\u001b[0m\u001b[1;33m{\u001b[0m\u001b[0mself\u001b[0m\u001b[1;33m.\u001b[0m\u001b[0mx\u001b[0m\u001b[1;33m:\u001b[0m \u001b[0mX\u001b[0m\u001b[1;33m,\u001b[0m \u001b[0mself\u001b[0m\u001b[1;33m.\u001b[0m\u001b[0mgt\u001b[0m\u001b[1;33m:\u001b[0m \u001b[0mGT\u001b[0m\u001b[1;33m}\u001b[0m\u001b[1;33m)\u001b[0m\u001b[1;33m\u001b[0m\u001b[0m\n\u001b[0;32m    130\u001b[0m         \u001b[1;32melse\u001b[0m\u001b[1;33m:\u001b[0m\u001b[1;33m\u001b[0m\u001b[0m\n",
      "\u001b[1;32m/usr/local/lib/python2.7/dist-packages/tensorflow/python/client/session.pyc\u001b[0m in \u001b[0;36mrun\u001b[1;34m(self, fetches, feed_dict, options, run_metadata)\u001b[0m\n\u001b[0;32m    764\u001b[0m     \u001b[1;32mtry\u001b[0m\u001b[1;33m:\u001b[0m\u001b[1;33m\u001b[0m\u001b[0m\n\u001b[0;32m    765\u001b[0m       result = self._run(None, fetches, feed_dict, options_ptr,\n\u001b[1;32m--> 766\u001b[1;33m                          run_metadata_ptr)\n\u001b[0m\u001b[0;32m    767\u001b[0m       \u001b[1;32mif\u001b[0m \u001b[0mrun_metadata\u001b[0m\u001b[1;33m:\u001b[0m\u001b[1;33m\u001b[0m\u001b[0m\n\u001b[0;32m    768\u001b[0m         \u001b[0mproto_data\u001b[0m \u001b[1;33m=\u001b[0m \u001b[0mtf_session\u001b[0m\u001b[1;33m.\u001b[0m\u001b[0mTF_GetBuffer\u001b[0m\u001b[1;33m(\u001b[0m\u001b[0mrun_metadata_ptr\u001b[0m\u001b[1;33m)\u001b[0m\u001b[1;33m\u001b[0m\u001b[0m\n",
      "\u001b[1;32m/usr/local/lib/python2.7/dist-packages/tensorflow/python/client/session.pyc\u001b[0m in \u001b[0;36m_run\u001b[1;34m(self, handle, fetches, feed_dict, options, run_metadata)\u001b[0m\n\u001b[0;32m    962\u001b[0m     \u001b[1;32mif\u001b[0m \u001b[0mfinal_fetches\u001b[0m \u001b[1;32mor\u001b[0m \u001b[0mfinal_targets\u001b[0m\u001b[1;33m:\u001b[0m\u001b[1;33m\u001b[0m\u001b[0m\n\u001b[0;32m    963\u001b[0m       results = self._do_run(handle, final_targets, final_fetches,\n\u001b[1;32m--> 964\u001b[1;33m                              feed_dict_string, options, run_metadata)\n\u001b[0m\u001b[0;32m    965\u001b[0m     \u001b[1;32melse\u001b[0m\u001b[1;33m:\u001b[0m\u001b[1;33m\u001b[0m\u001b[0m\n\u001b[0;32m    966\u001b[0m       \u001b[0mresults\u001b[0m \u001b[1;33m=\u001b[0m \u001b[1;33m[\u001b[0m\u001b[1;33m]\u001b[0m\u001b[1;33m\u001b[0m\u001b[0m\n",
      "\u001b[1;32m/usr/local/lib/python2.7/dist-packages/tensorflow/python/client/session.pyc\u001b[0m in \u001b[0;36m_do_run\u001b[1;34m(self, handle, target_list, fetch_list, feed_dict, options, run_metadata)\u001b[0m\n\u001b[0;32m   1012\u001b[0m     \u001b[1;32mif\u001b[0m \u001b[0mhandle\u001b[0m \u001b[1;32mis\u001b[0m \u001b[0mNone\u001b[0m\u001b[1;33m:\u001b[0m\u001b[1;33m\u001b[0m\u001b[0m\n\u001b[0;32m   1013\u001b[0m       return self._do_call(_run_fn, self._session, feed_dict, fetch_list,\n\u001b[1;32m-> 1014\u001b[1;33m                            target_list, options, run_metadata)\n\u001b[0m\u001b[0;32m   1015\u001b[0m     \u001b[1;32melse\u001b[0m\u001b[1;33m:\u001b[0m\u001b[1;33m\u001b[0m\u001b[0m\n\u001b[0;32m   1016\u001b[0m       return self._do_call(_prun_fn, self._session, handle, feed_dict,\n",
      "\u001b[1;32m/usr/local/lib/python2.7/dist-packages/tensorflow/python/client/session.pyc\u001b[0m in \u001b[0;36m_do_call\u001b[1;34m(self, fn, *args)\u001b[0m\n\u001b[0;32m   1019\u001b[0m   \u001b[1;32mdef\u001b[0m \u001b[0m_do_call\u001b[0m\u001b[1;33m(\u001b[0m\u001b[0mself\u001b[0m\u001b[1;33m,\u001b[0m \u001b[0mfn\u001b[0m\u001b[1;33m,\u001b[0m \u001b[1;33m*\u001b[0m\u001b[0margs\u001b[0m\u001b[1;33m)\u001b[0m\u001b[1;33m:\u001b[0m\u001b[1;33m\u001b[0m\u001b[0m\n\u001b[0;32m   1020\u001b[0m     \u001b[1;32mtry\u001b[0m\u001b[1;33m:\u001b[0m\u001b[1;33m\u001b[0m\u001b[0m\n\u001b[1;32m-> 1021\u001b[1;33m       \u001b[1;32mreturn\u001b[0m \u001b[0mfn\u001b[0m\u001b[1;33m(\u001b[0m\u001b[1;33m*\u001b[0m\u001b[0margs\u001b[0m\u001b[1;33m)\u001b[0m\u001b[1;33m\u001b[0m\u001b[0m\n\u001b[0m\u001b[0;32m   1022\u001b[0m     \u001b[1;32mexcept\u001b[0m \u001b[0merrors\u001b[0m\u001b[1;33m.\u001b[0m\u001b[0mOpError\u001b[0m \u001b[1;32mas\u001b[0m \u001b[0me\u001b[0m\u001b[1;33m:\u001b[0m\u001b[1;33m\u001b[0m\u001b[0m\n\u001b[0;32m   1023\u001b[0m       \u001b[0mmessage\u001b[0m \u001b[1;33m=\u001b[0m \u001b[0mcompat\u001b[0m\u001b[1;33m.\u001b[0m\u001b[0mas_text\u001b[0m\u001b[1;33m(\u001b[0m\u001b[0me\u001b[0m\u001b[1;33m.\u001b[0m\u001b[0mmessage\u001b[0m\u001b[1;33m)\u001b[0m\u001b[1;33m\u001b[0m\u001b[0m\n",
      "\u001b[1;32m/usr/local/lib/python2.7/dist-packages/tensorflow/python/client/session.pyc\u001b[0m in \u001b[0;36m_run_fn\u001b[1;34m(session, feed_dict, fetch_list, target_list, options, run_metadata)\u001b[0m\n\u001b[0;32m   1001\u001b[0m         return tf_session.TF_Run(session, options,\n\u001b[0;32m   1002\u001b[0m                                  \u001b[0mfeed_dict\u001b[0m\u001b[1;33m,\u001b[0m \u001b[0mfetch_list\u001b[0m\u001b[1;33m,\u001b[0m \u001b[0mtarget_list\u001b[0m\u001b[1;33m,\u001b[0m\u001b[1;33m\u001b[0m\u001b[0m\n\u001b[1;32m-> 1003\u001b[1;33m                                  status, run_metadata)\n\u001b[0m\u001b[0;32m   1004\u001b[0m \u001b[1;33m\u001b[0m\u001b[0m\n\u001b[0;32m   1005\u001b[0m     \u001b[1;32mdef\u001b[0m \u001b[0m_prun_fn\u001b[0m\u001b[1;33m(\u001b[0m\u001b[0msession\u001b[0m\u001b[1;33m,\u001b[0m \u001b[0mhandle\u001b[0m\u001b[1;33m,\u001b[0m \u001b[0mfeed_dict\u001b[0m\u001b[1;33m,\u001b[0m \u001b[0mfetch_list\u001b[0m\u001b[1;33m)\u001b[0m\u001b[1;33m:\u001b[0m\u001b[1;33m\u001b[0m\u001b[0m\n",
      "\u001b[1;31mKeyboardInterrupt\u001b[0m: "
     ]
    }
   ],
   "source": [
    "reset_tf_graph()\n",
    "set_visible_GPUs([GPU])\n",
    "ae = PointNetAutoEncoder(experiment_name, conf)\n",
    "\n",
    "if do_training:\n",
    "    ae.train(train_data, conf)\n",
    "\n",
    "if load_model:\n",
    "    saved_epochs = read_saved_epochs(conf.train_dir)\n",
    "    ae.restore_model(train_dir, saved_epochs[-1], verbose=True)"
   ]
  }
 ],
 "metadata": {
  "kernelspec": {
   "display_name": "Python 2",
   "language": "python",
   "name": "python2"
  },
  "language_info": {
   "codemirror_mode": {
    "name": "ipython",
    "version": 2
   },
   "file_extension": ".py",
   "mimetype": "text/x-python",
   "name": "python",
   "nbconvert_exporter": "python",
   "pygments_lexer": "ipython2",
   "version": "2.7.6"
  }
 },
 "nbformat": 4,
 "nbformat_minor": 0
}
