{
 "cells": [
  {
   "cell_type": "code",
   "execution_count": 1,
   "metadata": {
    "collapsed": false
   },
   "outputs": [
    {
     "name": "stderr",
     "output_type": "stream",
     "text": [
      "/orions4-zfs/projects/lins2/Panos_Space/Git_Repos/geo_tool/solids/mesh.py:26: UserWarning: Mayavi library was not found. Some graphics utilities will be disabled.\n",
      "  warnings.warn('Mayavi library was not found. Some graphics utilities will be disabled.')\n"
     ]
    }
   ],
   "source": [
    "import sys\n",
    "import time\n",
    "import numpy as np\n",
    "import os.path as osp\n",
    "import tensorflow as tf\n",
    "import matplotlib.pyplot as plt\n",
    "\n",
    "from tf_lab.fundamentals.utils import set_visible_GPUs, reset_tf_graph\n",
    "\n",
    "import tf_lab.point_clouds.in_out as pio\n",
    "from tf_lab.point_clouds.in_out import PointCloudDataSet, write_model_ids_of_datasets\n",
    "from tf_lab.point_clouds.point_net_ae import PointNetAutoEncoder\n",
    "from tf_lab.point_clouds.autoencoder import Configuration as Conf\n",
    "import tf_lab.point_clouds.encoders_decoders as enc_dec\n",
    "\n",
    "\n",
    "import tf_lab.autopredictors.scripts.virt_scan_data as vscan\n",
    "\n",
    "from tf_lab.autopredictors.scripts.helper import shape_net_category_to_synth_id, points_extension\n",
    "\n",
    "\n",
    "from tf_lab.autopredictors.plotting import plot_original_pclouds_vs_reconstructed, \\\n",
    "                                           plot_train_val_test_curves, plot_reconstructions_at_epoch\n",
    "        \n",
    "from tf_lab.autopredictors.evaluate import eval_model, read_saved_epochs, accuracy_of_completion, \\\n",
    "                                           coverage_of_completion, save_reconstructions\n",
    "                                                  \n",
    "\n",
    "from general_tools.in_out.basics import create_dir, delete_files_in_directory, files_in_subdirs\n",
    "from general_tools.simpletons import select_first_last_and_k\n",
    "from geo_tool import Point_Cloud"
   ]
  },
  {
   "cell_type": "code",
   "execution_count": 2,
   "metadata": {
    "collapsed": false
   },
   "outputs": [],
   "source": [
    "%load_ext autoreload\n",
    "%autoreload 2\n",
    "%matplotlib inline"
   ]
  },
  {
   "cell_type": "code",
   "execution_count": 3,
   "metadata": {
    "collapsed": false
   },
   "outputs": [
    {
     "name": "stdout",
     "output_type": "stream",
     "text": [
      "Give me the class type.\n",
      "chair\n"
     ]
    }
   ],
   "source": [
    "incomplete_n_samples = 2048\n",
    "complete_n_samples = 4096\n",
    "\n",
    "class_type = raw_input('Give me the class type.\\n').lower()\n",
    "class_syn_id = shape_net_category_to_synth_id()[class_type]\n",
    "\n",
    "GPU = 2\n",
    "exp_counter = '2'\n",
    "loss = 'emd'\n",
    "do_training = True\n",
    "load_model_conf = False\n",
    "do_evaluation = True\n",
    "\n",
    "experiment_name = exp_counter + '_' + class_type + '_' + str(incomplete_n_samples) + '_' \\\n",
    "                  + str(complete_n_samples) + 'pts_' + loss\n",
    "\n",
    "top_data_dir = '/orions4-zfs/projects/lins2/Panos_Space/DATA/'\n",
    "complete_pclouds_path = osp.join(top_data_dir, 'ShapeNetPointClouds/from_manifold_meshes/not_scaled', \\\n",
    "                             str(complete_n_samples), class_syn_id)\n",
    "    \n",
    "n_input = [incomplete_n_samples, 3]\n",
    "n_output = [complete_n_samples, 3] \n",
    "\n",
    "train_dir = osp.join(top_data_dir, 'OUT/models/incomplete_pclouds/paper_vanilla_vscan')\n",
    "train_dir = osp.join(train_dir, experiment_name)\n",
    "create_dir(train_dir)\n",
    "\n",
    "if loss == 'emd':\n",
    "    max_training_epochs = 100\n",
    "elif loss == 'chamfer':\n",
    "    max_training_epochs = 200\n",
    "    \n",
    "max_evaluation_epoch = max_training_epochs"
   ]
  },
  {
   "cell_type": "code",
   "execution_count": 4,
   "metadata": {
    "collapsed": false
   },
   "outputs": [],
   "source": [
    "seed = 42\n",
    "np.random.seed(seed)\n",
    "tf.set_random_seed(seed)"
   ]
  },
  {
   "cell_type": "code",
   "execution_count": 5,
   "metadata": {
    "collapsed": false
   },
   "outputs": [
    {
     "name": "stdout",
     "output_type": "stream",
     "text": [
      "6778 files containing complete point clouds were found.\n"
     ]
    }
   ],
   "source": [
    "cmpl_file_names = pio.load_filenames_of_input_data(complete_pclouds_path, points_extension)\n",
    "cmpl_pclouds, cmpl_model_names, syn_ids = pio.load_crude_point_clouds(file_names=cmpl_file_names, n_threads=30)\n",
    "assert(len(np.unique(syn_ids)) == 1)\n",
    "print '%d files containing complete point clouds were found.' % (len(cmpl_pclouds), )"
   ]
  },
  {
   "cell_type": "code",
   "execution_count": 6,
   "metadata": {
    "collapsed": false
   },
   "outputs": [
    {
     "name": "stdout",
     "output_type": "stream",
     "text": [
      "30000 incomplete point clouds were loaded.\n",
      "6000 incomplete point clouds were loaded.\n"
     ]
    }
   ],
   "source": [
    "v_scan_top_dir = osp.join(top_data_dir, 'From_Matthias/shapenet_dim32_sdf_pc', class_syn_id)\n",
    "\n",
    "if do_training or do_evaluation:\n",
    "    train_id_file = osp.join(top_data_dir, 'From_Matthias/train_test_models/train_models_with_scan_id.txt')\n",
    "    \n",
    "    train_data = vscan.load_single_class_incomplete_dataset(v_scan_top_dir, train_id_file, class_syn_id,\n",
    "                                                      cmpl_pclouds, cmpl_model_names, n_threads=30,\n",
    "                                                      n_samples=incomplete_n_samples)\n",
    "    \n",
    "    train_data, val_data = vscan.make_validation_from_train_data(train_data, 0.10)\n",
    "    \n",
    "if do_evaluation:\n",
    "    test_id_file = osp.join(top_data_dir, 'From_Matthias/train_test_models/test_models_with_scan_id.txt')\n",
    "    test_data = vscan.load_single_class_incomplete_dataset(v_scan_top_dir, test_id_file, class_syn_id,\n",
    "                                                      cmpl_pclouds, cmpl_model_names, n_threads=30,\n",
    "                                                      n_samples=incomplete_n_samples)"
   ]
  },
  {
   "cell_type": "code",
   "execution_count": null,
   "metadata": {
    "collapsed": false
   },
   "outputs": [],
   "source": [
    "if load_model_conf:\n",
    "    conf = Conf.load(osp.join(train_dir, 'configuration'))\n",
    "    print conf\n",
    "else:\n",
    "    decoder_args = {'layer_sizes': [1024, np.prod(n_output)],\n",
    "                    'non_linearity': tf.nn.relu\n",
    "                   }\n",
    "\n",
    "    encoder_args = {'dropout_prob': 0.5}\n",
    "    \n",
    "    conf = Conf(\n",
    "                n_input = n_input,\n",
    "                n_output = n_output,\n",
    "                denoising = True,\n",
    "                training_epochs = max_training_epochs,\n",
    "                batch_size = 50,\n",
    "                loss = loss,\n",
    "                train_dir = train_dir,\n",
    "                loss_display_step = 1,\n",
    "                saver_step = 2,\n",
    "                learning_rate = 0.0005,\n",
    "                encoder = enc_dec.encoder_with_convs_and_symmetry,\n",
    "                encoder_args = encoder_args,\n",
    "                decoder = enc_dec.decoder_with_fc_only,\n",
    "                decoder_args = decoder_args\n",
    "               )\n",
    "    \n",
    "    conf.consistent_io = False\n",
    "    conf.experiment_name = experiment_name\n",
    "    conf.save(osp.join(conf.train_dir, 'configuration'))\n",
    "    \n",
    "reset_tf_graph()\n",
    "set_visible_GPUs([GPU])\n",
    "ae = PointNetAutoEncoder(experiment_name, conf)"
   ]
  },
  {
   "cell_type": "code",
   "execution_count": null,
   "metadata": {
    "collapsed": false
   },
   "outputs": [
    {
     "name": "stdout",
     "output_type": "stream",
     "text": [
      "('Epoch:', '0001', 'training time (minutes)=', '4.9346', 'loss=', '334.373463214')\n",
      "INFO:tensorflow:/orions4-zfs/projects/lins2/Panos_Space/DATA/OUT/models/incomplete_pclouds/paper_vanilla_vscan/2_chair_2048_4096pts_emd/models.ckpt-1 is not in all_model_checkpoint_paths. Manually adding it.\n",
      "('Epoch:', '0002', 'training time (minutes)=', '4.8862', 'loss=', '281.904303318')\n",
      "INFO:tensorflow:/orions4-zfs/projects/lins2/Panos_Space/DATA/OUT/models/incomplete_pclouds/paper_vanilla_vscan/2_chair_2048_4096pts_emd/models.ckpt-2 is not in all_model_checkpoint_paths. Manually adding it.\n",
      "('Epoch:', '0003', 'training time (minutes)=', '4.8927', 'loss=', '267.829261780')\n",
      "('Epoch:', '0004', 'training time (minutes)=', '4.8974', 'loss=', '258.485305249')\n",
      "INFO:tensorflow:/orions4-zfs/projects/lins2/Panos_Space/DATA/OUT/models/incomplete_pclouds/paper_vanilla_vscan/2_chair_2048_4096pts_emd/models.ckpt-4 is not in all_model_checkpoint_paths. Manually adding it.\n",
      "('Epoch:', '0005', 'training time (minutes)=', '4.8942', 'loss=', '252.070812254')\n",
      "('Epoch:', '0006', 'training time (minutes)=', '4.8918', 'loss=', '246.487135852')\n",
      "INFO:tensorflow:/orions4-zfs/projects/lins2/Panos_Space/DATA/OUT/models/incomplete_pclouds/paper_vanilla_vscan/2_chair_2048_4096pts_emd/models.ckpt-6 is not in all_model_checkpoint_paths. Manually adding it.\n",
      "('Epoch:', '0007', 'training time (minutes)=', '4.8842', 'loss=', '241.937303812')\n",
      "('Epoch:', '0008', 'training time (minutes)=', '4.8926', 'loss=', '238.285395700')\n",
      "INFO:tensorflow:/orions4-zfs/projects/lins2/Panos_Space/DATA/OUT/models/incomplete_pclouds/paper_vanilla_vscan/2_chair_2048_4096pts_emd/models.ckpt-8 is not in all_model_checkpoint_paths. Manually adding it.\n",
      "('Epoch:', '0009', 'training time (minutes)=', '4.8942', 'loss=', '234.945527677')\n",
      "('Epoch:', '0010', 'training time (minutes)=', '4.8977', 'loss=', '232.536526744')\n",
      "INFO:tensorflow:/orions4-zfs/projects/lins2/Panos_Space/DATA/OUT/models/incomplete_pclouds/paper_vanilla_vscan/2_chair_2048_4096pts_emd/models.ckpt-10 is not in all_model_checkpoint_paths. Manually adding it.\n",
      "('Epoch:', '0011', 'training time (minutes)=', '4.8879', 'loss=', '230.179716463')\n",
      "('Epoch:', '0012', 'training time (minutes)=', '4.8897', 'loss=', '227.459752740')\n",
      "INFO:tensorflow:/orions4-zfs/projects/lins2/Panos_Space/DATA/OUT/models/incomplete_pclouds/paper_vanilla_vscan/2_chair_2048_4096pts_emd/models.ckpt-12 is not in all_model_checkpoint_paths. Manually adding it.\n",
      "('Epoch:', '0013', 'training time (minutes)=', '4.8917', 'loss=', '225.465177748')\n",
      "('Epoch:', '0014', 'training time (minutes)=', '4.8913', 'loss=', '222.876776773')\n",
      "INFO:tensorflow:/orions4-zfs/projects/lins2/Panos_Space/DATA/OUT/models/incomplete_pclouds/paper_vanilla_vscan/2_chair_2048_4096pts_emd/models.ckpt-14 is not in all_model_checkpoint_paths. Manually adding it.\n",
      "('Epoch:', '0015', 'training time (minutes)=', '4.8887', 'loss=', '221.393206646')\n",
      "('Epoch:', '0016', 'training time (minutes)=', '4.8857', 'loss=', '219.267868890')\n",
      "INFO:tensorflow:/orions4-zfs/projects/lins2/Panos_Space/DATA/OUT/models/incomplete_pclouds/paper_vanilla_vscan/2_chair_2048_4096pts_emd/models.ckpt-16 is not in all_model_checkpoint_paths. Manually adding it.\n",
      "('Epoch:', '0017', 'training time (minutes)=', '4.8882', 'loss=', '217.879867582')\n",
      "('Epoch:', '0018', 'training time (minutes)=', '4.8883', 'loss=', '215.967153846')\n",
      "INFO:tensorflow:/orions4-zfs/projects/lins2/Panos_Space/DATA/OUT/models/incomplete_pclouds/paper_vanilla_vscan/2_chair_2048_4096pts_emd/models.ckpt-18 is not in all_model_checkpoint_paths. Manually adding it.\n",
      "('Epoch:', '0019', 'training time (minutes)=', '4.8908', 'loss=', '214.140614601')\n",
      "('Epoch:', '0020', 'training time (minutes)=', '4.8928', 'loss=', '212.660379593')\n",
      "INFO:tensorflow:/orions4-zfs/projects/lins2/Panos_Space/DATA/OUT/models/incomplete_pclouds/paper_vanilla_vscan/2_chair_2048_4096pts_emd/models.ckpt-20 is not in all_model_checkpoint_paths. Manually adding it.\n",
      "('Epoch:', '0021', 'training time (minutes)=', '4.8902', 'loss=', '211.370548644')\n",
      "('Epoch:', '0022', 'training time (minutes)=', '4.8929', 'loss=', '210.327524680')\n",
      "INFO:tensorflow:/orions4-zfs/projects/lins2/Panos_Space/DATA/OUT/models/incomplete_pclouds/paper_vanilla_vscan/2_chair_2048_4096pts_emd/models.ckpt-22 is not in all_model_checkpoint_paths. Manually adding it.\n",
      "('Epoch:', '0023', 'training time (minutes)=', '4.9005', 'loss=', '208.456772472')\n",
      "('Epoch:', '0024', 'training time (minutes)=', '4.8998', 'loss=', '207.413196451')\n",
      "INFO:tensorflow:/orions4-zfs/projects/lins2/Panos_Space/DATA/OUT/models/incomplete_pclouds/paper_vanilla_vscan/2_chair_2048_4096pts_emd/models.ckpt-24 is not in all_model_checkpoint_paths. Manually adding it.\n",
      "('Epoch:', '0025', 'training time (minutes)=', '4.8977', 'loss=', '206.249378261')\n",
      "('Epoch:', '0026', 'training time (minutes)=', '4.8971', 'loss=', '204.644825462')\n",
      "INFO:tensorflow:/orions4-zfs/projects/lins2/Panos_Space/DATA/OUT/models/incomplete_pclouds/paper_vanilla_vscan/2_chair_2048_4096pts_emd/models.ckpt-26 is not in all_model_checkpoint_paths. Manually adding it.\n",
      "('Epoch:', '0027', 'training time (minutes)=', '4.8918', 'loss=', '203.633981606')\n",
      "('Epoch:', '0028', 'training time (minutes)=', '4.8960', 'loss=', '202.654689874')\n",
      "INFO:tensorflow:/orions4-zfs/projects/lins2/Panos_Space/DATA/OUT/models/incomplete_pclouds/paper_vanilla_vscan/2_chair_2048_4096pts_emd/models.ckpt-28 is not in all_model_checkpoint_paths. Manually adding it.\n",
      "('Epoch:', '0029', 'training time (minutes)=', '4.8848', 'loss=', '201.841310035')\n",
      "('Epoch:', '0030', 'training time (minutes)=', '4.8783', 'loss=', '200.577872213')\n",
      "INFO:tensorflow:/orions4-zfs/projects/lins2/Panos_Space/DATA/OUT/models/incomplete_pclouds/paper_vanilla_vscan/2_chair_2048_4096pts_emd/models.ckpt-30 is not in all_model_checkpoint_paths. Manually adding it.\n",
      "('Epoch:', '0031', 'training time (minutes)=', '4.8828', 'loss=', '199.554641243')\n",
      "('Epoch:', '0032', 'training time (minutes)=', '4.8903', 'loss=', '198.497249010')\n",
      "INFO:tensorflow:/orions4-zfs/projects/lins2/Panos_Space/DATA/OUT/models/incomplete_pclouds/paper_vanilla_vscan/2_chair_2048_4096pts_emd/models.ckpt-32 is not in all_model_checkpoint_paths. Manually adding it.\n",
      "('Epoch:', '0033', 'training time (minutes)=', '4.8931', 'loss=', '197.617208438')\n",
      "('Epoch:', '0034', 'training time (minutes)=', '4.8991', 'loss=', '196.831739948')\n",
      "INFO:tensorflow:/orions4-zfs/projects/lins2/Panos_Space/DATA/OUT/models/incomplete_pclouds/paper_vanilla_vscan/2_chair_2048_4096pts_emd/models.ckpt-34 is not in all_model_checkpoint_paths. Manually adding it.\n",
      "('Epoch:', '0035', 'training time (minutes)=', '4.8950', 'loss=', '195.884985239')\n",
      "('Epoch:', '0036', 'training time (minutes)=', '4.8918', 'loss=', '195.334606340')\n",
      "INFO:tensorflow:/orions4-zfs/projects/lins2/Panos_Space/DATA/OUT/models/incomplete_pclouds/paper_vanilla_vscan/2_chair_2048_4096pts_emd/models.ckpt-36 is not in all_model_checkpoint_paths. Manually adding it.\n",
      "('Epoch:', '0037', 'training time (minutes)=', '4.8930', 'loss=', '194.455489604')\n",
      "('Epoch:', '0038', 'training time (minutes)=', '4.8993', 'loss=', '193.643567968')\n",
      "INFO:tensorflow:/orions4-zfs/projects/lins2/Panos_Space/DATA/OUT/models/incomplete_pclouds/paper_vanilla_vscan/2_chair_2048_4096pts_emd/models.ckpt-38 is not in all_model_checkpoint_paths. Manually adding it.\n",
      "('Epoch:', '0039', 'training time (minutes)=', '4.8983', 'loss=', '193.046072840')\n",
      "('Epoch:', '0040', 'training time (minutes)=', '4.8954', 'loss=', '191.947331690')\n",
      "INFO:tensorflow:/orions4-zfs/projects/lins2/Panos_Space/DATA/OUT/models/incomplete_pclouds/paper_vanilla_vscan/2_chair_2048_4096pts_emd/models.ckpt-40 is not in all_model_checkpoint_paths. Manually adding it.\n",
      "('Epoch:', '0041', 'training time (minutes)=', '4.8920', 'loss=', '191.287766266')\n",
      "('Epoch:', '0042', 'training time (minutes)=', '4.9007', 'loss=', '190.865262971')\n",
      "INFO:tensorflow:/orions4-zfs/projects/lins2/Panos_Space/DATA/OUT/models/incomplete_pclouds/paper_vanilla_vscan/2_chair_2048_4096pts_emd/models.ckpt-42 is not in all_model_checkpoint_paths. Manually adding it.\n",
      "('Epoch:', '0043', 'training time (minutes)=', '4.9049', 'loss=', '189.917312142')\n",
      "('Epoch:', '0044', 'training time (minutes)=', '4.9063', 'loss=', '189.590729071')\n",
      "INFO:tensorflow:/orions4-zfs/projects/lins2/Panos_Space/DATA/OUT/models/incomplete_pclouds/paper_vanilla_vscan/2_chair_2048_4096pts_emd/models.ckpt-44 is not in all_model_checkpoint_paths. Manually adding it.\n",
      "('Epoch:', '0045', 'training time (minutes)=', '4.8997', 'loss=', '188.540603666')\n",
      "('Epoch:', '0046', 'training time (minutes)=', '4.9070', 'loss=', '188.322107131')\n",
      "INFO:tensorflow:/orions4-zfs/projects/lins2/Panos_Space/DATA/OUT/models/incomplete_pclouds/paper_vanilla_vscan/2_chair_2048_4096pts_emd/models.ckpt-46 is not in all_model_checkpoint_paths. Manually adding it.\n",
      "('Epoch:', '0047', 'training time (minutes)=', '4.9108', 'loss=', '187.641099661')\n",
      "('Epoch:', '0048', 'training time (minutes)=', '4.9061', 'loss=', '187.225487405')\n",
      "INFO:tensorflow:/orions4-zfs/projects/lins2/Panos_Space/DATA/OUT/models/incomplete_pclouds/paper_vanilla_vscan/2_chair_2048_4096pts_emd/models.ckpt-48 is not in all_model_checkpoint_paths. Manually adding it.\n",
      "('Epoch:', '0049', 'training time (minutes)=', '4.8989', 'loss=', '186.627702784')\n",
      "('Epoch:', '0050', 'training time (minutes)=', '4.8995', 'loss=', '185.608256418')\n",
      "INFO:tensorflow:/orions4-zfs/projects/lins2/Panos_Space/DATA/OUT/models/incomplete_pclouds/paper_vanilla_vscan/2_chair_2048_4096pts_emd/models.ckpt-50 is not in all_model_checkpoint_paths. Manually adding it.\n",
      "('Epoch:', '0051', 'training time (minutes)=', '4.8985', 'loss=', '185.052782723')\n",
      "('Epoch:', '0052', 'training time (minutes)=', '4.9038', 'loss=', '184.789814476')\n",
      "INFO:tensorflow:/orions4-zfs/projects/lins2/Panos_Space/DATA/OUT/models/incomplete_pclouds/paper_vanilla_vscan/2_chair_2048_4096pts_emd/models.ckpt-52 is not in all_model_checkpoint_paths. Manually adding it.\n",
      "('Epoch:', '0053', 'training time (minutes)=', '4.8954', 'loss=', '184.429067824')\n",
      "('Epoch:', '0054', 'training time (minutes)=', '4.8960', 'loss=', '184.104009134')\n",
      "INFO:tensorflow:/orions4-zfs/projects/lins2/Panos_Space/DATA/OUT/models/incomplete_pclouds/paper_vanilla_vscan/2_chair_2048_4096pts_emd/models.ckpt-54 is not in all_model_checkpoint_paths. Manually adding it.\n",
      "('Epoch:', '0055', 'training time (minutes)=', '4.8893', 'loss=', '183.470741583')\n",
      "('Epoch:', '0056', 'training time (minutes)=', '4.8878', 'loss=', '182.989403590')\n",
      "INFO:tensorflow:/orions4-zfs/projects/lins2/Panos_Space/DATA/OUT/models/incomplete_pclouds/paper_vanilla_vscan/2_chair_2048_4096pts_emd/models.ckpt-56 is not in all_model_checkpoint_paths. Manually adding it.\n",
      "('Epoch:', '0057', 'training time (minutes)=', '4.8894', 'loss=', '182.268936412')\n",
      "('Epoch:', '0058', 'training time (minutes)=', '4.8916', 'loss=', '181.778871889')\n",
      "INFO:tensorflow:/orions4-zfs/projects/lins2/Panos_Space/DATA/OUT/models/incomplete_pclouds/paper_vanilla_vscan/2_chair_2048_4096pts_emd/models.ckpt-58 is not in all_model_checkpoint_paths. Manually adding it.\n",
      "('Epoch:', '0059', 'training time (minutes)=', '4.8860', 'loss=', '181.532973226')\n",
      "('Epoch:', '0060', 'training time (minutes)=', '4.8783', 'loss=', '181.118308089')\n",
      "INFO:tensorflow:/orions4-zfs/projects/lins2/Panos_Space/DATA/OUT/models/incomplete_pclouds/paper_vanilla_vscan/2_chair_2048_4096pts_emd/models.ckpt-60 is not in all_model_checkpoint_paths. Manually adding it.\n",
      "('Epoch:', '0061', 'training time (minutes)=', '4.8764', 'loss=', '180.692199255')\n"
     ]
    }
   ],
   "source": [
    "training_stats = []\n",
    "if do_training:\n",
    "    training_stats.append(ae.train(train_data, conf))"
   ]
  },
  {
   "cell_type": "code",
   "execution_count": null,
   "metadata": {
    "collapsed": false
   },
   "outputs": [],
   "source": [
    "if do_evaluation:\n",
    "    # Pick the epoch that minimizes the loss on the validation dataset.\n",
    "#     n_epochs = 25 # Consider only 'n_epochs' equally spaced epochs from those that are saved.\n",
    "    saved_epochs = np.array(read_saved_epochs(conf.train_dir))\n",
    "    allowable_epochs = saved_epochs[saved_epochs <= max_evaluation_epochs]\n",
    "#     allowable_epochs = select_first_last_and_k(allowable_epochs, n_epochs-2)\n",
    "    val_stats = eval_model(ae, conf, val_data, epochs=allowable_epochs, verbose=True)\n",
    "    val_loss = np.min(val_stats[:,1])\n",
    "    best_epoch = int(val_stats[np.argmin(val_stats[:,1]), 0])\n",
    "    print 'Best epoch = %d.' % (best_epoch,) \n",
    "        \n",
    "    ae.restore_model(conf.train_dir, best_epoch)\n",
    "    top_save_dir = osp.join(conf.train_dir, 'output', 'epoch_' + str(best_epoch))\n",
    "    save_dir = osp.join(top_save_dir, 'test_predictions')\n",
    "    test_recon, test_loss, test_feed, test_ids, test_gt = ae.evaluate(test_data, conf)\n",
    "    save_reconstructions(save_dir, test_recon, test_gt, test_feed, test_ids) # save ply files of test data.    \n",
    "    train_loss = ae.evaluate(train_data, conf)[1]\n",
    "    \n",
    "    # Report Accuracy and Coverage of test data.\n",
    "    n_examples = len(test_recon)\n",
    "    pred_scores = np.zeros((n_examples, 2))\n",
    "    for i in xrange(n_examples):\n",
    "        gt = test_gt[i]\n",
    "        pred = test_recon[i]    \n",
    "        pred_scores[i, 0] = accuracy_of_completion(pred, gt, thres=0.02, ret_dists=False)\n",
    "        pred_scores[i, 1] = coverage_of_completion(gt, pred, thres=0.02, ret_dists=False)\n",
    "    \n",
    "    print 'Test Median-Accuracy-Coverage:', np.median(pred_scores[:, 0]), np.median(pred_scores[:, 1])\n",
    "    \n",
    "    with open(osp.join(top_save_dir, 'stats.txt'), 'w') as fout:\n",
    "        fout.write('Best Validation Epoch = %d\\n' % (best_epoch))\n",
    "        fout.write('Validation loss = %f\\n' % (val_loss))\n",
    "        fout.write('Train loss = %f\\n' % (train_loss))\n",
    "        fout.write('Test loss = %f\\n' % (test_loss))\n",
    "        fout.write('Gen. Error (abs, per) = %f %f\\n' % (abs(test_loss-train_loss),  abs(test_loss-train_loss) / train_loss ))\n",
    "        fout.write('Test Median-Accuracy-Coverage = %f %f\\n' % (np.median(pred_scores[:, 0]), np.median(pred_scores[:, 1])))"
   ]
  }
 ],
 "metadata": {
  "kernelspec": {
   "display_name": "Python 2",
   "language": "python",
   "name": "python2"
  },
  "language_info": {
   "codemirror_mode": {
    "name": "ipython",
    "version": 2
   },
   "file_extension": ".py",
   "mimetype": "text/x-python",
   "name": "python",
   "nbconvert_exporter": "python",
   "pygments_lexer": "ipython2",
   "version": "2.7.6"
  }
 },
 "nbformat": 4,
 "nbformat_minor": 0
}
