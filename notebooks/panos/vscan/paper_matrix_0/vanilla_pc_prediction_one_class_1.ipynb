{
 "cells": [
  {
   "cell_type": "code",
   "execution_count": 1,
   "metadata": {
    "collapsed": false
   },
   "outputs": [
    {
     "name": "stderr",
     "output_type": "stream",
     "text": [
      "/usr/local/lib/python2.7/dist-packages/matplotlib/font_manager.py:273: UserWarning: Matplotlib is building the font cache using fc-list. This may take a moment.\n",
      "  warnings.warn('Matplotlib is building the font cache using fc-list. This may take a moment.')\n",
      "/orions4-zfs/projects/lins2/Panos_Space/Git_Repos/geo_tool/solids/mesh.py:26: UserWarning: Mayavi library was not found. Some graphics utilities will be disabled.\n",
      "  warnings.warn('Mayavi library was not found. Some graphics utilities will be disabled.')\n"
     ]
    }
   ],
   "source": [
    "import sys\n",
    "import time\n",
    "import numpy as np\n",
    "import os.path as osp\n",
    "import tensorflow as tf\n",
    "import matplotlib.pyplot as plt\n",
    "\n",
    "    \n",
    "from tf_lab.fundamentals.utils import set_visible_GPUs, reset_tf_graph\n",
    "\n",
    "import tf_lab.point_clouds.in_out as pio\n",
    "from tf_lab.point_clouds.in_out import PointCloudDataSet, write_model_ids_of_datasets\n",
    "from tf_lab.point_clouds.point_net_ae import PointNetAutoEncoder\n",
    "from tf_lab.point_clouds.autoencoder import Configuration as Conf\n",
    "import tf_lab.point_clouds.encoders_decoders as enc_dec\n",
    "\n",
    "\n",
    "import tf_lab.autopredictors.scripts.virt_scan_data as vscan\n",
    "\n",
    "from tf_lab.autopredictors.scripts.helper import shape_net_category_to_synth_id, points_extension, \\\n",
    "                                                 shape_net_core_synth_id_to_category\n",
    "\n",
    "\n",
    "from tf_lab.autopredictors.plotting import plot_original_pclouds_vs_reconstructed, \\\n",
    "                                           plot_train_val_test_curves, plot_reconstructions_at_epoch\n",
    "        \n",
    "from tf_lab.autopredictors.evaluate import eval_model, read_saved_epochs, accuracy_of_completion, \\\n",
    "                                           coverage_of_completion, save_reconstructions, \\\n",
    "                                           save_pc_prediction_stats\n",
    "                                                  \n",
    "\n",
    "from general_tools.in_out.basics import create_dir, delete_files_in_directory, files_in_subdirs\n",
    "from general_tools.simpletons import select_first_last_and_k\n",
    "from geo_tool import Point_Cloud"
   ]
  },
  {
   "cell_type": "code",
   "execution_count": 2,
   "metadata": {
    "collapsed": false
   },
   "outputs": [],
   "source": [
    "%load_ext autoreload\n",
    "%autoreload 2\n",
    "%matplotlib inline"
   ]
  },
  {
   "cell_type": "code",
   "execution_count": 3,
   "metadata": {
    "collapsed": false
   },
   "outputs": [
    {
     "name": "stdout",
     "output_type": "stream",
     "text": [
      "Give me the class type.\n",
      "sofa\n"
     ]
    }
   ],
   "source": [
    "incomplete_n_samples = 2048\n",
    "complete_n_samples = 4096\n",
    "\n",
    "class_type = raw_input('Give me the class type.\\n').lower()\n",
    "class_syn_id = shape_net_category_to_synth_id()[class_type]\n",
    "\n",
    "GPU = 0\n",
    "exp_counter = '7'\n",
    "loss = 'chamfer'\n",
    "do_training = True\n",
    "load_model_conf = False\n",
    "do_evaluation = True\n",
    "\n",
    "experiment_name = exp_counter + '_' + class_type + '_' + str(incomplete_n_samples) + '_' \\\n",
    "                  + str(complete_n_samples) + 'pts_' + loss\n",
    "\n",
    "top_data_dir = '/orions4-zfs/projects/lins2/Panos_Space/DATA/'\n",
    "complete_pclouds_path = osp.join(top_data_dir, 'ShapeNetPointClouds/from_manifold_meshes/not_scaled', \\\n",
    "                             str(complete_n_samples), class_syn_id)\n",
    "    \n",
    "n_input = [incomplete_n_samples, 3]\n",
    "n_output = [complete_n_samples, 3]\n",
    "\n",
    "train_dir = osp.join(top_data_dir, 'OUT/models/incomplete_pclouds/paper_vanilla_vscan')\n",
    "train_dir = osp.join(train_dir, experiment_name)\n",
    "create_dir(train_dir)\n",
    "\n",
    "if loss == 'emd':\n",
    "    max_training_epochs = 100\n",
    "elif loss == 'chamfer':\n",
    "    max_training_epochs = 100\n",
    "    \n",
    "max_evaluation_epochs = max_training_epochs"
   ]
  },
  {
   "cell_type": "code",
   "execution_count": 4,
   "metadata": {
    "collapsed": false
   },
   "outputs": [],
   "source": [
    "seed = 42\n",
    "np.random.seed(seed)\n",
    "tf.set_random_seed(seed)"
   ]
  },
  {
   "cell_type": "code",
   "execution_count": 5,
   "metadata": {
    "collapsed": false
   },
   "outputs": [
    {
     "name": "stdout",
     "output_type": "stream",
     "text": [
      "3173 files containing complete point clouds were found.\n"
     ]
    }
   ],
   "source": [
    "cmpl_file_names = pio.load_filenames_of_input_data(complete_pclouds_path, points_extension)\n",
    "cmpl_pclouds, cmpl_model_names, syn_ids = pio.load_crude_point_clouds(file_names=cmpl_file_names, n_threads=30)\n",
    "assert(len(np.unique(syn_ids)) == 1)\n",
    "print '%d files containing complete point clouds were found.' % (len(cmpl_pclouds), )"
   ]
  },
  {
   "cell_type": "code",
   "execution_count": 6,
   "metadata": {
    "collapsed": false
   },
   "outputs": [
    {
     "name": "stdout",
     "output_type": "stream",
     "text": [
      "15600 incomplete point clouds were loaded.\n",
      "3438 incomplete point clouds were loaded.\n"
     ]
    }
   ],
   "source": [
    "v_scan_top_dir = osp.join(top_data_dir, 'From_Matthias/shapenet_dim32_sdf_pc', class_syn_id)\n",
    "\n",
    "if do_training or do_evaluation:\n",
    "    train_id_file = osp.join(top_data_dir, 'From_Matthias/train_test_models/train_models_with_scan_id.txt')\n",
    "    \n",
    "    train_data = vscan.load_single_class_incomplete_dataset(v_scan_top_dir, train_id_file, class_syn_id,\n",
    "                                                      cmpl_pclouds, cmpl_model_names, n_threads=30,\n",
    "                                                      n_samples=incomplete_n_samples)\n",
    "    \n",
    "    train_data, val_data = vscan.make_validation_from_train_data(train_data, 0.10)\n",
    "    \n",
    "if do_evaluation:\n",
    "    test_id_file = osp.join(top_data_dir, 'From_Matthias/train_test_models/test_models_with_scan_id.txt')\n",
    "    test_data = vscan.load_single_class_incomplete_dataset(v_scan_top_dir, test_id_file, class_syn_id,\n",
    "                                                      cmpl_pclouds, cmpl_model_names, n_threads=30,\n",
    "                                                      n_samples=incomplete_n_samples)"
   ]
  },
  {
   "cell_type": "code",
   "execution_count": 7,
   "metadata": {
    "collapsed": false
   },
   "outputs": [],
   "source": [
    "if load_model_conf:\n",
    "    conf = Conf.load(osp.join(train_dir, 'configuration'))\n",
    "    print conf\n",
    "else:\n",
    "    decoder_args = {'layer_sizes': [1024, np.prod(n_output)],\n",
    "                    'non_linearity': tf.nn.relu\n",
    "                   }\n",
    "\n",
    "    encoder_args = {'dropout_prob': 0.5}\n",
    "    \n",
    "    conf = Conf(\n",
    "                n_input = n_input,\n",
    "                n_output = n_output,\n",
    "                denoising = True,\n",
    "                training_epochs = max_training_epochs,\n",
    "                batch_size = 50,\n",
    "                loss = loss,\n",
    "                train_dir = train_dir,\n",
    "                loss_display_step = 1,\n",
    "                saver_step = 2,\n",
    "                learning_rate = 0.0005,\n",
    "                encoder = enc_dec.encoder_with_convs_and_symmetry,\n",
    "                encoder_args = encoder_args,\n",
    "                decoder = enc_dec.decoder_with_fc_only,\n",
    "                decoder_args = decoder_args\n",
    "               )\n",
    "    \n",
    "    conf.consistent_io = False\n",
    "    conf.experiment_name = experiment_name\n",
    "    conf.save(osp.join(conf.train_dir, 'configuration'))\n",
    "    \n",
    "reset_tf_graph()\n",
    "set_visible_GPUs([GPU])\n",
    "ae = PointNetAutoEncoder(experiment_name, conf)"
   ]
  },
  {
   "cell_type": "code",
   "execution_count": 2,
   "metadata": {
    "collapsed": false
   },
   "outputs": [],
   "source": [
    "if do_training:\n",
    "    training_stats = []\n",
    "    training_stats.append(ae.train(train_data, conf))    \n",
    "    with open(osp.join(conf.train_dir, 'train_stats.txt'), 'a') as fout:\n",
    "        np.savetxt(fout, np.array(training_stats)[0])"
   ]
  },
  {
   "cell_type": "code",
   "execution_count": 9,
   "metadata": {
    "collapsed": false
   },
   "outputs": [
    {
     "name": "stdout",
     "output_type": "stream",
     "text": [
      "Model restored in epoch 1.\n",
      "[ 0.00129536]\n",
      "Model restored in epoch 2.\n",
      "[ 0.00103641]\n",
      "Model restored in epoch 4.\n",
      "[ 0.00088729]\n",
      "Model restored in epoch 6.\n",
      "[ 0.000883]\n",
      "Model restored in epoch 8.\n",
      "[ 0.00079982]\n",
      "Model restored in epoch 10.\n",
      "[ 0.0007689]\n",
      "Model restored in epoch 12.\n",
      "[ 0.00074846]\n",
      "Model restored in epoch 14.\n",
      "[ 0.00072535]\n",
      "Model restored in epoch 16.\n",
      "[ 0.00072094]\n",
      "Model restored in epoch 18.\n",
      "[ 0.00076061]\n",
      "Model restored in epoch 20.\n",
      "[ 0.00069646]\n",
      "Model restored in epoch 22.\n",
      "[ 0.0006834]\n",
      "Model restored in epoch 24.\n",
      "[ 0.00067364]\n",
      "Model restored in epoch 26.\n",
      "[ 0.00067628]\n",
      "Model restored in epoch 28.\n",
      "[ 0.00067416]\n",
      "Model restored in epoch 30.\n",
      "[ 0.00068788]\n",
      "Model restored in epoch 32.\n",
      "[ 0.00067058]\n",
      "Model restored in epoch 34.\n",
      "[ 0.00066016]\n",
      "Model restored in epoch 36.\n",
      "[ 0.00066993]\n",
      "Model restored in epoch 38.\n",
      "[ 0.00066902]\n",
      "Model restored in epoch 40.\n",
      "[ 0.00066088]\n",
      "Model restored in epoch 42.\n",
      "[ 0.00065603]\n",
      "Model restored in epoch 44.\n",
      "[ 0.00066154]\n",
      "Model restored in epoch 46.\n",
      "[ 0.00066472]\n",
      "Model restored in epoch 48.\n",
      "[ 0.00067034]\n",
      "Model restored in epoch 50.\n",
      "[ 0.0006656]\n",
      "Model restored in epoch 52.\n",
      "[ 0.00066292]\n",
      "Model restored in epoch 54.\n",
      "[ 0.00066677]\n",
      "Model restored in epoch 56.\n",
      "[ 0.00066182]\n",
      "Model restored in epoch 58.\n",
      "[ 0.00066696]\n",
      "Model restored in epoch 60.\n",
      "[ 0.00067551]\n",
      "Model restored in epoch 62.\n",
      "[ 0.00067644]\n",
      "Model restored in epoch 64.\n",
      "[ 0.00068268]\n",
      "Model restored in epoch 66.\n",
      "[ 0.00067739]\n",
      "Model restored in epoch 68.\n",
      "[ 0.0006764]\n",
      "Model restored in epoch 70.\n",
      "[ 0.0006884]\n",
      "Model restored in epoch 72.\n",
      "[ 0.00066852]\n",
      "Model restored in epoch 74.\n",
      "[ 0.00067906]\n",
      "Model restored in epoch 76.\n",
      "[ 0.00067177]\n",
      "Model restored in epoch 78.\n",
      "[ 0.00067158]\n",
      "Model restored in epoch 80.\n",
      "[ 0.00068446]\n",
      "Model restored in epoch 82.\n",
      "[ 0.00069215]\n",
      "Model restored in epoch 84.\n",
      "[ 0.00068757]\n",
      "Model restored in epoch 86.\n",
      "[ 0.00068315]\n",
      "Model restored in epoch 88.\n",
      "[ 0.00069487]\n",
      "Model restored in epoch 90.\n",
      "[ 0.00068631]\n",
      "Model restored in epoch 92.\n",
      "[ 0.00069601]\n",
      "Model restored in epoch 94.\n",
      "[ 0.00069312]\n",
      "Model restored in epoch 96.\n",
      "[ 0.00068899]\n",
      "Model restored in epoch 98.\n",
      "[ 0.0006946]\n",
      "Model restored in epoch 100.\n",
      "[ 0.00069542]\n",
      "Best epoch = 42.\n",
      "Test Median-Accuracy-Coverage: 0.871215820312 0.823486328125\n"
     ]
    }
   ],
   "source": [
    "if do_evaluation:    \n",
    "    # Pick the epoch that minimizes the loss on the validation dataset.\n",
    "    saved_epochs = np.array(read_saved_epochs(conf.train_dir))\n",
    "    allowable_epochs = saved_epochs[saved_epochs <= max_evaluation_epochs]\n",
    "    val_stats = eval_model(ae, conf, val_data, epochs=allowable_epochs, verbose=True)\n",
    "    val_loss = np.min(val_stats[:,1])\n",
    "    best_epoch = int(val_stats[np.argmin(val_stats[:,1]), 0])\n",
    "    print 'Best epoch = %d.' % (best_epoch,) \n",
    "        \n",
    "    ae.restore_model(conf.train_dir, best_epoch)\n",
    "    top_save_dir = osp.join(conf.train_dir, 'output', 'epoch_' + str(best_epoch))\n",
    "    save_dir = osp.join(top_save_dir, 'test_predictions')\n",
    "    test_recon, test_loss, test_feed, test_ids, test_gt = ae.evaluate(test_data, conf)\n",
    "    save_reconstructions(save_dir, test_recon, test_gt, test_feed, test_ids) # save ply files of test data.    \n",
    "    train_loss = ae.evaluate(train_data, conf)[1]\n",
    "    \n",
    "    # Report Accuracy and Coverage of test data.\n",
    "    n_examples = len(test_recon)\n",
    "    pred_scores = np.zeros((n_examples, 2))\n",
    "    for i in xrange(n_examples):\n",
    "        gt = test_gt[i]\n",
    "        pred = test_recon[i] \n",
    "        pred_scores[i, 0] = accuracy_of_completion(pred, gt, thres=0.02, ret_dists=False)\n",
    "        pred_scores[i, 1] = coverage_of_completion(gt, pred, thres=0.02, ret_dists=False)\n",
    "    \n",
    "    print 'Test Median-Accuracy-Coverage:', np.median(pred_scores[:, 0]), np.median(pred_scores[:, 1])\n",
    "    \n",
    "    save_pc_prediction_stats(osp.join(top_save_dir, 'detailed_stats.txt'), test_ids, pred_scores)\n",
    "    \n",
    "    with open(osp.join(top_save_dir, 'stats.txt'), 'w') as fout:\n",
    "        fout.write('Best Validation Epoch = %d\\n' % (best_epoch))\n",
    "        fout.write('Validation loss = %f\\n' % (val_loss))\n",
    "        fout.write('Train loss = %f\\n' % (train_loss))\n",
    "        fout.write('Test loss = %f\\n' % (test_loss))\n",
    "        fout.write('Gen. Error (abs, per) = %f %f\\n' % (abs(test_loss-train_loss),  abs(test_loss-train_loss) / train_loss ))\n",
    "        fout.write('Test Median-Accuracy-Coverage = %f %f\\n' % (np.median(pred_scores[:, 0]), np.median(pred_scores[:, 1])))\n",
    "        fout.write('Test Median Harmonic Mean = %f' % (np.median(hmean(pred_scores, 1))))"
   ]
  },
  {
   "cell_type": "code",
   "execution_count": null,
   "metadata": {
    "collapsed": false
   },
   "outputs": [],
   "source": [
    "# from geo_tool.external_code.python_plyfile.plyfile import PlyElement, PlyData\n",
    "# Jet = plt.get_cmap('jet')\n",
    "\n",
    "# def lala(color_values, pc, idx, string_tag, save_dir):\n",
    "#     temp = color_values - np.max(color_values)\n",
    "#     temp /= np.min(temp)\n",
    "#     temp = np.squeeze(Jet(temp) * 255).astype(np.uint32)\n",
    "#     pc = pc.astype(np.float32)    \n",
    "#     values = np.hstack((pc, temp)).astype(np.float32)\n",
    "#     vp = np.array([(v[0], v[1], v[2], v[3], v[4], v[5]) for v in values], dtype=[('x', 'f4'), ('y', 'f4'), ('z', 'f4'),\\\n",
    "#                                                                              ('red', 'u1'), ('green', 'u1'), ('blue', 'u1')])\n",
    "#     el = PlyElement.describe(vp, 'vertex')\n",
    "#     PlyData([el], text=True).write(osp.join(save_dir, string_tag + idx ) + '.ply', )\n",
    "    \n",
    "# from scipy.stats import hmean\n",
    "\n",
    "# h_measure = hmean(pred_scores, axis=1)  \n",
    "# sort_ind = np.argsort(h_measure)\n",
    "\n",
    "\n",
    "# n_extreme = 100\n",
    "# worst_n = sort_ind[:n_extreme]\n",
    "# best_n = sort_ind[-n_extreme:]\n",
    "\n",
    "\n",
    "\n",
    "# save_dir = osp.join(top_save_dir, 'worst_test_predictions_with_color')\n",
    "# create_dir(save_dir)\n",
    "# n_extreme = 100\n",
    "# for i in xrange(n_extreme):\n",
    "#     bad = worst_n[i]\n",
    "#     gt = test_gt[bad]\n",
    "#     pred = test_recon[bad]   \n",
    "#     feed = test_feed[bad]\n",
    "#     ac_meas, ac_col = accuracy_of_completion(pred, gt, thres=0.02, ret_dists=True)\n",
    "#     cov_meas, cov_col = coverage_of_completion(gt, pred, thres=0.02, ret_dists=True)\n",
    "#     ac_col[ac_col <= 0.02] = 0\n",
    "#     ac_col = ac_col.astype(np.float32)\n",
    "#     cov_col[cov_col <= 0.02]= 0\n",
    "#     cov_col = cov_col.astype(np.float32)\n",
    "#     h_meas = h_measure[bad]\n",
    "#     idi = test_ids[bad]\n",
    "#     print idi\n",
    "#     lala(ac_col, pred, idi, str(i) + '_prediction_', save_dir)\n",
    "#     lala(cov_col, gt, idi, str(i) + '_gt_', save_dir)\n",
    "#     Point_Cloud(points=feed).save_as_ply(osp.join(save_dir, str(i) + '_feed_' + idi))\n",
    "\n",
    "\n",
    "\n",
    "# save_dir = osp.join(top_save_dir, 'best_test_predictions_with_color')\n",
    "# create_dir(save_dir)\n",
    "# for i in xrange(n_extreme):\n",
    "#     good = best_n[i]\n",
    "#     gt = test_gt[good]\n",
    "#     pred = test_recon[good]   \n",
    "#     feed = test_feed[good]\n",
    "#     ac_meas, ac_col = accuracy_of_completion(pred, gt, thres=0.02, ret_dists=True)\n",
    "#     cov_meas, cov_col = coverage_of_completion(gt, pred, thres=0.02, ret_dists=True)\n",
    "#     ac_col[ac_col <= 0.02] = 0\n",
    "#     ac_col = ac_col.astype(np.float32)\n",
    "#     cov_col[cov_col <= 0.02]= 0\n",
    "#     cov_col = cov_col.astype(np.float32)\n",
    "#     h_meas = h_measure[good]\n",
    "#     idi = test_ids[good]\n",
    "#     print idi\n",
    "#     lala(ac_col, pred, idi, str(i) + '_prediction_', save_dir)\n",
    "#     lala(cov_col, gt, idi, str(i) + '_gt_', save_dir)\n",
    "#     Point_Cloud(points=feed).save_as_ply(osp.join(save_dir, str(i) + '_feed_' + idi))"
   ]
  }
 ],
 "metadata": {
  "kernelspec": {
   "display_name": "Python 2",
   "language": "python",
   "name": "python2"
  },
  "language_info": {
   "codemirror_mode": {
    "name": "ipython",
    "version": 2
   },
   "file_extension": ".py",
   "mimetype": "text/x-python",
   "name": "python",
   "nbconvert_exporter": "python",
   "pygments_lexer": "ipython2",
   "version": "2.7.6"
  }
 },
 "nbformat": 4,
 "nbformat_minor": 0
}
