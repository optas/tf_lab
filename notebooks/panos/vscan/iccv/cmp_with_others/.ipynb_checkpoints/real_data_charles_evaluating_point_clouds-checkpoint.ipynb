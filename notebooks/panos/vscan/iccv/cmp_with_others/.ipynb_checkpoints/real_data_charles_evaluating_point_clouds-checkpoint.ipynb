{
 "cells": [
  {
   "cell_type": "code",
   "execution_count": 1,
   "metadata": {
    "collapsed": false,
    "deletable": true,
    "editable": true
   },
   "outputs": [
    {
     "name": "stderr",
     "output_type": "stream",
     "text": [
      "/usr/local/lib/python2.7/dist-packages/matplotlib/font_manager.py:273: UserWarning: Matplotlib is building the font cache using fc-list. This may take a moment.\n",
      "  warnings.warn('Matplotlib is building the font cache using fc-list. This may take a moment.')\n",
      "/orions4-zfs/projects/lins2/Panos_Space/Git_Repos/geo_tool/solids/mesh.py:26: UserWarning: Mayavi library was not found. Some graphics utilities will be disabled.\n",
      "  warnings.warn('Mayavi library was not found. Some graphics utilities will be disabled.')\n"
     ]
    }
   ],
   "source": [
    "import sys\n",
    "import time\n",
    "import numpy as np\n",
    "import os.path as osp\n",
    "import tensorflow as tf\n",
    "import matplotlib.pyplot as plt\n",
    "from scipy.stats import hmean\n",
    "\n",
    "import tf_lab.point_clouds.in_out as pio\n",
    "import tf_lab.point_clouds.encoders_decoders as enc_dec\n",
    "\n",
    "from tf_lab.point_clouds.in_out import PointCloudDataSet, write_model_ids_of_datasets\n",
    "from tf_lab.point_clouds.point_net_ae import PointNetAutoEncoder\n",
    "from tf_lab.point_clouds.autoencoder import Configuration as Conf\n",
    "\n",
    "from tf_lab.fundamentals.utils import set_visible_GPUs, reset_tf_graph\n",
    "\n",
    "\n",
    "\n",
    "import tf_lab.autopredictors.scripts.virt_scan_data as vscan\n",
    "\n",
    "from tf_lab.autopredictors.scripts.helper import shape_net_category_to_synth_id, points_extension, \\\n",
    "                                                 shape_net_core_synth_id_to_category\n",
    "\n",
    "import tf_lab.autopredictors.scripts.iccv as iccv\n",
    "\n",
    "\n",
    "from tf_lab.autopredictors.plotting import plot_original_pclouds_vs_reconstructed, \\\n",
    "                                           plot_train_val_test_curves, plot_reconstructions_at_epoch                                           \n",
    "\n",
    "from tf_lab.autopredictors.evaluate import eval_model, read_saved_epochs, accuracy_of_completion, \\\n",
    "                                           coverage_of_completion, save_reconstructions, \\\n",
    "                                           save_pc_prediction_stats, \\\n",
    "                                           paper_pc_completion_experiment_id_best_epoch\n",
    "                                           \n",
    "                                                  \n",
    "\n",
    "from general_tools.in_out.basics import create_dir, delete_files_in_directory, files_in_subdirs\n",
    "from general_tools.simpletons import select_first_last_and_k\n",
    "from geo_tool import Point_Cloud, Mesh\n",
    "from geo_tool.solids import mesh_cleaning as cleaning"
   ]
  },
  {
   "cell_type": "code",
   "execution_count": 2,
   "metadata": {
    "collapsed": false,
    "deletable": true,
    "editable": true
   },
   "outputs": [],
   "source": [
    "%load_ext autoreload\n",
    "%autoreload 2\n",
    "%matplotlib inline"
   ]
  },
  {
   "cell_type": "code",
   "execution_count": 3,
   "metadata": {
    "collapsed": false,
    "deletable": true,
    "editable": true
   },
   "outputs": [],
   "source": [
    "GPU = 0\n",
    "loss = 'emd'\n",
    "incomplete_n_samples = 2048\n",
    "complete_n_samples = 4096\n",
    "top_data_dir = '/orions4-zfs/projects/lins2/Panos_Space/DATA/'\n",
    "train_dir = osp.join(top_data_dir, 'OUT/models/incomplete_pclouds/paper_vanilla_vscan')"
   ]
  },
  {
   "cell_type": "code",
   "execution_count": 4,
   "metadata": {
    "collapsed": true,
    "deletable": true,
    "editable": true
   },
   "outputs": [],
   "source": [
    "class_type = 'all_classes'"
   ]
  },
  {
   "cell_type": "code",
   "execution_count": 5,
   "metadata": {
    "collapsed": true,
    "deletable": true,
    "editable": true
   },
   "outputs": [],
   "source": [
    "experiment_id, best_epoch = paper_pc_completion_experiment_id_best_epoch(class_type, loss)\n",
    "experiment_name = str(experiment_id) + '_' + class_type + '_' + str(incomplete_n_samples) + '_' \\\n",
    "                  + str(complete_n_samples) + 'pts_' + loss\n",
    "train_dir = osp.join(train_dir, experiment_name)"
   ]
  },
  {
   "cell_type": "code",
   "execution_count": 6,
   "metadata": {
    "collapsed": false,
    "deletable": true,
    "editable": true
   },
   "outputs": [
    {
     "name": "stdout",
     "output_type": "stream",
     "text": [
      "              allow_gpu_growth: True\n",
      "                    batch_size: 50\n",
      "                 consistent_io: None\n",
      "                         debug: False\n",
      "                       decoder: decoder_with_fc_only\n",
      "                  decoder_args: {'non_linearity': <function relu at 0x7f6c51ee5e60>, 'layer_sizes': [1024, 12288]}\n",
      "                       encoder: encoder_with_convs_and_symmetry\n",
      "                  encoder_args: {'dropout_prob': 1.0}\n",
      "               experiment_name: 9_all_classes_2048_4096pts_emd\n",
      "                 gauss_augment: None\n",
      "                  is_denoising: True\n",
      "               latent_vs_recon: 1.0\n",
      "                 learning_rate: 0.0005\n",
      "                          loss: emd\n",
      "             loss_display_step: 1\n",
      "                       n_input: [2048, 3]\n",
      "                      n_output: [4096, 3]\n",
      "                           n_z: None\n",
      "             saver_max_to_keep: None\n",
      "                    saver_step: 1\n",
      "                     train_dir: /orions4-zfs/projects/lins2/Panos_Space/DATA/OUT/models/incomplete_pclouds/paper_vanilla_vscan/9_all_classes_2048_4096pts_emd\n",
      "               training_epochs: 150\n",
      "                      z_rotate: False\n",
      "\n"
     ]
    }
   ],
   "source": [
    "conf = Conf.load(osp.join(train_dir, 'configuration'))\n",
    "conf.consistent_io = None\n",
    "conf.allow_gpu_growth = True\n",
    "conf.encoder_args = {'dropout_prob': 1.0}\n",
    "print conf"
   ]
  },
  {
   "cell_type": "code",
   "execution_count": 7,
   "metadata": {
    "collapsed": true,
    "deletable": true,
    "editable": true
   },
   "outputs": [],
   "source": [
    "reset_tf_graph()\n",
    "set_visible_GPUs([GPU])\n",
    "ae = PointNetAutoEncoder(experiment_name, conf)\n",
    "ae.restore_model(train_dir, best_epoch)"
   ]
  },
  {
   "cell_type": "code",
   "execution_count": 11,
   "metadata": {
    "collapsed": true,
    "deletable": true,
    "editable": true
   },
   "outputs": [],
   "source": [
    "top_charles_dir = '/orions4-zfs/projects/lins2/Panos_Space/DATA/Charles_Real_Scans/objects/'\n",
    "mesh_list = osp.join(top_charles_dir, 'objectlist.txt')\n",
    "with open(mesh_list, 'r') as fin:\n",
    "    mesh_list = fin.readlines()\n",
    "\n",
    "mesh_file_list = [osp.join(top_charles_dir, i.rstrip()) for i in mesh_list]\n",
    "mesh_names = [osp.basename(i)[:-len('.obj')] for i in mesh_file_list]\n",
    "pc_file_list = [i[:-len('.obj')] + '_2048_samples_pts.txt' for i in mesh_file_list]"
   ]
  },
  {
   "cell_type": "code",
   "execution_count": 12,
   "metadata": {
    "collapsed": false
   },
   "outputs": [],
   "source": [
    "from tf_lab.autopredictors.scripts.charles_data import CharlesFusedData\n",
    "\n",
    "chair_rotate_degrees = [-45, -150, -135, -115, -110, 0, -25, -10, 90, -30, -130, -45, -135, 90, 90, 60, 0]\n",
    "\n",
    "chair_model_names = ['chair_scan_0001', 'chair_scan_0010', 'chair_scan_0016', 'chair_scan_0007',\n",
    "                         'chair_scan_0011', 'chair_scan_0006', 'chair_scan_0017', 'chair_scan_0012',\n",
    "                         'chair_scan_0008', 'chair_scan_0003', 'chair_scan_0005', 'chair_scan_0014',\n",
    "                         'chair_scan_0002', 'chair_scan_0009', 'chair_scan_0013', 'chair_scan_0015',\n",
    "                         'chair_scan_0004']\n",
    "\n",
    "table_rotate_degrees = [30, -70, 90, -80, 0, 10, 120, -10, 30, 0, 30, 10, 10, 60, 25, 35, 10, 0]\n",
    "table_model_names = ['table_scan_0014', 'table_scan_0005', 'table_scan_0003', 'table_scan_0012',\n",
    "                         'table_scan_0008', 'table_scan_0004', 'table_scan_0015', 'table_scan_0009',\n",
    "                         'table_scan_0013', 'table_scan_0018', 'table_scan_0002', 'table_scan_0007',\n",
    "                         'table_scan_0016', 'table_scan_0010', 'table_scan_0001', 'table_scan_0017',\n",
    "                         'table_scan_0006', 'table_scan_0011']\n",
    "\n",
    "sofa_rotate_degrees = [0, 0, 100, -130, 10, -65, 60, -35, 60, 155, 120, 110, 70, 10, 0, 120, 67, 5, 5, 30, 0, 120, 5, 110, -83, -150]\n",
    "sofa_model_names = ['sofa_scan_0007', 'sofa_scan_0016', 'sofa_scan_0025', 'sofa_scan_0023',\n",
    "                        'sofa_scan_0010', 'sofa_scan_0001', 'sofa_scan_0017', 'sofa_scan_0006',\n",
    "                        'sofa_scan_0024', 'sofa_scan_0022', 'sofa_scan_0011', 'sofa_scan_0014',\n",
    "                        'sofa_scan_0005', 'sofa_scan_0003', 'sofa_scan_0019', 'sofa_scan_0012',\n",
    "                        'sofa_scan_0008', 'sofa_scan_0021', 'sofa_scan_0026', 'sofa_scan_0004',\n",
    "                        'sofa_scan_0015', 'sofa_scan_0009', 'sofa_scan_0013', 'sofa_scan_0018',\n",
    "                        'sofa_scan_0002', 'sofa_scan_0020']\n",
    "    \n",
    "\n",
    "checking_names = table_model_names\n",
    "checking_degs = table_rotate_degrees\n",
    "rotation_dict = dict()\n",
    "CharlesFusedData.add_synced_lists_to_dict(rotation_dict, checking_names, checking_degs)\n",
    "\n",
    "rotation_dict = dict()\n",
    "k = 0\n",
    "rotation_dict[checking_names[k]] = checking_degs[k]"
   ]
  },
  {
   "cell_type": "code",
   "execution_count": 13,
   "metadata": {
    "collapsed": false,
    "deletable": true,
    "editable": true
   },
   "outputs": [],
   "source": [
    "feed = np.zeros((len(rotation_dict), incomplete_n_samples, 3))\n",
    "k = 0\n",
    "for pc_file, model_name in zip(pc_file_list, mesh_names) :\n",
    "    if model_name in rotation_dict:\n",
    "        pc = Point_Cloud(points=np.loadtxt(pc_file)).permute_points([2, 0, 1])            \n",
    "        pc.rotate_z_axis_by_degrees(rotation_dict[model_name])        \n",
    "        pc.center_axis(0)\n",
    "        pc.center_axis(1)\n",
    "        pc.center_axis(2)\n",
    "        feed[k] = pc.points\n",
    "        k += 1"
   ]
  },
  {
   "cell_type": "code",
   "execution_count": 14,
   "metadata": {
    "collapsed": false,
    "deletable": true,
    "editable": true
   },
   "outputs": [
    {
     "data": {
      "image/png": "[encoded data removed]",
      "text/plain": [
       "<matplotlib.figure.Figure at 0x7f6c353962d0>"
      ]
     },
     "metadata": {},
     "output_type": "display_data"
    }
   ],
   "source": [
    "res = ae.reconstruct(feed, compute_loss=False)[0]\n",
    "c = 1\n",
    "\n",
    "for i, pc in enumerate(res):\n",
    "    fig = plt.figure(figsize=(10, 10))\n",
    "    recon = Point_Cloud(pc.reshape(4096, 3))\n",
    "    feed_i = Point_Cloud(feed[i].reshape(2048, 3))\n",
    "    \n",
    "    plt.subplot(1, 2, 1, projection='3d')\n",
    "    plt.axis('off')\n",
    "    ax = fig.axes[0]    \n",
    "    iccv.plot_3d_point_cloud(feed_i, axis=ax, in_u_sphere=True, elev=10, azim=40, show=False, s=8)\n",
    "    \n",
    "    plt.subplot(1, 2, 2, projection='3d')    \n",
    "    plt.axis('off')\n",
    "    ax = fig.axes[1]    \n",
    "    iccv.plot_3d_point_cloud(recon, axis=ax, in_u_sphere=True, elev=10, azim=40, show=False, s=8)\n",
    "    "
   ]
  }
 ],
 "metadata": {
  "kernelspec": {
   "display_name": "Python 2",
   "language": "python",
   "name": "python2"
  },
  "language_info": {
   "codemirror_mode": {
    "name": "ipython",
    "version": 2
   },
   "file_extension": ".py",
   "mimetype": "text/x-python",
   "name": "python",
   "nbconvert_exporter": "python",
   "pygments_lexer": "ipython2",
   "version": "2.7.6"
  }
 },
 "nbformat": 4,
 "nbformat_minor": 2
}
