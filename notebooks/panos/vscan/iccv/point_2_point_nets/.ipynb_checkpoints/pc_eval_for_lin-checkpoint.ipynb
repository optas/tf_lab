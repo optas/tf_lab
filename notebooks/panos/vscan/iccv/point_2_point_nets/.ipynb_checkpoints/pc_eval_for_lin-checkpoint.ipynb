{
 "cells": [
  {
   "cell_type": "code",
   "execution_count": 3,
   "metadata": {
    "collapsed": false
   },
   "outputs": [],
   "source": [
    "import sys\n",
    "import numpy as np\n",
    "import os.path as osp\n",
    "from scipy.stats import hmean\n",
    "    \n",
    "import tf_lab.point_clouds.in_out as pio\n",
    "                                                     \n",
    "from tf_lab.autopredictors.evaluate import accuracy_of_completion, coverage_of_completion,\\\n",
    "                                           save_pc_prediction_stats, save_stats_of_multi_class_experiments                                                "
   ]
  },
  {
   "cell_type": "code",
   "execution_count": null,
   "metadata": {
    "collapsed": true
   },
   "outputs": [],
   "source": [
    "# Give us input:\n",
    "# test_recon, test_feed, test_ids, test_gt\n",
    "# top_save_dir\n",
    "\n",
    "#  Use:\n",
    "# pio.load_crude_point_cloud()\n",
    "\n",
    "# Report Accuracy and Coverage of test data.\n",
    "n_examples = len(test_recon)\n",
    "pred_scores = np.zeros((n_examples, 2))\n",
    "for i in xrange(n_examples):\n",
    "    gt = test_gt[i]\n",
    "    pred = test_recon[i] \n",
    "    pred_scores[i, 0] = accuracy_of_completion(pred, gt, thres=0.02, ret_dists=False)\n",
    "    pred_scores[i, 1] = coverage_of_completion(gt, pred, thres=0.02, ret_dists=False)\n",
    "    \n",
    "print 'Test Median Accuracy-Coverage:', np.median(pred_scores[:, 0]), np.median(pred_scores[:, 1])\n",
    "print 'Test Median H-measure:', (np.median(hmean(pred_scores, 1))))\n",
    "\n",
    "save_pc_prediction_stats(osp.join(top_save_dir, 'detailed_stats.txt'), test_ids, pred_scores)\n",
    "# If you do multi-class:\n",
    "# save_stats_of_multi_class_experiments(osp.join(top_save_dir, 'class_stats.txt'), test_ids, pred_scores)"
   ]
  }
 ],
 "metadata": {
  "kernelspec": {
   "display_name": "Python 2",
   "language": "python",
   "name": "python2"
  },
  "language_info": {
   "codemirror_mode": {
    "name": "ipython",
    "version": 2
   },
   "file_extension": ".py",
   "mimetype": "text/x-python",
   "name": "python",
   "nbconvert_exporter": "python",
   "pygments_lexer": "ipython2",
   "version": "2.7.6"
  }
 },
 "nbformat": 4,
 "nbformat_minor": 2
}
