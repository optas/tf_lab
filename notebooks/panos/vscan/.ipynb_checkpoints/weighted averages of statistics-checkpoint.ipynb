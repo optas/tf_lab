{
 "cells": [
  {
   "cell_type": "code",
   "execution_count": 10,
   "metadata": {
    "collapsed": true
   },
   "outputs": [],
   "source": [
    "import numpy as np"
   ]
  },
  {
   "cell_type": "code",
   "execution_count": 11,
   "metadata": {
    "collapsed": false
   },
   "outputs": [],
   "source": [
    "# TEST DATA-set sizes\n",
    "n_airplane = 745\n",
    "n_cabinet = 272\n",
    "n_car = 987\n",
    "n_chair = 1000\n",
    "n_lamp = 468\n",
    "n_sofa = 573\n",
    "n_table = 1000\n",
    "n_vessel = 339\n",
    "\n",
    "n_all = np.array([n_airplane, n_cabinet, n_car, n_chair, n_lamp, n_sofa, n_table, n_vessel], dtype=np.float)\n",
    "n_total = np.sum(n_all)\n",
    "class_fraction = (n_all / n_total)"
   ]
  },
  {
   "cell_type": "code",
   "execution_count": 54,
   "metadata": {
    "collapsed": true
   },
   "outputs": [],
   "source": [
    "# Chamfer single class Coverage - Accuracy - H-measure\n",
    "airplane_stat = [99.6, 99.6, 99.5]\n",
    "cabinet_stat  = [84.6, 87.2, 85.7]\n",
    "car_stat      = [91.6, 92.7, 91.6]\n",
    "chair_stat    = [77.4, 89.6, 82.9]\n",
    "lamp_stat     = [71.6, 88.4, 77.2]\n",
    "sofa_stat     = [82.3, 87.1, 84.1]\n",
    "table_stat    = [77.7, 90.8, 83.0]\n",
    "vessel_stat   = [89.4, 92.3, 90.6]"
   ]
  },
  {
   "cell_type": "code",
   "execution_count": 58,
   "metadata": {
    "collapsed": true
   },
   "outputs": [],
   "source": [
    "# EMD single class Coverage - Accuracy - H-measure\n",
    "\n",
    "airplane_stat = [99.2, 99.3, 99.0]\n",
    "cabinet_stat  = [84.7, 85.6, 84.6]\n",
    "car_stat      = [89.2, 91.6, 89.5]\n",
    "chair_stat    = [84.9, 78.2, 80.7]\n",
    "lamp_stat     = [83.1, 62.8, 70.8]\n",
    "sofa_stat     = [85.1, 82.9, 83.7]\n",
    "table_stat    = [85.7, 79.9, 81.8]\n",
    "vessel_stat   = [91.1, 85.7, 87.7]"
   ]
  },
  {
   "cell_type": "code",
   "execution_count": 12,
   "metadata": {
    "collapsed": true
   },
   "outputs": [],
   "source": [
    "# Baseline Coverage - Accuracy\n",
    "airplane_stat = [79.4, 100.0]\n",
    "cabinet_stat = [46.3, 94.4]\n",
    "car_stat = [44.1, 97.9]\n",
    "chair_stat = [57.7, 99.1]\n",
    "lamp_stat = [69.4, 100.0]\n",
    "sofa_stat = [49.0, 97.2]\n",
    "table_stat = [58.8, 99.1]\n",
    "vessel_stat = [66.9, 99.9]\n"
   ]
  },
  {
   "cell_type": "code",
   "execution_count": 13,
   "metadata": {
    "collapsed": false
   },
   "outputs": [
    {
     "name": "stdout",
     "output_type": "stream",
     "text": [
      "58.5082838039 98.6934992571 0.0\n"
     ]
    }
   ],
   "source": [
    "all_stats = np.vstack((airplane_stat, cabinet_stat, car_stat, chair_stat, \\\n",
    "                       lamp_stat, sofa_stat, table_stat, vessel_stat))\n",
    "\n",
    "weighted_cov = []\n",
    "weighted_acc = []\n",
    "weighted_hm = []\n",
    "for i, j in zip(class_fraction, all_stats):\n",
    "    weighted = i * j\n",
    "    weighted_cov.append(weighted[0])\n",
    "    weighted_acc.append(weighted[1])\n",
    "    weighted_hm.append(weighted[2])\n",
    "    \n",
    "print np.sum(weighted_cov), np.sum(weighted_acc), np.sum(weighted_hm)"
   ]
  }
 ],
 "metadata": {
  "kernelspec": {
   "display_name": "Python 2",
   "language": "python",
   "name": "python2"
  },
  "language_info": {
   "codemirror_mode": {
    "name": "ipython",
    "version": 2
   },
   "file_extension": ".py",
   "mimetype": "text/x-python",
   "name": "python",
   "nbconvert_exporter": "python",
   "pygments_lexer": "ipython2",
   "version": "2.7.6"
  }
 },
 "nbformat": 4,
 "nbformat_minor": 2
}
