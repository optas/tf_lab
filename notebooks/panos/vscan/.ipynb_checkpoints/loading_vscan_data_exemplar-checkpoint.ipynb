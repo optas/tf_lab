{
 "cells": [
  {
   "cell_type": "code",
   "execution_count": 3,
   "metadata": {
    "collapsed": false
   },
   "outputs": [],
   "source": [
    "import tf_lab.autopredictors.scripts.virt_scan_data as vscan\n",
    "class_syn_id = '02691156'\n",
    "train_data, val_data, test_data = vscan.load_train_val_test_vscan_paper(class_syn_id, 30)"
   ]
  },
  {
   "cell_type": "code",
   "execution_count": 11,
   "metadata": {
    "collapsed": false
   },
   "outputs": [],
   "source": [
    "# Each list contains 3 numpy arrays. Complete Pclouds - labels - Incomplete Pclouds.\n",
    "tr = train_data.full_epoch_data(shuffle=False)\n",
    "va = val_data.full_epoch_data(shuffle=False)\n",
    "te = test_data.full_epoch_data(shuffle=False)\n"
   ]
  },
  {
   "cell_type": "code",
   "execution_count": 10,
   "metadata": {
    "collapsed": false
   },
   "outputs": [],
   "source": [
    "# Verification we didn't mix train-test-val data.\n",
    "train_set = set([i[:-6] for i in tr[1]])\n",
    "val_set = set([i[:-6] for i in va[1]])\n",
    "test_set = set([i[:-6] for i in te[1]])\n",
    "\n",
    "c1 = len(test_set.intersection(train_set)) == 0\n",
    "c2 = len(test_set.intersection(val_set)) == 0\n",
    "c3 = len(train_set.intersection(val_set)) == 0\n",
    "\n",
    "assert(c1 and c2 and c3)"
   ]
  }
 ],
 "metadata": {
  "kernelspec": {
   "display_name": "Python 2",
   "language": "python",
   "name": "python2"
  },
  "language_info": {
   "codemirror_mode": {
    "name": "ipython",
    "version": 2
   },
   "file_extension": ".py",
   "mimetype": "text/x-python",
   "name": "python",
   "nbconvert_exporter": "python",
   "pygments_lexer": "ipython2",
   "version": "2.7.6"
  }
 },
 "nbformat": 4,
 "nbformat_minor": 2
}
