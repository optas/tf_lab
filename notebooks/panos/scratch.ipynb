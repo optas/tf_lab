{
 "cells": [
  {
   "cell_type": "markdown",
   "metadata": {},
   "source": [
    "## Scratch"
   ]
  },
  {
   "cell_type": "code",
   "execution_count": 1,
   "metadata": {
    "collapsed": false
   },
   "outputs": [
    {
     "name": "stderr",
     "output_type": "stream",
     "text": [
      "/orions4-zfs/projects/lins2/Panos_Space/Git_Repos/geo_tool/solids/mesh.py:26: UserWarning: Mayavi library was not found. Some graphics utilities will be disabled.\n",
      "  warnings.warn('Mayavi library was not found. Some graphics utilities will be disabled.')\n"
     ]
    }
   ],
   "source": [
    "import sys\n",
    "import time\n",
    "import numpy as np\n",
    "import os.path as osp\n",
    "import tensorflow as tf\n",
    "import matplotlib.pyplot as plt\n",
    "\n",
    "from tf_lab.fundamentals.utils import set_visible_GPUs\n",
    "import tf_lab.point_clouds.in_out as pio\n",
    "import tf_lab.models.point_net_based_AE as pnAE\n",
    "from tf_lab.autopredictors.scripts.helper import shape_net_category_to_synth_id\n",
    "from tf_lab.point_clouds.in_out import PointCloudDataSet\n",
    "from tf_lab.point_clouds.point_net_ae import PointNetAutoEncoder\n",
    "from tf_lab.point_clouds.autoencoder import Configuration as Conf\n",
    "\n",
    "from tf_lab.autopredictors.evaluate.basics import eval_model, read_saved_epochs\n",
    "from tf_lab.autopredictors.plotting.basics import plot_original_pclouds_vs_reconstructed,\\\n",
    "                                                  plot_train_val_test_curves, plot_reconstructions_at_epoch\n",
    "\n",
    "from general_tools.in_out.basics import create_dir, delete_files_in_directory, files_in_subdirs\n",
    "from geo_tool import Point_Cloud\n",
    "\n",
    "seed = 42\n",
    "np.random.seed(seed)\n",
    "tf.set_random_seed(seed)"
   ]
  },
  {
   "cell_type": "code",
   "execution_count": 2,
   "metadata": {
    "collapsed": false
   },
   "outputs": [],
   "source": [
    "DATA_PATH = '/orions4-zfs/projects/lins2/Panos_Space/DATA/ShapeNetPointClouds/from_manifold_meshes/1024/03001627/'\n",
    "TRAIN_DIR = '/orions4-zfs/projects/lins2/Panos_Space/DATA/OUT/models/vanilla_ae/chairs_only/'\n",
    "\n",
    "experiment_name = 'enc_filter_1_complex_decoder'\n",
    "TRAIN_DIR = osp.join(TRAIN_DIR, experiment_name)\n",
    "# create_dir(TRAIN_DIR)\n",
    "\n",
    "file_names = pio.load_filenames_of_input_data(DATA_PATH)\n",
    "all_pclouds, model_names, _ = pio.load_crude_point_clouds(file_names=file_names, n_threads=10)\n",
    "\n",
    "\n",
    "conf = Conf(n_input = [1024, 3],\n",
    "            training_epochs = 1000,\n",
    "               batch_size = 40,\n",
    "               loss = 'Chamfer',\n",
    "               train_dir = TRAIN_DIR,\n",
    "               loss_display_step = 1,\n",
    "               saver_step = 5,\n",
    "               learning_rate = 0.00002,\n",
    "               saver_max_to_keep = 200,\n",
    "               gauss_augment = {'mu': 0, 'sigma': 0.02},\n",
    "               encoder = pnAE.encoder,\n",
    "               decoder = pnAE.decoder\n",
    "               )\n",
    "\n",
    "\n",
    "train_data_, val_data_, test_data_ = pio.train_validate_test_split([all_pclouds,                                                             \n",
    "                                                            model_names],\n",
    "                                                            train_perc=0.8,\n",
    "                                                            validate_perc=0.1,\n",
    "                                                            test_perc=0.1,\n",
    "                                                            seed=seed)\n",
    "\n",
    "train_data = PointCloudDataSet(train_data_[0], labels=train_data_[1])\n",
    "val_data = PointCloudDataSet(val_data_[0], labels=val_data_[1])\n",
    "test_data = PointCloudDataSet(test_data_[0], labels=test_data_[1])"
   ]
  },
  {
   "cell_type": "code",
   "execution_count": 3,
   "metadata": {
    "collapsed": true
   },
   "outputs": [],
   "source": [
    "ae = PointNetAutoEncoder(experiment_name, conf)"
   ]
  },
  {
   "cell_type": "code",
   "execution_count": 5,
   "metadata": {
    "collapsed": false
   },
   "outputs": [
    {
     "name": "stdout",
     "output_type": "stream",
     "text": [
      "[ 0.0037341   0.00369484]\n",
      "[ 0.00201771  0.00205854]\n",
      "[ 0.00168847  0.00171357]\n",
      "[ 0.00155746  0.00158419]\n",
      "[ 0.00148309  0.00151353]\n",
      "[ 0.00142828  0.00145644]\n",
      "[ 0.00139644  0.00142714]\n",
      "[ 0.00136612  0.00139871]\n",
      "[ 0.00134623  0.00137464]\n",
      "[ 0.00132668  0.00135893]\n",
      "[ 0.00131309  0.00133641]\n",
      "[ 0.00129739  0.00133096]\n",
      "[ 0.00128579  0.00131396]\n",
      "[ 0.00127496  0.00130205]\n",
      "[ 0.00126463  0.00130055]\n",
      "[ 0.00125738  0.00129662]\n",
      "[ 0.00124866  0.00128835]\n",
      "[ 0.00124188  0.00127236]\n",
      "[ 0.0012388   0.00127656]\n",
      "[ 0.00123025  0.00127712]\n"
     ]
    }
   ],
   "source": [
    "saved_epochs = read_saved_epochs(conf.train_dir)\n",
    "epochs = saved_epochs[::len(saved_epochs)/20]\n",
    "stats = eval_model(ae, conf, [train_data, test_data], epochs=epochs, verbose=True)"
   ]
  },
  {
   "cell_type": "code",
   "execution_count": null,
   "metadata": {
    "collapsed": true
   },
   "outputs": [],
   "source": []
  },
  {
   "cell_type": "code",
   "execution_count": 12,
   "metadata": {
    "collapsed": false
   },
   "outputs": [
    {
     "ename": "AttributeError",
     "evalue": "Configuration instance has no attribute '__str__'",
     "output_type": "error",
     "traceback": [
      "\u001b[1;31m---------------------------------------------------------------------------\u001b[0m",
      "\u001b[1;31mAttributeError\u001b[0m                            Traceback (most recent call last)",
      "\u001b[1;32m<ipython-input-12-8452161e2e40>\u001b[0m in \u001b[0;36m<module>\u001b[1;34m()\u001b[0m\n\u001b[1;32m----> 1\u001b[1;33m \u001b[0mconf\u001b[0m\u001b[1;33m.\u001b[0m\u001b[0m__str__\u001b[0m\u001b[1;33m\u001b[0m\u001b[0m\n\u001b[0m",
      "\u001b[1;31mAttributeError\u001b[0m: Configuration instance has no attribute '__str__'"
     ]
    }
   ],
   "source": [
    "ae.restore_model(conf.train_dir, 995)\n",
    "ae.evaluate(train_data, conf)"
   ]
  },
  {
   "cell_type": "code",
   "execution_count": null,
   "metadata": {
    "collapsed": true
   },
   "outputs": [],
   "source": []
  },
  {
   "cell_type": "code",
   "execution_count": null,
   "metadata": {
    "collapsed": true
   },
   "outputs": [],
   "source": []
  },
  {
   "cell_type": "code",
   "execution_count": null,
   "metadata": {
    "collapsed": true
   },
   "outputs": [],
   "source": [
    "\n",
    "\n",
    "\n",
    "### Evaluation\n",
    "\n",
    "SAVEDIR = osp.join('/orions4-zfs/projects/lins2/Panos_Space/DATA/OUT/model_evaluation/vanilla_ae', experiment_name)\n",
    "create_dir(SAVEDIR)\n",
    "\n",
    "gen_error, best_epoch, stats = generalization_error(ae, train_data, test_data, val_data, conf)\n",
    "print 'Best generalization error %f (at epoch %d)' % (gen_error, best_epoch)\n",
    "np.savetxt(osp.join(SAVEDIR, 'error-stats.txt'), stats)\n",
    "plot_train_val_test_curves(stats, SAVEDIR, best_epoch, show=False)\n",
    "\n",
    "plot_reconstructions_at_epoch(best_epoch, ae, test_data, conf, save_dir=osp.join(SAVEDIR, 'test_images_epoch_' + str(best_epoch)))\n",
    "plot_reconstructions_at_epoch(best_epoch, ae, train_data, conf, save_dir=osp.join(SAVEDIR, 'train_images_epoch_' + str(best_epoch)), max_plot=100)\n",
    "\n",
    "last_epoch = stats[-1, 0]\n",
    "plot_reconstructions_at_epoch(last_epoch, ae, test_data, conf, save_dir=osp.join(SAVEDIR, 'test_images_epoch' + str(last_epoch)))  # Also print models at last epoch.\n",
    "\n"
   ]
  },
  {
   "cell_type": "code",
   "execution_count": 37,
   "metadata": {
    "collapsed": false
   },
   "outputs": [],
   "source": [
    "# Experimenting with Tensorboard - Visualizations\n",
    "from tf_lab.fundamentals.inspect import hist_summary_of_trainable\n",
    "writer = tf.summary.FileWriter('/Users/optas/Desktop/test', ae.graph)\n",
    "# hist_summary_of_trainable(ae.graph)"
   ]
  }
 ],
 "metadata": {
  "anaconda-cloud": {},
  "kernelspec": {
   "display_name": "Python 2",
   "language": "python",
   "name": "python2"
  },
  "language_info": {
   "codemirror_mode": {
    "name": "ipython",
    "version": 2
   },
   "file_extension": ".py",
   "mimetype": "text/x-python",
   "name": "python",
   "nbconvert_exporter": "python",
   "pygments_lexer": "ipython2",
   "version": "2.7.6"
  }
 },
 "nbformat": 4,
 "nbformat_minor": 1
}
