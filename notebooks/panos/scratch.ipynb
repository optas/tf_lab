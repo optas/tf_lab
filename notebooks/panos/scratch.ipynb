{
 "cells": [
  {
   "cell_type": "markdown",
   "metadata": {},
   "source": [
    "## Scratch"
   ]
  },
  {
   "cell_type": "code",
   "execution_count": 1,
   "metadata": {
    "collapsed": false
   },
   "outputs": [
    {
     "name": "stderr",
     "output_type": "stream",
     "text": [
      "/orions4-zfs/projects/lins2/Panos_Space/Git_Repos/geo_tool/solids/mesh.py:26: UserWarning: Mayavi library was not found. Some graphics utilities will be disabled.\n",
      "  warnings.warn('Mayavi library was not found. Some graphics utilities will be disabled.')\n"
     ]
    }
   ],
   "source": [
    "import sys\n",
    "import time\n",
    "import numpy as np\n",
    "import os.path as osp\n",
    "import tensorflow as tf\n",
    "import matplotlib.pyplot as plt\n",
    "\n",
    "from tf_lab.fundamentals.utils import set_visible_GPUs\n",
    "import tf_lab.point_clouds.in_out as pio\n",
    "import tf_lab.models.point_net_based_AE as pnAE\n",
    "from tf_lab.autopredictors.scripts.helper import shape_net_category_to_synth_id\n",
    "from tf_lab.point_clouds.in_out import PointCloudDataSet\n",
    "from tf_lab.point_clouds.point_net_ae import PointNetAutoEncoder\n",
    "from tf_lab.point_clouds.autoencoder import Configuration as Conf\n",
    "import tf_lab.point_clouds.various_encoders_decoders as enc_dec\n",
    "\n",
    "\n",
    "from tf_lab.autopredictors.evaluate.basics import eval_model, read_saved_epochs\n",
    "from tf_lab.autopredictors.plotting.basics import plot_original_pclouds_vs_reconstructed,\\\n",
    "                                                  plot_train_val_test_curves, plot_reconstructions_at_epoch\n",
    "\n",
    "from general_tools.in_out.basics import create_dir, delete_files_in_directory, files_in_subdirs\n",
    "from geo_tool import Point_Cloud\n",
    "\n",
    "seed = 42\n",
    "np.random.seed(seed)\n",
    "tf.set_random_seed(seed)\n",
    "\n",
    "\n",
    "%matplotlib inline\n",
    "%load_ext autoreload\n",
    "%autoreload 2"
   ]
  },
  {
   "cell_type": "code",
   "execution_count": null,
   "metadata": {
    "collapsed": true
   },
   "outputs": [],
   "source": [
    "enc_dec.decoder_only_with_fc"
   ]
  },
  {
   "cell_type": "code",
   "execution_count": 2,
   "metadata": {
    "collapsed": false
   },
   "outputs": [],
   "source": [
    "DATA_PATH = '/orions4-zfs/projects/lins2/Panos_Space/DATA/ShapeNetPointClouds/from_manifold_meshes/1024/03001627/'\n",
    "TRAIN_DIR = '/orions4-zfs/projects/lins2/Panos_Space/DATA/OUT/models/vanilla_ae/chairs_only_debug/'\n",
    "\n",
    "experiment_name = 'enc_filter_1_complex_dec'\n",
    "TRAIN_DIR = osp.join(TRAIN_DIR, experiment_name)\n",
    "\n",
    "file_names = pio.load_filenames_of_input_data(DATA_PATH)"
   ]
  },
  {
   "cell_type": "code",
   "execution_count": 7,
   "metadata": {
    "collapsed": false
   },
   "outputs": [],
   "source": [
    "all_pclouds, model_names, class_ids = pio.load_crude_point_clouds(file_names=file_names, n_threads=15)"
   ]
  },
  {
   "cell_type": "code",
   "execution_count": 11,
   "metadata": {
    "collapsed": false
   },
   "outputs": [
    {
     "data": {
      "text/plain": [
       "(6778,)"
      ]
     },
     "execution_count": 11,
     "metadata": {},
     "output_type": "execute_result"
    }
   ],
   "source": [
    "\n"
   ]
  },
  {
   "cell_type": "code",
   "execution_count": 3,
   "metadata": {
    "collapsed": true
   },
   "outputs": [],
   "source": [
    "all_pclouds, model_names, _ = pio.load_crude_point_clouds(file_names=file_names, n_threads=10)\n",
    "\n",
    "train_data_, val_data_, test_data_ = pio.train_validate_test_split(\n",
    "                                                           [all_pclouds,                                                             \n",
    "                                                            model_names],\n",
    "                                                            train_perc=0.8,\n",
    "                                                            validate_perc=0.1,\n",
    "                                                            test_perc=0.1,\n",
    "                                                            seed=seed)\n",
    "\n",
    "train_data = PointCloudDataSet(train_data_[0], labels=train_data_[1])\n",
    "val_data = PointCloudDataSet(val_data_[0], labels=val_data_[1])\n",
    "test_data = PointCloudDataSet(test_data_[0], labels=test_data_[1])"
   ]
  },
  {
   "cell_type": "code",
   "execution_count": 5,
   "metadata": {
    "collapsed": true
   },
   "outputs": [],
   "source": [
    "conf =     Conf(n_input = [1024, 3],\n",
    "               training_epochs = 1000,\n",
    "               batch_size = 40,\n",
    "               loss = 'Chamfer',\n",
    "               train_dir = TRAIN_DIR,\n",
    "               loss_display_step = 1,\n",
    "               saver_step = 5,\n",
    "               learning_rate = 0.00002,\n",
    "               saver_max_to_keep = 200,\n",
    "               gauss_augment = {'mu': 0, 'sigma': 0.02},\n",
    "               encoder = pnAE.encoder,\n",
    "               decoder = enc_dec.decoder_only_with_fc\n",
    "               )\n",
    "\n",
    "ae = PointNetAutoEncoder(experiment_name, conf)"
   ]
  },
  {
   "cell_type": "markdown",
   "metadata": {},
   "source": [
    "## Evaluate"
   ]
  },
  {
   "cell_type": "code",
   "execution_count": 6,
   "metadata": {
    "collapsed": false
   },
   "outputs": [
    {
     "name": "stdout",
     "output_type": "stream",
     "text": [
      "[ 0.00246397  0.0024727   0.00250388]\n",
      "[ 0.00150433  0.00153043  0.0015696 ]\n",
      "[ 0.00137264  0.00139762  0.001426  ]\n",
      "[ 0.00130582  0.00133012  0.00136242]\n",
      "[ 0.00126466  0.00129064  0.00131636]\n",
      "[ 0.00123744  0.00126258  0.0012946 ]\n",
      "[ 0.00121596  0.00124274  0.00126858]\n",
      "[ 0.00119693  0.0012295   0.00125412]\n",
      "[ 0.00118196  0.00121905  0.00123924]\n",
      "[ 0.0011707   0.00120205  0.00122533]\n",
      "[ 0.00115902  0.00119895  0.00121536]\n",
      "[ 0.00115014  0.00118556  0.00120997]\n",
      "[ 0.00114174  0.00117673  0.00119637]\n",
      "[ 0.00113389  0.00116018  0.00119048]\n",
      "[ 0.00112578  0.00116501  0.00118138]\n",
      "[ 0.0011215   0.00115478  0.00118158]\n",
      "[ 0.00111526  0.00114936  0.00117602]\n",
      "[ 0.00110874  0.00114783  0.00116796]\n",
      "[ 0.00110578  0.00114365  0.00116875]\n",
      "[ 0.00109997  0.00113878  0.00115946]\n"
     ]
    },
    {
     "name": "stderr",
     "output_type": "stream",
     "text": [
      "/orions4-zfs/projects/lins2/Panos_Space/Git_Repos/tf_lab/point_clouds/autoencoder.py:81: UserWarning: Loaded model's epoch doesn't match the requested one.\n",
      "  warnings.warn('Loaded model\\'s epoch doesn\\'t match the requested one.')\n"
     ]
    }
   ],
   "source": [
    "saved_epochs = read_saved_epochs(conf.train_dir)\n",
    "epochs = saved_epochs[::len(saved_epochs)/20]\n",
    "stats = eval_model(ae, conf, [train_data, test_data, val_data], epochs=epochs, verbose=True)"
   ]
  },
  {
   "cell_type": "code",
   "execution_count": 7,
   "metadata": {
    "collapsed": false
   },
   "outputs": [
    {
     "data": {
      "image/png": "[encoded data removed]",
      "text/plain": [
       "<matplotlib.figure.Figure at 0x7f72a32f6b10>"
      ]
     },
     "metadata": {},
     "output_type": "display_data"
    }
   ],
   "source": [
    "top_save_dir = osp.join('/orions4-zfs/projects/lins2/Panos_Space/DATA/OUT/model_evaluation/vanilla_ae', experiment_name)\n",
    "plot_train_val_test_curves(stats, top_save_dir, has_validation=False, best_epoch=None, show=True)"
   ]
  },
  {
   "cell_type": "code",
   "execution_count": 8,
   "metadata": {
    "collapsed": false
   },
   "outputs": [],
   "source": [
    "last_epoch = saved_epochs[-1]\n",
    "save_dir = osp.join(top_save_dir, 'train_images_epoch_' + str(last_epoch))\n",
    "plot_reconstructions_at_epoch(last_epoch, ae, train_data, conf, save_dir=save_dir, max_plot=100)\n",
    "\n",
    "save_dir = osp.join(top_save_dir, 'test_images_epoch_' + str(last_epoch))\n",
    "plot_reconstructions_at_epoch(last_epoch, ae, test_data, conf, save_dir=save_dir, max_plot=100)"
   ]
  },
  {
   "cell_type": "code",
   "execution_count": null,
   "metadata": {
    "collapsed": true
   },
   "outputs": [],
   "source": []
  },
  {
   "cell_type": "code",
   "execution_count": null,
   "metadata": {
    "collapsed": true
   },
   "outputs": [],
   "source": []
  },
  {
   "cell_type": "code",
   "execution_count": null,
   "metadata": {
    "collapsed": true
   },
   "outputs": [],
   "source": []
  },
  {
   "cell_type": "code",
   "execution_count": 37,
   "metadata": {
    "collapsed": false
   },
   "outputs": [],
   "source": [
    "# Experimenting with Tensorboard - Visualizations\n",
    "from tf_lab.fundamentals.inspect import hist_summary_of_trainable\n",
    "writer = tf.summary.FileWriter('/Users/optas/Desktop/test', ae.graph)\n",
    "# hist_summary_of_trainable(ae.graph)"
   ]
  }
 ],
 "metadata": {
  "anaconda-cloud": {},
  "kernelspec": {
   "display_name": "Python 2",
   "language": "python",
   "name": "python2"
  },
  "language_info": {
   "codemirror_mode": {
    "name": "ipython",
    "version": 2
   },
   "file_extension": ".py",
   "mimetype": "text/x-python",
   "name": "python",
   "nbconvert_exporter": "python",
   "pygments_lexer": "ipython2",
   "version": "2.7.6"
  }
 },
 "nbformat": 4,
 "nbformat_minor": 1
}
