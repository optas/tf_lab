{
 "cells": [
  {
   "cell_type": "code",
   "execution_count": 2,
   "metadata": {
    "collapsed": false
   },
   "outputs": [
    {
     "name": "stdout",
     "output_type": "stream",
     "text": [
      "The autoreload extension is already loaded. To reload it, use:\n",
      "  %reload_ext autoreload\n"
     ]
    }
   ],
   "source": [
    "%load_ext autoreload\n",
    "%autoreload 2\n",
    "\n",
    "import sys\n",
    "import numpy as np\n",
    "import os.path as osp\n",
    "import tensorflow as tf\n",
    "import matplotlib.pyplot as plt\n",
    "\n",
    "from scipy import spatial\n",
    "from scipy.sparse.linalg import eigs\n",
    "\n",
    "git_path = '/Users/optas/Documents/Git_Repos/'\n",
    "sys.path.insert(0, git_path)\n",
    "\n",
    "from tf_lab.model.vgg import vgg_m_conv\n",
    "from tf_lab.fundamentals import fc_with_soft_max_layer\n",
    "\n",
    "%matplotlib inline"
   ]
  },
  {
   "cell_type": "code",
   "execution_count": 3,
   "metadata": {
    "collapsed": false
   },
   "outputs": [],
   "source": [
    "from tensorflow.models.image.cifar10 import cifar10\n",
    "cifar10.FLAGS.data_dir = '/Users/optas/DATA/Images/CIFAR_10/'\n",
    "cifar10.maybe_download_and_extract()\n",
    "NUM_CLASSES = 10"
   ]
  },
  {
   "cell_type": "code",
   "execution_count": 4,
   "metadata": {
    "collapsed": false
   },
   "outputs": [
    {
     "name": "stdout",
     "output_type": "stream",
     "text": [
      "Filling queue with 20000 CIFAR images before starting to train. This will take a few minutes.\n"
     ]
    }
   ],
   "source": [
    "images, labels = cifar10.distorted_inputs()\n",
    "paddings = [[0,0], [50, 50,], [50, 50], [0,0]]\n",
    "images_big = tf.pad(images, paddings, \"CONSTANT\")"
   ]
  },
  {
   "cell_type": "code",
   "execution_count": 12,
   "metadata": {
    "collapsed": false
   },
   "outputs": [],
   "source": [
    "def cifar_10_vgg_classifier(in_signal):\n",
    "    keep_prob = 0.5\n",
    "    stddev = 5e-2\n",
    "    layer = vgg_m_conv(in_signal, keep_prob)\n",
    "    predictions = fc_with_soft_max_layer(layer, NUM_CLASSES, stddev)      \n",
    "    return predictions"
   ]
  },
  {
   "cell_type": "code",
   "execution_count": 15,
   "metadata": {
    "collapsed": false
   },
   "outputs": [
    {
     "name": "stdout",
     "output_type": "stream",
     "text": [
      "Filling queue with 20000 CIFAR images before starting to train. This will take a few minutes.\n",
      "[array([[  9.89372240e-29,   9.99751389e-01,   4.25720461e-35, ...,\n",
      "          2.48523487e-04,   7.65052235e-08,   6.46529433e-19],\n",
      "       [  5.58076707e-22,   3.49713904e-23,   1.40103731e-35, ...,\n",
      "          9.08389919e-10,   1.72844185e-26,   7.37164357e-11],\n",
      "       [  9.71022601e-27,   2.51064481e-23,   0.00000000e+00, ...,\n",
      "          1.55498248e-36,   6.02137003e-15,   7.03709175e-37],\n",
      "       ..., \n",
      "       [  5.50711560e-12,   2.81982924e-19,   0.00000000e+00, ...,\n",
      "          4.71312746e-12,   1.00000000e+00,   1.39827672e-09],\n",
      "       [  9.99974370e-01,   1.99023309e-09,   4.99290294e-16, ...,\n",
      "          2.56190851e-05,   1.22772589e-14,   1.48472119e-14],\n",
      "       [  1.66505838e-24,   7.60911569e-29,   1.34719100e-33, ...,\n",
      "          2.27212929e-14,   1.00000000e+00,   5.11814809e-24]], dtype=float32)]\n"
     ]
    }
   ],
   "source": [
    "with tf.Graph().as_default() as g:    \n",
    "    # Get images and labels for CIFAR-10.\n",
    "    images, labels = cifar10.distorted_inputs()\n",
    "    pred = cifar_10_vgg_classifier(images)\n",
    "    #     fc_cv, fc = test_vgg_m_conv(images, 1, g)\n",
    "    init = tf.initialize_all_variables()        \n",
    "    sess = tf.Session(config=tf.ConfigProto(log_device_placement=False))\n",
    "    sess.run(init)\n",
    "    # Start the queue runners.\n",
    "    tf.train.start_queue_runners(sess=sess)    \n",
    "    print sess.run([pred])\n",
    "    "
   ]
  },
  {
   "cell_type": "code",
   "execution_count": 7,
   "metadata": {
    "collapsed": false
   },
   "outputs": [
    {
     "name": "stdout",
     "output_type": "stream",
     "text": [
      "[-4.82317972  7.56947613  2.45779705 -1.21228302  5.42072678 -5.22100878\n",
      " -1.47143781  5.10664082  4.20103455 -0.52912915 -3.39429331  1.91564465\n",
      "  1.12573886 -1.36975384 -2.57543731  3.38702774 -1.90229058 -7.67551136\n",
      "  0.73936599 -1.94913518  3.53006053  0.15869325  5.00703335 -0.71717119\n",
      "  4.98837757  0.75052369  1.19316506 -1.38610315 -2.14804769 -0.78406906]\n",
      "[-4.82317972  7.56947613  2.45779705 -1.21228302  5.42072678 -5.22100878\n",
      " -1.47143781  5.10664082  4.20103455 -0.52912915 -3.39429331  1.91564465\n",
      "  1.12573886 -1.36975384 -2.57543731  3.38702774 -1.90229058 -7.67551136\n",
      "  0.73936599 -1.94913518  3.53006053  0.15869325  5.00703335 -0.71717119\n",
      "  4.98837757  0.75052369  1.19316506 -1.38610315 -2.14804769 -0.78406906]\n"
     ]
    }
   ],
   "source": []
  }
 ],
 "metadata": {
  "anaconda-cloud": {},
  "kernelspec": {
   "display_name": "Python [default]",
   "language": "python",
   "name": "python2"
  },
  "language_info": {
   "codemirror_mode": {
    "name": "ipython",
    "version": 2
   },
   "file_extension": ".py",
   "mimetype": "text/x-python",
   "name": "python",
   "nbconvert_exporter": "python",
   "pygments_lexer": "ipython2",
   "version": "2.7.12"
  }
 },
 "nbformat": 4,
 "nbformat_minor": 1
}
