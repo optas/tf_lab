{
 "cells": [
  {
   "cell_type": "code",
   "execution_count": 12,
   "metadata": {
    "collapsed": true
   },
   "outputs": [],
   "source": [
    "import sys\n",
    "import time\n",
    "import numpy as np\n",
    "import os.path as osp\n",
    "import tensorflow as tf\n",
    "import matplotlib.pyplot as plt\n",
    "\n",
    "import tf_lab.point_clouds.in_out as pio\n",
    "from tf_lab.point_clouds.in_out import PointCloudDataSet\n",
    "\n",
    "from tf_lab.point_clouds.point_net_ae import PointNetAutoEncoder\n",
    "from tf_lab.point_clouds.point_net_ae import Configuration as PN_Conf\n",
    "\n",
    "# import tf_lab.point_clouds.various_encoders_decoders as enc_dec\n",
    "# import tf_lab.models.point_net_based_AE as pnAE\n",
    "\n",
    "from general_tools.in_out import create_dir\n",
    "# from geo_tool import Point_Cloud"
   ]
  },
  {
   "cell_type": "code",
   "execution_count": 4,
   "metadata": {
    "collapsed": false
   },
   "outputs": [],
   "source": [
    "%load_ext autoreload\n",
    "%autoreload 2\n",
    "%matplotlib inline\n",
    "\n",
    "seed = 42\n",
    "np.random.seed(seed)\n",
    "tf.set_random_seed(seed)"
   ]
  },
  {
   "cell_type": "code",
   "execution_count": 14,
   "metadata": {
    "collapsed": false
   },
   "outputs": [
    {
     "data": {
      "text/plain": [
       "'/Users/optas/DATA/Neural_Nets/Models/Point_Cloud_AE/test_ae'"
      ]
     },
     "execution_count": 14,
     "metadata": {},
     "output_type": "execute_result"
    }
   ],
   "source": [
    "data_path = '/Users/optas/DATA/Point_Clouds/Shape_Net_Core/from_manifold_meshes/1024/03001627'\n",
    "# LOG_PATH = '/Users/optas/DATA/Neural_Nets/Train_Log/Point_Cloud_AE/'\n",
    "# create_dir(LOG_PATH)\n",
    "\n",
    "model_path = '/Users/optas/DATA/Neural_Nets/Models/Point_Cloud_AE/'\n",
    "experiment_name = 'test_ae'\n",
    "\n",
    "model_path = osp.join(model_path, experiment_name)\n",
    "create_dir(model_path)"
   ]
  },
  {
   "cell_type": "code",
   "execution_count": 10,
   "metadata": {
    "collapsed": false
   },
   "outputs": [
    {
     "name": "stdout",
     "output_type": "stream",
     "text": [
      "6778 files containing  point clouds were found.\n"
     ]
    }
   ],
   "source": [
    "file_names = pio.load_filenames_of_input_data(data_path)\n",
    "file_names = file_names[:1000]\n",
    "all_pclouds, model_names = pio.load_crude_point_clouds(file_names=file_names, n_threads=11)\n",
    "\n",
    "\n",
    "train_data, val_data, test_data = pio.train_validate_test_split(all_pclouds, \n",
    "                                                            train_perc=0.8, \n",
    "                                                            validate_perc=0.1, \n",
    "                                                            test_perc=0.1, \n",
    "                                                            seed=seed)\n",
    "\n",
    "train_data = PointCloudDataSet(train_data)\n",
    "val_data = PointCloudDataSet(val_data)\n",
    "test_data = PointCloudDataSet(test_data)"
   ]
  },
  {
   "cell_type": "code",
   "execution_count": 20,
   "metadata": {
    "collapsed": false
   },
   "outputs": [
    {
     "name": "stdout",
     "output_type": "stream",
     "text": [
      "WARNING:tensorflow:tf.variable_op_scope(values, name, default_name) is deprecated, use tf.variable_scope(name, default_name, values)\n",
      "WARNING:tensorflow:tf.variable_op_scope(values, name, default_name) is deprecated, use tf.variable_scope(name, default_name, values)\n",
      "WARNING:tensorflow:tf.variable_op_scope(values, name, default_name) is deprecated, use tf.variable_scope(name, default_name, values)\n",
      "WARNING:tensorflow:tf.variable_op_scope(values, name, default_name) is deprecated, use tf.variable_scope(name, default_name, values)\n",
      "WARNING:tensorflow:tf.variable_op_scope(values, name, default_name) is deprecated, use tf.variable_scope(name, default_name, values)\n"
     ]
    }
   ],
   "source": [
    "def reset_graph():\n",
    "    if 'sess' in globals() and sess:\n",
    "        sess.close()\n",
    "    tf.reset_default_graph()\n",
    "\n",
    "reset_graph()\n",
    "\n",
    "conf = PN_Conf(n_input = [1024, 3],\n",
    "               training_epochs = 120,\n",
    "               batch_size = 40,\n",
    "               loss = 'l2',\n",
    "               train_dir = model_path,\n",
    "               loss_display_step = 1,               \n",
    "               saver_step = 5,\n",
    "               saver_max_to_keep = 200,\n",
    "               learning_rate = 0.0002               \n",
    "              )\n",
    "\n",
    "ae = PointNetAutoEncoder(experiment_name, conf)"
   ]
  },
  {
   "cell_type": "code",
   "execution_count": 21,
   "metadata": {
    "collapsed": false
   },
   "outputs": [
    {
     "name": "stdout",
     "output_type": "stream",
     "text": [
      "Model restored in epoch 50.\n"
     ]
    }
   ],
   "source": [
    "ae.restore_model(model_path, 50)"
   ]
  },
  {
   "cell_type": "code",
   "execution_count": 33,
   "metadata": {
    "collapsed": false
   },
   "outputs": [
    {
     "name": "stdout",
     "output_type": "stream",
     "text": [
      "None\n"
     ]
    }
   ],
   "source": [
    "# [v.name for v in ae.graph.get_collection('variables')]\n",
    "op = ae.graph.get_operation_by_name('test_ae/epoch')\n",
    "print op.run(session=ae.sess)"
   ]
  },
  {
   "cell_type": "code",
   "execution_count": 71,
   "metadata": {
    "collapsed": false
   },
   "outputs": [],
   "source": [
    "# from autopredictors.tf_experiments.evaluate.basics import generalization_error\n",
    "# from autopredictors.tf_experiments.plotting.basics import plot_train_val_test_curves, plot_reconstructions_at_epoch\n",
    "# gen_error, best_epoch, stats = generalization_error(ae, train_data, test_data, val_data, conf)\n",
    "\n",
    "# SAVEDIR = '/Users/optas/Desktop/lala/'\n",
    "# np.savetxt(osp.join(SAVEDIR, 'error-stats.numpy'), stats)"
   ]
  },
  {
   "cell_type": "code",
   "execution_count": 82,
   "metadata": {
    "collapsed": false
   },
   "outputs": [
    {
     "name": "stdout",
     "output_type": "stream",
     "text": [
      "6778 files containing  point clouds were found.\n"
     ]
    }
   ],
   "source": [
    "file_names = pio.load_filenames_of_input_data('/Users/optas/DATA/Point_Clouds/Shape_Net_Core/from_manifold_meshes/1024/')\n",
    "# from general_tools.in_out.basics import files_in_subdirs\n",
    "# for f in files_in_subdirs(DATA_PATH, '._pts.txt$'):\n",
    "#     print f"
   ]
  },
  {
   "cell_type": "code",
   "execution_count": 76,
   "metadata": {
    "collapsed": false
   },
   "outputs": [
    {
     "data": {
      "text/plain": [
       "'/Users/optas/DATA/Point_Clouds/Shape_Net_Core/from_manifold_meshes/1024/03001627'"
      ]
     },
     "execution_count": 76,
     "metadata": {},
     "output_type": "execute_result"
    }
   ],
   "source": [
    "/Users/optas/DATA/Point_Clouds/Shape_Net_Core/from_manifold_meshes/1024/03001627/\n",
    "\n"
   ]
  },
  {
   "cell_type": "code",
   "execution_count": 8,
   "metadata": {
    "collapsed": false
   },
   "outputs": [
    {
     "name": "stdout",
     "output_type": "stream",
     "text": [
      "0.0144700943958\n"
     ]
    }
   ],
   "source": [
    "ae.restore_model(conf.train_dir, 50)\n",
    "r, l, o = ae.evaluate(train_data, conf)\n",
    "print l\n",
    "\n",
    "\n",
    "# a = [v for v in tf.global_variables() if v.name=='our_ap/epoch:0']\n",
    "# a[0].eval(ae.sess)"
   ]
  },
  {
   "cell_type": "code",
   "execution_count": 27,
   "metadata": {
    "collapsed": false
   },
   "outputs": [
    {
     "name": "stdout",
     "output_type": "stream",
     "text": [
      "0.0155312293209\n",
      "0.0151481349021\n",
      "0.0148746860214\n",
      "0.0139837288298\n",
      "0.0148148634471\n",
      "0.0151991788298\n",
      "0.0148291303776\n",
      "0.0156111437827\n",
      "0.0149112157524\n",
      "0.0153016629629\n"
     ]
    }
   ],
   "source": [
    "import glob\n",
    "files = glob.glob(osp.join(conf.train_dir, 'models.ckpt-*.index'))\n",
    "epochs_saved = []\n",
    "for f in files:\n",
    "    epochs_saved.append(int(osp.basename(f)[len('models.ckpt-'):-len('.index')]))\n",
    "    epochs_saved.sort()\n",
    "\n",
    "for epoch in epochs_saved:\n",
    "    ae.restore_model(conf.train_dir, epoch)\n",
    "    _, l, _ = ae.evaluate(test_data, conf)\n",
    "    print epoch, l\n",
    "\n",
    "    \n",
    "\n"
   ]
  },
  {
   "cell_type": "code",
   "execution_count": null,
   "metadata": {
    "collapsed": false
   },
   "outputs": [],
   "source": [
    "save_dir = '/Users/optas/Desktop/lala'\n",
    "counter = 0\n",
    "plt.ioff()\n",
    "for op, rp in zip(o, r):\n",
    "    for oi, ri in zip(op, rp):\n",
    "        counter += 1\n",
    "        fig = Point_Cloud(points=oi).plot(show=False);\n",
    "        fig.savefig(osp.join(save_dir, '%d_original.png' % (counter, ) ))\n",
    "        plt.close()\n",
    "        \n",
    "        fig = Point_Cloud(points=ri).plot(show=False);    \n",
    "        fig.savefig(osp.join(save_dir, '%d_reconstructed.png' % (counter, ) ))\n",
    "        plt.close()"
   ]
  },
  {
   "cell_type": "code",
   "execution_count": 85,
   "metadata": {
    "collapsed": false
   },
   "outputs": [
    {
     "data": {
      "image/png": "[encoded data removed]",
      "text/plain": [
       "<matplotlib.figure.Figure at 0x139bcbf50>"
      ]
     },
     "metadata": {},
     "output_type": "display_data"
    }
   ],
   "source": [
    "\n",
    "    "
   ]
  }
 ],
 "metadata": {
  "anaconda-cloud": {},
  "kernelspec": {
   "display_name": "Python [conda root]",
   "language": "python",
   "name": "conda-root-py"
  },
  "language_info": {
   "codemirror_mode": {
    "name": "ipython",
    "version": 2
   },
   "file_extension": ".py",
   "mimetype": "text/x-python",
   "name": "python",
   "nbconvert_exporter": "python",
   "pygments_lexer": "ipython2",
   "version": "2.7.12"
  }
 },
 "nbformat": 4,
 "nbformat_minor": 1
}
