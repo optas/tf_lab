{
 "cells": [
  {
   "cell_type": "code",
   "execution_count": 1,
   "metadata": {
    "collapsed": false
   },
   "outputs": [
    {
     "name": "stderr",
     "output_type": "stream",
     "text": [
      "/usr/local/lib/python2.7/dist-packages/matplotlib/font_manager.py:273: UserWarning: Matplotlib is building the font cache using fc-list. This may take a moment.\n",
      "  warnings.warn('Matplotlib is building the font cache using fc-list. This may take a moment.')\n",
      "/orions4-zfs/projects/lins2/Panos_Space/Git_Repos/geo_tool/solids/mesh.py:26: UserWarning: Mayavi library was not found. Some graphics utilities will be disabled.\n",
      "  warnings.warn('Mayavi library was not found. Some graphics utilities will be disabled.')\n"
     ]
    }
   ],
   "source": [
    "from functools import partial\n",
    "from multiprocessing.dummy import Pool\n",
    "from subprocess import call\n",
    "import os.path as osp\n",
    "from general_tools.in_out.basics import files_in_subdirs, create_dir\n",
    "from tf_lab.autopredictors.scripts.helper import shape_net_category_to_synth_id"
   ]
  },
  {
   "cell_type": "code",
   "execution_count": 2,
   "metadata": {
    "collapsed": true,
    "deletable": true,
    "editable": true
   },
   "outputs": [],
   "source": [
    "# Parameters\n",
    "\n",
    "binary = '/orions-zfs/software/blender-2.71/blender '\n",
    "binary_arg1 = '/orions4-zfs/projects/lins2/Panos_Space/Testing/Hao/blank.blend '\n",
    "binary_arg2 = '--background --python /orions4-zfs/projects/lins2/Panos_Space/Testing/Hao/render.py '\n",
    "binary = binary + binary_arg1 + binary_arg2\n",
    "\n",
    "top_out_image_dir = '/orions4-zfs/projects/lins2/Panos_Space/DATA/Meshes/Shape_Net_Core/2015_Summer_OUT/Images/'\n",
    "thread_num = 40"
   ]
  },
  {
   "cell_type": "code",
   "execution_count": 7,
   "metadata": {
    "collapsed": false
   },
   "outputs": [
    {
     "name": "stdout",
     "output_type": "stream",
     "text": [
      "Give me the class type.\n",
      "airplane\n",
      "02691156\n"
     ]
    }
   ],
   "source": [
    "class_name = raw_input('Give me the class type.\\n').lower()\n",
    "syn_id = shape_net_category_to_synth_id()[class_name]\n",
    "print syn_id\n",
    "\n",
    "top_in_dir = '/orions4-zfs/projects/lins2/Panos_Space/DATA/Meshes/Shape_Net_Core/2015_Summer/' \n",
    "top_in_dir = osp.join(top_in_dir, syn_id)\n",
    "\n",
    "top_out_dir = osp.join(top_out_image_dir, syn_id)"
   ]
  },
  {
   "cell_type": "code",
   "execution_count": 8,
   "metadata": {
    "collapsed": false
   },
   "outputs": [
    {
     "name": "stdout",
     "output_type": "stream",
     "text": [
      "4045\n"
     ]
    }
   ],
   "source": [
    "search_pattern = '.obj$'\n",
    "all_in_files = [f for f in files_in_subdirs(top_in_dir, search_pattern)]\n",
    "print len(all_in_files)"
   ]
  },
  {
   "cell_type": "code",
   "execution_count": null,
   "metadata": {
    "collapsed": false
   },
   "outputs": [
    {
     "name": "stdout",
     "output_type": "stream",
     "text": [
      "/orions-zfs/software/blender-2.71/blender /orions4-zfs/projects/lins2/Panos_Space/Testing/Hao/blank.blend --background --python /orions4-zfs/projects/lins2/Panos_Space/Testing/Hao/render.py  /orions4-zfs/projects/lins2/Panos_Space/DATA/Meshes/Shape_Net_Core/2015_Summer/02691156/5f11d3dd6ccacf92de7a468bfa758b34/model.obj /orions4-zfs/projects/lins2/Panos_Space/DATA/Meshes/Shape_Net_Core/2015_Summer_OUT/Images/02691156/5f11d3dd6ccacf92de7a468bfa758b34\n",
      "\n",
      "Total number of commands is 4045\n"
     ]
    }
   ],
   "source": [
    "commands = []\n",
    "for in_f in all_in_files:\n",
    "    model_name = in_f.split('/')[-2]\n",
    "    out_dir = create_dir(osp.join(top_out_dir, model_name))\n",
    "    command = '%s %s %s' % (binary, in_f, out_dir)\n",
    "    commands.append(command)\n",
    "    \n",
    "print commands[0]\n",
    "print ('\\nTotal number of commands is %d' % (len(commands)))"
   ]
  },
  {
   "cell_type": "code",
   "execution_count": null,
   "metadata": {
    "collapsed": true
   },
   "outputs": [],
   "source": [
    "pool = Pool(thread_num)\n",
    "for idx, return_code in enumerate(pool.imap(partial(call, shell=True), commands)):\n",
    "    if return_code != 0:\n",
    "        print('command %d of %s failed' % (idx, commands[idx]))"
   ]
  }
 ],
 "metadata": {
  "kernelspec": {
   "display_name": "Python 2",
   "language": "python",
   "name": "python2"
  },
  "language_info": {
   "codemirror_mode": {
    "name": "ipython",
    "version": 2
   },
   "file_extension": ".py",
   "mimetype": "text/x-python",
   "name": "python",
   "nbconvert_exporter": "python",
   "pygments_lexer": "ipython2",
   "version": "2.7.6"
  }
 },
 "nbformat": 4,
 "nbformat_minor": 2
}
