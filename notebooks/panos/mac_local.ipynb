{
 "cells": [
  {
   "cell_type": "code",
   "execution_count": 1,
   "metadata": {
    "collapsed": false
   },
   "outputs": [
    {
     "name": "stdout",
     "output_type": "stream",
     "text": [
      "Loading manual conv_3d_transpose.\n",
      "External Losses (Chamfer-EMD) cannot be loaded.\n",
      "Loading manual conv_3d_transpose.\n"
     ]
    }
   ],
   "source": [
    "import sys\n",
    "import time\n",
    "import numpy as np\n",
    "import os.path as osp\n",
    "import tensorflow as tf\n",
    "import matplotlib.pyplot as plt\n",
    "\n",
    "from tf_lab.fundamentals.utils import set_visible_GPUs\n",
    "import tf_lab.point_clouds.in_out as pio\n",
    "\n",
    "from tf_lab.autopredictors.scripts.helper import shape_net_category_to_synth_id\n",
    "from tf_lab.point_clouds.in_out import PointCloudDataSet\n",
    "from tf_lab.point_clouds.point_net_ae import PointNetAutoEncoder\n",
    "from tf_lab.point_clouds.autoencoder import Configuration as Conf\n",
    "import tf_lab.point_clouds.encoders_decoders as enc_dec\n",
    "\n",
    "\n",
    "from tf_lab.autopredictors.evaluate.basics import eval_model, read_saved_epochs\n",
    "from tf_lab.autopredictors.plotting.basics import plot_original_pclouds_vs_reconstructed,\\\n",
    "                                                  plot_train_val_test_curves, plot_reconstructions_at_epoch\n",
    "\n",
    "from general_tools.in_out.basics import create_dir, delete_files_in_directory, files_in_subdirs\n",
    "from geo_tool import Point_Cloud, Mesh\n",
    "\n",
    "seed = 42\n",
    "np.random.seed(seed)\n",
    "tf.set_random_seed(seed)\n",
    "\n",
    "\n",
    "%matplotlib inline\n",
    "%load_ext autoreload\n",
    "%autoreload 2"
   ]
  },
  {
   "cell_type": "code",
   "execution_count": 3,
   "metadata": {
    "collapsed": false
   },
   "outputs": [
    {
     "name": "stdout",
     "output_type": "stream",
     "text": [
      "The autoreload extension is already loaded. To reload it, use:\n",
      "  %reload_ext autoreload\n"
     ]
    }
   ],
   "source": [
    "%load_ext autoreload\n",
    "%autoreload 2\n",
    "%matplotlib inline"
   ]
  },
  {
   "cell_type": "code",
   "execution_count": 7,
   "metadata": {
    "collapsed": true
   },
   "outputs": [],
   "source": [
    "from tf_lab.fundamentals.utils import reset_tf_graph"
   ]
  },
  {
   "cell_type": "code",
   "execution_count": 17,
   "metadata": {
    "collapsed": false
   },
   "outputs": [
    {
     "name": "stdout",
     "output_type": "stream",
     "text": [
      "Loading manual conv_3d_transpose.\n",
      "WARNING:tensorflow:tf.variable_op_scope(values, name, default_name) is deprecated, use tf.variable_scope(name, default_name, values)\n",
      "WARNING:tensorflow:tf.variable_op_scope(values, name, default_name) is deprecated, use tf.variable_scope(name, default_name, values)\n",
      "WARNING:tensorflow:tf.variable_op_scope(values, name, default_name) is deprecated, use tf.variable_scope(name, default_name, values)\n",
      "WARNING:tensorflow:tf.variable_op_scope(values, name, default_name) is deprecated, use tf.variable_scope(name, default_name, values)\n",
      "WARNING:tensorflow:tf.variable_op_scope(values, name, default_name) is deprecated, use tf.variable_scope(name, default_name, values)\n"
     ]
    }
   ],
   "source": [
    "reset_tf_graph()\n",
    "\n",
    "n_input = [1024, 3]\n",
    "\n",
    "decoder_args = {'layer_sizes': [1024, np.prod(n_input)], \n",
    "                'non_linearity': tf.nn.relu, \n",
    "                'b_norm': False\n",
    "               }\n",
    "\n",
    "encoder_args = {'b_norm': False, 'spn': False, 'symmetry': tf.reduce_sum}\n",
    "\n",
    "experiment_name = 'test'\n",
    " \n",
    "conf = Conf(\n",
    "            n_input = n_input,\n",
    "            training_epochs = 1000,\n",
    "            batch_size = 50,\n",
    "            loss = 'l2',\n",
    "            train_dir = '',\n",
    "            loss_display_step = 1,\n",
    "            saver_step = 10,\n",
    "            learning_rate = 0.00002,\n",
    "            saver_max_to_keep = 100,\n",
    "            gauss_augment = {'mu': 0, 'sigma': 0.02},\n",
    "            \n",
    "            encoder = enc_dec.encoder_with_convs_and_symmetry,\n",
    "            encoder_args = encoder_args,\n",
    "            decoder = enc_dec.decoder_with_fc_only,\n",
    "            decoder_args = decoder_args,\n",
    "            experiment_name = experiment_name\n",
    "           )\n",
    "\n",
    "\n",
    "ae = PointNetAutoEncoder('test', conf)"
   ]
  },
  {
   "cell_type": "code",
   "execution_count": 12,
   "metadata": {
    "collapsed": false
   },
   "outputs": [
    {
     "data": {
      "text/plain": [
       "['layer_tensor/test/encoder_conv_layer_2',\n",
       " 'layer_tensor/test/decoder_fc_0',\n",
       " 'trainable_variables',\n",
       " 'variables',\n",
       " 'layer_tensor/test/decoder_fc_1',\n",
       " 'layer_variables/test/decoder_fc_1',\n",
       " 'layer_variables/test/decoder_fc_0',\n",
       " 'train_op',\n",
       " 'activations',\n",
       " 'layer_tensor/test/encoder_conv_layer_1',\n",
       " 'layer_tensor/test/encoder_conv_layer_0',\n",
       " 'layer_variables/test/encoder_conv_layer_0',\n",
       " 'layer_variables/test/encoder_conv_layer_1',\n",
       " 'layer_variables/test/encoder_conv_layer_2']"
      ]
     },
     "execution_count": 12,
     "metadata": {},
     "output_type": "execute_result"
    }
   ],
   "source": [
    "ae.graph.get_all_collection_keys()"
   ]
  }
 ],
 "metadata": {
  "anaconda-cloud": {},
  "kernelspec": {
   "display_name": "Python [conda root]",
   "language": "python",
   "name": "conda-root-py"
  },
  "language_info": {
   "codemirror_mode": {
    "name": "ipython",
    "version": 2
   },
   "file_extension": ".py",
   "mimetype": "text/x-python",
   "name": "python",
   "nbconvert_exporter": "python",
   "pygments_lexer": "ipython2",
   "version": "2.7.12"
  }
 },
 "nbformat": 4,
 "nbformat_minor": 1
}
