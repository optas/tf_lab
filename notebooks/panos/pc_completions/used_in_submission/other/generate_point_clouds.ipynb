{
 "cells": [
  {
   "cell_type": "code",
   "execution_count": 7,
   "metadata": {
    "collapsed": false,
    "deletable": true,
    "editable": true
   },
   "outputs": [],
   "source": [
    "from general_tools.in_out.basics import files_in_subdirs, copy_folder_structure, create_dir\n",
    "from geo_tool import Point_Cloud\n",
    "import os.path as osp\n",
    "from multiprocessing import Pool\n",
    "from tf_lab.autopredictors.scripts.virt_scan_data import pc_sampler"
   ]
  },
  {
   "cell_type": "code",
   "execution_count": 2,
   "metadata": {
    "collapsed": false,
    "deletable": true,
    "editable": true
   },
   "outputs": [],
   "source": [
    "%load_ext autoreload\n",
    "%autoreload 2\n",
    "%matplotlib inline"
   ]
  },
  {
   "cell_type": "code",
   "execution_count": 23,
   "metadata": {
    "collapsed": false,
    "deletable": true,
    "editable": true
   },
   "outputs": [],
   "source": [
    "# Parameters\n",
    "n_threads = 50\n",
    "n_pc_samples = 128\n",
    "\n",
    "syn_id = '03001627' # if is None then all classes will be used.\n",
    "top_in_dir = '/orions4-zfs/projects/lins2/Panos_Space/DATA/Distance_Fields/shapenet_dim32_sdf_pc'\n",
    "top_out_dir = '/orions4-zfs/projects/lins2/Panos_Space/DATA/Point_Clouds/Partial_PCs/Angela_synthetic'\n",
    "top_out_dir = osp.join(top_out_dir, str(n_pc_samples) + osp.sep)\n",
    "\n",
    "if syn_id is not None:\n",
    "    top_in_dir = osp.join(top_in_dir, syn_id)\n",
    "    top_out_dir = osp.join(top_out_dir, syn_id)\n",
    "    create_dir(top_out_dir)\n",
    "else:\n",
    "    copy_folder_structure(top_in_dir, top_out_dir)"
   ]
  },
  {
   "cell_type": "code",
   "execution_count": 24,
   "metadata": {
    "collapsed": false,
    "deletable": true,
    "editable": true
   },
   "outputs": [
    {
     "name": "stdout",
     "output_type": "stream",
     "text": [
      "48000\n"
     ]
    }
   ],
   "source": [
    "ending = '.ply'\n",
    "search_pattern = ending + '$'\n",
    "all_in_files = [f for f in files_in_subdirs(top_in_dir, search_pattern)]\n",
    "print len(all_in_files)"
   ]
  },
  {
   "cell_type": "code",
   "execution_count": 25,
   "metadata": {
    "collapsed": false,
    "deletable": true,
    "editable": true
   },
   "outputs": [
    {
     "name": "stdout",
     "output_type": "stream",
     "text": [
      "Starting a pool with 50 workers.\n"
     ]
    }
   ],
   "source": [
    "drop = len(ending)\n",
    "pool = Pool(n_threads)\n",
    "print 'Starting a pool with %d workers.' % (n_threads, )\n",
    "\n",
    "for in_f in all_in_files:\n",
    "    out_f = in_f.replace(top_in_dir, top_out_dir)\n",
    "    out_f = out_f[:-drop]\n",
    "    pool.apply_async(pc_sampler, (in_f, n_pc_samples, out_f))\n",
    "    \n",
    "pool.close()\n",
    "pool.join()"
   ]
  },
  {
   "cell_type": "code",
   "execution_count": 26,
   "metadata": {
    "collapsed": false,
    "deletable": true,
    "editable": true
   },
   "outputs": [
    {
     "name": "stdout",
     "output_type": "stream",
     "text": [
      "48000\n"
     ]
    }
   ],
   "source": [
    "# run this to verify the produced number of .ply files matches those read at the in_dir.\n",
    "all_in_files = [f for f in files_in_subdirs(top_out_dir, '.ply')]\n",
    "print len(all_in_files)"
   ]
  }
 ],
 "metadata": {
  "kernelspec": {
   "display_name": "Python 2",
   "language": "python",
   "name": "python2"
  },
  "language_info": {
   "codemirror_mode": {
    "name": "ipython",
    "version": 2
   },
   "file_extension": ".py",
   "mimetype": "text/x-python",
   "name": "python",
   "nbconvert_exporter": "python",
   "pygments_lexer": "ipython2",
   "version": "2.7.6"
  }
 },
 "nbformat": 4,
 "nbformat_minor": 2
}
