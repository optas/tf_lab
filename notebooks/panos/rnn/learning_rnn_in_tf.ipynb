{
 "cells": [
  {
   "cell_type": "code",
   "execution_count": 1,
   "metadata": {
    "collapsed": false,
    "deletable": true,
    "editable": true
   },
   "outputs": [
    {
     "name": "stdout",
     "output_type": "stream",
     "text": [
      "Picking GPU 3\n"
     ]
    }
   ],
   "source": [
    "from general_tools.notebook.gpu_utils import setup_one_gpu\n",
    "GPU = 3\n",
    "setup_one_gpu(GPU)"
   ]
  },
  {
   "cell_type": "code",
   "execution_count": 2,
   "metadata": {
    "collapsed": true,
    "deletable": true,
    "editable": true
   },
   "outputs": [],
   "source": [
    "import tensorflow as tf\n",
    "import numpy as np\n",
    "from toy_seq_data import ToySequenceData\n",
    "from general_tools.in_out.basics import unpickle_data"
   ]
  },
  {
   "cell_type": "code",
   "execution_count": 3,
   "metadata": {
    "collapsed": true
   },
   "outputs": [],
   "source": [
    "class GeoWordsDataSet(object):\n",
    "\n",
    "    def __init__(self, words, geometries, labels, use_copies=True, init_shuffle=False):\n",
    "        self.num_examples = words.shape[0]\n",
    "        assert(self.num_examples == labels.shape[0])\n",
    "        assert(self.num_examples == geometries.shape[0])\n",
    "        \n",
    "        assert( use_copies )\n",
    "        assert(init_shuffle==False)\n",
    "        \n",
    "        self.words = words.copy()        \n",
    "        self.geometries = geometries.copy()\n",
    "        self.labels = labels.copy()\n",
    "\n",
    "        self.epochs_completed = 0\n",
    "        self._index_in_epoch = 0\n",
    "        if init_shuffle:\n",
    "            self.shuffle_data()\n",
    "            \n",
    "    def shuffle_data(self, seed=None):\n",
    "        if seed is not None:\n",
    "            np.random.seed(seed)\n",
    "        perm = np.arange(self.num_examples)\n",
    "        np.random.shuffle(perm)\n",
    "        self.words = self.words[perm]\n",
    "        self.geometries = self.geometries[perm]\n",
    "        self.labels = self.labels[perm]\n",
    "        return self\n",
    "\n",
    "    def next_batch(self, batch_size, seed=None):\n",
    "        '''Return the next batch_size examples from this data set.\n",
    "        '''\n",
    "        start = self._index_in_epoch\n",
    "        self._index_in_epoch += batch_size\n",
    "        if self._index_in_epoch > self.num_examples:\n",
    "            self.epochs_completed += 1  # Finished epoch.\n",
    "            self.shuffle_data(seed)\n",
    "            # Start next epoch\n",
    "            start = 0\n",
    "            self._index_in_epoch = batch_size\n",
    "        end = self._index_in_epoch\n",
    "\n",
    "        return self.words[start:end], self.geometries[start:end], self.labels[start:end]\n",
    "    \n",
    "training_data = unpickle_data('first_pilot_data.pkl').next()"
   ]
  },
  {
   "cell_type": "code",
   "execution_count": 4,
   "metadata": {
    "collapsed": false,
    "deletable": true,
    "editable": true
   },
   "outputs": [],
   "source": [
    "def deep_lstm(n_layers, n_hidden, dropout_prob=None):\n",
    "    cells = []\n",
    "    for _ in range(n_layers):\n",
    "        cell = tf.nn.rnn_cell.BasicLSTMCell(n_hidden,  state_is_tuple=True)\n",
    "        if dropout_prob is not None:\n",
    "            cell = tf.nn.rnn_cell.DropoutWrapper(cell, output_keep_prob=1.0 - dropout_prob)\n",
    "        cells.append(cell)\n",
    "\n",
    "    model = tf.nn.rnn_cell.MultiRNNCell(cells, state_is_tuple=True)\n",
    "    return model"
   ]
  },
  {
   "cell_type": "code",
   "execution_count": 5,
   "metadata": {
    "collapsed": true,
    "deletable": true,
    "editable": true
   },
   "outputs": [],
   "source": [
    "def length_of_sequence(sequence):\n",
    "    '''\n",
    "        Input: (Tensor) batch size x max length x features\n",
    "        Returns: the length of each sequence in the batch.\n",
    "        Precondition: Each sequence with smaller length that max length, is padded with zeros.\n",
    "    '''\n",
    "    used = tf.sign(tf.reduce_max(tf.abs(sequence), 2))\n",
    "    length = tf.reduce_sum(used, 1)\n",
    "    length = tf.cast(length, tf.int32)\n",
    "    return length"
   ]
  },
  {
   "cell_type": "code",
   "execution_count": 6,
   "metadata": {
    "collapsed": true,
    "deletable": true,
    "editable": true
   },
   "outputs": [],
   "source": [
    "def last_relevant_rnn_output(output, length):\n",
    "    '''Returns for a batch of output tensors of a dynamic_rnn those corresponding \n",
    "    to the last non-padded input/output.\n",
    "    Notes:\n",
    "    In numpy this would just be output[:, length - 1], but we need the indexing to be part of the compute graph.\n",
    "    Works likes this: we flatten the output tensor to shape: frames in all examples x output size. \n",
    "    Then we construct an index into that by creating a tensor with the start indices for each example \n",
    "    tf.range(0, batch_size) * max_length and add the individual sequence lengths to it. \n",
    "    tf.gather() then performs the actual indexing. \n",
    "    '''\n",
    "    batch_size = tf.shape(output)[0]\n",
    "    max_length = tf.shape(output)[1]\n",
    "    out_size = int(output.get_shape()[2])\n",
    "    index = tf.range(0, batch_size) * max_length + (length - 1)\n",
    "    flat = tf.reshape(output, [-1, out_size])\n",
    "    relevant = tf.gather(flat, index)\n",
    "    return relevant"
   ]
  },
  {
   "cell_type": "code",
   "execution_count": 7,
   "metadata": {
    "collapsed": true,
    "deletable": true,
    "editable": true
   },
   "outputs": [],
   "source": [
    "n_hidden = 128\n",
    "n_layers = 1\n",
    "max_steps = 20\n",
    "feat_size = 100\n",
    "n_classes = 3\n",
    "batch_size = 20"
   ]
  },
  {
   "cell_type": "code",
   "execution_count": 8,
   "metadata": {
    "collapsed": false,
    "deletable": true,
    "editable": true
   },
   "outputs": [],
   "source": [
    "input_sequence = tf.placeholder(tf.float32, [None, max_steps, feat_size])\n",
    "target = tf.placeholder(tf.float32, [None, n_classes])\n",
    "dropout_prob = tf.placeholder(tf.float32)\n",
    "\n",
    "deep_lstm_model = deep_lstm(n_layers, n_hidden, dropout_prob)\n",
    "\n",
    "len_seq = length_of_sequence(input_sequence)\n",
    "\n",
    "rnn_outputs, final_state = tf.nn.dynamic_rnn(deep_lstm_model, input_sequence, dtype=tf.float32,\n",
    "                                             sequence_length=len_seq,\n",
    "                                            )\n",
    "\n",
    "# tf.nn.dynamic_rnn returns the output activations and last hidden state.\n",
    "# The output will be of size batch_size x max_step x n_hidden, \n",
    "# but with the last being zero vectors for sequences shorter than the maximum length.\n",
    "\n",
    "# The final_state contains the last state (batch_size x n_hidden) of each layer of the stacked-deep-rnn."
   ]
  },
  {
   "cell_type": "code",
   "execution_count": 9,
   "metadata": {
    "collapsed": true,
    "deletable": true,
    "editable": true
   },
   "outputs": [],
   "source": [
    "from tflearn.layers.core import fully_connected\n",
    "from tf_lab.point_clouds.encoders_decoders import decoder_with_fc_only"
   ]
  },
  {
   "cell_type": "code",
   "execution_count": 8,
   "metadata": {
    "collapsed": false,
    "deletable": true,
    "editable": true
   },
   "outputs": [],
   "source": [
    "# hidden_states = []\n",
    "# for i in range(n_layers):\n",
    "#     hidden_states.append(final_state[i].h)\n",
    "\n",
    "# if len(hidden_states) > 1:\n",
    "#     joint_last_state = tf.concat_v2(hidden_states, axis=1)\n",
    "# else:\n",
    "#     joint_last_state = hidden_states[0]\n",
    "\n",
    "# logits = decoder_with_fc_only(joint_last_state, layer_sizes=[100, n_classes])"
   ]
  },
  {
   "cell_type": "code",
   "execution_count": 10,
   "metadata": {
    "collapsed": false
   },
   "outputs": [],
   "source": [
    "geo_feat_size = 128 * 3\n",
    "input_geometry = tf.placeholder(tf.float32, [None, geo_feat_size])\n",
    "rnn_out = last_relevant_rnn_output(rnn_outputs, len_seq)\n",
    "input_to_decoder = tf.concat(1, [rnn_out, input_geometry])"
   ]
  },
  {
   "cell_type": "code",
   "execution_count": 12,
   "metadata": {
    "collapsed": false,
    "deletable": true,
    "editable": true
   },
   "outputs": [],
   "source": [
    "logits = decoder_with_fc_only(input_to_decoder, layer_sizes=[100, n_classes])"
   ]
  },
  {
   "cell_type": "code",
   "execution_count": 13,
   "metadata": {
    "collapsed": false,
    "deletable": true,
    "editable": true
   },
   "outputs": [],
   "source": [
    "def cost(output, target):\n",
    "    # Compute cross entropy for each frame.\n",
    "    cross_entropy = tf.nn.softmax_cross_entropy_with_logits(output, target)\n",
    "    return tf.reduce_mean(cross_entropy)\n",
    "\n",
    "def optimizer(loss, learning_rate=0.003):\n",
    "    return tf.train.AdamOptimizer(learning_rate).minimize(loss)"
   ]
  },
  {
   "cell_type": "code",
   "execution_count": 14,
   "metadata": {
    "collapsed": false,
    "deletable": true,
    "editable": true
   },
   "outputs": [
    {
     "name": "stderr",
     "output_type": "stream",
     "text": [
      "/orions4-zfs/projects/lins2/.local/lib/python2.7/site-packages/tensorflow/python/ops/gradients_impl.py:91: UserWarning: Converting sparse IndexedSlices to a dense Tensor of unknown shape. This may consume a large amount of memory.\n",
      "  \"Converting sparse IndexedSlices to a dense Tensor of unknown shape. \"\n"
     ]
    }
   ],
   "source": [
    "problem_loss = cost(logits, target)\n",
    "problem_opt = optimizer(problem_loss)"
   ]
  },
  {
   "cell_type": "code",
   "execution_count": 15,
   "metadata": {
    "collapsed": true,
    "deletable": true,
    "editable": true
   },
   "outputs": [],
   "source": [
    "gpu_config = tf.ConfigProto()\n",
    "gpu_config.gpu_options.allow_growth = True"
   ]
  },
  {
   "cell_type": "code",
   "execution_count": 16,
   "metadata": {
    "collapsed": false,
    "deletable": true,
    "editable": true
   },
   "outputs": [],
   "source": [
    "prediction = tf.argmax(logits, axis=1)\n",
    "target_ = tf.argmax(target, axis=1)\n",
    "correct_pred = tf.equal(prediction, target_)\n",
    "avg_accuracy = tf.reduce_mean(tf.cast(correct_pred, tf.float32))"
   ]
  },
  {
   "cell_type": "code",
   "execution_count": 20,
   "metadata": {
    "collapsed": false
   },
   "outputs": [
    {
     "name": "stdout",
     "output_type": "stream",
     "text": [
      "[1.0506349, 0.45000002]\n",
      "[0.84656656, 0.64999998]\n",
      "[0.84627092, 0.70000005]\n",
      "[0.53651285, 0.80000001]\n",
      "[0.76331782, 0.70000005]\n",
      "[0.56252074, 0.80000001]\n",
      "[0.25000072, 0.94999999]\n",
      "[0.42937359, 0.89999998]\n",
      "[0.23310405, 0.89999998]\n",
      "[0.24282055, 0.94999999]\n"
     ]
    }
   ],
   "source": [
    "init = tf.global_variables_initializer()\n",
    "display_step = 20\n",
    "\n",
    "sess = tf.Session(config=gpu_config)\n",
    "sess.run(init)    \n",
    "for epoch in range(10):\n",
    "    \n",
    "    for _ in range(30):\n",
    "\n",
    "        words_i, geo_i, labels_i = training_data.next_batch(batch_size)\n",
    "        \n",
    "        feed_dict = {input_sequence: words_i, \n",
    "                     target: labels_i,\n",
    "                     input_geometry: geo_i,\n",
    "                     dropout_prob: 0.5}\n",
    "        \n",
    "        sess.run([problem_opt], feed_dict=feed_dict)\n",
    "    print sess.run([problem_loss, avg_accuracy], feed_dict=feed_dict)"
   ]
  },
  {
   "cell_type": "code",
   "execution_count": null,
   "metadata": {
    "collapsed": true
   },
   "outputs": [],
   "source": []
  },
  {
   "cell_type": "code",
   "execution_count": 14,
   "metadata": {
    "collapsed": false,
    "deletable": true,
    "editable": true
   },
   "outputs": [],
   "source": [
    "trainset = ToySequenceData(n_samples=2000, max_seq_len=max_steps)\n",
    "testset = ToySequenceData(n_samples=500, max_seq_len=max_steps)"
   ]
  },
  {
   "cell_type": "code",
   "execution_count": 15,
   "metadata": {
    "collapsed": false,
    "deletable": true,
    "editable": true
   },
   "outputs": [
    {
     "name": "stdout",
     "output_type": "stream",
     "text": [
      "[0.5747484, 0.55000001]\n",
      "[0.48330051, 0.85000002]\n",
      "[0.33404696, 0.89999998]\n",
      "[0.50558853, 0.69999999]\n",
      "[0.31310588, 0.85000002]\n",
      "[0.36667937, 0.75]\n",
      "[0.032802343, 1.0]\n",
      "[0.079089642, 1.0]\n",
      "[0.0229748, 1.0]\n",
      "[0.18919131, 0.89999998]\n"
     ]
    }
   ],
   "source": [
    "init = tf.global_variables_initializer()\n",
    "display_step = 100\n",
    "\n",
    "sess = tf.Session(config=gpu_config)\n",
    "sess.run(init)    \n",
    "for epoch in range(10):\n",
    "    for _ in range(100):\n",
    "        batch_x, batch_y, _ = trainset.next(batch_size)\n",
    "        feed_dict = {input_sequence: batch_x, target: batch_y, dropout_prob: 0.5}\n",
    "        sess.run([problem_opt], feed_dict=feed_dict)\n",
    "\n",
    "    print sess.run([problem_loss, avg_accuracy], feed_dict=feed_dict)\n"
   ]
  },
  {
   "cell_type": "code",
   "execution_count": 16,
   "metadata": {
    "collapsed": false,
    "deletable": true,
    "editable": true
   },
   "outputs": [
    {
     "name": "stdout",
     "output_type": "stream",
     "text": [
      "[0.049336147, 0.98400009]\n"
     ]
    }
   ],
   "source": [
    "batch_x, batch_y, _ = testset.next(500)\n",
    "feed_dict = {input_sequence: batch_x, target: batch_y, dropout_prob: 0}\n",
    "print sess.run([problem_loss, avg_accuracy], feed_dict=feed_dict)"
   ]
  },
  {
   "cell_type": "code",
   "execution_count": null,
   "metadata": {
    "collapsed": true,
    "deletable": true,
    "editable": true
   },
   "outputs": [],
   "source": []
  },
  {
   "cell_type": "code",
   "execution_count": null,
   "metadata": {
    "collapsed": true,
    "deletable": true,
    "editable": true
   },
   "outputs": [],
   "source": []
  },
  {
   "cell_type": "code",
   "execution_count": null,
   "metadata": {
    "collapsed": true,
    "deletable": true,
    "editable": true
   },
   "outputs": [],
   "source": []
  },
  {
   "cell_type": "code",
   "execution_count": null,
   "metadata": {
    "collapsed": true,
    "deletable": true,
    "editable": true
   },
   "outputs": [],
   "source": []
  },
  {
   "cell_type": "code",
   "execution_count": 84,
   "metadata": {
    "collapsed": true,
    "deletable": true,
    "editable": true
   },
   "outputs": [],
   "source": []
  },
  {
   "cell_type": "code",
   "execution_count": 105,
   "metadata": {
    "collapsed": false,
    "deletable": true,
    "editable": true
   },
   "outputs": [
    {
     "data": {
      "text/plain": [
       "array([[-0.049107  ,  1.08360004, -0.96898001, ..., -0.35431999,\n",
       "         0.46728   ,  0.34469   ],\n",
       "       [-0.59596997, -0.022     ,  0.55533999, ...,  0.042286  ,\n",
       "        -0.3973    ,  0.42844   ],\n",
       "       [ 0.21253   , -0.094895  ,  0.53437001, ...,  0.29701   ,\n",
       "        -0.12437   ,  0.20121001],\n",
       "       ..., \n",
       "       [ 1.0632    , -0.028459  , -0.46533999, ...,  0.039003  ,\n",
       "        -1.03390002, -0.52419001],\n",
       "       [ 0.31733   , -0.20597   ,  0.13283999, ...,  0.65559   ,\n",
       "        -0.70892   ,  0.13138001],\n",
       "       [-1.00580001, -0.53103   , -0.15195   , ...,  0.20653   ,\n",
       "         0.26804   , -0.95627999]], dtype=float32)"
      ]
     },
     "execution_count": 105,
     "metadata": {},
     "output_type": "execute_result"
    }
   ],
   "source": [
    "# Load pre-trained word-embedding.\n",
    "vocab_size = int(4e5)\n",
    "embedding_dim = 100\n",
    "\n",
    "word_embedding = tf.Variable(tf.constant(0.0, shape=[vocab_size, embedding_dim]), trainable=False, name=\"word_embedding\")\n",
    "embedding_placeholder = tf.placeholder(tf.float32, [vocab_size, embedding_dim])\n",
    "embedding_init = word_embedding.assign(embedding_placeholder)\n",
    "\n",
    "sess = tf.Session()\n",
    "sess.run(embedding_init, feed_dict={embedding_placeholder: lala})"
   ]
  },
  {
   "cell_type": "code",
   "execution_count": 102,
   "metadata": {
    "collapsed": true,
    "deletable": true,
    "editable": true
   },
   "outputs": [],
   "source": [
    "def embedding_dictionary_to_matrix(in_dict):\n",
    "    return np.array(in_dict.values())\n"
   ]
  }
 ],
 "metadata": {
  "kernelspec": {
   "display_name": "Python 2",
   "language": "python",
   "name": "python2"
  },
  "language_info": {
   "codemirror_mode": {
    "name": "ipython",
    "version": 2
   },
   "file_extension": ".py",
   "mimetype": "text/x-python",
   "name": "python",
   "nbconvert_exporter": "python",
   "pygments_lexer": "ipython2",
   "version": "2.7.6"
  }
 },
 "nbformat": 4,
 "nbformat_minor": 2
}
