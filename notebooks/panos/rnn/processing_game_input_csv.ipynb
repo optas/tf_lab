{
 "cells": [
  {
   "cell_type": "code",
   "execution_count": 1,
   "metadata": {
    "collapsed": false,
    "deletable": true,
    "editable": true
   },
   "outputs": [],
   "source": [
    "import pandas\n",
    "import numpy as np\n",
    "import os.path as osp\n",
    "from general_tools.in_out.basics import files_in_subdirs\n",
    "from general_tools.in_out.basics import pickle_data, unpickle_data"
   ]
  },
  {
   "cell_type": "code",
   "execution_count": 173,
   "metadata": {
    "collapsed": true,
    "deletable": true,
    "editable": true
   },
   "outputs": [],
   "source": [
    "from language_3d_io import GeoWordDatum, GeoWordData, Language_Game_Data_Loader, GeoWordsDataSet, load_glove_pretrained_model"
   ]
  },
  {
   "cell_type": "code",
   "execution_count": 172,
   "metadata": {
    "collapsed": false,
    "deletable": true,
    "editable": true
   },
   "outputs": [
    {
     "name": "stdout",
     "output_type": "stream",
     "text": [
      "The autoreload extension is already loaded. To reload it, use:\n",
      "  %reload_ext autoreload\n"
     ]
    }
   ],
   "source": [
    "%load_ext autoreload\n",
    "%autoreload 2"
   ]
  },
  {
   "cell_type": "code",
   "execution_count": 4,
   "metadata": {
    "collapsed": false,
    "deletable": true,
    "editable": true
   },
   "outputs": [],
   "source": [
    "top_in_dir = '/orions4-zfs/projects/lins2/Panos_Space/DATA/Language/'\n",
    "dialogues_dir = osp.join(top_in_dir, 'pilot_chair_data/chatMessage')"
   ]
  },
  {
   "cell_type": "code",
   "execution_count": 5,
   "metadata": {
    "collapsed": false,
    "deletable": true,
    "editable": true
   },
   "outputs": [],
   "source": [
    "close_map_file = '/orions4-zfs/projects/lins2/Panos_Space/DATA/OUT/3d_neighbs_as_context/pilot_triplets/outlier_frac_30/closest_nn/data/model_names_of_triplets.txt'\n",
    "split_map_file = '/orions4-zfs/projects/lins2/Panos_Space/DATA/OUT/3d_neighbs_as_context/pilot_triplets/outlier_frac_30/one_far/data/model_names_of_triplets.txt'\n",
    "far_map_file = '/orions4-zfs/projects/lins2/Panos_Space/DATA/OUT/3d_neighbs_as_context/pilot_triplets/outlier_frac_30/both_far/data/model_names_of_triplets.txt'"
   ]
  },
  {
   "cell_type": "code",
   "execution_count": 55,
   "metadata": {
    "collapsed": false,
    "deletable": true,
    "editable": true
   },
   "outputs": [],
   "source": [
    "triplets_to_sn_models = Language_Game_Data_Loader.triplet_id_to_shape_net_model_ids(close_map_file, far_map_file, split_map_file)\n",
    "dialogue_files = [f for f in files_in_subdirs(dialogues_dir, '.csv')]\n",
    "language_data = []\n",
    "for f in dialogue_files:\n",
    "    language_data.append(Language_Game_Data_Loader.load_dialogues_of_game(f))"
   ]
  },
  {
   "cell_type": "code",
   "execution_count": 75,
   "metadata": {
    "collapsed": false,
    "deletable": true,
    "editable": true
   },
   "outputs": [
    {
     "name": "stdout",
     "output_type": "stream",
     "text": [
      "Loading glove model.\n",
      "Done. 400000  words loaded!\n"
     ]
    }
   ],
   "source": [
    "geo_embedding = pandas.read_pickle('/orions4-zfs/projects/lins2/Panos_Space/DATA/OUT/3d_neighbs_as_context/pilot_chair_embeddings.pkl')\n",
    "word_emb_file = '/orions4-zfs/projects/lins2/Panos_Space/DATA/Language/glove.6B/glove.6B.100d.txt'\n",
    "pretrained_word_emb = load_glove_pretrained_model(word_emb_file)"
   ]
  },
  {
   "cell_type": "code",
   "execution_count": 155,
   "metadata": {
    "collapsed": false,
    "deletable": true,
    "editable": true
   },
   "outputs": [],
   "source": [
    "all_text = '' \n",
    "for i, game in enumerate(language_data):\n",
    "    for _, dialogues in game.iteritems():\n",
    "        all_text += ' ' + dialogues['dialogue']\n",
    "        \n",
    "replace_dic = {'!': ' ', ',': ' ', '?': ' ', '.': ' ', ';': ' ', '(': ' ', ')': ' ', '/': ' ',\n",
    "               '&': 'and', '\"': ' ', '-': ' ', '=': ' ', '*': ' ','\\\\': '', '\\'': ' ',\n",
    "               \n",
    "               '\\'t': ' not', '\\'s': ' of',\n",
    "              \n",
    "              'SpEaKeR:' :' ', 'lIsTeNeR:' :' '\n",
    "              }\n",
    "\n",
    "def replace_all(text, dic):\n",
    "    for i, j in dic.iteritems():\n",
    "        text = text.replace(i, j)\n",
    "    return text"
   ]
  },
  {
   "cell_type": "code",
   "execution_count": 156,
   "metadata": {
    "collapsed": false,
    "deletable": true,
    "editable": true
   },
   "outputs": [],
   "source": [
    "all_text = replace_all(all_text, replace_dic)\n",
    "all_text = all_text.lower()\n",
    "words = all_text.split()"
   ]
  },
  {
   "cell_type": "code",
   "execution_count": 176,
   "metadata": {
    "collapsed": false
   },
   "outputs": [],
   "source": [
    "from collections import Counter\n",
    "from general_tools.simpletons import invert_dictionary\n",
    "\n",
    "counts = Counter(words)\n",
    "all_vocab = sorted(counts, key=counts.get, reverse=True)\n",
    "vocab = [v for v in all_vocab if counts[v] > 1]\n",
    "\n",
    "word_to_int = {word: ii for ii, word in enumerate(vocab, 1)}\n",
    "word_to_int['#START#'] = 0\n",
    "counts['#START#'] = 1000\n",
    "\n",
    "int_to_word = invert_dictionary(word_to_int)\n",
    "\n",
    "def bias_init_word_vec(word_counts, int_to_word):\n",
    "    bias_init_vector = np.array([1.0 * word_counts[int_to_word[i]] for i in int_to_word])\n",
    "    bias_init_vector /= np.sum(bias_init_vector) \n",
    "    bias_init_vector = np.log(bias_init_vector)\n",
    "    bias_init_vector -= np.max(bias_init_vector)\n",
    "    return bias_init_vector\n",
    "\n",
    "bv = bias_init_word_vec(counts, int_to_word)\n",
    "\n",
    "pickle_data('word_context.pickle', word_to_int, int_to_word, bv)"
   ]
  },
  {
   "cell_type": "code",
   "execution_count": 177,
   "metadata": {
    "collapsed": false
   },
   "outputs": [],
   "source": [
    "# NEW ONLY FOR INT (Re-write.)\n",
    "words_missed = set()\n",
    "words_used = set()\n",
    "triplet_to_data = dict()\n",
    "\n",
    "mlen = 0\n",
    "for i, game in enumerate(language_data):\n",
    "    for triplet_id, dialogues in game.iteritems():\n",
    "        triplet_condition, triplet_num = triplet_id.split('_')\n",
    "        a, b, c = triplets_to_sn_models[triplet_condition][triplet_num]\n",
    "        triplet_geo_emb = geo_embedding.loc[[a, b, c]].as_matrix().T\n",
    "        \n",
    "        index = np.arange(3)        \n",
    "        triplet_geo_emb = triplet_geo_emb[:, index]\n",
    "        label = np.where(index==0)[0][0]        \n",
    "        \n",
    "        words_as_ints = []\n",
    "            \n",
    "        for w in replace_all(dialogues['dialogue'], replace_dic).split():\n",
    "            wl = w.lower()\n",
    "            if wl in word_to_int:                \n",
    "                words_as_ints.append(word_to_int[wl])\n",
    "                words_used.add(wl)\n",
    "            else: # TODO deal with uknown words\n",
    "                words_missed.add(wl)\n",
    "        \n",
    "        if len(words_as_ints) >= 1:                \n",
    "            if triplet_id not in triplet_to_data:\n",
    "                triplet_to_data[triplet_id] = []\n",
    "            triplet_to_data[triplet_id].append(GeoWordDatum(words_as_ints, triplet_geo_emb, label, triplet_id))"
   ]
  },
  {
   "cell_type": "code",
   "execution_count": 30,
   "metadata": {
    "collapsed": false,
    "deletable": true,
    "editable": true
   },
   "outputs": [],
   "source": [
    "# with open ('all_ling_data.txt', 'w') as fout:\n",
    "#     for game in language_data:\n",
    "#         for key in game.keys():\n",
    "#             fout.write(game[key]['dialogue'] + '\\n')\n",
    "# Use tf.nn.embedding_lookup instead and map words to integers\n",
    "\n",
    "\n",
    "# Deal with \"speaker:\", \"listener:\", misspelled words\n",
    "# dentist's chair\n",
    "# from string import punctuation\n",
    "\n",
    "# map numbers to language\n",
    "# typos\n",
    "\n",
    "# sqare -> square \n",
    "# sqiggle -> squiggly\n",
    "# shorest -> shortest\n",
    "# pilow -> pillow\n",
    "\n",
    "words_missed = set()\n",
    "words_embedded = set()\n",
    "triplet_to_data = dict()\n",
    "\n",
    "for i, game in enumerate(language_data):\n",
    "    for triplet_id, dialogues in game.iteritems():\n",
    "        triplet_condition, triplet_num = triplet_id.split('_')\n",
    "        a, b, c = triplets_to_sn_models[triplet_condition][triplet_num]\n",
    "        triplet_geo_emb = geo_embedding.loc[[a, b, c]].as_matrix().T\n",
    "        \n",
    "        index = np.arange(3)\n",
    "        np.random.shuffle(index)\n",
    "        \n",
    "        triplet_geo_emb = triplet_geo_emb[:, index]\n",
    "        label = np.where(index==0)[0][0]\n",
    "        \n",
    "        triplet_word_seq = []        \n",
    "        for w in replace_all(dialogues['dialogue'], replace_dic).split():\n",
    "            wl = w.lower()\n",
    "            if wl in word_with_emb:\n",
    "                triplet_word_seq.append(word_with_emb[wl])\n",
    "                words_embedded.add(wl)\n",
    "            else: # TODO deal with uknown words\n",
    "                words_missed.add(wl)\n",
    "        \n",
    "        if len(triplet_word_seq) >= 1:\n",
    "            if triplet_id not in triplet_to_data:\n",
    "                triplet_to_data[triplet_id] = []\n",
    "            triplet_to_data[triplet_id].append(GeoWordDatum(triplet_word_seq, triplet_geo_emb, label, triplet_id))"
   ]
  },
  {
   "cell_type": "code",
   "execution_count": 178,
   "metadata": {
    "collapsed": false,
    "deletable": true,
    "editable": true
   },
   "outputs": [],
   "source": [
    "def train_test_split(triplet_to_data, single_condition=None):\n",
    "    n_train = 130\n",
    "    n_test = 10\n",
    "    relevant_triplets = []\n",
    "    for key in triplet_to_data.keys():\n",
    "        if single_condition is not None:\n",
    "            if key.split('_')[0] == single_condition:\n",
    "                relevant_triplets.append(key)\n",
    "        else:\n",
    "            relevant_triplets.append(key)\n",
    "    \n",
    "    relevant_triplets = np.array(relevant_triplets, dtype=object)\n",
    "    np.random.shuffle(relevant_triplets)\n",
    "    \n",
    "    tr_triplets = relevant_triplets[:n_train]\n",
    "    test_triplets = relevant_triplets[n_train:]    \n",
    "    train_data = {}\n",
    "    test_data = {}\n",
    "    \n",
    "    for key in tr_triplets:\n",
    "        train_data[key] = triplet_to_data[key]\n",
    "        \n",
    "    for key in test_triplets:\n",
    "        test_data[key] = [triplet_to_data[key][0]] # JUST ONE \n",
    "    \n",
    "    return train_data, test_data"
   ]
  },
  {
   "cell_type": "code",
   "execution_count": 179,
   "metadata": {
    "collapsed": false,
    "deletable": true,
    "editable": true
   },
   "outputs": [],
   "source": [
    "train_dic, test_dic = train_test_split(triplet_to_data)"
   ]
  },
  {
   "cell_type": "code",
   "execution_count": 180,
   "metadata": {
    "collapsed": false
   },
   "outputs": [],
   "source": [
    "word_matrix, geo_matrix, label_matrix, mask_matrix, cond_matrix = GeoWordData.organize_into_numpy_arrays(train_dic, max_seq_len=15)\n",
    "gw_data = GeoWordsDataSet(words=word_matrix, geometries=geo_matrix, labels=label_matrix, masks=mask_matrix, conditions=cond_matrix)\n",
    "pickle_data('train_130_all_cond_max_seq_15_.pkl', gw_data)\n",
    "\n",
    "word_matrix, geo_matrix, label_matrix, mask_matrix, cond_matrix = GeoWordData.organize_into_numpy_arrays(test_dic, max_seq_len=15)\n",
    "gw_data = GeoWordsDataSet(words=word_matrix, geometries=geo_matrix, labels=label_matrix, masks=mask_matrix, conditions=cond_matrix)\n",
    "pickle_data('test_10_all_cond_max_seq_15_.pkl', gw_data)"
   ]
  },
  {
   "cell_type": "code",
   "execution_count": 168,
   "metadata": {
    "collapsed": false
   },
   "outputs": [
    {
     "data": {
      "text/plain": [
       "array(['close_45', 'close_45', 'close_44', 'close_44', 'close_42',\n",
       "       'close_42', 'close_41', 'close_41', 'close_40', 'close_40',\n",
       "       'far_138', 'far_138', 'far_138', 'far_138', 'far_138', 'far_138',\n",
       "       'far_138', 'far_39', 'far_35', 'far_35', 'far_35', 'far_35',\n",
       "       'far_31', 'far_30', 'far_30', 'far_30', 'far_30', 'far_30',\n",
       "       'far_128', 'far_128', 'far_128', 'far_128', 'far_122', 'far_122',\n",
       "       'far_122', 'far_122', 'far_123', 'far_123', 'far_123', 'close_6',\n",
       "       'close_6', 'close_7', 'close_7', 'close_7', 'close_7', 'close_7',\n",
       "       'close_7', 'close_7', 'close_7', 'close_4', 'close_4', 'close_4',\n",
       "       'close_4', 'close_4', 'close_4', 'close_4', 'close_4', 'split_31',\n",
       "       'split_31', 'split_31', 'split_31', 'split_31', 'split_31',\n",
       "       'close_2', 'close_2', 'close_2', 'close_2', 'close_2', 'close_2',\n",
       "       'close_2', 'close_2', 'close_2', 'close_2', 'close_2', 'close_0',\n",
       "       'close_0', 'close_8', 'close_8', 'close_8', 'close_8', 'close_8',\n",
       "       'close_8', 'close_8', 'close_8', 'close_8', 'close_8', 'close_71',\n",
       "       'close_71', 'close_71', 'close_71', 'close_71', 'split_35',\n",
       "       'split_35', 'split_38', 'split_38', 'split_38', 'split_38',\n",
       "       'close_108', 'close_108', 'far_84', 'far_84', 'far_86', 'far_86',\n",
       "       'far_86', 'far_86', 'far_89', 'far_89', 'far_89', 'far_89',\n",
       "       'far_89', 'close_103', 'close_103', 'close_75', 'close_75',\n",
       "       'close_107', 'close_107', 'close_107', 'close_107', 'close_107',\n",
       "       'close_107', 'close_107', 'close_107', 'close_107', 'close_106',\n",
       "       'close_106', 'close_106', 'close_106', 'close_106', 'close_106',\n",
       "       'far_17', 'far_17', 'far_17', 'far_17', 'far_16', 'far_16',\n",
       "       'far_16', 'split_107', 'split_107', 'split_106', 'split_106',\n",
       "       'split_106', 'split_106', 'split_106', 'split_101', 'split_101',\n",
       "       'split_101', 'split_101', 'far_10', 'split_25', 'split_25',\n",
       "       'split_25', 'split_25', 'split_24', 'split_24', 'split_24',\n",
       "       'split_26', 'split_26', 'split_26', 'split_29', 'split_29',\n",
       "       'split_29', 'split_29', 'split_29', 'split_29', 'close_118',\n",
       "       'close_118', 'close_118', 'close_118', 'close_118', 'close_118',\n",
       "       'close_118', 'close_118', 'close_118', 'close_113', 'close_113',\n",
       "       'close_113', 'close_113', 'close_113', 'close_113', 'close_113',\n",
       "       'close_113', 'close_113', 'close_70', 'close_70', 'close_70',\n",
       "       'close_70', 'close_70', 'close_70', 'close_70', 'close_70',\n",
       "       'close_70', 'close_70', 'close_70', 'close_111', 'close_111',\n",
       "       'close_111', 'close_111', 'close_111', 'close_111', 'close_111',\n",
       "       'close_111', 'close_115', 'close_115', 'close_18', 'close_18',\n",
       "       'close_18', 'close_18', 'close_18', 'close_18', 'close_18',\n",
       "       'close_18', 'close_19', 'close_19', 'close_11', 'close_11',\n",
       "       'close_11', 'close_15', 'close_15', 'far_109', 'far_109', 'far_109',\n",
       "       'far_109', 'far_62', 'far_62', 'split_111', 'split_111',\n",
       "       'split_116', 'split_116', 'split_116', 'split_116', 'close_102',\n",
       "       'close_102', 'close_102', 'close_102', 'close_102', 'close_102',\n",
       "       'close_102', 'split_51', 'split_51', 'split_51', 'close_129',\n",
       "       'close_129', 'close_129', 'close_129', 'close_129', 'close_129',\n",
       "       'close_129', 'split_57', 'split_57', 'split_58', 'split_58',\n",
       "       'split_58', 'close_64', 'close_64', 'close_64', 'close_64',\n",
       "       'close_64', 'close_64', 'close_64', 'close_124', 'close_124',\n",
       "       'close_60', 'close_60', 'close_60', 'close_60', 'close_60',\n",
       "       'close_60', 'close_60', 'close_60', 'close_62', 'close_62',\n",
       "       'close_62', 'close_62', 'close_62', 'close_62', 'far_117',\n",
       "       'far_117', 'far_117', 'far_117', 'far_117', 'far_117', 'split_129',\n",
       "       'split_129', 'split_129', 'split_129', 'split_129', 'far_116',\n",
       "       'far_116', 'far_116', 'far_116', 'far_116', 'split_123',\n",
       "       'split_123', 'split_123', 'split_122', 'split_122', 'split_122',\n",
       "       'split_120', 'split_120', 'split_120', 'far_71', 'far_71', 'far_71',\n",
       "       'far_71', 'far_71', 'far_74', 'far_74', 'far_74', 'close_131',\n",
       "       'close_131', 'close_92', 'close_92', 'close_134', 'close_134',\n",
       "       'close_134', 'close_134', 'close_134', 'close_134', 'close_134',\n",
       "       'close_134', 'close_96', 'close_96', 'close_97', 'close_97',\n",
       "       'close_99', 'close_99', 'split_138', 'close_136', 'close_136',\n",
       "       'far_9', 'far_9', 'far_8', 'split_134', 'split_134', 'split_135',\n",
       "       'split_135', 'split_135', 'split_135', 'close_34', 'close_34',\n",
       "       'close_35', 'close_35', 'close_35', 'close_35', 'close_35',\n",
       "       'close_35', 'close_35', 'close_35', 'close_35', 'close_35',\n",
       "       'split_130', 'split_130', 'split_130', 'split_130', 'far_2',\n",
       "       'far_2', 'far_2', 'close_30', 'close_30', 'close_30', 'close_30',\n",
       "       'close_30', 'close_30', 'close_30', 'split_133', 'split_133',\n",
       "       'split_133', 'close_83', 'close_83', 'far_26', 'far_26', 'split_70',\n",
       "       'split_70', 'split_70', 'split_71', 'split_71', 'split_71',\n",
       "       'close_89', 'close_89', 'close_89', 'close_89', 'close_89',\n",
       "       'close_89', 'close_89', 'close_21', 'close_21', 'close_20',\n",
       "       'close_20', 'close_22', 'close_22', 'close_22', 'close_22',\n",
       "       'close_22', 'close_22', 'split_91', 'split_91', 'far_111',\n",
       "       'far_111', 'close_26', 'close_26', 'close_26', 'close_26',\n",
       "       'close_26', 'close_26', 'close_26', 'close_26', 'close_29',\n",
       "       'close_29', 'close_29', 'close_29', 'close_29', 'close_29',\n",
       "       'close_29', 'close_29', 'close_28', 'close_28', 'close_28',\n",
       "       'close_28', 'close_28', 'close_28', 'close_28', 'close_28',\n",
       "       'close_28', 'close_28', 'split_2', 'split_2', 'split_2', 'split_2',\n",
       "       'far_51', 'far_51', 'far_51', 'far_51', 'far_51', 'split_1',\n",
       "       'far_57', 'far_57', 'far_57', 'far_57', 'split_68', 'split_68',\n",
       "       'split_68', 'split_68', 'split_60', 'split_60', 'split_60',\n",
       "       'split_67', 'split_67', 'split_67', 'split_67', 'split_67',\n",
       "       'split_66', 'split_66', 'close_36', 'close_36', 'close_54',\n",
       "       'close_54', 'far_106', 'far_106', 'split_84', 'split_84',\n",
       "       'split_84', 'close_50', 'close_50', 'close_50', 'close_50',\n",
       "       'close_50', 'close_50', 'close_50', 'close_50', 'close_51',\n",
       "       'close_51', 'close_51', 'close_51', 'close_51', 'close_51',\n",
       "       'close_51', 'far_102', 'far_102', 'far_102', 'far_102', 'far_102',\n",
       "       'close_53', 'close_53', 'close_32', 'close_32', 'close_128',\n",
       "       'close_128', 'close_128', 'close_128', 'close_128', 'close_128',\n",
       "       'close_128', 'close_128', 'close_58', 'close_58', 'close_58',\n",
       "       'close_58', 'close_58', 'close_58', 'close_58', 'close_59',\n",
       "       'close_59', 'close_59', 'close_59', 'close_59', 'close_59',\n",
       "       'close_59', 'close_59', 'close_127', 'close_127', 'close_126',\n",
       "       'close_126', 'close_31', 'close_31', 'close_31', 'close_31',\n",
       "       'close_31', 'close_31', 'close_31', 'split_14', 'split_14',\n",
       "       'split_14', 'split_16', 'split_16', 'split_16', 'split_16',\n",
       "       'far_25', 'far_23', 'far_23', 'far_23', 'far_23', 'far_23',\n",
       "       'close_122', 'close_122', 'close_122', 'close_122', 'close_122',\n",
       "       'close_122', 'close_122', 'close_122'], dtype=object)"
      ]
     },
     "execution_count": 168,
     "metadata": {},
     "output_type": "execute_result"
    }
   ],
   "source": []
  },
  {
   "cell_type": "code",
   "execution_count": 163,
   "metadata": {
    "collapsed": false
   },
   "outputs": [
    {
     "data": {
      "text/plain": [
       "{'close_1': [<language_3d_io.GeoWordDatum instance at 0x7f3022c95cf8>],\n",
       " 'close_10': [<language_3d_io.GeoWordDatum instance at 0x7f30198950e0>],\n",
       " 'close_100': [<language_3d_io.GeoWordDatum instance at 0x7f3022bf1710>],\n",
       " 'close_101': [<language_3d_io.GeoWordDatum instance at 0x7f30199d4f80>],\n",
       " 'close_104': [<language_3d_io.GeoWordDatum instance at 0x7f30199ef098>],\n",
       " 'close_105': [<language_3d_io.GeoWordDatum instance at 0x7f3022bf1680>],\n",
       " 'close_109': [<language_3d_io.GeoWordDatum instance at 0x7f3022bbb3b0>],\n",
       " 'close_110': [<language_3d_io.GeoWordDatum instance at 0x7f30199eecf8>],\n",
       " 'close_112': [<language_3d_io.GeoWordDatum instance at 0x7f3019a3e4d0>],\n",
       " 'close_114': [<language_3d_io.GeoWordDatum instance at 0x7f30198abb48>],\n",
       " 'close_116': [<language_3d_io.GeoWordDatum instance at 0x7f3019a0c758>],\n",
       " 'close_117': [<language_3d_io.GeoWordDatum instance at 0x7f30198ab710>],\n",
       " 'close_119': [<language_3d_io.GeoWordDatum instance at 0x7f3019a0cf38>],\n",
       " 'close_12': [<language_3d_io.GeoWordDatum instance at 0x7f3022bf1d40>],\n",
       " 'close_120': [<language_3d_io.GeoWordDatum instance at 0x7f3022bb4b90>],\n",
       " 'close_121': [<language_3d_io.GeoWordDatum instance at 0x7f3023152dd0>],\n",
       " 'close_123': [<language_3d_io.GeoWordDatum instance at 0x7f3022bbc1b8>],\n",
       " 'close_125': [<language_3d_io.GeoWordDatum instance at 0x7f3022bf1908>],\n",
       " 'close_13': [<language_3d_io.GeoWordDatum instance at 0x7f3019895950>],\n",
       " 'close_130': [<language_3d_io.GeoWordDatum instance at 0x7f301fc38ea8>],\n",
       " 'close_132': [<language_3d_io.GeoWordDatum instance at 0x7f3022c950e0>],\n",
       " 'close_133': [<language_3d_io.GeoWordDatum instance at 0x7f30198ab638>],\n",
       " 'close_135': [<language_3d_io.GeoWordDatum instance at 0x7f3019a0c560>],\n",
       " 'close_137': [<language_3d_io.GeoWordDatum instance at 0x7f3022c95290>],\n",
       " 'close_138': [<language_3d_io.GeoWordDatum instance at 0x7f3022c21290>],\n",
       " 'close_139': [<language_3d_io.GeoWordDatum instance at 0x7f30199ee908>],\n",
       " 'close_14': [<language_3d_io.GeoWordDatum instance at 0x7f30198955a8>],\n",
       " 'close_16': [<language_3d_io.GeoWordDatum instance at 0x7f30198951b8>],\n",
       " 'close_17': [<language_3d_io.GeoWordDatum instance at 0x7f3019895098>],\n",
       " 'close_23': [<language_3d_io.GeoWordDatum instance at 0x7f3022bc8e60>],\n",
       " 'close_24': [<language_3d_io.GeoWordDatum instance at 0x7f30198c35a8>],\n",
       " 'close_25': [<language_3d_io.GeoWordDatum instance at 0x7f3019a0ccf8>],\n",
       " 'close_27': [<language_3d_io.GeoWordDatum instance at 0x7f30198a7ef0>],\n",
       " 'close_3': [<language_3d_io.GeoWordDatum instance at 0x7f30199efab8>],\n",
       " 'close_33': [<language_3d_io.GeoWordDatum instance at 0x7f30198957a0>],\n",
       " 'close_37': [<language_3d_io.GeoWordDatum instance at 0x7f30199eea70>],\n",
       " 'close_38': [<language_3d_io.GeoWordDatum instance at 0x7f3022be3368>],\n",
       " 'close_39': [<language_3d_io.GeoWordDatum instance at 0x7f3022bc4f80>],\n",
       " 'close_43': [<language_3d_io.GeoWordDatum instance at 0x7f3019a3e098>],\n",
       " 'close_46': [<language_3d_io.GeoWordDatum instance at 0x7f3022bd3638>],\n",
       " 'close_47': [<language_3d_io.GeoWordDatum instance at 0x7f3022c9d320>],\n",
       " 'close_48': [<language_3d_io.GeoWordDatum instance at 0x7f3019a0c320>],\n",
       " 'close_49': [<language_3d_io.GeoWordDatum instance at 0x7f3022c98878>],\n",
       " 'close_5': [<language_3d_io.GeoWordDatum instance at 0x7f3019895d40>],\n",
       " 'close_52': [<language_3d_io.GeoWordDatum instance at 0x7f3019a0cb90>],\n",
       " 'close_55': [<language_3d_io.GeoWordDatum instance at 0x7f30199ee3f8>],\n",
       " 'close_56': [<language_3d_io.GeoWordDatum instance at 0x7f30199ee098>],\n",
       " 'close_57': [<language_3d_io.GeoWordDatum instance at 0x7f3022bc48c0>],\n",
       " 'close_61': [<language_3d_io.GeoWordDatum instance at 0x7f3022bf1d88>],\n",
       " 'close_63': [<language_3d_io.GeoWordDatum instance at 0x7f3022c987e8>],\n",
       " 'close_65': [<language_3d_io.GeoWordDatum instance at 0x7f3022bf13b0>],\n",
       " 'close_66': [<language_3d_io.GeoWordDatum instance at 0x7f3022c214d0>],\n",
       " 'close_67': [<language_3d_io.GeoWordDatum instance at 0x7f30198c3ab8>],\n",
       " 'close_68': [<language_3d_io.GeoWordDatum instance at 0x7f30198c3f80>],\n",
       " 'close_69': [<language_3d_io.GeoWordDatum instance at 0x7f3022c21440>],\n",
       " 'close_72': [<language_3d_io.GeoWordDatum instance at 0x7f3022c98680>],\n",
       " 'close_73': [<language_3d_io.GeoWordDatum instance at 0x7f3022bf1830>],\n",
       " 'close_74': [<language_3d_io.GeoWordDatum instance at 0x7f3022ca03b0>],\n",
       " 'close_76': [<language_3d_io.GeoWordDatum instance at 0x7f3022c95908>],\n",
       " 'close_77': [<language_3d_io.GeoWordDatum instance at 0x7f3019a0c3f8>],\n",
       " 'close_78': [<language_3d_io.GeoWordDatum instance at 0x7f3022c95128>],\n",
       " 'close_79': [<language_3d_io.GeoWordDatum instance at 0x7f3022c21ab8>],\n",
       " 'close_80': [<language_3d_io.GeoWordDatum instance at 0x7f3022bf16c8>],\n",
       " 'close_81': [<language_3d_io.GeoWordDatum instance at 0x7f30199ef050>],\n",
       " 'close_82': [<language_3d_io.GeoWordDatum instance at 0x7f30199d47e8>],\n",
       " 'close_84': [<language_3d_io.GeoWordDatum instance at 0x7f3019a42050>],\n",
       " 'close_85': [<language_3d_io.GeoWordDatum instance at 0x7f30199ef170>],\n",
       " 'close_86': [<language_3d_io.GeoWordDatum instance at 0x7f3022bbb5f0>],\n",
       " 'close_87': [<language_3d_io.GeoWordDatum instance at 0x7f3022bf11b8>],\n",
       " 'close_88': [<language_3d_io.GeoWordDatum instance at 0x7f3022bf1440>],\n",
       " 'close_9': [<language_3d_io.GeoWordDatum instance at 0x7f3023151098>],\n",
       " 'close_90': [<language_3d_io.GeoWordDatum instance at 0x7f3022c95098>],\n",
       " 'close_91': [<language_3d_io.GeoWordDatum instance at 0x7f3023149e60>],\n",
       " 'close_93': [<language_3d_io.GeoWordDatum instance at 0x7f3019a3e7a0>],\n",
       " 'close_94': [<language_3d_io.GeoWordDatum instance at 0x7f3022c957a0>],\n",
       " 'close_95': [<language_3d_io.GeoWordDatum instance at 0x7f30198ab3b0>],\n",
       " 'close_98': [<language_3d_io.GeoWordDatum instance at 0x7f30198ab518>],\n",
       " 'far_101': [<language_3d_io.GeoWordDatum instance at 0x7f30199dc248>],\n",
       " 'far_107': [<language_3d_io.GeoWordDatum instance at 0x7f3022bd33f8>],\n",
       " 'far_113': [<language_3d_io.GeoWordDatum instance at 0x7f3022bc84d0>],\n",
       " 'far_114': [<language_3d_io.GeoWordDatum instance at 0x7f3022bcccb0>],\n",
       " 'far_118': [<language_3d_io.GeoWordDatum instance at 0x7f3022ca0560>],\n",
       " 'far_12': [<language_3d_io.GeoWordDatum instance at 0x7f3022bd3170>],\n",
       " 'far_120': [<language_3d_io.GeoWordDatum instance at 0x7f3020ab50e0>],\n",
       " 'far_121': [<language_3d_io.GeoWordDatum instance at 0x7f3019a10f80>],\n",
       " 'far_129': [<language_3d_io.GeoWordDatum instance at 0x7f3022c0b050>],\n",
       " 'far_13': [<language_3d_io.GeoWordDatum instance at 0x7f30198a7368>],\n",
       " 'far_130': [<language_3d_io.GeoWordDatum instance at 0x7f302314a488>],\n",
       " 'far_133': [<language_3d_io.GeoWordDatum instance at 0x7f3022bbccb0>],\n",
       " 'far_134': [<language_3d_io.GeoWordDatum instance at 0x7f301988f0e0>],\n",
       " 'far_135': [<language_3d_io.GeoWordDatum instance at 0x7f3022c855f0>],\n",
       " 'far_14': [<language_3d_io.GeoWordDatum instance at 0x7f3022bc05f0>],\n",
       " 'far_18': [<language_3d_io.GeoWordDatum instance at 0x7f3019a39dd0>],\n",
       " 'far_22': [<language_3d_io.GeoWordDatum instance at 0x7f30199d4d88>],\n",
       " 'far_24': [<language_3d_io.GeoWordDatum instance at 0x7f3022bbcf38>],\n",
       " 'far_27': [<language_3d_io.GeoWordDatum instance at 0x7f3022c11950>],\n",
       " 'far_28': [<language_3d_io.GeoWordDatum instance at 0x7f3022c9dab8>],\n",
       " 'far_29': [<language_3d_io.GeoWordDatum instance at 0x7f30199d3128>],\n",
       " 'far_38': [<language_3d_io.GeoWordDatum instance at 0x7f3022be2758>],\n",
       " 'far_4': [<language_3d_io.GeoWordDatum instance at 0x7f3022ca0cf8>],\n",
       " 'far_48': [<language_3d_io.GeoWordDatum instance at 0x7f301989d998>],\n",
       " 'far_50': [<language_3d_io.GeoWordDatum instance at 0x7f301988fef0>],\n",
       " 'far_58': [<language_3d_io.GeoWordDatum instance at 0x7f3022bbbb48>],\n",
       " 'far_59': [<language_3d_io.GeoWordDatum instance at 0x7f3022ca0dd0>],\n",
       " 'far_6': [<language_3d_io.GeoWordDatum instance at 0x7f3019a44908>],\n",
       " 'far_60': [<language_3d_io.GeoWordDatum instance at 0x7f3020a3b488>],\n",
       " 'far_64': [<language_3d_io.GeoWordDatum instance at 0x7f3022bc0758>],\n",
       " 'far_66': [<language_3d_io.GeoWordDatum instance at 0x7f30198c3368>],\n",
       " 'far_67': [<language_3d_io.GeoWordDatum instance at 0x7f3019a29c68>],\n",
       " 'far_68': [<language_3d_io.GeoWordDatum instance at 0x7f30199d3e18>],\n",
       " 'far_69': [<language_3d_io.GeoWordDatum instance at 0x7f301989d830>],\n",
       " 'far_7': [<language_3d_io.GeoWordDatum instance at 0x7f30199d3b48>],\n",
       " 'far_70': [<language_3d_io.GeoWordDatum instance at 0x7f3022c13cb0>],\n",
       " 'far_79': [<language_3d_io.GeoWordDatum instance at 0x7f3022ca0950>],\n",
       " 'far_82': [<language_3d_io.GeoWordDatum instance at 0x7f3022c9d200>],\n",
       " 'far_91': [<language_3d_io.GeoWordDatum instance at 0x7f3019a44d40>],\n",
       " 'far_95': [<language_3d_io.GeoWordDatum instance at 0x7f30198a74d0>],\n",
       " 'far_98': [<language_3d_io.GeoWordDatum instance at 0x7f3022c139e0>],\n",
       " 'split_109': [<language_3d_io.GeoWordDatum instance at 0x7f3022bc8368>],\n",
       " 'split_113': [<language_3d_io.GeoWordDatum instance at 0x7f3019a07638>],\n",
       " 'split_117': [<language_3d_io.GeoWordDatum instance at 0x7f30199d4440>],\n",
       " 'split_118': [<language_3d_io.GeoWordDatum instance at 0x7f3022c13440>],\n",
       " 'split_121': [<language_3d_io.GeoWordDatum instance at 0x7f30198a7248>],\n",
       " 'split_128': [<language_3d_io.GeoWordDatum instance at 0x7f3022bd42d8>],\n",
       " 'split_13': [<language_3d_io.GeoWordDatum instance at 0x7f301989d5a8>],\n",
       " 'split_17': [<language_3d_io.GeoWordDatum instance at 0x7f30832c8248>],\n",
       " 'split_18': [<language_3d_io.GeoWordDatum instance at 0x7f301989d0e0>],\n",
       " 'split_22': [<language_3d_io.GeoWordDatum instance at 0x7f30199ddcf8>],\n",
       " 'split_23': [<language_3d_io.GeoWordDatum instance at 0x7f30199dd560>],\n",
       " 'split_27': [<language_3d_io.GeoWordDatum instance at 0x7f3022bd1518>],\n",
       " 'split_28': [<language_3d_io.GeoWordDatum instance at 0x7f3022be2cb0>],\n",
       " 'split_30': [<language_3d_io.GeoWordDatum instance at 0x7f3022bc0cf8>],\n",
       " 'split_39': [<language_3d_io.GeoWordDatum instance at 0x7f30199d6fc8>],\n",
       " 'split_4': [<language_3d_io.GeoWordDatum instance at 0x7f3022bd34d0>],\n",
       " 'split_48': [<language_3d_io.GeoWordDatum instance at 0x7f3022c0b638>],\n",
       " 'split_5': [<language_3d_io.GeoWordDatum instance at 0x7f3022bd32d8>],\n",
       " 'split_50': [<language_3d_io.GeoWordDatum instance at 0x7f30199d3638>],\n",
       " 'split_59': [<language_3d_io.GeoWordDatum instance at 0x7f30199d3b00>],\n",
       " 'split_62': [<language_3d_io.GeoWordDatum instance at 0x7f3022bd1710>],\n",
       " 'split_64': [<language_3d_io.GeoWordDatum instance at 0x7f30199ddf80>],\n",
       " 'split_69': [<language_3d_io.GeoWordDatum instance at 0x7f30198c3bd8>],\n",
       " 'split_7': [<language_3d_io.GeoWordDatum instance at 0x7f301988f128>],\n",
       " 'split_74': [<language_3d_io.GeoWordDatum instance at 0x7f3022c0bab8>],\n",
       " 'split_79': [<language_3d_io.GeoWordDatum instance at 0x7f30198c3cf8>],\n",
       " 'split_8': [<language_3d_io.GeoWordDatum instance at 0x7f30199d4998>],\n",
       " 'split_82': [<language_3d_io.GeoWordDatum instance at 0x7f3022bc4440>],\n",
       " 'split_89': [<language_3d_io.GeoWordDatum instance at 0x7f301989d368>],\n",
       " 'split_9': [<language_3d_io.GeoWordDatum instance at 0x7f30198c3ea8>],\n",
       " 'split_95': [<language_3d_io.GeoWordDatum instance at 0x7f30199cf320>],\n",
       " 'split_98': [<language_3d_io.GeoWordDatum instance at 0x7f30199d0dd0>]}"
      ]
     },
     "execution_count": 163,
     "metadata": {},
     "output_type": "execute_result"
    }
   ],
   "source": [
    "test_dic"
   ]
  },
  {
   "cell_type": "code",
   "execution_count": 33,
   "metadata": {
    "collapsed": false,
    "deletable": true,
    "editable": true
   },
   "outputs": [],
   "source": [
    "word_matrix, geo_matrix, label_matrix = GeoWordData.organize_into_numpy_arrays(train_dic, max_seq_len=10)\n",
    "gw_data = GeoWordsDataSet(words=word_matrix, geometries=geo_matrix, labels=label_matrix)\n",
    "pickle_data('train_100_close_max_seq_10_.pkl', gw_data)"
   ]
  },
  {
   "cell_type": "code",
   "execution_count": 35,
   "metadata": {
    "collapsed": true,
    "deletable": true,
    "editable": true
   },
   "outputs": [],
   "source": [
    "word_matrix, geo_matrix, label_matrix = GeoWordData.organize_into_numpy_arrays(test_dic, max_seq_len=10)\n",
    "gw_data = GeoWordsDataSet(words=word_matrix, geometries=geo_matrix, labels=label_matrix)\n",
    "pickle_data('test_40_close_max_seq_10.pkl', gw_data)"
   ]
  },
  {
   "cell_type": "code",
   "execution_count": null,
   "metadata": {
    "collapsed": true
   },
   "outputs": [],
   "source": []
  },
  {
   "cell_type": "code",
   "execution_count": null,
   "metadata": {
    "collapsed": true
   },
   "outputs": [],
   "source": []
  },
  {
   "cell_type": "code",
   "execution_count": null,
   "metadata": {
    "collapsed": true
   },
   "outputs": [],
   "source": []
  }
 ],
 "metadata": {
  "kernelspec": {
   "display_name": "Python 2",
   "language": "python",
   "name": "python2"
  },
  "language_info": {
   "codemirror_mode": {
    "name": "ipython",
    "version": 2
   },
   "file_extension": ".py",
   "mimetype": "text/x-python",
   "name": "python",
   "nbconvert_exporter": "python",
   "pygments_lexer": "ipython2",
   "version": "2.7.6"
  }
 },
 "nbformat": 4,
 "nbformat_minor": 2
}
