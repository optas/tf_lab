{
 "cells": [
  {
   "cell_type": "code",
   "execution_count": 1,
   "metadata": {
    "collapsed": false
   },
   "outputs": [
    {
     "name": "stderr",
     "output_type": "stream",
     "text": [
      "/orions4-zfs/projects/lins2/Panos_Space/Git_Repos/geo_tool/solids/mesh.py:26: UserWarning: Mayavi library was not found. Some graphics utilities will be disabled.\n",
      "  warnings.warn('Mayavi library was not found. Some graphics utilities will be disabled.')\n"
     ]
    }
   ],
   "source": [
    "import sys\n",
    "import time\n",
    "import numpy as np\n",
    "import os.path as osp\n",
    "import tensorflow as tf\n",
    "import matplotlib.pyplot as plt\n",
    "\n",
    "from tf_lab.fundamentals.utils import set_visible_GPUs, reset_tf_graph\n",
    "\n",
    "import tf_lab.point_clouds.in_out as pio\n",
    "from tf_lab.point_clouds.in_out import PointCloudDataSet, write_model_ids_of_datasets\n",
    "from tf_lab.point_clouds.point_net_ae import PointNetAutoEncoder\n",
    "from tf_lab.point_clouds.autoencoder import Configuration as Conf\n",
    "import tf_lab.point_clouds.encoders_decoders as enc_dec\n",
    "\n",
    "from tf_lab.autopredictors.evaluate.basics import eval_model, read_saved_epochs\n",
    "from tf_lab.autopredictors.scripts.helper import shape_net_category_to_synth_id, match_incomplete_to_complete_data\n",
    "from tf_lab.autopredictors.plotting.basics import plot_original_pclouds_vs_reconstructed,\\\n",
    "                                                  plot_train_val_test_curves, plot_reconstructions_at_epoch\n",
    "\n",
    "\n",
    "\n",
    "\n",
    "from general_tools.in_out.basics import create_dir, delete_files_in_directory, files_in_subdirs\n",
    "from geo_tool import Point_Cloud"
   ]
  },
  {
   "cell_type": "code",
   "execution_count": 2,
   "metadata": {
    "collapsed": false
   },
   "outputs": [],
   "source": [
    "%load_ext autoreload\n",
    "%autoreload 2\n",
    "%matplotlib inline"
   ]
  },
  {
   "cell_type": "code",
   "execution_count": 3,
   "metadata": {
    "collapsed": false
   },
   "outputs": [
    {
     "name": "stdout",
     "output_type": "stream",
     "text": [
      "Give me the class type.\n",
      "chair\n"
     ]
    },
    {
     "data": {
      "text/plain": [
       "'/orions4-zfs/projects/lins2/Panos_Space/DATA/OUT/models/vanilla_ae/03001627/1_2_fc_decoder_1024pts'"
      ]
     },
     "execution_count": 3,
     "metadata": {},
     "output_type": "execute_result"
    }
   ],
   "source": [
    "class_type = raw_input('Give me the class type.\\n').lower()\n",
    "class_syn_id = shape_net_category_to_synth_id()[class_type]\n",
    "\n",
    "experiment_name = '1_2_fc_decoder_1024pts'\n",
    "do_training = True\n",
    "\n",
    "seed = 42\n",
    "np.random.seed(seed)\n",
    "tf.set_random_seed(seed)\n",
    "\n",
    "top_data_dir = '/orions4-zfs/projects/lins2/Panos_Space/DATA/'\n",
    "full_pclouds_path = osp.join(top_data_dir, 'ShapeNetPointClouds/from_manifold_meshes/1024/', class_syn_id)\n",
    "\n",
    "train_dir = osp.join(top_data_dir, 'OUT/models/vanilla_ae/', class_syn_id)\n",
    "train_dir = osp.join(train_dir, experiment_name)\n",
    "create_dir(train_dir)"
   ]
  },
  {
   "cell_type": "code",
   "execution_count": 4,
   "metadata": {
    "collapsed": false
   },
   "outputs": [
    {
     "name": "stdout",
     "output_type": "stream",
     "text": [
      "6778 files containing complete point clouds were found.\n"
     ]
    }
   ],
   "source": [
    "full_file_names = pio.load_filenames_of_input_data(full_pclouds_path)\n",
    "full_pclouds, full_model_names, full_syn_ids = pio.load_crude_point_clouds(file_names=full_file_names, n_threads=15)\n",
    "print '%d files containing complete point clouds were found.' % (len(full_pclouds), )"
   ]
  },
  {
   "cell_type": "code",
   "execution_count": 5,
   "metadata": {
    "collapsed": false
   },
   "outputs": [],
   "source": [
    "train_data_, val_data_, test_data_, r_indices = pio.train_validate_test_split([full_pclouds, \n",
    "                                                                    full_model_names],\n",
    "                                                                    train_perc=0.85,\n",
    "                                                                    validate_perc=0.05,\n",
    "                                                                    test_perc=0.1,                                                                   \n",
    "                                                                    seed=seed)\n",
    "\n",
    "model_ids = np.vstack((full_model_names, full_syn_ids)).T\n",
    "write_model_ids_of_datasets(train_dir, model_ids, r_indices)\n",
    "\n",
    "train_data = PointCloudDataSet(train_data_[0], labels=train_data_[1])\n",
    "val_data = PointCloudDataSet(val_data_[0], labels=val_data_[1])\n",
    "test_data = PointCloudDataSet(test_data_[0], labels=test_data_[1])"
   ]
  },
  {
   "cell_type": "code",
   "execution_count": 7,
   "metadata": {
    "collapsed": false
   },
   "outputs": [],
   "source": [
    "n_input = [1024, 3]\n",
    "\n",
    "decoder_args = {'layer_sizes': [1024, np.prod(n_input)], \n",
    "                'non_linearity': tf.nn.relu\n",
    "               }\n",
    " \n",
    "conf = Conf(\n",
    "            n_input = n_input,\n",
    "            training_epochs = 1000,\n",
    "            batch_size = 50,\n",
    "            loss = 'chamfer',\n",
    "            train_dir = train_dir,\n",
    "            loss_display_step = 1,\n",
    "            saver_step = 10,\n",
    "            learning_rate = 0.00002,\n",
    "            saver_max_to_keep = 100,\n",
    "            gauss_augment = {'mu': 0, 'sigma': 0.02},            \n",
    "            encoder = enc_dec.encoder_with_convs_and_symmetry,\n",
    "            decoder = enc_dec.decoder_with_fc_only,\n",
    "            decoder_args = decoder_args,\n",
    "           )\n",
    "\n",
    "conf.experiment_name = experiment_name\n",
    "conf.save(osp.join(conf.train_dir, 'configuration'))"
   ]
  },
  {
   "cell_type": "code",
   "execution_count": null,
   "metadata": {
    "collapsed": false
   },
   "outputs": [
    {
     "name": "stdout",
     "output_type": "stream",
     "text": [
      "('Epoch:', '0001', 'training time (minutes)=', '0.1171', 'loss=', '0.005617352')\n",
      "('Epoch:', '0002', 'training time (minutes)=', '0.1025', 'loss=', '0.003413859')\n",
      "('Epoch:', '0003', 'training time (minutes)=', '0.1123', 'loss=', '0.003118270')\n",
      "('Epoch:', '0004', 'training time (minutes)=', '0.1024', 'loss=', '0.002879316')\n",
      "('Epoch:', '0005', 'training time (minutes)=', '0.1009', 'loss=', '0.002710940')\n",
      "('Epoch:', '0006', 'training time (minutes)=', '0.1026', 'loss=', '0.002587657')\n",
      "('Epoch:', '0007', 'training time (minutes)=', '0.1015', 'loss=', '0.002479747')\n",
      "('Epoch:', '0008', 'training time (minutes)=', '0.1058', 'loss=', '0.002388066')\n",
      "('Epoch:', '0009', 'training time (minutes)=', '0.1067', 'loss=', '0.002308613')\n",
      "('Epoch:', '0010', 'training time (minutes)=', '0.1024', 'loss=', '0.002238860')\n",
      "('Epoch:', '0011', 'training time (minutes)=', '0.1070', 'loss=', '0.002179914')\n",
      "('Epoch:', '0012', 'training time (minutes)=', '0.1075', 'loss=', '0.002126225')\n",
      "('Epoch:', '0013', 'training time (minutes)=', '0.1022', 'loss=', '0.002081117')\n",
      "('Epoch:', '0014', 'training time (minutes)=', '0.1105', 'loss=', '0.002041736')\n",
      "('Epoch:', '0015', 'training time (minutes)=', '0.1115', 'loss=', '0.002003996')\n",
      "('Epoch:', '0016', 'training time (minutes)=', '0.1039', 'loss=', '0.001975483')\n",
      "('Epoch:', '0017', 'training time (minutes)=', '0.1020', 'loss=', '0.001947875')\n",
      "('Epoch:', '0018', 'training time (minutes)=', '0.1031', 'loss=', '0.001921367')\n",
      "('Epoch:', '0019', 'training time (minutes)=', '0.1029', 'loss=', '0.001895084')\n",
      "('Epoch:', '0020', 'training time (minutes)=', '0.1105', 'loss=', '0.001872996')\n",
      "('Epoch:', '0021', 'training time (minutes)=', '0.1081', 'loss=', '0.001853174')\n",
      "('Epoch:', '0022', 'training time (minutes)=', '0.1145', 'loss=', '0.001831434')\n",
      "('Epoch:', '0023', 'training time (minutes)=', '0.1048', 'loss=', '0.001812453')\n",
      "('Epoch:', '0024', 'training time (minutes)=', '0.1019', 'loss=', '0.001792429')\n",
      "('Epoch:', '0025', 'training time (minutes)=', '0.1011', 'loss=', '0.001777391')\n",
      "('Epoch:', '0026', 'training time (minutes)=', '0.1077', 'loss=', '0.001759061')\n",
      "('Epoch:', '0027', 'training time (minutes)=', '0.1028', 'loss=', '0.001744126')\n",
      "('Epoch:', '0028', 'training time (minutes)=', '0.1030', 'loss=', '0.001727655')\n",
      "('Epoch:', '0029', 'training time (minutes)=', '0.1025', 'loss=', '0.001717332')\n",
      "('Epoch:', '0030', 'training time (minutes)=', '0.1026', 'loss=', '0.001702300')\n",
      "('Epoch:', '0031', 'training time (minutes)=', '0.1020', 'loss=', '0.001690754')\n",
      "('Epoch:', '0032', 'training time (minutes)=', '0.1024', 'loss=', '0.001681254')\n",
      "('Epoch:', '0033', 'training time (minutes)=', '0.1023', 'loss=', '0.001667780')\n",
      "('Epoch:', '0034', 'training time (minutes)=', '0.1028', 'loss=', '0.001658280')\n",
      "('Epoch:', '0035', 'training time (minutes)=', '0.1020', 'loss=', '0.001647198')\n",
      "('Epoch:', '0036', 'training time (minutes)=', '0.1027', 'loss=', '0.001638493')\n",
      "('Epoch:', '0037', 'training time (minutes)=', '0.1023', 'loss=', '0.001630089')\n",
      "('Epoch:', '0038', 'training time (minutes)=', '0.1043', 'loss=', '0.001622484')\n",
      "('Epoch:', '0039', 'training time (minutes)=', '0.1027', 'loss=', '0.001613405')\n",
      "('Epoch:', '0040', 'training time (minutes)=', '0.1021', 'loss=', '0.001605478')\n",
      "('Epoch:', '0041', 'training time (minutes)=', '0.1111', 'loss=', '0.001597246')\n",
      "('Epoch:', '0042', 'training time (minutes)=', '0.1123', 'loss=', '0.001590371')\n",
      "('Epoch:', '0043', 'training time (minutes)=', '0.1017', 'loss=', '0.001583039')\n",
      "('Epoch:', '0044', 'training time (minutes)=', '0.1013', 'loss=', '0.001577971')\n",
      "('Epoch:', '0045', 'training time (minutes)=', '0.1016', 'loss=', '0.001570024')\n",
      "('Epoch:', '0046', 'training time (minutes)=', '0.1044', 'loss=', '0.001564048')\n",
      "('Epoch:', '0047', 'training time (minutes)=', '0.1104', 'loss=', '0.001557936')\n",
      "('Epoch:', '0048', 'training time (minutes)=', '0.1085', 'loss=', '0.001552040')\n",
      "('Epoch:', '0049', 'training time (minutes)=', '0.1020', 'loss=', '0.001546506')\n",
      "('Epoch:', '0050', 'training time (minutes)=', '0.1131', 'loss=', '0.001540449')\n",
      "('Epoch:', '0051', 'training time (minutes)=', '0.1020', 'loss=', '0.001534902')\n",
      "('Epoch:', '0052', 'training time (minutes)=', '0.1163', 'loss=', '0.001532226')\n",
      "('Epoch:', '0053', 'training time (minutes)=', '0.1135', 'loss=', '0.001527620')\n",
      "('Epoch:', '0054', 'training time (minutes)=', '0.1137', 'loss=', '0.001520420')\n",
      "('Epoch:', '0055', 'training time (minutes)=', '0.1030', 'loss=', '0.001515159')\n",
      "('Epoch:', '0056', 'training time (minutes)=', '0.1150', 'loss=', '0.001510035')\n",
      "('Epoch:', '0057', 'training time (minutes)=', '0.1196', 'loss=', '0.001507060')\n",
      "('Epoch:', '0058', 'training time (minutes)=', '0.1289', 'loss=', '0.001502637')\n",
      "('Epoch:', '0059', 'training time (minutes)=', '0.1414', 'loss=', '0.001498500')\n",
      "('Epoch:', '0060', 'training time (minutes)=', '0.1292', 'loss=', '0.001494067')\n",
      "('Epoch:', '0061', 'training time (minutes)=', '0.1502', 'loss=', '0.001490412')\n",
      "('Epoch:', '0062', 'training time (minutes)=', '0.1310', 'loss=', '0.001484880')\n",
      "('Epoch:', '0063', 'training time (minutes)=', '0.1498', 'loss=', '0.001481111')\n",
      "('Epoch:', '0064', 'training time (minutes)=', '0.1397', 'loss=', '0.001478498')\n",
      "('Epoch:', '0065', 'training time (minutes)=', '0.1489', 'loss=', '0.001474072')\n",
      "('Epoch:', '0066', 'training time (minutes)=', '0.1565', 'loss=', '0.001469879')\n",
      "('Epoch:', '0067', 'training time (minutes)=', '0.1435', 'loss=', '0.001465756')\n",
      "('Epoch:', '0068', 'training time (minutes)=', '0.1465', 'loss=', '0.001463076')\n",
      "('Epoch:', '0069', 'training time (minutes)=', '0.1319', 'loss=', '0.001459965')\n",
      "('Epoch:', '0070', 'training time (minutes)=', '0.1405', 'loss=', '0.001455422')\n",
      "('Epoch:', '0071', 'training time (minutes)=', '0.1357', 'loss=', '0.001453445')\n",
      "('Epoch:', '0072', 'training time (minutes)=', '0.1047', 'loss=', '0.001449004')\n",
      "('Epoch:', '0073', 'training time (minutes)=', '0.1020', 'loss=', '0.001446387')\n",
      "('Epoch:', '0074', 'training time (minutes)=', '0.1173', 'loss=', '0.001443577')\n",
      "('Epoch:', '0075', 'training time (minutes)=', '0.1012', 'loss=', '0.001440291')\n",
      "('Epoch:', '0076', 'training time (minutes)=', '0.1018', 'loss=', '0.001436589')\n",
      "('Epoch:', '0077', 'training time (minutes)=', '0.1041', 'loss=', '0.001434270')\n",
      "('Epoch:', '0078', 'training time (minutes)=', '0.1111', 'loss=', '0.001431039')\n",
      "('Epoch:', '0079', 'training time (minutes)=', '0.1003', 'loss=', '0.001428099')\n",
      "('Epoch:', '0080', 'training time (minutes)=', '0.1126', 'loss=', '0.001426370')\n",
      "('Epoch:', '0081', 'training time (minutes)=', '0.1017', 'loss=', '0.001422163')\n",
      "('Epoch:', '0082', 'training time (minutes)=', '0.1133', 'loss=', '0.001420583')\n",
      "('Epoch:', '0083', 'training time (minutes)=', '0.1019', 'loss=', '0.001417662')\n",
      "('Epoch:', '0084', 'training time (minutes)=', '0.1114', 'loss=', '0.001416793')\n",
      "('Epoch:', '0085', 'training time (minutes)=', '0.1072', 'loss=', '0.001411814')\n",
      "('Epoch:', '0086', 'training time (minutes)=', '0.1089', 'loss=', '0.001410622')\n",
      "('Epoch:', '0087', 'training time (minutes)=', '0.1100', 'loss=', '0.001407363')\n",
      "('Epoch:', '0088', 'training time (minutes)=', '0.1066', 'loss=', '0.001405267')\n",
      "('Epoch:', '0089', 'training time (minutes)=', '0.1027', 'loss=', '0.001402278')\n",
      "('Epoch:', '0090', 'training time (minutes)=', '0.1023', 'loss=', '0.001400360')\n",
      "('Epoch:', '0091', 'training time (minutes)=', '0.1126', 'loss=', '0.001399059')\n",
      "('Epoch:', '0092', 'training time (minutes)=', '0.1030', 'loss=', '0.001396266')\n",
      "('Epoch:', '0093', 'training time (minutes)=', '0.1112', 'loss=', '0.001394137')\n",
      "('Epoch:', '0094', 'training time (minutes)=', '0.1039', 'loss=', '0.001391008')\n",
      "('Epoch:', '0095', 'training time (minutes)=', '0.1021', 'loss=', '0.001389310')\n",
      "('Epoch:', '0096', 'training time (minutes)=', '0.1041', 'loss=', '0.001385920')\n",
      "('Epoch:', '0097', 'training time (minutes)=', '0.1132', 'loss=', '0.001385977')\n",
      "('Epoch:', '0098', 'training time (minutes)=', '0.1024', 'loss=', '0.001383249')\n",
      "('Epoch:', '0099', 'training time (minutes)=', '0.1181', 'loss=', '0.001381890')\n",
      "('Epoch:', '0100', 'training time (minutes)=', '0.1044', 'loss=', '0.001379597')\n",
      "('Epoch:', '0101', 'training time (minutes)=', '0.1038', 'loss=', '0.001378008')\n",
      "('Epoch:', '0102', 'training time (minutes)=', '0.1084', 'loss=', '0.001376582')\n",
      "('Epoch:', '0103', 'training time (minutes)=', '0.1050', 'loss=', '0.001374474')\n",
      "('Epoch:', '0104', 'training time (minutes)=', '0.1047', 'loss=', '0.001371621')\n",
      "('Epoch:', '0105', 'training time (minutes)=', '0.1125', 'loss=', '0.001369682')\n",
      "('Epoch:', '0106', 'training time (minutes)=', '0.1021', 'loss=', '0.001368347')\n",
      "('Epoch:', '0107', 'training time (minutes)=', '0.1113', 'loss=', '0.001366931')\n",
      "('Epoch:', '0108', 'training time (minutes)=', '0.1042', 'loss=', '0.001364203')\n",
      "('Epoch:', '0109', 'training time (minutes)=', '0.1019', 'loss=', '0.001363465')\n",
      "('Epoch:', '0110', 'training time (minutes)=', '0.1102', 'loss=', '0.001362507')\n",
      "('Epoch:', '0111', 'training time (minutes)=', '0.1107', 'loss=', '0.001359935')\n",
      "('Epoch:', '0112', 'training time (minutes)=', '0.1021', 'loss=', '0.001358596')\n",
      "('Epoch:', '0113', 'training time (minutes)=', '0.1104', 'loss=', '0.001356631')\n",
      "('Epoch:', '0114', 'training time (minutes)=', '0.1015', 'loss=', '0.001354947')\n",
      "('Epoch:', '0115', 'training time (minutes)=', '0.1220', 'loss=', '0.001352735')\n",
      "('Epoch:', '0116', 'training time (minutes)=', '0.1107', 'loss=', '0.001351991')\n",
      "('Epoch:', '0117', 'training time (minutes)=', '0.1064', 'loss=', '0.001349040')\n",
      "('Epoch:', '0118', 'training time (minutes)=', '0.1074', 'loss=', '0.001348346')\n",
      "('Epoch:', '0119', 'training time (minutes)=', '0.1130', 'loss=', '0.001347222')\n",
      "('Epoch:', '0120', 'training time (minutes)=', '0.1049', 'loss=', '0.001346480')\n",
      "('Epoch:', '0121', 'training time (minutes)=', '0.1146', 'loss=', '0.001343810')\n",
      "('Epoch:', '0122', 'training time (minutes)=', '0.1157', 'loss=', '0.001341789')\n",
      "('Epoch:', '0123', 'training time (minutes)=', '0.1041', 'loss=', '0.001340365')\n",
      "('Epoch:', '0124', 'training time (minutes)=', '0.1058', 'loss=', '0.001339869')\n",
      "('Epoch:', '0125', 'training time (minutes)=', '0.1065', 'loss=', '0.001337953')\n",
      "('Epoch:', '0126', 'training time (minutes)=', '0.1050', 'loss=', '0.001335652')\n",
      "('Epoch:', '0127', 'training time (minutes)=', '0.1179', 'loss=', '0.001336385')\n",
      "('Epoch:', '0128', 'training time (minutes)=', '0.1058', 'loss=', '0.001334806')\n",
      "('Epoch:', '0129', 'training time (minutes)=', '0.1159', 'loss=', '0.001333335')\n",
      "('Epoch:', '0130', 'training time (minutes)=', '0.1154', 'loss=', '0.001331562')\n",
      "('Epoch:', '0131', 'training time (minutes)=', '0.1125', 'loss=', '0.001329744')\n",
      "('Epoch:', '0132', 'training time (minutes)=', '0.1048', 'loss=', '0.001328828')\n",
      "('Epoch:', '0133', 'training time (minutes)=', '0.1062', 'loss=', '0.001327182')\n",
      "('Epoch:', '0134', 'training time (minutes)=', '0.1093', 'loss=', '0.001325846')\n",
      "('Epoch:', '0135', 'training time (minutes)=', '0.1069', 'loss=', '0.001325235')\n",
      "('Epoch:', '0136', 'training time (minutes)=', '0.1036', 'loss=', '0.001323022')\n",
      "('Epoch:', '0137', 'training time (minutes)=', '0.1067', 'loss=', '0.001321981')\n",
      "('Epoch:', '0138', 'training time (minutes)=', '0.1116', 'loss=', '0.001321118')\n",
      "('Epoch:', '0139', 'training time (minutes)=', '0.1063', 'loss=', '0.001319808')\n",
      "('Epoch:', '0140', 'training time (minutes)=', '0.1074', 'loss=', '0.001319696')\n",
      "('Epoch:', '0141', 'training time (minutes)=', '0.1063', 'loss=', '0.001317828')\n",
      "('Epoch:', '0142', 'training time (minutes)=', '0.1071', 'loss=', '0.001317164')\n",
      "('Epoch:', '0143', 'training time (minutes)=', '0.1060', 'loss=', '0.001315753')\n",
      "('Epoch:', '0144', 'training time (minutes)=', '0.1041', 'loss=', '0.001313764')\n",
      "('Epoch:', '0145', 'training time (minutes)=', '0.1148', 'loss=', '0.001312261')\n",
      "('Epoch:', '0146', 'training time (minutes)=', '0.1050', 'loss=', '0.001311895')\n",
      "('Epoch:', '0147', 'training time (minutes)=', '0.1053', 'loss=', '0.001311179')\n",
      "('Epoch:', '0148', 'training time (minutes)=', '0.1097', 'loss=', '0.001309188')\n",
      "('Epoch:', '0149', 'training time (minutes)=', '0.1114', 'loss=', '0.001307313')\n",
      "('Epoch:', '0150', 'training time (minutes)=', '0.1065', 'loss=', '0.001307359')\n",
      "('Epoch:', '0151', 'training time (minutes)=', '0.1044', 'loss=', '0.001307354')\n",
      "('Epoch:', '0152', 'training time (minutes)=', '0.1068', 'loss=', '0.001305049')\n",
      "('Epoch:', '0153', 'training time (minutes)=', '0.1145', 'loss=', '0.001304922')\n",
      "('Epoch:', '0154', 'training time (minutes)=', '0.1051', 'loss=', '0.001304169')\n",
      "('Epoch:', '0155', 'training time (minutes)=', '0.1080', 'loss=', '0.001302754')\n",
      "('Epoch:', '0156', 'training time (minutes)=', '0.1040', 'loss=', '0.001300917')\n",
      "('Epoch:', '0157', 'training time (minutes)=', '0.1053', 'loss=', '0.001300491')\n",
      "('Epoch:', '0158', 'training time (minutes)=', '0.1079', 'loss=', '0.001298986')\n",
      "('Epoch:', '0159', 'training time (minutes)=', '0.1057', 'loss=', '0.001298840')\n",
      "('Epoch:', '0160', 'training time (minutes)=', '0.1043', 'loss=', '0.001297858')\n",
      "('Epoch:', '0161', 'training time (minutes)=', '0.1074', 'loss=', '0.001295538')\n",
      "('Epoch:', '0162', 'training time (minutes)=', '0.1151', 'loss=', '0.001294973')\n",
      "('Epoch:', '0163', 'training time (minutes)=', '0.1103', 'loss=', '0.001294056')\n",
      "('Epoch:', '0164', 'training time (minutes)=', '0.1052', 'loss=', '0.001293703')\n",
      "('Epoch:', '0165', 'training time (minutes)=', '0.1052', 'loss=', '0.001291632')\n",
      "('Epoch:', '0166', 'training time (minutes)=', '0.1126', 'loss=', '0.001292520')\n",
      "('Epoch:', '0167', 'training time (minutes)=', '0.1071', 'loss=', '0.001290291')\n",
      "('Epoch:', '0168', 'training time (minutes)=', '0.1054', 'loss=', '0.001290458')\n",
      "('Epoch:', '0169', 'training time (minutes)=', '0.1120', 'loss=', '0.001287564')\n",
      "('Epoch:', '0170', 'training time (minutes)=', '0.1062', 'loss=', '0.001289201')\n",
      "('Epoch:', '0171', 'training time (minutes)=', '0.1063', 'loss=', '0.001286948')\n",
      "('Epoch:', '0172', 'training time (minutes)=', '0.1137', 'loss=', '0.001286663')\n",
      "('Epoch:', '0173', 'training time (minutes)=', '0.1031', 'loss=', '0.001284784')\n",
      "('Epoch:', '0174', 'training time (minutes)=', '0.1169', 'loss=', '0.001284245')\n",
      "('Epoch:', '0175', 'training time (minutes)=', '0.1058', 'loss=', '0.001283401')\n",
      "('Epoch:', '0176', 'training time (minutes)=', '0.1058', 'loss=', '0.001282555')\n",
      "('Epoch:', '0177', 'training time (minutes)=', '0.1071', 'loss=', '0.001282163')\n",
      "('Epoch:', '0178', 'training time (minutes)=', '0.1040', 'loss=', '0.001281185')\n",
      "('Epoch:', '0179', 'training time (minutes)=', '0.1139', 'loss=', '0.001279892')\n",
      "('Epoch:', '0180', 'training time (minutes)=', '0.1207', 'loss=', '0.001279733')\n",
      "('Epoch:', '0181', 'training time (minutes)=', '0.1064', 'loss=', '0.001277909')\n",
      "('Epoch:', '0182', 'training time (minutes)=', '0.1137', 'loss=', '0.001278683')\n",
      "('Epoch:', '0183', 'training time (minutes)=', '0.1062', 'loss=', '0.001276808')\n",
      "('Epoch:', '0184', 'training time (minutes)=', '0.1035', 'loss=', '0.001277260')\n",
      "('Epoch:', '0185', 'training time (minutes)=', '0.1168', 'loss=', '0.001275280')\n",
      "('Epoch:', '0186', 'training time (minutes)=', '0.1063', 'loss=', '0.001275026')\n",
      "('Epoch:', '0187', 'training time (minutes)=', '0.1069', 'loss=', '0.001273338')\n",
      "('Epoch:', '0188', 'training time (minutes)=', '0.1085', 'loss=', '0.001273297')\n",
      "('Epoch:', '0189', 'training time (minutes)=', '0.1076', 'loss=', '0.001272935')\n",
      "('Epoch:', '0190', 'training time (minutes)=', '0.1058', 'loss=', '0.001272056')\n",
      "('Epoch:', '0191', 'training time (minutes)=', '0.1082', 'loss=', '0.001270581')\n",
      "('Epoch:', '0192', 'training time (minutes)=', '0.1062', 'loss=', '0.001270394')\n",
      "('Epoch:', '0193', 'training time (minutes)=', '0.1091', 'loss=', '0.001269250')\n",
      "('Epoch:', '0194', 'training time (minutes)=', '0.1299', 'loss=', '0.001268030')\n",
      "('Epoch:', '0195', 'training time (minutes)=', '0.1376', 'loss=', '0.001268057')\n",
      "('Epoch:', '0196', 'training time (minutes)=', '0.1176', 'loss=', '0.001266996')\n",
      "('Epoch:', '0197', 'training time (minutes)=', '0.1067', 'loss=', '0.001266549')\n",
      "('Epoch:', '0198', 'training time (minutes)=', '0.1056', 'loss=', '0.001265245')\n",
      "('Epoch:', '0199', 'training time (minutes)=', '0.1063', 'loss=', '0.001265053')\n",
      "('Epoch:', '0200', 'training time (minutes)=', '0.1058', 'loss=', '0.001264475')\n",
      "('Epoch:', '0201', 'training time (minutes)=', '0.1077', 'loss=', '0.001263591')\n",
      "('Epoch:', '0202', 'training time (minutes)=', '0.1063', 'loss=', '0.001262905')\n",
      "('Epoch:', '0203', 'training time (minutes)=', '0.1050', 'loss=', '0.001263427')\n",
      "('Epoch:', '0204', 'training time (minutes)=', '0.1052', 'loss=', '0.001261989')\n",
      "('Epoch:', '0205', 'training time (minutes)=', '0.1107', 'loss=', '0.001261021')\n",
      "('Epoch:', '0206', 'training time (minutes)=', '0.1044', 'loss=', '0.001259817')\n",
      "('Epoch:', '0207', 'training time (minutes)=', '0.1070', 'loss=', '0.001259827')\n",
      "('Epoch:', '0208', 'training time (minutes)=', '0.1115', 'loss=', '0.001259510')\n",
      "('Epoch:', '0209', 'training time (minutes)=', '0.1081', 'loss=', '0.001258346')\n",
      "('Epoch:', '0210', 'training time (minutes)=', '0.1135', 'loss=', '0.001257588')\n",
      "('Epoch:', '0211', 'training time (minutes)=', '0.1177', 'loss=', '0.001256954')\n",
      "('Epoch:', '0212', 'training time (minutes)=', '0.1092', 'loss=', '0.001256019')"
     ]
    }
   ],
   "source": [
    "reset_tf_graph()\n",
    "set_visible_GPUs([0])\n",
    "ae = PointNetAutoEncoder(experiment_name, conf)\n",
    "\n",
    "if do_training:\n",
    "    ae.train(train_data, conf)\n",
    "\n",
    "else:\n",
    "    saved_epochs = read_saved_epochs(conf.train_dir)\n",
    "    ae.restore_model(train_dir, saved_epochs[-1])"
   ]
  },
  {
   "cell_type": "code",
   "execution_count": null,
   "metadata": {
    "collapsed": false
   },
   "outputs": [],
   "source": [
    "# plot_epochs = saved_epochs[::len(saved_epochs)/10]\n",
    "# stats = eval_model(vae, conf, [train_data, val_data, test_data], epochs=plot_epochs, verbose=True)\n",
    "# top_save_dir = osp.join(top_data_dir, 'OUT/model_evaluation/?/', experiment_name)\n",
    "# plot_train_val_test_curves(stats, top_save_dir, has_validation=True, best_epoch=None, show=True)"
   ]
  }
 ],
 "metadata": {
  "kernelspec": {
   "display_name": "Python 2",
   "language": "python",
   "name": "python2"
  },
  "language_info": {
   "codemirror_mode": {
    "name": "ipython",
    "version": 2
   },
   "file_extension": ".py",
   "mimetype": "text/x-python",
   "name": "python",
   "nbconvert_exporter": "python",
   "pygments_lexer": "ipython2",
   "version": "2.7.6"
  }
 },
 "nbformat": 4,
 "nbformat_minor": 0
}
