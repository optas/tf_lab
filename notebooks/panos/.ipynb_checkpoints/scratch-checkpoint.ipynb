{
 "cells": [
  {
   "cell_type": "markdown",
   "metadata": {},
   "source": [
    "# Point Cloud AutoEncoders \"Experimental\"\n"
   ]
  },
  {
   "cell_type": "code",
   "execution_count": 1,
   "metadata": {
    "collapsed": false
   },
   "outputs": [],
   "source": [
    "import sys\n",
    "import numpy as np\n",
    "import os.path as osp\n",
    "import tensorflow as tf\n",
    "import matplotlib.pyplot as plt\n",
    "\n",
    "from general_tools.in_out import create_dir"
   ]
  },
  {
   "cell_type": "code",
   "execution_count": 2,
   "metadata": {
    "collapsed": false
   },
   "outputs": [],
   "source": [
    "%load_ext autoreload\n",
    "%autoreload 2\n",
    "%matplotlib inline"
   ]
  },
  {
   "cell_type": "code",
   "execution_count": 3,
   "metadata": {
    "collapsed": false
   },
   "outputs": [],
   "source": [
    "DATA_PATH_ORIGINAL = '/Users/optas/DATA/Point_Clouds/Shape_Net_Core/3000/no_segmentations/03001627/'\n",
    "DATA_PATH = '/Users/optas/Desktop/test3/'\n",
    "LOG_PATH = '/Users/optas/DATA/Neural_Nets/Train_Log/Point_Cloud_AE'\n",
    "MODEL_PATH = '/Users/optas/DATA/Neural_Nets/Models/Point_Cloud_AE'\n",
    "create_dir(LOG_PATH)\n",
    "create_dir(MODEL_PATH)"
   ]
  },
  {
   "cell_type": "code",
   "execution_count": 4,
   "metadata": {
    "collapsed": true
   },
   "outputs": [],
   "source": [
    "QUEUE_EPOCH_FRACTION = 0.1\n",
    "NUM_EPOCHS_PER_DECAY = 8          # Epochs after which learning rate decays.\n",
    "LEARNING_RATE_DECAY_FACTOR = 0.1  # Learning rate decay factor.\n",
    "INITIAL_LEARNING_RATE = 0.001     # Initial learning rate.\n",
    "\n",
    "#     keep_prob = 0.5\n",
    "#     stddev = 5e-2"
   ]
  },
  {
   "cell_type": "code",
   "execution_count": 5,
   "metadata": {
    "collapsed": false
   },
   "outputs": [],
   "source": [
    "from tf_lab.point_clouds import point_cloud_ae as pae\n",
    "from tf_lab.point_clouds.point_cloud_ae import Configuration as ae_conf\n",
    "import tf_lab.point_clouds.in_out as pio\n",
    "from tf_lab.fundamentals.loss import Loss\n",
    "from tf_lab.fundamentals.inspect import hist_summary_of_trainable, sparsity_summary_of_trainable"
   ]
  },
  {
   "cell_type": "code",
   "execution_count": 6,
   "metadata": {
    "collapsed": false
   },
   "outputs": [],
   "source": [
    "config = ae_conf()\n",
    "in_signal, gt_signal = pio.in_out_placeholders(config)\n",
    "model = pae.autoencoder_with_fcs_only(in_signal, config)\n",
    "loss = Loss.l2_loss(model, gt_signal)\n",
    "optimizer = tf.train.GradientDescentOptimizer(INITIAL_LEARNING_RATE).minimize(loss)"
   ]
  },
  {
   "cell_type": "code",
   "execution_count": 7,
   "metadata": {
    "collapsed": false
   },
   "outputs": [],
   "source": [
    "all_summaries = []\n",
    "all_summaries.extend(hist_summary_of_trainable())\n",
    "# summary_2 = sparsity_summary_of_trainable()\n",
    "all_summaries.extend([tf.summary.scalar('Loss.', loss)])\n",
    "all_summaries = tf.merge_summary(all_summaries)\n",
    "train_writer = tf.train.SummaryWriter(LOG_PATH)"
   ]
  },
  {
   "cell_type": "code",
   "execution_count": 12,
   "metadata": {
    "collapsed": false
   },
   "outputs": [
    {
     "name": "stdout",
     "output_type": "stream",
     "text": [
      "6778 files containing  point clouds were found.\n",
      "('Writing', '/Users/optas/Desktop/test3/1006be65e7bc937e9141f9b58470d646.tfrecords')\n",
      "('Writing', '/Users/optas/Desktop/test3/1007e20d5e811b308351982a6e40cf41.tfrecords')\n",
      "('Writing', '/Users/optas/Desktop/test3/100b18376b885f206ae9ad7e32c4139d.tfrecords')\n",
      "('Writing', '/Users/optas/Desktop/test3/1013f70851210a618f2e765c4a8ed3d.tfrecords')\n",
      "('Writing', '/Users/optas/Desktop/test3/1015e71a0d21b127de03ab2a27ba7531.tfrecords')\n",
      "('Writing', '/Users/optas/Desktop/test3/1016f4debe988507589aae130c1f06fb.tfrecords')\n",
      "('Writing', '/Users/optas/Desktop/test3/1022fe7dd03f6a4d4d5ad9f13ac9f4e7.tfrecords')\n",
      "('Writing', '/Users/optas/Desktop/test3/1028b32dc1873c2afe26a3ac360dbd4.tfrecords')\n",
      "('Writing', '/Users/optas/Desktop/test3/1031fc859dc3177a2f84cb7932f866fd.tfrecords')\n",
      "('Writing', '/Users/optas/Desktop/test3/1033ee86cc8bac4390962e4fb7072b86.tfrecords')\n",
      "('Writing', '/Users/optas/Desktop/test3/103a0a413d4c3353a723872ad91e4ed1.tfrecords')\n",
      "('Writing', '/Users/optas/Desktop/test3/103a60f3b09107df2da1314e036b435e.tfrecords')\n",
      "('Writing', '/Users/optas/Desktop/test3/103b75dfd146976563ed57e35c972b4b.tfrecords')\n",
      "('Writing', '/Users/optas/Desktop/test3/103c31671f8c0b1467bb14b25f99796e.tfrecords')\n",
      "('Writing', '/Users/optas/Desktop/test3/103d77d63f0d68a044e6721e9db29c1b.tfrecords')\n",
      "('Writing', '/Users/optas/Desktop/test3/104256e5bb73b0b719fb4103277a6b93.tfrecords')\n",
      "('Writing', '/Users/optas/Desktop/test3/1049953406c81b237eaeab1f0c9120b7.tfrecords')\n",
      "('Writing', '/Users/optas/Desktop/test3/1055f78d441d170c4f3443b22038d340.tfrecords')\n",
      "('Writing', '/Users/optas/Desktop/test3/1063d4fcd366de4060e37b3f76995f8b.tfrecords')\n",
      "('Writing', '/Users/optas/Desktop/test3/106a0dbaead5066519fb4103277a6b93.tfrecords')\n",
      "('Writing', '/Users/optas/Desktop/test3/106c7f10c5bf5bd5f51f77a6d7299806.tfrecords')\n",
      "('Writing', '/Users/optas/Desktop/test3/106e9487a1d47ff1a09cb462b3e723e2.tfrecords')\n",
      "('Writing', '/Users/optas/Desktop/test3/10709332176024ce9e47e7a22e24daa3.tfrecords')\n",
      "('Writing', '/Users/optas/Desktop/test3/1079635b3da12a812cee4bf5d0f11ffe.tfrecords')\n",
      "('Writing', '/Users/optas/Desktop/test3/107caefdad02cf1c8ab8e68cb52baa6a.tfrecords')\n",
      "('Writing', '/Users/optas/Desktop/test3/107ed94869ed6f1be13496cd332ce78f.tfrecords')\n",
      "('Writing', '/Users/optas/Desktop/test3/108238b535eb293cd79b19c7c4f0e293.tfrecords')\n",
      "('Writing', '/Users/optas/Desktop/test3/108b9cb292fd811cf51f77a6d7299806.tfrecords')\n",
      "('Writing', '/Users/optas/Desktop/test3/1093d35c2ac73bb74ca84d60642ec7e8.tfrecords')\n",
      "('Writing', '/Users/optas/Desktop/test3/10991b3b01cc6cc99982a4d6320875e.tfrecords')\n",
      "('Writing', '/Users/optas/Desktop/test3/10a1783f635b3fc181dff5c2e57ad46e.tfrecords')\n",
      "('Writing', '/Users/optas/Desktop/test3/10c08a28cae054e53a762233fffc49ea.tfrecords')\n",
      "('Writing', '/Users/optas/Desktop/test3/10d174a00639990492d9da2668ec34c.tfrecords')\n",
      "('Writing', '/Users/optas/Desktop/test3/10d5c2f88b60bbf5febad4f49b26ec52.tfrecords')\n",
      "('Writing', '/Users/optas/Desktop/test3/10dc303144fe5d668d1b9a1d97e2846.tfrecords')\n",
      "('Writing', '/Users/optas/Desktop/test3/10de9af4e91682851e5f7bff98fb8d02.tfrecords')\n",
      "('Writing', '/Users/optas/Desktop/test3/10e523060bb5b51f9ee9f382b1dfb770.tfrecords')\n",
      "('Writing', '/Users/optas/Desktop/test3/11040f463a3895019fb4103277a6b93.tfrecords')\n",
      "('Writing', '/Users/optas/Desktop/test3/110ad013a9ae7a1ab0f4eaf0533e82bb.tfrecords')\n",
      "('Writing', '/Users/optas/Desktop/test3/111720e8cd4c613492d9da2668ec34c.tfrecords')\n",
      "('Writing', '/Users/optas/Desktop/test3/111cb08c8121b8411749672386e0b711.tfrecords')\n",
      "('Writing', '/Users/optas/Desktop/test3/112cee32461c31d1d84b8ba651dfb8ac.tfrecords')\n",
      "('Writing', '/Users/optas/Desktop/test3/113016635d554d5171fb733891076ecf.tfrecords')\n",
      "('Writing', '/Users/optas/Desktop/test3/11347c7e8bc5881775907ca70d2973a4.tfrecords')\n",
      "('Writing', '/Users/optas/Desktop/test3/11355c7f7ffa3c09737d107bffc3cd98.tfrecords')\n",
      "('Writing', '/Users/optas/Desktop/test3/11358c94662a68117e66b3e5c11f24d4.tfrecords')\n",
      "('Writing', '/Users/optas/Desktop/test3/1145248e1eba424d492d9da2668ec34c.tfrecords')\n",
      "('Writing', '/Users/optas/Desktop/test3/114b563de051057fcda85f6a3e19b0a1.tfrecords')\n",
      "('Writing', '/Users/optas/Desktop/test3/114f72b38dcabdf0823f29d871e57676.tfrecords')\n",
      "('Writing', '/Users/optas/Desktop/test3/11506b96d41f7d3dd7c4a943f33e0384.tfrecords')\n",
      "('Writing', '/Users/optas/Desktop/test3/11525a18678f7ce6ae1e1181f20bb9c8.tfrecords')\n",
      "('Writing', '/Users/optas/Desktop/test3/1157d8d6995da5c0290d57214c8512a4.tfrecords')\n",
      "('Writing', '/Users/optas/Desktop/test3/115b11a77b8d8c3c110a27d1d78196.tfrecords')\n",
      "('Writing', '/Users/optas/Desktop/test3/1166b15756ed9b8897317616969032.tfrecords')\n",
      "('Writing', '/Users/optas/Desktop/test3/116a9cd5ac9a008ee8cb931b01d0a372.tfrecords')\n",
      "('Writing', '/Users/optas/Desktop/test3/116bcb3b43de74b9df9054bbcf5c6adc.tfrecords')\n",
      "('Writing', '/Users/optas/Desktop/test3/11740d372308f12185047f9f654ddc2e.tfrecords')\n",
      "('Writing', '/Users/optas/Desktop/test3/117930a8f2e37f9b707cdefe012d0353.tfrecords')\n",
      "('Writing', '/Users/optas/Desktop/test3/117bd6da01905949a81116f5456ee312.tfrecords')\n",
      "('Writing', '/Users/optas/Desktop/test3/117c0e0aafc0c3f81015cdff13e6d9f3.tfrecords')\n",
      "('Writing', '/Users/optas/Desktop/test3/1190af00b6c86c99c3bd24f986301745.tfrecords')\n",
      "('Writing', '/Users/optas/Desktop/test3/1196ffab55e431e11b17743c18fb63dc.tfrecords')\n",
      "('Writing', '/Users/optas/Desktop/test3/11a06e6f68b1d99c8687ff9b0b4e4ac.tfrecords')\n",
      "('Writing', '/Users/optas/Desktop/test3/11b7c86fc42306ec7e7e25239e7b8f85.tfrecords')\n",
      "('Writing', '/Users/optas/Desktop/test3/11c7675a3dbc0d32f7287e3d21227e43.tfrecords')\n",
      "('Writing', '/Users/optas/Desktop/test3/11c8f43ef796e23941e621b1a4bf507f.tfrecords')\n",
      "('Writing', '/Users/optas/Desktop/test3/11c9c57efad0b5ec297936c81e7f6629.tfrecords')\n",
      "('Writing', '/Users/optas/Desktop/test3/11d3fc4092e616a7a6fee8e2140acec9.tfrecords')\n",
      "('Writing', '/Users/optas/Desktop/test3/11d4f2a09184ec972b9f810ad7f5cbd2.tfrecords')\n",
      "('Writing', '/Users/optas/Desktop/test3/11d8814ed60b54002449009b96f8a6ed.tfrecords')\n",
      "('Writing', '/Users/optas/Desktop/test3/11d9817e65d7ead6b87028a4b477349f.tfrecords')\n",
      "('Writing', '/Users/optas/Desktop/test3/11dac7c4d7e4b32af9aec59741c69cf7.tfrecords')\n",
      "('Writing', '/Users/optas/Desktop/test3/11dba3a8d7b7210f5ff61a3a2a0e2484.tfrecords')\n",
      "('Writing', '/Users/optas/Desktop/test3/11e0f0dfd3d0b22130ddb6ead95f49cc.tfrecords')\n",
      "('Writing', '/Users/optas/Desktop/test3/11e28120789c20abc8687ff9b0b4e4ac.tfrecords')\n",
      "('Writing', '/Users/optas/Desktop/test3/11e521e41ff6a64922e4620665c23c97.tfrecords')\n",
      "('Writing', '/Users/optas/Desktop/test3/11e55ca087c74082feec1f13d2353f3.tfrecords')\n",
      "('Writing', '/Users/optas/Desktop/test3/11e6e58798ae5be83e5b5dbd84cdd0f8.tfrecords')\n",
      "('Writing', '/Users/optas/Desktop/test3/11f1511799d033ff7962150cab9888d6.tfrecords')\n",
      "('Writing', '/Users/optas/Desktop/test3/11fa9b044482814ef91663a74ccd2338.tfrecords')\n",
      "('Writing', '/Users/optas/Desktop/test3/11ff2e9f9b0993b7f51f77a6d7299806.tfrecords')\n",
      "('Writing', '/Users/optas/Desktop/test3/120735afde493c277ff6ace05b36a5.tfrecords')\n",
      "('Writing', '/Users/optas/Desktop/test3/122a480cfcdd742650c626aa72455dae.tfrecords')\n",
      "('Writing', '/Users/optas/Desktop/test3/1230d31e3a6cbf309cd431573238602d.tfrecords')\n",
      "('Writing', '/Users/optas/Desktop/test3/123305d8ccc0dc6346918a1d9c256af3.tfrecords')\n",
      "('Writing', '/Users/optas/Desktop/test3/123b44b99e48eccb6960dc525de2f934.tfrecords')\n",
      "('Writing', '/Users/optas/Desktop/test3/124117cdec71699850c2ec40da48fd9d.tfrecords')\n",
      "('Writing', '/Users/optas/Desktop/test3/124ef426dfa0aa38ff6069724068a578.tfrecords')\n",
      "('Writing', '/Users/optas/Desktop/test3/126e65c55961e5c166f17d3ad78f5a62.tfrecords')\n",
      "('Writing', '/Users/optas/Desktop/test3/128517f2992b6fb92057e1ae1c4cc928.tfrecords')\n",
      "('Writing', '/Users/optas/Desktop/test3/12a56b6d02a93c5c711beb49b60c734f.tfrecords')\n",
      "('Writing', '/Users/optas/Desktop/test3/12c2b7080b07146a9d4d5dcd2cc33826.tfrecords')\n",
      "('Writing', '/Users/optas/Desktop/test3/12d7ca3c06faaadf17b431cae0dd70ed.tfrecords')\n",
      "('Writing', '/Users/optas/Desktop/test3/12f395270a3316d01666e1246e760f82.tfrecords')\n",
      "('Writing', '/Users/optas/Desktop/test3/12f4d8c20ef311d988dcbe86402c7c15.tfrecords')\n",
      "('Writing', '/Users/optas/Desktop/test3/13076ebf8b5cc457b8d6f69a14683de3.tfrecords')\n",
      "('Writing', '/Users/optas/Desktop/test3/131abb0b13d6c5b97f0b1e4f6d35b0ba.tfrecords')\n",
      "('Writing', '/Users/optas/Desktop/test3/131edf0948b60ee6372c8cd7d07d8ddc.tfrecords')\n",
      "('Writing', '/Users/optas/Desktop/test3/13990109140043c919fb4103277a6b93.tfrecords')\n",
      "('Writing', '/Users/optas/Desktop/test3/13b6648bdc843b767b5f4d129cc2873d.tfrecords')\n"
     ]
    }
   ],
   "source": [
    "import itertools\n",
    "def flatten(list_of_lists):\n",
    "    \"\"\"Flatten one level of nesting.\"\"\"\n",
    "    return itertools.chain.from_iterable(list_of_lists)\n",
    "\n",
    "def _float_feature(value):\n",
    "    return tf.train.Feature(float_list=tf.train.FloatList(value=value))\n",
    "\n",
    "def _bytes_feature(value):\n",
    "    return tf.train.Feature(bytes_list=tf.train.BytesList(value=[value]))\n",
    "\n",
    "def convert_pcloud_to_tfrecord(file_names, out_dir):\n",
    "    '''Converts the point-clouds listed to tfrecords.\n",
    "    '''    \n",
    "    for file_name in file_names:        \n",
    "        \n",
    "        pcloud_raw = pio.load_crude_point_cloud(file_name)        \n",
    "\n",
    "        \n",
    "#         pcloud_raw = pcloud_raw.tostring()\n",
    "        pcloud_raw = pcloud_raw.flatten().tolist()\n",
    "    \n",
    "        model_name = osp.basename(file_name).split('_')[0]\n",
    "        out_file = osp.join(out_dir, model_name + '.tfrecords')\n",
    "        print('Writing', out_file)        \n",
    "        writer = tf.python_io.TFRecordWriter(out_file)\n",
    "\n",
    "        example = tf.train.Example(features=tf.train.Features\\\n",
    "                  (feature={'pcloud_raw': _float_feature(pcloud_raw)}))\n",
    "        \n",
    "#         # Construct an Example proto object.\n",
    "#         example = tf.train.Example(\\\n",
    "#             # Example contains a Features proto object.\n",
    "#             features=tf.train.Features\\\n",
    "#                 # Features contains a map of string to Feature proto objects.\n",
    "#                 (feature={'pcloud_raw': _bytes_feature(pcloud_raw)}))\n",
    "\n",
    "        # Use the proto object to serialize the example to a string.\n",
    "        serialized = example.SerializeToString()\n",
    "        # Write the serialized object to disk.\n",
    "        writer.write(serialized)        \n",
    "        writer.close()\n",
    "\n",
    "file_names_ori = pio.load_filenames_of_input_data(DATA_PATH_ORIGINAL)\n",
    "file_names_ori = file_names_ori[:100]\n",
    "\n",
    "\n",
    "convert_pcloud_to_tfrecord(file_names_ori, '/Users/optas/Desktop/test3')"
   ]
  },
  {
   "cell_type": "code",
   "execution_count": null,
   "metadata": {
    "collapsed": true
   },
   "outputs": [],
   "source": []
  },
  {
   "cell_type": "code",
   "execution_count": 14,
   "metadata": {
    "collapsed": false
   },
   "outputs": [],
   "source": [
    "def read_and_decode(filename_queue):\n",
    "    reader = tf.TFRecordReader()\n",
    "    _, serialized_example = reader.read(filename_queue)\n",
    "\n",
    "    features = tf.parse_single_example(serialized_example,\\\n",
    "        features={'pcloud_raw' : tf.FixedLenFeature(shape=[3000,3], dtype=tf.string)})  # WE Need to make something here \n",
    "\n",
    "    pcloud = tf.decode_raw(features['pcloud_raw'], tf.float32)\n",
    "    print pcloud\n",
    "    \n",
    "#     n_points = 3000; original_embedding = 3\n",
    "#     pcloud.set_shape([n_points, original_embedding]) # WE Need to make something here \n",
    "\n",
    "    return pcloud\n",
    "    \n",
    "    \n",
    "\n",
    "def input_point_cloud(filenames, batch_size, num_epochs=None):    \n",
    "    with tf.name_scope('input'):        \n",
    "        filename_queue = tf.train.string_input_producer(filenames, num_epochs=num_epochs, shuffle=True)    \n",
    "        example = read_and_decode(filename_queue)\n",
    "\n",
    "        min_after_dequeue = 10000\n",
    "        capacity = min_after_dequeue + 3 * batch_size\n",
    "\n",
    "        example_batch = tf.train.shuffle_batch(\\\n",
    "                                     [example], batch_size=batch_size, capacity=capacity,\\\n",
    "                                     min_after_dequeue=min_after_dequeue)\n",
    "\n",
    "    return example_batch"
   ]
  },
  {
   "cell_type": "code",
   "execution_count": 15,
   "metadata": {
    "collapsed": false
   },
   "outputs": [
    {
     "name": "stdout",
     "output_type": "stream",
     "text": [
      "2000\n"
     ]
    }
   ],
   "source": [
    "import glob\n",
    "tf_rec_extension = '.tfrecords'\n",
    "file_names = glob.glob(osp.join(DATA_PATH, '*' + tf_rec_extension))\n",
    "pc_len = len(file_names)\n",
    "total_steps = (pc_len // config.batch_size) * config.training_epochs\n",
    "print total_steps"
   ]
  },
  {
   "cell_type": "code",
   "execution_count": null,
   "metadata": {
    "collapsed": false
   },
   "outputs": [],
   "source": [
    "# file_generator = pio.chunks(in_files, config.batch_size)\n",
    "# with tf.Session() as sess:\n",
    "with tf.Graph().as_default():\n",
    "    with tf.Session() as sess:\n",
    "\n",
    "        init_op = tf.initialize_all_variables()\n",
    "        sess.run(init_op)\n",
    "    \n",
    "        # Start populating the filename queue.\n",
    "        coord = tf.train.Coordinator()\n",
    "        threads = tf.train.start_queue_runners(coord=coord)\n",
    "\n",
    "\n",
    "        filename_queue = tf.train.string_input_producer(file_names, num_epochs=None, shuffle=True)\n",
    "\n",
    "        lala = sess.run(read_and_decode(filename_queue))\n",
    "        print lala[0]\n",
    "    \n",
    "#     init_op = tf.initialize_all_variables()\n",
    "    \n",
    "    coord.request_stop()\n",
    "    coord.join(threads)"
   ]
  },
  {
   "cell_type": "code",
   "execution_count": null,
   "metadata": {
    "collapsed": true
   },
   "outputs": [],
   "source": [
    "\n",
    "https://indico.io/blog/tensorflow-data-inputs-part1-placeholders-protobufs-queues/\n",
    "\n",
    "#     for step in xrange(total_steps):\n",
    "# #         pclouds, _ = pio.load_crude_point_clouds(file_names=file_generator.next())\n",
    "# #         pclouds = np.array(pclouds)\n",
    "\n",
    "#         pclouds = input_pipeline(file_names, config.batch_size)\n",
    "#         print pclouds\n",
    "        \n",
    "# #         feed_dict = {in_signal:pclouds, gt_signal:pclouds}    \n",
    "# #         _, l, s = sess.run([optimizer, loss, all_summaries], feed_dict=feed_dict)\n",
    "# #         print l\n",
    "# #         train_writer.add_summary(s, step)"
   ]
  }
 ],
 "metadata": {
  "anaconda-cloud": {},
  "kernelspec": {
   "display_name": "Python [default]",
   "language": "python",
   "name": "python2"
  },
  "language_info": {
   "codemirror_mode": {
    "name": "ipython",
    "version": 2
   },
   "file_extension": ".py",
   "mimetype": "text/x-python",
   "name": "python",
   "nbconvert_exporter": "python",
   "pygments_lexer": "ipython2",
   "version": "2.7.12"
  }
 },
 "nbformat": 4,
 "nbformat_minor": 1
}
