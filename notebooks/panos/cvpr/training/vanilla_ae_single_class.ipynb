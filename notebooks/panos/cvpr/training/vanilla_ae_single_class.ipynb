{
 "cells": [
  {
   "cell_type": "code",
   "execution_count": 1,
   "metadata": {
    "collapsed": false,
    "deletable": true,
    "editable": true
   },
   "outputs": [
    {
     "name": "stdout",
     "output_type": "stream",
     "text": [
      "Picking GPU 0\n"
     ]
    }
   ],
   "source": [
    "from general_tools.notebook.gpu_utils import setup_one_gpu\n",
    "GPU = 0\n",
    "setup_one_gpu(GPU)"
   ]
  },
  {
   "cell_type": "code",
   "execution_count": 2,
   "metadata": {
    "collapsed": false,
    "deletable": true,
    "editable": true
   },
   "outputs": [
    {
     "name": "stderr",
     "output_type": "stream",
     "text": [
      "/usr/local/lib/python2.7/dist-packages/matplotlib/font_manager.py:273: UserWarning: Matplotlib is building the font cache using fc-list. This may take a moment.\n",
      "  warnings.warn('Matplotlib is building the font cache using fc-list. This may take a moment.')\n"
     ]
    }
   ],
   "source": [
    "import sys\n",
    "import time\n",
    "import numpy as np\n",
    "import os.path as osp\n",
    "import tensorflow as tf\n",
    "import matplotlib.pyplot as plt\n",
    "\n",
    "from general_tools.notebook.tf import reset_tf_graph\n",
    "\n",
    "import tf_lab.point_clouds.in_out as pio\n",
    "\n",
    "from tf_lab.point_clouds.in_out import PointCloudDataSet, write_model_ids_of_datasets\n",
    "from tf_lab.point_clouds.point_net_ae import PointNetAutoEncoder\n",
    "from tf_lab.point_clouds.autoencoder import Configuration as Conf\n",
    "import tf_lab.point_clouds.encoders_decoders as enc_dec\n",
    "\n",
    "\n",
    "from tf_lab.autopredictors.scripts.helper import shape_net_category_to_synth_id\n",
    "\n",
    "\n",
    "from tf_lab.autopredictors.plotting import plot_original_pclouds_vs_reconstructed, \\\n",
    "                                           plot_train_val_test_curves, plot_reconstructions_at_epoch\n",
    "\n",
    "\n",
    "from tf_lab.autopredictors.evaluate import eval_model, read_saved_epochs\n",
    "                                                  \n",
    "\n",
    "from general_tools.in_out.basics import create_dir, delete_files_in_directory, files_in_subdirs\n",
    "from general_tools.simpletons import select_first_last_and_k\n",
    "from geo_tool import Point_Cloud\n",
    "\n",
    "from tf_lab.nips.shape_net import pc_loader as sn_pc_loader\n",
    "from tf_lab.nips.helper import center_pclouds_in_unit_sphere"
   ]
  },
  {
   "cell_type": "code",
   "execution_count": 3,
   "metadata": {
    "collapsed": false,
    "deletable": true,
    "editable": true
   },
   "outputs": [],
   "source": [
    "%load_ext autoreload\n",
    "%autoreload 2\n",
    "%matplotlib inline"
   ]
  },
  {
   "cell_type": "code",
   "execution_count": 5,
   "metadata": {
    "collapsed": false,
    "deletable": true,
    "editable": true
   },
   "outputs": [
    {
     "name": "stdout",
     "output_type": "stream",
     "text": [
      "Give me the class type: table\n",
      "Give me the bottle-neck size: 128\n"
     ]
    },
    {
     "data": {
      "text/plain": [
       "'/orions4-zfs/projects/lins2/Panos_Space/DATA/OUT/3d_neighbs_as_context/nn_models/ae_farming/table_conv_arch_bneck_128_2048pts_emd'"
      ]
     },
     "execution_count": 5,
     "metadata": {},
     "output_type": "execute_result"
    }
   ],
   "source": [
    "n_pc_samples = 2048\n",
    "do_training = True\n",
    "first_time_running = True\n",
    "load_model = False\n",
    "load_epoch = None\n",
    "seed = 42\n",
    "\n",
    "max_training_epochs = 1000\n",
    "loss = 'emd'\n",
    "\n",
    "class_name = raw_input('Give me the class type: ').lower()\n",
    "bottleneck = int(raw_input('Give me the bottle-neck size: '))\n",
    "\n",
    "syn_id = shape_net_category_to_synth_id()[class_name]\n",
    "\n",
    "experiment_name =  class_name + '_' + 'conv_arch_bneck_' + str(bottleneck) + '_' + str(n_pc_samples) +  'pts_' + loss\n",
    "\n",
    "top_data_dir = '/orions4-zfs/projects/lins2/Panos_Space/DATA/'\n",
    "train_dir = osp.join(top_data_dir, 'OUT/3d_neighbs_as_context/nn_models/ae_farming')\n",
    "train_dir = osp.join(train_dir, experiment_name)\n",
    "create_dir(train_dir)"
   ]
  },
  {
   "cell_type": "code",
   "execution_count": 6,
   "metadata": {
    "collapsed": false,
    "deletable": true,
    "editable": true
   },
   "outputs": [
    {
     "name": "stdout",
     "output_type": "stream",
     "text": [
      "8509 files containing complete point clouds were found.\n"
     ]
    }
   ],
   "source": [
    "# Load Raw Point-Clouds of class\n",
    "pclouds_path = osp.join(top_data_dir, 'Point_Clouds/Shape_Net/Core/from_manifold_meshes/centered/', str(n_pc_samples))\n",
    "pclouds_path = osp.join(pclouds_path, syn_id)\n",
    "file_names = pio.load_filenames_of_input_data(pclouds_path, '.ply')\n",
    "pclouds, model_ids, syn_ids = pio.load_crude_point_clouds(file_names=file_names, n_threads=50, loader=sn_pc_loader)\n",
    "print '%d files containing complete point clouds were found.' % (len(pclouds), )\n",
    "\n",
    "train_data = PointCloudDataSet(pclouds)"
   ]
  },
  {
   "cell_type": "code",
   "execution_count": null,
   "metadata": {
    "collapsed": false,
    "deletable": true,
    "editable": true
   },
   "outputs": [],
   "source": [
    "if n_pc_samples == 2048:\n",
    "    encoder_args = {'n_filters': [128, 128, 256, bottleneck],\n",
    "                    'filter_sizes' :[40, 20, 10, 10],\n",
    "                    'strides': [1, 2, 2, 1]}\n",
    "else:\n",
    "    assert(False)\n",
    "    \n",
    "if load_model:\n",
    "    conf = Conf.load(osp.join(train_dir, 'configuration'))\n",
    "    print conf\n",
    "    \n",
    "    \n",
    "else:\n",
    "    n_input = [n_pc_samples, 3]\n",
    "\n",
    "    decoder_args = {'layer_sizes': [1024, 2048, np.prod(n_input)]}\n",
    "\n",
    "    conf = Conf(\n",
    "                n_input = n_input,\n",
    "                training_epochs = max_training_epochs,\n",
    "                batch_size = 50,\n",
    "                loss = loss,\n",
    "                denoising = False,\n",
    "                train_dir = train_dir,\n",
    "                loss_display_step = 1,\n",
    "                saver_step = 10,\n",
    "                learning_rate = 0.0005,\n",
    "                z_rotate = False, \n",
    "                encoder = enc_dec.encoder_with_convs_and_symmetry,\n",
    "                encoder_args = encoder_args,\n",
    "                decoder = enc_dec.decoder_with_fc_only,\n",
    "                decoder_args = decoder_args,        \n",
    "               )\n",
    "\n",
    "    conf.experiment_name = experiment_name\n",
    "    conf.save(osp.join(conf.train_dir, 'configuration'))    \n",
    "    \n",
    "reset_tf_graph()\n",
    "ae = PointNetAutoEncoder(experiment_name, conf)\n",
    "\n",
    "if load_model:\n",
    "\n",
    "    if load_epoch is None: # load last saved.\n",
    "        saved_epochs = read_saved_epochs(conf.train_dir)\n",
    "        load_epoch = saved_epochs[-1]\n",
    "        \n",
    "    ae.restore_model(conf.train_dir, load_epoch, verbose=True)"
   ]
  },
  {
   "cell_type": "code",
   "execution_count": null,
   "metadata": {
    "collapsed": false,
    "deletable": true,
    "editable": true,
    "scrolled": true
   },
   "outputs": [
    {
     "name": "stdout",
     "output_type": "stream",
     "text": [
      "('Epoch:', '0001', 'training time (minutes)=', '0.5058', 'loss=', '224.686668306')\n",
      "INFO:tensorflow:/orions4-zfs/projects/lins2/Panos_Space/DATA/OUT/3d_neighbs_as_context/nn_models/ae_farming/table_conv_arch_bneck_128_2048pts_emd/models.ckpt-1 is not in all_model_checkpoint_paths. Manually adding it.\n",
      "('Epoch:', '0002', 'training time (minutes)=', '0.4940', 'loss=', '155.719744469')\n",
      "('Epoch:', '0003', 'training time (minutes)=', '0.4973', 'loss=', '138.770716364')\n",
      "('Epoch:', '0004', 'training time (minutes)=', '0.5027', 'loss=', '131.692962287')\n",
      "('Epoch:', '0005', 'training time (minutes)=', '0.5002', 'loss=', '126.029739245')\n",
      "('Epoch:', '0006', 'training time (minutes)=', '0.5000', 'loss=', '123.284099713')\n",
      "('Epoch:', '0007', 'training time (minutes)=', '0.5027', 'loss=', '117.822660154')\n",
      "('Epoch:', '0008', 'training time (minutes)=', '0.5076', 'loss=', '115.878090802')\n",
      "('Epoch:', '0009', 'training time (minutes)=', '0.5069', 'loss=', '113.639061243')\n",
      "('Epoch:', '0010', 'training time (minutes)=', '0.5035', 'loss=', '110.881756951')\n",
      "INFO:tensorflow:/orions4-zfs/projects/lins2/Panos_Space/DATA/OUT/3d_neighbs_as_context/nn_models/ae_farming/table_conv_arch_bneck_128_2048pts_emd/models.ckpt-10 is not in all_model_checkpoint_paths. Manually adding it.\n",
      "('Epoch:', '0011', 'training time (minutes)=', '0.5139', 'loss=', '109.506868520')\n",
      "('Epoch:', '0012', 'training time (minutes)=', '0.5175', 'loss=', '108.173625901')\n",
      "('Epoch:', '0013', 'training time (minutes)=', '0.5109', 'loss=', '107.535194038')\n",
      "('Epoch:', '0014', 'training time (minutes)=', '0.5135', 'loss=', '105.777985651')\n",
      "('Epoch:', '0015', 'training time (minutes)=', '0.5107', 'loss=', '102.863502323')\n",
      "('Epoch:', '0016', 'training time (minutes)=', '0.5085', 'loss=', '103.097894915')\n",
      "('Epoch:', '0017', 'training time (minutes)=', '0.5122', 'loss=', '101.379551068')\n",
      "('Epoch:', '0018', 'training time (minutes)=', '0.5100', 'loss=', '101.494945975')\n",
      "('Epoch:', '0019', 'training time (minutes)=', '0.5124', 'loss=', '100.334732415')\n",
      "('Epoch:', '0020', 'training time (minutes)=', '0.5112', 'loss=', '99.440301065')\n",
      "INFO:tensorflow:/orions4-zfs/projects/lins2/Panos_Space/DATA/OUT/3d_neighbs_as_context/nn_models/ae_farming/table_conv_arch_bneck_128_2048pts_emd/models.ckpt-20 is not in all_model_checkpoint_paths. Manually adding it.\n",
      "('Epoch:', '0021', 'training time (minutes)=', '0.5127', 'loss=', '98.062216546')\n",
      "('Epoch:', '0022', 'training time (minutes)=', '0.5041', 'loss=', '97.645422363')\n",
      "('Epoch:', '0023', 'training time (minutes)=', '0.5138', 'loss=', '96.785526590')\n",
      "('Epoch:', '0024', 'training time (minutes)=', '0.5174', 'loss=', '95.977039158')\n",
      "('Epoch:', '0025', 'training time (minutes)=', '0.5149', 'loss=', '95.956517478')\n",
      "('Epoch:', '0026', 'training time (minutes)=', '0.5103', 'loss=', '95.462285210')\n",
      "('Epoch:', '0027', 'training time (minutes)=', '0.5314', 'loss=', '94.522521075')\n",
      "('Epoch:', '0028', 'training time (minutes)=', '0.5214', 'loss=', '93.585188069')\n",
      "('Epoch:', '0029', 'training time (minutes)=', '0.5274', 'loss=', '93.621424372')\n",
      "('Epoch:', '0030', 'training time (minutes)=', '0.5235', 'loss=', '92.251767461')\n",
      "INFO:tensorflow:/orions4-zfs/projects/lins2/Panos_Space/DATA/OUT/3d_neighbs_as_context/nn_models/ae_farming/table_conv_arch_bneck_128_2048pts_emd/models.ckpt-30 is not in all_model_checkpoint_paths. Manually adding it.\n",
      "('Epoch:', '0031', 'training time (minutes)=', '0.5139', 'loss=', '90.938327430')\n",
      "('Epoch:', '0032', 'training time (minutes)=', '0.5307', 'loss=', '91.076691706')\n",
      "('Epoch:', '0033', 'training time (minutes)=', '0.5204', 'loss=', '91.197626989')\n",
      "('Epoch:', '0034', 'training time (minutes)=', '0.5254', 'loss=', '90.693713199')\n",
      "('Epoch:', '0035', 'training time (minutes)=', '0.5112', 'loss=', '90.484161377')\n",
      "('Epoch:', '0036', 'training time (minutes)=', '0.5303', 'loss=', '89.178742353')\n",
      "('Epoch:', '0037', 'training time (minutes)=', '0.5110', 'loss=', '88.842287939')\n",
      "('Epoch:', '0038', 'training time (minutes)=', '0.5297', 'loss=', '88.945798089')\n",
      "('Epoch:', '0039', 'training time (minutes)=', '0.5264', 'loss=', '88.204785246')\n",
      "('Epoch:', '0040', 'training time (minutes)=', '0.5294', 'loss=', '87.507453380')\n",
      "INFO:tensorflow:/orions4-zfs/projects/lins2/Panos_Space/DATA/OUT/3d_neighbs_as_context/nn_models/ae_farming/table_conv_arch_bneck_128_2048pts_emd/models.ckpt-40 is not in all_model_checkpoint_paths. Manually adding it.\n",
      "('Epoch:', '0041', 'training time (minutes)=', '0.5213', 'loss=', '87.273782079')\n",
      "('Epoch:', '0042', 'training time (minutes)=', '0.5186', 'loss=', '86.686197977')\n",
      "('Epoch:', '0043', 'training time (minutes)=', '0.5604', 'loss=', '86.290458410')\n",
      "('Epoch:', '0044', 'training time (minutes)=', '0.5264', 'loss=', '86.529744182')\n",
      "('Epoch:', '0045', 'training time (minutes)=', '0.5151', 'loss=', '86.272042667')\n",
      "('Epoch:', '0046', 'training time (minutes)=', '0.5237', 'loss=', '84.949873083')\n",
      "('Epoch:', '0047', 'training time (minutes)=', '0.5188', 'loss=', '84.226932571')\n",
      "('Epoch:', '0048', 'training time (minutes)=', '0.5221', 'loss=', '84.895477609')\n",
      "('Epoch:', '0049', 'training time (minutes)=', '0.5458', 'loss=', '84.747678869')\n",
      "('Epoch:', '0050', 'training time (minutes)=', '0.5324', 'loss=', '83.448627382')\n",
      "INFO:tensorflow:/orions4-zfs/projects/lins2/Panos_Space/DATA/OUT/3d_neighbs_as_context/nn_models/ae_farming/table_conv_arch_bneck_128_2048pts_emd/models.ckpt-50 is not in all_model_checkpoint_paths. Manually adding it.\n",
      "('Epoch:', '0051', 'training time (minutes)=', '0.5230', 'loss=', '83.269968369')\n",
      "('Epoch:', '0052', 'training time (minutes)=', '0.5162', 'loss=', '82.938591497')\n",
      "('Epoch:', '0053', 'training time (minutes)=', '0.5443', 'loss=', '82.231619442')\n",
      "('Epoch:', '0054', 'training time (minutes)=', '0.5370', 'loss=', '81.515968906')\n",
      "('Epoch:', '0055', 'training time (minutes)=', '0.5245', 'loss=', '81.721740543')\n",
      "('Epoch:', '0056', 'training time (minutes)=', '0.5251', 'loss=', '82.400978986')\n",
      "('Epoch:', '0057', 'training time (minutes)=', '0.5159', 'loss=', '81.317128574')\n",
      "('Epoch:', '0058', 'training time (minutes)=', '0.5510', 'loss=', '80.453249269')\n",
      "('Epoch:', '0059', 'training time (minutes)=', '0.5270', 'loss=', '80.713443173')\n",
      "('Epoch:', '0060', 'training time (minutes)=', '0.5562', 'loss=', '80.337481286')\n",
      "INFO:tensorflow:/orions4-zfs/projects/lins2/Panos_Space/DATA/OUT/3d_neighbs_as_context/nn_models/ae_farming/table_conv_arch_bneck_128_2048pts_emd/models.ckpt-60 is not in all_model_checkpoint_paths. Manually adding it.\n",
      "('Epoch:', '0061', 'training time (minutes)=', '0.5257', 'loss=', '79.962032228')\n",
      "('Epoch:', '0062', 'training time (minutes)=', '0.5173', 'loss=', '79.443636412')\n",
      "('Epoch:', '0063', 'training time (minutes)=', '0.5465', 'loss=', '79.470848083')\n",
      "('Epoch:', '0064', 'training time (minutes)=', '0.5317', 'loss=', '78.852729079')\n",
      "('Epoch:', '0065', 'training time (minutes)=', '0.5213', 'loss=', '79.023605167')\n",
      "('Epoch:', '0066', 'training time (minutes)=', '0.5290', 'loss=', '78.393074754')\n",
      "('Epoch:', '0067', 'training time (minutes)=', '0.5266', 'loss=', '78.211464960')\n",
      "('Epoch:', '0068', 'training time (minutes)=', '0.5212', 'loss=', '78.015658435')\n",
      "('Epoch:', '0069', 'training time (minutes)=', '0.5381', 'loss=', '77.377377409')\n",
      "('Epoch:', '0070', 'training time (minutes)=', '0.5162', 'loss=', '77.043048859')\n",
      "INFO:tensorflow:/orions4-zfs/projects/lins2/Panos_Space/DATA/OUT/3d_neighbs_as_context/nn_models/ae_farming/table_conv_arch_bneck_128_2048pts_emd/models.ckpt-70 is not in all_model_checkpoint_paths. Manually adding it.\n",
      "('Epoch:', '0071', 'training time (minutes)=', '0.5246', 'loss=', '76.662308771')\n",
      "('Epoch:', '0072', 'training time (minutes)=', '0.5305', 'loss=', '76.600031640')\n",
      "('Epoch:', '0073', 'training time (minutes)=', '0.5195', 'loss=', '77.027712833')\n",
      "('Epoch:', '0074', 'training time (minutes)=', '0.5217', 'loss=', '76.330912108')\n",
      "('Epoch:', '0075', 'training time (minutes)=', '0.5338', 'loss=', '75.875198903')\n",
      "('Epoch:', '0076', 'training time (minutes)=', '0.5198', 'loss=', '76.114349545')\n",
      "('Epoch:', '0077', 'training time (minutes)=', '0.5278', 'loss=', '76.194678901')\n",
      "('Epoch:', '0078', 'training time (minutes)=', '0.5353', 'loss=', '75.473256683')\n",
      "('Epoch:', '0079', 'training time (minutes)=', '0.5188', 'loss=', '75.406890510')\n",
      "('Epoch:', '0080', 'training time (minutes)=', '0.5278', 'loss=', '74.889328227')\n",
      "INFO:tensorflow:/orions4-zfs/projects/lins2/Panos_Space/DATA/OUT/3d_neighbs_as_context/nn_models/ae_farming/table_conv_arch_bneck_128_2048pts_emd/models.ckpt-80 is not in all_model_checkpoint_paths. Manually adding it.\n",
      "('Epoch:', '0081', 'training time (minutes)=', '0.5314', 'loss=', '74.459211462')\n",
      "('Epoch:', '0082', 'training time (minutes)=', '0.5263', 'loss=', '74.474664845')\n",
      "('Epoch:', '0083', 'training time (minutes)=', '0.5211', 'loss=', '74.820831613')\n",
      "('Epoch:', '0084', 'training time (minutes)=', '0.5213', 'loss=', '74.284528171')\n",
      "('Epoch:', '0085', 'training time (minutes)=', '0.5190', 'loss=', '73.707520743')\n",
      "('Epoch:', '0086', 'training time (minutes)=', '0.5184', 'loss=', '73.850309574')\n",
      "('Epoch:', '0087', 'training time (minutes)=', '0.5281', 'loss=', '73.689931533')\n",
      "('Epoch:', '0088', 'training time (minutes)=', '0.5235', 'loss=', '73.378022362')\n",
      "('Epoch:', '0089', 'training time (minutes)=', '0.5324', 'loss=', '73.199396380')\n",
      "('Epoch:', '0090', 'training time (minutes)=', '0.5219', 'loss=', '72.728493365')\n",
      "INFO:tensorflow:/orions4-zfs/projects/lins2/Panos_Space/DATA/OUT/3d_neighbs_as_context/nn_models/ae_farming/table_conv_arch_bneck_128_2048pts_emd/models.ckpt-90 is not in all_model_checkpoint_paths. Manually adding it.\n",
      "('Epoch:', '0091', 'training time (minutes)=', '0.5177', 'loss=', '72.663940923')\n",
      "('Epoch:', '0092', 'training time (minutes)=', '0.5273', 'loss=', '72.470054223')\n",
      "('Epoch:', '0093', 'training time (minutes)=', '0.5619', 'loss=', '72.154209810')\n",
      "('Epoch:', '0094', 'training time (minutes)=', '0.5214', 'loss=', '72.097408833')\n",
      "('Epoch:', '0095', 'training time (minutes)=', '0.5252', 'loss=', '72.126872792')\n",
      "('Epoch:', '0096', 'training time (minutes)=', '0.5171', 'loss=', '71.759528171')\n",
      "('Epoch:', '0097', 'training time (minutes)=', '0.5410', 'loss=', '71.819300977')\n",
      "('Epoch:', '0098', 'training time (minutes)=', '0.5172', 'loss=', '71.757925011')\n",
      "('Epoch:', '0099', 'training time (minutes)=', '0.5264', 'loss=', '71.473564866')\n",
      "('Epoch:', '0100', 'training time (minutes)=', '0.5196', 'loss=', '71.264012954')\n",
      "INFO:tensorflow:/orions4-zfs/projects/lins2/Panos_Space/DATA/OUT/3d_neighbs_as_context/nn_models/ae_farming/table_conv_arch_bneck_128_2048pts_emd/models.ckpt-100 is not in all_model_checkpoint_paths. Manually adding it.\n",
      "('Epoch:', '0101', 'training time (minutes)=', '0.5442', 'loss=', '70.965299539')\n",
      "('Epoch:', '0102', 'training time (minutes)=', '0.5214', 'loss=', '71.000585085')\n",
      "('Epoch:', '0103', 'training time (minutes)=', '0.5268', 'loss=', '70.827039876')\n"
     ]
    }
   ],
   "source": [
    "if do_training:\n",
    "    buf_size = 1 # flush each line\n",
    "    fout = open(osp.join(conf.train_dir, 'train_stats.txt'), 'a', buf_size)\n",
    "    train_stats = ae.train(train_data, conf, log_file=fout)\n",
    "    fout.close()"
   ]
  },
  {
   "cell_type": "code",
   "execution_count": null,
   "metadata": {
    "collapsed": false,
    "deletable": true,
    "editable": true
   },
   "outputs": [],
   "source": [
    "# Plot Some feed-reconstruction pairs.\n",
    "feed = train_data.next_batch(1)[0]\n",
    "rec = ae.reconstruct(feed)[0]\n",
    "Point_Cloud(feed[0]).plot();\n",
    "Point_Cloud(rec[0]).plot();"
   ]
  },
  {
   "cell_type": "code",
   "execution_count": null,
   "metadata": {
    "collapsed": true,
    "deletable": true,
    "editable": true
   },
   "outputs": [],
   "source": []
  },
  {
   "cell_type": "code",
   "execution_count": null,
   "metadata": {
    "collapsed": true,
    "deletable": true,
    "editable": true
   },
   "outputs": [],
   "source": []
  },
  {
   "cell_type": "code",
   "execution_count": null,
   "metadata": {
    "collapsed": true,
    "deletable": true,
    "editable": true
   },
   "outputs": [],
   "source": []
  },
  {
   "cell_type": "code",
   "execution_count": null,
   "metadata": {
    "collapsed": true,
    "deletable": true,
    "editable": true
   },
   "outputs": [],
   "source": []
  },
  {
   "cell_type": "code",
   "execution_count": null,
   "metadata": {
    "collapsed": true,
    "deletable": true,
    "editable": true
   },
   "outputs": [],
   "source": []
  },
  {
   "cell_type": "code",
   "execution_count": null,
   "metadata": {
    "collapsed": true,
    "deletable": true,
    "editable": true
   },
   "outputs": [],
   "source": []
  }
 ],
 "metadata": {
  "kernelspec": {
   "display_name": "Python 2",
   "language": "python",
   "name": "python2"
  },
  "language_info": {
   "codemirror_mode": {
    "name": "ipython",
    "version": 2
   },
   "file_extension": ".py",
   "mimetype": "text/x-python",
   "name": "python",
   "nbconvert_exporter": "python",
   "pygments_lexer": "ipython2",
   "version": "2.7.6"
  }
 },
 "nbformat": 4,
 "nbformat_minor": 2
}
