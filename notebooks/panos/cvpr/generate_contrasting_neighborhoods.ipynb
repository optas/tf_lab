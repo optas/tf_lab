{
 "cells": [
  {
   "cell_type": "code",
   "execution_count": 1,
   "metadata": {
    "collapsed": false,
    "deletable": true,
    "editable": true
   },
   "outputs": [
    {
     "name": "stdout",
     "output_type": "stream",
     "text": [
      "Picking GPU 2\n"
     ]
    }
   ],
   "source": [
    "from general_tools.notebook.gpu_utils import setup_one_gpu\n",
    "GPU = 2\n",
    "setup_one_gpu(GPU)"
   ]
  },
  {
   "cell_type": "code",
   "execution_count": 16,
   "metadata": {
    "collapsed": false,
    "deletable": true,
    "editable": true
   },
   "outputs": [],
   "source": [
    "import numpy as np\n",
    "import os.path as osp\n",
    "import matplotlib.pylab as plt\n",
    "from sklearn.manifold import TSNE\n",
    "\n",
    "from general_tools.in_out.basics import unpickle_data\n",
    "from general_tools.in_out import create_dir\n",
    "from general_tools.notebook.tf import reset_tf_graph\n",
    "\n",
    "from general_tools.clustering.plt import plot_2d_embedding_in_grid_greedy_way, \\\n",
    "                                         plot_2d_embedding_in_grid_forceful\n",
    "\n",
    "from general_tools.plotting import stack_images_horizontally, stack_images_in_square_grid\n",
    "\n",
    "from geo_tool import Point_Cloud\n",
    "\n",
    "import tf_lab.point_clouds.in_out as pio\n",
    "\n",
    "from tf_lab.data_sets.shape_net import  pc_loader as sn_pc_loader\n",
    "\n",
    "from tf_lab.point_clouds.point_net_ae import PointNetAutoEncoder\n",
    "from tf_lab.point_clouds.autoencoder import Configuration as Conf\n",
    "from tf_lab.point_clouds.in_out import PointCloudDataSet\n",
    "\n",
    "from tf_lab.in_out.basics import read_saved_epochs\n",
    "from tf_lab.data_sets.shape_net import snc_category_to_synth_id\n",
    "\n",
    "from sklearn.ensemble import IsolationForest\n",
    "from sklearn.metrics.pairwise import pairwise_distances\n",
    "import random\n",
    "\n",
    "from general_tools.clustering.dist import incremental_farthest_sampling, evaluate_solution\n",
    "from general_tools.in_out.basics import files_in_subdirs"
   ]
  },
  {
   "cell_type": "code",
   "execution_count": 7,
   "metadata": {
    "collapsed": true,
    "deletable": true,
    "editable": true
   },
   "outputs": [],
   "source": [
    "def detect_outliers(features, outlier_fraction, random_seed):\n",
    "    '''\n",
    "    '''\n",
    "    clf = IsolationForest(max_samples=100, random_state=random_seed, contamination=outlier_fraction)\n",
    "    clf.fit(features)\n",
    "    y_pred = clf.predict(features)\n",
    "    outliers = np.where(y_pred == -1)[0]\n",
    "    print 'Outliers detected = ', len(outliers)\n",
    "    return outliers"
   ]
  },
  {
   "cell_type": "code",
   "execution_count": 8,
   "metadata": {
    "collapsed": false,
    "deletable": true,
    "editable": true
   },
   "outputs": [],
   "source": [
    "%load_ext autoreload\n",
    "%autoreload 2\n",
    "%matplotlib inline"
   ]
  },
  {
   "cell_type": "code",
   "execution_count": 9,
   "metadata": {
    "collapsed": true,
    "deletable": true,
    "editable": true
   },
   "outputs": [],
   "source": [
    "random_seed = 42\n",
    "outlier_fraction = 0.3 # Percent of data instances that will be automatically disreguarded.\n",
    "n_exemplars = 140      # Source instances that will be used to create contrasting triplets.\n",
    "top_data_dir = top_data_dir = '/orions4-zfs/projects/optas/DATA/'"
   ]
  },
  {
   "cell_type": "code",
   "execution_count": 13,
   "metadata": {
    "collapsed": false,
    "deletable": true,
    "editable": true
   },
   "outputs": [
    {
     "name": "stdout",
     "output_type": "stream",
     "text": [
      "Model restored in epoch 1000.\n"
     ]
    }
   ],
   "source": [
    "# load AE model\n",
    "class_name = 'chair'\n",
    "syn_id = snc_category_to_synth_id()[class_name]\n",
    "ae_loss = 'emd'\n",
    "ae_id = '12' # 128 bottleneck\n",
    "\n",
    "ae_net_name = 'ae_farm_' + class_name + '_conv_arch_' + ae_id + '_2048pts_' + ae_loss\n",
    "ae_net_dir = osp.join(top_data_dir, 'OUT/icml/nn_models/ae_farming', ae_net_name)\n",
    "ae_conf = Conf.load(osp.join(ae_net_dir, 'configuration'))\n",
    "\n",
    "if ae_conf.train_dir != ae_net_dir:\n",
    "    ae_conf.train_dir = ae_net_dir\n",
    "    ae_conf.save(osp.join(ae_conf.train_dir, 'configuration'))\n",
    "    \n",
    "reset_tf_graph()\n",
    "ae = PointNetAutoEncoder(ae_net_name, ae_conf)\n",
    "\n",
    "saved_epochs = read_saved_epochs(ae_conf.train_dir)\n",
    "load_epoch = saved_epochs[-1]\n",
    "ae.restore_model(ae_conf.train_dir, load_epoch, verbose=True)"
   ]
  },
  {
   "cell_type": "code",
   "execution_count": 17,
   "metadata": {
    "collapsed": false,
    "deletable": true,
    "editable": true
   },
   "outputs": [
    {
     "name": "stdout",
     "output_type": "stream",
     "text": [
      "6778 files containing complete point clouds were found.\n"
     ]
    }
   ],
   "source": [
    "# Load Raw Point-Clouds of class\n",
    "n_pc_samples = 2048\n",
    "pclouds_path = osp.join(top_data_dir, 'Point_Clouds/Shape_Net/Core/from_manifold_meshes/centered/', str(n_pc_samples))\n",
    "pclouds_path = osp.join(pclouds_path, syn_id)\n",
    "file_names = [f for f in files_in_subdirs(pclouds_path, '.ply')]\n",
    "pclouds, model_ids, syn_ids = pio.load_crude_point_clouds(file_names=file_names, n_threads=50, loader=sn_pc_loader)\n",
    "print '%d files containing complete point clouds were found.' % (len(pclouds), )"
   ]
  },
  {
   "cell_type": "code",
   "execution_count": 18,
   "metadata": {
    "collapsed": false,
    "deletable": true,
    "editable": true
   },
   "outputs": [],
   "source": [
    "pcloud_data = PointCloudDataSet(pclouds, labels=model_ids, init_shuffle=False)\n",
    "_, latent_codes, temp_names = ae.embedding_at_tensor(pcloud_data, ae_conf, tensor_name='bottleneck')\n",
    "assert(np.alltrue(temp_names==model_ids))"
   ]
  },
  {
   "cell_type": "code",
   "execution_count": 24,
   "metadata": {
    "collapsed": false,
    "deletable": true,
    "editable": true
   },
   "outputs": [],
   "source": [
    "from pandas import DataFrame\n",
    "df = DataFrame(data=latent_codes, index=model_ids)\n",
    "df.to_pickle('pilot_chair_embeddings.pkl')"
   ]
  },
  {
   "cell_type": "code",
   "execution_count": 9,
   "metadata": {
    "collapsed": false,
    "deletable": true,
    "editable": true
   },
   "outputs": [
    {
     "data": {
      "text/plain": [
       "'/orions4-zfs/projects/lins2/Panos_Space/DATA/OUT/3d_neighbs_as_context/pilot_triplets_2/outlier_frac_30'"
      ]
     },
     "execution_count": 9,
     "metadata": {},
     "output_type": "execute_result"
    }
   ],
   "source": [
    "top_image_dir = '/orions4-zfs/projects/lins2/Panos_Space/DATA/Meshes/Shape_Net_Core/2015_Summer_OUT/Images/'\n",
    "top_image_dir = osp.join(top_image_dir, syn_id)\n",
    "image_view_tag = 'image_p020_t337_r005.png'\n",
    "top_out_dir = '/orions4-zfs/projects/lins2/Panos_Space/DATA/OUT/3d_neighbs_as_context/pilot_triplets_2/'\n",
    "top_out_dir = osp.join(top_out_dir, 'outlier_frac_' + str(int(outlier_fraction * 100)))\n",
    "create_dir(top_out_dir)"
   ]
  },
  {
   "cell_type": "code",
   "execution_count": 22,
   "metadata": {
    "collapsed": false,
    "deletable": true,
    "editable": true
   },
   "outputs": [
    {
     "name": "stdout",
     "output_type": "stream",
     "text": [
      "Outliers detected =  2034\n",
      "Average Min Distance of FPS exemplars: 317.139815331\n"
     ]
    }
   ],
   "source": [
    "all_pdists = pairwise_distances(latent_codes)\n",
    "outliers = detect_outliers(latent_codes, outlier_fraction, random_seed)\n",
    "fps_sol = incremental_farthest_search(all_pdists, n_exemplars, outliers, random_seed)\n",
    "print 'Average Min Distance of FPS exemplars:', evaluate_solution(latent_codes[fps_sol])"
   ]
  },
  {
   "cell_type": "code",
   "execution_count": 23,
   "metadata": {
    "collapsed": false,
    "deletable": true,
    "editable": true
   },
   "outputs": [],
   "source": [
    "# Plot TSNE of examplars.\n",
    "model = TSNE(n_components=2, random_state=random_seed, init='pca')\n",
    "tsne_coords = model.fit_transform(latent_codes[fps_sol])\n",
    "\n",
    "# Make a list with the file-names of all to be used images.\n",
    "image_files = []\n",
    "for i in fps_sol:\n",
    "    image_files.append(osp.join(top_image_dir, model_ids[i], image_view_tag))\n",
    "\n",
    "save_file = osp.join(top_out_dir, 'tsne_fps_%d_examplars.png' % (n_exemplars, ))\n",
    "\n",
    "small_dim = 400\n",
    "big_dim = int(np.ceil(np.sqrt(n_exemplars))) * small_dim\n",
    "plot_2d_embedding_in_grid_forceful(tsne_coords, image_files, big_dim, small_dim, save_file=save_file);"
   ]
  },
  {
   "cell_type": "code",
   "execution_count": 24,
   "metadata": {
    "collapsed": false,
    "deletable": true,
    "editable": true
   },
   "outputs": [],
   "source": [
    "from shutil import copyfile\n",
    "\n",
    "def find_first_distant_enough(dists, dist_thres=0.01):\n",
    "    for i, d in enumerate(dists):\n",
    "        if d > dist_thres:\n",
    "            return i\n",
    "    return -1\n",
    "\n",
    "def sorted_indices_given_exclusions(source, all_pdists, excluded):\n",
    "    s_dists = all_pdists[source, :]\n",
    "    s_dists[source] = np.inf\n",
    "    s_dists[excluded] = np.inf\n",
    "    return np.argsort(s_dists)\n",
    "\n",
    "def far_from_two_observations(all_dists, obs_1, obs_2, excluded):\n",
    "    n = all_pdists.shape[0]\n",
    "    candidates = np.arange(n)\n",
    "    candidates = np.setdiff1d(candidates, excluded)\n",
    "    candidates = np.setdiff1d(candidates, [obs_1, obs_2])        \n",
    "    sum_dist = all_pdists[obs_1, candidates] + all_pdists[obs_2, candidates]\n",
    "    aso = np.argsort(sum_dist)\n",
    "    aso = candidates[aso]\n",
    "    return aso\n",
    "    \n",
    "def make_triplets(sources, all_pdists, excluded, rule, far_threshold=0.9):\n",
    "    n = all_pdists.shape[0]\n",
    "    triplets = []\n",
    "    for i, s in enumerate(sources):\n",
    "        candidates = np.arange(n)\n",
    "        candidates = np.setdiff1d(candidates, excluded)\n",
    "        candidates = np.setdiff1d(candidates, s)        \n",
    "        aso = np.argsort(all_pdists[s, candidates])                        \n",
    "        aso = candidates[aso]\n",
    "       \n",
    "        if rule == 'closest_nn':                             \n",
    "            triplets.append([s, aso[0], aso[1]])\n",
    "        \n",
    "        elif rule == 'one_far':\n",
    "            far_p = int(np.round(len(aso) * far_threshold))\n",
    "            triplets.append([s, aso[0], aso[far_p]])\n",
    "        \n",
    "        elif rule == 'both_far':\n",
    "            far_p = int(np.round(len(aso) * far_threshold))            \n",
    "            aso_2 = far_from_two_observations(all_pdists, s, far_p, excluded)\n",
    "            far_p2 = int(np.round(len(aso_2) * far_threshold))            \n",
    "            triplets.append([s, aso_2[far_p2], aso[far_p]])            \n",
    "        else:\n",
    "            assert(False)                \n",
    "    return triplets\n",
    "\n",
    "\n",
    "def save_triplets(triplets, top_image_dir, top_out_dir, model_ids):\n",
    "    image_view_tag = 'image_p020_t337_r005.png'\n",
    "    logger = open(osp.join(top_out_dir, 'model_names_of_triplets.txt'), 'w')\n",
    "    for i, t in enumerate(triplets):\n",
    "        logger.write(str(i) + '\\t')\n",
    "        for k in range(3):\n",
    "            save_dir = create_dir(osp.join(top_out_dir, str(i)))\n",
    "            source = osp.join(top_image_dir, model_ids[t[k]], image_view_tag)\n",
    "            dest = osp.join(save_dir, str(k) + '_' + model_ids[t[k]] + '.png')            \n",
    "            copyfile(source, dest)\n",
    "            if k < 2:\n",
    "                logger.write(model_ids[t[k]] + '\\t')\n",
    "            else:\n",
    "                logger.write(model_ids[t[k]] + '\\n')\n",
    "    \n",
    "    logger.close()\n",
    "    \n",
    "def plot_triplets(triplets, top_image_dir, top_out_dir, model_ids):\n",
    "    image_view_tag = 'image_p020_t337_r005.png'\n",
    "    for i, t in enumerate(triplets):\n",
    "        image_files = []\n",
    "        image_files.append(osp.join(top_image_dir, model_ids[t[0]], image_view_tag))\n",
    "        image_files.append(osp.join(top_image_dir, model_ids[t[1]], image_view_tag))\n",
    "        image_files.append(osp.join(top_image_dir, model_ids[t[2]], image_view_tag))\n",
    "        save_file = osp.join(top_out_dir, str(i) + '.png')\n",
    "        stack_images_horizontally(image_files, save_file=save_file)\n",
    "        \n",
    "def plot_triplets_in_multiple_contexts(triplets, top_image_dir, top_out_dir, model_ids):\n",
    "    image_view_tag = 'image_p020_t337_r005.png'\n",
    "    n_contexts = len(triplets)\n",
    "    n_examples = len(triplets[0])\n",
    "    for i in range(n_examples):        \n",
    "        image_files = []\n",
    "        for context in range(n_contexts):                    \n",
    "            t = triplets[context][i]\n",
    "            image_files.append(osp.join(top_image_dir, model_ids[t[0]], image_view_tag))\n",
    "            image_files.append(osp.join(top_image_dir, model_ids[t[1]], image_view_tag))\n",
    "            image_files.append(osp.join(top_image_dir, model_ids[t[2]], image_view_tag))\n",
    "        save_file = osp.join(top_out_dir, str(i) + '.png')\n",
    "        stack_images_in_square_grid(image_files, save_file=save_file)"
   ]
  },
  {
   "cell_type": "code",
   "execution_count": 27,
   "metadata": {
    "collapsed": false,
    "deletable": true,
    "editable": true
   },
   "outputs": [],
   "source": [
    "rule = 'both_far'\n",
    "triplets = make_triplets(fps_sol, all_pdists, outliers, rule)\n",
    "triplet_out_dir = create_dir(osp.join(top_out_dir, rule, 'data'))\n",
    "save_triplets(triplets, top_image_dir, triplet_out_dir, model_ids)\n",
    "triplet_out_dir = create_dir(osp.join(top_out_dir, rule, 'images'))\n",
    "plot_triplets(triplets, top_image_dir, triplet_out_dir, model_ids)"
   ]
  },
  {
   "cell_type": "code",
   "execution_count": 28,
   "metadata": {
    "collapsed": false,
    "deletable": true,
    "editable": true
   },
   "outputs": [],
   "source": [
    "triplet_out_dir = create_dir(osp.join(top_out_dir, rule))\n",
    "triplets = []\n",
    "for rule in ['closest_nn', 'one_far', 'both_far']:\n",
    "    triplets.append(make_triplets(fps_sol, all_pdists, outliers, rule))\n",
    "\n",
    "triplet_out_dir = create_dir(osp.join(top_out_dir, 'all_rules', 'images'))\n",
    "plot_triplets_in_multiple_contexts(triplets, top_image_dir, triplet_out_dir, model_ids)"
   ]
  }
 ],
 "metadata": {
  "kernelspec": {
   "display_name": "Python 2",
   "language": "python",
   "name": "python2"
  },
  "language_info": {
   "codemirror_mode": {
    "name": "ipython",
    "version": 2
   },
   "file_extension": ".py",
   "mimetype": "text/x-python",
   "name": "python",
   "nbconvert_exporter": "python",
   "pygments_lexer": "ipython2",
   "version": "2.7.6"
  }
 },
 "nbformat": 4,
 "nbformat_minor": 2
}
