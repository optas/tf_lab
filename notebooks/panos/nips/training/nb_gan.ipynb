{
 "cells": [
  {
   "cell_type": "code",
   "execution_count": 1,
   "metadata": {
    "collapsed": false,
    "deletable": true,
    "editable": true
   },
   "outputs": [
    {
     "name": "stdout",
     "output_type": "stream",
     "text": [
      "Picking GPU 3\n"
     ]
    }
   ],
   "source": [
    "from general_tools.notebook.gpu_utils import setup_one_gpu\n",
    "GPU = 3\n",
    "setup_one_gpu(GPU)"
   ]
  },
  {
   "cell_type": "code",
   "execution_count": 3,
   "metadata": {
    "collapsed": false,
    "deletable": true,
    "editable": true
   },
   "outputs": [],
   "source": [
    "import sys\n",
    "import time\n",
    "import numpy as np\n",
    "import os.path as osp\n",
    "import tensorflow as tf\n",
    "import matplotlib.pyplot as plt\n",
    "\n",
    "from general_tools.notebook.tf import reset_tf_graph\n",
    "\n",
    "import tf_lab.point_clouds.in_out as pio\n",
    "from tf_lab.point_clouds.in_out import PointCloudDataSet, write_model_ids_of_datasets\n",
    "\n",
    "from tf_lab.point_clouds.point_net_ae import PointNetAutoEncoder\n",
    "from tf_lab.point_clouds.autoencoder import Configuration as Conf\n",
    "import tf_lab.point_clouds.encoders_decoders as enc_dec\n",
    "\n",
    "from tf_lab.autopredictors.scripts.helper import shape_net_category_to_synth_id\n",
    "\n",
    "from tf_lab.autopredictors.plotting import plot_original_pclouds_vs_reconstructed, \\\n",
    "                                           plot_train_val_test_curves, plot_reconstructions_at_epoch\n",
    "\n",
    "from tf_lab.autopredictors.evaluate import eval_model, read_saved_epochs\n",
    "                                                  \n",
    "from general_tools.in_out.basics import create_dir, delete_files_in_directory, files_in_subdirs\n",
    "from general_tools.simpletons import select_first_last_and_k\n",
    "from geo_tool import Point_Cloud\n",
    "\n",
    "from tf_lab.nips.shape_net import pc_loader as sn_pc_loader\n",
    "from tf_lab.autopredictors.exploration import latent_embedding_of_entire_dataset\n",
    "from tf_lab.point_clouds.raw_gan import RawGAN\n",
    "from tf_lab.point_clouds.latent_gan import LatentGAN\n",
    "\n",
    "from tf_lab.point_clouds.point_net_ae import PointNetAutoEncoder\n",
    "\n",
    "\n",
    "from tf_lab.nips.evaluate_gan import entropy_of_occupancy_grid, \\\n",
    "                                    point_cloud_distances, jensen_shannon_divergence, sample_pclouds_distances\n",
    "\n",
    "from tf_lab.point_clouds.gan import model_saver_id\n",
    "\n",
    "from tf_lab.autopredictors.exploration import find_neighbors\n",
    "\n",
    "from tf_lab.nips.helper import pclouds_centered_and_half_sphere\n",
    "\n",
    "from tf_lab.point_clouds.generators_discriminators import latent_code_discriminator_two_layers, latent_code_generator_two_layers    "
   ]
  },
  {
   "cell_type": "code",
   "execution_count": 4,
   "metadata": {
    "collapsed": false,
    "deletable": true,
    "editable": true
   },
   "outputs": [],
   "source": [
    "%load_ext autoreload\n",
    "%autoreload 2\n",
    "%matplotlib inline"
   ]
  },
  {
   "cell_type": "code",
   "execution_count": 5,
   "metadata": {
    "collapsed": false,
    "deletable": true,
    "editable": true
   },
   "outputs": [
    {
     "name": "stdout",
     "output_type": "stream",
     "text": [
      "Give me the class type.\n",
      "chair\n"
     ]
    },
    {
     "data": {
      "text/plain": [
       "'/orions4-zfs/projects/lins2/Panos_Space/DATA/OUT/models/nips/gan/nb_gan/nb_ae_emd_chair_2048_pts'"
      ]
     },
     "execution_count": 5,
     "metadata": {},
     "output_type": "execute_result"
    }
   ],
   "source": [
    "n_pc_samples = 2048\n",
    "do_training = True\n",
    "do_plotting = True\n",
    "ae_loss = 'emd'\n",
    "\n",
    "save_synthetic_samples = True\n",
    "save_model = True\n",
    "saver_step = 10\n",
    "\n",
    "class_name = raw_input('Give me the class type.\\n').lower()\n",
    "syn_id = shape_net_category_to_synth_id()[class_name]\n",
    "\n",
    "experiment_name = 'nb_ae_'+ ae_loss + '_' + class_name + '_' + str(n_pc_samples) +  '_pts'\n",
    "\n",
    "top_data_dir = '/orions4-zfs/projects/lins2/Panos_Space/DATA/'\n",
    "synthetic_data_out_dir = '/orions4-zfs/projects/lins2/Panos_Space/DATA/OUT/nips/our_synthetic_samples/'\n",
    "train_dir = osp.join(top_data_dir, 'OUT/models/nips/gan/nb_gan')\n",
    "train_dir = osp.join(train_dir, experiment_name)\n",
    "create_dir(train_dir)"
   ]
  },
  {
   "cell_type": "code",
   "execution_count": 6,
   "metadata": {
    "collapsed": false,
    "deletable": true,
    "editable": true
   },
   "outputs": [
    {
     "name": "stdout",
     "output_type": "stream",
     "text": [
      "6778 files containing complete point clouds were found.\n"
     ]
    }
   ],
   "source": [
    "# Load Raw Point-Clouds of class\n",
    "pclouds_path = osp.join(top_data_dir, 'Point_Clouds/Shape_Net/Core/from_manifold_meshes/centered/', str(n_pc_samples))\n",
    "pclouds_path = osp.join(pclouds_path, syn_id)\n",
    "file_names = pio.load_filenames_of_input_data(pclouds_path, '.ply')\n",
    "pclouds, model_ids, syn_ids = pio.load_crude_point_clouds(file_names=file_names, n_threads=50, loader=sn_pc_loader)\n",
    "print '%d files containing complete point clouds were found.' % (len(pclouds), )"
   ]
  },
  {
   "cell_type": "code",
   "execution_count": 7,
   "metadata": {
    "collapsed": false,
    "deletable": true,
    "editable": true
   },
   "outputs": [
    {
     "name": "stdout",
     "output_type": "stream",
     "text": [
      "Model restored in epoch 1000.\n"
     ]
    }
   ],
   "source": [
    "# Load Auto-Encoder\n",
    "reset_tf_graph()\n",
    "\n",
    "ae_net_name = class_name + '_conv_arch_1_2048pts_' + ae_loss\n",
    "ae_net_dir = osp.join(top_data_dir, 'OUT/models/nips/vanilla_ae', ae_net_name)\n",
    "ae_conf = Conf.load(osp.join(ae_net_dir, 'configuration'))\n",
    "\n",
    "ae = PointNetAutoEncoder(ae_net_name, ae_conf)\n",
    "saved_epochs = read_saved_epochs(ae_conf.train_dir)\n",
    "last_epoch = saved_epochs[-1]\n",
    "ae.restore_model(ae_conf.train_dir, last_epoch, verbose=True)"
   ]
  },
  {
   "cell_type": "code",
   "execution_count": 8,
   "metadata": {
    "collapsed": false,
    "deletable": true,
    "editable": true
   },
   "outputs": [],
   "source": [
    "# Convert raw-data to latent codes.\n",
    "raw_data = PointCloudDataSet(pclouds, init_shuffle=False)\n",
    "_, latent_codes, _ = latent_embedding_of_entire_dataset(raw_data, ae, ae_conf)\n",
    "training_data = PointCloudDataSet(latent_codes)"
   ]
  },
  {
   "cell_type": "code",
   "execution_count": 10,
   "metadata": {
    "collapsed": false,
    "deletable": true,
    "editable": true
   },
   "outputs": [],
   "source": [
    "init_lr = 0.0001\n",
    "batch_size = 50\n",
    "\n",
    "noise_params = {'mu':0, 'sigma': 0.5}\n",
    "noise_dim = 512\n",
    "max_epochs = 500\n",
    "beta = 0.9\n",
    "\n",
    "n_syn_samples = training_data.num_examples  # Same number as original GT data.\n",
    "n_out = [latent_codes.shape[1]]\n",
    "accum_syn_data = []\n",
    "train_stats = []\n",
    "\n",
    "reset_tf_graph()\n",
    "gan = LatentGAN(experiment_name, init_lr, n_out, noise_dim, latent_code_discriminator_two_layers, latent_code_generator_two_layers)"
   ]
  },
  {
   "cell_type": "code",
   "execution_count": null,
   "metadata": {
    "collapsed": false,
    "deletable": true,
    "editable": true
   },
   "outputs": [
    {
     "name": "stdout",
     "output_type": "stream",
     "text": [
      "213 (1.0153753342451872, 1.3152716460051359)\n",
      "214 (1.0695086399714151, 1.2746332958892539)\n",
      "215 (1.1084554067364445, 1.2654046654701232)\n",
      "216 (1.0791643544479652, 1.2403395432013054)\n",
      "217 (1.0692519417515507, 1.2500946327492042)\n",
      "218 (1.1361334491659094, 1.2352811658823932)\n",
      "219 (1.0848483271068996, 1.3036273077682212)\n",
      "220 (1.1870688244148537, 1.2144778922752097)\n",
      "INFO:tensorflow:/orions4-zfs/projects/lins2/Panos_Space/DATA/OUT/models/nips/gan/nb_gan/nb_ae_emd_chair_2048_pts/models.ckpt-220 is not in all_model_checkpoint_paths. Manually adding it.\n",
      "221 (0.99826796319749622, 1.3174107352892557)\n",
      "222 (1.0761664271354676, 1.2569967216915554)\n",
      "223 (1.0490761796633403, 1.3455308905354253)\n",
      "224 (1.18022562706912, 1.3369566475903547)\n",
      "225 (1.0690411616254736, 1.4401597181955974)\n",
      "226 (1.017225687592118, 1.3801409950962773)\n",
      "227 (1.1167685327706514, 1.2793565847255566)\n",
      "228 (1.0112468988807113, 1.3901826726065742)\n",
      "229 (1.0242470542589823, 1.3555466492970785)\n",
      "230 (1.0962745277969925, 1.26643823561845)\n",
      "INFO:tensorflow:/orions4-zfs/projects/lins2/Panos_Space/DATA/OUT/models/nips/gan/nb_gan/nb_ae_emd_chair_2048_pts/models.ckpt-230 is not in all_model_checkpoint_paths. Manually adding it.\n",
      "231 (1.0515811823032521, 1.2817643986807929)\n",
      "232 (1.1804028926072296, 1.2142985449896919)\n",
      "233 (1.073593552907308, 1.2340576392632943)\n",
      "234 (1.0100345147980585, 1.261010025165699)\n",
      "235 (1.0434928845476221, 1.1915920963993778)\n",
      "236 (1.1239432493845622, 1.1988495023162276)\n",
      "237 (1.0575073193620752, 1.4130050111699988)\n",
      "238 (1.065274296866523, 1.3648350088684646)\n",
      "239 (0.98323567531726974, 1.2950946410497031)\n",
      "240 (1.0643933901080378, 1.2269881310286346)\n",
      "INFO:tensorflow:/orions4-zfs/projects/lins2/Panos_Space/DATA/OUT/models/nips/gan/nb_gan/nb_ae_emd_chair_2048_pts/models.ckpt-240 is not in all_model_checkpoint_paths. Manually adding it.\n",
      "241 (1.1683325118488737, 1.1622373673650954)\n",
      "242 (1.0477341254552206, 1.2563421417165686)\n",
      "243 (1.1102368107548466, 1.1964457114537557)\n",
      "244 (1.0165843685468039, 1.303905149742409)\n",
      "245 (1.088224874160908, 1.2786165330145094)\n",
      "246 (1.05776341314669, 1.3481021722157795)\n",
      "247 (1.0951326467372753, 1.3081376049253675)\n",
      "248 (0.96708541843626239, 1.3343597332636514)\n",
      "249 (1.0193533195389641, 1.2372793815754077)\n",
      "250 (1.1173110758816753, 1.2091213500058209)\n",
      "INFO:tensorflow:/orions4-zfs/projects/lins2/Panos_Space/DATA/OUT/models/nips/gan/nb_gan/nb_ae_emd_chair_2048_pts/models.ckpt-250 is not in all_model_checkpoint_paths. Manually adding it.\n",
      "251 (1.0745633889127661, 1.2089855401604264)\n",
      "252 (1.0943365666601392, 1.1772266259899846)\n",
      "253 (1.0859037558237712, 1.2236545531838028)\n",
      "254 (1.012799894809723, 1.3325793831436723)\n",
      "255 (1.1012480912385163, 1.3215446542810512)\n",
      "256 (1.0971737640875356, 1.2293506904884621)\n",
      "257 (1.066142909615128, 1.220350283605081)\n",
      "258 (1.0085916788489731, 1.2939916451772053)\n",
      "259 (1.0559717103287025, 1.2727800307450472)\n",
      "260 (1.1257250534163581, 1.2841138667530483)\n",
      "INFO:tensorflow:/orions4-zfs/projects/lins2/Panos_Space/DATA/OUT/models/nips/gan/nb_gan/nb_ae_emd_chair_2048_pts/models.ckpt-260 is not in all_model_checkpoint_paths. Manually adding it.\n",
      "261 (1.0547947040310612, 1.472925055468524)\n",
      "262 (0.98138465219073823, 1.4128693986822058)\n",
      "263 (1.0501515291355275, 1.2311529331737094)\n",
      "264 (1.032239717024344, 1.1611822463847972)\n",
      "265 (1.1034224148149843, 1.2587763168193675)\n",
      "266 (1.1555018407327158, 1.2893771705804047)\n",
      "267 (1.07707535955641, 1.4077666918436686)\n",
      "268 (1.0613926688830058, 1.3475945238713865)\n",
      "269 (1.1151447031233046, 1.2983164116188333)\n",
      "270 (1.1030227228447242, 1.3265871012652362)\n",
      "INFO:tensorflow:/orions4-zfs/projects/lins2/Panos_Space/DATA/OUT/models/nips/gan/nb_gan/nb_ae_emd_chair_2048_pts/models.ckpt-270 is not in all_model_checkpoint_paths. Manually adding it.\n",
      "271 (1.0982948643189889, 1.2817645889741403)\n",
      "272 (1.107304737744508, 1.2589410079850092)\n",
      "273 (1.0287404312027826, 1.3838633899335508)\n",
      "274 (1.0701135842888443, 1.2805404367270292)\n",
      "275 (0.9514473230750472, 1.3545306435337774)\n",
      "276 (1.0320074218290824, 1.3250195812295984)\n",
      "277 (1.1259433534410266, 1.2894572116710521)\n",
      "278 (1.0774737887912327, 1.2978391417750605)\n",
      "279 (0.99021036536605267, 1.3225444961477208)\n",
      "280 (1.0769878488999827, 1.2488373919769569)\n",
      "INFO:tensorflow:/orions4-zfs/projects/lins2/Panos_Space/DATA/OUT/models/nips/gan/nb_gan/nb_ae_emd_chair_2048_pts/models.ckpt-280 is not in all_model_checkpoint_paths. Manually adding it.\n",
      "281 (1.063308886245445, 1.3488180805135657)\n",
      "282 (1.0985540756472836, 1.4160536011060079)\n",
      "283 (1.1685972174008687, 1.4605442833017419)\n",
      "284 (1.0645968265003629, 1.5179728684601961)\n",
      "285 (1.0862445526652866, 1.2810803373654684)\n",
      "286 (0.95373040570153134, 1.3107283080065693)\n",
      "287 (1.1932239863607619, 1.2103562235832215)\n",
      "288 (1.15928049882253, 1.3416307771647418)\n",
      "289 (1.1316959186836526, 1.346809564696418)\n",
      "290 (1.0680592625229448, 1.3899426142374673)\n",
      "INFO:tensorflow:/orions4-zfs/projects/lins2/Panos_Space/DATA/OUT/models/nips/gan/nb_gan/nb_ae_emd_chair_2048_pts/models.ckpt-290 is not in all_model_checkpoint_paths. Manually adding it.\n",
      "291 (1.1335437787903679, 1.4061466199380379)\n",
      "292 (1.0951242442484255, 1.3344519676985565)\n",
      "293 (1.0687504693313881, 1.2900128148220205)\n",
      "294 (1.1086319698227776, 1.2586328056123521)\n",
      "295 (1.0727007013780099, 1.3269587613918163)\n",
      "296 (1.1071636478106182, 1.2768330070707532)\n",
      "297 (1.0282705073003415, 1.3702941903361567)\n",
      "298 (1.2729938281906976, 1.1689462710309912)\n",
      "299 (1.0522568989683081, 1.3070824044722098)\n",
      "300 (1.1388612658889206, 1.1631266099435311)\n",
      "INFO:tensorflow:/orions4-zfs/projects/lins2/Panos_Space/DATA/OUT/models/nips/gan/nb_gan/nb_ae_emd_chair_2048_pts/models.ckpt-300 is not in all_model_checkpoint_paths. Manually adding it.\n",
      "301 (1.0670338657167222, 1.1800864815711976)\n",
      "302 (1.0174593461884394, 1.2956361496890032)\n",
      "303 (1.1606073083700956, 1.2310544821951124)\n",
      "304 (1.1516621245278253, 1.2185161126984489)\n",
      "305 (1.0784959073419924, 1.2461670288333186)\n",
      "306 (1.1486695704636751, 1.2003698097334967)\n",
      "307 (0.99629411035113868, 1.2726450244585672)\n",
      "308 (1.187806455735807, 1.1127413851243477)\n",
      "309 (1.0435553537474738, 1.1764939528924447)\n",
      "310 (1.1777439700232613, 1.1234436229423241)\n",
      "INFO:tensorflow:/orions4-zfs/projects/lins2/Panos_Space/DATA/OUT/models/nips/gan/nb_gan/nb_ae_emd_chair_2048_pts/models.ckpt-310 is not in all_model_checkpoint_paths. Manually adding it.\n",
      "311 (1.1159461498260499, 1.2247358242670694)\n",
      "312 (1.0917295628123813, 1.2662878032083864)\n",
      "313 (1.0569717663305778, 1.2017996633494341)\n",
      "314 (1.1161491579479641, 1.2757729976265519)\n",
      "315 (1.1307623562989411, 1.2413127148592913)\n",
      "316 (1.0497622061658789, 1.2803076580718711)\n",
      "317 (1.1586979208169159, 1.1585713421856916)\n",
      "318 (1.0827336960368685, 1.3110507739914787)\n",
      "319 (1.1513135256590667, 1.2651191927768566)\n",
      "320 (1.1035003666524534, 1.2967389839666861)\n",
      "INFO:tensorflow:/orions4-zfs/projects/lins2/Panos_Space/DATA/OUT/models/nips/gan/nb_gan/nb_ae_emd_chair_2048_pts/models.ckpt-320 is not in all_model_checkpoint_paths. Manually adding it.\n",
      "321 (1.0455804365652579, 1.3050031538362856)\n",
      "322 (1.0742022024260627, 1.3342069661175764)\n",
      "323 (1.1178564711853309, 1.2933768669764201)\n",
      "324 (1.091697711414761, 1.2917675327371667)\n",
      "325 (1.0208520624372694, 1.387873223092821)\n",
      "326 (1.0978992064793904, 1.268877089465106)\n",
      "327 (1.1115768357559486, 1.2154913036911577)\n",
      "328 (1.0432347650881166, 1.1965846472316317)\n",
      "329 (1.1288758560463235, 1.089268430074056)\n",
      "330 (1.0477228751888981, 1.1923686499948856)\n",
      "INFO:tensorflow:/orions4-zfs/projects/lins2/Panos_Space/DATA/OUT/models/nips/gan/nb_gan/nb_ae_emd_chair_2048_pts/models.ckpt-330 is not in all_model_checkpoint_paths. Manually adding it.\n",
      "331 (1.034474750359853, 1.2896669299514205)\n",
      "332 (1.0829800477734319, 1.2503816061549717)\n",
      "333 (1.1148820373747084, 1.2250888842123526)\n",
      "334 (1.053994396439305, 1.2686316516664293)\n",
      "335 (1.0976880351702372, 1.2759801824887593)\n",
      "336 (1.0979163474506801, 1.258040933697312)\n",
      "337 (1.0774588523087678, 1.2038900053059614)\n",
      "338 (1.017227139296355, 1.2602088623576695)\n",
      "339 (1.0681391274487531, 1.303041574690077)\n",
      "340 (1.1317617191208733, 1.2874700131239714)\n",
      "INFO:tensorflow:/orions4-zfs/projects/lins2/Panos_Space/DATA/OUT/models/nips/gan/nb_gan/nb_ae_emd_chair_2048_pts/models.ckpt-340 is not in all_model_checkpoint_paths. Manually adding it.\n",
      "341 (1.0965478044969064, 1.3346921647036518)\n",
      "342 (1.0206801463056494, 1.4512698659190426)\n",
      "343 (1.1863912282166658, 1.3509607752164206)\n",
      "344 (1.0441277327360929, 1.4301982570577552)\n",
      "345 (1.0299256845756812, 1.3824986069290726)\n",
      "346 (1.0700762448487458, 1.288026961573848)\n",
      "347 (1.1625418693931013, 1.3338254928588866)\n",
      "348 (1.1529840283923678, 1.3030822316805521)\n",
      "349 (1.0200728359045805, 1.3821461739363494)\n",
      "350 (1.1594912021248429, 1.2640732385494091)\n",
      "INFO:tensorflow:/orions4-zfs/projects/lins2/Panos_Space/DATA/OUT/models/nips/gan/nb_gan/nb_ae_emd_chair_2048_pts/models.ckpt-350 is not in all_model_checkpoint_paths. Manually adding it.\n",
      "351 (1.0990100410249499, 1.4353535210644757)\n",
      "352 (1.1617608891593085, 1.4072393342300697)\n",
      "353 (1.0519429626288237, 1.3417944073677064)\n",
      "354 (1.0731905040917573, 1.3033019763452036)\n",
      "355 (1.1033832792882565, 1.2317828434484976)\n",
      "356 (1.0741738120714823, 1.1989940347494903)\n",
      "357 (1.1251764637452584, 1.1963273220592074)\n",
      "358 (1.2269827480669375, 1.0947683113592643)\n",
      "359 (1.077488108917519, 1.2794514452969585)\n",
      "360 (1.1656825242219149, 1.2089505910873413)\n",
      "INFO:tensorflow:/orions4-zfs/projects/lins2/Panos_Space/DATA/OUT/models/nips/gan/nb_gan/nb_ae_emd_chair_2048_pts/models.ckpt-360 is not in all_model_checkpoint_paths. Manually adding it.\n"
     ]
    }
   ],
   "source": [
    "if do_training:\n",
    "    for _ in range(max_epochs):        \n",
    "        loss, duration = gan._single_epoch_train(training_data, batch_size, noise_params)\n",
    "        epoch = int(gan.sess.run(gan.epoch.assign_add(tf.constant(1.0))))\n",
    "        print epoch, loss\n",
    "        syn_latent_data = gan.generate(n_syn_samples, noise_params)\n",
    "        syn_data = ae.decode(syn_latent_data)\n",
    "        accum_syn_data.append(syn_data)                \n",
    "        if save_model and (epoch % saver_step == 0 or epoch - 1 == 0):\n",
    "            checkpoint_path = osp.join(train_dir, model_saver_id)\n",
    "            gan.saver.save(gan.sess, checkpoint_path, global_step=gan.epoch)\n",
    "        train_stats.append((epoch,) + loss)"
   ]
  },
  {
   "cell_type": "code",
   "execution_count": 81,
   "metadata": {
    "collapsed": false,
    "deletable": true,
    "editable": true
   },
   "outputs": [
    {
     "data": {
      "image/png": "[encoded data removed]",
      "text/plain": [
       "<matplotlib.figure.Figure at 0x7f1b7f086d90>"
      ]
     },
     "metadata": {},
     "output_type": "display_data"
    }
   ],
   "source": [
    "rid = np.random.randint(1000)\n",
    "Point_Cloud(accum_syn_data[100][rid]).plot();"
   ]
  },
  {
   "cell_type": "code",
   "execution_count": 19,
   "metadata": {
    "collapsed": false,
    "deletable": true,
    "editable": true
   },
   "outputs": [
    {
     "data": {
      "image/png": "[encoded data removed]",
      "text/plain": [
       "<matplotlib.figure.Figure at 0x7fb6bc7f6750>"
      ]
     },
     "metadata": {},
     "output_type": "display_data"
    }
   ],
   "source": [
    "if do_plotting:\n",
    "    x = range(len(train_stats))\n",
    "    d_loss = [t[1] for t in train_stats]\n",
    "    g_loss = [t[2] for t in train_stats]\n",
    "    plt.plot(x, d_loss)\n",
    "    plt.plot(x, g_loss)\n",
    "    plt.title('Latent GAN training. (%s, %s)' %(class_name, ae_loss))\n",
    "    plt.legend(['d_loss', 'g_loss'], loc=0)\n",
    "    plt.xlabel('Epochs.')\n",
    "    plt.ylabel('Loss.')"
   ]
  },
  {
   "cell_type": "code",
   "execution_count": null,
   "metadata": {
    "collapsed": true,
    "deletable": true,
    "editable": true
   },
   "outputs": [],
   "source": [
    "if save_synthetic_samples:\n",
    "    save_dir = osp.join(synthetic_data_out_dir, experiment_name)\n",
    "    create_dir(save_dir)\n",
    "    for i in range(len(accum_syn_data)):\n",
    "        np.savez(osp.join(save_dir, 'epoch_' + str( (i+1) * saver_step)), accum_syn_data[i])"
   ]
  },
  {
   "cell_type": "code",
   "execution_count": null,
   "metadata": {
    "collapsed": false,
    "deletable": true,
    "editable": true
   },
   "outputs": [],
   "source": [
    "epoch_to_check = 5\n",
    "n_check = 10\n",
    "check_data = accum_syn_data[epoch_to_check-1]\n",
    "rids = np.random.choice(range(len(check_data)), size=n_check, replace=False)\n",
    "\n",
    "for i in range(n_check):\n",
    "    Point_Cloud(check_data[rids[i]]).plot()"
   ]
  }
 ],
 "metadata": {
  "kernelspec": {
   "display_name": "Python 2",
   "language": "python",
   "name": "python2"
  },
  "language_info": {
   "codemirror_mode": {
    "name": "ipython",
    "version": 2
   },
   "file_extension": ".py",
   "mimetype": "text/x-python",
   "name": "python",
   "nbconvert_exporter": "python",
   "pygments_lexer": "ipython2",
   "version": "2.7.6"
  }
 },
 "nbformat": 4,
 "nbformat_minor": 2
}
