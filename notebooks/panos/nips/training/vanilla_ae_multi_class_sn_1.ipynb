{
 "cells": [
  {
   "cell_type": "code",
   "execution_count": 1,
   "metadata": {
    "collapsed": false,
    "deletable": true,
    "editable": true
   },
   "outputs": [
    {
     "name": "stdout",
     "output_type": "stream",
     "text": [
      "Picking GPU 0\n"
     ]
    }
   ],
   "source": [
    "from general_tools.notebook.gpu_utils import setup_one_gpu\n",
    "GPU = 0\n",
    "setup_one_gpu(GPU)"
   ]
  },
  {
   "cell_type": "code",
   "execution_count": 2,
   "metadata": {
    "collapsed": false,
    "deletable": true,
    "editable": true
   },
   "outputs": [
    {
     "name": "stderr",
     "output_type": "stream",
     "text": [
      "/usr/local/lib/python2.7/dist-packages/matplotlib/font_manager.py:273: UserWarning: Matplotlib is building the font cache using fc-list. This may take a moment.\n",
      "  warnings.warn('Matplotlib is building the font cache using fc-list. This may take a moment.')\n",
      "/orions4-zfs/projects/lins2/Panos_Space/Git_Repos/geo_tool/solids/mesh.py:26: UserWarning: Mayavi library was not found. Some graphics utilities will be disabled.\n",
      "  warnings.warn('Mayavi library was not found. Some graphics utilities will be disabled.')\n"
     ]
    }
   ],
   "source": [
    "import sys\n",
    "import time\n",
    "import numpy as np\n",
    "import os.path as osp\n",
    "import tensorflow as tf\n",
    "import matplotlib.pyplot as plt\n",
    "\n",
    "from general_tools.notebook.tf import reset_tf_graph\n",
    "\n",
    "import tf_lab.point_clouds.in_out as pio\n",
    "\n",
    "from tf_lab.point_clouds.in_out import PointCloudDataSet, write_model_ids_of_datasets\n",
    "from tf_lab.point_clouds.point_net_ae import PointNetAutoEncoder\n",
    "from tf_lab.point_clouds.autoencoder import Configuration as Conf\n",
    "import tf_lab.point_clouds.encoders_decoders as enc_dec\n",
    "\n",
    "\n",
    "from tf_lab.autopredictors.scripts.helper import shape_net_category_to_synth_id\n",
    "\n",
    "\n",
    "from tf_lab.autopredictors.plotting import plot_original_pclouds_vs_reconstructed, \\\n",
    "                                           plot_train_val_test_curves, plot_reconstructions_at_epoch, \\\n",
    "                                           plot_interpolations\n",
    "\n",
    "\n",
    "from tf_lab.autopredictors.evaluate import eval_model, read_saved_epochs\n",
    "                                                  \n",
    "\n",
    "from general_tools.in_out.basics import create_dir, delete_files_in_directory, files_in_subdirs\n",
    "from general_tools.simpletons import select_first_last_and_k\n",
    "from geo_tool import Point_Cloud\n",
    "\n",
    "from tf_lab.nips.shape_net import pc_loader as sn_pc_loader"
   ]
  },
  {
   "cell_type": "code",
   "execution_count": 3,
   "metadata": {
    "collapsed": false,
    "deletable": true,
    "editable": true
   },
   "outputs": [],
   "source": [
    "%load_ext autoreload\n",
    "%autoreload 2\n",
    "%matplotlib inline"
   ]
  },
  {
   "cell_type": "code",
   "execution_count": 4,
   "metadata": {
    "collapsed": true,
    "deletable": true,
    "editable": true
   },
   "outputs": [],
   "source": [
    "n_pc_samples = 2048\n",
    "do_training = True\n",
    "do_plotting = False\n",
    "first_time_running = True\n",
    "load_model = False\n",
    "seed = 42\n",
    "max_training_epochs = 1000\n",
    "loss = 'emd'\n",
    "experiment_name = 'four_fc_dec_' + str(n_pc_samples) +  'pts_' + loss"
   ]
  },
  {
   "cell_type": "code",
   "execution_count": 5,
   "metadata": {
    "collapsed": false,
    "deletable": true,
    "editable": true
   },
   "outputs": [
    {
     "data": {
      "text/plain": [
       "'/orions4-zfs/projects/lins2/Panos_Space/DATA/OUT/models/nips/vanilla_ae/four_fc_dec_2048pts_emd'"
      ]
     },
     "execution_count": 5,
     "metadata": {},
     "output_type": "execute_result"
    }
   ],
   "source": [
    "top_data_dir = '/orions4-zfs/projects/lins2/Panos_Space/DATA/'\n",
    "full_pclouds_path = osp.join(top_data_dir, 'Point_Clouds/Shape_Net/Core/from_manifold_meshes/centered/', str(n_pc_samples))\n",
    "train_dir = osp.join(top_data_dir, 'OUT/models/nips/vanilla_ae/')\n",
    "train_dir = osp.join(train_dir, experiment_name)\n",
    "create_dir(train_dir)"
   ]
  },
  {
   "cell_type": "code",
   "execution_count": 6,
   "metadata": {
    "collapsed": false,
    "deletable": true,
    "editable": true,
    "scrolled": true
   },
   "outputs": [
    {
     "name": "stdout",
     "output_type": "stream",
     "text": [
      "57449 files containing complete point clouds were found.\n"
     ]
    },
    {
     "name": "stderr",
     "output_type": "stream",
     "text": [
      "/orions4-zfs/projects/lins2/Panos_Space/Git_Repos/tf_lab/point_clouds/in_out.py:56: UserWarning: Point clouds with the same model name were loaded.\n",
      "  warnings.warn('Point clouds with the same model name were loaded.')\n"
     ]
    }
   ],
   "source": [
    "full_file_names = pio.load_filenames_of_input_data(full_pclouds_path, '.ply')\n",
    "full_pclouds, full_model_names, full_syn_ids = pio.load_crude_point_clouds(file_names=full_file_names,\\\n",
    "                                                                           n_threads=50, loader=sn_pc_loader)\n",
    "print '%d files containing complete point clouds were found.' % (len(full_pclouds), )"
   ]
  },
  {
   "cell_type": "code",
   "execution_count": 7,
   "metadata": {
    "collapsed": false,
    "deletable": true,
    "editable": true
   },
   "outputs": [],
   "source": [
    "# np.random.seed(seed)\n",
    "# tf.set_random_seed(seed)\n",
    "\n",
    "# train_data_, val_data_, test_data_, r_indices = pio.train_validate_test_split(\n",
    "#                                                             [full_pclouds, full_model_names],\n",
    "#                                                             train_perc=0.85,\n",
    "#                                                             validate_perc=0.05,\n",
    "#                                                             test_perc=0.1,\n",
    "#                                                             seed=seed)\n",
    "\n",
    "# model_ids = np.vstack((full_model_names, full_syn_ids)).T\n",
    "\n",
    "# if first_time_running:\n",
    "#     write_model_ids_of_datasets(train_dir, model_ids, r_indices)\n",
    "\n",
    "# train_data = PointCloudDataSet(train_data_[0], labels=train_data_[1])\n",
    "# val_data = PointCloudDataSet(val_data_[0], labels=val_data_[1])\n",
    "# test_data = PointCloudDataSet(test_data_[0], labels=test_data_[1])\n",
    "\n",
    "model_unames = full_model_names + '.' + full_syn_ids\n",
    "train_data = PointCloudDataSet(full_pclouds, labels=model_unames)"
   ]
  },
  {
   "cell_type": "code",
   "execution_count": null,
   "metadata": {
    "collapsed": false,
    "deletable": true,
    "editable": true
   },
   "outputs": [],
   "source": [
    "if load_model:\n",
    "    conf = Conf.load(osp.join(train_dir, 'configuration'))\n",
    "    print conf\n",
    "else:\n",
    "    n_input = [n_pc_samples, 3]\n",
    "\n",
    "#     encoder_args = {'dropout_prob': 0.8}\n",
    "    \n",
    "    decoder_args = {'layer_sizes': [1024, 2048, 2048, np.prod(n_input)],\n",
    "                    'non_linearity': tf.nn.relu\n",
    "                   }\n",
    "\n",
    "    conf = Conf(\n",
    "                n_input = n_input,\n",
    "                training_epochs = max_training_epochs,\n",
    "                batch_size = 50,\n",
    "                loss = loss,\n",
    "                denoising = False,\n",
    "                train_dir = train_dir,\n",
    "                loss_display_step = 1,\n",
    "                saver_step = 10,\n",
    "                learning_rate = 0.0005,\n",
    "                z_rotate = True,\n",
    "                encoder = enc_dec.encoder_with_convs_and_symmetry,\n",
    "                decoder = enc_dec.decoder_with_fc_only,\n",
    "                decoder_args = decoder_args,        \n",
    "               )\n",
    "\n",
    "    conf.experiment_name = experiment_name\n",
    "    conf.save(osp.join(conf.train_dir, 'configuration'))\n",
    "    \n",
    "reset_tf_graph()\n",
    "ae = PointNetAutoEncoder(experiment_name, conf)\n",
    "\n",
    "if load_model:\n",
    "    saved_epochs = read_saved_epochs(conf.train_dir)\n",
    "    last_epoch = saved_epochs[-1]\n",
    "    ae.restore_model(conf.train_dir, last_epoch, verbose=True)"
   ]
  },
  {
   "cell_type": "code",
   "execution_count": 9,
   "metadata": {
    "collapsed": true,
    "deletable": true,
    "editable": true
   },
   "outputs": [],
   "source": [
    "summary_writer = tf.summary.FileWriter('/orions4-zfs/projects/lins2/Panos_Space/test', graph=ae.sess.graph)"
   ]
  },
  {
   "cell_type": "code",
   "execution_count": null,
   "metadata": {
    "collapsed": false,
    "deletable": true,
    "editable": true
   },
   "outputs": [
    {
     "name": "stdout",
     "output_type": "stream",
     "text": [
      "('Epoch:', '0001', 'training time (minutes)=', '4.0503', 'loss=', '197.114305064')\n",
      "INFO:tensorflow:/orions4-zfs/projects/lins2/Panos_Space/DATA/OUT/models/nips/vanilla_ae/four_fc_dec_2048pts_emd/models.ckpt-1 is not in all_model_checkpoint_paths. Manually adding it.\n",
      "('Epoch:', '0002', 'training time (minutes)=', '4.1848', 'loss=', '158.860065267')\n",
      "('Epoch:', '0003', 'training time (minutes)=', '4.1202', 'loss=', '147.382473324')\n",
      "('Epoch:', '0004', 'training time (minutes)=', '4.1813', 'loss=', '137.538079185')\n",
      "('Epoch:', '0005', 'training time (minutes)=', '4.3218', 'loss=', '130.045689566')\n",
      "('Epoch:', '0006', 'training time (minutes)=', '4.2168', 'loss=', '123.691542835')\n",
      "('Epoch:', '0007', 'training time (minutes)=', '4.2688', 'loss=', '120.391356020')\n",
      "('Epoch:', '0008', 'training time (minutes)=', '4.1557', 'loss=', '118.242287726')\n",
      "('Epoch:', '0009', 'training time (minutes)=', '4.2655', 'loss=', '116.553683982')\n",
      "('Epoch:', '0010', 'training time (minutes)=', '4.1739', 'loss=', '115.219565069')\n",
      "INFO:tensorflow:/orions4-zfs/projects/lins2/Panos_Space/DATA/OUT/models/nips/vanilla_ae/four_fc_dec_2048pts_emd/models.ckpt-10 is not in all_model_checkpoint_paths. Manually adding it.\n",
      "('Epoch:', '0011', 'training time (minutes)=', '4.4768', 'loss=', '113.279316673')\n",
      "('Epoch:', '0012', 'training time (minutes)=', '4.1639', 'loss=', '112.015656774')\n",
      "('Epoch:', '0013', 'training time (minutes)=', '4.2967', 'loss=', '110.873005505')\n",
      "('Epoch:', '0014', 'training time (minutes)=', '4.4774', 'loss=', '109.278090926')\n",
      "('Epoch:', '0015', 'training time (minutes)=', '4.1356', 'loss=', '110.798226008')\n",
      "('Epoch:', '0016', 'training time (minutes)=', '4.2791', 'loss=', '108.923674520')\n",
      "('Epoch:', '0017', 'training time (minutes)=', '4.2941', 'loss=', '108.622789828')\n",
      "('Epoch:', '0018', 'training time (minutes)=', '4.2076', 'loss=', '107.961210051')\n",
      "('Epoch:', '0019', 'training time (minutes)=', '4.1579', 'loss=', '106.364946359')\n",
      "('Epoch:', '0020', 'training time (minutes)=', '4.2637', 'loss=', '106.199797202')\n",
      "INFO:tensorflow:/orions4-zfs/projects/lins2/Panos_Space/DATA/OUT/models/nips/vanilla_ae/four_fc_dec_2048pts_emd/models.ckpt-20 is not in all_model_checkpoint_paths. Manually adding it.\n",
      "('Epoch:', '0021', 'training time (minutes)=', '4.1134', 'loss=', '105.737413825')\n",
      "('Epoch:', '0022', 'training time (minutes)=', '4.3553', 'loss=', '105.000245330')\n",
      "('Epoch:', '0023', 'training time (minutes)=', '4.3282', 'loss=', '105.194554266')\n",
      "('Epoch:', '0024', 'training time (minutes)=', '4.3131', 'loss=', '104.984523700')\n",
      "('Epoch:', '0025', 'training time (minutes)=', '4.1195', 'loss=', '104.174694865')\n",
      "('Epoch:', '0026', 'training time (minutes)=', '4.0763', 'loss=', '103.167811576')\n",
      "('Epoch:', '0027', 'training time (minutes)=', '4.2259', 'loss=', '103.235005874')\n",
      "('Epoch:', '0028', 'training time (minutes)=', '4.1262', 'loss=', '102.504835674')\n",
      "('Epoch:', '0029', 'training time (minutes)=', '4.1252', 'loss=', '102.692382035')\n",
      "('Epoch:', '0030', 'training time (minutes)=', '4.1248', 'loss=', '102.191889587')\n",
      "INFO:tensorflow:/orions4-zfs/projects/lins2/Panos_Space/DATA/OUT/models/nips/vanilla_ae/four_fc_dec_2048pts_emd/models.ckpt-30 is not in all_model_checkpoint_paths. Manually adding it.\n",
      "('Epoch:', '0031', 'training time (minutes)=', '4.1949', 'loss=', '101.732190009')\n",
      "('Epoch:', '0032', 'training time (minutes)=', '4.1163', 'loss=', '101.159897269')\n",
      "('Epoch:', '0033', 'training time (minutes)=', '4.1123', 'loss=', '101.064107244')\n",
      "('Epoch:', '0034', 'training time (minutes)=', '4.2009', 'loss=', '100.874564267')\n",
      "('Epoch:', '0035', 'training time (minutes)=', '4.1259', 'loss=', '100.970600926')\n",
      "('Epoch:', '0036', 'training time (minutes)=', '4.2001', 'loss=', '100.007378847')\n",
      "('Epoch:', '0037', 'training time (minutes)=', '4.1548', 'loss=', '99.825690731')\n",
      "('Epoch:', '0038', 'training time (minutes)=', '4.1838', 'loss=', '100.389825568')\n",
      "('Epoch:', '0039', 'training time (minutes)=', '4.3318', 'loss=', '99.206971159')\n",
      "('Epoch:', '0040', 'training time (minutes)=', '4.2345', 'loss=', '98.851737052')\n",
      "INFO:tensorflow:/orions4-zfs/projects/lins2/Panos_Space/DATA/OUT/models/nips/vanilla_ae/four_fc_dec_2048pts_emd/models.ckpt-40 is not in all_model_checkpoint_paths. Manually adding it.\n",
      "('Epoch:', '0041', 'training time (minutes)=', '4.2475', 'loss=', '98.854360075')\n",
      "('Epoch:', '0042', 'training time (minutes)=', '4.2932', 'loss=', '98.703415043')\n",
      "('Epoch:', '0043', 'training time (minutes)=', '4.1522', 'loss=', '99.115514855')\n",
      "('Epoch:', '0044', 'training time (minutes)=', '4.1253', 'loss=', '97.548645146')\n",
      "('Epoch:', '0045', 'training time (minutes)=', '4.1525', 'loss=', '98.694248186')\n",
      "('Epoch:', '0046', 'training time (minutes)=', '4.1875', 'loss=', '97.710724940')\n",
      "('Epoch:', '0047', 'training time (minutes)=', '4.1220', 'loss=', '97.758745007')\n",
      "('Epoch:', '0048', 'training time (minutes)=', '4.2892', 'loss=', '97.811345130')\n",
      "('Epoch:', '0049', 'training time (minutes)=', '4.2790', 'loss=', '97.364802145')\n",
      "('Epoch:', '0050', 'training time (minutes)=', '4.2275', 'loss=', '97.313781984')\n",
      "INFO:tensorflow:/orions4-zfs/projects/lins2/Panos_Space/DATA/OUT/models/nips/vanilla_ae/four_fc_dec_2048pts_emd/models.ckpt-50 is not in all_model_checkpoint_paths. Manually adding it.\n",
      "('Epoch:', '0051', 'training time (minutes)=', '4.1578', 'loss=', '97.433347775')\n",
      "('Epoch:', '0052', 'training time (minutes)=', '4.1878', 'loss=', '95.896336260')\n",
      "('Epoch:', '0053', 'training time (minutes)=', '4.2599', 'loss=', '96.138817113')\n",
      "('Epoch:', '0054', 'training time (minutes)=', '4.2013', 'loss=', '97.139678816')\n",
      "('Epoch:', '0055', 'training time (minutes)=', '4.1153', 'loss=', '96.593930102')\n",
      "('Epoch:', '0056', 'training time (minutes)=', '4.2370', 'loss=', '96.406353396')\n",
      "('Epoch:', '0057', 'training time (minutes)=', '4.2114', 'loss=', '95.809835673')\n",
      "('Epoch:', '0058', 'training time (minutes)=', '4.1379', 'loss=', '95.679932618')\n",
      "('Epoch:', '0059', 'training time (minutes)=', '4.3592', 'loss=', '95.671958651')\n",
      "('Epoch:', '0060', 'training time (minutes)=', '4.2667', 'loss=', '95.873929997')\n",
      "INFO:tensorflow:/orions4-zfs/projects/lins2/Panos_Space/DATA/OUT/models/nips/vanilla_ae/four_fc_dec_2048pts_emd/models.ckpt-60 is not in all_model_checkpoint_paths. Manually adding it.\n",
      "('Epoch:', '0061', 'training time (minutes)=', '4.1465', 'loss=', '95.059041106')\n",
      "('Epoch:', '0062', 'training time (minutes)=', '4.1049', 'loss=', '95.228886235')\n",
      "('Epoch:', '0063', 'training time (minutes)=', '4.1243', 'loss=', '95.507566605')\n",
      "('Epoch:', '0064', 'training time (minutes)=', '4.0916', 'loss=', '95.048244117')\n",
      "('Epoch:', '0065', 'training time (minutes)=', '4.2124', 'loss=', '95.183368470')\n",
      "('Epoch:', '0066', 'training time (minutes)=', '4.0770', 'loss=', '94.622489351')\n",
      "('Epoch:', '0067', 'training time (minutes)=', '4.1429', 'loss=', '95.093414519')\n",
      "('Epoch:', '0068', 'training time (minutes)=', '4.1907', 'loss=', '94.561373176')\n",
      "('Epoch:', '0069', 'training time (minutes)=', '4.1447', 'loss=', '94.948270107')\n",
      "('Epoch:', '0070', 'training time (minutes)=', '4.1280', 'loss=', '94.325091611')\n",
      "INFO:tensorflow:/orions4-zfs/projects/lins2/Panos_Space/DATA/OUT/models/nips/vanilla_ae/four_fc_dec_2048pts_emd/models.ckpt-70 is not in all_model_checkpoint_paths. Manually adding it.\n",
      "('Epoch:', '0071', 'training time (minutes)=', '4.2013', 'loss=', '94.157705314')\n",
      "('Epoch:', '0072', 'training time (minutes)=', '4.1742', 'loss=', '93.862847710')\n",
      "('Epoch:', '0073', 'training time (minutes)=', '4.1559', 'loss=', '94.379304381')\n",
      "('Epoch:', '0074', 'training time (minutes)=', '4.0813', 'loss=', '93.748433396')\n",
      "('Epoch:', '0075', 'training time (minutes)=', '4.0819', 'loss=', '94.594400286')\n",
      "('Epoch:', '0076', 'training time (minutes)=', '4.1905', 'loss=', '94.006158383')\n",
      "('Epoch:', '0077', 'training time (minutes)=', '4.1132', 'loss=', '93.161436314')\n",
      "('Epoch:', '0078', 'training time (minutes)=', '4.1204', 'loss=', '93.905960468')\n",
      "('Epoch:', '0079', 'training time (minutes)=', '4.1039', 'loss=', '93.545711836')\n",
      "('Epoch:', '0080', 'training time (minutes)=', '4.1801', 'loss=', '92.994319956')\n",
      "INFO:tensorflow:/orions4-zfs/projects/lins2/Panos_Space/DATA/OUT/models/nips/vanilla_ae/four_fc_dec_2048pts_emd/models.ckpt-80 is not in all_model_checkpoint_paths. Manually adding it.\n",
      "('Epoch:', '0081', 'training time (minutes)=', '4.1777', 'loss=', '94.099147285')\n",
      "('Epoch:', '0082', 'training time (minutes)=', '4.0945', 'loss=', '93.122478864')\n",
      "('Epoch:', '0083', 'training time (minutes)=', '4.1249', 'loss=', '92.784458572')\n",
      "('Epoch:', '0084', 'training time (minutes)=', '4.2016', 'loss=', '92.947175381')\n",
      "('Epoch:', '0085', 'training time (minutes)=', '4.1735', 'loss=', '93.037948788')\n",
      "('Epoch:', '0086', 'training time (minutes)=', '4.1183', 'loss=', '92.792491321')\n",
      "('Epoch:', '0087', 'training time (minutes)=', '4.1590', 'loss=', '93.235419835')\n",
      "('Epoch:', '0088', 'training time (minutes)=', '4.1902', 'loss=', '92.515904530')\n",
      "('Epoch:', '0089', 'training time (minutes)=', '4.1318', 'loss=', '92.687115254')\n",
      "('Epoch:', '0090', 'training time (minutes)=', '4.1605', 'loss=', '92.589020573')\n",
      "INFO:tensorflow:/orions4-zfs/projects/lins2/Panos_Space/DATA/OUT/models/nips/vanilla_ae/four_fc_dec_2048pts_emd/models.ckpt-90 is not in all_model_checkpoint_paths. Manually adding it.\n",
      "('Epoch:', '0091', 'training time (minutes)=', '4.1877', 'loss=', '92.462812856')\n",
      "('Epoch:', '0092', 'training time (minutes)=', '4.1687', 'loss=', '92.167472653')\n",
      "('Epoch:', '0093', 'training time (minutes)=', '4.1546', 'loss=', '92.350972033')\n",
      "('Epoch:', '0094', 'training time (minutes)=', '4.1371', 'loss=', '92.327899860')\n",
      "('Epoch:', '0095', 'training time (minutes)=', '4.1498', 'loss=', '92.394428512')\n",
      "('Epoch:', '0096', 'training time (minutes)=', '4.1190', 'loss=', '92.109876673')\n",
      "('Epoch:', '0097', 'training time (minutes)=', '4.2195', 'loss=', '91.680259864')\n",
      "('Epoch:', '0098', 'training time (minutes)=', '4.1451', 'loss=', '91.856823120')\n",
      "('Epoch:', '0099', 'training time (minutes)=', '4.0927', 'loss=', '91.201597333')\n",
      "('Epoch:', '0100', 'training time (minutes)=', '4.1177', 'loss=', '92.032424315')\n",
      "INFO:tensorflow:/orions4-zfs/projects/lins2/Panos_Space/DATA/OUT/models/nips/vanilla_ae/four_fc_dec_2048pts_emd/models.ckpt-100 is not in all_model_checkpoint_paths. Manually adding it.\n",
      "('Epoch:', '0101', 'training time (minutes)=', '4.0952', 'loss=', '91.889226282')\n",
      "('Epoch:', '0102', 'training time (minutes)=', '4.1542', 'loss=', '91.999478563')\n",
      "('Epoch:', '0103', 'training time (minutes)=', '4.1601', 'loss=', '91.912456473')\n",
      "('Epoch:', '0104', 'training time (minutes)=', '4.1778', 'loss=', '92.035276366')\n",
      "('Epoch:', '0105', 'training time (minutes)=', '4.1645', 'loss=', '91.593026244')\n",
      "('Epoch:', '0106', 'training time (minutes)=', '4.1193', 'loss=', '91.614530477')\n",
      "('Epoch:', '0107', 'training time (minutes)=', '4.0545', 'loss=', '90.879450256')\n",
      "('Epoch:', '0108', 'training time (minutes)=', '4.0565', 'loss=', '91.059729167')\n",
      "('Epoch:', '0109', 'training time (minutes)=', '4.0684', 'loss=', '91.599365779')\n",
      "('Epoch:', '0110', 'training time (minutes)=', '4.0634', 'loss=', '91.475649179')\n",
      "INFO:tensorflow:/orions4-zfs/projects/lins2/Panos_Space/DATA/OUT/models/nips/vanilla_ae/four_fc_dec_2048pts_emd/models.ckpt-110 is not in all_model_checkpoint_paths. Manually adding it.\n",
      "('Epoch:', '0111', 'training time (minutes)=', '4.0940', 'loss=', '91.379515365')\n",
      "('Epoch:', '0112', 'training time (minutes)=', '4.0918', 'loss=', '91.152923883')\n",
      "('Epoch:', '0113', 'training time (minutes)=', '4.0713', 'loss=', '91.255647918')\n",
      "('Epoch:', '0114', 'training time (minutes)=', '4.1113', 'loss=', '91.114244395')\n",
      "('Epoch:', '0115', 'training time (minutes)=', '4.1264', 'loss=', '90.300516521')\n",
      "('Epoch:', '0116', 'training time (minutes)=', '4.1617', 'loss=', '90.988929895')\n",
      "('Epoch:', '0117', 'training time (minutes)=', '4.2477', 'loss=', '90.855399866')\n",
      "('Epoch:', '0118', 'training time (minutes)=', '4.1786', 'loss=', '90.484775085')\n",
      "('Epoch:', '0119', 'training time (minutes)=', '4.1094', 'loss=', '90.767802587')\n",
      "('Epoch:', '0120', 'training time (minutes)=', '4.1137', 'loss=', '89.917629727')\n",
      "INFO:tensorflow:/orions4-zfs/projects/lins2/Panos_Space/DATA/OUT/models/nips/vanilla_ae/four_fc_dec_2048pts_emd/models.ckpt-120 is not in all_model_checkpoint_paths. Manually adding it.\n",
      "('Epoch:', '0121', 'training time (minutes)=', '4.1454', 'loss=', '90.753821223')\n",
      "('Epoch:', '0122', 'training time (minutes)=', '4.0889', 'loss=', '90.640689086')\n",
      "('Epoch:', '0123', 'training time (minutes)=', '4.1316', 'loss=', '90.462993502')\n",
      "('Epoch:', '0124', 'training time (minutes)=', '4.1262', 'loss=', '89.982941564')\n",
      "('Epoch:', '0125', 'training time (minutes)=', '4.1627', 'loss=', '90.510054532')\n",
      "('Epoch:', '0126', 'training time (minutes)=', '4.1249', 'loss=', '90.085497069')\n",
      "('Epoch:', '0127', 'training time (minutes)=', '4.1835', 'loss=', '90.333143420')\n",
      "('Epoch:', '0128', 'training time (minutes)=', '4.1165', 'loss=', '90.062344667')\n",
      "('Epoch:', '0129', 'training time (minutes)=', '4.1698', 'loss=', '90.233104825')\n",
      "('Epoch:', '0130', 'training time (minutes)=', '4.1429', 'loss=', '89.979085244')\n",
      "INFO:tensorflow:/orions4-zfs/projects/lins2/Panos_Space/DATA/OUT/models/nips/vanilla_ae/four_fc_dec_2048pts_emd/models.ckpt-130 is not in all_model_checkpoint_paths. Manually adding it.\n",
      "('Epoch:', '0131', 'training time (minutes)=', '4.1243', 'loss=', '90.105388263')\n",
      "('Epoch:', '0132', 'training time (minutes)=', '4.1463', 'loss=', '89.753904981')\n",
      "('Epoch:', '0133', 'training time (minutes)=', '4.1085', 'loss=', '89.912952337')\n",
      "('Epoch:', '0134', 'training time (minutes)=', '4.1300', 'loss=', '89.933103296')\n",
      "('Epoch:', '0135', 'training time (minutes)=', '4.1651', 'loss=', '89.548813205')\n",
      "('Epoch:', '0136', 'training time (minutes)=', '4.1456', 'loss=', '89.956077808')\n",
      "('Epoch:', '0137', 'training time (minutes)=', '4.0467', 'loss=', '89.527786694')\n",
      "('Epoch:', '0138', 'training time (minutes)=', '4.0669', 'loss=', '89.909508323')\n",
      "('Epoch:', '0139', 'training time (minutes)=', '4.0820', 'loss=', '89.649006202')\n",
      "('Epoch:', '0140', 'training time (minutes)=', '4.1817', 'loss=', '89.711691368')\n",
      "INFO:tensorflow:/orions4-zfs/projects/lins2/Panos_Space/DATA/OUT/models/nips/vanilla_ae/four_fc_dec_2048pts_emd/models.ckpt-140 is not in all_model_checkpoint_paths. Manually adding it.\n",
      "('Epoch:', '0141', 'training time (minutes)=', '4.1405', 'loss=', '89.501703754')\n",
      "('Epoch:', '0142', 'training time (minutes)=', '4.1571', 'loss=', '89.998598172')\n",
      "('Epoch:', '0143', 'training time (minutes)=', '4.1476', 'loss=', '89.412598135')\n",
      "('Epoch:', '0144', 'training time (minutes)=', '4.1038', 'loss=', '89.019316790')\n",
      "('Epoch:', '0145', 'training time (minutes)=', '4.1566', 'loss=', '89.649493799')\n",
      "('Epoch:', '0146', 'training time (minutes)=', '4.1474', 'loss=', '89.341971560')\n",
      "('Epoch:', '0147', 'training time (minutes)=', '4.1069', 'loss=', '89.022581439')\n",
      "('Epoch:', '0148', 'training time (minutes)=', '4.1170', 'loss=', '89.264487961')\n",
      "('Epoch:', '0149', 'training time (minutes)=', '4.0511', 'loss=', '89.506273090')\n",
      "('Epoch:', '0150', 'training time (minutes)=', '4.0841', 'loss=', '89.318125024')\n",
      "INFO:tensorflow:/orions4-zfs/projects/lins2/Panos_Space/DATA/OUT/models/nips/vanilla_ae/four_fc_dec_2048pts_emd/models.ckpt-150 is not in all_model_checkpoint_paths. Manually adding it.\n",
      "('Epoch:', '0151', 'training time (minutes)=', '4.1451', 'loss=', '89.372193632')\n",
      "('Epoch:', '0152', 'training time (minutes)=', '4.1632', 'loss=', '89.330533237')\n",
      "('Epoch:', '0153', 'training time (minutes)=', '4.0949', 'loss=', '88.910905911')\n",
      "('Epoch:', '0154', 'training time (minutes)=', '4.0605', 'loss=', '88.920449473')\n",
      "('Epoch:', '0155', 'training time (minutes)=', '4.0897', 'loss=', '89.474375515')\n",
      "('Epoch:', '0156', 'training time (minutes)=', '4.1055', 'loss=', '89.139081177')\n",
      "('Epoch:', '0157', 'training time (minutes)=', '4.1289', 'loss=', '88.860866959')\n",
      "('Epoch:', '0158', 'training time (minutes)=', '4.1178', 'loss=', '88.306939208')\n",
      "('Epoch:', '0159', 'training time (minutes)=', '4.0877', 'loss=', '88.715073994')\n",
      "('Epoch:', '0160', 'training time (minutes)=', '4.2007', 'loss=', '89.077480353')\n",
      "INFO:tensorflow:/orions4-zfs/projects/lins2/Panos_Space/DATA/OUT/models/nips/vanilla_ae/four_fc_dec_2048pts_emd/models.ckpt-160 is not in all_model_checkpoint_paths. Manually adding it.\n",
      "('Epoch:', '0161', 'training time (minutes)=', '4.2018', 'loss=', '88.954075617')\n",
      "('Epoch:', '0162', 'training time (minutes)=', '4.1335', 'loss=', '88.568335158')\n",
      "('Epoch:', '0163', 'training time (minutes)=', '4.1468', 'loss=', '89.138330161')\n",
      "('Epoch:', '0164', 'training time (minutes)=', '4.0781', 'loss=', '89.063337054')\n",
      "('Epoch:', '0165', 'training time (minutes)=', '4.1249', 'loss=', '88.662939138')\n",
      "('Epoch:', '0166', 'training time (minutes)=', '4.1368', 'loss=', '88.949545491')\n",
      "('Epoch:', '0167', 'training time (minutes)=', '4.1732', 'loss=', '88.292178403')\n",
      "('Epoch:', '0168', 'training time (minutes)=', '4.1141', 'loss=', '88.527697912')\n",
      "('Epoch:', '0169', 'training time (minutes)=', '4.0923', 'loss=', '88.589108364')\n",
      "('Epoch:', '0170', 'training time (minutes)=', '4.0540', 'loss=', '88.210137138')\n",
      "INFO:tensorflow:/orions4-zfs/projects/lins2/Panos_Space/DATA/OUT/models/nips/vanilla_ae/four_fc_dec_2048pts_emd/models.ckpt-170 is not in all_model_checkpoint_paths. Manually adding it.\n",
      "('Epoch:', '0171', 'training time (minutes)=', '4.0858', 'loss=', '88.418010619')\n",
      "('Epoch:', '0172', 'training time (minutes)=', '4.0949', 'loss=', '88.404656487')\n",
      "('Epoch:', '0173', 'training time (minutes)=', '4.0978', 'loss=', '88.761835178')\n",
      "('Epoch:', '0174', 'training time (minutes)=', '4.1100', 'loss=', '87.999459649')\n",
      "('Epoch:', '0175', 'training time (minutes)=', '4.1315', 'loss=', '88.065599182')\n",
      "('Epoch:', '0176', 'training time (minutes)=', '4.1112', 'loss=', '88.877483807')\n",
      "('Epoch:', '0177', 'training time (minutes)=', '4.1389', 'loss=', '88.451088842')\n",
      "('Epoch:', '0178', 'training time (minutes)=', '4.0930', 'loss=', '88.175559439')\n",
      "('Epoch:', '0179', 'training time (minutes)=', '4.0914', 'loss=', '88.190812506')\n",
      "('Epoch:', '0180', 'training time (minutes)=', '4.0590', 'loss=', '88.302615993')\n",
      "INFO:tensorflow:/orions4-zfs/projects/lins2/Panos_Space/DATA/OUT/models/nips/vanilla_ae/four_fc_dec_2048pts_emd/models.ckpt-180 is not in all_model_checkpoint_paths. Manually adding it.\n",
      "('Epoch:', '0181', 'training time (minutes)=', '4.0987', 'loss=', '88.213847875')\n",
      "('Epoch:', '0182', 'training time (minutes)=', '4.1282', 'loss=', '88.489997432')\n",
      "('Epoch:', '0183', 'training time (minutes)=', '4.1135', 'loss=', '87.774437489')\n",
      "('Epoch:', '0184', 'training time (minutes)=', '4.1880', 'loss=', '87.850836505')\n"
     ]
    }
   ],
   "source": [
    "if do_training:\n",
    "    training_stats = []\n",
    "    training_stats.append(ae.train(train_data, conf))    \n",
    "    with open(osp.join(conf.train_dir, 'train_stats.txt'), 'a') as fout:\n",
    "        np.savetxt(fout, np.array(training_stats)[0])"
   ]
  }
 ],
 "metadata": {
  "kernelspec": {
   "display_name": "Python 2",
   "language": "python",
   "name": "python2"
  },
  "language_info": {
   "codemirror_mode": {
    "name": "ipython",
    "version": 2
   },
   "file_extension": ".py",
   "mimetype": "text/x-python",
   "name": "python",
   "nbconvert_exporter": "python",
   "pygments_lexer": "ipython2",
   "version": "2.7.6"
  }
 },
 "nbformat": 4,
 "nbformat_minor": 0
}
