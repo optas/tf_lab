{
 "cells": [
  {
   "cell_type": "code",
   "execution_count": 1,
   "metadata": {
    "collapsed": false,
    "deletable": true,
    "editable": true
   },
   "outputs": [
    {
     "name": "stdout",
     "output_type": "stream",
     "text": [
      "Picking GPU 0\n"
     ]
    }
   ],
   "source": [
    "from general_tools.notebook.gpu_utils import setup_one_gpu\n",
    "GPU = 0\n",
    "setup_one_gpu(GPU)"
   ]
  },
  {
   "cell_type": "code",
   "execution_count": 2,
   "metadata": {
    "collapsed": false,
    "deletable": true,
    "editable": true
   },
   "outputs": [
    {
     "name": "stderr",
     "output_type": "stream",
     "text": [
      "/usr/local/lib/python2.7/dist-packages/matplotlib/font_manager.py:273: UserWarning: Matplotlib is building the font cache using fc-list. This may take a moment.\n",
      "  warnings.warn('Matplotlib is building the font cache using fc-list. This may take a moment.')\n",
      "/orions4-zfs/projects/lins2/Panos_Space/Git_Repos/geo_tool/solids/mesh.py:26: UserWarning: Mayavi library was not found. Some graphics utilities will be disabled.\n",
      "  warnings.warn('Mayavi library was not found. Some graphics utilities will be disabled.')\n"
     ]
    }
   ],
   "source": [
    "import sys\n",
    "import time\n",
    "import numpy as np\n",
    "import os.path as osp\n",
    "import tensorflow as tf\n",
    "import matplotlib.pyplot as plt\n",
    "\n",
    "from general_tools.notebook.tf import reset_tf_graph\n",
    "\n",
    "import tf_lab.point_clouds.in_out as pio\n",
    "\n",
    "from tf_lab.point_clouds.in_out import PointCloudDataSet, write_model_ids_of_datasets\n",
    "from tf_lab.point_clouds.point_net_ae import PointNetAutoEncoder\n",
    "from tf_lab.point_clouds.autoencoder import Configuration as Conf\n",
    "import tf_lab.point_clouds.encoders_decoders as enc_dec\n",
    "\n",
    "\n",
    "from tf_lab.autopredictors.scripts.helper import shape_net_category_to_synth_id\n",
    "\n",
    "\n",
    "from tf_lab.autopredictors.plotting import plot_original_pclouds_vs_reconstructed, \\\n",
    "                                           plot_train_val_test_curves, plot_reconstructions_at_epoch\n",
    "\n",
    "\n",
    "from tf_lab.autopredictors.evaluate import eval_model, read_saved_epochs\n",
    "                                                  \n",
    "\n",
    "from general_tools.in_out.basics import create_dir, delete_files_in_directory, files_in_subdirs\n",
    "from general_tools.simpletons import select_first_last_and_k\n",
    "from geo_tool import Point_Cloud\n",
    "\n",
    "from tf_lab.nips.shape_net import pc_loader as sn_pc_loader"
   ]
  },
  {
   "cell_type": "code",
   "execution_count": 3,
   "metadata": {
    "collapsed": false,
    "deletable": true,
    "editable": true
   },
   "outputs": [],
   "source": [
    "%load_ext autoreload\n",
    "%autoreload 2\n",
    "%matplotlib inline"
   ]
  },
  {
   "cell_type": "code",
   "execution_count": 4,
   "metadata": {
    "collapsed": true,
    "deletable": true,
    "editable": true
   },
   "outputs": [],
   "source": [
    "n_pc_samples = 2048\n",
    "do_training = True\n",
    "first_time_running = False\n",
    "load_model = True\n",
    "seed = 42\n",
    "max_training_epochs = 2000\n",
    "loss = 'emd'\n",
    "z_rotate = True\n",
    "experiment_name = 'all_snc_rotated_conv_arch_' + str(n_pc_samples) +  'pts_' + loss"
   ]
  },
  {
   "cell_type": "code",
   "execution_count": 5,
   "metadata": {
    "collapsed": false,
    "deletable": true,
    "editable": true
   },
   "outputs": [
    {
     "data": {
      "text/plain": [
       "'/orions4-zfs/projects/lins2/Panos_Space/DATA/OUT/models/nips/vanilla_ae/all_snc_rotated_conv_arch_2048pts_emd'"
      ]
     },
     "execution_count": 5,
     "metadata": {},
     "output_type": "execute_result"
    }
   ],
   "source": [
    "top_data_dir = '/orions4-zfs/projects/lins2/Panos_Space/DATA/'\n",
    "full_pclouds_path = osp.join(top_data_dir, 'Point_Clouds/Shape_Net/Core/from_manifold_meshes/centered/', str(n_pc_samples))\n",
    "train_dir = osp.join(top_data_dir, 'OUT/models/nips/vanilla_ae/')\n",
    "train_dir = osp.join(train_dir, experiment_name)\n",
    "create_dir(train_dir)"
   ]
  },
  {
   "cell_type": "code",
   "execution_count": 6,
   "metadata": {
    "collapsed": false,
    "deletable": true,
    "editable": true,
    "scrolled": true
   },
   "outputs": [
    {
     "name": "stdout",
     "output_type": "stream",
     "text": [
      "57449 files containing complete point clouds were found.\n"
     ]
    },
    {
     "name": "stderr",
     "output_type": "stream",
     "text": [
      "/orions4-zfs/projects/lins2/Panos_Space/Git_Repos/tf_lab/point_clouds/in_out.py:56: UserWarning: Point clouds with the same model name were loaded.\n",
      "  warnings.warn('Point clouds with the same model name were loaded.')\n"
     ]
    }
   ],
   "source": [
    "full_file_names = pio.load_filenames_of_input_data(full_pclouds_path, '.ply')\n",
    "full_pclouds, full_model_names, full_syn_ids = pio.load_crude_point_clouds(file_names=full_file_names,\\\n",
    "                                                                           n_threads=50, loader=sn_pc_loader)\n",
    "print '%d files containing complete point clouds were found.' % (len(full_pclouds), )"
   ]
  },
  {
   "cell_type": "code",
   "execution_count": 7,
   "metadata": {
    "collapsed": false,
    "deletable": true,
    "editable": true
   },
   "outputs": [],
   "source": [
    "model_unames = full_model_names + '.' + full_syn_ids\n",
    "train_data = PointCloudDataSet(full_pclouds, labels=model_unames)"
   ]
  },
  {
   "cell_type": "code",
   "execution_count": 8,
   "metadata": {
    "collapsed": false,
    "deletable": true,
    "editable": true
   },
   "outputs": [
    {
     "name": "stdout",
     "output_type": "stream",
     "text": [
      "              allow_gpu_growth: False\n",
      "                    batch_size: 50\n",
      "                 consistent_io: None\n",
      "                         debug: False\n",
      "                       decoder: decoder_with_fc_only\n",
      "                  decoder_args: {'layer_sizes': [1024, 2048, 6144]}\n",
      "                       encoder: encoder_with_convs_and_symmetry\n",
      "                  encoder_args: {'filter_sizes': [40, 20, 10, 10], 'n_filters': [128, 128, 256, 512], 'strides': [1, 2, 2, 1]}\n",
      "               experiment_name: all_snc_rotated_conv_arch_2048pts_emd\n",
      "                 gauss_augment: None\n",
      "                  is_denoising: False\n",
      "               latent_vs_recon: 1.0\n",
      "                 learning_rate: 0.0005\n",
      "                          loss: emd\n",
      "             loss_display_step: 1\n",
      "                       n_input: [2048, 3]\n",
      "                      n_output: [2048, 3]\n",
      "                           n_z: None\n",
      "             saver_max_to_keep: None\n",
      "                    saver_step: 10\n",
      "                     train_dir: /orions4-zfs/projects/lins2/Panos_Space/DATA/OUT/models/nips/vanilla_ae/all_snc_rotated_conv_arch_2048pts_emd\n",
      "               training_epochs: 2000\n",
      "                      z_rotate: True\n",
      "\n"
     ]
    }
   ],
   "source": [
    "if n_pc_samples == 2048:\n",
    "    \n",
    "    encoder_args = {'n_filters': [128, 128, 256, 512],\n",
    "                    'filter_sizes': [40, 20, 10, 10],\n",
    "                    'strides': [1, 2, 2, 1]\n",
    "                   }\n",
    "    \n",
    "#     encoder_args = {'n_filters': [64, 128, 256, 512, 1024],\n",
    "#                     'filter_sizes' :[1, 1, 1, 1, 1],\n",
    "#                     'strides': [1, 1, 1, 1, 1]}\n",
    "\n",
    "\n",
    "\n",
    "else:\n",
    "    assert(False)\n",
    "\n",
    "\n",
    "if load_model:\n",
    "    conf = Conf.load(osp.join(train_dir, 'configuration'))\n",
    "    print conf\n",
    "    \n",
    "else:\n",
    "    n_input = [n_pc_samples, 3]\n",
    "    \n",
    "    decoder_args = {'layer_sizes': [1024, 2048, np.prod(n_input)] }\n",
    "    \n",
    "    conf = Conf(\n",
    "                n_input = n_input,\n",
    "                training_epochs = max_training_epochs,\n",
    "                batch_size = 50,\n",
    "                loss = loss,\n",
    "                denoising = False,\n",
    "                train_dir = train_dir,\n",
    "                loss_display_step = 1,\n",
    "                saver_step = 10,\n",
    "                learning_rate = 0.0005,\n",
    "                z_rotate = z_rotate,\n",
    "                encoder = enc_dec.encoder_with_convs_and_symmetry,\n",
    "                encoder_args = encoder_args,\n",
    "                decoder = enc_dec.decoder_with_fc_only,\n",
    "                decoder_args = decoder_args,            \n",
    "               )\n",
    "    conf.allow_gpu_growth = False\n",
    "    conf.experiment_name = experiment_name\n",
    "    conf.save(osp.join(conf.train_dir, 'configuration'))"
   ]
  },
  {
   "cell_type": "code",
   "execution_count": 9,
   "metadata": {
    "collapsed": false
   },
   "outputs": [
    {
     "name": "stdout",
     "output_type": "stream",
     "text": [
      "Model restored in epoch 320.\n"
     ]
    }
   ],
   "source": [
    "reset_tf_graph()\n",
    "ae = PointNetAutoEncoder(experiment_name, conf)\n",
    "\n",
    "if load_model:\n",
    "    saved_epochs = read_saved_epochs(conf.train_dir)\n",
    "    last_epoch = saved_epochs[-1]\n",
    "    ae.restore_model(conf.train_dir, last_epoch, verbose=True)"
   ]
  },
  {
   "cell_type": "code",
   "execution_count": null,
   "metadata": {
    "collapsed": false,
    "deletable": true,
    "editable": true
   },
   "outputs": [
    {
     "name": "stdout",
     "output_type": "stream",
     "text": [
      "('Epoch:', '0321', 'training time (minutes)=', '3.9416', 'loss=', '73.925921035')\n",
      "('Epoch:', '0322', 'training time (minutes)=', '3.9732', 'loss=', '73.925776661')\n",
      "('Epoch:', '0323', 'training time (minutes)=', '3.9964', 'loss=', '73.647725757')\n",
      "('Epoch:', '0324', 'training time (minutes)=', '3.9792', 'loss=', '73.348778389')\n",
      "('Epoch:', '0325', 'training time (minutes)=', '4.3838', 'loss=', '73.814564834')\n",
      "('Epoch:', '0326', 'training time (minutes)=', '3.9812', 'loss=', '73.690056724')\n",
      "('Epoch:', '0327', 'training time (minutes)=', '3.9775', 'loss=', '74.108590535')\n",
      "('Epoch:', '0328', 'training time (minutes)=', '3.9925', 'loss=', '73.816085241')\n",
      "('Epoch:', '0329', 'training time (minutes)=', '3.9961', 'loss=', '73.560352113')\n",
      "('Epoch:', '0330', 'training time (minutes)=', '3.9828', 'loss=', '73.819334376')\n",
      "INFO:tensorflow:/orions4-zfs/projects/lins2/Panos_Space/DATA/OUT/models/nips/vanilla_ae/all_snc_rotated_conv_arch_2048pts_emd/models.ckpt-330 is not in all_model_checkpoint_paths. Manually adding it.\n",
      "('Epoch:', '0331', 'training time (minutes)=', '3.9805', 'loss=', '73.656060033')\n",
      "('Epoch:', '0332', 'training time (minutes)=', '3.9770', 'loss=', '73.815763680')\n",
      "('Epoch:', '0333', 'training time (minutes)=', '3.9849', 'loss=', '73.851165815')\n",
      "('Epoch:', '0334', 'training time (minutes)=', '3.9983', 'loss=', '73.611147608')\n",
      "('Epoch:', '0335', 'training time (minutes)=', '3.9881', 'loss=', '73.227618337')\n",
      "('Epoch:', '0336', 'training time (minutes)=', '3.9810', 'loss=', '73.554391821')\n",
      "('Epoch:', '0337', 'training time (minutes)=', '3.9894', 'loss=', '73.549543441')\n",
      "('Epoch:', '0338', 'training time (minutes)=', '3.9763', 'loss=', '73.398701651')\n",
      "('Epoch:', '0339', 'training time (minutes)=', '3.9624', 'loss=', '73.712630578')\n",
      "('Epoch:', '0340', 'training time (minutes)=', '3.9754', 'loss=', '73.698439572')\n",
      "INFO:tensorflow:/orions4-zfs/projects/lins2/Panos_Space/DATA/OUT/models/nips/vanilla_ae/all_snc_rotated_conv_arch_2048pts_emd/models.ckpt-340 is not in all_model_checkpoint_paths. Manually adding it.\n",
      "('Epoch:', '0341', 'training time (minutes)=', '3.9801', 'loss=', '73.951424748')\n",
      "('Epoch:', '0342', 'training time (minutes)=', '3.9771', 'loss=', '73.562959538')\n",
      "('Epoch:', '0343', 'training time (minutes)=', '3.9585', 'loss=', '73.725570243')\n",
      "('Epoch:', '0344', 'training time (minutes)=', '3.9615', 'loss=', '73.241167165')\n",
      "('Epoch:', '0345', 'training time (minutes)=', '3.9724', 'loss=', '73.938855803')\n",
      "('Epoch:', '0346', 'training time (minutes)=', '3.9943', 'loss=', '73.612844916')\n",
      "('Epoch:', '0347', 'training time (minutes)=', '3.9533', 'loss=', '73.868000519')\n",
      "('Epoch:', '0348', 'training time (minutes)=', '3.9768', 'loss=', '73.425538801')\n",
      "('Epoch:', '0349', 'training time (minutes)=', '3.9928', 'loss=', '73.929824646')\n",
      "('Epoch:', '0350', 'training time (minutes)=', '3.9729', 'loss=', '73.688445244')\n",
      "INFO:tensorflow:/orions4-zfs/projects/lins2/Panos_Space/DATA/OUT/models/nips/vanilla_ae/all_snc_rotated_conv_arch_2048pts_emd/models.ckpt-350 is not in all_model_checkpoint_paths. Manually adding it.\n",
      "('Epoch:', '0351', 'training time (minutes)=', '3.9887', 'loss=', '73.715261619')\n",
      "('Epoch:', '0352', 'training time (minutes)=', '3.9948', 'loss=', '73.128040736')\n",
      "('Epoch:', '0353', 'training time (minutes)=', '3.9775', 'loss=', '73.712307807')\n",
      "('Epoch:', '0354', 'training time (minutes)=', '3.9881', 'loss=', '73.391446785')\n",
      "('Epoch:', '0355', 'training time (minutes)=', '3.9746', 'loss=', '73.428301831')\n",
      "('Epoch:', '0356', 'training time (minutes)=', '3.9730', 'loss=', '73.386751710')\n",
      "('Epoch:', '0357', 'training time (minutes)=', '3.9753', 'loss=', '73.320446307')\n",
      "('Epoch:', '0358', 'training time (minutes)=', '3.9654', 'loss=', '73.450068165')\n",
      "('Epoch:', '0359', 'training time (minutes)=', '3.9811', 'loss=', '73.555023346')\n",
      "('Epoch:', '0360', 'training time (minutes)=', '3.9746', 'loss=', '73.520773974')\n",
      "INFO:tensorflow:/orions4-zfs/projects/lins2/Panos_Space/DATA/OUT/models/nips/vanilla_ae/all_snc_rotated_conv_arch_2048pts_emd/models.ckpt-360 is not in all_model_checkpoint_paths. Manually adding it.\n",
      "('Epoch:', '0361', 'training time (minutes)=', '3.9986', 'loss=', '73.292375309')\n",
      "('Epoch:', '0362', 'training time (minutes)=', '3.9925', 'loss=', '73.319547451')\n",
      "('Epoch:', '0363', 'training time (minutes)=', '3.9876', 'loss=', '73.182527010')\n",
      "('Epoch:', '0364', 'training time (minutes)=', '3.9960', 'loss=', '72.722334177')\n",
      "('Epoch:', '0365', 'training time (minutes)=', '3.9750', 'loss=', '73.203690419')\n",
      "('Epoch:', '0366', 'training time (minutes)=', '3.9773', 'loss=', '72.945590421')\n",
      "('Epoch:', '0367', 'training time (minutes)=', '3.9432', 'loss=', '73.567601676')\n",
      "('Epoch:', '0368', 'training time (minutes)=', '3.9520', 'loss=', '73.113501482')\n",
      "('Epoch:', '0369', 'training time (minutes)=', '3.9496', 'loss=', '73.280666408')\n",
      "('Epoch:', '0370', 'training time (minutes)=', '3.9635', 'loss=', '73.515187805')\n",
      "INFO:tensorflow:/orions4-zfs/projects/lins2/Panos_Space/DATA/OUT/models/nips/vanilla_ae/all_snc_rotated_conv_arch_2048pts_emd/models.ckpt-370 is not in all_model_checkpoint_paths. Manually adding it.\n",
      "('Epoch:', '0371', 'training time (minutes)=', '3.9577', 'loss=', '73.463769757')\n",
      "('Epoch:', '0372', 'training time (minutes)=', '3.9640', 'loss=', '73.769724228')\n",
      "('Epoch:', '0373', 'training time (minutes)=', '3.9514', 'loss=', '72.943066876')\n",
      "('Epoch:', '0374', 'training time (minutes)=', '3.9531', 'loss=', '72.889874764')\n",
      "('Epoch:', '0375', 'training time (minutes)=', '3.9477', 'loss=', '73.149701999')\n",
      "('Epoch:', '0376', 'training time (minutes)=', '3.9702', 'loss=', '73.295585732')\n",
      "('Epoch:', '0377', 'training time (minutes)=', '3.9422', 'loss=', '73.134472362')\n",
      "('Epoch:', '0378', 'training time (minutes)=', '3.9529', 'loss=', '73.133508858')\n",
      "('Epoch:', '0379', 'training time (minutes)=', '3.9923', 'loss=', '73.044555232')\n",
      "('Epoch:', '0380', 'training time (minutes)=', '3.9959', 'loss=', '73.405081244')\n",
      "INFO:tensorflow:/orions4-zfs/projects/lins2/Panos_Space/DATA/OUT/models/nips/vanilla_ae/all_snc_rotated_conv_arch_2048pts_emd/models.ckpt-380 is not in all_model_checkpoint_paths. Manually adding it.\n",
      "('Epoch:', '0381', 'training time (minutes)=', '3.9718', 'loss=', '73.099240330')\n",
      "('Epoch:', '0382', 'training time (minutes)=', '3.9866', 'loss=', '73.223341719')\n",
      "('Epoch:', '0383', 'training time (minutes)=', '3.9745', 'loss=', '72.697261917')\n",
      "('Epoch:', '0384', 'training time (minutes)=', '3.9747', 'loss=', '73.327003060')\n",
      "('Epoch:', '0385', 'training time (minutes)=', '3.9760', 'loss=', '73.658616770')\n",
      "('Epoch:', '0386', 'training time (minutes)=', '3.9849', 'loss=', '72.887372000')\n",
      "('Epoch:', '0387', 'training time (minutes)=', '3.9822', 'loss=', '72.466268858')\n",
      "('Epoch:', '0388', 'training time (minutes)=', '3.9693', 'loss=', '73.002133200')\n",
      "('Epoch:', '0389', 'training time (minutes)=', '3.9514', 'loss=', '72.912927059')\n",
      "('Epoch:', '0390', 'training time (minutes)=', '3.9678', 'loss=', '73.023039662')\n",
      "INFO:tensorflow:/orions4-zfs/projects/lins2/Panos_Space/DATA/OUT/models/nips/vanilla_ae/all_snc_rotated_conv_arch_2048pts_emd/models.ckpt-390 is not in all_model_checkpoint_paths. Manually adding it.\n",
      "('Epoch:', '0391', 'training time (minutes)=', '3.9453', 'loss=', '73.050987210')\n",
      "('Epoch:', '0392', 'training time (minutes)=', '3.9315', 'loss=', '72.666728189')\n",
      "('Epoch:', '0393', 'training time (minutes)=', '3.9481', 'loss=', '72.675800387')\n",
      "('Epoch:', '0394', 'training time (minutes)=', '3.9412', 'loss=', '73.313286951')\n",
      "('Epoch:', '0395', 'training time (minutes)=', '3.9519', 'loss=', '73.311298261')\n",
      "('Epoch:', '0396', 'training time (minutes)=', '3.9652', 'loss=', '73.156723418')\n"
     ]
    }
   ],
   "source": [
    "if do_training:\n",
    "    training_stats = []\n",
    "    training_stats.append(ae.train(train_data, conf))    \n",
    "    with open(osp.join(conf.train_dir, 'train_stats.txt'), 'a') as fout:\n",
    "        np.savetxt(fout, np.array(training_stats)[0])"
   ]
  }
 ],
 "metadata": {
  "kernelspec": {
   "display_name": "Python 2",
   "language": "python",
   "name": "python2"
  },
  "language_info": {
   "codemirror_mode": {
    "name": "ipython",
    "version": 2
   },
   "file_extension": ".py",
   "mimetype": "text/x-python",
   "name": "python",
   "nbconvert_exporter": "python",
   "pygments_lexer": "ipython2",
   "version": "2.7.6"
  }
 },
 "nbformat": 4,
 "nbformat_minor": 0
}
