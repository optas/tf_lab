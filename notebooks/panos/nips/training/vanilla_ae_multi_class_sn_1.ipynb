{
 "cells": [
  {
   "cell_type": "code",
   "execution_count": 1,
   "metadata": {
    "collapsed": false
   },
   "outputs": [
    {
     "name": "stdout",
     "output_type": "stream",
     "text": [
      "Picking GPU 0\n"
     ]
    }
   ],
   "source": [
    "from general_tools.notebook.gpu_utils import setup_one_gpu\n",
    "\n",
    "GPU = 0\n",
    "setup_one_gpu(GPU)\n",
    "\n",
    "from general_tools.notebook.tf import reset_tf_graph"
   ]
  },
  {
   "cell_type": "code",
   "execution_count": 2,
   "metadata": {
    "collapsed": false,
    "deletable": true,
    "editable": true
   },
   "outputs": [
    {
     "name": "stderr",
     "output_type": "stream",
     "text": [
      "/usr/local/lib/python2.7/dist-packages/matplotlib/font_manager.py:273: UserWarning: Matplotlib is building the font cache using fc-list. This may take a moment.\n",
      "  warnings.warn('Matplotlib is building the font cache using fc-list. This may take a moment.')\n",
      "/orions4-zfs/projects/lins2/Panos_Space/Git_Repos/geo_tool/solids/mesh.py:26: UserWarning: Mayavi library was not found. Some graphics utilities will be disabled.\n",
      "  warnings.warn('Mayavi library was not found. Some graphics utilities will be disabled.')\n"
     ]
    }
   ],
   "source": [
    "import sys\n",
    "import time\n",
    "import numpy as np\n",
    "import os.path as osp\n",
    "import tensorflow as tf\n",
    "import matplotlib.pyplot as plt\n",
    "\n",
    "import tf_lab.point_clouds.in_out as pio\n",
    "\n",
    "from tf_lab.point_clouds.in_out import PointCloudDataSet, write_model_ids_of_datasets\n",
    "from tf_lab.point_clouds.point_net_ae import PointNetAutoEncoder\n",
    "from tf_lab.point_clouds.autoencoder import Configuration as Conf\n",
    "import tf_lab.point_clouds.encoders_decoders as enc_dec\n",
    "\n",
    "\n",
    "from tf_lab.autopredictors.scripts.helper import shape_net_category_to_synth_id\n",
    "\n",
    "\n",
    "from tf_lab.autopredictors.plotting import plot_original_pclouds_vs_reconstructed, \\\n",
    "                                           plot_train_val_test_curves, plot_reconstructions_at_epoch, \\\n",
    "                                           plot_interpolations\n",
    "\n",
    "\n",
    "from tf_lab.autopredictors.evaluate import eval_model, read_saved_epochs\n",
    "                                                  \n",
    "\n",
    "from general_tools.in_out.basics import create_dir, delete_files_in_directory, files_in_subdirs\n",
    "from general_tools.simpletons import select_first_last_and_k\n",
    "from geo_tool import Point_Cloud\n",
    "\n",
    "from tf_lab.nips.shape_net import pc_loader as sn_pc_loader"
   ]
  },
  {
   "cell_type": "code",
   "execution_count": 3,
   "metadata": {
    "collapsed": false,
    "deletable": true,
    "editable": true
   },
   "outputs": [],
   "source": [
    "%load_ext autoreload\n",
    "%autoreload 2\n",
    "%matplotlib inline"
   ]
  },
  {
   "cell_type": "code",
   "execution_count": 4,
   "metadata": {
    "collapsed": true,
    "deletable": true,
    "editable": true
   },
   "outputs": [],
   "source": [
    "n_pc_samples = 2048\n",
    "do_training = True\n",
    "do_plotting = False\n",
    "first_time_running = True\n",
    "load_model = False\n",
    "seed = 42\n",
    "max_training_epochs = 1000\n",
    "loss = 'chamfer'\n",
    "experiment_name = '2_three_fc_dec_dropout' + str(n_pc_samples) +  'pts_' + loss"
   ]
  },
  {
   "cell_type": "code",
   "execution_count": 5,
   "metadata": {
    "collapsed": false,
    "deletable": true,
    "editable": true
   },
   "outputs": [
    {
     "data": {
      "text/plain": [
       "'/orions4-zfs/projects/lins2/Panos_Space/DATA/OUT/models/nips/vanilla_ae/2_three_fc_dec_dropout2048pts_chamfer'"
      ]
     },
     "execution_count": 5,
     "metadata": {},
     "output_type": "execute_result"
    }
   ],
   "source": [
    "top_data_dir = '/orions4-zfs/projects/lins2/Panos_Space/DATA/'\n",
    "full_pclouds_path = osp.join(top_data_dir, 'Point_Clouds/Shape_Net/Core/from_manifold_meshes/centered/', str(n_pc_samples))\n",
    "train_dir = osp.join(top_data_dir, 'OUT/models/nips/vanilla_ae/')\n",
    "train_dir = osp.join(train_dir, experiment_name)\n",
    "create_dir(train_dir)"
   ]
  },
  {
   "cell_type": "code",
   "execution_count": 6,
   "metadata": {
    "collapsed": false,
    "deletable": true,
    "editable": true
   },
   "outputs": [],
   "source": [
    "full_file_names = pio.load_filenames_of_input_data(full_pclouds_path, '.ply')"
   ]
  },
  {
   "cell_type": "code",
   "execution_count": 7,
   "metadata": {
    "collapsed": false,
    "deletable": true,
    "editable": true,
    "scrolled": true
   },
   "outputs": [
    {
     "name": "stdout",
     "output_type": "stream",
     "text": [
      "57449 files containing complete point clouds were found.\n"
     ]
    },
    {
     "name": "stderr",
     "output_type": "stream",
     "text": [
      "/orions4-zfs/projects/lins2/Panos_Space/Git_Repos/tf_lab/point_clouds/in_out.py:56: UserWarning: Point clouds with the same model name were loaded.\n",
      "  warnings.warn('Point clouds with the same model name were loaded.')\n"
     ]
    }
   ],
   "source": [
    "full_pclouds, full_model_names, full_syn_ids = pio.load_crude_point_clouds(file_names=full_file_names,\\\n",
    "                                                                           n_threads=40, loader=sn_pc_loader)\n",
    "print '%d files containing complete point clouds were found.' % (len(full_pclouds), )"
   ]
  },
  {
   "cell_type": "code",
   "execution_count": 8,
   "metadata": {
    "collapsed": false,
    "deletable": true,
    "editable": true
   },
   "outputs": [],
   "source": [
    "# np.random.seed(seed)\n",
    "# tf.set_random_seed(seed)\n",
    "\n",
    "# train_data_, val_data_, test_data_, r_indices = pio.train_validate_test_split(\n",
    "#                                                             [full_pclouds, full_model_names],\n",
    "#                                                             train_perc=0.85,\n",
    "#                                                             validate_perc=0.05,\n",
    "#                                                             test_perc=0.1,\n",
    "#                                                             seed=seed)\n",
    "\n",
    "# model_ids = np.vstack((full_model_names, full_syn_ids)).T\n",
    "\n",
    "# if first_time_running:\n",
    "#     write_model_ids_of_datasets(train_dir, model_ids, r_indices)\n",
    "\n",
    "# train_data = PointCloudDataSet(train_data_[0], labels=train_data_[1])\n",
    "# val_data = PointCloudDataSet(val_data_[0], labels=val_data_[1])\n",
    "# test_data = PointCloudDataSet(test_data_[0], labels=test_data_[1])\n",
    "\n",
    "model_unames = full_model_names + '.' + full_syn_ids\n",
    "train_data = PointCloudDataSet(full_pclouds, labels=model_unames)"
   ]
  },
  {
   "cell_type": "code",
   "execution_count": 9,
   "metadata": {
    "collapsed": false,
    "deletable": true,
    "editable": true
   },
   "outputs": [],
   "source": [
    "if load_model:\n",
    "    conf = Conf.load(osp.join(train_dir, 'configuration'))\n",
    "    print conf\n",
    "else:\n",
    "    n_input = [n_pc_samples, 3]\n",
    "\n",
    "    encoder_args = {'dropout_prob': 0.8}\n",
    "    \n",
    "    decoder_args = {'layer_sizes': [512, 1024, np.prod(n_input)],\n",
    "                    'non_linearity': tf.nn.relu\n",
    "                   }\n",
    "\n",
    "    conf = Conf(\n",
    "                n_input = n_input,\n",
    "                training_epochs = max_training_epochs,\n",
    "                batch_size = 50,\n",
    "                loss = loss,\n",
    "                denoising = False,\n",
    "                train_dir = train_dir,\n",
    "                loss_display_step = 1,\n",
    "                saver_step = 10,\n",
    "                learning_rate = 0.0005,\n",
    "                z_rotate = True,\n",
    "                encoder = enc_dec.encoder_with_convs_and_symmetry,\n",
    "                encoder_args = encoder_args,\n",
    "                decoder = enc_dec.decoder_with_fc_only,        \n",
    "                decoder_args = decoder_args,        \n",
    "               )\n",
    "\n",
    "    conf.experiment_name = experiment_name\n",
    "    conf.save(osp.join(conf.train_dir, 'configuration'))\n",
    "    \n",
    "reset_tf_graph()\n",
    "ae = PointNetAutoEncoder(experiment_name, conf)\n",
    "\n",
    "if load_model:\n",
    "    saved_epochs = read_saved_epochs(conf.train_dir)\n",
    "    last_epoch = saved_epochs[-1]\n",
    "    ae.restore_model(conf.train_dir, last_epoch, verbose=True)"
   ]
  },
  {
   "cell_type": "code",
   "execution_count": 9,
   "metadata": {
    "collapsed": true,
    "deletable": true,
    "editable": true
   },
   "outputs": [],
   "source": [
    "summary_writer = tf.summary.FileWriter('/orions4-zfs/projects/lins2/Panos_Space/test', graph=ae.sess.graph)"
   ]
  },
  {
   "cell_type": "code",
   "execution_count": null,
   "metadata": {
    "collapsed": false,
    "deletable": true,
    "editable": true
   },
   "outputs": [
    {
     "name": "stdout",
     "output_type": "stream",
     "text": [
      "('Epoch:', '0001', 'training time (minutes)=', '2.1364', 'loss=', '0.002316333')\n",
      "INFO:tensorflow:/orions4-zfs/projects/lins2/Panos_Space/DATA/OUT/models/nips/vanilla_ae/2_three_fc_dec_dropout2048pts_chamfer/models.ckpt-1 is not in all_model_checkpoint_paths. Manually adding it.\n",
      "('Epoch:', '0002', 'training time (minutes)=', '2.1808', 'loss=', '0.001151757')\n",
      "('Epoch:', '0003', 'training time (minutes)=', '2.1945', 'loss=', '0.000956465')\n",
      "('Epoch:', '0004', 'training time (minutes)=', '2.1430', 'loss=', '0.000874547')\n",
      "('Epoch:', '0005', 'training time (minutes)=', '2.1778', 'loss=', '0.000826942')\n",
      "('Epoch:', '0006', 'training time (minutes)=', '2.1737', 'loss=', '0.000782260')\n",
      "('Epoch:', '0007', 'training time (minutes)=', '2.1544', 'loss=', '0.000760420')\n",
      "('Epoch:', '0008', 'training time (minutes)=', '2.1438', 'loss=', '0.000745942')\n",
      "('Epoch:', '0009', 'training time (minutes)=', '2.1793', 'loss=', '0.000712476')\n",
      "('Epoch:', '0010', 'training time (minutes)=', '1.9685', 'loss=', '0.000686183')\n",
      "INFO:tensorflow:/orions4-zfs/projects/lins2/Panos_Space/DATA/OUT/models/nips/vanilla_ae/2_three_fc_dec_dropout2048pts_chamfer/models.ckpt-10 is not in all_model_checkpoint_paths. Manually adding it.\n",
      "('Epoch:', '0011', 'training time (minutes)=', '1.9142', 'loss=', '0.000663783')\n",
      "('Epoch:', '0012', 'training time (minutes)=', '1.9451', 'loss=', '0.000663482')\n",
      "('Epoch:', '0013', 'training time (minutes)=', '1.8211', 'loss=', '0.000637463')\n",
      "('Epoch:', '0014', 'training time (minutes)=', '1.8270', 'loss=', '0.000641740')\n",
      "('Epoch:', '0015', 'training time (minutes)=', '1.8399', 'loss=', '0.000636618')\n",
      "('Epoch:', '0016', 'training time (minutes)=', '1.8252', 'loss=', '0.000607516')\n",
      "('Epoch:', '0017', 'training time (minutes)=', '1.8334', 'loss=', '0.000613377')\n",
      "('Epoch:', '0018', 'training time (minutes)=', '1.8559', 'loss=', '0.000600736')\n",
      "('Epoch:', '0019', 'training time (minutes)=', '1.8226', 'loss=', '0.000594317')\n",
      "('Epoch:', '0020', 'training time (minutes)=', '1.8546', 'loss=', '0.000592065')\n",
      "INFO:tensorflow:/orions4-zfs/projects/lins2/Panos_Space/DATA/OUT/models/nips/vanilla_ae/2_three_fc_dec_dropout2048pts_chamfer/models.ckpt-20 is not in all_model_checkpoint_paths. Manually adding it.\n",
      "('Epoch:', '0021', 'training time (minutes)=', '1.8284', 'loss=', '0.000579272')\n",
      "('Epoch:', '0022', 'training time (minutes)=', '1.8369', 'loss=', '0.000590968')\n",
      "('Epoch:', '0023', 'training time (minutes)=', '1.8182', 'loss=', '0.000569900')\n",
      "('Epoch:', '0024', 'training time (minutes)=', '1.8194', 'loss=', '0.000570145')\n",
      "('Epoch:', '0025', 'training time (minutes)=', '1.8228', 'loss=', '0.000563407')\n",
      "('Epoch:', '0026', 'training time (minutes)=', '1.8867', 'loss=', '0.000574653')\n",
      "('Epoch:', '0027', 'training time (minutes)=', '1.8290', 'loss=', '0.000557120')\n",
      "('Epoch:', '0028', 'training time (minutes)=', '1.8351', 'loss=', '0.000560813')\n",
      "('Epoch:', '0029', 'training time (minutes)=', '1.8525', 'loss=', '0.000546847')\n",
      "('Epoch:', '0030', 'training time (minutes)=', '1.8595', 'loss=', '0.000546109')\n",
      "INFO:tensorflow:/orions4-zfs/projects/lins2/Panos_Space/DATA/OUT/models/nips/vanilla_ae/2_three_fc_dec_dropout2048pts_chamfer/models.ckpt-30 is not in all_model_checkpoint_paths. Manually adding it.\n",
      "('Epoch:', '0031', 'training time (minutes)=', '1.8338', 'loss=', '0.000543603')\n",
      "('Epoch:', '0032', 'training time (minutes)=', '1.8366', 'loss=', '0.000530765')\n",
      "('Epoch:', '0033', 'training time (minutes)=', '1.8354', 'loss=', '0.000540876')\n",
      "('Epoch:', '0034', 'training time (minutes)=', '1.8249', 'loss=', '0.000533642')\n",
      "('Epoch:', '0035', 'training time (minutes)=', '1.8293', 'loss=', '0.000530717')\n",
      "('Epoch:', '0036', 'training time (minutes)=', '1.8235', 'loss=', '0.000536844')\n",
      "('Epoch:', '0037', 'training time (minutes)=', '1.8192', 'loss=', '0.000522978')\n",
      "('Epoch:', '0038', 'training time (minutes)=', '1.8077', 'loss=', '0.000524895')\n",
      "('Epoch:', '0039', 'training time (minutes)=', '1.8159', 'loss=', '0.000526108')\n",
      "('Epoch:', '0040', 'training time (minutes)=', '1.8126', 'loss=', '0.000510435')\n",
      "INFO:tensorflow:/orions4-zfs/projects/lins2/Panos_Space/DATA/OUT/models/nips/vanilla_ae/2_three_fc_dec_dropout2048pts_chamfer/models.ckpt-40 is not in all_model_checkpoint_paths. Manually adding it.\n",
      "('Epoch:', '0041', 'training time (minutes)=', '1.8195', 'loss=', '0.000506945')\n",
      "('Epoch:', '0042', 'training time (minutes)=', '1.8144', 'loss=', '0.000516110')\n",
      "('Epoch:', '0043', 'training time (minutes)=', '1.8498', 'loss=', '0.000511551')\n",
      "('Epoch:', '0044', 'training time (minutes)=', '1.8281', 'loss=', '0.000506232')\n",
      "('Epoch:', '0045', 'training time (minutes)=', '1.8413', 'loss=', '0.000508084')\n",
      "('Epoch:', '0046', 'training time (minutes)=', '1.8399', 'loss=', '0.000507436')\n",
      "('Epoch:', '0047', 'training time (minutes)=', '1.8509', 'loss=', '0.000506239')\n",
      "('Epoch:', '0048', 'training time (minutes)=', '1.8439', 'loss=', '0.000503299')\n",
      "('Epoch:', '0049', 'training time (minutes)=', '1.8406', 'loss=', '0.000500393')\n",
      "('Epoch:', '0050', 'training time (minutes)=', '1.8385', 'loss=', '0.000495213')\n",
      "INFO:tensorflow:/orions4-zfs/projects/lins2/Panos_Space/DATA/OUT/models/nips/vanilla_ae/2_three_fc_dec_dropout2048pts_chamfer/models.ckpt-50 is not in all_model_checkpoint_paths. Manually adding it.\n",
      "('Epoch:', '0051', 'training time (minutes)=', '1.8462', 'loss=', '0.000496649')\n",
      "('Epoch:', '0052', 'training time (minutes)=', '1.8418', 'loss=', '0.000495091')\n",
      "('Epoch:', '0053', 'training time (minutes)=', '1.8197', 'loss=', '0.000494381')\n",
      "('Epoch:', '0054', 'training time (minutes)=', '1.8153', 'loss=', '0.000503859')\n",
      "('Epoch:', '0055', 'training time (minutes)=', '1.8121', 'loss=', '0.000481053')\n",
      "('Epoch:', '0056', 'training time (minutes)=', '1.8115', 'loss=', '0.000491969')\n",
      "('Epoch:', '0057', 'training time (minutes)=', '1.8300', 'loss=', '0.000493597')\n",
      "('Epoch:', '0058', 'training time (minutes)=', '1.8229', 'loss=', '0.000487872')\n",
      "('Epoch:', '0059', 'training time (minutes)=', '1.8339', 'loss=', '0.000481633')\n",
      "('Epoch:', '0060', 'training time (minutes)=', '1.8178', 'loss=', '0.000483766')\n",
      "INFO:tensorflow:/orions4-zfs/projects/lins2/Panos_Space/DATA/OUT/models/nips/vanilla_ae/2_three_fc_dec_dropout2048pts_chamfer/models.ckpt-60 is not in all_model_checkpoint_paths. Manually adding it.\n",
      "('Epoch:', '0061', 'training time (minutes)=', '1.8323', 'loss=', '0.000480981')\n",
      "('Epoch:', '0062', 'training time (minutes)=', '1.8193', 'loss=', '0.000483676')\n",
      "('Epoch:', '0063', 'training time (minutes)=', '1.8172', 'loss=', '0.000479706')\n",
      "('Epoch:', '0064', 'training time (minutes)=', '1.8329', 'loss=', '0.000479699')\n",
      "('Epoch:', '0065', 'training time (minutes)=', '1.8431', 'loss=', '0.000478229')\n",
      "('Epoch:', '0066', 'training time (minutes)=', '1.8377', 'loss=', '0.000473049')\n",
      "('Epoch:', '0067', 'training time (minutes)=', '1.8513', 'loss=', '0.000473144')\n",
      "('Epoch:', '0068', 'training time (minutes)=', '1.8366', 'loss=', '0.000471977')\n",
      "('Epoch:', '0069', 'training time (minutes)=', '1.8397', 'loss=', '0.000473981')\n",
      "('Epoch:', '0070', 'training time (minutes)=', '1.8379', 'loss=', '0.000466175')\n",
      "INFO:tensorflow:/orions4-zfs/projects/lins2/Panos_Space/DATA/OUT/models/nips/vanilla_ae/2_three_fc_dec_dropout2048pts_chamfer/models.ckpt-70 is not in all_model_checkpoint_paths. Manually adding it.\n",
      "('Epoch:', '0071', 'training time (minutes)=', '1.8422', 'loss=', '0.000469293')\n",
      "('Epoch:', '0072', 'training time (minutes)=', '1.8386', 'loss=', '0.000470457')\n",
      "('Epoch:', '0073', 'training time (minutes)=', '1.8507', 'loss=', '0.000471478')\n",
      "('Epoch:', '0074', 'training time (minutes)=', '1.8333', 'loss=', '0.000471663')\n",
      "('Epoch:', '0075', 'training time (minutes)=', '1.8441', 'loss=', '0.000468703')\n",
      "('Epoch:', '0076', 'training time (minutes)=', '1.8499', 'loss=', '0.000472898')\n",
      "('Epoch:', '0077', 'training time (minutes)=', '1.8385', 'loss=', '0.000458930')\n",
      "('Epoch:', '0078', 'training time (minutes)=', '1.8462', 'loss=', '0.000458040')\n",
      "('Epoch:', '0079', 'training time (minutes)=', '1.8368', 'loss=', '0.000453052')\n",
      "('Epoch:', '0080', 'training time (minutes)=', '1.8398', 'loss=', '0.000464478')\n",
      "INFO:tensorflow:/orions4-zfs/projects/lins2/Panos_Space/DATA/OUT/models/nips/vanilla_ae/2_three_fc_dec_dropout2048pts_chamfer/models.ckpt-80 is not in all_model_checkpoint_paths. Manually adding it.\n",
      "('Epoch:', '0081', 'training time (minutes)=', '1.8326', 'loss=', '0.000463936')\n",
      "('Epoch:', '0082', 'training time (minutes)=', '1.8432', 'loss=', '0.000455560')\n",
      "('Epoch:', '0083', 'training time (minutes)=', '1.8378', 'loss=', '0.000464828')\n",
      "('Epoch:', '0084', 'training time (minutes)=', '1.8456', 'loss=', '0.000457486')\n",
      "('Epoch:', '0085', 'training time (minutes)=', '1.8360', 'loss=', '0.000457594')\n",
      "('Epoch:', '0086', 'training time (minutes)=', '1.8434', 'loss=', '0.000460238')\n",
      "('Epoch:', '0087', 'training time (minutes)=', '1.8377', 'loss=', '0.000460415')\n",
      "('Epoch:', '0088', 'training time (minutes)=', '1.8391', 'loss=', '0.000455756')\n",
      "('Epoch:', '0089', 'training time (minutes)=', '1.8220', 'loss=', '0.000452081')\n",
      "('Epoch:', '0090', 'training time (minutes)=', '1.8135', 'loss=', '0.000454157')\n",
      "INFO:tensorflow:/orions4-zfs/projects/lins2/Panos_Space/DATA/OUT/models/nips/vanilla_ae/2_three_fc_dec_dropout2048pts_chamfer/models.ckpt-90 is not in all_model_checkpoint_paths. Manually adding it.\n",
      "('Epoch:', '0091', 'training time (minutes)=', '1.8215', 'loss=', '0.000464711')\n",
      "('Epoch:', '0092', 'training time (minutes)=', '1.8129', 'loss=', '0.000456596')\n",
      "('Epoch:', '0093', 'training time (minutes)=', '1.8075', 'loss=', '0.000444891')\n",
      "('Epoch:', '0094', 'training time (minutes)=', '1.8117', 'loss=', '0.000460931')\n",
      "('Epoch:', '0095', 'training time (minutes)=', '1.8075', 'loss=', '0.000446779')\n",
      "('Epoch:', '0096', 'training time (minutes)=', '1.8529', 'loss=', '0.000451648')\n",
      "('Epoch:', '0097', 'training time (minutes)=', '1.8153', 'loss=', '0.000450407')\n",
      "('Epoch:', '0098', 'training time (minutes)=', '1.9347', 'loss=', '0.000452477')\n",
      "('Epoch:', '0099', 'training time (minutes)=', '1.8939', 'loss=', '0.000443536')\n",
      "('Epoch:', '0100', 'training time (minutes)=', '1.8900', 'loss=', '0.000455243')\n",
      "INFO:tensorflow:/orions4-zfs/projects/lins2/Panos_Space/DATA/OUT/models/nips/vanilla_ae/2_three_fc_dec_dropout2048pts_chamfer/models.ckpt-100 is not in all_model_checkpoint_paths. Manually adding it.\n",
      "('Epoch:', '0101', 'training time (minutes)=', '1.9025', 'loss=', '0.000446943')\n",
      "('Epoch:', '0102', 'training time (minutes)=', '1.8039', 'loss=', '0.000449274')\n",
      "('Epoch:', '0103', 'training time (minutes)=', '1.8513', 'loss=', '0.000447852')\n",
      "('Epoch:', '0104', 'training time (minutes)=', '1.8509', 'loss=', '0.000444924')\n",
      "('Epoch:', '0105', 'training time (minutes)=', '1.9390', 'loss=', '0.000443756')\n",
      "('Epoch:', '0106', 'training time (minutes)=', '2.1080', 'loss=', '0.000448059')\n",
      "('Epoch:', '0107', 'training time (minutes)=', '2.2209', 'loss=', '0.000447082')\n",
      "('Epoch:', '0108', 'training time (minutes)=', '2.1897', 'loss=', '0.000441348')\n",
      "('Epoch:', '0109', 'training time (minutes)=', '2.2795', 'loss=', '0.000443478')\n",
      "('Epoch:', '0110', 'training time (minutes)=', '2.6805', 'loss=', '0.000438079')\n",
      "INFO:tensorflow:/orions4-zfs/projects/lins2/Panos_Space/DATA/OUT/models/nips/vanilla_ae/2_three_fc_dec_dropout2048pts_chamfer/models.ckpt-110 is not in all_model_checkpoint_paths. Manually adding it.\n",
      "('Epoch:', '0111', 'training time (minutes)=', '2.0984', 'loss=', '0.000443098')\n",
      "('Epoch:', '0112', 'training time (minutes)=', '2.2585', 'loss=', '0.000438166')\n"
     ]
    }
   ],
   "source": [
    "if do_training:\n",
    "    training_stats = []\n",
    "    training_stats.append(ae.train(train_data, conf))    \n",
    "    with open(osp.join(conf.train_dir, 'train_stats.txt'), 'a') as fout:\n",
    "        np.savetxt(fout, np.array(training_stats)[0])"
   ]
  }
 ],
 "metadata": {
  "kernelspec": {
   "display_name": "Python 2",
   "language": "python",
   "name": "python2"
  },
  "language_info": {
   "codemirror_mode": {
    "name": "ipython",
    "version": 2
   },
   "file_extension": ".py",
   "mimetype": "text/x-python",
   "name": "python",
   "nbconvert_exporter": "python",
   "pygments_lexer": "ipython2",
   "version": "2.7.6"
  }
 },
 "nbformat": 4,
 "nbformat_minor": 0
}
