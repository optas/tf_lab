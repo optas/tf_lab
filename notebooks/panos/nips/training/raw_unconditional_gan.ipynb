{
 "cells": [
  {
   "cell_type": "code",
   "execution_count": 1,
   "metadata": {
    "collapsed": false,
    "deletable": true,
    "editable": true
   },
   "outputs": [
    {
     "name": "stdout",
     "output_type": "stream",
     "text": [
      "Picking GPU 3\n"
     ]
    }
   ],
   "source": [
    "from general_tools.notebook.gpu_utils import setup_one_gpu\n",
    "GPU = 3\n",
    "setup_one_gpu(GPU)"
   ]
  },
  {
   "cell_type": "code",
   "execution_count": 2,
   "metadata": {
    "collapsed": false,
    "deletable": true,
    "editable": true
   },
   "outputs": [
    {
     "name": "stderr",
     "output_type": "stream",
     "text": [
      "/usr/local/lib/python2.7/dist-packages/matplotlib/font_manager.py:273: UserWarning: Matplotlib is building the font cache using fc-list. This may take a moment.\n",
      "  warnings.warn('Matplotlib is building the font cache using fc-list. This may take a moment.')\n",
      "/orions4-zfs/projects/lins2/Panos_Space/Git_Repos/geo_tool/solids/mesh.py:26: UserWarning: Mayavi library was not found. Some graphics utilities will be disabled.\n",
      "  warnings.warn('Mayavi library was not found. Some graphics utilities will be disabled.')\n"
     ]
    }
   ],
   "source": [
    "import sys\n",
    "import time\n",
    "import numpy as np\n",
    "import os.path as osp\n",
    "import tensorflow as tf\n",
    "import matplotlib.pyplot as plt\n",
    "\n",
    "from general_tools.notebook.tf import reset_tf_graph\n",
    "\n",
    "import tf_lab.point_clouds.in_out as pio\n",
    "from tf_lab.point_clouds.in_out import PointCloudDataSet, write_model_ids_of_datasets\n",
    "\n",
    "from tf_lab.point_clouds.point_net_ae import PointNetAutoEncoder\n",
    "from tf_lab.point_clouds.autoencoder import Configuration as Conf\n",
    "import tf_lab.point_clouds.encoders_decoders as enc_dec\n",
    "\n",
    "from tf_lab.autopredictors.scripts.helper import shape_net_category_to_synth_id\n",
    "\n",
    "from tf_lab.autopredictors.plotting import plot_original_pclouds_vs_reconstructed, \\\n",
    "                                           plot_train_val_test_curves, plot_reconstructions_at_epoch, \\\n",
    "                                           plot_interpolations\n",
    "\n",
    "from tf_lab.autopredictors.evaluate import eval_model, read_saved_epochs\n",
    "                                                  \n",
    "from general_tools.in_out.basics import create_dir, delete_files_in_directory, files_in_subdirs\n",
    "from general_tools.simpletons import select_first_last_and_k\n",
    "from geo_tool import Point_Cloud\n",
    "\n",
    "from tf_lab.nips.shape_net import pc_loader as sn_pc_loader\n",
    "from tf_lab.autopredictors.exploration import latent_embedding_of_entire_dataset\n",
    "from tf_lab.point_clouds.raw_gan import RawGAN"
   ]
  },
  {
   "cell_type": "code",
   "execution_count": 3,
   "metadata": {
    "collapsed": false,
    "deletable": true,
    "editable": true
   },
   "outputs": [],
   "source": [
    "%load_ext autoreload\n",
    "%autoreload 2\n",
    "%matplotlib inline"
   ]
  },
  {
   "cell_type": "code",
   "execution_count": 26,
   "metadata": {
    "collapsed": false,
    "deletable": true,
    "editable": true
   },
   "outputs": [],
   "source": [
    "n_pc_samples = 2048\n",
    "do_training = True\n",
    "first_time_running = True\n",
    "load_model = False\n",
    "seed = 42\n",
    "\n",
    "class_name = raw_input('Give me the class type.\\n').lower()\n",
    "syn_id = shape_net_category_to_synth_id()[class_name]\n",
    "experiment_name = 'raw_pc_gan_'+ class_name +'_' + str(n_pc_samples) +  '_pts'\n",
    "\n",
    "synthetic_data_out_dir = '/orions4-zfs/projects/lins2/Panos_Space/DATA/NIPS/our_samples/'"
   ]
  },
  {
   "cell_type": "code",
   "execution_count": 5,
   "metadata": {
    "collapsed": false,
    "deletable": true,
    "editable": true
   },
   "outputs": [
    {
     "name": "stdout",
     "output_type": "stream",
     "text": [
      "6778 files containing complete point clouds were found.\n"
     ]
    }
   ],
   "source": [
    "top_data_dir = '/orions4-zfs/projects/lins2/Panos_Space/DATA/'\n",
    "\n",
    "train_dir = osp.join(top_data_dir, 'OUT/models/nips/gan/raw_gan')\n",
    "train_dir = osp.join(train_dir, experiment_name)\n",
    "create_dir(train_dir)\n",
    "\n",
    "full_pclouds_path = osp.join(top_data_dir, 'Point_Clouds/Shape_Net/Core/from_manifold_meshes/centered/', str(n_pc_samples))\n",
    "full_pclouds_path = osp.join(full_pclouds_path, syn_id)\n",
    "full_file_names = pio.load_filenames_of_input_data(full_pclouds_path, '.ply')\n",
    "full_pclouds, full_model_ids, full_syn_ids = pio.load_crude_point_clouds(file_names=full_file_names,\\\n",
    "                                                                           n_threads=50, loader=sn_pc_loader)\n",
    "print '%d files containing complete point clouds were found.' % (len(full_pclouds), )"
   ]
  },
  {
   "cell_type": "code",
   "execution_count": 6,
   "metadata": {
    "collapsed": false,
    "deletable": true,
    "editable": true
   },
   "outputs": [],
   "source": [
    "full_data = PointCloudDataSet(full_pclouds)"
   ]
  },
  {
   "cell_type": "code",
   "execution_count": 10,
   "metadata": {
    "collapsed": false,
    "deletable": true,
    "editable": true
   },
   "outputs": [],
   "source": [
    "reset_tf_graph()\n",
    "init_lr = 0.001\n",
    "gan = RawGAN(experiment_name, learning_rate=init_lr, n_output=[n_pc_samples, 3])"
   ]
  },
  {
   "cell_type": "code",
   "execution_count": 14,
   "metadata": {
    "collapsed": false,
    "deletable": true,
    "editable": true
   },
   "outputs": [
    {
     "name": "stdout",
     "output_type": "stream",
     "text": [
      "2 (1.195072669894607, 1.0942630551479482)\n",
      "INFO:tensorflow:/orions4-zfs/projects/lins2/Panos_Space/DATA/OUT/models/nips/gan/raw_gan/raw_pc_gan_chair_2048_pts/models.ckpt-2 is not in all_model_checkpoint_paths. Manually adding it.\n",
      "3 (1.303666779730055, 0.92459169604160163)\n",
      "INFO:tensorflow:/orions4-zfs/projects/lins2/Panos_Space/DATA/OUT/models/nips/gan/raw_gan/raw_pc_gan_chair_2048_pts/models.ckpt-3 is not in all_model_checkpoint_paths. Manually adding it.\n",
      "4 (1.3200043501677337, 0.93352967302004497)\n",
      "INFO:tensorflow:/orions4-zfs/projects/lins2/Panos_Space/DATA/OUT/models/nips/gan/raw_gan/raw_pc_gan_chair_2048_pts/models.ckpt-4 is not in all_model_checkpoint_paths. Manually adding it.\n",
      "5 (1.205949232313368, 1.1307475037044949)\n",
      "INFO:tensorflow:/orions4-zfs/projects/lins2/Panos_Space/DATA/OUT/models/nips/gan/raw_gan/raw_pc_gan_chair_2048_pts/models.ckpt-5 is not in all_model_checkpoint_paths. Manually adding it.\n",
      "6 (0.96478396643091135, 2.0212591539930416)\n",
      "INFO:tensorflow:/orions4-zfs/projects/lins2/Panos_Space/DATA/OUT/models/nips/gan/raw_gan/raw_pc_gan_chair_2048_pts/models.ckpt-6 is not in all_model_checkpoint_paths. Manually adding it.\n",
      "7 (1.0375694102711148, 1.8178490089045631)\n",
      "INFO:tensorflow:/orions4-zfs/projects/lins2/Panos_Space/DATA/OUT/models/nips/gan/raw_gan/raw_pc_gan_chair_2048_pts/models.ckpt-7 is not in all_model_checkpoint_paths. Manually adding it.\n",
      "8 (1.0970263516461407, 1.4994869891140197)\n",
      "INFO:tensorflow:/orions4-zfs/projects/lins2/Panos_Space/DATA/OUT/models/nips/gan/raw_gan/raw_pc_gan_chair_2048_pts/models.ckpt-8 is not in all_model_checkpoint_paths. Manually adding it.\n",
      "9 (1.050309133529663, 1.7613698332398027)\n",
      "INFO:tensorflow:/orions4-zfs/projects/lins2/Panos_Space/DATA/OUT/models/nips/gan/raw_gan/raw_pc_gan_chair_2048_pts/models.ckpt-9 is not in all_model_checkpoint_paths. Manually adding it.\n",
      "10 (0.9917627886489585, 1.9878650276749223)\n",
      "INFO:tensorflow:/orions4-zfs/projects/lins2/Panos_Space/DATA/OUT/models/nips/gan/raw_gan/raw_pc_gan_chair_2048_pts/models.ckpt-10 is not in all_model_checkpoint_paths. Manually adding it.\n",
      "11 (0.95749189323849149, 2.0130560590161219)\n",
      "INFO:tensorflow:/orions4-zfs/projects/lins2/Panos_Space/DATA/OUT/models/nips/gan/raw_gan/raw_pc_gan_chair_2048_pts/models.ckpt-11 is not in all_model_checkpoint_paths. Manually adding it.\n",
      "12 (0.91542581297733161, 2.1605007253311297)\n",
      "INFO:tensorflow:/orions4-zfs/projects/lins2/Panos_Space/DATA/OUT/models/nips/gan/raw_gan/raw_pc_gan_chair_2048_pts/models.ckpt-12 is not in all_model_checkpoint_paths. Manually adding it.\n",
      "13 (0.82970362636778094, 2.3855277842945521)\n",
      "INFO:tensorflow:/orions4-zfs/projects/lins2/Panos_Space/DATA/OUT/models/nips/gan/raw_gan/raw_pc_gan_chair_2048_pts/models.ckpt-13 is not in all_model_checkpoint_paths. Manually adding it.\n",
      "14 (0.83884819834320634, 2.4995415281366418)\n",
      "INFO:tensorflow:/orions4-zfs/projects/lins2/Panos_Space/DATA/OUT/models/nips/gan/raw_gan/raw_pc_gan_chair_2048_pts/models.ckpt-14 is not in all_model_checkpoint_paths. Manually adding it.\n",
      "15 (0.75744231221852476, 2.9674001945389641)\n",
      "INFO:tensorflow:/orions4-zfs/projects/lins2/Panos_Space/DATA/OUT/models/nips/gan/raw_gan/raw_pc_gan_chair_2048_pts/models.ckpt-15 is not in all_model_checkpoint_paths. Manually adding it.\n",
      "16 (0.77168912070768847, 2.9915887099725227)\n",
      "INFO:tensorflow:/orions4-zfs/projects/lins2/Panos_Space/DATA/OUT/models/nips/gan/raw_gan/raw_pc_gan_chair_2048_pts/models.ckpt-16 is not in all_model_checkpoint_paths. Manually adding it.\n",
      "17 (0.62295319840863894, 3.484103183834641)\n",
      "INFO:tensorflow:/orions4-zfs/projects/lins2/Panos_Space/DATA/OUT/models/nips/gan/raw_gan/raw_pc_gan_chair_2048_pts/models.ckpt-17 is not in all_model_checkpoint_paths. Manually adding it.\n",
      "18 (0.57475728878268484, 3.6292302370071412)\n",
      "INFO:tensorflow:/orions4-zfs/projects/lins2/Panos_Space/DATA/OUT/models/nips/gan/raw_gan/raw_pc_gan_chair_2048_pts/models.ckpt-18 is not in all_model_checkpoint_paths. Manually adding it.\n",
      "19 (0.60273244667936254, 3.5437843433132876)\n",
      "INFO:tensorflow:/orions4-zfs/projects/lins2/Panos_Space/DATA/OUT/models/nips/gan/raw_gan/raw_pc_gan_chair_2048_pts/models.ckpt-19 is not in all_model_checkpoint_paths. Manually adding it.\n",
      "20 (0.53499914943068116, 3.5846930415542038)\n",
      "INFO:tensorflow:/orions4-zfs/projects/lins2/Panos_Space/DATA/OUT/models/nips/gan/raw_gan/raw_pc_gan_chair_2048_pts/models.ckpt-20 is not in all_model_checkpoint_paths. Manually adding it.\n",
      "21 (0.465204496598906, 4.0249721198170274)\n",
      "INFO:tensorflow:/orions4-zfs/projects/lins2/Panos_Space/DATA/OUT/models/nips/gan/raw_gan/raw_pc_gan_chair_2048_pts/models.ckpt-21 is not in all_model_checkpoint_paths. Manually adding it.\n",
      "22 (0.63381013472874959, 3.5272150242770159)\n",
      "INFO:tensorflow:/orions4-zfs/projects/lins2/Panos_Space/DATA/OUT/models/nips/gan/raw_gan/raw_pc_gan_chair_2048_pts/models.ckpt-22 is not in all_model_checkpoint_paths. Manually adding it.\n",
      "23 (0.3867363932370036, 4.62124407865383)\n",
      "INFO:tensorflow:/orions4-zfs/projects/lins2/Panos_Space/DATA/OUT/models/nips/gan/raw_gan/raw_pc_gan_chair_2048_pts/models.ckpt-23 is not in all_model_checkpoint_paths. Manually adding it.\n",
      "24 (0.5840758802714171, 3.7013009671811705)\n",
      "INFO:tensorflow:/orions4-zfs/projects/lins2/Panos_Space/DATA/OUT/models/nips/gan/raw_gan/raw_pc_gan_chair_2048_pts/models.ckpt-24 is not in all_model_checkpoint_paths. Manually adding it.\n",
      "25 (0.4325747879291022, 4.3780318560423677)\n",
      "INFO:tensorflow:/orions4-zfs/projects/lins2/Panos_Space/DATA/OUT/models/nips/gan/raw_gan/raw_pc_gan_chair_2048_pts/models.ckpt-25 is not in all_model_checkpoint_paths. Manually adding it.\n",
      "26 (0.41196368191805149, 4.2932854241795013)\n",
      "INFO:tensorflow:/orions4-zfs/projects/lins2/Panos_Space/DATA/OUT/models/nips/gan/raw_gan/raw_pc_gan_chair_2048_pts/models.ckpt-26 is not in all_model_checkpoint_paths. Manually adding it.\n",
      "27 (0.41530129601833998, 4.5709522123690007)\n",
      "INFO:tensorflow:/orions4-zfs/projects/lins2/Panos_Space/DATA/OUT/models/nips/gan/raw_gan/raw_pc_gan_chair_2048_pts/models.ckpt-27 is not in all_model_checkpoint_paths. Manually adding it.\n",
      "28 (0.46557099656374368, 4.3439070065816248)\n",
      "INFO:tensorflow:/orions4-zfs/projects/lins2/Panos_Space/DATA/OUT/models/nips/gan/raw_gan/raw_pc_gan_chair_2048_pts/models.ckpt-28 is not in all_model_checkpoint_paths. Manually adding it.\n",
      "29 (0.24326910744938585, 5.0839121898015343)\n",
      "INFO:tensorflow:/orions4-zfs/projects/lins2/Panos_Space/DATA/OUT/models/nips/gan/raw_gan/raw_pc_gan_chair_2048_pts/models.ckpt-29 is not in all_model_checkpoint_paths. Manually adding it.\n",
      "30 (0.53906666669580672, 4.4305913421842789)\n",
      "INFO:tensorflow:/orions4-zfs/projects/lins2/Panos_Space/DATA/OUT/models/nips/gan/raw_gan/raw_pc_gan_chair_2048_pts/models.ckpt-30 is not in all_model_checkpoint_paths. Manually adding it.\n",
      "31 (0.45786724049184058, 4.4279886219236584)\n",
      "INFO:tensorflow:/orions4-zfs/projects/lins2/Panos_Space/DATA/OUT/models/nips/gan/raw_gan/raw_pc_gan_chair_2048_pts/models.ckpt-31 is not in all_model_checkpoint_paths. Manually adding it.\n",
      "32 (0.5132877050657515, 4.6850539603719001)\n",
      "INFO:tensorflow:/orions4-zfs/projects/lins2/Panos_Space/DATA/OUT/models/nips/gan/raw_gan/raw_pc_gan_chair_2048_pts/models.ckpt-32 is not in all_model_checkpoint_paths. Manually adding it.\n",
      "33 (0.37482760639654267, 4.7570687611897791)\n",
      "INFO:tensorflow:/orions4-zfs/projects/lins2/Panos_Space/DATA/OUT/models/nips/gan/raw_gan/raw_pc_gan_chair_2048_pts/models.ckpt-33 is not in all_model_checkpoint_paths. Manually adding it.\n",
      "34 (0.48955921665937813, 4.7133286016958733)\n",
      "INFO:tensorflow:/orions4-zfs/projects/lins2/Panos_Space/DATA/OUT/models/nips/gan/raw_gan/raw_pc_gan_chair_2048_pts/models.ckpt-34 is not in all_model_checkpoint_paths. Manually adding it.\n",
      "35 (0.41281634696103908, 4.5322834376935601)\n",
      "INFO:tensorflow:/orions4-zfs/projects/lins2/Panos_Space/DATA/OUT/models/nips/gan/raw_gan/raw_pc_gan_chair_2048_pts/models.ckpt-35 is not in all_model_checkpoint_paths. Manually adding it.\n",
      "36 (0.38442810818001077, 5.2161172913180458)\n",
      "INFO:tensorflow:/orions4-zfs/projects/lins2/Panos_Space/DATA/OUT/models/nips/gan/raw_gan/raw_pc_gan_chair_2048_pts/models.ckpt-36 is not in all_model_checkpoint_paths. Manually adding it.\n",
      "37 (0.37782501590748629, 4.2092261226088912)\n",
      "INFO:tensorflow:/orions4-zfs/projects/lins2/Panos_Space/DATA/OUT/models/nips/gan/raw_gan/raw_pc_gan_chair_2048_pts/models.ckpt-37 is not in all_model_checkpoint_paths. Manually adding it.\n",
      "38 (0.27679974045604466, 5.4292357780315257)\n",
      "INFO:tensorflow:/orions4-zfs/projects/lins2/Panos_Space/DATA/OUT/models/nips/gan/raw_gan/raw_pc_gan_chair_2048_pts/models.ckpt-38 is not in all_model_checkpoint_paths. Manually adding it.\n",
      "39 (0.37781504872082561, 5.0628000043056627)\n",
      "INFO:tensorflow:/orions4-zfs/projects/lins2/Panos_Space/DATA/OUT/models/nips/gan/raw_gan/raw_pc_gan_chair_2048_pts/models.ckpt-39 is not in all_model_checkpoint_paths. Manually adding it.\n",
      "40 (0.26953425728198555, 5.1228180867654309)\n",
      "INFO:tensorflow:/orions4-zfs/projects/lins2/Panos_Space/DATA/OUT/models/nips/gan/raw_gan/raw_pc_gan_chair_2048_pts/models.ckpt-40 is not in all_model_checkpoint_paths. Manually adding it.\n",
      "41 (0.41374153885300513, 4.779551229653535)\n",
      "INFO:tensorflow:/orions4-zfs/projects/lins2/Panos_Space/DATA/OUT/models/nips/gan/raw_gan/raw_pc_gan_chair_2048_pts/models.ckpt-41 is not in all_model_checkpoint_paths. Manually adding it.\n",
      "42 (0.26226050051412098, 5.3986149390538536)\n",
      "INFO:tensorflow:/orions4-zfs/projects/lins2/Panos_Space/DATA/OUT/models/nips/gan/raw_gan/raw_pc_gan_chair_2048_pts/models.ckpt-42 is not in all_model_checkpoint_paths. Manually adding it.\n",
      "43 (0.46086517435808977, 4.4551926162507796)\n",
      "INFO:tensorflow:/orions4-zfs/projects/lins2/Panos_Space/DATA/OUT/models/nips/gan/raw_gan/raw_pc_gan_chair_2048_pts/models.ckpt-43 is not in all_model_checkpoint_paths. Manually adding it.\n",
      "44 (0.45088855004696932, 4.8963229197042963)\n",
      "INFO:tensorflow:/orions4-zfs/projects/lins2/Panos_Space/DATA/OUT/models/nips/gan/raw_gan/raw_pc_gan_chair_2048_pts/models.ckpt-44 is not in all_model_checkpoint_paths. Manually adding it.\n",
      "45 (0.45482785850763319, 3.9729561019826818)\n",
      "INFO:tensorflow:/orions4-zfs/projects/lins2/Panos_Space/DATA/OUT/models/nips/gan/raw_gan/raw_pc_gan_chair_2048_pts/models.ckpt-45 is not in all_model_checkpoint_paths. Manually adding it.\n",
      "46 (0.48230759959529945, 4.0815341552098596)\n",
      "INFO:tensorflow:/orions4-zfs/projects/lins2/Panos_Space/DATA/OUT/models/nips/gan/raw_gan/raw_pc_gan_chair_2048_pts/models.ckpt-46 is not in all_model_checkpoint_paths. Manually adding it.\n",
      "47 (0.51144987460639746, 4.1470389595738162)\n",
      "INFO:tensorflow:/orions4-zfs/projects/lins2/Panos_Space/DATA/OUT/models/nips/gan/raw_gan/raw_pc_gan_chair_2048_pts/models.ckpt-47 is not in all_model_checkpoint_paths. Manually adding it.\n",
      "48 (0.418241065616409, 4.1416422481890081)\n",
      "INFO:tensorflow:/orions4-zfs/projects/lins2/Panos_Space/DATA/OUT/models/nips/gan/raw_gan/raw_pc_gan_chair_2048_pts/models.ckpt-48 is not in all_model_checkpoint_paths. Manually adding it.\n",
      "49 (0.58015122711658473, 3.8362870375315348)\n",
      "INFO:tensorflow:/orions4-zfs/projects/lins2/Panos_Space/DATA/OUT/models/nips/gan/raw_gan/raw_pc_gan_chair_2048_pts/models.ckpt-49 is not in all_model_checkpoint_paths. Manually adding it.\n",
      "50 (0.57935915203006183, 3.7153126442873918)\n",
      "INFO:tensorflow:/orions4-zfs/projects/lins2/Panos_Space/DATA/OUT/models/nips/gan/raw_gan/raw_pc_gan_chair_2048_pts/models.ckpt-50 is not in all_model_checkpoint_paths. Manually adding it.\n",
      "51 (0.5234870496171492, 3.7076358267554532)\n",
      "INFO:tensorflow:/orions4-zfs/projects/lins2/Panos_Space/DATA/OUT/models/nips/gan/raw_gan/raw_pc_gan_chair_2048_pts/models.ckpt-51 is not in all_model_checkpoint_paths. Manually adding it.\n"
     ]
    }
   ],
   "source": [
    "from tf_lab.point_clouds.gan import model_saver_id\n",
    "\n",
    "train_stats = []\n",
    "train_data = full_data\n",
    "\n",
    "batch_size = 50\n",
    "max_epochs = 50\n",
    "noise_params = {'mu':0, 'sigma': 1}\n",
    "\n",
    "for _ in range(max_epochs):\n",
    "    checkpoint_path = osp.join(train_dir, model_saver_id)\n",
    "    loss, duration = gan._single_epoch_train(train_data, batch_size, noise_params)\n",
    "    epoch = int(gan.sess.run(gan.epoch.assign_add(tf.constant(1.0))))    \n",
    "    print epoch, loss\n",
    "    gan.saver.save(gan.sess, checkpoint_path, global_step=gan.epoch)\n",
    "    train_stats.append((epoch,) + loss)"
   ]
  },
  {
   "cell_type": "code",
   "execution_count": 24,
   "metadata": {
    "collapsed": false,
    "deletable": true,
    "editable": true
   },
   "outputs": [
    {
     "name": "stdout",
     "output_type": "stream",
     "text": [
      "0.0234211117783\n",
      "0.0414842920605\n",
      "0.0303642913352\n",
      "0.0401406167227\n",
      "0.0336347772219\n",
      "0.0154469545613\n",
      "0.0351671865931\n"
     ]
    }
   ],
   "source": [
    "from tf_lab.nips.evaluate_gan import entropy_of_occupancy_grid\n",
    "\n",
    "for i in [1, 5, 10, 20, 30, 40, 50]:\n",
    "    gan.restore_model(train_dir, i)\n",
    "    n_samples = 1000\n",
    "    print entropy_of_occupancy_grid_(gan.generate(n_samples, noise_params), 32)"
   ]
  },
  {
   "cell_type": "code",
   "execution_count": 32,
   "metadata": {
    "collapsed": false,
    "deletable": true,
    "editable": true
   },
   "outputs": [],
   "source": [
    "# Swap axis and save\n",
    "syn_data = gan.generate(n_samples, noise_params)\n",
    "syn_data_rot = np.empty_like(syn_data)\n",
    "for i, pc in enumerate(syn_data):\n",
    "    syn_data_rot[i] = pc[:, [0, 2, 1]]\n",
    "save_out = osp.join(synthetic_data_out_dir, experiment_name + '_epoch_' + str(epoch))\n",
    "np.savez(save_out, syn_data_rot)"
   ]
  }
 ],
 "metadata": {
  "kernelspec": {
   "display_name": "Python 2",
   "language": "python",
   "name": "python2"
  },
  "language_info": {
   "codemirror_mode": {
    "name": "ipython",
    "version": 2
   },
   "file_extension": ".py",
   "mimetype": "text/x-python",
   "name": "python",
   "nbconvert_exporter": "python",
   "pygments_lexer": "ipython2",
   "version": "2.7.6"
  }
 },
 "nbformat": 4,
 "nbformat_minor": 2
}
