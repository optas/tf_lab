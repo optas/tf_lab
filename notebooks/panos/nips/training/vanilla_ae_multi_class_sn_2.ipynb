{
 "cells": [
  {
   "cell_type": "code",
   "execution_count": 1,
   "metadata": {
    "collapsed": false,
    "deletable": true,
    "editable": true
   },
   "outputs": [
    {
     "name": "stdout",
     "output_type": "stream",
     "text": [
      "Picking GPU 3\n"
     ]
    }
   ],
   "source": [
    "from general_tools.notebook.gpu_utils import setup_one_gpu\n",
    "GPU = 3\n",
    "setup_one_gpu(GPU)"
   ]
  },
  {
   "cell_type": "code",
   "execution_count": 2,
   "metadata": {
    "collapsed": false,
    "deletable": true,
    "editable": true
   },
   "outputs": [
    {
     "name": "stderr",
     "output_type": "stream",
     "text": [
      "/usr/local/lib/python2.7/dist-packages/matplotlib/font_manager.py:273: UserWarning: Matplotlib is building the font cache using fc-list. This may take a moment.\n",
      "  warnings.warn('Matplotlib is building the font cache using fc-list. This may take a moment.')\n",
      "/orions4-zfs/projects/lins2/Panos_Space/Git_Repos/geo_tool/solids/mesh.py:26: UserWarning: Mayavi library was not found. Some graphics utilities will be disabled.\n",
      "  warnings.warn('Mayavi library was not found. Some graphics utilities will be disabled.')\n"
     ]
    }
   ],
   "source": [
    "import sys\n",
    "import time\n",
    "import numpy as np\n",
    "import os.path as osp\n",
    "import tensorflow as tf\n",
    "import matplotlib.pyplot as plt\n",
    "\n",
    "from general_tools.notebook.tf import reset_tf_graph\n",
    "\n",
    "import tf_lab.point_clouds.in_out as pio\n",
    "\n",
    "from tf_lab.point_clouds.in_out import PointCloudDataSet, write_model_ids_of_datasets\n",
    "from tf_lab.point_clouds.point_net_ae import PointNetAutoEncoder\n",
    "from tf_lab.point_clouds.autoencoder import Configuration as Conf\n",
    "import tf_lab.point_clouds.encoders_decoders as enc_dec\n",
    "\n",
    "\n",
    "from tf_lab.autopredictors.scripts.helper import shape_net_category_to_synth_id\n",
    "\n",
    "\n",
    "from tf_lab.autopredictors.plotting import plot_original_pclouds_vs_reconstructed, \\\n",
    "                                           plot_train_val_test_curves, plot_reconstructions_at_epoch, \\\n",
    "                                           plot_interpolations\n",
    "\n",
    "\n",
    "from tf_lab.autopredictors.evaluate import eval_model, read_saved_epochs\n",
    "                                                  \n",
    "\n",
    "from general_tools.in_out.basics import create_dir, delete_files_in_directory, files_in_subdirs\n",
    "from general_tools.simpletons import select_first_last_and_k\n",
    "from geo_tool import Point_Cloud\n",
    "\n",
    "from tf_lab.nips.shape_net import pc_loader as sn_pc_loader"
   ]
  },
  {
   "cell_type": "code",
   "execution_count": 3,
   "metadata": {
    "collapsed": false,
    "deletable": true,
    "editable": true
   },
   "outputs": [],
   "source": [
    "%load_ext autoreload\n",
    "%autoreload 2\n",
    "%matplotlib inline"
   ]
  },
  {
   "cell_type": "code",
   "execution_count": 4,
   "metadata": {
    "collapsed": true,
    "deletable": true,
    "editable": true
   },
   "outputs": [],
   "source": [
    "n_pc_samples = 2048\n",
    "do_training = True\n",
    "do_plotting = False\n",
    "first_time_running = True\n",
    "load_model = False\n",
    "seed = 42\n",
    "max_training_epochs = 1000\n",
    "loss = 'emd'\n",
    "experiment_name = 'three_fc_dec_longer_' + str(n_pc_samples) +  'pts_' + loss"
   ]
  },
  {
   "cell_type": "code",
   "execution_count": 5,
   "metadata": {
    "collapsed": false,
    "deletable": true,
    "editable": true
   },
   "outputs": [
    {
     "data": {
      "text/plain": [
       "'/orions4-zfs/projects/lins2/Panos_Space/DATA/OUT/models/nips/vanilla_ae/three_fc_dec_longer_2048pts_emd'"
      ]
     },
     "execution_count": 5,
     "metadata": {},
     "output_type": "execute_result"
    }
   ],
   "source": [
    "top_data_dir = '/orions4-zfs/projects/lins2/Panos_Space/DATA/'\n",
    "full_pclouds_path = osp.join(top_data_dir, 'Point_Clouds/Shape_Net/Core/from_manifold_meshes/centered/', str(n_pc_samples))\n",
    "train_dir = osp.join(top_data_dir, 'OUT/models/nips/vanilla_ae/')\n",
    "train_dir = osp.join(train_dir, experiment_name)\n",
    "create_dir(train_dir)"
   ]
  },
  {
   "cell_type": "code",
   "execution_count": 6,
   "metadata": {
    "collapsed": false,
    "deletable": true,
    "editable": true,
    "scrolled": true
   },
   "outputs": [
    {
     "name": "stdout",
     "output_type": "stream",
     "text": [
      "57449 files containing complete point clouds were found.\n"
     ]
    },
    {
     "name": "stderr",
     "output_type": "stream",
     "text": [
      "/orions4-zfs/projects/lins2/Panos_Space/Git_Repos/tf_lab/point_clouds/in_out.py:56: UserWarning: Point clouds with the same model name were loaded.\n",
      "  warnings.warn('Point clouds with the same model name were loaded.')\n"
     ]
    }
   ],
   "source": [
    "full_file_names = pio.load_filenames_of_input_data(full_pclouds_path, '.ply')\n",
    "full_pclouds, full_model_names, full_syn_ids = pio.load_crude_point_clouds(file_names=full_file_names,\\\n",
    "                                                                           n_threads=50, loader=sn_pc_loader)\n",
    "print '%d files containing complete point clouds were found.' % (len(full_pclouds), )"
   ]
  },
  {
   "cell_type": "code",
   "execution_count": 7,
   "metadata": {
    "collapsed": false,
    "deletable": true,
    "editable": true
   },
   "outputs": [],
   "source": [
    "# np.random.seed(seed)\n",
    "# tf.set_random_seed(seed)\n",
    "\n",
    "# train_data_, val_data_, test_data_, r_indices = pio.train_validate_test_split(\n",
    "#                                                             [full_pclouds, full_model_names],\n",
    "#                                                             train_perc=0.85,\n",
    "#                                                             validate_perc=0.05,\n",
    "#                                                             test_perc=0.1,\n",
    "#                                                             seed=seed)\n",
    "\n",
    "# model_ids = np.vstack((full_model_names, full_syn_ids)).T\n",
    "\n",
    "# if first_time_running:\n",
    "#     write_model_ids_of_datasets(train_dir, model_ids, r_indices)\n",
    "\n",
    "# train_data = PointCloudDataSet(train_data_[0], labels=train_data_[1])\n",
    "# val_data = PointCloudDataSet(val_data_[0], labels=val_data_[1])\n",
    "# test_data = PointCloudDataSet(test_data_[0], labels=test_data_[1])\n",
    "\n",
    "model_unames = full_model_names + '.' + full_syn_ids\n",
    "train_data = PointCloudDataSet(full_pclouds, labels=model_unames)"
   ]
  },
  {
   "cell_type": "code",
   "execution_count": null,
   "metadata": {
    "collapsed": false,
    "deletable": true,
    "editable": true
   },
   "outputs": [],
   "source": [
    "if load_model:\n",
    "    conf = Conf.load(osp.join(train_dir, 'configuration'))\n",
    "    print conf\n",
    "else:\n",
    "    n_input = [n_pc_samples, 3]\n",
    "\n",
    "#     encoder_args = {'dropout_prob': 0.8}\n",
    "    \n",
    "    decoder_args = {'layer_sizes': [1024, 2048, np.prod(n_input)],\n",
    "                    'non_linearity': tf.nn.relu\n",
    "                   }\n",
    "\n",
    "    conf = Conf(\n",
    "                n_input = n_input,\n",
    "                training_epochs = max_training_epochs,\n",
    "                batch_size = 50,\n",
    "                loss = loss,\n",
    "                denoising = False,\n",
    "                train_dir = train_dir,\n",
    "                loss_display_step = 1,\n",
    "                saver_step = 10,\n",
    "                learning_rate = 0.0005,\n",
    "                z_rotate = True,\n",
    "                encoder = enc_dec.encoder_with_convs_and_symmetry,\n",
    "                decoder = enc_dec.decoder_with_fc_only,\n",
    "                decoder_args = decoder_args,        \n",
    "               )\n",
    "\n",
    "    conf.experiment_name = experiment_name\n",
    "    conf.save(osp.join(conf.train_dir, 'configuration'))\n",
    "    \n",
    "reset_tf_graph()\n",
    "ae = PointNetAutoEncoder(experiment_name, conf)\n",
    "\n",
    "if load_model:\n",
    "    saved_epochs = read_saved_epochs(conf.train_dir)\n",
    "    last_epoch = saved_epochs[-1]\n",
    "    ae.restore_model(conf.train_dir, last_epoch, verbose=True)"
   ]
  },
  {
   "cell_type": "code",
   "execution_count": 9,
   "metadata": {
    "collapsed": true,
    "deletable": true,
    "editable": true
   },
   "outputs": [],
   "source": [
    "summary_writer = tf.summary.FileWriter('/orions4-zfs/projects/lins2/Panos_Space/test', graph=ae.sess.graph)"
   ]
  },
  {
   "cell_type": "code",
   "execution_count": null,
   "metadata": {
    "collapsed": false,
    "deletable": true,
    "editable": true
   },
   "outputs": [
    {
     "name": "stdout",
     "output_type": "stream",
     "text": [
      "('Epoch:', '0001', 'training time (minutes)=', '4.0377', 'loss=', '175.977952459')\n",
      "INFO:tensorflow:/orions4-zfs/projects/lins2/Panos_Space/DATA/OUT/models/nips/vanilla_ae/three_fc_dec_longer_2048pts_emd/models.ckpt-1 is not in all_model_checkpoint_paths. Manually adding it.\n",
      "('Epoch:', '0002', 'training time (minutes)=', '4.1071', 'loss=', '143.950161226')\n",
      "('Epoch:', '0003', 'training time (minutes)=', '4.1010', 'loss=', '128.947509101')\n",
      "('Epoch:', '0004', 'training time (minutes)=', '4.0986', 'loss=', '123.887433301')\n",
      "('Epoch:', '0005', 'training time (minutes)=', '4.0944', 'loss=', '121.057397091')\n",
      "('Epoch:', '0006', 'training time (minutes)=', '4.0818', 'loss=', '118.394408528')\n",
      "('Epoch:', '0007', 'training time (minutes)=', '4.1393', 'loss=', '116.812095257')\n",
      "('Epoch:', '0008', 'training time (minutes)=', '4.1356', 'loss=', '113.639192621')\n",
      "('Epoch:', '0009', 'training time (minutes)=', '4.1420', 'loss=', '112.345852157')\n",
      "('Epoch:', '0010', 'training time (minutes)=', '4.0903', 'loss=', '110.565712387')\n",
      "INFO:tensorflow:/orions4-zfs/projects/lins2/Panos_Space/DATA/OUT/models/nips/vanilla_ae/three_fc_dec_longer_2048pts_emd/models.ckpt-10 is not in all_model_checkpoint_paths. Manually adding it.\n",
      "('Epoch:', '0011', 'training time (minutes)=', '4.0666', 'loss=', '110.026059858')\n",
      "('Epoch:', '0012', 'training time (minutes)=', '4.1845', 'loss=', '108.647952276')\n",
      "('Epoch:', '0013', 'training time (minutes)=', '4.1431', 'loss=', '107.159706581')\n",
      "('Epoch:', '0014', 'training time (minutes)=', '4.2148', 'loss=', '107.240165126')\n",
      "('Epoch:', '0015', 'training time (minutes)=', '4.1315', 'loss=', '106.321988594')\n",
      "('Epoch:', '0016', 'training time (minutes)=', '4.1534', 'loss=', '106.115001120')\n",
      "('Epoch:', '0017', 'training time (minutes)=', '4.2236', 'loss=', '104.620317333')\n",
      "('Epoch:', '0018', 'training time (minutes)=', '4.2020', 'loss=', '104.353092838')\n",
      "('Epoch:', '0019', 'training time (minutes)=', '4.1868', 'loss=', '104.346705307')\n",
      "('Epoch:', '0020', 'training time (minutes)=', '4.1929', 'loss=', '103.575401226')\n",
      "INFO:tensorflow:/orions4-zfs/projects/lins2/Panos_Space/DATA/OUT/models/nips/vanilla_ae/three_fc_dec_longer_2048pts_emd/models.ckpt-20 is not in all_model_checkpoint_paths. Manually adding it.\n",
      "('Epoch:', '0021', 'training time (minutes)=', '4.2004', 'loss=', '102.663036081')\n",
      "('Epoch:', '0022', 'training time (minutes)=', '4.3208', 'loss=', '102.498956939')\n",
      "('Epoch:', '0023', 'training time (minutes)=', '4.3272', 'loss=', '101.445443476')\n",
      "('Epoch:', '0024', 'training time (minutes)=', '4.1370', 'loss=', '102.196063916')\n",
      "('Epoch:', '0025', 'training time (minutes)=', '4.3036', 'loss=', '101.308867245')\n",
      "('Epoch:', '0026', 'training time (minutes)=', '4.1354', 'loss=', '101.768231814')\n",
      "('Epoch:', '0027', 'training time (minutes)=', '4.1147', 'loss=', '100.158818169')\n",
      "('Epoch:', '0028', 'training time (minutes)=', '4.1157', 'loss=', '100.171649959')\n",
      "('Epoch:', '0029', 'training time (minutes)=', '4.3071', 'loss=', '100.576198432')\n",
      "('Epoch:', '0030', 'training time (minutes)=', '4.2647', 'loss=', '99.548216371')\n",
      "INFO:tensorflow:/orions4-zfs/projects/lins2/Panos_Space/DATA/OUT/models/nips/vanilla_ae/three_fc_dec_longer_2048pts_emd/models.ckpt-30 is not in all_model_checkpoint_paths. Manually adding it.\n",
      "('Epoch:', '0031', 'training time (minutes)=', '4.1591', 'loss=', '99.192184408')\n",
      "('Epoch:', '0032', 'training time (minutes)=', '4.0159', 'loss=', '99.559894416')\n",
      "('Epoch:', '0033', 'training time (minutes)=', '4.0257', 'loss=', '99.530395475')\n",
      "('Epoch:', '0034', 'training time (minutes)=', '4.0547', 'loss=', '99.041476280')\n",
      "('Epoch:', '0035', 'training time (minutes)=', '3.9882', 'loss=', '98.712648059')\n",
      "('Epoch:', '0036', 'training time (minutes)=', '4.0629', 'loss=', '98.115499251')\n",
      "('Epoch:', '0037', 'training time (minutes)=', '4.0534', 'loss=', '98.336529483')\n",
      "('Epoch:', '0038', 'training time (minutes)=', '4.0841', 'loss=', '98.134109996')\n",
      "('Epoch:', '0039', 'training time (minutes)=', '4.0189', 'loss=', '98.411776612')\n",
      "('Epoch:', '0040', 'training time (minutes)=', '4.0563', 'loss=', '97.852888945')\n",
      "INFO:tensorflow:/orions4-zfs/projects/lins2/Panos_Space/DATA/OUT/models/nips/vanilla_ae/three_fc_dec_longer_2048pts_emd/models.ckpt-40 is not in all_model_checkpoint_paths. Manually adding it.\n",
      "('Epoch:', '0041', 'training time (minutes)=', '4.0976', 'loss=', '97.590159765')\n",
      "('Epoch:', '0042', 'training time (minutes)=', '4.0790', 'loss=', '97.845958929')\n",
      "('Epoch:', '0043', 'training time (minutes)=', '4.0998', 'loss=', '98.116995855')\n",
      "('Epoch:', '0044', 'training time (minutes)=', '4.1126', 'loss=', '97.361814173')\n",
      "('Epoch:', '0045', 'training time (minutes)=', '4.2704', 'loss=', '96.844299981')\n",
      "('Epoch:', '0046', 'training time (minutes)=', '4.2557', 'loss=', '96.554816980')\n",
      "('Epoch:', '0047', 'training time (minutes)=', '4.0978', 'loss=', '97.097602565')\n",
      "('Epoch:', '0048', 'training time (minutes)=', '4.0439', 'loss=', '96.122294456')\n",
      "('Epoch:', '0049', 'training time (minutes)=', '4.1042', 'loss=', '95.809843183')\n",
      "('Epoch:', '0050', 'training time (minutes)=', '4.0567', 'loss=', '96.749717400')\n",
      "INFO:tensorflow:/orions4-zfs/projects/lins2/Panos_Space/DATA/OUT/models/nips/vanilla_ae/three_fc_dec_longer_2048pts_emd/models.ckpt-50 is not in all_model_checkpoint_paths. Manually adding it.\n",
      "('Epoch:', '0051', 'training time (minutes)=', '4.2110', 'loss=', '95.692565758')\n",
      "('Epoch:', '0052', 'training time (minutes)=', '4.1219', 'loss=', '95.808058848')\n",
      "('Epoch:', '0053', 'training time (minutes)=', '4.1127', 'loss=', '95.824296991')\n",
      "('Epoch:', '0054', 'training time (minutes)=', '4.1088', 'loss=', '95.698031934')\n",
      "('Epoch:', '0055', 'training time (minutes)=', '4.1023', 'loss=', '95.166081272')\n",
      "('Epoch:', '0056', 'training time (minutes)=', '4.0135', 'loss=', '95.528648995')\n",
      "('Epoch:', '0057', 'training time (minutes)=', '4.1316', 'loss=', '95.151512684')\n",
      "('Epoch:', '0058', 'training time (minutes)=', '4.2432', 'loss=', '95.041198651')\n",
      "('Epoch:', '0059', 'training time (minutes)=', '4.1723', 'loss=', '95.819652777')\n",
      "('Epoch:', '0060', 'training time (minutes)=', '4.1227', 'loss=', '95.239435615')\n",
      "INFO:tensorflow:/orions4-zfs/projects/lins2/Panos_Space/DATA/OUT/models/nips/vanilla_ae/three_fc_dec_longer_2048pts_emd/models.ckpt-60 is not in all_model_checkpoint_paths. Manually adding it.\n",
      "('Epoch:', '0061', 'training time (minutes)=', '4.0513', 'loss=', '94.579201655')\n",
      "('Epoch:', '0062', 'training time (minutes)=', '4.1122', 'loss=', '94.629193721')\n",
      "('Epoch:', '0063', 'training time (minutes)=', '4.1091', 'loss=', '94.771682992')\n",
      "('Epoch:', '0064', 'training time (minutes)=', '4.1123', 'loss=', '94.654681415')\n",
      "('Epoch:', '0065', 'training time (minutes)=', '4.0314', 'loss=', '94.619228828')\n",
      "('Epoch:', '0066', 'training time (minutes)=', '4.1699', 'loss=', '94.023309947')\n",
      "('Epoch:', '0067', 'training time (minutes)=', '4.0874', 'loss=', '93.562917556')\n",
      "('Epoch:', '0068', 'training time (minutes)=', '4.1268', 'loss=', '94.018989031')\n",
      "('Epoch:', '0069', 'training time (minutes)=', '4.0513', 'loss=', '93.906452518')\n",
      "('Epoch:', '0070', 'training time (minutes)=', '4.0909', 'loss=', '93.807024062')\n",
      "INFO:tensorflow:/orions4-zfs/projects/lins2/Panos_Space/DATA/OUT/models/nips/vanilla_ae/three_fc_dec_longer_2048pts_emd/models.ckpt-70 is not in all_model_checkpoint_paths. Manually adding it.\n",
      "('Epoch:', '0071', 'training time (minutes)=', '4.1099', 'loss=', '93.495315532')\n",
      "('Epoch:', '0072', 'training time (minutes)=', '4.1686', 'loss=', '94.065235636')\n",
      "('Epoch:', '0073', 'training time (minutes)=', '4.0891', 'loss=', '93.183364483')\n",
      "('Epoch:', '0074', 'training time (minutes)=', '3.9999', 'loss=', '93.350002741')\n",
      "('Epoch:', '0075', 'training time (minutes)=', '4.3823', 'loss=', '93.106162048')\n",
      "('Epoch:', '0076', 'training time (minutes)=', '4.0322', 'loss=', '93.605117406')\n",
      "('Epoch:', '0077', 'training time (minutes)=', '4.0663', 'loss=', '93.130493722')\n",
      "('Epoch:', '0078', 'training time (minutes)=', '4.0230', 'loss=', '93.772635796')\n",
      "('Epoch:', '0079', 'training time (minutes)=', '4.0512', 'loss=', '93.080196999')\n",
      "('Epoch:', '0080', 'training time (minutes)=', '4.0373', 'loss=', '92.783405450')\n",
      "INFO:tensorflow:/orions4-zfs/projects/lins2/Panos_Space/DATA/OUT/models/nips/vanilla_ae/three_fc_dec_longer_2048pts_emd/models.ckpt-80 is not in all_model_checkpoint_paths. Manually adding it.\n",
      "('Epoch:', '0081', 'training time (minutes)=', '4.0311', 'loss=', '92.724034831')\n",
      "('Epoch:', '0082', 'training time (minutes)=', '4.0647', 'loss=', '93.145141635')\n",
      "('Epoch:', '0083', 'training time (minutes)=', '4.0385', 'loss=', '92.690151288')\n",
      "('Epoch:', '0084', 'training time (minutes)=', '4.0264', 'loss=', '92.550296391')\n",
      "('Epoch:', '0085', 'training time (minutes)=', '4.0623', 'loss=', '92.779167155')\n",
      "('Epoch:', '0086', 'training time (minutes)=', '4.2192', 'loss=', '92.355090862')\n",
      "('Epoch:', '0087', 'training time (minutes)=', '4.0875', 'loss=', '92.640660655')\n",
      "('Epoch:', '0088', 'training time (minutes)=', '4.1209', 'loss=', '92.281729137')\n",
      "('Epoch:', '0089', 'training time (minutes)=', '4.0359', 'loss=', '92.255816742')\n",
      "('Epoch:', '0090', 'training time (minutes)=', '4.0671', 'loss=', '92.583238642')\n",
      "INFO:tensorflow:/orions4-zfs/projects/lins2/Panos_Space/DATA/OUT/models/nips/vanilla_ae/three_fc_dec_longer_2048pts_emd/models.ckpt-90 is not in all_model_checkpoint_paths. Manually adding it.\n",
      "('Epoch:', '0091', 'training time (minutes)=', '4.0917', 'loss=', '92.062767953')\n",
      "('Epoch:', '0092', 'training time (minutes)=', '4.0500', 'loss=', '92.003081784')\n",
      "('Epoch:', '0093', 'training time (minutes)=', '4.0786', 'loss=', '92.470431657')\n",
      "('Epoch:', '0094', 'training time (minutes)=', '4.0491', 'loss=', '91.864764815')\n",
      "('Epoch:', '0095', 'training time (minutes)=', '4.0555', 'loss=', '91.756905220')\n",
      "('Epoch:', '0096', 'training time (minutes)=', '4.0270', 'loss=', '91.850605337')\n",
      "('Epoch:', '0097', 'training time (minutes)=', '4.1318', 'loss=', '91.531626266')\n",
      "('Epoch:', '0098', 'training time (minutes)=', '4.0580', 'loss=', '92.047080681')\n",
      "('Epoch:', '0099', 'training time (minutes)=', '4.1659', 'loss=', '91.531805484')\n",
      "('Epoch:', '0100', 'training time (minutes)=', '4.0794', 'loss=', '91.454625798')\n",
      "INFO:tensorflow:/orions4-zfs/projects/lins2/Panos_Space/DATA/OUT/models/nips/vanilla_ae/three_fc_dec_longer_2048pts_emd/models.ckpt-100 is not in all_model_checkpoint_paths. Manually adding it.\n",
      "('Epoch:', '0101', 'training time (minutes)=', '4.0817', 'loss=', '91.401709999')\n",
      "('Epoch:', '0102', 'training time (minutes)=', '4.0822', 'loss=', '91.262511762')\n",
      "('Epoch:', '0103', 'training time (minutes)=', '4.1280', 'loss=', '91.879306833')\n",
      "('Epoch:', '0104', 'training time (minutes)=', '4.1830', 'loss=', '91.139023884')\n",
      "('Epoch:', '0105', 'training time (minutes)=', '4.0672', 'loss=', '90.955183793')\n",
      "('Epoch:', '0106', 'training time (minutes)=', '4.1261', 'loss=', '91.233660522')\n",
      "('Epoch:', '0107', 'training time (minutes)=', '4.0422', 'loss=', '91.065714042')\n",
      "('Epoch:', '0108', 'training time (minutes)=', '4.0880', 'loss=', '91.048564160')\n",
      "('Epoch:', '0109', 'training time (minutes)=', '4.0605', 'loss=', '91.185149675')\n",
      "('Epoch:', '0110', 'training time (minutes)=', '4.0490', 'loss=', '91.156340855')\n",
      "INFO:tensorflow:/orions4-zfs/projects/lins2/Panos_Space/DATA/OUT/models/nips/vanilla_ae/three_fc_dec_longer_2048pts_emd/models.ckpt-110 is not in all_model_checkpoint_paths. Manually adding it.\n",
      "('Epoch:', '0111', 'training time (minutes)=', '4.1216', 'loss=', '90.810049555')\n",
      "('Epoch:', '0112', 'training time (minutes)=', '4.0505', 'loss=', '90.607155949')\n",
      "('Epoch:', '0113', 'training time (minutes)=', '4.0595', 'loss=', '91.097371962')\n",
      "('Epoch:', '0114', 'training time (minutes)=', '4.0672', 'loss=', '90.508954071')\n",
      "('Epoch:', '0115', 'training time (minutes)=', '4.0421', 'loss=', '90.772967255')\n",
      "('Epoch:', '0116', 'training time (minutes)=', '4.0572', 'loss=', '90.506437342')\n",
      "('Epoch:', '0117', 'training time (minutes)=', '4.0400', 'loss=', '90.841915762')\n",
      "('Epoch:', '0118', 'training time (minutes)=', '4.0912', 'loss=', '90.992084729')\n",
      "('Epoch:', '0119', 'training time (minutes)=', '4.1854', 'loss=', '90.808204598')\n",
      "('Epoch:', '0120', 'training time (minutes)=', '4.3122', 'loss=', '90.455124938')\n",
      "INFO:tensorflow:/orions4-zfs/projects/lins2/Panos_Space/DATA/OUT/models/nips/vanilla_ae/three_fc_dec_longer_2048pts_emd/models.ckpt-120 is not in all_model_checkpoint_paths. Manually adding it.\n",
      "('Epoch:', '0121', 'training time (minutes)=', '4.2782', 'loss=', '90.379605788')\n",
      "('Epoch:', '0122', 'training time (minutes)=', '4.3042', 'loss=', '90.486359507')\n",
      "('Epoch:', '0123', 'training time (minutes)=', '4.3064', 'loss=', '90.240380762')\n",
      "('Epoch:', '0124', 'training time (minutes)=', '4.2835', 'loss=', '90.573879401')\n",
      "('Epoch:', '0125', 'training time (minutes)=', '4.2496', 'loss=', '90.616973359')\n",
      "('Epoch:', '0126', 'training time (minutes)=', '4.3066', 'loss=', '90.090729006')\n",
      "('Epoch:', '0127', 'training time (minutes)=', '4.2351', 'loss=', '90.280359607')\n",
      "('Epoch:', '0128', 'training time (minutes)=', '4.3293', 'loss=', '90.198886154')\n",
      "('Epoch:', '0129', 'training time (minutes)=', '4.2985', 'loss=', '90.594255009')\n",
      "('Epoch:', '0130', 'training time (minutes)=', '4.2579', 'loss=', '90.240288120')\n",
      "INFO:tensorflow:/orions4-zfs/projects/lins2/Panos_Space/DATA/OUT/models/nips/vanilla_ae/three_fc_dec_longer_2048pts_emd/models.ckpt-130 is not in all_model_checkpoint_paths. Manually adding it.\n",
      "('Epoch:', '0131', 'training time (minutes)=', '4.2782', 'loss=', '90.194975976')\n",
      "('Epoch:', '0132', 'training time (minutes)=', '4.3122', 'loss=', '89.989259979')\n",
      "('Epoch:', '0133', 'training time (minutes)=', '4.2621', 'loss=', '89.913089633')\n",
      "('Epoch:', '0134', 'training time (minutes)=', '4.2907', 'loss=', '89.832059973')\n",
      "('Epoch:', '0135', 'training time (minutes)=', '4.3108', 'loss=', '90.035532702')\n",
      "('Epoch:', '0136', 'training time (minutes)=', '4.2909', 'loss=', '90.153577838')\n",
      "('Epoch:', '0137', 'training time (minutes)=', '4.0525', 'loss=', '89.742170301')\n",
      "('Epoch:', '0138', 'training time (minutes)=', '4.0706', 'loss=', '89.340662401')\n",
      "('Epoch:', '0139', 'training time (minutes)=', '4.0916', 'loss=', '89.806664344')\n",
      "('Epoch:', '0140', 'training time (minutes)=', '4.0409', 'loss=', '89.683711108')\n",
      "INFO:tensorflow:/orions4-zfs/projects/lins2/Panos_Space/DATA/OUT/models/nips/vanilla_ae/three_fc_dec_longer_2048pts_emd/models.ckpt-140 is not in all_model_checkpoint_paths. Manually adding it.\n",
      "('Epoch:', '0141', 'training time (minutes)=', '4.0463', 'loss=', '89.708909776')\n",
      "('Epoch:', '0142', 'training time (minutes)=', '4.1357', 'loss=', '89.798631568')\n",
      "('Epoch:', '0143', 'training time (minutes)=', '4.0641', 'loss=', '89.386875498')\n",
      "('Epoch:', '0144', 'training time (minutes)=', '4.0202', 'loss=', '89.188700560')\n",
      "('Epoch:', '0145', 'training time (minutes)=', '4.0648', 'loss=', '89.795091649')\n",
      "('Epoch:', '0146', 'training time (minutes)=', '4.1015', 'loss=', '89.347341424')\n",
      "('Epoch:', '0147', 'training time (minutes)=', '4.1424', 'loss=', '89.897996484')\n",
      "('Epoch:', '0148', 'training time (minutes)=', '4.0710', 'loss=', '89.639690140')\n",
      "('Epoch:', '0149', 'training time (minutes)=', '4.0441', 'loss=', '89.261449442')\n",
      "('Epoch:', '0150', 'training time (minutes)=', '4.0195', 'loss=', '89.530087680')\n",
      "INFO:tensorflow:/orions4-zfs/projects/lins2/Panos_Space/DATA/OUT/models/nips/vanilla_ae/three_fc_dec_longer_2048pts_emd/models.ckpt-150 is not in all_model_checkpoint_paths. Manually adding it.\n",
      "('Epoch:', '0151', 'training time (minutes)=', '4.0075', 'loss=', '89.530679743')\n",
      "('Epoch:', '0152', 'training time (minutes)=', '4.0562', 'loss=', '89.118110371')\n",
      "('Epoch:', '0153', 'training time (minutes)=', '4.0856', 'loss=', '89.367701414')\n",
      "('Epoch:', '0154', 'training time (minutes)=', '4.1177', 'loss=', '89.393207470')\n",
      "('Epoch:', '0155', 'training time (minutes)=', '4.1520', 'loss=', '89.299933656')\n",
      "('Epoch:', '0156', 'training time (minutes)=', '4.0876', 'loss=', '89.464262274')\n",
      "('Epoch:', '0157', 'training time (minutes)=', '4.0878', 'loss=', '89.479645467')\n",
      "('Epoch:', '0158', 'training time (minutes)=', '3.9834', 'loss=', '88.867217406')\n",
      "('Epoch:', '0159', 'training time (minutes)=', '4.0570', 'loss=', '88.782893005')\n",
      "('Epoch:', '0160', 'training time (minutes)=', '4.0565', 'loss=', '89.220718603')\n",
      "INFO:tensorflow:/orions4-zfs/projects/lins2/Panos_Space/DATA/OUT/models/nips/vanilla_ae/three_fc_dec_longer_2048pts_emd/models.ckpt-160 is not in all_model_checkpoint_paths. Manually adding it.\n",
      "('Epoch:', '0161', 'training time (minutes)=', '4.0727', 'loss=', '89.196946633')\n",
      "('Epoch:', '0162', 'training time (minutes)=', '4.1617', 'loss=', '89.180338737')\n",
      "('Epoch:', '0163', 'training time (minutes)=', '4.0780', 'loss=', '88.936128337')\n",
      "('Epoch:', '0164', 'training time (minutes)=', '4.0831', 'loss=', '88.534991294')\n",
      "('Epoch:', '0165', 'training time (minutes)=', '4.0281', 'loss=', '88.806587837')\n",
      "('Epoch:', '0166', 'training time (minutes)=', '4.1624', 'loss=', '88.795473976')\n",
      "('Epoch:', '0167', 'training time (minutes)=', '4.1463', 'loss=', '88.668320752')\n",
      "('Epoch:', '0168', 'training time (minutes)=', '4.0627', 'loss=', '88.666818878')\n",
      "('Epoch:', '0169', 'training time (minutes)=', '4.0730', 'loss=', '88.818619844')\n",
      "('Epoch:', '0170', 'training time (minutes)=', '4.0502', 'loss=', '88.950141847')\n",
      "INFO:tensorflow:/orions4-zfs/projects/lins2/Panos_Space/DATA/OUT/models/nips/vanilla_ae/three_fc_dec_longer_2048pts_emd/models.ckpt-170 is not in all_model_checkpoint_paths. Manually adding it.\n",
      "('Epoch:', '0171', 'training time (minutes)=', '4.0346', 'loss=', '88.320832801')\n",
      "('Epoch:', '0172', 'training time (minutes)=', '4.0620', 'loss=', '88.749809857')\n",
      "('Epoch:', '0173', 'training time (minutes)=', '4.0508', 'loss=', '88.439493691')\n",
      "('Epoch:', '0174', 'training time (minutes)=', '4.0877', 'loss=', '88.483504977')\n",
      "('Epoch:', '0175', 'training time (minutes)=', '4.0196', 'loss=', '88.712765338')\n",
      "('Epoch:', '0176', 'training time (minutes)=', '4.0682', 'loss=', '88.366907917')\n",
      "('Epoch:', '0177', 'training time (minutes)=', '4.1673', 'loss=', '88.079681496')\n",
      "('Epoch:', '0178', 'training time (minutes)=', '4.0913', 'loss=', '88.472494790')\n",
      "('Epoch:', '0179', 'training time (minutes)=', '4.0848', 'loss=', '88.650682735')\n",
      "('Epoch:', '0180', 'training time (minutes)=', '4.0033', 'loss=', '88.945014761')\n",
      "INFO:tensorflow:/orions4-zfs/projects/lins2/Panos_Space/DATA/OUT/models/nips/vanilla_ae/three_fc_dec_longer_2048pts_emd/models.ckpt-180 is not in all_model_checkpoint_paths. Manually adding it.\n",
      "('Epoch:', '0181', 'training time (minutes)=', '4.0162', 'loss=', '88.320621637')\n",
      "('Epoch:', '0182', 'training time (minutes)=', '4.0312', 'loss=', '88.708836346')\n",
      "('Epoch:', '0183', 'training time (minutes)=', '3.9892', 'loss=', '88.228305238')\n",
      "('Epoch:', '0184', 'training time (minutes)=', '4.0519', 'loss=', '88.558149338')\n",
      "('Epoch:', '0185', 'training time (minutes)=', '4.0136', 'loss=', '87.986118244')\n",
      "('Epoch:', '0186', 'training time (minutes)=', '4.0130', 'loss=', '88.267530142')\n",
      "('Epoch:', '0187', 'training time (minutes)=', '4.0220', 'loss=', '87.908833786')\n",
      "('Epoch:', '0188', 'training time (minutes)=', '3.9844', 'loss=', '88.199444708')\n",
      "('Epoch:', '0189', 'training time (minutes)=', '4.0569', 'loss=', '88.543922411')\n",
      "('Epoch:', '0190', 'training time (minutes)=', '4.0208', 'loss=', '87.805759363')\n",
      "INFO:tensorflow:/orions4-zfs/projects/lins2/Panos_Space/DATA/OUT/models/nips/vanilla_ae/three_fc_dec_longer_2048pts_emd/models.ckpt-190 is not in all_model_checkpoint_paths. Manually adding it.\n",
      "('Epoch:', '0191', 'training time (minutes)=', '4.1277', 'loss=', '88.377377407')\n",
      "('Epoch:', '0192', 'training time (minutes)=', '4.0111', 'loss=', '88.017472377')\n",
      "('Epoch:', '0193', 'training time (minutes)=', '4.0480', 'loss=', '88.119243954')\n",
      "('Epoch:', '0194', 'training time (minutes)=', '4.0240', 'loss=', '88.090068764')\n"
     ]
    }
   ],
   "source": [
    "if do_training:\n",
    "    training_stats = []\n",
    "    training_stats.append(ae.train(train_data, conf))    \n",
    "    with open(osp.join(conf.train_dir, 'train_stats.txt'), 'a') as fout:\n",
    "        np.savetxt(fout, np.array(training_stats)[0])"
   ]
  }
 ],
 "metadata": {
  "kernelspec": {
   "display_name": "Python 2",
   "language": "python",
   "name": "python2"
  },
  "language_info": {
   "codemirror_mode": {
    "name": "ipython",
    "version": 2
   },
   "file_extension": ".py",
   "mimetype": "text/x-python",
   "name": "python",
   "nbconvert_exporter": "python",
   "pygments_lexer": "ipython2",
   "version": "2.7.6"
  }
 },
 "nbformat": 4,
 "nbformat_minor": 0
}
