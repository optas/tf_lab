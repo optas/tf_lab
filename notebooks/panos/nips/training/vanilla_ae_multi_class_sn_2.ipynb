{
 "cells": [
  {
   "cell_type": "code",
   "execution_count": 1,
   "metadata": {
    "collapsed": false,
    "deletable": true,
    "editable": true
   },
   "outputs": [
    {
     "name": "stdout",
     "output_type": "stream",
     "text": [
      "Picking GPU 3\n"
     ]
    }
   ],
   "source": [
    "from general_tools.notebook.gpu_utils import setup_one_gpu\n",
    "GPU = 3\n",
    "setup_one_gpu(GPU)"
   ]
  },
  {
   "cell_type": "code",
   "execution_count": 2,
   "metadata": {
    "collapsed": false,
    "deletable": true,
    "editable": true
   },
   "outputs": [
    {
     "name": "stderr",
     "output_type": "stream",
     "text": [
      "/usr/local/lib/python2.7/dist-packages/matplotlib/font_manager.py:273: UserWarning: Matplotlib is building the font cache using fc-list. This may take a moment.\n",
      "  warnings.warn('Matplotlib is building the font cache using fc-list. This may take a moment.')\n",
      "/orions4-zfs/projects/lins2/Panos_Space/Git_Repos/geo_tool/solids/mesh.py:26: UserWarning: Mayavi library was not found. Some graphics utilities will be disabled.\n",
      "  warnings.warn('Mayavi library was not found. Some graphics utilities will be disabled.')\n"
     ]
    }
   ],
   "source": [
    "import sys\n",
    "import time\n",
    "import numpy as np\n",
    "import os.path as osp\n",
    "import tensorflow as tf\n",
    "import matplotlib.pyplot as plt\n",
    "\n",
    "from general_tools.notebook.tf import reset_tf_graph\n",
    "\n",
    "import tf_lab.point_clouds.in_out as pio\n",
    "\n",
    "from tf_lab.point_clouds.in_out import PointCloudDataSet, write_model_ids_of_datasets\n",
    "from tf_lab.point_clouds.point_net_ae import PointNetAutoEncoder\n",
    "from tf_lab.point_clouds.autoencoder import Configuration as Conf\n",
    "import tf_lab.point_clouds.encoders_decoders as enc_dec\n",
    "\n",
    "\n",
    "from tf_lab.autopredictors.scripts.helper import shape_net_category_to_synth_id\n",
    "\n",
    "\n",
    "from tf_lab.autopredictors.plotting import plot_original_pclouds_vs_reconstructed, \\\n",
    "                                           plot_train_val_test_curves, plot_reconstructions_at_epoch\n",
    "\n",
    "\n",
    "from tf_lab.autopredictors.evaluate import eval_model, read_saved_epochs\n",
    "                                                  \n",
    "\n",
    "from general_tools.in_out.basics import create_dir, delete_files_in_directory, files_in_subdirs\n",
    "from general_tools.simpletons import select_first_last_and_k\n",
    "from geo_tool import Point_Cloud\n",
    "\n",
    "from tf_lab.nips.shape_net import pc_loader as sn_pc_loader"
   ]
  },
  {
   "cell_type": "code",
   "execution_count": 3,
   "metadata": {
    "collapsed": false,
    "deletable": true,
    "editable": true
   },
   "outputs": [],
   "source": [
    "%load_ext autoreload\n",
    "%autoreload 2\n",
    "%matplotlib inline"
   ]
  },
  {
   "cell_type": "code",
   "execution_count": 4,
   "metadata": {
    "collapsed": true,
    "deletable": true,
    "editable": true
   },
   "outputs": [],
   "source": [
    "n_pc_samples = 2048\n",
    "do_training = True\n",
    "first_time_running = False\n",
    "load_model = True\n",
    "seed = 42\n",
    "max_training_epochs = 2000\n",
    "loss = 'chamfer'\n",
    "z_rotate = True\n",
    "experiment_name = 'all_snc_rotated_conv_arch_' + str(n_pc_samples) +  'pts_' + loss"
   ]
  },
  {
   "cell_type": "code",
   "execution_count": 5,
   "metadata": {
    "collapsed": false,
    "deletable": true,
    "editable": true
   },
   "outputs": [
    {
     "data": {
      "text/plain": [
       "'/orions4-zfs/projects/lins2/Panos_Space/DATA/OUT/models/nips/vanilla_ae/all_snc_rotated_conv_arch_2048pts_chamfer'"
      ]
     },
     "execution_count": 5,
     "metadata": {},
     "output_type": "execute_result"
    }
   ],
   "source": [
    "top_data_dir = '/orions4-zfs/projects/lins2/Panos_Space/DATA/'\n",
    "full_pclouds_path = osp.join(top_data_dir, 'Point_Clouds/Shape_Net/Core/from_manifold_meshes/centered/', str(n_pc_samples))\n",
    "train_dir = osp.join(top_data_dir, 'OUT/models/nips/vanilla_ae/')\n",
    "train_dir = osp.join(train_dir, experiment_name)\n",
    "create_dir(train_dir)"
   ]
  },
  {
   "cell_type": "code",
   "execution_count": 6,
   "metadata": {
    "collapsed": false,
    "deletable": true,
    "editable": true
   },
   "outputs": [
    {
     "name": "stderr",
     "output_type": "stream",
     "text": [
      "/orions4-zfs/projects/lins2/Panos_Space/Git_Repos/tf_lab/point_clouds/in_out.py:56: UserWarning: Point clouds with the same model name were loaded.\n",
      "  warnings.warn('Point clouds with the same model name were loaded.')\n"
     ]
    },
    {
     "name": "stdout",
     "output_type": "stream",
     "text": [
      "57449 files containing complete point clouds were found.\n"
     ]
    }
   ],
   "source": [
    "full_file_names = pio.load_filenames_of_input_data(full_pclouds_path, '.ply')\n",
    "full_pclouds, full_model_names, full_syn_ids = pio.load_crude_point_clouds(file_names=full_file_names,\\\n",
    "                                                                           n_threads=50, loader=sn_pc_loader)\n",
    "\n",
    "print '%d files containing complete point clouds were found.' % (len(full_pclouds), )\n",
    "\n",
    "model_unames = full_model_names + '.' + full_syn_ids\n",
    "train_data = PointCloudDataSet(full_pclouds, labels=model_unames)"
   ]
  },
  {
   "cell_type": "code",
   "execution_count": 7,
   "metadata": {
    "collapsed": false,
    "deletable": true,
    "editable": true
   },
   "outputs": [
    {
     "name": "stdout",
     "output_type": "stream",
     "text": [
      "              allow_gpu_growth: False\n",
      "                    batch_size: 50\n",
      "                 consistent_io: None\n",
      "                         debug: False\n",
      "                       decoder: decoder_with_fc_only\n",
      "                  decoder_args: {'layer_sizes': [1024, 2048, 6144]}\n",
      "                       encoder: encoder_with_convs_and_symmetry\n",
      "                  encoder_args: {'filter_sizes': [40, 20, 10, 10], 'n_filters': [128, 128, 256, 512], 'strides': [1, 2, 2, 1]}\n",
      "               experiment_name: all_snc_rotated_conv_arch_2048pts_chamfer\n",
      "                 gauss_augment: None\n",
      "                  is_denoising: False\n",
      "               latent_vs_recon: 1.0\n",
      "                 learning_rate: 0.0005\n",
      "                          loss: chamfer\n",
      "             loss_display_step: 1\n",
      "                       n_input: [2048, 3]\n",
      "                      n_output: [2048, 3]\n",
      "                           n_z: None\n",
      "             saver_max_to_keep: None\n",
      "                    saver_step: 10\n",
      "                     train_dir: /orions4-zfs/projects/lins2/Panos_Space/DATA/OUT/models/nips/vanilla_ae/all_snc_rotated_conv_arch_2048pts_chamfer\n",
      "               training_epochs: 2000\n",
      "                      z_rotate: True\n",
      "\n"
     ]
    }
   ],
   "source": [
    "if n_pc_samples == 2048:\n",
    "    encoder_args = {'n_filters': [128, 128, 256, 512],\n",
    "                    'filter_sizes': [40, 20, 10, 10],\n",
    "                    'strides': [1, 2, 2, 1]\n",
    "                   }\n",
    "else:\n",
    "    assert(False)\n",
    "\n",
    "\n",
    "if load_model:\n",
    "    conf = Conf.load(osp.join(train_dir, 'configuration'))\n",
    "    print conf\n",
    "    \n",
    "else:\n",
    "    n_input = [n_pc_samples, 3]\n",
    "    \n",
    "    decoder_args = {'layer_sizes': [1024, 2048, np.prod(n_input)] }\n",
    "        \n",
    "    conf = Conf(\n",
    "                n_input = n_input,\n",
    "                training_epochs = max_training_epochs,\n",
    "                batch_size = 50,\n",
    "                loss = loss,\n",
    "                denoising = False,\n",
    "                train_dir = train_dir,\n",
    "                loss_display_step = 1,\n",
    "                saver_step = 10,\n",
    "                learning_rate = 0.0005,\n",
    "                z_rotate = z_rotate,\n",
    "                encoder = enc_dec.encoder_with_convs_and_symmetry,\n",
    "                encoder_args = encoder_args,\n",
    "                decoder = enc_dec.decoder_with_fc_only,\n",
    "                decoder_args = decoder_args,        \n",
    "               )\n",
    "    \n",
    "    conf.allow_gpu_growth = False\n",
    "    conf.experiment_name = experiment_name\n",
    "    conf.save(osp.join(conf.train_dir, 'configuration'))"
   ]
  },
  {
   "cell_type": "code",
   "execution_count": 8,
   "metadata": {
    "collapsed": false
   },
   "outputs": [
    {
     "name": "stdout",
     "output_type": "stream",
     "text": [
      "Model restored in epoch 560.\n"
     ]
    }
   ],
   "source": [
    "reset_tf_graph()\n",
    "ae = PointNetAutoEncoder(experiment_name, conf)\n",
    "\n",
    "if load_model:\n",
    "    saved_epochs = read_saved_epochs(conf.train_dir)\n",
    "    last_epoch = saved_epochs[-1]\n",
    "    ae.restore_model(conf.train_dir, last_epoch, verbose=True)"
   ]
  },
  {
   "cell_type": "code",
   "execution_count": null,
   "metadata": {
    "collapsed": false,
    "deletable": true,
    "editable": true
   },
   "outputs": [
    {
     "name": "stdout",
     "output_type": "stream",
     "text": [
      "('Epoch:', '0561', 'training time (minutes)=', '1.6559', 'loss=', '0.000413575')\n",
      "('Epoch:', '0562', 'training time (minutes)=', '1.6629', 'loss=', '0.000412949')\n",
      "('Epoch:', '0563', 'training time (minutes)=', '1.6659', 'loss=', '0.000425406')\n",
      "('Epoch:', '0564', 'training time (minutes)=', '1.6702', 'loss=', '0.000412172')\n",
      "('Epoch:', '0565', 'training time (minutes)=', '1.8783', 'loss=', '0.000410756')\n",
      "('Epoch:', '0566', 'training time (minutes)=', '1.6779', 'loss=', '0.000421116')\n",
      "('Epoch:', '0567', 'training time (minutes)=', '1.6903', 'loss=', '0.000411492')\n",
      "('Epoch:', '0568', 'training time (minutes)=', '1.6817', 'loss=', '0.000410830')\n",
      "('Epoch:', '0569', 'training time (minutes)=', '1.6724', 'loss=', '0.000415906')\n",
      "('Epoch:', '0570', 'training time (minutes)=', '1.6776', 'loss=', '0.000417100')\n",
      "INFO:tensorflow:/orions4-zfs/projects/lins2/Panos_Space/DATA/OUT/models/nips/vanilla_ae/all_snc_rotated_conv_arch_2048pts_chamfer/models.ckpt-570 is not in all_model_checkpoint_paths. Manually adding it.\n",
      "('Epoch:', '0571', 'training time (minutes)=', '1.6534', 'loss=', '0.000412331')\n",
      "('Epoch:', '0572', 'training time (minutes)=', '1.6685', 'loss=', '0.000411735')\n",
      "('Epoch:', '0573', 'training time (minutes)=', '1.6634', 'loss=', '0.000416482')\n",
      "('Epoch:', '0574', 'training time (minutes)=', '1.6657', 'loss=', '0.000417545')\n",
      "('Epoch:', '0575', 'training time (minutes)=', '1.6726', 'loss=', '0.000408357')\n",
      "('Epoch:', '0576', 'training time (minutes)=', '1.6713', 'loss=', '0.000416362')\n",
      "('Epoch:', '0577', 'training time (minutes)=', '1.6689', 'loss=', '0.000411179')\n",
      "('Epoch:', '0578', 'training time (minutes)=', '1.6570', 'loss=', '0.000418585')\n",
      "('Epoch:', '0579', 'training time (minutes)=', '1.6667', 'loss=', '0.000407001')\n",
      "('Epoch:', '0580', 'training time (minutes)=', '1.6821', 'loss=', '0.000414882')\n",
      "INFO:tensorflow:/orions4-zfs/projects/lins2/Panos_Space/DATA/OUT/models/nips/vanilla_ae/all_snc_rotated_conv_arch_2048pts_chamfer/models.ckpt-580 is not in all_model_checkpoint_paths. Manually adding it.\n",
      "('Epoch:', '0581', 'training time (minutes)=', '1.6945', 'loss=', '0.000407736')\n",
      "('Epoch:', '0582', 'training time (minutes)=', '1.7229', 'loss=', '0.000413613')\n",
      "('Epoch:', '0583', 'training time (minutes)=', '1.7048', 'loss=', '0.000417374')\n",
      "('Epoch:', '0584', 'training time (minutes)=', '1.7079', 'loss=', '0.000411179')\n",
      "('Epoch:', '0585', 'training time (minutes)=', '1.6999', 'loss=', '0.000409141')\n",
      "('Epoch:', '0586', 'training time (minutes)=', '1.6853', 'loss=', '0.000411767')\n",
      "('Epoch:', '0587', 'training time (minutes)=', '1.7009', 'loss=', '0.000417269')\n",
      "('Epoch:', '0588', 'training time (minutes)=', '1.7148', 'loss=', '0.000412809')\n",
      "('Epoch:', '0589', 'training time (minutes)=', '1.7034', 'loss=', '0.000404544')\n",
      "('Epoch:', '0590', 'training time (minutes)=', '1.7191', 'loss=', '0.000411507')\n",
      "INFO:tensorflow:/orions4-zfs/projects/lins2/Panos_Space/DATA/OUT/models/nips/vanilla_ae/all_snc_rotated_conv_arch_2048pts_chamfer/models.ckpt-590 is not in all_model_checkpoint_paths. Manually adding it.\n",
      "('Epoch:', '0591', 'training time (minutes)=', '1.7015', 'loss=', '0.000416749')\n",
      "('Epoch:', '0592', 'training time (minutes)=', '1.6993', 'loss=', '0.000411896')\n",
      "('Epoch:', '0593', 'training time (minutes)=', '1.7040', 'loss=', '0.000405283')\n",
      "('Epoch:', '0594', 'training time (minutes)=', '1.7003', 'loss=', '0.000414176')\n",
      "('Epoch:', '0595', 'training time (minutes)=', '1.6977', 'loss=', '0.000417174')\n",
      "('Epoch:', '0596', 'training time (minutes)=', '1.6884', 'loss=', '0.000417509')\n",
      "('Epoch:', '0597', 'training time (minutes)=', '1.7098', 'loss=', '0.000408544')\n",
      "('Epoch:', '0598', 'training time (minutes)=', '1.7161', 'loss=', '0.000415219')\n",
      "('Epoch:', '0599', 'training time (minutes)=', '1.7055', 'loss=', '0.000409885')\n",
      "('Epoch:', '0600', 'training time (minutes)=', '1.6847', 'loss=', '0.000410302')\n",
      "INFO:tensorflow:/orions4-zfs/projects/lins2/Panos_Space/DATA/OUT/models/nips/vanilla_ae/all_snc_rotated_conv_arch_2048pts_chamfer/models.ckpt-600 is not in all_model_checkpoint_paths. Manually adding it.\n",
      "('Epoch:', '0601', 'training time (minutes)=', '1.6828', 'loss=', '0.000412688')\n",
      "('Epoch:', '0602', 'training time (minutes)=', '1.7007', 'loss=', '0.000404449')\n",
      "('Epoch:', '0603', 'training time (minutes)=', '1.6967', 'loss=', '0.000412047')\n",
      "('Epoch:', '0604', 'training time (minutes)=', '1.7035', 'loss=', '0.000415020')\n",
      "('Epoch:', '0605', 'training time (minutes)=', '1.6905', 'loss=', '0.000414106')\n",
      "('Epoch:', '0606', 'training time (minutes)=', '1.6890', 'loss=', '0.000407770')\n",
      "('Epoch:', '0607', 'training time (minutes)=', '1.6916', 'loss=', '0.000406113')\n",
      "('Epoch:', '0608', 'training time (minutes)=', '1.6904', 'loss=', '0.000411286')\n",
      "('Epoch:', '0609', 'training time (minutes)=', '1.7041', 'loss=', '0.000410049')\n",
      "('Epoch:', '0610', 'training time (minutes)=', '1.6859', 'loss=', '0.000411361')\n",
      "INFO:tensorflow:/orions4-zfs/projects/lins2/Panos_Space/DATA/OUT/models/nips/vanilla_ae/all_snc_rotated_conv_arch_2048pts_chamfer/models.ckpt-610 is not in all_model_checkpoint_paths. Manually adding it.\n",
      "('Epoch:', '0611', 'training time (minutes)=', '1.6957', 'loss=', '0.000417566')\n",
      "('Epoch:', '0612', 'training time (minutes)=', '1.6916', 'loss=', '0.000409684')\n"
     ]
    }
   ],
   "source": [
    "if do_training:\n",
    "    training_stats = []\n",
    "    training_stats.append(ae.train(train_data, conf))    \n",
    "    with open(osp.join(conf.train_dir, 'train_stats.txt'), 'a') as fout:\n",
    "        np.savetxt(fout, np.array(training_stats)[0])"
   ]
  }
 ],
 "metadata": {
  "kernelspec": {
   "display_name": "Python 2",
   "language": "python",
   "name": "python2"
  },
  "language_info": {
   "codemirror_mode": {
    "name": "ipython",
    "version": 2
   },
   "file_extension": ".py",
   "mimetype": "text/x-python",
   "name": "python",
   "nbconvert_exporter": "python",
   "pygments_lexer": "ipython2",
   "version": "2.7.6"
  }
 },
 "nbformat": 4,
 "nbformat_minor": 0
}
