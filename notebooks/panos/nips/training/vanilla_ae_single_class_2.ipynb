{
 "cells": [
  {
   "cell_type": "code",
   "execution_count": 1,
   "metadata": {
    "collapsed": false,
    "deletable": true,
    "editable": true
   },
   "outputs": [
    {
     "name": "stdout",
     "output_type": "stream",
     "text": [
      "Picking GPU 2\n"
     ]
    }
   ],
   "source": [
    "from general_tools.notebook.gpu_utils import setup_one_gpu\n",
    "GPU = 2\n",
    "setup_one_gpu(GPU)"
   ]
  },
  {
   "cell_type": "code",
   "execution_count": 2,
   "metadata": {
    "collapsed": false,
    "deletable": true,
    "editable": true
   },
   "outputs": [
    {
     "name": "stderr",
     "output_type": "stream",
     "text": [
      "/usr/local/lib/python2.7/dist-packages/matplotlib/font_manager.py:273: UserWarning: Matplotlib is building the font cache using fc-list. This may take a moment.\n",
      "  warnings.warn('Matplotlib is building the font cache using fc-list. This may take a moment.')\n",
      "/orions4-zfs/projects/lins2/Panos_Space/Git_Repos/geo_tool/solids/mesh.py:26: UserWarning: Mayavi library was not found. Some graphics utilities will be disabled.\n",
      "  warnings.warn('Mayavi library was not found. Some graphics utilities will be disabled.')\n"
     ]
    }
   ],
   "source": [
    "import sys\n",
    "import time\n",
    "import numpy as np\n",
    "import os.path as osp\n",
    "import tensorflow as tf\n",
    "import matplotlib.pyplot as plt\n",
    "\n",
    "from general_tools.notebook.tf import reset_tf_graph\n",
    "\n",
    "import tf_lab.point_clouds.in_out as pio\n",
    "\n",
    "from tf_lab.point_clouds.in_out import PointCloudDataSet, write_model_ids_of_datasets\n",
    "from tf_lab.point_clouds.point_net_ae import PointNetAutoEncoder\n",
    "from tf_lab.point_clouds.autoencoder import Configuration as Conf\n",
    "import tf_lab.point_clouds.encoders_decoders as enc_dec\n",
    "\n",
    "\n",
    "from tf_lab.autopredictors.scripts.helper import shape_net_category_to_synth_id\n",
    "\n",
    "\n",
    "from tf_lab.autopredictors.plotting import plot_original_pclouds_vs_reconstructed, \\\n",
    "                                           plot_train_val_test_curves, plot_reconstructions_at_epoch\n",
    "\n",
    "\n",
    "from tf_lab.autopredictors.evaluate import eval_model, read_saved_epochs\n",
    "                                                  \n",
    "\n",
    "from general_tools.in_out.basics import create_dir, delete_files_in_directory, files_in_subdirs\n",
    "from general_tools.simpletons import select_first_last_and_k\n",
    "from geo_tool import Point_Cloud\n",
    "\n",
    "from tf_lab.nips.shape_net import pc_loader as sn_pc_loader\n",
    "from tf_lab.nips.helper import center_pclouds_in_unit_sphere"
   ]
  },
  {
   "cell_type": "code",
   "execution_count": 3,
   "metadata": {
    "collapsed": false,
    "deletable": true,
    "editable": true
   },
   "outputs": [],
   "source": [
    "%load_ext autoreload\n",
    "%autoreload 2\n",
    "%matplotlib inline"
   ]
  },
  {
   "cell_type": "code",
   "execution_count": 6,
   "metadata": {
    "collapsed": false,
    "deletable": true,
    "editable": true
   },
   "outputs": [
    {
     "name": "stdout",
     "output_type": "stream",
     "text": [
      "Give me the class type.\n",
      "sofa\n"
     ]
    },
    {
     "data": {
      "text/plain": [
       "'/orions4-zfs/projects/lins2/Panos_Space/DATA/OUT/models/nips/vanilla_ae/sofa_conv_arch_1_2048pts_emd'"
      ]
     },
     "execution_count": 6,
     "metadata": {},
     "output_type": "execute_result"
    }
   ],
   "source": [
    "n_pc_samples = 2048\n",
    "do_training = True\n",
    "first_time_running = True\n",
    "load_model = False\n",
    "load_epoch = None\n",
    "seed = 42\n",
    "\n",
    "max_training_epochs = 1000\n",
    "loss = 'emd'\n",
    "\n",
    "class_name = raw_input('Give me the class type.\\n').lower()\n",
    "syn_id = shape_net_category_to_synth_id()[class_name]\n",
    "\n",
    "experiment_name = class_name + '_' + 'conv_arch_1_' + str(n_pc_samples) +  'pts_' + loss\n",
    "\n",
    "\n",
    "top_data_dir = '/orions4-zfs/projects/lins2/Panos_Space/DATA/'\n",
    "train_dir = osp.join(top_data_dir, 'OUT/models/nips/vanilla_ae/')\n",
    "train_dir = osp.join(train_dir, experiment_name)\n",
    "create_dir(train_dir)"
   ]
  },
  {
   "cell_type": "code",
   "execution_count": 7,
   "metadata": {
    "collapsed": false,
    "deletable": true,
    "editable": true
   },
   "outputs": [
    {
     "name": "stdout",
     "output_type": "stream",
     "text": [
      "3173 files containing complete point clouds were found.\n"
     ]
    }
   ],
   "source": [
    "# Load Raw Point-Clouds of class\n",
    "pclouds_path = osp.join(top_data_dir, 'Point_Clouds/Shape_Net/Core/from_manifold_meshes/centered/', str(n_pc_samples))\n",
    "pclouds_path = osp.join(pclouds_path, syn_id)\n",
    "file_names = pio.load_filenames_of_input_data(pclouds_path, '.ply')\n",
    "pclouds, model_ids, syn_ids = pio.load_crude_point_clouds(file_names=file_names, n_threads=50, loader=sn_pc_loader)\n",
    "print '%d files containing complete point clouds were found.' % (len(pclouds), )\n",
    "\n",
    "train_data = PointCloudDataSet(pclouds)"
   ]
  },
  {
   "cell_type": "code",
   "execution_count": 8,
   "metadata": {
    "collapsed": false,
    "deletable": true,
    "editable": true
   },
   "outputs": [],
   "source": [
    "if n_pc_samples == 2048:\n",
    "    encoder_args = {'n_filters': [128, 128, 256, 512],\n",
    "                    'filter_sizes' :[40, 20, 10, 10],\n",
    "                    'strides': [1, 2, 2, 1]}\n",
    "else:\n",
    "    assert(False)\n",
    "    \n",
    "if load_model:\n",
    "    conf = Conf.load(osp.join(train_dir, 'configuration'))\n",
    "    print conf\n",
    "else:\n",
    "    n_input = [n_pc_samples, 3]\n",
    "\n",
    "    decoder_args = {'layer_sizes': [1024, 2048, np.prod(n_input)]}\n",
    "\n",
    "    conf = Conf(\n",
    "                n_input = n_input,\n",
    "                training_epochs = max_training_epochs,\n",
    "                batch_size = 50,\n",
    "                loss = loss,\n",
    "                denoising = False,\n",
    "                train_dir = train_dir,\n",
    "                loss_display_step = 1,\n",
    "                saver_step = 10,\n",
    "                learning_rate = 0.0005,\n",
    "                z_rotate = False, \n",
    "                encoder = enc_dec.encoder_with_convs_and_symmetry,\n",
    "                encoder_args = encoder_args,\n",
    "                decoder = enc_dec.decoder_with_fc_only,\n",
    "                decoder_args = decoder_args,        \n",
    "               )\n",
    "\n",
    "    conf.experiment_name = experiment_name\n",
    "    conf.save(osp.join(conf.train_dir, 'configuration'))\n",
    "    \n",
    "reset_tf_graph()\n",
    "ae = PointNetAutoEncoder(experiment_name, conf)\n",
    "\n",
    "if load_model:\n",
    "\n",
    "    if load_epoch is None: # load last saved.\n",
    "        saved_epochs = read_saved_epochs(conf.train_dir)\n",
    "        load_epoch = saved_epochs[-1]\n",
    "        \n",
    "    ae.restore_model(conf.train_dir, load_epoch, verbose=True)"
   ]
  },
  {
   "cell_type": "code",
   "execution_count": null,
   "metadata": {
    "collapsed": false,
    "deletable": true,
    "editable": true
   },
   "outputs": [
    {
     "name": "stdout",
     "output_type": "stream",
     "text": [
      "('Epoch:', '0001', 'training time (minutes)=', '0.6301', 'loss=', '243.946503170')\n",
      "INFO:tensorflow:/orions4-zfs/projects/lins2/Panos_Space/DATA/OUT/models/nips/vanilla_ae/sofa_conv_arch_1_2048pts_emd/models.ckpt-1 is not in all_model_checkpoint_paths. Manually adding it.\n",
      "('Epoch:', '0002', 'training time (minutes)=', '0.5862', 'loss=', '189.280434018')\n",
      "('Epoch:', '0003', 'training time (minutes)=', '0.5853', 'loss=', '157.161846827')\n",
      "('Epoch:', '0004', 'training time (minutes)=', '0.5860', 'loss=', '140.424035087')\n",
      "('Epoch:', '0005', 'training time (minutes)=', '0.5866', 'loss=', '128.280985999')\n",
      "('Epoch:', '0006', 'training time (minutes)=', '0.5880', 'loss=', '122.049327790')\n",
      "('Epoch:', '0007', 'training time (minutes)=', '0.5870', 'loss=', '116.686995612')\n",
      "('Epoch:', '0008', 'training time (minutes)=', '0.5859', 'loss=', '112.587434072')\n",
      "('Epoch:', '0009', 'training time (minutes)=', '0.5862', 'loss=', '107.152989463')\n",
      "('Epoch:', '0010', 'training time (minutes)=', '0.5863', 'loss=', '105.394088987')\n",
      "INFO:tensorflow:/orions4-zfs/projects/lins2/Panos_Space/DATA/OUT/models/nips/vanilla_ae/sofa_conv_arch_1_2048pts_emd/models.ckpt-10 is not in all_model_checkpoint_paths. Manually adding it.\n",
      "('Epoch:', '0011', 'training time (minutes)=', '0.5865', 'loss=', '102.395711747')\n",
      "('Epoch:', '0012', 'training time (minutes)=', '0.5873', 'loss=', '100.350967407')\n",
      "('Epoch:', '0013', 'training time (minutes)=', '0.5858', 'loss=', '98.558631291')\n",
      "('Epoch:', '0014', 'training time (minutes)=', '0.5857', 'loss=', '98.823406159')\n",
      "('Epoch:', '0015', 'training time (minutes)=', '0.5850', 'loss=', '97.061479720')\n",
      "('Epoch:', '0016', 'training time (minutes)=', '0.5852', 'loss=', '94.915375361')\n",
      "('Epoch:', '0017', 'training time (minutes)=', '0.5852', 'loss=', '92.863402957')\n",
      "('Epoch:', '0018', 'training time (minutes)=', '0.5855', 'loss=', '94.004953778')\n",
      "('Epoch:', '0019', 'training time (minutes)=', '0.5860', 'loss=', '92.867687649')\n",
      "('Epoch:', '0020', 'training time (minutes)=', '0.5858', 'loss=', '93.225733681')\n",
      "INFO:tensorflow:/orions4-zfs/projects/lins2/Panos_Space/DATA/OUT/models/nips/vanilla_ae/sofa_conv_arch_1_2048pts_emd/models.ckpt-20 is not in all_model_checkpoint_paths. Manually adding it.\n",
      "('Epoch:', '0021', 'training time (minutes)=', '0.5848', 'loss=', '91.297772847')\n",
      "('Epoch:', '0022', 'training time (minutes)=', '0.5850', 'loss=', '89.011693803')\n",
      "('Epoch:', '0023', 'training time (minutes)=', '0.5853', 'loss=', '88.258046710')\n",
      "('Epoch:', '0024', 'training time (minutes)=', '0.5861', 'loss=', '87.405675252')\n",
      "('Epoch:', '0025', 'training time (minutes)=', '0.5854', 'loss=', '86.939702473')\n",
      "('Epoch:', '0026', 'training time (minutes)=', '0.5854', 'loss=', '86.228566124')\n",
      "('Epoch:', '0027', 'training time (minutes)=', '0.5859', 'loss=', '85.103230310')\n",
      "('Epoch:', '0028', 'training time (minutes)=', '0.5850', 'loss=', '84.214548868')\n",
      "('Epoch:', '0029', 'training time (minutes)=', '0.5858', 'loss=', '84.462344821')\n",
      "('Epoch:', '0030', 'training time (minutes)=', '0.5864', 'loss=', '84.817632039')\n",
      "INFO:tensorflow:/orions4-zfs/projects/lins2/Panos_Space/DATA/OUT/models/nips/vanilla_ae/sofa_conv_arch_1_2048pts_emd/models.ckpt-30 is not in all_model_checkpoint_paths. Manually adding it.\n",
      "('Epoch:', '0031', 'training time (minutes)=', '0.5869', 'loss=', '83.484536671')\n",
      "('Epoch:', '0032', 'training time (minutes)=', '0.5859', 'loss=', '81.975858537')\n",
      "('Epoch:', '0033', 'training time (minutes)=', '0.5851', 'loss=', '84.018856109')\n",
      "('Epoch:', '0034', 'training time (minutes)=', '0.5855', 'loss=', '83.455536736')\n",
      "('Epoch:', '0035', 'training time (minutes)=', '0.5853', 'loss=', '81.450373211')\n",
      "('Epoch:', '0036', 'training time (minutes)=', '0.5853', 'loss=', '81.217002263')\n",
      "('Epoch:', '0037', 'training time (minutes)=', '0.5852', 'loss=', '80.568614536')\n",
      "('Epoch:', '0038', 'training time (minutes)=', '0.5851', 'loss=', '80.611724975')\n",
      "('Epoch:', '0039', 'training time (minutes)=', '0.5855', 'loss=', '79.683618576')\n",
      "('Epoch:', '0040', 'training time (minutes)=', '0.5855', 'loss=', '78.666314382')\n",
      "INFO:tensorflow:/orions4-zfs/projects/lins2/Panos_Space/DATA/OUT/models/nips/vanilla_ae/sofa_conv_arch_1_2048pts_emd/models.ckpt-40 is not in all_model_checkpoint_paths. Manually adding it.\n",
      "('Epoch:', '0041', 'training time (minutes)=', '0.5856', 'loss=', '78.732329475')\n",
      "('Epoch:', '0042', 'training time (minutes)=', '0.5856', 'loss=', '79.337336465')\n",
      "('Epoch:', '0043', 'training time (minutes)=', '0.5853', 'loss=', '78.989531260')\n",
      "('Epoch:', '0044', 'training time (minutes)=', '0.5853', 'loss=', '78.475187150')\n",
      "('Epoch:', '0045', 'training time (minutes)=', '0.5856', 'loss=', '77.544232202')\n",
      "('Epoch:', '0046', 'training time (minutes)=', '0.5858', 'loss=', '76.869814676')\n",
      "('Epoch:', '0047', 'training time (minutes)=', '0.5860', 'loss=', '75.947308374')\n",
      "('Epoch:', '0048', 'training time (minutes)=', '0.5863', 'loss=', '75.497627137')\n",
      "('Epoch:', '0049', 'training time (minutes)=', '0.5853', 'loss=', '75.749107603')\n",
      "('Epoch:', '0050', 'training time (minutes)=', '0.5861', 'loss=', '75.080572340')\n",
      "INFO:tensorflow:/orions4-zfs/projects/lins2/Panos_Space/DATA/OUT/models/nips/vanilla_ae/sofa_conv_arch_1_2048pts_emd/models.ckpt-50 is not in all_model_checkpoint_paths. Manually adding it.\n",
      "('Epoch:', '0051', 'training time (minutes)=', '0.5862', 'loss=', '74.804971604')\n",
      "('Epoch:', '0052', 'training time (minutes)=', '0.5858', 'loss=', '74.293837411')\n",
      "('Epoch:', '0053', 'training time (minutes)=', '0.5862', 'loss=', '74.782416329')\n",
      "('Epoch:', '0054', 'training time (minutes)=', '0.5870', 'loss=', '75.440123906')\n"
     ]
    }
   ],
   "source": [
    "if do_training:\n",
    "    training_stats = []\n",
    "    training_stats.append(ae.train(train_data, conf))    \n",
    "    with open(osp.join(conf.train_dir, 'train_stats.txt'), 'a') as fout:\n",
    "        np.savetxt(fout, np.array(training_stats)[0])"
   ]
  },
  {
   "cell_type": "code",
   "execution_count": null,
   "metadata": {
    "collapsed": false,
    "deletable": true,
    "editable": true
   },
   "outputs": [],
   "source": [
    "# Plot Some feed-reconstruction pairs.\n",
    "feed = train_data.next_batch(1)[0]\n",
    "rec = ae.reconstruct(feed)[0]\n",
    "Point_Cloud(feed[0]).plot();\n",
    "Point_Cloud(rec[0]).plot();"
   ]
  },
  {
   "cell_type": "code",
   "execution_count": null,
   "metadata": {
    "collapsed": true,
    "deletable": true,
    "editable": true
   },
   "outputs": [],
   "source": []
  },
  {
   "cell_type": "code",
   "execution_count": null,
   "metadata": {
    "collapsed": true,
    "deletable": true,
    "editable": true
   },
   "outputs": [],
   "source": []
  },
  {
   "cell_type": "code",
   "execution_count": null,
   "metadata": {
    "collapsed": true,
    "deletable": true,
    "editable": true
   },
   "outputs": [],
   "source": []
  },
  {
   "cell_type": "code",
   "execution_count": null,
   "metadata": {
    "collapsed": true,
    "deletable": true,
    "editable": true
   },
   "outputs": [],
   "source": []
  },
  {
   "cell_type": "code",
   "execution_count": null,
   "metadata": {
    "collapsed": true,
    "deletable": true,
    "editable": true
   },
   "outputs": [],
   "source": []
  },
  {
   "cell_type": "code",
   "execution_count": null,
   "metadata": {
    "collapsed": true,
    "deletable": true,
    "editable": true
   },
   "outputs": [],
   "source": []
  },
  {
   "cell_type": "code",
   "execution_count": null,
   "metadata": {
    "collapsed": true,
    "deletable": true,
    "editable": true
   },
   "outputs": [],
   "source": []
  },
  {
   "cell_type": "code",
   "execution_count": null,
   "metadata": {
    "collapsed": true,
    "deletable": true,
    "editable": true
   },
   "outputs": [],
   "source": []
  },
  {
   "cell_type": "code",
   "execution_count": null,
   "metadata": {
    "collapsed": true,
    "deletable": true,
    "editable": true
   },
   "outputs": [],
   "source": []
  }
 ],
 "metadata": {
  "kernelspec": {
   "display_name": "Python 2",
   "language": "python",
   "name": "python2"
  },
  "language_info": {
   "codemirror_mode": {
    "name": "ipython",
    "version": 2
   },
   "file_extension": ".py",
   "mimetype": "text/x-python",
   "name": "python",
   "nbconvert_exporter": "python",
   "pygments_lexer": "ipython2",
   "version": "2.7.6"
  }
 },
 "nbformat": 4,
 "nbformat_minor": 2
}
