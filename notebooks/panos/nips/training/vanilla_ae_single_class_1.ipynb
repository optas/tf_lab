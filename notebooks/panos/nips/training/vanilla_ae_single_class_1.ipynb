{
 "cells": [
  {
   "cell_type": "code",
   "execution_count": 1,
   "metadata": {
    "collapsed": false,
    "deletable": true,
    "editable": true
   },
   "outputs": [
    {
     "name": "stdout",
     "output_type": "stream",
     "text": [
      "Picking GPU 1\n"
     ]
    }
   ],
   "source": [
    "from general_tools.notebook.gpu_utils import setup_one_gpu\n",
    "GPU = 1\n",
    "setup_one_gpu(GPU)"
   ]
  },
  {
   "cell_type": "code",
   "execution_count": 2,
   "metadata": {
    "collapsed": false,
    "deletable": true,
    "editable": true
   },
   "outputs": [
    {
     "name": "stderr",
     "output_type": "stream",
     "text": [
      "/orions4-zfs/projects/lins2/Panos_Space/Git_Repos/geo_tool/solids/mesh.py:26: UserWarning: Mayavi library was not found. Some graphics utilities will be disabled.\n",
      "  warnings.warn('Mayavi library was not found. Some graphics utilities will be disabled.')\n"
     ]
    }
   ],
   "source": [
    "import sys\n",
    "import time\n",
    "import numpy as np\n",
    "import os.path as osp\n",
    "import tensorflow as tf\n",
    "import matplotlib.pyplot as plt\n",
    "\n",
    "from general_tools.notebook.tf import reset_tf_graph\n",
    "\n",
    "import tf_lab.point_clouds.in_out as pio\n",
    "\n",
    "from tf_lab.point_clouds.in_out import PointCloudDataSet, write_model_ids_of_datasets\n",
    "from tf_lab.point_clouds.point_net_ae import PointNetAutoEncoder\n",
    "from tf_lab.point_clouds.autoencoder import Configuration as Conf\n",
    "import tf_lab.point_clouds.encoders_decoders as enc_dec\n",
    "\n",
    "\n",
    "from tf_lab.autopredictors.scripts.helper import shape_net_category_to_synth_id\n",
    "\n",
    "\n",
    "from tf_lab.autopredictors.plotting import plot_original_pclouds_vs_reconstructed, \\\n",
    "                                           plot_train_val_test_curves, plot_reconstructions_at_epoch\n",
    "\n",
    "\n",
    "from tf_lab.autopredictors.evaluate import eval_model, read_saved_epochs\n",
    "                                                  \n",
    "\n",
    "from general_tools.in_out.basics import create_dir, delete_files_in_directory, files_in_subdirs\n",
    "from general_tools.simpletons import select_first_last_and_k\n",
    "from geo_tool import Point_Cloud\n",
    "\n",
    "from tf_lab.nips.shape_net import pc_loader as sn_pc_loader\n",
    "from tf_lab.nips.helper import center_pclouds_in_unit_sphere"
   ]
  },
  {
   "cell_type": "code",
   "execution_count": 3,
   "metadata": {
    "collapsed": false,
    "deletable": true,
    "editable": true
   },
   "outputs": [],
   "source": [
    "%load_ext autoreload\n",
    "%autoreload 2\n",
    "%matplotlib inline"
   ]
  },
  {
   "cell_type": "code",
   "execution_count": 4,
   "metadata": {
    "collapsed": false,
    "deletable": true,
    "editable": true
   },
   "outputs": [
    {
     "name": "stdout",
     "output_type": "stream",
     "text": [
      "Give me the class type.\n",
      "car\n"
     ]
    },
    {
     "data": {
      "text/plain": [
       "'/orions4-zfs/projects/lins2/Panos_Space/DATA/OUT/models/nips/vanilla_ae/car_conv_arch_1_2048pts_chamfer'"
      ]
     },
     "execution_count": 4,
     "metadata": {},
     "output_type": "execute_result"
    }
   ],
   "source": [
    "n_pc_samples = 2048\n",
    "do_training = True\n",
    "first_time_running = True\n",
    "load_model = False\n",
    "load_epoch = None\n",
    "seed = 42\n",
    "\n",
    "max_training_epochs = 1000\n",
    "loss = 'chamfer'\n",
    "\n",
    "class_name = raw_input('Give me the class type.\\n').lower()\n",
    "syn_id = shape_net_category_to_synth_id()[class_name]\n",
    "\n",
    "experiment_name = class_name + '_' + 'conv_arch_1_' + str(n_pc_samples) +  'pts_' + loss\n",
    "\n",
    "\n",
    "top_data_dir = '/orions4-zfs/projects/lins2/Panos_Space/DATA/'\n",
    "train_dir = osp.join(top_data_dir, 'OUT/models/nips/vanilla_ae/')\n",
    "train_dir = osp.join(train_dir, experiment_name)\n",
    "create_dir(train_dir)"
   ]
  },
  {
   "cell_type": "code",
   "execution_count": 5,
   "metadata": {
    "collapsed": false,
    "deletable": true,
    "editable": true
   },
   "outputs": [
    {
     "name": "stdout",
     "output_type": "stream",
     "text": [
      "7497 files containing complete point clouds were found.\n"
     ]
    }
   ],
   "source": [
    "# Load Raw Point-Clouds of class\n",
    "pclouds_path = osp.join(top_data_dir, 'Point_Clouds/Shape_Net/Core/from_manifold_meshes/centered/', str(n_pc_samples))\n",
    "pclouds_path = osp.join(pclouds_path, syn_id)\n",
    "file_names = pio.load_filenames_of_input_data(pclouds_path, '.ply')\n",
    "pclouds, model_ids, syn_ids = pio.load_crude_point_clouds(file_names=file_names, n_threads=50, loader=sn_pc_loader)\n",
    "print '%d files containing complete point clouds were found.' % (len(pclouds), )\n",
    "\n",
    "train_data = PointCloudDataSet(pclouds)"
   ]
  },
  {
   "cell_type": "code",
   "execution_count": 6,
   "metadata": {
    "collapsed": false,
    "deletable": true,
    "editable": true
   },
   "outputs": [],
   "source": [
    "if n_pc_samples == 2048:\n",
    "    encoder_args = {'n_filters': [128, 128, 256, 512],\n",
    "                    'filter_sizes' :[40, 20, 10, 10],\n",
    "                    'strides': [1, 2, 2, 1]}\n",
    "else:\n",
    "    assert(False)\n",
    "    \n",
    "if load_model:\n",
    "    conf = Conf.load(osp.join(train_dir, 'configuration'))\n",
    "    print conf\n",
    "else:\n",
    "    n_input = [n_pc_samples, 3]\n",
    "\n",
    "    decoder_args = {'layer_sizes': [1024, 2048, np.prod(n_input)]}\n",
    "\n",
    "    conf = Conf(\n",
    "                n_input = n_input,\n",
    "                training_epochs = max_training_epochs,\n",
    "                batch_size = 50,\n",
    "                loss = loss,\n",
    "                denoising = False,\n",
    "                train_dir = train_dir,\n",
    "                loss_display_step = 1,\n",
    "                saver_step = 10,\n",
    "                learning_rate = 0.0005,\n",
    "                z_rotate = False, \n",
    "                encoder = enc_dec.encoder_with_convs_and_symmetry,\n",
    "                encoder_args = encoder_args,\n",
    "                decoder = enc_dec.decoder_with_fc_only,\n",
    "                decoder_args = decoder_args,        \n",
    "               )\n",
    "\n",
    "    conf.experiment_name = experiment_name\n",
    "    conf.save(osp.join(conf.train_dir, 'configuration'))\n",
    "    conf.allow_gpu_growth = False\n",
    "    \n",
    "reset_tf_graph()\n",
    "ae = PointNetAutoEncoder(experiment_name, conf)\n",
    "\n",
    "if load_model:\n",
    "\n",
    "    if load_epoch is None: # load last saved.\n",
    "        saved_epochs = read_saved_epochs(conf.train_dir)\n",
    "        load_epoch = saved_epochs[-1]\n",
    "        \n",
    "    ae.restore_model(conf.train_dir, load_epoch, verbose=True)"
   ]
  },
  {
   "cell_type": "code",
   "execution_count": null,
   "metadata": {
    "collapsed": false,
    "deletable": true,
    "editable": true
   },
   "outputs": [
    {
     "name": "stdout",
     "output_type": "stream",
     "text": [
      "('Epoch:', '0001', 'training time (minutes)=', '0.2078', 'loss=', '0.001820744')\n",
      "INFO:tensorflow:/orions4-zfs/projects/lins2/Panos_Space/DATA/OUT/models/nips/vanilla_ae/car_conv_arch_1_2048pts_chamfer/models.ckpt-1 is not in all_model_checkpoint_paths. Manually adding it.\n",
      "('Epoch:', '0002', 'training time (minutes)=', '0.1884', 'loss=', '0.001027682')\n",
      "('Epoch:', '0003', 'training time (minutes)=', '0.1896', 'loss=', '0.000890032')\n",
      "('Epoch:', '0004', 'training time (minutes)=', '0.1907', 'loss=', '0.000824019')\n",
      "('Epoch:', '0005', 'training time (minutes)=', '0.1920', 'loss=', '0.000771190')\n",
      "('Epoch:', '0006', 'training time (minutes)=', '0.1934', 'loss=', '0.000732557')\n",
      "('Epoch:', '0007', 'training time (minutes)=', '0.2005', 'loss=', '0.000687032')\n",
      "('Epoch:', '0008', 'training time (minutes)=', '0.2022', 'loss=', '0.000659662')\n",
      "('Epoch:', '0009', 'training time (minutes)=', '0.2066', 'loss=', '0.000642479')\n",
      "('Epoch:', '0010', 'training time (minutes)=', '0.2037', 'loss=', '0.000618839')\n",
      "INFO:tensorflow:/orions4-zfs/projects/lins2/Panos_Space/DATA/OUT/models/nips/vanilla_ae/car_conv_arch_1_2048pts_chamfer/models.ckpt-10 is not in all_model_checkpoint_paths. Manually adding it.\n",
      "('Epoch:', '0011', 'training time (minutes)=', '0.1972', 'loss=', '0.000601425')\n",
      "('Epoch:', '0012', 'training time (minutes)=', '0.2058', 'loss=', '0.000585868')\n",
      "('Epoch:', '0013', 'training time (minutes)=', '0.2058', 'loss=', '0.000582188')\n",
      "('Epoch:', '0014', 'training time (minutes)=', '0.2061', 'loss=', '0.000568716')\n",
      "('Epoch:', '0015', 'training time (minutes)=', '0.2071', 'loss=', '0.000560112')\n",
      "('Epoch:', '0016', 'training time (minutes)=', '0.2059', 'loss=', '0.000550560')\n",
      "('Epoch:', '0017', 'training time (minutes)=', '0.1982', 'loss=', '0.000548440')\n",
      "('Epoch:', '0018', 'training time (minutes)=', '0.2089', 'loss=', '0.000540135')\n",
      "('Epoch:', '0019', 'training time (minutes)=', '0.2103', 'loss=', '0.000532466')\n",
      "('Epoch:', '0020', 'training time (minutes)=', '0.2029', 'loss=', '0.000530169')\n",
      "INFO:tensorflow:/orions4-zfs/projects/lins2/Panos_Space/DATA/OUT/models/nips/vanilla_ae/car_conv_arch_1_2048pts_chamfer/models.ckpt-20 is not in all_model_checkpoint_paths. Manually adding it.\n",
      "('Epoch:', '0021', 'training time (minutes)=', '0.1986', 'loss=', '0.000526597')\n",
      "('Epoch:', '0022', 'training time (minutes)=', '0.2050', 'loss=', '0.000522916')\n",
      "('Epoch:', '0023', 'training time (minutes)=', '0.2044', 'loss=', '0.000520465')\n",
      "('Epoch:', '0024', 'training time (minutes)=', '0.2047', 'loss=', '0.000512288')\n",
      "('Epoch:', '0025', 'training time (minutes)=', '0.2048', 'loss=', '0.000505898')\n",
      "('Epoch:', '0026', 'training time (minutes)=', '0.2055', 'loss=', '0.000504481')\n",
      "('Epoch:', '0027', 'training time (minutes)=', '0.2058', 'loss=', '0.000499972')\n",
      "('Epoch:', '0028', 'training time (minutes)=', '0.2051', 'loss=', '0.000493589')\n",
      "('Epoch:', '0029', 'training time (minutes)=', '0.2049', 'loss=', '0.000494366')\n",
      "('Epoch:', '0030', 'training time (minutes)=', '0.2050', 'loss=', '0.000490814')\n",
      "INFO:tensorflow:/orions4-zfs/projects/lins2/Panos_Space/DATA/OUT/models/nips/vanilla_ae/car_conv_arch_1_2048pts_chamfer/models.ckpt-30 is not in all_model_checkpoint_paths. Manually adding it.\n",
      "('Epoch:', '0031', 'training time (minutes)=', '0.1993', 'loss=', '0.000484975')\n",
      "('Epoch:', '0032', 'training time (minutes)=', '0.2053', 'loss=', '0.000481444')\n",
      "('Epoch:', '0033', 'training time (minutes)=', '0.2076', 'loss=', '0.000482769')\n",
      "('Epoch:', '0034', 'training time (minutes)=', '0.2025', 'loss=', '0.000475217')\n",
      "('Epoch:', '0035', 'training time (minutes)=', '0.2090', 'loss=', '0.000473535')\n",
      "('Epoch:', '0036', 'training time (minutes)=', '0.2055', 'loss=', '0.000471986')\n",
      "('Epoch:', '0037', 'training time (minutes)=', '0.2074', 'loss=', '0.000469562')\n",
      "('Epoch:', '0038', 'training time (minutes)=', '0.2040', 'loss=', '0.000468873')\n",
      "('Epoch:', '0039', 'training time (minutes)=', '0.2069', 'loss=', '0.000466713')\n",
      "('Epoch:', '0040', 'training time (minutes)=', '0.2058', 'loss=', '0.000463453')\n",
      "INFO:tensorflow:/orions4-zfs/projects/lins2/Panos_Space/DATA/OUT/models/nips/vanilla_ae/car_conv_arch_1_2048pts_chamfer/models.ckpt-40 is not in all_model_checkpoint_paths. Manually adding it.\n",
      "('Epoch:', '0041', 'training time (minutes)=', '0.1987', 'loss=', '0.000458070')\n",
      "('Epoch:', '0042', 'training time (minutes)=', '0.2049', 'loss=', '0.000456240')\n",
      "('Epoch:', '0043', 'training time (minutes)=', '0.2076', 'loss=', '0.000450752')\n",
      "('Epoch:', '0044', 'training time (minutes)=', '0.2021', 'loss=', '0.000448392')\n",
      "('Epoch:', '0045', 'training time (minutes)=', '0.2119', 'loss=', '0.000446574')\n",
      "('Epoch:', '0046', 'training time (minutes)=', '0.2058', 'loss=', '0.000452504')\n",
      "('Epoch:', '0047', 'training time (minutes)=', '0.2072', 'loss=', '0.000443810')\n",
      "('Epoch:', '0048', 'training time (minutes)=', '0.2059', 'loss=', '0.000441935')\n",
      "('Epoch:', '0049', 'training time (minutes)=', '0.2051', 'loss=', '0.000442400')\n",
      "('Epoch:', '0050', 'training time (minutes)=', '0.2034', 'loss=', '0.000436541')\n",
      "INFO:tensorflow:/orions4-zfs/projects/lins2/Panos_Space/DATA/OUT/models/nips/vanilla_ae/car_conv_arch_1_2048pts_chamfer/models.ckpt-50 is not in all_model_checkpoint_paths. Manually adding it.\n",
      "('Epoch:', '0051', 'training time (minutes)=', '0.2012', 'loss=', '0.000431135')\n",
      "('Epoch:', '0052', 'training time (minutes)=', '0.2059', 'loss=', '0.000430405')\n",
      "('Epoch:', '0053', 'training time (minutes)=', '0.2035', 'loss=', '0.000428258')\n",
      "('Epoch:', '0054', 'training time (minutes)=', '0.2090', 'loss=', '0.000427011')\n",
      "('Epoch:', '0055', 'training time (minutes)=', '0.2062', 'loss=', '0.000423741')\n",
      "('Epoch:', '0056', 'training time (minutes)=', '0.2060', 'loss=', '0.000422858')\n",
      "('Epoch:', '0057', 'training time (minutes)=', '0.2066', 'loss=', '0.000422344')\n",
      "('Epoch:', '0058', 'training time (minutes)=', '0.2050', 'loss=', '0.000417309')\n",
      "('Epoch:', '0059', 'training time (minutes)=', '0.2051', 'loss=', '0.000412087')\n",
      "('Epoch:', '0060', 'training time (minutes)=', '0.2077', 'loss=', '0.000410941')\n",
      "INFO:tensorflow:/orions4-zfs/projects/lins2/Panos_Space/DATA/OUT/models/nips/vanilla_ae/car_conv_arch_1_2048pts_chamfer/models.ckpt-60 is not in all_model_checkpoint_paths. Manually adding it.\n",
      "('Epoch:', '0061', 'training time (minutes)=', '0.1989', 'loss=', '0.000410163')\n",
      "('Epoch:', '0062', 'training time (minutes)=', '0.2062', 'loss=', '0.000411062')\n",
      "('Epoch:', '0063', 'training time (minutes)=', '0.2061', 'loss=', '0.000401847')\n",
      "('Epoch:', '0064', 'training time (minutes)=', '0.2053', 'loss=', '0.000399709')\n",
      "('Epoch:', '0065', 'training time (minutes)=', '0.2061', 'loss=', '0.000402617')\n",
      "('Epoch:', '0066', 'training time (minutes)=', '0.2053', 'loss=', '0.000399506')\n",
      "('Epoch:', '0067', 'training time (minutes)=', '0.2071', 'loss=', '0.000397189')\n",
      "('Epoch:', '0068', 'training time (minutes)=', '0.2075', 'loss=', '0.000394628')\n",
      "('Epoch:', '0069', 'training time (minutes)=', '0.2054', 'loss=', '0.000393323')\n",
      "('Epoch:', '0070', 'training time (minutes)=', '0.2062', 'loss=', '0.000391952')\n",
      "INFO:tensorflow:/orions4-zfs/projects/lins2/Panos_Space/DATA/OUT/models/nips/vanilla_ae/car_conv_arch_1_2048pts_chamfer/models.ckpt-70 is not in all_model_checkpoint_paths. Manually adding it.\n",
      "('Epoch:', '0071', 'training time (minutes)=', '0.2004', 'loss=', '0.000386568')\n",
      "('Epoch:', '0072', 'training time (minutes)=', '0.2058', 'loss=', '0.000383849')\n",
      "('Epoch:', '0073', 'training time (minutes)=', '0.2049', 'loss=', '0.000383365')\n",
      "('Epoch:', '0074', 'training time (minutes)=', '0.2071', 'loss=', '0.000380178')\n",
      "('Epoch:', '0075', 'training time (minutes)=', '0.2049', 'loss=', '0.000378113')\n",
      "('Epoch:', '0076', 'training time (minutes)=', '0.2045', 'loss=', '0.000376734')\n",
      "('Epoch:', '0077', 'training time (minutes)=', '0.2027', 'loss=', '0.000377345')\n",
      "('Epoch:', '0078', 'training time (minutes)=', '0.2102', 'loss=', '0.000378436')\n",
      "('Epoch:', '0079', 'training time (minutes)=', '0.2062', 'loss=', '0.000374685')\n",
      "('Epoch:', '0080', 'training time (minutes)=', '0.2007', 'loss=', '0.000369800')\n",
      "INFO:tensorflow:/orions4-zfs/projects/lins2/Panos_Space/DATA/OUT/models/nips/vanilla_ae/car_conv_arch_1_2048pts_chamfer/models.ckpt-80 is not in all_model_checkpoint_paths. Manually adding it.\n",
      "('Epoch:', '0081', 'training time (minutes)=', '0.2021', 'loss=', '0.000367475')\n",
      "('Epoch:', '0082', 'training time (minutes)=', '0.2051', 'loss=', '0.000369088')\n",
      "('Epoch:', '0083', 'training time (minutes)=', '0.2069', 'loss=', '0.000364659')\n",
      "('Epoch:', '0084', 'training time (minutes)=', '0.2058', 'loss=', '0.000364107')\n",
      "('Epoch:', '0085', 'training time (minutes)=', '0.2072', 'loss=', '0.000362474')\n",
      "('Epoch:', '0086', 'training time (minutes)=', '0.2066', 'loss=', '0.000360927')\n",
      "('Epoch:', '0087', 'training time (minutes)=', '0.2071', 'loss=', '0.000358190')\n",
      "('Epoch:', '0088', 'training time (minutes)=', '0.2061', 'loss=', '0.000356303')\n",
      "('Epoch:', '0089', 'training time (minutes)=', '0.2058', 'loss=', '0.000355429')\n",
      "('Epoch:', '0090', 'training time (minutes)=', '0.2048', 'loss=', '0.000354067')\n",
      "INFO:tensorflow:/orions4-zfs/projects/lins2/Panos_Space/DATA/OUT/models/nips/vanilla_ae/car_conv_arch_1_2048pts_chamfer/models.ckpt-90 is not in all_model_checkpoint_paths. Manually adding it.\n",
      "('Epoch:', '0091', 'training time (minutes)=', '0.1998', 'loss=', '0.000351949')\n",
      "('Epoch:', '0092', 'training time (minutes)=', '0.2058', 'loss=', '0.000351010')\n",
      "('Epoch:', '0093', 'training time (minutes)=', '0.2066', 'loss=', '0.000349387')\n",
      "('Epoch:', '0094', 'training time (minutes)=', '0.2067', 'loss=', '0.000344765')\n",
      "('Epoch:', '0095', 'training time (minutes)=', '0.2065', 'loss=', '0.000344034')\n",
      "('Epoch:', '0096', 'training time (minutes)=', '0.2050', 'loss=', '0.000340495')\n",
      "('Epoch:', '0097', 'training time (minutes)=', '0.2065', 'loss=', '0.000342108')\n",
      "('Epoch:', '0098', 'training time (minutes)=', '0.2073', 'loss=', '0.000343994')\n",
      "('Epoch:', '0099', 'training time (minutes)=', '0.2010', 'loss=', '0.000340941')\n",
      "('Epoch:', '0100', 'training time (minutes)=', '0.2114', 'loss=', '0.000337666')\n",
      "INFO:tensorflow:/orions4-zfs/projects/lins2/Panos_Space/DATA/OUT/models/nips/vanilla_ae/car_conv_arch_1_2048pts_chamfer/models.ckpt-100 is not in all_model_checkpoint_paths. Manually adding it.\n",
      "('Epoch:', '0101', 'training time (minutes)=', '0.2012', 'loss=', '0.000335183')\n",
      "('Epoch:', '0102', 'training time (minutes)=', '0.2010', 'loss=', '0.000335591')\n",
      "('Epoch:', '0103', 'training time (minutes)=', '0.2098', 'loss=', '0.000335089')\n",
      "('Epoch:', '0104', 'training time (minutes)=', '0.2054', 'loss=', '0.000333663')\n",
      "('Epoch:', '0105', 'training time (minutes)=', '0.2041', 'loss=', '0.000331940')\n",
      "('Epoch:', '0106', 'training time (minutes)=', '0.2035', 'loss=', '0.000330270')\n",
      "('Epoch:', '0107', 'training time (minutes)=', '0.2092', 'loss=', '0.000328497')\n",
      "('Epoch:', '0108', 'training time (minutes)=', '0.2051', 'loss=', '0.000326036')\n",
      "('Epoch:', '0109', 'training time (minutes)=', '0.2050', 'loss=', '0.000323859')\n",
      "('Epoch:', '0110', 'training time (minutes)=', '0.2061', 'loss=', '0.000324581')\n",
      "INFO:tensorflow:/orions4-zfs/projects/lins2/Panos_Space/DATA/OUT/models/nips/vanilla_ae/car_conv_arch_1_2048pts_chamfer/models.ckpt-110 is not in all_model_checkpoint_paths. Manually adding it.\n",
      "('Epoch:', '0111', 'training time (minutes)=', '0.1989', 'loss=', '0.000322986')\n",
      "('Epoch:', '0112', 'training time (minutes)=', '0.2038', 'loss=', '0.000322132')\n",
      "('Epoch:', '0113', 'training time (minutes)=', '0.2066', 'loss=', '0.000321076')\n",
      "('Epoch:', '0114', 'training time (minutes)=', '0.2046', 'loss=', '0.000319593')\n"
     ]
    }
   ],
   "source": [
    "if do_training:\n",
    "    training_stats = []\n",
    "    training_stats.append(ae.train(train_data, conf))    \n",
    "    with open(osp.join(conf.train_dir, 'train_stats.txt'), 'a') as fout:\n",
    "        np.savetxt(fout, np.array(training_stats)[0])"
   ]
  },
  {
   "cell_type": "code",
   "execution_count": null,
   "metadata": {
    "collapsed": false,
    "deletable": true,
    "editable": true
   },
   "outputs": [],
   "source": [
    "# Plot Some feed-reconstruction pairs.\n",
    "feed = train_data.next_batch(1)[0]\n",
    "rec = ae.reconstruct(feed)[0]\n",
    "Point_Cloud(feed[0]).plot();\n",
    "Point_Cloud(rec[0]).plot();"
   ]
  },
  {
   "cell_type": "code",
   "execution_count": null,
   "metadata": {
    "collapsed": true,
    "deletable": true,
    "editable": true
   },
   "outputs": [],
   "source": []
  },
  {
   "cell_type": "code",
   "execution_count": null,
   "metadata": {
    "collapsed": true,
    "deletable": true,
    "editable": true
   },
   "outputs": [],
   "source": []
  },
  {
   "cell_type": "code",
   "execution_count": null,
   "metadata": {
    "collapsed": true,
    "deletable": true,
    "editable": true
   },
   "outputs": [],
   "source": []
  },
  {
   "cell_type": "code",
   "execution_count": null,
   "metadata": {
    "collapsed": true,
    "deletable": true,
    "editable": true
   },
   "outputs": [],
   "source": []
  },
  {
   "cell_type": "code",
   "execution_count": null,
   "metadata": {
    "collapsed": true,
    "deletable": true,
    "editable": true
   },
   "outputs": [],
   "source": []
  },
  {
   "cell_type": "code",
   "execution_count": null,
   "metadata": {
    "collapsed": true,
    "deletable": true,
    "editable": true
   },
   "outputs": [],
   "source": []
  },
  {
   "cell_type": "code",
   "execution_count": null,
   "metadata": {
    "collapsed": true,
    "deletable": true,
    "editable": true
   },
   "outputs": [],
   "source": []
  },
  {
   "cell_type": "code",
   "execution_count": null,
   "metadata": {
    "collapsed": true,
    "deletable": true,
    "editable": true
   },
   "outputs": [],
   "source": []
  },
  {
   "cell_type": "code",
   "execution_count": null,
   "metadata": {
    "collapsed": true,
    "deletable": true,
    "editable": true
   },
   "outputs": [],
   "source": []
  }
 ],
 "metadata": {
  "kernelspec": {
   "display_name": "Python 2",
   "language": "python",
   "name": "python2"
  },
  "language_info": {
   "codemirror_mode": {
    "name": "ipython",
    "version": 2
   },
   "file_extension": ".py",
   "mimetype": "text/x-python",
   "name": "python",
   "nbconvert_exporter": "python",
   "pygments_lexer": "ipython2",
   "version": "2.7.6"
  }
 },
 "nbformat": 4,
 "nbformat_minor": 2
}
