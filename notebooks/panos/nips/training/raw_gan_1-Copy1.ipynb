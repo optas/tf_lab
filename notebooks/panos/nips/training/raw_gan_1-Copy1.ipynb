{
 "cells": [
  {
   "cell_type": "code",
   "execution_count": 1,
   "metadata": {
    "collapsed": false,
    "deletable": true,
    "editable": true
   },
   "outputs": [
    {
     "name": "stdout",
     "output_type": "stream",
     "text": [
      "Picking GPU 1\n"
     ]
    }
   ],
   "source": [
    "from general_tools.notebook.gpu_utils import setup_one_gpu\n",
    "GPU = 1\n",
    "setup_one_gpu(GPU)"
   ]
  },
  {
   "cell_type": "code",
   "execution_count": 2,
   "metadata": {
    "collapsed": false,
    "deletable": true,
    "editable": true
   },
   "outputs": [
    {
     "name": "stderr",
     "output_type": "stream",
     "text": [
      "/orions4-zfs/projects/lins2/Panos_Space/Git_Repos/geo_tool/solids/mesh.py:26: UserWarning: Mayavi library was not found. Some graphics utilities will be disabled.\n",
      "  warnings.warn('Mayavi library was not found. Some graphics utilities will be disabled.')\n"
     ]
    }
   ],
   "source": [
    "import sys\n",
    "import time\n",
    "import numpy as np\n",
    "import os.path as osp\n",
    "import tensorflow as tf\n",
    "import matplotlib.pyplot as plt\n",
    "\n",
    "from general_tools.notebook.tf import reset_tf_graph\n",
    "\n",
    "import tf_lab.point_clouds.in_out as pio\n",
    "\n",
    "from tf_lab.point_clouds.in_out import PointCloudDataSet, write_model_ids_of_datasets\n",
    "\n",
    "from tf_lab.point_clouds.autoencoder import Configuration as Conf\n",
    "\n",
    "from tf_lab.autopredictors.scripts.helper import shape_net_category_to_synth_id\n",
    "                                                  \n",
    "from general_tools.in_out.basics import create_dir, files_in_subdirs\n",
    "\n",
    "from general_tools.simpletons import select_first_last_and_k\n",
    "\n",
    "from geo_tool import Point_Cloud\n",
    "\n",
    "from tf_lab.point_clouds.gan import model_saver_id\n",
    "\n",
    "from tf_lab.nips.shape_net import pc_loader as sn_pc_loader\n",
    "\n",
    "from tf_lab.point_clouds.raw_gan import RawGAN\n",
    "\n",
    "from tf_lab.point_clouds.generators_discriminators import mlp_discriminator, convolutional_discriminator,\\\n",
    "                                                          point_cloud_generator, leaky_relu"
   ]
  },
  {
   "cell_type": "code",
   "execution_count": 3,
   "metadata": {
    "collapsed": false,
    "deletable": true,
    "editable": true
   },
   "outputs": [],
   "source": [
    "%load_ext autoreload\n",
    "%autoreload 2\n",
    "%matplotlib inline"
   ]
  },
  {
   "cell_type": "code",
   "execution_count": 8,
   "metadata": {
    "collapsed": false,
    "deletable": true,
    "editable": true
   },
   "outputs": [
    {
     "name": "stdout",
     "output_type": "stream",
     "text": [
      "Give me the class type.\n",
      "chair\n"
     ]
    }
   ],
   "source": [
    "n_pc_samples = 2048\n",
    "do_training = True\n",
    "do_plotting = True\n",
    "seed = 42\n",
    "\n",
    "is_convolutional = True\n",
    "save_model = True\n",
    "save_synthetic_samples = True\n",
    "\n",
    "class_name = raw_input('Give me the class type.\\n').lower()\n",
    "syn_id = shape_net_category_to_synth_id()[class_name]\n",
    "synthetic_data_out_dir = '/orions4-zfs/projects/lins2/Panos_Space/DATA/NIPS/our_samples/'\n",
    "\n",
    "\n",
    "if is_convolutional:\n",
    "    arch_tag = 'convolutional_arch'\n",
    "    leak = 0.2\n",
    "    adaptive_training = 0.8\n",
    "    discriminator = convolutional_discriminator\n",
    "    disc_kwargs = { 'encoder_args' : {'n_filters': [128, 128, 256, 512],\n",
    "                                      'filter_sizes': [40, 20, 10, 10],\n",
    "                                      'strides': [1, 2, 2, 1]},\n",
    "                                      'decoder_layer_sizes':[128, 64, 1],\n",
    "                                      'non_linearity': leaky_relu(leak)\n",
    "                  }\n",
    "    max_epochs = 50\n",
    "\n",
    "else:\n",
    "    max_epochs = 50\n",
    "    arch_tag = 'mlp_arch'\n",
    "    discriminator = mlp_discriminator\n",
    "    disc_kwargs = {}\n",
    "    adaptive_training = None\n",
    "    \n",
    "generator = point_cloud_generator\n",
    "gen_kwargs = { 'b_norm': False, 'layer_sizes':[64, 128, 256, 512, 1024]}\n",
    " \n",
    "experiment_name = class_name + '_'+ arch_tag + '_raw_gan_' + str(n_pc_samples) +  '_pts'"
   ]
  },
  {
   "cell_type": "code",
   "execution_count": 5,
   "metadata": {
    "collapsed": false,
    "deletable": true,
    "editable": true
   },
   "outputs": [
    {
     "name": "stdout",
     "output_type": "stream",
     "text": [
      "6778 files containing complete point clouds were found.\n"
     ]
    }
   ],
   "source": [
    "top_data_dir = '/orions4-zfs/projects/lins2/Panos_Space/DATA/'\n",
    "train_dir = osp.join(top_data_dir, 'OUT/models/nips/gan/raw_gan')\n",
    "train_dir = osp.join(train_dir, experiment_name)\n",
    "create_dir(train_dir)\n",
    "\n",
    "full_pclouds_path = osp.join(top_data_dir, 'Point_Clouds/Shape_Net/Core/from_manifold_meshes/centered/', str(n_pc_samples))\n",
    "full_pclouds_path = osp.join(full_pclouds_path, syn_id)\n",
    "full_file_names = pio.load_filenames_of_input_data(full_pclouds_path, '.ply')\n",
    "full_pclouds, full_model_ids, full_syn_ids = pio.load_crude_point_clouds(file_names=full_file_names,\n",
    "                                                                           n_threads=25, loader=sn_pc_loader)\n",
    "print '%d files containing complete point clouds were found.' % (len(full_pclouds), )"
   ]
  },
  {
   "cell_type": "code",
   "execution_count": 6,
   "metadata": {
    "collapsed": false,
    "deletable": true,
    "editable": true
   },
   "outputs": [],
   "source": [
    "training_data = PointCloudDataSet(full_pclouds)\n",
    "\n",
    "batch_size = 50\n",
    "noise_params = {'mu':0, 'sigma': 0.5}\n",
    "noise_dim = 512\n",
    "init_lr = 0.0005\n",
    "\n",
    "n_syn_samples = training_data.num_examples  # Same number as original GT data."
   ]
  },
  {
   "cell_type": "code",
   "execution_count": null,
   "metadata": {
    "collapsed": false,
    "deletable": true,
    "editable": true
   },
   "outputs": [],
   "source": [
    "reset_tf_graph()\n",
    "\n",
    "gan = RawGAN(experiment_name, init_lr, [n_pc_samples, 3], noise_dim,\n",
    "             discriminator, generator, gen_kwargs=gen_kwargs, disc_kwargs=disc_kwargs)\n",
    "\n",
    "accum_syn_data = []\n",
    "train_stats = []"
   ]
  },
  {
   "cell_type": "code",
   "execution_count": null,
   "metadata": {
    "collapsed": false,
    "deletable": true,
    "editable": true
   },
   "outputs": [
    {
     "name": "stdout",
     "output_type": "stream",
     "text": [
      "0.746934 0.653119\n",
      "1 (1.0861787520190502, 1.5530291546274115) 64.5572898388\n",
      "INFO:tensorflow:/orions4-zfs/projects/lins2/Panos_Space/DATA/OUT/models/nips/gan/raw_gan/chair_convolutional_arch_raw_gan_2048_pts/models.ckpt-1 is not in all_model_checkpoint_paths. Manually adding it.\n",
      "0.790163 0.737106\n",
      "2 (1.0973811522126198, 1.9111864213590268) 57.5738520622\n",
      "INFO:tensorflow:/orions4-zfs/projects/lins2/Panos_Space/DATA/OUT/models/nips/gan/raw_gan/chair_convolutional_arch_raw_gan_2048_pts/models.ckpt-2 is not in all_model_checkpoint_paths. Manually adding it.\n",
      "0.861468 0.782533\n",
      "3 (0.72923235332264624, 1.7675025454273929) 56.0960299969\n",
      "INFO:tensorflow:/orions4-zfs/projects/lins2/Panos_Space/DATA/OUT/models/nips/gan/raw_gan/chair_convolutional_arch_raw_gan_2048_pts/models.ckpt-3 is not in all_model_checkpoint_paths. Manually adding it.\n",
      "0.857425 0.832925\n",
      "4 (0.77117797617728889, 2.1556220301875362) 55.9511470795\n",
      "INFO:tensorflow:/orions4-zfs/projects/lins2/Panos_Space/DATA/OUT/models/nips/gan/raw_gan/chair_convolutional_arch_raw_gan_2048_pts/models.ckpt-4 is not in all_model_checkpoint_paths. Manually adding it.\n",
      "0.844525 0.832891\n",
      "5 (0.83373553373596887, 2.1461538239761637) 57.4448671341\n",
      "INFO:tensorflow:/orions4-zfs/projects/lins2/Panos_Space/DATA/OUT/models/nips/gan/raw_gan/chair_convolutional_arch_raw_gan_2048_pts/models.ckpt-5 is not in all_model_checkpoint_paths. Manually adding it.\n",
      "0.84936 0.815423\n",
      "6 (0.75738797336816788, 2.0264854298697577) 61.3794531822\n",
      "INFO:tensorflow:/orions4-zfs/projects/lins2/Panos_Space/DATA/OUT/models/nips/gan/raw_gan/chair_convolutional_arch_raw_gan_2048_pts/models.ckpt-6 is not in all_model_checkpoint_paths. Manually adding it.\n",
      "0.864271 0.846887\n",
      "7 (0.79679072565502596, 2.232299243962323) 60.8755719662\n",
      "INFO:tensorflow:/orions4-zfs/projects/lins2/Panos_Space/DATA/OUT/models/nips/gan/raw_gan/chair_convolutional_arch_raw_gan_2048_pts/models.ckpt-7 is not in all_model_checkpoint_paths. Manually adding it.\n",
      "0.8308 0.793631\n",
      "8 (1.0091107370275441, 1.8989430480533176) 66.2112598419\n",
      "INFO:tensorflow:/orions4-zfs/projects/lins2/Panos_Space/DATA/OUT/models/nips/gan/raw_gan/chair_convolutional_arch_raw_gan_2048_pts/models.ckpt-8 is not in all_model_checkpoint_paths. Manually adding it.\n",
      "0.811873 0.742338\n",
      "9 (0.97345717538867083, 1.7847441514333089) 73.9729249477\n",
      "INFO:tensorflow:/orions4-zfs/projects/lins2/Panos_Space/DATA/OUT/models/nips/gan/raw_gan/chair_convolutional_arch_raw_gan_2048_pts/models.ckpt-9 is not in all_model_checkpoint_paths. Manually adding it.\n",
      "0.873912 0.767297\n",
      "10 (0.92893901467323303, 1.8873490183441728) 72.6396689415\n",
      "INFO:tensorflow:/orions4-zfs/projects/lins2/Panos_Space/DATA/OUT/models/nips/gan/raw_gan/chair_convolutional_arch_raw_gan_2048_pts/models.ckpt-10 is not in all_model_checkpoint_paths. Manually adding it.\n",
      "0.845792 0.770089\n",
      "11 (0.84866264379686784, 1.7428045573057951) 74.7576329708\n",
      "INFO:tensorflow:/orions4-zfs/projects/lins2/Panos_Space/DATA/OUT/models/nips/gan/raw_gan/chair_convolutional_arch_raw_gan_2048_pts/models.ckpt-11 is not in all_model_checkpoint_paths. Manually adding it.\n"
     ]
    }
   ],
   "source": [
    "if do_training:\n",
    "    for _ in range(max_epochs):\n",
    "        loss, duration = gan._single_epoch_train(training_data, batch_size, noise_params, adaptive=adaptive_training)\n",
    "        epoch = int(gan.sess.run(gan.epoch.assign_add(tf.constant(1.0))))\n",
    "        print epoch, loss, duration\n",
    "        if save_model:\n",
    "            checkpoint_path = osp.join(train_dir, model_saver_id)\n",
    "            gan.saver.save(gan.sess, checkpoint_path, global_step=gan.epoch)\n",
    "        train_stats.append((epoch,) + loss)\n",
    "        accum_syn_data.append(gan.generate(n_syn_samples, noise_params))"
   ]
  },
  {
   "cell_type": "code",
   "execution_count": null,
   "metadata": {
    "collapsed": false,
    "deletable": true,
    "editable": true
   },
   "outputs": [],
   "source": [
    "epoch_to_check = 50\n",
    "n_check = 10\n",
    "check_data = accum_syn_data[epoch_to_check-1]\n",
    "rids = np.random.choice(range(len(check_data)), size=n_check, replace=False)\n",
    "for i in range(n_check):\n",
    "    Point_Cloud(check_data[rids[i]]).plot()    "
   ]
  },
  {
   "cell_type": "code",
   "execution_count": null,
   "metadata": {
    "collapsed": false,
    "deletable": true,
    "editable": true
   },
   "outputs": [],
   "source": [
    "if do_plotting:\n",
    "    x = range(len(train_stats))\n",
    "    d_loss = [t[1] for t in train_stats]\n",
    "    g_loss = [t[2] for t in train_stats]\n",
    "    plt.plot(x, d_loss)\n",
    "    plt.plot(x, g_loss)\n",
    "    plt.title('Raw GAN training. (%s, %s)' % (class_name, arch_tag) )\n",
    "    plt.legend(['d_loss', 'g_loss'], loc=0)\n",
    "    plt.xlabel('Epochs.')\n",
    "    plt.ylabel('Loss.')"
   ]
  },
  {
   "cell_type": "code",
   "execution_count": null,
   "metadata": {
    "collapsed": false,
    "deletable": true,
    "editable": true
   },
   "outputs": [],
   "source": [
    "if save_synthetic_samples:    \n",
    "    save_dir = osp.join(synthetic_data_out_dir, experiment_name)\n",
    "    create_dir(save_dir)\n",
    "    epochs_to_save = range(1, 100, 5) # Save every 5 epochs\n",
    "    for i in epochs_to_save:\n",
    "        np.savez(osp.join(save_dir, 'epoch_' + str(i)), accum_syn_data[i-1])"
   ]
  },
  {
   "cell_type": "code",
   "execution_count": null,
   "metadata": {
    "collapsed": true,
    "deletable": true,
    "editable": true
   },
   "outputs": [],
   "source": [
    "# disc_kwargs = {'encoder_args':{'n_filters': [64, 128, 512, 1024], \n",
    "#                                'filter_sizes': [1, 1, 1, 1], \n",
    "#                                'strides': [1, 1, 1, 1]},\n",
    "\n",
    "#                'decoder_layer_sizes':[128, 64, 1]               \n",
    "#               }\n",
    "\n",
    "# disc_kwargs = {'encoder_args':{'n_filters': [64, 128, 256, 512], \n",
    "#                                'filter_sizes': [40, 20, 20, 10], \n",
    "#                                'strides': [5, 5, 5, 5]},\n",
    "\n",
    "#                'decoder_layer_sizes':[128, 64, 1]\n",
    "#               }\n",
    "\n",
    "# from tflearn.layers.core import fully_connected\n",
    "# from tflearn.layers.normalization import batch_normalization\n",
    "\n",
    "# def point_cloud_generator(z, n_points, layer_sizes=[64, 128, 512, 1024], b_norm=False, b_norm_last=False):\n",
    "#     out_signal = decoder_with_fc_only(z, layer_sizes=layer_sizes, b_norm=b_norm)\n",
    "#     out_signal = tf.nn.relu(out_signal)\n",
    "#     if b_norm_last:\n",
    "#         out_signal = batch_normalization(out_signal)\n",
    "\n",
    "#     out_signal = fully_connected(out_signal, np.prod([n_points, 3]), activation='linear', weights_init='xavier')\n",
    "#     out_signal = tf.reshape(out_signal, [-1, n_points, 3])\n",
    "#     return out_signal"
   ]
  }
 ],
 "metadata": {
  "kernelspec": {
   "display_name": "Python 2",
   "language": "python",
   "name": "python2"
  },
  "language_info": {
   "codemirror_mode": {
    "name": "ipython",
    "version": 2
   },
   "file_extension": ".py",
   "mimetype": "text/x-python",
   "name": "python",
   "nbconvert_exporter": "python",
   "pygments_lexer": "ipython2",
   "version": "2.7.6"
  }
 },
 "nbformat": 4,
 "nbformat_minor": 2
}
