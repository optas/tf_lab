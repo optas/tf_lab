{
 "cells": [
  {
   "cell_type": "code",
   "execution_count": 2,
   "metadata": {
    "collapsed": false,
    "deletable": true,
    "editable": true
   },
   "outputs": [],
   "source": [
    "import sys\n",
    "import time\n",
    "import numpy as np\n",
    "import os.path as osp\n",
    "import tensorflow as tf\n",
    "import matplotlib.pyplot as plt\n",
    "\n",
    "from tf_lab.fundamentals.utils import set_visible_GPUs, reset_tf_graph\n",
    "\n",
    "import tf_lab.point_clouds.in_out as pio\n",
    "from tf_lab.point_clouds.in_out import PointCloudDataSet, write_model_ids_of_datasets\n",
    "from tf_lab.point_clouds.point_net_ae import PointNetAutoEncoder\n",
    "from tf_lab.point_clouds.autoencoder import Configuration as Conf\n",
    "import tf_lab.point_clouds.encoders_decoders as enc_dec\n",
    "\n",
    "from tf_lab.autopredictors.scripts.helper import shape_net_category_to_synth_id, match_incomplete_to_complete_data\n",
    "\n",
    "from tf_lab.autopredictors.plotting import plot_original_pclouds_vs_reconstructed, \\\n",
    "                                           plot_train_val_test_curves, plot_reconstructions_at_epoch, \\\n",
    "                                           plot_interpolations\n",
    "\n",
    "from tf_lab.autopredictors.evaluate import eval_model, read_saved_epochs\n",
    "                                                  \n",
    "from general_tools.in_out.basics import create_dir, delete_files_in_directory, files_in_subdirs\n",
    "from general_tools.simpletons import select_first_last_and_k\n",
    "from geo_tool import Point_Cloud\n",
    "\n",
    "from tf_lab.autopredictors.scripts.virt_scan_data import load_partial_pointclouds"
   ]
  },
  {
   "cell_type": "code",
   "execution_count": 3,
   "metadata": {
    "collapsed": false,
    "deletable": true,
    "editable": true
   },
   "outputs": [],
   "source": [
    "%load_ext autoreload\n",
    "%autoreload 2\n",
    "%matplotlib inline"
   ]
  },
  {
   "cell_type": "code",
   "execution_count": 5,
   "metadata": {
    "collapsed": true,
    "deletable": true,
    "editable": true
   },
   "outputs": [],
   "source": [
    "n_pc_samples = 2048\n",
    "do_training = True\n",
    "do_plotting = False\n",
    "first_time_running = True\n",
    "load_model = False\n",
    "seed = 42\n",
    "GPU = 3\n",
    "max_training_epochs = 1000\n",
    "loss = 'chamfer'\n",
    "experiment_name = '1_angela_train_3dec_z_rotate'"
   ]
  },
  {
   "cell_type": "code",
   "execution_count": 6,
   "metadata": {
    "collapsed": false,
    "deletable": true,
    "editable": true
   },
   "outputs": [
    {
     "data": {
      "text/plain": [
       "'/orions4-zfs/projects/lins2/Panos_Space/DATA/OUT/models/nips/vanilla_ae/partial_clouds/1_angela_train_3dec_z_rotate'"
      ]
     },
     "execution_count": 6,
     "metadata": {},
     "output_type": "execute_result"
    }
   ],
   "source": [
    "top_data_dir = '/orions4-zfs/projects/lins2/Panos_Space/DATA'\n",
    "partial_pclouds_path = osp.join(top_data_dir, 'Point_Clouds/Partial_PCs/Angela_synthetic', str(n_pc_samples))\n",
    "train_dir = osp.join(top_data_dir, 'OUT/models/nips/vanilla_ae/partial_clouds')\n",
    "train_dir = osp.join(train_dir, experiment_name)\n",
    "create_dir(train_dir)"
   ]
  },
  {
   "cell_type": "code",
   "execution_count": 7,
   "metadata": {
    "collapsed": false,
    "deletable": true,
    "editable": true
   },
   "outputs": [
    {
     "name": "stdout",
     "output_type": "stream",
     "text": [
      "153540 partial point clouds were loaded.\n"
     ]
    },
    {
     "name": "stderr",
     "output_type": "stream",
     "text": [
      "/orions4-zfs/projects/lins2/Panos_Space/Git_Repos/tf_lab/point_clouds/in_out.py:56: UserWarning: Point clouds with the same model name were loaded.\n",
      "  warnings.warn('Point clouds with the same model name were loaded.')\n"
     ]
    }
   ],
   "source": [
    "train_list = '/orions4-zfs/projects/lins2/Panos_Space/DATA/From_Matthias/train_test_splits/train_models_with_scan_id.txt'\n",
    "pclouds, model_ids, class_ids = load_partial_pointclouds(train_list, partial_pclouds_path, 50)"
   ]
  },
  {
   "cell_type": "code",
   "execution_count": 13,
   "metadata": {
    "collapsed": false,
    "deletable": true,
    "editable": true
   },
   "outputs": [],
   "source": [
    "model_names = np.array([i[0] for i in model_ids], dtype=object)\n",
    "scan_ids = np.array([i[1] for i in model_ids], dtype=object)\n",
    "model_unames = np.array(model_names + '.' + scan_ids + '.' + class_ids, dtype=object)\n",
    "train_data = PointCloudDataSet(pclouds, labels=model_unames)"
   ]
  },
  {
   "cell_type": "code",
   "execution_count": 15,
   "metadata": {
    "collapsed": false,
    "deletable": true,
    "editable": true
   },
   "outputs": [
    {
     "name": "stdout",
     "output_type": "stream",
     "text": [
      "Spatial Transformer was Activated\n"
     ]
    }
   ],
   "source": [
    "if load_model:\n",
    "    conf = Conf.load(osp.join(train_dir, 'configuration'))\n",
    "    print conf\n",
    "else:\n",
    "    n_input = [n_pc_samples, 3]    \n",
    "    encoder_args = {'spn': True}\n",
    "    decoder_args = {'layer_sizes': [512, 1024, np.prod(n_input)], \n",
    "                    'non_linearity': tf.nn.relu\n",
    "                   }\n",
    "\n",
    "    conf = Conf(\n",
    "                n_input = n_input,\n",
    "                training_epochs = max_training_epochs,\n",
    "                batch_size = 50,\n",
    "                loss = loss,\n",
    "                denoising = False,\n",
    "                train_dir = train_dir,\n",
    "                loss_display_step = 1,\n",
    "                saver_step = 10,\n",
    "                learning_rate = 0.0005,\n",
    "                z_rotate = True,\n",
    "                encoder = enc_dec.encoder_with_convs_and_symmetry,\n",
    "                decoder = enc_dec.decoder_with_fc_only,\n",
    "                decoder_args = decoder_args,\n",
    "                encoder_args = encoder_args\n",
    "               )\n",
    "\n",
    "    conf.experiment_name = experiment_name\n",
    "    conf.save(osp.join(conf.train_dir, 'configuration'))\n",
    "    \n",
    "reset_tf_graph()\n",
    "set_visible_GPUs([GPU])\n",
    "ae = PointNetAutoEncoder(experiment_name, conf)"
   ]
  },
  {
   "cell_type": "code",
   "execution_count": 17,
   "metadata": {
    "collapsed": false,
    "deletable": true,
    "editable": true
   },
   "outputs": [
    {
     "data": {
      "text/plain": [
       "<tensorflow.python.framework.ops.Graph at 0x7fb3d76eb790>"
      ]
     },
     "execution_count": 17,
     "metadata": {},
     "output_type": "execute_result"
    }
   ],
   "source": [
    "\n",
    "\n",
    "ae.graph\n",
    "\n",
    "\n"
   ]
  },
  {
   "cell_type": "code",
   "execution_count": null,
   "metadata": {
    "collapsed": false,
    "deletable": true,
    "editable": true
   },
   "outputs": [
    {
     "name": "stdout",
     "output_type": "stream",
     "text": [
      "('Epoch:', '0001', 'training time (minutes)=', '3.4328', 'loss=', '0.002117780')\n",
      "INFO:tensorflow:/orions4-zfs/projects/lins2/Panos_Space/DATA/OUT/models/nips/vanilla_ae/1_three_fc_dec_spn_4096pts_chamfer/models.ckpt-1 is not in all_model_checkpoint_paths. Manually adding it.\n",
      "('Epoch:', '0002', 'training time (minutes)=', '3.4186', 'loss=', '0.000973389')\n",
      "('Epoch:', '0003', 'training time (minutes)=', '3.4371', 'loss=', '0.000837575')\n",
      "('Epoch:', '0004', 'training time (minutes)=', '3.4279', 'loss=', '0.000759700')\n",
      "('Epoch:', '0005', 'training time (minutes)=', '3.3973', 'loss=', '0.000685740')\n",
      "('Epoch:', '0006', 'training time (minutes)=', '3.3961', 'loss=', '0.000654981')\n",
      "('Epoch:', '0007', 'training time (minutes)=', '3.3974', 'loss=', '0.000627064')\n",
      "('Epoch:', '0008', 'training time (minutes)=', '3.3818', 'loss=', '0.000589336')\n",
      "('Epoch:', '0009', 'training time (minutes)=', '3.3860', 'loss=', '0.000583836')\n",
      "('Epoch:', '0010', 'training time (minutes)=', '3.3861', 'loss=', '0.000556703')\n",
      "INFO:tensorflow:/orions4-zfs/projects/lins2/Panos_Space/DATA/OUT/models/nips/vanilla_ae/1_three_fc_dec_spn_4096pts_chamfer/models.ckpt-10 is not in all_model_checkpoint_paths. Manually adding it.\n",
      "('Epoch:', '0011', 'training time (minutes)=', '3.3841', 'loss=', '0.000536869')\n",
      "('Epoch:', '0012', 'training time (minutes)=', '3.3740', 'loss=', '0.000539275')\n",
      "('Epoch:', '0013', 'training time (minutes)=', '3.3803', 'loss=', '0.000521090')\n",
      "('Epoch:', '0014', 'training time (minutes)=', '3.3786', 'loss=', '0.000526728')\n",
      "('Epoch:', '0015', 'training time (minutes)=', '3.3819', 'loss=', '0.000506689')\n",
      "('Epoch:', '0016', 'training time (minutes)=', '3.4032', 'loss=', '0.000494302')\n",
      "('Epoch:', '0017', 'training time (minutes)=', '3.4101', 'loss=', '0.000491656')\n",
      "('Epoch:', '0018', 'training time (minutes)=', '3.4097', 'loss=', '0.000488281')\n",
      "('Epoch:', '0019', 'training time (minutes)=', '3.4018', 'loss=', '0.000483839')\n",
      "('Epoch:', '0020', 'training time (minutes)=', '3.4036', 'loss=', '0.000480157')\n",
      "INFO:tensorflow:/orions4-zfs/projects/lins2/Panos_Space/DATA/OUT/models/nips/vanilla_ae/1_three_fc_dec_spn_4096pts_chamfer/models.ckpt-20 is not in all_model_checkpoint_paths. Manually adding it.\n",
      "('Epoch:', '0021', 'training time (minutes)=', '3.4046', 'loss=', '0.000473011')\n",
      "('Epoch:', '0022', 'training time (minutes)=', '3.4096', 'loss=', '0.000475056')\n",
      "('Epoch:', '0023', 'training time (minutes)=', '3.4041', 'loss=', '0.000466022')\n",
      "('Epoch:', '0024', 'training time (minutes)=', '3.4100', 'loss=', '0.000460820')\n",
      "('Epoch:', '0025', 'training time (minutes)=', '3.4087', 'loss=', '0.000461473')\n",
      "('Epoch:', '0026', 'training time (minutes)=', '3.4139', 'loss=', '0.000465596')\n",
      "('Epoch:', '0027', 'training time (minutes)=', '3.4145', 'loss=', '0.000445753')\n",
      "('Epoch:', '0028', 'training time (minutes)=', '3.4418', 'loss=', '0.000448851')\n",
      "('Epoch:', '0029', 'training time (minutes)=', '3.4611', 'loss=', '0.000444555')\n",
      "('Epoch:', '0030', 'training time (minutes)=', '3.4223', 'loss=', '0.000438786')\n",
      "INFO:tensorflow:/orions4-zfs/projects/lins2/Panos_Space/DATA/OUT/models/nips/vanilla_ae/1_three_fc_dec_spn_4096pts_chamfer/models.ckpt-30 is not in all_model_checkpoint_paths. Manually adding it.\n",
      "('Epoch:', '0031', 'training time (minutes)=', '3.4495', 'loss=', '0.000432892')\n",
      "('Epoch:', '0032', 'training time (minutes)=', '3.4176', 'loss=', '0.000434373')\n",
      "('Epoch:', '0033', 'training time (minutes)=', '3.4135', 'loss=', '0.000426173')\n",
      "('Epoch:', '0034', 'training time (minutes)=', '3.4160', 'loss=', '0.000434900')\n",
      "('Epoch:', '0035', 'training time (minutes)=', '3.4568', 'loss=', '0.000429999')\n",
      "('Epoch:', '0036', 'training time (minutes)=', '3.4420', 'loss=', '0.000425878')\n",
      "('Epoch:', '0037', 'training time (minutes)=', '3.4120', 'loss=', '0.000428054')\n",
      "('Epoch:', '0038', 'training time (minutes)=', '3.4103', 'loss=', '0.000418572')\n",
      "('Epoch:', '0039', 'training time (minutes)=', '3.4072', 'loss=', '0.000419802')\n",
      "('Epoch:', '0040', 'training time (minutes)=', '3.4052', 'loss=', '0.000416321')\n",
      "INFO:tensorflow:/orions4-zfs/projects/lins2/Panos_Space/DATA/OUT/models/nips/vanilla_ae/1_three_fc_dec_spn_4096pts_chamfer/models.ckpt-40 is not in all_model_checkpoint_paths. Manually adding it.\n",
      "('Epoch:', '0041', 'training time (minutes)=', '3.4252', 'loss=', '0.000416778')\n",
      "('Epoch:', '0042', 'training time (minutes)=', '3.4138', 'loss=', '0.000414815')\n",
      "('Epoch:', '0043', 'training time (minutes)=', '3.4077', 'loss=', '0.000407647')\n",
      "('Epoch:', '0044', 'training time (minutes)=', '3.4090', 'loss=', '0.000414771')\n",
      "('Epoch:', '0045', 'training time (minutes)=', '3.4106', 'loss=', '0.000413261')\n",
      "('Epoch:', '0046', 'training time (minutes)=', '3.3968', 'loss=', '0.000399613')\n",
      "('Epoch:', '0047', 'training time (minutes)=', '3.4054', 'loss=', '0.000406732')\n",
      "('Epoch:', '0048', 'training time (minutes)=', '3.4166', 'loss=', '0.000397089')\n",
      "('Epoch:', '0049', 'training time (minutes)=', '3.4000', 'loss=', '0.000395799')\n",
      "('Epoch:', '0050', 'training time (minutes)=', '3.3997', 'loss=', '0.000392421')\n",
      "INFO:tensorflow:/orions4-zfs/projects/lins2/Panos_Space/DATA/OUT/models/nips/vanilla_ae/1_three_fc_dec_spn_4096pts_chamfer/models.ckpt-50 is not in all_model_checkpoint_paths. Manually adding it.\n",
      "('Epoch:', '0051', 'training time (minutes)=', '3.3987', 'loss=', '0.000399555')\n",
      "('Epoch:', '0052', 'training time (minutes)=', '3.4034', 'loss=', '0.000401277')\n",
      "('Epoch:', '0053', 'training time (minutes)=', '3.4075', 'loss=', '0.000397068')\n",
      "('Epoch:', '0054', 'training time (minutes)=', '3.3960', 'loss=', '0.000394207')\n",
      "('Epoch:', '0055', 'training time (minutes)=', '3.3981', 'loss=', '0.000393239')\n",
      "('Epoch:', '0056', 'training time (minutes)=', '3.3990', 'loss=', '0.000390943')\n",
      "('Epoch:', '0057', 'training time (minutes)=', '3.4121', 'loss=', '0.000388436')\n",
      "('Epoch:', '0058', 'training time (minutes)=', '3.3989', 'loss=', '0.000393536')\n",
      "('Epoch:', '0059', 'training time (minutes)=', '3.4012', 'loss=', '0.000383585')\n",
      "('Epoch:', '0060', 'training time (minutes)=', '3.4029', 'loss=', '0.000390566')\n",
      "INFO:tensorflow:/orions4-zfs/projects/lins2/Panos_Space/DATA/OUT/models/nips/vanilla_ae/1_three_fc_dec_spn_4096pts_chamfer/models.ckpt-60 is not in all_model_checkpoint_paths. Manually adding it.\n",
      "('Epoch:', '0061', 'training time (minutes)=', '3.4000', 'loss=', '0.000375010')\n",
      "('Epoch:', '0062', 'training time (minutes)=', '3.4023', 'loss=', '0.000389453')\n",
      "('Epoch:', '0063', 'training time (minutes)=', '3.4047', 'loss=', '0.000379081')\n",
      "('Epoch:', '0064', 'training time (minutes)=', '3.4064', 'loss=', '0.000385502')\n",
      "('Epoch:', '0065', 'training time (minutes)=', '3.4099', 'loss=', '0.000380500')\n",
      "('Epoch:', '0066', 'training time (minutes)=', '3.3971', 'loss=', '0.000385113')\n",
      "('Epoch:', '0067', 'training time (minutes)=', '3.3958', 'loss=', '0.000379058')\n",
      "('Epoch:', '0068', 'training time (minutes)=', '3.3782', 'loss=', '0.000382187')\n",
      "('Epoch:', '0069', 'training time (minutes)=', '3.3883', 'loss=', '0.000377920')\n",
      "('Epoch:', '0070', 'training time (minutes)=', '3.3816', 'loss=', '0.000376966')\n",
      "INFO:tensorflow:/orions4-zfs/projects/lins2/Panos_Space/DATA/OUT/models/nips/vanilla_ae/1_three_fc_dec_spn_4096pts_chamfer/models.ckpt-70 is not in all_model_checkpoint_paths. Manually adding it.\n",
      "('Epoch:', '0071', 'training time (minutes)=', '3.3898', 'loss=', '0.000384442')\n",
      "('Epoch:', '0072', 'training time (minutes)=', '3.3686', 'loss=', '0.000374177')\n",
      "('Epoch:', '0073', 'training time (minutes)=', '3.3765', 'loss=', '0.000375125')\n",
      "('Epoch:', '0074', 'training time (minutes)=', '3.3832', 'loss=', '0.000367840')\n",
      "('Epoch:', '0075', 'training time (minutes)=', '3.3892', 'loss=', '0.000368695')\n",
      "('Epoch:', '0076', 'training time (minutes)=', '3.3721', 'loss=', '0.000369521')\n",
      "('Epoch:', '0077', 'training time (minutes)=', '3.3719', 'loss=', '0.000373640')\n",
      "('Epoch:', '0078', 'training time (minutes)=', '3.3794', 'loss=', '0.000361437')\n",
      "('Epoch:', '0079', 'training time (minutes)=', '3.3810', 'loss=', '0.000369514')\n",
      "('Epoch:', '0080', 'training time (minutes)=', '3.3734', 'loss=', '0.000365639')\n",
      "INFO:tensorflow:/orions4-zfs/projects/lins2/Panos_Space/DATA/OUT/models/nips/vanilla_ae/1_three_fc_dec_spn_4096pts_chamfer/models.ckpt-80 is not in all_model_checkpoint_paths. Manually adding it.\n",
      "('Epoch:', '0081', 'training time (minutes)=', '3.3735', 'loss=', '0.000363190')\n",
      "('Epoch:', '0082', 'training time (minutes)=', '3.3787', 'loss=', '0.000361105')\n",
      "('Epoch:', '0083', 'training time (minutes)=', '3.3859', 'loss=', '0.000367984')\n",
      "('Epoch:', '0084', 'training time (minutes)=', '3.3809', 'loss=', '0.000358691')\n",
      "('Epoch:', '0085', 'training time (minutes)=', '3.3859', 'loss=', '0.000360068')\n",
      "('Epoch:', '0086', 'training time (minutes)=', '3.3824', 'loss=', '0.000363468')\n",
      "('Epoch:', '0087', 'training time (minutes)=', '3.3856', 'loss=', '0.000358568')\n",
      "('Epoch:', '0088', 'training time (minutes)=', '3.3834', 'loss=', '0.000355866')\n",
      "('Epoch:', '0089', 'training time (minutes)=', '3.3802', 'loss=', '0.000361077')\n",
      "('Epoch:', '0090', 'training time (minutes)=', '3.3755', 'loss=', '0.000350475')\n",
      "INFO:tensorflow:/orions4-zfs/projects/lins2/Panos_Space/DATA/OUT/models/nips/vanilla_ae/1_three_fc_dec_spn_4096pts_chamfer/models.ckpt-90 is not in all_model_checkpoint_paths. Manually adding it.\n",
      "('Epoch:', '0091', 'training time (minutes)=', '3.3831', 'loss=', '0.000364005')\n",
      "('Epoch:', '0092', 'training time (minutes)=', '3.3818', 'loss=', '0.000357068')\n",
      "('Epoch:', '0093', 'training time (minutes)=', '3.3845', 'loss=', '0.000353099')\n",
      "('Epoch:', '0094', 'training time (minutes)=', '3.3862', 'loss=', '0.000354312')\n",
      "('Epoch:', '0095', 'training time (minutes)=', '3.3860', 'loss=', '0.000358518')\n",
      "('Epoch:', '0096', 'training time (minutes)=', '3.3858', 'loss=', '0.000354698')\n",
      "('Epoch:', '0097', 'training time (minutes)=', '3.3806', 'loss=', '0.000355313')\n",
      "('Epoch:', '0098', 'training time (minutes)=', '3.3791', 'loss=', '0.000353178')\n",
      "('Epoch:', '0099', 'training time (minutes)=', '3.3835', 'loss=', '0.000354780')\n",
      "('Epoch:', '0100', 'training time (minutes)=', '3.3967', 'loss=', '0.000351189')\n",
      "INFO:tensorflow:/orions4-zfs/projects/lins2/Panos_Space/DATA/OUT/models/nips/vanilla_ae/1_three_fc_dec_spn_4096pts_chamfer/models.ckpt-100 is not in all_model_checkpoint_paths. Manually adding it.\n",
      "('Epoch:', '0101', 'training time (minutes)=', '3.3888', 'loss=', '0.000352659')\n",
      "('Epoch:', '0102', 'training time (minutes)=', '3.3815', 'loss=', '0.000348584')\n",
      "('Epoch:', '0103', 'training time (minutes)=', '3.3835', 'loss=', '0.000353254')\n",
      "('Epoch:', '0104', 'training time (minutes)=', '3.3807', 'loss=', '0.000350964')\n",
      "('Epoch:', '0105', 'training time (minutes)=', '3.3908', 'loss=', '0.000346600')\n",
      "('Epoch:', '0106', 'training time (minutes)=', '3.3781', 'loss=', '0.000352884')\n",
      "('Epoch:', '0107', 'training time (minutes)=', '3.3846', 'loss=', '0.000345096')\n",
      "('Epoch:', '0108', 'training time (minutes)=', '3.3852', 'loss=', '0.000340258')\n",
      "('Epoch:', '0109', 'training time (minutes)=', '3.3822', 'loss=', '0.000342641')\n",
      "('Epoch:', '0110', 'training time (minutes)=', '3.3848', 'loss=', '0.000353459')\n",
      "INFO:tensorflow:/orions4-zfs/projects/lins2/Panos_Space/DATA/OUT/models/nips/vanilla_ae/1_three_fc_dec_spn_4096pts_chamfer/models.ckpt-110 is not in all_model_checkpoint_paths. Manually adding it.\n",
      "('Epoch:', '0111', 'training time (minutes)=', '3.4016', 'loss=', '0.000343041')\n",
      "('Epoch:', '0112', 'training time (minutes)=', '3.4236', 'loss=', '0.000342006')\n",
      "('Epoch:', '0113', 'training time (minutes)=', '3.4374', 'loss=', '0.000337071')\n",
      "('Epoch:', '0114', 'training time (minutes)=', '3.4309', 'loss=', '0.000346235')\n",
      "('Epoch:', '0115', 'training time (minutes)=', '3.4657', 'loss=', '0.000339550')\n",
      "('Epoch:', '0116', 'training time (minutes)=', '3.4864', 'loss=', '0.000344205')\n",
      "('Epoch:', '0117', 'training time (minutes)=', '3.4858', 'loss=', '0.000340380')\n",
      "('Epoch:', '0118', 'training time (minutes)=', '3.4837', 'loss=', '0.000335073')\n",
      "('Epoch:', '0119', 'training time (minutes)=', '3.4292', 'loss=', '0.000342997')\n",
      "('Epoch:', '0120', 'training time (minutes)=', '3.4261', 'loss=', '0.000339254')\n",
      "INFO:tensorflow:/orions4-zfs/projects/lins2/Panos_Space/DATA/OUT/models/nips/vanilla_ae/1_three_fc_dec_spn_4096pts_chamfer/models.ckpt-120 is not in all_model_checkpoint_paths. Manually adding it.\n",
      "('Epoch:', '0121', 'training time (minutes)=', '3.5647', 'loss=', '0.000337914')\n",
      "('Epoch:', '0122', 'training time (minutes)=', '3.6158', 'loss=', '0.000340989')\n",
      "('Epoch:', '0123', 'training time (minutes)=', '3.6233', 'loss=', '0.000332077')\n",
      "('Epoch:', '0124', 'training time (minutes)=', '3.5291', 'loss=', '0.000332923')\n",
      "('Epoch:', '0125', 'training time (minutes)=', '3.3945', 'loss=', '0.000334850')\n",
      "('Epoch:', '0126', 'training time (minutes)=', '3.4017', 'loss=', '0.000335927')\n",
      "('Epoch:', '0127', 'training time (minutes)=', '3.3746', 'loss=', '0.000330007')\n",
      "('Epoch:', '0128', 'training time (minutes)=', '3.3683', 'loss=', '0.000332103')\n",
      "('Epoch:', '0129', 'training time (minutes)=', '3.3625', 'loss=', '0.000331240')\n",
      "('Epoch:', '0130', 'training time (minutes)=', '3.3850', 'loss=', '0.000324499')\n",
      "INFO:tensorflow:/orions4-zfs/projects/lins2/Panos_Space/DATA/OUT/models/nips/vanilla_ae/1_three_fc_dec_spn_4096pts_chamfer/models.ckpt-130 is not in all_model_checkpoint_paths. Manually adding it.\n",
      "('Epoch:', '0131', 'training time (minutes)=', '3.3839', 'loss=', '0.000338805')\n",
      "('Epoch:', '0132', 'training time (minutes)=', '3.4218', 'loss=', '0.000324317')\n",
      "('Epoch:', '0133', 'training time (minutes)=', '3.3688', 'loss=', '0.000336177')\n",
      "('Epoch:', '0134', 'training time (minutes)=', '3.3982', 'loss=', '0.000336380')\n",
      "('Epoch:', '0135', 'training time (minutes)=', '3.3730', 'loss=', '0.000325482')\n",
      "('Epoch:', '0136', 'training time (minutes)=', '3.3858', 'loss=', '0.000322901')\n",
      "('Epoch:', '0137', 'training time (minutes)=', '3.3920', 'loss=', '0.000328113')\n",
      "('Epoch:', '0138', 'training time (minutes)=', '3.3842', 'loss=', '0.000325182')\n",
      "('Epoch:', '0139', 'training time (minutes)=', '3.3817', 'loss=', '0.000329668')\n",
      "('Epoch:', '0140', 'training time (minutes)=', '3.3822', 'loss=', '0.000334110')\n",
      "INFO:tensorflow:/orions4-zfs/projects/lins2/Panos_Space/DATA/OUT/models/nips/vanilla_ae/1_three_fc_dec_spn_4096pts_chamfer/models.ckpt-140 is not in all_model_checkpoint_paths. Manually adding it.\n",
      "('Epoch:', '0141', 'training time (minutes)=', '3.3805', 'loss=', '0.000327986')\n",
      "('Epoch:', '0142', 'training time (minutes)=', '3.3758', 'loss=', '0.000322219')\n",
      "('Epoch:', '0143', 'training time (minutes)=', '3.3819', 'loss=', '0.000329918')\n",
      "('Epoch:', '0144', 'training time (minutes)=', '3.3961', 'loss=', '0.000320107')\n",
      "('Epoch:', '0145', 'training time (minutes)=', '3.4147', 'loss=', '0.000326423')\n",
      "('Epoch:', '0146', 'training time (minutes)=', '3.4204', 'loss=', '0.000328535')\n",
      "('Epoch:', '0147', 'training time (minutes)=', '3.3976', 'loss=', '0.000326729')\n",
      "('Epoch:', '0148', 'training time (minutes)=', '3.3901', 'loss=', '0.000328185')\n",
      "('Epoch:', '0149', 'training time (minutes)=', '3.3857', 'loss=', '0.000324816')\n",
      "('Epoch:', '0150', 'training time (minutes)=', '3.3919', 'loss=', '0.000336694')\n",
      "INFO:tensorflow:/orions4-zfs/projects/lins2/Panos_Space/DATA/OUT/models/nips/vanilla_ae/1_three_fc_dec_spn_4096pts_chamfer/models.ckpt-150 is not in all_model_checkpoint_paths. Manually adding it.\n",
      "('Epoch:', '0151', 'training time (minutes)=', '3.3830', 'loss=', '0.000320262')\n",
      "('Epoch:', '0152', 'training time (minutes)=', '3.3932', 'loss=', '0.000317275')\n",
      "('Epoch:', '0153', 'training time (minutes)=', '3.3976', 'loss=', '0.000326296')\n",
      "('Epoch:', '0154', 'training time (minutes)=', '3.3985', 'loss=', '0.000323655')\n",
      "('Epoch:', '0155', 'training time (minutes)=', '3.3966', 'loss=', '0.000321217')\n",
      "('Epoch:', '0156', 'training time (minutes)=', '3.3913', 'loss=', '0.000320972')\n",
      "('Epoch:', '0157', 'training time (minutes)=', '3.3939', 'loss=', '0.000325025')\n",
      "('Epoch:', '0158', 'training time (minutes)=', '3.3954', 'loss=', '0.000316081')\n"
     ]
    }
   ],
   "source": [
    "if do_training:\n",
    "    training_stats = []\n",
    "    training_stats.append(ae.train(train_data, conf))    \n",
    "    with open(osp.join(conf.train_dir, 'train_stats.txt'), 'a') as fout:\n",
    "        np.savetxt(fout, np.array(training_stats)[0])"
   ]
  }
 ],
 "metadata": {
  "kernelspec": {
   "display_name": "Python 2",
   "language": "python",
   "name": "python2"
  },
  "language_info": {
   "codemirror_mode": {
    "name": "ipython",
    "version": 2
   },
   "file_extension": ".py",
   "mimetype": "text/x-python",
   "name": "python",
   "nbconvert_exporter": "python",
   "pygments_lexer": "ipython2",
   "version": "2.7.6"
  }
 },
 "nbformat": 4,
 "nbformat_minor": 0
}
