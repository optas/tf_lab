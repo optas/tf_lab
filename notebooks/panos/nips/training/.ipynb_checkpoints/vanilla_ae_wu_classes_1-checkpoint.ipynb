{
 "cells": [
  {
   "cell_type": "code",
   "execution_count": 1,
   "metadata": {
    "collapsed": false,
    "deletable": true,
    "editable": true
   },
   "outputs": [
    {
     "name": "stdout",
     "output_type": "stream",
     "text": [
      "Picking GPU 0\n"
     ]
    }
   ],
   "source": [
    "from general_tools.notebook.gpu_utils import setup_one_gpu\n",
    "GPU = 0\n",
    "setup_one_gpu(GPU)"
   ]
  },
  {
   "cell_type": "code",
   "execution_count": 2,
   "metadata": {
    "collapsed": false,
    "deletable": true,
    "editable": true
   },
   "outputs": [
    {
     "name": "stderr",
     "output_type": "stream",
     "text": [
      "/usr/local/lib/python2.7/dist-packages/matplotlib/font_manager.py:273: UserWarning: Matplotlib is building the font cache using fc-list. This may take a moment.\n",
      "  warnings.warn('Matplotlib is building the font cache using fc-list. This may take a moment.')\n",
      "/orions4-zfs/projects/lins2/Panos_Space/Git_Repos/geo_tool/solids/mesh.py:26: UserWarning: Mayavi library was not found. Some graphics utilities will be disabled.\n",
      "  warnings.warn('Mayavi library was not found. Some graphics utilities will be disabled.')\n"
     ]
    }
   ],
   "source": [
    "import sys\n",
    "import time\n",
    "import numpy as np\n",
    "import os.path as osp\n",
    "import tensorflow as tf\n",
    "import matplotlib.pyplot as plt\n",
    "\n",
    "from general_tools.notebook.tf import reset_tf_graph\n",
    "\n",
    "import tf_lab.point_clouds.in_out as pio\n",
    "\n",
    "from tf_lab.point_clouds.in_out import PointCloudDataSet, write_model_ids_of_datasets\n",
    "from tf_lab.point_clouds.point_net_ae import PointNetAutoEncoder\n",
    "from tf_lab.point_clouds.autoencoder import Configuration as Conf\n",
    "import tf_lab.point_clouds.encoders_decoders as enc_dec\n",
    "\n",
    "\n",
    "from tf_lab.autopredictors.scripts.helper import shape_net_category_to_synth_id\n",
    "\n",
    "\n",
    "from tf_lab.autopredictors.plotting import plot_original_pclouds_vs_reconstructed, \\\n",
    "                                           plot_train_val_test_curves, plot_reconstructions_at_epoch\n",
    "\n",
    "\n",
    "from tf_lab.autopredictors.evaluate import eval_model, read_saved_epochs\n",
    "                                                  \n",
    "\n",
    "from general_tools.in_out.basics import create_dir, delete_files_in_directory, files_in_subdirs\n",
    "from general_tools.simpletons import select_first_last_and_k\n",
    "from geo_tool import Point_Cloud\n",
    "\n",
    "from tf_lab.nips.shape_net import pc_loader as sn_pc_loader\n",
    "from tf_lab.nips.helper import load_shape_net_models_used_by_wu"
   ]
  },
  {
   "cell_type": "code",
   "execution_count": 3,
   "metadata": {
    "collapsed": false,
    "deletable": true,
    "editable": true
   },
   "outputs": [],
   "source": [
    "%load_ext autoreload\n",
    "%autoreload 2\n",
    "%matplotlib inline"
   ]
  },
  {
   "cell_type": "code",
   "execution_count": 7,
   "metadata": {
    "collapsed": true,
    "deletable": true,
    "editable": true
   },
   "outputs": [],
   "source": [
    "n_pc_samples = 2048\n",
    "do_training = True\n",
    "first_time_running = True\n",
    "z_rotate = True\n",
    "load_model = False\n",
    "seed = 42\n",
    "max_training_epochs = 2000\n",
    "loss = 'chamfer'\n",
    "experiment_name = 'wu_classes_rotated' + '_mlp_arch_' + str(n_pc_samples) +  'pts_' + loss"
   ]
  },
  {
   "cell_type": "code",
   "execution_count": 8,
   "metadata": {
    "collapsed": false,
    "deletable": true,
    "editable": true
   },
   "outputs": [
    {
     "data": {
      "text/plain": [
       "'/orions4-zfs/projects/lins2/Panos_Space/DATA/OUT/models/nips/vanilla_ae/wu_classes_rotated_mlp_arch_2048pts_chamfer'"
      ]
     },
     "execution_count": 8,
     "metadata": {},
     "output_type": "execute_result"
    }
   ],
   "source": [
    "top_data_dir = '/orions4-zfs/projects/lins2/Panos_Space/DATA/'\n",
    "full_pclouds_path = osp.join(top_data_dir, 'Point_Clouds/Shape_Net/Core/from_manifold_meshes/centered/', str(n_pc_samples))\n",
    "train_dir = osp.join(top_data_dir, 'OUT/models/nips/vanilla_ae/')\n",
    "train_dir = osp.join(train_dir, experiment_name)\n",
    "create_dir(train_dir)"
   ]
  },
  {
   "cell_type": "code",
   "execution_count": 6,
   "metadata": {
    "collapsed": false,
    "deletable": true,
    "editable": true
   },
   "outputs": [
    {
     "name": "stdout",
     "output_type": "stream",
     "text": [
      "airplane 02691156\n",
      "4045 files containing complete point clouds were found.\n",
      "car 02958343\n",
      "7497 files containing complete point clouds were found.\n",
      "chair 03001627\n",
      "6778 files containing complete point clouds were found.\n",
      "sofa 04256520\n",
      "3173 files containing complete point clouds were found.\n",
      "rifle 04090263\n",
      "2372 files containing complete point clouds were found.\n",
      "boat 02858304\n",
      "1137 files containing complete point clouds were found.\n",
      "table 04379243\n",
      "8509 files containing complete point clouds were found.\n"
     ]
    }
   ],
   "source": [
    "full_pclouds, full_model_names, full_syn_ids = load_shape_net_models_used_by_wu(n_pc_samples, full_pclouds_path)\n",
    "model_unames = full_model_names + '.' + full_syn_ids\n",
    "train_data = PointCloudDataSet(full_pclouds, labels=model_unames)"
   ]
  },
  {
   "cell_type": "code",
   "execution_count": 9,
   "metadata": {
    "collapsed": false,
    "deletable": true,
    "editable": true
   },
   "outputs": [],
   "source": [
    "if n_pc_samples == 2048:\n",
    "     \n",
    "    encoder_args = {'n_filters': [64, 128, 256, 512, 1024],\n",
    "                    'filter_sizes' :[1, 1, 1, 1, 1],\n",
    "                    'strides': [1, 1, 1, 1, 1]}\n",
    "else:\n",
    "    assert(False)\n",
    "\n",
    "\n",
    "if load_model:\n",
    "    conf = Conf.load(osp.join(train_dir, 'configuration'))\n",
    "    print conf\n",
    "    \n",
    "else:\n",
    "    n_input = [n_pc_samples, 3]\n",
    "    \n",
    "    decoder_args = {'layer_sizes': [1024, 2048, np.prod(n_input)] }\n",
    "    \n",
    "    conf = Conf(\n",
    "                n_input = n_input,\n",
    "                training_epochs = max_training_epochs,\n",
    "                batch_size = 50,\n",
    "                loss = loss,\n",
    "                denoising = False,\n",
    "                train_dir = train_dir,\n",
    "                loss_display_step = 1,\n",
    "                saver_step = 10,\n",
    "                learning_rate = 0.0005,\n",
    "                z_rotate = z_rotate,\n",
    "                encoder = enc_dec.encoder_with_convs_and_symmetry,\n",
    "                encoder_args = encoder_args,\n",
    "                decoder = enc_dec.decoder_with_fc_only,\n",
    "                decoder_args = decoder_args,        \n",
    "               )\n",
    "\n",
    "    conf.experiment_name = experiment_name\n",
    "    conf.save(osp.join(conf.train_dir, 'configuration'))\n",
    "    \n",
    "reset_tf_graph()\n",
    "ae = PointNetAutoEncoder(experiment_name, conf)\n",
    "\n",
    "if load_model:\n",
    "    saved_epochs = read_saved_epochs(conf.train_dir)\n",
    "    last_epoch = saved_epochs[-1]\n",
    "    ae.restore_model(conf.train_dir, last_epoch, verbose=True)"
   ]
  },
  {
   "cell_type": "code",
   "execution_count": null,
   "metadata": {
    "collapsed": false,
    "deletable": true,
    "editable": true
   },
   "outputs": [
    {
     "name": "stdout",
     "output_type": "stream",
     "text": [
      "('Epoch:', '0001', 'training time (minutes)=', '1.6203', 'loss=', '0.003133483')\n",
      "INFO:tensorflow:/orions4-zfs/projects/lins2/Panos_Space/DATA/OUT/models/nips/vanilla_ae/wu_classes_rotated_mlp_arch_2048pts_chamfer/models.ckpt-1 is not in all_model_checkpoint_paths. Manually adding it.\n",
      "('Epoch:', '0002', 'training time (minutes)=', '1.6418', 'loss=', '0.001479707')\n",
      "('Epoch:', '0003', 'training time (minutes)=', '1.6591', 'loss=', '0.001216393')\n",
      "('Epoch:', '0004', 'training time (minutes)=', '1.6617', 'loss=', '0.001129711')\n",
      "('Epoch:', '0005', 'training time (minutes)=', '1.6648', 'loss=', '0.001029625')\n",
      "('Epoch:', '0006', 'training time (minutes)=', '1.6643', 'loss=', '0.001002645')\n",
      "('Epoch:', '0007', 'training time (minutes)=', '1.6631', 'loss=', '0.000904394')\n",
      "('Epoch:', '0008', 'training time (minutes)=', '1.6615', 'loss=', '0.000874362')\n",
      "('Epoch:', '0009', 'training time (minutes)=', '1.6664', 'loss=', '0.000791103')\n",
      "('Epoch:', '0010', 'training time (minutes)=', '1.6622', 'loss=', '0.000825675')\n",
      "INFO:tensorflow:/orions4-zfs/projects/lins2/Panos_Space/DATA/OUT/models/nips/vanilla_ae/wu_classes_rotated_mlp_arch_2048pts_chamfer/models.ckpt-10 is not in all_model_checkpoint_paths. Manually adding it.\n",
      "('Epoch:', '0011', 'training time (minutes)=', '1.6685', 'loss=', '0.000793153')\n",
      "('Epoch:', '0012', 'training time (minutes)=', '1.6639', 'loss=', '0.000768392')\n",
      "('Epoch:', '0013', 'training time (minutes)=', '1.6574', 'loss=', '0.000737487')\n",
      "('Epoch:', '0014', 'training time (minutes)=', '1.6634', 'loss=', '0.000745602')\n",
      "('Epoch:', '0015', 'training time (minutes)=', '1.6634', 'loss=', '0.000699772')\n",
      "('Epoch:', '0016', 'training time (minutes)=', '1.6618', 'loss=', '0.000720407')\n",
      "('Epoch:', '0017', 'training time (minutes)=', '1.6616', 'loss=', '0.000674323')\n",
      "('Epoch:', '0018', 'training time (minutes)=', '1.6575', 'loss=', '0.000682467')\n",
      "('Epoch:', '0019', 'training time (minutes)=', '1.6642', 'loss=', '0.000668029')\n",
      "('Epoch:', '0020', 'training time (minutes)=', '1.6538', 'loss=', '0.000652171')\n",
      "INFO:tensorflow:/orions4-zfs/projects/lins2/Panos_Space/DATA/OUT/models/nips/vanilla_ae/wu_classes_rotated_mlp_arch_2048pts_chamfer/models.ckpt-20 is not in all_model_checkpoint_paths. Manually adding it.\n",
      "('Epoch:', '0021', 'training time (minutes)=', '1.6515', 'loss=', '0.000657213')\n",
      "('Epoch:', '0022', 'training time (minutes)=', '1.6606', 'loss=', '0.000631140')\n",
      "('Epoch:', '0023', 'training time (minutes)=', '1.6640', 'loss=', '0.000627291')\n",
      "('Epoch:', '0024', 'training time (minutes)=', '1.6662', 'loss=', '0.000620162')\n",
      "('Epoch:', '0025', 'training time (minutes)=', '1.6612', 'loss=', '0.000606801')\n",
      "('Epoch:', '0026', 'training time (minutes)=', '1.6692', 'loss=', '0.000613405')\n",
      "('Epoch:', '0027', 'training time (minutes)=', '1.6679', 'loss=', '0.000608758')\n",
      "('Epoch:', '0028', 'training time (minutes)=', '1.6634', 'loss=', '0.000607640')\n",
      "('Epoch:', '0029', 'training time (minutes)=', '1.6538', 'loss=', '0.000587076')\n",
      "('Epoch:', '0030', 'training time (minutes)=', '1.6673', 'loss=', '0.000587341')\n",
      "INFO:tensorflow:/orions4-zfs/projects/lins2/Panos_Space/DATA/OUT/models/nips/vanilla_ae/wu_classes_rotated_mlp_arch_2048pts_chamfer/models.ckpt-30 is not in all_model_checkpoint_paths. Manually adding it.\n",
      "('Epoch:', '0031', 'training time (minutes)=', '1.6667', 'loss=', '0.000590572')\n",
      "('Epoch:', '0032', 'training time (minutes)=', '1.6585', 'loss=', '0.000585549')\n",
      "('Epoch:', '0033', 'training time (minutes)=', '1.6625', 'loss=', '0.000576409')\n",
      "('Epoch:', '0034', 'training time (minutes)=', '1.6620', 'loss=', '0.000576753')\n",
      "('Epoch:', '0035', 'training time (minutes)=', '1.6686', 'loss=', '0.000568677')\n",
      "('Epoch:', '0036', 'training time (minutes)=', '1.6612', 'loss=', '0.000570941')\n",
      "('Epoch:', '0037', 'training time (minutes)=', '1.6736', 'loss=', '0.000587283')\n",
      "('Epoch:', '0038', 'training time (minutes)=', '1.6616', 'loss=', '0.000560755')\n",
      "('Epoch:', '0039', 'training time (minutes)=', '1.6637', 'loss=', '0.000559774')\n",
      "('Epoch:', '0040', 'training time (minutes)=', '1.6622', 'loss=', '0.000545936')\n",
      "INFO:tensorflow:/orions4-zfs/projects/lins2/Panos_Space/DATA/OUT/models/nips/vanilla_ae/wu_classes_rotated_mlp_arch_2048pts_chamfer/models.ckpt-40 is not in all_model_checkpoint_paths. Manually adding it.\n",
      "('Epoch:', '0041', 'training time (minutes)=', '1.8153', 'loss=', '0.000564066')\n",
      "('Epoch:', '0042', 'training time (minutes)=', '1.6719', 'loss=', '0.000548944')\n",
      "('Epoch:', '0043', 'training time (minutes)=', '1.6771', 'loss=', '0.000551289')\n",
      "('Epoch:', '0044', 'training time (minutes)=', '1.6720', 'loss=', '0.000528538')\n",
      "('Epoch:', '0045', 'training time (minutes)=', '1.6713', 'loss=', '0.000532124')\n",
      "('Epoch:', '0046', 'training time (minutes)=', '1.7279', 'loss=', '0.000539654')\n",
      "('Epoch:', '0047', 'training time (minutes)=', '1.9425', 'loss=', '0.000530372')\n",
      "('Epoch:', '0048', 'training time (minutes)=', '1.9465', 'loss=', '0.000527141')\n",
      "('Epoch:', '0049', 'training time (minutes)=', '1.8068', 'loss=', '0.000526126')\n",
      "('Epoch:', '0050', 'training time (minutes)=', '1.6616', 'loss=', '0.000533202')\n",
      "INFO:tensorflow:/orions4-zfs/projects/lins2/Panos_Space/DATA/OUT/models/nips/vanilla_ae/wu_classes_rotated_mlp_arch_2048pts_chamfer/models.ckpt-50 is not in all_model_checkpoint_paths. Manually adding it.\n",
      "('Epoch:', '0051', 'training time (minutes)=', '1.6671', 'loss=', '0.000521617')\n",
      "('Epoch:', '0052', 'training time (minutes)=', '1.6619', 'loss=', '0.000518078')\n",
      "('Epoch:', '0053', 'training time (minutes)=', '1.6632', 'loss=', '0.000528983')\n",
      "('Epoch:', '0054', 'training time (minutes)=', '1.6681', 'loss=', '0.000512007')\n",
      "('Epoch:', '0055', 'training time (minutes)=', '1.6662', 'loss=', '0.000516817')\n",
      "('Epoch:', '0056', 'training time (minutes)=', '1.6655', 'loss=', '0.000513230')\n",
      "('Epoch:', '0057', 'training time (minutes)=', '1.6683', 'loss=', '0.000510461')\n",
      "('Epoch:', '0058', 'training time (minutes)=', '1.6614', 'loss=', '0.000507931')\n",
      "('Epoch:', '0059', 'training time (minutes)=', '1.6521', 'loss=', '0.000509864')\n",
      "('Epoch:', '0060', 'training time (minutes)=', '1.6590', 'loss=', '0.000501715')\n",
      "INFO:tensorflow:/orions4-zfs/projects/lins2/Panos_Space/DATA/OUT/models/nips/vanilla_ae/wu_classes_rotated_mlp_arch_2048pts_chamfer/models.ckpt-60 is not in all_model_checkpoint_paths. Manually adding it.\n",
      "('Epoch:', '0061', 'training time (minutes)=', '1.6628', 'loss=', '0.000513180')\n",
      "('Epoch:', '0062', 'training time (minutes)=', '1.6664', 'loss=', '0.000511295')\n",
      "('Epoch:', '0063', 'training time (minutes)=', '1.6719', 'loss=', '0.000502447')\n",
      "('Epoch:', '0064', 'training time (minutes)=', '1.6782', 'loss=', '0.000496024')\n",
      "('Epoch:', '0065', 'training time (minutes)=', '1.6880', 'loss=', '0.000510548')\n",
      "('Epoch:', '0066', 'training time (minutes)=', '1.6809', 'loss=', '0.000492650')\n",
      "('Epoch:', '0067', 'training time (minutes)=', '1.6821', 'loss=', '0.000496084')\n",
      "('Epoch:', '0068', 'training time (minutes)=', '1.6798', 'loss=', '0.000494771')\n",
      "('Epoch:', '0069', 'training time (minutes)=', '1.6776', 'loss=', '0.000486593')\n",
      "('Epoch:', '0070', 'training time (minutes)=', '1.6720', 'loss=', '0.000501193')\n",
      "INFO:tensorflow:/orions4-zfs/projects/lins2/Panos_Space/DATA/OUT/models/nips/vanilla_ae/wu_classes_rotated_mlp_arch_2048pts_chamfer/models.ckpt-70 is not in all_model_checkpoint_paths. Manually adding it.\n",
      "('Epoch:', '0071', 'training time (minutes)=', '1.6803', 'loss=', '0.000497983')\n",
      "('Epoch:', '0072', 'training time (minutes)=', '1.6771', 'loss=', '0.000486459')\n",
      "('Epoch:', '0073', 'training time (minutes)=', '1.6769', 'loss=', '0.000490840')\n",
      "('Epoch:', '0074', 'training time (minutes)=', '1.6826', 'loss=', '0.000495230')\n",
      "('Epoch:', '0075', 'training time (minutes)=', '1.6752', 'loss=', '0.000487505')\n",
      "('Epoch:', '0076', 'training time (minutes)=', '1.6793', 'loss=', '0.000489330')\n",
      "('Epoch:', '0077', 'training time (minutes)=', '1.6817', 'loss=', '0.000470173')\n",
      "('Epoch:', '0078', 'training time (minutes)=', '1.6770', 'loss=', '0.000483917')\n",
      "('Epoch:', '0079', 'training time (minutes)=', '1.6820', 'loss=', '0.000485384')\n",
      "('Epoch:', '0080', 'training time (minutes)=', '1.6734', 'loss=', '0.000474207')\n",
      "INFO:tensorflow:/orions4-zfs/projects/lins2/Panos_Space/DATA/OUT/models/nips/vanilla_ae/wu_classes_rotated_mlp_arch_2048pts_chamfer/models.ckpt-80 is not in all_model_checkpoint_paths. Manually adding it.\n",
      "('Epoch:', '0081', 'training time (minutes)=', '1.6638', 'loss=', '0.000476340')\n",
      "('Epoch:', '0082', 'training time (minutes)=', '1.6727', 'loss=', '0.000475703')\n",
      "('Epoch:', '0083', 'training time (minutes)=', '1.6698', 'loss=', '0.000495665')\n",
      "('Epoch:', '0084', 'training time (minutes)=', '1.6486', 'loss=', '0.000478860')\n",
      "('Epoch:', '0085', 'training time (minutes)=', '1.6525', 'loss=', '0.000472109')\n",
      "('Epoch:', '0086', 'training time (minutes)=', '1.6535', 'loss=', '0.000468690')\n",
      "('Epoch:', '0087', 'training time (minutes)=', '1.6630', 'loss=', '0.000478567')\n",
      "('Epoch:', '0088', 'training time (minutes)=', '1.6668', 'loss=', '0.000473946')\n",
      "('Epoch:', '0089', 'training time (minutes)=', '1.6661', 'loss=', '0.000464526')\n",
      "('Epoch:', '0090', 'training time (minutes)=', '1.6692', 'loss=', '0.000469615')\n",
      "INFO:tensorflow:/orions4-zfs/projects/lins2/Panos_Space/DATA/OUT/models/nips/vanilla_ae/wu_classes_rotated_mlp_arch_2048pts_chamfer/models.ckpt-90 is not in all_model_checkpoint_paths. Manually adding it.\n",
      "('Epoch:', '0091', 'training time (minutes)=', '1.6673', 'loss=', '0.000479576')\n",
      "('Epoch:', '0092', 'training time (minutes)=', '1.6659', 'loss=', '0.000469202')\n",
      "('Epoch:', '0093', 'training time (minutes)=', '1.8106', 'loss=', '0.000467644')\n",
      "('Epoch:', '0094', 'training time (minutes)=', '1.6739', 'loss=', '0.000463158')\n",
      "('Epoch:', '0095', 'training time (minutes)=', '1.7989', 'loss=', '0.000474973')\n",
      "('Epoch:', '0096', 'training time (minutes)=', '1.7042', 'loss=', '0.000464685')\n",
      "('Epoch:', '0097', 'training time (minutes)=', '1.6790', 'loss=', '0.000456149')\n",
      "('Epoch:', '0098', 'training time (minutes)=', '1.6867', 'loss=', '0.000470394')\n",
      "('Epoch:', '0099', 'training time (minutes)=', '1.8129', 'loss=', '0.000463159')\n",
      "('Epoch:', '0100', 'training time (minutes)=', '1.6851', 'loss=', '0.000461006')\n",
      "INFO:tensorflow:/orions4-zfs/projects/lins2/Panos_Space/DATA/OUT/models/nips/vanilla_ae/wu_classes_rotated_mlp_arch_2048pts_chamfer/models.ckpt-100 is not in all_model_checkpoint_paths. Manually adding it.\n",
      "('Epoch:', '0101', 'training time (minutes)=', '1.6744', 'loss=', '0.000458696')\n",
      "('Epoch:', '0102', 'training time (minutes)=', '1.6836', 'loss=', '0.000466317')\n"
     ]
    }
   ],
   "source": [
    "if do_training:\n",
    "    training_stats = []\n",
    "    training_stats.append(ae.train(train_data, conf))    \n",
    "    with open(osp.join(conf.train_dir, 'train_stats.txt'), 'a') as fout:\n",
    "        np.savetxt(fout, np.array(training_stats)[0])"
   ]
  }
 ],
 "metadata": {
  "kernelspec": {
   "display_name": "Python 2",
   "language": "python",
   "name": "python2"
  },
  "language_info": {
   "codemirror_mode": {
    "name": "ipython",
    "version": 2
   },
   "file_extension": ".py",
   "mimetype": "text/x-python",
   "name": "python",
   "nbconvert_exporter": "python",
   "pygments_lexer": "ipython2",
   "version": "2.7.6"
  }
 },
 "nbformat": 4,
 "nbformat_minor": 0
}
