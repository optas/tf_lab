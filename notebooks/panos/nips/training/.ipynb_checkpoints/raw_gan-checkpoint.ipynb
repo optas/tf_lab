{
 "cells": [
  {
   "cell_type": "code",
   "execution_count": 1,
   "metadata": {
    "collapsed": false,
    "deletable": true,
    "editable": true
   },
   "outputs": [
    {
     "name": "stdout",
     "output_type": "stream",
     "text": [
      "Picking GPU 1\n"
     ]
    }
   ],
   "source": [
    "from general_tools.notebook.gpu_utils import setup_one_gpu\n",
    "GPU = 1\n",
    "setup_one_gpu(GPU)"
   ]
  },
  {
   "cell_type": "code",
   "execution_count": 28,
   "metadata": {
    "collapsed": false,
    "deletable": true,
    "editable": true
   },
   "outputs": [],
   "source": [
    "import sys\n",
    "import time\n",
    "import numpy as np\n",
    "import os.path as osp\n",
    "import tensorflow as tf\n",
    "import matplotlib.pyplot as plt\n",
    "\n",
    "from general_tools.notebook.tf import reset_tf_graph\n",
    "\n",
    "import tf_lab.point_clouds.in_out as pio\n",
    "from tf_lab.point_clouds.in_out import PointCloudDataSet, write_model_ids_of_datasets\n",
    "\n",
    "from tf_lab.point_clouds.point_net_ae import PointNetAutoEncoder\n",
    "from tf_lab.point_clouds.autoencoder import Configuration as Conf\n",
    "import tf_lab.point_clouds.encoders_decoders as enc_dec\n",
    "\n",
    "from tf_lab.autopredictors.scripts.helper import shape_net_category_to_synth_id\n",
    "\n",
    "from tf_lab.autopredictors.evaluate import eval_model, read_saved_epochs\n",
    "                                                  \n",
    "from general_tools.in_out.basics import create_dir, delete_files_in_directory, files_in_subdirs\n",
    "from general_tools.simpletons import select_first_last_and_k\n",
    "from geo_tool import Point_Cloud\n",
    "\n",
    "from tf_lab.point_clouds.gan import model_saver_id\n",
    "from tf_lab.nips.shape_net import pc_loader as sn_pc_loader\n",
    "from tf_lab.autopredictors.exploration import latent_embedding_of_entire_dataset\n",
    "from tf_lab.point_clouds.raw_gan import RawGAN\n",
    "\n",
    "from tf_lab.nips.evaluate_gan import entropy_of_occupancy_grid, point_cloud_distances, jensen_shannon_divergence\n",
    "\n",
    "from tf_lab.nips.helper import pclouds_centered_and_half_sphere\n",
    "\n",
    "\n",
    "from tf_lab.point_clouds.generators_discriminators import mlp_discriminator, convolutional_discriminator,\\\n",
    "                                                          point_cloud_generator, leaky_relu"
   ]
  },
  {
   "cell_type": "code",
   "execution_count": 53,
   "metadata": {
    "collapsed": false,
    "deletable": true,
    "editable": true
   },
   "outputs": [
    {
     "name": "stdout",
     "output_type": "stream",
     "text": [
      "The autoreload extension is already loaded. To reload it, use:\n",
      "  %reload_ext autoreload\n"
     ]
    }
   ],
   "source": [
    "%load_ext autoreload\n",
    "%autoreload 2\n",
    "%matplotlib inline"
   ]
  },
  {
   "cell_type": "code",
   "execution_count": 68,
   "metadata": {
    "collapsed": false,
    "deletable": true,
    "editable": true
   },
   "outputs": [
    {
     "name": "stdout",
     "output_type": "stream",
     "text": [
      "Give me the class type.\n",
      "chair\n"
     ]
    }
   ],
   "source": [
    "n_pc_samples = 2048\n",
    "do_training = True\n",
    "do_plotting = True\n",
    "save_model = True\n",
    "save_synthetic_samples = True\n",
    "seed = 42\n",
    "\n",
    "class_name = raw_input('Give me the class type.\\n').lower()\n",
    "syn_id = shape_net_category_to_synth_id()[class_name]\n",
    "\n",
    "\n",
    "synthetic_data_out_dir = '/orions4-zfs/projects/lins2/Panos_Space/DATA/NIPS/our_samples/'\n",
    "is_convolutional = False\n",
    "\n",
    "if is_convolutional:\n",
    "    arch_tag = 'convolutional'\n",
    "    discriminator = convolutional_discriminator\n",
    "else:\n",
    "    arch_tag = 'mlp'\n",
    "    discriminator = mlp_discriminator\n",
    "\n",
    "experiment_name = class_name + '_'+ arch_tag + '_raw_gan_' + str(n_pc_samples) +  '_pts'"
   ]
  },
  {
   "cell_type": "code",
   "execution_count": 5,
   "metadata": {
    "collapsed": false,
    "deletable": true,
    "editable": true
   },
   "outputs": [
    {
     "name": "stdout",
     "output_type": "stream",
     "text": [
      "6778 files containing complete point clouds were found.\n"
     ]
    }
   ],
   "source": [
    "top_data_dir = '/orions4-zfs/projects/lins2/Panos_Space/DATA/'\n",
    "train_dir = osp.join(top_data_dir, 'OUT/models/nips/gan/raw_gan')\n",
    "train_dir = osp.join(train_dir, experiment_name)\n",
    "create_dir(train_dir)\n",
    "\n",
    "full_pclouds_path = osp.join(top_data_dir, 'Point_Clouds/Shape_Net/Core/from_manifold_meshes/centered/', str(n_pc_samples))\n",
    "full_pclouds_path = osp.join(full_pclouds_path, syn_id)\n",
    "full_file_names = pio.load_filenames_of_input_data(full_pclouds_path, '.ply')\n",
    "full_pclouds, full_model_ids, full_syn_ids = pio.load_crude_point_clouds(file_names=full_file_names,\n",
    "                                                                           n_threads=25, loader=sn_pc_loader)\n",
    "print '%d files containing complete point clouds were found.' % (len(full_pclouds), )\n",
    "train_data = PointCloudDataSet(full_pclouds)"
   ]
  },
  {
   "cell_type": "code",
   "execution_count": 54,
   "metadata": {
    "collapsed": false,
    "deletable": true,
    "editable": true
   },
   "outputs": [],
   "source": [
    "max_epochs = 100\n",
    "batch_size = 50\n",
    "noise_params = {'mu':0, 'sigma': 0.5}\n",
    "\n",
    "noise_dim = 512\n",
    "init_lr = 0.0005\n",
    "leak = 0.1\n",
    "\n",
    "n_syn_samples = train_data.num_examples  # Same number as original GT data.\n",
    "accum_syn_data = []\n",
    "train_stats = []\n",
    "\n",
    "disc_kwargs = {'non_linearity': leaky_relu(leak)}\n",
    "\n",
    "reset_tf_graph()\n",
    "\n",
    "gan = RawGAN(experiment_name, init_lr, [n_pc_samples, 3], noise_dim, \n",
    "             discriminator, point_cloud_generator, \n",
    "             gen_kwargs=gen_kwargs, disc_kwargs=disc_kwargs)"
   ]
  },
  {
   "cell_type": "code",
   "execution_count": 55,
   "metadata": {
    "collapsed": false,
    "deletable": true,
    "editable": true
   },
   "outputs": [
    {
     "name": "stdout",
     "output_type": "stream",
     "text": [
      "1 (1.3687741491529677, 0.78661449352900192) 40.8445308208\n",
      "2 (1.3381625237288299, 0.90227857033411663) 40.4771358967\n",
      "3 (1.275853200312014, 1.0451306005318959) 40.9045789242\n",
      "4 (1.1851054681671991, 1.3256023592419095) 41.015775919\n",
      "5 (1.2339185308527063, 1.0545392972451668) 41.0468578339\n",
      "6 (1.2781498555783872, 0.92446967142599601) 41.0738370419\n",
      "7 (1.2424820793999567, 0.92204100335085837) 41.1957521439\n",
      "8 (1.2374827508573178, 0.9424487098499581) 41.1064908504\n",
      "9 (1.2630477746327717, 0.93114153433729097) 41.260155201\n",
      "10 (1.2960555235544839, 0.89567157537848863) 41.1880190372\n",
      "11 (1.2720826387405395, 0.90822860377806203) 41.1979179382\n",
      "12 (1.2827730205323962, 0.91357525896143033) 41.2392098904\n",
      "13 (1.2693029624444467, 0.92801714539527891) 41.029282093\n",
      "14 (1.2464938843691791, 0.95361611798957546) 41.1217820644\n",
      "15 (1.2329412124775074, 0.97909031709035232) 41.0864357948\n",
      "16 (1.2435225442603783, 0.98065646754370794) 41.0790469646\n",
      "17 (1.2600444157918294, 0.97355176276630828) 41.3112180233\n",
      "18 (1.2482747669573184, 0.98844778581901838) 41.235861063\n",
      "19 (1.2674381626976861, 0.95795719248277167) 41.1053330898\n",
      "20 (1.241284977948224, 0.97786601825996677) 41.23163414\n",
      "21 (1.2252138694127401, 1.0156935605737898) 41.1842238903\n",
      "22 (1.2131591443662291, 1.037825991710027) 41.2863640785\n",
      "23 (1.221855503541452, 1.0342259601310448) 41.1674990654\n",
      "24 (1.1916165824289675, 1.0563377289860336) 41.1235220432\n",
      "25 (1.1794824829807988, 1.0998683198734567) 41.2004568577\n",
      "26 (1.1356889857186212, 1.1574739127247422) 41.069341898\n",
      "27 (1.1238784485393101, 1.1778694698104153) 41.2474319935\n",
      "28 (1.0884766296104149, 1.2364185558425056) 41.1334481239\n",
      "29 (1.0801891613889623, 1.2622537681350001) 41.083783865\n",
      "30 (0.97205323025032331, 1.3955518005070864) 41.2242670059\n",
      "31 (0.97090137932035658, 1.4702509886688657) 41.156935215\n",
      "32 (0.92347042428122628, 1.5903562130751434) 41.0478351116\n",
      "33 (0.85539634558889599, 1.6368516116230576) 40.8158860207\n",
      "34 (0.74979751728199151, 1.8296163845945288) 40.8738000393\n",
      "35 (0.78091150963747946, 1.8719840597223352) 40.8269920349\n",
      "36 (0.72461285745656046, 1.9598993508904068) 40.8872799873\n",
      "37 (0.64279701091625074, 2.1088726639747621) 40.8337249756\n",
      "38 (0.62734670087143229, 2.2886100530624391) 40.8400108814\n",
      "39 (0.66337305726828399, 2.135739102628496) 40.9586799145\n",
      "40 (0.69086050280818234, 2.0883893061567238) 40.8238809109\n",
      "41 (0.68731783319402628, 2.0586333676620767) 40.8228058815\n",
      "42 (0.69129469019395329, 2.1570545540915593) 40.845179081\n",
      "43 (0.71957957457613064, 1.9804089506467184) 40.8265838623\n",
      "44 (0.63786591181048635, 2.0519980682267085) 40.8505499363\n",
      "45 (0.69536066960405418, 2.1545842373812638) 40.8044362068\n",
      "46 (0.70342238986933669, 1.9956062021078886) 40.8957669735\n",
      "47 (0.76566827010225369, 1.8479958763828983) 40.8198349476\n",
      "48 (0.72636506071797124, 1.9591410093837314) 40.8550469875\n",
      "49 (0.64966761050400912, 2.1415828598870172) 40.8733160496\n",
      "50 (0.64413179092937045, 2.1491581810845268) 40.8626229763\n",
      "51 (0.60237669988914777, 2.2039410944338198) 40.8452899456\n",
      "52 (0.64644509598060895, 2.2068147824870215) 40.8423919678\n",
      "53 (0.70460345678859282, 2.0832131381388064) 40.898047924\n",
      "54 (0.75054553416040204, 1.927540381749471) 40.8858709335\n",
      "55 (0.72302149777059199, 1.9440659085909526) 40.8976609707\n",
      "56 (0.68883004166461803, 2.0740983309569181) 40.906785965\n",
      "57 (0.64390972720252138, 2.2092168719680223) 40.8907568455\n",
      "58 (0.67161446015040083, 2.0121492796474034) 40.8500959873\n",
      "59 (0.69889796751516842, 2.0369301685580501) 40.8581190109\n",
      "60 (0.78117972987669482, 1.9142976106316956) 40.9207310677\n",
      "61 (0.73614792823791508, 1.9281801398153657) 40.8611950874\n",
      "62 (0.60324124428961012, 1.9216413670116002) 40.8634068966\n",
      "63 (0.68105415591487173, 2.0145841775117099) 40.9937949181\n",
      "64 (0.60491197153373999, 2.2857711580064564) 41.0578818321\n",
      "65 (0.84288222911181276, 1.8508855378186262) 41.0565261841\n",
      "66 (0.67547778818342419, 1.8817154102855258) 41.0450708866\n",
      "67 (0.64866443938679164, 1.9712031324704489) 41.0865390301\n",
      "68 (0.68913854338504654, 1.9683908029838844) 42.0664281845\n",
      "69 (0.70304771021560386, 1.9803466103695058) 42.6784899235\n",
      "70 (0.54050504962603252, 2.2373726677011558) 43.7706689835\n",
      "71 (0.71816826131608746, 1.9335522488311485) 43.1053349972\n",
      "72 (0.68697074430960192, 1.9511651184823777) 43.5893619061\n",
      "73 (0.64779886448824853, 2.0890529398564941) 42.5654509068\n",
      "74 (0.58494343073279764, 2.1197822023321082) 41.9414269924\n",
      "75 (0.67851992867611077, 2.0721725260769879) 43.0315630436\n",
      "76 (0.65628633984812978, 2.0906137890285916) 42.8190522194\n",
      "77 (0.59688440771014606, 2.1587232982670819) 42.9087469578\n",
      "78 (0.66434154201436924, 2.01905197346652) 42.8360919952\n",
      "79 (0.69614207634219416, 1.9684663887377138) 42.7888441086\n",
      "80 (0.68040318511150499, 1.9634010959554602) 45.6559619904\n",
      "81 (0.63006853924857242, 2.1076447636992843) 41.236989975\n",
      "82 (0.55080164030746182, 2.4505643667998136) 42.4226958752\n",
      "83 (0.54541490298730355, 2.3475280735227795) 41.8429839611\n",
      "84 (0.55877721243434486, 2.4449734219798334) 41.6427440643\n",
      "85 (0.50034782489140828, 2.4901438509976423) 42.3345618248\n",
      "86 (0.47341326011551749, 2.6160159976394088) 41.3579819202\n",
      "87 (0.5937484372545172, 2.3406228056660403) 41.1183819771\n",
      "88 (0.57162682988025526, 2.3766966078016494) 42.6131460667\n",
      "89 (0.48373019562827219, 2.6060079963118943) 41.2119669914\n",
      "90 (0.57168847090668151, 2.3281119417261196) 41.1101989746\n",
      "91 (0.57781596426610593, 2.3867392610620568) 41.3955180645\n",
      "92 (0.59475098649660751, 2.3663424756791858) 41.7216761112\n",
      "93 (0.56138112092459647, 2.292865711229819) 42.7163968086\n",
      "94 (0.57720880044831169, 2.3565990368525189) 41.677063942\n",
      "95 (0.56625656706315497, 2.4255197719291406) 42.9628000259\n",
      "96 (0.5713783555560642, 2.3909847586243242) 41.1795442104\n",
      "97 (0.50774688190884065, 2.5365052280602631) 41.3794100285\n",
      "98 (0.54937592115667133, 2.5432064118208708) 41.9810061455\n",
      "99 (0.52126405757886396, 2.5010782374276057) 41.5848169327\n",
      "100 (0.57334762723357591, 2.4602237776473714) 43.0455811024\n"
     ]
    }
   ],
   "source": [
    "if do_training:\n",
    "    for _ in range(max_epochs):\n",
    "#         checkpoint_path = osp.join(train_dir, model_saver_id)\n",
    "        loss, duration = gan._single_epoch_train(train_data, batch_size, noise_params)\n",
    "        epoch = int(gan.sess.run(gan.epoch.assign_add(tf.constant(1.0))))\n",
    "        print epoch, loss, duration\n",
    "#         if save_model:\n",
    "#             gan.saver.save(gan.sess, checkpoint_path, global_step=gan.epoch)\n",
    "        train_stats.append((epoch,) + loss)\n",
    "        accum_syn_data.append(gan.generate(n_syn_samples, noise_params))"
   ]
  },
  {
   "cell_type": "code",
   "execution_count": 65,
   "metadata": {
    "collapsed": false,
    "deletable": true,
    "editable": true
   },
   "outputs": [],
   "source": [
    "if do_plotting:\n",
    "    epoch_to_check = 100\n",
    "n_check = 40\n",
    "check_data = accum_syn_data[epoch_to_check-1]\n",
    "\n",
    "rids = np.random.choice(range(len(check_data)), size=n_check, replace=False)\n",
    "\n",
    "for i in range(n_check):\n",
    "    Point_Cloud(check_data[rids[i]]).plot()\n",
    "    "
   ]
  },
  {
   "cell_type": "code",
   "execution_count": 69,
   "metadata": {
    "collapsed": false,
    "deletable": true,
    "editable": true
   },
   "outputs": [
    {
     "data": {
      "image/png": "[encoded data removed]",
      "text/plain": [
       "<matplotlib.figure.Figure at 0x7f033a15e5d0>"
      ]
     },
     "metadata": {},
     "output_type": "display_data"
    }
   ],
   "source": [
    "if do_plotting:\n",
    "    x = range(len(train_stats))\n",
    "    d_loss = [t[1] for t in train_stats]\n",
    "    g_loss = [t[2] for t in train_stats]\n",
    "    plt.plot(x, d_loss)\n",
    "    plt.plot(x, g_loss)\n",
    "    plt.title('Raw GAN: %s training.' %(class_name,))\n",
    "    plt.legend(['d_loss', 'g_loss'], loc=0)\n",
    "    plt.xlabel('Epochs.')\n",
    "    plt.ylabel('Loss.')"
   ]
  },
  {
   "cell_type": "code",
   "execution_count": null,
   "metadata": {
    "collapsed": false,
    "deletable": true,
    "editable": true
   },
   "outputs": [],
   "source": [
    "create\n",
    "\n",
    "save_out = osp.join(synthetic_data_out_dir, experiment_name + '_' + str(max_epochs) + 'epochs')\n",
    "np.savez(save_out, accum_syn_data)"
   ]
  }
 ],
 "metadata": {
  "kernelspec": {
   "display_name": "Python 2",
   "language": "python",
   "name": "python2"
  },
  "language_info": {
   "codemirror_mode": {
    "name": "ipython",
    "version": 2
   },
   "file_extension": ".py",
   "mimetype": "text/x-python",
   "name": "python",
   "nbconvert_exporter": "python",
   "pygments_lexer": "ipython2",
   "version": "2.7.6"
  }
 },
 "nbformat": 4,
 "nbformat_minor": 2
}
