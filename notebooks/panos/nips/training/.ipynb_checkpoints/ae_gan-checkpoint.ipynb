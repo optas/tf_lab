{
 "cells": [
  {
   "cell_type": "code",
   "execution_count": 1,
   "metadata": {
    "collapsed": false,
    "deletable": true,
    "editable": true
   },
   "outputs": [
    {
     "name": "stdout",
     "output_type": "stream",
     "text": [
      "Picking GPU 3\n"
     ]
    }
   ],
   "source": [
    "from general_tools.notebook.gpu_utils import setup_one_gpu\n",
    "GPU = 3\n",
    "setup_one_gpu(GPU)"
   ]
  },
  {
   "cell_type": "code",
   "execution_count": 2,
   "metadata": {
    "collapsed": false,
    "deletable": true,
    "editable": true
   },
   "outputs": [],
   "source": [
    "import sys\n",
    "import time\n",
    "import numpy as np\n",
    "import os.path as osp\n",
    "import tensorflow as tf\n",
    "import matplotlib.pyplot as plt\n",
    "\n",
    "from general_tools.notebook.tf import reset_tf_graph\n",
    "\n",
    "import tf_lab.point_clouds.in_out as pio\n",
    "from tf_lab.point_clouds.in_out import PointCloudDataSet, write_model_ids_of_datasets\n",
    "\n",
    "from tf_lab.point_clouds.point_net_ae import PointNetAutoEncoder\n",
    "from tf_lab.point_clouds.autoencoder import Configuration as Conf\n",
    "import tf_lab.point_clouds.encoders_decoders as enc_dec\n",
    "\n",
    "from tf_lab.autopredictors.scripts.helper import shape_net_category_to_synth_id\n",
    "\n",
    "from tf_lab.autopredictors.plotting import plot_original_pclouds_vs_reconstructed, \\\n",
    "                                           plot_train_val_test_curves, plot_reconstructions_at_epoch\n",
    "\n",
    "from tf_lab.autopredictors.evaluate import eval_model, read_saved_epochs\n",
    "                                                  \n",
    "from general_tools.in_out.basics import create_dir, delete_files_in_directory, files_in_subdirs\n",
    "from general_tools.simpletons import select_first_last_and_k\n",
    "from geo_tool import Point_Cloud\n",
    "\n",
    "from tf_lab.nips.shape_net import pc_loader as sn_pc_loader\n",
    "from tf_lab.autopredictors.exploration import latent_embedding_of_entire_dataset\n",
    "from tf_lab.point_clouds.raw_gan import RawGAN\n",
    "from tf_lab.point_clouds.latent_gan import LatentGAN\n",
    "\n",
    "from tf_lab.point_clouds.point_net_ae import PointNetAutoEncoder\n",
    "\n",
    "\n",
    "from tf_lab.nips.evaluate_gan import entropy_of_occupancy_grid, \\\n",
    "                                    point_cloud_distances, jensen_shannon_divergence, sample_pclouds_distances\n",
    "\n",
    "from tf_lab.point_clouds.gan import model_saver_id\n",
    "\n",
    "from tf_lab.autopredictors.exploration import find_neighbors\n",
    "\n",
    "from tf_lab.nips.helper import pclouds_centered_and_half_sphere\n",
    "\n",
    "\n",
    "from tf_lab.point_clouds.generators_discriminators import latent_code_discriminator, latent_code_generator"
   ]
  },
  {
   "cell_type": "code",
   "execution_count": 3,
   "metadata": {
    "collapsed": false,
    "deletable": true,
    "editable": true
   },
   "outputs": [],
   "source": [
    "%load_ext autoreload\n",
    "%autoreload 2\n",
    "%matplotlib inline"
   ]
  },
  {
   "cell_type": "code",
   "execution_count": 4,
   "metadata": {
    "collapsed": false,
    "deletable": true,
    "editable": true
   },
   "outputs": [
    {
     "name": "stdout",
     "output_type": "stream",
     "text": [
      "Give me the class type.\n",
      "chair\n"
     ]
    },
    {
     "data": {
      "text/plain": [
       "'/orions4-zfs/projects/lins2/Panos_Space/DATA/OUT/models/nips/gan/ae_gan/ae_emd_chair_2048_pts_trained_500ep_smaller_lr'"
      ]
     },
     "execution_count": 4,
     "metadata": {},
     "output_type": "execute_result"
    }
   ],
   "source": [
    "n_pc_samples = 2048\n",
    "do_training = True\n",
    "do_plotting = True\n",
    "ae_loss = 'emd'\n",
    "\n",
    "save_synthetic_samples = True\n",
    "save_model = True\n",
    "saver_step = 10\n",
    "\n",
    "class_name = raw_input('Give me the class type.\\n').lower()\n",
    "syn_id = shape_net_category_to_synth_id()[class_name]\n",
    "\n",
    "experiment_name = 'ae_'+ ae_loss + '_' + class_name + '_' + str(n_pc_samples) +  '_pts_trained_500ep_smaller_lr'\n",
    "\n",
    "top_data_dir = '/orions4-zfs/projects/lins2/Panos_Space/DATA/'\n",
    "synthetic_data_out_dir = '/orions4-zfs/projects/lins2/Panos_Space/DATA/OUT/nips/our_synthetic_samples/'\n",
    "train_dir = osp.join(top_data_dir, 'OUT/models/nips/gan/ae_gan')\n",
    "train_dir = osp.join(train_dir, experiment_name)\n",
    "create_dir(train_dir)"
   ]
  },
  {
   "cell_type": "code",
   "execution_count": 5,
   "metadata": {
    "collapsed": false,
    "deletable": true,
    "editable": true
   },
   "outputs": [
    {
     "name": "stdout",
     "output_type": "stream",
     "text": [
      "6778 files containing complete point clouds were found.\n"
     ]
    }
   ],
   "source": [
    "# Load Raw Point-Clouds of class\n",
    "pclouds_path = osp.join(top_data_dir, 'Point_Clouds/Shape_Net/Core/from_manifold_meshes/centered/', str(n_pc_samples))\n",
    "pclouds_path = osp.join(pclouds_path, syn_id)\n",
    "file_names = pio.load_filenames_of_input_data(pclouds_path, '.ply')\n",
    "pclouds, model_ids, syn_ids = pio.load_crude_point_clouds(file_names=file_names, n_threads=50, loader=sn_pc_loader)\n",
    "print '%d files containing complete point clouds were found.' % (len(pclouds), )"
   ]
  },
  {
   "cell_type": "code",
   "execution_count": 6,
   "metadata": {
    "collapsed": false,
    "deletable": true,
    "editable": true
   },
   "outputs": [
    {
     "name": "stdout",
     "output_type": "stream",
     "text": [
      "Model restored in epoch 1000.\n"
     ]
    }
   ],
   "source": [
    "# Load Auto-Encoder\n",
    "reset_tf_graph()\n",
    "\n",
    "ae_net_name = class_name + '_conv_arch_1_2048pts_' + ae_loss\n",
    "ae_net_dir = osp.join(top_data_dir, 'OUT/models/nips/vanilla_ae', ae_net_name)\n",
    "ae_conf = Conf.load(osp.join(ae_net_dir, 'configuration'))\n",
    "\n",
    "ae = PointNetAutoEncoder(ae_net_name, ae_conf)\n",
    "saved_epochs = read_saved_epochs(ae_conf.train_dir)\n",
    "last_epoch = saved_epochs[-1]\n",
    "ae.restore_model(ae_conf.train_dir, last_epoch, verbose=True)"
   ]
  },
  {
   "cell_type": "code",
   "execution_count": 7,
   "metadata": {
    "collapsed": false,
    "deletable": true,
    "editable": true
   },
   "outputs": [],
   "source": [
    "# Convert raw-data to latent codes.\n",
    "raw_data = PointCloudDataSet(pclouds, init_shuffle=False)\n",
    "_, latent_codes, _ = latent_embedding_of_entire_dataset(raw_data, ae, ae_conf)\n",
    "training_data = PointCloudDataSet(latent_codes)"
   ]
  },
  {
   "cell_type": "code",
   "execution_count": 8,
   "metadata": {
    "collapsed": false,
    "deletable": true,
    "editable": true
   },
   "outputs": [],
   "source": [
    "### Changed to make it equal to NB submitted.\n",
    "max_epochs = 500\n",
    "init_lr = 0.0001\n",
    "beta = 0.9\n",
    "###\n",
    "\n",
    "batch_size = 50\n",
    "\n",
    "noise_params = {'mu':0, 'sigma': 0.5}\n",
    "noise_dim = 512\n",
    "\n",
    "n_syn_samples = training_data.num_examples  # Same number as original GT data.\n",
    "n_out = [latent_codes.shape[1]]\n",
    "accum_syn_data = []\n",
    "train_stats = []\n",
    "\n",
    "reset_tf_graph()\n",
    "gan = LatentGAN(experiment_name, init_lr, n_out, noise_dim, latent_code_discriminator, latent_code_generator)"
   ]
  },
  {
   "cell_type": "code",
   "execution_count": 10,
   "metadata": {
    "collapsed": false,
    "deletable": true,
    "editable": true
   },
   "outputs": [
    {
     "name": "stdout",
     "output_type": "stream",
     "text": [
      "/orions4-zfs/projects/lins2/Panos_Space/DATA/OUT/nips/our_synthetic_samples/ae_emd_chair_2048_pts_trained_500ep_smaller_lr\n"
     ]
    }
   ],
   "source": [
    "save_dir = osp.join(synthetic_data_out_dir, experiment_name)\n",
    "save_dir = create_dir(save_dir)\n",
    "print save_dir\n",
    "\n",
    "if do_training:\n",
    "    for _ in range(max_epochs):        \n",
    "        loss, duration = gan._single_epoch_train(training_data, batch_size, noise_params)\n",
    "        epoch = int(gan.sess.run(gan.epoch.assign_add(tf.constant(1.0))))\n",
    "        print epoch, loss        \n",
    "        \n",
    "        if save_model and (epoch % saver_step == 0 or epoch <= 5):\n",
    "            checkpoint_path = osp.join(train_dir, model_saver_id)\n",
    "            gan.saver.save(gan.sess, checkpoint_path, global_step=gan.epoch)            \n",
    "            syn_latent_data = gan.generate(n_syn_samples, noise_params)\n",
    "            syn_data = ae.decode(syn_latent_data)\n",
    "            np.savez(osp.join(save_dir, 'epoch_' + str(epoch)), syn_data)\n",
    "            \n",
    "        train_stats.append((epoch,) + loss)"
   ]
  },
  {
   "cell_type": "code",
   "execution_count": 47,
   "metadata": {
    "collapsed": false,
    "deletable": true,
    "editable": true
   },
   "outputs": [
    {
     "data": {
      "image/png": "[encoded data removed]",
      "text/plain": [
       "<matplotlib.figure.Figure at 0x7f937c747710>"
      ]
     },
     "metadata": {},
     "output_type": "display_data"
    }
   ],
   "source": [
    "rid = np.random.randint(3000)\n",
    "Point_Cloud(accum_syn_data[49][rid]).plot();"
   ]
  },
  {
   "cell_type": "code",
   "execution_count": 19,
   "metadata": {
    "collapsed": false,
    "deletable": true,
    "editable": true
   },
   "outputs": [
    {
     "data": {
      "image/png": "[encoded data removed]",
      "text/plain": [
       "<matplotlib.figure.Figure at 0x7fb6bc7f6750>"
      ]
     },
     "metadata": {},
     "output_type": "display_data"
    }
   ],
   "source": [
    "if do_plotting:\n",
    "    x = range(len(train_stats))\n",
    "    d_loss = [t[1] for t in train_stats]\n",
    "    g_loss = [t[2] for t in train_stats]\n",
    "    plt.plot(x, d_loss, '--')\n",
    "    plt.plot(x, g_loss)\n",
    "    plt.title('Latent GAN training. (%s, %s)' %(class_name, ae_loss))\n",
    "    plt.legend(['Discriminator', 'Generator'], loc=0)\n",
    "    \n",
    "    plt.tick_params(axis='x', which='both', bottom='off', top='off')\n",
    "    plt.tick_params(axis='y', which='both', left='off', right='off')\n",
    "    \n",
    "    plt.xlabel('Epochs.') \n",
    "    plt.ylabel('Loss.')"
   ]
  },
  {
   "cell_type": "code",
   "execution_count": null,
   "metadata": {
    "collapsed": true,
    "deletable": true,
    "editable": true
   },
   "outputs": [],
   "source": [
    "if save_synthetic_samples:\n",
    "    save_dir = osp.join(synthetic_data_out_dir, experiment_name)\n",
    "    create_dir(save_dir)\n",
    "    for i in range(len(accum_syn_data)):\n",
    "        np.savez(osp.join(save_dir, 'epoch_' + str( (i+1) * saver_step)), accum_syn_data[i])"
   ]
  },
  {
   "cell_type": "code",
   "execution_count": null,
   "metadata": {
    "collapsed": false,
    "deletable": true,
    "editable": true
   },
   "outputs": [],
   "source": [
    "epoch_to_check = 5\n",
    "n_check = 10\n",
    "check_data = accum_syn_data[epoch_to_check-1]\n",
    "rids = np.random.choice(range(len(check_data)), size=n_check, replace=False)\n",
    "\n",
    "for i in range(n_check):\n",
    "    Point_Cloud(check_data[rids[i]]).plot()"
   ]
  }
 ],
 "metadata": {
  "kernelspec": {
   "display_name": "Python 2",
   "language": "python",
   "name": "python2"
  },
  "language_info": {
   "codemirror_mode": {
    "name": "ipython",
    "version": 2
   },
   "file_extension": ".py",
   "mimetype": "text/x-python",
   "name": "python",
   "nbconvert_exporter": "python",
   "pygments_lexer": "ipython2",
   "version": "2.7.6"
  }
 },
 "nbformat": 4,
 "nbformat_minor": 2
}
