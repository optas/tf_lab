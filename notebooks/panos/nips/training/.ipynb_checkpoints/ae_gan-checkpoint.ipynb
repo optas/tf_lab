{
 "cells": [
  {
   "cell_type": "code",
   "execution_count": 1,
   "metadata": {
    "collapsed": false,
    "deletable": true,
    "editable": true
   },
   "outputs": [
    {
     "name": "stdout",
     "output_type": "stream",
     "text": [
      "Picking GPU 0\n"
     ]
    }
   ],
   "source": [
    "from general_tools.notebook.gpu_utils import setup_one_gpu\n",
    "GPU = 0\n",
    "setup_one_gpu(GPU)"
   ]
  },
  {
   "cell_type": "code",
   "execution_count": 28,
   "metadata": {
    "collapsed": false,
    "deletable": true,
    "editable": true
   },
   "outputs": [],
   "source": [
    "import sys\n",
    "import time\n",
    "import numpy as np\n",
    "import os.path as osp\n",
    "import tensorflow as tf\n",
    "import matplotlib.pyplot as plt\n",
    "\n",
    "from general_tools.notebook.tf import reset_tf_graph\n",
    "\n",
    "import tf_lab.point_clouds.in_out as pio\n",
    "from tf_lab.point_clouds.in_out import PointCloudDataSet, write_model_ids_of_datasets\n",
    "\n",
    "from tf_lab.point_clouds.point_net_ae import PointNetAutoEncoder\n",
    "from tf_lab.point_clouds.autoencoder import Configuration as Conf\n",
    "import tf_lab.point_clouds.encoders_decoders as enc_dec\n",
    "\n",
    "from tf_lab.autopredictors.scripts.helper import shape_net_category_to_synth_id\n",
    "\n",
    "from tf_lab.autopredictors.plotting import plot_original_pclouds_vs_reconstructed, \\\n",
    "                                           plot_train_val_test_curves, plot_reconstructions_at_epoch\n",
    "\n",
    "from tf_lab.autopredictors.evaluate import eval_model, read_saved_epochs\n",
    "                                                  \n",
    "from general_tools.in_out.basics import create_dir, delete_files_in_directory, files_in_subdirs\n",
    "from general_tools.simpletons import select_first_last_and_k\n",
    "from geo_tool import Point_Cloud\n",
    "\n",
    "from tf_lab.nips.shape_net import pc_loader as sn_pc_loader\n",
    "from tf_lab.autopredictors.exploration import latent_embedding_of_entire_dataset\n",
    "from tf_lab.point_clouds.raw_gan import RawGAN\n",
    "from tf_lab.point_clouds.latent_gan import LatentGAN\n",
    "\n",
    "from tf_lab.point_clouds.point_net_ae import PointNetAutoEncoder\n",
    "\n",
    "\n",
    "from tf_lab.nips.evaluate_gan import entropy_of_occupancy_grid, \\\n",
    "                                    point_cloud_distances, jensen_shannon_divergence, sample_pclouds_distances\n",
    "\n",
    "from tf_lab.point_clouds.gan import model_saver_id\n",
    "\n",
    "from tf_lab.autopredictors.exploration import find_neighbors\n",
    "\n",
    "from tf_lab.nips.helper import pclouds_centered_and_half_sphere\n",
    "\n",
    "\n",
    "from tf_lab.point_clouds.generators_discriminators import latent_code_discriminator, convolutional_discriminator,\\\n",
    "                                                          latent_code_generator, leaky_relu"
   ]
  },
  {
   "cell_type": "code",
   "execution_count": 3,
   "metadata": {
    "collapsed": false,
    "deletable": true,
    "editable": true
   },
   "outputs": [],
   "source": [
    "%load_ext autoreload\n",
    "%autoreload 2\n",
    "%matplotlib inline"
   ]
  },
  {
   "cell_type": "code",
   "execution_count": 4,
   "metadata": {
    "collapsed": false,
    "deletable": true,
    "editable": true
   },
   "outputs": [
    {
     "name": "stdout",
     "output_type": "stream",
     "text": [
      "Give me the class type.\n",
      "chair\n"
     ]
    },
    {
     "data": {
      "text/plain": [
       "'/orions4-zfs/projects/lins2/Panos_Space/DATA/OUT/models/nips/gan/ae_gan/test_ae_gan'"
      ]
     },
     "execution_count": 4,
     "metadata": {},
     "output_type": "execute_result"
    }
   ],
   "source": [
    "n_pc_samples = 2048\n",
    "\n",
    "do_training = True\n",
    "do_plotting = True\n",
    "load_model = False\n",
    "save_model = False\n",
    "seed = 42\n",
    "\n",
    "ae_loss = 'chamfer'\n",
    "class_name = raw_input('Give me the class type.\\n').lower()\n",
    "syn_id = shape_net_category_to_synth_id()[class_name]\n",
    "\n",
    "# experiment_name = 'ae_'+ ae_loss +'_1c_gan_'+ class_name +'_' + str(n_pc_samples) +  '_pts'\n",
    "experiment_name = 'test_ae_gan'\n",
    "\n",
    "top_data_dir = '/orions4-zfs/projects/lins2/Panos_Space/DATA/'\n",
    "synthetic_data_out_dir = '/orions4-zfs/projects/lins2/Panos_Space/DATA/NIPS/our_samples/'\n",
    "train_dir = osp.join(top_data_dir, 'OUT/models/nips/gan/ae_gan')\n",
    "train_dir = osp.join(train_dir, experiment_name)\n",
    "create_dir(train_dir)"
   ]
  },
  {
   "cell_type": "code",
   "execution_count": 5,
   "metadata": {
    "collapsed": false,
    "deletable": true,
    "editable": true
   },
   "outputs": [
    {
     "name": "stdout",
     "output_type": "stream",
     "text": [
      "6778 files containing complete point clouds were found.\n"
     ]
    }
   ],
   "source": [
    "# Load Raw Point-Clouds of class\n",
    "pclouds_path = osp.join(top_data_dir, 'Point_Clouds/Shape_Net/Core/from_manifold_meshes/centered/', str(n_pc_samples))\n",
    "pclouds_path = osp.join(pclouds_path, syn_id)\n",
    "file_names = pio.load_filenames_of_input_data(pclouds_path, '.ply')\n",
    "pclouds, model_ids, syn_ids = pio.load_crude_point_clouds(file_names=file_names, n_threads=50, loader=sn_pc_loader)\n",
    "print '%d files containing complete point clouds were found.' % (len(pclouds), )"
   ]
  },
  {
   "cell_type": "code",
   "execution_count": 6,
   "metadata": {
    "collapsed": false,
    "deletable": true,
    "editable": true
   },
   "outputs": [
    {
     "name": "stdout",
     "output_type": "stream",
     "text": [
      "                    batch_size: 50\n",
      "                 consistent_io: None\n",
      "                         debug: False\n",
      "                       decoder: decoder_with_fc_only\n",
      "                  decoder_args: {'layer_sizes': [1024, 2048, 6144]}\n",
      "                       encoder: encoder_with_convs_and_symmetry\n",
      "                  encoder_args: {'filter_sizes': [40, 20, 10, 10], 'n_filters': [128, 128, 256, 512], 'strides': [1, 2, 2, 1]}\n",
      "               experiment_name: chair_conv_arch_1_2048pts_chamfer\n",
      "                 gauss_augment: None\n",
      "                  is_denoising: False\n",
      "               latent_vs_recon: 1.0\n",
      "                 learning_rate: 0.0005\n",
      "                          loss: chamfer\n",
      "             loss_display_step: 1\n",
      "                       n_input: [2048, 3]\n",
      "                      n_output: [2048, 3]\n",
      "                           n_z: None\n",
      "             saver_max_to_keep: None\n",
      "                    saver_step: 10\n",
      "                     train_dir: /orions4-zfs/projects/lins2/Panos_Space/DATA/OUT/models/nips/vanilla_ae/chair_conv_arch_1_2048pts_chamfer\n",
      "               training_epochs: 1000\n",
      "                      z_rotate: False\n",
      "\n",
      "Model restored in epoch 1000.\n"
     ]
    }
   ],
   "source": [
    "# Load Auto-Encoder\n",
    "reset_tf_graph()\n",
    "\n",
    "ae_net_name = 'chair_conv_arch_1_2048pts_chamfer'\n",
    "\n",
    "ae_net_dir = osp.join(top_data_dir, 'OUT/models/nips/vanilla_ae', ae_net_name)\n",
    "\n",
    "ae_conf = Conf.load(osp.join(ae_net_dir, 'configuration'))\n",
    "print ae_conf\n",
    "\n",
    "ae = PointNetAutoEncoder(ae_net_name, ae_conf)\n",
    "saved_epochs = read_saved_epochs(ae_conf.train_dir)\n",
    "last_epoch = saved_epochs[-1]\n",
    "ae.restore_model(ae_conf.train_dir, last_epoch, verbose=True)"
   ]
  },
  {
   "cell_type": "code",
   "execution_count": 7,
   "metadata": {
    "collapsed": false,
    "deletable": true,
    "editable": true
   },
   "outputs": [],
   "source": [
    "# Convert raw-data to latent codes.\n",
    "raw_data = PointCloudDataSet(pclouds, init_shuffle=False)\n",
    "_, latent_codes, _ = latent_embedding_of_entire_dataset(raw_data, ae, ae_conf)\n",
    "training_data = PointCloudDataSet(latent_codes)"
   ]
  },
  {
   "cell_type": "code",
   "execution_count": 19,
   "metadata": {
    "collapsed": false,
    "deletable": true,
    "editable": true
   },
   "outputs": [],
   "source": [
    "init_lr = 0.0005\n",
    "n_out = [latent_codes.shape[1]]\n",
    "\n",
    "max_epochs = 100\n",
    "batch_size = 50\n",
    "\n",
    "noise_params = {'mu':0, 'sigma': 0.5}\n",
    "noise_dim = 512\n",
    "init_lr = 0.0005\n",
    "leak = 0.1\n",
    "\n",
    "n_syn_samples = training_data.num_examples  # Same number as original GT data.\n",
    "accum_syn_data = []\n",
    "train_stats = []\n",
    "\n",
    "# disc_kwargs = {'non_linearity': leaky_relu(leak)}\n",
    "# disc_kwargs = {}\n",
    "gen_kwargs = {}\n",
    "\n",
    "reset_tf_graph()\n",
    "\n",
    "gan = LatentGAN(experiment_name, init_lr, n_out, noise_dim, \n",
    "             latent_code_discriminator, latent_code_generator, \n",
    "             gen_kwargs=gen_kwargs, disc_kwargs=disc_kwargs)"
   ]
  },
  {
   "cell_type": "code",
   "execution_count": 20,
   "metadata": {
    "collapsed": false,
    "deletable": true,
    "editable": true
   },
   "outputs": [
    {
     "name": "stdout",
     "output_type": "stream",
     "text": [
      "1 (1.1772937187442074, 1.5761736269350406)\n",
      "2 (0.95066956281661985, 1.7756829107249226)\n",
      "3 (1.0402400193391024, 1.4826362587787487)\n",
      "4 (1.114172844533567, 1.2104722504262571)\n",
      "5 (1.1806822997552378, 1.0420079637456823)\n",
      "6 (1.1403740529660826, 1.1261001035019202)\n",
      "7 (1.1578191443725869, 1.1903696537017823)\n",
      "8 (1.1422793330969634, 1.2873361614015368)\n",
      "9 (1.1590454238432426, 1.2363342744332773)\n",
      "10 (1.1900741360805653, 1.1717745299692508)\n",
      "11 (1.1928505438345449, 1.137868454721239)\n",
      "12 (1.1718846360842388, 1.2129549997824209)\n",
      "13 (1.1693230032920838, 1.185660727377291)\n",
      "14 (1.1689895510673523, 1.1453705240178991)\n",
      "15 (1.1797422824082551, 1.1505776211067482)\n",
      "16 (1.1862817781942863, 1.0824684814170555)\n",
      "17 (1.1949514954178422, 1.1184807477173981)\n",
      "18 (1.1905543658468458, 1.1321701014483416)\n",
      "19 (1.2063079136389274, 1.0562847910103974)\n",
      "20 (1.1879165746547558, 1.1234457325052332)\n",
      "21 (1.1759612414571974, 1.1612391900133203)\n",
      "22 (1.1881277675981874, 1.1054914902757715)\n",
      "23 (1.1794314287326955, 1.1559141662385728)\n",
      "24 (1.1801025487758494, 1.1704956098839088)\n",
      "25 (1.1756018687177587, 1.1222241538542288)\n",
      "26 (1.1878617299927605, 1.1333866468182316)\n",
      "27 (1.1817150738504199, 1.1395870089530944)\n",
      "28 (1.1935495831348277, 1.0940739658143785)\n",
      "29 (1.1991060839758978, 1.0897881039866695)\n",
      "30 (1.2055136035989833, 1.0779264043878627)\n",
      "31 (1.1953584724002415, 1.1054405185911391)\n",
      "32 (1.2050199084811741, 1.0698129481739469)\n",
      "33 (1.1951846904224819, 1.0846756935119628)\n",
      "34 (1.1892277267244127, 1.1222594256754275)\n",
      "35 (1.2055610418319702, 1.095298464209945)\n",
      "36 (1.1769320028799553, 1.1363395271477876)\n",
      "37 (1.1646674482910722, 1.1708512941996256)\n",
      "38 (1.1753534347922714, 1.1493431320896854)\n",
      "39 (1.1775678193127668, 1.1286191856419598)\n",
      "40 (1.178306054185938, 1.1407567593786452)\n",
      "41 (1.1683835780179059, 1.1162259176925378)\n",
      "42 (1.1823301324137936, 1.1289220867333589)\n",
      "43 (1.1664362646915294, 1.1581845305584095)\n",
      "44 (1.1551056627874021, 1.1315749305265921)\n",
      "45 (1.151586205429501, 1.2193274630440607)\n",
      "46 (1.1687138866495204, 1.1281486241905778)\n",
      "47 (1.1817886961830988, 1.0845662399574563)\n",
      "48 (1.1603655559045296, 1.1542736097618385)\n",
      "49 (1.1565951886000456, 1.1590067633876093)\n",
      "50 (1.1658546990818448, 1.1214553696137888)\n",
      "51 (1.1637034756165963, 1.1398348702324761)\n",
      "52 (1.1583026885986327, 1.1429185138808355)\n",
      "53 (1.1689483148080331, 1.1483043158495867)\n",
      "54 (1.1487526425608883, 1.1928078947243868)\n",
      "55 (1.1553782485149524, 1.1818957673178778)\n",
      "56 (1.1483135364673756, 1.1755655165071841)\n",
      "57 (1.1366491379561248, 1.2229069162298132)\n",
      "58 (1.1189902455718428, 1.2346087482240464)\n",
      "59 (1.1276759258023015, 1.2277230086149993)\n",
      "60 (1.1147009575808491, 1.2672224618770458)\n",
      "61 (1.1174696913471929, 1.2724979647883663)\n",
      "62 (1.1092192190664787, 1.2709847185346814)\n",
      "63 (1.0753748377164205, 1.3116661319026242)\n",
      "64 (1.0804862742070798, 1.3175279449533532)\n",
      "65 (1.0681386121997127, 1.324704928751345)\n",
      "66 (1.0794736637009514, 1.3043532777715612)\n",
      "67 (1.0599949823485479, 1.3656779668949268)\n",
      "68 (1.0705542493749547, 1.3325692847922996)\n",
      "69 (1.0536209552376359, 1.3601768661428382)\n",
      "70 (1.045149783734922, 1.4051297231956765)\n",
      "71 (1.0407867347752606, 1.442339997821384)\n",
      "72 (1.0169014661400406, 1.456238779315242)\n",
      "73 (1.016154659235919, 1.4813503283041496)\n",
      "74 (1.0247982086958709, 1.4501004678231699)\n",
      "75 (1.0034825947549608, 1.5448743793699475)\n",
      "76 (0.99284336257863925, 1.5399227945892899)\n",
      "77 (1.0069233991481639, 1.5332991388108996)\n",
      "78 (0.97276379620587383, 1.6041275986918697)\n",
      "79 (0.97748699762203073, 1.5680030133989122)\n",
      "80 (0.9753586645479555, 1.5923155334260728)\n",
      "81 (0.95573260077723754, 1.6101716924596716)\n",
      "82 (0.94477600521511507, 1.6539142087653831)\n",
      "83 (0.94985403264010393, 1.6543117779272574)\n",
      "84 (0.9465158952607049, 1.6871990972095066)\n",
      "85 (0.91221426107265335, 1.7510771230415061)\n",
      "86 (0.94181347114068492, 1.7552333884769016)\n",
      "87 (0.9214642807289406, 1.7554860353469848)\n",
      "88 (0.91250806163858489, 1.7893737254319368)\n",
      "89 (0.90701902000992385, 1.7950224876403809)\n",
      "90 (0.88180400177284524, 1.8358094259544655)\n",
      "91 (0.87739674912558663, 1.8780694069685759)\n",
      "92 (0.85501006002779356, 1.9379271922288117)\n",
      "93 (0.83694920937220252, 1.9698951067747894)\n",
      "94 (0.84078702308513498, 1.9896656318947121)\n",
      "95 (0.83255931933720906, 2.0201185950526486)\n",
      "96 (0.81280853240578266, 2.0596185534088698)\n",
      "97 (0.8157903772813303, 2.09780137097394)\n",
      "98 (0.8195537580384149, 2.0990180315794769)\n",
      "99 (0.81196545097563, 2.1419795106958461)\n",
      "100 (0.80870814676638003, 2.0954680698889274)\n"
     ]
    }
   ],
   "source": [
    "if do_training:\n",
    "    for _ in range(max_epochs):        \n",
    "        loss, duration = gan._single_epoch_train(training_data, batch_size, noise_params)\n",
    "        epoch = int(gan.sess.run(gan.epoch.assign_add(tf.constant(1.0))))\n",
    "        print epoch, loss\n",
    "\n",
    "        syn_latent_data = gan.generate(n_syn_samples, noise_params)\n",
    "        syn_data = ae.decode(syn_latent_data)\n",
    "        accum_syn_data.append(syn_data)                \n",
    "#         if save_model:\n",
    "#             checkpoint_path = osp.join(train_dir, model_saver_id)\n",
    "#             gan.saver.save(gan.sess, checkpoint_path, global_step=gan.epoch)\n",
    "        train_stats.append((epoch,) + loss)"
   ]
  },
  {
   "cell_type": "code",
   "execution_count": 21,
   "metadata": {
    "collapsed": false,
    "deletable": true,
    "editable": true
   },
   "outputs": [
    {
     "data": {
      "image/png": "[encoded data removed]",
      "text/plain": [
       "<matplotlib.figure.Figure at 0x7f12321ddcd0>"
      ]
     },
     "metadata": {},
     "output_type": "display_data"
    }
   ],
   "source": [
    "if do_plotting:\n",
    "    x = range(len(train_stats))\n",
    "    d_loss = [t[1] for t in train_stats]\n",
    "    g_loss = [t[2] for t in train_stats]\n",
    "    plt.plot(x, d_loss)\n",
    "    plt.plot(x, g_loss)\n",
    "    plt.title('Latent GAN: %s training.' %(class_name,))\n",
    "    plt.legend(['d_loss', 'g_loss'], loc=0)\n",
    "    plt.xlabel('Epochs.')\n",
    "    plt.ylabel('Loss.')\n",
    "#     plt.figure()\n",
    "#     plt.plot(range(len(jsd)), jsd)\n",
    "#     plt.xlabel('Epochs.')\n",
    "#     plt.ylabel('JSD in Voxel-Space.')\n",
    "#     plt.figure()\n",
    "#     plt.xlabel('Epochs.')\n",
    "#     plt.ylabel('Average EMD distances.')\n",
    "#     plt.plot(range(len(mean_emd_dists)), mean_emd_dists)\n",
    "#     plt.plot(range(len(mean_emd_dists)), np.ones(len(mean_emd_dists)) * 302.4, '--r' )"
   ]
  },
  {
   "cell_type": "code",
   "execution_count": 32,
   "metadata": {
    "collapsed": false,
    "deletable": true,
    "editable": true
   },
   "outputs": [],
   "source": [
    "epoch_to_check = 100\n",
    "n_check = 40\n",
    "check_data = accum_syn_data[epoch_to_check-1]\n",
    "rids = np.random.choice(range(len(check_data)), size=n_check, replace=False)\n",
    "\n",
    "for i in range(n_check):\n",
    "    Point_Cloud(check_data[rids[i]]).plot()"
   ]
  },
  {
   "cell_type": "code",
   "execution_count": null,
   "metadata": {
    "collapsed": true
   },
   "outputs": [],
   "source": []
  },
  {
   "cell_type": "code",
   "execution_count": 25,
   "metadata": {
    "collapsed": true
   },
   "outputs": [],
   "source": [
    "voxel_resolution = 32\n",
    "_, gt_voxel_rv = entropy_of_occupancy_grid(pclouds, voxel_resolution)\n",
    "_, s_var = entropy_of_occupancy_grid(check_data, voxel_resolution)"
   ]
  },
  {
   "cell_type": "code",
   "execution_count": 30,
   "metadata": {
    "collapsed": false,
    "deletable": true,
    "editable": true
   },
   "outputs": [],
   "source": [
    "all_gt_dists = sample_pclouds_distances(pclouds, 10, 100, 'emd', gan.sess)\n",
    "all_syn_dists = sample_pclouds_distances(check_data, 10, 100, 'emd', gan.sess)"
   ]
  },
  {
   "cell_type": "code",
   "execution_count": 31,
   "metadata": {
    "collapsed": false,
    "deletable": true,
    "editable": true
   },
   "outputs": [
    {
     "name": "stdout",
     "output_type": "stream",
     "text": [
      "301.28 186.242\n"
     ]
    }
   ],
   "source": [
    "print np.mean(all_gt_dists), np.mean(all_syn_dists)"
   ]
  }
 ],
 "metadata": {
  "kernelspec": {
   "display_name": "Python 2",
   "language": "python",
   "name": "python2"
  },
  "language_info": {
   "codemirror_mode": {
    "name": "ipython",
    "version": 2
   },
   "file_extension": ".py",
   "mimetype": "text/x-python",
   "name": "python",
   "nbconvert_exporter": "python",
   "pygments_lexer": "ipython2",
   "version": "2.7.6"
  }
 },
 "nbformat": 4,
 "nbformat_minor": 2
}
