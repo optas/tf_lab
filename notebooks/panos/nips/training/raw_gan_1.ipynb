{
 "cells": [
  {
   "cell_type": "code",
   "execution_count": 1,
   "metadata": {
    "collapsed": false,
    "deletable": true,
    "editable": true
   },
   "outputs": [
    {
     "name": "stdout",
     "output_type": "stream",
     "text": [
      "Picking GPU 0\n"
     ]
    }
   ],
   "source": [
    "from general_tools.notebook.gpu_utils import setup_one_gpu\n",
    "GPU = 0\n",
    "setup_one_gpu(GPU)"
   ]
  },
  {
   "cell_type": "code",
   "execution_count": 2,
   "metadata": {
    "collapsed": false,
    "deletable": true,
    "editable": true
   },
   "outputs": [
    {
     "name": "stderr",
     "output_type": "stream",
     "text": [
      "/orions4-zfs/projects/lins2/Panos_Space/Git_Repos/geo_tool/solids/mesh.py:26: UserWarning: Mayavi library was not found. Some graphics utilities will be disabled.\n",
      "  warnings.warn('Mayavi library was not found. Some graphics utilities will be disabled.')\n"
     ]
    }
   ],
   "source": [
    "import sys\n",
    "import time\n",
    "import numpy as np\n",
    "import os.path as osp\n",
    "import tensorflow as tf\n",
    "import matplotlib.pyplot as plt\n",
    "\n",
    "from general_tools.notebook.tf import reset_tf_graph\n",
    "\n",
    "import tf_lab.point_clouds.in_out as pio\n",
    "\n",
    "from tf_lab.point_clouds.in_out import PointCloudDataSet, write_model_ids_of_datasets\n",
    "\n",
    "from tf_lab.point_clouds.autoencoder import Configuration as Conf\n",
    "\n",
    "from tf_lab.autopredictors.scripts.helper import shape_net_category_to_synth_id\n",
    "                                                  \n",
    "from general_tools.in_out.basics import create_dir, files_in_subdirs\n",
    "\n",
    "from general_tools.simpletons import select_first_last_and_k\n",
    "\n",
    "from geo_tool import Point_Cloud\n",
    "\n",
    "from tf_lab.point_clouds.gan import model_saver_id\n",
    "\n",
    "from tf_lab.nips.shape_net import pc_loader as sn_pc_loader\n",
    "\n",
    "from tf_lab.point_clouds.raw_gan import RawGAN\n",
    "\n",
    "from tf_lab.point_clouds.generators_discriminators import mlp_discriminator, convolutional_discriminator,\\\n",
    "                                                          point_cloud_generator, leaky_relu"
   ]
  },
  {
   "cell_type": "code",
   "execution_count": 3,
   "metadata": {
    "collapsed": false,
    "deletable": true,
    "editable": true
   },
   "outputs": [],
   "source": [
    "%load_ext autoreload\n",
    "%autoreload 2\n",
    "%matplotlib inline"
   ]
  },
  {
   "cell_type": "code",
   "execution_count": 15,
   "metadata": {
    "collapsed": false,
    "deletable": true,
    "editable": true
   },
   "outputs": [
    {
     "name": "stdout",
     "output_type": "stream",
     "text": [
      "Give me the class type.\n",
      "chair\n"
     ]
    }
   ],
   "source": [
    "n_pc_samples = 2048\n",
    "do_training = True\n",
    "do_plotting = True\n",
    "seed = 42\n",
    "\n",
    "is_convolutional = False\n",
    "save_model = True\n",
    "save_synthetic_samples = True\n",
    "\n",
    "class_name = raw_input('Give me the class type.\\n').lower()\n",
    "syn_id = shape_net_category_to_synth_id()[class_name]\n",
    "synthetic_data_out_dir = '/orions4-zfs/projects/lins2/Panos_Space/DATA/NIPS/our_samples/'\n",
    "\n",
    "\n",
    "if is_convolutional:\n",
    "    arch_tag = 'convolutional_arch'\n",
    "    leak = 0.2\n",
    "    adaptive_training = 0.8\n",
    "    discriminator = convolutional_discriminator\n",
    "    disc_kwargs = { 'encoder_args' : {'n_filters': [128, 128, 256, 512],\n",
    "                                      'filter_sizes': [40, 20, 10, 10],\n",
    "                                      'strides': [1, 2, 2, 1]},\n",
    "                                      'decoder_layer_sizes':[128, 64, 1],\n",
    "                                      'non_linearity': leaky_relu(leak)\n",
    "                  }\n",
    "    max_epochs = 50\n",
    "\n",
    "else:\n",
    "    max_epochs = 50\n",
    "    arch_tag = 'mlp_arch'\n",
    "    discriminator = mlp_discriminator\n",
    "    disc_kwargs = {}\n",
    "    adaptive_training = None\n",
    "    \n",
    "generator = point_cloud_generator\n",
    "gen_kwargs = { 'b_norm': False, 'layer_sizes':[64, 128, 256, 512, 1024]}\n",
    " \n",
    "experiment_name = class_name + '_'+ arch_tag + '_raw_gan_' + str(n_pc_samples) +  '_pts'"
   ]
  },
  {
   "cell_type": "code",
   "execution_count": 6,
   "metadata": {
    "collapsed": false,
    "deletable": true,
    "editable": true
   },
   "outputs": [
    {
     "name": "stdout",
     "output_type": "stream",
     "text": [
      "6778 files containing complete point clouds were found.\n"
     ]
    }
   ],
   "source": [
    "top_data_dir = '/orions4-zfs/projects/lins2/Panos_Space/DATA/'\n",
    "train_dir = osp.join(top_data_dir, 'OUT/models/nips/gan/raw_gan')\n",
    "train_dir = osp.join(train_dir, experiment_name)\n",
    "create_dir(train_dir)\n",
    "\n",
    "full_pclouds_path = osp.join(top_data_dir, 'Point_Clouds/Shape_Net/Core/from_manifold_meshes/centered/', str(n_pc_samples))\n",
    "full_pclouds_path = osp.join(full_pclouds_path, syn_id)\n",
    "full_file_names = pio.load_filenames_of_input_data(full_pclouds_path, '.ply')\n",
    "full_pclouds, full_model_ids, full_syn_ids = pio.load_crude_point_clouds(file_names=full_file_names,\n",
    "                                                                           n_threads=25, loader=sn_pc_loader)\n",
    "print '%d files containing complete point clouds were found.' % (len(full_pclouds), )"
   ]
  },
  {
   "cell_type": "code",
   "execution_count": 10,
   "metadata": {
    "collapsed": false,
    "deletable": true,
    "editable": true
   },
   "outputs": [],
   "source": [
    "training_data = PointCloudDataSet(full_pclouds)\n",
    "\n",
    "batch_size = 50\n",
    "noise_params = {'mu':0, 'sigma': 0.5}\n",
    "noise_dim = 512\n",
    "init_lr = 0.0005\n",
    "\n",
    "n_syn_samples = training_data.num_examples  # Same number as original GT data."
   ]
  },
  {
   "cell_type": "code",
   "execution_count": null,
   "metadata": {
    "collapsed": false,
    "deletable": true,
    "editable": true
   },
   "outputs": [],
   "source": [
    "reset_tf_graph()\n",
    "\n",
    "gan = RawGAN(experiment_name, init_lr, [n_pc_samples, 3], noise_dim,\n",
    "             discriminator, generator, gen_kwargs=gen_kwargs, disc_kwargs=disc_kwargs)\n",
    "\n",
    "accum_syn_data = []\n",
    "train_stats = []"
   ]
  },
  {
   "cell_type": "code",
   "execution_count": null,
   "metadata": {
    "collapsed": false,
    "deletable": true,
    "editable": true
   },
   "outputs": [
    {
     "name": "stdout",
     "output_type": "stream",
     "text": [
      "1 (1.378738534009015, 0.76296944441618741) 30.3875918388\n",
      "INFO:tensorflow:/orions4-zfs/projects/lins2/Panos_Space/DATA/OUT/models/nips/gan/raw_gan/chair_mlp_arch_raw_gan_2048_pts/models.ckpt-1 is not in all_model_checkpoint_paths. Manually adding it.\n",
      "2 (1.3344883238827741, 0.88051382568147452) 29.6263949871\n",
      "INFO:tensorflow:/orions4-zfs/projects/lins2/Panos_Space/DATA/OUT/models/nips/gan/raw_gan/chair_mlp_arch_raw_gan_2048_pts/models.ckpt-2 is not in all_model_checkpoint_paths. Manually adding it.\n",
      "3 (1.1374727357316901, 1.3591595141975967) 29.7364649773\n",
      "INFO:tensorflow:/orions4-zfs/projects/lins2/Panos_Space/DATA/OUT/models/nips/gan/raw_gan/chair_mlp_arch_raw_gan_2048_pts/models.ckpt-3 is not in all_model_checkpoint_paths. Manually adding it.\n",
      "4 (0.92010584528799411, 1.7048486122378597) 29.9943768978\n",
      "INFO:tensorflow:/orions4-zfs/projects/lins2/Panos_Space/DATA/OUT/models/nips/gan/raw_gan/chair_mlp_arch_raw_gan_2048_pts/models.ckpt-4 is not in all_model_checkpoint_paths. Manually adding it.\n",
      "5 (0.98875213132964235, 1.435501296873446) 30.0166890621\n",
      "INFO:tensorflow:/orions4-zfs/projects/lins2/Panos_Space/DATA/OUT/models/nips/gan/raw_gan/chair_mlp_arch_raw_gan_2048_pts/models.ckpt-5 is not in all_model_checkpoint_paths. Manually adding it.\n",
      "6 (0.87425100174215109, 1.7484510721983733) 30.0923709869\n",
      "INFO:tensorflow:/orions4-zfs/projects/lins2/Panos_Space/DATA/OUT/models/nips/gan/raw_gan/chair_mlp_arch_raw_gan_2048_pts/models.ckpt-6 is not in all_model_checkpoint_paths. Manually adding it.\n",
      "7 (0.88994030312255579, 1.5028932566995974) 30.0295579433\n",
      "INFO:tensorflow:/orions4-zfs/projects/lins2/Panos_Space/DATA/OUT/models/nips/gan/raw_gan/chair_mlp_arch_raw_gan_2048_pts/models.ckpt-7 is not in all_model_checkpoint_paths. Manually adding it.\n",
      "8 (0.9395538208661256, 1.5956694134959468) 30.183437109\n",
      "INFO:tensorflow:/orions4-zfs/projects/lins2/Panos_Space/DATA/OUT/models/nips/gan/raw_gan/chair_mlp_arch_raw_gan_2048_pts/models.ckpt-8 is not in all_model_checkpoint_paths. Manually adding it.\n",
      "9 (1.0105073434335214, 1.2932626574127764) 30.0526981354\n",
      "INFO:tensorflow:/orions4-zfs/projects/lins2/Panos_Space/DATA/OUT/models/nips/gan/raw_gan/chair_mlp_arch_raw_gan_2048_pts/models.ckpt-9 is not in all_model_checkpoint_paths. Manually adding it.\n",
      "10 (1.0099144630961947, 1.1698841351049918) 30.030092001\n",
      "INFO:tensorflow:/orions4-zfs/projects/lins2/Panos_Space/DATA/OUT/models/nips/gan/raw_gan/chair_mlp_arch_raw_gan_2048_pts/models.ckpt-10 is not in all_model_checkpoint_paths. Manually adding it.\n",
      "11 (0.85301799730018335, 1.3792577271108275) 30.0084040165\n",
      "INFO:tensorflow:/orions4-zfs/projects/lins2/Panos_Space/DATA/OUT/models/nips/gan/raw_gan/chair_mlp_arch_raw_gan_2048_pts/models.ckpt-11 is not in all_model_checkpoint_paths. Manually adding it.\n",
      "12 (1.029765671491623, 1.315663218056714) 30.0247159004\n",
      "INFO:tensorflow:/orions4-zfs/projects/lins2/Panos_Space/DATA/OUT/models/nips/gan/raw_gan/chair_mlp_arch_raw_gan_2048_pts/models.ckpt-12 is not in all_model_checkpoint_paths. Manually adding it.\n",
      "13 (0.95972248006750038, 1.452008675204383) 29.9311311245\n",
      "INFO:tensorflow:/orions4-zfs/projects/lins2/Panos_Space/DATA/OUT/models/nips/gan/raw_gan/chair_mlp_arch_raw_gan_2048_pts/models.ckpt-13 is not in all_model_checkpoint_paths. Manually adding it.\n",
      "14 (0.95245662331581116, 1.3986955845797504) 30.0685939789\n",
      "INFO:tensorflow:/orions4-zfs/projects/lins2/Panos_Space/DATA/OUT/models/nips/gan/raw_gan/chair_mlp_arch_raw_gan_2048_pts/models.ckpt-14 is not in all_model_checkpoint_paths. Manually adding it.\n",
      "15 (1.2269024619349727, 1.0291794838728727) 30.0211648941\n",
      "INFO:tensorflow:/orions4-zfs/projects/lins2/Panos_Space/DATA/OUT/models/nips/gan/raw_gan/chair_mlp_arch_raw_gan_2048_pts/models.ckpt-15 is not in all_model_checkpoint_paths. Manually adding it.\n",
      "16 (0.89135609158763174, 1.3184151658305416) 30.0275700092\n",
      "INFO:tensorflow:/orions4-zfs/projects/lins2/Panos_Space/DATA/OUT/models/nips/gan/raw_gan/chair_mlp_arch_raw_gan_2048_pts/models.ckpt-16 is not in all_model_checkpoint_paths. Manually adding it.\n",
      "17 (0.94853306567227402, 1.3515927380985684) 29.9160549641\n",
      "INFO:tensorflow:/orions4-zfs/projects/lins2/Panos_Space/DATA/OUT/models/nips/gan/raw_gan/chair_mlp_arch_raw_gan_2048_pts/models.ckpt-17 is not in all_model_checkpoint_paths. Manually adding it.\n",
      "18 (0.97592874047932798, 1.3546391875655563) 30.0558838844\n",
      "INFO:tensorflow:/orions4-zfs/projects/lins2/Panos_Space/DATA/OUT/models/nips/gan/raw_gan/chair_mlp_arch_raw_gan_2048_pts/models.ckpt-18 is not in all_model_checkpoint_paths. Manually adding it.\n",
      "19 (0.86043222833562782, 1.3341535541746352) 30.0058820248\n",
      "INFO:tensorflow:/orions4-zfs/projects/lins2/Panos_Space/DATA/OUT/models/nips/gan/raw_gan/chair_mlp_arch_raw_gan_2048_pts/models.ckpt-19 is not in all_model_checkpoint_paths. Manually adding it.\n",
      "20 (0.80476668300452059, 1.5351529532008701) 30.1935520172\n",
      "INFO:tensorflow:/orions4-zfs/projects/lins2/Panos_Space/DATA/OUT/models/nips/gan/raw_gan/chair_mlp_arch_raw_gan_2048_pts/models.ckpt-20 is not in all_model_checkpoint_paths. Manually adding it.\n",
      "21 (0.85532262921333313, 1.4722278347721807) 30.0251369476\n",
      "INFO:tensorflow:/orions4-zfs/projects/lins2/Panos_Space/DATA/OUT/models/nips/gan/raw_gan/chair_mlp_arch_raw_gan_2048_pts/models.ckpt-21 is not in all_model_checkpoint_paths. Manually adding it.\n",
      "22 (0.84210997135550891, 1.4475760490806013) 30.0453038216\n",
      "INFO:tensorflow:/orions4-zfs/projects/lins2/Panos_Space/DATA/OUT/models/nips/gan/raw_gan/chair_mlp_arch_raw_gan_2048_pts/models.ckpt-22 is not in all_model_checkpoint_paths. Manually adding it.\n",
      "23 (0.90595253374841478, 1.7631679888124818) 30.0389518738\n",
      "INFO:tensorflow:/orions4-zfs/projects/lins2/Panos_Space/DATA/OUT/models/nips/gan/raw_gan/chair_mlp_arch_raw_gan_2048_pts/models.ckpt-23 is not in all_model_checkpoint_paths. Manually adding it.\n",
      "24 (0.95416281355751886, 1.231283876630995) 29.98909688\n",
      "INFO:tensorflow:/orions4-zfs/projects/lins2/Panos_Space/DATA/OUT/models/nips/gan/raw_gan/chair_mlp_arch_raw_gan_2048_pts/models.ckpt-24 is not in all_model_checkpoint_paths. Manually adding it.\n"
     ]
    }
   ],
   "source": [
    "if do_training:\n",
    "    for _ in range(max_epochs):\n",
    "        loss, duration = gan._single_epoch_train(training_data, batch_size, noise_params, adaptive=adaptive_training)\n",
    "        epoch = int(gan.sess.run(gan.epoch.assign_add(tf.constant(1.0))))\n",
    "        print epoch, loss, duration\n",
    "        if save_model:\n",
    "            checkpoint_path = osp.join(train_dir, model_saver_id)\n",
    "            gan.saver.save(gan.sess, checkpoint_path, global_step=gan.epoch)\n",
    "        train_stats.append((epoch,) + loss)\n",
    "        accum_syn_data.append(gan.generate(n_syn_samples, noise_params))"
   ]
  },
  {
   "cell_type": "code",
   "execution_count": null,
   "metadata": {
    "collapsed": false,
    "deletable": true,
    "editable": true
   },
   "outputs": [],
   "source": [
    "epoch_to_check = 50\n",
    "n_check = 10\n",
    "check_data = accum_syn_data[epoch_to_check-1]\n",
    "rids = np.random.choice(range(len(check_data)), size=n_check, replace=False)\n",
    "for i in range(n_check):\n",
    "    Point_Cloud(check_data[rids[i]]).plot()    "
   ]
  },
  {
   "cell_type": "code",
   "execution_count": null,
   "metadata": {
    "collapsed": false,
    "deletable": true,
    "editable": true
   },
   "outputs": [],
   "source": [
    "if do_plotting:\n",
    "    x = range(len(train_stats))\n",
    "    d_loss = [t[1] for t in train_stats]\n",
    "    g_loss = [t[2] for t in train_stats]\n",
    "    plt.plot(x, d_loss)\n",
    "    plt.plot(x, g_loss)\n",
    "    plt.title('Raw GAN training. (%s, %s)' % (class_name, arch_tag) )\n",
    "    plt.legend(['d_loss', 'g_loss'], loc=0)\n",
    "    plt.xlabel('Epochs.')\n",
    "    plt.ylabel('Loss.')"
   ]
  },
  {
   "cell_type": "code",
   "execution_count": null,
   "metadata": {
    "collapsed": false,
    "deletable": true,
    "editable": true
   },
   "outputs": [],
   "source": [
    "if save_synthetic_samples:    \n",
    "    save_dir = osp.join(synthetic_data_out_dir, experiment_name)\n",
    "    create_dir(save_dir)\n",
    "    epochs_to_save = range(1, 100, 5) # Save every 5 epochs\n",
    "    for i in epochs_to_save:\n",
    "        np.savez(osp.join(save_dir, 'epoch_' + str(i)), accum_syn_data[i-1])"
   ]
  },
  {
   "cell_type": "code",
   "execution_count": null,
   "metadata": {
    "collapsed": true
   },
   "outputs": [],
   "source": [
    "# disc_kwargs = {'encoder_args':{'n_filters': [64, 128, 512, 1024], \n",
    "#                                'filter_sizes': [1, 1, 1, 1], \n",
    "#                                'strides': [1, 1, 1, 1]},\n",
    "\n",
    "#                'decoder_layer_sizes':[128, 64, 1]               \n",
    "#               }\n",
    "\n",
    "# disc_kwargs = {'encoder_args':{'n_filters': [64, 128, 256, 512], \n",
    "#                                'filter_sizes': [40, 20, 20, 10], \n",
    "#                                'strides': [5, 5, 5, 5]},\n",
    "\n",
    "#                'decoder_layer_sizes':[128, 64, 1]\n",
    "#               }\n",
    "\n",
    "# from tflearn.layers.core import fully_connected\n",
    "# from tflearn.layers.normalization import batch_normalization\n",
    "\n",
    "# def point_cloud_generator(z, n_points, layer_sizes=[64, 128, 512, 1024], b_norm=False, b_norm_last=False):\n",
    "#     out_signal = decoder_with_fc_only(z, layer_sizes=layer_sizes, b_norm=b_norm)\n",
    "#     out_signal = tf.nn.relu(out_signal)\n",
    "#     if b_norm_last:\n",
    "#         out_signal = batch_normalization(out_signal)\n",
    "\n",
    "#     out_signal = fully_connected(out_signal, np.prod([n_points, 3]), activation='linear', weights_init='xavier')\n",
    "#     out_signal = tf.reshape(out_signal, [-1, n_points, 3])\n",
    "#     return out_signal"
   ]
  }
 ],
 "metadata": {
  "kernelspec": {
   "display_name": "Python 2",
   "language": "python",
   "name": "python2"
  },
  "language_info": {
   "codemirror_mode": {
    "name": "ipython",
    "version": 2
   },
   "file_extension": ".py",
   "mimetype": "text/x-python",
   "name": "python",
   "nbconvert_exporter": "python",
   "pygments_lexer": "ipython2",
   "version": "2.7.6"
  }
 },
 "nbformat": 4,
 "nbformat_minor": 2
}
