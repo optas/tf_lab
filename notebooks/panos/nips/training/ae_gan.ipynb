{
 "cells": [
  {
   "cell_type": "code",
   "execution_count": 1,
   "metadata": {
    "collapsed": false,
    "deletable": true,
    "editable": true
   },
   "outputs": [
    {
     "name": "stdout",
     "output_type": "stream",
     "text": [
      "Picking GPU 1\n"
     ]
    }
   ],
   "source": [
    "from general_tools.notebook.gpu_utils import setup_one_gpu\n",
    "GPU = 1\n",
    "setup_one_gpu(GPU)"
   ]
  },
  {
   "cell_type": "code",
   "execution_count": 3,
   "metadata": {
    "collapsed": false,
    "deletable": true,
    "editable": true
   },
   "outputs": [],
   "source": [
    "import sys\n",
    "import time\n",
    "import numpy as np\n",
    "import os.path as osp\n",
    "import tensorflow as tf\n",
    "import matplotlib.pyplot as plt\n",
    "\n",
    "from general_tools.notebook.tf import reset_tf_graph\n",
    "\n",
    "import tf_lab.point_clouds.in_out as pio\n",
    "from tf_lab.point_clouds.in_out import PointCloudDataSet, write_model_ids_of_datasets\n",
    "\n",
    "from tf_lab.point_clouds.point_net_ae import PointNetAutoEncoder\n",
    "from tf_lab.point_clouds.autoencoder import Configuration as Conf\n",
    "import tf_lab.point_clouds.encoders_decoders as enc_dec\n",
    "\n",
    "from tf_lab.autopredictors.scripts.helper import shape_net_category_to_synth_id\n",
    "\n",
    "from tf_lab.autopredictors.plotting import plot_original_pclouds_vs_reconstructed, \\\n",
    "                                           plot_train_val_test_curves, plot_reconstructions_at_epoch\n",
    "\n",
    "from tf_lab.autopredictors.evaluate import eval_model, read_saved_epochs\n",
    "                                                  \n",
    "from general_tools.in_out.basics import create_dir, delete_files_in_directory, files_in_subdirs\n",
    "from general_tools.simpletons import select_first_last_and_k\n",
    "from geo_tool import Point_Cloud\n",
    "\n",
    "from tf_lab.nips.shape_net import pc_loader as sn_pc_loader\n",
    "from tf_lab.autopredictors.exploration import latent_embedding_of_entire_dataset\n",
    "from tf_lab.point_clouds.raw_gan import RawGAN\n",
    "from tf_lab.point_clouds.latent_gan import LatentGAN\n",
    "\n",
    "from tf_lab.point_clouds.point_net_ae import PointNetAutoEncoder\n",
    "\n",
    "\n",
    "from tf_lab.nips.evaluate_gan import entropy_of_occupancy_grid, \\\n",
    "                                    point_cloud_distances, jensen_shannon_divergence, sample_pclouds_distances\n",
    "\n",
    "from tf_lab.point_clouds.gan import model_saver_id\n",
    "\n",
    "from tf_lab.autopredictors.exploration import find_neighbors\n",
    "\n",
    "from tf_lab.nips.helper import pclouds_centered_and_half_sphere\n",
    "\n",
    "\n",
    "from tf_lab.point_clouds.generators_discriminators import latent_code_discriminator, latent_code_generator"
   ]
  },
  {
   "cell_type": "code",
   "execution_count": 4,
   "metadata": {
    "collapsed": false,
    "deletable": true,
    "editable": true
   },
   "outputs": [],
   "source": [
    "%load_ext autoreload\n",
    "%autoreload 2\n",
    "%matplotlib inline"
   ]
  },
  {
   "cell_type": "code",
   "execution_count": 14,
   "metadata": {
    "collapsed": false,
    "deletable": true,
    "editable": true
   },
   "outputs": [
    {
     "name": "stdout",
     "output_type": "stream",
     "text": [
      "Give me the class type.\n",
      "chair\n"
     ]
    },
    {
     "data": {
      "text/plain": [
       "'/orions4-zfs/projects/lins2/Panos_Space/DATA/OUT/models/nips/gan/ae_gan/ae_emd_chair_2048_pts'"
      ]
     },
     "execution_count": 14,
     "metadata": {},
     "output_type": "execute_result"
    }
   ],
   "source": [
    "n_pc_samples = 2048\n",
    "do_training = True\n",
    "do_plotting = True\n",
    "ae_loss = 'emd'\n",
    "\n",
    "save_synthetic_samples = True\n",
    "save_model = True\n",
    "\n",
    "class_name = raw_input('Give me the class type.\\n').lower()\n",
    "syn_id = shape_net_category_to_synth_id()[class_name]\n",
    "\n",
    "experiment_name = 'ae_'+ ae_loss + '_' + class_name + '_' + str(n_pc_samples) +  '_pts'\n",
    "\n",
    "top_data_dir = '/orions4-zfs/projects/lins2/Panos_Space/DATA/'\n",
    "synthetic_data_out_dir = '/orions4-zfs/projects/lins2/Panos_Space/DATA/OUT/nips/our_synthetic_samples/'\n",
    "train_dir = osp.join(top_data_dir, 'OUT/models/nips/gan/ae_gan')\n",
    "train_dir = osp.join(train_dir, experiment_name)\n",
    "create_dir(train_dir)"
   ]
  },
  {
   "cell_type": "code",
   "execution_count": 15,
   "metadata": {
    "collapsed": false,
    "deletable": true,
    "editable": true
   },
   "outputs": [
    {
     "name": "stdout",
     "output_type": "stream",
     "text": [
      "6778 files containing complete point clouds were found.\n"
     ]
    }
   ],
   "source": [
    "# Load Raw Point-Clouds of class\n",
    "pclouds_path = osp.join(top_data_dir, 'Point_Clouds/Shape_Net/Core/from_manifold_meshes/centered/', str(n_pc_samples))\n",
    "pclouds_path = osp.join(pclouds_path, syn_id)\n",
    "file_names = pio.load_filenames_of_input_data(pclouds_path, '.ply')\n",
    "pclouds, model_ids, syn_ids = pio.load_crude_point_clouds(file_names=file_names, n_threads=50, loader=sn_pc_loader)\n",
    "print '%d files containing complete point clouds were found.' % (len(pclouds), )"
   ]
  },
  {
   "cell_type": "code",
   "execution_count": 16,
   "metadata": {
    "collapsed": false,
    "deletable": true,
    "editable": true
   },
   "outputs": [
    {
     "name": "stdout",
     "output_type": "stream",
     "text": [
      "Model restored in epoch 1000.\n"
     ]
    }
   ],
   "source": [
    "# Load Auto-Encoder\n",
    "reset_tf_graph()\n",
    "\n",
    "ae_net_name = 'chair_conv_arch_1_2048pts_' + ae_loss\n",
    "ae_net_dir = osp.join(top_data_dir, 'OUT/models/nips/vanilla_ae', ae_net_name)\n",
    "ae_conf = Conf.load(osp.join(ae_net_dir, 'configuration'))\n",
    "\n",
    "ae = PointNetAutoEncoder(ae_net_name, ae_conf)\n",
    "saved_epochs = read_saved_epochs(ae_conf.train_dir)\n",
    "last_epoch = saved_epochs[-1]\n",
    "ae.restore_model(ae_conf.train_dir, last_epoch, verbose=True)"
   ]
  },
  {
   "cell_type": "code",
   "execution_count": 17,
   "metadata": {
    "collapsed": false,
    "deletable": true,
    "editable": true
   },
   "outputs": [],
   "source": [
    "# Convert raw-data to latent codes.\n",
    "raw_data = PointCloudDataSet(pclouds, init_shuffle=False)\n",
    "_, latent_codes, _ = latent_embedding_of_entire_dataset(raw_data, ae, ae_conf)\n",
    "training_data = PointCloudDataSet(latent_codes)"
   ]
  },
  {
   "cell_type": "code",
   "execution_count": 18,
   "metadata": {
    "collapsed": false,
    "deletable": true,
    "editable": true
   },
   "outputs": [],
   "source": [
    "init_lr = 0.0005\n",
    "batch_size = 50\n",
    "\n",
    "noise_params = {'mu':0, 'sigma': 0.5}\n",
    "noise_dim = 512\n",
    "max_epochs = 50\n",
    "\n",
    "n_syn_samples = training_data.num_examples  # Same number as original GT data.\n",
    "n_out = [latent_codes.shape[1]]\n",
    "accum_syn_data = []\n",
    "train_stats = []\n",
    "\n",
    "reset_tf_graph()\n",
    "gan = LatentGAN(experiment_name, init_lr, n_out, noise_dim, latent_code_discriminator, latent_code_generator)"
   ]
  },
  {
   "cell_type": "code",
   "execution_count": 19,
   "metadata": {
    "collapsed": false,
    "deletable": true,
    "editable": true
   },
   "outputs": [
    {
     "name": "stdout",
     "output_type": "stream",
     "text": [
      "1 (1.1621246585139522, 1.4723571552170647)\n",
      "INFO:tensorflow:/orions4-zfs/projects/lins2/Panos_Space/DATA/OUT/models/nips/gan/ae_gan/ae_emd_chair_2048_pts/models.ckpt-1 is not in all_model_checkpoint_paths. Manually adding it.\n",
      "2 (1.0557283198391949, 1.5514190461900499)\n",
      "INFO:tensorflow:/orions4-zfs/projects/lins2/Panos_Space/DATA/OUT/models/nips/gan/ae_gan/ae_emd_chair_2048_pts/models.ckpt-2 is not in all_model_checkpoint_paths. Manually adding it.\n",
      "3 (1.1115326514950505, 1.3426023832073919)\n",
      "INFO:tensorflow:/orions4-zfs/projects/lins2/Panos_Space/DATA/OUT/models/nips/gan/ae_gan/ae_emd_chair_2048_pts/models.ckpt-3 is not in all_model_checkpoint_paths. Manually adding it.\n",
      "4 (1.1559299800131055, 1.1835091723336113)\n",
      "INFO:tensorflow:/orions4-zfs/projects/lins2/Panos_Space/DATA/OUT/models/nips/gan/ae_gan/ae_emd_chair_2048_pts/models.ckpt-4 is not in all_model_checkpoint_paths. Manually adding it.\n",
      "5 (1.1754313221684209, 1.1335202309820387)\n",
      "INFO:tensorflow:/orions4-zfs/projects/lins2/Panos_Space/DATA/OUT/models/nips/gan/ae_gan/ae_emd_chair_2048_pts/models.ckpt-5 is not in all_model_checkpoint_paths. Manually adding it.\n",
      "6 (1.1635198098641855, 1.1682025860857082)\n",
      "INFO:tensorflow:/orions4-zfs/projects/lins2/Panos_Space/DATA/OUT/models/nips/gan/ae_gan/ae_emd_chair_2048_pts/models.ckpt-6 is not in all_model_checkpoint_paths. Manually adding it.\n",
      "7 (1.1523246531133298, 1.251588726485217)\n",
      "INFO:tensorflow:/orions4-zfs/projects/lins2/Panos_Space/DATA/OUT/models/nips/gan/ae_gan/ae_emd_chair_2048_pts/models.ckpt-7 is not in all_model_checkpoint_paths. Manually adding it.\n",
      "8 (1.1789914872911242, 1.2351491702927484)\n",
      "INFO:tensorflow:/orions4-zfs/projects/lins2/Panos_Space/DATA/OUT/models/nips/gan/ae_gan/ae_emd_chair_2048_pts/models.ckpt-8 is not in all_model_checkpoint_paths. Manually adding it.\n",
      "9 (1.1787444441406816, 1.1870766339478669)\n",
      "INFO:tensorflow:/orions4-zfs/projects/lins2/Panos_Space/DATA/OUT/models/nips/gan/ae_gan/ae_emd_chair_2048_pts/models.ckpt-9 is not in all_model_checkpoint_paths. Manually adding it.\n",
      "10 (1.1825111106589989, 1.1515724429377803)\n",
      "INFO:tensorflow:/orions4-zfs/projects/lins2/Panos_Space/DATA/OUT/models/nips/gan/ae_gan/ae_emd_chair_2048_pts/models.ckpt-10 is not in all_model_checkpoint_paths. Manually adding it.\n",
      "11 (1.1868498281196311, 1.1910499140068336)\n",
      "INFO:tensorflow:/orions4-zfs/projects/lins2/Panos_Space/DATA/OUT/models/nips/gan/ae_gan/ae_emd_chair_2048_pts/models.ckpt-11 is not in all_model_checkpoint_paths. Manually adding it.\n",
      "12 (1.2057698594199286, 1.1315086837168093)\n",
      "INFO:tensorflow:/orions4-zfs/projects/lins2/Panos_Space/DATA/OUT/models/nips/gan/ae_gan/ae_emd_chair_2048_pts/models.ckpt-12 is not in all_model_checkpoint_paths. Manually adding it.\n",
      "13 (1.2228390596531056, 1.0744654752590037)\n",
      "INFO:tensorflow:/orions4-zfs/projects/lins2/Panos_Space/DATA/OUT/models/nips/gan/ae_gan/ae_emd_chair_2048_pts/models.ckpt-13 is not in all_model_checkpoint_paths. Manually adding it.\n",
      "14 (1.1903631506142793, 1.107991549262294)\n",
      "INFO:tensorflow:/orions4-zfs/projects/lins2/Panos_Space/DATA/OUT/models/nips/gan/ae_gan/ae_emd_chair_2048_pts/models.ckpt-14 is not in all_model_checkpoint_paths. Manually adding it.\n",
      "15 (1.1664264780503732, 1.1689726348276492)\n",
      "INFO:tensorflow:/orions4-zfs/projects/lins2/Panos_Space/DATA/OUT/models/nips/gan/ae_gan/ae_emd_chair_2048_pts/models.ckpt-15 is not in all_model_checkpoint_paths. Manually adding it.\n",
      "16 (1.192082491627446, 1.167757761478424)\n",
      "INFO:tensorflow:/orions4-zfs/projects/lins2/Panos_Space/DATA/OUT/models/nips/gan/ae_gan/ae_emd_chair_2048_pts/models.ckpt-16 is not in all_model_checkpoint_paths. Manually adding it.\n",
      "17 (1.2040631603311609, 1.0845605179115578)\n",
      "INFO:tensorflow:/orions4-zfs/projects/lins2/Panos_Space/DATA/OUT/models/nips/gan/ae_gan/ae_emd_chair_2048_pts/models.ckpt-17 is not in all_model_checkpoint_paths. Manually adding it.\n",
      "18 (1.2000032469078346, 1.1214976849379363)\n",
      "INFO:tensorflow:/orions4-zfs/projects/lins2/Panos_Space/DATA/OUT/models/nips/gan/ae_gan/ae_emd_chair_2048_pts/models.ckpt-18 is not in all_model_checkpoint_paths. Manually adding it.\n",
      "19 (1.1981450712239301, 1.113361656665802)\n",
      "INFO:tensorflow:/orions4-zfs/projects/lins2/Panos_Space/DATA/OUT/models/nips/gan/ae_gan/ae_emd_chair_2048_pts/models.ckpt-19 is not in all_model_checkpoint_paths. Manually adding it.\n",
      "20 (1.1981967409451804, 1.1338774703167103)\n",
      "INFO:tensorflow:/orions4-zfs/projects/lins2/Panos_Space/DATA/OUT/models/nips/gan/ae_gan/ae_emd_chair_2048_pts/models.ckpt-20 is not in all_model_checkpoint_paths. Manually adding it.\n",
      "21 (1.1884607438687924, 1.1071550651832862)\n",
      "INFO:tensorflow:/orions4-zfs/projects/lins2/Panos_Space/DATA/OUT/models/nips/gan/ae_gan/ae_emd_chair_2048_pts/models.ckpt-21 is not in all_model_checkpoint_paths. Manually adding it.\n",
      "22 (1.1745561842565184, 1.1381167045346012)\n",
      "INFO:tensorflow:/orions4-zfs/projects/lins2/Panos_Space/DATA/OUT/models/nips/gan/ae_gan/ae_emd_chair_2048_pts/models.ckpt-22 is not in all_model_checkpoint_paths. Manually adding it.\n",
      "23 (1.1853390366942793, 1.0966831860718904)\n",
      "INFO:tensorflow:/orions4-zfs/projects/lins2/Panos_Space/DATA/OUT/models/nips/gan/ae_gan/ae_emd_chair_2048_pts/models.ckpt-23 is not in all_model_checkpoint_paths. Manually adding it.\n",
      "24 (1.1740528760132967, 1.1246189567777845)\n",
      "INFO:tensorflow:/orions4-zfs/projects/lins2/Panos_Space/DATA/OUT/models/nips/gan/ae_gan/ae_emd_chair_2048_pts/models.ckpt-24 is not in all_model_checkpoint_paths. Manually adding it.\n",
      "25 (1.1730105841601337, 1.1481807598361262)\n",
      "INFO:tensorflow:/orions4-zfs/projects/lins2/Panos_Space/DATA/OUT/models/nips/gan/ae_gan/ae_emd_chair_2048_pts/models.ckpt-25 is not in all_model_checkpoint_paths. Manually adding it.\n",
      "26 (1.178641026991385, 1.1593538522720337)\n",
      "INFO:tensorflow:/orions4-zfs/projects/lins2/Panos_Space/DATA/OUT/models/nips/gan/ae_gan/ae_emd_chair_2048_pts/models.ckpt-26 is not in all_model_checkpoint_paths. Manually adding it.\n",
      "27 (1.1598347116399694, 1.1887957670070506)\n",
      "INFO:tensorflow:/orions4-zfs/projects/lins2/Panos_Space/DATA/OUT/models/nips/gan/ae_gan/ae_emd_chair_2048_pts/models.ckpt-27 is not in all_model_checkpoint_paths. Manually adding it.\n",
      "28 (1.1586594502131145, 1.1728019520088477)\n",
      "INFO:tensorflow:/orions4-zfs/projects/lins2/Panos_Space/DATA/OUT/models/nips/gan/ae_gan/ae_emd_chair_2048_pts/models.ckpt-28 is not in all_model_checkpoint_paths. Manually adding it.\n",
      "29 (1.1667398368870769, 1.1594192540204082)\n",
      "INFO:tensorflow:/orions4-zfs/projects/lins2/Panos_Space/DATA/OUT/models/nips/gan/ae_gan/ae_emd_chair_2048_pts/models.ckpt-29 is not in all_model_checkpoint_paths. Manually adding it.\n",
      "30 (1.1649693016652707, 1.1694563344672875)\n",
      "INFO:tensorflow:/orions4-zfs/projects/lins2/Panos_Space/DATA/OUT/models/nips/gan/ae_gan/ae_emd_chair_2048_pts/models.ckpt-30 is not in all_model_checkpoint_paths. Manually adding it.\n",
      "31 (1.1725653052330016, 1.1471537342777958)\n",
      "INFO:tensorflow:/orions4-zfs/projects/lins2/Panos_Space/DATA/OUT/models/nips/gan/ae_gan/ae_emd_chair_2048_pts/models.ckpt-31 is not in all_model_checkpoint_paths. Manually adding it.\n",
      "32 (1.1644105995142902, 1.1737422779754356)\n",
      "INFO:tensorflow:/orions4-zfs/projects/lins2/Panos_Space/DATA/OUT/models/nips/gan/ae_gan/ae_emd_chair_2048_pts/models.ckpt-32 is not in all_model_checkpoint_paths. Manually adding it.\n",
      "33 (1.1553797986772325, 1.229134898715549)\n",
      "INFO:tensorflow:/orions4-zfs/projects/lins2/Panos_Space/DATA/OUT/models/nips/gan/ae_gan/ae_emd_chair_2048_pts/models.ckpt-33 is not in all_model_checkpoint_paths. Manually adding it.\n",
      "34 (1.1678241844530459, 1.1995638538289952)\n",
      "INFO:tensorflow:/orions4-zfs/projects/lins2/Panos_Space/DATA/OUT/models/nips/gan/ae_gan/ae_emd_chair_2048_pts/models.ckpt-34 is not in all_model_checkpoint_paths. Manually adding it.\n",
      "35 (1.1503491013138383, 1.2308447316840843)\n",
      "INFO:tensorflow:/orions4-zfs/projects/lins2/Panos_Space/DATA/OUT/models/nips/gan/ae_gan/ae_emd_chair_2048_pts/models.ckpt-35 is not in all_model_checkpoint_paths. Manually adding it.\n",
      "36 (1.1345647966420209, 1.2780337316018564)\n",
      "INFO:tensorflow:/orions4-zfs/projects/lins2/Panos_Space/DATA/OUT/models/nips/gan/ae_gan/ae_emd_chair_2048_pts/models.ckpt-36 is not in all_model_checkpoint_paths. Manually adding it.\n",
      "37 (1.1577805382234079, 1.2036863795033208)\n",
      "INFO:tensorflow:/orions4-zfs/projects/lins2/Panos_Space/DATA/OUT/models/nips/gan/ae_gan/ae_emd_chair_2048_pts/models.ckpt-37 is not in all_model_checkpoint_paths. Manually adding it.\n",
      "38 (1.1444599094214263, 1.2122002089465107)\n",
      "INFO:tensorflow:/orions4-zfs/projects/lins2/Panos_Space/DATA/OUT/models/nips/gan/ae_gan/ae_emd_chair_2048_pts/models.ckpt-38 is not in all_model_checkpoint_paths. Manually adding it.\n",
      "39 (1.1388785596247073, 1.2705935098506786)\n",
      "INFO:tensorflow:/orions4-zfs/projects/lins2/Panos_Space/DATA/OUT/models/nips/gan/ae_gan/ae_emd_chair_2048_pts/models.ckpt-39 is not in all_model_checkpoint_paths. Manually adding it.\n",
      "40 (1.1305977437231276, 1.2569377378181175)\n",
      "INFO:tensorflow:/orions4-zfs/projects/lins2/Panos_Space/DATA/OUT/models/nips/gan/ae_gan/ae_emd_chair_2048_pts/models.ckpt-40 is not in all_model_checkpoint_paths. Manually adding it.\n",
      "41 (1.1261277035430626, 1.2732352433381258)\n",
      "INFO:tensorflow:/orions4-zfs/projects/lins2/Panos_Space/DATA/OUT/models/nips/gan/ae_gan/ae_emd_chair_2048_pts/models.ckpt-41 is not in all_model_checkpoint_paths. Manually adding it.\n",
      "42 (1.1076502632211755, 1.3112329306425872)\n",
      "INFO:tensorflow:/orions4-zfs/projects/lins2/Panos_Space/DATA/OUT/models/nips/gan/ae_gan/ae_emd_chair_2048_pts/models.ckpt-42 is not in all_model_checkpoint_paths. Manually adding it.\n",
      "43 (1.1159637989821258, 1.2765584919187758)\n",
      "INFO:tensorflow:/orions4-zfs/projects/lins2/Panos_Space/DATA/OUT/models/nips/gan/ae_gan/ae_emd_chair_2048_pts/models.ckpt-43 is not in all_model_checkpoint_paths. Manually adding it.\n",
      "44 (1.1085607731783831, 1.3000101054156268)\n",
      "INFO:tensorflow:/orions4-zfs/projects/lins2/Panos_Space/DATA/OUT/models/nips/gan/ae_gan/ae_emd_chair_2048_pts/models.ckpt-44 is not in all_model_checkpoint_paths. Manually adding it.\n",
      "45 (1.0896158704051264, 1.3544775839205141)\n",
      "INFO:tensorflow:/orions4-zfs/projects/lins2/Panos_Space/DATA/OUT/models/nips/gan/ae_gan/ae_emd_chair_2048_pts/models.ckpt-45 is not in all_model_checkpoint_paths. Manually adding it.\n",
      "46 (1.0857475355819419, 1.3787837982177735)\n",
      "INFO:tensorflow:/orions4-zfs/projects/lins2/Panos_Space/DATA/OUT/models/nips/gan/ae_gan/ae_emd_chair_2048_pts/models.ckpt-46 is not in all_model_checkpoint_paths. Manually adding it.\n",
      "47 (1.0822152566026759, 1.3432537299615366)\n",
      "INFO:tensorflow:/orions4-zfs/projects/lins2/Panos_Space/DATA/OUT/models/nips/gan/ae_gan/ae_emd_chair_2048_pts/models.ckpt-47 is not in all_model_checkpoint_paths. Manually adding it.\n",
      "48 (1.0712388188750654, 1.3749996494363856)\n",
      "INFO:tensorflow:/orions4-zfs/projects/lins2/Panos_Space/DATA/OUT/models/nips/gan/ae_gan/ae_emd_chair_2048_pts/models.ckpt-48 is not in all_model_checkpoint_paths. Manually adding it.\n",
      "49 (1.0657084310496294, 1.3692733261320327)\n",
      "INFO:tensorflow:/orions4-zfs/projects/lins2/Panos_Space/DATA/OUT/models/nips/gan/ae_gan/ae_emd_chair_2048_pts/models.ckpt-49 is not in all_model_checkpoint_paths. Manually adding it.\n",
      "50 (1.063988912988592, 1.394371662316499)\n",
      "INFO:tensorflow:/orions4-zfs/projects/lins2/Panos_Space/DATA/OUT/models/nips/gan/ae_gan/ae_emd_chair_2048_pts/models.ckpt-50 is not in all_model_checkpoint_paths. Manually adding it.\n"
     ]
    }
   ],
   "source": [
    "if do_training:\n",
    "    for _ in range(max_epochs):        \n",
    "        loss, duration = gan._single_epoch_train(training_data, batch_size, noise_params)\n",
    "        epoch = int(gan.sess.run(gan.epoch.assign_add(tf.constant(1.0))))\n",
    "        print epoch, loss\n",
    "        syn_latent_data = gan.generate(n_syn_samples, noise_params)\n",
    "        syn_data = ae.decode(syn_latent_data)\n",
    "        accum_syn_data.append(syn_data)                \n",
    "        if save_model:\n",
    "            checkpoint_path = osp.join(train_dir, model_saver_id)\n",
    "            gan.saver.save(gan.sess, checkpoint_path, global_step=gan.epoch)\n",
    "        train_stats.append((epoch,) + loss)"
   ]
  },
  {
   "cell_type": "code",
   "execution_count": 22,
   "metadata": {
    "collapsed": false,
    "deletable": true,
    "editable": true
   },
   "outputs": [
    {
     "data": {
      "image/png": "[encoded data removed]",
      "text/plain": [
       "<matplotlib.figure.Figure at 0x7f60a059d150>"
      ]
     },
     "metadata": {},
     "output_type": "display_data"
    }
   ],
   "source": [
    "if do_plotting:\n",
    "    x = range(len(train_stats))\n",
    "    d_loss = [t[1] for t in train_stats]\n",
    "    g_loss = [t[2] for t in train_stats]\n",
    "    plt.plot(x, d_loss)\n",
    "    plt.plot(x, g_loss)\n",
    "    plt.title('Latent GAN training. (%s, %s)' %(class_name, ae_loss))\n",
    "    plt.legend(['d_loss', 'g_loss'], loc=0)\n",
    "    plt.xlabel('Epochs.')\n",
    "    plt.ylabel('Loss.')"
   ]
  },
  {
   "cell_type": "code",
   "execution_count": 21,
   "metadata": {
    "collapsed": true
   },
   "outputs": [],
   "source": [
    "if save_synthetic_samples:\n",
    "    save_dir = osp.join(synthetic_data_out_dir, experiment_name)\n",
    "    create_dir(save_dir)\n",
    "    epochs_to_save = range(0, 50, 1)\n",
    "    for i in epochs_to_save:\n",
    "        np.savez(osp.join(save_dir, 'epoch_' + str(i+1)), accum_syn_data[i])"
   ]
  },
  {
   "cell_type": "code",
   "execution_count": 37,
   "metadata": {
    "collapsed": false,
    "deletable": true,
    "editable": true
   },
   "outputs": [],
   "source": [
    "# epoch_to_check = 1\n",
    "# n_check = 10\n",
    "# check_data = accum_syn_data[epoch_to_check-1]\n",
    "# rids = np.random.choice(range(len(check_data)), size=n_check, replace=False)\n",
    "\n",
    "# for i in range(n_check):\n",
    "#     Point_Cloud(check_data[rids[i]]).plot()"
   ]
  }
 ],
 "metadata": {
  "kernelspec": {
   "display_name": "Python 2",
   "language": "python",
   "name": "python2"
  },
  "language_info": {
   "codemirror_mode": {
    "name": "ipython",
    "version": 2
   },
   "file_extension": ".py",
   "mimetype": "text/x-python",
   "name": "python",
   "nbconvert_exporter": "python",
   "pygments_lexer": "ipython2",
   "version": "2.7.6"
  }
 },
 "nbformat": 4,
 "nbformat_minor": 2
}
