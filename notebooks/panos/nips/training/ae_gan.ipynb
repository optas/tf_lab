{
 "cells": [
  {
   "cell_type": "code",
   "execution_count": 1,
   "metadata": {
    "collapsed": false,
    "deletable": true,
    "editable": true
   },
   "outputs": [
    {
     "name": "stdout",
     "output_type": "stream",
     "text": [
      "Picking GPU 0\n"
     ]
    }
   ],
   "source": [
    "from general_tools.notebook.gpu_utils import setup_one_gpu\n",
    "GPU = 0\n",
    "setup_one_gpu(GPU)"
   ]
  },
  {
   "cell_type": "code",
   "execution_count": 2,
   "metadata": {
    "collapsed": false,
    "deletable": true,
    "editable": true
   },
   "outputs": [
    {
     "name": "stderr",
     "output_type": "stream",
     "text": [
      "/orions4-zfs/projects/lins2/Panos_Space/Git_Repos/geo_tool/solids/mesh.py:26: UserWarning: Mayavi library was not found. Some graphics utilities will be disabled.\n",
      "  warnings.warn('Mayavi library was not found. Some graphics utilities will be disabled.')\n"
     ]
    }
   ],
   "source": [
    "import sys\n",
    "import time\n",
    "import numpy as np\n",
    "import os.path as osp\n",
    "import tensorflow as tf\n",
    "import matplotlib.pyplot as plt\n",
    "\n",
    "from general_tools.notebook.tf import reset_tf_graph\n",
    "\n",
    "import tf_lab.point_clouds.in_out as pio\n",
    "from tf_lab.point_clouds.in_out import PointCloudDataSet, write_model_ids_of_datasets\n",
    "\n",
    "from tf_lab.point_clouds.point_net_ae import PointNetAutoEncoder\n",
    "from tf_lab.point_clouds.autoencoder import Configuration as Conf\n",
    "import tf_lab.point_clouds.encoders_decoders as enc_dec\n",
    "\n",
    "from tf_lab.autopredictors.scripts.helper import shape_net_category_to_synth_id\n",
    "\n",
    "from tf_lab.autopredictors.plotting import plot_original_pclouds_vs_reconstructed, \\\n",
    "                                           plot_train_val_test_curves, plot_reconstructions_at_epoch, \\\n",
    "                                           plot_interpolations\n",
    "\n",
    "from tf_lab.autopredictors.evaluate import eval_model, read_saved_epochs\n",
    "                                                  \n",
    "from general_tools.in_out.basics import create_dir, delete_files_in_directory, files_in_subdirs\n",
    "from general_tools.simpletons import select_first_last_and_k\n",
    "from geo_tool import Point_Cloud\n",
    "\n",
    "from tf_lab.nips.shape_net import pc_loader as sn_pc_loader\n",
    "from tf_lab.autopredictors.exploration import latent_embedding_of_entire_dataset\n",
    "from tf_lab.point_clouds.raw_gan import RawGAN\n",
    "from tf_lab.point_clouds.latent_gan import LatentGAN"
   ]
  },
  {
   "cell_type": "code",
   "execution_count": 3,
   "metadata": {
    "collapsed": false,
    "deletable": true,
    "editable": true
   },
   "outputs": [],
   "source": [
    "%load_ext autoreload\n",
    "%autoreload 2\n",
    "%matplotlib inline"
   ]
  },
  {
   "cell_type": "code",
   "execution_count": 4,
   "metadata": {
    "collapsed": false,
    "deletable": true,
    "editable": true
   },
   "outputs": [
    {
     "name": "stdout",
     "output_type": "stream",
     "text": [
      "Give me the class type.\n",
      "chair\n"
     ]
    },
    {
     "data": {
      "text/plain": [
       "'/orions4-zfs/projects/lins2/Panos_Space/DATA/OUT/models/nips/gan/ae_gan/ae_gan_chair_2048_pts'"
      ]
     },
     "execution_count": 4,
     "metadata": {},
     "output_type": "execute_result"
    }
   ],
   "source": [
    "n_pc_samples = 2048\n",
    "do_training = True\n",
    "first_time_running = True\n",
    "load_model = False\n",
    "seed = 42\n",
    "\n",
    "ae_loss = 'chamfer'\n",
    "\n",
    "class_name = raw_input('Give me the class type.\\n').lower()\n",
    "syn_id = shape_net_category_to_synth_id()[class_name]\n",
    "experiment_name = 'ae_gan_'+ class_name +'_' + str(n_pc_samples) +  '_pts'\n",
    "\n",
    "top_data_dir = '/orions4-zfs/projects/lins2/Panos_Space/DATA/'\n",
    "synthetic_data_out_dir = '/orions4-zfs/projects/lins2/Panos_Space/DATA/NIPS/our_samples/'\n",
    "\n",
    "train_dir = osp.join(top_data_dir, 'OUT/models/nips/gan/ae_gan')\n",
    "train_dir = osp.join(train_dir, experiment_name)\n",
    "create_dir(train_dir)"
   ]
  },
  {
   "cell_type": "code",
   "execution_count": 5,
   "metadata": {
    "collapsed": false,
    "deletable": true,
    "editable": true
   },
   "outputs": [
    {
     "name": "stdout",
     "output_type": "stream",
     "text": [
      "6778 files containing complete point clouds were found.\n"
     ]
    }
   ],
   "source": [
    "# Load Raw Point-Clouds of class\n",
    "pclouds_path = osp.join(top_data_dir, 'Point_Clouds/Shape_Net/Core/from_manifold_meshes/centered/', str(n_pc_samples))\n",
    "pclouds_path = osp.join(pclouds_path, syn_id)\n",
    "file_names = pio.load_filenames_of_input_data(pclouds_path, '.ply')\n",
    "pclouds, model_ids, syn_ids = pio.load_crude_point_clouds(file_names=file_names, n_threads=50, loader=sn_pc_loader)\n",
    "print '%d files containing complete point clouds were found.' % (len(pclouds), )"
   ]
  },
  {
   "cell_type": "code",
   "execution_count": 6,
   "metadata": {
    "collapsed": false,
    "deletable": true,
    "editable": true
   },
   "outputs": [
    {
     "name": "stdout",
     "output_type": "stream",
     "text": [
      "Model restored in epoch 1000.\n"
     ]
    }
   ],
   "source": [
    "# Load Auto-Encoder\n",
    "reset_tf_graph()\n",
    "ae_net_name = '1_three_fc_dec_with_spn_' + str(n_pc_samples) +  'pts_' + ae_loss\n",
    "ae_net_dir = osp.join(top_data_dir, 'OUT/models/nips/vanilla_ae', ae_net_name)\n",
    "ae_conf = Conf.load(osp.join(ae_net_dir, 'configuration'))\n",
    "ae = PointNetAutoEncoder(ae_net_name, ae_conf)\n",
    "saved_epochs = read_saved_epochs(ae_conf.train_dir)\n",
    "last_epoch = saved_epochs[-1]\n",
    "ae.restore_model(ae_conf.train_dir, last_epoch, verbose=True)"
   ]
  },
  {
   "cell_type": "code",
   "execution_count": 7,
   "metadata": {
    "collapsed": false,
    "deletable": true,
    "editable": true
   },
   "outputs": [],
   "source": [
    "# Convert raw-data to latent codes.\n",
    "raw_data = PointCloudDataSet(pclouds, init_shuffle=False)\n",
    "_, latent_codes, _ = latent_embedding_of_entire_dataset(raw_data, ae, ae_conf)\n",
    "training_data = PointCloudDataSet(latent_codes)"
   ]
  },
  {
   "cell_type": "code",
   "execution_count": 8,
   "metadata": {
    "collapsed": true,
    "deletable": true,
    "editable": true
   },
   "outputs": [],
   "source": [
    "reset_tf_graph()\n",
    "init_lr = 0.001\n",
    "n_out = latent_codes.shape[1]\n",
    "gan = LatentGAN(experiment_name, learning_rate=init_lr, n_output=[n_out])"
   ]
  },
  {
   "cell_type": "code",
   "execution_count": 9,
   "metadata": {
    "collapsed": false,
    "deletable": true,
    "editable": true
   },
   "outputs": [
    {
     "name": "stdout",
     "output_type": "stream",
     "text": [
      "1 (0.62925016681353252, 5.3518418848514555)\n",
      "INFO:tensorflow:/orions4-zfs/projects/lins2/Panos_Space/DATA/OUT/models/nips/gan/ae_gan/ae_gan_chair_2048_pts/models.ckpt-1 is not in all_model_checkpoint_paths. Manually adding it.\n",
      "2 (1.1324209535563434, 2.2920446733633679)\n",
      "INFO:tensorflow:/orions4-zfs/projects/lins2/Panos_Space/DATA/OUT/models/nips/gan/ae_gan/ae_gan_chair_2048_pts/models.ckpt-2 is not in all_model_checkpoint_paths. Manually adding it.\n",
      "3 (1.183179697725508, 1.7552399932234375)\n",
      "INFO:tensorflow:/orions4-zfs/projects/lins2/Panos_Space/DATA/OUT/models/nips/gan/ae_gan/ae_gan_chair_2048_pts/models.ckpt-3 is not in all_model_checkpoint_paths. Manually adding it.\n",
      "4 (1.2683424755379005, 1.3422226922379599)\n",
      "INFO:tensorflow:/orions4-zfs/projects/lins2/Panos_Space/DATA/OUT/models/nips/gan/ae_gan/ae_gan_chair_2048_pts/models.ckpt-4 is not in all_model_checkpoint_paths. Manually adding it.\n",
      "5 (1.2983585075095847, 1.2323504421446059)\n",
      "INFO:tensorflow:/orions4-zfs/projects/lins2/Panos_Space/DATA/OUT/models/nips/gan/ae_gan/ae_gan_chair_2048_pts/models.ckpt-5 is not in all_model_checkpoint_paths. Manually adding it.\n",
      "6 (1.308681677888941, 1.0158812752476445)\n",
      "INFO:tensorflow:/orions4-zfs/projects/lins2/Panos_Space/DATA/OUT/models/nips/gan/ae_gan/ae_gan_chair_2048_pts/models.ckpt-6 is not in all_model_checkpoint_paths. Manually adding it.\n",
      "7 (1.2211717579099868, 1.1774082197083366)\n",
      "INFO:tensorflow:/orions4-zfs/projects/lins2/Panos_Space/DATA/OUT/models/nips/gan/ae_gan/ae_gan_chair_2048_pts/models.ckpt-7 is not in all_model_checkpoint_paths. Manually adding it.\n",
      "8 (1.3453091140146609, 1.0242729019235681)\n",
      "INFO:tensorflow:/orions4-zfs/projects/lins2/Panos_Space/DATA/OUT/models/nips/gan/ae_gan/ae_gan_chair_2048_pts/models.ckpt-8 is not in all_model_checkpoint_paths. Manually adding it.\n",
      "9 (1.3509254384923863, 0.91798633359096671)\n",
      "INFO:tensorflow:/orions4-zfs/projects/lins2/Panos_Space/DATA/OUT/models/nips/gan/ae_gan/ae_gan_chair_2048_pts/models.ckpt-9 is not in all_model_checkpoint_paths. Manually adding it.\n",
      "10 (1.3178232347523724, 1.0984156718960514)\n",
      "INFO:tensorflow:/orions4-zfs/projects/lins2/Panos_Space/DATA/OUT/models/nips/gan/ae_gan/ae_gan_chair_2048_pts/models.ckpt-10 is not in all_model_checkpoint_paths. Manually adding it.\n",
      "11 (1.3178327820919178, 0.90637815660900545)\n",
      "INFO:tensorflow:/orions4-zfs/projects/lins2/Panos_Space/DATA/OUT/models/nips/gan/ae_gan/ae_gan_chair_2048_pts/models.ckpt-11 is not in all_model_checkpoint_paths. Manually adding it.\n",
      "12 (1.3378052587862368, 0.86606299126589736)\n",
      "INFO:tensorflow:/orions4-zfs/projects/lins2/Panos_Space/DATA/OUT/models/nips/gan/ae_gan/ae_gan_chair_2048_pts/models.ckpt-12 is not in all_model_checkpoint_paths. Manually adding it.\n",
      "13 (1.3371751617502283, 1.0542261845535703)\n",
      "INFO:tensorflow:/orions4-zfs/projects/lins2/Panos_Space/DATA/OUT/models/nips/gan/ae_gan/ae_gan_chair_2048_pts/models.ckpt-13 is not in all_model_checkpoint_paths. Manually adding it.\n",
      "14 (1.3173207185886524, 1.0610945074646561)\n",
      "INFO:tensorflow:/orions4-zfs/projects/lins2/Panos_Space/DATA/OUT/models/nips/gan/ae_gan/ae_gan_chair_2048_pts/models.ckpt-14 is not in all_model_checkpoint_paths. Manually adding it.\n",
      "15 (1.3157292441085533, 1.1280228135762391)\n",
      "INFO:tensorflow:/orions4-zfs/projects/lins2/Panos_Space/DATA/OUT/models/nips/gan/ae_gan/ae_gan_chair_2048_pts/models.ckpt-15 is not in all_model_checkpoint_paths. Manually adding it.\n",
      "16 (1.3279538322378088, 1.1268018228036385)\n",
      "INFO:tensorflow:/orions4-zfs/projects/lins2/Panos_Space/DATA/OUT/models/nips/gan/ae_gan/ae_gan_chair_2048_pts/models.ckpt-16 is not in all_model_checkpoint_paths. Manually adding it.\n",
      "17 (1.3458003485644305, 0.95103017378736421)\n",
      "INFO:tensorflow:/orions4-zfs/projects/lins2/Panos_Space/DATA/OUT/models/nips/gan/ae_gan/ae_gan_chair_2048_pts/models.ckpt-17 is not in all_model_checkpoint_paths. Manually adding it.\n",
      "18 (1.3268146894596242, 1.0971357952665399)\n",
      "INFO:tensorflow:/orions4-zfs/projects/lins2/Panos_Space/DATA/OUT/models/nips/gan/ae_gan/ae_gan_chair_2048_pts/models.ckpt-18 is not in all_model_checkpoint_paths. Manually adding it.\n",
      "19 (1.3582432773378161, 0.85320604421474311)\n",
      "INFO:tensorflow:/orions4-zfs/projects/lins2/Panos_Space/DATA/OUT/models/nips/gan/ae_gan/ae_gan_chair_2048_pts/models.ckpt-19 is not in all_model_checkpoint_paths. Manually adding it.\n",
      "20 (1.3226741958547521, 1.0491894249562863)\n",
      "INFO:tensorflow:/orions4-zfs/projects/lins2/Panos_Space/DATA/OUT/models/nips/gan/ae_gan/ae_gan_chair_2048_pts/models.ckpt-20 is not in all_model_checkpoint_paths. Manually adding it.\n",
      "21 (1.304346916410658, 1.2292159296848155)\n",
      "INFO:tensorflow:/orions4-zfs/projects/lins2/Panos_Space/DATA/OUT/models/nips/gan/ae_gan/ae_gan_chair_2048_pts/models.ckpt-21 is not in all_model_checkpoint_paths. Manually adding it.\n",
      "22 (1.3309045668001529, 1.06380909593017)\n",
      "INFO:tensorflow:/orions4-zfs/projects/lins2/Panos_Space/DATA/OUT/models/nips/gan/ae_gan/ae_gan_chair_2048_pts/models.ckpt-22 is not in all_model_checkpoint_paths. Manually adding it.\n",
      "23 (1.2826449102825588, 1.2089595750526145)\n",
      "INFO:tensorflow:/orions4-zfs/projects/lins2/Panos_Space/DATA/OUT/models/nips/gan/ae_gan/ae_gan_chair_2048_pts/models.ckpt-23 is not in all_model_checkpoint_paths. Manually adding it.\n",
      "24 (1.281244855456882, 1.1853706068462795)\n",
      "INFO:tensorflow:/orions4-zfs/projects/lins2/Panos_Space/DATA/OUT/models/nips/gan/ae_gan/ae_gan_chair_2048_pts/models.ckpt-24 is not in all_model_checkpoint_paths. Manually adding it.\n",
      "25 (1.2957294755511815, 1.2011680075415858)\n",
      "INFO:tensorflow:/orions4-zfs/projects/lins2/Panos_Space/DATA/OUT/models/nips/gan/ae_gan/ae_gan_chair_2048_pts/models.ckpt-25 is not in all_model_checkpoint_paths. Manually adding it.\n",
      "26 (1.2466205892739473, 1.2411297612720065)\n",
      "INFO:tensorflow:/orions4-zfs/projects/lins2/Panos_Space/DATA/OUT/models/nips/gan/ae_gan/ae_gan_chair_2048_pts/models.ckpt-26 is not in all_model_checkpoint_paths. Manually adding it.\n",
      "27 (1.2801894673594723, 1.2046359124007049)\n",
      "INFO:tensorflow:/orions4-zfs/projects/lins2/Panos_Space/DATA/OUT/models/nips/gan/ae_gan/ae_gan_chair_2048_pts/models.ckpt-27 is not in all_model_checkpoint_paths. Manually adding it.\n",
      "28 (1.2616361565060086, 1.0816796373437951)\n",
      "INFO:tensorflow:/orions4-zfs/projects/lins2/Panos_Space/DATA/OUT/models/nips/gan/ae_gan/ae_gan_chair_2048_pts/models.ckpt-28 is not in all_model_checkpoint_paths. Manually adding it.\n",
      "29 (1.2703460861135412, 1.0451820634029529)\n",
      "INFO:tensorflow:/orions4-zfs/projects/lins2/Panos_Space/DATA/OUT/models/nips/gan/ae_gan/ae_gan_chair_2048_pts/models.ckpt-29 is not in all_model_checkpoint_paths. Manually adding it.\n",
      "30 (1.2213118654710275, 1.2957994906990618)\n",
      "INFO:tensorflow:/orions4-zfs/projects/lins2/Panos_Space/DATA/OUT/models/nips/gan/ae_gan/ae_gan_chair_2048_pts/models.ckpt-30 is not in all_model_checkpoint_paths. Manually adding it.\n",
      "31 (1.2258644351252803, 0.94798849865242285)\n",
      "INFO:tensorflow:/orions4-zfs/projects/lins2/Panos_Space/DATA/OUT/models/nips/gan/ae_gan/ae_gan_chair_2048_pts/models.ckpt-31 is not in all_model_checkpoint_paths. Manually adding it.\n",
      "32 (1.2680612749523588, 1.0632186540850888)\n",
      "INFO:tensorflow:/orions4-zfs/projects/lins2/Panos_Space/DATA/OUT/models/nips/gan/ae_gan/ae_gan_chair_2048_pts/models.ckpt-32 is not in all_model_checkpoint_paths. Manually adding it.\n",
      "33 (1.2343749545238636, 1.1572315392670809)\n",
      "INFO:tensorflow:/orions4-zfs/projects/lins2/Panos_Space/DATA/OUT/models/nips/gan/ae_gan/ae_gan_chair_2048_pts/models.ckpt-33 is not in all_model_checkpoint_paths. Manually adding it.\n",
      "34 (1.1851685289983396, 1.2451689044634502)\n",
      "INFO:tensorflow:/orions4-zfs/projects/lins2/Panos_Space/DATA/OUT/models/nips/gan/ae_gan/ae_gan_chair_2048_pts/models.ckpt-34 is not in all_model_checkpoint_paths. Manually adding it.\n",
      "35 (1.2125132300235606, 1.0591729883794432)\n",
      "INFO:tensorflow:/orions4-zfs/projects/lins2/Panos_Space/DATA/OUT/models/nips/gan/ae_gan/ae_gan_chair_2048_pts/models.ckpt-35 is not in all_model_checkpoint_paths. Manually adding it.\n",
      "36 (1.2754293485924049, 0.97882190236338862)\n",
      "INFO:tensorflow:/orions4-zfs/projects/lins2/Panos_Space/DATA/OUT/models/nips/gan/ae_gan/ae_gan_chair_2048_pts/models.ckpt-36 is not in all_model_checkpoint_paths. Manually adding it.\n",
      "37 (1.2380672949331779, 0.98435317940182154)\n",
      "INFO:tensorflow:/orions4-zfs/projects/lins2/Panos_Space/DATA/OUT/models/nips/gan/ae_gan/ae_gan_chair_2048_pts/models.ckpt-37 is not in all_model_checkpoint_paths. Manually adding it.\n",
      "38 (1.198183383765044, 1.0183138414665505)\n",
      "INFO:tensorflow:/orions4-zfs/projects/lins2/Panos_Space/DATA/OUT/models/nips/gan/ae_gan/ae_gan_chair_2048_pts/models.ckpt-38 is not in all_model_checkpoint_paths. Manually adding it.\n",
      "39 (1.1805453318136709, 1.3097006859602751)\n",
      "INFO:tensorflow:/orions4-zfs/projects/lins2/Panos_Space/DATA/OUT/models/nips/gan/ae_gan/ae_gan_chair_2048_pts/models.ckpt-39 is not in all_model_checkpoint_paths. Manually adding it.\n",
      "40 (1.1938827170266046, 1.0714462147818671)\n",
      "INFO:tensorflow:/orions4-zfs/projects/lins2/Panos_Space/DATA/OUT/models/nips/gan/ae_gan/ae_gan_chair_2048_pts/models.ckpt-40 is not in all_model_checkpoint_paths. Manually adding it.\n",
      "41 (1.2223907841576471, 1.030012270697841)\n",
      "INFO:tensorflow:/orions4-zfs/projects/lins2/Panos_Space/DATA/OUT/models/nips/gan/ae_gan/ae_gan_chair_2048_pts/models.ckpt-41 is not in all_model_checkpoint_paths. Manually adding it.\n",
      "42 (1.1800414372373511, 1.1012796658056754)\n",
      "INFO:tensorflow:/orions4-zfs/projects/lins2/Panos_Space/DATA/OUT/models/nips/gan/ae_gan/ae_gan_chair_2048_pts/models.ckpt-42 is not in all_model_checkpoint_paths. Manually adding it.\n",
      "43 (1.2443031876175492, 1.0032744513617622)\n",
      "INFO:tensorflow:/orions4-zfs/projects/lins2/Panos_Space/DATA/OUT/models/nips/gan/ae_gan/ae_gan_chair_2048_pts/models.ckpt-43 is not in all_model_checkpoint_paths. Manually adding it.\n",
      "44 (1.1874415821499296, 1.1114110310872396)\n",
      "INFO:tensorflow:/orions4-zfs/projects/lins2/Panos_Space/DATA/OUT/models/nips/gan/ae_gan/ae_gan_chair_2048_pts/models.ckpt-44 is not in all_model_checkpoint_paths. Manually adding it.\n",
      "45 (1.2598233421643574, 1.1176926709987498)\n",
      "INFO:tensorflow:/orions4-zfs/projects/lins2/Panos_Space/DATA/OUT/models/nips/gan/ae_gan/ae_gan_chair_2048_pts/models.ckpt-45 is not in all_model_checkpoint_paths. Manually adding it.\n",
      "46 (1.3051838062427663, 0.93430016349863121)\n",
      "INFO:tensorflow:/orions4-zfs/projects/lins2/Panos_Space/DATA/OUT/models/nips/gan/ae_gan/ae_gan_chair_2048_pts/models.ckpt-46 is not in all_model_checkpoint_paths. Manually adding it.\n",
      "47 (1.2562384455292313, 1.1077208995819092)\n",
      "INFO:tensorflow:/orions4-zfs/projects/lins2/Panos_Space/DATA/OUT/models/nips/gan/ae_gan/ae_gan_chair_2048_pts/models.ckpt-47 is not in all_model_checkpoint_paths. Manually adding it.\n",
      "48 (1.2628074495880692, 0.96578889732007622)\n",
      "INFO:tensorflow:/orions4-zfs/projects/lins2/Panos_Space/DATA/OUT/models/nips/gan/ae_gan/ae_gan_chair_2048_pts/models.ckpt-48 is not in all_model_checkpoint_paths. Manually adding it.\n",
      "49 (1.3060785920531661, 0.84337175245638252)\n",
      "INFO:tensorflow:/orions4-zfs/projects/lins2/Panos_Space/DATA/OUT/models/nips/gan/ae_gan/ae_gan_chair_2048_pts/models.ckpt-49 is not in all_model_checkpoint_paths. Manually adding it.\n",
      "50 (1.3362986255575109, 0.8344405664338006)\n",
      "INFO:tensorflow:/orions4-zfs/projects/lins2/Panos_Space/DATA/OUT/models/nips/gan/ae_gan/ae_gan_chair_2048_pts/models.ckpt-50 is not in all_model_checkpoint_paths. Manually adding it.\n",
      "51 (1.2585509763823615, 0.99902270855727016)\n",
      "INFO:tensorflow:/orions4-zfs/projects/lins2/Panos_Space/DATA/OUT/models/nips/gan/ae_gan/ae_gan_chair_2048_pts/models.ckpt-51 is not in all_model_checkpoint_paths. Manually adding it.\n",
      "52 (1.2224038159405743, 1.0637446050290709)\n",
      "INFO:tensorflow:/orions4-zfs/projects/lins2/Panos_Space/DATA/OUT/models/nips/gan/ae_gan/ae_gan_chair_2048_pts/models.ckpt-52 is not in all_model_checkpoint_paths. Manually adding it.\n",
      "53 (1.091003171602885, 1.1732872013692504)\n",
      "INFO:tensorflow:/orions4-zfs/projects/lins2/Panos_Space/DATA/OUT/models/nips/gan/ae_gan/ae_gan_chair_2048_pts/models.ckpt-53 is not in all_model_checkpoint_paths. Manually adding it.\n",
      "54 (1.2361388705394887, 0.95754804787812409)\n",
      "INFO:tensorflow:/orions4-zfs/projects/lins2/Panos_Space/DATA/OUT/models/nips/gan/ae_gan/ae_gan_chair_2048_pts/models.ckpt-54 is not in all_model_checkpoint_paths. Manually adding it.\n",
      "55 (1.2703455328941344, 1.0377430977644744)\n",
      "INFO:tensorflow:/orions4-zfs/projects/lins2/Panos_Space/DATA/OUT/models/nips/gan/ae_gan/ae_gan_chair_2048_pts/models.ckpt-55 is not in all_model_checkpoint_paths. Manually adding it.\n",
      "56 (1.2693440922984371, 1.0490627774485835)\n",
      "INFO:tensorflow:/orions4-zfs/projects/lins2/Panos_Space/DATA/OUT/models/nips/gan/ae_gan/ae_gan_chair_2048_pts/models.ckpt-56 is not in all_model_checkpoint_paths. Manually adding it.\n",
      "57 (1.2583836970505891, 0.98971871579134907)\n",
      "INFO:tensorflow:/orions4-zfs/projects/lins2/Panos_Space/DATA/OUT/models/nips/gan/ae_gan/ae_gan_chair_2048_pts/models.ckpt-57 is not in all_model_checkpoint_paths. Manually adding it.\n",
      "58 (1.16533250897019, 1.2018819336537963)\n",
      "INFO:tensorflow:/orions4-zfs/projects/lins2/Panos_Space/DATA/OUT/models/nips/gan/ae_gan/ae_gan_chair_2048_pts/models.ckpt-58 is not in all_model_checkpoint_paths. Manually adding it.\n",
      "59 (1.128664215405782, 1.3242793356930769)\n",
      "INFO:tensorflow:/orions4-zfs/projects/lins2/Panos_Space/DATA/OUT/models/nips/gan/ae_gan/ae_gan_chair_2048_pts/models.ckpt-59 is not in all_model_checkpoint_paths. Manually adding it.\n",
      "60 (1.1388665760004961, 1.3147477096981472)\n",
      "INFO:tensorflow:/orions4-zfs/projects/lins2/Panos_Space/DATA/OUT/models/nips/gan/ae_gan/ae_gan_chair_2048_pts/models.ckpt-60 is not in all_model_checkpoint_paths. Manually adding it.\n",
      "61 (1.1712290958121971, 1.151565260357327)\n",
      "INFO:tensorflow:/orions4-zfs/projects/lins2/Panos_Space/DATA/OUT/models/nips/gan/ae_gan/ae_gan_chair_2048_pts/models.ckpt-61 is not in all_model_checkpoint_paths. Manually adding it.\n",
      "62 (1.1174549729735763, 1.1777813372788606)\n",
      "INFO:tensorflow:/orions4-zfs/projects/lins2/Panos_Space/DATA/OUT/models/nips/gan/ae_gan/ae_gan_chair_2048_pts/models.ckpt-62 is not in all_model_checkpoint_paths. Manually adding it.\n",
      "63 (1.1243253690225106, 1.0393917344234609)\n",
      "INFO:tensorflow:/orions4-zfs/projects/lins2/Panos_Space/DATA/OUT/models/nips/gan/ae_gan/ae_gan_chair_2048_pts/models.ckpt-63 is not in all_model_checkpoint_paths. Manually adding it.\n",
      "64 (1.0945926573541429, 1.0925338537604721)\n",
      "INFO:tensorflow:/orions4-zfs/projects/lins2/Panos_Space/DATA/OUT/models/nips/gan/ae_gan/ae_gan_chair_2048_pts/models.ckpt-64 is not in all_model_checkpoint_paths. Manually adding it.\n",
      "65 (1.0681582261014868, 1.1424815813700357)\n",
      "INFO:tensorflow:/orions4-zfs/projects/lins2/Panos_Space/DATA/OUT/models/nips/gan/ae_gan/ae_gan_chair_2048_pts/models.ckpt-65 is not in all_model_checkpoint_paths. Manually adding it.\n",
      "66 (1.1521917117966547, 1.0680215645719457)\n",
      "INFO:tensorflow:/orions4-zfs/projects/lins2/Panos_Space/DATA/OUT/models/nips/gan/ae_gan/ae_gan_chair_2048_pts/models.ckpt-66 is not in all_model_checkpoint_paths. Manually adding it.\n",
      "67 (1.1122221257951526, 1.1046113822195265)\n",
      "INFO:tensorflow:/orions4-zfs/projects/lins2/Panos_Space/DATA/OUT/models/nips/gan/ae_gan/ae_gan_chair_2048_pts/models.ckpt-67 is not in all_model_checkpoint_paths. Manually adding it.\n",
      "68 (1.1100371466742622, 1.0823395640761764)\n",
      "INFO:tensorflow:/orions4-zfs/projects/lins2/Panos_Space/DATA/OUT/models/nips/gan/ae_gan/ae_gan_chair_2048_pts/models.ckpt-68 is not in all_model_checkpoint_paths. Manually adding it.\n",
      "69 (1.1163350816126223, 1.0669413888895953)\n",
      "INFO:tensorflow:/orions4-zfs/projects/lins2/Panos_Space/DATA/OUT/models/nips/gan/ae_gan/ae_gan_chair_2048_pts/models.ckpt-69 is not in all_model_checkpoint_paths. Manually adding it.\n",
      "70 (1.0813914674299734, 1.1128803593141061)\n",
      "INFO:tensorflow:/orions4-zfs/projects/lins2/Panos_Space/DATA/OUT/models/nips/gan/ae_gan/ae_gan_chair_2048_pts/models.ckpt-70 is not in all_model_checkpoint_paths. Manually adding it.\n",
      "71 (1.1190840063271699, 1.0788735588391622)\n",
      "INFO:tensorflow:/orions4-zfs/projects/lins2/Panos_Space/DATA/OUT/models/nips/gan/ae_gan/ae_gan_chair_2048_pts/models.ckpt-71 is not in all_model_checkpoint_paths. Manually adding it.\n",
      "72 (1.089496284502524, 1.0863583383736788)\n",
      "INFO:tensorflow:/orions4-zfs/projects/lins2/Panos_Space/DATA/OUT/models/nips/gan/ae_gan/ae_gan_chair_2048_pts/models.ckpt-72 is not in all_model_checkpoint_paths. Manually adding it.\n",
      "73 (1.0977134351377134, 1.0657700706411291)\n",
      "INFO:tensorflow:/orions4-zfs/projects/lins2/Panos_Space/DATA/OUT/models/nips/gan/ae_gan/ae_gan_chair_2048_pts/models.ckpt-73 is not in all_model_checkpoint_paths. Manually adding it.\n",
      "74 (1.0892236921522351, 1.1446358093508968)\n",
      "INFO:tensorflow:/orions4-zfs/projects/lins2/Panos_Space/DATA/OUT/models/nips/gan/ae_gan/ae_gan_chair_2048_pts/models.ckpt-74 is not in all_model_checkpoint_paths. Manually adding it.\n",
      "75 (1.1818683566870514, 1.3844372418191697)\n",
      "INFO:tensorflow:/orions4-zfs/projects/lins2/Panos_Space/DATA/OUT/models/nips/gan/ae_gan/ae_gan_chair_2048_pts/models.ckpt-75 is not in all_model_checkpoint_paths. Manually adding it.\n",
      "76 (1.1236906109032807, 1.2428246939623797)\n",
      "INFO:tensorflow:/orions4-zfs/projects/lins2/Panos_Space/DATA/OUT/models/nips/gan/ae_gan/ae_gan_chair_2048_pts/models.ckpt-76 is not in all_model_checkpoint_paths. Manually adding it.\n",
      "77 (1.138066510800962, 1.4286352479899371)\n",
      "INFO:tensorflow:/orions4-zfs/projects/lins2/Panos_Space/DATA/OUT/models/nips/gan/ae_gan/ae_gan_chair_2048_pts/models.ckpt-77 is not in all_model_checkpoint_paths. Manually adding it.\n",
      "78 (1.085284791610859, 1.1910349241009466)\n",
      "INFO:tensorflow:/orions4-zfs/projects/lins2/Panos_Space/DATA/OUT/models/nips/gan/ae_gan/ae_gan_chair_2048_pts/models.ckpt-78 is not in all_model_checkpoint_paths. Manually adding it.\n",
      "79 (1.1004670624379758, 1.1002909982645954)\n",
      "INFO:tensorflow:/orions4-zfs/projects/lins2/Panos_Space/DATA/OUT/models/nips/gan/ae_gan/ae_gan_chair_2048_pts/models.ckpt-79 is not in all_model_checkpoint_paths. Manually adding it.\n",
      "80 (1.0952881133114849, 1.0822100657003897)\n",
      "INFO:tensorflow:/orions4-zfs/projects/lins2/Panos_Space/DATA/OUT/models/nips/gan/ae_gan/ae_gan_chair_2048_pts/models.ckpt-80 is not in all_model_checkpoint_paths. Manually adding it.\n",
      "81 (1.0839167842158566, 1.1127304342057971)\n",
      "INFO:tensorflow:/orions4-zfs/projects/lins2/Panos_Space/DATA/OUT/models/nips/gan/ae_gan/ae_gan_chair_2048_pts/models.ckpt-81 is not in all_model_checkpoint_paths. Manually adding it.\n",
      "82 (1.0641396195800217, 1.1222291986147563)\n",
      "INFO:tensorflow:/orions4-zfs/projects/lins2/Panos_Space/DATA/OUT/models/nips/gan/ae_gan/ae_gan_chair_2048_pts/models.ckpt-82 is not in all_model_checkpoint_paths. Manually adding it.\n",
      "83 (1.0605754026660212, 1.1558617123851069)\n",
      "INFO:tensorflow:/orions4-zfs/projects/lins2/Panos_Space/DATA/OUT/models/nips/gan/ae_gan/ae_gan_chair_2048_pts/models.ckpt-83 is not in all_model_checkpoint_paths. Manually adding it.\n",
      "84 (1.0664150224791633, 1.1519887160371851)\n",
      "INFO:tensorflow:/orions4-zfs/projects/lins2/Panos_Space/DATA/OUT/models/nips/gan/ae_gan/ae_gan_chair_2048_pts/models.ckpt-84 is not in all_model_checkpoint_paths. Manually adding it.\n",
      "85 (1.1039985148995011, 1.2088438140021429)\n",
      "INFO:tensorflow:/orions4-zfs/projects/lins2/Panos_Space/DATA/OUT/models/nips/gan/ae_gan/ae_gan_chair_2048_pts/models.ckpt-85 is not in all_model_checkpoint_paths. Manually adding it.\n",
      "86 (1.1223266345483285, 1.1140961121629787)\n",
      "INFO:tensorflow:/orions4-zfs/projects/lins2/Panos_Space/DATA/OUT/models/nips/gan/ae_gan/ae_gan_chair_2048_pts/models.ckpt-86 is not in all_model_checkpoint_paths. Manually adding it.\n",
      "87 (1.1046062332612496, 1.133802518138179)\n",
      "INFO:tensorflow:/orions4-zfs/projects/lins2/Panos_Space/DATA/OUT/models/nips/gan/ae_gan/ae_gan_chair_2048_pts/models.ckpt-87 is not in all_model_checkpoint_paths. Manually adding it.\n",
      "88 (1.0491312706912006, 1.2338294991740475)\n",
      "INFO:tensorflow:/orions4-zfs/projects/lins2/Panos_Space/DATA/OUT/models/nips/gan/ae_gan/ae_gan_chair_2048_pts/models.ckpt-88 is not in all_model_checkpoint_paths. Manually adding it.\n",
      "89 (1.0626343493108397, 1.14680880440606)\n",
      "INFO:tensorflow:/orions4-zfs/projects/lins2/Panos_Space/DATA/OUT/models/nips/gan/ae_gan/ae_gan_chair_2048_pts/models.ckpt-89 is not in all_model_checkpoint_paths. Manually adding it.\n",
      "90 (1.0742633077833388, 1.1586045296103866)\n",
      "INFO:tensorflow:/orions4-zfs/projects/lins2/Panos_Space/DATA/OUT/models/nips/gan/ae_gan/ae_gan_chair_2048_pts/models.ckpt-90 is not in all_model_checkpoint_paths. Manually adding it.\n",
      "91 (1.0801026812306156, 1.1859999175424929)\n",
      "INFO:tensorflow:/orions4-zfs/projects/lins2/Panos_Space/DATA/OUT/models/nips/gan/ae_gan/ae_gan_chair_2048_pts/models.ckpt-91 is not in all_model_checkpoint_paths. Manually adding it.\n",
      "92 (1.0648792542793133, 1.4558461551313047)\n",
      "INFO:tensorflow:/orions4-zfs/projects/lins2/Panos_Space/DATA/OUT/models/nips/gan/ae_gan/ae_gan_chair_2048_pts/models.ckpt-92 is not in all_model_checkpoint_paths. Manually adding it.\n",
      "93 (1.0447854593948083, 1.6639674756262037)\n",
      "INFO:tensorflow:/orions4-zfs/projects/lins2/Panos_Space/DATA/OUT/models/nips/gan/ae_gan/ae_gan_chair_2048_pts/models.ckpt-93 is not in all_model_checkpoint_paths. Manually adding it.\n",
      "94 (1.1506946444511414, 1.2826068953231529)\n",
      "INFO:tensorflow:/orions4-zfs/projects/lins2/Panos_Space/DATA/OUT/models/nips/gan/ae_gan/ae_gan_chair_2048_pts/models.ckpt-94 is not in all_model_checkpoint_paths. Manually adding it.\n",
      "95 (1.1008926479904739, 1.2236246819849368)\n",
      "INFO:tensorflow:/orions4-zfs/projects/lins2/Panos_Space/DATA/OUT/models/nips/gan/ae_gan/ae_gan_chair_2048_pts/models.ckpt-95 is not in all_model_checkpoint_paths. Manually adding it.\n",
      "96 (0.98888877453627411, 1.7418864647547403)\n",
      "INFO:tensorflow:/orions4-zfs/projects/lins2/Panos_Space/DATA/OUT/models/nips/gan/ae_gan/ae_gan_chair_2048_pts/models.ckpt-96 is not in all_model_checkpoint_paths. Manually adding it.\n",
      "97 (1.063269235028161, 1.5503668537846318)\n",
      "INFO:tensorflow:/orions4-zfs/projects/lins2/Panos_Space/DATA/OUT/models/nips/gan/ae_gan/ae_gan_chair_2048_pts/models.ckpt-97 is not in all_model_checkpoint_paths. Manually adding it.\n",
      "98 (1.0812401210820233, 1.2127390499468202)\n",
      "INFO:tensorflow:/orions4-zfs/projects/lins2/Panos_Space/DATA/OUT/models/nips/gan/ae_gan/ae_gan_chair_2048_pts/models.ckpt-98 is not in all_model_checkpoint_paths. Manually adding it.\n",
      "99 (1.0620960164953162, 1.1734703827787329)\n",
      "INFO:tensorflow:/orions4-zfs/projects/lins2/Panos_Space/DATA/OUT/models/nips/gan/ae_gan/ae_gan_chair_2048_pts/models.ckpt-99 is not in all_model_checkpoint_paths. Manually adding it.\n",
      "100 (1.0526187402230722, 1.2527720910531503)\n",
      "INFO:tensorflow:/orions4-zfs/projects/lins2/Panos_Space/DATA/OUT/models/nips/gan/ae_gan/ae_gan_chair_2048_pts/models.ckpt-100 is not in all_model_checkpoint_paths. Manually adding it.\n"
     ]
    }
   ],
   "source": [
    "from tf_lab.point_clouds.gan import model_saver_id\n",
    "\n",
    "train_stats = []\n",
    "batch_size = 50\n",
    "max_epochs = 100\n",
    "noise_params = {'mu':0, 'sigma': 1}\n",
    "\n",
    "for _ in range(max_epochs):\n",
    "    checkpoint_path = osp.join(train_dir, model_saver_id)\n",
    "    loss, duration = gan._single_epoch_train(training_data, batch_size, noise_params)\n",
    "    epoch = int(gan.sess.run(gan.epoch.assign_add(tf.constant(1.0))))\n",
    "    print epoch, loss\n",
    "    gan.saver.save(gan.sess, checkpoint_path, global_step=gan.epoch)\n",
    "    train_stats.append((epoch,) + loss)"
   ]
  },
  {
   "cell_type": "code",
   "execution_count": 33,
   "metadata": {
    "collapsed": false,
    "deletable": true,
    "editable": true
   },
   "outputs": [],
   "source": [
    "# Swap axis and save\n",
    "n_samples = 1000\n",
    "syn_data = gan.generate(n_samples, noise_params)\n",
    "syn_data = ae.decode(syn_data)\n",
    "\n",
    "syn_data_rot = np.empty_like(syn_data)\n",
    "for i, pc in enumerate(syn_data):\n",
    "    syn_data_rot[i] = pc[:, [0, 2, 1]]\n",
    "\n",
    "save_out = osp.join(synthetic_data_out_dir, experiment_name + '_epoch_' + str(epoch))\n",
    "np.savez(save_out, syn_data_rot)"
   ]
  },
  {
   "cell_type": "code",
   "execution_count": 35,
   "metadata": {
    "collapsed": false,
    "deletable": true,
    "editable": true
   },
   "outputs": [
    {
     "data": {
      "text/plain": [
       "0.069813711891195618"
      ]
     },
     "execution_count": 35,
     "metadata": {},
     "output_type": "execute_result"
    }
   ],
   "source": [
    "from tf_lab.nips.evaluate_gan import entropy_of_occupancy_grid\n",
    "entropy_of_occupancy_grid(syn_data, 32)"
   ]
  },
  {
   "cell_type": "code",
   "execution_count": 36,
   "metadata": {
    "collapsed": false,
    "deletable": true,
    "editable": true
   },
   "outputs": [
    {
     "data": {
      "text/plain": [
       "<bound method LatentGAN.generator of <tf_lab.point_clouds.latent_gan.LatentGAN object at 0x7f734fc7dd10>>"
      ]
     },
     "execution_count": 36,
     "metadata": {},
     "output_type": "execute_result"
    }
   ],
   "source": []
  }
 ],
 "metadata": {
  "kernelspec": {
   "display_name": "Python 2",
   "language": "python",
   "name": "python2"
  },
  "language_info": {
   "codemirror_mode": {
    "name": "ipython",
    "version": 2
   },
   "file_extension": ".py",
   "mimetype": "text/x-python",
   "name": "python",
   "nbconvert_exporter": "python",
   "pygments_lexer": "ipython2",
   "version": "2.7.6"
  }
 },
 "nbformat": 4,
 "nbformat_minor": 2
}
