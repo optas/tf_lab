{
 "cells": [
  {
   "cell_type": "code",
   "execution_count": 1,
   "metadata": {
    "collapsed": false,
    "deletable": true,
    "editable": true
   },
   "outputs": [
    {
     "name": "stdout",
     "output_type": "stream",
     "text": [
      "Picking GPU 3\n"
     ]
    }
   ],
   "source": [
    "from general_tools.notebook.gpu_utils import setup_one_gpu\n",
    "GPU = 3\n",
    "setup_one_gpu(GPU)"
   ]
  },
  {
   "cell_type": "code",
   "execution_count": 2,
   "metadata": {
    "collapsed": false,
    "deletable": true,
    "editable": true
   },
   "outputs": [
    {
     "name": "stderr",
     "output_type": "stream",
     "text": [
      "/usr/local/lib/python2.7/dist-packages/matplotlib/font_manager.py:273: UserWarning: Matplotlib is building the font cache using fc-list. This may take a moment.\n",
      "  warnings.warn('Matplotlib is building the font cache using fc-list. This may take a moment.')\n",
      "/orions4-zfs/projects/lins2/Panos_Space/Git_Repos/geo_tool/solids/mesh.py:26: UserWarning: Mayavi library was not found. Some graphics utilities will be disabled.\n",
      "  warnings.warn('Mayavi library was not found. Some graphics utilities will be disabled.')\n"
     ]
    }
   ],
   "source": [
    "import sys\n",
    "import time\n",
    "import numpy as np\n",
    "import os.path as osp\n",
    "import tensorflow as tf\n",
    "import matplotlib.pyplot as plt\n",
    "\n",
    "from general_tools.notebook.tf import reset_tf_graph\n",
    "\n",
    "import tf_lab.point_clouds.in_out as pio\n",
    "from tf_lab.point_clouds.in_out import PointCloudDataSet, write_model_ids_of_datasets\n",
    "\n",
    "from tf_lab.point_clouds.point_net_ae import PointNetAutoEncoder\n",
    "from tf_lab.point_clouds.autoencoder import Configuration as Conf\n",
    "import tf_lab.point_clouds.encoders_decoders as enc_dec\n",
    "\n",
    "from tf_lab.autopredictors.scripts.helper import shape_net_category_to_synth_id\n",
    "\n",
    "from tf_lab.autopredictors.plotting import plot_original_pclouds_vs_reconstructed, \\\n",
    "                                           plot_train_val_test_curves, plot_reconstructions_at_epoch\n",
    "\n",
    "from tf_lab.autopredictors.evaluate import eval_model, read_saved_epochs\n",
    "                                                  \n",
    "from general_tools.in_out.basics import create_dir, delete_files_in_directory, files_in_subdirs\n",
    "from general_tools.simpletons import select_first_last_and_k\n",
    "from geo_tool import Point_Cloud\n",
    "\n",
    "from tf_lab.nips.shape_net import pc_loader as sn_pc_loader\n",
    "from tf_lab.autopredictors.exploration import latent_embedding_of_entire_dataset\n",
    "from tf_lab.point_clouds.raw_gan import RawGAN\n",
    "from tf_lab.point_clouds.latent_gan import LatentGAN\n",
    "\n",
    "from tf_lab.point_clouds.point_net_ae import PointNetAutoEncoder\n",
    "\n",
    "\n",
    "from tf_lab.nips.evaluate_gan import entropy_of_occupancy_grid, \\\n",
    "                                    point_cloud_distances, jensen_shannon_divergence, sample_pclouds_distances\n",
    "\n",
    "from tf_lab.point_clouds.gan import model_saver_id\n",
    "\n",
    "from tf_lab.autopredictors.exploration import find_neighbors\n",
    "\n",
    "from tf_lab.nips.helper import pclouds_centered_and_half_sphere\n",
    "\n",
    "\n",
    "from tf_lab.point_clouds.generators_discriminators import latent_code_discriminator, latent_code_generator"
   ]
  },
  {
   "cell_type": "code",
   "execution_count": 3,
   "metadata": {
    "collapsed": false,
    "deletable": true,
    "editable": true
   },
   "outputs": [],
   "source": [
    "%load_ext autoreload\n",
    "%autoreload 2\n",
    "%matplotlib inline"
   ]
  },
  {
   "cell_type": "code",
   "execution_count": 10,
   "metadata": {
    "collapsed": false,
    "deletable": true,
    "editable": true
   },
   "outputs": [
    {
     "name": "stdout",
     "output_type": "stream",
     "text": [
      "Give me the class type.\n",
      "car\n"
     ]
    },
    {
     "data": {
      "text/plain": [
       "'/orions4-zfs/projects/lins2/Panos_Space/DATA/OUT/models/nips/gan/ae_gan/ae_emd_car_2048_pts'"
      ]
     },
     "execution_count": 10,
     "metadata": {},
     "output_type": "execute_result"
    }
   ],
   "source": [
    "n_pc_samples = 2048\n",
    "do_training = True\n",
    "do_plotting = True\n",
    "ae_loss = 'emd'\n",
    "\n",
    "save_synthetic_samples = True\n",
    "save_model = True\n",
    "\n",
    "class_name = raw_input('Give me the class type.\\n').lower()\n",
    "syn_id = shape_net_category_to_synth_id()[class_name]\n",
    "\n",
    "experiment_name = 'ae_'+ ae_loss + '_' + class_name + '_' + str(n_pc_samples) +  '_pts'\n",
    "\n",
    "top_data_dir = '/orions4-zfs/projects/lins2/Panos_Space/DATA/'\n",
    "synthetic_data_out_dir = '/orions4-zfs/projects/lins2/Panos_Space/DATA/OUT/nips/our_synthetic_samples/'\n",
    "train_dir = osp.join(top_data_dir, 'OUT/models/nips/gan/ae_gan')\n",
    "train_dir = osp.join(train_dir, experiment_name)\n",
    "create_dir(train_dir)"
   ]
  },
  {
   "cell_type": "code",
   "execution_count": 11,
   "metadata": {
    "collapsed": false,
    "deletable": true,
    "editable": true
   },
   "outputs": [
    {
     "name": "stdout",
     "output_type": "stream",
     "text": [
      "7497 files containing complete point clouds were found.\n"
     ]
    }
   ],
   "source": [
    "# Load Raw Point-Clouds of class\n",
    "pclouds_path = osp.join(top_data_dir, 'Point_Clouds/Shape_Net/Core/from_manifold_meshes/centered/', str(n_pc_samples))\n",
    "pclouds_path = osp.join(pclouds_path, syn_id)\n",
    "file_names = pio.load_filenames_of_input_data(pclouds_path, '.ply')\n",
    "pclouds, model_ids, syn_ids = pio.load_crude_point_clouds(file_names=file_names, n_threads=50, loader=sn_pc_loader)\n",
    "print '%d files containing complete point clouds were found.' % (len(pclouds), )"
   ]
  },
  {
   "cell_type": "code",
   "execution_count": 13,
   "metadata": {
    "collapsed": false,
    "deletable": true,
    "editable": true
   },
   "outputs": [
    {
     "name": "stdout",
     "output_type": "stream",
     "text": [
      "Model restored in epoch 1000.\n"
     ]
    }
   ],
   "source": [
    "# Load Auto-Encoder\n",
    "reset_tf_graph()\n",
    "\n",
    "ae_net_name = class_name + '_conv_arch_1_2048pts_' + ae_loss\n",
    "ae_net_dir = osp.join(top_data_dir, 'OUT/models/nips/vanilla_ae', ae_net_name)\n",
    "ae_conf = Conf.load(osp.join(ae_net_dir, 'configuration'))\n",
    "\n",
    "ae = PointNetAutoEncoder(ae_net_name, ae_conf)\n",
    "saved_epochs = read_saved_epochs(ae_conf.train_dir)\n",
    "last_epoch = saved_epochs[-1]\n",
    "ae.restore_model(ae_conf.train_dir, last_epoch, verbose=True)"
   ]
  },
  {
   "cell_type": "code",
   "execution_count": 14,
   "metadata": {
    "collapsed": false,
    "deletable": true,
    "editable": true
   },
   "outputs": [],
   "source": [
    "# Convert raw-data to latent codes.\n",
    "raw_data = PointCloudDataSet(pclouds, init_shuffle=False)\n",
    "_, latent_codes, _ = latent_embedding_of_entire_dataset(raw_data, ae, ae_conf)\n",
    "training_data = PointCloudDataSet(latent_codes)"
   ]
  },
  {
   "cell_type": "code",
   "execution_count": 15,
   "metadata": {
    "collapsed": false,
    "deletable": true,
    "editable": true
   },
   "outputs": [],
   "source": [
    "init_lr = 0.0005\n",
    "batch_size = 50\n",
    "\n",
    "noise_params = {'mu':0, 'sigma': 0.5}\n",
    "noise_dim = 512\n",
    "max_epochs = 50\n",
    "\n",
    "n_syn_samples = training_data.num_examples  # Same number as original GT data.\n",
    "n_out = [latent_codes.shape[1]]\n",
    "accum_syn_data = []\n",
    "train_stats = []\n",
    "\n",
    "reset_tf_graph()\n",
    "gan = LatentGAN(experiment_name, init_lr, n_out, noise_dim, latent_code_discriminator, latent_code_generator)"
   ]
  },
  {
   "cell_type": "code",
   "execution_count": 16,
   "metadata": {
    "collapsed": false,
    "deletable": true,
    "editable": true
   },
   "outputs": [
    {
     "name": "stdout",
     "output_type": "stream",
     "text": [
      "1 (1.2598342287460429, 1.3231548798964328)\n",
      "INFO:tensorflow:/orions4-zfs/projects/lins2/Panos_Space/DATA/OUT/models/nips/gan/ae_gan/ae_emd_car_2048_pts/models.ckpt-1 is not in all_model_checkpoint_paths. Manually adding it.\n",
      "2 (1.2173032112569617, 1.2456593617496874)\n",
      "INFO:tensorflow:/orions4-zfs/projects/lins2/Panos_Space/DATA/OUT/models/nips/gan/ae_gan/ae_emd_car_2048_pts/models.ckpt-2 is not in all_model_checkpoint_paths. Manually adding it.\n",
      "3 (1.1785591292701312, 1.2116603723308383)\n",
      "INFO:tensorflow:/orions4-zfs/projects/lins2/Panos_Space/DATA/OUT/models/nips/gan/ae_gan/ae_emd_car_2048_pts/models.ckpt-3 is not in all_model_checkpoint_paths. Manually adding it.\n",
      "4 (1.2019630830559955, 1.1646855013482522)\n",
      "INFO:tensorflow:/orions4-zfs/projects/lins2/Panos_Space/DATA/OUT/models/nips/gan/ae_gan/ae_emd_car_2048_pts/models.ckpt-4 is not in all_model_checkpoint_paths. Manually adding it.\n",
      "5 (1.2312837367089802, 1.0751344205549098)\n",
      "INFO:tensorflow:/orions4-zfs/projects/lins2/Panos_Space/DATA/OUT/models/nips/gan/ae_gan/ae_emd_car_2048_pts/models.ckpt-5 is not in all_model_checkpoint_paths. Manually adding it.\n",
      "6 (1.229100245757391, 1.0350474979253423)\n",
      "INFO:tensorflow:/orions4-zfs/projects/lins2/Panos_Space/DATA/OUT/models/nips/gan/ae_gan/ae_emd_car_2048_pts/models.ckpt-6 is not in all_model_checkpoint_paths. Manually adding it.\n",
      "7 (1.217214929177457, 1.0734832630861526)\n",
      "INFO:tensorflow:/orions4-zfs/projects/lins2/Panos_Space/DATA/OUT/models/nips/gan/ae_gan/ae_emd_car_2048_pts/models.ckpt-7 is not in all_model_checkpoint_paths. Manually adding it.\n",
      "8 (1.2192664706466982, 1.0993938002010319)\n",
      "INFO:tensorflow:/orions4-zfs/projects/lins2/Panos_Space/DATA/OUT/models/nips/gan/ae_gan/ae_emd_car_2048_pts/models.ckpt-8 is not in all_model_checkpoint_paths. Manually adding it.\n",
      "9 (1.2215336657210485, 1.1341949105262756)\n",
      "INFO:tensorflow:/orions4-zfs/projects/lins2/Panos_Space/DATA/OUT/models/nips/gan/ae_gan/ae_emd_car_2048_pts/models.ckpt-9 is not in all_model_checkpoint_paths. Manually adding it.\n",
      "10 (1.2478498724483003, 1.051888595891479)\n",
      "INFO:tensorflow:/orions4-zfs/projects/lins2/Panos_Space/DATA/OUT/models/nips/gan/ae_gan/ae_emd_car_2048_pts/models.ckpt-10 is not in all_model_checkpoint_paths. Manually adding it.\n",
      "11 (1.2503391080254675, 1.0301193134896707)\n",
      "INFO:tensorflow:/orions4-zfs/projects/lins2/Panos_Space/DATA/OUT/models/nips/gan/ae_gan/ae_emd_car_2048_pts/models.ckpt-11 is not in all_model_checkpoint_paths. Manually adding it.\n",
      "12 (1.2507456413051425, 1.0439376835054999)\n",
      "INFO:tensorflow:/orions4-zfs/projects/lins2/Panos_Space/DATA/OUT/models/nips/gan/ae_gan/ae_emd_car_2048_pts/models.ckpt-12 is not in all_model_checkpoint_paths. Manually adding it.\n",
      "13 (1.262989023387832, 1.0218319436847763)\n",
      "INFO:tensorflow:/orions4-zfs/projects/lins2/Panos_Space/DATA/OUT/models/nips/gan/ae_gan/ae_emd_car_2048_pts/models.ckpt-13 is not in all_model_checkpoint_paths. Manually adding it.\n",
      "14 (1.2690672002382726, 1.0034666949470572)\n",
      "INFO:tensorflow:/orions4-zfs/projects/lins2/Panos_Space/DATA/OUT/models/nips/gan/ae_gan/ae_emd_car_2048_pts/models.ckpt-14 is not in all_model_checkpoint_paths. Manually adding it.\n",
      "15 (1.2665077271877518, 1.0471198026765913)\n",
      "INFO:tensorflow:/orions4-zfs/projects/lins2/Panos_Space/DATA/OUT/models/nips/gan/ae_gan/ae_emd_car_2048_pts/models.ckpt-15 is not in all_model_checkpoint_paths. Manually adding it.\n",
      "16 (1.2646765460904013, 1.0280950289444635)\n",
      "INFO:tensorflow:/orions4-zfs/projects/lins2/Panos_Space/DATA/OUT/models/nips/gan/ae_gan/ae_emd_car_2048_pts/models.ckpt-16 is not in all_model_checkpoint_paths. Manually adding it.\n",
      "17 (1.2753870663226852, 0.99920123815536499)\n",
      "INFO:tensorflow:/orions4-zfs/projects/lins2/Panos_Space/DATA/OUT/models/nips/gan/ae_gan/ae_emd_car_2048_pts/models.ckpt-17 is not in all_model_checkpoint_paths. Manually adding it.\n",
      "18 (1.2740358562277467, 1.0095019868556285)\n",
      "INFO:tensorflow:/orions4-zfs/projects/lins2/Panos_Space/DATA/OUT/models/nips/gan/ae_gan/ae_emd_car_2048_pts/models.ckpt-18 is not in all_model_checkpoint_paths. Manually adding it.\n",
      "19 (1.2549088273272417, 1.0399772728849577)\n",
      "INFO:tensorflow:/orions4-zfs/projects/lins2/Panos_Space/DATA/OUT/models/nips/gan/ae_gan/ae_emd_car_2048_pts/models.ckpt-19 is not in all_model_checkpoint_paths. Manually adding it.\n",
      "20 (1.258172716870404, 1.0193435573737892)\n",
      "INFO:tensorflow:/orions4-zfs/projects/lins2/Panos_Space/DATA/OUT/models/nips/gan/ae_gan/ae_emd_car_2048_pts/models.ckpt-20 is not in all_model_checkpoint_paths. Manually adding it.\n",
      "21 (1.2497540712356567, 1.065818232177888)\n",
      "INFO:tensorflow:/orions4-zfs/projects/lins2/Panos_Space/DATA/OUT/models/nips/gan/ae_gan/ae_emd_car_2048_pts/models.ckpt-21 is not in all_model_checkpoint_paths. Manually adding it.\n",
      "22 (1.2577610095875376, 1.0077442954850677)\n",
      "INFO:tensorflow:/orions4-zfs/projects/lins2/Panos_Space/DATA/OUT/models/nips/gan/ae_gan/ae_emd_car_2048_pts/models.ckpt-22 is not in all_model_checkpoint_paths. Manually adding it.\n",
      "23 (1.2632554537497911, 1.0184717602377771)\n",
      "INFO:tensorflow:/orions4-zfs/projects/lins2/Panos_Space/DATA/OUT/models/nips/gan/ae_gan/ae_emd_car_2048_pts/models.ckpt-23 is not in all_model_checkpoint_paths. Manually adding it.\n",
      "24 (1.2675251160692049, 0.99600785490650456)\n",
      "INFO:tensorflow:/orions4-zfs/projects/lins2/Panos_Space/DATA/OUT/models/nips/gan/ae_gan/ae_emd_car_2048_pts/models.ckpt-24 is not in all_model_checkpoint_paths. Manually adding it.\n",
      "25 (1.2607708217313625, 0.98991168905424587)\n",
      "INFO:tensorflow:/orions4-zfs/projects/lins2/Panos_Space/DATA/OUT/models/nips/gan/ae_gan/ae_emd_car_2048_pts/models.ckpt-25 is not in all_model_checkpoint_paths. Manually adding it.\n",
      "26 (1.2580313066508146, 0.99776835809618036)\n",
      "INFO:tensorflow:/orions4-zfs/projects/lins2/Panos_Space/DATA/OUT/models/nips/gan/ae_gan/ae_emd_car_2048_pts/models.ckpt-26 is not in all_model_checkpoint_paths. Manually adding it.\n",
      "27 (1.2568588832880827, 0.99618717888057629)\n",
      "INFO:tensorflow:/orions4-zfs/projects/lins2/Panos_Space/DATA/OUT/models/nips/gan/ae_gan/ae_emd_car_2048_pts/models.ckpt-27 is not in all_model_checkpoint_paths. Manually adding it.\n",
      "28 (1.2578194277398538, 1.003877887389804)\n",
      "INFO:tensorflow:/orions4-zfs/projects/lins2/Panos_Space/DATA/OUT/models/nips/gan/ae_gan/ae_emd_car_2048_pts/models.ckpt-28 is not in all_model_checkpoint_paths. Manually adding it.\n",
      "29 (1.2389475531226037, 1.0697366583267314)\n",
      "INFO:tensorflow:/orions4-zfs/projects/lins2/Panos_Space/DATA/OUT/models/nips/gan/ae_gan/ae_emd_car_2048_pts/models.ckpt-29 is not in all_model_checkpoint_paths. Manually adding it.\n",
      "30 (1.2401343384045083, 1.073663289514964)\n",
      "INFO:tensorflow:/orions4-zfs/projects/lins2/Panos_Space/DATA/OUT/models/nips/gan/ae_gan/ae_emd_car_2048_pts/models.ckpt-30 is not in all_model_checkpoint_paths. Manually adding it.\n",
      "31 (1.2560305131361789, 0.99580623359488163)\n",
      "INFO:tensorflow:/orions4-zfs/projects/lins2/Panos_Space/DATA/OUT/models/nips/gan/ae_gan/ae_emd_car_2048_pts/models.ckpt-31 is not in all_model_checkpoint_paths. Manually adding it.\n",
      "32 (1.2335428943570028, 1.0463759763128806)\n",
      "INFO:tensorflow:/orions4-zfs/projects/lins2/Panos_Space/DATA/OUT/models/nips/gan/ae_gan/ae_emd_car_2048_pts/models.ckpt-32 is not in all_model_checkpoint_paths. Manually adding it.\n",
      "33 (1.2345986246262621, 1.0535309106711572)\n",
      "INFO:tensorflow:/orions4-zfs/projects/lins2/Panos_Space/DATA/OUT/models/nips/gan/ae_gan/ae_emd_car_2048_pts/models.ckpt-33 is not in all_model_checkpoint_paths. Manually adding it.\n",
      "34 (1.2399735578754605, 1.0543621498466338)\n",
      "INFO:tensorflow:/orions4-zfs/projects/lins2/Panos_Space/DATA/OUT/models/nips/gan/ae_gan/ae_emd_car_2048_pts/models.ckpt-34 is not in all_model_checkpoint_paths. Manually adding it.\n",
      "35 (1.2295352588563957, 1.0446542665462366)\n",
      "INFO:tensorflow:/orions4-zfs/projects/lins2/Panos_Space/DATA/OUT/models/nips/gan/ae_gan/ae_emd_car_2048_pts/models.ckpt-35 is not in all_model_checkpoint_paths. Manually adding it.\n",
      "36 (1.230024949016187, 1.0634185999831898)\n",
      "INFO:tensorflow:/orions4-zfs/projects/lins2/Panos_Space/DATA/OUT/models/nips/gan/ae_gan/ae_emd_car_2048_pts/models.ckpt-36 is not in all_model_checkpoint_paths. Manually adding it.\n",
      "37 (1.2349968316571025, 1.0601454577189964)\n",
      "INFO:tensorflow:/orions4-zfs/projects/lins2/Panos_Space/DATA/OUT/models/nips/gan/ae_gan/ae_emd_car_2048_pts/models.ckpt-37 is not in all_model_checkpoint_paths. Manually adding it.\n",
      "38 (1.2211092566483772, 1.0905561379138256)\n",
      "INFO:tensorflow:/orions4-zfs/projects/lins2/Panos_Space/DATA/OUT/models/nips/gan/ae_gan/ae_emd_car_2048_pts/models.ckpt-38 is not in all_model_checkpoint_paths. Manually adding it.\n",
      "39 (1.2276371709452381, 1.0806978644940677)\n",
      "INFO:tensorflow:/orions4-zfs/projects/lins2/Panos_Space/DATA/OUT/models/nips/gan/ae_gan/ae_emd_car_2048_pts/models.ckpt-39 is not in all_model_checkpoint_paths. Manually adding it.\n",
      "40 (1.2350228752865888, 1.0869394404776145)\n",
      "INFO:tensorflow:/orions4-zfs/projects/lins2/Panos_Space/DATA/OUT/models/nips/gan/ae_gan/ae_emd_car_2048_pts/models.ckpt-40 is not in all_model_checkpoint_paths. Manually adding it.\n",
      "41 (1.2171954140567141, 1.0617635682125219)\n",
      "INFO:tensorflow:/orions4-zfs/projects/lins2/Panos_Space/DATA/OUT/models/nips/gan/ae_gan/ae_emd_car_2048_pts/models.ckpt-41 is not in all_model_checkpoint_paths. Manually adding it.\n",
      "42 (1.2208403940968866, 1.0777997670557675)\n",
      "INFO:tensorflow:/orions4-zfs/projects/lins2/Panos_Space/DATA/OUT/models/nips/gan/ae_gan/ae_emd_car_2048_pts/models.ckpt-42 is not in all_model_checkpoint_paths. Manually adding it.\n",
      "43 (1.2043047311322002, 1.0761724042412419)\n",
      "INFO:tensorflow:/orions4-zfs/projects/lins2/Panos_Space/DATA/OUT/models/nips/gan/ae_gan/ae_emd_car_2048_pts/models.ckpt-43 is not in all_model_checkpoint_paths. Manually adding it.\n",
      "44 (1.2191265261413267, 1.083752162104485)\n",
      "INFO:tensorflow:/orions4-zfs/projects/lins2/Panos_Space/DATA/OUT/models/nips/gan/ae_gan/ae_emd_car_2048_pts/models.ckpt-44 is not in all_model_checkpoint_paths. Manually adding it.\n",
      "45 (1.203607109569063, 1.1051422549574168)\n",
      "INFO:tensorflow:/orions4-zfs/projects/lins2/Panos_Space/DATA/OUT/models/nips/gan/ae_gan/ae_emd_car_2048_pts/models.ckpt-45 is not in all_model_checkpoint_paths. Manually adding it.\n",
      "46 (1.1920208154908762, 1.1331800662431142)\n",
      "INFO:tensorflow:/orions4-zfs/projects/lins2/Panos_Space/DATA/OUT/models/nips/gan/ae_gan/ae_emd_car_2048_pts/models.ckpt-46 is not in all_model_checkpoint_paths. Manually adding it.\n",
      "47 (1.2059263054956526, 1.1063335925940698)\n",
      "INFO:tensorflow:/orions4-zfs/projects/lins2/Panos_Space/DATA/OUT/models/nips/gan/ae_gan/ae_emd_car_2048_pts/models.ckpt-47 is not in all_model_checkpoint_paths. Manually adding it.\n",
      "48 (1.1836712492392367, 1.1293860817915642)\n",
      "INFO:tensorflow:/orions4-zfs/projects/lins2/Panos_Space/DATA/OUT/models/nips/gan/ae_gan/ae_emd_car_2048_pts/models.ckpt-48 is not in all_model_checkpoint_paths. Manually adding it.\n",
      "49 (1.1709032146722678, 1.1851542072008121)\n",
      "INFO:tensorflow:/orions4-zfs/projects/lins2/Panos_Space/DATA/OUT/models/nips/gan/ae_gan/ae_emd_car_2048_pts/models.ckpt-49 is not in all_model_checkpoint_paths. Manually adding it.\n",
      "50 (1.1727036461734133, 1.1577318062718283)\n",
      "INFO:tensorflow:/orions4-zfs/projects/lins2/Panos_Space/DATA/OUT/models/nips/gan/ae_gan/ae_emd_car_2048_pts/models.ckpt-50 is not in all_model_checkpoint_paths. Manually adding it.\n"
     ]
    }
   ],
   "source": [
    "if do_training:\n",
    "    for _ in range(max_epochs):        \n",
    "        loss, duration = gan._single_epoch_train(training_data, batch_size, noise_params)\n",
    "        epoch = int(gan.sess.run(gan.epoch.assign_add(tf.constant(1.0))))\n",
    "        print epoch, loss\n",
    "        syn_latent_data = gan.generate(n_syn_samples, noise_params)\n",
    "        syn_data = ae.decode(syn_latent_data)\n",
    "        accum_syn_data.append(syn_data)                \n",
    "        if save_model:\n",
    "            checkpoint_path = osp.join(train_dir, model_saver_id)\n",
    "            gan.saver.save(gan.sess, checkpoint_path, global_step=gan.epoch)\n",
    "        train_stats.append((epoch,) + loss)"
   ]
  },
  {
   "cell_type": "code",
   "execution_count": null,
   "metadata": {
    "collapsed": false,
    "deletable": true,
    "editable": true
   },
   "outputs": [
    {
     "data": {
      "image/png": "[encoded data removed]",
      "text/plain": [
       "<matplotlib.figure.Figure at 0x7f09eb584410>"
      ]
     },
     "metadata": {},
     "output_type": "display_data"
    }
   ],
   "source": [
    "if do_plotting:\n",
    "    x = range(len(train_stats))\n",
    "    d_loss = [t[1] for t in train_stats]\n",
    "    g_loss = [t[2] for t in train_stats]\n",
    "    plt.plot(x, d_loss)\n",
    "    plt.plot(x, g_loss)\n",
    "    plt.title('Latent GAN training. (%s, %s)' %(class_name, ae_loss))\n",
    "    plt.legend(['d_loss', 'g_loss'], loc=0)\n",
    "    plt.xlabel('Epochs.')\n",
    "    plt.ylabel('Loss.')"
   ]
  },
  {
   "cell_type": "code",
   "execution_count": null,
   "metadata": {
    "collapsed": true,
    "deletable": true,
    "editable": true
   },
   "outputs": [],
   "source": [
    "if save_synthetic_samples:\n",
    "    save_dir = osp.join(synthetic_data_out_dir, experiment_name)\n",
    "    create_dir(save_dir)\n",
    "    epochs_to_save = range(0, 50, 1)\n",
    "    for i in epochs_to_save:\n",
    "        np.savez(osp.join(save_dir, 'epoch_' + str(i+1)), accum_syn_data[i])"
   ]
  },
  {
   "cell_type": "code",
   "execution_count": null,
   "metadata": {
    "collapsed": false,
    "deletable": true,
    "editable": true
   },
   "outputs": [],
   "source": [
    "epoch_to_check = 5\n",
    "n_check = 5\n",
    "check_data = accum_syn_data[epoch_to_check-1]\n",
    "rids = np.random.choice(range(len(check_data)), size=n_check, replace=False)\n",
    "\n",
    "for i in range(n_check):\n",
    "    Point_Cloud(check_data[rids[i]]).plot()"
   ]
  }
 ],
 "metadata": {
  "kernelspec": {
   "display_name": "Python 2",
   "language": "python",
   "name": "python2"
  },
  "language_info": {
   "codemirror_mode": {
    "name": "ipython",
    "version": 2
   },
   "file_extension": ".py",
   "mimetype": "text/x-python",
   "name": "python",
   "nbconvert_exporter": "python",
   "pygments_lexer": "ipython2",
   "version": "2.7.6"
  }
 },
 "nbformat": 4,
 "nbformat_minor": 2
}
