{
 "cells": [
  {
   "cell_type": "code",
   "execution_count": 1,
   "metadata": {
    "collapsed": false,
    "deletable": true,
    "editable": true
   },
   "outputs": [
    {
     "name": "stdout",
     "output_type": "stream",
     "text": [
      "Picking GPU 0\n"
     ]
    }
   ],
   "source": [
    "from general_tools.notebook.gpu_utils import setup_one_gpu\n",
    "GPU = 0\n",
    "setup_one_gpu(GPU)"
   ]
  },
  {
   "cell_type": "code",
   "execution_count": 2,
   "metadata": {
    "collapsed": false,
    "deletable": true,
    "editable": true
   },
   "outputs": [
    {
     "name": "stderr",
     "output_type": "stream",
     "text": [
      "/orions4-zfs/projects/lins2/Panos_Space/Git_Repos/geo_tool/solids/mesh.py:26: UserWarning: Mayavi library was not found. Some graphics utilities will be disabled.\n",
      "  warnings.warn('Mayavi library was not found. Some graphics utilities will be disabled.')\n"
     ]
    }
   ],
   "source": [
    "import sys\n",
    "import time\n",
    "import numpy as np\n",
    "import os.path as osp\n",
    "import tensorflow as tf\n",
    "import matplotlib.pyplot as plt\n",
    "\n",
    "from general_tools.notebook.tf import reset_tf_graph\n",
    "\n",
    "import tf_lab.point_clouds.in_out as pio\n",
    "from tf_lab.point_clouds.in_out import PointCloudDataSet, write_model_ids_of_datasets\n",
    "\n",
    "from tf_lab.point_clouds.point_net_ae import PointNetAutoEncoder\n",
    "from tf_lab.point_clouds.autoencoder import Configuration as Conf\n",
    "import tf_lab.point_clouds.encoders_decoders as enc_dec\n",
    "\n",
    "from tf_lab.autopredictors.scripts.helper import shape_net_category_to_synth_id\n",
    "\n",
    "from tf_lab.autopredictors.plotting import plot_original_pclouds_vs_reconstructed, \\\n",
    "                                           plot_train_val_test_curves, plot_reconstructions_at_epoch, \\\n",
    "                                           plot_interpolations\n",
    "\n",
    "from tf_lab.autopredictors.evaluate import eval_model, read_saved_epochs\n",
    "                                                  \n",
    "from general_tools.in_out.basics import create_dir, delete_files_in_directory, files_in_subdirs\n",
    "from general_tools.simpletons import select_first_last_and_k\n",
    "from geo_tool import Point_Cloud\n",
    "\n",
    "from tf_lab.nips.shape_net import pc_loader as sn_pc_loader\n",
    "from tf_lab.autopredictors.exploration import latent_embedding_of_entire_dataset\n",
    "from tf_lab.point_clouds.raw_gan import RawGAN\n",
    "from tf_lab.point_clouds.latent_gan import LatentGAN\n",
    "\n",
    "from tf_lab.point_clouds.point_net_ae import PointNetAutoEncoder\n",
    "from tf_lab.nips.evaluate_gan import entropy_of_occupancy_grid, point_cloud_distances\n",
    "from tf_lab.point_clouds.gan import model_saver_id\n",
    "\n",
    "from tf_lab.autopredictors.exploration import find_neighbors"
   ]
  },
  {
   "cell_type": "code",
   "execution_count": 3,
   "metadata": {
    "collapsed": false,
    "deletable": true,
    "editable": true
   },
   "outputs": [],
   "source": [
    "%load_ext autoreload\n",
    "%autoreload 2\n",
    "%matplotlib inline"
   ]
  },
  {
   "cell_type": "code",
   "execution_count": 4,
   "metadata": {
    "collapsed": false,
    "deletable": true,
    "editable": true
   },
   "outputs": [
    {
     "name": "stdout",
     "output_type": "stream",
     "text": [
      "Give me the class type.\n",
      "chair\n"
     ]
    },
    {
     "data": {
      "text/plain": [
       "'/orions4-zfs/projects/lins2/Panos_Space/DATA/OUT/models/nips/gan/ae_gan/ae_emd_1c_gan_chair_2048_pts'"
      ]
     },
     "execution_count": 4,
     "metadata": {},
     "output_type": "execute_result"
    }
   ],
   "source": [
    "n_pc_samples = 2048\n",
    "\n",
    "do_training = True\n",
    "load_model = False\n",
    "save_model = False\n",
    "seed = 42\n",
    "\n",
    "ae_loss = 'emd'\n",
    "\n",
    "class_name = raw_input('Give me the class type.\\n').lower()\n",
    "syn_id = shape_net_category_to_synth_id()[class_name]\n",
    "experiment_name = 'ae_'+ ae_loss +'_1c_gan_'+ class_name +'_' + str(n_pc_samples) +  '_pts'\n",
    "\n",
    "top_data_dir = '/orions4-zfs/projects/lins2/Panos_Space/DATA/'\n",
    "synthetic_data_out_dir = '/orions4-zfs/projects/lins2/Panos_Space/DATA/NIPS/our_samples/'\n",
    "\n",
    "train_dir = osp.join(top_data_dir, 'OUT/models/nips/gan/ae_gan')\n",
    "train_dir = osp.join(train_dir, experiment_name)\n",
    "create_dir(train_dir)"
   ]
  },
  {
   "cell_type": "code",
   "execution_count": 42,
   "metadata": {
    "collapsed": false,
    "deletable": true,
    "editable": true
   },
   "outputs": [
    {
     "name": "stdout",
     "output_type": "stream",
     "text": [
      "6778 files containing complete point clouds were found.\n"
     ]
    }
   ],
   "source": [
    "# Load Raw Point-Clouds of class\n",
    "pclouds_path = osp.join(top_data_dir, 'Point_Clouds/Shape_Net/Core/from_manifold_meshes/centered/', str(n_pc_samples))\n",
    "pclouds_path = osp.join(pclouds_path, syn_id)\n",
    "file_names = pio.load_filenames_of_input_data(pclouds_path, '.ply')\n",
    "pclouds, model_ids, syn_ids = pio.load_crude_point_clouds(file_names=file_names, n_threads=50, loader=sn_pc_loader)\n",
    "print '%d files containing complete point clouds were found.' % (len(pclouds), )"
   ]
  },
  {
   "cell_type": "code",
   "execution_count": 45,
   "metadata": {
    "collapsed": false
   },
   "outputs": [],
   "source": [
    "\n",
    "outf = '/orions4-zfs/projects/lins2/Panos_Space/DATA/NIPS/our_samples/gt_all_' + class_name\n",
    "np.savez(outf, pclouds)\n",
    "\n"
   ]
  },
  {
   "cell_type": "code",
   "execution_count": 6,
   "metadata": {
    "collapsed": false,
    "deletable": true,
    "editable": true
   },
   "outputs": [
    {
     "name": "stdout",
     "output_type": "stream",
     "text": [
      "Model restored in epoch 500.\n"
     ]
    }
   ],
   "source": [
    "# Load Auto-Encoder\n",
    "reset_tf_graph()\n",
    "\n",
    "# ae_net_name = '1_three_fc_dec_with_spn_' + str(n_pc_samples) +  'pts_' + ae_loss\n",
    "ae_net_name = class_name + '_three_fc_dec_' + str(n_pc_samples) +  'pts_' + ae_loss\n",
    "\n",
    "ae_net_dir = osp.join(top_data_dir, 'OUT/models/nips/vanilla_ae', ae_net_name)\n",
    "ae_conf = Conf.load(osp.join(ae_net_dir, 'configuration'))\n",
    "ae = PointNetAutoEncoder(ae_net_name, ae_conf)\n",
    "saved_epochs = read_saved_epochs(ae_conf.train_dir)\n",
    "last_epoch = saved_epochs[-1]\n",
    "ae.restore_model(ae_conf.train_dir, last_epoch, verbose=True)"
   ]
  },
  {
   "cell_type": "code",
   "execution_count": 7,
   "metadata": {
    "collapsed": false,
    "deletable": true,
    "editable": true
   },
   "outputs": [],
   "source": [
    "# Convert raw-data to latent codes.\n",
    "raw_data = PointCloudDataSet(pclouds, init_shuffle=False)\n",
    "_, latent_codes, _ = latent_embedding_of_entire_dataset(raw_data, ae, ae_conf)\n",
    "training_data = PointCloudDataSet(latent_codes)"
   ]
  },
  {
   "cell_type": "code",
   "execution_count": 16,
   "metadata": {
    "collapsed": false,
    "deletable": true,
    "editable": true
   },
   "outputs": [],
   "source": [
    "reset_tf_graph()\n",
    "init_lr = 0.00005\n",
    "n_out = latent_codes.shape[1]\n",
    "gan = LatentGAN(experiment_name, learning_rate=init_lr, n_output=[n_out])\n",
    "train_stats = []\n",
    "accum_syn_data = []"
   ]
  },
  {
   "cell_type": "code",
   "execution_count": 10,
   "metadata": {
    "collapsed": false,
    "deletable": true,
    "editable": true
   },
   "outputs": [],
   "source": [
    "if load_model:\n",
    "    saved_epochs = read_saved_epochs(train_dir)\n",
    "    last_epoch = saved_epochs[-1]\n",
    "    gan.restore_model(train_dir, last_epoch, verbose=True)"
   ]
  },
  {
   "cell_type": "code",
   "execution_count": 17,
   "metadata": {
    "collapsed": false,
    "deletable": true,
    "editable": true
   },
   "outputs": [
    {
     "name": "stdout",
     "output_type": "stream",
     "text": [
      "1 (0.66816268739876927, 2.9078244774429884)\n",
      "2 (0.051216556628545122, 7.1248828923260721)\n",
      "3 (0.01928029355627519, 9.2275966785572194)\n",
      "4 (0.01969886135171961, 8.9584702244511352)\n",
      "5 (0.021563787710059571, 8.21988341720016)\n",
      "6 (0.035424171553717722, 7.8216582757455333)\n",
      "7 (0.091221383793486488, 6.5879933639808934)\n",
      "8 (0.09431783648000823, 5.8011090525874387)\n",
      "9 (0.097452214801753007, 5.4972389751010473)\n",
      "10 (0.1097875978383753, 5.2186389410937277)\n"
     ]
    }
   ],
   "source": [
    "n_syn_samples = 1000\n",
    "max_epochs = 10\n",
    "batch_size = 50\n",
    "noise_params = {'mu':0, 'sigma': 1}\n",
    "    \n",
    "if do_training:\n",
    "    for _ in range(max_epochs):\n",
    "        \n",
    "#         checkpoint_path = osp.join(train_dir, model_saver_id)\n",
    "        loss, duration = gan._single_epoch_train(training_data, batch_size, noise_params)\n",
    "        epoch = int(gan.sess.run(gan.epoch.assign_add(tf.constant(1.0))))\n",
    "        print epoch, loss\n",
    "\n",
    "        syn_latent_data = gan.generate(n_syn_samples, noise_params)\n",
    "        syn_data = ae.decode(syn_latent_data)\n",
    "        accum_syn_data.append(syn_data)\n",
    "                \n",
    "#         if save_model:\n",
    "#             gan.saver.save(gan.sess, checkpoint_path, global_step=gan.epoch)\n",
    "        train_stats.append((epoch,) + loss)\n",
    "        "
   ]
  },
  {
   "cell_type": "code",
   "execution_count": 13,
   "metadata": {
    "collapsed": false,
    "deletable": true,
    "editable": true
   },
   "outputs": [
    {
     "data": {
      "text/plain": [
       "<matplotlib.text.Text at 0x7f1e7c790390>"
      ]
     },
     "execution_count": 13,
     "metadata": {},
     "output_type": "execute_result"
    },
    {
     "data": {
      "image/png": "[encoded data removed]",
      "text/plain": [
       "<matplotlib.figure.Figure at 0x7f1e98749f90>"
      ]
     },
     "metadata": {},
     "output_type": "display_data"
    }
   ],
   "source": [
    "x = range(len(train_stats))\n",
    "d_loss = [t[1] for t in train_stats]\n",
    "g_loss = [t[2] for t in train_stats]\n",
    "plt.plot(x, d_loss)\n",
    "plt.plot(x, g_loss)\n",
    "plt.legend(['d_loss', 'g_loss'], loc=0)\n",
    "plt.xlabel('Epochs.')\n",
    "plt.ylabel('Losses.')"
   ]
  },
  {
   "cell_type": "code",
   "execution_count": 19,
   "metadata": {
    "collapsed": false
   },
   "outputs": [],
   "source": [
    "entropies = []\n",
    "emd_dists = []\n",
    "for sdata in accum_syn_data:\n",
    "    entropies.append(entropy_of_occupancy_grid(sdata, 32))\n",
    "    emd_dists.append(point_cloud_distances(sdata, 10, gan.sess, 'emd'))\n",
    "plt.plot(range(len(mean_emd_dists)), mean_emd_dists)"
   ]
  },
  {
   "cell_type": "code",
   "execution_count": 20,
   "metadata": {
    "collapsed": false
   },
   "outputs": [
    {
     "data": {
      "text/plain": [
       "[<matplotlib.lines.Line2D at 0x7f1fa4190450>]"
      ]
     },
     "execution_count": 20,
     "metadata": {},
     "output_type": "execute_result"
    },
    {
     "data": {
      "image/png": "[encoded data removed]",
      "text/plain": [
       "<matplotlib.figure.Figure at 0x7f1e5c2545d0>"
      ]
     },
     "metadata": {},
     "output_type": "display_data"
    }
   ],
   "source": [
    "plt.plot(range(len(entropies)), entropies)"
   ]
  },
  {
   "cell_type": "code",
   "execution_count": 41,
   "metadata": {
    "collapsed": false
   },
   "outputs": [
    {
     "data": {
      "text/plain": [
       "[<matplotlib.lines.Line2D at 0x7f1fa4675850>]"
      ]
     },
     "execution_count": 41,
     "metadata": {},
     "output_type": "execute_result"
    },
    {
     "data": {
      "image/png": "[encoded data removed]",
      "text/plain": [
       "<matplotlib.figure.Figure at 0x7f1fab1cbb90>"
      ]
     },
     "metadata": {},
     "output_type": "display_data"
    }
   ],
   "source": [
    "# mean_emd_dists = [np.mean(i) for i in emd_dists]\n"
   ]
  },
  {
   "cell_type": "code",
   "execution_count": 37,
   "metadata": {
    "collapsed": false
   },
   "outputs": [
    {
     "ename": "IndexError",
     "evalue": "list index out of range",
     "output_type": "error",
     "traceback": [
      "\u001b[0;31m---------------------------------------------------------------------------\u001b[0m",
      "\u001b[0;31mIndexError\u001b[0m                                Traceback (most recent call last)",
      "\u001b[0;32m<ipython-input-37-63cc0f27a5fb>\u001b[0m in \u001b[0;36m<module>\u001b[0;34m()\u001b[0m\n\u001b[1;32m      1\u001b[0m \u001b[0mrindex\u001b[0m \u001b[0;34m=\u001b[0m \u001b[0mnp\u001b[0m\u001b[0;34m.\u001b[0m\u001b[0mrandom\u001b[0m\u001b[0;34m.\u001b[0m\u001b[0mchoice\u001b[0m\u001b[0;34m(\u001b[0m\u001b[0mnp\u001b[0m\u001b[0;34m.\u001b[0m\u001b[0marange\u001b[0m\u001b[0;34m(\u001b[0m\u001b[0mn_syn_samples\u001b[0m\u001b[0;34m)\u001b[0m\u001b[0;34m,\u001b[0m \u001b[0msize\u001b[0m\u001b[0;34m=\u001b[0m\u001b[0;36m5\u001b[0m\u001b[0;34m,\u001b[0m \u001b[0mreplace\u001b[0m\u001b[0;34m=\u001b[0m\u001b[0mFalse\u001b[0m\u001b[0;34m)\u001b[0m\u001b[0;34m\u001b[0m\u001b[0m\n\u001b[0;32m----> 2\u001b[0;31m \u001b[0mdi\u001b[0m \u001b[0;34m=\u001b[0m \u001b[0maccum_syn_data\u001b[0m\u001b[0;34m[\u001b[0m\u001b[0;36m10\u001b[0m\u001b[0;34m]\u001b[0m\u001b[0;34m\u001b[0m\u001b[0m\n\u001b[0m\u001b[1;32m      3\u001b[0m \u001b[0;34m\u001b[0m\u001b[0m\n\u001b[1;32m      4\u001b[0m \u001b[0;32mfor\u001b[0m \u001b[0mpc\u001b[0m \u001b[0;32min\u001b[0m \u001b[0mdi\u001b[0m\u001b[0;34m[\u001b[0m\u001b[0mrindex\u001b[0m\u001b[0;34m]\u001b[0m\u001b[0;34m:\u001b[0m\u001b[0;34m\u001b[0m\u001b[0m\n\u001b[1;32m      5\u001b[0m     \u001b[0mPoint_Cloud\u001b[0m\u001b[0;34m(\u001b[0m\u001b[0mpc\u001b[0m\u001b[0;34m)\u001b[0m\u001b[0;34m.\u001b[0m\u001b[0mplot\u001b[0m\u001b[0;34m(\u001b[0m\u001b[0;34m)\u001b[0m\u001b[0;34m\u001b[0m\u001b[0m\n",
      "\u001b[0;31mIndexError\u001b[0m: list index out of range"
     ]
    }
   ],
   "source": [
    "rindex = np.random.choice(np.arange(n_syn_samples), size=5, replace=False)\n",
    "di = accum_syn_data[0]\n",
    "\n",
    "for pc in di[rindex]:\n",
    "    Point_Cloud(pc).plot()"
   ]
  },
  {
   "cell_type": "code",
   "execution_count": 38,
   "metadata": {
    "collapsed": false
   },
   "outputs": [
    {
     "data": {
      "text/plain": [
       "[0.1984797197057015,\n",
       " 0.20536642068107427,\n",
       " 0.19498980092242815,\n",
       " 0.17060522072874418,\n",
       " 0.13954920667710172,\n",
       " 0.10447704110157868,\n",
       " 0.080195659856730453,\n",
       " 0.067442013618748173,\n",
       " 0.06255487874323315,\n",
       " 0.064081573474364328]"
      ]
     },
     "execution_count": 38,
     "metadata": {},
     "output_type": "execute_result"
    }
   ],
   "source": [
    "entropies"
   ]
  },
  {
   "cell_type": "code",
   "execution_count": 11,
   "metadata": {
    "collapsed": false,
    "deletable": true,
    "editable": true
   },
   "outputs": [
    {
     "data": {
      "text/plain": [
       "0.064890976298144123"
      ]
     },
     "execution_count": 11,
     "metadata": {},
     "output_type": "execute_result"
    }
   ],
   "source": [
    "# # Swap axis and save\n",
    "n_samples = 1000\n",
    "syn_latent_data = gan.generate(n_samples, noise_params)\n",
    "syn_data = ae.decode(syn_latent_data)\n",
    "\n",
    "syn_data_rot = np.empty_like(syn_data)\n",
    "for i, pc in enumerate(syn_data):\n",
    "    syn_data_rot[i] = pc[:, [0, 2, 1]]\n",
    "    pc = Point_Cloud(syn_data_rot[i]).center_in_unit_sphere()\n",
    "    syn_data_rot[i] = pc.points\n",
    "\n",
    "# save_out = osp.join(synthetic_data_out_dir, experiment_name + '_epoch_' + str(epoch))\n",
    "# np.savez(save_out, syn_data_rot)\n"
   ]
  },
  {
   "cell_type": "code",
   "execution_count": 71,
   "metadata": {
    "collapsed": false,
    "deletable": true,
    "editable": true
   },
   "outputs": [
    {
     "data": {
      "text/plain": [
       "(500, 2048, 3)"
      ]
     },
     "execution_count": 71,
     "metadata": {},
     "output_type": "execute_result"
    }
   ],
   "source": [
    "# np.vstack(accum_syn_data).shape\n",
    "# # # entropy_of_occupancy_grid(ae.decode(gan.generate(n_samples, noise_params)), 32)\n",
    "# # # entropy_of_occupancy_grid(syn_data, 32)\n",
    "\n",
    "# # entropy_of_occupancy_grid(np.vstack(accum_syn_data), 32)\n",
    "\n",
    "# # gro = []\n",
    "# # for i in accum_syn_data:\n",
    "# #     gro += i[]\n",
    "# # # len(accum_syn_data)\n",
    "\n",
    "# # # accum_syn_data[0]\n",
    "\n",
    "# # len(gro)\n",
    "\n",
    "# # np.random.sample(np.arange(10))/\n",
    "# lala = np.random.choice(np.arange(5000), size=1000, replace=False)\n",
    "# entropy_of_occupancy_grid(np.vstack(accum_syn_data)[lala], 32)"
   ]
  }
 ],
 "metadata": {
  "kernelspec": {
   "display_name": "Python 2",
   "language": "python",
   "name": "python2"
  },
  "language_info": {
   "codemirror_mode": {
    "name": "ipython",
    "version": 2
   },
   "file_extension": ".py",
   "mimetype": "text/x-python",
   "name": "python",
   "nbconvert_exporter": "python",
   "pygments_lexer": "ipython2",
   "version": "2.7.6"
  }
 },
 "nbformat": 4,
 "nbformat_minor": 2
}
