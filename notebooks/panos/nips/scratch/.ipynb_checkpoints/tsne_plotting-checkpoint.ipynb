{
 "cells": [
  {
   "cell_type": "code",
   "execution_count": null,
   "metadata": {
    "collapsed": true
   },
   "outputs": [],
   "source": [
    "# It was removed from bottom cells of vanilla_ae_multi_class_sn"
   ]
  },
  {
   "cell_type": "code",
   "execution_count": null,
   "metadata": {
    "collapsed": true
   },
   "outputs": [],
   "source": [
    "#TSNE PLOTTING\n",
    "from tf_lab.autopredictors.scripts.virt_scan_data import all_classes as vscan_categories\n",
    "from tf_lab.nips.shape_net import shape_net_core_synth_id_to_category as syn_to_cat\n",
    "from tf_lab.autopredictors.scripts.virt_scan_data import plotting_default_params\n",
    "from general_tools.clustering.plt import plot_2d_embedding_in_grid_greedy_way, plot_2d_embedding_in_grid_forceful\n",
    "\n",
    "all_categories = [syn_to_cat[s] for s in full_syn_ids]\n",
    "mask_on_vcats = [c in vscan_categories for c in all_categories]\n",
    "mask_on_vcats = np.array(mask_on_vcats, dtype=np.bool)\n",
    "in_vcat_index = np.arange(len(mask_on_vcats))[mask_on_vcats]\n",
    "\n",
    "full_pclouds_tmp = full_pclouds[in_vcat_index]\n",
    "syn_ids_tmp = full_syn_ids[in_vcat_index]\n",
    "model_unames_tmp = model_unames[in_vcat_index] \n",
    "\n",
    "\n",
    "def random_samples_from_each_class(syn_ids, samples_per_class=100):\n",
    "    selected = []\n",
    "    for syn_id in np.unique(syn_ids):\n",
    "        in_class = np.where(syn_ids == syn_id)[0]\n",
    "        effective_samples = min(len(in_class), samples_per_class)\n",
    "        selected += np.ndarray.tolist(np.random.choice(in_class, effective_samples, replace=False))\n",
    "    return selected\n",
    "\n",
    "def save_images_of_pointclouds(pclouds, model_unames, syn_ids, save_image_dir):\n",
    "    plt.ioff()   \n",
    "    for i, pc in enumerate(pclouds):\n",
    "        category_i = shape_net_core_synth_id_to_category[syn_ids[i]]\n",
    "        params = plotting_default_params(category_i)        \n",
    "        save_name = model_unames[i] + '.png'\n",
    "        fig = Point_Cloud(points=pc).plot(show=False, show_axis=False, **params);\n",
    "        fig.savefig(osp.join(save_image_dir, save_name))\n",
    "        plt.close()\n",
    "\n",
    "\n",
    "\n",
    "top_image_dir = osp.join(full_pclouds_path, 'images')\n",
    "create_dir(top_image_dir)\n",
    "samples_per_class = 200\n",
    "rand_ind = random_samples_from_each_class(syn_ids_tmp, samples_per_class)\n",
    "save_images_of_pointclouds(full_pclouds_tmp[rand_ind], model_unames_tmp[rand_ind],\n",
    "                           syn_ids_tmp[rand_ind], top_image_dir)"
   ]
  },
  {
   "cell_type": "code",
   "execution_count": null,
   "metadata": {
    "collapsed": true
   },
   "outputs": [],
   "source": [
    "from tf_lab.autopredictors.exploration import latent_embedding_of_entire_dataset\n",
    "from sklearn.manifold import TSNE\n",
    "tsne_dataset = PointCloudDataSet(full_pclouds_tmp[rand_ind], labels=model_unames_tmp[rand_ind], init_shuffle=False)\n",
    "feed, latent_codes, ids = latent_embedding_of_entire_dataset(tsne_dataset, ae, conf)\n",
    "model = TSNE(n_components=2, random_state=seed, init='pca', verbose=True)\n",
    "tsne_small = model.fit_transform(latent_codes)"
   ]
  },
  {
   "cell_type": "code",
   "execution_count": null,
   "metadata": {
    "collapsed": true
   },
   "outputs": [],
   "source": [
    "# Make a list with the file-names of all to be used images.\n",
    "image_files = []\n",
    "for s_id in model_unames_tmp[rand_ind]:\n",
    "    save_name = s_id + '.png'\n",
    "    image_files.append(osp.join(top_image_dir, save_name))"
   ]
  },
  {
   "cell_type": "code",
   "execution_count": null,
   "metadata": {
    "collapsed": true
   },
   "outputs": [],
   "source": [
    "plot_2d_embedding_in_grid_forceful(tsne_small, image_files, big_dim=8000, small_dim=200, save_file='tsne_complete_ae.png');"
   ]
  }
 ],
 "metadata": {
  "kernelspec": {
   "display_name": "Python 2",
   "language": "python",
   "name": "python2"
  },
  "language_info": {
   "codemirror_mode": {
    "name": "ipython",
    "version": 2
   },
   "file_extension": ".py",
   "mimetype": "text/x-python",
   "name": "python",
   "nbconvert_exporter": "python",
   "pygments_lexer": "ipython2",
   "version": "2.7.6"
  }
 },
 "nbformat": 4,
 "nbformat_minor": 2
}
