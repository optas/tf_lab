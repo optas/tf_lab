{
 "cells": [
  {
   "cell_type": "code",
   "execution_count": 1,
   "metadata": {
    "collapsed": false,
    "deletable": true,
    "editable": true
   },
   "outputs": [
    {
     "name": "stdout",
     "output_type": "stream",
     "text": [
      "Picking GPU 3\n"
     ]
    }
   ],
   "source": [
    "from general_tools.notebook.gpu_utils import setup_one_gpu\n",
    "GPU = 3\n",
    "setup_one_gpu(GPU)"
   ]
  },
  {
   "cell_type": "code",
   "execution_count": 2,
   "metadata": {
    "collapsed": false,
    "deletable": true,
    "editable": true
   },
   "outputs": [
    {
     "name": "stderr",
     "output_type": "stream",
     "text": [
      "/usr/local/lib/python2.7/dist-packages/matplotlib/font_manager.py:273: UserWarning: Matplotlib is building the font cache using fc-list. This may take a moment.\n",
      "  warnings.warn('Matplotlib is building the font cache using fc-list. This may take a moment.')\n"
     ]
    }
   ],
   "source": [
    "import sys\n",
    "import numpy as np\n",
    "import os.path as osp\n",
    "import tensorflow as tf\n",
    "import glob\n",
    "import matplotlib.pylab as plt\n",
    "\n",
    "import tf_lab.point_clouds.in_out as pio\n",
    "from tf_lab.point_clouds.in_out import PointCloudDataSet, write_model_ids_of_datasets\n",
    "from tf_lab.point_clouds.point_net_ae import PointNetAutoEncoder\n",
    "from tf_lab.point_clouds.autoencoder import Configuration as Conf\n",
    "\n",
    "\n",
    "from tf_lab.autopredictors.scripts.helper import shape_net_category_to_synth_id\n",
    "from tf_lab.autopredictors.scripts.virt_scan_data import plotting_default_params\n",
    "\n",
    "\n",
    "from general_tools.notebook.tf import reset_tf_graph                                                  \n",
    "from general_tools.in_out.basics import create_dir, delete_files_in_directory, files_in_subdirs\n",
    "from general_tools.simpletons import select_first_last_and_k, indices_in_iterable\n",
    "\n",
    "\n",
    "from geo_tool import Point_Cloud\n",
    "\n",
    "from tf_lab.nips.shape_net import pc_loader as sn_pc_loader\n",
    "\n",
    "from tf_lab.autopredictors.exploration import latent_embedding_of_entire_dataset\n",
    "\n",
    "from tf_lab.autopredictors.evaluate import eval_model, read_saved_epochs\n",
    "from sklearn.neighbors import NearestNeighbors\n",
    "\n",
    "from general_tools.plotting import stack_images_horizontally, stack_images_in_square_grid"
   ]
  },
  {
   "cell_type": "code",
   "execution_count": 3,
   "metadata": {
    "collapsed": false,
    "deletable": true,
    "editable": true
   },
   "outputs": [],
   "source": [
    "%load_ext autoreload\n",
    "%autoreload 2\n",
    "%matplotlib inline"
   ]
  },
  {
   "cell_type": "code",
   "execution_count": 4,
   "metadata": {
    "collapsed": false,
    "deletable": true,
    "editable": true
   },
   "outputs": [
    {
     "name": "stdout",
     "output_type": "stream",
     "text": [
      "Model restored in epoch 1910.\n"
     ]
    }
   ],
   "source": [
    "n_pc_samples = 2048\n",
    "experiment_name = 'all_snc_rotated_conv_arch_2048pts_emd'\n",
    "# experiment_name = class_name + '_conv_arch_1_2048pts_emd'\n",
    "top_data_dir = '/orions4-zfs/projects/lins2/Panos_Space/DATA/'\n",
    "train_dir = osp.join(top_data_dir, 'OUT/models/nips/vanilla_ae/')\n",
    "train_dir = osp.join(train_dir, experiment_name)\n",
    "conf = Conf.load(osp.join(train_dir, 'configuration'))\n",
    "conf.n_output = conf.n_input\n",
    "reset_tf_graph()\n",
    "\n",
    "conf.allow_gpu_growth = True\n",
    "ae = PointNetAutoEncoder(experiment_name, conf)\n",
    "saved_epochs = read_saved_epochs(conf.train_dir)\n",
    "last_epoch = saved_epochs[-1]\n",
    "\n",
    "ae.restore_model(conf.train_dir, last_epoch, verbose=True)"
   ]
  },
  {
   "cell_type": "code",
   "execution_count": 147,
   "metadata": {
    "collapsed": false,
    "deletable": true,
    "editable": true
   },
   "outputs": [
    {
     "name": "stdout",
     "output_type": "stream",
     "text": [
      "Give me the class type.\n",
      "chair\n",
      "03001627\n"
     ]
    }
   ],
   "source": [
    "class_name = raw_input('Give me the class type.\\n').lower()\n",
    "syn_id = shape_net_category_to_synth_id()[class_name]\n",
    "print syn_id"
   ]
  },
  {
   "cell_type": "code",
   "execution_count": 148,
   "metadata": {
    "collapsed": true,
    "deletable": true,
    "editable": true
   },
   "outputs": [],
   "source": [
    "top_data_dir = '/orions4-zfs/projects/lins2/Panos_Space/DATA/'\n",
    "full_pclouds_path = osp.join(top_data_dir, 'Point_Clouds/Shape_Net/Core/from_manifold_meshes/centered/', str(n_pc_samples))\n",
    "\n",
    "full_pclouds_path = osp.join(full_pclouds_path, syn_id)\n",
    "\n",
    "train_dir = osp.join(top_data_dir, 'OUT/models/nips/vanilla_ae/')\n",
    "train_dir = osp.join(train_dir, experiment_name)"
   ]
  },
  {
   "cell_type": "code",
   "execution_count": 149,
   "metadata": {
    "collapsed": false,
    "deletable": true,
    "editable": true
   },
   "outputs": [
    {
     "name": "stdout",
     "output_type": "stream",
     "text": [
      "6778 files containing complete point clouds were found.\n"
     ]
    }
   ],
   "source": [
    "full_file_names = pio.load_filenames_of_input_data(full_pclouds_path, '.ply')\n",
    "full_pclouds, full_model_names, full_syn_ids = pio.load_crude_point_clouds(file_names=full_file_names,\\\n",
    "                                                                           n_threads=40, loader=sn_pc_loader)\n",
    "print '%d files containing complete point clouds were found.' % (len(full_pclouds), )\n",
    "\n",
    "model_unames = full_model_names + '_' + full_syn_ids\n",
    "train_data = PointCloudDataSet(full_pclouds, labels=full_model_names, init_shuffle=False)"
   ]
  },
  {
   "cell_type": "code",
   "execution_count": 150,
   "metadata": {
    "collapsed": true,
    "deletable": true,
    "editable": true
   },
   "outputs": [],
   "source": [
    "_, latent_emb, _ = latent_embedding_of_entire_dataset(train_data, ae, conf)\n",
    "n_objects = train_data.num_examples"
   ]
  },
  {
   "cell_type": "code",
   "execution_count": 151,
   "metadata": {
    "collapsed": true,
    "deletable": true,
    "editable": true
   },
   "outputs": [],
   "source": [
    "import matplotlib.pyplot as plt\n",
    "from geo_tool import Point_Cloud\n",
    "\n",
    "in_u_sphere_plotting = {'chair': True, 'airplane': False, 'cabinet': False, 'car': False, 'lamp': True, 'sofa': True, 'table': True, 'vessel': False}\n",
    "\n",
    "azimuth_angles = {'chair': -50, 'airplane': 0, 'cabinet': -40, 'car': -60, 'lamp': 0, 'sofa': -60, 'table': 60, 'vessel': -60}\n",
    "\n",
    "plotting_color = {'chair': 'g', 'airplane': 'b', 'cabinet': 'orange', 'car': 'r', 'lamp': 'yellow', 'sofa': 'magenta', 'table': [0.7, .45, 0], 'vessel': [0, 0.6, 1]}\n",
    "\n",
    "from tf_lab.nips.data_sets.shape_net import shape_net_core_synth_id_to_category\n",
    "\n",
    "def plotting_default_params(category):\n",
    "    kwdict = {}\n",
    "    kwdict['in_u_sphere'] = False\n",
    "    try:\n",
    "        kwdict['azim'] = azimuth_angles[category]\n",
    "        kwdict['color'] = plotting_color[category]\n",
    "    except:\n",
    "        pass\n",
    "    return kwdict\n",
    "\n",
    "\n",
    "def plot_interpolations(inter_clouds, grid_size, fig_size=(50, 50), plot_conf={}):\n",
    "    fig = plt.figure(figsize=fig_size)\n",
    "    c = 1\n",
    "    for cloud in inter_clouds:\n",
    "        plt.subplot(grid_size[0], grid_size[1], c, projection='3d')\n",
    "        plt.axis('off')\n",
    "        ax = fig.axes[c - 1]\n",
    "        Point_Cloud(points=cloud).plot(axis=ax, show=False, **plot_conf)\n",
    "        c += 1\n",
    "    return fig"
   ]
  },
  {
   "cell_type": "code",
   "execution_count": 190,
   "metadata": {
    "collapsed": false,
    "deletable": true,
    "editable": true
   },
   "outputs": [
    {
     "data": {
      "image/png": "[encoded data removed]",
      "text/plain": [
       "<matplotlib.figure.Figure at 0x7f47201bdf10>"
      ]
     },
     "metadata": {},
     "output_type": "display_data"
    }
   ],
   "source": [
    "n_interpolants = 5\n",
    "id1 = np.random.randint(0, n_objects)\n",
    "id2 = np.random.randint(0, n_objects)\n",
    "\n",
    "# print id1, id2\n",
    "# id1 = 2039,  4562\n",
    "# id2 = 6233, 5581, 3382\n",
    "# id1 = 6233\n",
    "# id2 = 4562\n",
    "\n",
    "\n",
    "c1 = shape_net_core_synth_id_to_category[full_syn_ids[id1]]\n",
    "c1 = plotting_default_params(c1)\n",
    "c2 = shape_net_core_synth_id_to_category[full_syn_ids[id2]]\n",
    "c2 = plotting_default_params(c2)\n",
    "\n",
    "inter_results = ae.interpolate(full_pclouds[id1], full_pclouds[id2], 5)\n",
    "fig = plot_interpolations(inter_results, (5,5), fig_size=(10,10), plot_conf=c1);"
   ]
  },
  {
   "cell_type": "code",
   "execution_count": 187,
   "metadata": {
    "collapsed": false,
    "deletable": true,
    "editable": true
   },
   "outputs": [],
   "source": [
    "out_inter_dir = '/orions4-zfs/projects/lins2/Panos_Space/DATA/OUT/nips/interpolations/'\n",
    "folder = class_name + '_emd_epoch+' + str(last_epoch)\n",
    "save_tag = model_unames[id1] + '_' + model_unames[id2]\n",
    "out_d = create_dir(osp.join(out_inter_dir, folder, save_tag))\n",
    "\n",
    "fig.savefig(osp.join(out_d, 'interpolations.png'))\n",
    "\n",
    "for i in range(n_interpolants+2):\n",
    "    np.savetxt(osp.join(out_d, str(i) + '_inter.txt'), inter_results[i])\n",
    "    "
   ]
  },
  {
   "cell_type": "markdown",
   "metadata": {
    "deletable": true,
    "editable": true
   },
   "source": [
    "# SHAPE ANALOGIES"
   ]
  },
  {
   "cell_type": "code",
   "execution_count": 12,
   "metadata": {
    "collapsed": false,
    "deletable": true,
    "editable": true
   },
   "outputs": [],
   "source": [
    "_, latent_emb, _ = latent_embedding_of_entire_dataset(train_data, ae, conf)\n",
    "nn = NearestNeighbors(n_neighbors=2).fit(latent_emb)"
   ]
  },
  {
   "cell_type": "code",
   "execution_count": 15,
   "metadata": {
    "collapsed": false,
    "deletable": true,
    "editable": true
   },
   "outputs": [
    {
     "name": "stdout",
     "output_type": "stream",
     "text": [
      "[9, 4, 3, 308] [[ 2.03863633  2.07982047]]\n"
     ]
    },
    {
     "data": {
      "text/plain": [
       "<PIL.Image.Image image mode=RGBA size=3840x540 at 0x7FE9C9994A70>"
      ]
     },
     "execution_count": 15,
     "metadata": {},
     "output_type": "execute_result"
    }
   ],
   "source": [
    "# id1 = np.random.randint(0, n_objects)\n",
    "# id2 = np.random.randint(0, n_objects)\n",
    "# id3 = np.random.randint(0, n_objects)\n",
    "\n",
    "triplet = [9, 4, 3]\n",
    "\n",
    "diff = latent_emb[triplet[0]] - latent_emb[triplet[1]]\n",
    "\n",
    "target = latent_emb[triplet[2]] + diff\n",
    "\n",
    "distance, index = nn.kneighbors(target.reshape(1, -1))\n",
    "\n",
    "triplet.append(index[0][1])\n",
    "print triplet, distance\n",
    "\n",
    "top_image_dir = '/orions4-zfs/projects/lins2/Panos_Space/DATA/Meshes/Shape_Net_Core/2015_Summer_OUT/Images/' + syn_id\n",
    "image_setting = 'image_p020_t315_r005.png'\n",
    "triplet_im_files = [osp.join(top_image_dir, i, image_setting) for i in full_model_names[triplet]]\n",
    "\n",
    "stack_images_horizontally(triplet_im_files)\n",
    "# stack_images_in_square_grid(triplet_im_files)\n",
    "# stack_images_horizontally_2(triplet_im_files)"
   ]
  },
  {
   "cell_type": "code",
   "execution_count": 23,
   "metadata": {
    "collapsed": true,
    "deletable": true,
    "editable": true
   },
   "outputs": [],
   "source": [
    "from PIL import Image\n",
    "def stack_images_horizontally_2(file_names, save_file=None):\n",
    "    ''' Opens the images corresponding to file_names and\n",
    "    creates a new image stacking them horizontally.\n",
    "    '''\n",
    "    images = map(Image.open, file_names)\n",
    "    widths, heights = zip(*(i.size for i in images))\n",
    "    total_width = sum(widths)\n",
    "    max_height = max(heights)\n",
    "    new_im = Image.new('RGBA', (total_width, max_height))\n",
    "\n",
    "    x_offset = 0\n",
    "    for im in images:\n",
    "        new_im.paste(im, (x_offset, 0))\n",
    "        x_offset += im.size[0]\n",
    "    if save_file is not None:\n",
    "        new_im.save(save_file)\n",
    "    return new_im"
   ]
  },
  {
   "cell_type": "code",
   "execution_count": null,
   "metadata": {
    "collapsed": true,
    "deletable": true,
    "editable": true
   },
   "outputs": [],
   "source": []
  },
  {
   "cell_type": "code",
   "execution_count": null,
   "metadata": {
    "collapsed": true,
    "deletable": true,
    "editable": true
   },
   "outputs": [],
   "source": []
  },
  {
   "cell_type": "code",
   "execution_count": null,
   "metadata": {
    "collapsed": true,
    "deletable": true,
    "editable": true
   },
   "outputs": [],
   "source": []
  },
  {
   "cell_type": "code",
   "execution_count": null,
   "metadata": {
    "collapsed": true,
    "deletable": true,
    "editable": true
   },
   "outputs": [],
   "source": []
  },
  {
   "cell_type": "code",
   "execution_count": null,
   "metadata": {
    "collapsed": true,
    "deletable": true,
    "editable": true
   },
   "outputs": [],
   "source": []
  }
 ],
 "metadata": {
  "kernelspec": {
   "display_name": "Python 2",
   "language": "python",
   "name": "python2"
  },
  "language_info": {
   "codemirror_mode": {
    "name": "ipython",
    "version": 2
   },
   "file_extension": ".py",
   "mimetype": "text/x-python",
   "name": "python",
   "nbconvert_exporter": "python",
   "pygments_lexer": "ipython2",
   "version": "2.7.6"
  }
 },
 "nbformat": 4,
 "nbformat_minor": 2
}
