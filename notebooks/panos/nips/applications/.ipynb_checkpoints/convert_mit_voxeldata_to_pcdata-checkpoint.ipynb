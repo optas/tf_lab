{
 "cells": [
  {
   "cell_type": "code",
   "execution_count": 1,
   "metadata": {
    "collapsed": false,
    "deletable": true,
    "editable": true
   },
   "outputs": [],
   "source": [
    "import numpy as np\n",
    "import os.path as osp\n",
    "from scipy.io import loadmat\n",
    "from numpy.random import choice\n",
    "from geo_tool import Point_Cloud\n",
    "from general_tools.in_out.basics import create_dir"
   ]
  },
  {
   "cell_type": "code",
   "execution_count": 2,
   "metadata": {
    "collapsed": true,
    "deletable": true,
    "editable": true
   },
   "outputs": [],
   "source": [
    "%matplotlib inline\n",
    "%load_ext autoreload\n",
    "%autoreload 2"
   ]
  },
  {
   "cell_type": "code",
   "execution_count": 3,
   "metadata": {
    "collapsed": true,
    "deletable": true,
    "editable": true
   },
   "outputs": [],
   "source": [
    "n_samples_dict = {'chair': 6778,\n",
    "                  'car': 7497,\n",
    "                  'desk': 8509,\n",
    "                  'sofa': 3173\n",
    "                }"
   ]
  },
  {
   "cell_type": "code",
   "execution_count": 3,
   "metadata": {
    "collapsed": false,
    "deletable": true,
    "editable": true
   },
   "outputs": [
    {
     "data": {
      "text/plain": [
       "'/orions4-zfs/projects/lins2/Panos_Space/DATA/OUT/nips/mit_3dgan_synthetic_samples/point_clouds/2048'"
      ]
     },
     "execution_count": 3,
     "metadata": {},
     "output_type": "execute_result"
    }
   ],
   "source": [
    "# Parameters\n",
    "class_name = 'car'\n",
    "mit_data_dir = '/orions4-zfs/projects/lins2/Panos_Space/DATA/OUT/nips/mit_3dgan_synthetic_samples/voxel_grids/2K_models_per_class/'\n",
    "mit_data_dir = osp.join(mit_data_dir, class_name + '_sample.mat')\n",
    "\n",
    "prune_low_voxels = True\n",
    "\n",
    "n_pc_points = 2048\n",
    "out_data_dir = '/orions4-zfs/projects/lins2/Panos_Space/DATA/OUT/nips/mit_3dgan_synthetic_samples/point_clouds/'\n",
    "out_data_dir = osp.join(out_data_dir, str(n_pc_points))\n",
    "create_dir(out_data_dir)"
   ]
  },
  {
   "cell_type": "code",
   "execution_count": 21,
   "metadata": {
    "collapsed": false,
    "deletable": true,
    "editable": true
   },
   "outputs": [
    {
     "name": "stdout",
     "output_type": "stream",
     "text": [
      "(2000, 64, 64, 64)\n"
     ]
    }
   ],
   "source": [
    "mit_data = loadmat(mit_data_dir)\n",
    "mit_data = np.squeeze(mit_data['voxels'])\n",
    "print mit_data.shape\n",
    "\n",
    "# n_models = n_samples_dict[class_name]   # how many synthetic data to sample\n",
    "n_models = len(mit_data)\n",
    "gen_data = np.zeros((n_models, n_pc_points, 3))"
   ]
  },
  {
   "cell_type": "code",
   "execution_count": 14,
   "metadata": {
    "collapsed": false,
    "deletable": true,
    "editable": true
   },
   "outputs": [],
   "source": [
    "def voxel_field_to_point_cloud(voxel_field, n_points):\n",
    "    weights = voxel_field.reshape(-1) / np.sum(voxel_field)\n",
    "    elements = range(len(weights))\n",
    "    indices = choice(elements, p=weights, size=n_points, replace=False)\n",
    "    pc = np.zeros_like(voxel_field)\n",
    "    pc = pc.reshape(-1)\n",
    "    pc[indices] = 1\n",
    "    pc = pc.reshape(voxel_field.shape)\n",
    "    x, y, z = np.where(pc)\n",
    "    points = np.vstack((x, y, z)).T\n",
    "    return points.astype(np.float32)"
   ]
  },
  {
   "cell_type": "code",
   "execution_count": 26,
   "metadata": {
    "collapsed": false,
    "deletable": true,
    "editable": true
   },
   "outputs": [
    {
     "name": "stdout",
     "output_type": "stream",
     "text": [
      "236\n",
      "278\n",
      "122\n",
      "384\n",
      "488\n",
      "208\n",
      "188\n",
      "363\n",
      "418\n",
      "3\n"
     ]
    }
   ],
   "source": [
    "for i in xrange(10):\n",
    "    voxel_field = mit_data[i]    \n",
    "    if prune_low_voxels:\n",
    "        voxel_field[voxel_field < 0.1] = 0\n",
    "        good_cells = np.sum(voxel_field >= 0.1)    \n",
    "    else:\n",
    "        good_cells = n_pc_points\n",
    "    n_pc_samples = min(good_cells, n_pc_points)\n",
    "    pc = voxel_field_to_point_cloud(voxel_field, n_pc_samples)\n",
    "    pc = Point_Cloud(pc)\n",
    "    if n_pc_samples < n_pc_points:  # boot-strap\n",
    "        pc = pc.sample(n_pc_points)[0]    \n",
    "    assert(len(pc.points) == n_pc_points)\n",
    "    gen_data[i] = pc.points"
   ]
  },
  {
   "cell_type": "code",
   "execution_count": 17,
   "metadata": {
    "collapsed": false,
    "deletable": true,
    "editable": true
   },
   "outputs": [],
   "source": [
    "if prune_low_voxels:\n",
    "    out_file_tag = class_name + '_pruned'\n",
    "else:\n",
    "    out_file_tag = class_name + '_no_pruned'\n",
    "\n",
    "np.savez(osp.join(out_data_dir, out_file_tag), gen_data)"
   ]
  }
 ],
 "metadata": {
  "anaconda-cloud": {},
  "kernelspec": {
   "display_name": "Python 2",
   "language": "python",
   "name": "python2"
  },
  "language_info": {
   "codemirror_mode": {
    "name": "ipython",
    "version": 2
   },
   "file_extension": ".py",
   "mimetype": "text/x-python",
   "name": "python",
   "nbconvert_exporter": "python",
   "pygments_lexer": "ipython2",
   "version": "2.7.6"
  }
 },
 "nbformat": 4,
 "nbformat_minor": 1
}
