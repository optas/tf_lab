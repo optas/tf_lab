{
 "cells": [
  {
   "cell_type": "code",
   "execution_count": 1,
   "metadata": {
    "collapsed": false,
    "deletable": true,
    "editable": true
   },
   "outputs": [
    {
     "name": "stdout",
     "output_type": "stream",
     "text": [
      "Picking GPU 2\n"
     ]
    }
   ],
   "source": [
    "from general_tools.notebook.gpu_utils import setup_one_gpu\n",
    "GPU = 2\n",
    "setup_one_gpu(GPU)"
   ]
  },
  {
   "cell_type": "code",
   "execution_count": 2,
   "metadata": {
    "collapsed": false,
    "deletable": true,
    "editable": true
   },
   "outputs": [
    {
     "name": "stdout",
     "output_type": "stream",
     "text": [
      "PyTorch not working. MMD measurement won't be available\n"
     ]
    }
   ],
   "source": [
    "import sys\n",
    "import time\n",
    "import numpy as np\n",
    "import os.path as osp\n",
    "import tensorflow as tf\n",
    "import matplotlib.pyplot as plt\n",
    "\n",
    "from sklearn import mixture\n",
    "from general_tools.notebook.tf import reset_tf_graph\n",
    "\n",
    "import tf_lab.point_clouds.in_out as pio\n",
    "from tf_lab.point_clouds.in_out import PointCloudDataSet, write_model_ids_of_datasets\n",
    "\n",
    "from tf_lab.point_clouds.point_net_ae import PointNetAutoEncoder\n",
    "from tf_lab.point_clouds.autoencoder import Configuration as Conf\n",
    "import tf_lab.point_clouds.encoders_decoders as enc_dec\n",
    "\n",
    "from tf_lab.autopredictors.scripts.helper import shape_net_category_to_synth_id\n",
    "\n",
    "from tf_lab.autopredictors.plotting import plot_original_pclouds_vs_reconstructed, \\\n",
    "                                           plot_train_val_test_curves, plot_reconstructions_at_epoch\n",
    "\n",
    "from tf_lab.autopredictors.evaluate import eval_model, read_saved_epochs\n",
    "\n",
    "from tf_lab.autopredictors.exploration import latent_embedding_of_entire_dataset\n",
    "                                                  \n",
    "from general_tools.in_out.basics import create_dir, delete_files_in_directory, files_in_subdirs\n",
    "from general_tools.simpletons import select_first_last_and_k\n",
    "from geo_tool import Point_Cloud\n",
    "\n",
    "from tf_lab.nips.data_sets.shape_net import pc_loader as sn_pc_loader\n",
    "\n",
    "\n",
    "from tf_lab.nips.evaluate_gan import entropy_of_occupancy_grid, jensen_shannon_divergence, sample_pclouds_distances\n",
    "from tf_lab.point_clouds.gan import model_saver_id\n",
    "from tf_lab.autopredictors.exploration import find_neighbors\n",
    "from tf_lab.nips.helper import pclouds_centered_and_half_sphere\n",
    "\n",
    "from bench_pc_gan.evaluate_gan import entropy_of_occupancy_grid"
   ]
  },
  {
   "cell_type": "code",
   "execution_count": 3,
   "metadata": {
    "collapsed": false,
    "deletable": true,
    "editable": true
   },
   "outputs": [],
   "source": [
    "%load_ext autoreload\n",
    "%autoreload 2\n",
    "%matplotlib inline"
   ]
  },
  {
   "cell_type": "code",
   "execution_count": 4,
   "metadata": {
    "collapsed": false,
    "deletable": true,
    "editable": true
   },
   "outputs": [],
   "source": [
    "top_data_dir = '/orions4-zfs/projects/lins2/Panos_Space/DATA'\n",
    "syn_id = shape_net_category_to_synth_id()['chair']\n",
    "n_pc_samples = 2048"
   ]
  },
  {
   "cell_type": "code",
   "execution_count": 5,
   "metadata": {
    "collapsed": false,
    "deletable": true,
    "editable": true
   },
   "outputs": [
    {
     "name": "stdout",
     "output_type": "stream",
     "text": [
      "6778 files containing complete point clouds were found.\n"
     ]
    }
   ],
   "source": [
    "# Load Raw Point-Clouds of class\n",
    "pclouds_path = osp.join(top_data_dir, 'Point_Clouds/Shape_Net/Core/from_manifold_meshes/centered/', str(n_pc_samples))\n",
    "pclouds_path = osp.join(pclouds_path, syn_id)\n",
    "file_names = pio.load_filenames_of_input_data(pclouds_path, '.ply')\n",
    "pclouds, model_ids, syn_ids = pio.load_crude_point_clouds(file_names=file_names, n_threads=50, loader=sn_pc_loader)\n",
    "print '%d files containing complete point clouds were found.' % (len(pclouds), )"
   ]
  },
  {
   "cell_type": "code",
   "execution_count": 7,
   "metadata": {
    "collapsed": true,
    "deletable": true,
    "editable": true
   },
   "outputs": [],
   "source": [
    "# Prepare random variable for JSD measuremnts.\n",
    "voxel_resolution = 28\n",
    "cmp_in_sphere = True\n",
    "pclouds_ = pclouds_centered_and_half_sphere(pclouds)\n",
    "_, gt_grid_var = entropy_of_occupancy_grid(pclouds_, voxel_resolution, in_sphere=cmp_in_sphere)"
   ]
  },
  {
   "cell_type": "code",
   "execution_count": 6,
   "metadata": {
    "collapsed": true,
    "deletable": true,
    "editable": true
   },
   "outputs": [],
   "source": [
    "def invert_dictionary(d):\n",
    "    inv_map = {v: k for k, v in d.iteritems()}\n",
    "    return inv_map\n",
    "\n",
    "def load_ae(ae_net_dir, load_epoch):\n",
    "    ae_conf = Conf.load(osp.join(ae_net_dir, 'configuration'))\n",
    "    reset_tf_graph()\n",
    "    ae = PointNetAutoEncoder(ae_conf.experiment_name, ae_conf)\n",
    "    bneck = ae.bottleneck_size\n",
    "    print 'Bneck =', bneck \n",
    "    ae.restore_model(ae_net_dir, load_epoch, verbose=True)\n",
    "    return ae, ae_conf"
   ]
  },
  {
   "cell_type": "code",
   "execution_count": 7,
   "metadata": {
    "collapsed": false,
    "deletable": true,
    "editable": true
   },
   "outputs": [],
   "source": [
    "from tf_lab.icml.ae_farm_helper import EMD_Stats as exp_stats\n",
    "bneck_to_experiment_id = invert_dictionary(exp_stats.experiment_id_to_bneck)"
   ]
  },
  {
   "cell_type": "code",
   "execution_count": 94,
   "metadata": {
    "collapsed": false,
    "deletable": true,
    "editable": true
   },
   "outputs": [
    {
     "name": "stdout",
     "output_type": "stream",
     "text": [
      "Bneck = 4\n",
      "Model restored in epoch 1000.\n"
     ]
    }
   ],
   "source": [
    "bneck = 4\n",
    "exp = 18\n",
    "ae_net_dir = '/orions4-zfs/projects/lins2/Panos_Space/DATA/OUT/icml/nn_models/ae_farming/ae_farm_chair_conv_arch_'\\\n",
    "                 + str(exp) + '_2048pts_emd/'\n",
    "load_epoch, _ = exp_stats.best_epochs[bneck]\n",
    "ae, ae_conf = load_ae(ae_net_dir, load_epoch)\n",
    "# Convert raw-data to latent codes.\n",
    "raw_data = PointCloudDataSet(pclouds, init_shuffle=False)\n",
    "_, latent_codes, _ = latent_embedding_of_entire_dataset(raw_data, ae, ae_conf)"
   ]
  },
  {
   "cell_type": "code",
   "execution_count": 114,
   "metadata": {
    "collapsed": false,
    "deletable": true,
    "editable": true
   },
   "outputs": [
    {
     "name": "stdout",
     "output_type": "stream",
     "text": [
      "16\n",
      "59199.1227451\n",
      "59199.1227451\n",
      "59199.1227451\n"
     ]
    },
    {
     "data": {
      "text/plain": [
       "[<matplotlib.lines.Line2D at 0x7f5494564bd0>]"
      ]
     },
     "execution_count": 114,
     "metadata": {},
     "output_type": "execute_result"
    },
    {
     "data": {
      "image/png": "[encoded data removed]",
      "text/plain": [
       "<matplotlib.figure.Figure at 0x7f549444e290>"
      ]
     },
     "metadata": {},
     "output_type": "display_data"
    }
   ],
   "source": [
    "cov_type = 'full'\n",
    "aic_scores = []\n",
    "bic_scores = []\n",
    "likelihood_scores = []\n",
    "\n",
    "for n_component in [16]:\n",
    "    print n_component\n",
    "#     np.random.seed(0)\n",
    "    gmm = mixture.GaussianMixture(n_component, covariance_type=cov_type)\n",
    "    gmm.fit(latent_codes)\n",
    "    sample_codes = gmm.sample(raw_data.num_examples)[0]\n",
    "    print gmm.bic(latent_codes)    \n",
    "    \n",
    "    \n",
    "#     sample_pcs = ae.decode(sample_codes)\n",
    "#     aic_scores.append(gmm.aic(latent_codes))\n",
    "#     bic_scores.append(gmm.bic(latent_codes))\n",
    "#     print bic_scores\n",
    "#     sample_codes = gmm.sample(raw_data.num_examples)[0]\n",
    "\n",
    "    \n",
    "    sample_codes = gmm.sample(raw_data.num_examples)[0]\n",
    "    print gmm.bic(latent_codes)\n",
    "    \n",
    "    sample_codes = gmm.sample(raw_data.num_examples)[0]\n",
    "    print gmm.bic(latent_codes)\n",
    "\n",
    "#     likelihood_scores.append(gmm.score(latent_codes))\n",
    "    \n",
    "plt.plot(bic_scores, '*')"
   ]
  },
  {
   "cell_type": "code",
   "execution_count": 98,
   "metadata": {
    "collapsed": false,
    "deletable": true,
    "editable": true
   },
   "outputs": [
    {
     "data": {
      "text/plain": [
       "(6778, 4)"
      ]
     },
     "execution_count": 98,
     "metadata": {},
     "output_type": "execute_result"
    }
   ],
   "source": [
    "latent_codes.shape"
   ]
  },
  {
   "cell_type": "code",
   "execution_count": null,
   "metadata": {
    "collapsed": true,
    "deletable": true,
    "editable": true
   },
   "outputs": [],
   "source": []
  },
  {
   "cell_type": "code",
   "execution_count": null,
   "metadata": {
    "collapsed": true,
    "deletable": true,
    "editable": true
   },
   "outputs": [],
   "source": []
  },
  {
   "cell_type": "code",
   "execution_count": 35,
   "metadata": {
    "collapsed": false,
    "deletable": true,
    "editable": true
   },
   "outputs": [
    {
     "name": "stdout",
     "output_type": "stream",
     "text": [
      "Bneck = 128\n",
      "Model restored in epoch 990.\n",
      "covariance_type = full\n",
      "n_components=1 JSD=0.012765\n",
      "n_components=2 JSD=0.007745\n"
     ]
    },
    {
     "name": "stderr",
     "output_type": "stream",
     "text": [
      "/orions4-zfs/projects/lins2/.local/lib/python2.7/site-packages/sklearn/mixture/base.py:237: ConvergenceWarning: Initialization 1 did not converged. Try different init parameters, or increase max_iter, tol or check for degenerate data.\n",
      "  % (init + 1), ConvergenceWarning)\n"
     ]
    },
    {
     "name": "stdout",
     "output_type": "stream",
     "text": [
      "n_components=4 JSD=0.006202\n",
      "n_components=10 JSD=0.003932\n",
      "n_components=20 JSD=0.003328\n",
      "covariance_type = diag\n",
      "n_components=1 JSD=0.062583\n",
      "n_components=2 JSD=0.034868\n",
      "n_components=4 JSD=0.025091\n",
      "n_components=10 JSD=0.018585\n",
      "n_components=20 JSD=0.012488\n",
      "\n",
      "\n",
      "Bneck = 64\n",
      "Model restored in epoch 940.\n",
      "covariance_type = full\n",
      "n_components=1 JSD=0.013829\n",
      "n_components=2 JSD=0.007856\n",
      "n_components=4 JSD=0.006042\n",
      "n_components=10 JSD=0.003629\n",
      "n_components=20 JSD=0.003238\n",
      "covariance_type = diag\n",
      "n_components=1 JSD=0.042900\n",
      "n_components=2 JSD=0.028176\n",
      "n_components=4 JSD=0.020399\n",
      "n_components=10 JSD=0.013471\n",
      "n_components=20 JSD=0.009775\n",
      "\n",
      "\n",
      "Bneck = 4\n",
      "Model restored in epoch 1000.\n",
      "covariance_type = full\n",
      "n_components=1 JSD=0.026572\n",
      "n_components=2 JSD=0.013027\n",
      "n_components=4 JSD=0.010139\n",
      "n_components=10 JSD=0.007907\n",
      "n_components=20 JSD=0.005599\n",
      "covariance_type = diag\n",
      "n_components=1 JSD=0.028135\n",
      "n_components=2 JSD=0.013554\n",
      "n_components=4 JSD=0.009995\n",
      "n_components=10 JSD=0.007516\n",
      "n_components=20 JSD=0.005942\n",
      "\n",
      "\n",
      "Bneck = 1024\n",
      "Model restored in epoch 950.\n",
      "covariance_type = full\n",
      "n_components=1 JSD=0.014056\n",
      "n_components=2 JSD=0.008970\n",
      "n_components=4 JSD=0.006866\n",
      "n_components=10 JSD=0.004738\n",
      "n_components=20 JSD=0.003381\n",
      "covariance_type = diag\n",
      "n_components=1 JSD=0.097258\n",
      "n_components=2 JSD=0.058632\n",
      "n_components=4 JSD=0.042742\n",
      "n_components=10 JSD=0.026396\n",
      "n_components=20 JSD=0.017668\n",
      "\n",
      "\n",
      "Bneck = 32\n",
      "Model restored in epoch 960.\n",
      "covariance_type = full\n",
      "n_components=1 JSD=0.014271\n",
      "n_components=2 JSD=0.008903\n",
      "n_components=4 JSD=0.006547\n",
      "n_components=10 JSD=0.003808\n",
      "n_components=20 JSD=0.003694\n",
      "covariance_type = diag\n",
      "n_components=1 JSD=0.033826\n",
      "n_components=2 JSD=0.022978\n",
      "n_components=4 JSD=0.015979\n",
      "n_components=10 JSD=0.009317\n",
      "n_components=20 JSD=0.006985\n",
      "\n",
      "\n",
      "Bneck = 8\n",
      "Model restored in epoch 950.\n",
      "covariance_type = full\n",
      "n_components=1 JSD=0.017766\n",
      "n_components=2 JSD=0.009518\n",
      "n_components=4 JSD=0.007326\n",
      "n_components=10 JSD=0.004777\n",
      "n_components=20 JSD=0.004089\n",
      "covariance_type = diag\n",
      "n_components=1 JSD=0.022221\n",
      "n_components=2 JSD=0.011529\n",
      "n_components=4 JSD=0.009055\n",
      "n_components=10 JSD=0.005538\n",
      "n_components=20 JSD=0.004618\n",
      "\n",
      "\n",
      "Bneck = 256\n",
      "Model restored in epoch 980.\n",
      "covariance_type = full\n",
      "n_components=1 JSD=0.013290\n",
      "n_components=2 JSD=0.008004\n",
      "n_components=4 JSD=0.006168\n",
      "n_components=10 JSD=0.004563\n",
      "n_components=20 JSD=0.003490\n",
      "covariance_type = diag\n",
      "n_components=1 JSD=0.073418\n",
      "n_components=2 JSD=0.042207\n",
      "n_components=4 JSD=0.031046\n",
      "n_components=10 JSD=0.022438\n",
      "n_components=20 JSD=0.014084\n",
      "\n",
      "\n",
      "Bneck = 16\n",
      "Model restored in epoch 960.\n",
      "covariance_type = full\n",
      "n_components=1 JSD=0.014833\n",
      "n_components=2 JSD=0.008541\n",
      "n_components=4 JSD=0.006358\n",
      "n_components=10 JSD=0.004008\n",
      "n_components=20 JSD=0.003503\n",
      "covariance_type = diag\n",
      "n_components=1 JSD=0.022946\n",
      "n_components=2 JSD=0.014878\n",
      "n_components=4 JSD=0.011417\n",
      "n_components=10 JSD=0.007009\n",
      "n_components=20 JSD=0.005619\n",
      "\n",
      "\n",
      "Bneck = 512\n",
      "Model restored in epoch 990.\n",
      "covariance_type = full\n",
      "n_components=1 JSD=0.013252\n",
      "n_components=2 JSD=0.008518\n",
      "n_components=4 JSD=0.006404\n",
      "n_components=10 JSD=0.004617\n",
      "n_components=20 JSD=0.003222\n",
      "covariance_type = diag\n",
      "n_components=1 JSD=0.082968\n",
      "n_components=2 JSD=0.046611\n",
      "n_components=4 JSD=0.032973\n",
      "n_components=10 JSD=0.023268\n",
      "n_components=20 JSD=0.014556\n",
      "\n",
      "\n"
     ]
    }
   ],
   "source": [
    "for bneck, exp in bneck_to_experiment_id.iteritems(): \n",
    "    ae_net_dir = '/orions4-zfs/projects/lins2/Panos_Space/DATA/OUT/icml/nn_models/ae_farming/ae_farm_chair_conv_arch_'\\\n",
    "                 + str(exp) + '_2048pts_emd/'\n",
    "    load_epoch, _ = exp_stats.best_epochs[bneck]\n",
    "    ae, ae_conf = load_ae(ae_net_dir, load_epoch)\n",
    "    # Convert raw-data to latent codes.\n",
    "    raw_data = PointCloudDataSet(pclouds, init_shuffle=False)\n",
    "    _, latent_codes, _ = latent_embedding_of_entire_dataset(raw_data, ae, ae_conf)\n",
    "    \n",
    "    for cov_type in ['full', 'diag']:        \n",
    "        print 'covariance_type =', cov_type\n",
    "        # Fit a Gaussian Mixture Model with n_components - compute jsd\n",
    "        np.random.seed(0)\n",
    "        for n_component in [1, 2, 4, 10, 20]:\n",
    "            gmm = mixture.GaussianMixture(n_component, covariance_type=cov_type)\n",
    "            gmm.fit(latent_codes)\n",
    "            sample_codes = gmm.sample(raw_data.num_examples)[0]\n",
    "            sample_pcs = ae.decode(sample_codes)\n",
    "            sample_pcs_ = pclouds_centered_and_half_sphere(sample_pcs)\n",
    "            _, sample_grid_var = entropy_of_occupancy_grid(sample_pcs_, voxel_resolution, in_sphere=cmp_in_sphere)\n",
    "            print 'n_components=%d JSD=%f' % (n_component, jensen_shannon_divergence(sample_grid_var, gt_grid_var))\n",
    "\n",
    "    print ('\\n')"
   ]
  }
 ],
 "metadata": {
  "kernelspec": {
   "display_name": "Python 2",
   "language": "python",
   "name": "python2"
  },
  "language_info": {
   "codemirror_mode": {
    "name": "ipython",
    "version": 2
   },
   "file_extension": ".py",
   "mimetype": "text/x-python",
   "name": "python",
   "nbconvert_exporter": "python",
   "pygments_lexer": "ipython2",
   "version": "2.7.6"
  }
 },
 "nbformat": 4,
 "nbformat_minor": 2
}
