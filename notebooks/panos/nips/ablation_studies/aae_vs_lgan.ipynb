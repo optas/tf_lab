{
 "cells": [
  {
   "cell_type": "code",
   "execution_count": 1,
   "metadata": {
    "collapsed": false
   },
   "outputs": [
    {
     "name": "stdout",
     "output_type": "stream",
     "text": [
      "Picking GPU 3\n"
     ]
    }
   ],
   "source": [
    "from general_tools.notebook.gpu_utils import setup_one_gpu\n",
    "GPU = 3\n",
    "setup_one_gpu(GPU)"
   ]
  },
  {
   "cell_type": "code",
   "execution_count": 2,
   "metadata": {
    "collapsed": false
   },
   "outputs": [
    {
     "name": "stderr",
     "output_type": "stream",
     "text": [
      "/usr/local/lib/python2.7/dist-packages/matplotlib/font_manager.py:273: UserWarning: Matplotlib is building the font cache using fc-list. This may take a moment.\n",
      "  warnings.warn('Matplotlib is building the font cache using fc-list. This may take a moment.')\n"
     ]
    }
   ],
   "source": [
    "import sys\n",
    "import time\n",
    "import numpy as np\n",
    "import os.path as osp\n",
    "import tensorflow as tf\n",
    "import matplotlib.pyplot as plt\n",
    "\n",
    "from general_tools.notebook.tf import reset_tf_graph\n",
    "\n",
    "import tf_lab.point_clouds.in_out as pio\n",
    "from tf_lab.point_clouds.in_out import PointCloudDataSet, write_model_ids_of_datasets\n",
    "\n",
    "from tf_lab.point_clouds.point_net_ae import PointNetAutoEncoder\n",
    "from tf_lab.point_clouds.autoencoder import Configuration as Conf\n",
    "import tf_lab.point_clouds.encoders_decoders as enc_dec\n",
    "\n",
    "from tf_lab.autopredictors.scripts.helper import shape_net_category_to_synth_id\n",
    "\n",
    "from tf_lab.autopredictors.plotting import plot_original_pclouds_vs_reconstructed, \\\n",
    "                                           plot_train_val_test_curves, plot_reconstructions_at_epoch\n",
    "\n",
    "from tf_lab.autopredictors.evaluate import eval_model, read_saved_epochs\n",
    "\n",
    "from tf_lab.autopredictors.exploration import latent_embedding_of_entire_dataset\n",
    "                                                  \n",
    "from general_tools.in_out.basics import create_dir, delete_files_in_directory, files_in_subdirs\n",
    "from general_tools.simpletons import select_first_last_and_k\n",
    "\n",
    "\n",
    "from geo_tool import Point_Cloud\n",
    "\n",
    "from tf_lab.nips.data_sets.shape_net import pc_loader as sn_pc_loader\n",
    "from tf_lab.point_clouds.raw_gan import RawGAN\n",
    "from tf_lab.point_clouds.raw_gan_gp import RawGAN_GP\n",
    "from tf_lab.point_clouds.latent_gan import LatentGAN\n",
    "from tf_lab.point_clouds.point_net_ae import PointNetAutoEncoder\n",
    "from tf_lab.point_clouds.point_net_aae import PointNetAdversarialAutoEncoder\n",
    "\n",
    "\n",
    "from tf_lab.nips.evaluate_gan import entropy_of_occupancy_grid, jensen_shannon_divergence, \\\n",
    "                                     sample_pclouds_distances\n",
    "\n",
    "from tf_lab.point_clouds.gan import model_saver_id\n",
    "\n",
    "from tf_lab.autopredictors.exploration import find_neighbors\n",
    "\n",
    "from tf_lab.nips.helper import pclouds_centered_and_half_sphere\n",
    "\n",
    "from tf_lab.point_clouds.generators_discriminators import latent_code_discriminator_two_layers, latent_code_generator_two_layers    \n",
    "\n",
    "from tf_lab.icml.ae_farm_helper import relevant_class"
   ]
  },
  {
   "cell_type": "code",
   "execution_count": 3,
   "metadata": {
    "collapsed": false
   },
   "outputs": [
    {
     "name": "stdout",
     "output_type": "stream",
     "text": [
      "PyTorch not working. MMD measurement won't be available\n"
     ]
    }
   ],
   "source": [
    "from bench_pc_gan.evaluate_gan import entropy_of_occupancy_grid, jensen_shannon_divergence\n",
    "from tf_lab.nips.helper import pclouds_centered_and_half_sphere\n",
    "from general_tools.simpletons import iterate_in_chunks"
   ]
  },
  {
   "cell_type": "code",
   "execution_count": 4,
   "metadata": {
    "collapsed": true
   },
   "outputs": [],
   "source": [
    "%load_ext autoreload\n",
    "%autoreload 2\n",
    "%matplotlib inline"
   ]
  },
  {
   "cell_type": "code",
   "execution_count": 5,
   "metadata": {
    "collapsed": false
   },
   "outputs": [
    {
     "name": "stdout",
     "output_type": "stream",
     "text": [
      "Give me the class type: chair\n",
      "Give me the AE bneck size:16\n"
     ]
    }
   ],
   "source": [
    "top_data_dir = '/orions4-zfs/projects/lins2/Panos_Space/DATA/'\n",
    "class_name = raw_input('Give me the class type: ').lower()\n",
    "n_pc_samples = 2048\n",
    "ae_loss = 'emd'\n",
    "\n",
    "syn_id = shape_net_category_to_synth_id()[class_name]\n",
    "bneck_size = int(raw_input('Give me the AE bneck size:'))\n",
    "\n",
    "# experiment_name = 'aee_' + class_name + '_conv_arch_bneck_' + str(bneck_size) + '_2048pts_' + ae_loss\n",
    "\n",
    "experiment_name = 'aee_fast' + class_name + '_conv_arch_bneck_' + str(bneck_size) + '_2048pts_' + ae_loss\n",
    "\n",
    "train_dir = osp.join(top_data_dir, 'OUT/models/nips/adversarial_ae', experiment_name)"
   ]
  },
  {
   "cell_type": "code",
   "execution_count": 6,
   "metadata": {
    "collapsed": false
   },
   "outputs": [
    {
     "name": "stdout",
     "output_type": "stream",
     "text": [
      "6778 files containing complete point clouds were found.\n"
     ]
    }
   ],
   "source": [
    "# Load Raw Point-Clouds of class\n",
    "pclouds_path = osp.join(top_data_dir, 'Point_Clouds/Shape_Net/Core/from_manifold_meshes/centered/', str(n_pc_samples))\n",
    "pclouds_path = osp.join(pclouds_path, syn_id)\n",
    "file_names = pio.load_filenames_of_input_data(pclouds_path, '.ply')\n",
    "pclouds, model_ids, syn_ids = pio.load_crude_point_clouds(file_names=file_names, n_threads=50, loader=sn_pc_loader)\n",
    "print '%d files containing complete point clouds were found.' % (len(pclouds), )\n",
    "train_data = PointCloudDataSet(pclouds)"
   ]
  },
  {
   "cell_type": "code",
   "execution_count": 7,
   "metadata": {
    "collapsed": false
   },
   "outputs": [
    {
     "name": "stdout",
     "output_type": "stream",
     "text": [
      "                    batch_size: 50\n",
      "                      beta_adv: 0\n",
      "                 consistent_io: None\n",
      "                         debug: False\n",
      "                       decoder: decoder_with_fc_only\n",
      "                  decoder_args: {'layer_sizes': [1024, 2048, 6144]}\n",
      "                       encoder: encoder_with_convs_and_symmetry\n",
      "                  encoder_args: {'filter_sizes': [40, 20, 10, 10], 'n_filters': [128, 128, 256, 16], 'strides': [1, 2, 2, 1]}\n",
      "               experiment_name: aee_fastchair_conv_arch_bneck_16_2048pts_emd\n",
      "                 gauss_augment: None\n",
      "                  is_denoising: False\n",
      "               latent_vs_recon: 1.0\n",
      "                 learning_rate: 0.0005\n",
      "                          loss: emd\n",
      "             loss_display_step: 1\n",
      "                        lr_adv: 1e-05\n",
      "                       n_input: [2048, 3]\n",
      "                      n_output: [2048, 3]\n",
      "                           n_z: None\n",
      "             saver_max_to_keep: None\n",
      "                    saver_step: 10\n",
      "                     train_dir: /orions4-zfs/projects/lins2/Panos_Space/DATA/OUT/models/nips/adversarial_ae/aee_fastchair_conv_arch_bneck_16_2048pts_emd\n",
      "               training_epochs: 1000\n",
      "                      z_rotate: False\n",
      "\n"
     ]
    }
   ],
   "source": [
    "conf = Conf.load(osp.join(train_dir, 'configuration'))\n",
    "print conf\n",
    "discriminator = latent_code_discriminator_two_layers\n",
    "noise_dim = bneck_size\n",
    "reset_tf_graph()\n",
    "aae = PointNetAdversarialAutoEncoder(experiment_name, conf, noise_dim, discriminator)"
   ]
  },
  {
   "cell_type": "code",
   "execution_count": 8,
   "metadata": {
    "collapsed": false
   },
   "outputs": [
    {
     "name": "stdout",
     "output_type": "stream",
     "text": [
      "Model restored in epoch 1000.\n"
     ]
    }
   ],
   "source": [
    "saved_epochs = read_saved_epochs(conf.train_dir)\n",
    "load_epoch = saved_epochs[-1]\n",
    "aae.restore_model(conf.train_dir, load_epoch, verbose=True)"
   ]
  },
  {
   "cell_type": "code",
   "execution_count": 9,
   "metadata": {
    "collapsed": false
   },
   "outputs": [],
   "source": [
    "_, latent_codes, _ = latent_embedding_of_entire_dataset(train_data, aae, conf)\n",
    "reconstructed = []\n",
    "for b in iterate_in_chunks(latent_codes, conf.batch_size):\n",
    "    reconstructed.append(aae.decode(b))\n",
    "reconstructed = np.vstack(reconstructed) \n",
    "reconstructed = pclouds_centered_and_half_sphere(reconstructed)"
   ]
  },
  {
   "cell_type": "code",
   "execution_count": 10,
   "metadata": {
    "collapsed": false
   },
   "outputs": [],
   "source": [
    "cmp_in_sphere = True\n",
    "voxel_resolution = 28\n",
    "pclouds_ = pclouds_centered_and_half_sphere(pclouds)\n",
    "_, gt_grid_var = entropy_of_occupancy_grid(pclouds_, voxel_resolution, in_sphere=cmp_in_sphere)"
   ]
  },
  {
   "cell_type": "code",
   "execution_count": 11,
   "metadata": {
    "collapsed": false
   },
   "outputs": [
    {
     "name": "stdout",
     "output_type": "stream",
     "text": [
      "JSD of training data:  0.000959186859547\n"
     ]
    }
   ],
   "source": [
    "_, sample_grid_var = entropy_of_occupancy_grid(reconstructed, voxel_resolution, in_sphere=cmp_in_sphere)\n",
    "jsd_epoch = jensen_shannon_divergence(sample_grid_var, gt_grid_var)\n",
    "print 'JSD of training data: ', jsd_epoch"
   ]
  },
  {
   "cell_type": "code",
   "execution_count": 41,
   "metadata": {
    "collapsed": false
   },
   "outputs": [
    {
     "name": "stdout",
     "output_type": "stream",
     "text": [
      "JSD of synthetic data:  0.0159530111072\n"
     ]
    }
   ],
   "source": [
    "noise = np.random.normal(0, 1, (train_data.num_examples, aae.bottleneck_size))\n",
    "posterior = pclouds_centered_and_half_sphere(aae.decode(noise))\n",
    "_, sample_grid_var = entropy_of_occupancy_grid(posterior, voxel_resolution, in_sphere=cmp_in_sphere)\n",
    "jsd_epoch = jensen_shannon_divergence(sample_grid_var, gt_grid_var)\n",
    "print 'JSD of synthetic data: ', jsd_epoch"
   ]
  },
  {
   "cell_type": "code",
   "execution_count": 12,
   "metadata": {
    "collapsed": false
   },
   "outputs": [
    {
     "name": "stdout",
     "output_type": "stream",
     "text": [
      "10\n",
      "-133111.670444\n",
      "10.814373573\n"
     ]
    }
   ],
   "source": [
    "from sklearn import mixture\n",
    "\n",
    "for n_component in [10]:\n",
    "    print n_component\n",
    "    gmm = mixture.GaussianMixture(n_component, covariance_type='full')\n",
    "    gmm.fit(latent_codes)\n",
    "#     sample_codes = gmm.sample(raw_data.num_examples)[0]\n",
    "    print gmm.bic(latent_codes)    \n",
    "    print gmm.score(latent_codes)"
   ]
  },
  {
   "cell_type": "code",
   "execution_count": null,
   "metadata": {
    "collapsed": true
   },
   "outputs": [],
   "source": [
    "# At 1K Epochs AAE learns an embedding with JSD of:\n",
    "# bneck - JSD\n",
    "# 32: 0.00075\n",
    "# 16: \n",
    "\n",
    "# At 1K Epochs AAE learns to generate synthetic samples with JSD of:\n",
    "# bneck - JSD \n",
    "# 32: 0.01545, 0.01583, 0.01595\n",
    "# 16: "
   ]
  }
 ],
 "metadata": {
  "kernelspec": {
   "display_name": "Python 2",
   "language": "python",
   "name": "python2"
  },
  "language_info": {
   "codemirror_mode": {
    "name": "ipython",
    "version": 2
   },
   "file_extension": ".py",
   "mimetype": "text/x-python",
   "name": "python",
   "nbconvert_exporter": "python",
   "pygments_lexer": "ipython2",
   "version": "2.7.6"
  }
 },
 "nbformat": 4,
 "nbformat_minor": 2
}
