{
 "cells": [
  {
   "cell_type": "code",
   "execution_count": 1,
   "metadata": {
    "collapsed": false,
    "deletable": true,
    "editable": true
   },
   "outputs": [],
   "source": [
    "from functools import partial\n",
    "from multiprocessing.dummy import Pool\n",
    "from subprocess import call\n",
    "import os.path as osp\n",
    "from general_tools.in_out.basics import files_in_subdirs, copy_folder_structure"
   ]
  },
  {
   "cell_type": "code",
   "execution_count": 2,
   "metadata": {
    "collapsed": false,
    "deletable": true,
    "editable": true
   },
   "outputs": [],
   "source": [
    "# PARAMETERS\n",
    "top_in_dir = '/orions4-zfs/projects/lins2/Panos_Space/DATA/Meshes/Model_Net/Model_Net_40/OBJ_Original'\n",
    "top_out_dir = '/orions4-zfs/projects/lins2/Panos_Space/DATA/Meshes/Model_Net/Model_Net_40/manifoldized'\n",
    "search_pattern = '.obj$'\n",
    "thread_num = 30\n",
    "binary = '/orions4-zfs/projects/lins2/Panos_Space/Git_Repos/external_tools/manifoldize/main'\n",
    "resolution = '20000'  # Default of manifoldize code."
   ]
  },
  {
   "cell_type": "code",
   "execution_count": 3,
   "metadata": {
    "collapsed": true,
    "deletable": true,
    "editable": true
   },
   "outputs": [],
   "source": [
    "top_out_dir = osp.join(top_out_dir, resolution)\n",
    "copy_folder_structure(top_in_dir, top_out_dir)\n",
    "all_in_files = [f for f in files_in_subdirs(top_in_dir, search_pattern)]"
   ]
  },
  {
   "cell_type": "code",
   "execution_count": 4,
   "metadata": {
    "collapsed": false,
    "deletable": true,
    "editable": true
   },
   "outputs": [
    {
     "name": "stdout",
     "output_type": "stream",
     "text": [
      "/orions4-zfs/projects/lins2/Panos_Space/Git_Repos/external_tools/manifoldize/main /orions4-zfs/projects/lins2/Panos_Space/DATA/Meshes/Model_Net/Model_Net_40/OBJ_Original/piano/test/piano_0275.obj /orions4-zfs/projects/lins2/Panos_Space/DATA/Meshes/Model_Net/Model_Net_40/manifoldized/20000//piano/test/piano_0275.obj 20000\n",
      "Total number of models that will be manifoldized are 9450\n"
     ]
    }
   ],
   "source": [
    "commands = []\n",
    "for in_f in all_in_files:\n",
    "    out_f = osp.join(top_out_dir, in_f.replace(top_in_dir, top_out_dir + osp.sep))\n",
    "    command = '%s %s %s %s' % (binary, in_f, out_f, resolution)\n",
    "    commands.append(command)\n",
    "\n",
    "print commands[0]\n",
    "print ('Total number of models that will be manifoldized are %d' % (len(commands)))"
   ]
  },
  {
   "cell_type": "code",
   "execution_count": null,
   "metadata": {
    "collapsed": false
   },
   "outputs": [],
   "source": [
    "pool = Pool(thread_num)\n",
    "for idx, return_code in enumerate(pool.imap(partial(call, shell=True), commands)):\n",
    "    if return_code != 0:\n",
    "        print('command %d of %s failed' % (idx, commands[idx]))"
   ]
  }
 ],
 "metadata": {
  "kernelspec": {
   "display_name": "Python 2",
   "language": "python",
   "name": "python2"
  },
  "language_info": {
   "codemirror_mode": {
    "name": "ipython",
    "version": 2
   },
   "file_extension": ".py",
   "mimetype": "text/x-python",
   "name": "python",
   "nbconvert_exporter": "python",
   "pygments_lexer": "ipython2",
   "version": "2.7.6"
  }
 },
 "nbformat": 4,
 "nbformat_minor": 2
}
