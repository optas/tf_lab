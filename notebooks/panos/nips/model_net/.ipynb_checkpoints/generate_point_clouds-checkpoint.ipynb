{
 "cells": [
  {
   "cell_type": "code",
   "execution_count": 2,
   "metadata": {
    "collapsed": false,
    "deletable": true,
    "editable": true
   },
   "outputs": [
    {
     "name": "stderr",
     "output_type": "stream",
     "text": [
      "/usr/local/lib/python2.7/dist-packages/matplotlib/font_manager.py:273: UserWarning: Matplotlib is building the font cache using fc-list. This may take a moment.\n",
      "  warnings.warn('Matplotlib is building the font cache using fc-list. This may take a moment.')\n",
      "/orions4-zfs/projects/lins2/Panos_Space/Git_Repos/geo_tool/solids/mesh.py:26: UserWarning: Mayavi library was not found. Some graphics utilities will be disabled.\n",
      "  warnings.warn('Mayavi library was not found. Some graphics utilities will be disabled.')\n"
     ]
    }
   ],
   "source": [
    "from general_tools.in_out.basics import files_in_subdirs, copy_folder_structure\n",
    "from geo_tool import Point_Cloud, Mesh\n",
    "from geo_tool.solids import mesh_cleaning as cleaning\n",
    "import os.path as osp\n",
    "from multiprocessing import Pool\n",
    "from tf_lab.nips.model_net import pc_sampler"
   ]
  },
  {
   "cell_type": "code",
   "execution_count": 3,
   "metadata": {
    "collapsed": true,
    "deletable": true,
    "editable": true
   },
   "outputs": [],
   "source": [
    "%load_ext autoreload\n",
    "%autoreload 2\n",
    "%matplotlib inline"
   ]
  },
  {
   "cell_type": "code",
   "execution_count": 4,
   "metadata": {
    "collapsed": false,
    "deletable": true,
    "editable": true
   },
   "outputs": [],
   "source": [
    "# Parameters\n",
    "n_threads = 50\n",
    "n_pc_samples = 2048\n",
    "top_mesh_dir = '/orions4-zfs/projects/lins2/Panos_Space/DATA/Meshes/Model_Net/Model_Net_40/manifoldized/20000/'\n",
    "top_out_dir = '/orions4-zfs/projects/lins2/Panos_Space/DATA/Point_Clouds/Model_Net_40/from_manifold/'\n",
    "top_out_dir = osp.join(top_out_dir, str(n_pc_samples) + osp.sep)\n",
    "copy_folder_structure(top_mesh_dir, top_out_dir)"
   ]
  },
  {
   "cell_type": "code",
   "execution_count": 5,
   "metadata": {
    "collapsed": false,
    "deletable": true,
    "editable": true
   },
   "outputs": [
    {
     "name": "stdout",
     "output_type": "stream",
     "text": [
      "12308\n"
     ]
    }
   ],
   "source": [
    "ending = '.obj'\n",
    "search_pattern = ending + '$'\n",
    "all_in_files = [f for f in files_in_subdirs(top_mesh_dir, search_pattern)]\n",
    "print len(all_in_files)"
   ]
  },
  {
   "cell_type": "code",
   "execution_count": 6,
   "metadata": {
    "collapsed": false,
    "deletable": true,
    "editable": true
   },
   "outputs": [
    {
     "name": "stdout",
     "output_type": "stream",
     "text": [
      "Starting a pool with 50 workers.\n"
     ]
    },
    {
     "name": "stderr",
     "output_type": "stream",
     "text": [
      "/orions4-zfs/projects/lins2/Panos_Space/Git_Repos/geo_tool/solids/mesh.py:323: RuntimeWarning: invalid value encountered in divide\n",
      "  face_areas = face_areas / np.sum(face_areas)\n",
      "/orions4-zfs/projects/lins2/Panos_Space/Git_Repos/geo_tool/solids/mesh.py:351: RuntimeWarning: overflow encountered in long_scalars\n",
      "  sample_face_idx[acc: acc + _n_sample] = face_idx\n",
      "/orions4-zfs/projects/lins2/Panos_Space/Git_Repos/geo_tool/solids/mesh.py:352: RuntimeWarning: overflow encountered in long_scalars\n",
      "  acc += _n_sample\n"
     ]
    }
   ],
   "source": [
    "drop = len(ending)\n",
    "pool = Pool(n_threads)\n",
    "print 'Starting a pool with %d workers.' % (n_threads, )\n",
    "\n",
    "for in_f in all_in_files:\n",
    "    out_f = in_f.replace(top_mesh_dir, top_out_dir)\n",
    "    out_f = out_f[:-drop]\n",
    "    pool.apply_async(pc_sampler, (in_f, n_pc_samples, out_f))\n",
    "    \n",
    "pool.close()\n",
    "pool.join()"
   ]
  },
  {
   "cell_type": "code",
   "execution_count": 7,
   "metadata": {
    "collapsed": false
   },
   "outputs": [
    {
     "name": "stdout",
     "output_type": "stream",
     "text": [
      "12308\n"
     ]
    }
   ],
   "source": [
    "all_in_files = [f for f in files_in_subdirs(top_out_dir, '.ply')]\n",
    "print len(all_in_files)"
   ]
  }
 ],
 "metadata": {
  "kernelspec": {
   "display_name": "Python 2",
   "language": "python",
   "name": "python2"
  },
  "language_info": {
   "codemirror_mode": {
    "name": "ipython",
    "version": 2
   },
   "file_extension": ".py",
   "mimetype": "text/x-python",
   "name": "python",
   "nbconvert_exporter": "python",
   "pygments_lexer": "ipython2",
   "version": "2.7.6"
  }
 },
 "nbformat": 4,
 "nbformat_minor": 2
}
