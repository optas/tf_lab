{
 "cells": [
  {
   "cell_type": "code",
   "execution_count": 60,
   "metadata": {
    "collapsed": false
   },
   "outputs": [],
   "source": [
    "from general_tools.in_out.basics import files_in_subdirs, copy_folder_structure\n",
    "from geo_tool import Point_Cloud, Mesh\n",
    "from geo_tool.solids import mesh_cleaning as cleaning\n",
    "import os.path as osp\n",
    "from multiprocessing import Pool\n",
    "from tf_lab.nips.model_net import pc_sampler"
   ]
  },
  {
   "cell_type": "code",
   "execution_count": null,
   "metadata": {
    "collapsed": true
   },
   "outputs": [],
   "source": [
    "# Parameters\n",
    "n_threads = 30\n",
    "n_pc_samples = 2048\n",
    "top_mesh_dir = '/orions4-zfs/projects/lins2/Panos_Space/DATA/Meshes/Model_Net/Model_Net_10/manifoldized/20000/'\n",
    "top_out_dir = '/orions4-zfs/projects/lins2/Panos_Space/DATA/Point_Clouds/Model_Net_10/from_manifold/'"
   ]
  },
  {
   "cell_type": "code",
   "execution_count": 3,
   "metadata": {
    "collapsed": true,
    "deletable": true,
    "editable": true
   },
   "outputs": [],
   "source": [
    "osp.join(top_out_dir, str(n_pc_samples))\n",
    "ending = '.obj'\n",
    "search_pattern = ending + '$'"
   ]
  },
  {
   "cell_type": "code",
   "execution_count": 4,
   "metadata": {
    "collapsed": false
   },
   "outputs": [],
   "source": [
    "copy_folder_structure(top_mesh_dir, top_out_dir)\n",
    "all_in_files = [f for f in files_in_subdirs(top_mesh_dir, search_pattern)]"
   ]
  },
  {
   "cell_type": "code",
   "execution_count": 58,
   "metadata": {
    "collapsed": false
   },
   "outputs": [
    {
     "name": "stdout",
     "output_type": "stream",
     "text": [
      "The autoreload extension is already loaded. To reload it, use:\n",
      "  %reload_ext autoreload\n"
     ]
    }
   ],
   "source": [
    "%load_ext autoreload\n",
    "%autoreload 2\n",
    "%matplotlib inline"
   ]
  },
  {
   "cell_type": "code",
   "execution_count": null,
   "metadata": {
    "collapsed": false
   },
   "outputs": [
    {
     "name": "stdout",
     "output_type": "stream",
     "text": [
      "Starting a pool with 30 workers.\n"
     ]
    }
   ],
   "source": [
    "drop = len(ending)\n",
    "pool = Pool(n_threads)\n",
    "print 'Starting a pool with %d workers.' % (n_threads, )\n",
    "\n",
    "for in_f in all_in_files:\n",
    "    out_f = in_f.replace(top_mesh_dir, top_out_dir)\n",
    "    out_f = out_f[:-drop]\n",
    "    pool.apply_async(pc_sampler, (in_f, n_pc_samples, out_f))\n",
    "    \n",
    "pool.close()\n",
    "pool.join()"
   ]
  }
 ],
 "metadata": {
  "kernelspec": {
   "display_name": "Python 2",
   "language": "python",
   "name": "python2"
  },
  "language_info": {
   "codemirror_mode": {
    "name": "ipython",
    "version": 2
   },
   "file_extension": ".py",
   "mimetype": "text/x-python",
   "name": "python",
   "nbconvert_exporter": "python",
   "pygments_lexer": "ipython2",
   "version": "2.7.6"
  }
 },
 "nbformat": 4,
 "nbformat_minor": 2
}
