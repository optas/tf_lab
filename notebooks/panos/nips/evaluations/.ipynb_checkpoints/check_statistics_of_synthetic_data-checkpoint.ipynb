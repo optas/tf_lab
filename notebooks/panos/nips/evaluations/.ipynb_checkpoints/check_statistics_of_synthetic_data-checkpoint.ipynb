{
 "cells": [
  {
   "cell_type": "code",
   "execution_count": 1,
   "metadata": {
    "collapsed": false,
    "deletable": true,
    "editable": true
   },
   "outputs": [
    {
     "name": "stdout",
     "output_type": "stream",
     "text": [
      "Picking GPU 0\n"
     ]
    }
   ],
   "source": [
    "from general_tools.notebook.gpu_utils import setup_one_gpu\n",
    "GPU = 0\n",
    "setup_one_gpu(GPU)"
   ]
  },
  {
   "cell_type": "code",
   "execution_count": 2,
   "metadata": {
    "collapsed": false,
    "deletable": true,
    "editable": true
   },
   "outputs": [
    {
     "name": "stderr",
     "output_type": "stream",
     "text": [
      "/orions4-zfs/projects/lins2/Panos_Space/Git_Repos/geo_tool/solids/mesh.py:26: UserWarning: Mayavi library was not found. Some graphics utilities will be disabled.\n",
      "  warnings.warn('Mayavi library was not found. Some graphics utilities will be disabled.')\n"
     ]
    }
   ],
   "source": [
    "import sys\n",
    "import numpy as np\n",
    "import os.path as osp\n",
    "import tensorflow as tf\n",
    "import glob\n",
    "import matplotlib.pylab as plt\n",
    "\n",
    "import tf_lab.point_clouds.in_out as pio\n",
    "from tf_lab.point_clouds.in_out import PointCloudDataSet, write_model_ids_of_datasets\n",
    "from tf_lab.point_clouds.point_net_ae import PointNetAutoEncoder\n",
    "from tf_lab.point_clouds.autoencoder import Configuration as Conf\n",
    "\n",
    "from tf_lab.autopredictors.scripts.helper import shape_net_category_to_synth_id\n",
    "\n",
    "from general_tools.notebook.tf import reset_tf_graph                                                  \n",
    "from general_tools.in_out.basics import create_dir, delete_files_in_directory, files_in_subdirs\n",
    "from general_tools.simpletons import select_first_last_and_k, indices_in_iterable\n",
    "\n",
    "from geo_tool import Point_Cloud\n",
    "\n",
    "from tf_lab.nips.shape_net import pc_loader as sn_pc_loader\n",
    "\n",
    "from tf_lab.autopredictors.exploration import latent_embedding_of_entire_dataset\n",
    "\n",
    "from tf_lab.autopredictors.evaluate import eval_model, read_saved_epochs\n",
    "\n",
    "from tf_lab.nips.evaluate_gan import entropy_of_occupancy_grid, point_cloud_distances,\\\n",
    "                                     jensen_shannon_divergence, sample_pclouds_distances\n",
    "\n",
    "from general_tools.strings import trim_content_after_last_dot\n",
    "\n",
    "from general_tools.plotting import stack_images_in_square_grid\n",
    "\n",
    "from tf_lab.nips.helper import pclouds_centered_and_half_sphere\n",
    "import scipy.stats as stats"
   ]
  },
  {
   "cell_type": "code",
   "execution_count": 3,
   "metadata": {
    "collapsed": false,
    "deletable": true,
    "editable": true
   },
   "outputs": [],
   "source": [
    "%load_ext autoreload\n",
    "%autoreload 2\n",
    "%matplotlib inline"
   ]
  },
  {
   "cell_type": "code",
   "execution_count": 4,
   "metadata": {
    "collapsed": false,
    "deletable": true,
    "editable": true
   },
   "outputs": [],
   "source": [
    "n_pc_samples = 2048\n",
    "seed = 42\n",
    "np.random.seed(seed)\n",
    "\n",
    "save_figs = False\n",
    "class_name = 'chair'\n",
    "\n",
    "cmp_in_sphere = False\n",
    "cmp_with_noise = False\n",
    "cmp_jsd = False\n",
    "\n",
    "normalize_data = True\n",
    "voxel_resolution = 32"
   ]
  },
  {
   "cell_type": "code",
   "execution_count": 5,
   "metadata": {
    "collapsed": false,
    "deletable": true,
    "editable": true
   },
   "outputs": [],
   "source": [
    "# Load Ground-Truth Data\n",
    "in_f = '/orions4-zfs/projects/lins2/Panos_Space/DATA/NIPS/our_samples/gt_all_' + class_name + '.npz'\n",
    "gt_data = np.load(in_f)\n",
    "gt_data = gt_data[gt_data.keys()[0]]\n",
    "\n",
    "if normalize_data:\n",
    "    gt_data = pclouds_centered_and_half_sphere(gt_data)\n",
    "\n",
    "if cmp_jsd:\n",
    "    _, gt_grid_var = entropy_of_occupancy_grid(gt_data, voxel_resolution, in_sphere=cmp_in_sphere)\n"
   ]
  },
  {
   "cell_type": "markdown",
   "metadata": {
    "deletable": true,
    "editable": true
   },
   "source": [
    "# JSD Measurements"
   ]
  },
  {
   "cell_type": "code",
   "execution_count": 6,
   "metadata": {
    "collapsed": false,
    "deletable": true,
    "editable": true
   },
   "outputs": [],
   "source": [
    "# Compare JSD of GT with random noise.\n",
    "if cmp_jsd and cmp_with_noise:\n",
    "    mu, sigma = 0, 1    \n",
    "    X = stats.truncnorm((lower - mu) / sigma, (upper - mu) / sigma, loc=mu, scale=sigma)\n",
    "    size = (len(gt_data), n_pc_samples, 3)\n",
    "    random_pcs = X.rvs(np.prod(size))\n",
    "    random_pcs = random_pcs.reshape(size)\n",
    "    \n",
    "#     lower = -0.5\n",
    "#     upper = 0.5\n",
    "#     random_pcs = np.random.uniform(low=lower, high=upper, size=(len(gt_data), n_pc_samples, 3))\n",
    "\n",
    "    _, random_grid_var = entropy_of_occupancy_grid(random_pcs, voxel_resolution, in_sphere=cmp_in_sphere)\n",
    "    print jensen_shannon_divergence(random_grid_var, gt_grid_var)"
   ]
  },
  {
   "cell_type": "code",
   "execution_count": 9,
   "metadata": {
    "collapsed": false,
    "deletable": true,
    "editable": true
   },
   "outputs": [],
   "source": [
    "# Compare JSD of GT with synthetic data.\n",
    "\n",
    "# exp_name = 'test_raw_gan_epoch_100'\n",
    "exp_name = 'test_ae_gan_epoch_100'\n",
    "\n",
    "in_f = osp.join('/orions4-zfs/projects/lins2/Panos_Space/DATA/NIPS/our_samples/', exp_name + '.npz')\n",
    "# in_f = '/orions4-zfs/projects/lins2/Panos_Space/DATA/NIPS/mit_3dgan_synthetic_samples/point_clouds/2048/2K_models_per_class/chair_no_pruned.npz'\n",
    "\n",
    "syn_data = np.load(in_f)\n",
    "syn_data = syn_data[syn_data.keys()[0]]\n",
    "\n",
    "# if normalize_data:\n",
    "#     syn_data = pclouds_centered_and_half_sphere(syn_data)\n",
    "\n",
    "# if cmp_jsd:\n",
    "#     _, syn_grid_var = entropy_of_occupancy_grid(syn_data, voxel_resolution, in_sphere=cmp_in_sphere)\n",
    "#     print jensen_shannon_divergence(syn_grid_var, gt_grid_var)"
   ]
  },
  {
   "cell_type": "code",
   "execution_count": 112,
   "metadata": {
    "collapsed": false,
    "deletable": true,
    "editable": true
   },
   "outputs": [],
   "source": [
    "class_prob = np.load('/orions4-zfs/projects/lins2/Panos_Space/Git_Repos/tf_lab/nips/point_net/chair_probs_on_raw_gan.npz')\n",
    "class_prob = class_prob[class_prob.keys()[0]]\n",
    "class_prob = np.hstack(class_prob)"
   ]
  },
  {
   "cell_type": "markdown",
   "metadata": {
    "collapsed": false,
    "deletable": true,
    "editable": true
   },
   "source": [
    "# Pairwise Distances"
   ]
  },
  {
   "cell_type": "code",
   "execution_count": 18,
   "metadata": {
    "collapsed": false,
    "deletable": true,
    "editable": true
   },
   "outputs": [
    {
     "name": "stdout",
     "output_type": "stream",
     "text": [
      "0.00810811\n"
     ]
    },
    {
     "data": {
      "text/plain": [
       "<matplotlib.text.Text at 0x7f848c5c5ad0>"
      ]
     },
     "execution_count": 18,
     "metadata": {},
     "output_type": "execute_result"
    },
    {
     "data": {
      "image/png": "[encoded data removed]",
      "text/plain": [
       "<matplotlib.figure.Figure at 0x7f848c648ad0>"
      ]
     },
     "metadata": {},
     "output_type": "display_data"
    }
   ],
   "source": [
    "# check_data = syn_data[cp > 0.95]\n",
    "# check_data = syn_data[:200]\n",
    "\n",
    "check_data = syn_data\n",
    "distance_type = 'chamfer'\n",
    "all_dists = sample_pclouds_distances(check_data, 30, 400, distance_type)\n",
    "\n",
    "print np.mean(all_dists)\n",
    "\n",
    "plt.hist(all_dists)[2]\n",
    "plt.xlabel(distance_type + ' pairwise distances')\n",
    "plt.ylabel('Histogram')\n",
    "\n",
    "# if save_figs:\n",
    "#     if check_data == gt_data:\n",
    "#         tag = 'gt_' + distance_type\n",
    "#     else:\n",
    "#         tag = trim_content_after_last_dot(in_f) + '_' + distance_type\n",
    "                \n",
    "#     plt.savefig(tag + '_dist_hist.png')"
   ]
  },
  {
   "cell_type": "markdown",
   "metadata": {
    "deletable": true,
    "editable": true
   },
   "source": [
    "# Plotting data in grid"
   ]
  },
  {
   "cell_type": "code",
   "execution_count": 10,
   "metadata": {
    "collapsed": false,
    "deletable": true,
    "editable": true
   },
   "outputs": [],
   "source": [
    "top_fig_dir = '/orions4-zfs/projects/lins2/Panos_Space/DATA/NIPS/Images/'\n",
    "top_fig_dir = create_dir(osp.join(top_fig_dir, exp_name))\n",
    "\n",
    "size = 500\n",
    "rids = np.random.choice(range(len(syn_data)), size=size, replace=False)\n",
    "plt.ioff()\n",
    "\n",
    "for i in range(size):\n",
    "    fig = Point_Cloud(syn_data[rids[i]]).plot(show=False, show_axis=False, azim=290, in_u_sphere=True, s=20);\n",
    "    fig.savefig(osp.join(top_fig_dir, 'sample_' +str(i)))\n",
    "    plt.close()\n",
    "\n",
    "file_names = glob.glob(top_fig_dir +'/*.png')\n",
    "stack_images_in_square_grid(file_names, save_file= osp.join(top_fig_dir, 'aggregate_samples.png'));\n",
    "plt.ion()"
   ]
  }
 ],
 "metadata": {
  "kernelspec": {
   "display_name": "Python 2",
   "language": "python",
   "name": "python2"
  },
  "language_info": {
   "codemirror_mode": {
    "name": "ipython",
    "version": 2
   },
   "file_extension": ".py",
   "mimetype": "text/x-python",
   "name": "python",
   "nbconvert_exporter": "python",
   "pygments_lexer": "ipython2",
   "version": "2.7.6"
  }
 },
 "nbformat": 4,
 "nbformat_minor": 2
}
