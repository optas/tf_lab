{
 "cells": [
  {
   "cell_type": "code",
   "execution_count": 1,
   "metadata": {
    "collapsed": false,
    "deletable": true,
    "editable": true
   },
   "outputs": [
    {
     "name": "stdout",
     "output_type": "stream",
     "text": [
      "Picking GPU 0\n"
     ]
    }
   ],
   "source": [
    "from general_tools.notebook.gpu_utils import setup_one_gpu\n",
    "GPU = 0\n",
    "setup_one_gpu(GPU)"
   ]
  },
  {
   "cell_type": "code",
   "execution_count": 2,
   "metadata": {
    "collapsed": false,
    "deletable": true,
    "editable": true
   },
   "outputs": [
    {
     "name": "stderr",
     "output_type": "stream",
     "text": [
      "/orions4-zfs/projects/lins2/Panos_Space/Git_Repos/geo_tool/solids/mesh.py:26: UserWarning: Mayavi library was not found. Some graphics utilities will be disabled.\n",
      "  warnings.warn('Mayavi library was not found. Some graphics utilities will be disabled.')\n"
     ]
    }
   ],
   "source": [
    "import sys\n",
    "import numpy as np\n",
    "import os.path as osp\n",
    "import tensorflow as tf\n",
    "import glob\n",
    "import matplotlib.pylab as plt\n",
    "\n",
    "import tf_lab.point_clouds.in_out as pio\n",
    "from tf_lab.point_clouds.in_out import PointCloudDataSet\n",
    "from tf_lab.point_clouds.point_net_ae import PointNetAutoEncoder\n",
    "from tf_lab.point_clouds.autoencoder import Configuration as Conf\n",
    "\n",
    "from tf_lab.autopredictors.scripts.helper import shape_net_category_to_synth_id\n",
    "\n",
    "from general_tools.notebook.tf import reset_tf_graph                                              \n",
    "from general_tools.in_out.basics import create_dir, delete_files_in_directory, files_in_subdirs\n",
    "from general_tools.simpletons import select_first_last_and_k, indices_in_iterable\n",
    "\n",
    "from geo_tool import Point_Cloud\n",
    "\n",
    "from tf_lab.nips.shape_net import pc_loader as sn_pc_loader\n",
    "\n",
    "from tf_lab.autopredictors.exploration import latent_embedding_of_entire_dataset\n",
    "\n",
    "from tf_lab.autopredictors.evaluate import eval_model, read_saved_epochs\n",
    "\n",
    "from tf_lab.nips.evaluate_gan import entropy_of_occupancy_grid, point_cloud_distances,\\\n",
    "                                     jensen_shannon_divergence, sample_pclouds_distances\n",
    "\n",
    "from general_tools.strings import trim_content_after_last_dot\n",
    "\n",
    "from general_tools.plotting import stack_images_in_square_grid\n",
    "\n",
    "from tf_lab.nips.helper import pclouds_centered_and_half_sphere, zero_mean_half_sphere\n",
    "import scipy.stats as stats"
   ]
  },
  {
   "cell_type": "code",
   "execution_count": 3,
   "metadata": {
    "collapsed": false,
    "deletable": true,
    "editable": true
   },
   "outputs": [],
   "source": [
    "%load_ext autoreload\n",
    "%autoreload 2\n",
    "%matplotlib inline"
   ]
  },
  {
   "cell_type": "code",
   "execution_count": 4,
   "metadata": {
    "collapsed": true,
    "deletable": true,
    "editable": true
   },
   "outputs": [],
   "source": [
    "n_pc_samples = 2048\n",
    "cmp_in_sphere = True\n",
    "voxel_resolution = 28"
   ]
  },
  {
   "cell_type": "code",
   "execution_count": 6,
   "metadata": {
    "collapsed": false,
    "deletable": true,
    "editable": true
   },
   "outputs": [],
   "source": [
    "class_name = 'chair'\n",
    "ae_loss = 'emd'\n",
    "cmp_jsd = True\n",
    "save_figs = False\n",
    "cmp_with_noise = False\n",
    "cmp_mit = False"
   ]
  },
  {
   "cell_type": "code",
   "execution_count": 7,
   "metadata": {
    "collapsed": false,
    "deletable": true,
    "editable": true
   },
   "outputs": [],
   "source": [
    "# Load Ground-Truth Data\n",
    "in_f = '/orions4-zfs/projects/lins2/Panos_Space/DATA/OUT/nips/our_synthetic_samples/gt_all_' + class_name + '.npz'\n",
    "gt_data = np.load(in_f)\n",
    "gt_data = gt_data[gt_data.keys()[0]]\n",
    "\n",
    "if cmp_jsd:\n",
    "    _, gt_grid_var = entropy_of_occupancy_grid(gt_data, voxel_resolution, in_sphere=cmp_in_sphere)"
   ]
  },
  {
   "cell_type": "markdown",
   "metadata": {
    "deletable": true,
    "editable": true
   },
   "source": [
    "# JSD Measurements"
   ]
  },
  {
   "cell_type": "code",
   "execution_count": 8,
   "metadata": {
    "collapsed": false,
    "deletable": true,
    "editable": true
   },
   "outputs": [],
   "source": [
    "# Compare JSD of GT with random noise.\n",
    "if cmp_jsd and cmp_with_noise:\n",
    "    mu, sigma = 0, 1\n",
    "    lower = -0.5\n",
    "    upper = 0.5\n",
    "    X = stats.truncnorm((lower - mu) / sigma, (upper - mu) / sigma, loc=mu, scale=sigma)\n",
    "    size = (len(gt_data), n_pc_samples, 3)\n",
    "    random_pcs = X.rvs(np.prod(size))\n",
    "    random_pcs = random_pcs.reshape(size)\n",
    "\n",
    "    _, random_grid_var = entropy_of_occupancy_grid(random_pcs, voxel_resolution, in_sphere=cmp_in_sphere)\n",
    "    print 'JSD with trunc-normal :', jensen_shannon_divergence(random_grid_var, gt_grid_var)\n",
    "    \n",
    "    lower = -0.5\n",
    "    upper = 0.5\n",
    "    random_pcs = np.random.uniform(low=lower, high=upper, size=(len(gt_data), n_pc_samples, 3))\n",
    "\n",
    "    _, random_grid_var = entropy_of_occupancy_grid(random_pcs, voxel_resolution, in_sphere=cmp_in_sphere)\n",
    "    print 'JSD with Uniform :', jensen_shannon_divergence(random_grid_var, gt_grid_var)"
   ]
  },
  {
   "cell_type": "code",
   "execution_count": 9,
   "metadata": {
    "collapsed": false,
    "deletable": true,
    "editable": true
   },
   "outputs": [
    {
     "name": "stdout",
     "output_type": "stream",
     "text": [
      "Our samples JSD: 0.121429071989\n",
      "Our samples JSD: 0.0596704567574\n",
      "Our samples JSD: 0.0460678784089\n",
      "Our samples JSD: 0.0320243783395\n",
      "Our samples JSD: 0.0288383605831\n",
      "Our samples JSD: 0.0299838555037\n",
      "Our samples JSD: 0.0244943577945\n",
      "Our samples JSD: 0.0331410387101\n",
      "Our samples JSD: 0.023324573803\n",
      "Our samples JSD: 0.0218907484686\n",
      "Our samples JSD: 0.0219810317666\n",
      "Our samples JSD: 0.021312978132\n",
      "Our samples JSD: 0.0186582711143\n",
      "Our samples JSD: 0.0213775953076\n",
      "Our samples JSD: 0.0189602701274\n",
      "Our samples JSD: 0.0139401413793\n",
      "Our samples JSD: 0.0134712312968\n",
      "Our samples JSD: 0.0145677067986\n",
      "Our samples JSD: 0.0194958088427\n",
      "Our samples JSD: 0.0191811161558\n",
      "Our samples JSD: 0.0145060090396\n",
      "Our samples JSD: 0.0154891175928\n",
      "Our samples JSD: 0.0112241111948\n",
      "Our samples JSD: 0.0187810198947\n",
      "Our samples JSD: 0.0193863701376\n",
      "Our samples JSD: 0.0161171460438\n",
      "Our samples JSD: 0.0171709174928\n",
      "Our samples JSD: 0.0174155383385\n",
      "Our samples JSD: 0.0154802835504\n",
      "Our samples JSD: 0.019818718154\n",
      "Our samples JSD: 0.017175432822\n",
      "Our samples JSD: 0.0180020220892\n",
      "Our samples JSD: 0.0173494722882\n",
      "Our samples JSD: 0.0150266225391\n",
      "Our samples JSD: 0.0179139937396\n",
      "Our samples JSD: 0.0255992518605\n",
      "Our samples JSD: 0.0151138469957\n",
      "Our samples JSD: 0.0139412201335\n",
      "Our samples JSD: 0.0152281589655\n",
      "Our samples JSD: 0.0128749741677\n",
      "Our samples JSD: 0.0164242945818\n",
      "Our samples JSD: 0.0160939390499\n",
      "Our samples JSD: 0.014728761198\n",
      "Our samples JSD: 0.0154763972346\n",
      "Our samples JSD: 0.0146093345611\n",
      "Our samples JSD: 0.01538803258\n",
      "Our samples JSD: 0.0159868483773\n",
      "Our samples JSD: 0.0148878917956\n",
      "Our samples JSD: 0.0154763381618\n",
      "Our samples JSD: 0.0180881917441\n"
     ]
    }
   ],
   "source": [
    "# AE - GAN\n",
    "ae_tag = 'ae_' + ae_loss + '_' + class_name + '_' + str(n_pc_samples) + '_pts'\n",
    "top_in = osp.join('/orions4-zfs/projects/lins2/Panos_Space/DATA/OUT/nips/our_synthetic_samples/', ae_tag)\n",
    "jsd_measurements = []\n",
    "for epoch in range(1, 51):\n",
    "    in_f = osp.join(top_in, 'epoch_' + str(epoch) + '.npz')\n",
    "    our_data = np.load(in_f)\n",
    "    our_data = our_data[our_data.keys()[0]]\n",
    "    our_data = pclouds_centered_and_half_sphere(our_data)            \n",
    "    _, our_grid_var = entropy_of_occupancy_grid(our_data, voxel_resolution, in_sphere=cmp_in_sphere)\n",
    "    jsd_epoch = jensen_shannon_divergence(our_grid_var, gt_grid_var)\n",
    "    jsd_measurements.append(jsd_epoch)\n",
    "    print 'Our samples JSD:', jsd_epoch"
   ]
  },
  {
   "cell_type": "code",
   "execution_count": 10,
   "metadata": {
    "collapsed": false,
    "deletable": true,
    "editable": true
   },
   "outputs": [
    {
     "data": {
      "text/plain": [
       "[<matplotlib.lines.Line2D at 0x7f50115c0390>]"
      ]
     },
     "execution_count": 10,
     "metadata": {},
     "output_type": "execute_result"
    },
    {
     "data": {
      "image/png": "[encoded data removed]",
      "text/plain": [
       "<matplotlib.figure.Figure at 0x7f5010bcae10>"
      ]
     },
     "metadata": {},
     "output_type": "display_data"
    }
   ],
   "source": [
    "np.savez(osp.join(top_in, 'jsd_measurements'), np.array(jsd_measurements))\n",
    "plt.title(ae_tag)\n",
    "plt.xlabel('Epochs')\n",
    "plt.ylabel('JSD')\n",
    "plt.plot(range(len(jsd_measurements)), jsd_measurements)"
   ]
  },
  {
   "cell_type": "code",
   "execution_count": 39,
   "metadata": {
    "collapsed": false,
    "deletable": true,
    "editable": true
   },
   "outputs": [
    {
     "name": "stdout",
     "output_type": "stream",
     "text": [
      "MIT JSD: 0.261224217478\n"
     ]
    }
   ],
   "source": [
    "if cmp_mit and cmp_jsd:\n",
    "    in_f = '/orions4-zfs/projects/lins2/Panos_Space/DATA/OUT/nips/mit_3dgan_synthetic_samples/point_clouds/2048/'\n",
    "    in_f = osp.join(in_f, '2K_models_per_class/'+ class_name + '.npz')\n",
    "\n",
    "    mit_data = np.load(in_f)\n",
    "    mit_data = mit_data[mit_data.keys()[0]]\n",
    "    mit_data = pclouds_centered_and_half_sphere(mit_data)\n",
    "    _, mit_grid_var = entropy_of_occupancy_grid(mit_data, voxel_resolution, in_sphere=cmp_in_sphere)\n",
    "\n",
    "    print 'MIT JSD:', jensen_shannon_divergence(mit_grid_var, gt_grid_var)"
   ]
  },
  {
   "cell_type": "markdown",
   "metadata": {
    "deletable": true,
    "editable": true
   },
   "source": [
    "# Plotting data in grid"
   ]
  },
  {
   "cell_type": "code",
   "execution_count": 13,
   "metadata": {
    "collapsed": false,
    "deletable": true,
    "editable": true
   },
   "outputs": [
    {
     "name": "stderr",
     "output_type": "stream",
     "text": [
      "/usr/lib/pymodules/python2.7/matplotlib/collections.py:548: FutureWarning: elementwise comparison failed; returning scalar instead, but in the future will perform elementwise comparison\n",
      "  if self._edgecolors == 'face':\n"
     ]
    }
   ],
   "source": [
    "top_fig_dir = '/orions4-zfs/projects/lins2/Panos_Space/DATA/OUT/nips/images/' + ae_tag + '_'\n",
    "top_fig_dir = create_dir(osp.join(top_fig_dir, ae_tag+'epoch_50'))\n",
    "syn_data = our_data \n",
    "# FIx above\n",
    "\n",
    "size = 500\n",
    "rids = np.random.choice(range(len(syn_data)), size=size, replace=False)\n",
    "plt.ioff()\n",
    "\n",
    "for i in range(size):\n",
    "    fig = Point_Cloud(syn_data[rids[i]]).plot(show=False, show_axis=False, azim=290, in_u_sphere=True, s=20);\n",
    "    fig.savefig(osp.join(top_fig_dir, 'sample_' +str(i)))\n",
    "    plt.close()\n",
    "\n",
    "file_names = glob.glob(top_fig_dir +'/*.png')\n",
    "stack_images_in_square_grid(file_names, save_file= osp.join(top_fig_dir, 'aggregate_samples.png'));\n",
    "plt.ion()"
   ]
  },
  {
   "cell_type": "code",
   "execution_count": 14,
   "metadata": {
    "collapsed": false,
    "deletable": true,
    "editable": true
   },
   "outputs": [],
   "source": [
    "# Pairwise Distances\n",
    "# check_data = \n",
    "# distance_type = 'chamfer'\n",
    "# all_dists = sample_pclouds_distances(check_data, 30, 100, distance_type)\n",
    "# print np.mean(all_dists)"
   ]
  }
 ],
 "metadata": {
  "kernelspec": {
   "display_name": "Python 2",
   "language": "python",
   "name": "python2"
  },
  "language_info": {
   "codemirror_mode": {
    "name": "ipython",
    "version": 2
   },
   "file_extension": ".py",
   "mimetype": "text/x-python",
   "name": "python",
   "nbconvert_exporter": "python",
   "pygments_lexer": "ipython2",
   "version": "2.7.6"
  }
 },
 "nbformat": 4,
 "nbformat_minor": 2
}
