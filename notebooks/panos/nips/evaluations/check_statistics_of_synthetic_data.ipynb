{
 "cells": [
  {
   "cell_type": "code",
   "execution_count": 1,
   "metadata": {
    "collapsed": false,
    "deletable": true,
    "editable": true
   },
   "outputs": [
    {
     "name": "stdout",
     "output_type": "stream",
     "text": [
      "Picking GPU 0\n"
     ]
    }
   ],
   "source": [
    "from general_tools.notebook.gpu_utils import setup_one_gpu\n",
    "GPU = 0\n",
    "setup_one_gpu(GPU)"
   ]
  },
  {
   "cell_type": "code",
   "execution_count": 2,
   "metadata": {
    "collapsed": false,
    "deletable": true,
    "editable": true
   },
   "outputs": [
    {
     "name": "stderr",
     "output_type": "stream",
     "text": [
      "/orions4-zfs/projects/lins2/Panos_Space/Git_Repos/geo_tool/solids/mesh.py:26: UserWarning: Mayavi library was not found. Some graphics utilities will be disabled.\n",
      "  warnings.warn('Mayavi library was not found. Some graphics utilities will be disabled.')\n"
     ]
    }
   ],
   "source": [
    "import sys\n",
    "import numpy as np\n",
    "import os.path as osp\n",
    "import tensorflow as tf\n",
    "import glob\n",
    "import matplotlib.pylab as plt\n",
    "\n",
    "import tf_lab.point_clouds.in_out as pio\n",
    "from tf_lab.point_clouds.in_out import PointCloudDataSet\n",
    "from tf_lab.point_clouds.point_net_ae import PointNetAutoEncoder\n",
    "from tf_lab.point_clouds.autoencoder import Configuration as Conf\n",
    "\n",
    "from tf_lab.autopredictors.scripts.helper import shape_net_category_to_synth_id\n",
    "\n",
    "from general_tools.notebook.tf import reset_tf_graph                                              \n",
    "from general_tools.in_out.basics import create_dir, delete_files_in_directory, files_in_subdirs\n",
    "from general_tools.simpletons import select_first_last_and_k, indices_in_iterable\n",
    "\n",
    "from geo_tool import Point_Cloud\n",
    "\n",
    "from tf_lab.nips.shape_net import pc_loader as sn_pc_loader\n",
    "\n",
    "from tf_lab.autopredictors.exploration import latent_embedding_of_entire_dataset\n",
    "\n",
    "from tf_lab.autopredictors.evaluate import eval_model, read_saved_epochs\n",
    "\n",
    "from tf_lab.nips.evaluate_gan import entropy_of_occupancy_grid, point_cloud_distances,\\\n",
    "                                     jensen_shannon_divergence, sample_pclouds_distances\n",
    "\n",
    "from general_tools.strings import trim_content_after_last_dot\n",
    "\n",
    "from general_tools.plotting import stack_images_in_square_grid\n",
    "\n",
    "from tf_lab.nips.helper import pclouds_centered_and_half_sphere, zero_mean_half_sphere\n",
    "import scipy.stats as stats"
   ]
  },
  {
   "cell_type": "code",
   "execution_count": 3,
   "metadata": {
    "collapsed": false,
    "deletable": true,
    "editable": true
   },
   "outputs": [],
   "source": [
    "%load_ext autoreload\n",
    "%autoreload 2\n",
    "%matplotlib inline"
   ]
  },
  {
   "cell_type": "code",
   "execution_count": 4,
   "metadata": {
    "collapsed": true,
    "deletable": true,
    "editable": true
   },
   "outputs": [],
   "source": [
    "n_pc_samples = 2048\n",
    "cmp_in_sphere = True\n",
    "voxel_resolution = 28"
   ]
  },
  {
   "cell_type": "code",
   "execution_count": 5,
   "metadata": {
    "collapsed": false,
    "deletable": true,
    "editable": true
   },
   "outputs": [],
   "source": [
    "class_name = 'chair'\n",
    "ae_loss = 'chamfer'\n",
    "cmp_jsd = True\n",
    "save_figs = False\n",
    "cmp_with_noise = False\n",
    "cmp_mit = False"
   ]
  },
  {
   "cell_type": "code",
   "execution_count": 6,
   "metadata": {
    "collapsed": false,
    "deletable": true,
    "editable": true
   },
   "outputs": [],
   "source": [
    "# Load Ground-Truth Data\n",
    "in_f = '/orions4-zfs/projects/lins2/Panos_Space/DATA/OUT/nips/our_synthetic_samples/gt_all_' + class_name + '.npz'\n",
    "gt_data = np.load(in_f)\n",
    "gt_data = gt_data[gt_data.keys()[0]]\n",
    "\n",
    "if cmp_jsd:\n",
    "    _, gt_grid_var = entropy_of_occupancy_grid(gt_data, voxel_resolution, in_sphere=cmp_in_sphere)"
   ]
  },
  {
   "cell_type": "markdown",
   "metadata": {
    "deletable": true,
    "editable": true
   },
   "source": [
    "# JSD Measurements"
   ]
  },
  {
   "cell_type": "code",
   "execution_count": 7,
   "metadata": {
    "collapsed": false,
    "deletable": true,
    "editable": true
   },
   "outputs": [],
   "source": [
    "# Compare JSD of GT with random noise.\n",
    "if cmp_jsd and cmp_with_noise:\n",
    "    mu, sigma = 0, 1\n",
    "    lower = -0.5\n",
    "    upper = 0.5\n",
    "    X = stats.truncnorm((lower - mu) / sigma, (upper - mu) / sigma, loc=mu, scale=sigma)\n",
    "    size = (len(gt_data), n_pc_samples, 3)\n",
    "    random_pcs = X.rvs(np.prod(size))\n",
    "    random_pcs = random_pcs.reshape(size)\n",
    "\n",
    "    _, random_grid_var = entropy_of_occupancy_grid(random_pcs, voxel_resolution, in_sphere=cmp_in_sphere)\n",
    "    print 'JSD with trunc-normal :', jensen_shannon_divergence(random_grid_var, gt_grid_var)\n",
    "    \n",
    "    lower = -0.5\n",
    "    upper = 0.5\n",
    "    random_pcs = np.random.uniform(low=lower, high=upper, size=(len(gt_data), n_pc_samples, 3))\n",
    "\n",
    "    _, random_grid_var = entropy_of_occupancy_grid(random_pcs, voxel_resolution, in_sphere=cmp_in_sphere)\n",
    "    print 'JSD with Uniform :', jensen_shannon_divergence(random_grid_var, gt_grid_var)"
   ]
  },
  {
   "cell_type": "code",
   "execution_count": 11,
   "metadata": {
    "collapsed": false,
    "deletable": true,
    "editable": true
   },
   "outputs": [
    {
     "name": "stdout",
     "output_type": "stream",
     "text": [
      "Our samples JSD: 0.136438309914\n",
      "Our samples JSD: 0.0971438860648\n",
      "Our samples JSD: 0.0775195473621\n",
      "Our samples JSD: 0.0674210840885\n",
      "Our samples JSD: 0.0539770157979\n",
      "Our samples JSD: 0.060650938826\n",
      "Our samples JSD: 0.0551823450266\n",
      "Our samples JSD: 0.0506933721421\n",
      "Our samples JSD: 0.0588883959514\n",
      "Our samples JSD: 0.0522975291781\n",
      "Our samples JSD: 0.0507956069026\n",
      "Our samples JSD: 0.052431065617\n",
      "Our samples JSD: 0.0529697755144\n",
      "Our samples JSD: 0.0434604355778\n",
      "Our samples JSD: 0.0407456175991\n",
      "Our samples JSD: 0.0478697463157\n",
      "Our samples JSD: 0.0447168505875\n",
      "Our samples JSD: 0.0486481544813\n",
      "Our samples JSD: 0.0442758591451\n",
      "Our samples JSD: 0.0413903160588\n",
      "Our samples JSD: 0.0473220435039\n",
      "Our samples JSD: 0.0405650843341\n",
      "Our samples JSD: 0.0382371960509\n",
      "Our samples JSD: 0.0456130532665\n",
      "Our samples JSD: 0.0502868013829\n",
      "Our samples JSD: 0.0408407574544\n",
      "Our samples JSD: 0.0394278797547\n",
      "Our samples JSD: 0.0417201767062\n",
      "Our samples JSD: 0.0418930954904\n",
      "Our samples JSD: 0.035903376169\n",
      "Our samples JSD: 0.0390397681907\n",
      "Our samples JSD: 0.0375515736504\n",
      "Our samples JSD: 0.0408823529937\n",
      "Our samples JSD: 0.0347454496047\n",
      "Our samples JSD: 0.0413069972036\n",
      "Our samples JSD: 0.039553882209\n",
      "Our samples JSD: 0.0407256638165\n",
      "Our samples JSD: 0.042726092805\n",
      "Our samples JSD: 0.0383326470377\n",
      "Our samples JSD: 0.0383337383853\n",
      "Our samples JSD: 0.0400827381101\n",
      "Our samples JSD: 0.0402812153797\n",
      "Our samples JSD: 0.0350647456318\n",
      "Our samples JSD: 0.0419185595876\n",
      "Our samples JSD: 0.0427730734702\n",
      "Our samples JSD: 0.042991284753\n",
      "Our samples JSD: 0.0431696337015\n",
      "Our samples JSD: 0.0478918924044\n",
      "Our samples JSD: 0.0403242180965\n",
      "Our samples JSD: 0.0385842258716\n"
     ]
    }
   ],
   "source": [
    "# AE - GAN\n",
    "ae_tag = 'ae_' + ae_loss + '_' + class_name + '_' + str(n_pc_samples) + '_pts'\n",
    "top_in = osp.join('/orions4-zfs/projects/lins2/Panos_Space/DATA/OUT/nips/our_synthetic_samples/', ae_tag)\n",
    "jsd_measurements = []\n",
    "for epoch in range(1, 51):\n",
    "    in_f = osp.join(top_in, 'epoch_' + str(epoch) + '.npz')\n",
    "    our_data = np.load(in_f)\n",
    "    our_data = our_data[our_data.keys()[0]]\n",
    "    our_data = pclouds_centered_and_half_sphere(our_data)            \n",
    "    _, our_grid_var = entropy_of_occupancy_grid(our_data, voxel_resolution, in_sphere=cmp_in_sphere)\n",
    "    jsd_epoch = jensen_shannon_divergence(our_grid_var, gt_grid_var)\n",
    "    jsd_measurements.append(jsd_epoch)\n",
    "    print 'Our samples JSD:', jsd_epoch"
   ]
  },
  {
   "cell_type": "code",
   "execution_count": 12,
   "metadata": {
    "collapsed": false,
    "deletable": true,
    "editable": true
   },
   "outputs": [
    {
     "data": {
      "text/plain": [
       "[<matplotlib.lines.Line2D at 0x7fb6e60207d0>]"
      ]
     },
     "execution_count": 12,
     "metadata": {},
     "output_type": "execute_result"
    },
    {
     "data": {
      "image/png": "[encoded data removed]",
      "text/plain": [
       "<matplotlib.figure.Figure at 0x7fb6e6020450>"
      ]
     },
     "metadata": {},
     "output_type": "display_data"
    }
   ],
   "source": [
    "# np.savez()\n",
    "plt.title(ae_tag)\n",
    "plt.xlabel('Epochs')\n",
    "plt.ylabel('JSD')\n",
    "plt.plot(range(len(jsd_measurements)), jsd_measurements)"
   ]
  },
  {
   "cell_type": "code",
   "execution_count": 39,
   "metadata": {
    "collapsed": false,
    "deletable": true,
    "editable": true
   },
   "outputs": [
    {
     "name": "stdout",
     "output_type": "stream",
     "text": [
      "MIT JSD: 0.261224217478\n"
     ]
    }
   ],
   "source": [
    "if cmp_mit and cmp_jsd:\n",
    "    in_f = '/orions4-zfs/projects/lins2/Panos_Space/DATA/OUT/nips/mit_3dgan_synthetic_samples/point_clouds/2048/'\n",
    "    in_f = osp.join(in_f, '2K_models_per_class/'+ class_name + '.npz')\n",
    "\n",
    "    mit_data = np.load(in_f)\n",
    "    mit_data = mit_data[mit_data.keys()[0]]\n",
    "    mit_data = pclouds_centered_and_half_sphere(mit_data)\n",
    "    _, mit_grid_var = entropy_of_occupancy_grid(mit_data, voxel_resolution, in_sphere=cmp_in_sphere)\n",
    "\n",
    "    print 'MIT JSD:', jensen_shannon_divergence(mit_grid_var, gt_grid_var)"
   ]
  },
  {
   "cell_type": "markdown",
   "metadata": {
    "deletable": true,
    "editable": true
   },
   "source": [
    "# Plotting data in grid"
   ]
  },
  {
   "cell_type": "code",
   "execution_count": 10,
   "metadata": {
    "collapsed": false,
    "deletable": true,
    "editable": true
   },
   "outputs": [],
   "source": [
    "top_fig_dir = '/orions4-zfs/projects/lins2/Panos_Space/DATA/NIPS/Images/'\n",
    "top_fig_dir = create_dir(osp.join(top_fig_dir, exp_name))\n",
    "\n",
    "size = 500\n",
    "rids = np.random.choice(range(len(syn_data)), size=size, replace=False)\n",
    "plt.ioff()\n",
    "\n",
    "for i in range(size):\n",
    "    fig = Point_Cloud(syn_data[rids[i]]).plot(show=False, show_axis=False, azim=290, in_u_sphere=True, s=20);\n",
    "    fig.savefig(osp.join(top_fig_dir, 'sample_' +str(i)))\n",
    "    plt.close()\n",
    "\n",
    "file_names = glob.glob(top_fig_dir +'/*.png')\n",
    "stack_images_in_square_grid(file_names, save_file= osp.join(top_fig_dir, 'aggregate_samples.png'));\n",
    "plt.ion()"
   ]
  },
  {
   "cell_type": "code",
   "execution_count": null,
   "metadata": {
    "collapsed": true,
    "deletable": true,
    "editable": true
   },
   "outputs": [],
   "source": [
    "# class_prob = np.load('/orions4-zfs/projects/lins2/Panos_Space/Git_Repos/tf_lab/nips/point_net/chair_probs_on_raw_gan.npz')\n",
    "# class_prob = class_prob[class_prob.keys()[0]]\n",
    "# class_prob = np.hstack(class_prob)"
   ]
  },
  {
   "cell_type": "code",
   "execution_count": 53,
   "metadata": {
    "collapsed": false,
    "deletable": true,
    "editable": true
   },
   "outputs": [
    {
     "ename": "SyntaxError",
     "evalue": "invalid syntax (<ipython-input-53-7eb94446f0e2>, line 2)",
     "output_type": "error",
     "traceback": [
      "\u001b[0;36m  File \u001b[0;32m\"<ipython-input-53-7eb94446f0e2>\"\u001b[0;36m, line \u001b[0;32m2\u001b[0m\n\u001b[0;31m    check_data =\u001b[0m\n\u001b[0m                 ^\u001b[0m\n\u001b[0;31mSyntaxError\u001b[0m\u001b[0;31m:\u001b[0m invalid syntax\n"
     ]
    }
   ],
   "source": [
    "# Pairwise Distances\n",
    "check_data = \n",
    "distance_type = 'chamfer'\n",
    "all_dists = sample_pclouds_distances(check_data, 30, 100, distance_type)\n",
    "print np.mean(all_dists)"
   ]
  }
 ],
 "metadata": {
  "kernelspec": {
   "display_name": "Python 2",
   "language": "python",
   "name": "python2"
  },
  "language_info": {
   "codemirror_mode": {
    "name": "ipython",
    "version": 2
   },
   "file_extension": ".py",
   "mimetype": "text/x-python",
   "name": "python",
   "nbconvert_exporter": "python",
   "pygments_lexer": "ipython2",
   "version": "2.7.6"
  }
 },
 "nbformat": 4,
 "nbformat_minor": 2
}
