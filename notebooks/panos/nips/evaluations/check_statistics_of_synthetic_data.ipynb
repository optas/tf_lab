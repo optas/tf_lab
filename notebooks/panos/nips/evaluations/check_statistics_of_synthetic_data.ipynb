{
 "cells": [
  {
   "cell_type": "code",
   "execution_count": 1,
   "metadata": {
    "collapsed": false,
    "deletable": true,
    "editable": true
   },
   "outputs": [],
   "source": [
    "import sys\n",
    "import numpy as np\n",
    "import os.path as osp\n",
    "import tensorflow as tf\n",
    "import glob\n",
    "import matplotlib.pylab as plt\n",
    "\n",
    "import tf_lab.point_clouds.in_out as pio\n",
    "from tf_lab.point_clouds.in_out import PointCloudDataSet\n",
    "from tf_lab.point_clouds.point_net_ae import PointNetAutoEncoder\n",
    "from tf_lab.point_clouds.autoencoder import Configuration as Conf\n",
    "\n",
    "from tf_lab.autopredictors.scripts.helper import shape_net_category_to_synth_id\n",
    "\n",
    "from general_tools.notebook.tf import reset_tf_graph                                              \n",
    "from general_tools.in_out.basics import create_dir, delete_files_in_directory, files_in_subdirs\n",
    "from general_tools.simpletons import select_first_last_and_k, indices_in_iterable\n",
    "\n",
    "from geo_tool import Point_Cloud\n",
    "\n",
    "from tf_lab.nips.shape_net import pc_loader as sn_pc_loader\n",
    "\n",
    "from tf_lab.autopredictors.exploration import latent_embedding_of_entire_dataset\n",
    "\n",
    "from tf_lab.autopredictors.evaluate import eval_model, read_saved_epochs\n",
    "\n",
    "from tf_lab.nips.evaluate_gan import entropy_of_occupancy_grid, point_cloud_distances,\\\n",
    "                                     jensen_shannon_divergence, sample_pclouds_distances\n",
    "\n",
    "from general_tools.strings import trim_content_after_last_dot\n",
    "\n",
    "from general_tools.plotting import stack_images_in_square_grid\n",
    "\n",
    "from tf_lab.nips.helper import pclouds_centered_and_half_sphere, zero_mean_half_sphere\n",
    "import scipy.stats as stats"
   ]
  },
  {
   "cell_type": "code",
   "execution_count": 2,
   "metadata": {
    "collapsed": false,
    "deletable": true,
    "editable": true
   },
   "outputs": [],
   "source": [
    "%load_ext autoreload\n",
    "%autoreload 2\n",
    "%matplotlib inline"
   ]
  },
  {
   "cell_type": "code",
   "execution_count": 3,
   "metadata": {
    "collapsed": true,
    "deletable": true,
    "editable": true
   },
   "outputs": [],
   "source": [
    "n_pc_samples = 2048\n",
    "cmp_in_sphere = True\n",
    "voxel_resolution = 28\n",
    "ae_loss = 'emd'"
   ]
  },
  {
   "cell_type": "code",
   "execution_count": 4,
   "metadata": {
    "collapsed": false,
    "deletable": true,
    "editable": true
   },
   "outputs": [],
   "source": [
    "class_name = 'car'\n",
    "\n",
    "cmp_jsd = True\n",
    "cmp_with_noise = True\n",
    "cmp_mit = True\n",
    "cmp_nb_gan = True\n",
    "cmp_raw_gan = True\n",
    "cmp_ae_gan = False"
   ]
  },
  {
   "cell_type": "code",
   "execution_count": 5,
   "metadata": {
    "collapsed": false,
    "deletable": true,
    "editable": true
   },
   "outputs": [],
   "source": [
    "# Load Ground-Truth Data\n",
    "in_f = '/orions4-zfs/projects/lins2/Panos_Space/DATA/OUT/nips/our_synthetic_samples/ground_truth/gt_all_' + class_name + '.npz'\n",
    "gt_data = np.load(in_f)\n",
    "gt_data = gt_data[gt_data.keys()[0]]\n",
    "\n",
    "if cmp_jsd:\n",
    "    _, gt_grid_var = entropy_of_occupancy_grid(gt_data, voxel_resolution, in_sphere=cmp_in_sphere)"
   ]
  },
  {
   "cell_type": "markdown",
   "metadata": {
    "deletable": true,
    "editable": true
   },
   "source": [
    "# JSD Measurements"
   ]
  },
  {
   "cell_type": "code",
   "execution_count": 6,
   "metadata": {
    "collapsed": false,
    "deletable": true,
    "editable": true
   },
   "outputs": [
    {
     "name": "stderr",
     "output_type": "stream",
     "text": [
      "/orions4-zfs/projects/lins2/Panos_Space/Git_Repos/tf_lab/nips/evaluate_gan.py:43: UserWarning: Point-clouds not unit sphere.\n",
      "  warnings.warn('Point-clouds not unit sphere.')\n"
     ]
    },
    {
     "name": "stdout",
     "output_type": "stream",
     "text": [
      "JSD with Uniform : 0.508289820361\n",
      "JSD with trunc-normal : 0.498266512101\n"
     ]
    }
   ],
   "source": [
    "# Compare JSD of GT with random noise.\n",
    "if cmp_jsd and cmp_with_noise:\n",
    "    lower = -0.5\n",
    "    upper = 0.5\n",
    "    random_pcs = np.random.uniform(low=lower, high=upper, size=(len(gt_data), n_pc_samples, 3))\n",
    "\n",
    "    _, random_grid_var = entropy_of_occupancy_grid(random_pcs, voxel_resolution, in_sphere=cmp_in_sphere)\n",
    "    print 'JSD with Uniform :', jensen_shannon_divergence(random_grid_var, gt_grid_var)\n",
    "    \n",
    "    mu, sigma = 0, 1\n",
    "    lower = -0.5\n",
    "    upper = 0.5\n",
    "    X = stats.truncnorm((lower - mu) / sigma, (upper - mu) / sigma, loc=mu, scale=sigma)\n",
    "    size = (len(gt_data), n_pc_samples, 3)\n",
    "    random_pcs = X.rvs(np.prod(size))\n",
    "    random_pcs = random_pcs.reshape(size)\n",
    "\n",
    "    _, random_grid_var = entropy_of_occupancy_grid(random_pcs, voxel_resolution, in_sphere=cmp_in_sphere)\n",
    "    print 'JSD with trunc-normal :', jensen_shannon_divergence(random_grid_var, gt_grid_var)    "
   ]
  },
  {
   "cell_type": "code",
   "execution_count": 7,
   "metadata": {
    "collapsed": false
   },
   "outputs": [
    {
     "name": "stdout",
     "output_type": "stream",
     "text": [
      "MIT JSD : 0.184174379399\n"
     ]
    }
   ],
   "source": [
    "if cmp_mit and cmp_jsd:\n",
    "    in_f = '/orions4-zfs/projects/lins2/Panos_Space/DATA/OUT/nips/mit_3dgan_synthetic_samples/isosurface_extracted/'\n",
    "    in_f = osp.join(in_f, class_name + '.npz')\n",
    "\n",
    "    mit_data = np.load(in_f)\n",
    "    mit_data = mit_data[mit_data.keys()[0]]\n",
    "    mit_data = pclouds_centered_and_half_sphere(mit_data)\n",
    "    _, mit_grid_var = entropy_of_occupancy_grid(mit_data, voxel_resolution, in_sphere=cmp_in_sphere)\n",
    "    print 'MIT JSD :', jensen_shannon_divergence(mit_grid_var, gt_grid_var)"
   ]
  },
  {
   "cell_type": "code",
   "execution_count": 8,
   "metadata": {
    "collapsed": false,
    "deletable": true,
    "editable": true
   },
   "outputs": [],
   "source": [
    "if cmp_ae_gan:\n",
    "    ae_tag = 'ae_' + ae_loss + '_' + class_name + '_' + str(n_pc_samples) + '_pts_trained_500ep_smaller_lr'\n",
    "    top_in = osp.join('/orions4-zfs/projects/lins2/Panos_Space/DATA/OUT/nips/our_synthetic_samples/', ae_tag)\n",
    "    jsd_measurements = []\n",
    "    for epoch in [1, 3, 10, 30, 100, 300, 400, 500]:\n",
    "        in_f = osp.join(top_in, 'epoch_' + str(epoch) + '.npz')\n",
    "        our_data = np.load(in_f)\n",
    "        our_data = our_data[our_data.keys()[0]]\n",
    "        our_data = pclouds_centered_and_half_sphere(our_data)\n",
    "        _, our_grid_var = entropy_of_occupancy_grid(our_data, voxel_resolution, in_sphere=cmp_in_sphere)\n",
    "        jsd_epoch = jensen_shannon_divergence(our_grid_var, gt_grid_var)\n",
    "        jsd_measurements.append(jsd_epoch)\n",
    "        print 'AE-GAN', epoch, jsd_epoch"
   ]
  },
  {
   "cell_type": "code",
   "execution_count": 13,
   "metadata": {
    "collapsed": false
   },
   "outputs": [],
   "source": [
    "if cmp_nb_gan:\n",
    "    rgan_tag = 'nb_ae_emd_' + class_name + '_2048_pts'\n",
    "    top_in = osp.join('/orions4-zfs/projects/lins2/Panos_Space/DATA/OUT/nips/our_synthetic_samples', rgan_tag)\n",
    "                      \n",
    "    jsd_measurements = []\n",
    "\n",
    "    for epoch in [1, 3, 10, 30, 100, 300, 400, 500]:\n",
    "        in_f = osp.join(top_in, 'epoch_' + str(epoch) + '.npz')\n",
    "        our_data = np.load(in_f)\n",
    "        our_data = our_data[our_data.keys()[0]]\n",
    "        our_data = pclouds_centered_and_half_sphere(our_data)\n",
    "        _, our_grid_var = entropy_of_occupancy_grid(our_data, voxel_resolution, in_sphere=cmp_in_sphere)\n",
    "        jsd_epoch = jensen_shannon_divergence(our_grid_var, gt_grid_var)\n",
    "        jsd_measurements.append(jsd_epoch)\n",
    "        print 'NB-GAN', epoch, jsd_epoch"
   ]
  },
  {
   "cell_type": "code",
   "execution_count": 16,
   "metadata": {
    "collapsed": false,
    "deletable": true,
    "editable": true
   },
   "outputs": [
    {
     "name": "stdout",
     "output_type": "stream",
     "text": [
      "R-GAN-JSD 1200 0.393757199564\n"
     ]
    }
   ],
   "source": [
    "if cmp_raw_gan:\n",
    "    rgan_tag = class_name + '_mlp_arch_raw_gan_' + str(n_pc_samples) + '_pts'\n",
    "    top_in = osp.join('/orions4-zfs/projects/lins2/Panos_Space/DATA/OUT/nips/our_synthetic_samples', rgan_tag)\n",
    "                      \n",
    "    rgan_jsd_measurements = []\n",
    "    \n",
    "    for epoch in [100, 200, 300, 400, 500, 600, 700, 800, 900, 1000]:\n",
    "        in_f = osp.join(top_in, 'epoch_' + str(epoch) + '.npz')\n",
    "        our_data = np.load(in_f)\n",
    "        our_data = our_data[our_data.keys()[0]]\n",
    "        our_data = pclouds_centered_and_half_sphere(our_data)\n",
    "        _, our_grid_var = entropy_of_occupancy_grid(our_data, voxel_resolution, in_sphere=cmp_in_sphere)\n",
    "        jsd_epoch = jensen_shannon_divergence(our_grid_var, gt_grid_var)\n",
    "        rgan_jsd_measurements.append(jsd_epoch)\n",
    "        print 'R-GAN-JSD', epoch, jsd_epoch "
   ]
  },
  {
   "cell_type": "markdown",
   "metadata": {
    "deletable": true,
    "editable": true
   },
   "source": [
    "# Plotting data in grid"
   ]
  },
  {
   "cell_type": "code",
   "execution_count": 13,
   "metadata": {
    "collapsed": false,
    "deletable": true,
    "editable": true
   },
   "outputs": [
    {
     "name": "stderr",
     "output_type": "stream",
     "text": [
      "/usr/lib/pymodules/python2.7/matplotlib/collections.py:548: FutureWarning: elementwise comparison failed; returning scalar instead, but in the future will perform elementwise comparison\n",
      "  if self._edgecolors == 'face':\n"
     ]
    }
   ],
   "source": [
    "# top_fig_dir = '/orions4-zfs/projects/lins2/Panos_Space/DATA/OUT/nips/images/' + ae_tag + '_'\n",
    "# top_fig_dir = create_dir(osp.join(top_fig_dir, ae_tag + 'epoch_50'))\n",
    "# syn_data = our_data \n",
    "# # Fix above\n",
    "\n",
    "# size = 100\n",
    "# rids = np.random.choice(range(len(syn_data)), size=size, replace=False)\n",
    "# plt.ioff()\n",
    "\n",
    "# for i in range(size):\n",
    "#     fig = Point_Cloud(syn_data[rids[i]]).plot(show=False, show_axis=False, azim=290, in_u_sphere=False, s=20);\n",
    "#     fig.savefig(osp.join(top_fig_dir, 'sample_' +str(i)))\n",
    "#     plt.close()\n",
    "\n",
    "# file_names = glob.glob(top_fig_dir +'/*.png')\n",
    "# stack_images_in_square_grid(file_names, save_file= osp.join(top_fig_dir, 'aggregate_samples.png'));\n",
    "# plt.ion()"
   ]
  }
 ],
 "metadata": {
  "kernelspec": {
   "display_name": "Python 2",
   "language": "python",
   "name": "python2"
  },
  "language_info": {
   "codemirror_mode": {
    "name": "ipython",
    "version": 2
   },
   "file_extension": ".py",
   "mimetype": "text/x-python",
   "name": "python",
   "nbconvert_exporter": "python",
   "pygments_lexer": "ipython2",
   "version": "2.7.6"
  }
 },
 "nbformat": 4,
 "nbformat_minor": 2
}
