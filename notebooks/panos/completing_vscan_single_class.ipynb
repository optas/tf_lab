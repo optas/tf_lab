{
 "cells": [
  {
   "cell_type": "code",
   "execution_count": 1,
   "metadata": {
    "collapsed": false
   },
   "outputs": [
    {
     "name": "stderr",
     "output_type": "stream",
     "text": [
      "/usr/local/lib/python2.7/dist-packages/matplotlib/font_manager.py:273: UserWarning: Matplotlib is building the font cache using fc-list. This may take a moment.\n",
      "  warnings.warn('Matplotlib is building the font cache using fc-list. This may take a moment.')\n",
      "/orions4-zfs/projects/lins2/Panos_Space/Git_Repos/geo_tool/solids/mesh.py:26: UserWarning: Mayavi library was not found. Some graphics utilities will be disabled.\n",
      "  warnings.warn('Mayavi library was not found. Some graphics utilities will be disabled.')\n"
     ]
    }
   ],
   "source": [
    "import sys\n",
    "import time\n",
    "import numpy as np\n",
    "import os.path as osp\n",
    "import tensorflow as tf\n",
    "import matplotlib.pyplot as plt\n",
    "\n",
    "from tf_lab.fundamentals.utils import set_visible_GPUs, reset_tf_graph\n",
    "\n",
    "import tf_lab.point_clouds.in_out as pio\n",
    "from tf_lab.point_clouds.in_out import PointCloudDataSet, write_model_ids_of_datasets\n",
    "from tf_lab.point_clouds.point_net_ae import PointNetAutoEncoder\n",
    "from tf_lab.point_clouds.autoencoder import Configuration as Conf\n",
    "import tf_lab.point_clouds.encoders_decoders as enc_dec\n",
    "\n",
    "\n",
    "from tf_lab.autopredictors.scripts.helper import shape_net_category_to_synth_id, match_incomplete_to_complete_data\n",
    "from tf_lab.autopredictors.scripts import loading_virt_scan_data as vscan\n",
    "\n",
    "from tf_lab.autopredictors.plotting import plot_original_pclouds_vs_reconstructed, \\\n",
    "                                           plot_train_val_test_curves, plot_reconstructions_at_epoch, \\\n",
    "                                           plot_interpolations\n",
    "from tf_lab.autopredictors.evaluate import eval_model, read_saved_epochs\n",
    "                                                  \n",
    "\n",
    "\n",
    "from general_tools.in_out.basics import create_dir, delete_files_in_directory, files_in_subdirs\n",
    "from general_tools.simpletons import select_first_last_and_k\n",
    "from geo_tool import Point_Cloud"
   ]
  },
  {
   "cell_type": "code",
   "execution_count": 2,
   "metadata": {
    "collapsed": false
   },
   "outputs": [],
   "source": [
    "%load_ext autoreload\n",
    "%autoreload 2\n",
    "%matplotlib inline"
   ]
  },
  {
   "cell_type": "code",
   "execution_count": 3,
   "metadata": {
    "collapsed": false
   },
   "outputs": [
    {
     "name": "stdout",
     "output_type": "stream",
     "text": [
      "Give me the class type.\n",
      "chair\n"
     ]
    }
   ],
   "source": [
    "experiment_name = '2_virt_scan_chamfer_2fc_decoder_2048pts'\n",
    "do_training = True\n",
    "do_plotting = True\n",
    "first_time_running = True\n",
    "load_model = False\n",
    "\n",
    "class_type = raw_input('Give me the class type.\\n').lower()\n",
    "class_syn_id = shape_net_category_to_synth_id()[class_type]"
   ]
  },
  {
   "cell_type": "code",
   "execution_count": 4,
   "metadata": {
    "collapsed": false
   },
   "outputs": [
    {
     "data": {
      "text/plain": [
       "'/orions4-zfs/projects/lins2/Panos_Space/DATA/OUT/models/incomplete_pclouds/2_virt_scan_chamfer_2fc_decoder_2048pts'"
      ]
     },
     "execution_count": 4,
     "metadata": {},
     "output_type": "execute_result"
    }
   ],
   "source": [
    "seed = 42\n",
    "np.random.seed(seed)\n",
    "tf.set_random_seed(seed)\n",
    "\n",
    "top_data_dir = '/orions4-zfs/projects/lins2/Panos_Space/DATA/'\n",
    "full_pclouds_path = osp.join(top_data_dir, 'ShapeNetPointClouds/from_manifold_meshes/2048/', class_syn_id)\n",
    "\n",
    "train_dir = osp.join(top_data_dir, 'OUT/models/incomplete_pclouds/')\n",
    "train_dir = osp.join(train_dir, experiment_name)\n",
    "create_dir(train_dir)"
   ]
  },
  {
   "cell_type": "code",
   "execution_count": 5,
   "metadata": {
    "collapsed": false
   },
   "outputs": [
    {
     "name": "stdout",
     "output_type": "stream",
     "text": [
      "6778 files containing complete point clouds were found.\n",
      "5000 incomplete point clouds were loaded.\n"
     ]
    }
   ],
   "source": [
    "train_id_file = '/orions4-zfs/projects/lins2/Panos_Space/DATA/From_Matthias/shapenet_all-train.txt'\n",
    "v_scan_top_dir = osp.join(top_data_dir, 'From_Matthias/shapenet_dim32_sdf_pc', class_syn_id)\n",
    "search_pattern = '__0__.ply'\n",
    "\n",
    "full_file_names = pio.load_filenames_of_input_data(full_pclouds_path)\n",
    "full_pclouds, full_model_names, class_ids = pio.load_crude_point_clouds(file_names=full_file_names, n_threads=20)\n",
    "\n",
    "print '%d files containing complete point clouds were found.' % (len(full_pclouds), )\n",
    "\n",
    "\n",
    "incomplete_data = vscan.load_single_class_incomplete_dataset(v_scan_top_dir, train_id_file, class_syn_id, \n",
    "                                                      full_pclouds, full_model_names, n_threads = 24,\n",
    "                                                      n_samples = 2048, search_pattern=search_pattern)\n",
    "train_data = incomplete_data"
   ]
  },
  {
   "cell_type": "code",
   "execution_count": 17,
   "metadata": {
    "collapsed": false
   },
   "outputs": [],
   "source": [
    "# TRY ME.\n",
    "pp = incomplete_data.next_batch(1)\n",
    "Point_Cloud(points=pp[2].reshape(2048, 3)).plot();\n",
    "Point_Cloud(points=pp[0].reshape(2048, 3)).plot();"
   ]
  },
  {
   "cell_type": "code",
   "execution_count": 13,
   "metadata": {
    "collapsed": false
   },
   "outputs": [],
   "source": [
    "if load_model:\n",
    "    conf = Conf.load(osp.join(train_dir, 'configuration'))\n",
    "    print conf\n",
    "else:\n",
    "    n_input = [2048, 3]    \n",
    "    decoder_args = {'layer_sizes': [1024, np.prod(n_input)], \n",
    "                    'non_linearity': tf.nn.relu\n",
    "                   }\n",
    "\n",
    "    conf = Conf(\n",
    "                n_input = n_input,\n",
    "                denoising = True,\n",
    "                training_epochs = 200,\n",
    "                batch_size = 50,\n",
    "                loss = 'chamfer',\n",
    "                train_dir = train_dir,\n",
    "                loss_display_step = 1,\n",
    "                saver_step = 10,\n",
    "                learning_rate = 0.00002,\n",
    "                saver_max_to_keep = 50,\n",
    "                gauss_augment = {'mu': 0, 'sigma': 0.01},\n",
    "                encoder = enc_dec.encoder_with_convs_and_symmetry,\n",
    "                decoder = enc_dec.decoder_with_fc_only,\n",
    "                decoder_args = decoder_args,\n",
    "               )\n",
    "\n",
    "    conf.experiment_name = experiment_name\n",
    "    conf.save(osp.join(conf.train_dir, 'configuration'))"
   ]
  },
  {
   "cell_type": "code",
   "execution_count": 18,
   "metadata": {
    "collapsed": false
   },
   "outputs": [
    {
     "name": "stdout",
     "output_type": "stream",
     "text": [
      "('Epoch:', '0001', 'training time (minutes)=', '0.1851', 'loss=', '0.005381547')\n",
      "('Epoch:', '0002', 'training time (minutes)=', '0.1879', 'loss=', '0.003407631')\n",
      "('Epoch:', '0003', 'training time (minutes)=', '0.1683', 'loss=', '0.003155316')\n",
      "('Epoch:', '0004', 'training time (minutes)=', '0.1661', 'loss=', '0.002975752')\n",
      "('Epoch:', '0005', 'training time (minutes)=', '0.1646', 'loss=', '0.002847039')\n",
      "('Epoch:', '0006', 'training time (minutes)=', '0.1653', 'loss=', '0.002754159')\n",
      "('Epoch:', '0007', 'training time (minutes)=', '0.1655', 'loss=', '0.002677035')\n",
      "('Epoch:', '0008', 'training time (minutes)=', '0.1649', 'loss=', '0.002619409')\n",
      "('Epoch:', '0009', 'training time (minutes)=', '0.1685', 'loss=', '0.002560507')\n",
      "('Epoch:', '0010', 'training time (minutes)=', '0.1654', 'loss=', '0.002511923')\n",
      "('Epoch:', '0011', 'training time (minutes)=', '0.1660', 'loss=', '0.002478035')\n",
      "('Epoch:', '0012', 'training time (minutes)=', '0.1644', 'loss=', '0.002433159')\n",
      "('Epoch:', '0013', 'training time (minutes)=', '0.1652', 'loss=', '0.002406864')\n",
      "('Epoch:', '0014', 'training time (minutes)=', '0.1652', 'loss=', '0.002368156')\n",
      "('Epoch:', '0015', 'training time (minutes)=', '0.1656', 'loss=', '0.002339437')\n",
      "('Epoch:', '0016', 'training time (minutes)=', '0.1654', 'loss=', '0.002312893')\n",
      "('Epoch:', '0017', 'training time (minutes)=', '0.1652', 'loss=', '0.002284541')\n",
      "('Epoch:', '0018', 'training time (minutes)=', '0.1654', 'loss=', '0.002267453')\n",
      "('Epoch:', '0019', 'training time (minutes)=', '0.1657', 'loss=', '0.002239356')\n",
      "('Epoch:', '0020', 'training time (minutes)=', '0.1676', 'loss=', '0.002216340')\n",
      "('Epoch:', '0021', 'training time (minutes)=', '0.1685', 'loss=', '0.002192997')\n",
      "('Epoch:', '0022', 'training time (minutes)=', '0.1669', 'loss=', '0.002171423')\n",
      "('Epoch:', '0023', 'training time (minutes)=', '0.1680', 'loss=', '0.002152517')\n",
      "('Epoch:', '0024', 'training time (minutes)=', '0.1671', 'loss=', '0.002131808')\n",
      "('Epoch:', '0025', 'training time (minutes)=', '0.1683', 'loss=', '0.002115714')\n",
      "('Epoch:', '0026', 'training time (minutes)=', '0.1673', 'loss=', '0.002101839')\n",
      "('Epoch:', '0027', 'training time (minutes)=', '0.1670', 'loss=', '0.002077538')\n",
      "('Epoch:', '0028', 'training time (minutes)=', '0.1671', 'loss=', '0.002073016')\n",
      "('Epoch:', '0029', 'training time (minutes)=', '0.1665', 'loss=', '0.002049823')\n",
      "('Epoch:', '0030', 'training time (minutes)=', '0.1668', 'loss=', '0.002042542')\n",
      "('Epoch:', '0031', 'training time (minutes)=', '0.1679', 'loss=', '0.002026358')\n",
      "('Epoch:', '0032', 'training time (minutes)=', '0.1676', 'loss=', '0.002015055')\n",
      "('Epoch:', '0033', 'training time (minutes)=', '0.1678', 'loss=', '0.001998215')\n",
      "('Epoch:', '0034', 'training time (minutes)=', '0.1672', 'loss=', '0.001983239')\n",
      "('Epoch:', '0035', 'training time (minutes)=', '0.1740', 'loss=', '0.001974917')\n",
      "('Epoch:', '0036', 'training time (minutes)=', '0.1669', 'loss=', '0.001965364')\n",
      "('Epoch:', '0037', 'training time (minutes)=', '0.1673', 'loss=', '0.001956401')\n",
      "('Epoch:', '0038', 'training time (minutes)=', '0.1677', 'loss=', '0.001947651')\n",
      "('Epoch:', '0039', 'training time (minutes)=', '0.1684', 'loss=', '0.001932545')\n",
      "('Epoch:', '0040', 'training time (minutes)=', '0.1683', 'loss=', '0.001923288')\n",
      "('Epoch:', '0041', 'training time (minutes)=', '0.1685', 'loss=', '0.001915085')\n",
      "('Epoch:', '0042', 'training time (minutes)=', '0.1666', 'loss=', '0.001902852')\n",
      "('Epoch:', '0043', 'training time (minutes)=', '0.1679', 'loss=', '0.001897014')\n",
      "('Epoch:', '0044', 'training time (minutes)=', '0.1674', 'loss=', '0.001889470')\n",
      "('Epoch:', '0045', 'training time (minutes)=', '0.1678', 'loss=', '0.001876343')\n",
      "('Epoch:', '0046', 'training time (minutes)=', '0.1678', 'loss=', '0.001874348')\n",
      "('Epoch:', '0047', 'training time (minutes)=', '0.1674', 'loss=', '0.001860583')\n",
      "('Epoch:', '0048', 'training time (minutes)=', '0.1665', 'loss=', '0.001853714')\n",
      "('Epoch:', '0049', 'training time (minutes)=', '0.1664', 'loss=', '0.001846555')\n",
      "('Epoch:', '0050', 'training time (minutes)=', '0.1663', 'loss=', '0.001842635')\n",
      "('Epoch:', '0051', 'training time (minutes)=', '0.1669', 'loss=', '0.001841331')\n",
      "('Epoch:', '0052', 'training time (minutes)=', '0.1677', 'loss=', '0.001827351')\n",
      "('Epoch:', '0053', 'training time (minutes)=', '0.1686', 'loss=', '0.001828462')\n",
      "('Epoch:', '0054', 'training time (minutes)=', '0.1663', 'loss=', '0.001811060')\n",
      "('Epoch:', '0055', 'training time (minutes)=', '0.1687', 'loss=', '0.001812033')\n",
      "('Epoch:', '0056', 'training time (minutes)=', '0.1664', 'loss=', '0.001799739')\n",
      "('Epoch:', '0057', 'training time (minutes)=', '0.1675', 'loss=', '0.001797314')\n",
      "('Epoch:', '0058', 'training time (minutes)=', '0.1673', 'loss=', '0.001792927')\n",
      "('Epoch:', '0059', 'training time (minutes)=', '0.1704', 'loss=', '0.001788724')\n",
      "('Epoch:', '0060', 'training time (minutes)=', '0.1666', 'loss=', '0.001777745')\n",
      "('Epoch:', '0061', 'training time (minutes)=', '0.1676', 'loss=', '0.001780238')\n",
      "('Epoch:', '0062', 'training time (minutes)=', '0.1672', 'loss=', '0.001767047')\n",
      "('Epoch:', '0063', 'training time (minutes)=', '0.1670', 'loss=', '0.001768500')\n",
      "('Epoch:', '0064', 'training time (minutes)=', '0.1666', 'loss=', '0.001757995')\n",
      "('Epoch:', '0065', 'training time (minutes)=', '0.1668', 'loss=', '0.001752519')\n",
      "('Epoch:', '0066', 'training time (minutes)=', '0.1671', 'loss=', '0.001754598')\n",
      "('Epoch:', '0067', 'training time (minutes)=', '0.1666', 'loss=', '0.001742101')\n",
      "('Epoch:', '0068', 'training time (minutes)=', '0.1681', 'loss=', '0.001741483')\n",
      "('Epoch:', '0069', 'training time (minutes)=', '0.1670', 'loss=', '0.001736198')\n",
      "('Epoch:', '0070', 'training time (minutes)=', '0.1673', 'loss=', '0.001731263')\n",
      "('Epoch:', '0071', 'training time (minutes)=', '0.1671', 'loss=', '0.001723228')\n",
      "('Epoch:', '0072', 'training time (minutes)=', '0.1657', 'loss=', '0.001721602')\n",
      "('Epoch:', '0073', 'training time (minutes)=', '0.1659', 'loss=', '0.001718910')\n",
      "('Epoch:', '0074', 'training time (minutes)=', '0.1678', 'loss=', '0.001713384')\n",
      "('Epoch:', '0075', 'training time (minutes)=', '0.1670', 'loss=', '0.001711532')\n",
      "('Epoch:', '0076', 'training time (minutes)=', '0.1658', 'loss=', '0.001711189')\n",
      "('Epoch:', '0077', 'training time (minutes)=', '0.1673', 'loss=', '0.001701280')\n",
      "('Epoch:', '0078', 'training time (minutes)=', '0.1666', 'loss=', '0.001696639')\n",
      "('Epoch:', '0079', 'training time (minutes)=', '0.1676', 'loss=', '0.001690413')\n",
      "('Epoch:', '0080', 'training time (minutes)=', '0.1668', 'loss=', '0.001689498')\n",
      "('Epoch:', '0081', 'training time (minutes)=', '0.1712', 'loss=', '0.001683525')\n",
      "('Epoch:', '0082', 'training time (minutes)=', '0.1680', 'loss=', '0.001678599')\n",
      "('Epoch:', '0083', 'training time (minutes)=', '0.1679', 'loss=', '0.001676848')\n",
      "('Epoch:', '0084', 'training time (minutes)=', '0.1688', 'loss=', '0.001676303')\n",
      "('Epoch:', '0085', 'training time (minutes)=', '0.1660', 'loss=', '0.001670346')\n",
      "('Epoch:', '0086', 'training time (minutes)=', '0.1676', 'loss=', '0.001667802')\n",
      "('Epoch:', '0087', 'training time (minutes)=', '0.1668', 'loss=', '0.001663349')\n",
      "('Epoch:', '0088', 'training time (minutes)=', '0.1672', 'loss=', '0.001660921')\n",
      "('Epoch:', '0089', 'training time (minutes)=', '0.1667', 'loss=', '0.001659276')\n",
      "('Epoch:', '0090', 'training time (minutes)=', '0.1771', 'loss=', '0.001650794')\n",
      "('Epoch:', '0091', 'training time (minutes)=', '0.1673', 'loss=', '0.001648368')\n",
      "('Epoch:', '0092', 'training time (minutes)=', '0.1666', 'loss=', '0.001648679')\n",
      "('Epoch:', '0093', 'training time (minutes)=', '0.1660', 'loss=', '0.001647205')\n",
      "('Epoch:', '0094', 'training time (minutes)=', '0.1663', 'loss=', '0.001642249')\n",
      "('Epoch:', '0095', 'training time (minutes)=', '0.1660', 'loss=', '0.001637014')\n",
      "('Epoch:', '0096', 'training time (minutes)=', '0.1683', 'loss=', '0.001632316')\n",
      "('Epoch:', '0097', 'training time (minutes)=', '0.1971', 'loss=', '0.001630598')\n",
      "('Epoch:', '0098', 'training time (minutes)=', '0.1681', 'loss=', '0.001627628')\n",
      "('Epoch:', '0099', 'training time (minutes)=', '0.1841', 'loss=', '0.001625272')\n",
      "('Epoch:', '0100', 'training time (minutes)=', '0.1685', 'loss=', '0.001620682')\n",
      "('Epoch:', '0101', 'training time (minutes)=', '0.1839', 'loss=', '0.001620130')\n",
      "('Epoch:', '0102', 'training time (minutes)=', '0.1683', 'loss=', '0.001614555')\n",
      "('Epoch:', '0103', 'training time (minutes)=', '0.1830', 'loss=', '0.001611413')\n",
      "('Epoch:', '0104', 'training time (minutes)=', '0.1672', 'loss=', '0.001612734')\n",
      "('Epoch:', '0105', 'training time (minutes)=', '0.1670', 'loss=', '0.001604448')\n",
      "('Epoch:', '0106', 'training time (minutes)=', '0.1673', 'loss=', '0.001600787')\n",
      "('Epoch:', '0107', 'training time (minutes)=', '0.1721', 'loss=', '0.001600769')\n",
      "('Epoch:', '0108', 'training time (minutes)=', '0.1679', 'loss=', '0.001598339')\n",
      "('Epoch:', '0109', 'training time (minutes)=', '0.1665', 'loss=', '0.001599414')\n",
      "('Epoch:', '0110', 'training time (minutes)=', '0.1674', 'loss=', '0.001591742')\n",
      "('Epoch:', '0111', 'training time (minutes)=', '0.1717', 'loss=', '0.001590828')\n",
      "('Epoch:', '0112', 'training time (minutes)=', '0.1676', 'loss=', '0.001590808')\n",
      "('Epoch:', '0113', 'training time (minutes)=', '0.1682', 'loss=', '0.001579464')\n",
      "('Epoch:', '0114', 'training time (minutes)=', '0.1695', 'loss=', '0.001581815')\n",
      "('Epoch:', '0115', 'training time (minutes)=', '0.1971', 'loss=', '0.001586247')\n",
      "('Epoch:', '0116', 'training time (minutes)=', '0.1704', 'loss=', '0.001578255')\n",
      "('Epoch:', '0117', 'training time (minutes)=', '0.1740', 'loss=', '0.001572278')\n",
      "('Epoch:', '0118', 'training time (minutes)=', '0.1664', 'loss=', '0.001576304')\n",
      "('Epoch:', '0119', 'training time (minutes)=', '0.1684', 'loss=', '0.001568530')\n",
      "('Epoch:', '0120', 'training time (minutes)=', '0.1693', 'loss=', '0.001568208')\n",
      "('Epoch:', '0121', 'training time (minutes)=', '0.1676', 'loss=', '0.001569144')\n",
      "('Epoch:', '0122', 'training time (minutes)=', '0.1733', 'loss=', '0.001565352')\n",
      "('Epoch:', '0123', 'training time (minutes)=', '0.1684', 'loss=', '0.001556499')\n",
      "('Epoch:', '0124', 'training time (minutes)=', '0.1678', 'loss=', '0.001554768')\n",
      "('Epoch:', '0125', 'training time (minutes)=', '0.1677', 'loss=', '0.001556684')\n",
      "('Epoch:', '0126', 'training time (minutes)=', '0.1690', 'loss=', '0.001553930')\n",
      "('Epoch:', '0127', 'training time (minutes)=', '0.1677', 'loss=', '0.001546076')\n",
      "('Epoch:', '0128', 'training time (minutes)=', '0.1672', 'loss=', '0.001546575')\n",
      "('Epoch:', '0129', 'training time (minutes)=', '0.1688', 'loss=', '0.001546994')\n",
      "('Epoch:', '0130', 'training time (minutes)=', '0.1676', 'loss=', '0.001544636')\n",
      "('Epoch:', '0131', 'training time (minutes)=', '0.1674', 'loss=', '0.001542943')\n",
      "('Epoch:', '0132', 'training time (minutes)=', '0.1683', 'loss=', '0.001540654')\n",
      "('Epoch:', '0133', 'training time (minutes)=', '0.1677', 'loss=', '0.001536149')\n",
      "('Epoch:', '0134', 'training time (minutes)=', '0.1676', 'loss=', '0.001536525')\n",
      "('Epoch:', '0135', 'training time (minutes)=', '0.1678', 'loss=', '0.001534906')\n",
      "('Epoch:', '0136', 'training time (minutes)=', '0.1673', 'loss=', '0.001533987')\n",
      "('Epoch:', '0137', 'training time (minutes)=', '0.1665', 'loss=', '0.001527306')\n",
      "('Epoch:', '0138', 'training time (minutes)=', '0.1668', 'loss=', '0.001525759')\n",
      "('Epoch:', '0139', 'training time (minutes)=', '0.1674', 'loss=', '0.001521808')\n",
      "('Epoch:', '0140', 'training time (minutes)=', '0.1679', 'loss=', '0.001527293')\n",
      "('Epoch:', '0141', 'training time (minutes)=', '0.1674', 'loss=', '0.001522734')\n",
      "('Epoch:', '0142', 'training time (minutes)=', '0.1674', 'loss=', '0.001516520')\n",
      "('Epoch:', '0143', 'training time (minutes)=', '0.1669', 'loss=', '0.001521039')\n",
      "('Epoch:', '0144', 'training time (minutes)=', '0.1670', 'loss=', '0.001511308')\n",
      "('Epoch:', '0145', 'training time (minutes)=', '0.1672', 'loss=', '0.001515028')\n",
      "('Epoch:', '0146', 'training time (minutes)=', '0.1671', 'loss=', '0.001509495')\n",
      "('Epoch:', '0147', 'training time (minutes)=', '0.1681', 'loss=', '0.001511013')\n",
      "('Epoch:', '0148', 'training time (minutes)=', '0.1679', 'loss=', '0.001506361')\n",
      "('Epoch:', '0149', 'training time (minutes)=', '0.1672', 'loss=', '0.001505647')\n",
      "('Epoch:', '0150', 'training time (minutes)=', '0.1682', 'loss=', '0.001505163')\n",
      "('Epoch:', '0151', 'training time (minutes)=', '0.1676', 'loss=', '0.001501092')\n",
      "('Epoch:', '0152', 'training time (minutes)=', '0.1669', 'loss=', '0.001496764')\n",
      "('Epoch:', '0153', 'training time (minutes)=', '0.1678', 'loss=', '0.001496334')\n",
      "('Epoch:', '0154', 'training time (minutes)=', '0.1681', 'loss=', '0.001494399')\n",
      "('Epoch:', '0155', 'training time (minutes)=', '0.1675', 'loss=', '0.001491987')\n",
      "('Epoch:', '0156', 'training time (minutes)=', '0.1670', 'loss=', '0.001494724')\n",
      "('Epoch:', '0157', 'training time (minutes)=', '0.1672', 'loss=', '0.001488035')\n",
      "('Epoch:', '0158', 'training time (minutes)=', '0.1675', 'loss=', '0.001485221')\n",
      "('Epoch:', '0159', 'training time (minutes)=', '0.1684', 'loss=', '0.001489676')\n",
      "('Epoch:', '0160', 'training time (minutes)=', '0.1681', 'loss=', '0.001486762')\n",
      "('Epoch:', '0161', 'training time (minutes)=', '0.1666', 'loss=', '0.001482158')\n",
      "('Epoch:', '0162', 'training time (minutes)=', '0.1670', 'loss=', '0.001482341')\n",
      "('Epoch:', '0163', 'training time (minutes)=', '0.1690', 'loss=', '0.001481807')\n",
      "('Epoch:', '0164', 'training time (minutes)=', '0.1679', 'loss=', '0.001478958')\n",
      "('Epoch:', '0165', 'training time (minutes)=', '0.1674', 'loss=', '0.001476057')\n",
      "('Epoch:', '0166', 'training time (minutes)=', '0.1646', 'loss=', '0.001472418')\n",
      "('Epoch:', '0167', 'training time (minutes)=', '0.1659', 'loss=', '0.001469134')\n",
      "('Epoch:', '0168', 'training time (minutes)=', '0.1661', 'loss=', '0.001473818')\n",
      "('Epoch:', '0169', 'training time (minutes)=', '0.1654', 'loss=', '0.001469554')\n",
      "('Epoch:', '0170', 'training time (minutes)=', '0.1654', 'loss=', '0.001468468')\n",
      "('Epoch:', '0171', 'training time (minutes)=', '0.1669', 'loss=', '0.001464408')\n",
      "('Epoch:', '0172', 'training time (minutes)=', '0.1663', 'loss=', '0.001466889')\n",
      "('Epoch:', '0173', 'training time (minutes)=', '0.1656', 'loss=', '0.001461340')\n",
      "('Epoch:', '0174', 'training time (minutes)=', '0.1654', 'loss=', '0.001460403')\n",
      "('Epoch:', '0175', 'training time (minutes)=', '0.1657', 'loss=', '0.001454306')\n",
      "('Epoch:', '0176', 'training time (minutes)=', '0.1660', 'loss=', '0.001455449')\n",
      "('Epoch:', '0177', 'training time (minutes)=', '0.1663', 'loss=', '0.001452153')\n",
      "('Epoch:', '0178', 'training time (minutes)=', '0.1655', 'loss=', '0.001448117')\n",
      "('Epoch:', '0179', 'training time (minutes)=', '0.1659', 'loss=', '0.001454406')\n",
      "('Epoch:', '0180', 'training time (minutes)=', '0.1656', 'loss=', '0.001449874')\n",
      "('Epoch:', '0181', 'training time (minutes)=', '0.1647', 'loss=', '0.001452871')\n",
      "('Epoch:', '0182', 'training time (minutes)=', '0.1654', 'loss=', '0.001447793')\n",
      "('Epoch:', '0183', 'training time (minutes)=', '0.1660', 'loss=', '0.001453330')\n",
      "('Epoch:', '0184', 'training time (minutes)=', '0.1658', 'loss=', '0.001442244')\n",
      "('Epoch:', '0185', 'training time (minutes)=', '0.1662', 'loss=', '0.001443073')\n",
      "('Epoch:', '0186', 'training time (minutes)=', '0.1664', 'loss=', '0.001437285')\n",
      "('Epoch:', '0187', 'training time (minutes)=', '0.1662', 'loss=', '0.001439144')\n",
      "('Epoch:', '0188', 'training time (minutes)=', '0.1663', 'loss=', '0.001434151')\n",
      "('Epoch:', '0189', 'training time (minutes)=', '0.1675', 'loss=', '0.001434990')\n",
      "('Epoch:', '0190', 'training time (minutes)=', '0.1676', 'loss=', '0.001431291')\n",
      "('Epoch:', '0191', 'training time (minutes)=', '0.1685', 'loss=', '0.001436164')\n",
      "('Epoch:', '0192', 'training time (minutes)=', '0.1687', 'loss=', '0.001433016')\n",
      "('Epoch:', '0193', 'training time (minutes)=', '0.1673', 'loss=', '0.001429600')\n",
      "('Epoch:', '0194', 'training time (minutes)=', '0.1684', 'loss=', '0.001425763')\n",
      "('Epoch:', '0195', 'training time (minutes)=', '0.1680', 'loss=', '0.001433277')\n",
      "('Epoch:', '0196', 'training time (minutes)=', '0.1667', 'loss=', '0.001426154')\n",
      "('Epoch:', '0197', 'training time (minutes)=', '0.1665', 'loss=', '0.001427185')\n",
      "('Epoch:', '0198', 'training time (minutes)=', '0.1655', 'loss=', '0.001423087')\n",
      "('Epoch:', '0199', 'training time (minutes)=', '0.1658', 'loss=', '0.001418948')\n",
      "('Epoch:', '0200', 'training time (minutes)=', '0.1662', 'loss=', '0.001420329')\n"
     ]
    }
   ],
   "source": [
    "reset_tf_graph()\n",
    "set_visible_GPUs([3])\n",
    "ae = PointNetAutoEncoder(experiment_name, conf)\n",
    "\n",
    "if do_training:\n",
    "    ae.train(train_data, conf)\n",
    "\n",
    "else:\n",
    "    saved_epochs = read_saved_epochs(conf.train_dir)\n",
    "    ae.restore_model(train_dir, saved_epochs[-1])"
   ]
  },
  {
   "cell_type": "code",
   "execution_count": 20,
   "metadata": {
    "collapsed": false
   },
   "outputs": [
    {
     "name": "stdout",
     "output_type": "stream",
     "text": [
      "1000 incomplete point clouds were loaded.\n"
     ]
    }
   ],
   "source": [
    "test_id_file = '/orions4-zfs/projects/lins2/Panos_Space/DATA/From_Matthias/shapenet_all-test.txt'\n",
    "test_data = vscan.load_single_class_incomplete_dataset(v_scan_top_dir, test_id_file, class_syn_id, \n",
    "                                                      full_pclouds, full_model_names, n_threads = 24,\n",
    "                                                      n_samples = 2048, search_pattern=search_pattern)"
   ]
  },
  {
   "cell_type": "code",
   "execution_count": 22,
   "metadata": {
    "collapsed": false
   },
   "outputs": [
    {
     "data": {
      "image/png": "[encoded data removed]",
      "text/plain": [
       "<matplotlib.figure.Figure at 0x7ff7b848a050>"
      ]
     },
     "metadata": {},
     "output_type": "display_data"
    }
   ],
   "source": [
    "if do_plotting:\n",
    "    saved_epochs = read_saved_epochs(conf.train_dir)\n",
    "    plot_epochs = select_first_last_and_k(saved_epochs, 13)\n",
    "    stats = eval_model(ae, conf, [train_data, test_data], epochs=plot_epochs)\n",
    "    top_save_dir = osp.join(conf.train_dir, 'model_evaluation')\n",
    "    plot_train_val_test_curves(stats, top_save_dir, has_validation=False, best_epoch=None, show=True)\n",
    "    last_epoch = saved_epochs[-1]\n",
    "    save_dir = osp.join(top_save_dir, 'train_images_epoch_' + str(last_epoch))\n",
    "    plot_reconstructions_at_epoch(last_epoch, ae, train_data, conf, save_dir=save_dir, max_plot=100)    \n",
    "    save_dir = osp.join(top_save_dir, 'test_images_epoch_' + str(last_epoch))\n",
    "    plot_reconstructions_at_epoch(last_epoch, ae, test_data, conf, save_dir=save_dir, max_plot=100)"
   ]
  }
 ],
 "metadata": {
  "kernelspec": {
   "display_name": "Python 2",
   "language": "python",
   "name": "python2"
  },
  "language_info": {
   "codemirror_mode": {
    "name": "ipython",
    "version": 2
   },
   "file_extension": ".py",
   "mimetype": "text/x-python",
   "name": "python",
   "nbconvert_exporter": "python",
   "pygments_lexer": "ipython2",
   "version": "2.7.6"
  }
 },
 "nbformat": 4,
 "nbformat_minor": 0
}
