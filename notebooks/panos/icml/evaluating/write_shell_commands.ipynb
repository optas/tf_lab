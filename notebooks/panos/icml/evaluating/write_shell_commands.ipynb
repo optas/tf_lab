{
 "cells": [
  {
   "cell_type": "code",
   "execution_count": 7,
   "metadata": {
    "collapsed": true,
    "deletable": true,
    "editable": true
   },
   "outputs": [],
   "source": [
    "import os.path as osp\n",
    "import os"
   ]
  },
  {
   "cell_type": "code",
   "execution_count": 8,
   "metadata": {
    "collapsed": false,
    "deletable": true,
    "editable": true
   },
   "outputs": [],
   "source": [
    "top_in_dir = '/orions4-zfs/projects/lins2/Panos_Space/DATA/OUT/icml/synthetic_point_clouds/'\n",
    "top_out_dir = '/orions4-zfs/projects/lins2/Panos_Space/Git_Repos/tf_lab/notebooks/panos/icml/evaluating/'"
   ]
  },
  {
   "cell_type": "code",
   "execution_count": 9,
   "metadata": {
    "collapsed": false,
    "deletable": true,
    "editable": true
   },
   "outputs": [],
   "source": [
    "experiments_dir = [osp.join(top_in_dir, name) for name in os.listdir(top_in_dir)]\n",
    "fout = open(osp.join(top_out_dir, 'jsd_evaluations.sh'), 'w', 1)\n",
    "executable = 'python /orions4-zfs/projects/lins2/Panos_Space/Git_Repos/tf_lab/notebooks/panos/icml/evaluating/nb_gan_jsd_evaluation.py'\n",
    "ref_data = '/orions4-zfs/projects/lins2/Panos_Space/DATA/OUT/nips/our_synthetic_samples/ground_truth/gt_all_chair.npz'\n",
    "\n",
    "for ex in experiments_dir:\n",
    "    command = executable + ' --sample_dir ' + ex + ' --ref ' +  ref_data + ' --out_file ' + osp.join(ex, 'jsd_stats.txt')\n",
    "    fout.write(command + '\\n')\n",
    "\n",
    "fout.close()    "
   ]
  },
  {
   "cell_type": "code",
   "execution_count": 17,
   "metadata": {
    "collapsed": true,
    "deletable": true,
    "editable": true
   },
   "outputs": [],
   "source": []
  }
 ],
 "metadata": {
  "kernelspec": {
   "display_name": "Python 2",
   "language": "python",
   "name": "python2"
  },
  "language_info": {
   "codemirror_mode": {
    "name": "ipython",
    "version": 2
   },
   "file_extension": ".py",
   "mimetype": "text/x-python",
   "name": "python",
   "nbconvert_exporter": "python",
   "pygments_lexer": "ipython2",
   "version": "2.7.6"
  }
 },
 "nbformat": 4,
 "nbformat_minor": 2
}
