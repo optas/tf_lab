{
 "cells": [
  {
   "cell_type": "code",
   "execution_count": 1,
   "metadata": {
    "collapsed": true,
    "deletable": true,
    "editable": true
   },
   "outputs": [],
   "source": [
    "import os\n",
    "import os.path as osp"
   ]
  },
  {
   "cell_type": "code",
   "execution_count": 14,
   "metadata": {
    "collapsed": false,
    "deletable": true,
    "editable": true
   },
   "outputs": [],
   "source": [
    "ae_loss = 'emd'\n",
    "momentum_experiments = False\n",
    "wgan_gp_experiments = True\n",
    "\n",
    "top_out_dir = '/orions4-zfs/projects/lins2/Panos_Space/Git_Repos/tf_lab/notebooks/panos/icml/evaluating/'\n",
    "executable = 'python /orions4-zfs/projects/lins2/Panos_Space/Git_Repos/tf_lab/notebooks/panos/icml/evaluating/nb_gan_jsd_evaluation.py'\n",
    "ref_data = '/orions4-zfs/projects/lins2/Panos_Space/DATA/OUT/nips/our_synthetic_samples/ground_truth/gt_all_chair.npz'"
   ]
  },
  {
   "cell_type": "code",
   "execution_count": 15,
   "metadata": {
    "collapsed": false,
    "deletable": true,
    "editable": true
   },
   "outputs": [],
   "source": [
    "if momentum_experiments:\n",
    "    top_in_dir = '/orions4-zfs/projects/lins2/Panos_Space/DATA/OUT/icml/synthetic_point_clouds/momentum_search/nb_gan_ae_12_emd_chair_2048_best_epoch/'\n",
    "else:\n",
    "    top_in_dir = '/orions4-zfs/projects/lins2/Panos_Space/DATA/OUT/icml/synthetic_point_clouds/'\n",
    "\n",
    "experiments_dir = [osp.join(top_in_dir, name) for name in os.listdir(top_in_dir)]\n",
    "\n",
    "if wgan_gp_experiments:\n",
    "    experiments_dir = [ex for ex in experiments_dir if 'wgan_gp' in ex ]\n"
   ]
  },
  {
   "cell_type": "code",
   "execution_count": 16,
   "metadata": {
    "collapsed": false
   },
   "outputs": [
    {
     "data": {
      "text/plain": [
       "['/orions4-zfs/projects/lins2/Panos_Space/DATA/OUT/icml/synthetic_point_clouds/nb_wgan_gp_ae_10_emd_chair_2048_best_epoch_epoch']"
      ]
     },
     "execution_count": 16,
     "metadata": {},
     "output_type": "execute_result"
    }
   ],
   "source": [
    "experiments_dir"
   ]
  },
  {
   "cell_type": "code",
   "execution_count": 17,
   "metadata": {
    "collapsed": false,
    "deletable": true,
    "editable": true
   },
   "outputs": [],
   "source": [
    "fout = open(osp.join(top_out_dir, 'jsd_evaluations.sh'), 'w', 1)\n",
    "for ex in experiments_dir:        \n",
    "    if ae_loss in ex:\n",
    "        command = executable + ' --sample_dir ' + ex + ' --ref ' +  ref_data + ' --out_file ' + osp.join(ex, 'jsd_stats.txt')\n",
    "        fout.write(command + '\\n\\n')\n",
    "\n",
    "fout.close()"
   ]
  }
 ],
 "metadata": {
  "kernelspec": {
   "display_name": "Python 2",
   "language": "python",
   "name": "python2"
  },
  "language_info": {
   "codemirror_mode": {
    "name": "ipython",
    "version": 2
   },
   "file_extension": ".py",
   "mimetype": "text/x-python",
   "name": "python",
   "nbconvert_exporter": "python",
   "pygments_lexer": "ipython2",
   "version": "2.7.6"
  }
 },
 "nbformat": 4,
 "nbformat_minor": 2
}
