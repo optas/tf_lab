{
 "cells": [
  {
   "cell_type": "code",
   "execution_count": 2,
   "metadata": {
    "collapsed": true,
    "deletable": true,
    "editable": true
   },
   "outputs": [],
   "source": [
    "import warnings\n",
    "import os\n",
    "# Ignore TF related warnings.\n",
    "warnings.filterwarnings(\"ignore\")\n",
    "os.environ['TF_CPP_MIN_LOG_LEVEL'] = '3'"
   ]
  },
  {
   "cell_type": "code",
   "execution_count": 3,
   "metadata": {
    "collapsed": false,
    "deletable": true,
    "editable": true
   },
   "outputs": [],
   "source": [
    "import os.path as osp\n",
    "import numpy as np\n",
    "from tf_lab.nips.evaluate_gan import entropy_of_occupancy_grid, jensen_shannon_divergence\n",
    "from tf_lab.nips.helper import pclouds_centered_and_half_sphere\n",
    "import argparse"
   ]
  },
  {
   "cell_type": "code",
   "execution_count": 43,
   "metadata": {
    "collapsed": false,
    "deletable": true,
    "editable": true
   },
   "outputs": [
    {
     "data": {
      "text/plain": [
       "_StoreAction(option_strings=['--epochs'], dest='epochs', nargs=None, const=None, default=[1, 3, 10, 30, 100, 300, 400, 500], type=<type 'list'>, choices=None, help='Epochs to evaluate.', metavar=None)"
      ]
     },
     "execution_count": 43,
     "metadata": {},
     "output_type": "execute_result"
    }
   ],
   "source": [
    "parser = argparse.ArgumentParser()\n",
    "parser.add_argument('--sample_dir', type=str, default = '', help='Directory of point-cloud samples.', required=True)\n",
    "parser.add_argument('--ref', type=str, default = '', help='Path to reference point-cloud.', required=True)\n",
    "parser.add_argument('--out_file', type=str, help='Save results in this file.', required=True)\n",
    "parser.add_argument('--epochs', type=list, default = [1, 3, 10, 30, 100, 300, 400, 500], help='Epochs to evaluate.')\n",
    "opt = parser.parse_args()"
   ]
  },
  {
   "cell_type": "code",
   "execution_count": 46,
   "metadata": {
    "collapsed": true,
    "deletable": true,
    "editable": true
   },
   "outputs": [],
   "source": [
    "n_pc_samples = 2048\n",
    "cmp_in_sphere = True\n",
    "voxel_resolution = 28"
   ]
  },
  {
   "cell_type": "code",
   "execution_count": 47,
   "metadata": {
    "collapsed": false,
    "deletable": true,
    "editable": true
   },
   "outputs": [],
   "source": [
    "gt_data = np.load(opt.ref)  # Load Ground-Truth Data.\n",
    "gt_data = gt_data[gt_data.keys()[0]]\n",
    "gt_data = pclouds_centered_and_half_sphere(gt_data)\n",
    "_, gt_grid_var = entropy_of_occupancy_grid(gt_data, voxel_resolution, in_sphere=cmp_in_sphere)"
   ]
  },
  {
   "cell_type": "code",
   "execution_count": 1,
   "metadata": {
    "collapsed": false,
    "deletable": true,
    "editable": true
   },
   "outputs": [],
   "source": [
    "buf_size = 1 # flush each line\n",
    "fout = open(opt.out_file, 'a', buf_size)\n",
    "fout.write('#Metric Epoch Measurement\\n')\n",
    "print 'Saving measurements at: ' + opt.out_file\n",
    "for epoch in opt.epochs: \n",
    "    sample_file = osp.join(opt.sample_dir, 'epoch_%d.npz' % (epoch,) )\n",
    "    sample_data = np.load(sample_file)\n",
    "    sample_data = sample_data[sample_data.keys()[0]]\n",
    "    sample_data = pclouds_centered_and_half_sphere(sample_data)\n",
    "    _, sample_grid_var = entropy_of_occupancy_grid(sample_data, voxel_resolution, in_sphere=cmp_in_sphere)\n",
    "    jsd_epoch = jensen_shannon_divergence(sample_grid_var, gt_grid_var)\n",
    "    log_data = 'JSD %d %f' % (epoch, jsd_epoch)\n",
    "    print log_data\n",
    "    fout.write(log_data + '\\n')\n",
    "fout.close()"
   ]
  }
 ],
 "metadata": {
  "kernelspec": {
   "display_name": "Python 2",
   "language": "python",
   "name": "python2"
  },
  "language_info": {
   "codemirror_mode": {
    "name": "ipython",
    "version": 2
   },
   "file_extension": ".py",
   "mimetype": "text/x-python",
   "name": "python",
   "nbconvert_exporter": "python",
   "pygments_lexer": "ipython2",
   "version": "2.7.6"
  }
 },
 "nbformat": 4,
 "nbformat_minor": 2
}
