{
 "cells": [
  {
   "cell_type": "code",
   "execution_count": 2,
   "metadata": {
    "collapsed": true,
    "deletable": true,
    "editable": true
   },
   "outputs": [],
   "source": [
    "# Stop warnings\n",
    "import warnings\n",
    "warnings.filterwarnings(\"ignore\")\n",
    "import os\n",
    "os.environ['TF_CPP_MIN_LOG_LEVEL'] = '3'"
   ]
  },
  {
   "cell_type": "code",
   "execution_count": 49,
   "metadata": {
    "collapsed": false
   },
   "outputs": [
    {
     "ename": "AttributeError",
     "evalue": "'module' object has no attribute 'RegisterShape'",
     "output_type": "error",
     "traceback": [
      "\u001b[1;31m---------------------------------------------------------------------------\u001b[0m",
      "\u001b[1;31mAttributeError\u001b[0m                            Traceback (most recent call last)",
      "\u001b[1;32m<ipython-input-49-6ec279aa6fcb>\u001b[0m in \u001b[0;36m<module>\u001b[1;34m()\u001b[0m\n\u001b[0;32m      1\u001b[0m \u001b[1;32mimport\u001b[0m \u001b[0mgeo_tool\u001b[0m\u001b[1;33m\u001b[0m\u001b[0m\n\u001b[0;32m      2\u001b[0m \u001b[1;31m# from tf_lab.external.Chamfer_EMD_losses.tf_approxmatch import approx_match, match_cost\u001b[0m\u001b[1;33m\u001b[0m\u001b[1;33m\u001b[0m\u001b[0m\n\u001b[1;32m----> 3\u001b[1;33m \u001b[1;32mfrom\u001b[0m \u001b[0mtf_lab\u001b[0m\u001b[1;33m.\u001b[0m\u001b[0mexternal\u001b[0m\u001b[1;33m.\u001b[0m\u001b[0mChamfer_EMD_losses\u001b[0m\u001b[1;33m.\u001b[0m\u001b[0mtf_nndistance\u001b[0m \u001b[1;32mimport\u001b[0m \u001b[0mnn_distance\u001b[0m\u001b[1;33m\u001b[0m\u001b[0m\n\u001b[0m",
      "\u001b[1;32m/orions4-zfs/projects/lins2/Panos_Space/Git_Repos/tf_lab/external/Chamfer_EMD_losses/tf_nndistance.py\u001b[0m in \u001b[0;36m<module>\u001b[1;34m()\u001b[0m\n\u001b[0;32m     18\u001b[0m         \u001b[1;32mreturn\u001b[0m \u001b[0mnn_distance_module\u001b[0m\u001b[1;33m.\u001b[0m\u001b[0mnn_distance\u001b[0m\u001b[1;33m(\u001b[0m\u001b[0mxyz1\u001b[0m\u001b[1;33m,\u001b[0m\u001b[0mxyz2\u001b[0m\u001b[1;33m)\u001b[0m\u001b[1;33m\u001b[0m\u001b[0m\n\u001b[0;32m     19\u001b[0m \u001b[1;33m\u001b[0m\u001b[0m\n\u001b[1;32m---> 20\u001b[1;33m \u001b[1;33m@\u001b[0m\u001b[0mtf\u001b[0m\u001b[1;33m.\u001b[0m\u001b[0mRegisterShape\u001b[0m\u001b[1;33m(\u001b[0m\u001b[1;34m'NnDistance'\u001b[0m\u001b[1;33m)\u001b[0m\u001b[1;33m\u001b[0m\u001b[0m\n\u001b[0m\u001b[0;32m     21\u001b[0m \u001b[1;32mdef\u001b[0m \u001b[0m_nn_distance_shape\u001b[0m\u001b[1;33m(\u001b[0m\u001b[0mop\u001b[0m\u001b[1;33m)\u001b[0m\u001b[1;33m:\u001b[0m\u001b[1;33m\u001b[0m\u001b[0m\n\u001b[0;32m     22\u001b[0m         \u001b[0mshape1\u001b[0m\u001b[1;33m=\u001b[0m\u001b[0mop\u001b[0m\u001b[1;33m.\u001b[0m\u001b[0minputs\u001b[0m\u001b[1;33m[\u001b[0m\u001b[1;36m0\u001b[0m\u001b[1;33m]\u001b[0m\u001b[1;33m.\u001b[0m\u001b[0mget_shape\u001b[0m\u001b[1;33m(\u001b[0m\u001b[1;33m)\u001b[0m\u001b[1;33m.\u001b[0m\u001b[0mwith_rank\u001b[0m\u001b[1;33m(\u001b[0m\u001b[1;36m3\u001b[0m\u001b[1;33m)\u001b[0m\u001b[1;33m\u001b[0m\u001b[0m\n",
      "\u001b[1;31mAttributeError\u001b[0m: 'module' object has no attribute 'RegisterShape'"
     ]
    }
   ],
   "source": [
    "import geo_tool\n",
    "# from tf_lab.external.Chamfer_EMD_losses.tf_approxmatch import approx_match, match_cost\n",
    "from tf_lab.external.Chamfer_EMD_losses.tf_nndistance import nn_distance"
   ]
  },
  {
   "cell_type": "code",
   "execution_count": 66,
   "metadata": {
    "collapsed": false
   },
   "outputs": [],
   "source": []
  },
  {
   "cell_type": "code",
   "execution_count": 68,
   "metadata": {
    "collapsed": false
   },
   "outputs": [
    {
     "name": "stdout",
     "output_type": "stream",
     "text": [
      "5.99128762007\n"
     ]
    }
   ],
   "source": [
    "print minimum_mathing_distance(sample_data[:100], ref_data[:100], 100)[0]\n",
    "print minimum_mathing_distance_2(sample_data[:100], ref_data[:100])[0]"
   ]
  },
  {
   "cell_type": "code",
   "execution_count": 80,
   "metadata": {
    "collapsed": false
   },
   "outputs": [
    {
     "name": "stdout",
     "output_type": "stream",
     "text": [
      "1 loops, best of 1: 2.8 s per loop\n"
     ]
    }
   ],
   "source": [
    "%timeit -n1 -r1 minimum_mathing_distance(sample_data[:100], ref_data[:100], 100)[0]\n",
    "# %timeit -n1 -r1 minimum_mathing_distance_2(sample_data[:100], ref_data[:100], 50)[0]"
   ]
  },
  {
   "cell_type": "code",
   "execution_count": 6,
   "metadata": {
    "collapsed": false,
    "deletable": true,
    "editable": true
   },
   "outputs": [
    {
     "name": "stdout",
     "output_type": "stream",
     "text": [
      "External Losses (Chamfer-EMD) cannot be loaded.\n"
     ]
    },
    {
     "name": "stderr",
     "output_type": "stream",
     "text": [
      "/orions4-zfs/projects/lins2/Panos_Space/Git_Repos/geo_tool/point_clouds/point_cloud.py:26: UserWarning: Pyplot library is not working correctly. Some graphics utilities will be disabled.\n",
      "  warnings.warn('Pyplot library is not working correctly. Some graphics utilities will be disabled.')\n"
     ]
    }
   ],
   "source": [
    "import os.path as osp\n",
    "import numpy as np\n",
    "from tf_lab.nips.evaluate_gan import entropy_of_occupancy_grid, jensen_shannon_divergence\n",
    "from tf_lab.nips.helper import pclouds_centered_and_half_sphere\n",
    "import argparse"
   ]
  },
  {
   "cell_type": "code",
   "execution_count": 43,
   "metadata": {
    "collapsed": false,
    "deletable": true,
    "editable": true
   },
   "outputs": [
    {
     "data": {
      "text/plain": [
       "_StoreAction(option_strings=['--epochs'], dest='epochs', nargs=None, const=None, default=[1, 3, 10, 30, 100, 300, 400, 500], type=<type 'list'>, choices=None, help='Epochs to evaluate.', metavar=None)"
      ]
     },
     "execution_count": 43,
     "metadata": {},
     "output_type": "execute_result"
    }
   ],
   "source": [
    "parser = argparse.ArgumentParser()\n",
    "parser.add_argument('--sample_dir', type=str, default = '', help='Directory of point-cloud samples.', required=True)\n",
    "parser.add_argument('--ref', type=str, default = '', help='Path to reference point-cloud.', required=True)\n",
    "parser.add_argument('--out_file', type=str, help='Save results in this file.', required=True)\n",
    "parser.add_argument('--epochs', type=list, default = [1, 3, 10, 30, 100, 300, 400, 500], help='Epochs to evaluate.')\n",
    "opt = parser.parse_args()"
   ]
  },
  {
   "cell_type": "code",
   "execution_count": 46,
   "metadata": {
    "collapsed": true,
    "deletable": true,
    "editable": true
   },
   "outputs": [],
   "source": [
    "n_pc_samples = 2048"
   ]
  },
  {
   "cell_type": "code",
   "execution_count": 9,
   "metadata": {
    "collapsed": true
   },
   "outputs": [],
   "source": [
    "sample_file = '/orions4-zfs/projects/lins2/Panos_Space/DATA/OUT/icml/synthetic_point_clouds/nb_gan_ae_10_emd_chair_2048_best_epoch/epoch_500.npz'\n",
    "sample_data = np.load(sample_file)\n",
    "sample_data = sample_data[sample_data.keys()[0]]\n",
    "sample_data = pclouds_centered_and_half_sphere(sample_data)\n",
    "sample_data = sample_data[:1000]"
   ]
  },
  {
   "cell_type": "code",
   "execution_count": 11,
   "metadata": {
    "collapsed": false
   },
   "outputs": [],
   "source": [
    "ref_file = '/orions4-zfs/projects/lins2/Panos_Space/DATA/OUT/nips/our_synthetic_samples/ground_truth/gt_all_chair.npz'\n",
    "ref_data = np.load(ref_file)\n",
    "ref_data = ref_data[ref_data.keys()[0]]\n",
    "ref_data = pclouds_centered_and_half_sphere(ref_data)\n",
    "ref_data = ref_data[:1000]"
   ]
  },
  {
   "cell_type": "code",
   "execution_count": 41,
   "metadata": {
    "collapsed": false
   },
   "outputs": [
    {
     "data": {
      "text/plain": [
       "(-268.35444458007811,\n",
       " array([-229.02296448, -333.49404907, -273.04418945, -284.90945435,\n",
       "        -255.94403076, -254.92684937, -323.8092041 , -283.97335815,\n",
       "        -285.29104614, -339.77563477, -192.04100037, -264.23370361,\n",
       "        -285.92098999, -312.75335693, -238.12832642, -247.81204224,\n",
       "        -226.83222961, -238.51167297, -319.74554443, -259.1585083 ,\n",
       "        -260.43243408, -229.18948364, -432.59191895, -221.79397583,\n",
       "        -345.45602417, -220.67871094, -226.777771  , -244.35952759,\n",
       "        -238.50662231, -261.31103516, -260.84555054, -246.55810547,\n",
       "        -225.38673401, -282.69754028, -257.83691406, -279.54727173,\n",
       "        -249.44024658, -265.86010742, -328.30505371, -262.74014282,\n",
       "        -262.12231445, -247.2895813 , -241.0692749 , -301.26013184,\n",
       "        -302.65917969, -365.00112915, -243.20123291, -161.05128479,\n",
       "        -211.64408875, -166.48623657, -285.68283081, -246.1892395 ,\n",
       "        -257.48971558, -197.09350586, -271.86431885, -180.23390198,\n",
       "        -269.94223022, -304.8276062 , -266.24468994, -309.74127197,\n",
       "        -266.55645752, -244.258255  , -338.45236206, -295.87991333,\n",
       "        -238.72721863, -321.43249512, -189.53791809, -321.22375488,\n",
       "        -231.12121582, -298.21514893, -277.50238037, -290.84707642,\n",
       "        -270.90130615, -276.77209473, -209.08476257, -340.15875244,\n",
       "        -243.77363586, -253.89456177, -282.60803223, -268.02038574,\n",
       "        -264.42633057, -343.94464111, -245.21594238, -242.21850586,\n",
       "        -352.91757202, -296.22515869, -316.3684082 , -286.31033325,\n",
       "        -287.46405029, -233.27307129, -216.73442078, -308.59353638,\n",
       "        -245.49954224, -296.25817871, -242.29177856, -181.87164307,\n",
       "        -310.63659668, -252.04388428, -332.8694458 , -240.57659912]))"
      ]
     },
     "execution_count": 41,
     "metadata": {},
     "output_type": "execute_result"
    }
   ],
   "source": []
  },
  {
   "cell_type": "code",
   "execution_count": 47,
   "metadata": {
    "collapsed": false,
    "deletable": true,
    "editable": true
   },
   "outputs": [],
   "source": [
    "gt_data = np.load(opt.ref)  # Load Ground-Truth Data.\n",
    "gt_data = gt_data[gt_data.keys()[0]]\n",
    "gt_data = pclouds_centered_and_half_sphere(gt_data)"
   ]
  },
  {
   "cell_type": "code",
   "execution_count": 1,
   "metadata": {
    "collapsed": false,
    "deletable": true,
    "editable": true
   },
   "outputs": [],
   "source": [
    "buf_size = 1 # flush each line\n",
    "fout = open(opt.out_file, 'a', buf_size)\n",
    "fout.write('#Metric Epoch Measurement\\n')\n",
    "print 'Saving measurements at: ' + opt.out_file\n",
    "for epoch in opt.epochs: \n",
    "    sample_file = osp.join(opt.sample_dir, 'epoch_%d.npz' % (epoch,) )\n",
    "    sample_data = np.load(sample_file)\n",
    "    sample_data = sample_data[sample_data.keys()[0]]\n",
    "    sample_data = pclouds_centered_and_half_sphere(sample_data)\n",
    "    \n",
    "#     jsd_epoch = jensen_shannon_divergence(sample_grid_var, gt_grid_var)\n",
    "    mmd_epoch = ?\n",
    "    \n",
    "    log_data = 'MMD %d %f' % (epoch, mmd_epoch)\n",
    "    print log_data\n",
    "    fout.write(log_data + '\\n')\n",
    "fout.close()"
   ]
  }
 ],
 "metadata": {
  "kernelspec": {
   "display_name": "Python 2",
   "language": "python",
   "name": "python2"
  },
  "language_info": {
   "codemirror_mode": {
    "name": "ipython",
    "version": 2
   },
   "file_extension": ".py",
   "mimetype": "text/x-python",
   "name": "python",
   "nbconvert_exporter": "python",
   "pygments_lexer": "ipython2",
   "version": "2.7.6"
  }
 },
 "nbformat": 4,
 "nbformat_minor": 2
}
