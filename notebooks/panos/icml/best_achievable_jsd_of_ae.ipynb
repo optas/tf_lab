{
 "cells": [
  {
   "cell_type": "code",
   "execution_count": 1,
   "metadata": {
    "collapsed": false,
    "deletable": true,
    "editable": true
   },
   "outputs": [
    {
     "name": "stdout",
     "output_type": "stream",
     "text": [
      "Picking GPU 1\n"
     ]
    }
   ],
   "source": [
    "from general_tools.notebook.gpu_utils import setup_one_gpu\n",
    "GPU = 1\n",
    "setup_one_gpu(GPU)"
   ]
  },
  {
   "cell_type": "code",
   "execution_count": 2,
   "metadata": {
    "collapsed": false,
    "deletable": true,
    "editable": true
   },
   "outputs": [
    {
     "name": "stderr",
     "output_type": "stream",
     "text": [
      "/usr/local/lib/python2.7/dist-packages/matplotlib/font_manager.py:273: UserWarning: Matplotlib is building the font cache using fc-list. This may take a moment.\n",
      "  warnings.warn('Matplotlib is building the font cache using fc-list. This may take a moment.')\n"
     ]
    }
   ],
   "source": [
    "import sys\n",
    "import time\n",
    "import numpy as np\n",
    "import os.path as osp\n",
    "import tensorflow as tf\n",
    "import matplotlib.pyplot as plt\n",
    "\n",
    "from general_tools.notebook.tf import reset_tf_graph\n",
    "from general_tools.in_out.basics import pickle_data\n",
    "\n",
    "import tf_lab.point_clouds.in_out as pio\n",
    "\n",
    "from tf_lab.point_clouds.in_out import PointCloudDataSet, write_model_ids_of_datasets\n",
    "from tf_lab.point_clouds.point_net_ae import PointNetAutoEncoder\n",
    "from tf_lab.point_clouds.autoencoder import Configuration as Conf\n",
    "import tf_lab.point_clouds.encoders_decoders as enc_dec\n",
    "\n",
    "\n",
    "from tf_lab.autopredictors.scripts.helper import shape_net_category_to_synth_id\n",
    "\n",
    "\n",
    "from tf_lab.autopredictors.plotting import plot_original_pclouds_vs_reconstructed, \\\n",
    "                                           plot_train_val_test_curves, plot_reconstructions_at_epoch\n",
    "\n",
    "\n",
    "from tf_lab.autopredictors.evaluate import eval_model, read_saved_epochs\n",
    "                                                  \n",
    "\n",
    "from general_tools.in_out.basics import create_dir, delete_files_in_directory, files_in_subdirs\n",
    "from general_tools.simpletons import select_first_last_and_k\n",
    "from geo_tool import Point_Cloud\n",
    "\n",
    "from tf_lab.nips.data_sets.shape_net import pc_loader as sn_pc_loader\n",
    "from tf_lab.nips.helper import center_pclouds_in_unit_sphere\n",
    "from tf_lab.icml.ae_farm_helper import EMD_Stats, Chamfer_Stats"
   ]
  },
  {
   "cell_type": "code",
   "execution_count": 3,
   "metadata": {
    "collapsed": false,
    "deletable": true,
    "editable": true
   },
   "outputs": [
    {
     "name": "stdout",
     "output_type": "stream",
     "text": [
      "PyTorch not working. MMD measurement won't be available\n"
     ]
    }
   ],
   "source": [
    "from bench_pc_gan.evaluate_gan import entropy_of_occupancy_grid, jensen_shannon_divergence\n",
    "from tf_lab.nips.helper import pclouds_centered_and_half_sphere\n",
    "from tf_lab.autopredictors.exploration import latent_embedding_of_entire_dataset\n",
    "from general_tools.simpletons import iterate_in_chunks"
   ]
  },
  {
   "cell_type": "code",
   "execution_count": 4,
   "metadata": {
    "collapsed": true,
    "deletable": true,
    "editable": true
   },
   "outputs": [],
   "source": [
    "%load_ext autoreload\n",
    "%autoreload 2\n",
    "%matplotlib inline"
   ]
  },
  {
   "cell_type": "code",
   "execution_count": 5,
   "metadata": {
    "collapsed": true,
    "deletable": true,
    "editable": true
   },
   "outputs": [],
   "source": [
    "class_name = 'chair'\n",
    "ae_loss = 'emd'\n",
    "n_pc_samples = 2048\n",
    "top_data_dir = '/orions4-zfs/projects/lins2/Panos_Space/DATA/'"
   ]
  },
  {
   "cell_type": "code",
   "execution_count": 6,
   "metadata": {
    "collapsed": false,
    "deletable": true,
    "editable": true
   },
   "outputs": [
    {
     "name": "stdout",
     "output_type": "stream",
     "text": [
      "6778 files containing complete point clouds were found.\n"
     ]
    }
   ],
   "source": [
    "# Load Raw Point-Clouds of class\n",
    "pclouds_path = osp.join(top_data_dir, 'Point_Clouds/Shape_Net/Core/from_manifold_meshes/centered/', str(n_pc_samples))\n",
    "syn_id = shape_net_category_to_synth_id()[class_name]\n",
    "pclouds_path = osp.join(pclouds_path, syn_id)\n",
    "file_names = pio.load_filenames_of_input_data(pclouds_path, '.ply')\n",
    "pclouds, model_ids, syn_ids = pio.load_crude_point_clouds(file_names=file_names, n_threads=50, loader=sn_pc_loader)\n",
    "print '%d files containing complete point clouds were found.' % (len(pclouds), )\n",
    "train_data = PointCloudDataSet(pclouds)"
   ]
  },
  {
   "cell_type": "code",
   "execution_count": 7,
   "metadata": {
    "collapsed": true,
    "deletable": true,
    "editable": true
   },
   "outputs": [],
   "source": [
    "cmp_in_sphere = True\n",
    "voxel_resolution = 28\n",
    "pclouds_ = pclouds_centered_and_half_sphere(pclouds)\n",
    "_, gt_grid_var = entropy_of_occupancy_grid(pclouds_, voxel_resolution, in_sphere=cmp_in_sphere)"
   ]
  },
  {
   "cell_type": "code",
   "execution_count": 18,
   "metadata": {
    "collapsed": false
   },
   "outputs": [
    {
     "name": "stdout",
     "output_type": "stream",
     "text": [
      "ae_farm_chair_conv_arch_16_2048pts_emd\n",
      "Model restored in epoch 1000.\n",
      "10\n",
      "42278.0653729\n",
      "-2.12378929341\n"
     ]
    }
   ],
   "source": [
    "ae_id = 16\n",
    "ae_name = '_'.join(['ae_farm', class_name, 'conv_arch', str(ae_id), str(n_pc_samples) + 'pts', ae_loss])\n",
    "train_dir = osp.join(top_data_dir, 'OUT/icml/nn_models/ae_farming', ae_name)\n",
    "conf = Conf.load(osp.join(train_dir, 'configuration'))\n",
    "reset_tf_graph()\n",
    "ae = PointNetAutoEncoder(ae_name, conf)    \n",
    "print ae_name\n",
    "load_epoch = 1000\n",
    "ae.restore_model(conf.train_dir, load_epoch, verbose=True)\n",
    "_, latent_codes, _ = latent_embedding_of_entire_dataset(train_data, ae, conf)\n",
    "reconstructed = []\n",
    "for b in iterate_in_chunks(latent_codes, conf.batch_size):\n",
    "    reconstructed.append(ae.decode(b))\n",
    "reconstructed = np.vstack(reconstructed) \n",
    "reconstructed = pclouds_centered_and_half_sphere(reconstructed)\n",
    "\n",
    "from sklearn import mixture\n",
    "\n",
    "for n_component in [10]:\n",
    "    print n_component\n",
    "    gmm = mixture.GaussianMixture(n_component, covariance_type='full')\n",
    "    gmm.fit(latent_codes)\n",
    "#     sample_codes = gmm.sample(raw_data.num_examples)[0]\n",
    "    print gmm.bic(latent_codes)    \n",
    "    print gmm.score(latent_codes)"
   ]
  },
  {
   "cell_type": "code",
   "execution_count": 11,
   "metadata": {
    "collapsed": false,
    "deletable": true,
    "editable": true
   },
   "outputs": [
    {
     "name": "stdout",
     "output_type": "stream",
     "text": [
      "[10, 11, 12, 13, 14, 15]\n",
      "4\n",
      "ae_farm_chair_conv_arch_18_2048pts_emd\n",
      "Model restored in epoch 1000.\n",
      "0.0030742091352\n"
     ]
    }
   ],
   "source": [
    "experiment_stats = EMD_Stats\n",
    "ae_ids = experiment_stats.experiments_ids\n",
    "exp_type = 'best'\n",
    "\n",
    "ae_ids = [18]\n",
    "\n",
    "for ae_id in ae_ids:\n",
    "    ae_name = '_'.join(['ae_farm', class_name, 'conv_arch', str(ae_id), str(n_pc_samples) + 'pts', ae_loss])\n",
    "    train_dir = osp.join(top_data_dir, 'OUT/icml/nn_models/ae_farming', ae_name)\n",
    "    conf = Conf.load(osp.join(train_dir, 'configuration'))\n",
    "    bneck = conf.encoder_args['n_filters'][-1]\n",
    "    assert(experiment_stats.experiment_id_to_bneck[ae_id] == bneck)\n",
    "    print bneck\n",
    "    \n",
    "    if exp_type == 'max_min':\n",
    "        load_epoch = experiment_stats.max_min_epochs[bneck][0]\n",
    "    else:\n",
    "        load_epoch = experiment_stats.best_epochs[bneck][0]\n",
    "    \n",
    "    reset_tf_graph()\n",
    "    ae = PointNetAutoEncoder(ae_name, conf)    \n",
    "    print ae_name\n",
    "    ae.restore_model(conf.train_dir, load_epoch, verbose=True)\n",
    "    _, latent_codes, _ = latent_embedding_of_entire_dataset(train_data, ae, conf)\n",
    "    reconstructed = []\n",
    "    for b in iterate_in_chunks(latent_codes, conf.batch_size):\n",
    "        reconstructed.append(ae.decode(b))\n",
    "    reconstructed = np.vstack(reconstructed) \n",
    "    reconstructed = pclouds_centered_and_half_sphere(reconstructed)\n",
    "    _, sample_grid_var = entropy_of_occupancy_grid(reconstructed, voxel_resolution, in_sphere=cmp_in_sphere)\n",
    "    jsd_epoch = jensen_shannon_divergence(sample_grid_var, gt_grid_var)\n",
    "    print jsd_epoch"
   ]
  },
  {
   "cell_type": "code",
   "execution_count": 15,
   "metadata": {
    "collapsed": false,
    "deletable": true,
    "editable": true
   },
   "outputs": [],
   "source": [
    "# Best_Epoch\n",
    "(4, 0.0030742091352)\n",
    "(8, 0.00135260351788)\n",
    "(16, 0.000822138606231)\n",
    "(32, 0.000644479942822)\n",
    "(64, 0.000647472505707)\n",
    "(128, 0.000561809067982)\n",
    "(256, 0.000567715030499)\n",
    "(512, 0.000554273937081)\n",
    "(1024, 0.000541790000585)\n",
    "\n",
    "# Max_min Epoch\n",
    "(32, 0.000644479942822)\n",
    "(64, 0.000733603530406)\n",
    "(128, 0.000684516282747)\n",
    "(256, 0.000773909275057)\n",
    "(512, 0.000771209492351)"
   ]
  }
 ],
 "metadata": {
  "kernelspec": {
   "display_name": "Python 2",
   "language": "python",
   "name": "python2"
  },
  "language_info": {
   "codemirror_mode": {
    "name": "ipython",
    "version": 2
   },
   "file_extension": ".py",
   "mimetype": "text/x-python",
   "name": "python",
   "nbconvert_exporter": "python",
   "pygments_lexer": "ipython2",
   "version": "2.7.6"
  }
 },
 "nbformat": 4,
 "nbformat_minor": 2
}
