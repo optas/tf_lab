{
 "cells": [
  {
   "cell_type": "code",
   "execution_count": 1,
   "metadata": {
    "collapsed": false
   },
   "outputs": [],
   "source": [
    "import sys\n",
    "import numpy as np\n",
    "import os.path as osp\n",
    "import tensorflow as tf\n",
    "from scipy import spatial\n",
    "from scipy.sparse.linalg import eigs\n",
    "import matplotlib.pyplot as plt\n",
    "%matplotlib inline\n",
    "\n",
    "git_path = '/Users/optas/Documents/Git_Repos/'\n",
    "sys.path.insert(0, git_path)\n",
    "\n",
    "from TF_Lab import *"
   ]
  },
  {
   "cell_type": "code",
   "execution_count": 2,
   "metadata": {
    "collapsed": false
   },
   "outputs": [],
   "source": [
    "from tensorflow.models.image.cifar10 import cifar10\n",
    "cifar10.FLAGS.data_dir = '/Users/optas/DATA/CIFAR_10/'\n",
    "cifar10.maybe_download_and_extract()\n",
    "NUM_CLASSES = 10"
   ]
  },
  {
   "cell_type": "code",
   "execution_count": 3,
   "metadata": {
    "collapsed": false
   },
   "outputs": [],
   "source": [
    "pad = 'SAME'\n",
    "stddev = 5e-2\n",
    "\n",
    "def inference_network(in_signal):\n",
    "    layer = convolutional_layer(in_signal, filters=64, field_size=[5,5], stride=1, padding=pad, stddev=stddev, name='conv1')\n",
    "    layer = max_pool(relu(layer), kernel=[3,3], stride=[2,2], name='max_pool_1')\n",
    "    layer = convolutional_layer(in_signal, filters=64, field_size=[5,5], stride=1, padding=pad, stddev=stddev, name='conv2')\n",
    "    layer = max_pool(relu(layer), kernel=[3,3], stride=[2,2], name='max_pool_2')\n",
    "    layer = fully_connected_layer(layer, 384, stddev=0.04, wd=0.004, init_bias=0.1, name='fc_1')\n",
    "    layer = fully_connected_layer(layer, 192, stddev=0.04, wd=0.004, init_bias=0.1, name='fc_2')\n",
    "    return fully_connected_layer(layer, NUM_CLASSES, stddev=1/102.0, init_bias=0.0, name='fc_3')\n",
    "    "
   ]
  },
  {
   "cell_type": "code",
   "execution_count": null,
   "metadata": {
    "collapsed": false
   },
   "outputs": [
    {
     "name": "stdout",
     "output_type": "stream",
     "text": [
      "Filling queue with 20000 CIFAR images before starting to train. This will take a few minutes.\n",
      "2016-10-07 21:34:05.073657: step 0, loss = 11.26 (14.9 examples/sec; 8.611 sec/batch)\n",
      "2016-10-07 21:34:07.808299: step 10, loss = 10.97 (749.5 examples/sec; 0.171 sec/batch)\n",
      "2016-10-07 21:34:09.535338: step 20, loss = 10.81 (742.0 examples/sec; 0.173 sec/batch)\n",
      "2016-10-07 21:34:11.264267: step 30, loss = 10.77 (747.9 examples/sec; 0.171 sec/batch)\n",
      "2016-10-07 21:34:12.986735: step 40, loss = 10.59 (757.2 examples/sec; 0.169 sec/batch)\n",
      "2016-10-07 21:34:14.724545: step 50, loss = 10.60 (734.3 examples/sec; 0.174 sec/batch)\n",
      "2016-10-07 21:34:16.471888: step 60, loss = 10.45 (750.6 examples/sec; 0.171 sec/batch)\n",
      "2016-10-07 21:34:18.217491: step 70, loss = 10.35 (695.2 examples/sec; 0.184 sec/batch)\n",
      "2016-10-07 21:34:19.952933: step 80, loss = 10.23 (740.0 examples/sec; 0.173 sec/batch)\n",
      "2016-10-07 21:34:21.685966: step 90, loss = 10.12 (728.9 examples/sec; 0.176 sec/batch)\n",
      "2016-10-07 21:34:23.443378: step 100, loss = 10.04 (704.7 examples/sec; 0.182 sec/batch)\n",
      "2016-10-07 21:34:25.196869: step 110, loss = 10.12 (731.3 examples/sec; 0.175 sec/batch)\n",
      "2016-10-07 21:34:26.989173: step 120, loss = 9.96 (672.7 examples/sec; 0.190 sec/batch)\n",
      "2016-10-07 21:34:28.753950: step 130, loss = 9.76 (719.5 examples/sec; 0.178 sec/batch)\n",
      "2016-10-07 21:34:30.492722: step 140, loss = 9.76 (734.5 examples/sec; 0.174 sec/batch)\n",
      "2016-10-07 21:34:32.218484: step 150, loss = 9.57 (744.5 examples/sec; 0.172 sec/batch)\n",
      "2016-10-07 21:34:33.945961: step 160, loss = 9.65 (746.5 examples/sec; 0.171 sec/batch)\n",
      "2016-10-07 21:34:35.677059: step 170, loss = 9.58 (742.1 examples/sec; 0.172 sec/batch)\n",
      "2016-10-07 21:34:37.416058: step 180, loss = 9.53 (731.5 examples/sec; 0.175 sec/batch)\n",
      "2016-10-07 21:34:39.148927: step 190, loss = 9.42 (740.8 examples/sec; 0.173 sec/batch)\n",
      "2016-10-07 21:34:40.871244: step 200, loss = 9.26 (766.7 examples/sec; 0.167 sec/batch)\n",
      "2016-10-07 21:34:42.592643: step 210, loss = 9.54 (735.0 examples/sec; 0.174 sec/batch)\n",
      "2016-10-07 21:34:44.333001: step 220, loss = 9.12 (732.2 examples/sec; 0.175 sec/batch)\n",
      "2016-10-07 21:34:46.061201: step 230, loss = 9.10 (757.5 examples/sec; 0.169 sec/batch)\n",
      "2016-10-07 21:34:47.774270: step 240, loss = 8.96 (729.4 examples/sec; 0.175 sec/batch)\n",
      "2016-10-07 21:34:49.503586: step 250, loss = 9.20 (745.9 examples/sec; 0.172 sec/batch)\n",
      "2016-10-07 21:34:51.238298: step 260, loss = 8.72 (733.8 examples/sec; 0.174 sec/batch)\n",
      "2016-10-07 21:34:52.947649: step 270, loss = 8.84 (728.7 examples/sec; 0.176 sec/batch)\n",
      "2016-10-07 21:34:54.684962: step 280, loss = 8.93 (729.5 examples/sec; 0.175 sec/batch)\n",
      "2016-10-07 21:34:56.463764: step 290, loss = 8.78 (701.0 examples/sec; 0.183 sec/batch)\n",
      "2016-10-07 21:34:58.210216: step 300, loss = 8.62 (716.8 examples/sec; 0.179 sec/batch)\n",
      "2016-10-07 21:34:59.965835: step 310, loss = 8.57 (732.1 examples/sec; 0.175 sec/batch)\n",
      "2016-10-07 21:35:01.717072: step 320, loss = 8.49 (732.1 examples/sec; 0.175 sec/batch)\n",
      "2016-10-07 21:35:03.447367: step 330, loss = 8.51 (740.2 examples/sec; 0.173 sec/batch)\n",
      "2016-10-07 21:35:05.203588: step 340, loss = 8.44 (721.9 examples/sec; 0.177 sec/batch)\n",
      "2016-10-07 21:35:06.946014: step 350, loss = 8.46 (745.6 examples/sec; 0.172 sec/batch)\n",
      "2016-10-07 21:35:08.687977: step 360, loss = 8.51 (731.0 examples/sec; 0.175 sec/batch)\n",
      "2016-10-07 21:35:10.426799: step 370, loss = 8.29 (739.2 examples/sec; 0.173 sec/batch)\n",
      "2016-10-07 21:35:12.153098: step 380, loss = 8.46 (732.2 examples/sec; 0.175 sec/batch)\n",
      "2016-10-07 21:35:13.919955: step 390, loss = 8.04 (676.0 examples/sec; 0.189 sec/batch)\n",
      "2016-10-07 21:35:15.715091: step 400, loss = 8.05 (744.8 examples/sec; 0.172 sec/batch)\n",
      "2016-10-07 21:35:17.475532: step 410, loss = 7.96 (748.4 examples/sec; 0.171 sec/batch)\n",
      "2016-10-07 21:35:19.222777: step 420, loss = 8.09 (734.5 examples/sec; 0.174 sec/batch)\n",
      "2016-10-07 21:35:21.012904: step 430, loss = 7.94 (697.1 examples/sec; 0.184 sec/batch)\n",
      "2016-10-07 21:35:22.758591: step 440, loss = 8.16 (725.0 examples/sec; 0.177 sec/batch)\n",
      "2016-10-07 21:35:24.530246: step 450, loss = 7.79 (722.4 examples/sec; 0.177 sec/batch)\n",
      "2016-10-07 21:35:26.307794: step 460, loss = 7.62 (713.4 examples/sec; 0.179 sec/batch)\n",
      "2016-10-07 21:35:28.140461: step 470, loss = 7.75 (662.4 examples/sec; 0.193 sec/batch)\n",
      "2016-10-07 21:35:30.002918: step 480, loss = 7.81 (719.2 examples/sec; 0.178 sec/batch)\n",
      "2016-10-07 21:35:31.858207: step 490, loss = 7.88 (689.3 examples/sec; 0.186 sec/batch)\n",
      "2016-10-07 21:35:33.713763: step 500, loss = 7.55 (703.7 examples/sec; 0.182 sec/batch)\n",
      "2016-10-07 21:35:35.566450: step 510, loss = 7.59 (705.4 examples/sec; 0.181 sec/batch)\n",
      "2016-10-07 21:35:37.431921: step 520, loss = 7.20 (695.6 examples/sec; 0.184 sec/batch)\n",
      "2016-10-07 21:35:39.274409: step 530, loss = 7.28 (702.6 examples/sec; 0.182 sec/batch)\n",
      "2016-10-07 21:35:41.137408: step 540, loss = 7.58 (702.5 examples/sec; 0.182 sec/batch)\n"
     ]
    }
   ],
   "source": [
    "from __future__ import absolute_import\n",
    "from __future__ import division\n",
    "from __future__ import print_function\n",
    "\n",
    "from datetime import datetime\n",
    "import os.path\n",
    "import time\n",
    "\n",
    "from six.moves import xrange\n",
    "\n",
    "\n",
    "FLAGS = cifar10.FLAGS\n",
    "max_steps = 1000000\n",
    "batch_size = 128\n",
    "train_dir  ='/Users/optas/DATA/Neural_Nets/Train_Log/'\n",
    "\n",
    "with tf.Graph().as_default():\n",
    "    global_step = tf.Variable(0, trainable=False)\n",
    "\n",
    "    # Get images and labels for CIFAR-10.\n",
    "    images, labels = cifar10.distorted_inputs()\n",
    "\n",
    "    # Build a Graph that computes the logits predictions from the\n",
    "    # inference model.\n",
    "    logits = inference_network(images)    \n",
    "    loss = cifar10.loss(logits, labels)\n",
    "\n",
    "    # Build a Graph that trains the model with one batch of examples and\n",
    "    # updates the model parameters.\n",
    "    train_op = cifar10.train(loss, global_step)\n",
    "\n",
    "    # Create a saver.\n",
    "    saver = tf.train.Saver(tf.all_variables())\n",
    "    \n",
    "    init = tf.initialize_all_variables()    \n",
    "    # Start running operations on the Graph.\n",
    "    sess = tf.Session(config=tf.ConfigProto(log_device_placement=False))\n",
    "    sess.run(init)\n",
    "\n",
    "    # Start the queue runners.\n",
    "    tf.train.start_queue_runners(sess=sess)\n",
    "    \n",
    "    for step in xrange(max_steps):\n",
    "        start_time = time.time()\n",
    "        _, loss_value = sess.run([train_op, loss])\n",
    "        duration = time.time() - start_time\n",
    "\n",
    "        assert not np.isnan(loss_value), 'Model diverged with loss = NaN'\n",
    "\n",
    "        if step % 10 == 0:\n",
    "            num_examples_per_step = batch_size\n",
    "            examples_per_sec = num_examples_per_step / duration\n",
    "            sec_per_batch = float(duration)\n",
    "\n",
    "            format_str = ('%s: step %d, loss = %.2f (%.1f examples/sec; %.3f sec/batch)')\n",
    "            print (format_str % (datetime.now(), step, loss_value, examples_per_sec, sec_per_batch))\n",
    "\n",
    "#         if step % 100 == 0:\n",
    "#             summary_str = sess.run(summary_op)\n",
    "#             summary_writer.add_summary(summary_str, step)\n",
    "\n",
    "        # Save the model checkpoint periodically.\n",
    "        if step % 1000 == 0 or (step + 1) == max_steps:\n",
    "            checkpoint_path = os.path.join(train_dir, 'model.ckpt')\n",
    "            saver.save(sess, checkpoint_path, global_step=step)\n",
    "\n"
   ]
  },
  {
   "cell_type": "code",
   "execution_count": null,
   "metadata": {
    "collapsed": true
   },
   "outputs": [],
   "source": []
  },
  {
   "cell_type": "code",
   "execution_count": 6,
   "metadata": {
    "collapsed": false
   },
   "outputs": [
    {
     "name": "stdout",
     "output_type": "stream",
     "text": [
      "6331\n",
      "precision @ 1 = 0.634\n"
     ]
    }
   ],
   "source": [
    "import math\n",
    "\n",
    "checkpoint_file = '/Users/optas/DATA/Neural_Nets/Train_Log/CIFAR10/TF_LAB_version/model.ckpt-72000'\n",
    "num_examples = 10000\n",
    "batch_size = 128\n",
    "\n",
    "with tf.Graph().as_default():\n",
    "    images, labels = cifar10.inputs(eval_data='test')    \n",
    "    logits = inference_network(images)\n",
    "    propbs = tf.nn.softmax(logits)    \n",
    "    top_k_op = tf.nn.in_top_k(propbs, labels, 1)   \n",
    "    sess = tf.Session()\n",
    "    sess.run(tf.initialize_all_variables())\n",
    "    tr_vars = tf.trainable_variables()\n",
    "    saver = tf.train.Saver(tr_vars)\n",
    "    saver.restore(sess, checkpoint_file)\n",
    "    # Start the queue runners.\n",
    "    tf.train.start_queue_runners(sess=sess)\n",
    "    \n",
    "#     global_step = checkpoint_file.split('/')[-1].split('-')[-1]        \n",
    "    predictions = sess.run([top_k_op])\n",
    "        \n",
    "    num_iter = int(math.ceil(num_examples / batch_size))\n",
    "    true_count = 0  # Counts the number of correct predictions.\n",
    "    total_sample_count = num_iter * batch_size\n",
    "    step = 0\n",
    "    while step < num_iter:\n",
    "        predictions = sess.run([top_k_op])\n",
    "        true_count += np.sum(predictions)\n",
    "        step += 1\n",
    "\n",
    "#       # Compute precision @ 1.\n",
    "    precision = true_count / float(total_sample_count)\n",
    "    print('precision @ 1 = %.3f' % (precision))"
   ]
  },
  {
   "cell_type": "code",
   "execution_count": 11,
   "metadata": {
    "collapsed": false
   },
   "outputs": [
    {
     "data": {
      "text/plain": [
       "array([ 0.34447801, -3.29785943,  0.05256522,  5.14447784, -0.26849735,\n",
       "        0.82257384,  2.97710323, -2.84878302,  1.01652539, -4.02707672], dtype=float32)"
      ]
     },
     "execution_count": 11,
     "metadata": {},
     "output_type": "execute_result"
    }
   ],
   "source": []
  }
 ],
 "metadata": {
  "kernelspec": {
   "display_name": "Python 2",
   "language": "python",
   "name": "python2"
  },
  "language_info": {
   "codemirror_mode": {
    "name": "ipython",
    "version": 2
   },
   "file_extension": ".py",
   "mimetype": "text/x-python",
   "name": "python",
   "nbconvert_exporter": "python",
   "pygments_lexer": "ipython2",
   "version": "2.7.12"
  }
 },
 "nbformat": 4,
 "nbformat_minor": 1
}
