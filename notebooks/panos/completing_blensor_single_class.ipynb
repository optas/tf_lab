{
 "cells": [
  {
   "cell_type": "code",
   "execution_count": 6,
   "metadata": {
    "collapsed": false
   },
   "outputs": [],
   "source": [
    "import sys\n",
    "import time\n",
    "import numpy as np\n",
    "import os.path as osp\n",
    "import tensorflow as tf\n",
    "import matplotlib.pyplot as plt\n",
    "\n",
    "import tf_lab.point_clouds.in_out as pio\n",
    "import tf_lab.models.point_net_based_AE as pnAE\n",
    "\n",
    "from tf_lab.fundamentals.utils import set_visible_GPUs\n",
    "from tf_lab.point_clouds.in_out import PointCloudDataSet\n",
    "from tf_lab.point_clouds.point_net_ae import PointNetAutoEncoder\n",
    "from tf_lab.point_clouds.autoencoder import Configuration as Conf\n",
    "\n",
    "from tf_lab.autopredictors.scripts.helper import shape_net_category_to_synth_id, match_incomplete_to_complete_data\n",
    "from tf_lab.autopredictors.evaluate.basics import eval_model, read_saved_epochs\n",
    "from tf_lab.autopredictors.plotting.basics import plot_original_pclouds_vs_reconstructed,\\\n",
    "                                                  plot_train_val_test_curves, plot_reconstructions_at_epoch\n",
    "\n",
    "\n",
    "from general_tools.in_out.basics import create_dir, delete_files_in_directory, files_in_subdirs\n",
    "from geo_tool import Point_Cloud"
   ]
  },
  {
   "cell_type": "code",
   "execution_count": 2,
   "metadata": {
    "collapsed": false
   },
   "outputs": [],
   "source": [
    "%load_ext autoreload\n",
    "%autoreload 2\n",
    "%matplotlib inline"
   ]
  },
  {
   "cell_type": "code",
   "execution_count": 3,
   "metadata": {
    "collapsed": false
   },
   "outputs": [
    {
     "name": "stdout",
     "output_type": "stream",
     "text": [
      "Give me the class type.\n",
      "chair\n"
     ]
    },
    {
     "data": {
      "text/plain": [
       "'/orions4-zfs/projects/lins2/Panos_Space/DATA/OUT/models/incomplete_pclouds/blensor_03001627_only_ae'"
      ]
     },
     "execution_count": 3,
     "metadata": {},
     "output_type": "execute_result"
    }
   ],
   "source": [
    "seed = 42\n",
    "np.random.seed(seed)\n",
    "tf.set_random_seed(seed)\n",
    "\n",
    "class_type = raw_input('Give me the class type.\\n').lower()\n",
    "class_syn_id = shape_net_category_to_synth_id()[class_type]\n",
    "\n",
    "top_data_dir = '/orions4-zfs/projects/lins2/Panos_Space/DATA/'\n",
    "full_pclouds_path = osp.join(top_data_dir, 'ShapeNetPointClouds/from_manifold_meshes/1024/', class_syn_id)\n",
    "\n",
    "\n",
    "experiment_name = 'blensor_' + class_syn_id + '_only_ae'\n",
    "train_dir = osp.join(top_data_dir, 'OUT/models/incomplete_pclouds/', experiment_name)\n",
    "\n",
    "create_dir(train_dir)"
   ]
  },
  {
   "cell_type": "markdown",
   "metadata": {},
   "source": [
    "## Load Original Pclouds and inclomplete from Blensor"
   ]
  },
  {
   "cell_type": "code",
   "execution_count": 4,
   "metadata": {
    "collapsed": false
   },
   "outputs": [
    {
     "name": "stdout",
     "output_type": "stream",
     "text": [
      "6778 files containing complete point clouds were found.\n"
     ]
    }
   ],
   "source": [
    "full_file_names = pio.load_filenames_of_input_data(full_pclouds_path)\n",
    "full_pclouds, full_model_names, class_ids = pio.load_crude_point_clouds(file_names=full_file_names, n_threads=11)\n",
    "print '%d files containing complete point clouds were found.' % (len(full_pclouds), )"
   ]
  },
  {
   "cell_type": "code",
   "execution_count": 5,
   "metadata": {
    "collapsed": false
   },
   "outputs": [
    {
     "name": "stdout",
     "output_type": "stream",
     "text": [
      "3738 files containing noisy point clouds were found.\n"
     ]
    }
   ],
   "source": [
    "blensor_data = osp.join(top_data_dir, 'Blensor_Incomplete_Pclouds/', class_syn_id)\n",
    "noisy_pcloud_files = pio.load_filenames_of_input_data(blensor_data, pio.blensor_search_pattern)\n",
    "\n",
    "noisy_pclouds, noisy_model_names, class_ids = pio.load_crude_point_clouds(file_names=noisy_pcloud_files, \n",
    "                                                                n_threads=11, \n",
    "                                                                loader=pio._load_blensor_incomplete_pcloud)\n",
    "\n",
    "\n",
    "print '%d files containing noisy point clouds were found.' % (len(noisy_pclouds), )"
   ]
  },
  {
   "cell_type": "code",
   "execution_count": 7,
   "metadata": {
    "collapsed": false
   },
   "outputs": [],
   "source": [
    "mapping = match_incomplete_to_complete_data(full_model_names, noisy_model_names)\n",
    "full_pclouds_matched = full_pclouds[mapping]"
   ]
  },
  {
   "cell_type": "code",
   "execution_count": 8,
   "metadata": {
    "collapsed": false
   },
   "outputs": [],
   "source": [
    "train_data_, _, test_data_ = pio.train_validate_test_split([full_pclouds_matched,\n",
    "                                                            noisy_pclouds, \n",
    "                                                            noisy_model_names],\n",
    "                                                            train_perc=0.9,\n",
    "                                                            validate_perc=0.0,\n",
    "                                                            test_perc=0.1,\n",
    "                                                            seed=seed)\n",
    "\n",
    "train_data = PointCloudDataSet(train_data_[0], noise=train_data_[1], labels=train_data_[2])\n",
    "test_data = PointCloudDataSet(test_data_[0], noise=test_data_[1], labels=test_data_[2])"
   ]
  },
  {
   "cell_type": "code",
   "execution_count": 23,
   "metadata": {
    "collapsed": false
   },
   "outputs": [],
   "source": [
    "# TRY ME just to verify the models match.\n",
    "pp = test_data.next_batch(1)\n",
    "Point_Cloud(points=pp[2].reshape(1024, 3)).plot(in_u_sphere=True);\n",
    "Point_Cloud(points=pp[0].reshape(1024, 3)).plot(in_u_sphere=True);"
   ]
  },
  {
   "cell_type": "code",
   "execution_count": 24,
   "metadata": {
    "collapsed": false
   },
   "outputs": [],
   "source": [
    "def reset_graph():\n",
    "    if 'sess' in globals() and sess:\n",
    "        sess.close()\n",
    "    tf.reset_default_graph()\n",
    "\n",
    "set_visible_GPUs([2])\n",
    "\n",
    "conf = Conf(n_input = [1024, 3],\n",
    "               training_epochs = 1000,\n",
    "               batch_size = 40,\n",
    "               loss = 'Chamfer',\n",
    "               train_dir = train_dir,\n",
    "               loss_display_step = 1,\n",
    "               saver_step = 5,\n",
    "               learning_rate = 0.0002,\n",
    "               saver_max_to_keep = 200,\n",
    "               gauss_augment = {'mu': 0, 'sigma': 0.02},\n",
    "               encoder = pnAE.encoder,\n",
    "               decoder = pnAE.decoder,\n",
    "               spatial_trans = True,             \n",
    "               denoising = True\n",
    "              )\n",
    "\n",
    "reset_graph()\n",
    "ae = PointNetAutoEncoder(experiment_name, conf)"
   ]
  },
  {
   "cell_type": "code",
   "execution_count": 11,
   "metadata": {
    "collapsed": false
   },
   "outputs": [
    {
     "name": "stdout",
     "output_type": "stream",
     "text": [
      "Model restored in epoch 155.\n"
     ]
    }
   ],
   "source": [
    "ae.train(train_data, conf)"
   ]
  },
  {
   "cell_type": "markdown",
   "metadata": {},
   "source": [
    "# Evaluation"
   ]
  },
  {
   "cell_type": "code",
   "execution_count": 28,
   "metadata": {
    "collapsed": false
   },
   "outputs": [
    {
     "name": "stdout",
     "output_type": "stream",
     "text": [
      "Model restored in epoch 5.\n",
      "[ 0.00324708]\n",
      "Model restored in epoch 60.\n",
      "[ 0.00243782]\n",
      "Model restored in epoch 115.\n",
      "[ 0.00221188]\n",
      "Model restored in epoch 170.\n",
      "[ 0.00216206]\n",
      "Model restored in epoch 225.\n",
      "[ 0.00211457]\n",
      "Model restored in epoch 280.\n",
      "[ 0.00204853]\n",
      "Model restored in epoch 335.\n",
      "[ 0.00209138]\n",
      "Model restored in epoch 390.\n",
      "[ 0.0020633]\n",
      "Model restored in epoch 445.\n",
      "[ 0.00207429]\n",
      "Model restored in epoch 500.\n",
      "[ 0.00209186]\n",
      "Model restored in epoch 555.\n",
      "[ 0.00209509]\n",
      "Model restored in epoch 610.\n",
      "[ 0.00210001]\n",
      "Model restored in epoch 665.\n",
      "[ 0.00206721]\n",
      "Model restored in epoch 720.\n",
      "[ 0.00210531]\n",
      "Model restored in epoch 775.\n",
      "[ 0.00209251]\n",
      "Model restored in epoch 830.\n",
      "[ 0.00208099]\n",
      "Model restored in epoch 885.\n",
      "[ 0.00212812]\n",
      "Model restored in epoch 940.\n",
      "[ 0.00212241]\n",
      "Model restored in epoch 995.\n",
      "[ 0.00209849]\n",
      "Model restored in epoch 1050.\n",
      "[ 0.00211151]\n",
      "Model restored in epoch 1105.\n",
      "[ 0.00211416]\n"
     ]
    }
   ],
   "source": [
    "saved_epochs = read_saved_epochs(conf.train_dir)\n",
    "epochs = saved_epochs[::len(saved_epochs)/20]\n",
    "stats = eval_model(ae, conf, [train, test_data], epochs=epochs, verbose=True)"
   ]
  },
  {
   "cell_type": "code",
   "execution_count": 26,
   "metadata": {
    "collapsed": false
   },
   "outputs": [
    {
     "data": {
      "image/png": "[encoded data removed]",
      "text/plain": [
       "<matplotlib.figure.Figure at 0x7fe570a29810>"
      ]
     },
     "metadata": {},
     "output_type": "display_data"
    }
   ],
   "source": [
    "top_save_dir = osp.join(top_data_dir, 'OUT/model_evaluation/incomplete_pclouds/', experiment_name)\n",
    "plot_train_val_test_curves(stats, top_save_dir, has_validation=False, best_epoch=None, show=True)"
   ]
  },
  {
   "cell_type": "code",
   "execution_count": 27,
   "metadata": {
    "collapsed": true
   },
   "outputs": [],
   "source": [
    "last_epoch = saved_epochs[-1]\n",
    "save_dir = osp.join(top_save_dir, 'train_images_epoch_' + str(last_epoch))\n",
    "plot_reconstructions_at_epoch(last_epoch, ae, train_data, conf, save_dir=save_dir, max_plot=100)\n",
    "\n",
    "save_dir = osp.join(top_save_dir, 'test_images_epoch_' + str(last_epoch))\n",
    "plot_reconstructions_at_epoch(last_epoch, ae, test_data, conf, save_dir=save_dir, max_plot=100)"
   ]
  }
 ],
 "metadata": {
  "kernelspec": {
   "display_name": "Python 2",
   "language": "python",
   "name": "python2"
  },
  "language_info": {
   "codemirror_mode": {
    "name": "ipython",
    "version": 2
   },
   "file_extension": ".py",
   "mimetype": "text/x-python",
   "name": "python",
   "nbconvert_exporter": "python",
   "pygments_lexer": "ipython2",
   "version": "2.7.6"
  }
 },
 "nbformat": 4,
 "nbformat_minor": 0
}
