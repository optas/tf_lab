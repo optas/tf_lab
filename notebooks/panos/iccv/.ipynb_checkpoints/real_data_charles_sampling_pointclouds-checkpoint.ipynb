{
 "cells": [
  {
   "cell_type": "code",
   "execution_count": 14,
   "metadata": {
    "collapsed": false
   },
   "outputs": [],
   "source": [
    "import sys\n",
    "import time\n",
    "import numpy as np\n",
    "import os.path as osp\n",
    "import tensorflow as tf\n",
    "import matplotlib.pyplot as plt\n",
    "from scipy.stats import hmean\n",
    "\n",
    "from tf_lab.fundamentals.utils import set_visible_GPUs, reset_tf_graph\n",
    "\n",
    "import tf_lab.point_clouds.in_out as pio\n",
    "from tf_lab.point_clouds.in_out import PointCloudDataSet, write_model_ids_of_datasets\n",
    "from tf_lab.point_clouds.point_net_ae import PointNetAutoEncoder\n",
    "from tf_lab.point_clouds.autoencoder import Configuration as Conf\n",
    "import tf_lab.point_clouds.encoders_decoders as enc_dec\n",
    "\n",
    "import tf_lab.autopredictors.scripts.virt_scan_data as vscan\n",
    "\n",
    "from tf_lab.autopredictors.scripts.helper import shape_net_category_to_synth_id, points_extension, \\\n",
    "                                                 shape_net_core_synth_id_to_category\n",
    "\n",
    "from tf_lab.autopredictors.plotting import plot_original_pclouds_vs_reconstructed, \\\n",
    "                                           plot_train_val_test_curves, plot_reconstructions_at_epoch,\\\n",
    "                                           plot_3d_point_cloud_paper\n",
    "\n",
    "from tf_lab.autopredictors.evaluate import eval_model, read_saved_epochs, accuracy_of_completion, \\\n",
    "                                           coverage_of_completion, save_reconstructions, \\\n",
    "                                           save_pc_prediction_stats, \\\n",
    "                                           paper_pc_completion_experiment_id_best_epoch\n",
    "                                           \n",
    "                                                  \n",
    "\n",
    "from general_tools.in_out.basics import create_dir, delete_files_in_directory, files_in_subdirs\n",
    "from general_tools.simpletons import select_first_last_and_k\n",
    "from geo_tool import Point_Cloud, Mesh\n",
    "from geo_tool.solids import mesh_cleaning as cleaning\n",
    "\n",
    "%matplotlib inline"
   ]
  },
  {
   "cell_type": "code",
   "execution_count": 7,
   "metadata": {
    "collapsed": true
   },
   "outputs": [],
   "source": [
    "top_dir = '/orions4-zfs/projects/lins2/Panos_Space/DATA/Charles_Real_Scans/objects/'\n",
    "object_list = osp.join(top_dir, 'objectlist.txt')\n",
    "with open(object_list, 'r') as fin:\n",
    "    object_list = fin.readlines()\n",
    "object_list = [osp.join(top_dir, ob.rstrip()) for ob in object_list]"
   ]
  },
  {
   "cell_type": "code",
   "execution_count": 55,
   "metadata": {
    "collapsed": false
   },
   "outputs": [
    {
     "name": "stdout",
     "output_type": "stream",
     "text": [
      "Deleting triangles containing angles that are 0 degrees.\n",
      "Deleting vertices with zero area.\n",
      "Deleting triangles containing angles that are 0 degrees.\n",
      "Deleting vertices with zero area.\n",
      "Deleting triangles containing angles that are 0 degrees.\n",
      "Deleting vertices with zero area.\n",
      "Deleting triangles containing angles that are 0 degrees.\n",
      "Deleting vertices with zero area.\n",
      "Deleting triangles containing angles that are 0 degrees.\n",
      "Deleting vertices with zero area.\n",
      "Deleting triangles containing angles that are 0 degrees.\n",
      "Deleting vertices with zero area.\n",
      "Deleting triangles containing angles that are 0 degrees.\n",
      "Deleting vertices with zero area.\n",
      "Deleting triangles containing angles that are 0 degrees.\n",
      "Deleting vertices with zero area.\n",
      "Deleting triangles containing angles that are 0 degrees.\n",
      "Deleting vertices with zero area.\n",
      "Deleting triangles containing angles that are 0 degrees.\n",
      "Deleting vertices with zero area.\n",
      "Deleting triangles containing angles that are 0 degrees.\n",
      "Deleting vertices with zero area.\n",
      "Deleting triangles containing angles that are 0 degrees.\n",
      "Deleting vertices with zero area.\n",
      "Deleting triangles containing angles that are 0 degrees.\n",
      "Deleting vertices with zero area.\n",
      "Deleting triangles containing angles that are 0 degrees.\n",
      "Deleting vertices with zero area.\n",
      "Deleting triangles containing angles that are 0 degrees.\n",
      "Deleting vertices with zero area.\n",
      "Deleting triangles containing angles that are 0 degrees.\n",
      "Deleting vertices with zero area.\n",
      "Deleting triangles containing angles that are 0 degrees.\n",
      "Deleting vertices with zero area.\n",
      "Deleting triangles containing angles that are 0 degrees.\n",
      "Deleting vertices with zero area.\n",
      "Deleting triangles containing angles that are 0 degrees.\n",
      "Deleting vertices with zero area.\n",
      "Deleting triangles containing angles that are 0 degrees.\n",
      "Deleting vertices with zero area.\n",
      "Deleting triangles containing angles that are 0 degrees.\n",
      "Deleting vertices with zero area.\n",
      "Deleting triangles containing angles that are 0 degrees.\n",
      "Deleting vertices with zero area.\n",
      "Deleting triangles containing angles that are 0 degrees.\n",
      "Deleting vertices with zero area.\n",
      "Deleting triangles containing angles that are 0 degrees.\n",
      "Deleting vertices with zero area.\n",
      "Deleting triangles containing angles that are 0 degrees.\n",
      "Deleting vertices with zero area.\n",
      "Deleting triangles containing angles that are 0 degrees.\n",
      "Deleting vertices with zero area.\n",
      "Deleting triangles containing angles that are 0 degrees.\n",
      "Deleting vertices with zero area.\n",
      "Deleting triangles containing angles that are 0 degrees.\n",
      "Deleting vertices with zero area.\n",
      "Deleting triangles containing angles that are 0 degrees.\n",
      "Deleting vertices with zero area.\n",
      "Deleting triangles containing angles that are 0 degrees.\n",
      "Deleting triangles containing angles that are 0 degrees.\n",
      "Deleting vertices with zero area.\n",
      "Deleting triangles containing angles that are 0 degrees.\n",
      "Deleting vertices with zero area.\n",
      "Deleting triangles containing angles that are 0 degrees.\n",
      "Deleting triangles containing angles that are 0 degrees.\n",
      "Deleting vertices with zero area.\n",
      "Deleting triangles containing angles that are 0 degrees.\n",
      "Deleting vertices with zero area.\n",
      "Deleting triangles containing angles that are 0 degrees.\n",
      "Deleting vertices with zero area.\n",
      "Deleting triangles containing angles that are 0 degrees.\n",
      "Deleting triangles containing angles that are 0 degrees.\n",
      "Deleting vertices with zero area.\n",
      "Deleting triangles containing angles that are 0 degrees.\n",
      "Deleting vertices with zero area.\n",
      "Deleting triangles containing angles that are 0 degrees.\n",
      "Deleting vertices with zero area.\n",
      "Deleting triangles containing angles that are 0 degrees.\n",
      "Deleting vertices with zero area.\n",
      "Deleting triangles containing angles that are 0 degrees.\n",
      "Deleting vertices with zero area.\n",
      "Deleting triangles containing angles that are 0 degrees.\n",
      "Deleting vertices with zero area.\n",
      "Deleting triangles containing angles that are 0 degrees.\n",
      "Deleting triangles containing angles that are 0 degrees.\n",
      "Deleting vertices with zero area.\n",
      "Deleting triangles containing angles that are 0 degrees.\n",
      "Deleting triangles containing angles that are 0 degrees.\n",
      "Deleting triangles containing angles that are 0 degrees.\n",
      "Deleting vertices with zero area.\n",
      "Deleting triangles containing angles that are 0 degrees.\n",
      "Deleting triangles containing angles that are 0 degrees.\n",
      "Deleting vertices with zero area.\n",
      "Deleting triangles containing angles that are 0 degrees.\n",
      "Deleting vertices with zero area.\n",
      "Deleting triangles containing angles that are 0 degrees.\n",
      "Deleting vertices with zero area.\n",
      "Deleting triangles containing angles that are 0 degrees.\n",
      "Deleting triangles containing angles that are 0 degrees.\n",
      "Deleting vertices with zero area.\n",
      "Deleting triangles containing angles that are 0 degrees.\n",
      "Deleting triangles containing angles that are 0 degrees.\n",
      "Deleting vertices with zero area.\n",
      "Deleting triangles containing angles that are 0 degrees.\n",
      "Deleting vertices with zero area.\n",
      "Deleting triangles containing angles that are 0 degrees.\n",
      "Deleting vertices with zero area.\n",
      "Deleting triangles containing angles that are 0 degrees.\n",
      "Deleting vertices with zero area.\n",
      "Deleting triangles containing angles that are 0 degrees.\n",
      "Deleting vertices with zero area.\n",
      "Deleting triangles containing angles that are 0 degrees.\n",
      "Deleting vertices with zero area.\n",
      "Deleting triangles containing angles that are 0 degrees.\n",
      "Deleting triangles containing angles that are 0 degrees.\n",
      "Deleting vertices with zero area.\n",
      "Deleting triangles containing angles that are 0 degrees.\n",
      "Deleting triangles containing angles that are 0 degrees.\n",
      "Deleting vertices with zero area.\n",
      "Deleting triangles containing angles that are 0 degrees.\n",
      "Deleting vertices with zero area.\n",
      "Deleting triangles containing angles that are 0 degrees.\n",
      "Deleting vertices with zero area.\n",
      "Deleting triangles containing angles that are 0 degrees.\n",
      "Deleting vertices with zero area.\n",
      "Deleting triangles containing angles that are 0 degrees.\n",
      "Deleting vertices with zero area.\n",
      "Deleting triangles containing angles that are 0 degrees.\n",
      "Deleting vertices with zero area.\n",
      "Deleting triangles containing angles that are 0 degrees.\n",
      "Deleting vertices with zero area.\n",
      "Deleting triangles containing angles that are 0 degrees.\n",
      "Deleting vertices with zero area.\n",
      "Deleting vertices with zero area.\n",
      "Deleting triangles containing angles that are 0 degrees.\n",
      "Deleting vertices with zero area.\n",
      "Deleting triangles containing angles that are 0 degrees.\n"
     ]
    },
    {
     "ename": "AssertionError",
     "evalue": "",
     "output_type": "error",
     "traceback": [
      "\u001b[0;31m---------------------------------------------------------------------------\u001b[0m",
      "\u001b[0;31mAssertionError\u001b[0m                            Traceback (most recent call last)",
      "\u001b[0;32m<ipython-input-55-0af51f0cfc92>\u001b[0m in \u001b[0;36m<module>\u001b[0;34m()\u001b[0m\n\u001b[1;32m      1\u001b[0m \u001b[0;32mfor\u001b[0m \u001b[0mobj\u001b[0m \u001b[0;32min\u001b[0m \u001b[0mobject_list\u001b[0m\u001b[0;34m:\u001b[0m\u001b[0;34m\u001b[0m\u001b[0m\n\u001b[1;32m      2\u001b[0m     \u001b[0min_mesh\u001b[0m \u001b[0;34m=\u001b[0m \u001b[0mMesh\u001b[0m\u001b[0;34m(\u001b[0m\u001b[0mfile_name\u001b[0m\u001b[0;34m=\u001b[0m\u001b[0mobj\u001b[0m\u001b[0;34m)\u001b[0m\u001b[0;34m\u001b[0m\u001b[0m\n\u001b[0;32m----> 3\u001b[0;31m     \u001b[0mclean_mesh\u001b[0m \u001b[0;34m=\u001b[0m \u001b[0mcleaning\u001b[0m\u001b[0;34m.\u001b[0m\u001b[0mclean_mesh\u001b[0m\u001b[0;34m(\u001b[0m\u001b[0min_mesh\u001b[0m\u001b[0;34m,\u001b[0m \u001b[0mverbose\u001b[0m\u001b[0;34m=\u001b[0m\u001b[0mTrue\u001b[0m\u001b[0;34m)\u001b[0m\u001b[0;34m\u001b[0m\u001b[0m\n\u001b[0m\u001b[1;32m      4\u001b[0m     \u001b[0mpts\u001b[0m\u001b[0;34m,\u001b[0m \u001b[0m_\u001b[0m \u001b[0;34m=\u001b[0m \u001b[0mclean_mesh\u001b[0m\u001b[0;34m.\u001b[0m\u001b[0msample_faces\u001b[0m\u001b[0;34m(\u001b[0m\u001b[0;36m2048\u001b[0m\u001b[0;34m)\u001b[0m\u001b[0;34m\u001b[0m\u001b[0m\n\u001b[1;32m      5\u001b[0m     \u001b[0mpc\u001b[0m \u001b[0;34m=\u001b[0m \u001b[0mPoint_Cloud\u001b[0m\u001b[0;34m(\u001b[0m\u001b[0mpoints\u001b[0m\u001b[0;34m=\u001b[0m\u001b[0mpts\u001b[0m\u001b[0;34m)\u001b[0m\u001b[0;34m\u001b[0m\u001b[0m\n",
      "\u001b[0;32m/orions4-zfs/projects/lins2/Panos_Space/Git_Repos/geo_tool/solids/mesh_cleaning.pyc\u001b[0m in \u001b[0;36mclean_mesh\u001b[0;34m(self, level, verbose)\u001b[0m\n\u001b[1;32m    168\u001b[0m         \u001b[0mclean_degenerate_triangles\u001b[0m\u001b[0;34m(\u001b[0m\u001b[0mself\u001b[0m\u001b[0;34m,\u001b[0m \u001b[0mverbose\u001b[0m\u001b[0;34m)\u001b[0m\u001b[0;34m\u001b[0m\u001b[0m\n\u001b[1;32m    169\u001b[0m         \u001b[0;32mif\u001b[0m \u001b[0mlevel\u001b[0m \u001b[0;34m>=\u001b[0m \u001b[0;36m2\u001b[0m\u001b[0;34m:\u001b[0m\u001b[0;34m\u001b[0m\u001b[0m\n\u001b[0;32m--> 170\u001b[0;31m             \u001b[0mclean_zero_area_vertices\u001b[0m\u001b[0;34m(\u001b[0m\u001b[0mself\u001b[0m\u001b[0;34m,\u001b[0m \u001b[0mverbose\u001b[0m\u001b[0;34m)\u001b[0m\u001b[0;34m\u001b[0m\u001b[0m\n\u001b[0m\u001b[1;32m    171\u001b[0m             \u001b[0mclean_isolated_vertices\u001b[0m\u001b[0;34m(\u001b[0m\u001b[0mself\u001b[0m\u001b[0;34m,\u001b[0m \u001b[0mverbose\u001b[0m\u001b[0;34m)\u001b[0m\u001b[0;34m\u001b[0m\u001b[0m\n\u001b[1;32m    172\u001b[0m             \u001b[0mclean_identical_triangles\u001b[0m\u001b[0;34m(\u001b[0m\u001b[0mself\u001b[0m\u001b[0;34m,\u001b[0m \u001b[0mverbose\u001b[0m\u001b[0;34m)\u001b[0m\u001b[0;34m\u001b[0m\u001b[0m\n",
      "\u001b[0;32m/orions4-zfs/projects/lins2/Panos_Space/Git_Repos/geo_tool/solids/mesh_cleaning.pyc\u001b[0m in \u001b[0;36mclean_zero_area_vertices\u001b[0;34m(self, verbose)\u001b[0m\n\u001b[1;32m    122\u001b[0m         \u001b[0mkeep_list\u001b[0m \u001b[0;34m=\u001b[0m \u001b[0mlist\u001b[0m\u001b[0;34m(\u001b[0m\u001b[0mset\u001b[0m\u001b[0;34m(\u001b[0m\u001b[0mrange\u001b[0m\u001b[0;34m(\u001b[0m\u001b[0mself\u001b[0m\u001b[0;34m.\u001b[0m\u001b[0mnum_vertices\u001b[0m\u001b[0;34m)\u001b[0m\u001b[0;34m)\u001b[0m \u001b[0;34m-\u001b[0m \u001b[0mset\u001b[0m\u001b[0;34m(\u001b[0m\u001b[0mbad_vert\u001b[0m\u001b[0;34m)\u001b[0m\u001b[0;34m)\u001b[0m\u001b[0;34m\u001b[0m\u001b[0m\n\u001b[1;32m    123\u001b[0m         \u001b[0mself\u001b[0m \u001b[0;34m=\u001b[0m \u001b[0mfilter_vertices\u001b[0m\u001b[0;34m(\u001b[0m\u001b[0mself\u001b[0m\u001b[0;34m,\u001b[0m \u001b[0mkeep_list\u001b[0m\u001b[0;34m)\u001b[0m\u001b[0;34m\u001b[0m\u001b[0m\n\u001b[0;32m--> 124\u001b[0;31m     \u001b[0;32massert\u001b[0m\u001b[0;34m(\u001b[0m\u001b[0mall\u001b[0m\u001b[0;34m(\u001b[0m\u001b[0mself\u001b[0m\u001b[0;34m.\u001b[0m\u001b[0marea_of_vertices\u001b[0m\u001b[0;34m(\u001b[0m\u001b[0;34m)\u001b[0m \u001b[0;34m>\u001b[0m \u001b[0;36m0\u001b[0m\u001b[0;34m)\u001b[0m\u001b[0;34m)\u001b[0m\u001b[0;34m\u001b[0m\u001b[0m\n\u001b[0m\u001b[1;32m    125\u001b[0m     \u001b[0;32mreturn\u001b[0m \u001b[0mself\u001b[0m\u001b[0;34m\u001b[0m\u001b[0m\n\u001b[1;32m    126\u001b[0m \u001b[0;34m\u001b[0m\u001b[0m\n",
      "\u001b[0;31mAssertionError\u001b[0m: "
     ]
    }
   ],
   "source": [
    "for obj in object_list:\n",
    "    in_mesh = Mesh(file_name=obj)\n",
    "    clean_mesh = cleaning.clean_mesh(in_mesh, verbose=True)\n",
    "    pts, _ = clean_mesh.sample_faces(2048)\n",
    "    pc = Point_Cloud(points=pts)\n",
    "    if np.max(pts) > 0.5 or np.min(pts) < -0.5: \n",
    "        pc = pc.center_in_unit_sphere()\n",
    "    pc, _ = pc.lex_sort()\n",
    "    pc = pc.points.astype(np.float32)\n",
    "    np.savetxt(obj[:-4] + '_2048_samples_pts.txt', pc)"
   ]
  },
  {
   "cell_type": "code",
   "execution_count": 56,
   "metadata": {
    "collapsed": false
   },
   "outputs": [
    {
     "data": {
      "text/plain": [
       "'/orions4-zfs/projects/lins2/Panos_Space/DATA/Charles_Real_Scans/objects/cup/cup_scan_0010.obj'"
      ]
     },
     "execution_count": 56,
     "metadata": {},
     "output_type": "execute_result"
    }
   ],
   "source": [
    "obj"
   ]
  },
  {
   "cell_type": "code",
   "execution_count": 77,
   "metadata": {
    "collapsed": false
   },
   "outputs": [
    {
     "name": "stdout",
     "output_type": "stream",
     "text": [
      "[0]\n"
     ]
    },
    {
     "ename": "AssertionError",
     "evalue": "",
     "output_type": "error",
     "traceback": [
      "\u001b[0;31m---------------------------------------------------------------------------\u001b[0m",
      "\u001b[0;31mAssertionError\u001b[0m                            Traceback (most recent call last)",
      "\u001b[0;32m<ipython-input-77-7905389ff9bd>\u001b[0m in \u001b[0;36m<module>\u001b[0;34m()\u001b[0m\n\u001b[1;32m     20\u001b[0m     \u001b[0;32mreturn\u001b[0m \u001b[0mself\u001b[0m\u001b[0;34m\u001b[0m\u001b[0m\n\u001b[1;32m     21\u001b[0m \u001b[0;34m\u001b[0m\u001b[0m\n\u001b[0;32m---> 22\u001b[0;31m \u001b[0mclean_zero_area_vertices\u001b[0m\u001b[0;34m(\u001b[0m\u001b[0min_mesh\u001b[0m\u001b[0;34m,\u001b[0m \u001b[0mverbose\u001b[0m\u001b[0;34m=\u001b[0m\u001b[0mTrue\u001b[0m\u001b[0;34m)\u001b[0m\u001b[0;34m\u001b[0m\u001b[0m\n\u001b[0m",
      "\u001b[0;32m<ipython-input-77-7905389ff9bd>\u001b[0m in \u001b[0;36mclean_zero_area_vertices\u001b[0;34m(self, verbose)\u001b[0m\n\u001b[1;32m     17\u001b[0m         \u001b[0mkeep_list\u001b[0m \u001b[0;34m=\u001b[0m \u001b[0mlist\u001b[0m\u001b[0;34m(\u001b[0m\u001b[0mset\u001b[0m\u001b[0;34m(\u001b[0m\u001b[0mrange\u001b[0m\u001b[0;34m(\u001b[0m\u001b[0mself\u001b[0m\u001b[0;34m.\u001b[0m\u001b[0mnum_vertices\u001b[0m\u001b[0;34m)\u001b[0m\u001b[0;34m)\u001b[0m \u001b[0;34m-\u001b[0m \u001b[0mset\u001b[0m\u001b[0;34m(\u001b[0m\u001b[0mbad_vert\u001b[0m\u001b[0;34m)\u001b[0m\u001b[0;34m)\u001b[0m\u001b[0;34m\u001b[0m\u001b[0m\n\u001b[1;32m     18\u001b[0m         \u001b[0mself\u001b[0m \u001b[0;34m=\u001b[0m \u001b[0mfilter_vertices\u001b[0m\u001b[0;34m(\u001b[0m\u001b[0mself\u001b[0m\u001b[0;34m,\u001b[0m \u001b[0mkeep_list\u001b[0m\u001b[0;34m)\u001b[0m\u001b[0;34m\u001b[0m\u001b[0m\n\u001b[0;32m---> 19\u001b[0;31m     \u001b[0;32massert\u001b[0m\u001b[0;34m(\u001b[0m\u001b[0mall\u001b[0m\u001b[0;34m(\u001b[0m\u001b[0mself\u001b[0m\u001b[0;34m.\u001b[0m\u001b[0marea_of_vertices\u001b[0m\u001b[0;34m(\u001b[0m\u001b[0;34m)\u001b[0m \u001b[0;34m>\u001b[0m \u001b[0;36m0\u001b[0m\u001b[0;34m)\u001b[0m\u001b[0;34m)\u001b[0m\u001b[0;34m\u001b[0m\u001b[0m\n\u001b[0m\u001b[1;32m     20\u001b[0m     \u001b[0;32mreturn\u001b[0m \u001b[0mself\u001b[0m\u001b[0;34m\u001b[0m\u001b[0m\n\u001b[1;32m     21\u001b[0m \u001b[0;34m\u001b[0m\u001b[0m\n",
      "\u001b[0;31mAssertionError\u001b[0m: "
     ]
    }
   ],
   "source": [
    "# # clean_mesh = cleaning.clean_mesh(in_mesh, verbose=True)\n",
    "\n",
    "# # np.sum(in_mesh.area_of_vertices() == 0)\n",
    "# # in_mesh.num_vertices\n",
    "\n",
    "\n",
    "import warnings\n",
    "def clean_zero_area_vertices(self, verbose=False):\n",
    "    with warnings.catch_warnings():\n",
    "        warnings.simplefilter(\"ignore\")\n",
    "        A = self.area_of_vertices()\n",
    "    bad_vert = np.where(A <= 0)[0]\n",
    "    print bad_vert\n",
    "    if bad_vert.any():\n",
    "        if verbose:\n",
    "            print('Deleting vertices with zero area.')\n",
    "        keep_list = list(set(range(self.num_vertices)) - set(bad_vert))\n",
    "        self = filter_vertices(self, keep_list)\n",
    "    assert(all(self.area_of_vertices() > 0))\n",
    "    return self\n",
    "\n",
    "clean_zero_area_vertices(in_mesh, verbose=True)\n"
   ]
  }
 ],
 "metadata": {
  "kernelspec": {
   "display_name": "Python 2",
   "language": "python",
   "name": "python2"
  },
  "language_info": {
   "codemirror_mode": {
    "name": "ipython",
    "version": 2
   },
   "file_extension": ".py",
   "mimetype": "text/x-python",
   "name": "python",
   "nbconvert_exporter": "python",
   "pygments_lexer": "ipython2",
   "version": "2.7.6"
  }
 },
 "nbformat": 4,
 "nbformat_minor": 2
}
