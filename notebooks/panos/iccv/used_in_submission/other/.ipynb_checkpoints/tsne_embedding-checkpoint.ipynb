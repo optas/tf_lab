{
 "cells": [
  {
   "cell_type": "code",
   "execution_count": 1,
   "metadata": {
    "collapsed": false,
    "deletable": true,
    "editable": true
   },
   "outputs": [
    {
     "name": "stderr",
     "output_type": "stream",
     "text": [
      "/usr/local/lib/python2.7/dist-packages/matplotlib/font_manager.py:273: UserWarning: Matplotlib is building the font cache using fc-list. This may take a moment.\n",
      "  warnings.warn('Matplotlib is building the font cache using fc-list. This may take a moment.')\n",
      "/orions4-zfs/projects/lins2/Panos_Space/Git_Repos/geo_tool/solids/mesh.py:26: UserWarning: Mayavi library was not found. Some graphics utilities will be disabled.\n",
      "  warnings.warn('Mayavi library was not found. Some graphics utilities will be disabled.')\n"
     ]
    }
   ],
   "source": [
    "import numpy as np\n",
    "import os.path as osp\n",
    "import matplotlib.pylab as plt\n",
    "from sklearn.manifold import TSNE\n",
    "\n",
    "from general_tools.in_out.basics import unpickle_data\n",
    "from general_tools.clustering.plt import plot_2d_embedding_in_grid_greedy_way, plot_2d_embedding_in_grid_forceful\n",
    "from general_tools.in_out import create_dir\n",
    "from geo_tool import Point_Cloud\n",
    "\n",
    "from tf_lab.autopredictors.scripts.virt_scan_data import plotting_default_params, pc_sampler, pc_loader\n",
    "from tf_lab.autopredictors.scripts.helper import shape_net_core_synth_id_to_category"
   ]
  },
  {
   "cell_type": "code",
   "execution_count": 2,
   "metadata": {
    "collapsed": false,
    "deletable": true,
    "editable": true
   },
   "outputs": [],
   "source": [
    "tsne_saved_data = '/orions4-zfs/projects/lins2/Panos_Space/DATA/OUT/iccv/tsne_stats/chamfer-tsne-data.pkl'\n",
    "ids, latent_emb = unpickle_data(tsne_saved_data)"
   ]
  },
  {
   "cell_type": "code",
   "execution_count": 3,
   "metadata": {
    "collapsed": false,
    "deletable": true,
    "editable": true
   },
   "outputs": [],
   "source": [
    "%load_ext autoreload\n",
    "%autoreload 2\n",
    "%matplotlib inline"
   ]
  },
  {
   "cell_type": "code",
   "execution_count": 5,
   "metadata": {
    "collapsed": false,
    "deletable": true,
    "editable": true
   },
   "outputs": [],
   "source": [
    "tokens = [i.split('.') for i in ids]\n",
    "syn_ids = np.array([token[0] for token in tokens], dtype=object)\n",
    "model_names = np.array([token[1] for token in tokens], dtype=object)\n",
    "scan_ids = np.array([token[2] for token in tokens], dtype=object)"
   ]
  },
  {
   "cell_type": "code",
   "execution_count": 32,
   "metadata": {
    "collapsed": false,
    "deletable": true,
    "editable": true
   },
   "outputs": [],
   "source": [
    "# Generate 'some' randomly chosen images per class of objects (will be used as thumbnail in TSNE plot)\n",
    "top_in_dir = '/orions4-zfs/projects/lins2/Panos_Space/DATA/Point_Clouds/Partial_PCs/Angela_synthetic/2048/'\n",
    "top_image_dir = '/orions4-zfs/projects/lins2/Panos_Space/DATA/Point_Clouds/Partial_PCs/Angela_synthetic/2048/images'\n",
    "create_dir(top_image_dir)\n",
    "\n",
    "samples_per_class = 100\n",
    "selected = []\n",
    "for syn_id in np.unique(syn_ids):\n",
    "    in_class = np.where(syn_ids == syn_id)[0]\n",
    "    selected += np.ndarray.tolist(np.random.choice(in_class, samples_per_class, replace=False))\n",
    "\n",
    "plt.ioff()    \n",
    "for i in selected:\n",
    "    in_f = osp.join(top_in_dir, syn_ids[i], model_names[i] + scan_ids[i] + '.ply')\n",
    "    points = pc_loader(in_f)[0]\n",
    "    category_i = shape_net_core_synth_id_to_category[syn_ids[i]]\n",
    "    params = plotting_default_params(category_i)\n",
    "    save_name = syn_ids[i] + '.' + model_names[i] + '.' + scan_ids[i] + '.png'\n",
    "    fig = Point_Cloud(points=points).plot(show=False, show_axis=False, **params);\n",
    "    fig.savefig(osp.join(top_image_dir, save_name))\n",
    "    plt.close()"
   ]
  },
  {
   "cell_type": "code",
   "execution_count": 33,
   "metadata": {
    "collapsed": false,
    "deletable": true,
    "editable": true
   },
   "outputs": [
    {
     "name": "stdout",
     "output_type": "stream",
     "text": [
      "[t-SNE] Computing pairwise distances...\n",
      "[t-SNE] Computing 91 nearest neighbors...\n",
      "[t-SNE] Computed conditional probabilities for sample 800 / 800\n",
      "[t-SNE] Mean sigma: 0.446175\n",
      "[t-SNE] KL divergence after 100 iterations with early exaggeration: 0.670366\n",
      "[t-SNE] Error after 175 iterations: 0.670366\n"
     ]
    }
   ],
   "source": [
    "# Find TSNE of sub-selected objects.\n",
    "seed = 42\n",
    "model = TSNE(n_components=2, random_state=seed, init='pca', verbose=True)\n",
    "tsne_small = model.fit_transform(latent_emb[selected])"
   ]
  },
  {
   "cell_type": "code",
   "execution_count": 34,
   "metadata": {
    "collapsed": false,
    "deletable": true,
    "editable": true
   },
   "outputs": [],
   "source": [
    "# Make a list with the file-names of all to be used images.\n",
    "image_files = []\n",
    "for i in selected:\n",
    "    save_name = syn_ids[i] + '.' + model_names[i] + '.' + scan_ids[i] + '.png'\n",
    "    image_files.append(osp.join(top_image_dir, save_name))"
   ]
  },
  {
   "cell_type": "code",
   "execution_count": 24,
   "metadata": {
    "collapsed": false,
    "deletable": true,
    "editable": true
   },
   "outputs": [
    {
     "name": "stdout",
     "output_type": "stream",
     "text": [
      "the code here fails. fix it.\n",
      "7802\n",
      "the code here fails. fix it.\n",
      "3602\n"
     ]
    }
   ],
   "source": [
    "plot_2d_embedding_in_grid_greedy_way(tsne_small, image_files, big_dim=4000, small_dim=200, save_file='tsne_1.png');"
   ]
  },
  {
   "cell_type": "code",
   "execution_count": 36,
   "metadata": {
    "collapsed": false,
    "deletable": true,
    "editable": true
   },
   "outputs": [],
   "source": [
    "plot_2d_embedding_in_grid_forceful(tsne_small, image_files, big_dim=8000, small_dim=200, save_file='tsne_test_2.png');"
   ]
  }
 ],
 "metadata": {
  "kernelspec": {
   "display_name": "Python 2",
   "language": "python",
   "name": "python2"
  },
  "language_info": {
   "codemirror_mode": {
    "name": "ipython",
    "version": 2
   },
   "file_extension": ".py",
   "mimetype": "text/x-python",
   "name": "python",
   "nbconvert_exporter": "python",
   "pygments_lexer": "ipython2",
   "version": "2.7.6"
  }
 },
 "nbformat": 4,
 "nbformat_minor": 2
}
