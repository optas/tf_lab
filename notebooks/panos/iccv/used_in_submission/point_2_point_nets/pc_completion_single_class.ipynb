{
 "cells": [
  {
   "cell_type": "code",
   "execution_count": 1,
   "metadata": {
    "collapsed": false,
    "deletable": true,
    "editable": true
   },
   "outputs": [
    {
     "name": "stdout",
     "output_type": "stream",
     "text": [
      "Picking GPU 0\n"
     ]
    }
   ],
   "source": [
    "from general_tools.notebook.gpu_utils import setup_one_gpu\n",
    "GPU = 0\n",
    "setup_one_gpu(GPU)"
   ]
  },
  {
   "cell_type": "code",
   "execution_count": 13,
   "metadata": {
    "collapsed": false,
    "deletable": true,
    "editable": true
   },
   "outputs": [],
   "source": [
    "import sys\n",
    "import time\n",
    "import numpy as np\n",
    "import os.path as osp\n",
    "import tensorflow as tf\n",
    "import matplotlib.pyplot as plt\n",
    "from scipy.stats import hmean\n",
    "\n",
    "from general_tools.notebook.tf import reset_tf_graph\n",
    "\n",
    "import tf_lab.point_clouds.in_out as pio\n",
    "from tf_lab.point_clouds.in_out import PointCloudDataSet, write_model_ids_of_datasets\n",
    "from tf_lab.point_clouds.point_net_ae import PointNetAutoEncoder\n",
    "from tf_lab.point_clouds.autoencoder import Configuration as Conf\n",
    "import tf_lab.point_clouds.encoders_decoders as enc_dec\n",
    "\n",
    "\n",
    "from tf_lab.autopredictors.scripts.helper import shape_net_category_to_synth_id, points_extension, \\\n",
    "                                                 shape_net_core_synth_id_to_category\n",
    "\n",
    "from tf_lab.autopredictors.plotting import plot_original_pclouds_vs_reconstructed, \\\n",
    "                                           plot_train_val_test_curves, plot_reconstructions_at_epoch\n",
    "\n",
    "from tf_lab.autopredictors.evaluate import eval_model, read_saved_epochs, accuracy_of_completion, \\\n",
    "                                           coverage_of_completion, save_reconstructions, \\\n",
    "                                           save_pc_prediction_stats\n",
    "                                           \n",
    "                                                  \n",
    "from general_tools.in_out.basics import create_dir, files_in_subdirs, pickle_data, unpickle_data\n",
    "from general_tools.simpletons import select_first_last_and_k\n",
    "from general_tools.simpletons import indices_in_iterable\n",
    "\n",
    "from geo_tool import Point_Cloud\n",
    "\n",
    "\n",
    "from tf_lab.autopredictors.scripts.virt_scan_data import load_partial_pointclouds\n",
    "import tf_lab.autopredictors.scripts.virt_scan_data as vscan"
   ]
  },
  {
   "cell_type": "code",
   "execution_count": 3,
   "metadata": {
    "collapsed": false,
    "deletable": true,
    "editable": true
   },
   "outputs": [],
   "source": [
    "%load_ext autoreload\n",
    "%autoreload 2\n",
    "%matplotlib inline"
   ]
  },
  {
   "cell_type": "code",
   "execution_count": 4,
   "metadata": {
    "collapsed": false,
    "deletable": true,
    "editable": true
   },
   "outputs": [
    {
     "name": "stdout",
     "output_type": "stream",
     "text": [
      "Give me the class type: chair\n",
      "Give an experiment tag-ID: original\n"
     ]
    },
    {
     "data": {
      "text/plain": [
       "'/orions4-zfs/projects/lins2/Panos_Space/DATA/OUT/iccv/nn_models/chair_2048_4096pts_chamfer_original'"
      ]
     },
     "execution_count": 4,
     "metadata": {},
     "output_type": "execute_result"
    }
   ],
   "source": [
    "loss = 'chamfer'\n",
    "incomplete_n_samples = 2048\n",
    "complete_n_samples = 4096\n",
    "max_training_epochs = 100\n",
    "do_training = True\n",
    "load_model = False\n",
    "report_cov_and_acc = False\n",
    "do_detailed_plotting = False\n",
    "\n",
    "\n",
    "class_type = raw_input('Give me the class type: ').lower()\n",
    "experiment_tag = raw_input('Give an experiment tag-ID: ')\n",
    "\n",
    "\n",
    "class_syn_id = shape_net_category_to_synth_id()[class_type]\n",
    "experiment_name = class_type + '_' + str(incomplete_n_samples) + '_' \\\n",
    "                  + str(complete_n_samples) + 'pts_' + loss + '_' + experiment_tag\n",
    "\n",
    "\n",
    "top_data_dir = '/orions4-zfs/projects/lins2/Panos_Space/DATA/'\n",
    "\n",
    "complete_pclouds_path = osp.join(top_data_dir, 'Point_Clouds/Shape_Net/Core/from_manifold_meshes/raw', \\\n",
    "                             str(complete_n_samples), class_syn_id)\n",
    "\n",
    "partial_pclouds_path = osp.join(top_data_dir, 'Point_Clouds/Partial_PCs/Angela_synthetic', str(incomplete_n_samples))\n",
    "\n",
    "n_input = [incomplete_n_samples, 3]\n",
    "n_output = [complete_n_samples, 3]\n",
    "\n",
    "train_dir = osp.join(top_data_dir, 'OUT/iccv/nn_models/')\n",
    "train_dir = osp.join(train_dir, experiment_name)\n",
    "create_dir(train_dir)"
   ]
  },
  {
   "cell_type": "code",
   "execution_count": 5,
   "metadata": {
    "collapsed": false,
    "deletable": true,
    "editable": true
   },
   "outputs": [],
   "source": [
    "seed = 42\n",
    "np.random.seed(seed)\n",
    "tf.set_random_seed(seed)"
   ]
  },
  {
   "cell_type": "code",
   "execution_count": 6,
   "metadata": {
    "collapsed": false,
    "deletable": true,
    "editable": true
   },
   "outputs": [
    {
     "name": "stdout",
     "output_type": "stream",
     "text": [
      "6778 files containing complete point clouds were found.\n"
     ]
    }
   ],
   "source": [
    "cmpl_file_names = pio.load_filenames_of_input_data(complete_pclouds_path, points_extension)\n",
    "cmpl_pclouds, cmpl_model_names, cmpl_syn_ids = pio.load_crude_point_clouds(file_names=cmpl_file_names, n_threads=40)\n",
    "assert(len(np.unique(cmpl_syn_ids)) == 1)\n",
    "print '%d files containing complete point clouds were found.' % (len(cmpl_pclouds), )"
   ]
  },
  {
   "cell_type": "code",
   "execution_count": 7,
   "metadata": {
    "collapsed": false,
    "deletable": true,
    "editable": true
   },
   "outputs": [
    {
     "name": "stdout",
     "output_type": "stream",
     "text": [
      "30000 partial point clouds were loaded.\n"
     ]
    }
   ],
   "source": [
    "train_list = '/orions4-zfs/projects/lins2/Panos_Space/DATA/Point_Clouds/Partial_PCs/Angela_synthetic/train_test_splits/train_models_with_scan_id.txt'\n",
    "partial_pclouds, partial_model_ids, partial_syn_ids = load_partial_pointclouds(train_list, partial_pclouds_path, \n",
    "                                                                               50, class_restriction=class_syn_id)\n",
    "partial_model_names = np.array([i[0] for i in partial_model_ids], dtype=object)\n",
    "partial_scan_ids = np.array([i[1] for i in partial_model_ids], dtype=object)\n",
    "partial_unames = np.array(partial_model_names + '.' + partial_scan_ids + '.' + partial_syn_ids, dtype=object)\n",
    "\n",
    "matching_index = indices_in_iterable(cmpl_model_names, partial_model_names)\n",
    "assert(np.alltrue(matching_index != -1))\n",
    "full_pclouds_matched = cmpl_pclouds[matching_index]\n",
    "\n",
    "train_data = PointCloudDataSet(full_pclouds_matched, noise=partial_pclouds, labels=partial_unames)\n",
    "train_data, val_data = vscan.make_validation_from_train_data(train_data, 0.05)"
   ]
  },
  {
   "cell_type": "code",
   "execution_count": 8,
   "metadata": {
    "collapsed": false,
    "deletable": true,
    "editable": true
   },
   "outputs": [
    {
     "name": "stdout",
     "output_type": "stream",
     "text": [
      "6000 partial point clouds were loaded.\n"
     ]
    }
   ],
   "source": [
    "test_list = '/orions4-zfs/projects/lins2/Panos_Space/DATA/Point_Clouds/Partial_PCs/Angela_synthetic/train_test_splits/test_models_small_with_scan_id.txt'\n",
    "test_pclouds, test_model_ids, test_syn_ids = load_partial_pointclouds(test_list, partial_pclouds_path, \n",
    "                                                                               50, class_restriction=class_syn_id)\n",
    "test_model_names = np.array([i[0] for i in test_model_ids], dtype=object)\n",
    "test_scan_ids = np.array([i[1] for i in test_model_ids], dtype=object)\n",
    "test_unames = np.array(test_model_names + '.' + test_scan_ids + '.' + test_syn_ids, dtype=object)\n",
    "matching_index = indices_in_iterable(cmpl_model_names, test_model_names)\n",
    "assert(np.alltrue(matching_index != -1))\n",
    "test_data = PointCloudDataSet(cmpl_pclouds[matching_index], noise=test_pclouds, labels=test_unames)"
   ]
  },
  {
   "cell_type": "code",
   "execution_count": 9,
   "metadata": {
    "collapsed": false,
    "deletable": true,
    "editable": true
   },
   "outputs": [],
   "source": [
    "if load_model:\n",
    "    conf = Conf.load(osp.join(train_dir, 'configuration'))\n",
    "    print conf\n",
    "else:    \n",
    "    encoder_args = {'n_filters': [64, 128, 1024],\n",
    "                    'filter_sizes': [1, 1, 1],\n",
    "                    'strides': [1, 1, 1],\n",
    "                    'dropout_prob': 0.5\n",
    "                   }\n",
    "    \n",
    "    decoder_args = {'layer_sizes': [1024, np.prod(n_output)]}\n",
    "    \n",
    "    conf = Conf(\n",
    "                n_input = n_input,\n",
    "                n_output = n_output,\n",
    "                denoising = True,\n",
    "                training_epochs = max_training_epochs,\n",
    "                batch_size = 50,\n",
    "                loss = loss,\n",
    "                train_dir = train_dir,\n",
    "                loss_display_step = 1,\n",
    "                saver_step = 1,\n",
    "                learning_rate = 0.0005,\n",
    "                z_rotate = False,\n",
    "                encoder = enc_dec.encoder_with_convs_and_symmetry,\n",
    "                encoder_args = encoder_args,\n",
    "                decoder = enc_dec.decoder_with_fc_only,\n",
    "                decoder_args = decoder_args\n",
    "               )\n",
    "    \n",
    "    conf.experiment_name = experiment_name\n",
    "    conf.save(osp.join(conf.train_dir, 'configuration'))\n",
    "    \n",
    "reset_tf_graph()\n",
    "ae = PointNetAutoEncoder(experiment_name, conf)\n",
    "\n",
    "if load_model:\n",
    "    saved_epochs = read_saved_epochs(conf.train_dir)\n",
    "    last_epoch = saved_epochs[-1]\n",
    "    ae.restore_model(conf.train_dir, last_epoch, verbose=True)"
   ]
  },
  {
   "cell_type": "code",
   "execution_count": 10,
   "metadata": {
    "collapsed": false,
    "deletable": true,
    "editable": true
   },
   "outputs": [
    {
     "name": "stdout",
     "output_type": "stream",
     "text": [
      "('Epoch:', '0001', 'training time (minutes)=', '0.8359', 'loss=', '0.001927451')\n",
      "INFO:tensorflow:/orions4-zfs/projects/lins2/Panos_Space/DATA/OUT/iccv/nn_models/chair_2048_4096pts_chamfer_original/models.ckpt-1 is not in all_model_checkpoint_paths. Manually adding it.\n",
      "('Epoch:', '0002', 'training time (minutes)=', '0.9237', 'loss=', '0.001128074')\n",
      "INFO:tensorflow:/orions4-zfs/projects/lins2/Panos_Space/DATA/OUT/iccv/nn_models/chair_2048_4096pts_chamfer_original/models.ckpt-2 is not in all_model_checkpoint_paths. Manually adding it.\n",
      "('Epoch:', '0003', 'training time (minutes)=', '0.9174', 'loss=', '0.000976055')\n",
      "INFO:tensorflow:/orions4-zfs/projects/lins2/Panos_Space/DATA/OUT/iccv/nn_models/chair_2048_4096pts_chamfer_original/models.ckpt-3 is not in all_model_checkpoint_paths. Manually adding it.\n",
      "('Epoch:', '0004', 'training time (minutes)=', '0.9385', 'loss=', '0.000892028')\n",
      "INFO:tensorflow:/orions4-zfs/projects/lins2/Panos_Space/DATA/OUT/iccv/nn_models/chair_2048_4096pts_chamfer_original/models.ckpt-4 is not in all_model_checkpoint_paths. Manually adding it.\n",
      "('Epoch:', '0005', 'training time (minutes)=', '0.9574', 'loss=', '0.000832655')\n",
      "INFO:tensorflow:/orions4-zfs/projects/lins2/Panos_Space/DATA/OUT/iccv/nn_models/chair_2048_4096pts_chamfer_original/models.ckpt-5 is not in all_model_checkpoint_paths. Manually adding it.\n",
      "('Epoch:', '0006', 'training time (minutes)=', '0.9488', 'loss=', '0.000793469')\n",
      "INFO:tensorflow:/orions4-zfs/projects/lins2/Panos_Space/DATA/OUT/iccv/nn_models/chair_2048_4096pts_chamfer_original/models.ckpt-6 is not in all_model_checkpoint_paths. Manually adding it.\n",
      "('Epoch:', '0007', 'training time (minutes)=', '0.9287', 'loss=', '0.000760236')\n",
      "INFO:tensorflow:/orions4-zfs/projects/lins2/Panos_Space/DATA/OUT/iccv/nn_models/chair_2048_4096pts_chamfer_original/models.ckpt-7 is not in all_model_checkpoint_paths. Manually adding it.\n",
      "('Epoch:', '0008', 'training time (minutes)=', '0.9614', 'loss=', '0.000734126')\n",
      "INFO:tensorflow:/orions4-zfs/projects/lins2/Panos_Space/DATA/OUT/iccv/nn_models/chair_2048_4096pts_chamfer_original/models.ckpt-8 is not in all_model_checkpoint_paths. Manually adding it.\n",
      "('Epoch:', '0009', 'training time (minutes)=', '0.9365', 'loss=', '0.000713647')\n",
      "INFO:tensorflow:/orions4-zfs/projects/lins2/Panos_Space/DATA/OUT/iccv/nn_models/chair_2048_4096pts_chamfer_original/models.ckpt-9 is not in all_model_checkpoint_paths. Manually adding it.\n",
      "('Epoch:', '0010', 'training time (minutes)=', '0.8954', 'loss=', '0.000696515')\n",
      "INFO:tensorflow:/orions4-zfs/projects/lins2/Panos_Space/DATA/OUT/iccv/nn_models/chair_2048_4096pts_chamfer_original/models.ckpt-10 is not in all_model_checkpoint_paths. Manually adding it.\n",
      "('Epoch:', '0011', 'training time (minutes)=', '0.9819', 'loss=', '0.000678874')\n",
      "INFO:tensorflow:/orions4-zfs/projects/lins2/Panos_Space/DATA/OUT/iccv/nn_models/chair_2048_4096pts_chamfer_original/models.ckpt-11 is not in all_model_checkpoint_paths. Manually adding it.\n",
      "('Epoch:', '0012', 'training time (minutes)=', '0.9617', 'loss=', '0.000662339')\n",
      "INFO:tensorflow:/orions4-zfs/projects/lins2/Panos_Space/DATA/OUT/iccv/nn_models/chair_2048_4096pts_chamfer_original/models.ckpt-12 is not in all_model_checkpoint_paths. Manually adding it.\n",
      "('Epoch:', '0013', 'training time (minutes)=', '0.9122', 'loss=', '0.000654178')\n",
      "INFO:tensorflow:/orions4-zfs/projects/lins2/Panos_Space/DATA/OUT/iccv/nn_models/chair_2048_4096pts_chamfer_original/models.ckpt-13 is not in all_model_checkpoint_paths. Manually adding it.\n",
      "('Epoch:', '0014', 'training time (minutes)=', '0.9192', 'loss=', '0.000641529')\n",
      "INFO:tensorflow:/orions4-zfs/projects/lins2/Panos_Space/DATA/OUT/iccv/nn_models/chair_2048_4096pts_chamfer_original/models.ckpt-14 is not in all_model_checkpoint_paths. Manually adding it.\n",
      "('Epoch:', '0015', 'training time (minutes)=', '0.9360', 'loss=', '0.000628681')\n",
      "INFO:tensorflow:/orions4-zfs/projects/lins2/Panos_Space/DATA/OUT/iccv/nn_models/chair_2048_4096pts_chamfer_original/models.ckpt-15 is not in all_model_checkpoint_paths. Manually adding it.\n",
      "('Epoch:', '0016', 'training time (minutes)=', '0.9199', 'loss=', '0.000618224')\n",
      "INFO:tensorflow:/orions4-zfs/projects/lins2/Panos_Space/DATA/OUT/iccv/nn_models/chair_2048_4096pts_chamfer_original/models.ckpt-16 is not in all_model_checkpoint_paths. Manually adding it.\n",
      "('Epoch:', '0017', 'training time (minutes)=', '0.9157', 'loss=', '0.000608800')\n",
      "INFO:tensorflow:/orions4-zfs/projects/lins2/Panos_Space/DATA/OUT/iccv/nn_models/chair_2048_4096pts_chamfer_original/models.ckpt-17 is not in all_model_checkpoint_paths. Manually adding it.\n",
      "('Epoch:', '0018', 'training time (minutes)=', '0.9413', 'loss=', '0.000600665')\n",
      "INFO:tensorflow:/orions4-zfs/projects/lins2/Panos_Space/DATA/OUT/iccv/nn_models/chair_2048_4096pts_chamfer_original/models.ckpt-18 is not in all_model_checkpoint_paths. Manually adding it.\n",
      "('Epoch:', '0019', 'training time (minutes)=', '0.8952', 'loss=', '0.000593455')\n",
      "INFO:tensorflow:/orions4-zfs/projects/lins2/Panos_Space/DATA/OUT/iccv/nn_models/chair_2048_4096pts_chamfer_original/models.ckpt-19 is not in all_model_checkpoint_paths. Manually adding it.\n",
      "('Epoch:', '0020', 'training time (minutes)=', '0.9486', 'loss=', '0.000586155')\n",
      "INFO:tensorflow:/orions4-zfs/projects/lins2/Panos_Space/DATA/OUT/iccv/nn_models/chair_2048_4096pts_chamfer_original/models.ckpt-20 is not in all_model_checkpoint_paths. Manually adding it.\n",
      "('Epoch:', '0021', 'training time (minutes)=', '0.9209', 'loss=', '0.000576284')\n",
      "INFO:tensorflow:/orions4-zfs/projects/lins2/Panos_Space/DATA/OUT/iccv/nn_models/chair_2048_4096pts_chamfer_original/models.ckpt-21 is not in all_model_checkpoint_paths. Manually adding it.\n",
      "('Epoch:', '0022', 'training time (minutes)=', '0.9449', 'loss=', '0.000571381')\n",
      "INFO:tensorflow:/orions4-zfs/projects/lins2/Panos_Space/DATA/OUT/iccv/nn_models/chair_2048_4096pts_chamfer_original/models.ckpt-22 is not in all_model_checkpoint_paths. Manually adding it.\n",
      "('Epoch:', '0023', 'training time (minutes)=', '0.9089', 'loss=', '0.000565118')\n",
      "INFO:tensorflow:/orions4-zfs/projects/lins2/Panos_Space/DATA/OUT/iccv/nn_models/chair_2048_4096pts_chamfer_original/models.ckpt-23 is not in all_model_checkpoint_paths. Manually adding it.\n",
      "('Epoch:', '0024', 'training time (minutes)=', '0.9062', 'loss=', '0.000558319')\n",
      "INFO:tensorflow:/orions4-zfs/projects/lins2/Panos_Space/DATA/OUT/iccv/nn_models/chair_2048_4096pts_chamfer_original/models.ckpt-24 is not in all_model_checkpoint_paths. Manually adding it.\n",
      "('Epoch:', '0025', 'training time (minutes)=', '0.9462', 'loss=', '0.000551578')\n",
      "INFO:tensorflow:/orions4-zfs/projects/lins2/Panos_Space/DATA/OUT/iccv/nn_models/chair_2048_4096pts_chamfer_original/models.ckpt-25 is not in all_model_checkpoint_paths. Manually adding it.\n",
      "('Epoch:', '0026', 'training time (minutes)=', '0.9153', 'loss=', '0.000547265')\n",
      "INFO:tensorflow:/orions4-zfs/projects/lins2/Panos_Space/DATA/OUT/iccv/nn_models/chair_2048_4096pts_chamfer_original/models.ckpt-26 is not in all_model_checkpoint_paths. Manually adding it.\n",
      "('Epoch:', '0027', 'training time (minutes)=', '0.9703', 'loss=', '0.000541836')\n",
      "INFO:tensorflow:/orions4-zfs/projects/lins2/Panos_Space/DATA/OUT/iccv/nn_models/chair_2048_4096pts_chamfer_original/models.ckpt-27 is not in all_model_checkpoint_paths. Manually adding it.\n",
      "('Epoch:', '0028', 'training time (minutes)=', '0.9156', 'loss=', '0.000537917')\n",
      "INFO:tensorflow:/orions4-zfs/projects/lins2/Panos_Space/DATA/OUT/iccv/nn_models/chair_2048_4096pts_chamfer_original/models.ckpt-28 is not in all_model_checkpoint_paths. Manually adding it.\n",
      "('Epoch:', '0029', 'training time (minutes)=', '0.9697', 'loss=', '0.000531235')\n",
      "INFO:tensorflow:/orions4-zfs/projects/lins2/Panos_Space/DATA/OUT/iccv/nn_models/chair_2048_4096pts_chamfer_original/models.ckpt-29 is not in all_model_checkpoint_paths. Manually adding it.\n",
      "('Epoch:', '0030', 'training time (minutes)=', '0.9512', 'loss=', '0.000528089')\n",
      "INFO:tensorflow:/orions4-zfs/projects/lins2/Panos_Space/DATA/OUT/iccv/nn_models/chair_2048_4096pts_chamfer_original/models.ckpt-30 is not in all_model_checkpoint_paths. Manually adding it.\n",
      "('Epoch:', '0031', 'training time (minutes)=', '0.9461', 'loss=', '0.000523042')\n",
      "INFO:tensorflow:/orions4-zfs/projects/lins2/Panos_Space/DATA/OUT/iccv/nn_models/chair_2048_4096pts_chamfer_original/models.ckpt-31 is not in all_model_checkpoint_paths. Manually adding it.\n",
      "('Epoch:', '0032', 'training time (minutes)=', '0.9271', 'loss=', '0.000519947')\n",
      "INFO:tensorflow:/orions4-zfs/projects/lins2/Panos_Space/DATA/OUT/iccv/nn_models/chair_2048_4096pts_chamfer_original/models.ckpt-32 is not in all_model_checkpoint_paths. Manually adding it.\n",
      "('Epoch:', '0033', 'training time (minutes)=', '0.9005', 'loss=', '0.000514627')\n",
      "INFO:tensorflow:/orions4-zfs/projects/lins2/Panos_Space/DATA/OUT/iccv/nn_models/chair_2048_4096pts_chamfer_original/models.ckpt-33 is not in all_model_checkpoint_paths. Manually adding it.\n",
      "('Epoch:', '0034', 'training time (minutes)=', '0.9210', 'loss=', '0.000509867')\n",
      "INFO:tensorflow:/orions4-zfs/projects/lins2/Panos_Space/DATA/OUT/iccv/nn_models/chair_2048_4096pts_chamfer_original/models.ckpt-34 is not in all_model_checkpoint_paths. Manually adding it.\n",
      "('Epoch:', '0035', 'training time (minutes)=', '0.9598', 'loss=', '0.000506626')\n",
      "INFO:tensorflow:/orions4-zfs/projects/lins2/Panos_Space/DATA/OUT/iccv/nn_models/chair_2048_4096pts_chamfer_original/models.ckpt-35 is not in all_model_checkpoint_paths. Manually adding it.\n",
      "('Epoch:', '0036', 'training time (minutes)=', '0.9188', 'loss=', '0.000505229')\n",
      "INFO:tensorflow:/orions4-zfs/projects/lins2/Panos_Space/DATA/OUT/iccv/nn_models/chair_2048_4096pts_chamfer_original/models.ckpt-36 is not in all_model_checkpoint_paths. Manually adding it.\n",
      "('Epoch:', '0037', 'training time (minutes)=', '0.9533', 'loss=', '0.000500971')\n",
      "INFO:tensorflow:/orions4-zfs/projects/lins2/Panos_Space/DATA/OUT/iccv/nn_models/chair_2048_4096pts_chamfer_original/models.ckpt-37 is not in all_model_checkpoint_paths. Manually adding it.\n",
      "('Epoch:', '0038', 'training time (minutes)=', '0.9412', 'loss=', '0.000496675')\n",
      "INFO:tensorflow:/orions4-zfs/projects/lins2/Panos_Space/DATA/OUT/iccv/nn_models/chair_2048_4096pts_chamfer_original/models.ckpt-38 is not in all_model_checkpoint_paths. Manually adding it.\n",
      "('Epoch:', '0039', 'training time (minutes)=', '0.9072', 'loss=', '0.000492991')\n",
      "INFO:tensorflow:/orions4-zfs/projects/lins2/Panos_Space/DATA/OUT/iccv/nn_models/chair_2048_4096pts_chamfer_original/models.ckpt-39 is not in all_model_checkpoint_paths. Manually adding it.\n",
      "('Epoch:', '0040', 'training time (minutes)=', '0.9209', 'loss=', '0.000491163')\n",
      "INFO:tensorflow:/orions4-zfs/projects/lins2/Panos_Space/DATA/OUT/iccv/nn_models/chair_2048_4096pts_chamfer_original/models.ckpt-40 is not in all_model_checkpoint_paths. Manually adding it.\n",
      "('Epoch:', '0041', 'training time (minutes)=', '0.9125', 'loss=', '0.000489574')\n",
      "INFO:tensorflow:/orions4-zfs/projects/lins2/Panos_Space/DATA/OUT/iccv/nn_models/chair_2048_4096pts_chamfer_original/models.ckpt-41 is not in all_model_checkpoint_paths. Manually adding it.\n",
      "('Epoch:', '0042', 'training time (minutes)=', '0.9768', 'loss=', '0.000484621')\n",
      "INFO:tensorflow:/orions4-zfs/projects/lins2/Panos_Space/DATA/OUT/iccv/nn_models/chair_2048_4096pts_chamfer_original/models.ckpt-42 is not in all_model_checkpoint_paths. Manually adding it.\n",
      "('Epoch:', '0043', 'training time (minutes)=', '0.9483', 'loss=', '0.000481084')\n",
      "INFO:tensorflow:/orions4-zfs/projects/lins2/Panos_Space/DATA/OUT/iccv/nn_models/chair_2048_4096pts_chamfer_original/models.ckpt-43 is not in all_model_checkpoint_paths. Manually adding it.\n",
      "('Epoch:', '0044', 'training time (minutes)=', '0.9429', 'loss=', '0.000480725')\n",
      "INFO:tensorflow:/orions4-zfs/projects/lins2/Panos_Space/DATA/OUT/iccv/nn_models/chair_2048_4096pts_chamfer_original/models.ckpt-44 is not in all_model_checkpoint_paths. Manually adding it.\n",
      "('Epoch:', '0045', 'training time (minutes)=', '0.9315', 'loss=', '0.000477236')\n",
      "INFO:tensorflow:/orions4-zfs/projects/lins2/Panos_Space/DATA/OUT/iccv/nn_models/chair_2048_4096pts_chamfer_original/models.ckpt-45 is not in all_model_checkpoint_paths. Manually adding it.\n",
      "('Epoch:', '0046', 'training time (minutes)=', '0.9227', 'loss=', '0.000473852')\n",
      "INFO:tensorflow:/orions4-zfs/projects/lins2/Panos_Space/DATA/OUT/iccv/nn_models/chair_2048_4096pts_chamfer_original/models.ckpt-46 is not in all_model_checkpoint_paths. Manually adding it.\n",
      "('Epoch:', '0047', 'training time (minutes)=', '0.9253', 'loss=', '0.000473091')\n",
      "INFO:tensorflow:/orions4-zfs/projects/lins2/Panos_Space/DATA/OUT/iccv/nn_models/chair_2048_4096pts_chamfer_original/models.ckpt-47 is not in all_model_checkpoint_paths. Manually adding it.\n",
      "('Epoch:', '0048', 'training time (minutes)=', '0.9514', 'loss=', '0.000467810')\n",
      "INFO:tensorflow:/orions4-zfs/projects/lins2/Panos_Space/DATA/OUT/iccv/nn_models/chair_2048_4096pts_chamfer_original/models.ckpt-48 is not in all_model_checkpoint_paths. Manually adding it.\n",
      "('Epoch:', '0049', 'training time (minutes)=', '0.9250', 'loss=', '0.000468940')\n",
      "INFO:tensorflow:/orions4-zfs/projects/lins2/Panos_Space/DATA/OUT/iccv/nn_models/chair_2048_4096pts_chamfer_original/models.ckpt-49 is not in all_model_checkpoint_paths. Manually adding it.\n",
      "('Epoch:', '0050', 'training time (minutes)=', '0.9481', 'loss=', '0.000463310')\n",
      "INFO:tensorflow:/orions4-zfs/projects/lins2/Panos_Space/DATA/OUT/iccv/nn_models/chair_2048_4096pts_chamfer_original/models.ckpt-50 is not in all_model_checkpoint_paths. Manually adding it.\n",
      "('Epoch:', '0051', 'training time (minutes)=', '0.9225', 'loss=', '0.000461942')\n",
      "INFO:tensorflow:/orions4-zfs/projects/lins2/Panos_Space/DATA/OUT/iccv/nn_models/chair_2048_4096pts_chamfer_original/models.ckpt-51 is not in all_model_checkpoint_paths. Manually adding it.\n",
      "('Epoch:', '0052', 'training time (minutes)=', '0.9478', 'loss=', '0.000459984')\n",
      "INFO:tensorflow:/orions4-zfs/projects/lins2/Panos_Space/DATA/OUT/iccv/nn_models/chair_2048_4096pts_chamfer_original/models.ckpt-52 is not in all_model_checkpoint_paths. Manually adding it.\n",
      "('Epoch:', '0053', 'training time (minutes)=', '0.9627', 'loss=', '0.000459194')\n",
      "INFO:tensorflow:/orions4-zfs/projects/lins2/Panos_Space/DATA/OUT/iccv/nn_models/chair_2048_4096pts_chamfer_original/models.ckpt-53 is not in all_model_checkpoint_paths. Manually adding it.\n",
      "('Epoch:', '0054', 'training time (minutes)=', '0.9940', 'loss=', '0.000457215')\n",
      "INFO:tensorflow:/orions4-zfs/projects/lins2/Panos_Space/DATA/OUT/iccv/nn_models/chair_2048_4096pts_chamfer_original/models.ckpt-54 is not in all_model_checkpoint_paths. Manually adding it.\n",
      "('Epoch:', '0055', 'training time (minutes)=', '0.9631', 'loss=', '0.000454398')\n",
      "INFO:tensorflow:/orions4-zfs/projects/lins2/Panos_Space/DATA/OUT/iccv/nn_models/chair_2048_4096pts_chamfer_original/models.ckpt-55 is not in all_model_checkpoint_paths. Manually adding it.\n",
      "('Epoch:', '0056', 'training time (minutes)=', '0.9341', 'loss=', '0.000451566')\n",
      "INFO:tensorflow:/orions4-zfs/projects/lins2/Panos_Space/DATA/OUT/iccv/nn_models/chair_2048_4096pts_chamfer_original/models.ckpt-56 is not in all_model_checkpoint_paths. Manually adding it.\n",
      "('Epoch:', '0057', 'training time (minutes)=', '0.9417', 'loss=', '0.000450734')\n",
      "INFO:tensorflow:/orions4-zfs/projects/lins2/Panos_Space/DATA/OUT/iccv/nn_models/chair_2048_4096pts_chamfer_original/models.ckpt-57 is not in all_model_checkpoint_paths. Manually adding it.\n",
      "('Epoch:', '0058', 'training time (minutes)=', '0.9700', 'loss=', '0.000449970')\n",
      "INFO:tensorflow:/orions4-zfs/projects/lins2/Panos_Space/DATA/OUT/iccv/nn_models/chair_2048_4096pts_chamfer_original/models.ckpt-58 is not in all_model_checkpoint_paths. Manually adding it.\n",
      "('Epoch:', '0059', 'training time (minutes)=', '0.9730', 'loss=', '0.000447251')\n",
      "INFO:tensorflow:/orions4-zfs/projects/lins2/Panos_Space/DATA/OUT/iccv/nn_models/chair_2048_4096pts_chamfer_original/models.ckpt-59 is not in all_model_checkpoint_paths. Manually adding it.\n",
      "('Epoch:', '0060', 'training time (minutes)=', '0.9656', 'loss=', '0.000444747')\n",
      "INFO:tensorflow:/orions4-zfs/projects/lins2/Panos_Space/DATA/OUT/iccv/nn_models/chair_2048_4096pts_chamfer_original/models.ckpt-60 is not in all_model_checkpoint_paths. Manually adding it.\n",
      "('Epoch:', '0061', 'training time (minutes)=', '0.9438', 'loss=', '0.000442406')\n",
      "INFO:tensorflow:/orions4-zfs/projects/lins2/Panos_Space/DATA/OUT/iccv/nn_models/chair_2048_4096pts_chamfer_original/models.ckpt-61 is not in all_model_checkpoint_paths. Manually adding it.\n",
      "('Epoch:', '0062', 'training time (minutes)=', '0.9680', 'loss=', '0.000443009')\n",
      "INFO:tensorflow:/orions4-zfs/projects/lins2/Panos_Space/DATA/OUT/iccv/nn_models/chair_2048_4096pts_chamfer_original/models.ckpt-62 is not in all_model_checkpoint_paths. Manually adding it.\n",
      "('Epoch:', '0063', 'training time (minutes)=', '0.9572', 'loss=', '0.000440303')\n",
      "INFO:tensorflow:/orions4-zfs/projects/lins2/Panos_Space/DATA/OUT/iccv/nn_models/chair_2048_4096pts_chamfer_original/models.ckpt-63 is not in all_model_checkpoint_paths. Manually adding it.\n",
      "('Epoch:', '0064', 'training time (minutes)=', '0.9797', 'loss=', '0.000441051')\n",
      "INFO:tensorflow:/orions4-zfs/projects/lins2/Panos_Space/DATA/OUT/iccv/nn_models/chair_2048_4096pts_chamfer_original/models.ckpt-64 is not in all_model_checkpoint_paths. Manually adding it.\n",
      "('Epoch:', '0065', 'training time (minutes)=', '0.9058', 'loss=', '0.000436300')\n",
      "INFO:tensorflow:/orions4-zfs/projects/lins2/Panos_Space/DATA/OUT/iccv/nn_models/chair_2048_4096pts_chamfer_original/models.ckpt-65 is not in all_model_checkpoint_paths. Manually adding it.\n",
      "('Epoch:', '0066', 'training time (minutes)=', '0.9598', 'loss=', '0.000436341')\n",
      "INFO:tensorflow:/orions4-zfs/projects/lins2/Panos_Space/DATA/OUT/iccv/nn_models/chair_2048_4096pts_chamfer_original/models.ckpt-66 is not in all_model_checkpoint_paths. Manually adding it.\n",
      "('Epoch:', '0067', 'training time (minutes)=', '0.9305', 'loss=', '0.000434397')\n",
      "INFO:tensorflow:/orions4-zfs/projects/lins2/Panos_Space/DATA/OUT/iccv/nn_models/chair_2048_4096pts_chamfer_original/models.ckpt-67 is not in all_model_checkpoint_paths. Manually adding it.\n",
      "('Epoch:', '0068', 'training time (minutes)=', '0.9434', 'loss=', '0.000432329')\n",
      "INFO:tensorflow:/orions4-zfs/projects/lins2/Panos_Space/DATA/OUT/iccv/nn_models/chair_2048_4096pts_chamfer_original/models.ckpt-68 is not in all_model_checkpoint_paths. Manually adding it.\n",
      "('Epoch:', '0069', 'training time (minutes)=', '0.9222', 'loss=', '0.000432261')\n",
      "INFO:tensorflow:/orions4-zfs/projects/lins2/Panos_Space/DATA/OUT/iccv/nn_models/chair_2048_4096pts_chamfer_original/models.ckpt-69 is not in all_model_checkpoint_paths. Manually adding it.\n",
      "('Epoch:', '0070', 'training time (minutes)=', '0.9030', 'loss=', '0.000429752')\n",
      "INFO:tensorflow:/orions4-zfs/projects/lins2/Panos_Space/DATA/OUT/iccv/nn_models/chair_2048_4096pts_chamfer_original/models.ckpt-70 is not in all_model_checkpoint_paths. Manually adding it.\n",
      "('Epoch:', '0071', 'training time (minutes)=', '0.9353', 'loss=', '0.000427983')\n",
      "INFO:tensorflow:/orions4-zfs/projects/lins2/Panos_Space/DATA/OUT/iccv/nn_models/chair_2048_4096pts_chamfer_original/models.ckpt-71 is not in all_model_checkpoint_paths. Manually adding it.\n",
      "('Epoch:', '0072', 'training time (minutes)=', '0.9200', 'loss=', '0.000427316')\n",
      "INFO:tensorflow:/orions4-zfs/projects/lins2/Panos_Space/DATA/OUT/iccv/nn_models/chair_2048_4096pts_chamfer_original/models.ckpt-72 is not in all_model_checkpoint_paths. Manually adding it.\n",
      "('Epoch:', '0073', 'training time (minutes)=', '0.9084', 'loss=', '0.000425830')\n",
      "INFO:tensorflow:/orions4-zfs/projects/lins2/Panos_Space/DATA/OUT/iccv/nn_models/chair_2048_4096pts_chamfer_original/models.ckpt-73 is not in all_model_checkpoint_paths. Manually adding it.\n",
      "('Epoch:', '0074', 'training time (minutes)=', '0.9110', 'loss=', '0.000425598')\n",
      "INFO:tensorflow:/orions4-zfs/projects/lins2/Panos_Space/DATA/OUT/iccv/nn_models/chair_2048_4096pts_chamfer_original/models.ckpt-74 is not in all_model_checkpoint_paths. Manually adding it.\n",
      "('Epoch:', '0075', 'training time (minutes)=', '0.9581', 'loss=', '0.000423626')\n",
      "INFO:tensorflow:/orions4-zfs/projects/lins2/Panos_Space/DATA/OUT/iccv/nn_models/chair_2048_4096pts_chamfer_original/models.ckpt-75 is not in all_model_checkpoint_paths. Manually adding it.\n",
      "('Epoch:', '0076', 'training time (minutes)=', '0.9457', 'loss=', '0.000422568')\n",
      "INFO:tensorflow:/orions4-zfs/projects/lins2/Panos_Space/DATA/OUT/iccv/nn_models/chair_2048_4096pts_chamfer_original/models.ckpt-76 is not in all_model_checkpoint_paths. Manually adding it.\n",
      "('Epoch:', '0077', 'training time (minutes)=', '0.9710', 'loss=', '0.000421220')\n",
      "INFO:tensorflow:/orions4-zfs/projects/lins2/Panos_Space/DATA/OUT/iccv/nn_models/chair_2048_4096pts_chamfer_original/models.ckpt-77 is not in all_model_checkpoint_paths. Manually adding it.\n",
      "('Epoch:', '0078', 'training time (minutes)=', '0.9218', 'loss=', '0.000420251')\n",
      "INFO:tensorflow:/orions4-zfs/projects/lins2/Panos_Space/DATA/OUT/iccv/nn_models/chair_2048_4096pts_chamfer_original/models.ckpt-78 is not in all_model_checkpoint_paths. Manually adding it.\n",
      "('Epoch:', '0079', 'training time (minutes)=', '0.9232', 'loss=', '0.000417907')\n",
      "INFO:tensorflow:/orions4-zfs/projects/lins2/Panos_Space/DATA/OUT/iccv/nn_models/chair_2048_4096pts_chamfer_original/models.ckpt-79 is not in all_model_checkpoint_paths. Manually adding it.\n",
      "('Epoch:', '0080', 'training time (minutes)=', '0.9463', 'loss=', '0.000417795')\n",
      "INFO:tensorflow:/orions4-zfs/projects/lins2/Panos_Space/DATA/OUT/iccv/nn_models/chair_2048_4096pts_chamfer_original/models.ckpt-80 is not in all_model_checkpoint_paths. Manually adding it.\n",
      "('Epoch:', '0081', 'training time (minutes)=', '0.9268', 'loss=', '0.000418235')\n",
      "INFO:tensorflow:/orions4-zfs/projects/lins2/Panos_Space/DATA/OUT/iccv/nn_models/chair_2048_4096pts_chamfer_original/models.ckpt-81 is not in all_model_checkpoint_paths. Manually adding it.\n",
      "('Epoch:', '0082', 'training time (minutes)=', '0.9234', 'loss=', '0.000415668')\n",
      "INFO:tensorflow:/orions4-zfs/projects/lins2/Panos_Space/DATA/OUT/iccv/nn_models/chair_2048_4096pts_chamfer_original/models.ckpt-82 is not in all_model_checkpoint_paths. Manually adding it.\n",
      "('Epoch:', '0083', 'training time (minutes)=', '0.8994', 'loss=', '0.000414662')\n",
      "INFO:tensorflow:/orions4-zfs/projects/lins2/Panos_Space/DATA/OUT/iccv/nn_models/chair_2048_4096pts_chamfer_original/models.ckpt-83 is not in all_model_checkpoint_paths. Manually adding it.\n",
      "('Epoch:', '0084', 'training time (minutes)=', '0.9474', 'loss=', '0.000413343')\n",
      "INFO:tensorflow:/orions4-zfs/projects/lins2/Panos_Space/DATA/OUT/iccv/nn_models/chair_2048_4096pts_chamfer_original/models.ckpt-84 is not in all_model_checkpoint_paths. Manually adding it.\n",
      "('Epoch:', '0085', 'training time (minutes)=', '0.9358', 'loss=', '0.000412501')\n",
      "INFO:tensorflow:/orions4-zfs/projects/lins2/Panos_Space/DATA/OUT/iccv/nn_models/chair_2048_4096pts_chamfer_original/models.ckpt-85 is not in all_model_checkpoint_paths. Manually adding it.\n",
      "('Epoch:', '0086', 'training time (minutes)=', '0.9220', 'loss=', '0.000412137')\n",
      "INFO:tensorflow:/orions4-zfs/projects/lins2/Panos_Space/DATA/OUT/iccv/nn_models/chair_2048_4096pts_chamfer_original/models.ckpt-86 is not in all_model_checkpoint_paths. Manually adding it.\n",
      "('Epoch:', '0087', 'training time (minutes)=', '0.9341', 'loss=', '0.000409806')\n",
      "INFO:tensorflow:/orions4-zfs/projects/lins2/Panos_Space/DATA/OUT/iccv/nn_models/chair_2048_4096pts_chamfer_original/models.ckpt-87 is not in all_model_checkpoint_paths. Manually adding it.\n",
      "('Epoch:', '0088', 'training time (minutes)=', '0.9336', 'loss=', '0.000410517')\n",
      "INFO:tensorflow:/orions4-zfs/projects/lins2/Panos_Space/DATA/OUT/iccv/nn_models/chair_2048_4096pts_chamfer_original/models.ckpt-88 is not in all_model_checkpoint_paths. Manually adding it.\n",
      "('Epoch:', '0089', 'training time (minutes)=', '0.9261', 'loss=', '0.000409388')\n",
      "INFO:tensorflow:/orions4-zfs/projects/lins2/Panos_Space/DATA/OUT/iccv/nn_models/chair_2048_4096pts_chamfer_original/models.ckpt-89 is not in all_model_checkpoint_paths. Manually adding it.\n",
      "('Epoch:', '0090', 'training time (minutes)=', '0.9147', 'loss=', '0.000406186')\n",
      "INFO:tensorflow:/orions4-zfs/projects/lins2/Panos_Space/DATA/OUT/iccv/nn_models/chair_2048_4096pts_chamfer_original/models.ckpt-90 is not in all_model_checkpoint_paths. Manually adding it.\n",
      "('Epoch:', '0091', 'training time (minutes)=', '0.9476', 'loss=', '0.000407048')\n",
      "INFO:tensorflow:/orions4-zfs/projects/lins2/Panos_Space/DATA/OUT/iccv/nn_models/chair_2048_4096pts_chamfer_original/models.ckpt-91 is not in all_model_checkpoint_paths. Manually adding it.\n",
      "('Epoch:', '0092', 'training time (minutes)=', '0.9202', 'loss=', '0.000406340')\n",
      "INFO:tensorflow:/orions4-zfs/projects/lins2/Panos_Space/DATA/OUT/iccv/nn_models/chair_2048_4096pts_chamfer_original/models.ckpt-92 is not in all_model_checkpoint_paths. Manually adding it.\n",
      "('Epoch:', '0093', 'training time (minutes)=', '0.9406', 'loss=', '0.000404638')\n",
      "INFO:tensorflow:/orions4-zfs/projects/lins2/Panos_Space/DATA/OUT/iccv/nn_models/chair_2048_4096pts_chamfer_original/models.ckpt-93 is not in all_model_checkpoint_paths. Manually adding it.\n",
      "('Epoch:', '0094', 'training time (minutes)=', '0.9124', 'loss=', '0.000404405')\n",
      "INFO:tensorflow:/orions4-zfs/projects/lins2/Panos_Space/DATA/OUT/iccv/nn_models/chair_2048_4096pts_chamfer_original/models.ckpt-94 is not in all_model_checkpoint_paths. Manually adding it.\n",
      "('Epoch:', '0095', 'training time (minutes)=', '0.9256', 'loss=', '0.000403403')\n",
      "INFO:tensorflow:/orions4-zfs/projects/lins2/Panos_Space/DATA/OUT/iccv/nn_models/chair_2048_4096pts_chamfer_original/models.ckpt-95 is not in all_model_checkpoint_paths. Manually adding it.\n",
      "('Epoch:', '0096', 'training time (minutes)=', '0.9005', 'loss=', '0.000402108')\n",
      "INFO:tensorflow:/orions4-zfs/projects/lins2/Panos_Space/DATA/OUT/iccv/nn_models/chair_2048_4096pts_chamfer_original/models.ckpt-96 is not in all_model_checkpoint_paths. Manually adding it.\n",
      "('Epoch:', '0097', 'training time (minutes)=', '0.9293', 'loss=', '0.000402404')\n",
      "INFO:tensorflow:/orions4-zfs/projects/lins2/Panos_Space/DATA/OUT/iccv/nn_models/chair_2048_4096pts_chamfer_original/models.ckpt-97 is not in all_model_checkpoint_paths. Manually adding it.\n",
      "('Epoch:', '0098', 'training time (minutes)=', '0.9079', 'loss=', '0.000400551')\n",
      "INFO:tensorflow:/orions4-zfs/projects/lins2/Panos_Space/DATA/OUT/iccv/nn_models/chair_2048_4096pts_chamfer_original/models.ckpt-98 is not in all_model_checkpoint_paths. Manually adding it.\n",
      "('Epoch:', '0099', 'training time (minutes)=', '0.9235', 'loss=', '0.000398959')\n",
      "INFO:tensorflow:/orions4-zfs/projects/lins2/Panos_Space/DATA/OUT/iccv/nn_models/chair_2048_4096pts_chamfer_original/models.ckpt-99 is not in all_model_checkpoint_paths. Manually adding it.\n",
      "('Epoch:', '0100', 'training time (minutes)=', '0.9078', 'loss=', '0.000398985')\n",
      "INFO:tensorflow:/orions4-zfs/projects/lins2/Panos_Space/DATA/OUT/iccv/nn_models/chair_2048_4096pts_chamfer_original/models.ckpt-100 is not in all_model_checkpoint_paths. Manually adding it.\n"
     ]
    }
   ],
   "source": [
    "if do_training:\n",
    "    buf_size = 1 # flush each line\n",
    "    fout = open(osp.join(conf.train_dir, 'train_stats.txt'), 'a', buf_size)\n",
    "    ae.train(train_data, conf, log_file=fout)\n",
    "    fout.close()"
   ]
  },
  {
   "cell_type": "code",
   "execution_count": 25,
   "metadata": {
    "collapsed": false
   },
   "outputs": [
    {
     "name": "stdout",
     "output_type": "stream",
     "text": [
      "56 0.000670314126182\n"
     ]
    }
   ],
   "source": [
    "# Use validation to pick best_epoch, i.e., the one with the smallest error.\n",
    "save_validation_file = osp.join(conf.train_dir, 'validation_stats.pickle')\n",
    "\n",
    "saved_epochs = np.array(read_saved_epochs(conf.train_dir))\n",
    "val_stats = eval_model(ae, conf, val_data, epochs=saved_epochs)\n",
    "val_loss = np.min(val_stats[:,1])\n",
    "best_epoch = int(val_stats[np.argmin(val_stats[:,1]), 0])\n",
    "print best_epoch, val_loss\n",
    "\n",
    "pickle_data(save_validation_file, best_epoch, val_loss)\n",
    "\n",
    "# Report loss on test data at optimal (per-validation) epoch\n",
    "best_epoch, val_loss = unpickle_data(save_validation_file)\n",
    "print eval_model(ae, conf, test_data, epochs=[best_epoch])[0][1]"
   ]
  },
  {
   "cell_type": "code",
   "execution_count": 16,
   "metadata": {
    "collapsed": false,
    "deletable": true,
    "editable": true
   },
   "outputs": [
    {
     "name": "stdout",
     "output_type": "stream",
     "text": [
      "Best epoch = 100.\n",
      "Test Median Accuracy-Coverage: 0.89501953125 0.7939453125\n",
      "Test Median H-Measure: 0.837636650588\n"
     ]
    }
   ],
   "source": [
    "if report_cov_and_acc:\n",
    "    best_epoch, val_loss = unpickle_data(save_validation_file)\n",
    "    print 'Best Validation epoch = %d.' % (best_epoch, )        \n",
    "    ae.restore_model(conf.train_dir, best_epoch)\n",
    "    test_recon, test_loss, test_feed, test_ids, test_gt = ae.evaluate(test_data, conf)\n",
    "    \n",
    "    \n",
    "#     top_save_dir = osp.join(conf.train_dir, 'output', 'epoch_' + str(best_epoch))\n",
    "\n",
    "#     save_dir = osp.join(top_save_dir, 'test_predictions')\n",
    "#     save_reconstructions(save_dir, test_recon, test_gt, test_feed, test_ids) # save ply files of test data.    \n",
    "#     train_loss = ae.evaluate(train_data, conf)[1]\n",
    "    \n",
    "    # Report Accuracy and Coverage of test data.\n",
    "    n_examples = len(test_recon)\n",
    "    pred_scores = np.zeros((n_examples, 2))\n",
    "    for i in xrange(n_examples):\n",
    "        gt = test_gt[i]\n",
    "        pred = test_recon[i] \n",
    "        pred_scores[i, 0] = accuracy_of_completion(pred, gt, thres=0.02, ret_dists=False)\n",
    "        pred_scores[i, 1] = coverage_of_completion(gt, pred, thres=0.02, ret_dists=False)\n",
    "                \n",
    "    print 'Test Median Accuracy-Coverage:', np.median(pred_scores[:, 0]), np.median(pred_scores[:, 1])\n",
    "    print 'Test Median H-Measure:', np.median(hmean(pred_scores, axis=1))\n",
    "\n",
    "#     save_pc_prediction_stats(osp.join(top_save_dir, 'detailed_stats.txt'), test_ids, pred_scores)\n",
    "    \n",
    "#     with open(osp.join(top_save_dir, 'stats.txt'), 'a') as fout:\n",
    "#         fout.write('Best Validation Epoch = %d\\n' % (best_epoch))\n",
    "#         fout.write('Validation loss = %f\\n' % (val_loss))\n",
    "#         fout.write('Train loss = %f\\n' % (train_loss))\n",
    "#         fout.write('Test loss = %f\\n' % (test_loss))\n",
    "#         fout.write('Gen. Error (abs, per) = %f %f\\n' % (abs(test_loss-train_loss),  abs(test_loss-train_loss) / train_loss ))\n",
    "#         fout.write('Test Median-Accuracy-Coverage = %f %f\\n' % (np.median(pred_scores[:, 0]), np.median(pred_scores[:, 1])))\n",
    "#         fout.write('Test Median Harmonic Mean = %f\\n' % (np.median(hmean(pred_scores, 1))))\n",
    "#         fout.write('Number of distinct Test Models = %d (test_files=%d)\\n' % (n_test_models, test_data.num_examples))    "
   ]
  },
  {
   "cell_type": "code",
   "execution_count": 133,
   "metadata": {
    "collapsed": false,
    "deletable": true,
    "editable": true
   },
   "outputs": [],
   "source": [
    "n_best = 500\n",
    "n_worst = 50\n",
    "\n",
    "if do_detailed_plotting:\n",
    "    plt.ioff()\n",
    "    h_measure = hmean(pred_scores, axis=1)  \n",
    "    sort_ind = np.argsort(h_measure)\n",
    "    worst_n = sort_ind[:n_worst]\n",
    "    best_n = sort_ind[-n_best:]    \n",
    "    \n",
    "    save_dir = osp.join(top_save_dir, str(n_best) +'_best_test_predictions')\n",
    "    create_dir(save_dir)\n",
    "    \n",
    "    for i in xrange(n_best):\n",
    "        good = best_n[i]\n",
    "        gt = test_gt[good]\n",
    "        pred = test_recon[good]   \n",
    "        feed = test_feed[good]\n",
    "        model_name = test_ids[good]\n",
    "\n",
    "        ac_meas, ac_col = accuracy_of_completion(pred, gt, thres=0.02, ret_dists=True)\n",
    "        cov_meas, cov_col = coverage_of_completion(gt, pred, thres=0.02, ret_dists=True)\n",
    "                    \n",
    "        ac_col[ac_col <= 0.02] = 0.021\n",
    "        cov_col[cov_col <= 0.02] = 0.021\n",
    "\n",
    "        feed_fig = plot_3d_point_cloud_paper(Point_Cloud(points=feed), in_u_sphere=True, show=False);        \n",
    "        feed_fig.savefig(osp.join(save_dir, str(i) + '.' + model_name + '.feed.png')); plt.close()\n",
    "\n",
    "        c = ac_col\n",
    "        pred_fig = plot_3d_point_cloud_paper(Point_Cloud(points=pred), c=c, in_u_sphere=True, show=False);\n",
    "        pred_fig.savefig(osp.join(save_dir, str(i) + '.' + model_name + '.prediction.png')); plt.close()\n",
    "\n",
    "        c = cov_col\n",
    "        gt_fig = plot_3d_point_cloud_paper(Point_Cloud(points=gt), c=c, in_u_sphere=True, show=False);\n",
    "        gt_fig.savefig(osp.join(save_dir, str(i) + '.' + model_name + '.gt.png')); plt.close()\n",
    "        \n",
    "    save_dir = osp.join(top_save_dir, str(n_worst) +'_worst_test_predictions')\n",
    "    create_dir(save_dir)\n",
    "    for i in xrange(n_worst):\n",
    "        bad = worst_n[i]\n",
    "        gt = test_gt[bad]\n",
    "        pred = test_recon[bad]   \n",
    "        feed = test_feed[bad]\n",
    "        model_name = test_ids[bad]\n",
    "\n",
    "        ac_meas, ac_col = accuracy_of_completion(pred, gt, thres=0.02, ret_dists=True)\n",
    "        cov_meas, cov_col = coverage_of_completion(gt, pred, thres=0.02, ret_dists=True)\n",
    "                    \n",
    "        ac_col[ac_col <= 0.02] = 0.021\n",
    "        cov_col[cov_col <= 0.02] = 0.021\n",
    "\n",
    "        feed_fig = plot_3d_point_cloud_paper(Point_Cloud(points=feed), in_u_sphere=True, show=False);        \n",
    "        feed_fig.savefig(osp.join(save_dir, str(i) + '.' + model_name + '.feed.png')); plt.close()\n",
    "\n",
    "        c = ac_col\n",
    "        pred_fig = plot_3d_point_cloud_paper(Point_Cloud(points=pred), c=c, in_u_sphere=True, show=False);\n",
    "        pred_fig.savefig(osp.join(save_dir, str(i) + '.' + model_name + '.prediction.png')); plt.close()\n",
    "\n",
    "        c = cov_col\n",
    "        gt_fig = plot_3d_point_cloud_paper(Point_Cloud(points=gt), c=c, in_u_sphere=True, show=False);\n",
    "        gt_fig.savefig(osp.join(save_dir, str(i) + '.' + model_name + '.gt.png')); plt.close()"
   ]
  },
  {
   "cell_type": "code",
   "execution_count": null,
   "metadata": {
    "collapsed": true
   },
   "outputs": [],
   "source": [
    "pp = train_data.next_batch(1)\n",
    "pinc = pp[2].reshape(incomplete_n_samples, 3)\n",
    "pcom = pp[0].reshape(complete_n_samples, 3)\n",
    "\n",
    "score1 = accuracy_of_completion(pinc, pcom, 0.02, ret_dists=False)\n",
    "score2, c2 = coverage_of_completion(pcom, pinc, 0.02, ret_dists=True)\n",
    "print score1, score2\n",
    "Point_Cloud(points=pinc).plot();\n",
    "Point_Cloud(points=pcom).plot(c=c2);"
   ]
  }
 ],
 "metadata": {
  "kernelspec": {
   "display_name": "Python 2",
   "language": "python",
   "name": "python2"
  },
  "language_info": {
   "codemirror_mode": {
    "name": "ipython",
    "version": 2
   },
   "file_extension": ".py",
   "mimetype": "text/x-python",
   "name": "python",
   "nbconvert_exporter": "python",
   "pygments_lexer": "ipython2",
   "version": "2.7.6"
  }
 },
 "nbformat": 4,
 "nbformat_minor": 0
}
