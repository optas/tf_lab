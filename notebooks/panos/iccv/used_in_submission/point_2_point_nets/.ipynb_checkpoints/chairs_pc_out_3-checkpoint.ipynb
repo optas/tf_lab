{
 "cells": [
  {
   "cell_type": "code",
   "execution_count": 1,
   "metadata": {
    "collapsed": false
   },
   "outputs": [
    {
     "name": "stderr",
     "output_type": "stream",
     "text": [
      "/orions4-zfs/projects/lins2/Panos_Space/Git_Repos/geo_tool/point_clouds/point_cloud.py:20: UserWarning: Sklearn library is not installed.\n",
      "  warnings.warn('Sklearn library is not installed.')\n",
      "/orions4-zfs/projects/lins2/Panos_Space/Git_Repos/geo_tool/solids/mesh.py:26: UserWarning: Mayavi library was not found. Some graphics utilities will be disabled.\n",
      "  warnings.warn('Mayavi library was not found. Some graphics utilities will be disabled.')\n",
      "/orions4-zfs/projects/lins2/Panos_Space/Git_Repos/tf_lab/autopredictors/evaluate.py:9: UserWarning: Sklearn library is not installed.\n",
      "  warnings.warn('Sklearn library is not installed.')\n"
     ]
    }
   ],
   "source": [
    "import sys\n",
    "import time\n",
    "import numpy as np\n",
    "import os.path as osp\n",
    "import tensorflow as tf\n",
    "import matplotlib.pyplot as plt\n",
    "\n",
    "from tf_lab.fundamentals.utils import set_visible_GPUs, reset_tf_graph\n",
    "\n",
    "import tf_lab.point_clouds.in_out as pio\n",
    "from tf_lab.point_clouds.in_out import PointCloudDataSet, write_model_ids_of_datasets\n",
    "from tf_lab.point_clouds.point_net_ae import PointNetAutoEncoder\n",
    "from tf_lab.point_clouds.autoencoder import Configuration as Conf\n",
    "import tf_lab.point_clouds.encoders_decoders as enc_dec\n",
    "\n",
    "\n",
    "import tf_lab.autopredictors.scripts.virt_scan_data as vscan\n",
    "\n",
    "from tf_lab.autopredictors.scripts.helper import shape_net_category_to_synth_id, points_extension\n",
    "\n",
    "\n",
    "from tf_lab.autopredictors.plotting import plot_original_pclouds_vs_reconstructed, \\\n",
    "                                           plot_train_val_test_curves, plot_reconstructions_at_epoch\n",
    "        \n",
    "from tf_lab.autopredictors.evaluate import eval_model, read_saved_epochs, accuracy_of_completion, \\\n",
    "                                           coverage_of_completion, save_reconstructions\n",
    "                                                  \n",
    "\n",
    "from general_tools.in_out.basics import create_dir, delete_files_in_directory, files_in_subdirs\n",
    "from general_tools.simpletons import select_first_last_and_k\n",
    "from geo_tool import Point_Cloud"
   ]
  },
  {
   "cell_type": "code",
   "execution_count": 2,
   "metadata": {
    "collapsed": false
   },
   "outputs": [],
   "source": [
    "%load_ext autoreload\n",
    "%autoreload 2\n",
    "%matplotlib inline"
   ]
  },
  {
   "cell_type": "code",
   "execution_count": 9,
   "metadata": {
    "collapsed": false
   },
   "outputs": [
    {
     "name": "stdout",
     "output_type": "stream",
     "text": [
      "Give me the class type.\n",
      "chair\n"
     ]
    },
    {
     "data": {
      "text/plain": [
       "'/orions4-zfs/projects/lins2/Panos_Space/DATA/OUT/models/incomplete_pclouds/paper_vanilla_vscan/1_3_not_scaled_chair_2048_4096pts_emd'"
      ]
     },
     "execution_count": 9,
     "metadata": {},
     "output_type": "execute_result"
    }
   ],
   "source": [
    "incomplete_n_samples = 2048\n",
    "complete_n_samples = 4096\n",
    "\n",
    "class_type = raw_input('Give me the class type.\\n').lower()\n",
    "class_syn_id = shape_net_category_to_synth_id()[class_type]\n",
    "\n",
    "GPU = 2\n",
    "exp_counter = '1_3'\n",
    "loss = 'emd'\n",
    "do_training = True\n",
    "load_model_conf = False\n",
    "do_evaluation = True\n",
    "max_training_epochs = 200\n",
    "max_evaluation_epochs = 130\n",
    "\n",
    "experiment_name = exp_counter + '_not_scaled_' + class_type + '_' + str(incomplete_n_samples) + '_' \\\n",
    "                  + str(complete_n_samples) + 'pts_' + loss\n",
    "\n",
    "top_data_dir = '/orions4-zfs/projects/lins2/Panos_Space/DATA/'\n",
    "complete_pclouds_path = osp.join(top_data_dir, 'ShapeNetPointClouds/from_manifold_meshes/not_scaled', \\\n",
    "                             str(complete_n_samples), class_syn_id)\n",
    "    \n",
    "n_input = [incomplete_n_samples, 3]\n",
    "n_output = [complete_n_samples, 3] \n",
    "\n",
    "train_dir = osp.join(top_data_dir, 'OUT/models/incomplete_pclouds/paper_vanilla_vscan')\n",
    "train_dir = osp.join(train_dir, experiment_name)\n",
    "create_dir(train_dir)"
   ]
  },
  {
   "cell_type": "code",
   "execution_count": 4,
   "metadata": {
    "collapsed": false
   },
   "outputs": [],
   "source": [
    "seed = 42\n",
    "np.random.seed(seed)\n",
    "tf.set_random_seed(seed)"
   ]
  },
  {
   "cell_type": "code",
   "execution_count": 5,
   "metadata": {
    "collapsed": false
   },
   "outputs": [
    {
     "name": "stdout",
     "output_type": "stream",
     "text": [
      "6778 files containing complete point clouds were found.\n"
     ]
    }
   ],
   "source": [
    "cmpl_file_names = pio.load_filenames_of_input_data(complete_pclouds_path, points_extension)\n",
    "cmpl_pclouds, cmpl_model_names, syn_ids = pio.load_crude_point_clouds(file_names=cmpl_file_names, n_threads=30)\n",
    "assert(len(np.unique(syn_ids)) == 1)\n",
    "print '%d files containing complete point clouds were found.' % (len(cmpl_pclouds), )"
   ]
  },
  {
   "cell_type": "code",
   "execution_count": 6,
   "metadata": {
    "collapsed": false
   },
   "outputs": [
    {
     "name": "stdout",
     "output_type": "stream",
     "text": [
      "30000 incomplete point clouds were loaded.\n",
      "6000 incomplete point clouds were loaded.\n"
     ]
    }
   ],
   "source": [
    "v_scan_top_dir = osp.join(top_data_dir, 'From_Matthias/shapenet_dim32_sdf_pc', class_syn_id)\n",
    "\n",
    "if do_training or do_evaluation:\n",
    "    train_id_file = osp.join(top_data_dir, 'From_Matthias/train_test_models/train_models_with_scan_id.txt')\n",
    "    \n",
    "    train_data = vscan.load_single_class_incomplete_dataset(v_scan_top_dir, train_id_file, class_syn_id,\n",
    "                                                      cmpl_pclouds, cmpl_model_names, n_threads=30,\n",
    "                                                      n_samples=incomplete_n_samples)\n",
    "    \n",
    "    train_data, val_data = vscan.make_validation_from_train_data(train_data, 0.10)\n",
    "    \n",
    "if do_evaluation:\n",
    "    test_id_file = osp.join(top_data_dir, 'From_Matthias/train_test_models/test_models_with_scan_id.txt')\n",
    "    test_data = vscan.load_single_class_incomplete_dataset(v_scan_top_dir, test_id_file, class_syn_id,\n",
    "                                                      cmpl_pclouds, cmpl_model_names, n_threads=30,\n",
    "                                                      n_samples=incomplete_n_samples)"
   ]
  },
  {
   "cell_type": "code",
   "execution_count": 7,
   "metadata": {
    "collapsed": false
   },
   "outputs": [],
   "source": [
    "if load_model_conf:\n",
    "    conf = Conf.load(osp.join(train_dir, 'configuration'))\n",
    "    print conf\n",
    "else:\n",
    "    decoder_args = {'layer_sizes': [524, 1024, np.prod(n_output)],\n",
    "                    'non_linearity': tf.nn.relu\n",
    "                   }\n",
    "    \n",
    "    conf = Conf(\n",
    "                n_input = n_input,\n",
    "                n_output = n_output,\n",
    "                denoising = True,\n",
    "                training_epochs = max_training_epochs,\n",
    "                batch_size = 50,\n",
    "                loss = loss,\n",
    "                train_dir = train_dir,\n",
    "                loss_display_step = 1,\n",
    "                saver_step = 5,\n",
    "                learning_rate = 0.0005,\n",
    "                gauss_augment = {'mu': 0, 'sigma': 0.02},\n",
    "                encoder = enc_dec.encoder_with_convs_and_symmetry,                \n",
    "                decoder = enc_dec.decoder_with_fc_only,\n",
    "                decoder_args = decoder_args\n",
    "               )\n",
    "    \n",
    "    conf.consistent_io = False\n",
    "    conf.experiment_name = experiment_name\n",
    "    conf.save(osp.join(conf.train_dir, 'configuration'))\n",
    "    \n",
    "reset_tf_graph()\n",
    "set_visible_GPUs([GPU])\n",
    "ae = PointNetAutoEncoder(experiment_name, conf)"
   ]
  },
  {
   "cell_type": "code",
   "execution_count": 8,
   "metadata": {
    "collapsed": false
   },
   "outputs": [
    {
     "name": "stdout",
     "output_type": "stream",
     "text": [
      "('Epoch:', '0001', 'training time (minutes)=', '5.1105', 'loss=', '342.973099716')\n",
      "INFO:tensorflow:/orions4-zfs/projects/lins2/Panos_Space/DATA/OUT/models/incomplete_pclouds/paper_vanilla_vscan/1_3_not_scaled_chair_2048_4096pts_emd/models.ckpt-1 is not in all_model_checkpoint_paths. Manually adding it.\n",
      "('Epoch:', '0002', 'training time (minutes)=', '5.1787', 'loss=', '289.924017221')\n",
      "('Epoch:', '0003', 'training time (minutes)=', '5.1953', 'loss=', '275.897193231')\n",
      "('Epoch:', '0004', 'training time (minutes)=', '5.1907', 'loss=', '266.709795577')\n",
      "('Epoch:', '0005', 'training time (minutes)=', '5.1838', 'loss=', '259.421091150')\n",
      "INFO:tensorflow:/orions4-zfs/projects/lins2/Panos_Space/DATA/OUT/models/incomplete_pclouds/paper_vanilla_vscan/1_3_not_scaled_chair_2048_4096pts_emd/models.ckpt-5 is not in all_model_checkpoint_paths. Manually adding it.\n",
      "('Epoch:', '0006', 'training time (minutes)=', '5.1875', 'loss=', '254.977052957')\n",
      "('Epoch:', '0007', 'training time (minutes)=', '5.1741', 'loss=', '250.918307891')\n",
      "('Epoch:', '0008', 'training time (minutes)=', '5.1970', 'loss=', '247.292447578')\n",
      "('Epoch:', '0009', 'training time (minutes)=', '5.1805', 'loss=', '243.688255790')\n",
      "('Epoch:', '0010', 'training time (minutes)=', '5.1675', 'loss=', '240.727545194')\n",
      "INFO:tensorflow:/orions4-zfs/projects/lins2/Panos_Space/DATA/OUT/models/incomplete_pclouds/paper_vanilla_vscan/1_3_not_scaled_chair_2048_4096pts_emd/models.ckpt-10 is not in all_model_checkpoint_paths. Manually adding it.\n",
      "('Epoch:', '0011', 'training time (minutes)=', '5.1863', 'loss=', '237.842086622')\n",
      "('Epoch:', '0012', 'training time (minutes)=', '5.1911', 'loss=', '235.678404264')\n",
      "('Epoch:', '0013', 'training time (minutes)=', '5.1897', 'loss=', '233.186656754')\n",
      "('Epoch:', '0014', 'training time (minutes)=', '5.1857', 'loss=', '231.604544972')\n",
      "('Epoch:', '0015', 'training time (minutes)=', '5.1768', 'loss=', '228.999697198')\n",
      "INFO:tensorflow:/orions4-zfs/projects/lins2/Panos_Space/DATA/OUT/models/incomplete_pclouds/paper_vanilla_vscan/1_3_not_scaled_chair_2048_4096pts_emd/models.ckpt-15 is not in all_model_checkpoint_paths. Manually adding it.\n",
      "('Epoch:', '0016', 'training time (minutes)=', '5.1725', 'loss=', '227.195957664')\n",
      "('Epoch:', '0017', 'training time (minutes)=', '5.1649', 'loss=', '225.673918321')\n",
      "('Epoch:', '0018', 'training time (minutes)=', '5.1731', 'loss=', '223.816111981')\n",
      "('Epoch:', '0019', 'training time (minutes)=', '5.1607', 'loss=', '222.351588581')\n",
      "('Epoch:', '0020', 'training time (minutes)=', '5.1802', 'loss=', '220.188451951')\n",
      "INFO:tensorflow:/orions4-zfs/projects/lins2/Panos_Space/DATA/OUT/models/incomplete_pclouds/paper_vanilla_vscan/1_3_not_scaled_chair_2048_4096pts_emd/models.ckpt-20 is not in all_model_checkpoint_paths. Manually adding it.\n",
      "('Epoch:', '0021', 'training time (minutes)=', '5.1820', 'loss=', '218.979582243')\n",
      "('Epoch:', '0022', 'training time (minutes)=', '5.1809', 'loss=', '217.435229520')\n",
      "('Epoch:', '0023', 'training time (minutes)=', '5.1567', 'loss=', '216.116470393')\n",
      "('Epoch:', '0024', 'training time (minutes)=', '5.1745', 'loss=', '214.877861588')\n",
      "('Epoch:', '0025', 'training time (minutes)=', '5.1571', 'loss=', '213.504019278')\n",
      "INFO:tensorflow:/orions4-zfs/projects/lins2/Panos_Space/DATA/OUT/models/incomplete_pclouds/paper_vanilla_vscan/1_3_not_scaled_chair_2048_4096pts_emd/models.ckpt-25 is not in all_model_checkpoint_paths. Manually adding it.\n",
      "('Epoch:', '0026', 'training time (minutes)=', '5.1846', 'loss=', '212.440237540')\n",
      "('Epoch:', '0027', 'training time (minutes)=', '5.1558', 'loss=', '211.626765837')\n",
      "('Epoch:', '0028', 'training time (minutes)=', '5.1511', 'loss=', '210.316132383')\n",
      "('Epoch:', '0029', 'training time (minutes)=', '5.1659', 'loss=', '209.333583125')\n",
      "('Epoch:', '0030', 'training time (minutes)=', '5.1474', 'loss=', '208.383498298')\n",
      "INFO:tensorflow:/orions4-zfs/projects/lins2/Panos_Space/DATA/OUT/models/incomplete_pclouds/paper_vanilla_vscan/1_3_not_scaled_chair_2048_4096pts_emd/models.ckpt-30 is not in all_model_checkpoint_paths. Manually adding it.\n",
      "('Epoch:', '0031', 'training time (minutes)=', '5.1784', 'loss=', '207.656494451')\n",
      "('Epoch:', '0032', 'training time (minutes)=', '5.1640', 'loss=', '206.573418285')\n",
      "('Epoch:', '0033', 'training time (minutes)=', '5.1535', 'loss=', '205.373874834')\n",
      "('Epoch:', '0034', 'training time (minutes)=', '5.1559', 'loss=', '204.655705318')\n",
      "('Epoch:', '0035', 'training time (minutes)=', '5.1877', 'loss=', '204.351148733')\n",
      "INFO:tensorflow:/orions4-zfs/projects/lins2/Panos_Space/DATA/OUT/models/incomplete_pclouds/paper_vanilla_vscan/1_3_not_scaled_chair_2048_4096pts_emd/models.ckpt-35 is not in all_model_checkpoint_paths. Manually adding it.\n",
      "('Epoch:', '0036', 'training time (minutes)=', '5.1745', 'loss=', '203.172782559')\n",
      "('Epoch:', '0037', 'training time (minutes)=', '5.1738', 'loss=', '202.923945307')\n",
      "('Epoch:', '0038', 'training time (minutes)=', '5.1609', 'loss=', '201.286489840')\n",
      "('Epoch:', '0039', 'training time (minutes)=', '5.1974', 'loss=', '201.120029902')\n",
      "('Epoch:', '0040', 'training time (minutes)=', '5.1776', 'loss=', '200.100338576')\n",
      "INFO:tensorflow:/orions4-zfs/projects/lins2/Panos_Space/DATA/OUT/models/incomplete_pclouds/paper_vanilla_vscan/1_3_not_scaled_chair_2048_4096pts_emd/models.ckpt-40 is not in all_model_checkpoint_paths. Manually adding it.\n",
      "('Epoch:', '0041', 'training time (minutes)=', '5.2340', 'loss=', '199.712265552')\n",
      "('Epoch:', '0042', 'training time (minutes)=', '5.1839', 'loss=', '199.244566204')\n",
      "('Epoch:', '0043', 'training time (minutes)=', '5.2148', 'loss=', '198.207982268')\n",
      "('Epoch:', '0044', 'training time (minutes)=', '5.1869', 'loss=', '197.531627401')\n",
      "('Epoch:', '0045', 'training time (minutes)=', '5.2056', 'loss=', '197.647912174')\n",
      "INFO:tensorflow:/orions4-zfs/projects/lins2/Panos_Space/DATA/OUT/models/incomplete_pclouds/paper_vanilla_vscan/1_3_not_scaled_chair_2048_4096pts_emd/models.ckpt-45 is not in all_model_checkpoint_paths. Manually adding it.\n",
      "('Epoch:', '0046', 'training time (minutes)=', '5.2484', 'loss=', '196.597710532')\n",
      "('Epoch:', '0047', 'training time (minutes)=', '5.3336', 'loss=', '195.984067140')\n",
      "('Epoch:', '0048', 'training time (minutes)=', '5.2026', 'loss=', '195.343228743')\n",
      "('Epoch:', '0049', 'training time (minutes)=', '5.2544', 'loss=', '194.845386223')\n",
      "('Epoch:', '0050', 'training time (minutes)=', '5.1616', 'loss=', '194.741854435')\n",
      "INFO:tensorflow:/orions4-zfs/projects/lins2/Panos_Space/DATA/OUT/models/incomplete_pclouds/paper_vanilla_vscan/1_3_not_scaled_chair_2048_4096pts_emd/models.ckpt-50 is not in all_model_checkpoint_paths. Manually adding it.\n",
      "('Epoch:', '0051', 'training time (minutes)=', '5.2233', 'loss=', '193.966362254')\n",
      "('Epoch:', '0052', 'training time (minutes)=', '5.2201', 'loss=', '193.351781718')\n",
      "('Epoch:', '0053', 'training time (minutes)=', '5.1875', 'loss=', '193.072196734')\n",
      "('Epoch:', '0054', 'training time (minutes)=', '5.2502', 'loss=', '192.539606674')\n",
      "('Epoch:', '0055', 'training time (minutes)=', '5.2201', 'loss=', '192.362921538')\n",
      "INFO:tensorflow:/orions4-zfs/projects/lins2/Panos_Space/DATA/OUT/models/incomplete_pclouds/paper_vanilla_vscan/1_3_not_scaled_chair_2048_4096pts_emd/models.ckpt-55 is not in all_model_checkpoint_paths. Manually adding it.\n",
      "('Epoch:', '0056', 'training time (minutes)=', '5.1494', 'loss=', '191.506297500')\n",
      "('Epoch:', '0057', 'training time (minutes)=', '5.1452', 'loss=', '191.340721046')\n",
      "('Epoch:', '0058', 'training time (minutes)=', '5.1603', 'loss=', '191.181970554')\n",
      "('Epoch:', '0059', 'training time (minutes)=', '5.1746', 'loss=', '190.293175337')\n",
      "('Epoch:', '0060', 'training time (minutes)=', '5.1527', 'loss=', '190.336232390')\n",
      "INFO:tensorflow:/orions4-zfs/projects/lins2/Panos_Space/DATA/OUT/models/incomplete_pclouds/paper_vanilla_vscan/1_3_not_scaled_chair_2048_4096pts_emd/models.ckpt-60 is not in all_model_checkpoint_paths. Manually adding it.\n",
      "('Epoch:', '0061', 'training time (minutes)=', '5.1531', 'loss=', '189.608590020')\n",
      "('Epoch:', '0062', 'training time (minutes)=', '5.1543', 'loss=', '189.522324965')\n",
      "('Epoch:', '0063', 'training time (minutes)=', '5.1439', 'loss=', '189.220725307')\n",
      "('Epoch:', '0064', 'training time (minutes)=', '5.1874', 'loss=', '188.817147742')\n",
      "('Epoch:', '0065', 'training time (minutes)=', '5.1760', 'loss=', '188.377507697')\n",
      "INFO:tensorflow:/orions4-zfs/projects/lins2/Panos_Space/DATA/OUT/models/incomplete_pclouds/paper_vanilla_vscan/1_3_not_scaled_chair_2048_4096pts_emd/models.ckpt-65 is not in all_model_checkpoint_paths. Manually adding it.\n",
      "('Epoch:', '0066', 'training time (minutes)=', '5.1509', 'loss=', '188.074665126')\n",
      "('Epoch:', '0067', 'training time (minutes)=', '5.1429', 'loss=', '187.670826523')\n",
      "('Epoch:', '0068', 'training time (minutes)=', '5.1481', 'loss=', '187.155136306')\n",
      "('Epoch:', '0069', 'training time (minutes)=', '5.1461', 'loss=', '187.077131879')\n",
      "('Epoch:', '0070', 'training time (minutes)=', '5.1475', 'loss=', '186.812505736')\n",
      "INFO:tensorflow:/orions4-zfs/projects/lins2/Panos_Space/DATA/OUT/models/incomplete_pclouds/paper_vanilla_vscan/1_3_not_scaled_chair_2048_4096pts_emd/models.ckpt-70 is not in all_model_checkpoint_paths. Manually adding it.\n",
      "('Epoch:', '0071', 'training time (minutes)=', '5.1372', 'loss=', '186.332818123')\n",
      "('Epoch:', '0072', 'training time (minutes)=', '5.1561', 'loss=', '185.982542815')\n",
      "('Epoch:', '0073', 'training time (minutes)=', '5.1474', 'loss=', '185.733576739')\n",
      "('Epoch:', '0074', 'training time (minutes)=', '5.1600', 'loss=', '185.334503937')\n",
      "('Epoch:', '0075', 'training time (minutes)=', '5.1326', 'loss=', '185.219056928')\n",
      "INFO:tensorflow:/orions4-zfs/projects/lins2/Panos_Space/DATA/OUT/models/incomplete_pclouds/paper_vanilla_vscan/1_3_not_scaled_chair_2048_4096pts_emd/models.ckpt-75 is not in all_model_checkpoint_paths. Manually adding it.\n",
      "('Epoch:', '0076', 'training time (minutes)=', '5.1950', 'loss=', '184.882794472')\n",
      "('Epoch:', '0077', 'training time (minutes)=', '5.1813', 'loss=', '184.562814670')\n",
      "('Epoch:', '0078', 'training time (minutes)=', '5.1680', 'loss=', '184.345788659')\n",
      "('Epoch:', '0079', 'training time (minutes)=', '5.1878', 'loss=', '184.169611924')\n",
      "('Epoch:', '0080', 'training time (minutes)=', '5.2293', 'loss=', '183.634130040')\n",
      "INFO:tensorflow:/orions4-zfs/projects/lins2/Panos_Space/DATA/OUT/models/incomplete_pclouds/paper_vanilla_vscan/1_3_not_scaled_chair_2048_4096pts_emd/models.ckpt-80 is not in all_model_checkpoint_paths. Manually adding it.\n",
      "('Epoch:', '0081', 'training time (minutes)=', '5.2288', 'loss=', '183.396441961')\n",
      "('Epoch:', '0082', 'training time (minutes)=', '5.1872', 'loss=', '183.317976860')\n",
      "('Epoch:', '0083', 'training time (minutes)=', '5.2162', 'loss=', '183.467680811')\n",
      "('Epoch:', '0084', 'training time (minutes)=', '5.2484', 'loss=', '182.788446158')\n",
      "('Epoch:', '0085', 'training time (minutes)=', '5.2089', 'loss=', '182.530129638')\n",
      "INFO:tensorflow:/orions4-zfs/projects/lins2/Panos_Space/DATA/OUT/models/incomplete_pclouds/paper_vanilla_vscan/1_3_not_scaled_chair_2048_4096pts_emd/models.ckpt-85 is not in all_model_checkpoint_paths. Manually adding it.\n",
      "('Epoch:', '0086', 'training time (minutes)=', '5.1959', 'loss=', '182.562342128')\n",
      "('Epoch:', '0087', 'training time (minutes)=', '5.1956', 'loss=', '182.196115451')\n",
      "('Epoch:', '0088', 'training time (minutes)=', '5.2217', 'loss=', '182.276536532')\n",
      "('Epoch:', '0089', 'training time (minutes)=', '5.1805', 'loss=', '181.769931821')\n",
      "('Epoch:', '0090', 'training time (minutes)=', '5.2559', 'loss=', '181.390178906')\n",
      "INFO:tensorflow:/orions4-zfs/projects/lins2/Panos_Space/DATA/OUT/models/incomplete_pclouds/paper_vanilla_vscan/1_3_not_scaled_chair_2048_4096pts_emd/models.ckpt-90 is not in all_model_checkpoint_paths. Manually adding it.\n",
      "('Epoch:', '0091', 'training time (minutes)=', '5.4445', 'loss=', '181.374571652')\n",
      "('Epoch:', '0092', 'training time (minutes)=', '5.0846', 'loss=', '181.154082206')\n",
      "('Epoch:', '0093', 'training time (minutes)=', '5.0353', 'loss=', '180.797953909')\n",
      "('Epoch:', '0094', 'training time (minutes)=', '5.0660', 'loss=', '180.846886105')\n",
      "('Epoch:', '0095', 'training time (minutes)=', '5.0772', 'loss=', '180.351607372')\n",
      "INFO:tensorflow:/orions4-zfs/projects/lins2/Panos_Space/DATA/OUT/models/incomplete_pclouds/paper_vanilla_vscan/1_3_not_scaled_chair_2048_4096pts_emd/models.ckpt-95 is not in all_model_checkpoint_paths. Manually adding it.\n",
      "('Epoch:', '0096', 'training time (minutes)=', '5.0433', 'loss=', '180.613560966')\n",
      "('Epoch:', '0097', 'training time (minutes)=', '5.0234', 'loss=', '180.031101848')\n",
      "('Epoch:', '0098', 'training time (minutes)=', '5.0384', 'loss=', '179.884110966')\n",
      "('Epoch:', '0099', 'training time (minutes)=', '5.0356', 'loss=', '179.669432266')\n",
      "('Epoch:', '0100', 'training time (minutes)=', '5.0420', 'loss=', '179.532015370')\n",
      "INFO:tensorflow:/orions4-zfs/projects/lins2/Panos_Space/DATA/OUT/models/incomplete_pclouds/paper_vanilla_vscan/1_3_not_scaled_chair_2048_4096pts_emd/models.ckpt-100 is not in all_model_checkpoint_paths. Manually adding it.\n",
      "('Epoch:', '0101', 'training time (minutes)=', '5.0461', 'loss=', '179.371807833')\n",
      "('Epoch:', '0102', 'training time (minutes)=', '5.0461', 'loss=', '179.185452723')\n",
      "('Epoch:', '0103', 'training time (minutes)=', '5.0351', 'loss=', '178.920117272')\n",
      "('Epoch:', '0104', 'training time (minutes)=', '5.0289', 'loss=', '178.868660312')\n",
      "('Epoch:', '0105', 'training time (minutes)=', '5.0460', 'loss=', '178.623128990')\n",
      "INFO:tensorflow:/orions4-zfs/projects/lins2/Panos_Space/DATA/OUT/models/incomplete_pclouds/paper_vanilla_vscan/1_3_not_scaled_chair_2048_4096pts_emd/models.ckpt-105 is not in all_model_checkpoint_paths. Manually adding it.\n",
      "('Epoch:', '0106', 'training time (minutes)=', '5.0500', 'loss=', '178.401898052')\n",
      "('Epoch:', '0107', 'training time (minutes)=', '5.0492', 'loss=', '178.105127942')\n",
      "('Epoch:', '0108', 'training time (minutes)=', '5.0492', 'loss=', '178.298403874')\n",
      "('Epoch:', '0109', 'training time (minutes)=', '5.0489', 'loss=', '178.099434634')\n",
      "('Epoch:', '0110', 'training time (minutes)=', '5.0412', 'loss=', '177.915013207')\n",
      "INFO:tensorflow:/orions4-zfs/projects/lins2/Panos_Space/DATA/OUT/models/incomplete_pclouds/paper_vanilla_vscan/1_3_not_scaled_chair_2048_4096pts_emd/models.ckpt-110 is not in all_model_checkpoint_paths. Manually adding it.\n",
      "('Epoch:', '0111', 'training time (minutes)=', '5.0452', 'loss=', '177.636690634')\n",
      "('Epoch:', '0112', 'training time (minutes)=', '5.0566', 'loss=', '177.325013535')\n",
      "('Epoch:', '0113', 'training time (minutes)=', '5.0531', 'loss=', '177.286271554')\n",
      "('Epoch:', '0114', 'training time (minutes)=', '5.0533', 'loss=', '177.365586118')\n",
      "('Epoch:', '0115', 'training time (minutes)=', '5.0558', 'loss=', '177.102227133')\n",
      "INFO:tensorflow:/orions4-zfs/projects/lins2/Panos_Space/DATA/OUT/models/incomplete_pclouds/paper_vanilla_vscan/1_3_not_scaled_chair_2048_4096pts_emd/models.ckpt-115 is not in all_model_checkpoint_paths. Manually adding it.\n",
      "('Epoch:', '0116', 'training time (minutes)=', '5.0544', 'loss=', '176.906807426')\n",
      "('Epoch:', '0117', 'training time (minutes)=', '5.0526', 'loss=', '176.750460166')\n",
      "('Epoch:', '0118', 'training time (minutes)=', '5.0517', 'loss=', '176.444714836')\n",
      "('Epoch:', '0119', 'training time (minutes)=', '5.0544', 'loss=', '176.593610862')\n",
      "('Epoch:', '0120', 'training time (minutes)=', '5.0576', 'loss=', '176.267442633')\n",
      "INFO:tensorflow:/orions4-zfs/projects/lins2/Panos_Space/DATA/OUT/models/incomplete_pclouds/paper_vanilla_vscan/1_3_not_scaled_chair_2048_4096pts_emd/models.ckpt-120 is not in all_model_checkpoint_paths. Manually adding it.\n",
      "('Epoch:', '0121', 'training time (minutes)=', '5.0588', 'loss=', '176.155159223')\n",
      "('Epoch:', '0122', 'training time (minutes)=', '5.0533', 'loss=', '176.054000007')\n",
      "('Epoch:', '0123', 'training time (minutes)=', '5.0521', 'loss=', '176.019952958')\n",
      "('Epoch:', '0124', 'training time (minutes)=', '5.0541', 'loss=', '175.968641973')\n",
      "('Epoch:', '0125', 'training time (minutes)=', '5.0482', 'loss=', '175.701140340')\n",
      "INFO:tensorflow:/orions4-zfs/projects/lins2/Panos_Space/DATA/OUT/models/incomplete_pclouds/paper_vanilla_vscan/1_3_not_scaled_chair_2048_4096pts_emd/models.ckpt-125 is not in all_model_checkpoint_paths. Manually adding it.\n",
      "('Epoch:', '0126', 'training time (minutes)=', '5.0443', 'loss=', '175.440404397')\n",
      "('Epoch:', '0127', 'training time (minutes)=', '5.0495', 'loss=', '175.694648799')\n",
      "('Epoch:', '0128', 'training time (minutes)=', '5.0492', 'loss=', '175.374293320')\n",
      "('Epoch:', '0129', 'training time (minutes)=', '5.0582', 'loss=', '175.185232374')\n",
      "('Epoch:', '0130', 'training time (minutes)=', '5.0523', 'loss=', '174.996482877')\n",
      "INFO:tensorflow:/orions4-zfs/projects/lins2/Panos_Space/DATA/OUT/models/incomplete_pclouds/paper_vanilla_vscan/1_3_not_scaled_chair_2048_4096pts_emd/models.ckpt-130 is not in all_model_checkpoint_paths. Manually adding it.\n",
      "('Epoch:', '0131', 'training time (minutes)=', '5.0579', 'loss=', '174.881912316')\n",
      "('Epoch:', '0132', 'training time (minutes)=', '5.0590', 'loss=', '174.933458258')\n",
      "('Epoch:', '0133', 'training time (minutes)=', '5.0478', 'loss=', '174.666380536')\n",
      "('Epoch:', '0134', 'training time (minutes)=', '5.0451', 'loss=', '174.315508299')\n"
     ]
    },
    {
     "ename": "KeyboardInterrupt",
     "evalue": "",
     "output_type": "error",
     "traceback": [
      "\u001b[0;31m---------------------------------------------------------------------------\u001b[0m",
      "\u001b[0;31mKeyboardInterrupt\u001b[0m                         Traceback (most recent call last)",
      "\u001b[0;32m<ipython-input-8-bc84802347a4>\u001b[0m in \u001b[0;36m<module>\u001b[0;34m()\u001b[0m\n\u001b[1;32m      1\u001b[0m \u001b[0mtraining_stats\u001b[0m \u001b[0;34m=\u001b[0m \u001b[0;34m[\u001b[0m\u001b[0;34m]\u001b[0m\u001b[0;34m\u001b[0m\u001b[0m\n\u001b[1;32m      2\u001b[0m \u001b[0;32mif\u001b[0m \u001b[0mdo_training\u001b[0m\u001b[0;34m:\u001b[0m\u001b[0;34m\u001b[0m\u001b[0m\n\u001b[0;32m----> 3\u001b[0;31m     \u001b[0mtraining_stats\u001b[0m\u001b[0;34m.\u001b[0m\u001b[0mappend\u001b[0m\u001b[0;34m(\u001b[0m\u001b[0mae\u001b[0m\u001b[0;34m.\u001b[0m\u001b[0mtrain\u001b[0m\u001b[0;34m(\u001b[0m\u001b[0mtrain_data\u001b[0m\u001b[0;34m,\u001b[0m \u001b[0mconf\u001b[0m\u001b[0;34m)\u001b[0m\u001b[0;34m)\u001b[0m\u001b[0;34m\u001b[0m\u001b[0m\n\u001b[0m",
      "\u001b[0;32m/orions4-zfs/projects/lins2/Panos_Space/Git_Repos/tf_lab/point_clouds/autoencoder.pyc\u001b[0m in \u001b[0;36mtrain\u001b[0;34m(self, train_data, configuration)\u001b[0m\n\u001b[1;32m    165\u001b[0m \u001b[0;34m\u001b[0m\u001b[0m\n\u001b[1;32m    166\u001b[0m         \u001b[0;32mfor\u001b[0m \u001b[0m_\u001b[0m \u001b[0;32min\u001b[0m \u001b[0mxrange\u001b[0m\u001b[0;34m(\u001b[0m\u001b[0mc\u001b[0m\u001b[0;34m.\u001b[0m\u001b[0mtraining_epochs\u001b[0m\u001b[0;34m)\u001b[0m\u001b[0;34m:\u001b[0m\u001b[0;34m\u001b[0m\u001b[0m\n\u001b[0;32m--> 167\u001b[0;31m             \u001b[0mloss\u001b[0m\u001b[0;34m,\u001b[0m \u001b[0mduration\u001b[0m \u001b[0;34m=\u001b[0m \u001b[0mself\u001b[0m\u001b[0;34m.\u001b[0m\u001b[0m_single_epoch_train\u001b[0m\u001b[0;34m(\u001b[0m\u001b[0mtrain_data\u001b[0m\u001b[0;34m,\u001b[0m \u001b[0mc\u001b[0m\u001b[0;34m)\u001b[0m\u001b[0;34m\u001b[0m\u001b[0m\n\u001b[0m\u001b[1;32m    168\u001b[0m             \u001b[0mepoch\u001b[0m \u001b[0;34m=\u001b[0m \u001b[0mint\u001b[0m\u001b[0;34m(\u001b[0m\u001b[0mself\u001b[0m\u001b[0;34m.\u001b[0m\u001b[0msess\u001b[0m\u001b[0;34m.\u001b[0m\u001b[0mrun\u001b[0m\u001b[0;34m(\u001b[0m\u001b[0mself\u001b[0m\u001b[0;34m.\u001b[0m\u001b[0mepoch\u001b[0m\u001b[0;34m.\u001b[0m\u001b[0massign_add\u001b[0m\u001b[0;34m(\u001b[0m\u001b[0mtf\u001b[0m\u001b[0;34m.\u001b[0m\u001b[0mconstant\u001b[0m\u001b[0;34m(\u001b[0m\u001b[0;36m1.0\u001b[0m\u001b[0;34m)\u001b[0m\u001b[0;34m)\u001b[0m\u001b[0;34m)\u001b[0m\u001b[0;34m)\u001b[0m\u001b[0;34m\u001b[0m\u001b[0m\n\u001b[1;32m    169\u001b[0m             \u001b[0mstats\u001b[0m\u001b[0;34m.\u001b[0m\u001b[0mappend\u001b[0m\u001b[0;34m(\u001b[0m\u001b[0;34m(\u001b[0m\u001b[0mepoch\u001b[0m\u001b[0;34m,\u001b[0m \u001b[0mloss\u001b[0m\u001b[0;34m,\u001b[0m \u001b[0mduration\u001b[0m\u001b[0;34m)\u001b[0m\u001b[0;34m)\u001b[0m\u001b[0;34m\u001b[0m\u001b[0m\n",
      "\u001b[0;32m/orions4-zfs/projects/lins2/Panos_Space/Git_Repos/tf_lab/point_clouds/point_net_ae.pyc\u001b[0m in \u001b[0;36m_single_epoch_train\u001b[0;34m(self, train_data, configuration)\u001b[0m\n\u001b[1;32m     92\u001b[0m \u001b[0;34m\u001b[0m\u001b[0m\n\u001b[1;32m     93\u001b[0m             \u001b[0;32mif\u001b[0m \u001b[0mself\u001b[0m\u001b[0;34m.\u001b[0m\u001b[0mis_denoising\u001b[0m\u001b[0;34m:\u001b[0m\u001b[0;34m\u001b[0m\u001b[0m\n\u001b[0;32m---> 94\u001b[0;31m                 \u001b[0mloss\u001b[0m\u001b[0;34m,\u001b[0m \u001b[0m_\u001b[0m \u001b[0;34m=\u001b[0m \u001b[0mself\u001b[0m\u001b[0;34m.\u001b[0m\u001b[0mpartial_fit\u001b[0m\u001b[0;34m(\u001b[0m\u001b[0mbatch_i\u001b[0m\u001b[0;34m,\u001b[0m \u001b[0moriginal_data\u001b[0m\u001b[0;34m)\u001b[0m\u001b[0;34m\u001b[0m\u001b[0m\n\u001b[0m\u001b[1;32m     95\u001b[0m             \u001b[0;32melse\u001b[0m\u001b[0;34m:\u001b[0m\u001b[0;34m\u001b[0m\u001b[0m\n\u001b[1;32m     96\u001b[0m                 \u001b[0mloss\u001b[0m\u001b[0;34m,\u001b[0m \u001b[0m_\u001b[0m \u001b[0;34m=\u001b[0m \u001b[0mself\u001b[0m\u001b[0;34m.\u001b[0m\u001b[0mpartial_fit\u001b[0m\u001b[0;34m(\u001b[0m\u001b[0mbatch_i\u001b[0m\u001b[0;34m)\u001b[0m\u001b[0;34m\u001b[0m\u001b[0m\n",
      "\u001b[0;32m/orions4-zfs/projects/lins2/Panos_Space/Git_Repos/tf_lab/point_clouds/autoencoder.pyc\u001b[0m in \u001b[0;36mpartial_fit\u001b[0;34m(self, X, GT)\u001b[0m\n\u001b[1;32m    127\u001b[0m         '''\n\u001b[1;32m    128\u001b[0m         \u001b[0;32mif\u001b[0m \u001b[0mGT\u001b[0m \u001b[0;32mis\u001b[0m \u001b[0;32mnot\u001b[0m \u001b[0mNone\u001b[0m\u001b[0;34m:\u001b[0m\u001b[0;34m\u001b[0m\u001b[0m\n\u001b[0;32m--> 129\u001b[0;31m             \u001b[0m_\u001b[0m\u001b[0;34m,\u001b[0m \u001b[0mloss\u001b[0m\u001b[0;34m,\u001b[0m \u001b[0mrecon\u001b[0m \u001b[0;34m=\u001b[0m \u001b[0mself\u001b[0m\u001b[0;34m.\u001b[0m\u001b[0msess\u001b[0m\u001b[0;34m.\u001b[0m\u001b[0mrun\u001b[0m\u001b[0;34m(\u001b[0m\u001b[0;34m(\u001b[0m\u001b[0mself\u001b[0m\u001b[0;34m.\u001b[0m\u001b[0moptimizer\u001b[0m\u001b[0;34m,\u001b[0m \u001b[0mself\u001b[0m\u001b[0;34m.\u001b[0m\u001b[0mloss\u001b[0m\u001b[0;34m,\u001b[0m \u001b[0mself\u001b[0m\u001b[0;34m.\u001b[0m\u001b[0mx_reconstr\u001b[0m\u001b[0;34m)\u001b[0m\u001b[0;34m,\u001b[0m \u001b[0mfeed_dict\u001b[0m\u001b[0;34m=\u001b[0m\u001b[0;34m{\u001b[0m\u001b[0mself\u001b[0m\u001b[0;34m.\u001b[0m\u001b[0mx\u001b[0m\u001b[0;34m:\u001b[0m \u001b[0mX\u001b[0m\u001b[0;34m,\u001b[0m \u001b[0mself\u001b[0m\u001b[0;34m.\u001b[0m\u001b[0mgt\u001b[0m\u001b[0;34m:\u001b[0m \u001b[0mGT\u001b[0m\u001b[0;34m}\u001b[0m\u001b[0;34m)\u001b[0m\u001b[0;34m\u001b[0m\u001b[0m\n\u001b[0m\u001b[1;32m    130\u001b[0m         \u001b[0;32melse\u001b[0m\u001b[0;34m:\u001b[0m\u001b[0;34m\u001b[0m\u001b[0m\n\u001b[1;32m    131\u001b[0m             \u001b[0m_\u001b[0m\u001b[0;34m,\u001b[0m \u001b[0mloss\u001b[0m\u001b[0;34m,\u001b[0m \u001b[0mrecon\u001b[0m \u001b[0;34m=\u001b[0m \u001b[0mself\u001b[0m\u001b[0;34m.\u001b[0m\u001b[0msess\u001b[0m\u001b[0;34m.\u001b[0m\u001b[0mrun\u001b[0m\u001b[0;34m(\u001b[0m\u001b[0;34m(\u001b[0m\u001b[0mself\u001b[0m\u001b[0;34m.\u001b[0m\u001b[0moptimizer\u001b[0m\u001b[0;34m,\u001b[0m \u001b[0mself\u001b[0m\u001b[0;34m.\u001b[0m\u001b[0mloss\u001b[0m\u001b[0;34m,\u001b[0m \u001b[0mself\u001b[0m\u001b[0;34m.\u001b[0m\u001b[0mx_reconstr\u001b[0m\u001b[0;34m)\u001b[0m\u001b[0;34m,\u001b[0m \u001b[0mfeed_dict\u001b[0m\u001b[0;34m=\u001b[0m\u001b[0;34m{\u001b[0m\u001b[0mself\u001b[0m\u001b[0;34m.\u001b[0m\u001b[0mx\u001b[0m\u001b[0;34m:\u001b[0m \u001b[0mX\u001b[0m\u001b[0;34m}\u001b[0m\u001b[0;34m)\u001b[0m\u001b[0;34m\u001b[0m\u001b[0m\n",
      "\u001b[0;32m/usr/local/lib/python2.7/dist-packages/tensorflow/python/client/session.pyc\u001b[0m in \u001b[0;36mrun\u001b[0;34m(self, fetches, feed_dict, options, run_metadata)\u001b[0m\n\u001b[1;32m    764\u001b[0m     \u001b[0;32mtry\u001b[0m\u001b[0;34m:\u001b[0m\u001b[0;34m\u001b[0m\u001b[0m\n\u001b[1;32m    765\u001b[0m       result = self._run(None, fetches, feed_dict, options_ptr,\n\u001b[0;32m--> 766\u001b[0;31m                          run_metadata_ptr)\n\u001b[0m\u001b[1;32m    767\u001b[0m       \u001b[0;32mif\u001b[0m \u001b[0mrun_metadata\u001b[0m\u001b[0;34m:\u001b[0m\u001b[0;34m\u001b[0m\u001b[0m\n\u001b[1;32m    768\u001b[0m         \u001b[0mproto_data\u001b[0m \u001b[0;34m=\u001b[0m \u001b[0mtf_session\u001b[0m\u001b[0;34m.\u001b[0m\u001b[0mTF_GetBuffer\u001b[0m\u001b[0;34m(\u001b[0m\u001b[0mrun_metadata_ptr\u001b[0m\u001b[0;34m)\u001b[0m\u001b[0;34m\u001b[0m\u001b[0m\n",
      "\u001b[0;32m/usr/local/lib/python2.7/dist-packages/tensorflow/python/client/session.pyc\u001b[0m in \u001b[0;36m_run\u001b[0;34m(self, handle, fetches, feed_dict, options, run_metadata)\u001b[0m\n\u001b[1;32m    962\u001b[0m     \u001b[0;32mif\u001b[0m \u001b[0mfinal_fetches\u001b[0m \u001b[0;32mor\u001b[0m \u001b[0mfinal_targets\u001b[0m\u001b[0;34m:\u001b[0m\u001b[0;34m\u001b[0m\u001b[0m\n\u001b[1;32m    963\u001b[0m       results = self._do_run(handle, final_targets, final_fetches,\n\u001b[0;32m--> 964\u001b[0;31m                              feed_dict_string, options, run_metadata)\n\u001b[0m\u001b[1;32m    965\u001b[0m     \u001b[0;32melse\u001b[0m\u001b[0;34m:\u001b[0m\u001b[0;34m\u001b[0m\u001b[0m\n\u001b[1;32m    966\u001b[0m       \u001b[0mresults\u001b[0m \u001b[0;34m=\u001b[0m \u001b[0;34m[\u001b[0m\u001b[0;34m]\u001b[0m\u001b[0;34m\u001b[0m\u001b[0m\n",
      "\u001b[0;32m/usr/local/lib/python2.7/dist-packages/tensorflow/python/client/session.pyc\u001b[0m in \u001b[0;36m_do_run\u001b[0;34m(self, handle, target_list, fetch_list, feed_dict, options, run_metadata)\u001b[0m\n\u001b[1;32m   1012\u001b[0m     \u001b[0;32mif\u001b[0m \u001b[0mhandle\u001b[0m \u001b[0;32mis\u001b[0m \u001b[0mNone\u001b[0m\u001b[0;34m:\u001b[0m\u001b[0;34m\u001b[0m\u001b[0m\n\u001b[1;32m   1013\u001b[0m       return self._do_call(_run_fn, self._session, feed_dict, fetch_list,\n\u001b[0;32m-> 1014\u001b[0;31m                            target_list, options, run_metadata)\n\u001b[0m\u001b[1;32m   1015\u001b[0m     \u001b[0;32melse\u001b[0m\u001b[0;34m:\u001b[0m\u001b[0;34m\u001b[0m\u001b[0m\n\u001b[1;32m   1016\u001b[0m       return self._do_call(_prun_fn, self._session, handle, feed_dict,\n",
      "\u001b[0;32m/usr/local/lib/python2.7/dist-packages/tensorflow/python/client/session.pyc\u001b[0m in \u001b[0;36m_do_call\u001b[0;34m(self, fn, *args)\u001b[0m\n\u001b[1;32m   1019\u001b[0m   \u001b[0;32mdef\u001b[0m \u001b[0m_do_call\u001b[0m\u001b[0;34m(\u001b[0m\u001b[0mself\u001b[0m\u001b[0;34m,\u001b[0m \u001b[0mfn\u001b[0m\u001b[0;34m,\u001b[0m \u001b[0;34m*\u001b[0m\u001b[0margs\u001b[0m\u001b[0;34m)\u001b[0m\u001b[0;34m:\u001b[0m\u001b[0;34m\u001b[0m\u001b[0m\n\u001b[1;32m   1020\u001b[0m     \u001b[0;32mtry\u001b[0m\u001b[0;34m:\u001b[0m\u001b[0;34m\u001b[0m\u001b[0m\n\u001b[0;32m-> 1021\u001b[0;31m       \u001b[0;32mreturn\u001b[0m \u001b[0mfn\u001b[0m\u001b[0;34m(\u001b[0m\u001b[0;34m*\u001b[0m\u001b[0margs\u001b[0m\u001b[0;34m)\u001b[0m\u001b[0;34m\u001b[0m\u001b[0m\n\u001b[0m\u001b[1;32m   1022\u001b[0m     \u001b[0;32mexcept\u001b[0m \u001b[0merrors\u001b[0m\u001b[0;34m.\u001b[0m\u001b[0mOpError\u001b[0m \u001b[0;32mas\u001b[0m \u001b[0me\u001b[0m\u001b[0;34m:\u001b[0m\u001b[0;34m\u001b[0m\u001b[0m\n\u001b[1;32m   1023\u001b[0m       \u001b[0mmessage\u001b[0m \u001b[0;34m=\u001b[0m \u001b[0mcompat\u001b[0m\u001b[0;34m.\u001b[0m\u001b[0mas_text\u001b[0m\u001b[0;34m(\u001b[0m\u001b[0me\u001b[0m\u001b[0;34m.\u001b[0m\u001b[0mmessage\u001b[0m\u001b[0;34m)\u001b[0m\u001b[0;34m\u001b[0m\u001b[0m\n",
      "\u001b[0;32m/usr/local/lib/python2.7/dist-packages/tensorflow/python/client/session.pyc\u001b[0m in \u001b[0;36m_run_fn\u001b[0;34m(session, feed_dict, fetch_list, target_list, options, run_metadata)\u001b[0m\n\u001b[1;32m   1001\u001b[0m         return tf_session.TF_Run(session, options,\n\u001b[1;32m   1002\u001b[0m                                  \u001b[0mfeed_dict\u001b[0m\u001b[0;34m,\u001b[0m \u001b[0mfetch_list\u001b[0m\u001b[0;34m,\u001b[0m \u001b[0mtarget_list\u001b[0m\u001b[0;34m,\u001b[0m\u001b[0;34m\u001b[0m\u001b[0m\n\u001b[0;32m-> 1003\u001b[0;31m                                  status, run_metadata)\n\u001b[0m\u001b[1;32m   1004\u001b[0m \u001b[0;34m\u001b[0m\u001b[0m\n\u001b[1;32m   1005\u001b[0m     \u001b[0;32mdef\u001b[0m \u001b[0m_prun_fn\u001b[0m\u001b[0;34m(\u001b[0m\u001b[0msession\u001b[0m\u001b[0;34m,\u001b[0m \u001b[0mhandle\u001b[0m\u001b[0;34m,\u001b[0m \u001b[0mfeed_dict\u001b[0m\u001b[0;34m,\u001b[0m \u001b[0mfetch_list\u001b[0m\u001b[0;34m)\u001b[0m\u001b[0;34m:\u001b[0m\u001b[0;34m\u001b[0m\u001b[0m\n",
      "\u001b[0;31mKeyboardInterrupt\u001b[0m: "
     ]
    }
   ],
   "source": [
    "training_stats = []\n",
    "if do_training:\n",
    "    training_stats.append(ae.train(train_data, conf))"
   ]
  },
  {
   "cell_type": "code",
   "execution_count": 12,
   "metadata": {
    "collapsed": false
   },
   "outputs": [
    {
     "data": {
      "text/plain": [
       "80"
      ]
     },
     "execution_count": 12,
     "metadata": {},
     "output_type": "execute_result"
    }
   ],
   "source": [
    "if do_evaluation:\n",
    "    # Pick the epoch that minimizes the loss on the validation dataset.\n",
    "    n_epochs = 20 # Consider only 'n_epochs' equally spaced epochs from those that are saved.\n",
    "    saved_epochs = np.array(read_saved_epochs(conf.train_dir))\n",
    "    allowable_epochs = saved_epochs[saved_epochs <= max_evaluation_epochs]\n",
    "    allowable_epochs = select_first_last_and_k(allowable_epochs, n_epochs-2)\n",
    "    val_stats = eval_model(ae, conf, val_data, epochs=allowable_epochs, verbose=True)\n",
    "    val_loss = np.min(val_stats[:,1])\n",
    "    best_epoch = int(val_stats[np.argmin(val_stats[:,1]), 0])\n",
    "    print 'Best epoch = %d.' % (best_epoch,) \n",
    "        \n",
    "    ae.restore_model(conf.train_dir, best_epoch)\n",
    "    top_save_dir = osp.join(conf.train_dir, 'output', 'epoch_' + str(best_epoch))\n",
    "    save_dir = osp.join(top_save_dir, 'test_predictions')\n",
    "    test_recon, test_loss, test_feed, test_ids, test_gt = ae.evaluate(test_data, conf)\n",
    "    save_reconstructions(save_dir, test_recon, test_gt, test_feed, test_ids) # save ply files of test data.    \n",
    "    train_loss = ae.evaluate(train_data, conf)[1]\n",
    "    \n",
    "    # Report Accuracy and Coverage of test data.\n",
    "    n_examples = len(test_recon)\n",
    "    pred_scores = np.zeros((n_examples, 2))\n",
    "    for i in xrange(n_examples):\n",
    "        gt = test_gt[i]\n",
    "        pred = test_recon[i]    \n",
    "        pred_scores[i, 0] = accuracy_of_completion(pred, gt, thres=0.02, ret_dists=False)\n",
    "        pred_scores[i, 1] = coverage_of_completion(gt, pred, thres=0.02, ret_dists=False)\n",
    "    \n",
    "    print 'Test Median-Accuracy-Coverage:', np.median(pred_scores[:, 0]), np.median(pred_scores[:, 1])\n",
    "    \n",
    "    with open(osp.join(top_save_dir, 'stats.txt'), 'w') as fout:\n",
    "        fout.write('Best Validation Epoch = %d\\n' % (best_epoch))\n",
    "        fout.write('Validation loss = %f\\n' % (val_loss))\n",
    "        fout.write('Train loss = %f\\n' % (train_loss))\n",
    "        fout.write('Test loss = %f\\n' % (test_loss))\n",
    "        fout.write('Gen. Error (abs, per) = %f %f\\n' % (abs(test_loss-train_loss),  abs(test_loss-train_loss) / train_loss ))\n",
    "        fout.write('Test Median-Accuracy-Coverage = %f %f\\n' % (np.median(pred_scores[:, 0]), np.median(pred_scores[:, 1])))\n",
    "        # TODO - also report the baseline on noisy input."
   ]
  },
  {
   "cell_type": "code",
   "execution_count": 11,
   "metadata": {
    "collapsed": true
   },
   "outputs": [],
   "source": [
    "import sklearn"
   ]
  }
 ],
 "metadata": {
  "kernelspec": {
   "display_name": "Python 2",
   "language": "python",
   "name": "python2"
  },
  "language_info": {
   "codemirror_mode": {
    "name": "ipython",
    "version": 2
   },
   "file_extension": ".py",
   "mimetype": "text/x-python",
   "name": "python",
   "nbconvert_exporter": "python",
   "pygments_lexer": "ipython2",
   "version": "2.7.6"
  }
 },
 "nbformat": 4,
 "nbformat_minor": 0
}
