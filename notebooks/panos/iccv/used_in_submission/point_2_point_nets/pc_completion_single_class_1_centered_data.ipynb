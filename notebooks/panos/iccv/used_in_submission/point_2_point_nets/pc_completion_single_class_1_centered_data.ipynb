{
 "cells": [
  {
   "cell_type": "code",
   "execution_count": 1,
   "metadata": {
    "collapsed": false,
    "deletable": true,
    "editable": true
   },
   "outputs": [
    {
     "name": "stdout",
     "output_type": "stream",
     "text": [
      "Picking GPU 3\n"
     ]
    }
   ],
   "source": [
    "from general_tools.notebook.gpu_utils import setup_one_gpu\n",
    "GPU = 3\n",
    "setup_one_gpu(GPU)"
   ]
  },
  {
   "cell_type": "code",
   "execution_count": 2,
   "metadata": {
    "collapsed": false,
    "deletable": true,
    "editable": true
   },
   "outputs": [
    {
     "name": "stderr",
     "output_type": "stream",
     "text": [
      "/usr/local/lib/python2.7/dist-packages/matplotlib/font_manager.py:273: UserWarning: Matplotlib is building the font cache using fc-list. This may take a moment.\n",
      "  warnings.warn('Matplotlib is building the font cache using fc-list. This may take a moment.')\n"
     ]
    }
   ],
   "source": [
    "import sys\n",
    "import time\n",
    "import numpy as np\n",
    "import os.path as osp\n",
    "import tensorflow as tf\n",
    "import matplotlib.pyplot as plt\n",
    "from scipy.stats import hmean\n",
    "\n",
    "from general_tools.notebook.tf import reset_tf_graph\n",
    "\n",
    "import tf_lab.point_clouds.in_out as pio\n",
    "from tf_lab.point_clouds.in_out import PointCloudDataSet, write_model_ids_of_datasets\n",
    "from tf_lab.point_clouds.point_net_ae import PointNetAutoEncoder\n",
    "from tf_lab.point_clouds.autoencoder import Configuration as Conf\n",
    "import tf_lab.point_clouds.encoders_decoders as enc_dec\n",
    "\n",
    "\n",
    "from tf_lab.autopredictors.scripts.helper import shape_net_category_to_synth_id, points_extension, \\\n",
    "                                                 shape_net_core_synth_id_to_category\n",
    "\n",
    "from tf_lab.autopredictors.plotting import plot_original_pclouds_vs_reconstructed, \\\n",
    "                                           plot_train_val_test_curves, plot_reconstructions_at_epoch\n",
    "\n",
    "from tf_lab.autopredictors.evaluate import eval_model, read_saved_epochs, accuracy_of_completion, \\\n",
    "                                           coverage_of_completion, save_reconstructions, \\\n",
    "                                           save_pc_prediction_stats, \\\n",
    "                                           paper_pc_completion_experiment_id_best_epoch\n",
    "                                           \n",
    "                                                  \n",
    "\n",
    "from general_tools.in_out.basics import create_dir, delete_files_in_directory, files_in_subdirs\n",
    "from general_tools.simpletons import select_first_last_and_k\n",
    "from geo_tool import Point_Cloud\n",
    "\n",
    "\n",
    "from tf_lab.autopredictors.scripts.virt_scan_data import load_partial_pointclouds\n",
    "import tf_lab.autopredictors.scripts.virt_scan_data as vscan\n",
    "from general_tools.simpletons import indices_in_iterable\n",
    "\n",
    "from tf_lab.nips.helper import pclouds_centered_and_half_sphere\n"
   ]
  },
  {
   "cell_type": "code",
   "execution_count": 3,
   "metadata": {
    "collapsed": false,
    "deletable": true,
    "editable": true
   },
   "outputs": [],
   "source": [
    "%load_ext autoreload\n",
    "%autoreload 2\n",
    "%matplotlib inline"
   ]
  },
  {
   "cell_type": "code",
   "execution_count": 4,
   "metadata": {
    "collapsed": false,
    "deletable": true,
    "editable": true
   },
   "outputs": [
    {
     "name": "stdout",
     "output_type": "stream",
     "text": [
      "Give me the class type: chair\n",
      "Give the experiment ID: 5\n"
     ]
    }
   ],
   "source": [
    "class_type = raw_input('Give me the class type: ').lower()\n",
    "class_syn_id = shape_net_category_to_synth_id()[class_type]\n",
    "\n",
    "loss = 'chamfer'\n",
    "incomplete_n_samples = 2048\n",
    "complete_n_samples = 4096\n",
    "max_training_epochs = 200\n",
    "\n",
    "do_training = True\n",
    "load_model = False\n",
    "do_evaluation = True\n",
    "do_detailed_plotting = False\n",
    "\n",
    "experiment_id = int(raw_input('Give the experiment ID: '))\n",
    "\n",
    "\n",
    "experiment_name = str(experiment_id) + '_' + class_type + '_' + str(incomplete_n_samples) + '_' \\\n",
    "                  + str(complete_n_samples) + 'pts_' + loss\n",
    "\n",
    "\n",
    "top_data_dir = '/orions4-zfs/projects/lins2/Panos_Space/DATA/'\n",
    "\n",
    "complete_pclouds_path = osp.join(top_data_dir, 'Point_Clouds/Shape_Net/Core/from_manifold_meshes/raw', \\\n",
    "                             str(complete_n_samples), class_syn_id)\n",
    "\n",
    "partial_pclouds_path = osp.join(top_data_dir, 'Point_Clouds/Partial_PCs/Angela_synthetic', str(incomplete_n_samples))\n",
    "\n",
    "n_input = [incomplete_n_samples, 3]\n",
    "n_output = [complete_n_samples, 3]\n",
    "\n",
    "train_dir = osp.join(top_data_dir, 'OUT/iccv/nn_models/testing')\n",
    "train_dir = osp.join(train_dir, experiment_name)\n",
    "create_dir(train_dir)\n",
    "\n",
    "max_evaluation_epochs = max_training_epochs"
   ]
  },
  {
   "cell_type": "code",
   "execution_count": 5,
   "metadata": {
    "collapsed": false,
    "deletable": true,
    "editable": true
   },
   "outputs": [],
   "source": [
    "seed = 42\n",
    "np.random.seed(seed)\n",
    "tf.set_random_seed(seed)"
   ]
  },
  {
   "cell_type": "code",
   "execution_count": 6,
   "metadata": {
    "collapsed": false,
    "deletable": true,
    "editable": true
   },
   "outputs": [
    {
     "name": "stdout",
     "output_type": "stream",
     "text": [
      "6778 files containing complete point clouds were found.\n"
     ]
    }
   ],
   "source": [
    "cmpl_file_names = pio.load_filenames_of_input_data(complete_pclouds_path, points_extension)\n",
    "cmpl_pclouds, cmpl_model_names, cmpl_syn_ids = pio.load_crude_point_clouds(file_names=cmpl_file_names, n_threads=40)\n",
    "assert(len(np.unique(cmpl_syn_ids)) == 1)\n",
    "print '%d files containing complete point clouds were found.' % (len(cmpl_pclouds), )\n",
    "\n",
    "#NEW IDEA\n",
    "cmpl_pclouds = pclouds_centered_and_half_sphere(cmpl_pclouds)"
   ]
  },
  {
   "cell_type": "code",
   "execution_count": 7,
   "metadata": {
    "collapsed": false,
    "deletable": true,
    "editable": true
   },
   "outputs": [
    {
     "name": "stdout",
     "output_type": "stream",
     "text": [
      "30000 partial point clouds were loaded.\n"
     ]
    }
   ],
   "source": [
    "train_list = '/orions4-zfs/projects/lins2/Panos_Space/DATA/From_Matthias/train_test_splits/train_models_with_scan_id.txt'\n",
    "partial_pclouds, partial_model_ids, partial_syn_ids = load_partial_pointclouds(train_list, partial_pclouds_path, \n",
    "                                                                               50, class_restriction=class_syn_id)\n",
    "\n",
    "\n",
    "partial_pclouds = pclouds_centered_and_half_sphere(partial_pclouds)\n",
    "partial_model_names = np.array([i[0] for i in partial_model_ids], dtype=object)\n",
    "partial_scan_ids = np.array([i[1] for i in partial_model_ids], dtype=object)\n",
    "partial_unames = np.array(partial_model_names + '.' + partial_scan_ids + '.' + partial_syn_ids, dtype=object)\n",
    "\n",
    "matching_index = indices_in_iterable(cmpl_model_names, partial_model_names)\n",
    "assert(np.alltrue(matching_index != -1))\n",
    "full_pclouds_matched = cmpl_pclouds[matching_index]\n",
    "train_data = PointCloudDataSet(full_pclouds_matched, noise=partial_pclouds, labels=partial_unames)\n",
    "train_data, val_data = vscan.make_validation_from_train_data(train_data, 0.05)"
   ]
  },
  {
   "cell_type": "code",
   "execution_count": 8,
   "metadata": {
    "collapsed": false,
    "deletable": true,
    "editable": true
   },
   "outputs": [
    {
     "name": "stdout",
     "output_type": "stream",
     "text": [
      "6000 partial point clouds were loaded.\n"
     ]
    }
   ],
   "source": [
    "test_list = '/orions4-zfs/projects/lins2/Panos_Space/DATA/From_Matthias/train_test_splits/test_models_small_with_scan_id.txt'\n",
    "test_pclouds, test_model_ids, test_syn_ids = load_partial_pointclouds(test_list, partial_pclouds_path, \n",
    "                                                                               50, class_restriction=class_syn_id)\n",
    "\n",
    "test_model_names = np.array([i[0] for i in test_model_ids], dtype=object)\n",
    "test_scan_ids = np.array([i[1] for i in test_model_ids], dtype=object)\n",
    "test_unames = np.array(test_model_names + '.' + test_scan_ids + '.' + test_syn_ids, dtype=object)\n",
    "matching_index = indices_in_iterable(cmpl_model_names, test_model_names)\n",
    "assert(np.alltrue(matching_index != -1))\n",
    "test_data = PointCloudDataSet(cmpl_pclouds[matching_index], noise=test_pclouds, labels=test_unames)"
   ]
  },
  {
   "cell_type": "code",
   "execution_count": 8,
   "metadata": {
    "collapsed": false,
    "deletable": true,
    "editable": true
   },
   "outputs": [],
   "source": [
    "if load_model:\n",
    "    conf = Conf.load(osp.join(train_dir, 'configuration'))\n",
    "    print conf\n",
    "else:    \n",
    "    encoder_args = {'n_filters': [128, 256, 512, 512],\n",
    "                    'filter_sizes': [1, 1, 1, 1],\n",
    "                    'strides': [1, 1, 1, 1],\n",
    "                    'dropout_prob': 0.5\n",
    "                   }\n",
    "    \n",
    "    decoder_args = {'layer_sizes': [1024, np.prod(n_output)]}\n",
    "    \n",
    "    conf = Conf(\n",
    "                n_input = n_input,\n",
    "                n_output = n_output,\n",
    "                denoising = True,\n",
    "                training_epochs = max_training_epochs,\n",
    "                batch_size = 50,\n",
    "                loss = loss,\n",
    "                train_dir = train_dir,\n",
    "                loss_display_step = 1,\n",
    "                saver_step = 1,\n",
    "                learning_rate = 0.0005,\n",
    "                encoder = enc_dec.encoder_with_convs_and_symmetry,\n",
    "                encoder_args = encoder_args,\n",
    "                decoder = enc_dec.decoder_with_fc_only,\n",
    "                decoder_args = decoder_args\n",
    "               )\n",
    "    \n",
    "    conf.experiment_name = experiment_name\n",
    "    conf.save(osp.join(conf.train_dir, 'configuration'))\n",
    "    \n",
    "reset_tf_graph()\n",
    "ae = PointNetAutoEncoder(experiment_name, conf)\n",
    "\n",
    "if load_model:\n",
    "    saved_epochs = read_saved_epochs(conf.train_dir)\n",
    "    last_epoch = saved_epochs[-1]\n",
    "    ae.restore_model(conf.train_dir, last_epoch, verbose=True)"
   ]
  },
  {
   "cell_type": "code",
   "execution_count": null,
   "metadata": {
    "collapsed": true,
    "deletable": true,
    "editable": true
   },
   "outputs": [],
   "source": [
    "### TEST Chair Data of Minhyuk here:\n",
    "\n",
    "\n"
   ]
  },
  {
   "cell_type": "code",
   "execution_count": 9,
   "metadata": {
    "collapsed": false,
    "deletable": true,
    "editable": true
   },
   "outputs": [
    {
     "name": "stdout",
     "output_type": "stream",
     "text": [
      "('Epoch:', '0001', 'training time (minutes)=', '0.9481', 'loss=', '0.002411106')\n",
      "INFO:tensorflow:/orions4-zfs/projects/lins2/Panos_Space/DATA/OUT/iccv/nn_models/testing/5_chair_2048_4096pts_chamfer/models.ckpt-1 is not in all_model_checkpoint_paths. Manually adding it.\n",
      "('Epoch:', '0002', 'training time (minutes)=', '1.1134', 'loss=', '0.001592461')\n",
      "INFO:tensorflow:/orions4-zfs/projects/lins2/Panos_Space/DATA/OUT/iccv/nn_models/testing/5_chair_2048_4096pts_chamfer/models.ckpt-2 is not in all_model_checkpoint_paths. Manually adding it.\n",
      "('Epoch:', '0003', 'training time (minutes)=', '1.1290', 'loss=', '0.001410695')\n",
      "INFO:tensorflow:/orions4-zfs/projects/lins2/Panos_Space/DATA/OUT/iccv/nn_models/testing/5_chair_2048_4096pts_chamfer/models.ckpt-3 is not in all_model_checkpoint_paths. Manually adding it.\n",
      "('Epoch:', '0004', 'training time (minutes)=', '1.1098', 'loss=', '0.001313563')\n",
      "INFO:tensorflow:/orions4-zfs/projects/lins2/Panos_Space/DATA/OUT/iccv/nn_models/testing/5_chair_2048_4096pts_chamfer/models.ckpt-4 is not in all_model_checkpoint_paths. Manually adding it.\n",
      "('Epoch:', '0005', 'training time (minutes)=', '1.1456', 'loss=', '0.001244849')\n",
      "INFO:tensorflow:/orions4-zfs/projects/lins2/Panos_Space/DATA/OUT/iccv/nn_models/testing/5_chair_2048_4096pts_chamfer/models.ckpt-5 is not in all_model_checkpoint_paths. Manually adding it.\n",
      "('Epoch:', '0006', 'training time (minutes)=', '1.0660', 'loss=', '0.001196595')\n",
      "INFO:tensorflow:/orions4-zfs/projects/lins2/Panos_Space/DATA/OUT/iccv/nn_models/testing/5_chair_2048_4096pts_chamfer/models.ckpt-6 is not in all_model_checkpoint_paths. Manually adding it.\n"
     ]
    },
    {
     "ename": "KeyboardInterrupt",
     "evalue": "",
     "output_type": "error",
     "traceback": [
      "\u001b[0;31m---------------------------------------------------------------------------\u001b[0m",
      "\u001b[0;31mKeyboardInterrupt\u001b[0m                         Traceback (most recent call last)",
      "\u001b[0;32m<ipython-input-9-a3450cc375b8>\u001b[0m in \u001b[0;36m<module>\u001b[0;34m()\u001b[0m\n\u001b[1;32m      2\u001b[0m     \u001b[0mbuf_size\u001b[0m \u001b[0;34m=\u001b[0m \u001b[0;36m1\u001b[0m \u001b[0;31m# flush each line\u001b[0m\u001b[0;34m\u001b[0m\u001b[0m\n\u001b[1;32m      3\u001b[0m     \u001b[0mfout\u001b[0m \u001b[0;34m=\u001b[0m \u001b[0mopen\u001b[0m\u001b[0;34m(\u001b[0m\u001b[0mosp\u001b[0m\u001b[0;34m.\u001b[0m\u001b[0mjoin\u001b[0m\u001b[0;34m(\u001b[0m\u001b[0mconf\u001b[0m\u001b[0;34m.\u001b[0m\u001b[0mtrain_dir\u001b[0m\u001b[0;34m,\u001b[0m \u001b[0;34m'train_stats.txt'\u001b[0m\u001b[0;34m)\u001b[0m\u001b[0;34m,\u001b[0m \u001b[0;34m'a'\u001b[0m\u001b[0;34m,\u001b[0m \u001b[0mbuf_size\u001b[0m\u001b[0;34m)\u001b[0m\u001b[0;34m\u001b[0m\u001b[0m\n\u001b[0;32m----> 4\u001b[0;31m     \u001b[0mae\u001b[0m\u001b[0;34m.\u001b[0m\u001b[0mtrain\u001b[0m\u001b[0;34m(\u001b[0m\u001b[0mtrain_data\u001b[0m\u001b[0;34m,\u001b[0m \u001b[0mconf\u001b[0m\u001b[0;34m,\u001b[0m \u001b[0mlog_file\u001b[0m\u001b[0;34m=\u001b[0m\u001b[0mfout\u001b[0m\u001b[0;34m)\u001b[0m\u001b[0;34m\u001b[0m\u001b[0m\n\u001b[0m\u001b[1;32m      5\u001b[0m     \u001b[0mfout\u001b[0m\u001b[0;34m.\u001b[0m\u001b[0mclose\u001b[0m\u001b[0;34m(\u001b[0m\u001b[0;34m)\u001b[0m\u001b[0;34m\u001b[0m\u001b[0m\n",
      "\u001b[0;32m/orions4-zfs/projects/lins2/Panos_Space/Git_Repos/tf_lab/point_clouds/autoencoder.pyc\u001b[0m in \u001b[0;36mtrain\u001b[0;34m(self, train_data, configuration, log_file)\u001b[0m\n\u001b[1;32m    175\u001b[0m \u001b[0;34m\u001b[0m\u001b[0m\n\u001b[1;32m    176\u001b[0m         \u001b[0;32mfor\u001b[0m \u001b[0m_\u001b[0m \u001b[0;32min\u001b[0m \u001b[0mxrange\u001b[0m\u001b[0;34m(\u001b[0m\u001b[0mc\u001b[0m\u001b[0;34m.\u001b[0m\u001b[0mtraining_epochs\u001b[0m\u001b[0;34m)\u001b[0m\u001b[0;34m:\u001b[0m\u001b[0;34m\u001b[0m\u001b[0m\n\u001b[0;32m--> 177\u001b[0;31m             \u001b[0mloss\u001b[0m\u001b[0;34m,\u001b[0m \u001b[0mduration\u001b[0m \u001b[0;34m=\u001b[0m \u001b[0mself\u001b[0m\u001b[0;34m.\u001b[0m\u001b[0m_single_epoch_train\u001b[0m\u001b[0;34m(\u001b[0m\u001b[0mtrain_data\u001b[0m\u001b[0;34m,\u001b[0m \u001b[0mc\u001b[0m\u001b[0;34m)\u001b[0m\u001b[0;34m\u001b[0m\u001b[0m\n\u001b[0m\u001b[1;32m    178\u001b[0m             \u001b[0mepoch\u001b[0m \u001b[0;34m=\u001b[0m \u001b[0mint\u001b[0m\u001b[0;34m(\u001b[0m\u001b[0mself\u001b[0m\u001b[0;34m.\u001b[0m\u001b[0msess\u001b[0m\u001b[0;34m.\u001b[0m\u001b[0mrun\u001b[0m\u001b[0;34m(\u001b[0m\u001b[0mself\u001b[0m\u001b[0;34m.\u001b[0m\u001b[0mepoch\u001b[0m\u001b[0;34m.\u001b[0m\u001b[0massign_add\u001b[0m\u001b[0;34m(\u001b[0m\u001b[0mtf\u001b[0m\u001b[0;34m.\u001b[0m\u001b[0mconstant\u001b[0m\u001b[0;34m(\u001b[0m\u001b[0;36m1.0\u001b[0m\u001b[0;34m)\u001b[0m\u001b[0;34m)\u001b[0m\u001b[0;34m)\u001b[0m\u001b[0;34m)\u001b[0m\u001b[0;34m\u001b[0m\u001b[0m\n\u001b[1;32m    179\u001b[0m             \u001b[0mstats\u001b[0m\u001b[0;34m.\u001b[0m\u001b[0mappend\u001b[0m\u001b[0;34m(\u001b[0m\u001b[0;34m(\u001b[0m\u001b[0mepoch\u001b[0m\u001b[0;34m,\u001b[0m \u001b[0mloss\u001b[0m\u001b[0;34m,\u001b[0m \u001b[0mduration\u001b[0m\u001b[0;34m)\u001b[0m\u001b[0;34m)\u001b[0m\u001b[0;34m\u001b[0m\u001b[0m\n",
      "\u001b[0;32m/orions4-zfs/projects/lins2/Panos_Space/Git_Repos/tf_lab/point_clouds/point_net_ae.pyc\u001b[0m in \u001b[0;36m_single_epoch_train\u001b[0;34m(self, train_data, configuration)\u001b[0m\n\u001b[1;32m    110\u001b[0m \u001b[0;34m\u001b[0m\u001b[0m\n\u001b[1;32m    111\u001b[0m             \u001b[0;32mif\u001b[0m \u001b[0mself\u001b[0m\u001b[0;34m.\u001b[0m\u001b[0mis_denoising\u001b[0m\u001b[0;34m:\u001b[0m\u001b[0;34m\u001b[0m\u001b[0m\n\u001b[0;32m--> 112\u001b[0;31m                 \u001b[0mloss\u001b[0m\u001b[0;34m,\u001b[0m \u001b[0m_\u001b[0m \u001b[0;34m=\u001b[0m \u001b[0mself\u001b[0m\u001b[0;34m.\u001b[0m\u001b[0mpartial_fit\u001b[0m\u001b[0;34m(\u001b[0m\u001b[0mbatch_i\u001b[0m\u001b[0;34m,\u001b[0m \u001b[0moriginal_data\u001b[0m\u001b[0;34m)\u001b[0m\u001b[0;34m\u001b[0m\u001b[0m\n\u001b[0m\u001b[1;32m    113\u001b[0m             \u001b[0;32melse\u001b[0m\u001b[0;34m:\u001b[0m\u001b[0;34m\u001b[0m\u001b[0m\n\u001b[1;32m    114\u001b[0m                 \u001b[0mloss\u001b[0m\u001b[0;34m,\u001b[0m \u001b[0m_\u001b[0m \u001b[0;34m=\u001b[0m \u001b[0mself\u001b[0m\u001b[0;34m.\u001b[0m\u001b[0mpartial_fit\u001b[0m\u001b[0;34m(\u001b[0m\u001b[0mbatch_i\u001b[0m\u001b[0;34m)\u001b[0m\u001b[0;34m\u001b[0m\u001b[0m\n",
      "\u001b[0;32m/orions4-zfs/projects/lins2/Panos_Space/Git_Repos/tf_lab/point_clouds/autoencoder.pyc\u001b[0m in \u001b[0;36mpartial_fit\u001b[0;34m(self, X, GT)\u001b[0m\n\u001b[1;32m    127\u001b[0m         '''\n\u001b[1;32m    128\u001b[0m         \u001b[0;32mif\u001b[0m \u001b[0mGT\u001b[0m \u001b[0;32mis\u001b[0m \u001b[0;32mnot\u001b[0m \u001b[0mNone\u001b[0m\u001b[0;34m:\u001b[0m\u001b[0;34m\u001b[0m\u001b[0m\n\u001b[0;32m--> 129\u001b[0;31m             \u001b[0m_\u001b[0m\u001b[0;34m,\u001b[0m \u001b[0mloss\u001b[0m\u001b[0;34m,\u001b[0m \u001b[0mrecon\u001b[0m \u001b[0;34m=\u001b[0m \u001b[0mself\u001b[0m\u001b[0;34m.\u001b[0m\u001b[0msess\u001b[0m\u001b[0;34m.\u001b[0m\u001b[0mrun\u001b[0m\u001b[0;34m(\u001b[0m\u001b[0;34m(\u001b[0m\u001b[0mself\u001b[0m\u001b[0;34m.\u001b[0m\u001b[0moptimizer\u001b[0m\u001b[0;34m,\u001b[0m \u001b[0mself\u001b[0m\u001b[0;34m.\u001b[0m\u001b[0mloss\u001b[0m\u001b[0;34m,\u001b[0m \u001b[0mself\u001b[0m\u001b[0;34m.\u001b[0m\u001b[0mx_reconstr\u001b[0m\u001b[0;34m)\u001b[0m\u001b[0;34m,\u001b[0m \u001b[0mfeed_dict\u001b[0m\u001b[0;34m=\u001b[0m\u001b[0;34m{\u001b[0m\u001b[0mself\u001b[0m\u001b[0;34m.\u001b[0m\u001b[0mx\u001b[0m\u001b[0;34m:\u001b[0m \u001b[0mX\u001b[0m\u001b[0;34m,\u001b[0m \u001b[0mself\u001b[0m\u001b[0;34m.\u001b[0m\u001b[0mgt\u001b[0m\u001b[0;34m:\u001b[0m \u001b[0mGT\u001b[0m\u001b[0;34m}\u001b[0m\u001b[0;34m)\u001b[0m\u001b[0;34m\u001b[0m\u001b[0m\n\u001b[0m\u001b[1;32m    130\u001b[0m         \u001b[0;32melse\u001b[0m\u001b[0;34m:\u001b[0m\u001b[0;34m\u001b[0m\u001b[0m\n\u001b[1;32m    131\u001b[0m             \u001b[0m_\u001b[0m\u001b[0;34m,\u001b[0m \u001b[0mloss\u001b[0m\u001b[0;34m,\u001b[0m \u001b[0mrecon\u001b[0m \u001b[0;34m=\u001b[0m \u001b[0mself\u001b[0m\u001b[0;34m.\u001b[0m\u001b[0msess\u001b[0m\u001b[0;34m.\u001b[0m\u001b[0mrun\u001b[0m\u001b[0;34m(\u001b[0m\u001b[0;34m(\u001b[0m\u001b[0mself\u001b[0m\u001b[0;34m.\u001b[0m\u001b[0moptimizer\u001b[0m\u001b[0;34m,\u001b[0m \u001b[0mself\u001b[0m\u001b[0;34m.\u001b[0m\u001b[0mloss\u001b[0m\u001b[0;34m,\u001b[0m \u001b[0mself\u001b[0m\u001b[0;34m.\u001b[0m\u001b[0mx_reconstr\u001b[0m\u001b[0;34m)\u001b[0m\u001b[0;34m,\u001b[0m \u001b[0mfeed_dict\u001b[0m\u001b[0;34m=\u001b[0m\u001b[0;34m{\u001b[0m\u001b[0mself\u001b[0m\u001b[0;34m.\u001b[0m\u001b[0mx\u001b[0m\u001b[0;34m:\u001b[0m \u001b[0mX\u001b[0m\u001b[0;34m}\u001b[0m\u001b[0;34m)\u001b[0m\u001b[0;34m\u001b[0m\u001b[0m\n",
      "\u001b[0;32m/orions4-zfs/projects/lins2/.local/lib/python2.7/site-packages/tensorflow/python/client/session.pyc\u001b[0m in \u001b[0;36mrun\u001b[0;34m(self, fetches, feed_dict, options, run_metadata)\u001b[0m\n\u001b[1;32m    764\u001b[0m     \u001b[0;32mtry\u001b[0m\u001b[0;34m:\u001b[0m\u001b[0;34m\u001b[0m\u001b[0m\n\u001b[1;32m    765\u001b[0m       result = self._run(None, fetches, feed_dict, options_ptr,\n\u001b[0;32m--> 766\u001b[0;31m                          run_metadata_ptr)\n\u001b[0m\u001b[1;32m    767\u001b[0m       \u001b[0;32mif\u001b[0m \u001b[0mrun_metadata\u001b[0m\u001b[0;34m:\u001b[0m\u001b[0;34m\u001b[0m\u001b[0m\n\u001b[1;32m    768\u001b[0m         \u001b[0mproto_data\u001b[0m \u001b[0;34m=\u001b[0m \u001b[0mtf_session\u001b[0m\u001b[0;34m.\u001b[0m\u001b[0mTF_GetBuffer\u001b[0m\u001b[0;34m(\u001b[0m\u001b[0mrun_metadata_ptr\u001b[0m\u001b[0;34m)\u001b[0m\u001b[0;34m\u001b[0m\u001b[0m\n",
      "\u001b[0;32m/orions4-zfs/projects/lins2/.local/lib/python2.7/site-packages/tensorflow/python/client/session.pyc\u001b[0m in \u001b[0;36m_run\u001b[0;34m(self, handle, fetches, feed_dict, options, run_metadata)\u001b[0m\n\u001b[1;32m    962\u001b[0m     \u001b[0;32mif\u001b[0m \u001b[0mfinal_fetches\u001b[0m \u001b[0;32mor\u001b[0m \u001b[0mfinal_targets\u001b[0m\u001b[0;34m:\u001b[0m\u001b[0;34m\u001b[0m\u001b[0m\n\u001b[1;32m    963\u001b[0m       results = self._do_run(handle, final_targets, final_fetches,\n\u001b[0;32m--> 964\u001b[0;31m                              feed_dict_string, options, run_metadata)\n\u001b[0m\u001b[1;32m    965\u001b[0m     \u001b[0;32melse\u001b[0m\u001b[0;34m:\u001b[0m\u001b[0;34m\u001b[0m\u001b[0m\n\u001b[1;32m    966\u001b[0m       \u001b[0mresults\u001b[0m \u001b[0;34m=\u001b[0m \u001b[0;34m[\u001b[0m\u001b[0;34m]\u001b[0m\u001b[0;34m\u001b[0m\u001b[0m\n",
      "\u001b[0;32m/orions4-zfs/projects/lins2/.local/lib/python2.7/site-packages/tensorflow/python/client/session.pyc\u001b[0m in \u001b[0;36m_do_run\u001b[0;34m(self, handle, target_list, fetch_list, feed_dict, options, run_metadata)\u001b[0m\n\u001b[1;32m   1012\u001b[0m     \u001b[0;32mif\u001b[0m \u001b[0mhandle\u001b[0m \u001b[0;32mis\u001b[0m \u001b[0mNone\u001b[0m\u001b[0;34m:\u001b[0m\u001b[0;34m\u001b[0m\u001b[0m\n\u001b[1;32m   1013\u001b[0m       return self._do_call(_run_fn, self._session, feed_dict, fetch_list,\n\u001b[0;32m-> 1014\u001b[0;31m                            target_list, options, run_metadata)\n\u001b[0m\u001b[1;32m   1015\u001b[0m     \u001b[0;32melse\u001b[0m\u001b[0;34m:\u001b[0m\u001b[0;34m\u001b[0m\u001b[0m\n\u001b[1;32m   1016\u001b[0m       return self._do_call(_prun_fn, self._session, handle, feed_dict,\n",
      "\u001b[0;32m/orions4-zfs/projects/lins2/.local/lib/python2.7/site-packages/tensorflow/python/client/session.pyc\u001b[0m in \u001b[0;36m_do_call\u001b[0;34m(self, fn, *args)\u001b[0m\n\u001b[1;32m   1019\u001b[0m   \u001b[0;32mdef\u001b[0m \u001b[0m_do_call\u001b[0m\u001b[0;34m(\u001b[0m\u001b[0mself\u001b[0m\u001b[0;34m,\u001b[0m \u001b[0mfn\u001b[0m\u001b[0;34m,\u001b[0m \u001b[0;34m*\u001b[0m\u001b[0margs\u001b[0m\u001b[0;34m)\u001b[0m\u001b[0;34m:\u001b[0m\u001b[0;34m\u001b[0m\u001b[0m\n\u001b[1;32m   1020\u001b[0m     \u001b[0;32mtry\u001b[0m\u001b[0;34m:\u001b[0m\u001b[0;34m\u001b[0m\u001b[0m\n\u001b[0;32m-> 1021\u001b[0;31m       \u001b[0;32mreturn\u001b[0m \u001b[0mfn\u001b[0m\u001b[0;34m(\u001b[0m\u001b[0;34m*\u001b[0m\u001b[0margs\u001b[0m\u001b[0;34m)\u001b[0m\u001b[0;34m\u001b[0m\u001b[0m\n\u001b[0m\u001b[1;32m   1022\u001b[0m     \u001b[0;32mexcept\u001b[0m \u001b[0merrors\u001b[0m\u001b[0;34m.\u001b[0m\u001b[0mOpError\u001b[0m \u001b[0;32mas\u001b[0m \u001b[0me\u001b[0m\u001b[0;34m:\u001b[0m\u001b[0;34m\u001b[0m\u001b[0m\n\u001b[1;32m   1023\u001b[0m       \u001b[0mmessage\u001b[0m \u001b[0;34m=\u001b[0m \u001b[0mcompat\u001b[0m\u001b[0;34m.\u001b[0m\u001b[0mas_text\u001b[0m\u001b[0;34m(\u001b[0m\u001b[0me\u001b[0m\u001b[0;34m.\u001b[0m\u001b[0mmessage\u001b[0m\u001b[0;34m)\u001b[0m\u001b[0;34m\u001b[0m\u001b[0m\n",
      "\u001b[0;32m/orions4-zfs/projects/lins2/.local/lib/python2.7/site-packages/tensorflow/python/client/session.pyc\u001b[0m in \u001b[0;36m_run_fn\u001b[0;34m(session, feed_dict, fetch_list, target_list, options, run_metadata)\u001b[0m\n\u001b[1;32m   1001\u001b[0m         return tf_session.TF_Run(session, options,\n\u001b[1;32m   1002\u001b[0m                                  \u001b[0mfeed_dict\u001b[0m\u001b[0;34m,\u001b[0m \u001b[0mfetch_list\u001b[0m\u001b[0;34m,\u001b[0m \u001b[0mtarget_list\u001b[0m\u001b[0;34m,\u001b[0m\u001b[0;34m\u001b[0m\u001b[0m\n\u001b[0;32m-> 1003\u001b[0;31m                                  status, run_metadata)\n\u001b[0m\u001b[1;32m   1004\u001b[0m \u001b[0;34m\u001b[0m\u001b[0m\n\u001b[1;32m   1005\u001b[0m     \u001b[0;32mdef\u001b[0m \u001b[0m_prun_fn\u001b[0m\u001b[0;34m(\u001b[0m\u001b[0msession\u001b[0m\u001b[0;34m,\u001b[0m \u001b[0mhandle\u001b[0m\u001b[0;34m,\u001b[0m \u001b[0mfeed_dict\u001b[0m\u001b[0;34m,\u001b[0m \u001b[0mfetch_list\u001b[0m\u001b[0;34m)\u001b[0m\u001b[0;34m:\u001b[0m\u001b[0;34m\u001b[0m\u001b[0m\n",
      "\u001b[0;31mKeyboardInterrupt\u001b[0m: "
     ]
    }
   ],
   "source": [
    "if do_training:\n",
    "    buf_size = 1 # flush each line\n",
    "    fout = open(osp.join(conf.train_dir, 'train_stats.txt'), 'a', buf_size)\n",
    "    ae.train(train_data, conf, log_file=fout)\n",
    "    fout.close()"
   ]
  },
  {
   "cell_type": "code",
   "execution_count": null,
   "metadata": {
    "collapsed": false,
    "deletable": true,
    "editable": true
   },
   "outputs": [
    {
     "name": "stdout",
     "output_type": "stream",
     "text": [
      "Model restored in epoch 1.\n",
      "[ 0.00120344]\n",
      "Model restored in epoch 6.\n",
      "[ 0.00087116]\n",
      "Model restored in epoch 11.\n",
      "[ 0.00073494]\n",
      "Model restored in epoch 16.\n",
      "[ 0.00071171]\n",
      "Model restored in epoch 21.\n",
      "[ 0.00070676]\n",
      "Model restored in epoch 26.\n",
      "[ 0.00069865]\n",
      "Model restored in epoch 31.\n",
      "[ 0.00069689]\n",
      "Model restored in epoch 36.\n",
      "[ 0.00069957]\n",
      "Model restored in epoch 41.\n",
      "[ 0.00070472]\n",
      "Model restored in epoch 46.\n",
      "[ 0.00070667]\n",
      "Model restored in epoch 51.\n",
      "[ 0.00070646]\n",
      "Model restored in epoch 56.\n",
      "[ 0.00070695]\n",
      "Model restored in epoch 61.\n",
      "[ 0.00071234]\n",
      "Model restored in epoch 66.\n",
      "[ 0.00071503]\n",
      "Model restored in epoch 71.\n",
      "[ 0.00071114]\n",
      "Model restored in epoch 76.\n",
      "[ 0.00071746]\n",
      "Model restored in epoch 81.\n",
      "[ 0.00071841]\n",
      "Model restored in epoch 86.\n",
      "[ 0.00072641]\n",
      "Model restored in epoch 91.\n",
      "[ 0.00072595]\n",
      "Model restored in epoch 96.\n",
      "[ 0.00072427]\n",
      "Model restored in epoch 1.\n",
      "[ 0.00117293]\n",
      "Model restored in epoch 6.\n",
      "[ 0.00077537]\n",
      "Model restored in epoch 11.\n",
      "[ 0.00060461]\n",
      "Model restored in epoch 16.\n",
      "[ 0.00054212]\n",
      "Model restored in epoch 21.\n",
      "[ 0.00050181]\n",
      "Model restored in epoch 26.\n",
      "[ 0.00046813]\n",
      "Model restored in epoch 31.\n",
      "[ 0.00043783]\n",
      "Model restored in epoch 36.\n",
      "[ 0.00041983]\n",
      "Model restored in epoch 41.\n",
      "[ 0.00040431]\n",
      "Model restored in epoch 46.\n",
      "[ 0.00039005]\n",
      "Model restored in epoch 51.\n",
      "[ 0.00037716]\n",
      "Model restored in epoch 56.\n",
      "[ 0.00037153]\n",
      "Model restored in epoch 61.\n",
      "[ 0.00035847]\n",
      "Model restored in epoch 66.\n",
      "[ 0.00035074]\n",
      "Model restored in epoch 71.\n",
      "[ 0.00034477]\n",
      "Model restored in epoch 76.\n",
      "[ 0.00034622]\n",
      "Model restored in epoch 81.\n",
      "[ 0.00033808]\n",
      "Model restored in epoch 86.\n",
      "[ 0.00033911]\n",
      "Model restored in epoch 91.\n",
      "[ 0.00033619]\n",
      "Model restored in epoch 96.\n"
     ]
    }
   ],
   "source": [
    "test_stats = eval_model(ae, conf, test_data, epochs=range(1,100,5), verbose=True)\n",
    "train_stats = eval_model(ae, conf, train_data, epochs=range(1,100,5), verbose=True)\n",
    "\n",
    "fig, ax = plt.subplots()\n",
    "plt.plot(range(1, 100, 5), test_stats[:,1], '--b')\n",
    "plt.plot(range(1, 100, 5), train_stats[:,1], 'r')    \n",
    "plt.legend(['Test Loss', 'Train Loss'])\n",
    "plt.xlabel('Epochs')\n",
    "plt.ylabel('Loss')\n",
    "ax.set_xticks(range(1, 100, 5));"
   ]
  },
  {
   "cell_type": "code",
   "execution_count": 53,
   "metadata": {
    "collapsed": false,
    "deletable": true,
    "editable": true
   },
   "outputs": [
    {
     "name": "stdout",
     "output_type": "stream",
     "text": [
      "Best epoch = 20.\n",
      "Test Median Accuracy-Coverage: 0.886840820312 0.72119140625\n",
      "Test Median H-Measure: 0.794919620573\n"
     ]
    }
   ],
   "source": [
    "best_epoch = 50\n",
    "if do_evaluation:    \n",
    "#     Pick the epoch that minimizes the loss on the validation dataset.\n",
    "#     saved_epochs = np.array(read_saved_epochs(conf.train_dir))\n",
    "#     allowable_epochs = saved_epochs[saved_epochs <= max_evaluation_epochs]\n",
    "#     val_stats = eval_model(ae, conf, val_data, epochs=allowable_epochs, verbose=True)\n",
    "#     val_loss = np.min(val_stats[:,1])\n",
    "#     best_epoch = int(val_stats[np.argmin(val_stats[:,1]), 0])\n",
    "    print 'Best epoch = %d.' % (best_epoch, )\n",
    "    ae.restore_model(conf.train_dir, best_epoch)\n",
    "    top_save_dir = osp.join(conf.train_dir, 'output', 'epoch_' + str(best_epoch))\n",
    "    test_recon, test_loss, test_feed, test_ids, test_gt = ae.evaluate(test_data, conf)\n",
    "    save_dir = osp.join(top_save_dir, 'test_predictions')\n",
    "#     save_reconstructions(save_dir, test_recon, test_gt, test_feed, test_ids) # save ply files of test data.    \n",
    "#     train_loss = ae.evaluate(train_data, conf)[1]\n",
    "    \n",
    "    # Report Accuracy and Coverage of test data.\n",
    "#     n_examples = len(test_recon)\n",
    "    pred_scores = np.zeros((n_examples, 2))\n",
    "    for i in xrange(n_examples):\n",
    "        gt = test_gt[i]\n",
    "        pred = test_recon[i] \n",
    "        pred_scores[i, 0] = accuracy_of_completion(pred, gt, thres=0.02, ret_dists=False)\n",
    "        pred_scores[i, 1] = coverage_of_completion(gt, pred, thres=0.02, ret_dists=False)\n",
    "                \n",
    "    print 'Test Median Accuracy-Coverage:', np.median(pred_scores[:, 0]), np.median(pred_scores[:, 1])\n",
    "    print 'Test Median H-Measure:', np.median(hmean(pred_scores, axis=1))\n",
    "\n",
    "#     save_pc_prediction_stats(osp.join(top_save_dir, 'detailed_stats.txt'), test_ids, pred_scores)\n",
    "    \n",
    "#     with open(osp.join(top_save_dir, 'stats.txt'), 'a') as fout:\n",
    "#         fout.write('Best Validation Epoch = %d\\n' % (best_epoch))\n",
    "#         fout.write('Validation loss = %f\\n' % (val_loss))\n",
    "#         fout.write('Train loss = %f\\n' % (train_loss))\n",
    "#         fout.write('Test loss = %f\\n' % (test_loss))\n",
    "#         fout.write('Gen. Error (abs, per) = %f %f\\n' % (abs(test_loss-train_loss),  abs(test_loss-train_loss) / train_loss ))\n",
    "#         fout.write('Test Median-Accuracy-Coverage = %f %f\\n' % (np.median(pred_scores[:, 0]), np.median(pred_scores[:, 1])))\n",
    "#         fout.write('Test Median Harmonic Mean = %f\\n' % (np.median(hmean(pred_scores, 1))))\n",
    "#         fout.write('Number of distinct Test Models = %d (test_files=%d)\\n' % (n_test_models, test_data.num_examples))    "
   ]
  },
  {
   "cell_type": "code",
   "execution_count": 133,
   "metadata": {
    "collapsed": false,
    "deletable": true,
    "editable": true
   },
   "outputs": [],
   "source": [
    "n_best = 500\n",
    "n_worst = 50\n",
    "\n",
    "if do_detailed_plotting:\n",
    "    plt.ioff()\n",
    "    h_measure = hmean(pred_scores, axis=1)  \n",
    "    sort_ind = np.argsort(h_measure)\n",
    "    worst_n = sort_ind[:n_worst]\n",
    "    best_n = sort_ind[-n_best:]    \n",
    "    \n",
    "    save_dir = osp.join(top_save_dir, str(n_best) +'_best_test_predictions')\n",
    "    create_dir(save_dir)\n",
    "    \n",
    "    for i in xrange(n_best):\n",
    "        good = best_n[i]\n",
    "        gt = test_gt[good]\n",
    "        pred = test_recon[good]   \n",
    "        feed = test_feed[good]\n",
    "        model_name = test_ids[good]\n",
    "\n",
    "        ac_meas, ac_col = accuracy_of_completion(pred, gt, thres=0.02, ret_dists=True)\n",
    "        cov_meas, cov_col = coverage_of_completion(gt, pred, thres=0.02, ret_dists=True)\n",
    "                    \n",
    "        ac_col[ac_col <= 0.02] = 0.021\n",
    "        cov_col[cov_col <= 0.02] = 0.021\n",
    "\n",
    "        feed_fig = plot_3d_point_cloud_paper(Point_Cloud(points=feed), in_u_sphere=True, show=False);        \n",
    "        feed_fig.savefig(osp.join(save_dir, str(i) + '.' + model_name + '.feed.png')); plt.close()\n",
    "\n",
    "        c = ac_col\n",
    "        pred_fig = plot_3d_point_cloud_paper(Point_Cloud(points=pred), c=c, in_u_sphere=True, show=False);\n",
    "        pred_fig.savefig(osp.join(save_dir, str(i) + '.' + model_name + '.prediction.png')); plt.close()\n",
    "\n",
    "        c = cov_col\n",
    "        gt_fig = plot_3d_point_cloud_paper(Point_Cloud(points=gt), c=c, in_u_sphere=True, show=False);\n",
    "        gt_fig.savefig(osp.join(save_dir, str(i) + '.' + model_name + '.gt.png')); plt.close()\n",
    "        \n",
    "    save_dir = osp.join(top_save_dir, str(n_worst) +'_worst_test_predictions')\n",
    "    create_dir(save_dir)\n",
    "    for i in xrange(n_worst):\n",
    "        bad = worst_n[i]\n",
    "        gt = test_gt[bad]\n",
    "        pred = test_recon[bad]   \n",
    "        feed = test_feed[bad]\n",
    "        model_name = test_ids[bad]\n",
    "\n",
    "        ac_meas, ac_col = accuracy_of_completion(pred, gt, thres=0.02, ret_dists=True)\n",
    "        cov_meas, cov_col = coverage_of_completion(gt, pred, thres=0.02, ret_dists=True)\n",
    "                    \n",
    "        ac_col[ac_col <= 0.02] = 0.021\n",
    "        cov_col[cov_col <= 0.02] = 0.021\n",
    "\n",
    "        feed_fig = plot_3d_point_cloud_paper(Point_Cloud(points=feed), in_u_sphere=True, show=False);        \n",
    "        feed_fig.savefig(osp.join(save_dir, str(i) + '.' + model_name + '.feed.png')); plt.close()\n",
    "\n",
    "        c = ac_col\n",
    "        pred_fig = plot_3d_point_cloud_paper(Point_Cloud(points=pred), c=c, in_u_sphere=True, show=False);\n",
    "        pred_fig.savefig(osp.join(save_dir, str(i) + '.' + model_name + '.prediction.png')); plt.close()\n",
    "\n",
    "        c = cov_col\n",
    "        gt_fig = plot_3d_point_cloud_paper(Point_Cloud(points=gt), c=c, in_u_sphere=True, show=False);\n",
    "        gt_fig.savefig(osp.join(save_dir, str(i) + '.' + model_name + '.gt.png')); plt.close()"
   ]
  }
 ],
 "metadata": {
  "kernelspec": {
   "display_name": "Python 2",
   "language": "python",
   "name": "python2"
  },
  "language_info": {
   "codemirror_mode": {
    "name": "ipython",
    "version": 2
   },
   "file_extension": ".py",
   "mimetype": "text/x-python",
   "name": "python",
   "nbconvert_exporter": "python",
   "pygments_lexer": "ipython2",
   "version": "2.7.6"
  }
 },
 "nbformat": 4,
 "nbformat_minor": 0
}
