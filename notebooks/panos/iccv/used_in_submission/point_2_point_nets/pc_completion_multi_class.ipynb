{
 "cells": [
  {
   "cell_type": "code",
   "execution_count": 1,
   "metadata": {
    "collapsed": false
   },
   "outputs": [
    {
     "name": "stdout",
     "output_type": "stream",
     "text": [
      "Picking GPU 3\n"
     ]
    }
   ],
   "source": [
    "from general_tools.notebook.gpu_utils import setup_one_gpu\n",
    "GPU = 3\n",
    "setup_one_gpu(GPU)"
   ]
  },
  {
   "cell_type": "code",
   "execution_count": 2,
   "metadata": {
    "collapsed": false,
    "deletable": true,
    "editable": true
   },
   "outputs": [],
   "source": [
    "import sys\n",
    "import time\n",
    "import numpy as np\n",
    "import os.path as osp\n",
    "import tensorflow as tf\n",
    "import matplotlib.pyplot as plt\n",
    "from scipy.stats import hmean\n",
    "\n",
    "from general_tools.notebook.tf import reset_tf_graph\n",
    "\n",
    "import tf_lab.point_clouds.in_out as pio\n",
    "from tf_lab.point_clouds.in_out import PointCloudDataSet, write_model_ids_of_datasets\n",
    "from tf_lab.point_clouds.point_net_ae import PointNetAutoEncoder\n",
    "from tf_lab.point_clouds.autoencoder import Configuration as Conf\n",
    "import tf_lab.point_clouds.encoders_decoders as enc_dec\n",
    "\n",
    "\n",
    "from tf_lab.autopredictors.scripts.helper import shape_net_category_to_synth_id, points_extension, \\\n",
    "                                                 shape_net_core_synth_id_to_category\n",
    "\n",
    "from tf_lab.autopredictors.plotting import plot_original_pclouds_vs_reconstructed, \\\n",
    "                                           plot_train_val_test_curves, plot_reconstructions_at_epoch\n",
    "\n",
    "from tf_lab.autopredictors.evaluate import eval_model, read_saved_epochs, accuracy_of_completion, \\\n",
    "                                           coverage_of_completion, save_reconstructions, \\\n",
    "                                           save_pc_prediction_stats\n",
    "                                           \n",
    "                                                  \n",
    "from general_tools.in_out.basics import create_dir, files_in_subdirs, pickle_data, unpickle_data\n",
    "from general_tools.simpletons import select_first_last_and_k\n",
    "from general_tools.simpletons import indices_in_iterable\n",
    "\n",
    "from geo_tool import Point_Cloud\n",
    "\n",
    "\n",
    "from tf_lab.autopredictors.scripts.virt_scan_data import load_partial_pointclouds\n",
    "import tf_lab.autopredictors.scripts.virt_scan_data as vscan"
   ]
  },
  {
   "cell_type": "code",
   "execution_count": 3,
   "metadata": {
    "collapsed": false,
    "deletable": true,
    "editable": true
   },
   "outputs": [],
   "source": [
    "%load_ext autoreload\n",
    "%autoreload 2\n",
    "%matplotlib inline"
   ]
  },
  {
   "cell_type": "code",
   "execution_count": 4,
   "metadata": {
    "collapsed": false,
    "deletable": true,
    "editable": true
   },
   "outputs": [
    {
     "name": "stdout",
     "output_type": "stream",
     "text": [
      "Give an experiment tag-ID: original\n"
     ]
    },
    {
     "data": {
      "text/plain": [
       "'/orions4-zfs/projects/lins2/Panos_Space/DATA/OUT/iccv/nn_models/all_classes_in_dai_2048_4096pts_emd_original'"
      ]
     },
     "execution_count": 4,
     "metadata": {},
     "output_type": "execute_result"
    }
   ],
   "source": [
    "loss = 'emd'\n",
    "incomplete_n_samples = 2048\n",
    "complete_n_samples = 4096\n",
    "max_training_epochs = 100\n",
    "do_training = True\n",
    "load_model = False\n",
    "report_cov_and_acc = False\n",
    "do_detailed_plotting = False\n",
    "\n",
    "experiment_tag = raw_input('Give an experiment tag-ID: ')\n",
    "\n",
    "experiment_name = 'all_classes_in_dai' + '_' + str(incomplete_n_samples) + '_' \\\n",
    "                  + str(complete_n_samples) + 'pts_' + loss + '_' + experiment_tag\n",
    "\n",
    "\n",
    "top_data_dir = '/orions4-zfs/projects/lins2/Panos_Space/DATA/'\n",
    "\n",
    "complete_pclouds_path = osp.join(top_data_dir, 'Point_Clouds/Shape_Net/Core/from_manifold_meshes/raw', \\\n",
    "                             str(complete_n_samples))\n",
    "\n",
    "partial_pclouds_path = osp.join(top_data_dir, 'Point_Clouds/Partial_PCs/Angela_synthetic', str(incomplete_n_samples))\n",
    "\n",
    "n_input = [incomplete_n_samples, 3]\n",
    "n_output = [complete_n_samples, 3]\n",
    "\n",
    "train_dir = osp.join(top_data_dir, 'OUT/iccv/nn_models/')\n",
    "train_dir = osp.join(train_dir, experiment_name)\n",
    "create_dir(train_dir)"
   ]
  },
  {
   "cell_type": "code",
   "execution_count": 7,
   "metadata": {
    "collapsed": false
   },
   "outputs": [],
   "source": [
    "cmpl_file_names = pio.load_filenames_of_input_data(complete_pclouds_path, points_extension)\n",
    "cmpl_pclouds, cmpl_model_names, cmpl_syn_ids = pio.load_crude_point_clouds(file_names=cmpl_file_names, n_threads=50)\n",
    "print '%d files containing complete point clouds were found.' % (len(cmpl_pclouds), )\n",
    "cmpl_unames = np.array(cmpl_model_names + '.' + cmpl_syn_ids, dtype=object)"
   ]
  },
  {
   "cell_type": "code",
   "execution_count": 8,
   "metadata": {
    "collapsed": false
   },
   "outputs": [],
   "source": [
    "train_list = '/orions4-zfs/projects/lins2/Panos_Space/DATA/Point_Clouds/Partial_PCs/Angela_synthetic/train_test_splits/train_models_with_scan_id.txt'\n",
    "partial_pclouds, partial_model_ids, partial_syn_ids = load_partial_pointclouds(train_list, partial_pclouds_path, 50)\n",
    "\n",
    "partial_model_names = np.array([i[0] for i in partial_model_ids], dtype=object)\n",
    "partial_scan_ids = np.array([i[1] for i in partial_model_ids], dtype=object)\n",
    "partial_unames = np.array(partial_model_names + '.' + partial_scan_ids + '.' + partial_syn_ids, dtype=object)\n",
    "partial_matching_names = np.array(partial_model_names + '.' + partial_syn_ids, dtype=object)\n",
    "\n",
    "matching_index = indices_in_iterable(cmpl_unames, partial_matching_names)\n",
    "assert(np.alltrue(matching_index != -1))\n",
    "full_pclouds_matched = cmpl_pclouds[matching_index]\n",
    "\n",
    "train_data = PointCloudDataSet(full_pclouds_matched, noise=partial_pclouds, labels=partial_unames)\n",
    "train_data, val_data = vscan.make_validation_from_train_data(train_data, 0.05)"
   ]
  },
  {
   "cell_type": "code",
   "execution_count": 32,
   "metadata": {
    "collapsed": false,
    "deletable": true,
    "editable": true
   },
   "outputs": [],
   "source": [
    "if load_model:\n",
    "    conf = Conf.load(osp.join(train_dir, 'configuration'))\n",
    "    print conf\n",
    "else:    \n",
    "    encoder_args = {'n_filters': [64, 128, 1024],\n",
    "                    'filter_sizes': [1, 1, 1],\n",
    "                    'strides': [1, 1, 1],\n",
    "                    'dropout_prob': 0.5\n",
    "                   }\n",
    "    \n",
    "    decoder_args = {'layer_sizes': [1024, np.prod(n_output)]}\n",
    "    \n",
    "    conf = Conf(\n",
    "                n_input = n_input,\n",
    "                n_output = n_output,\n",
    "                denoising = True,\n",
    "                training_epochs = max_training_epochs,\n",
    "                batch_size = 50,\n",
    "                loss = loss,\n",
    "                train_dir = train_dir,\n",
    "                loss_display_step = 1,\n",
    "                saver_step = 1,\n",
    "                learning_rate = 0.0005,\n",
    "                z_rotate = False,\n",
    "                encoder = enc_dec.encoder_with_convs_and_symmetry,\n",
    "                encoder_args = encoder_args,\n",
    "                decoder = enc_dec.decoder_with_fc_only,\n",
    "                decoder_args = decoder_args\n",
    "               )\n",
    "    \n",
    "    conf.experiment_name = experiment_name\n",
    "    conf.save(osp.join(conf.train_dir, 'configuration'))\n",
    "    \n",
    "reset_tf_graph()\n",
    "ae = PointNetAutoEncoder(experiment_name, conf)\n",
    "\n",
    "if load_model:\n",
    "    saved_epochs = read_saved_epochs(conf.train_dir)\n",
    "    last_epoch = saved_epochs[-1]\n",
    "    ae.restore_model(conf.train_dir, last_epoch, verbose=True)"
   ]
  },
  {
   "cell_type": "code",
   "execution_count": null,
   "metadata": {
    "collapsed": false,
    "deletable": true,
    "editable": true
   },
   "outputs": [
    {
     "name": "stdout",
     "output_type": "stream",
     "text": [
      "('Epoch:', '0001', 'training time (minutes)=', '27.7351', 'loss=', '290.127079349')\n",
      "INFO:tensorflow:/orions4-zfs/projects/lins2/Panos_Space/DATA/OUT/iccv/nn_models/all_classes_in_dai_2048_4096pts_emd_original/models.ckpt-1 is not in all_model_checkpoint_paths. Manually adding it.\n",
      "('Epoch:', '0002', 'training time (minutes)=', '26.9143', 'loss=', '252.520612349')\n",
      "INFO:tensorflow:/orions4-zfs/projects/lins2/Panos_Space/DATA/OUT/iccv/nn_models/all_classes_in_dai_2048_4096pts_emd_original/models.ckpt-2 is not in all_model_checkpoint_paths. Manually adding it.\n",
      "('Epoch:', '0003', 'training time (minutes)=', '27.2460', 'loss=', '241.255106144')\n",
      "INFO:tensorflow:/orions4-zfs/projects/lins2/Panos_Space/DATA/OUT/iccv/nn_models/all_classes_in_dai_2048_4096pts_emd_original/models.ckpt-3 is not in all_model_checkpoint_paths. Manually adding it.\n",
      "('Epoch:', '0004', 'training time (minutes)=', '27.2280', 'loss=', '235.114763910')\n",
      "INFO:tensorflow:/orions4-zfs/projects/lins2/Panos_Space/DATA/OUT/iccv/nn_models/all_classes_in_dai_2048_4096pts_emd_original/models.ckpt-4 is not in all_model_checkpoint_paths. Manually adding it.\n",
      "('Epoch:', '0005', 'training time (minutes)=', '26.7347', 'loss=', '230.113420959')\n",
      "INFO:tensorflow:/orions4-zfs/projects/lins2/Panos_Space/DATA/OUT/iccv/nn_models/all_classes_in_dai_2048_4096pts_emd_original/models.ckpt-5 is not in all_model_checkpoint_paths. Manually adding it.\n",
      "('Epoch:', '0006', 'training time (minutes)=', '27.3096', 'loss=', '226.462631058')\n",
      "INFO:tensorflow:/orions4-zfs/projects/lins2/Panos_Space/DATA/OUT/iccv/nn_models/all_classes_in_dai_2048_4096pts_emd_original/models.ckpt-6 is not in all_model_checkpoint_paths. Manually adding it.\n",
      "('Epoch:', '0007', 'training time (minutes)=', '27.4114', 'loss=', '223.446939243')\n",
      "INFO:tensorflow:/orions4-zfs/projects/lins2/Panos_Space/DATA/OUT/iccv/nn_models/all_classes_in_dai_2048_4096pts_emd_original/models.ckpt-7 is not in all_model_checkpoint_paths. Manually adding it.\n",
      "('Epoch:', '0008', 'training time (minutes)=', '27.2949', 'loss=', '220.704296412')\n",
      "INFO:tensorflow:/orions4-zfs/projects/lins2/Panos_Space/DATA/OUT/iccv/nn_models/all_classes_in_dai_2048_4096pts_emd_original/models.ckpt-8 is not in all_model_checkpoint_paths. Manually adding it.\n",
      "('Epoch:', '0009', 'training time (minutes)=', '27.1690', 'loss=', '218.327236553')\n",
      "INFO:tensorflow:/orions4-zfs/projects/lins2/Panos_Space/DATA/OUT/iccv/nn_models/all_classes_in_dai_2048_4096pts_emd_original/models.ckpt-9 is not in all_model_checkpoint_paths. Manually adding it.\n",
      "('Epoch:', '0010', 'training time (minutes)=', '27.4250', 'loss=', '216.635610759')\n",
      "INFO:tensorflow:/orions4-zfs/projects/lins2/Panos_Space/DATA/OUT/iccv/nn_models/all_classes_in_dai_2048_4096pts_emd_original/models.ckpt-10 is not in all_model_checkpoint_paths. Manually adding it.\n",
      "('Epoch:', '0011', 'training time (minutes)=', '27.4255', 'loss=', '214.630774664')\n",
      "INFO:tensorflow:/orions4-zfs/projects/lins2/Panos_Space/DATA/OUT/iccv/nn_models/all_classes_in_dai_2048_4096pts_emd_original/models.ckpt-11 is not in all_model_checkpoint_paths. Manually adding it.\n",
      "('Epoch:', '0012', 'training time (minutes)=', '27.1742', 'loss=', '213.083664108')\n",
      "INFO:tensorflow:/orions4-zfs/projects/lins2/Panos_Space/DATA/OUT/iccv/nn_models/all_classes_in_dai_2048_4096pts_emd_original/models.ckpt-12 is not in all_model_checkpoint_paths. Manually adding it.\n",
      "('Epoch:', '0013', 'training time (minutes)=', '27.3231', 'loss=', '211.518115258')\n",
      "INFO:tensorflow:/orions4-zfs/projects/lins2/Panos_Space/DATA/OUT/iccv/nn_models/all_classes_in_dai_2048_4096pts_emd_original/models.ckpt-13 is not in all_model_checkpoint_paths. Manually adding it.\n",
      "('Epoch:', '0014', 'training time (minutes)=', '28.2779', 'loss=', '210.258134357')\n",
      "INFO:tensorflow:/orions4-zfs/projects/lins2/Panos_Space/DATA/OUT/iccv/nn_models/all_classes_in_dai_2048_4096pts_emd_original/models.ckpt-14 is not in all_model_checkpoint_paths. Manually adding it.\n",
      "('Epoch:', '0015', 'training time (minutes)=', '27.4028', 'loss=', '209.039022650')\n",
      "INFO:tensorflow:/orions4-zfs/projects/lins2/Panos_Space/DATA/OUT/iccv/nn_models/all_classes_in_dai_2048_4096pts_emd_original/models.ckpt-15 is not in all_model_checkpoint_paths. Manually adding it.\n",
      "('Epoch:', '0016', 'training time (minutes)=', '27.3689', 'loss=', '207.846631531')\n",
      "INFO:tensorflow:/orions4-zfs/projects/lins2/Panos_Space/DATA/OUT/iccv/nn_models/all_classes_in_dai_2048_4096pts_emd_original/models.ckpt-16 is not in all_model_checkpoint_paths. Manually adding it.\n",
      "('Epoch:', '0017', 'training time (minutes)=', '27.4661', 'loss=', '206.888369126')\n",
      "INFO:tensorflow:/orions4-zfs/projects/lins2/Panos_Space/DATA/OUT/iccv/nn_models/all_classes_in_dai_2048_4096pts_emd_original/models.ckpt-17 is not in all_model_checkpoint_paths. Manually adding it.\n",
      "('Epoch:', '0018', 'training time (minutes)=', '27.7088', 'loss=', '206.069471734')\n",
      "INFO:tensorflow:/orions4-zfs/projects/lins2/Panos_Space/DATA/OUT/iccv/nn_models/all_classes_in_dai_2048_4096pts_emd_original/models.ckpt-18 is not in all_model_checkpoint_paths. Manually adding it.\n",
      "('Epoch:', '0019', 'training time (minutes)=', '27.9957', 'loss=', '205.134641457')\n",
      "INFO:tensorflow:/orions4-zfs/projects/lins2/Panos_Space/DATA/OUT/iccv/nn_models/all_classes_in_dai_2048_4096pts_emd_original/models.ckpt-19 is not in all_model_checkpoint_paths. Manually adding it.\n",
      "('Epoch:', '0020', 'training time (minutes)=', '27.6243', 'loss=', '204.281702235')\n",
      "INFO:tensorflow:/orions4-zfs/projects/lins2/Panos_Space/DATA/OUT/iccv/nn_models/all_classes_in_dai_2048_4096pts_emd_original/models.ckpt-20 is not in all_model_checkpoint_paths. Manually adding it.\n",
      "('Epoch:', '0021', 'training time (minutes)=', '27.2209', 'loss=', '203.507953397')\n",
      "INFO:tensorflow:/orions4-zfs/projects/lins2/Panos_Space/DATA/OUT/iccv/nn_models/all_classes_in_dai_2048_4096pts_emd_original/models.ckpt-21 is not in all_model_checkpoint_paths. Manually adding it.\n",
      "('Epoch:', '0022', 'training time (minutes)=', '27.0830', 'loss=', '202.709772763')\n",
      "INFO:tensorflow:/orions4-zfs/projects/lins2/Panos_Space/DATA/OUT/iccv/nn_models/all_classes_in_dai_2048_4096pts_emd_original/models.ckpt-22 is not in all_model_checkpoint_paths. Manually adding it.\n",
      "('Epoch:', '0023', 'training time (minutes)=', '26.9211', 'loss=', '201.963429500')\n",
      "INFO:tensorflow:/orions4-zfs/projects/lins2/Panos_Space/DATA/OUT/iccv/nn_models/all_classes_in_dai_2048_4096pts_emd_original/models.ckpt-23 is not in all_model_checkpoint_paths. Manually adding it.\n",
      "('Epoch:', '0024', 'training time (minutes)=', '27.4987', 'loss=', '201.346945291')\n",
      "INFO:tensorflow:/orions4-zfs/projects/lins2/Panos_Space/DATA/OUT/iccv/nn_models/all_classes_in_dai_2048_4096pts_emd_original/models.ckpt-24 is not in all_model_checkpoint_paths. Manually adding it.\n",
      "('Epoch:', '0025', 'training time (minutes)=', '27.4457', 'loss=', '200.725277424')\n",
      "INFO:tensorflow:/orions4-zfs/projects/lins2/Panos_Space/DATA/OUT/iccv/nn_models/all_classes_in_dai_2048_4096pts_emd_original/models.ckpt-25 is not in all_model_checkpoint_paths. Manually adding it.\n",
      "('Epoch:', '0026', 'training time (minutes)=', '27.8553', 'loss=', '200.079958001')\n",
      "INFO:tensorflow:/orions4-zfs/projects/lins2/Panos_Space/DATA/OUT/iccv/nn_models/all_classes_in_dai_2048_4096pts_emd_original/models.ckpt-26 is not in all_model_checkpoint_paths. Manually adding it.\n",
      "('Epoch:', '0027', 'training time (minutes)=', '27.7218', 'loss=', '199.620002085')\n",
      "INFO:tensorflow:/orions4-zfs/projects/lins2/Panos_Space/DATA/OUT/iccv/nn_models/all_classes_in_dai_2048_4096pts_emd_original/models.ckpt-27 is not in all_model_checkpoint_paths. Manually adding it.\n",
      "('Epoch:', '0028', 'training time (minutes)=', '26.8762', 'loss=', '198.950049399')\n",
      "INFO:tensorflow:/orions4-zfs/projects/lins2/Panos_Space/DATA/OUT/iccv/nn_models/all_classes_in_dai_2048_4096pts_emd_original/models.ckpt-28 is not in all_model_checkpoint_paths. Manually adding it.\n",
      "('Epoch:', '0029', 'training time (minutes)=', '26.8783', 'loss=', '198.457430913')\n",
      "INFO:tensorflow:/orions4-zfs/projects/lins2/Panos_Space/DATA/OUT/iccv/nn_models/all_classes_in_dai_2048_4096pts_emd_original/models.ckpt-29 is not in all_model_checkpoint_paths. Manually adding it.\n",
      "('Epoch:', '0030', 'training time (minutes)=', '26.8596', 'loss=', '197.996080432')\n",
      "INFO:tensorflow:/orions4-zfs/projects/lins2/Panos_Space/DATA/OUT/iccv/nn_models/all_classes_in_dai_2048_4096pts_emd_original/models.ckpt-30 is not in all_model_checkpoint_paths. Manually adding it.\n",
      "('Epoch:', '0031', 'training time (minutes)=', '26.9828', 'loss=', '197.520618746')\n",
      "INFO:tensorflow:/orions4-zfs/projects/lins2/Panos_Space/DATA/OUT/iccv/nn_models/all_classes_in_dai_2048_4096pts_emd_original/models.ckpt-31 is not in all_model_checkpoint_paths. Manually adding it.\n"
     ]
    }
   ],
   "source": [
    "if do_training:\n",
    "    buf_size = 1 # flush each line\n",
    "    fout = open(osp.join(conf.train_dir, 'train_stats.txt'), 'a', buf_size)\n",
    "    ae.train(train_data, conf, log_file=fout)\n",
    "    fout.close()"
   ]
  },
  {
   "cell_type": "code",
   "execution_count": null,
   "metadata": {
    "collapsed": true
   },
   "outputs": [],
   "source": [
    "# Use validation to pick best_epoch, i.e., the one with the smallest error.\n",
    "save_validation_file = osp.join(conf.train_dir, 'validation_stats.pickle')"
   ]
  },
  {
   "cell_type": "code",
   "execution_count": null,
   "metadata": {
    "collapsed": true
   },
   "outputs": [],
   "source": [
    "saved_epochs = np.array(read_saved_epochs(conf.train_dir))\n",
    "val_stats = eval_model(ae, conf, val_data, epochs=saved_epochs)\n",
    "val_loss = np.min(val_stats[:,1])\n",
    "best_epoch = int(val_stats[np.argmin(val_stats[:,1]), 0])\n",
    "print best_epoch, val_loss\n",
    "\n",
    "pickle_data(save_validation_file, best_epoch, val_loss)\n",
    "\n",
    "# Report loss on test data at optimal (per-validation) epoch\n",
    "best_epoch, val_loss = unpickle_data(save_validation_file)\n",
    "print eval_model(ae, conf, test_data, epochs=[best_epoch])[0][1]"
   ]
  }
 ],
 "metadata": {
  "kernelspec": {
   "display_name": "Python 2",
   "language": "python",
   "name": "python2"
  },
  "language_info": {
   "codemirror_mode": {
    "name": "ipython",
    "version": 2
   },
   "file_extension": ".py",
   "mimetype": "text/x-python",
   "name": "python",
   "nbconvert_exporter": "python",
   "pygments_lexer": "ipython2",
   "version": "2.7.6"
  }
 },
 "nbformat": 4,
 "nbformat_minor": 0
}
