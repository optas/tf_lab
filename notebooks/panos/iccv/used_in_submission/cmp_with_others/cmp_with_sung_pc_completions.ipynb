{
 "cells": [
  {
   "cell_type": "code",
   "execution_count": 1,
   "metadata": {
    "collapsed": false,
    "deletable": true,
    "editable": true
   },
   "outputs": [
    {
     "name": "stderr",
     "output_type": "stream",
     "text": [
      "/usr/local/lib/python2.7/dist-packages/matplotlib/font_manager.py:273: UserWarning: Matplotlib is building the font cache using fc-list. This may take a moment.\n",
      "  warnings.warn('Matplotlib is building the font cache using fc-list. This may take a moment.')\n"
     ]
    }
   ],
   "source": [
    "import sys\n",
    "import time\n",
    "import numpy as np\n",
    "import os.path as osp\n",
    "import tensorflow as tf\n",
    "import matplotlib.pyplot as plt\n",
    "from scipy.stats import hmean\n",
    "\n",
    "from geo_tool import Point_Cloud\n",
    "\n",
    "import tf_lab.autopredictors.scripts.minhyuk_data as minhyuk_data\n",
    "from tf_lab.autopredictors.scripts.minhyuk_data import KinectData\n",
    "from tf_lab.autopredictors.evaluate import accuracy_of_completion, coverage_of_completion\n",
    "\n",
    "from tf_lab.point_clouds.point_net_ae import PointNetAutoEncoder\n",
    "from tf_lab.point_clouds.autoencoder import Configuration as Conf\n",
    "from tf_lab.point_clouds.in_out import PointCloudDataSet\n",
    "\n",
    "from general_tools.notebook.tf import reset_tf_graph"
   ]
  },
  {
   "cell_type": "code",
   "execution_count": 2,
   "metadata": {
    "collapsed": false,
    "deletable": true,
    "editable": true
   },
   "outputs": [],
   "source": [
    "%load_ext autoreload\n",
    "%autoreload 2\n",
    "%matplotlib inline"
   ]
  },
  {
   "cell_type": "code",
   "execution_count": 3,
   "metadata": {
    "collapsed": true,
    "deletable": true,
    "editable": true
   },
   "outputs": [],
   "source": [
    "incomplete_n_samples = 2048\n",
    "complete_n_samples = 4096\n",
    "normalize_data = True\n",
    "top_data_dir = '/orions4-zfs/projects/lins2/Panos_Space/DATA/'\n",
    "category_name = 'coseg_chairs'  # coseg_chairs assembly_airplanes shapenet_tables"
   ]
  },
  {
   "cell_type": "code",
   "execution_count": null,
   "metadata": {
    "collapsed": false,
    "deletable": true,
    "editable": true,
    "scrolled": true
   },
   "outputs": [],
   "source": [
    "gt_pclouds, gt_names = minhyuk_data.groundtruth_point_clouds(category_name, complete_n_samples)\n",
    "m_completions, gt_names_2 = minhyuk_data.minhyuk_completions(category_name, complete_n_samples)\n",
    "partial_pclouds, gt_names_3 = minhyuk_data.incomplete_point_clouds(category_name, incomplete_n_samples)\n",
    "\n",
    "assert(np.alltrue(gt_names == gt_names_2))\n",
    "assert(np.alltrue(gt_names == gt_names_3))"
   ]
  },
  {
   "cell_type": "code",
   "execution_count": null,
   "metadata": {
    "collapsed": false,
    "deletable": true,
    "editable": true
   },
   "outputs": [],
   "source": [
    "# RUN to see gt-completion-partial triplets are aligned.\n",
    "rid = np.random.randint(len(gt_pclouds))\n",
    "Point_Cloud(gt_pclouds[rid]).plot();\n",
    "Point_Cloud(m_completions[rid]).plot();\n",
    "Point_Cloud(partial_pclouds[rid]).plot();"
   ]
  },
  {
   "cell_type": "code",
   "execution_count": null,
   "metadata": {
    "collapsed": false
   },
   "outputs": [],
   "source": [
    "if normalize_data:\n",
    "    _, partial_pclouds_tr = minhyuk_data.normalize_point_clouds(gt_pclouds, partial_pclouds, -90)    \n",
    "    gt_pclouds_tr, m_completions_tr = minhyuk_data.normalize_point_clouds(gt_pclouds, m_completions, -90)\n",
    "\n",
    "# if normalize_data:\n",
    "#     _, partial_pclouds = minhyuk_data.normalize_point_clouds(gt_pclouds, partial_pclouds, category_name)\n",
    "#     gt_pclouds, m_completions = minhyuk_data.normalize_point_clouds(gt_pclouds, m_completions, category_name)"
   ]
  },
  {
   "cell_type": "code",
   "execution_count": null,
   "metadata": {
    "collapsed": false,
    "deletable": true,
    "editable": true
   },
   "outputs": [],
   "source": [
    "def accuracy_coverage_stats(gt_pclouds, predictions, thres=0.02):\n",
    "    n_examples = gt_pclouds.shape[0]\n",
    "    scores = np.zeros((n_examples, 2))\n",
    "    for i in xrange(n_examples):\n",
    "        gt = gt_pclouds[i]\n",
    "        pred = predictions[i]\n",
    "        scores[i, 0] = accuracy_of_completion(pred, gt, thres=thres, ret_dists=False)\n",
    "        scores[i, 1] = coverage_of_completion(gt, pred, thres=thres, ret_dists=False)\n",
    "\n",
    "    return scores"
   ]
  },
  {
   "cell_type": "code",
   "execution_count": null,
   "metadata": {
    "collapsed": false
   },
   "outputs": [],
   "source": [
    "sung_pred_scores = accuracy_coverage_stats(gt_pclouds_tr, m_completions_tr)\n",
    "print 'Accuracy: Mean %.3f, Median %.3f' % (np.mean(sung_pred_scores[:, 0]), np.median(sung_pred_scores[:, 0]))\n",
    "print 'Coverage: Mean %.3f, Median %.3f' % (np.mean(sung_pred_scores[:, 1]), np.median(sung_pred_scores[:, 1]))"
   ]
  },
  {
   "cell_type": "code",
   "execution_count": 11,
   "metadata": {
    "collapsed": false
   },
   "outputs": [
    {
     "name": "stdout",
     "output_type": "stream",
     "text": [
      "Model restored in epoch 50.\n"
     ]
    }
   ],
   "source": [
    "predictor_name = '3_chair_2048_4096pts_chamfer'\n",
    "predictor_train_dir = osp.join(top_data_dir, 'OUT/iccv/nn_models/testing/', predictor_name)\n",
    "best_epoch = 50\n",
    "conf = Conf.load(osp.join(predictor_train_dir, 'configuration'))\n",
    "reset_tf_graph()\n",
    "ae = PointNetAutoEncoder(predictor_name, conf)\n",
    "ae.restore_model(predictor_train_dir, best_epoch, verbose=True)"
   ]
  },
  {
   "cell_type": "code",
   "execution_count": null,
   "metadata": {
    "collapsed": true
   },
   "outputs": [],
   "source": [
    "test_data = PointCloudDataSet(gt_pclouds_tr, labels=gt_names, noise=partial_pclouds_tr, init_shuffle=False)\n",
    "ae_pred, ae_loss, ae_feed, ae_ids, ae_gt = ae.evaluate(test_data, conf)"
   ]
  },
  {
   "cell_type": "code",
   "execution_count": 13,
   "metadata": {
    "collapsed": false
   },
   "outputs": [
    {
     "name": "stdout",
     "output_type": "stream",
     "text": [
      "Accuracy: Mean 0.872, Median 0.908\n",
      "Coverage: Mean 0.806, Median 0.808\n"
     ]
    }
   ],
   "source": [
    "our_pred_scores = accuracy_coverage_stats(gt_pclouds_tr, ae_pred)\n",
    "print 'Accuracy: Mean %.3f, Median %.3f' % (np.mean(our_pred_scores[:, 0]), np.median(our_pred_scores[:, 0]))\n",
    "print 'Coverage: Mean %.3f, Median %.3f' % (np.mean(our_pred_scores[:, 1]), np.median(our_pred_scores[:, 1]))"
   ]
  },
  {
   "cell_type": "code",
   "execution_count": null,
   "metadata": {
    "collapsed": true
   },
   "outputs": [],
   "source": [
    "KinectData.plot_predictions(ae)"
   ]
  }
 ],
 "metadata": {
  "kernelspec": {
   "display_name": "Python 2",
   "language": "python",
   "name": "python2"
  },
  "language_info": {
   "codemirror_mode": {
    "name": "ipython",
    "version": 2
   },
   "file_extension": ".py",
   "mimetype": "text/x-python",
   "name": "python",
   "nbconvert_exporter": "python",
   "pygments_lexer": "ipython2",
   "version": "2.7.6"
  }
 },
 "nbformat": 4,
 "nbformat_minor": 2
}
