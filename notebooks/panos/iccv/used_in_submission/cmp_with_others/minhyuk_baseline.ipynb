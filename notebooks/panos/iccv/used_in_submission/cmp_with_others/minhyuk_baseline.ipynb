{
 "cells": [
  {
   "cell_type": "code",
   "execution_count": 2,
   "metadata": {
    "collapsed": false
   },
   "outputs": [],
   "source": [
    "import sys\n",
    "import time\n",
    "import numpy as np\n",
    "import os.path as osp\n",
    "import tensorflow as tf\n",
    "import matplotlib.pyplot as plt\n",
    "from scipy.stats import hmean\n",
    "\n",
    "# from general_tools.notebook.tf import reset_tf_graph\n",
    "\n",
    "# import tf_lab.point_clouds.in_out as pio\n",
    "# from tf_lab.point_clouds.in_out import PointCloudDataSet, write_model_ids_of_datasets\n",
    "# from tf_lab.point_clouds.point_net_ae import PointNetAutoEncoder\n",
    "# from tf_lab.point_clouds.autoencoder import Configuration as Conf\n",
    "# import tf_lab.point_clouds.encoders_decoders as enc_dec\n",
    "\n",
    "\n",
    "# import tf_lab.autopredictors.scripts.virt_scan_data as vscan\n",
    "\n",
    "# from tf_lab.autopredictors.scripts.helper import shape_net_category_to_synth_id, points_extension, \\\n",
    "#                                                  shape_net_core_synth_id_to_category\n",
    "\n",
    "from tf_lab.autopredictors.scripts import minhyuk_data as minhyuk_loader\n",
    "\n",
    "# from tf_lab.autopredictors.plotting import plot_original_pclouds_vs_reconstructed, \\\n",
    "#                                            plot_train_val_test_curves, plot_reconstructions_at_epoch\n",
    "    \n",
    "        \n",
    "# from tf_lab.autopredictors.evaluate import eval_model, read_saved_epochs, accuracy_of_completion, \\\n",
    "#                                            coverage_of_completion, save_reconstructions, \\\n",
    "#                                            save_pc_prediction_stats, paper_pc_completion_experiment_id_best_epoch\n",
    "                                                  \n",
    "\n",
    "# from general_tools.in_out.basics import create_dir, delete_files_in_directory, files_in_subdirs\n",
    "# from general_tools.simpletons import select_first_last_and_k\n",
    "from geo_tool import Point_Cloud"
   ]
  },
  {
   "cell_type": "code",
   "execution_count": 4,
   "metadata": {
    "collapsed": true
   },
   "outputs": [],
   "source": [
    "%load_ext autoreload\n",
    "%autoreload 2\n",
    "%matplotlib inline"
   ]
  },
  {
   "cell_type": "code",
   "execution_count": 5,
   "metadata": {
    "collapsed": true
   },
   "outputs": [],
   "source": [
    "incomplete_n_samples = 2048\n",
    "complete_n_samples = 4096\n",
    "top_data_dir = '/orions4-zfs/projects/lins2/Panos_Space/DATA/'"
   ]
  },
  {
   "cell_type": "code",
   "execution_count": 8,
   "metadata": {
    "collapsed": false
   },
   "outputs": [
    {
     "name": "stdout",
     "output_type": "stream",
     "text": [
      "['assembly_airplanes', 'assembly_bicycles', 'assembly_chairs', 'coseg_chairs', 'shapenet_tables']\n"
     ]
    }
   ],
   "source": [
    "print minhyuk_loader.test_categories\n",
    "category_id = 3\n",
    "from_manifold = False\n",
    "min_categ_name = minhyuk_loader.test_categories[category_id]\n",
    "minhyuk_data, minhyuk_completions, accuracies = minhyuk_loader.dataset_of_category(category_id, incomplete_n_samples, complete_n_samples, from_manifold)"
   ]
  },
  {
   "cell_type": "code",
   "execution_count": null,
   "metadata": {
    "collapsed": true
   },
   "outputs": [],
   "source": []
  },
  {
   "cell_type": "code",
   "execution_count": null,
   "metadata": {
    "collapsed": true
   },
   "outputs": [],
   "source": [
    "# Accuracy and Coverage of Minhuyk Completions.\n",
    "n_examples = minhyuk_completions.shape[0]\n",
    "pred_scores = np.zeros((n_examples, 2))\n",
    "for i in xrange(n_examples):    \n",
    "#     gt = test_gt[i]\n",
    "#     pred = test_recon[i]    \n",
    "    pred_scores[i, 0] = accuracy_of_completion(pred, gt, thres=0.02, ret_dists=False)\n",
    "    pred_scores[i, 1] = coverage_of_completion(gt, pred, thres=0.02, ret_dists=False)\n",
    "\n",
    "# print 'Test Mean-Median Accuracy:', np.mean(pred_scores[:, 0]), np.median(pred_scores[:, 0])\n",
    "# print 'Test Mean-Median Coverage:', np.mean(pred_scores[:, 1]), np.median(pred_scores[:, 1])\n"
   ]
  }
 ],
 "metadata": {
  "kernelspec": {
   "display_name": "Python 2",
   "language": "python",
   "name": "python2"
  },
  "language_info": {
   "codemirror_mode": {
    "name": "ipython",
    "version": 2
   },
   "file_extension": ".py",
   "mimetype": "text/x-python",
   "name": "python",
   "nbconvert_exporter": "python",
   "pygments_lexer": "ipython2",
   "version": "2.7.6"
  }
 },
 "nbformat": 4,
 "nbformat_minor": 2
}
