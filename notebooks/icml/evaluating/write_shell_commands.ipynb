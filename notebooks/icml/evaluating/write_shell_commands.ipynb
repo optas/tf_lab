{
 "cells": [
  {
   "cell_type": "code",
   "execution_count": 22,
   "metadata": {
    "collapsed": true,
    "deletable": true,
    "editable": true
   },
   "outputs": [],
   "source": [
    "import os\n",
    "import os.path as osp\n",
    "import numpy as np"
   ]
  },
  {
   "cell_type": "code",
   "execution_count": 23,
   "metadata": {
    "collapsed": true,
    "deletable": true,
    "editable": true
   },
   "outputs": [],
   "source": [
    "mmd = True\n",
    "jsd = False\n",
    "assert(np.logical_xor(mmd, jsd))"
   ]
  },
  {
   "cell_type": "code",
   "execution_count": 24,
   "metadata": {
    "collapsed": false,
    "deletable": true,
    "editable": true
   },
   "outputs": [],
   "source": [
    "ae_loss = 'emd'\n",
    "momentum_experiments = False\n",
    "wgan_gp_experiments = True\n",
    "\n",
    "top_out_dir = '/orions4-zfs/projects/lins2/Panos_Space/Git_Repos/tf_lab/notebooks/panos/icml/evaluating/'\n",
    "\n",
    "if jsd:\n",
    "    executable = 'python /orions4-zfs/projects/lins2/Panos_Space/Git_Repos/tf_lab/notebooks/panos/icml/evaluating/nb_gan_jsd_evaluation.py'\n",
    "    id_token = 'jsd'\n",
    "elif mmd:\n",
    "    executable = 'python /orions4-zfs/projects/lins2/Panos_Space/Git_Repos/tf_lab/notebooks/panos/icml/evaluating/nb_gan_mmd_evaluation.py'\n",
    "    id_token = 'mmd'\n",
    "    \n",
    "    \n",
    "ref_data = '/orions4-zfs/projects/lins2/Panos_Space/DATA/OUT/nips/our_synthetic_samples/ground_truth/gt_all_chair.npz'"
   ]
  },
  {
   "cell_type": "code",
   "execution_count": 25,
   "metadata": {
    "collapsed": false,
    "deletable": true,
    "editable": true
   },
   "outputs": [],
   "source": [
    "if momentum_experiments:\n",
    "    top_in_dir = '/orions4-zfs/projects/lins2/Panos_Space/DATA/OUT/icml/synthetic_point_clouds/momentum_search/nb_gan_ae_12_emd_chair_2048_best_epoch/'\n",
    "else:\n",
    "    top_in_dir = '/orions4-zfs/projects/lins2/Panos_Space/DATA/OUT/icml/synthetic_point_clouds/'\n",
    "\n",
    "experiments_dir = [osp.join(top_in_dir, name) for name in os.listdir(top_in_dir)]\n",
    "\n",
    "if wgan_gp_experiments:\n",
    "    experiments_dir = [ex for ex in experiments_dir if 'wgan_gp' in ex ]\n",
    "else:\n",
    "    experiments_dir = [ex for ex in experiments_dir if 'nb_gan' in ex ]\n",
    "    \n",
    "experiments_dir = [ex for ex in experiments_dir if ae_loss in ex ]"
   ]
  },
  {
   "cell_type": "code",
   "execution_count": 26,
   "metadata": {
    "collapsed": false,
    "deletable": true,
    "editable": true
   },
   "outputs": [
    {
     "data": {
      "text/plain": [
       "['/orions4-zfs/projects/lins2/Panos_Space/DATA/OUT/icml/synthetic_point_clouds/nb_wgan_gp_ae_10_emd_chair_2048_max_min_epoch',\n",
       " '/orions4-zfs/projects/lins2/Panos_Space/DATA/OUT/icml/synthetic_point_clouds/nb_wgan_gp_ae_17_emd_chair_2048_best_epoch',\n",
       " '/orions4-zfs/projects/lins2/Panos_Space/DATA/OUT/icml/synthetic_point_clouds/nb_wgan_gp_ae_14_emd_chair_2048_best_epoch',\n",
       " '/orions4-zfs/projects/lins2/Panos_Space/DATA/OUT/icml/synthetic_point_clouds/nb_wgan_gp_ae_11_emd_chair_2048_max_min_epoch',\n",
       " '/orions4-zfs/projects/lins2/Panos_Space/DATA/OUT/icml/synthetic_point_clouds/nb_wgan_gp_ae_11_emd_chair_2048_best_epoch',\n",
       " '/orions4-zfs/projects/lins2/Panos_Space/DATA/OUT/icml/synthetic_point_clouds/nb_wgan_gp_ae_12_emd_chair_2048_best_epoch',\n",
       " '/orions4-zfs/projects/lins2/Panos_Space/DATA/OUT/icml/synthetic_point_clouds/nb_wgan_gp_ae_12_emd_chair_2048_max_min_epoch',\n",
       " '/orions4-zfs/projects/lins2/Panos_Space/DATA/OUT/icml/synthetic_point_clouds/nb_wgan_gp_ae_13_emd_chair_2048_max_min_epoch',\n",
       " '/orions4-zfs/projects/lins2/Panos_Space/DATA/OUT/icml/synthetic_point_clouds/nb_wgan_gp_ae_16_emd_chair_2048_best_epoch',\n",
       " '/orions4-zfs/projects/lins2/Panos_Space/DATA/OUT/icml/synthetic_point_clouds/nb_wgan_gp_ae_15_emd_chair_2048_best_epoch',\n",
       " '/orions4-zfs/projects/lins2/Panos_Space/DATA/OUT/icml/synthetic_point_clouds/nb_wgan_gp_ae_10_emd_chair_2048_best_epoch',\n",
       " '/orions4-zfs/projects/lins2/Panos_Space/DATA/OUT/icml/synthetic_point_clouds/nb_wgan_gp_ae_14_emd_chair_2048_max_min_epoch',\n",
       " '/orions4-zfs/projects/lins2/Panos_Space/DATA/OUT/icml/synthetic_point_clouds/nb_wgan_gp_ae_13_emd_chair_2048_best_epoch']"
      ]
     },
     "execution_count": 26,
     "metadata": {},
     "output_type": "execute_result"
    }
   ],
   "source": [
    "experiments_dir"
   ]
  },
  {
   "cell_type": "code",
   "execution_count": 29,
   "metadata": {
    "collapsed": false,
    "deletable": true,
    "editable": true
   },
   "outputs": [],
   "source": [
    "# dedicated_experimenrts = ['13', '12', '11', '15']\n",
    "dedicated_experimenrts = ['16', '17', '10', '14']\n",
    "# dedicated_experimenrts = ['best']\n",
    "\n",
    "if dedicated_experimenrts is not None:\n",
    "    sb = []\n",
    "    for ex in experiments_dir:    \n",
    "        if any(x in ex for x in dedicated_experimenrts):\n",
    "            sb.append(ex)\n",
    "\n",
    "    experiments_dir = sb\n"
   ]
  },
  {
   "cell_type": "code",
   "execution_count": 30,
   "metadata": {
    "collapsed": false,
    "deletable": true,
    "editable": true
   },
   "outputs": [
    {
     "data": {
      "text/plain": [
       "['/orions4-zfs/projects/lins2/Panos_Space/DATA/OUT/icml/synthetic_point_clouds/nb_wgan_gp_ae_17_emd_chair_2048_best_epoch',\n",
       " '/orions4-zfs/projects/lins2/Panos_Space/DATA/OUT/icml/synthetic_point_clouds/nb_wgan_gp_ae_14_emd_chair_2048_best_epoch',\n",
       " '/orions4-zfs/projects/lins2/Panos_Space/DATA/OUT/icml/synthetic_point_clouds/nb_wgan_gp_ae_16_emd_chair_2048_best_epoch',\n",
       " '/orions4-zfs/projects/lins2/Panos_Space/DATA/OUT/icml/synthetic_point_clouds/nb_wgan_gp_ae_10_emd_chair_2048_best_epoch']"
      ]
     },
     "execution_count": 30,
     "metadata": {},
     "output_type": "execute_result"
    }
   ],
   "source": [
    "experiments_dir"
   ]
  },
  {
   "cell_type": "code",
   "execution_count": 31,
   "metadata": {
    "collapsed": false,
    "deletable": true,
    "editable": true
   },
   "outputs": [],
   "source": [
    "fout = open(osp.join(top_out_dir, id_token + '_evaluations.sh'), 'w', 1)\n",
    "for ex in experiments_dir:    \n",
    "    command = executable + ' --sample_dir ' + ex + ' --ref ' +  ref_data + ' --out_file ' + osp.join(ex, id_token + '_stats.txt')\n",
    "    fout.write(command + '\\n\\n')\n",
    "fout.close()"
   ]
  }
 ],
 "metadata": {
  "kernelspec": {
   "display_name": "Python 2",
   "language": "python",
   "name": "python2"
  },
  "language_info": {
   "codemirror_mode": {
    "name": "ipython",
    "version": 2
   },
   "file_extension": ".py",
   "mimetype": "text/x-python",
   "name": "python",
   "nbconvert_exporter": "python",
   "pygments_lexer": "ipython2",
   "version": "2.7.6"
  }
 },
 "nbformat": 4,
 "nbformat_minor": 2
}
