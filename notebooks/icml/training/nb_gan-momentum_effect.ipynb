{
 "cells": [
  {
   "cell_type": "code",
   "execution_count": 1,
   "metadata": {
    "collapsed": false,
    "deletable": true,
    "editable": true
   },
   "outputs": [
    {
     "name": "stdout",
     "output_type": "stream",
     "text": [
      "Picking GPU 0\n"
     ]
    }
   ],
   "source": [
    "from general_tools.notebook.gpu_utils import setup_one_gpu\n",
    "GPU = 0\n",
    "setup_one_gpu(GPU)"
   ]
  },
  {
   "cell_type": "code",
   "execution_count": 2,
   "metadata": {
    "collapsed": false,
    "deletable": true,
    "editable": true
   },
   "outputs": [
    {
     "name": "stderr",
     "output_type": "stream",
     "text": [
      "/usr/local/lib/python2.7/dist-packages/matplotlib/font_manager.py:273: UserWarning: Matplotlib is building the font cache using fc-list. This may take a moment.\n",
      "  warnings.warn('Matplotlib is building the font cache using fc-list. This may take a moment.')\n"
     ]
    }
   ],
   "source": [
    "import sys\n",
    "import time\n",
    "import numpy as np\n",
    "import os.path as osp\n",
    "import tensorflow as tf\n",
    "import matplotlib.pyplot as plt\n",
    "\n",
    "from general_tools.notebook.tf import reset_tf_graph\n",
    "\n",
    "import tf_lab.point_clouds.in_out as pio\n",
    "from tf_lab.point_clouds.in_out import PointCloudDataSet, write_model_ids_of_datasets\n",
    "\n",
    "from tf_lab.point_clouds.point_net_ae import PointNetAutoEncoder\n",
    "from tf_lab.point_clouds.autoencoder import Configuration as Conf\n",
    "import tf_lab.point_clouds.encoders_decoders as enc_dec\n",
    "\n",
    "from tf_lab.autopredictors.scripts.helper import shape_net_category_to_synth_id\n",
    "\n",
    "from tf_lab.autopredictors.plotting import plot_original_pclouds_vs_reconstructed, \\\n",
    "                                           plot_train_val_test_curves, plot_reconstructions_at_epoch\n",
    "\n",
    "from tf_lab.autopredictors.evaluate import eval_model, read_saved_epochs\n",
    "                                                  \n",
    "from general_tools.in_out.basics import create_dir, delete_files_in_directory, files_in_subdirs\n",
    "from general_tools.simpletons import select_first_last_and_k\n",
    "from geo_tool import Point_Cloud\n",
    "\n",
    "from tf_lab.nips.shape_net import pc_loader as sn_pc_loader\n",
    "from tf_lab.autopredictors.exploration import latent_embedding_of_entire_dataset\n",
    "from tf_lab.point_clouds.raw_gan import RawGAN\n",
    "from tf_lab.point_clouds.latent_gan import LatentGAN\n",
    "\n",
    "from tf_lab.point_clouds.point_net_ae import PointNetAutoEncoder\n",
    "\n",
    "\n",
    "from tf_lab.nips.evaluate_gan import entropy_of_occupancy_grid, jensen_shannon_divergence, \\\n",
    "                                     sample_pclouds_distances\n",
    "\n",
    "from tf_lab.point_clouds.gan import model_saver_id\n",
    "\n",
    "from tf_lab.autopredictors.exploration import find_neighbors\n",
    "\n",
    "from tf_lab.nips.helper import pclouds_centered_and_half_sphere\n",
    "\n",
    "from tf_lab.point_clouds.generators_discriminators import latent_code_discriminator_two_layers, latent_code_generator_two_layers    \n",
    "\n",
    "from tf_lab.icml.ae_farm_helper import relevant_class"
   ]
  },
  {
   "cell_type": "code",
   "execution_count": 3,
   "metadata": {
    "collapsed": false,
    "deletable": true,
    "editable": true
   },
   "outputs": [],
   "source": [
    "%load_ext autoreload\n",
    "%autoreload 2\n",
    "%matplotlib inline"
   ]
  },
  {
   "cell_type": "code",
   "execution_count": 18,
   "metadata": {
    "collapsed": false,
    "deletable": true,
    "editable": true
   },
   "outputs": [],
   "source": [
    "n_pc_samples = 2048\n",
    "do_training = True\n",
    "do_plotting = True\n",
    "ae_loss = 'emd'\n",
    "\n",
    "save_synthetic_samples = True\n",
    "save_model = True\n",
    "saver_step = 10\n",
    "\n",
    "# class_name = raw_input('Give me the class type: ').lower()\n",
    "class_name = 'chair'\n",
    "# ae_id = raw_input('Give me the AE/experiment ID: ').lower()\n",
    "ae_id = '12' # 128 bottleneck\n",
    "# cmp_type = raw_input('Comparison Type (best epoch vs. max_min epoch): ').lower()\n",
    "cmp_type = 'best'\n",
    "\n",
    "syn_id = shape_net_category_to_synth_id()[class_name]\n",
    "\n",
    "experiment_name = '_'.join(['nb_gan_ae', ae_id, ae_loss, class_name, str(n_pc_samples), cmp_type, 'epoch'])\n",
    "\n",
    "top_data_dir = '/orions4-zfs/projects/lins2/Panos_Space/DATA/'\n",
    "synthetic_data_out_dir = '/orions4-zfs/projects/lins2/Panos_Space/DATA/OUT/icml/synthetic_point_clouds'\n",
    "top_train_dir = osp.join(top_data_dir, 'OUT/icml/nn_models/gan/nb_gan/momentum_search')"
   ]
  },
  {
   "cell_type": "code",
   "execution_count": 7,
   "metadata": {
    "collapsed": false,
    "deletable": true,
    "editable": true
   },
   "outputs": [
    {
     "name": "stdout",
     "output_type": "stream",
     "text": [
      "6778 files containing complete point clouds were found.\n"
     ]
    }
   ],
   "source": [
    "# Load Raw Point-Clouds of class\n",
    "pclouds_path = osp.join(top_data_dir, 'Point_Clouds/Shape_Net/Core/from_manifold_meshes/centered/', str(n_pc_samples))\n",
    "pclouds_path = osp.join(pclouds_path, syn_id)\n",
    "file_names = pio.load_filenames_of_input_data(pclouds_path, '.ply')\n",
    "pclouds, model_ids, syn_ids = pio.load_crude_point_clouds(file_names=file_names, n_threads=50, loader=sn_pc_loader)\n",
    "print '%d files containing complete point clouds were found.' % (len(pclouds), )"
   ]
  },
  {
   "cell_type": "code",
   "execution_count": 8,
   "metadata": {
    "collapsed": false,
    "deletable": true,
    "editable": true
   },
   "outputs": [],
   "source": [
    "ae_help = relevant_class(ae_loss)"
   ]
  },
  {
   "cell_type": "code",
   "execution_count": 9,
   "metadata": {
    "collapsed": false,
    "deletable": true,
    "editable": true
   },
   "outputs": [
    {
     "name": "stdout",
     "output_type": "stream",
     "text": [
      "990\n",
      "Model restored in epoch 990.\n"
     ]
    }
   ],
   "source": [
    "# Load Auto-Encoder\n",
    "ae_net_name = 'ae_farm_' + class_name + '_conv_arch_' + ae_id + '_2048pts_' + ae_loss\n",
    "ae_net_dir = osp.join(top_data_dir, 'OUT/icml/nn_models/ae_farming', ae_net_name)\n",
    "ae_conf = Conf.load(osp.join(ae_net_dir, 'configuration'))\n",
    "reset_tf_graph()\n",
    "ae = PointNetAutoEncoder(ae_net_name, ae_conf)\n",
    "bneck = ae.bottleneck_size\n",
    "assert(ae_help.experiment_id_to_bneck[int(ae_id)] == bneck) \n",
    "\n",
    "if cmp_type.startswith('best'):\n",
    "    load_epoch, _ = ae_help.best_epochs[bneck]\n",
    "    print load_epoch\n",
    "elif cmp_type.startswith('max'):\n",
    "    load_epoch, _ = ae_help.max_min_epochs[bneck]\n",
    "else:\n",
    "    assert(False)\n",
    "    saved_epochs = read_saved_epochs(ae_conf.train_dir)\n",
    "    load_epoch = saved_epochs[-1]\n",
    "\n",
    "ae.restore_model(ae_conf.train_dir, load_epoch, verbose=True)"
   ]
  },
  {
   "cell_type": "code",
   "execution_count": 11,
   "metadata": {
    "collapsed": false,
    "deletable": true,
    "editable": true
   },
   "outputs": [],
   "source": [
    "# Convert raw-data to latent codes.\n",
    "raw_data = PointCloudDataSet(pclouds, init_shuffle=False)\n",
    "_, latent_codes, _ = latent_embedding_of_entire_dataset(raw_data, ae, ae_conf)\n",
    "training_data = PointCloudDataSet(latent_codes)"
   ]
  },
  {
   "cell_type": "code",
   "execution_count": 1,
   "metadata": {
    "collapsed": false,
    "deletable": true,
    "editable": true
   },
   "outputs": [],
   "source": [
    "init_lr = 0.0001\n",
    "batch_size = 50\n",
    "\n",
    "noise_params = {'mu':0, 'sigma': 0.5}\n",
    "noise_dim = ae.bottleneck_size\n",
    "max_epochs = 500\n",
    "\n",
    "n_syn_samples = training_data.num_examples  # Same number as original GT data.\n",
    "n_out = [ae.bottleneck_size]\n",
    "\n",
    "momentum_grid = [0.9, 0.5, 0.2, 0.1, 0.0, -0.1, -0.2, -0.5, -0.9]\n",
    "for momentum in momentum_grid:\n",
    "    train_dir = osp.join(top_train_dir, experiment_name, str(momentum))\n",
    "    save_dir = osp.join(synthetic_data_out_dir, 'momentum_search', experiment_name, str(momentum))    \n",
    "    create_dir(train_dir)\n",
    "    create_dir(save_dir)\n",
    "    reset_tf_graph()\n",
    "    gan = LatentGAN(experiment_name, init_lr, n_out, noise_dim, \\\n",
    "                    latent_code_discriminator_two_layers, latent_code_generator_two_layers, \\\n",
    "                    beta=momentum)\n",
    "    \n",
    "    \n",
    "    buf_size = 1 # flush each line\n",
    "    if do_training:    \n",
    "        train_stats = []\n",
    "        log_file = open(osp.join(train_dir, 'train_stats.txt'), 'a', buf_size)\n",
    "        for _ in range(max_epochs):        \n",
    "            loss, duration = gan._single_epoch_train(training_data, batch_size, noise_params)\n",
    "            epoch = int(gan.sess.run(gan.epoch.assign_add(tf.constant(1.0))))\n",
    "            print epoch, loss                \n",
    "            log_file.write('%04d\\t%.9f\\t%.9f\\t%.4f\\n' % (epoch, loss[0], loss[1], duration / 60.0))        \n",
    "\n",
    "            if save_model and (epoch % saver_step == 0 or epoch <= 5):\n",
    "                checkpoint_path = osp.join(train_dir, model_saver_id)\n",
    "                gan.saver.save(gan.sess, checkpoint_path, global_step=gan.epoch)\n",
    "                syn_latent_data = gan.generate(n_syn_samples, noise_params)\n",
    "                syn_data = ae.decode(syn_latent_data)\n",
    "                np.savez(osp.join(save_dir, 'epoch_' + str(epoch)), syn_data)\n",
    "                for k in range(3):\n",
    "                    Point_Cloud(syn_data[k]).plot(in_u_sphere=True)\n",
    "\n",
    "            train_stats.append((epoch,) + loss)\n",
    "        log_file.close()\n",
    "        \n",
    "    if do_plotting:\n",
    "        x = range(len(train_stats))\n",
    "        d_loss = [t[1] for t in train_stats]\n",
    "        g_loss = [t[2] for t in train_stats]\n",
    "        plt.plot(x, d_loss, '--')\n",
    "        plt.plot(x, g_loss)\n",
    "        plt.title('Latent GAN training. (%s, %s, %s-bneck)' %(class_name, ae_loss, ae.bottleneck_size))\n",
    "        plt.legend(['Discriminator', 'Generator'], loc=0)\n",
    "\n",
    "        plt.tick_params(axis='x', which='both', bottom='off', top='off')\n",
    "        plt.tick_params(axis='y', which='both', left='off', right='off')\n",
    "\n",
    "        plt.xlabel('Epochs.') \n",
    "        plt.ylabel('Loss.')\n",
    "\n",
    "        plt.savefig(osp.join(train_dir, 'training_curve.png'))"
   ]
  }
 ],
 "metadata": {
  "kernelspec": {
   "display_name": "Python 2",
   "language": "python",
   "name": "python2"
  },
  "language_info": {
   "codemirror_mode": {
    "name": "ipython",
    "version": 2
   },
   "file_extension": ".py",
   "mimetype": "text/x-python",
   "name": "python",
   "nbconvert_exporter": "python",
   "pygments_lexer": "ipython2",
   "version": "2.7.6"
  }
 },
 "nbformat": 4,
 "nbformat_minor": 2
}
