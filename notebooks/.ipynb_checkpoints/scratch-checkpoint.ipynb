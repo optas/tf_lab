{
 "cells": [
  {
   "cell_type": "code",
   "execution_count": 4,
   "metadata": {
    "collapsed": false
   },
   "outputs": [],
   "source": [
    "import numpy as np  \n",
    "import matplotlib.pyplot as plt  \n",
    "  \n",
    "from keras.models import Sequential  \n",
    "from keras.layers import Dense, Activation  \n",
    "from keras.optimizers import SGD"
   ]
  },
  {
   "cell_type": "code",
   "execution_count": null,
   "metadata": {
    "collapsed": true
   },
   "outputs": [],
   "source": [
    "# the dimensionality of x vectors   \n",
    "Dx = 2    \n",
    "# the cardinality of y   \n",
    "Cy = 8    \n",
    "# pick Py randomly, each entry from 1..5, then normalize  \n",
    "Py = np.random.choice(range(1,4), Cy)  \n",
    "Py=Py/sum(Py)  \n",
    "# pick the A parameters   \n",
    "A = np.random.uniform(0, 10, [Dx+1, Cy])  \n",
    "  \n",
    "# number of samples   \n",
    "N=10000  \n",
    "  \n",
    "# Generate the samples    \n",
    "Y= np.random.choice(Cy, N, p=Py)  \n",
    "T= np.zeros([N, Dx+1])  \n",
    "  \n",
    "for j in range(Cy):  \n",
    "    T[Y==j, :] = np.random.dirichlet(A[:, j], sum(Y==j))  \n",
    "\n",
    "X = T[:, :-1]  \n",
    "  \n",
    "# make the labels  \n",
    "Labels=np.zeros([N, Cy]) # neural network takes the indicators instead of Y      \n",
    "for i in range(N):  \n",
    "    Labels[i, Y[i]]=1  \n",
    "  \n",
    "# centralize       \n",
    "Xbar=sum(X)/N  \n",
    "X=X-np.tile(Xbar, [N,1])  "
   ]
  }
 ],
 "metadata": {
  "kernelspec": {
   "display_name": "TensorFlow1",
   "language": "python",
   "name": "tf1"
  },
  "language_info": {
   "codemirror_mode": {
    "name": "ipython",
    "version": 2
   },
   "file_extension": ".py",
   "mimetype": "text/x-python",
   "name": "python",
   "nbconvert_exporter": "python",
   "pygments_lexer": "ipython2",
   "version": "2.7.6"
  }
 },
 "nbformat": 4,
 "nbformat_minor": 2
}
