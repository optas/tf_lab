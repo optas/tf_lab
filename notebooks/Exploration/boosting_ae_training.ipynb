{
 "cells": [
  {
   "cell_type": "code",
   "execution_count": null,
   "metadata": {
    "collapsed": true
   },
   "outputs": [],
   "source": [
    "from tf_lab.external.structural_pc_losses import losses\n",
    "\n",
    "nn_distance, approx_match, match_cost = losses()"
   ]
  },
  {
   "cell_type": "code",
   "execution_count": null,
   "metadata": {
    "collapsed": true,
    "scrolled": true
   },
   "outputs": [],
   "source": [
    "LOAD AE"
   ]
  },
  {
   "cell_type": "code",
   "execution_count": null,
   "metadata": {
    "collapsed": true
   },
   "outputs": [],
   "source": [
    "test_recon, l_test = reconstruct_pclouds(ae, in_data['test'].point_clouds, batch_size=100)"
   ]
  },
  {
   "cell_type": "code",
   "execution_count": null,
   "metadata": {
    "collapsed": true
   },
   "outputs": [],
   "source": [
    "worst_k = 224"
   ]
  },
  {
   "cell_type": "code",
   "execution_count": null,
   "metadata": {
    "collapsed": true
   },
   "outputs": [],
   "source": [
    "cost_p1_p2, gt_mapped_to, _, _ = nn_distance(ae.gt, ae.x_reconstr)\n",
    "\n",
    "worst_mapped = tf.nn.top_k(cost_p1_p2, worst_k)\n",
    "\n",
    "b_size = tf.shape(gt_mapped_to)[0]\n",
    "\n",
    "row_idx = tf.range(b_size, dtype=tf.int32)\n",
    "row_idx = tf.reshape(tf.tile(row_idx, [worst_k]), [worst_k, -1])\n",
    "row_idx = tf.transpose(row_idx)\n",
    "col_idx = worst_mapped.indices\n",
    "\n",
    "coords = tf.transpose(tf.stack([row_idx, col_idx]))\n",
    "\n",
    "gt_problematics = tf.squeeze(tf.gather_nd(ae.x, coords)) # worse points-of GT\n",
    "\n",
    "col_idx = tf.transpose(tf.gather_nd(gt_mapped_to, coords)) \n",
    "coords = tf.transpose(tf.stack([row_idx, col_idx]))\n",
    "col_idx = tf.squeeze(tf.gather_nd(ae.x_reconstr, coords)) # Guys where above where matched"
   ]
  },
  {
   "cell_type": "code",
   "execution_count": null,
   "metadata": {
    "collapsed": true
   },
   "outputs": [],
   "source": [
    "rid = np.random.randint(in_data['train'].num_examples-1)\n",
    "feed = in_data['train'].point_clouds[rid:rid+1]\n",
    "feed_dict = {ae.x: feed}\n",
    "where_gt_was_mapped, gt_prob_, recon = ae.sess.run([col_idx, gt_problematics, ae.x_reconstr[0]], feed_dict=feed_dict)\n",
    "fig1 = Point_Cloud(feed[0]).plot(azim=15);\n",
    "fig2 = Point_Cloud(recon).plot(azim=15);\n",
    "Point_Cloud(where_gt_was_mapped).plot(azim=15);\n",
    "Point_Cloud(gt_prob_).plot(azim=15);"
   ]
  },
  {
   "cell_type": "code",
   "execution_count": null,
   "metadata": {
    "collapsed": true
   },
   "outputs": [],
   "source": [
    "# Use below to verify.\n",
    "from pc_completions.evaluation import accuracy_of_pc_completion\n",
    "# _, color = accuracy_of_pc_completion(feed[0], recon,thres=0.02, ret_dists=True)\n",
    "_, color = accuracy_of_pc_completion(recon, feed[0],thres=0.02, ret_dists=True)\n",
    "color = np.squeeze(color)\n",
    "rev_idx = np.argsort(color)[::-1]\n",
    "Point_Cloud(recon[rev_idx[:224]]).plot(azim=15)"
   ]
  }
 ],
 "metadata": {
  "kernelspec": {
   "display_name": "TensorFlow1",
   "language": "python",
   "name": "tf1"
  },
  "language_info": {
   "codemirror_mode": {
    "name": "ipython",
    "version": 2
   },
   "file_extension": ".py",
   "mimetype": "text/x-python",
   "name": "python",
   "nbconvert_exporter": "python",
   "pygments_lexer": "ipython2",
   "version": "2.7.6"
  }
 },
 "nbformat": 4,
 "nbformat_minor": 2
}
