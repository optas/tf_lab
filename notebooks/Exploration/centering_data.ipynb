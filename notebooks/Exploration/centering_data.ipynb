{
 "cells": [
  {
   "cell_type": "code",
   "execution_count": null,
   "metadata": {
    "collapsed": true
   },
   "outputs": [],
   "source": [
    "n_threads = 25\n",
    "verbose = True\n",
    "pc_versions = ['centered_2']\n",
    "pclouds = []\n",
    "for version in pc_versions:\n",
    "    full_pclouds_path = osp.join(top_data_dir, 'Point_Clouds/Shape_Net/Core/from_manifold_meshes/', version, str(n_pc_samples) )\n",
    "    full_file_names = [f for f in files_in_subdirs(full_pclouds_path, '.ply')]\n",
    "    pclouds_v, _, _ = load_point_clouds_from_filenames(full_file_names, n_threads, snc_loader, verbose)\n",
    "    pclouds.append(pclouds_v)"
   ]
  },
  {
   "cell_type": "code",
   "execution_count": null,
   "metadata": {
    "collapsed": true
   },
   "outputs": [],
   "source": [
    "# for i in range(in_data['train'].num_examples):\n",
    "#     pc = Point_Cloud(in_data['test'].point_clouds[i])\n",
    "#     if not (pc.is_in_unit_sphere() and pc.is_centered_in_origin()):\n",
    "#         print i"
   ]
  }
 ],
 "metadata": {
  "kernelspec": {
   "display_name": "TensorFlow1",
   "language": "python",
   "name": "tf1"
  },
  "language_info": {
   "codemirror_mode": {
    "name": "ipython",
    "version": 2
   },
   "file_extension": ".py",
   "mimetype": "text/x-python",
   "name": "python",
   "nbconvert_exporter": "python",
   "pygments_lexer": "ipython2",
   "version": "2.7.6"
  }
 },
 "nbformat": 4,
 "nbformat_minor": 2
}
