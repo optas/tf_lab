{
 "cells": [
  {
   "cell_type": "code",
   "execution_count": 1,
   "metadata": {
    "collapsed": false
   },
   "outputs": [
    {
     "name": "stdout",
     "output_type": "stream",
     "text": [
      "Picking GPU 2\n"
     ]
    }
   ],
   "source": [
    "from general_tools.notebook.gpu_utils import setup_one_gpu\n",
    "GPU = 2\n",
    "setup_one_gpu(GPU)"
   ]
  },
  {
   "cell_type": "code",
   "execution_count": 2,
   "metadata": {
    "collapsed": true
   },
   "outputs": [],
   "source": [
    "from scipy.io import loadmat\n",
    "from geo_tool import Point_Cloud\n",
    "import matplotlib.pylab as plt\n",
    "from scipy.spatial.distance import pdist\n",
    "import numpy as np\n",
    "import tensorflow as tf"
   ]
  },
  {
   "cell_type": "code",
   "execution_count": 3,
   "metadata": {
    "collapsed": true
   },
   "outputs": [],
   "source": [
    "from tflearn.layers.core import fully_connected\n",
    "from tf_lab.point_clouds.encoders_decoders import encoder_with_convs_and_symmetry_new, decoder_with_fc_only\n",
    "from tf_lab.data_sets.numpy_dataset import NumpyDataset"
   ]
  },
  {
   "cell_type": "code",
   "execution_count": null,
   "metadata": {
    "collapsed": true
   },
   "outputs": [],
   "source": [
    "from numpy.linalg import norm"
   ]
  },
  {
   "cell_type": "code",
   "execution_count": 4,
   "metadata": {
    "collapsed": true
   },
   "outputs": [],
   "source": [
    "%matplotlib inline"
   ]
  },
  {
   "cell_type": "code",
   "execution_count": 36,
   "metadata": {
    "collapsed": false
   },
   "outputs": [],
   "source": [
    "# LOAD Data\n",
    "fmaps = '/orions4-zfs/projects/optas/DATA/OUT/latent_parametric_models/lhsmat32.mat'\n",
    "fmaps = loadmat(fmaps)['lhsmat']\n",
    "\n",
    "params = '/orions4-zfs/projects/optas/DATA/OUT/latent_parametric_models/rhsmat32.mat'\n",
    "params = loadmat(params)['rhsmat']"
   ]
  },
  {
   "cell_type": "code",
   "execution_count": 37,
   "metadata": {
    "collapsed": false
   },
   "outputs": [],
   "source": [
    "thres = 1e-6\n",
    "fmaps[abs(fmaps) < thres] = 0\n",
    "fmaps = np.rollaxis(fmaps, 2, 0)\n",
    "params = params.transpose()"
   ]
  },
  {
   "cell_type": "code",
   "execution_count": 42,
   "metadata": {
    "collapsed": false
   },
   "outputs": [],
   "source": [
    "split = 1800\n",
    "train_fmaps = fmaps[:split]\n",
    "test_fmaps = fmaps[split:]\n",
    "train_params = params[:split]\n",
    "test_params = params[split:]"
   ]
  },
  {
   "cell_type": "code",
   "execution_count": 43,
   "metadata": {
    "collapsed": false
   },
   "outputs": [
    {
     "name": "stdout",
     "output_type": "stream",
     "text": [
      "['fmaps', 'params']\n",
      "['fmaps', 'params']\n"
     ]
    }
   ],
   "source": [
    "train_data = NumpyDataset([train_fmaps, train_params], ['fmaps', 'params'])\n",
    "test_data = NumpyDataset([test_fmaps, test_params], ['fmaps', 'params'])"
   ]
  },
  {
   "cell_type": "code",
   "execution_count": 48,
   "metadata": {
    "collapsed": false
   },
   "outputs": [],
   "source": [
    "n_latent = fmaps.shape[1]\n",
    "n_regressor = params.shape[1]"
   ]
  },
  {
   "cell_type": "code",
   "execution_count": 79,
   "metadata": {
    "collapsed": false
   },
   "outputs": [],
   "source": [
    "in_fmaps = tf.placeholder(tf.float32, shape=(None, n_latent, n_latent))\n",
    "in_labels = tf.placeholder(tf.float32, shape=[None, n_regressor])\n",
    "net_out = decoder_with_fc_only(in_fmaps, layer_sizes=[20, 20, n_regressor])\n",
    "net_out = tf.nn.relu(net_out)\n",
    "problem_loss = tf.losses.mean_squared_error(in_labels, net_out)"
   ]
  },
  {
   "cell_type": "code",
   "execution_count": 80,
   "metadata": {
    "collapsed": false
   },
   "outputs": [],
   "source": [
    "learning_rate = 0.001\n",
    "opt = tf.train.AdamOptimizer(learning_rate)\n",
    "opt_step = opt.minimize(problem_loss)"
   ]
  },
  {
   "cell_type": "code",
   "execution_count": 81,
   "metadata": {
    "collapsed": true
   },
   "outputs": [],
   "source": [
    "config = tf.ConfigProto()\n",
    "config.gpu_options.allow_growth = True\n",
    "sess = tf.Session(config=config)\n",
    "init=tf.global_variables_initializer()\n",
    "sess.run(init)"
   ]
  },
  {
   "cell_type": "code",
   "execution_count": 86,
   "metadata": {
    "collapsed": false
   },
   "outputs": [
    {
     "name": "stdout",
     "output_type": "stream",
     "text": [
      "0.0308578217195 [0.065277383]\n",
      "0.0309070274234 [0.065784387]\n",
      "0.0299088238842 [0.065598078]\n",
      "0.0305827625303 [0.065631524]\n",
      "0.0291280402905 [0.066567391]\n",
      "0.0301061295387 [0.065252505]\n",
      "0.029432560369 [0.066385277]\n",
      "0.0296046233529 [0.065687418]\n",
      "0.0293777066593 [0.066242151]\n",
      "0.0289021830799 [0.066338778]\n",
      "0.0289907762781 [0.065070219]\n",
      "0.0287428568635 [0.066467859]\n",
      "0.0282371911324 [0.065835617]\n",
      "0.0283515454891 [0.065238044]\n",
      "0.0286126776288 [0.066375569]\n",
      "0.0280086469009 [0.065429524]\n",
      "0.0276198158972 [0.066849858]\n",
      "0.0278730547159 [0.065490685]\n",
      "0.028002074247 [0.066800088]\n",
      "0.027592913765 [0.066928625]\n"
     ]
    }
   ],
   "source": [
    "batch_size = 50\n",
    "steps_per_epoch = train_data.n_examples / batch_size\n",
    "max_epochs = 20\n",
    "losses_per_epoch = []\n",
    "\n",
    "for epoch in range(max_epochs):\n",
    "    total_loss = 0.0\n",
    "    for _ in range(steps_per_epoch):\n",
    "        f, p = train_data.next_batch(batch_size)\n",
    "        feed_dict = {in_fmaps:f, in_labels:p}\n",
    "        _, l =sess.run([opt_step, problem_loss], feed_dict=feed_dict)\n",
    "        total_loss += l        \n",
    "    losses_per_epoch.append(total_loss / float(steps_per_epoch))\n",
    "    print losses_per_epoch[-1], loss_on_test(test_data)"
   ]
  },
  {
   "cell_type": "code",
   "execution_count": 89,
   "metadata": {
    "collapsed": true
   },
   "outputs": [],
   "source": [
    "def loss_on_test(test_data):\n",
    "    f = test_data.fmaps\n",
    "    p = test_data.params\n",
    "    feed_dict = {in_fmaps:f, in_labels:p}\n",
    "    total_loss = sess.run([problem_loss], feed_dict=feed_dict)\n",
    "    return total_loss\n",
    "\n",
    "def predict_on_test(test_data):\n",
    "    f = test_data.fmaps\n",
    "    p = test_data.params\n",
    "    feed_dict = {in_fmaps:f, in_labels:p}\n",
    "    return sess.run([net_out], feed_dict=feed_dict)"
   ]
  },
  {
   "cell_type": "code",
   "execution_count": 93,
   "metadata": {
    "collapsed": true
   },
   "outputs": [],
   "source": [
    "import matplotlib.pylab as plt\n",
    "%matplotlib inline"
   ]
  },
  {
   "cell_type": "code",
   "execution_count": 102,
   "metadata": {
    "collapsed": false
   },
   "outputs": [
    {
     "ename": "AttributeError",
     "evalue": "'list' object has no attribute 'shape'",
     "output_type": "error",
     "traceback": [
      "\u001b[0;31m---------------------------------------------------------------------------\u001b[0m",
      "\u001b[0;31mAttributeError\u001b[0m                            Traceback (most recent call last)",
      "\u001b[0;32m<ipython-input-102-1d452f5807e9>\u001b[0m in \u001b[0;36m<module>\u001b[0;34m()\u001b[0m\n\u001b[0;32m----> 1\u001b[0;31m \u001b[0mtest_predictions\u001b[0m\u001b[0;34m.\u001b[0m\u001b[0mshape\u001b[0m\u001b[0;34m\u001b[0m\u001b[0m\n\u001b[0m",
      "\u001b[0;31mAttributeError\u001b[0m: 'list' object has no attribute 'shape'"
     ]
    }
   ],
   "source": [
    "test_predictions.shape"
   ]
  },
  {
   "cell_type": "code",
   "execution_count": 124,
   "metadata": {
    "collapsed": false
   },
   "outputs": [],
   "source": []
  },
  {
   "cell_type": "code",
   "execution_count": 127,
   "metadata": {
    "collapsed": false
   },
   "outputs": [
    {
     "data": {
      "text/plain": [
       "0.87143507278866483"
      ]
     },
     "execution_count": 127,
     "metadata": {},
     "output_type": "execute_result"
    }
   ],
   "source": [
    "np.mean(norm(test_predictions - test_data.params, axis=1))"
   ]
  },
  {
   "cell_type": "code",
   "execution_count": 111,
   "metadata": {
    "collapsed": false
   },
   "outputs": [
    {
     "data": {
      "text/plain": [
       "[<matplotlib.lines.Line2D at 0x7f2e7af96090>]"
      ]
     },
     "execution_count": 111,
     "metadata": {},
     "output_type": "execute_result"
    },
    {
     "data": {
      "image/png": "[encoded data removed]",
      "text/plain": [
       "<matplotlib.figure.Figure at 0x7f2e90670050>"
      ]
     },
     "metadata": {},
     "output_type": "display_data"
    }
   ],
   "source": [
    "test_predictions = predict_on_test(test_data)[0]\n",
    "k = 6\n",
    "plt.plot(range(n_regressor), test_predictions[k], 'r')\n",
    "plt.plot(range(n_regressor), test_data.params[k], 'b')"
   ]
  }
 ],
 "metadata": {
  "kernelspec": {
   "display_name": "TensorFlow1",
   "language": "python",
   "name": "tf1"
  },
  "language_info": {
   "codemirror_mode": {
    "name": "ipython",
    "version": 2
   },
   "file_extension": ".py",
   "mimetype": "text/x-python",
   "name": "python",
   "nbconvert_exporter": "python",
   "pygments_lexer": "ipython2",
   "version": "2.7.6"
  }
 },
 "nbformat": 4,
 "nbformat_minor": 2
}
