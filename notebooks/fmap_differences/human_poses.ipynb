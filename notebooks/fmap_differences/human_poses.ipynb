{
 "cells": [
  {
   "cell_type": "code",
   "execution_count": 1,
   "metadata": {
    "collapsed": false
   },
   "outputs": [
    {
     "name": "stdout",
     "output_type": "stream",
     "text": [
      "Picking GPU 0\n"
     ]
    }
   ],
   "source": [
    "from general_tools.notebook.gpu_utils import setup_one_gpu\n",
    "GPU = 0\n",
    "setup_one_gpu(GPU)"
   ]
  },
  {
   "cell_type": "code",
   "execution_count": 3,
   "metadata": {
    "collapsed": false
   },
   "outputs": [],
   "source": [
    "import numpy as np\n",
    "import tensorflow as tf\n",
    "import os.path as osp\n",
    "import matplotlib.pylab as plt\n",
    "from scipy.spatial.distance import pdist\n",
    "from sklearn.cluster import KMeans\n",
    "from collections import defaultdict\n",
    "from scipy.io import loadmat, savemat"
   ]
  },
  {
   "cell_type": "code",
   "execution_count": 4,
   "metadata": {
    "collapsed": true
   },
   "outputs": [],
   "source": [
    "from tflearn.layers.core import fully_connected\n",
    "from tflearn.layers.conv import conv_2d, max_pool_2d, avg_pool_2d\n",
    "from tf_lab.point_clouds.encoders_decoders import encoder_with_convs_and_symmetry_new, decoder_with_fc_only\n",
    "from tf_lab.fundamentals.inspect import count_trainable_parameters\n",
    "from tflearn import is_training"
   ]
  },
  {
   "cell_type": "code",
   "execution_count": 5,
   "metadata": {
    "collapsed": false
   },
   "outputs": [],
   "source": [
    "from general_tools.notebook.tf import reset_tf_graph\n",
    "from geo_tool import Point_Cloud, Mesh\n",
    "from helper import sub_collection_indices, sub_collection_pose_labels,\\\n",
    "load_pclouds_of_shapes, load_gt_latent_params, load_meshes, make_data, prepare_train_test_val\n",
    "\n",
    "import helper\n",
    "\n",
    "from geo_tool.solids.plotting import plot_mesh_via_matplotlib as plot_mesh"
   ]
  },
  {
   "cell_type": "code",
   "execution_count": 6,
   "metadata": {
    "collapsed": false
   },
   "outputs": [],
   "source": [
    "n_best_pc_parms = 34124\n"
   ]
  },
  {
   "cell_type": "code",
   "execution_count": 7,
   "metadata": {
    "collapsed": false
   },
   "outputs": [],
   "source": [
    "%load_ext autoreload\n",
    "%autoreload 2\n",
    "%matplotlib inline"
   ]
  },
  {
   "cell_type": "code",
   "execution_count": 8,
   "metadata": {
    "collapsed": false
   },
   "outputs": [],
   "source": [
    "total_shapes = helper.total_shapes\n",
    "n_pose_classes = helper.n_pose_classes"
   ]
  },
  {
   "cell_type": "code",
   "execution_count": 9,
   "metadata": {
    "collapsed": false
   },
   "outputs": [],
   "source": [
    "sub_member_per_class = 50\n",
    "\n",
    "n_shapes = sub_member_per_class * n_pose_classes\n",
    "\n",
    "seed = 42\n",
    "\n",
    "val_per = 0.10\n",
    "test_per = 0.15\n",
    "train_per = 1.0 - (val_per + test_per)\n",
    "\n",
    "n_pc_points = 1024\n",
    "\n",
    "do_pose_clf = False\n",
    "do_unsup_clf = False\n",
    "do_regression = True\n",
    "\n",
    "assert (do_regression + do_unsup_clf + do_pose_clf  == 1)\n",
    "\n",
    "normalize_pcs = False\n",
    "mean_norm_diffs = True"
   ]
  },
  {
   "cell_type": "code",
   "execution_count": 11,
   "metadata": {
    "collapsed": false
   },
   "outputs": [],
   "source": [
    "top_mesh_dir = '/orions4-zfs/projects/optas/DATA/Meshes/SCAPE_8_poses_2/'\n",
    "gt_param_f = osp.join(top_mesh_dir, 'gt_shape_params.mat')\n",
    "synced_bases_file = '/orions4-zfs/projects/optas/DATA/OUT/latent_diff_maps/experiments/SCAPE_8_poses_2/50_extract_20_knn_50_fmapd.mat'"
   ]
  },
  {
   "cell_type": "code",
   "execution_count": 36,
   "metadata": {
    "collapsed": false
   },
   "outputs": [
    {
     "name": "stdout",
     "output_type": "stream",
     "text": [
      "['feed', 'labels', 'ids']\n",
      "['feed', 'labels', 'ids']\n",
      "['feed', 'labels', 'ids']\n"
     ]
    }
   ],
   "source": [
    "use_pc = True\n",
    "\n",
    "arch = 'mlp'\n",
    "\n",
    "n_cons = 40\n",
    "\n",
    "f_layer = neurons_on_first_layer(n_cons)\n",
    "    \n"
   ]
  },
  {
   "cell_type": "code",
   "execution_count": 37,
   "metadata": {
    "collapsed": false
   },
   "outputs": [
    {
     "name": "stdout",
     "output_type": "stream",
     "text": [
      "34124\n"
     ]
    }
   ],
   "source": [
    "reset_tf_graph()\n",
    "\n",
    "\n",
    "\n",
    "if use_pc:\n",
    "    n_filters, n_neurons = pc_versions('v2')\n",
    "    feed_pl, net_out = pc_net(n_pc_points, do_regression, n_classes,\\\n",
    "                              n_filters=n_filters, n_neurons=n_neurons)\n",
    "else:\n",
    "    in_shape = in_data['train'].feed[0].shape\n",
    "    with tf.variable_scope('diff_based_net') as scope:\n",
    "        feed_pl = tf.placeholder(tf.float32, shape = (None, ) + in_shape)\n",
    "        if arch == 'mlp':\n",
    "            layer = fully_connected(feed_pl, f_layer, activation='relu', weights_init='xavier')\n",
    "            layer = fully_connected(layer, 50, activation='relu', weights_init='xavier')\n",
    "            layer = fully_connected(layer, 100, activation='relu', weights_init='xavier')\n",
    "        elif arch == 'conv':\n",
    "            \n",
    "\n",
    "        net_out = fully_connected(layer, n_classes, activation=last_nn, weights_init='xavier')\n",
    "n_tp = count_trainable_parameters()\n",
    "print n_tp\n"
   ]
  },
  {
   "cell_type": "code",
   "execution_count": 38,
   "metadata": {
    "collapsed": false
   },
   "outputs": [],
   "source": [
    "if do_regression:\n",
    "    loss = tf.losses.mean_squared_error(labels_pl, net_out)\n",
    "else:\n",
    "    prediction = tf.argmax(net_out, axis=1)\n",
    "    target_ = labels_pl\n",
    "    correct_pred = tf.equal(prediction, target_)\n",
    "    avg_accuracy = tf.reduce_mean(tf.cast(correct_pred, tf.float32))\n",
    "    one_hot_labels = tf.one_hot(labels_pl, depth=n_classes)\n",
    "    cross_entropy = tf.nn.softmax_cross_entropy_with_logits(logits=net_out, labels=one_hot_labels)\n",
    "    loss = tf.reduce_mean(cross_entropy)\n",
    "\n",
    "if use_pc:\n",
    "#   [learning_rate = 0.001, 0.002, 0.005, 0.01, 0.05]\n",
    "    learning_rate = 0.005\n",
    "    batch_size = 50\n",
    "    n_epochs = 500\n",
    "else:\n",
    "    learning_rate = 0.007\n",
    "    batch_size = 50\n",
    "    n_epochs = 500\n",
    "\n",
    "opt = tf.train.AdamOptimizer(learning_rate)\n",
    "opt_step = opt.minimize(loss)\n",
    "\n",
    "config = tf.ConfigProto()\n",
    "config.gpu_options.allow_growth = True\n",
    "sess = tf.Session(config=config)\n",
    "init=tf.global_variables_initializer()\n",
    "sess.run(init)"
   ]
  },
  {
   "cell_type": "code",
   "execution_count": 39,
   "metadata": {
    "collapsed": false
   },
   "outputs": [],
   "source": [
    "train_losses = []\n",
    "val_losses = []\n",
    "test_losses = []\n",
    "batches_for_epoch = train_data.n_examples / batch_size\n",
    "train_res = defaultdict(list)"
   ]
  },
  {
   "cell_type": "code",
   "execution_count": 40,
   "metadata": {
    "collapsed": false
   },
   "outputs": [],
   "source": [
    "verbose = False\n",
    "for epoch in range(n_epochs):\n",
    "    is_training(True, session=sess)\n",
    "    for _ in range(batches_for_epoch):\n",
    "        batch_d, batch_l, _ = train_data.next_batch(batch_size)\n",
    "        feed_dict = {feed_pl:batch_d, labels_pl:batch_l}        \n",
    "        sess.run([opt_step], feed_dict=feed_dict)                \n",
    "    is_training(False, session=sess)\n",
    "    if verbose:\n",
    "        print epoch,\n",
    "    \n",
    "    for s in ['train', 'test', 'val']:\n",
    "        feed_dict = {feed_pl:in_data[s].feed, labels_pl:in_data[s].labels}\n",
    "        if do_regression:\n",
    "            r = sess.run([loss], feed_dict=feed_dict)\n",
    "        else:\n",
    "            r = sess.run([avg_accuracy], feed_dict=feed_dict)\n",
    "        train_res[s].append(r)\n",
    "        if verbose:\n",
    "            print r,\n",
    "    if verbose:\n",
    "        print"
   ]
  },
  {
   "cell_type": "code",
   "execution_count": 41,
   "metadata": {
    "collapsed": false
   },
   "outputs": [
    {
     "name": "stdout",
     "output_type": "stream",
     "text": [
      "1\n",
      "287\n",
      "[ 0.0219156]\n",
      "[ 0.07471598]\n"
     ]
    }
   ],
   "source": [
    "if do_regression:\n",
    "    seek = np.min(train_res['val'])\n",
    "else:\n",
    "    seek = np.max(train_res['val'])\n",
    "    \n",
    "val_maximizers = np.where(train_res['val'] == seek)[0]\n",
    "val_maximizer = val_maximizers[0]\n",
    "val_best = np.array(train_res['test'])[val_maximizer]\n",
    "\n",
    "print len(val_maximizers)\n",
    "print val_maximizer\n",
    "print val_best - np.array(train_res['train'])[val_maximizer]\n",
    "print val_best"
   ]
  },
  {
   "cell_type": "code",
   "execution_count": 451,
   "metadata": {
    "collapsed": false
   },
   "outputs": [],
   "source": [
    "test_params = in_data['test'].labels\n",
    "n_test = in_data['test'].n_examples\n",
    "s = 'test'\n",
    "feed_dict = {feed_pl:in_data[s].feed, labels_pl:l}\n",
    "pred_on_test = sess.run([net_out], feed_dict=feed_dict)[0]"
   ]
  },
  {
   "cell_type": "code",
   "execution_count": 452,
   "metadata": {
    "collapsed": false
   },
   "outputs": [
    {
     "name": "stdout",
     "output_type": "stream",
     "text": [
      "0.080691504173\n",
      "0.245829377336\n"
     ]
    }
   ],
   "source": [
    "average_train = in_data['train'].labels\n",
    "muT = np.repeat(np.mean(average_train, axis=0), n_test).reshape(12, n_test).T\n",
    "print np.mean((muT - test_params)**2)\n",
    "print np.sum(np.abs(muT - test_params)) / (np.prod(test_params.shape))"
   ]
  },
  {
   "cell_type": "code",
   "execution_count": 453,
   "metadata": {
    "collapsed": false
   },
   "outputs": [
    {
     "name": "stdout",
     "output_type": "stream",
     "text": [
      "0.17168497871\n"
     ]
    }
   ],
   "source": [
    "print np.sum(np.abs(pred_on_test - test_params)) / (np.prod(test_params.shape))"
   ]
  },
  {
   "cell_type": "code",
   "execution_count": 401,
   "metadata": {
    "collapsed": false
   },
   "outputs": [
    {
     "data": {
      "text/plain": [
       "0.23395247931796842"
      ]
     },
     "execution_count": 401,
     "metadata": {},
     "output_type": "execute_result"
    }
   ],
   "source": [
    "np.mean(np.sqrt(np.sum((pred_on_test - test_params)**2, axis=1)))"
   ]
  },
  {
   "cell_type": "code",
   "execution_count": 157,
   "metadata": {
    "collapsed": false
   },
   "outputs": [
    {
     "data": {
      "text/plain": [
       "Text(0.5,1,u'Diff-map input (conv) Net-stats for body-variation.')"
      ]
     },
     "execution_count": 157,
     "metadata": {},
     "output_type": "execute_result"
    },
    {
     "data": {
      "image/png": "[encoded data removed]",
      "text/plain": [
       "<matplotlib.figure.Figure at 0x7f74a86aa0d0>"
      ]
     },
     "metadata": {},
     "output_type": "display_data"
    }
   ],
   "source": [
    "# PLOT net stats.\n",
    "plt.plot(train_res['train'])\n",
    "plt.plot(train_res['test'])\n",
    "plt.grid()\n",
    "plt.legend(['Train', 'Test'])\n",
    "plt.xlabel('Epoch')\n",
    "plt.ylabel('Accuracy')\n",
    "\n",
    "if use_pc:\n",
    "    title_tag = 'Raw input'\n",
    "else:\n",
    "    title_tag = 'Diff-map input (%s)' % (arch,)\n",
    "\n",
    "plt.title('%s Net-stats for body-variation.'% (title_tag, ))\n",
    "# plt.text(100, 0.3, 'best by val:%.4f' % (val_best,), fontsize=12);"
   ]
  },
  {
   "cell_type": "code",
   "execution_count": null,
   "metadata": {
    "collapsed": true
   },
   "outputs": [],
   "source": []
  },
  {
   "cell_type": "code",
   "execution_count": null,
   "metadata": {
    "collapsed": true
   },
   "outputs": [],
   "source": []
  },
  {
   "cell_type": "code",
   "execution_count": 58,
   "metadata": {
    "collapsed": false
   },
   "outputs": [],
   "source": [
    "from general_tools.clustering.plt import plot_confusion_matrix\n",
    "from sklearn.metrics import confusion_matrix\n",
    "s = 'test'\n",
    "l = in_data[s].labels\n",
    "\n",
    "feed_dict = {feed_pl:in_data[s].feed, labels_pl:l}\n",
    "p = sess.run([prediction], feed_dict=feed_dict)[0]\n",
    "\n",
    "conf_m = confusion_matrix(l, p)"
   ]
  },
  {
   "cell_type": "code",
   "execution_count": 62,
   "metadata": {
    "collapsed": false
   },
   "outputs": [
    {
     "name": "stdout",
     "output_type": "stream",
     "text": [
      "Confusion matrix, without normalization\n",
      "[[2 0 0 0 1 0 0 1 1 0 0 0]\n",
      " [0 5 0 0 0 0 0 0 0 0 0 0]\n",
      " [0 2 2 1 0 0 0 0 0 0 0 0]\n",
      " [1 0 0 5 0 0 0 0 0 0 0 0]\n",
      " [0 0 0 0 5 0 0 0 0 0 0 0]\n",
      " [0 0 0 1 0 5 0 0 0 0 0 0]\n",
      " [0 0 1 0 0 0 4 0 0 0 0 0]\n",
      " [0 0 0 0 1 0 0 5 0 0 0 0]\n",
      " [0 0 0 0 1 0 0 0 3 0 0 0]\n",
      " [0 0 0 0 0 0 0 0 0 4 0 0]\n",
      " [1 0 0 0 0 0 0 0 0 0 3 1]\n",
      " [0 0 0 0 0 0 0 0 0 1 0 3]]\n"
     ]
    },
    {
     "data": {
      "image/png": "[encoded data removed]",
      "text/plain": [
       "<matplotlib.figure.Figure at 0x7f94b474bb50>"
      ]
     },
     "metadata": {},
     "output_type": "display_data"
    }
   ],
   "source": [
    "import inspect\n",
    "inspect.getargspec(plot_confusion_matrix)\n",
    "plot_confusion_matrix(conf_m, np.unique(in_labels))"
   ]
  },
  {
   "cell_type": "code",
   "execution_count": null,
   "metadata": {
    "collapsed": true
   },
   "outputs": [],
   "source": []
  },
  {
   "cell_type": "code",
   "execution_count": null,
   "metadata": {
    "collapsed": true
   },
   "outputs": [],
   "source": []
  },
  {
   "cell_type": "code",
   "execution_count": null,
   "metadata": {
    "collapsed": true
   },
   "outputs": [],
   "source": []
  },
  {
   "cell_type": "code",
   "execution_count": null,
   "metadata": {
    "collapsed": true
   },
   "outputs": [],
   "source": []
  },
  {
   "cell_type": "code",
   "execution_count": null,
   "metadata": {
    "collapsed": true
   },
   "outputs": [],
   "source": []
  },
  {
   "cell_type": "code",
   "execution_count": null,
   "metadata": {
    "collapsed": true
   },
   "outputs": [],
   "source": []
  },
  {
   "cell_type": "code",
   "execution_count": null,
   "metadata": {
    "collapsed": true
   },
   "outputs": [],
   "source": []
  },
  {
   "cell_type": "code",
   "execution_count": 65,
   "metadata": {
    "collapsed": false
   },
   "outputs": [
    {
     "data": {
      "text/plain": [
       "500"
      ]
     },
     "execution_count": 65,
     "metadata": {},
     "output_type": "execute_result"
    }
   ],
   "source": [
    "in_class_p = 0.01\n",
    "out_class_p = 0.01\n",
    "p_matrix = np.ones(shape = (n_classes, n_classes)) * out_class_p\n",
    "np.fill_diagonal(p_matrix, in_class_p)\n",
    "adj = SBM_from_class_labels(sorted(in_labels), p_matrix)"
   ]
  },
  {
   "cell_type": "code",
   "execution_count": 48,
   "metadata": {
    "collapsed": false
   },
   "outputs": [],
   "source": [
    "import random\n",
    "import numpy as np\n",
    "\n",
    "def SBM_from_class_labels(vertex_labels, p_matrix):\n",
    "    n_vertices = len(vertex_labels)\n",
    "    adjacency = np.zeros(shape=(n_vertices, n_vertices), dtype=np.bool)\n",
    "    for row, _row in enumerate(adjacency):\n",
    "        for col, _col in enumerate(adjacency[row]):\n",
    "            community_a = vertex_labels[row]\n",
    "            community_b = vertex_labels[col]\n",
    "            \n",
    "            p = random.random()\n",
    "            val = p_matrix[community_a][community_b]\n",
    "\n",
    "            if p <= val:\n",
    "                adjacency[row][col] = 1\n",
    "                adjacency[col][row] = 1\n",
    "    return adjacency"
   ]
  },
  {
   "cell_type": "code",
   "execution_count": 67,
   "metadata": {
    "collapsed": false
   },
   "outputs": [],
   "source": [
    "# feed_dict = {diffs_pl:test_data.diff_maps, labels_pl:test_data.labels}\n",
    "# pred = sess.run(prediction, feed_dict=feed_dict)\n",
    "# missed = np.where(test_data.labels != pred)\n",
    "# pred[missed]\n",
    "# test_data.labels[missed]\n",
    "# test_data.ids[missed]"
   ]
  },
  {
   "cell_type": "code",
   "execution_count": 207,
   "metadata": {
    "collapsed": false
   },
   "outputs": [],
   "source": [
    "grid_scaler = np.arange(np.prod(diff_dims)).reshape(diff_dims)\n",
    "loc_scaled_diffs = []\n",
    "for d in in_diffs:\n",
    "    loc_scaled_diffs.append(d + grid_scaler)"
   ]
  },
  {
   "cell_type": "code",
   "execution_count": null,
   "metadata": {
    "collapsed": true
   },
   "outputs": [],
   "source": [
    "# d = in_diffs[0]\n",
    "# # plt.imshow(d)\n",
    "# # d = np.hstack((d, np.zeros(50).reshape(-1, 1)))\n",
    "# # print d.shape\n",
    "# # # coeffs = pywt.dwt2(d, 'haar')\n",
    "# # # print coeffs[0].shape\n",
    "# # cc = (d[0:25,0:13], (d[0:25, 13:], d[25:, 0:13], d[25:,13:]))\n",
    "# # lala = pywt.idwt2(cc, 'haar')\n",
    "# # # plt.imshow(lala)\n",
    "# # plt.imshow(lala)\n",
    "# # plt.imshow(np.bmat([coeffs[0], coeffs[1][0]],[coeffs[1][1], coeffs[1][2]]))\n",
    "# # plt.imshow(in_diffs[-1])\n",
    "# # len(coeffs)\n",
    "# # coeffs[1][2].shape\n",
    "\n",
    "# import pywt\n",
    "\n",
    "# haar_diffs = []\n",
    "# for d in in_diffs:\n",
    "# #     coeffs = pywt.dwt2(d, 'haar')\n",
    "# #     haar_diffs.append(coeffs[0])\n",
    "\n",
    "#     dd = np.hstack((d, np.zeros(50).reshape(-1, 1)))\n",
    "#     cc = (dd[0:25,0:13], (dd[0:25, 13:], dd[25:, 0:13], dd[25:,13:]))\n",
    "#     haar_diffs.append(pywt.idwt2(cc, 'haar'))\n",
    "\n",
    "# #     coeffs = [d, (d, d, d)]\n",
    "# #     haar_diffs.append(pywt.idwt2(coeffs, 'haar'))\n",
    "\n",
    "\n",
    "# haar_diffs = np.array(haar_diffs)"
   ]
  },
  {
   "cell_type": "code",
   "execution_count": null,
   "metadata": {
    "collapsed": true
   },
   "outputs": [],
   "source": [
    "# for epoch in range(n_epochs):\n",
    "#     for _ in range(batches_for_epoch):        \n",
    "#         batch_d, batch_l, batch_dd = train_data.next_batch(batch_size)\n",
    "#         feed_dict = {feed_pl_1:batch_d, labels_pl:batch_l, feed_pl_2:batch_dd}\n",
    "#         sess.run([opt_step, loss, avg_accuracy], feed_dict=feed_dict)\n",
    "    \n",
    "#     print epoch,\n",
    "#     for s in ['train', 'test', 'val']:\n",
    "#         feed_dict = {feed_pl_1:in_data[s].feed, labels_pl:in_data[s].labels, feed_pl_2:in_data[s].ids}\n",
    "#         r = sess.run([avg_accuracy], feed_dict=feed_dict)        \n",
    "#         train_res[s].append(r)\n",
    "#         print r,\n",
    "#     print\n",
    "\n",
    "\n",
    "# from tf_lab.data_sets.numpy_dataset import NumpyDataset\n",
    "# def make_data_mixed(in_data, in_pc, class_labels, in_diff):\n",
    "#     res = dict()\n",
    "#     for s in ['train', 'test', 'val']:\n",
    "#         idx = in_data[s].copy()        \n",
    "#         res[s] = NumpyDataset([in_pc[idx], class_labels[idx], in_diff[idx]], ['feed', 'labels', 'ids'])\n",
    "#     return res\n",
    "\n",
    "# in_data = make_data_mixed(splits, in_pcs, in_labels, in_diffs)"
   ]
  },
  {
   "cell_type": "code",
   "execution_count": null,
   "metadata": {
    "collapsed": true
   },
   "outputs": [],
   "source": [
    "# is_directed = False\n",
    "# n_shapes\n",
    "# from geo_tool.utils.graph_generators import gnm_random_graph\n",
    "# from geo_tool import Graph\n",
    "\n",
    "# g = gnm_random_graph(n_shapes, n_shapes*4, directed=is_directed)\n",
    "# print Graph.connected_components(g)[0]\n",
    "# gg = Graph(g, is_directed)\n",
    "\n",
    "\n",
    "# # splits['train']\n",
    "\n",
    "# in_class_p = 0.01\n",
    "# out_class_p = 0.05\n",
    "# p_matrix = np.ones(shape = (n_classes, n_classes)) * out_class_p\n",
    "# np.fill_diagonal(p_matrix, in_class_p)\n",
    "\n",
    "\n",
    "# adj = SBM_from_class_labels(in_labels, p_matrix)\n",
    "\n",
    "# for s in ['test', 'val']:\n",
    "#     for idx in splits[s]:\n",
    "#         adj[idx,:] = 0\n",
    "#         adj[:,idx] = 0\n",
    "        \n",
    "# plt.imshow(g.toarray())\n",
    "# plt.imshow(adj)\n",
    "\n",
    "# mixed = np.array(g.toarray() + adj, dtype=bool)\n",
    "# savemat('50_mixed_net.mat', {'W': mixed} )"
   ]
  },
  {
   "cell_type": "code",
   "execution_count": null,
   "metadata": {
    "collapsed": true
   },
   "outputs": [],
   "source": [
    "#     labels_pl = tf.placeholder(tf.int64, shape=[None])\n",
    "#     diff_dims = (60, 30)\n",
    "#     feed_pl_1 = tf.placeholder(tf.float32, shape = (None, n_pc_points, 3) )\n",
    "#     feed_pl_2 = tf.placeholder(tf.float32, shape = (None, ) + diff_dims)\n",
    "    \n",
    "#     layer_pc = encoder_with_convs_and_symmetry_new(feed_pl_1, n_filters=[64, 128], b_norm=False)\n",
    "    \n",
    "    \n",
    "#     layer = conv_2d(tf.expand_dims(feed_pl_2, -1), nb_filter=4, filter_size=4, activation='relu')\n",
    "#     layer = max_pool_2d(layer, kernel_size=2)\n",
    "#     layer = conv_2d(layer, nb_filter=4, filter_size=3, activation='relu')\n",
    "#     layer = max_pool_2d(layer, kernel_size=2)\n",
    "#     layer = fully_connected(layer, 6, activation='relu', weights_init='xavier')    \n",
    "#     layer_diff = fully_connected(layer, 64, activation='relu', weights_init='xavier')\n",
    "#     layer = tf.concat([layer_pc, layer_diff], axis=1)    \n",
    "#     layer = fully_connected(layer, 32, activation='relu', weights_init='xavier')\n",
    "#     logits = fully_connected(layer, n_classes, activation='linear', weights_init='xavier')\n",
    "    "
   ]
  },
  {
   "cell_type": "code",
   "execution_count": 164,
   "metadata": {
    "collapsed": false
   },
   "outputs": [],
   "source": [
    "def add_location_info_on_diffs(in_diffs, scaler=1.0):\n",
    "    diff_dims = in_diffs.shape[1:]\n",
    "    row_pos = np.repeat(np.arange(diff_dims[0]), diff_dims[1]).reshape(diff_dims)\n",
    "    col_pos = np.repeat(np.arange(diff_dims[1]), diff_dims[0]).reshape(diff_dims[1], diff_dims[0]).T\n",
    "    row_pos = row_pos.astype(np.float32)\n",
    "    col_pos = col_pos.astype(np.float32)\n",
    "    row_pos *= scaler\n",
    "    col_pos *= scaler\n",
    "\n",
    "    diffs_with_pos = np.zeros(shape=in_diffs.shape + (3,))\n",
    "    for i, d in enumerate(in_diffs):\n",
    "        diffs_with_pos[i, :, :, 0] = d\n",
    "        diffs_with_pos[i, :, :, 1] = row_pos\n",
    "        diffs_with_pos[i, :, :, 2] = col_pos\n",
    "    return diffs_with_pos\n"
   ]
  },
  {
   "cell_type": "code",
   "execution_count": null,
   "metadata": {
    "collapsed": true
   },
   "outputs": [],
   "source": []
  }
 ],
 "metadata": {
  "kernelspec": {
   "display_name": "TensorFlow1",
   "language": "python",
   "name": "tf1"
  },
  "language_info": {
   "codemirror_mode": {
    "name": "ipython",
    "version": 2
   },
   "file_extension": ".py",
   "mimetype": "text/x-python",
   "name": "python",
   "nbconvert_exporter": "python",
   "pygments_lexer": "ipython2",
   "version": "2.7.6"
  }
 },
 "nbformat": 4,
 "nbformat_minor": 2
}
