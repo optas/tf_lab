{
 "cells": [
  {
   "cell_type": "code",
   "execution_count": 1,
   "metadata": {
    "collapsed": false
   },
   "outputs": [
    {
     "name": "stdout",
     "output_type": "stream",
     "text": [
      "Picking GPU 1\n"
     ]
    }
   ],
   "source": [
    "from general_tools.notebook.gpu_utils import setup_one_gpu\n",
    "GPU = 1\n",
    "setup_one_gpu(GPU)"
   ]
  },
  {
   "cell_type": "code",
   "execution_count": 2,
   "metadata": {
    "collapsed": true
   },
   "outputs": [],
   "source": [
    "import numpy as np\n",
    "import tensorflow as tf\n",
    "import os.path as osp\n",
    "import matplotlib.pylab as plt\n",
    "from scipy.spatial.distance import pdist\n",
    "from sklearn.cluster import KMeans\n",
    "from collections import defaultdict"
   ]
  },
  {
   "cell_type": "code",
   "execution_count": 3,
   "metadata": {
    "collapsed": true
   },
   "outputs": [],
   "source": [
    "from tflearn.layers.core import fully_connected\n",
    "from tflearn.layers.conv import conv_2d, max_pool_2d, avg_pool_2d\n",
    "from tf_lab.point_clouds.encoders_decoders import encoder_with_convs_and_symmetry_new, decoder_with_fc_only\n",
    "from tf_lab.fundamentals.inspect import count_trainable_parameters"
   ]
  },
  {
   "cell_type": "code",
   "execution_count": 4,
   "metadata": {
    "collapsed": false
   },
   "outputs": [],
   "source": [
    "from general_tools.notebook.tf import reset_tf_graph\n",
    "from geo_tool import Point_Cloud, Mesh\n",
    "from helper import plot_mesh, load_diff_maps, load_pclouds_of_shapes,\\\n",
    "pose_labels_and_original_index, load_gt_latent_params, load_meshes,\\\n",
    "make_data, prepare_train_test_val, load_pclouds_of_shapes"
   ]
  },
  {
   "cell_type": "code",
   "execution_count": 5,
   "metadata": {
    "collapsed": true
   },
   "outputs": [],
   "source": [
    "from scipy.io import loadmat, savemat\n",
    "from tflearn import is_training"
   ]
  },
  {
   "cell_type": "code",
   "execution_count": 6,
   "metadata": {
    "collapsed": true
   },
   "outputs": [],
   "source": [
    "def consistent_bases(sync_bases_file, n_cons, n_shapes, debug=False):\n",
    "    synced_bases = loadmat(synced_bases_file)\n",
    "    synced_bases = synced_bases['sync_bases']\n",
    "    synced_bases = synced_bases[:, :n_cons]\n",
    "    if debug:\n",
    "        temp = []\n",
    "        n_evecs  = int(synced_bases.shape[0]/n_shapes)\n",
    "        for i in range(0, synced_bases.shape[0], n_evecs):\n",
    "            temp.append(synced_bases[i:i+n_evecs])\n",
    "        temp = np.array(temp)\n",
    "        print np.all(synced_bases.reshape((n_shapes, -1, n_cons)) == temp)\n",
    "    return synced_bases.reshape((n_shapes, -1, n_cons))\n",
    "\n",
    "def pc_net(n_pc_points):\n",
    "    with tf.variable_scope('pc_based_net') as scope:\n",
    "        feed_pl = tf.placeholder(tf.float32, shape = (None, n_pc_points, 3) )\n",
    "        labels_pl = tf.placeholder(tf.int64, shape=[None])                           \n",
    "        layer = encoder_with_convs_and_symmetry_new(feed_pl, n_filters=[64, 128], b_norm=False)\n",
    "        layer = fully_connected(layer, 64, activation='relu', weights_init='xavier')\n",
    "        logits = fully_connected(layer, n_classes, activation='linear', weights_init='xavier')\n",
    "    return feed_pl, labels_pl, logits"
   ]
  },
  {
   "cell_type": "code",
   "execution_count": 7,
   "metadata": {
    "collapsed": false
   },
   "outputs": [],
   "source": [
    "%load_ext autoreload\n",
    "%autoreload 2\n",
    "%matplotlib inline"
   ]
  },
  {
   "cell_type": "code",
   "execution_count": 12,
   "metadata": {
    "collapsed": true
   },
   "outputs": [],
   "source": [
    "members_per_class = 50\n",
    "seed = 42\n",
    "n_pose_classes = 8\n",
    "val_per = 0.10\n",
    "test_per = 0.15\n",
    "train_per = 1.0 - (val_per + test_per)\n",
    "\n",
    "orinal_class_size = 250\n",
    "n_pc_points = 2048\n",
    "do_pose_clf = False\n",
    "do_unsup_clf = True\n",
    "normalize_pcs = False\n",
    "mean_norm_diffs = True\n",
    "\n",
    "n_shapes = members_per_class * n_pose_classes\n",
    "\n",
    "n_cons = 45"
   ]
  },
  {
   "cell_type": "code",
   "execution_count": 11,
   "metadata": {
    "collapsed": false
   },
   "outputs": [],
   "source": [
    "top_data_dir = '/orions4-zfs/projects/optas/DATA/OUT/latent_diff_maps/experiments/human_poses/'\n",
    "diff_file = osp.join(top_data_dir, '%d_50_25_20_consistent_diffs_clique_net.mat' % members_per_class)\n",
    "synced_bases_file = '/orions4-zfs/projects/optas/DATA/OUT/latent_diff_maps/experiments/human_poses/50_50_synced_bases_clique_net.mat'"
   ]
  },
  {
   "cell_type": "code",
   "execution_count": 15,
   "metadata": {
    "collapsed": false
   },
   "outputs": [],
   "source": [
    "c_bases = consistent_bases(synced_bases_file, n_cons, n_shapes)\n",
    "diff_shape = (len(c_bases), c_bases[0].shape[1], c_bases[0].shape[1])\n",
    "in_diffs = np.zeros(shape=diff_shape)\n",
    "\n",
    "diag_of_diffs = []\n",
    "for i in xrange(len(c_bases)):\n",
    "    in_diffs[i] = c_bases[i].T.dot(c_bases[i])\n",
    "    diag_of_diffs.append(np.diagonal(in_diffs[i]))\n",
    "    # np.diagonal(in_diffs[i], offset=1)\n",
    "diag_of_diffs = np.array(diag_of_diffs)"
   ]
  },
  {
   "cell_type": "code",
   "execution_count": 237,
   "metadata": {
    "collapsed": false
   },
   "outputs": [],
   "source": [
    "# row_pos = np.repeat(np.arange(diff_dims[0]), diff_dims[1]).reshape(diff_dims)\n",
    "# col_pos = np.repeat(np.arange(diff_dims[1]), diff_dims[0]).reshape(diff_dims[1], diff_dims[0]).T\n",
    "# row_pos = row_pos.astype(np.float32)\n",
    "# col_pos = col_pos.astype(np.float32)\n",
    "# row_pos *= 0.01\n",
    "# col_pos *= 0.01"
   ]
  },
  {
   "cell_type": "code",
   "execution_count": 238,
   "metadata": {
    "collapsed": false
   },
   "outputs": [],
   "source": [
    "# diffs_with_pos = np.zeros(shape=in_diffs.shape + (3,))\n",
    "# for i, d in enumerate(in_diffs):\n",
    "#     diffs_with_pos[i, :, :, 0] = d\n",
    "#     diffs_with_pos[i, :, :, 1] = row_pos\n",
    "#     diffs_with_pos[i, :, :, 2] = col_pos"
   ]
  },
  {
   "cell_type": "code",
   "execution_count": 17,
   "metadata": {
    "collapsed": false
   },
   "outputs": [],
   "source": [
    "pose_labels, original_idx = pose_labels_and_original_index(n_shapes, members_per_class, orinal_class_size)\n",
    "gt_latent_params = load_gt_latent_params(top_data_dir)\n",
    "gt_latent_params = gt_latent_params[original_idx]\n",
    "in_pcs = load_pclouds_of_shapes(top_data_dir, members_per_class, normalize=normalize_pcs, n_pc_points=n_pc_points)"
   ]
  },
  {
   "cell_type": "code",
   "execution_count": 280,
   "metadata": {
    "collapsed": false
   },
   "outputs": [],
   "source": [
    "# in_meshes = load_meshes(original_idx + 1)\n",
    "# uniform_pcs = []\n",
    "# for m in in_meshes:\n",
    "#     uniform_pcs.append(m.sample_faces(n_pc_points)[0])\n",
    "# uniform_pcs = np.array(uniform_pcs)"
   ]
  },
  {
   "cell_type": "code",
   "execution_count": 107,
   "metadata": {
    "collapsed": false
   },
   "outputs": [],
   "source": [
    "# k = 99\n",
    "# Point_Cloud(uniform_pcs[k]).plot(in_u_sphere=False);\n",
    "# Point_Cloud(in_pcs[k]).plot(in_u_sphere=False);"
   ]
  },
  {
   "cell_type": "code",
   "execution_count": 19,
   "metadata": {
    "collapsed": false
   },
   "outputs": [
    {
     "data": {
      "image/png": "[encoded data removed]",
      "text/plain": [
       "<matplotlib.figure.Figure at 0x7fa861723f90>"
      ]
     },
     "metadata": {},
     "output_type": "display_data"
    }
   ],
   "source": [
    "seed = 3\n",
    "if do_pose_clf:\n",
    "    n_classes = n_pose_classes\n",
    "    in_labels = pose_labels\n",
    "elif do_unsup_clf:    \n",
    "    n_classes = 12\n",
    "    unsup_clf = KMeans(n_clusters=n_classes, random_state=seed)\n",
    "    in_labels = unsup_clf.fit_predict(gt_latent_params)\n",
    "    plt.hist(in_labels, bins=np.arange(n_classes))\n",
    "else:\n",
    "    assert(False)\n",
    "\n",
    "splits = prepare_train_test_val(n_shapes, in_labels, train_per, test_per, seed=seed)"
   ]
  },
  {
   "cell_type": "code",
   "execution_count": 163,
   "metadata": {
    "collapsed": false
   },
   "outputs": [
    {
     "name": "stdout",
     "output_type": "stream",
     "text": [
      "['feed', 'labels', 'ids']\n",
      "['feed', 'labels', 'ids']\n",
      "['feed', 'labels', 'ids']\n"
     ]
    }
   ],
   "source": [
    "use_pc = False\n",
    "\n",
    "if use_pc:\n",
    "    feeds = in_pcs\n",
    "else:\n",
    "    feeds = in_diffs\n",
    "\n",
    "    in_data = make_data(splits, feeds, in_labels)\n",
    "\n",
    "# in_diffs -= np.mean(in_diffs, axis=0)\n",
    "\n",
    "train_data = in_data['train']\n",
    "val_data = in_data['val']\n",
    "test_data = in_data['test']\n",
    "\n",
    "if not use_pc and mean_norm_diffs:\n",
    "    diff_mu = np.mean(train_data.feed, axis=0)\n",
    "    train_data.feed -= diff_mu    \n",
    "#     diff_sigma = np.std(train_data.feed, axis=0)\n",
    "#     train_data.feed /= diff_sigma\n",
    "    test_data.feed -= diff_mu\n",
    "#     test_data.feed /= diff_sigma\n",
    "    val_data.feed -= diff_mu\n",
    "#     val_data.feed /= diff_sigma\n",
    "    \n",
    "#     test_data.feed -= np.mean(test_data.feed, axis=0)\n",
    "#     val_data.feed -= np.mean(val_data.feed, axis=0)"
   ]
  },
  {
   "cell_type": "code",
   "execution_count": 170,
   "metadata": {
    "collapsed": false
   },
   "outputs": [
    {
     "name": "stdout",
     "output_type": "stream",
     "text": [
      "407612\n"
     ]
    }
   ],
   "source": [
    "arch = 'mlp'\n",
    "\n",
    "reset_tf_graph()\n",
    "\n",
    "if use_pc: \n",
    "    feed_pl, labels_pl, logits = pc_net(n_pc_points)\n",
    "else:\n",
    "    in_shape = in_data['train'].feed[0].shape\n",
    "    with tf.variable_scope('diff_based_net') as scope:\n",
    "        feed_pl = tf.placeholder(tf.float32, shape = (None, ) + in_shape)\n",
    "        labels_pl = tf.placeholder(tf.int64, shape=[None])        \n",
    "        if arch == 'mlp':\n",
    "            layer = fully_connected(feed_pl, 200, activation='relu', weights_init='xavier')\n",
    "            logits = fully_connected(layer, n_classes, activation='linear', weights_init='xavier')\n",
    "        \n",
    "        elif arch == 'conv':\n",
    "            layer = tf.expand_dims(feed_pl, -1)\n",
    "            layer = conv_2d(layer, nb_filter=25, filter_size=2, activation='relu')\n",
    "#             layer = tf.nn.dropout(layer, 0.1)\n",
    "#             layer = max_pool_2d(layer, kernel_size=2)\n",
    "            layer = conv_2d(layer, nb_filter=40, filter_size=2, activation='relu')    \n",
    "            layer = conv_2d(layer, nb_filter=40, filter_size=2, activation='relu')\n",
    "#             layer = tf.nn.dropout(layer, 0.1)\n",
    "#             layer = max_pool_2d(layer, kernel_size=2)\n",
    "#             layer = conv_2d(layer, nb_filter=2, filter_size=2, activation='relu')\n",
    "#             layer = max_pool_2d(layer, kernel_size=2)\n",
    "#             layer = fully_connected(layer, 6, activation='relu', weights_init='xavier')\n",
    "            logits = fully_connected(layer, n_classes, activation='linear', weights_init='xavier')\n",
    "        else:\n",
    "            assert(False)\n",
    "\n",
    "print count_trainable_parameters()"
   ]
  },
  {
   "cell_type": "code",
   "execution_count": 171,
   "metadata": {
    "collapsed": false
   },
   "outputs": [],
   "source": [
    "prediction = tf.argmax(logits, axis=1)\n",
    "target_ = labels_pl\n",
    "correct_pred = tf.equal(prediction, target_)\n",
    "avg_accuracy = tf.reduce_mean(tf.cast(correct_pred, tf.float32))\n",
    "one_hot_labels = tf.one_hot(labels_pl, depth=n_classes)\n",
    "cross_entropy = tf.nn.softmax_cross_entropy_with_logits(logits=logits, labels=one_hot_labels)\n",
    "loss = tf.reduce_mean(cross_entropy)\n",
    "\n",
    "if use_pc:\n",
    "    learning_rate = 0.005\n",
    "    batch_size = 50\n",
    "    n_epochs = 1000\n",
    "else:\n",
    "    learning_rate = 0.005\n",
    "    batch_size = 50\n",
    "    n_epochs = 1000\n",
    "\n",
    "opt = tf.train.AdamOptimizer(learning_rate)\n",
    "opt_step = opt.minimize(loss)\n",
    "\n",
    "config = tf.ConfigProto()\n",
    "config.gpu_options.allow_growth = True\n",
    "sess = tf.Session(config=config)\n",
    "init=tf.global_variables_initializer()\n",
    "sess.run(init)"
   ]
  },
  {
   "cell_type": "code",
   "execution_count": 172,
   "metadata": {
    "collapsed": false
   },
   "outputs": [],
   "source": [
    "train_losses = []\n",
    "val_losses = []\n",
    "test_losses = []\n",
    "batches_for_epoch = train_data.n_examples / batch_size\n",
    "train_res = defaultdict(list)"
   ]
  },
  {
   "cell_type": "code",
   "execution_count": 177,
   "metadata": {
    "collapsed": false
   },
   "outputs": [
    {
     "name": "stdout",
     "output_type": "stream",
     "text": [
      "0 [0.99000007] [0.80000007] [0.65000004]\n",
      "1 [0.99000007] [0.78333342] [0.65000004]\n",
      "2 [0.98666674] [0.76666677] [0.65000004]\n",
      "3 [0.98666674] [0.78333342] [0.67500007]\n",
      "4 [0.99000007] [0.78333342] [0.67500007]\n",
      "5 [0.99000007] [0.76666677] [0.65000004]\n",
      "6 [0.99000007] [0.81666672] [0.65000004]\n",
      "7 [0.98666674] [0.76666671] [0.65000004]\n",
      "8 [0.9933334] [0.80000007] [0.67500007]\n",
      "9 [0.99000007] [0.75000006] [0.65000004]\n",
      "10 [0.99000007] [0.80000007] [0.65000004]\n",
      "11 [0.99000007] [0.78333342] [0.67500007]\n",
      "12 [0.98666674] [0.80000007] [0.67500007]\n",
      "13 [0.99000007] [0.76666677] [0.65000004]\n",
      "14 [0.99000007] [0.80000007] [0.67500007]\n",
      "15 [0.98666674] [0.76666677] [0.67500007]\n",
      "16 [0.99000007] [0.81666672] [0.65000004]\n",
      "17 [0.98666674] [0.76666677] [0.67500007]\n",
      "18 [0.99000007] [0.78333342] [0.67500007]\n",
      "19 [0.99000007] [0.78333342] [0.65000004]\n",
      "20 [0.98666674] [0.75000006] [0.65000004]\n",
      "21 [0.98666674] [0.80000007] [0.67500007]\n",
      "22 [0.99000007] [0.80000007] [0.67500007]\n",
      "23 [0.99000007] [0.80000007] [0.65000004]\n",
      "24 [0.99000007] [0.81666672] [0.65000004]\n",
      "25 [0.98666668] [0.75000006] [0.65000004]\n",
      "26 [0.99000007] [0.81666672] [0.65000004]\n",
      "27 [0.99000007] [0.80000007] [0.65000004]\n",
      "28 [0.98666674] [0.76666677] [0.67500007]\n",
      "29 [0.99000007] [0.81666672] [0.65000004]\n",
      "30 [0.9933334] [0.78333342] [0.65000004]\n",
      "31 [0.98666674] [0.80000007] [0.67500007]\n",
      "32 [0.98666674] [0.75000006] [0.67500007]\n",
      "33 [0.99000007] [0.80000007] [0.65000004]\n",
      "34 [0.99000007] [0.75000006] [0.625]\n",
      "35 [0.99000007] [0.80000007] [0.65000004]\n",
      "36 [0.98666674] [0.76666677] [0.67500007]\n",
      "37 [0.99000007] [0.81666672] [0.65000004]\n",
      "38 [0.9933334] [0.81666672] [0.65000004]\n",
      "39 [0.99000007] [0.75000006] [0.65000004]\n",
      "40 [0.9933334] [0.78333342] [0.65000004]\n",
      "41 [0.99000007] [0.76666671] [0.67500007]\n",
      "42 [0.98666668] [0.80000007] [0.67500007]\n",
      "43 [0.99000007] [0.80000007] [0.65000004]\n",
      "44 [0.99000007] [0.81666672] [0.67500007]\n",
      "45 [0.9933334] [0.76666671] [0.65000004]\n",
      "46 [0.99000007] [0.78333342] [0.65000004]\n",
      "47 [0.99000007] [0.75000006] [0.65000004]\n",
      "48 [0.99000007] [0.81666672] [0.65000004]\n",
      "49 [0.9933334] [0.75000006] [0.65000004]\n",
      "50 [0.99000007] [0.80000007] [0.65000004]\n",
      "51 [0.99000007] [0.80000007] [0.67500007]\n",
      "52 [0.99000007] [0.76666677] [0.65000004]\n",
      "53 [0.99000007] [0.80000007] [0.65000004]\n",
      "54 [0.99000007] [0.78333342] [0.67500007]\n",
      "55 [0.99000007] [0.78333342] [0.65000004]\n",
      "56 [0.99000007] [0.81666672] [0.65000004]\n",
      "57 [0.99000007] [0.80000007] [0.67500007]\n",
      "58 [0.99000007] [0.78333342] [0.65000004]\n",
      "59 [0.99000007] [0.81666672] [0.65000004]\n",
      "60 [0.98666674] [0.75000006] [0.65000004]\n",
      "61 [0.99000007] [0.81666672] [0.67500007]\n",
      "62 [0.9933334] [0.76666677] [0.65000004]\n",
      "63 [0.99000007] [0.78333342] [0.65000004]\n",
      "64 [0.99000007] [0.80000007] [0.65000004]\n",
      "65 [0.98666674] [0.78333342] [0.67500007]\n",
      "66 [0.99000007] [0.80000007] [0.65000004]\n",
      "67 [0.99000007] [0.80000007] [0.65000004]\n",
      "68 [0.99000007] [0.80000007] [0.65000004]\n",
      "69 [0.98666674] [0.76666677] [0.65000004]\n",
      "70 [0.99000007] [0.80000007] [0.65000004]\n",
      "71 [0.9933334] [0.76666671] [0.65000004]\n",
      "72 [0.9933334] [0.80000007] [0.65000004]\n",
      "73 [0.9933334] [0.81666672] [0.67500007]\n",
      "74 [0.99000007] [0.76666677] [0.65000004]\n",
      "75 [0.99000007] [0.80000007] [0.65000004]\n",
      "76 [0.99000007] [0.78333342] [0.65000004]\n",
      "77 [0.99000007] [0.80000007] [0.65000004]\n",
      "78 [0.99000007] [0.80000007] [0.67500007]\n",
      "79 [0.9933334] [0.81666672] [0.65000004]\n",
      "80 [0.99000007] [0.75000006] [0.625]\n",
      "81 [0.99000007] [0.81666672] [0.65000004]\n",
      "82 [0.98666674] [0.76666677] [0.67500007]\n",
      "83 [0.99000007] [0.80000007] [0.65000004]\n",
      "84 [0.99000007] [0.78333342] [0.65000004]\n",
      "85 [0.99000007] [0.80000007] [0.65000004]\n",
      "86 [0.99000007] [0.80000007] [0.65000004]\n",
      "87 [0.99000007] [0.78333342] [0.65000004]\n",
      "88 [0.99000007] [0.80000007] [0.65000004]\n",
      "89 [0.9933334] [0.76666677] [0.65000004]\n",
      "90 [0.99000007] [0.81666672] [0.65000004]\n",
      "91 [0.98666674] [0.76666677] [0.65000004]\n",
      "92 [0.99000007] [0.80000007] [0.65000004]\n",
      "93 [0.99000007] [0.78333342] [0.65000004]\n",
      "94 [0.99000007] [0.76666677] [0.65000004]\n",
      "95 [0.9933334] [0.76666677] [0.65000004]\n",
      "96 [0.99000007] [0.80000007] [0.65000004]\n",
      "97 [0.99000007] [0.81666672] [0.65000004]\n",
      "98 [0.9933334] [0.78333342] [0.65000004]\n",
      "99 [0.99000007] [0.78333342] [0.65000004]\n",
      "100 [0.9933334] [0.81666672] [0.65000004]\n",
      "101 [0.9933334] [0.76666677] [0.65000004]\n",
      "102 [0.9933334] [0.80000007] [0.65000004]\n",
      "103 [0.99000007] [0.80000007] [0.65000004]\n",
      "104 [0.99000007] [0.80000007] [0.65000004]\n",
      "105 [0.99000007] [0.76666677] [0.65000004]\n",
      "106 [0.99000007] [0.80000007] [0.65000004]\n",
      "107 [0.99000007] [0.78333342] [0.65000004]\n",
      "108 [0.99000007] [0.75000006] [0.625]\n",
      "109 [0.99000007] [0.81666672] [0.65000004]\n",
      "110 [0.99000007] [0.75000006] [0.625]\n",
      "111 [0.99000007] [0.81666672] [0.625]\n",
      "112 [0.9933334] [0.76666677] [0.625]\n",
      "113 [0.9933334] [0.80000007] [0.65000004]\n",
      "114 [0.99000001] [0.78333342] [0.65000004]\n",
      "115 [0.9933334] [0.76666671] [0.65000004]\n",
      "116 [0.99000007] [0.80000007] [0.65000004]\n",
      "117 [0.9933334] [0.78333342] [0.65000004]\n",
      "118 [0.9933334] [0.81666672] [0.65000004]\n",
      "119 [0.99000007] [0.78333342] [0.65000004]\n",
      "120 [0.99000007] [0.80000007] [0.65000004]\n",
      "121 [0.99666673] [0.78333342] [0.65000004]\n",
      "122 [0.99000007] [0.80000007] [0.65000004]\n",
      "123 [0.9933334] [0.78333342] [0.65000004]\n",
      "124 [0.9933334] [0.80000007] [0.65000004]\n",
      "125 [0.9933334] [0.76666677] [0.65000004]\n",
      "126 [0.99000007] [0.80000007] [0.65000004]\n",
      "127 [0.99000007] [0.80000007] [0.65000004]\n",
      "128 [0.9933334] [0.80000007] [0.65000004]\n",
      "129 [0.99000007] [0.80000007] [0.65000004]\n",
      "130 [0.99000007] [0.78333342] [0.65000004]\n",
      "131 [0.99000007] [0.80000007] [0.65000004]\n",
      "132 [0.9933334] [0.78333342] [0.65000004]\n",
      "133 [0.99000007] [0.80000007] [0.65000004]\n",
      "134 [0.99000007] [0.76666671] [0.65000004]\n",
      "135 [0.99000007] [0.80000007] [0.65000004]\n",
      "136 [0.99000007] [0.80000007] [0.65000004]\n",
      "137 [0.99000007] [0.76666677] [0.625]\n",
      "138 [0.9933334] [0.81666672] [0.65000004]\n",
      "139 [0.99000007] [0.76666677] [0.65000004]\n",
      "140 [0.9933334] [0.80000007] [0.65000004]\n",
      "141 [0.99000007] [0.81666672] [0.65000004]\n",
      "142 [0.9933334] [0.76666677] [0.65000004]\n",
      "143 [0.9933334] [0.81666672] [0.65000004]\n",
      "144 [0.9933334] [0.78333342] [0.65000004]\n",
      "145 [0.99000007] [0.80000007] [0.65000004]\n",
      "146 [0.9933334] [0.78333342] [0.65000004]\n",
      "147 [0.99000007] [0.80000007] [0.65000004]\n",
      "148 [0.99000007] [0.81666672] [0.65000004]\n",
      "149 [0.99000007] [0.78333342] [0.65000004]\n",
      "150 [0.99000007] [0.78333342] [0.65000004]\n",
      "151 [0.99000007] [0.78333342] [0.625]\n",
      "152 [0.99000007] [0.80000007] [0.65000004]\n",
      "153 [0.9933334] [0.80000007] [0.65000004]\n",
      "154 [0.99000007] [0.78333342] [0.65000004]\n",
      "155 [0.9933334] [0.80000007] [0.67500007]\n",
      "156 [0.99000007] [0.81666672] [0.65000004]\n",
      "157 [0.99000007] [0.76666677] [0.65000004]\n",
      "158 [0.99000007] [0.81666672] [0.65000004]\n",
      "159 [0.99000007] [0.81666672] [0.65000004]\n",
      "160 [0.9933334] [0.80000007] [0.65000004]\n",
      "161 [0.99000007] [0.78333342] [0.65000004]\n",
      "162 [0.99000007] [0.81666672] [0.65000004]\n",
      "163 [0.99000007] [0.75000006] [0.65000004]\n",
      "164 [0.9933334] [0.81666672] [0.65000004]\n",
      "165 [0.99000007] [0.80000007] [0.65000004]\n",
      "166 [0.9933334] [0.81666672] [0.65000004]\n",
      "167 [0.9933334] [0.78333342] [0.65000004]\n",
      "168 [0.99000007] [0.80000007] [0.65000004]\n",
      "169 [0.99000007] [0.80000007] [0.65000004]\n",
      "170 [0.99000007] [0.80000007] [0.65000004]\n",
      "171 [0.9933334] [0.78333342] [0.65000004]\n",
      "172 [0.99000007] [0.80000007] [0.65000004]\n",
      "173 [0.9933334] [0.80000007] [0.65000004]\n",
      "174 [0.99000007] [0.80000007] [0.65000004]\n",
      "175 [0.99000007] [0.80000007] [0.65000004]\n",
      "176 [0.9933334] [0.76666677] [0.65000004]\n",
      "177 [0.9933334] [0.81666672] [0.65000004]\n",
      "178 [0.99000007] [0.80000007] [0.65000004]\n",
      "179 [0.99000007] [0.80000007] [0.65000004]\n",
      "180 [0.9933334] [0.78333342] [0.65000004]\n",
      "181 [0.9933334] [0.78333342] [0.65000004]\n",
      "182 [0.9933334] [0.81666672] [0.65000004]\n",
      "183 [0.9933334] [0.78333342] [0.65000004]\n",
      "184 [0.9933334] [0.76666677] [0.65000004]\n",
      "185 [0.9933334] [0.80000007] [0.65000004]\n",
      "186 [0.9933334] [0.80000007] [0.65000004]\n",
      "187 [0.99000007] [0.76666677] [0.65000004]\n",
      "188 [0.99000007] [0.80000007] [0.65000004]\n",
      "189 [0.9933334] [0.80000007] [0.65000004]\n",
      "190 [0.9933334] [0.78333342] [0.65000004]\n",
      "191 [0.9933334] [0.80000007] [0.65000004]\n",
      "192 [0.99666673] [0.81666672] [0.65000004]\n",
      "193 [0.9933334] [0.78333342] [0.65000004]\n",
      "194 [0.9933334] [0.81666672] [0.65000004]\n",
      "195 [0.9933334] [0.81666672] [0.65000004]\n",
      "196 [0.9933334] [0.78333342] [0.65000004]\n",
      "197 [0.9933334] [0.80000007] [0.65000004]\n",
      "198 [0.9933334] [0.78333342] [0.65000004]\n",
      "199 [0.9933334] [0.80000007] [0.65000004]\n"
     ]
    }
   ],
   "source": [
    "for epoch in range(n_epochs):    \n",
    "    is_training(True, session=sess)\n",
    "    for _ in range(batches_for_epoch):        \n",
    "        batch_d, batch_l, _ = train_data.next_batch(batch_size)\n",
    "        feed_dict = {feed_pl:batch_d, labels_pl:batch_l}\n",
    "        sess.run([opt_step, loss, avg_accuracy], feed_dict=feed_dict)\n",
    "    is_training(False, session=sess)\n",
    "    print epoch,\n",
    "    \n",
    "    for s in ['train', 'test', 'val']:\n",
    "        feed_dict = {feed_pl:in_data[s].feed, labels_pl:in_data[s].labels}\n",
    "        r = sess.run([avg_accuracy], feed_dict=feed_dict)\n",
    "        train_res[s].append(r)\n",
    "        print r,\n",
    "    print"
   ]
  },
  {
   "cell_type": "code",
   "execution_count": 178,
   "metadata": {
    "collapsed": false
   },
   "outputs": [
    {
     "name": "stdout",
     "output_type": "stream",
     "text": [
      "[ 922  941  958  961  972  974  985 1000 1006 1012 1015 1019 1020 1022 1023\n",
      " 1026 1027 1028 1030 1034 1039 1041 1047 1048 1050 1054 1057 1062 1067 1070\n",
      " 1072 1075 1076 1078 1079 1081 1083 1085 1086 1087 1088 1090 1091 1094 1096\n",
      " 1098 1100 1101 1102 1103 1105 1108 1111 1112 1114 1116 1118 1119 1121 1122\n",
      " 1124 1127 1128 1129 1130 1131 1133 1134 1135 1136 1138 1142 1146 1148 1149\n",
      " 1151 1152 1153 1155 1156 1157 1158 1159 1161 1162 1163 1165 1167 1169 1171\n",
      " 1172 1173 1174 1175 1176 1177 1178 1180 1182 1183 1184 1185 1189 1191 1192\n",
      " 1193 1194 1196 1197 1198 1201 1202 1204 1208 1209 1211 1212 1214 1216 1217\n",
      " 1221 1222 1223 1224 1225 1226 1227 1229 1230 1231 1233 1234 1235 1236 1239\n",
      " 1240 1241 1242 1243 1244 1246 1247 1248 1250 1252 1253 1254 1255 1257 1259\n",
      " 1260 1262 1264 1266 1267 1268 1269 1270 1272 1274 1275 1276 1277 1278 1279\n",
      " 1281 1282 1283 1284 1285 1287 1288 1292 1294 1295 1296 1297 1298 1299 1300\n",
      " 1301 1303 1304 1305 1307 1308 1309 1310 1312 1313 1314 1316 1318 1319 1321\n",
      " 1323 1324 1325 1327 1328 1330 1331 1332 1333 1335 1337 1338 1340 1342 1343\n",
      " 1344 1345 1346 1347 1348 1349 1350 1351 1353 1354 1355 1356 1357 1359 1360\n",
      " 1361 1362 1363 1364 1365 1366 1367 1368 1369 1370 1371 1372 1373 1374 1375\n",
      " 1377 1378 1379 1380 1381 1382 1384 1386 1387 1388 1389 1390 1391 1392 1393\n",
      " 1394 1395 1396 1397 1398 1399 1401 1402 1403 1404 1405 1407 1409 1410 1411\n",
      " 1412 1413 1415 1416 1417 1418 1419 1420 1421 1422 1425 1426 1427 1428 1429\n",
      " 1430 1431 1432 1434 1435 1437 1438 1439 1440 1441 1442 1443 1444 1445 1448\n",
      " 1449 1450 1452 1453 1454 1455 1456 1457 1458 1459 1460 1461 1462 1463 1464\n",
      " 1465 1466 1467 1468 1470 1471 1472 1473 1474 1475 1477 1478 1479 1480 1481\n",
      " 1482 1483 1484 1485 1486 1487 1488 1490 1491 1492 1493 1496 1497 1498 1499\n",
      " 1500 1501 1502 1503 1504 1505 1506 1507 1509 1510 1512 1513 1514 1516 1517\n",
      " 1518 1520 1521 1522 1523 1525 1526 1527 1530 1531 1532 1533 1534 1535 1536\n",
      " 1537 1538 1541 1542 1544 1545 1547 1548 1550 1554 1555 1557 1560 1561 1564\n",
      " 1565 1570 1571 1575 1576 1578 1581 1588 1593 1595 1599 1603 1604 1608 1611\n",
      " 1612 1614 1615 1617 1618 1621 1622 1628 1631 1632 1636 1641 1642 1644 1651\n",
      " 1654 1657 1661 1665 1673 1678 1682 1755]\n"
     ]
    }
   ],
   "source": [
    "val_maximizers = np.where(train_res['val'] == np.max(train_res['val']))[0]\n",
    "print val_maximizers"
   ]
  },
  {
   "cell_type": "code",
   "execution_count": 181,
   "metadata": {
    "collapsed": false
   },
   "outputs": [
    {
     "name": "stdout",
     "output_type": "stream",
     "text": [
      "[ 0.80000007]\n",
      "428\n"
     ]
    },
    {
     "data": {
      "text/plain": [
       "0.70455498"
      ]
     },
     "execution_count": 181,
     "metadata": {},
     "output_type": "execute_result"
    },
    {
     "data": {
      "image/png": "[encoded data removed]",
      "text/plain": [
       "<matplotlib.figure.Figure at 0x7fa850784850>"
      ]
     },
     "metadata": {},
     "output_type": "display_data"
    }
   ],
   "source": [
    "plt.plot(train_res['train'])\n",
    "plt.plot(train_res['test'])\n",
    "plt.grid()\n",
    "plt.legend(['Train', 'Test'])\n",
    "plt.xlabel('Epoch')\n",
    "plt.ylabel('Accuracy')\n",
    "\n",
    "if use_pc:\n",
    "    title_tag = 'Raw input'\n",
    "else:\n",
    "    title_tag = 'Diff-map input (%s)' % (arch,)\n",
    "\n",
    "plt.title('%s CLF for body-variation.'% (title_tag, ))\n",
    "\n",
    "val_maximizers = np.where(train_res['val'] == np.max(train_res['val']))[0]\n",
    "val_best = np.mean(np.array(train_res['test'])[val_maximizers])\n",
    "plt.text(100, 0.3, 'best by val:%.2f' % (val_best,), fontsize=12);\n",
    "\n",
    "print np.array(train_res['test'])[val_maximizers[-1]]\n",
    "\n",
    "print len(val_maximizers)\n",
    "np.mean(np.array(train_res['test'])[int(n_epochs - n_epochs*0.05):])"
   ]
  },
  {
   "cell_type": "code",
   "execution_count": 340,
   "metadata": {
    "collapsed": false
   },
   "outputs": [],
   "source": [
    "s = 'test'\n",
    "\n",
    "feed_dict = {feed_pl:in_data[s].feed, labels_pl:in_data[s].labels}\n",
    "\n",
    "r = sess.run([correct_pred], feed_dict=feed_dict)"
   ]
  },
  {
   "cell_type": "code",
   "execution_count": 341,
   "metadata": {
    "collapsed": false
   },
   "outputs": [
    {
     "data": {
      "text/plain": [
       "(array([ 3.,  5.,  2.,  5.,  5.,  6.,  4.,  5.,  3.,  4.,  2.,  3.]),\n",
       " array([  0.        ,   0.91666667,   1.83333333,   2.75      ,\n",
       "          3.66666667,   4.58333333,   5.5       ,   6.41666667,\n",
       "          7.33333333,   8.25      ,   9.16666667,  10.08333333,  11.        ]),\n",
       " <a list of 12 Patch objects>)"
      ]
     },
     "execution_count": 341,
     "metadata": {},
     "output_type": "execute_result"
    },
    {
     "data": {
      "image/png": "[encoded data removed]",
      "text/plain": [
       "<matplotlib.figure.Figure at 0x7fcd7b9f2390>"
      ]
     },
     "metadata": {},
     "output_type": "display_data"
    }
   ],
   "source": [
    "plt.hist(in_data[s].labels[r], bins=n_classes)"
   ]
  },
  {
   "cell_type": "code",
   "execution_count": 333,
   "metadata": {
    "collapsed": false
   },
   "outputs": [
    {
     "data": {
      "text/plain": [
       "(array([ 2.,  2.,  2.,  2.,  3.,  4.,  5.,  2.,  2.,  3.,  1.,  2.]),\n",
       " array([  0.        ,   0.91666667,   1.83333333,   2.75      ,\n",
       "          3.66666667,   4.58333333,   5.5       ,   6.41666667,\n",
       "          7.33333333,   8.25      ,   9.16666667,  10.08333333,  11.        ]),\n",
       " <a list of 12 Patch objects>)"
      ]
     },
     "execution_count": 333,
     "metadata": {},
     "output_type": "execute_result"
    },
    {
     "data": {
      "image/png": "[encoded data removed]",
      "text/plain": [
       "<matplotlib.figure.Figure at 0x7fcd7e8d6cd0>"
      ]
     },
     "metadata": {},
     "output_type": "display_data"
    }
   ],
   "source": [
    "# in_data[s].labels[r]\n",
    "plt.hist(in_data[s].labels[r], bins=n_classes)"
   ]
  },
  {
   "cell_type": "code",
   "execution_count": 195,
   "metadata": {
    "collapsed": false
   },
   "outputs": [
    {
     "data": {
      "text/plain": [
       "(320, 50, 25)"
      ]
     },
     "execution_count": 195,
     "metadata": {},
     "output_type": "execute_result"
    }
   ],
   "source": [
    "# train_data.feed.shape"
   ]
  },
  {
   "cell_type": "code",
   "execution_count": 65,
   "metadata": {
    "collapsed": false
   },
   "outputs": [
    {
     "data": {
      "text/plain": [
       "500"
      ]
     },
     "execution_count": 65,
     "metadata": {},
     "output_type": "execute_result"
    }
   ],
   "source": [
    "in_class_p = 0.01\n",
    "out_class_p = 0.01\n",
    "p_matrix = np.ones(shape = (n_classes, n_classes)) * out_class_p\n",
    "np.fill_diagonal(p_matrix, in_class_p)\n",
    "adj = SBM_from_class_labels(sorted(in_labels), p_matrix)"
   ]
  },
  {
   "cell_type": "code",
   "execution_count": 48,
   "metadata": {
    "collapsed": false
   },
   "outputs": [],
   "source": [
    "import random\n",
    "import numpy as np\n",
    "\n",
    "def SBM_from_class_labels(vertex_labels, p_matrix):\n",
    "    n_vertices = len(vertex_labels)\n",
    "    adjacency = np.zeros(shape=(n_vertices, n_vertices), dtype=np.bool)\n",
    "    for row, _row in enumerate(adjacency):\n",
    "        for col, _col in enumerate(adjacency[row]):\n",
    "            community_a = vertex_labels[row]\n",
    "            community_b = vertex_labels[col]\n",
    "            \n",
    "            p = random.random()\n",
    "            val = p_matrix[community_a][community_b]\n",
    "\n",
    "            if p <= val:\n",
    "                adjacency[row][col] = 1\n",
    "                adjacency[col][row] = 1\n",
    "    return adjacency"
   ]
  },
  {
   "cell_type": "code",
   "execution_count": 67,
   "metadata": {
    "collapsed": false
   },
   "outputs": [],
   "source": [
    "# feed_dict = {diffs_pl:test_data.diff_maps, labels_pl:test_data.labels}\n",
    "# pred = sess.run(prediction, feed_dict=feed_dict)\n",
    "# missed = np.where(test_data.labels != pred)\n",
    "# pred[missed]\n",
    "# test_data.labels[missed]\n",
    "# test_data.ids[missed]"
   ]
  },
  {
   "cell_type": "code",
   "execution_count": 207,
   "metadata": {
    "collapsed": false
   },
   "outputs": [],
   "source": [
    "grid_scaler = np.arange(np.prod(diff_dims)).reshape(diff_dims)\n",
    "loc_scaled_diffs = []\n",
    "for d in in_diffs:\n",
    "    loc_scaled_diffs.append(d + grid_scaler)"
   ]
  },
  {
   "cell_type": "code",
   "execution_count": null,
   "metadata": {
    "collapsed": true
   },
   "outputs": [],
   "source": [
    "# d = in_diffs[0]\n",
    "# # plt.imshow(d)\n",
    "# # d = np.hstack((d, np.zeros(50).reshape(-1, 1)))\n",
    "# # print d.shape\n",
    "# # # coeffs = pywt.dwt2(d, 'haar')\n",
    "# # # print coeffs[0].shape\n",
    "# # cc = (d[0:25,0:13], (d[0:25, 13:], d[25:, 0:13], d[25:,13:]))\n",
    "# # lala = pywt.idwt2(cc, 'haar')\n",
    "# # # plt.imshow(lala)\n",
    "# # plt.imshow(lala)\n",
    "# # plt.imshow(np.bmat([coeffs[0], coeffs[1][0]],[coeffs[1][1], coeffs[1][2]]))\n",
    "# # plt.imshow(in_diffs[-1])\n",
    "# # len(coeffs)\n",
    "# # coeffs[1][2].shape\n",
    "\n",
    "# import pywt\n",
    "\n",
    "# haar_diffs = []\n",
    "# for d in in_diffs:\n",
    "# #     coeffs = pywt.dwt2(d, 'haar')\n",
    "# #     haar_diffs.append(coeffs[0])\n",
    "\n",
    "#     dd = np.hstack((d, np.zeros(50).reshape(-1, 1)))\n",
    "#     cc = (dd[0:25,0:13], (dd[0:25, 13:], dd[25:, 0:13], dd[25:,13:]))\n",
    "#     haar_diffs.append(pywt.idwt2(cc, 'haar'))\n",
    "\n",
    "# #     coeffs = [d, (d, d, d)]\n",
    "# #     haar_diffs.append(pywt.idwt2(coeffs, 'haar'))\n",
    "\n",
    "\n",
    "# haar_diffs = np.array(haar_diffs)"
   ]
  },
  {
   "cell_type": "code",
   "execution_count": null,
   "metadata": {
    "collapsed": true
   },
   "outputs": [],
   "source": [
    "\n",
    "\n",
    "# for epoch in range(n_epochs):\n",
    "#     for _ in range(batches_for_epoch):        \n",
    "#         batch_d, batch_l, batch_dd = train_data.next_batch(batch_size)\n",
    "#         feed_dict = {feed_pl_1:batch_d, labels_pl:batch_l, feed_pl_2:batch_dd}\n",
    "#         sess.run([opt_step, loss, avg_accuracy], feed_dict=feed_dict)\n",
    "    \n",
    "#     print epoch,\n",
    "#     for s in ['train', 'test', 'val']:\n",
    "#         feed_dict = {feed_pl_1:in_data[s].feed, labels_pl:in_data[s].labels, feed_pl_2:in_data[s].ids}\n",
    "#         r = sess.run([avg_accuracy], feed_dict=feed_dict)        \n",
    "#         train_res[s].append(r)\n",
    "#         print r,\n",
    "#     print\n",
    "\n",
    "\n",
    "# from tf_lab.data_sets.numpy_dataset import NumpyDataset\n",
    "# def make_data_mixed(in_data, in_pc, class_labels, in_diff):\n",
    "#     res = dict()\n",
    "#     for s in ['train', 'test', 'val']:\n",
    "#         idx = in_data[s].copy()        \n",
    "#         res[s] = NumpyDataset([in_pc[idx], class_labels[idx], in_diff[idx]], ['feed', 'labels', 'ids'])\n",
    "#     return res\n",
    "\n",
    "# in_data = make_data_mixed(splits, in_pcs, in_labels, in_diffs)"
   ]
  },
  {
   "cell_type": "code",
   "execution_count": null,
   "metadata": {
    "collapsed": true
   },
   "outputs": [],
   "source": [
    "# is_directed = False\n",
    "# n_shapes\n",
    "# from geo_tool.utils.graph_generators import gnm_random_graph\n",
    "# from geo_tool import Graph\n",
    "\n",
    "# g = gnm_random_graph(n_shapes, n_shapes*4, directed=is_directed)\n",
    "# print Graph.connected_components(g)[0]\n",
    "# gg = Graph(g, is_directed)\n",
    "\n",
    "\n",
    "# # splits['train']\n",
    "\n",
    "# in_class_p = 0.01\n",
    "# out_class_p = 0.05\n",
    "# p_matrix = np.ones(shape = (n_classes, n_classes)) * out_class_p\n",
    "# np.fill_diagonal(p_matrix, in_class_p)\n",
    "\n",
    "\n",
    "# adj = SBM_from_class_labels(in_labels, p_matrix)\n",
    "\n",
    "# for s in ['test', 'val']:\n",
    "#     for idx in splits[s]:\n",
    "#         adj[idx,:] = 0\n",
    "#         adj[:,idx] = 0\n",
    "        \n",
    "# plt.imshow(g.toarray())\n",
    "# plt.imshow(adj)\n",
    "\n",
    "# mixed = np.array(g.toarray() + adj, dtype=bool)\n",
    "# savemat('50_mixed_net.mat', {'W': mixed} )"
   ]
  },
  {
   "cell_type": "code",
   "execution_count": null,
   "metadata": {
    "collapsed": true
   },
   "outputs": [],
   "source": [
    "#     labels_pl = tf.placeholder(tf.int64, shape=[None])\n",
    "#     diff_dims = (60, 30)\n",
    "#     feed_pl_1 = tf.placeholder(tf.float32, shape = (None, n_pc_points, 3) )\n",
    "#     feed_pl_2 = tf.placeholder(tf.float32, shape = (None, ) + diff_dims)\n",
    "    \n",
    "#     layer_pc = encoder_with_convs_and_symmetry_new(feed_pl_1, n_filters=[64, 128], b_norm=False)\n",
    "    \n",
    "    \n",
    "#     layer = conv_2d(tf.expand_dims(feed_pl_2, -1), nb_filter=4, filter_size=4, activation='relu')\n",
    "#     layer = max_pool_2d(layer, kernel_size=2)\n",
    "#     layer = conv_2d(layer, nb_filter=4, filter_size=3, activation='relu')\n",
    "#     layer = max_pool_2d(layer, kernel_size=2)\n",
    "#     layer = fully_connected(layer, 6, activation='relu', weights_init='xavier')    \n",
    "#     layer_diff = fully_connected(layer, 64, activation='relu', weights_init='xavier')\n",
    "#     layer = tf.concat([layer_pc, layer_diff], axis=1)    \n",
    "#     layer = fully_connected(layer, 32, activation='relu', weights_init='xavier')\n",
    "#     logits = fully_connected(layer, n_classes, activation='linear', weights_init='xavier')\n",
    "    "
   ]
  }
 ],
 "metadata": {
  "kernelspec": {
   "display_name": "TensorFlow1",
   "language": "python",
   "name": "tf1"
  },
  "language_info": {
   "codemirror_mode": {
    "name": "ipython",
    "version": 2
   },
   "file_extension": ".py",
   "mimetype": "text/x-python",
   "name": "python",
   "nbconvert_exporter": "python",
   "pygments_lexer": "ipython2",
   "version": "2.7.6"
  }
 },
 "nbformat": 4,
 "nbformat_minor": 2
}
