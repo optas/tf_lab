{
 "cells": [
  {
   "cell_type": "code",
   "execution_count": 1,
   "metadata": {
    "collapsed": false
   },
   "outputs": [
    {
     "name": "stdout",
     "output_type": "stream",
     "text": [
      "Picking GPU 1\n"
     ]
    }
   ],
   "source": [
    "from general_tools.notebook.gpu_utils import setup_one_gpu\n",
    "GPU = 1\n",
    "setup_one_gpu(GPU)"
   ]
  },
  {
   "cell_type": "code",
   "execution_count": 2,
   "metadata": {
    "collapsed": true
   },
   "outputs": [],
   "source": [
    "import numpy as np\n",
    "import tensorflow as tf\n",
    "import os.path as osp\n",
    "import matplotlib.pylab as plt\n",
    "from scipy.spatial.distance import pdist\n",
    "from sklearn.cluster import KMeans\n",
    "from collections import defaultdict\n",
    "from scipy.io import loadmat, savemat"
   ]
  },
  {
   "cell_type": "code",
   "execution_count": 3,
   "metadata": {
    "collapsed": true
   },
   "outputs": [],
   "source": [
    "from tflearn.layers.core import fully_connected\n",
    "from tflearn.layers.conv import conv_2d, max_pool_2d, avg_pool_2d\n",
    "from tf_lab.point_clouds.encoders_decoders import encoder_with_convs_and_symmetry_new, decoder_with_fc_only\n",
    "from tf_lab.fundamentals.inspect import count_trainable_parameters\n",
    "from tflearn import is_training"
   ]
  },
  {
   "cell_type": "code",
   "execution_count": 4,
   "metadata": {
    "collapsed": false
   },
   "outputs": [],
   "source": [
    "from general_tools.notebook.tf import reset_tf_graph\n",
    "from geo_tool import Point_Cloud, Mesh\n",
    "from helper import plot_mesh, sub_collection_indices, sub_collection_pose_labels,\\\n",
    "load_pclouds_of_shapes, load_gt_latent_params, load_meshes, make_data, \\\n",
    "prepare_train_test_val\n",
    "import helper"
   ]
  },
  {
   "cell_type": "code",
   "execution_count": 5,
   "metadata": {
    "collapsed": true
   },
   "outputs": [],
   "source": [
    "def load_consistent_bases(sync_bases_file, n_cons, n_shapes, debug=False):\n",
    "    synced_bases = loadmat(synced_bases_file)\n",
    "    synced_bases = synced_bases['sync_bases']\n",
    "    synced_bases = synced_bases[:, :n_cons]\n",
    "    if debug:\n",
    "        temp = []\n",
    "        n_evecs  = int(synced_bases.shape[0]/n_shapes)\n",
    "        for i in range(0, synced_bases.shape[0], n_evecs):\n",
    "            temp.append(synced_bases[i:i+n_evecs])\n",
    "        temp = np.array(temp)\n",
    "        print np.all(synced_bases.reshape((n_shapes, -1, n_cons)) == temp)\n",
    "    return synced_bases.reshape((n_shapes, -1, n_cons))\n",
    "\n",
    "def pc_net(n_pc_points):\n",
    "    with tf.variable_scope('pc_based_net') as scope:\n",
    "        feed_pl = tf.placeholder(tf.float32, shape = (None, n_pc_points, 3) )\n",
    "        labels_pl = tf.placeholder(tf.int64, shape=[None])                           \n",
    "        layer = encoder_with_convs_and_symmetry_new(feed_pl, n_filters=[64, 128, 256], b_norm=False)\n",
    "        layer = fully_connected(layer, 128, activation='relu', weights_init='xavier')\n",
    "        logits = fully_connected(layer, n_classes, activation='linear', weights_init='xavier')\n",
    "    return feed_pl, labels_pl, logits"
   ]
  },
  {
   "cell_type": "code",
   "execution_count": 6,
   "metadata": {
    "collapsed": false
   },
   "outputs": [],
   "source": [
    "%load_ext autoreload\n",
    "%autoreload 2\n",
    "%matplotlib inline"
   ]
  },
  {
   "cell_type": "code",
   "execution_count": 7,
   "metadata": {
    "collapsed": false
   },
   "outputs": [],
   "source": [
    "total_shapes = helper.total_shapes\n",
    "n_pose_classes = helper.n_pose_classes"
   ]
  },
  {
   "cell_type": "code",
   "execution_count": 9,
   "metadata": {
    "collapsed": false
   },
   "outputs": [],
   "source": [
    "sub_member_per_class = 50\n",
    "n_shapes = sub_member_per_class * n_pose_classes\n",
    "seed = 42\n",
    "val_per = 0.10\n",
    "test_per = 0.15\n",
    "train_per = 1.0 - (val_per + test_per)\n",
    "n_pc_points = 2048\n",
    "\n",
    "do_pose_clf = True\n",
    "do_unsup_clf = False\n",
    "\n",
    "normalize_pcs = False\n",
    "mean_norm_diffs = True\n",
    "n_cons = 45"
   ]
  },
  {
   "cell_type": "code",
   "execution_count": 14,
   "metadata": {
    "collapsed": true
   },
   "outputs": [],
   "source": [
    "gt_latent_params = load_gt_latent_params(top_data_dir, sub_member_per_class)\n",
    "in_pcs = load_pclouds_of_shapes(top_data_dir, sub_member_per_class, n_pc_points, normalize=False)\n",
    "pose_labels = sub_collection_pose_labels(sub_member_per_class)"
   ]
  },
  {
   "cell_type": "code",
   "execution_count": 16,
   "metadata": {
    "collapsed": false
   },
   "outputs": [],
   "source": [
    "top_data_dir = '/orions4-zfs/projects/optas/DATA/OUT/latent_diff_maps/experiments/human_poses/'\n",
    "# One I created\n",
    "synced_bases_file = '/orions4-zfs/projects/optas/DATA/OUT/latent_diff_maps/experiments/human_poses/50_50_synced_bases_clique_net.mat'"
   ]
  },
  {
   "cell_type": "code",
   "execution_count": 17,
   "metadata": {
    "collapsed": false
   },
   "outputs": [],
   "source": [
    "# Latest from Ruqi - see email.\n",
    "# import hdf5storage\n",
    "# synced_bases_file = '/orions4-zfs/projects/optas/DATA/OUT/latent_diff_maps/experiments/human_poses/latent_basis_400_shapes_60_eigs.mat'\n",
    "# synced_bases_file = '/orions4-zfs/projects/optas/DATA/OUT/latent_diff_maps/experiments/human_poses/complete_400_shapes.mat'\n",
    "# in_data = loadmat(synced_bases_file)\n",
    "# in_data = hdf5storage.loadmat(synced_bases_file)\n",
    "# print in_data.keys()\n",
    "# in_d = in_data['Cbases_ordered']\n",
    "# in_d = in_data['Cbases']\n",
    "# in_d = in_data['CB2_ordered']\n",
    "# in_d = in_data['CB2']\n",
    "# n_shapes = len(in_d)\n",
    "# c_dim = in_d[1][0].shape\n",
    "# temp = np.zeros(shape=(n_shapes, ) + c_dim )\n",
    "# for i in xrange(n_shapes):\n",
    "#     temp[i] = in_d[i][0]\n",
    "# c_bases = temp"
   ]
  },
  {
   "cell_type": "code",
   "execution_count": 18,
   "metadata": {
    "collapsed": false
   },
   "outputs": [],
   "source": [
    "diff_shape = (n_cons, n_cons)\n",
    "c_bases = load_consistent_bases(synced_bases_file, n_cons, n_shapes)\n",
    "in_diffs = np.zeros(shape=((n_shapes,) + diff_shape))\n",
    "diag_of_diffs = []\n",
    "for i in xrange(n_shapes):\n",
    "    in_diffs[i] = c_bases[i].T.dot(c_bases[i])\n",
    "    diag_of_diffs.append(np.diagonal(in_diffs[i]))\n",
    "    # np.diagonal(in_diffs[i], offset=1)\n",
    "diag_of_diffs = np.array(diag_of_diffs)"
   ]
  },
  {
   "cell_type": "code",
   "execution_count": 19,
   "metadata": {
    "collapsed": false
   },
   "outputs": [
    {
     "name": "stderr",
     "output_type": "stream",
     "text": [
      "/afs/cs.stanford.edu/u/optas/.local/lib/python2.7/site-packages/sklearn/model_selection/_split.py:2010: FutureWarning: From version 0.21, test_size will always complement train_size unless both are specified.\n",
      "  FutureWarning)\n"
     ]
    }
   ],
   "source": [
    "seed = 3\n",
    "if do_pose_clf:\n",
    "    n_classes = n_pose_classes\n",
    "    in_labels = pose_labels\n",
    "elif do_unsup_clf:    \n",
    "    n_classes = 12\n",
    "    unsup_clf = KMeans(n_clusters=n_classes, random_state=seed)\n",
    "    in_labels = unsup_clf.fit_predict(gt_latent_params)\n",
    "    plt.hist(in_labels, bins=np.arange(n_classes))\n",
    "else:\n",
    "    assert(False)\n",
    "\n",
    "splits = prepare_train_test_val(n_shapes, in_labels, train_per, test_per, seed=seed)"
   ]
  },
  {
   "cell_type": "code",
   "execution_count": 20,
   "metadata": {
    "collapsed": false
   },
   "outputs": [
    {
     "name": "stdout",
     "output_type": "stream",
     "text": [
      "['feed', 'labels', 'ids']\n",
      "['feed', 'labels', 'ids']\n",
      "['feed', 'labels', 'ids']\n"
     ]
    }
   ],
   "source": [
    "use_pc = False\n",
    "if use_pc:\n",
    "    feeds = in_pcs\n",
    "else:\n",
    "    feeds = in_diffs\n",
    "\n",
    "in_data = make_data(splits, feeds, in_labels)"
   ]
  },
  {
   "cell_type": "code",
   "execution_count": 21,
   "metadata": {
    "collapsed": true
   },
   "outputs": [],
   "source": [
    "# VARIOUS ways to normalize the data\n",
    "# in_diffs -= np.mean(in_diffs, axis=0)\n",
    "train_data = in_data['train']\n",
    "val_data = in_data['val']\n",
    "test_data = in_data['test']\n",
    "if not use_pc and mean_norm_diffs:\n",
    "    diff_mu = np.mean(train_data.feed, axis=0)\n",
    "    train_data.feed -= diff_mu    \n",
    "#     diff_sigma = np.std(train_data.feed, axis=0)\n",
    "#     train_data.feed /= diff_sigma\n",
    "    test_data.feed -= diff_mu\n",
    "#     test_data.feed /= diff_sigma\n",
    "    val_data.feed -= diff_mu\n",
    "#     val_data.feed /= diff_sigma    \n",
    "#     test_data.feed -= np.mean(test_data.feed, axis=0)\n",
    "#     val_data.feed -= np.mean(val_data.feed, axis=0)"
   ]
  },
  {
   "cell_type": "code",
   "execution_count": 23,
   "metadata": {
    "collapsed": false
   },
   "outputs": [
    {
     "name": "stdout",
     "output_type": "stream",
     "text": [
      "203408\n"
     ]
    }
   ],
   "source": [
    "arch = 'mlp'\n",
    "reset_tf_graph()\n",
    "\n",
    "if use_pc:\n",
    "    feed_pl, labels_pl, logits = pc_net(n_pc_points)\n",
    "else:\n",
    "    in_shape = in_data['train'].feed[0].shape\n",
    "    with tf.variable_scope('diff_based_net') as scope:\n",
    "        feed_pl = tf.placeholder(tf.float32, shape = (None, ) + in_shape)\n",
    "        labels_pl = tf.placeholder(tf.int64, shape=[None])\n",
    "        if arch == 'mlp':\n",
    "            layer = fully_connected(feed_pl, 100, activation='relu', weights_init='xavier')\n",
    "        elif arch == 'conv':\n",
    "            layer = tf.expand_dims(feed_pl, -1)\n",
    "#             layer = feed_pl\n",
    "            print layer\n",
    "            layer = conv_2d(layer, nb_filter=64, filter_size=6, strides=3, activation='relu')\n",
    "            print layer\n",
    "            layer = conv_2d(layer, nb_filter=64, filter_size=2, strides=2, activation='relu')\n",
    "            print layer\n",
    "        else:\n",
    "            assert(False)\n",
    "    logits = fully_connected(layer, n_classes, activation='linear', weights_init='xavier')\n",
    "print count_trainable_parameters()"
   ]
  },
  {
   "cell_type": "code",
   "execution_count": 24,
   "metadata": {
    "collapsed": false
   },
   "outputs": [],
   "source": [
    "prediction = tf.argmax(logits, axis=1)\n",
    "target_ = labels_pl\n",
    "correct_pred = tf.equal(prediction, target_)\n",
    "avg_accuracy = tf.reduce_mean(tf.cast(correct_pred, tf.float32))\n",
    "one_hot_labels = tf.one_hot(labels_pl, depth=n_classes)\n",
    "cross_entropy = tf.nn.softmax_cross_entropy_with_logits(logits=logits, labels=one_hot_labels)\n",
    "loss = tf.reduce_mean(cross_entropy)\n",
    "\n",
    "if use_pc:\n",
    "    learning_rate = 0.005\n",
    "    batch_size = 50\n",
    "    n_epochs = 1000\n",
    "else:\n",
    "    learning_rate = 0.005\n",
    "    batch_size = 50\n",
    "    n_epochs = 1000\n",
    "\n",
    "opt = tf.train.AdamOptimizer(learning_rate)\n",
    "opt_step = opt.minimize(loss)\n",
    "\n",
    "config = tf.ConfigProto()\n",
    "config.gpu_options.allow_growth = True\n",
    "sess = tf.Session(config=config)\n",
    "init=tf.global_variables_initializer()\n",
    "sess.run(init)"
   ]
  },
  {
   "cell_type": "code",
   "execution_count": 25,
   "metadata": {
    "collapsed": false
   },
   "outputs": [],
   "source": [
    "train_losses = []\n",
    "val_losses = []\n",
    "test_losses = []\n",
    "batches_for_epoch = train_data.n_examples / batch_size\n",
    "train_res = defaultdict(list)"
   ]
  },
  {
   "cell_type": "code",
   "execution_count": 26,
   "metadata": {
    "collapsed": false
   },
   "outputs": [
    {
     "name": "stdout",
     "output_type": "stream",
     "text": [
      "0 [0.12333333] [0.13333336] [0.125]\n",
      "1 [0.2] [0.23333335] [0.25]\n",
      "2 [0.33999997] [0.3666667] [0.35000002]\n",
      "3 [0.22999999] [0.25] [0.22499999]\n",
      "4 [0.26333332] [0.25] [0.25]\n",
      "5 [0.47666669] [0.45000005] [0.47500002]\n",
      "6 [0.54333329] [0.51666671] [0.57499999]\n",
      "7 [0.35666665] [0.3666667] [0.30000001]\n",
      "8 [0.5] [0.56666672] [0.40000001]\n",
      "9 [0.54333335] [0.48333341] [0.42500001]\n",
      "10 [0.65999997] [0.65000004] [0.67500001]\n",
      "11 [0.48666665] [0.48333341] [0.55000001]\n",
      "12 [0.61999995] [0.58333337] [0.67500001]\n",
      "13 [0.5666666] [0.56666672] [0.44999999]\n",
      "14 [0.71333331] [0.66666675] [0.70000005]\n",
      "15 [0.5933333] [0.61666673] [0.57500005]\n",
      "16 [0.71333331] [0.66666675] [0.75]\n",
      "17 [0.74000001] [0.70000005] [0.77500004]\n",
      "18 [0.64999998] [0.61666673] [0.72500002]\n",
      "19 [0.75999999] [0.75000006] [0.85000002]\n",
      "20 [0.80333328] [0.73333341] [0.77499998]\n",
      "21 [0.73999989] [0.70000005] [0.75]\n",
      "22 [0.74666667] [0.78333342] [0.77500004]\n",
      "23 [0.75999993] [0.75] [0.77500004]\n",
      "24 [0.78999996] [0.75000012] [0.77500004]\n",
      "25 [0.7899999] [0.78333342] [0.77500004]\n",
      "26 [0.82999998] [0.80000007] [0.80000007]\n",
      "27 [0.8366667] [0.83333337] [0.82500005]\n",
      "28 [0.81333327] [0.80000007] [0.80000007]\n",
      "29 [0.7899999] [0.7166667] [0.77500004]\n",
      "30 [0.82333332] [0.81666672] [0.80000007]\n",
      "31 [0.88999999] [0.91666675] [0.87500006]\n",
      "32 [0.82666671] [0.85000002] [0.82500005]\n",
      "33 [0.80666661] [0.76666671] [0.80000007]\n",
      "34 [0.83999997] [0.80000007] [0.77499998]\n",
      "35 [0.88] [0.86666673] [0.85000008]\n",
      "36 [0.84333336] [0.86666667] [0.85000002]\n",
      "37 [0.88999999] [0.85000002] [0.87500006]\n",
      "38 [0.86666667] [0.88333338] [0.87500006]\n",
      "39 [0.88] [0.88333344] [0.82500005]\n",
      "40 [0.86000001] [0.86666667] [0.82500005]\n",
      "41 [0.92666674] [0.9000001] [0.92500001]\n",
      "42 [0.91000009] [0.91666675] [0.92500001]\n",
      "43 [0.92000008] [0.91666675] [0.92500001]\n",
      "44 [0.89666677] [0.91666675] [0.87500006]\n",
      "45 [0.84333324] [0.83333337] [0.82500005]\n",
      "46 [0.90999997] [0.9000001] [0.92500001]\n",
      "47 [0.95000005] [0.91666675] [0.92500001]\n",
      "48 [0.9133333] [0.91666675] [0.87500006]\n",
      "49 [0.86666667] [0.85000002] [0.82500005]\n",
      "50 [0.94666672] [0.91666675] [0.94999999]\n",
      "51 [0.96333337] [0.9666667] [0.94999999]\n",
      "52 [0.95000005] [0.91666675] [0.92500001]\n",
      "53 [0.94333339] [0.91666675] [0.92500001]\n",
      "54 [0.94666672] [0.9333334] [0.94999999]\n",
      "55 [0.95666671] [0.91666675] [0.92500001]\n",
      "56 [0.93333334] [0.91666675] [0.90000004]\n",
      "57 [0.98000002] [0.9666667] [0.97499996]\n",
      "58 [0.95333338] [0.95000005] [0.97499996]\n",
      "59 [0.96333343] [0.95000005] [0.97500002]\n",
      "60 [0.96333337] [0.9666667] [0.94999999]\n",
      "61 [0.98000002] [0.98333335] [0.97499996]\n",
      "62 [0.97000009] [0.9666667] [0.94999999]\n",
      "63 [0.98000008] [0.9666667] [1.0]\n",
      "64 [0.9933334] [0.98333335] [0.97499996]\n",
      "65 [0.99666673] [0.98333335] [1.0]\n",
      "66 [0.98333341] [0.9666667] [1.0]\n",
      "67 [0.98333341] [0.98333335] [0.97499996]\n",
      "68 [0.99666673] [0.98333335] [1.0]\n",
      "69 [0.98666674] [1.0] [1.0]\n",
      "70 [0.9933334] [1.0] [1.0]\n",
      "71 [0.99666673] [1.0] [1.0]\n",
      "72 [0.9933334] [0.98333335] [1.0]\n",
      "73 [1.0000001] [1.0] [1.0]\n",
      "74 [1.0000001] [1.0] [1.0]\n",
      "75 [1.0000001] [1.0] [1.0]\n",
      "76 [1.0000001] [1.0] [1.0]\n",
      "77 [1.0000001] [1.0] [1.0]\n",
      "78 [1.0000001] [1.0] [1.0]\n",
      "79 [1.0000001] [1.0] [1.0]\n",
      "80 [1.0000001] [1.0] [1.0]\n",
      "81 [1.0000001] [1.0] [1.0]\n",
      "82 [1.0000001] [1.0] [1.0]\n",
      "83 [1.0000001] [1.0] [1.0]\n",
      "84 [1.0000001] [1.0] [1.0]\n",
      "85 [1.0000001] [1.0] [1.0]\n",
      "86 [1.0000001] [1.0] [1.0]\n",
      "87 [1.0000001] [1.0] [1.0]\n",
      "88 [1.0000001] [1.0] [1.0]\n",
      "89 [1.0000001] [1.0] [1.0]\n",
      "90 [1.0000001] [1.0] [1.0]\n",
      "91 [1.0000001] [1.0] [1.0]\n",
      "92 [1.0000001] [1.0] [1.0]\n",
      "93 [1.0000001] [1.0] [1.0]\n",
      "94 [1.0000001] [1.0] [1.0]\n",
      "95 [1.0000001] [1.0] [1.0]\n",
      "96 [1.0000001] [1.0] [1.0]\n",
      "97 [1.0000001] [1.0] [1.0]\n",
      "98 [1.0000001] [1.0] [1.0]\n",
      "99 [1.0000001] [1.0] [1.0]\n",
      "100 [1.0000001] [1.0] [1.0]\n",
      "101 [1.0000001] [1.0] [1.0]\n",
      "102 [1.0000001] [1.0] [1.0]\n",
      "103 [1.0000001] [1.0] [1.0]\n",
      "104 [1.0000001] [1.0] [1.0]\n",
      "105 [1.0000001] [1.0] [1.0]\n",
      "106 [1.0000001] [1.0] [1.0]\n",
      "107 [1.0000001] [1.0] [1.0]\n",
      "108 [1.0000001] [1.0] [1.0]\n",
      "109 [1.0000001] [1.0] [1.0]\n",
      "110 [1.0000001] [1.0] [1.0]\n",
      "111 [1.0000001] [1.0] [1.0]\n",
      "112 [1.0000001] [1.0] [1.0]\n",
      "113 [1.0000001] [1.0] [1.0]\n",
      "114 [1.0000001] [1.0] [1.0]\n",
      "115 [1.0000001] [1.0] [1.0]\n",
      "116 [1.0000001] [1.0] [1.0]\n",
      "117 [1.0000001] [1.0] [1.0]\n",
      "118 [1.0000001] [1.0] [1.0]\n",
      "119 [1.0000001] [1.0] [1.0]\n",
      "120 [1.0000001] [1.0] [1.0]\n",
      "121 [1.0000001] [1.0] [1.0]\n",
      "122 [1.0000001] [1.0] [1.0]\n",
      "123 [1.0000001] [1.0] [1.0]\n",
      "124 [1.0000001] [1.0] [1.0]\n",
      "125 [1.0000001] [1.0] [1.0]\n",
      "126 [1.0000001] [1.0] [1.0]\n",
      "127 [1.0000001] [1.0] [1.0]\n",
      "128 [1.0000001] [1.0] [1.0]\n",
      "129 [1.0000001] [1.0] [1.0]\n",
      "130 [1.0000001] [1.0] [1.0]\n",
      "131 [1.0000001] [1.0] [1.0]\n",
      "132 [1.0000001] [1.0] [1.0]\n",
      "133 [1.0000001] [1.0] [1.0]\n",
      "134 [1.0] [1.0] [1.0]\n",
      "135 [1.0000001] [1.0] [1.0]\n",
      "136 [1.0000001] [1.0] [1.0]\n",
      "137 [1.0000001] [1.0] [1.0]\n",
      "138 [1.0000001] [1.0] [1.0]\n",
      "139 [1.0000001] [1.0] [1.0]\n",
      "140 [1.0000001] [1.0] [1.0]\n",
      "141 [1.0000001] [1.0] [1.0]\n",
      "142 [1.0000001] [1.0] [1.0]\n",
      "143 [1.0000001] [1.0] [1.0]\n",
      "144 [1.0000001] [1.0] [1.0]\n",
      "145 [1.0000001] [1.0] [1.0]\n",
      "146 [1.0000001] [1.0] [1.0]\n",
      "147 [1.0000001] [1.0] [1.0]\n",
      "148 [1.0000001] [1.0] [1.0]\n",
      "149 [1.0000001] [1.0] [1.0]\n",
      "150 [1.0000001] [1.0] [1.0]\n",
      "151 [1.0000001] [1.0] [1.0]\n",
      "152 [1.0000001] [1.0] [1.0]\n",
      "153 [1.0000001] [1.0] [1.0]\n",
      "154 [1.0000001] [1.0] [1.0]\n",
      "155 [1.0000001] [1.0] [1.0]\n",
      "156 [1.0000001] [1.0] [1.0]\n",
      "157 [1.0000001] [1.0] [1.0]\n",
      "158 [1.0000001] [1.0] [1.0]\n",
      "159 [1.0000001] [1.0] [1.0]\n",
      "160 [1.0000001] [1.0] [1.0]\n",
      "161 [1.0000001] [1.0] [1.0]\n",
      "162 [1.0000001] [1.0] [1.0]\n",
      "163 [1.0000001] [1.0] [1.0]\n",
      "164 [1.0000001] [1.0] [1.0]\n",
      "165 [1.0000001] [1.0] [1.0]\n",
      "166 [1.0000001] [1.0] [1.0]\n",
      "167 [1.0000001] [1.0] [1.0]\n",
      "168 [1.0000001] [1.0] [1.0]\n",
      "169 [1.0000001] [1.0] [1.0]\n",
      "170 [1.0000001] [1.0] [1.0]\n",
      "171 [1.0000001] [1.0] [1.0]\n",
      "172 [1.0000001] [1.0] [1.0]\n",
      "173 [1.0000001] [1.0] [1.0]\n",
      "174 [1.0000001] [1.0] [1.0]\n",
      "175 [1.0000001] [1.0] [1.0]\n",
      "176 [1.0000001] [1.0] [1.0]\n",
      "177 [1.0000001] [1.0] [1.0]\n",
      "178 [1.0000001] [1.0] [1.0]\n",
      "179 [1.0000001] [1.0] [1.0]\n",
      "180 [1.0000001] [1.0] [1.0]\n",
      "181 [1.0000001] [1.0] [1.0]\n",
      "182 [1.0000001] [1.0] [1.0]\n",
      "183 [1.0000001] [1.0] [1.0]\n",
      "184 [1.0000001] [1.0] [1.0]\n",
      "185 [1.0000001] [1.0] [1.0]\n",
      "186 [1.0000001] [1.0] [1.0]\n",
      "187 [1.0000001] [1.0] [1.0]\n",
      "188 [1.0000001] [1.0] [1.0]\n",
      "189 [1.0000001] [1.0] [1.0]\n",
      "190 [1.0000001] [1.0] [1.0]\n",
      "191 [1.0000001] [1.0] [1.0]\n",
      "192 [1.0000001] [1.0] [1.0]\n",
      "193 [1.0000001] [1.0] [1.0]\n",
      "194 [1.0000001] [1.0] [1.0]\n",
      "195 [1.0000001] [1.0] [1.0]\n",
      "196 [1.0000001] [1.0] [1.0]\n",
      "197 [1.0000001] [1.0] [1.0]\n",
      "198 [1.0000001] [1.0] [1.0]\n",
      "199 [1.0000001] [1.0] [1.0]\n",
      "200 [1.0000001] [1.0] [1.0]\n",
      "201 [1.0000001] [1.0] [1.0]\n",
      "202 [1.0000001] [1.0] [1.0]\n",
      "203 [1.0000001] [1.0] [1.0]\n",
      "204 [1.0000001] [1.0] [1.0]\n",
      "205 [1.0000001] [1.0] [1.0]\n",
      "206 [1.0000001] [1.0] [1.0]\n",
      "207 [1.0000001] [1.0] [1.0]\n",
      "208 [1.0000001] [1.0] [1.0]\n",
      "209 [1.0000001] [1.0] [1.0]\n",
      "210 [1.0000001] [1.0] [1.0]\n",
      "211 [1.0000001] [1.0] [1.0]\n",
      "212 [1.0000001] [1.0] [1.0]\n",
      "213 [1.0000001] [1.0] [1.0]\n",
      "214 [1.0000001] [1.0] [1.0]\n",
      "215 [1.0000001] [1.0] [1.0]\n",
      "216 [1.0000001] [1.0] [1.0]\n",
      "217 [1.0000001] [1.0] [1.0]\n",
      "218 [1.0000001] [1.0] [1.0]\n",
      "219 [1.0000001] [1.0] [1.0]\n",
      "220 [1.0000001] [1.0] [1.0]\n",
      "221 [1.0000001] [1.0] [1.0]\n",
      "222 [1.0000001] [1.0] [1.0]\n",
      "223 [1.0000001] [1.0] [1.0]\n",
      "224 [1.0000001] [1.0] [1.0]\n",
      "225 [1.0000001] [1.0] [1.0]\n",
      "226 [1.0000001] [1.0] [1.0]\n",
      "227 [1.0000001] [1.0] [1.0]\n",
      "228 [1.0000001] [1.0] [1.0]\n",
      "229 [1.0000001] [1.0] [1.0]\n",
      "230 [1.0000001] [1.0] [1.0]\n",
      "231 [1.0000001] [1.0] [1.0]\n",
      "232 [1.0000001] [1.0] [1.0]\n",
      "233 [1.0000001] [1.0] [1.0]\n",
      "234 [1.0000001] [1.0] [1.0]\n",
      "235 [1.0000001] [1.0] [1.0]\n",
      "236 [1.0000001] [1.0] [1.0]\n",
      "237 [1.0000001] [1.0] [1.0]\n",
      "238 [1.0000001] [1.0] [1.0]\n",
      "239 [1.0000001] [1.0] [1.0]\n",
      "240 [1.0000001] [1.0] [1.0]\n",
      "241 [1.0000001] [1.0] [1.0]\n",
      "242 [1.0000001] [1.0] [1.0]\n",
      "243 [1.0000001] [1.0] [1.0]\n",
      "244 [1.0000001] [1.0] [1.0]\n",
      "245 [1.0000001] [1.0] [1.0]\n",
      "246 [1.0000001] [1.0] [1.0]\n",
      "247 [1.0000001] [1.0] [1.0]\n",
      "248 [1.0000001] [1.0] [1.0]\n",
      "249 [1.0000001] [1.0] [1.0]\n",
      "250 [1.0000001] [1.0] [1.0]\n",
      "251 [1.0000001] [1.0] [1.0]\n",
      "252 [1.0000001] [1.0] [1.0]\n",
      "253 [1.0000001] [1.0] [1.0]\n",
      "254 [1.0000001] [1.0] [1.0]\n",
      "255 [1.0000001] [1.0] [1.0]\n",
      "256 [1.0000001] [1.0] [1.0]\n",
      "257 [1.0000001] [1.0] [1.0]\n",
      "258 [1.0000001] [1.0] [1.0]\n",
      "259 [1.0000001] [1.0] [1.0]\n",
      "260 [1.0000001] [1.0] [1.0]\n",
      "261 [1.0000001] [1.0] [1.0]\n",
      "262 [1.0000001] [1.0] [1.0]\n",
      "263 [1.0000001] [1.0] [1.0]\n",
      "264 [1.0000001] [1.0] [1.0]\n",
      "265 [1.0000001] [1.0] [1.0]\n",
      "266 [1.0000001] [1.0] [1.0]\n",
      "267 [1.0000001] [1.0] [1.0]\n",
      "268 [1.0000001] [1.0] [1.0]\n",
      "269 [1.0000001] [1.0] [1.0]\n",
      "270 [1.0000001] [1.0] [1.0]\n",
      "271 [1.0000001] [1.0] [1.0]\n",
      "272 [1.0000001] [1.0] [1.0]\n",
      "273 [1.0000001] [1.0] [1.0]\n",
      "274 [1.0000001] [1.0] [1.0]\n",
      "275 [1.0000001] [1.0] [1.0]\n",
      "276 [1.0000001] [1.0] [1.0]\n",
      "277 [1.0000001] [1.0] [1.0]\n",
      "278 [1.0000001] [1.0] [1.0]\n",
      "279 [1.0000001] [1.0] [1.0]\n",
      "280 [1.0000001] [1.0] [1.0]\n",
      "281 [1.0000001] [1.0] [1.0]\n",
      "282 [1.0000001] [1.0] [1.0]\n",
      "283 [1.0] [1.0] [1.0]\n",
      "284"
     ]
    },
    {
     "ename": "KeyboardInterrupt",
     "evalue": "",
     "output_type": "error",
     "traceback": [
      "\u001b[0;31m---------------------------------------------------------------------------\u001b[0m",
      "\u001b[0;31mKeyboardInterrupt\u001b[0m                         Traceback (most recent call last)",
      "\u001b[0;32m<ipython-input-26-e053e38ad3be>\u001b[0m in \u001b[0;36m<module>\u001b[0;34m()\u001b[0m\n\u001b[1;32m     10\u001b[0m     \u001b[0;32mfor\u001b[0m \u001b[0ms\u001b[0m \u001b[0;32min\u001b[0m \u001b[0;34m[\u001b[0m\u001b[0;34m'train'\u001b[0m\u001b[0;34m,\u001b[0m \u001b[0;34m'test'\u001b[0m\u001b[0;34m,\u001b[0m \u001b[0;34m'val'\u001b[0m\u001b[0;34m]\u001b[0m\u001b[0;34m:\u001b[0m\u001b[0;34m\u001b[0m\u001b[0m\n\u001b[1;32m     11\u001b[0m         \u001b[0mfeed_dict\u001b[0m \u001b[0;34m=\u001b[0m \u001b[0;34m{\u001b[0m\u001b[0mfeed_pl\u001b[0m\u001b[0;34m:\u001b[0m\u001b[0min_data\u001b[0m\u001b[0;34m[\u001b[0m\u001b[0ms\u001b[0m\u001b[0;34m]\u001b[0m\u001b[0;34m.\u001b[0m\u001b[0mfeed\u001b[0m\u001b[0;34m,\u001b[0m \u001b[0mlabels_pl\u001b[0m\u001b[0;34m:\u001b[0m\u001b[0min_data\u001b[0m\u001b[0;34m[\u001b[0m\u001b[0ms\u001b[0m\u001b[0;34m]\u001b[0m\u001b[0;34m.\u001b[0m\u001b[0mlabels\u001b[0m\u001b[0;34m}\u001b[0m\u001b[0;34m\u001b[0m\u001b[0m\n\u001b[0;32m---> 12\u001b[0;31m         \u001b[0mr\u001b[0m \u001b[0;34m=\u001b[0m \u001b[0msess\u001b[0m\u001b[0;34m.\u001b[0m\u001b[0mrun\u001b[0m\u001b[0;34m(\u001b[0m\u001b[0;34m[\u001b[0m\u001b[0mavg_accuracy\u001b[0m\u001b[0;34m]\u001b[0m\u001b[0;34m,\u001b[0m \u001b[0mfeed_dict\u001b[0m\u001b[0;34m=\u001b[0m\u001b[0mfeed_dict\u001b[0m\u001b[0;34m)\u001b[0m\u001b[0;34m\u001b[0m\u001b[0m\n\u001b[0m\u001b[1;32m     13\u001b[0m         \u001b[0mtrain_res\u001b[0m\u001b[0;34m[\u001b[0m\u001b[0ms\u001b[0m\u001b[0;34m]\u001b[0m\u001b[0;34m.\u001b[0m\u001b[0mappend\u001b[0m\u001b[0;34m(\u001b[0m\u001b[0mr\u001b[0m\u001b[0;34m)\u001b[0m\u001b[0;34m\u001b[0m\u001b[0m\n\u001b[1;32m     14\u001b[0m         \u001b[0;32mprint\u001b[0m \u001b[0mr\u001b[0m\u001b[0;34m,\u001b[0m\u001b[0;34m\u001b[0m\u001b[0m\n",
      "\u001b[0;32m/orions4-zfs/projects/optas/Virt_Env/tf_1.3/local/lib/python2.7/site-packages/tensorflow/python/client/session.pyc\u001b[0m in \u001b[0;36mrun\u001b[0;34m(self, fetches, feed_dict, options, run_metadata)\u001b[0m\n\u001b[1;32m    893\u001b[0m     \u001b[0;32mtry\u001b[0m\u001b[0;34m:\u001b[0m\u001b[0;34m\u001b[0m\u001b[0m\n\u001b[1;32m    894\u001b[0m       result = self._run(None, fetches, feed_dict, options_ptr,\n\u001b[0;32m--> 895\u001b[0;31m                          run_metadata_ptr)\n\u001b[0m\u001b[1;32m    896\u001b[0m       \u001b[0;32mif\u001b[0m \u001b[0mrun_metadata\u001b[0m\u001b[0;34m:\u001b[0m\u001b[0;34m\u001b[0m\u001b[0m\n\u001b[1;32m    897\u001b[0m         \u001b[0mproto_data\u001b[0m \u001b[0;34m=\u001b[0m \u001b[0mtf_session\u001b[0m\u001b[0;34m.\u001b[0m\u001b[0mTF_GetBuffer\u001b[0m\u001b[0;34m(\u001b[0m\u001b[0mrun_metadata_ptr\u001b[0m\u001b[0;34m)\u001b[0m\u001b[0;34m\u001b[0m\u001b[0m\n",
      "\u001b[0;32m/orions4-zfs/projects/optas/Virt_Env/tf_1.3/local/lib/python2.7/site-packages/tensorflow/python/client/session.pyc\u001b[0m in \u001b[0;36m_run\u001b[0;34m(self, handle, fetches, feed_dict, options, run_metadata)\u001b[0m\n\u001b[1;32m   1122\u001b[0m     \u001b[0;32mif\u001b[0m \u001b[0mfinal_fetches\u001b[0m \u001b[0;32mor\u001b[0m \u001b[0mfinal_targets\u001b[0m \u001b[0;32mor\u001b[0m \u001b[0;34m(\u001b[0m\u001b[0mhandle\u001b[0m \u001b[0;32mand\u001b[0m \u001b[0mfeed_dict_tensor\u001b[0m\u001b[0;34m)\u001b[0m\u001b[0;34m:\u001b[0m\u001b[0;34m\u001b[0m\u001b[0m\n\u001b[1;32m   1123\u001b[0m       results = self._do_run(handle, final_targets, final_fetches,\n\u001b[0;32m-> 1124\u001b[0;31m                              feed_dict_tensor, options, run_metadata)\n\u001b[0m\u001b[1;32m   1125\u001b[0m     \u001b[0;32melse\u001b[0m\u001b[0;34m:\u001b[0m\u001b[0;34m\u001b[0m\u001b[0m\n\u001b[1;32m   1126\u001b[0m       \u001b[0mresults\u001b[0m \u001b[0;34m=\u001b[0m \u001b[0;34m[\u001b[0m\u001b[0;34m]\u001b[0m\u001b[0;34m\u001b[0m\u001b[0m\n",
      "\u001b[0;32m/orions4-zfs/projects/optas/Virt_Env/tf_1.3/local/lib/python2.7/site-packages/tensorflow/python/client/session.pyc\u001b[0m in \u001b[0;36m_do_run\u001b[0;34m(self, handle, target_list, fetch_list, feed_dict, options, run_metadata)\u001b[0m\n\u001b[1;32m   1319\u001b[0m     \u001b[0;32mif\u001b[0m \u001b[0mhandle\u001b[0m \u001b[0;32mis\u001b[0m \u001b[0mNone\u001b[0m\u001b[0;34m:\u001b[0m\u001b[0;34m\u001b[0m\u001b[0m\n\u001b[1;32m   1320\u001b[0m       return self._do_call(_run_fn, self._session, feeds, fetches, targets,\n\u001b[0;32m-> 1321\u001b[0;31m                            options, run_metadata)\n\u001b[0m\u001b[1;32m   1322\u001b[0m     \u001b[0;32melse\u001b[0m\u001b[0;34m:\u001b[0m\u001b[0;34m\u001b[0m\u001b[0m\n\u001b[1;32m   1323\u001b[0m       \u001b[0;32mreturn\u001b[0m \u001b[0mself\u001b[0m\u001b[0;34m.\u001b[0m\u001b[0m_do_call\u001b[0m\u001b[0;34m(\u001b[0m\u001b[0m_prun_fn\u001b[0m\u001b[0;34m,\u001b[0m \u001b[0mself\u001b[0m\u001b[0;34m.\u001b[0m\u001b[0m_session\u001b[0m\u001b[0;34m,\u001b[0m \u001b[0mhandle\u001b[0m\u001b[0;34m,\u001b[0m \u001b[0mfeeds\u001b[0m\u001b[0;34m,\u001b[0m \u001b[0mfetches\u001b[0m\u001b[0;34m)\u001b[0m\u001b[0;34m\u001b[0m\u001b[0m\n",
      "\u001b[0;32m/orions4-zfs/projects/optas/Virt_Env/tf_1.3/local/lib/python2.7/site-packages/tensorflow/python/client/session.pyc\u001b[0m in \u001b[0;36m_do_call\u001b[0;34m(self, fn, *args)\u001b[0m\n\u001b[1;32m   1325\u001b[0m   \u001b[0;32mdef\u001b[0m \u001b[0m_do_call\u001b[0m\u001b[0;34m(\u001b[0m\u001b[0mself\u001b[0m\u001b[0;34m,\u001b[0m \u001b[0mfn\u001b[0m\u001b[0;34m,\u001b[0m \u001b[0;34m*\u001b[0m\u001b[0margs\u001b[0m\u001b[0;34m)\u001b[0m\u001b[0;34m:\u001b[0m\u001b[0;34m\u001b[0m\u001b[0m\n\u001b[1;32m   1326\u001b[0m     \u001b[0;32mtry\u001b[0m\u001b[0;34m:\u001b[0m\u001b[0;34m\u001b[0m\u001b[0m\n\u001b[0;32m-> 1327\u001b[0;31m       \u001b[0;32mreturn\u001b[0m \u001b[0mfn\u001b[0m\u001b[0;34m(\u001b[0m\u001b[0;34m*\u001b[0m\u001b[0margs\u001b[0m\u001b[0;34m)\u001b[0m\u001b[0;34m\u001b[0m\u001b[0m\n\u001b[0m\u001b[1;32m   1328\u001b[0m     \u001b[0;32mexcept\u001b[0m \u001b[0merrors\u001b[0m\u001b[0;34m.\u001b[0m\u001b[0mOpError\u001b[0m \u001b[0;32mas\u001b[0m \u001b[0me\u001b[0m\u001b[0;34m:\u001b[0m\u001b[0;34m\u001b[0m\u001b[0m\n\u001b[1;32m   1329\u001b[0m       \u001b[0mmessage\u001b[0m \u001b[0;34m=\u001b[0m \u001b[0mcompat\u001b[0m\u001b[0;34m.\u001b[0m\u001b[0mas_text\u001b[0m\u001b[0;34m(\u001b[0m\u001b[0me\u001b[0m\u001b[0;34m.\u001b[0m\u001b[0mmessage\u001b[0m\u001b[0;34m)\u001b[0m\u001b[0;34m\u001b[0m\u001b[0m\n",
      "\u001b[0;32m/orions4-zfs/projects/optas/Virt_Env/tf_1.3/local/lib/python2.7/site-packages/tensorflow/python/client/session.pyc\u001b[0m in \u001b[0;36m_run_fn\u001b[0;34m(session, feed_dict, fetch_list, target_list, options, run_metadata)\u001b[0m\n\u001b[1;32m   1304\u001b[0m           return tf_session.TF_Run(session, options,\n\u001b[1;32m   1305\u001b[0m                                    \u001b[0mfeed_dict\u001b[0m\u001b[0;34m,\u001b[0m \u001b[0mfetch_list\u001b[0m\u001b[0;34m,\u001b[0m \u001b[0mtarget_list\u001b[0m\u001b[0;34m,\u001b[0m\u001b[0;34m\u001b[0m\u001b[0m\n\u001b[0;32m-> 1306\u001b[0;31m                                    status, run_metadata)\n\u001b[0m\u001b[1;32m   1307\u001b[0m \u001b[0;34m\u001b[0m\u001b[0m\n\u001b[1;32m   1308\u001b[0m     \u001b[0;32mdef\u001b[0m \u001b[0m_prun_fn\u001b[0m\u001b[0;34m(\u001b[0m\u001b[0msession\u001b[0m\u001b[0;34m,\u001b[0m \u001b[0mhandle\u001b[0m\u001b[0;34m,\u001b[0m \u001b[0mfeed_dict\u001b[0m\u001b[0;34m,\u001b[0m \u001b[0mfetch_list\u001b[0m\u001b[0;34m)\u001b[0m\u001b[0;34m:\u001b[0m\u001b[0;34m\u001b[0m\u001b[0m\n",
      "\u001b[0;31mKeyboardInterrupt\u001b[0m: "
     ]
    }
   ],
   "source": [
    "for epoch in range(n_epochs):    \n",
    "    is_training(True, session=sess)\n",
    "    for _ in range(batches_for_epoch):        \n",
    "        batch_d, batch_l, _ = train_data.next_batch(batch_size)\n",
    "        feed_dict = {feed_pl:batch_d, labels_pl:batch_l}\n",
    "        sess.run([opt_step, loss, avg_accuracy], feed_dict=feed_dict)\n",
    "    is_training(False, session=sess)\n",
    "    print epoch,\n",
    "    \n",
    "    for s in ['train', 'test', 'val']:\n",
    "        feed_dict = {feed_pl:in_data[s].feed, labels_pl:in_data[s].labels}\n",
    "        r = sess.run([avg_accuracy], feed_dict=feed_dict)\n",
    "        train_res[s].append(r)\n",
    "        print r,\n",
    "    print"
   ]
  },
  {
   "cell_type": "code",
   "execution_count": 152,
   "metadata": {
    "collapsed": false
   },
   "outputs": [
    {
     "name": "stdout",
     "output_type": "stream",
     "text": [
      "[ 0.66666675]\n",
      "13\n"
     ]
    },
    {
     "data": {
      "text/plain": [
       "0.63482547"
      ]
     },
     "execution_count": 152,
     "metadata": {},
     "output_type": "execute_result"
    },
    {
     "data": {
      "image/png": "[encoded data removed]",
      "text/plain": [
       "<matplotlib.figure.Figure at 0x7f6bec653a50>"
      ]
     },
     "metadata": {},
     "output_type": "display_data"
    }
   ],
   "source": [
    "plt.plot(train_res['train'])\n",
    "plt.plot(train_res['test'])\n",
    "plt.grid()\n",
    "plt.legend(['Train', 'Test'])\n",
    "plt.xlabel('Epoch')\n",
    "plt.ylabel('Accuracy')\n",
    "\n",
    "if use_pc:\n",
    "    title_tag = 'Raw input'\n",
    "else:\n",
    "    title_tag = 'Diff-map input (%s)' % (arch,)\n",
    "\n",
    "plt.title('%s CLF for body-variation.'% (title_tag, ))\n",
    "\n",
    "val_maximizers = np.where(train_res['val'] == np.max(train_res['val']))[0]\n",
    "val_best = np.mean(np.array(train_res['test'])[val_maximizers])\n",
    "plt.text(100, 0.3, 'best by val:%.2f' % (val_best,), fontsize=12);\n",
    "\n",
    "print np.array(train_res['test'])[val_maximizers[-1]]\n",
    "\n",
    "print len(val_maximizers)\n",
    "np.mean(np.array(train_res['test'])[int(n_epochs - n_epochs*0.05):])"
   ]
  },
  {
   "cell_type": "code",
   "execution_count": 56,
   "metadata": {
    "collapsed": false
   },
   "outputs": [],
   "source": []
  },
  {
   "cell_type": "code",
   "execution_count": null,
   "metadata": {
    "collapsed": false
   },
   "outputs": [],
   "source": []
  },
  {
   "cell_type": "code",
   "execution_count": 333,
   "metadata": {
    "collapsed": false
   },
   "outputs": [
    {
     "data": {
      "text/plain": [
       "(array([ 2.,  2.,  2.,  2.,  3.,  4.,  5.,  2.,  2.,  3.,  1.,  2.]),\n",
       " array([  0.        ,   0.91666667,   1.83333333,   2.75      ,\n",
       "          3.66666667,   4.58333333,   5.5       ,   6.41666667,\n",
       "          7.33333333,   8.25      ,   9.16666667,  10.08333333,  11.        ]),\n",
       " <a list of 12 Patch objects>)"
      ]
     },
     "execution_count": 333,
     "metadata": {},
     "output_type": "execute_result"
    },
    {
     "data": {
      "image/png": "[encoded data removed]",
      "text/plain": [
       "<matplotlib.figure.Figure at 0x7fcd7e8d6cd0>"
      ]
     },
     "metadata": {},
     "output_type": "display_data"
    }
   ],
   "source": [
    "s = 'test'\n",
    "feed_dict = {feed_pl:in_data[s].feed, labels_pl:in_data[s].labels}\n",
    "r = sess.run([correct_pred], feed_dict=feed_dict)\n",
    "plt.hist(in_data[s].labels[r], bins=n_classes)\n",
    "\n",
    "# in_data[s].labels[r]\n",
    "plt.hist(in_data[s].labels[r], bins=n_classes)"
   ]
  },
  {
   "cell_type": "code",
   "execution_count": 65,
   "metadata": {
    "collapsed": false
   },
   "outputs": [
    {
     "data": {
      "text/plain": [
       "500"
      ]
     },
     "execution_count": 65,
     "metadata": {},
     "output_type": "execute_result"
    }
   ],
   "source": [
    "in_class_p = 0.01\n",
    "out_class_p = 0.01\n",
    "p_matrix = np.ones(shape = (n_classes, n_classes)) * out_class_p\n",
    "np.fill_diagonal(p_matrix, in_class_p)\n",
    "adj = SBM_from_class_labels(sorted(in_labels), p_matrix)"
   ]
  },
  {
   "cell_type": "code",
   "execution_count": 48,
   "metadata": {
    "collapsed": false
   },
   "outputs": [],
   "source": [
    "import random\n",
    "import numpy as np\n",
    "\n",
    "def SBM_from_class_labels(vertex_labels, p_matrix):\n",
    "    n_vertices = len(vertex_labels)\n",
    "    adjacency = np.zeros(shape=(n_vertices, n_vertices), dtype=np.bool)\n",
    "    for row, _row in enumerate(adjacency):\n",
    "        for col, _col in enumerate(adjacency[row]):\n",
    "            community_a = vertex_labels[row]\n",
    "            community_b = vertex_labels[col]\n",
    "            \n",
    "            p = random.random()\n",
    "            val = p_matrix[community_a][community_b]\n",
    "\n",
    "            if p <= val:\n",
    "                adjacency[row][col] = 1\n",
    "                adjacency[col][row] = 1\n",
    "    return adjacency"
   ]
  },
  {
   "cell_type": "code",
   "execution_count": 67,
   "metadata": {
    "collapsed": false
   },
   "outputs": [],
   "source": [
    "# feed_dict = {diffs_pl:test_data.diff_maps, labels_pl:test_data.labels}\n",
    "# pred = sess.run(prediction, feed_dict=feed_dict)\n",
    "# missed = np.where(test_data.labels != pred)\n",
    "# pred[missed]\n",
    "# test_data.labels[missed]\n",
    "# test_data.ids[missed]"
   ]
  },
  {
   "cell_type": "code",
   "execution_count": 207,
   "metadata": {
    "collapsed": false
   },
   "outputs": [],
   "source": [
    "grid_scaler = np.arange(np.prod(diff_dims)).reshape(diff_dims)\n",
    "loc_scaled_diffs = []\n",
    "for d in in_diffs:\n",
    "    loc_scaled_diffs.append(d + grid_scaler)"
   ]
  },
  {
   "cell_type": "code",
   "execution_count": null,
   "metadata": {
    "collapsed": true
   },
   "outputs": [],
   "source": [
    "# d = in_diffs[0]\n",
    "# # plt.imshow(d)\n",
    "# # d = np.hstack((d, np.zeros(50).reshape(-1, 1)))\n",
    "# # print d.shape\n",
    "# # # coeffs = pywt.dwt2(d, 'haar')\n",
    "# # # print coeffs[0].shape\n",
    "# # cc = (d[0:25,0:13], (d[0:25, 13:], d[25:, 0:13], d[25:,13:]))\n",
    "# # lala = pywt.idwt2(cc, 'haar')\n",
    "# # # plt.imshow(lala)\n",
    "# # plt.imshow(lala)\n",
    "# # plt.imshow(np.bmat([coeffs[0], coeffs[1][0]],[coeffs[1][1], coeffs[1][2]]))\n",
    "# # plt.imshow(in_diffs[-1])\n",
    "# # len(coeffs)\n",
    "# # coeffs[1][2].shape\n",
    "\n",
    "# import pywt\n",
    "\n",
    "# haar_diffs = []\n",
    "# for d in in_diffs:\n",
    "# #     coeffs = pywt.dwt2(d, 'haar')\n",
    "# #     haar_diffs.append(coeffs[0])\n",
    "\n",
    "#     dd = np.hstack((d, np.zeros(50).reshape(-1, 1)))\n",
    "#     cc = (dd[0:25,0:13], (dd[0:25, 13:], dd[25:, 0:13], dd[25:,13:]))\n",
    "#     haar_diffs.append(pywt.idwt2(cc, 'haar'))\n",
    "\n",
    "# #     coeffs = [d, (d, d, d)]\n",
    "# #     haar_diffs.append(pywt.idwt2(coeffs, 'haar'))\n",
    "\n",
    "\n",
    "# haar_diffs = np.array(haar_diffs)"
   ]
  },
  {
   "cell_type": "code",
   "execution_count": null,
   "metadata": {
    "collapsed": true
   },
   "outputs": [],
   "source": [
    "\n",
    "\n",
    "# for epoch in range(n_epochs):\n",
    "#     for _ in range(batches_for_epoch):        \n",
    "#         batch_d, batch_l, batch_dd = train_data.next_batch(batch_size)\n",
    "#         feed_dict = {feed_pl_1:batch_d, labels_pl:batch_l, feed_pl_2:batch_dd}\n",
    "#         sess.run([opt_step, loss, avg_accuracy], feed_dict=feed_dict)\n",
    "    \n",
    "#     print epoch,\n",
    "#     for s in ['train', 'test', 'val']:\n",
    "#         feed_dict = {feed_pl_1:in_data[s].feed, labels_pl:in_data[s].labels, feed_pl_2:in_data[s].ids}\n",
    "#         r = sess.run([avg_accuracy], feed_dict=feed_dict)        \n",
    "#         train_res[s].append(r)\n",
    "#         print r,\n",
    "#     print\n",
    "\n",
    "\n",
    "# from tf_lab.data_sets.numpy_dataset import NumpyDataset\n",
    "# def make_data_mixed(in_data, in_pc, class_labels, in_diff):\n",
    "#     res = dict()\n",
    "#     for s in ['train', 'test', 'val']:\n",
    "#         idx = in_data[s].copy()        \n",
    "#         res[s] = NumpyDataset([in_pc[idx], class_labels[idx], in_diff[idx]], ['feed', 'labels', 'ids'])\n",
    "#     return res\n",
    "\n",
    "# in_data = make_data_mixed(splits, in_pcs, in_labels, in_diffs)"
   ]
  },
  {
   "cell_type": "code",
   "execution_count": null,
   "metadata": {
    "collapsed": true
   },
   "outputs": [],
   "source": [
    "# is_directed = False\n",
    "# n_shapes\n",
    "# from geo_tool.utils.graph_generators import gnm_random_graph\n",
    "# from geo_tool import Graph\n",
    "\n",
    "# g = gnm_random_graph(n_shapes, n_shapes*4, directed=is_directed)\n",
    "# print Graph.connected_components(g)[0]\n",
    "# gg = Graph(g, is_directed)\n",
    "\n",
    "\n",
    "# # splits['train']\n",
    "\n",
    "# in_class_p = 0.01\n",
    "# out_class_p = 0.05\n",
    "# p_matrix = np.ones(shape = (n_classes, n_classes)) * out_class_p\n",
    "# np.fill_diagonal(p_matrix, in_class_p)\n",
    "\n",
    "\n",
    "# adj = SBM_from_class_labels(in_labels, p_matrix)\n",
    "\n",
    "# for s in ['test', 'val']:\n",
    "#     for idx in splits[s]:\n",
    "#         adj[idx,:] = 0\n",
    "#         adj[:,idx] = 0\n",
    "        \n",
    "# plt.imshow(g.toarray())\n",
    "# plt.imshow(adj)\n",
    "\n",
    "# mixed = np.array(g.toarray() + adj, dtype=bool)\n",
    "# savemat('50_mixed_net.mat', {'W': mixed} )"
   ]
  },
  {
   "cell_type": "code",
   "execution_count": null,
   "metadata": {
    "collapsed": true
   },
   "outputs": [],
   "source": [
    "#     labels_pl = tf.placeholder(tf.int64, shape=[None])\n",
    "#     diff_dims = (60, 30)\n",
    "#     feed_pl_1 = tf.placeholder(tf.float32, shape = (None, n_pc_points, 3) )\n",
    "#     feed_pl_2 = tf.placeholder(tf.float32, shape = (None, ) + diff_dims)\n",
    "    \n",
    "#     layer_pc = encoder_with_convs_and_symmetry_new(feed_pl_1, n_filters=[64, 128], b_norm=False)\n",
    "    \n",
    "    \n",
    "#     layer = conv_2d(tf.expand_dims(feed_pl_2, -1), nb_filter=4, filter_size=4, activation='relu')\n",
    "#     layer = max_pool_2d(layer, kernel_size=2)\n",
    "#     layer = conv_2d(layer, nb_filter=4, filter_size=3, activation='relu')\n",
    "#     layer = max_pool_2d(layer, kernel_size=2)\n",
    "#     layer = fully_connected(layer, 6, activation='relu', weights_init='xavier')    \n",
    "#     layer_diff = fully_connected(layer, 64, activation='relu', weights_init='xavier')\n",
    "#     layer = tf.concat([layer_pc, layer_diff], axis=1)    \n",
    "#     layer = fully_connected(layer, 32, activation='relu', weights_init='xavier')\n",
    "#     logits = fully_connected(layer, n_classes, activation='linear', weights_init='xavier')\n",
    "    "
   ]
  },
  {
   "cell_type": "code",
   "execution_count": 164,
   "metadata": {
    "collapsed": false
   },
   "outputs": [],
   "source": [
    "def add_location_info_on_diffs(in_diffs, scaler=1.0):\n",
    "    diff_dims = in_diffs.shape[1:]\n",
    "    row_pos = np.repeat(np.arange(diff_dims[0]), diff_dims[1]).reshape(diff_dims)\n",
    "    col_pos = np.repeat(np.arange(diff_dims[1]), diff_dims[0]).reshape(diff_dims[1], diff_dims[0]).T\n",
    "    row_pos = row_pos.astype(np.float32)\n",
    "    col_pos = col_pos.astype(np.float32)\n",
    "    row_pos *= scaler\n",
    "    col_pos *= scaler\n",
    "\n",
    "    diffs_with_pos = np.zeros(shape=in_diffs.shape + (3,))\n",
    "    for i, d in enumerate(in_diffs):\n",
    "        diffs_with_pos[i, :, :, 0] = d\n",
    "        diffs_with_pos[i, :, :, 1] = row_pos\n",
    "        diffs_with_pos[i, :, :, 2] = col_pos\n",
    "    return diffs_with_pos\n"
   ]
  }
 ],
 "metadata": {
  "kernelspec": {
   "display_name": "TensorFlow1",
   "language": "python",
   "name": "tf1"
  },
  "language_info": {
   "codemirror_mode": {
    "name": "ipython",
    "version": 2
   },
   "file_extension": ".py",
   "mimetype": "text/x-python",
   "name": "python",
   "nbconvert_exporter": "python",
   "pygments_lexer": "ipython2",
   "version": "2.7.6"
  }
 },
 "nbformat": 4,
 "nbformat_minor": 2
}
