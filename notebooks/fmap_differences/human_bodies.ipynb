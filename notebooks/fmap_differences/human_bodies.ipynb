{
 "cells": [
  {
   "cell_type": "code",
   "execution_count": 1,
   "metadata": {
    "collapsed": false
   },
   "outputs": [
    {
     "name": "stdout",
     "output_type": "stream",
     "text": [
      "Picking GPU 3\n"
     ]
    }
   ],
   "source": [
    "from general_tools.notebook.gpu_utils import setup_one_gpu\n",
    "GPU = 3\n",
    "setup_one_gpu(GPU)"
   ]
  },
  {
   "cell_type": "code",
   "execution_count": 2,
   "metadata": {
    "collapsed": false
   },
   "outputs": [],
   "source": [
    "import numpy as np\n",
    "import tensorflow as tf\n",
    "import os.path as osp\n",
    "import matplotlib.pylab as plt\n",
    "from collections import defaultdict\n",
    "import time"
   ]
  },
  {
   "cell_type": "code",
   "execution_count": 3,
   "metadata": {
    "collapsed": false
   },
   "outputs": [],
   "source": [
    "from general_tools.notebook.tf import reset_tf_graph\n",
    "from geo_tool import Point_Cloud, Mesh\n",
    "from geo_tool.solids.plotting import plot_mesh_via_matplotlib as plot_mesh"
   ]
  },
  {
   "cell_type": "code",
   "execution_count": 4,
   "metadata": {
    "collapsed": false
   },
   "outputs": [],
   "source": [
    "import helper\n",
    "\n",
    "from tf_lab.diff_maps.in_out import raw_data, produce_net_data,\\\n",
    "prep_splits_labels_for_task, produce_diff_maps, classes_of_tasks\n",
    "\n",
    "from tf_lab.diff_maps.basic_nets import pc_net, diff_mlp_net, diff_conv_net, pc_versions\n",
    "from tf_lab.diff_maps.basic_nets import Basic_Net"
   ]
  },
  {
   "cell_type": "code",
   "execution_count": 5,
   "metadata": {
    "collapsed": false
   },
   "outputs": [],
   "source": [
    "%load_ext autoreload\n",
    "%autoreload 2\n",
    "%matplotlib inline"
   ]
  },
  {
   "cell_type": "code",
   "execution_count": 6,
   "metadata": {
    "collapsed": true
   },
   "outputs": [],
   "source": [
    "def average_l2_distance(gt_vecs, pred_vecs):\n",
    "    return np.mean(np.sqrt(np.sum(np.square((gt_vecs - pred_vecs)), axis=1)))\n",
    "\n",
    "def average_mse(gt_vecs, pred_vecs):\n",
    "    return np.mean(np.sum(np.square((gt_vecs - pred_vecs))))\n",
    "\n",
    "def score_net(task, stats):\n",
    "    train_s = np.array(stats['train'])\n",
    "    test_s = np.array(stats['test'])\n",
    "    val_s = np.array(stats['val'])\n",
    "\n",
    "    if task == 'regression':\n",
    "        seek = np.min(val_s)\n",
    "    else:\n",
    "        seek = np.max(val_s)\n",
    "\n",
    "    val_best_all = np.where(val_s == seek)[0]\n",
    "    val_maximizer = val_best_all[0]\n",
    "    test_best = test_s[val_maximizer]\n",
    "    train_best = train_s[val_maximizer]\n",
    "    gen_error = test_best - train_best   \n",
    "    return len(val_best_all), val_maximizer, gen_error[0], test_best[0]"
   ]
  },
  {
   "cell_type": "code",
   "execution_count": 7,
   "metadata": {
    "collapsed": true
   },
   "outputs": [],
   "source": [
    "total_shapes = helper.total_shapes\n",
    "n_pose_classes = helper.n_pose_classes\n",
    "seeds = [42, 100, 666, 1821, 2004]\n",
    "\n",
    "top_mesh_dir = '/orions4-zfs/projects/optas/DATA/Meshes/SCAPE_8_poses/'\n",
    "gt_param_f = osp.join(top_mesh_dir, 'gt_shape_params.mat')\n",
    "top_data_dir = '/orions4-zfs/projects/optas/DATA/OUT/latent_diff_maps/experiments/SCAPE_8_poses'"
   ]
  },
  {
   "cell_type": "code",
   "execution_count": 8,
   "metadata": {
    "collapsed": false
   },
   "outputs": [],
   "source": [
    "n_cons = 40\n",
    "use_pc = False\n",
    "knn = 0\n",
    "arch = 'mlp'\n",
    "sub_member_per_class = 50\n",
    "n_shapes = sub_member_per_class * n_pose_classes\n",
    "val_per = 0.10\n",
    "test_per = 0.15\n",
    "train_per = 1.0 - (val_per + test_per)\n",
    "n_pc_points = 1024\n",
    "# task = 'regression'\n",
    "task = 'pose_clf'\n",
    "mean_norm_diffs = True\n",
    "synced_bases_file = osp.join(top_data_dir, '50_extract_%d_knn_50_fmapd.mat' % (knn,) )"
   ]
  },
  {
   "cell_type": "code",
   "execution_count": 9,
   "metadata": {
    "collapsed": true
   },
   "outputs": [],
   "source": [
    "if use_pc:\n",
    "    learning_rate = 0.005\n",
    "    batch_size = 50\n",
    "    pc_version = 'v2'\n",
    "else:\n",
    "    learning_rate = 0.007\n",
    "    batch_size = 50"
   ]
  },
  {
   "cell_type": "code",
   "execution_count": 10,
   "metadata": {
    "collapsed": false
   },
   "outputs": [],
   "source": [
    "gt_latent_params, in_pcs, pose_labels = \\\n",
    "raw_data(top_mesh_dir, gt_param_f, sub_member_per_class, n_pc_points)\n",
    "n_classes = classes_of_tasks(task)"
   ]
  },
  {
   "cell_type": "code",
   "execution_count": 11,
   "metadata": {
    "collapsed": false
   },
   "outputs": [
    {
     "name": "stdout",
     "output_type": "stream",
     "text": [
      "#PARAMS  34025\n"
     ]
    }
   ],
   "source": [
    "verbose = True\n",
    "train_epochs = 500\n",
    "stats_over_reps = defaultdict(list)\n",
    "\n",
    "seed = seeds[0]\n",
    "np.random.seed(seed)\n",
    "\n",
    "# Prepare splits\n",
    "diff_maps = produce_diff_maps(synced_bases_file, n_cons, n_shapes)\n",
    "\n",
    "splits, labels = \\\n",
    "prep_splits_labels_for_task(task, gt_latent_params, pose_labels, train_per, test_per, seed)\n",
    "net_data = produce_net_data(in_pcs, splits, labels, diff_maps, use_pc, mean_norm_diffs)\n",
    "\n",
    "# Prepare graph\n",
    "reset_tf_graph()\n",
    "tf.set_random_seed(seed)        \n",
    "\n",
    "if use_pc:\n",
    "    n_filters, n_neurons = pc_versions(pc_version)\n",
    "    net_out, feed_pl, label_pl = pc_net(n_pc_points, task, n_filters, n_neurons, verbose)\n",
    "else:\n",
    "    if arch=='conv':\n",
    "        net_out, feed_pl, label_pl = diff_conv_net(n_cons, task, True)\n",
    "    else:\n",
    "        net_out, feed_pl, label_pl = diff_mlp_net(n_cons, task, True)\n",
    "\n",
    "net = Basic_Net(net_out, feed_pl, label_pl)\n",
    "net.define_loss(task)\n",
    "\n",
    "net.define_opt(learning_rate)\n",
    "# net.define_opt(0.0007)\n",
    "net.start_session()"
   ]
  },
  {
   "cell_type": "code",
   "execution_count": 13,
   "metadata": {
    "collapsed": false
   },
   "outputs": [
    {
     "name": "stdout",
     "output_type": "stream",
     "text": [
      "100 0 0.0 1.0\n"
     ]
    }
   ],
   "source": [
    "# Train\n",
    "start_time = time.time()\n",
    "stats = net.train(train_epochs, batch_size, net_data, task, verbose=False)\n",
    "n_opt, val_maximizer, gen_error, test_best = score_net(task, stats)\n",
    "end_time = time.time()\n",
    "print n_opt, val_maximizer, gen_error, test_best\n",
    "# print end_time-start_time"
   ]
  },
  {
   "cell_type": "code",
   "execution_count": 32,
   "metadata": {
    "collapsed": false
   },
   "outputs": [],
   "source": [
    "test_params = net_data['test'].labels\n",
    "test_feed = {net.feed_pl:net_data['test'].feed}\n",
    "test_pred = net.sess.run(net.net_out, feed_dict=test_feed)"
   ]
  },
  {
   "cell_type": "code",
   "execution_count": 33,
   "metadata": {
    "collapsed": false
   },
   "outputs": [
    {
     "name": "stdout",
     "output_type": "stream",
     "text": [
      "0.080691504173\n"
     ]
    }
   ],
   "source": [
    "n_test = net_data['test'].n_examples\n",
    "mu_train = net_data['train'].labels\n",
    "mu_train = np.repeat(np.mean(mu_train, axis=0), n_test).reshape(12, n_test).T\n",
    "\n",
    "print average_l2_distance(test_params, mu_train)\n",
    "print average_l2_distance(test_params, test_pred)\n",
    "\n",
    "print np.sum(abs(mu_train-test_params)) / test_params.size\n",
    "print np.sum(abs(test_pred-test_params)) / test_params.size\n",
    "\n",
    "print average_mse(test_params, mu_train) / test_params.size"
   ]
  },
  {
   "cell_type": "code",
   "execution_count": null,
   "metadata": {
    "collapsed": true
   },
   "outputs": [],
   "source": [
    "# PLOT net stats.\n",
    "plt.plot(train_res['train'])\n",
    "plt.plot(train_res['test'])\n",
    "plt.grid()\n",
    "plt.legend(['Train', 'Test'])\n",
    "plt.xlabel('Epoch')\n",
    "plt.ylabel('Accuracy')\n",
    "\n",
    "if use_pc:\n",
    "    title_tag = 'Raw input'\n",
    "else:\n",
    "    title_tag = 'Diff-map input (%s)' % (arch,)\n",
    "\n",
    "plt.title('%s Net-stats for body-variation.'% (title_tag, ))\n",
    "# plt.text(100, 0.3, 'best by val:%.4f' % (val_best,), fontsize=12);"
   ]
  },
  {
   "cell_type": "code",
   "execution_count": 58,
   "metadata": {
    "collapsed": false
   },
   "outputs": [],
   "source": [
    "from general_tools.clustering.plt import plot_confusion_matrix\n",
    "from sklearn.metrics import confusion_matrix\n",
    "s = 'test'\n",
    "l = in_data[s].labels\n",
    "\n",
    "feed_dict = {feed_pl:in_data[s].feed, labels_pl:l}\n",
    "p = sess.run([prediction], feed_dict=feed_dict)[0]\n",
    "\n",
    "conf_m = confusion_matrix(l, p)"
   ]
  },
  {
   "cell_type": "code",
   "execution_count": 62,
   "metadata": {
    "collapsed": false
   },
   "outputs": [
    {
     "name": "stdout",
     "output_type": "stream",
     "text": [
      "Confusion matrix, without normalization\n",
      "[[2 0 0 0 1 0 0 1 1 0 0 0]\n",
      " [0 5 0 0 0 0 0 0 0 0 0 0]\n",
      " [0 2 2 1 0 0 0 0 0 0 0 0]\n",
      " [1 0 0 5 0 0 0 0 0 0 0 0]\n",
      " [0 0 0 0 5 0 0 0 0 0 0 0]\n",
      " [0 0 0 1 0 5 0 0 0 0 0 0]\n",
      " [0 0 1 0 0 0 4 0 0 0 0 0]\n",
      " [0 0 0 0 1 0 0 5 0 0 0 0]\n",
      " [0 0 0 0 1 0 0 0 3 0 0 0]\n",
      " [0 0 0 0 0 0 0 0 0 4 0 0]\n",
      " [1 0 0 0 0 0 0 0 0 0 3 1]\n",
      " [0 0 0 0 0 0 0 0 0 1 0 3]]\n"
     ]
    },
    {
     "data": {
      "image/png": "[encoded data removed]",
      "text/plain": [
       "<matplotlib.figure.Figure at 0x7f94b474bb50>"
      ]
     },
     "metadata": {},
     "output_type": "display_data"
    }
   ],
   "source": [
    "import inspect\n",
    "inspect.getargspec(plot_confusion_matrix)\n",
    "plot_confusion_matrix(conf_m, np.unique(in_labels))"
   ]
  },
  {
   "cell_type": "code",
   "execution_count": 207,
   "metadata": {
    "collapsed": false
   },
   "outputs": [],
   "source": [
    "grid_scaler = np.arange(np.prod(diff_dims)).reshape(diff_dims)\n",
    "loc_scaled_diffs = []\n",
    "for d in in_diffs:\n",
    "    loc_scaled_diffs.append(d + grid_scaler)"
   ]
  },
  {
   "cell_type": "code",
   "execution_count": 164,
   "metadata": {
    "collapsed": false
   },
   "outputs": [],
   "source": [
    "def add_location_info_on_diffs(in_diffs, scaler=1.0):\n",
    "    diff_dims = in_diffs.shape[1:]\n",
    "    row_pos = np.repeat(np.arange(diff_dims[0]), diff_dims[1]).reshape(diff_dims)\n",
    "    col_pos = np.repeat(np.arange(diff_dims[1]), diff_dims[0]).reshape(diff_dims[1], diff_dims[0]).T\n",
    "    row_pos = row_pos.astype(np.float32)\n",
    "    col_pos = col_pos.astype(np.float32)\n",
    "    row_pos *= scaler\n",
    "    col_pos *= scaler\n",
    "\n",
    "    diffs_with_pos = np.zeros(shape=in_diffs.shape + (3,))\n",
    "    for i, d in enumerate(in_diffs):\n",
    "        diffs_with_pos[i, :, :, 0] = d\n",
    "        diffs_with_pos[i, :, :, 1] = row_pos\n",
    "        diffs_with_pos[i, :, :, 2] = col_pos\n",
    "    return diffs_with_pos\n"
   ]
  },
  {
   "cell_type": "code",
   "execution_count": null,
   "metadata": {
    "collapsed": true
   },
   "outputs": [],
   "source": [
    "import hdf5storage\n",
    "lsd_exempler_f = osp.join(top_data_dir, 'lsd_exemplar.mat')\n",
    "def load_lsd_exemplars(in_file, conf_type='lsd_20'):\n",
    "    lsd_exemplars = hdf5storage.loadmat(lsd_exempler_f)\n",
    "    lsd_exemplars = lsd_exemplars[conf_type]\n",
    "    n_shapes = len(lsd_exemplars)\n",
    "    map_shape = lsd_exemplars[0][0].shape\n",
    "    res = np.zeros(shape=(n_shapes, ) + map_shape )\n",
    "    for i in xrange(n_shapes):\n",
    "        res[i] = lsd_exemplars[i][0]\n",
    "    return res\n",
    "lsd_type = 'lsd_20'\n",
    "lsd_exemplars = load_lsd_exemplars(lsd_exempler_f, conf_type=lsd_type)\n",
    "n_cons = lsd_exemplars.shape[-1]"
   ]
  }
 ],
 "metadata": {
  "kernelspec": {
   "display_name": "TensorFlow1",
   "language": "python",
   "name": "tf1"
  },
  "language_info": {
   "codemirror_mode": {
    "name": "ipython",
    "version": 2
   },
   "file_extension": ".py",
   "mimetype": "text/x-python",
   "name": "python",
   "nbconvert_exporter": "python",
   "pygments_lexer": "ipython2",
   "version": "2.7.6"
  }
 },
 "nbformat": 4,
 "nbformat_minor": 2
}
