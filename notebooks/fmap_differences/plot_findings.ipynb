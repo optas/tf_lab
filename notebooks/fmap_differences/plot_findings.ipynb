{
 "cells": [
  {
   "cell_type": "code",
   "execution_count": 1,
   "metadata": {
    "collapsed": false
   },
   "outputs": [],
   "source": [
    "import numpy as np\n",
    "import os.path as osp\n",
    "import matplotlib.pylab as plt\n",
    "from collections import defaultdict"
   ]
  },
  {
   "cell_type": "code",
   "execution_count": 2,
   "metadata": {
    "collapsed": true
   },
   "outputs": [],
   "source": [
    "%matplotlib inline"
   ]
  },
  {
   "cell_type": "code",
   "execution_count": 3,
   "metadata": {
    "collapsed": true
   },
   "outputs": [],
   "source": [
    "top_data_dir ='/orions4-zfs/projects/optas/DATA/OUT/latent_diff_maps/experiments/SCAPE_8_poses_2/evaluations/'"
   ]
  },
  {
   "cell_type": "code",
   "execution_count": 4,
   "metadata": {
    "collapsed": false
   },
   "outputs": [],
   "source": [
    "def read_n_cons_type_network_stats(in_f):\n",
    "    stats = defaultdict(list)\n",
    "    with open(in_f, 'r') as fin:\n",
    "        for l in fin:            \n",
    "            line = l.rstrip()\n",
    "            \n",
    "            if len(line) == 0:\n",
    "                continue\n",
    "                \n",
    "            if line.startswith('net='):\n",
    "                c_net = line.replace('net=', '')\n",
    "            else:\n",
    "                tokens = [float(t) for t in line.split()]\n",
    "                stats[c_net].append(tokens)\n",
    "    return stats"
   ]
  },
  {
   "cell_type": "code",
   "execution_count": 5,
   "metadata": {
    "collapsed": false
   },
   "outputs": [],
   "source": [
    "mlp_file = osp.join(top_data_dir, 'MLPs.txt')\n",
    "mlp_stats = read_n_cons_type_network_stats(mlp_file)\n",
    "conv_file = osp.join(top_data_dir, 'CONVs.txt')\n",
    "conv_stats = read_n_cons_type_network_stats(conv_file)"
   ]
  },
  {
   "cell_type": "code",
   "execution_count": 7,
   "metadata": {
    "collapsed": false
   },
   "outputs": [],
   "source": [
    "n_cons = np.array(mlp_stats['Clique'])[:, 0]\n",
    "cliq_mse = np.array(mlp_stats['Clique'])[:, 3]\n",
    "k20_mse = np.array(mlp_stats['20NN'])[:, 3]\n",
    "k10_mse = np.array(mlp_stats['10NN'])[:, 3]"
   ]
  },
  {
   "cell_type": "code",
   "execution_count": 10,
   "metadata": {
    "collapsed": true
   },
   "outputs": [],
   "source": [
    "conv_n_cons = np.array(conv_stats['Clique'])[:, 0]\n",
    "conv_cliq_mse = np.array(conv_stats['Clique'])[:, 3]\n",
    "conv_k20_mse = np.array(conv_stats['20NN'])[:, 3]\n",
    "conv_k10_mse = np.array(conv_stats['10NN'])[:, 3]"
   ]
  },
  {
   "cell_type": "code",
   "execution_count": 11,
   "metadata": {
    "collapsed": false
   },
   "outputs": [],
   "source": [
    "best_pc_net = 5.772e-02"
   ]
  },
  {
   "cell_type": "code",
   "execution_count": 17,
   "metadata": {
    "collapsed": false
   },
   "outputs": [
    {
     "data": {
      "text/plain": [
       "array([  5.,  10.,  20.,  30.,  40.,  50.])"
      ]
     },
     "execution_count": 17,
     "metadata": {},
     "output_type": "execute_result"
    }
   ],
   "source": [
    "n_cons"
   ]
  },
  {
   "cell_type": "code",
   "execution_count": 27,
   "metadata": {
    "collapsed": false
   },
   "outputs": [
    {
     "data": {
      "image/png": "[encoded data removed]",
      "text/plain": [
       "<matplotlib.figure.Figure at 0x7fe09fa04a10>"
      ]
     },
     "metadata": {},
     "output_type": "display_data"
    }
   ],
   "source": [
    "methods = ['PC_net',\n",
    "          'M_K10', 'M_K20', 'M_Clique',\\\n",
    "          'C_K10', 'C_K20', 'C_Clique',\\\n",
    "          ]\n",
    "\n",
    "plt.xlim(3,52)\n",
    "plt.plot(n_cons, np.repeat(best_pc_net, len(n_cons)), '--', linewidth=2)\n",
    "plt.plot(n_cons, k10_mse, '-', linewidth=4 )\n",
    "plt.plot(n_cons, k20_mse, '-', linewidth=4)\n",
    "plt.plot(n_cons, cliq_mse, '-', linewidth=4)\n",
    "\n",
    "plt.plot(conv_n_cons, conv_k10_mse, 'o')\n",
    "plt.plot(conv_n_cons, conv_k20_mse, 's')\n",
    "plt.plot(conv_n_cons, conv_cliq_mse, '*')\n",
    "\n",
    "plt.legend(methods)\n",
    "\n",
    "plt.xticks(n_cons, n_cons)\n",
    "\n",
    "# plt.title('MSE Comparisons Architectures')\n",
    "plt.xlabel('# Consistent Function', fontsize=12)\n",
    "plt.ylabel('MSE', fontsize=12)\n",
    "plt.grid()\n",
    "plt.tight_layout()\n",
    "plt.savefig('mse_comparissons.pdf')"
   ]
  }
 ],
 "metadata": {
  "kernelspec": {
   "display_name": "Python 2",
   "language": "python",
   "name": "python2"
  },
  "language_info": {
   "codemirror_mode": {
    "name": "ipython",
    "version": 2
   },
   "file_extension": ".py",
   "mimetype": "text/x-python",
   "name": "python",
   "nbconvert_exporter": "python",
   "pygments_lexer": "ipython2",
   "version": "2.7.6"
  }
 },
 "nbformat": 4,
 "nbformat_minor": 0
}
