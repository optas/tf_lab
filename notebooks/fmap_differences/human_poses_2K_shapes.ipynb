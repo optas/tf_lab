{
 "cells": [
  {
   "cell_type": "code",
   "execution_count": 1,
   "metadata": {
    "collapsed": false
   },
   "outputs": [
    {
     "name": "stdout",
     "output_type": "stream",
     "text": [
      "Picking GPU 0\n"
     ]
    }
   ],
   "source": [
    "from general_tools.notebook.gpu_utils import setup_one_gpu\n",
    "GPU = 0\n",
    "setup_one_gpu(GPU)"
   ]
  },
  {
   "cell_type": "code",
   "execution_count": 2,
   "metadata": {
    "collapsed": true
   },
   "outputs": [],
   "source": [
    "import numpy as np\n",
    "import tensorflow as tf\n",
    "import os.path as osp\n",
    "import matplotlib.pylab as plt\n",
    "from scipy.spatial.distance import pdist\n",
    "from sklearn.cluster import KMeans\n",
    "from collections import defaultdict"
   ]
  },
  {
   "cell_type": "code",
   "execution_count": 3,
   "metadata": {
    "collapsed": true
   },
   "outputs": [],
   "source": [
    "from tflearn.layers.core import fully_connected\n",
    "from tflearn.layers.conv import conv_2d, max_pool_2d, avg_pool_2d\n",
    "from tf_lab.point_clouds.encoders_decoders import encoder_with_convs_and_symmetry_new, decoder_with_fc_only\n",
    "from tf_lab.fundamentals.inspect import count_trainable_parameters"
   ]
  },
  {
   "cell_type": "code",
   "execution_count": 4,
   "metadata": {
    "collapsed": false
   },
   "outputs": [],
   "source": [
    "from general_tools.notebook.tf import reset_tf_graph\n",
    "from geo_tool import Point_Cloud, Mesh\n",
    "from helper import plot_mesh, load_diff_maps, load_pclouds_of_shapes,\\\n",
    "pose_labels_and_original_index, load_gt_latent_params, load_meshes,\\\n",
    "make_data, prepare_train_test_val, load_pclouds_of_shapes"
   ]
  },
  {
   "cell_type": "code",
   "execution_count": 5,
   "metadata": {
    "collapsed": true
   },
   "outputs": [],
   "source": [
    "from scipy.io import loadmat, savemat"
   ]
  },
  {
   "cell_type": "code",
   "execution_count": 7,
   "metadata": {
    "collapsed": true
   },
   "outputs": [],
   "source": [
    "def pc_net(n_pc_points):\n",
    "    with tf.variable_scope('pc_based_net') as scope:\n",
    "        feed_pl = tf.placeholder(tf.float32, shape = (None, n_pc_points, 3) )\n",
    "        labels_pl = tf.placeholder(tf.int64, shape=[None])                           \n",
    "        layer = encoder_with_convs_and_symmetry_new(feed_pl, n_filters=[64, 128], b_norm=False)\n",
    "        layer = fully_connected(layer, 64, activation='relu', weights_init='xavier')\n",
    "        logits = fully_connected(layer, n_classes, activation='linear', weights_init='xavier')\n",
    "    return feed_pl, labels_pl, logits"
   ]
  },
  {
   "cell_type": "code",
   "execution_count": 8,
   "metadata": {
    "collapsed": false
   },
   "outputs": [],
   "source": [
    "%load_ext autoreload\n",
    "%autoreload 2\n",
    "%matplotlib inline\n",
    "# %matplotlib nbagg"
   ]
  },
  {
   "cell_type": "code",
   "execution_count": 13,
   "metadata": {
    "collapsed": true
   },
   "outputs": [],
   "source": [
    "top_out_dir = '/orions4-zfs/projects/optas/DATA/OUT/latent_diff_maps/experiments/human_poses/'\n",
    "top_mesh_dir = '/orions4-zfs/projects/optas/DATA/Meshes/SCAPE_8_poses_Ananth/'"
   ]
  },
  {
   "cell_type": "code",
   "execution_count": 14,
   "metadata": {
    "collapsed": false
   },
   "outputs": [],
   "source": [
    "n_shapes = 2000\n",
    "mesh_ids = np.arange(1, n_shapes+1)\n",
    "in_meshes = load_meshes(mesh_ids)"
   ]
  },
  {
   "cell_type": "code",
   "execution_count": 82,
   "metadata": {
    "collapsed": false
   },
   "outputs": [
    {
     "name": "stdout",
     "output_type": "stream",
     "text": [
      "\n"
     ]
    }
   ],
   "source": [
    "n_pc_points = 1024"
   ]
  },
  {
   "cell_type": "code",
   "execution_count": 83,
   "metadata": {
    "collapsed": false
   },
   "outputs": [],
   "source": [
    "uniform_pcs = np.zeros(shape =(n_shapes, n_pc_points, 3))\n",
    "for i, m in enumerate(in_meshes):\n",
    "    uniform_pcs[i] = m.sample_faces(n_pc_points)[0]"
   ]
  },
  {
   "cell_type": "code",
   "execution_count": 21,
   "metadata": {
    "collapsed": true
   },
   "outputs": [],
   "source": [
    "gt_latent_params = load_gt_latent_params(top_data_dir)"
   ]
  },
  {
   "cell_type": "code",
   "execution_count": 84,
   "metadata": {
    "collapsed": false
   },
   "outputs": [],
   "source": [
    "seed = 42\n",
    "val_per = 0.10\n",
    "test_per = 0.15\n",
    "train_per = 1.0 - (val_per + test_per)"
   ]
  },
  {
   "cell_type": "code",
   "execution_count": 85,
   "metadata": {
    "collapsed": false
   },
   "outputs": [
    {
     "name": "stdout",
     "output_type": "stream",
     "text": [
      "['feed', 'labels', 'ids']\n",
      "['feed', 'labels', 'ids']\n",
      "['feed', 'labels', 'ids']\n"
     ]
    },
    {
     "data": {
      "image/png": "[encoded data removed]",
      "text/plain": [
       "<matplotlib.figure.Figure at 0x7fa6bf246690>"
      ]
     },
     "metadata": {},
     "output_type": "display_data"
    }
   ],
   "source": [
    "n_classes = 12\n",
    "unsup_clf = KMeans(n_clusters=n_classes, random_state=seed)\n",
    "in_labels = unsup_clf.fit_predict(gt_latent_params)\n",
    "plt.hist(in_labels, bins=np.arange(n_classes))\n",
    "splits = prepare_train_test_val(n_shapes, in_labels, train_per, test_per, seed=seed)\n",
    "in_data = make_data(splits, uniform_pcs, in_labels)"
   ]
  },
  {
   "cell_type": "code",
   "execution_count": 86,
   "metadata": {
    "collapsed": false
   },
   "outputs": [
    {
     "name": "stdout",
     "output_type": "stream",
     "text": [
      "17612\n"
     ]
    }
   ],
   "source": [
    "reset_tf_graph()\n",
    "feed_pl, labels_pl, logits = pc_net(n_pc_points)\n",
    "print count_trainable_parameters()"
   ]
  },
  {
   "cell_type": "code",
   "execution_count": 87,
   "metadata": {
    "collapsed": true
   },
   "outputs": [],
   "source": [
    "learning_rate = 0.005\n",
    "batch_size = 50\n",
    "n_epochs = 500"
   ]
  },
  {
   "cell_type": "code",
   "execution_count": 94,
   "metadata": {
    "collapsed": false
   },
   "outputs": [],
   "source": [
    "prediction = tf.argmax(logits, axis=1)\n",
    "target_ = labels_pl\n",
    "correct_pred = tf.equal(prediction, target_)\n",
    "avg_accuracy = tf.reduce_mean(tf.cast(correct_pred, tf.float32))\n",
    "one_hot_labels = tf.one_hot(labels_pl, depth=n_classes)\n",
    "cross_entropy = tf.nn.softmax_cross_entropy_with_logits(logits=logits, labels=one_hot_labels)\n",
    "loss = tf.reduce_mean(cross_entropy)\n",
    "\n",
    "opt = tf.train.AdamOptimizer(learning_rate)\n",
    "opt_step = opt.minimize(loss)\n",
    "\n",
    "config = tf.ConfigProto()\n",
    "config.gpu_options.allow_growth = True\n",
    "sess = tf.Session(config=config)\n",
    "init=tf.global_variables_initializer()\n",
    "sess.run(init)"
   ]
  },
  {
   "cell_type": "code",
   "execution_count": 95,
   "metadata": {
    "collapsed": false
   },
   "outputs": [],
   "source": [
    "train_losses = []\n",
    "val_losses = []\n",
    "test_losses = []\n",
    "\n",
    "train_data = in_data['train']\n",
    "val_data = in_data['val']\n",
    "test_data = in_data['test']\n",
    "\n",
    "batches_for_epoch = train_data.n_examples / batch_size\n",
    "train_res = defaultdict(list)\n",
    "loss_res = defaultdict(list)"
   ]
  },
  {
   "cell_type": "code",
   "execution_count": 96,
   "metadata": {
    "collapsed": false
   },
   "outputs": [
    {
     "name": "stdout",
     "output_type": "stream",
     "text": [
      "0 0.127333 0.113333 0.11\n",
      "1 0.111333 0.103333 0.12\n",
      "2 0.169333 0.17 0.155\n",
      "3 0.218667 0.193333 0.19\n",
      "4 0.150667 0.12 0.125\n",
      "5 0.208 0.206667 0.2\n",
      "6 0.21 0.206667 0.175\n",
      "7 0.254 0.226667 0.21\n",
      "8 0.248 0.24 0.175\n",
      "9 0.248 0.243333 0.215\n",
      "10 0.225333 0.213333 0.235\n",
      "11 0.234667 0.203333 0.19\n",
      "12 0.263333 0.24 0.19\n",
      "13 0.269333 0.266667 0.205\n",
      "14 0.238 0.236667 0.205\n",
      "15 0.254 0.233333 0.205\n",
      "16 0.309333 0.27 0.19\n",
      "17 0.283333 0.236667 0.195\n",
      "18 0.256 0.233333 0.235\n",
      "19 0.294 0.266667 0.23\n",
      "20 0.301333 0.286667 0.235\n",
      "21 0.328667 0.293333 0.275\n",
      "22 0.362 0.38 0.31\n",
      "23 0.408667 0.376667 0.345\n",
      "24 0.355333 0.346667 0.295\n",
      "25 0.379333 0.38 0.335\n",
      "26 0.330667 0.303333 0.31\n",
      "27 0.416667 0.416667 0.42\n",
      "28 0.403333 0.39 0.365\n",
      "29 0.389333 0.37 0.375\n",
      "30 0.411333 0.406667 0.395\n",
      "31 0.425333 0.43 0.42\n",
      "32 0.436667 0.436667 0.435\n",
      "33 0.419333 0.393333 0.4\n",
      "34 0.426 0.373333 0.42\n",
      "35 0.440667 0.403333 0.425\n",
      "36 0.446 0.413333 0.44\n",
      "37 0.415333 0.373333 0.425\n",
      "38 0.42 0.39 0.405\n",
      "39 0.438667 0.436667 0.435\n",
      "40 0.439333 0.406667 0.405\n",
      "41 0.442667 0.416667 0.4\n",
      "42 0.422 0.4 0.465\n",
      "43 0.432 0.41 0.395\n",
      "44 0.417333 0.396667 0.395\n",
      "45 0.439333 0.42 0.425\n",
      "46 0.442 0.423333 0.43\n",
      "47 0.442 0.433333 0.41\n",
      "48 0.452667 0.423333 0.47\n",
      "49 0.452667 0.433333 0.44\n",
      "50 0.411333 0.41 0.41\n",
      "51 0.455333 0.433333 0.45\n",
      "52 0.445333 0.413333 0.41\n",
      "53 0.465333 0.45 0.46\n",
      "54 0.450667 0.42 0.375\n",
      "55 0.459333 0.443333 0.42\n",
      "56 0.457333 0.436667 0.435\n",
      "57 0.467333 0.426667 0.415\n",
      "58 0.423333 0.403333 0.39\n",
      "59 0.450667 0.453333 0.425\n",
      "60 0.462 0.436667 0.425\n",
      "61 0.458 0.44 0.47\n",
      "62 0.454667 0.39 0.41\n",
      "63 0.458667 0.426667 0.455\n",
      "64 0.477333 0.44 0.46\n",
      "65 0.474667 0.44 0.445\n",
      "66 0.467333 0.413333 0.42\n",
      "67 0.448667 0.393333 0.39\n",
      "68 0.472667 0.446667 0.435\n",
      "69 0.458 0.396667 0.42\n",
      "70 0.457333 0.426667 0.435\n",
      "71 0.462 0.426667 0.415\n",
      "72 0.44 0.41 0.405\n",
      "73 0.450667 0.42 0.415\n",
      "74 0.468 0.436667 0.445\n",
      "75 0.466 0.43 0.46\n",
      "76 0.484 0.426667 0.445\n",
      "77 0.478 0.436667 0.44\n",
      "78 0.476 0.443333 0.43\n",
      "79 0.465333 0.45 0.445\n",
      "80 0.464 0.426667 0.41\n",
      "81 0.464 0.446667 0.425\n",
      "82 0.454 0.416667 0.41\n",
      "83 0.476 0.456667 0.455\n",
      "84 0.484 0.43 0.44\n",
      "85 0.476 0.436667 0.43\n",
      "86 0.479333 0.433333 0.445\n",
      "87 0.482 0.446667 0.395\n",
      "88 0.484667 0.456667 0.455\n",
      "89 0.497333 0.473333 0.445\n",
      "90 0.486667 0.433333 0.425\n",
      "91 0.47 0.423333 0.435\n",
      "92 0.472667 0.443333 0.45\n",
      "93 0.483333 0.456667 0.425\n",
      "94 0.493333 0.456667 0.43\n",
      "95 0.484 0.4 0.455\n",
      "96 0.477333 0.42 0.44\n",
      "97 0.487333 0.423333 0.435\n",
      "98 0.478667 0.436667 0.43\n",
      "99 0.483333 0.44 0.425\n",
      "100 0.478 0.416667 0.435\n",
      "101 0.472 0.413333 0.42\n",
      "102 0.486 0.446667 0.445\n",
      "103 0.489333 0.43 0.44\n",
      "104 0.486 0.426667 0.425\n",
      "105 0.47 0.45 0.455\n",
      "106 0.456 0.413333 0.43\n",
      "107 0.482 0.436667 0.45\n",
      "108 0.442 0.416667 0.425\n",
      "109 0.458 0.41 0.43\n",
      "110 0.491333 0.436667 0.44\n",
      "111 0.47 0.413333 0.405\n",
      "112 0.486 0.44 0.435\n",
      "113 0.476667 0.406667 0.41\n",
      "114 0.468667 0.386667 0.41\n",
      "115 0.474667 0.463333 0.435\n",
      "116 0.484667 0.453333 0.445\n",
      "117 0.482667 0.436667 0.435\n",
      "118 0.501333 0.426667 0.435\n",
      "119 0.51 0.413333 0.41\n",
      "120 0.500667 0.433333 0.45\n",
      "121 0.490667 0.446667 0.395\n",
      "122 0.486 0.413333 0.44\n",
      "123 0.492 0.4 0.45\n",
      "124 0.494667 0.436667 0.45\n",
      "125 0.470667 0.4 0.415\n",
      "126 0.462667 0.443333 0.425\n",
      "127 0.484 0.463333 0.435\n",
      "128 0.483333 0.446667 0.43\n",
      "129 0.484667 0.423333 0.435\n",
      "130 0.478667 0.436667 0.435\n",
      "131 0.484 0.436667 0.435\n",
      "132 0.480667 0.446667 0.465\n",
      "133 0.478667 0.43 0.43\n",
      "134 0.491333 0.416667 0.43\n",
      "135 0.486 0.42 0.425\n",
      "136 0.469333 0.443333 0.42\n",
      "137 0.498667 0.443333 0.435\n",
      "138 0.472667 0.413333 0.415\n",
      "139 0.484 0.43 0.45\n",
      "140 0.495333 0.433333 0.425\n",
      "141 0.490667 0.453333 0.47\n",
      "142 0.492 0.41 0.445\n",
      "143 0.498 0.44 0.44\n",
      "144 0.483333 0.393333 0.465\n",
      "145 0.498 0.43 0.45\n",
      "146 0.469333 0.4 0.39\n",
      "147 0.497333 0.44 0.41\n",
      "148 0.476667 0.44 0.4\n",
      "149 0.470667 0.426667 0.41\n",
      "150 0.459333 0.433333 0.435\n",
      "151 0.469333 0.43 0.42\n",
      "152 0.452667 0.41 0.42\n",
      "153 0.476667 0.433333 0.435\n",
      "154 0.47 0.426667 0.44\n",
      "155 0.495333 0.443333 0.46\n",
      "156 0.490667 0.43 0.455\n",
      "157 0.490667 0.433333 0.42\n",
      "158 0.496 0.446667 0.445\n",
      "159 0.464 0.433333 0.4\n",
      "160 0.483333 0.42 0.425\n",
      "161 0.464667 0.443333 0.44\n",
      "162 0.490667 0.436667 0.42\n",
      "163 0.495333 0.423333 0.435\n",
      "164 0.435333 0.466667 0.405\n",
      "165 0.486667 0.443333 0.45\n",
      "166 0.489333 0.423333 0.44\n",
      "167 0.467333 0.42 0.43\n",
      "168 0.49 0.43 0.415\n",
      "169 0.498 0.416667 0.43\n",
      "170 0.495333 0.453333 0.45\n",
      "171 0.49 0.39 0.44\n",
      "172 0.486 0.426667 0.38\n",
      "173 0.494667 0.446667 0.46\n",
      "174 0.484667 0.413333 0.445\n",
      "175 0.479333 0.426667 0.415\n",
      "176 0.494 0.43 0.415\n",
      "177 0.490667 0.436667 0.43\n",
      "178 0.498 0.413333 0.435\n",
      "179 0.473333 0.42 0.41\n",
      "180 0.494667 0.443333 0.425\n",
      "181 0.49 0.436667 0.43\n",
      "182 0.506 0.443333 0.435\n",
      "183 0.506 0.43 0.415\n",
      "184 0.466 0.456667 0.395\n",
      "185 0.499333 0.45 0.44\n",
      "186 0.503333 0.446667 0.425\n",
      "187 0.486 0.47 0.455\n",
      "188 0.498667 0.463333 0.435\n",
      "189 0.450667 0.383333 0.405\n",
      "190 0.496667 0.443333 0.44\n",
      "191 0.5 0.433333 0.455\n",
      "192 0.492 0.426667 0.43\n",
      "193 0.499333 0.423333 0.435\n",
      "194 0.509333 0.446667 0.455\n",
      "195 0.494667 0.44 0.46\n",
      "196 0.485333 0.446667 0.435\n",
      "197 0.490667 0.463333 0.415\n",
      "198 0.5 0.436667 0.43\n",
      "199 0.488667 0.433333 0.43\n",
      "200 0.494667 0.46 0.415\n",
      "201 0.510667 0.42 0.46\n",
      "202 0.468667 0.45 0.44\n",
      "203 0.495333 0.443333 0.465\n",
      "204 0.5 0.436667 0.455\n",
      "205 0.49 0.456667 0.445\n",
      "206 0.457333 0.426667 0.43\n",
      "207 0.504 0.446667 0.44\n",
      "208 0.504 0.446667 0.425\n",
      "209 0.433333 0.426667 0.41\n",
      "210 0.486667 0.436667 0.43\n",
      "211 0.508667 0.426667 0.445\n",
      "212 0.514667 0.42 0.45\n",
      "213 0.482 0.436667 0.425\n",
      "214 0.509333 0.426667 0.465\n",
      "215 0.502 0.426667 0.435\n",
      "216 0.496667 0.473333 0.44\n",
      "217 0.499333 0.42 0.465\n",
      "218 0.471333 0.406667 0.4\n",
      "219 0.478 0.416667 0.455\n",
      "220 0.510667 0.44 0.415\n",
      "221 0.496667 0.463333 0.42\n",
      "222 0.5 0.443333 0.445\n",
      "223 0.470667 0.396667 0.41\n",
      "224 0.502 0.45 0.41\n",
      "225 0.501333 0.416667 0.445\n",
      "226 0.477333 0.43 0.455\n",
      "227 0.497333 0.413333 0.405\n",
      "228 0.508 0.413333 0.445\n",
      "229 0.514667 0.413333 0.455\n",
      "230 0.478667 0.42 0.455\n",
      "231 0.492667 0.406667 0.41\n",
      "232 0.489333 0.393333 0.44\n",
      "233 0.48 0.433333 0.43\n",
      "234 0.508667 0.423333 0.405\n",
      "235 0.494 0.44 0.41\n",
      "236 0.488667 0.436667 0.43\n",
      "237 0.484667 0.413333 0.395\n",
      "238 0.512667 0.43 0.465\n",
      "239 0.5 0.45 0.43\n",
      "240 0.502667 0.46 0.43\n",
      "241 0.48 0.456667 0.435\n",
      "242 0.508 0.413333 0.435\n",
      "243 0.509333 0.456667 0.435\n",
      "244 0.466667 0.463333 0.43\n",
      "245 0.508667 0.436667 0.405\n",
      "246 0.479333 0.396667 0.465\n",
      "247 0.478 0.423333 0.445\n",
      "248 0.502667 0.413333 0.43\n",
      "249 0.459333 0.436667 0.41\n",
      "250 0.5 0.38 0.395\n",
      "251 0.480667 0.436667 0.445\n",
      "252 0.476 0.433333 0.45\n",
      "253 0.509333 0.43 0.425\n",
      "254 0.5 0.406667 0.42\n",
      "255 0.497333 0.446667 0.425\n",
      "256 0.490667 0.423333 0.46\n",
      "257 0.491333 0.426667 0.46\n",
      "258 0.494 0.433333 0.45\n",
      "259 0.493333 0.446667 0.48\n",
      "260 0.509333 0.443333 0.46\n",
      "261 0.513333 0.433333 0.475\n",
      "262 0.498 0.44 0.455\n",
      "263 0.501333 0.46 0.425\n",
      "264 0.506667 0.43 0.405\n",
      "265 0.502667 0.393333 0.43\n",
      "266 0.499333 0.446667 0.42\n",
      "267 0.486667 0.463333 0.4\n",
      "268 0.490667 0.39 0.425\n",
      "269 0.502 0.416667 0.465\n",
      "270 0.480667 0.453333 0.435\n",
      "271 0.510667 0.416667 0.425\n",
      "272 0.492667 0.436667 0.4\n",
      "273 0.512 0.466667 0.46\n",
      "274 0.487333 0.436667 0.43\n",
      "275 0.476 0.44 0.435\n",
      "276 0.512 0.46 0.44\n",
      "277 0.474 0.416667 0.405\n",
      "278 0.490667 0.423333 0.43\n",
      "279 0.456667 0.38 0.42\n",
      "280 0.5 0.42 0.44\n",
      "281 0.492 0.463333 0.45\n",
      "282 0.514 0.43 0.42\n",
      "283 0.494 0.433333 0.45\n",
      "284 0.494667 0.423333 0.45\n",
      "285 0.510667 0.453333 0.44\n",
      "286 0.496667 0.44 0.455\n",
      "287 0.487333 0.46 0.455\n",
      "288 0.520667 0.436667 0.45\n",
      "289 0.507333 0.426667 0.405\n",
      "290 0.512 0.43 0.46\n",
      "291 0.512 0.423333 0.445\n",
      "292 0.492667 0.436667 0.435\n",
      "293 0.519333 0.41 0.43\n",
      "294 0.494 0.436667 0.46\n",
      "295 0.488667 0.44 0.45\n",
      "296 0.508667 0.423333 0.44\n",
      "297 0.49 0.426667 0.425\n",
      "298 0.515333 0.45 0.43\n",
      "299 0.481333 0.433333 0.415\n",
      "300 0.502667 0.453333 0.45\n",
      "301 0.516 0.46 0.5\n",
      "302 0.528 0.42 0.425\n",
      "303 0.498667 0.433333 0.415\n",
      "304 0.501333 0.476667 0.47\n",
      "305 0.497333 0.426667 0.4\n",
      "306 0.502 0.413333 0.385\n",
      "307 0.505333 0.443333 0.38\n",
      "308 0.510667 0.423333 0.42\n",
      "309 0.510667 0.423333 0.45\n",
      "310 0.457333 0.433333 0.435\n",
      "311 0.515333 0.456667 0.485\n",
      "312 0.496 0.413333 0.455\n",
      "313 0.509333 0.413333 0.45\n",
      "314 0.51 0.45 0.475\n",
      "315 0.528 0.436667 0.44\n",
      "316 0.490667 0.433333 0.475\n",
      "317 0.518 0.413333 0.44\n",
      "318 0.512667 0.42 0.43\n",
      "319 0.502667 0.443333 0.425\n",
      "320 0.528 0.436667 0.48\n",
      "321 0.493333 0.48 0.445\n",
      "322 0.519333 0.433333 0.445\n",
      "323 0.526 0.416667 0.445\n",
      "324 0.489333 0.416667 0.42\n",
      "325 0.472667 0.396667 0.445\n",
      "326 0.484667 0.436667 0.42\n",
      "327 0.512667 0.44 0.45\n",
      "328 0.503333 0.423333 0.42\n",
      "329 0.513333 0.416667 0.455\n",
      "330 0.521333 0.41 0.43\n",
      "331 0.488667 0.41 0.395\n",
      "332 0.516 0.416667 0.425\n",
      "333 0.501333 0.396667 0.46\n",
      "334 0.511333 0.443333 0.455\n",
      "335 0.5 0.433333 0.43\n",
      "336 0.496 0.413333 0.43\n",
      "337 0.501333 0.436667 0.445\n",
      "338 0.492667 0.44 0.43\n",
      "339 0.481333 0.45 0.455\n",
      "340 0.525333 0.446667 0.49\n",
      "341 0.516 0.44 0.445\n",
      "342 0.527333 0.416667 0.46\n",
      "343 0.51 0.43 0.415\n",
      "344 0.512 0.393333 0.41\n",
      "345 0.524667 0.45 0.45\n",
      "346 0.507333 0.436667 0.455\n",
      "347 0.522667 0.42 0.445\n",
      "348 0.526667 0.446667 0.455\n",
      "349 0.472667 0.413333 0.39\n",
      "350 0.506667 0.403333 0.43\n",
      "351 0.497333 0.396667 0.455\n",
      "352 0.509333 0.42 0.455\n",
      "353 0.496667 0.42 0.475\n",
      "354 0.513333 0.436667 0.435\n",
      "355 0.486 0.416667 0.38\n",
      "356 0.486 0.413333 0.435\n",
      "357 0.508667 0.423333 0.46\n",
      "358 0.508667 0.403333 0.4\n",
      "359 0.521333 0.443333 0.455\n",
      "360 0.529333 0.466667 0.465\n",
      "361 0.518667 0.44 0.45\n",
      "362 0.524667 0.426667 0.465\n",
      "363 0.508 0.42 0.425\n",
      "364 0.517333 0.426667 0.445\n",
      "365 0.522667 0.44 0.48\n",
      "366 0.512 0.41 0.4\n",
      "367 0.536667 0.45 0.48\n",
      "368 0.462 0.386667 0.39\n",
      "369 0.502 0.433333 0.425\n",
      "370 0.501333 0.416667 0.43\n",
      "371 0.509333 0.4 0.46\n",
      "372 0.476667 0.416667 0.43\n",
      "373 0.516667 0.426667 0.46\n",
      "374 0.529333 0.44 0.48\n",
      "375 0.532 0.413333 0.45\n",
      "376 0.508667 0.463333 0.455\n",
      "377 0.536 0.436667 0.44\n",
      "378 0.520667 0.45 0.48\n",
      "379 0.496667 0.38 0.425\n",
      "380 0.495333 0.42 0.445\n",
      "381 0.535333 0.44 0.46\n",
      "382 0.513333 0.413333 0.45\n",
      "383 0.538667 0.433333 0.465\n",
      "384 0.522667 0.456667 0.44\n",
      "385 0.519333 0.456667 0.465\n",
      "386 0.506 0.466667 0.485\n",
      "387 0.526667 0.43 0.465\n",
      "388 0.513333 0.443333 0.445\n",
      "389 0.526 0.45 0.47\n",
      "390 0.522 0.41 0.415\n",
      "391 0.514667 0.41 0.46\n",
      "392 0.505333 0.45 0.435\n",
      "393 0.513333 0.416667 0.455\n",
      "394 0.514 0.42 0.46\n",
      "395 0.501333 0.416667 0.43\n",
      "396 0.525333 0.453333 0.485\n",
      "397 0.526667 0.416667 0.44\n",
      "398 0.528 0.436667 0.45\n",
      "399 0.516667 0.426667 0.45\n",
      "400 0.515333 0.436667 0.475\n",
      "401 0.537333 0.436667 0.475\n",
      "402 0.518667 0.426667 0.48\n",
      "403 0.513333 0.426667 0.445\n",
      "404 0.532667 0.45 0.46\n",
      "405 0.524667 0.436667 0.45\n",
      "406 0.514 0.423333 0.445\n",
      "407 0.529333 0.41 0.415\n",
      "408 0.522 0.44 0.45\n",
      "409 0.500667 0.436667 0.455\n",
      "410 0.52 0.436667 0.45\n",
      "411 0.528 0.476667 0.46\n",
      "412 0.504 0.406667 0.41\n",
      "413 0.498667 0.383333 0.395\n",
      "414 0.506667 0.413333 0.43\n",
      "415 0.498 0.436667 0.43\n",
      "416 0.518 0.446667 0.485\n",
      "417 0.507333 0.423333 0.44\n",
      "418 0.524667 0.44 0.46\n",
      "419 0.536667 0.413333 0.43\n",
      "420 0.526667 0.466667 0.45\n",
      "421 0.530667 0.436667 0.465\n",
      "422 0.504 0.436667 0.445\n",
      "423 0.536 0.416667 0.43\n",
      "424 0.526667 0.446667 0.45\n",
      "425 0.508667 0.433333 0.45\n",
      "426 0.523333 0.446667 0.455\n",
      "427 0.515333 0.41 0.44\n",
      "428 0.524667 0.433333 0.445\n",
      "429 0.532 0.443333 0.46\n",
      "430 0.534 0.426667 0.475\n",
      "431 0.538 0.433333 0.45\n",
      "432 0.522667 0.416667 0.405\n",
      "433 0.511333 0.383333 0.39\n",
      "434 0.533333 0.44 0.455\n",
      "435 0.528 0.45 0.45\n",
      "436 0.534 0.446667 0.45\n",
      "437 0.524 0.42 0.41\n",
      "438 0.522 0.416667 0.45\n",
      "439 0.509333 0.42 0.44\n",
      "440 0.490667 0.41 0.42\n",
      "441 0.542 0.436667 0.43\n",
      "442 0.528 0.44 0.49\n",
      "443 0.526667 0.456667 0.435\n",
      "444 0.524667 0.423333 0.44\n",
      "445 0.504667 0.453333 0.44\n",
      "446 0.52 0.436667 0.425\n",
      "447 0.518667 0.436667 0.44\n",
      "448 0.534667 0.443333 0.485\n",
      "449 0.531333 0.436667 0.46\n",
      "450 0.536667 0.426667 0.435\n",
      "451 0.522667 0.413333 0.43\n",
      "452 0.540667 0.423333 0.41\n",
      "453 0.535333 0.43 0.45\n",
      "454 0.554667 0.433333 0.43\n",
      "455 0.536667 0.423333 0.45\n",
      "456 0.539333 0.43 0.43\n",
      "457 0.523333 0.446667 0.46\n",
      "458 0.523333 0.42 0.445\n",
      "459 0.512 0.45 0.415\n",
      "460 0.514 0.43 0.43\n",
      "461 0.527333 0.436667 0.445\n",
      "462 0.523333 0.403333 0.44\n",
      "463 0.512667 0.446667 0.455\n",
      "464 0.537333 0.436667 0.47\n",
      "465 0.544667 0.413333 0.44\n",
      "466 0.518667 0.446667 0.445\n",
      "467 0.505333 0.44 0.435\n",
      "468 0.530667 0.426667 0.45\n",
      "469 0.510667 0.446667 0.44\n",
      "470 0.528 0.456667 0.485\n",
      "471 0.535333 0.413333 0.44\n",
      "472 0.523333 0.46 0.485\n",
      "473 0.492 0.443333 0.47\n",
      "474 0.518 0.43 0.44\n",
      "475 0.548 0.416667 0.45\n",
      "476 0.511333 0.433333 0.425\n",
      "477 0.536667 0.433333 0.49\n",
      "478 0.514 0.436667 0.425\n",
      "479 0.536667 0.453333 0.42\n",
      "480 0.458667 0.353333 0.365\n",
      "481 0.549333 0.443333 0.47\n",
      "482 0.542667 0.443333 0.45\n",
      "483 0.518667 0.436667 0.445\n",
      "484 0.54 0.45 0.46\n",
      "485 0.536667 0.413333 0.425\n",
      "486 0.540667 0.433333 0.45\n",
      "487 0.523333 0.433333 0.43\n",
      "488 0.543333 0.466667 0.455\n",
      "489 0.504 0.393333 0.44\n",
      "490 0.498 0.42 0.44\n",
      "491 0.536 0.46 0.45\n",
      "492 0.494667 0.4 0.405\n",
      "493 0.543333 0.423333 0.445\n",
      "494 0.542 0.44 0.465\n",
      "495 0.531333 0.433333 0.425\n",
      "496 0.54 0.44 0.45\n",
      "497 0.524 0.426667 0.46\n",
      "498 0.537333 0.41 0.41\n",
      "499 0.532 0.436667 0.435\n"
     ]
    }
   ],
   "source": [
    "for epoch in range(n_epochs):\n",
    "    for _ in range(batches_for_epoch):        \n",
    "        batch_d, batch_l, _ = train_data.next_batch(batch_size)\n",
    "        feed_dict = {feed_pl:batch_d, labels_pl:batch_l}\n",
    "        sess.run([opt_step, loss, avg_accuracy], feed_dict=feed_dict)\n",
    "    \n",
    "    print epoch,\n",
    "    \n",
    "    for s in ['train', 'test', 'val']:\n",
    "        feed_dict = {feed_pl:in_data[s].feed, labels_pl:in_data[s].labels}\n",
    "        r, l = sess.run([avg_accuracy, loss], feed_dict=feed_dict)\n",
    "        train_res[s].append(r)\n",
    "        loss_res[s].append(l)\n",
    "        print r,\n",
    "    print"
   ]
  },
  {
   "cell_type": "code",
   "execution_count": 69,
   "metadata": {
    "collapsed": false
   },
   "outputs": [
    {
     "name": "stdout",
     "output_type": "stream",
     "text": [
      "1\n"
     ]
    },
    {
     "data": {
      "text/plain": [
       "0.81453329"
      ]
     },
     "execution_count": 69,
     "metadata": {},
     "output_type": "execute_result"
    },
    {
     "data": {
      "image/png": "[encoded data removed]",
      "text/plain": [
       "<matplotlib.figure.Figure at 0x7fa6bd770ad0>"
      ]
     },
     "metadata": {},
     "output_type": "display_data"
    }
   ],
   "source": [
    "plt.plot(train_res['train'])\n",
    "plt.plot(train_res['test'])\n",
    "plt.grid()\n",
    "plt.legend(['Train', 'Test'])\n",
    "plt.xlabel('Epoch')\n",
    "plt.ylabel('Accuracy')\n",
    "\n",
    "title_tag = 'Raw input'\n",
    "\n",
    "plt.title('%s CLF for body-variation.'% (title_tag, ))\n",
    "\n",
    "val_maximizers = np.where(train_res['val'] == np.max(train_res['val']))[0]\n",
    "val_best = np.mean(np.array(train_res['test'])[val_maximizers])\n",
    "plt.text(100, 0.3, 'best by val:%.2f' % (val_best,), fontsize=12);\n",
    "print len(val_maximizers)\n",
    "np.mean(np.array(train_res['test'])[int(n_epochs - n_epochs*0.05):])"
   ]
  }
 ],
 "metadata": {
  "kernelspec": {
   "display_name": "TensorFlow1",
   "language": "python",
   "name": "tf1"
  },
  "language_info": {
   "codemirror_mode": {
    "name": "ipython",
    "version": 2
   },
   "file_extension": ".py",
   "mimetype": "text/x-python",
   "name": "python",
   "nbconvert_exporter": "python",
   "pygments_lexer": "ipython2",
   "version": "2.7.6"
  }
 },
 "nbformat": 4,
 "nbformat_minor": 2
}
