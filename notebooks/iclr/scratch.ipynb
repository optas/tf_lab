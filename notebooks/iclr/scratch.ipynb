{
 "cells": [
  {
   "cell_type": "code",
   "execution_count": null,
   "metadata": {
    "collapsed": true
   },
   "outputs": [],
   "source": [
    "# convolution_op = conv_1d\n",
    "# deconvolution_op = conv_2d\n",
    "convolution_op = highway_conv_1d\n",
    "deconvolution_op = highway_conv_2d\n",
    "\n",
    "def new_encoder(in_signal):\n",
    "    layer = convolution_op(in_signal, nb_filter=128, filter_size=16)\n",
    "    layer = avg_pool_1d(layer, kernel_size=4)\n",
    "    print layer\n",
    "\n",
    "    layer = convolution_op(layer, nb_filter=256, filter_size=8)\n",
    "    layer = avg_pool_1d(layer, kernel_size=4)\n",
    "    print layer\n",
    "    \n",
    "    layer = convolution_op(layer, nb_filter=256, filter_size=4)\n",
    "    layer = avg_pool_1d(layer, kernel_size=4)\n",
    "    print layer\n",
    "\n",
    "    layer = convolution_op(layer, nb_filter=512, filter_size=2)    \n",
    "    layer = avg_pool_1d(layer, kernel_size=2)\n",
    "    print layer\n",
    "    \n",
    "    layer = convolution_op(layer, nb_filter=512, filter_size=2)    \n",
    "    layer = avg_pool_1d(layer, kernel_size=2)\n",
    "    print layer\n",
    "        \n",
    "    layer = convolution_op(layer, nb_filter=32, filter_size=2)\n",
    "    layer = avg_pool_1d(layer, kernel_size=2)      \n",
    "    print layer\n",
    "#     layer = tf.reduce_max(layer, axis=1)\n",
    "    layer = tf.expand_dims(layer, 2)\n",
    "#     layer = tf.expand_dims(layer, 3)    \n",
    "    return layer\n",
    "\n",
    "def convolutional_decoder(in_signal):\n",
    "    layer = in_signal\n",
    "#     layer = tf.expand_dims(in_signal, 2)\n",
    "#     layer = tf.expand_dims(layer, 3)\n",
    "    layer = deconvolution_op(layer, nb_filter=128, filter_size=[2,1], strides=[1,1])\n",
    "    print layer\n",
    "    layer = deconvolution_op(layer, nb_filter=256, filter_size=[2,1], strides=[1,1])\n",
    "    print layer\n",
    "    layer = deconvolution_op(layer, nb_filter=512, filter_size=[4,1], strides=[1,1])\n",
    "    print layer\n",
    "    layer = deconvolution_op(layer, nb_filter=1536, filter_size=[8,1], strides=[1,1])\n",
    "    print layer\n",
    "    return layer\n",
    "\n",
    "decoder_args = {}\n",
    "encoder_args = {}"
   ]
  }
 ],
 "metadata": {
  "kernelspec": {
   "display_name": "Python 2",
   "language": "python",
   "name": "python2"
  },
  "language_info": {
   "codemirror_mode": {
    "name": "ipython",
    "version": 2
   },
   "file_extension": ".py",
   "mimetype": "text/x-python",
   "name": "python",
   "nbconvert_exporter": "python",
   "pygments_lexer": "ipython2",
   "version": "2.7.6"
  }
 },
 "nbformat": 4,
 "nbformat_minor": 2
}
