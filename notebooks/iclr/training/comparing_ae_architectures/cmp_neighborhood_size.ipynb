{
 "cells": [
  {
   "cell_type": "code",
   "execution_count": 1,
   "metadata": {
    "collapsed": false
   },
   "outputs": [
    {
     "name": "stdout",
     "output_type": "stream",
     "text": [
      "Picking GPU 1\n"
     ]
    }
   ],
   "source": [
    "from general_tools.notebook.gpu_utils import setup_one_gpu\n",
    "GPU = 1\n",
    "setup_one_gpu(GPU)"
   ]
  },
  {
   "cell_type": "code",
   "execution_count": 2,
   "metadata": {
    "collapsed": false
   },
   "outputs": [],
   "source": [
    "import sys\n",
    "import time\n",
    "import numpy as np\n",
    "import os.path as osp\n",
    "import tensorflow as tf\n",
    "import matplotlib.pyplot as plt\n",
    "\n",
    "from general_tools.notebook.tf import reset_tf_graph\n",
    "from general_tools.in_out import create_dir\n",
    "from general_tools.in_out.basics import create_dir, delete_files_in_directory, files_in_subdirs\n",
    "\n",
    "from geo_tool import Point_Cloud\n",
    "\n",
    "from tf_lab.in_out.basics import Data_Splitter\n",
    "from tf_lab.point_clouds.ae_templates import conv_architecture_ala_nips_17, default_train_params_ala_nips_17\n",
    "from tf_lab.point_clouds.encoders_decoders import encoder_with_convs_and_symmetry, decoder_with_fc_only\n",
    "from tf_lab.point_clouds.point_net_ae import PointNetAutoEncoder\n",
    "from tf_lab.point_clouds.autoencoder import Configuration as Conf\n",
    "from tf_lab.point_clouds.in_out import load_point_clouds_from_filenames, PointCloudDataSet\n",
    "from tf_lab.data_sets.shape_net import pc_loader as snc_loader\n",
    "from tf_lab.data_sets.shape_net import snc_category_to_synth_id\n",
    "\n",
    "from pc_completions.evaluation import basic_comletion_measures"
   ]
  },
  {
   "cell_type": "code",
   "execution_count": 3,
   "metadata": {
    "collapsed": false
   },
   "outputs": [],
   "source": [
    "%load_ext autoreload\n",
    "%autoreload 2\n",
    "%matplotlib inline"
   ]
  },
  {
   "cell_type": "code",
   "execution_count": 4,
   "metadata": {
    "collapsed": true
   },
   "outputs": [],
   "source": [
    "n_pc_points = 2048\n",
    "top_data_dir = '/orions4-zfs/projects/optas/DATA/'\n",
    "top_pclouds_path = osp.join(top_data_dir, 'Point_Clouds/Shape_Net/Core/from_manifold_meshes/centered/', str(n_pc_points))"
   ]
  },
  {
   "cell_type": "code",
   "execution_count": 5,
   "metadata": {
    "collapsed": true
   },
   "outputs": [],
   "source": [
    "train_split = osp.join(top_data_dir, 'Point_Clouds/Shape_Net/Splits/wu_small_size_splits/train.txt')\n",
    "val_split = osp.join(top_data_dir, 'Point_Clouds/Shape_Net/Splits/wu_small_size_splits/val.txt')\n",
    "test_split = osp.join(top_data_dir, 'Point_Clouds/Shape_Net/Splits/wu_small_size_splits/test.txt')\n",
    "# train_split = osp.join(top_data_dir, 'Point_Clouds/Shape_Net/Splits/single_class_splits/03001627/85_5_10/train.txt')\n",
    "# val_split = osp.join(top_data_dir, 'Point_Clouds/Shape_Net/Splits/single_class_splits/03001627/85_5_10/val.txt')"
   ]
  },
  {
   "cell_type": "code",
   "execution_count": 6,
   "metadata": {
    "collapsed": true
   },
   "outputs": [],
   "source": [
    "do_training = True\n",
    "load_pretrained_model = False\n",
    "load_epoch = None\n",
    "random_seed = 42\n",
    "splitter = Data_Splitter(top_pclouds_path, data_file_ending='.ply', random_seed=42)"
   ]
  },
  {
   "cell_type": "code",
   "execution_count": 19,
   "metadata": {
    "collapsed": false
   },
   "outputs": [],
   "source": [
    "bneck_size = 32\n",
    "loss = 'chamfer'\n",
    "experiment_id = 'neighborhood_size_v1'"
   ]
  },
  {
   "cell_type": "code",
   "execution_count": 20,
   "metadata": {
    "collapsed": false
   },
   "outputs": [
    {
     "data": {
      "text/plain": [
       "'/orions4-zfs/projects/optas/DATA/OUT/iclr/nn_models/testing_ae_settings/wu__exp_neighborhood_size_v1_2048_pts_bneck_32_chamfer'"
      ]
     },
     "execution_count": 20,
     "metadata": {},
     "output_type": "execute_result"
    }
   ],
   "source": [
    "experiment_name = '_'.join(['wu_', 'exp', experiment_id, str(n_pc_points),\n",
    "                            'pts_bneck', str(bneck_size), loss\n",
    "                           ])\n",
    "\n",
    "train_dir = osp.join(top_data_dir, 'OUT/iclr/nn_models/testing_ae_settings', experiment_name)\n",
    "create_dir(train_dir)"
   ]
  },
  {
   "cell_type": "code",
   "execution_count": 21,
   "metadata": {
    "collapsed": false
   },
   "outputs": [
    {
     "name": "stdout",
     "output_type": "stream",
     "text": [
      "3500 pclouds were loaded. They belong in 7 shape-classes.\n",
      "350 pclouds were loaded. They belong in 7 shape-classes.\n",
      "700 pclouds were loaded. They belong in 7 shape-classes.\n"
     ]
    }
   ],
   "source": [
    "tr_files = splitter.load_splits(train_split)\n",
    "pclouds, model_ids, syn_ids = load_point_clouds_from_filenames(tr_files, n_threads=20, loader=snc_loader, verbose=True)\n",
    "train_data = PointCloudDataSet(pclouds, labels=syn_ids + '_' + model_ids)\n",
    "\n",
    "val_files = splitter.load_splits(val_split)\n",
    "pclouds, model_ids, syn_ids = load_point_clouds_from_filenames(val_files, n_threads=20, loader=snc_loader, verbose=True)\n",
    "val_data = PointCloudDataSet(pclouds, labels=syn_ids + '_' + model_ids)\n",
    "\n",
    "test_files = splitter.load_splits(test_split)\n",
    "pclouds, model_ids, syn_ids = load_point_clouds_from_filenames(test_files, n_threads=20, loader=snc_loader, verbose=True)\n",
    "val_data = PointCloudDataSet(pclouds, labels=syn_ids + '_' + model_ids)"
   ]
  },
  {
   "cell_type": "code",
   "execution_count": 22,
   "metadata": {
    "collapsed": false
   },
   "outputs": [
    {
     "data": {
      "text/plain": [
       "32"
      ]
     },
     "execution_count": 22,
     "metadata": {},
     "output_type": "execute_result"
    }
   ],
   "source": [
    "bneck_size"
   ]
  },
  {
   "cell_type": "code",
   "execution_count": 23,
   "metadata": {
    "collapsed": false
   },
   "outputs": [],
   "source": [
    "b_norm = False\n",
    "encoder_args = {'filter_sizes': [10, 5, 2, 2],\n",
    "                'n_filters': [64, 128, 256, bneck_size],\n",
    "                'strides': [1, 1, 2, 2],\n",
    "                'b_norm': b_norm\n",
    "                }\n",
    "    \n",
    "decoder_args = {'layer_sizes': [1024, 2048, n_pc_points*3], 'b_norm': b_norm}"
   ]
  },
  {
   "cell_type": "code",
   "execution_count": 24,
   "metadata": {
    "collapsed": false
   },
   "outputs": [],
   "source": [
    "if load_pretrained_model:\n",
    "    conf = Conf.load(osp.join(train_dir, 'configuration'))\n",
    "    print conf\n",
    "    if conf.train_dir != train_dir:\n",
    "        conf.train_dir = train_dir\n",
    "    conf.save(osp.join(train_dir, 'configuration'))\n",
    "else:\n",
    "    conf = Conf(\n",
    "                n_input = [n_pc_points, 3],\n",
    "                loss = loss,\n",
    "                training_epochs = 200,\n",
    "                batch_size = 50,\n",
    "                denoising = False,\n",
    "                learning_rate = 0.0005,\n",
    "                train_dir = train_dir,             \n",
    "                loss_display_step = 1,\n",
    "                saver_step = 10,\n",
    "                z_rotate = False,\n",
    "                encoder = encoder_with_convs_and_symmetry,\n",
    "                decoder = decoder_with_fc_only,\n",
    "                encoder_args = encoder_args,\n",
    "                decoder_args = decoder_args\n",
    "               )\n",
    "    \n",
    "    conf.experiment_name = experiment_name\n",
    "    conf.held_out_step = 5\n",
    "    conf.save(osp.join(conf.train_dir, 'configuration'))"
   ]
  },
  {
   "cell_type": "code",
   "execution_count": 25,
   "metadata": {
    "collapsed": true
   },
   "outputs": [],
   "source": [
    "reset_tf_graph()\n",
    "ae = PointNetAutoEncoder(conf.experiment_name, conf)"
   ]
  },
  {
   "cell_type": "code",
   "execution_count": 26,
   "metadata": {
    "collapsed": true
   },
   "outputs": [],
   "source": [
    "if load_pretrained_model:\n",
    "    if load_epoch is None: # load last saved.\n",
    "        saved_epochs = read_saved_epochs(conf.train_dir)\n",
    "        load_epoch = saved_epochs[-1]        \n",
    "    ae.restore_model(conf.train_dir, load_epoch, verbose=True)"
   ]
  },
  {
   "cell_type": "code",
   "execution_count": 27,
   "metadata": {
    "collapsed": false,
    "scrolled": false
   },
   "outputs": [
    {
     "name": "stdout",
     "output_type": "stream",
     "text": [
      "('Epoch:', '0001', 'training time (minutes)=', '0.0340', 'loss=', '0.009188341')\n",
      "INFO:tensorflow:/orions4-zfs/projects/optas/DATA/OUT/iclr/nn_models/testing_ae_settings/wu__exp_neighborhood_size_v1_2048_pts_bneck_32_chamfer/models.ckpt-1 is not in all_model_checkpoint_paths. Manually adding it.\n",
      "('Epoch:', '0002', 'training time (minutes)=', '0.0322', 'loss=', '0.003503428')\n",
      "('Epoch:', '0003', 'training time (minutes)=', '0.0322', 'loss=', '0.001949916')\n",
      "('Epoch:', '0004', 'training time (minutes)=', '0.0320', 'loss=', '0.001673453')\n",
      "('Epoch:', '0005', 'training time (minutes)=', '0.0323', 'loss=', '0.001537396')\n",
      "('Held Out Data :', 'forward time (minutes)=', '0.0019', 'loss=', '0.001531179')\n",
      "('Epoch:', '0006', 'training time (minutes)=', '0.0326', 'loss=', '0.001415561')\n",
      "('Epoch:', '0007', 'training time (minutes)=', '0.0324', 'loss=', '0.001327129')\n",
      "('Epoch:', '0008', 'training time (minutes)=', '0.0322', 'loss=', '0.001268924')\n",
      "('Epoch:', '0009', 'training time (minutes)=', '0.0325', 'loss=', '0.001227234')\n",
      "('Epoch:', '0010', 'training time (minutes)=', '0.0332', 'loss=', '0.001186767')\n",
      "INFO:tensorflow:/orions4-zfs/projects/optas/DATA/OUT/iclr/nn_models/testing_ae_settings/wu__exp_neighborhood_size_v1_2048_pts_bneck_32_chamfer/models.ckpt-10 is not in all_model_checkpoint_paths. Manually adding it.\n",
      "('Held Out Data :', 'forward time (minutes)=', '0.0020', 'loss=', '0.001267629')\n",
      "('Epoch:', '0011', 'training time (minutes)=', '0.0328', 'loss=', '0.001125675')\n",
      "('Epoch:', '0012', 'training time (minutes)=', '0.0326', 'loss=', '0.001115628')\n",
      "('Epoch:', '0013', 'training time (minutes)=', '0.0330', 'loss=', '0.001068947')\n",
      "('Epoch:', '0014', 'training time (minutes)=', '0.0327', 'loss=', '0.001024374')\n",
      "('Epoch:', '0015', 'training time (minutes)=', '0.0327', 'loss=', '0.001004413')\n",
      "('Held Out Data :', 'forward time (minutes)=', '0.0021', 'loss=', '0.001162617')\n",
      "('Epoch:', '0016', 'training time (minutes)=', '0.0329', 'loss=', '0.000991193')\n",
      "('Epoch:', '0017', 'training time (minutes)=', '0.0325', 'loss=', '0.000958278')\n",
      "('Epoch:', '0018', 'training time (minutes)=', '0.0325', 'loss=', '0.000952196')\n",
      "('Epoch:', '0019', 'training time (minutes)=', '0.0330', 'loss=', '0.000934367')\n",
      "('Epoch:', '0020', 'training time (minutes)=', '0.0328', 'loss=', '0.000905417')\n",
      "INFO:tensorflow:/orions4-zfs/projects/optas/DATA/OUT/iclr/nn_models/testing_ae_settings/wu__exp_neighborhood_size_v1_2048_pts_bneck_32_chamfer/models.ckpt-20 is not in all_model_checkpoint_paths. Manually adding it.\n",
      "('Held Out Data :', 'forward time (minutes)=', '0.0021', 'loss=', '0.001107061')\n",
      "('Epoch:', '0021', 'training time (minutes)=', '0.0329', 'loss=', '0.000886389')\n",
      "('Epoch:', '0022', 'training time (minutes)=', '0.0330', 'loss=', '0.000872805')\n",
      "('Epoch:', '0023', 'training time (minutes)=', '0.0328', 'loss=', '0.000871862')\n",
      "('Epoch:', '0024', 'training time (minutes)=', '0.0326', 'loss=', '0.000854997')\n",
      "('Epoch:', '0025', 'training time (minutes)=', '0.0327', 'loss=', '0.000832257')\n",
      "('Held Out Data :', 'forward time (minutes)=', '0.0020', 'loss=', '0.001083540')\n",
      "('Epoch:', '0026', 'training time (minutes)=', '0.0328', 'loss=', '0.000815974')\n",
      "('Epoch:', '0027', 'training time (minutes)=', '0.0327', 'loss=', '0.000807305')\n",
      "('Epoch:', '0028', 'training time (minutes)=', '0.0335', 'loss=', '0.000805111')\n",
      "('Epoch:', '0029', 'training time (minutes)=', '0.0334', 'loss=', '0.000809750')\n",
      "('Epoch:', '0030', 'training time (minutes)=', '0.0329', 'loss=', '0.000827393')\n",
      "INFO:tensorflow:/orions4-zfs/projects/optas/DATA/OUT/iclr/nn_models/testing_ae_settings/wu__exp_neighborhood_size_v1_2048_pts_bneck_32_chamfer/models.ckpt-30 is not in all_model_checkpoint_paths. Manually adding it.\n",
      "('Held Out Data :', 'forward time (minutes)=', '0.0020', 'loss=', '0.001091857')\n",
      "('Epoch:', '0031', 'training time (minutes)=', '0.0333', 'loss=', '0.000796817')\n",
      "('Epoch:', '0032', 'training time (minutes)=', '0.0332', 'loss=', '0.000778020')\n",
      "('Epoch:', '0033', 'training time (minutes)=', '0.0329', 'loss=', '0.000773615')\n",
      "('Epoch:', '0034', 'training time (minutes)=', '0.0327', 'loss=', '0.000759250')\n",
      "('Epoch:', '0035', 'training time (minutes)=', '0.0334', 'loss=', '0.000747097')\n",
      "('Held Out Data :', 'forward time (minutes)=', '0.0020', 'loss=', '0.001040702')\n",
      "('Epoch:', '0036', 'training time (minutes)=', '0.0334', 'loss=', '0.000738620')\n",
      "('Epoch:', '0037', 'training time (minutes)=', '0.0334', 'loss=', '0.000747736')\n",
      "('Epoch:', '0038', 'training time (minutes)=', '0.0333', 'loss=', '0.000738734')\n",
      "('Epoch:', '0039', 'training time (minutes)=', '0.0331', 'loss=', '0.000726700')\n",
      "('Epoch:', '0040', 'training time (minutes)=', '0.0329', 'loss=', '0.000713815')\n",
      "INFO:tensorflow:/orions4-zfs/projects/optas/DATA/OUT/iclr/nn_models/testing_ae_settings/wu__exp_neighborhood_size_v1_2048_pts_bneck_32_chamfer/models.ckpt-40 is not in all_model_checkpoint_paths. Manually adding it.\n",
      "('Held Out Data :', 'forward time (minutes)=', '0.0020', 'loss=', '0.001037612')\n",
      "('Epoch:', '0041', 'training time (minutes)=', '0.0335', 'loss=', '0.000702791')\n",
      "('Epoch:', '0042', 'training time (minutes)=', '0.0335', 'loss=', '0.000687322')\n",
      "('Epoch:', '0043', 'training time (minutes)=', '0.0334', 'loss=', '0.000696055')\n",
      "('Epoch:', '0044', 'training time (minutes)=', '0.0337', 'loss=', '0.000703357')\n",
      "('Epoch:', '0045', 'training time (minutes)=', '0.0335', 'loss=', '0.000683845')\n",
      "('Held Out Data :', 'forward time (minutes)=', '0.0020', 'loss=', '0.001029742')\n",
      "('Epoch:', '0046', 'training time (minutes)=', '0.0331', 'loss=', '0.000673210')\n",
      "('Epoch:', '0047', 'training time (minutes)=', '0.0330', 'loss=', '0.000657490')\n",
      "('Epoch:', '0048', 'training time (minutes)=', '0.0330', 'loss=', '0.000651311')\n",
      "('Epoch:', '0049', 'training time (minutes)=', '0.0330', 'loss=', '0.000663322')\n",
      "('Epoch:', '0050', 'training time (minutes)=', '0.0330', 'loss=', '0.000661037')\n",
      "INFO:tensorflow:/orions4-zfs/projects/optas/DATA/OUT/iclr/nn_models/testing_ae_settings/wu__exp_neighborhood_size_v1_2048_pts_bneck_32_chamfer/models.ckpt-50 is not in all_model_checkpoint_paths. Manually adding it.\n",
      "('Held Out Data :', 'forward time (minutes)=', '0.0020', 'loss=', '0.001005432')\n",
      "('Epoch:', '0051', 'training time (minutes)=', '0.0328', 'loss=', '0.000664139')\n",
      "('Epoch:', '0052', 'training time (minutes)=', '0.0326', 'loss=', '0.000656345')\n",
      "('Epoch:', '0053', 'training time (minutes)=', '0.0327', 'loss=', '0.000639516')\n",
      "('Epoch:', '0054', 'training time (minutes)=', '0.0335', 'loss=', '0.000657137')\n",
      "('Epoch:', '0055', 'training time (minutes)=', '0.0329', 'loss=', '0.000635833')\n",
      "('Held Out Data :', 'forward time (minutes)=', '0.0019', 'loss=', '0.001017598')\n",
      "('Epoch:', '0056', 'training time (minutes)=', '0.0327', 'loss=', '0.000621640')\n",
      "('Epoch:', '0057', 'training time (minutes)=', '0.0326', 'loss=', '0.000616926')\n",
      "('Epoch:', '0058', 'training time (minutes)=', '0.0326', 'loss=', '0.000621803')\n",
      "('Epoch:', '0059', 'training time (minutes)=', '0.0325', 'loss=', '0.000602157')\n",
      "('Epoch:', '0060', 'training time (minutes)=', '0.0327', 'loss=', '0.000596268')\n",
      "INFO:tensorflow:/orions4-zfs/projects/optas/DATA/OUT/iclr/nn_models/testing_ae_settings/wu__exp_neighborhood_size_v1_2048_pts_bneck_32_chamfer/models.ckpt-60 is not in all_model_checkpoint_paths. Manually adding it.\n",
      "('Held Out Data :', 'forward time (minutes)=', '0.0020', 'loss=', '0.001013625')\n",
      "('Epoch:', '0061', 'training time (minutes)=', '0.0326', 'loss=', '0.000584328')\n",
      "('Epoch:', '0062', 'training time (minutes)=', '0.0326', 'loss=', '0.000587816')\n",
      "('Epoch:', '0063', 'training time (minutes)=', '0.0337', 'loss=', '0.000606613')\n",
      "('Epoch:', '0064', 'training time (minutes)=', '0.0336', 'loss=', '0.000596716')\n",
      "('Epoch:', '0065', 'training time (minutes)=', '0.0334', 'loss=', '0.000587196')\n",
      "('Held Out Data :', 'forward time (minutes)=', '0.0019', 'loss=', '0.001011161')\n",
      "('Epoch:', '0066', 'training time (minutes)=', '0.0325', 'loss=', '0.000580077')\n",
      "('Epoch:', '0067', 'training time (minutes)=', '0.0326', 'loss=', '0.000592513')\n",
      "('Epoch:', '0068', 'training time (minutes)=', '0.0337', 'loss=', '0.000583683')\n",
      "('Epoch:', '0069', 'training time (minutes)=', '0.0334', 'loss=', '0.000568118')\n",
      "('Epoch:', '0070', 'training time (minutes)=', '0.0337', 'loss=', '0.000576002')\n",
      "INFO:tensorflow:/orions4-zfs/projects/optas/DATA/OUT/iclr/nn_models/testing_ae_settings/wu__exp_neighborhood_size_v1_2048_pts_bneck_32_chamfer/models.ckpt-70 is not in all_model_checkpoint_paths. Manually adding it.\n",
      "('Held Out Data :', 'forward time (minutes)=', '0.0020', 'loss=', '0.001025831')\n",
      "('Epoch:', '0071', 'training time (minutes)=', '0.0337', 'loss=', '0.000558808')\n",
      "('Epoch:', '0072', 'training time (minutes)=', '0.0335', 'loss=', '0.000560461')\n",
      "('Epoch:', '0073', 'training time (minutes)=', '0.0334', 'loss=', '0.000567966')\n",
      "('Epoch:', '0074', 'training time (minutes)=', '0.0332', 'loss=', '0.000560064')\n",
      "('Epoch:', '0075', 'training time (minutes)=', '0.0330', 'loss=', '0.000541365')\n",
      "('Held Out Data :', 'forward time (minutes)=', '0.0020', 'loss=', '0.001011866')\n",
      "('Epoch:', '0076', 'training time (minutes)=', '0.0333', 'loss=', '0.000530373')\n",
      "('Epoch:', '0077', 'training time (minutes)=', '0.0336', 'loss=', '0.000548783')\n",
      "('Epoch:', '0078', 'training time (minutes)=', '0.0337', 'loss=', '0.000544155')\n",
      "('Epoch:', '0079', 'training time (minutes)=', '0.0337', 'loss=', '0.000532706')\n",
      "('Epoch:', '0080', 'training time (minutes)=', '0.0333', 'loss=', '0.000516749')\n",
      "INFO:tensorflow:/orions4-zfs/projects/optas/DATA/OUT/iclr/nn_models/testing_ae_settings/wu__exp_neighborhood_size_v1_2048_pts_bneck_32_chamfer/models.ckpt-80 is not in all_model_checkpoint_paths. Manually adding it.\n",
      "('Held Out Data :', 'forward time (minutes)=', '0.0020', 'loss=', '0.001007537')\n",
      "('Epoch:', '0081', 'training time (minutes)=', '0.0333', 'loss=', '0.000511971')\n",
      "('Epoch:', '0082', 'training time (minutes)=', '0.0337', 'loss=', '0.000519850')\n",
      "('Epoch:', '0083', 'training time (minutes)=', '0.0333', 'loss=', '0.000507791')\n",
      "('Epoch:', '0084', 'training time (minutes)=', '0.0331', 'loss=', '0.000503207')\n",
      "('Epoch:', '0085', 'training time (minutes)=', '0.0329', 'loss=', '0.000498398')\n",
      "('Held Out Data :', 'forward time (minutes)=', '0.0020', 'loss=', '0.001008050')\n",
      "('Epoch:', '0086', 'training time (minutes)=', '0.0329', 'loss=', '0.000503901')\n",
      "('Epoch:', '0087', 'training time (minutes)=', '0.0332', 'loss=', '0.000510661')\n",
      "('Epoch:', '0088', 'training time (minutes)=', '0.0336', 'loss=', '0.000529871')\n",
      "('Epoch:', '0089', 'training time (minutes)=', '0.0332', 'loss=', '0.000514201')\n",
      "('Epoch:', '0090', 'training time (minutes)=', '0.0338', 'loss=', '0.000498322')\n",
      "INFO:tensorflow:/orions4-zfs/projects/optas/DATA/OUT/iclr/nn_models/testing_ae_settings/wu__exp_neighborhood_size_v1_2048_pts_bneck_32_chamfer/models.ckpt-90 is not in all_model_checkpoint_paths. Manually adding it.\n",
      "('Held Out Data :', 'forward time (minutes)=', '0.0020', 'loss=', '0.001010016')\n",
      "('Epoch:', '0091', 'training time (minutes)=', '0.0338', 'loss=', '0.000489843')\n",
      "('Epoch:', '0092', 'training time (minutes)=', '0.0334', 'loss=', '0.000475918')\n",
      "('Epoch:', '0093', 'training time (minutes)=', '0.0338', 'loss=', '0.000488774')\n",
      "('Epoch:', '0094', 'training time (minutes)=', '0.0337', 'loss=', '0.000487553')\n",
      "('Epoch:', '0095', 'training time (minutes)=', '0.0334', 'loss=', '0.000481545')\n",
      "('Held Out Data :', 'forward time (minutes)=', '0.0020', 'loss=', '0.001014357')\n",
      "('Epoch:', '0096', 'training time (minutes)=', '0.0332', 'loss=', '0.000474120')\n",
      "('Epoch:', '0097', 'training time (minutes)=', '0.0332', 'loss=', '0.000466660')\n",
      "('Epoch:', '0098', 'training time (minutes)=', '0.0329', 'loss=', '0.000478239')\n",
      "('Epoch:', '0099', 'training time (minutes)=', '0.0330', 'loss=', '0.000463707')\n",
      "('Epoch:', '0100', 'training time (minutes)=', '0.0330', 'loss=', '0.000482492')\n",
      "INFO:tensorflow:/orions4-zfs/projects/optas/DATA/OUT/iclr/nn_models/testing_ae_settings/wu__exp_neighborhood_size_v1_2048_pts_bneck_32_chamfer/models.ckpt-100 is not in all_model_checkpoint_paths. Manually adding it.\n",
      "('Held Out Data :', 'forward time (minutes)=', '0.0020', 'loss=', '0.001007649')\n",
      "('Epoch:', '0101', 'training time (minutes)=', '0.0331', 'loss=', '0.000479006')\n",
      "('Epoch:', '0102', 'training time (minutes)=', '0.0333', 'loss=', '0.000464058')\n",
      "('Epoch:', '0103', 'training time (minutes)=', '0.0332', 'loss=', '0.000464198')\n",
      "('Epoch:', '0104', 'training time (minutes)=', '0.0332', 'loss=', '0.000447154')\n",
      "('Epoch:', '0105', 'training time (minutes)=', '0.0332', 'loss=', '0.000444159')\n",
      "('Held Out Data :', 'forward time (minutes)=', '0.0020', 'loss=', '0.001012309')\n",
      "('Epoch:', '0106', 'training time (minutes)=', '0.0332', 'loss=', '0.000439680')\n",
      "('Epoch:', '0107', 'training time (minutes)=', '0.0332', 'loss=', '0.000436827')\n",
      "('Epoch:', '0108', 'training time (minutes)=', '0.0327', 'loss=', '0.000451991')\n",
      "('Epoch:', '0109', 'training time (minutes)=', '0.0337', 'loss=', '0.000440528')\n",
      "('Epoch:', '0110', 'training time (minutes)=', '0.0333', 'loss=', '0.000438611')\n",
      "INFO:tensorflow:/orions4-zfs/projects/optas/DATA/OUT/iclr/nn_models/testing_ae_settings/wu__exp_neighborhood_size_v1_2048_pts_bneck_32_chamfer/models.ckpt-110 is not in all_model_checkpoint_paths. Manually adding it.\n",
      "('Held Out Data :', 'forward time (minutes)=', '0.0021', 'loss=', '0.001021974')\n",
      "('Epoch:', '0111', 'training time (minutes)=', '0.0334', 'loss=', '0.000432143')\n",
      "('Epoch:', '0112', 'training time (minutes)=', '0.0334', 'loss=', '0.000439405')\n",
      "('Epoch:', '0113', 'training time (minutes)=', '0.0335', 'loss=', '0.000423337')\n",
      "('Epoch:', '0114', 'training time (minutes)=', '0.0335', 'loss=', '0.000419388')\n",
      "('Epoch:', '0115', 'training time (minutes)=', '0.0336', 'loss=', '0.000414166')\n",
      "('Held Out Data :', 'forward time (minutes)=', '0.0023', 'loss=', '0.001017816')\n",
      "('Epoch:', '0116', 'training time (minutes)=', '0.0337', 'loss=', '0.000420074')\n",
      "('Epoch:', '0117', 'training time (minutes)=', '0.0333', 'loss=', '0.000413326')\n",
      "('Epoch:', '0118', 'training time (minutes)=', '0.0333', 'loss=', '0.000408910')\n",
      "('Epoch:', '0119', 'training time (minutes)=', '0.0336', 'loss=', '0.000407570')\n",
      "('Epoch:', '0120', 'training time (minutes)=', '0.0331', 'loss=', '0.000401222')\n",
      "INFO:tensorflow:/orions4-zfs/projects/optas/DATA/OUT/iclr/nn_models/testing_ae_settings/wu__exp_neighborhood_size_v1_2048_pts_bneck_32_chamfer/models.ckpt-120 is not in all_model_checkpoint_paths. Manually adding it.\n",
      "('Held Out Data :', 'forward time (minutes)=', '0.0020', 'loss=', '0.001020714')\n",
      "('Epoch:', '0121', 'training time (minutes)=', '0.0335', 'loss=', '0.000419412')\n",
      "('Epoch:', '0122', 'training time (minutes)=', '0.0332', 'loss=', '0.000414136')\n",
      "('Epoch:', '0123', 'training time (minutes)=', '0.0328', 'loss=', '0.000409507')\n",
      "('Epoch:', '0124', 'training time (minutes)=', '0.0331', 'loss=', '0.000403964')\n",
      "('Epoch:', '0125', 'training time (minutes)=', '0.0332', 'loss=', '0.000404296')\n",
      "('Held Out Data :', 'forward time (minutes)=', '0.0020', 'loss=', '0.001051983')\n",
      "('Epoch:', '0126', 'training time (minutes)=', '0.0334', 'loss=', '0.000405458')\n",
      "('Epoch:', '0127', 'training time (minutes)=', '0.0327', 'loss=', '0.000393956')\n",
      "('Epoch:', '0128', 'training time (minutes)=', '0.0330', 'loss=', '0.000386681')\n",
      "('Epoch:', '0129', 'training time (minutes)=', '0.0329', 'loss=', '0.000383911')\n",
      "('Epoch:', '0130', 'training time (minutes)=', '0.0326', 'loss=', '0.000385227')\n",
      "INFO:tensorflow:/orions4-zfs/projects/optas/DATA/OUT/iclr/nn_models/testing_ae_settings/wu__exp_neighborhood_size_v1_2048_pts_bneck_32_chamfer/models.ckpt-130 is not in all_model_checkpoint_paths. Manually adding it.\n",
      "('Held Out Data :', 'forward time (minutes)=', '0.0020', 'loss=', '0.001017200')\n",
      "('Epoch:', '0131', 'training time (minutes)=', '0.0325', 'loss=', '0.000383792')\n",
      "('Epoch:', '0132', 'training time (minutes)=', '0.0326', 'loss=', '0.000404977')\n",
      "('Epoch:', '0133', 'training time (minutes)=', '0.0326', 'loss=', '0.000405371')\n",
      "('Epoch:', '0134', 'training time (minutes)=', '0.0325', 'loss=', '0.000406831')\n",
      "('Epoch:', '0135', 'training time (minutes)=', '0.0327', 'loss=', '0.000396766')\n",
      "('Held Out Data :', 'forward time (minutes)=', '0.0021', 'loss=', '0.001034387')\n",
      "('Epoch:', '0136', 'training time (minutes)=', '0.0328', 'loss=', '0.000409333')\n",
      "('Epoch:', '0137', 'training time (minutes)=', '0.0326', 'loss=', '0.000394792')\n",
      "('Epoch:', '0138', 'training time (minutes)=', '0.0324', 'loss=', '0.000381626')\n",
      "('Epoch:', '0139', 'training time (minutes)=', '0.0326', 'loss=', '0.000372974')\n",
      "('Epoch:', '0140', 'training time (minutes)=', '0.0326', 'loss=', '0.000364941')\n",
      "INFO:tensorflow:/orions4-zfs/projects/optas/DATA/OUT/iclr/nn_models/testing_ae_settings/wu__exp_neighborhood_size_v1_2048_pts_bneck_32_chamfer/models.ckpt-140 is not in all_model_checkpoint_paths. Manually adding it.\n",
      "('Held Out Data :', 'forward time (minutes)=', '0.0020', 'loss=', '0.001024795')\n",
      "('Epoch:', '0141', 'training time (minutes)=', '0.0325', 'loss=', '0.000354349')\n",
      "('Epoch:', '0142', 'training time (minutes)=', '0.0330', 'loss=', '0.000359748')\n",
      "('Epoch:', '0143', 'training time (minutes)=', '0.0328', 'loss=', '0.000354962')\n",
      "('Epoch:', '0144', 'training time (minutes)=', '0.0325', 'loss=', '0.000348062')\n",
      "('Epoch:', '0145', 'training time (minutes)=', '0.0326', 'loss=', '0.000354824')\n",
      "('Held Out Data :', 'forward time (minutes)=', '0.0020', 'loss=', '0.001031857')\n",
      "('Epoch:', '0146', 'training time (minutes)=', '0.0327', 'loss=', '0.000351492')\n",
      "('Epoch:', '0147', 'training time (minutes)=', '0.0333', 'loss=', '0.000358054')\n",
      "('Epoch:', '0148', 'training time (minutes)=', '0.0331', 'loss=', '0.000349840')\n",
      "('Epoch:', '0149', 'training time (minutes)=', '0.0331', 'loss=', '0.000350925')\n",
      "('Epoch:', '0150', 'training time (minutes)=', '0.0330', 'loss=', '0.000359272')\n",
      "INFO:tensorflow:/orions4-zfs/projects/optas/DATA/OUT/iclr/nn_models/testing_ae_settings/wu__exp_neighborhood_size_v1_2048_pts_bneck_32_chamfer/models.ckpt-150 is not in all_model_checkpoint_paths. Manually adding it.\n",
      "('Held Out Data :', 'forward time (minutes)=', '0.0020', 'loss=', '0.001031571')\n",
      "('Epoch:', '0151', 'training time (minutes)=', '0.0333', 'loss=', '0.000350058')\n",
      "('Epoch:', '0152', 'training time (minutes)=', '0.0331', 'loss=', '0.000369005')\n",
      "('Epoch:', '0153', 'training time (minutes)=', '0.0325', 'loss=', '0.000358661')\n",
      "('Epoch:', '0154', 'training time (minutes)=', '0.0327', 'loss=', '0.000355876')\n",
      "('Epoch:', '0155', 'training time (minutes)=', '0.0325', 'loss=', '0.000346593')\n",
      "('Held Out Data :', 'forward time (minutes)=', '0.0019', 'loss=', '0.001033992')\n",
      "('Epoch:', '0156', 'training time (minutes)=', '0.0327', 'loss=', '0.000339891')\n",
      "('Epoch:', '0157', 'training time (minutes)=', '0.0329', 'loss=', '0.000340567')\n",
      "('Epoch:', '0158', 'training time (minutes)=', '0.0327', 'loss=', '0.000335830')\n",
      "('Epoch:', '0159', 'training time (minutes)=', '0.0327', 'loss=', '0.000352740')\n",
      "('Epoch:', '0160', 'training time (minutes)=', '0.0326', 'loss=', '0.000338546')\n",
      "INFO:tensorflow:/orions4-zfs/projects/optas/DATA/OUT/iclr/nn_models/testing_ae_settings/wu__exp_neighborhood_size_v1_2048_pts_bneck_32_chamfer/models.ckpt-160 is not in all_model_checkpoint_paths. Manually adding it.\n",
      "('Held Out Data :', 'forward time (minutes)=', '0.0022', 'loss=', '0.001027279')\n",
      "('Epoch:', '0161', 'training time (minutes)=', '0.0331', 'loss=', '0.000337752')\n",
      "('Epoch:', '0162', 'training time (minutes)=', '0.0332', 'loss=', '0.000329292')\n",
      "('Epoch:', '0163', 'training time (minutes)=', '0.0356', 'loss=', '0.000342587')\n",
      "('Epoch:', '0164', 'training time (minutes)=', '0.0343', 'loss=', '0.000343765')\n",
      "('Epoch:', '0165', 'training time (minutes)=', '0.0653', 'loss=', '0.000343708')\n",
      "('Held Out Data :', 'forward time (minutes)=', '0.0045', 'loss=', '0.001040537')\n",
      "('Epoch:', '0166', 'training time (minutes)=', '0.0570', 'loss=', '0.000330187')\n",
      "('Epoch:', '0167', 'training time (minutes)=', '0.0538', 'loss=', '0.000324424')\n",
      "('Epoch:', '0168', 'training time (minutes)=', '0.0566', 'loss=', '0.000320838')\n",
      "('Epoch:', '0169', 'training time (minutes)=', '0.0530', 'loss=', '0.000332402')\n",
      "('Epoch:', '0170', 'training time (minutes)=', '0.0535', 'loss=', '0.000321571')\n",
      "INFO:tensorflow:/orions4-zfs/projects/optas/DATA/OUT/iclr/nn_models/testing_ae_settings/wu__exp_neighborhood_size_v1_2048_pts_bneck_32_chamfer/models.ckpt-170 is not in all_model_checkpoint_paths. Manually adding it.\n",
      "('Held Out Data :', 'forward time (minutes)=', '0.0032', 'loss=', '0.001031145')\n",
      "('Epoch:', '0171', 'training time (minutes)=', '0.0580', 'loss=', '0.000316492')\n",
      "('Epoch:', '0172', 'training time (minutes)=', '0.0603', 'loss=', '0.000318424')\n",
      "('Epoch:', '0173', 'training time (minutes)=', '0.0593', 'loss=', '0.000321712')\n",
      "('Epoch:', '0174', 'training time (minutes)=', '0.0559', 'loss=', '0.000323221')\n",
      "('Epoch:', '0175', 'training time (minutes)=', '0.0413', 'loss=', '0.000321953')\n",
      "('Held Out Data :', 'forward time (minutes)=', '0.0026', 'loss=', '0.001037516')\n",
      "('Epoch:', '0176', 'training time (minutes)=', '0.0565', 'loss=', '0.000335025')\n",
      "('Epoch:', '0177', 'training time (minutes)=', '0.0574', 'loss=', '0.000332578')\n",
      "('Epoch:', '0178', 'training time (minutes)=', '0.0593', 'loss=', '0.000321404')\n",
      "('Epoch:', '0179', 'training time (minutes)=', '0.0639', 'loss=', '0.000315923')\n",
      "('Epoch:', '0180', 'training time (minutes)=', '0.0585', 'loss=', '0.000308662')\n",
      "INFO:tensorflow:/orions4-zfs/projects/optas/DATA/OUT/iclr/nn_models/testing_ae_settings/wu__exp_neighborhood_size_v1_2048_pts_bneck_32_chamfer/models.ckpt-180 is not in all_model_checkpoint_paths. Manually adding it.\n",
      "('Held Out Data :', 'forward time (minutes)=', '0.0040', 'loss=', '0.001038250')\n",
      "('Epoch:', '0181', 'training time (minutes)=', '0.0644', 'loss=', '0.000312981')\n",
      "('Epoch:', '0182', 'training time (minutes)=', '0.0565', 'loss=', '0.000305414')\n",
      "('Epoch:', '0183', 'training time (minutes)=', '0.0599', 'loss=', '0.000313416')\n",
      "('Epoch:', '0184', 'training time (minutes)=', '0.0529', 'loss=', '0.000304342')\n",
      "('Epoch:', '0185', 'training time (minutes)=', '0.0556', 'loss=', '0.000295069')\n",
      "('Held Out Data :', 'forward time (minutes)=', '0.0031', 'loss=', '0.001042554')\n",
      "('Epoch:', '0186', 'training time (minutes)=', '0.0548', 'loss=', '0.000288434')\n",
      "('Epoch:', '0187', 'training time (minutes)=', '0.0521', 'loss=', '0.000288014')\n",
      "('Epoch:', '0188', 'training time (minutes)=', '0.0579', 'loss=', '0.000299874')\n",
      "('Epoch:', '0189', 'training time (minutes)=', '0.0533', 'loss=', '0.000310223')\n",
      "('Epoch:', '0190', 'training time (minutes)=', '0.0563', 'loss=', '0.000307812')\n",
      "INFO:tensorflow:/orions4-zfs/projects/optas/DATA/OUT/iclr/nn_models/testing_ae_settings/wu__exp_neighborhood_size_v1_2048_pts_bneck_32_chamfer/models.ckpt-190 is not in all_model_checkpoint_paths. Manually adding it.\n",
      "('Held Out Data :', 'forward time (minutes)=', '0.0025', 'loss=', '0.001032292')\n",
      "('Epoch:', '0191', 'training time (minutes)=', '0.0590', 'loss=', '0.000321160')\n",
      "('Epoch:', '0192', 'training time (minutes)=', '0.0556', 'loss=', '0.000313942')\n",
      "('Epoch:', '0193', 'training time (minutes)=', '0.0501', 'loss=', '0.000328713')\n",
      "('Epoch:', '0194', 'training time (minutes)=', '0.0505', 'loss=', '0.000302315')\n",
      "('Epoch:', '0195', 'training time (minutes)=', '0.0518', 'loss=', '0.000293778')\n",
      "('Held Out Data :', 'forward time (minutes)=', '0.0028', 'loss=', '0.001037781')\n",
      "('Epoch:', '0196', 'training time (minutes)=', '0.0517', 'loss=', '0.000290080')\n",
      "('Epoch:', '0197', 'training time (minutes)=', '0.0584', 'loss=', '0.000289421')\n",
      "('Epoch:', '0198', 'training time (minutes)=', '0.0579', 'loss=', '0.000293271')\n",
      "('Epoch:', '0199', 'training time (minutes)=', '0.0495', 'loss=', '0.000293062')\n",
      "('Epoch:', '0200', 'training time (minutes)=', '0.0562', 'loss=', '0.000295420')\n",
      "INFO:tensorflow:/orions4-zfs/projects/optas/DATA/OUT/iclr/nn_models/testing_ae_settings/wu__exp_neighborhood_size_v1_2048_pts_bneck_32_chamfer/models.ckpt-200 is not in all_model_checkpoint_paths. Manually adding it.\n",
      "('Held Out Data :', 'forward time (minutes)=', '0.0034', 'loss=', '0.001057560')\n"
     ]
    }
   ],
   "source": [
    "if do_training:\n",
    "    buf_size = 1 # flush each line\n",
    "    fout = open(osp.join(conf.train_dir, 'train_stats.txt'), 'a', buf_size)    \n",
    "    train_stats = ae.train(train_data, conf, log_file=fout, held_out_data=val_data)\n",
    "    fout.close()"
   ]
  },
  {
   "cell_type": "code",
   "execution_count": null,
   "metadata": {
    "collapsed": true
   },
   "outputs": [],
   "source": []
  },
  {
   "cell_type": "code",
   "execution_count": null,
   "metadata": {
    "collapsed": true
   },
   "outputs": [],
   "source": []
  },
  {
   "cell_type": "code",
   "execution_count": null,
   "metadata": {
    "collapsed": true
   },
   "outputs": [],
   "source": []
  }
 ],
 "metadata": {
  "kernelspec": {
   "display_name": "Python 2",
   "language": "python",
   "name": "python2"
  },
  "language_info": {
   "codemirror_mode": {
    "name": "ipython",
    "version": 2
   },
   "file_extension": ".py",
   "mimetype": "text/x-python",
   "name": "python",
   "nbconvert_exporter": "python",
   "pygments_lexer": "ipython2",
   "version": "2.7.6"
  }
 },
 "nbformat": 4,
 "nbformat_minor": 0
}
