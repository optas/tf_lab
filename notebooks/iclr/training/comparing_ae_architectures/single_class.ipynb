{
 "cells": [
  {
   "cell_type": "code",
   "execution_count": 1,
   "metadata": {
    "collapsed": false,
    "deletable": true,
    "editable": true
   },
   "outputs": [
    {
     "name": "stdout",
     "output_type": "stream",
     "text": [
      "Picking GPU 1\n"
     ]
    }
   ],
   "source": [
    "from general_tools.notebook.gpu_utils import setup_one_gpu\n",
    "GPU = 1\n",
    "setup_one_gpu(GPU)"
   ]
  },
  {
   "cell_type": "code",
   "execution_count": 2,
   "metadata": {
    "collapsed": false,
    "deletable": true,
    "editable": true
   },
   "outputs": [],
   "source": [
    "import sys\n",
    "import time\n",
    "import numpy as np\n",
    "import os.path as osp\n",
    "import tensorflow as tf\n",
    "import matplotlib.pyplot as plt\n",
    "\n",
    "from general_tools.notebook.tf import reset_tf_graph\n",
    "from general_tools.in_out.basics import create_dir, files_in_subdirs\n",
    "\n",
    "from geo_tool import Point_Cloud\n",
    "\n",
    "from tf_lab.point_clouds.point_net_ae import PointNetAutoEncoder\n",
    "from tf_lab.point_clouds.autoencoder import Configuration as Conf\n",
    "from tf_lab.point_clouds.in_out import PointCloudDataSet\n",
    "\n",
    "from tf_lab.in_out.basics import read_saved_epochs          \n",
    "from tf_lab.data_sets.shape_net import snc_category_to_synth_id, load_all_point_clouds_under_folder"
   ]
  },
  {
   "cell_type": "code",
   "execution_count": 3,
   "metadata": {
    "collapsed": false,
    "deletable": true,
    "editable": true
   },
   "outputs": [],
   "source": [
    "%load_ext autoreload\n",
    "%autoreload 2\n",
    "%matplotlib inline"
   ]
  },
  {
   "cell_type": "code",
   "execution_count": 4,
   "metadata": {
    "collapsed": false,
    "deletable": true,
    "editable": true
   },
   "outputs": [],
   "source": [
    "n_pc_points = 2048\n",
    "do_training = True\n",
    "first_time_running = True\n",
    "load_pretrained_model = False\n",
    "load_epoch = None\n",
    "seed = 42"
   ]
  },
  {
   "cell_type": "code",
   "execution_count": 5,
   "metadata": {
    "collapsed": false
   },
   "outputs": [
    {
     "name": "stdout",
     "output_type": "stream",
     "text": [
      "Give me the class type: chair\n",
      "Give me the experiment ID:for_contrasting_neighbhors\n"
     ]
    },
    {
     "data": {
      "text/plain": [
       "'/orions4-zfs/projects/optas/DATA/OUT/iclr/nn_models/testing_ae_settings/chair_for_contrasting_neighbhors_2048_pts_bneck_64_chamfer'"
      ]
     },
     "execution_count": 5,
     "metadata": {},
     "output_type": "execute_result"
    }
   ],
   "source": [
    "max_training_epochs = 1000\n",
    "loss = 'chamfer'\n",
    "bneck_size = 64\n",
    "\n",
    "class_name = raw_input('Give me the class type: ').lower()\n",
    "syn_id = snc_category_to_synth_id()[class_name]\n",
    "\n",
    "experiment_id = raw_input('Give me the experiment ID:').lower()\n",
    "\n",
    "experiment_name = '_'.join([class_name, experiment_id, str(n_pc_points), \n",
    "                           'pts_bneck', str(bneck_size), loss\n",
    "                           ])\n",
    "\n",
    "top_data_dir = '/orions4-zfs/projects/optas/DATA/'\n",
    "train_dir = osp.join(top_data_dir, 'OUT/iclr/nn_models/testing_ae_settings', experiment_name)\n",
    "create_dir(train_dir)"
   ]
  },
  {
   "cell_type": "code",
   "execution_count": 8,
   "metadata": {
    "collapsed": false
   },
   "outputs": [
    {
     "name": "stdout",
     "output_type": "stream",
     "text": [
      "6778 pclouds were loaded. They belong in 1 shape-classes.\n"
     ]
    }
   ],
   "source": [
    "pclouds_path = osp.join(top_data_dir, 'Point_Clouds/Shape_Net/Core/from_manifold_meshes/centered/', str(n_pc_points))\n",
    "pclouds_path = osp.join(pclouds_path, syn_id)\n",
    "train_data = load_all_point_clouds_under_folder(pclouds_path, n_threads=40, verbose=True)"
   ]
  },
  {
   "cell_type": "code",
   "execution_count": 141,
   "metadata": {
    "collapsed": false
   },
   "outputs": [],
   "source": [
    "encoder_args = { 'n_filters': [64, 128, 256, 512],\n",
    "                 'filter_sizes': [1, 1, 1, 1],\n",
    "                 'strides': [1, 1, 1, 1],\n",
    "                 'b_norm': False,\n",
    "                }\n",
    "\n",
    "decoder_args = {'layer_sizes': [1024, 2048, n_pc_points*3], 'b_norm': False}"
   ]
  },
  {
   "cell_type": "code",
   "execution_count": 142,
   "metadata": {
    "collapsed": false
   },
   "outputs": [],
   "source": [
    "if load_pretrained_model:\n",
    "    conf = Conf.load(osp.join(train_dir, 'configuration'))\n",
    "    print conf\n",
    "    if conf.train_dir != train_dir:\n",
    "        conf.train_dir = train_dir\n",
    "    conf.save(osp.join(train_dir, 'configuration'))\n",
    "else:\n",
    "    conf = Conf(\n",
    "                n_input = [n_pc_points, 3],\n",
    "                loss = loss,\n",
    "                training_epochs = 1000,\n",
    "                batch_size = 50,\n",
    "                denoising = False,\n",
    "                learning_rate = 0.0005,\n",
    "                train_dir = train_dir,              \n",
    "                loss_display_step = 1,\n",
    "                saver_step = 20,\n",
    "                z_rotate = False,\n",
    "                encoder = encoder_with_convs_and_symmetry,\n",
    "                decoder = decoder_with_fc_only,\n",
    "                encoder_args = encoder_args,\n",
    "                decoder_args = decoder_args\n",
    "               )    \n",
    "    conf.experiment_name = experiment_name\n",
    "    conf.save(osp.join(conf.train_dir, 'configuration'))"
   ]
  },
  {
   "cell_type": "code",
   "execution_count": 143,
   "metadata": {
    "collapsed": false
   },
   "outputs": [],
   "source": [
    "reset_tf_graph()\n",
    "ae = PointNetAutoEncoder(conf.experiment_name, conf)"
   ]
  },
  {
   "cell_type": "code",
   "execution_count": 144,
   "metadata": {
    "collapsed": false
   },
   "outputs": [],
   "source": [
    "if load_pretrained_model:\n",
    "    if load_epoch is None: # load last saved.\n",
    "        saved_epochs = read_saved_epochs(conf.train_dir)\n",
    "        load_epoch = saved_epochs[-1]        \n",
    "    ae.restore_model(conf.train_dir, load_epoch, verbose=True)"
   ]
  },
  {
   "cell_type": "code",
   "execution_count": 145,
   "metadata": {
    "collapsed": false
   },
   "outputs": [
    {
     "name": "stdout",
     "output_type": "stream",
     "text": [
      "('Epoch:', '0001', 'training time (minutes)=', '0.1314', 'loss=', '0.003696586')\n",
      "INFO:tensorflow:/orions4-zfs/projects/optas/DATA/OUT/iclr/nn_models/testing_ae_settings/chair_for_contrasting_neighbhors_2048_pts_bneck_64_chamfer/models.ckpt-1 is not in all_model_checkpoint_paths. Manually adding it.\n"
     ]
    },
    {
     "name": "stderr",
     "output_type": "stream",
     "text": [
      "INFO:tensorflow:/orions4-zfs/projects/optas/DATA/OUT/iclr/nn_models/testing_ae_settings/chair_for_contrasting_neighbhors_2048_pts_bneck_64_chamfer/models.ckpt-1 is not in all_model_checkpoint_paths. Manually adding it.\n"
     ]
    },
    {
     "name": "stdout",
     "output_type": "stream",
     "text": [
      "('Epoch:', '0002', 'training time (minutes)=', '0.1734', 'loss=', '0.001787228')\n",
      "('Epoch:', '0003', 'training time (minutes)=', '0.1944', 'loss=', '0.001366831')\n",
      "('Epoch:', '0004', 'training time (minutes)=', '0.1658', 'loss=', '0.001195466')\n",
      "('Epoch:', '0005', 'training time (minutes)=', '0.1626', 'loss=', '0.001089049')\n",
      "('Epoch:', '0006', 'training time (minutes)=', '0.1876', 'loss=', '0.001018505')\n",
      "('Epoch:', '0007', 'training time (minutes)=', '0.1687', 'loss=', '0.000953748')\n",
      "('Epoch:', '0008', 'training time (minutes)=', '0.1750', 'loss=', '0.000909988')\n",
      "('Epoch:', '0009', 'training time (minutes)=', '0.1703', 'loss=', '0.000872649')\n",
      "('Epoch:', '0010', 'training time (minutes)=', '0.1650', 'loss=', '0.000847537')\n",
      "('Epoch:', '0011', 'training time (minutes)=', '0.1604', 'loss=', '0.000816126')\n",
      "('Epoch:', '0012', 'training time (minutes)=', '0.1588', 'loss=', '0.000787943')\n",
      "('Epoch:', '0013', 'training time (minutes)=', '0.1581', 'loss=', '0.000763674')\n",
      "('Epoch:', '0014', 'training time (minutes)=', '0.1506', 'loss=', '0.000751996')\n",
      "('Epoch:', '0015', 'training time (minutes)=', '0.1683', 'loss=', '0.000728772')\n",
      "('Epoch:', '0016', 'training time (minutes)=', '0.1535', 'loss=', '0.000716812')\n",
      "('Epoch:', '0017', 'training time (minutes)=', '0.1642', 'loss=', '0.000698888')\n",
      "('Epoch:', '0018', 'training time (minutes)=', '0.1854', 'loss=', '0.000679662')\n",
      "('Epoch:', '0019', 'training time (minutes)=', '0.1999', 'loss=', '0.000675415')\n",
      "('Epoch:', '0020', 'training time (minutes)=', '0.1588', 'loss=', '0.000660394')\n",
      "INFO:tensorflow:/orions4-zfs/projects/optas/DATA/OUT/iclr/nn_models/testing_ae_settings/chair_for_contrasting_neighbhors_2048_pts_bneck_64_chamfer/models.ckpt-20 is not in all_model_checkpoint_paths. Manually adding it.\n"
     ]
    },
    {
     "name": "stderr",
     "output_type": "stream",
     "text": [
      "INFO:tensorflow:/orions4-zfs/projects/optas/DATA/OUT/iclr/nn_models/testing_ae_settings/chair_for_contrasting_neighbhors_2048_pts_bneck_64_chamfer/models.ckpt-20 is not in all_model_checkpoint_paths. Manually adding it.\n"
     ]
    },
    {
     "name": "stdout",
     "output_type": "stream",
     "text": [
      "('Epoch:', '0021', 'training time (minutes)=', '0.1680', 'loss=', '0.000668769')\n",
      "('Epoch:', '0022', 'training time (minutes)=', '0.1710', 'loss=', '0.000640736')\n",
      "('Epoch:', '0023', 'training time (minutes)=', '0.2145', 'loss=', '0.000622472')\n",
      "('Epoch:', '0024', 'training time (minutes)=', '0.1883', 'loss=', '0.000618532')\n",
      "('Epoch:', '0025', 'training time (minutes)=', '0.1881', 'loss=', '0.000636324')\n",
      "('Epoch:', '0026', 'training time (minutes)=', '0.1782', 'loss=', '0.000604656')\n"
     ]
    },
    {
     "ename": "UnboundLocalError",
     "evalue": "local variable 'recon' referenced before assignment",
     "output_type": "error",
     "traceback": [
      "\u001b[1;31m---------------------------------------------------------------------------\u001b[0m",
      "\u001b[1;31mUnboundLocalError\u001b[0m                         Traceback (most recent call last)",
      "\u001b[1;32m<ipython-input-145-d32b23b54e3c>\u001b[0m in \u001b[0;36m<module>\u001b[1;34m()\u001b[0m\n\u001b[0;32m      2\u001b[0m     \u001b[0mbuf_size\u001b[0m \u001b[1;33m=\u001b[0m \u001b[1;36m1\u001b[0m \u001b[1;31m# flush each line\u001b[0m\u001b[1;33m\u001b[0m\u001b[0m\n\u001b[0;32m      3\u001b[0m     \u001b[0mfout\u001b[0m \u001b[1;33m=\u001b[0m \u001b[0mopen\u001b[0m\u001b[1;33m(\u001b[0m\u001b[0mosp\u001b[0m\u001b[1;33m.\u001b[0m\u001b[0mjoin\u001b[0m\u001b[1;33m(\u001b[0m\u001b[0mconf\u001b[0m\u001b[1;33m.\u001b[0m\u001b[0mtrain_dir\u001b[0m\u001b[1;33m,\u001b[0m \u001b[1;34m'train_stats.txt'\u001b[0m\u001b[1;33m)\u001b[0m\u001b[1;33m,\u001b[0m \u001b[1;34m'a'\u001b[0m\u001b[1;33m,\u001b[0m \u001b[0mbuf_size\u001b[0m\u001b[1;33m)\u001b[0m\u001b[1;33m\u001b[0m\u001b[0m\n\u001b[1;32m----> 4\u001b[1;33m     \u001b[0mtrain_stats\u001b[0m \u001b[1;33m=\u001b[0m \u001b[0mae\u001b[0m\u001b[1;33m.\u001b[0m\u001b[0mtrain\u001b[0m\u001b[1;33m(\u001b[0m\u001b[0mtrain_data\u001b[0m\u001b[1;33m,\u001b[0m \u001b[0mconf\u001b[0m\u001b[1;33m,\u001b[0m \u001b[0mlog_file\u001b[0m\u001b[1;33m=\u001b[0m\u001b[0mfout\u001b[0m\u001b[1;33m)\u001b[0m\u001b[1;33m\u001b[0m\u001b[0m\n\u001b[0m\u001b[0;32m      5\u001b[0m     \u001b[0mfout\u001b[0m\u001b[1;33m.\u001b[0m\u001b[0mclose\u001b[0m\u001b[1;33m(\u001b[0m\u001b[1;33m)\u001b[0m\u001b[1;33m\u001b[0m\u001b[0m\n",
      "\u001b[1;32m/orions4-zfs/projects/optas/Git_Repos/tf_lab/point_clouds/autoencoder.pyc\u001b[0m in \u001b[0;36mtrain\u001b[1;34m(self, train_data, configuration, log_file, held_out_data)\u001b[0m\n\u001b[0;32m    185\u001b[0m \u001b[1;33m\u001b[0m\u001b[0m\n\u001b[0;32m    186\u001b[0m         \u001b[1;32mfor\u001b[0m \u001b[0m_\u001b[0m \u001b[1;32min\u001b[0m \u001b[0mxrange\u001b[0m\u001b[1;33m(\u001b[0m\u001b[0mc\u001b[0m\u001b[1;33m.\u001b[0m\u001b[0mtraining_epochs\u001b[0m\u001b[1;33m)\u001b[0m\u001b[1;33m:\u001b[0m\u001b[1;33m\u001b[0m\u001b[0m\n\u001b[1;32m--> 187\u001b[1;33m             \u001b[0mloss\u001b[0m\u001b[1;33m,\u001b[0m \u001b[0mduration\u001b[0m \u001b[1;33m=\u001b[0m \u001b[0mself\u001b[0m\u001b[1;33m.\u001b[0m\u001b[0m_single_epoch_train\u001b[0m\u001b[1;33m(\u001b[0m\u001b[0mtrain_data\u001b[0m\u001b[1;33m,\u001b[0m \u001b[0mc\u001b[0m\u001b[1;33m)\u001b[0m\u001b[1;33m\u001b[0m\u001b[0m\n\u001b[0m\u001b[0;32m    188\u001b[0m             \u001b[0mepoch\u001b[0m \u001b[1;33m=\u001b[0m \u001b[0mint\u001b[0m\u001b[1;33m(\u001b[0m\u001b[0mself\u001b[0m\u001b[1;33m.\u001b[0m\u001b[0msess\u001b[0m\u001b[1;33m.\u001b[0m\u001b[0mrun\u001b[0m\u001b[1;33m(\u001b[0m\u001b[0mself\u001b[0m\u001b[1;33m.\u001b[0m\u001b[0mepoch\u001b[0m\u001b[1;33m.\u001b[0m\u001b[0massign_add\u001b[0m\u001b[1;33m(\u001b[0m\u001b[0mtf\u001b[0m\u001b[1;33m.\u001b[0m\u001b[0mconstant\u001b[0m\u001b[1;33m(\u001b[0m\u001b[1;36m1.0\u001b[0m\u001b[1;33m)\u001b[0m\u001b[1;33m)\u001b[0m\u001b[1;33m)\u001b[0m\u001b[1;33m)\u001b[0m\u001b[1;33m\u001b[0m\u001b[0m\n\u001b[0;32m    189\u001b[0m             \u001b[0mstats\u001b[0m\u001b[1;33m.\u001b[0m\u001b[0mappend\u001b[0m\u001b[1;33m(\u001b[0m\u001b[1;33m(\u001b[0m\u001b[0mepoch\u001b[0m\u001b[1;33m,\u001b[0m \u001b[0mloss\u001b[0m\u001b[1;33m,\u001b[0m \u001b[0mduration\u001b[0m\u001b[1;33m)\u001b[0m\u001b[1;33m)\u001b[0m\u001b[1;33m\u001b[0m\u001b[0m\n",
      "\u001b[1;32m/orions4-zfs/projects/optas/Git_Repos/tf_lab/point_clouds/point_net_ae.pyc\u001b[0m in \u001b[0;36m_single_epoch_train\u001b[1;34m(self, train_data, configuration, only_fw)\u001b[0m\n\u001b[0;32m    148\u001b[0m                 \u001b[0m_\u001b[0m\u001b[1;33m,\u001b[0m \u001b[0mloss\u001b[0m \u001b[1;33m=\u001b[0m \u001b[0mfit\u001b[0m\u001b[1;33m(\u001b[0m\u001b[0mbatch_i\u001b[0m\u001b[1;33m,\u001b[0m \u001b[0moriginal_data\u001b[0m\u001b[1;33m)\u001b[0m\u001b[1;33m\u001b[0m\u001b[0m\n\u001b[0;32m    149\u001b[0m             \u001b[1;32melse\u001b[0m\u001b[1;33m:\u001b[0m\u001b[1;33m\u001b[0m\u001b[0m\n\u001b[1;32m--> 150\u001b[1;33m                 \u001b[0m_\u001b[0m\u001b[1;33m,\u001b[0m \u001b[0mloss\u001b[0m \u001b[1;33m=\u001b[0m \u001b[0mfit\u001b[0m\u001b[1;33m(\u001b[0m\u001b[0mbatch_i\u001b[0m\u001b[1;33m)\u001b[0m\u001b[1;33m\u001b[0m\u001b[0m\n\u001b[0m\u001b[0;32m    151\u001b[0m \u001b[1;33m\u001b[0m\u001b[0m\n\u001b[0;32m    152\u001b[0m             \u001b[1;31m# Compute average loss\u001b[0m\u001b[1;33m\u001b[0m\u001b[1;33m\u001b[0m\u001b[0m\n",
      "\u001b[1;32m/orions4-zfs/projects/optas/Git_Repos/tf_lab/point_clouds/autoencoder.pyc\u001b[0m in \u001b[0;36mpartial_fit\u001b[1;34m(self, X, GT)\u001b[0m\n\u001b[0;32m    140\u001b[0m         \u001b[1;32mexcept\u001b[0m\u001b[1;33m:\u001b[0m\u001b[1;33m\u001b[0m\u001b[0m\n\u001b[0;32m    141\u001b[0m             \u001b[0mis_training\u001b[0m\u001b[1;33m(\u001b[0m\u001b[0mFalse\u001b[0m\u001b[1;33m,\u001b[0m \u001b[0msession\u001b[0m\u001b[1;33m=\u001b[0m\u001b[0mself\u001b[0m\u001b[1;33m.\u001b[0m\u001b[0msess\u001b[0m\u001b[1;33m)\u001b[0m\u001b[1;33m\u001b[0m\u001b[0m\n\u001b[1;32m--> 142\u001b[1;33m         \u001b[1;32mreturn\u001b[0m \u001b[0mrecon\u001b[0m\u001b[1;33m,\u001b[0m \u001b[0mloss\u001b[0m\u001b[1;33m\u001b[0m\u001b[0m\n\u001b[0m\u001b[0;32m    143\u001b[0m \u001b[1;33m\u001b[0m\u001b[0m\n\u001b[0;32m    144\u001b[0m     \u001b[1;32mdef\u001b[0m \u001b[0mreconstruct\u001b[0m\u001b[1;33m(\u001b[0m\u001b[0mself\u001b[0m\u001b[1;33m,\u001b[0m \u001b[0mX\u001b[0m\u001b[1;33m,\u001b[0m \u001b[0mGT\u001b[0m\u001b[1;33m=\u001b[0m\u001b[0mNone\u001b[0m\u001b[1;33m,\u001b[0m \u001b[0mcompute_loss\u001b[0m\u001b[1;33m=\u001b[0m\u001b[0mTrue\u001b[0m\u001b[1;33m)\u001b[0m\u001b[1;33m:\u001b[0m\u001b[1;33m\u001b[0m\u001b[0m\n",
      "\u001b[1;31mUnboundLocalError\u001b[0m: local variable 'recon' referenced before assignment"
     ]
    }
   ],
   "source": [
    "if do_training:\n",
    "    buf_size = 1 # flush each line\n",
    "    fout = open(osp.join(conf.train_dir, 'train_stats.txt'), 'a', buf_size)    \n",
    "    train_stats = ae.train(train_data, conf, log_file=fout)\n",
    "    fout.close()"
   ]
  }
 ],
 "metadata": {
  "kernelspec": {
   "display_name": "Python 2",
   "language": "python",
   "name": "python2"
  },
  "language_info": {
   "codemirror_mode": {
    "name": "ipython",
    "version": 2
   },
   "file_extension": ".py",
   "mimetype": "text/x-python",
   "name": "python",
   "nbconvert_exporter": "python",
   "pygments_lexer": "ipython2",
   "version": "2.7.6"
  }
 },
 "nbformat": 4,
 "nbformat_minor": 2
}
