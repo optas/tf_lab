{
 "cells": [
  {
   "cell_type": "code",
   "execution_count": 1,
   "metadata": {
    "collapsed": false
   },
   "outputs": [
    {
     "name": "stdout",
     "output_type": "stream",
     "text": [
      "Picking GPU 3\n"
     ]
    }
   ],
   "source": [
    "from general_tools.notebook.gpu_utils import setup_one_gpu\n",
    "GPU = 3\n",
    "setup_one_gpu(GPU)"
   ]
  },
  {
   "cell_type": "code",
   "execution_count": 2,
   "metadata": {
    "collapsed": false
   },
   "outputs": [],
   "source": [
    "import sys\n",
    "import time\n",
    "import numpy as np\n",
    "import os.path as osp\n",
    "import tensorflow as tf\n",
    "import matplotlib.pyplot as plt\n",
    "\n",
    "from general_tools.notebook.tf import reset_tf_graph\n",
    "from general_tools.in_out import create_dir\n",
    "from general_tools.in_out.basics import create_dir, delete_files_in_directory, files_in_subdirs\n",
    "\n",
    "from geo_tool import Point_Cloud\n",
    "\n",
    "from tf_lab.in_out.basics import Data_Splitter\n",
    "from tf_lab.point_clouds.ae_templates import conv_architecture_ala_nips_17, default_train_params_ala_nips_17\n",
    "from tf_lab.point_clouds.encoders_decoders import encoder_with_convs_and_symmetry, decoder_with_fc_only\n",
    "from tf_lab.point_clouds.point_net_ae import PointNetAutoEncoder\n",
    "from tf_lab.point_clouds.autoencoder import Configuration as Conf\n",
    "from tf_lab.point_clouds.in_out import load_point_clouds_from_filenames, PointCloudDataSet\n",
    "from tf_lab.data_sets.shape_net import pc_loader as snc_loader\n",
    "from tf_lab.data_sets.shape_net import snc_category_to_synth_id\n",
    "\n",
    "from pc_completions.evaluation import basic_comletion_measures"
   ]
  },
  {
   "cell_type": "code",
   "execution_count": 3,
   "metadata": {
    "collapsed": false
   },
   "outputs": [],
   "source": [
    "%load_ext autoreload\n",
    "%autoreload 2\n",
    "%matplotlib inline"
   ]
  },
  {
   "cell_type": "code",
   "execution_count": 4,
   "metadata": {
    "collapsed": true
   },
   "outputs": [],
   "source": [
    "n_pc_points = 4096\n",
    "top_data_dir = '/orions4-zfs/projects/optas/DATA/'\n",
    "top_pclouds_path = osp.join(top_data_dir, 'Point_Clouds/Shape_Net/Core/from_manifold_meshes/centered/', str(n_pc_points))"
   ]
  },
  {
   "cell_type": "code",
   "execution_count": 5,
   "metadata": {
    "collapsed": true
   },
   "outputs": [],
   "source": [
    "train_split = osp.join(top_data_dir, 'Point_Clouds/Shape_Net/Splits/single_class_splits/03001627/85_5_10/train.txt')\n",
    "val_split = osp.join(top_data_dir, 'Point_Clouds/Shape_Net/Splits/single_class_splits/03001627/85_5_10/val.txt')\n",
    "test_split = osp.join(top_data_dir, 'Point_Clouds/Shape_Net/Splits/single_class_splits/03001627/85_5_10/test.txt')\n",
    "\n",
    "\n",
    "# train_split = osp.join(top_data_dir, 'Point_Clouds/Shape_Net/Splits/wu_medium_size_splits/train.txt')\n",
    "# val_split = osp.join(top_data_dir, 'Point_Clouds/Shape_Net/Splits/wu_medium_size_splits/val.txt')\n",
    "# test_split = osp.join(top_data_dir, 'Point_Clouds/Shape_Net/Splits/wu_medium_size_splits/test.txt')\n",
    "\n",
    "\n",
    "# train_split = osp.join(top_data_dir, 'Point_Clouds/Shape_Net/Splits/wu_small_size_splits/train.txt')\n",
    "# val_split = osp.join(top_data_dir, 'Point_Clouds/Shape_Net/Splits/wu_small_size_splits/val.txt')\n",
    "# test_split = osp.join(top_data_dir, 'Point_Clouds/Shape_Net/Splits/wu_small_size_splits/test.txt')"
   ]
  },
  {
   "cell_type": "code",
   "execution_count": 6,
   "metadata": {
    "collapsed": true
   },
   "outputs": [],
   "source": [
    "do_training = True\n",
    "load_pretrained_model = False\n",
    "load_epoch = None\n",
    "random_seed = 42\n",
    "splitter = Data_Splitter(top_pclouds_path, data_file_ending='.ply', random_seed=random_seed)"
   ]
  },
  {
   "cell_type": "code",
   "execution_count": 7,
   "metadata": {
    "collapsed": false
   },
   "outputs": [],
   "source": [
    "bneck_size = 32\n",
    "loss = 'chamfer'"
   ]
  },
  {
   "cell_type": "code",
   "execution_count": 8,
   "metadata": {
    "collapsed": false
   },
   "outputs": [
    {
     "name": "stdout",
     "output_type": "stream",
     "text": [
      "5761 pclouds were loaded. They belong in 1 shape-classes.\n",
      "338 pclouds were loaded. They belong in 1 shape-classes.\n",
      "679 pclouds were loaded. They belong in 1 shape-classes.\n"
     ]
    }
   ],
   "source": [
    "tr_files = splitter.load_splits(train_split)\n",
    "pclouds, model_ids, syn_ids = load_point_clouds_from_filenames(tr_files, n_threads=20, loader=snc_loader, verbose=True)\n",
    "train_data = PointCloudDataSet(pclouds, labels=syn_ids + '_' + model_ids)\n",
    "\n",
    "val_files = splitter.load_splits(val_split)\n",
    "pclouds, model_ids, syn_ids = load_point_clouds_from_filenames(val_files, n_threads=20, loader=snc_loader, verbose=True)\n",
    "val_data = PointCloudDataSet(pclouds, labels=syn_ids + '_' + model_ids)\n",
    "\n",
    "test_files = splitter.load_splits(test_split)\n",
    "pclouds, model_ids, syn_ids = load_point_clouds_from_filenames(test_files, n_threads=20, loader=snc_loader, verbose=True)\n",
    "val_data = PointCloudDataSet(pclouds, labels=syn_ids + '_' + model_ids)"
   ]
  },
  {
   "cell_type": "code",
   "execution_count": 9,
   "metadata": {
    "collapsed": true
   },
   "outputs": [],
   "source": [
    "from tflearn.layers.conv import avg_pool_1d, max_pool_1d\n",
    "from tflearn.layers.core import fully_connected, dropout\n",
    "from tflearn.layers.conv import conv_1d\n",
    "from tflearn.layers.normalization import batch_normalization\n",
    "from tf_lab.fundamentals.utils import expand_scope_by_name, replicate_parameter_for_all_layers\n",
    "from functools import partial"
   ]
  },
  {
   "cell_type": "code",
   "execution_count": 10,
   "metadata": {
    "collapsed": false
   },
   "outputs": [],
   "source": [
    "def encoder_with_convs_and_pool(in_signal, n_filters=[64, 128, 256, 1024], filter_sizes=[1], strides=[1],\n",
    "                                    b_norm=True, spn=False, non_linearity=tf.nn.relu, regularizer=None, weight_decay=0.001,\n",
    "                                    symmetry=tf.reduce_max, dropout_prob=None, pool=None, pool_sizes=None, scope=None, reuse=False):\n",
    "    '''An Encoder (recognition network), which maps inputs onto a latent space.\n",
    "    '''\n",
    "    n_layers = len(n_filters)\n",
    "    filter_sizes = replicate_parameter_for_all_layers(filter_sizes, n_layers)\n",
    "    strides = replicate_parameter_for_all_layers(strides, n_layers)\n",
    "    dropout_prob = replicate_parameter_for_all_layers(dropout_prob, n_layers)\n",
    "\n",
    "    if n_layers < 2:\n",
    "        raise ValueError('More than 1 layers are expected.')\n",
    "\n",
    "    if spn:\n",
    "        raise NotImplementedError('')\n",
    "    \n",
    "    print n_filters\n",
    "    print filter_sizes\n",
    "    print pool_sizes\n",
    "        \n",
    "    for i in xrange(n_layers):\n",
    "        if i == 0:\n",
    "            layer = in_signal\n",
    "        \n",
    "        name = 'encoder_conv_layer_' + str(i)\n",
    "        scope_i = expand_scope_by_name(scope, name)\n",
    "        layer = conv_1d(layer, nb_filter=n_filters[i], filter_size=filter_sizes[i], strides=strides[i], regularizer=regularizer, weight_decay=weight_decay, name=name, reuse=reuse, scope=scope_i)\n",
    "\n",
    "        if b_norm:\n",
    "            name += '_bnorm'\n",
    "            scope_i = expand_scope_by_name(scope, name)\n",
    "            layer = batch_normalization(layer, name=name, reuse=reuse, scope=scope_i)\n",
    "\n",
    "        layer = non_linearity(layer)\n",
    "\n",
    "        if pool is not None:\n",
    "            if pool_sizes[i] is not None:\n",
    "                layer = pool(layer, kernel_size=pool_sizes[i])\n",
    "\n",
    "        if dropout_prob is not None and dropout_prob[i] > 0:\n",
    "            layer = dropout(layer, 1.0 - dropout_prob[i])\n",
    "            \n",
    "        print layer, np.prod(layer.get_shape().as_list()[1:])\n",
    "        \n",
    "    if symmetry is not None:\n",
    "        layer = symmetry(layer, axis=1)\n",
    "        print layer, np.prod(layer.get_shape().as_list()[1:])\n",
    "        \n",
    "    return layer"
   ]
  },
  {
   "cell_type": "code",
   "execution_count": 37,
   "metadata": {
    "collapsed": false
   },
   "outputs": [],
   "source": [
    "b_norm = True\n",
    "decoder_args = {'layer_sizes': [bneck_size, 256, 512, n_pc_points*3], 'b_norm': b_norm}"
   ]
  },
  {
   "cell_type": "code",
   "execution_count": 44,
   "metadata": {
    "collapsed": false
   },
   "outputs": [],
   "source": [
    "encoder_args = {'n_filters': [64, 128, 128, 256, 256],\n",
    "                'filter_sizes': [2, 2, 2, 2, 2],\n",
    "                'strides': [1, 1, 1, 1, 1],\n",
    "                'b_norm': b_norm,\n",
    "                'pool': None,\n",
    "                'pool_sizes': [2, None, 2, None, 2],\n",
    "                }"
   ]
  },
  {
   "cell_type": "code",
   "execution_count": 45,
   "metadata": {
    "collapsed": false
   },
   "outputs": [],
   "source": [
    "v = 1\n",
    "v = str(v)"
   ]
  },
  {
   "cell_type": "code",
   "execution_count": 46,
   "metadata": {
    "collapsed": false
   },
   "outputs": [
    {
     "data": {
      "text/plain": [
       "'/orions4-zfs/projects/optas/DATA/OUT/iclr/nn_models/testing_ae_settings/chair_exp_neighborhood_size_v_1_4096_pts_bneck_32_chamfer'"
      ]
     },
     "execution_count": 46,
     "metadata": {},
     "output_type": "execute_result"
    }
   ],
   "source": [
    "experiment_id = 'neighborhood_size_v_' + v\n",
    "experiment_name = '_'.join(['chair', 'exp', experiment_id, str(n_pc_points),\n",
    "                            'pts_bneck', str(bneck_size), loss\n",
    "                           ])\n",
    "\n",
    "train_dir = osp.join(top_data_dir, 'OUT/iclr/nn_models/testing_ae_settings', experiment_name)\n",
    "create_dir(train_dir)"
   ]
  },
  {
   "cell_type": "code",
   "execution_count": 47,
   "metadata": {
    "collapsed": false
   },
   "outputs": [],
   "source": [
    "if load_pretrained_model:\n",
    "    conf = Conf.load(osp.join(train_dir, 'configuration'))\n",
    "    print conf\n",
    "    if conf.train_dir != train_dir:\n",
    "        conf.train_dir = train_dir\n",
    "    conf.save(osp.join(train_dir, 'configuration'))\n",
    "else:\n",
    "    conf = Conf(\n",
    "                n_input = [n_pc_points, 3],\n",
    "                loss = loss,\n",
    "                training_epochs = 100,\n",
    "                batch_size = 50,\n",
    "                denoising = False,\n",
    "                learning_rate = 0.0005,\n",
    "                train_dir = train_dir,             \n",
    "                loss_display_step = 1,\n",
    "                saver_step = None ,\n",
    "                z_rotate = False,\n",
    "                encoder = encoder_with_convs_and_pool, \n",
    "                decoder = decoder_with_fc_only,\n",
    "                encoder_args = encoder_args,\n",
    "                decoder_args = decoder_args\n",
    "               )\n",
    "    \n",
    "    conf.experiment_name = experiment_name\n",
    "    conf.held_out_step = 5\n",
    "    conf.save(osp.join(conf.train_dir, 'configuration'))"
   ]
  },
  {
   "cell_type": "code",
   "execution_count": 48,
   "metadata": {
    "collapsed": false
   },
   "outputs": [
    {
     "name": "stdout",
     "output_type": "stream",
     "text": [
      "[64, 128, 128, 256, 256]\n",
      "[2, 2, 2, 2, 2]\n",
      "[2, None, 2, None, 2]\n",
      "Tensor(\"chair_exp_neighborhood_size_v_1_4096_pts_bneck_32_chamfer_1/Relu:0\", shape=(?, 4096, 64), dtype=float32) 262144\n",
      "Tensor(\"chair_exp_neighborhood_size_v_1_4096_pts_bneck_32_chamfer_1/Relu_1:0\", shape=(?, 4096, 128), dtype=float32) 524288\n",
      "Tensor(\"chair_exp_neighborhood_size_v_1_4096_pts_bneck_32_chamfer_1/Relu_2:0\", shape=(?, 4096, 128), dtype=float32) 524288\n",
      "Tensor(\"chair_exp_neighborhood_size_v_1_4096_pts_bneck_32_chamfer_1/Relu_3:0\", shape=(?, 4096, 256), dtype=float32) 1048576\n",
      "Tensor(\"chair_exp_neighborhood_size_v_1_4096_pts_bneck_32_chamfer_1/Relu_4:0\", shape=(?, 4096, 256), dtype=float32) 1048576\n",
      "Tensor(\"chair_exp_neighborhood_size_v_1_4096_pts_bneck_32_chamfer_1/Max:0\", shape=(?, 256), dtype=float32) 256\n",
      "6702240\n"
     ]
    }
   ],
   "source": [
    "reset_tf_graph()\n",
    "ae = PointNetAutoEncoder(conf.experiment_name, conf)\n",
    "print ae.trainable_parameters()"
   ]
  },
  {
   "cell_type": "code",
   "execution_count": 49,
   "metadata": {
    "collapsed": false,
    "scrolled": false
   },
   "outputs": [
    {
     "name": "stdout",
     "output_type": "stream",
     "text": [
      "('Epoch:', '0001', 'training time (minutes)=', '0.3271', 'loss=', '0.004424242')\n",
      "('Epoch:', '0002', 'training time (minutes)=', '0.3110', 'loss=', '0.002460822')\n",
      "('Epoch:', '0003', 'training time (minutes)=', '0.3127', 'loss=', '0.002259271')\n",
      "('Epoch:', '0004', 'training time (minutes)=', '0.3141', 'loss=', '0.002062629')\n",
      "('Epoch:', '0005', 'training time (minutes)=', '0.3151', 'loss=', '0.002022242')\n",
      "('Held Out Data :', 'forward time (minutes)=', '0.0107', 'loss=', '0.001774628')\n",
      "('Epoch:', '0006', 'training time (minutes)=', '0.3251', 'loss=', '0.001847499')\n",
      "('Epoch:', '0007', 'training time (minutes)=', '0.3245', 'loss=', '0.001736550')\n",
      "('Epoch:', '0008', 'training time (minutes)=', '0.3238', 'loss=', '0.001731049')\n",
      "('Epoch:', '0009', 'training time (minutes)=', '0.3293', 'loss=', '0.001612320')\n",
      "('Epoch:', '0010', 'training time (minutes)=', '0.3272', 'loss=', '0.001476391')\n",
      "('Held Out Data :', 'forward time (minutes)=', '0.0099', 'loss=', '0.001321990')\n",
      "('Epoch:', '0011', 'training time (minutes)=', '0.3278', 'loss=', '0.001465583')\n",
      "('Epoch:', '0012', 'training time (minutes)=', '0.3243', 'loss=', '0.001384725')\n",
      "('Epoch:', '0013', 'training time (minutes)=', '0.3269', 'loss=', '0.001392451')\n",
      "('Epoch:', '0014', 'training time (minutes)=', '0.3259', 'loss=', '0.001312398')\n",
      "('Epoch:', '0015', 'training time (minutes)=', '0.3261', 'loss=', '0.001295122')\n",
      "('Held Out Data :', 'forward time (minutes)=', '0.0098', 'loss=', '0.001149119')\n",
      "('Epoch:', '0016', 'training time (minutes)=', '0.3251', 'loss=', '0.001217737')\n",
      "('Epoch:', '0017', 'training time (minutes)=', '0.3249', 'loss=', '0.001184846')\n",
      "('Epoch:', '0018', 'training time (minutes)=', '0.3289', 'loss=', '0.001197989')\n",
      "('Epoch:', '0019', 'training time (minutes)=', '0.3248', 'loss=', '0.001149165')\n",
      "('Epoch:', '0020', 'training time (minutes)=', '0.3262', 'loss=', '0.001121607')\n",
      "('Held Out Data :', 'forward time (minutes)=', '0.0106', 'loss=', '0.001028523')\n",
      "('Epoch:', '0021', 'training time (minutes)=', '0.3274', 'loss=', '0.001117059')\n",
      "('Epoch:', '0022', 'training time (minutes)=', '0.3256', 'loss=', '0.001086045')\n",
      "('Epoch:', '0023', 'training time (minutes)=', '0.3262', 'loss=', '0.001070906')\n",
      "('Epoch:', '0024', 'training time (minutes)=', '0.3279', 'loss=', '0.001047870')\n",
      "('Epoch:', '0025', 'training time (minutes)=', '0.3286', 'loss=', '0.001045347')\n",
      "('Held Out Data :', 'forward time (minutes)=', '0.0099', 'loss=', '0.000936955')\n",
      "('Epoch:', '0026', 'training time (minutes)=', '0.3283', 'loss=', '0.000998355')\n",
      "('Epoch:', '0027', 'training time (minutes)=', '0.3257', 'loss=', '0.001002321')\n",
      "('Epoch:', '0028', 'training time (minutes)=', '0.3280', 'loss=', '0.000989746')\n",
      "('Epoch:', '0029', 'training time (minutes)=', '0.3266', 'loss=', '0.000986694')\n",
      "('Epoch:', '0030', 'training time (minutes)=', '0.3283', 'loss=', '0.000978878')\n",
      "('Held Out Data :', 'forward time (minutes)=', '0.0100', 'loss=', '0.000914893')\n",
      "('Epoch:', '0031', 'training time (minutes)=', '0.3265', 'loss=', '0.000969059')\n",
      "('Epoch:', '0032', 'training time (minutes)=', '0.3287', 'loss=', '0.000957560')\n",
      "('Epoch:', '0033', 'training time (minutes)=', '0.3256', 'loss=', '0.000952866')\n",
      "('Epoch:', '0034', 'training time (minutes)=', '0.3256', 'loss=', '0.000934512')\n",
      "('Epoch:', '0035', 'training time (minutes)=', '0.3248', 'loss=', '0.000933848')\n",
      "('Held Out Data :', 'forward time (minutes)=', '0.0100', 'loss=', '0.000895712')\n",
      "('Epoch:', '0036', 'training time (minutes)=', '0.3280', 'loss=', '0.000926664')\n",
      "('Epoch:', '0037', 'training time (minutes)=', '0.3262', 'loss=', '0.000916098')\n",
      "('Epoch:', '0038', 'training time (minutes)=', '0.3235', 'loss=', '0.000898529')\n",
      "('Epoch:', '0039', 'training time (minutes)=', '0.3277', 'loss=', '0.000889918')\n",
      "('Epoch:', '0040', 'training time (minutes)=', '0.3248', 'loss=', '0.000884501')\n",
      "('Held Out Data :', 'forward time (minutes)=', '0.0099', 'loss=', '0.000819137')\n",
      "('Epoch:', '0041', 'training time (minutes)=', '0.3280', 'loss=', '0.000851213')\n",
      "('Epoch:', '0042', 'training time (minutes)=', '0.3270', 'loss=', '0.000866318')\n",
      "('Epoch:', '0043', 'training time (minutes)=', '0.3268', 'loss=', '0.000861326')\n",
      "('Epoch:', '0044', 'training time (minutes)=', '0.3254', 'loss=', '0.000858288')\n",
      "('Epoch:', '0045', 'training time (minutes)=', '0.3247', 'loss=', '0.000843190')\n",
      "('Held Out Data :', 'forward time (minutes)=', '0.0100', 'loss=', '0.000800407')\n",
      "('Epoch:', '0046', 'training time (minutes)=', '0.3283', 'loss=', '0.000819416')\n",
      "('Epoch:', '0047', 'training time (minutes)=', '0.3273', 'loss=', '0.000822252')\n",
      "('Epoch:', '0048', 'training time (minutes)=', '0.3263', 'loss=', '0.000834756')\n",
      "('Epoch:', '0049', 'training time (minutes)=', '0.3251', 'loss=', '0.000819459')\n",
      "('Epoch:', '0050', 'training time (minutes)=', '0.3242', 'loss=', '0.000806548')\n",
      "('Held Out Data :', 'forward time (minutes)=', '0.0101', 'loss=', '0.000765070')\n",
      "('Epoch:', '0051', 'training time (minutes)=', '0.3328', 'loss=', '0.000808251')\n",
      "('Epoch:', '0052', 'training time (minutes)=', '0.3235', 'loss=', '0.000805719')\n",
      "('Epoch:', '0053', 'training time (minutes)=', '0.3245', 'loss=', '0.000796538')\n",
      "('Epoch:', '0054', 'training time (minutes)=', '0.3288', 'loss=', '0.000884205')\n",
      "('Epoch:', '0055', 'training time (minutes)=', '0.3270', 'loss=', '0.000822489')\n",
      "('Held Out Data :', 'forward time (minutes)=', '0.0105', 'loss=', '0.000779432')\n",
      "('Epoch:', '0056', 'training time (minutes)=', '0.3243', 'loss=', '0.000829067')\n",
      "('Epoch:', '0057', 'training time (minutes)=', '0.3259', 'loss=', '0.000816108')\n",
      "('Epoch:', '0058', 'training time (minutes)=', '0.3273', 'loss=', '0.000774983')\n",
      "('Epoch:', '0059', 'training time (minutes)=', '0.3241', 'loss=', '0.000788300')\n",
      "('Epoch:', '0060', 'training time (minutes)=', '0.3259', 'loss=', '0.000767398')\n",
      "('Held Out Data :', 'forward time (minutes)=', '0.0101', 'loss=', '0.000736745')\n",
      "('Epoch:', '0061', 'training time (minutes)=', '0.3266', 'loss=', '0.000769200')\n",
      "('Epoch:', '0062', 'training time (minutes)=', '0.3245', 'loss=', '0.000762733')\n",
      "('Epoch:', '0063', 'training time (minutes)=', '0.3269', 'loss=', '0.000749800')\n",
      "('Epoch:', '0064', 'training time (minutes)=', '0.3267', 'loss=', '0.000764911')\n",
      "('Epoch:', '0065', 'training time (minutes)=', '0.3243', 'loss=', '0.000756762')\n",
      "('Held Out Data :', 'forward time (minutes)=', '0.0103', 'loss=', '0.000737041')\n",
      "('Epoch:', '0066', 'training time (minutes)=', '0.3227', 'loss=', '0.000735762')\n",
      "('Epoch:', '0067', 'training time (minutes)=', '0.3295', 'loss=', '0.000725794')\n",
      "('Epoch:', '0068', 'training time (minutes)=', '0.3272', 'loss=', '0.000736239')\n",
      "('Epoch:', '0069', 'training time (minutes)=', '0.3256', 'loss=', '0.000725412')\n",
      "('Epoch:', '0070', 'training time (minutes)=', '0.3249', 'loss=', '0.000747328')\n",
      "('Held Out Data :', 'forward time (minutes)=', '0.0106', 'loss=', '0.000740884')\n",
      "('Epoch:', '0071', 'training time (minutes)=', '0.3244', 'loss=', '0.000711683')\n",
      "('Epoch:', '0072', 'training time (minutes)=', '0.3277', 'loss=', '0.000716392')\n",
      "('Epoch:', '0073', 'training time (minutes)=', '0.3273', 'loss=', '0.000704500')\n",
      "('Epoch:', '0074', 'training time (minutes)=', '0.3230', 'loss=', '0.000707899')\n",
      "('Epoch:', '0075', 'training time (minutes)=', '0.3260', 'loss=', '0.000706757')\n",
      "('Held Out Data :', 'forward time (minutes)=', '0.0098', 'loss=', '0.000720365')\n",
      "('Epoch:', '0076', 'training time (minutes)=', '0.3272', 'loss=', '0.000683934')\n",
      "('Epoch:', '0077', 'training time (minutes)=', '0.3261', 'loss=', '0.000699464')\n",
      "('Epoch:', '0078', 'training time (minutes)=', '0.3252', 'loss=', '0.000690005')\n",
      "('Epoch:', '0079', 'training time (minutes)=', '0.3279', 'loss=', '0.000691158')\n",
      "('Epoch:', '0080', 'training time (minutes)=', '0.3274', 'loss=', '0.000682614')\n",
      "('Held Out Data :', 'forward time (minutes)=', '0.0107', 'loss=', '0.000697324')\n",
      "('Epoch:', '0081', 'training time (minutes)=', '0.3244', 'loss=', '0.000696560')\n",
      "('Epoch:', '0082', 'training time (minutes)=', '0.3275', 'loss=', '0.000689241')\n",
      "('Epoch:', '0083', 'training time (minutes)=', '0.3279', 'loss=', '0.000677289')\n",
      "('Epoch:', '0084', 'training time (minutes)=', '0.3242', 'loss=', '0.000677454')\n",
      "('Epoch:', '0085', 'training time (minutes)=', '0.3264', 'loss=', '0.000681205')\n",
      "('Held Out Data :', 'forward time (minutes)=', '0.0104', 'loss=', '0.000692332')\n",
      "('Epoch:', '0086', 'training time (minutes)=', '0.3253', 'loss=', '0.000664803')\n",
      "('Epoch:', '0087', 'training time (minutes)=', '0.3276', 'loss=', '0.000676023')\n",
      "('Epoch:', '0088', 'training time (minutes)=', '0.3247', 'loss=', '0.000666026')\n",
      "('Epoch:', '0089', 'training time (minutes)=', '0.3237', 'loss=', '0.000677269')\n",
      "('Epoch:', '0090', 'training time (minutes)=', '0.3257', 'loss=', '0.000651860')\n",
      "('Held Out Data :', 'forward time (minutes)=', '0.0099', 'loss=', '0.000677462')\n",
      "('Epoch:', '0091', 'training time (minutes)=', '0.3246', 'loss=', '0.000640222')\n",
      "('Epoch:', '0092', 'training time (minutes)=', '0.3243', 'loss=', '0.000656551')\n",
      "('Epoch:', '0093', 'training time (minutes)=', '0.3273', 'loss=', '0.000655405')\n",
      "('Epoch:', '0094', 'training time (minutes)=', '0.3238', 'loss=', '0.000642929')\n",
      "('Epoch:', '0095', 'training time (minutes)=', '0.3245', 'loss=', '0.000640928')\n",
      "('Held Out Data :', 'forward time (minutes)=', '0.0100', 'loss=', '0.000669864')\n",
      "('Epoch:', '0096', 'training time (minutes)=', '0.3260', 'loss=', '0.000651323')\n",
      "('Epoch:', '0097', 'training time (minutes)=', '0.3291', 'loss=', '0.000627480')\n",
      "('Epoch:', '0098', 'training time (minutes)=', '0.3269', 'loss=', '0.000642910')\n",
      "('Epoch:', '0099', 'training time (minutes)=', '0.3238', 'loss=', '0.000632160')\n",
      "('Epoch:', '0100', 'training time (minutes)=', '0.3250', 'loss=', '0.000637676')\n",
      "('Held Out Data :', 'forward time (minutes)=', '0.0098', 'loss=', '0.000651056')\n"
     ]
    }
   ],
   "source": [
    "if do_training:\n",
    "    buf_size = 1 # flush each line\n",
    "    fout = open(osp.join(conf.train_dir, 'train_stats.txt'), 'a', buf_size)    \n",
    "    train_stats = ae.train(train_data, conf, log_file=fout, held_out_data=val_data)\n",
    "    fout.close()"
   ]
  }
 ],
 "metadata": {
  "kernelspec": {
   "display_name": "Python 2",
   "language": "python",
   "name": "python2"
  },
  "language_info": {
   "codemirror_mode": {
    "name": "ipython",
    "version": 2
   },
   "file_extension": ".py",
   "mimetype": "text/x-python",
   "name": "python",
   "nbconvert_exporter": "python",
   "pygments_lexer": "ipython2",
   "version": "2.7.6"
  }
 },
 "nbformat": 4,
 "nbformat_minor": 0
}
