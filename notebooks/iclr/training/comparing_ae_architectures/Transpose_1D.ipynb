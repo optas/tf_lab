{
 "cells": [
  {
   "cell_type": "code",
   "execution_count": 2,
   "metadata": {
    "collapsed": false
   },
   "outputs": [
    {
     "name": "stdout",
     "output_type": "stream",
     "text": [
      "Picking GPU 1\n"
     ]
    }
   ],
   "source": [
    "from general_tools.notebook.gpu_utils import setup_one_gpu\n",
    "GPU = 1\n",
    "setup_one_gpu(GPU)"
   ]
  },
  {
   "cell_type": "code",
   "execution_count": 3,
   "metadata": {
    "collapsed": true
   },
   "outputs": [],
   "source": [
    "import tensorflow as tf\n",
    "import tflearn\n",
    "import numpy as np"
   ]
  },
  {
   "cell_type": "code",
   "execution_count": 6,
   "metadata": {
    "collapsed": false
   },
   "outputs": [],
   "source": [
    "batch_size = 1\n",
    "\n",
    "# The second entry is the most relevant one\n",
    "strides = [1, 2, 1, 1]\n",
    "\n",
    "# nfilters aka 'depth'\n",
    "nfilters_out = 1\n",
    "nfilters_in = 1\n",
    "\n",
    "output_shape = [batch_size, 5, 1, nfilters_out]\n",
    "\n",
    "# The input signal\n",
    "l = tf.constant(\n",
    "    np.array([3., 4., 5.],dtype='f4'),\n",
    "    shape=[batch_size, 3, 1, nfilters_in]\n",
    ")\n",
    "# The convolution weights\n",
    "w = tf.constant(\n",
    "    np.array([0.5, 0.5], dtype='f4'),\n",
    "    shape=[2, 1, nfilters_out, nfilters_in]\n",
    ")\n",
    "# h1 = tf.nn.conv2d_transpose(l, w, output_shape=output_shape, strides=strides, padding='SAME')\n",
    "# print sess.run(h1)"
   ]
  },
  {
   "cell_type": "code",
   "execution_count": 7,
   "metadata": {
    "collapsed": true
   },
   "outputs": [],
   "source": [
    "from tf_lab.fundamentals.layers import conv_1d_tranpose\n",
    "from tflearn.layers.conv import conv_1d"
   ]
  },
  {
   "cell_type": "code",
   "execution_count": 8,
   "metadata": {
    "collapsed": false
   },
   "outputs": [],
   "source": [
    "%load_ext autoreload\n",
    "%autoreload 2\n",
    "%matplotlib inline"
   ]
  },
  {
   "cell_type": "code",
   "execution_count": 9,
   "metadata": {
    "collapsed": true
   },
   "outputs": [],
   "source": [
    "sess = tf.Session()"
   ]
  },
  {
   "cell_type": "code",
   "execution_count": 53,
   "metadata": {
    "collapsed": false
   },
   "outputs": [
    {
     "data": {
      "text/plain": [
       "-0.56272284"
      ]
     },
     "execution_count": 53,
     "metadata": {},
     "output_type": "execute_result"
    }
   ],
   "source": [
    "-0.82902008*3 +  0.48108435*4"
   ]
  },
  {
   "cell_type": "code",
   "execution_count": 51,
   "metadata": {
    "collapsed": false
   },
   "outputs": [
    {
     "name": "stdout",
     "output_type": "stream",
     "text": [
      "[array([[[[-0.82902008]]],\n",
      "\n",
      "\n",
      "       [[[ 0.48108435]]]], dtype=float32), array([[[ 0.13314861],\n",
      "        [-0.56272292]]], dtype=float32)]\n"
     ]
    }
   ],
   "source": [
    "batch_size =1  \n",
    "\n",
    "# w = tf.constant(np.array([0.5, 0.5, 0.5], dtype='f4'), shape=[3, 1, 1, 1] )\n",
    "\n",
    "incoming = tf.constant(np.array([1., 2., 3., 4., 5.], dtype='f4'), shape=[batch_size, 5, 1] )\n",
    "\n",
    "h1 = conv_1d(incoming, nb_filter=1, filter_size=2, strides=2, bias=False, padding='valid')\n",
    "\n",
    "sess.run(tf.global_variables_initializer())\n",
    "\n",
    "# print sess.run(h1)\n",
    "print sess.run([h1.W, h1])\n",
    "# h1.W\n"
   ]
  },
  {
   "cell_type": "code",
   "execution_count": 64,
   "metadata": {
    "collapsed": false
   },
   "outputs": [
    {
     "name": "stdout",
     "output_type": "stream",
     "text": [
      "(1, 3, 1, 1)\n"
     ]
    }
   ],
   "source": [
    "output = tf.constant(0.1, shape=output_shape)\n",
    "expected_l = tf.nn.conv2d(output, w, strides=strides, padding='SAME')\n",
    "print expected_l.get_shape()\n",
    "# Prints (3, 4, 4, 4)"
   ]
  }
 ],
 "metadata": {
  "kernelspec": {
   "display_name": "Python 2",
   "language": "python",
   "name": "python2"
  },
  "language_info": {
   "codemirror_mode": {
    "name": "ipython",
    "version": 2
   },
   "file_extension": ".py",
   "mimetype": "text/x-python",
   "name": "python",
   "nbconvert_exporter": "python",
   "pygments_lexer": "ipython2",
   "version": "2.7.6"
  }
 },
 "nbformat": 4,
 "nbformat_minor": 0
}
