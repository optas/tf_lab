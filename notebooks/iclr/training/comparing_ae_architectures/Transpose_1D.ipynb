{
 "cells": [
  {
   "cell_type": "code",
   "execution_count": 2,
   "metadata": {
    "collapsed": true
   },
   "outputs": [],
   "source": [
    "import tensorflow as tf\n",
    "import tflearn\n",
    "import numpy as np"
   ]
  },
  {
   "cell_type": "code",
   "execution_count": 3,
   "metadata": {
    "collapsed": false
   },
   "outputs": [],
   "source": [
    "sess = tf.Session()"
   ]
  },
  {
   "cell_type": "code",
   "execution_count": 4,
   "metadata": {
    "collapsed": false
   },
   "outputs": [],
   "source": [
    "batch_size = 1\n",
    "\n",
    "# The second entry is the most relevant one\n",
    "strides = [1, 2, 1, 1]\n",
    "\n",
    "# nfilters aka 'depth'\n",
    "nfilters_out = 1\n",
    "nfilters_in = 1\n",
    "\n",
    "output_shape = [batch_size, 5, 1, nfilters_out]\n",
    "\n",
    "# The input signal\n",
    "l = tf.constant(\n",
    "    np.array([3., 4., 5.],dtype='f4'),\n",
    "    shape=[batch_size, 3, 1, nfilters_in]\n",
    ")\n",
    "# The convolution weights\n",
    "w = tf.constant(\n",
    "    np.array([0.5, 0.5], dtype='f4'),\n",
    "    shape=[2, 1, nfilters_out, nfilters_in]\n",
    ")"
   ]
  },
  {
   "cell_type": "code",
   "execution_count": 5,
   "metadata": {
    "collapsed": false
   },
   "outputs": [
    {
     "name": "stdout",
     "output_type": "stream",
     "text": [
      "[[[[ 1.5]]\n",
      "\n",
      "  [[ 1.5]]\n",
      "\n",
      "  [[ 2. ]]\n",
      "\n",
      "  [[ 2. ]]\n",
      "\n",
      "  [[ 2.5]]]]\n"
     ]
    }
   ],
   "source": [
    "h1 = tf.nn.conv2d_transpose(l, w, output_shape=output_shape, strides=strides, padding='SAME')\n",
    "print sess.run(h1)"
   ]
  },
  {
   "cell_type": "code",
   "execution_count": 64,
   "metadata": {
    "collapsed": false
   },
   "outputs": [
    {
     "name": "stdout",
     "output_type": "stream",
     "text": [
      "(1, 3, 1, 1)\n"
     ]
    }
   ],
   "source": [
    "output = tf.constant(0.1, shape=output_shape)\n",
    "expected_l = tf.nn.conv2d(output, w, strides=strides, padding='SAME')\n",
    "print expected_l.get_shape()\n",
    "# Prints (3, 4, 4, 4)"
   ]
  }
 ],
 "metadata": {
  "kernelspec": {
   "display_name": "Python 2",
   "language": "python",
   "name": "python2"
  },
  "language_info": {
   "codemirror_mode": {
    "name": "ipython",
    "version": 2
   },
   "file_extension": ".py",
   "mimetype": "text/x-python",
   "name": "python",
   "nbconvert_exporter": "python",
   "pygments_lexer": "ipython2",
   "version": "2.7.6"
  }
 },
 "nbformat": 4,
 "nbformat_minor": 0
}
