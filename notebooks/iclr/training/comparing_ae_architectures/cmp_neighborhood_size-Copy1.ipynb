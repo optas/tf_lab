{
 "cells": [
  {
   "cell_type": "code",
   "execution_count": 1,
   "metadata": {
    "collapsed": false
   },
   "outputs": [
    {
     "name": "stdout",
     "output_type": "stream",
     "text": [
      "Picking GPU 2\n"
     ]
    }
   ],
   "source": [
    "from general_tools.notebook.gpu_utils import setup_one_gpu\n",
    "GPU = 2\n",
    "setup_one_gpu(GPU)"
   ]
  },
  {
   "cell_type": "code",
   "execution_count": 2,
   "metadata": {
    "collapsed": false
   },
   "outputs": [],
   "source": [
    "import sys\n",
    "import time\n",
    "import numpy as np\n",
    "import os.path as osp\n",
    "import tensorflow as tf\n",
    "import matplotlib.pyplot as plt\n",
    "\n",
    "from general_tools.notebook.tf import reset_tf_graph\n",
    "from general_tools.in_out import create_dir\n",
    "from general_tools.in_out.basics import create_dir, delete_files_in_directory, files_in_subdirs\n",
    "\n",
    "from geo_tool import Point_Cloud\n",
    "\n",
    "from tf_lab.in_out.basics import Data_Splitter\n",
    "from tf_lab.point_clouds.ae_templates import conv_architecture_ala_nips_17, default_train_params_ala_nips_17\n",
    "from tf_lab.point_clouds.encoders_decoders import encoder_with_convs_and_symmetry, decoder_with_fc_only\n",
    "from tf_lab.point_clouds.point_net_ae import PointNetAutoEncoder\n",
    "from tf_lab.point_clouds.autoencoder import Configuration as Conf\n",
    "from tf_lab.point_clouds.in_out import load_point_clouds_from_filenames, PointCloudDataSet\n",
    "from tf_lab.data_sets.shape_net import pc_loader as snc_loader\n",
    "from tf_lab.data_sets.shape_net import snc_category_to_synth_id\n",
    "\n",
    "from pc_completions.evaluation import basic_comletion_measures"
   ]
  },
  {
   "cell_type": "code",
   "execution_count": 3,
   "metadata": {
    "collapsed": false
   },
   "outputs": [],
   "source": [
    "%load_ext autoreload\n",
    "%autoreload 2\n",
    "%matplotlib inline"
   ]
  },
  {
   "cell_type": "code",
   "execution_count": 5,
   "metadata": {
    "collapsed": true
   },
   "outputs": [],
   "source": [
    "n_pc_points = 4096\n",
    "top_data_dir = '/orions4-zfs/projects/optas/DATA/'\n",
    "top_pclouds_path = osp.join(top_data_dir, 'Point_Clouds/Shape_Net/Core/from_manifold_meshes/centered/', str(n_pc_points))"
   ]
  },
  {
   "cell_type": "code",
   "execution_count": 6,
   "metadata": {
    "collapsed": true
   },
   "outputs": [],
   "source": [
    "train_split = osp.join(top_data_dir, 'Point_Clouds/Shape_Net/Splits/single_class_splits/03001627/85_5_10/train.txt')\n",
    "val_split = osp.join(top_data_dir, 'Point_Clouds/Shape_Net/Splits/single_class_splits/03001627/85_5_10/val.txt')\n",
    "test_split = osp.join(top_data_dir, 'Point_Clouds/Shape_Net/Splits/single_class_splits/03001627/85_5_10/test.txt')\n",
    "\n",
    "\n",
    "# train_split = osp.join(top_data_dir, 'Point_Clouds/Shape_Net/Splits/wu_medium_size_splits/train.txt')\n",
    "# val_split = osp.join(top_data_dir, 'Point_Clouds/Shape_Net/Splits/wu_medium_size_splits/val.txt')\n",
    "# test_split = osp.join(top_data_dir, 'Point_Clouds/Shape_Net/Splits/wu_medium_size_splits/test.txt')\n",
    "\n",
    "\n",
    "# train_split = osp.join(top_data_dir, 'Point_Clouds/Shape_Net/Splits/wu_small_size_splits/train.txt')\n",
    "# val_split = osp.join(top_data_dir, 'Point_Clouds/Shape_Net/Splits/wu_small_size_splits/val.txt')\n",
    "# test_split = osp.join(top_data_dir, 'Point_Clouds/Shape_Net/Splits/wu_small_size_splits/test.txt')"
   ]
  },
  {
   "cell_type": "code",
   "execution_count": 7,
   "metadata": {
    "collapsed": true
   },
   "outputs": [],
   "source": [
    "do_training = True\n",
    "load_pretrained_model = False\n",
    "load_epoch = None\n",
    "random_seed = 42\n",
    "splitter = Data_Splitter(top_pclouds_path, data_file_ending='.ply', random_seed=random_seed)"
   ]
  },
  {
   "cell_type": "code",
   "execution_count": 8,
   "metadata": {
    "collapsed": false
   },
   "outputs": [],
   "source": [
    "bneck_size = 32\n",
    "loss = 'chamfer'"
   ]
  },
  {
   "cell_type": "code",
   "execution_count": 9,
   "metadata": {
    "collapsed": false
   },
   "outputs": [
    {
     "name": "stdout",
     "output_type": "stream",
     "text": [
      "5761 pclouds were loaded. They belong in 1 shape-classes.\n",
      "338 pclouds were loaded. They belong in 1 shape-classes.\n",
      "679 pclouds were loaded. They belong in 1 shape-classes.\n"
     ]
    }
   ],
   "source": [
    "tr_files = splitter.load_splits(train_split)\n",
    "pclouds, model_ids, syn_ids = load_point_clouds_from_filenames(tr_files, n_threads=20, loader=snc_loader, verbose=True)\n",
    "train_data = PointCloudDataSet(pclouds, labels=syn_ids + '_' + model_ids)\n",
    "\n",
    "val_files = splitter.load_splits(val_split)\n",
    "pclouds, model_ids, syn_ids = load_point_clouds_from_filenames(val_files, n_threads=20, loader=snc_loader, verbose=True)\n",
    "val_data = PointCloudDataSet(pclouds, labels=syn_ids + '_' + model_ids)\n",
    "\n",
    "test_files = splitter.load_splits(test_split)\n",
    "pclouds, model_ids, syn_ids = load_point_clouds_from_filenames(test_files, n_threads=20, loader=snc_loader, verbose=True)\n",
    "val_data = PointCloudDataSet(pclouds, labels=syn_ids + '_' + model_ids)"
   ]
  },
  {
   "cell_type": "code",
   "execution_count": 10,
   "metadata": {
    "collapsed": true
   },
   "outputs": [],
   "source": [
    "from tflearn.layers.conv import avg_pool_1d, max_pool_1d\n",
    "from tflearn.layers.core import fully_connected, dropout\n",
    "from tflearn.layers.conv import conv_1d\n",
    "from tflearn.layers.normalization import batch_normalization\n",
    "from tf_lab.fundamentals.utils import expand_scope_by_name, replicate_parameter_for_all_layers\n",
    "from functools import partial"
   ]
  },
  {
   "cell_type": "code",
   "execution_count": 11,
   "metadata": {
    "collapsed": false
   },
   "outputs": [],
   "source": [
    "def encoder_with_convs_and_pool(in_signal, n_filters=[64, 128, 256, 1024], filter_sizes=[1], strides=[1],\n",
    "                                    b_norm=True, spn=False, non_linearity=tf.nn.relu, regularizer=None, weight_decay=0.001,\n",
    "                                    symmetry=tf.reduce_max, dropout_prob=None, pool=None, pool_sizes=None, scope=None, reuse=False):\n",
    "    '''An Encoder (recognition network), which maps inputs onto a latent space.\n",
    "    '''\n",
    "    n_layers = len(n_filters)\n",
    "    filter_sizes = replicate_parameter_for_all_layers(filter_sizes, n_layers)\n",
    "    strides = replicate_parameter_for_all_layers(strides, n_layers)\n",
    "    dropout_prob = replicate_parameter_for_all_layers(dropout_prob, n_layers)\n",
    "\n",
    "    if n_layers < 2:\n",
    "        raise ValueError('More than 1 layers are expected.')\n",
    "\n",
    "    if spn:\n",
    "        raise NotImplementedError('')\n",
    "    \n",
    "    print n_filters\n",
    "    print filter_sizes\n",
    "    print pool_sizes\n",
    "        \n",
    "    for i in xrange(n_layers):\n",
    "        if i == 0:\n",
    "            layer = in_signal\n",
    "        \n",
    "        name = 'encoder_conv_layer_' + str(i)\n",
    "        scope_i = expand_scope_by_name(scope, name)\n",
    "        layer = conv_1d(layer, nb_filter=n_filters[i], filter_size=filter_sizes[i], strides=strides[i], regularizer=regularizer, weight_decay=weight_decay, name=name, reuse=reuse, scope=scope_i)\n",
    "\n",
    "        if b_norm:\n",
    "            name += '_bnorm'\n",
    "            scope_i = expand_scope_by_name(scope, name)\n",
    "            layer = batch_normalization(layer, name=name, reuse=reuse, scope=scope_i)\n",
    "\n",
    "        layer = non_linearity(layer)\n",
    "\n",
    "        if pool is not None:\n",
    "            if pool_sizes[i] is not None:\n",
    "                layer = pool(layer, kernel_size=pool_sizes[i])\n",
    "\n",
    "        if dropout_prob is not None and dropout_prob[i] > 0:\n",
    "            layer = dropout(layer, 1.0 - dropout_prob[i])\n",
    "            \n",
    "        print layer, np.prod(layer.get_shape().as_list()[1:])\n",
    "        \n",
    "    if symmetry is not None:\n",
    "        layer = symmetry(layer, axis=1)\n",
    "        print layer, np.prod(layer.get_shape().as_list()[1:])\n",
    "        \n",
    "    return layer"
   ]
  },
  {
   "cell_type": "code",
   "execution_count": 13,
   "metadata": {
    "collapsed": false
   },
   "outputs": [],
   "source": [
    "b_norm = True\n",
    "decoder_args = {'layer_sizes': [bneck_size, 512, 1024, n_pc_points*3], 'b_norm': b_norm}"
   ]
  },
  {
   "cell_type": "code",
   "execution_count": 20,
   "metadata": {
    "collapsed": false
   },
   "outputs": [],
   "source": [
    "encoder_args = {'n_filters': [128, 256, 256, 512, 512],\n",
    "                'filter_sizes': [9, 6, 3, 2, 1],\n",
    "                'strides': [2, 2, 1, 1, 1],\n",
    "                'b_norm': b_norm,\n",
    "                'pool': avg_pool_1d,\n",
    "                'pool_sizes': [2, None, 2, None, 2],\n",
    "                'symmetry': None\n",
    "                }"
   ]
  },
  {
   "cell_type": "code",
   "execution_count": 21,
   "metadata": {
    "collapsed": false
   },
   "outputs": [],
   "source": [
    "v = 1\n",
    "v = str(v)"
   ]
  },
  {
   "cell_type": "code",
   "execution_count": 22,
   "metadata": {
    "collapsed": false
   },
   "outputs": [
    {
     "data": {
      "text/plain": [
       "'/orions4-zfs/projects/optas/DATA/OUT/iclr/nn_models/testing_ae_settings/chair_exp_neighborhood_size_v_1_4096_pts_bneck_32_chamfer'"
      ]
     },
     "execution_count": 22,
     "metadata": {},
     "output_type": "execute_result"
    }
   ],
   "source": [
    "experiment_id = 'neighborhood_size_v_' + v\n",
    "experiment_name = '_'.join(['chair', 'exp', experiment_id, str(n_pc_points),\n",
    "                            'pts_bneck', str(bneck_size), loss\n",
    "                           ])\n",
    "\n",
    "train_dir = osp.join(top_data_dir, 'OUT/iclr/nn_models/testing_ae_settings', experiment_name)\n",
    "create_dir(train_dir)"
   ]
  },
  {
   "cell_type": "code",
   "execution_count": 23,
   "metadata": {
    "collapsed": false
   },
   "outputs": [],
   "source": [
    "if load_pretrained_model:\n",
    "    conf = Conf.load(osp.join(train_dir, 'configuration'))\n",
    "    print conf\n",
    "    if conf.train_dir != train_dir:\n",
    "        conf.train_dir = train_dir\n",
    "    conf.save(osp.join(train_dir, 'configuration'))\n",
    "else:\n",
    "    conf = Conf(\n",
    "                n_input = [n_pc_points, 3],\n",
    "                loss = loss,\n",
    "                training_epochs = 100,\n",
    "                batch_size = 50,\n",
    "                denoising = False,\n",
    "                learning_rate = 0.0005,\n",
    "                train_dir = train_dir,             \n",
    "                loss_display_step = 1,\n",
    "                saver_step = None ,\n",
    "                z_rotate = False,\n",
    "                encoder = encoder_with_convs_and_pool, \n",
    "                decoder = decoder_with_fc_only,\n",
    "                encoder_args = encoder_args,\n",
    "                decoder_args = decoder_args\n",
    "               )\n",
    "    \n",
    "    conf.experiment_name = experiment_name\n",
    "    conf.held_out_step = 5\n",
    "    conf.save(osp.join(conf.train_dir, 'configuration'))"
   ]
  },
  {
   "cell_type": "code",
   "execution_count": 24,
   "metadata": {
    "collapsed": false
   },
   "outputs": [
    {
     "name": "stdout",
     "output_type": "stream",
     "text": [
      "[128, 256, 256, 512, 512]\n",
      "[9, 6, 3, 2, 1]\n",
      "[2, None, 2, None, 2]\n",
      "Tensor(\"chair_exp_neighborhood_size_v_1_4096_pts_bneck_32_chamfer_1/AvgPool1D/Squeeze:0\", shape=(?, 1024, 128), dtype=float32) 131072\n",
      "Tensor(\"chair_exp_neighborhood_size_v_1_4096_pts_bneck_32_chamfer_1/Relu_1:0\", shape=(?, 512, 256), dtype=float32) 131072\n",
      "Tensor(\"chair_exp_neighborhood_size_v_1_4096_pts_bneck_32_chamfer_1/AvgPool1D_1/Squeeze:0\", shape=(?, 256, 256), dtype=float32) 65536\n",
      "Tensor(\"chair_exp_neighborhood_size_v_1_4096_pts_bneck_32_chamfer_1/Relu_3:0\", shape=(?, 256, 512), dtype=float32) 131072\n",
      "Tensor(\"chair_exp_neighborhood_size_v_1_4096_pts_bneck_32_chamfer_1/AvgPool1D_2/Squeeze:0\", shape=(?, 128, 512), dtype=float32) 65536\n",
      "16163680\n"
     ]
    }
   ],
   "source": [
    "reset_tf_graph()\n",
    "ae = PointNetAutoEncoder(conf.experiment_name, conf)\n",
    "print ae.trainable_parameters()"
   ]
  },
  {
   "cell_type": "code",
   "execution_count": 25,
   "metadata": {
    "collapsed": false,
    "scrolled": false
   },
   "outputs": [
    {
     "name": "stdout",
     "output_type": "stream",
     "text": [
      "('Epoch:', '0001', 'training time (minutes)=', '0.1107', 'loss=', '0.006007020')\n",
      "('Epoch:', '0002', 'training time (minutes)=', '0.1037', 'loss=', '0.003145179')\n",
      "('Epoch:', '0003', 'training time (minutes)=', '0.1042', 'loss=', '0.002813285')\n",
      "('Epoch:', '0004', 'training time (minutes)=', '0.1043', 'loss=', '0.002861615')\n",
      "('Epoch:', '0005', 'training time (minutes)=', '0.1047', 'loss=', '0.002834746')\n",
      "('Held Out Data :', 'forward time (minutes)=', '0.0048', 'loss=', '0.002162799')\n",
      "('Epoch:', '0006', 'training time (minutes)=', '0.1047', 'loss=', '0.002605908')\n",
      "('Epoch:', '0007', 'training time (minutes)=', '0.1043', 'loss=', '0.002605437')\n",
      "('Epoch:', '0008', 'training time (minutes)=', '0.1055', 'loss=', '0.002228419')\n",
      "('Epoch:', '0009', 'training time (minutes)=', '0.1056', 'loss=', '0.002055277')\n",
      "('Epoch:', '0010', 'training time (minutes)=', '0.1057', 'loss=', '0.001854333')\n",
      "('Held Out Data :', 'forward time (minutes)=', '0.0039', 'loss=', '0.001579710')\n",
      "('Epoch:', '0011', 'training time (minutes)=', '0.1051', 'loss=', '0.001709085')\n",
      "('Epoch:', '0012', 'training time (minutes)=', '0.1051', 'loss=', '0.001561492')\n",
      "('Epoch:', '0013', 'training time (minutes)=', '0.1054', 'loss=', '0.001515528')\n",
      "('Epoch:', '0014', 'training time (minutes)=', '0.1054', 'loss=', '0.001725512')\n",
      "('Epoch:', '0015', 'training time (minutes)=', '0.1064', 'loss=', '0.001616689')\n",
      "('Held Out Data :', 'forward time (minutes)=', '0.0041', 'loss=', '0.001367596')\n",
      "('Epoch:', '0016', 'training time (minutes)=', '0.1069', 'loss=', '0.001433780')\n",
      "('Epoch:', '0017', 'training time (minutes)=', '0.1078', 'loss=', '0.001399734')\n",
      "('Epoch:', '0018', 'training time (minutes)=', '0.1083', 'loss=', '0.001355008')\n",
      "('Epoch:', '0019', 'training time (minutes)=', '0.1066', 'loss=', '0.001333320')\n",
      "('Epoch:', '0020', 'training time (minutes)=', '0.1098', 'loss=', '0.001289181')\n",
      "('Held Out Data :', 'forward time (minutes)=', '0.0042', 'loss=', '0.001158781')\n",
      "('Epoch:', '0021', 'training time (minutes)=', '0.1112', 'loss=', '0.001279969')\n",
      "('Epoch:', '0022', 'training time (minutes)=', '0.1059', 'loss=', '0.001212382')\n",
      "('Epoch:', '0023', 'training time (minutes)=', '0.1102', 'loss=', '0.001228199')\n",
      "('Epoch:', '0024', 'training time (minutes)=', '0.1107', 'loss=', '0.001186861')\n",
      "('Epoch:', '0025', 'training time (minutes)=', '0.1065', 'loss=', '0.001150476')\n",
      "('Held Out Data :', 'forward time (minutes)=', '0.0041', 'loss=', '0.001090477')\n",
      "('Epoch:', '0026', 'training time (minutes)=', '0.1068', 'loss=', '0.001165949')\n",
      "('Epoch:', '0027', 'training time (minutes)=', '0.1076', 'loss=', '0.001396354')\n",
      "('Epoch:', '0028', 'training time (minutes)=', '0.1165', 'loss=', '0.001182779')\n",
      "('Epoch:', '0029', 'training time (minutes)=', '0.1084', 'loss=', '0.001179696')\n",
      "('Epoch:', '0030', 'training time (minutes)=', '0.1067', 'loss=', '0.001103884')\n",
      "('Held Out Data :', 'forward time (minutes)=', '0.0042', 'loss=', '0.001010100')\n",
      "('Epoch:', '0031', 'training time (minutes)=', '0.1099', 'loss=', '0.001111523')\n",
      "('Epoch:', '0032', 'training time (minutes)=', '0.1096', 'loss=', '0.001110953')\n",
      "('Epoch:', '0033', 'training time (minutes)=', '0.1054', 'loss=', '0.001067837')\n",
      "('Epoch:', '0034', 'training time (minutes)=', '0.1111', 'loss=', '0.001120919')\n",
      "('Epoch:', '0035', 'training time (minutes)=', '0.1059', 'loss=', '0.001092889')\n",
      "('Held Out Data :', 'forward time (minutes)=', '0.0045', 'loss=', '0.000998149')\n",
      "('Epoch:', '0036', 'training time (minutes)=', '0.1072', 'loss=', '0.001071755')\n",
      "('Epoch:', '0037', 'training time (minutes)=', '0.1086', 'loss=', '0.001058026')\n",
      "('Epoch:', '0038', 'training time (minutes)=', '0.1059', 'loss=', '0.001048579')\n",
      "('Epoch:', '0039', 'training time (minutes)=', '0.1120', 'loss=', '0.001034733')\n",
      "('Epoch:', '0040', 'training time (minutes)=', '0.1099', 'loss=', '0.001028261')\n",
      "('Held Out Data :', 'forward time (minutes)=', '0.0040', 'loss=', '0.001087812')\n",
      "('Epoch:', '0041', 'training time (minutes)=', '0.1063', 'loss=', '0.001044722')\n",
      "('Epoch:', '0042', 'training time (minutes)=', '0.1107', 'loss=', '0.000983847')\n",
      "('Epoch:', '0043', 'training time (minutes)=', '0.1063', 'loss=', '0.001037727')\n",
      "('Epoch:', '0044', 'training time (minutes)=', '0.1083', 'loss=', '0.001053345')\n",
      "('Epoch:', '0045', 'training time (minutes)=', '0.1109', 'loss=', '0.001009751')\n",
      "('Held Out Data :', 'forward time (minutes)=', '0.0047', 'loss=', '0.000941890')\n",
      "('Epoch:', '0046', 'training time (minutes)=', '0.1108', 'loss=', '0.000961668')\n",
      "('Epoch:', '0047', 'training time (minutes)=', '0.1095', 'loss=', '0.000973410')\n",
      "('Epoch:', '0048', 'training time (minutes)=', '0.1079', 'loss=', '0.000938842')\n",
      "('Epoch:', '0049', 'training time (minutes)=', '0.1086', 'loss=', '0.000906878')\n",
      "('Epoch:', '0050', 'training time (minutes)=', '0.1063', 'loss=', '0.000933331')\n",
      "('Held Out Data :', 'forward time (minutes)=', '0.0039', 'loss=', '0.000900931')\n",
      "('Epoch:', '0051', 'training time (minutes)=', '0.1102', 'loss=', '0.000934702')\n",
      "('Epoch:', '0052', 'training time (minutes)=', '0.1065', 'loss=', '0.000916483')\n",
      "('Epoch:', '0053', 'training time (minutes)=', '0.1113', 'loss=', '0.000902537')\n",
      "('Epoch:', '0054', 'training time (minutes)=', '0.1110', 'loss=', '0.000892303')\n",
      "('Epoch:', '0055', 'training time (minutes)=', '0.1076', 'loss=', '0.000887112')\n",
      "('Held Out Data :', 'forward time (minutes)=', '0.0045', 'loss=', '0.000886151')\n",
      "('Epoch:', '0056', 'training time (minutes)=', '0.1098', 'loss=', '0.000878670')\n",
      "('Epoch:', '0057', 'training time (minutes)=', '0.1113', 'loss=', '0.000871407')\n",
      "('Epoch:', '0058', 'training time (minutes)=', '0.1068', 'loss=', '0.000893244')\n",
      "('Epoch:', '0059', 'training time (minutes)=', '0.1068', 'loss=', '0.000865987')\n",
      "('Epoch:', '0060', 'training time (minutes)=', '0.1125', 'loss=', '0.000855089')\n",
      "('Held Out Data :', 'forward time (minutes)=', '0.0039', 'loss=', '0.000879233')\n",
      "('Epoch:', '0061', 'training time (minutes)=', '0.1056', 'loss=', '0.000849989')\n",
      "('Epoch:', '0062', 'training time (minutes)=', '0.1088', 'loss=', '0.000854304')\n",
      "('Epoch:', '0063', 'training time (minutes)=', '0.1135', 'loss=', '0.000854584')\n",
      "('Epoch:', '0064', 'training time (minutes)=', '0.1067', 'loss=', '0.000835067')\n",
      "('Epoch:', '0065', 'training time (minutes)=', '0.1116', 'loss=', '0.000831792')\n",
      "('Held Out Data :', 'forward time (minutes)=', '0.0040', 'loss=', '0.000844378')\n",
      "('Epoch:', '0066', 'training time (minutes)=', '0.1072', 'loss=', '0.000849033')\n",
      "('Epoch:', '0067', 'training time (minutes)=', '0.1092', 'loss=', '0.000833103')\n",
      "('Epoch:', '0068', 'training time (minutes)=', '0.1073', 'loss=', '0.000828810')\n",
      "('Epoch:', '0069', 'training time (minutes)=', '0.1118', 'loss=', '0.000841748')\n",
      "('Epoch:', '0070', 'training time (minutes)=', '0.1071', 'loss=', '0.000809411')\n",
      "('Held Out Data :', 'forward time (minutes)=', '0.0039', 'loss=', '0.000851970')\n",
      "('Epoch:', '0071', 'training time (minutes)=', '0.1105', 'loss=', '0.000803736')\n",
      "('Epoch:', '0072', 'training time (minutes)=', '0.1087', 'loss=', '0.000798046')\n",
      "('Epoch:', '0073', 'training time (minutes)=', '0.1066', 'loss=', '0.000796920')\n",
      "('Epoch:', '0074', 'training time (minutes)=', '0.1091', 'loss=', '0.000790399')\n",
      "('Epoch:', '0075', 'training time (minutes)=', '0.1094', 'loss=', '0.000777683')\n",
      "('Held Out Data :', 'forward time (minutes)=', '0.0041', 'loss=', '0.000811627')\n",
      "('Epoch:', '0076', 'training time (minutes)=', '0.1069', 'loss=', '0.000764704')\n",
      "('Epoch:', '0077', 'training time (minutes)=', '0.1070', 'loss=', '0.000760167')\n",
      "('Epoch:', '0078', 'training time (minutes)=', '0.1118', 'loss=', '0.000763161')\n",
      "('Epoch:', '0079', 'training time (minutes)=', '0.1061', 'loss=', '0.000755059')\n",
      "('Epoch:', '0080', 'training time (minutes)=', '0.1105', 'loss=', '0.000817620')\n",
      "('Held Out Data :', 'forward time (minutes)=', '0.0041', 'loss=', '0.000829387')\n",
      "('Epoch:', '0081', 'training time (minutes)=', '0.1095', 'loss=', '0.000796173')\n",
      "('Epoch:', '0082', 'training time (minutes)=', '0.1054', 'loss=', '0.000782734')\n",
      "('Epoch:', '0083', 'training time (minutes)=', '0.1105', 'loss=', '0.000750043')\n",
      "('Epoch:', '0084', 'training time (minutes)=', '0.1083', 'loss=', '0.000740117')\n",
      "('Epoch:', '0085', 'training time (minutes)=', '0.1067', 'loss=', '0.000747954')\n",
      "('Held Out Data :', 'forward time (minutes)=', '0.0040', 'loss=', '0.000793159')\n",
      "('Epoch:', '0086', 'training time (minutes)=', '0.1084', 'loss=', '0.000734200')\n",
      "('Epoch:', '0087', 'training time (minutes)=', '0.1054', 'loss=', '0.000733476')\n",
      "('Epoch:', '0088', 'training time (minutes)=', '0.1090', 'loss=', '0.000745111')\n",
      "('Epoch:', '0089', 'training time (minutes)=', '0.1057', 'loss=', '0.000733756')\n",
      "('Epoch:', '0090', 'training time (minutes)=', '0.1106', 'loss=', '0.000708514')\n",
      "('Held Out Data :', 'forward time (minutes)=', '0.0040', 'loss=', '0.000780318')\n",
      "('Epoch:', '0091', 'training time (minutes)=', '0.1100', 'loss=', '0.000712057')\n",
      "('Epoch:', '0092', 'training time (minutes)=', '0.1086', 'loss=', '0.000711257')\n",
      "('Epoch:', '0093', 'training time (minutes)=', '0.1063', 'loss=', '0.000709992')\n",
      "('Epoch:', '0094', 'training time (minutes)=', '0.1072', 'loss=', '0.000715513')\n",
      "('Epoch:', '0095', 'training time (minutes)=', '0.1056', 'loss=', '0.000703387')\n",
      "('Held Out Data :', 'forward time (minutes)=', '0.0039', 'loss=', '0.000825649')\n",
      "('Epoch:', '0096', 'training time (minutes)=', '0.1096', 'loss=', '0.000699242')\n",
      "('Epoch:', '0097', 'training time (minutes)=', '0.1060', 'loss=', '0.000691187')\n",
      "('Epoch:', '0098', 'training time (minutes)=', '0.1072', 'loss=', '0.000688742')\n",
      "('Epoch:', '0099', 'training time (minutes)=', '0.1058', 'loss=', '0.000684580')\n",
      "('Epoch:', '0100', 'training time (minutes)=', '0.1089', 'loss=', '0.000663651')\n",
      "('Held Out Data :', 'forward time (minutes)=', '0.0038', 'loss=', '0.000793660')\n"
     ]
    }
   ],
   "source": [
    "if do_training:\n",
    "    buf_size = 1 # flush each line\n",
    "    fout = open(osp.join(conf.train_dir, 'train_stats.txt'), 'a', buf_size)    \n",
    "    train_stats = ae.train(train_data, conf, log_file=fout, held_out_data=val_data)\n",
    "    fout.close()"
   ]
  }
 ],
 "metadata": {
  "kernelspec": {
   "display_name": "Python 2",
   "language": "python",
   "name": "python2"
  },
  "language_info": {
   "codemirror_mode": {
    "name": "ipython",
    "version": 2
   },
   "file_extension": ".py",
   "mimetype": "text/x-python",
   "name": "python",
   "nbconvert_exporter": "python",
   "pygments_lexer": "ipython2",
   "version": "2.7.6"
  }
 },
 "nbformat": 4,
 "nbformat_minor": 0
}
