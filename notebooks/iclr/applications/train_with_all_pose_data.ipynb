{
 "cells": [
  {
   "cell_type": "code",
   "execution_count": 2,
   "metadata": {
    "collapsed": false
   },
   "outputs": [
    {
     "name": "stdout",
     "output_type": "stream",
     "text": [
      "Picking GPU 0\n"
     ]
    }
   ],
   "source": [
    "from general_tools.notebook.gpu_utils import setup_one_gpu\n",
    "GPU = 0\n",
    "setup_one_gpu(GPU)"
   ]
  },
  {
   "cell_type": "code",
   "execution_count": 48,
   "metadata": {
    "collapsed": true
   },
   "outputs": [],
   "source": [
    "import sys\n",
    "import time\n",
    "import numpy as np\n",
    "import os.path as osp\n",
    "import tensorflow as tf\n",
    "import matplotlib.pyplot as plt\n",
    "\n",
    "from general_tools.notebook.tf import reset_tf_graph\n",
    "from general_tools.in_out.basics import create_dir, files_in_subdirs\n",
    "\n",
    "from geo_tool import Point_Cloud\n",
    "\n",
    "from tf_lab.point_clouds.point_net_ae import PointNetAutoEncoder\n",
    "from tf_lab.point_clouds.autoencoder import Configuration as Conf\n",
    "from tf_lab.point_clouds.in_out import PointCloudDataSet, load_point_clouds_from_filenames\n",
    "from tf_lab.point_clouds.encoders_decoders import encoder_with_convs_and_symmetry, decoder_with_fc_only,\\\n",
    "encoder_with_convs_and_symmetry_and_fc\n",
    "\n",
    "from tf_lab.in_out.basics import read_saved_epochs\n",
    "from tf_lab.data_sets.articulated_human_poses import pc_loader\n",
    "\n"
   ]
  },
  {
   "cell_type": "code",
   "execution_count": 4,
   "metadata": {
    "collapsed": true
   },
   "outputs": [],
   "source": [
    "%load_ext autoreload\n",
    "%autoreload 2\n",
    "%matplotlib inline"
   ]
  },
  {
   "cell_type": "code",
   "execution_count": 5,
   "metadata": {
    "collapsed": true
   },
   "outputs": [],
   "source": [
    "n_pc_points = 2048\n",
    "do_training = True\n",
    "first_time_running = True\n",
    "load_pretrained_model = False\n",
    "load_epoch = None\n",
    "seed = 42"
   ]
  },
  {
   "cell_type": "code",
   "execution_count": 44,
   "metadata": {
    "collapsed": false
   },
   "outputs": [
    {
     "data": {
      "text/plain": [
       "'/orions4-zfs/projects/optas/DATA/OUT/iclr/nn_models/human_articulation_all_data_no_max_2048_pts_bneck_16_chamfer'"
      ]
     },
     "execution_count": 44,
     "metadata": {},
     "output_type": "execute_result"
    }
   ],
   "source": [
    "max_training_epochs = 1000\n",
    "loss = 'chamfer'\n",
    "bneck_size = 16\n",
    "\n",
    "experiment_name = '_'.join(['human_articulation_all_data_no_max', str(n_pc_points), \n",
    "                           'pts_bneck', str(bneck_size), loss\n",
    "                           ])\n",
    "\n",
    "top_data_dir = '/orions4-zfs/projects/optas/DATA/'\n",
    "train_dir = osp.join(top_data_dir, 'OUT/iclr/nn_models/', experiment_name)\n",
    "create_dir(train_dir)"
   ]
  },
  {
   "cell_type": "code",
   "execution_count": 13,
   "metadata": {
    "collapsed": true
   },
   "outputs": [],
   "source": [
    "pclouds_path = osp.join(top_data_dir, 'Point_Clouds/Articulated_Mesh_Animations', str(n_pc_points))\n",
    "all_data_files = [f for f in files_in_subdirs(pclouds_path, '.ply')]\n",
    "pclouds, model_names, _ = load_point_clouds_from_filenames(all_data_files, n_threads=20, loader=pc_loader, verbose=True)\n",
    "train_data = PointCloudDataSet(pclouds, labels=model_names)"
   ]
  },
  {
   "cell_type": "code",
   "execution_count": 62,
   "metadata": {
    "collapsed": false
   },
   "outputs": [],
   "source": [
    "b_norm = False\n",
    "encoder_args = {'args_of_patrial':\n",
    "                {'n_filters': [64, 128, 256, bneck_size],\n",
    "                'filter_sizes': [20, 10, 10, 5],\n",
    "                'strides': [1, 1, 2, 2],\n",
    "                'symmetry': None,\n",
    "                'b_norm': b_norm\n",
    "                }}\n",
    "n_input = [n_pc_points, 3]\n",
    "\n",
    "decoder_args = {'layer_sizes': [1024, 2048, np.prod(n_input)],\n",
    "               'b_norm': b_norm}"
   ]
  },
  {
   "cell_type": "code",
   "execution_count": 63,
   "metadata": {
    "collapsed": true
   },
   "outputs": [],
   "source": [
    "from functools import partial\n",
    "encoder = partial(encoder_with_convs_and_symmetry_and_fc, fc_nout=bneck_size)\n",
    "encoder.__name__ = 'partial_fc_encoder_with_bneck_size'"
   ]
  },
  {
   "cell_type": "code",
   "execution_count": 64,
   "metadata": {
    "collapsed": false
   },
   "outputs": [],
   "source": [
    "if load_pretrained_model:\n",
    "    conf = Conf.load(osp.join(train_dir, 'configuration'))\n",
    "    print conf\n",
    "    if conf.train_dir != train_dir:\n",
    "        conf.train_dir = train_dir\n",
    "    conf.save(osp.join(train_dir, 'configuration'))\n",
    "else:\n",
    "    conf = Conf(\n",
    "                n_input = [n_pc_points, 3],\n",
    "                loss = loss,\n",
    "                training_epochs = 200,\n",
    "                batch_size = 50,\n",
    "                denoising = False,\n",
    "                learning_rate = 0.0005,\n",
    "                train_dir = train_dir,              \n",
    "                loss_display_step = 1,\n",
    "                saver_step = 20,\n",
    "                z_rotate = False,\n",
    "                encoder = encoder,\n",
    "                decoder = decoder_with_fc_only,\n",
    "                encoder_args = encoder_args,\n",
    "                decoder_args = decoder_args\n",
    "               )    \n",
    "    conf.experiment_name = experiment_name\n",
    "    conf.save(osp.join(conf.train_dir, 'configuration'))"
   ]
  },
  {
   "cell_type": "code",
   "execution_count": 65,
   "metadata": {
    "collapsed": false
   },
   "outputs": [],
   "source": [
    "reset_tf_graph()\n",
    "ae = PointNetAutoEncoder(conf.experiment_name, conf)"
   ]
  },
  {
   "cell_type": "code",
   "execution_count": 66,
   "metadata": {
    "collapsed": true
   },
   "outputs": [],
   "source": [
    "if load_pretrained_model:\n",
    "    if load_epoch is None: # load last saved.\n",
    "        saved_epochs = read_saved_epochs(conf.train_dir)\n",
    "        load_epoch = saved_epochs[-1]        \n",
    "    ae.restore_model(conf.train_dir, load_epoch, verbose=True)"
   ]
  },
  {
   "cell_type": "code",
   "execution_count": 67,
   "metadata": {
    "collapsed": false
   },
   "outputs": [
    {
     "name": "stdout",
     "output_type": "stream",
     "text": [
      "('Epoch:', '0001', 'training time (minutes)=', '0.0332', 'loss=', '0.007815272')\n",
      "INFO:tensorflow:/orions4-zfs/projects/optas/DATA/OUT/iclr/nn_models/human_articulation_all_data_no_max_2048_pts_bneck_16_chamfer/models.ckpt-1 is not in all_model_checkpoint_paths. Manually adding it.\n",
      "('Epoch:', '0002', 'training time (minutes)=', '0.0302', 'loss=', '0.003526474')\n",
      "('Epoch:', '0003', 'training time (minutes)=', '0.0313', 'loss=', '0.003263139')\n",
      "('Epoch:', '0004', 'training time (minutes)=', '0.0306', 'loss=', '0.002832258')\n",
      "('Epoch:', '0005', 'training time (minutes)=', '0.0304', 'loss=', '0.002483313')\n",
      "('Epoch:', '0006', 'training time (minutes)=', '0.0303', 'loss=', '0.002144296')\n",
      "('Epoch:', '0007', 'training time (minutes)=', '0.0312', 'loss=', '0.001900172')\n",
      "('Epoch:', '0008', 'training time (minutes)=', '0.0311', 'loss=', '0.001734968')\n",
      "('Epoch:', '0009', 'training time (minutes)=', '0.0317', 'loss=', '0.001602206')\n",
      "('Epoch:', '0010', 'training time (minutes)=', '0.0308', 'loss=', '0.001456293')\n",
      "('Epoch:', '0011', 'training time (minutes)=', '0.0312', 'loss=', '0.001366268')\n",
      "('Epoch:', '0012', 'training time (minutes)=', '0.0316', 'loss=', '0.001237077')\n",
      "('Epoch:', '0013', 'training time (minutes)=', '0.0322', 'loss=', '0.001214536')\n",
      "('Epoch:', '0014', 'training time (minutes)=', '0.0307', 'loss=', '0.001129459')\n",
      "('Epoch:', '0015', 'training time (minutes)=', '0.0320', 'loss=', '0.001106789')\n",
      "('Epoch:', '0016', 'training time (minutes)=', '0.0316', 'loss=', '0.000999698')\n",
      "('Epoch:', '0017', 'training time (minutes)=', '0.0310', 'loss=', '0.000983902')\n",
      "('Epoch:', '0018', 'training time (minutes)=', '0.0317', 'loss=', '0.000923536')\n",
      "('Epoch:', '0019', 'training time (minutes)=', '0.0321', 'loss=', '0.000878025')\n",
      "('Epoch:', '0020', 'training time (minutes)=', '0.0312', 'loss=', '0.000865421')\n",
      "INFO:tensorflow:/orions4-zfs/projects/optas/DATA/OUT/iclr/nn_models/human_articulation_all_data_no_max_2048_pts_bneck_16_chamfer/models.ckpt-20 is not in all_model_checkpoint_paths. Manually adding it.\n",
      "('Epoch:', '0021', 'training time (minutes)=', '0.0313', 'loss=', '0.000825881')\n",
      "('Epoch:', '0022', 'training time (minutes)=', '0.0322', 'loss=', '0.000782659')\n",
      "('Epoch:', '0023', 'training time (minutes)=', '0.0317', 'loss=', '0.000764016')\n",
      "('Epoch:', '0024', 'training time (minutes)=', '0.0316', 'loss=', '0.000747944')\n",
      "('Epoch:', '0025', 'training time (minutes)=', '0.0311', 'loss=', '0.000711515')\n",
      "('Epoch:', '0026', 'training time (minutes)=', '0.0314', 'loss=', '0.000665561')\n",
      "('Epoch:', '0027', 'training time (minutes)=', '0.0314', 'loss=', '0.000660872')\n",
      "('Epoch:', '0028', 'training time (minutes)=', '0.0318', 'loss=', '0.000637187')\n",
      "('Epoch:', '0029', 'training time (minutes)=', '0.0317', 'loss=', '0.000641230')\n",
      "('Epoch:', '0030', 'training time (minutes)=', '0.0316', 'loss=', '0.000600886')\n",
      "('Epoch:', '0031', 'training time (minutes)=', '0.0319', 'loss=', '0.000591816')\n",
      "('Epoch:', '0032', 'training time (minutes)=', '0.0312', 'loss=', '0.000580832')\n",
      "('Epoch:', '0033', 'training time (minutes)=', '0.0321', 'loss=', '0.000579937')\n",
      "('Epoch:', '0034', 'training time (minutes)=', '0.0318', 'loss=', '0.000561912')\n",
      "('Epoch:', '0035', 'training time (minutes)=', '0.0318', 'loss=', '0.000582020')\n",
      "('Epoch:', '0036', 'training time (minutes)=', '0.0318', 'loss=', '0.000548881')\n",
      "('Epoch:', '0037', 'training time (minutes)=', '0.0316', 'loss=', '0.000520653')\n",
      "('Epoch:', '0038', 'training time (minutes)=', '0.0314', 'loss=', '0.000515835')\n",
      "('Epoch:', '0039', 'training time (minutes)=', '0.0315', 'loss=', '0.000499675')\n",
      "('Epoch:', '0040', 'training time (minutes)=', '0.0312', 'loss=', '0.000491188')\n",
      "INFO:tensorflow:/orions4-zfs/projects/optas/DATA/OUT/iclr/nn_models/human_articulation_all_data_no_max_2048_pts_bneck_16_chamfer/models.ckpt-40 is not in all_model_checkpoint_paths. Manually adding it.\n",
      "('Epoch:', '0041', 'training time (minutes)=', '0.0306', 'loss=', '0.000482565')\n",
      "('Epoch:', '0042', 'training time (minutes)=', '0.0315', 'loss=', '0.000472449')\n",
      "('Epoch:', '0043', 'training time (minutes)=', '0.0323', 'loss=', '0.000473963')\n",
      "('Epoch:', '0044', 'training time (minutes)=', '0.0313', 'loss=', '0.000483547')\n",
      "('Epoch:', '0045', 'training time (minutes)=', '0.0311', 'loss=', '0.000478294')\n",
      "('Epoch:', '0046', 'training time (minutes)=', '0.0315', 'loss=', '0.000450227')\n",
      "('Epoch:', '0047', 'training time (minutes)=', '0.0312', 'loss=', '0.000445382')\n",
      "('Epoch:', '0048', 'training time (minutes)=', '0.0306', 'loss=', '0.000467950')\n",
      "('Epoch:', '0049', 'training time (minutes)=', '0.0310', 'loss=', '0.000452875')\n",
      "('Epoch:', '0050', 'training time (minutes)=', '0.0313', 'loss=', '0.000428671')\n",
      "('Epoch:', '0051', 'training time (minutes)=', '0.0311', 'loss=', '0.000427368')\n",
      "('Epoch:', '0052', 'training time (minutes)=', '0.0314', 'loss=', '0.000421468')\n",
      "('Epoch:', '0053', 'training time (minutes)=', '0.0325', 'loss=', '0.000398125')\n",
      "('Epoch:', '0054', 'training time (minutes)=', '0.0311', 'loss=', '0.000422635')\n",
      "('Epoch:', '0055', 'training time (minutes)=', '0.0333', 'loss=', '0.000454982')\n",
      "('Epoch:', '0056', 'training time (minutes)=', '0.0323', 'loss=', '0.000412149')\n",
      "('Epoch:', '0057', 'training time (minutes)=', '0.0317', 'loss=', '0.000392431')\n",
      "('Epoch:', '0058', 'training time (minutes)=', '0.0307', 'loss=', '0.000371545')\n",
      "('Epoch:', '0059', 'training time (minutes)=', '0.0318', 'loss=', '0.000390101')\n",
      "('Epoch:', '0060', 'training time (minutes)=', '0.0326', 'loss=', '0.000436472')\n",
      "INFO:tensorflow:/orions4-zfs/projects/optas/DATA/OUT/iclr/nn_models/human_articulation_all_data_no_max_2048_pts_bneck_16_chamfer/models.ckpt-60 is not in all_model_checkpoint_paths. Manually adding it.\n",
      "('Epoch:', '0061', 'training time (minutes)=', '0.0324', 'loss=', '0.000385147')\n",
      "('Epoch:', '0062', 'training time (minutes)=', '0.0311', 'loss=', '0.000371734')\n",
      "('Epoch:', '0063', 'training time (minutes)=', '0.0317', 'loss=', '0.000379342')\n",
      "('Epoch:', '0064', 'training time (minutes)=', '0.0319', 'loss=', '0.000374035')\n",
      "('Epoch:', '0065', 'training time (minutes)=', '0.0318', 'loss=', '0.000352677')\n",
      "('Epoch:', '0066', 'training time (minutes)=', '0.0319', 'loss=', '0.000346808')\n",
      "('Epoch:', '0067', 'training time (minutes)=', '0.0348', 'loss=', '0.000350709')\n",
      "('Epoch:', '0068', 'training time (minutes)=', '0.0323', 'loss=', '0.000365330')\n",
      "('Epoch:', '0069', 'training time (minutes)=', '0.0329', 'loss=', '0.000351209')\n",
      "('Epoch:', '0070', 'training time (minutes)=', '0.0312', 'loss=', '0.000338460')\n",
      "('Epoch:', '0071', 'training time (minutes)=', '0.0363', 'loss=', '0.000364662')\n",
      "('Epoch:', '0072', 'training time (minutes)=', '0.0323', 'loss=', '0.000399510')\n",
      "('Epoch:', '0073', 'training time (minutes)=', '0.0322', 'loss=', '0.000348852')\n",
      "('Epoch:', '0074', 'training time (minutes)=', '0.0314', 'loss=', '0.000333390')\n",
      "('Epoch:', '0075', 'training time (minutes)=', '0.0314', 'loss=', '0.000324068')\n",
      "('Epoch:', '0076', 'training time (minutes)=', '0.0318', 'loss=', '0.000321960')\n",
      "('Epoch:', '0077', 'training time (minutes)=', '0.0314', 'loss=', '0.000323731')\n",
      "('Epoch:', '0078', 'training time (minutes)=', '0.0314', 'loss=', '0.000324736')\n",
      "('Epoch:', '0079', 'training time (minutes)=', '0.0322', 'loss=', '0.000328799')\n",
      "('Epoch:', '0080', 'training time (minutes)=', '0.0309', 'loss=', '0.000336367')\n",
      "INFO:tensorflow:/orions4-zfs/projects/optas/DATA/OUT/iclr/nn_models/human_articulation_all_data_no_max_2048_pts_bneck_16_chamfer/models.ckpt-80 is not in all_model_checkpoint_paths. Manually adding it.\n",
      "('Epoch:', '0081', 'training time (minutes)=', '0.0312', 'loss=', '0.000317282')\n",
      "('Epoch:', '0082', 'training time (minutes)=', '0.0318', 'loss=', '0.000310779')\n",
      "('Epoch:', '0083', 'training time (minutes)=', '0.0334', 'loss=', '0.000308178')\n",
      "('Epoch:', '0084', 'training time (minutes)=', '0.0314', 'loss=', '0.000311443')\n",
      "('Epoch:', '0085', 'training time (minutes)=', '0.0313', 'loss=', '0.000321039')\n",
      "('Epoch:', '0086', 'training time (minutes)=', '0.0314', 'loss=', '0.000312660')\n",
      "('Epoch:', '0087', 'training time (minutes)=', '0.0316', 'loss=', '0.000315461')\n",
      "('Epoch:', '0088', 'training time (minutes)=', '0.0316', 'loss=', '0.000304441')\n",
      "('Epoch:', '0089', 'training time (minutes)=', '0.0329', 'loss=', '0.000296989')\n",
      "('Epoch:', '0090', 'training time (minutes)=', '0.0313', 'loss=', '0.000295309')\n",
      "('Epoch:', '0091', 'training time (minutes)=', '0.0318', 'loss=', '0.000315487')\n",
      "('Epoch:', '0092', 'training time (minutes)=', '0.0310', 'loss=', '0.000320435')\n",
      "('Epoch:', '0093', 'training time (minutes)=', '0.0317', 'loss=', '0.000313725')\n",
      "('Epoch:', '0094', 'training time (minutes)=', '0.0343', 'loss=', '0.000298438')\n",
      "('Epoch:', '0095', 'training time (minutes)=', '0.0320', 'loss=', '0.000289813')\n",
      "('Epoch:', '0096', 'training time (minutes)=', '0.0315', 'loss=', '0.000278520')\n",
      "('Epoch:', '0097', 'training time (minutes)=', '0.0319', 'loss=', '0.000281824')\n",
      "('Epoch:', '0098', 'training time (minutes)=', '0.0308', 'loss=', '0.000292552')\n",
      "('Epoch:', '0099', 'training time (minutes)=', '0.0323', 'loss=', '0.000304882')\n",
      "('Epoch:', '0100', 'training time (minutes)=', '0.0323', 'loss=', '0.000305692')\n",
      "INFO:tensorflow:/orions4-zfs/projects/optas/DATA/OUT/iclr/nn_models/human_articulation_all_data_no_max_2048_pts_bneck_16_chamfer/models.ckpt-100 is not in all_model_checkpoint_paths. Manually adding it.\n",
      "('Epoch:', '0101', 'training time (minutes)=', '0.0319', 'loss=', '0.000288712')\n",
      "('Epoch:', '0102', 'training time (minutes)=', '0.0307', 'loss=', '0.000286908')\n",
      "('Epoch:', '0103', 'training time (minutes)=', '0.0312', 'loss=', '0.000290292')\n",
      "('Epoch:', '0104', 'training time (minutes)=', '0.0316', 'loss=', '0.000293619')\n",
      "('Epoch:', '0105', 'training time (minutes)=', '0.0311', 'loss=', '0.000286556')\n",
      "('Epoch:', '0106', 'training time (minutes)=', '0.0313', 'loss=', '0.000289895')\n",
      "('Epoch:', '0107', 'training time (minutes)=', '0.0310', 'loss=', '0.000290005')\n",
      "('Epoch:', '0108', 'training time (minutes)=', '0.0308', 'loss=', '0.000273796')\n",
      "('Epoch:', '0109', 'training time (minutes)=', '0.0322', 'loss=', '0.000272248')\n",
      "('Epoch:', '0110', 'training time (minutes)=', '0.0319', 'loss=', '0.000290179')\n",
      "('Epoch:', '0111', 'training time (minutes)=', '0.0316', 'loss=', '0.000275753')\n",
      "('Epoch:', '0112', 'training time (minutes)=', '0.0323', 'loss=', '0.000276694')\n",
      "('Epoch:', '0113', 'training time (minutes)=', '0.0316', 'loss=', '0.000268035')\n",
      "('Epoch:', '0114', 'training time (minutes)=', '0.0312', 'loss=', '0.000286205')\n",
      "('Epoch:', '0115', 'training time (minutes)=', '0.0309', 'loss=', '0.000291432')\n",
      "('Epoch:', '0116', 'training time (minutes)=', '0.0319', 'loss=', '0.000274635')\n",
      "('Epoch:', '0117', 'training time (minutes)=', '0.0321', 'loss=', '0.000260474')\n",
      "('Epoch:', '0118', 'training time (minutes)=', '0.0341', 'loss=', '0.000256002')\n",
      "('Epoch:', '0119', 'training time (minutes)=', '0.0328', 'loss=', '0.000253012')\n",
      "('Epoch:', '0120', 'training time (minutes)=', '0.0317', 'loss=', '0.000279972')\n",
      "INFO:tensorflow:/orions4-zfs/projects/optas/DATA/OUT/iclr/nn_models/human_articulation_all_data_no_max_2048_pts_bneck_16_chamfer/models.ckpt-120 is not in all_model_checkpoint_paths. Manually adding it.\n",
      "('Epoch:', '0121', 'training time (minutes)=', '0.0313', 'loss=', '0.000265569')\n",
      "('Epoch:', '0122', 'training time (minutes)=', '0.0316', 'loss=', '0.000270463')\n",
      "('Epoch:', '0123', 'training time (minutes)=', '0.0310', 'loss=', '0.000271158')\n",
      "('Epoch:', '0124', 'training time (minutes)=', '0.0316', 'loss=', '0.000262922')\n",
      "('Epoch:', '0125', 'training time (minutes)=', '0.0313', 'loss=', '0.000265283')\n",
      "('Epoch:', '0126', 'training time (minutes)=', '0.0308', 'loss=', '0.000279191')\n",
      "('Epoch:', '0127', 'training time (minutes)=', '0.0323', 'loss=', '0.000276292')\n",
      "('Epoch:', '0128', 'training time (minutes)=', '0.0316', 'loss=', '0.000260964')\n",
      "('Epoch:', '0129', 'training time (minutes)=', '0.0313', 'loss=', '0.000253416')\n",
      "('Epoch:', '0130', 'training time (minutes)=', '0.0314', 'loss=', '0.000244209')\n",
      "('Epoch:', '0131', 'training time (minutes)=', '0.0355', 'loss=', '0.000247468')\n",
      "('Epoch:', '0132', 'training time (minutes)=', '0.0317', 'loss=', '0.000240015')\n",
      "('Epoch:', '0133', 'training time (minutes)=', '0.0324', 'loss=', '0.000251687')\n",
      "('Epoch:', '0134', 'training time (minutes)=', '0.0310', 'loss=', '0.000264175')\n",
      "('Epoch:', '0135', 'training time (minutes)=', '0.0313', 'loss=', '0.000256485')\n",
      "('Epoch:', '0136', 'training time (minutes)=', '0.0323', 'loss=', '0.000249607')\n",
      "('Epoch:', '0137', 'training time (minutes)=', '0.0319', 'loss=', '0.000242011')\n",
      "('Epoch:', '0138', 'training time (minutes)=', '0.0313', 'loss=', '0.000242646')\n",
      "('Epoch:', '0139', 'training time (minutes)=', '0.0310', 'loss=', '0.000241936')\n",
      "('Epoch:', '0140', 'training time (minutes)=', '0.0346', 'loss=', '0.000247909')\n",
      "INFO:tensorflow:/orions4-zfs/projects/optas/DATA/OUT/iclr/nn_models/human_articulation_all_data_no_max_2048_pts_bneck_16_chamfer/models.ckpt-140 is not in all_model_checkpoint_paths. Manually adding it.\n",
      "('Epoch:', '0141', 'training time (minutes)=', '0.0315', 'loss=', '0.000260164')\n",
      "('Epoch:', '0142', 'training time (minutes)=', '0.0315', 'loss=', '0.000263578')\n",
      "('Epoch:', '0143', 'training time (minutes)=', '0.0315', 'loss=', '0.000258734')\n",
      "('Epoch:', '0144', 'training time (minutes)=', '0.0309', 'loss=', '0.000248590')\n",
      "('Epoch:', '0145', 'training time (minutes)=', '0.0309', 'loss=', '0.000235443')\n",
      "('Epoch:', '0146', 'training time (minutes)=', '0.0311', 'loss=', '0.000239096')\n",
      "('Epoch:', '0147', 'training time (minutes)=', '0.0314', 'loss=', '0.000239299')\n",
      "('Epoch:', '0148', 'training time (minutes)=', '0.0326', 'loss=', '0.000243030')\n",
      "('Epoch:', '0149', 'training time (minutes)=', '0.0334', 'loss=', '0.000253803')\n",
      "('Epoch:', '0150', 'training time (minutes)=', '0.0314', 'loss=', '0.000247534')\n",
      "('Epoch:', '0151', 'training time (minutes)=', '0.0309', 'loss=', '0.000250212')\n",
      "('Epoch:', '0152', 'training time (minutes)=', '0.0353', 'loss=', '0.000242404')\n",
      "('Epoch:', '0153', 'training time (minutes)=', '0.0328', 'loss=', '0.000233786')\n",
      "('Epoch:', '0154', 'training time (minutes)=', '0.0317', 'loss=', '0.000240049')\n",
      "('Epoch:', '0155', 'training time (minutes)=', '0.0323', 'loss=', '0.000238098')\n",
      "('Epoch:', '0156', 'training time (minutes)=', '0.0313', 'loss=', '0.000231357')\n",
      "('Epoch:', '0157', 'training time (minutes)=', '0.0322', 'loss=', '0.000228041')\n",
      "('Epoch:', '0158', 'training time (minutes)=', '0.0311', 'loss=', '0.000237648')\n",
      "('Epoch:', '0159', 'training time (minutes)=', '0.0315', 'loss=', '0.000246129')\n",
      "('Epoch:', '0160', 'training time (minutes)=', '0.0334', 'loss=', '0.000238652')\n",
      "INFO:tensorflow:/orions4-zfs/projects/optas/DATA/OUT/iclr/nn_models/human_articulation_all_data_no_max_2048_pts_bneck_16_chamfer/models.ckpt-160 is not in all_model_checkpoint_paths. Manually adding it.\n",
      "('Epoch:', '0161', 'training time (minutes)=', '0.0314', 'loss=', '0.000232097')\n",
      "('Epoch:', '0162', 'training time (minutes)=', '0.0313', 'loss=', '0.000226215')\n",
      "('Epoch:', '0163', 'training time (minutes)=', '0.0315', 'loss=', '0.000232658')\n",
      "('Epoch:', '0164', 'training time (minutes)=', '0.0309', 'loss=', '0.000222090')\n",
      "('Epoch:', '0165', 'training time (minutes)=', '0.0309', 'loss=', '0.000232000')\n",
      "('Epoch:', '0166', 'training time (minutes)=', '0.0311', 'loss=', '0.000232336')\n",
      "('Epoch:', '0167', 'training time (minutes)=', '0.0311', 'loss=', '0.000239118')\n",
      "('Epoch:', '0168', 'training time (minutes)=', '0.0355', 'loss=', '0.000253460')\n",
      "('Epoch:', '0169', 'training time (minutes)=', '0.0323', 'loss=', '0.000239986')\n",
      "('Epoch:', '0170', 'training time (minutes)=', '0.0339', 'loss=', '0.000232502')\n",
      "('Epoch:', '0171', 'training time (minutes)=', '0.0329', 'loss=', '0.000233179')\n",
      "('Epoch:', '0172', 'training time (minutes)=', '0.0307', 'loss=', '0.000217486')\n",
      "('Epoch:', '0173', 'training time (minutes)=', '0.0303', 'loss=', '0.000216469')\n",
      "('Epoch:', '0174', 'training time (minutes)=', '0.0318', 'loss=', '0.000224495')\n",
      "('Epoch:', '0175', 'training time (minutes)=', '0.0315', 'loss=', '0.000219435')\n",
      "('Epoch:', '0176', 'training time (minutes)=', '0.0311', 'loss=', '0.000220996')\n",
      "('Epoch:', '0177', 'training time (minutes)=', '0.0313', 'loss=', '0.000220870')\n",
      "('Epoch:', '0178', 'training time (minutes)=', '0.0323', 'loss=', '0.000218676')\n",
      "('Epoch:', '0179', 'training time (minutes)=', '0.0312', 'loss=', '0.000222070')\n",
      "('Epoch:', '0180', 'training time (minutes)=', '0.0315', 'loss=', '0.000232524')\n",
      "INFO:tensorflow:/orions4-zfs/projects/optas/DATA/OUT/iclr/nn_models/human_articulation_all_data_no_max_2048_pts_bneck_16_chamfer/models.ckpt-180 is not in all_model_checkpoint_paths. Manually adding it.\n",
      "('Epoch:', '0181', 'training time (minutes)=', '0.0329', 'loss=', '0.000227109')\n",
      "('Epoch:', '0182', 'training time (minutes)=', '0.0317', 'loss=', '0.000222027')\n",
      "('Epoch:', '0183', 'training time (minutes)=', '0.0311', 'loss=', '0.000211961')\n",
      "('Epoch:', '0184', 'training time (minutes)=', '0.0333', 'loss=', '0.000213117')\n",
      "('Epoch:', '0185', 'training time (minutes)=', '0.0326', 'loss=', '0.000219315')\n",
      "('Epoch:', '0186', 'training time (minutes)=', '0.0318', 'loss=', '0.000219888')\n",
      "('Epoch:', '0187', 'training time (minutes)=', '0.0320', 'loss=', '0.000214096')\n",
      "('Epoch:', '0188', 'training time (minutes)=', '0.0317', 'loss=', '0.000209722')\n",
      "('Epoch:', '0189', 'training time (minutes)=', '0.0312', 'loss=', '0.000208268')\n",
      "('Epoch:', '0190', 'training time (minutes)=', '0.0321', 'loss=', '0.000210467')\n",
      "('Epoch:', '0191', 'training time (minutes)=', '0.0320', 'loss=', '0.000216794')\n",
      "('Epoch:', '0192', 'training time (minutes)=', '0.0312', 'loss=', '0.000229036')\n",
      "('Epoch:', '0193', 'training time (minutes)=', '0.0342', 'loss=', '0.000220029')\n",
      "('Epoch:', '0194', 'training time (minutes)=', '0.0330', 'loss=', '0.000214812')\n",
      "('Epoch:', '0195', 'training time (minutes)=', '0.0324', 'loss=', '0.000205697')\n",
      "('Epoch:', '0196', 'training time (minutes)=', '0.0311', 'loss=', '0.000201917')\n",
      "('Epoch:', '0197', 'training time (minutes)=', '0.0327', 'loss=', '0.000203681')\n",
      "('Epoch:', '0198', 'training time (minutes)=', '0.0319', 'loss=', '0.000215159')\n",
      "('Epoch:', '0199', 'training time (minutes)=', '0.0318', 'loss=', '0.000221851')\n",
      "('Epoch:', '0200', 'training time (minutes)=', '0.0333', 'loss=', '0.000218337')\n",
      "INFO:tensorflow:/orions4-zfs/projects/optas/DATA/OUT/iclr/nn_models/human_articulation_all_data_no_max_2048_pts_bneck_16_chamfer/models.ckpt-200 is not in all_model_checkpoint_paths. Manually adding it.\n"
     ]
    }
   ],
   "source": [
    "if do_training:\n",
    "    buf_size = 1 # flush each line\n",
    "    fout = open(osp.join(conf.train_dir, 'train_stats.txt'), 'a', buf_size)    \n",
    "    train_stats = ae.train(train_data, conf, log_file=fout)\n",
    "    fout.close()"
   ]
  }
 ],
 "metadata": {
  "kernelspec": {
   "display_name": "Python 2",
   "language": "python",
   "name": "python2"
  },
  "language_info": {
   "codemirror_mode": {
    "name": "ipython",
    "version": 2
   },
   "file_extension": ".py",
   "mimetype": "text/x-python",
   "name": "python",
   "nbconvert_exporter": "python",
   "pygments_lexer": "ipython2",
   "version": "2.7.6"
  }
 },
 "nbformat": 4,
 "nbformat_minor": 2
}
