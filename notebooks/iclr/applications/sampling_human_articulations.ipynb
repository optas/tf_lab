{
 "cells": [
  {
   "cell_type": "code",
   "execution_count": 14,
   "metadata": {
    "collapsed": true
   },
   "outputs": [],
   "source": [
    "from general_tools.in_out.basics import files_in_subdirs, copy_folder_structure\n",
    "from geo_tool import Point_Cloud, Mesh\n",
    "from geo_tool.solids import mesh_cleaning as cleaning\n",
    "import os.path as osp\n",
    "from multiprocessing import Pool\n",
    "from tf_lab.data_sets.articulated_human_poses import pc_sampler, pc_loader\n",
    "import numpy as np"
   ]
  },
  {
   "cell_type": "code",
   "execution_count": 3,
   "metadata": {
    "collapsed": true
   },
   "outputs": [],
   "source": [
    "%matplotlib inline"
   ]
  },
  {
   "cell_type": "code",
   "execution_count": 4,
   "metadata": {
    "collapsed": true
   },
   "outputs": [],
   "source": [
    "# Parameters\n",
    "n_threads = 50\n",
    "n_pc_samples = 4096\n",
    "top_mesh_dir = '/orions4-zfs/projects/optas/DATA/Meshes/Articulated_Mesh_Animations/'\n",
    "top_out_dir = '/orions4-zfs/projects/optas/DATA/Point_Clouds/Articulated_Mesh_Animations/'\n",
    "top_out_dir = osp.join(top_out_dir, str(n_pc_samples) + osp.sep)\n",
    "copy_folder_structure(top_mesh_dir, top_out_dir)"
   ]
  },
  {
   "cell_type": "code",
   "execution_count": 5,
   "metadata": {
    "collapsed": false
   },
   "outputs": [
    {
     "name": "stdout",
     "output_type": "stream",
     "text": [
      "2000\n"
     ]
    }
   ],
   "source": [
    "ending = '.obj'\n",
    "search_pattern = ending + '$'\n",
    "all_in_files = [f for f in files_in_subdirs(top_mesh_dir, search_pattern)]\n",
    "print len(all_in_files)"
   ]
  },
  {
   "cell_type": "code",
   "execution_count": 91,
   "metadata": {
    "collapsed": false
   },
   "outputs": [
    {
     "name": "stdout",
     "output_type": "stream",
     "text": [
      "Starting a pool with 50 workers.\n"
     ]
    }
   ],
   "source": [
    "drop = len(ending)\n",
    "pool = Pool(n_threads)\n",
    "print 'Starting a pool with %d workers.' % (n_threads, )\n",
    "\n",
    "for in_f in all_in_files:\n",
    "    out_f = in_f.replace(top_mesh_dir, top_out_dir)\n",
    "    out_f = out_f[:-drop]\n",
    "    pool.apply_async(pc_sampler, (in_f, n_pc_samples, out_f))\n",
    "    \n",
    "pool.close()\n",
    "pool.join()"
   ]
  },
  {
   "cell_type": "code",
   "execution_count": 6,
   "metadata": {
    "collapsed": false
   },
   "outputs": [
    {
     "name": "stdout",
     "output_type": "stream",
     "text": [
      "2000\n"
     ]
    }
   ],
   "source": [
    "all_in_files = [f for f in files_in_subdirs(top_out_dir, '.ply')]\n",
    "print len(all_in_files)"
   ]
  }
 ],
 "metadata": {
  "kernelspec": {
   "display_name": "Python 2",
   "language": "python",
   "name": "python2"
  },
  "language_info": {
   "codemirror_mode": {
    "name": "ipython",
    "version": 2
   },
   "file_extension": ".py",
   "mimetype": "text/x-python",
   "name": "python",
   "nbconvert_exporter": "python",
   "pygments_lexer": "ipython2",
   "version": "2.7.6"
  }
 },
 "nbformat": 4,
 "nbformat_minor": 2
}
