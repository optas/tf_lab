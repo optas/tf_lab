{
 "cells": [
  {
   "cell_type": "code",
   "execution_count": 1,
   "metadata": {
    "collapsed": false
   },
   "outputs": [
    {
     "name": "stdout",
     "output_type": "stream",
     "text": [
      "Picking GPU 1\n"
     ]
    }
   ],
   "source": [
    "from general_tools.notebook.gpu_utils import setup_one_gpu\n",
    "GPU = 1\n",
    "setup_one_gpu(GPU)"
   ]
  },
  {
   "cell_type": "code",
   "execution_count": 3,
   "metadata": {
    "collapsed": false
   },
   "outputs": [],
   "source": [
    "import numpy as np\n",
    "import os.path as osp\n",
    "import tensorflow as tf\n",
    "\n",
    "from general_tools.notebook.tf import reset_tf_graph\n",
    "from general_tools.in_out import create_dir\n",
    "\n",
    "from geo_tool import Point_Cloud\n",
    "\n",
    "from tf_lab.point_clouds.autoencoder import Configuration as Conf\n",
    "from tf_lab.point_clouds.point_net_ae import PointNetAutoEncoder\n",
    "from tf_lab.point_clouds.convenience import reconstruct_pclouds\n",
    "\n",
    "from tf_lab.data_sets.shape_net import snc_category_to_synth_id\n",
    "from tf_lab.iclr.helper import load_multiple_version_of_pcs, find_best_validation_epoch_from_train_stats"
   ]
  },
  {
   "cell_type": "code",
   "execution_count": 4,
   "metadata": {
    "collapsed": false
   },
   "outputs": [],
   "source": [
    "%load_ext autoreload\n",
    "%autoreload 2\n",
    "%matplotlib inline"
   ]
  },
  {
   "cell_type": "code",
   "execution_count": 5,
   "metadata": {
    "collapsed": false
   },
   "outputs": [
    {
     "name": "stdout",
     "output_type": "stream",
     "text": [
      "Give me the class type: chair\n"
     ]
    }
   ],
   "source": [
    "top_data_dir = '/orions4-zfs/projects/optas/DATA/'\n",
    "\n",
    "experiment_tag =  'mlp_with_split_1pc_usampled_bnorm_on_encoder_only'\n",
    "\n",
    "n_pc_points = 2048\n",
    "\n",
    "random_seed = 42\n",
    "\n",
    "loss = 'chamfer'\n",
    "\n",
    "class_name = raw_input('Give me the class type: ').lower()\n",
    "\n",
    "syn_id = snc_category_to_synth_id()[class_name]"
   ]
  },
  {
   "cell_type": "code",
   "execution_count": 6,
   "metadata": {
    "collapsed": false
   },
   "outputs": [
    {
     "name": "stdout",
     "output_type": "stream",
     "text": [
      "679 pclouds were loaded. They belong in 1 shape-classes.\n",
      "5761 pclouds were loaded. They belong in 1 shape-classes.\n",
      "338 pclouds were loaded. They belong in 1 shape-classes.\n"
     ]
    }
   ],
   "source": [
    "in_data = load_multiple_version_of_pcs('uniform_one', syn_id, n_classes=1)"
   ]
  },
  {
   "cell_type": "code",
   "execution_count": null,
   "metadata": {
    "collapsed": false,
    "scrolled": true
   },
   "outputs": [
    {
     "name": "stdout",
     "output_type": "stream",
     "text": [
      "INFO:tensorflow:Restoring parameters from /orions4-zfs/projects/optas/DATA/OUT/iclr/nn_models/ae_chair_mlp_with_split_1pc_usampled_bnorm_on_encoder_only_2048_pts_128_bneck_chamfer/models.ckpt-500\n"
     ]
    }
   ],
   "source": [
    "bneck_list = [4, 8, 16, 32, 64, 128, 256, 512]\n",
    "bneck_list = [128]\n",
    "for bneck in bneck_list:\n",
    "    experiment_id = '_'.join(['ae', class_name, experiment_tag, str(n_pc_points), 'pts', str(bneck), 'bneck', loss])\n",
    "    train_dir = osp.join(top_data_dir, 'OUT/iclr/nn_models/', experiment_id)        \n",
    "    conf = Conf.load(osp.join(train_dir, 'configuration'))\n",
    "    if conf.train_dir != train_dir:\n",
    "        conf.train_dir = train_dir        \n",
    "        conf.save(osp.join(train_dir, 'configuration'))\n",
    "    \n",
    "    val_error, best_epoch = find_best_validation_epoch_from_train_stats(osp.join(train_dir, 'train_stats.txt'))\n",
    "    \n",
    "    if best_epoch % conf.saver_step != 0: # Model was not saved at that epoch: use next bigger epoch.\n",
    "        epoch_to_load = best_epoch + (best_epoch % conf.saver_step)\n",
    "    else:\n",
    "        epoch_to_load = best_epoch\n",
    "    \n",
    "    conf.encoder_args['verbose'] = False\n",
    "    conf.decoder_args['verbose'] = False    \n",
    "    reset_tf_graph()\n",
    "    ae = PointNetAutoEncoder(conf.experiment_name, conf)    \n",
    "    ae.restore_model(conf.train_dir, epoch_to_load, verbose=True)\n",
    "    _, l_val = reconstruct_pclouds(ae, in_data['val'].point_clouds, batch_size=100)    \n",
    "    _, l_test = reconstruct_pclouds(ae, in_data['test'].point_clouds, batch_size=100)\n",
    "    _, l_train = reconstruct_pclouds(ae, in_data['train'].point_clouds, batch_size=100)\n",
    "    print bneck, l_val, l_test, l_train, best_epoch"
   ]
  }
 ],
 "metadata": {
  "kernelspec": {
   "display_name": "TensorFlow1",
   "language": "python",
   "name": "tf1"
  },
  "language_info": {
   "codemirror_mode": {
    "name": "ipython",
    "version": 2
   },
   "file_extension": ".py",
   "mimetype": "text/x-python",
   "name": "python",
   "nbconvert_exporter": "python",
   "pygments_lexer": "ipython2",
   "version": "2.7.6"
  }
 },
 "nbformat": 4,
 "nbformat_minor": 0
}
