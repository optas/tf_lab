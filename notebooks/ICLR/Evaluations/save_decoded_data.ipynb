{
 "cells": [
  {
   "cell_type": "code",
   "execution_count": 1,
   "metadata": {
    "collapsed": false,
    "deletable": true,
    "editable": true
   },
   "outputs": [
    {
     "name": "stdout",
     "output_type": "stream",
     "text": [
      "Picking GPU 0\n"
     ]
    }
   ],
   "source": [
    "from general_tools.notebook.gpu_utils import setup_one_gpu\n",
    "GPU = 0\n",
    "setup_one_gpu(GPU)"
   ]
  },
  {
   "cell_type": "code",
   "execution_count": 2,
   "metadata": {
    "collapsed": false,
    "deletable": true,
    "editable": true
   },
   "outputs": [],
   "source": [
    "import numpy as np\n",
    "import os.path as osp\n",
    "\n",
    "from general_tools.notebook.tf import reset_tf_graph\n",
    "from general_tools.in_out.basics import create_dir\n",
    "\n",
    "from tf_lab.in_out.basics import Data_Splitter\n",
    "from tf_lab.point_clouds.autoencoder import Configuration as Conf\n",
    "from tf_lab.point_clouds.point_net_ae import PointNetAutoEncoder\n",
    "from tf_lab.point_clouds.convenience import reconstruct_pclouds\n",
    "from tf_lab.data_sets.shape_net import snc_category_to_synth_id\n",
    "from tf_lab.iclr.helper import load_multiple_version_of_pcs, find_best_validation_epoch_from_train_stats"
   ]
  },
  {
   "cell_type": "code",
   "execution_count": 3,
   "metadata": {
    "collapsed": true,
    "deletable": true,
    "editable": true
   },
   "outputs": [],
   "source": [
    "def load_an_auto_encoder(b_neck, ae_experiment_tag, ae_loss, n_pc_points=2048):\n",
    "    # Load Auto-Encoder\n",
    "    ae_id = '_'.join(['ae', class_name, ae_experiment_tag, str(n_pc_points), 'pts', str(b_neck), 'bneck', ae_loss])\n",
    "    ae_train_dir = osp.join(top_data_dir, 'OUT/iclr/nn_models/', ae_id)\n",
    "    ae_conf = Conf.load(osp.join(ae_train_dir, 'configuration'))    \n",
    "    val_error, best_epoch = find_best_validation_epoch_from_train_stats(osp.join(ae_train_dir, 'train_stats.txt'))        \n",
    "    if best_epoch % ae_conf.saver_step != 0:\n",
    "        best_epoch += best_epoch % ae_conf.saver_step\n",
    "    ae_conf.encoder_args['verbose'] = False\n",
    "    ae_conf.decoder_args['verbose'] = False\n",
    "    reset_tf_graph()\n",
    "    ae = PointNetAutoEncoder(ae_conf.experiment_name, ae_conf)\n",
    "    ae.restore_model(ae_conf.train_dir, best_epoch, verbose=True)\n",
    "    return ae"
   ]
  },
  {
   "cell_type": "code",
   "execution_count": 4,
   "metadata": {
    "collapsed": false,
    "deletable": true,
    "editable": true
   },
   "outputs": [],
   "source": [
    "%load_ext autoreload\n",
    "%matplotlib inline\n",
    "%autoreload 2"
   ]
  },
  {
   "cell_type": "code",
   "execution_count": 6,
   "metadata": {
    "collapsed": false,
    "deletable": true,
    "editable": true
   },
   "outputs": [],
   "source": [
    "class_name = 'rifle'\n",
    "syn_id = snc_category_to_synth_id()[class_name]\n",
    "n_pc_points = 2048\n",
    "top_data_dir = '/orions4-zfs/projects/optas/DATA'\n",
    "ae_experiment_tag = 'mlp_with_split_1pc_usampled_bnorm_on_encoder_only'"
   ]
  },
  {
   "cell_type": "code",
   "execution_count": 7,
   "metadata": {
    "collapsed": false,
    "deletable": true,
    "editable": true
   },
   "outputs": [
    {
     "name": "stdout",
     "output_type": "stream",
     "text": [
      "238 pclouds were loaded. They belong in 1 shape-classes.\n",
      "2016 pclouds were loaded. They belong in 1 shape-classes.\n",
      "118 pclouds were loaded. They belong in 1 shape-classes.\n"
     ]
    }
   ],
   "source": [
    "in_data = load_multiple_version_of_pcs('uniform_one', syn_id, n_classes=1)"
   ]
  },
  {
   "cell_type": "code",
   "execution_count": 10,
   "metadata": {
    "collapsed": false,
    "deletable": true,
    "editable": true
   },
   "outputs": [
    {
     "data": {
      "text/plain": [
       "'/orions4-zfs/projects/lins2/Panos_Space/DATA/OUT/iclr/evaluations/decoded_gt_data/rifle/mlp_with_split_1pc_usampled_bnorm_on_encoder_only/emd_bneck_128'"
      ]
     },
     "execution_count": 10,
     "metadata": {},
     "output_type": "execute_result"
    }
   ],
   "source": [
    "ae_loss = 'emd'\n",
    "b_neck = 128\n",
    "top_lin_dir = '/orions4-zfs/projects/lins2/Panos_Space/DATA/'\n",
    "save_dir = osp.join(top_lin_dir, 'OUT/iclr/evaluations/decoded_gt_data/', \\\n",
    "                    class_name, ae_experiment_tag, ae_loss +'_bneck_'+ str(b_neck))\n",
    "create_dir(save_dir)"
   ]
  },
  {
   "cell_type": "code",
   "execution_count": 11,
   "metadata": {
    "collapsed": false,
    "deletable": true,
    "editable": true
   },
   "outputs": [
    {
     "name": "stdout",
     "output_type": "stream",
     "text": [
      "Model restored in epoch 450.\n",
      "train 61.152650818\n",
      "test 88.4904174805\n",
      "val 84.7438596305\n"
     ]
    }
   ],
   "source": [
    "ae_model = load_an_auto_encoder(b_neck, ae_experiment_tag, ae_loss)\n",
    "for s in ['train', 'test', 'val']:\n",
    "    recon, loss = reconstruct_pclouds(ae_model, in_data[s].point_clouds, batch_size=100)\n",
    "    print s, loss\n",
    "    np.savez(osp.join(save_dir, s),  recon)"
   ]
  }
 ],
 "metadata": {
  "kernelspec": {
   "display_name": "Python 2",
   "language": "python",
   "name": "python2"
  },
  "language_info": {
   "codemirror_mode": {
    "name": "ipython",
    "version": 2
   },
   "file_extension": ".py",
   "mimetype": "text/x-python",
   "name": "python",
   "nbconvert_exporter": "python",
   "pygments_lexer": "ipython2",
   "version": "2.7.6"
  }
 },
 "nbformat": 4,
 "nbformat_minor": 2
}
