{
 "cells": [
  {
   "cell_type": "code",
   "execution_count": 1,
   "metadata": {
    "collapsed": true
   },
   "outputs": [],
   "source": [
    "import os.path as osp\n",
    "from helper import find_best_model_in_metric_file  \n",
    "import matplotlib.pylab as plt\n",
    "from collections import  defaultdict\n",
    "from general_tools.simpletons import sort_dict_by_key\n",
    "from operator import itemgetter\n",
    "import numpy as np"
   ]
  },
  {
   "cell_type": "code",
   "execution_count": 2,
   "metadata": {
    "collapsed": true
   },
   "outputs": [],
   "source": [
    "%matplotlib inline"
   ]
  },
  {
   "cell_type": "code",
   "execution_count": 3,
   "metadata": {
    "collapsed": true
   },
   "outputs": [],
   "source": [
    "top_sample_dir = '/orions4-zfs/projects/optas/DATA/OUT/iclr/synthetic_samples/'\n",
    "top_evaluation_dir = '/orions4-zfs/projects/optas/DATA/OUT/iclr/evaluations/synthetic_data/'"
   ]
  },
  {
   "cell_type": "code",
   "execution_count": 22,
   "metadata": {
    "collapsed": true
   },
   "outputs": [],
   "source": [
    "def color_of_model(name):\n",
    "    colorings = {\n",
    "        'gmm': 'purple',        \n",
    "        'l_w_gan_small': 'blue',\n",
    "        'l_w_gan_large': 'cyan',\n",
    "        'l_gan_chamfer': 'green',\n",
    "        'l_gan_emd': 'yellow',        \n",
    "        'r_gan': 'red'\n",
    "    }\n",
    "    \n",
    "    return colorings[name]\n",
    "\n",
    "def legend_split_name(split):\n",
    "    if split == 'val':\n",
    "        return 'test'\n",
    "    elif split == 'test':\n",
    "        return 'val'\n",
    "    else:\n",
    "        return split\n",
    "\n",
    "def exp_plot_name(name):\n",
    "    names = {\n",
    "        'l_w_gan_small': 'l_w_emd',\n",
    "        'l_w_gan_large': 'l_w_gan_large',\n",
    "        'l_gan_chamfer': 'l_cham',\n",
    "        'l_gan_emd': 'l_emd',        \n",
    "        'r_gan': 'r_gan'\n",
    "    }\n",
    "    \n",
    "    return names[name]\n",
    "\n",
    "def exp_plot_marker(name):\n",
    "    names = {\n",
    "        'l_w_gan_small': '*',\n",
    "        'l_w_gan_large': '-',\n",
    "        'l_gan_chamfer': '^',\n",
    "        'l_gan_emd': 'v',        \n",
    "        'r_gan': '+'\n",
    "    }\n",
    "    return names[name]"
   ]
  },
  {
   "cell_type": "code",
   "execution_count": 23,
   "metadata": {
    "collapsed": true
   },
   "outputs": [],
   "source": [
    "def stored_synthetic_samples(class_name):\n",
    "    sample_dir = {'l_gan_emd': osp.join(top_sample_dir, 'l_gan/l_gan_' + class_name + '_mlp_with_split_1pc_usampled_bnorm_on_encoder_only_emd_bneck_128'),\n",
    "                  'l_gan_chamfer': osp.join(top_sample_dir, 'l_gan/l_gan_' + class_name + '_mlp_with_split_1pc_usampled_bnorm_on_encoder_only_chamfer_bneck_128'),\n",
    "                  'l_w_gan_small': osp.join(top_sample_dir, 'l_w_gan/l_w_gan_'+ class_name + '_mlp_with_split_1pc_usampled_bnorm_on_encoder_only_emd_bneck_128_lgan_arch'),\n",
    "                  'l_w_gan_large': osp.join(top_sample_dir, 'l_w_gan/l_w_gan_'+ class_name + '_mlp_with_split_1pc_usampled_bnorm_on_encoder_only_emd_bneck_128_lgan_arch_double_neurons'),\n",
    "                  'r_gan': osp.join(top_sample_dir, 'r_gan/r_gan_' + class_name + '_mlp_disc_4_fc_gen_raw_gan_2048_pts'),\n",
    "                  'gmm': osp.join(top_sample_dir, 'gmm/gmm_emd_' + class_name)\n",
    "                 }\n",
    "    \n",
    "    return sample_dir"
   ]
  },
  {
   "cell_type": "code",
   "execution_count": 24,
   "metadata": {
    "collapsed": false
   },
   "outputs": [],
   "source": [
    "def read_evaluation_file(in_file):\n",
    "    all_lines = []\n",
    "    res = dict()\n",
    "    with open(in_file, 'r') as fin:\n",
    "        for line in fin:\n",
    "            l = line.rstrip()\n",
    "            if len(l) > 0:\n",
    "                all_lines.append(l)\n",
    "    return all_lines\n",
    "\n",
    "def tokenize_evaluation_data(in_lines):\n",
    "    current_model = None\n",
    "    data_dict = defaultdict(dict)\n",
    "    \n",
    "    def model_name(model):\n",
    "        if model.startswith('epoch'):\n",
    "            return int(model[len('epoch_'):])\n",
    "\n",
    "        elif model.endswith('gaussians'):\n",
    "            tok = model.split('_')\n",
    "            cov_type = tok[-3]\n",
    "            n_gaussians = tok[-2]\n",
    "            return cov_type + '_' + n_gaussians\n",
    "            \n",
    "    for line in in_lines:\n",
    "        token = line.split()\n",
    "        if token[0] not in ['train', 'test', 'val']:\n",
    "            current_model = model_name(token[0])        # Varying epoch or n_gaussians \n",
    "        else:\n",
    "            try:\n",
    "                split, metric_value, metric_std = token # has - mean and std\n",
    "            except:\n",
    "                split, metric_value = token\n",
    "                metric_std = 0\n",
    "                \n",
    "            metric_value = float(metric_value)\n",
    "            metric_std = float(metric_std)\n",
    "            data_dict[split][current_model] = (metric_value, metric_std)            \n",
    "    return data_dict\n",
    "    \n",
    "    \n",
    "def find_best_model_in_metric(in_file, sort_by='test', report=['train', 'test', 'val']):    \n",
    "    all_lines = read_evaluation_file(in_file)\n",
    "    data_dict = tokenize_evaluation_data(all_lines)\n",
    "    stats = data_dict[sort_by]\n",
    "    best_model = sorted([(stats[s][0], stats[s][1], s) for s in stats.keys()])[0]\n",
    "    res = dict()\n",
    "    for s in report:\n",
    "        if s in data_dict:\n",
    "            res[s] = (best_model[2], data_dict[s][best_model[2]])        \n",
    "    return res\n",
    "\n",
    "def collect_data_for_all_experiments(exp_dict, metric):\n",
    "    data_col = dict()\n",
    "    for key in exp_dict.keys(): \n",
    "        exp_name = osp.basename(exp_dict[key]) \n",
    "        in_file = osp.join(top_evaluation_dir, class_name, metric, exp_name + '.txt')\n",
    "        \n",
    "        all_lines = read_evaluation_file(in_file)\n",
    "        data_col[key] = tokenize_evaluation_data(all_lines)\n",
    "    return data_col\n",
    "\n",
    "def stats_per_epoch_or_gaussian_type(data_dict, split='train'):\n",
    "    d = data_dict[split]\n",
    "    x = []\n",
    "    y = []\n",
    "    e = []\n",
    "    for key, val in sort_dict_by_key(d):\n",
    "        x.append(key)\n",
    "        y.append(val[0])\n",
    "        e.append(val[1])\n",
    "    return x, y, e"
   ]
  },
  {
   "cell_type": "code",
   "execution_count": 25,
   "metadata": {
    "collapsed": false
   },
   "outputs": [
    {
     "data": {
      "text/plain": [
       "'/orions4-zfs/projects/optas/DATA/OUT/iclr/synthetic_samples/l_w_gan/l_w_gan_chair_mlp_with_split_1pc_usampled_bnorm_on_encoder_only_emd_bneck_128_lgan_arch_double_neurons'"
      ]
     },
     "execution_count": 25,
     "metadata": {},
     "output_type": "execute_result"
    }
   ],
   "source": [
    "class_name = 'chair'\n",
    "exp_dict = stored_synthetic_samples(class_name)\n",
    "exp_dict.pop('l_w_gan_large', 'None')"
   ]
  },
  {
   "cell_type": "code",
   "execution_count": 26,
   "metadata": {
    "collapsed": false
   },
   "outputs": [],
   "source": [
    "boost_5_data = collect_data_for_all_experiments(exp_dict, 'mmd_chamfer_all_gt_boosted_5_time_synthetic')\n",
    "emd_100_500_data = collect_data_for_all_experiments(exp_dict, 'mmd_emd_sparse_3times_100gt_vs_500synthetic')\n",
    "jsd_data = collect_data_for_all_experiments(exp_dict, 'jsd')"
   ]
  },
  {
   "cell_type": "code",
   "execution_count": 27,
   "metadata": {
    "collapsed": false,
    "scrolled": true
   },
   "outputs": [
    {
     "data": {
      "image/png": "[encoded data removed]",
      "text/plain": [
       "<matplotlib.figure.Figure at 0x7f5618936550>"
      ]
     },
     "metadata": {},
     "output_type": "display_data"
    }
   ],
   "source": [
    "reduced_exp = exp_dict.copy()\n",
    "reduced_exp.pop('gmm', 'None')\n",
    "reduced_exp.pop('l_w_gan_large', 'None')\n",
    "emd_coverage = collect_data_for_all_experiments(reduced_exp, 'emd_coverage_over_epochs_gans_boost_test_3')\n",
    "emd_mmd_dense = collect_data_for_all_experiments(reduced_exp, 'emd_mmd_over_epochs_gans_boost_test_3')\n",
    "split = 'val'\n",
    "legend_names = []\n",
    "\n",
    "def exp_plot_name_on_large_gap(name):\n",
    "    names = {\n",
    "        'l_w_gan_small': 'Latent WGAN (EMD AE)',\n",
    "        'l_w_gan_large': 'l_w_gan_large',\n",
    "        'l_gan_chamfer': 'Latent GAN (Chamfer AE)',\n",
    "        'l_gan_emd': 'Latent GAN (EMD AE)',\n",
    "        'r_gan': 'Raw GAN'\n",
    "    }\n",
    "    return names[name]\n",
    "    \n",
    "for key in ['r_gan', 'l_gan_emd', 'l_gan_chamfer', 'l_w_gan_small']:\n",
    "    \n",
    "    _, y1, _ = stats_per_epoch_or_gaussian_type(emd_coverage[key], split)\n",
    "    _, y2, _ = stats_per_epoch_or_gaussian_type(emd_mmd_dense[key], split)    \n",
    "    y2 = np.array(y2)\n",
    "    y2 /= 2048\n",
    "    plt.plot(y1, y2, '-', color=color_of_model(key))    \n",
    "    legend_names.append(exp_plot_name_on_large_gap(key))\n",
    " \n",
    "plt.tick_params(axis='x', which='both', bottom='off', top='off')\n",
    "plt.tick_params(axis='y', which='both', left='off', right='off')\n",
    "plt.legend(legend_names)\n",
    "plt.title('MMD and Coverage via EMD (%s data)' % (legend_split_name(split)) )\n",
    "plt.ylabel('MMD')\n",
    "plt.xlabel('Coverage')\n",
    "\n",
    "for key in reduced_exp.keys():\n",
    "    _, y1, _ = stats_per_epoch_or_gaussian_type(emd_coverage[key], split)\n",
    "    _, y2, _ = stats_per_epoch_or_gaussian_type(emd_mmd_dense[key], split)    \n",
    "    y2 = np.array(y2)\n",
    "    y2 /= 2048    \n",
    "    for m in range(len(y1)):\n",
    "        plt.plot(y1[m], y2[m], marker=exp_plot_marker(key), color=color_of_model(key), markersize=(m+1) )"
   ]
  },
  {
   "cell_type": "code",
   "execution_count": 13,
   "metadata": {
    "collapsed": false
   },
   "outputs": [],
   "source": [
    "legend_names = []\n",
    "split = 'val'\n",
    "for key in exp_dict.keys():\n",
    "    if 'gan' in key:\n",
    "        x1, y1, _ = stats_per_epoch_or_gaussian_type(boost_5_data[key], split)\n",
    "        plt.plot(x1, y1, '*', color=color_of_model(key))        \n",
    "        legend_names.append(exp_plot_name(key))\n",
    "\n",
    "plt.xticks(x1, x1, rotation='vertical')    \n",
    "plt.tick_params(axis='x', which='both', bottom='off', top='off')\n",
    "plt.tick_params(axis='y', which='both', left='off', right='off')\n",
    "\n",
    "plt.legend(legend_names)\n",
    "plt.title('MMD-CD vs epochs (%s data)' % (legend_split_name(split)) )\n",
    "plt.ylabel('MMD-CD')\n",
    "plt.xlabel('Epochs')"
   ]
  },
  {
   "cell_type": "code",
   "execution_count": 14,
   "metadata": {
    "collapsed": false
   },
   "outputs": [],
   "source": [
    "legend_names = []\n",
    "split = 'val'\n",
    "for key in exp_dict.keys():\n",
    "    if 'gan' in key:\n",
    "        x1, y1, _ = stats_per_epoch_or_gaussian_type(emd_100_500_data[key], split)\n",
    "        plt.plot(x1, y1, '*', color= color_of_model(key))        \n",
    "        legend_names.append(exp_plot_name(key))\n",
    "\n",
    "# plt.xticks(x1, x1, rotation='vertical')    \n",
    "plt.tick_params(axis='x', which='both', bottom='off', top='off')\n",
    "plt.tick_params(axis='y', which='both', left='off', right='off')\n",
    "\n",
    "plt.legend(legend_names, loc=2)\n",
    "plt.title('MMD-EMD vs epochs (%s data)' % (legend_split_name(split)) )\n",
    "plt.ylabel('MMD-EMD')\n",
    "plt.xlabel('Epochs')\n"
   ]
  },
  {
   "cell_type": "code",
   "execution_count": 15,
   "metadata": {
    "collapsed": false,
    "scrolled": true
   },
   "outputs": [],
   "source": [
    "legend_names = []\n",
    "split = 'val'\n",
    "for key in exp_dict.keys():\n",
    "    if 'gan' in key:\n",
    "        x1, y1, _ = stats_per_epoch_or_gaussian_type(jsd_data[key], split)\n",
    "        plt.plot(x1, y1, '*', color=color_of_model(key))\n",
    "        legend_names.append(exp_plot_name(key))\n",
    "\n",
    "plt.xticks(x1, x1, rotation='vertical')    \n",
    "plt.tick_params(axis='x', which='both', bottom='off', top='off')\n",
    "plt.tick_params(axis='y', which='both', left='off', right='off')\n",
    "\n",
    "plt.legend(legend_names)\n",
    "plt.title('JSD vs epochs (%s data)' % (legend_split_name(split)) )\n",
    "plt.ylabel('JSD')\n",
    "plt.xlabel('Epochs')"
   ]
  },
  {
   "cell_type": "code",
   "execution_count": 16,
   "metadata": {
    "collapsed": false
   },
   "outputs": [],
   "source": [
    "# legend_names = []\n",
    "# split = 'train'\n",
    "# for key in ['l_gan_emd', 'l_w_gan_small', 'r_gan']:\n",
    "#     x1, y1, _ = stats_per_epoch_or_gaussian_type(jsd_data[key], 'train')\n",
    "#     plt.plot(x1, y1)\n",
    "#     legend_names.append(exp_plot_name(key) + '_train')\n",
    "#     x1, y1, _ = stats_per_epoch_or_gaussian_type(jsd_data[key], 'val')\n",
    "#     plt.plot(x1, y1)\n",
    "#     legend_names.append(exp_plot_name(key) + '_test')\n",
    "    \n",
    "# plt.legend(legend_names)\n",
    "# plt.title('JSD in Train and Test')\n",
    "# plt.ylabel('JSD')\n",
    "# plt.xlabel('Epochs')"
   ]
  },
  {
   "cell_type": "code",
   "execution_count": 17,
   "metadata": {
    "collapsed": false
   },
   "outputs": [],
   "source": [
    "# legend_names = []\n",
    "# split = 'train'\n",
    "# for key in ['gmm']:\n",
    "#     labels, y, _ = stats_per_epoch_or_gaussian_type(jsd_data[key], 'train')    \n",
    "#     labels_ = [l.split('_')for l in labels]\n",
    "#     labels_ = [(l[0], int(l[1])) for l in labels_]\n",
    "#     arg_labels = sorted(enumerate(labels_), key=itemgetter(1))\n",
    "#     labels = [l[1] for l in arg_labels]\n",
    "#     arg_y = [l[0] for l in arg_labels]\n",
    "#     x = np.arange(len(labels))\n",
    "#     plt.scatter(x, np.array(y)[arg_y])\n",
    "#     plt.xticks(x, labels, rotation='vertical')    \n",
    "#     plt.title('JSD of GMMs')\n",
    "#     plt.ylabel('JSD')\n",
    "#     plt.xlabel('cov,n_clusters')    \n",
    "#     plt.tick_params(axis='x', which='both', bottom='off', top='off')\n",
    "#     plt.tick_params(axis='y', which='both', left='off', right='off')"
   ]
  },
  {
   "cell_type": "code",
   "execution_count": 41,
   "metadata": {
    "collapsed": false,
    "scrolled": true
   },
   "outputs": [
    {
     "name": "stdout",
     "output_type": "stream",
     "text": [
      "l_w_gan_large\n",
      "best epoch 1800\n",
      "jsd train 0.005757\n",
      "emd_100_500 train 0.065281 0.001127\n",
      "jsd test 0.012905\n",
      "cd_boost_5 test 0.001636 0.000899\n",
      "jsd val 0.023214\n",
      "cd_boost_5 val 0.001829 0.001078\n",
      "emd_100_500 val 0.066818 0.000846\n",
      "gmm\n",
      "best epoch full_32\n",
      "jsd train 0.004899\n",
      "emd_100_500 train 0.065005 0.000931\n",
      "jsd test 0.011660\n",
      "cd_boost_5 test 0.001633 0.000893\n",
      "jsd val 0.019508\n",
      "cd_boost_5 val 0.001786 0.000986\n",
      "emd_100_500 val 0.067381 0.000817\n",
      "r_gan\n",
      "best epoch 1700\n",
      "jsd train 0.166009\n",
      "emd_100_500 train 0.123539 0.000802\n",
      "jsd test 0.168318\n",
      "cd_boost_5 test 0.001820 0.001093\n",
      "jsd val 0.174396\n",
      "cd_boost_5 val 0.002007 0.001294\n",
      "emd_100_500 val 0.122466 0.000800\n",
      "l_gan_chamfer\n",
      "best epoch 300\n",
      "jsd train 0.037284\n",
      "emd_100_500 train 0.082206 0.001701\n",
      "jsd test 0.039282\n",
      "cd_boost_5 test 0.001732 0.001117\n",
      "jsd val 0.043295\n",
      "cd_boost_5 val 0.001951 0.001422\n",
      "emd_100_500 val 0.079817 0.001062\n",
      "l_w_gan_small\n",
      "best epoch 1800\n",
      "jsd train 0.007762\n",
      "emd_100_500 train 0.066263 0.000734\n",
      "jsd test 0.015172\n",
      "cd_boost_5 test 0.001703 0.000922\n",
      "jsd val 0.021621\n",
      "cd_boost_5 val 0.001900 0.001066\n",
      "emd_100_500 val 0.069558 0.001597\n",
      "l_gan_emd\n",
      "best epoch 100\n",
      "jsd train 0.018802\n",
      "emd_100_500 train 0.070367 0.000288\n",
      "jsd test 0.027821\n",
      "cd_boost_5 test 0.002043 0.001731\n",
      "jsd val 0.030499\n",
      "cd_boost_5 val 0.002218 0.001754\n",
      "emd_100_500 val 0.070868 0.001532\n"
     ]
    }
   ],
   "source": [
    "# TODO\n",
    "# Add the average coverage below as a print-out\n",
    "# Double-check that on a single method thinks look ok - (manually)\n",
    "# Only report for the non-sort method the \"val\" (print it out as test to be done.)\n",
    "'mmd_chamfer_all_gt_boosted_5_time_synthetic'\n",
    "# 'mmd_emd_sparse_3times_100gt_vs_500synthetic'\n",
    "# 'jsd'\n",
    "\n",
    "sort_by_metric = 'jsd'\n",
    "report_metric_at = ['train', 'test', 'val']\n",
    "legend_names = []\n",
    "for key in exp_dict.keys():\n",
    "    print key\n",
    "    exp_name = osp.basename(exp_dict[key]) \n",
    "    in_file = osp.join(top_evaluation_dir, class_name, sort_by_metric, exp_name + '.txt')\n",
    "    best_model = find_best_model_in_metric(in_file, sort_by='test', report=report_metric_at)\n",
    "    best_id = best_model['test'][0]\n",
    "    print 'best epoch', best_id\n",
    "    for split in metric_eval_at:\n",
    "        print sort_by_metric, split, '%f' %(best_model[split][1][0], )\n",
    "        \n",
    "        if split in boost_5_data[key] and not 'mmd' in sort_by_metric:\n",
    "            st = boost_5_data[key][split][best_id]\n",
    "            print 'cd_boost_5 %s %f %f' % (split, st[0], st[1])\n",
    "        \n",
    "        if split in emd_100_500_data[key]:\n",
    "            st = emd_100_500_data[key][split][best_id]\n",
    "            print 'emd_100_500 %s %f %f' %(split, st[0] / float(2048), st[1] / float(2048))\n",
    "        \n",
    "        \n",
    "# #         if split in jsd_data[key]:\n",
    "# #             st = jsd_data[key][split][best_id]\n",
    "# #             print 'jsd %.4f' %(st[0])"
   ]
  },
  {
   "cell_type": "code",
   "execution_count": 56,
   "metadata": {
    "collapsed": true
   },
   "outputs": [],
   "source": []
  }
 ],
 "metadata": {
  "kernelspec": {
   "display_name": "Python 2",
   "language": "python",
   "name": "python2"
  },
  "language_info": {
   "codemirror_mode": {
    "name": "ipython",
    "version": 2
   },
   "file_extension": ".py",
   "mimetype": "text/x-python",
   "name": "python",
   "nbconvert_exporter": "python",
   "pygments_lexer": "ipython2",
   "version": "2.7.6"
  }
 },
 "nbformat": 4,
 "nbformat_minor": 2
}
