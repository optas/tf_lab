{
 "cells": [
  {
   "cell_type": "code",
   "execution_count": null,
   "metadata": {
    "collapsed": true
   },
   "outputs": [],
   "source": [
    "import os.path as osp\n",
    "from helper import find_best_model_in_metric_file  \n",
    "import matplotlib.pylab as plt\n",
    "from collections import  defaultdict\n",
    "from general_tools.simpletons import sort_dict_by_key"
   ]
  },
  {
   "cell_type": "code",
   "execution_count": null,
   "metadata": {
    "collapsed": true
   },
   "outputs": [],
   "source": [
    "%matplotlib inline"
   ]
  },
  {
   "cell_type": "code",
   "execution_count": null,
   "metadata": {
    "collapsed": true
   },
   "outputs": [],
   "source": [
    "top_sample_dir = '/orions4-zfs/projects/optas/DATA/OUT/iclr/synthetic_samples/'\n",
    "top_evaluation_dir = '/orions4-zfs/projects/optas/DATA/OUT/iclr/evaluations/synthetic_data/'"
   ]
  },
  {
   "cell_type": "code",
   "execution_count": null,
   "metadata": {
    "collapsed": true
   },
   "outputs": [],
   "source": [
    "def stored_synthetic_samples(class_name):\n",
    "    sample_dir = {'l_gan_emd': osp.join(top_sample_dir, 'l_gan/l_gan_' + class_name + '_mlp_with_split_1pc_usampled_bnorm_on_encoder_only_emd_bneck_128'),\n",
    "                  'l_gan_chamfer': osp.join(top_sample_dir, 'l_gan/l_gan_' + class_name + '_mlp_with_split_1pc_usampled_bnorm_on_encoder_only_chamfer_bneck_128'),\n",
    "                  'l_w_gan_small': osp.join(top_sample_dir, 'l_w_gan/l_w_gan_'+ class_name + '_mlp_with_split_1pc_usampled_bnorm_on_encoder_only_emd_bneck_128_lgan_arch'),\n",
    "                  'l_w_gan_large': osp.join(top_sample_dir, 'l_w_gan/l_w_gan_'+ class_name + '_mlp_with_split_1pc_usampled_bnorm_on_encoder_only_emd_bneck_128_lgan_arch_double_neurons'),\n",
    "                  'r_gan': osp.join(top_sample_dir, 'r_gan/r_gan_' + class_name + '_mlp_disc_4_fc_gen_raw_gan_2048_pts'),\n",
    "                  'gmm': osp.join(top_sample_dir, 'gmm/gmm_emd_' + class_name)\n",
    "                 }\n",
    "    \n",
    "    return sample_dir"
   ]
  },
  {
   "cell_type": "code",
   "execution_count": null,
   "metadata": {
    "collapsed": false
   },
   "outputs": [],
   "source": [
    "def read_evaluation_file(in_file):\n",
    "    all_lines = []\n",
    "    res = dict()\n",
    "    with open(in_file, 'r') as fin:\n",
    "        for line in fin:\n",
    "            l = line.rstrip()\n",
    "            if len(l) > 0:\n",
    "                all_lines.append(l)\n",
    "    return all_lines\n",
    "\n",
    "def tokenize_evaluation_data(in_lines, metric):\n",
    "    current_model = None\n",
    "    data_dict = defaultdict(dict)\n",
    "    \n",
    "    def model_name(model):\n",
    "        if model.startswith('epoch'):\n",
    "            return int(model[len('epoch_'):])\n",
    "\n",
    "        elif model.endswith('gaussians'):\n",
    "            tok = model.split('_')\n",
    "            cov_type = tok[-3]\n",
    "            n_gaussians = tok[-2]\n",
    "            return cov_type + '_' + n_gaussians\n",
    "            \n",
    "    for line in in_lines:\n",
    "        token = line.split()\n",
    "        if token[0] not in ['train', 'test', 'val']:\n",
    "            current_model = model_name(token[0])        # Varying epoch or n_gaussians \n",
    "        else:\n",
    "            if 'mmd' in metric.lower():       \n",
    "                split, metric_value, metric_std = token # split - mean - std\n",
    "            else:\n",
    "                split, metric_value = token\n",
    "                metric_std = 0\n",
    "                \n",
    "            metric_value = float(metric_value)\n",
    "            metric_std = float(metric_std)\n",
    "            data_dict[split][current_model] = (metric_value, metric_std)            \n",
    "    return data_dict\n",
    "    \n",
    "    \n",
    "def find_best_model_in_metric_file(in_file, metric, sort_by='test', report=['train', 'test', 'val']):    \n",
    "    all_lines = read_evaluation_file(in_file)\n",
    "    data_dict = tokenize_evaluation_data(all_lines, metric)\n",
    "    stats = data_dict[sort_by]\n",
    "    best_model = sorted([(stats[s][0], stats[s][1], s) for s in stats.keys()])[0]\n",
    "    res = dict()\n",
    "    for s in report:\n",
    "        res[s] = (best_model[2], data_dict[s][best_model[2]])        \n",
    "    return res\n",
    "\n",
    "def stats_per_epoch_or_n_clusters(data_dict, mu=True, split='train'):\n",
    "    d = data_dict[split]\n",
    "    x = []\n",
    "    y = []\n",
    "    e = []\n",
    "    for key, val in sort_dict_by_key(d):\n",
    "        x.append(key)\n",
    "        y.append(val[0])\n",
    "        e.append(val[1])\n",
    "    return x, y, e"
   ]
  },
  {
   "cell_type": "code",
   "execution_count": null,
   "metadata": {
    "collapsed": false
   },
   "outputs": [],
   "source": [
    "class_name = 'chair'\n",
    "exp_dict = stored_synthetic_samples(class_name)"
   ]
  },
  {
   "cell_type": "code",
   "execution_count": null,
   "metadata": {
    "collapsed": false
   },
   "outputs": [],
   "source": [
    "def collect_data_for_all_experiments(metric):\n",
    "    data_col = dict()\n",
    "    for key in exp_dict.keys(): \n",
    "        exp_name = osp.basename(exp_dict[key]) \n",
    "        in_file = osp.join(top_evaluation_dir, class_name, metric, exp_name + '.txt')\n",
    "        all_lines = read_evaluation_file(in_file)\n",
    "        data_col[key] = tokenize_evaluation_data(all_lines, metric)\n",
    "    return data_col\n",
    "    \n",
    "boost_5 = collect_data_for_all_experiments('mmd_chamfer_all_gt_boost_sample_5')\n",
    "emd_40_200 = collect_data_for_all_experiments('mmd_emd_10_samples_40gt_200_synthetic')"
   ]
  },
  {
   "cell_type": "code",
   "execution_count": null,
   "metadata": {
    "collapsed": false
   },
   "outputs": [],
   "source": [
    "boost_5['gmm']"
   ]
  },
  {
   "cell_type": "code",
   "execution_count": 86,
   "metadata": {
    "collapsed": false
   },
   "outputs": [
    {
     "name": "stdout",
     "output_type": "stream",
     "text": [
      "l_w_gan_large\n",
      "(1800, (0.0129051323397, 0.0))\n",
      "(1800, (0.00575715240621, 0.0))\n",
      "(1800, (0.0232135225627, 0.0))\n",
      "1800\n",
      "(0.00182876, 0.00107758)\n",
      "gmm\n",
      "('full_32', (0.0116601563822, 0.0))\n",
      "('full_32', (0.0048985564863, 0.0))\n",
      "('full_32', (0.0195082775895, 0.0))\n",
      "full_32\n",
      "(0.00178594, 0.000985896)\n",
      "r_gan\n",
      "(1700, (0.168318301096, 0.0))\n",
      "(1700, (0.166008910939, 0.0))\n",
      "(1700, (0.174395941161, 0.0))\n",
      "1700\n",
      "(0.0020074, 0.00129437)\n",
      "l_gan_chamfer\n",
      "(300, (0.0392821033717, 0.0))\n",
      "(300, (0.037283807901, 0.0))\n",
      "(300, (0.0432948085431, 0.0))\n",
      "300\n",
      "(0.00195145, 0.00142163)\n",
      "l_w_gan_small\n",
      "(1800, (0.0151715749576, 0.0))\n",
      "(1800, (0.00776201578168, 0.0))\n",
      "(1800, (0.0216213965001, 0.0))\n",
      "1800\n",
      "(0.00189966, 0.00106629)\n",
      "l_gan_emd\n",
      "(100, (0.0278214518934, 0.0))\n",
      "(100, (0.0188023663357, 0.0))\n",
      "(100, (0.0304988906138, 0.0))\n",
      "100\n",
      "(0.0022182, 0.00175354)\n"
     ]
    }
   ],
   "source": [
    "# metric = 'mmd_emd_10_samples_40gt_200_synthetic'\n",
    "# metric =  'mmd_chamfer_all_gt_boost_sample_5'\n",
    "metric = 'jsd'\n",
    "\n",
    "legend_names = []\n",
    "for key in exp_dict.keys():\n",
    "    print key\n",
    "    exp_name = osp.basename(exp_dict[key]) \n",
    "    try:\n",
    "        in_file = osp.join(top_evaluation_dir, class_name, metric, exp_name + '.txt')\n",
    "        best_model = find_best_model_in_metric_file(in_file, sort_by='test')\n",
    "        print best_model['test']\n",
    "        print best_model['train']\n",
    "        print best_model['val']\n",
    "        best_id = best_model['val'][0]\n",
    "        print best_id\n",
    "        print boost_5[key]['val'][best_id]\n",
    "                \n",
    "#         if 'gan' in exp_name:\n",
    "#             legend_names.append(key)\n",
    "#             x, y, e = stats_per_epoch_or_n_clusters(data_dict, split='test')\n",
    "#             plt.plot(x, y)\n",
    "#             plt.errorbar(x, y, yerr=e, fmt='-o')    \n",
    "    except:\n",
    "        pass\n",
    "#     plt.legend(legend_names)\n",
    "#     plt.title('MMD via EMD:10-40-200 on Test')\n",
    "#     plt.title('MMD via CD :5x_boost, Test')\n"
   ]
  },
  {
   "cell_type": "code",
   "execution_count": 168,
   "metadata": {
    "collapsed": false
   },
   "outputs": [
    {
     "data": {
      "text/plain": [
       "['l_gan_chai']"
      ]
     },
     "execution_count": 168,
     "metadata": {},
     "output_type": "execute_result"
    }
   ],
   "source": []
  },
  {
   "cell_type": "code",
   "execution_count": 77,
   "metadata": {
    "collapsed": false
   },
   "outputs": [],
   "source": []
  },
  {
   "cell_type": "code",
   "execution_count": 78,
   "metadata": {
    "collapsed": false
   },
   "outputs": [
    {
     "name": "stdout",
     "output_type": "stream",
     "text": [
      "[('epoch_1', 0.565079913793), ('epoch_5', 0.189998208), ('epoch_10', 0.144929599114), ('epoch_100', 0.0188023663357), ('epoch_200', 0.019968082549), ('epoch_300', 0.0212707079852), ('epoch_400', 0.0260263323931), ('epoch_500', 0.0319902814686), ('epoch_600', 0.0410287836666), ('epoch_700', 0.0453361305382), ('epoch_800', 0.0490666616269), ('epoch_900', 0.0571608591114), ('epoch_1000', 0.0655948237147), ('epoch_1100', 0.072259531547), ('epoch_1200', 0.0775247490998), ('epoch_1300', 0.0839207411086), ('epoch_1400', 0.0888661407953), ('epoch_1500', 0.0969888565771), ('epoch_1600', 0.101222055355), ('epoch_1700', 0.109395842314), ('epoch_1800', 0.113843501558), ('epoch_1900', 0.119827432313), ('epoch_2000', 0.720983298393)]\n"
     ]
    },
    {
     "data": {
      "image/png": "[encoded data removed]",
      "text/plain": [
       "<matplotlib.figure.Figure at 0x7f6b3f66a590>"
      ]
     },
     "metadata": {},
     "output_type": "display_data"
    }
   ],
   "source": [
    "plot_stats_per_epoch()\n"
   ]
  }
 ],
 "metadata": {
  "kernelspec": {
   "display_name": "Python 2",
   "language": "python",
   "name": "python2"
  },
  "language_info": {
   "codemirror_mode": {
    "name": "ipython",
    "version": 2
   },
   "file_extension": ".py",
   "mimetype": "text/x-python",
   "name": "python",
   "nbconvert_exporter": "python",
   "pygments_lexer": "ipython2",
   "version": "2.7.6"
  }
 },
 "nbformat": 4,
 "nbformat_minor": 2
}
