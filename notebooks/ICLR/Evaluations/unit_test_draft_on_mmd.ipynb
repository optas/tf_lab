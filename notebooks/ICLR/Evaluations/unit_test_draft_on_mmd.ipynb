{
 "cells": [
  {
   "cell_type": "code",
   "execution_count": 2,
   "metadata": {
    "collapsed": false
   },
   "outputs": [
    {
     "name": "stdout",
     "output_type": "stream",
     "text": [
      "Picking GPU 2\n"
     ]
    }
   ],
   "source": [
    "from general_tools.notebook.gpu_utils import setup_one_gpu\n",
    "GPU = 2\n",
    "setup_one_gpu(GPU)"
   ]
  },
  {
   "cell_type": "code",
   "execution_count": 70,
   "metadata": {
    "collapsed": false
   },
   "outputs": [],
   "source": [
    "import tensorflow as tf\n",
    "import warnings\n",
    "import os.path as osp\n",
    "import numpy as np\n",
    "from tf_lab.evaluate.generative_pc_nets import minimum_mathing_distance"
   ]
  },
  {
   "cell_type": "code",
   "execution_count": 42,
   "metadata": {
    "collapsed": true
   },
   "outputs": [],
   "source": [
    "n_examples = 10"
   ]
  },
  {
   "cell_type": "code",
   "execution_count": 43,
   "metadata": {
    "collapsed": true
   },
   "outputs": [],
   "source": [
    "class_name = 'chair'\n",
    "top_gt_dir = '/orions4-zfs/projects/optas/DATA/OUT/iclr/evaluations/gt_data/'\n",
    "gt_train_file = osp.join(top_gt_dir, class_name + '_train.npz')\n",
    "gt_train_data = np.load(gt_train_file)  \n",
    "gt_train_data = gt_train_data[gt_train_data.keys()[0]]"
   ]
  },
  {
   "cell_type": "code",
   "execution_count": 44,
   "metadata": {
    "collapsed": true
   },
   "outputs": [],
   "source": [
    "a_pc_set = gt_train_data[:n_examples]\n",
    "b_pc_set = gt_train_data[n_examples:n_examples*2]"
   ]
  },
  {
   "cell_type": "code",
   "execution_count": 45,
   "metadata": {
    "collapsed": true
   },
   "outputs": [],
   "source": [
    "from geo_tool.point_clouds.aux import chamfer_pseudo_distance"
   ]
  },
  {
   "cell_type": "code",
   "execution_count": 110,
   "metadata": {
    "collapsed": false
   },
   "outputs": [],
   "source": [
    "mmd_dists = []\n",
    "for i in range(n_examples):\n",
    "    all_dist_i = []\n",
    "    for b in b_pc_set:\n",
    "        all_dist_i.append(chamfer_pseudo_distance(a_pc_set[i], b))\n",
    "    mmd_dists.append(min(all_dist_i))"
   ]
  },
  {
   "cell_type": "code",
   "execution_count": 111,
   "metadata": {
    "collapsed": false
   },
   "outputs": [
    {
     "data": {
      "text/plain": [
       "162.45324374641538"
      ]
     },
     "execution_count": 111,
     "metadata": {},
     "output_type": "execute_result"
    }
   ],
   "source": [
    "np.mean(mmd_dists)"
   ]
  },
  {
   "cell_type": "code",
   "execution_count": 107,
   "metadata": {
    "collapsed": true
   },
   "outputs": [],
   "source": [
    "def minimum_mathing_distance_3(sample_pcs, ref_pcs, batch_size, normalize=False, sess=None, verbose=False):\n",
    "    ''' normalize (boolean): if True the Chamfer distance between two point-clouds is the average of matched\n",
    "                             point-distances. Alternatively, is their sum.\n",
    "    '''\n",
    "    if normalize:\n",
    "        reducer = tf.reduce_mean\n",
    "    else:\n",
    "        reducer = tf.reduce_sum\n",
    "\n",
    "    if sess is None:\n",
    "        config = tf.ConfigProto()\n",
    "        config.gpu_options.allow_growth = True\n",
    "        sess = tf.Session(config=config)\n",
    "\n",
    "    n_ref, n_pc_points, pc_dim = ref_pcs.shape\n",
    "    _, n_pc_points_s, pc_dim_s = sample_pcs.shape\n",
    "\n",
    "    if n_pc_points != n_pc_points_s or pc_dim != pc_dim_s:\n",
    "        raise ValueError('Incompatible Point-Clouds.')\n",
    "\n",
    "    # TF Graph Operations\n",
    "    ref_pl = tf.placeholder(tf.float32, shape=(1, n_pc_points, pc_dim))\n",
    "    sample_pl = tf.placeholder(tf.float32, shape=(None, n_pc_points, pc_dim))\n",
    "\n",
    "    repeat_times = tf.shape(sample_pl)[0]   # slower- could be used to use entire set of samples.\n",
    "#     repeat_times = batch_size\n",
    "    ref_repeat = tf.tile(ref_pl, [repeat_times, 1, 1])\n",
    "    ref_repeat = tf.reshape(ref_repeat, [repeat_times, n_pc_points, pc_dim])\n",
    "\n",
    "    ref_to_s, _, s_to_ref, _ = nn_distance(ref_repeat, sample_pl)\n",
    "    ref_to_s = tf.sqrt(ref_to_s)\n",
    "    s_to_ref = tf.sqrt(s_to_ref)\n",
    "    \n",
    "    chamfer_dist_batch = reducer(ref_to_s, 1) + reducer(s_to_ref, 1)\n",
    "\n",
    "    best_in_batch = tf.reduce_min(chamfer_dist_batch)   # Best distance, of those that were matched to single ref pc.\n",
    "    matched_dists = []\n",
    "    for i in xrange(n_ref):\n",
    "        best_in_all_batches = []\n",
    "        if verbose and i % 50 == 0:\n",
    "            print i\n",
    "        for sample_chunk in iterate_in_chunks(sample_pcs, batch_size):\n",
    "#             if len(sample_chunk) != batch_size:\n",
    "#                 continue\n",
    "            feed_dict = {ref_pl: np.expand_dims(ref_pcs[i], 0), sample_pl: sample_chunk}\n",
    "            b = sess.run(best_in_batch, feed_dict=feed_dict)\n",
    "            best_in_all_batches.append(b)\n",
    "\n",
    "        matched_dists.append(np.min(best_in_all_batches))\n",
    "\n",
    "    mmd = np.mean(matched_dists)\n",
    "    return mmd, matched_dists"
   ]
  },
  {
   "cell_type": "code",
   "execution_count": 114,
   "metadata": {
    "collapsed": false
   },
   "outputs": [
    {
     "data": {
      "text/plain": [
       "(162.45323,\n",
       " [209.44739,\n",
       "  171.06543,\n",
       "  185.34439,\n",
       "  150.00891,\n",
       "  174.49524,\n",
       "  143.40103,\n",
       "  164.32225,\n",
       "  140.96434,\n",
       "  135.12698,\n",
       "  150.35646])"
      ]
     },
     "execution_count": 114,
     "metadata": {},
     "output_type": "execute_result"
    }
   ],
   "source": [
    "minimum_mathing_distance_3(b_pc_set, a_pc_set, 3)"
   ]
  }
 ],
 "metadata": {
  "kernelspec": {
   "display_name": "Python 2",
   "language": "python",
   "name": "python2"
  },
  "language_info": {
   "codemirror_mode": {
    "name": "ipython",
    "version": 2
   },
   "file_extension": ".py",
   "mimetype": "text/x-python",
   "name": "python",
   "nbconvert_exporter": "python",
   "pygments_lexer": "ipython2",
   "version": "2.7.6"
  }
 },
 "nbformat": 4,
 "nbformat_minor": 2
}
