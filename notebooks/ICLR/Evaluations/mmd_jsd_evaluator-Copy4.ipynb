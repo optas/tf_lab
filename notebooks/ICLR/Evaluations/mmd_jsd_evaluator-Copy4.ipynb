{
 "cells": [
  {
   "cell_type": "code",
   "execution_count": 1,
   "metadata": {
    "collapsed": false
   },
   "outputs": [
    {
     "name": "stdout",
     "output_type": "stream",
     "text": [
      "Picking GPU 2\n"
     ]
    }
   ],
   "source": [
    "from general_tools.notebook.gpu_utils import setup_one_gpu\n",
    "GPU = 2\n",
    "setup_one_gpu(GPU)"
   ]
  },
  {
   "cell_type": "code",
   "execution_count": 2,
   "metadata": {
    "collapsed": false
   },
   "outputs": [],
   "source": [
    "import sys\n",
    "import numpy as np\n",
    "import os.path as osp\n",
    "from evaluator import Evaluator\n",
    "from general_tools.in_out.basics import files_in_subdirs\n",
    "from helper import stored_synthetic_samples, top_evaluation_dir"
   ]
  },
  {
   "cell_type": "code",
   "execution_count": 3,
   "metadata": {
    "collapsed": false
   },
   "outputs": [],
   "source": [
    "%load_ext autoreload\n",
    "%autoreload 2\n",
    "%matplotlib inline"
   ]
  },
  {
   "cell_type": "code",
   "execution_count": 4,
   "metadata": {
    "collapsed": false
   },
   "outputs": [],
   "source": [
    "class_name = 'chair'\n",
    "do_jsd = False\n",
    "do_mmd = True\n",
    "save_res = True\n",
    "top_out_dir = top_evaluation_dir\n",
    "\n",
    "experiment_name = 'gmm'\n",
    "sample_mmd = True\n",
    "\n",
    "n_samples = 10\n",
    "ref_pop = 40\n",
    "sample_pop = 200\n",
    "\n",
    "mmd_loss = 'emd'\n",
    "\n",
    "special_tag = 'emd_sample_40_200'\n",
    "skip = ['test', 'val']"
   ]
  },
  {
   "cell_type": "code",
   "execution_count": 5,
   "metadata": {
    "collapsed": false
   },
   "outputs": [],
   "source": [
    "top_sample_dir = stored_synthetic_samples(class_name)[experiment_name]"
   ]
  },
  {
   "cell_type": "code",
   "execution_count": 6,
   "metadata": {
    "collapsed": false
   },
   "outputs": [],
   "source": [
    "if save_res:\n",
    "    exp_name = osp.basename(top_sample_dir)\n",
    "    if do_jsd:\n",
    "        f_jsd = open(osp.join(top_out_dir, class_name, 'jsd_' + special_tag + exp_name + '.txt'), 'w')\n",
    "            \n",
    "    if do_mmd:\n",
    "        f_mmd = open(osp.join(top_out_dir, class_name, 'mmd_' + special_tag + exp_name + '.txt'), 'w')\n",
    "else:\n",
    "    f_jsd = sys.stdout\n",
    "    f_mmd = sys.stdout"
   ]
  },
  {
   "cell_type": "code",
   "execution_count": 7,
   "metadata": {
    "collapsed": false
   },
   "outputs": [],
   "source": [
    "if experiment_name.startswith('l_') and 'gan' in experiment_name:\n",
    "    epochs_to_check = np.hstack([np.array([1, 5, 10]), np.arange(100, 2001, 100)])\n",
    "elif experiment_name.startswith('r_gan'):\n",
    "    epochs_to_check = np.hstack([np.array([1, 5, 10]), np.arange(50, 2001, 50)])"
   ]
  },
  {
   "cell_type": "code",
   "execution_count": 8,
   "metadata": {
    "collapsed": false
   },
   "outputs": [],
   "source": [
    "sample_files = []\n",
    "if 'gan' in experiment_name:\n",
    "    for epoch in epochs_to_check:\n",
    "        sample_files.append(osp.join(top_sample_dir, 'epoch_%d.npz' % (epoch,) ))\n",
    "elif 'gmm' in experiment_name:\n",
    "    for f in files_in_subdirs(top_sample_dir, '.npz'):\n",
    "        sample_files.append(f) \n",
    "else:\n",
    "    assert False"
   ]
  },
  {
   "cell_type": "code",
   "execution_count": 9,
   "metadata": {
    "collapsed": false
   },
   "outputs": [],
   "source": [
    "evaluator = Evaluator(class_name)\n",
    "evaluator.load_gt_data()\n",
    "if do_jsd:\n",
    "    evaluator.prepare_gt_grid_variables()"
   ]
  },
  {
   "cell_type": "code",
   "execution_count": 10,
   "metadata": {
    "collapsed": false,
    "scrolled": false
   },
   "outputs": [
    {
     "name": "stdout",
     "output_type": "stream",
     "text": [
      "bneck_128_diag_20_gaussians\n",
      "train 276.272 4.9693\n",
      "\n",
      "bneck_128_full_40_gaussians\n",
      "train 289.014 7.91694\n",
      "\n",
      "bneck_128_full_24_gaussians\n",
      "train 283.632 7.34627\n",
      "\n",
      "bneck_128_full_30_gaussians\n",
      "train 285.031 4.84107\n",
      "\n",
      "bneck_128_full_18_gaussians\n",
      "train 291.191 12.5011\n",
      "\n",
      "bneck_128_full_12_gaussians\n",
      "train 292.199 7.19675\n",
      "\n",
      "bneck_128_full_4_gaussians\n",
      "train 283.824 5.81224\n",
      "\n",
      "bneck_128_full_10_gaussians\n",
      "train 288.307 8.04031\n",
      "\n",
      "bneck_128_full_38_gaussians\n",
      "train 291.367 9.17959\n",
      "\n",
      "bneck_128_full_6_gaussians\n",
      "train 283.556 5.16382\n",
      "\n",
      "bneck_128_full_26_gaussians\n",
      "train 282.526 6.89303\n",
      "\n",
      "bneck_128_full_32_gaussians\n",
      "train 293.174 5.29465\n",
      "\n",
      "bneck_128_full_36_gaussians\n",
      "train 289.773 10.0115\n",
      "\n",
      "bneck_128_full_8_gaussians\n",
      "train 292.737 7.18419\n",
      "\n",
      "bneck_128_full_22_gaussians\n",
      "train 293.03 6.73058\n",
      "\n",
      "bneck_128_full_14_gaussians\n",
      "train 287.803 7.67572\n",
      "\n",
      "bneck_128_full_2_gaussians\n",
      "train 284.646 6.81409\n",
      "\n",
      "bneck_128_full_28_gaussians\n",
      "train 290.784 7.30619\n",
      "\n",
      "bneck_128_diag_10_gaussians\n",
      "train 269.332 3.96571\n",
      "\n",
      "bneck_128_diag_5_gaussians\n",
      "train 263.554 7.90262\n",
      "\n",
      "bneck_128_full_16_gaussians\n",
      "train 285.508 7.34548\n",
      "\n",
      "bneck_128_diag_30_gaussians\n",
      "train 273.988 7.95826\n",
      "\n",
      "bneck_128_diag_128_gaussians\n",
      "train 279.899 7.21183\n",
      "\n",
      "bneck_128_full_34_gaussians\n",
      "train 293.052 4.85983\n",
      "\n",
      "bneck_128_full_20_gaussians\n",
      "train 290.52 7.3273\n",
      "\n"
     ]
    }
   ],
   "source": [
    "for sample_file in sample_files:\n",
    "    evaluator.prepare_sample_data(sample_file)\n",
    "    sample_name = osp.basename(sample_file)[:-len('.npz')]\n",
    "    print sample_name\n",
    "    if do_jsd:\n",
    "        f_jsd.write(sample_name + '\\n')\n",
    "        evaluator.compute_jsd(f_out=f_jsd)\n",
    "        f_jsd.flush()\n",
    "    if do_mmd:\n",
    "        f_mmd.write(sample_name + '\\n')\n",
    "        evaluator.compute_mmd(loss=mmd_loss, sample_estimator=sample_mmd, n_samples=n_samples, \n",
    "                              ref_pop_size=ref_pop, sample_pop_size=sample_pop,\n",
    "                              f_out=f_mmd, skip=skip)\n",
    "        f_mmd.flush()\n",
    "    print"
   ]
  },
  {
   "cell_type": "code",
   "execution_count": 11,
   "metadata": {
    "collapsed": true
   },
   "outputs": [],
   "source": [
    "if save_res:\n",
    "    if do_jsd:\n",
    "        f_jsd.close()\n",
    "    if do_mmd:\n",
    "        f_mmd.close()"
   ]
  }
 ],
 "metadata": {
  "kernelspec": {
   "display_name": "Python 2",
   "language": "python",
   "name": "python2"
  },
  "language_info": {
   "codemirror_mode": {
    "name": "ipython",
    "version": 2
   },
   "file_extension": ".py",
   "mimetype": "text/x-python",
   "name": "python",
   "nbconvert_exporter": "python",
   "pygments_lexer": "ipython2",
   "version": "2.7.6"
  }
 },
 "nbformat": 4,
 "nbformat_minor": 2
}
