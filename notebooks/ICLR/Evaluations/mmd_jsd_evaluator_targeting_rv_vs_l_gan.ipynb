{
 "cells": [
  {
   "cell_type": "code",
   "execution_count": 1,
   "metadata": {
    "collapsed": false,
    "deletable": true,
    "editable": true
   },
   "outputs": [
    {
     "name": "stdout",
     "output_type": "stream",
     "text": [
      "Picking GPU 0\n"
     ]
    }
   ],
   "source": [
    "from general_tools.notebook.gpu_utils import setup_one_gpu\n",
    "GPU = 0\n",
    "setup_one_gpu(GPU)"
   ]
  },
  {
   "cell_type": "code",
   "execution_count": 2,
   "metadata": {
    "collapsed": false,
    "deletable": true,
    "editable": true
   },
   "outputs": [],
   "source": [
    "import sys\n",
    "import numpy as np\n",
    "import os.path as osp\n",
    "from tf_lab.iclr.evaluator import Evaluator\n",
    "from general_tools.in_out.basics import files_in_subdirs\n",
    "from tf_lab.iclr.helper import stored_synthetic_samples, top_evaluation_dir"
   ]
  },
  {
   "cell_type": "code",
   "execution_count": 3,
   "metadata": {
    "collapsed": false,
    "deletable": true,
    "editable": true
   },
   "outputs": [],
   "source": [
    "%load_ext autoreload\n",
    "%autoreload 2\n",
    "%matplotlib inline"
   ]
  },
  {
   "cell_type": "code",
   "execution_count": 4,
   "metadata": {
    "collapsed": false,
    "deletable": true,
    "editable": true
   },
   "outputs": [],
   "source": [
    "class_name = 'chair'\n",
    "do_mmd = True\n",
    "save_res = False\n",
    "top_out_dir = top_evaluation_dir\n",
    "\n",
    "sample_mmd = False\n",
    "n_samples = 5\n",
    "ref_pop = 1000\n",
    "sample_pop = 1000\n",
    "\n",
    "mmd_loss = 'chamfer'\n",
    "boost_samples = 5\n",
    "special_tag = 'chamfer_mmd_on_all_train'\n",
    "skip = ['val', 'test']"
   ]
  },
  {
   "cell_type": "code",
   "execution_count": 5,
   "metadata": {
    "collapsed": true,
    "deletable": true,
    "editable": true
   },
   "outputs": [],
   "source": [
    "evaluator = Evaluator(class_name)\n",
    "evaluator.load_gt_data()"
   ]
  },
  {
   "cell_type": "code",
   "execution_count": 22,
   "metadata": {
    "collapsed": true,
    "deletable": true,
    "editable": true
   },
   "outputs": [],
   "source": [
    "best_by_jsd = {'gmm': 'bneck_128_full_32_gaussians',\n",
    "               'l_w_gan_large': 1800,\n",
    "               'r_gan': 1700,\n",
    "               'l_gan_chamfer': 300,\n",
    "               'l_gan_emd': 100,\n",
    "               'l_w_gan_small': 1800\n",
    "              }\n",
    "\n",
    "best_by_mmd = {'gmm': 'bneck_128_full_40_gaussians',               \n",
    "               'l_w_gan_large': 2000,\n",
    "               'r_gan': 1350,\n",
    "               'l_gan_chamfer': 300,\n",
    "               'l_gan_emd': 200,\n",
    "               'l_w_gan_small': 1700\n",
    "              }"
   ]
  },
  {
   "cell_type": "code",
   "execution_count": 23,
   "metadata": {
    "collapsed": false,
    "deletable": true,
    "editable": true
   },
   "outputs": [],
   "source": [
    "exp_dict_reduced = stored_synthetic_samples(class_name).copy()\n",
    "exp_dict_reduced.pop('l_w_gan_large', 'None')\n",
    "# exp_dict_reduced.pop('gmm', 'None')\n",
    "generators_zoo = exp_dict_reduced.keys()"
   ]
  },
  {
   "cell_type": "code",
   "execution_count": 26,
   "metadata": {
    "collapsed": false,
    "deletable": true,
    "editable": true
   },
   "outputs": [
    {
     "name": "stdout",
     "output_type": "stream",
     "text": [
      "jsd\n",
      "r_gan\n",
      "epoch_1700\n",
      "epoch_1700\n",
      "val 0.00200053 0.00128294\n",
      "\n",
      "gmm\n",
      "bneck_128_full_32_gaussians\n",
      "bneck_128_full_32_gaussians\n",
      "val 0.00175683 0.000941039\n",
      "\n",
      "l_gan_emd\n",
      "epoch_100\n",
      "epoch_100\n",
      "val 0.00223955 0.00188942\n",
      "\n",
      "l_w_gan_small\n",
      "epoch_1800\n",
      "epoch_1800\n",
      "val 0.00189436 0.00107627\n",
      "\n",
      "l_gan_chamfer\n",
      "epoch_300\n",
      "epoch_300\n",
      "val 0.00191357 0.00133394\n",
      "\n"
     ]
    }
   ],
   "source": [
    "for best_model, tag in zip([best_by_jsd, best_by_mmd], ['jsd', 'mmd']):\n",
    "    if tag == 'mmd':\n",
    "        continue\n",
    "    print tag    \n",
    "    for experiment_name in generators_zoo:\n",
    "        print experiment_name\n",
    "        top_sample_dir = stored_synthetic_samples(class_name)[experiment_name]        \n",
    "        \n",
    "        if save_res:\n",
    "            exp_name = osp.basename(top_sample_dir)\n",
    "            f_mmd = open(osp.join(top_out_dir, class_name, 'mmd_' + special_tag + '_'+ tag + '_' + exp_name + '.txt'), 'w')\n",
    "        else:            \n",
    "            f_mmd = sys.stdout\n",
    "\n",
    "        sample_files = []\n",
    "\n",
    "        if 'gan' in experiment_name:\n",
    "            epoch = best_model[experiment_name]\n",
    "            sample_files.append(osp.join(top_sample_dir, 'epoch_%d.npz' % (epoch,) ))\n",
    "        elif 'gmm' in experiment_name:\n",
    "            gaussian_type = best_model[experiment_name]\n",
    "            sample_files.append(osp.join(top_sample_dir, gaussian_type + '.npz'))\n",
    "        else:\n",
    "            assert False\n",
    "                \n",
    "        for sample_file in sample_files:\n",
    "            evaluator.prepare_sample_data(sample_file, boost_samples)\n",
    "            sample_name = osp.basename(sample_file)[:-len('.npz')]\n",
    "            print sample_name\n",
    "\n",
    "        f_mmd.write(sample_name + '\\n')\n",
    "        evaluator.compute_mmd(loss=mmd_loss, sample_estimator=sample_mmd, n_samples=n_samples, \n",
    "                              ref_pop_size=ref_pop, sample_pop_size=sample_pop,\n",
    "                              f_out=f_mmd, skip=skip)\n",
    "\n",
    "        f_mmd.flush()\n",
    "        print\n",
    "        if save_res:\n",
    "            f_mmd.close()"
   ]
  }
 ],
 "metadata": {
  "kernelspec": {
   "display_name": "TensorFlow1",
   "language": "python",
   "name": "tf1"
  },
  "language_info": {
   "codemirror_mode": {
    "name": "ipython",
    "version": 2
   },
   "file_extension": ".py",
   "mimetype": "text/x-python",
   "name": "python",
   "nbconvert_exporter": "python",
   "pygments_lexer": "ipython2",
   "version": "2.7.12"
  }
 },
 "nbformat": 4,
 "nbformat_minor": 2
}
