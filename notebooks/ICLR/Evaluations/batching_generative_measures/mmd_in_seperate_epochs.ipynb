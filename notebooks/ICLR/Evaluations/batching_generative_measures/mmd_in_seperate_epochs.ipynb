{
 "cells": [
  {
   "cell_type": "code",
   "execution_count": 2,
   "metadata": {
    "collapsed": false
   },
   "outputs": [
    {
     "name": "stdout",
     "output_type": "stream",
     "text": [
      "Picking GPU 3\n"
     ]
    }
   ],
   "source": [
    "from general_tools.notebook.gpu_utils import setup_one_gpu\n",
    "GPU = 3\n",
    "setup_one_gpu(GPU)"
   ]
  },
  {
   "cell_type": "code",
   "execution_count": 3,
   "metadata": {
    "collapsed": false
   },
   "outputs": [],
   "source": [
    "%load_ext autoreload\n",
    "%autoreload 2\n",
    "%matplotlib inline"
   ]
  },
  {
   "cell_type": "code",
   "execution_count": 4,
   "metadata": {
    "collapsed": false,
    "deletable": true,
    "editable": true
   },
   "outputs": [],
   "source": [
    "import warnings\n",
    "import os.path as osp\n",
    "import numpy as np\n",
    "from general_tools.in_out.basics import create_dir\n",
    "from tf_lab.evaluate.generative_pc_nets import minimum_mathing_distance\n",
    "from tf_lab.nips.helper import pclouds_with_zero_mean_in_unit_sphere, center_pclouds_in_unit_sphere"
   ]
  },
  {
   "cell_type": "code",
   "execution_count": 5,
   "metadata": {
    "collapsed": false,
    "deletable": true,
    "editable": true
   },
   "outputs": [],
   "source": [
    "n_pc_samples = 2048\n",
    "batch_size = 6000\n",
    "reduce_gt = None        # (int or None)\n",
    "reduce_samples = None   # (int or None)\n",
    "\n",
    "class_name = 'chair'\n",
    "save_res = False\n",
    "ae_loss = 'emd'\n",
    "\n",
    "def identity(x):\n",
    "    return x\n",
    "\n",
    "pc_normalizer = center_pclouds_in_unit_sphere\n",
    "pc_normalizer = pclouds_with_zero_mean_in_unit_sphere\n",
    "pc_normalizer = identity"
   ]
  },
  {
   "cell_type": "code",
   "execution_count": 7,
   "metadata": {
    "collapsed": true
   },
   "outputs": [],
   "source": [
    "def sampling_mmd(sample_data, ref_data, n_samples=10, batch_size=100, emd=True):\n",
    "    ids = np.arange(len(ref_data))\n",
    "    scores = []\n",
    "    for i in range(n_samples):\n",
    "        print i\n",
    "        sb = np.random.choice(ids, batch_size, replace=False)        \n",
    "        mi = minimum_mathing_distance(sample_data[sb], ref_data[sb], batch_size, normalize=True, use_sqrt=True, use_EMD=emd)\n",
    "        scores.append(mi[0])\n",
    "    scores = np.array(scores)\n",
    "    return scores"
   ]
  },
  {
   "cell_type": "code",
   "execution_count": 16,
   "metadata": {
    "collapsed": false
   },
   "outputs": [],
   "source": [
    "is_lwgan = False\n",
    "is_rgan = False\n",
    "is_lgan = True\n",
    "\n",
    "assert(np.sum([is_lwgan, is_rgan, is_lgan]) == 1)\n",
    "\n",
    "\n",
    "if is_lwgan:\n",
    "    epochs_to_check = np.hstack([np.array([1, 5, 10]), np.arange(100, 2001, 100)])\n",
    "    gan_tag = 'l_wgan_gp'\n",
    "elif is_rgan:\n",
    "    epochs_to_check = np.hstack([np.array([1, 5, 10]), np.arange(50, 2001, 50)])\n",
    "    gan_tag = 'r_gan'\n",
    "elif is_lgan:\n",
    "    epochs_to_check = np.hstack([np.array([1, 5, 10]), np.arange(100, 2001, 100)])\n",
    "    gan_tag = 'l_gan'\n",
    "\n",
    "epochs_to_check = [1000]"
   ]
  },
  {
   "cell_type": "code",
   "execution_count": 9,
   "metadata": {
    "collapsed": false
   },
   "outputs": [],
   "source": [
    "# Load Ground-Truth Train Data.\n",
    "top_gt_dir = '/orions4-zfs/projects/optas/DATA/OUT/iclr/evaluations/gt_data/'\n",
    "gt_train_file = osp.join(top_gt_dir, class_name + '_train.npz')\n",
    "gt_train_data = np.load(gt_train_file)  \n",
    "gt_train_data = pc_normalizer(gt_train_data[gt_train_data.keys()[0]])\n",
    "\n",
    "# Load Ground-Truth Test Data.\n",
    "gt_test_file = osp.join(top_gt_dir, class_name + '_test.npz')\n",
    "gt_test_data = np.load(gt_test_file)  \n",
    "gt_test_data = pc_normalizer(gt_test_data[gt_test_data.keys()[0]])\n",
    "\n",
    "if reduce_gt is not None:    \n",
    "    gt_train_data = gt_train_data[:min(reduce_gt, len(gt_train_data))]\n",
    "    gt_test_data = gt_test_data[:min(reduce_gt, len(gt_test_data))]"
   ]
  },
  {
   "cell_type": "code",
   "execution_count": 17,
   "metadata": {
    "collapsed": false
   },
   "outputs": [],
   "source": [
    "top_in_dir = '/orions4-zfs/projects/optas/DATA/OUT/iclr/synthetic_samples/'\n",
    "\n",
    "if is_lwgan:\n",
    "    top_synthetic_dir = osp.join(top_in_dir, 'l_w_gan_chair_disc_512_1024_emd_bneck_128_this_was_also_using_3pc_ae/lam_10/')\n",
    "    special_tag = 'chair_disc_512_1024_emd_bneck_128_lam_10'\n",
    "elif is_rgan:\n",
    "    top_synthetic_dir = osp.join(top_in_dir, 'r_gan/chair_mlp_disc_4_fc_gen_raw_gan_2048_pts/')\n",
    "    special_tag = 'chair_mlp_disc_4_fc_gen_raw_gan_2048_pts'\n",
    "elif is_lgan:        \n",
    "    top_synthetic_dir = osp.join(top_in_dir, 'l_gan/l_gan_chair_mlp_with_split_1pc_usampled_bnorm_on_encoder_only_'+ae_loss+'_bneck_128')\n",
    "    special_tag = 'l_gan_chair_mlp_with_split_1pc_usampled_bnorm_on_encoder_only_emd_bneck_128'"
   ]
  },
  {
   "cell_type": "code",
   "execution_count": 18,
   "metadata": {
    "collapsed": false
   },
   "outputs": [
    {
     "data": {
      "text/plain": [
       "'/orions4-zfs/projects/optas/DATA/OUT/iclr/evaluations/mmd'"
      ]
     },
     "execution_count": 18,
     "metadata": {},
     "output_type": "execute_result"
    }
   ],
   "source": [
    "top_out_dir = '/orions4-zfs/projects/optas/DATA/OUT/iclr/evaluations/mmd'\n",
    "create_dir(top_out_dir)"
   ]
  },
  {
   "cell_type": "code",
   "execution_count": 19,
   "metadata": {
    "collapsed": false,
    "deletable": true,
    "editable": true
   },
   "outputs": [
    {
     "name": "stdout",
     "output_type": "stream",
     "text": [
      "0\n",
      "1\n",
      "2\n",
      "3\n",
      "4\n",
      "5\n",
      "6\n",
      "7\n",
      "8\n",
      "9\n"
     ]
    }
   ],
   "source": [
    "if save_res:\n",
    "    out_file = '_'.join([gan_tag, special_tag, 'norm', pc_normalizer.__name__])\n",
    "    out_file = osp.join(top_out_dir, out_file + '.txt')\n",
    "    fout = open(out_file, 'w', 1)\n",
    "    fout.write('#Metric Epoch (Train-Test) Measurements\\n')\n",
    "    print 'Saving measurements at: ' + out_file\n",
    "\n",
    "for epoch in epochs_to_check:\n",
    "    sample_file = osp.join(top_synthetic_dir, 'epoch_%d.npz' % (epoch,) )\n",
    "    sample_data = np.load(sample_file)\n",
    "    sample_data = sample_data[sample_data.keys()[0]]\n",
    "    sample_data = pc_normalizer(sample_data)\n",
    "    mmd_train = sampling_mmd(sample_data, gt_train_data, n_samples=10, batch_size=200, emd=True)\n",
    "    \n",
    "#     if reduce_samples is not None:\n",
    "#         sample_data = sample_data[:reduce_samples]\n",
    "        \n",
    "#     mmd_train = minimum_mathing_distance(sample_data, gt_train_data, batch_size, normalize=True, use_sqrt=True, verbose=True)[0]\n",
    "#     mmd_test = mmd_train\n",
    "    \n",
    "# #     minimum_mathing_distance(sample_data[:len(gt_test_data)], gt_test_data, batch_size, normalize=True, use_sqrt=True)[0]\n",
    "    \n",
    "#     log_data = 'MMD %d %f %f' % (epoch, mmd_train, mmd_test)\n",
    "#     print log_data\n",
    "#     if save_res:\n",
    "#         fout.write(log_data + '\\n')\n",
    "\n",
    "# if save_res:\n",
    "#     fout.close()"
   ]
  },
  {
   "cell_type": "code",
   "execution_count": null,
   "metadata": {
    "collapsed": true
   },
   "outputs": [],
   "source": [
    "For l-gan: 263.732 5.58732 at 1K epoch - train"
   ]
  },
  {
   "cell_type": "code",
   "execution_count": null,
   "metadata": {
    "collapsed": true
   },
   "outputs": [],
   "source": [
    "For r-gan: 348.764 2.77347 at 1K epoch - train"
   ]
  }
 ],
 "metadata": {
  "kernelspec": {
   "display_name": "Python 2",
   "language": "python",
   "name": "python2"
  }
 },
 "nbformat": 4,
 "nbformat_minor": 2
}
