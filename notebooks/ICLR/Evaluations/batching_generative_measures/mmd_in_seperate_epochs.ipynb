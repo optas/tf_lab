{
 "cells": [
  {
   "cell_type": "code",
   "execution_count": 1,
   "metadata": {
    "collapsed": false
   },
   "outputs": [
    {
     "name": "stdout",
     "output_type": "stream",
     "text": [
      "Picking GPU 1\n"
     ]
    }
   ],
   "source": [
    "from general_tools.notebook.gpu_utils import setup_one_gpu\n",
    "GPU = 1\n",
    "setup_one_gpu(GPU)"
   ]
  },
  {
   "cell_type": "code",
   "execution_count": 12,
   "metadata": {
    "collapsed": false
   },
   "outputs": [
    {
     "name": "stdout",
     "output_type": "stream",
     "text": [
      "The autoreload extension is already loaded. To reload it, use:\n",
      "  %reload_ext autoreload\n"
     ]
    }
   ],
   "source": [
    "%load_ext autoreload\n",
    "%autoreload 2\n",
    "%matplotlib inline"
   ]
  },
  {
   "cell_type": "code",
   "execution_count": 3,
   "metadata": {
    "collapsed": false,
    "deletable": true,
    "editable": true
   },
   "outputs": [],
   "source": [
    "import warnings\n",
    "import os.path as osp\n",
    "import numpy as np\n",
    "from general_tools.in_out.basics import create_dir\n",
    "from tf_lab.evaluate.generative_pc_nets import minimum_mathing_distance\n",
    "from tf_lab.nips.helper import pclouds_with_zero_mean_in_unit_sphere, center_pclouds_in_unit_sphere"
   ]
  },
  {
   "cell_type": "code",
   "execution_count": 4,
   "metadata": {
    "collapsed": false,
    "deletable": true,
    "editable": true
   },
   "outputs": [],
   "source": [
    "n_pc_samples = 2048\n",
    "batch_size = 6000\n",
    "reduce_gt = None        # (int or None)\n",
    "reduce_samples = None   # (int or None)\n",
    "class_name = 'chair'\n",
    "\n",
    "def identity(x):\n",
    "    return x\n",
    "\n",
    "pc_normalizer = center_pclouds_in_unit_sphere\n",
    "pc_normalizer = identity\n",
    "pc_normalizer = pclouds_with_zero_mean_in_unit_sphere"
   ]
  },
  {
   "cell_type": "code",
   "execution_count": 5,
   "metadata": {
    "collapsed": false
   },
   "outputs": [],
   "source": [
    "is_lwgan = False\n",
    "is_rgan = True\n",
    "\n",
    "assert(np.logical_xor(is_lwgan, is_rgan))\n",
    "\n",
    "if is_lwgan:\n",
    "    epochs_to_check = np.hstack([np.array([1, 5, 10]), np.arange(100, 2001, 100)])\n",
    "    gan_tag = 'l_wgan_gp'\n",
    "elif is_rgan:\n",
    "    epochs_to_check = np.hstack([np.array([1, 5, 10]), np.arange(50, 2001, 50)])\n",
    "    gan_tag = 'r_gan'"
   ]
  },
  {
   "cell_type": "code",
   "execution_count": 6,
   "metadata": {
    "collapsed": false
   },
   "outputs": [],
   "source": [
    "# Load Ground-Truth Train Data.\n",
    "top_gt_dir = '/orions4-zfs/projects/optas/DATA/OUT/iclr/evaluations/gt_data/'\n",
    "gt_train_file = osp.join(top_gt_dir, class_name + '_train.npz')\n",
    "gt_train_data = np.load(gt_train_file)  \n",
    "gt_train_data = pc_normalizer(gt_train_data[gt_train_data.keys()[0]])\n",
    "\n",
    "# Load Ground-Truth Test Data.\n",
    "gt_test_file = osp.join(top_gt_dir, class_name + '_test.npz')\n",
    "gt_test_data = np.load(gt_test_file)  \n",
    "gt_test_data = pc_normalizer(gt_test_data[gt_test_data.keys()[0]])\n",
    "\n",
    "if reduce_gt is not None:    \n",
    "    gt_train_data = gt_train_data[:min(reduce_gt, len(gt_train_data))]\n",
    "    gt_test_data = gt_test_data[:min(reduce_gt, len(gt_test_data))]"
   ]
  },
  {
   "cell_type": "code",
   "execution_count": 7,
   "metadata": {
    "collapsed": false
   },
   "outputs": [],
   "source": [
    "top_in_dir = '/orions4-zfs/projects/optas/DATA/OUT/iclr/synthetic_samples/'\n",
    "\n",
    "if is_lwgan:\n",
    "    top_synthetic_dir = osp.join(top_in_dir, 'l_wgan_chair_disc_512_1024_emd_bneck_128/lam_10/')\n",
    "    special_tag = 'chair_disc_512_1024_emd_bneck_128_lam_10'\n",
    "elif is_rgan:\n",
    "    top_synthetic_dir = osp.join(top_in_dir, 'r_gan/chair_mlp_disc_4_fc_gen_raw_gan_2048_pts/')    \n",
    "    special_tag = 'chair_mlp_disc_4_fc_gen_raw_gan_2048_pts'"
   ]
  },
  {
   "cell_type": "code",
   "execution_count": 8,
   "metadata": {
    "collapsed": false
   },
   "outputs": [],
   "source": [
    "top_out_dir = '/orions4-zfs/projects/optas/DATA/OUT/iclr/evaluations/mmd'\n",
    "create_dir(top_out_dir)\n",
    "out_file = '_'.join([gan_tag, special_tag, 'norm', pc_normalizer.__name__])\n",
    "out_file = osp.join(top_out_dir, out_file + '.txt')"
   ]
  },
  {
   "cell_type": "code",
   "execution_count": 13,
   "metadata": {
    "collapsed": false,
    "deletable": true,
    "editable": true
   },
   "outputs": [
    {
     "name": "stdout",
     "output_type": "stream",
     "text": [
      "MMD 500 0.056230 0.056230\n",
      "MMD 1000 0.056345 0.056345\n"
     ]
    }
   ],
   "source": [
    "epochs_to_check = [500, 1000]\n",
    "\n",
    "# buf_size = 1 # flush each line\n",
    "# fout = open(out_file, 'w', buf_size)\n",
    "# fout.write('#Metric Epoch (Train-Test) Measurements\\n')\n",
    "# print 'Saving measurements at: ' + out_file\n",
    "\n",
    "for epoch in epochs_to_check:\n",
    "    sample_file = osp.join(top_synthetic_dir, 'epoch_%d.npz' % (epoch,) )\n",
    "    sample_data = np.load(sample_file)\n",
    "    sample_data = sample_data[sample_data.keys()[0]]\n",
    "    sample_data = pc_normalizer(sample_data)    \n",
    "    if reduce_samples is not None:\n",
    "        sample_data = sample_data[:reduce_samples]\n",
    "        \n",
    "    mmd_train = minimum_mathing_distance(sample_data, gt_train_data, batch_size, normalize=True, use_sqrt=True)[0]\n",
    "    mmd_test = mmd_train\n",
    "#     minimum_mathing_distance(sample_data[:len(gt_test_data)], gt_test_data, batch_size, normalize=True, use_sqrt=True)[0]\n",
    "    \n",
    "    log_data = 'MMD %d %f %f' % (epoch, mmd_train, mmd_test)\n",
    "    print log_data\n",
    "#     fout.write(log_data + '\\n')\n",
    "# fout.close()"
   ]
  },
  {
   "cell_type": "code",
   "execution_count": 37,
   "metadata": {
    "collapsed": false
   },
   "outputs": [],
   "source": [
    "mmd, dist_matched = minimum_mathing_distance(gt_test_data, gt_train_data, 50, normalize=True)\n",
    "print mmd"
   ]
  }
 ],
 "metadata": {
  "kernelspec": {
   "display_name": "Python 2",
   "language": "python",
   "name": "python2"
  },
  "language_info": {
   "codemirror_mode": {
    "name": "ipython",
    "version": 2
   },
   "file_extension": ".py",
   "mimetype": "text/x-python",
   "name": "python",
   "nbconvert_exporter": "python",
   "pygments_lexer": "ipython2",
   "version": "2.7.6"
  }
 },
 "nbformat": 4,
 "nbformat_minor": 2
}
