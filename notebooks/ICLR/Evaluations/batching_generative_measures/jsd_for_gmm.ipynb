{
 "cells": [
  {
   "cell_type": "code",
   "execution_count": 1,
   "metadata": {
    "collapsed": false,
    "deletable": true,
    "editable": true
   },
   "outputs": [],
   "source": [
    "import numpy as np\n",
    "import os.path as osp\n",
    "\n",
    "from general_tools.in_out.basics import create_dir\n",
    "from tf_lab.evaluate.generative_pc_nets import entropy_of_occupancy_grid, jensen_shannon_divergence\n",
    "from tf_lab.nips.helper import center_pclouds_in_unit_sphere, pclouds_centered_and_half_sphere, pclouds_with_zero_mean_in_unit_sphere"
   ]
  },
  {
   "cell_type": "code",
   "execution_count": 2,
   "metadata": {
    "collapsed": false
   },
   "outputs": [],
   "source": [
    "%load_ext autoreload\n",
    "%autoreload 2\n",
    "%matplotlib inline"
   ]
  },
  {
   "cell_type": "code",
   "execution_count": 6,
   "metadata": {
    "collapsed": false,
    "deletable": true,
    "editable": true
   },
   "outputs": [],
   "source": [
    "cmp_in_sphere = True\n",
    "voxel_resolution = 28\n",
    "class_name = 'chair'\n",
    "save_res = False\n",
    "ae_loss = 'emd'\n",
    "def identity(x):\n",
    "    return x\n",
    "\n",
    "# pc_normalizer = pclouds_with_zero_mean_in_unit_sphere\n",
    "pc_normalizer = identity"
   ]
  },
  {
   "cell_type": "code",
   "execution_count": 4,
   "metadata": {
    "collapsed": false
   },
   "outputs": [],
   "source": [
    "# Load Ground-Truth Train Data.\n",
    "top_gt_dir = '/orions4-zfs/projects/optas/DATA/OUT/iclr/evaluations/gt_data/'\n",
    "gt_train_file = osp.join(top_gt_dir, class_name + '_train.npz')\n",
    "gt_train_data = np.load(gt_train_file)  \n",
    "gt_train_data = pc_normalizer(gt_train_data[gt_train_data.keys()[0]])\n",
    "_, gt_train_var = entropy_of_occupancy_grid(gt_train_data, voxel_resolution, in_sphere=cmp_in_sphere)    \n",
    "\n",
    "# # Load Ground-Truth Test Data.\n",
    "# gt_test_file = osp.join(top_gt_dir, class_name + '_test.npz')\n",
    "# gt_test_data = np.load(gt_test_file)  \n",
    "# gt_test_data = pc_normalizer(gt_test_data[gt_test_data.keys()[0]])\n",
    "# _, gt_test_var = entropy_of_occupancy_grid(gt_test_data, voxel_resolution, in_sphere=cmp_in_sphere)"
   ]
  },
  {
   "cell_type": "code",
   "execution_count": 8,
   "metadata": {
    "collapsed": false
   },
   "outputs": [],
   "source": [
    "# Specify where to load synthetic data.\n",
    "top_in_dir = osp.join('/orions4-zfs/projects/optas/DATA/OUT/iclr/synthetic_samples/gmm', ae_loss)\n",
    "top_synthetic_dir = osp.join(top_in_dir, 'bneck_128_full_20_gaussians')"
   ]
  },
  {
   "cell_type": "code",
   "execution_count": 11,
   "metadata": {
    "collapsed": false,
    "deletable": true,
    "editable": true
   },
   "outputs": [
    {
     "name": "stdout",
     "output_type": "stream",
     "text": [
      "JSD 0.006170 0.006170\n"
     ]
    }
   ],
   "source": [
    "if save_res:\n",
    "    out_file = '_'.join([special_tag, pc_normalizer.__name__])\n",
    "    out_file = osp.join(top_out_dir, out_file + '.txt')\n",
    "    fout = open(out_file, 'w', 1)\n",
    "    fout.write('#Metric Epoch (Train-Test) Measurements\\n')\n",
    "    print 'Saving measurements at: ' + out_file\n",
    "    \n",
    "sample_file = top_synthetic_dir + '.npz'\n",
    "sample_data = np.load(sample_file)\n",
    "sample_data = sample_data[sample_data.keys()[0]]\n",
    "sample_data = pc_normalizer(sample_data)\n",
    "_, sample_var = entropy_of_occupancy_grid(sample_data, voxel_resolution, in_sphere=cmp_in_sphere)        \n",
    "\n",
    "jsd_train = jensen_shannon_divergence(gt_train_var, sample_var)\n",
    "jsd_test = jsd_train\n",
    "#     jensen_shannon_divergence(gt_test_var, sample_var)\n",
    "\n",
    "log_data = 'JSD %f %f' % (jsd_train, jsd_test)\n",
    "print log_data\n",
    "if save_res:\n",
    "    fout.write(log_data + '\\n')\n",
    "if save_res:\n",
    "    fout.close()"
   ]
  },
  {
   "cell_type": "code",
   "execution_count": 12,
   "metadata": {
    "collapsed": false
   },
   "outputs": [
    {
     "data": {
      "text/plain": [
       "(5761, 2048, 3)"
      ]
     },
     "execution_count": 12,
     "metadata": {},
     "output_type": "execute_result"
    }
   ],
   "source": []
  },
  {
   "cell_type": "code",
   "execution_count": 16,
   "metadata": {
    "collapsed": false
   },
   "outputs": [
    {
     "name": "stdout",
     "output_type": "stream",
     "text": [
      "0\n",
      "50\n",
      "100\n",
      "150\n",
      "200\n",
      "250\n",
      "300\n",
      "350\n",
      "400\n",
      "450\n",
      "500\n",
      "550\n",
      "600\n",
      "650\n",
      "700\n",
      "750\n",
      "800\n",
      "850\n",
      "900\n",
      "950\n",
      "0.0577437\n"
     ]
    }
   ],
   "source": [
    "from tf_lab.evaluate.generative_pc_nets import minimum_mathing_distance\n",
    "reduce_samples = 1000\n",
    "reduce_gt = 1000\n",
    "batch_size = 1000\n",
    "if reduce_samples is not None:\n",
    "    sample_data = sample_data[:reduce_samples]\n",
    "if reduce_gt is not None:\n",
    "    gt_train_data = gt_train_data[:reduce_gt]\n",
    "\n",
    "mmd_train = minimum_mathing_distance(sample_data, gt_train_data, batch_size, normalize=True, use_sqrt=True, verbose=True)[0]\n",
    "print mmd_train"
   ]
  }
 ],
 "metadata": {
  "kernelspec": {
   "display_name": "Python 2",
   "language": "python",
   "name": "python2"
  },
  "language_info": {
   "codemirror_mode": {
    "name": "ipython",
    "version": 2
   },
   "file_extension": ".py",
   "mimetype": "text/x-python",
   "name": "python",
   "nbconvert_exporter": "python",
   "pygments_lexer": "ipython2",
   "version": "2.7.6"
  }
 },
 "nbformat": 4,
 "nbformat_minor": 2
}
