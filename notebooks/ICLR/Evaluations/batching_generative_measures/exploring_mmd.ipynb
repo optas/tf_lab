{
 "cells": [
  {
   "cell_type": "code",
   "execution_count": 1,
   "metadata": {
    "collapsed": false
   },
   "outputs": [
    {
     "name": "stdout",
     "output_type": "stream",
     "text": [
      "sklearn module not installed: limited.\n",
      "PyTorch not working. MMD measurement won't be available\n",
      "NNDMoodule not working - MMD measurement won't be available\n"
     ]
    },
    {
     "name": "stderr",
     "output_type": "stream",
     "text": [
      "/orions4-zfs/projects/lins2/Panos_Space/Git_Repos/geo_tool/point_clouds/point_cloud.py:20: UserWarning: Sklearn library is not installed.\n",
      "  warnings.warn('Sklearn library is not installed.')\n"
     ]
    }
   ],
   "source": [
    "import warnings\n",
    "import argparse\n",
    "import os.path as osp\n",
    "import numpy as np\n",
    "\n",
    "from pcloud_benchmark.evaluate_gan import minimum_mathing_distance\n",
    "from tf_lab.nips.helper import pclouds_centered_and_half_sphere"
   ]
  }
 ],
 "metadata": {
  "kernelspec": {
   "display_name": "Python 2",
   "language": "python",
   "name": "python2"
  },
  "language_info": {
   "codemirror_mode": {
    "name": "ipython",
    "version": 2
   },
   "file_extension": ".py",
   "mimetype": "text/x-python",
   "name": "python",
   "nbconvert_exporter": "python",
   "pygments_lexer": "ipython2",
   "version": "2.7.6"
  }
 },
 "nbformat": 4,
 "nbformat_minor": 2
}
