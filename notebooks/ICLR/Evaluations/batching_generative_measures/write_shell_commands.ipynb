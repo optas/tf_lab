{
 "cells": [
  {
   "cell_type": "code",
   "execution_count": 22,
   "metadata": {
    "collapsed": true,
    "deletable": true,
    "editable": true
   },
   "outputs": [],
   "source": [
    "import os\n",
    "import os.path as osp\n",
    "import numpy as np"
   ]
  },
  {
   "cell_type": "code",
   "execution_count": 23,
   "metadata": {
    "collapsed": true,
    "deletable": true,
    "editable": true
   },
   "outputs": [],
   "source": [
    "mmd = True\n",
    "jsd = False\n",
    "GPU = 2\n",
    "assert(np.logical_xor(mmd, jsd))"
   ]
  },
  {
   "cell_type": "code",
   "execution_count": 24,
   "metadata": {
    "collapsed": false
   },
   "outputs": [],
   "source": [
    "top_code_dir = '/orions4-zfs/projects/optas/Git_Repos/tf_lab/notebooks/ICLR/Evaluations/batching_generative_measures'\n",
    "jsd_exec = osp.join(top_code_dir, '--.py')\n",
    "mmd_exec = osp.join(top_code_dir, 'nb_gan_mmd_evaluation.py')"
   ]
  },
  {
   "cell_type": "code",
   "execution_count": 25,
   "metadata": {
    "collapsed": false
   },
   "outputs": [],
   "source": [
    "gpu_driver = 'CUDA_VISIBLE_DEVICES=%d ' % (GPU,)"
   ]
  },
  {
   "cell_type": "code",
   "execution_count": 26,
   "metadata": {
    "collapsed": true
   },
   "outputs": [],
   "source": [
    "if jsd:\n",
    "    executable = gpu_driver + 'python ' + jsd_exec\n",
    "    id_token = 'jsd'\n",
    "elif mmd:\n",
    "    executable = gpu_driver + 'python ' + mmd_exec\n",
    "    id_token = 'mmd'"
   ]
  },
  {
   "cell_type": "code",
   "execution_count": 37,
   "metadata": {
    "collapsed": false,
    "deletable": true,
    "editable": true
   },
   "outputs": [],
   "source": [
    "top_in_dir = '/orions4-zfs/projects/optas/DATA/OUT/iclr/synthetic_samples/r_gan/'\n",
    "\n",
    "save_script_dir = '/orions4-zfs/projects/optas/Git_Repos/tf_lab/notebooks/ICLR/Evaluations/batching_generative_measures/'\n",
    "\n",
    "top_ref_dir = '/orions4-zfs/projects/optas/DATA/OUT/iclr/evaluations/gt_data/03001627_train.npz'"
   ]
  },
  {
   "cell_type": "code",
   "execution_count": 38,
   "metadata": {
    "collapsed": false,
    "deletable": true,
    "editable": true
   },
   "outputs": [],
   "source": [
    "experiments_dir = [osp.join(top_in_dir, 'chair_mlp_disc_4_fc_gen_raw_gan_2048_pts')]\n",
    "ref_data = top_ref_dir\n",
    "# for name in os.listdir(top_in_dir)]\n",
    "# if wgan_gp_experiments:\n",
    "#     experiments_dir = [ex for ex in experiments_dir if 'wgan_gp' in ex ]\n",
    "# else:\n",
    "#     experiments_dir = [ex for ex in experiments_dir if 'nb_gan' in ex ]\n",
    "    \n",
    "# experiments_dir = [ex for ex in experiments_dir if ae_loss in ex ]"
   ]
  },
  {
   "cell_type": "code",
   "execution_count": 41,
   "metadata": {
    "collapsed": false,
    "deletable": true,
    "editable": true
   },
   "outputs": [],
   "source": [
    "fout = open(osp.join(save_script_dir, id_token + '_evaluations.sh'), 'w', 1)\n",
    "for ex in experiments_dir:    \n",
    "    command = executable + ' --sample_dir ' + ex + ' --ref ' +  ref_data + ' --out_file ' + osp.join(ex, id_token + '_stats.txt')\n",
    "    fout.write(command + '\\n\\n')\n",
    "fout.close()"
   ]
  }
 ],
 "metadata": {
  "kernelspec": {
   "display_name": "Python 2",
   "language": "python",
   "name": "python2"
  },
  "language_info": {
   "codemirror_mode": {
    "name": "ipython",
    "version": 2
   },
   "file_extension": ".py",
   "mimetype": "text/x-python",
   "name": "python",
   "nbconvert_exporter": "python",
   "pygments_lexer": "ipython2",
   "version": "2.7.6"
  }
 },
 "nbformat": 4,
 "nbformat_minor": 2
}
