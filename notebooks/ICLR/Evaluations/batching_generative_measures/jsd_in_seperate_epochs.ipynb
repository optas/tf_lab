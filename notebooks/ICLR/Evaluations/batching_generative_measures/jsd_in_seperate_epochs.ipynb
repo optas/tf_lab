{
 "cells": [
  {
   "cell_type": "code",
   "execution_count": 1,
   "metadata": {
    "collapsed": false,
    "deletable": true,
    "editable": true
   },
   "outputs": [],
   "source": [
    "import numpy as np\n",
    "import os.path as osp\n",
    "\n",
    "from general_tools.in_out.basics import create_dir\n",
    "from tf_lab.evaluate.generative_pc_nets import entropy_of_occupancy_grid, jensen_shannon_divergence\n",
    "from tf_lab.nips.helper import center_pclouds_in_unit_sphere, pclouds_centered_and_half_sphere, pclouds_with_zero_mean_in_unit_sphere"
   ]
  },
  {
   "cell_type": "code",
   "execution_count": 2,
   "metadata": {
    "collapsed": false
   },
   "outputs": [],
   "source": [
    "%load_ext autoreload\n",
    "%autoreload 2\n",
    "%matplotlib inline"
   ]
  },
  {
   "cell_type": "code",
   "execution_count": 3,
   "metadata": {
    "collapsed": false,
    "deletable": true,
    "editable": true
   },
   "outputs": [],
   "source": [
    "n_pc_samples = 2048\n",
    "cmp_in_sphere = True\n",
    "voxel_resolution = 28\n",
    "class_name = 'chair'\n",
    "save_res = False\n",
    "\n",
    "def identity(x):\n",
    "    return x\n",
    "\n",
    "# pc_normalizer = pclouds_with_zero_mean_in_unit_sphere\n",
    "pc_normalizer = identity"
   ]
  },
  {
   "cell_type": "code",
   "execution_count": 26,
   "metadata": {
    "collapsed": false
   },
   "outputs": [],
   "source": [
    "is_lwgan = False\n",
    "is_rgan = False\n",
    "is_lgan = True\n",
    "\n",
    "assert(np.sum([is_lwgan, is_rgan, is_lgan]) == 1)\n",
    "\n",
    "if is_lwgan:\n",
    "    epochs_to_check = np.hstack([np.array([1, 5, 10]), np.arange(100, 2001, 100)])\n",
    "    gan_tag = 'l_wgan_gp'\n",
    "elif is_rgan:\n",
    "    epochs_to_check = np.hstack([np.array([1, 5, 10]), np.arange(50, 2001, 50)])\n",
    "    gan_tag = 'r_gan'\n",
    "elif is_lgan:\n",
    "    epochs_to_check = np.hstack([np.array([1, 5, 10]), np.arange(100, 2001, 100)])\n",
    "    gan_tag = 'l_gan'\n",
    "    \n",
    "\n",
    "epochs_to_check = [1000]"
   ]
  },
  {
   "cell_type": "code",
   "execution_count": 7,
   "metadata": {
    "collapsed": false
   },
   "outputs": [],
   "source": [
    "# Load Ground-Truth Train Data.\n",
    "top_gt_dir = '/orions4-zfs/projects/optas/DATA/OUT/iclr/evaluations/gt_data/'\n",
    "gt_train_file = osp.join(top_gt_dir, class_name + '_train.npz')\n",
    "gt_train_data = np.load(gt_train_file)  \n",
    "gt_train_data = pc_normalizer(gt_train_data[gt_train_data.keys()[0]])\n",
    "_, gt_train_var = entropy_of_occupancy_grid(gt_train_data, voxel_resolution, in_sphere=cmp_in_sphere)    \n",
    "\n",
    "# Load Ground-Truth Test Data.\n",
    "gt_test_file = osp.join(top_gt_dir, class_name + '_test.npz')\n",
    "gt_test_data = np.load(gt_test_file)  \n",
    "gt_test_data = pc_normalizer(gt_test_data[gt_test_data.keys()[0]])\n",
    "_, gt_test_var = entropy_of_occupancy_grid(gt_test_data, voxel_resolution, in_sphere=cmp_in_sphere)"
   ]
  },
  {
   "cell_type": "code",
   "execution_count": 27,
   "metadata": {
    "collapsed": false
   },
   "outputs": [
    {
     "data": {
      "text/plain": [
       "'/orions4-zfs/projects/optas/DATA/OUT/iclr/evaluations/jsd'"
      ]
     },
     "execution_count": 27,
     "metadata": {},
     "output_type": "execute_result"
    }
   ],
   "source": [
    "# Specify where to load synthetic data.\n",
    "top_in_dir = '/orions4-zfs/projects/optas/DATA/OUT/iclr/synthetic_samples/'\n",
    "\n",
    "if is_lwgan:\n",
    "    top_synthetic_dir = osp.join(top_in_dir, 'l_w_gan_chair_disc_512_1024_emd_bneck_128_this_was_also_using_3pc_ae/lam_10/')\n",
    "    special_tag = 'chair_disc_512_1024_emd_bneck_128_lam_10'\n",
    "elif is_rgan:\n",
    "    top_synthetic_dir = osp.join(top_in_dir, 'r_gan/chair_test_raw_gan_2048_pts')\n",
    "#                                  chair_mlp_disc_4_fc_gen_raw_gan_2048_pts/')    \n",
    "    special_tag = 'chair_mlp_disc_4_fc_gen_raw_gan_2048_pts'\n",
    "    \n",
    "elif is_lgan:        \n",
    "    top_synthetic_dir = osp.join(top_in_dir, 'l_gan_chair_mlp_with_split_1pc_usampled_bnorm_on_encoder_only_emd_bneck_128')\n",
    "    special_tag = 'l_gan_chair_mlp_with_split_1pc_usampled_bnorm_on_encoder_only_emd_bneck_128'\n",
    "    \n",
    "top_out_dir = '/orions4-zfs/projects/optas/DATA/OUT/iclr/evaluations/jsd'\n",
    "create_dir(top_out_dir)"
   ]
  },
  {
   "cell_type": "code",
   "execution_count": 28,
   "metadata": {
    "collapsed": false,
    "deletable": true,
    "editable": true
   },
   "outputs": [
    {
     "name": "stdout",
     "output_type": "stream",
     "text": [
      "JSD 1000 0.076609 0.076609\n"
     ]
    }
   ],
   "source": [
    "if save_res:\n",
    "    out_file = '_'.join([gan_tag, special_tag, pc_normalizer.__name__])\n",
    "    out_file = osp.join(top_out_dir, out_file + '.txt')\n",
    "    fout = open(out_file, 'w', 1)\n",
    "    fout.write('#Metric Epoch (Train-Test) Measurements\\n')\n",
    "    print 'Saving measurements at: ' + out_file\n",
    "    \n",
    "for epoch in epochs_to_check:\n",
    "    sample_file = osp.join(top_synthetic_dir, 'epoch_%d.npz' % (epoch,) )\n",
    "    sample_data = np.load(sample_file)\n",
    "    sample_data = sample_data[sample_data.keys()[0]]\n",
    "    sample_data = pc_normalizer(sample_data)\n",
    "                    \n",
    "    _, sample_var = entropy_of_occupancy_grid(sample_data, voxel_resolution, in_sphere=cmp_in_sphere)        \n",
    "    jsd_train = jensen_shannon_divergence(gt_train_var, sample_var)\n",
    "    jsd_test = jsd_train\n",
    "#     jensen_shannon_divergence(gt_test_var, sample_var)\n",
    "        \n",
    "    log_data = 'JSD %d %f %f' % (epoch, jsd_train, jsd_test)\n",
    "    print log_data\n",
    "    if save_res:\n",
    "        fout.write(log_data + '\\n')\n",
    "if save_res:\n",
    "    fout.close()"
   ]
  },
  {
   "cell_type": "code",
   "execution_count": null,
   "metadata": {
    "collapsed": true
   },
   "outputs": [],
   "source": [
    "# OLD STUFF\n",
    "# import warnings\n",
    "# import os\n",
    "# # Ignore TF related warnings.\n",
    "# warnings.filterwarnings(\"ignore\")\n",
    "# os.environ['TF_CPP_MIN_LOG_LEVEL'] = '3'\n",
    "\n",
    "# parser = argparse.ArgumentParser()\n",
    "# parser.add_argument('--sample_dir', type=str, default = '', help='Directory of point-cloud samples.', required=True)\n",
    "# parser.add_argument('--ref', type=str, default = '', help='Path to reference point-cloud.', required=True)\n",
    "# parser.add_argument('--out_file', type=str, help='Save results in this file.', required=True)\n",
    "# parser.add_argument('--epochs', type=list, default = [1, 3, 10, 30, 100, 300, 400, 500], help='Epochs to evaluate.')\n",
    "# opt = parser.parse_args()"
   ]
  }
 ],
 "metadata": {
  "kernelspec": {
   "display_name": "Python 2",
   "language": "python",
   "name": "python2"
  },
  "language_info": {
   "codemirror_mode": {
    "name": "ipython",
    "version": 2
   },
   "file_extension": ".py",
   "mimetype": "text/x-python",
   "name": "python",
   "nbconvert_exporter": "python",
   "pygments_lexer": "ipython2",
   "version": "2.7.6"
  }
 },
 "nbformat": 4,
 "nbformat_minor": 2
}
