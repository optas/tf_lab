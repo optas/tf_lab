{
 "cells": [
  {
   "cell_type": "code",
   "execution_count": 1,
   "metadata": {
    "collapsed": false,
    "deletable": true,
    "editable": true
   },
   "outputs": [
    {
     "name": "stdout",
     "output_type": "stream",
     "text": [
      "Picking GPU 3\n"
     ]
    }
   ],
   "source": [
    "from general_tools.notebook.gpu_utils import setup_one_gpu\n",
    "GPU = 3\n",
    "setup_one_gpu(GPU)"
   ]
  },
  {
   "cell_type": "code",
   "execution_count": 2,
   "metadata": {
    "collapsed": false,
    "deletable": true,
    "editable": true
   },
   "outputs": [],
   "source": [
    "import sys\n",
    "import numpy as np\n",
    "import os.path as osp\n",
    "from tf_lab.iclr.evaluator import Evaluator\n",
    "from general_tools.in_out.basics import files_in_subdirs\n",
    "from tf_lab.iclr.helper import stored_synthetic_samples, top_evaluation_dir"
   ]
  },
  {
   "cell_type": "code",
   "execution_count": 4,
   "metadata": {
    "collapsed": false,
    "deletable": true,
    "editable": true
   },
   "outputs": [],
   "source": [
    "%load_ext autoreload\n",
    "%autoreload 2\n",
    "%matplotlib inline"
   ]
  },
  {
   "cell_type": "code",
   "execution_count": 60,
   "metadata": {
    "collapsed": false
   },
   "outputs": [],
   "source": [
    "from tf_lab.in_out.basics import Data_Splitter\n",
    "from tf_lab.point_clouds.in_out import PointCloudDataSet, load_point_clouds_from_filenames\n",
    "from tf_lab.data_sets.shape_net import pc_loader as snc_loader\n",
    "\n",
    "def load_multiple_version_of_pcs(version, syn_id, n_classes, n_pc_points=2048, random_seed=42, verbose=False):\n",
    "    top_data_dir = '/orions4-zfs/projects/optas/DATA/'\n",
    "\n",
    "    if n_classes != 1:\n",
    "        raise ValueError()\n",
    "\n",
    "    if version == 'uniform_all':\n",
    "        versions = ['centered', 'centered_2nd_version', 'centered_3rd_version']\n",
    "\n",
    "    elif version == 'uniform_one':\n",
    "        versions = ['centered_2nd_version']\n",
    "\n",
    "    elif version == 'fps':\n",
    "        versions = ['fps_sampled_in_u_sphere']\n",
    "\n",
    "    elif version == 'all':\n",
    "        versions = ['centered', 'centered_2nd_version', 'centered_3rd_version', 'fps_sampled_in_u_sphere']\n",
    "    else:\n",
    "        raise ValueError()\n",
    "\n",
    "    splits = {'train': None, 'val': None, 'test': None}\n",
    "\n",
    "    for s in splits.keys():\n",
    "        if verbose:\n",
    "            print 'Loading %s data.' % (s,)\n",
    "        s_file = osp.join(top_data_dir, 'Point_Clouds/Shape_Net/Splits/single_class_splits/' + syn_id + '/85_5_10/', s + '.txt')\n",
    "        if verbose:\n",
    "            print s_file\n",
    "        for _, v in enumerate(versions):\n",
    "            top_pclouds_path = osp.join(top_data_dir, 'Point_Clouds/Shape_Net/Core/from_manifold_meshes/', v, str(n_pc_points))\n",
    "            splitter = Data_Splitter(top_pclouds_path, data_file_ending='.ply', random_seed=random_seed)\n",
    "            pcs_in_split = splitter.load_splits(s_file)\n",
    "            pclouds, model_ids, syn_ids = load_point_clouds_from_filenames(pcs_in_split, n_threads=20, loader=snc_loader, verbose=True)\n",
    "            if splits[s] is None:\n",
    "                splits[s] = PointCloudDataSet(pclouds, labels=syn_ids + '_' + model_ids)\n",
    "            else:\n",
    "                splits[s].merge(PointCloudDataSet(pclouds, labels=syn_ids + '_' + model_ids))\n",
    "    return splits"
   ]
  },
  {
   "cell_type": "code",
   "execution_count": 58,
   "metadata": {
    "collapsed": true
   },
   "outputs": [],
   "source": [
    "syn_id = snc_category_to_synth_id()[class_name]"
   ]
  },
  {
   "cell_type": "code",
   "execution_count": 59,
   "metadata": {
    "collapsed": false
   },
   "outputs": [
    {
     "name": "stdout",
     "output_type": "stream",
     "text": [
      "679 pclouds were loaded. They belong in 1 shape-classes.\n",
      "5761 pclouds were loaded. They belong in 1 shape-classes.\n",
      "338 pclouds were loaded. They belong in 1 shape-classes.\n"
     ]
    }
   ],
   "source": [
    "pc1 = load_multiple_version_of_pcs('uniform_one', syn_id, 1)"
   ]
  },
  {
   "cell_type": "code",
   "execution_count": 61,
   "metadata": {
    "collapsed": false
   },
   "outputs": [
    {
     "name": "stdout",
     "output_type": "stream",
     "text": [
      "679 pclouds were loaded. They belong in 1 shape-classes.\n",
      "5761 pclouds were loaded. They belong in 1 shape-classes.\n",
      "338 pclouds were loaded. They belong in 1 shape-classes.\n"
     ]
    }
   ],
   "source": [
    "pc2 = load_multiple_version_of_pcs('uniform_one', syn_id, 1)"
   ]
  },
  {
   "cell_type": "code",
   "execution_count": 29,
   "metadata": {
    "collapsed": true
   },
   "outputs": [],
   "source": [
    "from geo_tool import Point_Cloud"
   ]
  },
  {
   "cell_type": "code",
   "execution_count": 62,
   "metadata": {
    "collapsed": false
   },
   "outputs": [],
   "source": [
    "# Point_Cloud(pc1['val'].point_clouds[0]).plot()"
   ]
  },
  {
   "cell_type": "code",
   "execution_count": 46,
   "metadata": {
    "collapsed": true
   },
   "outputs": [],
   "source": [
    "from tf_lab.evaluate.generative_pc_nets import minimum_mathing_distance"
   ]
  },
  {
   "cell_type": "code",
   "execution_count": 66,
   "metadata": {
    "collapsed": true
   },
   "outputs": [],
   "source": [
    "from numpy.random import normal"
   ]
  },
  {
   "cell_type": "code",
   "execution_count": 72,
   "metadata": {
    "collapsed": false
   },
   "outputs": [
    {
     "data": {
      "text/plain": [
       "(35.087219,\n",
       " [34.723442,\n",
       "  35.695347,\n",
       "  36.675575,\n",
       "  36.299862,\n",
       "  36.576176,\n",
       "  36.610443,\n",
       "  33.687553,\n",
       "  35.823833,\n",
       "  32.715092,\n",
       "  33.860409,\n",
       "  34.391418,\n",
       "  34.020638,\n",
       "  36.538696,\n",
       "  36.603127,\n",
       "  34.145569,\n",
       "  32.687431,\n",
       "  34.919136,\n",
       "  34.271439,\n",
       "  35.385338,\n",
       "  33.543182,\n",
       "  35.644321,\n",
       "  36.644218,\n",
       "  36.589172,\n",
       "  35.568981,\n",
       "  34.550556,\n",
       "  35.196049,\n",
       "  36.569439,\n",
       "  34.897373,\n",
       "  36.615227,\n",
       "  35.231445,\n",
       "  36.014973,\n",
       "  36.706623,\n",
       "  35.100304,\n",
       "  36.343403,\n",
       "  32.959991,\n",
       "  35.297695,\n",
       "  33.059456,\n",
       "  34.912079,\n",
       "  32.972694,\n",
       "  36.582432,\n",
       "  34.757996,\n",
       "  34.292076,\n",
       "  36.431187,\n",
       "  33.572906,\n",
       "  34.122711,\n",
       "  36.752098,\n",
       "  35.418022,\n",
       "  34.304108,\n",
       "  35.334755,\n",
       "  34.281158,\n",
       "  35.77523,\n",
       "  34.768677,\n",
       "  34.693523,\n",
       "  35.746964,\n",
       "  34.716461,\n",
       "  31.94095,\n",
       "  36.670368,\n",
       "  35.225296,\n",
       "  34.62088,\n",
       "  35.625114,\n",
       "  35.344288,\n",
       "  32.093803,\n",
       "  36.663601,\n",
       "  35.015839,\n",
       "  34.942677,\n",
       "  35.610249,\n",
       "  34.487663,\n",
       "  36.315826,\n",
       "  34.554848,\n",
       "  34.900078,\n",
       "  33.007477,\n",
       "  35.185349,\n",
       "  35.406219,\n",
       "  36.227665,\n",
       "  35.791111,\n",
       "  32.413921,\n",
       "  35.101936,\n",
       "  35.946236,\n",
       "  34.463387,\n",
       "  34.557827,\n",
       "  32.270584,\n",
       "  36.741161,\n",
       "  35.075165,\n",
       "  36.634201,\n",
       "  33.880203,\n",
       "  35.686577,\n",
       "  36.389626,\n",
       "  31.337797,\n",
       "  36.918079,\n",
       "  35.327255,\n",
       "  36.009117,\n",
       "  35.954014,\n",
       "  36.684433,\n",
       "  35.653305,\n",
       "  35.58802,\n",
       "  34.169773,\n",
       "  34.575375,\n",
       "  34.272736,\n",
       "  35.243332,\n",
       "  34.51685,\n",
       "  32.298759,\n",
       "  36.013718,\n",
       "  34.296272,\n",
       "  33.56794,\n",
       "  33.939308,\n",
       "  36.688507,\n",
       "  33.716061,\n",
       "  34.546265,\n",
       "  36.477818,\n",
       "  34.954376,\n",
       "  35.874817,\n",
       "  34.242352,\n",
       "  33.816036,\n",
       "  34.518997,\n",
       "  35.294785,\n",
       "  35.090515,\n",
       "  34.587502,\n",
       "  35.008316,\n",
       "  35.506607,\n",
       "  36.528801,\n",
       "  33.373104,\n",
       "  34.110481,\n",
       "  35.721798,\n",
       "  36.253193,\n",
       "  36.118294,\n",
       "  36.159691,\n",
       "  36.49754,\n",
       "  36.355106,\n",
       "  36.173042,\n",
       "  35.312836,\n",
       "  33.86961,\n",
       "  33.130028,\n",
       "  34.90271,\n",
       "  34.624317,\n",
       "  34.390778,\n",
       "  35.665024,\n",
       "  35.652817,\n",
       "  33.922699,\n",
       "  36.172867,\n",
       "  35.061447,\n",
       "  37.254272,\n",
       "  34.360794,\n",
       "  36.038177,\n",
       "  36.447708,\n",
       "  34.543266,\n",
       "  37.20586,\n",
       "  34.495644,\n",
       "  32.743252,\n",
       "  35.694092,\n",
       "  35.207447,\n",
       "  35.825516,\n",
       "  34.460403,\n",
       "  34.985123,\n",
       "  36.620258,\n",
       "  33.773724,\n",
       "  33.090336,\n",
       "  34.854568,\n",
       "  34.913742,\n",
       "  33.404579,\n",
       "  35.108494,\n",
       "  35.882767,\n",
       "  36.378876,\n",
       "  35.727493,\n",
       "  35.295494,\n",
       "  34.582706,\n",
       "  35.937599,\n",
       "  35.197029,\n",
       "  35.163437,\n",
       "  32.724815,\n",
       "  35.055031,\n",
       "  36.756714,\n",
       "  35.509689,\n",
       "  34.913143,\n",
       "  35.274139,\n",
       "  35.245308,\n",
       "  36.316513,\n",
       "  34.339882,\n",
       "  35.307999,\n",
       "  37.133446,\n",
       "  36.209126,\n",
       "  36.072037,\n",
       "  36.179161,\n",
       "  35.659027,\n",
       "  34.530006,\n",
       "  35.562084,\n",
       "  35.071831,\n",
       "  35.164497,\n",
       "  34.667953,\n",
       "  31.992651,\n",
       "  36.773796,\n",
       "  34.417255,\n",
       "  34.451538,\n",
       "  35.555271,\n",
       "  34.624901,\n",
       "  34.361637,\n",
       "  33.816628,\n",
       "  36.14521,\n",
       "  34.77166,\n",
       "  34.007961,\n",
       "  36.809708,\n",
       "  34.009438,\n",
       "  33.707596,\n",
       "  32.095203,\n",
       "  35.409344,\n",
       "  34.641407,\n",
       "  33.514694,\n",
       "  36.177948,\n",
       "  33.790176,\n",
       "  34.321762,\n",
       "  36.374374,\n",
       "  35.297646,\n",
       "  36.15498,\n",
       "  35.69297,\n",
       "  37.141426,\n",
       "  36.099045,\n",
       "  35.65123,\n",
       "  32.913185,\n",
       "  36.265732,\n",
       "  35.014397,\n",
       "  35.056877,\n",
       "  33.591942,\n",
       "  36.083382,\n",
       "  33.207108,\n",
       "  36.175121,\n",
       "  35.045216,\n",
       "  32.511955,\n",
       "  34.821037,\n",
       "  35.606552,\n",
       "  37.263359,\n",
       "  35.416786,\n",
       "  35.850105,\n",
       "  35.573452,\n",
       "  36.316597,\n",
       "  34.659828,\n",
       "  37.45887,\n",
       "  36.885086,\n",
       "  31.395767,\n",
       "  33.569351,\n",
       "  34.292076,\n",
       "  35.706757,\n",
       "  34.264336,\n",
       "  34.393654,\n",
       "  35.502636,\n",
       "  35.115719,\n",
       "  35.391724,\n",
       "  35.386589,\n",
       "  34.272827,\n",
       "  31.901705,\n",
       "  34.191715,\n",
       "  36.737076,\n",
       "  32.599384,\n",
       "  33.21019,\n",
       "  35.100677,\n",
       "  34.894085,\n",
       "  35.5714,\n",
       "  36.242352,\n",
       "  36.07766,\n",
       "  36.097023,\n",
       "  36.522625,\n",
       "  34.672836,\n",
       "  34.270782,\n",
       "  36.417084,\n",
       "  33.855347,\n",
       "  34.167076,\n",
       "  36.594673,\n",
       "  34.499992,\n",
       "  36.901421,\n",
       "  36.44323,\n",
       "  33.705147,\n",
       "  33.964672,\n",
       "  33.944054,\n",
       "  36.743572,\n",
       "  35.083485,\n",
       "  35.396114,\n",
       "  32.876266,\n",
       "  35.896149,\n",
       "  36.009392,\n",
       "  36.535549,\n",
       "  36.05925,\n",
       "  34.08934,\n",
       "  35.36713,\n",
       "  33.999908,\n",
       "  33.747047,\n",
       "  34.662117,\n",
       "  32.543777,\n",
       "  34.607468,\n",
       "  36.856407,\n",
       "  36.095432,\n",
       "  32.732594,\n",
       "  36.289368,\n",
       "  36.301842,\n",
       "  34.542969,\n",
       "  35.190979,\n",
       "  37.097809,\n",
       "  35.134342,\n",
       "  35.981453,\n",
       "  33.978748,\n",
       "  34.67326,\n",
       "  35.290901,\n",
       "  34.344475,\n",
       "  35.361366,\n",
       "  36.27026,\n",
       "  36.089249,\n",
       "  34.051247,\n",
       "  36.08239,\n",
       "  35.790695,\n",
       "  35.623119,\n",
       "  36.22562,\n",
       "  35.337601,\n",
       "  33.496052,\n",
       "  34.815918,\n",
       "  36.420727,\n",
       "  33.9855,\n",
       "  34.947884,\n",
       "  35.53669,\n",
       "  35.790974,\n",
       "  36.667927,\n",
       "  36.375568,\n",
       "  36.860188,\n",
       "  36.281685,\n",
       "  35.206131,\n",
       "  36.684155,\n",
       "  33.651772,\n",
       "  32.978188,\n",
       "  35.988205,\n",
       "  36.366356,\n",
       "  33.195374,\n",
       "  36.531639,\n",
       "  32.876354,\n",
       "  34.94865,\n",
       "  35.699776,\n",
       "  34.066391,\n",
       "  36.048019,\n",
       "  33.754543,\n",
       "  33.317974,\n",
       "  35.238091,\n",
       "  34.401562,\n",
       "  37.032711])"
      ]
     },
     "execution_count": 72,
     "metadata": {},
     "output_type": "execute_result"
    }
   ],
   "source": [
    "a = pc1['val'].point_clouds\n",
    "b = pc1['val'].point_clouds + normal(scale=0.01, size=(pc1['val'].point_clouds.shape))\n",
    "\n",
    "minimum_mathing_distance(a, b, 400, use_EMD=True)\n"
   ]
  },
  {
   "cell_type": "code",
   "execution_count": 44,
   "metadata": {
    "collapsed": false
   },
   "outputs": [
    {
     "name": "stdout",
     "output_type": "stream",
     "text": [
      "0\n"
     ]
    }
   ],
   "source": [
    "# c = 0\n",
    "# for pc in pc1['val'].point_clouds:\n",
    "#     p = Point_Cloud(pc)\n",
    "#     if not p.is_in_unit_sphere():\n",
    "#         c += 1\n",
    "# print c"
   ]
  },
  {
   "cell_type": "code",
   "execution_count": null,
   "metadata": {
    "collapsed": true
   },
   "outputs": [],
   "source": [
    "# DO SOME tests of 'scaling' between pc1 and pc2. Then run MMD-CD between 'val-set'."
   ]
  },
  {
   "cell_type": "code",
   "execution_count": 9,
   "metadata": {
    "collapsed": true
   },
   "outputs": [],
   "source": [
    "from tf_lab.data_sets.shape_net import snc_category_to_synth_id"
   ]
  },
  {
   "cell_type": "code",
   "execution_count": 10,
   "metadata": {
    "collapsed": false,
    "deletable": true,
    "editable": true
   },
   "outputs": [],
   "source": [
    "class_name = 'chair'\n",
    "\n",
    "do_jsd = False\n",
    "do_mmd = True\n",
    "\n",
    "save_res = False\n",
    "\n",
    "top_out_dir = top_evaluation_dir\n",
    "experiment_name = ''\n",
    "\n",
    "sample_mmd = False\n",
    "n_samples = 2\n",
    "ref_pop = 2000\n",
    "sample_pop = 2000\n",
    "mmd_loss = 'emd'\n",
    "special_tag = 'decoder'\n",
    "skip = ['val', 'test']"
   ]
  },
  {
   "cell_type": "code",
   "execution_count": 6,
   "metadata": {
    "collapsed": true,
    "deletable": true,
    "editable": true
   },
   "outputs": [],
   "source": [
    "if do_jsd:\n",
    "    boost_samples = 1\n",
    "else:\n",
    "    boost_samples = 1\n",
    "assert(np.logical_xor(do_jsd, do_mmd))"
   ]
  },
  {
   "cell_type": "code",
   "execution_count": 7,
   "metadata": {
    "collapsed": false,
    "deletable": true,
    "editable": true
   },
   "outputs": [],
   "source": [
    "# top_sample_dir = stored_synthetic_samples(class_name)[experiment_name]"
   ]
  },
  {
   "cell_type": "code",
   "execution_count": 7,
   "metadata": {
    "collapsed": false,
    "deletable": true,
    "editable": true
   },
   "outputs": [],
   "source": [
    "if save_res:\n",
    "    exp_name = osp.basename(top_sample_dir)\n",
    "    if do_jsd:\n",
    "        f_jsd = open(osp.join(top_out_dir, class_name, 'jsd_' + special_tag + exp_name + '.txt'), 'w')\n",
    "            \n",
    "    if do_mmd:\n",
    "        f_mmd = open(osp.join(top_out_dir, class_name, 'mmd_' + special_tag + exp_name + '.txt'), 'w')\n",
    "else:\n",
    "    f_jsd = sys.stdout\n",
    "    f_mmd = sys.stdout"
   ]
  },
  {
   "cell_type": "code",
   "execution_count": 9,
   "metadata": {
    "collapsed": false,
    "deletable": true,
    "editable": true
   },
   "outputs": [],
   "source": [
    "sample_files = ['/orions4-zfs/projects/optas/DATA/OUT/iclr/evaluations/decoded_gt_data_aligned_to_gt/chair/mlp_with_split_1pc_usampled_bnorm_on_encoder_only/emd_bneck_128/train.npz']"
   ]
  },
  {
   "cell_type": "code",
   "execution_count": 10,
   "metadata": {
    "collapsed": false,
    "deletable": true,
    "editable": true
   },
   "outputs": [],
   "source": [
    "evaluator = Evaluator(class_name)\n",
    "evaluator.load_gt_data()\n",
    "if do_jsd:\n",
    "    evaluator.prepare_gt_grid_variables()"
   ]
  },
  {
   "cell_type": "code",
   "execution_count": null,
   "metadata": {
    "collapsed": false,
    "deletable": true,
    "editable": true,
    "scrolled": false
   },
   "outputs": [
    {
     "name": "stdout",
     "output_type": "stream",
     "text": [
      "train\n",
      "train\n"
     ]
    }
   ],
   "source": [
    "for sample_file in sample_files:\n",
    "    evaluator.prepare_sample_data(sample_file, boost_samples)\n",
    "    sample_name = osp.basename(sample_file)[:-len('.npz')]\n",
    "    print sample_name\n",
    "    if do_jsd:\n",
    "        f_jsd.write(sample_name + '\\n')\n",
    "        evaluator.compute_jsd(f_out=f_jsd)\n",
    "        f_jsd.flush()\n",
    "    if do_mmd:\n",
    "        f_mmd.write(sample_name + '\\n')\n",
    "        evaluator.compute_mmd(loss=mmd_loss, sample_estimator=sample_mmd, n_samples=n_samples, \n",
    "                              ref_pop_size=ref_pop, sample_pop_size=sample_pop,\n",
    "                              f_out=f_mmd, skip=skip)\n",
    "        f_mmd.flush()\n",
    "    print"
   ]
  },
  {
   "cell_type": "code",
   "execution_count": 12,
   "metadata": {
    "collapsed": true,
    "deletable": true,
    "editable": true
   },
   "outputs": [],
   "source": [
    "if save_res:\n",
    "    if do_jsd:\n",
    "        f_jsd.close()\n",
    "    if do_mmd:\n",
    "        f_mmd.close()"
   ]
  }
 ],
 "metadata": {
  "kernelspec": {
   "display_name": "TensorFlow1",
   "language": "python",
   "name": "tf1"
  },
  "language_info": {
   "codemirror_mode": {
    "name": "ipython",
    "version": 2
   },
   "file_extension": ".py",
   "mimetype": "text/x-python",
   "name": "python",
   "nbconvert_exporter": "python",
   "pygments_lexer": "ipython2",
   "version": "2.7.6"
  }
 },
 "nbformat": 4,
 "nbformat_minor": 2
}
