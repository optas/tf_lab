{
 "cells": [
  {
   "cell_type": "code",
   "execution_count": 1,
   "metadata": {
    "collapsed": false,
    "deletable": true,
    "editable": true
   },
   "outputs": [
    {
     "name": "stdout",
     "output_type": "stream",
     "text": [
      "Picking GPU 3\n"
     ]
    }
   ],
   "source": [
    "from general_tools.notebook.gpu_utils import setup_one_gpu\n",
    "GPU = 3\n",
    "setup_one_gpu(GPU)"
   ]
  },
  {
   "cell_type": "code",
   "execution_count": 2,
   "metadata": {
    "collapsed": false,
    "deletable": true,
    "editable": true
   },
   "outputs": [],
   "source": [
    "import sys\n",
    "import numpy as np\n",
    "import os.path as osp\n",
    "from tf_lab.iclr.evaluator import Evaluator\n",
    "from general_tools.in_out.basics import files_in_subdirs\n",
    "from tf_lab.iclr.helper import stored_synthetic_samples, top_evaluation_dir"
   ]
  },
  {
   "cell_type": "code",
   "execution_count": 7,
   "metadata": {
    "collapsed": true
   },
   "outputs": [],
   "source": [
    "from geo_tool import Point_Cloud\n",
    "from tf_lab.evaluate.generative_pc_nets import minimum_mathing_distance\n",
    "from numpy.random import normal\n",
    "from tf_lab.data_sets.shape_net import snc_category_to_synth_id"
   ]
  },
  {
   "cell_type": "code",
   "execution_count": 8,
   "metadata": {
    "collapsed": false,
    "deletable": true,
    "editable": true
   },
   "outputs": [
    {
     "name": "stdout",
     "output_type": "stream",
     "text": [
      "The autoreload extension is already loaded. To reload it, use:\n",
      "  %reload_ext autoreload\n"
     ]
    }
   ],
   "source": [
    "%load_ext autoreload\n",
    "%autoreload 2\n",
    "%matplotlib inline"
   ]
  },
  {
   "cell_type": "code",
   "execution_count": 12,
   "metadata": {
    "collapsed": false
   },
   "outputs": [],
   "source": [
    "from tf_lab.in_out.basics import Data_Splitter\n",
    "from tf_lab.point_clouds.in_out import PointCloudDataSet, load_point_clouds_from_filenames\n",
    "from tf_lab.data_sets.shape_net import pc_loader as snc_loader\n",
    "\n",
    "def load_multiple_version_of_pcs(version, syn_id, n_classes, n_pc_points=2048, random_seed=42, verbose=False):\n",
    "    top_data_dir = '/orions4-zfs/projects/optas/DATA/'\n",
    "\n",
    "    if n_classes != 1:\n",
    "        raise ValueError()\n",
    "\n",
    "    elif version == 'uniform_one':\n",
    "#         versions = ['centered_2nd_version']\n",
    "        versions = ['centered_3rd_version']\n",
    "\n",
    "\n",
    "    splits = {'train': None, 'val': None, 'test': None}\n",
    "\n",
    "    for s in splits.keys():\n",
    "        if verbose:\n",
    "            print 'Loading %s data.' % (s,)\n",
    "        s_file = osp.join(top_data_dir, 'Point_Clouds/Shape_Net/Splits/single_class_splits/' + syn_id + '/85_5_10/', s + '.txt')\n",
    "        if verbose:\n",
    "            print s_file\n",
    "        for _, v in enumerate(versions):\n",
    "            top_pclouds_path = osp.join(top_data_dir, 'Point_Clouds/Shape_Net/Core/from_manifold_meshes/', v, str(n_pc_points))\n",
    "            splitter = Data_Splitter(top_pclouds_path, data_file_ending='.ply', random_seed=random_seed)\n",
    "            pcs_in_split = splitter.load_splits(s_file)\n",
    "            pclouds, model_ids, syn_ids = load_point_clouds_from_filenames(pcs_in_split, n_threads=20, loader=snc_loader, verbose=True)\n",
    "            if splits[s] is None:\n",
    "                splits[s] = PointCloudDataSet(pclouds, labels=syn_ids + '_' + model_ids)\n",
    "            else:\n",
    "                splits[s].merge(PointCloudDataSet(pclouds, labels=syn_ids + '_' + model_ids))\n",
    "    return splits"
   ]
  },
  {
   "cell_type": "code",
   "execution_count": 10,
   "metadata": {
    "collapsed": false
   },
   "outputs": [],
   "source": [
    "class_name = 'chair'\n",
    "syn_id = snc_category_to_synth_id()[class_name]\n",
    "pc1 = load_multiple_version_of_pcs('uniform_one', syn_id, 1)"
   ]
  },
  {
   "cell_type": "code",
   "execution_count": 13,
   "metadata": {
    "collapsed": false
   },
   "outputs": [
    {
     "name": "stdout",
     "output_type": "stream",
     "text": [
      "679 pclouds were loaded. They belong in 1 shape-classes.\n",
      "5761 pclouds were loaded. They belong in 1 shape-classes.\n",
      "338 pclouds were loaded. They belong in 1 shape-classes.\n"
     ]
    }
   ],
   "source": [
    "# manually change versions\n",
    "pc2 = load_multiple_version_of_pcs('uniform_one', syn_id, 1)"
   ]
  },
  {
   "cell_type": "code",
   "execution_count": 61,
   "metadata": {
    "collapsed": false
   },
   "outputs": [
    {
     "name": "stdout",
     "output_type": "stream",
     "text": [
      "679 pclouds were loaded. They belong in 1 shape-classes.\n",
      "5761 pclouds were loaded. They belong in 1 shape-classes.\n",
      "338 pclouds were loaded. They belong in 1 shape-classes.\n"
     ]
    }
   ],
   "source": []
  },
  {
   "cell_type": "code",
   "execution_count": 29,
   "metadata": {
    "collapsed": true
   },
   "outputs": [],
   "source": []
  },
  {
   "cell_type": "code",
   "execution_count": 15,
   "metadata": {
    "collapsed": false
   },
   "outputs": [
    {
     "data": {
      "text/plain": [
       "(67.613182,\n",
       " [68.932503,\n",
       "  59.148788,\n",
       "  57.316463,\n",
       "  81.253998,\n",
       "  72.036713,\n",
       "  54.369331,\n",
       "  52.135326,\n",
       "  54.576813,\n",
       "  91.749901,\n",
       "  53.416336,\n",
       "  74.026047,\n",
       "  90.837967,\n",
       "  53.733208,\n",
       "  75.031334,\n",
       "  87.387222,\n",
       "  74.902649,\n",
       "  57.649536,\n",
       "  74.698868,\n",
       "  60.144669,\n",
       "  54.087166,\n",
       "  73.962784,\n",
       "  84.798904,\n",
       "  58.506214,\n",
       "  79.375458,\n",
       "  61.237816,\n",
       "  64.998566,\n",
       "  68.484985,\n",
       "  68.553085,\n",
       "  68.142609,\n",
       "  57.576447,\n",
       "  86.003342,\n",
       "  88.05983,\n",
       "  75.841812,\n",
       "  91.844635,\n",
       "  65.591904,\n",
       "  63.844154,\n",
       "  62.638134,\n",
       "  59.298576,\n",
       "  65.096878,\n",
       "  58.709827,\n",
       "  83.181946,\n",
       "  87.819656,\n",
       "  68.303322,\n",
       "  51.957462,\n",
       "  51.151226,\n",
       "  67.248009,\n",
       "  72.380165,\n",
       "  71.576164,\n",
       "  64.338806,\n",
       "  70.089249,\n",
       "  66.021179,\n",
       "  63.459946,\n",
       "  58.537441,\n",
       "  56.556511,\n",
       "  79.697929,\n",
       "  66.435242,\n",
       "  99.43399,\n",
       "  62.664803,\n",
       "  60.131531,\n",
       "  65.346939,\n",
       "  67.112717,\n",
       "  58.536266,\n",
       "  80.535355,\n",
       "  60.299301,\n",
       "  58.245609,\n",
       "  88.135849,\n",
       "  67.020828,\n",
       "  54.943905,\n",
       "  58.882904,\n",
       "  50.480225,\n",
       "  72.146263,\n",
       "  93.604263,\n",
       "  71.268692,\n",
       "  75.445923,\n",
       "  51.519318,\n",
       "  64.577003,\n",
       "  68.139244,\n",
       "  57.046227,\n",
       "  86.465332,\n",
       "  71.669518,\n",
       "  66.577347,\n",
       "  57.675232,\n",
       "  80.628159,\n",
       "  64.159698,\n",
       "  75.873016,\n",
       "  71.437843,\n",
       "  84.64003,\n",
       "  71.8405,\n",
       "  56.573608,\n",
       "  90.455475,\n",
       "  94.821205,\n",
       "  78.516846,\n",
       "  63.223099,\n",
       "  65.472473,\n",
       "  74.916489,\n",
       "  69.627342,\n",
       "  83.248833,\n",
       "  45.861584,\n",
       "  82.045456,\n",
       "  83.840508,\n",
       "  69.671082,\n",
       "  75.069794,\n",
       "  54.8405,\n",
       "  68.385269,\n",
       "  72.413521,\n",
       "  58.972176,\n",
       "  59.413822,\n",
       "  68.453461,\n",
       "  59.691154,\n",
       "  60.896069,\n",
       "  69.565125,\n",
       "  67.877907,\n",
       "  62.824375,\n",
       "  78.009209,\n",
       "  60.30735,\n",
       "  63.539001,\n",
       "  75.772018,\n",
       "  76.83419,\n",
       "  66.383087,\n",
       "  69.707237,\n",
       "  69.254082,\n",
       "  56.784607,\n",
       "  73.412117,\n",
       "  71.356537,\n",
       "  56.7033,\n",
       "  71.578613,\n",
       "  80.344841,\n",
       "  64.815033,\n",
       "  75.416588,\n",
       "  53.728722,\n",
       "  69.243416,\n",
       "  80.89431,\n",
       "  76.37941,\n",
       "  80.199005,\n",
       "  68.306564,\n",
       "  56.844864,\n",
       "  56.914577,\n",
       "  65.514656,\n",
       "  77.941315,\n",
       "  62.100754,\n",
       "  68.305954,\n",
       "  68.353775,\n",
       "  64.234779,\n",
       "  60.731369,\n",
       "  90.550468,\n",
       "  63.859768,\n",
       "  61.528633,\n",
       "  72.572044,\n",
       "  63.349564,\n",
       "  55.831642,\n",
       "  70.164246,\n",
       "  67.515045,\n",
       "  67.045883,\n",
       "  73.833603,\n",
       "  77.922745,\n",
       "  62.310261,\n",
       "  60.030716,\n",
       "  74.091217,\n",
       "  73.608047,\n",
       "  61.067963,\n",
       "  70.041862,\n",
       "  65.394112,\n",
       "  68.072327,\n",
       "  54.195381,\n",
       "  64.985153,\n",
       "  57.140152,\n",
       "  64.813904,\n",
       "  53.745232,\n",
       "  66.039932,\n",
       "  64.868423,\n",
       "  62.213501,\n",
       "  76.061073,\n",
       "  57.76545,\n",
       "  74.418587,\n",
       "  83.063469,\n",
       "  78.031479,\n",
       "  72.980446,\n",
       "  66.527466,\n",
       "  63.368027,\n",
       "  57.517998,\n",
       "  67.0103,\n",
       "  79.678818,\n",
       "  71.916069,\n",
       "  70.857849,\n",
       "  63.860352,\n",
       "  52.626366,\n",
       "  63.743874,\n",
       "  62.831436,\n",
       "  60.795021,\n",
       "  73.784592,\n",
       "  51.055748,\n",
       "  59.35009,\n",
       "  74.458633,\n",
       "  53.201714,\n",
       "  65.50531,\n",
       "  72.545265,\n",
       "  67.23053,\n",
       "  49.467014,\n",
       "  58.099434,\n",
       "  71.952362,\n",
       "  79.336761,\n",
       "  86.886444,\n",
       "  59.115208,\n",
       "  60.094063,\n",
       "  65.3983,\n",
       "  55.476952,\n",
       "  70.610687,\n",
       "  71.314995,\n",
       "  67.725418,\n",
       "  90.406296,\n",
       "  58.299644,\n",
       "  72.389938,\n",
       "  77.855774,\n",
       "  61.936275,\n",
       "  61.517479,\n",
       "  75.688934,\n",
       "  62.184887,\n",
       "  59.110302,\n",
       "  59.737938,\n",
       "  56.118584,\n",
       "  77.108063,\n",
       "  65.658676,\n",
       "  62.045429,\n",
       "  63.91058,\n",
       "  61.926041,\n",
       "  63.665161,\n",
       "  67.205788,\n",
       "  58.093052,\n",
       "  67.261734,\n",
       "  72.184052,\n",
       "  59.510525,\n",
       "  53.105862,\n",
       "  64.806564,\n",
       "  76.621681,\n",
       "  79.937378,\n",
       "  62.95359,\n",
       "  77.351585,\n",
       "  81.266762,\n",
       "  64.389297,\n",
       "  68.871559,\n",
       "  66.146187,\n",
       "  65.362656,\n",
       "  61.141212,\n",
       "  48.869022,\n",
       "  51.057442,\n",
       "  61.838749,\n",
       "  59.035225,\n",
       "  71.144119,\n",
       "  67.521461,\n",
       "  60.883606,\n",
       "  75.25351,\n",
       "  70.668747,\n",
       "  56.459656,\n",
       "  66.595459,\n",
       "  76.371132,\n",
       "  59.038437,\n",
       "  65.952995,\n",
       "  60.800705,\n",
       "  87.942711,\n",
       "  61.651894,\n",
       "  60.579521,\n",
       "  84.132523,\n",
       "  61.725544,\n",
       "  64.940353,\n",
       "  69.54026,\n",
       "  71.009094,\n",
       "  57.04084,\n",
       "  58.71529,\n",
       "  102.55006,\n",
       "  55.381836,\n",
       "  59.903954,\n",
       "  72.116516,\n",
       "  67.243668,\n",
       "  74.658493,\n",
       "  59.461456,\n",
       "  75.560623,\n",
       "  57.481361,\n",
       "  67.613541,\n",
       "  72.686447,\n",
       "  70.934708,\n",
       "  69.068268,\n",
       "  72.935097,\n",
       "  59.479061,\n",
       "  65.937271,\n",
       "  68.210724,\n",
       "  65.625946,\n",
       "  52.242973,\n",
       "  69.018845,\n",
       "  58.885994,\n",
       "  64.898293,\n",
       "  70.085312,\n",
       "  61.635807,\n",
       "  60.555836,\n",
       "  68.703514,\n",
       "  54.967049,\n",
       "  61.279198,\n",
       "  64.108192,\n",
       "  58.806538,\n",
       "  65.109909,\n",
       "  65.154015,\n",
       "  47.339226,\n",
       "  76.141838,\n",
       "  63.717392,\n",
       "  59.096657,\n",
       "  61.656815,\n",
       "  66.382881,\n",
       "  75.143723,\n",
       "  77.031982,\n",
       "  80.730804,\n",
       "  72.224228,\n",
       "  66.420265,\n",
       "  63.988567,\n",
       "  76.116066,\n",
       "  67.7146,\n",
       "  70.844109,\n",
       "  76.407242,\n",
       "  56.988663,\n",
       "  78.334496,\n",
       "  81.447273,\n",
       "  77.043648,\n",
       "  54.950596,\n",
       "  71.01535,\n",
       "  62.178524,\n",
       "  67.488541,\n",
       "  46.067623,\n",
       "  66.453262,\n",
       "  71.072693,\n",
       "  68.500702,\n",
       "  52.810669,\n",
       "  63.574017,\n",
       "  76.126625,\n",
       "  65.639297,\n",
       "  71.660431,\n",
       "  85.334938,\n",
       "  63.501183,\n",
       "  68.576401,\n",
       "  84.572586,\n",
       "  77.840576])"
      ]
     },
     "execution_count": 15,
     "metadata": {},
     "output_type": "execute_result"
    }
   ],
   "source": [
    "a = pc1['val'].point_clouds\n",
    "# b = pc1['val'].point_clouds + normal(scale=0.01, size=(pc1['val'].point_clouds.shape))\n",
    "b = pc2['val'].point_clouds\n",
    "minimum_mathing_distance(a, b, 400, use_EMD=True)\n"
   ]
  },
  {
   "cell_type": "code",
   "execution_count": 9,
   "metadata": {
    "collapsed": false,
    "deletable": true,
    "editable": true
   },
   "outputs": [],
   "source": [
    "sample_files = ['/orions4-zfs/projects/optas/DATA/OUT/iclr/evaluations/decoded_gt_data_aligned_to_gt/chair/mlp_with_split_1pc_usampled_bnorm_on_encoder_only/emd_bneck_128/train.npz']"
   ]
  },
  {
   "cell_type": "code",
   "execution_count": 10,
   "metadata": {
    "collapsed": false,
    "deletable": true,
    "editable": true
   },
   "outputs": [],
   "source": [
    "evaluator = Evaluator(class_name)\n",
    "evaluator.load_gt_data()\n",
    "if do_jsd:\n",
    "    evaluator.prepare_gt_grid_variables()"
   ]
  },
  {
   "cell_type": "code",
   "execution_count": null,
   "metadata": {
    "collapsed": false,
    "deletable": true,
    "editable": true,
    "scrolled": false
   },
   "outputs": [
    {
     "name": "stdout",
     "output_type": "stream",
     "text": [
      "train\n",
      "train\n"
     ]
    }
   ],
   "source": [
    "for sample_file in sample_files:\n",
    "    evaluator.prepare_sample_data(sample_file, boost_samples)\n",
    "    sample_name = osp.basename(sample_file)[:-len('.npz')]\n",
    "    print sample_name\n",
    "    if do_jsd:\n",
    "        f_jsd.write(sample_name + '\\n')\n",
    "        evaluator.compute_jsd(f_out=f_jsd)\n",
    "        f_jsd.flush()\n",
    "    if do_mmd:\n",
    "        f_mmd.write(sample_name + '\\n')\n",
    "        evaluator.compute_mmd(loss=mmd_loss, sample_estimator=sample_mmd, n_samples=n_samples, \n",
    "                              ref_pop_size=ref_pop, sample_pop_size=sample_pop,\n",
    "                              f_out=f_mmd, skip=skip)\n",
    "        f_mmd.flush()\n",
    "    print"
   ]
  },
  {
   "cell_type": "code",
   "execution_count": 12,
   "metadata": {
    "collapsed": true,
    "deletable": true,
    "editable": true
   },
   "outputs": [],
   "source": [
    "if save_res:\n",
    "    if do_jsd:\n",
    "        f_jsd.close()\n",
    "    if do_mmd:\n",
    "        f_mmd.close()"
   ]
  }
 ],
 "metadata": {
  "kernelspec": {
   "display_name": "TensorFlow1",
   "language": "python",
   "name": "tf1"
  },
  "language_info": {
   "codemirror_mode": {
    "name": "ipython",
    "version": 2
   },
   "file_extension": ".py",
   "mimetype": "text/x-python",
   "name": "python",
   "nbconvert_exporter": "python",
   "pygments_lexer": "ipython2",
   "version": "2.7.6"
  }
 },
 "nbformat": 4,
 "nbformat_minor": 2
}
