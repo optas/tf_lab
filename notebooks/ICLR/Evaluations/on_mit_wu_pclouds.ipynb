{
 "cells": [
  {
   "cell_type": "code",
   "execution_count": 1,
   "metadata": {
    "collapsed": false,
    "deletable": true,
    "editable": true
   },
   "outputs": [
    {
     "name": "stdout",
     "output_type": "stream",
     "text": [
      "Picking GPU 1\n"
     ]
    }
   ],
   "source": [
    "from general_tools.notebook.gpu_utils import setup_one_gpu\n",
    "GPU = 1\n",
    "setup_one_gpu(GPU)"
   ]
  },
  {
   "cell_type": "code",
   "execution_count": 2,
   "metadata": {
    "collapsed": false,
    "deletable": true,
    "editable": true
   },
   "outputs": [],
   "source": [
    "import numpy as np\n",
    "import os.path as osp\n",
    "from geo_tool import Point_Cloud\n",
    "from tf_lab.nips.helper import pclouds_centered_and_half_sphere, center_pclouds_in_unit_sphere\n",
    "from tf_lab.iclr.helper import load_multiple_version_of_pcs\n",
    "from tf_lab.data_sets.shape_net import snc_category_to_synth_id\n",
    "from tf_lab.evaluate.generative_pc_nets import entropy_of_occupancy_grid, \\\n",
    "jensen_shannon_divergence, minimum_mathing_distance, coverage\n",
    "from tf_lab.iclr.evaluator import Evaluator"
   ]
  },
  {
   "cell_type": "code",
   "execution_count": 3,
   "metadata": {
    "collapsed": false,
    "deletable": true,
    "editable": true
   },
   "outputs": [],
   "source": [
    "%load_ext autoreload\n",
    "%matplotlib inline\n",
    "%autoreload 2"
   ]
  },
  {
   "cell_type": "code",
   "execution_count": 7,
   "metadata": {
    "collapsed": false,
    "deletable": true,
    "editable": true
   },
   "outputs": [],
   "source": [
    "# Parameters\n",
    "n_pc_samples = 2048\n",
    "mmd_loss = 'emd'\n",
    "skip = ['train', 'test' ]\n",
    "\n",
    "do_cov = True\n",
    "do_mmd = True\n",
    "do_jsd = False\n",
    "sample_metrics = False\n",
    "pc_normalizer = center_pclouds_in_unit_sphere"
   ]
  },
  {
   "cell_type": "code",
   "execution_count": 11,
   "metadata": {
    "collapsed": false
   },
   "outputs": [],
   "source": [
    "top_in_data = '/orions4-zfs/projects/optas/DATA/OUT/iclr/synthetic_samples/mit_wu_isosurface_extracted/'\n",
    "all_classes = ['car', 'table', 'sofa', 'rifle']\n",
    "boost_samples = 3"
   ]
  },
  {
   "cell_type": "code",
   "execution_count": 12,
   "metadata": {
    "collapsed": false,
    "scrolled": true
   },
   "outputs": [
    {
     "name": "stdout",
     "output_type": "stream",
     "text": [
      "rifle\n",
      "val 106.455 30.2683\n",
      "106.455\n",
      "val 0.703389830508 0.0\n",
      "0.703389830508\n",
      "0.703389830508 106.455\n",
      "\n"
     ]
    }
   ],
   "source": [
    "all_classes = ['rifle']\n",
    "for class_name in all_classes:\n",
    "    print class_name\n",
    "    \n",
    "    jsd_scores = []\n",
    "    mmd_scores = []\n",
    "    cov_scores = []\n",
    "\n",
    "    evaluator = Evaluator(class_name, norm=pc_normalizer)\n",
    "    evaluator.load_gt_data()\n",
    "    \n",
    "    if do_jsd:\n",
    "        evaluator.prepare_gt_grid_variables()\n",
    "    \n",
    "    sample_file = osp.join(top_in_data, class_name + '.npz')\n",
    "    \n",
    "    evaluator.prepare_sample_data(sample_file, boost_sample=boost_samples)\n",
    "    \n",
    "    if do_jsd:\n",
    "        evaluator.prepare_sample_data(sample_file, boost_sample=1)\n",
    "        jsd_scores.append(evaluator.compute_jsd(skip=skip))\n",
    "\n",
    "    if do_mmd:\n",
    "        score = evaluator.compute_mmd(loss=mmd_loss, sample_estimator=sample_metrics, skip=skip)\n",
    "        mmd_scores.append(np.mean(score['val']))\n",
    "        print mmd_scores[-1]\n",
    "\n",
    "    if do_cov:\n",
    "        score = evaluator.compute_coverage(loss=mmd_loss, sample_estimator=sample_metrics, skip=skip)\n",
    "        cov_scores.append(score['val'])\n",
    "        print cov_scores[-1]\n",
    "    print np.mean(cov_scores), np.mean(mmd_scores)\n",
    "    print"
   ]
  },
  {
   "cell_type": "code",
   "execution_count": 43,
   "metadata": {
    "collapsed": false
   },
   "outputs": [
    {
     "name": "stdout",
     "output_type": "stream",
     "text": [
      "0.570621468927 0.000896995\n"
     ]
    }
   ],
   "source": []
  },
  {
   "cell_type": "code",
   "execution_count": null,
   "metadata": {
    "collapsed": true
   },
   "outputs": [],
   "source": []
  },
  {
   "cell_type": "code",
   "execution_count": null,
   "metadata": {
    "collapsed": true
   },
   "outputs": [],
   "source": [
    "# On the validation set: 1K is about 3x it's size (not true for all classes...)\n",
    "# So this makes it fair when we used in\n",
    "# other methods 3x boost. Also Wu-et.al has seen the test/val data which makes it better for them. \n",
    "# Thus i suggest to report the average here too."
   ]
  },
  {
   "cell_type": "code",
   "execution_count": null,
   "metadata": {
    "collapsed": true
   },
   "outputs": [],
   "source": [
    "# Load ALL Wu Data, compute grid variable.\n",
    "wu_data = np.load(osp.join(top_in_data, class_name + '.npz'))\n",
    "wu_data = pc_normalizer(wu_data[wu_data.keys()[0]])\n",
    "assert(wu_data.shape[1] == n_pc_samples)\n",
    "\n",
    "if do_jsd:\n",
    "    _, wu_grid_var = entropy_of_occupancy_grid(wu_data, voxel_resolution, in_sphere=cmp_in_sphere)\n",
    "    if use_uniform_prior:\n",
    "        wu_grid_var += 1\n",
    "\n",
    "# Load Ground-Truth Train Data (All data of the class.)\n",
    "top_gt_dir = '/orions4-zfs/projects/optas/DATA/OUT/iclr/evaluations/gt_data/'\n",
    "\n",
    "all_class_data = []\n",
    "for split in ['train', 'test', 'val']:\n",
    "    gt_file = osp.join(top_gt_dir, class_name + '_' + split + '.npz')\n",
    "    gt_data = np.load(gt_file)\n",
    "    gt_data = pc_normalizer(gt_data[gt_data.keys()[0]])\n",
    "    all_class_data.append(gt_data)\n",
    "\n",
    "all_class_data = np.vstack(all_class_data)        "
   ]
  }
 ],
 "metadata": {
  "kernelspec": {
   "display_name": "TensorFlow1",
   "language": "python",
   "name": "tf1"
  },
  "language_info": {
   "codemirror_mode": {
    "name": "ipython",
    "version": 2
   },
   "file_extension": ".py",
   "mimetype": "text/x-python",
   "name": "python",
   "nbconvert_exporter": "python",
   "pygments_lexer": "ipython2",
   "version": "2.7.6"
  }
 },
 "nbformat": 4,
 "nbformat_minor": 2
}
