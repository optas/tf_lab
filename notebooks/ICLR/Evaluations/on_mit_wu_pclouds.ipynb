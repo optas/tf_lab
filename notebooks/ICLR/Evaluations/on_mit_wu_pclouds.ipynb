{
 "cells": [
  {
   "cell_type": "code",
   "execution_count": 1,
   "metadata": {
    "collapsed": false
   },
   "outputs": [
    {
     "name": "stdout",
     "output_type": "stream",
     "text": [
      "Picking GPU 3\n"
     ]
    }
   ],
   "source": [
    "from general_tools.notebook.gpu_utils import setup_one_gpu\n",
    "GPU = 3\n",
    "setup_one_gpu(GPU)"
   ]
  },
  {
   "cell_type": "code",
   "execution_count": 2,
   "metadata": {
    "collapsed": false
   },
   "outputs": [],
   "source": [
    "import numpy as np\n",
    "import os.path as osp\n",
    "\n",
    "from geo_tool import Point_Cloud\n",
    "\n",
    "from tf_lab.nips.helper import pclouds_centered_and_half_sphere, center_pclouds_in_unit_sphere\n",
    "from tf_lab.iclr.helper import load_multiple_version_of_pcs\n",
    "from tf_lab.data_sets.shape_net import snc_category_to_synth_id\n",
    "\n",
    "from tf_lab.evaluate.generative_pc_nets import entropy_of_occupancy_grid, jensen_shannon_divergence, minimum_mathing_distance"
   ]
  },
  {
   "cell_type": "code",
   "execution_count": 3,
   "metadata": {
    "collapsed": false
   },
   "outputs": [],
   "source": [
    "%load_ext autoreload\n",
    "%matplotlib inline\n",
    "%autoreload 2"
   ]
  },
  {
   "cell_type": "code",
   "execution_count": 4,
   "metadata": {
    "collapsed": false
   },
   "outputs": [],
   "source": [
    "# Parameters\n",
    "class_name = 'chair'\n",
    "n_pc_samples = 2048\n",
    "do_mmd = False\n",
    "do_jsd = True\n",
    "\n",
    "# For JSD\n",
    "cmp_in_sphere = True\n",
    "voxel_resolution = 28\n",
    "use_uniform_prior = False\n",
    "\n",
    "# For MMD\n",
    "reduce_gt = 1000\n",
    "batch_size = 1000\n",
    "\n",
    "def identity(x):\n",
    "    return x\n",
    "\n",
    "if do_mmd:    \n",
    "    pc_normalizer = identity\n",
    "#     pclouds_with_zero_mean_in_unit_sphere\n",
    "elif do_jsd:\n",
    "    pc_normalizer = identity\n",
    "    pc_normalizer = pclouds_centered_and_half_sphere\n",
    "    pc_normalizer = center_pclouds_in_unit_sphere"
   ]
  },
  {
   "cell_type": "code",
   "execution_count": 5,
   "metadata": {
    "collapsed": false
   },
   "outputs": [],
   "source": [
    "# Load Wu Data, compute grid variable.\n",
    "top_in_data = '/orions4-zfs/projects/optas/DATA/OUT/iclr/synthetic_samples/mit_wu_isosurface_extracted/'\n",
    "wu_data = np.load(osp.join(top_in_data, class_name + '.npz'))\n",
    "wu_data = pc_normalizer(wu_data[wu_data.keys()[0]])\n",
    "assert(wu_data.shape[1] == n_pc_samples)\n",
    "\n",
    "if do_jsd:\n",
    "    _, wu_grid_var = entropy_of_occupancy_grid(wu_data, voxel_resolution, in_sphere=cmp_in_sphere)\n",
    "    if use_uniform_prior:\n",
    "        wu_grid_var += 1"
   ]
  },
  {
   "cell_type": "code",
   "execution_count": 6,
   "metadata": {
    "collapsed": false
   },
   "outputs": [],
   "source": [
    "# Load Ground-Truth Train Data (All data af the class.)\n",
    "top_gt_dir = '/orions4-zfs/projects/optas/DATA/OUT/iclr/evaluations/gt_data/'\n",
    "\n",
    "all_class_data = []\n",
    "for split in ['train', 'test', 'val']:\n",
    "    gt_file = osp.join(top_gt_dir, class_name + '_' + split + '.npz')\n",
    "    gt_data = np.load(gt_file)  \n",
    "    gt_data = pc_normalizer(gt_data[gt_data.keys()[0]])\n",
    "    all_class_data.append(gt_data)\n",
    "\n",
    "all_class_data = np.vstack(all_class_data)"
   ]
  },
  {
   "cell_type": "code",
   "execution_count": 7,
   "metadata": {
    "collapsed": false
   },
   "outputs": [
    {
     "name": "stdout",
     "output_type": "stream",
     "text": [
      "0.170516077381\n"
     ]
    }
   ],
   "source": [
    "jsd_samples = []\n",
    "n_samples = 5\n",
    "for _ in range(n_samples):\n",
    "    n_wu = len(wu_data)\n",
    "    gt_cmp_data = all_class_data[np.random.choice(np.arange(len(all_class_data)), n_wu)]\n",
    "    if do_jsd:\n",
    "        _, gt_grid_var = entropy_of_occupancy_grid(gt_cmp_data, voxel_resolution, in_sphere=cmp_in_sphere)\n",
    "        if use_uniform_prior:\n",
    "            gt_grid_var += 1\n",
    "        res = jensen_shannon_divergence(wu_grid_var, gt_grid_var)\n",
    "    jsd_samples.append(res)\n",
    "print np.mean(jsd_samples)"
   ]
  },
  {
   "cell_type": "code",
   "execution_count": 15,
   "metadata": {
    "collapsed": false
   },
   "outputs": [
    {
     "name": "stdout",
     "output_type": "stream",
     "text": [
      "0\n",
      "50\n",
      "100\n",
      "150\n",
      "200\n",
      "250\n",
      "300\n",
      "350\n",
      "400\n",
      "450\n",
      "500\n",
      "550\n",
      "600\n",
      "650\n",
      "700\n",
      "750\n",
      "800\n",
      "850\n",
      "900\n",
      "950\n",
      "0.204231\n"
     ]
    }
   ],
   "source": [
    "if do_mmd:\n",
    "    if reduce_gt is not None:\n",
    "        gt_cmp_data = gt_cmp_data[:reduce_gt]            \n",
    "    res = minimum_mathing_distance(wu_data[:len(gt_cmp_data)], gt_cmp_data, batch_size, normalize=True, \n",
    "                                   verbose=True, use_sqrt=True)[0]\n",
    "    print res"
   ]
  }
 ],
 "metadata": {
  "kernelspec": {
   "display_name": "Python 2",
   "language": "python",
   "name": "python2"
  },
  "language_info": {
   "codemirror_mode": {
    "name": "ipython",
    "version": 2
   },
   "file_extension": ".py",
   "mimetype": "text/x-python",
   "name": "python",
   "nbconvert_exporter": "python",
   "pygments_lexer": "ipython2",
   "version": "2.7.6"
  }
 },
 "nbformat": 4,
 "nbformat_minor": 2
}
