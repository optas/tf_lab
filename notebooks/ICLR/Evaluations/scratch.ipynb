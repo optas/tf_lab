{
 "cells": [
  {
   "cell_type": "code",
   "execution_count": 1,
   "metadata": {
    "collapsed": true,
    "deletable": true,
    "editable": true
   },
   "outputs": [],
   "source": [
    "import tensorflow as tf\n",
    "import numpy as np\n",
    "import warnings\n",
    "import os.path as osp\n",
    "import time\n",
    "\n",
    "from scipy.stats import entropy\n",
    "from general_tools.simpletons import iterate_in_chunks\n",
    "\n",
    "from tf_lab.external.Chamfer_EMD_losses.tf_nndistance import nn_distance\n",
    "from tf_lab.external.Chamfer_EMD_losses.tf_approxmatch import approx_match, match_cost\n",
    "\n",
    "import time"
   ]
  },
  {
   "cell_type": "code",
   "execution_count": null,
   "metadata": {
    "collapsed": true,
    "deletable": true,
    "editable": true
   },
   "outputs": [],
   "source": []
  },
  {
   "cell_type": "code",
   "execution_count": null,
   "metadata": {
    "collapsed": true,
    "deletable": true,
    "editable": true
   },
   "outputs": [],
   "source": [
    "l_h = np.load('l_emd_hist_test.npz')\n",
    "l_h = l_h[l_h.keys()[0]]\n",
    "\n",
    "\n",
    "r_h = np.array(all_d['test'])\n",
    "\n",
    "\n",
    "bins = np.linspace(-0.000001, np.max([r_h, l_h]), 100)               \n",
    "\n",
    "plt.hist(r_h, bins, alpha=0.5, label='raw')\n",
    "plt.hist(l_h, bins, alpha=0.5, label='l_emd')\n",
    "plt.legend(loc='upper right')\n",
    "\n"
   ]
  }
 ],
 "metadata": {
  "kernelspec": {
   "display_name": "Python 2",
   "language": "python",
   "name": "python2"
  },
  "language_info": {
   "codemirror_mode": {
    "name": "ipython",
    "version": 2
   },
   "file_extension": ".py",
   "mimetype": "text/x-python",
   "name": "python",
   "nbconvert_exporter": "python",
   "pygments_lexer": "ipython2",
   "version": "2.7.6"
  }
 },
 "nbformat": 4,
 "nbformat_minor": 2
}
