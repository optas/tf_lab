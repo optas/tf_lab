{
 "cells": [
  {
   "cell_type": "code",
   "execution_count": 1,
   "metadata": {
    "collapsed": false,
    "deletable": true,
    "editable": true
   },
   "outputs": [
    {
     "name": "stdout",
     "output_type": "stream",
     "text": [
      "Picking GPU 0\n"
     ]
    }
   ],
   "source": [
    "from general_tools.notebook.gpu_utils import setup_one_gpu\n",
    "GPU = 0\n",
    "setup_one_gpu(GPU)"
   ]
  },
  {
   "cell_type": "code",
   "execution_count": 2,
   "metadata": {
    "collapsed": false,
    "deletable": true,
    "editable": true
   },
   "outputs": [],
   "source": [
    "import sys\n",
    "import numpy as np\n",
    "import os.path as osp\n",
    "from tf_lab.iclr.evaluator import Evaluator\n",
    "from general_tools.in_out.basics import files_in_subdirs\n",
    "from tf_lab.iclr.helper import stored_synthetic_samples, top_evaluation_dir"
   ]
  },
  {
   "cell_type": "code",
   "execution_count": 3,
   "metadata": {
    "collapsed": false,
    "deletable": true,
    "editable": true
   },
   "outputs": [],
   "source": [
    "%load_ext autoreload\n",
    "%autoreload 2\n",
    "%matplotlib inline"
   ]
  },
  {
   "cell_type": "code",
   "execution_count": 4,
   "metadata": {
    "collapsed": false,
    "deletable": true,
    "editable": true
   },
   "outputs": [],
   "source": [
    "do_jsd = False\n",
    "top_out_dir = top_evaluation_dir\n",
    "boost_samples = 3\n",
    "special_tag = ''\n",
    "skip = ['test']"
   ]
  },
  {
   "cell_type": "code",
   "execution_count": 5,
   "metadata": {
    "collapsed": true,
    "deletable": true,
    "editable": true
   },
   "outputs": [],
   "source": [
    "top_syn_dir = '/orions4-zfs/projects/optas/DATA/OUT/iclr/synthetic_samples/'"
   ]
  },
  {
   "cell_type": "code",
   "execution_count": 6,
   "metadata": {
    "collapsed": true,
    "deletable": true,
    "editable": true
   },
   "outputs": [],
   "source": [
    "# all_classes = ['airplane', 'car', 'table', 'sofa', 'rifle']\n",
    "all_classes = ['chair']\n",
    "best_model = {'gmm': 'bneck_128_full_32_gaussians', 'l_w_gan': 2000}\n",
    "generators_zoo = ['l_w_gan']"
   ]
  },
  {
   "cell_type": "code",
   "execution_count": 7,
   "metadata": {
    "collapsed": true,
    "deletable": true,
    "editable": true
   },
   "outputs": [],
   "source": [
    "gan_tag = '_mlp_with_split_1pc_usampled_bnorm_on_encoder_only_emd_bneck_128_lgan_arch'"
   ]
  },
  {
   "cell_type": "code",
   "execution_count": 8,
   "metadata": {
    "collapsed": true,
    "deletable": true,
    "editable": true
   },
   "outputs": [],
   "source": [
    "do_mmd = True"
   ]
  },
  {
   "cell_type": "code",
   "execution_count": 9,
   "metadata": {
    "collapsed": false,
    "deletable": true,
    "editable": true
   },
   "outputs": [
    {
     "name": "stdout",
     "output_type": "stream",
     "text": [
      "chair\n",
      "l_w_gan\n",
      "epoch_2000\n",
      "train 0.00151506 0.000889103\n",
      "val 0.00197032 0.00108394\n"
     ]
    }
   ],
   "source": [
    "for class_name in all_classes:    \n",
    "    print class_name\n",
    "    evaluator = Evaluator(class_name)\n",
    "    evaluator.load_gt_data()\n",
    "    if do_jsd:\n",
    "        evaluator.prepare_gt_grid_variables()    \n",
    "    for generator_name in generators_zoo:\n",
    "        print generator_name\n",
    "        sample_files = []\n",
    "        if 'gan' in generator_name:\n",
    "            top_sample_dir = osp.join(top_syn_dir, generator_name, generator_name + '_' + class_name + gan_tag)\n",
    "            epoch = best_model[generator_name]\n",
    "            sample_files.append(osp.join(top_sample_dir, 'epoch_%d.npz' % (epoch,) ))            \n",
    "        elif 'gmm' in generator_name:\n",
    "            gaussian_type = best_model[generator_name]\n",
    "            sample_files.append(osp.join(top_syn_dir, 'gmm', 'gmm_emd_'+  class_name, gaussian_type + '.npz'))\n",
    "        else:\n",
    "            assert False\n",
    "\n",
    "        for sample_file in sample_files:\n",
    "            evaluator.prepare_sample_data(sample_file, boost_samples)\n",
    "            sample_name = osp.basename(sample_file)[:-len('.npz')]\n",
    "            print sample_name\n",
    "        \n",
    "        if do_jsd:\n",
    "            evaluator.compute_jsd(skip=skip)\n",
    "        if do_mmd:\n",
    "            evaluator.compute_mmd(loss='chamfer', sample_estimator=False, n_samples=None, \n",
    "                              ref_pop_size=None, sample_pop_size=None, skip=skip)\n",
    "\n"
   ]
  }
 ],
 "metadata": {
  "kernelspec": {
   "display_name": "Python 2",
   "language": "python",
   "name": "python2"
  },
  "language_info": {
   "codemirror_mode": {
    "name": "ipython",
    "version": 2
   },
   "file_extension": ".py",
   "mimetype": "text/x-python",
   "name": "python",
   "nbconvert_exporter": "python",
   "pygments_lexer": "ipython2",
   "version": "2.7.6"
  }
 },
 "nbformat": 4,
 "nbformat_minor": 2
}
