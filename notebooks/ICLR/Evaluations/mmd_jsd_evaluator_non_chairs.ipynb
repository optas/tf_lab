{
 "cells": [
  {
   "cell_type": "code",
   "execution_count": 1,
   "metadata": {
    "collapsed": false,
    "deletable": true,
    "editable": true
   },
   "outputs": [
    {
     "name": "stdout",
     "output_type": "stream",
     "text": [
      "Picking GPU 1\n"
     ]
    }
   ],
   "source": [
    "from general_tools.notebook.gpu_utils import setup_one_gpu\n",
    "GPU = 1\n",
    "setup_one_gpu(GPU)"
   ]
  },
  {
   "cell_type": "code",
   "execution_count": 2,
   "metadata": {
    "collapsed": false,
    "deletable": true,
    "editable": true
   },
   "outputs": [],
   "source": [
    "import sys\n",
    "import numpy as np\n",
    "import os.path as osp\n",
    "from tf_lab.iclr.evaluator import Evaluator\n",
    "from general_tools.in_out.basics import files_in_subdirs\n",
    "from tf_lab.iclr.helper import stored_synthetic_samples, top_evaluation_dir"
   ]
  },
  {
   "cell_type": "code",
   "execution_count": 3,
   "metadata": {
    "collapsed": false,
    "deletable": true,
    "editable": true
   },
   "outputs": [],
   "source": [
    "%load_ext autoreload\n",
    "%autoreload 2\n",
    "%matplotlib inline"
   ]
  },
  {
   "cell_type": "code",
   "execution_count": 16,
   "metadata": {
    "collapsed": false,
    "deletable": true,
    "editable": true
   },
   "outputs": [],
   "source": [
    "do_jsd = False\n",
    "top_out_dir = top_evaluation_dir\n",
    "boost_samples = 3\n",
    "special_tag = ''\n",
    "skip = ['test', 'train']"
   ]
  },
  {
   "cell_type": "code",
   "execution_count": 15,
   "metadata": {
    "collapsed": true,
    "deletable": true,
    "editable": true
   },
   "outputs": [],
   "source": [
    "top_syn_dir = '/orions4-zfs/projects/optas/DATA/OUT/iclr/synthetic_samples/'"
   ]
  },
  {
   "cell_type": "code",
   "execution_count": 17,
   "metadata": {
    "collapsed": true,
    "deletable": true,
    "editable": true
   },
   "outputs": [],
   "source": [
    "all_classes = ['airplane', 'car', 'table', 'sofa', 'rifle']\n",
    "# all_classes = ['chair']\n",
    "best_model = {'gmm': 'bneck_128_full_32_gaussians', 'l_w_gan': 2000}\n",
    "generators_zoo = ['gmm']"
   ]
  },
  {
   "cell_type": "code",
   "execution_count": 7,
   "metadata": {
    "collapsed": true,
    "deletable": true,
    "editable": true
   },
   "outputs": [],
   "source": [
    "gan_tag = '_mlp_with_split_1pc_usampled_bnorm_on_encoder_only_emd_bneck_128_lgan_arch'"
   ]
  },
  {
   "cell_type": "code",
   "execution_count": 28,
   "metadata": {
    "collapsed": true,
    "deletable": true,
    "editable": true
   },
   "outputs": [],
   "source": [
    "do_cov = True\n",
    "do_mmd = True\n",
    "do_jsd = False\n",
    "n_reps = 3\n",
    "mmd_loss = 'emd'\n",
    "sample_metrics = False"
   ]
  },
  {
   "cell_type": "code",
   "execution_count": 29,
   "metadata": {
    "collapsed": false,
    "deletable": true,
    "editable": true
   },
   "outputs": [
    {
     "name": "stdout",
     "output_type": "stream",
     "text": [
      "airplane\n",
      "gmm\n",
      "bneck_128_full_32_gaussians\n",
      "val 79.4629 34.5885\n",
      "val 0.70297029703 0.0\n",
      "gmm\n",
      "bneck_128_full_32_gaussians\n",
      "val 78.8543 35.0475\n",
      "val 0.69801980198 0.0\n",
      "gmm\n",
      "bneck_128_full_32_gaussians\n",
      "val 79.505 35.4845\n",
      "val 0.688118811881 0.0\n",
      "\n",
      "79.2740910848\n",
      "0.696369636964\n",
      "\n",
      "car\n",
      "gmm\n",
      "bneck_128_full_32_gaussians\n",
      "val 85.4422 20.0956\n",
      "val 0.668449197861 0.0\n",
      "gmm\n",
      "bneck_128_full_32_gaussians\n",
      "val 85.9136 20.7015\n",
      "val 0.652406417112 0.0\n",
      "gmm\n",
      "bneck_128_full_32_gaussians\n",
      "val 85.4884 20.4026\n",
      "val 0.639037433155 0.0\n",
      "\n",
      "85.6147537231\n",
      "0.653297682709\n",
      "\n",
      "table\n",
      "gmm\n",
      "bneck_128_full_32_gaussians\n",
      "val 126.672 36.5819\n",
      "val 0.701176470588 0.0\n",
      "gmm\n",
      "bneck_128_full_32_gaussians\n",
      "val 125.508 36.2578\n",
      "val 0.734117647059 0.0\n",
      "gmm\n",
      "bneck_128_full_32_gaussians\n",
      "val 126.146 36.3695\n",
      "val 0.698823529412 0.0\n",
      "\n",
      "126.109006246\n",
      "0.71137254902\n",
      "\n",
      "sofa\n",
      "gmm\n",
      "bneck_128_full_32_gaussians\n",
      "val 113.864 31.116\n",
      "val 0.677215189873 0.0\n",
      "gmm\n",
      "bneck_128_full_32_gaussians\n",
      "val 113.367 31.8648\n",
      "val 0.645569620253 0.0\n",
      "gmm\n",
      "bneck_128_full_32_gaussians\n",
      "val 113.199 28.9478\n",
      "val 0.677215189873 0.0\n",
      "\n",
      "113.476516724\n",
      "0.666666666667\n",
      "\n",
      "rifle\n",
      "gmm\n",
      "bneck_128_full_32_gaussians\n",
      "val 93.442 27.507\n",
      "val 0.737288135593 0.0\n",
      "gmm\n",
      "bneck_128_full_32_gaussians\n",
      "val 94.5904 28.7499\n",
      "val 0.762711864407 0.0\n",
      "gmm\n",
      "bneck_128_full_32_gaussians\n",
      "val 94.4225 29.4667\n",
      "val 0.745762711864 0.0\n",
      "\n",
      "94.1516443888\n",
      "0.748587570621\n",
      "\n"
     ]
    }
   ],
   "source": [
    "for class_name in all_classes:    \n",
    "    print class_name\n",
    "    \n",
    "    evaluator = Evaluator(class_name)\n",
    "    evaluator.load_gt_data()\n",
    "    \n",
    "    if do_jsd:\n",
    "        evaluator.prepare_gt_grid_variables()    \n",
    "        \n",
    "    for generator_name in generators_zoo:\n",
    "        jsd_scores = []\n",
    "        mmd_scores = []\n",
    "        cov_scores = []\n",
    "        \n",
    "        sample_files = []\n",
    "        if 'gan' in generator_name:\n",
    "            top_sample_dir = osp.join(top_syn_dir, generator_name, generator_name + '_' + class_name + gan_tag)\n",
    "            epoch = best_model[generator_name]\n",
    "            sample_files.append(osp.join(top_sample_dir, 'epoch_%d.npz' % (epoch,) ))\n",
    "        elif 'gmm' in generator_name:\n",
    "            gaussian_type = best_model[generator_name]\n",
    "            sample_files.append(osp.join(top_syn_dir, 'gmm', 'gmm_emd_'+  class_name, gaussian_type + '.npz'))\n",
    "        else:\n",
    "            assert False\n",
    "        \n",
    "        for _ in range(n_reps):\n",
    "            print generator_name            \n",
    "            \n",
    "            for sample_file in sample_files:\n",
    "                evaluator.prepare_sample_data(sample_file, boost_samples)\n",
    "                sample_name = osp.basename(sample_file)[:-len('.npz')]\n",
    "                print sample_name\n",
    "\n",
    "            if do_mmd:        \n",
    "                score = evaluator.compute_mmd(loss=mmd_loss, sample_estimator=sample_metrics, skip=skip)\n",
    "                mmd_scores.append(score)\n",
    "\n",
    "            if do_cov:\n",
    "                score = evaluator.compute_coverage(loss=mmd_loss, sample_estimator=sample_metrics, skip=skip)\n",
    "                cov_scores.append(score)\n",
    "            \n",
    "        print  \n",
    "        for score_type in [mmd_scores, cov_scores]:\n",
    "            if len(score_type) > 0:\n",
    "                total = 0.0\n",
    "                for s in score_type:\n",
    "                    total += np.mean(s['val'])\n",
    "                print total / len(score_type)\n",
    "        print"
   ]
  }
 ],
 "metadata": {
  "kernelspec": {
   "display_name": "TensorFlow1",
   "language": "python",
   "name": "tf1"
  },
  "language_info": {
   "codemirror_mode": {
    "name": "ipython",
    "version": 2
   },
   "file_extension": ".py",
   "mimetype": "text/x-python",
   "name": "python",
   "nbconvert_exporter": "python",
   "pygments_lexer": "ipython2",
   "version": "2.7.12"
  }
 },
 "nbformat": 4,
 "nbformat_minor": 2
}
