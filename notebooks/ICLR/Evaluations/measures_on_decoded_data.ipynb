{
 "cells": [
  {
   "cell_type": "code",
   "execution_count": 1,
   "metadata": {
    "collapsed": false
   },
   "outputs": [
    {
     "name": "stdout",
     "output_type": "stream",
     "text": [
      "Picking GPU 2\n"
     ]
    }
   ],
   "source": [
    "from general_tools.notebook.gpu_utils import setup_one_gpu\n",
    "GPU = 2\n",
    "setup_one_gpu(GPU)"
   ]
  },
  {
   "cell_type": "code",
   "execution_count": 1,
   "metadata": {
    "collapsed": true
   },
   "outputs": [],
   "source": [
    "import sys\n",
    "import numpy as np\n",
    "import os.path as osp\n",
    "import tensorflow as tf\n",
    "import matplotlib.pyplot as plt\n",
    "\n",
    "from general_tools.notebook.tf import reset_tf_graph\n",
    "from general_tools.in_out import create_dir\n",
    "\n",
    "from geo_tool import Point_Cloud\n",
    "\n",
    "from tf_lab.point_clouds.ae_templates import mlp_architecture_ala_iclr_18, default_train_params\n",
    "from tf_lab.point_clouds.autoencoder import Configuration as Conf\n",
    "from tf_lab.point_clouds.point_net_ae import PointNetAutoEncoder\n",
    "from tf_lab.point_clouds.convenience import reconstruct_pclouds\n",
    "\n",
    "from tf_lab.data_sets.shape_net import snc_category_to_synth_id\n",
    "from tf_lab.iclr.helper import load_multiple_version_of_pcs, find_best_validation_epoch_from_train_stats\n",
    "from tf_lab.evaluate.generative_pc_nets import entropy_of_occupancy_grid, jensen_shannon_divergence, minimum_mathing_distance"
   ]
  },
  {
   "cell_type": "code",
   "execution_count": 2,
   "metadata": {
    "collapsed": true
   },
   "outputs": [],
   "source": [
    "%load_ext autoreload\n",
    "%autoreload 2\n",
    "%matplotlib inline"
   ]
  },
  {
   "cell_type": "code",
   "execution_count": 3,
   "metadata": {
    "collapsed": false
   },
   "outputs": [],
   "source": [
    "def identity(x):\n",
    "    return x\n",
    "\n",
    "pc_normalizer = identity"
   ]
  },
  {
   "cell_type": "code",
   "execution_count": 4,
   "metadata": {
    "collapsed": false
   },
   "outputs": [
    {
     "name": "stdout",
     "output_type": "stream",
     "text": [
      "Give me the class type: chair\n"
     ]
    }
   ],
   "source": [
    "top_data_dir = '/orions4-zfs/projects/optas/DATA/'\n",
    "experiment_tag =  'mlp_with_split_1pc_usampled_bnorm_on_encoder_only'\n",
    "n_pc_points = 2048\n",
    "random_seed = 42\n",
    "ae_loss = 'chamfer'\n",
    "class_name = raw_input('Give me the class type: ').lower()\n",
    "syn_id = snc_category_to_synth_id()[class_name]\n",
    "b_neck = 128\n",
    "voxel_resolution = 28\n",
    "cmp_in_sphere = True"
   ]
  },
  {
   "cell_type": "code",
   "execution_count": 5,
   "metadata": {
    "collapsed": false
   },
   "outputs": [
    {
     "name": "stdout",
     "output_type": "stream",
     "text": [
      "Loading test data.\n",
      "/orions4-zfs/projects/optas/DATA/Point_Clouds/Shape_Net/Splits/single_class_splits/03001627/85_5_10/test.txt\n",
      "679 pclouds were loaded. They belong in 1 shape-classes.\n",
      "Loading train data.\n",
      "/orions4-zfs/projects/optas/DATA/Point_Clouds/Shape_Net/Splits/single_class_splits/03001627/85_5_10/train.txt\n",
      "5761 pclouds were loaded. They belong in 1 shape-classes.\n",
      "Loading val data.\n",
      "/orions4-zfs/projects/optas/DATA/Point_Clouds/Shape_Net/Splits/single_class_splits/03001627/85_5_10/val.txt\n",
      "338 pclouds were loaded. They belong in 1 shape-classes.\n"
     ]
    }
   ],
   "source": [
    "# Prepare GT for JSD comparisons\n",
    "in_data = load_multiple_version_of_pcs('uniform_one', syn_id, n_classes=1)\n",
    "\n",
    "tr_pc = in_data['train'].point_clouds\n",
    "te_pc = in_data['test'].point_clouds\n",
    "va_pc = in_data['val'].point_clouds\n",
    "\n",
    "train_data = pc_normalizer(tr_pc)\n",
    "test_data = pc_normalizer(te_pc) \n",
    "val_data = pc_normalizer(va_pc)"
   ]
  },
  {
   "cell_type": "code",
   "execution_count": 7,
   "metadata": {
    "collapsed": true
   },
   "outputs": [],
   "source": [
    "_, train_grid_var = entropy_of_occupancy_grid(train_data, voxel_resolution, in_sphere=cmp_in_sphere)\n",
    "_, test_grid_var = entropy_of_occupancy_grid(test_data, voxel_resolution, in_sphere=cmp_in_sphere)\n",
    "_, val_grid_var = entropy_of_occupancy_grid(val_data, voxel_resolution, in_sphere=cmp_in_sphere)\n",
    "\n",
    "def jsd_on_reconstructed_data(ae_model, pclouds, cmp_grid_var, voxel_resolution, cmp_in_sphere):\n",
    "    recon, _ = reconstruct_pclouds(ae_model, pclouds, batch_size=100)\n",
    "    recon = pc_normalizer(recon)\n",
    "    _, recon_grid_var = entropy_of_occupancy_grid(recon, voxel_resolution, in_sphere=cmp_in_sphere)\n",
    "    return jensen_shannon_divergence(recon_grid_var, cmp_grid_var)"
   ]
  },
  {
   "cell_type": "code",
   "execution_count": 6,
   "metadata": {
    "collapsed": false
   },
   "outputs": [
    {
     "name": "stdout",
     "output_type": "stream",
     "text": [
      "Model restored in epoch 500.\n"
     ]
    }
   ],
   "source": [
    "experiment_id = '_'.join(['ae', class_name, experiment_tag, str(n_pc_points), 'pts', str(b_neck), 'bneck', ae_loss])\n",
    "train_dir = osp.join(top_data_dir, 'OUT/iclr/nn_models/', experiment_id)\n",
    "conf = Conf.load(osp.join(train_dir, 'configuration'))    \n",
    "val_error, best_epoch = find_best_validation_epoch_from_train_stats(osp.join(train_dir, 'train_stats.txt'))    \n",
    "if best_epoch % conf.saver_step != 0: # Model was not saved at that epoch: use next bigger epoch.\n",
    "    epoch_to_load = best_epoch + (best_epoch % conf.saver_step)\n",
    "else:\n",
    "    epoch_to_load = best_epoch    \n",
    "conf.encoder_args['verbose'] = False\n",
    "conf.decoder_args['verbose'] = False    \n",
    "reset_tf_graph()\n",
    "ae = PointNetAutoEncoder(conf.experiment_name, conf)    \n",
    "ae.restore_model(conf.train_dir, epoch_to_load, verbose=True)"
   ]
  },
  {
   "cell_type": "code",
   "execution_count": 30,
   "metadata": {
    "collapsed": false
   },
   "outputs": [],
   "source": [
    "j1 = jsd_on_reconstructed_data(ae, tr_pc, train_grid_var, voxel_resolution, cmp_in_sphere)\n",
    "j2 = jsd_on_reconstructed_data(ae, va_pc, train_grid_var, voxel_resolution, cmp_in_sphere)\n",
    "j3 = jsd_on_reconstructed_data(ae, te_pc, train_grid_var, voxel_resolution, cmp_in_sphere)"
   ]
  },
  {
   "cell_type": "code",
   "execution_count": 31,
   "metadata": {
    "collapsed": false
   },
   "outputs": [
    {
     "name": "stdout",
     "output_type": "stream",
     "text": [
      "0.0216779896205 0.0305057765861 0.0256130541121\n"
     ]
    }
   ],
   "source": [
    "print j1, j2, j3"
   ]
  },
  {
   "cell_type": "code",
   "execution_count": 7,
   "metadata": {
    "collapsed": true
   },
   "outputs": [],
   "source": [
    "def sampling_mmd(sample_data, ref_data, n_samples=10, batch_size=100, emd=True):\n",
    "    ids = np.arange(len(ref_data))\n",
    "    scores = []\n",
    "    for i in range(n_samples):\n",
    "        print i\n",
    "        sb = np.random.choice(ids, batch_size, replace=False)        \n",
    "        mi = minimum_mathing_distance(sample_data[sb], ref_data[sb], batch_size, normalize=True, use_sqrt=True, use_EMD=emd)\n",
    "        scores.append(mi[0])\n",
    "    scores = np.array(scores)\n",
    "    return scores"
   ]
  },
  {
   "cell_type": "code",
   "execution_count": 8,
   "metadata": {
    "collapsed": false
   },
   "outputs": [],
   "source": [
    "recon, _ = reconstruct_pclouds(ae, tr_pc, 100)"
   ]
  },
  {
   "cell_type": "code",
   "execution_count": 9,
   "metadata": {
    "collapsed": false
   },
   "outputs": [
    {
     "name": "stdout",
     "output_type": "stream",
     "text": [
      "0\n",
      "1\n",
      "2\n",
      "3\n",
      "4\n",
      "5\n",
      "6\n",
      "7\n",
      "8\n",
      "9\n",
      "0.0258957 0.000257555\n"
     ]
    }
   ],
   "source": [
    "s = sampling_mmd(recon, tr_pc, emd=False)\n",
    "print np.mean(s), np.std(s)"
   ]
  },
  {
   "cell_type": "code",
   "execution_count": 13,
   "metadata": {
    "collapsed": false
   },
   "outputs": [
    {
     "name": "stdout",
     "output_type": "stream",
     "text": [
      "0.0259442\n"
     ]
    }
   ],
   "source": [
    "# mi = minimum_mathing_distance(recon, tr_pc, 6000, normalize=True, use_sqrt=True)[0]\n",
    "print mi"
   ]
  }
 ],
 "metadata": {
  "kernelspec": {
   "display_name": "Python 2",
   "language": "python",
   "name": "python2"
  },
  "language_info": {
   "codemirror_mode": {
    "name": "ipython",
    "version": 2
   },
   "file_extension": ".py",
   "mimetype": "text/x-python",
   "name": "python",
   "nbconvert_exporter": "python",
   "pygments_lexer": "ipython2",
   "version": "2.7.6"
  }
 },
 "nbformat": 4,
 "nbformat_minor": 2
}
