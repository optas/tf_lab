{
 "cells": [
  {
   "cell_type": "code",
   "execution_count": 1,
   "metadata": {
    "collapsed": false
   },
   "outputs": [
    {
     "name": "stdout",
     "output_type": "stream",
     "text": [
      "Picking GPU 0\n"
     ]
    }
   ],
   "source": [
    "from general_tools.notebook.gpu_utils import setup_one_gpu\n",
    "GPU = 0\n",
    "setup_one_gpu(GPU)"
   ]
  },
  {
   "cell_type": "code",
   "execution_count": 2,
   "metadata": {
    "collapsed": false
   },
   "outputs": [],
   "source": [
    "import numpy as np\n",
    "import os.path as osp\n",
    "from evaluator import Evaluator\n",
    "from general_tools.in_out.basics import files_in_subdirs"
   ]
  },
  {
   "cell_type": "code",
   "execution_count": 4,
   "metadata": {
    "collapsed": true
   },
   "outputs": [],
   "source": [
    "class_name = 'chair'\n",
    "# generative_type = 'latent_gan', 'gmm', or 'raw_gan'\n",
    "generative_type = 'raw_gan'\n",
    "do_jsd = False\n",
    "do_mmd = True\n",
    "mmd_loss = 'emd'"
   ]
  },
  {
   "cell_type": "code",
   "execution_count": 5,
   "metadata": {
    "collapsed": true
   },
   "outputs": [],
   "source": [
    "top_sample_dir = '/orions4-zfs/projects/optas/DATA/OUT/iclr/synthetic_samples/r_gan/chair_mlp_disc_4_fc_gen_raw_gan_2048_pts/'"
   ]
  },
  {
   "cell_type": "code",
   "execution_count": 6,
   "metadata": {
    "collapsed": false
   },
   "outputs": [],
   "source": [
    "if do_jsd:\n",
    "    f_jsd = open(osp.join(top_sample_dir, 'JSD_Measurements.txt'), 'w')\n",
    "if do_mmd:\n",
    "    f_mmd = open(osp.join(top_sample_dir, 'MMD_Measurements.txt'), 'w')"
   ]
  },
  {
   "cell_type": "code",
   "execution_count": 7,
   "metadata": {
    "collapsed": false
   },
   "outputs": [],
   "source": [
    "if generative_type == 'latent_gan':\n",
    "    epochs_to_check = np.hstack([np.array([1, 5, 10]), np.arange(100, 2001, 100)])\n",
    "elif generative_type == 'raw_gan':\n",
    "    epochs_to_check = np.hstack([np.array([1, 5, 10]), np.arange(50, 2001, 50)])"
   ]
  },
  {
   "cell_type": "code",
   "execution_count": 8,
   "metadata": {
    "collapsed": false
   },
   "outputs": [],
   "source": [
    "sample_files = []\n",
    "if generative_type.endswith('gan'):    \n",
    "    for epoch in epochs_to_check:\n",
    "        sample_files.append(osp.join(top_sample_dir, 'epoch_%d.npz' % (epoch,) ))\n",
    "elif generative_type.startswith('gmm'):\n",
    "    for f in files_in_subdirs(top_sample_dir, '.npz'):\n",
    "        sample_files.append(f) \n",
    "else:\n",
    "    assert False"
   ]
  },
  {
   "cell_type": "code",
   "execution_count": 9,
   "metadata": {
    "collapsed": false
   },
   "outputs": [],
   "source": [
    "evaluator = Evaluator(class_name)\n",
    "evaluator.load_gt_data()\n",
    "if do_jsd:\n",
    "    evaluator.prepare_gt_grid_variables()"
   ]
  },
  {
   "cell_type": "code",
   "execution_count": null,
   "metadata": {
    "collapsed": false
   },
   "outputs": [],
   "source": [
    "for sample_file in sample_files:    \n",
    "    evaluator.prepare_sample_data(sample_file)\n",
    "    print osp.basename(sample_file)\n",
    "    if do_jsd:\n",
    "        print 'JSD'\n",
    "        f_jsd.write(osp.basename(sample_file) + '\\n')\n",
    "        evaluator.compute_jsd(f_out=f_jsd)\n",
    "        f_jsd.flush()\n",
    "    if do_mmd:\n",
    "        print 'MMD'\n",
    "        f_mmd.write(osp.basename(sample_file) + '\\n')\n",
    "        evaluator.compute_mmd(loss=mmd_loss, f_out=f_mmd)\n",
    "        f_mmd.flush()"
   ]
  },
  {
   "cell_type": "code",
   "execution_count": null,
   "metadata": {
    "collapsed": true
   },
   "outputs": [],
   "source": [
    "if do_jsd:\n",
    "    f_jsd.close()\n",
    "if do_mmd:\n",
    "    f_mmd.close()"
   ]
  }
 ],
 "metadata": {
  "kernelspec": {
   "display_name": "Python 2",
   "language": "python",
   "name": "python2"
  },
  "language_info": {
   "codemirror_mode": {
    "name": "ipython",
    "version": 2
   },
   "file_extension": ".py",
   "mimetype": "text/x-python",
   "name": "python",
   "nbconvert_exporter": "python",
   "pygments_lexer": "ipython2",
   "version": "2.7.6"
  }
 },
 "nbformat": 4,
 "nbformat_minor": 2
}
