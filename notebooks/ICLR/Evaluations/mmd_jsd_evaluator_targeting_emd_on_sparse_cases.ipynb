{
 "cells": [
  {
   "cell_type": "code",
   "execution_count": 1,
   "metadata": {
    "collapsed": false,
    "deletable": true,
    "editable": true
   },
   "outputs": [
    {
     "name": "stdout",
     "output_type": "stream",
     "text": [
      "Picking GPU 1\n"
     ]
    }
   ],
   "source": [
    "from general_tools.notebook.gpu_utils import setup_one_gpu\n",
    "GPU = 1\n",
    "setup_one_gpu(GPU)"
   ]
  },
  {
   "cell_type": "code",
   "execution_count": 2,
   "metadata": {
    "collapsed": false,
    "deletable": true,
    "editable": true
   },
   "outputs": [],
   "source": [
    "import sys\n",
    "import numpy as np\n",
    "import os.path as osp\n",
    "from tf_lab.iclr.evaluator import Evaluator\n",
    "from general_tools.in_out.basics import files_in_subdirs\n",
    "from tf_lab.iclr.helper import stored_synthetic_samples, top_evaluation_dir"
   ]
  },
  {
   "cell_type": "code",
   "execution_count": 3,
   "metadata": {
    "collapsed": false,
    "deletable": true,
    "editable": true
   },
   "outputs": [],
   "source": [
    "%load_ext autoreload\n",
    "%autoreload 2\n",
    "%matplotlib inline"
   ]
  },
  {
   "cell_type": "code",
   "execution_count": 4,
   "metadata": {
    "collapsed": false,
    "deletable": true,
    "editable": true
   },
   "outputs": [],
   "source": [
    "class_name = 'chair'\n",
    "do_mmd = True\n",
    "\n",
    "save_res = True\n",
    "\n",
    "top_out_dir = top_evaluation_dir\n",
    "\n",
    "sample_mmd = False\n",
    "\n",
    "n_samples = 1\n",
    "\n",
    "ref_pop = 100\n",
    "\n",
    "sample_pop = 500\n",
    "\n",
    "mmd_loss = 'emd'\n",
    "\n",
    "special_tag = 'test_emd_mmd_all_gt_boost_3'\n",
    "\n",
    "skip = ['train', 'test']\n",
    "\n",
    "boost_samples = 3"
   ]
  },
  {
   "cell_type": "code",
   "execution_count": 5,
   "metadata": {
    "collapsed": true
   },
   "outputs": [],
   "source": [
    "evaluator = Evaluator(class_name)\n",
    "evaluator.load_gt_data()"
   ]
  },
  {
   "cell_type": "code",
   "execution_count": 6,
   "metadata": {
    "collapsed": true
   },
   "outputs": [],
   "source": [
    "best_models = {'gmm': ['bneck_128_full_32_gaussians', \n",
    "                       'bneck_128_full_34_gaussians',\n",
    "                       'bneck_128_full_38_gaussians',\n",
    "                       'bneck_128_full_40_gaussians'\n",
    "                      ],\n",
    "               'l_w_gan_large': [1700, 1800, 1900, 2000],\n",
    "               'r_gan': [1700, 1800, 1900, 2000],\n",
    "               'l_gan_chamfer': [100,200,300,400],\n",
    "               'l_gan_emd': [100,200,300,400],\n",
    "               'l_w_gan_small': [1700, 1800, 1900, 2000]\n",
    "              }"
   ]
  },
  {
   "cell_type": "code",
   "execution_count": 7,
   "metadata": {
    "collapsed": true
   },
   "outputs": [],
   "source": [
    "generators_zoo = stored_synthetic_samples(class_name).keys()"
   ]
  },
  {
   "cell_type": "code",
   "execution_count": 9,
   "metadata": {
    "collapsed": false
   },
   "outputs": [
    {
     "name": "stdout",
     "output_type": "stream",
     "text": [
      "l_w_gan_large\n",
      "epoch_10\n",
      "val 185.706 56.6985\n",
      "\n",
      "r_gan\n",
      "epoch_10\n",
      "val 299.532 41.2538\n",
      "\n",
      "l_gan_chamfer\n",
      "epoch_10\n",
      "val 193.62 57.4797\n",
      "\n",
      "l_w_gan_small\n",
      "epoch_10\n",
      "val 203.185 56.2191\n",
      "\n",
      "l_gan_emd\n",
      "epoch_10\n",
      "val 183.866 55.0388\n",
      "\n"
     ]
    }
   ],
   "source": [
    "epochs_to_eval = [1, 10, 100, 200, 400, 1000, 1500, 2000]\n",
    "for experiment_name in generators_zoo:\n",
    "    if 'gmm' in experiment_name: \n",
    "        continue\n",
    "\n",
    "    print experiment_name\n",
    "    \n",
    "    top_sample_dir = stored_synthetic_samples(class_name)[experiment_name]\n",
    "    if save_res:\n",
    "        exp_name = osp.basename(top_sample_dir)\n",
    "        f_mmd = open(osp.join(top_out_dir, class_name, 'mmd_' + special_tag + '_' + exp_name + '.txt'), 'w')\n",
    "    else:            \n",
    "        f_mmd = sys.stdout\n",
    "\n",
    "    sample_files = []\n",
    "\n",
    "    for epoch in epochs_to_eval:\n",
    "        sample_files.append(osp.join(top_sample_dir, 'epoch_%d.npz' % (epoch,) ))\n",
    "    \n",
    "    for sample_file in sample_files:\n",
    "        evaluator.prepare_sample_data(sample_file, boost_samples)\n",
    "        sample_name = osp.basename(sample_file)[:-len('.npz')]\n",
    "        print sample_name\n",
    "\n",
    "        f_mmd.write(sample_name + '\\n')\n",
    "\n",
    "        evaluator.compute_mmd(loss=mmd_loss, sample_estimator=sample_mmd, n_samples=n_samples, \n",
    "                          ref_pop_size=ref_pop, sample_pop_size=sample_pop,\n",
    "                          f_out=f_mmd, skip=skip)\n",
    "        \n",
    "        f_mmd.flush()\n",
    "    print\n",
    "    if save_res:\n",
    "        f_mmd.close()"
   ]
  },
  {
   "cell_type": "code",
   "execution_count": 8,
   "metadata": {
    "collapsed": false,
    "deletable": true,
    "editable": true
   },
   "outputs": [
    {
     "name": "stdout",
     "output_type": "stream",
     "text": [
      "l_w_gan_large\n",
      "epoch_1700\n",
      "train 134.518 2.3447\n",
      "val 137.519 2.33123\n",
      "epoch_1800\n",
      "train 133.695 2.3081\n",
      "val 136.843 1.73321\n",
      "epoch_1900\n",
      "train 138.437 1.88252\n",
      "val 134.845 1.04893\n",
      "epoch_2000\n",
      "train 134.465 0.220914\n",
      "val 136.067 1.74778\n",
      "\n",
      "gmm\n",
      "bneck_128_full_32_gaussians\n",
      "train 133.131 1.90576\n",
      "val 137.997 1.67329\n",
      "bneck_128_full_34_gaussians\n",
      "train 134.338 0.238103\n",
      "val 138.717 0.59688\n",
      "bneck_128_full_38_gaussians\n",
      "train 132.457 1.62623\n",
      "val 133.727 3.6899\n",
      "bneck_128_full_40_gaussians\n",
      "train 134.838 2.77159\n",
      "val 137.205 1.36068\n",
      "\n",
      "r_gan\n",
      "epoch_1700\n",
      "train 253.007 1.64227\n",
      "val 250.81 1.63932\n",
      "epoch_1800\n",
      "train 252.875 1.17974\n",
      "val 251.764 0.927074\n",
      "epoch_1900\n",
      "train 255.411 3.36482\n",
      "val 252.374 1.69515\n",
      "epoch_2000\n",
      "train 247.04 1.94329\n",
      "val 247.384 2.9045\n",
      "\n",
      "l_gan_chamfer\n",
      "epoch_100\n",
      "train 167.463 6.88921\n",
      "val 172.177 6.11821\n",
      "epoch_200\n",
      "train 167.761 3.15888\n",
      "val 168.974 2.15308\n",
      "epoch_300\n",
      "train 168.357 3.48345\n",
      "val 163.465 2.17416\n",
      "epoch_400\n",
      "train 167.564 4.42508\n",
      "val 167.005 2.08013\n",
      "\n",
      "l_w_gan_small\n",
      "epoch_1700\n",
      "train 137.818 3.54374\n",
      "val 142.141 2.79479\n",
      "epoch_1800\n",
      "train 135.706 1.50296\n",
      "val 142.454 3.2697\n",
      "epoch_1900\n",
      "train 136.443 2.4212\n",
      "val 141.745 0.682813\n",
      "epoch_2000\n",
      "train 135.053 2.96575\n",
      "val 139.896 1.89282\n",
      "\n",
      "l_gan_emd\n",
      "epoch_100\n",
      "train 144.112 0.590017\n",
      "val 145.138 3.13826\n",
      "epoch_200\n",
      "train 141.178 3.38953\n",
      "val 142.973 4.26328\n",
      "epoch_300\n",
      "train 144.394 0.0914017\n",
      "val 142.473 2.72184\n",
      "epoch_400\n",
      "train 142.339 0.176978\n",
      "val 142.533 3.57794\n",
      "\n"
     ]
    }
   ],
   "source": [
    "for experiment_name in generators_zoo:\n",
    "    print experiment_name\n",
    "    top_sample_dir = stored_synthetic_samples(class_name)[experiment_name]\n",
    "    if save_res:\n",
    "        exp_name = osp.basename(top_sample_dir)\n",
    "        f_mmd = open(osp.join(top_out_dir, class_name, 'mmd_' + special_tag + exp_name + '.txt'), 'w')\n",
    "    else:            \n",
    "        f_mmd = sys.stdout\n",
    "\n",
    "    sample_files = []\n",
    "\n",
    "    if 'gan' in experiment_name:\n",
    "        epochs = best_models[experiment_name]\n",
    "        for epoch in epochs:\n",
    "            sample_files.append(osp.join(top_sample_dir, 'epoch_%d.npz' % (epoch,) ))\n",
    "    elif 'gmm' in experiment_name:\n",
    "        gaussian_types = best_models[experiment_name]\n",
    "        for gaussian_type in gaussian_types:\n",
    "            sample_files.append(osp.join(top_sample_dir, gaussian_type + '.npz'))\n",
    "    else:\n",
    "        assert False\n",
    "    \n",
    "    for sample_file in sample_files:\n",
    "        evaluator.prepare_sample_data(sample_file, boost_samples)\n",
    "        sample_name = osp.basename(sample_file)[:-len('.npz')]\n",
    "        print sample_name\n",
    "\n",
    "        f_mmd.write(sample_name + '\\n')\n",
    "        evaluator.compute_mmd(loss=mmd_loss, sample_estimator=sample_mmd, n_samples=n_samples, \n",
    "                          ref_pop_size=ref_pop, sample_pop_size=sample_pop,\n",
    "                          f_out=f_mmd, skip=skip)\n",
    "\n",
    "    f_mmd.flush()\n",
    "    print\n",
    "    if save_res:\n",
    "        f_mmd.close()"
   ]
  }
 ],
 "metadata": {
  "kernelspec": {
   "display_name": "Python 2",
   "language": "python",
   "name": "python2"
  },
  "language_info": {
   "codemirror_mode": {
    "name": "ipython",
    "version": 2
   },
   "file_extension": ".py",
   "mimetype": "text/x-python",
   "name": "python",
   "nbconvert_exporter": "python",
   "pygments_lexer": "ipython2",
   "version": "2.7.6"
  }
 },
 "nbformat": 4,
 "nbformat_minor": 2
}
