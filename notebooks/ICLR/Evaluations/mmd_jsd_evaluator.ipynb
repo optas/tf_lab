{
 "cells": [
  {
   "cell_type": "code",
   "execution_count": 9,
   "metadata": {
    "collapsed": false
   },
   "outputs": [
    {
     "name": "stdout",
     "output_type": "stream",
     "text": [
      "The history saving thread hit an unexpected error (DatabaseError('database disk image is malformed',)).History will not be written to the database.\n"
     ]
    },
    {
     "ename": "ValueError",
     "evalue": "GPU setup must happen before importing TensorFlow",
     "output_type": "error",
     "traceback": [
      "\u001b[0;31m---------------------------------------------------------------------------\u001b[0m",
      "\u001b[0;31mValueError\u001b[0m                                Traceback (most recent call last)",
      "\u001b[0;32m<ipython-input-9-6a7a6faa6777>\u001b[0m in \u001b[0;36m<module>\u001b[0;34m()\u001b[0m\n\u001b[1;32m      1\u001b[0m \u001b[0;32mfrom\u001b[0m \u001b[0mgeneral_tools\u001b[0m\u001b[0;34m.\u001b[0m\u001b[0mnotebook\u001b[0m\u001b[0;34m.\u001b[0m\u001b[0mgpu_utils\u001b[0m \u001b[0;32mimport\u001b[0m \u001b[0msetup_one_gpu\u001b[0m\u001b[0;34m\u001b[0m\u001b[0m\n\u001b[1;32m      2\u001b[0m \u001b[0mGPU\u001b[0m \u001b[0;34m=\u001b[0m \u001b[0;36m0\u001b[0m\u001b[0;34m\u001b[0m\u001b[0m\n\u001b[0;32m----> 3\u001b[0;31m \u001b[0msetup_one_gpu\u001b[0m\u001b[0;34m(\u001b[0m\u001b[0mGPU\u001b[0m\u001b[0;34m)\u001b[0m\u001b[0;34m\u001b[0m\u001b[0m\n\u001b[0m",
      "\u001b[0;32m/orions4-zfs/projects/optas/Git_Repos/general_tools/notebook/gpu_utils.pyc\u001b[0m in \u001b[0;36msetup_one_gpu\u001b[0;34m(gpu_id)\u001b[0m\n\u001b[1;32m     60\u001b[0m \u001b[0;32mdef\u001b[0m \u001b[0msetup_one_gpu\u001b[0m\u001b[0;34m(\u001b[0m\u001b[0mgpu_id\u001b[0m\u001b[0;34m=\u001b[0m\u001b[0mNone\u001b[0m\u001b[0;34m)\u001b[0m\u001b[0;34m:\u001b[0m\u001b[0;34m\u001b[0m\u001b[0m\n\u001b[1;32m     61\u001b[0m     \u001b[0;32mif\u001b[0m \u001b[0;34m'tensorflow'\u001b[0m \u001b[0;32min\u001b[0m \u001b[0msys\u001b[0m\u001b[0;34m.\u001b[0m\u001b[0mmodules\u001b[0m\u001b[0;34m:\u001b[0m\u001b[0;34m\u001b[0m\u001b[0m\n\u001b[0;32m---> 62\u001b[0;31m         \u001b[0;32mraise\u001b[0m \u001b[0mValueError\u001b[0m\u001b[0;34m(\u001b[0m\u001b[0;34m\"GPU setup must happen before importing TensorFlow\"\u001b[0m\u001b[0;34m)\u001b[0m\u001b[0;34m\u001b[0m\u001b[0m\n\u001b[0m\u001b[1;32m     63\u001b[0m \u001b[0;34m\u001b[0m\u001b[0m\n\u001b[1;32m     64\u001b[0m     \u001b[0;32mif\u001b[0m \u001b[0mgpu_id\u001b[0m \u001b[0;32mis\u001b[0m \u001b[0mNone\u001b[0m\u001b[0;34m:\u001b[0m\u001b[0;34m\u001b[0m\u001b[0m\n",
      "\u001b[0;31mValueError\u001b[0m: GPU setup must happen before importing TensorFlow"
     ]
    }
   ],
   "source": [
    "from general_tools.notebook.gpu_utils import setup_one_gpu\n",
    "GPU = 0\n",
    "setup_one_gpu(GPU)"
   ]
  },
  {
   "cell_type": "code",
   "execution_count": 1,
   "metadata": {
    "collapsed": false
   },
   "outputs": [],
   "source": [
    "import numpy as np\n",
    "import os.path as osp\n",
    "from evaluator import Evaluator\n",
    "from general_tools.in_out.basics import files_in_subdirs"
   ]
  },
  {
   "cell_type": "code",
   "execution_count": 2,
   "metadata": {
    "collapsed": true
   },
   "outputs": [],
   "source": [
    "top_sample_dir = '/orions4-zfs/projects/optas/DATA/OUT/iclr/synthetic_samples/gmm/emd/'\n",
    "class_name = 'chair'\n",
    "# generative_type = 'latent_gan', 'gmm', or 'raw_gan'\n",
    "generative_type = 'gmm'\n",
    "do_jsd = True\n",
    "do_mmd = False\n",
    "mmd_loss = 'emd'"
   ]
  },
  {
   "cell_type": "code",
   "execution_count": 3,
   "metadata": {
    "collapsed": false
   },
   "outputs": [],
   "source": [
    "if do_jsd:\n",
    "    f_jsd = open(osp.join(top_sample_dir, 'JSD_Measurements.txt'), 'w')\n",
    "if do_mmd:\n",
    "    f_mmd = open(osp.join(top_sample_dir, 'MMD_Measurements.txt'), 'w')"
   ]
  },
  {
   "cell_type": "code",
   "execution_count": 4,
   "metadata": {
    "collapsed": false
   },
   "outputs": [],
   "source": [
    "if generative_type == 'latent_gan':\n",
    "    epochs_to_check = np.hstack([np.array([1, 5, 10]), np.arange(100, 2001, 100)])\n",
    "elif generative_type == 'raw_gan':\n",
    "    epochs_to_check = np.hstack([np.array([1, 5, 10]), np.arange(50, 2001, 50)])"
   ]
  },
  {
   "cell_type": "code",
   "execution_count": 5,
   "metadata": {
    "collapsed": false
   },
   "outputs": [],
   "source": [
    "sample_files = []\n",
    "if generative_type.endswith('gan'):    \n",
    "    for epoch in epochs_to_check:\n",
    "        sample_files.append(osp.join(top_synthetic_dir, 'epoch_%d.npz' % (epoch,) ))\n",
    "elif generative_type.startswith('gmm'):\n",
    "    for f in files_in_subdirs(top_sample_dir, '.npz'):\n",
    "        sample_files.append(f) \n",
    "else:\n",
    "    assert False"
   ]
  },
  {
   "cell_type": "code",
   "execution_count": 6,
   "metadata": {
    "collapsed": false
   },
   "outputs": [],
   "source": [
    "evaluator = Evaluator(class_name)\n",
    "evaluator.load_gt_data()\n",
    "if do_jsd:\n",
    "    evaluator.prepare_gt_grid_variables()"
   ]
  },
  {
   "cell_type": "code",
   "execution_count": 7,
   "metadata": {
    "collapsed": false
   },
   "outputs": [
    {
     "name": "stdout",
     "output_type": "stream",
     "text": [
      "bneck_128_diag_20_gaussians.npz\n",
      "JSD\n"
     ]
    },
    {
     "name": "stderr",
     "output_type": "stream",
     "text": [
      "/orions4-zfs/projects/optas/Git_Repos/tf_lab/evaluate/generative_pc_nets.py:39: UserWarning: Point-clouds not in in unit cube.\n",
      "  warnings.warn('Point-clouds not in in unit cube.')\n",
      "/orions4-zfs/projects/optas/Git_Repos/tf_lab/evaluate/generative_pc_nets.py:42: UserWarning: Point-clouds not unit sphere.\n",
      "  warnings.warn('Point-clouds not unit sphere.')\n"
     ]
    },
    {
     "name": "stdout",
     "output_type": "stream",
     "text": [
      "train 0.0212673840574\n",
      "test 0.0283783834762\n",
      "val 0.0351918111863\n",
      "bneck_128_full_40_gaussians.npz\n",
      "JSD\n",
      "train 0.00435269430736\n",
      "test 0.0132044223126\n",
      "val 0.0187698879158\n",
      "bneck_128_full_24_gaussians.npz\n",
      "JSD\n",
      "train 0.00517805763887\n",
      "test 0.0132719637427\n",
      "val 0.0193092456534\n",
      "bneck_128_full_30_gaussians.npz\n",
      "JSD\n",
      "train 0.00468522594561\n",
      "test 0.0132465520322\n",
      "val 0.0207734011898\n",
      "bneck_128_full_18_gaussians.npz\n",
      "JSD\n",
      "train 0.00505635290683\n",
      "test 0.0125019263628\n",
      "val 0.0220928464384\n",
      "bneck_128_full_12_gaussians.npz\n",
      "JSD\n",
      "train 0.00567643646805\n",
      "test 0.0140529637012\n",
      "val 0.0207792792665\n",
      "bneck_128_full_4_gaussians.npz\n",
      "JSD\n",
      "train 0.00888758450095\n",
      "test 0.0168092111725\n",
      "val 0.0237142428425\n",
      "bneck_128_full_10_gaussians.npz\n",
      "JSD\n",
      "train 0.00568862543162\n",
      "test 0.0133000783658\n",
      "val 0.0190252912663\n",
      "bneck_128_full_38_gaussians.npz\n",
      "JSD\n",
      "train 0.0048442970387\n",
      "test 0.0136348403225\n",
      "val 0.0200115531668\n",
      "bneck_128_full_6_gaussians.npz\n",
      "JSD\n",
      "train 0.00800797175244\n",
      "test 0.0141029873006\n",
      "val 0.0218804231752\n",
      "bneck_128_full_26_gaussians.npz\n",
      "JSD\n",
      "train 0.00492743354491\n",
      "test 0.0122144216786\n",
      "val 0.0226194526962\n",
      "bneck_128_full_32_gaussians.npz\n",
      "JSD\n",
      "train 0.0048985564863\n",
      "test 0.0116601563822\n",
      "val 0.0195082775895\n",
      "bneck_128_full_36_gaussians.npz\n",
      "JSD\n",
      "train 0.00480121139798\n",
      "test 0.0130740613234\n",
      "val 0.0196886183491\n",
      "bneck_128_full_8_gaussians.npz\n",
      "JSD\n",
      "train 0.00608939287685\n",
      "test 0.0149443208512\n",
      "val 0.0194816034482\n",
      "bneck_128_full_22_gaussians.npz\n",
      "JSD\n",
      "train 0.00493163684099\n",
      "test 0.0122747255878\n",
      "val 0.0188120437609\n",
      "bneck_128_full_14_gaussians.npz\n",
      "JSD\n",
      "train 0.00553444312854\n",
      "test 0.0127658946513\n",
      "val 0.0189261929906\n",
      "bneck_128_full_2_gaussians.npz\n",
      "JSD\n",
      "train 0.0125583064507\n",
      "test 0.0175675662382\n",
      "val 0.0236509744685\n",
      "bneck_128_full_28_gaussians.npz\n",
      "JSD\n",
      "train 0.00553822389043\n",
      "test 0.0156779392539\n",
      "val 0.0198669177772\n",
      "bneck_128_diag_10_gaussians.npz\n",
      "JSD\n",
      "train 0.0292038811939\n",
      "test 0.0352762419246\n",
      "val 0.0398095314292\n",
      "bneck_128_diag_5_gaussians.npz\n",
      "JSD\n",
      "train 0.0415692491719\n",
      "test 0.0473351419371\n",
      "val 0.0476774600506\n",
      "bneck_128_full_16_gaussians.npz\n",
      "JSD\n",
      "train 0.00533733238915\n",
      "test 0.0139625920975\n",
      "val 0.0185227251457\n",
      "bneck_128_diag_30_gaussians.npz\n",
      "JSD\n",
      "train 0.0173246558331\n",
      "test 0.0271064714509\n",
      "val 0.0333530097642\n",
      "bneck_128_diag_128_gaussians.npz\n",
      "JSD\n",
      "train 0.00950133914659\n",
      "test 0.015353309103\n",
      "val 0.0249193030173\n",
      "bneck_128_full_34_gaussians.npz\n",
      "JSD\n",
      "train 0.00476290327918\n",
      "test 0.0117735282327\n",
      "val 0.0209795744729\n",
      "bneck_128_full_20_gaussians.npz\n",
      "JSD\n",
      "train 0.0052741289456\n",
      "test 0.0139445716387\n",
      "val 0.0211581085761\n"
     ]
    }
   ],
   "source": [
    "for sample_file in sample_files:    \n",
    "    evaluator.prepare_sample_data(sample_file)\n",
    "    print osp.basename(sample_file)\n",
    "    if do_jsd:\n",
    "        print 'JSD'\n",
    "        f_jsd.write(osp.basename(sample_file) + '\\n')\n",
    "        evaluator.compute_jsd(f_out=f_jsd)\n",
    "        f_jsd.flush()\n",
    "    if do_mmd:\n",
    "        print 'MMD'\n",
    "        f_mmd.write(osp.basename(sample_file) + '\\n')\n",
    "        evaluator.compute_mmd(loss=mmd_loss, f_out=f_mmd)\n",
    "        f_mmd.flush()"
   ]
  },
  {
   "cell_type": "code",
   "execution_count": 8,
   "metadata": {
    "collapsed": true
   },
   "outputs": [],
   "source": [
    "if do_jsd:\n",
    "    f_jsd.close()\n",
    "if do_mmd:\n",
    "    f_mmd.close()"
   ]
  }
 ],
 "metadata": {
  "kernelspec": {
   "display_name": "Python 2",
   "language": "python",
   "name": "python2"
  },
  "language_info": {
   "codemirror_mode": {
    "name": "ipython",
    "version": 2
   },
   "file_extension": ".py",
   "mimetype": "text/x-python",
   "name": "python",
   "nbconvert_exporter": "python",
   "pygments_lexer": "ipython2",
   "version": "2.7.6"
  }
 },
 "nbformat": 4,
 "nbformat_minor": 2
}
