{
 "cells": [
  {
   "cell_type": "code",
   "execution_count": 1,
   "metadata": {
    "collapsed": false,
    "deletable": true,
    "editable": true
   },
   "outputs": [
    {
     "name": "stdout",
     "output_type": "stream",
     "text": [
      "Picking GPU 1\n"
     ]
    }
   ],
   "source": [
    "from general_tools.notebook.gpu_utils import setup_one_gpu\n",
    "GPU = 1\n",
    "setup_one_gpu(GPU)"
   ]
  },
  {
   "cell_type": "code",
   "execution_count": 2,
   "metadata": {
    "collapsed": false,
    "deletable": true,
    "editable": true
   },
   "outputs": [],
   "source": [
    "import sys\n",
    "import numpy as np\n",
    "import os.path as osp\n",
    "from evaluator import Evaluator\n",
    "from general_tools.in_out.basics import files_in_subdirs\n",
    "from helper import stored_synthetic_samples, top_evaluation_dir"
   ]
  },
  {
   "cell_type": "code",
   "execution_count": 3,
   "metadata": {
    "collapsed": false,
    "deletable": true,
    "editable": true
   },
   "outputs": [],
   "source": [
    "%load_ext autoreload\n",
    "%autoreload 2\n",
    "%matplotlib inline"
   ]
  },
  {
   "cell_type": "code",
   "execution_count": 4,
   "metadata": {
    "collapsed": false,
    "deletable": true,
    "editable": true
   },
   "outputs": [],
   "source": [
    "class_name = 'chair'\n",
    "\n",
    "do_jsd = False\n",
    "do_mmd = True\n",
    "save_res = False\n",
    "\n",
    "top_out_dir = top_evaluation_dir\n",
    "experiment_name = 'l_gan_emd'\n",
    "\n",
    "sample_mmd = True\n",
    "n_samples = 5\n",
    "ref_pop = 1000\n",
    "sample_pop = 1000\n",
    "mmd_loss = 'chamfer'\n",
    "special_tag = 'emd_40_200'\n",
    "\n",
    "# skip = ['test', 'val']\n",
    "skip = ['train', 'test']"
   ]
  },
  {
   "cell_type": "code",
   "execution_count": 5,
   "metadata": {
    "collapsed": true,
    "deletable": true,
    "editable": true
   },
   "outputs": [],
   "source": [
    "if do_jsd:\n",
    "    boost_samples = 1\n",
    "else:\n",
    "    boost_samples = 5\n",
    "assert(np.logical_xor(do_jsd, do_mmd))"
   ]
  },
  {
   "cell_type": "code",
   "execution_count": 6,
   "metadata": {
    "collapsed": false,
    "deletable": true,
    "editable": true
   },
   "outputs": [],
   "source": [
    "top_sample_dir = stored_synthetic_samples(class_name)[experiment_name]"
   ]
  },
  {
   "cell_type": "code",
   "execution_count": 7,
   "metadata": {
    "collapsed": false,
    "deletable": true,
    "editable": true
   },
   "outputs": [],
   "source": [
    "if save_res:\n",
    "    exp_name = osp.basename(top_sample_dir)\n",
    "    if do_jsd:\n",
    "        f_jsd = open(osp.join(top_out_dir, class_name, 'jsd_' + special_tag + exp_name + '.txt'), 'w')\n",
    "            \n",
    "    if do_mmd:\n",
    "        f_mmd = open(osp.join(top_out_dir, class_name, 'mmd_' + special_tag + exp_name + '.txt'), 'w')\n",
    "else:\n",
    "    f_jsd = sys.stdout\n",
    "    f_mmd = sys.stdout"
   ]
  },
  {
   "cell_type": "code",
   "execution_count": 8,
   "metadata": {
    "collapsed": false,
    "deletable": true,
    "editable": true
   },
   "outputs": [],
   "source": [
    "if experiment_name.startswith('l_') and 'gan' in experiment_name:\n",
    "    epochs_to_check = np.hstack([np.array([1, 5, 10]), np.arange(100, 501, 100)])\n",
    "elif experiment_name.startswith('r_gan'):\n",
    "    epochs_to_check = np.hstack([np.array([1, 5, 10]), np.arange(50, 2001, 50)])"
   ]
  },
  {
   "cell_type": "code",
   "execution_count": 9,
   "metadata": {
    "collapsed": true
   },
   "outputs": [],
   "source": [
    "epochs_to_check = [1700]"
   ]
  },
  {
   "cell_type": "code",
   "execution_count": 10,
   "metadata": {
    "collapsed": false,
    "deletable": true,
    "editable": true
   },
   "outputs": [],
   "source": [
    "sample_files = []\n",
    "if 'gan' in experiment_name:\n",
    "    for epoch in epochs_to_check:\n",
    "        sample_files.append(osp.join(top_sample_dir, 'epoch_%d.npz' % (epoch,) ))\n",
    "elif 'gmm' in experiment_name:\n",
    "    for f in files_in_subdirs(top_sample_dir, '.npz'):\n",
    "        sample_files.append(f) \n",
    "else:\n",
    "    assert False"
   ]
  },
  {
   "cell_type": "code",
   "execution_count": 11,
   "metadata": {
    "collapsed": false,
    "deletable": true,
    "editable": true
   },
   "outputs": [],
   "source": [
    "evaluator = Evaluator(class_name)\n",
    "evaluator.load_gt_data()\n",
    "if do_jsd:\n",
    "    evaluator.prepare_gt_grid_variables()"
   ]
  },
  {
   "cell_type": "code",
   "execution_count": 12,
   "metadata": {
    "collapsed": false,
    "deletable": true,
    "editable": true,
    "scrolled": false
   },
   "outputs": [
    {
     "name": "stdout",
     "output_type": "stream",
     "text": [
      "epoch_1700\n",
      "epoch_1700\n",
      "val 0.00188163 0.00102614\n",
      "\n"
     ]
    }
   ],
   "source": [
    "for sample_file in sample_files:\n",
    "    evaluator.prepare_sample_data(sample_file, boost_samples)\n",
    "    sample_name = osp.basename(sample_file)[:-len('.npz')]\n",
    "    print sample_name\n",
    "    if do_jsd:\n",
    "        f_jsd.write(sample_name + '\\n')\n",
    "        evaluator.compute_jsd(f_out=f_jsd)\n",
    "        f_jsd.flush()\n",
    "    if do_mmd:\n",
    "        f_mmd.write(sample_name + '\\n')\n",
    "        evaluator.compute_mmd(loss=mmd_loss, sample_estimator=sample_mmd, n_samples=n_samples, \n",
    "                              ref_pop_size=ref_pop, sample_pop_size=sample_pop,\n",
    "                              f_out=f_mmd, skip=skip)\n",
    "        \n",
    "        f_mmd.flush()\n",
    "    print"
   ]
  },
  {
   "cell_type": "code",
   "execution_count": null,
   "metadata": {
    "collapsed": true,
    "deletable": true,
    "editable": true
   },
   "outputs": [],
   "source": [
    "if save_res:\n",
    "    if do_jsd:\n",
    "        f_jsd.close()\n",
    "    if do_mmd:\n",
    "        f_mmd.close()"
   ]
  }
 ],
 "metadata": {
  "kernelspec": {
   "display_name": "Python 2",
   "language": "python",
   "name": "python2"
  },
  "language_info": {
   "codemirror_mode": {
    "name": "ipython",
    "version": 2
   },
   "file_extension": ".py",
   "mimetype": "text/x-python",
   "name": "python",
   "nbconvert_exporter": "python",
   "pygments_lexer": "ipython2",
   "version": "2.7.6"
  }
 },
 "nbformat": 4,
 "nbformat_minor": 2
}
