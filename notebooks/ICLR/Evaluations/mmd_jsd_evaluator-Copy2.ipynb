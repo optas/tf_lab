{
 "cells": [
  {
   "cell_type": "code",
   "execution_count": 1,
   "metadata": {
    "collapsed": false
   },
   "outputs": [
    {
     "name": "stdout",
     "output_type": "stream",
     "text": [
      "Picking GPU 1\n"
     ]
    }
   ],
   "source": [
    "from general_tools.notebook.gpu_utils import setup_one_gpu\n",
    "GPU = 1\n",
    "setup_one_gpu(GPU)"
   ]
  },
  {
   "cell_type": "code",
   "execution_count": 2,
   "metadata": {
    "collapsed": false
   },
   "outputs": [],
   "source": [
    "import sys\n",
    "import numpy as np\n",
    "import os.path as osp\n",
    "from evaluator import Evaluator\n",
    "from general_tools.in_out.basics import files_in_subdirs\n",
    "from helper import stored_synthetic_samples, top_evaluation_dir\n",
    "import matplotlib.pylab as plt"
   ]
  },
  {
   "cell_type": "code",
   "execution_count": 4,
   "metadata": {
    "collapsed": false
   },
   "outputs": [],
   "source": [
    "%load_ext autoreload\n",
    "%autoreload 2\n",
    "%matplotlib inline"
   ]
  },
  {
   "cell_type": "code",
   "execution_count": 5,
   "metadata": {
    "collapsed": false
   },
   "outputs": [],
   "source": [
    "class_name = 'chair'\n",
    "save_res = False\n",
    "top_out_dir = top_evaluation_dir\n",
    "experiment_name = 'l_gan_emd'\n",
    "\n",
    "sample_mmd = False\n",
    "n_samples = 10\n",
    "ref_pop = 40\n",
    "sample_pop = 200\n",
    "mmd_loss = 'chamfer'\n",
    "special_tag = 'chamfer_5boost_hist'\n",
    "\n",
    "boost_samples = 5\n",
    "\n",
    "skip = ['train', 'val']\n",
    "epochs_to_check = [100]"
   ]
  },
  {
   "cell_type": "code",
   "execution_count": 6,
   "metadata": {
    "collapsed": false
   },
   "outputs": [],
   "source": [
    "top_sample_dir = stored_synthetic_samples(class_name)[experiment_name]"
   ]
  },
  {
   "cell_type": "code",
   "execution_count": 7,
   "metadata": {
    "collapsed": false
   },
   "outputs": [],
   "source": [
    "if save_res:\n",
    "    exp_name = osp.basename(top_sample_dir)\n",
    "    f_mmd = open(osp.join(top_out_dir, class_name, 'mmd_' + special_tag + exp_name + '.txt'), 'w')\n",
    "else:\n",
    "    f_jsd = sys.stdout\n",
    "    f_mmd = sys.stdout"
   ]
  },
  {
   "cell_type": "code",
   "execution_count": 8,
   "metadata": {
    "collapsed": false
   },
   "outputs": [],
   "source": [
    "# if experiment_name.startswith('l_') and 'gan' in experiment_name:\n",
    "#     epochs_to_check = np.hstack([np.array([1, 5, 10]), np.arange(100, 2001, 100)])\n",
    "# elif experiment_name.startswith('r_gan'):\n",
    "#     epochs_to_check = np.hstack([np.array([1, 5, 10]), np.arange(50, 2001, 50)])"
   ]
  },
  {
   "cell_type": "code",
   "execution_count": 8,
   "metadata": {
    "collapsed": false
   },
   "outputs": [],
   "source": [
    "sample_files = []\n",
    "if 'gan' in experiment_name:\n",
    "    for epoch in epochs_to_check:\n",
    "        sample_files.append(osp.join(top_sample_dir, 'epoch_%d.npz' % (epoch,) ))\n",
    "elif 'gmm' in experiment_name:\n",
    "    for f in files_in_subdirs(top_sample_dir, '.npz'):\n",
    "        sample_files.append(f) \n",
    "else:\n",
    "    assert False"
   ]
  },
  {
   "cell_type": "code",
   "execution_count": 9,
   "metadata": {
    "collapsed": false
   },
   "outputs": [],
   "source": [
    "evaluator = Evaluator(class_name)\n",
    "evaluator.load_gt_data()"
   ]
  },
  {
   "cell_type": "code",
   "execution_count": 10,
   "metadata": {
    "collapsed": false,
    "scrolled": false
   },
   "outputs": [
    {
     "name": "stdout",
     "output_type": "stream",
     "text": [
      "epoch_100\n",
      "epoch_100\n",
      "test 0.0020341 0.00167858\n",
      "\n"
     ]
    }
   ],
   "source": [
    "for sample_file in sample_files:\n",
    "    evaluator.prepare_sample_data(sample_file, boost_samples)\n",
    "    sample_name = osp.basename(sample_file)[:-len('.npz')]\n",
    "    print sample_name\n",
    "    f_mmd.write(sample_name + '\\n')\n",
    "    all_d = evaluator.compute_mmd(loss=mmd_loss, sample_estimator=sample_mmd, n_samples=n_samples, \n",
    "                          ref_pop_size=ref_pop, sample_pop_size=sample_pop,\n",
    "                          f_out=f_mmd, skip=skip)\n",
    "    f_mmd.flush()\n",
    "    print"
   ]
  },
  {
   "cell_type": "code",
   "execution_count": 13,
   "metadata": {
    "collapsed": false
   },
   "outputs": [
    {
     "data": {
      "text/plain": [
       "(array([  35.,   79.,   85.,   71.,  100.,   77.,   55.,   37.,   30.,\n",
       "          21.,   12.,   16.,   10.,    6.,    8.,    6.,    4.,    1.,\n",
       "           2.,    2.,    2.,    2.,    0.,    1.,    2.,    0.,    3.,\n",
       "           1.,    0.,    1.,    0.,    1.,    1.,    0.,    0.,    1.,\n",
       "           1.,    1.,    1.,    0.,    2.,    0.,    0.,    0.,    0.,\n",
       "           0.,    0.,    0.,    0.,    0.,    0.,    1.,    0.,    0.,\n",
       "           0.,    0.,    0.,    0.,    0.,    0.,    0.,    0.,    0.,\n",
       "           0.,    0.,    0.,    0.,    0.,    0.,    0.,    0.,    0.,\n",
       "           0.,    0.,    0.,    0.,    0.,    0.,    0.,    0.,    0.,\n",
       "           0.,    0.,    0.,    0.,    0.,    0.,    0.,    0.,    0.,\n",
       "           0.,    0.,    0.,    0.,    0.,    0.,    0.,    0.,    0.,    1.]),\n",
       " array([ 0.00050583,  0.00075316,  0.0010005 ,  0.00124784,  0.00149517,\n",
       "         0.00174251,  0.00198985,  0.00223719,  0.00248452,  0.00273186,\n",
       "         0.0029792 ,  0.00322654,  0.00347387,  0.00372121,  0.00396855,\n",
       "         0.00421588,  0.00446322,  0.00471056,  0.0049579 ,  0.00520523,\n",
       "         0.00545257,  0.00569991,  0.00594724,  0.00619458,  0.00644192,\n",
       "         0.00668926,  0.00693659,  0.00718393,  0.00743127,  0.0076786 ,\n",
       "         0.00792594,  0.00817328,  0.00842062,  0.00866795,  0.00891529,\n",
       "         0.00916263,  0.00940997,  0.0096573 ,  0.00990464,  0.01015198,\n",
       "         0.01039931,  0.01064665,  0.01089399,  0.01114133,  0.01138866,\n",
       "         0.011636  ,  0.01188334,  0.01213067,  0.01237801,  0.01262535,\n",
       "         0.01287269,  0.01312002,  0.01336736,  0.0136147 ,  0.01386203,\n",
       "         0.01410937,  0.01435671,  0.01460405,  0.01485138,  0.01509872,\n",
       "         0.01534606,  0.0155934 ,  0.01584073,  0.01608807,  0.01633541,\n",
       "         0.01658274,  0.01683008,  0.01707742,  0.01732476,  0.01757209,\n",
       "         0.01781943,  0.01806677,  0.0183141 ,  0.01856144,  0.01880878,\n",
       "         0.01905612,  0.01930345,  0.01955079,  0.01979813,  0.02004546,\n",
       "         0.0202928 ,  0.02054014,  0.02078748,  0.02103481,  0.02128215,\n",
       "         0.02152949,  0.02177683,  0.02202416,  0.0222715 ,  0.02251884,\n",
       "         0.02276617,  0.02301351,  0.02326085,  0.02350819,  0.02375552,\n",
       "         0.02400286,  0.0242502 ,  0.02449753,  0.02474487,  0.02499221,\n",
       "         0.02523955]),\n",
       " <a list of 100 Patch objects>)"
      ]
     },
     "execution_count": 13,
     "metadata": {},
     "output_type": "execute_result"
    },
    {
     "data": {
      "image/png": "[encoded data removed]",
      "text/plain": [
       "<matplotlib.figure.Figure at 0x7f1fa01602d0>"
      ]
     },
     "metadata": {},
     "output_type": "display_data"
    }
   ],
   "source": [
    "plt.hist(all_d['test'], 100)"
   ]
  },
  {
   "cell_type": "code",
   "execution_count": 14,
   "metadata": {
    "collapsed": true
   },
   "outputs": [],
   "source": [
    "np.savez('l_emd_hist_test', all_d['test'])"
   ]
  },
  {
   "cell_type": "code",
   "execution_count": null,
   "metadata": {
    "collapsed": true
   },
   "outputs": [],
   "source": [
    "if save_res:\n",
    "    if do_jsd:\n",
    "        f_jsd.close()\n",
    "    if do_mmd:\n",
    "        f_mmd.close()"
   ]
  }
 ],
 "metadata": {
  "kernelspec": {
   "display_name": "Python 2",
   "language": "python",
   "name": "python2"
  },
  "language_info": {
   "codemirror_mode": {
    "name": "ipython",
    "version": 2
   },
   "file_extension": ".py",
   "mimetype": "text/x-python",
   "name": "python",
   "nbconvert_exporter": "python",
   "pygments_lexer": "ipython2",
   "version": "2.7.6"
  }
 },
 "nbformat": 4,
 "nbformat_minor": 2
}
