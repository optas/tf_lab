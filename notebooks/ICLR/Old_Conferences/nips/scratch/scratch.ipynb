{
 "cells": [
  {
   "cell_type": "code",
   "execution_count": 2,
   "metadata": {
    "collapsed": true
   },
   "outputs": [],
   "source": [
    "from general_tools.in_out.basics import files_in_subdirs\n",
    "import os.path as osp"
   ]
  },
  {
   "cell_type": "code",
   "execution_count": 54,
   "metadata": {
    "collapsed": true
   },
   "outputs": [],
   "source": [
    "syn_ids = ['03467517', '04468005', '04090263', '02871439',\n",
    "'02933112', '04554684', '02992529', '03207941',\n",
    "'03642806', '04256520', '02954340', '04225987',\n",
    "'02818832', '02773838', '02747177', '02876657',\n",
    "'02958343', '02801938', '04074963', '02808440', '03938244']"
   ]
  },
  {
   "cell_type": "code",
   "execution_count": 4,
   "metadata": {
    "collapsed": false
   },
   "outputs": [],
   "source": [
    "top_dir = '/orions4-zfs/projects/optas/DATA/Point_Clouds/Shape_Net/Core/from_manifold_meshes/centered/2048/'\n",
    "counts = {}\n",
    "syn_ids = ['03624134']\n",
    "for s in syn_ids:    \n",
    "    all_f = [f for f in files_in_subdirs(osp.join(top_dir, s), '.ply')]\n",
    "    counts[s] = len(all_f)"
   ]
  },
  {
   "cell_type": "code",
   "execution_count": 6,
   "metadata": {
    "collapsed": false
   },
   "outputs": [],
   "source": [
    "from general_tools.simpletons import sort_dict_by_val"
   ]
  },
  {
   "cell_type": "code",
   "execution_count": 7,
   "metadata": {
    "collapsed": false
   },
   "outputs": [
    {
     "data": {
      "text/plain": [
       "[('03624134', 423)]"
      ]
     },
     "execution_count": 7,
     "metadata": {},
     "output_type": "execute_result"
    }
   ],
   "source": [
    "sort_dict_by_val(counts)"
   ]
  }
 ],
 "metadata": {
  "kernelspec": {
   "display_name": "Python 2",
   "language": "python",
   "name": "python2"
  },
  "language_info": {
   "codemirror_mode": {
    "name": "ipython",
    "version": 2
   },
   "file_extension": ".py",
   "mimetype": "text/x-python",
   "name": "python",
   "nbconvert_exporter": "python",
   "pygments_lexer": "ipython2",
   "version": "2.7.6"
  }
 },
 "nbformat": 4,
 "nbformat_minor": 2
}
