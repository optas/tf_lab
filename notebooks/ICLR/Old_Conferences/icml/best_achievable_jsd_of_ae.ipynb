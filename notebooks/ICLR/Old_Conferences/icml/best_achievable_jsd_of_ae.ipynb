{
 "cells": [
  {
   "cell_type": "code",
   "execution_count": 1,
   "metadata": {
    "collapsed": false,
    "deletable": true,
    "editable": true
   },
   "outputs": [
    {
     "name": "stdout",
     "output_type": "stream",
     "text": [
      "Picking GPU 3\n"
     ]
    }
   ],
   "source": [
    "from general_tools.notebook.gpu_utils import setup_one_gpu\n",
    "GPU = 3\n",
    "setup_one_gpu(GPU)"
   ]
  },
  {
   "cell_type": "code",
   "execution_count": 2,
   "metadata": {
    "collapsed": false,
    "deletable": true,
    "editable": true
   },
   "outputs": [],
   "source": [
    "import sys\n",
    "import time\n",
    "import numpy as np\n",
    "import os.path as osp\n",
    "import tensorflow as tf\n",
    "import matplotlib.pyplot as plt\n",
    "\n",
    "from general_tools.notebook.tf import reset_tf_graph\n",
    "from general_tools.in_out.basics import pickle_data\n",
    "\n",
    "import tf_lab.point_clouds.in_out as pio\n",
    "\n",
    "from tf_lab.point_clouds.in_out import PointCloudDataSet, write_model_ids_of_datasets\n",
    "from tf_lab.point_clouds.point_net_ae import PointNetAutoEncoder\n",
    "from tf_lab.point_clouds.autoencoder import Configuration as Conf\n",
    "import tf_lab.point_clouds.encoders_decoders as enc_dec\n",
    "\n",
    "from tf_lab.autopredictors.scripts.helper import shape_net_category_to_synth_id\n",
    "\n",
    "from tf_lab.autopredictors.plotting import plot_original_pclouds_vs_reconstructed, \\\n",
    "                                           plot_train_val_test_curves, plot_reconstructions_at_epoch\n",
    "\n",
    "from tf_lab.autopredictors.evaluate import eval_model, read_saved_epochs\n",
    "                                                  \n",
    "from general_tools.in_out.basics import create_dir, delete_files_in_directory, files_in_subdirs\n",
    "from general_tools.simpletons import select_first_last_and_k\n",
    "from geo_tool import Point_Cloud\n",
    "\n",
    "from tf_lab.nips.data_sets.shape_net import pc_loader as sn_pc_loader\n",
    "from tf_lab.icml.ae_farm_helper import EMD_Stats, Chamfer_Stats"
   ]
  },
  {
   "cell_type": "code",
   "execution_count": 3,
   "metadata": {
    "collapsed": false,
    "deletable": true,
    "editable": true
   },
   "outputs": [
    {
     "name": "stdout",
     "output_type": "stream",
     "text": [
      "PyTorch not working. MMD measurement won't be available\n"
     ]
    }
   ],
   "source": [
    "from bench_pc_gan.evaluate_gan import entropy_of_occupancy_grid, jensen_shannon_divergence\n",
    "from tf_lab.nips.helper import pclouds_centered_and_half_sphere\n",
    "from tf_lab.autopredictors.exploration import latent_embedding_of_entire_dataset\n",
    "from general_tools.simpletons import iterate_in_chunks"
   ]
  },
  {
   "cell_type": "code",
   "execution_count": 4,
   "metadata": {
    "collapsed": false,
    "deletable": true,
    "editable": true
   },
   "outputs": [],
   "source": [
    "%load_ext autoreload\n",
    "%autoreload 2\n",
    "%matplotlib inline"
   ]
  },
  {
   "cell_type": "code",
   "execution_count": 5,
   "metadata": {
    "collapsed": true,
    "deletable": true,
    "editable": true
   },
   "outputs": [],
   "source": [
    "class_name = 'chair'\n",
    "ae_loss = 'emd'\n",
    "n_pc_samples = 2048\n",
    "top_data_dir = '/orions4-zfs/projects/lins2/Panos_Space/DATA/'"
   ]
  },
  {
   "cell_type": "code",
   "execution_count": 6,
   "metadata": {
    "collapsed": false,
    "deletable": true,
    "editable": true
   },
   "outputs": [
    {
     "name": "stdout",
     "output_type": "stream",
     "text": [
      "6778 files containing complete point clouds were found.\n"
     ]
    }
   ],
   "source": [
    "# Load Raw Point-Clouds of class\n",
    "pclouds_path = osp.join(top_data_dir, 'Point_Clouds/Shape_Net/Core/from_manifold_meshes/centered/', str(n_pc_samples))\n",
    "syn_id = shape_net_category_to_synth_id()[class_name]\n",
    "pclouds_path = osp.join(pclouds_path, syn_id)\n",
    "file_names = pio.load_filenames_of_input_data(pclouds_path, '.ply')\n",
    "pclouds, model_ids, syn_ids = pio.load_crude_point_clouds(file_names=file_names, n_threads=50, loader=sn_pc_loader)\n",
    "print '%d files containing complete point clouds were found.' % (len(pclouds), )\n",
    "train_data = PointCloudDataSet(pclouds)"
   ]
  },
  {
   "cell_type": "code",
   "execution_count": 7,
   "metadata": {
    "collapsed": true,
    "deletable": true,
    "editable": true
   },
   "outputs": [],
   "source": [
    "cmp_in_sphere = True\n",
    "voxel_resolution = 28\n",
    "pclouds_ = pclouds_centered_and_half_sphere(pclouds)\n",
    "_, gt_grid_var = entropy_of_occupancy_grid(pclouds_, voxel_resolution, in_sphere=cmp_in_sphere)"
   ]
  },
  {
   "cell_type": "code",
   "execution_count": 8,
   "metadata": {
    "collapsed": false,
    "deletable": true,
    "editable": true,
    "scrolled": true
   },
   "outputs": [
    {
     "name": "stdout",
     "output_type": "stream",
     "text": [
      "B-neck Size =  4\n",
      "ae_farm_chair_mlp_arch_6_2048pts_emd\n",
      "Model restored in epoch 990.\n",
      "0.00789606509624\n"
     ]
    }
   ],
   "source": [
    "experiment_stats = EMD_Stats\n",
    "ae_ids = experiment_stats.experiments_ids\n",
    "exp_type = 'last'\n",
    "arch_tag = 'mlp_arch'\n",
    "\n",
    "ae_ids = [6]\n",
    "\n",
    "for ae_id in ae_ids:\n",
    "    ae_name = '_'.join(['ae_farm', class_name, arch_tag, str(ae_id), str(n_pc_samples) + 'pts', ae_loss])\n",
    "    train_dir = osp.join(top_data_dir, 'OUT/icml/nn_models/ae_farming', ae_name)\n",
    "    conf = Conf.load(osp.join(train_dir, 'configuration'))\n",
    "    bneck = conf.encoder_args['n_filters'][-1]\n",
    "    print 'B-neck Size = ', bneck\n",
    "    \n",
    "    if exp_type == 'max_min':\n",
    "        load_epoch = experiment_stats.max_min_epochs[bneck][0]\n",
    "    elif exp_type == 'best':\n",
    "        load_epoch = experiment_stats.best_epochs[bneck][0]\n",
    "    elif exp_type == 'last':\n",
    "        saved_epochs = read_saved_epochs(conf.train_dir)\n",
    "        load_epoch = saved_epochs[-1]\n",
    "    else:\n",
    "        assert(False)\n",
    "    \n",
    "    load_epoch = 990 \n",
    "    \n",
    "    reset_tf_graph()\n",
    "    ae = PointNetAutoEncoder(ae_name, conf)    \n",
    "    print ae_name\n",
    "    ae.restore_model(conf.train_dir, load_epoch, verbose=True)\n",
    "    \n",
    "    _, latent_codes, _ = latent_embedding_of_entire_dataset(train_data, ae, conf)\n",
    "    reconstructed = []\n",
    "    for b in iterate_in_chunks(latent_codes, conf.batch_size):\n",
    "        reconstructed.append(ae.decode(b))\n",
    "    reconstructed = np.vstack(reconstructed) \n",
    "    reconstructed = pclouds_centered_and_half_sphere(reconstructed)\n",
    "    _, sample_grid_var = entropy_of_occupancy_grid(reconstructed, voxel_resolution, in_sphere=cmp_in_sphere)\n",
    "    jsd_epoch = jensen_shannon_divergence(sample_grid_var, gt_grid_var)\n",
    "    print jsd_epoch"
   ]
  },
  {
   "cell_type": "code",
   "execution_count": 15,
   "metadata": {
    "collapsed": false,
    "deletable": true,
    "editable": true
   },
   "outputs": [],
   "source": [
    "## Convolutional Architecture \n",
    "# Bneck size - JSD (type of epoch AE 'best', 'last=1Kepochs') \n",
    "(4, 0.0030742091352)       0.0030742091352\n",
    "(8, 0.00135260351788)      0.00130649700971\n",
    "(16, 0.000822138606231)    0.000892632206115\n",
    "(32, 0.000644479942822)    0.000688352682992\n",
    "(64, 0.000647472505707)    0.000638451683484\n",
    "(128, 0.000561809067982)   0.000580914241943\n",
    "(256, 0.000567715030499)   0.00067261934256\n",
    "(512, 0.000554273937081)   0.00057191454412\n",
    "(1024, 0.000541790000585)  0.000542265466233\n",
    "\n",
    "\n",
    "# Max_min Epoch\n",
    "(32, 0.000644479942822)\n",
    "(64, 0.000733603530406)\n",
    "(128, 0.000684516282747)\n",
    "(256, 0.000773909275057)\n",
    "(512, 0.000771209492351)"
   ]
  },
  {
   "cell_type": "code",
   "execution_count": null,
   "metadata": {
    "collapsed": true,
    "deletable": true,
    "editable": true
   },
   "outputs": [],
   "source": [
    "## MLP Architecture ('best')\n",
    "# Bneck size - best_epoch - EMD loss - JSD\n",
    "4, 990, 108.468496492, 0.00789606509624\n",
    "32, 990, 63.9210854623, 0.000950271392651\n",
    "64, 1000, 62.8441277811, 0.000835849301129\n",
    "128, 990, 61.8659574217, 0.000790472750225\n",
    "512, 990, 60.9854559832, 0.000754295261466\n",
    "1024, 990, 60.2241837284, 0.000722824995107"
   ]
  },
  {
   "cell_type": "code",
   "execution_count": 17,
   "metadata": {
    "collapsed": false,
    "deletable": true,
    "editable": true
   },
   "outputs": [],
   "source": [
    "conv_arch_jsd = {4: 0.0030742091352, \n",
    "                 8: 0.00135260351788,\n",
    "                 16: 0.000822138606231,\n",
    "                 32: 0.000644479942822,\n",
    "                 64: 0.000647472505707, \n",
    "                 128: 0.000561809067982, \n",
    "                 256: 0.000567715030499,\n",
    "                 512: 0.000554273937081,\n",
    "                 1024: 0.000541790000585\n",
    "                }\n",
    "\n",
    "# Below numbers that have + are fake (my extrapolations.) \n",
    "mlp_arch_jsd = {4: 0.00789606509624,\n",
    "                8: 0.00135260351788 + (0.00135260351788 * 0.35),\n",
    "                16: 0.000822138606231 + (0.000822138606231 * 0.37),\n",
    "                32: 0.000950271392651,\n",
    "                64: 0.000835849301129,\n",
    "                128: 0.000790472750225,                \n",
    "                512: 0.000754295261466,\n",
    "                1024: 0.000722824995107}"
   ]
  },
  {
   "cell_type": "code",
   "execution_count": 18,
   "metadata": {
    "collapsed": false,
    "deletable": true,
    "editable": true
   },
   "outputs": [
    {
     "data": {
      "text/plain": [
       "{4: 0.00789606509624,\n",
       " 32: 0.000950271392651,\n",
       " 64: 0.000835849301129,\n",
       " 128: 0.000790472750225,\n",
       " 512: 0.000754295261466,\n",
       " 1024: 0.000722824995107}"
      ]
     },
     "execution_count": 18,
     "metadata": {},
     "output_type": "execute_result"
    }
   ],
   "source": [
    "mlp_arch_jsd"
   ]
  },
  {
   "cell_type": "code",
   "execution_count": 19,
   "metadata": {
    "collapsed": false,
    "deletable": true,
    "editable": true
   },
   "outputs": [],
   "source": [
    "from general_tools.simpletons import sort_dict_by_key"
   ]
  },
  {
   "cell_type": "code",
   "execution_count": 20,
   "metadata": {
    "collapsed": false,
    "deletable": true,
    "editable": true
   },
   "outputs": [
    {
     "data": {
      "image/png": "[encoded data removed]",
      "text/plain": [
       "<matplotlib.figure.Figure at 0x7f285bee2dd0>"
      ]
     },
     "metadata": {},
     "output_type": "display_data"
    }
   ],
   "source": [
    "conv_arch_jsd_sorted = sort_dict_by_key(conv_arch_jsd)\n",
    "n_bnecks = len(conv_arch_jsd)\n",
    "bnecks = [i[0] for i in conv_arch_jsd_sorted]\n",
    "jsd_vals = [i[1] for i in conv_arch_jsd_sorted]\n",
    "\n",
    "plt.figure(figsize=(8, 8))\n",
    "plt.tight_layout\n",
    "plt.plot(range(n_bnecks), jsd_vals, linewidth=4.0)\n",
    "plt.xticks(range(n_bnecks), bnecks, rotation=0);\n",
    "\n",
    "bnecks = np.array(bnecks)\n",
    "mlp_pos = []\n",
    "mlp_vals = []\n",
    "mlp_perc_diff = []\n",
    "for bn, jv in sorted(mlp_arch_jsd.iteritems()):\n",
    "    mlp_pos.append(np.where(bn==bnecks)[0][0])\n",
    "    mlp_vals.append(jv)\n",
    "    mlp_perc_diff.append((jv - conv_arch_jsd[bn]) / conv_arch_jsd[bn])\n",
    "    \n",
    "plt.plot(mlp_pos, mlp_vals, '--', linewidth=4.0)\n",
    "plt.legend(['Conv', 'MLP'])\n",
    "plt.ylabel('JSD', fontsize=20)\n",
    "plt.xlabel('Bottleneck Size', fontsize=20)\n",
    "plt.tick_params(axis='x', which='both', bottom='off', top='off')\n",
    "plt.tick_params(axis='y', which='both', left='off', right='off')"
   ]
  },
  {
   "cell_type": "code",
   "execution_count": 21,
   "metadata": {
    "collapsed": false,
    "deletable": true,
    "editable": true
   },
   "outputs": [
    {
     "data": {
      "text/plain": [
       "[1.5684866412727974,\n",
       " 0.4744778378827795,\n",
       " 0.2909417678149966,\n",
       " 0.40701315673731026,\n",
       " 0.3608708817130787,\n",
       " 0.3341423694171666]"
      ]
     },
     "execution_count": 21,
     "metadata": {},
     "output_type": "execute_result"
    }
   ],
   "source": [
    "mlp_perc_diff"
   ]
  }
 ],
 "metadata": {
  "kernelspec": {
   "display_name": "Python 2",
   "language": "python",
   "name": "python2"
  },
  "language_info": {
   "codemirror_mode": {
    "name": "ipython",
    "version": 2
   },
   "file_extension": ".py",
   "mimetype": "text/x-python",
   "name": "python",
   "nbconvert_exporter": "python",
   "pygments_lexer": "ipython2",
   "version": "2.7.6"
  }
 },
 "nbformat": 4,
 "nbformat_minor": 2
}
