{
 "cells": [
  {
   "cell_type": "code",
   "execution_count": 2,
   "metadata": {
    "collapsed": false,
    "deletable": true,
    "editable": true
   },
   "outputs": [
    {
     "name": "stdout",
     "output_type": "stream",
     "text": [
      "External Losses (Chamfer-EMD) cannot be loaded.\n"
     ]
    },
    {
     "name": "stderr",
     "output_type": "stream",
     "text": [
      "/orions4-zfs/projects/lins2/Panos_Space/Git_Repos/geo_tool/point_clouds/point_cloud.py:26: UserWarning: Pyplot library is not fully working. Limited plotting utilities are available.\n",
      "  warnings.warn('Pyplot library is not fully working. Limited plotting utilities are available.')\n"
     ]
    }
   ],
   "source": [
    "import warnings\n",
    "import argparse\n",
    "import os.path as osp\n",
    "import numpy as np\n",
    "\n",
    "from bench_pc_gan.evaluate_gan import minimum_mathing_distance\n",
    "from tf_lab.nips.helper import pclouds_centered_and_half_sphere"
   ]
  },
  {
   "cell_type": "code",
   "execution_count": 7,
   "metadata": {
    "collapsed": false,
    "deletable": true,
    "editable": true
   },
   "outputs": [],
   "source": [
    "parser = argparse.ArgumentParser()\n",
    "parser.add_argument('--sample_dir', type=str, default = '', help='Directory of point-cloud samples.', required=True)\n",
    "parser.add_argument('--ref', type=str, default = '', help='Path to reference point-cloud.', required=True)\n",
    "parser.add_argument('--out_file', type=str, help='Save results in this file.', required=True)\n",
    "parser.add_argument('--epochs', type=list, default = [1, 3, 10, 30, 100, 300, 400, 500], help='Epochs to evaluate.')\n",
    "opt = parser.parse_args()"
   ]
  },
  {
   "cell_type": "code",
   "execution_count": 4,
   "metadata": {
    "collapsed": true
   },
   "outputs": [],
   "source": [
    "# class Empty():\n",
    "#     def __init__(self):\n",
    "#         pass\n",
    "# opt = Empty()\n",
    "# opt.sample_dir = '/orions4-zfs/projects/lins2/Panos_Space/DATA/OUT/icml/synthetic_point_clouds/nb_gan_ae_14_emd_chair_2048_best_epoch'\n",
    "# opt.ref = '/orions4-zfs/projects/lins2/Panos_Space/DATA/OUT/nips/our_synthetic_samples/ground_truth/gt_all_chair.npz'\n",
    "# opt.out_file = '/orions4-zfs/projects/lins2/Panos_Space/DATA/OUT/icml/synthetic_point_clouds/nb_gan_ae_14_emd_chair_2048_best_epoch/mmd_stats.txt'\n",
    "# opt.epochs = [1, 3, 10, 30, 100, 300, 400, 500]"
   ]
  },
  {
   "cell_type": "code",
   "execution_count": 3,
   "metadata": {
    "collapsed": true,
    "deletable": true,
    "editable": true
   },
   "outputs": [],
   "source": [
    "n_pc_samples = 2048\n",
    "batch_size = 1000\n",
    "reduce_gt = 1000 #(Or None)\n",
    "reduce_samples = 1000 #(Or None)"
   ]
  },
  {
   "cell_type": "code",
   "execution_count": 7,
   "metadata": {
    "collapsed": false,
    "deletable": true,
    "editable": true
   },
   "outputs": [],
   "source": [
    "gt_data = np.load(opt.ref)  # Load Ground-Truth Data.\n",
    "gt_data = gt_data[gt_data.keys()[0]]\n",
    "gt_data = pclouds_centered_and_half_sphere(gt_data)\n",
    "\n",
    "if reduce_gt is not None:\n",
    "    gt_data = gt_data[:reduce_gt, :]"
   ]
  },
  {
   "cell_type": "code",
   "execution_count": 5,
   "metadata": {
    "collapsed": false,
    "deletable": true,
    "editable": true
   },
   "outputs": [],
   "source": [
    "buf_size = 1 # flush each line\n",
    "fout = open(opt.out_file, 'w', buf_size)\n",
    "fout.write('#Metric Epoch Measurement\\n')\n",
    "print 'Saving measurements at: ' + opt.out_file\n",
    "\n",
    "for epoch in opt.epochs:\n",
    "    sample_file = osp.join(opt.sample_dir, 'epoch_%d.npz' % (epoch,) )\n",
    "    sample_data = np.load(sample_file)\n",
    "    sample_data = sample_data[sample_data.keys()[0]]\n",
    "    sample_data = pclouds_centered_and_half_sphere(sample_data)    \n",
    "    if reduce_samples is not None:\n",
    "        sample_data = sample_data[:reduce_samples, :]\n",
    "    mmd_epoch = minimum_mathing_distance(sample_data, gt_data, batch_size)[0]\n",
    "    log_data = 'MMD %d %f' % (epoch, mmd_epoch)    \n",
    "    print log_data\n",
    "    fout.write(log_data + '\\n')\n",
    "fout.close()"
   ]
  }
 ],
 "metadata": {
  "kernelspec": {
   "display_name": "Python 2",
   "language": "python",
   "name": "python2"
  },
  "language_info": {
   "codemirror_mode": {
    "name": "ipython",
    "version": 2
   },
   "file_extension": ".py",
   "mimetype": "text/x-python",
   "name": "python",
   "nbconvert_exporter": "python",
   "pygments_lexer": "ipython2",
   "version": "2.7.6"
  }
 },
 "nbformat": 4,
 "nbformat_minor": 2
}
