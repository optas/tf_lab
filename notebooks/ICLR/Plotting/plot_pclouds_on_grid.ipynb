{
 "cells": [
  {
   "cell_type": "code",
   "execution_count": null,
   "metadata": {
    "collapsed": true
   },
   "outputs": [],
   "source": [
    "top_fig_dir = '/orions4-zfs/projects/optas/DATA/OUT/iclr/images/\n",
    "\n",
    "# /OUT/nips/images/' + ae_tag + '_'\n",
    "# top_fig_dir = create_dir(osp.join(top_fig_dir, ae_tag + 'epoch_50'))\n",
    "# syn_data = our_data \n",
    "# # Fix above\n",
    "\n",
    "# size = 100\n",
    "# rids = np.random.choice(range(len(syn_data)), size=size, replace=False)\n",
    "# plt.ioff()\n",
    "\n",
    "# for i in range(size):\n",
    "#     fig = Point_Cloud(syn_data[rids[i]]).plot(show=False, show_axis=False, azim=290, in_u_sphere=False, s=20);\n",
    "#     fig.savefig(osp.join(top_fig_dir, 'sample_' +str(i)))\n",
    "#     plt.close()\n",
    "\n",
    "# file_names = glob.glob(top_fig_dir +'/*.png')\n",
    "# stack_images_in_square_grid(file_names, save_file= osp.join(top_fig_dir, 'aggregate_samples.png'));\n",
    "# plt.ion()"
   ]
  }
 ],
 "metadata": {
  "kernelspec": {
   "display_name": "Python 2",
   "language": "python",
   "name": "python2"
  },
  "language_info": {
   "codemirror_mode": {
    "name": "ipython",
    "version": 2
   },
   "file_extension": ".py",
   "mimetype": "text/x-python",
   "name": "python",
   "nbconvert_exporter": "python",
   "pygments_lexer": "ipython2",
   "version": "2.7.6"
  }
 },
 "nbformat": 4,
 "nbformat_minor": 2
}
