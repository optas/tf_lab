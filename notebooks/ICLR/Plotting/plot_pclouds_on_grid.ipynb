{
 "cells": [
  {
   "cell_type": "code",
   "execution_count": 1,
   "metadata": {
    "collapsed": true
   },
   "outputs": [],
   "source": [
    "import numpy as np\n",
    "import os.path as osp\n",
    "\n",
    "from tf_lab.nips.helper import pclouds_centered_and_half_sphere\n",
    "from general_tools.in_out.basics import create_dir\n",
    "\n",
    "import matplotlib.pylab as plt\n",
    "import glob\n",
    "from geo_tool import Point_Cloud\n",
    "\n",
    "from general_tools.plotting import stack_images_in_square_grid"
   ]
  },
  {
   "cell_type": "code",
   "execution_count": 2,
   "metadata": {
    "collapsed": true
   },
   "outputs": [],
   "source": [
    "%matplotlib inline"
   ]
  },
  {
   "cell_type": "code",
   "execution_count": 3,
   "metadata": {
    "collapsed": false
   },
   "outputs": [],
   "source": [
    "top_fig_dir = '/orions4-zfs/projects/optas/DATA/OUT/iclr/images/aggregate_samples'"
   ]
  },
  {
   "cell_type": "code",
   "execution_count": 4,
   "metadata": {
    "collapsed": false
   },
   "outputs": [],
   "source": [
    "sample_dir = '/orions4-zfs/projects/optas/DATA/OUT/iclr/synthetic_samples/l_w_gan/l_w_gan_achlioptas_snc_5_medium_mlp_with_split_1pc_usampled_emd_bneck_128'\n",
    "epoch = 1000\n",
    "experiment_tag = osp.basename(sample_dir) + '_' + str(epoch) + '_epoch'\n",
    "out_dir = create_dir(osp.join(top_fig_dir, experiment_tag))"
   ]
  },
  {
   "cell_type": "code",
   "execution_count": 5,
   "metadata": {
    "collapsed": false
   },
   "outputs": [],
   "source": [
    "sample_file = osp.join(sample_dir, 'epoch_%d.npz' % (epoch,) )\n",
    "sample_data = np.load(sample_file)\n",
    "sample_data = sample_data[sample_data.keys()[0]]\n",
    "sample_data = pclouds_centered_and_half_sphere(sample_data)"
   ]
  },
  {
   "cell_type": "code",
   "execution_count": 8,
   "metadata": {
    "collapsed": false
   },
   "outputs": [
    {
     "name": "stderr",
     "output_type": "stream",
     "text": [
      "/usr/lib/pymodules/python2.7/matplotlib/collections.py:548: FutureWarning: elementwise comparison failed; returning scalar instead, but in the future will perform elementwise comparison\n",
      "  if self._edgecolors == 'face':\n"
     ]
    }
   ],
   "source": [
    "n_images = 100\n",
    "rids = np.random.choice(range(len(sample_data)), size=n_images, replace=False)\n",
    "plt.ioff()\n",
    "\n",
    "for i in range(n_images):\n",
    "    fig = Point_Cloud(sample_data[rids[i]]).plot(show=False, show_axis=False, azim=240, in_u_sphere=False, s=20);\n",
    "    fig.savefig(osp.join(out_dir, 'sample_' + str(i)))\n",
    "    plt.close()\n",
    "\n",
    "file_names = glob.glob(out_dir +'/*.png')\n",
    "stack_images_in_square_grid(file_names, save_file=osp.join(out_dir, 'aggregate_samples.png'));\n",
    "plt.ion()"
   ]
  }
 ],
 "metadata": {
  "kernelspec": {
   "display_name": "Python 2",
   "language": "python",
   "name": "python2"
  },
  "language_info": {
   "codemirror_mode": {
    "name": "ipython",
    "version": 2
   },
   "file_extension": ".py",
   "mimetype": "text/x-python",
   "name": "python",
   "nbconvert_exporter": "python",
   "pygments_lexer": "ipython2",
   "version": "2.7.6"
  }
 },
 "nbformat": 4,
 "nbformat_minor": 2
}
