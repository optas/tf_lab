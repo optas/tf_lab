{
 "cells": [
  {
   "cell_type": "code",
   "execution_count": 16,
   "metadata": {
    "collapsed": true
   },
   "outputs": [],
   "source": [
    "import numpy as np\n",
    "import os.path as osp\n",
    "\n",
    "from tf_lab.nips.helper import pclouds_centered_and_half_sphere\n",
    "from general_tools.in_out.basics import create_dir\n",
    "\n",
    "import matplotlib.pylab as plt\n",
    "import glob\n",
    "from geo_tool import Point_Cloud\n",
    "\n",
    "from general_tools.plotting import stack_images_in_square_grid"
   ]
  },
  {
   "cell_type": "code",
   "execution_count": 18,
   "metadata": {
    "collapsed": true
   },
   "outputs": [],
   "source": [
    "%matplotlib inline"
   ]
  },
  {
   "cell_type": "code",
   "execution_count": 33,
   "metadata": {
    "collapsed": false
   },
   "outputs": [],
   "source": [
    "top_fig_dir = '/orions4-zfs/projects/optas/DATA/OUT/iclr/images/aggregate_samples'\n",
    "experiment_tag = 'one_lwgan'\n",
    "out_dir = create_dir(osp.join(top_fig_dir, experiment_tag))"
   ]
  },
  {
   "cell_type": "code",
   "execution_count": 34,
   "metadata": {
    "collapsed": false
   },
   "outputs": [],
   "source": [
    "epoch = 500\n",
    "sample_file = osp.join(sample_dir, 'epoch_%d.npz' % (epoch,) )\n",
    "sample_data = np.load(sample_file)\n",
    "sample_data = sample_data[sample_data.keys()[0]]\n",
    "sample_data = pclouds_centered_and_half_sphere(sample_data)"
   ]
  },
  {
   "cell_type": "code",
   "execution_count": 35,
   "metadata": {
    "collapsed": true
   },
   "outputs": [],
   "source": [
    "# sample_dir = '/orions4-zfs/projects/optas/DATA/OUT/iclr/synthetic_samples/r_gan/chair_mlp_disc_4_fc_gen_raw_gan_2048_pts'\n",
    "sample_dir = '/orions4-zfs/projects/optas/DATA/OUT/iclr/synthetic_samples/l_wgan_chair_disc_512_1024_emd_bneck_128/lam_10/'"
   ]
  },
  {
   "cell_type": "code",
   "execution_count": 36,
   "metadata": {
    "collapsed": false
   },
   "outputs": [],
   "source": [
    "n_images = 30\n",
    "rids = np.random.choice(range(len(sample_data)), size=n_images, replace=False)\n",
    "plt.ioff()\n",
    "\n",
    "for i in range(n_images):\n",
    "    fig = Point_Cloud(sample_data[rids[i]]).plot(show=False, show_axis=False, azim=290, in_u_sphere=False, s=20);\n",
    "    fig.savefig(osp.join(out_dir, 'sample_' +str(i)))\n",
    "    plt.close()\n",
    "\n",
    "file_names = glob.glob(out_dir +'/*.png')\n",
    "stack_images_in_square_grid(file_names, save_file=osp.join(out_dir, 'aggregate_samples.png'));\n",
    "plt.ion()"
   ]
  }
 ],
 "metadata": {
  "kernelspec": {
   "display_name": "Python 2",
   "language": "python",
   "name": "python2"
  },
  "language_info": {
   "codemirror_mode": {
    "name": "ipython",
    "version": 2
   },
   "file_extension": ".py",
   "mimetype": "text/x-python",
   "name": "python",
   "nbconvert_exporter": "python",
   "pygments_lexer": "ipython2",
   "version": "2.7.6"
  }
 },
 "nbformat": 4,
 "nbformat_minor": 2
}
