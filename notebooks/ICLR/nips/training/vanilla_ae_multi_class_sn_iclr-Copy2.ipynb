{
 "cells": [
  {
   "cell_type": "code",
   "execution_count": 1,
   "metadata": {
    "collapsed": false,
    "deletable": true,
    "editable": true
   },
   "outputs": [
    {
     "name": "stdout",
     "output_type": "stream",
     "text": [
      "Picking GPU 0\n"
     ]
    }
   ],
   "source": [
    "from general_tools.notebook.gpu_utils import setup_one_gpu\n",
    "GPU = 0\n",
    "setup_one_gpu(GPU)"
   ]
  },
  {
   "cell_type": "code",
   "execution_count": 10,
   "metadata": {
    "collapsed": false,
    "deletable": true,
    "editable": true
   },
   "outputs": [],
   "source": [
    "import sys\n",
    "import time\n",
    "import numpy as np\n",
    "import os.path as osp\n",
    "import tensorflow as tf\n",
    "import matplotlib.pyplot as plt\n",
    "\n",
    "from general_tools.notebook.tf import reset_tf_graph\n",
    "from general_tools.in_out import create_dir\n",
    "from general_tools.in_out.basics import create_dir, delete_files_in_directory, files_in_subdirs\n",
    "\n",
    "from geo_tool import Point_Cloud\n",
    "\n",
    "from tf_lab.in_out.basics import Data_Splitter, read_saved_epochs\n",
    "from tf_lab.point_clouds.ae_templates import conv_architecture_ala_nips_17, default_train_params_ala_nips_17\n",
    "from tf_lab.point_clouds.encoders_decoders import encoder_with_convs_and_symmetry, decoder_with_fc_only\n",
    "from tf_lab.point_clouds.point_net_ae import PointNetAutoEncoder\n",
    "from tf_lab.point_clouds.autoencoder import Configuration as Conf\n",
    "from tf_lab.point_clouds.in_out import load_point_clouds_from_filenames, PointCloudDataSet\n",
    "from tf_lab.data_sets.shape_net import pc_loader as snc_loader\n",
    "from tf_lab.data_sets.shape_net import snc_category_to_synth_id\n",
    "\n",
    "from pc_completions.evaluation import basic_comletion_measures"
   ]
  },
  {
   "cell_type": "code",
   "execution_count": 3,
   "metadata": {
    "collapsed": false,
    "deletable": true,
    "editable": true
   },
   "outputs": [],
   "source": [
    "%load_ext autoreload\n",
    "%autoreload 2\n",
    "%matplotlib inline"
   ]
  },
  {
   "cell_type": "code",
   "execution_count": 7,
   "metadata": {
    "collapsed": true,
    "deletable": true,
    "editable": true
   },
   "outputs": [],
   "source": [
    "n_pc_samples = 2048\n",
    "do_training = True\n",
    "first_time_running = False\n",
    "load_model = True\n",
    "seed = 42\n",
    "max_training_epochs = 2000\n",
    "loss = 'chamfer'\n",
    "z_rotate = True\n",
    "experiment_name = '1_all_snc_rotated_conv_arch_with_bnorm_' + str(n_pc_samples) +  'pts_' + loss"
   ]
  },
  {
   "cell_type": "code",
   "execution_count": 5,
   "metadata": {
    "collapsed": false,
    "deletable": true,
    "editable": true
   },
   "outputs": [
    {
     "data": {
      "text/plain": [
       "'/orions4-zfs/projects/optas/DATA/OUT/iclr/nn_models/all_snc/1_all_snc_rotated_conv_arch_with_bnorm_2048pts_chamfer'"
      ]
     },
     "execution_count": 5,
     "metadata": {},
     "output_type": "execute_result"
    }
   ],
   "source": [
    "top_data_dir = '/orions4-zfs/projects/optas/DATA/'\n",
    "full_pclouds_path = osp.join(top_data_dir, 'Point_Clouds/Shape_Net/Core/from_manifold_meshes/centered/', str(n_pc_samples))\n",
    "train_dir = osp.join(top_data_dir, 'OUT/iclr/nn_models/all_snc', experiment_name)\n",
    "create_dir(train_dir)"
   ]
  },
  {
   "cell_type": "code",
   "execution_count": 6,
   "metadata": {
    "collapsed": false,
    "deletable": true,
    "editable": true,
    "scrolled": true
   },
   "outputs": [
    {
     "name": "stdout",
     "output_type": "stream",
     "text": [
      "57449 pclouds were loaded. They belong in 57 shape-classes.\n"
     ]
    },
    {
     "name": "stderr",
     "output_type": "stream",
     "text": [
      "/orions4-zfs/projects/optas/Git_Repos/tf_lab/point_clouds/in_out.py:38: UserWarning: Point clouds with the same model name were loaded.\n",
      "  warnings.warn('Point clouds with the same model name were loaded.')\n"
     ]
    }
   ],
   "source": [
    "n_threads = 40\n",
    "verbose = True\n",
    "full_file_names = [f for f in files_in_subdirs(full_pclouds_path, '.ply')]\n",
    "pclouds, model_names, syn_ids = load_point_clouds_from_filenames(full_file_names, n_threads, snc_loader, verbose)\n",
    "model_unames = model_names + '.' + syn_ids\n",
    "train_data = PointCloudDataSet(pclouds, labels=model_unames)"
   ]
  },
  {
   "cell_type": "code",
   "execution_count": 8,
   "metadata": {
    "collapsed": false,
    "deletable": true,
    "editable": true
   },
   "outputs": [
    {
     "name": "stdout",
     "output_type": "stream",
     "text": [
      "              allow_gpu_growth: False\n",
      "                    batch_size: 50\n",
      "                 consistent_io: None\n",
      "                         debug: False\n",
      "                       decoder: decoder_with_fc_only\n",
      "                  decoder_args: {'b_norm': True, 'layer_sizes': [512, 1024, 6144]}\n",
      "                       encoder: encoder_with_convs_and_symmetry\n",
      "                  encoder_args: {'filter_sizes': [16, 8, 4, 2, 2], 'strides': [1, 1, 1, 1, 1], 'n_filters': [128, 128, 256, 512, 512], 'dropout_prob': [0, 0, 0, 0, 0.5], 'b_norm': True}\n",
      "               experiment_name: 1_all_snc_rotated_conv_arch_with_bnorm_2048pts_chamfer\n",
      "                 gauss_augment: None\n",
      "                  is_denoising: False\n",
      "               latent_vs_recon: 1.0\n",
      "                 learning_rate: 0.0005\n",
      "                          loss: chamfer\n",
      "             loss_display_step: 1\n",
      "                       n_input: [2048, 3]\n",
      "                      n_output: [2048, 3]\n",
      "                           n_z: None\n",
      "             saver_max_to_keep: None\n",
      "                    saver_step: 10\n",
      "                     train_dir: /orions4-zfs/projects/optas/DATA/OUT/iclr/nn_models/all_snc/1_all_snc_rotated_conv_arch_with_bnorm_2048pts_chamfer\n",
      "               training_epochs: 2000\n",
      "                      z_rotate: True\n",
      "\n"
     ]
    }
   ],
   "source": [
    "n_input = [n_pc_samples, 3]\n",
    "\n",
    "encoder_args = {'n_filters': [128, 128, 256, 512, 512],\n",
    "                'filter_sizes': [16, 8, 4, 2, 2],\n",
    "                'strides': [1, 1, 1, 1, 1],\n",
    "                'b_norm': True,\n",
    "                'dropout_prob': [0, 0, 0, 0, 0.5]\n",
    "               }\n",
    "\n",
    "decoder_args = {'layer_sizes': [512, 1024, np.prod(n_input)],\n",
    "                'b_norm': True\n",
    "               }\n",
    "\n",
    "if load_model:\n",
    "    conf = Conf.load(osp.join(train_dir, 'configuration'))\n",
    "    print conf\n",
    "    \n",
    "else:    \n",
    "    conf = Conf(\n",
    "                n_input = n_input,\n",
    "                training_epochs = max_training_epochs,\n",
    "                batch_size = 50,\n",
    "                loss = loss,\n",
    "                denoising = False,\n",
    "                train_dir = train_dir,\n",
    "                loss_display_step = 1,\n",
    "                saver_step = 10,\n",
    "                learning_rate = 0.0005,\n",
    "                z_rotate = z_rotate,\n",
    "                encoder = encoder_with_convs_and_symmetry,\n",
    "                encoder_args = encoder_args,\n",
    "                decoder = decoder_with_fc_only,\n",
    "                decoder_args = decoder_args,            \n",
    "               )\n",
    "    conf.allow_gpu_growth = False\n",
    "    conf.experiment_name = experiment_name\n",
    "    conf.save(osp.join(conf.train_dir, 'configuration'))"
   ]
  },
  {
   "cell_type": "code",
   "execution_count": 11,
   "metadata": {
    "collapsed": false
   },
   "outputs": [
    {
     "name": "stdout",
     "output_type": "stream",
     "text": [
      "Model restored in epoch 610.\n"
     ]
    }
   ],
   "source": [
    "reset_tf_graph()\n",
    "ae = PointNetAutoEncoder(experiment_name, conf)\n",
    "\n",
    "if load_model:\n",
    "    saved_epochs = read_saved_epochs(conf.train_dir)\n",
    "    last_epoch = saved_epochs[-1]\n",
    "    ae.restore_model(conf.train_dir, last_epoch, verbose=True)"
   ]
  },
  {
   "cell_type": "code",
   "execution_count": null,
   "metadata": {
    "collapsed": false,
    "deletable": true,
    "editable": true
   },
   "outputs": [],
   "source": [
    "if do_training:\n",
    "    buf_size = 1 # flush each line\n",
    "    fout = open(osp.join(conf.train_dir, 'train_stats.txt'), 'a', buf_size)    \n",
    "    train_stats = ae.train(train_data, conf, log_file=fout)\n",
    "    fout.close()"
   ]
  }
 ],
 "metadata": {
  "kernelspec": {
   "display_name": "Python 2",
   "language": "python",
   "name": "python2"
  },
  "language_info": {
   "codemirror_mode": {
    "name": "ipython",
    "version": 2
   },
   "file_extension": ".py",
   "mimetype": "text/x-python",
   "name": "python",
   "nbconvert_exporter": "python",
   "pygments_lexer": "ipython2",
   "version": "2.7.6"
  }
 },
 "nbformat": 4,
 "nbformat_minor": 0
}
