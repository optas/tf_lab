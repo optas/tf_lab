{
 "cells": [
  {
   "cell_type": "code",
   "execution_count": 1,
   "metadata": {
    "collapsed": false,
    "deletable": true,
    "editable": true
   },
   "outputs": [
    {
     "name": "stdout",
     "output_type": "stream",
     "text": [
      "Picking GPU 2\n"
     ]
    }
   ],
   "source": [
    "from general_tools.notebook.gpu_utils import setup_one_gpu\n",
    "GPU = 2\n",
    "setup_one_gpu(GPU)"
   ]
  },
  {
   "cell_type": "code",
   "execution_count": 2,
   "metadata": {
    "collapsed": false,
    "deletable": true,
    "editable": true
   },
   "outputs": [],
   "source": [
    "import sys\n",
    "import time\n",
    "import numpy as np\n",
    "import os.path as osp\n",
    "import tensorflow as tf\n",
    "import matplotlib.pyplot as plt\n",
    "\n",
    "from general_tools.notebook.tf import reset_tf_graph\n",
    "from general_tools.in_out.basics import create_dir, files_in_subdirs\n",
    "\n",
    "from geo_tool import Point_Cloud\n",
    "\n",
    "from tf_lab.point_clouds.autoencoder import Configuration as Conf\n",
    "from tf_lab.data_sets.shape_net import snc_category_to_synth_id\n",
    "\n",
    "from tf_lab.iclr.helper import find_best_validation_epoch_from_train_stats\n",
    "from tf_lab.point_clouds.convenience import get_latent_codes"
   ]
  },
  {
   "cell_type": "code",
   "execution_count": 3,
   "metadata": {
    "collapsed": false
   },
   "outputs": [],
   "source": [
    "from tf_lab.voxels.soup import load_voxel_grids_from_filenames, plot_isosurface, \\\n",
    "                               read_tartachenko_car_bin_vox, read_bin_vox_file,\\\n",
    "                               load_data_for_rebuttal, reconstruct_voxels,\\\n",
    "                               uniform_sampling_of_voxels\n",
    "                            \n",
    "        \n",
    "from tf_lab.voxels.voxel_ae import Voxel_AE\n",
    "from sklearn import mixture\n",
    "from general_tools.simpletons import iterate_in_chunks"
   ]
  },
  {
   "cell_type": "code",
   "execution_count": 4,
   "metadata": {
    "collapsed": true
   },
   "outputs": [],
   "source": [
    "from tf_lab.iclr.evaluator import Evaluator"
   ]
  },
  {
   "cell_type": "code",
   "execution_count": 5,
   "metadata": {
    "collapsed": false,
    "deletable": true,
    "editable": true
   },
   "outputs": [],
   "source": [
    "%load_ext autoreload\n",
    "%autoreload 2\n",
    "%matplotlib inline"
   ]
  },
  {
   "cell_type": "code",
   "execution_count": 15,
   "metadata": {
    "collapsed": true
   },
   "outputs": [],
   "source": [
    "experiment_tag = 'sn_vox_data'\n",
    "# experiment_tag = 'phuoc_data'\n",
    "load_phuoc = False\n",
    "load_tartachenko = False\n",
    "vox_resolution = 32\n",
    "b_neck = 64\n",
    "occupied_thres = 0.5\n",
    "n_pc_points = 2048\n",
    "class_name = 'chair'\n",
    "n_clusters = 32\n",
    "cov_t = 'full'\n",
    "\n",
    "ae_experiment_name = '_'.join(['ae', class_name, experiment_tag, str(vox_resolution), \n",
    "                               'voxels', str(b_neck), 'bneck'])"
   ]
  },
  {
   "cell_type": "code",
   "execution_count": 16,
   "metadata": {
    "collapsed": true
   },
   "outputs": [],
   "source": [
    "top_data_dir = '/orions4-zfs/projects/optas/DATA/'\n",
    "top_syn_dir = osp.join(top_data_dir, 'OUT/iclr/synthetic_samples/voxel_based/gmm')"
   ]
  },
  {
   "cell_type": "code",
   "execution_count": 18,
   "metadata": {
    "collapsed": false
   },
   "outputs": [
    {
     "name": "stdout",
     "output_type": "stream",
     "text": [
      "['voxels', 'labels']\n",
      "['voxels', 'labels']\n",
      "['voxels', 'labels']\n"
     ]
    }
   ],
   "source": [
    "voxel_data = load_data_for_rebuttal(load_tartachenko=False, load_phuoc=False, \n",
    "                                    class_name=class_name, resolution=vox_resolution)"
   ]
  },
  {
   "cell_type": "code",
   "execution_count": 19,
   "metadata": {
    "collapsed": false
   },
   "outputs": [
    {
     "name": "stdout",
     "output_type": "stream",
     "text": [
      "INFO:tensorflow:Restoring parameters from /orions4-zfs/projects/optas/DATA/OUT/iclr/nn_models/ae_chair_sn_vox_data_32_voxels_64_bneck/models.ckpt-90\n",
      "Model restored in epoch 90.\n",
      "0.061954306\n"
     ]
    }
   ],
   "source": [
    "train_dir = osp.join(top_data_dir, 'OUT/iclr/nn_models/', ae_experiment_name)\n",
    "ae_conf = Conf.load(osp.join(train_dir, 'configuration'))\n",
    "reset_tf_graph()\n",
    "ae = Voxel_AE(ae_conf.experiment_name, ae_conf)\n",
    "val_error, best_epoch = find_best_validation_epoch_from_train_stats(osp.join(train_dir, 'train_stats.txt'))\n",
    "ae.restore_model(ae_conf.train_dir, best_epoch, verbose=True)\n",
    "print val_error\n",
    "latent_codes = get_latent_codes(ae, voxel_data['train'].voxels)"
   ]
  },
  {
   "cell_type": "code",
   "execution_count": 20,
   "metadata": {
    "collapsed": false
   },
   "outputs": [],
   "source": [
    "gmm = mixture.GaussianMixture(n_clusters, cov_t)\n",
    "gmm.fit(np.squeeze(latent_codes))\n",
    "n_syn_samples = len(latent_codes)\n",
    "gmm_syn_data = gmm.sample(n_syn_samples)[0]\n",
    "gmm_syn_data = gmm_syn_data.reshape(n_syn_samples, 1, 1, 1, b_neck)"
   ]
  },
  {
   "cell_type": "code",
   "execution_count": 21,
   "metadata": {
    "collapsed": false
   },
   "outputs": [],
   "source": [
    "syn_decoded = np.zeros(shape=(n_syn_samples, vox_resolution, vox_resolution, vox_resolution))\n",
    "for idx in iterate_in_chunks(range(n_syn_samples), 100):\n",
    "    dec = ae.decode(gmm_syn_data[idx])\n",
    "    dec = np.squeeze(dec)\n",
    "    dec = ae.sess.run(tf.nn.sigmoid(dec))\n",
    "    syn_decoded[idx] = dec"
   ]
  },
  {
   "cell_type": "code",
   "execution_count": 22,
   "metadata": {
    "collapsed": false
   },
   "outputs": [],
   "source": [
    "syn_out_dir = osp.join(top_syn_dir, ae_experiment_name)\n",
    "create_dir(syn_out_dir)\n",
    "syn_pcs = uniform_sampling_of_voxels(syn_decoded, n_pc_points, occupied_thres)\n",
    "np.savez(osp.join(syn_out_dir, 'samples'),  syn_pcs)"
   ]
  }
 ],
 "metadata": {
  "kernelspec": {
   "display_name": "TensorFlow1",
   "language": "python",
   "name": "tf1"
  },
  "language_info": {
   "codemirror_mode": {
    "name": "ipython",
    "version": 2
   },
   "file_extension": ".py",
   "mimetype": "text/x-python",
   "name": "python",
   "nbconvert_exporter": "python",
   "pygments_lexer": "ipython2",
   "version": "2.7.6"
  }
 },
 "nbformat": 4,
 "nbformat_minor": 2
}
