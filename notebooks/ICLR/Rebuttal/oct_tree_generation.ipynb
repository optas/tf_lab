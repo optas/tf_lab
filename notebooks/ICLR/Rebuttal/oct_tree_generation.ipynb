{
 "cells": [
  {
   "cell_type": "code",
   "execution_count": 11,
   "metadata": {
    "collapsed": false
   },
   "outputs": [],
   "source": [
    "import numpy as np\n",
    "from external_tools.python_octree import octree_to_voxel_grid, import_ot\n",
    "from tf_lab.voxels.soup import plot_isosurface, uniform_sampling_of_voxels\n",
    "from geo_tool import Point_Cloud"
   ]
  },
  {
   "cell_type": "code",
   "execution_count": 2,
   "metadata": {
    "collapsed": true
   },
   "outputs": [],
   "source": [
    "%matplotlib inline"
   ]
  },
  {
   "cell_type": "code",
   "execution_count": 8,
   "metadata": {
    "collapsed": true
   },
   "outputs": [],
   "source": [
    "import os.path as osp\n",
    "from multiprocessing import Pool\n",
    "# from functools import partial\n",
    "# from multiprocessing.dummy import Pool\n",
    "# from subprocess import call\n",
    "from general_tools.in_out.basics import files_in_subdirs"
   ]
  },
  {
   "cell_type": "code",
   "execution_count": 98,
   "metadata": {
    "collapsed": false
   },
   "outputs": [],
   "source": [
    "# Parameters\n",
    "n_threads = 30\n",
    "n_pc_samples = 2048\n",
    "top_oct_dir = '/data/kaichun/shapeGen/ogn_exps/ogn-autoencoder/panos_decoded_chair_output/'\n",
    "top_out_dir = '/orions4-zfs/projects/optas/DATA/OUT/iclr/synthetic_samples/octree_based/gmm/'\n",
    "# top_out_dir = osp.join(top_out_dir, str(n_pc_samples) + osp.sep)\n",
    "# copy_folder_structure(top_mesh_dir, top_out_dir)"
   ]
  },
  {
   "cell_type": "code",
   "execution_count": 9,
   "metadata": {
    "collapsed": false
   },
   "outputs": [
    {
     "name": "stdout",
     "output_type": "stream",
     "text": [
      "5712\n"
     ]
    }
   ],
   "source": [
    "ending = '.ot'\n",
    "search_pattern = ending + '$'\n",
    "all_in_files = [f for f in files_in_subdirs(top_oct_dir, search_pattern)]\n",
    "print len(all_in_files)"
   ]
  },
  {
   "cell_type": "code",
   "execution_count": 41,
   "metadata": {
    "collapsed": false
   },
   "outputs": [],
   "source": [
    "# def oct_tree_to_pc(ot_file, oct_res, n_pc_points, out_f):\n",
    "#     ot_struct, _ = import_ot(ot_file)\n",
    "#     voxels = octree_to_voxel_grid(ot_struct, oct_res)\n",
    "# #     .astype(np.bool)\n",
    "# #     voxels = np.expand_dims(voxels, -1)        \n",
    "#     syn_pcs = uniform_sampling_of_voxels(voxels, n_pc_points, 0, only_lcc=False)\n",
    "#     return syn_pcs\n",
    "    \n",
    "# # print len(all_in_files)"
   ]
  },
  {
   "cell_type": "code",
   "execution_count": 70,
   "metadata": {
    "collapsed": false
   },
   "outputs": [],
   "source": [
    "oct_res = 128\n",
    "n_pc_points = 2048\n",
    "syn_pcs = np.zeros(shape=(len(all_in_files), n_pc_points, 3))\n",
    "  \n",
    "for i, ot_file in enumerate(all_in_files):\n",
    "    ot_struct, _ = import_ot(ot_file)\n",
    "    voxels = octree_to_voxel_grid(ot_struct, oct_res).astype(np.bool)\n",
    "    voxels = np.expand_dims(voxels, 0)        \n",
    "    syn_pcs[i] = uniform_sampling_of_voxels(voxels, n_pc_points, 0, only_lcc=False)[0]    "
   ]
  },
  {
   "cell_type": "code",
   "execution_count": 89,
   "metadata": {
    "collapsed": false
   },
   "outputs": [
    {
     "name": "stdout",
     "output_type": "stream",
     "text": [
      "bneck_128_full_32_gaussians.npz\r\n"
     ]
    }
   ],
   "source": [
    "ls /orions4-zfs/projects/optas/DATA/OUT/iclr/synthetic_samples/gmm/gmm_emd_rifle/"
   ]
  },
  {
   "cell_type": "code",
   "execution_count": 99,
   "metadata": {
    "collapsed": false
   },
   "outputs": [
    {
     "data": {
      "text/plain": [
       "'/orions4-zfs/projects/optas/DATA/OUT/iclr/synthetic_samples/octree_based/gmm/bneck_256_full_32_gaussians'"
      ]
     },
     "execution_count": 99,
     "metadata": {},
     "output_type": "execute_result"
    }
   ],
   "source": [
    "osp.join(top_out_dir, 'bneck_256_full_32_gaussians')"
   ]
  },
  {
   "cell_type": "code",
   "execution_count": 100,
   "metadata": {
    "collapsed": false
   },
   "outputs": [],
   "source": [
    "np.savez(osp.join(top_out_dir, '2048_pts_bneck_256_full_32_gaussians'), syn_pcs)"
   ]
  },
  {
   "cell_type": "code",
   "execution_count": null,
   "metadata": {
    "collapsed": true
   },
   "outputs": [],
   "source": [
    "n_threads = 26\n",
    "def ot_pc_sampler(ot_file):\n",
    "    oct_res = 128\n",
    "    n_pc_points = 2048\n",
    "    ot_struct, _ = import_ot(ot_file)\n",
    "    voxels = octree_to_voxel_grid(ot_struct, oct_res).astype(np.bool)\n",
    "    voxels = np.expand_dims(voxels, 0)\n",
    "    return uniform_sampling_of_voxels(voxels, n_pc_points, 0, only_lcc=False)[0]\n",
    "\n",
    "n_pc_points = 2048\n",
    "syn_pcs = np.zeros(shape=(len(all_in_files), n_pc_points, 3))\n",
    "pool = Pool(n_threads)\n",
    "\n",
    "for i, data in enumerate(pool.imap(ot_pc_sampler, all_in_files)):\n",
    "    syn_pcs[i] = data\n",
    "    \n",
    "pool.close()\n",
    "pool.join()"
   ]
  }
 ],
 "metadata": {
  "kernelspec": {
   "display_name": "TensorFlow1",
   "language": "python",
   "name": "tf1"
  },
  "language_info": {
   "codemirror_mode": {
    "name": "ipython",
    "version": 2
   },
   "file_extension": ".py",
   "mimetype": "text/x-python",
   "name": "python",
   "nbconvert_exporter": "python",
   "pygments_lexer": "ipython2",
   "version": "2.7.6"
  }
 },
 "nbformat": 4,
 "nbformat_minor": 2
}
