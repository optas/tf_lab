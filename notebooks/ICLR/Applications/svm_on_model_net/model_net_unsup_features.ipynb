{
 "cells": [
  {
   "cell_type": "code",
   "execution_count": 1,
   "metadata": {
    "collapsed": false,
    "deletable": true,
    "editable": true
   },
   "outputs": [
    {
     "name": "stdout",
     "output_type": "stream",
     "text": [
      "Picking GPU 2\n"
     ]
    }
   ],
   "source": [
    "from general_tools.notebook import gpu_utils\n",
    "GPU = 2\n",
    "gpu_utils.setup_one_gpu(GPU)"
   ]
  },
  {
   "cell_type": "code",
   "execution_count": 2,
   "metadata": {
    "collapsed": false,
    "deletable": true,
    "editable": true
   },
   "outputs": [],
   "source": [
    "import sys\n",
    "import time\n",
    "import numpy as np\n",
    "import os.path as osp\n",
    "import tensorflow as tf\n",
    "import matplotlib.pyplot as plt\n",
    "from scipy.stats import hmean\n",
    "from sklearn.manifold import TSNE\n",
    "\n",
    "from general_tools.notebook.tf import reset_tf_graph\n",
    "\n",
    "import tf_lab.point_clouds.in_out as pio\n",
    "\n",
    "from tf_lab.point_clouds.in_out import load_point_clouds_from_filenames, PointCloudDataSet\n",
    "from tf_lab.point_clouds.point_net_ae import PointNetAutoEncoder\n",
    "from tf_lab.point_clouds.autoencoder import Configuration as Conf\n",
    "\n",
    "from tf_lab.in_out.basics import read_saved_epochs\n",
    "                                                  \n",
    "from general_tools.in_out.basics import create_dir, delete_files_in_directory, files_in_subdirs\n",
    "\n",
    "from geo_tool import Point_Cloud\n",
    "\n",
    "from tf_lab.data_sets.model_net import pc_loader, classes_to_integers\n",
    "from tf_lab.nips.helper import center_pclouds_in_unit_sphere, average_per_class, zero_mean_half_sphere\n",
    "\n",
    "from sklearn.svm import LinearSVC"
   ]
  },
  {
   "cell_type": "code",
   "execution_count": 3,
   "metadata": {
    "collapsed": false,
    "deletable": true,
    "editable": true
   },
   "outputs": [],
   "source": [
    "%load_ext autoreload\n",
    "%autoreload 2\n",
    "%matplotlib inline"
   ]
  },
  {
   "cell_type": "code",
   "execution_count": 9,
   "metadata": {
    "collapsed": false,
    "deletable": true,
    "editable": true
   },
   "outputs": [],
   "source": [
    "n_pc_samples = 2048\n",
    "put_in_usphere = True\n",
    "model_net = '40'\n",
    "top_data_dir = '/orions4-zfs/projects/optas/DATA/'\n",
    "\n",
    "\n",
    "# experiment_name ='all_snc_rotated_conv_arch_2048pts_emd'\n",
    "# experiment_name ='wu_classes_rotated_convolutional_arch_2048pts_chamfer'\n",
    "# experiment_name ='wu_classes_rotated_convolutional_arch_2048pts_emd'\n",
    "# middle_dir = 'OUT/nips/nn_models/vanilla_ae/'\n",
    "\n",
    "# experiment_name = 'all_snc_rotated_mlp_arch_with_bnorm_on_encoder_3_pc2048pts_chamfer'\n",
    "# middle_dir = 'OUT/iclr/nn_models/all_snc'"
   ]
  },
  {
   "cell_type": "code",
   "execution_count": 6,
   "metadata": {
    "collapsed": false,
    "deletable": true,
    "editable": true
   },
   "outputs": [
    {
     "name": "stdout",
     "output_type": "stream",
     "text": [
      "              allow_gpu_growth: False\n",
      "                    batch_size: 50\n",
      "                 consistent_io: None\n",
      "                         debug: False\n",
      "                       decoder: decoder_with_fc_only\n",
      "                  decoder_args: {'layer_sizes': [1024, 2048, 6144]}\n",
      "                       encoder: encoder_with_convs_and_symmetry\n",
      "                  encoder_args: {'filter_sizes': [40, 20, 10, 10], 'n_filters': [128, 128, 256, 512], 'strides': [1, 2, 2, 1]}\n",
      "               experiment_name: all_snc_rotated_conv_arch_2048pts_chamfer\n",
      "                 gauss_augment: None\n",
      "                  is_denoising: False\n",
      "               latent_vs_recon: 1.0\n",
      "                 learning_rate: 0.0005\n",
      "                          loss: chamfer\n",
      "             loss_display_step: 1\n",
      "                       n_input: [2048, 3]\n",
      "                      n_output: [2048, 3]\n",
      "                           n_z: None\n",
      "             saver_max_to_keep: None\n",
      "                    saver_step: 10\n",
      "                     train_dir: /scr/optas/DATA/nips/nn_models/vanilla_ae/all_snc_rotated_conv_arch_2048pts_chamfer/\n",
      "               training_epochs: 2000\n",
      "                      z_rotate: True\n",
      "\n"
     ]
    }
   ],
   "source": [
    "# train_dir = osp.join(top_data_dir, middle_dir, experiment_name)\n",
    "experiment_name ='all_snc_rotated_conv_arch_2048pts_chamfer'\n",
    "train_dir = '/scr/optas/DATA/nips/nn_models/vanilla_ae/all_snc_rotated_conv_arch_2048pts_chamfer/'\n",
    "conf = Conf.load(osp.join(train_dir, 'configuration'))\n",
    "\n",
    "if conf.train_dir != train_dir: # added to address moving training-folder to other location\n",
    "    conf.train_dir = train_dir\n",
    "    conf.save(osp.join(conf.train_dir, 'configuration'))\n",
    "\n",
    "print conf\n",
    "conf.n_output = conf.n_input\n",
    "conf.allow_gpu_growth = True"
   ]
  },
  {
   "cell_type": "code",
   "execution_count": 7,
   "metadata": {
    "collapsed": false,
    "deletable": true,
    "editable": true
   },
   "outputs": [
    {
     "name": "stderr",
     "output_type": "stream",
     "text": [
      "/orions4-zfs/projects/optas/Git_Repos/tf_lab/point_clouds/encoders_decoders.py:95: UserWarning: Using old architecture.\n",
      "  warnings.warn('Using old architecture.')\n"
     ]
    },
    {
     "name": "stdout",
     "output_type": "stream",
     "text": [
      "Model restored in epoch 2000.\n"
     ]
    }
   ],
   "source": [
    "reset_tf_graph()\n",
    "ae = PointNetAutoEncoder(experiment_name, conf)\n",
    "saved_epochs = read_saved_epochs(conf.train_dir)\n",
    "last_epoch = saved_epochs[-1]\n",
    "ae.restore_model(conf.train_dir, last_epoch, verbose=True)"
   ]
  },
  {
   "cell_type": "code",
   "execution_count": 10,
   "metadata": {
    "collapsed": false,
    "deletable": true,
    "editable": true
   },
   "outputs": [],
   "source": [
    "model_net_dir = '/orions4-zfs/projects/optas/DATA/Point_Clouds/Model_Net_' + model_net +  '/from_manifold/'\n",
    "model_net_dir = osp.join(model_net_dir, str(n_pc_samples))\n",
    "\n",
    "search_pattern = '(.*)train(.*)\\.ply$'\n",
    "train_pc_files = [f for f in files_in_subdirs(model_net_dir, search_pattern)]\n",
    "\n",
    "search_pattern = '(.*)test(.*)\\.ply$'\n",
    "test_pc_files = [f for f in files_in_subdirs(model_net_dir, search_pattern)]"
   ]
  },
  {
   "cell_type": "code",
   "execution_count": 11,
   "metadata": {
    "collapsed": false,
    "deletable": true,
    "editable": true
   },
   "outputs": [
    {
     "name": "stdout",
     "output_type": "stream",
     "text": [
      "9841 pclouds were loaded. They belong in 40 shape-classes.\n",
      "2467 pclouds were loaded. They belong in 40 shape-classes.\n"
     ]
    }
   ],
   "source": [
    "verbose = True\n",
    "n_threads = 20\n",
    "put_in_usphere = True\n",
    "pc, model_names, labels = load_point_clouds_from_filenames(train_pc_files, n_threads, pc_loader, verbose)\n",
    "\n",
    "if put_in_usphere:\n",
    "#     pc = center_pclouds_in_unit_sphere(pc)\n",
    "    pc = zero_mean_half_sphere(pc)\n",
    "    \n",
    "train_data = PointCloudDataSet(pc, labels=labels)\n",
    "\n",
    "pc, model_names, labels = load_point_clouds_from_filenames(test_pc_files, n_threads, pc_loader, verbose)\n",
    "\n",
    "if put_in_usphere:\n",
    "#     pc = center_pclouds_in_unit_sphere(pc)\n",
    "    pc = zero_mean_half_sphere(pc)\n",
    "    \n",
    "test_data = PointCloudDataSet(pc, labels=labels)"
   ]
  },
  {
   "cell_type": "code",
   "execution_count": null,
   "metadata": {
    "collapsed": false,
    "deletable": true,
    "editable": true
   },
   "outputs": [],
   "source": [
    "train_feed, train_latent, train_classes = ae.embedding_at_tensor(train_data, conf, tensor_name='bottleneck')\n",
    "cids = classes_to_integers(int(model_net), train_classes)[1]\n",
    "\n",
    "test_feed, test_latent, test_classes = ae.embedding_at_tensor(test_data, conf, tensor_name='bottleneck')\n",
    "cids_ = classes_to_integers(int(model_net), test_classes)[1]"
   ]
  },
  {
   "cell_type": "code",
   "execution_count": null,
   "metadata": {
    "collapsed": false,
    "deletable": true,
    "editable": true
   },
   "outputs": [
    {
     "name": "stdout",
     "output_type": "stream",
     "text": [
      "2.0 0.5 False squared_hinge\n",
      "0.84004130967\n",
      "2.0 0.5 True hinge\n",
      "0.854579865361\n",
      "2.0 0.5 True squared_hinge\n",
      "0.839582007344\n",
      "2.0 1 False squared_hinge\n",
      "0.840332007344\n",
      "2.0 1 True hinge\n",
      "0.854620563035\n",
      "2.0 1 True squared_hinge\n",
      "0.841000611995\n",
      "2.0 2 False squared_hinge\n",
      "0.840582007344\n",
      "2.0 2 True hinge\n",
      "0.853554773562\n",
      "2.0 2 True squared_hinge\n",
      "0.840163402693\n",
      "2.0 3 False squared_hinge\n",
      "0.840122705018\n",
      "2.0 3 True hinge\n",
      "0.856289167687\n",
      "2.0 3 True squared_hinge\n",
      "0.836975520196\n",
      "2.0 4 False squared_hinge\n",
      "0.840413402693\n",
      "2.0 4 True hinge\n",
      "0.853723378213\n",
      "2.0 4 True squared_hinge\n",
      "0.839454100367\n",
      "3.0 0.5 False squared_hinge\n",
      "0.833103427173\n",
      "3.0 0.5 True hinge\n",
      "0.846744798042\n",
      "3.0 0.5 True squared_hinge\n",
      "0.830144124847\n",
      "3.0 1 False squared_hinge\n",
      "0.834394124847\n",
      "3.0 1 True hinge\n",
      "0.842954100367\n",
      "3.0 1 True squared_hinge\n",
      "0.832934822521\n",
      "3.0 2 False squared_hinge\n",
      "0.835434822521\n",
      "3.0 2 True hinge\n",
      "0.842913402693\n",
      "3.0 2 True squared_hinge\n",
      "0.830394124847\n",
      "3.0 3 False squared_hinge\n",
      "0.83501621787\n",
      "3.0 3 True hinge\n",
      "0.845269889841\n",
      "3.0 3 True squared_hinge\n",
      "0.82726621787\n",
      "3.0 4 False squared_hinge\n",
      "0.835306915545\n",
      "3.0 4 True hinge\n",
      "0.847519889841\n",
      "3.0 4 True squared_hinge\n",
      "0.835872705018\n",
      "4.0 0.5 False squared_hinge\n",
      "0.829062729498\n",
      "4.0 0.5 True hinge\n",
      "0.841285495716\n",
      "4.0 0.5 True squared_hinge\n",
      "0.830853427173\n",
      "4.0 1 False squared_hinge\n",
      "0.830603427173\n",
      "4.0 1 True hinge\n",
      "0.84307619339\n",
      "4.0 1 True squared_hinge\n",
      "0.829231334149\n",
      "4.0 2 False squared_hinge\n",
      "0.830684822521\n",
      "4.0 2 True hinge\n",
      "0.841994798042\n",
      "4.0 2 True squared_hinge\n",
      "0.826843635251\n",
      "4.0 3 False squared_hinge\n",
      "0.831556915545\n",
      "4.0 3 True hinge\n",
      "0.840663402693\n",
      "4.0 3 True squared_hinge\n",
      "0.828068543452\n",
      "4.0 4 False squared_hinge\n",
      "0.832475520196\n",
      "4.0 4 True hinge\n",
      "0.845244798042\n",
      "4.0 4 True squared_hinge\n",
      "0.833975520196\n",
      "5.0 0.5 False squared_hinge\n",
      "0.828190636475\n",
      "5.0 0.5 True hinge\n",
      "0.839663402693\n",
      "5.0 0.5 True squared_hinge\n",
      "0.828547123623\n",
      "5.0 1 False squared_hinge\n",
      "0.829062729498\n",
      "5.0 1 True squared_hinge\n",
      "0.829190636475\n",
      "5.0 2 False squared_hinge\n",
      "0.830353427173\n",
      "5.0 2 True hinge\n",
      "0.840582007344\n"
     ]
    }
   ],
   "source": [
    "old_c_space = [0.1, 0.2, 0.3, 0.4, 0.5, 0.6, 0.7, 0.8, 0.9, 1.0]\n",
    "new_c_space = [2.0, 3.0, 4.0, 5.0]\n",
    "\n",
    "c_space = new_c_space\n",
    "\n",
    "intercept_scaling_space = [0.5, 1, 2, 3, 4]\n",
    "dual_space = [False, True]\n",
    "loss_space = ['hinge', 'squared_hinge']\n",
    "\n",
    "all_scores = dict()\n",
    "for c in c_space:\n",
    "    for intercept in intercept_scaling_space:\n",
    "        for dual in dual_space:\n",
    "            for loss in loss_space:\n",
    "                try:\n",
    "                    lsvc = LinearSVC(C=c, loss=loss, intercept_scaling=intercept, dual=dual)\n",
    "                    lsvc.fit(train_latent, cids)\n",
    "                    print c, intercept, dual, loss\n",
    "                    score = average_per_class(lsvc, test_latent, cids_)                \n",
    "                    print score\n",
    "                    all_scores[(c, intercept, dual, loss)] = score\n",
    "                except:\n",
    "                    continue"
   ]
  },
  {
   "cell_type": "code",
   "execution_count": null,
   "metadata": {
    "collapsed": true
   },
   "outputs": [],
   "source": [
    "# Fix script to find best parameter combination\n",
    "# from general_tools.simpletons import sort_dict_by_key\n",
    "# sort_dict_by_key(all_scores)\n",
    "\n",
    "# # def sort_dict_by_key(in_dict, reverse=False):\n",
    "# #     return sorted(in_dict.items(), key=operator.itemgetter(0), reverse=reverse)"
   ]
  },
  {
   "cell_type": "code",
   "execution_count": null,
   "metadata": {
    "collapsed": true
   },
   "outputs": [],
   "source": []
  },
  {
   "cell_type": "code",
   "execution_count": null,
   "metadata": {
    "collapsed": true
   },
   "outputs": [],
   "source": []
  },
  {
   "cell_type": "code",
   "execution_count": null,
   "metadata": {
    "collapsed": true
   },
   "outputs": [],
   "source": []
  },
  {
   "cell_type": "code",
   "execution_count": null,
   "metadata": {
    "collapsed": true
   },
   "outputs": [],
   "source": []
  },
  {
   "cell_type": "code",
   "execution_count": null,
   "metadata": {
    "collapsed": true
   },
   "outputs": [],
   "source": []
  },
  {
   "cell_type": "code",
   "execution_count": null,
   "metadata": {
    "collapsed": true
   },
   "outputs": [],
   "source": []
  },
  {
   "cell_type": "code",
   "execution_count": null,
   "metadata": {
    "collapsed": true,
    "deletable": true,
    "editable": true
   },
   "outputs": [],
   "source": [
    "# With WU 7 Classes:\n",
    "\n",
    "# M10, CD, 2K epochs\n",
    "# 0.4 4 True hinge\n",
    "# 0.95176744186\n",
    "\n",
    "# M40, CD, 2K epochs\n",
    "# 1.0 1 True hinge\n",
    "# 0.84410495716\n",
    "\n",
    "# M10, EMD, ~2.5K epochs\n",
    "# about 0.94\n",
    "\n",
    "# M40, EMD, ~2.5K epochs\n",
    "# about 0.83"
   ]
  },
  {
   "cell_type": "code",
   "execution_count": null,
   "metadata": {
    "collapsed": true,
    "deletable": true,
    "editable": true
   },
   "outputs": [],
   "source": [
    "\n",
    "# USING ALL ShapeNetCore DATA : ~57K models.\n",
    "# Training at (max) 2K epochs.\n",
    "\n",
    "# EMD, 2K, model_net_40\n",
    "# 1.0 3 False squared_hinge\n",
    "# 0.844814259486\n",
    "# 1.0 3 True squared_hinge\n",
    "# 0.844814259486\n",
    "\n",
    "# EMD, 2K, model_net_10\n",
    "# 0.4 2 True hinge\n",
    "# 0.953279069767\n",
    "\n",
    "\n",
    "# Chamfer, 2K model_net_40\n",
    "# 0.3 4 False squared_hinge\n",
    "# 0.856074051408\n",
    "# 0.3 4 True squared_hinge\n",
    "# 0.856074051408\n",
    "# 0.6 1 False squared_hinge\n",
    "# 0.856264075887\n",
    "# 0.3 4 False squared_hinge\n",
    "# 0.856074051408\n",
    "# 0.6 1 False squared_hinge\n",
    "# 0.856264075887\n",
    "# 0.6 1 True squared_hinge\n",
    "# 0.856264075887\n",
    "# 0.7 1 False squared_hinge\n",
    "# 0.856764075887\n",
    "\n",
    "# Chamfer, 2K model_net_10\n",
    "# 0.9 4 True hinge\n",
    "# 0.950790697674\n",
    "# 0.950790697674\n",
    "# 0.8 0.5 False squared_hinge\n",
    "\n",
    "# 1.0 4 True hinge\n",
    "# 0.950790697674\n",
    "# 1.0 3 True hinge\n",
    "# 0.950790697674\n",
    "# 0.9 4 True hinge\n",
    "# 0.950790697674\n",
    "\n",
    "# 0.7 4 True hinge\n",
    "# 0.950790697674\n",
    "\n",
    "\n"
   ]
  },
  {
   "cell_type": "code",
   "execution_count": null,
   "metadata": {
    "collapsed": true
   },
   "outputs": [],
   "source": [
    "# New stuff for ICLR\n",
    "# 1.  Chamfer\n",
    "# encoder_args: {'filter_sizes': [1, 1, 1, 1, 1], 'strides': [1, 1, 1, 1, 1], 'n_filters': [64, 128, 128, 256, 512], 'dropout_prob': [0, 0, 0, 0, 0.5], 'b_norm': True}\n",
    "# decoder_args: {'b_norm': True, 'layer_sizes': [512, 1024, 6144]}\n",
    "# -> @ 980 epochs of training: best was on model-net40:\n",
    "# 0.6 1 True hinge\n",
    "# 0.840083537332\n",
    "# -> @ 1620 epochs of training: best was on model-net40:\n",
    "# 0.4 2 False squared_hinge\n",
    "# 0.843783353733"
   ]
  }
 ],
 "metadata": {
  "kernelspec": {
   "display_name": "Python 2",
   "language": "python",
   "name": "python2"
  },
  "language_info": {
   "codemirror_mode": {
    "name": "ipython",
    "version": 2
   },
   "file_extension": ".py",
   "mimetype": "text/x-python",
   "name": "python",
   "nbconvert_exporter": "python",
   "pygments_lexer": "ipython2",
   "version": "2.7.6"
  }
 },
 "nbformat": 4,
 "nbformat_minor": 2
}
