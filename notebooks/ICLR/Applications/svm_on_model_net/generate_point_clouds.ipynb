{
 "cells": [
  {
   "cell_type": "code",
   "execution_count": 24,
   "metadata": {
    "collapsed": false,
    "deletable": true,
    "editable": true
   },
   "outputs": [],
   "source": [
    "from general_tools.in_out.basics import files_in_subdirs, copy_folder_structure\n",
    "from geo_tool import Point_Cloud, Mesh\n",
    "from geo_tool.solids import mesh_cleaning as cleaning\n",
    "import os.path as osp\n",
    "from multiprocessing import Pool\n",
    "from tf_lab.data_sets.model_net import pc_sampler"
   ]
  },
  {
   "cell_type": "code",
   "execution_count": 25,
   "metadata": {
    "collapsed": false,
    "deletable": true,
    "editable": true
   },
   "outputs": [
    {
     "name": "stdout",
     "output_type": "stream",
     "text": [
      "The autoreload extension is already loaded. To reload it, use:\n",
      "  %reload_ext autoreload\n"
     ]
    }
   ],
   "source": [
    "%load_ext autoreload\n",
    "%autoreload 2\n",
    "%matplotlib inline"
   ]
  },
  {
   "cell_type": "code",
   "execution_count": 26,
   "metadata": {
    "collapsed": false,
    "deletable": true,
    "editable": true
   },
   "outputs": [],
   "source": [
    "# Parameters\n",
    "n_threads = 50\n",
    "n_pc_samples = 2048\n",
    "top_mesh_dir = '/orions4-zfs/projects/optas/DATA/Meshes/Model_Net/Model_Net_40/OBJ_Original/'\n",
    "top_out_dir = '/orions4-zfs/projects/optas/DATA/Point_Clouds/Model_Net_40/Original/'\n",
    "top_out_dir = osp.join(top_out_dir, str(n_pc_samples) + osp.sep)\n",
    "copy_folder_structure(top_mesh_dir, top_out_dir)"
   ]
  },
  {
   "cell_type": "code",
   "execution_count": 27,
   "metadata": {
    "collapsed": false,
    "deletable": true,
    "editable": true
   },
   "outputs": [
    {
     "name": "stdout",
     "output_type": "stream",
     "text": [
      "12311\n"
     ]
    }
   ],
   "source": [
    "ending = '.obj'\n",
    "search_pattern = ending + '$'\n",
    "all_in_files = [f for f in files_in_subdirs(top_mesh_dir, search_pattern)]\n",
    "print len(all_in_files)"
   ]
  },
  {
   "cell_type": "code",
   "execution_count": 28,
   "metadata": {
    "collapsed": false,
    "deletable": true,
    "editable": true
   },
   "outputs": [
    {
     "name": "stdout",
     "output_type": "stream",
     "text": [
      "Starting a pool with 50 workers.\n"
     ]
    },
    {
     "name": "stderr",
     "output_type": "stream",
     "text": [
      "/orions4-zfs/projects/optas/Git_Repos/geo_tool/solids/mesh.py:325: RuntimeWarning: invalid value encountered in divide\n",
      "  face_areas = face_areas / np.sum(face_areas)\n",
      "/orions4-zfs/projects/optas/Git_Repos/geo_tool/solids/mesh.py:325: RuntimeWarning: invalid value encountered in divide\n",
      "  face_areas = face_areas / np.sum(face_areas)\n",
      "/orions4-zfs/projects/optas/Git_Repos/geo_tool/solids/mesh.py:353: RuntimeWarning: overflow encountered in long_scalars\n",
      "  sample_face_idx[acc: acc + _n_sample] = face_idx\n",
      "/orions4-zfs/projects/optas/Git_Repos/geo_tool/solids/mesh.py:354: RuntimeWarning: overflow encountered in long_scalars\n",
      "  acc += _n_sample\n"
     ]
    }
   ],
   "source": [
    "drop = len(ending)\n",
    "pool = Pool(n_threads)\n",
    "print 'Starting a pool with %d workers.' % (n_threads, )\n",
    "\n",
    "for in_f in all_in_files:\n",
    "    out_f = in_f.replace(top_mesh_dir, top_out_dir)\n",
    "    out_f = out_f[:-drop]\n",
    "    pool.apply_async(pc_sampler, (in_f, n_pc_samples, out_f))\n",
    "    \n",
    "pool.close()\n",
    "pool.join()"
   ]
  },
  {
   "cell_type": "code",
   "execution_count": 30,
   "metadata": {
    "collapsed": false,
    "deletable": true,
    "editable": true
   },
   "outputs": [
    {
     "name": "stdout",
     "output_type": "stream",
     "text": [
      "12310\n"
     ]
    }
   ],
   "source": [
    "all_in_files = [f for f in files_in_subdirs(top_out_dir, '.ply')]\n",
    "print len(all_in_files)"
   ]
  },
  {
   "cell_type": "code",
   "execution_count": 23,
   "metadata": {
    "collapsed": false
   },
   "outputs": [],
   "source": [
    "# Do it specifically for point-clouds that failed to be Manifoldized.\n",
    "top_in_loc = '/orions4-zfs/projects/optas/DATA/Meshes/Model_Net/Model_Net_40/OBJ_Original/'\n",
    "\n",
    "top_out_loc = '/orions4-zfs/projects/optas/DATA/Point_Clouds/Model_Net_40/from_manifold/'\n",
    "\n",
    "manifold_missed = ['door/train/door_0059.obj', \n",
    "                   'plant/train/plant_0078.obj',\n",
    "                   'person/test/person_0093.obj'\n",
    "                  ]\n",
    "for n_pc in [2048, 4096]:\n",
    "    for m_f in manifold_missed:\n",
    "        mesh_file = osp.join(top_in_loc, m_f)\n",
    "        out_f = osp.join(top_out_loc, str(n_pc), m_f.replace('.obj',''))\n",
    "        pc_sampler(mesh_file, n_pc, save_file=out_f)\n"
   ]
  }
 ],
 "metadata": {
  "kernelspec": {
   "display_name": "Python 2",
   "language": "python",
   "name": "python2"
  },
  "language_info": {
   "codemirror_mode": {
    "name": "ipython",
    "version": 2
   },
   "file_extension": ".py",
   "mimetype": "text/x-python",
   "name": "python",
   "nbconvert_exporter": "python",
   "pygments_lexer": "ipython2",
   "version": "2.7.6"
  }
 },
 "nbformat": 4,
 "nbformat_minor": 2
}
