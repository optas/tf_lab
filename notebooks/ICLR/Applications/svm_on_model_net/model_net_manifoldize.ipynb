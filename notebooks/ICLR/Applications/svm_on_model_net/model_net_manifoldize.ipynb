{
 "cells": [
  {
   "cell_type": "code",
   "execution_count": 1,
   "metadata": {
    "collapsed": false,
    "deletable": true,
    "editable": true
   },
   "outputs": [],
   "source": [
    "from functools import partial\n",
    "from multiprocessing.dummy import Pool\n",
    "from subprocess import call\n",
    "import os.path as osp\n",
    "from general_tools.in_out.basics import files_in_subdirs, copy_folder_structure"
   ]
  },
  {
   "cell_type": "code",
   "execution_count": 5,
   "metadata": {
    "collapsed": false,
    "deletable": true,
    "editable": true
   },
   "outputs": [],
   "source": [
    "# PARAMETERS\n",
    "top_in_dir = '/orions4-zfs/projects/optas/DATA/Meshes/Model_Net/Model_Net_40/OBJ_Original'\n",
    "top_out_dir = '/orions4-zfs/projects/optas/DATA/Meshes/Model_Net/Model_Net_40/manifoldized'\n",
    "search_pattern = '.obj$'\n",
    "thread_num = 30\n",
    "binary = '/orions4-zfs/projects/optas/Git_Repos/external_tools/manifoldize/main'\n",
    "resolution = '20000'  # Default of manifoldize code."
   ]
  },
  {
   "cell_type": "code",
   "execution_count": 6,
   "metadata": {
    "collapsed": false,
    "deletable": true,
    "editable": true
   },
   "outputs": [],
   "source": [
    "top_out_dir = osp.join(top_out_dir, resolution)\n",
    "copy_folder_structure(top_in_dir, top_out_dir)\n",
    "all_in_files = [f for f in files_in_subdirs(top_in_dir, search_pattern)]"
   ]
  },
  {
   "cell_type": "code",
   "execution_count": 6,
   "metadata": {
    "collapsed": false,
    "deletable": true,
    "editable": true
   },
   "outputs": [
    {
     "name": "stdout",
     "output_type": "stream",
     "text": [
      "/orions4-zfs/projects/lins2/Panos_Space/Git_Repos/external_tools/manifoldize/main /orions4-zfs/projects/lins2/Panos_Space/DATA/Meshes/Model_Net/Model_Net_40/OBJ_Original/table/test/table_0421.obj /orions4-zfs/projects/lins2/Panos_Space/DATA/Meshes/Model_Net/Model_Net_40/manifoldized/20000//table/test/table_0421.obj 20000\n",
      "Total number of models that will be manifoldized are 2864\n"
     ]
    }
   ],
   "source": [
    "commands = []\n",
    "for in_f in all_in_files:\n",
    "    out_f = osp.join(top_out_dir, in_f.replace(top_in_dir, top_out_dir + osp.sep))\n",
    "    command = '%s %s %s %s' % (binary, in_f, out_f, resolution)\n",
    "    commands.append(command)\n",
    "\n",
    "print commands[0]\n",
    "print ('\\nTotal number of models that will be manifoldized are %d' % (len(commands)))"
   ]
  },
  {
   "cell_type": "code",
   "execution_count": null,
   "metadata": {
    "collapsed": false,
    "deletable": true,
    "editable": true
   },
   "outputs": [
    {
     "name": "stdout",
     "output_type": "stream",
     "text": [
      "command 492 of /orions4-zfs/projects/lins2/Panos_Space/Git_Repos/external_tools/manifoldize/main /orions4-zfs/projects/lins2/Panos_Space/DATA/Meshes/Model_Net/Model_Net_40/OBJ_Original/door/train/door_0059.obj /orions4-zfs/projects/lins2/Panos_Space/DATA/Meshes/Model_Net/Model_Net_40/manifoldized/20000//door/train/door_0059.obj 20000 failed\n",
      "command 493 of /orions4-zfs/projects/lins2/Panos_Space/Git_Repos/external_tools/manifoldize/main /orions4-zfs/projects/lins2/Panos_Space/DATA/Meshes/Model_Net/Model_Net_40/OBJ_Original/plant/train/plant_0078.obj /orions4-zfs/projects/lins2/Panos_Space/DATA/Meshes/Model_Net/Model_Net_40/manifoldized/20000//plant/train/plant_0078.obj 20000 failed\n"
     ]
    }
   ],
   "source": [
    "pool = Pool(thread_num)\n",
    "for idx, return_code in enumerate(pool.imap(partial(call, shell=True), commands)):\n",
    "    if return_code != 0:\n",
    "        print('command %d of %s failed' % (idx, commands[idx]))"
   ]
  },
  {
   "cell_type": "code",
   "execution_count": 8,
   "metadata": {
    "collapsed": false
   },
   "outputs": [
    {
     "name": "stdout",
     "output_type": "stream",
     "text": [
      "/orions4-zfs/projects/optas/DATA/Meshes/Model_Net/Model_Net_40/manifoldized/20000//door/train/door_0059.obj\n",
      "/orions4-zfs/projects/optas/DATA/Meshes/Model_Net/Model_Net_40/manifoldized/20000//plant/train/plant_0078.obj\n",
      "/orions4-zfs/projects/optas/DATA/Meshes/Model_Net/Model_Net_40/manifoldized/20000//person/test/person_0093.obj\n"
     ]
    }
   ],
   "source": [
    "# Find which didn't make it.\n",
    "commands = []\n",
    "for in_f in all_in_files:\n",
    "    out_f = osp.join(top_out_dir, in_f.replace(top_in_dir, top_out_dir + osp.sep))\n",
    "    if not osp.exists(out_f):\n",
    "        print out_f"
   ]
  }
 ],
 "metadata": {
  "kernelspec": {
   "display_name": "Python 2",
   "language": "python",
   "name": "python2"
  },
  "language_info": {
   "codemirror_mode": {
    "name": "ipython",
    "version": 2
   },
   "file_extension": ".py",
   "mimetype": "text/x-python",
   "name": "python",
   "nbconvert_exporter": "python",
   "pygments_lexer": "ipython2",
   "version": "2.7.6"
  }
 },
 "nbformat": 4,
 "nbformat_minor": 2
}
