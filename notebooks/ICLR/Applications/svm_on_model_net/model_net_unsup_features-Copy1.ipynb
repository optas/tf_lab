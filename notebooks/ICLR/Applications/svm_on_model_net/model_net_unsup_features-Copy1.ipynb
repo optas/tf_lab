{
 "cells": [
  {
   "cell_type": "code",
   "execution_count": 1,
   "metadata": {
    "collapsed": false,
    "deletable": true,
    "editable": true
   },
   "outputs": [
    {
     "name": "stdout",
     "output_type": "stream",
     "text": [
      "Picking GPU 0\n"
     ]
    }
   ],
   "source": [
    "from general_tools.notebook import gpu_utils\n",
    "GPU = 0\n",
    "gpu_utils.setup_one_gpu(GPU)\n",
    "import tensorflow as tf\n",
    "tf.logging.set_verbosity(tf.logging.WARN)"
   ]
  },
  {
   "cell_type": "code",
   "execution_count": 2,
   "metadata": {
    "collapsed": false,
    "deletable": true,
    "editable": true
   },
   "outputs": [],
   "source": [
    "import sys\n",
    "import numpy as np\n",
    "import os.path as osp\n",
    "import tensorflow as tf\n",
    "import matplotlib.pyplot as plt\n",
    "\n",
    "from general_tools.notebook.tf import reset_tf_graph\n",
    "\n",
    "import tf_lab.point_clouds.in_out as pio\n",
    "\n",
    "from tf_lab.point_clouds.in_out import load_point_clouds_from_filenames, PointCloudDataSet\n",
    "from tf_lab.point_clouds.point_net_ae import PointNetAutoEncoder\n",
    "from tf_lab.point_clouds.autoencoder import Configuration as Conf\n",
    "\n",
    "from tf_lab.in_out.basics import read_saved_epochs\n",
    "                                                  \n",
    "from general_tools.in_out.basics import create_dir, delete_files_in_directory, files_in_subdirs\n",
    "\n",
    "from geo_tool import Point_Cloud\n",
    "\n",
    "from tf_lab.data_sets.model_net import pc_loader, classes_to_integers\n",
    "from tf_lab.nips.helper import average_per_class, pclouds_with_zero_mean_in_unit_sphere\n",
    "\n",
    "from sklearn.svm import LinearSVC\n",
    "from general_tools.simpletons import sort_dict_by_key, sort_dict_by_val"
   ]
  },
  {
   "cell_type": "code",
   "execution_count": 3,
   "metadata": {
    "collapsed": false,
    "deletable": true,
    "editable": true
   },
   "outputs": [],
   "source": [
    "%load_ext autoreload\n",
    "%autoreload 2\n",
    "%matplotlib inline"
   ]
  },
  {
   "cell_type": "code",
   "execution_count": 4,
   "metadata": {
    "collapsed": true
   },
   "outputs": [],
   "source": [
    "n_pc_samples = 2048\n",
    "put_in_usphere = True\n",
    "model_net = '10'\n",
    "loss = 'chamfer'"
   ]
  },
  {
   "cell_type": "code",
   "execution_count": 5,
   "metadata": {
    "collapsed": false,
    "deletable": true,
    "editable": true
   },
   "outputs": [],
   "source": [
    "top_data_dir = '/orions4-zfs/projects/optas/DATA/OUT/iclr/nn_models/all_snc/'\n",
    "experiment_name = 'no_conv_deeper_snc_rotated2048pts_' + loss"
   ]
  },
  {
   "cell_type": "code",
   "execution_count": 6,
   "metadata": {
    "collapsed": false,
    "deletable": true,
    "editable": true
   },
   "outputs": [
    {
     "name": "stdout",
     "output_type": "stream",
     "text": [
      "              allow_gpu_growth: False\n",
      "                    batch_size: 50\n",
      "                 consistent_io: None\n",
      "                         debug: False\n",
      "                       decoder: decoder_with_fc_only\n",
      "                  decoder_args: {'b_norm': True, 'layer_sizes': [1024, 2048, 6144]}\n",
      "                       encoder: encoder_with_convs_and_symmetry_new\n",
      "                  encoder_args: {'filter_sizes': [1, 1, 1, 1], 'n_filters': [128, 128, 256, 512], 'b_norm': True, 'strides': [1, 1, 1, 1]}\n",
      "               experiment_name: no_conv_deeper_snc_rotated2048pts_chamfer\n",
      "                 gauss_augment: None\n",
      "                  is_denoising: False\n",
      "               latent_vs_recon: 1.0\n",
      "                 learning_rate: 0.0005\n",
      "                          loss: chamfer\n",
      "             loss_display_step: 1\n",
      "                       n_input: [2048, 3]\n",
      "                      n_output: [2048, 3]\n",
      "                           n_z: None\n",
      "             saver_max_to_keep: None\n",
      "                    saver_step: 10\n",
      "                     train_dir: /orions4-zfs/projects/optas/DATA/OUT/iclr/nn_models/all_snc/no_conv_deeper_snc_rotated2048pts_chamfer\n",
      "               training_epochs: 2000\n",
      "                      z_rotate: True\n",
      "\n"
     ]
    }
   ],
   "source": [
    "train_dir = osp.join(top_data_dir, experiment_name)\n",
    "conf = Conf.load(osp.join(train_dir, 'configuration'))\n",
    "\n",
    "if conf.train_dir != train_dir: # added to address moving training-folder to other location\n",
    "    conf.train_dir = train_dir\n",
    "    conf.save(osp.join(conf.train_dir, 'configuration'))\n",
    "\n",
    "print conf\n",
    "conf.n_output = conf.n_input\n",
    "conf.allow_gpu_growth = True"
   ]
  },
  {
   "cell_type": "code",
   "execution_count": 7,
   "metadata": {
    "collapsed": false,
    "deletable": true,
    "editable": true
   },
   "outputs": [
    {
     "name": "stdout",
     "output_type": "stream",
     "text": [
      "Model restored in epoch 1000.\n"
     ]
    }
   ],
   "source": [
    "reset_tf_graph()\n",
    "ae = PointNetAutoEncoder(experiment_name, conf)\n",
    "saved_epochs = read_saved_epochs(conf.train_dir)\n",
    "last_epoch = saved_epochs[-1]\n",
    "last_epoch = 1000\n",
    "ae.restore_model(conf.train_dir, last_epoch, verbose=True)"
   ]
  },
  {
   "cell_type": "code",
   "execution_count": 8,
   "metadata": {
    "collapsed": false,
    "deletable": true,
    "editable": true
   },
   "outputs": [],
   "source": [
    "model_net_dir = '/orions4-zfs/projects/optas/DATA/Point_Clouds/Model_Net_' + model_net + '/from_manifold/'\n",
    "model_net_dir = osp.join(model_net_dir, str(n_pc_samples))\n",
    "\n",
    "search_pattern = '(.*)train(.*)\\.ply$'\n",
    "train_pc_files = sorted([f for f in files_in_subdirs(model_net_dir, search_pattern)])\n",
    "\n",
    "search_pattern = '(.*)test(.*)\\.ply$'\n",
    "test_pc_files = sorted([f for f in files_in_subdirs(model_net_dir, search_pattern)])"
   ]
  },
  {
   "cell_type": "code",
   "execution_count": 9,
   "metadata": {
    "collapsed": false,
    "deletable": true,
    "editable": true
   },
   "outputs": [
    {
     "name": "stdout",
     "output_type": "stream",
     "text": [
      "3991 pclouds were loaded. They belong in 10 shape-classes.\n",
      "908 pclouds were loaded. They belong in 10 shape-classes.\n"
     ]
    }
   ],
   "source": [
    "verbose = True\n",
    "n_threads = 22\n",
    "\n",
    "pc, model_names, labels = load_point_clouds_from_filenames(train_pc_files, n_threads, pc_loader, verbose)\n",
    "\n",
    "if put_in_usphere:\n",
    "    pc = pclouds_with_zero_mean_in_unit_sphere(pc)\n",
    "\n",
    "train_data = PointCloudDataSet(pc, labels=labels, init_shuffle=False)\n",
    "\n",
    "pc_, model_names_, labels_ = load_point_clouds_from_filenames(test_pc_files, n_threads, pc_loader, verbose)\n",
    "\n",
    "if put_in_usphere:\n",
    "    pc_ = pclouds_with_zero_mean_in_unit_sphere(pc_)\n",
    "\n",
    "test_data = PointCloudDataSet(pc_, labels=labels_, init_shuffle=False)"
   ]
  },
  {
   "cell_type": "code",
   "execution_count": 10,
   "metadata": {
    "collapsed": false,
    "deletable": true,
    "editable": true
   },
   "outputs": [],
   "source": [
    "train_feed, train_latent, train_classes = ae.embedding_at_tensor(train_data, conf, tensor_name='bottleneck')\n",
    "cids = classes_to_integers(int(model_net), train_classes)[1]\n",
    "\n",
    "test_feed, test_latent, test_classes = ae.embedding_at_tensor(test_data, conf, tensor_name='bottleneck')\n",
    "cids_ = classes_to_integers(int(model_net), test_classes)[1]"
   ]
  },
  {
   "cell_type": "code",
   "execution_count": 11,
   "metadata": {
    "collapsed": true
   },
   "outputs": [],
   "source": [
    "all_random_states = dict()\n",
    "all_scores = dict()\n",
    "\n",
    "intercept_scaling_space = [0.1, 0.2, 0.4, 0.5, 1, 2, 3, 4]\n",
    "\n",
    "c_space = [0.01, 0.02, 0.05, 0.07, 0.08, 0.09,\n",
    "           0.1, 0.15, 0.2, 0.25, 0.3, 0.35, 0.4, \n",
    "           0.45, 0.50]\n",
    "\n",
    "dual_space = [False, True]\n",
    "\n",
    "loss_space = ['hinge', 'squared_hinge']"
   ]
  },
  {
   "cell_type": "code",
   "execution_count": 90,
   "metadata": {
    "collapsed": false,
    "deletable": true,
    "editable": true,
    "scrolled": false
   },
   "outputs": [],
   "source": [
    "for c in c_space:\n",
    "    for intercept in intercept_scaling_space:\n",
    "        for dual in dual_space:\n",
    "            for loss in loss_space:\n",
    "                try:\n",
    "                    rs = np.random.get_state()\n",
    "                    lsvc = LinearSVC(C=c, loss=loss, intercept_scaling=intercept, dual=dual, random_state=42)\n",
    "                    lsvc.fit(train_latent, cids)\n",
    "                    \n",
    "                    print c, intercept, dual, loss\n",
    "                    score = average_per_class(lsvc, test_latent, cids_)\n",
    "\n",
    "                    print score\n",
    "                    key = (c, intercept, dual, loss)\n",
    "                    all_scores[key] = score\n",
    "                    all_random_states[key] = rs\n",
    "                except:\n",
    "                    continue"
   ]
  },
  {
   "cell_type": "code",
   "execution_count": 135,
   "metadata": {
    "collapsed": false
   },
   "outputs": [
    {
     "data": {
      "text/plain": [
       "[((0.2, 3, True, 'hinge'), 0.96174418604651168),\n",
       " ((0.15, 3, True, 'hinge'), 0.95793023255813947),\n",
       " ((0.25, 0.5, True, 'hinge'), 0.95776744186046514),\n",
       " ((0.45, 0.2, True, 'hinge'), 0.95693023255813947),\n",
       " ((0.09, 4, True, 'hinge'), 0.95609302325581391),\n",
       " ((0.1, 0.1, True, 'hinge'), 0.95609302325581391),\n",
       " ((0.35, 0.4, True, 'squared_hinge'), 0.95593023255813958),\n",
       " ((0.15, 0.5, True, 'squared_hinge'), 0.95576744186046514),\n",
       " ((0.3, 0.5, True, 'hinge'), 0.9556046511627907),\n",
       " ((0.3, 1, True, 'squared_hinge'), 0.9556046511627907),\n",
       " ((0.1, 1, True, 'hinge'), 0.95525581395348846),\n",
       " ((0.2, 0.1, True, 'hinge'), 0.95525581395348846),\n",
       " ((0.09, 1, True, 'hinge'), 0.95509302325581391),\n",
       " ((0.15, 0.2, True, 'hinge'), 0.95509302325581391),\n",
       " ((0.08, 0.5, True, 'squared_hinge'), 0.95509302325581391),\n",
       " ((0.2, 2, True, 'hinge'), 0.95493023255813958),\n",
       " ((0.45, 1, True, 'hinge'), 0.95476744186046525),\n",
       " ((0.1, 4, True, 'hinge'), 0.9546046511627907),\n",
       " ((0.05, 0.5, True, 'hinge'), 0.95425581395348846),\n",
       " ((0.08, 3, True, 'hinge'), 0.95409302325581391),\n",
       " ((0.15, 0.2, True, 'squared_hinge'), 0.95409302325581391),\n",
       " ((0.09, 0.4, True, 'squared_hinge'), 0.95409302325581391),\n",
       " ((0.05, 0.2, False, 'squared_hinge'), 0.95409302325581391),\n",
       " ((0.07, 0.5, True, 'squared_hinge'), 0.95409302325581391),\n",
       " ((0.07, 0.1, False, 'squared_hinge'), 0.95409302325581391),\n",
       " ((0.07, 3, True, 'hinge'), 0.95409302325581391),\n",
       " ((0.07, 1, True, 'squared_hinge'), 0.95409302325581391),\n",
       " ((0.08, 0.5, True, 'hinge'), 0.95409302325581391),\n",
       " ((0.3, 0.4, True, 'squared_hinge'), 0.95393023255813958),\n",
       " ((0.05, 0.4, True, 'hinge'), 0.95393023255813958),\n",
       " ((0.4, 1, True, 'squared_hinge'), 0.95393023255813958),\n",
       " ((0.09, 0.1, True, 'hinge'), 0.95393023255813958),\n",
       " ((0.2, 0.5, True, 'squared_hinge'), 0.95393023255813958),\n",
       " ((0.1, 2, True, 'hinge'), 0.95376744186046503),\n",
       " ((0.2, 2, True, 'squared_hinge'), 0.9536046511627907),\n",
       " ((0.5, 0.1, True, 'squared_hinge'), 0.95327906976744181),\n",
       " ((0.05, 0.1, False, 'squared_hinge'), 0.95309302325581391),\n",
       " ((0.05, 0.4, True, 'squared_hinge'), 0.95309302325581391),\n",
       " ((0.08, 0.1, True, 'hinge'), 0.95309302325581391),\n",
       " ((0.05, 1, False, 'squared_hinge'), 0.95309302325581391),\n",
       " ((0.05, 4, False, 'squared_hinge'), 0.95309302325581391),\n",
       " ((0.05, 3, False, 'squared_hinge'), 0.95309302325581391),\n",
       " ((0.05, 0.5, False, 'squared_hinge'), 0.95309302325581391),\n",
       " ((0.05, 2, False, 'squared_hinge'), 0.95309302325581391),\n",
       " ((0.05, 0.4, False, 'squared_hinge'), 0.95309302325581391),\n",
       " ((0.05, 0.2, True, 'squared_hinge'), 0.95309302325581391),\n",
       " ((0.07, 1, True, 'hinge'), 0.95309302325581391),\n",
       " ((0.07, 4, True, 'hinge'), 0.95309302325581391),\n",
       " ((0.09, 0.2, True, 'hinge'), 0.95309302325581391),\n",
       " ((0.08, 2, True, 'hinge'), 0.95309302325581391),\n",
       " ((0.08, 1, True, 'hinge'), 0.95309302325581391),\n",
       " ((0.08, 0.2, True, 'hinge'), 0.95309302325581391),\n",
       " ((0.1, 4, True, 'squared_hinge'), 0.95293023255813958),\n",
       " ((0.07, 3, False, 'squared_hinge'), 0.95293023255813958),\n",
       " ((0.08, 0.5, False, 'squared_hinge'), 0.95293023255813958),\n",
       " ((0.07, 1, False, 'squared_hinge'), 0.95293023255813958),\n",
       " ((0.2, 1, True, 'hinge'), 0.95293023255813958),\n",
       " ((0.45, 3, True, 'squared_hinge'), 0.95293023255813958),\n",
       " ((0.07, 4, False, 'squared_hinge'), 0.95293023255813958),\n",
       " ((0.09, 4, True, 'squared_hinge'), 0.95293023255813958),\n",
       " ((0.05, 0.1, True, 'hinge'), 0.95293023255813958),\n",
       " ((0.07, 0.1, True, 'squared_hinge'), 0.95293023255813958),\n",
       " ((0.08, 1, True, 'squared_hinge'), 0.95293023255813958),\n",
       " ((0.07, 0.4, False, 'squared_hinge'), 0.95293023255813958),\n",
       " ((0.07, 2, False, 'squared_hinge'), 0.95293023255813958),\n",
       " ((0.07, 0.5, False, 'squared_hinge'), 0.95293023255813958),\n",
       " ((0.07, 0.2, False, 'squared_hinge'), 0.95293023255813958),\n",
       " ((0.08, 0.4, True, 'squared_hinge'), 0.95293023255813958),\n",
       " ((0.07, 2, True, 'hinge'), 0.95276744186046503),\n",
       " ((0.2, 0.4, True, 'hinge'), 0.95276744186046503),\n",
       " ((0.15, 1, True, 'hinge'), 0.95260465116279069),\n",
       " ((0.25, 3, True, 'hinge'), 0.95260465116279069),\n",
       " ((0.4, 0.1, True, 'squared_hinge'), 0.95260465116279069),\n",
       " ((0.45, 2, True, 'hinge'), 0.95244186046511636),\n",
       " ((0.09, 0.1, True, 'squared_hinge'), 0.95244186046511614),\n",
       " ((0.09, 3, True, 'hinge'), 0.95209302325581402),\n",
       " ((0.35, 0.5, True, 'squared_hinge'), 0.95193023255813958),\n",
       " ((0.05, 2, True, 'squared_hinge'), 0.95193023255813958),\n",
       " ((0.1, 0.4, True, 'hinge'), 0.95193023255813958),\n",
       " ((0.5, 2, True, 'squared_hinge'), 0.95176744186046514),\n",
       " ((0.1, 0.5, True, 'squared_hinge'), 0.95176744186046514),\n",
       " ((0.08, 0.1, False, 'squared_hinge'), 0.95176744186046514),\n",
       " ((0.07, 3, True, 'squared_hinge'), 0.95176744186046514),\n",
       " ((0.08, 1, False, 'squared_hinge'), 0.95176744186046514),\n",
       " ((0.07, 0.4, True, 'hinge'), 0.95176744186046514),\n",
       " ((0.08, 3, False, 'squared_hinge'), 0.95176744186046514),\n",
       " ((0.07, 2, True, 'squared_hinge'), 0.95176744186046514),\n",
       " ((0.08, 0.4, False, 'squared_hinge'), 0.95176744186046514),\n",
       " ((0.08, 4, False, 'squared_hinge'), 0.95176744186046514),\n",
       " ((0.08, 0.2, False, 'squared_hinge'), 0.95176744186046514),\n",
       " ((0.4, 3, True, 'hinge'), 0.95176744186046514),\n",
       " ((0.1, 4, False, 'squared_hinge'), 0.95160465116279069),\n",
       " ((0.09, 4, False, 'squared_hinge'), 0.95160465116279069),\n",
       " ((0.08, 0.1, True, 'squared_hinge'), 0.95160465116279069),\n",
       " ((0.05, 3, True, 'squared_hinge'), 0.95160465116279069),\n",
       " ((0.09, 0.5, False, 'squared_hinge'), 0.95160465116279069),\n",
       " ((0.09, 3, False, 'squared_hinge'), 0.95160465116279069),\n",
       " ((0.1, 3, False, 'squared_hinge'), 0.95160465116279069),\n",
       " ((0.09, 0.4, False, 'squared_hinge'), 0.95160465116279069),\n",
       " ((0.08, 2, True, 'squared_hinge'), 0.95144186046511625),\n",
       " ((0.1, 0.4, True, 'squared_hinge'), 0.95144186046511625),\n",
       " ((0.5, 0.5, True, 'hinge'), 0.95127906976744181),\n",
       " ((0.15, 3, True, 'squared_hinge'), 0.95127906976744181),\n",
       " ((0.07, 0.2, True, 'hinge'), 0.95109302325581402),\n",
       " ((0.05, 1, True, 'hinge'), 0.95093023255813969),\n",
       " ((0.05, 0.2, True, 'hinge'), 0.95093023255813969),\n",
       " ((0.05, 3, True, 'hinge'), 0.95093023255813969),\n",
       " ((0.2, 4, True, 'squared_hinge'), 0.95093023255813969),\n",
       " ((0.09, 0.4, True, 'hinge'), 0.95076744186046513),\n",
       " ((0.07, 0.5, True, 'hinge'), 0.95076744186046513),\n",
       " ((0.05, 4, True, 'squared_hinge'), 0.95076744186046513),\n",
       " ((0.07, 0.4, True, 'squared_hinge'), 0.9506046511627908),\n",
       " ((0.08, 2, False, 'squared_hinge'), 0.9506046511627908),\n",
       " ((0.3, 4, True, 'squared_hinge'), 0.9506046511627908),\n",
       " ((0.1, 0.1, False, 'squared_hinge'), 0.9506046511627908),\n",
       " ((0.1, 0.4, False, 'squared_hinge'), 0.9506046511627908),\n",
       " ((0.1, 0.5, False, 'squared_hinge'), 0.9506046511627908),\n",
       " ((0.09, 1, False, 'squared_hinge'), 0.9506046511627908),\n",
       " ((0.09, 0.2, False, 'squared_hinge'), 0.9506046511627908),\n",
       " ((0.09, 0.5, True, 'squared_hinge'), 0.9506046511627908),\n",
       " ((0.05, 4, True, 'hinge'), 0.9506046511627908),\n",
       " ((0.1, 1, False, 'squared_hinge'), 0.9506046511627908),\n",
       " ((0.09, 0.1, False, 'squared_hinge'), 0.9506046511627908),\n",
       " ((0.1, 2, False, 'squared_hinge'), 0.9506046511627908),\n",
       " ((0.1, 0.2, False, 'squared_hinge'), 0.9506046511627908),\n",
       " ((0.09, 2, False, 'squared_hinge'), 0.9506046511627908),\n",
       " ((0.07, 4, True, 'squared_hinge'), 0.9506046511627908),\n",
       " ((0.05, 1, True, 'squared_hinge'), 0.9506046511627908),\n",
       " ((0.1, 3, True, 'hinge'), 0.95044186046511625),\n",
       " ((0.09, 0.2, True, 'squared_hinge'), 0.95044186046511625),\n",
       " ((0.4, 4, True, 'squared_hinge'), 0.95044186046511625),\n",
       " ((0.5, 0.4, True, 'hinge'), 0.95027906976744192),\n",
       " ((0.09, 3, True, 'squared_hinge'), 0.95027906976744192),\n",
       " ((0.25, 3, True, 'squared_hinge'), 0.95027906976744192),\n",
       " ((0.4, 2, True, 'squared_hinge'), 0.95027906976744192),\n",
       " ((0.2, 1, True, 'squared_hinge'), 0.95027906976744192),\n",
       " ((0.35, 3, True, 'squared_hinge'), 0.95011627906976748),\n",
       " ((0.45, 0.4, True, 'hinge'), 0.94995348837209304),\n",
       " ((0.01, 0.5, False, 'squared_hinge'), 0.94993023255813969),\n",
       " ((0.01, 0.4, False, 'squared_hinge'), 0.94993023255813969),\n",
       " ((0.01, 0.2, False, 'squared_hinge'), 0.94993023255813969),\n",
       " ((0.01, 4, True, 'squared_hinge'), 0.94993023255813969),\n",
       " ((0.05, 2, True, 'hinge'), 0.94993023255813946),\n",
       " ((0.02, 0.2, True, 'squared_hinge'), 0.9496046511627908),\n",
       " ((0.02, 1, True, 'squared_hinge'), 0.9496046511627908),\n",
       " ((0.02, 4, True, 'squared_hinge'), 0.9496046511627908),\n",
       " ((0.02, 0.5, True, 'squared_hinge'), 0.9496046511627908),\n",
       " ((0.35, 1, True, 'hinge'), 0.9496046511627908),\n",
       " ((0.3, 3, True, 'hinge'), 0.9496046511627908),\n",
       " ((0.02, 3, False, 'squared_hinge'), 0.9496046511627908),\n",
       " ((0.02, 0.1, True, 'squared_hinge'), 0.9496046511627908),\n",
       " ((0.02, 0.5, False, 'squared_hinge'), 0.9496046511627908),\n",
       " ((0.02, 2, True, 'squared_hinge'), 0.9496046511627908),\n",
       " ((0.02, 0.1, False, 'squared_hinge'), 0.9496046511627908),\n",
       " ((0.02, 4, False, 'squared_hinge'), 0.9496046511627908),\n",
       " ((0.02, 0.4, False, 'squared_hinge'), 0.9496046511627908),\n",
       " ((0.02, 0.4, True, 'squared_hinge'), 0.9496046511627908),\n",
       " ((0.02, 0.2, False, 'squared_hinge'), 0.9496046511627908),\n",
       " ((0.02, 2, False, 'squared_hinge'), 0.9496046511627908),\n",
       " ((0.02, 1, False, 'squared_hinge'), 0.9496046511627908),\n",
       " ((0.2, 0.2, True, 'hinge'), 0.9496046511627908),\n",
       " ((0.02, 3, True, 'squared_hinge'), 0.9496046511627908),\n",
       " ((0.07, 0.1, True, 'hinge'), 0.94944186046511625),\n",
       " ((0.1, 0.2, True, 'squared_hinge'), 0.94944186046511625),\n",
       " ((0.1, 0.2, True, 'hinge'), 0.94944186046511625),\n",
       " ((0.4, 0.4, True, 'hinge'), 0.94927906976744192),\n",
       " ((0.35, 0.5, True, 'hinge'), 0.94927906976744192),\n",
       " ((0.1, 0.5, True, 'hinge'), 0.94927906976744192),\n",
       " ((0.35, 4, True, 'squared_hinge'), 0.94927906976744192),\n",
       " ((0.2, 0.1, True, 'squared_hinge'), 0.94927906976744192),\n",
       " ((0.05, 0.1, True, 'squared_hinge'), 0.94927906976744192),\n",
       " ((0.08, 0.2, True, 'squared_hinge'), 0.94927906976744192),\n",
       " ((0.35, 0.4, True, 'hinge'), 0.94895348837209303),\n",
       " ((0.4, 1, True, 'hinge'), 0.94895348837209303),\n",
       " ((0.15, 0.5, True, 'hinge'), 0.94895348837209303),\n",
       " ((0.01, 4, False, 'squared_hinge'), 0.94876744186046513),\n",
       " ((0.01, 3, True, 'squared_hinge'), 0.94876744186046513),\n",
       " ((0.01, 3, False, 'squared_hinge'), 0.94876744186046513),\n",
       " ((0.01, 0.2, True, 'squared_hinge'), 0.94876744186046513),\n",
       " ((0.01, 1, False, 'squared_hinge'), 0.94876744186046513),\n",
       " ((0.01, 1, True, 'squared_hinge'), 0.94876744186046513),\n",
       " ((0.01, 0.5, True, 'squared_hinge'), 0.94876744186046513),\n",
       " ((0.01, 0.1, True, 'squared_hinge'), 0.94876744186046513),\n",
       " ((0.01, 0.4, True, 'squared_hinge'), 0.94876744186046513),\n",
       " ((0.01, 2, False, 'squared_hinge'), 0.94876744186046513),\n",
       " ((0.01, 0.1, False, 'squared_hinge'), 0.94876744186046513),\n",
       " ((0.01, 2, True, 'squared_hinge'), 0.94876744186046513),\n",
       " ((0.15, 0.1, True, 'squared_hinge'), 0.94876744186046513),\n",
       " ((0.2, 3, True, 'squared_hinge'), 0.94844186046511625),\n",
       " ((0.25, 0.1, True, 'hinge'), 0.94844186046511625),\n",
       " ((0.09, 2, True, 'hinge'), 0.94844186046511625),\n",
       " ((0.35, 0.2, True, 'squared_hinge'), 0.94844186046511625),\n",
       " ((0.08, 4, True, 'hinge'), 0.94827906976744192),\n",
       " ((0.4, 0.5, True, 'hinge'), 0.94827906976744192),\n",
       " ((0.08, 0.4, True, 'hinge'), 0.94827906976744192),\n",
       " ((0.15, 2, False, 'squared_hinge'), 0.94811627906976759),\n",
       " ((0.2, 0.2, False, 'squared_hinge'), 0.94811627906976759),\n",
       " ((0.07, 0.2, True, 'squared_hinge'), 0.94811627906976736),\n",
       " ((0.25, 1, True, 'squared_hinge'), 0.94811627906976736),\n",
       " ((0.5, 4, True, 'hinge'), 0.94795348837209303),\n",
       " ((0.45, 4, True, 'squared_hinge'), 0.9477906976744187),\n",
       " ((0.15, 2, True, 'squared_hinge'), 0.9477906976744187),\n",
       " ((0.25, 0.2, True, 'squared_hinge'), 0.9477906976744187),\n",
       " ((0.15, 0.4, True, 'squared_hinge'), 0.9477906976744187),\n",
       " ((0.3, 0.4, True, 'hinge'), 0.9477906976744187),\n",
       " ((0.5, 0.4, True, 'squared_hinge'), 0.94762790697674415),\n",
       " ((0.25, 0.1, True, 'squared_hinge'), 0.94727906976744192),\n",
       " ((0.15, 0.1, True, 'hinge'), 0.94727906976744192),\n",
       " ((0.09, 0.5, True, 'hinge'), 0.94727906976744192),\n",
       " ((0.35, 0.1, True, 'hinge'), 0.94713953488372093),\n",
       " ((0.2, 2, False, 'squared_hinge'), 0.94711627906976736),\n",
       " ((0.15, 0.1, False, 'squared_hinge'), 0.94711627906976736),\n",
       " ((0.15, 3, False, 'squared_hinge'), 0.94711627906976736),\n",
       " ((0.2, 3, False, 'squared_hinge'), 0.94711627906976736),\n",
       " ((0.15, 0.4, False, 'squared_hinge'), 0.94711627906976736),\n",
       " ((0.2, 4, False, 'squared_hinge'), 0.94711627906976736),\n",
       " ((0.1, 0.1, True, 'squared_hinge'), 0.94711627906976736),\n",
       " ((0.15, 0.2, False, 'squared_hinge'), 0.94711627906976736),\n",
       " ((0.15, 0.5, False, 'squared_hinge'), 0.94711627906976736),\n",
       " ((0.15, 1, False, 'squared_hinge'), 0.94711627906976736),\n",
       " ((0.15, 4, False, 'squared_hinge'), 0.94711627906976736),\n",
       " ((0.2, 0.1, False, 'squared_hinge'), 0.94711627906976736),\n",
       " ((0.2, 1, False, 'squared_hinge'), 0.94711627906976736),\n",
       " ((0.2, 0.5, False, 'squared_hinge'), 0.94711627906976736),\n",
       " ((0.2, 0.4, False, 'squared_hinge'), 0.94711627906976736),\n",
       " ((0.5, 0.1, True, 'hinge'), 0.94711627906976736),\n",
       " ((0.25, 4, True, 'hinge'), 0.94695348837209303),\n",
       " ((0.15, 4, True, 'hinge'), 0.94695348837209303),\n",
       " ((0.25, 0.4, True, 'hinge'), 0.94662790697674415),\n",
       " ((0.5, 1, True, 'hinge'), 0.94662790697674415),\n",
       " ((0.25, 2, True, 'hinge'), 0.94630232558139526),\n",
       " ((0.3, 2, True, 'squared_hinge'), 0.94611627906976747),\n",
       " ((0.05, 0.5, True, 'squared_hinge'), 0.94611627906976747),\n",
       " ((0.08, 4, True, 'squared_hinge'), 0.94611627906976747),\n",
       " ((0.15, 2, True, 'hinge'), 0.94595348837209303),\n",
       " ((0.25, 2, True, 'squared_hinge'), 0.94595348837209303),\n",
       " ((0.25, 2, False, 'squared_hinge'), 0.9457906976744187),\n",
       " ((0.25, 4, False, 'squared_hinge'), 0.9457906976744187),\n",
       " ((0.2, 0.5, True, 'hinge'), 0.94579069767441859),\n",
       " ((0.1, 2, True, 'squared_hinge'), 0.94579069767441859),\n",
       " ((0.09, 2, True, 'squared_hinge'), 0.94562790697674415),\n",
       " ((0.45, 0.5, True, 'hinge'), 0.94513953488372093),\n",
       " ((0.3, 0.1, True, 'squared_hinge'), 0.94495348837209314),\n",
       " ((0.2, 0.2, True, 'squared_hinge'), 0.94495348837209314),\n",
       " ((0.25, 0.5, False, 'squared_hinge'), 0.94479069767441859),\n",
       " ((0.25, 1, False, 'squared_hinge'), 0.94479069767441859),\n",
       " ((0.25, 0.4, False, 'squared_hinge'), 0.94479069767441859),\n",
       " ((0.08, 3, True, 'squared_hinge'), 0.94479069767441859),\n",
       " ((0.25, 3, False, 'squared_hinge'), 0.94479069767441859),\n",
       " ((0.25, 0.1, False, 'squared_hinge'), 0.94479069767441859),\n",
       " ((0.25, 0.2, False, 'squared_hinge'), 0.94479069767441859),\n",
       " ((0.1, 3, True, 'squared_hinge'), 0.94479069767441859),\n",
       " ((0.25, 4, True, 'squared_hinge'), 0.94479069767441859),\n",
       " ((0.3, 0.1, False, 'squared_hinge'), 0.94462790697674426),\n",
       " ((0.3, 0.5, False, 'squared_hinge'), 0.94462790697674426),\n",
       " ((0.3, 0.4, False, 'squared_hinge'), 0.94462790697674426),\n",
       " ((0.3, 2, True, 'hinge'), 0.94462790697674426),\n",
       " ((0.3, 0.2, False, 'squared_hinge'), 0.94462790697674426),\n",
       " ((0.45, 0.2, False, 'squared_hinge'), 0.94446511627906982),\n",
       " ((0.45, 1, False, 'squared_hinge'), 0.94446511627906982),\n",
       " ((0.5, 0.5, False, 'squared_hinge'), 0.94446511627906982),\n",
       " ((0.5, 1, False, 'squared_hinge'), 0.94446511627906982),\n",
       " ((0.45, 0.5, False, 'squared_hinge'), 0.94446511627906982),\n",
       " ((0.5, 2, False, 'squared_hinge'), 0.94446511627906982),\n",
       " ((0.5, 0.2, False, 'squared_hinge'), 0.94446511627906982),\n",
       " ((0.5, 4, False, 'squared_hinge'), 0.94446511627906982),\n",
       " ((0.5, 3, False, 'squared_hinge'), 0.94446511627906982),\n",
       " ((0.5, 0.4, False, 'squared_hinge'), 0.94446511627906982),\n",
       " ((0.5, 0.1, False, 'squared_hinge'), 0.94446511627906982),\n",
       " ((0.3, 3, True, 'squared_hinge'), 0.94413953488372093),\n",
       " ((0.15, 4, True, 'squared_hinge'), 0.94379069767441859),\n",
       " ((0.45, 0.1, True, 'hinge'), 0.94379069767441859),\n",
       " ((0.3, 4, True, 'hinge'), 0.94379069767441859),\n",
       " ((0.15, 0.4, True, 'hinge'), 0.94362790697674426),\n",
       " ((0.3, 2, False, 'squared_hinge'), 0.94362790697674426),\n",
       " ((0.3, 1, False, 'squared_hinge'), 0.94362790697674426),\n",
       " ((0.2, 4, True, 'hinge'), 0.94362790697674426),\n",
       " ((0.3, 4, False, 'squared_hinge'), 0.94362790697674426),\n",
       " ((0.3, 3, False, 'squared_hinge'), 0.94362790697674426),\n",
       " ((0.4, 0.2, True, 'squared_hinge'), 0.94362790697674426),\n",
       " ((0.4, 3, False, 'squared_hinge'), 0.94346511627906993),\n",
       " ((0.35, 0.2, False, 'squared_hinge'), 0.94346511627906993),\n",
       " ((0.4, 0.4, False, 'squared_hinge'), 0.94346511627906993),\n",
       " ((0.4, 0.2, False, 'squared_hinge'), 0.94346511627906993),\n",
       " ((0.35, 0.5, False, 'squared_hinge'), 0.94346511627906993),\n",
       " ((0.45, 3, False, 'squared_hinge'), 0.94346511627906993),\n",
       " ((0.09, 1, True, 'squared_hinge'), 0.94346511627906993),\n",
       " ((0.45, 4, False, 'squared_hinge'), 0.94346511627906993),\n",
       " ((0.35, 0.1, False, 'squared_hinge'), 0.94346511627906993),\n",
       " ((0.4, 0.5, False, 'squared_hinge'), 0.94346511627906993),\n",
       " ((0.45, 0.1, False, 'squared_hinge'), 0.94346511627906993),\n",
       " ((0.4, 0.1, False, 'squared_hinge'), 0.94346511627906993),\n",
       " ((0.35, 0.4, False, 'squared_hinge'), 0.94346511627906993),\n",
       " ((0.4, 4, False, 'squared_hinge'), 0.94346511627906993),\n",
       " ((0.45, 0.4, False, 'squared_hinge'), 0.94346511627906993),\n",
       " ((0.1, 1, True, 'squared_hinge'), 0.9434651162790697),\n",
       " ((0.35, 2, True, 'hinge'), 0.94313953488372104),\n",
       " ((0.45, 0.5, True, 'squared_hinge'), 0.94313953488372104),\n",
       " ((0.35, 1, True, 'squared_hinge'), 0.9429767441860466),\n",
       " ((0.45, 3, True, 'hinge'), 0.94297674418604649),\n",
       " ((0.4, 3, True, 'squared_hinge'), 0.94262790697674426),\n",
       " ((0.45, 4, True, 'hinge'), 0.94262790697674426),\n",
       " ((0.2, 0.4, True, 'squared_hinge'), 0.94262790697674426),\n",
       " ((0.02, 0.4, True, 'hinge'), 0.9426046511627908),\n",
       " ((0.35, 4, False, 'squared_hinge'), 0.9424651162790697),\n",
       " ((0.4, 2, False, 'squared_hinge'), 0.9424651162790697),\n",
       " ((0.4, 1, False, 'squared_hinge'), 0.9424651162790697),\n",
       " ((0.35, 3, False, 'squared_hinge'), 0.9424651162790697),\n",
       " ((0.35, 1, False, 'squared_hinge'), 0.9424651162790697),\n",
       " ((0.45, 2, False, 'squared_hinge'), 0.9424651162790697),\n",
       " ((0.35, 2, False, 'squared_hinge'), 0.9424651162790697),\n",
       " ((0.4, 0.2, True, 'hinge'), 0.9424651162790697),\n",
       " ((0.02, 2, True, 'hinge'), 0.94244186046511624),\n",
       " ((0.5, 0.2, True, 'hinge'), 0.94230232558139537),\n",
       " ((0.45, 0.1, True, 'squared_hinge'), 0.94162790697674426),\n",
       " ((0.5, 1, True, 'squared_hinge'), 0.9414651162790697),\n",
       " ((0.25, 1, True, 'hinge'), 0.9414651162790697),\n",
       " ((0.02, 1, True, 'hinge'), 0.94144186046511624),\n",
       " ((0.02, 0.5, True, 'hinge'), 0.94144186046511624),\n",
       " ((0.02, 4, True, 'hinge'), 0.94127906976744191),\n",
       " ((0.02, 3, True, 'hinge'), 0.94127906976744191),\n",
       " ((0.25, 0.5, True, 'squared_hinge'), 0.94113953488372104),\n",
       " ((0.15, 1, True, 'squared_hinge'), 0.94113953488372082),\n",
       " ((0.35, 2, True, 'squared_hinge'), 0.94097674418604649),\n",
       " ((0.02, 0.1, True, 'hinge'), 0.94027906976744191),\n",
       " ((0.02, 0.2, True, 'hinge'), 0.94027906976744191),\n",
       " ((0.4, 4, True, 'hinge'), 0.94013953488372093),\n",
       " ((0.25, 0.4, True, 'squared_hinge'), 0.94013953488372093),\n",
       " ((0.3, 1, True, 'hinge'), 0.93997674418604649),\n",
       " ((0.35, 0.2, True, 'hinge'), 0.93981395348837216),\n",
       " ((0.3, 0.2, True, 'squared_hinge'), 0.9396511627906976),\n",
       " ((0.45, 2, True, 'squared_hinge'), 0.93913953488372104),\n",
       " ((0.5, 4, True, 'squared_hinge'), 0.93881395348837204),\n",
       " ((0.25, 0.2, True, 'hinge'), 0.93848837209302327),\n",
       " ((0.45, 0.4, True, 'squared_hinge'), 0.93765116279069771),\n",
       " ((0.01, 3, True, 'hinge'), 0.93762790697674414),\n",
       " ((0.01, 4, True, 'hinge'), 0.93762790697674414),\n",
       " ((0.01, 0.1, True, 'hinge'), 0.93762790697674414),\n",
       " ((0.01, 0.4, True, 'hinge'), 0.93762790697674414),\n",
       " ((0.01, 0.5, True, 'hinge'), 0.93762790697674414),\n",
       " ((0.01, 2, True, 'hinge'), 0.93762790697674414),\n",
       " ((0.01, 0.2, True, 'hinge'), 0.93762790697674414),\n",
       " ((0.35, 0.1, True, 'squared_hinge'), 0.93732558139534883),\n",
       " ((0.5, 0.5, True, 'squared_hinge'), 0.9369767441860466),\n",
       " ((0.45, 1, True, 'squared_hinge'), 0.93648837209302338),\n",
       " ((0.3, 0.1, True, 'hinge'), 0.9361627906976745),\n",
       " ((0.01, 1, True, 'hinge'), 0.93546511627906992),\n",
       " ((0.5, 0.2, True, 'squared_hinge'), 0.93399999999999994),\n",
       " ((0.4, 2, True, 'hinge'), 0.93383720930232561),\n",
       " ((0.3, 0.5, True, 'squared_hinge'), 0.93100000000000005),\n",
       " ((0.45, 0.2, True, 'squared_hinge'), 0.9308372093023255),\n",
       " ((0.4, 0.5, True, 'squared_hinge'), 0.92918604651162795),\n",
       " ((0.4, 0.1, True, 'hinge'), 0.92718604651162795),\n",
       " ((0.3, 0.2, True, 'hinge'), 0.9268372093023256),\n",
       " ((0.35, 3, True, 'hinge'), 0.9232093023255814),\n",
       " ((0.4, 0.4, True, 'squared_hinge'), 0.92188372093023252),\n",
       " ((0.5, 2, True, 'hinge'), 0.91723255813953486),\n",
       " ((0.35, 4, True, 'hinge'), 0.91488372093023251),\n",
       " ((0.5, 3, True, 'squared_hinge'), 0.91220930232558151),\n",
       " ((0.5, 3, True, 'hinge'), 0.87534883720930234)]"
      ]
     },
     "execution_count": 135,
     "metadata": {},
     "output_type": "execute_result"
    }
   ],
   "source": [
    "best_responses = sort_dict_by_val(all_scores, reverse=True)\n",
    "best_responses"
   ]
  },
  {
   "cell_type": "code",
   "execution_count": 178,
   "metadata": {
    "collapsed": false
   },
   "outputs": [
    {
     "name": "stdout",
     "output_type": "stream",
     "text": [
      "0.2 3 True hinge\n"
     ]
    }
   ],
   "source": [
    "c, intercept, dual, loss = best_responses[rank][0]\n",
    "print c, intercept, dual, loss"
   ]
  },
  {
   "cell_type": "code",
   "execution_count": 171,
   "metadata": {
    "collapsed": false
   },
   "outputs": [
    {
     "name": "stdout",
     "output_type": "stream",
     "text": [
      "0.2 3 True hinge\n",
      "0.95011627907\n",
      "0.2 3 True hinge\n",
      "0.950441860465\n",
      "0.2 3 True hinge\n",
      "0.952093023256\n",
      "0.2 3 True hinge\n",
      "0.947604651163\n",
      "0.2 3 True hinge\n",
      "0.947790697674\n",
      "0.2 3 True hinge\n",
      "0.943465116279\n",
      "0.2 3 True hinge\n",
      "0.950604651163\n",
      "0.2 3 True hinge\n",
      "0.95376744186\n",
      "0.2 3 True hinge\n",
      "0.950279069767\n",
      "0.2 3 True hinge\n",
      "0.943627906977\n",
      "0.2 3 True hinge\n",
      "0.950604651163\n",
      "0.2 3 True hinge\n",
      "0.950441860465\n",
      "0.2 3 True hinge\n",
      "0.954093023256\n",
      "0.2 3 True hinge\n",
      "0.94411627907\n",
      "0.2 3 True hinge\n",
      "0.953930232558\n",
      "0.2 3 True hinge\n",
      "0.957093023256\n",
      "0.2 3 True hinge\n",
      "0.946790697674\n",
      "0.2 3 True hinge\n",
      "0.945790697674\n",
      "0.2 3 True hinge\n",
      "0.954441860465\n",
      "0.2 3 True hinge\n",
      "0.95176744186\n",
      "0.2 3 True hinge\n",
      "0.949279069767\n",
      "0.2 3 True hinge\n",
      "0.949953488372\n",
      "0.2 3 True hinge\n",
      "0.948279069767\n",
      "0.2 3 True hinge\n",
      "0.956093023256\n",
      "0.2 3 True hinge\n",
      "0.951279069767\n",
      "0.2 3 True hinge\n",
      "0.950604651163\n",
      "0.2 3 True hinge\n",
      "0.946953488372\n",
      "0.2 3 True hinge\n",
      "0.94811627907\n",
      "0.2 3 True hinge\n",
      "0.940465116279\n",
      "0.2 3 True hinge\n",
      "0.960255813953\n"
     ]
    }
   ],
   "source": [
    "all_scores = []\n",
    "rank = 0\n",
    "for i in range(30):\n",
    "    c, intercept, dual, loss = best_responses[rank][0]\n",
    "    print c, intercept, dual, loss\n",
    "    lsvc = LinearSVC(C=c, loss=loss, intercept_scaling=intercept, dual=dual, random_state=42)\n",
    "    lsvc.fit(train_latent, cids)\n",
    "    score = average_per_class(lsvc, test_latent, cids_)\n",
    "    print score\n",
    "    all_scores.append(score)"
   ]
  },
  {
   "cell_type": "code",
   "execution_count": null,
   "metadata": {
    "collapsed": true
   },
   "outputs": [],
   "source": []
  },
  {
   "cell_type": "code",
   "execution_count": 173,
   "metadata": {
    "collapsed": false
   },
   "outputs": [
    {
     "data": {
      "text/plain": [
       "0.95000465116279076"
      ]
     },
     "execution_count": 173,
     "metadata": {},
     "output_type": "execute_result"
    }
   ],
   "source": [
    "np.mean(all_scores)\n"
   ]
  },
  {
   "cell_type": "code",
   "execution_count": 174,
   "metadata": {
    "collapsed": false
   },
   "outputs": [
    {
     "name": "stdout",
     "output_type": "stream",
     "text": [
      "0.960255813953\n"
     ]
    }
   ],
   "source": [
    "print np.max(all_scores)"
   ]
  },
  {
   "cell_type": "code",
   "execution_count": 175,
   "metadata": {
    "collapsed": false
   },
   "outputs": [
    {
     "name": "stdout",
     "output_type": "stream",
     "text": [
      "0.954093023256\n"
     ]
    }
   ],
   "source": [
    "c, intercept, dual, loss = [0.05, 0.2, False, \"squared_hinge\"]\n",
    "lsvc = LinearSVC(C=c, loss=loss, intercept_scaling=intercept, dual=dual, random_state=42)\n",
    "lsvc.fit(train_latent, cids)\n",
    "score = average_per_class(lsvc, test_latent, cids_)\n",
    "print score"
   ]
  },
  {
   "cell_type": "code",
   "execution_count": 160,
   "metadata": {
    "collapsed": false
   },
   "outputs": [
    {
     "data": {
      "text/plain": [
       "0.94911627906976737"
      ]
     },
     "execution_count": 160,
     "metadata": {},
     "output_type": "execute_result"
    }
   ],
   "source": [
    "np.max(all_scores)"
   ]
  },
  {
   "cell_type": "code",
   "execution_count": null,
   "metadata": {
    "collapsed": true,
    "deletable": true,
    "editable": true
   },
   "outputs": [],
   "source": [
    "# New stuff for ICLR\n",
    "# 1.  Chamfer\n",
    "# encoder_args: {'filter_sizes': [1, 1, 1, 1, 1], 'strides': [1, 1, 1, 1, 1], 'n_filters': [64, 128, 128, 256, 512], 'dropout_prob': [0, 0, 0, 0, 0.5], 'b_norm': True}\n",
    "# decoder_args: {'b_norm': True, 'layer_sizes': [512, 1024, 6144]}\n",
    "# -> @ 980 epochs of training: best was on model-net40:\n",
    "# 0.6 1 True hinge\n",
    "# 0.840083537332\n",
    "# -> @ 1620 epochs of training: best was on model-net40:\n",
    "# 0.4 1 False squared_hinge\n",
    "# 0.843783353733\n",
    "# at @ 2000 epochs of training: best was on model-net40:\n",
    "# (0.3, 0.2, False, 'squared_hinge'), 0.84087423500612002)\n",
    "\n",
    "\n",
    "# FROM NIPS\n",
    "# USING ALL ShapeNetCore DATA : ~57K models.\n",
    "# Training at (max) 2K epochs.\n",
    "\n",
    "# EMD, 2K, model_net_40\n",
    "# 1.0 3 False squared_hinge\n",
    "# 0.844814259486\n",
    "# 1.0 3 True squared_hinge\n",
    "# 0.844814259486\n",
    "\n",
    "# EMD, 2K, model_net_10\n",
    "# 0.4 2 True hinge\n",
    "# 0.953279069767\n",
    "\n",
    "\n",
    "# Chamfer, 2K model_net_40\n",
    "# 0.3 4 False squared_hinge\n",
    "# 0.856074051408\n",
    "# 0.3 4 True squared_hinge\n",
    "# 0.856074051408\n",
    "# 0.6 1 False squared_hinge\n",
    "# 0.856264075887\n",
    "# 0.3 4 False squared_hinge\n",
    "# 0.856074051408\n",
    "# 0.6 1 False squared_hinge\n",
    "# 0.856264075887\n",
    "# 0.6 1 True squared_hinge\n",
    "# 0.856264075887\n",
    "# 0.7 1 False squared_hinge\n",
    "# 0.856764075887\n",
    "\n",
    "# Chamfer, 2K model_net_10\n",
    "# 0.9 4 True hinge\n",
    "# 0.950790697674\n",
    "# 0.950790697674\n",
    "# 0.8 0.5 False squared_hinge\n",
    "\n",
    "# 1.0 4 True hinge\n",
    "# 0.950790697674\n",
    "# 1.0 3 True hinge\n",
    "# 0.950790697674\n",
    "# 0.9 4 True hinge\n",
    "# 0.950790697674\n",
    "\n",
    "# 0.7 4 True hinge\n",
    "# 0.950790697674\n",
    "\n",
    "\n",
    "# With WU 7 Classes:\n",
    "\n",
    "# M10, CD, 2K epochs\n",
    "# 0.4 4 True hinge\n",
    "# 0.95176744186\n",
    "\n",
    "# M40, CD, 2K epochs\n",
    "# 1.0 1 True hinge\n",
    "# 0.84410495716\n",
    "\n",
    "# M10, EMD, ~2.5K epochs\n",
    "# about 0.94\n",
    "\n",
    "# M40, EMD, ~2.5K epochs\n",
    "# about 0.83"
   ]
  },
  {
   "cell_type": "code",
   "execution_count": null,
   "metadata": {
    "collapsed": true
   },
   "outputs": [],
   "source": [
    "# all_flower_pots = test_feed[np.array(cids_) == 15]\n",
    "# for i in range(len(all_flower_pots)):\n",
    "#     Point_Cloud(all_flower_pots[i]).plot()\n",
    "    \n",
    "# y_pred = lsvc.predict(test_latent)\n",
    "# gt_labels = np.array(cids_)\n",
    "\n",
    "# scores_per_class = []\n",
    "\n",
    "# for c in np.unique(gt_labels):\n",
    "#     if c == 15:\n",
    "#         scores_per_class.append(0.5)    \n",
    "#         continue\n",
    "#     index_c = gt_labels == c\n",
    "#     n_class = float(np.sum(index_c))\n",
    "#     s = np.sum(gt_labels[index_c] == y_pred[index_c])\n",
    "#     s /= n_class\n",
    "#     scores_per_class.append(s)\n",
    "# print np.mean(scores_per_class)"
   ]
  }
 ],
 "metadata": {
  "kernelspec": {
   "display_name": "TensorFlow1",
   "language": "python",
   "name": "tf1"
  },
  "language_info": {
   "codemirror_mode": {
    "name": "ipython",
    "version": 2
   },
   "file_extension": ".py",
   "mimetype": "text/x-python",
   "name": "python",
   "nbconvert_exporter": "python",
   "pygments_lexer": "ipython2",
   "version": "2.7.6"
  }
 },
 "nbformat": 4,
 "nbformat_minor": 2
}
