{
 "cells": [
  {
   "cell_type": "code",
   "execution_count": 1,
   "metadata": {
    "collapsed": false
   },
   "outputs": [],
   "source": [
    "from multiprocessing import Pool\n",
    "import os.path as osp\n",
    "from general_tools.in_out.basics import files_in_subdirs\n",
    "\n",
    "from geo_tool import Point_Cloud\n",
    "from general_tools.in_out.basics import create_dir\n",
    "from geo_tool.in_out.soup import load_crude_point_cloud\n",
    "\n",
    "%matplotlib inline"
   ]
  },
  {
   "cell_type": "code",
   "execution_count": 2,
   "metadata": {
    "collapsed": false
   },
   "outputs": [
    {
     "name": "stdout",
     "output_type": "stream",
     "text": [
      "6778\n"
     ]
    }
   ],
   "source": [
    "n_threads = 32\n",
    "n_pc_points = 2048\n",
    "\n",
    "top_data_dir = '/orions4-zfs/projects/optas/DATA'\n",
    "# top_in_folder = osp.join(top_data_dir, 'Point_Clouds/Shape_Net/Core/from_manifold_meshes/farthest_point_sampled/', str(n_pc_points))\n",
    "top_in_folder = osp.join(top_data_dir, 'Point_Clouds/Shape_Net/Core/from_manifold_meshes/fps_sampled_in_u_sphere/', str(n_pc_points), '03001627')\n",
    "# top_out_folder = osp.join(top_data_dir, 'Point_Clouds/Shape_Net/Core/from_manifold_meshes/fps_sampled_in_u_sphere/', str(n_pc_points))\n",
    "top_out_folder = osp.join(top_data_dir, 'Point_Clouds/Shape_Net/Core/from_manifold_meshes/fps_sampled_in_u_sphere_fiedler_sorted/', str(n_pc_points))\n",
    "\n",
    "all_in_files = [f for f in files_in_subdirs(top_in_folder, '.ply')]\n",
    "print len(all_in_files)"
   ]
  },
  {
   "cell_type": "code",
   "execution_count": 68,
   "metadata": {
    "collapsed": false
   },
   "outputs": [
    {
     "name": "stdout",
     "output_type": "stream",
     "text": [
      "6771\n"
     ]
    }
   ],
   "source": [
    "# top_out_folder = osp.join(top_data_dir, 'Point_Clouds/Shape_Net/Core/from_manifold_meshes/fps_sampled_in_u_sphere_fiedler_sorted/', str(n_pc_points))\n",
    "# all_out_files = [f for f in files_in_subdirs(top_out_folder, '.ply')]\n",
    "print len(all_out_files)"
   ]
  },
  {
   "cell_type": "code",
   "execution_count": 3,
   "metadata": {
    "collapsed": false
   },
   "outputs": [
    {
     "data": {
      "text/plain": [
       "'/orions4-zfs/projects/optas/DATA/Point_Clouds/Shape_Net/Core/from_manifold_meshes/fps_sampled_in_u_sphere_fiedler_sorted/2048/03001627/'"
      ]
     },
     "execution_count": 3,
     "metadata": {},
     "output_type": "execute_result"
    }
   ],
   "source": [
    "create_dir('/orions4-zfs/projects/optas/DATA/Point_Clouds/Shape_Net/Core/from_manifold_meshes/fps_sampled_in_u_sphere_fiedler_sorted/2048/03001627/')"
   ]
  },
  {
   "cell_type": "code",
   "execution_count": 111,
   "metadata": {
    "collapsed": false
   },
   "outputs": [],
   "source": [
    "# def fps_sampled_loader(in_f, save_dir=None):\n",
    "#     ''' Loads pc's created with Matlab\\'s code and FPS sampling.\n",
    "#     '''\n",
    "#     pc = load_crude_point_cloud(in_f)\n",
    "#     pc = Point_Cloud(pc).permute_points([0, 2, 1]).points\n",
    "#     syn_id = in_f.split('/')[-3]\n",
    "#     model_name = in_f.split('/')[-2]\n",
    "\n",
    "#     pc = Point_Cloud(pc)\n",
    "#     pc.center_axis()\n",
    "#     pc.center_in_unit_sphere()\n",
    "#     pc, _ = pc.lex_sort()\n",
    "#     if save_dir is not None:\n",
    "#         out_dir = osp.join(save_dir, syn_id)\n",
    "#         create_dir(out_dir)\n",
    "#         out_file = osp.join(out_dir, model_name)\n",
    "#         pc.save_as_ply(out_file)\n",
    "\n",
    "#     return pc, model_name, syn_id"
   ]
  },
  {
   "cell_type": "code",
   "execution_count": 122,
   "metadata": {
    "collapsed": false
   },
   "outputs": [],
   "source": [
    "# fps_sampled_loader(all_in_files[159], top_out_folder)[0].plot()"
   ]
  },
  {
   "cell_type": "code",
   "execution_count": 29,
   "metadata": {
    "collapsed": false
   },
   "outputs": [
    {
     "name": "stdout",
     "output_type": "stream",
     "text": [
      "Starting a pool with 32 workers.\n"
     ]
    },
    {
     "name": "stderr",
     "output_type": "stream",
     "text": [
      "/usr/local/lib/python2.7/dist-packages/ipykernel/__main__.py:23: RuntimeWarning: invalid value encountered in greater\n",
      "/usr/local/lib/python2.7/dist-packages/ipykernel/__main__.py:23: RuntimeWarning: invalid value encountered in greater\n",
      "/usr/local/lib/python2.7/dist-packages/ipykernel/__main__.py:23: RuntimeWarning: invalid value encountered in greater\n",
      "/usr/local/lib/python2.7/dist-packages/ipykernel/__main__.py:23: RuntimeWarning: invalid value encountered in greater\n",
      "/usr/local/lib/python2.7/dist-packages/ipykernel/__main__.py:23: RuntimeWarning: invalid value encountered in greater\n",
      "/usr/local/lib/python2.7/dist-packages/ipykernel/__main__.py:23: RuntimeWarning: invalid value encountered in greater\n",
      "/usr/local/lib/python2.7/dist-packages/ipykernel/__main__.py:23: RuntimeWarning: invalid value encountered in greater\n",
      "/usr/local/lib/python2.7/dist-packages/ipykernel/__main__.py:23: RuntimeWarning: invalid value encountered in greater\n",
      "/usr/local/lib/python2.7/dist-packages/ipykernel/__main__.py:23: RuntimeWarning: invalid value encountered in greater\n",
      "/usr/local/lib/python2.7/dist-packages/ipykernel/__main__.py:23: RuntimeWarning: invalid value encountered in greater\n",
      "/usr/local/lib/python2.7/dist-packages/ipykernel/__main__.py:23: RuntimeWarning: invalid value encountered in greater\n",
      "/usr/local/lib/python2.7/dist-packages/ipykernel/__main__.py:23: RuntimeWarning: invalid value encountered in greater\n",
      "/usr/local/lib/python2.7/dist-packages/ipykernel/__main__.py:23: RuntimeWarning: invalid value encountered in greater\n",
      "/usr/local/lib/python2.7/dist-packages/ipykernel/__main__.py:23: RuntimeWarning: invalid value encountered in greater\n",
      "/usr/local/lib/python2.7/dist-packages/ipykernel/__main__.py:23: RuntimeWarning: invalid value encountered in greater\n",
      "/usr/local/lib/python2.7/dist-packages/ipykernel/__main__.py:23: RuntimeWarning: invalid value encountered in greater\n",
      "/usr/local/lib/python2.7/dist-packages/ipykernel/__main__.py:23: RuntimeWarning: invalid value encountered in greater\n",
      "/usr/local/lib/python2.7/dist-packages/ipykernel/__main__.py:23: RuntimeWarning: invalid value encountered in greater\n",
      "/usr/local/lib/python2.7/dist-packages/ipykernel/__main__.py:23: RuntimeWarning: invalid value encountered in greater\n",
      "/usr/local/lib/python2.7/dist-packages/ipykernel/__main__.py:23: RuntimeWarning: invalid value encountered in greater\n",
      "/usr/local/lib/python2.7/dist-packages/ipykernel/__main__.py:23: RuntimeWarning: invalid value encountered in greater\n",
      "/usr/local/lib/python2.7/dist-packages/ipykernel/__main__.py:23: RuntimeWarning: invalid value encountered in greater\n",
      "/usr/local/lib/python2.7/dist-packages/ipykernel/__main__.py:23: RuntimeWarning: invalid value encountered in greater\n",
      "/usr/local/lib/python2.7/dist-packages/ipykernel/__main__.py:23: RuntimeWarning: invalid value encountered in greater\n",
      "/usr/local/lib/python2.7/dist-packages/ipykernel/__main__.py:23: RuntimeWarning: invalid value encountered in greater\n",
      "/usr/local/lib/python2.7/dist-packages/ipykernel/__main__.py:23: RuntimeWarning: invalid value encountered in greater\n",
      "/orions4-zfs/projects/optas/Git_Repos/geo_tool/fundamentals/graph.py:108: RuntimeWarning: divide by zero encountered in divide\n",
      "  total_weight = (1 / np.sqrt(total_weight)).squeeze()\n",
      "/usr/local/lib/python2.7/dist-packages/ipykernel/__main__.py:23: RuntimeWarning: invalid value encountered in greater\n",
      "/usr/local/lib/python2.7/dist-packages/ipykernel/__main__.py:23: RuntimeWarning: invalid value encountered in greater\n",
      "/usr/local/lib/python2.7/dist-packages/ipykernel/__main__.py:23: RuntimeWarning: invalid value encountered in greater\n"
     ]
    },
    {
     "name": "stdout",
     "output_type": "stream",
     "text": [
      "FAILED /orions4-zfs/projects/optas/DATA/Point_Clouds/Shape_Net/Core/from_manifold_meshes/fps_sampled_in_u_sphere/2048/03001627/b19f85fcd46f456bd5cba62773b8025b.ply\n"
     ]
    },
    {
     "name": "stderr",
     "output_type": "stream",
     "text": [
      "/usr/local/lib/python2.7/dist-packages/ipykernel/__main__.py:23: RuntimeWarning: invalid value encountered in greater\n",
      "/usr/local/lib/python2.7/dist-packages/ipykernel/__main__.py:23: RuntimeWarning: invalid value encountered in greater\n",
      "/usr/local/lib/python2.7/dist-packages/ipykernel/__main__.py:23: RuntimeWarning: invalid value encountered in greater\n"
     ]
    },
    {
     "name": "stdout",
     "output_type": "stream",
     "text": [
      "FAILED /orions4-zfs/projects/optas/DATA/Point_Clouds/Shape_Net/Core/from_manifold_meshes/fps_sampled_in_u_sphere/2048/03001627/185bcb9bcec174c9492d9da2668ec34c.ply\n"
     ]
    },
    {
     "name": "stderr",
     "output_type": "stream",
     "text": [
      "/orions4-zfs/projects/optas/Git_Repos/geo_tool/fundamentals/graph.py:108: RuntimeWarning: divide by zero encountered in divide\n",
      "  total_weight = (1 / np.sqrt(total_weight)).squeeze()\n"
     ]
    },
    {
     "name": "stdout",
     "output_type": "stream",
     "text": [
      "FAILED /orions4-zfs/projects/optas/DATA/Point_Clouds/Shape_Net/Core/from_manifold_meshes/fps_sampled_in_u_sphere/2048/03001627/8da327a8eea887fd492d9da2668ec34c.ply\n",
      "FAILED /orions4-zfs/projects/optas/DATA/Point_Clouds/Shape_Net/Core/from_manifold_meshes/fps_sampled_in_u_sphere/2048/03001627/cc8066a5107a2bf5926f2c1927eee8ee.ply\n",
      "FAILED /orions4-zfs/projects/optas/DATA/Point_Clouds/Shape_Net/Core/from_manifold_meshes/fps_sampled_in_u_sphere/2048/03001627/8a948db5f12d02af492d9da2668ec34c.ply\n",
      "FAILED /orions4-zfs/projects/optas/DATA/Point_Clouds/Shape_Net/Core/from_manifold_meshes/fps_sampled_in_u_sphere/2048/03001627/6fde09bdd613f6e6492d9da2668ec34c.ply\n",
      "FAILED /orions4-zfs/projects/optas/DATA/Point_Clouds/Shape_Net/Core/from_manifold_meshes/fps_sampled_in_u_sphere/2048/03001627/f1f670ac53799c18492d9da2668ec34c.ply\n"
     ]
    }
   ],
   "source": [
    "pool = Pool(n_threads)\n",
    "print 'Starting a pool with %d workers.' % (n_threads, )\n",
    "\n",
    "for in_f in all_in_files:\n",
    "    pool.apply_async(save_fiedler_sorted_version, (in_f, ))\n",
    "\n",
    "pool.close()\n",
    "pool.join()"
   ]
  },
  {
   "cell_type": "code",
   "execution_count": null,
   "metadata": {
    "collapsed": true
   },
   "outputs": [],
   "source": []
  },
  {
   "cell_type": "code",
   "execution_count": null,
   "metadata": {
    "collapsed": true
   },
   "outputs": [],
   "source": [
    "all_produced_files = [f for f in files_in_subdirs(top_out_folder, '.ply')]\n",
    "print len(all_produced_files)"
   ]
  },
  {
   "cell_type": "code",
   "execution_count": 51,
   "metadata": {
    "collapsed": false
   },
   "outputs": [
    {
     "name": "stdout",
     "output_type": "stream",
     "text": [
      "57398\n"
     ]
    }
   ],
   "source": [
    "all_produced_files = [f for f in files_in_subdirs(top_out_folder, '.ply')]\n",
    "print len(all_produced_files)"
   ]
  }
 ],
 "metadata": {
  "kernelspec": {
   "display_name": "Python 2",
   "language": "python",
   "name": "python2"
  },
  "language_info": {
   "codemirror_mode": {
    "name": "ipython",
    "version": 2
   },
   "file_extension": ".py",
   "mimetype": "text/x-python",
   "name": "python",
   "nbconvert_exporter": "python",
   "pygments_lexer": "ipython2",
   "version": "2.7.6"
  }
 },
 "nbformat": 4,
 "nbformat_minor": 2
}
