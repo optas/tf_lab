{
 "cells": [
  {
   "cell_type": "code",
   "execution_count": 1,
   "metadata": {
    "collapsed": false
   },
   "outputs": [
    {
     "name": "stdout",
     "output_type": "stream",
     "text": [
      "Picking GPU 0\n"
     ]
    }
   ],
   "source": [
    "from general_tools.notebook.gpu_utils import setup_one_gpu\n",
    "GPU = 0\n",
    "setup_one_gpu(GPU)"
   ]
  },
  {
   "cell_type": "code",
   "execution_count": 2,
   "metadata": {
    "collapsed": false
   },
   "outputs": [],
   "source": [
    "import sys\n",
    "import numpy as np\n",
    "import os.path as osp\n",
    "import tensorflow as tf\n",
    "import matplotlib.pyplot as plt\n",
    "\n",
    "from general_tools.notebook.tf import reset_tf_graph\n",
    "from general_tools.in_out.basics import create_dir, files_in_subdirs\n",
    "\n",
    "from geo_tool import Point_Cloud\n",
    "\n",
    "from tf_lab.in_out.basics import Data_Splitter, read_saved_epochs\n",
    "from tf_lab.point_clouds.ae_templates import mlp_architecture_ala_iclr_18, default_train_params\n",
    "\n",
    "from tf_lab.point_clouds.autoencoder import Configuration as Conf\n",
    "from tf_lab.point_clouds.point_net_ae import PointNetAutoEncoder\n",
    "\n",
    "from tf_lab.point_clouds.in_out import load_point_clouds_from_filenames, PointCloudDataSet\n",
    "from tf_lab.data_sets.model_net import pc_loader, classes_to_integers\n",
    "from tf_lab.point_clouds.encoders_decoders import decoder_with_fc_only, encoder_with_convs_and_symmetry_new\n",
    "\n",
    "from tf_lab.nips.helper import average_per_class\n",
    "\n",
    "from tf_lab.point_clouds.point_net_classifier import PointNetClassifier\n",
    "from tf_lab.point_clouds.convenience import classify_pclouds"
   ]
  },
  {
   "cell_type": "code",
   "execution_count": 3,
   "metadata": {
    "collapsed": false
   },
   "outputs": [],
   "source": [
    "%load_ext autoreload\n",
    "%autoreload 2\n",
    "# %matplotlib inline\n",
    "%matplotlib nbagg"
   ]
  },
  {
   "cell_type": "code",
   "execution_count": 4,
   "metadata": {
    "collapsed": true
   },
   "outputs": [],
   "source": [
    "model_net = '40'\n",
    "verbose = True\n",
    "n_threads = 20\n",
    "put_in_usphere = True\n",
    "n_pc_points = 4096"
   ]
  },
  {
   "cell_type": "code",
   "execution_count": 5,
   "metadata": {
    "collapsed": false
   },
   "outputs": [],
   "source": [
    "model_net_dir = '/orions4-zfs/projects/optas/DATA/Point_Clouds/Model_Net_' + model_net +  '/from_manifold/'\n",
    "model_net_dir = osp.join(model_net_dir, str(n_pc_points))\n",
    "\n",
    "search_pattern = '(.*)train(.*)\\.ply$'\n",
    "train_pc_files = [f for f in files_in_subdirs(model_net_dir, search_pattern)]\n",
    "\n",
    "search_pattern = '(.*)test(.*)\\.ply$'\n",
    "test_pc_files = [f for f in files_in_subdirs(model_net_dir, search_pattern)]"
   ]
  },
  {
   "cell_type": "code",
   "execution_count": 19,
   "metadata": {
    "collapsed": false
   },
   "outputs": [
    {
     "name": "stdout",
     "output_type": "stream",
     "text": [
      "9843 pclouds were loaded. They belong in 40 shape-classes.\n",
      "2468 pclouds were loaded. They belong in 40 shape-classes.\n"
     ]
    }
   ],
   "source": [
    "train_pc, train_model_names, train_classes = load_point_clouds_from_filenames(train_pc_files, n_threads, pc_loader, verbose)\n",
    "train_labels = np.array(classes_to_integers(int(model_net), train_classes)[1])\n",
    "\n",
    "test_pc, test_model_names, test_classes = load_point_clouds_from_filenames(test_pc_files, n_threads, pc_loader, verbose)\n",
    "test_labels = np.array(classes_to_integers(int(model_net), test_classes)[1])"
   ]
  },
  {
   "cell_type": "code",
   "execution_count": 20,
   "metadata": {
    "collapsed": true
   },
   "outputs": [],
   "source": [
    "for i in range(len(train_pc)):\n",
    "    pc = Point_Cloud(train_pc[i]).center_in_unit_sphere()\n",
    "    train_pc[i] = pc.points\n",
    "\n",
    "for i in range(len(test_pc)):\n",
    "    pc = Point_Cloud(test_pc[i]).center_in_unit_sphere()\n",
    "    test_pc[i] = pc.points"
   ]
  },
  {
   "cell_type": "code",
   "execution_count": 59,
   "metadata": {
    "collapsed": false
   },
   "outputs": [],
   "source": [
    "from general_tools.simpletons import invert_dictionary\n",
    "int_to_cl = invert_dictionary(classes_to_integers(int(model_net))[0])"
   ]
  },
  {
   "cell_type": "code",
   "execution_count": 249,
   "metadata": {
    "collapsed": false
   },
   "outputs": [],
   "source": [
    "n_merge = 2\n",
    "n_chimeras = 400\n",
    "chimeras = []\n",
    "n_pc = 2048\n",
    "\n",
    "total_chimeras = 10000\n",
    "\n",
    "\n",
    "for cid in np.unique(train_labels):        \n",
    "    f = np.sum(train_labels == cid) / float(len(train_labels))\n",
    "    f *= total_chimeras\n",
    "    f = int(round(f))\n",
    "    for chimera in range(f):  \n",
    "#     for chimera in range(n_chimeras):\n",
    "        shape_ids = np.random.choice(np.where(train_labels == cid)[0], n_merge)\n",
    "        ch = Point_Cloud(train_pc[shape_ids].reshape(-1, 3)).sample(n_pc)[0].points\n",
    "        chimeras.append((ch, cid))"
   ]
  },
  {
   "cell_type": "code",
   "execution_count": 251,
   "metadata": {
    "collapsed": true
   },
   "outputs": [],
   "source": [
    "chim = np.zeros(shape=(len(chimeras), n_pc, 3))\n",
    "chim_labels = np.zeros(len(chimeras))\n",
    "for i, t in enumerate(chimeras):\n",
    "    chim[i] = t[0]\n",
    "    chim_labels[i] = t[1]"
   ]
  },
  {
   "cell_type": "code",
   "execution_count": 200,
   "metadata": {
    "collapsed": false
   },
   "outputs": [],
   "source": [
    "train_pc_sb = np.zeros(shape=(len(train_pc), n_pc, 3))\n",
    "for i in range(len(train_pc)):\n",
    "    train_pc_sb[i] = Point_Cloud(train_pc[i]).sample(2048)[0].points\n",
    "\n",
    "test_pc_sb = np.zeros(shape=(len(test_pc), n_pc, 3))                    \n",
    "for i in range(len(test_pc)):\n",
    "    test_pc_sb[i] = Point_Cloud(test_pc[i]).sample(2048)[0].points"
   ]
  },
  {
   "cell_type": "code",
   "execution_count": 252,
   "metadata": {
    "collapsed": false
   },
   "outputs": [],
   "source": [
    "train_data = PointCloudDataSet(np.vstack([train_pc_sb, chim]), labels=np.hstack([train_labels, chim_labels]))\n",
    "test_data = PointCloudDataSet(test_pc_sb, labels=test_labels)"
   ]
  },
  {
   "cell_type": "code",
   "execution_count": 191,
   "metadata": {
    "collapsed": true
   },
   "outputs": [],
   "source": [
    "# train_data = PointCloudDataSet(train_pc_sb, labels=train_labels)\n",
    "# test_data = PointCloudDataSet(test_pc_sb, labels=test_labels)"
   ]
  },
  {
   "cell_type": "code",
   "execution_count": 126,
   "metadata": {
    "collapsed": true
   },
   "outputs": [],
   "source": [
    "%matplotlib inline"
   ]
  },
  {
   "cell_type": "code",
   "execution_count": 276,
   "metadata": {
    "collapsed": false
   },
   "outputs": [
    {
     "data": {
      "image/png": "[encoded data removed]",
      "text/plain": [
       "<matplotlib.figure.Figure at 0x7fe9ed8a6990>"
      ]
     },
     "metadata": {},
     "output_type": "display_data"
    },
    {
     "name": "stdout",
     "output_type": "stream",
     "text": [
      "vase\n"
     ]
    }
   ],
   "source": [
    "k = np.random.randint(len(chimeras))\n",
    "Point_Cloud(chimeras[k][0]).plot()\n",
    "print int_to_cl[chimeras[k][1]]"
   ]
  },
  {
   "cell_type": "code",
   "execution_count": 277,
   "metadata": {
    "collapsed": false
   },
   "outputs": [],
   "source": [
    "top_data_dir = '/orions4-zfs/projects/optas/DATA/'"
   ]
  },
  {
   "cell_type": "code",
   "execution_count": 278,
   "metadata": {
    "collapsed": false
   },
   "outputs": [],
   "source": [
    "experiment_name = 'sup_clf_with_chimeras'\n",
    "\n",
    "experiment_name = '_'.join([experiment_name, 'mnet', model_net,  'pts', str(n_pc_points)])\n",
    "\n",
    "train_dir = osp.join(top_data_dir, 'OUT/exploration/nn_models/sup_clf')\n",
    "train_dir = osp.join(train_dir, experiment_name)\n",
    "create_dir(train_dir);"
   ]
  },
  {
   "cell_type": "code",
   "execution_count": 279,
   "metadata": {
    "collapsed": false
   },
   "outputs": [],
   "source": [
    "n_input = [n_pc, 3]\n",
    "n_classes = int(model_net)\n",
    "\n",
    "encoder = encoder_with_convs_and_symmetry_new\n",
    "decoder = decoder_with_fc_only\n",
    "\n",
    "decoder_args = {'layer_sizes': [256, 256, n_classes], 'b_norm': False}\n",
    "\n",
    "\n",
    "encoder_args = {'n_filters': [64, 128, 256, 256],\n",
    "                'filter_sizes': [1, 1, 1, 1],\n",
    "                'strides': [1, 1, 1, 1],\n",
    "                'b_norm': True\n",
    "               }\n",
    "\n",
    "conf = Conf(\n",
    "            n_input = n_input,\n",
    "            n_output = [n_classes],\n",
    "            training_epochs = 200,\n",
    "            batch_size = 128,\n",
    "            train_dir = train_dir,\n",
    "            loss_display_step = 1,\n",
    "            saver_step = 20,\n",
    "            learning_rate = 0.0005,\n",
    "            z_rotate = False, \n",
    "            encoder = encoder,\n",
    "            decoder = decoder,\n",
    "            encoder_args = encoder_args,\n",
    "            decoder_args = decoder_args\n",
    "            )\n",
    "\n",
    "\n",
    "conf.one_hot = False\n",
    "conf.experiment_name = experiment_name\n",
    "conf.save(osp.join(conf.train_dir, 'configuration'))    \n",
    "    \n",
    "reset_tf_graph()\n",
    "pnet_clf = PointNetClassifier(experiment_name, conf)"
   ]
  },
  {
   "cell_type": "code",
   "execution_count": null,
   "metadata": {
    "collapsed": false
   },
   "outputs": [
    {
     "name": "stdout",
     "output_type": "stream",
     "text": [
      "TRAIN epoch: 1 loss: 1.502348\n",
      "TRAIN epoch: 2 loss: 0.750569\n",
      "TEST epoch: 2 accuracy: 0.749595\n",
      "TRAIN epoch: 3 loss: 0.604260\n",
      "TRAIN epoch: 4 loss: 0.533801\n",
      "TEST epoch: 4 accuracy: 0.788898\n",
      "TRAIN epoch: 5 loss: 0.481114\n",
      "TRAIN epoch: 6 loss: 0.439132\n",
      "TEST epoch: 6 accuracy: 0.805511\n",
      "TRAIN epoch: 7 loss: 0.414627\n",
      "TRAIN epoch: 8 loss: 0.387374\n",
      "TEST epoch: 8 accuracy: 0.815235\n",
      "TRAIN epoch: 9 loss: 0.359221\n",
      "TRAIN epoch: 10 loss: 0.348521\n",
      "TEST epoch: 10 accuracy: 0.806726\n",
      "TRAIN epoch: 11 loss: 0.328342\n",
      "TRAIN epoch: 12 loss: 0.319091\n",
      "TEST epoch: 12 accuracy: 0.834279\n",
      "TRAIN epoch: 13 loss: 0.304305\n",
      "TRAIN epoch: 14 loss: 0.299274\n",
      "TEST epoch: 14 accuracy: 0.828606\n",
      "TRAIN epoch: 15 loss: 0.285953\n",
      "TRAIN epoch: 16 loss: 0.283234\n",
      "TEST epoch: 16 accuracy: 0.829822\n",
      "TRAIN epoch: 17 loss: 0.267957\n",
      "TRAIN epoch: 18 loss: 0.247507\n",
      "TEST epoch: 18 accuracy: 0.816451\n",
      "TRAIN epoch: 19 loss: 0.253662\n",
      "TRAIN epoch: 20 loss: 0.244702\n",
      "TEST epoch: 20 accuracy: 0.836710\n",
      "TRAIN epoch: 21 loss: 0.238983\n",
      "TRAIN epoch: 22 loss: 0.224035\n",
      "TEST epoch: 22 accuracy: 0.834684\n",
      "TRAIN epoch: 23 loss: 0.223320\n",
      "TRAIN epoch: 24 loss: 0.216944\n",
      "TEST epoch: 24 accuracy: 0.837115\n",
      "TRAIN epoch: 25 loss: 0.212091\n",
      "TRAIN epoch: 26 loss: 0.207776\n",
      "TEST epoch: 26 accuracy: 0.840762\n",
      "TRAIN epoch: 27 loss: 0.194574\n",
      "TRAIN epoch: 28 loss: 0.188043\n",
      "TEST epoch: 28 accuracy: 0.832253\n",
      "TRAIN epoch: 29 loss: 0.194547\n",
      "TRAIN epoch: 30 loss: 0.193362\n",
      "TEST epoch: 30 accuracy: 0.848055\n",
      "TRAIN epoch: 31 loss: 0.186832\n",
      "TRAIN epoch: 32 loss: 0.181913\n",
      "TEST epoch: 32 accuracy: 0.833874\n",
      "TRAIN epoch: 33 loss: 0.176352\n",
      "TRAIN epoch: 34 loss: 0.177729\n",
      "TEST epoch: 34 accuracy: 0.846434\n",
      "TRAIN epoch: 35 loss: 0.181926\n",
      "TRAIN epoch: 36 loss: 0.170542\n",
      "TEST epoch: 36 accuracy: 0.842382\n",
      "TRAIN epoch: 37 loss: 0.174075\n",
      "TRAIN epoch: 38 loss: 0.163239\n",
      "TEST epoch: 38 accuracy: 0.848865\n",
      "TRAIN epoch: 39 loss: 0.158070\n",
      "TRAIN epoch: 40 loss: 0.168438\n",
      "TEST epoch: 40 accuracy: 0.841572\n",
      "TRAIN epoch: 41 loss: 0.154867\n",
      "TRAIN epoch: 42 loss: 0.165310\n",
      "TEST epoch: 42 accuracy: 0.855348\n",
      "TRAIN epoch: 43 loss: 0.159076\n",
      "TRAIN epoch: 44 loss: 0.147306\n",
      "TEST epoch: 44 accuracy: 0.849676\n",
      "TRAIN epoch: 45 loss: 0.152302\n",
      "TRAIN epoch: 46 loss: 0.138639\n",
      "TEST epoch: 46 accuracy: 0.855754\n",
      "TRAIN epoch: 47 loss: 0.151369\n",
      "TRAIN epoch: 48 loss: 0.143459\n",
      "TEST epoch: 48 accuracy: 0.848460\n",
      "TRAIN epoch: 49 loss: 0.143117\n",
      "TRAIN epoch: 50 loss: 0.138400\n",
      "TEST epoch: 50 accuracy: 0.843598\n",
      "TRAIN epoch: 51 loss: 0.128396\n",
      "TRAIN epoch: 52 loss: 0.132994\n",
      "TEST epoch: 52 accuracy: 0.836305\n",
      "TRAIN epoch: 53 loss: 0.125562\n",
      "TRAIN epoch: 54 loss: 0.133318\n",
      "TEST epoch: 54 accuracy: 0.844408\n",
      "TRAIN epoch: 55 loss: 0.128507\n",
      "TRAIN epoch: 56 loss: 0.127039\n",
      "TEST epoch: 56 accuracy: 0.851702\n",
      "TRAIN epoch: 57 loss: 0.128328\n",
      "TRAIN epoch: 58 loss: 0.130066\n",
      "TEST epoch: 58 accuracy: 0.840762\n",
      "TRAIN epoch: 59 loss: 0.130641\n",
      "TRAIN epoch: 60 loss: 0.124383\n",
      "TEST epoch: 60 accuracy: 0.850081\n",
      "TRAIN epoch: 61 loss: 0.116682\n",
      "TRAIN epoch: 62 loss: 0.115117\n",
      "TEST epoch: 62 accuracy: 0.857780\n",
      "TRAIN epoch: 63 loss: 0.117233\n",
      "TRAIN epoch: 64 loss: 0.105840\n",
      "TEST epoch: 64 accuracy: 0.844408\n",
      "TRAIN epoch: 65 loss: 0.122089\n",
      "TRAIN epoch: 66 loss: 0.121096\n",
      "TEST epoch: 66 accuracy: 0.854133\n",
      "TRAIN epoch: 67 loss: 0.123201\n",
      "TRAIN epoch: 68 loss: 0.109417\n",
      "TEST epoch: 68 accuracy: 0.845219\n",
      "TRAIN epoch: 69 loss: 0.117705\n",
      "TRAIN epoch: 70 loss: 0.111633\n",
      "TEST epoch: 70 accuracy: 0.856159\n",
      "TRAIN epoch: 71 loss: 0.109399\n",
      "TRAIN epoch: 72 loss: 0.102692\n",
      "TEST epoch: 72 accuracy: 0.854538\n",
      "TRAIN epoch: 73 loss: 0.107603\n",
      "TRAIN epoch: 74 loss: 0.111422\n",
      "TEST epoch: 74 accuracy: 0.867909\n",
      "TRAIN epoch: 75 loss: 0.097429\n",
      "TRAIN epoch: 76 loss: 0.105522\n",
      "TEST epoch: 76 accuracy: 0.842382\n",
      "TRAIN epoch: 77 loss: 0.110858\n",
      "TRAIN epoch: 78 loss: 0.105101\n",
      "TEST epoch: 78 accuracy: 0.855754\n",
      "TRAIN epoch: 79 loss: 0.105097\n",
      "TRAIN epoch: 80 loss: 0.097193\n",
      "TEST epoch: 80 accuracy: 0.844814\n",
      "TRAIN epoch: 81 loss: 0.108063\n",
      "TRAIN epoch: 82 loss: 0.105108\n",
      "TEST epoch: 82 accuracy: 0.853728\n",
      "TRAIN epoch: 83 loss: 0.096353\n",
      "TRAIN epoch: 84 loss: 0.092169\n",
      "TEST epoch: 84 accuracy: 0.841167\n",
      "TRAIN epoch: 85 loss: 0.091967\n",
      "TRAIN epoch: 86 loss: 0.095158\n",
      "TEST epoch: 86 accuracy: 0.849271\n",
      "TRAIN epoch: 87 loss: 0.093109\n",
      "TRAIN epoch: 88 loss: 0.095546\n",
      "TEST epoch: 88 accuracy: 0.849271\n",
      "TRAIN epoch: 89 loss: 0.106288\n",
      "TRAIN epoch: 90 loss: 0.095061\n",
      "TEST epoch: 90 accuracy: 0.855348\n",
      "TRAIN epoch: 91 loss: 0.085170\n",
      "TRAIN epoch: 92 loss: 0.086250\n",
      "TEST epoch: 92 accuracy: 0.842788\n",
      "TRAIN epoch: 93 loss: 0.091982\n",
      "TRAIN epoch: 94 loss: 0.091341\n",
      "TEST epoch: 94 accuracy: 0.845624\n",
      "TRAIN epoch: 95 loss: 0.092688\n",
      "TRAIN epoch: 96 loss: 0.087617\n",
      "TEST epoch: 96 accuracy: 0.833063\n",
      "TRAIN epoch: 97 loss: 0.083919\n",
      "TRAIN epoch: 98 loss: 0.080685\n",
      "TEST epoch: 98 accuracy: 0.852917\n",
      "TRAIN epoch: 99 loss: 0.081243\n",
      "TRAIN epoch: 100 loss: 0.085941\n",
      "TEST epoch: 100 accuracy: 0.844003\n",
      "TRAIN epoch: 101 loss: 0.089408\n",
      "TRAIN epoch: 102 loss: 0.095071\n",
      "TEST epoch: 102 accuracy: 0.850486\n",
      "TRAIN epoch: 103 loss: 0.087573\n"
     ]
    }
   ],
   "source": [
    "c = conf\n",
    "for _ in xrange(c.training_epochs):\n",
    "    loss, duration = pnet_clf._single_epoch_train(train_data, c)\n",
    "    epoch = int(pnet_clf.sess.run(pnet_clf.epoch.assign_add(tf.constant(1.0))))\n",
    "    print 'TRAIN epoch: %d loss: %f' % (epoch, loss)\n",
    "    if epoch % 2 == 0:\n",
    "        avg_ac = classify_pclouds(pnet_clf, test_data.point_clouds, 100, test_data.labels)[1]\n",
    "        print 'TEST epoch: %d accuracy: %f' % (epoch, avg_ac)"
   ]
  }
 ],
 "metadata": {
  "kernelspec": {
   "display_name": "TensorFlow1",
   "language": "python",
   "name": "tf1"
  },
  "language_info": {
   "codemirror_mode": {
    "name": "ipython",
    "version": 2
   },
   "file_extension": ".py",
   "mimetype": "text/x-python",
   "name": "python",
   "nbconvert_exporter": "python",
   "pygments_lexer": "ipython2",
   "version": "2.7.6"
  }
 },
 "nbformat": 4,
 "nbformat_minor": 2
}
