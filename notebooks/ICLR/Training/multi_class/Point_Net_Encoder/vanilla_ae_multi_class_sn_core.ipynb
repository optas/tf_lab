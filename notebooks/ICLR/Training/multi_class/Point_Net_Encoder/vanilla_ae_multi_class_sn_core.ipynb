{
 "cells": [
  {
   "cell_type": "code",
   "execution_count": 1,
   "metadata": {
    "collapsed": false,
    "deletable": true,
    "editable": true
   },
   "outputs": [
    {
     "name": "stdout",
     "output_type": "stream",
     "text": [
      "Picking GPU 0\n"
     ]
    }
   ],
   "source": [
    "from general_tools.notebook.gpu_utils import setup_one_gpu\n",
    "GPU = 0\n",
    "setup_one_gpu(GPU)"
   ]
  },
  {
   "cell_type": "code",
   "execution_count": 7,
   "metadata": {
    "collapsed": false,
    "deletable": true,
    "editable": true
   },
   "outputs": [],
   "source": [
    "import sys\n",
    "import time\n",
    "import numpy as np\n",
    "import os.path as osp\n",
    "import tensorflow as tf\n",
    "import matplotlib.pyplot as plt\n",
    "\n",
    "from general_tools.notebook.tf import reset_tf_graph\n",
    "from general_tools.in_out import create_dir\n",
    "from general_tools.in_out.basics import create_dir, delete_files_in_directory, files_in_subdirs\n",
    "\n",
    "from geo_tool import Point_Cloud\n",
    "\n",
    "from tf_lab.in_out.basics import Data_Splitter, read_saved_epochs\n",
    "\n",
    "from tf_lab.point_clouds.encoders_decoders import encoder_with_convs_and_symmetry_new, decoder_with_fc_only\n",
    "from tf_lab.point_clouds.point_net_ae import PointNetAutoEncoder\n",
    "from tf_lab.point_clouds.autoencoder import Configuration as Conf\n",
    "from tf_lab.point_clouds.in_out import load_point_clouds_from_filenames, PointCloudDataSet\n",
    "from tf_lab.data_sets.shape_net import pc_loader as snc_loader\n",
    "from tf_lab.data_sets.shape_net import snc_category_to_synth_id"
   ]
  },
  {
   "cell_type": "code",
   "execution_count": 8,
   "metadata": {
    "collapsed": false,
    "deletable": true,
    "editable": true
   },
   "outputs": [
    {
     "name": "stdout",
     "output_type": "stream",
     "text": [
      "The autoreload extension is already loaded. To reload it, use:\n",
      "  %reload_ext autoreload\n"
     ]
    }
   ],
   "source": [
    "%load_ext autoreload\n",
    "%autoreload 2\n",
    "%matplotlib inline"
   ]
  },
  {
   "cell_type": "code",
   "execution_count": 4,
   "metadata": {
    "collapsed": true,
    "deletable": true,
    "editable": true
   },
   "outputs": [],
   "source": [
    "n_pc_samples = 2048\n",
    "do_training = True\n",
    "first_time_running = True\n",
    "load_model = False\n",
    "seed = 42\n",
    "max_training_epochs = 2000\n",
    "loss = 'chamfer'\n",
    "z_rotate = True\n",
    "experiment_name = '2_all_snc_rotated_mlp_arch_with_bnorm_no_dropout' + str(n_pc_samples) +  'pts_' + loss"
   ]
  },
  {
   "cell_type": "code",
   "execution_count": 5,
   "metadata": {
    "collapsed": false,
    "deletable": true,
    "editable": true
   },
   "outputs": [
    {
     "data": {
      "text/plain": [
       "'/orions4-zfs/projects/optas/DATA/OUT/iclr/nn_models/all_snc/2_all_snc_rotated_mlp_arch_with_bnorm_no_dropout2048pts_chamfer'"
      ]
     },
     "execution_count": 5,
     "metadata": {},
     "output_type": "execute_result"
    }
   ],
   "source": [
    "top_data_dir = '/orions4-zfs/projects/optas/DATA/'\n",
    "full_pclouds_path = osp.join(top_data_dir, 'Point_Clouds/Shape_Net/Core/from_manifold_meshes/centered/', str(n_pc_samples))\n",
    "train_dir = osp.join(top_data_dir, 'OUT/iclr/nn_models/all_snc', experiment_name)\n",
    "create_dir(train_dir)"
   ]
  },
  {
   "cell_type": "code",
   "execution_count": 6,
   "metadata": {
    "collapsed": false,
    "deletable": true,
    "editable": true,
    "scrolled": true
   },
   "outputs": [
    {
     "name": "stdout",
     "output_type": "stream",
     "text": [
      "57449 pclouds were loaded. They belong in 57 shape-classes.\n"
     ]
    },
    {
     "name": "stderr",
     "output_type": "stream",
     "text": [
      "/orions4-zfs/projects/optas/Git_Repos/tf_lab/point_clouds/in_out.py:38: UserWarning: Point clouds with the same model name were loaded.\n",
      "  warnings.warn('Point clouds with the same model name were loaded.')\n"
     ]
    }
   ],
   "source": [
    "n_threads = 40\n",
    "verbose = True\n",
    "full_file_names = [f for f in files_in_subdirs(full_pclouds_path, '.ply')]\n",
    "pclouds, model_names, syn_ids = load_point_clouds_from_filenames(full_file_names, n_threads, snc_loader, verbose)\n",
    "model_unames = model_names + '.' + syn_ids\n",
    "train_data = PointCloudDataSet(pclouds, labels=model_unames)"
   ]
  },
  {
   "cell_type": "code",
   "execution_count": 9,
   "metadata": {
    "collapsed": false,
    "deletable": true,
    "editable": true
   },
   "outputs": [],
   "source": [
    "n_input = [n_pc_samples, 3]\n",
    "\n",
    "encoder_args = {'n_filters': [128, 128, 256, 512],\n",
    "                'filter_sizes': [1, 1, 1, 1],\n",
    "                'strides': [1, 1, 1, 1],\n",
    "                'b_norm': True\n",
    "               }\n",
    "\n",
    "decoder_args = {'layer_sizes': [1024, 2048, np.prod(n_input)],\n",
    "                'b_norm': True\n",
    "               }\n",
    "\n",
    "if load_model:\n",
    "    conf = Conf.load(osp.join(train_dir, 'configuration'))\n",
    "    print conf\n",
    "    \n",
    "else:    \n",
    "    conf = Conf(\n",
    "                n_input = n_input,\n",
    "                training_epochs = max_training_epochs,\n",
    "                batch_size = 50,\n",
    "                loss = loss,\n",
    "                denoising = False,\n",
    "                train_dir = train_dir,\n",
    "                loss_display_step = 1,\n",
    "                saver_step = 10,\n",
    "                learning_rate = 0.0005,\n",
    "                z_rotate = z_rotate,\n",
    "                encoder = encoder_with_convs_and_symmetry_new,\n",
    "                encoder_args = encoder_args,\n",
    "                decoder = decoder_with_fc_only,\n",
    "                decoder_args = decoder_args,            \n",
    "               )\n",
    "    conf.allow_gpu_growth = False\n",
    "    conf.experiment_name = experiment_name\n",
    "    conf.save(osp.join(conf.train_dir, 'configuration'))"
   ]
  },
  {
   "cell_type": "code",
   "execution_count": 10,
   "metadata": {
    "collapsed": false
   },
   "outputs": [],
   "source": [
    "reset_tf_graph()\n",
    "ae = PointNetAutoEncoder(experiment_name, conf)\n",
    "\n",
    "if load_model:\n",
    "    saved_epochs = read_saved_epochs(conf.train_dir)\n",
    "    last_epoch = saved_epochs[-1]\n",
    "    ae.restore_model(conf.train_dir, last_epoch, verbose=True)"
   ]
  },
  {
   "cell_type": "code",
   "execution_count": 11,
   "metadata": {
    "collapsed": false,
    "deletable": true,
    "editable": true
   },
   "outputs": [
    {
     "name": "stdout",
     "output_type": "stream",
     "text": [
      "('Epoch:', '0001', 'training time (minutes)=', '1.9179', 'loss=', '0.011056859')\n",
      "INFO:tensorflow:/orions4-zfs/projects/optas/DATA/OUT/iclr/nn_models/all_snc/2_all_snc_rotated_mlp_arch_with_bnorm_no_dropout2048pts_chamfer/models.ckpt-1 is not in all_model_checkpoint_paths. Manually adding it.\n"
     ]
    },
    {
     "name": "stderr",
     "output_type": "stream",
     "text": [
      "INFO:tensorflow:/orions4-zfs/projects/optas/DATA/OUT/iclr/nn_models/all_snc/2_all_snc_rotated_mlp_arch_with_bnorm_no_dropout2048pts_chamfer/models.ckpt-1 is not in all_model_checkpoint_paths. Manually adding it.\n"
     ]
    },
    {
     "name": "stdout",
     "output_type": "stream",
     "text": [
      "('Epoch:', '0002', 'training time (minutes)=', '1.9263', 'loss=', '0.003144248')\n",
      "('Epoch:', '0003', 'training time (minutes)=', '1.9559', 'loss=', '0.002146730')\n",
      "('Epoch:', '0004', 'training time (minutes)=', '2.1156', 'loss=', '0.001834057')\n",
      "('Epoch:', '0005', 'training time (minutes)=', '2.0769', 'loss=', '0.001639452')\n",
      "('Epoch:', '0006', 'training time (minutes)=', '2.0201', 'loss=', '0.001392193')\n",
      "('Epoch:', '0007', 'training time (minutes)=', '1.9808', 'loss=', '0.001332284')\n",
      "('Epoch:', '0008', 'training time (minutes)=', '1.9750', 'loss=', '0.001298236')\n",
      "('Epoch:', '0009', 'training time (minutes)=', '1.9526', 'loss=', '0.001122028')\n",
      "('Epoch:', '0010', 'training time (minutes)=', '2.0199', 'loss=', '0.001064924')\n",
      "INFO:tensorflow:/orions4-zfs/projects/optas/DATA/OUT/iclr/nn_models/all_snc/2_all_snc_rotated_mlp_arch_with_bnorm_no_dropout2048pts_chamfer/models.ckpt-10 is not in all_model_checkpoint_paths. Manually adding it.\n"
     ]
    },
    {
     "name": "stderr",
     "output_type": "stream",
     "text": [
      "INFO:tensorflow:/orions4-zfs/projects/optas/DATA/OUT/iclr/nn_models/all_snc/2_all_snc_rotated_mlp_arch_with_bnorm_no_dropout2048pts_chamfer/models.ckpt-10 is not in all_model_checkpoint_paths. Manually adding it.\n"
     ]
    },
    {
     "name": "stdout",
     "output_type": "stream",
     "text": [
      "('Epoch:', '0011', 'training time (minutes)=', '1.9527', 'loss=', '0.001022843')\n",
      "('Epoch:', '0012', 'training time (minutes)=', '1.9218', 'loss=', '0.000993127')\n",
      "('Epoch:', '0013', 'training time (minutes)=', '1.9317', 'loss=', '0.000949123')\n",
      "('Epoch:', '0014', 'training time (minutes)=', '1.9587', 'loss=', '0.000941023')\n",
      "('Epoch:', '0015', 'training time (minutes)=', '1.9547', 'loss=', '0.000936503')\n",
      "('Epoch:', '0016', 'training time (minutes)=', '1.9937', 'loss=', '0.000870901')\n",
      "('Epoch:', '0017', 'training time (minutes)=', '1.9332', 'loss=', '0.000864837')\n",
      "('Epoch:', '0018', 'training time (minutes)=', '1.9542', 'loss=', '0.000832542')\n",
      "('Epoch:', '0019', 'training time (minutes)=', '1.9861', 'loss=', '0.000837028')\n",
      "('Epoch:', '0020', 'training time (minutes)=', '1.9442', 'loss=', '0.000819186')\n",
      "INFO:tensorflow:/orions4-zfs/projects/optas/DATA/OUT/iclr/nn_models/all_snc/2_all_snc_rotated_mlp_arch_with_bnorm_no_dropout2048pts_chamfer/models.ckpt-20 is not in all_model_checkpoint_paths. Manually adding it.\n"
     ]
    },
    {
     "name": "stderr",
     "output_type": "stream",
     "text": [
      "INFO:tensorflow:/orions4-zfs/projects/optas/DATA/OUT/iclr/nn_models/all_snc/2_all_snc_rotated_mlp_arch_with_bnorm_no_dropout2048pts_chamfer/models.ckpt-20 is not in all_model_checkpoint_paths. Manually adding it.\n"
     ]
    },
    {
     "name": "stdout",
     "output_type": "stream",
     "text": [
      "('Epoch:', '0021', 'training time (minutes)=', '1.9212', 'loss=', '0.000790324')\n",
      "('Epoch:', '0022', 'training time (minutes)=', '1.9282', 'loss=', '0.000795377')\n",
      "('Epoch:', '0023', 'training time (minutes)=', '1.9165', 'loss=', '0.000772276')\n",
      "('Epoch:', '0024', 'training time (minutes)=', '1.9455', 'loss=', '0.000786070')\n",
      "('Epoch:', '0025', 'training time (minutes)=', '2.1164', 'loss=', '0.000753771')\n",
      "('Epoch:', '0026', 'training time (minutes)=', '1.9909', 'loss=', '0.000743064')\n",
      "('Epoch:', '0027', 'training time (minutes)=', '1.9453', 'loss=', '0.000746629')\n",
      "('Epoch:', '0028', 'training time (minutes)=', '1.9327', 'loss=', '0.000733556')\n",
      "('Epoch:', '0029', 'training time (minutes)=', '2.0414', 'loss=', '0.000737710')\n",
      "('Epoch:', '0030', 'training time (minutes)=', '2.0683', 'loss=', '0.000710288')\n",
      "INFO:tensorflow:/orions4-zfs/projects/optas/DATA/OUT/iclr/nn_models/all_snc/2_all_snc_rotated_mlp_arch_with_bnorm_no_dropout2048pts_chamfer/models.ckpt-30 is not in all_model_checkpoint_paths. Manually adding it.\n"
     ]
    },
    {
     "name": "stderr",
     "output_type": "stream",
     "text": [
      "INFO:tensorflow:/orions4-zfs/projects/optas/DATA/OUT/iclr/nn_models/all_snc/2_all_snc_rotated_mlp_arch_with_bnorm_no_dropout2048pts_chamfer/models.ckpt-30 is not in all_model_checkpoint_paths. Manually adding it.\n"
     ]
    },
    {
     "name": "stdout",
     "output_type": "stream",
     "text": [
      "('Epoch:', '0031', 'training time (minutes)=', '2.1021', 'loss=', '0.000724291')\n",
      "('Epoch:', '0032', 'training time (minutes)=', '1.9176', 'loss=', '0.000693697')\n",
      "('Epoch:', '0033', 'training time (minutes)=', '1.9202', 'loss=', '0.000690633')\n",
      "('Epoch:', '0034', 'training time (minutes)=', '1.9401', 'loss=', '0.000686825')\n",
      "('Epoch:', '0035', 'training time (minutes)=', '1.9298', 'loss=', '0.000678895')\n",
      "('Epoch:', '0036', 'training time (minutes)=', '1.9228', 'loss=', '0.000675310')\n",
      "('Epoch:', '0037', 'training time (minutes)=', '2.0356', 'loss=', '0.000667767')\n",
      "('Epoch:', '0038', 'training time (minutes)=', '1.9180', 'loss=', '0.000699388')\n",
      "('Epoch:', '0039', 'training time (minutes)=', '1.9098', 'loss=', '0.000664510')\n",
      "('Epoch:', '0040', 'training time (minutes)=', '1.9382', 'loss=', '0.000660420')\n",
      "INFO:tensorflow:/orions4-zfs/projects/optas/DATA/OUT/iclr/nn_models/all_snc/2_all_snc_rotated_mlp_arch_with_bnorm_no_dropout2048pts_chamfer/models.ckpt-40 is not in all_model_checkpoint_paths. Manually adding it.\n"
     ]
    },
    {
     "name": "stderr",
     "output_type": "stream",
     "text": [
      "INFO:tensorflow:/orions4-zfs/projects/optas/DATA/OUT/iclr/nn_models/all_snc/2_all_snc_rotated_mlp_arch_with_bnorm_no_dropout2048pts_chamfer/models.ckpt-40 is not in all_model_checkpoint_paths. Manually adding it.\n"
     ]
    },
    {
     "name": "stdout",
     "output_type": "stream",
     "text": [
      "('Epoch:', '0041', 'training time (minutes)=', '1.9276', 'loss=', '0.000640171')\n",
      "('Epoch:', '0042', 'training time (minutes)=', '1.9263', 'loss=', '0.000661606')\n",
      "('Epoch:', '0043', 'training time (minutes)=', '1.9207', 'loss=', '0.000654677')\n",
      "('Epoch:', '0044', 'training time (minutes)=', '1.9170', 'loss=', '0.000646067')\n",
      "('Epoch:', '0045', 'training time (minutes)=', '1.9699', 'loss=', '0.000636820')\n",
      "('Epoch:', '0046', 'training time (minutes)=', '1.9417', 'loss=', '0.000641921')\n",
      "('Epoch:', '0047', 'training time (minutes)=', '2.0488', 'loss=', '0.000630274')\n",
      "('Epoch:', '0048', 'training time (minutes)=', '1.9281', 'loss=', '0.000634914')\n",
      "('Epoch:', '0049', 'training time (minutes)=', '2.0906', 'loss=', '0.000639320')\n",
      "('Epoch:', '0050', 'training time (minutes)=', '1.9282', 'loss=', '0.000636106')\n",
      "INFO:tensorflow:/orions4-zfs/projects/optas/DATA/OUT/iclr/nn_models/all_snc/2_all_snc_rotated_mlp_arch_with_bnorm_no_dropout2048pts_chamfer/models.ckpt-50 is not in all_model_checkpoint_paths. Manually adding it.\n"
     ]
    },
    {
     "name": "stderr",
     "output_type": "stream",
     "text": [
      "INFO:tensorflow:/orions4-zfs/projects/optas/DATA/OUT/iclr/nn_models/all_snc/2_all_snc_rotated_mlp_arch_with_bnorm_no_dropout2048pts_chamfer/models.ckpt-50 is not in all_model_checkpoint_paths. Manually adding it.\n"
     ]
    },
    {
     "name": "stdout",
     "output_type": "stream",
     "text": [
      "('Epoch:', '0051', 'training time (minutes)=', '1.9230', 'loss=', '0.000621847')\n",
      "('Epoch:', '0052', 'training time (minutes)=', '1.9221', 'loss=', '0.000620582')\n",
      "('Epoch:', '0053', 'training time (minutes)=', '1.9170', 'loss=', '0.000618875')\n",
      "('Epoch:', '0054', 'training time (minutes)=', '1.9341', 'loss=', '0.000614955')\n",
      "('Epoch:', '0055', 'training time (minutes)=', '1.9107', 'loss=', '0.000615536')\n",
      "('Epoch:', '0056', 'training time (minutes)=', '1.9163', 'loss=', '0.000606247')\n",
      "('Epoch:', '0057', 'training time (minutes)=', '1.9124', 'loss=', '0.000654548')\n",
      "('Epoch:', '0058', 'training time (minutes)=', '2.1708', 'loss=', '0.000602113')\n",
      "('Epoch:', '0059', 'training time (minutes)=', '1.9620', 'loss=', '0.000614411')\n",
      "('Epoch:', '0060', 'training time (minutes)=', '2.0607', 'loss=', '0.000597587')\n",
      "INFO:tensorflow:/orions4-zfs/projects/optas/DATA/OUT/iclr/nn_models/all_snc/2_all_snc_rotated_mlp_arch_with_bnorm_no_dropout2048pts_chamfer/models.ckpt-60 is not in all_model_checkpoint_paths. Manually adding it.\n"
     ]
    },
    {
     "name": "stderr",
     "output_type": "stream",
     "text": [
      "INFO:tensorflow:/orions4-zfs/projects/optas/DATA/OUT/iclr/nn_models/all_snc/2_all_snc_rotated_mlp_arch_with_bnorm_no_dropout2048pts_chamfer/models.ckpt-60 is not in all_model_checkpoint_paths. Manually adding it.\n"
     ]
    },
    {
     "name": "stdout",
     "output_type": "stream",
     "text": [
      "('Epoch:', '0061', 'training time (minutes)=', '2.0536', 'loss=', '0.000590423')\n",
      "('Epoch:', '0062', 'training time (minutes)=', '1.9373', 'loss=', '0.000595139')\n",
      "('Epoch:', '0063', 'training time (minutes)=', '1.9187', 'loss=', '0.000587774')\n",
      "('Epoch:', '0064', 'training time (minutes)=', '1.9391', 'loss=', '0.000593980')\n",
      "('Epoch:', '0065', 'training time (minutes)=', '1.9265', 'loss=', '0.000594202')\n",
      "('Epoch:', '0066', 'training time (minutes)=', '1.9227', 'loss=', '0.000593164')\n",
      "('Epoch:', '0067', 'training time (minutes)=', '1.9903', 'loss=', '0.000586702')\n",
      "('Epoch:', '0068', 'training time (minutes)=', '1.9307', 'loss=', '0.000585359')\n",
      "('Epoch:', '0069', 'training time (minutes)=', '1.9272', 'loss=', '0.000587923')\n",
      "('Epoch:', '0070', 'training time (minutes)=', '1.9304', 'loss=', '0.000591135')\n",
      "INFO:tensorflow:/orions4-zfs/projects/optas/DATA/OUT/iclr/nn_models/all_snc/2_all_snc_rotated_mlp_arch_with_bnorm_no_dropout2048pts_chamfer/models.ckpt-70 is not in all_model_checkpoint_paths. Manually adding it.\n"
     ]
    },
    {
     "name": "stderr",
     "output_type": "stream",
     "text": [
      "INFO:tensorflow:/orions4-zfs/projects/optas/DATA/OUT/iclr/nn_models/all_snc/2_all_snc_rotated_mlp_arch_with_bnorm_no_dropout2048pts_chamfer/models.ckpt-70 is not in all_model_checkpoint_paths. Manually adding it.\n"
     ]
    },
    {
     "name": "stdout",
     "output_type": "stream",
     "text": [
      "('Epoch:', '0071', 'training time (minutes)=', '1.9297', 'loss=', '0.000576636')\n",
      "('Epoch:', '0072', 'training time (minutes)=', '1.9330', 'loss=', '0.000578384')\n",
      "('Epoch:', '0073', 'training time (minutes)=', '1.9247', 'loss=', '0.000586484')\n",
      "('Epoch:', '0074', 'training time (minutes)=', '1.9258', 'loss=', '0.000575572')\n",
      "('Epoch:', '0075', 'training time (minutes)=', '2.0196', 'loss=', '0.000578634')\n",
      "('Epoch:', '0076', 'training time (minutes)=', '2.1806', 'loss=', '0.000562966')\n",
      "('Epoch:', '0077', 'training time (minutes)=', '2.1717', 'loss=', '0.000570928')\n",
      "('Epoch:', '0078', 'training time (minutes)=', '2.0934', 'loss=', '0.000566457')\n",
      "('Epoch:', '0079', 'training time (minutes)=', '2.2285', 'loss=', '0.000572644')\n",
      "('Epoch:', '0080', 'training time (minutes)=', '2.1419', 'loss=', '0.000561837')\n",
      "INFO:tensorflow:/orions4-zfs/projects/optas/DATA/OUT/iclr/nn_models/all_snc/2_all_snc_rotated_mlp_arch_with_bnorm_no_dropout2048pts_chamfer/models.ckpt-80 is not in all_model_checkpoint_paths. Manually adding it.\n"
     ]
    },
    {
     "name": "stderr",
     "output_type": "stream",
     "text": [
      "INFO:tensorflow:/orions4-zfs/projects/optas/DATA/OUT/iclr/nn_models/all_snc/2_all_snc_rotated_mlp_arch_with_bnorm_no_dropout2048pts_chamfer/models.ckpt-80 is not in all_model_checkpoint_paths. Manually adding it.\n"
     ]
    },
    {
     "name": "stdout",
     "output_type": "stream",
     "text": [
      "('Epoch:', '0081', 'training time (minutes)=', '2.0030', 'loss=', '0.000567354')\n",
      "('Epoch:', '0082', 'training time (minutes)=', '2.1694', 'loss=', '0.000555624')\n",
      "('Epoch:', '0083', 'training time (minutes)=', '2.1923', 'loss=', '0.000557865')\n",
      "('Epoch:', '0084', 'training time (minutes)=', '1.8763', 'loss=', '0.000568365')\n",
      "('Epoch:', '0085', 'training time (minutes)=', '1.8815', 'loss=', '0.000572748')\n",
      "('Epoch:', '0086', 'training time (minutes)=', '2.1300', 'loss=', '0.000557788')\n",
      "('Epoch:', '0087', 'training time (minutes)=', '1.8774', 'loss=', '0.000565291')\n",
      "('Epoch:', '0088', 'training time (minutes)=', '2.0966', 'loss=', '0.000548920')\n",
      "('Epoch:', '0089', 'training time (minutes)=', '1.8787', 'loss=', '0.000553276')\n",
      "('Epoch:', '0090', 'training time (minutes)=', '1.8766', 'loss=', '0.000563629')\n",
      "INFO:tensorflow:/orions4-zfs/projects/optas/DATA/OUT/iclr/nn_models/all_snc/2_all_snc_rotated_mlp_arch_with_bnorm_no_dropout2048pts_chamfer/models.ckpt-90 is not in all_model_checkpoint_paths. Manually adding it.\n"
     ]
    },
    {
     "name": "stderr",
     "output_type": "stream",
     "text": [
      "INFO:tensorflow:/orions4-zfs/projects/optas/DATA/OUT/iclr/nn_models/all_snc/2_all_snc_rotated_mlp_arch_with_bnorm_no_dropout2048pts_chamfer/models.ckpt-90 is not in all_model_checkpoint_paths. Manually adding it.\n"
     ]
    },
    {
     "name": "stdout",
     "output_type": "stream",
     "text": [
      "('Epoch:', '0091', 'training time (minutes)=', '1.8735', 'loss=', '0.000556647')\n",
      "('Epoch:', '0092', 'training time (minutes)=', '1.9384', 'loss=', '0.000547730')\n",
      "('Epoch:', '0093', 'training time (minutes)=', '1.8772', 'loss=', '0.000540765')\n",
      "('Epoch:', '0094', 'training time (minutes)=', '2.0372', 'loss=', '0.000545714')\n",
      "('Epoch:', '0095', 'training time (minutes)=', '1.8761', 'loss=', '0.000554154')\n",
      "('Epoch:', '0096', 'training time (minutes)=', '1.8818', 'loss=', '0.000546691')\n",
      "('Epoch:', '0097', 'training time (minutes)=', '1.8975', 'loss=', '0.000545038')\n",
      "('Epoch:', '0098', 'training time (minutes)=', '1.8880', 'loss=', '0.000534471')\n",
      "('Epoch:', '0099', 'training time (minutes)=', '1.9448', 'loss=', '0.000536143')\n",
      "('Epoch:', '0100', 'training time (minutes)=', '1.9171', 'loss=', '0.000551451')\n",
      "INFO:tensorflow:/orions4-zfs/projects/optas/DATA/OUT/iclr/nn_models/all_snc/2_all_snc_rotated_mlp_arch_with_bnorm_no_dropout2048pts_chamfer/models.ckpt-100 is not in all_model_checkpoint_paths. Manually adding it.\n"
     ]
    },
    {
     "name": "stderr",
     "output_type": "stream",
     "text": [
      "INFO:tensorflow:/orions4-zfs/projects/optas/DATA/OUT/iclr/nn_models/all_snc/2_all_snc_rotated_mlp_arch_with_bnorm_no_dropout2048pts_chamfer/models.ckpt-100 is not in all_model_checkpoint_paths. Manually adding it.\n"
     ]
    },
    {
     "name": "stdout",
     "output_type": "stream",
     "text": [
      "('Epoch:', '0101', 'training time (minutes)=', '1.9042', 'loss=', '0.000551666')\n",
      "('Epoch:', '0102', 'training time (minutes)=', '1.9012', 'loss=', '0.000537791')\n",
      "('Epoch:', '0103', 'training time (minutes)=', '1.9393', 'loss=', '0.000541684')\n",
      "('Epoch:', '0104', 'training time (minutes)=', '2.1643', 'loss=', '0.000538585')\n",
      "('Epoch:', '0105', 'training time (minutes)=', '1.8913', 'loss=', '0.000533676')\n",
      "('Epoch:', '0106', 'training time (minutes)=', '1.8817', 'loss=', '0.000531263')\n",
      "('Epoch:', '0107', 'training time (minutes)=', '1.8820', 'loss=', '0.000527246')\n",
      "('Epoch:', '0108', 'training time (minutes)=', '1.8696', 'loss=', '0.000538568')\n",
      "('Epoch:', '0109', 'training time (minutes)=', '1.8744', 'loss=', '0.000531828')\n",
      "('Epoch:', '0110', 'training time (minutes)=', '1.8705', 'loss=', '0.000533944')\n",
      "INFO:tensorflow:/orions4-zfs/projects/optas/DATA/OUT/iclr/nn_models/all_snc/2_all_snc_rotated_mlp_arch_with_bnorm_no_dropout2048pts_chamfer/models.ckpt-110 is not in all_model_checkpoint_paths. Manually adding it.\n"
     ]
    },
    {
     "name": "stderr",
     "output_type": "stream",
     "text": [
      "INFO:tensorflow:/orions4-zfs/projects/optas/DATA/OUT/iclr/nn_models/all_snc/2_all_snc_rotated_mlp_arch_with_bnorm_no_dropout2048pts_chamfer/models.ckpt-110 is not in all_model_checkpoint_paths. Manually adding it.\n"
     ]
    },
    {
     "name": "stdout",
     "output_type": "stream",
     "text": [
      "('Epoch:', '0111', 'training time (minutes)=', '1.9015', 'loss=', '0.000533202')\n",
      "('Epoch:', '0112', 'training time (minutes)=', '1.9639', 'loss=', '0.000534689')\n",
      "('Epoch:', '0113', 'training time (minutes)=', '1.8821', 'loss=', '0.000532119')\n",
      "('Epoch:', '0114', 'training time (minutes)=', '1.9467', 'loss=', '0.000511153')\n",
      "('Epoch:', '0115', 'training time (minutes)=', '2.1261', 'loss=', '0.000528635')\n",
      "('Epoch:', '0116', 'training time (minutes)=', '1.8845', 'loss=', '0.000522099')\n",
      "('Epoch:', '0117', 'training time (minutes)=', '2.2142', 'loss=', '0.000519816')\n",
      "('Epoch:', '0118', 'training time (minutes)=', '2.0408', 'loss=', '0.000521808')\n",
      "('Epoch:', '0119', 'training time (minutes)=', '1.8880', 'loss=', '0.000514509')\n",
      "('Epoch:', '0120', 'training time (minutes)=', '1.8834', 'loss=', '0.000523540')\n",
      "INFO:tensorflow:/orions4-zfs/projects/optas/DATA/OUT/iclr/nn_models/all_snc/2_all_snc_rotated_mlp_arch_with_bnorm_no_dropout2048pts_chamfer/models.ckpt-120 is not in all_model_checkpoint_paths. Manually adding it.\n"
     ]
    },
    {
     "name": "stderr",
     "output_type": "stream",
     "text": [
      "INFO:tensorflow:/orions4-zfs/projects/optas/DATA/OUT/iclr/nn_models/all_snc/2_all_snc_rotated_mlp_arch_with_bnorm_no_dropout2048pts_chamfer/models.ckpt-120 is not in all_model_checkpoint_paths. Manually adding it.\n"
     ]
    },
    {
     "name": "stdout",
     "output_type": "stream",
     "text": [
      "('Epoch:', '0121', 'training time (minutes)=', '1.9486', 'loss=', '0.000520830')\n",
      "('Epoch:', '0122', 'training time (minutes)=', '1.8890', 'loss=', '0.000514398')\n",
      "('Epoch:', '0123', 'training time (minutes)=', '1.8790', 'loss=', '0.000527662')\n",
      "('Epoch:', '0124', 'training time (minutes)=', '1.8677', 'loss=', '0.000528398')\n",
      "('Epoch:', '0125', 'training time (minutes)=', '2.2381', 'loss=', '0.000526444')\n",
      "('Epoch:', '0126', 'training time (minutes)=', '2.1458', 'loss=', '0.000513767')\n",
      "('Epoch:', '0127', 'training time (minutes)=', '1.9340', 'loss=', '0.000511036')\n",
      "('Epoch:', '0128', 'training time (minutes)=', '2.0139', 'loss=', '0.000519394')\n",
      "('Epoch:', '0129', 'training time (minutes)=', '1.9418', 'loss=', '0.000509242')\n",
      "('Epoch:', '0130', 'training time (minutes)=', '2.2145', 'loss=', '0.000510566')\n",
      "INFO:tensorflow:/orions4-zfs/projects/optas/DATA/OUT/iclr/nn_models/all_snc/2_all_snc_rotated_mlp_arch_with_bnorm_no_dropout2048pts_chamfer/models.ckpt-130 is not in all_model_checkpoint_paths. Manually adding it.\n"
     ]
    },
    {
     "name": "stderr",
     "output_type": "stream",
     "text": [
      "INFO:tensorflow:/orions4-zfs/projects/optas/DATA/OUT/iclr/nn_models/all_snc/2_all_snc_rotated_mlp_arch_with_bnorm_no_dropout2048pts_chamfer/models.ckpt-130 is not in all_model_checkpoint_paths. Manually adding it.\n"
     ]
    },
    {
     "name": "stdout",
     "output_type": "stream",
     "text": [
      "('Epoch:', '0131', 'training time (minutes)=', '1.9027', 'loss=', '0.000514259')\n",
      "('Epoch:', '0132', 'training time (minutes)=', '1.9087', 'loss=', '0.000512460')\n",
      "('Epoch:', '0133', 'training time (minutes)=', '1.8837', 'loss=', '0.000506732')\n",
      "('Epoch:', '0134', 'training time (minutes)=', '2.2757', 'loss=', '0.000505854')\n",
      "('Epoch:', '0135', 'training time (minutes)=', '1.9597', 'loss=', '0.000518141')\n",
      "('Epoch:', '0136', 'training time (minutes)=', '2.1215', 'loss=', '0.000511102')\n",
      "('Epoch:', '0137', 'training time (minutes)=', '2.2686', 'loss=', '0.000518998')\n",
      "('Epoch:', '0138', 'training time (minutes)=', '1.9001', 'loss=', '0.000498186')\n",
      "('Epoch:', '0139', 'training time (minutes)=', '1.8814', 'loss=', '0.000506954')\n",
      "('Epoch:', '0140', 'training time (minutes)=', '2.2548', 'loss=', '0.000535263')\n",
      "INFO:tensorflow:/orions4-zfs/projects/optas/DATA/OUT/iclr/nn_models/all_snc/2_all_snc_rotated_mlp_arch_with_bnorm_no_dropout2048pts_chamfer/models.ckpt-140 is not in all_model_checkpoint_paths. Manually adding it.\n"
     ]
    },
    {
     "name": "stderr",
     "output_type": "stream",
     "text": [
      "INFO:tensorflow:/orions4-zfs/projects/optas/DATA/OUT/iclr/nn_models/all_snc/2_all_snc_rotated_mlp_arch_with_bnorm_no_dropout2048pts_chamfer/models.ckpt-140 is not in all_model_checkpoint_paths. Manually adding it.\n"
     ]
    },
    {
     "name": "stdout",
     "output_type": "stream",
     "text": [
      "('Epoch:', '0141', 'training time (minutes)=', '1.8857', 'loss=', '0.000507045')\n",
      "('Epoch:', '0142', 'training time (minutes)=', '2.1292', 'loss=', '0.000506164')\n",
      "('Epoch:', '0143', 'training time (minutes)=', '1.8841', 'loss=', '0.000507147')\n",
      "('Epoch:', '0144', 'training time (minutes)=', '2.2910', 'loss=', '0.000503238')\n",
      "('Epoch:', '0145', 'training time (minutes)=', '1.8787', 'loss=', '0.000508072')\n",
      "('Epoch:', '0146', 'training time (minutes)=', '1.9143', 'loss=', '0.000499768')\n",
      "('Epoch:', '0147', 'training time (minutes)=', '2.2358', 'loss=', '0.000500793')\n",
      "('Epoch:', '0148', 'training time (minutes)=', '1.8922', 'loss=', '0.000504058')\n",
      "('Epoch:', '0149', 'training time (minutes)=', '1.8991', 'loss=', '0.000492094')\n",
      "('Epoch:', '0150', 'training time (minutes)=', '1.9146', 'loss=', '0.000505567')\n",
      "INFO:tensorflow:/orions4-zfs/projects/optas/DATA/OUT/iclr/nn_models/all_snc/2_all_snc_rotated_mlp_arch_with_bnorm_no_dropout2048pts_chamfer/models.ckpt-150 is not in all_model_checkpoint_paths. Manually adding it.\n"
     ]
    },
    {
     "name": "stderr",
     "output_type": "stream",
     "text": [
      "INFO:tensorflow:/orions4-zfs/projects/optas/DATA/OUT/iclr/nn_models/all_snc/2_all_snc_rotated_mlp_arch_with_bnorm_no_dropout2048pts_chamfer/models.ckpt-150 is not in all_model_checkpoint_paths. Manually adding it.\n"
     ]
    },
    {
     "name": "stdout",
     "output_type": "stream",
     "text": [
      "('Epoch:', '0151', 'training time (minutes)=', '1.9922', 'loss=', '0.000499574')\n",
      "('Epoch:', '0152', 'training time (minutes)=', '2.1672', 'loss=', '0.000497803')\n",
      "('Epoch:', '0153', 'training time (minutes)=', '2.2968', 'loss=', '0.000513772')\n",
      "('Epoch:', '0154', 'training time (minutes)=', '2.2164', 'loss=', '0.000497754')\n",
      "('Epoch:', '0155', 'training time (minutes)=', '2.2462', 'loss=', '0.000496038')\n",
      "('Epoch:', '0156', 'training time (minutes)=', '2.1739', 'loss=', '0.000493332')\n",
      "('Epoch:', '0157', 'training time (minutes)=', '1.9690', 'loss=', '0.000491369')\n",
      "('Epoch:', '0158', 'training time (minutes)=', '1.9145', 'loss=', '0.000503324')\n",
      "('Epoch:', '0159', 'training time (minutes)=', '1.9439', 'loss=', '0.000501751')\n",
      "('Epoch:', '0160', 'training time (minutes)=', '1.9230', 'loss=', '0.000493749')\n",
      "INFO:tensorflow:/orions4-zfs/projects/optas/DATA/OUT/iclr/nn_models/all_snc/2_all_snc_rotated_mlp_arch_with_bnorm_no_dropout2048pts_chamfer/models.ckpt-160 is not in all_model_checkpoint_paths. Manually adding it.\n"
     ]
    },
    {
     "name": "stderr",
     "output_type": "stream",
     "text": [
      "INFO:tensorflow:/orions4-zfs/projects/optas/DATA/OUT/iclr/nn_models/all_snc/2_all_snc_rotated_mlp_arch_with_bnorm_no_dropout2048pts_chamfer/models.ckpt-160 is not in all_model_checkpoint_paths. Manually adding it.\n"
     ]
    },
    {
     "name": "stdout",
     "output_type": "stream",
     "text": [
      "('Epoch:', '0161', 'training time (minutes)=', '2.1286', 'loss=', '0.000497426')\n",
      "('Epoch:', '0162', 'training time (minutes)=', '1.9801', 'loss=', '0.000490985')\n",
      "('Epoch:', '0163', 'training time (minutes)=', '1.9222', 'loss=', '0.000483080')\n",
      "('Epoch:', '0164', 'training time (minutes)=', '1.9473', 'loss=', '0.000494588')\n",
      "('Epoch:', '0165', 'training time (minutes)=', '1.9247', 'loss=', '0.000483713')\n",
      "('Epoch:', '0166', 'training time (minutes)=', '1.9355', 'loss=', '0.000491323')\n",
      "('Epoch:', '0167', 'training time (minutes)=', '1.9254', 'loss=', '0.000493560')\n",
      "('Epoch:', '0168', 'training time (minutes)=', '1.9607', 'loss=', '0.000485054')\n",
      "('Epoch:', '0169', 'training time (minutes)=', '1.9124', 'loss=', '0.000482103')\n",
      "('Epoch:', '0170', 'training time (minutes)=', '1.9071', 'loss=', '0.000498137')\n",
      "INFO:tensorflow:/orions4-zfs/projects/optas/DATA/OUT/iclr/nn_models/all_snc/2_all_snc_rotated_mlp_arch_with_bnorm_no_dropout2048pts_chamfer/models.ckpt-170 is not in all_model_checkpoint_paths. Manually adding it.\n"
     ]
    },
    {
     "name": "stderr",
     "output_type": "stream",
     "text": [
      "INFO:tensorflow:/orions4-zfs/projects/optas/DATA/OUT/iclr/nn_models/all_snc/2_all_snc_rotated_mlp_arch_with_bnorm_no_dropout2048pts_chamfer/models.ckpt-170 is not in all_model_checkpoint_paths. Manually adding it.\n"
     ]
    },
    {
     "name": "stdout",
     "output_type": "stream",
     "text": [
      "('Epoch:', '0171', 'training time (minutes)=', '2.1872', 'loss=', '0.000481565')\n",
      "('Epoch:', '0172', 'training time (minutes)=', '2.2939', 'loss=', '0.000484493')\n",
      "('Epoch:', '0173', 'training time (minutes)=', '1.8839', 'loss=', '0.000488637')\n",
      "('Epoch:', '0174', 'training time (minutes)=', '2.2859', 'loss=', '0.000485127')\n",
      "('Epoch:', '0175', 'training time (minutes)=', '2.2337', 'loss=', '0.000493797')\n",
      "('Epoch:', '0176', 'training time (minutes)=', '1.9408', 'loss=', '0.000480527')\n",
      "('Epoch:', '0177', 'training time (minutes)=', '1.8871', 'loss=', '0.000483186')\n",
      "('Epoch:', '0178', 'training time (minutes)=', '1.8837', 'loss=', '0.000483016')\n",
      "('Epoch:', '0179', 'training time (minutes)=', '2.3766', 'loss=', '0.000497512')\n",
      "('Epoch:', '0180', 'training time (minutes)=', '2.2588', 'loss=', '0.000492427')\n",
      "INFO:tensorflow:/orions4-zfs/projects/optas/DATA/OUT/iclr/nn_models/all_snc/2_all_snc_rotated_mlp_arch_with_bnorm_no_dropout2048pts_chamfer/models.ckpt-180 is not in all_model_checkpoint_paths. Manually adding it.\n"
     ]
    },
    {
     "name": "stderr",
     "output_type": "stream",
     "text": [
      "INFO:tensorflow:/orions4-zfs/projects/optas/DATA/OUT/iclr/nn_models/all_snc/2_all_snc_rotated_mlp_arch_with_bnorm_no_dropout2048pts_chamfer/models.ckpt-180 is not in all_model_checkpoint_paths. Manually adding it.\n"
     ]
    },
    {
     "name": "stdout",
     "output_type": "stream",
     "text": [
      "('Epoch:', '0181', 'training time (minutes)=', '3.0035', 'loss=', '0.000490832')\n",
      "('Epoch:', '0182', 'training time (minutes)=', '3.0898', 'loss=', '0.000480305')\n",
      "('Epoch:', '0183', 'training time (minutes)=', '2.8167', 'loss=', '0.000481766')\n",
      "('Epoch:', '0184', 'training time (minutes)=', '2.6966', 'loss=', '0.000487670')\n",
      "('Epoch:', '0185', 'training time (minutes)=', '2.8491', 'loss=', '0.000480814')\n",
      "('Epoch:', '0186', 'training time (minutes)=', '2.6560', 'loss=', '0.000484031')\n",
      "('Epoch:', '0187', 'training time (minutes)=', '3.1976', 'loss=', '0.000484224')\n",
      "('Epoch:', '0188', 'training time (minutes)=', '2.6443', 'loss=', '0.000481607')\n",
      "('Epoch:', '0189', 'training time (minutes)=', '2.5910', 'loss=', '0.000480247')\n",
      "('Epoch:', '0190', 'training time (minutes)=', '2.6664', 'loss=', '0.000487248')\n",
      "INFO:tensorflow:/orions4-zfs/projects/optas/DATA/OUT/iclr/nn_models/all_snc/2_all_snc_rotated_mlp_arch_with_bnorm_no_dropout2048pts_chamfer/models.ckpt-190 is not in all_model_checkpoint_paths. Manually adding it.\n"
     ]
    },
    {
     "name": "stderr",
     "output_type": "stream",
     "text": [
      "INFO:tensorflow:/orions4-zfs/projects/optas/DATA/OUT/iclr/nn_models/all_snc/2_all_snc_rotated_mlp_arch_with_bnorm_no_dropout2048pts_chamfer/models.ckpt-190 is not in all_model_checkpoint_paths. Manually adding it.\n"
     ]
    },
    {
     "name": "stdout",
     "output_type": "stream",
     "text": [
      "('Epoch:', '0191', 'training time (minutes)=', '2.6205', 'loss=', '0.000486004')\n",
      "('Epoch:', '0192', 'training time (minutes)=', '2.6891', 'loss=', '0.000479122')\n",
      "('Epoch:', '0193', 'training time (minutes)=', '2.7123', 'loss=', '0.000473711')\n",
      "('Epoch:', '0194', 'training time (minutes)=', '2.9276', 'loss=', '0.000479219')\n",
      "('Epoch:', '0195', 'training time (minutes)=', '2.6784', 'loss=', '0.000470682')\n",
      "('Epoch:', '0196', 'training time (minutes)=', '2.7095', 'loss=', '0.000473490')\n",
      "('Epoch:', '0197', 'training time (minutes)=', '2.7420', 'loss=', '0.000482397')\n",
      "('Epoch:', '0198', 'training time (minutes)=', '2.9136', 'loss=', '0.000470743')\n",
      "('Epoch:', '0199', 'training time (minutes)=', '2.4038', 'loss=', '0.000475467')\n",
      "('Epoch:', '0200', 'training time (minutes)=', '2.5175', 'loss=', '0.000480095')\n",
      "INFO:tensorflow:/orions4-zfs/projects/optas/DATA/OUT/iclr/nn_models/all_snc/2_all_snc_rotated_mlp_arch_with_bnorm_no_dropout2048pts_chamfer/models.ckpt-200 is not in all_model_checkpoint_paths. Manually adding it.\n"
     ]
    },
    {
     "name": "stderr",
     "output_type": "stream",
     "text": [
      "INFO:tensorflow:/orions4-zfs/projects/optas/DATA/OUT/iclr/nn_models/all_snc/2_all_snc_rotated_mlp_arch_with_bnorm_no_dropout2048pts_chamfer/models.ckpt-200 is not in all_model_checkpoint_paths. Manually adding it.\n"
     ]
    },
    {
     "name": "stdout",
     "output_type": "stream",
     "text": [
      "('Epoch:', '0201', 'training time (minutes)=', '2.5899', 'loss=', '0.000476468')\n",
      "('Epoch:', '0202', 'training time (minutes)=', '2.6004', 'loss=', '0.000471116')\n",
      "('Epoch:', '0203', 'training time (minutes)=', '2.5798', 'loss=', '0.000480918')\n",
      "('Epoch:', '0204', 'training time (minutes)=', '2.5591', 'loss=', '0.000474112')\n",
      "('Epoch:', '0205', 'training time (minutes)=', '2.8828', 'loss=', '0.000494015')\n",
      "('Epoch:', '0206', 'training time (minutes)=', '2.6512', 'loss=', '0.000581546')\n",
      "('Epoch:', '0207', 'training time (minutes)=', '2.5018', 'loss=', '0.000521815')\n",
      "('Epoch:', '0208', 'training time (minutes)=', '2.6514', 'loss=', '0.000473003')\n",
      "('Epoch:', '0209', 'training time (minutes)=', '2.5301', 'loss=', '0.000469324')\n",
      "('Epoch:', '0210', 'training time (minutes)=', '2.4895', 'loss=', '0.000470115')\n",
      "INFO:tensorflow:/orions4-zfs/projects/optas/DATA/OUT/iclr/nn_models/all_snc/2_all_snc_rotated_mlp_arch_with_bnorm_no_dropout2048pts_chamfer/models.ckpt-210 is not in all_model_checkpoint_paths. Manually adding it.\n"
     ]
    },
    {
     "name": "stderr",
     "output_type": "stream",
     "text": [
      "INFO:tensorflow:/orions4-zfs/projects/optas/DATA/OUT/iclr/nn_models/all_snc/2_all_snc_rotated_mlp_arch_with_bnorm_no_dropout2048pts_chamfer/models.ckpt-210 is not in all_model_checkpoint_paths. Manually adding it.\n"
     ]
    },
    {
     "name": "stdout",
     "output_type": "stream",
     "text": [
      "('Epoch:', '0211', 'training time (minutes)=', '2.5010', 'loss=', '0.000469951')\n",
      "('Epoch:', '0212', 'training time (minutes)=', '2.5493', 'loss=', '0.000465391')\n",
      "('Epoch:', '0213', 'training time (minutes)=', '2.5072', 'loss=', '0.000470553')\n",
      "('Epoch:', '0214', 'training time (minutes)=', '2.5712', 'loss=', '0.000476590')\n",
      "('Epoch:', '0215', 'training time (minutes)=', '2.6169', 'loss=', '0.000470339')\n",
      "('Epoch:', '0216', 'training time (minutes)=', '2.5818', 'loss=', '0.000468450')\n",
      "('Epoch:', '0217', 'training time (minutes)=', '2.6157', 'loss=', '0.000470672')\n",
      "('Epoch:', '0218', 'training time (minutes)=', '2.6441', 'loss=', '0.000475808')\n",
      "('Epoch:', '0219', 'training time (minutes)=', '2.7021', 'loss=', '0.000468515')\n",
      "('Epoch:', '0220', 'training time (minutes)=', '2.6680', 'loss=', '0.000473444')\n",
      "INFO:tensorflow:/orions4-zfs/projects/optas/DATA/OUT/iclr/nn_models/all_snc/2_all_snc_rotated_mlp_arch_with_bnorm_no_dropout2048pts_chamfer/models.ckpt-220 is not in all_model_checkpoint_paths. Manually adding it.\n"
     ]
    },
    {
     "name": "stderr",
     "output_type": "stream",
     "text": [
      "INFO:tensorflow:/orions4-zfs/projects/optas/DATA/OUT/iclr/nn_models/all_snc/2_all_snc_rotated_mlp_arch_with_bnorm_no_dropout2048pts_chamfer/models.ckpt-220 is not in all_model_checkpoint_paths. Manually adding it.\n"
     ]
    },
    {
     "name": "stdout",
     "output_type": "stream",
     "text": [
      "('Epoch:', '0221', 'training time (minutes)=', '2.5996', 'loss=', '0.000461545')\n",
      "('Epoch:', '0222', 'training time (minutes)=', '2.4827', 'loss=', '0.000470881')\n",
      "('Epoch:', '0223', 'training time (minutes)=', '2.5679', 'loss=', '0.000464992')\n",
      "('Epoch:', '0224', 'training time (minutes)=', '2.8200', 'loss=', '0.000469595')\n",
      "('Epoch:', '0225', 'training time (minutes)=', '2.7120', 'loss=', '0.000473113')\n",
      "('Epoch:', '0226', 'training time (minutes)=', '2.6628', 'loss=', '0.000459985')\n",
      "('Epoch:', '0227', 'training time (minutes)=', '2.6056', 'loss=', '0.000466550')\n",
      "('Epoch:', '0228', 'training time (minutes)=', '2.5900', 'loss=', '0.000468150')\n",
      "('Epoch:', '0229', 'training time (minutes)=', '2.5121', 'loss=', '0.000469888')\n",
      "('Epoch:', '0230', 'training time (minutes)=', '2.6120', 'loss=', '0.000455577')\n",
      "INFO:tensorflow:/orions4-zfs/projects/optas/DATA/OUT/iclr/nn_models/all_snc/2_all_snc_rotated_mlp_arch_with_bnorm_no_dropout2048pts_chamfer/models.ckpt-230 is not in all_model_checkpoint_paths. Manually adding it.\n"
     ]
    },
    {
     "name": "stderr",
     "output_type": "stream",
     "text": [
      "INFO:tensorflow:/orions4-zfs/projects/optas/DATA/OUT/iclr/nn_models/all_snc/2_all_snc_rotated_mlp_arch_with_bnorm_no_dropout2048pts_chamfer/models.ckpt-230 is not in all_model_checkpoint_paths. Manually adding it.\n"
     ]
    },
    {
     "name": "stdout",
     "output_type": "stream",
     "text": [
      "('Epoch:', '0231', 'training time (minutes)=', '2.4844', 'loss=', '0.000455970')\n",
      "('Epoch:', '0232', 'training time (minutes)=', '2.7507', 'loss=', '0.000468691')\n",
      "('Epoch:', '0233', 'training time (minutes)=', '2.7613', 'loss=', '0.000457266')\n",
      "('Epoch:', '0234', 'training time (minutes)=', '3.1521', 'loss=', '0.000454629')\n",
      "('Epoch:', '0235', 'training time (minutes)=', '2.0536', 'loss=', '0.000462482')\n",
      "('Epoch:', '0236', 'training time (minutes)=', '2.3138', 'loss=', '0.000469475')\n",
      "('Epoch:', '0237', 'training time (minutes)=', '2.4230', 'loss=', '0.000464245')\n",
      "('Epoch:', '0238', 'training time (minutes)=', '2.5032', 'loss=', '0.000457845')\n",
      "('Epoch:', '0239', 'training time (minutes)=', '2.2535', 'loss=', '0.000463532')\n",
      "('Epoch:', '0240', 'training time (minutes)=', '2.4454', 'loss=', '0.000565789')\n",
      "INFO:tensorflow:/orions4-zfs/projects/optas/DATA/OUT/iclr/nn_models/all_snc/2_all_snc_rotated_mlp_arch_with_bnorm_no_dropout2048pts_chamfer/models.ckpt-240 is not in all_model_checkpoint_paths. Manually adding it.\n"
     ]
    },
    {
     "name": "stderr",
     "output_type": "stream",
     "text": [
      "INFO:tensorflow:/orions4-zfs/projects/optas/DATA/OUT/iclr/nn_models/all_snc/2_all_snc_rotated_mlp_arch_with_bnorm_no_dropout2048pts_chamfer/models.ckpt-240 is not in all_model_checkpoint_paths. Manually adding it.\n"
     ]
    },
    {
     "name": "stdout",
     "output_type": "stream",
     "text": [
      "('Epoch:', '0241', 'training time (minutes)=', '2.5204', 'loss=', '0.000515747')\n",
      "('Epoch:', '0242', 'training time (minutes)=', '2.0283', 'loss=', '0.000465287')\n",
      "('Epoch:', '0243', 'training time (minutes)=', '2.5329', 'loss=', '0.000467743')\n",
      "('Epoch:', '0244', 'training time (minutes)=', '2.4121', 'loss=', '0.000453661')\n",
      "('Epoch:', '0245', 'training time (minutes)=', '2.2471', 'loss=', '0.000459202')\n",
      "('Epoch:', '0246', 'training time (minutes)=', '2.7074', 'loss=', '0.000459576')\n",
      "('Epoch:', '0247', 'training time (minutes)=', '2.5635', 'loss=', '0.000457823')\n",
      "('Epoch:', '0248', 'training time (minutes)=', '2.1931', 'loss=', '0.000462660')\n",
      "('Epoch:', '0249', 'training time (minutes)=', '1.9483', 'loss=', '0.000467102')\n",
      "('Epoch:', '0250', 'training time (minutes)=', '2.5443', 'loss=', '0.000458001')\n",
      "INFO:tensorflow:/orions4-zfs/projects/optas/DATA/OUT/iclr/nn_models/all_snc/2_all_snc_rotated_mlp_arch_with_bnorm_no_dropout2048pts_chamfer/models.ckpt-250 is not in all_model_checkpoint_paths. Manually adding it.\n"
     ]
    },
    {
     "name": "stderr",
     "output_type": "stream",
     "text": [
      "INFO:tensorflow:/orions4-zfs/projects/optas/DATA/OUT/iclr/nn_models/all_snc/2_all_snc_rotated_mlp_arch_with_bnorm_no_dropout2048pts_chamfer/models.ckpt-250 is not in all_model_checkpoint_paths. Manually adding it.\n"
     ]
    },
    {
     "name": "stdout",
     "output_type": "stream",
     "text": [
      "('Epoch:', '0251', 'training time (minutes)=', '2.7064', 'loss=', '0.000459174')\n",
      "('Epoch:', '0252', 'training time (minutes)=', '2.6149', 'loss=', '0.000465667')\n",
      "('Epoch:', '0253', 'training time (minutes)=', '2.8695', 'loss=', '0.000455946')\n",
      "('Epoch:', '0254', 'training time (minutes)=', '2.5213', 'loss=', '0.000515858')\n",
      "('Epoch:', '0255', 'training time (minutes)=', '2.6851', 'loss=', '0.000470070')\n",
      "('Epoch:', '0256', 'training time (minutes)=', '1.8841', 'loss=', '0.000452872')\n",
      "('Epoch:', '0257', 'training time (minutes)=', '2.5958', 'loss=', '0.000462840')\n",
      "('Epoch:', '0258', 'training time (minutes)=', '1.8759', 'loss=', '0.000461873')\n",
      "('Epoch:', '0259', 'training time (minutes)=', '2.9613', 'loss=', '0.000464316')\n",
      "('Epoch:', '0260', 'training time (minutes)=', '2.5949', 'loss=', '0.000461157')\n",
      "INFO:tensorflow:/orions4-zfs/projects/optas/DATA/OUT/iclr/nn_models/all_snc/2_all_snc_rotated_mlp_arch_with_bnorm_no_dropout2048pts_chamfer/models.ckpt-260 is not in all_model_checkpoint_paths. Manually adding it.\n"
     ]
    },
    {
     "name": "stderr",
     "output_type": "stream",
     "text": [
      "INFO:tensorflow:/orions4-zfs/projects/optas/DATA/OUT/iclr/nn_models/all_snc/2_all_snc_rotated_mlp_arch_with_bnorm_no_dropout2048pts_chamfer/models.ckpt-260 is not in all_model_checkpoint_paths. Manually adding it.\n"
     ]
    },
    {
     "name": "stdout",
     "output_type": "stream",
     "text": [
      "('Epoch:', '0261', 'training time (minutes)=', '1.8924', 'loss=', '0.000458687')\n",
      "('Epoch:', '0262', 'training time (minutes)=', '1.8762', 'loss=', '0.000452077')\n",
      "('Epoch:', '0263', 'training time (minutes)=', '1.8759', 'loss=', '0.000454476')\n",
      "('Epoch:', '0264', 'training time (minutes)=', '2.8412', 'loss=', '0.000459484')\n",
      "('Epoch:', '0265', 'training time (minutes)=', '2.7353', 'loss=', '0.000457410')\n",
      "('Epoch:', '0266', 'training time (minutes)=', '2.8001', 'loss=', '0.000457127')\n",
      "('Epoch:', '0267', 'training time (minutes)=', '2.6116', 'loss=', '0.000458783')\n",
      "('Epoch:', '0268', 'training time (minutes)=', '2.4772', 'loss=', '0.000449664')\n",
      "('Epoch:', '0269', 'training time (minutes)=', '2.9600', 'loss=', '0.000452596')\n",
      "('Epoch:', '0270', 'training time (minutes)=', '1.9936', 'loss=', '0.000452835')\n",
      "INFO:tensorflow:/orions4-zfs/projects/optas/DATA/OUT/iclr/nn_models/all_snc/2_all_snc_rotated_mlp_arch_with_bnorm_no_dropout2048pts_chamfer/models.ckpt-270 is not in all_model_checkpoint_paths. Manually adding it.\n"
     ]
    },
    {
     "name": "stderr",
     "output_type": "stream",
     "text": [
      "INFO:tensorflow:/orions4-zfs/projects/optas/DATA/OUT/iclr/nn_models/all_snc/2_all_snc_rotated_mlp_arch_with_bnorm_no_dropout2048pts_chamfer/models.ckpt-270 is not in all_model_checkpoint_paths. Manually adding it.\n"
     ]
    },
    {
     "name": "stdout",
     "output_type": "stream",
     "text": [
      "('Epoch:', '0271', 'training time (minutes)=', '2.5560', 'loss=', '0.000444293')\n",
      "('Epoch:', '0272', 'training time (minutes)=', '2.5348', 'loss=', '0.000442692')\n",
      "('Epoch:', '0273', 'training time (minutes)=', '2.8997', 'loss=', '0.000460371')\n",
      "('Epoch:', '0274', 'training time (minutes)=', '1.9701', 'loss=', '0.000448660')\n",
      "('Epoch:', '0275', 'training time (minutes)=', '2.8217', 'loss=', '0.000451628')\n",
      "('Epoch:', '0276', 'training time (minutes)=', '2.9567', 'loss=', '0.000449863')\n",
      "('Epoch:', '0277', 'training time (minutes)=', '2.7009', 'loss=', '0.000454118')\n",
      "('Epoch:', '0278', 'training time (minutes)=', '2.5942', 'loss=', '0.000446947')\n",
      "('Epoch:', '0279', 'training time (minutes)=', '2.7013', 'loss=', '0.000458015')\n",
      "('Epoch:', '0280', 'training time (minutes)=', '2.6760', 'loss=', '0.000445452')\n",
      "INFO:tensorflow:/orions4-zfs/projects/optas/DATA/OUT/iclr/nn_models/all_snc/2_all_snc_rotated_mlp_arch_with_bnorm_no_dropout2048pts_chamfer/models.ckpt-280 is not in all_model_checkpoint_paths. Manually adding it.\n"
     ]
    },
    {
     "name": "stderr",
     "output_type": "stream",
     "text": [
      "INFO:tensorflow:/orions4-zfs/projects/optas/DATA/OUT/iclr/nn_models/all_snc/2_all_snc_rotated_mlp_arch_with_bnorm_no_dropout2048pts_chamfer/models.ckpt-280 is not in all_model_checkpoint_paths. Manually adding it.\n"
     ]
    },
    {
     "name": "stdout",
     "output_type": "stream",
     "text": [
      "('Epoch:', '0281', 'training time (minutes)=', '2.7190', 'loss=', '0.000459978')\n",
      "('Epoch:', '0282', 'training time (minutes)=', '2.8317', 'loss=', '0.000453891')\n",
      "('Epoch:', '0283', 'training time (minutes)=', '2.9497', 'loss=', '0.000446347')\n",
      "('Epoch:', '0284', 'training time (minutes)=', '2.4027', 'loss=', '0.000448567')\n",
      "('Epoch:', '0285', 'training time (minutes)=', '1.9129', 'loss=', '0.000450678')\n",
      "('Epoch:', '0286', 'training time (minutes)=', '2.5939', 'loss=', '0.000456100')\n",
      "('Epoch:', '0287', 'training time (minutes)=', '2.6792', 'loss=', '0.000441647')\n",
      "('Epoch:', '0288', 'training time (minutes)=', '1.9287', 'loss=', '0.000448043')\n",
      "('Epoch:', '0289', 'training time (minutes)=', '1.8997', 'loss=', '0.000456580')\n",
      "('Epoch:', '0290', 'training time (minutes)=', '1.9077', 'loss=', '0.000453079')\n",
      "INFO:tensorflow:/orions4-zfs/projects/optas/DATA/OUT/iclr/nn_models/all_snc/2_all_snc_rotated_mlp_arch_with_bnorm_no_dropout2048pts_chamfer/models.ckpt-290 is not in all_model_checkpoint_paths. Manually adding it.\n"
     ]
    },
    {
     "name": "stderr",
     "output_type": "stream",
     "text": [
      "INFO:tensorflow:/orions4-zfs/projects/optas/DATA/OUT/iclr/nn_models/all_snc/2_all_snc_rotated_mlp_arch_with_bnorm_no_dropout2048pts_chamfer/models.ckpt-290 is not in all_model_checkpoint_paths. Manually adding it.\n"
     ]
    },
    {
     "name": "stdout",
     "output_type": "stream",
     "text": [
      "('Epoch:', '0291', 'training time (minutes)=', '1.8956', 'loss=', '0.000446517')\n",
      "('Epoch:', '0292', 'training time (minutes)=', '1.8795', 'loss=', '0.000448472')\n",
      "('Epoch:', '0293', 'training time (minutes)=', '1.8611', 'loss=', '0.000449356')\n",
      "('Epoch:', '0294', 'training time (minutes)=', '1.8509', 'loss=', '0.000450692')\n",
      "('Epoch:', '0295', 'training time (minutes)=', '1.8500', 'loss=', '0.000456261')\n",
      "('Epoch:', '0296', 'training time (minutes)=', '1.8409', 'loss=', '0.000450986')\n",
      "('Epoch:', '0297', 'training time (minutes)=', '2.6736', 'loss=', '0.000449742')\n",
      "('Epoch:', '0298', 'training time (minutes)=', '2.8069', 'loss=', '0.000447477')\n",
      "('Epoch:', '0299', 'training time (minutes)=', '2.8975', 'loss=', '0.000445643')\n",
      "('Epoch:', '0300', 'training time (minutes)=', '2.6989', 'loss=', '0.000441759')\n",
      "INFO:tensorflow:/orions4-zfs/projects/optas/DATA/OUT/iclr/nn_models/all_snc/2_all_snc_rotated_mlp_arch_with_bnorm_no_dropout2048pts_chamfer/models.ckpt-300 is not in all_model_checkpoint_paths. Manually adding it.\n"
     ]
    },
    {
     "name": "stderr",
     "output_type": "stream",
     "text": [
      "INFO:tensorflow:/orions4-zfs/projects/optas/DATA/OUT/iclr/nn_models/all_snc/2_all_snc_rotated_mlp_arch_with_bnorm_no_dropout2048pts_chamfer/models.ckpt-300 is not in all_model_checkpoint_paths. Manually adding it.\n"
     ]
    },
    {
     "name": "stdout",
     "output_type": "stream",
     "text": [
      "('Epoch:', '0301', 'training time (minutes)=', '1.8369', 'loss=', '0.000453247')\n",
      "('Epoch:', '0302', 'training time (minutes)=', '2.6991', 'loss=', '0.000443289')\n",
      "('Epoch:', '0303', 'training time (minutes)=', '1.8342', 'loss=', '0.000444857')\n",
      "('Epoch:', '0304', 'training time (minutes)=', '2.4421', 'loss=', '0.000450142')\n",
      "('Epoch:', '0305', 'training time (minutes)=', '2.6808', 'loss=', '0.000455017')\n",
      "('Epoch:', '0306', 'training time (minutes)=', '2.6776', 'loss=', '0.000435535')\n",
      "('Epoch:', '0307', 'training time (minutes)=', '2.6454', 'loss=', '0.000448081')\n",
      "('Epoch:', '0308', 'training time (minutes)=', '2.7226', 'loss=', '0.000439066')\n",
      "('Epoch:', '0309', 'training time (minutes)=', '2.9322', 'loss=', '0.000447361')\n",
      "('Epoch:', '0310', 'training time (minutes)=', '2.4327', 'loss=', '0.000451700')\n",
      "INFO:tensorflow:/orions4-zfs/projects/optas/DATA/OUT/iclr/nn_models/all_snc/2_all_snc_rotated_mlp_arch_with_bnorm_no_dropout2048pts_chamfer/models.ckpt-310 is not in all_model_checkpoint_paths. Manually adding it.\n"
     ]
    },
    {
     "name": "stderr",
     "output_type": "stream",
     "text": [
      "INFO:tensorflow:/orions4-zfs/projects/optas/DATA/OUT/iclr/nn_models/all_snc/2_all_snc_rotated_mlp_arch_with_bnorm_no_dropout2048pts_chamfer/models.ckpt-310 is not in all_model_checkpoint_paths. Manually adding it.\n"
     ]
    },
    {
     "name": "stdout",
     "output_type": "stream",
     "text": [
      "('Epoch:', '0311', 'training time (minutes)=', '2.1690', 'loss=', '0.000446695')\n",
      "('Epoch:', '0312', 'training time (minutes)=', '1.8466', 'loss=', '0.000434951')\n",
      "('Epoch:', '0313', 'training time (minutes)=', '2.7025', 'loss=', '0.000443593')\n",
      "('Epoch:', '0314', 'training time (minutes)=', '2.6067', 'loss=', '0.000445703')\n",
      "('Epoch:', '0315', 'training time (minutes)=', '2.6889', 'loss=', '0.000455783')\n",
      "('Epoch:', '0316', 'training time (minutes)=', '2.0129', 'loss=', '0.000436740')\n",
      "('Epoch:', '0317', 'training time (minutes)=', '2.7807', 'loss=', '0.000441879')\n",
      "('Epoch:', '0318', 'training time (minutes)=', '2.8111', 'loss=', '0.000445858')\n",
      "('Epoch:', '0319', 'training time (minutes)=', '2.7197', 'loss=', '0.000445364')\n",
      "('Epoch:', '0320', 'training time (minutes)=', '2.3658', 'loss=', '0.000450813')\n",
      "INFO:tensorflow:/orions4-zfs/projects/optas/DATA/OUT/iclr/nn_models/all_snc/2_all_snc_rotated_mlp_arch_with_bnorm_no_dropout2048pts_chamfer/models.ckpt-320 is not in all_model_checkpoint_paths. Manually adding it.\n"
     ]
    },
    {
     "name": "stderr",
     "output_type": "stream",
     "text": [
      "INFO:tensorflow:/orions4-zfs/projects/optas/DATA/OUT/iclr/nn_models/all_snc/2_all_snc_rotated_mlp_arch_with_bnorm_no_dropout2048pts_chamfer/models.ckpt-320 is not in all_model_checkpoint_paths. Manually adding it.\n"
     ]
    },
    {
     "name": "stdout",
     "output_type": "stream",
     "text": [
      "('Epoch:', '0321', 'training time (minutes)=', '2.5899', 'loss=', '0.000489128')\n",
      "('Epoch:', '0322', 'training time (minutes)=', '1.8627', 'loss=', '0.000446469')\n",
      "('Epoch:', '0323', 'training time (minutes)=', '2.7006', 'loss=', '0.000444472')\n",
      "('Epoch:', '0324', 'training time (minutes)=', '2.0051', 'loss=', '0.000442263')\n",
      "('Epoch:', '0325', 'training time (minutes)=', '2.8944', 'loss=', '0.000441010')\n",
      "('Epoch:', '0326', 'training time (minutes)=', '2.6549', 'loss=', '0.000433617')\n",
      "('Epoch:', '0327', 'training time (minutes)=', '2.6727', 'loss=', '0.000443568')\n",
      "('Epoch:', '0328', 'training time (minutes)=', '2.4195', 'loss=', '0.000432696')\n",
      "('Epoch:', '0329', 'training time (minutes)=', '2.7012', 'loss=', '0.000444927')\n",
      "('Epoch:', '0330', 'training time (minutes)=', '2.3488', 'loss=', '0.000442047')\n",
      "INFO:tensorflow:/orions4-zfs/projects/optas/DATA/OUT/iclr/nn_models/all_snc/2_all_snc_rotated_mlp_arch_with_bnorm_no_dropout2048pts_chamfer/models.ckpt-330 is not in all_model_checkpoint_paths. Manually adding it.\n"
     ]
    },
    {
     "name": "stderr",
     "output_type": "stream",
     "text": [
      "INFO:tensorflow:/orions4-zfs/projects/optas/DATA/OUT/iclr/nn_models/all_snc/2_all_snc_rotated_mlp_arch_with_bnorm_no_dropout2048pts_chamfer/models.ckpt-330 is not in all_model_checkpoint_paths. Manually adding it.\n"
     ]
    },
    {
     "name": "stdout",
     "output_type": "stream",
     "text": [
      "('Epoch:', '0331', 'training time (minutes)=', '2.1216', 'loss=', '0.000451594')\n",
      "('Epoch:', '0332', 'training time (minutes)=', '1.8829', 'loss=', '0.000447296')\n",
      "('Epoch:', '0333', 'training time (minutes)=', '1.8873', 'loss=', '0.000440208')\n",
      "('Epoch:', '0334', 'training time (minutes)=', '1.8891', 'loss=', '0.000436258')\n",
      "('Epoch:', '0335', 'training time (minutes)=', '1.9045', 'loss=', '0.000446131')\n",
      "('Epoch:', '0336', 'training time (minutes)=', '2.5420', 'loss=', '0.000441125')\n",
      "('Epoch:', '0337', 'training time (minutes)=', '2.6569', 'loss=', '0.000438713')\n",
      "('Epoch:', '0338', 'training time (minutes)=', '2.5130', 'loss=', '0.000433863')\n",
      "('Epoch:', '0339', 'training time (minutes)=', '2.5148', 'loss=', '0.000442260')\n",
      "('Epoch:', '0340', 'training time (minutes)=', '2.6477', 'loss=', '0.000448705')\n",
      "INFO:tensorflow:/orions4-zfs/projects/optas/DATA/OUT/iclr/nn_models/all_snc/2_all_snc_rotated_mlp_arch_with_bnorm_no_dropout2048pts_chamfer/models.ckpt-340 is not in all_model_checkpoint_paths. Manually adding it.\n"
     ]
    },
    {
     "name": "stderr",
     "output_type": "stream",
     "text": [
      "INFO:tensorflow:/orions4-zfs/projects/optas/DATA/OUT/iclr/nn_models/all_snc/2_all_snc_rotated_mlp_arch_with_bnorm_no_dropout2048pts_chamfer/models.ckpt-340 is not in all_model_checkpoint_paths. Manually adding it.\n"
     ]
    },
    {
     "name": "stdout",
     "output_type": "stream",
     "text": [
      "('Epoch:', '0341', 'training time (minutes)=', '2.2815', 'loss=', '0.000439848')\n",
      "('Epoch:', '0342', 'training time (minutes)=', '2.6865', 'loss=', '0.000445905')\n",
      "('Epoch:', '0343', 'training time (minutes)=', '2.4894', 'loss=', '0.000446087')\n",
      "('Epoch:', '0344', 'training time (minutes)=', '2.6064', 'loss=', '0.000438549')\n",
      "('Epoch:', '0345', 'training time (minutes)=', '2.5506', 'loss=', '0.000443302')\n",
      "('Epoch:', '0346', 'training time (minutes)=', '2.6646', 'loss=', '0.000441259')\n",
      "('Epoch:', '0347', 'training time (minutes)=', '2.4068', 'loss=', '0.000442990')\n",
      "('Epoch:', '0348', 'training time (minutes)=', '2.0191', 'loss=', '0.000437326')\n",
      "('Epoch:', '0349', 'training time (minutes)=', '2.5806', 'loss=', '0.000437930')\n",
      "('Epoch:', '0350', 'training time (minutes)=', '2.0114', 'loss=', '0.000432470')\n",
      "INFO:tensorflow:/orions4-zfs/projects/optas/DATA/OUT/iclr/nn_models/all_snc/2_all_snc_rotated_mlp_arch_with_bnorm_no_dropout2048pts_chamfer/models.ckpt-350 is not in all_model_checkpoint_paths. Manually adding it.\n"
     ]
    },
    {
     "name": "stderr",
     "output_type": "stream",
     "text": [
      "INFO:tensorflow:/orions4-zfs/projects/optas/DATA/OUT/iclr/nn_models/all_snc/2_all_snc_rotated_mlp_arch_with_bnorm_no_dropout2048pts_chamfer/models.ckpt-350 is not in all_model_checkpoint_paths. Manually adding it.\n"
     ]
    },
    {
     "name": "stdout",
     "output_type": "stream",
     "text": [
      "('Epoch:', '0351', 'training time (minutes)=', '2.3951', 'loss=', '0.000435905')\n",
      "('Epoch:', '0352', 'training time (minutes)=', '2.2988', 'loss=', '0.000462625')\n",
      "('Epoch:', '0353', 'training time (minutes)=', '2.4388', 'loss=', '0.000431308')\n",
      "('Epoch:', '0354', 'training time (minutes)=', '2.4552', 'loss=', '0.000430459')\n",
      "('Epoch:', '0355', 'training time (minutes)=', '2.4603', 'loss=', '0.000434735')\n",
      "('Epoch:', '0356', 'training time (minutes)=', '1.9160', 'loss=', '0.000442481')\n",
      "('Epoch:', '0357', 'training time (minutes)=', '2.3965', 'loss=', '0.000439922')\n",
      "('Epoch:', '0358', 'training time (minutes)=', '2.3231', 'loss=', '0.000434741')\n",
      "('Epoch:', '0359', 'training time (minutes)=', '2.3637', 'loss=', '0.000436749')\n",
      "('Epoch:', '0360', 'training time (minutes)=', '2.1384', 'loss=', '0.000437425')\n",
      "INFO:tensorflow:/orions4-zfs/projects/optas/DATA/OUT/iclr/nn_models/all_snc/2_all_snc_rotated_mlp_arch_with_bnorm_no_dropout2048pts_chamfer/models.ckpt-360 is not in all_model_checkpoint_paths. Manually adding it.\n"
     ]
    },
    {
     "name": "stderr",
     "output_type": "stream",
     "text": [
      "INFO:tensorflow:/orions4-zfs/projects/optas/DATA/OUT/iclr/nn_models/all_snc/2_all_snc_rotated_mlp_arch_with_bnorm_no_dropout2048pts_chamfer/models.ckpt-360 is not in all_model_checkpoint_paths. Manually adding it.\n"
     ]
    },
    {
     "name": "stdout",
     "output_type": "stream",
     "text": [
      "('Epoch:', '0361', 'training time (minutes)=', '2.4187', 'loss=', '0.000439392')\n",
      "('Epoch:', '0362', 'training time (minutes)=', '1.9236', 'loss=', '0.000440717')\n",
      "('Epoch:', '0363', 'training time (minutes)=', '2.3783', 'loss=', '0.000438073')\n",
      "('Epoch:', '0364', 'training time (minutes)=', '2.3615', 'loss=', '0.000437124')\n",
      "('Epoch:', '0365', 'training time (minutes)=', '2.1866', 'loss=', '0.000431866')\n",
      "('Epoch:', '0366', 'training time (minutes)=', '2.1181', 'loss=', '0.000435037')\n",
      "('Epoch:', '0367', 'training time (minutes)=', '1.9642', 'loss=', '0.000435812')\n",
      "('Epoch:', '0368', 'training time (minutes)=', '2.2733', 'loss=', '0.000453588')\n",
      "('Epoch:', '0369', 'training time (minutes)=', '2.3378', 'loss=', '0.000436593')\n",
      "('Epoch:', '0370', 'training time (minutes)=', '2.3082', 'loss=', '0.000440170')\n",
      "INFO:tensorflow:/orions4-zfs/projects/optas/DATA/OUT/iclr/nn_models/all_snc/2_all_snc_rotated_mlp_arch_with_bnorm_no_dropout2048pts_chamfer/models.ckpt-370 is not in all_model_checkpoint_paths. Manually adding it.\n"
     ]
    },
    {
     "name": "stderr",
     "output_type": "stream",
     "text": [
      "INFO:tensorflow:/orions4-zfs/projects/optas/DATA/OUT/iclr/nn_models/all_snc/2_all_snc_rotated_mlp_arch_with_bnorm_no_dropout2048pts_chamfer/models.ckpt-370 is not in all_model_checkpoint_paths. Manually adding it.\n"
     ]
    },
    {
     "name": "stdout",
     "output_type": "stream",
     "text": [
      "('Epoch:', '0371', 'training time (minutes)=', '1.8854', 'loss=', '0.000438184')\n",
      "('Epoch:', '0372', 'training time (minutes)=', '2.2538', 'loss=', '0.000429552')\n",
      "('Epoch:', '0373', 'training time (minutes)=', '2.0065', 'loss=', '0.000436576')\n",
      "('Epoch:', '0374', 'training time (minutes)=', '2.0219', 'loss=', '0.000435270')\n",
      "('Epoch:', '0375', 'training time (minutes)=', '1.9919', 'loss=', '0.000433127')\n",
      "('Epoch:', '0376', 'training time (minutes)=', '1.9356', 'loss=', '0.000430039')\n",
      "('Epoch:', '0377', 'training time (minutes)=', '1.9579', 'loss=', '0.000426888')\n",
      "('Epoch:', '0378', 'training time (minutes)=', '1.9480', 'loss=', '0.000431256')\n",
      "('Epoch:', '0379', 'training time (minutes)=', '1.9239', 'loss=', '0.000430187')\n",
      "('Epoch:', '0380', 'training time (minutes)=', '1.9593', 'loss=', '0.000433172')\n",
      "INFO:tensorflow:/orions4-zfs/projects/optas/DATA/OUT/iclr/nn_models/all_snc/2_all_snc_rotated_mlp_arch_with_bnorm_no_dropout2048pts_chamfer/models.ckpt-380 is not in all_model_checkpoint_paths. Manually adding it.\n"
     ]
    },
    {
     "name": "stderr",
     "output_type": "stream",
     "text": [
      "INFO:tensorflow:/orions4-zfs/projects/optas/DATA/OUT/iclr/nn_models/all_snc/2_all_snc_rotated_mlp_arch_with_bnorm_no_dropout2048pts_chamfer/models.ckpt-380 is not in all_model_checkpoint_paths. Manually adding it.\n"
     ]
    },
    {
     "name": "stdout",
     "output_type": "stream",
     "text": [
      "('Epoch:', '0381', 'training time (minutes)=', '1.9887', 'loss=', '0.000434465')\n",
      "('Epoch:', '0382', 'training time (minutes)=', '1.9413', 'loss=', '0.000438530')\n",
      "('Epoch:', '0383', 'training time (minutes)=', '1.9370', 'loss=', '0.000428193')\n",
      "('Epoch:', '0384', 'training time (minutes)=', '1.9311', 'loss=', '0.000428271')\n",
      "('Epoch:', '0385', 'training time (minutes)=', '1.9546', 'loss=', '0.000434888')\n",
      "('Epoch:', '0386', 'training time (minutes)=', '1.9793', 'loss=', '0.000436735')\n",
      "('Epoch:', '0387', 'training time (minutes)=', '1.9488', 'loss=', '0.000434746')\n",
      "('Epoch:', '0388', 'training time (minutes)=', '1.9772', 'loss=', '0.000431965')\n",
      "('Epoch:', '0389', 'training time (minutes)=', '2.0820', 'loss=', '0.000426411')\n",
      "('Epoch:', '0390', 'training time (minutes)=', '2.0475', 'loss=', '0.000429034')\n",
      "INFO:tensorflow:/orions4-zfs/projects/optas/DATA/OUT/iclr/nn_models/all_snc/2_all_snc_rotated_mlp_arch_with_bnorm_no_dropout2048pts_chamfer/models.ckpt-390 is not in all_model_checkpoint_paths. Manually adding it.\n"
     ]
    },
    {
     "name": "stderr",
     "output_type": "stream",
     "text": [
      "INFO:tensorflow:/orions4-zfs/projects/optas/DATA/OUT/iclr/nn_models/all_snc/2_all_snc_rotated_mlp_arch_with_bnorm_no_dropout2048pts_chamfer/models.ckpt-390 is not in all_model_checkpoint_paths. Manually adding it.\n"
     ]
    },
    {
     "name": "stdout",
     "output_type": "stream",
     "text": [
      "('Epoch:', '0391', 'training time (minutes)=', '1.9557', 'loss=', '0.000437008')\n",
      "('Epoch:', '0392', 'training time (minutes)=', '1.9416', 'loss=', '0.000436731')\n",
      "('Epoch:', '0393', 'training time (minutes)=', '1.9258', 'loss=', '0.000443879')\n",
      "('Epoch:', '0394', 'training time (minutes)=', '1.9518', 'loss=', '0.000428026')\n",
      "('Epoch:', '0395', 'training time (minutes)=', '1.9877', 'loss=', '0.000430719')\n",
      "('Epoch:', '0396', 'training time (minutes)=', '1.9510', 'loss=', '0.000428999')\n",
      "('Epoch:', '0397', 'training time (minutes)=', '2.0319', 'loss=', '0.000432303')\n",
      "('Epoch:', '0398', 'training time (minutes)=', '2.0357', 'loss=', '0.000427043')\n",
      "('Epoch:', '0399', 'training time (minutes)=', '2.0517', 'loss=', '0.000424736')\n",
      "('Epoch:', '0400', 'training time (minutes)=', '2.0346', 'loss=', '0.000431571')\n",
      "INFO:tensorflow:/orions4-zfs/projects/optas/DATA/OUT/iclr/nn_models/all_snc/2_all_snc_rotated_mlp_arch_with_bnorm_no_dropout2048pts_chamfer/models.ckpt-400 is not in all_model_checkpoint_paths. Manually adding it.\n"
     ]
    },
    {
     "name": "stderr",
     "output_type": "stream",
     "text": [
      "INFO:tensorflow:/orions4-zfs/projects/optas/DATA/OUT/iclr/nn_models/all_snc/2_all_snc_rotated_mlp_arch_with_bnorm_no_dropout2048pts_chamfer/models.ckpt-400 is not in all_model_checkpoint_paths. Manually adding it.\n"
     ]
    },
    {
     "name": "stdout",
     "output_type": "stream",
     "text": [
      "('Epoch:', '0401', 'training time (minutes)=', '1.9878', 'loss=', '0.000435893')\n",
      "('Epoch:', '0402', 'training time (minutes)=', '1.9605', 'loss=', '0.000427070')\n",
      "('Epoch:', '0403', 'training time (minutes)=', '1.9591', 'loss=', '0.000423995')\n",
      "('Epoch:', '0404', 'training time (minutes)=', '1.9605', 'loss=', '0.000433766')\n",
      "('Epoch:', '0405', 'training time (minutes)=', '2.0102', 'loss=', '0.000429666')\n",
      "('Epoch:', '0406', 'training time (minutes)=', '1.9559', 'loss=', '0.000425341')\n",
      "('Epoch:', '0407', 'training time (minutes)=', '2.0928', 'loss=', '0.000429975')\n",
      "('Epoch:', '0408', 'training time (minutes)=', '2.2244', 'loss=', '0.000426611')\n",
      "('Epoch:', '0409', 'training time (minutes)=', '2.2805', 'loss=', '0.000422204')\n",
      "('Epoch:', '0410', 'training time (minutes)=', '2.3321', 'loss=', '0.000430287')\n",
      "INFO:tensorflow:/orions4-zfs/projects/optas/DATA/OUT/iclr/nn_models/all_snc/2_all_snc_rotated_mlp_arch_with_bnorm_no_dropout2048pts_chamfer/models.ckpt-410 is not in all_model_checkpoint_paths. Manually adding it.\n"
     ]
    },
    {
     "name": "stderr",
     "output_type": "stream",
     "text": [
      "INFO:tensorflow:/orions4-zfs/projects/optas/DATA/OUT/iclr/nn_models/all_snc/2_all_snc_rotated_mlp_arch_with_bnorm_no_dropout2048pts_chamfer/models.ckpt-410 is not in all_model_checkpoint_paths. Manually adding it.\n"
     ]
    },
    {
     "name": "stdout",
     "output_type": "stream",
     "text": [
      "('Epoch:', '0411', 'training time (minutes)=', '2.4098', 'loss=', '0.000427586')\n",
      "('Epoch:', '0412', 'training time (minutes)=', '2.2065', 'loss=', '0.000428629')\n",
      "('Epoch:', '0413', 'training time (minutes)=', '2.4734', 'loss=', '0.000432777')\n",
      "('Epoch:', '0414', 'training time (minutes)=', '2.3731', 'loss=', '0.000430943')\n",
      "('Epoch:', '0415', 'training time (minutes)=', '2.5479', 'loss=', '0.000431064')\n",
      "('Epoch:', '0416', 'training time (minutes)=', '2.4521', 'loss=', '0.000429615')\n",
      "('Epoch:', '0417', 'training time (minutes)=', '2.2024', 'loss=', '0.000426786')\n",
      "('Epoch:', '0418', 'training time (minutes)=', '2.5043', 'loss=', '0.000433580')\n",
      "('Epoch:', '0419', 'training time (minutes)=', '2.4582', 'loss=', '0.000414073')\n",
      "('Epoch:', '0420', 'training time (minutes)=', '2.2754', 'loss=', '0.000422148')\n",
      "INFO:tensorflow:/orions4-zfs/projects/optas/DATA/OUT/iclr/nn_models/all_snc/2_all_snc_rotated_mlp_arch_with_bnorm_no_dropout2048pts_chamfer/models.ckpt-420 is not in all_model_checkpoint_paths. Manually adding it.\n"
     ]
    },
    {
     "name": "stderr",
     "output_type": "stream",
     "text": [
      "INFO:tensorflow:/orions4-zfs/projects/optas/DATA/OUT/iclr/nn_models/all_snc/2_all_snc_rotated_mlp_arch_with_bnorm_no_dropout2048pts_chamfer/models.ckpt-420 is not in all_model_checkpoint_paths. Manually adding it.\n"
     ]
    },
    {
     "name": "stdout",
     "output_type": "stream",
     "text": [
      "('Epoch:', '0421', 'training time (minutes)=', '1.9176', 'loss=', '0.000425232')\n",
      "('Epoch:', '0422', 'training time (minutes)=', '2.5494', 'loss=', '0.000440108')\n",
      "('Epoch:', '0423', 'training time (minutes)=', '1.9155', 'loss=', '0.000425789')\n",
      "('Epoch:', '0424', 'training time (minutes)=', '2.7327', 'loss=', '0.000422449')\n",
      "('Epoch:', '0425', 'training time (minutes)=', '2.5386', 'loss=', '0.000424878')\n",
      "('Epoch:', '0426', 'training time (minutes)=', '2.2583', 'loss=', '0.000423938')\n",
      "('Epoch:', '0427', 'training time (minutes)=', '1.9673', 'loss=', '0.000420270')\n",
      "('Epoch:', '0428', 'training time (minutes)=', '2.5906', 'loss=', '0.000428442')\n",
      "('Epoch:', '0429', 'training time (minutes)=', '2.7234', 'loss=', '0.000424725')\n",
      "('Epoch:', '0430', 'training time (minutes)=', '2.6949', 'loss=', '0.000420429')\n",
      "INFO:tensorflow:/orions4-zfs/projects/optas/DATA/OUT/iclr/nn_models/all_snc/2_all_snc_rotated_mlp_arch_with_bnorm_no_dropout2048pts_chamfer/models.ckpt-430 is not in all_model_checkpoint_paths. Manually adding it.\n"
     ]
    },
    {
     "name": "stderr",
     "output_type": "stream",
     "text": [
      "INFO:tensorflow:/orions4-zfs/projects/optas/DATA/OUT/iclr/nn_models/all_snc/2_all_snc_rotated_mlp_arch_with_bnorm_no_dropout2048pts_chamfer/models.ckpt-430 is not in all_model_checkpoint_paths. Manually adding it.\n"
     ]
    },
    {
     "name": "stdout",
     "output_type": "stream",
     "text": [
      "('Epoch:', '0431', 'training time (minutes)=', '2.4222', 'loss=', '0.000420266')\n",
      "('Epoch:', '0432', 'training time (minutes)=', '1.9066', 'loss=', '0.000421834')\n",
      "('Epoch:', '0433', 'training time (minutes)=', '2.2404', 'loss=', '0.000433551')\n",
      "('Epoch:', '0434', 'training time (minutes)=', '1.9070', 'loss=', '0.000431754')\n",
      "('Epoch:', '0435', 'training time (minutes)=', '2.6227', 'loss=', '0.000425841')\n",
      "('Epoch:', '0436', 'training time (minutes)=', '1.9126', 'loss=', '0.000421948')\n",
      "('Epoch:', '0437', 'training time (minutes)=', '2.6424', 'loss=', '0.000425903')\n",
      "('Epoch:', '0438', 'training time (minutes)=', '2.6591', 'loss=', '0.000419772')\n",
      "('Epoch:', '0439', 'training time (minutes)=', '2.3586', 'loss=', '0.000428807')\n",
      "('Epoch:', '0440', 'training time (minutes)=', '2.6257', 'loss=', '0.000429282')\n",
      "INFO:tensorflow:/orions4-zfs/projects/optas/DATA/OUT/iclr/nn_models/all_snc/2_all_snc_rotated_mlp_arch_with_bnorm_no_dropout2048pts_chamfer/models.ckpt-440 is not in all_model_checkpoint_paths. Manually adding it.\n"
     ]
    },
    {
     "name": "stderr",
     "output_type": "stream",
     "text": [
      "INFO:tensorflow:/orions4-zfs/projects/optas/DATA/OUT/iclr/nn_models/all_snc/2_all_snc_rotated_mlp_arch_with_bnorm_no_dropout2048pts_chamfer/models.ckpt-440 is not in all_model_checkpoint_paths. Manually adding it.\n"
     ]
    },
    {
     "name": "stdout",
     "output_type": "stream",
     "text": [
      "('Epoch:', '0441', 'training time (minutes)=', '2.4435', 'loss=', '0.000434853')\n",
      "('Epoch:', '0442', 'training time (minutes)=', '2.5181', 'loss=', '0.000423939')\n",
      "('Epoch:', '0443', 'training time (minutes)=', '2.6461', 'loss=', '0.000426050')\n",
      "('Epoch:', '0444', 'training time (minutes)=', '2.4237', 'loss=', '0.000419336')\n",
      "('Epoch:', '0445', 'training time (minutes)=', '2.5520', 'loss=', '0.000416302')\n",
      "('Epoch:', '0446', 'training time (minutes)=', '2.4249', 'loss=', '0.000431346')\n",
      "('Epoch:', '0447', 'training time (minutes)=', '2.7905', 'loss=', '0.000416939')\n",
      "('Epoch:', '0448', 'training time (minutes)=', '1.9468', 'loss=', '0.000428327')\n",
      "('Epoch:', '0449', 'training time (minutes)=', '2.3725', 'loss=', '0.000421010')\n",
      "('Epoch:', '0450', 'training time (minutes)=', '1.9364', 'loss=', '0.000431297')\n",
      "INFO:tensorflow:/orions4-zfs/projects/optas/DATA/OUT/iclr/nn_models/all_snc/2_all_snc_rotated_mlp_arch_with_bnorm_no_dropout2048pts_chamfer/models.ckpt-450 is not in all_model_checkpoint_paths. Manually adding it.\n"
     ]
    },
    {
     "name": "stderr",
     "output_type": "stream",
     "text": [
      "INFO:tensorflow:/orions4-zfs/projects/optas/DATA/OUT/iclr/nn_models/all_snc/2_all_snc_rotated_mlp_arch_with_bnorm_no_dropout2048pts_chamfer/models.ckpt-450 is not in all_model_checkpoint_paths. Manually adding it.\n"
     ]
    },
    {
     "name": "stdout",
     "output_type": "stream",
     "text": [
      "('Epoch:', '0451', 'training time (minutes)=', '1.9212', 'loss=', '0.000423055')\n",
      "('Epoch:', '0452', 'training time (minutes)=', '1.9334', 'loss=', '0.000422311')\n",
      "('Epoch:', '0453', 'training time (minutes)=', '1.9382', 'loss=', '0.000425533')\n",
      "('Epoch:', '0454', 'training time (minutes)=', '2.0762', 'loss=', '0.000426612')\n",
      "('Epoch:', '0455', 'training time (minutes)=', '2.0657', 'loss=', '0.000421760')\n",
      "('Epoch:', '0456', 'training time (minutes)=', '1.9033', 'loss=', '0.000420471')\n",
      "('Epoch:', '0457', 'training time (minutes)=', '1.9725', 'loss=', '0.000423481')\n",
      "('Epoch:', '0458', 'training time (minutes)=', '1.9401', 'loss=', '0.000424439')\n",
      "('Epoch:', '0459', 'training time (minutes)=', '2.2304', 'loss=', '0.000423806')\n",
      "('Epoch:', '0460', 'training time (minutes)=', '2.1978', 'loss=', '0.000425516')\n",
      "INFO:tensorflow:/orions4-zfs/projects/optas/DATA/OUT/iclr/nn_models/all_snc/2_all_snc_rotated_mlp_arch_with_bnorm_no_dropout2048pts_chamfer/models.ckpt-460 is not in all_model_checkpoint_paths. Manually adding it.\n"
     ]
    },
    {
     "name": "stderr",
     "output_type": "stream",
     "text": [
      "INFO:tensorflow:/orions4-zfs/projects/optas/DATA/OUT/iclr/nn_models/all_snc/2_all_snc_rotated_mlp_arch_with_bnorm_no_dropout2048pts_chamfer/models.ckpt-460 is not in all_model_checkpoint_paths. Manually adding it.\n"
     ]
    },
    {
     "name": "stdout",
     "output_type": "stream",
     "text": [
      "('Epoch:', '0461', 'training time (minutes)=', '1.9575', 'loss=', '0.000418263')\n",
      "('Epoch:', '0462', 'training time (minutes)=', '2.0637', 'loss=', '0.000427171')\n",
      "('Epoch:', '0463', 'training time (minutes)=', '2.7454', 'loss=', '0.000422473')\n",
      "('Epoch:', '0464', 'training time (minutes)=', '2.1140', 'loss=', '0.000416523')\n",
      "('Epoch:', '0465', 'training time (minutes)=', '1.9169', 'loss=', '0.000414248')\n",
      "('Epoch:', '0466', 'training time (minutes)=', '1.9079', 'loss=', '0.000425621')\n",
      "('Epoch:', '0467', 'training time (minutes)=', '2.3667', 'loss=', '0.000432464')\n",
      "('Epoch:', '0468', 'training time (minutes)=', '1.9315', 'loss=', '0.000418267')\n",
      "('Epoch:', '0469', 'training time (minutes)=', '1.9183', 'loss=', '0.000415119')\n",
      "('Epoch:', '0470', 'training time (minutes)=', '1.9096', 'loss=', '0.000419920')\n",
      "INFO:tensorflow:/orions4-zfs/projects/optas/DATA/OUT/iclr/nn_models/all_snc/2_all_snc_rotated_mlp_arch_with_bnorm_no_dropout2048pts_chamfer/models.ckpt-470 is not in all_model_checkpoint_paths. Manually adding it.\n"
     ]
    },
    {
     "name": "stderr",
     "output_type": "stream",
     "text": [
      "INFO:tensorflow:/orions4-zfs/projects/optas/DATA/OUT/iclr/nn_models/all_snc/2_all_snc_rotated_mlp_arch_with_bnorm_no_dropout2048pts_chamfer/models.ckpt-470 is not in all_model_checkpoint_paths. Manually adding it.\n"
     ]
    },
    {
     "name": "stdout",
     "output_type": "stream",
     "text": [
      "('Epoch:', '0471', 'training time (minutes)=', '2.0664', 'loss=', '0.000417156')\n",
      "('Epoch:', '0472', 'training time (minutes)=', '1.9233', 'loss=', '0.000420255')\n",
      "('Epoch:', '0473', 'training time (minutes)=', '1.9226', 'loss=', '0.000419949')\n",
      "('Epoch:', '0474', 'training time (minutes)=', '1.9081', 'loss=', '0.000410684')\n",
      "('Epoch:', '0475', 'training time (minutes)=', '1.9783', 'loss=', '0.000426566')\n",
      "('Epoch:', '0476', 'training time (minutes)=', '1.9063', 'loss=', '0.000419412')\n",
      "('Epoch:', '0477', 'training time (minutes)=', '1.9702', 'loss=', '0.000430727')\n",
      "('Epoch:', '0478', 'training time (minutes)=', '2.3893', 'loss=', '0.000417283')\n",
      "('Epoch:', '0479', 'training time (minutes)=', '1.8985', 'loss=', '0.000421267')\n",
      "('Epoch:', '0480', 'training time (minutes)=', '1.9194', 'loss=', '0.000414681')\n",
      "INFO:tensorflow:/orions4-zfs/projects/optas/DATA/OUT/iclr/nn_models/all_snc/2_all_snc_rotated_mlp_arch_with_bnorm_no_dropout2048pts_chamfer/models.ckpt-480 is not in all_model_checkpoint_paths. Manually adding it.\n"
     ]
    },
    {
     "name": "stderr",
     "output_type": "stream",
     "text": [
      "INFO:tensorflow:/orions4-zfs/projects/optas/DATA/OUT/iclr/nn_models/all_snc/2_all_snc_rotated_mlp_arch_with_bnorm_no_dropout2048pts_chamfer/models.ckpt-480 is not in all_model_checkpoint_paths. Manually adding it.\n"
     ]
    },
    {
     "name": "stdout",
     "output_type": "stream",
     "text": [
      "('Epoch:', '0481', 'training time (minutes)=', '1.9070', 'loss=', '0.000426171')\n",
      "('Epoch:', '0482', 'training time (minutes)=', '1.9390', 'loss=', '0.000417698')\n",
      "('Epoch:', '0483', 'training time (minutes)=', '1.9175', 'loss=', '0.000416220')\n",
      "('Epoch:', '0484', 'training time (minutes)=', '1.9447', 'loss=', '0.000419084')\n",
      "('Epoch:', '0485', 'training time (minutes)=', '1.9281', 'loss=', '0.000414779')\n",
      "('Epoch:', '0486', 'training time (minutes)=', '1.9594', 'loss=', '0.000417362')\n",
      "('Epoch:', '0487', 'training time (minutes)=', '1.9075', 'loss=', '0.000420749')\n",
      "('Epoch:', '0488', 'training time (minutes)=', '1.9423', 'loss=', '0.000415091')\n",
      "('Epoch:', '0489', 'training time (minutes)=', '1.8802', 'loss=', '0.000427798')\n",
      "('Epoch:', '0490', 'training time (minutes)=', '1.8988', 'loss=', '0.000423598')\n",
      "INFO:tensorflow:/orions4-zfs/projects/optas/DATA/OUT/iclr/nn_models/all_snc/2_all_snc_rotated_mlp_arch_with_bnorm_no_dropout2048pts_chamfer/models.ckpt-490 is not in all_model_checkpoint_paths. Manually adding it.\n"
     ]
    },
    {
     "name": "stderr",
     "output_type": "stream",
     "text": [
      "INFO:tensorflow:/orions4-zfs/projects/optas/DATA/OUT/iclr/nn_models/all_snc/2_all_snc_rotated_mlp_arch_with_bnorm_no_dropout2048pts_chamfer/models.ckpt-490 is not in all_model_checkpoint_paths. Manually adding it.\n"
     ]
    },
    {
     "name": "stdout",
     "output_type": "stream",
     "text": [
      "('Epoch:', '0491', 'training time (minutes)=', '1.9148', 'loss=', '0.000417242')\n",
      "('Epoch:', '0492', 'training time (minutes)=', '1.9028', 'loss=', '0.000416355')\n",
      "('Epoch:', '0493', 'training time (minutes)=', '1.9519', 'loss=', '0.000415091')\n",
      "('Epoch:', '0494', 'training time (minutes)=', '1.9344', 'loss=', '0.000421991')\n",
      "('Epoch:', '0495', 'training time (minutes)=', '1.9441', 'loss=', '0.000426420')\n",
      "('Epoch:', '0496', 'training time (minutes)=', '1.9320', 'loss=', '0.000422164')\n",
      "('Epoch:', '0497', 'training time (minutes)=', '1.9538', 'loss=', '0.000417885')\n",
      "('Epoch:', '0498', 'training time (minutes)=', '1.9080', 'loss=', '0.000419083')\n",
      "('Epoch:', '0499', 'training time (minutes)=', '1.9228', 'loss=', '0.000420029')\n",
      "('Epoch:', '0500', 'training time (minutes)=', '1.9439', 'loss=', '0.000421033')\n",
      "INFO:tensorflow:/orions4-zfs/projects/optas/DATA/OUT/iclr/nn_models/all_snc/2_all_snc_rotated_mlp_arch_with_bnorm_no_dropout2048pts_chamfer/models.ckpt-500 is not in all_model_checkpoint_paths. Manually adding it.\n"
     ]
    },
    {
     "name": "stderr",
     "output_type": "stream",
     "text": [
      "INFO:tensorflow:/orions4-zfs/projects/optas/DATA/OUT/iclr/nn_models/all_snc/2_all_snc_rotated_mlp_arch_with_bnorm_no_dropout2048pts_chamfer/models.ckpt-500 is not in all_model_checkpoint_paths. Manually adding it.\n"
     ]
    },
    {
     "name": "stdout",
     "output_type": "stream",
     "text": [
      "('Epoch:', '0501', 'training time (minutes)=', '1.9656', 'loss=', '0.000411139')\n",
      "('Epoch:', '0502', 'training time (minutes)=', '1.9470', 'loss=', '0.000415131')\n",
      "('Epoch:', '0503', 'training time (minutes)=', '1.9439', 'loss=', '0.000412990')\n",
      "('Epoch:', '0504', 'training time (minutes)=', '1.9324', 'loss=', '0.000415331')\n",
      "('Epoch:', '0505', 'training time (minutes)=', '1.9354', 'loss=', '0.000416296')\n",
      "('Epoch:', '0506', 'training time (minutes)=', '1.9606', 'loss=', '0.000415699')\n",
      "('Epoch:', '0507', 'training time (minutes)=', '1.9504', 'loss=', '0.000418548')\n",
      "('Epoch:', '0508', 'training time (minutes)=', '1.9024', 'loss=', '0.000414807')\n",
      "('Epoch:', '0509', 'training time (minutes)=', '1.9347', 'loss=', '0.000418316')\n",
      "('Epoch:', '0510', 'training time (minutes)=', '1.9341', 'loss=', '0.000414630')\n",
      "INFO:tensorflow:/orions4-zfs/projects/optas/DATA/OUT/iclr/nn_models/all_snc/2_all_snc_rotated_mlp_arch_with_bnorm_no_dropout2048pts_chamfer/models.ckpt-510 is not in all_model_checkpoint_paths. Manually adding it.\n"
     ]
    },
    {
     "name": "stderr",
     "output_type": "stream",
     "text": [
      "INFO:tensorflow:/orions4-zfs/projects/optas/DATA/OUT/iclr/nn_models/all_snc/2_all_snc_rotated_mlp_arch_with_bnorm_no_dropout2048pts_chamfer/models.ckpt-510 is not in all_model_checkpoint_paths. Manually adding it.\n"
     ]
    },
    {
     "name": "stdout",
     "output_type": "stream",
     "text": [
      "('Epoch:', '0511', 'training time (minutes)=', '2.0433', 'loss=', '0.000419709')\n",
      "('Epoch:', '0512', 'training time (minutes)=', '1.9054', 'loss=', '0.000420453')\n",
      "('Epoch:', '0513', 'training time (minutes)=', '1.8933', 'loss=', '0.000416491')\n",
      "('Epoch:', '0514', 'training time (minutes)=', '1.8833', 'loss=', '0.000415040')\n",
      "('Epoch:', '0515', 'training time (minutes)=', '1.8769', 'loss=', '0.000417695')\n",
      "('Epoch:', '0516', 'training time (minutes)=', '1.9669', 'loss=', '0.000411814')\n",
      "('Epoch:', '0517', 'training time (minutes)=', '2.1514', 'loss=', '0.000413163')\n",
      "('Epoch:', '0518', 'training time (minutes)=', '1.9924', 'loss=', '0.000416458')\n",
      "('Epoch:', '0519', 'training time (minutes)=', '2.2429', 'loss=', '0.000412209')\n",
      "('Epoch:', '0520', 'training time (minutes)=', '2.1149', 'loss=', '0.000420528')\n",
      "INFO:tensorflow:/orions4-zfs/projects/optas/DATA/OUT/iclr/nn_models/all_snc/2_all_snc_rotated_mlp_arch_with_bnorm_no_dropout2048pts_chamfer/models.ckpt-520 is not in all_model_checkpoint_paths. Manually adding it.\n"
     ]
    },
    {
     "name": "stderr",
     "output_type": "stream",
     "text": [
      "INFO:tensorflow:/orions4-zfs/projects/optas/DATA/OUT/iclr/nn_models/all_snc/2_all_snc_rotated_mlp_arch_with_bnorm_no_dropout2048pts_chamfer/models.ckpt-520 is not in all_model_checkpoint_paths. Manually adding it.\n"
     ]
    },
    {
     "name": "stdout",
     "output_type": "stream",
     "text": [
      "('Epoch:', '0521', 'training time (minutes)=', '1.9425', 'loss=', '0.000414833')\n",
      "('Epoch:', '0522', 'training time (minutes)=', '2.1081', 'loss=', '0.000411507')\n",
      "('Epoch:', '0523', 'training time (minutes)=', '2.2822', 'loss=', '0.000417373')\n",
      "('Epoch:', '0524', 'training time (minutes)=', '2.3555', 'loss=', '0.000438945')\n",
      "('Epoch:', '0525', 'training time (minutes)=', '2.4330', 'loss=', '0.000413886')\n",
      "('Epoch:', '0526', 'training time (minutes)=', '2.2600', 'loss=', '0.000409934')\n",
      "('Epoch:', '0527', 'training time (minutes)=', '2.3153', 'loss=', '0.000420186')\n",
      "('Epoch:', '0528', 'training time (minutes)=', '1.8985', 'loss=', '0.000419617')\n",
      "('Epoch:', '0529', 'training time (minutes)=', '1.8933', 'loss=', '0.000416165')\n",
      "('Epoch:', '0530', 'training time (minutes)=', '1.9018', 'loss=', '0.000411694')\n",
      "INFO:tensorflow:/orions4-zfs/projects/optas/DATA/OUT/iclr/nn_models/all_snc/2_all_snc_rotated_mlp_arch_with_bnorm_no_dropout2048pts_chamfer/models.ckpt-530 is not in all_model_checkpoint_paths. Manually adding it.\n"
     ]
    },
    {
     "name": "stderr",
     "output_type": "stream",
     "text": [
      "INFO:tensorflow:/orions4-zfs/projects/optas/DATA/OUT/iclr/nn_models/all_snc/2_all_snc_rotated_mlp_arch_with_bnorm_no_dropout2048pts_chamfer/models.ckpt-530 is not in all_model_checkpoint_paths. Manually adding it.\n"
     ]
    },
    {
     "name": "stdout",
     "output_type": "stream",
     "text": [
      "('Epoch:', '0531', 'training time (minutes)=', '1.9148', 'loss=', '0.000410323')\n",
      "('Epoch:', '0532', 'training time (minutes)=', '1.8966', 'loss=', '0.000414960')\n",
      "('Epoch:', '0533', 'training time (minutes)=', '1.8920', 'loss=', '0.000424529')\n",
      "('Epoch:', '0534', 'training time (minutes)=', '1.8984', 'loss=', '0.000413668')\n",
      "('Epoch:', '0535', 'training time (minutes)=', '1.9580', 'loss=', '0.000410393')\n",
      "('Epoch:', '0536', 'training time (minutes)=', '1.8926', 'loss=', '0.000410573')\n",
      "('Epoch:', '0537', 'training time (minutes)=', '1.8898', 'loss=', '0.000415396')\n",
      "('Epoch:', '0538', 'training time (minutes)=', '1.8966', 'loss=', '0.000417506')\n",
      "('Epoch:', '0539', 'training time (minutes)=', '1.9371', 'loss=', '0.000418596')\n",
      "('Epoch:', '0540', 'training time (minutes)=', '1.8911', 'loss=', '0.000412491')\n",
      "INFO:tensorflow:/orions4-zfs/projects/optas/DATA/OUT/iclr/nn_models/all_snc/2_all_snc_rotated_mlp_arch_with_bnorm_no_dropout2048pts_chamfer/models.ckpt-540 is not in all_model_checkpoint_paths. Manually adding it.\n"
     ]
    },
    {
     "name": "stderr",
     "output_type": "stream",
     "text": [
      "INFO:tensorflow:/orions4-zfs/projects/optas/DATA/OUT/iclr/nn_models/all_snc/2_all_snc_rotated_mlp_arch_with_bnorm_no_dropout2048pts_chamfer/models.ckpt-540 is not in all_model_checkpoint_paths. Manually adding it.\n"
     ]
    },
    {
     "name": "stdout",
     "output_type": "stream",
     "text": [
      "('Epoch:', '0541', 'training time (minutes)=', '1.9061', 'loss=', '0.000405581')\n",
      "('Epoch:', '0542', 'training time (minutes)=', '1.9164', 'loss=', '0.000414640')\n",
      "('Epoch:', '0543', 'training time (minutes)=', '1.9348', 'loss=', '0.000415035')\n",
      "('Epoch:', '0544', 'training time (minutes)=', '1.9100', 'loss=', '0.000406976')\n",
      "('Epoch:', '0545', 'training time (minutes)=', '1.9126', 'loss=', '0.000413168')\n",
      "('Epoch:', '0546', 'training time (minutes)=', '1.9077', 'loss=', '0.000410821')\n",
      "('Epoch:', '0547', 'training time (minutes)=', '1.9007', 'loss=', '0.000407030')\n",
      "('Epoch:', '0548', 'training time (minutes)=', '1.9019', 'loss=', '0.000411543')\n",
      "('Epoch:', '0549', 'training time (minutes)=', '1.9147', 'loss=', '0.000412133')\n",
      "('Epoch:', '0550', 'training time (minutes)=', '1.8966', 'loss=', '0.000415013')\n",
      "INFO:tensorflow:/orions4-zfs/projects/optas/DATA/OUT/iclr/nn_models/all_snc/2_all_snc_rotated_mlp_arch_with_bnorm_no_dropout2048pts_chamfer/models.ckpt-550 is not in all_model_checkpoint_paths. Manually adding it.\n"
     ]
    },
    {
     "name": "stderr",
     "output_type": "stream",
     "text": [
      "INFO:tensorflow:/orions4-zfs/projects/optas/DATA/OUT/iclr/nn_models/all_snc/2_all_snc_rotated_mlp_arch_with_bnorm_no_dropout2048pts_chamfer/models.ckpt-550 is not in all_model_checkpoint_paths. Manually adding it.\n"
     ]
    },
    {
     "name": "stdout",
     "output_type": "stream",
     "text": [
      "('Epoch:', '0551', 'training time (minutes)=', '1.9086', 'loss=', '0.000413956')\n",
      "('Epoch:', '0552', 'training time (minutes)=', '1.9004', 'loss=', '0.000418666')\n",
      "('Epoch:', '0553', 'training time (minutes)=', '1.9076', 'loss=', '0.000415242')\n",
      "('Epoch:', '0554', 'training time (minutes)=', '1.9034', 'loss=', '0.000410449')\n",
      "('Epoch:', '0555', 'training time (minutes)=', '1.9216', 'loss=', '0.000410297')\n",
      "('Epoch:', '0556', 'training time (minutes)=', '1.9093', 'loss=', '0.000414411')\n",
      "('Epoch:', '0557', 'training time (minutes)=', '1.9203', 'loss=', '0.000437966')\n",
      "('Epoch:', '0558', 'training time (minutes)=', '1.9704', 'loss=', '0.000412001')\n",
      "('Epoch:', '0559', 'training time (minutes)=', '1.9454', 'loss=', '0.000411929')\n",
      "('Epoch:', '0560', 'training time (minutes)=', '1.9322', 'loss=', '0.000412495')\n",
      "INFO:tensorflow:/orions4-zfs/projects/optas/DATA/OUT/iclr/nn_models/all_snc/2_all_snc_rotated_mlp_arch_with_bnorm_no_dropout2048pts_chamfer/models.ckpt-560 is not in all_model_checkpoint_paths. Manually adding it.\n"
     ]
    },
    {
     "name": "stderr",
     "output_type": "stream",
     "text": [
      "INFO:tensorflow:/orions4-zfs/projects/optas/DATA/OUT/iclr/nn_models/all_snc/2_all_snc_rotated_mlp_arch_with_bnorm_no_dropout2048pts_chamfer/models.ckpt-560 is not in all_model_checkpoint_paths. Manually adding it.\n"
     ]
    },
    {
     "name": "stdout",
     "output_type": "stream",
     "text": [
      "('Epoch:', '0561', 'training time (minutes)=', '1.8941', 'loss=', '0.000411316')\n",
      "('Epoch:', '0562', 'training time (minutes)=', '1.9337', 'loss=', '0.000416749')\n",
      "('Epoch:', '0563', 'training time (minutes)=', '1.8934', 'loss=', '0.000410683')\n",
      "('Epoch:', '0564', 'training time (minutes)=', '1.8690', 'loss=', '0.000407857')\n",
      "('Epoch:', '0565', 'training time (minutes)=', '1.8713', 'loss=', '0.000408437')\n",
      "('Epoch:', '0566', 'training time (minutes)=', '1.8841', 'loss=', '0.000413899')\n",
      "('Epoch:', '0567', 'training time (minutes)=', '1.8802', 'loss=', '0.000417738')\n",
      "('Epoch:', '0568', 'training time (minutes)=', '1.8743', 'loss=', '0.000404971')\n",
      "('Epoch:', '0569', 'training time (minutes)=', '1.8789', 'loss=', '0.000407499')\n",
      "('Epoch:', '0570', 'training time (minutes)=', '1.8749', 'loss=', '0.000423501')\n",
      "INFO:tensorflow:/orions4-zfs/projects/optas/DATA/OUT/iclr/nn_models/all_snc/2_all_snc_rotated_mlp_arch_with_bnorm_no_dropout2048pts_chamfer/models.ckpt-570 is not in all_model_checkpoint_paths. Manually adding it.\n"
     ]
    },
    {
     "name": "stderr",
     "output_type": "stream",
     "text": [
      "INFO:tensorflow:/orions4-zfs/projects/optas/DATA/OUT/iclr/nn_models/all_snc/2_all_snc_rotated_mlp_arch_with_bnorm_no_dropout2048pts_chamfer/models.ckpt-570 is not in all_model_checkpoint_paths. Manually adding it.\n"
     ]
    },
    {
     "name": "stdout",
     "output_type": "stream",
     "text": [
      "('Epoch:', '0571', 'training time (minutes)=', '1.8753', 'loss=', '0.000410618')\n",
      "('Epoch:', '0572', 'training time (minutes)=', '1.8763', 'loss=', '0.000407003')\n",
      "('Epoch:', '0573', 'training time (minutes)=', '1.8846', 'loss=', '0.000405525')\n",
      "('Epoch:', '0574', 'training time (minutes)=', '1.8769', 'loss=', '0.000409012')\n",
      "('Epoch:', '0575', 'training time (minutes)=', '1.8783', 'loss=', '0.000407794')\n",
      "('Epoch:', '0576', 'training time (minutes)=', '1.8833', 'loss=', '0.000413133')\n",
      "('Epoch:', '0577', 'training time (minutes)=', '1.8811', 'loss=', '0.000407109')\n",
      "('Epoch:', '0578', 'training time (minutes)=', '1.8744', 'loss=', '0.000411451')\n",
      "('Epoch:', '0579', 'training time (minutes)=', '1.8792', 'loss=', '0.000404092')\n",
      "('Epoch:', '0580', 'training time (minutes)=', '1.8870', 'loss=', '0.000411226')\n",
      "INFO:tensorflow:/orions4-zfs/projects/optas/DATA/OUT/iclr/nn_models/all_snc/2_all_snc_rotated_mlp_arch_with_bnorm_no_dropout2048pts_chamfer/models.ckpt-580 is not in all_model_checkpoint_paths. Manually adding it.\n"
     ]
    },
    {
     "name": "stderr",
     "output_type": "stream",
     "text": [
      "INFO:tensorflow:/orions4-zfs/projects/optas/DATA/OUT/iclr/nn_models/all_snc/2_all_snc_rotated_mlp_arch_with_bnorm_no_dropout2048pts_chamfer/models.ckpt-580 is not in all_model_checkpoint_paths. Manually adding it.\n"
     ]
    },
    {
     "name": "stdout",
     "output_type": "stream",
     "text": [
      "('Epoch:', '0581', 'training time (minutes)=', '1.8703', 'loss=', '0.000411035')\n",
      "('Epoch:', '0582', 'training time (minutes)=', '1.8781', 'loss=', '0.000409881')\n",
      "('Epoch:', '0583', 'training time (minutes)=', '1.8799', 'loss=', '0.000410079')\n",
      "('Epoch:', '0584', 'training time (minutes)=', '1.8882', 'loss=', '0.000408651')\n",
      "('Epoch:', '0585', 'training time (minutes)=', '1.8742', 'loss=', '0.000406383')\n",
      "('Epoch:', '0586', 'training time (minutes)=', '1.8699', 'loss=', '0.000415630')\n",
      "('Epoch:', '0587', 'training time (minutes)=', '1.8829', 'loss=', '0.000410009')\n",
      "('Epoch:', '0588', 'training time (minutes)=', '1.8800', 'loss=', '0.000399381')\n",
      "('Epoch:', '0589', 'training time (minutes)=', '1.8760', 'loss=', '0.000408495')\n",
      "('Epoch:', '0590', 'training time (minutes)=', '1.8766', 'loss=', '0.000407683')\n",
      "INFO:tensorflow:/orions4-zfs/projects/optas/DATA/OUT/iclr/nn_models/all_snc/2_all_snc_rotated_mlp_arch_with_bnorm_no_dropout2048pts_chamfer/models.ckpt-590 is not in all_model_checkpoint_paths. Manually adding it.\n"
     ]
    },
    {
     "name": "stderr",
     "output_type": "stream",
     "text": [
      "INFO:tensorflow:/orions4-zfs/projects/optas/DATA/OUT/iclr/nn_models/all_snc/2_all_snc_rotated_mlp_arch_with_bnorm_no_dropout2048pts_chamfer/models.ckpt-590 is not in all_model_checkpoint_paths. Manually adding it.\n"
     ]
    },
    {
     "name": "stdout",
     "output_type": "stream",
     "text": [
      "('Epoch:', '0591', 'training time (minutes)=', '1.8748', 'loss=', '0.000405742')\n",
      "('Epoch:', '0592', 'training time (minutes)=', '1.8794', 'loss=', '0.000407873')\n",
      "('Epoch:', '0593', 'training time (minutes)=', '1.8706', 'loss=', '0.000412265')\n",
      "('Epoch:', '0594', 'training time (minutes)=', '1.8769', 'loss=', '0.000416286')\n",
      "('Epoch:', '0595', 'training time (minutes)=', '1.8726', 'loss=', '0.000408063')\n",
      "('Epoch:', '0596', 'training time (minutes)=', '1.8780', 'loss=', '0.000412781')\n",
      "('Epoch:', '0597', 'training time (minutes)=', '1.8834', 'loss=', '0.000409646')\n",
      "('Epoch:', '0598', 'training time (minutes)=', '1.8692', 'loss=', '0.000408986')\n",
      "('Epoch:', '0599', 'training time (minutes)=', '1.8804', 'loss=', '0.000399432')\n",
      "('Epoch:', '0600', 'training time (minutes)=', '1.8661', 'loss=', '0.000406407')\n",
      "INFO:tensorflow:/orions4-zfs/projects/optas/DATA/OUT/iclr/nn_models/all_snc/2_all_snc_rotated_mlp_arch_with_bnorm_no_dropout2048pts_chamfer/models.ckpt-600 is not in all_model_checkpoint_paths. Manually adding it.\n"
     ]
    },
    {
     "name": "stderr",
     "output_type": "stream",
     "text": [
      "INFO:tensorflow:/orions4-zfs/projects/optas/DATA/OUT/iclr/nn_models/all_snc/2_all_snc_rotated_mlp_arch_with_bnorm_no_dropout2048pts_chamfer/models.ckpt-600 is not in all_model_checkpoint_paths. Manually adding it.\n"
     ]
    },
    {
     "name": "stdout",
     "output_type": "stream",
     "text": [
      "('Epoch:', '0601', 'training time (minutes)=', '1.8790', 'loss=', '0.000403831')\n",
      "('Epoch:', '0602', 'training time (minutes)=', '1.8701', 'loss=', '0.000414567')\n",
      "('Epoch:', '0603', 'training time (minutes)=', '1.8789', 'loss=', '0.000399805')\n",
      "('Epoch:', '0604', 'training time (minutes)=', '1.8896', 'loss=', '0.000406972')\n",
      "('Epoch:', '0605', 'training time (minutes)=', '1.9135', 'loss=', '0.000404925')\n",
      "('Epoch:', '0606', 'training time (minutes)=', '1.9127', 'loss=', '0.000406252')\n",
      "('Epoch:', '0607', 'training time (minutes)=', '1.8958', 'loss=', '0.000408645')\n",
      "('Epoch:', '0608', 'training time (minutes)=', '1.8944', 'loss=', '0.000410982')\n",
      "('Epoch:', '0609', 'training time (minutes)=', '1.8958', 'loss=', '0.000404790')\n",
      "('Epoch:', '0610', 'training time (minutes)=', '1.9016', 'loss=', '0.000410239')\n",
      "INFO:tensorflow:/orions4-zfs/projects/optas/DATA/OUT/iclr/nn_models/all_snc/2_all_snc_rotated_mlp_arch_with_bnorm_no_dropout2048pts_chamfer/models.ckpt-610 is not in all_model_checkpoint_paths. Manually adding it.\n"
     ]
    },
    {
     "name": "stderr",
     "output_type": "stream",
     "text": [
      "INFO:tensorflow:/orions4-zfs/projects/optas/DATA/OUT/iclr/nn_models/all_snc/2_all_snc_rotated_mlp_arch_with_bnorm_no_dropout2048pts_chamfer/models.ckpt-610 is not in all_model_checkpoint_paths. Manually adding it.\n"
     ]
    },
    {
     "name": "stdout",
     "output_type": "stream",
     "text": [
      "('Epoch:', '0611', 'training time (minutes)=', '1.8955', 'loss=', '0.000404003')\n",
      "('Epoch:', '0612', 'training time (minutes)=', '1.9055', 'loss=', '0.000407625')\n",
      "('Epoch:', '0613', 'training time (minutes)=', '1.8813', 'loss=', '0.000404058')\n",
      "('Epoch:', '0614', 'training time (minutes)=', '1.8994', 'loss=', '0.000404296')\n",
      "('Epoch:', '0615', 'training time (minutes)=', '1.8835', 'loss=', '0.000402170')\n",
      "('Epoch:', '0616', 'training time (minutes)=', '1.9044', 'loss=', '0.000400030')\n",
      "('Epoch:', '0617', 'training time (minutes)=', '1.8868', 'loss=', '0.000400343')\n",
      "('Epoch:', '0618', 'training time (minutes)=', '1.9131', 'loss=', '0.000408579')\n",
      "('Epoch:', '0619', 'training time (minutes)=', '1.9056', 'loss=', '0.000401676')\n",
      "('Epoch:', '0620', 'training time (minutes)=', '1.8917', 'loss=', '0.000407699')\n",
      "INFO:tensorflow:/orions4-zfs/projects/optas/DATA/OUT/iclr/nn_models/all_snc/2_all_snc_rotated_mlp_arch_with_bnorm_no_dropout2048pts_chamfer/models.ckpt-620 is not in all_model_checkpoint_paths. Manually adding it.\n"
     ]
    },
    {
     "name": "stderr",
     "output_type": "stream",
     "text": [
      "INFO:tensorflow:/orions4-zfs/projects/optas/DATA/OUT/iclr/nn_models/all_snc/2_all_snc_rotated_mlp_arch_with_bnorm_no_dropout2048pts_chamfer/models.ckpt-620 is not in all_model_checkpoint_paths. Manually adding it.\n"
     ]
    },
    {
     "name": "stdout",
     "output_type": "stream",
     "text": [
      "('Epoch:', '0621', 'training time (minutes)=', '1.8773', 'loss=', '0.000403551')\n",
      "('Epoch:', '0622', 'training time (minutes)=', '1.9099', 'loss=', '0.000406957')\n",
      "('Epoch:', '0623', 'training time (minutes)=', '1.9110', 'loss=', '0.000402070')\n",
      "('Epoch:', '0624', 'training time (minutes)=', '1.9147', 'loss=', '0.000414258')\n",
      "('Epoch:', '0625', 'training time (minutes)=', '1.8894', 'loss=', '0.000402237')\n",
      "('Epoch:', '0626', 'training time (minutes)=', '1.8817', 'loss=', '0.000408992')\n",
      "('Epoch:', '0627', 'training time (minutes)=', '1.8884', 'loss=', '0.000414359')\n",
      "('Epoch:', '0628', 'training time (minutes)=', '1.9105', 'loss=', '0.000402503')\n",
      "('Epoch:', '0629', 'training time (minutes)=', '1.8868', 'loss=', '0.000409164')\n",
      "('Epoch:', '0630', 'training time (minutes)=', '1.9308', 'loss=', '0.000406859')\n",
      "INFO:tensorflow:/orions4-zfs/projects/optas/DATA/OUT/iclr/nn_models/all_snc/2_all_snc_rotated_mlp_arch_with_bnorm_no_dropout2048pts_chamfer/models.ckpt-630 is not in all_model_checkpoint_paths. Manually adding it.\n"
     ]
    },
    {
     "name": "stderr",
     "output_type": "stream",
     "text": [
      "INFO:tensorflow:/orions4-zfs/projects/optas/DATA/OUT/iclr/nn_models/all_snc/2_all_snc_rotated_mlp_arch_with_bnorm_no_dropout2048pts_chamfer/models.ckpt-630 is not in all_model_checkpoint_paths. Manually adding it.\n"
     ]
    },
    {
     "name": "stdout",
     "output_type": "stream",
     "text": [
      "('Epoch:', '0631', 'training time (minutes)=', '1.8976', 'loss=', '0.000402640')\n",
      "('Epoch:', '0632', 'training time (minutes)=', '1.8909', 'loss=', '0.000413072')\n",
      "('Epoch:', '0633', 'training time (minutes)=', '1.9061', 'loss=', '0.000405160')\n",
      "('Epoch:', '0634', 'training time (minutes)=', '1.9018', 'loss=', '0.000403732')\n",
      "('Epoch:', '0635', 'training time (minutes)=', '1.8901', 'loss=', '0.000410721')\n",
      "('Epoch:', '0636', 'training time (minutes)=', '1.9154', 'loss=', '0.000408360')\n",
      "('Epoch:', '0637', 'training time (minutes)=', '1.9097', 'loss=', '0.000407159')\n",
      "('Epoch:', '0638', 'training time (minutes)=', '1.9171', 'loss=', '0.000399316')\n",
      "('Epoch:', '0639', 'training time (minutes)=', '1.8888', 'loss=', '0.000407232')\n",
      "('Epoch:', '0640', 'training time (minutes)=', '1.9114', 'loss=', '0.000403800')\n",
      "INFO:tensorflow:/orions4-zfs/projects/optas/DATA/OUT/iclr/nn_models/all_snc/2_all_snc_rotated_mlp_arch_with_bnorm_no_dropout2048pts_chamfer/models.ckpt-640 is not in all_model_checkpoint_paths. Manually adding it.\n"
     ]
    },
    {
     "name": "stderr",
     "output_type": "stream",
     "text": [
      "INFO:tensorflow:/orions4-zfs/projects/optas/DATA/OUT/iclr/nn_models/all_snc/2_all_snc_rotated_mlp_arch_with_bnorm_no_dropout2048pts_chamfer/models.ckpt-640 is not in all_model_checkpoint_paths. Manually adding it.\n"
     ]
    },
    {
     "name": "stdout",
     "output_type": "stream",
     "text": [
      "('Epoch:', '0641', 'training time (minutes)=', '1.9054', 'loss=', '0.000406067')\n",
      "('Epoch:', '0642', 'training time (minutes)=', '1.8999', 'loss=', '0.000400581')\n",
      "('Epoch:', '0643', 'training time (minutes)=', '1.9138', 'loss=', '0.000409298')\n",
      "('Epoch:', '0644', 'training time (minutes)=', '1.9060', 'loss=', '0.000408726')\n",
      "('Epoch:', '0645', 'training time (minutes)=', '1.9235', 'loss=', '0.000404267')\n",
      "('Epoch:', '0646', 'training time (minutes)=', '1.9247', 'loss=', '0.000406339')\n",
      "('Epoch:', '0647', 'training time (minutes)=', '1.9304', 'loss=', '0.000399722')\n",
      "('Epoch:', '0648', 'training time (minutes)=', '1.9258', 'loss=', '0.000406340')\n",
      "('Epoch:', '0649', 'training time (minutes)=', '1.9230', 'loss=', '0.000402119')\n",
      "('Epoch:', '0650', 'training time (minutes)=', '1.9065', 'loss=', '0.000400786')\n",
      "INFO:tensorflow:/orions4-zfs/projects/optas/DATA/OUT/iclr/nn_models/all_snc/2_all_snc_rotated_mlp_arch_with_bnorm_no_dropout2048pts_chamfer/models.ckpt-650 is not in all_model_checkpoint_paths. Manually adding it.\n"
     ]
    },
    {
     "name": "stderr",
     "output_type": "stream",
     "text": [
      "INFO:tensorflow:/orions4-zfs/projects/optas/DATA/OUT/iclr/nn_models/all_snc/2_all_snc_rotated_mlp_arch_with_bnorm_no_dropout2048pts_chamfer/models.ckpt-650 is not in all_model_checkpoint_paths. Manually adding it.\n"
     ]
    },
    {
     "name": "stdout",
     "output_type": "stream",
     "text": [
      "('Epoch:', '0651', 'training time (minutes)=', '1.9214', 'loss=', '0.000404861')\n",
      "('Epoch:', '0652', 'training time (minutes)=', '1.9440', 'loss=', '0.000411246')\n",
      "('Epoch:', '0653', 'training time (minutes)=', '1.9320', 'loss=', '0.000399340')\n",
      "('Epoch:', '0654', 'training time (minutes)=', '1.9427', 'loss=', '0.000404844')\n",
      "('Epoch:', '0655', 'training time (minutes)=', '1.9314', 'loss=', '0.000406239')\n",
      "('Epoch:', '0656', 'training time (minutes)=', '1.9419', 'loss=', '0.000409384')\n",
      "('Epoch:', '0657', 'training time (minutes)=', '1.9319', 'loss=', '0.000399248')\n",
      "('Epoch:', '0658', 'training time (minutes)=', '1.9231', 'loss=', '0.000407906')\n",
      "('Epoch:', '0659', 'training time (minutes)=', '1.9271', 'loss=', '0.000397567')\n",
      "('Epoch:', '0660', 'training time (minutes)=', '1.9157', 'loss=', '0.000411644')\n",
      "INFO:tensorflow:/orions4-zfs/projects/optas/DATA/OUT/iclr/nn_models/all_snc/2_all_snc_rotated_mlp_arch_with_bnorm_no_dropout2048pts_chamfer/models.ckpt-660 is not in all_model_checkpoint_paths. Manually adding it.\n"
     ]
    },
    {
     "name": "stderr",
     "output_type": "stream",
     "text": [
      "INFO:tensorflow:/orions4-zfs/projects/optas/DATA/OUT/iclr/nn_models/all_snc/2_all_snc_rotated_mlp_arch_with_bnorm_no_dropout2048pts_chamfer/models.ckpt-660 is not in all_model_checkpoint_paths. Manually adding it.\n"
     ]
    },
    {
     "name": "stdout",
     "output_type": "stream",
     "text": [
      "('Epoch:', '0661', 'training time (minutes)=', '1.9246', 'loss=', '0.000405798')\n",
      "('Epoch:', '0662', 'training time (minutes)=', '1.9154', 'loss=', '0.000400050')\n",
      "('Epoch:', '0663', 'training time (minutes)=', '1.9226', 'loss=', '0.000397479')\n",
      "('Epoch:', '0664', 'training time (minutes)=', '1.8707', 'loss=', '0.000399932')\n",
      "('Epoch:', '0665', 'training time (minutes)=', '1.9001', 'loss=', '0.000402546')\n",
      "('Epoch:', '0666', 'training time (minutes)=', '1.9565', 'loss=', '0.000412647')\n",
      "('Epoch:', '0667', 'training time (minutes)=', '1.9321', 'loss=', '0.000405429')\n",
      "('Epoch:', '0668', 'training time (minutes)=', '1.9585', 'loss=', '0.000397842')\n",
      "('Epoch:', '0669', 'training time (minutes)=', '1.9249', 'loss=', '0.000400751')\n",
      "('Epoch:', '0670', 'training time (minutes)=', '1.9140', 'loss=', '0.000403261')\n",
      "INFO:tensorflow:/orions4-zfs/projects/optas/DATA/OUT/iclr/nn_models/all_snc/2_all_snc_rotated_mlp_arch_with_bnorm_no_dropout2048pts_chamfer/models.ckpt-670 is not in all_model_checkpoint_paths. Manually adding it.\n"
     ]
    },
    {
     "name": "stderr",
     "output_type": "stream",
     "text": [
      "INFO:tensorflow:/orions4-zfs/projects/optas/DATA/OUT/iclr/nn_models/all_snc/2_all_snc_rotated_mlp_arch_with_bnorm_no_dropout2048pts_chamfer/models.ckpt-670 is not in all_model_checkpoint_paths. Manually adding it.\n"
     ]
    },
    {
     "name": "stdout",
     "output_type": "stream",
     "text": [
      "('Epoch:', '0671', 'training time (minutes)=', '1.9356', 'loss=', '0.000405521')\n",
      "('Epoch:', '0672', 'training time (minutes)=', '1.9243', 'loss=', '0.000403127')\n",
      "('Epoch:', '0673', 'training time (minutes)=', '1.9487', 'loss=', '0.000400946')\n",
      "('Epoch:', '0674', 'training time (minutes)=', '1.9325', 'loss=', '0.000397577')\n",
      "('Epoch:', '0675', 'training time (minutes)=', '1.9340', 'loss=', '0.000405109')\n",
      "('Epoch:', '0676', 'training time (minutes)=', '1.9413', 'loss=', '0.000403086')\n",
      "('Epoch:', '0677', 'training time (minutes)=', '1.9247', 'loss=', '0.000396322')\n",
      "('Epoch:', '0678', 'training time (minutes)=', '1.9315', 'loss=', '0.000404297')\n",
      "('Epoch:', '0679', 'training time (minutes)=', '1.9607', 'loss=', '0.000399897')\n",
      "('Epoch:', '0680', 'training time (minutes)=', '1.9896', 'loss=', '0.000404776')\n",
      "INFO:tensorflow:/orions4-zfs/projects/optas/DATA/OUT/iclr/nn_models/all_snc/2_all_snc_rotated_mlp_arch_with_bnorm_no_dropout2048pts_chamfer/models.ckpt-680 is not in all_model_checkpoint_paths. Manually adding it.\n"
     ]
    },
    {
     "name": "stderr",
     "output_type": "stream",
     "text": [
      "INFO:tensorflow:/orions4-zfs/projects/optas/DATA/OUT/iclr/nn_models/all_snc/2_all_snc_rotated_mlp_arch_with_bnorm_no_dropout2048pts_chamfer/models.ckpt-680 is not in all_model_checkpoint_paths. Manually adding it.\n"
     ]
    },
    {
     "name": "stdout",
     "output_type": "stream",
     "text": [
      "('Epoch:', '0681', 'training time (minutes)=', '1.9472', 'loss=', '0.000402760')\n",
      "('Epoch:', '0682', 'training time (minutes)=', '1.9516', 'loss=', '0.000402899')\n",
      "('Epoch:', '0683', 'training time (minutes)=', '1.9852', 'loss=', '0.000397168')\n",
      "('Epoch:', '0684', 'training time (minutes)=', '1.9593', 'loss=', '0.000396872')\n",
      "('Epoch:', '0685', 'training time (minutes)=', '1.9709', 'loss=', '0.000403238')\n",
      "('Epoch:', '0686', 'training time (minutes)=', '1.9628', 'loss=', '0.000398128')\n",
      "('Epoch:', '0687', 'training time (minutes)=', '1.9238', 'loss=', '0.000404441')\n",
      "('Epoch:', '0688', 'training time (minutes)=', '1.9225', 'loss=', '0.000399523')\n",
      "('Epoch:', '0689', 'training time (minutes)=', '1.9433', 'loss=', '0.000400998')\n",
      "('Epoch:', '0690', 'training time (minutes)=', '1.9926', 'loss=', '0.000404087')\n",
      "INFO:tensorflow:/orions4-zfs/projects/optas/DATA/OUT/iclr/nn_models/all_snc/2_all_snc_rotated_mlp_arch_with_bnorm_no_dropout2048pts_chamfer/models.ckpt-690 is not in all_model_checkpoint_paths. Manually adding it.\n"
     ]
    },
    {
     "name": "stderr",
     "output_type": "stream",
     "text": [
      "INFO:tensorflow:/orions4-zfs/projects/optas/DATA/OUT/iclr/nn_models/all_snc/2_all_snc_rotated_mlp_arch_with_bnorm_no_dropout2048pts_chamfer/models.ckpt-690 is not in all_model_checkpoint_paths. Manually adding it.\n"
     ]
    },
    {
     "name": "stdout",
     "output_type": "stream",
     "text": [
      "('Epoch:', '0691', 'training time (minutes)=', '1.9256', 'loss=', '0.000397897')\n",
      "('Epoch:', '0692', 'training time (minutes)=', '1.9310', 'loss=', '0.000407405')\n",
      "('Epoch:', '0693', 'training time (minutes)=', '1.9331', 'loss=', '0.000405973')\n"
     ]
    },
    {
     "ename": "KeyboardInterrupt",
     "evalue": "",
     "output_type": "error",
     "traceback": [
      "\u001b[1;31m---------------------------------------------------------------------------\u001b[0m",
      "\u001b[1;31mKeyboardInterrupt\u001b[0m                         Traceback (most recent call last)",
      "\u001b[1;32m<ipython-input-11-d32b23b54e3c>\u001b[0m in \u001b[0;36m<module>\u001b[1;34m()\u001b[0m\n\u001b[0;32m      2\u001b[0m     \u001b[0mbuf_size\u001b[0m \u001b[1;33m=\u001b[0m \u001b[1;36m1\u001b[0m \u001b[1;31m# flush each line\u001b[0m\u001b[1;33m\u001b[0m\u001b[0m\n\u001b[0;32m      3\u001b[0m     \u001b[0mfout\u001b[0m \u001b[1;33m=\u001b[0m \u001b[0mopen\u001b[0m\u001b[1;33m(\u001b[0m\u001b[0mosp\u001b[0m\u001b[1;33m.\u001b[0m\u001b[0mjoin\u001b[0m\u001b[1;33m(\u001b[0m\u001b[0mconf\u001b[0m\u001b[1;33m.\u001b[0m\u001b[0mtrain_dir\u001b[0m\u001b[1;33m,\u001b[0m \u001b[1;34m'train_stats.txt'\u001b[0m\u001b[1;33m)\u001b[0m\u001b[1;33m,\u001b[0m \u001b[1;34m'a'\u001b[0m\u001b[1;33m,\u001b[0m \u001b[0mbuf_size\u001b[0m\u001b[1;33m)\u001b[0m\u001b[1;33m\u001b[0m\u001b[0m\n\u001b[1;32m----> 4\u001b[1;33m     \u001b[0mtrain_stats\u001b[0m \u001b[1;33m=\u001b[0m \u001b[0mae\u001b[0m\u001b[1;33m.\u001b[0m\u001b[0mtrain\u001b[0m\u001b[1;33m(\u001b[0m\u001b[0mtrain_data\u001b[0m\u001b[1;33m,\u001b[0m \u001b[0mconf\u001b[0m\u001b[1;33m,\u001b[0m \u001b[0mlog_file\u001b[0m\u001b[1;33m=\u001b[0m\u001b[0mfout\u001b[0m\u001b[1;33m)\u001b[0m\u001b[1;33m\u001b[0m\u001b[0m\n\u001b[0m\u001b[0;32m      5\u001b[0m     \u001b[0mfout\u001b[0m\u001b[1;33m.\u001b[0m\u001b[0mclose\u001b[0m\u001b[1;33m(\u001b[0m\u001b[1;33m)\u001b[0m\u001b[1;33m\u001b[0m\u001b[0m\n",
      "\u001b[1;32m/orions4-zfs/projects/optas/Git_Repos/tf_lab/point_clouds/autoencoder.pyc\u001b[0m in \u001b[0;36mtrain\u001b[1;34m(self, train_data, configuration, log_file, held_out_data)\u001b[0m\n\u001b[0;32m    187\u001b[0m             \u001b[0mepoch\u001b[0m \u001b[1;33m=\u001b[0m \u001b[0mint\u001b[0m\u001b[1;33m(\u001b[0m\u001b[0mself\u001b[0m\u001b[1;33m.\u001b[0m\u001b[0msess\u001b[0m\u001b[1;33m.\u001b[0m\u001b[0mrun\u001b[0m\u001b[1;33m(\u001b[0m\u001b[0mself\u001b[0m\u001b[1;33m.\u001b[0m\u001b[0mepoch\u001b[0m\u001b[1;33m.\u001b[0m\u001b[0massign_add\u001b[0m\u001b[1;33m(\u001b[0m\u001b[0mtf\u001b[0m\u001b[1;33m.\u001b[0m\u001b[0mconstant\u001b[0m\u001b[1;33m(\u001b[0m\u001b[1;36m1.0\u001b[0m\u001b[1;33m)\u001b[0m\u001b[1;33m)\u001b[0m\u001b[1;33m)\u001b[0m\u001b[1;33m)\u001b[0m\u001b[1;33m\u001b[0m\u001b[0m\n\u001b[0;32m    188\u001b[0m             \u001b[0mstats\u001b[0m\u001b[1;33m.\u001b[0m\u001b[0mappend\u001b[0m\u001b[1;33m(\u001b[0m\u001b[1;33m(\u001b[0m\u001b[0mepoch\u001b[0m\u001b[1;33m,\u001b[0m \u001b[0mloss\u001b[0m\u001b[1;33m,\u001b[0m \u001b[0mduration\u001b[0m\u001b[1;33m)\u001b[0m\u001b[1;33m)\u001b[0m\u001b[1;33m\u001b[0m\u001b[0m\n\u001b[1;32m--> 189\u001b[1;33m \u001b[1;33m\u001b[0m\u001b[0m\n\u001b[0m\u001b[0;32m    190\u001b[0m             \u001b[1;32mif\u001b[0m \u001b[0mepoch\u001b[0m \u001b[1;33m%\u001b[0m \u001b[0mc\u001b[0m\u001b[1;33m.\u001b[0m\u001b[0mloss_display_step\u001b[0m \u001b[1;33m==\u001b[0m \u001b[1;36m0\u001b[0m\u001b[1;33m:\u001b[0m\u001b[1;33m\u001b[0m\u001b[0m\n\u001b[0;32m    191\u001b[0m                 \u001b[1;32mprint\u001b[0m\u001b[1;33m(\u001b[0m\u001b[1;34m\"Epoch:\"\u001b[0m\u001b[1;33m,\u001b[0m \u001b[1;34m'%04d'\u001b[0m \u001b[1;33m%\u001b[0m \u001b[1;33m(\u001b[0m\u001b[0mepoch\u001b[0m\u001b[1;33m)\u001b[0m\u001b[1;33m,\u001b[0m \u001b[1;34m'training time (minutes)='\u001b[0m\u001b[1;33m,\u001b[0m \u001b[1;34m\"{:.4f}\"\u001b[0m\u001b[1;33m.\u001b[0m\u001b[0mformat\u001b[0m\u001b[1;33m(\u001b[0m\u001b[0mduration\u001b[0m \u001b[1;33m/\u001b[0m \u001b[1;36m60.0\u001b[0m\u001b[1;33m)\u001b[0m\u001b[1;33m,\u001b[0m \u001b[1;34m\"loss=\"\u001b[0m\u001b[1;33m,\u001b[0m \u001b[1;34m\"{:.9f}\"\u001b[0m\u001b[1;33m.\u001b[0m\u001b[0mformat\u001b[0m\u001b[1;33m(\u001b[0m\u001b[0mloss\u001b[0m\u001b[1;33m)\u001b[0m\u001b[1;33m)\u001b[0m\u001b[1;33m\u001b[0m\u001b[0m\n",
      "\u001b[1;32m/orions4-zfs/projects/optas/Git_Repos/tf_lab/point_clouds/point_net_ae.pyc\u001b[0m in \u001b[0;36m_single_epoch_train\u001b[1;34m(self, train_data, configuration, only_fw)\u001b[0m\n\u001b[0;32m    147\u001b[0m             \u001b[0mepoch_loss\u001b[0m \u001b[1;33m+=\u001b[0m \u001b[0mloss\u001b[0m\u001b[1;33m\u001b[0m\u001b[0m\n\u001b[0;32m    148\u001b[0m         \u001b[0mepoch_loss\u001b[0m \u001b[1;33m/=\u001b[0m \u001b[0mn_batches\u001b[0m\u001b[1;33m\u001b[0m\u001b[0m\n\u001b[1;32m--> 149\u001b[1;33m         \u001b[0mduration\u001b[0m \u001b[1;33m=\u001b[0m \u001b[0mtime\u001b[0m\u001b[1;33m.\u001b[0m\u001b[0mtime\u001b[0m\u001b[1;33m(\u001b[0m\u001b[1;33m)\u001b[0m \u001b[1;33m-\u001b[0m \u001b[0mstart_time\u001b[0m\u001b[1;33m\u001b[0m\u001b[0m\n\u001b[0m\u001b[0;32m    150\u001b[0m         \u001b[1;32mreturn\u001b[0m \u001b[0mepoch_loss\u001b[0m\u001b[1;33m,\u001b[0m \u001b[0mduration\u001b[0m\u001b[1;33m\u001b[0m\u001b[0m\n\u001b[0;32m    151\u001b[0m \u001b[1;33m\u001b[0m\u001b[0m\n",
      "\u001b[1;32m/orions4-zfs/projects/optas/Git_Repos/tf_lab/point_clouds/autoencoder.pyc\u001b[0m in \u001b[0;36mpartial_fit\u001b[1;34m(self, X, GT)\u001b[0m\n\u001b[0;32m    135\u001b[0m \u001b[1;33m\u001b[0m\u001b[0m\n\u001b[0;32m    136\u001b[0m             \u001b[0mis_training\u001b[0m\u001b[1;33m(\u001b[0m\u001b[0mFalse\u001b[0m\u001b[1;33m,\u001b[0m \u001b[0msession\u001b[0m\u001b[1;33m=\u001b[0m\u001b[0mself\u001b[0m\u001b[1;33m.\u001b[0m\u001b[0msess\u001b[0m\u001b[1;33m)\u001b[0m\u001b[1;33m\u001b[0m\u001b[0m\n\u001b[1;32m--> 137\u001b[1;33m         \u001b[1;32mexcept\u001b[0m \u001b[0mException\u001b[0m\u001b[1;33m:\u001b[0m\u001b[1;33m\u001b[0m\u001b[0m\n\u001b[0m\u001b[0;32m    138\u001b[0m             \u001b[1;32mraise\u001b[0m\u001b[1;33m\u001b[0m\u001b[0m\n\u001b[0;32m    139\u001b[0m         \u001b[1;32mfinally\u001b[0m\u001b[1;33m:\u001b[0m\u001b[1;33m\u001b[0m\u001b[0m\n",
      "\u001b[1;32m/usr/local/lib/python2.7/dist-packages/tensorflow/python/client/session.pyc\u001b[0m in \u001b[0;36mrun\u001b[1;34m(self, fetches, feed_dict, options, run_metadata)\u001b[0m\n\u001b[0;32m    764\u001b[0m     \u001b[1;32mtry\u001b[0m\u001b[1;33m:\u001b[0m\u001b[1;33m\u001b[0m\u001b[0m\n\u001b[0;32m    765\u001b[0m       result = self._run(None, fetches, feed_dict, options_ptr,\n\u001b[1;32m--> 766\u001b[1;33m                          run_metadata_ptr)\n\u001b[0m\u001b[0;32m    767\u001b[0m       \u001b[1;32mif\u001b[0m \u001b[0mrun_metadata\u001b[0m\u001b[1;33m:\u001b[0m\u001b[1;33m\u001b[0m\u001b[0m\n\u001b[0;32m    768\u001b[0m         \u001b[0mproto_data\u001b[0m \u001b[1;33m=\u001b[0m \u001b[0mtf_session\u001b[0m\u001b[1;33m.\u001b[0m\u001b[0mTF_GetBuffer\u001b[0m\u001b[1;33m(\u001b[0m\u001b[0mrun_metadata_ptr\u001b[0m\u001b[1;33m)\u001b[0m\u001b[1;33m\u001b[0m\u001b[0m\n",
      "\u001b[1;32m/usr/local/lib/python2.7/dist-packages/tensorflow/python/client/session.pyc\u001b[0m in \u001b[0;36m_run\u001b[1;34m(self, handle, fetches, feed_dict, options, run_metadata)\u001b[0m\n\u001b[0;32m    962\u001b[0m     \u001b[1;32mif\u001b[0m \u001b[0mfinal_fetches\u001b[0m \u001b[1;32mor\u001b[0m \u001b[0mfinal_targets\u001b[0m\u001b[1;33m:\u001b[0m\u001b[1;33m\u001b[0m\u001b[0m\n\u001b[0;32m    963\u001b[0m       results = self._do_run(handle, final_targets, final_fetches,\n\u001b[1;32m--> 964\u001b[1;33m                              feed_dict_string, options, run_metadata)\n\u001b[0m\u001b[0;32m    965\u001b[0m     \u001b[1;32melse\u001b[0m\u001b[1;33m:\u001b[0m\u001b[1;33m\u001b[0m\u001b[0m\n\u001b[0;32m    966\u001b[0m       \u001b[0mresults\u001b[0m \u001b[1;33m=\u001b[0m \u001b[1;33m[\u001b[0m\u001b[1;33m]\u001b[0m\u001b[1;33m\u001b[0m\u001b[0m\n",
      "\u001b[1;32m/usr/local/lib/python2.7/dist-packages/tensorflow/python/client/session.pyc\u001b[0m in \u001b[0;36m_do_run\u001b[1;34m(self, handle, target_list, fetch_list, feed_dict, options, run_metadata)\u001b[0m\n\u001b[0;32m   1012\u001b[0m     \u001b[1;32mif\u001b[0m \u001b[0mhandle\u001b[0m \u001b[1;32mis\u001b[0m \u001b[0mNone\u001b[0m\u001b[1;33m:\u001b[0m\u001b[1;33m\u001b[0m\u001b[0m\n\u001b[0;32m   1013\u001b[0m       return self._do_call(_run_fn, self._session, feed_dict, fetch_list,\n\u001b[1;32m-> 1014\u001b[1;33m                            target_list, options, run_metadata)\n\u001b[0m\u001b[0;32m   1015\u001b[0m     \u001b[1;32melse\u001b[0m\u001b[1;33m:\u001b[0m\u001b[1;33m\u001b[0m\u001b[0m\n\u001b[0;32m   1016\u001b[0m       return self._do_call(_prun_fn, self._session, handle, feed_dict,\n",
      "\u001b[1;32m/usr/local/lib/python2.7/dist-packages/tensorflow/python/client/session.pyc\u001b[0m in \u001b[0;36m_do_call\u001b[1;34m(self, fn, *args)\u001b[0m\n\u001b[0;32m   1019\u001b[0m   \u001b[1;32mdef\u001b[0m \u001b[0m_do_call\u001b[0m\u001b[1;33m(\u001b[0m\u001b[0mself\u001b[0m\u001b[1;33m,\u001b[0m \u001b[0mfn\u001b[0m\u001b[1;33m,\u001b[0m \u001b[1;33m*\u001b[0m\u001b[0margs\u001b[0m\u001b[1;33m)\u001b[0m\u001b[1;33m:\u001b[0m\u001b[1;33m\u001b[0m\u001b[0m\n\u001b[0;32m   1020\u001b[0m     \u001b[1;32mtry\u001b[0m\u001b[1;33m:\u001b[0m\u001b[1;33m\u001b[0m\u001b[0m\n\u001b[1;32m-> 1021\u001b[1;33m       \u001b[1;32mreturn\u001b[0m \u001b[0mfn\u001b[0m\u001b[1;33m(\u001b[0m\u001b[1;33m*\u001b[0m\u001b[0margs\u001b[0m\u001b[1;33m)\u001b[0m\u001b[1;33m\u001b[0m\u001b[0m\n\u001b[0m\u001b[0;32m   1022\u001b[0m     \u001b[1;32mexcept\u001b[0m \u001b[0merrors\u001b[0m\u001b[1;33m.\u001b[0m\u001b[0mOpError\u001b[0m \u001b[1;32mas\u001b[0m \u001b[0me\u001b[0m\u001b[1;33m:\u001b[0m\u001b[1;33m\u001b[0m\u001b[0m\n\u001b[0;32m   1023\u001b[0m       \u001b[0mmessage\u001b[0m \u001b[1;33m=\u001b[0m \u001b[0mcompat\u001b[0m\u001b[1;33m.\u001b[0m\u001b[0mas_text\u001b[0m\u001b[1;33m(\u001b[0m\u001b[0me\u001b[0m\u001b[1;33m.\u001b[0m\u001b[0mmessage\u001b[0m\u001b[1;33m)\u001b[0m\u001b[1;33m\u001b[0m\u001b[0m\n",
      "\u001b[1;32m/usr/local/lib/python2.7/dist-packages/tensorflow/python/client/session.pyc\u001b[0m in \u001b[0;36m_run_fn\u001b[1;34m(session, feed_dict, fetch_list, target_list, options, run_metadata)\u001b[0m\n\u001b[0;32m   1001\u001b[0m         return tf_session.TF_Run(session, options,\n\u001b[0;32m   1002\u001b[0m                                  \u001b[0mfeed_dict\u001b[0m\u001b[1;33m,\u001b[0m \u001b[0mfetch_list\u001b[0m\u001b[1;33m,\u001b[0m \u001b[0mtarget_list\u001b[0m\u001b[1;33m,\u001b[0m\u001b[1;33m\u001b[0m\u001b[0m\n\u001b[1;32m-> 1003\u001b[1;33m                                  status, run_metadata)\n\u001b[0m\u001b[0;32m   1004\u001b[0m \u001b[1;33m\u001b[0m\u001b[0m\n\u001b[0;32m   1005\u001b[0m     \u001b[1;32mdef\u001b[0m \u001b[0m_prun_fn\u001b[0m\u001b[1;33m(\u001b[0m\u001b[0msession\u001b[0m\u001b[1;33m,\u001b[0m \u001b[0mhandle\u001b[0m\u001b[1;33m,\u001b[0m \u001b[0mfeed_dict\u001b[0m\u001b[1;33m,\u001b[0m \u001b[0mfetch_list\u001b[0m\u001b[1;33m)\u001b[0m\u001b[1;33m:\u001b[0m\u001b[1;33m\u001b[0m\u001b[0m\n",
      "\u001b[1;31mKeyboardInterrupt\u001b[0m: "
     ]
    }
   ],
   "source": [
    "if do_training:\n",
    "    buf_size = 1 # flush each line\n",
    "    fout = open(osp.join(conf.train_dir, 'train_stats.txt'), 'a', buf_size)    \n",
    "    train_stats = ae.train(train_data, conf, log_file=fout)\n",
    "    fout.close()"
   ]
  }
 ],
 "metadata": {
  "kernelspec": {
   "display_name": "Python 2",
   "language": "python",
   "name": "python2"
  },
  "language_info": {
   "codemirror_mode": {
    "name": "ipython",
    "version": 2
   },
   "file_extension": ".py",
   "mimetype": "text/x-python",
   "name": "python",
   "nbconvert_exporter": "python",
   "pygments_lexer": "ipython2",
   "version": "2.7.6"
  }
 },
 "nbformat": 4,
 "nbformat_minor": 0
}
