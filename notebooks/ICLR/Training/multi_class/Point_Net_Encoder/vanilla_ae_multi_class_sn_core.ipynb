{
 "cells": [
  {
   "cell_type": "code",
   "execution_count": 1,
   "metadata": {
    "collapsed": false,
    "deletable": true,
    "editable": true
   },
   "outputs": [
    {
     "name": "stdout",
     "output_type": "stream",
     "text": [
      "Picking GPU 3\n"
     ]
    }
   ],
   "source": [
    "from general_tools.notebook.gpu_utils import setup_one_gpu\n",
    "GPU = 3\n",
    "setup_one_gpu(GPU)"
   ]
  },
  {
   "cell_type": "code",
   "execution_count": 2,
   "metadata": {
    "collapsed": false,
    "deletable": true,
    "editable": true
   },
   "outputs": [],
   "source": [
    "import sys\n",
    "import time\n",
    "import numpy as np\n",
    "import os.path as osp\n",
    "import tensorflow as tf\n",
    "import matplotlib.pyplot as plt\n",
    "\n",
    "from general_tools.notebook.tf import reset_tf_graph\n",
    "from general_tools.in_out import create_dir\n",
    "from general_tools.in_out.basics import create_dir, delete_files_in_directory, files_in_subdirs\n",
    "\n",
    "from geo_tool import Point_Cloud\n",
    "\n",
    "from tf_lab.in_out.basics import Data_Splitter, read_saved_epochs\n",
    "\n",
    "from tf_lab.point_clouds.encoders_decoders import encoder_with_convs_and_symmetry_new, decoder_with_fc_only\n",
    "from tf_lab.point_clouds.point_net_ae import PointNetAutoEncoder\n",
    "from tf_lab.point_clouds.autoencoder import Configuration as Conf\n",
    "from tf_lab.point_clouds.in_out import load_point_clouds_from_filenames, PointCloudDataSet\n",
    "from tf_lab.data_sets.shape_net import pc_loader as snc_loader\n",
    "from tf_lab.data_sets.shape_net import snc_category_to_synth_id"
   ]
  },
  {
   "cell_type": "code",
   "execution_count": 3,
   "metadata": {
    "collapsed": false,
    "deletable": true,
    "editable": true
   },
   "outputs": [],
   "source": [
    "%load_ext autoreload\n",
    "%autoreload 2\n",
    "%matplotlib inline"
   ]
  },
  {
   "cell_type": "code",
   "execution_count": 4,
   "metadata": {
    "collapsed": true,
    "deletable": true,
    "editable": true
   },
   "outputs": [],
   "source": [
    "n_pc_samples = 2048\n",
    "do_training = True\n",
    "first_time_running = True\n",
    "load_model = False\n",
    "seed = 42\n",
    "max_training_epochs = 2000\n",
    "loss = 'chamfer'\n",
    "z_rotate = True\n",
    "experiment_name = 'all_snc_rotated_mlp_arch_with_bnorm_on_encoder_3_pc' + str(n_pc_samples) +  'pts_' + loss"
   ]
  },
  {
   "cell_type": "code",
   "execution_count": 5,
   "metadata": {
    "collapsed": false,
    "deletable": true,
    "editable": true
   },
   "outputs": [
    {
     "data": {
      "text/plain": [
       "'/orions4-zfs/projects/optas/DATA/OUT/iclr/nn_models/all_snc/all_snc_rotated_mlp_arch_with_bnorm_on_encoder_3_pc2048pts_chamfer'"
      ]
     },
     "execution_count": 5,
     "metadata": {},
     "output_type": "execute_result"
    }
   ],
   "source": [
    "top_data_dir = '/orions4-zfs/projects/optas/DATA/'\n",
    "train_dir = osp.join(top_data_dir, 'OUT/iclr/nn_models/all_snc', experiment_name)\n",
    "create_dir(train_dir)"
   ]
  },
  {
   "cell_type": "code",
   "execution_count": 6,
   "metadata": {
    "collapsed": false,
    "deletable": true,
    "editable": true,
    "scrolled": true
   },
   "outputs": [
    {
     "name": "stderr",
     "output_type": "stream",
     "text": [
      "/orions4-zfs/projects/optas/Git_Repos/tf_lab/point_clouds/in_out.py:38: UserWarning: Point clouds with the same model name were loaded.\n",
      "  warnings.warn('Point clouds with the same model name were loaded.')\n"
     ]
    },
    {
     "name": "stdout",
     "output_type": "stream",
     "text": [
      "57449 pclouds were loaded. They belong in 57 shape-classes.\n",
      "57449 pclouds were loaded. They belong in 57 shape-classes.\n",
      "57449 pclouds were loaded. They belong in 57 shape-classes.\n"
     ]
    }
   ],
   "source": [
    "n_threads = 32\n",
    "verbose = True\n",
    "pc_versions = ['centered', 'centered_3rd_version', 'centered_2nd_version']\n",
    "pclouds = []\n",
    "for version in pc_versions:\n",
    "    full_pclouds_path = osp.join(top_data_dir, 'Point_Clouds/Shape_Net/Core/from_manifold_meshes/', version, str(n_pc_samples))\n",
    "    full_file_names = [f for f in files_in_subdirs(full_pclouds_path, '.ply')]\n",
    "    pclouds_v, _, _ = load_point_clouds_from_filenames(full_file_names, n_threads, snc_loader, verbose)\n",
    "    pclouds.append(pclouds_v)"
   ]
  },
  {
   "cell_type": "code",
   "execution_count": 7,
   "metadata": {
    "collapsed": false
   },
   "outputs": [
    {
     "name": "stdout",
     "output_type": "stream",
     "text": [
      "172347\n"
     ]
    }
   ],
   "source": [
    "train_data = PointCloudDataSet(np.vstack(pclouds))\n",
    "print train_data.num_examples"
   ]
  },
  {
   "cell_type": "code",
   "execution_count": 8,
   "metadata": {
    "collapsed": false,
    "deletable": true,
    "editable": true
   },
   "outputs": [],
   "source": [
    "n_input = [n_pc_samples, 3]\n",
    "\n",
    "encoder_args = {'n_filters': [128, 128, 256, 512],\n",
    "                'filter_sizes': [1, 1, 1, 1],\n",
    "                'strides': [1, 1, 1, 1],\n",
    "                'b_norm': True\n",
    "               }\n",
    "\n",
    "decoder_args = {'layer_sizes': [1024, 2048, np.prod(n_input)],\n",
    "                'b_norm': False\n",
    "               }\n",
    "\n",
    "if load_model:\n",
    "    conf = Conf.load(osp.join(train_dir, 'configuration'))\n",
    "    print conf\n",
    "    \n",
    "else:    \n",
    "    conf = Conf(\n",
    "                n_input = n_input,\n",
    "                training_epochs = max_training_epochs,\n",
    "                batch_size = 50,\n",
    "                loss = loss,\n",
    "                denoising = False,\n",
    "                train_dir = train_dir,\n",
    "                loss_display_step = 1,\n",
    "                saver_step = 10,\n",
    "                learning_rate = 0.0005,\n",
    "                z_rotate = z_rotate,\n",
    "                encoder = encoder_with_convs_and_symmetry_new,\n",
    "                encoder_args = encoder_args,\n",
    "                decoder = decoder_with_fc_only,\n",
    "                decoder_args = decoder_args,            \n",
    "               )\n",
    "    conf.allow_gpu_growth = False\n",
    "    conf.experiment_name = experiment_name\n",
    "    conf.save(osp.join(conf.train_dir, 'configuration'))"
   ]
  },
  {
   "cell_type": "code",
   "execution_count": null,
   "metadata": {
    "collapsed": false
   },
   "outputs": [],
   "source": [
    "reset_tf_graph()\n",
    "ae = PointNetAutoEncoder(experiment_name, conf)\n",
    "\n",
    "if load_model:\n",
    "    saved_epochs = read_saved_epochs(conf.train_dir)\n",
    "    last_epoch = saved_epochs[-1]\n",
    "    ae.restore_model(conf.train_dir, last_epoch, verbose=True)"
   ]
  },
  {
   "cell_type": "code",
   "execution_count": null,
   "metadata": {
    "collapsed": false,
    "deletable": true,
    "editable": true
   },
   "outputs": [
    {
     "name": "stdout",
     "output_type": "stream",
     "text": [
      "('Epoch:', '0001', 'training time (minutes)=', '5.5405', 'loss=', '0.002035031')\n",
      "INFO:tensorflow:/orions4-zfs/projects/optas/DATA/OUT/iclr/nn_models/all_snc/all_snc_rotated_mlp_arch_with_bnorm_on_encoder_3_pc2048pts_chamfer/models.ckpt-1 is not in all_model_checkpoint_paths. Manually adding it.\n",
      "('Epoch:', '0002', 'training time (minutes)=', '5.7426', 'loss=', '0.001192927')\n",
      "('Epoch:', '0003', 'training time (minutes)=', '5.8114', 'loss=', '0.001033815')\n",
      "('Epoch:', '0004', 'training time (minutes)=', '5.8085', 'loss=', '0.000942142')\n",
      "('Epoch:', '0005', 'training time (minutes)=', '5.7448', 'loss=', '0.000884770')\n",
      "('Epoch:', '0006', 'training time (minutes)=', '5.8450', 'loss=', '0.000839393')\n",
      "('Epoch:', '0007', 'training time (minutes)=', '5.8237', 'loss=', '0.000806825')\n",
      "('Epoch:', '0008', 'training time (minutes)=', '5.8261', 'loss=', '0.000782662')\n",
      "('Epoch:', '0009', 'training time (minutes)=', '5.7616', 'loss=', '0.000750300')\n",
      "('Epoch:', '0010', 'training time (minutes)=', '5.8615', 'loss=', '0.000730091')\n",
      "INFO:tensorflow:/orions4-zfs/projects/optas/DATA/OUT/iclr/nn_models/all_snc/all_snc_rotated_mlp_arch_with_bnorm_on_encoder_3_pc2048pts_chamfer/models.ckpt-10 is not in all_model_checkpoint_paths. Manually adding it.\n",
      "('Epoch:', '0011', 'training time (minutes)=', '5.8240', 'loss=', '0.000718647')\n",
      "('Epoch:', '0012', 'training time (minutes)=', '5.7964', 'loss=', '0.000696437')\n",
      "('Epoch:', '0013', 'training time (minutes)=', '5.7715', 'loss=', '0.000682121')\n",
      "('Epoch:', '0014', 'training time (minutes)=', '5.8230', 'loss=', '0.000666720')\n",
      "('Epoch:', '0015', 'training time (minutes)=', '7.7387', 'loss=', '0.000660483')\n",
      "('Epoch:', '0016', 'training time (minutes)=', '8.3663', 'loss=', '0.000652712')\n",
      "('Epoch:', '0017', 'training time (minutes)=', '6.4029', 'loss=', '0.000643634')\n",
      "('Epoch:', '0018', 'training time (minutes)=', '5.8192', 'loss=', '0.000630266')\n",
      "('Epoch:', '0019', 'training time (minutes)=', '5.7856', 'loss=', '0.000626017')\n",
      "('Epoch:', '0020', 'training time (minutes)=', '5.7888', 'loss=', '0.000625010')\n",
      "INFO:tensorflow:/orions4-zfs/projects/optas/DATA/OUT/iclr/nn_models/all_snc/all_snc_rotated_mlp_arch_with_bnorm_on_encoder_3_pc2048pts_chamfer/models.ckpt-20 is not in all_model_checkpoint_paths. Manually adding it.\n",
      "('Epoch:', '0021', 'training time (minutes)=', '5.8511', 'loss=', '0.000617831')\n",
      "('Epoch:', '0022', 'training time (minutes)=', '5.8452', 'loss=', '0.000607058')\n",
      "('Epoch:', '0023', 'training time (minutes)=', '5.8364', 'loss=', '0.000606874')\n",
      "('Epoch:', '0024', 'training time (minutes)=', '5.8356', 'loss=', '0.000600795')\n",
      "('Epoch:', '0025', 'training time (minutes)=', '5.8240', 'loss=', '0.000594209')\n",
      "('Epoch:', '0026', 'training time (minutes)=', '5.8715', 'loss=', '0.000587756')\n",
      "('Epoch:', '0027', 'training time (minutes)=', '5.8177', 'loss=', '0.000588533')\n",
      "('Epoch:', '0028', 'training time (minutes)=', '5.8096', 'loss=', '0.000590525')\n",
      "('Epoch:', '0029', 'training time (minutes)=', '5.8612', 'loss=', '0.000584336')\n",
      "('Epoch:', '0030', 'training time (minutes)=', '5.8355', 'loss=', '0.000587404')\n",
      "INFO:tensorflow:/orions4-zfs/projects/optas/DATA/OUT/iclr/nn_models/all_snc/all_snc_rotated_mlp_arch_with_bnorm_on_encoder_3_pc2048pts_chamfer/models.ckpt-30 is not in all_model_checkpoint_paths. Manually adding it.\n",
      "('Epoch:', '0031', 'training time (minutes)=', '5.8066', 'loss=', '0.000575474')\n",
      "('Epoch:', '0032', 'training time (minutes)=', '5.6518', 'loss=', '0.000585264')\n",
      "('Epoch:', '0033', 'training time (minutes)=', '10.0765', 'loss=', '0.000571685')\n",
      "('Epoch:', '0034', 'training time (minutes)=', '9.0952', 'loss=', '0.000571368')\n",
      "('Epoch:', '0035', 'training time (minutes)=', '10.8078', 'loss=', '0.000576704')\n",
      "('Epoch:', '0036', 'training time (minutes)=', '11.8671', 'loss=', '0.000567637')\n",
      "('Epoch:', '0037', 'training time (minutes)=', '10.0106', 'loss=', '0.000571560')\n",
      "('Epoch:', '0038', 'training time (minutes)=', '8.7790', 'loss=', '0.000559625')\n",
      "('Epoch:', '0039', 'training time (minutes)=', '8.8003', 'loss=', '0.000562738')\n",
      "('Epoch:', '0040', 'training time (minutes)=', '14.0113', 'loss=', '0.000560254')\n",
      "INFO:tensorflow:/orions4-zfs/projects/optas/DATA/OUT/iclr/nn_models/all_snc/all_snc_rotated_mlp_arch_with_bnorm_on_encoder_3_pc2048pts_chamfer/models.ckpt-40 is not in all_model_checkpoint_paths. Manually adding it.\n",
      "('Epoch:', '0041', 'training time (minutes)=', '8.8302', 'loss=', '0.000560252')\n",
      "('Epoch:', '0042', 'training time (minutes)=', '10.3526', 'loss=', '0.000557382')\n",
      "('Epoch:', '0043', 'training time (minutes)=', '9.4111', 'loss=', '0.000555452')\n",
      "('Epoch:', '0044', 'training time (minutes)=', '8.2836', 'loss=', '0.000558962')\n",
      "('Epoch:', '0045', 'training time (minutes)=', '10.2089', 'loss=', '0.000560246')\n",
      "('Epoch:', '0046', 'training time (minutes)=', '8.2122', 'loss=', '0.000556585')\n",
      "('Epoch:', '0047', 'training time (minutes)=', '5.7856', 'loss=', '0.000555036')\n",
      "('Epoch:', '0048', 'training time (minutes)=', '5.7993', 'loss=', '0.000548720')\n",
      "('Epoch:', '0049', 'training time (minutes)=', '5.7842', 'loss=', '0.000551855')\n",
      "('Epoch:', '0050', 'training time (minutes)=', '5.7989', 'loss=', '0.000546347')\n",
      "INFO:tensorflow:/orions4-zfs/projects/optas/DATA/OUT/iclr/nn_models/all_snc/all_snc_rotated_mlp_arch_with_bnorm_on_encoder_3_pc2048pts_chamfer/models.ckpt-50 is not in all_model_checkpoint_paths. Manually adding it.\n",
      "('Epoch:', '0051', 'training time (minutes)=', '5.8414', 'loss=', '0.000543768')\n",
      "('Epoch:', '0052', 'training time (minutes)=', '5.8307', 'loss=', '0.000549048')\n",
      "('Epoch:', '0053', 'training time (minutes)=', '5.8069', 'loss=', '0.000544878')\n",
      "('Epoch:', '0054', 'training time (minutes)=', '5.8450', 'loss=', '0.000549577')\n",
      "('Epoch:', '0055', 'training time (minutes)=', '5.8771', 'loss=', '0.000542598')\n",
      "('Epoch:', '0056', 'training time (minutes)=', '5.8282', 'loss=', '0.000542463')\n",
      "('Epoch:', '0057', 'training time (minutes)=', '5.8593', 'loss=', '0.000544020')\n",
      "('Epoch:', '0058', 'training time (minutes)=', '7.4172', 'loss=', '0.000539927')\n",
      "('Epoch:', '0059', 'training time (minutes)=', '12.6782', 'loss=', '0.000536185')\n",
      "('Epoch:', '0060', 'training time (minutes)=', '13.1006', 'loss=', '0.000537692')\n",
      "INFO:tensorflow:/orions4-zfs/projects/optas/DATA/OUT/iclr/nn_models/all_snc/all_snc_rotated_mlp_arch_with_bnorm_on_encoder_3_pc2048pts_chamfer/models.ckpt-60 is not in all_model_checkpoint_paths. Manually adding it.\n",
      "('Epoch:', '0061', 'training time (minutes)=', '9.2478', 'loss=', '0.000536522')\n",
      "('Epoch:', '0062', 'training time (minutes)=', '6.8539', 'loss=', '0.000531441')\n",
      "('Epoch:', '0063', 'training time (minutes)=', '5.3928', 'loss=', '0.000536140')\n",
      "('Epoch:', '0064', 'training time (minutes)=', '9.3519', 'loss=', '0.000533550')\n",
      "('Epoch:', '0065', 'training time (minutes)=', '8.0024', 'loss=', '0.000531245')\n",
      "('Epoch:', '0066', 'training time (minutes)=', '6.6617', 'loss=', '0.000534966')\n",
      "('Epoch:', '0067', 'training time (minutes)=', '5.9658', 'loss=', '0.000533638')\n",
      "('Epoch:', '0068', 'training time (minutes)=', '5.7871', 'loss=', '0.000533027')\n",
      "('Epoch:', '0069', 'training time (minutes)=', '5.9064', 'loss=', '0.000530576')\n",
      "('Epoch:', '0070', 'training time (minutes)=', '8.6903', 'loss=', '0.000535748')\n",
      "INFO:tensorflow:/orions4-zfs/projects/optas/DATA/OUT/iclr/nn_models/all_snc/all_snc_rotated_mlp_arch_with_bnorm_on_encoder_3_pc2048pts_chamfer/models.ckpt-70 is not in all_model_checkpoint_paths. Manually adding it.\n",
      "('Epoch:', '0071', 'training time (minutes)=', '5.8563', 'loss=', '0.000530564')\n",
      "('Epoch:', '0072', 'training time (minutes)=', '5.7361', 'loss=', '0.000527832')\n",
      "('Epoch:', '0073', 'training time (minutes)=', '5.6904', 'loss=', '0.000526966')\n",
      "('Epoch:', '0074', 'training time (minutes)=', '5.7822', 'loss=', '0.000532455')\n",
      "('Epoch:', '0075', 'training time (minutes)=', '5.7386', 'loss=', '0.000525479')\n",
      "('Epoch:', '0076', 'training time (minutes)=', '5.7991', 'loss=', '0.000528934')\n",
      "('Epoch:', '0077', 'training time (minutes)=', '5.7043', 'loss=', '0.000523765')\n",
      "('Epoch:', '0078', 'training time (minutes)=', '5.7470', 'loss=', '0.000523656')\n",
      "('Epoch:', '0079', 'training time (minutes)=', '5.7418', 'loss=', '0.000530160')\n",
      "('Epoch:', '0080', 'training time (minutes)=', '5.6583', 'loss=', '0.000520684')\n",
      "INFO:tensorflow:/orions4-zfs/projects/optas/DATA/OUT/iclr/nn_models/all_snc/all_snc_rotated_mlp_arch_with_bnorm_on_encoder_3_pc2048pts_chamfer/models.ckpt-80 is not in all_model_checkpoint_paths. Manually adding it.\n",
      "('Epoch:', '0081', 'training time (minutes)=', '5.6493', 'loss=', '0.000527781')\n",
      "('Epoch:', '0082', 'training time (minutes)=', '5.6450', 'loss=', '0.000528452')\n",
      "('Epoch:', '0083', 'training time (minutes)=', '5.4232', 'loss=', '0.000518328')\n",
      "('Epoch:', '0084', 'training time (minutes)=', '9.4630', 'loss=', '0.000520111')\n",
      "('Epoch:', '0085', 'training time (minutes)=', '6.1472', 'loss=', '0.000515961')\n",
      "('Epoch:', '0086', 'training time (minutes)=', '7.6121', 'loss=', '0.000522949')\n",
      "('Epoch:', '0087', 'training time (minutes)=', '6.3467', 'loss=', '0.000517878')\n",
      "('Epoch:', '0088', 'training time (minutes)=', '7.6472', 'loss=', '0.000521365')\n",
      "('Epoch:', '0089', 'training time (minutes)=', '6.6517', 'loss=', '0.000515694')\n",
      "('Epoch:', '0090', 'training time (minutes)=', '7.6330', 'loss=', '0.000517655')\n",
      "INFO:tensorflow:/orions4-zfs/projects/optas/DATA/OUT/iclr/nn_models/all_snc/all_snc_rotated_mlp_arch_with_bnorm_on_encoder_3_pc2048pts_chamfer/models.ckpt-90 is not in all_model_checkpoint_paths. Manually adding it.\n",
      "('Epoch:', '0091', 'training time (minutes)=', '6.5159', 'loss=', '0.000518739')\n",
      "('Epoch:', '0092', 'training time (minutes)=', '6.5635', 'loss=', '0.000520526')\n",
      "('Epoch:', '0093', 'training time (minutes)=', '6.0249', 'loss=', '0.000513382')\n",
      "('Epoch:', '0094', 'training time (minutes)=', '5.8823', 'loss=', '0.000516992')\n",
      "('Epoch:', '0095', 'training time (minutes)=', '5.6471', 'loss=', '0.000514735')\n",
      "('Epoch:', '0096', 'training time (minutes)=', '5.6760', 'loss=', '0.000518828')\n",
      "('Epoch:', '0097', 'training time (minutes)=', '5.6778', 'loss=', '0.000514339')\n",
      "('Epoch:', '0098', 'training time (minutes)=', '5.7791', 'loss=', '0.000510626')\n",
      "('Epoch:', '0099', 'training time (minutes)=', '5.8136', 'loss=', '0.000506718')\n",
      "('Epoch:', '0100', 'training time (minutes)=', '5.7920', 'loss=', '0.000507627')\n",
      "INFO:tensorflow:/orions4-zfs/projects/optas/DATA/OUT/iclr/nn_models/all_snc/all_snc_rotated_mlp_arch_with_bnorm_on_encoder_3_pc2048pts_chamfer/models.ckpt-100 is not in all_model_checkpoint_paths. Manually adding it.\n",
      "('Epoch:', '0101', 'training time (minutes)=', '6.1192', 'loss=', '0.000514164')\n",
      "('Epoch:', '0102', 'training time (minutes)=', '5.8554', 'loss=', '0.000512542')\n",
      "('Epoch:', '0103', 'training time (minutes)=', '6.1254', 'loss=', '0.000513389')\n",
      "('Epoch:', '0104', 'training time (minutes)=', '5.8933', 'loss=', '0.000508556')\n",
      "('Epoch:', '0105', 'training time (minutes)=', '5.8942', 'loss=', '0.000512368')\n",
      "('Epoch:', '0106', 'training time (minutes)=', '5.9139', 'loss=', '0.000512021')\n",
      "('Epoch:', '0107', 'training time (minutes)=', '5.8328', 'loss=', '0.000508322')\n",
      "('Epoch:', '0108', 'training time (minutes)=', '5.8288', 'loss=', '0.000511223')\n",
      "('Epoch:', '0109', 'training time (minutes)=', '5.7871', 'loss=', '0.000516427')\n",
      "('Epoch:', '0110', 'training time (minutes)=', '5.9531', 'loss=', '0.000513920')\n",
      "INFO:tensorflow:/orions4-zfs/projects/optas/DATA/OUT/iclr/nn_models/all_snc/all_snc_rotated_mlp_arch_with_bnorm_on_encoder_3_pc2048pts_chamfer/models.ckpt-110 is not in all_model_checkpoint_paths. Manually adding it.\n",
      "('Epoch:', '0111', 'training time (minutes)=', '5.7533', 'loss=', '0.000505544')\n",
      "('Epoch:', '0112', 'training time (minutes)=', '5.7631', 'loss=', '0.000507162')\n",
      "('Epoch:', '0113', 'training time (minutes)=', '5.6945', 'loss=', '0.000508019')\n",
      "('Epoch:', '0114', 'training time (minutes)=', '5.7569', 'loss=', '0.000511145')\n",
      "('Epoch:', '0115', 'training time (minutes)=', '5.7636', 'loss=', '0.000508307')\n",
      "('Epoch:', '0116', 'training time (minutes)=', '6.3499', 'loss=', '0.000506067')\n",
      "('Epoch:', '0117', 'training time (minutes)=', '5.9511', 'loss=', '0.000509720')\n",
      "('Epoch:', '0118', 'training time (minutes)=', '6.2079', 'loss=', '0.000508336')\n",
      "('Epoch:', '0119', 'training time (minutes)=', '6.2314', 'loss=', '0.000504245')\n",
      "('Epoch:', '0120', 'training time (minutes)=', '5.9322', 'loss=', '0.000508679')\n",
      "INFO:tensorflow:/orions4-zfs/projects/optas/DATA/OUT/iclr/nn_models/all_snc/all_snc_rotated_mlp_arch_with_bnorm_on_encoder_3_pc2048pts_chamfer/models.ckpt-120 is not in all_model_checkpoint_paths. Manually adding it.\n",
      "('Epoch:', '0121', 'training time (minutes)=', '7.1023', 'loss=', '0.000505316')\n",
      "('Epoch:', '0122', 'training time (minutes)=', '6.9057', 'loss=', '0.000506974')\n",
      "('Epoch:', '0123', 'training time (minutes)=', '5.8400', 'loss=', '0.000505266')\n",
      "('Epoch:', '0124', 'training time (minutes)=', '6.1732', 'loss=', '0.000504109')\n",
      "('Epoch:', '0125', 'training time (minutes)=', '6.4450', 'loss=', '0.000508449')\n",
      "('Epoch:', '0126', 'training time (minutes)=', '6.7274', 'loss=', '0.000506012')\n",
      "('Epoch:', '0127', 'training time (minutes)=', '6.4481', 'loss=', '0.000497805')\n",
      "('Epoch:', '0128', 'training time (minutes)=', '6.4859', 'loss=', '0.000500944')\n",
      "('Epoch:', '0129', 'training time (minutes)=', '6.2362', 'loss=', '0.000501620')\n",
      "('Epoch:', '0130', 'training time (minutes)=', '5.8286', 'loss=', '0.000501542')\n",
      "INFO:tensorflow:/orions4-zfs/projects/optas/DATA/OUT/iclr/nn_models/all_snc/all_snc_rotated_mlp_arch_with_bnorm_on_encoder_3_pc2048pts_chamfer/models.ckpt-130 is not in all_model_checkpoint_paths. Manually adding it.\n",
      "('Epoch:', '0131', 'training time (minutes)=', '5.9702', 'loss=', '0.000497302')\n",
      "('Epoch:', '0132', 'training time (minutes)=', '5.9721', 'loss=', '0.000496460')\n",
      "('Epoch:', '0133', 'training time (minutes)=', '6.3546', 'loss=', '0.000504882')\n",
      "('Epoch:', '0134', 'training time (minutes)=', '6.0440', 'loss=', '0.000504331')\n",
      "('Epoch:', '0135', 'training time (minutes)=', '6.0878', 'loss=', '0.000500125')\n",
      "('Epoch:', '0136', 'training time (minutes)=', '6.1826', 'loss=', '0.000499325')\n",
      "('Epoch:', '0137', 'training time (minutes)=', '5.9226', 'loss=', '0.000500047')\n",
      "('Epoch:', '0138', 'training time (minutes)=', '5.8187', 'loss=', '0.000499174')\n",
      "('Epoch:', '0139', 'training time (minutes)=', '5.9000', 'loss=', '0.000503386')\n",
      "('Epoch:', '0140', 'training time (minutes)=', '6.0136', 'loss=', '0.000501357')\n",
      "INFO:tensorflow:/orions4-zfs/projects/optas/DATA/OUT/iclr/nn_models/all_snc/all_snc_rotated_mlp_arch_with_bnorm_on_encoder_3_pc2048pts_chamfer/models.ckpt-140 is not in all_model_checkpoint_paths. Manually adding it.\n",
      "('Epoch:', '0141', 'training time (minutes)=', '6.1619', 'loss=', '0.000501499')\n",
      "('Epoch:', '0142', 'training time (minutes)=', '6.0330', 'loss=', '0.000501323')\n",
      "('Epoch:', '0143', 'training time (minutes)=', '5.7811', 'loss=', '0.000493409')\n",
      "('Epoch:', '0144', 'training time (minutes)=', '5.8203', 'loss=', '0.000499410')\n",
      "('Epoch:', '0145', 'training time (minutes)=', '5.8011', 'loss=', '0.000502494')\n",
      "('Epoch:', '0146', 'training time (minutes)=', '5.8005', 'loss=', '0.000499217')\n",
      "('Epoch:', '0147', 'training time (minutes)=', '5.6635', 'loss=', '0.000493476')\n",
      "('Epoch:', '0148', 'training time (minutes)=', '5.6760', 'loss=', '0.000499944')\n",
      "('Epoch:', '0149', 'training time (minutes)=', '5.6757', 'loss=', '0.000499644')\n",
      "('Epoch:', '0150', 'training time (minutes)=', '5.6343', 'loss=', '0.000496534')\n",
      "INFO:tensorflow:/orions4-zfs/projects/optas/DATA/OUT/iclr/nn_models/all_snc/all_snc_rotated_mlp_arch_with_bnorm_on_encoder_3_pc2048pts_chamfer/models.ckpt-150 is not in all_model_checkpoint_paths. Manually adding it.\n",
      "('Epoch:', '0151', 'training time (minutes)=', '5.7272', 'loss=', '0.000495689')\n",
      "('Epoch:', '0152', 'training time (minutes)=', '6.1929', 'loss=', '0.000498373')\n",
      "('Epoch:', '0153', 'training time (minutes)=', '6.4591', 'loss=', '0.000497209')\n",
      "('Epoch:', '0154', 'training time (minutes)=', '6.3386', 'loss=', '0.000498787')\n",
      "('Epoch:', '0155', 'training time (minutes)=', '5.6388', 'loss=', '0.000497019')\n",
      "('Epoch:', '0156', 'training time (minutes)=', '5.9495', 'loss=', '0.000493597')\n",
      "('Epoch:', '0157', 'training time (minutes)=', '5.8081', 'loss=', '0.000492204')\n",
      "('Epoch:', '0158', 'training time (minutes)=', '6.1657', 'loss=', '0.000499128')\n",
      "('Epoch:', '0159', 'training time (minutes)=', '6.0060', 'loss=', '0.000498203')\n",
      "('Epoch:', '0160', 'training time (minutes)=', '6.1756', 'loss=', '0.000495111')\n",
      "INFO:tensorflow:/orions4-zfs/projects/optas/DATA/OUT/iclr/nn_models/all_snc/all_snc_rotated_mlp_arch_with_bnorm_on_encoder_3_pc2048pts_chamfer/models.ckpt-160 is not in all_model_checkpoint_paths. Manually adding it.\n",
      "('Epoch:', '0161', 'training time (minutes)=', '5.6565', 'loss=', '0.000493544')\n",
      "('Epoch:', '0162', 'training time (minutes)=', '5.7014', 'loss=', '0.000496930')\n",
      "('Epoch:', '0163', 'training time (minutes)=', '5.6869', 'loss=', '0.000498989')\n",
      "('Epoch:', '0164', 'training time (minutes)=', '5.6422', 'loss=', '0.000494140')\n",
      "('Epoch:', '0165', 'training time (minutes)=', '5.6580', 'loss=', '0.000496836')\n",
      "('Epoch:', '0166', 'training time (minutes)=', '5.6538', 'loss=', '0.000494600')\n",
      "('Epoch:', '0167', 'training time (minutes)=', '5.6490', 'loss=', '0.000493127')\n",
      "('Epoch:', '0168', 'training time (minutes)=', '5.6675', 'loss=', '0.000494839')\n",
      "('Epoch:', '0169', 'training time (minutes)=', '5.7095', 'loss=', '0.000490818')\n",
      "('Epoch:', '0170', 'training time (minutes)=', '5.6628', 'loss=', '0.000489665')\n",
      "INFO:tensorflow:/orions4-zfs/projects/optas/DATA/OUT/iclr/nn_models/all_snc/all_snc_rotated_mlp_arch_with_bnorm_on_encoder_3_pc2048pts_chamfer/models.ckpt-170 is not in all_model_checkpoint_paths. Manually adding it.\n",
      "('Epoch:', '0171', 'training time (minutes)=', '5.6432', 'loss=', '0.000496584')\n",
      "('Epoch:', '0172', 'training time (minutes)=', '5.6278', 'loss=', '0.000493865')\n",
      "('Epoch:', '0173', 'training time (minutes)=', '5.6615', 'loss=', '0.000487388')\n",
      "('Epoch:', '0174', 'training time (minutes)=', '5.6057', 'loss=', '0.000491148')\n",
      "('Epoch:', '0175', 'training time (minutes)=', '5.6639', 'loss=', '0.000494581')\n",
      "('Epoch:', '0176', 'training time (minutes)=', '5.8537', 'loss=', '0.000490127')\n",
      "('Epoch:', '0177', 'training time (minutes)=', '5.8309', 'loss=', '0.000492931')\n",
      "('Epoch:', '0178', 'training time (minutes)=', '5.7860', 'loss=', '0.000493240')\n",
      "('Epoch:', '0179', 'training time (minutes)=', '5.6111', 'loss=', '0.000498358')\n",
      "('Epoch:', '0180', 'training time (minutes)=', '5.7815', 'loss=', '0.000490148')\n",
      "INFO:tensorflow:/orions4-zfs/projects/optas/DATA/OUT/iclr/nn_models/all_snc/all_snc_rotated_mlp_arch_with_bnorm_on_encoder_3_pc2048pts_chamfer/models.ckpt-180 is not in all_model_checkpoint_paths. Manually adding it.\n",
      "('Epoch:', '0181', 'training time (minutes)=', '5.7002', 'loss=', '0.000491255')\n",
      "('Epoch:', '0182', 'training time (minutes)=', '5.5674', 'loss=', '0.000489889')\n",
      "('Epoch:', '0183', 'training time (minutes)=', '5.6322', 'loss=', '0.000489318')\n",
      "('Epoch:', '0184', 'training time (minutes)=', '5.6591', 'loss=', '0.000491082')\n",
      "('Epoch:', '0185', 'training time (minutes)=', '5.6400', 'loss=', '0.000492725')\n"
     ]
    }
   ],
   "source": [
    "if do_training:\n",
    "    buf_size = 1 # flush each line\n",
    "    fout = open(osp.join(conf.train_dir, 'train_stats.txt'), 'a', buf_size)    \n",
    "    train_stats = ae.train(train_data, conf, log_file=fout)\n",
    "    fout.close()"
   ]
  }
 ],
 "metadata": {
  "kernelspec": {
   "display_name": "Python 2",
   "language": "python",
   "name": "python2"
  },
  "language_info": {
   "codemirror_mode": {
    "name": "ipython",
    "version": 2
   },
   "file_extension": ".py",
   "mimetype": "text/x-python",
   "name": "python",
   "nbconvert_exporter": "python",
   "pygments_lexer": "ipython2",
   "version": "2.7.6"
  }
 },
 "nbformat": 4,
 "nbformat_minor": 0
}
