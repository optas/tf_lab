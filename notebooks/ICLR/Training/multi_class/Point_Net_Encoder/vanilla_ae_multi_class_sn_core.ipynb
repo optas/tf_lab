{
 "cells": [
  {
   "cell_type": "code",
   "execution_count": 1,
   "metadata": {
    "collapsed": false,
    "deletable": true,
    "editable": true
   },
   "outputs": [
    {
     "name": "stdout",
     "output_type": "stream",
     "text": [
      "Picking GPU 1\n"
     ]
    }
   ],
   "source": [
    "from general_tools.notebook import gpu_utils\n",
    "GPU = 1\n",
    "gpu_utils.setup_one_gpu(GPU)\n",
    "import tensorflow as tf\n",
    "tf.logging.set_verbosity(tf.logging.WARN)"
   ]
  },
  {
   "cell_type": "code",
   "execution_count": 2,
   "metadata": {
    "collapsed": false,
    "deletable": true,
    "editable": true
   },
   "outputs": [],
   "source": [
    "import sys\n",
    "import time\n",
    "import numpy as np\n",
    "import os.path as osp\n",
    "import matplotlib.pyplot as plt\n",
    "\n",
    "from general_tools.notebook.tf import reset_tf_graph\n",
    "from general_tools.in_out import create_dir\n",
    "from general_tools.in_out.basics import create_dir, delete_files_in_directory, files_in_subdirs\n",
    "\n",
    "from geo_tool import Point_Cloud\n",
    "\n",
    "from tf_lab.in_out.basics import Data_Splitter, read_saved_epochs\n",
    "\n",
    "from tf_lab.point_clouds.encoders_decoders import encoder_with_convs_and_symmetry_new, decoder_with_fc_only\n",
    "from tf_lab.point_clouds.point_net_ae import PointNetAutoEncoder\n",
    "from tf_lab.point_clouds.autoencoder import Configuration as Conf\n",
    "from tf_lab.point_clouds.in_out import load_point_clouds_from_filenames, PointCloudDataSet\n",
    "from tf_lab.data_sets.shape_net import pc_loader as snc_loader\n",
    "from tf_lab.data_sets.shape_net import snc_category_to_synth_id"
   ]
  },
  {
   "cell_type": "code",
   "execution_count": 3,
   "metadata": {
    "collapsed": false,
    "deletable": true,
    "editable": true
   },
   "outputs": [],
   "source": [
    "%load_ext autoreload\n",
    "%autoreload 2\n",
    "%matplotlib inline"
   ]
  },
  {
   "cell_type": "code",
   "execution_count": 4,
   "metadata": {
    "collapsed": true,
    "deletable": true,
    "editable": true
   },
   "outputs": [],
   "source": [
    "n_pc_samples = 2048\n",
    "do_training = True\n",
    "first_time_running = False\n",
    "load_model = True\n",
    "seed = 42\n",
    "max_training_epochs = 2000\n",
    "loss = 'emd'\n",
    "z_rotate = True\n",
    "experiment_name = 'no_conv_deeper_snc_rotated' + str(n_pc_samples) +  'pts_' + loss"
   ]
  },
  {
   "cell_type": "code",
   "execution_count": 5,
   "metadata": {
    "collapsed": false,
    "deletable": true,
    "editable": true
   },
   "outputs": [
    {
     "data": {
      "text/plain": [
       "'/orions4-zfs/projects/optas/DATA/OUT/iclr/nn_models/all_snc/no_conv_deeper_snc_rotated2048pts_emd'"
      ]
     },
     "execution_count": 5,
     "metadata": {},
     "output_type": "execute_result"
    }
   ],
   "source": [
    "top_data_dir = '/orions4-zfs/projects/optas/DATA/'\n",
    "train_dir = osp.join(top_data_dir, 'OUT/iclr/nn_models/all_snc', experiment_name)\n",
    "create_dir(train_dir)"
   ]
  },
  {
   "cell_type": "code",
   "execution_count": 6,
   "metadata": {
    "collapsed": false,
    "deletable": true,
    "editable": true,
    "scrolled": true
   },
   "outputs": [
    {
     "name": "stderr",
     "output_type": "stream",
     "text": [
      "/orions4-zfs/projects/optas/Git_Repos/tf_lab/point_clouds/in_out.py:38: UserWarning: Point clouds with the same model name were loaded.\n",
      "  warnings.warn('Point clouds with the same model name were loaded.')\n"
     ]
    },
    {
     "name": "stdout",
     "output_type": "stream",
     "text": [
      "57449 pclouds were loaded. They belong in 57 shape-classes.\n",
      "57449\n"
     ]
    }
   ],
   "source": [
    "n_threads = 25\n",
    "verbose = True\n",
    "pc_versions = ['centered']\n",
    "pclouds = []\n",
    "for version in pc_versions:\n",
    "    full_pclouds_path = osp.join(top_data_dir, 'Point_Clouds/Shape_Net/Core/from_manifold_meshes/', version, str(n_pc_samples))\n",
    "    full_file_names = [f for f in files_in_subdirs(full_pclouds_path, '.ply')]\n",
    "    pclouds_v, _, _ = load_point_clouds_from_filenames(full_file_names, n_threads, snc_loader, verbose)\n",
    "    pclouds.append(pclouds_v)\n",
    "train_data = PointCloudDataSet(np.vstack(pclouds))\n",
    "print train_data.num_examples"
   ]
  },
  {
   "cell_type": "code",
   "execution_count": 7,
   "metadata": {
    "collapsed": true,
    "deletable": true,
    "editable": true
   },
   "outputs": [],
   "source": [
    "n_input = [n_pc_samples, 3]\n",
    "\n",
    "encoder_args = {'n_filters': [128, 128, 256, 512],\n",
    "                'filter_sizes': [1, 1, 1, 1],\n",
    "                'strides': [1, 1, 1, 1],\n",
    "                'b_norm': True\n",
    "               }\n",
    "\n",
    "decoder_args = {'layer_sizes': [1024, 2048, np.prod(n_input)],\n",
    "                'b_norm': True\n",
    "               }"
   ]
  },
  {
   "cell_type": "code",
   "execution_count": 8,
   "metadata": {
    "collapsed": false,
    "deletable": true,
    "editable": true
   },
   "outputs": [
    {
     "name": "stdout",
     "output_type": "stream",
     "text": [
      "              allow_gpu_growth: False\n",
      "                    batch_size: 50\n",
      "                 consistent_io: None\n",
      "                         debug: False\n",
      "                       decoder: decoder_with_fc_only\n",
      "                  decoder_args: {'b_norm': True, 'layer_sizes': [1024, 2048, 6144]}\n",
      "                       encoder: encoder_with_convs_and_symmetry_new\n",
      "                  encoder_args: {'filter_sizes': [1, 1, 1, 1], 'n_filters': [128, 128, 256, 512], 'b_norm': True, 'strides': [1, 1, 1, 1]}\n",
      "               experiment_name: no_conv_deeper_snc_rotated2048pts_emd\n",
      "                 gauss_augment: None\n",
      "                  is_denoising: False\n",
      "               latent_vs_recon: 1.0\n",
      "                 learning_rate: 0.0005\n",
      "                          loss: emd\n",
      "             loss_display_step: 1\n",
      "                       n_input: [2048, 3]\n",
      "                      n_output: [2048, 3]\n",
      "                           n_z: None\n",
      "             saver_max_to_keep: None\n",
      "                    saver_step: 10\n",
      "                     train_dir: /orions4-zfs/projects/optas/DATA/OUT/iclr/nn_models/all_snc/no_conv_deeper_snc_rotated2048pts_emd\n",
      "               training_epochs: 2000\n",
      "                      z_rotate: True\n",
      "\n"
     ]
    }
   ],
   "source": [
    "if load_model:\n",
    "    conf = Conf.load(osp.join(train_dir, 'configuration'))\n",
    "    print conf\n",
    "    \n",
    "else:    \n",
    "    conf = Conf(\n",
    "                n_input = n_input,\n",
    "                training_epochs = max_training_epochs,\n",
    "                batch_size = 50,\n",
    "                loss = loss,\n",
    "                denoising = False,\n",
    "                train_dir = train_dir,\n",
    "                loss_display_step = 1,\n",
    "                saver_step = 10,\n",
    "                learning_rate = 0.0005,\n",
    "                z_rotate = z_rotate,\n",
    "                encoder = encoder_with_convs_and_symmetry_new,\n",
    "                encoder_args = encoder_args,\n",
    "                decoder = decoder_with_fc_only,\n",
    "                decoder_args = decoder_args,            \n",
    "               )\n",
    "    conf.allow_gpu_growth = False\n",
    "    conf.experiment_name = experiment_name\n",
    "    conf.save(osp.join(conf.train_dir, 'configuration'))\n",
    "\n",
    "reset_tf_graph()\n",
    "ae = PointNetAutoEncoder(experiment_name, conf)"
   ]
  },
  {
   "cell_type": "code",
   "execution_count": null,
   "metadata": {
    "collapsed": false,
    "deletable": true,
    "editable": true
   },
   "outputs": [
    {
     "name": "stdout",
     "output_type": "stream",
     "text": [
      "Model restored in epoch 1000.\n",
      "1000\n"
     ]
    }
   ],
   "source": [
    "if load_model:\n",
    "    saved_epochs = read_saved_epochs(conf.train_dir)\n",
    "    last_epoch = saved_epochs[-1]\n",
    "    ae.restore_model(conf.train_dir, last_epoch, verbose=True)\n",
    "        \n",
    "if load_model and do_training:\n",
    "    conf.training_epochs -= last_epoch\n",
    "    print conf.training_epochs"
   ]
  },
  {
   "cell_type": "code",
   "execution_count": null,
   "metadata": {
    "collapsed": false,
    "deletable": true,
    "editable": true
   },
   "outputs": [
    {
     "name": "stdout",
     "output_type": "stream",
     "text": [
      "('Epoch:', '1001', 'training time (minutes)=', '4.0503', 'loss=', '82.911327980')\n",
      "('Epoch:', '1002', 'training time (minutes)=', '4.3995', 'loss=', '83.225842007')\n",
      "('Epoch:', '1003', 'training time (minutes)=', '4.4111', 'loss=', '82.921054677')\n",
      "('Epoch:', '1004', 'training time (minutes)=', '4.3813', 'loss=', '82.923875812')\n",
      "('Epoch:', '1005', 'training time (minutes)=', '5.1277', 'loss=', '82.719259990')\n",
      "('Epoch:', '1006', 'training time (minutes)=', '5.2627', 'loss=', '83.179616662')\n",
      "('Epoch:', '1007', 'training time (minutes)=', '4.7574', 'loss=', '82.908324876')\n",
      "('Epoch:', '1008', 'training time (minutes)=', '5.5012', 'loss=', '83.235737242')\n",
      "('Epoch:', '1009', 'training time (minutes)=', '5.3679', 'loss=', '82.842318060')\n",
      "('Epoch:', '1010', 'training time (minutes)=', '4.6210', 'loss=', '82.454768699')\n",
      "('Epoch:', '1011', 'training time (minutes)=', '4.6541', 'loss=', '82.888548422')\n",
      "('Epoch:', '1012', 'training time (minutes)=', '4.6992', 'loss=', '82.793172600')\n",
      "('Epoch:', '1013', 'training time (minutes)=', '4.3918', 'loss=', '83.096635234')\n",
      "('Epoch:', '1014', 'training time (minutes)=', '4.7552', 'loss=', '83.041623258')\n",
      "('Epoch:', '1015', 'training time (minutes)=', '4.7125', 'loss=', '82.770554682')\n",
      "('Epoch:', '1016', 'training time (minutes)=', '5.1405', 'loss=', '82.594990581')\n",
      "('Epoch:', '1017', 'training time (minutes)=', '4.5063', 'loss=', '83.145245702')\n",
      "('Epoch:', '1018', 'training time (minutes)=', '4.4998', 'loss=', '83.731644009')\n",
      "('Epoch:', '1019', 'training time (minutes)=', '4.6088', 'loss=', '82.791137303')\n",
      "('Epoch:', '1020', 'training time (minutes)=', '5.0416', 'loss=', '82.829276919')\n",
      "('Epoch:', '1021', 'training time (minutes)=', '4.7923', 'loss=', '82.266516157')\n",
      "('Epoch:', '1022', 'training time (minutes)=', '4.5255', 'loss=', '82.978722144')\n",
      "('Epoch:', '1023', 'training time (minutes)=', '4.6096', 'loss=', '83.065285168')\n",
      "('Epoch:', '1024', 'training time (minutes)=', '4.6705', 'loss=', '82.674985258')\n",
      "('Epoch:', '1025', 'training time (minutes)=', '4.5520', 'loss=', '82.716439450')\n",
      "('Epoch:', '1026', 'training time (minutes)=', '4.9316', 'loss=', '82.752027316')\n",
      "('Epoch:', '1027', 'training time (minutes)=', '4.6395', 'loss=', '82.944950795')\n",
      "('Epoch:', '1028', 'training time (minutes)=', '4.5413', 'loss=', '82.942806078')\n",
      "('Epoch:', '1029', 'training time (minutes)=', '4.6768', 'loss=', '83.098610742')\n",
      "('Epoch:', '1030', 'training time (minutes)=', '4.6306', 'loss=', '82.715047152')\n",
      "('Epoch:', '1031', 'training time (minutes)=', '4.5370', 'loss=', '82.794090111')\n",
      "('Epoch:', '1032', 'training time (minutes)=', '4.6320', 'loss=', '82.611099851')\n",
      "('Epoch:', '1033', 'training time (minutes)=', '4.4303', 'loss=', '83.147358323')\n",
      "('Epoch:', '1034', 'training time (minutes)=', '4.6584', 'loss=', '82.529774184')\n",
      "('Epoch:', '1035', 'training time (minutes)=', '4.5529', 'loss=', '83.033588599')\n",
      "('Epoch:', '1036', 'training time (minutes)=', '4.4922', 'loss=', '82.609998863')\n",
      "('Epoch:', '1037', 'training time (minutes)=', '4.6056', 'loss=', '82.717272257')\n",
      "('Epoch:', '1038', 'training time (minutes)=', '4.4607', 'loss=', '82.593729983')\n",
      "('Epoch:', '1039', 'training time (minutes)=', '4.4400', 'loss=', '82.596252109')\n",
      "('Epoch:', '1040', 'training time (minutes)=', '4.5469', 'loss=', '82.968020296')\n",
      "('Epoch:', '1041', 'training time (minutes)=', '4.5929', 'loss=', '82.680615747')\n",
      "('Epoch:', '1042', 'training time (minutes)=', '4.5069', 'loss=', '82.595210105')\n",
      "('Epoch:', '1043', 'training time (minutes)=', '5.4185', 'loss=', '82.916458329')\n",
      "('Epoch:', '1044', 'training time (minutes)=', '4.6870', 'loss=', '83.044258889')\n",
      "('Epoch:', '1045', 'training time (minutes)=', '4.4174', 'loss=', '82.566571398')\n",
      "('Epoch:', '1046', 'training time (minutes)=', '4.4157', 'loss=', '82.664246134')\n",
      "('Epoch:', '1047', 'training time (minutes)=', '4.4173', 'loss=', '82.607847606')\n",
      "('Epoch:', '1048', 'training time (minutes)=', '4.4099', 'loss=', '82.731525594')\n",
      "('Epoch:', '1049', 'training time (minutes)=', '4.3901', 'loss=', '82.709493272')\n",
      "('Epoch:', '1050', 'training time (minutes)=', '4.4571', 'loss=', '82.810878873')\n",
      "('Epoch:', '1051', 'training time (minutes)=', '4.4013', 'loss=', '82.582891345')\n",
      "('Epoch:', '1052', 'training time (minutes)=', '4.8420', 'loss=', '82.685446477')\n",
      "('Epoch:', '1053', 'training time (minutes)=', '4.4555', 'loss=', '82.741458109')\n",
      "('Epoch:', '1054', 'training time (minutes)=', '4.5601', 'loss=', '83.165246651')\n",
      "('Epoch:', '1055', 'training time (minutes)=', '4.5250', 'loss=', '82.307200628')\n",
      "('Epoch:', '1056', 'training time (minutes)=', '4.5169', 'loss=', '82.052381190')\n",
      "('Epoch:', '1057', 'training time (minutes)=', '4.5319', 'loss=', '82.810009282')\n",
      "('Epoch:', '1058', 'training time (minutes)=', '4.4743', 'loss=', '82.687439540')\n",
      "('Epoch:', '1059', 'training time (minutes)=', '4.5873', 'loss=', '82.453106957')\n",
      "('Epoch:', '1060', 'training time (minutes)=', '4.6578', 'loss=', '82.631034486')\n",
      "('Epoch:', '1061', 'training time (minutes)=', '4.6262', 'loss=', '82.773137900')\n",
      "('Epoch:', '1062', 'training time (minutes)=', '4.6916', 'loss=', '82.780684521')\n",
      "('Epoch:', '1063', 'training time (minutes)=', '4.6429', 'loss=', '82.343277370')\n",
      "('Epoch:', '1064', 'training time (minutes)=', '4.7392', 'loss=', '82.842740162')\n",
      "('Epoch:', '1065', 'training time (minutes)=', '5.0727', 'loss=', '82.641738719')\n",
      "('Epoch:', '1066', 'training time (minutes)=', '4.9644', 'loss=', '82.527354227')\n",
      "('Epoch:', '1067', 'training time (minutes)=', '4.5838', 'loss=', '82.800777143')\n",
      "('Epoch:', '1068', 'training time (minutes)=', '4.5310', 'loss=', '82.754162632')\n",
      "('Epoch:', '1069', 'training time (minutes)=', '4.6488', 'loss=', '82.111299256')\n",
      "('Epoch:', '1070', 'training time (minutes)=', '4.7395', 'loss=', '82.497658082')\n",
      "('Epoch:', '1071', 'training time (minutes)=', '4.6764', 'loss=', '82.993127906')\n",
      "('Epoch:', '1072', 'training time (minutes)=', '4.5373', 'loss=', '82.696320331')\n",
      "('Epoch:', '1073', 'training time (minutes)=', '4.6167', 'loss=', '82.054842248')\n",
      "('Epoch:', '1074', 'training time (minutes)=', '4.6068', 'loss=', '82.881879069')\n",
      "('Epoch:', '1075', 'training time (minutes)=', '4.5724', 'loss=', '82.650642594')\n",
      "('Epoch:', '1076', 'training time (minutes)=', '4.6013', 'loss=', '82.105435282')\n",
      "('Epoch:', '1077', 'training time (minutes)=', '4.6131', 'loss=', '82.571485662')\n",
      "('Epoch:', '1078', 'training time (minutes)=', '4.5003', 'loss=', '82.404269135')\n",
      "('Epoch:', '1079', 'training time (minutes)=', '4.4640', 'loss=', '82.442313390')\n",
      "('Epoch:', '1080', 'training time (minutes)=', '4.5528', 'loss=', '82.500508930')\n",
      "('Epoch:', '1081', 'training time (minutes)=', '4.5281', 'loss=', '82.183139097')\n",
      "('Epoch:', '1082', 'training time (minutes)=', '4.7065', 'loss=', '82.548393628')\n",
      "('Epoch:', '1083', 'training time (minutes)=', '4.8129', 'loss=', '82.500238658')\n",
      "('Epoch:', '1084', 'training time (minutes)=', '5.0776', 'loss=', '82.515755108')\n",
      "('Epoch:', '1085', 'training time (minutes)=', '4.5712', 'loss=', '82.444748629')\n",
      "('Epoch:', '1086', 'training time (minutes)=', '4.6883', 'loss=', '82.505108508')\n",
      "('Epoch:', '1087', 'training time (minutes)=', '4.5755', 'loss=', '82.609908177')\n",
      "('Epoch:', '1088', 'training time (minutes)=', '4.7065', 'loss=', '82.019416138')\n",
      "('Epoch:', '1089', 'training time (minutes)=', '4.7436', 'loss=', '82.560993975')\n",
      "('Epoch:', '1090', 'training time (minutes)=', '4.7172', 'loss=', '82.450471735')\n",
      "('Epoch:', '1091', 'training time (minutes)=', '4.6151', 'loss=', '82.711711172')\n",
      "('Epoch:', '1092', 'training time (minutes)=', '4.6835', 'loss=', '82.424683498')\n",
      "('Epoch:', '1093', 'training time (minutes)=', '4.7265', 'loss=', '83.048028776')\n",
      "('Epoch:', '1094', 'training time (minutes)=', '4.5883', 'loss=', '82.274350362')\n",
      "('Epoch:', '1095', 'training time (minutes)=', '4.6299', 'loss=', '82.598028728')\n",
      "('Epoch:', '1096', 'training time (minutes)=', '4.6456', 'loss=', '82.291757869')\n",
      "('Epoch:', '1097', 'training time (minutes)=', '4.6076', 'loss=', '82.523134355')\n",
      "('Epoch:', '1098', 'training time (minutes)=', '4.6040', 'loss=', '82.759601154')\n",
      "('Epoch:', '1099', 'training time (minutes)=', '4.5201', 'loss=', '82.931886301')\n",
      "('Epoch:', '1100', 'training time (minutes)=', '4.6758', 'loss=', '82.482041382')\n",
      "('Epoch:', '1101', 'training time (minutes)=', '4.5963', 'loss=', '82.290015915')\n",
      "('Epoch:', '1102', 'training time (minutes)=', '4.6881', 'loss=', '82.571775234')\n",
      "('Epoch:', '1103', 'training time (minutes)=', '4.5539', 'loss=', '82.618888476')\n",
      "('Epoch:', '1104', 'training time (minutes)=', '4.5729', 'loss=', '82.164524155')\n",
      "('Epoch:', '1105', 'training time (minutes)=', '4.6343', 'loss=', '82.141765458')\n",
      "('Epoch:', '1106', 'training time (minutes)=', '4.6359', 'loss=', '82.817510356')\n",
      "('Epoch:', '1107', 'training time (minutes)=', '4.6585', 'loss=', '82.755073664')\n",
      "('Epoch:', '1108', 'training time (minutes)=', '4.5020', 'loss=', '82.321763660')\n",
      "('Epoch:', '1109', 'training time (minutes)=', '4.4558', 'loss=', '82.421220121')\n",
      "('Epoch:', '1110', 'training time (minutes)=', '4.6046', 'loss=', '82.736308274')\n",
      "('Epoch:', '1111', 'training time (minutes)=', '4.5492', 'loss=', '82.538939599')\n",
      "('Epoch:', '1112', 'training time (minutes)=', '4.6606', 'loss=', '82.544092025')\n",
      "('Epoch:', '1113', 'training time (minutes)=', '4.5769', 'loss=', '82.610340650')\n",
      "('Epoch:', '1114', 'training time (minutes)=', '4.5926', 'loss=', '82.535413622')\n",
      "('Epoch:', '1115', 'training time (minutes)=', '4.6330', 'loss=', '82.154469174')\n",
      "('Epoch:', '1116', 'training time (minutes)=', '4.5986', 'loss=', '82.039779038')\n",
      "('Epoch:', '1117', 'training time (minutes)=', '4.7121', 'loss=', '82.530664903')\n",
      "('Epoch:', '1118', 'training time (minutes)=', '4.6597', 'loss=', '82.578415276')\n",
      "('Epoch:', '1119', 'training time (minutes)=', '4.6583', 'loss=', '82.859060852')\n",
      "('Epoch:', '1120', 'training time (minutes)=', '4.5011', 'loss=', '82.438704554')\n",
      "('Epoch:', '1121', 'training time (minutes)=', '4.5526', 'loss=', '82.564289199')\n",
      "('Epoch:', '1122', 'training time (minutes)=', '4.4473', 'loss=', '82.312494703')\n",
      "('Epoch:', '1123', 'training time (minutes)=', '4.5923', 'loss=', '82.207576652')\n",
      "('Epoch:', '1124', 'training time (minutes)=', '4.6293', 'loss=', '82.913529682')\n",
      "('Epoch:', '1125', 'training time (minutes)=', '4.4901', 'loss=', '82.084676935')\n",
      "('Epoch:', '1126', 'training time (minutes)=', '4.5493', 'loss=', '82.532717093')\n",
      "('Epoch:', '1127', 'training time (minutes)=', '4.4979', 'loss=', '82.392689569')\n",
      "('Epoch:', '1128', 'training time (minutes)=', '4.6415', 'loss=', '82.459740649')\n",
      "('Epoch:', '1129', 'training time (minutes)=', '4.6078', 'loss=', '82.486354542')\n",
      "('Epoch:', '1130', 'training time (minutes)=', '4.6958', 'loss=', '82.399859791')\n",
      "('Epoch:', '1131', 'training time (minutes)=', '4.6528', 'loss=', '82.498486994')\n",
      "('Epoch:', '1132', 'training time (minutes)=', '4.4490', 'loss=', '82.449658420')\n",
      "('Epoch:', '1133', 'training time (minutes)=', '4.5745', 'loss=', '83.049367891')\n",
      "('Epoch:', '1134', 'training time (minutes)=', '4.4260', 'loss=', '82.539409355')\n",
      "('Epoch:', '1135', 'training time (minutes)=', '4.4589', 'loss=', '82.416924334')\n",
      "('Epoch:', '1136', 'training time (minutes)=', '4.5067', 'loss=', '82.361789790')\n",
      "('Epoch:', '1137', 'training time (minutes)=', '4.4865', 'loss=', '82.448411782')\n",
      "('Epoch:', '1138', 'training time (minutes)=', '4.5608', 'loss=', '82.265202549')\n",
      "('Epoch:', '1139', 'training time (minutes)=', '4.4784', 'loss=', '82.598068364')\n",
      "('Epoch:', '1140', 'training time (minutes)=', '4.4773', 'loss=', '82.540328199')\n",
      "('Epoch:', '1141', 'training time (minutes)=', '4.5382', 'loss=', '82.306324032')\n",
      "('Epoch:', '1142', 'training time (minutes)=', '4.4973', 'loss=', '82.834971970')\n",
      "('Epoch:', '1143', 'training time (minutes)=', '4.6776', 'loss=', '82.258182678')\n",
      "('Epoch:', '1144', 'training time (minutes)=', '4.5695', 'loss=', '82.407986648')\n",
      "('Epoch:', '1145', 'training time (minutes)=', '4.4729', 'loss=', '82.165161718')\n",
      "('Epoch:', '1146', 'training time (minutes)=', '4.4238', 'loss=', '82.188750669')\n",
      "('Epoch:', '1147', 'training time (minutes)=', '4.4828', 'loss=', '81.961693448')\n",
      "('Epoch:', '1148', 'training time (minutes)=', '4.5294', 'loss=', '82.477689537')\n",
      "('Epoch:', '1149', 'training time (minutes)=', '4.5943', 'loss=', '82.319389363')\n",
      "('Epoch:', '1150', 'training time (minutes)=', '4.4776', 'loss=', '82.551478037')\n",
      "('Epoch:', '1151', 'training time (minutes)=', '4.6059', 'loss=', '82.527098420')\n",
      "('Epoch:', '1152', 'training time (minutes)=', '4.5911', 'loss=', '82.150159474')\n",
      "('Epoch:', '1153', 'training time (minutes)=', '4.5687', 'loss=', '82.370387852')\n",
      "('Epoch:', '1154', 'training time (minutes)=', '4.6183', 'loss=', '82.160783861')\n",
      "('Epoch:', '1155', 'training time (minutes)=', '4.5336', 'loss=', '82.177728105')\n",
      "('Epoch:', '1156', 'training time (minutes)=', '4.4521', 'loss=', '82.353309601')\n",
      "('Epoch:', '1157', 'training time (minutes)=', '4.3652', 'loss=', '82.320851363')\n",
      "('Epoch:', '1158', 'training time (minutes)=', '4.4652', 'loss=', '82.992850300')\n",
      "('Epoch:', '1159', 'training time (minutes)=', '4.5319', 'loss=', '81.737805626')\n",
      "('Epoch:', '1160', 'training time (minutes)=', '4.5973', 'loss=', '82.294538069')\n",
      "('Epoch:', '1161', 'training time (minutes)=', '4.3475', 'loss=', '82.369281304')\n",
      "('Epoch:', '1162', 'training time (minutes)=', '4.4425', 'loss=', '82.422973095')\n",
      "('Epoch:', '1163', 'training time (minutes)=', '4.5000', 'loss=', '82.296433289')\n",
      "('Epoch:', '1164', 'training time (minutes)=', '4.6143', 'loss=', '82.380946887')\n",
      "('Epoch:', '1165', 'training time (minutes)=', '4.5507', 'loss=', '82.221035961')\n",
      "('Epoch:', '1166', 'training time (minutes)=', '4.7552', 'loss=', '82.186012012')\n",
      "('Epoch:', '1167', 'training time (minutes)=', '4.5997', 'loss=', '82.493665662')\n",
      "('Epoch:', '1168', 'training time (minutes)=', '4.5897', 'loss=', '82.234823293')\n",
      "('Epoch:', '1169', 'training time (minutes)=', '4.4970', 'loss=', '82.353200567')\n",
      "('Epoch:', '1170', 'training time (minutes)=', '4.5537', 'loss=', '82.763380184')\n",
      "('Epoch:', '1171', 'training time (minutes)=', '4.6172', 'loss=', '82.092342503')\n",
      "('Epoch:', '1172', 'training time (minutes)=', '4.6296', 'loss=', '82.112294686')\n",
      "('Epoch:', '1173', 'training time (minutes)=', '4.4822', 'loss=', '82.269238409')\n",
      "('Epoch:', '1174', 'training time (minutes)=', '4.4986', 'loss=', '82.414855984')\n",
      "('Epoch:', '1175', 'training time (minutes)=', '4.3124', 'loss=', '82.178037321')\n",
      "('Epoch:', '1176', 'training time (minutes)=', '4.3806', 'loss=', '82.068149474')\n",
      "('Epoch:', '1177', 'training time (minutes)=', '4.4022', 'loss=', '82.616869252')\n",
      "('Epoch:', '1178', 'training time (minutes)=', '4.3761', 'loss=', '82.593254893')\n",
      "('Epoch:', '1179', 'training time (minutes)=', '4.3601', 'loss=', '82.225129543')\n",
      "('Epoch:', '1180', 'training time (minutes)=', '4.3194', 'loss=', '82.101414641')\n",
      "('Epoch:', '1181', 'training time (minutes)=', '4.3450', 'loss=', '82.352957682')\n",
      "('Epoch:', '1182', 'training time (minutes)=', '4.3231', 'loss=', '82.070706550')\n",
      "('Epoch:', '1183', 'training time (minutes)=', '4.2132', 'loss=', '82.036126552')\n",
      "('Epoch:', '1184', 'training time (minutes)=', '4.2857', 'loss=', '82.260393588')\n",
      "('Epoch:', '1185', 'training time (minutes)=', '4.2217', 'loss=', '82.435183243')\n",
      "('Epoch:', '1186', 'training time (minutes)=', '4.3281', 'loss=', '81.947567265')\n",
      "('Epoch:', '1187', 'training time (minutes)=', '4.2869', 'loss=', '81.923666333')\n",
      "('Epoch:', '1188', 'training time (minutes)=', '4.3285', 'loss=', '82.400964823')\n",
      "('Epoch:', '1189', 'training time (minutes)=', '4.2048', 'loss=', '82.340194111')\n",
      "('Epoch:', '1190', 'training time (minutes)=', '4.3555', 'loss=', '82.408885105')\n",
      "('Epoch:', '1191', 'training time (minutes)=', '4.3161', 'loss=', '82.307845056')\n",
      "('Epoch:', '1192', 'training time (minutes)=', '4.1200', 'loss=', '81.970896784')\n",
      "('Epoch:', '1193', 'training time (minutes)=', '4.1912', 'loss=', '81.987363337')\n",
      "('Epoch:', '1194', 'training time (minutes)=', '4.1159', 'loss=', '82.008147266')\n",
      "('Epoch:', '1195', 'training time (minutes)=', '4.2777', 'loss=', '82.505680981')\n",
      "('Epoch:', '1196', 'training time (minutes)=', '4.1490', 'loss=', '82.172600510')\n",
      "('Epoch:', '1197', 'training time (minutes)=', '4.3004', 'loss=', '82.104988244')\n",
      "('Epoch:', '1198', 'training time (minutes)=', '4.2960', 'loss=', '82.399113728')\n",
      "('Epoch:', '1199', 'training time (minutes)=', '4.3017', 'loss=', '82.024361647')\n",
      "('Epoch:', '1200', 'training time (minutes)=', '4.2014', 'loss=', '82.316935037')\n",
      "('Epoch:', '1201', 'training time (minutes)=', '4.2884', 'loss=', '82.167590410')\n",
      "('Epoch:', '1202', 'training time (minutes)=', '4.2826', 'loss=', '82.419462736')\n",
      "('Epoch:', '1203', 'training time (minutes)=', '4.1262', 'loss=', '82.047376417')\n",
      "('Epoch:', '1204', 'training time (minutes)=', '4.2045', 'loss=', '82.318892695')\n",
      "('Epoch:', '1205', 'training time (minutes)=', '4.2583', 'loss=', '81.780799038')\n",
      "('Epoch:', '1206', 'training time (minutes)=', '4.1712', 'loss=', '81.960317864')\n",
      "('Epoch:', '1207', 'training time (minutes)=', '4.1046', 'loss=', '82.379725167')\n",
      "('Epoch:', '1208', 'training time (minutes)=', '4.3315', 'loss=', '82.048937229')\n",
      "('Epoch:', '1209', 'training time (minutes)=', '4.2261', 'loss=', '82.042428216')\n",
      "('Epoch:', '1210', 'training time (minutes)=', '4.3314', 'loss=', '82.240689371')\n",
      "('Epoch:', '1211', 'training time (minutes)=', '4.2035', 'loss=', '82.116640569')\n",
      "('Epoch:', '1212', 'training time (minutes)=', '4.6517', 'loss=', '82.140729937')\n",
      "('Epoch:', '1213', 'training time (minutes)=', '5.1146', 'loss=', '82.064973864')\n",
      "('Epoch:', '1214', 'training time (minutes)=', '5.1095', 'loss=', '81.769197122')\n",
      "('Epoch:', '1215', 'training time (minutes)=', '4.9044', 'loss=', '82.231681226')\n",
      "('Epoch:', '1216', 'training time (minutes)=', '4.2804', 'loss=', '82.059607027')\n",
      "('Epoch:', '1217', 'training time (minutes)=', '4.1811', 'loss=', '82.200092136')\n",
      "('Epoch:', '1218', 'training time (minutes)=', '4.1147', 'loss=', '82.041077345')\n",
      "('Epoch:', '1219', 'training time (minutes)=', '4.2357', 'loss=', '81.837230237')\n",
      "('Epoch:', '1220', 'training time (minutes)=', '4.1469', 'loss=', '82.115855084')\n",
      "('Epoch:', '1221', 'training time (minutes)=', '4.7464', 'loss=', '82.329383790')\n",
      "('Epoch:', '1222', 'training time (minutes)=', '4.5829', 'loss=', '82.215511096')\n"
     ]
    }
   ],
   "source": [
    "if do_training:\n",
    "    buf_size = 1 # flush each line\n",
    "    fout = open(osp.join(conf.train_dir, 'train_stats.txt'), 'a', buf_size)\n",
    "    train_stats = ae.train(train_data, conf, log_file=fout)\n",
    "    fout.close()"
   ]
  }
 ],
 "metadata": {
  "kernelspec": {
   "display_name": "TensorFlow1",
   "language": "python",
   "name": "tf1"
  },
  "language_info": {
   "codemirror_mode": {
    "name": "ipython",
    "version": 2
   },
   "file_extension": ".py",
   "mimetype": "text/x-python",
   "name": "python",
   "nbconvert_exporter": "python",
   "pygments_lexer": "ipython2",
   "version": "2.7.6"
  }
 },
 "nbformat": 4,
 "nbformat_minor": 0
}
