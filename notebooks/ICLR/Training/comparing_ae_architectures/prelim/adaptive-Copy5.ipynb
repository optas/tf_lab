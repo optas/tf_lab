{
 "cells": [
  {
   "cell_type": "code",
   "execution_count": 1,
   "metadata": {
    "collapsed": false
   },
   "outputs": [
    {
     "name": "stdout",
     "output_type": "stream",
     "text": [
      "Picking GPU 1\n"
     ]
    }
   ],
   "source": [
    "from general_tools.notebook.gpu_utils import setup_one_gpu\n",
    "GPU = 1\n",
    "setup_one_gpu(GPU)"
   ]
  },
  {
   "cell_type": "code",
   "execution_count": 2,
   "metadata": {
    "collapsed": false
   },
   "outputs": [],
   "source": [
    "import sys\n",
    "import time\n",
    "import numpy as np\n",
    "import os.path as osp\n",
    "import tensorflow as tf\n",
    "import matplotlib.pyplot as plt\n",
    "from functools import partial\n",
    "\n",
    "from general_tools.notebook.tf import reset_tf_graph\n",
    "from general_tools.in_out import create_dir\n",
    "from general_tools.in_out.basics import create_dir, delete_files_in_directory, files_in_subdirs\n",
    "\n",
    "from geo_tool import Point_Cloud\n",
    "\n",
    "from tf_lab.in_out.basics import Data_Splitter\n",
    "from tf_lab.point_clouds.ae_templates import conv_architecture_ala_nips_17, default_train_params_ala_nips_17\n",
    "\n",
    "from tf_lab.point_clouds.encoders_decoders import decoder_with_fc_only,\\\n",
    "encoder_with_convs_and_symmetry_new, decoder_with_convs_only\n",
    "\n",
    "from tf_lab.point_clouds.autoencoder import Configuration as Conf\n",
    "from tf_lab.point_clouds.point_net_ae import PointNetAutoEncoder\n",
    "\n",
    "from tf_lab.point_clouds.in_out import load_point_clouds_from_filenames, PointCloudDataSet\n",
    "from tf_lab.data_sets.shape_net import pc_loader as snc_loader\n",
    "from tf_lab.data_sets.shape_net import snc_category_to_synth_id\n",
    "from tflearn.layers.conv import avg_pool_1d\n",
    "from pc_completions.evaluation import basic_comletion_measures\n",
    "\n",
    "from tflearn.layers.conv import conv_1d, highway_conv_1d, avg_pool_1d, max_pool_1d\n",
    "from tf_lab.fundamentals.layers import conv_1d_tranpose"
   ]
  },
  {
   "cell_type": "code",
   "execution_count": 3,
   "metadata": {
    "collapsed": false
   },
   "outputs": [],
   "source": [
    "%load_ext autoreload\n",
    "%autoreload 2\n",
    "%matplotlib inline"
   ]
  },
  {
   "cell_type": "code",
   "execution_count": 4,
   "metadata": {
    "collapsed": false
   },
   "outputs": [],
   "source": [
    "exp_id = -1\n",
    "n_pc_points = 2048\n",
    "random_seed = 42\n",
    "top_data_dir = '/orions4-zfs/projects/optas/DATA'\n",
    "train_dir = osp.join(top_data_dir, 'OUT/iclr/nn_models/testing_ae_settings/ae_variants_2', str(exp_id))"
   ]
  },
  {
   "cell_type": "code",
   "execution_count": 5,
   "metadata": {
    "collapsed": false
   },
   "outputs": [],
   "source": [
    "def load_multiple_version_of_pcs():\n",
    "#     versions = ['centered', 'centered_2nd_version', 'centered_3rd_version']\n",
    "#     versions = ['fps_sampled_in_u_sphere']    \n",
    "    versions = ['fps_sampled_in_u_sphere_fiedler_sorted']\n",
    "    \n",
    "    splits = {'train':None, 'val':None, 'test': None}\n",
    "        \n",
    "    for s in splits.keys():\n",
    "        print 'Loading %s data.' % (s,)\n",
    "        s_file = osp.join(top_data_dir, 'Point_Clouds/Shape_Net/Splits/single_class_splits/03001627/85_5_10/', s + '.txt')\n",
    "        print s_file\n",
    "        for i, v in enumerate(versions):\n",
    "            top_pclouds_path = osp.join(top_data_dir, 'Point_Clouds/Shape_Net/Core/from_manifold_meshes/', v, str(n_pc_points))                \n",
    "            splitter = Data_Splitter(top_pclouds_path, data_file_ending='.ply', random_seed=random_seed)\n",
    "            pcs_in_split = splitter.load_splits(s_file)                \n",
    "            pclouds, model_ids, syn_ids = load_point_clouds_from_filenames(pcs_in_split, n_threads=20, loader=snc_loader, verbose=True)        \n",
    "            if splits[s] is None:\n",
    "                splits[s] = PointCloudDataSet(pclouds, labels=syn_ids + '_' + model_ids)\n",
    "            else:\n",
    "                splits[s].merge(PointCloudDataSet(pclouds, labels=syn_ids + '_' + model_ids))\n",
    "    return splits"
   ]
  },
  {
   "cell_type": "code",
   "execution_count": 6,
   "metadata": {
    "collapsed": false
   },
   "outputs": [
    {
     "name": "stdout",
     "output_type": "stream",
     "text": [
      "Loading test data.\n",
      "/orions4-zfs/projects/optas/DATA/Point_Clouds/Shape_Net/Splits/single_class_splits/03001627/85_5_10/test.txt\n",
      "679 pclouds were loaded. They belong in 1 shape-classes.\n",
      "Loading train data.\n",
      "/orions4-zfs/projects/optas/DATA/Point_Clouds/Shape_Net/Splits/single_class_splits/03001627/85_5_10/train.txt\n",
      "5761 pclouds were loaded. They belong in 1 shape-classes.\n",
      "Loading val data.\n",
      "/orions4-zfs/projects/optas/DATA/Point_Clouds/Shape_Net/Splits/single_class_splits/03001627/85_5_10/val.txt\n",
      "338 pclouds were loaded. They belong in 1 shape-classes.\n"
     ]
    }
   ],
   "source": [
    "in_data  = load_multiple_version_of_pcs()"
   ]
  },
  {
   "cell_type": "code",
   "execution_count": 7,
   "metadata": {
    "collapsed": true
   },
   "outputs": [],
   "source": [
    "do_training = True\n",
    "load_pretrained_model = False\n",
    "load_epoch = None\n",
    "loss = 'chamfer'\n",
    "training_epochs = 500\n",
    "batch_size = 50\n",
    "learning_rate = 0.0005"
   ]
  },
  {
   "cell_type": "code",
   "execution_count": null,
   "metadata": {
    "collapsed": true
   },
   "outputs": [],
   "source": []
  },
  {
   "cell_type": "code",
   "execution_count": 20,
   "metadata": {
    "collapsed": false
   },
   "outputs": [],
   "source": [
    "def enc_dec_templates():\n",
    "    b_norm = True        \n",
    "    encoder = encoder_with_convs_and_symmetry_new\n",
    "    decoder = decoder_with_fc_only\n",
    "    conv_op = conv_1d\n",
    "\n",
    "    encoder_args = {'n_filters': [16, 32, 64, 128, 2048],\n",
    "            'filter_sizes': [2, 2, 2, 2, 2],\n",
    "            'strides': [1, 1, 1, 1, 1],\n",
    "            'b_norm': b_norm,\n",
    "            'pool': None,\n",
    "            'pool_sizes': [2, None, 2, None, None],\n",
    "            'verbose': True,\n",
    "            'conv_op': conv_op,\n",
    "            }\n",
    "\n",
    "    decoder_args= {'layer_sizes': [32, 256, 2048*3],\n",
    "                   'verbose': True,\n",
    "                   'b_norm': b_norm,\n",
    "                   'non_linearity': tf.nn.relu\n",
    "                  }\n",
    "    return encoder, decoder, encoder_args, decoder_args"
   ]
  },
  {
   "cell_type": "code",
   "execution_count": 21,
   "metadata": {
    "collapsed": false
   },
   "outputs": [
    {
     "name": "stdout",
     "output_type": "stream",
     "text": [
      "{'filter_sizes': [2, 2, 2, 2, 2], 'n_filters': [16, 32, 64, 128, 2048], 'verbose': True, 'strides': [1, 1, 1, 1, 1], 'conv_op': <function conv_1d at 0x7f2592c26320>, 'pool_sizes': [2, None, 2, None, None], 'b_norm': True, 'pool': None}\n"
     ]
    }
   ],
   "source": [
    "reset_tf_graph()\n",
    "encoder, decoder, encoder_args, decoder_args = enc_dec_templates()\n",
    "print encoder_args\n",
    "\n",
    "# layer = tf.placeholder(tf.float32, [None, n_pc_points, 3])\n",
    "# layer = encoder(layer, **encoder_args)\n",
    "# layer = decoder(layer, **decoder_args)"
   ]
  },
  {
   "cell_type": "code",
   "execution_count": null,
   "metadata": {
    "collapsed": false
   },
   "outputs": [],
   "source": []
  },
  {
   "cell_type": "code",
   "execution_count": 22,
   "metadata": {
    "collapsed": false,
    "scrolled": true
   },
   "outputs": [
    {
     "name": "stdout",
     "output_type": "stream",
     "text": [
      "Building Encoder\n",
      "encoder_conv_layer_0 conv params =  112 bnorm params =  32\n",
      "Tensor(\"experiment_-1_1/Relu:0\", shape=(?, 2048, 16), dtype=float32)\n",
      "output size: 32768 \n",
      "\n",
      "encoder_conv_layer_1 conv params =  1056 bnorm params =  64\n",
      "Tensor(\"experiment_-1_1/Relu_1:0\", shape=(?, 2048, 32), dtype=float32)\n",
      "output size: 65536 \n",
      "\n",
      "encoder_conv_layer_2 conv params =  4160 bnorm params =  128\n",
      "Tensor(\"experiment_-1_1/Relu_2:0\", shape=(?, 2048, 64), dtype=float32)\n",
      "output size: 131072 \n",
      "\n",
      "encoder_conv_layer_3 conv params =  16512 bnorm params =  256\n",
      "Tensor(\"experiment_-1_1/Relu_3:0\", shape=(?, 2048, 128), dtype=float32)\n",
      "output size: 262144 \n",
      "\n",
      "encoder_conv_layer_4 conv params =  526336 bnorm params =  4096\n",
      "Tensor(\"experiment_-1_1/Relu_4:0\", shape=(?, 2048, 2048), dtype=float32)\n",
      "output size: 4194304 \n",
      "\n",
      "Tensor(\"experiment_-1_1/Max:0\", shape=(?, 2048), dtype=float32)\n",
      "Building Decoder\n",
      "decoder_fc_0 FC params =  65568 bnorm params =  64\n",
      "Tensor(\"experiment_-1_1/Relu_5:0\", shape=(?, 32), dtype=float32)\n",
      "output size: 32 \n",
      "\n",
      "decoder_fc_1 FC params =  8448 bnorm params =  512\n",
      "Tensor(\"experiment_-1_1/Relu_6:0\", shape=(?, 256), dtype=float32)\n",
      "output size: 256 \n",
      "\n",
      "decoder_fc_2 FC params =  1579008 Tensor(\"experiment_-1_1/decoder_fc_2/BiasAdd:0\", shape=(?, 6144), dtype=float32)\n",
      "output size: 6144 \n",
      "\n",
      "2206352\n"
     ]
    }
   ],
   "source": [
    "if load_pretrained_model:\n",
    "    conf = Conf.load(osp.join(train_dir, 'configuration'))\n",
    "    print conf\n",
    "    if conf.train_dir != train_dir:\n",
    "        conf.train_dir = train_dir\n",
    "#     conf.save(osp.join(train_dir, 'configuration'))\n",
    "else:    \n",
    "    conf = Conf(\n",
    "                n_input = [n_pc_points, 3],\n",
    "                loss = loss,\n",
    "                training_epochs = training_epochs,\n",
    "                batch_size = batch_size,\n",
    "                denoising = False,\n",
    "                learning_rate = learning_rate,\n",
    "                train_dir = train_dir,\n",
    "                loss_display_step = 1,\n",
    "                saver_step = None,\n",
    "                z_rotate = False,\n",
    "                encoder = encoder,\n",
    "                decoder = decoder,\n",
    "                encoder_args = encoder_args,\n",
    "                decoder_args = decoder_args\n",
    "               )\n",
    "\n",
    "conf.experiment_name = 'experiment_' + str(exp_id)\n",
    "conf.held_out_step = 5\n",
    "reset_tf_graph()\n",
    "ae = PointNetAutoEncoder(conf.experiment_name, conf)\n",
    "print ae.trainable_parameters()"
   ]
  },
  {
   "cell_type": "code",
   "execution_count": 23,
   "metadata": {
    "collapsed": false
   },
   "outputs": [
    {
     "name": "stdout",
     "output_type": "stream",
     "text": [
      "('Epoch:', '0001', 'training time (minutes)=', '0.8430', 'loss=', '0.004849095')\n",
      "('Epoch:', '0002', 'training time (minutes)=', '0.7724', 'loss=', '0.002718080')\n",
      "('Epoch:', '0003', 'training time (minutes)=', '0.7672', 'loss=', '0.002391661')\n",
      "('Epoch:', '0004', 'training time (minutes)=', '0.7755', 'loss=', '0.002173143')\n",
      "('Epoch:', '0005', 'training time (minutes)=', '0.7758', 'loss=', '0.002036879')\n",
      "('Held Out Data :', 'forward time (minutes)=', '0.0211', 'loss=', '0.001973703')\n",
      "('Epoch:', '0006', 'training time (minutes)=', '0.7755', 'loss=', '0.001930233')\n",
      "('Epoch:', '0007', 'training time (minutes)=', '0.7669', 'loss=', '0.001850985')\n",
      "('Epoch:', '0008', 'training time (minutes)=', '0.7765', 'loss=', '0.001768912')\n",
      "('Epoch:', '0009', 'training time (minutes)=', '0.7667', 'loss=', '0.001731401')\n",
      "('Epoch:', '0010', 'training time (minutes)=', '0.7803', 'loss=', '0.001669446')\n",
      "('Held Out Data :', 'forward time (minutes)=', '0.0203', 'loss=', '0.001731193')\n",
      "('Epoch:', '0011', 'training time (minutes)=', '0.7624', 'loss=', '0.001627317')\n",
      "('Epoch:', '0012', 'training time (minutes)=', '0.7744', 'loss=', '0.001582366')\n",
      "('Epoch:', '0013', 'training time (minutes)=', '0.7645', 'loss=', '0.001562168')\n",
      "('Epoch:', '0014', 'training time (minutes)=', '0.7632', 'loss=', '0.001490853')\n",
      "('Epoch:', '0015', 'training time (minutes)=', '0.7784', 'loss=', '0.001461091')\n",
      "('Held Out Data :', 'forward time (minutes)=', '0.0210', 'loss=', '0.001636025')\n",
      "('Epoch:', '0016', 'training time (minutes)=', '0.7667', 'loss=', '0.001425284')\n",
      "('Epoch:', '0017', 'training time (minutes)=', '0.7774', 'loss=', '0.001421301')\n",
      "('Epoch:', '0018', 'training time (minutes)=', '0.7707', 'loss=', '0.001406309')\n",
      "('Epoch:', '0019', 'training time (minutes)=', '0.7643', 'loss=', '0.001389061')\n",
      "('Epoch:', '0020', 'training time (minutes)=', '0.7681', 'loss=', '0.001319665')\n",
      "('Held Out Data :', 'forward time (minutes)=', '0.0219', 'loss=', '0.001480811')\n",
      "('Epoch:', '0021', 'training time (minutes)=', '0.7609', 'loss=', '0.001339049')\n",
      "('Epoch:', '0022', 'training time (minutes)=', '0.7748', 'loss=', '0.001304965')\n",
      "('Epoch:', '0023', 'training time (minutes)=', '0.7684', 'loss=', '0.001270136')\n",
      "('Epoch:', '0024', 'training time (minutes)=', '0.7784', 'loss=', '0.001235088')\n",
      "('Epoch:', '0025', 'training time (minutes)=', '0.7732', 'loss=', '0.001231378')\n",
      "('Held Out Data :', 'forward time (minutes)=', '0.0202', 'loss=', '0.001392236')\n",
      "('Epoch:', '0026', 'training time (minutes)=', '0.7671', 'loss=', '0.001224904')\n",
      "('Epoch:', '0027', 'training time (minutes)=', '0.7804', 'loss=', '0.001216376')\n",
      "('Epoch:', '0028', 'training time (minutes)=', '0.7584', 'loss=', '0.001162606')\n",
      "('Epoch:', '0029', 'training time (minutes)=', '0.7722', 'loss=', '0.001148093')\n",
      "('Epoch:', '0030', 'training time (minutes)=', '0.7686', 'loss=', '0.001154837')\n",
      "('Held Out Data :', 'forward time (minutes)=', '0.0214', 'loss=', '0.001505543')\n",
      "('Epoch:', '0031', 'training time (minutes)=', '0.7723', 'loss=', '0.001185338')\n",
      "('Epoch:', '0032', 'training time (minutes)=', '0.7716', 'loss=', '0.001149844')\n",
      "('Epoch:', '0033', 'training time (minutes)=', '0.7625', 'loss=', '0.001108141')\n",
      "('Epoch:', '0034', 'training time (minutes)=', '0.7766', 'loss=', '0.001136268')\n",
      "('Epoch:', '0035', 'training time (minutes)=', '0.7640', 'loss=', '0.001087233')\n",
      "('Held Out Data :', 'forward time (minutes)=', '0.0206', 'loss=', '0.001717498')\n",
      "('Epoch:', '0036', 'training time (minutes)=', '0.7662', 'loss=', '0.001129667')\n",
      "('Epoch:', '0037', 'training time (minutes)=', '0.7697', 'loss=', '0.001199385')\n",
      "('Epoch:', '0038', 'training time (minutes)=', '0.7738', 'loss=', '0.001100301')\n",
      "('Epoch:', '0039', 'training time (minutes)=', '0.7785', 'loss=', '0.001085451')\n",
      "('Epoch:', '0040', 'training time (minutes)=', '0.7687', 'loss=', '0.001055369')\n",
      "('Held Out Data :', 'forward time (minutes)=', '0.0202', 'loss=', '0.001335543')\n",
      "('Epoch:', '0041', 'training time (minutes)=', '0.7732', 'loss=', '0.001038562')\n",
      "('Epoch:', '0042', 'training time (minutes)=', '0.7632', 'loss=', '0.001046643')\n",
      "('Epoch:', '0043', 'training time (minutes)=', '0.7737', 'loss=', '0.001021758')\n",
      "('Epoch:', '0044', 'training time (minutes)=', '0.7624', 'loss=', '0.001020230')\n",
      "('Epoch:', '0045', 'training time (minutes)=', '0.7644', 'loss=', '0.001044030')\n",
      "('Held Out Data :', 'forward time (minutes)=', '0.0209', 'loss=', '0.001243738')\n",
      "('Epoch:', '0046', 'training time (minutes)=', '0.7660', 'loss=', '0.001015467')\n",
      "('Epoch:', '0047', 'training time (minutes)=', '0.7657', 'loss=', '0.001017317')\n",
      "('Epoch:', '0048', 'training time (minutes)=', '0.7747', 'loss=', '0.000964318')\n",
      "('Epoch:', '0049', 'training time (minutes)=', '0.7724', 'loss=', '0.000972654')\n",
      "('Epoch:', '0050', 'training time (minutes)=', '0.7680', 'loss=', '0.000963742')\n",
      "('Held Out Data :', 'forward time (minutes)=', '0.0206', 'loss=', '0.001133626')\n",
      "('Epoch:', '0051', 'training time (minutes)=', '0.7804', 'loss=', '0.000962176')\n",
      "('Epoch:', '0052', 'training time (minutes)=', '0.7629', 'loss=', '0.000942669')\n",
      "('Epoch:', '0053', 'training time (minutes)=', '0.7688', 'loss=', '0.000947819')\n",
      "('Epoch:', '0054', 'training time (minutes)=', '0.7714', 'loss=', '0.000974635')\n",
      "('Epoch:', '0055', 'training time (minutes)=', '0.7701', 'loss=', '0.000931224')\n",
      "('Held Out Data :', 'forward time (minutes)=', '0.0214', 'loss=', '0.001251843')\n",
      "('Epoch:', '0056', 'training time (minutes)=', '0.7646', 'loss=', '0.000936165')\n",
      "('Epoch:', '0057', 'training time (minutes)=', '0.7775', 'loss=', '0.000950201')\n",
      "('Epoch:', '0058', 'training time (minutes)=', '0.7777', 'loss=', '0.000928398')\n",
      "('Epoch:', '0059', 'training time (minutes)=', '0.7664', 'loss=', '0.000925341')\n",
      "('Epoch:', '0060', 'training time (minutes)=', '0.7769', 'loss=', '0.000911273')\n",
      "('Held Out Data :', 'forward time (minutes)=', '0.0209', 'loss=', '0.001128311')\n",
      "('Epoch:', '0061', 'training time (minutes)=', '0.7630', 'loss=', '0.000916467')\n",
      "('Epoch:', '0062', 'training time (minutes)=', '0.7699', 'loss=', '0.000892089')\n",
      "('Epoch:', '0063', 'training time (minutes)=', '0.7634', 'loss=', '0.000891652')\n",
      "('Epoch:', '0064', 'training time (minutes)=', '0.7710', 'loss=', '0.000892874')\n",
      "('Epoch:', '0065', 'training time (minutes)=', '0.7666', 'loss=', '0.000881625')\n",
      "('Held Out Data :', 'forward time (minutes)=', '0.0202', 'loss=', '0.001509470')\n",
      "('Epoch:', '0066', 'training time (minutes)=', '0.7535', 'loss=', '0.000896908')\n",
      "('Epoch:', '0067', 'training time (minutes)=', '0.7658', 'loss=', '0.000874597')\n",
      "('Epoch:', '0068', 'training time (minutes)=', '0.7521', 'loss=', '0.000895229')\n",
      "('Epoch:', '0069', 'training time (minutes)=', '0.7617', 'loss=', '0.000882656')\n",
      "('Epoch:', '0070', 'training time (minutes)=', '0.7567', 'loss=', '0.000893856')\n",
      "('Held Out Data :', 'forward time (minutes)=', '0.0149', 'loss=', '0.001116987')\n",
      "('Epoch:', '0071', 'training time (minutes)=', '0.7636', 'loss=', '0.000877550')\n",
      "('Epoch:', '0072', 'training time (minutes)=', '0.7647', 'loss=', '0.000867730')\n",
      "('Epoch:', '0073', 'training time (minutes)=', '0.7543', 'loss=', '0.000846133')\n",
      "('Epoch:', '0074', 'training time (minutes)=', '0.7654', 'loss=', '0.000861379')\n",
      "('Epoch:', '0075', 'training time (minutes)=', '0.7530', 'loss=', '0.000846658')\n",
      "('Held Out Data :', 'forward time (minutes)=', '0.0202', 'loss=', '0.001502386')\n",
      "('Epoch:', '0076', 'training time (minutes)=', '0.7646', 'loss=', '0.000865829')\n",
      "('Epoch:', '0077', 'training time (minutes)=', '0.7549', 'loss=', '0.000850756')\n",
      "('Epoch:', '0078', 'training time (minutes)=', '0.7573', 'loss=', '0.000836974')\n",
      "('Epoch:', '0079', 'training time (minutes)=', '0.7623', 'loss=', '0.000856998')\n",
      "('Epoch:', '0080', 'training time (minutes)=', '0.7541', 'loss=', '0.000820853')\n",
      "('Held Out Data :', 'forward time (minutes)=', '0.0204', 'loss=', '0.001154084')\n",
      "('Epoch:', '0081', 'training time (minutes)=', '0.7631', 'loss=', '0.000831896')\n",
      "('Epoch:', '0082', 'training time (minutes)=', '0.7552', 'loss=', '0.000854367')\n",
      "('Epoch:', '0083', 'training time (minutes)=', '0.7655', 'loss=', '0.000830684')\n",
      "('Epoch:', '0084', 'training time (minutes)=', '0.7560', 'loss=', '0.000828795')\n",
      "('Epoch:', '0085', 'training time (minutes)=', '0.7544', 'loss=', '0.000832455')\n",
      "('Held Out Data :', 'forward time (minutes)=', '0.0204', 'loss=', '0.001016863')\n",
      "('Epoch:', '0086', 'training time (minutes)=', '0.7645', 'loss=', '0.000840644')\n",
      "('Epoch:', '0087', 'training time (minutes)=', '0.7528', 'loss=', '0.000821858')\n",
      "('Epoch:', '0088', 'training time (minutes)=', '0.7634', 'loss=', '0.000814497')\n",
      "('Epoch:', '0089', 'training time (minutes)=', '0.7539', 'loss=', '0.000825665')\n",
      "('Epoch:', '0090', 'training time (minutes)=', '0.7624', 'loss=', '0.000815688')\n",
      "('Held Out Data :', 'forward time (minutes)=', '0.0201', 'loss=', '0.001450658')\n",
      "('Epoch:', '0091', 'training time (minutes)=', '0.7586', 'loss=', '0.000823142')\n",
      "('Epoch:', '0092', 'training time (minutes)=', '0.7494', 'loss=', '0.000798453')\n",
      "('Epoch:', '0093', 'training time (minutes)=', '0.7652', 'loss=', '0.000790844')\n",
      "('Epoch:', '0094', 'training time (minutes)=', '0.7537', 'loss=', '0.000813454')\n",
      "('Epoch:', '0095', 'training time (minutes)=', '0.7656', 'loss=', '0.000836787')\n",
      "('Held Out Data :', 'forward time (minutes)=', '0.0204', 'loss=', '0.001055245')\n",
      "('Epoch:', '0096', 'training time (minutes)=', '0.7536', 'loss=', '0.000797839')\n",
      "('Epoch:', '0097', 'training time (minutes)=', '0.7649', 'loss=', '0.000791999')\n",
      "('Epoch:', '0098', 'training time (minutes)=', '0.7576', 'loss=', '0.000778235')\n",
      "('Epoch:', '0099', 'training time (minutes)=', '0.7591', 'loss=', '0.000789502')\n",
      "('Epoch:', '0100', 'training time (minutes)=', '0.7629', 'loss=', '0.000771022')\n",
      "('Held Out Data :', 'forward time (minutes)=', '0.0203', 'loss=', '0.000971644')\n",
      "('Epoch:', '0101', 'training time (minutes)=', '0.7532', 'loss=', '0.000795063')\n",
      "('Epoch:', '0102', 'training time (minutes)=', '0.7639', 'loss=', '0.000780848')\n",
      "('Epoch:', '0103', 'training time (minutes)=', '0.7547', 'loss=', '0.000763233')\n",
      "('Epoch:', '0104', 'training time (minutes)=', '0.7638', 'loss=', '0.000764553')\n",
      "('Epoch:', '0105', 'training time (minutes)=', '0.7560', 'loss=', '0.000785622')\n",
      "('Held Out Data :', 'forward time (minutes)=', '0.0205', 'loss=', '0.000955914')\n",
      "('Epoch:', '0106', 'training time (minutes)=', '0.7534', 'loss=', '0.000796817')\n",
      "('Epoch:', '0107', 'training time (minutes)=', '0.7650', 'loss=', '0.000754630')\n",
      "('Epoch:', '0108', 'training time (minutes)=', '0.7540', 'loss=', '0.000792760')\n",
      "('Epoch:', '0109', 'training time (minutes)=', '0.7638', 'loss=', '0.000791555')\n",
      "('Epoch:', '0110', 'training time (minutes)=', '0.7553', 'loss=', '0.000751352')\n",
      "('Held Out Data :', 'forward time (minutes)=', '0.0205', 'loss=', '0.000935625')\n",
      "('Epoch:', '0111', 'training time (minutes)=', '0.7641', 'loss=', '0.000764391')\n",
      "('Epoch:', '0112', 'training time (minutes)=', '0.7549', 'loss=', '0.000749585')\n",
      "('Epoch:', '0113', 'training time (minutes)=', '0.7569', 'loss=', '0.000751838')\n",
      "('Epoch:', '0114', 'training time (minutes)=', '0.7664', 'loss=', '0.000749163')\n",
      "('Epoch:', '0115', 'training time (minutes)=', '0.7533', 'loss=', '0.000752295')\n",
      "('Held Out Data :', 'forward time (minutes)=', '0.0208', 'loss=', '0.001190222')\n",
      "('Epoch:', '0116', 'training time (minutes)=', '0.7661', 'loss=', '0.000741968')\n",
      "('Epoch:', '0117', 'training time (minutes)=', '0.7520', 'loss=', '0.000736160')\n",
      "('Epoch:', '0118', 'training time (minutes)=', '0.7650', 'loss=', '0.000744474')\n",
      "('Epoch:', '0119', 'training time (minutes)=', '0.7557', 'loss=', '0.000740043')\n",
      "('Epoch:', '0120', 'training time (minutes)=', '0.7538', 'loss=', '0.000724494')\n",
      "('Held Out Data :', 'forward time (minutes)=', '0.0207', 'loss=', '0.000977785')\n",
      "('Epoch:', '0121', 'training time (minutes)=', '0.7627', 'loss=', '0.000728171')\n",
      "('Epoch:', '0122', 'training time (minutes)=', '0.7522', 'loss=', '0.000734474')\n",
      "('Epoch:', '0123', 'training time (minutes)=', '0.7652', 'loss=', '0.000730876')\n",
      "('Epoch:', '0124', 'training time (minutes)=', '0.7537', 'loss=', '0.000727746')\n",
      "('Epoch:', '0125', 'training time (minutes)=', '0.7637', 'loss=', '0.000736454')\n",
      "('Held Out Data :', 'forward time (minutes)=', '0.0203', 'loss=', '0.001168625')\n",
      "('Epoch:', '0126', 'training time (minutes)=', '0.7563', 'loss=', '0.000731860')\n",
      "('Epoch:', '0127', 'training time (minutes)=', '0.7545', 'loss=', '0.000723668')\n",
      "('Epoch:', '0128', 'training time (minutes)=', '0.7638', 'loss=', '0.000719948')\n",
      "('Epoch:', '0129', 'training time (minutes)=', '0.7543', 'loss=', '0.000742698')\n",
      "('Epoch:', '0130', 'training time (minutes)=', '0.7628', 'loss=', '0.000762428')\n",
      "('Held Out Data :', 'forward time (minutes)=', '0.0201', 'loss=', '0.000920560')\n",
      "('Epoch:', '0131', 'training time (minutes)=', '0.7507', 'loss=', '0.000721197')\n",
      "('Epoch:', '0132', 'training time (minutes)=', '0.7629', 'loss=', '0.000710091')\n",
      "('Epoch:', '0133', 'training time (minutes)=', '0.7646', 'loss=', '0.000719405')\n",
      "('Epoch:', '0134', 'training time (minutes)=', '0.7544', 'loss=', '0.000709046')\n",
      "('Epoch:', '0135', 'training time (minutes)=', '0.7569', 'loss=', '0.000726048')\n",
      "('Held Out Data :', 'forward time (minutes)=', '0.0205', 'loss=', '0.000893336')\n",
      "('Epoch:', '0136', 'training time (minutes)=', '0.7509', 'loss=', '0.000705804')\n",
      "('Epoch:', '0137', 'training time (minutes)=', '0.7645', 'loss=', '0.000709853')\n",
      "('Epoch:', '0138', 'training time (minutes)=', '0.7497', 'loss=', '0.000693655')\n",
      "('Epoch:', '0139', 'training time (minutes)=', '0.7625', 'loss=', '0.000698548')\n",
      "('Epoch:', '0140', 'training time (minutes)=', '0.7644', 'loss=', '0.000705633')\n",
      "('Held Out Data :', 'forward time (minutes)=', '0.0207', 'loss=', '0.001223354')\n",
      "('Epoch:', '0141', 'training time (minutes)=', '0.7455', 'loss=', '0.000693663')\n",
      "('Epoch:', '0142', 'training time (minutes)=', '0.7630', 'loss=', '0.000710564')\n",
      "('Epoch:', '0143', 'training time (minutes)=', '0.7567', 'loss=', '0.000688734')\n",
      "('Epoch:', '0144', 'training time (minutes)=', '0.7639', 'loss=', '0.000694617')\n",
      "('Epoch:', '0145', 'training time (minutes)=', '0.7527', 'loss=', '0.000692484')\n",
      "('Held Out Data :', 'forward time (minutes)=', '0.0206', 'loss=', '0.000919627')\n",
      "('Epoch:', '0146', 'training time (minutes)=', '0.7656', 'loss=', '0.000694168')\n",
      "('Epoch:', '0147', 'training time (minutes)=', '0.7640', 'loss=', '0.000691730')\n",
      "('Epoch:', '0148', 'training time (minutes)=', '0.7527', 'loss=', '0.000692535')\n",
      "('Epoch:', '0149', 'training time (minutes)=', '0.7560', 'loss=', '0.000708311')\n",
      "('Epoch:', '0150', 'training time (minutes)=', '0.7538', 'loss=', '0.000717084')\n",
      "('Held Out Data :', 'forward time (minutes)=', '0.0203', 'loss=', '0.001096402')\n",
      "('Epoch:', '0151', 'training time (minutes)=', '0.7633', 'loss=', '0.000699698')\n",
      "('Epoch:', '0152', 'training time (minutes)=', '0.7529', 'loss=', '0.000698960')\n",
      "('Epoch:', '0153', 'training time (minutes)=', '0.7663', 'loss=', '0.000681587')\n",
      "('Epoch:', '0154', 'training time (minutes)=', '0.7659', 'loss=', '0.000677957')\n",
      "('Epoch:', '0155', 'training time (minutes)=', '0.7552', 'loss=', '0.000678969')\n",
      "('Held Out Data :', 'forward time (minutes)=', '0.0207', 'loss=', '0.000904964')\n",
      "('Epoch:', '0156', 'training time (minutes)=', '0.7622', 'loss=', '0.000671745')\n",
      "('Epoch:', '0157', 'training time (minutes)=', '0.7570', 'loss=', '0.000766997')\n",
      "('Epoch:', '0158', 'training time (minutes)=', '0.7658', 'loss=', '0.000720507')\n",
      "('Epoch:', '0159', 'training time (minutes)=', '0.7524', 'loss=', '0.000679935')\n",
      "('Epoch:', '0160', 'training time (minutes)=', '0.7675', 'loss=', '0.000685037')\n",
      "('Held Out Data :', 'forward time (minutes)=', '0.0204', 'loss=', '0.001116680')\n",
      "('Epoch:', '0161', 'training time (minutes)=', '0.7715', 'loss=', '0.000676727')\n",
      "('Epoch:', '0162', 'training time (minutes)=', '0.7532', 'loss=', '0.000668604')\n",
      "('Epoch:', '0163', 'training time (minutes)=', '0.7734', 'loss=', '0.000679803')\n",
      "('Epoch:', '0164', 'training time (minutes)=', '0.7648', 'loss=', '0.000667790')\n",
      "('Epoch:', '0165', 'training time (minutes)=', '0.7748', 'loss=', '0.000680547')\n",
      "('Held Out Data :', 'forward time (minutes)=', '0.0203', 'loss=', '0.000979567')\n",
      "('Epoch:', '0166', 'training time (minutes)=', '0.7604', 'loss=', '0.000669287')\n",
      "('Epoch:', '0167', 'training time (minutes)=', '0.7760', 'loss=', '0.000664900')\n",
      "('Epoch:', '0168', 'training time (minutes)=', '0.7671', 'loss=', '0.000671511')\n",
      "('Epoch:', '0169', 'training time (minutes)=', '0.7634', 'loss=', '0.000654600')\n",
      "('Epoch:', '0170', 'training time (minutes)=', '0.7703', 'loss=', '0.000686017')\n",
      "('Held Out Data :', 'forward time (minutes)=', '0.0161', 'loss=', '0.000869777')\n",
      "('Epoch:', '0171', 'training time (minutes)=', '0.7631', 'loss=', '0.000673115')\n",
      "('Epoch:', '0172', 'training time (minutes)=', '0.7716', 'loss=', '0.000665407')\n",
      "('Epoch:', '0173', 'training time (minutes)=', '0.7654', 'loss=', '0.000690206')\n",
      "('Epoch:', '0174', 'training time (minutes)=', '0.7702', 'loss=', '0.000670896')\n",
      "('Epoch:', '0175', 'training time (minutes)=', '0.7773', 'loss=', '0.000665127')\n",
      "('Held Out Data :', 'forward time (minutes)=', '0.0204', 'loss=', '0.000934597')\n",
      "('Epoch:', '0176', 'training time (minutes)=', '0.7628', 'loss=', '0.000668491')\n",
      "('Epoch:', '0177', 'training time (minutes)=', '0.7767', 'loss=', '0.000660988')\n",
      "('Epoch:', '0178', 'training time (minutes)=', '0.7602', 'loss=', '0.000652626')\n",
      "('Epoch:', '0179', 'training time (minutes)=', '0.7718', 'loss=', '0.000659825')\n",
      "('Epoch:', '0180', 'training time (minutes)=', '0.7650', 'loss=', '0.000655672')\n",
      "('Held Out Data :', 'forward time (minutes)=', '0.0211', 'loss=', '0.000959663')\n",
      "('Epoch:', '0181', 'training time (minutes)=', '0.7718', 'loss=', '0.000649109')\n",
      "('Epoch:', '0182', 'training time (minutes)=', '0.7707', 'loss=', '0.000658102')\n",
      "('Epoch:', '0183', 'training time (minutes)=', '0.7668', 'loss=', '0.000658449')\n",
      "('Epoch:', '0184', 'training time (minutes)=', '0.7737', 'loss=', '0.000647223')\n",
      "('Epoch:', '0185', 'training time (minutes)=', '0.7639', 'loss=', '0.000654895')\n",
      "('Held Out Data :', 'forward time (minutes)=', '0.0206', 'loss=', '0.000973528')\n",
      "('Epoch:', '0186', 'training time (minutes)=', '0.7650', 'loss=', '0.000655171')\n",
      "('Epoch:', '0187', 'training time (minutes)=', '0.7708', 'loss=', '0.000646993')\n",
      "('Epoch:', '0188', 'training time (minutes)=', '0.7655', 'loss=', '0.000646633')\n",
      "('Epoch:', '0189', 'training time (minutes)=', '0.7717', 'loss=', '0.000665974')\n",
      "('Epoch:', '0190', 'training time (minutes)=', '0.7626', 'loss=', '0.000651078')\n",
      "('Held Out Data :', 'forward time (minutes)=', '0.0207', 'loss=', '0.000859716')\n",
      "('Epoch:', '0191', 'training time (minutes)=', '0.7758', 'loss=', '0.000655961')\n",
      "('Epoch:', '0192', 'training time (minutes)=', '0.7600', 'loss=', '0.000649092')\n",
      "('Epoch:', '0193', 'training time (minutes)=', '0.7772', 'loss=', '0.000645554')\n",
      "('Epoch:', '0194', 'training time (minutes)=', '0.7730', 'loss=', '0.000654705')\n"
     ]
    },
    {
     "ename": "KeyboardInterrupt",
     "evalue": "",
     "output_type": "error",
     "traceback": [
      "\u001b[0;31m---------------------------------------------------------------------------\u001b[0m",
      "\u001b[0;31mKeyboardInterrupt\u001b[0m                         Traceback (most recent call last)",
      "\u001b[0;32m<ipython-input-23-d2353fb92c39>\u001b[0m in \u001b[0;36m<module>\u001b[0;34m()\u001b[0m\n\u001b[1;32m      2\u001b[0m     \u001b[0mbuf_size\u001b[0m \u001b[0;34m=\u001b[0m \u001b[0;36m1\u001b[0m \u001b[0;31m# flush each line\u001b[0m\u001b[0;34m\u001b[0m\u001b[0m\n\u001b[1;32m      3\u001b[0m     \u001b[0mfout\u001b[0m \u001b[0;34m=\u001b[0m \u001b[0mopen\u001b[0m\u001b[0;34m(\u001b[0m\u001b[0mosp\u001b[0m\u001b[0;34m.\u001b[0m\u001b[0mjoin\u001b[0m\u001b[0;34m(\u001b[0m\u001b[0mconf\u001b[0m\u001b[0;34m.\u001b[0m\u001b[0mtrain_dir\u001b[0m\u001b[0;34m,\u001b[0m \u001b[0;34m'train_stats.txt'\u001b[0m\u001b[0;34m)\u001b[0m\u001b[0;34m,\u001b[0m \u001b[0;34m'a'\u001b[0m\u001b[0;34m,\u001b[0m \u001b[0mbuf_size\u001b[0m\u001b[0;34m)\u001b[0m\u001b[0;34m\u001b[0m\u001b[0m\n\u001b[0;32m----> 4\u001b[0;31m     \u001b[0mtrain_stats\u001b[0m \u001b[0;34m=\u001b[0m \u001b[0mae\u001b[0m\u001b[0;34m.\u001b[0m\u001b[0mtrain\u001b[0m\u001b[0;34m(\u001b[0m\u001b[0min_data\u001b[0m\u001b[0;34m[\u001b[0m\u001b[0;34m'train'\u001b[0m\u001b[0;34m]\u001b[0m\u001b[0;34m,\u001b[0m \u001b[0mconf\u001b[0m\u001b[0;34m,\u001b[0m \u001b[0mlog_file\u001b[0m\u001b[0;34m=\u001b[0m\u001b[0mfout\u001b[0m\u001b[0;34m,\u001b[0m \u001b[0mheld_out_data\u001b[0m\u001b[0;34m=\u001b[0m\u001b[0min_data\u001b[0m\u001b[0;34m[\u001b[0m\u001b[0;34m'test'\u001b[0m\u001b[0;34m]\u001b[0m\u001b[0;34m)\u001b[0m\u001b[0;34m\u001b[0m\u001b[0m\n\u001b[0m\u001b[1;32m      5\u001b[0m     \u001b[0mfout\u001b[0m\u001b[0;34m.\u001b[0m\u001b[0mclose\u001b[0m\u001b[0;34m(\u001b[0m\u001b[0;34m)\u001b[0m\u001b[0;34m\u001b[0m\u001b[0m\n",
      "\u001b[0;32m/orions4-zfs/projects/optas/Git_Repos/tf_lab/point_clouds/autoencoder.pyc\u001b[0m in \u001b[0;36mtrain\u001b[0;34m(self, train_data, configuration, log_file, held_out_data)\u001b[0m\n\u001b[1;32m    187\u001b[0m \u001b[0;34m\u001b[0m\u001b[0m\n\u001b[1;32m    188\u001b[0m         \u001b[0;32mfor\u001b[0m \u001b[0m_\u001b[0m \u001b[0;32min\u001b[0m \u001b[0mxrange\u001b[0m\u001b[0;34m(\u001b[0m\u001b[0mc\u001b[0m\u001b[0;34m.\u001b[0m\u001b[0mtraining_epochs\u001b[0m\u001b[0;34m)\u001b[0m\u001b[0;34m:\u001b[0m\u001b[0;34m\u001b[0m\u001b[0m\n\u001b[0;32m--> 189\u001b[0;31m             \u001b[0mloss\u001b[0m\u001b[0;34m,\u001b[0m \u001b[0mduration\u001b[0m \u001b[0;34m=\u001b[0m \u001b[0mself\u001b[0m\u001b[0;34m.\u001b[0m\u001b[0m_single_epoch_train\u001b[0m\u001b[0;34m(\u001b[0m\u001b[0mtrain_data\u001b[0m\u001b[0;34m,\u001b[0m \u001b[0mc\u001b[0m\u001b[0;34m)\u001b[0m\u001b[0;34m\u001b[0m\u001b[0m\n\u001b[0m\u001b[1;32m    190\u001b[0m             \u001b[0mepoch\u001b[0m \u001b[0;34m=\u001b[0m \u001b[0mint\u001b[0m\u001b[0;34m(\u001b[0m\u001b[0mself\u001b[0m\u001b[0;34m.\u001b[0m\u001b[0msess\u001b[0m\u001b[0;34m.\u001b[0m\u001b[0mrun\u001b[0m\u001b[0;34m(\u001b[0m\u001b[0mself\u001b[0m\u001b[0;34m.\u001b[0m\u001b[0mepoch\u001b[0m\u001b[0;34m.\u001b[0m\u001b[0massign_add\u001b[0m\u001b[0;34m(\u001b[0m\u001b[0mtf\u001b[0m\u001b[0;34m.\u001b[0m\u001b[0mconstant\u001b[0m\u001b[0;34m(\u001b[0m\u001b[0;36m1.0\u001b[0m\u001b[0;34m)\u001b[0m\u001b[0;34m)\u001b[0m\u001b[0;34m)\u001b[0m\u001b[0;34m)\u001b[0m\u001b[0;34m\u001b[0m\u001b[0m\n\u001b[1;32m    191\u001b[0m             \u001b[0mstats\u001b[0m\u001b[0;34m.\u001b[0m\u001b[0mappend\u001b[0m\u001b[0;34m(\u001b[0m\u001b[0;34m(\u001b[0m\u001b[0mepoch\u001b[0m\u001b[0;34m,\u001b[0m \u001b[0mloss\u001b[0m\u001b[0;34m,\u001b[0m \u001b[0mduration\u001b[0m\u001b[0;34m)\u001b[0m\u001b[0;34m)\u001b[0m\u001b[0;34m\u001b[0m\u001b[0m\n",
      "\u001b[0;32m/orions4-zfs/projects/optas/Git_Repos/tf_lab/point_clouds/point_net_ae.pyc\u001b[0m in \u001b[0;36m_single_epoch_train\u001b[0;34m(self, train_data, configuration, only_fw)\u001b[0m\n\u001b[1;32m    147\u001b[0m                 \u001b[0m_\u001b[0m\u001b[0;34m,\u001b[0m \u001b[0mloss\u001b[0m \u001b[0;34m=\u001b[0m \u001b[0mfit\u001b[0m\u001b[0;34m(\u001b[0m\u001b[0mbatch_i\u001b[0m\u001b[0;34m,\u001b[0m \u001b[0moriginal_data\u001b[0m\u001b[0;34m)\u001b[0m\u001b[0;34m\u001b[0m\u001b[0m\n\u001b[1;32m    148\u001b[0m             \u001b[0;32melse\u001b[0m\u001b[0;34m:\u001b[0m\u001b[0;34m\u001b[0m\u001b[0m\n\u001b[0;32m--> 149\u001b[0;31m                 \u001b[0m_\u001b[0m\u001b[0;34m,\u001b[0m \u001b[0mloss\u001b[0m \u001b[0;34m=\u001b[0m \u001b[0mfit\u001b[0m\u001b[0;34m(\u001b[0m\u001b[0mbatch_i\u001b[0m\u001b[0;34m)\u001b[0m\u001b[0;34m\u001b[0m\u001b[0m\n\u001b[0m\u001b[1;32m    150\u001b[0m \u001b[0;34m\u001b[0m\u001b[0m\n\u001b[1;32m    151\u001b[0m             \u001b[0;31m# Compute average loss\u001b[0m\u001b[0;34m\u001b[0m\u001b[0;34m\u001b[0m\u001b[0m\n",
      "\u001b[0;32m/orions4-zfs/projects/optas/Git_Repos/tf_lab/point_clouds/autoencoder.pyc\u001b[0m in \u001b[0;36mpartial_fit\u001b[0;34m(self, X, GT)\u001b[0m\n\u001b[1;32m    135\u001b[0m                 \u001b[0m_\u001b[0m\u001b[0;34m,\u001b[0m \u001b[0mloss\u001b[0m\u001b[0;34m,\u001b[0m \u001b[0mrecon\u001b[0m \u001b[0;34m=\u001b[0m \u001b[0mself\u001b[0m\u001b[0;34m.\u001b[0m\u001b[0msess\u001b[0m\u001b[0;34m.\u001b[0m\u001b[0mrun\u001b[0m\u001b[0;34m(\u001b[0m\u001b[0;34m(\u001b[0m\u001b[0mself\u001b[0m\u001b[0;34m.\u001b[0m\u001b[0mtrain_step\u001b[0m\u001b[0;34m,\u001b[0m \u001b[0mself\u001b[0m\u001b[0;34m.\u001b[0m\u001b[0mloss\u001b[0m\u001b[0;34m,\u001b[0m \u001b[0mself\u001b[0m\u001b[0;34m.\u001b[0m\u001b[0mx_reconstr\u001b[0m\u001b[0;34m)\u001b[0m\u001b[0;34m,\u001b[0m \u001b[0mfeed_dict\u001b[0m\u001b[0;34m=\u001b[0m\u001b[0;34m{\u001b[0m\u001b[0mself\u001b[0m\u001b[0;34m.\u001b[0m\u001b[0mx\u001b[0m\u001b[0;34m:\u001b[0m \u001b[0mX\u001b[0m\u001b[0;34m,\u001b[0m \u001b[0mself\u001b[0m\u001b[0;34m.\u001b[0m\u001b[0mgt\u001b[0m\u001b[0;34m:\u001b[0m \u001b[0mGT\u001b[0m\u001b[0;34m}\u001b[0m\u001b[0;34m)\u001b[0m\u001b[0;34m\u001b[0m\u001b[0m\n\u001b[1;32m    136\u001b[0m             \u001b[0;32melse\u001b[0m\u001b[0;34m:\u001b[0m\u001b[0;34m\u001b[0m\u001b[0m\n\u001b[0;32m--> 137\u001b[0;31m                 \u001b[0m_\u001b[0m\u001b[0;34m,\u001b[0m \u001b[0mloss\u001b[0m\u001b[0;34m,\u001b[0m \u001b[0mrecon\u001b[0m \u001b[0;34m=\u001b[0m \u001b[0mself\u001b[0m\u001b[0;34m.\u001b[0m\u001b[0msess\u001b[0m\u001b[0;34m.\u001b[0m\u001b[0mrun\u001b[0m\u001b[0;34m(\u001b[0m\u001b[0;34m(\u001b[0m\u001b[0mself\u001b[0m\u001b[0;34m.\u001b[0m\u001b[0mtrain_step\u001b[0m\u001b[0;34m,\u001b[0m \u001b[0mself\u001b[0m\u001b[0;34m.\u001b[0m\u001b[0mloss\u001b[0m\u001b[0;34m,\u001b[0m \u001b[0mself\u001b[0m\u001b[0;34m.\u001b[0m\u001b[0mx_reconstr\u001b[0m\u001b[0;34m)\u001b[0m\u001b[0;34m,\u001b[0m \u001b[0mfeed_dict\u001b[0m\u001b[0;34m=\u001b[0m\u001b[0;34m{\u001b[0m\u001b[0mself\u001b[0m\u001b[0;34m.\u001b[0m\u001b[0mx\u001b[0m\u001b[0;34m:\u001b[0m \u001b[0mX\u001b[0m\u001b[0;34m}\u001b[0m\u001b[0;34m)\u001b[0m\u001b[0;34m\u001b[0m\u001b[0m\n\u001b[0m\u001b[1;32m    138\u001b[0m \u001b[0;34m\u001b[0m\u001b[0m\n\u001b[1;32m    139\u001b[0m             \u001b[0mis_training\u001b[0m\u001b[0;34m(\u001b[0m\u001b[0mFalse\u001b[0m\u001b[0;34m,\u001b[0m \u001b[0msession\u001b[0m\u001b[0;34m=\u001b[0m\u001b[0mself\u001b[0m\u001b[0;34m.\u001b[0m\u001b[0msess\u001b[0m\u001b[0;34m)\u001b[0m\u001b[0;34m\u001b[0m\u001b[0m\n",
      "\u001b[0;32m/usr/local/lib/python2.7/dist-packages/tensorflow/python/client/session.pyc\u001b[0m in \u001b[0;36mrun\u001b[0;34m(self, fetches, feed_dict, options, run_metadata)\u001b[0m\n\u001b[1;32m    764\u001b[0m     \u001b[0;32mtry\u001b[0m\u001b[0;34m:\u001b[0m\u001b[0;34m\u001b[0m\u001b[0m\n\u001b[1;32m    765\u001b[0m       result = self._run(None, fetches, feed_dict, options_ptr,\n\u001b[0;32m--> 766\u001b[0;31m                          run_metadata_ptr)\n\u001b[0m\u001b[1;32m    767\u001b[0m       \u001b[0;32mif\u001b[0m \u001b[0mrun_metadata\u001b[0m\u001b[0;34m:\u001b[0m\u001b[0;34m\u001b[0m\u001b[0m\n\u001b[1;32m    768\u001b[0m         \u001b[0mproto_data\u001b[0m \u001b[0;34m=\u001b[0m \u001b[0mtf_session\u001b[0m\u001b[0;34m.\u001b[0m\u001b[0mTF_GetBuffer\u001b[0m\u001b[0;34m(\u001b[0m\u001b[0mrun_metadata_ptr\u001b[0m\u001b[0;34m)\u001b[0m\u001b[0;34m\u001b[0m\u001b[0m\n",
      "\u001b[0;32m/usr/local/lib/python2.7/dist-packages/tensorflow/python/client/session.pyc\u001b[0m in \u001b[0;36m_run\u001b[0;34m(self, handle, fetches, feed_dict, options, run_metadata)\u001b[0m\n\u001b[1;32m    962\u001b[0m     \u001b[0;32mif\u001b[0m \u001b[0mfinal_fetches\u001b[0m \u001b[0;32mor\u001b[0m \u001b[0mfinal_targets\u001b[0m\u001b[0;34m:\u001b[0m\u001b[0;34m\u001b[0m\u001b[0m\n\u001b[1;32m    963\u001b[0m       results = self._do_run(handle, final_targets, final_fetches,\n\u001b[0;32m--> 964\u001b[0;31m                              feed_dict_string, options, run_metadata)\n\u001b[0m\u001b[1;32m    965\u001b[0m     \u001b[0;32melse\u001b[0m\u001b[0;34m:\u001b[0m\u001b[0;34m\u001b[0m\u001b[0m\n\u001b[1;32m    966\u001b[0m       \u001b[0mresults\u001b[0m \u001b[0;34m=\u001b[0m \u001b[0;34m[\u001b[0m\u001b[0;34m]\u001b[0m\u001b[0;34m\u001b[0m\u001b[0m\n",
      "\u001b[0;32m/usr/local/lib/python2.7/dist-packages/tensorflow/python/client/session.pyc\u001b[0m in \u001b[0;36m_do_run\u001b[0;34m(self, handle, target_list, fetch_list, feed_dict, options, run_metadata)\u001b[0m\n\u001b[1;32m   1012\u001b[0m     \u001b[0;32mif\u001b[0m \u001b[0mhandle\u001b[0m \u001b[0;32mis\u001b[0m \u001b[0mNone\u001b[0m\u001b[0;34m:\u001b[0m\u001b[0;34m\u001b[0m\u001b[0m\n\u001b[1;32m   1013\u001b[0m       return self._do_call(_run_fn, self._session, feed_dict, fetch_list,\n\u001b[0;32m-> 1014\u001b[0;31m                            target_list, options, run_metadata)\n\u001b[0m\u001b[1;32m   1015\u001b[0m     \u001b[0;32melse\u001b[0m\u001b[0;34m:\u001b[0m\u001b[0;34m\u001b[0m\u001b[0m\n\u001b[1;32m   1016\u001b[0m       return self._do_call(_prun_fn, self._session, handle, feed_dict,\n",
      "\u001b[0;32m/usr/local/lib/python2.7/dist-packages/tensorflow/python/client/session.pyc\u001b[0m in \u001b[0;36m_do_call\u001b[0;34m(self, fn, *args)\u001b[0m\n\u001b[1;32m   1019\u001b[0m   \u001b[0;32mdef\u001b[0m \u001b[0m_do_call\u001b[0m\u001b[0;34m(\u001b[0m\u001b[0mself\u001b[0m\u001b[0;34m,\u001b[0m \u001b[0mfn\u001b[0m\u001b[0;34m,\u001b[0m \u001b[0;34m*\u001b[0m\u001b[0margs\u001b[0m\u001b[0;34m)\u001b[0m\u001b[0;34m:\u001b[0m\u001b[0;34m\u001b[0m\u001b[0m\n\u001b[1;32m   1020\u001b[0m     \u001b[0;32mtry\u001b[0m\u001b[0;34m:\u001b[0m\u001b[0;34m\u001b[0m\u001b[0m\n\u001b[0;32m-> 1021\u001b[0;31m       \u001b[0;32mreturn\u001b[0m \u001b[0mfn\u001b[0m\u001b[0;34m(\u001b[0m\u001b[0;34m*\u001b[0m\u001b[0margs\u001b[0m\u001b[0;34m)\u001b[0m\u001b[0;34m\u001b[0m\u001b[0m\n\u001b[0m\u001b[1;32m   1022\u001b[0m     \u001b[0;32mexcept\u001b[0m \u001b[0merrors\u001b[0m\u001b[0;34m.\u001b[0m\u001b[0mOpError\u001b[0m \u001b[0;32mas\u001b[0m \u001b[0me\u001b[0m\u001b[0;34m:\u001b[0m\u001b[0;34m\u001b[0m\u001b[0m\n\u001b[1;32m   1023\u001b[0m       \u001b[0mmessage\u001b[0m \u001b[0;34m=\u001b[0m \u001b[0mcompat\u001b[0m\u001b[0;34m.\u001b[0m\u001b[0mas_text\u001b[0m\u001b[0;34m(\u001b[0m\u001b[0me\u001b[0m\u001b[0;34m.\u001b[0m\u001b[0mmessage\u001b[0m\u001b[0;34m)\u001b[0m\u001b[0;34m\u001b[0m\u001b[0m\n",
      "\u001b[0;32m/usr/local/lib/python2.7/dist-packages/tensorflow/python/client/session.pyc\u001b[0m in \u001b[0;36m_run_fn\u001b[0;34m(session, feed_dict, fetch_list, target_list, options, run_metadata)\u001b[0m\n\u001b[1;32m   1001\u001b[0m         return tf_session.TF_Run(session, options,\n\u001b[1;32m   1002\u001b[0m                                  \u001b[0mfeed_dict\u001b[0m\u001b[0;34m,\u001b[0m \u001b[0mfetch_list\u001b[0m\u001b[0;34m,\u001b[0m \u001b[0mtarget_list\u001b[0m\u001b[0;34m,\u001b[0m\u001b[0;34m\u001b[0m\u001b[0m\n\u001b[0;32m-> 1003\u001b[0;31m                                  status, run_metadata)\n\u001b[0m\u001b[1;32m   1004\u001b[0m \u001b[0;34m\u001b[0m\u001b[0m\n\u001b[1;32m   1005\u001b[0m     \u001b[0;32mdef\u001b[0m \u001b[0m_prun_fn\u001b[0m\u001b[0;34m(\u001b[0m\u001b[0msession\u001b[0m\u001b[0;34m,\u001b[0m \u001b[0mhandle\u001b[0m\u001b[0;34m,\u001b[0m \u001b[0mfeed_dict\u001b[0m\u001b[0;34m,\u001b[0m \u001b[0mfetch_list\u001b[0m\u001b[0;34m)\u001b[0m\u001b[0;34m:\u001b[0m\u001b[0;34m\u001b[0m\u001b[0m\n",
      "\u001b[0;31mKeyboardInterrupt\u001b[0m: "
     ]
    }
   ],
   "source": [
    "if do_training:\n",
    "    buf_size = 1 # flush each line\n",
    "    fout = open(osp.join(conf.train_dir, 'train_stats.txt'), 'a', buf_size)     \n",
    "    train_stats = ae.train(in_data['train'], conf, log_file=fout, held_out_data=in_data['test'])\n",
    "    fout.close()"
   ]
  },
  {
   "cell_type": "code",
   "execution_count": null,
   "metadata": {
    "collapsed": true
   },
   "outputs": [],
   "source": []
  },
  {
   "cell_type": "code",
   "execution_count": 24,
   "metadata": {
    "collapsed": false
   },
   "outputs": [
    {
     "name": "stdout",
     "output_type": "stream",
     "text": [
      "0.000749164663748 0.000654067897925\n"
     ]
    }
   ],
   "source": [
    "from tf_lab.point_clouds.convenience import reconstruct_pclouds\n",
    "_, l_test = reconstruct_pclouds(ae, in_data['test'].point_clouds, batch_size=100)\n",
    "_, l_train = reconstruct_pclouds(ae, in_data['train'].point_clouds, batch_size=100)\n",
    "print l_test, l_train"
   ]
  },
  {
   "cell_type": "code",
   "execution_count": null,
   "metadata": {
    "collapsed": true
   },
   "outputs": [],
   "source": []
  },
  {
   "cell_type": "code",
   "execution_count": null,
   "metadata": {
    "collapsed": true
   },
   "outputs": [],
   "source": []
  },
  {
   "cell_type": "code",
   "execution_count": null,
   "metadata": {
    "collapsed": true
   },
   "outputs": [],
   "source": []
  }
 ],
 "metadata": {
  "kernelspec": {
   "display_name": "Python 2",
   "language": "python",
   "name": "python2"
  },
  "language_info": {
   "codemirror_mode": {
    "name": "ipython",
    "version": 2
   },
   "file_extension": ".py",
   "mimetype": "text/x-python",
   "name": "python",
   "nbconvert_exporter": "python",
   "pygments_lexer": "ipython2",
   "version": "2.7.6"
  }
 },
 "nbformat": 4,
 "nbformat_minor": 2
}
