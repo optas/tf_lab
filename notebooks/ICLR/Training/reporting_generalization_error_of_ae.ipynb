{
 "cells": [
  {
   "cell_type": "code",
   "execution_count": 1,
   "metadata": {
    "collapsed": false
   },
   "outputs": [
    {
     "name": "stdout",
     "output_type": "stream",
     "text": [
      "Picking GPU 2\n"
     ]
    }
   ],
   "source": [
    "from general_tools.notebook.gpu_utils import setup_one_gpu\n",
    "GPU = 2\n",
    "setup_one_gpu(GPU)"
   ]
  },
  {
   "cell_type": "code",
   "execution_count": 2,
   "metadata": {
    "collapsed": true
   },
   "outputs": [],
   "source": [
    "import sys\n",
    "import numpy as np\n",
    "import os.path as osp\n",
    "import tensorflow as tf\n",
    "import matplotlib.pyplot as plt\n",
    "from functools import partial\n",
    "\n",
    "from general_tools.notebook.tf import reset_tf_graph\n",
    "from general_tools.in_out import create_dir\n",
    "from general_tools.in_out.basics import create_dir, delete_files_in_directory, files_in_subdirs\n",
    "\n",
    "from geo_tool import Point_Cloud\n",
    "\n",
    "from tf_lab.in_out.basics import Data_Splitter\n",
    "from tf_lab.point_clouds.ae_templates import mlp_architecture_ala_iclr_18, default_train_params\n",
    "\n",
    "from tf_lab.point_clouds.autoencoder import Configuration as Conf\n",
    "from tf_lab.point_clouds.point_net_ae import PointNetAutoEncoder\n",
    "\n",
    "from tf_lab.point_clouds.in_out import load_point_clouds_from_filenames, PointCloudDataSet\n",
    "from tf_lab.data_sets.shape_net import pc_loader as snc_loader\n",
    "from tf_lab.data_sets.shape_net import snc_category_to_synth_id\n",
    "from tf_lab.point_clouds.convenience import reconstruct_pclouds"
   ]
  },
  {
   "cell_type": "code",
   "execution_count": 3,
   "metadata": {
    "collapsed": true
   },
   "outputs": [],
   "source": [
    "%load_ext autoreload\n",
    "%autoreload 2\n",
    "%matplotlib inline"
   ]
  },
  {
   "cell_type": "code",
   "execution_count": 53,
   "metadata": {
    "collapsed": true
   },
   "outputs": [],
   "source": [
    "top_data_dir = '/orions4-zfs/projects/optas/DATA/'\n",
    "experiment_tag = 'mlp_with_split_3pc_usampled'\n",
    "loss = 'emd'\n",
    "\n",
    "n_pc_points = 2048\n",
    "random_seed = 42"
   ]
  },
  {
   "cell_type": "code",
   "execution_count": 5,
   "metadata": {
    "collapsed": false
   },
   "outputs": [
    {
     "name": "stdout",
     "output_type": "stream",
     "text": [
      "Give me the class type: chair\n"
     ]
    }
   ],
   "source": [
    "class_name = raw_input('Give me the class type: ').lower()\n",
    "syn_id = snc_category_to_synth_id()[class_name]"
   ]
  },
  {
   "cell_type": "code",
   "execution_count": 44,
   "metadata": {
    "collapsed": true
   },
   "outputs": [],
   "source": [
    "def load_multiple_version_of_pcs(version, syn_id):\n",
    "    if version == 'uniform_all':        \n",
    "        versions = ['centered', 'centered_2nd_version', 'centered_3rd_version']    \n",
    "\n",
    "    elif version == 'uniform_one':        \n",
    "        versions = ['centered']\n",
    "        \n",
    "    elif version == 'fps':\n",
    "        versions = ['fps_sampled_in_u_sphere']\n",
    "    \n",
    "    elif version == 'all':\n",
    "        versions = ['centered', 'centered_2nd_version', 'centered_3rd_version', 'fps_sampled_in_u_sphere']\n",
    "        \n",
    "    splits = {'train':None, 'val':None, 'test': None}\n",
    "        \n",
    "    for s in splits.keys():\n",
    "        print 'Loading %s data.' % (s,)\n",
    "        s_file = osp.join(top_data_dir, 'Point_Clouds/Shape_Net/Splits/single_class_splits/'+syn_id+ '/85_5_10/', s + '.txt')\n",
    "        print s_file\n",
    "        for i, v in enumerate(versions):\n",
    "            top_pclouds_path = osp.join(top_data_dir, 'Point_Clouds/Shape_Net/Core/from_manifold_meshes/', v, str(n_pc_points))                \n",
    "            splitter = Data_Splitter(top_pclouds_path, data_file_ending='.ply', random_seed=random_seed)                        \n",
    "            pcs_in_split = splitter.load_splits(s_file)                \n",
    "            pclouds, model_ids, syn_ids = load_point_clouds_from_filenames(pcs_in_split, n_threads=20, loader=snc_loader, verbose=True)        \n",
    "            if splits[s] is None:\n",
    "                splits[s] = PointCloudDataSet(pclouds, labels=syn_ids + '_' + model_ids)\n",
    "            else:\n",
    "                splits[s].merge(PointCloudDataSet(pclouds, labels=syn_ids + '_' + model_ids))\n",
    "    return splits"
   ]
  },
  {
   "cell_type": "code",
   "execution_count": 45,
   "metadata": {
    "collapsed": false
   },
   "outputs": [
    {
     "name": "stdout",
     "output_type": "stream",
     "text": [
      "Loading test data.\n",
      "/orions4-zfs/projects/optas/DATA/Point_Clouds/Shape_Net/Splits/single_class_splits/03001627/85_5_10/test.txt\n",
      "679 pclouds were loaded. They belong in 1 shape-classes.\n",
      "679 pclouds were loaded. They belong in 1 shape-classes.\n",
      "679 pclouds were loaded. They belong in 1 shape-classes.\n",
      "Loading train data.\n",
      "/orions4-zfs/projects/optas/DATA/Point_Clouds/Shape_Net/Splits/single_class_splits/03001627/85_5_10/train.txt\n",
      "5761 pclouds were loaded. They belong in 1 shape-classes.\n",
      "5761 pclouds were loaded. They belong in 1 shape-classes.\n",
      "5761 pclouds were loaded. They belong in 1 shape-classes.\n",
      "Loading val data.\n",
      "/orions4-zfs/projects/optas/DATA/Point_Clouds/Shape_Net/Splits/single_class_splits/03001627/85_5_10/val.txt\n",
      "338 pclouds were loaded. They belong in 1 shape-classes.\n",
      "338 pclouds were loaded. They belong in 1 shape-classes.\n",
      "338 pclouds were loaded. They belong in 1 shape-classes.\n"
     ]
    }
   ],
   "source": [
    "in_data = load_multiple_version_of_pcs('uniform_all' ,syn_id)"
   ]
  },
  {
   "cell_type": "code",
   "execution_count": 34,
   "metadata": {
    "collapsed": false
   },
   "outputs": [],
   "source": [
    "def retrieve_best_validation_epoch(train_stats_file):\n",
    "    held_out_mark = 'On Held_Out:'\n",
    "    held_out_loss = []\n",
    "    held_out_epoch = []\n",
    "    with open(train_stats_file, 'r') as f_in:    \n",
    "        for line in f_in:\n",
    "            if line.startswith(held_out_mark):\n",
    "                line_datum = line.replace(held_out_mark, '')\n",
    "                tokens = line_datum.split()        \n",
    "                held_out_loss.append(float(tokens[1]))\n",
    "                held_out_epoch.append(int(tokens[0]))\n",
    "    held_out_loss = np.array(held_out_loss)\n",
    "    held_out_epoch = np.array(held_out_epoch)\n",
    "    best_idx = np.argmin(held_out_loss)\n",
    "    return held_out_loss[best_idx], held_out_epoch[best_idx]"
   ]
  },
  {
   "cell_type": "code",
   "execution_count": 54,
   "metadata": {
    "collapsed": false,
    "scrolled": true
   },
   "outputs": [
    {
     "name": "stdout",
     "output_type": "stream",
     "text": [
      "4 0.001534496 300\n",
      "300\n",
      "Model restored in epoch 300.\n",
      "0.00160430411806 0.00153939216032 0.00130340292781\n"
     ]
    }
   ],
   "source": [
    "bneck_list = [4, 8, 16, 32, 64, 128, 256]\n",
    "\n",
    "for bneck in bneck_list:\n",
    "    experiment_id = '_'.join(['ae', class_name, experiment_tag, str(n_pc_points), 'pts', str(bneck), 'bneck', loss])\n",
    "    train_dir = osp.join(top_data_dir, 'OUT/iclr/nn_models/', experiment_id)\n",
    "    conf = Conf.load(osp.join(train_dir, 'configuration'))\n",
    "    val_error, best_epoch = retrieve_best_validation_epoch(osp.join(train_dir, 'train_stats.txt'))\n",
    "    print bneck, val_error, best_epoch\n",
    "    \n",
    "    if best_epoch % conf.saver_step != 0: # Model was not saved at that epoch.\n",
    "        best_epoch += best_epoch % conf.saver_step\n",
    "    \n",
    "    print best_epoch\n",
    "    \n",
    "    conf.encoder_args['verbose'] = False\n",
    "    conf.decoder_args['verbose'] = False\n",
    "    \n",
    "    reset_tf_graph()\n",
    "    ae = PointNetAutoEncoder(conf.experiment_name, conf)    \n",
    "    ae.restore_model(conf.train_dir, best_epoch, verbose=True)\n",
    "\n",
    "    _, l_val = reconstruct_pclouds(ae, in_data['val'].point_clouds, batch_size=100)    \n",
    "    _, l_test = reconstruct_pclouds(ae, in_data['test'].point_clouds, batch_size=100)\n",
    "    _, l_train = reconstruct_pclouds(ae, in_data['train'].point_clouds, batch_size=100)\n",
    "    print l_val, l_test, l_train"
   ]
  }
 ],
 "metadata": {
  "kernelspec": {
   "display_name": "Python 2",
   "language": "python",
   "name": "python2"
  },
  "language_info": {
   "codemirror_mode": {
    "name": "ipython",
    "version": 2
   },
   "file_extension": ".py",
   "mimetype": "text/x-python",
   "name": "python",
   "nbconvert_exporter": "python",
   "pygments_lexer": "ipython2",
   "version": "2.7.6"
  }
 },
 "nbformat": 4,
 "nbformat_minor": 0
}
