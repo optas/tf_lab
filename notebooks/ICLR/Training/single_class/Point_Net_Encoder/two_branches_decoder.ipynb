{
 "cells": [
  {
   "cell_type": "code",
   "execution_count": 1,
   "metadata": {
    "collapsed": false,
    "deletable": true,
    "editable": true
   },
   "outputs": [
    {
     "name": "stdout",
     "output_type": "stream",
     "text": [
      "Picking GPU 3\n"
     ]
    }
   ],
   "source": [
    "from general_tools.notebook.gpu_utils import setup_one_gpu\n",
    "GPU = 3\n",
    "setup_one_gpu(GPU)"
   ]
  },
  {
   "cell_type": "code",
   "execution_count": 2,
   "metadata": {
    "collapsed": false,
    "deletable": true,
    "editable": true
   },
   "outputs": [],
   "source": [
    "import sys\n",
    "import numpy as np\n",
    "import os.path as osp\n",
    "import tensorflow as tf\n",
    "import matplotlib.pyplot as plt\n",
    "from functools import partial\n",
    "\n",
    "from general_tools.notebook.tf import reset_tf_graph\n",
    "from general_tools.in_out import create_dir\n",
    "from general_tools.in_out.basics import create_dir, delete_files_in_directory, files_in_subdirs\n",
    "\n",
    "from geo_tool import Point_Cloud\n",
    "\n",
    "from tf_lab.in_out.basics import Data_Splitter\n",
    "from tf_lab.point_clouds.ae_templates import mlp_architecture_ala_iclr_18, default_train_params\n",
    "\n",
    "from tf_lab.point_clouds.autoencoder import Configuration as Conf\n",
    "from tf_lab.point_clouds.point_net_ae import PointNetAutoEncoder\n",
    "\n",
    "from tf_lab.point_clouds.in_out import load_point_clouds_from_filenames, PointCloudDataSet\n",
    "from tf_lab.data_sets.shape_net import pc_loader as snc_loader\n",
    "from tf_lab.data_sets.shape_net import snc_category_to_synth_id\n",
    "\n",
    "from tf_lab.iclr.helper import load_multiple_version_of_pcs, find_best_validation_epoch_from_train_stats"
   ]
  },
  {
   "cell_type": "code",
   "execution_count": 3,
   "metadata": {
    "collapsed": false,
    "deletable": true,
    "editable": true
   },
   "outputs": [],
   "source": [
    "%load_ext autoreload\n",
    "%autoreload 2\n",
    "%matplotlib inline"
   ]
  },
  {
   "cell_type": "code",
   "execution_count": 4,
   "metadata": {
    "collapsed": false,
    "deletable": true,
    "editable": true
   },
   "outputs": [
    {
     "name": "stdout",
     "output_type": "stream",
     "text": [
      "Give me the class type: chair\n"
     ]
    }
   ],
   "source": [
    "top_data_dir = '/orions4-zfs/projects/optas/DATA/'\n",
    "experiment_tag = 'two_branch_decoder'\n",
    "loss = 'chamfer'\n",
    "n_pc_points = 2048\n",
    "random_seed = 42\n",
    "class_name = raw_input('Give me the class type: ').lower()"
   ]
  },
  {
   "cell_type": "code",
   "execution_count": 5,
   "metadata": {
    "collapsed": false,
    "deletable": true,
    "editable": true
   },
   "outputs": [
    {
     "name": "stdout",
     "output_type": "stream",
     "text": [
      "679 pclouds were loaded. They belong in 1 shape-classes.\n",
      "5761 pclouds were loaded. They belong in 1 shape-classes.\n",
      "338 pclouds were loaded. They belong in 1 shape-classes.\n"
     ]
    }
   ],
   "source": [
    "syn_id = snc_category_to_synth_id()[class_name]\n",
    "in_data = load_multiple_version_of_pcs('uniform_one' ,syn_id, n_classes=1)"
   ]
  },
  {
   "cell_type": "code",
   "execution_count": 26,
   "metadata": {
    "collapsed": false
   },
   "outputs": [],
   "source": [
    "from tf_lab.point_clouds.encoders_decoders import decoder_with_convs_only, decoder_with_fc_only\n",
    "from tf_lab.fundamentals.layers import conv_1d_tranpose\n",
    "\n",
    "\n",
    "# layer = deconvolution_op(layer, activation='relu', nb_filter=64, filter_size=2, strides=1)\n",
    "# avg_pool_1d()\n",
    "\n",
    "\n",
    "def two_branch_decoder(layer, ae):\n",
    "    l_e = tf.expand_dims(layer, 2)\n",
    "    d0 = tf.nn.relu(conv_1d_tranpose(l_e, nb_filter=8, filter_size=8, strides=1))\n",
    "    print d0\n",
    "    d1 = tf.nn.relu(conv_1d_tranpose(d0, nb_filter=16, filter_size=4, strides=1))\n",
    "    print d1\n",
    "    conv_branch = conv_1d_tranpose(d1, nb_filter=24, filter_size=2, strides=1)\n",
    "    conv_branch = tf.reshape(conv_branch, [-1, 1024, 3])\n",
    "    ae.conv_branch = conv_branch\n",
    "    \n",
    "    print conv_branch\n",
    "    fc_branch = decoder_with_fc_only(layer, [256, 256, 1024*3], b_norm=False)    \n",
    "    fc_branch = tf.reshape(fc_branch, [-1, 1024, 3])\n",
    "    ae.fc_branch = fc_branch\n",
    "    return tf.concat([fc_branch, conv_branch], axis=1)"
   ]
  },
  {
   "cell_type": "code",
   "execution_count": 7,
   "metadata": {
    "collapsed": true
   },
   "outputs": [],
   "source": [
    "layer = tf.placeholder(tf.float32, [None, 128])\n",
    "# two_branch_decoder(layer, )"
   ]
  },
  {
   "cell_type": "code",
   "execution_count": 9,
   "metadata": {
    "collapsed": true
   },
   "outputs": [],
   "source": [
    "bneck = 128"
   ]
  },
  {
   "cell_type": "code",
   "execution_count": 27,
   "metadata": {
    "collapsed": false,
    "deletable": true,
    "editable": true
   },
   "outputs": [
    {
     "ename": "NameError",
     "evalue": "name 'self' is not defined",
     "output_type": "error",
     "traceback": [
      "\u001b[0;31m---------------------------------------------------------------------------\u001b[0m",
      "\u001b[0;31mNameError\u001b[0m                                 Traceback (most recent call last)",
      "\u001b[0;32m<ipython-input-27-d7ac639ab2bb>\u001b[0m in \u001b[0;36m<module>\u001b[0;34m()\u001b[0m\n\u001b[1;32m      8\u001b[0m \u001b[0;34m\u001b[0m\u001b[0m\n\u001b[1;32m      9\u001b[0m \u001b[0mdecoder\u001b[0m \u001b[0;34m=\u001b[0m \u001b[0mtwo_branch_decoder\u001b[0m\u001b[0;34m\u001b[0m\u001b[0m\n\u001b[0;32m---> 10\u001b[0;31m \u001b[0mdec_args\u001b[0m \u001b[0;34m=\u001b[0m \u001b[0;34m{\u001b[0m\u001b[0;34m'ae'\u001b[0m\u001b[0;34m:\u001b[0m \u001b[0mself\u001b[0m\u001b[0;34m}\u001b[0m\u001b[0;34m\u001b[0m\u001b[0m\n\u001b[0m\u001b[1;32m     11\u001b[0m \u001b[0;34m\u001b[0m\u001b[0m\n\u001b[1;32m     12\u001b[0m conf = Conf(n_input = [n_pc_points, 3],\n",
      "\u001b[0;31mNameError\u001b[0m: name 'self' is not defined"
     ]
    }
   ],
   "source": [
    "train_params = default_train_params()\n",
    "experiment_id = '_'.join(['ae', class_name, experiment_tag, str(n_pc_points), 'pts', str(bneck), 'bneck', loss])\n",
    "train_dir = osp.join(top_data_dir, 'OUT/iclr/nn_models/', experiment_id)\n",
    "create_dir(train_dir)\n",
    "\n",
    "reset_tf_graph()    \n",
    "encoder, _, enc_args, _ = mlp_architecture_ala_iclr_18(n_pc_points, bneck)    \n",
    "\n",
    "decoder = two_branch_decoder\n",
    "dec_args = {'ae': self}\n",
    "\n",
    "conf = Conf(n_input = [n_pc_points, 3],\n",
    "            loss = loss,\n",
    "            training_epochs = 500,\n",
    "            batch_size = train_params['batch_size'],\n",
    "            denoising = False,\n",
    "            learning_rate = train_params['learning_rate'],\n",
    "            train_dir = train_dir,\n",
    "            loss_display_step = 1,\n",
    "            saver_step = train_params['saver_step'],\n",
    "            z_rotate = False,\n",
    "            encoder = encoder,\n",
    "            decoder = decoder,\n",
    "            encoder_args = enc_args,\n",
    "            decoder_args = dec_args\n",
    "           )\n",
    "print conf\n",
    "conf.experiment_name = 'experiment_' + str(experiment_id)\n",
    "conf.held_out_step = 5\n",
    "# conf.save(osp.join(train_dir, 'configuration'))\n",
    "ae = PointNetAutoEncoder(conf.experiment_name, conf)\n",
    "buf_size = 1 # flush each line\n",
    "fout = open(osp.join(conf.train_dir, 'train_stats.txt'), 'a', buf_size)\n",
    "#     train_stats = ae.train(in_data['train'], conf, log_file=fout, held_out_data=in_data['val'])\n",
    "train_stats = ae.train(in_data['train'], conf, log_file=fout, held_out_data=in_data['test'])\n",
    "fout.close()"
   ]
  },
  {
   "cell_type": "code",
   "execution_count": 25,
   "metadata": {
    "collapsed": false
   },
   "outputs": [
    {
     "data": {
      "text/plain": [
       "<tf.Tensor 'experiment_ae_chair_two_branch_decoder_2048_pts_128_bneck_chamfer/deconv_1d_2/W:0' shape=(2, 24, 16) dtype=float32_ref>"
      ]
     },
     "execution_count": 25,
     "metadata": {},
     "output_type": "execute_result"
    }
   ],
   "source": [
    "# g = ae.graph\n",
    "# g.get_collection_ref('experiment_ae_chair_two_branch_decoder_2048_pts_128_bneck_chamfer/deconv_1d_2')\n",
    "\n",
    "g.get_collection('trainable_variables')\n",
    "\n",
    "# <tf.Variable 'experiment_ae_chair_two_branch_decoder_2048_pts_128_bneck_chamfer/deconv_1d_2/W:0' shape=(2, 24, 16) dtype=float32_ref>\n",
    "# for op in g.get_operations():\n",
    "#     print str(op.name) \n",
    "\n",
    "g.get_tensor_by_name('experiment_ae_chair_two_branch_decoder_2048_pts_128_bneck_chamfer/deconv_1d_2/W:0')\n",
    "\n",
    "# # # get_operation_by_name('experiment_ae_chair_two_branch_decoder_2048_pts_128_bneck_chamfer/deconv_1d_2')"
   ]
  }
 ],
 "metadata": {
  "kernelspec": {
   "display_name": "TensorFlow1",
   "language": "python",
   "name": "tf1"
  },
  "language_info": {
   "codemirror_mode": {
    "name": "ipython",
    "version": 2
   },
   "file_extension": ".py",
   "mimetype": "text/x-python",
   "name": "python",
   "nbconvert_exporter": "python",
   "pygments_lexer": "ipython2",
   "version": "2.7.6"
  }
 },
 "nbformat": 4,
 "nbformat_minor": 2
}
