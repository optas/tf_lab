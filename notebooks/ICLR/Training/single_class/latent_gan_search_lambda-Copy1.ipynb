{
 "cells": [
  {
   "cell_type": "code",
   "execution_count": 1,
   "metadata": {
    "collapsed": false,
    "deletable": true,
    "editable": true
   },
   "outputs": [
    {
     "name": "stdout",
     "output_type": "stream",
     "text": [
      "Picking GPU 0\n"
     ]
    }
   ],
   "source": [
    "from general_tools.notebook.gpu_utils import setup_one_gpu\n",
    "GPU = 0\n",
    "setup_one_gpu(GPU)"
   ]
  },
  {
   "cell_type": "code",
   "execution_count": 2,
   "metadata": {
    "collapsed": false,
    "deletable": true,
    "editable": true
   },
   "outputs": [
    {
     "name": "stdout",
     "output_type": "stream",
     "text": [
      "PyTorch not working. MMD measurement won't be available\n"
     ]
    }
   ],
   "source": [
    "import sys\n",
    "import time\n",
    "import numpy as np\n",
    "import os.path as osp\n",
    "import tensorflow as tf\n",
    "import matplotlib.pyplot as plt\n",
    "\n",
    "from general_tools.notebook.tf import reset_tf_graph\n",
    "from general_tools.in_out.basics import create_dir, files_in_subdirs\n",
    "\n",
    "from geo_tool import Point_Cloud\n",
    "\n",
    "from tf_lab.in_out.basics import Data_Splitter, read_saved_epochs\n",
    "from tf_lab.point_clouds.ae_templates import mlp_architecture_ala_iclr_18, default_train_params\n",
    "\n",
    "from tf_lab.point_clouds.autoencoder import Configuration as Conf\n",
    "from tf_lab.point_clouds.point_net_ae import PointNetAutoEncoder\n",
    "\n",
    "from tf_lab.point_clouds.in_out import load_point_clouds_from_filenames, PointCloudDataSet\n",
    "from tf_lab.data_sets.shape_net import pc_loader as snc_loader\n",
    "from tf_lab.data_sets.shape_net import snc_category_to_synth_id\n",
    "\n",
    "from tf_lab.point_clouds.raw_gan import RawGAN\n",
    "from tf_lab.point_clouds.latent_gan import LatentGAN\n",
    "from tf_lab.point_clouds.generators_discriminators import latent_code_discriminator_two_layers, \\\n",
    "latent_code_generator_two_layers, latent_code_discriminator, latent_code_generator\n",
    "\n",
    "from tf_lab.iclr.helper import load_multiple_version_of_pcs, find_best_validation_epoch_from_train_stats\n",
    "from tf_lab.point_clouds.convenience import get_latent_codes\n",
    "from tf_lab.neural_net import MODEL_SAVER_ID\n",
    "\n",
    "from tf_lab.point_clouds.raw_gan_gp import RawGAN_GP\n",
    "from tf_lab.point_clouds.generators_discriminators import latent_code_generator\n",
    "\n",
    "from pcloud_benchmark.evaluate_gan import entropy_of_occupancy_grid, jensen_shannon_divergence\n",
    "from tf_lab.nips.helper import pclouds_centered_and_half_sphere"
   ]
  },
  {
   "cell_type": "code",
   "execution_count": 3,
   "metadata": {
    "collapsed": false,
    "deletable": true,
    "editable": true
   },
   "outputs": [],
   "source": [
    "%load_ext autoreload\n",
    "%autoreload 2\n",
    "%matplotlib inline"
   ]
  },
  {
   "cell_type": "code",
   "execution_count": 4,
   "metadata": {
    "collapsed": false,
    "deletable": true,
    "editable": true
   },
   "outputs": [
    {
     "name": "stdout",
     "output_type": "stream",
     "text": [
      "Give me the class type.\n",
      "chair\n",
      "Give me bneck_size.\n",
      "128\n"
     ]
    }
   ],
   "source": [
    "n_pc_points = 2048\n",
    "do_training = True\n",
    "\n",
    "save_model = False\n",
    "saver_step = None\n",
    "\n",
    "save_model = False\n",
    "save_synthetic_samples = np.hstack([np.array([1,5,10]), np.arange(100, 2001, 100)])\n",
    "\n",
    "ae_loss = 'emd'\n",
    "do_lwgan = True\n",
    "\n",
    "class_name = raw_input('Give me the class type.\\n').lower()\n",
    "syn_id = snc_category_to_synth_id()[class_name]\n",
    "b_neck = int(raw_input('Give me bneck_size.\\n'))"
   ]
  },
  {
   "cell_type": "code",
   "execution_count": 5,
   "metadata": {
    "collapsed": true
   },
   "outputs": [],
   "source": [
    "if do_lwgan:\n",
    "    gan_tag = 'l_wgan'\n",
    "else:\n",
    "    gan_tag = 'l_gan'"
   ]
  },
  {
   "cell_type": "code",
   "execution_count": 16,
   "metadata": {
    "collapsed": true
   },
   "outputs": [],
   "source": [
    "special_tag = 'disc_256_512'"
   ]
  },
  {
   "cell_type": "code",
   "execution_count": 17,
   "metadata": {
    "collapsed": false
   },
   "outputs": [
    {
     "name": "stdout",
     "output_type": "stream",
     "text": [
      "l_wgan_chair_disc_256_512_emd_bneck_128\n"
     ]
    }
   ],
   "source": [
    "experiment_tag = '_'.join([gan_tag, class_name, special_tag, ae_loss, 'bneck', str(b_neck)])\n",
    "print experiment_tag"
   ]
  },
  {
   "cell_type": "code",
   "execution_count": 18,
   "metadata": {
    "collapsed": false
   },
   "outputs": [
    {
     "data": {
      "text/plain": [
       "'/orions4-zfs/projects/optas/DATA/OUT/iclr/nn_models/l_wgan_chair_disc_256_512_emd_bneck_128'"
      ]
     },
     "execution_count": 18,
     "metadata": {},
     "output_type": "execute_result"
    }
   ],
   "source": [
    "top_data_dir = '/orions4-zfs/projects/optas/DATA/'\n",
    "train_dir = osp.join(top_data_dir, 'OUT/iclr/nn_models', experiment_tag)\n",
    "create_dir(train_dir)"
   ]
  },
  {
   "cell_type": "code",
   "execution_count": 9,
   "metadata": {
    "collapsed": false,
    "deletable": true,
    "editable": true
   },
   "outputs": [
    {
     "name": "stdout",
     "output_type": "stream",
     "text": [
      "Loading test data.\n",
      "/orions4-zfs/projects/optas/DATA/Point_Clouds/Shape_Net/Splits/single_class_splits/03001627/85_5_10/test.txt\n",
      "679 pclouds were loaded. They belong in 1 shape-classes.\n",
      "Loading train data.\n",
      "/orions4-zfs/projects/optas/DATA/Point_Clouds/Shape_Net/Splits/single_class_splits/03001627/85_5_10/train.txt\n",
      "5761 pclouds were loaded. They belong in 1 shape-classes.\n",
      "Loading val data.\n",
      "/orions4-zfs/projects/optas/DATA/Point_Clouds/Shape_Net/Splits/single_class_splits/03001627/85_5_10/val.txt\n",
      "338 pclouds were loaded. They belong in 1 shape-classes.\n"
     ]
    }
   ],
   "source": [
    "in_data = load_multiple_version_of_pcs('uniform_one', syn_id, n_classes=1)"
   ]
  },
  {
   "cell_type": "code",
   "execution_count": 10,
   "metadata": {
    "collapsed": false,
    "deletable": true,
    "editable": true
   },
   "outputs": [
    {
     "name": "stdout",
     "output_type": "stream",
     "text": [
      "Model restored in epoch 430.\n"
     ]
    }
   ],
   "source": [
    "# Load Auto-Encoder\n",
    "ae_experiment_tag = 'mlp_with_split_3pc_usampled_bnorm_on_encoder_only'\n",
    "ae_id = '_'.join(['ae', class_name, ae_experiment_tag, str(n_pc_points), 'pts', str(b_neck), 'bneck', ae_loss])\n",
    "ae_train_dir = osp.join(top_data_dir, 'OUT/iclr/nn_models/', ae_id)\n",
    "\n",
    "ae_conf = Conf.load(osp.join(ae_train_dir, 'configuration'))\n",
    "saved_epochs = read_saved_epochs(ae_conf.train_dir)\n",
    "\n",
    "_, best_epoch = find_best_validation_epoch_from_train_stats(osp.join(ae_train_dir, 'train_stats.txt'))\n",
    "\n",
    "if best_epoch % ae_conf.saver_step != 0: # Model was not saved at that epoch.\n",
    "    best_epoch += best_epoch % ae_conf.saver_step\n",
    "\n",
    "ae_conf.encoder_args['verbose'] = False\n",
    "ae_conf.decoder_args['verbose'] = False\n",
    "\n",
    "reset_tf_graph()\n",
    "ae = PointNetAutoEncoder(ae_conf.experiment_name, ae_conf)    \n",
    "ae.restore_model(ae_conf.train_dir, best_epoch, verbose=True)"
   ]
  },
  {
   "cell_type": "code",
   "execution_count": 11,
   "metadata": {
    "collapsed": false,
    "deletable": true,
    "editable": true
   },
   "outputs": [],
   "source": [
    "# Convert raw-data to latent codes.\n",
    "latent_codes = get_latent_codes(ae, in_data['train'].point_clouds)\n",
    "train_data = PointCloudDataSet(latent_codes)"
   ]
  },
  {
   "cell_type": "code",
   "execution_count": 19,
   "metadata": {
    "collapsed": false,
    "deletable": true,
    "editable": true
   },
   "outputs": [],
   "source": [
    "init_lr = 0.0001\n",
    "batch_size = 50\n",
    "noise_params = {'mu':0, 'sigma': 0.2}\n",
    "noise_dim = b_neck\n",
    "max_epochs = 2000\n",
    "\n",
    "n_syn_samples = train_data.num_examples\n",
    "\n",
    "n_out = [b_neck]"
   ]
  },
  {
   "cell_type": "code",
   "execution_count": 43,
   "metadata": {
    "collapsed": false
   },
   "outputs": [],
   "source": [
    "# reset_tf_graph()\n",
    "\n",
    "# if do_lwgan:\n",
    "    \n",
    "#     synthetic_data_out_dir = osp.join(top_data_dir, 'OUT/iclr/synthetic_samples/', experiment_tag)\n",
    "#     create_dir(synthetic_data_out_dir)\n",
    "    \n",
    "#     lam = 5\n",
    "#     beta = 0.5\n",
    "#     reset_tf_graph()\n",
    "#     gan = RawGAN_GP(experiment_tag, init_lr, lam, n_out, noise_dim, \\\n",
    "#                     latent_code_discriminator, latent_code_generator, \\\n",
    "#                     beta=beta, gen_kwargs={'layer_sizes': [64, 128], 'b_norm': False}, \n",
    "#                     disc_kwargs={'layer_sizes': [512, 1024], 'b_norm': False})\n",
    "\n",
    "# else:\n",
    "#     beta = 0.2\n",
    "#     gan = LatentGAN(experiment_tag, init_lr, n_out, noise_dim, latent_code_discriminator_two_layers,\n",
    "#                     latent_code_generator_two_layers, beta=beta, gen_kwargs={'b_norm': False}, \n",
    "#                     disc_kwargs={'b_norm': False})"
   ]
  },
  {
   "cell_type": "code",
   "execution_count": 20,
   "metadata": {
    "collapsed": false
   },
   "outputs": [
    {
     "name": "stdout",
     "output_type": "stream",
     "text": [
      "1\n",
      "2\n",
      "4\n",
      "6\n",
      "8\n",
      "10\n",
      "20\n"
     ]
    }
   ],
   "source": [
    "beta = 0.5\n",
    "lam_range = [1, 2, 4, 6, 8, 10, 20]\n",
    "\n",
    "for lam in lam_range:\n",
    "    print lam\n",
    "    synthetic_data_out_dir = osp.join(top_data_dir, 'OUT/iclr/synthetic_samples/', experiment_tag, 'lam_' + str(lam))\n",
    "    create_dir(synthetic_data_out_dir)\n",
    "    reset_tf_graph()\n",
    "    gan = RawGAN_GP(experiment_tag, init_lr, lam, n_out, noise_dim, \\\n",
    "                    latent_code_discriminator, latent_code_generator, \\\n",
    "                    beta=beta, gen_kwargs={'layer_sizes': [64, 128], 'b_norm': False}, \n",
    "                    disc_kwargs={'layer_sizes': [256, 512], 'b_norm': False})\n",
    "    \n",
    "    if do_training:\n",
    "        for _ in range(max_epochs):\n",
    "            loss, duration = gan._single_epoch_train(train_data, batch_size, noise_params)\n",
    "            epoch = int(gan.sess.run(gan.epoch.assign_add(tf.constant(1.0))))\n",
    "#             print epoch, loss\n",
    "\n",
    "            if save_model and (epoch % saver_step == 0 or epoch <= 5):\n",
    "                checkpoint_path = osp.join(train_dir, MODEL_SAVER_ID)\n",
    "                gan.saver.save(gan.sess, checkpoint_path, global_step=gan.epoch)\n",
    "\n",
    "            if epoch in save_synthetic_samples:\n",
    "                syn_latent_data = gan.generate(n_syn_samples, noise_params)\n",
    "                syn_data = ae.decode(syn_latent_data)\n",
    "                np.savez(osp.join(synthetic_data_out_dir, 'epoch_' + str(epoch)), syn_data)\n",
    "#                 for k in range(2):\n",
    "#                     Point_Cloud(syn_data[k]).plot()\n",
    "\n",
    "#             train_stats.append((epoch,) + loss)"
   ]
  },
  {
   "cell_type": "code",
   "execution_count": 34,
   "metadata": {
    "collapsed": false,
    "deletable": true,
    "editable": true
   },
   "outputs": [],
   "source": [
    "if do_plotting:\n",
    "    x = range(len(train_stats))\n",
    "    d_loss = [t[1] for t in train_stats]\n",
    "    g_loss = [t[2] for t in train_stats]\n",
    "    plt.plot(x, d_loss, '--')\n",
    "    plt.plot(x, g_loss)\n",
    "    plt.title('Latent GAN training. (%s, %s)' %(class_name, ae_loss))\n",
    "    plt.legend(['Discriminator', 'Generator'], loc=0)\n",
    "    \n",
    "    plt.tick_params(axis='x', which='both', bottom='off', top='off')\n",
    "    plt.tick_params(axis='y', which='both', left='off', right='off')\n",
    "    \n",
    "    plt.xlabel('Epochs.') \n",
    "    plt.ylabel('Loss.')"
   ]
  },
  {
   "cell_type": "code",
   "execution_count": 14,
   "metadata": {
    "collapsed": true
   },
   "outputs": [],
   "source": [
    "voxel_resolution = 28\n",
    "cmp_in_sphere = True\n",
    "train_data_ = pclouds_centered_and_half_sphere(in_data['train'].point_clouds)\n",
    "_, train_grid_var = entropy_of_occupancy_grid(train_data_, voxel_resolution, in_sphere=cmp_in_sphere)\n",
    "test_data_ = pclouds_centered_and_half_sphere(in_data['test'].point_clouds)\n",
    "_, test_grid_var = entropy_of_occupancy_grid(test_data_, voxel_resolution, in_sphere=cmp_in_sphere)"
   ]
  },
  {
   "cell_type": "code",
   "execution_count": 15,
   "metadata": {
    "collapsed": false
   },
   "outputs": [
    {
     "name": "stdout",
     "output_type": "stream",
     "text": [
      "1\n",
      "NB-GAN 1 0.139309469637 0.136541100428\n",
      "NB-GAN 5 0.116993537173 0.115241456651\n",
      "NB-GAN 10 0.0694573372382 0.07026407274\n",
      "NB-GAN 100 0.0136401957441 0.0169708726725\n",
      "NB-GAN 200 0.0091341527034 0.0129092590129\n",
      "NB-GAN 300 0.00887330167281 0.0127776948458\n",
      "NB-GAN 400 0.00919489427936 0.0128237290949\n",
      "NB-GAN 500 0.00850790214096 0.0121269082622\n",
      "NB-GAN 600 0.00648065652595 0.0103581420064\n",
      "NB-GAN 700 0.00701428678756 0.0109234172943\n",
      "NB-GAN 800 0.00750350451813 0.011024170518\n",
      "NB-GAN 900 0.00621431670363 0.0104220024303\n",
      "NB-GAN 1000 0.00677359159835 0.0108377339299\n",
      "NB-GAN 1100 0.00621302848156 0.0105000637411\n",
      "NB-GAN 1200 0.0054633178774 0.00887143922144\n",
      "NB-GAN 1300 0.00561990848037 0.00957328601592\n",
      "NB-GAN 1400 0.00581035957893 0.00966186156961\n",
      "NB-GAN 1500 0.00619495155397 0.0101644043569\n",
      "NB-GAN 1600 0.00543420485972 0.00933843298898\n",
      "NB-GAN 1700 0.00601431970381 0.00983438903334\n",
      "NB-GAN 1800 0.00602636674638 0.00958285794062\n",
      "NB-GAN 1900 0.00523079765501 0.00957899188471\n",
      "NB-GAN 2000 0.00612516191561 0.0102479778215\n",
      "2\n",
      "NB-GAN 1 0.122557501455 0.121380444995\n",
      "NB-GAN 5 0.0906015404772 0.0902689451566\n",
      "NB-GAN 10 0.0686501924537 0.0700810773616\n",
      "NB-GAN 100 0.0129377240634 0.0163347351847\n",
      "NB-GAN 200 0.0109031704409 0.0148552921153\n",
      "NB-GAN 300 0.00794035367305 0.0116437392721\n",
      "NB-GAN 400 0.0072270596386 0.0114620743221\n",
      "NB-GAN 500 0.00776284162765 0.0111645819859\n",
      "NB-GAN 600 0.00690980649985 0.0105491357933\n",
      "NB-GAN 700 0.00722878391584 0.0111712242761\n",
      "NB-GAN 800 0.00634027819634 0.0102055971526\n",
      "NB-GAN 900 0.00564343124808 0.00995828737915\n",
      "NB-GAN 1000 0.00642282932619 0.00998751915286\n",
      "NB-GAN 1100 0.00602493290499 0.00969295380021\n",
      "NB-GAN 1200 0.00589933420962 0.010058262038\n",
      "NB-GAN 1300 0.00555681025023 0.00938591478389\n",
      "NB-GAN 1400 0.00530721795768 0.00948249816909\n",
      "NB-GAN 1500 0.00614687753464 0.0102023099282\n",
      "NB-GAN 1600 0.00593358061411 0.00977168364302\n",
      "NB-GAN 1700 0.00555510542745 0.00979708712008\n",
      "NB-GAN 1800 0.00637445647825 0.0100942597881\n",
      "NB-GAN 1900 0.0059879700184 0.00999373386477\n",
      "NB-GAN 2000 0.00547317041456 0.00937936523864\n",
      "4\n",
      "NB-GAN 1 0.146780235227 0.145844119869\n",
      "NB-GAN 5 0.0901960932283 0.0914792388245\n",
      "NB-GAN 10 0.0726411851027 0.073760123434\n",
      "NB-GAN 100 0.0144598018711 0.0179174139426\n",
      "NB-GAN 200 0.0115258942539 0.0151325486224\n",
      "NB-GAN 300 0.00967284144079 0.0133699060002\n",
      "NB-GAN 400 0.00752910002952 0.0115573757654\n",
      "NB-GAN 500 0.00725223404042 0.0110906089599\n",
      "NB-GAN 600 0.00649816537105 0.0104658538705\n",
      "NB-GAN 700 0.0061620809074 0.0099143817887\n",
      "NB-GAN 800 0.00599538345789 0.0102477726231\n",
      "NB-GAN 900 0.00633432979044 0.0100692495763\n",
      "NB-GAN 1000 0.00603177518816 0.0100121467798\n",
      "NB-GAN 1100 0.00591652179642 0.00981552828226\n",
      "NB-GAN 1200 0.00620689509617 0.0101895874802\n",
      "NB-GAN 1300 0.00548576381627 0.00942060755929\n",
      "NB-GAN 1400 0.00540289646546 0.00981819475233\n",
      "NB-GAN 1500 0.00591780476725 0.00987155062464\n",
      "NB-GAN 1600 0.00568669169946 0.00961832983152\n",
      "NB-GAN 1700 0.00591866142043 0.00923646440897\n",
      "NB-GAN 1800 0.00636884781426 0.0107232371322\n",
      "NB-GAN 1900 0.00581806328589 0.01020572586\n",
      "NB-GAN 2000 0.0051680956281 0.00933955880486\n",
      "6\n",
      "NB-GAN 1 0.121094442698 0.120332188635\n",
      "NB-GAN 5 0.0909836192398 0.0925711785765\n",
      "NB-GAN 10 0.0756289049051 0.0770073460019\n",
      "NB-GAN 100 0.013374512225 0.0166932049815\n",
      "NB-GAN 200 0.0112943625281 0.0146701863039\n",
      "NB-GAN 300 0.0110802319728 0.0145747810217\n",
      "NB-GAN 400 0.00852942314464 0.0118691445112\n",
      "NB-GAN 500 0.0070876359998 0.0106597789916\n",
      "NB-GAN 600 0.00771116429605 0.011881507455\n",
      "NB-GAN 700 0.00598901894897 0.0103451688897\n",
      "NB-GAN 800 0.00624366425524 0.0102615032998\n",
      "NB-GAN 900 0.00602626305281 0.00946324323973\n",
      "NB-GAN 1000 0.00582017098183 0.00966316772854\n",
      "NB-GAN 1100 0.00600677427718 0.00965158467338\n",
      "NB-GAN 1200 0.00596913657665 0.00977996097165\n",
      "NB-GAN 1300 0.00595655490954 0.0103212593188\n",
      "NB-GAN 1400 0.00706620658177 0.0110765610864\n",
      "NB-GAN 1500 0.00898646994422 0.0120302947633\n",
      "NB-GAN 1600 0.00536800974338 0.00913946394764\n",
      "NB-GAN 1700 0.00549155078095 0.00930873045458\n",
      "NB-GAN 1800 0.00479514223609 0.00888294708664\n",
      "NB-GAN 1900 0.00537938694979 0.00932205352696\n",
      "NB-GAN 2000 0.00543241438809 0.00945962806539\n",
      "8\n",
      "NB-GAN 1 0.144660035028 0.143951382478\n",
      "NB-GAN 5 0.0754579516256 0.0767072796772\n",
      "NB-GAN 10 0.0732656348428 0.0755732354599\n",
      "NB-GAN 100 0.0154242891046 0.0196398424001\n",
      "NB-GAN 200 0.0121225424368 0.0166199290282\n",
      "NB-GAN 300 0.0104970758831 0.0146036792391\n",
      "NB-GAN 400 0.00992074339224 0.0144361662296\n",
      "NB-GAN 500 0.00948648605108 0.0143591035026\n",
      "NB-GAN 600 0.0089951991329 0.0140296047014\n",
      "NB-GAN 700 0.00850107469958 0.0129811699202\n",
      "NB-GAN 800 0.00809833431952 0.0130407299304\n",
      "NB-GAN 900 0.0081562544087 0.0130132332891\n",
      "NB-GAN 1000 0.00816034053917 0.0128711679999\n",
      "NB-GAN 1100 0.00851970531116 0.013450566081\n",
      "NB-GAN 1200 0.00795088632051 0.0127466727418\n",
      "NB-GAN 1300 0.00537544690438 0.00895579874465\n",
      "NB-GAN 1400 0.00549830461065 0.00912372000818\n",
      "NB-GAN 1500 0.00593701102899 0.00967208675287\n",
      "NB-GAN 1600 0.00520636142809 0.0090626006884\n",
      "NB-GAN 1700 0.00633882423806 0.0100002041193\n",
      "NB-GAN 1800 0.00500107185198 0.00904462675702\n",
      "NB-GAN 1900 0.00655527586728 0.0101530786217\n",
      "NB-GAN 2000 0.00548794167754 0.00921323968447\n",
      "10\n",
      "NB-GAN 1 0.182739125064 0.179236181522\n",
      "NB-GAN 5 0.103000223744 0.104197566301\n",
      "NB-GAN 10 0.0743594616625 0.0761260366205\n",
      "NB-GAN 100 0.011916684183 0.0155394840696\n",
      "NB-GAN 200 0.0107151741219 0.0143257796063\n",
      "NB-GAN 300 0.009969681295 0.0137137650706\n",
      "NB-GAN 400 0.00835383249944 0.0123093977097\n",
      "NB-GAN 500 0.00702631252424 0.0111031576265\n",
      "NB-GAN 600 0.0066671661598 0.0109584639815\n",
      "NB-GAN 700 0.00661816294308 0.0105631080945\n",
      "NB-GAN 800 0.00611113549097 0.0103608698821\n",
      "NB-GAN 900 0.00654831796443 0.0102041983997\n",
      "NB-GAN 1000 0.00546751134216 0.0096288305827\n",
      "NB-GAN 1100 0.00587085497713 0.00983052300318\n",
      "NB-GAN 1200 0.00458746272396 0.00885413153011\n",
      "NB-GAN 1300 0.00501211566314 0.0089795027742\n",
      "NB-GAN 1400 0.00595939960248 0.00942582317846\n",
      "NB-GAN 1500 0.00598958859724 0.00950005264182\n",
      "NB-GAN 1600 0.00663256651096 0.0101072290816\n",
      "NB-GAN 1700 0.00521594344726 0.0088278480925\n",
      "NB-GAN 1800 0.00625971293652 0.00987178533945\n",
      "NB-GAN 1900 0.00541302438671 0.00913951444079\n",
      "NB-GAN 2000 0.00576374708978 0.00953090837507\n",
      "20\n",
      "NB-GAN 1 0.206029873018 0.202914194052\n",
      "NB-GAN 5 0.0909409529575 0.0923582667321\n",
      "NB-GAN 10 0.0907761541471 0.091353100694\n",
      "NB-GAN 100 0.0133325738453 0.0162531026009\n",
      "NB-GAN 200 0.0116922865332 0.0150047909302\n",
      "NB-GAN 300 0.00905921900431 0.0131314100047\n",
      "NB-GAN 400 0.00863800289941 0.0123814466457\n",
      "NB-GAN 500 0.00757794949696 0.0110786848907\n",
      "NB-GAN 600 0.00705175207768 0.0107719226659\n",
      "NB-GAN 700 0.00609453131787 0.009916789704\n",
      "NB-GAN 800 0.0064759511206 0.00994115712445\n",
      "NB-GAN 900 0.00541558008533 0.00951619534155\n",
      "NB-GAN 1000 0.00558750891818 0.00989737383316\n",
      "NB-GAN 1100 0.00517763015284 0.00957774318754\n",
      "NB-GAN 1200 0.00480236220501 0.00877724599808\n",
      "NB-GAN 1300 0.00524207566786 0.00898758024235\n",
      "NB-GAN 1400 0.00570082103216 0.00936828120926\n",
      "NB-GAN 1500 0.00550084404242 0.00928609792126\n",
      "NB-GAN 1600 0.00574429172076 0.0095064979559\n",
      "NB-GAN 1700 0.00622070797118 0.0102427485964\n",
      "NB-GAN 1800 0.00707269204822 0.0106330526201\n",
      "NB-GAN 1900 0.00545493837761 0.00966117319604\n",
      "NB-GAN 2000 0.00484562747463 0.0084984476586\n"
     ]
    }
   ],
   "source": [
    "for lam in lam_range:\n",
    "    print lam\n",
    "    synthetic_data_out_dir = osp.join(top_data_dir, 'OUT/iclr/synthetic_samples/', experiment_tag, 'lam_' + str(lam))\n",
    "    \n",
    "    for epoch in save_synthetic_samples:\n",
    "        in_f = osp.join(synthetic_data_out_dir, 'epoch_' + str(epoch) + '.npz')\n",
    "        our_data = np.load(in_f)\n",
    "        our_data = our_data[our_data.keys()[0]]\n",
    "        our_data = pclouds_centered_and_half_sphere(our_data)    \n",
    "        _, our_grid_var = entropy_of_occupancy_grid(our_data, voxel_resolution, in_sphere=cmp_in_sphere)\n",
    "        jsd_epoch_train = jensen_shannon_divergence(our_grid_var, train_grid_var)\n",
    "        jsd_epoch_test = jensen_shannon_divergence(our_grid_var, test_grid_var)    \n",
    "        print 'NB-GAN', epoch, jsd_epoch_train, jsd_epoch_test"
   ]
  }
 ],
 "metadata": {
  "kernelspec": {
   "display_name": "Python 2",
   "language": "python",
   "name": "python2"
  },
  "language_info": {
   "codemirror_mode": {
    "name": "ipython",
    "version": 2
   },
   "file_extension": ".py",
   "mimetype": "text/x-python",
   "name": "python",
   "nbconvert_exporter": "python",
   "pygments_lexer": "ipython2",
   "version": "2.7.6"
  }
 },
 "nbformat": 4,
 "nbformat_minor": 2
}
