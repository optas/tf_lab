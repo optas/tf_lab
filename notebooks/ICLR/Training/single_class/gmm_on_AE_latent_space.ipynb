{
 "cells": [
  {
   "cell_type": "code",
   "execution_count": 1,
   "metadata": {
    "collapsed": false,
    "deletable": true,
    "editable": true
   },
   "outputs": [
    {
     "name": "stdout",
     "output_type": "stream",
     "text": [
      "Picking GPU 2\n"
     ]
    }
   ],
   "source": [
    "from general_tools.notebook.gpu_utils import setup_one_gpu\n",
    "GPU = 2\n",
    "setup_one_gpu(GPU)"
   ]
  },
  {
   "cell_type": "code",
   "execution_count": 4,
   "metadata": {
    "collapsed": false
   },
   "outputs": [],
   "source": [
    "import sys\n",
    "import numpy as np\n",
    "import os.path as osp\n",
    "import tensorflow as tf\n",
    "import matplotlib.pyplot as plt\n",
    "from sklearn import mixture\n",
    "\n",
    "from geo_tool import Point_Cloud\n",
    "\n",
    "from general_tools.notebook.tf import reset_tf_graph\n",
    "from general_tools.in_out.basics import create_dir\n",
    "\n",
    "from tf_lab.in_out.basics import Data_Splitter, read_saved_epochs\n",
    "from tf_lab.point_clouds.ae_templates import mlp_architecture_ala_iclr_18, default_train_params\n",
    "from tf_lab.point_clouds.autoencoder import Configuration as Conf\n",
    "from tf_lab.point_clouds.point_net_ae import PointNetAutoEncoder\n",
    "from tf_lab.point_clouds.in_out import load_point_clouds_from_filenames, PointCloudDataSet\n",
    "from tf_lab.point_clouds.convenience import reconstruct_pclouds, get_latent_codes\n",
    "\n",
    "from tf_lab.data_sets.shape_net import pc_loader as snc_loader\n",
    "from tf_lab.data_sets.shape_net import snc_category_to_synth_id\n",
    "from tf_lab.nips.helper import pclouds_centered_and_half_sphere\n",
    "from tf_lab.iclr.helper import load_multiple_version_of_pcs, find_best_validation_epoch_from_train_stats\n",
    "\n",
    "from tf_lab.evaluate.generative_pc_nets import entropy_of_occupancy_grid, jensen_shannon_divergence"
   ]
  },
  {
   "cell_type": "code",
   "execution_count": 5,
   "metadata": {
    "collapsed": false,
    "deletable": true,
    "editable": true
   },
   "outputs": [],
   "source": [
    "%load_ext autoreload\n",
    "%matplotlib inline\n",
    "%autoreload 2"
   ]
  },
  {
   "cell_type": "code",
   "execution_count": 8,
   "metadata": {
    "collapsed": true
   },
   "outputs": [],
   "source": [
    "def identity(x):\n",
    "    return x\n",
    "\n",
    "pc_normalizer = pclouds_centered_and_half_sphere\n",
    "pc_normalizer = identity"
   ]
  },
  {
   "cell_type": "code",
   "execution_count": 9,
   "metadata": {
    "collapsed": false,
    "deletable": true,
    "editable": true
   },
   "outputs": [],
   "source": [
    "top_data_dir = '/orions4-zfs/projects/optas/DATA'\n",
    "class_name = 'chair'\n",
    "syn_id = snc_category_to_synth_id()[class_name]\n",
    "n_pc_points = 2048\n",
    "n_pc_versions = 1 # load ae trained with that many versions of PCs per mesh.\n",
    "voxel_resolution = 28\n",
    "cmp_in_sphere = True"
   ]
  },
  {
   "cell_type": "code",
   "execution_count": 10,
   "metadata": {
    "collapsed": false
   },
   "outputs": [
    {
     "name": "stdout",
     "output_type": "stream",
     "text": [
      "Loading test data.\n",
      "/orions4-zfs/projects/optas/DATA/Point_Clouds/Shape_Net/Splits/single_class_splits/03001627/85_5_10/test.txt\n",
      "679 pclouds were loaded. They belong in 1 shape-classes.\n",
      "Loading train data.\n",
      "/orions4-zfs/projects/optas/DATA/Point_Clouds/Shape_Net/Splits/single_class_splits/03001627/85_5_10/train.txt\n",
      "5761 pclouds were loaded. They belong in 1 shape-classes.\n",
      "Loading val data.\n",
      "/orions4-zfs/projects/optas/DATA/Point_Clouds/Shape_Net/Splits/single_class_splits/03001627/85_5_10/val.txt\n",
      "338 pclouds were loaded. They belong in 1 shape-classes.\n"
     ]
    }
   ],
   "source": [
    "in_data = load_multiple_version_of_pcs('uniform_one', syn_id, n_classes=1)\n",
    "train_data = in_data['train'].point_clouds\n",
    "test_data = in_data['test'].point_clouds\n",
    "val_data = in_data['val'].point_clouds"
   ]
  },
  {
   "cell_type": "code",
   "execution_count": 11,
   "metadata": {
    "collapsed": true
   },
   "outputs": [],
   "source": [
    "# Prepare GT for JSD comparisons\n",
    "train_data = pc_normalizer(train_data)\n",
    "test_data = pc_normalizer(test_data) \n",
    "val_data = pc_normalizer(val_data)\n",
    "\n",
    "_, train_grid_var = entropy_of_occupancy_grid(train_data, voxel_resolution, in_sphere=cmp_in_sphere)\n",
    "_, test_grid_var = entropy_of_occupancy_grid(test_data, voxel_resolution, in_sphere=cmp_in_sphere)\n",
    "_, val_grid_var = entropy_of_occupancy_grid(val_data, voxel_resolution, in_sphere=cmp_in_sphere)"
   ]
  },
  {
   "cell_type": "code",
   "execution_count": 7,
   "metadata": {
    "collapsed": false
   },
   "outputs": [
    {
     "data": {
      "text/plain": [
       "'/orions4-zfs/projects/optas/DATA/OUT/iclr/synthetic_samples/gmm/emd'"
      ]
     },
     "execution_count": 7,
     "metadata": {},
     "output_type": "execute_result"
    }
   ],
   "source": [
    "ae_loss = 'emd'\n",
    "b_necks = [128]\n",
    "\n",
    "# cov_types = ['full', 'diag']\n",
    "# diag_n_clusters = [5, 10, 20, 30, 128]\n",
    "# full_n_clusters = range(2, 31, 2)\n",
    "# top_out_dir = osp.join('/orions4-zfs/projects/optas/DATA/OUT/iclr/synthetic_samples/gmm', ae_loss)\n",
    "# create_dir(top_out_dir)"
   ]
  },
  {
   "cell_type": "code",
   "execution_count": 8,
   "metadata": {
    "collapsed": true
   },
   "outputs": [],
   "source": [
    "def load_an_auto_encoder(b_neck, ae_loss, n_pc_versions, n_pc_points=2048):\n",
    "    # Load Auto-Encoder\n",
    "    \n",
    "    ae_experiment_tag = 'mlp_with_split_' + str(n_pc_versions) + 'pc_usampled_bnorm_on_encoder_only'\n",
    "    ae_id = '_'.join(['ae', class_name, ae_experiment_tag, str(n_pc_points), 'pts', str(b_neck), 'bneck', ae_loss])    \n",
    "    ae_train_dir = osp.join(top_data_dir, 'OUT/iclr/nn_models/', ae_id)\n",
    "    ae_conf = Conf.load(osp.join(ae_train_dir, 'configuration'))\n",
    "    \n",
    "    val_error, best_epoch = find_best_validation_epoch_from_train_stats(osp.join(ae_train_dir, 'train_stats.txt'))\n",
    "        \n",
    "    if best_epoch % ae_conf.saver_step != 0:\n",
    "        best_epoch += best_epoch % ae_conf.saver_step\n",
    "\n",
    "    ae_conf.encoder_args['verbose'] = False\n",
    "    ae_conf.decoder_args['verbose'] = False\n",
    "\n",
    "    reset_tf_graph()\n",
    "    ae = PointNetAutoEncoder(ae_conf.experiment_name, ae_conf)\n",
    "    ae.restore_model(ae_conf.train_dir, best_epoch, verbose=True)\n",
    "    return ae\n",
    "\n",
    "def jsd_on_reconstructed_data(ae_model, pclouds, cmp_grid_var, voxel_resolution, cmp_in_sphere):\n",
    "    recon, _ = reconstruct_pclouds(ae_model, pclouds, batch_size=100)\n",
    "    recon = pclouds_centered_and_half_sphere(recon)\n",
    "    _, recon_grid_var = entropy_of_occupancy_grid(recon, voxel_resolution, in_sphere=cmp_in_sphere)\n",
    "    return jensen_shannon_divergence(recon_grid_var, cmp_grid_var)"
   ]
  },
  {
   "cell_type": "code",
   "execution_count": 9,
   "metadata": {
    "collapsed": false
   },
   "outputs": [
    {
     "name": "stdout",
     "output_type": "stream",
     "text": [
      "Model restored in epoch 430.\n",
      "bneck size: 128\n",
      "Train-Test JSD of the AE-decoded data: (Train-Test-Val)\n",
      "0.0027059559316 0.00701035696729 0.0108586368304\n",
      "cov-type n_clusters -train_jsd -test_jsd, -val_jsd\n",
      "full 2 0.0117282525845 0.015247552279 0.0195558837596\n",
      "-3629612.51416 -119813.926707 -3741275.04398 -183922.583329\n",
      "cov-type n_clusters -train_jsd -test_jsd, -val_jsd\n",
      "full 4 0.00821402134792 0.0115882067153 0.0162379955711\n",
      "-3673056.27915 -31211.3533302 -3896387.99765 -159432.489619\n",
      "cov-type n_clusters -train_jsd -test_jsd, -val_jsd\n",
      "full 6 0.00732867060932 0.0111244447567 0.0154588609194\n",
      "-3597034.96303 64118.4995923 -3932035.87022 -128215.116364\n",
      "cov-type n_clusters -train_jsd -test_jsd, -val_jsd\n",
      "full 8 0.00664067836693 0.01027715697 0.0150655312804\n",
      "-3517182.34679 162055.537506 -3963852.44266 -94390.5581167\n",
      "cov-type n_clusters -train_jsd -test_jsd, -val_jsd\n",
      "full 10 0.00602765581759 0.010000038167 0.0138865495735\n",
      "-3428084.97657 266285.41688 -3986424.26113 -54273.1584102\n",
      "cov-type n_clusters -train_jsd -test_jsd, -val_jsd\n",
      "full 12 0.00550965901744 0.00946142975399 0.0136939703351\n",
      "-3332329.61871 366276.741958 -4002338.09196 -18394.3129991\n",
      "cov-type n_clusters -train_jsd -test_jsd, -val_jsd\n",
      "full 14 0.00550208517443 0.00975661963511 0.0139929910122\n",
      "-3254390.00274 464277.823416 -4036067.66467 15494.2887914\n",
      "cov-type n_clusters -train_jsd -test_jsd, -val_jsd\n",
      "full 16 0.00568333256854 0.00960833426326 0.0143191416016\n",
      "-3133617.46792 567115.05948 -4026964.31854 54219.0451874\n",
      "cov-type n_clusters -train_jsd -test_jsd, -val_jsd\n",
      "full 18 0.00495328287122 0.00918146799951 0.013511359774\n",
      "-3031855.90828 672096.724861 -4036871.94758 95088.2309021\n",
      "cov-type n_clusters -train_jsd -test_jsd, -val_jsd\n",
      "full 20 0.00542569988637 0.00945279595618 0.0140659491569\n",
      "-2927203.09513 771825.230953 -4043888.32311 130704.257326\n",
      "cov-type n_clusters -train_jsd -test_jsd, -val_jsd\n",
      "full 22 0.00503652793435 0.00901504928321 0.0135783008466\n",
      "-2834880.01057 876347.149468 -4063234.42724 171113.696175\n",
      "cov-type n_clusters -train_jsd -test_jsd, -val_jsd\n",
      "full 24 0.00497441701494 0.00900989637884 0.0136605971187\n",
      "-2748218.42259 977032.792882 -4088242.02795 207686.85992\n",
      "cov-type n_clusters -train_jsd -test_jsd, -val_jsd\n",
      "full 26 0.0050163123593 0.00920368668754 0.0134995733688\n",
      "-2641452.82484 1082767.21829 -4093145.61888 249308.80566\n",
      "cov-type n_clusters -train_jsd -test_jsd, -val_jsd\n",
      "full 28 0.00483812636538 0.00899626863895 0.0136100959099\n",
      "-2555872.43899 1199918.08038 -4119234.42171 302347.188085\n",
      "cov-type n_clusters -train_jsd -test_jsd, -val_jsd\n",
      "full 30 0.00485191033972 0.00888624432403 0.0137762998848\n",
      "-2482504.57082 1319327.57491 -4157535.74223 357644.202946\n",
      "cov-type n_clusters -train_jsd -test_jsd, -val_jsd\n",
      "diag 5 0.0306135338513 0.0335715453752 0.0355377921053\n",
      "-2865307.06245 -160031.405443 -2873857.04684 -164940.196373\n",
      "cov-type n_clusters -train_jsd -test_jsd, -val_jsd\n",
      "diag 10 0.01963234774 0.0219138721518 0.0265778380176\n",
      "-3007796.58313 -160917.632816 -3024903.21078 -170739.037722\n",
      "cov-type n_clusters -train_jsd -test_jsd, -val_jsd\n",
      "diag 20 0.0149184200637 0.0174265559643 0.0219227585453\n",
      "-3120849.01863 -152419.672761 -3155068.9328 -172066.305618\n",
      "cov-type n_clusters -train_jsd -test_jsd, -val_jsd\n",
      "diag 30 0.0137179260741 0.0162021104672 0.0211600813477\n",
      "-3170321.19834 -142260.971065 -3221654.39903 -171732.831873\n",
      "cov-type n_clusters -train_jsd -test_jsd, -val_jsd\n",
      "diag 128 0.00831907976671 0.0117145908882 0.0166421750104\n",
      "-3241302.76452 -7159.15263878 -3460346.17309 -132918.247371\n"
     ]
    }
   ],
   "source": [
    "for b_neck in b_necks:\n",
    "    \n",
    "    ae_model = load_an_auto_encoder(b_neck, ae_loss, n_pc_versions)\n",
    "    latent_codes = get_latent_codes(ae_model, train_data)\n",
    "    val_latent_codes = get_latent_codes(ae_model, val_data)\n",
    "    \n",
    "    print 'bneck size:', b_neck\n",
    "    j1 = jsd_on_reconstructed_data(ae_model, train_data, train_grid_var, voxel_resolution, cmp_in_sphere)\n",
    "    j2 = jsd_on_reconstructed_data(ae_model, test_data, test_grid_var, voxel_resolution, cmp_in_sphere)\n",
    "    j3 = jsd_on_reconstructed_data(ae_model, val_data, val_grid_var, voxel_resolution, cmp_in_sphere)\n",
    "    \n",
    "    print 'Train-Test JSD of the AE-decoded data: (Train-Test-Val)'\n",
    "    print j1, j2, j3\n",
    "    \n",
    "    for cov_t in cov_types:\n",
    "        if cov_t == 'diag':\n",
    "            choose_from = diag_n_clusters\n",
    "        else: \n",
    "            choose_from = full_n_clusters\n",
    "        \n",
    "        for n_cluster in choose_from:            \n",
    "            gmm = mixture.GaussianMixture(n_cluster, cov_t)\n",
    "            gmm.fit(latent_codes)\n",
    "            sample_codes = gmm.sample(len(latent_codes))[0]\n",
    "            gmm_pcs = ae_model.decode(sample_codes)            \n",
    "            tag = '_'.join(['bneck', str(b_neck), cov_t, str(n_cluster), 'gaussians'])\n",
    "            np.savez(osp.join(top_out_dir, tag), gmm_pcs)\n",
    "                        \n",
    "            gmm_pcs = pclouds_centered_and_half_sphere(gmm_pcs)            \n",
    "            _, gmm_grid_var = entropy_of_occupancy_grid(gmm_pcs, voxel_resolution, in_sphere=cmp_in_sphere)\n",
    "            \n",
    "            tr_jsd = jensen_shannon_divergence(gmm_grid_var, train_grid_var)\n",
    "            te_jsd = jensen_shannon_divergence(gmm_grid_var, test_grid_var)\n",
    "            val_jsd = jensen_shannon_divergence(gmm_grid_var, val_grid_var)\n",
    "            \n",
    "            print 'cov-type n_clusters -train_jsd -test_jsd, -val_jsd'\n",
    "            print cov_t, n_cluster, tr_jsd, te_jsd, val_jsd\n",
    "            print gmm.bic(latent_codes), gmm.bic(val_latent_codes), gmm.aic(latent_codes), gmm.aic(val_latent_codes)"
   ]
  }
 ],
 "metadata": {
  "kernelspec": {
   "display_name": "Python 2",
   "language": "python",
   "name": "python2"
  },
  "language_info": {
   "codemirror_mode": {
    "name": "ipython",
    "version": 2
   },
   "file_extension": ".py",
   "mimetype": "text/x-python",
   "name": "python",
   "nbconvert_exporter": "python",
   "pygments_lexer": "ipython2",
   "version": "2.7.6"
  }
 },
 "nbformat": 4,
 "nbformat_minor": 2
}
